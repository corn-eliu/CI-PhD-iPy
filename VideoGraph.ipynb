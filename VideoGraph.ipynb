{
 "metadata": {
  "name": "",
  "signature": "sha256:fd5de696704a7cc6ac4aac11e67637983932d831f0f48500758ef0fcce5f6d78"
 },
 "nbformat": 3,
 "nbformat_minor": 0,
 "worksheets": [
  {
   "cells": [
    {
     "cell_type": "code",
     "collapsed": false,
     "input": [
      "## Imports and defines\n",
      "%pylab\n",
      "import numpy as np\n",
      "import scipy as sp\n",
      "import cv2\n",
      "import glob\n",
      "import time\n",
      "import sys\n",
      "\n",
      "from Queue import Queue\n",
      "\n",
      "from pygraph.classes.digraph import digraph\n",
      "from pygraph.classes.graph import graph\n",
      "from pygraph.readwrite.dot import write\n",
      "from pygraph.algorithms.minmax import shortest_path\n",
      "\n",
      "# import pygraphviz as gv\n",
      "\n",
      "import VideoTexturesUtils as vtu\n",
      "import GraphWithValues as gwv\n",
      "\n",
      "dataFolder = \"/home/ilisescu/PhD/data/\""
     ],
     "language": "python",
     "metadata": {},
     "outputs": [
      {
       "output_type": "stream",
       "stream": "stdout",
       "text": [
        "Using matplotlib backend: TkAgg\n",
        "Populating the interactive namespace from numpy and matplotlib\n"
       ]
      }
     ],
     "prompt_number": 2
    },
    {
     "cell_type": "code",
     "collapsed": false,
     "input": [
      "def gauss(x, mean, variance) :\n",
      "    normTerm = 1.0#np.sqrt(2*variance*np.pi)\n",
      "    return np.exp(-np.power(x-mean, 2.0)/(2*variance))/normTerm\n",
      "\n",
      "def multiGauss(X, Y, theta, mean, variance) :\n",
      "    normTerm = 1.0#np.sqrt(np.linalg.det(covar)*np.power(2*np.pi, x.shape[0]))\n",
      "    if len(mean) != 2 or len(variance) != 2 :\n",
      "        raise BaseException, \"multiGauss needs as many means and variances as k, where k=2\"\n",
      "        \n",
      "    a = (np.cos(theta)**2)/(2*variance[0])+(np.sin(theta)**2)/(2*variance[1])\n",
      "    b = np.sin(2*theta)/(4*variance[0])+np.sin(2*theta)/(4*variance[1])\n",
      "    c = (np.sin(theta)**2)/(2*variance[0])+(np.cos(theta)**2)/(2*variance[1])\n",
      "    \n",
      "    return np.exp(-(a*np.power(X-mean[0], 2)+2*b*(X-mean[0])*(Y-mean[1])+c*np.power(Y-mean[1], 2)))/normTerm"
     ],
     "language": "python",
     "metadata": {},
     "outputs": [],
     "prompt_number": 3
    },
    {
     "cell_type": "code",
     "collapsed": false,
     "input": [
      "def smoothStep(x, mean, interval, steepness) :\n",
      "    a = mean-np.floor(interval/2.0)\n",
      "    b = mean-np.floor((interval*steepness)/2.0)\n",
      "    c = mean+np.ceil((interval*steepness)/2.0)\n",
      "    d = mean+np.ceil(interval/2.0)\n",
      "    print a, b, c, d\n",
      "    \n",
      "    ## find step from 0 to 1\n",
      "    step1 = np.clip((x - a)/(b - a), 0.0, 1.0);\n",
      "    step1 = step1*step1*step1*(step1*(step1*6 - 15) + 10);\n",
      "    \n",
      "    ## find step from 1 to 0\n",
      "    step2 = np.clip((x - d)/(c - d), 0.0, 1.0);\n",
      "    step2 = step2*step2*step2*(step2*(step2*6 - 15) + 10);\n",
      "    \n",
      "    ## combine the two steps together\n",
      "    result = np.zeros(x.shape)\n",
      "    result += step1\n",
      "    result[np.argwhere(step2 != 1.0)] = step2[np.argwhere(step2 != 1.0)]\n",
      "    return result;"
     ],
     "language": "python",
     "metadata": {},
     "outputs": [],
     "prompt_number": 4
    },
    {
     "cell_type": "code",
     "collapsed": false,
     "input": [
      "rangeCurves = np.zeros(1272)\n",
      "initialNodes = np.array([30, 142, 516, 838, 1106])-5\n",
      "intervals = np.array([45, 211, 461, 169, 339])\n",
      "\n",
      "for node, inter in zip(initialNodes, intervals) :\n",
      "    ## the variances should be set according to situation range\n",
      "#     rangeCurves += gauss(arange(0.0, len(rangeCurves)), float(node), 5.0)\n",
      "    rangeCurves += smoothStep(arange(0.0, len(rangeCurves)), float(node), inter, 0.4)\n",
      "# rangeCurves /= np.max(rangeCurves)\n",
      "figure(); plot(arange(0, len(rangeCurves)), rangeCurves)\n",
      "print rangeCurves"
     ],
     "language": "python",
     "metadata": {},
     "outputs": [
      {
       "output_type": "stream",
       "stream": "stdout",
       "text": [
        "3.0 16.0 34.0 48.0\n",
        "32.0 95.0 180.0 243.0\n",
        "281.0 419.0 604.0 742.0\n",
        "749.0 800.0 867.0 918.0\n",
        "932.0 1034.0 1169.0 1271.0\n",
        "[  0.00000000e+00   0.00000000e+00   0.00000000e+00 ...,   7.31859478e-05\n",
        "   9.28518997e-06   0.00000000e+00]"
       ]
      },
      {
       "output_type": "stream",
       "stream": "stdout",
       "text": [
        "\n"
       ]
      }
     ],
     "prompt_number": 5
    },
    {
     "cell_type": "code",
     "collapsed": false,
     "input": [
      "print initialNodes+1"
     ],
     "language": "python",
     "metadata": {},
     "outputs": [
      {
       "output_type": "stream",
       "stream": "stdout",
       "text": [
        "[  26  138  512  834 1102]\n"
       ]
      }
     ],
     "prompt_number": 8
    },
    {
     "cell_type": "code",
     "collapsed": false,
     "input": [
      "range1DClasses = np.ones((80, 1272, 3))\n",
      "## show classes using same color coding as ribbon ranges from the label propagation\n",
      "range1DClasses[:, :, 0] -= smoothStep(arange(0.0, len(rangeCurves)), float(initialNodes[0]), intervals[0], 0.4)\n",
      "range1DClasses[:, :, 2] -= smoothStep(arange(0.0, len(rangeCurves)), float(initialNodes[0]), intervals[0], 0.4)\n",
      "\n",
      "range1DClasses[:, :, 1] -= smoothStep(arange(0.0, len(rangeCurves)), float(initialNodes[1]), intervals[1], 0.4)\n",
      "range1DClasses[:, :, 2] -= smoothStep(arange(0.0, len(rangeCurves)), float(initialNodes[1]), intervals[1], 0.4)\n",
      "\n",
      "range1DClasses[:, :, 0] -= smoothStep(arange(0.0, len(rangeCurves)), float(initialNodes[2]), intervals[2], 0.4)\n",
      "range1DClasses[:, :, 2] -= smoothStep(arange(0.0, len(rangeCurves)), float(initialNodes[2]), intervals[2], 0.4)\n",
      "\n",
      "range1DClasses[:, :, 0] -= smoothStep(arange(0.0, len(rangeCurves)), float(initialNodes[3]), intervals[3], 0.4)\n",
      "range1DClasses[:, :, 1] -= smoothStep(arange(0.0, len(rangeCurves)), float(initialNodes[3]), intervals[3], 0.4)\n",
      "\n",
      "range1DClasses[:, :, 1] -= smoothStep(arange(0.0, len(rangeCurves)), float(initialNodes[4]), intervals[4], 0.4)\n",
      "\n",
      "figure(); imshow(range1DClasses, interpolation='nearest')\n",
      "axis('off')"
     ],
     "language": "python",
     "metadata": {},
     "outputs": [
      {
       "output_type": "stream",
       "stream": "stdout",
       "text": [
        "3.0 16.0 34.0 48.0\n",
        "3.0 16.0 34.0 48.0\n",
        "32.0 95.0 180.0 243.0\n",
        "32.0 95.0 180.0 243.0\n",
        "281.0 419.0 604.0 742.0\n",
        "281.0 419.0 604.0 742.0\n",
        "749.0 800.0 867.0 918.0\n",
        "749.0 800.0 867.0 918.0\n",
        "932.0 1034.0 1169.0 1271.0\n"
       ]
      },
      {
       "metadata": {},
       "output_type": "pyout",
       "prompt_number": 8,
       "text": [
        "(-0.5, 1271.5, 79.5, -0.5)"
       ]
      }
     ],
     "prompt_number": 8
    },
    {
     "cell_type": "code",
     "collapsed": false,
     "input": [
      "print np.max(range1DClasses)"
     ],
     "language": "python",
     "metadata": {},
     "outputs": [
      {
       "output_type": "stream",
       "stream": "stdout",
       "text": [
        "2.0\n"
       ]
      }
     ],
     "prompt_number": 26
    },
    {
     "cell_type": "code",
     "collapsed": false,
     "input": [
      "def getShortestPath(graph, start, end) :\n",
      "    paths = shortest_path(graph, start)[0]\n",
      "#     print paths\n",
      "    curr = end\n",
      "    path = []\n",
      "    \n",
      "    ## no path from start to end\n",
      "    if curr not in paths :\n",
      "        return np.array(path), -1\n",
      "    \n",
      "    path.append(curr)\n",
      "    while curr != start :\n",
      "        curr = paths[curr]\n",
      "        path.append(curr)\n",
      "        \n",
      "    path = np.array(path)[::-1]\n",
      "    distance = 0\n",
      "    for i in xrange(1, len(path)) :\n",
      "        distance += graph.edge_weight((path[i-1], path[i]))\n",
      "    return path, distance"
     ],
     "language": "python",
     "metadata": {},
     "outputs": [],
     "prompt_number": 9
    },
    {
     "cell_type": "code",
     "collapsed": false,
     "input": [
      "# print getShortestPath(frameGraph, 0, 400)\n",
      "print shortest_path(frameGraph, 0)[1].keys()"
     ],
     "language": "python",
     "metadata": {},
     "outputs": [
      {
       "ename": "NameError",
       "evalue": "name 'frameGraph' is not defined",
       "output_type": "pyerr",
       "traceback": [
        "\u001b[0;31m---------------------------------------------------------------------------\u001b[0m\n\u001b[0;31mNameError\u001b[0m                                 Traceback (most recent call last)",
        "\u001b[0;32m<ipython-input-10-3122cdfe83ef>\u001b[0m in \u001b[0;36m<module>\u001b[0;34m()\u001b[0m\n\u001b[1;32m      1\u001b[0m \u001b[0;31m# print getShortestPath(frameGraph, 0, 400)\u001b[0m\u001b[0;34m\u001b[0m\u001b[0;34m\u001b[0m\u001b[0m\n\u001b[0;32m----> 2\u001b[0;31m \u001b[0;32mprint\u001b[0m \u001b[0mshortest_path\u001b[0m\u001b[0;34m(\u001b[0m\u001b[0mframeGraph\u001b[0m\u001b[0;34m,\u001b[0m \u001b[0;36m0\u001b[0m\u001b[0;34m)\u001b[0m\u001b[0;34m[\u001b[0m\u001b[0;36m1\u001b[0m\u001b[0;34m]\u001b[0m\u001b[0;34m.\u001b[0m\u001b[0mkeys\u001b[0m\u001b[0;34m(\u001b[0m\u001b[0;34m)\u001b[0m\u001b[0;34m\u001b[0m\u001b[0m\n\u001b[0m",
        "\u001b[0;31mNameError\u001b[0m: name 'frameGraph' is not defined"
       ]
      }
     ],
     "prompt_number": 10
    },
    {
     "cell_type": "code",
     "collapsed": false,
     "input": [
      "# Draw graph as PNG\n",
      "def drawGraph(graph, name, yes) :\n",
      "    if yes :\n",
      "        dot = write(graph)\n",
      "        gvv = gv.AGraph()\n",
      "        gvv.from_string(dot)\n",
      "        gvv.layout(prog='circo')\n",
      "        gvv.draw(path=name)"
     ],
     "language": "python",
     "metadata": {},
     "outputs": [],
     "prompt_number": 5
    },
    {
     "cell_type": "code",
     "collapsed": false,
     "input": [
      "def findBestLoops(windowSize, minLoopLength, costMatrix, way) : \n",
      "    ## find best loops with sliding window and min loop length\n",
      "    ## maybe change windowSize this value based on average loop length after a preliminary first pass or numFrames\n",
      "    costMat = np.copy(costMatrix)\n",
      "    # only allow backwards transitions\n",
      "    if way == 'forward' :\n",
      "        costMat[np.tril_indices(len(costMat), k=minLoopLength-1)] = np.max(costMat)\n",
      "    elif way == 'backward' :\n",
      "        costMat[np.triu_indices(len(costMat), k=-minLoopLength+1)] = np.max(costMat)\n",
      "#     figure(); imshow(costMat, interpolation='nearest')\n",
      "    \n",
      "    bestLoops = []\n",
      "    currentMinCost = np.max(costMat)\n",
      "    currentBestTransition = [-1, -1]\n",
      "    bestLoopsCosts = []\n",
      "    for i in xrange(minLoopLength, costMat.shape[0], windowSize) :\n",
      "        j = costMat[i:i+windowSize, :]\n",
      "        sortIndices = np.argsort(j, axis=-1)\n",
      "        if np.min(np.sort(j, axis=-1)[:, 0]) <= currentMinCost :\n",
      "#             print \"better from\", currentMinCost,\n",
      "            currentMinCost = np.min(np.sort(j, axis=-1)[:, 0])\n",
      "            currentBestTransition = [sortIndices[np.argmin(np.sort(j, axis=-1)[:, 0]), 0], i+np.argmin(np.sort(j, axis=-1)[:, 0])]\n",
      "        else :\n",
      "#             print \"new best\", currentMinCost, currentBestTransition, np.min(np.sort(j, axis=-1)[:, 0])\n",
      "            bestLoopsCosts.append(currentMinCost)\n",
      "            bestLoops.append(currentBestTransition)\n",
      "            currentMinCost = np.max(costMat)\n",
      "    \n",
      "    ## not sure if I should keep the last best transition \n",
      "    if not np.all(bestLoops[-1] == currentBestTransition) and not np.all(bestLoopsCosts[-1] == currentMinCost):\n",
      "        bestLoopsCosts.append(currentMinCost)\n",
      "        bestLoops.append(currentBestTransition)\n",
      "        \n",
      "    \n",
      "    ## only keep transitions with cost lower than median plus certain percentage\n",
      "    thresh = 0.1 ## maybe change this depending on how many potential transitions have been found \n",
      "                 ## (the more, the higher the probability that there are more outliers so lower tresh should be)\n",
      "    medianCost = np.median(bestLoopsCosts)\n",
      "    goodTransitions = np.ndarray.flatten(np.argwhere(bestLoopsCosts <= medianCost+medianCost*thresh))\n",
      "    print \"keeping\", len(goodTransitions), \"of\", len(bestLoopsCosts)\n",
      "    bestLoopsCosts = np.array(bestLoopsCosts)[goodTransitions]\n",
      "    bestLoops = np.array(bestLoops)[goodTransitions, :]\n",
      "    # bestLoops = np.reshape(bestLoops, (len(bestLoops), 2))\n",
      "#     print bestLoopsCosts\n",
      "\n",
      "    return bestLoops"
     ],
     "language": "python",
     "metadata": {},
     "outputs": [],
     "prompt_number": 6
    },
    {
     "cell_type": "code",
     "collapsed": false,
     "input": [
      "## start from a set of frames (i.e. initNodes, 1 for each situation) and add frames that can be played together\n",
      "def buildGraph(initNodes, weights, ranges, numBest, minLoopLength, minMaxIterations, drawOnPng, initGraph) : \n",
      "    if initGraph != None : \n",
      "        gr = initGraph\n",
      "    else :\n",
      "        gr = digraph()\n",
      "    for initNode in initNodes :\n",
      "        if initNode not in gr.nodes() :\n",
      "            gr.add_node(initNode)\n",
      "    for i in xrange(0, minMaxIterations[1]) :\n",
      "        ## for each node find the best node to go to next and the best node to get there from\n",
      "        printout = '\\r' + \"Iteration \" + np.string_(i+1) + \"(\" + np.string_(len(gr.nodes())) + \", \" + np.string_(len(gr.edges())) + \"); \"\n",
      "        ## check if all initNodes have been connected by graph\n",
      "        finished = True\n",
      "        ## check initNodes are connected\n",
      "        for i1, i2 in zip(initNodes, np.roll(initNodes, 1)) :\n",
      "#             print \"t\", i1, i2\n",
      "            if i2 in shortest_path(gr, i1)[0] and i1 in shortest_path(gr, i2)[0] :\n",
      "                printout += \"conn \" + np.string_(i1) + \"-\" + np.string_(i2) + \" \"\n",
      "            else :\n",
      "                finished = False\n",
      "        sys.stdout.write(printout)\n",
      "        sys.stdout.flush()\n",
      "        \n",
      "        if finished and i >= minMaxIterations[0]: \n",
      "            print \"finished\"\n",
      "            break\n",
      "        \n",
      "        for node in gr.nodes():\n",
      "            ## add node for frame node-1 and connect to node\n",
      "            if node-1 >= 0 :\n",
      "                if node-1 not in gr.nodes() :\n",
      "                    gr.add_node(node-1)\n",
      "                    \n",
      "                if (node-1, node) not in gr.edges() :\n",
      "                    gr.add_edge((node-1, node), wt=weights[node-1, node], label=np.str(weights[node-1, node]))\n",
      "                else :\n",
      "                    gr.set_edge_weight((node-1, node), weights[node-1, node])\n",
      "                    gr.set_edge_label((node-1, node), np.str(weights[node-1, node]))\n",
      "            \n",
      "            ## add node for frame node+1 and connect to node\n",
      "            if node+1 < weights.shape[-1] :\n",
      "                if node+1 not in gr.nodes() :\n",
      "                    gr.add_node(node+1)\n",
      "                \n",
      "                if (node, node+1) not in gr.edges() :\n",
      "                    gr.add_edge((node, node+1), wt=weights[node, node+1], label=np.str(weights[node, node+1]))\n",
      "                else :\n",
      "                    gr.set_edge_weight((node, node+1), weights[node, node+1])\n",
      "                    gr.set_edge_label((node, node+1), np.str(weights[node, node+1]))\n",
      "            \n",
      "            ## order transitions based on weights and keep n best s.t. n is higher the further away from center\n",
      "            bestTransitions = np.argsort(weights[node, :])\n",
      "            bestTransitions = bestTransitions[np.where(np.abs(bestTransitions-node) > minLoopLength)]\n",
      "            bestTransitions = bestTransitions[0:5*(1-ranges[node])]\n",
      "#             print node, bestTransitions\n",
      "            \n",
      "            for bt in bestTransitions :\n",
      "                ## check timewise neighbors of node for transitions to bt\n",
      "                neighSize = 5\n",
      "                neighs = arange(node-neighSize, node+neighSize+1, dtype=int)\n",
      "                btWeight = weights[node, bt]\n",
      "#                 print \"weight\", btWeight\n",
      "\n",
      "                addEdge = True\n",
      "                for neigh in np.delete(neighs, np.where(neighs == node)) :\n",
      "                    if (neigh, bt) in gr.edges() : \n",
      "                        if gr.edge_weight((neigh, bt)) >= btWeight :\n",
      "#                             print \"remove edge\", neigh, bt, gr.edge_weight((neigh, bt))\n",
      "                            gr.del_edge((neigh, bt))\n",
      "                        else :\n",
      "#                             print \"found better connected neighbour\", neigh, bt, gr.edge_weight((neigh, bt))\n",
      "                            addEdge = False\n",
      "                \n",
      "                if addEdge :\n",
      "#                     print \"new edge\", node, bt\n",
      "                    if bt not in gr.nodes() :\n",
      "                        gr.add_node(bt)\n",
      "                    \n",
      "                    if (node, bt) not in gr.edges() :\n",
      "                        gr.add_edge((node, bt), wt=btWeight, label=np.str(btWeight))\n",
      "                    else :\n",
      "                        gr.set_edge_weight((node, bt), btWeight)\n",
      "                        gr.set_edge_label((node, bt), np.str(btWeight))\n",
      "            \n",
      "    drawGraph(gr, \"frameGraph.png\", drawOnPng)\n",
      "    return gr"
     ],
     "language": "python",
     "metadata": {},
     "outputs": [],
     "prompt_number": 22
    },
    {
     "cell_type": "code",
     "collapsed": false,
     "input": [
      "## start from a set of frames (i.e. initNodes, 1 for each situation) and add frames that can be played together\n",
      "def buildGraph(initNodes, weights, ranges, numBest, minLoopLength, minMaxIterations, drawOnPng, initGraph) : \n",
      "    if initGraph != None : \n",
      "        gr = initGraph\n",
      "    else :\n",
      "        gr = digraph()\n",
      "    for initNode in initNodes :\n",
      "        if initNode not in gr.nodes() :\n",
      "            gr.add_node(initNode)\n",
      "    \n",
      "    q = Queue()\n",
      "    for node in gr.nodes():\n",
      "        q.put(node)\n",
      "        \n",
      "#     for i in xrange(0, minMaxIterations[1]) :\n",
      "#         ## for each node find the best node to go to next and the best node to get there from\n",
      "#         printout = '\\r' + \"Iteration \" + np.string_(i+1) + \"(\" + np.string_(len(gr.nodes())) + \", \" + np.string_(len(gr.edges())) + \"); \"\n",
      "#         ## check if all initNodes have been connected by graph\n",
      "#         finished = True\n",
      "#         ## check initNodes are connected\n",
      "#         for i1, i2 in zip(initNodes, np.roll(initNodes, 1)) :\n",
      "# #             print \"t\", i1, i2\n",
      "#             if i2 in shortest_path(gr, i1)[0] and i1 in shortest_path(gr, i2)[0] :\n",
      "#                 printout += \"conn \" + np.string_(i1) + \"-\" + np.string_(i2) + \" \"\n",
      "#             else :\n",
      "#                 finished = False\n",
      "#         sys.stdout.write(printout)\n",
      "#         sys.stdout.flush()\n",
      "        \n",
      "#         if finished and i >= minMaxIterations[0]: \n",
      "#             print \"finished\"\n",
      "#             break\n",
      "        \n",
      "    while not q.empty() :\n",
      "        \n",
      "        sys.stdout.write(\"\\rNodes remaining \" + np.string_(q.qsize()))\n",
      "        sys.stdout.flush()\n",
      "        \n",
      "        node = q.get()\n",
      "        ## add node for frame node-1 and connect to node\n",
      "        if node-1 >= 0 :\n",
      "            if node-1 not in gr.nodes() :\n",
      "                gr.add_node(node-1)\n",
      "                q.put(node-1)\n",
      "                \n",
      "            if (node-1, node) not in gr.edges() :\n",
      "                gr.add_edge((node-1, node), wt=weights[node-1, node], label=np.str(weights[node-1, node]))\n",
      "            else :\n",
      "                gr.set_edge_weight((node-1, node), weights[node-1, node])\n",
      "                gr.set_edge_label((node-1, node), np.str(weights[node-1, node]))\n",
      "        \n",
      "        ## add node for frame node+1 and connect to node\n",
      "        if node+1 < weights.shape[-1] :\n",
      "            if node+1 not in gr.nodes() :\n",
      "                gr.add_node(node+1)\n",
      "                q.put(node+1)\n",
      "            \n",
      "            if (node, node+1) not in gr.edges() :\n",
      "                gr.add_edge((node, node+1), wt=weights[node, node+1], label=np.str(weights[node, node+1]))\n",
      "            else :\n",
      "                gr.set_edge_weight((node, node+1), weights[node, node+1])\n",
      "                gr.set_edge_label((node, node+1), np.str(weights[node, node+1]))\n",
      "        \n",
      "        ## order transitions based on weights and keep n best s.t. n is higher the further away from center\n",
      "        bestTransitions = np.argsort(weights[node, :])\n",
      "        bestTransitions = bestTransitions[np.where(np.abs(bestTransitions-node) > minLoopLength)]\n",
      "        bestTransitions = bestTransitions[0:5*(1-ranges[node])]\n",
      "#             print node, bestTransitions\n",
      "        \n",
      "        for bt in bestTransitions :\n",
      "            ## check timewise neighbors of node for transitions to bt\n",
      "            neighSize = 5\n",
      "            neighs = arange(node-neighSize, node+neighSize+1, dtype=int)\n",
      "            btWeight = weights[node, bt]\n",
      "#                 print \"weight\", btWeight\n",
      "\n",
      "            addEdge = True\n",
      "            for neigh in np.delete(neighs, np.where(neighs == node)) :\n",
      "                if (neigh, bt) in gr.edges() : \n",
      "                    if gr.edge_weight((neigh, bt)) >= btWeight :\n",
      "#                             print \"remove edge\", neigh, bt, gr.edge_weight((neigh, bt))\n",
      "                        gr.del_edge((neigh, bt))\n",
      "                    else :\n",
      "#                             print \"found better connected neighbour\", neigh, bt, gr.edge_weight((neigh, bt))\n",
      "                        addEdge = False\n",
      "            \n",
      "            if addEdge :\n",
      "#                     print \"new edge\", node, bt\n",
      "                if bt not in gr.nodes() :\n",
      "                    gr.add_node(bt)\n",
      "                    q.put(bt)\n",
      "                \n",
      "                if (node, bt) not in gr.edges() :\n",
      "                    gr.add_edge((node, bt), wt=btWeight, label=np.str(btWeight))\n",
      "                else :\n",
      "                    gr.set_edge_weight((node, bt), btWeight)\n",
      "                    gr.set_edge_label((node, bt), np.str(btWeight))\n",
      "                    \n",
      "                ## add the node the opposite way\n",
      "                if (bt, node) not in gr.edges() :\n",
      "                    gr.add_edge((bt, node), wt=weights[bt, node], label=np.str(weights[bt, node]))\n",
      "                else :\n",
      "                    gr.set_edge_weight((bt, node), weights[bt, node])\n",
      "                    gr.set_edge_label((bt, node), np.str(weights[bt, node]))\n",
      "            \n",
      "    drawGraph(gr, \"frameGraph.png\", drawOnPng)\n",
      "    return gr"
     ],
     "language": "python",
     "metadata": {},
     "outputs": [],
     "prompt_number": 17
    },
    {
     "cell_type": "code",
     "collapsed": false,
     "input": [
      "## made up data of a dot moving left to right and top to bottom\n",
      "frameSize = np.array([7, 7, 3])\n",
      "numFrames = 31\n",
      "movie = np.zeros(np.hstack([frameSize[0], frameSize[1], frameSize[2], numFrames]), dtype=uint8)\n",
      "movie[3, 0, :, 0] = movie[3, 1, :, 1] = movie[3, 2, :, 2] = movie[3, 3, :, 3] = movie[3, 4, :, 4] = 255\n",
      "movie[3, 5, :, 5] = movie[3, 6, :, 6] = movie[3, 5, :, 7] = movie[3, 4, :, 8] = movie[3, 3, :, 9] = 255\n",
      "movie[3, 2, :, 10] = movie[3, 1, :, 11] = movie[3, 0, :, 12] = movie[3, 1, :, 13] = movie[3, 2, :, 14] = 255\n",
      "movie[3, 3, :, 15] = movie[2, 3, :, 16] = movie[1, 3, :, 17] = movie[0, 3, :, 18] = movie[1, 3, :, 19] = 255\n",
      "movie[2, 3, :, 20] = movie[3, 3, :, 21] = movie[4, 3, :, 22] = movie[5, 3, :, 23] = movie[6, 3, :, 24] = 255\n",
      "movie[5, 3, :, 25] = movie[4, 3, :, 26] = movie[3, 3, :, 27] = movie[2, 3, :, 28] = movie[1, 3, :, 29] = 255\n",
      "movie[0, 3, :, 30] = 255\n",
      "\n",
      "# numFrames = 26\n",
      "# movie = np.zeros(np.hstack([frameSize[0], frameSize[1], frameSize[2], numFrames]), dtype=uint8)\n",
      "# movie[3, 0, :, 0] = movie[3, 1, :, 1] = movie[3, 2, :, 2] = movie[3, 3, :, 3] = movie[3, 4, :, 4] = 255\n",
      "# movie[3, 5, :, 5] = movie[3, 6, :, 6] = movie[3, 5, :, 7] = movie[3, 4, :, 8] = movie[3, 3, :, 9] = 255\n",
      "# movie[3, 2, :, 10] = movie[3, 1, :, 11] = movie[3, 0, :, 12] = movie[0, 3, :, 13] = movie[1, 3, :, 14] = 255\n",
      "# movie[2, 3, :, 15] = movie[3, 3, :, 16] = movie[4, 3, :, 17] = movie[5, 3, :, 18] = movie[6, 3, :, 19] = 255\n",
      "# movie[5, 3, :, 20] = movie[4, 3, :, 21] = movie[3, 3, :, 22] = movie[2, 3, :, 23] = movie[1, 3, :, 24] = 255\n",
      "# movie[0, 3, :, 25] = 255\n",
      "\n",
      "distanceMatrix = np.zeros((numFrames, numFrames))\n",
      "for r in xrange(0, numFrames) :\n",
      "    for c in xrange(r+1, numFrames) :\n",
      "        rowLoc = np.argwhere(movie[:, :, 0, r] == 255)[0]\n",
      "        colLoc = np.argwhere(movie[:, :, 0, c] == 255)[0]\n",
      "        distanceMatrix[r, c] = distanceMatrix[c, r] = np.sum(np.abs(rowLoc-colLoc))\n",
      "\n",
      "## add noise\n",
      "# distanceMatrix += np.random.random(distanceMatrix.shape)*(1-np.eye(distanceMatrix.shape[0]))\n",
      "figure(); imshow(distanceMatrix, interpolation='nearest')\n",
      "\n",
      "distMat = vtu.filterDistanceMatrix(distanceMatrix, 1, True)\n",
      "idxCorrection = 1\n",
      "figure(); imshow(distMat, interpolation='nearest')"
     ],
     "language": "python",
     "metadata": {},
     "outputs": [
      {
       "metadata": {},
       "output_type": "pyout",
       "prompt_number": 12,
       "text": [
        "<matplotlib.image.AxesImage at 0x7f83960d2c10>"
       ]
      }
     ],
     "prompt_number": 12
    },
    {
     "cell_type": "code",
     "collapsed": false,
     "input": [
      "# weightMat = distMatFut\n",
      "weightMat = distMat[1:distMat.shape[1], 0:-1]\n",
      "# weightMat = distMat[0:-1, 1:distMat.shape[1]]\n",
      "figure(); imshow(weightMat, interpolation='nearest')\n",
      "\n",
      "probMat, cumProb = vtu.getProbabilities(weightMat, 1.0, None, True)\n",
      "idxCorrection =5 #+= 1\n",
      "\n",
      "## initNodes and ranges for star dot\n",
      "# initialNodes = np.array([9, 21])-idxCorrection\n",
      "# intervals = np.array([11, 11])\n",
      "## initNodes and ranges for ribbon2_matted\n",
      "initialNodes = np.array([122, 501, 838, 1106])-idxCorrection\n",
      "intervals = np.array([251, 441, 169, 339])\n",
      "# fig = plt.figure()\n",
      "# ax = fig.add_subplot(111)\n",
      "# ax.imshow(probMat, interpolation='nearest')\n",
      "# ax.set_autoscale_on(False)\n",
      "# ax.scatter(initialNodes, initialNodes, c=\"m\", marker=\"s\")\n",
      "\n",
      "## compute rangeCurves using initialNodes before idxCorrection\n",
      "rangeCurves = np.zeros(weightMat.shape[-1])\n",
      "for node, inter in zip(initialNodes, intervals) :\n",
      "    ## the variances should be set according to situation range\n",
      "#     rangeCurves += gauss(arange(0.0, len(rangeCurves)), float(node), 5.0)\n",
      "    rangeCurves += smoothStep(arange(0.0, len(rangeCurves)), float(node), inter, 0.4)\n",
      "# rangeCurves /= np.max(rangeCurves)\n",
      "figure(); plot(arange(0, len(rangeCurves)), rangeCurves)\n",
      "print rangeCurves\n",
      "\n",
      "\n",
      "frameGraph = buildGraph(initialNodes, weightMat, rangeCurves, 1, 3, (1, 1), True, None)\n",
      "# frameGraph = buildGraph(initialNodes, 1.0/probMat, rangeCurves, 1, 3, (10, 100), False, None)\n",
      "\n",
      "print\n",
      "print len(frameGraph.nodes()), frameGraph.nodes()\n",
      "print len(frameGraph.edges()), frameGraph.edges()"
     ],
     "language": "python",
     "metadata": {},
     "outputs": [
      {
       "output_type": "stream",
       "stream": "stdout",
       "text": [
        "-8.0 67.0 168.0 243.0\n",
        "276.0 408.0 585.0 717.0\n",
        "749.0 800.0 867.0 918.0\n",
        "932.0 1034.0 1169.0 1271.0\n",
        "[ 0.01027734  0.0143189   0.0192158   0.02501591  0.03175875  0.03947578\n",
        "  0.04819076  0.05792     0.06867267  0.08045111  0.09325117  0.10706245\n",
        "  0.12186864  0.13764782  0.15437276  0.17201122  0.19052626  0.20987654\n",
        "  0.23001663  0.25089731  0.27246584  0.29466633  0.31744     0.34072548\n",
        "  0.36445913  0.38857533  0.41300682  0.43768494]"
       ]
      },
      {
       "output_type": "stream",
       "stream": "stdout",
       "text": [
        "\n",
        "\r",
        "Iteration 1(4, 0); "
       ]
      },
      {
       "ename": "IndexError",
       "evalue": "index 495 is out of bounds for axis 0 with size 28",
       "output_type": "pyerr",
       "traceback": [
        "\u001b[0;31m---------------------------------------------------------------------------\u001b[0m\n\u001b[0;31mIndexError\u001b[0m                                Traceback (most recent call last)",
        "\u001b[0;32m<ipython-input-23-d755734890ed>\u001b[0m in \u001b[0;36m<module>\u001b[0;34m()\u001b[0m\n\u001b[1;32m     30\u001b[0m \u001b[0;34m\u001b[0m\u001b[0m\n\u001b[1;32m     31\u001b[0m \u001b[0;34m\u001b[0m\u001b[0m\n\u001b[0;32m---> 32\u001b[0;31m \u001b[0mframeGraph\u001b[0m \u001b[0;34m=\u001b[0m \u001b[0mbuildGraph\u001b[0m\u001b[0;34m(\u001b[0m\u001b[0minitialNodes\u001b[0m\u001b[0;34m,\u001b[0m \u001b[0mweightMat\u001b[0m\u001b[0;34m,\u001b[0m \u001b[0mrangeCurves\u001b[0m\u001b[0;34m,\u001b[0m \u001b[0;36m1\u001b[0m\u001b[0;34m,\u001b[0m \u001b[0;36m3\u001b[0m\u001b[0;34m,\u001b[0m \u001b[0;34m(\u001b[0m\u001b[0;36m1\u001b[0m\u001b[0;34m,\u001b[0m \u001b[0;36m1\u001b[0m\u001b[0;34m)\u001b[0m\u001b[0;34m,\u001b[0m \u001b[0mTrue\u001b[0m\u001b[0;34m,\u001b[0m \u001b[0mNone\u001b[0m\u001b[0;34m)\u001b[0m\u001b[0;34m\u001b[0m\u001b[0m\n\u001b[0m\u001b[1;32m     33\u001b[0m \u001b[0;31m# frameGraph = buildGraph(initialNodes, 1.0/probMat, rangeCurves, 1, 3, (10, 100), False, None)\u001b[0m\u001b[0;34m\u001b[0m\u001b[0;34m\u001b[0m\u001b[0m\n\u001b[1;32m     34\u001b[0m \u001b[0;34m\u001b[0m\u001b[0m\n",
        "\u001b[0;32m<ipython-input-22-75554b0ff23c>\u001b[0m in \u001b[0;36mbuildGraph\u001b[0;34m(initNodes, weights, ranges, numBest, minLoopLength, minMaxIterations, drawOnPng, initGraph)\u001b[0m\n\u001b[1;32m     34\u001b[0m \u001b[0;34m\u001b[0m\u001b[0m\n\u001b[1;32m     35\u001b[0m                 \u001b[0;32mif\u001b[0m \u001b[0;34m(\u001b[0m\u001b[0mnode\u001b[0m\u001b[0;34m-\u001b[0m\u001b[0;36m1\u001b[0m\u001b[0;34m,\u001b[0m \u001b[0mnode\u001b[0m\u001b[0;34m)\u001b[0m \u001b[0;32mnot\u001b[0m \u001b[0;32min\u001b[0m \u001b[0mgr\u001b[0m\u001b[0;34m.\u001b[0m\u001b[0medges\u001b[0m\u001b[0;34m(\u001b[0m\u001b[0;34m)\u001b[0m \u001b[0;34m:\u001b[0m\u001b[0;34m\u001b[0m\u001b[0m\n\u001b[0;32m---> 36\u001b[0;31m                     \u001b[0mgr\u001b[0m\u001b[0;34m.\u001b[0m\u001b[0madd_edge\u001b[0m\u001b[0;34m(\u001b[0m\u001b[0;34m(\u001b[0m\u001b[0mnode\u001b[0m\u001b[0;34m-\u001b[0m\u001b[0;36m1\u001b[0m\u001b[0;34m,\u001b[0m \u001b[0mnode\u001b[0m\u001b[0;34m)\u001b[0m\u001b[0;34m,\u001b[0m \u001b[0mwt\u001b[0m\u001b[0;34m=\u001b[0m\u001b[0mweights\u001b[0m\u001b[0;34m[\u001b[0m\u001b[0mnode\u001b[0m\u001b[0;34m-\u001b[0m\u001b[0;36m1\u001b[0m\u001b[0;34m,\u001b[0m \u001b[0mnode\u001b[0m\u001b[0;34m]\u001b[0m\u001b[0;34m,\u001b[0m \u001b[0mlabel\u001b[0m\u001b[0;34m=\u001b[0m\u001b[0mnp\u001b[0m\u001b[0;34m.\u001b[0m\u001b[0mstr\u001b[0m\u001b[0;34m(\u001b[0m\u001b[0mweights\u001b[0m\u001b[0;34m[\u001b[0m\u001b[0mnode\u001b[0m\u001b[0;34m-\u001b[0m\u001b[0;36m1\u001b[0m\u001b[0;34m,\u001b[0m \u001b[0mnode\u001b[0m\u001b[0;34m]\u001b[0m\u001b[0;34m)\u001b[0m\u001b[0;34m)\u001b[0m\u001b[0;34m\u001b[0m\u001b[0m\n\u001b[0m\u001b[1;32m     37\u001b[0m                 \u001b[0;32melse\u001b[0m \u001b[0;34m:\u001b[0m\u001b[0;34m\u001b[0m\u001b[0m\n\u001b[1;32m     38\u001b[0m                     \u001b[0mgr\u001b[0m\u001b[0;34m.\u001b[0m\u001b[0mset_edge_weight\u001b[0m\u001b[0;34m(\u001b[0m\u001b[0;34m(\u001b[0m\u001b[0mnode\u001b[0m\u001b[0;34m-\u001b[0m\u001b[0;36m1\u001b[0m\u001b[0;34m,\u001b[0m \u001b[0mnode\u001b[0m\u001b[0;34m)\u001b[0m\u001b[0;34m,\u001b[0m \u001b[0mweights\u001b[0m\u001b[0;34m[\u001b[0m\u001b[0mnode\u001b[0m\u001b[0;34m-\u001b[0m\u001b[0;36m1\u001b[0m\u001b[0;34m,\u001b[0m \u001b[0mnode\u001b[0m\u001b[0;34m]\u001b[0m\u001b[0;34m)\u001b[0m\u001b[0;34m\u001b[0m\u001b[0m\n",
        "\u001b[0;31mIndexError\u001b[0m: index 495 is out of bounds for axis 0 with size 28"
       ]
      }
     ],
     "prompt_number": 23
    },
    {
     "cell_type": "code",
     "collapsed": false,
     "input": [
      "for i1, i2 in zip(initialNodes, np.roll(initialNodes, 1)) :\n",
      "    if i2 in shortest_path(frameGraph, i1)[0] and i1 in shortest_path(frameGraph, i2)[0] :\n",
      "        print \"connected\", i1, i2"
     ],
     "language": "python",
     "metadata": {},
     "outputs": [
      {
       "output_type": "stream",
       "stream": "stdout",
       "text": [
        "connected 117 1101\n",
        "connected 496 117\n",
        "connected 833 496\n",
        "connected 1101 833\n"
       ]
      }
     ],
     "prompt_number": 14
    },
    {
     "cell_type": "code",
     "collapsed": false,
     "input": [
      "idxCorrection = 0\n",
      "sampleData = \"ribbon2_matted/\"\n",
      "outputData = dataFolder+sampleData\n",
      "\n",
      "## Find pngs in sample data\n",
      "frames = glob.glob(dataFolder + sampleData + \"frame*.png\")\n",
      "maxFrames = len(frames)\n",
      "frames = np.sort(frames)[0:maxFrames]\n",
      "numFrames = len(frames)\n",
      "frameSize = cv2.imread(frames[0]).shape\n",
      "print numFrames\n",
      "## load full precomputed distMat for dataset\n",
      "distanceMatrix = np.load(dataFolder + sampleData + \"vanilla_distMat.npy\")\n",
      "figure(); imshow(distanceMatrix, interpolation='nearest')"
     ],
     "language": "python",
     "metadata": {},
     "outputs": [
      {
       "output_type": "stream",
       "stream": "stdout",
       "text": [
        "1280\n"
       ]
      },
      {
       "metadata": {},
       "output_type": "pyout",
       "prompt_number": 11,
       "text": [
        "<matplotlib.image.AxesImage at 0x7fe3b8b214d0>"
       ]
      }
     ],
     "prompt_number": 11
    },
    {
     "cell_type": "code",
     "collapsed": false,
     "input": [
      "frameSize = cv2.imread(frames[0]).shape\n",
      "movie = np.zeros(np.hstack([frameSize[0], frameSize[1], frameSize[2], numFrames]), dtype=np.uint8)\n",
      "for i in range(0, numFrames) :\n",
      "    movie[:, :, :, i] = np.array(cv2.cvtColor(cv2.imread(frames[i]), cv2.COLOR_BGR2RGB), dtype=np.uint8)\n",
      "    \n",
      "    sys.stdout.write('\\r' + \"Loaded frame \" + np.string_(i) + \" of \" + np.string_(numFrames))\n",
      "    sys.stdout.flush()\n"
     ],
     "language": "python",
     "metadata": {},
     "outputs": [
      {
       "output_type": "stream",
       "stream": "stdout",
       "text": [
        "\r",
        "Loaded frame 0 of 1280"
       ]
      },
      {
       "output_type": "stream",
       "stream": "stdout",
       "text": [
        "\r",
        "Loaded frame 1 of 1280"
       ]
      },
      {
       "output_type": "stream",
       "stream": "stdout",
       "text": [
        "\r",
        "Loaded frame 2 of 1280"
       ]
      },
      {
       "output_type": "stream",
       "stream": "stdout",
       "text": [
        "\r",
        "Loaded frame 3 of 1280"
       ]
      },
      {
       "output_type": "stream",
       "stream": "stdout",
       "text": [
        "\r",
        "Loaded frame 4 of 1280"
       ]
      },
      {
       "output_type": "stream",
       "stream": "stdout",
       "text": [
        "\r",
        "Loaded frame 5 of 1280"
       ]
      },
      {
       "output_type": "stream",
       "stream": "stdout",
       "text": [
        "\r",
        "Loaded frame 6 of 1280"
       ]
      },
      {
       "output_type": "stream",
       "stream": "stdout",
       "text": [
        "\r",
        "Loaded frame 7 of 1280"
       ]
      },
      {
       "output_type": "stream",
       "stream": "stdout",
       "text": [
        "\r",
        "Loaded frame 8 of 1280"
       ]
      },
      {
       "output_type": "stream",
       "stream": "stdout",
       "text": [
        "\r",
        "Loaded frame 9 of 1280"
       ]
      },
      {
       "output_type": "stream",
       "stream": "stdout",
       "text": [
        "\r",
        "Loaded frame 10 of 1280"
       ]
      },
      {
       "output_type": "stream",
       "stream": "stdout",
       "text": [
        "\r",
        "Loaded frame 11 of 1280"
       ]
      },
      {
       "output_type": "stream",
       "stream": "stdout",
       "text": [
        "\r",
        "Loaded frame 12 of 1280"
       ]
      },
      {
       "output_type": "stream",
       "stream": "stdout",
       "text": [
        "\r",
        "Loaded frame 13 of 1280"
       ]
      },
      {
       "output_type": "stream",
       "stream": "stdout",
       "text": [
        "\r",
        "Loaded frame 14 of 1280"
       ]
      },
      {
       "output_type": "stream",
       "stream": "stdout",
       "text": [
        "\r",
        "Loaded frame 15 of 1280"
       ]
      },
      {
       "output_type": "stream",
       "stream": "stdout",
       "text": [
        "\r",
        "Loaded frame 16 of 1280"
       ]
      },
      {
       "output_type": "stream",
       "stream": "stdout",
       "text": [
        "\r",
        "Loaded frame 17 of 1280"
       ]
      },
      {
       "output_type": "stream",
       "stream": "stdout",
       "text": [
        "\r",
        "Loaded frame 18 of 1280"
       ]
      },
      {
       "output_type": "stream",
       "stream": "stdout",
       "text": [
        "\r",
        "Loaded frame 19 of 1280"
       ]
      },
      {
       "output_type": "stream",
       "stream": "stdout",
       "text": [
        "\r",
        "Loaded frame 20 of 1280"
       ]
      },
      {
       "output_type": "stream",
       "stream": "stdout",
       "text": [
        "\r",
        "Loaded frame 21 of 1280"
       ]
      },
      {
       "output_type": "stream",
       "stream": "stdout",
       "text": [
        "\r",
        "Loaded frame 22 of 1280"
       ]
      },
      {
       "output_type": "stream",
       "stream": "stdout",
       "text": [
        "\r",
        "Loaded frame 23 of 1280"
       ]
      },
      {
       "output_type": "stream",
       "stream": "stdout",
       "text": [
        "\r",
        "Loaded frame 24 of 1280"
       ]
      },
      {
       "output_type": "stream",
       "stream": "stdout",
       "text": [
        "\r",
        "Loaded frame 25 of 1280"
       ]
      },
      {
       "output_type": "stream",
       "stream": "stdout",
       "text": [
        "\r",
        "Loaded frame 26 of 1280"
       ]
      },
      {
       "output_type": "stream",
       "stream": "stdout",
       "text": [
        "\r",
        "Loaded frame 27 of 1280"
       ]
      },
      {
       "output_type": "stream",
       "stream": "stdout",
       "text": [
        "\r",
        "Loaded frame 28 of 1280"
       ]
      },
      {
       "output_type": "stream",
       "stream": "stdout",
       "text": [
        "\r",
        "Loaded frame 29 of 1280"
       ]
      },
      {
       "output_type": "stream",
       "stream": "stdout",
       "text": [
        "\r",
        "Loaded frame 30 of 1280"
       ]
      },
      {
       "output_type": "stream",
       "stream": "stdout",
       "text": [
        "\r",
        "Loaded frame 31 of 1280"
       ]
      },
      {
       "output_type": "stream",
       "stream": "stdout",
       "text": [
        "\r",
        "Loaded frame 32 of 1280"
       ]
      },
      {
       "output_type": "stream",
       "stream": "stdout",
       "text": [
        "\r",
        "Loaded frame 33 of 1280"
       ]
      },
      {
       "output_type": "stream",
       "stream": "stdout",
       "text": [
        "\r",
        "Loaded frame 34 of 1280"
       ]
      },
      {
       "output_type": "stream",
       "stream": "stdout",
       "text": [
        "\r",
        "Loaded frame 35 of 1280"
       ]
      },
      {
       "output_type": "stream",
       "stream": "stdout",
       "text": [
        "\r",
        "Loaded frame 36 of 1280"
       ]
      },
      {
       "output_type": "stream",
       "stream": "stdout",
       "text": [
        "\r",
        "Loaded frame 37 of 1280"
       ]
      },
      {
       "output_type": "stream",
       "stream": "stdout",
       "text": [
        "\r",
        "Loaded frame 38 of 1280"
       ]
      },
      {
       "output_type": "stream",
       "stream": "stdout",
       "text": [
        "\r",
        "Loaded frame 39 of 1280"
       ]
      },
      {
       "output_type": "stream",
       "stream": "stdout",
       "text": [
        "\r",
        "Loaded frame 40 of 1280"
       ]
      },
      {
       "output_type": "stream",
       "stream": "stdout",
       "text": [
        "\r",
        "Loaded frame 41 of 1280"
       ]
      },
      {
       "output_type": "stream",
       "stream": "stdout",
       "text": [
        "\r",
        "Loaded frame 42 of 1280"
       ]
      },
      {
       "output_type": "stream",
       "stream": "stdout",
       "text": [
        "\r",
        "Loaded frame 43 of 1280"
       ]
      },
      {
       "output_type": "stream",
       "stream": "stdout",
       "text": [
        "\r",
        "Loaded frame 44 of 1280"
       ]
      },
      {
       "output_type": "stream",
       "stream": "stdout",
       "text": [
        "\r",
        "Loaded frame 45 of 1280"
       ]
      },
      {
       "output_type": "stream",
       "stream": "stdout",
       "text": [
        "\r",
        "Loaded frame 46 of 1280"
       ]
      },
      {
       "output_type": "stream",
       "stream": "stdout",
       "text": [
        "\r",
        "Loaded frame 47 of 1280"
       ]
      },
      {
       "output_type": "stream",
       "stream": "stdout",
       "text": [
        "\r",
        "Loaded frame 48 of 1280"
       ]
      },
      {
       "output_type": "stream",
       "stream": "stdout",
       "text": [
        "\r",
        "Loaded frame 49 of 1280"
       ]
      },
      {
       "output_type": "stream",
       "stream": "stdout",
       "text": [
        "\r",
        "Loaded frame 50 of 1280"
       ]
      },
      {
       "output_type": "stream",
       "stream": "stdout",
       "text": [
        "\r",
        "Loaded frame 51 of 1280"
       ]
      },
      {
       "output_type": "stream",
       "stream": "stdout",
       "text": [
        "\r",
        "Loaded frame 52 of 1280"
       ]
      },
      {
       "output_type": "stream",
       "stream": "stdout",
       "text": [
        "\r",
        "Loaded frame 53 of 1280"
       ]
      },
      {
       "output_type": "stream",
       "stream": "stdout",
       "text": [
        "\r",
        "Loaded frame 54 of 1280"
       ]
      },
      {
       "output_type": "stream",
       "stream": "stdout",
       "text": [
        "\r",
        "Loaded frame 55 of 1280"
       ]
      },
      {
       "output_type": "stream",
       "stream": "stdout",
       "text": [
        "\r",
        "Loaded frame 56 of 1280"
       ]
      },
      {
       "output_type": "stream",
       "stream": "stdout",
       "text": [
        "\r",
        "Loaded frame 57 of 1280"
       ]
      },
      {
       "output_type": "stream",
       "stream": "stdout",
       "text": [
        "\r",
        "Loaded frame 58 of 1280"
       ]
      },
      {
       "output_type": "stream",
       "stream": "stdout",
       "text": [
        "\r",
        "Loaded frame 59 of 1280"
       ]
      },
      {
       "output_type": "stream",
       "stream": "stdout",
       "text": [
        "\r",
        "Loaded frame 60 of 1280"
       ]
      },
      {
       "output_type": "stream",
       "stream": "stdout",
       "text": [
        "\r",
        "Loaded frame 61 of 1280"
       ]
      },
      {
       "output_type": "stream",
       "stream": "stdout",
       "text": [
        "\r",
        "Loaded frame 62 of 1280"
       ]
      },
      {
       "output_type": "stream",
       "stream": "stdout",
       "text": [
        "\r",
        "Loaded frame 63 of 1280"
       ]
      },
      {
       "output_type": "stream",
       "stream": "stdout",
       "text": [
        "\r",
        "Loaded frame 64 of 1280"
       ]
      },
      {
       "output_type": "stream",
       "stream": "stdout",
       "text": [
        "\r",
        "Loaded frame 65 of 1280"
       ]
      },
      {
       "output_type": "stream",
       "stream": "stdout",
       "text": [
        "\r",
        "Loaded frame 66 of 1280"
       ]
      },
      {
       "output_type": "stream",
       "stream": "stdout",
       "text": [
        "\r",
        "Loaded frame 67 of 1280"
       ]
      },
      {
       "output_type": "stream",
       "stream": "stdout",
       "text": [
        "\r",
        "Loaded frame 68 of 1280"
       ]
      },
      {
       "output_type": "stream",
       "stream": "stdout",
       "text": [
        "\r",
        "Loaded frame 69 of 1280"
       ]
      },
      {
       "output_type": "stream",
       "stream": "stdout",
       "text": [
        "\r",
        "Loaded frame 70 of 1280"
       ]
      },
      {
       "output_type": "stream",
       "stream": "stdout",
       "text": [
        "\r",
        "Loaded frame 71 of 1280"
       ]
      },
      {
       "output_type": "stream",
       "stream": "stdout",
       "text": [
        "\r",
        "Loaded frame 72 of 1280"
       ]
      },
      {
       "output_type": "stream",
       "stream": "stdout",
       "text": [
        "\r",
        "Loaded frame 73 of 1280"
       ]
      },
      {
       "output_type": "stream",
       "stream": "stdout",
       "text": [
        "\r",
        "Loaded frame 74 of 1280"
       ]
      },
      {
       "output_type": "stream",
       "stream": "stdout",
       "text": [
        "\r",
        "Loaded frame 75 of 1280"
       ]
      },
      {
       "output_type": "stream",
       "stream": "stdout",
       "text": [
        "\r",
        "Loaded frame 76 of 1280"
       ]
      },
      {
       "output_type": "stream",
       "stream": "stdout",
       "text": [
        "\r",
        "Loaded frame 77 of 1280"
       ]
      },
      {
       "output_type": "stream",
       "stream": "stdout",
       "text": [
        "\r",
        "Loaded frame 78 of 1280"
       ]
      },
      {
       "output_type": "stream",
       "stream": "stdout",
       "text": [
        "\r",
        "Loaded frame 79 of 1280"
       ]
      },
      {
       "output_type": "stream",
       "stream": "stdout",
       "text": [
        "\r",
        "Loaded frame 80 of 1280"
       ]
      },
      {
       "output_type": "stream",
       "stream": "stdout",
       "text": [
        "\r",
        "Loaded frame 81 of 1280"
       ]
      },
      {
       "output_type": "stream",
       "stream": "stdout",
       "text": [
        "\r",
        "Loaded frame 82 of 1280"
       ]
      },
      {
       "output_type": "stream",
       "stream": "stdout",
       "text": [
        "\r",
        "Loaded frame 83 of 1280"
       ]
      },
      {
       "output_type": "stream",
       "stream": "stdout",
       "text": [
        "\r",
        "Loaded frame 84 of 1280"
       ]
      },
      {
       "output_type": "stream",
       "stream": "stdout",
       "text": [
        "\r",
        "Loaded frame 85 of 1280"
       ]
      },
      {
       "output_type": "stream",
       "stream": "stdout",
       "text": [
        "\r",
        "Loaded frame 86 of 1280"
       ]
      },
      {
       "output_type": "stream",
       "stream": "stdout",
       "text": [
        "\r",
        "Loaded frame 87 of 1280"
       ]
      },
      {
       "output_type": "stream",
       "stream": "stdout",
       "text": [
        "\r",
        "Loaded frame 88 of 1280"
       ]
      },
      {
       "output_type": "stream",
       "stream": "stdout",
       "text": [
        "\r",
        "Loaded frame 89 of 1280"
       ]
      },
      {
       "output_type": "stream",
       "stream": "stdout",
       "text": [
        "\r",
        "Loaded frame 90 of 1280"
       ]
      },
      {
       "output_type": "stream",
       "stream": "stdout",
       "text": [
        "\r",
        "Loaded frame 91 of 1280"
       ]
      },
      {
       "output_type": "stream",
       "stream": "stdout",
       "text": [
        "\r",
        "Loaded frame 92 of 1280"
       ]
      },
      {
       "output_type": "stream",
       "stream": "stdout",
       "text": [
        "\r",
        "Loaded frame 93 of 1280"
       ]
      },
      {
       "output_type": "stream",
       "stream": "stdout",
       "text": [
        "\r",
        "Loaded frame 94 of 1280"
       ]
      },
      {
       "output_type": "stream",
       "stream": "stdout",
       "text": [
        "\r",
        "Loaded frame 95 of 1280"
       ]
      },
      {
       "output_type": "stream",
       "stream": "stdout",
       "text": [
        "\r",
        "Loaded frame 96 of 1280"
       ]
      },
      {
       "output_type": "stream",
       "stream": "stdout",
       "text": [
        "\r",
        "Loaded frame 97 of 1280"
       ]
      },
      {
       "output_type": "stream",
       "stream": "stdout",
       "text": [
        "\r",
        "Loaded frame 98 of 1280"
       ]
      },
      {
       "output_type": "stream",
       "stream": "stdout",
       "text": [
        "\r",
        "Loaded frame 99 of 1280"
       ]
      },
      {
       "output_type": "stream",
       "stream": "stdout",
       "text": [
        "\r",
        "Loaded frame 100 of 1280"
       ]
      },
      {
       "output_type": "stream",
       "stream": "stdout",
       "text": [
        "\r",
        "Loaded frame 101 of 1280"
       ]
      },
      {
       "output_type": "stream",
       "stream": "stdout",
       "text": [
        "\r",
        "Loaded frame 102 of 1280"
       ]
      },
      {
       "output_type": "stream",
       "stream": "stdout",
       "text": [
        "\r",
        "Loaded frame 103 of 1280"
       ]
      },
      {
       "output_type": "stream",
       "stream": "stdout",
       "text": [
        "\r",
        "Loaded frame 104 of 1280"
       ]
      },
      {
       "output_type": "stream",
       "stream": "stdout",
       "text": [
        "\r",
        "Loaded frame 105 of 1280"
       ]
      },
      {
       "output_type": "stream",
       "stream": "stdout",
       "text": [
        "\r",
        "Loaded frame 106 of 1280"
       ]
      },
      {
       "output_type": "stream",
       "stream": "stdout",
       "text": [
        "\r",
        "Loaded frame 107 of 1280"
       ]
      },
      {
       "output_type": "stream",
       "stream": "stdout",
       "text": [
        "\r",
        "Loaded frame 108 of 1280"
       ]
      },
      {
       "output_type": "stream",
       "stream": "stdout",
       "text": [
        "\r",
        "Loaded frame 109 of 1280"
       ]
      },
      {
       "output_type": "stream",
       "stream": "stdout",
       "text": [
        "\r",
        "Loaded frame 110 of 1280"
       ]
      },
      {
       "output_type": "stream",
       "stream": "stdout",
       "text": [
        "\r",
        "Loaded frame 111 of 1280"
       ]
      },
      {
       "output_type": "stream",
       "stream": "stdout",
       "text": [
        "\r",
        "Loaded frame 112 of 1280"
       ]
      },
      {
       "output_type": "stream",
       "stream": "stdout",
       "text": [
        "\r",
        "Loaded frame 113 of 1280"
       ]
      },
      {
       "output_type": "stream",
       "stream": "stdout",
       "text": [
        "\r",
        "Loaded frame 114 of 1280"
       ]
      },
      {
       "output_type": "stream",
       "stream": "stdout",
       "text": [
        "\r",
        "Loaded frame 115 of 1280"
       ]
      },
      {
       "output_type": "stream",
       "stream": "stdout",
       "text": [
        "\r",
        "Loaded frame 116 of 1280"
       ]
      },
      {
       "output_type": "stream",
       "stream": "stdout",
       "text": [
        "\r",
        "Loaded frame 117 of 1280"
       ]
      },
      {
       "output_type": "stream",
       "stream": "stdout",
       "text": [
        "\r",
        "Loaded frame 118 of 1280"
       ]
      },
      {
       "output_type": "stream",
       "stream": "stdout",
       "text": [
        "\r",
        "Loaded frame 119 of 1280"
       ]
      },
      {
       "output_type": "stream",
       "stream": "stdout",
       "text": [
        "\r",
        "Loaded frame 120 of 1280"
       ]
      },
      {
       "output_type": "stream",
       "stream": "stdout",
       "text": [
        "\r",
        "Loaded frame 121 of 1280"
       ]
      },
      {
       "output_type": "stream",
       "stream": "stdout",
       "text": [
        "\r",
        "Loaded frame 122 of 1280"
       ]
      },
      {
       "output_type": "stream",
       "stream": "stdout",
       "text": [
        "\r",
        "Loaded frame 123 of 1280"
       ]
      },
      {
       "output_type": "stream",
       "stream": "stdout",
       "text": [
        "\r",
        "Loaded frame 124 of 1280"
       ]
      },
      {
       "output_type": "stream",
       "stream": "stdout",
       "text": [
        "\r",
        "Loaded frame 125 of 1280"
       ]
      },
      {
       "output_type": "stream",
       "stream": "stdout",
       "text": [
        "\r",
        "Loaded frame 126 of 1280"
       ]
      },
      {
       "output_type": "stream",
       "stream": "stdout",
       "text": [
        "\r",
        "Loaded frame 127 of 1280"
       ]
      },
      {
       "output_type": "stream",
       "stream": "stdout",
       "text": [
        "\r",
        "Loaded frame 128 of 1280"
       ]
      },
      {
       "output_type": "stream",
       "stream": "stdout",
       "text": [
        "\r",
        "Loaded frame 129 of 1280"
       ]
      },
      {
       "output_type": "stream",
       "stream": "stdout",
       "text": [
        "\r",
        "Loaded frame 130 of 1280"
       ]
      },
      {
       "output_type": "stream",
       "stream": "stdout",
       "text": [
        "\r",
        "Loaded frame 131 of 1280"
       ]
      },
      {
       "output_type": "stream",
       "stream": "stdout",
       "text": [
        "\r",
        "Loaded frame 132 of 1280"
       ]
      },
      {
       "output_type": "stream",
       "stream": "stdout",
       "text": [
        "\r",
        "Loaded frame 133 of 1280"
       ]
      },
      {
       "output_type": "stream",
       "stream": "stdout",
       "text": [
        "\r",
        "Loaded frame 134 of 1280"
       ]
      },
      {
       "output_type": "stream",
       "stream": "stdout",
       "text": [
        "\r",
        "Loaded frame 135 of 1280"
       ]
      },
      {
       "output_type": "stream",
       "stream": "stdout",
       "text": [
        "\r",
        "Loaded frame 136 of 1280"
       ]
      },
      {
       "output_type": "stream",
       "stream": "stdout",
       "text": [
        "\r",
        "Loaded frame 137 of 1280"
       ]
      },
      {
       "output_type": "stream",
       "stream": "stdout",
       "text": [
        "\r",
        "Loaded frame 138 of 1280"
       ]
      },
      {
       "output_type": "stream",
       "stream": "stdout",
       "text": [
        "\r",
        "Loaded frame 139 of 1280"
       ]
      },
      {
       "output_type": "stream",
       "stream": "stdout",
       "text": [
        "\r",
        "Loaded frame 140 of 1280"
       ]
      },
      {
       "output_type": "stream",
       "stream": "stdout",
       "text": [
        "\r",
        "Loaded frame 141 of 1280"
       ]
      },
      {
       "output_type": "stream",
       "stream": "stdout",
       "text": [
        "\r",
        "Loaded frame 142 of 1280"
       ]
      },
      {
       "output_type": "stream",
       "stream": "stdout",
       "text": [
        "\r",
        "Loaded frame 143 of 1280"
       ]
      },
      {
       "output_type": "stream",
       "stream": "stdout",
       "text": [
        "\r",
        "Loaded frame 144 of 1280"
       ]
      },
      {
       "output_type": "stream",
       "stream": "stdout",
       "text": [
        "\r",
        "Loaded frame 145 of 1280"
       ]
      },
      {
       "output_type": "stream",
       "stream": "stdout",
       "text": [
        "\r",
        "Loaded frame 146 of 1280"
       ]
      },
      {
       "output_type": "stream",
       "stream": "stdout",
       "text": [
        "\r",
        "Loaded frame 147 of 1280"
       ]
      },
      {
       "output_type": "stream",
       "stream": "stdout",
       "text": [
        "\r",
        "Loaded frame 148 of 1280"
       ]
      },
      {
       "output_type": "stream",
       "stream": "stdout",
       "text": [
        "\r",
        "Loaded frame 149 of 1280"
       ]
      },
      {
       "output_type": "stream",
       "stream": "stdout",
       "text": [
        "\r",
        "Loaded frame 150 of 1280"
       ]
      },
      {
       "output_type": "stream",
       "stream": "stdout",
       "text": [
        "\r",
        "Loaded frame 151 of 1280"
       ]
      },
      {
       "output_type": "stream",
       "stream": "stdout",
       "text": [
        "\r",
        "Loaded frame 152 of 1280"
       ]
      },
      {
       "output_type": "stream",
       "stream": "stdout",
       "text": [
        "\r",
        "Loaded frame 153 of 1280"
       ]
      },
      {
       "output_type": "stream",
       "stream": "stdout",
       "text": [
        "\r",
        "Loaded frame 154 of 1280"
       ]
      },
      {
       "output_type": "stream",
       "stream": "stdout",
       "text": [
        "\r",
        "Loaded frame 155 of 1280"
       ]
      },
      {
       "output_type": "stream",
       "stream": "stdout",
       "text": [
        "\r",
        "Loaded frame 156 of 1280"
       ]
      },
      {
       "output_type": "stream",
       "stream": "stdout",
       "text": [
        "\r",
        "Loaded frame 157 of 1280"
       ]
      },
      {
       "output_type": "stream",
       "stream": "stdout",
       "text": [
        "\r",
        "Loaded frame 158 of 1280"
       ]
      },
      {
       "output_type": "stream",
       "stream": "stdout",
       "text": [
        "\r",
        "Loaded frame 159 of 1280"
       ]
      },
      {
       "output_type": "stream",
       "stream": "stdout",
       "text": [
        "\r",
        "Loaded frame 160 of 1280"
       ]
      },
      {
       "output_type": "stream",
       "stream": "stdout",
       "text": [
        "\r",
        "Loaded frame 161 of 1280"
       ]
      },
      {
       "output_type": "stream",
       "stream": "stdout",
       "text": [
        "\r",
        "Loaded frame 162 of 1280"
       ]
      },
      {
       "output_type": "stream",
       "stream": "stdout",
       "text": [
        "\r",
        "Loaded frame 163 of 1280"
       ]
      },
      {
       "output_type": "stream",
       "stream": "stdout",
       "text": [
        "\r",
        "Loaded frame 164 of 1280"
       ]
      },
      {
       "output_type": "stream",
       "stream": "stdout",
       "text": [
        "\r",
        "Loaded frame 165 of 1280"
       ]
      },
      {
       "output_type": "stream",
       "stream": "stdout",
       "text": [
        "\r",
        "Loaded frame 166 of 1280"
       ]
      },
      {
       "output_type": "stream",
       "stream": "stdout",
       "text": [
        "\r",
        "Loaded frame 167 of 1280"
       ]
      },
      {
       "output_type": "stream",
       "stream": "stdout",
       "text": [
        "\r",
        "Loaded frame 168 of 1280"
       ]
      },
      {
       "output_type": "stream",
       "stream": "stdout",
       "text": [
        "\r",
        "Loaded frame 169 of 1280"
       ]
      },
      {
       "output_type": "stream",
       "stream": "stdout",
       "text": [
        "\r",
        "Loaded frame 170 of 1280"
       ]
      },
      {
       "output_type": "stream",
       "stream": "stdout",
       "text": [
        "\r",
        "Loaded frame 171 of 1280"
       ]
      },
      {
       "output_type": "stream",
       "stream": "stdout",
       "text": [
        "\r",
        "Loaded frame 172 of 1280"
       ]
      },
      {
       "output_type": "stream",
       "stream": "stdout",
       "text": [
        "\r",
        "Loaded frame 173 of 1280"
       ]
      },
      {
       "output_type": "stream",
       "stream": "stdout",
       "text": [
        "\r",
        "Loaded frame 174 of 1280"
       ]
      },
      {
       "output_type": "stream",
       "stream": "stdout",
       "text": [
        "\r",
        "Loaded frame 175 of 1280"
       ]
      },
      {
       "output_type": "stream",
       "stream": "stdout",
       "text": [
        "\r",
        "Loaded frame 176 of 1280"
       ]
      },
      {
       "output_type": "stream",
       "stream": "stdout",
       "text": [
        "\r",
        "Loaded frame 177 of 1280"
       ]
      },
      {
       "output_type": "stream",
       "stream": "stdout",
       "text": [
        "\r",
        "Loaded frame 178 of 1280"
       ]
      },
      {
       "output_type": "stream",
       "stream": "stdout",
       "text": [
        "\r",
        "Loaded frame 179 of 1280"
       ]
      },
      {
       "output_type": "stream",
       "stream": "stdout",
       "text": [
        "\r",
        "Loaded frame 180 of 1280"
       ]
      },
      {
       "output_type": "stream",
       "stream": "stdout",
       "text": [
        "\r",
        "Loaded frame 181 of 1280"
       ]
      },
      {
       "output_type": "stream",
       "stream": "stdout",
       "text": [
        "\r",
        "Loaded frame 182 of 1280"
       ]
      },
      {
       "output_type": "stream",
       "stream": "stdout",
       "text": [
        "\r",
        "Loaded frame 183 of 1280"
       ]
      },
      {
       "output_type": "stream",
       "stream": "stdout",
       "text": [
        "\r",
        "Loaded frame 184 of 1280"
       ]
      },
      {
       "output_type": "stream",
       "stream": "stdout",
       "text": [
        "\r",
        "Loaded frame 185 of 1280"
       ]
      },
      {
       "output_type": "stream",
       "stream": "stdout",
       "text": [
        "\r",
        "Loaded frame 186 of 1280"
       ]
      },
      {
       "output_type": "stream",
       "stream": "stdout",
       "text": [
        "\r",
        "Loaded frame 187 of 1280"
       ]
      },
      {
       "output_type": "stream",
       "stream": "stdout",
       "text": [
        "\r",
        "Loaded frame 188 of 1280"
       ]
      },
      {
       "output_type": "stream",
       "stream": "stdout",
       "text": [
        "\r",
        "Loaded frame 189 of 1280"
       ]
      },
      {
       "output_type": "stream",
       "stream": "stdout",
       "text": [
        "\r",
        "Loaded frame 190 of 1280"
       ]
      },
      {
       "output_type": "stream",
       "stream": "stdout",
       "text": [
        "\r",
        "Loaded frame 191 of 1280"
       ]
      },
      {
       "output_type": "stream",
       "stream": "stdout",
       "text": [
        "\r",
        "Loaded frame 192 of 1280"
       ]
      },
      {
       "output_type": "stream",
       "stream": "stdout",
       "text": [
        "\r",
        "Loaded frame 193 of 1280"
       ]
      },
      {
       "output_type": "stream",
       "stream": "stdout",
       "text": [
        "\r",
        "Loaded frame 194 of 1280"
       ]
      },
      {
       "output_type": "stream",
       "stream": "stdout",
       "text": [
        "\r",
        "Loaded frame 195 of 1280"
       ]
      },
      {
       "output_type": "stream",
       "stream": "stdout",
       "text": [
        "\r",
        "Loaded frame 196 of 1280"
       ]
      },
      {
       "output_type": "stream",
       "stream": "stdout",
       "text": [
        "\r",
        "Loaded frame 197 of 1280"
       ]
      },
      {
       "output_type": "stream",
       "stream": "stdout",
       "text": [
        "\r",
        "Loaded frame 198 of 1280"
       ]
      },
      {
       "output_type": "stream",
       "stream": "stdout",
       "text": [
        "\r",
        "Loaded frame 199 of 1280"
       ]
      },
      {
       "output_type": "stream",
       "stream": "stdout",
       "text": [
        "\r",
        "Loaded frame 200 of 1280"
       ]
      },
      {
       "output_type": "stream",
       "stream": "stdout",
       "text": [
        "\r",
        "Loaded frame 201 of 1280"
       ]
      },
      {
       "output_type": "stream",
       "stream": "stdout",
       "text": [
        "\r",
        "Loaded frame 202 of 1280"
       ]
      },
      {
       "output_type": "stream",
       "stream": "stdout",
       "text": [
        "\r",
        "Loaded frame 203 of 1280"
       ]
      },
      {
       "output_type": "stream",
       "stream": "stdout",
       "text": [
        "\r",
        "Loaded frame 204 of 1280"
       ]
      },
      {
       "output_type": "stream",
       "stream": "stdout",
       "text": [
        "\r",
        "Loaded frame 205 of 1280"
       ]
      },
      {
       "output_type": "stream",
       "stream": "stdout",
       "text": [
        "\r",
        "Loaded frame 206 of 1280"
       ]
      },
      {
       "output_type": "stream",
       "stream": "stdout",
       "text": [
        "\r",
        "Loaded frame 207 of 1280"
       ]
      },
      {
       "output_type": "stream",
       "stream": "stdout",
       "text": [
        "\r",
        "Loaded frame 208 of 1280"
       ]
      },
      {
       "output_type": "stream",
       "stream": "stdout",
       "text": [
        "\r",
        "Loaded frame 209 of 1280"
       ]
      },
      {
       "output_type": "stream",
       "stream": "stdout",
       "text": [
        "\r",
        "Loaded frame 210 of 1280"
       ]
      },
      {
       "output_type": "stream",
       "stream": "stdout",
       "text": [
        "\r",
        "Loaded frame 211 of 1280"
       ]
      },
      {
       "output_type": "stream",
       "stream": "stdout",
       "text": [
        "\r",
        "Loaded frame 212 of 1280"
       ]
      },
      {
       "output_type": "stream",
       "stream": "stdout",
       "text": [
        "\r",
        "Loaded frame 213 of 1280"
       ]
      },
      {
       "output_type": "stream",
       "stream": "stdout",
       "text": [
        "\r",
        "Loaded frame 214 of 1280"
       ]
      },
      {
       "output_type": "stream",
       "stream": "stdout",
       "text": [
        "\r",
        "Loaded frame 215 of 1280"
       ]
      },
      {
       "output_type": "stream",
       "stream": "stdout",
       "text": [
        "\r",
        "Loaded frame 216 of 1280"
       ]
      },
      {
       "output_type": "stream",
       "stream": "stdout",
       "text": [
        "\r",
        "Loaded frame 217 of 1280"
       ]
      },
      {
       "output_type": "stream",
       "stream": "stdout",
       "text": [
        "\r",
        "Loaded frame 218 of 1280"
       ]
      },
      {
       "output_type": "stream",
       "stream": "stdout",
       "text": [
        "\r",
        "Loaded frame 219 of 1280"
       ]
      },
      {
       "output_type": "stream",
       "stream": "stdout",
       "text": [
        "\r",
        "Loaded frame 220 of 1280"
       ]
      },
      {
       "output_type": "stream",
       "stream": "stdout",
       "text": [
        "\r",
        "Loaded frame 221 of 1280"
       ]
      },
      {
       "output_type": "stream",
       "stream": "stdout",
       "text": [
        "\r",
        "Loaded frame 222 of 1280"
       ]
      },
      {
       "output_type": "stream",
       "stream": "stdout",
       "text": [
        "\r",
        "Loaded frame 223 of 1280"
       ]
      },
      {
       "output_type": "stream",
       "stream": "stdout",
       "text": [
        "\r",
        "Loaded frame 224 of 1280"
       ]
      },
      {
       "output_type": "stream",
       "stream": "stdout",
       "text": [
        "\r",
        "Loaded frame 225 of 1280"
       ]
      },
      {
       "output_type": "stream",
       "stream": "stdout",
       "text": [
        "\r",
        "Loaded frame 226 of 1280"
       ]
      },
      {
       "output_type": "stream",
       "stream": "stdout",
       "text": [
        "\r",
        "Loaded frame 227 of 1280"
       ]
      },
      {
       "output_type": "stream",
       "stream": "stdout",
       "text": [
        "\r",
        "Loaded frame 228 of 1280"
       ]
      },
      {
       "output_type": "stream",
       "stream": "stdout",
       "text": [
        "\r",
        "Loaded frame 229 of 1280"
       ]
      },
      {
       "output_type": "stream",
       "stream": "stdout",
       "text": [
        "\r",
        "Loaded frame 230 of 1280"
       ]
      },
      {
       "output_type": "stream",
       "stream": "stdout",
       "text": [
        "\r",
        "Loaded frame 231 of 1280"
       ]
      },
      {
       "output_type": "stream",
       "stream": "stdout",
       "text": [
        "\r",
        "Loaded frame 232 of 1280"
       ]
      },
      {
       "output_type": "stream",
       "stream": "stdout",
       "text": [
        "\r",
        "Loaded frame 233 of 1280"
       ]
      },
      {
       "output_type": "stream",
       "stream": "stdout",
       "text": [
        "\r",
        "Loaded frame 234 of 1280"
       ]
      },
      {
       "output_type": "stream",
       "stream": "stdout",
       "text": [
        "\r",
        "Loaded frame 235 of 1280"
       ]
      },
      {
       "output_type": "stream",
       "stream": "stdout",
       "text": [
        "\r",
        "Loaded frame 236 of 1280"
       ]
      },
      {
       "output_type": "stream",
       "stream": "stdout",
       "text": [
        "\r",
        "Loaded frame 237 of 1280"
       ]
      },
      {
       "output_type": "stream",
       "stream": "stdout",
       "text": [
        "\r",
        "Loaded frame 238 of 1280"
       ]
      },
      {
       "output_type": "stream",
       "stream": "stdout",
       "text": [
        "\r",
        "Loaded frame 239 of 1280"
       ]
      },
      {
       "output_type": "stream",
       "stream": "stdout",
       "text": [
        "\r",
        "Loaded frame 240 of 1280"
       ]
      },
      {
       "output_type": "stream",
       "stream": "stdout",
       "text": [
        "\r",
        "Loaded frame 241 of 1280"
       ]
      },
      {
       "output_type": "stream",
       "stream": "stdout",
       "text": [
        "\r",
        "Loaded frame 242 of 1280"
       ]
      },
      {
       "output_type": "stream",
       "stream": "stdout",
       "text": [
        "\r",
        "Loaded frame 243 of 1280"
       ]
      },
      {
       "output_type": "stream",
       "stream": "stdout",
       "text": [
        "\r",
        "Loaded frame 244 of 1280"
       ]
      },
      {
       "output_type": "stream",
       "stream": "stdout",
       "text": [
        "\r",
        "Loaded frame 245 of 1280"
       ]
      },
      {
       "output_type": "stream",
       "stream": "stdout",
       "text": [
        "\r",
        "Loaded frame 246 of 1280"
       ]
      },
      {
       "output_type": "stream",
       "stream": "stdout",
       "text": [
        "\r",
        "Loaded frame 247 of 1280"
       ]
      },
      {
       "output_type": "stream",
       "stream": "stdout",
       "text": [
        "\r",
        "Loaded frame 248 of 1280"
       ]
      },
      {
       "output_type": "stream",
       "stream": "stdout",
       "text": [
        "\r",
        "Loaded frame 249 of 1280"
       ]
      },
      {
       "output_type": "stream",
       "stream": "stdout",
       "text": [
        "\r",
        "Loaded frame 250 of 1280"
       ]
      },
      {
       "output_type": "stream",
       "stream": "stdout",
       "text": [
        "\r",
        "Loaded frame 251 of 1280"
       ]
      },
      {
       "output_type": "stream",
       "stream": "stdout",
       "text": [
        "\r",
        "Loaded frame 252 of 1280"
       ]
      },
      {
       "output_type": "stream",
       "stream": "stdout",
       "text": [
        "\r",
        "Loaded frame 253 of 1280"
       ]
      },
      {
       "output_type": "stream",
       "stream": "stdout",
       "text": [
        "\r",
        "Loaded frame 254 of 1280"
       ]
      },
      {
       "output_type": "stream",
       "stream": "stdout",
       "text": [
        "\r",
        "Loaded frame 255 of 1280"
       ]
      },
      {
       "output_type": "stream",
       "stream": "stdout",
       "text": [
        "\r",
        "Loaded frame 256 of 1280"
       ]
      },
      {
       "output_type": "stream",
       "stream": "stdout",
       "text": [
        "\r",
        "Loaded frame 257 of 1280"
       ]
      },
      {
       "output_type": "stream",
       "stream": "stdout",
       "text": [
        "\r",
        "Loaded frame 258 of 1280"
       ]
      },
      {
       "output_type": "stream",
       "stream": "stdout",
       "text": [
        "\r",
        "Loaded frame 259 of 1280"
       ]
      },
      {
       "output_type": "stream",
       "stream": "stdout",
       "text": [
        "\r",
        "Loaded frame 260 of 1280"
       ]
      },
      {
       "output_type": "stream",
       "stream": "stdout",
       "text": [
        "\r",
        "Loaded frame 261 of 1280"
       ]
      },
      {
       "output_type": "stream",
       "stream": "stdout",
       "text": [
        "\r",
        "Loaded frame 262 of 1280"
       ]
      },
      {
       "output_type": "stream",
       "stream": "stdout",
       "text": [
        "\r",
        "Loaded frame 263 of 1280"
       ]
      },
      {
       "output_type": "stream",
       "stream": "stdout",
       "text": [
        "\r",
        "Loaded frame 264 of 1280"
       ]
      },
      {
       "output_type": "stream",
       "stream": "stdout",
       "text": [
        "\r",
        "Loaded frame 265 of 1280"
       ]
      },
      {
       "output_type": "stream",
       "stream": "stdout",
       "text": [
        "\r",
        "Loaded frame 266 of 1280"
       ]
      },
      {
       "output_type": "stream",
       "stream": "stdout",
       "text": [
        "\r",
        "Loaded frame 267 of 1280"
       ]
      },
      {
       "output_type": "stream",
       "stream": "stdout",
       "text": [
        "\r",
        "Loaded frame 268 of 1280"
       ]
      },
      {
       "output_type": "stream",
       "stream": "stdout",
       "text": [
        "\r",
        "Loaded frame 269 of 1280"
       ]
      },
      {
       "output_type": "stream",
       "stream": "stdout",
       "text": [
        "\r",
        "Loaded frame 270 of 1280"
       ]
      },
      {
       "output_type": "stream",
       "stream": "stdout",
       "text": [
        "\r",
        "Loaded frame 271 of 1280"
       ]
      },
      {
       "output_type": "stream",
       "stream": "stdout",
       "text": [
        "\r",
        "Loaded frame 272 of 1280"
       ]
      },
      {
       "output_type": "stream",
       "stream": "stdout",
       "text": [
        "\r",
        "Loaded frame 273 of 1280"
       ]
      },
      {
       "output_type": "stream",
       "stream": "stdout",
       "text": [
        "\r",
        "Loaded frame 274 of 1280"
       ]
      },
      {
       "output_type": "stream",
       "stream": "stdout",
       "text": [
        "\r",
        "Loaded frame 275 of 1280"
       ]
      },
      {
       "output_type": "stream",
       "stream": "stdout",
       "text": [
        "\r",
        "Loaded frame 276 of 1280"
       ]
      },
      {
       "output_type": "stream",
       "stream": "stdout",
       "text": [
        "\r",
        "Loaded frame 277 of 1280"
       ]
      },
      {
       "output_type": "stream",
       "stream": "stdout",
       "text": [
        "\r",
        "Loaded frame 278 of 1280"
       ]
      },
      {
       "output_type": "stream",
       "stream": "stdout",
       "text": [
        "\r",
        "Loaded frame 279 of 1280"
       ]
      },
      {
       "output_type": "stream",
       "stream": "stdout",
       "text": [
        "\r",
        "Loaded frame 280 of 1280"
       ]
      },
      {
       "output_type": "stream",
       "stream": "stdout",
       "text": [
        "\r",
        "Loaded frame 281 of 1280"
       ]
      },
      {
       "output_type": "stream",
       "stream": "stdout",
       "text": [
        "\r",
        "Loaded frame 282 of 1280"
       ]
      },
      {
       "output_type": "stream",
       "stream": "stdout",
       "text": [
        "\r",
        "Loaded frame 283 of 1280"
       ]
      },
      {
       "output_type": "stream",
       "stream": "stdout",
       "text": [
        "\r",
        "Loaded frame 284 of 1280"
       ]
      },
      {
       "output_type": "stream",
       "stream": "stdout",
       "text": [
        "\r",
        "Loaded frame 285 of 1280"
       ]
      },
      {
       "output_type": "stream",
       "stream": "stdout",
       "text": [
        "\r",
        "Loaded frame 286 of 1280"
       ]
      },
      {
       "output_type": "stream",
       "stream": "stdout",
       "text": [
        "\r",
        "Loaded frame 287 of 1280"
       ]
      },
      {
       "output_type": "stream",
       "stream": "stdout",
       "text": [
        "\r",
        "Loaded frame 288 of 1280"
       ]
      },
      {
       "output_type": "stream",
       "stream": "stdout",
       "text": [
        "\r",
        "Loaded frame 289 of 1280"
       ]
      },
      {
       "output_type": "stream",
       "stream": "stdout",
       "text": [
        "\r",
        "Loaded frame 290 of 1280"
       ]
      },
      {
       "output_type": "stream",
       "stream": "stdout",
       "text": [
        "\r",
        "Loaded frame 291 of 1280"
       ]
      },
      {
       "output_type": "stream",
       "stream": "stdout",
       "text": [
        "\r",
        "Loaded frame 292 of 1280"
       ]
      },
      {
       "output_type": "stream",
       "stream": "stdout",
       "text": [
        "\r",
        "Loaded frame 293 of 1280"
       ]
      },
      {
       "output_type": "stream",
       "stream": "stdout",
       "text": [
        "\r",
        "Loaded frame 294 of 1280"
       ]
      },
      {
       "output_type": "stream",
       "stream": "stdout",
       "text": [
        "\r",
        "Loaded frame 295 of 1280"
       ]
      },
      {
       "output_type": "stream",
       "stream": "stdout",
       "text": [
        "\r",
        "Loaded frame 296 of 1280"
       ]
      },
      {
       "output_type": "stream",
       "stream": "stdout",
       "text": [
        "\r",
        "Loaded frame 297 of 1280"
       ]
      },
      {
       "output_type": "stream",
       "stream": "stdout",
       "text": [
        "\r",
        "Loaded frame 298 of 1280"
       ]
      },
      {
       "output_type": "stream",
       "stream": "stdout",
       "text": [
        "\r",
        "Loaded frame 299 of 1280"
       ]
      },
      {
       "output_type": "stream",
       "stream": "stdout",
       "text": [
        "\r",
        "Loaded frame 300 of 1280"
       ]
      },
      {
       "output_type": "stream",
       "stream": "stdout",
       "text": [
        "\r",
        "Loaded frame 301 of 1280"
       ]
      },
      {
       "output_type": "stream",
       "stream": "stdout",
       "text": [
        "\r",
        "Loaded frame 302 of 1280"
       ]
      },
      {
       "output_type": "stream",
       "stream": "stdout",
       "text": [
        "\r",
        "Loaded frame 303 of 1280"
       ]
      },
      {
       "output_type": "stream",
       "stream": "stdout",
       "text": [
        "\r",
        "Loaded frame 304 of 1280"
       ]
      },
      {
       "output_type": "stream",
       "stream": "stdout",
       "text": [
        "\r",
        "Loaded frame 305 of 1280"
       ]
      },
      {
       "output_type": "stream",
       "stream": "stdout",
       "text": [
        "\r",
        "Loaded frame 306 of 1280"
       ]
      },
      {
       "output_type": "stream",
       "stream": "stdout",
       "text": [
        "\r",
        "Loaded frame 307 of 1280"
       ]
      },
      {
       "output_type": "stream",
       "stream": "stdout",
       "text": [
        "\r",
        "Loaded frame 308 of 1280"
       ]
      },
      {
       "output_type": "stream",
       "stream": "stdout",
       "text": [
        "\r",
        "Loaded frame 309 of 1280"
       ]
      },
      {
       "output_type": "stream",
       "stream": "stdout",
       "text": [
        "\r",
        "Loaded frame 310 of 1280"
       ]
      },
      {
       "output_type": "stream",
       "stream": "stdout",
       "text": [
        "\r",
        "Loaded frame 311 of 1280"
       ]
      },
      {
       "output_type": "stream",
       "stream": "stdout",
       "text": [
        "\r",
        "Loaded frame 312 of 1280"
       ]
      },
      {
       "output_type": "stream",
       "stream": "stdout",
       "text": [
        "\r",
        "Loaded frame 313 of 1280"
       ]
      },
      {
       "output_type": "stream",
       "stream": "stdout",
       "text": [
        "\r",
        "Loaded frame 314 of 1280"
       ]
      },
      {
       "output_type": "stream",
       "stream": "stdout",
       "text": [
        "\r",
        "Loaded frame 315 of 1280"
       ]
      },
      {
       "output_type": "stream",
       "stream": "stdout",
       "text": [
        "\r",
        "Loaded frame 316 of 1280"
       ]
      },
      {
       "output_type": "stream",
       "stream": "stdout",
       "text": [
        "\r",
        "Loaded frame 317 of 1280"
       ]
      },
      {
       "output_type": "stream",
       "stream": "stdout",
       "text": [
        "\r",
        "Loaded frame 318 of 1280"
       ]
      },
      {
       "output_type": "stream",
       "stream": "stdout",
       "text": [
        "\r",
        "Loaded frame 319 of 1280"
       ]
      },
      {
       "output_type": "stream",
       "stream": "stdout",
       "text": [
        "\r",
        "Loaded frame 320 of 1280"
       ]
      },
      {
       "output_type": "stream",
       "stream": "stdout",
       "text": [
        "\r",
        "Loaded frame 321 of 1280"
       ]
      },
      {
       "output_type": "stream",
       "stream": "stdout",
       "text": [
        "\r",
        "Loaded frame 322 of 1280"
       ]
      },
      {
       "output_type": "stream",
       "stream": "stdout",
       "text": [
        "\r",
        "Loaded frame 323 of 1280"
       ]
      },
      {
       "output_type": "stream",
       "stream": "stdout",
       "text": [
        "\r",
        "Loaded frame 324 of 1280"
       ]
      },
      {
       "output_type": "stream",
       "stream": "stdout",
       "text": [
        "\r",
        "Loaded frame 325 of 1280"
       ]
      },
      {
       "output_type": "stream",
       "stream": "stdout",
       "text": [
        "\r",
        "Loaded frame 326 of 1280"
       ]
      },
      {
       "output_type": "stream",
       "stream": "stdout",
       "text": [
        "\r",
        "Loaded frame 327 of 1280"
       ]
      },
      {
       "output_type": "stream",
       "stream": "stdout",
       "text": [
        "\r",
        "Loaded frame 328 of 1280"
       ]
      },
      {
       "output_type": "stream",
       "stream": "stdout",
       "text": [
        "\r",
        "Loaded frame 329 of 1280"
       ]
      },
      {
       "output_type": "stream",
       "stream": "stdout",
       "text": [
        "\r",
        "Loaded frame 330 of 1280"
       ]
      },
      {
       "output_type": "stream",
       "stream": "stdout",
       "text": [
        "\r",
        "Loaded frame 331 of 1280"
       ]
      },
      {
       "output_type": "stream",
       "stream": "stdout",
       "text": [
        "\r",
        "Loaded frame 332 of 1280"
       ]
      },
      {
       "output_type": "stream",
       "stream": "stdout",
       "text": [
        "\r",
        "Loaded frame 333 of 1280"
       ]
      },
      {
       "output_type": "stream",
       "stream": "stdout",
       "text": [
        "\r",
        "Loaded frame 334 of 1280"
       ]
      },
      {
       "output_type": "stream",
       "stream": "stdout",
       "text": [
        "\r",
        "Loaded frame 335 of 1280"
       ]
      },
      {
       "output_type": "stream",
       "stream": "stdout",
       "text": [
        "\r",
        "Loaded frame 336 of 1280"
       ]
      },
      {
       "output_type": "stream",
       "stream": "stdout",
       "text": [
        "\r",
        "Loaded frame 337 of 1280"
       ]
      },
      {
       "output_type": "stream",
       "stream": "stdout",
       "text": [
        "\r",
        "Loaded frame 338 of 1280"
       ]
      },
      {
       "output_type": "stream",
       "stream": "stdout",
       "text": [
        "\r",
        "Loaded frame 339 of 1280"
       ]
      },
      {
       "output_type": "stream",
       "stream": "stdout",
       "text": [
        "\r",
        "Loaded frame 340 of 1280"
       ]
      },
      {
       "output_type": "stream",
       "stream": "stdout",
       "text": [
        "\r",
        "Loaded frame 341 of 1280"
       ]
      },
      {
       "output_type": "stream",
       "stream": "stdout",
       "text": [
        "\r",
        "Loaded frame 342 of 1280"
       ]
      },
      {
       "output_type": "stream",
       "stream": "stdout",
       "text": [
        "\r",
        "Loaded frame 343 of 1280"
       ]
      },
      {
       "output_type": "stream",
       "stream": "stdout",
       "text": [
        "\r",
        "Loaded frame 344 of 1280"
       ]
      },
      {
       "output_type": "stream",
       "stream": "stdout",
       "text": [
        "\r",
        "Loaded frame 345 of 1280"
       ]
      },
      {
       "output_type": "stream",
       "stream": "stdout",
       "text": [
        "\r",
        "Loaded frame 346 of 1280"
       ]
      },
      {
       "output_type": "stream",
       "stream": "stdout",
       "text": [
        "\r",
        "Loaded frame 347 of 1280"
       ]
      },
      {
       "output_type": "stream",
       "stream": "stdout",
       "text": [
        "\r",
        "Loaded frame 348 of 1280"
       ]
      },
      {
       "output_type": "stream",
       "stream": "stdout",
       "text": [
        "\r",
        "Loaded frame 349 of 1280"
       ]
      },
      {
       "output_type": "stream",
       "stream": "stdout",
       "text": [
        "\r",
        "Loaded frame 350 of 1280"
       ]
      },
      {
       "output_type": "stream",
       "stream": "stdout",
       "text": [
        "\r",
        "Loaded frame 351 of 1280"
       ]
      },
      {
       "output_type": "stream",
       "stream": "stdout",
       "text": [
        "\r",
        "Loaded frame 352 of 1280"
       ]
      },
      {
       "output_type": "stream",
       "stream": "stdout",
       "text": [
        "\r",
        "Loaded frame 353 of 1280"
       ]
      },
      {
       "output_type": "stream",
       "stream": "stdout",
       "text": [
        "\r",
        "Loaded frame 354 of 1280"
       ]
      },
      {
       "output_type": "stream",
       "stream": "stdout",
       "text": [
        "\r",
        "Loaded frame 355 of 1280"
       ]
      },
      {
       "output_type": "stream",
       "stream": "stdout",
       "text": [
        "\r",
        "Loaded frame 356 of 1280"
       ]
      },
      {
       "output_type": "stream",
       "stream": "stdout",
       "text": [
        "\r",
        "Loaded frame 357 of 1280"
       ]
      },
      {
       "output_type": "stream",
       "stream": "stdout",
       "text": [
        "\r",
        "Loaded frame 358 of 1280"
       ]
      },
      {
       "output_type": "stream",
       "stream": "stdout",
       "text": [
        "\r",
        "Loaded frame 359 of 1280"
       ]
      },
      {
       "output_type": "stream",
       "stream": "stdout",
       "text": [
        "\r",
        "Loaded frame 360 of 1280"
       ]
      },
      {
       "output_type": "stream",
       "stream": "stdout",
       "text": [
        "\r",
        "Loaded frame 361 of 1280"
       ]
      },
      {
       "output_type": "stream",
       "stream": "stdout",
       "text": [
        "\r",
        "Loaded frame 362 of 1280"
       ]
      },
      {
       "output_type": "stream",
       "stream": "stdout",
       "text": [
        "\r",
        "Loaded frame 363 of 1280"
       ]
      },
      {
       "output_type": "stream",
       "stream": "stdout",
       "text": [
        "\r",
        "Loaded frame 364 of 1280"
       ]
      },
      {
       "output_type": "stream",
       "stream": "stdout",
       "text": [
        "\r",
        "Loaded frame 365 of 1280"
       ]
      },
      {
       "output_type": "stream",
       "stream": "stdout",
       "text": [
        "\r",
        "Loaded frame 366 of 1280"
       ]
      },
      {
       "output_type": "stream",
       "stream": "stdout",
       "text": [
        "\r",
        "Loaded frame 367 of 1280"
       ]
      },
      {
       "output_type": "stream",
       "stream": "stdout",
       "text": [
        "\r",
        "Loaded frame 368 of 1280"
       ]
      },
      {
       "output_type": "stream",
       "stream": "stdout",
       "text": [
        "\r",
        "Loaded frame 369 of 1280"
       ]
      },
      {
       "output_type": "stream",
       "stream": "stdout",
       "text": [
        "\r",
        "Loaded frame 370 of 1280"
       ]
      },
      {
       "output_type": "stream",
       "stream": "stdout",
       "text": [
        "\r",
        "Loaded frame 371 of 1280"
       ]
      },
      {
       "output_type": "stream",
       "stream": "stdout",
       "text": [
        "\r",
        "Loaded frame 372 of 1280"
       ]
      },
      {
       "output_type": "stream",
       "stream": "stdout",
       "text": [
        "\r",
        "Loaded frame 373 of 1280"
       ]
      },
      {
       "output_type": "stream",
       "stream": "stdout",
       "text": [
        "\r",
        "Loaded frame 374 of 1280"
       ]
      },
      {
       "output_type": "stream",
       "stream": "stdout",
       "text": [
        "\r",
        "Loaded frame 375 of 1280"
       ]
      },
      {
       "output_type": "stream",
       "stream": "stdout",
       "text": [
        "\r",
        "Loaded frame 376 of 1280"
       ]
      },
      {
       "output_type": "stream",
       "stream": "stdout",
       "text": [
        "\r",
        "Loaded frame 377 of 1280"
       ]
      },
      {
       "output_type": "stream",
       "stream": "stdout",
       "text": [
        "\r",
        "Loaded frame 378 of 1280"
       ]
      },
      {
       "output_type": "stream",
       "stream": "stdout",
       "text": [
        "\r",
        "Loaded frame 379 of 1280"
       ]
      },
      {
       "output_type": "stream",
       "stream": "stdout",
       "text": [
        "\r",
        "Loaded frame 380 of 1280"
       ]
      },
      {
       "output_type": "stream",
       "stream": "stdout",
       "text": [
        "\r",
        "Loaded frame 381 of 1280"
       ]
      },
      {
       "output_type": "stream",
       "stream": "stdout",
       "text": [
        "\r",
        "Loaded frame 382 of 1280"
       ]
      },
      {
       "output_type": "stream",
       "stream": "stdout",
       "text": [
        "\r",
        "Loaded frame 383 of 1280"
       ]
      },
      {
       "output_type": "stream",
       "stream": "stdout",
       "text": [
        "\r",
        "Loaded frame 384 of 1280"
       ]
      },
      {
       "output_type": "stream",
       "stream": "stdout",
       "text": [
        "\r",
        "Loaded frame 385 of 1280"
       ]
      },
      {
       "output_type": "stream",
       "stream": "stdout",
       "text": [
        "\r",
        "Loaded frame 386 of 1280"
       ]
      },
      {
       "output_type": "stream",
       "stream": "stdout",
       "text": [
        "\r",
        "Loaded frame 387 of 1280"
       ]
      },
      {
       "output_type": "stream",
       "stream": "stdout",
       "text": [
        "\r",
        "Loaded frame 388 of 1280"
       ]
      },
      {
       "output_type": "stream",
       "stream": "stdout",
       "text": [
        "\r",
        "Loaded frame 389 of 1280"
       ]
      },
      {
       "output_type": "stream",
       "stream": "stdout",
       "text": [
        "\r",
        "Loaded frame 390 of 1280"
       ]
      },
      {
       "output_type": "stream",
       "stream": "stdout",
       "text": [
        "\r",
        "Loaded frame 391 of 1280"
       ]
      },
      {
       "output_type": "stream",
       "stream": "stdout",
       "text": [
        "\r",
        "Loaded frame 392 of 1280"
       ]
      },
      {
       "output_type": "stream",
       "stream": "stdout",
       "text": [
        "\r",
        "Loaded frame 393 of 1280"
       ]
      },
      {
       "output_type": "stream",
       "stream": "stdout",
       "text": [
        "\r",
        "Loaded frame 394 of 1280"
       ]
      },
      {
       "output_type": "stream",
       "stream": "stdout",
       "text": [
        "\r",
        "Loaded frame 395 of 1280"
       ]
      },
      {
       "output_type": "stream",
       "stream": "stdout",
       "text": [
        "\r",
        "Loaded frame 396 of 1280"
       ]
      },
      {
       "output_type": "stream",
       "stream": "stdout",
       "text": [
        "\r",
        "Loaded frame 397 of 1280"
       ]
      },
      {
       "output_type": "stream",
       "stream": "stdout",
       "text": [
        "\r",
        "Loaded frame 398 of 1280"
       ]
      },
      {
       "output_type": "stream",
       "stream": "stdout",
       "text": [
        "\r",
        "Loaded frame 399 of 1280"
       ]
      },
      {
       "output_type": "stream",
       "stream": "stdout",
       "text": [
        "\r",
        "Loaded frame 400 of 1280"
       ]
      },
      {
       "output_type": "stream",
       "stream": "stdout",
       "text": [
        "\r",
        "Loaded frame 401 of 1280"
       ]
      },
      {
       "output_type": "stream",
       "stream": "stdout",
       "text": [
        "\r",
        "Loaded frame 402 of 1280"
       ]
      },
      {
       "output_type": "stream",
       "stream": "stdout",
       "text": [
        "\r",
        "Loaded frame 403 of 1280"
       ]
      },
      {
       "output_type": "stream",
       "stream": "stdout",
       "text": [
        "\r",
        "Loaded frame 404 of 1280"
       ]
      },
      {
       "output_type": "stream",
       "stream": "stdout",
       "text": [
        "\r",
        "Loaded frame 405 of 1280"
       ]
      },
      {
       "output_type": "stream",
       "stream": "stdout",
       "text": [
        "\r",
        "Loaded frame 406 of 1280"
       ]
      },
      {
       "output_type": "stream",
       "stream": "stdout",
       "text": [
        "\r",
        "Loaded frame 407 of 1280"
       ]
      },
      {
       "output_type": "stream",
       "stream": "stdout",
       "text": [
        "\r",
        "Loaded frame 408 of 1280"
       ]
      },
      {
       "output_type": "stream",
       "stream": "stdout",
       "text": [
        "\r",
        "Loaded frame 409 of 1280"
       ]
      },
      {
       "output_type": "stream",
       "stream": "stdout",
       "text": [
        "\r",
        "Loaded frame 410 of 1280"
       ]
      },
      {
       "output_type": "stream",
       "stream": "stdout",
       "text": [
        "\r",
        "Loaded frame 411 of 1280"
       ]
      },
      {
       "output_type": "stream",
       "stream": "stdout",
       "text": [
        "\r",
        "Loaded frame 412 of 1280"
       ]
      },
      {
       "output_type": "stream",
       "stream": "stdout",
       "text": [
        "\r",
        "Loaded frame 413 of 1280"
       ]
      },
      {
       "output_type": "stream",
       "stream": "stdout",
       "text": [
        "\r",
        "Loaded frame 414 of 1280"
       ]
      },
      {
       "output_type": "stream",
       "stream": "stdout",
       "text": [
        "\r",
        "Loaded frame 415 of 1280"
       ]
      },
      {
       "output_type": "stream",
       "stream": "stdout",
       "text": [
        "\r",
        "Loaded frame 416 of 1280"
       ]
      },
      {
       "output_type": "stream",
       "stream": "stdout",
       "text": [
        "\r",
        "Loaded frame 417 of 1280"
       ]
      },
      {
       "output_type": "stream",
       "stream": "stdout",
       "text": [
        "\r",
        "Loaded frame 418 of 1280"
       ]
      },
      {
       "output_type": "stream",
       "stream": "stdout",
       "text": [
        "\r",
        "Loaded frame 419 of 1280"
       ]
      },
      {
       "output_type": "stream",
       "stream": "stdout",
       "text": [
        "\r",
        "Loaded frame 420 of 1280"
       ]
      },
      {
       "output_type": "stream",
       "stream": "stdout",
       "text": [
        "\r",
        "Loaded frame 421 of 1280"
       ]
      },
      {
       "output_type": "stream",
       "stream": "stdout",
       "text": [
        "\r",
        "Loaded frame 422 of 1280"
       ]
      },
      {
       "output_type": "stream",
       "stream": "stdout",
       "text": [
        "\r",
        "Loaded frame 423 of 1280"
       ]
      },
      {
       "output_type": "stream",
       "stream": "stdout",
       "text": [
        "\r",
        "Loaded frame 424 of 1280"
       ]
      },
      {
       "output_type": "stream",
       "stream": "stdout",
       "text": [
        "\r",
        "Loaded frame 425 of 1280"
       ]
      },
      {
       "output_type": "stream",
       "stream": "stdout",
       "text": [
        "\r",
        "Loaded frame 426 of 1280"
       ]
      },
      {
       "output_type": "stream",
       "stream": "stdout",
       "text": [
        "\r",
        "Loaded frame 427 of 1280"
       ]
      },
      {
       "output_type": "stream",
       "stream": "stdout",
       "text": [
        "\r",
        "Loaded frame 428 of 1280"
       ]
      },
      {
       "output_type": "stream",
       "stream": "stdout",
       "text": [
        "\r",
        "Loaded frame 429 of 1280"
       ]
      },
      {
       "output_type": "stream",
       "stream": "stdout",
       "text": [
        "\r",
        "Loaded frame 430 of 1280"
       ]
      },
      {
       "output_type": "stream",
       "stream": "stdout",
       "text": [
        "\r",
        "Loaded frame 431 of 1280"
       ]
      },
      {
       "output_type": "stream",
       "stream": "stdout",
       "text": [
        "\r",
        "Loaded frame 432 of 1280"
       ]
      },
      {
       "output_type": "stream",
       "stream": "stdout",
       "text": [
        "\r",
        "Loaded frame 433 of 1280"
       ]
      },
      {
       "output_type": "stream",
       "stream": "stdout",
       "text": [
        "\r",
        "Loaded frame 434 of 1280"
       ]
      },
      {
       "output_type": "stream",
       "stream": "stdout",
       "text": [
        "\r",
        "Loaded frame 435 of 1280"
       ]
      },
      {
       "output_type": "stream",
       "stream": "stdout",
       "text": [
        "\r",
        "Loaded frame 436 of 1280"
       ]
      },
      {
       "output_type": "stream",
       "stream": "stdout",
       "text": [
        "\r",
        "Loaded frame 437 of 1280"
       ]
      },
      {
       "output_type": "stream",
       "stream": "stdout",
       "text": [
        "\r",
        "Loaded frame 438 of 1280"
       ]
      },
      {
       "output_type": "stream",
       "stream": "stdout",
       "text": [
        "\r",
        "Loaded frame 439 of 1280"
       ]
      },
      {
       "output_type": "stream",
       "stream": "stdout",
       "text": [
        "\r",
        "Loaded frame 440 of 1280"
       ]
      },
      {
       "output_type": "stream",
       "stream": "stdout",
       "text": [
        "\r",
        "Loaded frame 441 of 1280"
       ]
      },
      {
       "output_type": "stream",
       "stream": "stdout",
       "text": [
        "\r",
        "Loaded frame 442 of 1280"
       ]
      },
      {
       "output_type": "stream",
       "stream": "stdout",
       "text": [
        "\r",
        "Loaded frame 443 of 1280"
       ]
      },
      {
       "output_type": "stream",
       "stream": "stdout",
       "text": [
        "\r",
        "Loaded frame 444 of 1280"
       ]
      },
      {
       "output_type": "stream",
       "stream": "stdout",
       "text": [
        "\r",
        "Loaded frame 445 of 1280"
       ]
      },
      {
       "output_type": "stream",
       "stream": "stdout",
       "text": [
        "\r",
        "Loaded frame 446 of 1280"
       ]
      },
      {
       "output_type": "stream",
       "stream": "stdout",
       "text": [
        "\r",
        "Loaded frame 447 of 1280"
       ]
      },
      {
       "output_type": "stream",
       "stream": "stdout",
       "text": [
        "\r",
        "Loaded frame 448 of 1280"
       ]
      },
      {
       "output_type": "stream",
       "stream": "stdout",
       "text": [
        "\r",
        "Loaded frame 449 of 1280"
       ]
      },
      {
       "output_type": "stream",
       "stream": "stdout",
       "text": [
        "\r",
        "Loaded frame 450 of 1280"
       ]
      },
      {
       "output_type": "stream",
       "stream": "stdout",
       "text": [
        "\r",
        "Loaded frame 451 of 1280"
       ]
      },
      {
       "output_type": "stream",
       "stream": "stdout",
       "text": [
        "\r",
        "Loaded frame 452 of 1280"
       ]
      },
      {
       "output_type": "stream",
       "stream": "stdout",
       "text": [
        "\r",
        "Loaded frame 453 of 1280"
       ]
      },
      {
       "output_type": "stream",
       "stream": "stdout",
       "text": [
        "\r",
        "Loaded frame 454 of 1280"
       ]
      },
      {
       "output_type": "stream",
       "stream": "stdout",
       "text": [
        "\r",
        "Loaded frame 455 of 1280"
       ]
      },
      {
       "output_type": "stream",
       "stream": "stdout",
       "text": [
        "\r",
        "Loaded frame 456 of 1280"
       ]
      },
      {
       "output_type": "stream",
       "stream": "stdout",
       "text": [
        "\r",
        "Loaded frame 457 of 1280"
       ]
      },
      {
       "output_type": "stream",
       "stream": "stdout",
       "text": [
        "\r",
        "Loaded frame 458 of 1280"
       ]
      },
      {
       "output_type": "stream",
       "stream": "stdout",
       "text": [
        "\r",
        "Loaded frame 459 of 1280"
       ]
      },
      {
       "output_type": "stream",
       "stream": "stdout",
       "text": [
        "\r",
        "Loaded frame 460 of 1280"
       ]
      },
      {
       "output_type": "stream",
       "stream": "stdout",
       "text": [
        "\r",
        "Loaded frame 461 of 1280"
       ]
      },
      {
       "output_type": "stream",
       "stream": "stdout",
       "text": [
        "\r",
        "Loaded frame 462 of 1280"
       ]
      },
      {
       "output_type": "stream",
       "stream": "stdout",
       "text": [
        "\r",
        "Loaded frame 463 of 1280"
       ]
      },
      {
       "output_type": "stream",
       "stream": "stdout",
       "text": [
        "\r",
        "Loaded frame 464 of 1280"
       ]
      },
      {
       "output_type": "stream",
       "stream": "stdout",
       "text": [
        "\r",
        "Loaded frame 465 of 1280"
       ]
      },
      {
       "output_type": "stream",
       "stream": "stdout",
       "text": [
        "\r",
        "Loaded frame 466 of 1280"
       ]
      },
      {
       "output_type": "stream",
       "stream": "stdout",
       "text": [
        "\r",
        "Loaded frame 467 of 1280"
       ]
      },
      {
       "output_type": "stream",
       "stream": "stdout",
       "text": [
        "\r",
        "Loaded frame 468 of 1280"
       ]
      },
      {
       "output_type": "stream",
       "stream": "stdout",
       "text": [
        "\r",
        "Loaded frame 469 of 1280"
       ]
      },
      {
       "output_type": "stream",
       "stream": "stdout",
       "text": [
        "\r",
        "Loaded frame 470 of 1280"
       ]
      },
      {
       "output_type": "stream",
       "stream": "stdout",
       "text": [
        "\r",
        "Loaded frame 471 of 1280"
       ]
      },
      {
       "output_type": "stream",
       "stream": "stdout",
       "text": [
        "\r",
        "Loaded frame 472 of 1280"
       ]
      },
      {
       "output_type": "stream",
       "stream": "stdout",
       "text": [
        "\r",
        "Loaded frame 473 of 1280"
       ]
      },
      {
       "output_type": "stream",
       "stream": "stdout",
       "text": [
        "\r",
        "Loaded frame 474 of 1280"
       ]
      },
      {
       "output_type": "stream",
       "stream": "stdout",
       "text": [
        "\r",
        "Loaded frame 475 of 1280"
       ]
      },
      {
       "output_type": "stream",
       "stream": "stdout",
       "text": [
        "\r",
        "Loaded frame 476 of 1280"
       ]
      },
      {
       "output_type": "stream",
       "stream": "stdout",
       "text": [
        "\r",
        "Loaded frame 477 of 1280"
       ]
      },
      {
       "output_type": "stream",
       "stream": "stdout",
       "text": [
        "\r",
        "Loaded frame 478 of 1280"
       ]
      },
      {
       "output_type": "stream",
       "stream": "stdout",
       "text": [
        "\r",
        "Loaded frame 479 of 1280"
       ]
      },
      {
       "output_type": "stream",
       "stream": "stdout",
       "text": [
        "\r",
        "Loaded frame 480 of 1280"
       ]
      },
      {
       "output_type": "stream",
       "stream": "stdout",
       "text": [
        "\r",
        "Loaded frame 481 of 1280"
       ]
      },
      {
       "output_type": "stream",
       "stream": "stdout",
       "text": [
        "\r",
        "Loaded frame 482 of 1280"
       ]
      },
      {
       "output_type": "stream",
       "stream": "stdout",
       "text": [
        "\r",
        "Loaded frame 483 of 1280"
       ]
      },
      {
       "output_type": "stream",
       "stream": "stdout",
       "text": [
        "\r",
        "Loaded frame 484 of 1280"
       ]
      },
      {
       "output_type": "stream",
       "stream": "stdout",
       "text": [
        "\r",
        "Loaded frame 485 of 1280"
       ]
      },
      {
       "output_type": "stream",
       "stream": "stdout",
       "text": [
        "\r",
        "Loaded frame 486 of 1280"
       ]
      },
      {
       "output_type": "stream",
       "stream": "stdout",
       "text": [
        "\r",
        "Loaded frame 487 of 1280"
       ]
      },
      {
       "output_type": "stream",
       "stream": "stdout",
       "text": [
        "\r",
        "Loaded frame 488 of 1280"
       ]
      },
      {
       "output_type": "stream",
       "stream": "stdout",
       "text": [
        "\r",
        "Loaded frame 489 of 1280"
       ]
      },
      {
       "output_type": "stream",
       "stream": "stdout",
       "text": [
        "\r",
        "Loaded frame 490 of 1280"
       ]
      },
      {
       "output_type": "stream",
       "stream": "stdout",
       "text": [
        "\r",
        "Loaded frame 491 of 1280"
       ]
      },
      {
       "output_type": "stream",
       "stream": "stdout",
       "text": [
        "\r",
        "Loaded frame 492 of 1280"
       ]
      },
      {
       "output_type": "stream",
       "stream": "stdout",
       "text": [
        "\r",
        "Loaded frame 493 of 1280"
       ]
      },
      {
       "output_type": "stream",
       "stream": "stdout",
       "text": [
        "\r",
        "Loaded frame 494 of 1280"
       ]
      },
      {
       "output_type": "stream",
       "stream": "stdout",
       "text": [
        "\r",
        "Loaded frame 495 of 1280"
       ]
      },
      {
       "output_type": "stream",
       "stream": "stdout",
       "text": [
        "\r",
        "Loaded frame 496 of 1280"
       ]
      },
      {
       "output_type": "stream",
       "stream": "stdout",
       "text": [
        "\r",
        "Loaded frame 497 of 1280"
       ]
      },
      {
       "output_type": "stream",
       "stream": "stdout",
       "text": [
        "\r",
        "Loaded frame 498 of 1280"
       ]
      },
      {
       "output_type": "stream",
       "stream": "stdout",
       "text": [
        "\r",
        "Loaded frame 499 of 1280"
       ]
      },
      {
       "output_type": "stream",
       "stream": "stdout",
       "text": [
        "\r",
        "Loaded frame 500 of 1280"
       ]
      },
      {
       "output_type": "stream",
       "stream": "stdout",
       "text": [
        "\r",
        "Loaded frame 501 of 1280"
       ]
      },
      {
       "output_type": "stream",
       "stream": "stdout",
       "text": [
        "\r",
        "Loaded frame 502 of 1280"
       ]
      },
      {
       "output_type": "stream",
       "stream": "stdout",
       "text": [
        "\r",
        "Loaded frame 503 of 1280"
       ]
      },
      {
       "output_type": "stream",
       "stream": "stdout",
       "text": [
        "\r",
        "Loaded frame 504 of 1280"
       ]
      },
      {
       "output_type": "stream",
       "stream": "stdout",
       "text": [
        "\r",
        "Loaded frame 505 of 1280"
       ]
      },
      {
       "output_type": "stream",
       "stream": "stdout",
       "text": [
        "\r",
        "Loaded frame 506 of 1280"
       ]
      },
      {
       "output_type": "stream",
       "stream": "stdout",
       "text": [
        "\r",
        "Loaded frame 507 of 1280"
       ]
      },
      {
       "output_type": "stream",
       "stream": "stdout",
       "text": [
        "\r",
        "Loaded frame 508 of 1280"
       ]
      },
      {
       "output_type": "stream",
       "stream": "stdout",
       "text": [
        "\r",
        "Loaded frame 509 of 1280"
       ]
      },
      {
       "output_type": "stream",
       "stream": "stdout",
       "text": [
        "\r",
        "Loaded frame 510 of 1280"
       ]
      },
      {
       "output_type": "stream",
       "stream": "stdout",
       "text": [
        "\r",
        "Loaded frame 511 of 1280"
       ]
      },
      {
       "output_type": "stream",
       "stream": "stdout",
       "text": [
        "\r",
        "Loaded frame 512 of 1280"
       ]
      },
      {
       "output_type": "stream",
       "stream": "stdout",
       "text": [
        "\r",
        "Loaded frame 513 of 1280"
       ]
      },
      {
       "output_type": "stream",
       "stream": "stdout",
       "text": [
        "\r",
        "Loaded frame 514 of 1280"
       ]
      },
      {
       "output_type": "stream",
       "stream": "stdout",
       "text": [
        "\r",
        "Loaded frame 515 of 1280"
       ]
      },
      {
       "output_type": "stream",
       "stream": "stdout",
       "text": [
        "\r",
        "Loaded frame 516 of 1280"
       ]
      },
      {
       "output_type": "stream",
       "stream": "stdout",
       "text": [
        "\r",
        "Loaded frame 517 of 1280"
       ]
      },
      {
       "output_type": "stream",
       "stream": "stdout",
       "text": [
        "\r",
        "Loaded frame 518 of 1280"
       ]
      },
      {
       "output_type": "stream",
       "stream": "stdout",
       "text": [
        "\r",
        "Loaded frame 519 of 1280"
       ]
      },
      {
       "output_type": "stream",
       "stream": "stdout",
       "text": [
        "\r",
        "Loaded frame 520 of 1280"
       ]
      },
      {
       "output_type": "stream",
       "stream": "stdout",
       "text": [
        "\r",
        "Loaded frame 521 of 1280"
       ]
      },
      {
       "output_type": "stream",
       "stream": "stdout",
       "text": [
        "\r",
        "Loaded frame 522 of 1280"
       ]
      },
      {
       "output_type": "stream",
       "stream": "stdout",
       "text": [
        "\r",
        "Loaded frame 523 of 1280"
       ]
      },
      {
       "output_type": "stream",
       "stream": "stdout",
       "text": [
        "\r",
        "Loaded frame 524 of 1280"
       ]
      },
      {
       "output_type": "stream",
       "stream": "stdout",
       "text": [
        "\r",
        "Loaded frame 525 of 1280"
       ]
      },
      {
       "output_type": "stream",
       "stream": "stdout",
       "text": [
        "\r",
        "Loaded frame 526 of 1280"
       ]
      },
      {
       "output_type": "stream",
       "stream": "stdout",
       "text": [
        "\r",
        "Loaded frame 527 of 1280"
       ]
      },
      {
       "output_type": "stream",
       "stream": "stdout",
       "text": [
        "\r",
        "Loaded frame 528 of 1280"
       ]
      },
      {
       "output_type": "stream",
       "stream": "stdout",
       "text": [
        "\r",
        "Loaded frame 529 of 1280"
       ]
      },
      {
       "output_type": "stream",
       "stream": "stdout",
       "text": [
        "\r",
        "Loaded frame 530 of 1280"
       ]
      },
      {
       "output_type": "stream",
       "stream": "stdout",
       "text": [
        "\r",
        "Loaded frame 531 of 1280"
       ]
      },
      {
       "output_type": "stream",
       "stream": "stdout",
       "text": [
        "\r",
        "Loaded frame 532 of 1280"
       ]
      },
      {
       "output_type": "stream",
       "stream": "stdout",
       "text": [
        "\r",
        "Loaded frame 533 of 1280"
       ]
      },
      {
       "output_type": "stream",
       "stream": "stdout",
       "text": [
        "\r",
        "Loaded frame 534 of 1280"
       ]
      },
      {
       "output_type": "stream",
       "stream": "stdout",
       "text": [
        "\r",
        "Loaded frame 535 of 1280"
       ]
      },
      {
       "output_type": "stream",
       "stream": "stdout",
       "text": [
        "\r",
        "Loaded frame 536 of 1280"
       ]
      },
      {
       "output_type": "stream",
       "stream": "stdout",
       "text": [
        "\r",
        "Loaded frame 537 of 1280"
       ]
      },
      {
       "output_type": "stream",
       "stream": "stdout",
       "text": [
        "\r",
        "Loaded frame 538 of 1280"
       ]
      },
      {
       "output_type": "stream",
       "stream": "stdout",
       "text": [
        "\r",
        "Loaded frame 539 of 1280"
       ]
      },
      {
       "output_type": "stream",
       "stream": "stdout",
       "text": [
        "\r",
        "Loaded frame 540 of 1280"
       ]
      },
      {
       "output_type": "stream",
       "stream": "stdout",
       "text": [
        "\r",
        "Loaded frame 541 of 1280"
       ]
      },
      {
       "output_type": "stream",
       "stream": "stdout",
       "text": [
        "\r",
        "Loaded frame 542 of 1280"
       ]
      },
      {
       "output_type": "stream",
       "stream": "stdout",
       "text": [
        "\r",
        "Loaded frame 543 of 1280"
       ]
      },
      {
       "output_type": "stream",
       "stream": "stdout",
       "text": [
        "\r",
        "Loaded frame 544 of 1280"
       ]
      },
      {
       "output_type": "stream",
       "stream": "stdout",
       "text": [
        "\r",
        "Loaded frame 545 of 1280"
       ]
      },
      {
       "output_type": "stream",
       "stream": "stdout",
       "text": [
        "\r",
        "Loaded frame 546 of 1280"
       ]
      },
      {
       "output_type": "stream",
       "stream": "stdout",
       "text": [
        "\r",
        "Loaded frame 547 of 1280"
       ]
      },
      {
       "output_type": "stream",
       "stream": "stdout",
       "text": [
        "\r",
        "Loaded frame 548 of 1280"
       ]
      },
      {
       "output_type": "stream",
       "stream": "stdout",
       "text": [
        "\r",
        "Loaded frame 549 of 1280"
       ]
      },
      {
       "output_type": "stream",
       "stream": "stdout",
       "text": [
        "\r",
        "Loaded frame 550 of 1280"
       ]
      },
      {
       "output_type": "stream",
       "stream": "stdout",
       "text": [
        "\r",
        "Loaded frame 551 of 1280"
       ]
      },
      {
       "output_type": "stream",
       "stream": "stdout",
       "text": [
        "\r",
        "Loaded frame 552 of 1280"
       ]
      },
      {
       "output_type": "stream",
       "stream": "stdout",
       "text": [
        "\r",
        "Loaded frame 553 of 1280"
       ]
      },
      {
       "output_type": "stream",
       "stream": "stdout",
       "text": [
        "\r",
        "Loaded frame 554 of 1280"
       ]
      },
      {
       "output_type": "stream",
       "stream": "stdout",
       "text": [
        "\r",
        "Loaded frame 555 of 1280"
       ]
      },
      {
       "output_type": "stream",
       "stream": "stdout",
       "text": [
        "\r",
        "Loaded frame 556 of 1280"
       ]
      },
      {
       "output_type": "stream",
       "stream": "stdout",
       "text": [
        "\r",
        "Loaded frame 557 of 1280"
       ]
      },
      {
       "output_type": "stream",
       "stream": "stdout",
       "text": [
        "\r",
        "Loaded frame 558 of 1280"
       ]
      },
      {
       "output_type": "stream",
       "stream": "stdout",
       "text": [
        "\r",
        "Loaded frame 559 of 1280"
       ]
      },
      {
       "output_type": "stream",
       "stream": "stdout",
       "text": [
        "\r",
        "Loaded frame 560 of 1280"
       ]
      },
      {
       "output_type": "stream",
       "stream": "stdout",
       "text": [
        "\r",
        "Loaded frame 561 of 1280"
       ]
      },
      {
       "output_type": "stream",
       "stream": "stdout",
       "text": [
        "\r",
        "Loaded frame 562 of 1280"
       ]
      },
      {
       "output_type": "stream",
       "stream": "stdout",
       "text": [
        "\r",
        "Loaded frame 563 of 1280"
       ]
      },
      {
       "output_type": "stream",
       "stream": "stdout",
       "text": [
        "\r",
        "Loaded frame 564 of 1280"
       ]
      },
      {
       "output_type": "stream",
       "stream": "stdout",
       "text": [
        "\r",
        "Loaded frame 565 of 1280"
       ]
      },
      {
       "output_type": "stream",
       "stream": "stdout",
       "text": [
        "\r",
        "Loaded frame 566 of 1280"
       ]
      },
      {
       "output_type": "stream",
       "stream": "stdout",
       "text": [
        "\r",
        "Loaded frame 567 of 1280"
       ]
      },
      {
       "output_type": "stream",
       "stream": "stdout",
       "text": [
        "\r",
        "Loaded frame 568 of 1280"
       ]
      },
      {
       "output_type": "stream",
       "stream": "stdout",
       "text": [
        "\r",
        "Loaded frame 569 of 1280"
       ]
      },
      {
       "output_type": "stream",
       "stream": "stdout",
       "text": [
        "\r",
        "Loaded frame 570 of 1280"
       ]
      },
      {
       "output_type": "stream",
       "stream": "stdout",
       "text": [
        "\r",
        "Loaded frame 571 of 1280"
       ]
      },
      {
       "output_type": "stream",
       "stream": "stdout",
       "text": [
        "\r",
        "Loaded frame 572 of 1280"
       ]
      },
      {
       "output_type": "stream",
       "stream": "stdout",
       "text": [
        "\r",
        "Loaded frame 573 of 1280"
       ]
      },
      {
       "output_type": "stream",
       "stream": "stdout",
       "text": [
        "\r",
        "Loaded frame 574 of 1280"
       ]
      },
      {
       "output_type": "stream",
       "stream": "stdout",
       "text": [
        "\r",
        "Loaded frame 575 of 1280"
       ]
      },
      {
       "output_type": "stream",
       "stream": "stdout",
       "text": [
        "\r",
        "Loaded frame 576 of 1280"
       ]
      },
      {
       "output_type": "stream",
       "stream": "stdout",
       "text": [
        "\r",
        "Loaded frame 577 of 1280"
       ]
      },
      {
       "output_type": "stream",
       "stream": "stdout",
       "text": [
        "\r",
        "Loaded frame 578 of 1280"
       ]
      },
      {
       "output_type": "stream",
       "stream": "stdout",
       "text": [
        "\r",
        "Loaded frame 579 of 1280"
       ]
      },
      {
       "output_type": "stream",
       "stream": "stdout",
       "text": [
        "\r",
        "Loaded frame 580 of 1280"
       ]
      },
      {
       "output_type": "stream",
       "stream": "stdout",
       "text": [
        "\r",
        "Loaded frame 581 of 1280"
       ]
      },
      {
       "output_type": "stream",
       "stream": "stdout",
       "text": [
        "\r",
        "Loaded frame 582 of 1280"
       ]
      },
      {
       "output_type": "stream",
       "stream": "stdout",
       "text": [
        "\r",
        "Loaded frame 583 of 1280"
       ]
      },
      {
       "output_type": "stream",
       "stream": "stdout",
       "text": [
        "\r",
        "Loaded frame 584 of 1280"
       ]
      },
      {
       "output_type": "stream",
       "stream": "stdout",
       "text": [
        "\r",
        "Loaded frame 585 of 1280"
       ]
      },
      {
       "output_type": "stream",
       "stream": "stdout",
       "text": [
        "\r",
        "Loaded frame 586 of 1280"
       ]
      },
      {
       "output_type": "stream",
       "stream": "stdout",
       "text": [
        "\r",
        "Loaded frame 587 of 1280"
       ]
      },
      {
       "output_type": "stream",
       "stream": "stdout",
       "text": [
        "\r",
        "Loaded frame 588 of 1280"
       ]
      },
      {
       "output_type": "stream",
       "stream": "stdout",
       "text": [
        "\r",
        "Loaded frame 589 of 1280"
       ]
      },
      {
       "output_type": "stream",
       "stream": "stdout",
       "text": [
        "\r",
        "Loaded frame 590 of 1280"
       ]
      },
      {
       "output_type": "stream",
       "stream": "stdout",
       "text": [
        "\r",
        "Loaded frame 591 of 1280"
       ]
      },
      {
       "output_type": "stream",
       "stream": "stdout",
       "text": [
        "\r",
        "Loaded frame 592 of 1280"
       ]
      },
      {
       "output_type": "stream",
       "stream": "stdout",
       "text": [
        "\r",
        "Loaded frame 593 of 1280"
       ]
      },
      {
       "output_type": "stream",
       "stream": "stdout",
       "text": [
        "\r",
        "Loaded frame 594 of 1280"
       ]
      },
      {
       "output_type": "stream",
       "stream": "stdout",
       "text": [
        "\r",
        "Loaded frame 595 of 1280"
       ]
      },
      {
       "output_type": "stream",
       "stream": "stdout",
       "text": [
        "\r",
        "Loaded frame 596 of 1280"
       ]
      },
      {
       "output_type": "stream",
       "stream": "stdout",
       "text": [
        "\r",
        "Loaded frame 597 of 1280"
       ]
      },
      {
       "output_type": "stream",
       "stream": "stdout",
       "text": [
        "\r",
        "Loaded frame 598 of 1280"
       ]
      },
      {
       "output_type": "stream",
       "stream": "stdout",
       "text": [
        "\r",
        "Loaded frame 599 of 1280"
       ]
      },
      {
       "output_type": "stream",
       "stream": "stdout",
       "text": [
        "\r",
        "Loaded frame 600 of 1280"
       ]
      },
      {
       "output_type": "stream",
       "stream": "stdout",
       "text": [
        "\r",
        "Loaded frame 601 of 1280"
       ]
      },
      {
       "output_type": "stream",
       "stream": "stdout",
       "text": [
        "\r",
        "Loaded frame 602 of 1280"
       ]
      },
      {
       "output_type": "stream",
       "stream": "stdout",
       "text": [
        "\r",
        "Loaded frame 603 of 1280"
       ]
      },
      {
       "output_type": "stream",
       "stream": "stdout",
       "text": [
        "\r",
        "Loaded frame 604 of 1280"
       ]
      },
      {
       "output_type": "stream",
       "stream": "stdout",
       "text": [
        "\r",
        "Loaded frame 605 of 1280"
       ]
      },
      {
       "output_type": "stream",
       "stream": "stdout",
       "text": [
        "\r",
        "Loaded frame 606 of 1280"
       ]
      },
      {
       "output_type": "stream",
       "stream": "stdout",
       "text": [
        "\r",
        "Loaded frame 607 of 1280"
       ]
      },
      {
       "output_type": "stream",
       "stream": "stdout",
       "text": [
        "\r",
        "Loaded frame 608 of 1280"
       ]
      },
      {
       "output_type": "stream",
       "stream": "stdout",
       "text": [
        "\r",
        "Loaded frame 609 of 1280"
       ]
      },
      {
       "output_type": "stream",
       "stream": "stdout",
       "text": [
        "\r",
        "Loaded frame 610 of 1280"
       ]
      },
      {
       "output_type": "stream",
       "stream": "stdout",
       "text": [
        "\r",
        "Loaded frame 611 of 1280"
       ]
      },
      {
       "output_type": "stream",
       "stream": "stdout",
       "text": [
        "\r",
        "Loaded frame 612 of 1280"
       ]
      },
      {
       "output_type": "stream",
       "stream": "stdout",
       "text": [
        "\r",
        "Loaded frame 613 of 1280"
       ]
      },
      {
       "output_type": "stream",
       "stream": "stdout",
       "text": [
        "\r",
        "Loaded frame 614 of 1280"
       ]
      },
      {
       "output_type": "stream",
       "stream": "stdout",
       "text": [
        "\r",
        "Loaded frame 615 of 1280"
       ]
      },
      {
       "output_type": "stream",
       "stream": "stdout",
       "text": [
        "\r",
        "Loaded frame 616 of 1280"
       ]
      },
      {
       "output_type": "stream",
       "stream": "stdout",
       "text": [
        "\r",
        "Loaded frame 617 of 1280"
       ]
      },
      {
       "output_type": "stream",
       "stream": "stdout",
       "text": [
        "\r",
        "Loaded frame 618 of 1280"
       ]
      },
      {
       "output_type": "stream",
       "stream": "stdout",
       "text": [
        "\r",
        "Loaded frame 619 of 1280"
       ]
      },
      {
       "output_type": "stream",
       "stream": "stdout",
       "text": [
        "\r",
        "Loaded frame 620 of 1280"
       ]
      },
      {
       "output_type": "stream",
       "stream": "stdout",
       "text": [
        "\r",
        "Loaded frame 621 of 1280"
       ]
      },
      {
       "output_type": "stream",
       "stream": "stdout",
       "text": [
        "\r",
        "Loaded frame 622 of 1280"
       ]
      },
      {
       "output_type": "stream",
       "stream": "stdout",
       "text": [
        "\r",
        "Loaded frame 623 of 1280"
       ]
      },
      {
       "output_type": "stream",
       "stream": "stdout",
       "text": [
        "\r",
        "Loaded frame 624 of 1280"
       ]
      },
      {
       "output_type": "stream",
       "stream": "stdout",
       "text": [
        "\r",
        "Loaded frame 625 of 1280"
       ]
      },
      {
       "output_type": "stream",
       "stream": "stdout",
       "text": [
        "\r",
        "Loaded frame 626 of 1280"
       ]
      },
      {
       "output_type": "stream",
       "stream": "stdout",
       "text": [
        "\r",
        "Loaded frame 627 of 1280"
       ]
      },
      {
       "output_type": "stream",
       "stream": "stdout",
       "text": [
        "\r",
        "Loaded frame 628 of 1280"
       ]
      },
      {
       "output_type": "stream",
       "stream": "stdout",
       "text": [
        "\r",
        "Loaded frame 629 of 1280"
       ]
      },
      {
       "output_type": "stream",
       "stream": "stdout",
       "text": [
        "\r",
        "Loaded frame 630 of 1280"
       ]
      },
      {
       "output_type": "stream",
       "stream": "stdout",
       "text": [
        "\r",
        "Loaded frame 631 of 1280"
       ]
      },
      {
       "output_type": "stream",
       "stream": "stdout",
       "text": [
        "\r",
        "Loaded frame 632 of 1280"
       ]
      },
      {
       "output_type": "stream",
       "stream": "stdout",
       "text": [
        "\r",
        "Loaded frame 633 of 1280"
       ]
      },
      {
       "output_type": "stream",
       "stream": "stdout",
       "text": [
        "\r",
        "Loaded frame 634 of 1280"
       ]
      },
      {
       "output_type": "stream",
       "stream": "stdout",
       "text": [
        "\r",
        "Loaded frame 635 of 1280"
       ]
      },
      {
       "output_type": "stream",
       "stream": "stdout",
       "text": [
        "\r",
        "Loaded frame 636 of 1280"
       ]
      },
      {
       "output_type": "stream",
       "stream": "stdout",
       "text": [
        "\r",
        "Loaded frame 637 of 1280"
       ]
      },
      {
       "output_type": "stream",
       "stream": "stdout",
       "text": [
        "\r",
        "Loaded frame 638 of 1280"
       ]
      },
      {
       "output_type": "stream",
       "stream": "stdout",
       "text": [
        "\r",
        "Loaded frame 639 of 1280"
       ]
      },
      {
       "output_type": "stream",
       "stream": "stdout",
       "text": [
        "\r",
        "Loaded frame 640 of 1280"
       ]
      },
      {
       "output_type": "stream",
       "stream": "stdout",
       "text": [
        "\r",
        "Loaded frame 641 of 1280"
       ]
      },
      {
       "output_type": "stream",
       "stream": "stdout",
       "text": [
        "\r",
        "Loaded frame 642 of 1280"
       ]
      },
      {
       "output_type": "stream",
       "stream": "stdout",
       "text": [
        "\r",
        "Loaded frame 643 of 1280"
       ]
      },
      {
       "output_type": "stream",
       "stream": "stdout",
       "text": [
        "\r",
        "Loaded frame 644 of 1280"
       ]
      },
      {
       "output_type": "stream",
       "stream": "stdout",
       "text": [
        "\r",
        "Loaded frame 645 of 1280"
       ]
      },
      {
       "output_type": "stream",
       "stream": "stdout",
       "text": [
        "\r",
        "Loaded frame 646 of 1280"
       ]
      },
      {
       "output_type": "stream",
       "stream": "stdout",
       "text": [
        "\r",
        "Loaded frame 647 of 1280"
       ]
      },
      {
       "output_type": "stream",
       "stream": "stdout",
       "text": [
        "\r",
        "Loaded frame 648 of 1280"
       ]
      },
      {
       "output_type": "stream",
       "stream": "stdout",
       "text": [
        "\r",
        "Loaded frame 649 of 1280"
       ]
      },
      {
       "output_type": "stream",
       "stream": "stdout",
       "text": [
        "\r",
        "Loaded frame 650 of 1280"
       ]
      },
      {
       "output_type": "stream",
       "stream": "stdout",
       "text": [
        "\r",
        "Loaded frame 651 of 1280"
       ]
      },
      {
       "output_type": "stream",
       "stream": "stdout",
       "text": [
        "\r",
        "Loaded frame 652 of 1280"
       ]
      },
      {
       "output_type": "stream",
       "stream": "stdout",
       "text": [
        "\r",
        "Loaded frame 653 of 1280"
       ]
      },
      {
       "output_type": "stream",
       "stream": "stdout",
       "text": [
        "\r",
        "Loaded frame 654 of 1280"
       ]
      },
      {
       "output_type": "stream",
       "stream": "stdout",
       "text": [
        "\r",
        "Loaded frame 655 of 1280"
       ]
      },
      {
       "output_type": "stream",
       "stream": "stdout",
       "text": [
        "\r",
        "Loaded frame 656 of 1280"
       ]
      },
      {
       "output_type": "stream",
       "stream": "stdout",
       "text": [
        "\r",
        "Loaded frame 657 of 1280"
       ]
      },
      {
       "output_type": "stream",
       "stream": "stdout",
       "text": [
        "\r",
        "Loaded frame 658 of 1280"
       ]
      },
      {
       "output_type": "stream",
       "stream": "stdout",
       "text": [
        "\r",
        "Loaded frame 659 of 1280"
       ]
      },
      {
       "output_type": "stream",
       "stream": "stdout",
       "text": [
        "\r",
        "Loaded frame 660 of 1280"
       ]
      },
      {
       "output_type": "stream",
       "stream": "stdout",
       "text": [
        "\r",
        "Loaded frame 661 of 1280"
       ]
      },
      {
       "output_type": "stream",
       "stream": "stdout",
       "text": [
        "\r",
        "Loaded frame 662 of 1280"
       ]
      },
      {
       "output_type": "stream",
       "stream": "stdout",
       "text": [
        "\r",
        "Loaded frame 663 of 1280"
       ]
      },
      {
       "output_type": "stream",
       "stream": "stdout",
       "text": [
        "\r",
        "Loaded frame 664 of 1280"
       ]
      },
      {
       "output_type": "stream",
       "stream": "stdout",
       "text": [
        "\r",
        "Loaded frame 665 of 1280"
       ]
      },
      {
       "output_type": "stream",
       "stream": "stdout",
       "text": [
        "\r",
        "Loaded frame 666 of 1280"
       ]
      },
      {
       "output_type": "stream",
       "stream": "stdout",
       "text": [
        "\r",
        "Loaded frame 667 of 1280"
       ]
      },
      {
       "output_type": "stream",
       "stream": "stdout",
       "text": [
        "\r",
        "Loaded frame 668 of 1280"
       ]
      },
      {
       "output_type": "stream",
       "stream": "stdout",
       "text": [
        "\r",
        "Loaded frame 669 of 1280"
       ]
      },
      {
       "output_type": "stream",
       "stream": "stdout",
       "text": [
        "\r",
        "Loaded frame 670 of 1280"
       ]
      },
      {
       "output_type": "stream",
       "stream": "stdout",
       "text": [
        "\r",
        "Loaded frame 671 of 1280"
       ]
      },
      {
       "output_type": "stream",
       "stream": "stdout",
       "text": [
        "\r",
        "Loaded frame 672 of 1280"
       ]
      },
      {
       "output_type": "stream",
       "stream": "stdout",
       "text": [
        "\r",
        "Loaded frame 673 of 1280"
       ]
      },
      {
       "output_type": "stream",
       "stream": "stdout",
       "text": [
        "\r",
        "Loaded frame 674 of 1280"
       ]
      },
      {
       "output_type": "stream",
       "stream": "stdout",
       "text": [
        "\r",
        "Loaded frame 675 of 1280"
       ]
      },
      {
       "output_type": "stream",
       "stream": "stdout",
       "text": [
        "\r",
        "Loaded frame 676 of 1280"
       ]
      },
      {
       "output_type": "stream",
       "stream": "stdout",
       "text": [
        "\r",
        "Loaded frame 677 of 1280"
       ]
      },
      {
       "output_type": "stream",
       "stream": "stdout",
       "text": [
        "\r",
        "Loaded frame 678 of 1280"
       ]
      },
      {
       "output_type": "stream",
       "stream": "stdout",
       "text": [
        "\r",
        "Loaded frame 679 of 1280"
       ]
      },
      {
       "output_type": "stream",
       "stream": "stdout",
       "text": [
        "\r",
        "Loaded frame 680 of 1280"
       ]
      },
      {
       "output_type": "stream",
       "stream": "stdout",
       "text": [
        "\r",
        "Loaded frame 681 of 1280"
       ]
      },
      {
       "output_type": "stream",
       "stream": "stdout",
       "text": [
        "\r",
        "Loaded frame 682 of 1280"
       ]
      },
      {
       "output_type": "stream",
       "stream": "stdout",
       "text": [
        "\r",
        "Loaded frame 683 of 1280"
       ]
      },
      {
       "output_type": "stream",
       "stream": "stdout",
       "text": [
        "\r",
        "Loaded frame 684 of 1280"
       ]
      },
      {
       "output_type": "stream",
       "stream": "stdout",
       "text": [
        "\r",
        "Loaded frame 685 of 1280"
       ]
      },
      {
       "output_type": "stream",
       "stream": "stdout",
       "text": [
        "\r",
        "Loaded frame 686 of 1280"
       ]
      },
      {
       "output_type": "stream",
       "stream": "stdout",
       "text": [
        "\r",
        "Loaded frame 687 of 1280"
       ]
      },
      {
       "output_type": "stream",
       "stream": "stdout",
       "text": [
        "\r",
        "Loaded frame 688 of 1280"
       ]
      },
      {
       "output_type": "stream",
       "stream": "stdout",
       "text": [
        "\r",
        "Loaded frame 689 of 1280"
       ]
      },
      {
       "output_type": "stream",
       "stream": "stdout",
       "text": [
        "\r",
        "Loaded frame 690 of 1280"
       ]
      },
      {
       "output_type": "stream",
       "stream": "stdout",
       "text": [
        "\r",
        "Loaded frame 691 of 1280"
       ]
      },
      {
       "output_type": "stream",
       "stream": "stdout",
       "text": [
        "\r",
        "Loaded frame 692 of 1280"
       ]
      },
      {
       "output_type": "stream",
       "stream": "stdout",
       "text": [
        "\r",
        "Loaded frame 693 of 1280"
       ]
      },
      {
       "output_type": "stream",
       "stream": "stdout",
       "text": [
        "\r",
        "Loaded frame 694 of 1280"
       ]
      },
      {
       "output_type": "stream",
       "stream": "stdout",
       "text": [
        "\r",
        "Loaded frame 695 of 1280"
       ]
      },
      {
       "output_type": "stream",
       "stream": "stdout",
       "text": [
        "\r",
        "Loaded frame 696 of 1280"
       ]
      },
      {
       "output_type": "stream",
       "stream": "stdout",
       "text": [
        "\r",
        "Loaded frame 697 of 1280"
       ]
      },
      {
       "output_type": "stream",
       "stream": "stdout",
       "text": [
        "\r",
        "Loaded frame 698 of 1280"
       ]
      },
      {
       "output_type": "stream",
       "stream": "stdout",
       "text": [
        "\r",
        "Loaded frame 699 of 1280"
       ]
      },
      {
       "output_type": "stream",
       "stream": "stdout",
       "text": [
        "\r",
        "Loaded frame 700 of 1280"
       ]
      },
      {
       "output_type": "stream",
       "stream": "stdout",
       "text": [
        "\r",
        "Loaded frame 701 of 1280"
       ]
      },
      {
       "output_type": "stream",
       "stream": "stdout",
       "text": [
        "\r",
        "Loaded frame 702 of 1280"
       ]
      },
      {
       "output_type": "stream",
       "stream": "stdout",
       "text": [
        "\r",
        "Loaded frame 703 of 1280"
       ]
      },
      {
       "output_type": "stream",
       "stream": "stdout",
       "text": [
        "\r",
        "Loaded frame 704 of 1280"
       ]
      },
      {
       "output_type": "stream",
       "stream": "stdout",
       "text": [
        "\r",
        "Loaded frame 705 of 1280"
       ]
      },
      {
       "output_type": "stream",
       "stream": "stdout",
       "text": [
        "\r",
        "Loaded frame 706 of 1280"
       ]
      },
      {
       "output_type": "stream",
       "stream": "stdout",
       "text": [
        "\r",
        "Loaded frame 707 of 1280"
       ]
      },
      {
       "output_type": "stream",
       "stream": "stdout",
       "text": [
        "\r",
        "Loaded frame 708 of 1280"
       ]
      },
      {
       "output_type": "stream",
       "stream": "stdout",
       "text": [
        "\r",
        "Loaded frame 709 of 1280"
       ]
      },
      {
       "output_type": "stream",
       "stream": "stdout",
       "text": [
        "\r",
        "Loaded frame 710 of 1280"
       ]
      },
      {
       "output_type": "stream",
       "stream": "stdout",
       "text": [
        "\r",
        "Loaded frame 711 of 1280"
       ]
      },
      {
       "output_type": "stream",
       "stream": "stdout",
       "text": [
        "\r",
        "Loaded frame 712 of 1280"
       ]
      },
      {
       "output_type": "stream",
       "stream": "stdout",
       "text": [
        "\r",
        "Loaded frame 713 of 1280"
       ]
      },
      {
       "output_type": "stream",
       "stream": "stdout",
       "text": [
        "\r",
        "Loaded frame 714 of 1280"
       ]
      },
      {
       "output_type": "stream",
       "stream": "stdout",
       "text": [
        "\r",
        "Loaded frame 715 of 1280"
       ]
      },
      {
       "output_type": "stream",
       "stream": "stdout",
       "text": [
        "\r",
        "Loaded frame 716 of 1280"
       ]
      },
      {
       "output_type": "stream",
       "stream": "stdout",
       "text": [
        "\r",
        "Loaded frame 717 of 1280"
       ]
      },
      {
       "output_type": "stream",
       "stream": "stdout",
       "text": [
        "\r",
        "Loaded frame 718 of 1280"
       ]
      },
      {
       "output_type": "stream",
       "stream": "stdout",
       "text": [
        "\r",
        "Loaded frame 719 of 1280"
       ]
      },
      {
       "output_type": "stream",
       "stream": "stdout",
       "text": [
        "\r",
        "Loaded frame 720 of 1280"
       ]
      },
      {
       "output_type": "stream",
       "stream": "stdout",
       "text": [
        "\r",
        "Loaded frame 721 of 1280"
       ]
      },
      {
       "output_type": "stream",
       "stream": "stdout",
       "text": [
        "\r",
        "Loaded frame 722 of 1280"
       ]
      },
      {
       "output_type": "stream",
       "stream": "stdout",
       "text": [
        "\r",
        "Loaded frame 723 of 1280"
       ]
      },
      {
       "output_type": "stream",
       "stream": "stdout",
       "text": [
        "\r",
        "Loaded frame 724 of 1280"
       ]
      },
      {
       "output_type": "stream",
       "stream": "stdout",
       "text": [
        "\r",
        "Loaded frame 725 of 1280"
       ]
      },
      {
       "output_type": "stream",
       "stream": "stdout",
       "text": [
        "\r",
        "Loaded frame 726 of 1280"
       ]
      },
      {
       "output_type": "stream",
       "stream": "stdout",
       "text": [
        "\r",
        "Loaded frame 727 of 1280"
       ]
      },
      {
       "output_type": "stream",
       "stream": "stdout",
       "text": [
        "\r",
        "Loaded frame 728 of 1280"
       ]
      },
      {
       "output_type": "stream",
       "stream": "stdout",
       "text": [
        "\r",
        "Loaded frame 729 of 1280"
       ]
      },
      {
       "output_type": "stream",
       "stream": "stdout",
       "text": [
        "\r",
        "Loaded frame 730 of 1280"
       ]
      },
      {
       "output_type": "stream",
       "stream": "stdout",
       "text": [
        "\r",
        "Loaded frame 731 of 1280"
       ]
      },
      {
       "output_type": "stream",
       "stream": "stdout",
       "text": [
        "\r",
        "Loaded frame 732 of 1280"
       ]
      },
      {
       "output_type": "stream",
       "stream": "stdout",
       "text": [
        "\r",
        "Loaded frame 733 of 1280"
       ]
      },
      {
       "output_type": "stream",
       "stream": "stdout",
       "text": [
        "\r",
        "Loaded frame 734 of 1280"
       ]
      },
      {
       "output_type": "stream",
       "stream": "stdout",
       "text": [
        "\r",
        "Loaded frame 735 of 1280"
       ]
      },
      {
       "output_type": "stream",
       "stream": "stdout",
       "text": [
        "\r",
        "Loaded frame 736 of 1280"
       ]
      },
      {
       "output_type": "stream",
       "stream": "stdout",
       "text": [
        "\r",
        "Loaded frame 737 of 1280"
       ]
      },
      {
       "output_type": "stream",
       "stream": "stdout",
       "text": [
        "\r",
        "Loaded frame 738 of 1280"
       ]
      },
      {
       "output_type": "stream",
       "stream": "stdout",
       "text": [
        "\r",
        "Loaded frame 739 of 1280"
       ]
      },
      {
       "output_type": "stream",
       "stream": "stdout",
       "text": [
        "\r",
        "Loaded frame 740 of 1280"
       ]
      },
      {
       "output_type": "stream",
       "stream": "stdout",
       "text": [
        "\r",
        "Loaded frame 741 of 1280"
       ]
      },
      {
       "output_type": "stream",
       "stream": "stdout",
       "text": [
        "\r",
        "Loaded frame 742 of 1280"
       ]
      },
      {
       "output_type": "stream",
       "stream": "stdout",
       "text": [
        "\r",
        "Loaded frame 743 of 1280"
       ]
      },
      {
       "output_type": "stream",
       "stream": "stdout",
       "text": [
        "\r",
        "Loaded frame 744 of 1280"
       ]
      },
      {
       "output_type": "stream",
       "stream": "stdout",
       "text": [
        "\r",
        "Loaded frame 745 of 1280"
       ]
      },
      {
       "output_type": "stream",
       "stream": "stdout",
       "text": [
        "\r",
        "Loaded frame 746 of 1280"
       ]
      },
      {
       "output_type": "stream",
       "stream": "stdout",
       "text": [
        "\r",
        "Loaded frame 747 of 1280"
       ]
      },
      {
       "output_type": "stream",
       "stream": "stdout",
       "text": [
        "\r",
        "Loaded frame 748 of 1280"
       ]
      },
      {
       "output_type": "stream",
       "stream": "stdout",
       "text": [
        "\r",
        "Loaded frame 749 of 1280"
       ]
      },
      {
       "output_type": "stream",
       "stream": "stdout",
       "text": [
        "\r",
        "Loaded frame 750 of 1280"
       ]
      },
      {
       "output_type": "stream",
       "stream": "stdout",
       "text": [
        "\r",
        "Loaded frame 751 of 1280"
       ]
      },
      {
       "output_type": "stream",
       "stream": "stdout",
       "text": [
        "\r",
        "Loaded frame 752 of 1280"
       ]
      },
      {
       "output_type": "stream",
       "stream": "stdout",
       "text": [
        "\r",
        "Loaded frame 753 of 1280"
       ]
      },
      {
       "output_type": "stream",
       "stream": "stdout",
       "text": [
        "\r",
        "Loaded frame 754 of 1280"
       ]
      },
      {
       "output_type": "stream",
       "stream": "stdout",
       "text": [
        "\r",
        "Loaded frame 755 of 1280"
       ]
      },
      {
       "output_type": "stream",
       "stream": "stdout",
       "text": [
        "\r",
        "Loaded frame 756 of 1280"
       ]
      },
      {
       "output_type": "stream",
       "stream": "stdout",
       "text": [
        "\r",
        "Loaded frame 757 of 1280"
       ]
      },
      {
       "output_type": "stream",
       "stream": "stdout",
       "text": [
        "\r",
        "Loaded frame 758 of 1280"
       ]
      },
      {
       "output_type": "stream",
       "stream": "stdout",
       "text": [
        "\r",
        "Loaded frame 759 of 1280"
       ]
      },
      {
       "output_type": "stream",
       "stream": "stdout",
       "text": [
        "\r",
        "Loaded frame 760 of 1280"
       ]
      },
      {
       "output_type": "stream",
       "stream": "stdout",
       "text": [
        "\r",
        "Loaded frame 761 of 1280"
       ]
      },
      {
       "output_type": "stream",
       "stream": "stdout",
       "text": [
        "\r",
        "Loaded frame 762 of 1280"
       ]
      },
      {
       "output_type": "stream",
       "stream": "stdout",
       "text": [
        "\r",
        "Loaded frame 763 of 1280"
       ]
      },
      {
       "output_type": "stream",
       "stream": "stdout",
       "text": [
        "\r",
        "Loaded frame 764 of 1280"
       ]
      },
      {
       "output_type": "stream",
       "stream": "stdout",
       "text": [
        "\r",
        "Loaded frame 765 of 1280"
       ]
      },
      {
       "output_type": "stream",
       "stream": "stdout",
       "text": [
        "\r",
        "Loaded frame 766 of 1280"
       ]
      },
      {
       "output_type": "stream",
       "stream": "stdout",
       "text": [
        "\r",
        "Loaded frame 767 of 1280"
       ]
      },
      {
       "output_type": "stream",
       "stream": "stdout",
       "text": [
        "\r",
        "Loaded frame 768 of 1280"
       ]
      },
      {
       "output_type": "stream",
       "stream": "stdout",
       "text": [
        "\r",
        "Loaded frame 769 of 1280"
       ]
      },
      {
       "output_type": "stream",
       "stream": "stdout",
       "text": [
        "\r",
        "Loaded frame 770 of 1280"
       ]
      },
      {
       "output_type": "stream",
       "stream": "stdout",
       "text": [
        "\r",
        "Loaded frame 771 of 1280"
       ]
      },
      {
       "output_type": "stream",
       "stream": "stdout",
       "text": [
        "\r",
        "Loaded frame 772 of 1280"
       ]
      },
      {
       "output_type": "stream",
       "stream": "stdout",
       "text": [
        "\r",
        "Loaded frame 773 of 1280"
       ]
      },
      {
       "output_type": "stream",
       "stream": "stdout",
       "text": [
        "\r",
        "Loaded frame 774 of 1280"
       ]
      },
      {
       "output_type": "stream",
       "stream": "stdout",
       "text": [
        "\r",
        "Loaded frame 775 of 1280"
       ]
      },
      {
       "output_type": "stream",
       "stream": "stdout",
       "text": [
        "\r",
        "Loaded frame 776 of 1280"
       ]
      },
      {
       "output_type": "stream",
       "stream": "stdout",
       "text": [
        "\r",
        "Loaded frame 777 of 1280"
       ]
      },
      {
       "output_type": "stream",
       "stream": "stdout",
       "text": [
        "\r",
        "Loaded frame 778 of 1280"
       ]
      },
      {
       "output_type": "stream",
       "stream": "stdout",
       "text": [
        "\r",
        "Loaded frame 779 of 1280"
       ]
      },
      {
       "output_type": "stream",
       "stream": "stdout",
       "text": [
        "\r",
        "Loaded frame 780 of 1280"
       ]
      },
      {
       "output_type": "stream",
       "stream": "stdout",
       "text": [
        "\r",
        "Loaded frame 781 of 1280"
       ]
      },
      {
       "output_type": "stream",
       "stream": "stdout",
       "text": [
        "\r",
        "Loaded frame 782 of 1280"
       ]
      },
      {
       "output_type": "stream",
       "stream": "stdout",
       "text": [
        "\r",
        "Loaded frame 783 of 1280"
       ]
      },
      {
       "output_type": "stream",
       "stream": "stdout",
       "text": [
        "\r",
        "Loaded frame 784 of 1280"
       ]
      },
      {
       "output_type": "stream",
       "stream": "stdout",
       "text": [
        "\r",
        "Loaded frame 785 of 1280"
       ]
      },
      {
       "output_type": "stream",
       "stream": "stdout",
       "text": [
        "\r",
        "Loaded frame 786 of 1280"
       ]
      },
      {
       "output_type": "stream",
       "stream": "stdout",
       "text": [
        "\r",
        "Loaded frame 787 of 1280"
       ]
      },
      {
       "output_type": "stream",
       "stream": "stdout",
       "text": [
        "\r",
        "Loaded frame 788 of 1280"
       ]
      },
      {
       "output_type": "stream",
       "stream": "stdout",
       "text": [
        "\r",
        "Loaded frame 789 of 1280"
       ]
      },
      {
       "output_type": "stream",
       "stream": "stdout",
       "text": [
        "\r",
        "Loaded frame 790 of 1280"
       ]
      },
      {
       "output_type": "stream",
       "stream": "stdout",
       "text": [
        "\r",
        "Loaded frame 791 of 1280"
       ]
      },
      {
       "output_type": "stream",
       "stream": "stdout",
       "text": [
        "\r",
        "Loaded frame 792 of 1280"
       ]
      },
      {
       "output_type": "stream",
       "stream": "stdout",
       "text": [
        "\r",
        "Loaded frame 793 of 1280"
       ]
      },
      {
       "output_type": "stream",
       "stream": "stdout",
       "text": [
        "\r",
        "Loaded frame 794 of 1280"
       ]
      },
      {
       "output_type": "stream",
       "stream": "stdout",
       "text": [
        "\r",
        "Loaded frame 795 of 1280"
       ]
      },
      {
       "output_type": "stream",
       "stream": "stdout",
       "text": [
        "\r",
        "Loaded frame 796 of 1280"
       ]
      },
      {
       "output_type": "stream",
       "stream": "stdout",
       "text": [
        "\r",
        "Loaded frame 797 of 1280"
       ]
      },
      {
       "output_type": "stream",
       "stream": "stdout",
       "text": [
        "\r",
        "Loaded frame 798 of 1280"
       ]
      },
      {
       "output_type": "stream",
       "stream": "stdout",
       "text": [
        "\r",
        "Loaded frame 799 of 1280"
       ]
      },
      {
       "output_type": "stream",
       "stream": "stdout",
       "text": [
        "\r",
        "Loaded frame 800 of 1280"
       ]
      },
      {
       "output_type": "stream",
       "stream": "stdout",
       "text": [
        "\r",
        "Loaded frame 801 of 1280"
       ]
      },
      {
       "output_type": "stream",
       "stream": "stdout",
       "text": [
        "\r",
        "Loaded frame 802 of 1280"
       ]
      },
      {
       "output_type": "stream",
       "stream": "stdout",
       "text": [
        "\r",
        "Loaded frame 803 of 1280"
       ]
      },
      {
       "output_type": "stream",
       "stream": "stdout",
       "text": [
        "\r",
        "Loaded frame 804 of 1280"
       ]
      },
      {
       "output_type": "stream",
       "stream": "stdout",
       "text": [
        "\r",
        "Loaded frame 805 of 1280"
       ]
      },
      {
       "output_type": "stream",
       "stream": "stdout",
       "text": [
        "\r",
        "Loaded frame 806 of 1280"
       ]
      },
      {
       "output_type": "stream",
       "stream": "stdout",
       "text": [
        "\r",
        "Loaded frame 807 of 1280"
       ]
      },
      {
       "output_type": "stream",
       "stream": "stdout",
       "text": [
        "\r",
        "Loaded frame 808 of 1280"
       ]
      },
      {
       "output_type": "stream",
       "stream": "stdout",
       "text": [
        "\r",
        "Loaded frame 809 of 1280"
       ]
      },
      {
       "output_type": "stream",
       "stream": "stdout",
       "text": [
        "\r",
        "Loaded frame 810 of 1280"
       ]
      },
      {
       "output_type": "stream",
       "stream": "stdout",
       "text": [
        "\r",
        "Loaded frame 811 of 1280"
       ]
      },
      {
       "output_type": "stream",
       "stream": "stdout",
       "text": [
        "\r",
        "Loaded frame 812 of 1280"
       ]
      },
      {
       "output_type": "stream",
       "stream": "stdout",
       "text": [
        "\r",
        "Loaded frame 813 of 1280"
       ]
      },
      {
       "output_type": "stream",
       "stream": "stdout",
       "text": [
        "\r",
        "Loaded frame 814 of 1280"
       ]
      },
      {
       "output_type": "stream",
       "stream": "stdout",
       "text": [
        "\r",
        "Loaded frame 815 of 1280"
       ]
      },
      {
       "output_type": "stream",
       "stream": "stdout",
       "text": [
        "\r",
        "Loaded frame 816 of 1280"
       ]
      },
      {
       "output_type": "stream",
       "stream": "stdout",
       "text": [
        "\r",
        "Loaded frame 817 of 1280"
       ]
      },
      {
       "output_type": "stream",
       "stream": "stdout",
       "text": [
        "\r",
        "Loaded frame 818 of 1280"
       ]
      },
      {
       "output_type": "stream",
       "stream": "stdout",
       "text": [
        "\r",
        "Loaded frame 819 of 1280"
       ]
      },
      {
       "output_type": "stream",
       "stream": "stdout",
       "text": [
        "\r",
        "Loaded frame 820 of 1280"
       ]
      },
      {
       "output_type": "stream",
       "stream": "stdout",
       "text": [
        "\r",
        "Loaded frame 821 of 1280"
       ]
      },
      {
       "output_type": "stream",
       "stream": "stdout",
       "text": [
        "\r",
        "Loaded frame 822 of 1280"
       ]
      },
      {
       "output_type": "stream",
       "stream": "stdout",
       "text": [
        "\r",
        "Loaded frame 823 of 1280"
       ]
      },
      {
       "output_type": "stream",
       "stream": "stdout",
       "text": [
        "\r",
        "Loaded frame 824 of 1280"
       ]
      },
      {
       "output_type": "stream",
       "stream": "stdout",
       "text": [
        "\r",
        "Loaded frame 825 of 1280"
       ]
      },
      {
       "output_type": "stream",
       "stream": "stdout",
       "text": [
        "\r",
        "Loaded frame 826 of 1280"
       ]
      },
      {
       "output_type": "stream",
       "stream": "stdout",
       "text": [
        "\r",
        "Loaded frame 827 of 1280"
       ]
      },
      {
       "output_type": "stream",
       "stream": "stdout",
       "text": [
        "\r",
        "Loaded frame 828 of 1280"
       ]
      },
      {
       "output_type": "stream",
       "stream": "stdout",
       "text": [
        "\r",
        "Loaded frame 829 of 1280"
       ]
      },
      {
       "output_type": "stream",
       "stream": "stdout",
       "text": [
        "\r",
        "Loaded frame 830 of 1280"
       ]
      },
      {
       "output_type": "stream",
       "stream": "stdout",
       "text": [
        "\r",
        "Loaded frame 831 of 1280"
       ]
      },
      {
       "output_type": "stream",
       "stream": "stdout",
       "text": [
        "\r",
        "Loaded frame 832 of 1280"
       ]
      },
      {
       "output_type": "stream",
       "stream": "stdout",
       "text": [
        "\r",
        "Loaded frame 833 of 1280"
       ]
      },
      {
       "output_type": "stream",
       "stream": "stdout",
       "text": [
        "\r",
        "Loaded frame 834 of 1280"
       ]
      },
      {
       "output_type": "stream",
       "stream": "stdout",
       "text": [
        "\r",
        "Loaded frame 835 of 1280"
       ]
      },
      {
       "output_type": "stream",
       "stream": "stdout",
       "text": [
        "\r",
        "Loaded frame 836 of 1280"
       ]
      },
      {
       "output_type": "stream",
       "stream": "stdout",
       "text": [
        "\r",
        "Loaded frame 837 of 1280"
       ]
      },
      {
       "output_type": "stream",
       "stream": "stdout",
       "text": [
        "\r",
        "Loaded frame 838 of 1280"
       ]
      },
      {
       "output_type": "stream",
       "stream": "stdout",
       "text": [
        "\r",
        "Loaded frame 839 of 1280"
       ]
      },
      {
       "output_type": "stream",
       "stream": "stdout",
       "text": [
        "\r",
        "Loaded frame 840 of 1280"
       ]
      },
      {
       "output_type": "stream",
       "stream": "stdout",
       "text": [
        "\r",
        "Loaded frame 841 of 1280"
       ]
      },
      {
       "output_type": "stream",
       "stream": "stdout",
       "text": [
        "\r",
        "Loaded frame 842 of 1280"
       ]
      },
      {
       "output_type": "stream",
       "stream": "stdout",
       "text": [
        "\r",
        "Loaded frame 843 of 1280"
       ]
      },
      {
       "output_type": "stream",
       "stream": "stdout",
       "text": [
        "\r",
        "Loaded frame 844 of 1280"
       ]
      },
      {
       "output_type": "stream",
       "stream": "stdout",
       "text": [
        "\r",
        "Loaded frame 845 of 1280"
       ]
      },
      {
       "output_type": "stream",
       "stream": "stdout",
       "text": [
        "\r",
        "Loaded frame 846 of 1280"
       ]
      },
      {
       "output_type": "stream",
       "stream": "stdout",
       "text": [
        "\r",
        "Loaded frame 847 of 1280"
       ]
      },
      {
       "output_type": "stream",
       "stream": "stdout",
       "text": [
        "\r",
        "Loaded frame 848 of 1280"
       ]
      },
      {
       "output_type": "stream",
       "stream": "stdout",
       "text": [
        "\r",
        "Loaded frame 849 of 1280"
       ]
      },
      {
       "output_type": "stream",
       "stream": "stdout",
       "text": [
        "\r",
        "Loaded frame 850 of 1280"
       ]
      },
      {
       "output_type": "stream",
       "stream": "stdout",
       "text": [
        "\r",
        "Loaded frame 851 of 1280"
       ]
      },
      {
       "output_type": "stream",
       "stream": "stdout",
       "text": [
        "\r",
        "Loaded frame 852 of 1280"
       ]
      },
      {
       "output_type": "stream",
       "stream": "stdout",
       "text": [
        "\r",
        "Loaded frame 853 of 1280"
       ]
      },
      {
       "output_type": "stream",
       "stream": "stdout",
       "text": [
        "\r",
        "Loaded frame 854 of 1280"
       ]
      },
      {
       "output_type": "stream",
       "stream": "stdout",
       "text": [
        "\r",
        "Loaded frame 855 of 1280"
       ]
      },
      {
       "output_type": "stream",
       "stream": "stdout",
       "text": [
        "\r",
        "Loaded frame 856 of 1280"
       ]
      },
      {
       "output_type": "stream",
       "stream": "stdout",
       "text": [
        "\r",
        "Loaded frame 857 of 1280"
       ]
      },
      {
       "output_type": "stream",
       "stream": "stdout",
       "text": [
        "\r",
        "Loaded frame 858 of 1280"
       ]
      },
      {
       "output_type": "stream",
       "stream": "stdout",
       "text": [
        "\r",
        "Loaded frame 859 of 1280"
       ]
      },
      {
       "output_type": "stream",
       "stream": "stdout",
       "text": [
        "\r",
        "Loaded frame 860 of 1280"
       ]
      },
      {
       "output_type": "stream",
       "stream": "stdout",
       "text": [
        "\r",
        "Loaded frame 861 of 1280"
       ]
      },
      {
       "output_type": "stream",
       "stream": "stdout",
       "text": [
        "\r",
        "Loaded frame 862 of 1280"
       ]
      },
      {
       "output_type": "stream",
       "stream": "stdout",
       "text": [
        "\r",
        "Loaded frame 863 of 1280"
       ]
      },
      {
       "output_type": "stream",
       "stream": "stdout",
       "text": [
        "\r",
        "Loaded frame 864 of 1280"
       ]
      },
      {
       "output_type": "stream",
       "stream": "stdout",
       "text": [
        "\r",
        "Loaded frame 865 of 1280"
       ]
      },
      {
       "output_type": "stream",
       "stream": "stdout",
       "text": [
        "\r",
        "Loaded frame 866 of 1280"
       ]
      },
      {
       "output_type": "stream",
       "stream": "stdout",
       "text": [
        "\r",
        "Loaded frame 867 of 1280"
       ]
      },
      {
       "output_type": "stream",
       "stream": "stdout",
       "text": [
        "\r",
        "Loaded frame 868 of 1280"
       ]
      },
      {
       "output_type": "stream",
       "stream": "stdout",
       "text": [
        "\r",
        "Loaded frame 869 of 1280"
       ]
      },
      {
       "output_type": "stream",
       "stream": "stdout",
       "text": [
        "\r",
        "Loaded frame 870 of 1280"
       ]
      },
      {
       "output_type": "stream",
       "stream": "stdout",
       "text": [
        "\r",
        "Loaded frame 871 of 1280"
       ]
      },
      {
       "output_type": "stream",
       "stream": "stdout",
       "text": [
        "\r",
        "Loaded frame 872 of 1280"
       ]
      },
      {
       "output_type": "stream",
       "stream": "stdout",
       "text": [
        "\r",
        "Loaded frame 873 of 1280"
       ]
      },
      {
       "output_type": "stream",
       "stream": "stdout",
       "text": [
        "\r",
        "Loaded frame 874 of 1280"
       ]
      },
      {
       "output_type": "stream",
       "stream": "stdout",
       "text": [
        "\r",
        "Loaded frame 875 of 1280"
       ]
      },
      {
       "output_type": "stream",
       "stream": "stdout",
       "text": [
        "\r",
        "Loaded frame 876 of 1280"
       ]
      },
      {
       "output_type": "stream",
       "stream": "stdout",
       "text": [
        "\r",
        "Loaded frame 877 of 1280"
       ]
      },
      {
       "output_type": "stream",
       "stream": "stdout",
       "text": [
        "\r",
        "Loaded frame 878 of 1280"
       ]
      },
      {
       "output_type": "stream",
       "stream": "stdout",
       "text": [
        "\r",
        "Loaded frame 879 of 1280"
       ]
      },
      {
       "output_type": "stream",
       "stream": "stdout",
       "text": [
        "\r",
        "Loaded frame 880 of 1280"
       ]
      },
      {
       "output_type": "stream",
       "stream": "stdout",
       "text": [
        "\r",
        "Loaded frame 881 of 1280"
       ]
      },
      {
       "output_type": "stream",
       "stream": "stdout",
       "text": [
        "\r",
        "Loaded frame 882 of 1280"
       ]
      },
      {
       "output_type": "stream",
       "stream": "stdout",
       "text": [
        "\r",
        "Loaded frame 883 of 1280"
       ]
      },
      {
       "output_type": "stream",
       "stream": "stdout",
       "text": [
        "\r",
        "Loaded frame 884 of 1280"
       ]
      },
      {
       "output_type": "stream",
       "stream": "stdout",
       "text": [
        "\r",
        "Loaded frame 885 of 1280"
       ]
      },
      {
       "output_type": "stream",
       "stream": "stdout",
       "text": [
        "\r",
        "Loaded frame 886 of 1280"
       ]
      },
      {
       "output_type": "stream",
       "stream": "stdout",
       "text": [
        "\r",
        "Loaded frame 887 of 1280"
       ]
      },
      {
       "output_type": "stream",
       "stream": "stdout",
       "text": [
        "\r",
        "Loaded frame 888 of 1280"
       ]
      },
      {
       "output_type": "stream",
       "stream": "stdout",
       "text": [
        "\r",
        "Loaded frame 889 of 1280"
       ]
      },
      {
       "output_type": "stream",
       "stream": "stdout",
       "text": [
        "\r",
        "Loaded frame 890 of 1280"
       ]
      },
      {
       "output_type": "stream",
       "stream": "stdout",
       "text": [
        "\r",
        "Loaded frame 891 of 1280"
       ]
      },
      {
       "output_type": "stream",
       "stream": "stdout",
       "text": [
        "\r",
        "Loaded frame 892 of 1280"
       ]
      },
      {
       "output_type": "stream",
       "stream": "stdout",
       "text": [
        "\r",
        "Loaded frame 893 of 1280"
       ]
      },
      {
       "output_type": "stream",
       "stream": "stdout",
       "text": [
        "\r",
        "Loaded frame 894 of 1280"
       ]
      },
      {
       "output_type": "stream",
       "stream": "stdout",
       "text": [
        "\r",
        "Loaded frame 895 of 1280"
       ]
      },
      {
       "output_type": "stream",
       "stream": "stdout",
       "text": [
        "\r",
        "Loaded frame 896 of 1280"
       ]
      },
      {
       "output_type": "stream",
       "stream": "stdout",
       "text": [
        "\r",
        "Loaded frame 897 of 1280"
       ]
      },
      {
       "output_type": "stream",
       "stream": "stdout",
       "text": [
        "\r",
        "Loaded frame 898 of 1280"
       ]
      },
      {
       "output_type": "stream",
       "stream": "stdout",
       "text": [
        "\r",
        "Loaded frame 899 of 1280"
       ]
      },
      {
       "output_type": "stream",
       "stream": "stdout",
       "text": [
        "\r",
        "Loaded frame 900 of 1280"
       ]
      },
      {
       "output_type": "stream",
       "stream": "stdout",
       "text": [
        "\r",
        "Loaded frame 901 of 1280"
       ]
      },
      {
       "output_type": "stream",
       "stream": "stdout",
       "text": [
        "\r",
        "Loaded frame 902 of 1280"
       ]
      },
      {
       "output_type": "stream",
       "stream": "stdout",
       "text": [
        "\r",
        "Loaded frame 903 of 1280"
       ]
      },
      {
       "output_type": "stream",
       "stream": "stdout",
       "text": [
        "\r",
        "Loaded frame 904 of 1280"
       ]
      },
      {
       "output_type": "stream",
       "stream": "stdout",
       "text": [
        "\r",
        "Loaded frame 905 of 1280"
       ]
      },
      {
       "output_type": "stream",
       "stream": "stdout",
       "text": [
        "\r",
        "Loaded frame 906 of 1280"
       ]
      },
      {
       "output_type": "stream",
       "stream": "stdout",
       "text": [
        "\r",
        "Loaded frame 907 of 1280"
       ]
      },
      {
       "output_type": "stream",
       "stream": "stdout",
       "text": [
        "\r",
        "Loaded frame 908 of 1280"
       ]
      },
      {
       "output_type": "stream",
       "stream": "stdout",
       "text": [
        "\r",
        "Loaded frame 909 of 1280"
       ]
      },
      {
       "output_type": "stream",
       "stream": "stdout",
       "text": [
        "\r",
        "Loaded frame 910 of 1280"
       ]
      },
      {
       "output_type": "stream",
       "stream": "stdout",
       "text": [
        "\r",
        "Loaded frame 911 of 1280"
       ]
      },
      {
       "output_type": "stream",
       "stream": "stdout",
       "text": [
        "\r",
        "Loaded frame 912 of 1280"
       ]
      },
      {
       "output_type": "stream",
       "stream": "stdout",
       "text": [
        "\r",
        "Loaded frame 913 of 1280"
       ]
      },
      {
       "output_type": "stream",
       "stream": "stdout",
       "text": [
        "\r",
        "Loaded frame 914 of 1280"
       ]
      },
      {
       "output_type": "stream",
       "stream": "stdout",
       "text": [
        "\r",
        "Loaded frame 915 of 1280"
       ]
      },
      {
       "output_type": "stream",
       "stream": "stdout",
       "text": [
        "\r",
        "Loaded frame 916 of 1280"
       ]
      },
      {
       "output_type": "stream",
       "stream": "stdout",
       "text": [
        "\r",
        "Loaded frame 917 of 1280"
       ]
      },
      {
       "output_type": "stream",
       "stream": "stdout",
       "text": [
        "\r",
        "Loaded frame 918 of 1280"
       ]
      },
      {
       "output_type": "stream",
       "stream": "stdout",
       "text": [
        "\r",
        "Loaded frame 919 of 1280"
       ]
      },
      {
       "output_type": "stream",
       "stream": "stdout",
       "text": [
        "\r",
        "Loaded frame 920 of 1280"
       ]
      },
      {
       "output_type": "stream",
       "stream": "stdout",
       "text": [
        "\r",
        "Loaded frame 921 of 1280"
       ]
      },
      {
       "output_type": "stream",
       "stream": "stdout",
       "text": [
        "\r",
        "Loaded frame 922 of 1280"
       ]
      },
      {
       "output_type": "stream",
       "stream": "stdout",
       "text": [
        "\r",
        "Loaded frame 923 of 1280"
       ]
      },
      {
       "output_type": "stream",
       "stream": "stdout",
       "text": [
        "\r",
        "Loaded frame 924 of 1280"
       ]
      },
      {
       "output_type": "stream",
       "stream": "stdout",
       "text": [
        "\r",
        "Loaded frame 925 of 1280"
       ]
      },
      {
       "output_type": "stream",
       "stream": "stdout",
       "text": [
        "\r",
        "Loaded frame 926 of 1280"
       ]
      },
      {
       "output_type": "stream",
       "stream": "stdout",
       "text": [
        "\r",
        "Loaded frame 927 of 1280"
       ]
      },
      {
       "output_type": "stream",
       "stream": "stdout",
       "text": [
        "\r",
        "Loaded frame 928 of 1280"
       ]
      },
      {
       "output_type": "stream",
       "stream": "stdout",
       "text": [
        "\r",
        "Loaded frame 929 of 1280"
       ]
      },
      {
       "output_type": "stream",
       "stream": "stdout",
       "text": [
        "\r",
        "Loaded frame 930 of 1280"
       ]
      },
      {
       "output_type": "stream",
       "stream": "stdout",
       "text": [
        "\r",
        "Loaded frame 931 of 1280"
       ]
      },
      {
       "output_type": "stream",
       "stream": "stdout",
       "text": [
        "\r",
        "Loaded frame 932 of 1280"
       ]
      },
      {
       "output_type": "stream",
       "stream": "stdout",
       "text": [
        "\r",
        "Loaded frame 933 of 1280"
       ]
      },
      {
       "output_type": "stream",
       "stream": "stdout",
       "text": [
        "\r",
        "Loaded frame 934 of 1280"
       ]
      },
      {
       "output_type": "stream",
       "stream": "stdout",
       "text": [
        "\r",
        "Loaded frame 935 of 1280"
       ]
      },
      {
       "output_type": "stream",
       "stream": "stdout",
       "text": [
        "\r",
        "Loaded frame 936 of 1280"
       ]
      },
      {
       "output_type": "stream",
       "stream": "stdout",
       "text": [
        "\r",
        "Loaded frame 937 of 1280"
       ]
      },
      {
       "output_type": "stream",
       "stream": "stdout",
       "text": [
        "\r",
        "Loaded frame 938 of 1280"
       ]
      },
      {
       "output_type": "stream",
       "stream": "stdout",
       "text": [
        "\r",
        "Loaded frame 939 of 1280"
       ]
      },
      {
       "output_type": "stream",
       "stream": "stdout",
       "text": [
        "\r",
        "Loaded frame 940 of 1280"
       ]
      },
      {
       "output_type": "stream",
       "stream": "stdout",
       "text": [
        "\r",
        "Loaded frame 941 of 1280"
       ]
      },
      {
       "output_type": "stream",
       "stream": "stdout",
       "text": [
        "\r",
        "Loaded frame 942 of 1280"
       ]
      },
      {
       "output_type": "stream",
       "stream": "stdout",
       "text": [
        "\r",
        "Loaded frame 943 of 1280"
       ]
      },
      {
       "output_type": "stream",
       "stream": "stdout",
       "text": [
        "\r",
        "Loaded frame 944 of 1280"
       ]
      },
      {
       "output_type": "stream",
       "stream": "stdout",
       "text": [
        "\r",
        "Loaded frame 945 of 1280"
       ]
      },
      {
       "output_type": "stream",
       "stream": "stdout",
       "text": [
        "\r",
        "Loaded frame 946 of 1280"
       ]
      },
      {
       "output_type": "stream",
       "stream": "stdout",
       "text": [
        "\r",
        "Loaded frame 947 of 1280"
       ]
      },
      {
       "output_type": "stream",
       "stream": "stdout",
       "text": [
        "\r",
        "Loaded frame 948 of 1280"
       ]
      },
      {
       "output_type": "stream",
       "stream": "stdout",
       "text": [
        "\r",
        "Loaded frame 949 of 1280"
       ]
      },
      {
       "output_type": "stream",
       "stream": "stdout",
       "text": [
        "\r",
        "Loaded frame 950 of 1280"
       ]
      },
      {
       "output_type": "stream",
       "stream": "stdout",
       "text": [
        "\r",
        "Loaded frame 951 of 1280"
       ]
      },
      {
       "output_type": "stream",
       "stream": "stdout",
       "text": [
        "\r",
        "Loaded frame 952 of 1280"
       ]
      },
      {
       "output_type": "stream",
       "stream": "stdout",
       "text": [
        "\r",
        "Loaded frame 953 of 1280"
       ]
      },
      {
       "output_type": "stream",
       "stream": "stdout",
       "text": [
        "\r",
        "Loaded frame 954 of 1280"
       ]
      },
      {
       "output_type": "stream",
       "stream": "stdout",
       "text": [
        "\r",
        "Loaded frame 955 of 1280"
       ]
      },
      {
       "output_type": "stream",
       "stream": "stdout",
       "text": [
        "\r",
        "Loaded frame 956 of 1280"
       ]
      },
      {
       "output_type": "stream",
       "stream": "stdout",
       "text": [
        "\r",
        "Loaded frame 957 of 1280"
       ]
      },
      {
       "output_type": "stream",
       "stream": "stdout",
       "text": [
        "\r",
        "Loaded frame 958 of 1280"
       ]
      },
      {
       "output_type": "stream",
       "stream": "stdout",
       "text": [
        "\r",
        "Loaded frame 959 of 1280"
       ]
      },
      {
       "output_type": "stream",
       "stream": "stdout",
       "text": [
        "\r",
        "Loaded frame 960 of 1280"
       ]
      },
      {
       "output_type": "stream",
       "stream": "stdout",
       "text": [
        "\r",
        "Loaded frame 961 of 1280"
       ]
      },
      {
       "output_type": "stream",
       "stream": "stdout",
       "text": [
        "\r",
        "Loaded frame 962 of 1280"
       ]
      },
      {
       "output_type": "stream",
       "stream": "stdout",
       "text": [
        "\r",
        "Loaded frame 963 of 1280"
       ]
      },
      {
       "output_type": "stream",
       "stream": "stdout",
       "text": [
        "\r",
        "Loaded frame 964 of 1280"
       ]
      },
      {
       "output_type": "stream",
       "stream": "stdout",
       "text": [
        "\r",
        "Loaded frame 965 of 1280"
       ]
      },
      {
       "output_type": "stream",
       "stream": "stdout",
       "text": [
        "\r",
        "Loaded frame 966 of 1280"
       ]
      },
      {
       "output_type": "stream",
       "stream": "stdout",
       "text": [
        "\r",
        "Loaded frame 967 of 1280"
       ]
      },
      {
       "output_type": "stream",
       "stream": "stdout",
       "text": [
        "\r",
        "Loaded frame 968 of 1280"
       ]
      },
      {
       "output_type": "stream",
       "stream": "stdout",
       "text": [
        "\r",
        "Loaded frame 969 of 1280"
       ]
      },
      {
       "output_type": "stream",
       "stream": "stdout",
       "text": [
        "\r",
        "Loaded frame 970 of 1280"
       ]
      },
      {
       "output_type": "stream",
       "stream": "stdout",
       "text": [
        "\r",
        "Loaded frame 971 of 1280"
       ]
      },
      {
       "output_type": "stream",
       "stream": "stdout",
       "text": [
        "\r",
        "Loaded frame 972 of 1280"
       ]
      },
      {
       "output_type": "stream",
       "stream": "stdout",
       "text": [
        "\r",
        "Loaded frame 973 of 1280"
       ]
      },
      {
       "output_type": "stream",
       "stream": "stdout",
       "text": [
        "\r",
        "Loaded frame 974 of 1280"
       ]
      },
      {
       "output_type": "stream",
       "stream": "stdout",
       "text": [
        "\r",
        "Loaded frame 975 of 1280"
       ]
      },
      {
       "output_type": "stream",
       "stream": "stdout",
       "text": [
        "\r",
        "Loaded frame 976 of 1280"
       ]
      },
      {
       "output_type": "stream",
       "stream": "stdout",
       "text": [
        "\r",
        "Loaded frame 977 of 1280"
       ]
      },
      {
       "output_type": "stream",
       "stream": "stdout",
       "text": [
        "\r",
        "Loaded frame 978 of 1280"
       ]
      },
      {
       "output_type": "stream",
       "stream": "stdout",
       "text": [
        "\r",
        "Loaded frame 979 of 1280"
       ]
      },
      {
       "output_type": "stream",
       "stream": "stdout",
       "text": [
        "\r",
        "Loaded frame 980 of 1280"
       ]
      },
      {
       "output_type": "stream",
       "stream": "stdout",
       "text": [
        "\r",
        "Loaded frame 981 of 1280"
       ]
      },
      {
       "output_type": "stream",
       "stream": "stdout",
       "text": [
        "\r",
        "Loaded frame 982 of 1280"
       ]
      },
      {
       "output_type": "stream",
       "stream": "stdout",
       "text": [
        "\r",
        "Loaded frame 983 of 1280"
       ]
      },
      {
       "output_type": "stream",
       "stream": "stdout",
       "text": [
        "\r",
        "Loaded frame 984 of 1280"
       ]
      },
      {
       "output_type": "stream",
       "stream": "stdout",
       "text": [
        "\r",
        "Loaded frame 985 of 1280"
       ]
      },
      {
       "output_type": "stream",
       "stream": "stdout",
       "text": [
        "\r",
        "Loaded frame 986 of 1280"
       ]
      },
      {
       "output_type": "stream",
       "stream": "stdout",
       "text": [
        "\r",
        "Loaded frame 987 of 1280"
       ]
      },
      {
       "output_type": "stream",
       "stream": "stdout",
       "text": [
        "\r",
        "Loaded frame 988 of 1280"
       ]
      },
      {
       "output_type": "stream",
       "stream": "stdout",
       "text": [
        "\r",
        "Loaded frame 989 of 1280"
       ]
      },
      {
       "output_type": "stream",
       "stream": "stdout",
       "text": [
        "\r",
        "Loaded frame 990 of 1280"
       ]
      },
      {
       "output_type": "stream",
       "stream": "stdout",
       "text": [
        "\r",
        "Loaded frame 991 of 1280"
       ]
      },
      {
       "output_type": "stream",
       "stream": "stdout",
       "text": [
        "\r",
        "Loaded frame 992 of 1280"
       ]
      },
      {
       "output_type": "stream",
       "stream": "stdout",
       "text": [
        "\r",
        "Loaded frame 993 of 1280"
       ]
      },
      {
       "output_type": "stream",
       "stream": "stdout",
       "text": [
        "\r",
        "Loaded frame 994 of 1280"
       ]
      },
      {
       "output_type": "stream",
       "stream": "stdout",
       "text": [
        "\r",
        "Loaded frame 995 of 1280"
       ]
      },
      {
       "output_type": "stream",
       "stream": "stdout",
       "text": [
        "\r",
        "Loaded frame 996 of 1280"
       ]
      },
      {
       "output_type": "stream",
       "stream": "stdout",
       "text": [
        "\r",
        "Loaded frame 997 of 1280"
       ]
      },
      {
       "output_type": "stream",
       "stream": "stdout",
       "text": [
        "\r",
        "Loaded frame 998 of 1280"
       ]
      },
      {
       "output_type": "stream",
       "stream": "stdout",
       "text": [
        "\r",
        "Loaded frame 999 of 1280"
       ]
      },
      {
       "output_type": "stream",
       "stream": "stdout",
       "text": [
        "\r",
        "Loaded frame 1000 of 1280"
       ]
      },
      {
       "output_type": "stream",
       "stream": "stdout",
       "text": [
        "\r",
        "Loaded frame 1001 of 1280"
       ]
      },
      {
       "output_type": "stream",
       "stream": "stdout",
       "text": [
        "\r",
        "Loaded frame 1002 of 1280"
       ]
      },
      {
       "output_type": "stream",
       "stream": "stdout",
       "text": [
        "\r",
        "Loaded frame 1003 of 1280"
       ]
      },
      {
       "output_type": "stream",
       "stream": "stdout",
       "text": [
        "\r",
        "Loaded frame 1004 of 1280"
       ]
      },
      {
       "output_type": "stream",
       "stream": "stdout",
       "text": [
        "\r",
        "Loaded frame 1005 of 1280"
       ]
      },
      {
       "output_type": "stream",
       "stream": "stdout",
       "text": [
        "\r",
        "Loaded frame 1006 of 1280"
       ]
      },
      {
       "output_type": "stream",
       "stream": "stdout",
       "text": [
        "\r",
        "Loaded frame 1007 of 1280"
       ]
      },
      {
       "output_type": "stream",
       "stream": "stdout",
       "text": [
        "\r",
        "Loaded frame 1008 of 1280"
       ]
      },
      {
       "output_type": "stream",
       "stream": "stdout",
       "text": [
        "\r",
        "Loaded frame 1009 of 1280"
       ]
      },
      {
       "output_type": "stream",
       "stream": "stdout",
       "text": [
        "\r",
        "Loaded frame 1010 of 1280"
       ]
      },
      {
       "output_type": "stream",
       "stream": "stdout",
       "text": [
        "\r",
        "Loaded frame 1011 of 1280"
       ]
      },
      {
       "output_type": "stream",
       "stream": "stdout",
       "text": [
        "\r",
        "Loaded frame 1012 of 1280"
       ]
      },
      {
       "output_type": "stream",
       "stream": "stdout",
       "text": [
        "\r",
        "Loaded frame 1013 of 1280"
       ]
      },
      {
       "output_type": "stream",
       "stream": "stdout",
       "text": [
        "\r",
        "Loaded frame 1014 of 1280"
       ]
      },
      {
       "output_type": "stream",
       "stream": "stdout",
       "text": [
        "\r",
        "Loaded frame 1015 of 1280"
       ]
      },
      {
       "output_type": "stream",
       "stream": "stdout",
       "text": [
        "\r",
        "Loaded frame 1016 of 1280"
       ]
      },
      {
       "output_type": "stream",
       "stream": "stdout",
       "text": [
        "\r",
        "Loaded frame 1017 of 1280"
       ]
      },
      {
       "output_type": "stream",
       "stream": "stdout",
       "text": [
        "\r",
        "Loaded frame 1018 of 1280"
       ]
      },
      {
       "output_type": "stream",
       "stream": "stdout",
       "text": [
        "\r",
        "Loaded frame 1019 of 1280"
       ]
      },
      {
       "output_type": "stream",
       "stream": "stdout",
       "text": [
        "\r",
        "Loaded frame 1020 of 1280"
       ]
      },
      {
       "output_type": "stream",
       "stream": "stdout",
       "text": [
        "\r",
        "Loaded frame 1021 of 1280"
       ]
      },
      {
       "output_type": "stream",
       "stream": "stdout",
       "text": [
        "\r",
        "Loaded frame 1022 of 1280"
       ]
      },
      {
       "output_type": "stream",
       "stream": "stdout",
       "text": [
        "\r",
        "Loaded frame 1023 of 1280"
       ]
      },
      {
       "output_type": "stream",
       "stream": "stdout",
       "text": [
        "\r",
        "Loaded frame 1024 of 1280"
       ]
      },
      {
       "output_type": "stream",
       "stream": "stdout",
       "text": [
        "\r",
        "Loaded frame 1025 of 1280"
       ]
      },
      {
       "output_type": "stream",
       "stream": "stdout",
       "text": [
        "\r",
        "Loaded frame 1026 of 1280"
       ]
      },
      {
       "output_type": "stream",
       "stream": "stdout",
       "text": [
        "\r",
        "Loaded frame 1027 of 1280"
       ]
      },
      {
       "output_type": "stream",
       "stream": "stdout",
       "text": [
        "\r",
        "Loaded frame 1028 of 1280"
       ]
      },
      {
       "output_type": "stream",
       "stream": "stdout",
       "text": [
        "\r",
        "Loaded frame 1029 of 1280"
       ]
      },
      {
       "output_type": "stream",
       "stream": "stdout",
       "text": [
        "\r",
        "Loaded frame 1030 of 1280"
       ]
      },
      {
       "output_type": "stream",
       "stream": "stdout",
       "text": [
        "\r",
        "Loaded frame 1031 of 1280"
       ]
      },
      {
       "output_type": "stream",
       "stream": "stdout",
       "text": [
        "\r",
        "Loaded frame 1032 of 1280"
       ]
      },
      {
       "output_type": "stream",
       "stream": "stdout",
       "text": [
        "\r",
        "Loaded frame 1033 of 1280"
       ]
      },
      {
       "output_type": "stream",
       "stream": "stdout",
       "text": [
        "\r",
        "Loaded frame 1034 of 1280"
       ]
      },
      {
       "output_type": "stream",
       "stream": "stdout",
       "text": [
        "\r",
        "Loaded frame 1035 of 1280"
       ]
      },
      {
       "output_type": "stream",
       "stream": "stdout",
       "text": [
        "\r",
        "Loaded frame 1036 of 1280"
       ]
      },
      {
       "output_type": "stream",
       "stream": "stdout",
       "text": [
        "\r",
        "Loaded frame 1037 of 1280"
       ]
      },
      {
       "output_type": "stream",
       "stream": "stdout",
       "text": [
        "\r",
        "Loaded frame 1038 of 1280"
       ]
      },
      {
       "output_type": "stream",
       "stream": "stdout",
       "text": [
        "\r",
        "Loaded frame 1039 of 1280"
       ]
      },
      {
       "output_type": "stream",
       "stream": "stdout",
       "text": [
        "\r",
        "Loaded frame 1040 of 1280"
       ]
      },
      {
       "output_type": "stream",
       "stream": "stdout",
       "text": [
        "\r",
        "Loaded frame 1041 of 1280"
       ]
      },
      {
       "output_type": "stream",
       "stream": "stdout",
       "text": [
        "\r",
        "Loaded frame 1042 of 1280"
       ]
      },
      {
       "output_type": "stream",
       "stream": "stdout",
       "text": [
        "\r",
        "Loaded frame 1043 of 1280"
       ]
      },
      {
       "output_type": "stream",
       "stream": "stdout",
       "text": [
        "\r",
        "Loaded frame 1044 of 1280"
       ]
      },
      {
       "output_type": "stream",
       "stream": "stdout",
       "text": [
        "\r",
        "Loaded frame 1045 of 1280"
       ]
      },
      {
       "output_type": "stream",
       "stream": "stdout",
       "text": [
        "\r",
        "Loaded frame 1046 of 1280"
       ]
      },
      {
       "output_type": "stream",
       "stream": "stdout",
       "text": [
        "\r",
        "Loaded frame 1047 of 1280"
       ]
      },
      {
       "output_type": "stream",
       "stream": "stdout",
       "text": [
        "\r",
        "Loaded frame 1048 of 1280"
       ]
      },
      {
       "output_type": "stream",
       "stream": "stdout",
       "text": [
        "\r",
        "Loaded frame 1049 of 1280"
       ]
      },
      {
       "output_type": "stream",
       "stream": "stdout",
       "text": [
        "\r",
        "Loaded frame 1050 of 1280"
       ]
      },
      {
       "output_type": "stream",
       "stream": "stdout",
       "text": [
        "\r",
        "Loaded frame 1051 of 1280"
       ]
      },
      {
       "output_type": "stream",
       "stream": "stdout",
       "text": [
        "\r",
        "Loaded frame 1052 of 1280"
       ]
      },
      {
       "output_type": "stream",
       "stream": "stdout",
       "text": [
        "\r",
        "Loaded frame 1053 of 1280"
       ]
      },
      {
       "output_type": "stream",
       "stream": "stdout",
       "text": [
        "\r",
        "Loaded frame 1054 of 1280"
       ]
      },
      {
       "output_type": "stream",
       "stream": "stdout",
       "text": [
        "\r",
        "Loaded frame 1055 of 1280"
       ]
      },
      {
       "output_type": "stream",
       "stream": "stdout",
       "text": [
        "\r",
        "Loaded frame 1056 of 1280"
       ]
      },
      {
       "output_type": "stream",
       "stream": "stdout",
       "text": [
        "\r",
        "Loaded frame 1057 of 1280"
       ]
      },
      {
       "output_type": "stream",
       "stream": "stdout",
       "text": [
        "\r",
        "Loaded frame 1058 of 1280"
       ]
      },
      {
       "output_type": "stream",
       "stream": "stdout",
       "text": [
        "\r",
        "Loaded frame 1059 of 1280"
       ]
      },
      {
       "output_type": "stream",
       "stream": "stdout",
       "text": [
        "\r",
        "Loaded frame 1060 of 1280"
       ]
      },
      {
       "output_type": "stream",
       "stream": "stdout",
       "text": [
        "\r",
        "Loaded frame 1061 of 1280"
       ]
      },
      {
       "output_type": "stream",
       "stream": "stdout",
       "text": [
        "\r",
        "Loaded frame 1062 of 1280"
       ]
      },
      {
       "output_type": "stream",
       "stream": "stdout",
       "text": [
        "\r",
        "Loaded frame 1063 of 1280"
       ]
      },
      {
       "output_type": "stream",
       "stream": "stdout",
       "text": [
        "\r",
        "Loaded frame 1064 of 1280"
       ]
      },
      {
       "output_type": "stream",
       "stream": "stdout",
       "text": [
        "\r",
        "Loaded frame 1065 of 1280"
       ]
      },
      {
       "output_type": "stream",
       "stream": "stdout",
       "text": [
        "\r",
        "Loaded frame 1066 of 1280"
       ]
      },
      {
       "output_type": "stream",
       "stream": "stdout",
       "text": [
        "\r",
        "Loaded frame 1067 of 1280"
       ]
      },
      {
       "output_type": "stream",
       "stream": "stdout",
       "text": [
        "\r",
        "Loaded frame 1068 of 1280"
       ]
      },
      {
       "output_type": "stream",
       "stream": "stdout",
       "text": [
        "\r",
        "Loaded frame 1069 of 1280"
       ]
      },
      {
       "output_type": "stream",
       "stream": "stdout",
       "text": [
        "\r",
        "Loaded frame 1070 of 1280"
       ]
      },
      {
       "output_type": "stream",
       "stream": "stdout",
       "text": [
        "\r",
        "Loaded frame 1071 of 1280"
       ]
      },
      {
       "output_type": "stream",
       "stream": "stdout",
       "text": [
        "\r",
        "Loaded frame 1072 of 1280"
       ]
      },
      {
       "output_type": "stream",
       "stream": "stdout",
       "text": [
        "\r",
        "Loaded frame 1073 of 1280"
       ]
      },
      {
       "output_type": "stream",
       "stream": "stdout",
       "text": [
        "\r",
        "Loaded frame 1074 of 1280"
       ]
      },
      {
       "output_type": "stream",
       "stream": "stdout",
       "text": [
        "\r",
        "Loaded frame 1075 of 1280"
       ]
      },
      {
       "output_type": "stream",
       "stream": "stdout",
       "text": [
        "\r",
        "Loaded frame 1076 of 1280"
       ]
      },
      {
       "output_type": "stream",
       "stream": "stdout",
       "text": [
        "\r",
        "Loaded frame 1077 of 1280"
       ]
      },
      {
       "output_type": "stream",
       "stream": "stdout",
       "text": [
        "\r",
        "Loaded frame 1078 of 1280"
       ]
      },
      {
       "output_type": "stream",
       "stream": "stdout",
       "text": [
        "\r",
        "Loaded frame 1079 of 1280"
       ]
      },
      {
       "output_type": "stream",
       "stream": "stdout",
       "text": [
        "\r",
        "Loaded frame 1080 of 1280"
       ]
      },
      {
       "output_type": "stream",
       "stream": "stdout",
       "text": [
        "\r",
        "Loaded frame 1081 of 1280"
       ]
      },
      {
       "output_type": "stream",
       "stream": "stdout",
       "text": [
        "\r",
        "Loaded frame 1082 of 1280"
       ]
      },
      {
       "output_type": "stream",
       "stream": "stdout",
       "text": [
        "\r",
        "Loaded frame 1083 of 1280"
       ]
      },
      {
       "output_type": "stream",
       "stream": "stdout",
       "text": [
        "\r",
        "Loaded frame 1084 of 1280"
       ]
      },
      {
       "output_type": "stream",
       "stream": "stdout",
       "text": [
        "\r",
        "Loaded frame 1085 of 1280"
       ]
      },
      {
       "output_type": "stream",
       "stream": "stdout",
       "text": [
        "\r",
        "Loaded frame 1086 of 1280"
       ]
      },
      {
       "output_type": "stream",
       "stream": "stdout",
       "text": [
        "\r",
        "Loaded frame 1087 of 1280"
       ]
      },
      {
       "output_type": "stream",
       "stream": "stdout",
       "text": [
        "\r",
        "Loaded frame 1088 of 1280"
       ]
      },
      {
       "output_type": "stream",
       "stream": "stdout",
       "text": [
        "\r",
        "Loaded frame 1089 of 1280"
       ]
      },
      {
       "output_type": "stream",
       "stream": "stdout",
       "text": [
        "\r",
        "Loaded frame 1090 of 1280"
       ]
      },
      {
       "output_type": "stream",
       "stream": "stdout",
       "text": [
        "\r",
        "Loaded frame 1091 of 1280"
       ]
      },
      {
       "output_type": "stream",
       "stream": "stdout",
       "text": [
        "\r",
        "Loaded frame 1092 of 1280"
       ]
      },
      {
       "output_type": "stream",
       "stream": "stdout",
       "text": [
        "\r",
        "Loaded frame 1093 of 1280"
       ]
      },
      {
       "output_type": "stream",
       "stream": "stdout",
       "text": [
        "\r",
        "Loaded frame 1094 of 1280"
       ]
      },
      {
       "output_type": "stream",
       "stream": "stdout",
       "text": [
        "\r",
        "Loaded frame 1095 of 1280"
       ]
      },
      {
       "output_type": "stream",
       "stream": "stdout",
       "text": [
        "\r",
        "Loaded frame 1096 of 1280"
       ]
      },
      {
       "output_type": "stream",
       "stream": "stdout",
       "text": [
        "\r",
        "Loaded frame 1097 of 1280"
       ]
      },
      {
       "output_type": "stream",
       "stream": "stdout",
       "text": [
        "\r",
        "Loaded frame 1098 of 1280"
       ]
      },
      {
       "output_type": "stream",
       "stream": "stdout",
       "text": [
        "\r",
        "Loaded frame 1099 of 1280"
       ]
      },
      {
       "output_type": "stream",
       "stream": "stdout",
       "text": [
        "\r",
        "Loaded frame 1100 of 1280"
       ]
      },
      {
       "output_type": "stream",
       "stream": "stdout",
       "text": [
        "\r",
        "Loaded frame 1101 of 1280"
       ]
      },
      {
       "output_type": "stream",
       "stream": "stdout",
       "text": [
        "\r",
        "Loaded frame 1102 of 1280"
       ]
      },
      {
       "output_type": "stream",
       "stream": "stdout",
       "text": [
        "\r",
        "Loaded frame 1103 of 1280"
       ]
      },
      {
       "output_type": "stream",
       "stream": "stdout",
       "text": [
        "\r",
        "Loaded frame 1104 of 1280"
       ]
      },
      {
       "output_type": "stream",
       "stream": "stdout",
       "text": [
        "\r",
        "Loaded frame 1105 of 1280"
       ]
      },
      {
       "output_type": "stream",
       "stream": "stdout",
       "text": [
        "\r",
        "Loaded frame 1106 of 1280"
       ]
      },
      {
       "output_type": "stream",
       "stream": "stdout",
       "text": [
        "\r",
        "Loaded frame 1107 of 1280"
       ]
      },
      {
       "output_type": "stream",
       "stream": "stdout",
       "text": [
        "\r",
        "Loaded frame 1108 of 1280"
       ]
      },
      {
       "output_type": "stream",
       "stream": "stdout",
       "text": [
        "\r",
        "Loaded frame 1109 of 1280"
       ]
      },
      {
       "output_type": "stream",
       "stream": "stdout",
       "text": [
        "\r",
        "Loaded frame 1110 of 1280"
       ]
      },
      {
       "output_type": "stream",
       "stream": "stdout",
       "text": [
        "\r",
        "Loaded frame 1111 of 1280"
       ]
      },
      {
       "output_type": "stream",
       "stream": "stdout",
       "text": [
        "\r",
        "Loaded frame 1112 of 1280"
       ]
      },
      {
       "output_type": "stream",
       "stream": "stdout",
       "text": [
        "\r",
        "Loaded frame 1113 of 1280"
       ]
      },
      {
       "output_type": "stream",
       "stream": "stdout",
       "text": [
        "\r",
        "Loaded frame 1114 of 1280"
       ]
      },
      {
       "output_type": "stream",
       "stream": "stdout",
       "text": [
        "\r",
        "Loaded frame 1115 of 1280"
       ]
      },
      {
       "output_type": "stream",
       "stream": "stdout",
       "text": [
        "\r",
        "Loaded frame 1116 of 1280"
       ]
      },
      {
       "output_type": "stream",
       "stream": "stdout",
       "text": [
        "\r",
        "Loaded frame 1117 of 1280"
       ]
      },
      {
       "output_type": "stream",
       "stream": "stdout",
       "text": [
        "\r",
        "Loaded frame 1118 of 1280"
       ]
      },
      {
       "output_type": "stream",
       "stream": "stdout",
       "text": [
        "\r",
        "Loaded frame 1119 of 1280"
       ]
      },
      {
       "output_type": "stream",
       "stream": "stdout",
       "text": [
        "\r",
        "Loaded frame 1120 of 1280"
       ]
      },
      {
       "output_type": "stream",
       "stream": "stdout",
       "text": [
        "\r",
        "Loaded frame 1121 of 1280"
       ]
      },
      {
       "output_type": "stream",
       "stream": "stdout",
       "text": [
        "\r",
        "Loaded frame 1122 of 1280"
       ]
      },
      {
       "output_type": "stream",
       "stream": "stdout",
       "text": [
        "\r",
        "Loaded frame 1123 of 1280"
       ]
      },
      {
       "output_type": "stream",
       "stream": "stdout",
       "text": [
        "\r",
        "Loaded frame 1124 of 1280"
       ]
      },
      {
       "output_type": "stream",
       "stream": "stdout",
       "text": [
        "\r",
        "Loaded frame 1125 of 1280"
       ]
      },
      {
       "output_type": "stream",
       "stream": "stdout",
       "text": [
        "\r",
        "Loaded frame 1126 of 1280"
       ]
      },
      {
       "output_type": "stream",
       "stream": "stdout",
       "text": [
        "\r",
        "Loaded frame 1127 of 1280"
       ]
      },
      {
       "output_type": "stream",
       "stream": "stdout",
       "text": [
        "\r",
        "Loaded frame 1128 of 1280"
       ]
      },
      {
       "output_type": "stream",
       "stream": "stdout",
       "text": [
        "\r",
        "Loaded frame 1129 of 1280"
       ]
      },
      {
       "output_type": "stream",
       "stream": "stdout",
       "text": [
        "\r",
        "Loaded frame 1130 of 1280"
       ]
      },
      {
       "output_type": "stream",
       "stream": "stdout",
       "text": [
        "\r",
        "Loaded frame 1131 of 1280"
       ]
      },
      {
       "output_type": "stream",
       "stream": "stdout",
       "text": [
        "\r",
        "Loaded frame 1132 of 1280"
       ]
      },
      {
       "output_type": "stream",
       "stream": "stdout",
       "text": [
        "\r",
        "Loaded frame 1133 of 1280"
       ]
      },
      {
       "output_type": "stream",
       "stream": "stdout",
       "text": [
        "\r",
        "Loaded frame 1134 of 1280"
       ]
      },
      {
       "output_type": "stream",
       "stream": "stdout",
       "text": [
        "\r",
        "Loaded frame 1135 of 1280"
       ]
      },
      {
       "output_type": "stream",
       "stream": "stdout",
       "text": [
        "\r",
        "Loaded frame 1136 of 1280"
       ]
      },
      {
       "output_type": "stream",
       "stream": "stdout",
       "text": [
        "\r",
        "Loaded frame 1137 of 1280"
       ]
      },
      {
       "output_type": "stream",
       "stream": "stdout",
       "text": [
        "\r",
        "Loaded frame 1138 of 1280"
       ]
      },
      {
       "output_type": "stream",
       "stream": "stdout",
       "text": [
        "\r",
        "Loaded frame 1139 of 1280"
       ]
      },
      {
       "output_type": "stream",
       "stream": "stdout",
       "text": [
        "\r",
        "Loaded frame 1140 of 1280"
       ]
      },
      {
       "output_type": "stream",
       "stream": "stdout",
       "text": [
        "\r",
        "Loaded frame 1141 of 1280"
       ]
      },
      {
       "output_type": "stream",
       "stream": "stdout",
       "text": [
        "\r",
        "Loaded frame 1142 of 1280"
       ]
      },
      {
       "output_type": "stream",
       "stream": "stdout",
       "text": [
        "\r",
        "Loaded frame 1143 of 1280"
       ]
      },
      {
       "output_type": "stream",
       "stream": "stdout",
       "text": [
        "\r",
        "Loaded frame 1144 of 1280"
       ]
      },
      {
       "output_type": "stream",
       "stream": "stdout",
       "text": [
        "\r",
        "Loaded frame 1145 of 1280"
       ]
      },
      {
       "output_type": "stream",
       "stream": "stdout",
       "text": [
        "\r",
        "Loaded frame 1146 of 1280"
       ]
      },
      {
       "output_type": "stream",
       "stream": "stdout",
       "text": [
        "\r",
        "Loaded frame 1147 of 1280"
       ]
      },
      {
       "output_type": "stream",
       "stream": "stdout",
       "text": [
        "\r",
        "Loaded frame 1148 of 1280"
       ]
      },
      {
       "output_type": "stream",
       "stream": "stdout",
       "text": [
        "\r",
        "Loaded frame 1149 of 1280"
       ]
      },
      {
       "output_type": "stream",
       "stream": "stdout",
       "text": [
        "\r",
        "Loaded frame 1150 of 1280"
       ]
      },
      {
       "output_type": "stream",
       "stream": "stdout",
       "text": [
        "\r",
        "Loaded frame 1151 of 1280"
       ]
      },
      {
       "output_type": "stream",
       "stream": "stdout",
       "text": [
        "\r",
        "Loaded frame 1152 of 1280"
       ]
      },
      {
       "output_type": "stream",
       "stream": "stdout",
       "text": [
        "\r",
        "Loaded frame 1153 of 1280"
       ]
      },
      {
       "output_type": "stream",
       "stream": "stdout",
       "text": [
        "\r",
        "Loaded frame 1154 of 1280"
       ]
      },
      {
       "output_type": "stream",
       "stream": "stdout",
       "text": [
        "\r",
        "Loaded frame 1155 of 1280"
       ]
      },
      {
       "output_type": "stream",
       "stream": "stdout",
       "text": [
        "\r",
        "Loaded frame 1156 of 1280"
       ]
      },
      {
       "output_type": "stream",
       "stream": "stdout",
       "text": [
        "\r",
        "Loaded frame 1157 of 1280"
       ]
      },
      {
       "output_type": "stream",
       "stream": "stdout",
       "text": [
        "\r",
        "Loaded frame 1158 of 1280"
       ]
      },
      {
       "output_type": "stream",
       "stream": "stdout",
       "text": [
        "\r",
        "Loaded frame 1159 of 1280"
       ]
      },
      {
       "output_type": "stream",
       "stream": "stdout",
       "text": [
        "\r",
        "Loaded frame 1160 of 1280"
       ]
      },
      {
       "output_type": "stream",
       "stream": "stdout",
       "text": [
        "\r",
        "Loaded frame 1161 of 1280"
       ]
      },
      {
       "output_type": "stream",
       "stream": "stdout",
       "text": [
        "\r",
        "Loaded frame 1162 of 1280"
       ]
      },
      {
       "output_type": "stream",
       "stream": "stdout",
       "text": [
        "\r",
        "Loaded frame 1163 of 1280"
       ]
      },
      {
       "output_type": "stream",
       "stream": "stdout",
       "text": [
        "\r",
        "Loaded frame 1164 of 1280"
       ]
      },
      {
       "output_type": "stream",
       "stream": "stdout",
       "text": [
        "\r",
        "Loaded frame 1165 of 1280"
       ]
      },
      {
       "output_type": "stream",
       "stream": "stdout",
       "text": [
        "\r",
        "Loaded frame 1166 of 1280"
       ]
      },
      {
       "output_type": "stream",
       "stream": "stdout",
       "text": [
        "\r",
        "Loaded frame 1167 of 1280"
       ]
      },
      {
       "output_type": "stream",
       "stream": "stdout",
       "text": [
        "\r",
        "Loaded frame 1168 of 1280"
       ]
      },
      {
       "output_type": "stream",
       "stream": "stdout",
       "text": [
        "\r",
        "Loaded frame 1169 of 1280"
       ]
      },
      {
       "output_type": "stream",
       "stream": "stdout",
       "text": [
        "\r",
        "Loaded frame 1170 of 1280"
       ]
      },
      {
       "output_type": "stream",
       "stream": "stdout",
       "text": [
        "\r",
        "Loaded frame 1171 of 1280"
       ]
      },
      {
       "output_type": "stream",
       "stream": "stdout",
       "text": [
        "\r",
        "Loaded frame 1172 of 1280"
       ]
      },
      {
       "output_type": "stream",
       "stream": "stdout",
       "text": [
        "\r",
        "Loaded frame 1173 of 1280"
       ]
      },
      {
       "output_type": "stream",
       "stream": "stdout",
       "text": [
        "\r",
        "Loaded frame 1174 of 1280"
       ]
      },
      {
       "output_type": "stream",
       "stream": "stdout",
       "text": [
        "\r",
        "Loaded frame 1175 of 1280"
       ]
      },
      {
       "output_type": "stream",
       "stream": "stdout",
       "text": [
        "\r",
        "Loaded frame 1176 of 1280"
       ]
      },
      {
       "output_type": "stream",
       "stream": "stdout",
       "text": [
        "\r",
        "Loaded frame 1177 of 1280"
       ]
      },
      {
       "output_type": "stream",
       "stream": "stdout",
       "text": [
        "\r",
        "Loaded frame 1178 of 1280"
       ]
      },
      {
       "output_type": "stream",
       "stream": "stdout",
       "text": [
        "\r",
        "Loaded frame 1179 of 1280"
       ]
      },
      {
       "output_type": "stream",
       "stream": "stdout",
       "text": [
        "\r",
        "Loaded frame 1180 of 1280"
       ]
      },
      {
       "output_type": "stream",
       "stream": "stdout",
       "text": [
        "\r",
        "Loaded frame 1181 of 1280"
       ]
      },
      {
       "output_type": "stream",
       "stream": "stdout",
       "text": [
        "\r",
        "Loaded frame 1182 of 1280"
       ]
      },
      {
       "output_type": "stream",
       "stream": "stdout",
       "text": [
        "\r",
        "Loaded frame 1183 of 1280"
       ]
      },
      {
       "output_type": "stream",
       "stream": "stdout",
       "text": [
        "\r",
        "Loaded frame 1184 of 1280"
       ]
      },
      {
       "output_type": "stream",
       "stream": "stdout",
       "text": [
        "\r",
        "Loaded frame 1185 of 1280"
       ]
      },
      {
       "output_type": "stream",
       "stream": "stdout",
       "text": [
        "\r",
        "Loaded frame 1186 of 1280"
       ]
      },
      {
       "output_type": "stream",
       "stream": "stdout",
       "text": [
        "\r",
        "Loaded frame 1187 of 1280"
       ]
      },
      {
       "output_type": "stream",
       "stream": "stdout",
       "text": [
        "\r",
        "Loaded frame 1188 of 1280"
       ]
      },
      {
       "output_type": "stream",
       "stream": "stdout",
       "text": [
        "\r",
        "Loaded frame 1189 of 1280"
       ]
      },
      {
       "output_type": "stream",
       "stream": "stdout",
       "text": [
        "\r",
        "Loaded frame 1190 of 1280"
       ]
      },
      {
       "output_type": "stream",
       "stream": "stdout",
       "text": [
        "\r",
        "Loaded frame 1191 of 1280"
       ]
      },
      {
       "output_type": "stream",
       "stream": "stdout",
       "text": [
        "\r",
        "Loaded frame 1192 of 1280"
       ]
      },
      {
       "output_type": "stream",
       "stream": "stdout",
       "text": [
        "\r",
        "Loaded frame 1193 of 1280"
       ]
      },
      {
       "output_type": "stream",
       "stream": "stdout",
       "text": [
        "\r",
        "Loaded frame 1194 of 1280"
       ]
      },
      {
       "output_type": "stream",
       "stream": "stdout",
       "text": [
        "\r",
        "Loaded frame 1195 of 1280"
       ]
      },
      {
       "output_type": "stream",
       "stream": "stdout",
       "text": [
        "\r",
        "Loaded frame 1196 of 1280"
       ]
      },
      {
       "output_type": "stream",
       "stream": "stdout",
       "text": [
        "\r",
        "Loaded frame 1197 of 1280"
       ]
      },
      {
       "output_type": "stream",
       "stream": "stdout",
       "text": [
        "\r",
        "Loaded frame 1198 of 1280"
       ]
      },
      {
       "output_type": "stream",
       "stream": "stdout",
       "text": [
        "\r",
        "Loaded frame 1199 of 1280"
       ]
      },
      {
       "output_type": "stream",
       "stream": "stdout",
       "text": [
        "\r",
        "Loaded frame 1200 of 1280"
       ]
      },
      {
       "output_type": "stream",
       "stream": "stdout",
       "text": [
        "\r",
        "Loaded frame 1201 of 1280"
       ]
      },
      {
       "output_type": "stream",
       "stream": "stdout",
       "text": [
        "\r",
        "Loaded frame 1202 of 1280"
       ]
      },
      {
       "output_type": "stream",
       "stream": "stdout",
       "text": [
        "\r",
        "Loaded frame 1203 of 1280"
       ]
      },
      {
       "output_type": "stream",
       "stream": "stdout",
       "text": [
        "\r",
        "Loaded frame 1204 of 1280"
       ]
      },
      {
       "output_type": "stream",
       "stream": "stdout",
       "text": [
        "\r",
        "Loaded frame 1205 of 1280"
       ]
      },
      {
       "output_type": "stream",
       "stream": "stdout",
       "text": [
        "\r",
        "Loaded frame 1206 of 1280"
       ]
      },
      {
       "output_type": "stream",
       "stream": "stdout",
       "text": [
        "\r",
        "Loaded frame 1207 of 1280"
       ]
      },
      {
       "output_type": "stream",
       "stream": "stdout",
       "text": [
        "\r",
        "Loaded frame 1208 of 1280"
       ]
      },
      {
       "output_type": "stream",
       "stream": "stdout",
       "text": [
        "\r",
        "Loaded frame 1209 of 1280"
       ]
      },
      {
       "output_type": "stream",
       "stream": "stdout",
       "text": [
        "\r",
        "Loaded frame 1210 of 1280"
       ]
      },
      {
       "output_type": "stream",
       "stream": "stdout",
       "text": [
        "\r",
        "Loaded frame 1211 of 1280"
       ]
      },
      {
       "output_type": "stream",
       "stream": "stdout",
       "text": [
        "\r",
        "Loaded frame 1212 of 1280"
       ]
      },
      {
       "output_type": "stream",
       "stream": "stdout",
       "text": [
        "\r",
        "Loaded frame 1213 of 1280"
       ]
      },
      {
       "output_type": "stream",
       "stream": "stdout",
       "text": [
        "\r",
        "Loaded frame 1214 of 1280"
       ]
      },
      {
       "output_type": "stream",
       "stream": "stdout",
       "text": [
        "\r",
        "Loaded frame 1215 of 1280"
       ]
      },
      {
       "output_type": "stream",
       "stream": "stdout",
       "text": [
        "\r",
        "Loaded frame 1216 of 1280"
       ]
      },
      {
       "output_type": "stream",
       "stream": "stdout",
       "text": [
        "\r",
        "Loaded frame 1217 of 1280"
       ]
      },
      {
       "output_type": "stream",
       "stream": "stdout",
       "text": [
        "\r",
        "Loaded frame 1218 of 1280"
       ]
      },
      {
       "output_type": "stream",
       "stream": "stdout",
       "text": [
        "\r",
        "Loaded frame 1219 of 1280"
       ]
      },
      {
       "output_type": "stream",
       "stream": "stdout",
       "text": [
        "\r",
        "Loaded frame 1220 of 1280"
       ]
      },
      {
       "output_type": "stream",
       "stream": "stdout",
       "text": [
        "\r",
        "Loaded frame 1221 of 1280"
       ]
      },
      {
       "output_type": "stream",
       "stream": "stdout",
       "text": [
        "\r",
        "Loaded frame 1222 of 1280"
       ]
      },
      {
       "output_type": "stream",
       "stream": "stdout",
       "text": [
        "\r",
        "Loaded frame 1223 of 1280"
       ]
      },
      {
       "output_type": "stream",
       "stream": "stdout",
       "text": [
        "\r",
        "Loaded frame 1224 of 1280"
       ]
      },
      {
       "output_type": "stream",
       "stream": "stdout",
       "text": [
        "\r",
        "Loaded frame 1225 of 1280"
       ]
      },
      {
       "output_type": "stream",
       "stream": "stdout",
       "text": [
        "\r",
        "Loaded frame 1226 of 1280"
       ]
      },
      {
       "output_type": "stream",
       "stream": "stdout",
       "text": [
        "\r",
        "Loaded frame 1227 of 1280"
       ]
      },
      {
       "output_type": "stream",
       "stream": "stdout",
       "text": [
        "\r",
        "Loaded frame 1228 of 1280"
       ]
      },
      {
       "output_type": "stream",
       "stream": "stdout",
       "text": [
        "\r",
        "Loaded frame 1229 of 1280"
       ]
      },
      {
       "output_type": "stream",
       "stream": "stdout",
       "text": [
        "\r",
        "Loaded frame 1230 of 1280"
       ]
      },
      {
       "output_type": "stream",
       "stream": "stdout",
       "text": [
        "\r",
        "Loaded frame 1231 of 1280"
       ]
      },
      {
       "output_type": "stream",
       "stream": "stdout",
       "text": [
        "\r",
        "Loaded frame 1232 of 1280"
       ]
      },
      {
       "output_type": "stream",
       "stream": "stdout",
       "text": [
        "\r",
        "Loaded frame 1233 of 1280"
       ]
      },
      {
       "output_type": "stream",
       "stream": "stdout",
       "text": [
        "\r",
        "Loaded frame 1234 of 1280"
       ]
      },
      {
       "output_type": "stream",
       "stream": "stdout",
       "text": [
        "\r",
        "Loaded frame 1235 of 1280"
       ]
      },
      {
       "output_type": "stream",
       "stream": "stdout",
       "text": [
        "\r",
        "Loaded frame 1236 of 1280"
       ]
      },
      {
       "output_type": "stream",
       "stream": "stdout",
       "text": [
        "\r",
        "Loaded frame 1237 of 1280"
       ]
      },
      {
       "output_type": "stream",
       "stream": "stdout",
       "text": [
        "\r",
        "Loaded frame 1238 of 1280"
       ]
      },
      {
       "output_type": "stream",
       "stream": "stdout",
       "text": [
        "\r",
        "Loaded frame 1239 of 1280"
       ]
      },
      {
       "output_type": "stream",
       "stream": "stdout",
       "text": [
        "\r",
        "Loaded frame 1240 of 1280"
       ]
      },
      {
       "output_type": "stream",
       "stream": "stdout",
       "text": [
        "\r",
        "Loaded frame 1241 of 1280"
       ]
      },
      {
       "output_type": "stream",
       "stream": "stdout",
       "text": [
        "\r",
        "Loaded frame 1242 of 1280"
       ]
      },
      {
       "output_type": "stream",
       "stream": "stdout",
       "text": [
        "\r",
        "Loaded frame 1243 of 1280"
       ]
      },
      {
       "output_type": "stream",
       "stream": "stdout",
       "text": [
        "\r",
        "Loaded frame 1244 of 1280"
       ]
      },
      {
       "output_type": "stream",
       "stream": "stdout",
       "text": [
        "\r",
        "Loaded frame 1245 of 1280"
       ]
      },
      {
       "output_type": "stream",
       "stream": "stdout",
       "text": [
        "\r",
        "Loaded frame 1246 of 1280"
       ]
      },
      {
       "output_type": "stream",
       "stream": "stdout",
       "text": [
        "\r",
        "Loaded frame 1247 of 1280"
       ]
      },
      {
       "output_type": "stream",
       "stream": "stdout",
       "text": [
        "\r",
        "Loaded frame 1248 of 1280"
       ]
      },
      {
       "output_type": "stream",
       "stream": "stdout",
       "text": [
        "\r",
        "Loaded frame 1249 of 1280"
       ]
      },
      {
       "output_type": "stream",
       "stream": "stdout",
       "text": [
        "\r",
        "Loaded frame 1250 of 1280"
       ]
      },
      {
       "output_type": "stream",
       "stream": "stdout",
       "text": [
        "\r",
        "Loaded frame 1251 of 1280"
       ]
      },
      {
       "output_type": "stream",
       "stream": "stdout",
       "text": [
        "\r",
        "Loaded frame 1252 of 1280"
       ]
      },
      {
       "output_type": "stream",
       "stream": "stdout",
       "text": [
        "\r",
        "Loaded frame 1253 of 1280"
       ]
      },
      {
       "output_type": "stream",
       "stream": "stdout",
       "text": [
        "\r",
        "Loaded frame 1254 of 1280"
       ]
      },
      {
       "output_type": "stream",
       "stream": "stdout",
       "text": [
        "\r",
        "Loaded frame 1255 of 1280"
       ]
      },
      {
       "output_type": "stream",
       "stream": "stdout",
       "text": [
        "\r",
        "Loaded frame 1256 of 1280"
       ]
      },
      {
       "output_type": "stream",
       "stream": "stdout",
       "text": [
        "\r",
        "Loaded frame 1257 of 1280"
       ]
      },
      {
       "output_type": "stream",
       "stream": "stdout",
       "text": [
        "\r",
        "Loaded frame 1258 of 1280"
       ]
      },
      {
       "output_type": "stream",
       "stream": "stdout",
       "text": [
        "\r",
        "Loaded frame 1259 of 1280"
       ]
      },
      {
       "output_type": "stream",
       "stream": "stdout",
       "text": [
        "\r",
        "Loaded frame 1260 of 1280"
       ]
      },
      {
       "output_type": "stream",
       "stream": "stdout",
       "text": [
        "\r",
        "Loaded frame 1261 of 1280"
       ]
      },
      {
       "output_type": "stream",
       "stream": "stdout",
       "text": [
        "\r",
        "Loaded frame 1262 of 1280"
       ]
      },
      {
       "output_type": "stream",
       "stream": "stdout",
       "text": [
        "\r",
        "Loaded frame 1263 of 1280"
       ]
      },
      {
       "output_type": "stream",
       "stream": "stdout",
       "text": [
        "\r",
        "Loaded frame 1264 of 1280"
       ]
      },
      {
       "output_type": "stream",
       "stream": "stdout",
       "text": [
        "\r",
        "Loaded frame 1265 of 1280"
       ]
      },
      {
       "output_type": "stream",
       "stream": "stdout",
       "text": [
        "\r",
        "Loaded frame 1266 of 1280"
       ]
      },
      {
       "output_type": "stream",
       "stream": "stdout",
       "text": [
        "\r",
        "Loaded frame 1267 of 1280"
       ]
      },
      {
       "output_type": "stream",
       "stream": "stdout",
       "text": [
        "\r",
        "Loaded frame 1268 of 1280"
       ]
      },
      {
       "output_type": "stream",
       "stream": "stdout",
       "text": [
        "\r",
        "Loaded frame 1269 of 1280"
       ]
      },
      {
       "output_type": "stream",
       "stream": "stdout",
       "text": [
        "\r",
        "Loaded frame 1270 of 1280"
       ]
      },
      {
       "output_type": "stream",
       "stream": "stdout",
       "text": [
        "\r",
        "Loaded frame 1271 of 1280"
       ]
      },
      {
       "output_type": "stream",
       "stream": "stdout",
       "text": [
        "\r",
        "Loaded frame 1272 of 1280"
       ]
      },
      {
       "output_type": "stream",
       "stream": "stdout",
       "text": [
        "\r",
        "Loaded frame 1273 of 1280"
       ]
      },
      {
       "output_type": "stream",
       "stream": "stdout",
       "text": [
        "\r",
        "Loaded frame 1274 of 1280"
       ]
      },
      {
       "output_type": "stream",
       "stream": "stdout",
       "text": [
        "\r",
        "Loaded frame 1275 of 1280"
       ]
      },
      {
       "output_type": "stream",
       "stream": "stdout",
       "text": [
        "\r",
        "Loaded frame 1276 of 1280"
       ]
      },
      {
       "output_type": "stream",
       "stream": "stdout",
       "text": [
        "\r",
        "Loaded frame 1277 of 1280"
       ]
      },
      {
       "output_type": "stream",
       "stream": "stdout",
       "text": [
        "\r",
        "Loaded frame 1278 of 1280"
       ]
      },
      {
       "output_type": "stream",
       "stream": "stdout",
       "text": [
        "\r",
        "Loaded frame 1279 of 1280"
       ]
      }
     ],
     "prompt_number": 9
    },
    {
     "cell_type": "code",
     "collapsed": false,
     "input": [
      "distMat = vtu.filterDistanceMatrix(distanceMatrix, 4, True)\n",
      "idxCorrection += 4\n",
      "figure(); imshow(distMat, interpolation='nearest')"
     ],
     "language": "python",
     "metadata": {},
     "outputs": [
      {
       "metadata": {},
       "output_type": "pyout",
       "prompt_number": 12,
       "text": [
        "<matplotlib.image.AxesImage at 0x7fe3b89c01d0>"
       ]
      }
     ],
     "prompt_number": 12
    },
    {
     "cell_type": "code",
     "collapsed": false,
     "input": [
      "kernel = np.reshape(rangeCurves, (len(rangeCurves), 1))\n",
      "kernel = kernel*kernel.T\n",
      "# figure(); imshow(kernel, interpolation='nearest')\n",
      "print kernel.shape, distMat.shape"
     ],
     "language": "python",
     "metadata": {},
     "outputs": [
      {
       "output_type": "stream",
       "stream": "stdout",
       "text": [
        "(1271, 1271) (1272, 1272)\n"
       ]
      }
     ],
     "prompt_number": 54
    },
    {
     "cell_type": "code",
     "collapsed": false,
     "input": [
      "def estimateFutureCost(alpha, p, distanceMatrixFilt, weights) :\n",
      "    \n",
      "    distMatFilt = distanceMatrixFilt[1:distanceMatrixFilt.shape[1], 0:-1]\n",
      "    distMat = distMatFilt ** p\n",
      "    \n",
      "    last = np.copy(distMat)\n",
      "    current = np.zeros(distMat.shape)\n",
      "    \n",
      "    ## while distance between last and current is larger than threshold\n",
      "    iterations = 0 \n",
      "    while np.linalg.norm(last - current) > 0.1 : \n",
      "        for i in range(distMat.shape[0]-1, -1, -1) :\n",
      "#             m = np.min(distMat*weights[1:distanceMatrixFilt.shape[1], 0:-1], axis=1)\n",
      "            m = np.min(distMat*weights, axis=1)\n",
      "            distMat[i, :] = (distMatFilt[i, :] ** p) + alpha*m\n",
      "            \n",
      "        last = np.copy(current)\n",
      "        current = np.copy(distMat)\n",
      "        \n",
      "        sys.stdout.write('\\r' + \"Iteration \" + np.string_(iterations) + \"; distance \" + np.string_(np.linalg.norm(last - current)))\n",
      "        sys.stdout.flush()\n",
      "        \n",
      "        iterations += 1\n",
      "    \n",
      "    print\n",
      "    print 'finished in', iterations, 'iterations'\n",
      "    \n",
      "    return distMat\n",
      "\n",
      "distMatFut = estimateFutureCost(0.999, 2.0, distMat, kernel)#np.ones(distMat.shape))#rangeWeights)\n",
      "figure(); imshow(distMatFut, interpolation='nearest')"
     ],
     "language": "python",
     "metadata": {},
     "outputs": [
      {
       "output_type": "stream",
       "stream": "stdout",
       "text": [
        "\r",
        "Iteration 0; distance 102941802.318"
       ]
      },
      {
       "output_type": "stream",
       "stream": "stdout",
       "text": [
        "\r",
        "Iteration 1; distance 0.0"
       ]
      },
      {
       "output_type": "stream",
       "stream": "stdout",
       "text": [
        "\n",
        "finished in 2 iterations\n"
       ]
      },
      {
       "metadata": {},
       "output_type": "pyout",
       "prompt_number": 56,
       "text": [
        "<matplotlib.image.AxesImage at 0x7fe3b6e70f90>"
       ]
      }
     ],
     "prompt_number": 56
    },
    {
     "cell_type": "code",
     "collapsed": false,
     "input": [
      "p, c = vtu.getProbabilities(distMatFut, 0.02, None, True)\n",
      "figure(); imshow(c, interpolation='nearest')"
     ],
     "language": "python",
     "metadata": {},
     "outputs": [
      {
       "output_type": "stream",
       "stream": "stdout",
       "text": [
        "sigma 1495.41362419\n",
        "(1271, 1271)"
       ]
      },
      {
       "output_type": "stream",
       "stream": "stdout",
       "text": [
        " (1271, 1271)\n"
       ]
      },
      {
       "metadata": {},
       "output_type": "pyout",
       "prompt_number": 62,
       "text": [
        "<matplotlib.image.AxesImage at 0x7fe3b6a31110>"
       ]
      }
     ],
     "prompt_number": 62
    },
    {
     "cell_type": "code",
     "collapsed": false,
     "input": [
      "## compute length of shortest path for each pair of nodes (uses sum of edges weight as distance measure)\n",
      "shortPathLengths = np.ones(weightMat.shape, dtype=uint)*sys.float_info.max\n",
      "\n",
      "for i in frameGraph.nodes() :\n",
      "    shtpa = shortest_path(frameGraph, i)\n",
      "    shortPathLengths[i, shtpa[1].keys()] = shtpa[1].values()\n",
      "#     for j in frameGraph.nodes() :\n",
      "#         if i != j :\n",
      "#             path, distance = getShortestPath(frameGraph, i, j)\n",
      "#             if distance > 0 : \n",
      "#                 shortPathLengths[i, j] = distance\n",
      "    sys.stdout.write('\\r' + \"Computed shortest paths for frame \" + np.string_(i))\n",
      "    sys.stdout.flush()\n",
      "\n",
      "print\n",
      "sigma = np.mean(shortPathLengths[np.where(shortPathLengths != sys.float_info.max)])\n",
      "sigma = np.mean(intervals)/2.0#100.0\n",
      "print 'sigma', sigma\n",
      "pathProbMat = np.exp((-shortPathLengths)/sigma)\n",
      "## normalize columnwise instead of rowwise as done with probability based on distMat\n",
      "# normTerm = np.sum(pathProbMat, axis=1)\n",
      "# normTerm = cv2.repeat(normTerm, 1, shortPathLengths.shape[1])\n",
      "normTerm = np.sum(pathProbMat, axis=0)\n",
      "normTerm = np.repeat(np.reshape(normTerm, (len(normTerm), 1)).T, len(normTerm), axis=0)\n",
      "pathProbMat = pathProbMat / normTerm\n",
      "pathProbMat[np.isnan(pathProbMat)] = 0.0\n",
      "print np.sum(pathProbMat, axis=0)"
     ],
     "language": "python",
     "metadata": {},
     "outputs": [
      {
       "output_type": "stream",
       "stream": "stdout",
       "text": [
        "\r",
        "Computed shortest paths for frame 0"
       ]
      },
      {
       "output_type": "stream",
       "stream": "stdout",
       "text": [
        "\r",
        "Computed shortest paths for frame 1"
       ]
      },
      {
       "output_type": "stream",
       "stream": "stdout",
       "text": [
        "\r",
        "Computed shortest paths for frame 2"
       ]
      },
      {
       "output_type": "stream",
       "stream": "stdout",
       "text": [
        "\r",
        "Computed shortest paths for frame 3"
       ]
      },
      {
       "output_type": "stream",
       "stream": "stdout",
       "text": [
        "\r",
        "Computed shortest paths for frame 4"
       ]
      },
      {
       "output_type": "stream",
       "stream": "stdout",
       "text": [
        "\r",
        "Computed shortest paths for frame 5"
       ]
      },
      {
       "output_type": "stream",
       "stream": "stdout",
       "text": [
        "\r",
        "Computed shortest paths for frame 6"
       ]
      },
      {
       "output_type": "stream",
       "stream": "stdout",
       "text": [
        "\r",
        "Computed shortest paths for frame 7"
       ]
      },
      {
       "output_type": "stream",
       "stream": "stdout",
       "text": [
        "\r",
        "Computed shortest paths for frame 8"
       ]
      },
      {
       "output_type": "stream",
       "stream": "stdout",
       "text": [
        "\r",
        "Computed shortest paths for frame 9"
       ]
      },
      {
       "output_type": "stream",
       "stream": "stdout",
       "text": [
        "\r",
        "Computed shortest paths for frame 10"
       ]
      },
      {
       "output_type": "stream",
       "stream": "stdout",
       "text": [
        "\r",
        "Computed shortest paths for frame 11"
       ]
      },
      {
       "output_type": "stream",
       "stream": "stdout",
       "text": [
        "\r",
        "Computed shortest paths for frame 12"
       ]
      },
      {
       "output_type": "stream",
       "stream": "stdout",
       "text": [
        "\r",
        "Computed shortest paths for frame 13"
       ]
      },
      {
       "output_type": "stream",
       "stream": "stdout",
       "text": [
        "\r",
        "Computed shortest paths for frame 14"
       ]
      },
      {
       "output_type": "stream",
       "stream": "stdout",
       "text": [
        "\r",
        "Computed shortest paths for frame 15"
       ]
      },
      {
       "output_type": "stream",
       "stream": "stdout",
       "text": [
        "\r",
        "Computed shortest paths for frame 16"
       ]
      },
      {
       "output_type": "stream",
       "stream": "stdout",
       "text": [
        "\r",
        "Computed shortest paths for frame 17"
       ]
      },
      {
       "output_type": "stream",
       "stream": "stdout",
       "text": [
        "\r",
        "Computed shortest paths for frame 18"
       ]
      },
      {
       "output_type": "stream",
       "stream": "stdout",
       "text": [
        "\r",
        "Computed shortest paths for frame 19"
       ]
      },
      {
       "output_type": "stream",
       "stream": "stdout",
       "text": [
        "\r",
        "Computed shortest paths for frame 20"
       ]
      },
      {
       "output_type": "stream",
       "stream": "stdout",
       "text": [
        "\r",
        "Computed shortest paths for frame 21"
       ]
      },
      {
       "output_type": "stream",
       "stream": "stdout",
       "text": [
        "\r",
        "Computed shortest paths for frame 22"
       ]
      },
      {
       "output_type": "stream",
       "stream": "stdout",
       "text": [
        "\r",
        "Computed shortest paths for frame 23"
       ]
      },
      {
       "output_type": "stream",
       "stream": "stdout",
       "text": [
        "\r",
        "Computed shortest paths for frame 24"
       ]
      },
      {
       "output_type": "stream",
       "stream": "stdout",
       "text": [
        "\r",
        "Computed shortest paths for frame 25"
       ]
      },
      {
       "output_type": "stream",
       "stream": "stdout",
       "text": [
        "\r",
        "Computed shortest paths for frame 26"
       ]
      },
      {
       "output_type": "stream",
       "stream": "stdout",
       "text": [
        "\r",
        "Computed shortest paths for frame 27"
       ]
      },
      {
       "output_type": "stream",
       "stream": "stdout",
       "text": [
        "\r",
        "Computed shortest paths for frame 28"
       ]
      },
      {
       "output_type": "stream",
       "stream": "stdout",
       "text": [
        "\r",
        "Computed shortest paths for frame 29"
       ]
      },
      {
       "output_type": "stream",
       "stream": "stdout",
       "text": [
        "\r",
        "Computed shortest paths for frame 30"
       ]
      },
      {
       "output_type": "stream",
       "stream": "stdout",
       "text": [
        "\r",
        "Computed shortest paths for frame 31"
       ]
      },
      {
       "output_type": "stream",
       "stream": "stdout",
       "text": [
        "\r",
        "Computed shortest paths for frame 32"
       ]
      },
      {
       "output_type": "stream",
       "stream": "stdout",
       "text": [
        "\r",
        "Computed shortest paths for frame 33"
       ]
      },
      {
       "output_type": "stream",
       "stream": "stdout",
       "text": [
        "\r",
        "Computed shortest paths for frame 34"
       ]
      },
      {
       "output_type": "stream",
       "stream": "stdout",
       "text": [
        "\r",
        "Computed shortest paths for frame 35"
       ]
      },
      {
       "output_type": "stream",
       "stream": "stdout",
       "text": [
        "\r",
        "Computed shortest paths for frame 36"
       ]
      },
      {
       "output_type": "stream",
       "stream": "stdout",
       "text": [
        "\r",
        "Computed shortest paths for frame 37"
       ]
      },
      {
       "output_type": "stream",
       "stream": "stdout",
       "text": [
        "\r",
        "Computed shortest paths for frame 38"
       ]
      },
      {
       "output_type": "stream",
       "stream": "stdout",
       "text": [
        "\r",
        "Computed shortest paths for frame 39"
       ]
      },
      {
       "output_type": "stream",
       "stream": "stdout",
       "text": [
        "\r",
        "Computed shortest paths for frame 40"
       ]
      },
      {
       "output_type": "stream",
       "stream": "stdout",
       "text": [
        "\r",
        "Computed shortest paths for frame 41"
       ]
      },
      {
       "output_type": "stream",
       "stream": "stdout",
       "text": [
        "\r",
        "Computed shortest paths for frame 42"
       ]
      },
      {
       "output_type": "stream",
       "stream": "stdout",
       "text": [
        "\r",
        "Computed shortest paths for frame 43"
       ]
      },
      {
       "output_type": "stream",
       "stream": "stdout",
       "text": [
        "\r",
        "Computed shortest paths for frame 44"
       ]
      },
      {
       "output_type": "stream",
       "stream": "stdout",
       "text": [
        "\r",
        "Computed shortest paths for frame 45"
       ]
      },
      {
       "output_type": "stream",
       "stream": "stdout",
       "text": [
        "\r",
        "Computed shortest paths for frame 46"
       ]
      },
      {
       "output_type": "stream",
       "stream": "stdout",
       "text": [
        "\r",
        "Computed shortest paths for frame 47"
       ]
      },
      {
       "output_type": "stream",
       "stream": "stdout",
       "text": [
        "\r",
        "Computed shortest paths for frame 48"
       ]
      },
      {
       "output_type": "stream",
       "stream": "stdout",
       "text": [
        "\r",
        "Computed shortest paths for frame 49"
       ]
      },
      {
       "output_type": "stream",
       "stream": "stdout",
       "text": [
        "\r",
        "Computed shortest paths for frame 50"
       ]
      },
      {
       "output_type": "stream",
       "stream": "stdout",
       "text": [
        "\r",
        "Computed shortest paths for frame 51"
       ]
      },
      {
       "output_type": "stream",
       "stream": "stdout",
       "text": [
        "\r",
        "Computed shortest paths for frame 52"
       ]
      },
      {
       "output_type": "stream",
       "stream": "stdout",
       "text": [
        "\r",
        "Computed shortest paths for frame 53"
       ]
      },
      {
       "output_type": "stream",
       "stream": "stdout",
       "text": [
        "\r",
        "Computed shortest paths for frame 54"
       ]
      },
      {
       "output_type": "stream",
       "stream": "stdout",
       "text": [
        "\r",
        "Computed shortest paths for frame 55"
       ]
      },
      {
       "output_type": "stream",
       "stream": "stdout",
       "text": [
        "\r",
        "Computed shortest paths for frame 56"
       ]
      },
      {
       "output_type": "stream",
       "stream": "stdout",
       "text": [
        "\r",
        "Computed shortest paths for frame 57"
       ]
      },
      {
       "output_type": "stream",
       "stream": "stdout",
       "text": [
        "\r",
        "Computed shortest paths for frame 58"
       ]
      },
      {
       "output_type": "stream",
       "stream": "stdout",
       "text": [
        "\r",
        "Computed shortest paths for frame 59"
       ]
      },
      {
       "output_type": "stream",
       "stream": "stdout",
       "text": [
        "\r",
        "Computed shortest paths for frame 60"
       ]
      },
      {
       "output_type": "stream",
       "stream": "stdout",
       "text": [
        "\r",
        "Computed shortest paths for frame 61"
       ]
      },
      {
       "output_type": "stream",
       "stream": "stdout",
       "text": [
        "\r",
        "Computed shortest paths for frame 62"
       ]
      },
      {
       "output_type": "stream",
       "stream": "stdout",
       "text": [
        "\r",
        "Computed shortest paths for frame 63"
       ]
      },
      {
       "output_type": "stream",
       "stream": "stdout",
       "text": [
        "\r",
        "Computed shortest paths for frame 64"
       ]
      },
      {
       "output_type": "stream",
       "stream": "stdout",
       "text": [
        "\r",
        "Computed shortest paths for frame 65"
       ]
      },
      {
       "output_type": "stream",
       "stream": "stdout",
       "text": [
        "\r",
        "Computed shortest paths for frame 66"
       ]
      },
      {
       "output_type": "stream",
       "stream": "stdout",
       "text": [
        "\r",
        "Computed shortest paths for frame 67"
       ]
      },
      {
       "output_type": "stream",
       "stream": "stdout",
       "text": [
        "\r",
        "Computed shortest paths for frame 68"
       ]
      },
      {
       "output_type": "stream",
       "stream": "stdout",
       "text": [
        "\r",
        "Computed shortest paths for frame 69"
       ]
      },
      {
       "output_type": "stream",
       "stream": "stdout",
       "text": [
        "\r",
        "Computed shortest paths for frame 70"
       ]
      },
      {
       "output_type": "stream",
       "stream": "stdout",
       "text": [
        "\r",
        "Computed shortest paths for frame 71"
       ]
      },
      {
       "output_type": "stream",
       "stream": "stdout",
       "text": [
        "\r",
        "Computed shortest paths for frame 72"
       ]
      },
      {
       "output_type": "stream",
       "stream": "stdout",
       "text": [
        "\r",
        "Computed shortest paths for frame 73"
       ]
      },
      {
       "output_type": "stream",
       "stream": "stdout",
       "text": [
        "\r",
        "Computed shortest paths for frame 74"
       ]
      },
      {
       "output_type": "stream",
       "stream": "stdout",
       "text": [
        "\r",
        "Computed shortest paths for frame 75"
       ]
      },
      {
       "output_type": "stream",
       "stream": "stdout",
       "text": [
        "\r",
        "Computed shortest paths for frame 76"
       ]
      },
      {
       "output_type": "stream",
       "stream": "stdout",
       "text": [
        "\r",
        "Computed shortest paths for frame 77"
       ]
      },
      {
       "output_type": "stream",
       "stream": "stdout",
       "text": [
        "\r",
        "Computed shortest paths for frame 78"
       ]
      },
      {
       "output_type": "stream",
       "stream": "stdout",
       "text": [
        "\r",
        "Computed shortest paths for frame 79"
       ]
      },
      {
       "output_type": "stream",
       "stream": "stdout",
       "text": [
        "\r",
        "Computed shortest paths for frame 80"
       ]
      },
      {
       "output_type": "stream",
       "stream": "stdout",
       "text": [
        "\r",
        "Computed shortest paths for frame 81"
       ]
      },
      {
       "output_type": "stream",
       "stream": "stdout",
       "text": [
        "\r",
        "Computed shortest paths for frame 82"
       ]
      },
      {
       "output_type": "stream",
       "stream": "stdout",
       "text": [
        "\r",
        "Computed shortest paths for frame 83"
       ]
      },
      {
       "output_type": "stream",
       "stream": "stdout",
       "text": [
        "\r",
        "Computed shortest paths for frame 84"
       ]
      },
      {
       "output_type": "stream",
       "stream": "stdout",
       "text": [
        "\r",
        "Computed shortest paths for frame 85"
       ]
      },
      {
       "output_type": "stream",
       "stream": "stdout",
       "text": [
        "\r",
        "Computed shortest paths for frame 86"
       ]
      },
      {
       "output_type": "stream",
       "stream": "stdout",
       "text": [
        "\r",
        "Computed shortest paths for frame 87"
       ]
      },
      {
       "output_type": "stream",
       "stream": "stdout",
       "text": [
        "\r",
        "Computed shortest paths for frame 88"
       ]
      },
      {
       "output_type": "stream",
       "stream": "stdout",
       "text": [
        "\r",
        "Computed shortest paths for frame 89"
       ]
      },
      {
       "output_type": "stream",
       "stream": "stdout",
       "text": [
        "\r",
        "Computed shortest paths for frame 90"
       ]
      },
      {
       "output_type": "stream",
       "stream": "stdout",
       "text": [
        "\r",
        "Computed shortest paths for frame 91"
       ]
      },
      {
       "output_type": "stream",
       "stream": "stdout",
       "text": [
        "\r",
        "Computed shortest paths for frame 92"
       ]
      },
      {
       "output_type": "stream",
       "stream": "stdout",
       "text": [
        "\r",
        "Computed shortest paths for frame 93"
       ]
      },
      {
       "output_type": "stream",
       "stream": "stdout",
       "text": [
        "\r",
        "Computed shortest paths for frame 94"
       ]
      },
      {
       "output_type": "stream",
       "stream": "stdout",
       "text": [
        "\r",
        "Computed shortest paths for frame 95"
       ]
      },
      {
       "output_type": "stream",
       "stream": "stdout",
       "text": [
        "\r",
        "Computed shortest paths for frame 96"
       ]
      },
      {
       "output_type": "stream",
       "stream": "stdout",
       "text": [
        "\r",
        "Computed shortest paths for frame 97"
       ]
      },
      {
       "output_type": "stream",
       "stream": "stdout",
       "text": [
        "\r",
        "Computed shortest paths for frame 98"
       ]
      },
      {
       "output_type": "stream",
       "stream": "stdout",
       "text": [
        "\r",
        "Computed shortest paths for frame 99"
       ]
      },
      {
       "output_type": "stream",
       "stream": "stdout",
       "text": [
        "\r",
        "Computed shortest paths for frame 100"
       ]
      },
      {
       "output_type": "stream",
       "stream": "stdout",
       "text": [
        "\r",
        "Computed shortest paths for frame 101"
       ]
      },
      {
       "output_type": "stream",
       "stream": "stdout",
       "text": [
        "\r",
        "Computed shortest paths for frame 102"
       ]
      },
      {
       "output_type": "stream",
       "stream": "stdout",
       "text": [
        "\r",
        "Computed shortest paths for frame 103"
       ]
      },
      {
       "output_type": "stream",
       "stream": "stdout",
       "text": [
        "\r",
        "Computed shortest paths for frame 104"
       ]
      },
      {
       "output_type": "stream",
       "stream": "stdout",
       "text": [
        "\r",
        "Computed shortest paths for frame 105"
       ]
      },
      {
       "output_type": "stream",
       "stream": "stdout",
       "text": [
        "\r",
        "Computed shortest paths for frame 106"
       ]
      },
      {
       "output_type": "stream",
       "stream": "stdout",
       "text": [
        "\r",
        "Computed shortest paths for frame 107"
       ]
      },
      {
       "output_type": "stream",
       "stream": "stdout",
       "text": [
        "\r",
        "Computed shortest paths for frame 108"
       ]
      },
      {
       "output_type": "stream",
       "stream": "stdout",
       "text": [
        "\r",
        "Computed shortest paths for frame 109"
       ]
      },
      {
       "output_type": "stream",
       "stream": "stdout",
       "text": [
        "\r",
        "Computed shortest paths for frame 110"
       ]
      },
      {
       "output_type": "stream",
       "stream": "stdout",
       "text": [
        "\r",
        "Computed shortest paths for frame 111"
       ]
      },
      {
       "output_type": "stream",
       "stream": "stdout",
       "text": [
        "\r",
        "Computed shortest paths for frame 112"
       ]
      },
      {
       "output_type": "stream",
       "stream": "stdout",
       "text": [
        "\r",
        "Computed shortest paths for frame 113"
       ]
      },
      {
       "output_type": "stream",
       "stream": "stdout",
       "text": [
        "\r",
        "Computed shortest paths for frame 114"
       ]
      },
      {
       "output_type": "stream",
       "stream": "stdout",
       "text": [
        "\r",
        "Computed shortest paths for frame 115"
       ]
      },
      {
       "output_type": "stream",
       "stream": "stdout",
       "text": [
        "\r",
        "Computed shortest paths for frame 116"
       ]
      },
      {
       "output_type": "stream",
       "stream": "stdout",
       "text": [
        "\r",
        "Computed shortest paths for frame 117"
       ]
      },
      {
       "output_type": "stream",
       "stream": "stdout",
       "text": [
        "\r",
        "Computed shortest paths for frame 118"
       ]
      },
      {
       "output_type": "stream",
       "stream": "stdout",
       "text": [
        "\r",
        "Computed shortest paths for frame 119"
       ]
      },
      {
       "output_type": "stream",
       "stream": "stdout",
       "text": [
        "\r",
        "Computed shortest paths for frame 120"
       ]
      },
      {
       "output_type": "stream",
       "stream": "stdout",
       "text": [
        "\r",
        "Computed shortest paths for frame 121"
       ]
      },
      {
       "output_type": "stream",
       "stream": "stdout",
       "text": [
        "\r",
        "Computed shortest paths for frame 122"
       ]
      },
      {
       "output_type": "stream",
       "stream": "stdout",
       "text": [
        "\r",
        "Computed shortest paths for frame 123"
       ]
      },
      {
       "output_type": "stream",
       "stream": "stdout",
       "text": [
        "\r",
        "Computed shortest paths for frame 124"
       ]
      },
      {
       "output_type": "stream",
       "stream": "stdout",
       "text": [
        "\r",
        "Computed shortest paths for frame 125"
       ]
      },
      {
       "output_type": "stream",
       "stream": "stdout",
       "text": [
        "\r",
        "Computed shortest paths for frame 126"
       ]
      },
      {
       "output_type": "stream",
       "stream": "stdout",
       "text": [
        "\r",
        "Computed shortest paths for frame 127"
       ]
      },
      {
       "output_type": "stream",
       "stream": "stdout",
       "text": [
        "\r",
        "Computed shortest paths for frame 128"
       ]
      },
      {
       "output_type": "stream",
       "stream": "stdout",
       "text": [
        "\r",
        "Computed shortest paths for frame 129"
       ]
      },
      {
       "output_type": "stream",
       "stream": "stdout",
       "text": [
        "\r",
        "Computed shortest paths for frame 130"
       ]
      },
      {
       "output_type": "stream",
       "stream": "stdout",
       "text": [
        "\r",
        "Computed shortest paths for frame 131"
       ]
      },
      {
       "output_type": "stream",
       "stream": "stdout",
       "text": [
        "\r",
        "Computed shortest paths for frame 132"
       ]
      },
      {
       "output_type": "stream",
       "stream": "stdout",
       "text": [
        "\r",
        "Computed shortest paths for frame 133"
       ]
      },
      {
       "output_type": "stream",
       "stream": "stdout",
       "text": [
        "\r",
        "Computed shortest paths for frame 134"
       ]
      },
      {
       "output_type": "stream",
       "stream": "stdout",
       "text": [
        "\r",
        "Computed shortest paths for frame 135"
       ]
      },
      {
       "output_type": "stream",
       "stream": "stdout",
       "text": [
        "\r",
        "Computed shortest paths for frame 136"
       ]
      },
      {
       "output_type": "stream",
       "stream": "stdout",
       "text": [
        "\r",
        "Computed shortest paths for frame 137"
       ]
      },
      {
       "output_type": "stream",
       "stream": "stdout",
       "text": [
        "\r",
        "Computed shortest paths for frame 138"
       ]
      },
      {
       "output_type": "stream",
       "stream": "stdout",
       "text": [
        "\r",
        "Computed shortest paths for frame 139"
       ]
      },
      {
       "output_type": "stream",
       "stream": "stdout",
       "text": [
        "\r",
        "Computed shortest paths for frame 140"
       ]
      },
      {
       "output_type": "stream",
       "stream": "stdout",
       "text": [
        "\r",
        "Computed shortest paths for frame 141"
       ]
      },
      {
       "output_type": "stream",
       "stream": "stdout",
       "text": [
        "\r",
        "Computed shortest paths for frame 142"
       ]
      },
      {
       "output_type": "stream",
       "stream": "stdout",
       "text": [
        "\r",
        "Computed shortest paths for frame 143"
       ]
      },
      {
       "output_type": "stream",
       "stream": "stdout",
       "text": [
        "\r",
        "Computed shortest paths for frame 144"
       ]
      },
      {
       "output_type": "stream",
       "stream": "stdout",
       "text": [
        "\r",
        "Computed shortest paths for frame 145"
       ]
      },
      {
       "output_type": "stream",
       "stream": "stdout",
       "text": [
        "\r",
        "Computed shortest paths for frame 146"
       ]
      },
      {
       "output_type": "stream",
       "stream": "stdout",
       "text": [
        "\r",
        "Computed shortest paths for frame 147"
       ]
      },
      {
       "output_type": "stream",
       "stream": "stdout",
       "text": [
        "\r",
        "Computed shortest paths for frame 148"
       ]
      },
      {
       "output_type": "stream",
       "stream": "stdout",
       "text": [
        "\r",
        "Computed shortest paths for frame 149"
       ]
      },
      {
       "output_type": "stream",
       "stream": "stdout",
       "text": [
        "\r",
        "Computed shortest paths for frame 150"
       ]
      },
      {
       "output_type": "stream",
       "stream": "stdout",
       "text": [
        "\r",
        "Computed shortest paths for frame 151"
       ]
      },
      {
       "output_type": "stream",
       "stream": "stdout",
       "text": [
        "\r",
        "Computed shortest paths for frame 152"
       ]
      },
      {
       "output_type": "stream",
       "stream": "stdout",
       "text": [
        "\r",
        "Computed shortest paths for frame 153"
       ]
      },
      {
       "output_type": "stream",
       "stream": "stdout",
       "text": [
        "\r",
        "Computed shortest paths for frame 154"
       ]
      },
      {
       "output_type": "stream",
       "stream": "stdout",
       "text": [
        "\r",
        "Computed shortest paths for frame 155"
       ]
      },
      {
       "output_type": "stream",
       "stream": "stdout",
       "text": [
        "\r",
        "Computed shortest paths for frame 156"
       ]
      },
      {
       "output_type": "stream",
       "stream": "stdout",
       "text": [
        "\r",
        "Computed shortest paths for frame 157"
       ]
      },
      {
       "output_type": "stream",
       "stream": "stdout",
       "text": [
        "\r",
        "Computed shortest paths for frame 158"
       ]
      },
      {
       "output_type": "stream",
       "stream": "stdout",
       "text": [
        "\r",
        "Computed shortest paths for frame 159"
       ]
      },
      {
       "output_type": "stream",
       "stream": "stdout",
       "text": [
        "\r",
        "Computed shortest paths for frame 160"
       ]
      },
      {
       "output_type": "stream",
       "stream": "stdout",
       "text": [
        "\r",
        "Computed shortest paths for frame 161"
       ]
      },
      {
       "output_type": "stream",
       "stream": "stdout",
       "text": [
        "\r",
        "Computed shortest paths for frame 162"
       ]
      },
      {
       "output_type": "stream",
       "stream": "stdout",
       "text": [
        "\r",
        "Computed shortest paths for frame 163"
       ]
      },
      {
       "output_type": "stream",
       "stream": "stdout",
       "text": [
        "\r",
        "Computed shortest paths for frame 164"
       ]
      },
      {
       "output_type": "stream",
       "stream": "stdout",
       "text": [
        "\r",
        "Computed shortest paths for frame 165"
       ]
      },
      {
       "output_type": "stream",
       "stream": "stdout",
       "text": [
        "\r",
        "Computed shortest paths for frame 166"
       ]
      },
      {
       "output_type": "stream",
       "stream": "stdout",
       "text": [
        "\r",
        "Computed shortest paths for frame 167"
       ]
      },
      {
       "output_type": "stream",
       "stream": "stdout",
       "text": [
        "\r",
        "Computed shortest paths for frame 168"
       ]
      },
      {
       "output_type": "stream",
       "stream": "stdout",
       "text": [
        "\r",
        "Computed shortest paths for frame 169"
       ]
      },
      {
       "output_type": "stream",
       "stream": "stdout",
       "text": [
        "\r",
        "Computed shortest paths for frame 170"
       ]
      },
      {
       "output_type": "stream",
       "stream": "stdout",
       "text": [
        "\r",
        "Computed shortest paths for frame 171"
       ]
      },
      {
       "output_type": "stream",
       "stream": "stdout",
       "text": [
        "\r",
        "Computed shortest paths for frame 172"
       ]
      },
      {
       "output_type": "stream",
       "stream": "stdout",
       "text": [
        "\r",
        "Computed shortest paths for frame 173"
       ]
      },
      {
       "output_type": "stream",
       "stream": "stdout",
       "text": [
        "\r",
        "Computed shortest paths for frame 174"
       ]
      },
      {
       "output_type": "stream",
       "stream": "stdout",
       "text": [
        "\r",
        "Computed shortest paths for frame 175"
       ]
      },
      {
       "output_type": "stream",
       "stream": "stdout",
       "text": [
        "\r",
        "Computed shortest paths for frame 176"
       ]
      },
      {
       "output_type": "stream",
       "stream": "stdout",
       "text": [
        "\r",
        "Computed shortest paths for frame 177"
       ]
      },
      {
       "output_type": "stream",
       "stream": "stdout",
       "text": [
        "\r",
        "Computed shortest paths for frame 178"
       ]
      },
      {
       "output_type": "stream",
       "stream": "stdout",
       "text": [
        "\r",
        "Computed shortest paths for frame 179"
       ]
      },
      {
       "output_type": "stream",
       "stream": "stdout",
       "text": [
        "\r",
        "Computed shortest paths for frame 180"
       ]
      },
      {
       "output_type": "stream",
       "stream": "stdout",
       "text": [
        "\r",
        "Computed shortest paths for frame 181"
       ]
      },
      {
       "output_type": "stream",
       "stream": "stdout",
       "text": [
        "\r",
        "Computed shortest paths for frame 182"
       ]
      },
      {
       "output_type": "stream",
       "stream": "stdout",
       "text": [
        "\r",
        "Computed shortest paths for frame 183"
       ]
      },
      {
       "output_type": "stream",
       "stream": "stdout",
       "text": [
        "\r",
        "Computed shortest paths for frame 184"
       ]
      },
      {
       "output_type": "stream",
       "stream": "stdout",
       "text": [
        "\r",
        "Computed shortest paths for frame 185"
       ]
      },
      {
       "output_type": "stream",
       "stream": "stdout",
       "text": [
        "\r",
        "Computed shortest paths for frame 186"
       ]
      },
      {
       "output_type": "stream",
       "stream": "stdout",
       "text": [
        "\r",
        "Computed shortest paths for frame 187"
       ]
      },
      {
       "output_type": "stream",
       "stream": "stdout",
       "text": [
        "\r",
        "Computed shortest paths for frame 188"
       ]
      },
      {
       "output_type": "stream",
       "stream": "stdout",
       "text": [
        "\r",
        "Computed shortest paths for frame 189"
       ]
      },
      {
       "output_type": "stream",
       "stream": "stdout",
       "text": [
        "\r",
        "Computed shortest paths for frame 190"
       ]
      },
      {
       "output_type": "stream",
       "stream": "stdout",
       "text": [
        "\r",
        "Computed shortest paths for frame 191"
       ]
      },
      {
       "output_type": "stream",
       "stream": "stdout",
       "text": [
        "\r",
        "Computed shortest paths for frame 192"
       ]
      },
      {
       "output_type": "stream",
       "stream": "stdout",
       "text": [
        "\r",
        "Computed shortest paths for frame 193"
       ]
      },
      {
       "output_type": "stream",
       "stream": "stdout",
       "text": [
        "\r",
        "Computed shortest paths for frame 194"
       ]
      },
      {
       "output_type": "stream",
       "stream": "stdout",
       "text": [
        "\r",
        "Computed shortest paths for frame 195"
       ]
      },
      {
       "output_type": "stream",
       "stream": "stdout",
       "text": [
        "\r",
        "Computed shortest paths for frame 196"
       ]
      },
      {
       "output_type": "stream",
       "stream": "stdout",
       "text": [
        "\r",
        "Computed shortest paths for frame 197"
       ]
      },
      {
       "output_type": "stream",
       "stream": "stdout",
       "text": [
        "\r",
        "Computed shortest paths for frame 198"
       ]
      },
      {
       "output_type": "stream",
       "stream": "stdout",
       "text": [
        "\r",
        "Computed shortest paths for frame 199"
       ]
      },
      {
       "output_type": "stream",
       "stream": "stdout",
       "text": [
        "\r",
        "Computed shortest paths for frame 200"
       ]
      },
      {
       "output_type": "stream",
       "stream": "stdout",
       "text": [
        "\r",
        "Computed shortest paths for frame 201"
       ]
      },
      {
       "output_type": "stream",
       "stream": "stdout",
       "text": [
        "\r",
        "Computed shortest paths for frame 202"
       ]
      },
      {
       "output_type": "stream",
       "stream": "stdout",
       "text": [
        "\r",
        "Computed shortest paths for frame 203"
       ]
      },
      {
       "output_type": "stream",
       "stream": "stdout",
       "text": [
        "\r",
        "Computed shortest paths for frame 204"
       ]
      },
      {
       "output_type": "stream",
       "stream": "stdout",
       "text": [
        "\r",
        "Computed shortest paths for frame 205"
       ]
      },
      {
       "output_type": "stream",
       "stream": "stdout",
       "text": [
        "\r",
        "Computed shortest paths for frame 206"
       ]
      },
      {
       "output_type": "stream",
       "stream": "stdout",
       "text": [
        "\r",
        "Computed shortest paths for frame 207"
       ]
      },
      {
       "output_type": "stream",
       "stream": "stdout",
       "text": [
        "\r",
        "Computed shortest paths for frame 208"
       ]
      },
      {
       "output_type": "stream",
       "stream": "stdout",
       "text": [
        "\r",
        "Computed shortest paths for frame 209"
       ]
      },
      {
       "output_type": "stream",
       "stream": "stdout",
       "text": [
        "\r",
        "Computed shortest paths for frame 210"
       ]
      },
      {
       "output_type": "stream",
       "stream": "stdout",
       "text": [
        "\r",
        "Computed shortest paths for frame 211"
       ]
      },
      {
       "output_type": "stream",
       "stream": "stdout",
       "text": [
        "\r",
        "Computed shortest paths for frame 212"
       ]
      },
      {
       "output_type": "stream",
       "stream": "stdout",
       "text": [
        "\r",
        "Computed shortest paths for frame 213"
       ]
      },
      {
       "output_type": "stream",
       "stream": "stdout",
       "text": [
        "\r",
        "Computed shortest paths for frame 214"
       ]
      },
      {
       "output_type": "stream",
       "stream": "stdout",
       "text": [
        "\r",
        "Computed shortest paths for frame 215"
       ]
      },
      {
       "output_type": "stream",
       "stream": "stdout",
       "text": [
        "\r",
        "Computed shortest paths for frame 216"
       ]
      },
      {
       "output_type": "stream",
       "stream": "stdout",
       "text": [
        "\r",
        "Computed shortest paths for frame 217"
       ]
      },
      {
       "output_type": "stream",
       "stream": "stdout",
       "text": [
        "\r",
        "Computed shortest paths for frame 218"
       ]
      },
      {
       "output_type": "stream",
       "stream": "stdout",
       "text": [
        "\r",
        "Computed shortest paths for frame 219"
       ]
      },
      {
       "output_type": "stream",
       "stream": "stdout",
       "text": [
        "\r",
        "Computed shortest paths for frame 220"
       ]
      },
      {
       "output_type": "stream",
       "stream": "stdout",
       "text": [
        "\r",
        "Computed shortest paths for frame 221"
       ]
      },
      {
       "output_type": "stream",
       "stream": "stdout",
       "text": [
        "\r",
        "Computed shortest paths for frame 222"
       ]
      },
      {
       "output_type": "stream",
       "stream": "stdout",
       "text": [
        "\r",
        "Computed shortest paths for frame 223"
       ]
      },
      {
       "output_type": "stream",
       "stream": "stdout",
       "text": [
        "\r",
        "Computed shortest paths for frame 224"
       ]
      },
      {
       "output_type": "stream",
       "stream": "stdout",
       "text": [
        "\r",
        "Computed shortest paths for frame 225"
       ]
      },
      {
       "output_type": "stream",
       "stream": "stdout",
       "text": [
        "\r",
        "Computed shortest paths for frame 226"
       ]
      },
      {
       "output_type": "stream",
       "stream": "stdout",
       "text": [
        "\r",
        "Computed shortest paths for frame 227"
       ]
      },
      {
       "output_type": "stream",
       "stream": "stdout",
       "text": [
        "\r",
        "Computed shortest paths for frame 228"
       ]
      },
      {
       "output_type": "stream",
       "stream": "stdout",
       "text": [
        "\r",
        "Computed shortest paths for frame 229"
       ]
      },
      {
       "output_type": "stream",
       "stream": "stdout",
       "text": [
        "\r",
        "Computed shortest paths for frame 230"
       ]
      },
      {
       "output_type": "stream",
       "stream": "stdout",
       "text": [
        "\r",
        "Computed shortest paths for frame 231"
       ]
      },
      {
       "output_type": "stream",
       "stream": "stdout",
       "text": [
        "\r",
        "Computed shortest paths for frame 232"
       ]
      },
      {
       "output_type": "stream",
       "stream": "stdout",
       "text": [
        "\r",
        "Computed shortest paths for frame 233"
       ]
      },
      {
       "output_type": "stream",
       "stream": "stdout",
       "text": [
        "\r",
        "Computed shortest paths for frame 234"
       ]
      },
      {
       "output_type": "stream",
       "stream": "stdout",
       "text": [
        "\r",
        "Computed shortest paths for frame 235"
       ]
      },
      {
       "output_type": "stream",
       "stream": "stdout",
       "text": [
        "\r",
        "Computed shortest paths for frame 236"
       ]
      },
      {
       "output_type": "stream",
       "stream": "stdout",
       "text": [
        "\r",
        "Computed shortest paths for frame 237"
       ]
      },
      {
       "output_type": "stream",
       "stream": "stdout",
       "text": [
        "\r",
        "Computed shortest paths for frame 238"
       ]
      },
      {
       "output_type": "stream",
       "stream": "stdout",
       "text": [
        "\r",
        "Computed shortest paths for frame 239"
       ]
      },
      {
       "output_type": "stream",
       "stream": "stdout",
       "text": [
        "\r",
        "Computed shortest paths for frame 240"
       ]
      },
      {
       "output_type": "stream",
       "stream": "stdout",
       "text": [
        "\r",
        "Computed shortest paths for frame 241"
       ]
      },
      {
       "output_type": "stream",
       "stream": "stdout",
       "text": [
        "\r",
        "Computed shortest paths for frame 242"
       ]
      },
      {
       "output_type": "stream",
       "stream": "stdout",
       "text": [
        "\r",
        "Computed shortest paths for frame 243"
       ]
      },
      {
       "output_type": "stream",
       "stream": "stdout",
       "text": [
        "\r",
        "Computed shortest paths for frame 244"
       ]
      },
      {
       "output_type": "stream",
       "stream": "stdout",
       "text": [
        "\r",
        "Computed shortest paths for frame 245"
       ]
      },
      {
       "output_type": "stream",
       "stream": "stdout",
       "text": [
        "\r",
        "Computed shortest paths for frame 246"
       ]
      },
      {
       "output_type": "stream",
       "stream": "stdout",
       "text": [
        "\r",
        "Computed shortest paths for frame 247"
       ]
      },
      {
       "output_type": "stream",
       "stream": "stdout",
       "text": [
        "\r",
        "Computed shortest paths for frame 248"
       ]
      },
      {
       "output_type": "stream",
       "stream": "stdout",
       "text": [
        "\r",
        "Computed shortest paths for frame 249"
       ]
      },
      {
       "output_type": "stream",
       "stream": "stdout",
       "text": [
        "\r",
        "Computed shortest paths for frame 250"
       ]
      },
      {
       "output_type": "stream",
       "stream": "stdout",
       "text": [
        "\r",
        "Computed shortest paths for frame 251"
       ]
      },
      {
       "output_type": "stream",
       "stream": "stdout",
       "text": [
        "\r",
        "Computed shortest paths for frame 252"
       ]
      },
      {
       "output_type": "stream",
       "stream": "stdout",
       "text": [
        "\r",
        "Computed shortest paths for frame 253"
       ]
      },
      {
       "output_type": "stream",
       "stream": "stdout",
       "text": [
        "\r",
        "Computed shortest paths for frame 254"
       ]
      },
      {
       "output_type": "stream",
       "stream": "stdout",
       "text": [
        "\r",
        "Computed shortest paths for frame 255"
       ]
      },
      {
       "output_type": "stream",
       "stream": "stdout",
       "text": [
        "\r",
        "Computed shortest paths for frame 256"
       ]
      },
      {
       "output_type": "stream",
       "stream": "stdout",
       "text": [
        "\r",
        "Computed shortest paths for frame 257"
       ]
      },
      {
       "output_type": "stream",
       "stream": "stdout",
       "text": [
        "\r",
        "Computed shortest paths for frame 258"
       ]
      },
      {
       "output_type": "stream",
       "stream": "stdout",
       "text": [
        "\r",
        "Computed shortest paths for frame 259"
       ]
      },
      {
       "output_type": "stream",
       "stream": "stdout",
       "text": [
        "\r",
        "Computed shortest paths for frame 260"
       ]
      },
      {
       "output_type": "stream",
       "stream": "stdout",
       "text": [
        "\r",
        "Computed shortest paths for frame 261"
       ]
      },
      {
       "output_type": "stream",
       "stream": "stdout",
       "text": [
        "\r",
        "Computed shortest paths for frame 262"
       ]
      },
      {
       "output_type": "stream",
       "stream": "stdout",
       "text": [
        "\r",
        "Computed shortest paths for frame 263"
       ]
      },
      {
       "output_type": "stream",
       "stream": "stdout",
       "text": [
        "\r",
        "Computed shortest paths for frame 264"
       ]
      },
      {
       "output_type": "stream",
       "stream": "stdout",
       "text": [
        "\r",
        "Computed shortest paths for frame 265"
       ]
      },
      {
       "output_type": "stream",
       "stream": "stdout",
       "text": [
        "\r",
        "Computed shortest paths for frame 266"
       ]
      },
      {
       "output_type": "stream",
       "stream": "stdout",
       "text": [
        "\r",
        "Computed shortest paths for frame 267"
       ]
      },
      {
       "output_type": "stream",
       "stream": "stdout",
       "text": [
        "\r",
        "Computed shortest paths for frame 268"
       ]
      },
      {
       "output_type": "stream",
       "stream": "stdout",
       "text": [
        "\r",
        "Computed shortest paths for frame 269"
       ]
      },
      {
       "output_type": "stream",
       "stream": "stdout",
       "text": [
        "\r",
        "Computed shortest paths for frame 270"
       ]
      },
      {
       "output_type": "stream",
       "stream": "stdout",
       "text": [
        "\r",
        "Computed shortest paths for frame 271"
       ]
      },
      {
       "output_type": "stream",
       "stream": "stdout",
       "text": [
        "\r",
        "Computed shortest paths for frame 272"
       ]
      },
      {
       "output_type": "stream",
       "stream": "stdout",
       "text": [
        "\r",
        "Computed shortest paths for frame 273"
       ]
      },
      {
       "output_type": "stream",
       "stream": "stdout",
       "text": [
        "\r",
        "Computed shortest paths for frame 274"
       ]
      },
      {
       "output_type": "stream",
       "stream": "stdout",
       "text": [
        "\r",
        "Computed shortest paths for frame 275"
       ]
      },
      {
       "output_type": "stream",
       "stream": "stdout",
       "text": [
        "\r",
        "Computed shortest paths for frame 276"
       ]
      },
      {
       "output_type": "stream",
       "stream": "stdout",
       "text": [
        "\r",
        "Computed shortest paths for frame 277"
       ]
      },
      {
       "output_type": "stream",
       "stream": "stdout",
       "text": [
        "\r",
        "Computed shortest paths for frame 278"
       ]
      },
      {
       "output_type": "stream",
       "stream": "stdout",
       "text": [
        "\r",
        "Computed shortest paths for frame 279"
       ]
      },
      {
       "output_type": "stream",
       "stream": "stdout",
       "text": [
        "\r",
        "Computed shortest paths for frame 280"
       ]
      },
      {
       "output_type": "stream",
       "stream": "stdout",
       "text": [
        "\r",
        "Computed shortest paths for frame 281"
       ]
      },
      {
       "output_type": "stream",
       "stream": "stdout",
       "text": [
        "\r",
        "Computed shortest paths for frame 282"
       ]
      },
      {
       "output_type": "stream",
       "stream": "stdout",
       "text": [
        "\r",
        "Computed shortest paths for frame 283"
       ]
      },
      {
       "output_type": "stream",
       "stream": "stdout",
       "text": [
        "\r",
        "Computed shortest paths for frame 284"
       ]
      },
      {
       "output_type": "stream",
       "stream": "stdout",
       "text": [
        "\r",
        "Computed shortest paths for frame 285"
       ]
      },
      {
       "output_type": "stream",
       "stream": "stdout",
       "text": [
        "\r",
        "Computed shortest paths for frame 286"
       ]
      },
      {
       "output_type": "stream",
       "stream": "stdout",
       "text": [
        "\r",
        "Computed shortest paths for frame 287"
       ]
      },
      {
       "output_type": "stream",
       "stream": "stdout",
       "text": [
        "\r",
        "Computed shortest paths for frame 288"
       ]
      },
      {
       "output_type": "stream",
       "stream": "stdout",
       "text": [
        "\r",
        "Computed shortest paths for frame 289"
       ]
      },
      {
       "output_type": "stream",
       "stream": "stdout",
       "text": [
        "\r",
        "Computed shortest paths for frame 290"
       ]
      },
      {
       "output_type": "stream",
       "stream": "stdout",
       "text": [
        "\r",
        "Computed shortest paths for frame 291"
       ]
      },
      {
       "output_type": "stream",
       "stream": "stdout",
       "text": [
        "\r",
        "Computed shortest paths for frame 292"
       ]
      },
      {
       "output_type": "stream",
       "stream": "stdout",
       "text": [
        "\r",
        "Computed shortest paths for frame 293"
       ]
      },
      {
       "output_type": "stream",
       "stream": "stdout",
       "text": [
        "\r",
        "Computed shortest paths for frame 294"
       ]
      },
      {
       "output_type": "stream",
       "stream": "stdout",
       "text": [
        "\r",
        "Computed shortest paths for frame 295"
       ]
      },
      {
       "output_type": "stream",
       "stream": "stdout",
       "text": [
        "\r",
        "Computed shortest paths for frame 296"
       ]
      },
      {
       "output_type": "stream",
       "stream": "stdout",
       "text": [
        "\r",
        "Computed shortest paths for frame 297"
       ]
      },
      {
       "output_type": "stream",
       "stream": "stdout",
       "text": [
        "\r",
        "Computed shortest paths for frame 298"
       ]
      },
      {
       "output_type": "stream",
       "stream": "stdout",
       "text": [
        "\r",
        "Computed shortest paths for frame 299"
       ]
      },
      {
       "output_type": "stream",
       "stream": "stdout",
       "text": [
        "\r",
        "Computed shortest paths for frame 300"
       ]
      },
      {
       "output_type": "stream",
       "stream": "stdout",
       "text": [
        "\r",
        "Computed shortest paths for frame 301"
       ]
      },
      {
       "output_type": "stream",
       "stream": "stdout",
       "text": [
        "\r",
        "Computed shortest paths for frame 302"
       ]
      },
      {
       "output_type": "stream",
       "stream": "stdout",
       "text": [
        "\r",
        "Computed shortest paths for frame 303"
       ]
      },
      {
       "output_type": "stream",
       "stream": "stdout",
       "text": [
        "\r",
        "Computed shortest paths for frame 304"
       ]
      },
      {
       "output_type": "stream",
       "stream": "stdout",
       "text": [
        "\r",
        "Computed shortest paths for frame 305"
       ]
      },
      {
       "output_type": "stream",
       "stream": "stdout",
       "text": [
        "\r",
        "Computed shortest paths for frame 306"
       ]
      },
      {
       "output_type": "stream",
       "stream": "stdout",
       "text": [
        "\r",
        "Computed shortest paths for frame 307"
       ]
      },
      {
       "output_type": "stream",
       "stream": "stdout",
       "text": [
        "\r",
        "Computed shortest paths for frame 308"
       ]
      },
      {
       "output_type": "stream",
       "stream": "stdout",
       "text": [
        "\r",
        "Computed shortest paths for frame 309"
       ]
      },
      {
       "output_type": "stream",
       "stream": "stdout",
       "text": [
        "\r",
        "Computed shortest paths for frame 310"
       ]
      },
      {
       "output_type": "stream",
       "stream": "stdout",
       "text": [
        "\r",
        "Computed shortest paths for frame 311"
       ]
      },
      {
       "output_type": "stream",
       "stream": "stdout",
       "text": [
        "\r",
        "Computed shortest paths for frame 312"
       ]
      },
      {
       "output_type": "stream",
       "stream": "stdout",
       "text": [
        "\r",
        "Computed shortest paths for frame 313"
       ]
      },
      {
       "output_type": "stream",
       "stream": "stdout",
       "text": [
        "\r",
        "Computed shortest paths for frame 314"
       ]
      },
      {
       "output_type": "stream",
       "stream": "stdout",
       "text": [
        "\r",
        "Computed shortest paths for frame 315"
       ]
      },
      {
       "output_type": "stream",
       "stream": "stdout",
       "text": [
        "\r",
        "Computed shortest paths for frame 316"
       ]
      },
      {
       "output_type": "stream",
       "stream": "stdout",
       "text": [
        "\r",
        "Computed shortest paths for frame 317"
       ]
      },
      {
       "output_type": "stream",
       "stream": "stdout",
       "text": [
        "\r",
        "Computed shortest paths for frame 318"
       ]
      },
      {
       "output_type": "stream",
       "stream": "stdout",
       "text": [
        "\r",
        "Computed shortest paths for frame 319"
       ]
      },
      {
       "output_type": "stream",
       "stream": "stdout",
       "text": [
        "\r",
        "Computed shortest paths for frame 320"
       ]
      },
      {
       "output_type": "stream",
       "stream": "stdout",
       "text": [
        "\r",
        "Computed shortest paths for frame 321"
       ]
      },
      {
       "output_type": "stream",
       "stream": "stdout",
       "text": [
        "\r",
        "Computed shortest paths for frame 322"
       ]
      },
      {
       "output_type": "stream",
       "stream": "stdout",
       "text": [
        "\r",
        "Computed shortest paths for frame 323"
       ]
      },
      {
       "output_type": "stream",
       "stream": "stdout",
       "text": [
        "\r",
        "Computed shortest paths for frame 324"
       ]
      },
      {
       "output_type": "stream",
       "stream": "stdout",
       "text": [
        "\r",
        "Computed shortest paths for frame 325"
       ]
      },
      {
       "output_type": "stream",
       "stream": "stdout",
       "text": [
        "\r",
        "Computed shortest paths for frame 326"
       ]
      },
      {
       "output_type": "stream",
       "stream": "stdout",
       "text": [
        "\r",
        "Computed shortest paths for frame 327"
       ]
      },
      {
       "output_type": "stream",
       "stream": "stdout",
       "text": [
        "\r",
        "Computed shortest paths for frame 328"
       ]
      },
      {
       "output_type": "stream",
       "stream": "stdout",
       "text": [
        "\r",
        "Computed shortest paths for frame 329"
       ]
      },
      {
       "output_type": "stream",
       "stream": "stdout",
       "text": [
        "\r",
        "Computed shortest paths for frame 330"
       ]
      },
      {
       "output_type": "stream",
       "stream": "stdout",
       "text": [
        "\r",
        "Computed shortest paths for frame 331"
       ]
      },
      {
       "output_type": "stream",
       "stream": "stdout",
       "text": [
        "\r",
        "Computed shortest paths for frame 332"
       ]
      },
      {
       "output_type": "stream",
       "stream": "stdout",
       "text": [
        "\r",
        "Computed shortest paths for frame 333"
       ]
      },
      {
       "output_type": "stream",
       "stream": "stdout",
       "text": [
        "\r",
        "Computed shortest paths for frame 334"
       ]
      },
      {
       "output_type": "stream",
       "stream": "stdout",
       "text": [
        "\r",
        "Computed shortest paths for frame 335"
       ]
      },
      {
       "output_type": "stream",
       "stream": "stdout",
       "text": [
        "\r",
        "Computed shortest paths for frame 336"
       ]
      },
      {
       "output_type": "stream",
       "stream": "stdout",
       "text": [
        "\r",
        "Computed shortest paths for frame 337"
       ]
      },
      {
       "output_type": "stream",
       "stream": "stdout",
       "text": [
        "\r",
        "Computed shortest paths for frame 338"
       ]
      },
      {
       "output_type": "stream",
       "stream": "stdout",
       "text": [
        "\r",
        "Computed shortest paths for frame 339"
       ]
      },
      {
       "output_type": "stream",
       "stream": "stdout",
       "text": [
        "\r",
        "Computed shortest paths for frame 340"
       ]
      },
      {
       "output_type": "stream",
       "stream": "stdout",
       "text": [
        "\r",
        "Computed shortest paths for frame 341"
       ]
      },
      {
       "output_type": "stream",
       "stream": "stdout",
       "text": [
        "\r",
        "Computed shortest paths for frame 342"
       ]
      },
      {
       "output_type": "stream",
       "stream": "stdout",
       "text": [
        "\r",
        "Computed shortest paths for frame 343"
       ]
      },
      {
       "output_type": "stream",
       "stream": "stdout",
       "text": [
        "\r",
        "Computed shortest paths for frame 344"
       ]
      },
      {
       "output_type": "stream",
       "stream": "stdout",
       "text": [
        "\r",
        "Computed shortest paths for frame 345"
       ]
      },
      {
       "output_type": "stream",
       "stream": "stdout",
       "text": [
        "\r",
        "Computed shortest paths for frame 346"
       ]
      },
      {
       "output_type": "stream",
       "stream": "stdout",
       "text": [
        "\r",
        "Computed shortest paths for frame 347"
       ]
      },
      {
       "output_type": "stream",
       "stream": "stdout",
       "text": [
        "\r",
        "Computed shortest paths for frame 348"
       ]
      },
      {
       "output_type": "stream",
       "stream": "stdout",
       "text": [
        "\r",
        "Computed shortest paths for frame 349"
       ]
      },
      {
       "output_type": "stream",
       "stream": "stdout",
       "text": [
        "\r",
        "Computed shortest paths for frame 350"
       ]
      },
      {
       "output_type": "stream",
       "stream": "stdout",
       "text": [
        "\r",
        "Computed shortest paths for frame 351"
       ]
      },
      {
       "output_type": "stream",
       "stream": "stdout",
       "text": [
        "\r",
        "Computed shortest paths for frame 352"
       ]
      },
      {
       "output_type": "stream",
       "stream": "stdout",
       "text": [
        "\r",
        "Computed shortest paths for frame 353"
       ]
      },
      {
       "output_type": "stream",
       "stream": "stdout",
       "text": [
        "\r",
        "Computed shortest paths for frame 354"
       ]
      },
      {
       "output_type": "stream",
       "stream": "stdout",
       "text": [
        "\r",
        "Computed shortest paths for frame 355"
       ]
      },
      {
       "output_type": "stream",
       "stream": "stdout",
       "text": [
        "\r",
        "Computed shortest paths for frame 356"
       ]
      },
      {
       "output_type": "stream",
       "stream": "stdout",
       "text": [
        "\r",
        "Computed shortest paths for frame 357"
       ]
      },
      {
       "output_type": "stream",
       "stream": "stdout",
       "text": [
        "\r",
        "Computed shortest paths for frame 358"
       ]
      },
      {
       "output_type": "stream",
       "stream": "stdout",
       "text": [
        "\r",
        "Computed shortest paths for frame 359"
       ]
      },
      {
       "output_type": "stream",
       "stream": "stdout",
       "text": [
        "\r",
        "Computed shortest paths for frame 360"
       ]
      },
      {
       "output_type": "stream",
       "stream": "stdout",
       "text": [
        "\r",
        "Computed shortest paths for frame 361"
       ]
      },
      {
       "output_type": "stream",
       "stream": "stdout",
       "text": [
        "\r",
        "Computed shortest paths for frame 362"
       ]
      },
      {
       "output_type": "stream",
       "stream": "stdout",
       "text": [
        "\r",
        "Computed shortest paths for frame 363"
       ]
      },
      {
       "output_type": "stream",
       "stream": "stdout",
       "text": [
        "\r",
        "Computed shortest paths for frame 364"
       ]
      },
      {
       "output_type": "stream",
       "stream": "stdout",
       "text": [
        "\r",
        "Computed shortest paths for frame 365"
       ]
      },
      {
       "output_type": "stream",
       "stream": "stdout",
       "text": [
        "\r",
        "Computed shortest paths for frame 366"
       ]
      },
      {
       "output_type": "stream",
       "stream": "stdout",
       "text": [
        "\r",
        "Computed shortest paths for frame 367"
       ]
      },
      {
       "output_type": "stream",
       "stream": "stdout",
       "text": [
        "\r",
        "Computed shortest paths for frame 368"
       ]
      },
      {
       "output_type": "stream",
       "stream": "stdout",
       "text": [
        "\r",
        "Computed shortest paths for frame 369"
       ]
      },
      {
       "output_type": "stream",
       "stream": "stdout",
       "text": [
        "\r",
        "Computed shortest paths for frame 370"
       ]
      },
      {
       "output_type": "stream",
       "stream": "stdout",
       "text": [
        "\r",
        "Computed shortest paths for frame 371"
       ]
      },
      {
       "output_type": "stream",
       "stream": "stdout",
       "text": [
        "\r",
        "Computed shortest paths for frame 372"
       ]
      },
      {
       "output_type": "stream",
       "stream": "stdout",
       "text": [
        "\r",
        "Computed shortest paths for frame 373"
       ]
      },
      {
       "output_type": "stream",
       "stream": "stdout",
       "text": [
        "\r",
        "Computed shortest paths for frame 374"
       ]
      },
      {
       "output_type": "stream",
       "stream": "stdout",
       "text": [
        "\r",
        "Computed shortest paths for frame 375"
       ]
      },
      {
       "output_type": "stream",
       "stream": "stdout",
       "text": [
        "\r",
        "Computed shortest paths for frame 376"
       ]
      },
      {
       "output_type": "stream",
       "stream": "stdout",
       "text": [
        "\r",
        "Computed shortest paths for frame 377"
       ]
      },
      {
       "output_type": "stream",
       "stream": "stdout",
       "text": [
        "\r",
        "Computed shortest paths for frame 378"
       ]
      },
      {
       "output_type": "stream",
       "stream": "stdout",
       "text": [
        "\r",
        "Computed shortest paths for frame 379"
       ]
      },
      {
       "output_type": "stream",
       "stream": "stdout",
       "text": [
        "\r",
        "Computed shortest paths for frame 380"
       ]
      },
      {
       "output_type": "stream",
       "stream": "stdout",
       "text": [
        "\r",
        "Computed shortest paths for frame 381"
       ]
      },
      {
       "output_type": "stream",
       "stream": "stdout",
       "text": [
        "\r",
        "Computed shortest paths for frame 382"
       ]
      },
      {
       "output_type": "stream",
       "stream": "stdout",
       "text": [
        "\r",
        "Computed shortest paths for frame 383"
       ]
      },
      {
       "output_type": "stream",
       "stream": "stdout",
       "text": [
        "\r",
        "Computed shortest paths for frame 384"
       ]
      },
      {
       "output_type": "stream",
       "stream": "stdout",
       "text": [
        "\r",
        "Computed shortest paths for frame 385"
       ]
      },
      {
       "output_type": "stream",
       "stream": "stdout",
       "text": [
        "\r",
        "Computed shortest paths for frame 386"
       ]
      },
      {
       "output_type": "stream",
       "stream": "stdout",
       "text": [
        "\r",
        "Computed shortest paths for frame 387"
       ]
      },
      {
       "output_type": "stream",
       "stream": "stdout",
       "text": [
        "\r",
        "Computed shortest paths for frame 388"
       ]
      },
      {
       "output_type": "stream",
       "stream": "stdout",
       "text": [
        "\r",
        "Computed shortest paths for frame 389"
       ]
      },
      {
       "output_type": "stream",
       "stream": "stdout",
       "text": [
        "\r",
        "Computed shortest paths for frame 390"
       ]
      },
      {
       "output_type": "stream",
       "stream": "stdout",
       "text": [
        "\r",
        "Computed shortest paths for frame 391"
       ]
      },
      {
       "output_type": "stream",
       "stream": "stdout",
       "text": [
        "\r",
        "Computed shortest paths for frame 392"
       ]
      },
      {
       "output_type": "stream",
       "stream": "stdout",
       "text": [
        "\r",
        "Computed shortest paths for frame 393"
       ]
      },
      {
       "output_type": "stream",
       "stream": "stdout",
       "text": [
        "\r",
        "Computed shortest paths for frame 394"
       ]
      },
      {
       "output_type": "stream",
       "stream": "stdout",
       "text": [
        "\r",
        "Computed shortest paths for frame 395"
       ]
      },
      {
       "output_type": "stream",
       "stream": "stdout",
       "text": [
        "\r",
        "Computed shortest paths for frame 396"
       ]
      },
      {
       "output_type": "stream",
       "stream": "stdout",
       "text": [
        "\r",
        "Computed shortest paths for frame 397"
       ]
      },
      {
       "output_type": "stream",
       "stream": "stdout",
       "text": [
        "\r",
        "Computed shortest paths for frame 398"
       ]
      },
      {
       "output_type": "stream",
       "stream": "stdout",
       "text": [
        "\r",
        "Computed shortest paths for frame 399"
       ]
      },
      {
       "output_type": "stream",
       "stream": "stdout",
       "text": [
        "\r",
        "Computed shortest paths for frame 400"
       ]
      },
      {
       "output_type": "stream",
       "stream": "stdout",
       "text": [
        "\r",
        "Computed shortest paths for frame 401"
       ]
      },
      {
       "output_type": "stream",
       "stream": "stdout",
       "text": [
        "\r",
        "Computed shortest paths for frame 402"
       ]
      },
      {
       "output_type": "stream",
       "stream": "stdout",
       "text": [
        "\r",
        "Computed shortest paths for frame 403"
       ]
      },
      {
       "output_type": "stream",
       "stream": "stdout",
       "text": [
        "\r",
        "Computed shortest paths for frame 404"
       ]
      },
      {
       "output_type": "stream",
       "stream": "stdout",
       "text": [
        "\r",
        "Computed shortest paths for frame 405"
       ]
      },
      {
       "output_type": "stream",
       "stream": "stdout",
       "text": [
        "\r",
        "Computed shortest paths for frame 406"
       ]
      },
      {
       "output_type": "stream",
       "stream": "stdout",
       "text": [
        "\r",
        "Computed shortest paths for frame 407"
       ]
      },
      {
       "output_type": "stream",
       "stream": "stdout",
       "text": [
        "\r",
        "Computed shortest paths for frame 408"
       ]
      },
      {
       "output_type": "stream",
       "stream": "stdout",
       "text": [
        "\r",
        "Computed shortest paths for frame 409"
       ]
      },
      {
       "output_type": "stream",
       "stream": "stdout",
       "text": [
        "\r",
        "Computed shortest paths for frame 410"
       ]
      },
      {
       "output_type": "stream",
       "stream": "stdout",
       "text": [
        "\r",
        "Computed shortest paths for frame 411"
       ]
      },
      {
       "output_type": "stream",
       "stream": "stdout",
       "text": [
        "\r",
        "Computed shortest paths for frame 412"
       ]
      },
      {
       "output_type": "stream",
       "stream": "stdout",
       "text": [
        "\r",
        "Computed shortest paths for frame 413"
       ]
      },
      {
       "output_type": "stream",
       "stream": "stdout",
       "text": [
        "\r",
        "Computed shortest paths for frame 414"
       ]
      },
      {
       "output_type": "stream",
       "stream": "stdout",
       "text": [
        "\r",
        "Computed shortest paths for frame 415"
       ]
      },
      {
       "output_type": "stream",
       "stream": "stdout",
       "text": [
        "\r",
        "Computed shortest paths for frame 416"
       ]
      },
      {
       "output_type": "stream",
       "stream": "stdout",
       "text": [
        "\r",
        "Computed shortest paths for frame 417"
       ]
      },
      {
       "output_type": "stream",
       "stream": "stdout",
       "text": [
        "\r",
        "Computed shortest paths for frame 418"
       ]
      },
      {
       "output_type": "stream",
       "stream": "stdout",
       "text": [
        "\r",
        "Computed shortest paths for frame 419"
       ]
      },
      {
       "output_type": "stream",
       "stream": "stdout",
       "text": [
        "\r",
        "Computed shortest paths for frame 420"
       ]
      },
      {
       "output_type": "stream",
       "stream": "stdout",
       "text": [
        "\r",
        "Computed shortest paths for frame 421"
       ]
      },
      {
       "output_type": "stream",
       "stream": "stdout",
       "text": [
        "\r",
        "Computed shortest paths for frame 422"
       ]
      },
      {
       "output_type": "stream",
       "stream": "stdout",
       "text": [
        "\r",
        "Computed shortest paths for frame 423"
       ]
      },
      {
       "output_type": "stream",
       "stream": "stdout",
       "text": [
        "\r",
        "Computed shortest paths for frame 424"
       ]
      },
      {
       "output_type": "stream",
       "stream": "stdout",
       "text": [
        "\r",
        "Computed shortest paths for frame 425"
       ]
      },
      {
       "output_type": "stream",
       "stream": "stdout",
       "text": [
        "\r",
        "Computed shortest paths for frame 426"
       ]
      },
      {
       "output_type": "stream",
       "stream": "stdout",
       "text": [
        "\r",
        "Computed shortest paths for frame 427"
       ]
      },
      {
       "output_type": "stream",
       "stream": "stdout",
       "text": [
        "\r",
        "Computed shortest paths for frame 428"
       ]
      },
      {
       "output_type": "stream",
       "stream": "stdout",
       "text": [
        "\r",
        "Computed shortest paths for frame 429"
       ]
      },
      {
       "output_type": "stream",
       "stream": "stdout",
       "text": [
        "\r",
        "Computed shortest paths for frame 430"
       ]
      },
      {
       "output_type": "stream",
       "stream": "stdout",
       "text": [
        "\r",
        "Computed shortest paths for frame 431"
       ]
      },
      {
       "output_type": "stream",
       "stream": "stdout",
       "text": [
        "\r",
        "Computed shortest paths for frame 432"
       ]
      },
      {
       "output_type": "stream",
       "stream": "stdout",
       "text": [
        "\r",
        "Computed shortest paths for frame 433"
       ]
      },
      {
       "output_type": "stream",
       "stream": "stdout",
       "text": [
        "\r",
        "Computed shortest paths for frame 434"
       ]
      },
      {
       "output_type": "stream",
       "stream": "stdout",
       "text": [
        "\r",
        "Computed shortest paths for frame 435"
       ]
      },
      {
       "output_type": "stream",
       "stream": "stdout",
       "text": [
        "\r",
        "Computed shortest paths for frame 436"
       ]
      },
      {
       "output_type": "stream",
       "stream": "stdout",
       "text": [
        "\r",
        "Computed shortest paths for frame 437"
       ]
      },
      {
       "output_type": "stream",
       "stream": "stdout",
       "text": [
        "\r",
        "Computed shortest paths for frame 438"
       ]
      },
      {
       "output_type": "stream",
       "stream": "stdout",
       "text": [
        "\r",
        "Computed shortest paths for frame 439"
       ]
      },
      {
       "output_type": "stream",
       "stream": "stdout",
       "text": [
        "\r",
        "Computed shortest paths for frame 440"
       ]
      },
      {
       "output_type": "stream",
       "stream": "stdout",
       "text": [
        "\r",
        "Computed shortest paths for frame 441"
       ]
      },
      {
       "output_type": "stream",
       "stream": "stdout",
       "text": [
        "\r",
        "Computed shortest paths for frame 442"
       ]
      },
      {
       "output_type": "stream",
       "stream": "stdout",
       "text": [
        "\r",
        "Computed shortest paths for frame 443"
       ]
      },
      {
       "output_type": "stream",
       "stream": "stdout",
       "text": [
        "\r",
        "Computed shortest paths for frame 444"
       ]
      },
      {
       "output_type": "stream",
       "stream": "stdout",
       "text": [
        "\r",
        "Computed shortest paths for frame 445"
       ]
      },
      {
       "output_type": "stream",
       "stream": "stdout",
       "text": [
        "\r",
        "Computed shortest paths for frame 446"
       ]
      },
      {
       "output_type": "stream",
       "stream": "stdout",
       "text": [
        "\r",
        "Computed shortest paths for frame 447"
       ]
      },
      {
       "output_type": "stream",
       "stream": "stdout",
       "text": [
        "\r",
        "Computed shortest paths for frame 448"
       ]
      },
      {
       "output_type": "stream",
       "stream": "stdout",
       "text": [
        "\r",
        "Computed shortest paths for frame 449"
       ]
      },
      {
       "output_type": "stream",
       "stream": "stdout",
       "text": [
        "\r",
        "Computed shortest paths for frame 450"
       ]
      },
      {
       "output_type": "stream",
       "stream": "stdout",
       "text": [
        "\r",
        "Computed shortest paths for frame 451"
       ]
      },
      {
       "output_type": "stream",
       "stream": "stdout",
       "text": [
        "\r",
        "Computed shortest paths for frame 452"
       ]
      },
      {
       "output_type": "stream",
       "stream": "stdout",
       "text": [
        "\r",
        "Computed shortest paths for frame 453"
       ]
      },
      {
       "output_type": "stream",
       "stream": "stdout",
       "text": [
        "\r",
        "Computed shortest paths for frame 454"
       ]
      },
      {
       "output_type": "stream",
       "stream": "stdout",
       "text": [
        "\r",
        "Computed shortest paths for frame 455"
       ]
      },
      {
       "output_type": "stream",
       "stream": "stdout",
       "text": [
        "\r",
        "Computed shortest paths for frame 456"
       ]
      },
      {
       "output_type": "stream",
       "stream": "stdout",
       "text": [
        "\r",
        "Computed shortest paths for frame 457"
       ]
      },
      {
       "output_type": "stream",
       "stream": "stdout",
       "text": [
        "\r",
        "Computed shortest paths for frame 458"
       ]
      },
      {
       "output_type": "stream",
       "stream": "stdout",
       "text": [
        "\r",
        "Computed shortest paths for frame 459"
       ]
      },
      {
       "output_type": "stream",
       "stream": "stdout",
       "text": [
        "\r",
        "Computed shortest paths for frame 460"
       ]
      },
      {
       "output_type": "stream",
       "stream": "stdout",
       "text": [
        "\r",
        "Computed shortest paths for frame 461"
       ]
      },
      {
       "output_type": "stream",
       "stream": "stdout",
       "text": [
        "\r",
        "Computed shortest paths for frame 462"
       ]
      },
      {
       "output_type": "stream",
       "stream": "stdout",
       "text": [
        "\r",
        "Computed shortest paths for frame 463"
       ]
      },
      {
       "output_type": "stream",
       "stream": "stdout",
       "text": [
        "\r",
        "Computed shortest paths for frame 464"
       ]
      },
      {
       "output_type": "stream",
       "stream": "stdout",
       "text": [
        "\r",
        "Computed shortest paths for frame 465"
       ]
      },
      {
       "output_type": "stream",
       "stream": "stdout",
       "text": [
        "\r",
        "Computed shortest paths for frame 466"
       ]
      },
      {
       "output_type": "stream",
       "stream": "stdout",
       "text": [
        "\r",
        "Computed shortest paths for frame 467"
       ]
      },
      {
       "output_type": "stream",
       "stream": "stdout",
       "text": [
        "\r",
        "Computed shortest paths for frame 468"
       ]
      },
      {
       "output_type": "stream",
       "stream": "stdout",
       "text": [
        "\r",
        "Computed shortest paths for frame 469"
       ]
      },
      {
       "output_type": "stream",
       "stream": "stdout",
       "text": [
        "\r",
        "Computed shortest paths for frame 470"
       ]
      },
      {
       "output_type": "stream",
       "stream": "stdout",
       "text": [
        "\r",
        "Computed shortest paths for frame 471"
       ]
      },
      {
       "output_type": "stream",
       "stream": "stdout",
       "text": [
        "\r",
        "Computed shortest paths for frame 472"
       ]
      },
      {
       "output_type": "stream",
       "stream": "stdout",
       "text": [
        "\r",
        "Computed shortest paths for frame 473"
       ]
      },
      {
       "output_type": "stream",
       "stream": "stdout",
       "text": [
        "\r",
        "Computed shortest paths for frame 474"
       ]
      },
      {
       "output_type": "stream",
       "stream": "stdout",
       "text": [
        "\r",
        "Computed shortest paths for frame 475"
       ]
      },
      {
       "output_type": "stream",
       "stream": "stdout",
       "text": [
        "\r",
        "Computed shortest paths for frame 476"
       ]
      },
      {
       "output_type": "stream",
       "stream": "stdout",
       "text": [
        "\r",
        "Computed shortest paths for frame 477"
       ]
      },
      {
       "output_type": "stream",
       "stream": "stdout",
       "text": [
        "\r",
        "Computed shortest paths for frame 478"
       ]
      },
      {
       "output_type": "stream",
       "stream": "stdout",
       "text": [
        "\r",
        "Computed shortest paths for frame 479"
       ]
      },
      {
       "output_type": "stream",
       "stream": "stdout",
       "text": [
        "\r",
        "Computed shortest paths for frame 480"
       ]
      },
      {
       "output_type": "stream",
       "stream": "stdout",
       "text": [
        "\r",
        "Computed shortest paths for frame 481"
       ]
      },
      {
       "output_type": "stream",
       "stream": "stdout",
       "text": [
        "\r",
        "Computed shortest paths for frame 482"
       ]
      },
      {
       "output_type": "stream",
       "stream": "stdout",
       "text": [
        "\r",
        "Computed shortest paths for frame 483"
       ]
      },
      {
       "output_type": "stream",
       "stream": "stdout",
       "text": [
        "\r",
        "Computed shortest paths for frame 484"
       ]
      },
      {
       "output_type": "stream",
       "stream": "stdout",
       "text": [
        "\r",
        "Computed shortest paths for frame 485"
       ]
      },
      {
       "output_type": "stream",
       "stream": "stdout",
       "text": [
        "\r",
        "Computed shortest paths for frame 486"
       ]
      },
      {
       "output_type": "stream",
       "stream": "stdout",
       "text": [
        "\r",
        "Computed shortest paths for frame 487"
       ]
      },
      {
       "output_type": "stream",
       "stream": "stdout",
       "text": [
        "\r",
        "Computed shortest paths for frame 488"
       ]
      },
      {
       "output_type": "stream",
       "stream": "stdout",
       "text": [
        "\r",
        "Computed shortest paths for frame 489"
       ]
      },
      {
       "output_type": "stream",
       "stream": "stdout",
       "text": [
        "\r",
        "Computed shortest paths for frame 490"
       ]
      },
      {
       "output_type": "stream",
       "stream": "stdout",
       "text": [
        "\r",
        "Computed shortest paths for frame 491"
       ]
      },
      {
       "output_type": "stream",
       "stream": "stdout",
       "text": [
        "\r",
        "Computed shortest paths for frame 492"
       ]
      },
      {
       "output_type": "stream",
       "stream": "stdout",
       "text": [
        "\r",
        "Computed shortest paths for frame 493"
       ]
      },
      {
       "output_type": "stream",
       "stream": "stdout",
       "text": [
        "\r",
        "Computed shortest paths for frame 494"
       ]
      },
      {
       "output_type": "stream",
       "stream": "stdout",
       "text": [
        "\r",
        "Computed shortest paths for frame 495"
       ]
      },
      {
       "output_type": "stream",
       "stream": "stdout",
       "text": [
        "\r",
        "Computed shortest paths for frame 496"
       ]
      },
      {
       "output_type": "stream",
       "stream": "stdout",
       "text": [
        "\r",
        "Computed shortest paths for frame 497"
       ]
      },
      {
       "output_type": "stream",
       "stream": "stdout",
       "text": [
        "\r",
        "Computed shortest paths for frame 498"
       ]
      },
      {
       "output_type": "stream",
       "stream": "stdout",
       "text": [
        "\r",
        "Computed shortest paths for frame 499"
       ]
      },
      {
       "output_type": "stream",
       "stream": "stdout",
       "text": [
        "\r",
        "Computed shortest paths for frame 500"
       ]
      },
      {
       "output_type": "stream",
       "stream": "stdout",
       "text": [
        "\r",
        "Computed shortest paths for frame 501"
       ]
      },
      {
       "output_type": "stream",
       "stream": "stdout",
       "text": [
        "\r",
        "Computed shortest paths for frame 502"
       ]
      },
      {
       "output_type": "stream",
       "stream": "stdout",
       "text": [
        "\r",
        "Computed shortest paths for frame 503"
       ]
      },
      {
       "output_type": "stream",
       "stream": "stdout",
       "text": [
        "\r",
        "Computed shortest paths for frame 504"
       ]
      },
      {
       "output_type": "stream",
       "stream": "stdout",
       "text": [
        "\r",
        "Computed shortest paths for frame 505"
       ]
      },
      {
       "output_type": "stream",
       "stream": "stdout",
       "text": [
        "\r",
        "Computed shortest paths for frame 506"
       ]
      },
      {
       "output_type": "stream",
       "stream": "stdout",
       "text": [
        "\r",
        "Computed shortest paths for frame 507"
       ]
      },
      {
       "output_type": "stream",
       "stream": "stdout",
       "text": [
        "\r",
        "Computed shortest paths for frame 508"
       ]
      },
      {
       "output_type": "stream",
       "stream": "stdout",
       "text": [
        "\r",
        "Computed shortest paths for frame 509"
       ]
      },
      {
       "output_type": "stream",
       "stream": "stdout",
       "text": [
        "\r",
        "Computed shortest paths for frame 510"
       ]
      },
      {
       "output_type": "stream",
       "stream": "stdout",
       "text": [
        "\r",
        "Computed shortest paths for frame 511"
       ]
      },
      {
       "output_type": "stream",
       "stream": "stdout",
       "text": [
        "\r",
        "Computed shortest paths for frame 512"
       ]
      },
      {
       "output_type": "stream",
       "stream": "stdout",
       "text": [
        "\r",
        "Computed shortest paths for frame 513"
       ]
      },
      {
       "output_type": "stream",
       "stream": "stdout",
       "text": [
        "\r",
        "Computed shortest paths for frame 514"
       ]
      },
      {
       "output_type": "stream",
       "stream": "stdout",
       "text": [
        "\r",
        "Computed shortest paths for frame 515"
       ]
      },
      {
       "output_type": "stream",
       "stream": "stdout",
       "text": [
        "\r",
        "Computed shortest paths for frame 516"
       ]
      },
      {
       "output_type": "stream",
       "stream": "stdout",
       "text": [
        "\r",
        "Computed shortest paths for frame 517"
       ]
      },
      {
       "output_type": "stream",
       "stream": "stdout",
       "text": [
        "\r",
        "Computed shortest paths for frame 518"
       ]
      },
      {
       "output_type": "stream",
       "stream": "stdout",
       "text": [
        "\r",
        "Computed shortest paths for frame 519"
       ]
      },
      {
       "output_type": "stream",
       "stream": "stdout",
       "text": [
        "\r",
        "Computed shortest paths for frame 520"
       ]
      },
      {
       "output_type": "stream",
       "stream": "stdout",
       "text": [
        "\r",
        "Computed shortest paths for frame 521"
       ]
      },
      {
       "output_type": "stream",
       "stream": "stdout",
       "text": [
        "\r",
        "Computed shortest paths for frame 522"
       ]
      },
      {
       "output_type": "stream",
       "stream": "stdout",
       "text": [
        "\r",
        "Computed shortest paths for frame 523"
       ]
      },
      {
       "output_type": "stream",
       "stream": "stdout",
       "text": [
        "\r",
        "Computed shortest paths for frame 524"
       ]
      },
      {
       "output_type": "stream",
       "stream": "stdout",
       "text": [
        "\r",
        "Computed shortest paths for frame 525"
       ]
      },
      {
       "output_type": "stream",
       "stream": "stdout",
       "text": [
        "\r",
        "Computed shortest paths for frame 526"
       ]
      },
      {
       "output_type": "stream",
       "stream": "stdout",
       "text": [
        "\r",
        "Computed shortest paths for frame 527"
       ]
      },
      {
       "output_type": "stream",
       "stream": "stdout",
       "text": [
        "\r",
        "Computed shortest paths for frame 528"
       ]
      },
      {
       "output_type": "stream",
       "stream": "stdout",
       "text": [
        "\r",
        "Computed shortest paths for frame 529"
       ]
      },
      {
       "output_type": "stream",
       "stream": "stdout",
       "text": [
        "\r",
        "Computed shortest paths for frame 530"
       ]
      },
      {
       "output_type": "stream",
       "stream": "stdout",
       "text": [
        "\r",
        "Computed shortest paths for frame 531"
       ]
      },
      {
       "output_type": "stream",
       "stream": "stdout",
       "text": [
        "\r",
        "Computed shortest paths for frame 532"
       ]
      },
      {
       "output_type": "stream",
       "stream": "stdout",
       "text": [
        "\r",
        "Computed shortest paths for frame 533"
       ]
      },
      {
       "output_type": "stream",
       "stream": "stdout",
       "text": [
        "\r",
        "Computed shortest paths for frame 534"
       ]
      },
      {
       "output_type": "stream",
       "stream": "stdout",
       "text": [
        "\r",
        "Computed shortest paths for frame 535"
       ]
      },
      {
       "output_type": "stream",
       "stream": "stdout",
       "text": [
        "\r",
        "Computed shortest paths for frame 536"
       ]
      },
      {
       "output_type": "stream",
       "stream": "stdout",
       "text": [
        "\r",
        "Computed shortest paths for frame 537"
       ]
      },
      {
       "output_type": "stream",
       "stream": "stdout",
       "text": [
        "\r",
        "Computed shortest paths for frame 538"
       ]
      },
      {
       "output_type": "stream",
       "stream": "stdout",
       "text": [
        "\r",
        "Computed shortest paths for frame 539"
       ]
      },
      {
       "output_type": "stream",
       "stream": "stdout",
       "text": [
        "\r",
        "Computed shortest paths for frame 540"
       ]
      },
      {
       "output_type": "stream",
       "stream": "stdout",
       "text": [
        "\r",
        "Computed shortest paths for frame 541"
       ]
      },
      {
       "output_type": "stream",
       "stream": "stdout",
       "text": [
        "\r",
        "Computed shortest paths for frame 542"
       ]
      },
      {
       "output_type": "stream",
       "stream": "stdout",
       "text": [
        "\r",
        "Computed shortest paths for frame 543"
       ]
      },
      {
       "output_type": "stream",
       "stream": "stdout",
       "text": [
        "\r",
        "Computed shortest paths for frame 544"
       ]
      },
      {
       "output_type": "stream",
       "stream": "stdout",
       "text": [
        "\r",
        "Computed shortest paths for frame 545"
       ]
      },
      {
       "output_type": "stream",
       "stream": "stdout",
       "text": [
        "\r",
        "Computed shortest paths for frame 546"
       ]
      },
      {
       "output_type": "stream",
       "stream": "stdout",
       "text": [
        "\r",
        "Computed shortest paths for frame 547"
       ]
      },
      {
       "output_type": "stream",
       "stream": "stdout",
       "text": [
        "\r",
        "Computed shortest paths for frame 548"
       ]
      },
      {
       "output_type": "stream",
       "stream": "stdout",
       "text": [
        "\r",
        "Computed shortest paths for frame 549"
       ]
      },
      {
       "output_type": "stream",
       "stream": "stdout",
       "text": [
        "\r",
        "Computed shortest paths for frame 550"
       ]
      },
      {
       "output_type": "stream",
       "stream": "stdout",
       "text": [
        "\r",
        "Computed shortest paths for frame 551"
       ]
      },
      {
       "output_type": "stream",
       "stream": "stdout",
       "text": [
        "\r",
        "Computed shortest paths for frame 552"
       ]
      },
      {
       "output_type": "stream",
       "stream": "stdout",
       "text": [
        "\r",
        "Computed shortest paths for frame 553"
       ]
      },
      {
       "output_type": "stream",
       "stream": "stdout",
       "text": [
        "\r",
        "Computed shortest paths for frame 554"
       ]
      },
      {
       "output_type": "stream",
       "stream": "stdout",
       "text": [
        "\r",
        "Computed shortest paths for frame 555"
       ]
      },
      {
       "output_type": "stream",
       "stream": "stdout",
       "text": [
        "\r",
        "Computed shortest paths for frame 556"
       ]
      },
      {
       "output_type": "stream",
       "stream": "stdout",
       "text": [
        "\r",
        "Computed shortest paths for frame 557"
       ]
      },
      {
       "output_type": "stream",
       "stream": "stdout",
       "text": [
        "\r",
        "Computed shortest paths for frame 558"
       ]
      },
      {
       "output_type": "stream",
       "stream": "stdout",
       "text": [
        "\r",
        "Computed shortest paths for frame 559"
       ]
      },
      {
       "output_type": "stream",
       "stream": "stdout",
       "text": [
        "\r",
        "Computed shortest paths for frame 560"
       ]
      },
      {
       "output_type": "stream",
       "stream": "stdout",
       "text": [
        "\r",
        "Computed shortest paths for frame 561"
       ]
      },
      {
       "output_type": "stream",
       "stream": "stdout",
       "text": [
        "\r",
        "Computed shortest paths for frame 562"
       ]
      },
      {
       "output_type": "stream",
       "stream": "stdout",
       "text": [
        "\r",
        "Computed shortest paths for frame 563"
       ]
      },
      {
       "output_type": "stream",
       "stream": "stdout",
       "text": [
        "\r",
        "Computed shortest paths for frame 564"
       ]
      },
      {
       "output_type": "stream",
       "stream": "stdout",
       "text": [
        "\r",
        "Computed shortest paths for frame 565"
       ]
      },
      {
       "output_type": "stream",
       "stream": "stdout",
       "text": [
        "\r",
        "Computed shortest paths for frame 566"
       ]
      },
      {
       "output_type": "stream",
       "stream": "stdout",
       "text": [
        "\r",
        "Computed shortest paths for frame 567"
       ]
      },
      {
       "output_type": "stream",
       "stream": "stdout",
       "text": [
        "\r",
        "Computed shortest paths for frame 568"
       ]
      },
      {
       "output_type": "stream",
       "stream": "stdout",
       "text": [
        "\r",
        "Computed shortest paths for frame 569"
       ]
      },
      {
       "output_type": "stream",
       "stream": "stdout",
       "text": [
        "\r",
        "Computed shortest paths for frame 570"
       ]
      },
      {
       "output_type": "stream",
       "stream": "stdout",
       "text": [
        "\r",
        "Computed shortest paths for frame 571"
       ]
      },
      {
       "output_type": "stream",
       "stream": "stdout",
       "text": [
        "\r",
        "Computed shortest paths for frame 572"
       ]
      },
      {
       "output_type": "stream",
       "stream": "stdout",
       "text": [
        "\r",
        "Computed shortest paths for frame 573"
       ]
      },
      {
       "output_type": "stream",
       "stream": "stdout",
       "text": [
        "\r",
        "Computed shortest paths for frame 574"
       ]
      },
      {
       "output_type": "stream",
       "stream": "stdout",
       "text": [
        "\r",
        "Computed shortest paths for frame 575"
       ]
      },
      {
       "output_type": "stream",
       "stream": "stdout",
       "text": [
        "\r",
        "Computed shortest paths for frame 576"
       ]
      },
      {
       "output_type": "stream",
       "stream": "stdout",
       "text": [
        "\r",
        "Computed shortest paths for frame 577"
       ]
      },
      {
       "output_type": "stream",
       "stream": "stdout",
       "text": [
        "\r",
        "Computed shortest paths for frame 578"
       ]
      },
      {
       "output_type": "stream",
       "stream": "stdout",
       "text": [
        "\r",
        "Computed shortest paths for frame 579"
       ]
      },
      {
       "output_type": "stream",
       "stream": "stdout",
       "text": [
        "\r",
        "Computed shortest paths for frame 580"
       ]
      },
      {
       "output_type": "stream",
       "stream": "stdout",
       "text": [
        "\r",
        "Computed shortest paths for frame 581"
       ]
      },
      {
       "output_type": "stream",
       "stream": "stdout",
       "text": [
        "\r",
        "Computed shortest paths for frame 582"
       ]
      },
      {
       "output_type": "stream",
       "stream": "stdout",
       "text": [
        "\r",
        "Computed shortest paths for frame 583"
       ]
      },
      {
       "output_type": "stream",
       "stream": "stdout",
       "text": [
        "\r",
        "Computed shortest paths for frame 584"
       ]
      },
      {
       "output_type": "stream",
       "stream": "stdout",
       "text": [
        "\r",
        "Computed shortest paths for frame 585"
       ]
      },
      {
       "output_type": "stream",
       "stream": "stdout",
       "text": [
        "\r",
        "Computed shortest paths for frame 586"
       ]
      },
      {
       "output_type": "stream",
       "stream": "stdout",
       "text": [
        "\r",
        "Computed shortest paths for frame 587"
       ]
      },
      {
       "output_type": "stream",
       "stream": "stdout",
       "text": [
        "\r",
        "Computed shortest paths for frame 588"
       ]
      },
      {
       "output_type": "stream",
       "stream": "stdout",
       "text": [
        "\r",
        "Computed shortest paths for frame 589"
       ]
      },
      {
       "output_type": "stream",
       "stream": "stdout",
       "text": [
        "\r",
        "Computed shortest paths for frame 590"
       ]
      },
      {
       "output_type": "stream",
       "stream": "stdout",
       "text": [
        "\r",
        "Computed shortest paths for frame 591"
       ]
      },
      {
       "output_type": "stream",
       "stream": "stdout",
       "text": [
        "\r",
        "Computed shortest paths for frame 592"
       ]
      },
      {
       "output_type": "stream",
       "stream": "stdout",
       "text": [
        "\r",
        "Computed shortest paths for frame 593"
       ]
      },
      {
       "output_type": "stream",
       "stream": "stdout",
       "text": [
        "\r",
        "Computed shortest paths for frame 594"
       ]
      },
      {
       "output_type": "stream",
       "stream": "stdout",
       "text": [
        "\r",
        "Computed shortest paths for frame 595"
       ]
      },
      {
       "output_type": "stream",
       "stream": "stdout",
       "text": [
        "\r",
        "Computed shortest paths for frame 596"
       ]
      },
      {
       "output_type": "stream",
       "stream": "stdout",
       "text": [
        "\r",
        "Computed shortest paths for frame 597"
       ]
      },
      {
       "output_type": "stream",
       "stream": "stdout",
       "text": [
        "\r",
        "Computed shortest paths for frame 598"
       ]
      },
      {
       "output_type": "stream",
       "stream": "stdout",
       "text": [
        "\r",
        "Computed shortest paths for frame 599"
       ]
      },
      {
       "output_type": "stream",
       "stream": "stdout",
       "text": [
        "\r",
        "Computed shortest paths for frame 600"
       ]
      },
      {
       "output_type": "stream",
       "stream": "stdout",
       "text": [
        "\r",
        "Computed shortest paths for frame 601"
       ]
      },
      {
       "output_type": "stream",
       "stream": "stdout",
       "text": [
        "\r",
        "Computed shortest paths for frame 602"
       ]
      },
      {
       "output_type": "stream",
       "stream": "stdout",
       "text": [
        "\r",
        "Computed shortest paths for frame 603"
       ]
      },
      {
       "output_type": "stream",
       "stream": "stdout",
       "text": [
        "\r",
        "Computed shortest paths for frame 604"
       ]
      },
      {
       "output_type": "stream",
       "stream": "stdout",
       "text": [
        "\r",
        "Computed shortest paths for frame 605"
       ]
      },
      {
       "output_type": "stream",
       "stream": "stdout",
       "text": [
        "\r",
        "Computed shortest paths for frame 606"
       ]
      },
      {
       "output_type": "stream",
       "stream": "stdout",
       "text": [
        "\r",
        "Computed shortest paths for frame 607"
       ]
      },
      {
       "output_type": "stream",
       "stream": "stdout",
       "text": [
        "\r",
        "Computed shortest paths for frame 608"
       ]
      },
      {
       "output_type": "stream",
       "stream": "stdout",
       "text": [
        "\r",
        "Computed shortest paths for frame 609"
       ]
      },
      {
       "output_type": "stream",
       "stream": "stdout",
       "text": [
        "\r",
        "Computed shortest paths for frame 610"
       ]
      },
      {
       "output_type": "stream",
       "stream": "stdout",
       "text": [
        "\r",
        "Computed shortest paths for frame 611"
       ]
      },
      {
       "output_type": "stream",
       "stream": "stdout",
       "text": [
        "\r",
        "Computed shortest paths for frame 612"
       ]
      },
      {
       "output_type": "stream",
       "stream": "stdout",
       "text": [
        "\r",
        "Computed shortest paths for frame 613"
       ]
      },
      {
       "output_type": "stream",
       "stream": "stdout",
       "text": [
        "\r",
        "Computed shortest paths for frame 614"
       ]
      },
      {
       "output_type": "stream",
       "stream": "stdout",
       "text": [
        "\r",
        "Computed shortest paths for frame 615"
       ]
      },
      {
       "output_type": "stream",
       "stream": "stdout",
       "text": [
        "\r",
        "Computed shortest paths for frame 616"
       ]
      },
      {
       "output_type": "stream",
       "stream": "stdout",
       "text": [
        "\r",
        "Computed shortest paths for frame 617"
       ]
      },
      {
       "output_type": "stream",
       "stream": "stdout",
       "text": [
        "\r",
        "Computed shortest paths for frame 618"
       ]
      },
      {
       "output_type": "stream",
       "stream": "stdout",
       "text": [
        "\r",
        "Computed shortest paths for frame 619"
       ]
      },
      {
       "output_type": "stream",
       "stream": "stdout",
       "text": [
        "\r",
        "Computed shortest paths for frame 620"
       ]
      },
      {
       "output_type": "stream",
       "stream": "stdout",
       "text": [
        "\r",
        "Computed shortest paths for frame 621"
       ]
      },
      {
       "output_type": "stream",
       "stream": "stdout",
       "text": [
        "\r",
        "Computed shortest paths for frame 622"
       ]
      },
      {
       "output_type": "stream",
       "stream": "stdout",
       "text": [
        "\r",
        "Computed shortest paths for frame 623"
       ]
      },
      {
       "output_type": "stream",
       "stream": "stdout",
       "text": [
        "\r",
        "Computed shortest paths for frame 624"
       ]
      },
      {
       "output_type": "stream",
       "stream": "stdout",
       "text": [
        "\r",
        "Computed shortest paths for frame 625"
       ]
      },
      {
       "output_type": "stream",
       "stream": "stdout",
       "text": [
        "\r",
        "Computed shortest paths for frame 626"
       ]
      },
      {
       "output_type": "stream",
       "stream": "stdout",
       "text": [
        "\r",
        "Computed shortest paths for frame 627"
       ]
      },
      {
       "output_type": "stream",
       "stream": "stdout",
       "text": [
        "\r",
        "Computed shortest paths for frame 628"
       ]
      },
      {
       "output_type": "stream",
       "stream": "stdout",
       "text": [
        "\r",
        "Computed shortest paths for frame 629"
       ]
      },
      {
       "output_type": "stream",
       "stream": "stdout",
       "text": [
        "\r",
        "Computed shortest paths for frame 630"
       ]
      },
      {
       "output_type": "stream",
       "stream": "stdout",
       "text": [
        "\r",
        "Computed shortest paths for frame 631"
       ]
      },
      {
       "output_type": "stream",
       "stream": "stdout",
       "text": [
        "\r",
        "Computed shortest paths for frame 632"
       ]
      },
      {
       "output_type": "stream",
       "stream": "stdout",
       "text": [
        "\r",
        "Computed shortest paths for frame 633"
       ]
      },
      {
       "output_type": "stream",
       "stream": "stdout",
       "text": [
        "\r",
        "Computed shortest paths for frame 634"
       ]
      },
      {
       "output_type": "stream",
       "stream": "stdout",
       "text": [
        "\r",
        "Computed shortest paths for frame 635"
       ]
      },
      {
       "output_type": "stream",
       "stream": "stdout",
       "text": [
        "\r",
        "Computed shortest paths for frame 636"
       ]
      },
      {
       "output_type": "stream",
       "stream": "stdout",
       "text": [
        "\r",
        "Computed shortest paths for frame 637"
       ]
      },
      {
       "output_type": "stream",
       "stream": "stdout",
       "text": [
        "\r",
        "Computed shortest paths for frame 638"
       ]
      },
      {
       "output_type": "stream",
       "stream": "stdout",
       "text": [
        "\r",
        "Computed shortest paths for frame 639"
       ]
      },
      {
       "output_type": "stream",
       "stream": "stdout",
       "text": [
        "\r",
        "Computed shortest paths for frame 640"
       ]
      },
      {
       "output_type": "stream",
       "stream": "stdout",
       "text": [
        "\r",
        "Computed shortest paths for frame 641"
       ]
      },
      {
       "output_type": "stream",
       "stream": "stdout",
       "text": [
        "\r",
        "Computed shortest paths for frame 642"
       ]
      },
      {
       "output_type": "stream",
       "stream": "stdout",
       "text": [
        "\r",
        "Computed shortest paths for frame 643"
       ]
      },
      {
       "output_type": "stream",
       "stream": "stdout",
       "text": [
        "\r",
        "Computed shortest paths for frame 644"
       ]
      },
      {
       "output_type": "stream",
       "stream": "stdout",
       "text": [
        "\r",
        "Computed shortest paths for frame 645"
       ]
      },
      {
       "output_type": "stream",
       "stream": "stdout",
       "text": [
        "\r",
        "Computed shortest paths for frame 646"
       ]
      },
      {
       "output_type": "stream",
       "stream": "stdout",
       "text": [
        "\r",
        "Computed shortest paths for frame 647"
       ]
      },
      {
       "output_type": "stream",
       "stream": "stdout",
       "text": [
        "\r",
        "Computed shortest paths for frame 648"
       ]
      },
      {
       "output_type": "stream",
       "stream": "stdout",
       "text": [
        "\r",
        "Computed shortest paths for frame 649"
       ]
      },
      {
       "output_type": "stream",
       "stream": "stdout",
       "text": [
        "\r",
        "Computed shortest paths for frame 650"
       ]
      },
      {
       "output_type": "stream",
       "stream": "stdout",
       "text": [
        "\r",
        "Computed shortest paths for frame 651"
       ]
      },
      {
       "output_type": "stream",
       "stream": "stdout",
       "text": [
        "\r",
        "Computed shortest paths for frame 652"
       ]
      },
      {
       "output_type": "stream",
       "stream": "stdout",
       "text": [
        "\r",
        "Computed shortest paths for frame 653"
       ]
      },
      {
       "output_type": "stream",
       "stream": "stdout",
       "text": [
        "\r",
        "Computed shortest paths for frame 654"
       ]
      },
      {
       "output_type": "stream",
       "stream": "stdout",
       "text": [
        "\r",
        "Computed shortest paths for frame 655"
       ]
      },
      {
       "output_type": "stream",
       "stream": "stdout",
       "text": [
        "\r",
        "Computed shortest paths for frame 656"
       ]
      },
      {
       "output_type": "stream",
       "stream": "stdout",
       "text": [
        "\r",
        "Computed shortest paths for frame 657"
       ]
      },
      {
       "output_type": "stream",
       "stream": "stdout",
       "text": [
        "\r",
        "Computed shortest paths for frame 658"
       ]
      },
      {
       "output_type": "stream",
       "stream": "stdout",
       "text": [
        "\r",
        "Computed shortest paths for frame 659"
       ]
      },
      {
       "output_type": "stream",
       "stream": "stdout",
       "text": [
        "\r",
        "Computed shortest paths for frame 660"
       ]
      },
      {
       "output_type": "stream",
       "stream": "stdout",
       "text": [
        "\r",
        "Computed shortest paths for frame 661"
       ]
      },
      {
       "output_type": "stream",
       "stream": "stdout",
       "text": [
        "\r",
        "Computed shortest paths for frame 662"
       ]
      },
      {
       "output_type": "stream",
       "stream": "stdout",
       "text": [
        "\r",
        "Computed shortest paths for frame 663"
       ]
      },
      {
       "output_type": "stream",
       "stream": "stdout",
       "text": [
        "\r",
        "Computed shortest paths for frame 664"
       ]
      },
      {
       "output_type": "stream",
       "stream": "stdout",
       "text": [
        "\r",
        "Computed shortest paths for frame 665"
       ]
      },
      {
       "output_type": "stream",
       "stream": "stdout",
       "text": [
        "\r",
        "Computed shortest paths for frame 666"
       ]
      },
      {
       "output_type": "stream",
       "stream": "stdout",
       "text": [
        "\r",
        "Computed shortest paths for frame 667"
       ]
      },
      {
       "output_type": "stream",
       "stream": "stdout",
       "text": [
        "\r",
        "Computed shortest paths for frame 668"
       ]
      },
      {
       "output_type": "stream",
       "stream": "stdout",
       "text": [
        "\r",
        "Computed shortest paths for frame 669"
       ]
      },
      {
       "output_type": "stream",
       "stream": "stdout",
       "text": [
        "\r",
        "Computed shortest paths for frame 670"
       ]
      },
      {
       "output_type": "stream",
       "stream": "stdout",
       "text": [
        "\r",
        "Computed shortest paths for frame 671"
       ]
      },
      {
       "output_type": "stream",
       "stream": "stdout",
       "text": [
        "\r",
        "Computed shortest paths for frame 672"
       ]
      },
      {
       "output_type": "stream",
       "stream": "stdout",
       "text": [
        "\r",
        "Computed shortest paths for frame 673"
       ]
      },
      {
       "output_type": "stream",
       "stream": "stdout",
       "text": [
        "\r",
        "Computed shortest paths for frame 674"
       ]
      },
      {
       "output_type": "stream",
       "stream": "stdout",
       "text": [
        "\r",
        "Computed shortest paths for frame 675"
       ]
      },
      {
       "output_type": "stream",
       "stream": "stdout",
       "text": [
        "\r",
        "Computed shortest paths for frame 676"
       ]
      },
      {
       "output_type": "stream",
       "stream": "stdout",
       "text": [
        "\r",
        "Computed shortest paths for frame 677"
       ]
      },
      {
       "output_type": "stream",
       "stream": "stdout",
       "text": [
        "\r",
        "Computed shortest paths for frame 678"
       ]
      },
      {
       "output_type": "stream",
       "stream": "stdout",
       "text": [
        "\r",
        "Computed shortest paths for frame 679"
       ]
      },
      {
       "output_type": "stream",
       "stream": "stdout",
       "text": [
        "\r",
        "Computed shortest paths for frame 680"
       ]
      },
      {
       "output_type": "stream",
       "stream": "stdout",
       "text": [
        "\r",
        "Computed shortest paths for frame 681"
       ]
      },
      {
       "output_type": "stream",
       "stream": "stdout",
       "text": [
        "\r",
        "Computed shortest paths for frame 682"
       ]
      },
      {
       "output_type": "stream",
       "stream": "stdout",
       "text": [
        "\r",
        "Computed shortest paths for frame 683"
       ]
      },
      {
       "output_type": "stream",
       "stream": "stdout",
       "text": [
        "\r",
        "Computed shortest paths for frame 684"
       ]
      },
      {
       "output_type": "stream",
       "stream": "stdout",
       "text": [
        "\r",
        "Computed shortest paths for frame 685"
       ]
      },
      {
       "output_type": "stream",
       "stream": "stdout",
       "text": [
        "\r",
        "Computed shortest paths for frame 686"
       ]
      },
      {
       "output_type": "stream",
       "stream": "stdout",
       "text": [
        "\r",
        "Computed shortest paths for frame 687"
       ]
      },
      {
       "output_type": "stream",
       "stream": "stdout",
       "text": [
        "\r",
        "Computed shortest paths for frame 688"
       ]
      },
      {
       "output_type": "stream",
       "stream": "stdout",
       "text": [
        "\r",
        "Computed shortest paths for frame 689"
       ]
      },
      {
       "output_type": "stream",
       "stream": "stdout",
       "text": [
        "\r",
        "Computed shortest paths for frame 690"
       ]
      },
      {
       "output_type": "stream",
       "stream": "stdout",
       "text": [
        "\r",
        "Computed shortest paths for frame 691"
       ]
      },
      {
       "output_type": "stream",
       "stream": "stdout",
       "text": [
        "\r",
        "Computed shortest paths for frame 692"
       ]
      },
      {
       "output_type": "stream",
       "stream": "stdout",
       "text": [
        "\r",
        "Computed shortest paths for frame 693"
       ]
      },
      {
       "output_type": "stream",
       "stream": "stdout",
       "text": [
        "\r",
        "Computed shortest paths for frame 694"
       ]
      },
      {
       "output_type": "stream",
       "stream": "stdout",
       "text": [
        "\r",
        "Computed shortest paths for frame 695"
       ]
      },
      {
       "output_type": "stream",
       "stream": "stdout",
       "text": [
        "\r",
        "Computed shortest paths for frame 696"
       ]
      },
      {
       "output_type": "stream",
       "stream": "stdout",
       "text": [
        "\r",
        "Computed shortest paths for frame 697"
       ]
      },
      {
       "output_type": "stream",
       "stream": "stdout",
       "text": [
        "\r",
        "Computed shortest paths for frame 698"
       ]
      },
      {
       "output_type": "stream",
       "stream": "stdout",
       "text": [
        "\r",
        "Computed shortest paths for frame 699"
       ]
      },
      {
       "output_type": "stream",
       "stream": "stdout",
       "text": [
        "\r",
        "Computed shortest paths for frame 700"
       ]
      },
      {
       "output_type": "stream",
       "stream": "stdout",
       "text": [
        "\r",
        "Computed shortest paths for frame 701"
       ]
      },
      {
       "output_type": "stream",
       "stream": "stdout",
       "text": [
        "\r",
        "Computed shortest paths for frame 702"
       ]
      },
      {
       "output_type": "stream",
       "stream": "stdout",
       "text": [
        "\r",
        "Computed shortest paths for frame 703"
       ]
      },
      {
       "output_type": "stream",
       "stream": "stdout",
       "text": [
        "\r",
        "Computed shortest paths for frame 704"
       ]
      },
      {
       "output_type": "stream",
       "stream": "stdout",
       "text": [
        "\r",
        "Computed shortest paths for frame 705"
       ]
      },
      {
       "output_type": "stream",
       "stream": "stdout",
       "text": [
        "\r",
        "Computed shortest paths for frame 706"
       ]
      },
      {
       "output_type": "stream",
       "stream": "stdout",
       "text": [
        "\r",
        "Computed shortest paths for frame 707"
       ]
      },
      {
       "output_type": "stream",
       "stream": "stdout",
       "text": [
        "\r",
        "Computed shortest paths for frame 708"
       ]
      },
      {
       "output_type": "stream",
       "stream": "stdout",
       "text": [
        "\r",
        "Computed shortest paths for frame 709"
       ]
      },
      {
       "output_type": "stream",
       "stream": "stdout",
       "text": [
        "\r",
        "Computed shortest paths for frame 710"
       ]
      },
      {
       "output_type": "stream",
       "stream": "stdout",
       "text": [
        "\r",
        "Computed shortest paths for frame 711"
       ]
      },
      {
       "output_type": "stream",
       "stream": "stdout",
       "text": [
        "\r",
        "Computed shortest paths for frame 712"
       ]
      },
      {
       "output_type": "stream",
       "stream": "stdout",
       "text": [
        "\r",
        "Computed shortest paths for frame 713"
       ]
      },
      {
       "output_type": "stream",
       "stream": "stdout",
       "text": [
        "\r",
        "Computed shortest paths for frame 714"
       ]
      },
      {
       "output_type": "stream",
       "stream": "stdout",
       "text": [
        "\r",
        "Computed shortest paths for frame 715"
       ]
      },
      {
       "output_type": "stream",
       "stream": "stdout",
       "text": [
        "\r",
        "Computed shortest paths for frame 716"
       ]
      },
      {
       "output_type": "stream",
       "stream": "stdout",
       "text": [
        "\r",
        "Computed shortest paths for frame 717"
       ]
      },
      {
       "output_type": "stream",
       "stream": "stdout",
       "text": [
        "\r",
        "Computed shortest paths for frame 718"
       ]
      },
      {
       "output_type": "stream",
       "stream": "stdout",
       "text": [
        "\r",
        "Computed shortest paths for frame 719"
       ]
      },
      {
       "output_type": "stream",
       "stream": "stdout",
       "text": [
        "\r",
        "Computed shortest paths for frame 720"
       ]
      },
      {
       "output_type": "stream",
       "stream": "stdout",
       "text": [
        "\r",
        "Computed shortest paths for frame 721"
       ]
      },
      {
       "output_type": "stream",
       "stream": "stdout",
       "text": [
        "\r",
        "Computed shortest paths for frame 722"
       ]
      },
      {
       "output_type": "stream",
       "stream": "stdout",
       "text": [
        "\r",
        "Computed shortest paths for frame 723"
       ]
      },
      {
       "output_type": "stream",
       "stream": "stdout",
       "text": [
        "\r",
        "Computed shortest paths for frame 724"
       ]
      },
      {
       "output_type": "stream",
       "stream": "stdout",
       "text": [
        "\r",
        "Computed shortest paths for frame 725"
       ]
      },
      {
       "output_type": "stream",
       "stream": "stdout",
       "text": [
        "\r",
        "Computed shortest paths for frame 726"
       ]
      },
      {
       "output_type": "stream",
       "stream": "stdout",
       "text": [
        "\r",
        "Computed shortest paths for frame 727"
       ]
      },
      {
       "output_type": "stream",
       "stream": "stdout",
       "text": [
        "\r",
        "Computed shortest paths for frame 728"
       ]
      },
      {
       "output_type": "stream",
       "stream": "stdout",
       "text": [
        "\r",
        "Computed shortest paths for frame 729"
       ]
      },
      {
       "output_type": "stream",
       "stream": "stdout",
       "text": [
        "\r",
        "Computed shortest paths for frame 730"
       ]
      },
      {
       "output_type": "stream",
       "stream": "stdout",
       "text": [
        "\r",
        "Computed shortest paths for frame 731"
       ]
      },
      {
       "output_type": "stream",
       "stream": "stdout",
       "text": [
        "\r",
        "Computed shortest paths for frame 732"
       ]
      },
      {
       "output_type": "stream",
       "stream": "stdout",
       "text": [
        "\r",
        "Computed shortest paths for frame 733"
       ]
      },
      {
       "output_type": "stream",
       "stream": "stdout",
       "text": [
        "\r",
        "Computed shortest paths for frame 734"
       ]
      },
      {
       "output_type": "stream",
       "stream": "stdout",
       "text": [
        "\r",
        "Computed shortest paths for frame 735"
       ]
      },
      {
       "output_type": "stream",
       "stream": "stdout",
       "text": [
        "\r",
        "Computed shortest paths for frame 736"
       ]
      },
      {
       "output_type": "stream",
       "stream": "stdout",
       "text": [
        "\r",
        "Computed shortest paths for frame 737"
       ]
      },
      {
       "output_type": "stream",
       "stream": "stdout",
       "text": [
        "\r",
        "Computed shortest paths for frame 738"
       ]
      },
      {
       "output_type": "stream",
       "stream": "stdout",
       "text": [
        "\r",
        "Computed shortest paths for frame 739"
       ]
      },
      {
       "output_type": "stream",
       "stream": "stdout",
       "text": [
        "\r",
        "Computed shortest paths for frame 740"
       ]
      },
      {
       "output_type": "stream",
       "stream": "stdout",
       "text": [
        "\r",
        "Computed shortest paths for frame 741"
       ]
      },
      {
       "output_type": "stream",
       "stream": "stdout",
       "text": [
        "\r",
        "Computed shortest paths for frame 742"
       ]
      },
      {
       "output_type": "stream",
       "stream": "stdout",
       "text": [
        "\r",
        "Computed shortest paths for frame 743"
       ]
      },
      {
       "output_type": "stream",
       "stream": "stdout",
       "text": [
        "\r",
        "Computed shortest paths for frame 744"
       ]
      },
      {
       "output_type": "stream",
       "stream": "stdout",
       "text": [
        "\r",
        "Computed shortest paths for frame 745"
       ]
      },
      {
       "output_type": "stream",
       "stream": "stdout",
       "text": [
        "\r",
        "Computed shortest paths for frame 746"
       ]
      },
      {
       "output_type": "stream",
       "stream": "stdout",
       "text": [
        "\r",
        "Computed shortest paths for frame 747"
       ]
      },
      {
       "output_type": "stream",
       "stream": "stdout",
       "text": [
        "\r",
        "Computed shortest paths for frame 748"
       ]
      },
      {
       "output_type": "stream",
       "stream": "stdout",
       "text": [
        "\r",
        "Computed shortest paths for frame 749"
       ]
      },
      {
       "output_type": "stream",
       "stream": "stdout",
       "text": [
        "\r",
        "Computed shortest paths for frame 750"
       ]
      },
      {
       "output_type": "stream",
       "stream": "stdout",
       "text": [
        "\r",
        "Computed shortest paths for frame 751"
       ]
      },
      {
       "output_type": "stream",
       "stream": "stdout",
       "text": [
        "\r",
        "Computed shortest paths for frame 752"
       ]
      },
      {
       "output_type": "stream",
       "stream": "stdout",
       "text": [
        "\r",
        "Computed shortest paths for frame 753"
       ]
      },
      {
       "output_type": "stream",
       "stream": "stdout",
       "text": [
        "\r",
        "Computed shortest paths for frame 754"
       ]
      },
      {
       "output_type": "stream",
       "stream": "stdout",
       "text": [
        "\r",
        "Computed shortest paths for frame 755"
       ]
      },
      {
       "output_type": "stream",
       "stream": "stdout",
       "text": [
        "\r",
        "Computed shortest paths for frame 756"
       ]
      },
      {
       "output_type": "stream",
       "stream": "stdout",
       "text": [
        "\r",
        "Computed shortest paths for frame 757"
       ]
      },
      {
       "output_type": "stream",
       "stream": "stdout",
       "text": [
        "\r",
        "Computed shortest paths for frame 758"
       ]
      },
      {
       "output_type": "stream",
       "stream": "stdout",
       "text": [
        "\r",
        "Computed shortest paths for frame 759"
       ]
      },
      {
       "output_type": "stream",
       "stream": "stdout",
       "text": [
        "\r",
        "Computed shortest paths for frame 760"
       ]
      },
      {
       "output_type": "stream",
       "stream": "stdout",
       "text": [
        "\r",
        "Computed shortest paths for frame 761"
       ]
      },
      {
       "output_type": "stream",
       "stream": "stdout",
       "text": [
        "\r",
        "Computed shortest paths for frame 762"
       ]
      },
      {
       "output_type": "stream",
       "stream": "stdout",
       "text": [
        "\r",
        "Computed shortest paths for frame 763"
       ]
      },
      {
       "output_type": "stream",
       "stream": "stdout",
       "text": [
        "\r",
        "Computed shortest paths for frame 764"
       ]
      },
      {
       "output_type": "stream",
       "stream": "stdout",
       "text": [
        "\r",
        "Computed shortest paths for frame 765"
       ]
      },
      {
       "output_type": "stream",
       "stream": "stdout",
       "text": [
        "\r",
        "Computed shortest paths for frame 766"
       ]
      },
      {
       "output_type": "stream",
       "stream": "stdout",
       "text": [
        "\r",
        "Computed shortest paths for frame 767"
       ]
      },
      {
       "output_type": "stream",
       "stream": "stdout",
       "text": [
        "\r",
        "Computed shortest paths for frame 768"
       ]
      },
      {
       "output_type": "stream",
       "stream": "stdout",
       "text": [
        "\r",
        "Computed shortest paths for frame 769"
       ]
      },
      {
       "output_type": "stream",
       "stream": "stdout",
       "text": [
        "\r",
        "Computed shortest paths for frame 770"
       ]
      },
      {
       "output_type": "stream",
       "stream": "stdout",
       "text": [
        "\r",
        "Computed shortest paths for frame 771"
       ]
      },
      {
       "output_type": "stream",
       "stream": "stdout",
       "text": [
        "\r",
        "Computed shortest paths for frame 772"
       ]
      },
      {
       "output_type": "stream",
       "stream": "stdout",
       "text": [
        "\r",
        "Computed shortest paths for frame 773"
       ]
      },
      {
       "output_type": "stream",
       "stream": "stdout",
       "text": [
        "\r",
        "Computed shortest paths for frame 774"
       ]
      },
      {
       "output_type": "stream",
       "stream": "stdout",
       "text": [
        "\r",
        "Computed shortest paths for frame 775"
       ]
      },
      {
       "output_type": "stream",
       "stream": "stdout",
       "text": [
        "\r",
        "Computed shortest paths for frame 776"
       ]
      },
      {
       "output_type": "stream",
       "stream": "stdout",
       "text": [
        "\r",
        "Computed shortest paths for frame 777"
       ]
      },
      {
       "output_type": "stream",
       "stream": "stdout",
       "text": [
        "\r",
        "Computed shortest paths for frame 778"
       ]
      },
      {
       "output_type": "stream",
       "stream": "stdout",
       "text": [
        "\r",
        "Computed shortest paths for frame 779"
       ]
      },
      {
       "output_type": "stream",
       "stream": "stdout",
       "text": [
        "\r",
        "Computed shortest paths for frame 780"
       ]
      },
      {
       "output_type": "stream",
       "stream": "stdout",
       "text": [
        "\r",
        "Computed shortest paths for frame 781"
       ]
      },
      {
       "output_type": "stream",
       "stream": "stdout",
       "text": [
        "\r",
        "Computed shortest paths for frame 782"
       ]
      },
      {
       "output_type": "stream",
       "stream": "stdout",
       "text": [
        "\r",
        "Computed shortest paths for frame 783"
       ]
      },
      {
       "output_type": "stream",
       "stream": "stdout",
       "text": [
        "\r",
        "Computed shortest paths for frame 784"
       ]
      },
      {
       "output_type": "stream",
       "stream": "stdout",
       "text": [
        "\r",
        "Computed shortest paths for frame 785"
       ]
      },
      {
       "output_type": "stream",
       "stream": "stdout",
       "text": [
        "\r",
        "Computed shortest paths for frame 786"
       ]
      },
      {
       "output_type": "stream",
       "stream": "stdout",
       "text": [
        "\r",
        "Computed shortest paths for frame 787"
       ]
      },
      {
       "output_type": "stream",
       "stream": "stdout",
       "text": [
        "\r",
        "Computed shortest paths for frame 788"
       ]
      },
      {
       "output_type": "stream",
       "stream": "stdout",
       "text": [
        "\r",
        "Computed shortest paths for frame 789"
       ]
      },
      {
       "output_type": "stream",
       "stream": "stdout",
       "text": [
        "\r",
        "Computed shortest paths for frame 790"
       ]
      },
      {
       "output_type": "stream",
       "stream": "stdout",
       "text": [
        "\r",
        "Computed shortest paths for frame 791"
       ]
      },
      {
       "output_type": "stream",
       "stream": "stdout",
       "text": [
        "\r",
        "Computed shortest paths for frame 792"
       ]
      },
      {
       "output_type": "stream",
       "stream": "stdout",
       "text": [
        "\r",
        "Computed shortest paths for frame 793"
       ]
      },
      {
       "output_type": "stream",
       "stream": "stdout",
       "text": [
        "\r",
        "Computed shortest paths for frame 794"
       ]
      },
      {
       "output_type": "stream",
       "stream": "stdout",
       "text": [
        "\r",
        "Computed shortest paths for frame 795"
       ]
      },
      {
       "output_type": "stream",
       "stream": "stdout",
       "text": [
        "\r",
        "Computed shortest paths for frame 796"
       ]
      },
      {
       "output_type": "stream",
       "stream": "stdout",
       "text": [
        "\r",
        "Computed shortest paths for frame 797"
       ]
      },
      {
       "output_type": "stream",
       "stream": "stdout",
       "text": [
        "\r",
        "Computed shortest paths for frame 798"
       ]
      },
      {
       "output_type": "stream",
       "stream": "stdout",
       "text": [
        "\r",
        "Computed shortest paths for frame 799"
       ]
      },
      {
       "output_type": "stream",
       "stream": "stdout",
       "text": [
        "\r",
        "Computed shortest paths for frame 800"
       ]
      },
      {
       "output_type": "stream",
       "stream": "stdout",
       "text": [
        "\r",
        "Computed shortest paths for frame 801"
       ]
      },
      {
       "output_type": "stream",
       "stream": "stdout",
       "text": [
        "\r",
        "Computed shortest paths for frame 802"
       ]
      },
      {
       "output_type": "stream",
       "stream": "stdout",
       "text": [
        "\r",
        "Computed shortest paths for frame 803"
       ]
      },
      {
       "output_type": "stream",
       "stream": "stdout",
       "text": [
        "\r",
        "Computed shortest paths for frame 804"
       ]
      },
      {
       "output_type": "stream",
       "stream": "stdout",
       "text": [
        "\r",
        "Computed shortest paths for frame 805"
       ]
      },
      {
       "output_type": "stream",
       "stream": "stdout",
       "text": [
        "\r",
        "Computed shortest paths for frame 806"
       ]
      },
      {
       "output_type": "stream",
       "stream": "stdout",
       "text": [
        "\r",
        "Computed shortest paths for frame 807"
       ]
      },
      {
       "output_type": "stream",
       "stream": "stdout",
       "text": [
        "\r",
        "Computed shortest paths for frame 808"
       ]
      },
      {
       "output_type": "stream",
       "stream": "stdout",
       "text": [
        "\r",
        "Computed shortest paths for frame 809"
       ]
      },
      {
       "output_type": "stream",
       "stream": "stdout",
       "text": [
        "\r",
        "Computed shortest paths for frame 810"
       ]
      },
      {
       "output_type": "stream",
       "stream": "stdout",
       "text": [
        "\r",
        "Computed shortest paths for frame 811"
       ]
      },
      {
       "output_type": "stream",
       "stream": "stdout",
       "text": [
        "\r",
        "Computed shortest paths for frame 812"
       ]
      },
      {
       "output_type": "stream",
       "stream": "stdout",
       "text": [
        "\r",
        "Computed shortest paths for frame 813"
       ]
      },
      {
       "output_type": "stream",
       "stream": "stdout",
       "text": [
        "\r",
        "Computed shortest paths for frame 814"
       ]
      },
      {
       "output_type": "stream",
       "stream": "stdout",
       "text": [
        "\r",
        "Computed shortest paths for frame 815"
       ]
      },
      {
       "output_type": "stream",
       "stream": "stdout",
       "text": [
        "\r",
        "Computed shortest paths for frame 816"
       ]
      },
      {
       "output_type": "stream",
       "stream": "stdout",
       "text": [
        "\r",
        "Computed shortest paths for frame 817"
       ]
      },
      {
       "output_type": "stream",
       "stream": "stdout",
       "text": [
        "\r",
        "Computed shortest paths for frame 818"
       ]
      },
      {
       "output_type": "stream",
       "stream": "stdout",
       "text": [
        "\r",
        "Computed shortest paths for frame 819"
       ]
      },
      {
       "output_type": "stream",
       "stream": "stdout",
       "text": [
        "\r",
        "Computed shortest paths for frame 820"
       ]
      },
      {
       "output_type": "stream",
       "stream": "stdout",
       "text": [
        "\r",
        "Computed shortest paths for frame 821"
       ]
      },
      {
       "output_type": "stream",
       "stream": "stdout",
       "text": [
        "\r",
        "Computed shortest paths for frame 822"
       ]
      },
      {
       "output_type": "stream",
       "stream": "stdout",
       "text": [
        "\r",
        "Computed shortest paths for frame 823"
       ]
      },
      {
       "output_type": "stream",
       "stream": "stdout",
       "text": [
        "\r",
        "Computed shortest paths for frame 824"
       ]
      },
      {
       "output_type": "stream",
       "stream": "stdout",
       "text": [
        "\r",
        "Computed shortest paths for frame 825"
       ]
      },
      {
       "output_type": "stream",
       "stream": "stdout",
       "text": [
        "\r",
        "Computed shortest paths for frame 826"
       ]
      },
      {
       "output_type": "stream",
       "stream": "stdout",
       "text": [
        "\r",
        "Computed shortest paths for frame 827"
       ]
      },
      {
       "output_type": "stream",
       "stream": "stdout",
       "text": [
        "\r",
        "Computed shortest paths for frame 828"
       ]
      },
      {
       "output_type": "stream",
       "stream": "stdout",
       "text": [
        "\r",
        "Computed shortest paths for frame 829"
       ]
      },
      {
       "output_type": "stream",
       "stream": "stdout",
       "text": [
        "\r",
        "Computed shortest paths for frame 830"
       ]
      },
      {
       "output_type": "stream",
       "stream": "stdout",
       "text": [
        "\r",
        "Computed shortest paths for frame 831"
       ]
      },
      {
       "output_type": "stream",
       "stream": "stdout",
       "text": [
        "\r",
        "Computed shortest paths for frame 832"
       ]
      },
      {
       "output_type": "stream",
       "stream": "stdout",
       "text": [
        "\r",
        "Computed shortest paths for frame 833"
       ]
      },
      {
       "output_type": "stream",
       "stream": "stdout",
       "text": [
        "\r",
        "Computed shortest paths for frame 834"
       ]
      },
      {
       "output_type": "stream",
       "stream": "stdout",
       "text": [
        "\r",
        "Computed shortest paths for frame 835"
       ]
      },
      {
       "output_type": "stream",
       "stream": "stdout",
       "text": [
        "\r",
        "Computed shortest paths for frame 836"
       ]
      },
      {
       "output_type": "stream",
       "stream": "stdout",
       "text": [
        "\r",
        "Computed shortest paths for frame 837"
       ]
      },
      {
       "output_type": "stream",
       "stream": "stdout",
       "text": [
        "\r",
        "Computed shortest paths for frame 838"
       ]
      },
      {
       "output_type": "stream",
       "stream": "stdout",
       "text": [
        "\r",
        "Computed shortest paths for frame 839"
       ]
      },
      {
       "output_type": "stream",
       "stream": "stdout",
       "text": [
        "\r",
        "Computed shortest paths for frame 840"
       ]
      },
      {
       "output_type": "stream",
       "stream": "stdout",
       "text": [
        "\r",
        "Computed shortest paths for frame 841"
       ]
      },
      {
       "output_type": "stream",
       "stream": "stdout",
       "text": [
        "\r",
        "Computed shortest paths for frame 842"
       ]
      },
      {
       "output_type": "stream",
       "stream": "stdout",
       "text": [
        "\r",
        "Computed shortest paths for frame 843"
       ]
      },
      {
       "output_type": "stream",
       "stream": "stdout",
       "text": [
        "\r",
        "Computed shortest paths for frame 844"
       ]
      },
      {
       "output_type": "stream",
       "stream": "stdout",
       "text": [
        "\r",
        "Computed shortest paths for frame 845"
       ]
      },
      {
       "output_type": "stream",
       "stream": "stdout",
       "text": [
        "\r",
        "Computed shortest paths for frame 846"
       ]
      },
      {
       "output_type": "stream",
       "stream": "stdout",
       "text": [
        "\r",
        "Computed shortest paths for frame 847"
       ]
      },
      {
       "output_type": "stream",
       "stream": "stdout",
       "text": [
        "\r",
        "Computed shortest paths for frame 848"
       ]
      },
      {
       "output_type": "stream",
       "stream": "stdout",
       "text": [
        "\r",
        "Computed shortest paths for frame 849"
       ]
      },
      {
       "output_type": "stream",
       "stream": "stdout",
       "text": [
        "\r",
        "Computed shortest paths for frame 850"
       ]
      },
      {
       "output_type": "stream",
       "stream": "stdout",
       "text": [
        "\r",
        "Computed shortest paths for frame 851"
       ]
      },
      {
       "output_type": "stream",
       "stream": "stdout",
       "text": [
        "\r",
        "Computed shortest paths for frame 852"
       ]
      },
      {
       "output_type": "stream",
       "stream": "stdout",
       "text": [
        "\r",
        "Computed shortest paths for frame 853"
       ]
      },
      {
       "output_type": "stream",
       "stream": "stdout",
       "text": [
        "\r",
        "Computed shortest paths for frame 854"
       ]
      },
      {
       "output_type": "stream",
       "stream": "stdout",
       "text": [
        "\r",
        "Computed shortest paths for frame 855"
       ]
      },
      {
       "output_type": "stream",
       "stream": "stdout",
       "text": [
        "\r",
        "Computed shortest paths for frame 856"
       ]
      },
      {
       "output_type": "stream",
       "stream": "stdout",
       "text": [
        "\r",
        "Computed shortest paths for frame 857"
       ]
      },
      {
       "output_type": "stream",
       "stream": "stdout",
       "text": [
        "\r",
        "Computed shortest paths for frame 858"
       ]
      },
      {
       "output_type": "stream",
       "stream": "stdout",
       "text": [
        "\r",
        "Computed shortest paths for frame 859"
       ]
      },
      {
       "output_type": "stream",
       "stream": "stdout",
       "text": [
        "\r",
        "Computed shortest paths for frame 860"
       ]
      },
      {
       "output_type": "stream",
       "stream": "stdout",
       "text": [
        "\r",
        "Computed shortest paths for frame 861"
       ]
      },
      {
       "output_type": "stream",
       "stream": "stdout",
       "text": [
        "\r",
        "Computed shortest paths for frame 862"
       ]
      },
      {
       "output_type": "stream",
       "stream": "stdout",
       "text": [
        "\r",
        "Computed shortest paths for frame 863"
       ]
      },
      {
       "output_type": "stream",
       "stream": "stdout",
       "text": [
        "\r",
        "Computed shortest paths for frame 864"
       ]
      },
      {
       "output_type": "stream",
       "stream": "stdout",
       "text": [
        "\r",
        "Computed shortest paths for frame 865"
       ]
      },
      {
       "output_type": "stream",
       "stream": "stdout",
       "text": [
        "\r",
        "Computed shortest paths for frame 866"
       ]
      },
      {
       "output_type": "stream",
       "stream": "stdout",
       "text": [
        "\r",
        "Computed shortest paths for frame 867"
       ]
      },
      {
       "output_type": "stream",
       "stream": "stdout",
       "text": [
        "\r",
        "Computed shortest paths for frame 868"
       ]
      },
      {
       "output_type": "stream",
       "stream": "stdout",
       "text": [
        "\r",
        "Computed shortest paths for frame 869"
       ]
      },
      {
       "output_type": "stream",
       "stream": "stdout",
       "text": [
        "\r",
        "Computed shortest paths for frame 870"
       ]
      },
      {
       "output_type": "stream",
       "stream": "stdout",
       "text": [
        "\r",
        "Computed shortest paths for frame 871"
       ]
      },
      {
       "output_type": "stream",
       "stream": "stdout",
       "text": [
        "\r",
        "Computed shortest paths for frame 872"
       ]
      },
      {
       "output_type": "stream",
       "stream": "stdout",
       "text": [
        "\r",
        "Computed shortest paths for frame 873"
       ]
      },
      {
       "output_type": "stream",
       "stream": "stdout",
       "text": [
        "\r",
        "Computed shortest paths for frame 874"
       ]
      },
      {
       "output_type": "stream",
       "stream": "stdout",
       "text": [
        "\r",
        "Computed shortest paths for frame 875"
       ]
      },
      {
       "output_type": "stream",
       "stream": "stdout",
       "text": [
        "\r",
        "Computed shortest paths for frame 876"
       ]
      },
      {
       "output_type": "stream",
       "stream": "stdout",
       "text": [
        "\r",
        "Computed shortest paths for frame 877"
       ]
      },
      {
       "output_type": "stream",
       "stream": "stdout",
       "text": [
        "\r",
        "Computed shortest paths for frame 878"
       ]
      },
      {
       "output_type": "stream",
       "stream": "stdout",
       "text": [
        "\r",
        "Computed shortest paths for frame 879"
       ]
      },
      {
       "output_type": "stream",
       "stream": "stdout",
       "text": [
        "\r",
        "Computed shortest paths for frame 880"
       ]
      },
      {
       "output_type": "stream",
       "stream": "stdout",
       "text": [
        "\r",
        "Computed shortest paths for frame 881"
       ]
      },
      {
       "output_type": "stream",
       "stream": "stdout",
       "text": [
        "\r",
        "Computed shortest paths for frame 882"
       ]
      },
      {
       "output_type": "stream",
       "stream": "stdout",
       "text": [
        "\r",
        "Computed shortest paths for frame 883"
       ]
      },
      {
       "output_type": "stream",
       "stream": "stdout",
       "text": [
        "\r",
        "Computed shortest paths for frame 884"
       ]
      },
      {
       "output_type": "stream",
       "stream": "stdout",
       "text": [
        "\r",
        "Computed shortest paths for frame 885"
       ]
      },
      {
       "output_type": "stream",
       "stream": "stdout",
       "text": [
        "\r",
        "Computed shortest paths for frame 886"
       ]
      },
      {
       "output_type": "stream",
       "stream": "stdout",
       "text": [
        "\r",
        "Computed shortest paths for frame 887"
       ]
      },
      {
       "output_type": "stream",
       "stream": "stdout",
       "text": [
        "\r",
        "Computed shortest paths for frame 888"
       ]
      },
      {
       "output_type": "stream",
       "stream": "stdout",
       "text": [
        "\r",
        "Computed shortest paths for frame 889"
       ]
      },
      {
       "output_type": "stream",
       "stream": "stdout",
       "text": [
        "\r",
        "Computed shortest paths for frame 890"
       ]
      },
      {
       "output_type": "stream",
       "stream": "stdout",
       "text": [
        "\r",
        "Computed shortest paths for frame 891"
       ]
      },
      {
       "output_type": "stream",
       "stream": "stdout",
       "text": [
        "\r",
        "Computed shortest paths for frame 892"
       ]
      },
      {
       "output_type": "stream",
       "stream": "stdout",
       "text": [
        "\r",
        "Computed shortest paths for frame 893"
       ]
      },
      {
       "output_type": "stream",
       "stream": "stdout",
       "text": [
        "\r",
        "Computed shortest paths for frame 894"
       ]
      },
      {
       "output_type": "stream",
       "stream": "stdout",
       "text": [
        "\r",
        "Computed shortest paths for frame 895"
       ]
      },
      {
       "output_type": "stream",
       "stream": "stdout",
       "text": [
        "\r",
        "Computed shortest paths for frame 896"
       ]
      },
      {
       "output_type": "stream",
       "stream": "stdout",
       "text": [
        "\r",
        "Computed shortest paths for frame 897"
       ]
      },
      {
       "output_type": "stream",
       "stream": "stdout",
       "text": [
        "\r",
        "Computed shortest paths for frame 898"
       ]
      },
      {
       "output_type": "stream",
       "stream": "stdout",
       "text": [
        "\r",
        "Computed shortest paths for frame 899"
       ]
      },
      {
       "output_type": "stream",
       "stream": "stdout",
       "text": [
        "\r",
        "Computed shortest paths for frame 900"
       ]
      },
      {
       "output_type": "stream",
       "stream": "stdout",
       "text": [
        "\r",
        "Computed shortest paths for frame 901"
       ]
      },
      {
       "output_type": "stream",
       "stream": "stdout",
       "text": [
        "\r",
        "Computed shortest paths for frame 902"
       ]
      },
      {
       "output_type": "stream",
       "stream": "stdout",
       "text": [
        "\r",
        "Computed shortest paths for frame 903"
       ]
      },
      {
       "output_type": "stream",
       "stream": "stdout",
       "text": [
        "\r",
        "Computed shortest paths for frame 904"
       ]
      },
      {
       "output_type": "stream",
       "stream": "stdout",
       "text": [
        "\r",
        "Computed shortest paths for frame 905"
       ]
      },
      {
       "output_type": "stream",
       "stream": "stdout",
       "text": [
        "\r",
        "Computed shortest paths for frame 906"
       ]
      },
      {
       "output_type": "stream",
       "stream": "stdout",
       "text": [
        "\r",
        "Computed shortest paths for frame 907"
       ]
      },
      {
       "output_type": "stream",
       "stream": "stdout",
       "text": [
        "\r",
        "Computed shortest paths for frame 908"
       ]
      },
      {
       "output_type": "stream",
       "stream": "stdout",
       "text": [
        "\r",
        "Computed shortest paths for frame 909"
       ]
      },
      {
       "output_type": "stream",
       "stream": "stdout",
       "text": [
        "\r",
        "Computed shortest paths for frame 910"
       ]
      },
      {
       "output_type": "stream",
       "stream": "stdout",
       "text": [
        "\r",
        "Computed shortest paths for frame 911"
       ]
      },
      {
       "output_type": "stream",
       "stream": "stdout",
       "text": [
        "\r",
        "Computed shortest paths for frame 912"
       ]
      },
      {
       "output_type": "stream",
       "stream": "stdout",
       "text": [
        "\r",
        "Computed shortest paths for frame 913"
       ]
      },
      {
       "output_type": "stream",
       "stream": "stdout",
       "text": [
        "\r",
        "Computed shortest paths for frame 914"
       ]
      },
      {
       "output_type": "stream",
       "stream": "stdout",
       "text": [
        "\r",
        "Computed shortest paths for frame 915"
       ]
      },
      {
       "output_type": "stream",
       "stream": "stdout",
       "text": [
        "\r",
        "Computed shortest paths for frame 916"
       ]
      },
      {
       "output_type": "stream",
       "stream": "stdout",
       "text": [
        "\r",
        "Computed shortest paths for frame 917"
       ]
      },
      {
       "output_type": "stream",
       "stream": "stdout",
       "text": [
        "\r",
        "Computed shortest paths for frame 918"
       ]
      },
      {
       "output_type": "stream",
       "stream": "stdout",
       "text": [
        "\r",
        "Computed shortest paths for frame 919"
       ]
      },
      {
       "output_type": "stream",
       "stream": "stdout",
       "text": [
        "\r",
        "Computed shortest paths for frame 920"
       ]
      },
      {
       "output_type": "stream",
       "stream": "stdout",
       "text": [
        "\r",
        "Computed shortest paths for frame 921"
       ]
      },
      {
       "output_type": "stream",
       "stream": "stdout",
       "text": [
        "\r",
        "Computed shortest paths for frame 922"
       ]
      },
      {
       "output_type": "stream",
       "stream": "stdout",
       "text": [
        "\r",
        "Computed shortest paths for frame 923"
       ]
      },
      {
       "output_type": "stream",
       "stream": "stdout",
       "text": [
        "\r",
        "Computed shortest paths for frame 924"
       ]
      },
      {
       "output_type": "stream",
       "stream": "stdout",
       "text": [
        "\r",
        "Computed shortest paths for frame 925"
       ]
      },
      {
       "output_type": "stream",
       "stream": "stdout",
       "text": [
        "\r",
        "Computed shortest paths for frame 926"
       ]
      },
      {
       "output_type": "stream",
       "stream": "stdout",
       "text": [
        "\r",
        "Computed shortest paths for frame 927"
       ]
      },
      {
       "output_type": "stream",
       "stream": "stdout",
       "text": [
        "\r",
        "Computed shortest paths for frame 928"
       ]
      },
      {
       "output_type": "stream",
       "stream": "stdout",
       "text": [
        "\r",
        "Computed shortest paths for frame 929"
       ]
      },
      {
       "output_type": "stream",
       "stream": "stdout",
       "text": [
        "\r",
        "Computed shortest paths for frame 930"
       ]
      },
      {
       "output_type": "stream",
       "stream": "stdout",
       "text": [
        "\r",
        "Computed shortest paths for frame 931"
       ]
      },
      {
       "output_type": "stream",
       "stream": "stdout",
       "text": [
        "\r",
        "Computed shortest paths for frame 932"
       ]
      },
      {
       "output_type": "stream",
       "stream": "stdout",
       "text": [
        "\r",
        "Computed shortest paths for frame 933"
       ]
      },
      {
       "output_type": "stream",
       "stream": "stdout",
       "text": [
        "\r",
        "Computed shortest paths for frame 934"
       ]
      },
      {
       "output_type": "stream",
       "stream": "stdout",
       "text": [
        "\r",
        "Computed shortest paths for frame 935"
       ]
      },
      {
       "output_type": "stream",
       "stream": "stdout",
       "text": [
        "\r",
        "Computed shortest paths for frame 936"
       ]
      },
      {
       "output_type": "stream",
       "stream": "stdout",
       "text": [
        "\r",
        "Computed shortest paths for frame 937"
       ]
      },
      {
       "output_type": "stream",
       "stream": "stdout",
       "text": [
        "\r",
        "Computed shortest paths for frame 938"
       ]
      },
      {
       "output_type": "stream",
       "stream": "stdout",
       "text": [
        "\r",
        "Computed shortest paths for frame 939"
       ]
      },
      {
       "output_type": "stream",
       "stream": "stdout",
       "text": [
        "\r",
        "Computed shortest paths for frame 940"
       ]
      },
      {
       "output_type": "stream",
       "stream": "stdout",
       "text": [
        "\r",
        "Computed shortest paths for frame 941"
       ]
      },
      {
       "output_type": "stream",
       "stream": "stdout",
       "text": [
        "\r",
        "Computed shortest paths for frame 942"
       ]
      },
      {
       "output_type": "stream",
       "stream": "stdout",
       "text": [
        "\r",
        "Computed shortest paths for frame 943"
       ]
      },
      {
       "output_type": "stream",
       "stream": "stdout",
       "text": [
        "\r",
        "Computed shortest paths for frame 944"
       ]
      },
      {
       "output_type": "stream",
       "stream": "stdout",
       "text": [
        "\r",
        "Computed shortest paths for frame 945"
       ]
      },
      {
       "output_type": "stream",
       "stream": "stdout",
       "text": [
        "\r",
        "Computed shortest paths for frame 946"
       ]
      },
      {
       "output_type": "stream",
       "stream": "stdout",
       "text": [
        "\r",
        "Computed shortest paths for frame 947"
       ]
      },
      {
       "output_type": "stream",
       "stream": "stdout",
       "text": [
        "\r",
        "Computed shortest paths for frame 948"
       ]
      },
      {
       "output_type": "stream",
       "stream": "stdout",
       "text": [
        "\r",
        "Computed shortest paths for frame 949"
       ]
      },
      {
       "output_type": "stream",
       "stream": "stdout",
       "text": [
        "\r",
        "Computed shortest paths for frame 950"
       ]
      },
      {
       "output_type": "stream",
       "stream": "stdout",
       "text": [
        "\r",
        "Computed shortest paths for frame 951"
       ]
      },
      {
       "output_type": "stream",
       "stream": "stdout",
       "text": [
        "\r",
        "Computed shortest paths for frame 952"
       ]
      },
      {
       "output_type": "stream",
       "stream": "stdout",
       "text": [
        "\r",
        "Computed shortest paths for frame 953"
       ]
      },
      {
       "output_type": "stream",
       "stream": "stdout",
       "text": [
        "\r",
        "Computed shortest paths for frame 954"
       ]
      },
      {
       "output_type": "stream",
       "stream": "stdout",
       "text": [
        "\r",
        "Computed shortest paths for frame 955"
       ]
      },
      {
       "output_type": "stream",
       "stream": "stdout",
       "text": [
        "\r",
        "Computed shortest paths for frame 956"
       ]
      },
      {
       "output_type": "stream",
       "stream": "stdout",
       "text": [
        "\r",
        "Computed shortest paths for frame 957"
       ]
      },
      {
       "output_type": "stream",
       "stream": "stdout",
       "text": [
        "\r",
        "Computed shortest paths for frame 958"
       ]
      },
      {
       "output_type": "stream",
       "stream": "stdout",
       "text": [
        "\r",
        "Computed shortest paths for frame 959"
       ]
      },
      {
       "output_type": "stream",
       "stream": "stdout",
       "text": [
        "\r",
        "Computed shortest paths for frame 960"
       ]
      },
      {
       "output_type": "stream",
       "stream": "stdout",
       "text": [
        "\r",
        "Computed shortest paths for frame 961"
       ]
      },
      {
       "output_type": "stream",
       "stream": "stdout",
       "text": [
        "\r",
        "Computed shortest paths for frame 962"
       ]
      },
      {
       "output_type": "stream",
       "stream": "stdout",
       "text": [
        "\r",
        "Computed shortest paths for frame 963"
       ]
      },
      {
       "output_type": "stream",
       "stream": "stdout",
       "text": [
        "\r",
        "Computed shortest paths for frame 964"
       ]
      },
      {
       "output_type": "stream",
       "stream": "stdout",
       "text": [
        "\r",
        "Computed shortest paths for frame 965"
       ]
      },
      {
       "output_type": "stream",
       "stream": "stdout",
       "text": [
        "\r",
        "Computed shortest paths for frame 966"
       ]
      },
      {
       "output_type": "stream",
       "stream": "stdout",
       "text": [
        "\r",
        "Computed shortest paths for frame 967"
       ]
      },
      {
       "output_type": "stream",
       "stream": "stdout",
       "text": [
        "\r",
        "Computed shortest paths for frame 968"
       ]
      },
      {
       "output_type": "stream",
       "stream": "stdout",
       "text": [
        "\r",
        "Computed shortest paths for frame 969"
       ]
      },
      {
       "output_type": "stream",
       "stream": "stdout",
       "text": [
        "\r",
        "Computed shortest paths for frame 970"
       ]
      },
      {
       "output_type": "stream",
       "stream": "stdout",
       "text": [
        "\r",
        "Computed shortest paths for frame 971"
       ]
      },
      {
       "output_type": "stream",
       "stream": "stdout",
       "text": [
        "\r",
        "Computed shortest paths for frame 972"
       ]
      },
      {
       "output_type": "stream",
       "stream": "stdout",
       "text": [
        "\r",
        "Computed shortest paths for frame 973"
       ]
      },
      {
       "output_type": "stream",
       "stream": "stdout",
       "text": [
        "\r",
        "Computed shortest paths for frame 974"
       ]
      },
      {
       "output_type": "stream",
       "stream": "stdout",
       "text": [
        "\r",
        "Computed shortest paths for frame 975"
       ]
      },
      {
       "output_type": "stream",
       "stream": "stdout",
       "text": [
        "\r",
        "Computed shortest paths for frame 976"
       ]
      },
      {
       "output_type": "stream",
       "stream": "stdout",
       "text": [
        "\r",
        "Computed shortest paths for frame 977"
       ]
      },
      {
       "output_type": "stream",
       "stream": "stdout",
       "text": [
        "\r",
        "Computed shortest paths for frame 978"
       ]
      },
      {
       "output_type": "stream",
       "stream": "stdout",
       "text": [
        "\r",
        "Computed shortest paths for frame 979"
       ]
      },
      {
       "output_type": "stream",
       "stream": "stdout",
       "text": [
        "\r",
        "Computed shortest paths for frame 980"
       ]
      },
      {
       "output_type": "stream",
       "stream": "stdout",
       "text": [
        "\r",
        "Computed shortest paths for frame 981"
       ]
      },
      {
       "output_type": "stream",
       "stream": "stdout",
       "text": [
        "\r",
        "Computed shortest paths for frame 982"
       ]
      },
      {
       "output_type": "stream",
       "stream": "stdout",
       "text": [
        "\r",
        "Computed shortest paths for frame 983"
       ]
      },
      {
       "output_type": "stream",
       "stream": "stdout",
       "text": [
        "\r",
        "Computed shortest paths for frame 984"
       ]
      },
      {
       "output_type": "stream",
       "stream": "stdout",
       "text": [
        "\r",
        "Computed shortest paths for frame 985"
       ]
      },
      {
       "output_type": "stream",
       "stream": "stdout",
       "text": [
        "\r",
        "Computed shortest paths for frame 986"
       ]
      },
      {
       "output_type": "stream",
       "stream": "stdout",
       "text": [
        "\r",
        "Computed shortest paths for frame 987"
       ]
      },
      {
       "output_type": "stream",
       "stream": "stdout",
       "text": [
        "\r",
        "Computed shortest paths for frame 988"
       ]
      },
      {
       "output_type": "stream",
       "stream": "stdout",
       "text": [
        "\r",
        "Computed shortest paths for frame 989"
       ]
      },
      {
       "output_type": "stream",
       "stream": "stdout",
       "text": [
        "\r",
        "Computed shortest paths for frame 990"
       ]
      },
      {
       "output_type": "stream",
       "stream": "stdout",
       "text": [
        "\r",
        "Computed shortest paths for frame 991"
       ]
      },
      {
       "output_type": "stream",
       "stream": "stdout",
       "text": [
        "\r",
        "Computed shortest paths for frame 992"
       ]
      },
      {
       "output_type": "stream",
       "stream": "stdout",
       "text": [
        "\r",
        "Computed shortest paths for frame 993"
       ]
      },
      {
       "output_type": "stream",
       "stream": "stdout",
       "text": [
        "\r",
        "Computed shortest paths for frame 994"
       ]
      },
      {
       "output_type": "stream",
       "stream": "stdout",
       "text": [
        "\r",
        "Computed shortest paths for frame 995"
       ]
      },
      {
       "output_type": "stream",
       "stream": "stdout",
       "text": [
        "\r",
        "Computed shortest paths for frame 996"
       ]
      },
      {
       "output_type": "stream",
       "stream": "stdout",
       "text": [
        "\r",
        "Computed shortest paths for frame 997"
       ]
      },
      {
       "output_type": "stream",
       "stream": "stdout",
       "text": [
        "\r",
        "Computed shortest paths for frame 998"
       ]
      },
      {
       "output_type": "stream",
       "stream": "stdout",
       "text": [
        "\r",
        "Computed shortest paths for frame 999"
       ]
      },
      {
       "output_type": "stream",
       "stream": "stdout",
       "text": [
        "\r",
        "Computed shortest paths for frame 1000"
       ]
      },
      {
       "output_type": "stream",
       "stream": "stdout",
       "text": [
        "\r",
        "Computed shortest paths for frame 1001"
       ]
      },
      {
       "output_type": "stream",
       "stream": "stdout",
       "text": [
        "\r",
        "Computed shortest paths for frame 1002"
       ]
      },
      {
       "output_type": "stream",
       "stream": "stdout",
       "text": [
        "\r",
        "Computed shortest paths for frame 1003"
       ]
      },
      {
       "output_type": "stream",
       "stream": "stdout",
       "text": [
        "\r",
        "Computed shortest paths for frame 1004"
       ]
      },
      {
       "output_type": "stream",
       "stream": "stdout",
       "text": [
        "\r",
        "Computed shortest paths for frame 1005"
       ]
      },
      {
       "output_type": "stream",
       "stream": "stdout",
       "text": [
        "\r",
        "Computed shortest paths for frame 1006"
       ]
      },
      {
       "output_type": "stream",
       "stream": "stdout",
       "text": [
        "\r",
        "Computed shortest paths for frame 1007"
       ]
      },
      {
       "output_type": "stream",
       "stream": "stdout",
       "text": [
        "\r",
        "Computed shortest paths for frame 1008"
       ]
      },
      {
       "output_type": "stream",
       "stream": "stdout",
       "text": [
        "\r",
        "Computed shortest paths for frame 1009"
       ]
      },
      {
       "output_type": "stream",
       "stream": "stdout",
       "text": [
        "\r",
        "Computed shortest paths for frame 1010"
       ]
      },
      {
       "output_type": "stream",
       "stream": "stdout",
       "text": [
        "\r",
        "Computed shortest paths for frame 1011"
       ]
      },
      {
       "output_type": "stream",
       "stream": "stdout",
       "text": [
        "\r",
        "Computed shortest paths for frame 1012"
       ]
      },
      {
       "output_type": "stream",
       "stream": "stdout",
       "text": [
        "\r",
        "Computed shortest paths for frame 1013"
       ]
      },
      {
       "output_type": "stream",
       "stream": "stdout",
       "text": [
        "\r",
        "Computed shortest paths for frame 1014"
       ]
      },
      {
       "output_type": "stream",
       "stream": "stdout",
       "text": [
        "\r",
        "Computed shortest paths for frame 1015"
       ]
      },
      {
       "output_type": "stream",
       "stream": "stdout",
       "text": [
        "\r",
        "Computed shortest paths for frame 1016"
       ]
      },
      {
       "output_type": "stream",
       "stream": "stdout",
       "text": [
        "\r",
        "Computed shortest paths for frame 1017"
       ]
      },
      {
       "output_type": "stream",
       "stream": "stdout",
       "text": [
        "\r",
        "Computed shortest paths for frame 1018"
       ]
      },
      {
       "output_type": "stream",
       "stream": "stdout",
       "text": [
        "\r",
        "Computed shortest paths for frame 1019"
       ]
      },
      {
       "output_type": "stream",
       "stream": "stdout",
       "text": [
        "\r",
        "Computed shortest paths for frame 1020"
       ]
      },
      {
       "output_type": "stream",
       "stream": "stdout",
       "text": [
        "\r",
        "Computed shortest paths for frame 1021"
       ]
      },
      {
       "output_type": "stream",
       "stream": "stdout",
       "text": [
        "\r",
        "Computed shortest paths for frame 1022"
       ]
      },
      {
       "output_type": "stream",
       "stream": "stdout",
       "text": [
        "\r",
        "Computed shortest paths for frame 1023"
       ]
      },
      {
       "output_type": "stream",
       "stream": "stdout",
       "text": [
        "\r",
        "Computed shortest paths for frame 1024"
       ]
      },
      {
       "output_type": "stream",
       "stream": "stdout",
       "text": [
        "\r",
        "Computed shortest paths for frame 1025"
       ]
      },
      {
       "output_type": "stream",
       "stream": "stdout",
       "text": [
        "\r",
        "Computed shortest paths for frame 1026"
       ]
      },
      {
       "output_type": "stream",
       "stream": "stdout",
       "text": [
        "\r",
        "Computed shortest paths for frame 1027"
       ]
      },
      {
       "output_type": "stream",
       "stream": "stdout",
       "text": [
        "\r",
        "Computed shortest paths for frame 1028"
       ]
      },
      {
       "output_type": "stream",
       "stream": "stdout",
       "text": [
        "\r",
        "Computed shortest paths for frame 1029"
       ]
      },
      {
       "output_type": "stream",
       "stream": "stdout",
       "text": [
        "\r",
        "Computed shortest paths for frame 1030"
       ]
      },
      {
       "output_type": "stream",
       "stream": "stdout",
       "text": [
        "\r",
        "Computed shortest paths for frame 1031"
       ]
      },
      {
       "output_type": "stream",
       "stream": "stdout",
       "text": [
        "\r",
        "Computed shortest paths for frame 1032"
       ]
      },
      {
       "output_type": "stream",
       "stream": "stdout",
       "text": [
        "\r",
        "Computed shortest paths for frame 1033"
       ]
      },
      {
       "output_type": "stream",
       "stream": "stdout",
       "text": [
        "\r",
        "Computed shortest paths for frame 1034"
       ]
      },
      {
       "output_type": "stream",
       "stream": "stdout",
       "text": [
        "\r",
        "Computed shortest paths for frame 1035"
       ]
      },
      {
       "output_type": "stream",
       "stream": "stdout",
       "text": [
        "\r",
        "Computed shortest paths for frame 1036"
       ]
      },
      {
       "output_type": "stream",
       "stream": "stdout",
       "text": [
        "\r",
        "Computed shortest paths for frame 1037"
       ]
      },
      {
       "output_type": "stream",
       "stream": "stdout",
       "text": [
        "\r",
        "Computed shortest paths for frame 1038"
       ]
      },
      {
       "output_type": "stream",
       "stream": "stdout",
       "text": [
        "\r",
        "Computed shortest paths for frame 1039"
       ]
      },
      {
       "output_type": "stream",
       "stream": "stdout",
       "text": [
        "\r",
        "Computed shortest paths for frame 1040"
       ]
      },
      {
       "output_type": "stream",
       "stream": "stdout",
       "text": [
        "\r",
        "Computed shortest paths for frame 1041"
       ]
      },
      {
       "output_type": "stream",
       "stream": "stdout",
       "text": [
        "\r",
        "Computed shortest paths for frame 1042"
       ]
      },
      {
       "output_type": "stream",
       "stream": "stdout",
       "text": [
        "\r",
        "Computed shortest paths for frame 1043"
       ]
      },
      {
       "output_type": "stream",
       "stream": "stdout",
       "text": [
        "\r",
        "Computed shortest paths for frame 1044"
       ]
      },
      {
       "output_type": "stream",
       "stream": "stdout",
       "text": [
        "\r",
        "Computed shortest paths for frame 1045"
       ]
      },
      {
       "output_type": "stream",
       "stream": "stdout",
       "text": [
        "\r",
        "Computed shortest paths for frame 1046"
       ]
      },
      {
       "output_type": "stream",
       "stream": "stdout",
       "text": [
        "\r",
        "Computed shortest paths for frame 1047"
       ]
      },
      {
       "output_type": "stream",
       "stream": "stdout",
       "text": [
        "\r",
        "Computed shortest paths for frame 1048"
       ]
      },
      {
       "output_type": "stream",
       "stream": "stdout",
       "text": [
        "\r",
        "Computed shortest paths for frame 1049"
       ]
      },
      {
       "output_type": "stream",
       "stream": "stdout",
       "text": [
        "\r",
        "Computed shortest paths for frame 1050"
       ]
      },
      {
       "output_type": "stream",
       "stream": "stdout",
       "text": [
        "\r",
        "Computed shortest paths for frame 1051"
       ]
      },
      {
       "output_type": "stream",
       "stream": "stdout",
       "text": [
        "\r",
        "Computed shortest paths for frame 1052"
       ]
      },
      {
       "output_type": "stream",
       "stream": "stdout",
       "text": [
        "\r",
        "Computed shortest paths for frame 1053"
       ]
      },
      {
       "output_type": "stream",
       "stream": "stdout",
       "text": [
        "\r",
        "Computed shortest paths for frame 1054"
       ]
      },
      {
       "output_type": "stream",
       "stream": "stdout",
       "text": [
        "\r",
        "Computed shortest paths for frame 1055"
       ]
      },
      {
       "output_type": "stream",
       "stream": "stdout",
       "text": [
        "\r",
        "Computed shortest paths for frame 1056"
       ]
      },
      {
       "output_type": "stream",
       "stream": "stdout",
       "text": [
        "\r",
        "Computed shortest paths for frame 1057"
       ]
      },
      {
       "output_type": "stream",
       "stream": "stdout",
       "text": [
        "\r",
        "Computed shortest paths for frame 1058"
       ]
      },
      {
       "output_type": "stream",
       "stream": "stdout",
       "text": [
        "\r",
        "Computed shortest paths for frame 1059"
       ]
      },
      {
       "output_type": "stream",
       "stream": "stdout",
       "text": [
        "\r",
        "Computed shortest paths for frame 1060"
       ]
      },
      {
       "output_type": "stream",
       "stream": "stdout",
       "text": [
        "\r",
        "Computed shortest paths for frame 1061"
       ]
      },
      {
       "output_type": "stream",
       "stream": "stdout",
       "text": [
        "\r",
        "Computed shortest paths for frame 1062"
       ]
      },
      {
       "output_type": "stream",
       "stream": "stdout",
       "text": [
        "\r",
        "Computed shortest paths for frame 1063"
       ]
      },
      {
       "output_type": "stream",
       "stream": "stdout",
       "text": [
        "\r",
        "Computed shortest paths for frame 1064"
       ]
      },
      {
       "output_type": "stream",
       "stream": "stdout",
       "text": [
        "\r",
        "Computed shortest paths for frame 1065"
       ]
      },
      {
       "output_type": "stream",
       "stream": "stdout",
       "text": [
        "\r",
        "Computed shortest paths for frame 1066"
       ]
      },
      {
       "output_type": "stream",
       "stream": "stdout",
       "text": [
        "\r",
        "Computed shortest paths for frame 1067"
       ]
      },
      {
       "output_type": "stream",
       "stream": "stdout",
       "text": [
        "\r",
        "Computed shortest paths for frame 1068"
       ]
      },
      {
       "output_type": "stream",
       "stream": "stdout",
       "text": [
        "\r",
        "Computed shortest paths for frame 1069"
       ]
      },
      {
       "output_type": "stream",
       "stream": "stdout",
       "text": [
        "\r",
        "Computed shortest paths for frame 1070"
       ]
      },
      {
       "output_type": "stream",
       "stream": "stdout",
       "text": [
        "\r",
        "Computed shortest paths for frame 1071"
       ]
      },
      {
       "output_type": "stream",
       "stream": "stdout",
       "text": [
        "\r",
        "Computed shortest paths for frame 1072"
       ]
      },
      {
       "output_type": "stream",
       "stream": "stdout",
       "text": [
        "\r",
        "Computed shortest paths for frame 1073"
       ]
      },
      {
       "output_type": "stream",
       "stream": "stdout",
       "text": [
        "\r",
        "Computed shortest paths for frame 1074"
       ]
      },
      {
       "output_type": "stream",
       "stream": "stdout",
       "text": [
        "\r",
        "Computed shortest paths for frame 1075"
       ]
      },
      {
       "output_type": "stream",
       "stream": "stdout",
       "text": [
        "\r",
        "Computed shortest paths for frame 1076"
       ]
      },
      {
       "output_type": "stream",
       "stream": "stdout",
       "text": [
        "\r",
        "Computed shortest paths for frame 1077"
       ]
      },
      {
       "output_type": "stream",
       "stream": "stdout",
       "text": [
        "\r",
        "Computed shortest paths for frame 1078"
       ]
      },
      {
       "output_type": "stream",
       "stream": "stdout",
       "text": [
        "\r",
        "Computed shortest paths for frame 1079"
       ]
      },
      {
       "output_type": "stream",
       "stream": "stdout",
       "text": [
        "\r",
        "Computed shortest paths for frame 1080"
       ]
      },
      {
       "output_type": "stream",
       "stream": "stdout",
       "text": [
        "\r",
        "Computed shortest paths for frame 1081"
       ]
      },
      {
       "output_type": "stream",
       "stream": "stdout",
       "text": [
        "\r",
        "Computed shortest paths for frame 1082"
       ]
      },
      {
       "output_type": "stream",
       "stream": "stdout",
       "text": [
        "\r",
        "Computed shortest paths for frame 1083"
       ]
      },
      {
       "output_type": "stream",
       "stream": "stdout",
       "text": [
        "\r",
        "Computed shortest paths for frame 1084"
       ]
      },
      {
       "output_type": "stream",
       "stream": "stdout",
       "text": [
        "\r",
        "Computed shortest paths for frame 1085"
       ]
      },
      {
       "output_type": "stream",
       "stream": "stdout",
       "text": [
        "\r",
        "Computed shortest paths for frame 1086"
       ]
      },
      {
       "output_type": "stream",
       "stream": "stdout",
       "text": [
        "\r",
        "Computed shortest paths for frame 1087"
       ]
      },
      {
       "output_type": "stream",
       "stream": "stdout",
       "text": [
        "\r",
        "Computed shortest paths for frame 1088"
       ]
      },
      {
       "output_type": "stream",
       "stream": "stdout",
       "text": [
        "\r",
        "Computed shortest paths for frame 1089"
       ]
      },
      {
       "output_type": "stream",
       "stream": "stdout",
       "text": [
        "\r",
        "Computed shortest paths for frame 1090"
       ]
      },
      {
       "output_type": "stream",
       "stream": "stdout",
       "text": [
        "\r",
        "Computed shortest paths for frame 1091"
       ]
      },
      {
       "output_type": "stream",
       "stream": "stdout",
       "text": [
        "\r",
        "Computed shortest paths for frame 1092"
       ]
      },
      {
       "output_type": "stream",
       "stream": "stdout",
       "text": [
        "\r",
        "Computed shortest paths for frame 1093"
       ]
      },
      {
       "output_type": "stream",
       "stream": "stdout",
       "text": [
        "\r",
        "Computed shortest paths for frame 1094"
       ]
      },
      {
       "output_type": "stream",
       "stream": "stdout",
       "text": [
        "\r",
        "Computed shortest paths for frame 1095"
       ]
      },
      {
       "output_type": "stream",
       "stream": "stdout",
       "text": [
        "\r",
        "Computed shortest paths for frame 1096"
       ]
      },
      {
       "output_type": "stream",
       "stream": "stdout",
       "text": [
        "\r",
        "Computed shortest paths for frame 1097"
       ]
      },
      {
       "output_type": "stream",
       "stream": "stdout",
       "text": [
        "\r",
        "Computed shortest paths for frame 1098"
       ]
      },
      {
       "output_type": "stream",
       "stream": "stdout",
       "text": [
        "\r",
        "Computed shortest paths for frame 1099"
       ]
      },
      {
       "output_type": "stream",
       "stream": "stdout",
       "text": [
        "\r",
        "Computed shortest paths for frame 1100"
       ]
      },
      {
       "output_type": "stream",
       "stream": "stdout",
       "text": [
        "\r",
        "Computed shortest paths for frame 1101"
       ]
      },
      {
       "output_type": "stream",
       "stream": "stdout",
       "text": [
        "\r",
        "Computed shortest paths for frame 1102"
       ]
      },
      {
       "output_type": "stream",
       "stream": "stdout",
       "text": [
        "\r",
        "Computed shortest paths for frame 1103"
       ]
      },
      {
       "output_type": "stream",
       "stream": "stdout",
       "text": [
        "\r",
        "Computed shortest paths for frame 1104"
       ]
      },
      {
       "output_type": "stream",
       "stream": "stdout",
       "text": [
        "\r",
        "Computed shortest paths for frame 1105"
       ]
      },
      {
       "output_type": "stream",
       "stream": "stdout",
       "text": [
        "\r",
        "Computed shortest paths for frame 1106"
       ]
      },
      {
       "output_type": "stream",
       "stream": "stdout",
       "text": [
        "\r",
        "Computed shortest paths for frame 1107"
       ]
      },
      {
       "output_type": "stream",
       "stream": "stdout",
       "text": [
        "\r",
        "Computed shortest paths for frame 1108"
       ]
      },
      {
       "output_type": "stream",
       "stream": "stdout",
       "text": [
        "\r",
        "Computed shortest paths for frame 1109"
       ]
      },
      {
       "output_type": "stream",
       "stream": "stdout",
       "text": [
        "\r",
        "Computed shortest paths for frame 1110"
       ]
      },
      {
       "output_type": "stream",
       "stream": "stdout",
       "text": [
        "\r",
        "Computed shortest paths for frame 1111"
       ]
      },
      {
       "output_type": "stream",
       "stream": "stdout",
       "text": [
        "\r",
        "Computed shortest paths for frame 1112"
       ]
      },
      {
       "output_type": "stream",
       "stream": "stdout",
       "text": [
        "\r",
        "Computed shortest paths for frame 1113"
       ]
      },
      {
       "output_type": "stream",
       "stream": "stdout",
       "text": [
        "\r",
        "Computed shortest paths for frame 1114"
       ]
      },
      {
       "output_type": "stream",
       "stream": "stdout",
       "text": [
        "\r",
        "Computed shortest paths for frame 1115"
       ]
      },
      {
       "output_type": "stream",
       "stream": "stdout",
       "text": [
        "\r",
        "Computed shortest paths for frame 1116"
       ]
      },
      {
       "output_type": "stream",
       "stream": "stdout",
       "text": [
        "\r",
        "Computed shortest paths for frame 1117"
       ]
      },
      {
       "output_type": "stream",
       "stream": "stdout",
       "text": [
        "\r",
        "Computed shortest paths for frame 1118"
       ]
      },
      {
       "output_type": "stream",
       "stream": "stdout",
       "text": [
        "\r",
        "Computed shortest paths for frame 1119"
       ]
      },
      {
       "output_type": "stream",
       "stream": "stdout",
       "text": [
        "\r",
        "Computed shortest paths for frame 1120"
       ]
      },
      {
       "output_type": "stream",
       "stream": "stdout",
       "text": [
        "\r",
        "Computed shortest paths for frame 1121"
       ]
      },
      {
       "output_type": "stream",
       "stream": "stdout",
       "text": [
        "\r",
        "Computed shortest paths for frame 1122"
       ]
      },
      {
       "output_type": "stream",
       "stream": "stdout",
       "text": [
        "\r",
        "Computed shortest paths for frame 1123"
       ]
      },
      {
       "output_type": "stream",
       "stream": "stdout",
       "text": [
        "\r",
        "Computed shortest paths for frame 1124"
       ]
      },
      {
       "output_type": "stream",
       "stream": "stdout",
       "text": [
        "\r",
        "Computed shortest paths for frame 1125"
       ]
      },
      {
       "output_type": "stream",
       "stream": "stdout",
       "text": [
        "\r",
        "Computed shortest paths for frame 1126"
       ]
      },
      {
       "output_type": "stream",
       "stream": "stdout",
       "text": [
        "\r",
        "Computed shortest paths for frame 1127"
       ]
      },
      {
       "output_type": "stream",
       "stream": "stdout",
       "text": [
        "\r",
        "Computed shortest paths for frame 1128"
       ]
      },
      {
       "output_type": "stream",
       "stream": "stdout",
       "text": [
        "\r",
        "Computed shortest paths for frame 1129"
       ]
      },
      {
       "output_type": "stream",
       "stream": "stdout",
       "text": [
        "\r",
        "Computed shortest paths for frame 1130"
       ]
      },
      {
       "output_type": "stream",
       "stream": "stdout",
       "text": [
        "\r",
        "Computed shortest paths for frame 1131"
       ]
      },
      {
       "output_type": "stream",
       "stream": "stdout",
       "text": [
        "\r",
        "Computed shortest paths for frame 1132"
       ]
      },
      {
       "output_type": "stream",
       "stream": "stdout",
       "text": [
        "\r",
        "Computed shortest paths for frame 1133"
       ]
      },
      {
       "output_type": "stream",
       "stream": "stdout",
       "text": [
        "\r",
        "Computed shortest paths for frame 1134"
       ]
      },
      {
       "output_type": "stream",
       "stream": "stdout",
       "text": [
        "\r",
        "Computed shortest paths for frame 1135"
       ]
      },
      {
       "output_type": "stream",
       "stream": "stdout",
       "text": [
        "\r",
        "Computed shortest paths for frame 1136"
       ]
      },
      {
       "output_type": "stream",
       "stream": "stdout",
       "text": [
        "\r",
        "Computed shortest paths for frame 1137"
       ]
      },
      {
       "output_type": "stream",
       "stream": "stdout",
       "text": [
        "\r",
        "Computed shortest paths for frame 1138"
       ]
      },
      {
       "output_type": "stream",
       "stream": "stdout",
       "text": [
        "\r",
        "Computed shortest paths for frame 1139"
       ]
      },
      {
       "output_type": "stream",
       "stream": "stdout",
       "text": [
        "\r",
        "Computed shortest paths for frame 1140"
       ]
      },
      {
       "output_type": "stream",
       "stream": "stdout",
       "text": [
        "\r",
        "Computed shortest paths for frame 1141"
       ]
      },
      {
       "output_type": "stream",
       "stream": "stdout",
       "text": [
        "\r",
        "Computed shortest paths for frame 1142"
       ]
      },
      {
       "output_type": "stream",
       "stream": "stdout",
       "text": [
        "\r",
        "Computed shortest paths for frame 1143"
       ]
      },
      {
       "output_type": "stream",
       "stream": "stdout",
       "text": [
        "\r",
        "Computed shortest paths for frame 1144"
       ]
      },
      {
       "output_type": "stream",
       "stream": "stdout",
       "text": [
        "\r",
        "Computed shortest paths for frame 1145"
       ]
      },
      {
       "output_type": "stream",
       "stream": "stdout",
       "text": [
        "\r",
        "Computed shortest paths for frame 1146"
       ]
      },
      {
       "output_type": "stream",
       "stream": "stdout",
       "text": [
        "\r",
        "Computed shortest paths for frame 1147"
       ]
      },
      {
       "output_type": "stream",
       "stream": "stdout",
       "text": [
        "\r",
        "Computed shortest paths for frame 1148"
       ]
      },
      {
       "output_type": "stream",
       "stream": "stdout",
       "text": [
        "\r",
        "Computed shortest paths for frame 1149"
       ]
      },
      {
       "output_type": "stream",
       "stream": "stdout",
       "text": [
        "\r",
        "Computed shortest paths for frame 1150"
       ]
      },
      {
       "output_type": "stream",
       "stream": "stdout",
       "text": [
        "\r",
        "Computed shortest paths for frame 1151"
       ]
      },
      {
       "output_type": "stream",
       "stream": "stdout",
       "text": [
        "\r",
        "Computed shortest paths for frame 1152"
       ]
      },
      {
       "output_type": "stream",
       "stream": "stdout",
       "text": [
        "\r",
        "Computed shortest paths for frame 1153"
       ]
      },
      {
       "output_type": "stream",
       "stream": "stdout",
       "text": [
        "\r",
        "Computed shortest paths for frame 1154"
       ]
      },
      {
       "output_type": "stream",
       "stream": "stdout",
       "text": [
        "\r",
        "Computed shortest paths for frame 1155"
       ]
      },
      {
       "output_type": "stream",
       "stream": "stdout",
       "text": [
        "\r",
        "Computed shortest paths for frame 1156"
       ]
      },
      {
       "output_type": "stream",
       "stream": "stdout",
       "text": [
        "\r",
        "Computed shortest paths for frame 1157"
       ]
      },
      {
       "output_type": "stream",
       "stream": "stdout",
       "text": [
        "\r",
        "Computed shortest paths for frame 1158"
       ]
      },
      {
       "output_type": "stream",
       "stream": "stdout",
       "text": [
        "\r",
        "Computed shortest paths for frame 1159"
       ]
      },
      {
       "output_type": "stream",
       "stream": "stdout",
       "text": [
        "\r",
        "Computed shortest paths for frame 1160"
       ]
      },
      {
       "output_type": "stream",
       "stream": "stdout",
       "text": [
        "\r",
        "Computed shortest paths for frame 1161"
       ]
      },
      {
       "output_type": "stream",
       "stream": "stdout",
       "text": [
        "\r",
        "Computed shortest paths for frame 1162"
       ]
      },
      {
       "output_type": "stream",
       "stream": "stdout",
       "text": [
        "\r",
        "Computed shortest paths for frame 1163"
       ]
      },
      {
       "output_type": "stream",
       "stream": "stdout",
       "text": [
        "\r",
        "Computed shortest paths for frame 1164"
       ]
      },
      {
       "output_type": "stream",
       "stream": "stdout",
       "text": [
        "\r",
        "Computed shortest paths for frame 1165"
       ]
      },
      {
       "output_type": "stream",
       "stream": "stdout",
       "text": [
        "\r",
        "Computed shortest paths for frame 1166"
       ]
      },
      {
       "output_type": "stream",
       "stream": "stdout",
       "text": [
        "\r",
        "Computed shortest paths for frame 1167"
       ]
      },
      {
       "output_type": "stream",
       "stream": "stdout",
       "text": [
        "\r",
        "Computed shortest paths for frame 1168"
       ]
      },
      {
       "output_type": "stream",
       "stream": "stdout",
       "text": [
        "\r",
        "Computed shortest paths for frame 1169"
       ]
      },
      {
       "output_type": "stream",
       "stream": "stdout",
       "text": [
        "\r",
        "Computed shortest paths for frame 1170"
       ]
      },
      {
       "output_type": "stream",
       "stream": "stdout",
       "text": [
        "\r",
        "Computed shortest paths for frame 1171"
       ]
      },
      {
       "output_type": "stream",
       "stream": "stdout",
       "text": [
        "\r",
        "Computed shortest paths for frame 1172"
       ]
      },
      {
       "output_type": "stream",
       "stream": "stdout",
       "text": [
        "\r",
        "Computed shortest paths for frame 1173"
       ]
      },
      {
       "output_type": "stream",
       "stream": "stdout",
       "text": [
        "\r",
        "Computed shortest paths for frame 1174"
       ]
      },
      {
       "output_type": "stream",
       "stream": "stdout",
       "text": [
        "\r",
        "Computed shortest paths for frame 1175"
       ]
      },
      {
       "output_type": "stream",
       "stream": "stdout",
       "text": [
        "\r",
        "Computed shortest paths for frame 1176"
       ]
      },
      {
       "output_type": "stream",
       "stream": "stdout",
       "text": [
        "\r",
        "Computed shortest paths for frame 1177"
       ]
      },
      {
       "output_type": "stream",
       "stream": "stdout",
       "text": [
        "\r",
        "Computed shortest paths for frame 1178"
       ]
      },
      {
       "output_type": "stream",
       "stream": "stdout",
       "text": [
        "\r",
        "Computed shortest paths for frame 1179"
       ]
      },
      {
       "output_type": "stream",
       "stream": "stdout",
       "text": [
        "\r",
        "Computed shortest paths for frame 1180"
       ]
      },
      {
       "output_type": "stream",
       "stream": "stdout",
       "text": [
        "\r",
        "Computed shortest paths for frame 1181"
       ]
      },
      {
       "output_type": "stream",
       "stream": "stdout",
       "text": [
        "\r",
        "Computed shortest paths for frame 1182"
       ]
      },
      {
       "output_type": "stream",
       "stream": "stdout",
       "text": [
        "\r",
        "Computed shortest paths for frame 1183"
       ]
      },
      {
       "output_type": "stream",
       "stream": "stdout",
       "text": [
        "\r",
        "Computed shortest paths for frame 1184"
       ]
      },
      {
       "output_type": "stream",
       "stream": "stdout",
       "text": [
        "\r",
        "Computed shortest paths for frame 1185"
       ]
      },
      {
       "output_type": "stream",
       "stream": "stdout",
       "text": [
        "\r",
        "Computed shortest paths for frame 1186"
       ]
      },
      {
       "output_type": "stream",
       "stream": "stdout",
       "text": [
        "\r",
        "Computed shortest paths for frame 1187"
       ]
      },
      {
       "output_type": "stream",
       "stream": "stdout",
       "text": [
        "\r",
        "Computed shortest paths for frame 1188"
       ]
      },
      {
       "output_type": "stream",
       "stream": "stdout",
       "text": [
        "\r",
        "Computed shortest paths for frame 1189"
       ]
      },
      {
       "output_type": "stream",
       "stream": "stdout",
       "text": [
        "\r",
        "Computed shortest paths for frame 1190"
       ]
      },
      {
       "output_type": "stream",
       "stream": "stdout",
       "text": [
        "\r",
        "Computed shortest paths for frame 1191"
       ]
      },
      {
       "output_type": "stream",
       "stream": "stdout",
       "text": [
        "\r",
        "Computed shortest paths for frame 1192"
       ]
      },
      {
       "output_type": "stream",
       "stream": "stdout",
       "text": [
        "\r",
        "Computed shortest paths for frame 1193"
       ]
      },
      {
       "output_type": "stream",
       "stream": "stdout",
       "text": [
        "\r",
        "Computed shortest paths for frame 1194"
       ]
      },
      {
       "output_type": "stream",
       "stream": "stdout",
       "text": [
        "\r",
        "Computed shortest paths for frame 1195"
       ]
      },
      {
       "output_type": "stream",
       "stream": "stdout",
       "text": [
        "\r",
        "Computed shortest paths for frame 1196"
       ]
      },
      {
       "output_type": "stream",
       "stream": "stdout",
       "text": [
        "\r",
        "Computed shortest paths for frame 1197"
       ]
      },
      {
       "output_type": "stream",
       "stream": "stdout",
       "text": [
        "\r",
        "Computed shortest paths for frame 1198"
       ]
      },
      {
       "output_type": "stream",
       "stream": "stdout",
       "text": [
        "\r",
        "Computed shortest paths for frame 1199"
       ]
      },
      {
       "output_type": "stream",
       "stream": "stdout",
       "text": [
        "\r",
        "Computed shortest paths for frame 1200"
       ]
      },
      {
       "output_type": "stream",
       "stream": "stdout",
       "text": [
        "\r",
        "Computed shortest paths for frame 1201"
       ]
      },
      {
       "output_type": "stream",
       "stream": "stdout",
       "text": [
        "\r",
        "Computed shortest paths for frame 1202"
       ]
      },
      {
       "output_type": "stream",
       "stream": "stdout",
       "text": [
        "\r",
        "Computed shortest paths for frame 1203"
       ]
      },
      {
       "output_type": "stream",
       "stream": "stdout",
       "text": [
        "\r",
        "Computed shortest paths for frame 1204"
       ]
      },
      {
       "output_type": "stream",
       "stream": "stdout",
       "text": [
        "\r",
        "Computed shortest paths for frame 1205"
       ]
      },
      {
       "output_type": "stream",
       "stream": "stdout",
       "text": [
        "\r",
        "Computed shortest paths for frame 1206"
       ]
      },
      {
       "output_type": "stream",
       "stream": "stdout",
       "text": [
        "\r",
        "Computed shortest paths for frame 1207"
       ]
      },
      {
       "output_type": "stream",
       "stream": "stdout",
       "text": [
        "\r",
        "Computed shortest paths for frame 1208"
       ]
      },
      {
       "output_type": "stream",
       "stream": "stdout",
       "text": [
        "\r",
        "Computed shortest paths for frame 1209"
       ]
      },
      {
       "output_type": "stream",
       "stream": "stdout",
       "text": [
        "\r",
        "Computed shortest paths for frame 1210"
       ]
      },
      {
       "output_type": "stream",
       "stream": "stdout",
       "text": [
        "\r",
        "Computed shortest paths for frame 1211"
       ]
      },
      {
       "output_type": "stream",
       "stream": "stdout",
       "text": [
        "\r",
        "Computed shortest paths for frame 1212"
       ]
      },
      {
       "output_type": "stream",
       "stream": "stdout",
       "text": [
        "\r",
        "Computed shortest paths for frame 1213"
       ]
      },
      {
       "output_type": "stream",
       "stream": "stdout",
       "text": [
        "\r",
        "Computed shortest paths for frame 1214"
       ]
      },
      {
       "output_type": "stream",
       "stream": "stdout",
       "text": [
        "\r",
        "Computed shortest paths for frame 1215"
       ]
      },
      {
       "output_type": "stream",
       "stream": "stdout",
       "text": [
        "\r",
        "Computed shortest paths for frame 1216"
       ]
      },
      {
       "output_type": "stream",
       "stream": "stdout",
       "text": [
        "\r",
        "Computed shortest paths for frame 1217"
       ]
      },
      {
       "output_type": "stream",
       "stream": "stdout",
       "text": [
        "\r",
        "Computed shortest paths for frame 1218"
       ]
      },
      {
       "output_type": "stream",
       "stream": "stdout",
       "text": [
        "\r",
        "Computed shortest paths for frame 1219"
       ]
      },
      {
       "output_type": "stream",
       "stream": "stdout",
       "text": [
        "\r",
        "Computed shortest paths for frame 1220"
       ]
      },
      {
       "output_type": "stream",
       "stream": "stdout",
       "text": [
        "\r",
        "Computed shortest paths for frame 1221"
       ]
      },
      {
       "output_type": "stream",
       "stream": "stdout",
       "text": [
        "\r",
        "Computed shortest paths for frame 1222"
       ]
      },
      {
       "output_type": "stream",
       "stream": "stdout",
       "text": [
        "\r",
        "Computed shortest paths for frame 1223"
       ]
      },
      {
       "output_type": "stream",
       "stream": "stdout",
       "text": [
        "\r",
        "Computed shortest paths for frame 1224"
       ]
      },
      {
       "output_type": "stream",
       "stream": "stdout",
       "text": [
        "\r",
        "Computed shortest paths for frame 1225"
       ]
      },
      {
       "output_type": "stream",
       "stream": "stdout",
       "text": [
        "\r",
        "Computed shortest paths for frame 1226"
       ]
      },
      {
       "output_type": "stream",
       "stream": "stdout",
       "text": [
        "\r",
        "Computed shortest paths for frame 1227"
       ]
      },
      {
       "output_type": "stream",
       "stream": "stdout",
       "text": [
        "\r",
        "Computed shortest paths for frame 1228"
       ]
      },
      {
       "output_type": "stream",
       "stream": "stdout",
       "text": [
        "\r",
        "Computed shortest paths for frame 1229"
       ]
      },
      {
       "output_type": "stream",
       "stream": "stdout",
       "text": [
        "\r",
        "Computed shortest paths for frame 1230"
       ]
      },
      {
       "output_type": "stream",
       "stream": "stdout",
       "text": [
        "\r",
        "Computed shortest paths for frame 1231"
       ]
      },
      {
       "output_type": "stream",
       "stream": "stdout",
       "text": [
        "\r",
        "Computed shortest paths for frame 1232"
       ]
      },
      {
       "output_type": "stream",
       "stream": "stdout",
       "text": [
        "\r",
        "Computed shortest paths for frame 1233"
       ]
      },
      {
       "output_type": "stream",
       "stream": "stdout",
       "text": [
        "\r",
        "Computed shortest paths for frame 1234"
       ]
      },
      {
       "output_type": "stream",
       "stream": "stdout",
       "text": [
        "\r",
        "Computed shortest paths for frame 1235"
       ]
      },
      {
       "output_type": "stream",
       "stream": "stdout",
       "text": [
        "\r",
        "Computed shortest paths for frame 1236"
       ]
      },
      {
       "output_type": "stream",
       "stream": "stdout",
       "text": [
        "\r",
        "Computed shortest paths for frame 1237"
       ]
      },
      {
       "output_type": "stream",
       "stream": "stdout",
       "text": [
        "\r",
        "Computed shortest paths for frame 1238"
       ]
      },
      {
       "output_type": "stream",
       "stream": "stdout",
       "text": [
        "\r",
        "Computed shortest paths for frame 1239"
       ]
      },
      {
       "output_type": "stream",
       "stream": "stdout",
       "text": [
        "\r",
        "Computed shortest paths for frame 1240"
       ]
      },
      {
       "output_type": "stream",
       "stream": "stdout",
       "text": [
        "\r",
        "Computed shortest paths for frame 1241"
       ]
      },
      {
       "output_type": "stream",
       "stream": "stdout",
       "text": [
        "\r",
        "Computed shortest paths for frame 1242"
       ]
      },
      {
       "output_type": "stream",
       "stream": "stdout",
       "text": [
        "\r",
        "Computed shortest paths for frame 1243"
       ]
      },
      {
       "output_type": "stream",
       "stream": "stdout",
       "text": [
        "\r",
        "Computed shortest paths for frame 1244"
       ]
      },
      {
       "output_type": "stream",
       "stream": "stdout",
       "text": [
        "\r",
        "Computed shortest paths for frame 1245"
       ]
      },
      {
       "output_type": "stream",
       "stream": "stdout",
       "text": [
        "\r",
        "Computed shortest paths for frame 1246"
       ]
      },
      {
       "output_type": "stream",
       "stream": "stdout",
       "text": [
        "\r",
        "Computed shortest paths for frame 1247"
       ]
      },
      {
       "output_type": "stream",
       "stream": "stdout",
       "text": [
        "\r",
        "Computed shortest paths for frame 1248"
       ]
      },
      {
       "output_type": "stream",
       "stream": "stdout",
       "text": [
        "\r",
        "Computed shortest paths for frame 1249"
       ]
      },
      {
       "output_type": "stream",
       "stream": "stdout",
       "text": [
        "\r",
        "Computed shortest paths for frame 1250"
       ]
      },
      {
       "output_type": "stream",
       "stream": "stdout",
       "text": [
        "\r",
        "Computed shortest paths for frame 1251"
       ]
      },
      {
       "output_type": "stream",
       "stream": "stdout",
       "text": [
        "\r",
        "Computed shortest paths for frame 1252"
       ]
      },
      {
       "output_type": "stream",
       "stream": "stdout",
       "text": [
        "\r",
        "Computed shortest paths for frame 1253"
       ]
      },
      {
       "output_type": "stream",
       "stream": "stdout",
       "text": [
        "\r",
        "Computed shortest paths for frame 1254"
       ]
      },
      {
       "output_type": "stream",
       "stream": "stdout",
       "text": [
        "\r",
        "Computed shortest paths for frame 1255"
       ]
      },
      {
       "output_type": "stream",
       "stream": "stdout",
       "text": [
        "\r",
        "Computed shortest paths for frame 1256"
       ]
      },
      {
       "output_type": "stream",
       "stream": "stdout",
       "text": [
        "\r",
        "Computed shortest paths for frame 1257"
       ]
      },
      {
       "output_type": "stream",
       "stream": "stdout",
       "text": [
        "\r",
        "Computed shortest paths for frame 1258"
       ]
      },
      {
       "output_type": "stream",
       "stream": "stdout",
       "text": [
        "\r",
        "Computed shortest paths for frame 1259"
       ]
      },
      {
       "output_type": "stream",
       "stream": "stdout",
       "text": [
        "\r",
        "Computed shortest paths for frame 1260"
       ]
      },
      {
       "output_type": "stream",
       "stream": "stdout",
       "text": [
        "\r",
        "Computed shortest paths for frame 1261"
       ]
      },
      {
       "output_type": "stream",
       "stream": "stdout",
       "text": [
        "\r",
        "Computed shortest paths for frame 1262"
       ]
      },
      {
       "output_type": "stream",
       "stream": "stdout",
       "text": [
        "\r",
        "Computed shortest paths for frame 1263"
       ]
      },
      {
       "output_type": "stream",
       "stream": "stdout",
       "text": [
        "\r",
        "Computed shortest paths for frame 1264"
       ]
      },
      {
       "output_type": "stream",
       "stream": "stdout",
       "text": [
        "\r",
        "Computed shortest paths for frame 1265"
       ]
      },
      {
       "output_type": "stream",
       "stream": "stdout",
       "text": [
        "\r",
        "Computed shortest paths for frame 1266"
       ]
      },
      {
       "output_type": "stream",
       "stream": "stdout",
       "text": [
        "\r",
        "Computed shortest paths for frame 1267"
       ]
      },
      {
       "output_type": "stream",
       "stream": "stdout",
       "text": [
        "\r",
        "Computed shortest paths for frame 1268"
       ]
      },
      {
       "output_type": "stream",
       "stream": "stdout",
       "text": [
        "\r",
        "Computed shortest paths for frame 1269"
       ]
      },
      {
       "output_type": "stream",
       "stream": "stdout",
       "text": [
        "\r",
        "Computed shortest paths for frame 1270"
       ]
      },
      {
       "output_type": "stream",
       "stream": "stdout",
       "text": [
        "\n",
        "sigma"
       ]
      },
      {
       "output_type": "stream",
       "stream": "stdout",
       "text": [
        " 150.0\n",
        "[ 1.  1.  1. ...,  1.  1.  1.]\n"
       ]
      }
     ],
     "prompt_number": 34
    },
    {
     "cell_type": "code",
     "collapsed": false,
     "input": [
      "figure(); imshow(pathProbMat, interpolation='nearest')"
     ],
     "language": "python",
     "metadata": {},
     "outputs": [
      {
       "metadata": {},
       "output_type": "pyout",
       "prompt_number": 92,
       "text": [
        "<matplotlib.image.AxesImage at 0x7fe3b52c9450>"
       ]
      }
     ],
     "prompt_number": 92
    },
    {
     "cell_type": "code",
     "collapsed": false,
     "input": [
      "close(\"fig1\")\n",
      "## traverse graph starting from initialNode and randomize jump\n",
      "print initialNodes\n",
      "currentNode = initialNodes[3]\n",
      "finalFrames = []\n",
      "finalFrames.append(currentNode)\n",
      "print currentNode\n",
      "sequenceLength = 1.0\n",
      "maxSeqLength = 100.0\n",
      "destFrame = initialNodes[3]\n",
      "destRange = smoothStep(arange(0.0, len(rangeCurves)), float(initialNodes[0]), intervals[0], 0.4)\n",
      "# figure(); plot(arange(0.0, len(rangeCurves)), destRange)\n",
      "for i in xrange(0, 1000) :\n",
      "    print\n",
      "    print \"frame\", i, \"from\", currentNode\n",
      "    neighs = np.array(frameGraph.node_neighbors[currentNode], dtype=int)\n",
      "#     print neighs,\n",
      "#     print neighs\n",
      "    probs = []\n",
      "    for n in frameGraph.node_neighbors[currentNode] :\n",
      "        if len(frameGraph.node_neighbors[n]) > 0:\n",
      "#             probs.append(frameGraph.edge_weight((currentNode, n)))\n",
      "            probs.append(probMat[currentNode, n])\n",
      "        else :\n",
      "            neighs = np.delete(neighs, np.argwhere(neighs == n))\n",
      "    probs = np.array(probs)\n",
      "\n",
      "    ## add the probability based on distance to destination\n",
      "#     print probs, neighs, destFrame\n",
      "    \n",
      "    probs /= np.sum(probs)\n",
      "    \n",
      "    pathProbs = pathProbMat[neighs, destFrame]\n",
      "    pathProbs = pathProbs/np.sum(pathProbs)\n",
      "    \n",
      "    if not np.isnan(pathProbs).all() :\n",
      "        probs += pathProbs\n",
      "    \n",
      "    probs *= (1+100*destRange[neighs])\n",
      "    \n",
      "    ## increase probability of jumping based on how long the consequent sequence has been\n",
      "    p = np.exp(-np.power(sequenceLength-maxSeqLength, 2)/(maxSeqLength*4.0))\n",
      "    probs[np.where(neighs == currentNode + 1)] *= 1-p\n",
      "    probs[np.where(neighs != currentNode + 1)] *= p\n",
      "    \n",
      "#     probs = np.power(probs, 1+destRange[neighs])\n",
      "    \n",
      "    probs /= np.sum(probs)\n",
      "    ## pick a random node to go to next\n",
      "    tmp = np.random.rand()\n",
      "    randNode = np.round(np.sum(np.cumsum(probs) < tmp))\n",
      "    newNode = neighs[randNode]#np.argmax(probs)]]\n",
      "    \n",
      "    if newNode == currentNode+1:\n",
      "        sequenceLength += 1.0\n",
      "    else :\n",
      "        print \"jump\",\n",
      "        sequenceLength = 1.0\n",
      "    \n",
      "    currentNode = newNode\n",
      "    finalFrames.append(currentNode)\n",
      "    print currentNode, sequenceLength, probs, pathProbMat[neighs, destFrame], destRange[neighs], neighs, tmp\n",
      "    \n",
      "    \n",
      "figure(\"fig1\"); \n",
      "for iN in initialNodes :\n",
      "    plot(np.arange(0, len(finalFrames)), np.ones(len(finalFrames))*iN, 'g')\n",
      "plot(finalFrames, 'b', np.repeat(destFrame, len(finalFrames)), \"r\")"
     ],
     "language": "python",
     "metadata": {},
     "outputs": [
      {
       "output_type": "stream",
       "stream": "stdout",
       "text": [
        "[ 117  496  833 1101]\n",
        "1101\n",
        "-8.0 67.0 168.0 243.0\n",
        "\n",
        "frame 0 from 1101\n",
        "1102 2.0 [ 1.] [  4.70000182e-45] [ 0.] [1102] 0.0172662779794\n",
        "\n",
        "frame 1 from 1102\n",
        "1103 3.0 [ 1.] [  1.52490982e-43] [ 0.] [1103] 0.241264789497\n",
        "\n",
        "frame 2 from 1103\n",
        "1104 4.0 [ 1.] [  5.10124306e-42] [ 0.] [1104] 0.252517279564\n",
        "\n",
        "frame 3 from 1104\n",
        "1105 5.0 [  1.00000000e+00   1.87328727e-10] [  1.47824111e-40   2.86071179e-39] [ 0.  0.] [1105 1258] 0.112345040649\n",
        "\n",
        "frame 4 from 1105\n",
        "1106 6.0 [  1.00000000e+00   2.98816554e-10] [  4.96055534e-39   7.73615421e-38] [ 0.  0.] [1106 1259] 0.635102347158\n",
        "\n",
        "frame 5 from 1106\n",
        "1107 7.0 [  9.99999999e-01   6.69683940e-10   1.60245799e-10] [  1.74678192e-38   2.26943938e-36   7.73615421e-38] [ 0.  0.  0.] [1107 1260 1259] 0.879575903538\n",
        "\n",
        "frame 6 from 1107\n",
        "1108 8.0 [  9.99999998e-01   4.81514616e-10   1.11730940e-09   4.06018133e-10\n",
        "   2.16984402e-10] [  4.92083384e-39   3.34887243e-36   1.18937396e-35   2.26943938e-36\n",
        "   9.42912627e-40] [ 0.  0.  0.  0.  0.] [1108 1262 1264 1260 1266] 0.643972712175\n",
        "\n",
        "frame 7 from 1108\n",
        "1109 9.0 [  9.99999997e-01   1.94943042e-09   4.21029701e-10   3.29146097e-10] [  8.18233330e-39   3.34887243e-36   1.30667129e-37   1.77685498e-38] [ 0.  0.  0.  0.] [1109 1262 1261 1267] 0.336467790484\n",
        "\n",
        "frame 8 from 1109\n",
        "1110 10.0 [  9.99999998e-01   4.50799481e-10   1.63043918e-09] [  2.76167869e-37   9.62320690e-38   1.54724841e-36] [ 0.  0.  0.] [1110  950  951] 0.580555991679\n",
        "\n",
        "frame 9 from 1110\n",
        "1111 11.0 [ 1.] [  8.78223389e-36] [ 0.] [1111] 0.847729220082\n",
        "\n",
        "frame 10 from 1111\n",
        "1112 12.0 [  9.99999995e-01   4.64444903e-09] [  2.37251704e-34   3.42178650e-33] [ 0.  0.] [1112 1211] 0.78592710427\n",
        "\n",
        "frame 11 from 1112\n",
        "1113 13.0 [  9.99999992e-01   8.37915271e-09] [  1.00910535e-34   7.75495801e-32] [ 0.  0.] [1113 1212] 0.708664879485\n",
        "\n",
        "frame 12 from 1113\n",
        "1114 14.0 [ 1.] [  2.67564749e-33] [ 0.] [1114] 0.714341288317\n",
        "\n",
        "frame 13 from 1114\n",
        "1115 15.0 [ 1.] [  6.87712438e-32] [ 0.] [1115] 0.944464915936\n",
        "\n",
        "frame 14 from 1115\n",
        "1116 16.0 [  9.99999997e-01   2.74151484e-09] [  1.70625329e-30   4.28996372e-34] [ 0.  0.] [1116  953] 0.621841771578\n",
        "\n",
        "frame 15 from 1116\n",
        "1117 17.0 [  9.99999935e-01   1.04519724e-08   5.49714295e-08] [  1.60358036e-61   6.91444849e-33   8.18184291e-28] [ 0.  0.  0.] [1117  954 1215] 0.58138362133\n",
        "\n",
        "frame 16 from 1117\n",
        "1118 18.0 [ 1.] [  3.94337711e-60] [ 0.] [1118] 0.729336174807\n",
        "\n",
        "frame 17 from 1118\n",
        "1119 19.0 [ 1.] [  9.52844305e-59] [ 0.] [1119] 0.648647755056\n",
        "\n",
        "frame 18 from 1119\n",
        "1120 20.0 [ 1.] [  2.25278713e-57] [ 0.] [1120] 0.172189532813\n",
        "\n",
        "frame 19 from 1120\n",
        "1121 21.0 [ 1.] [  5.05193581e-56] [ 0.] [1121] 0.842868302272\n",
        "\n",
        "frame 20 from 1121\n",
        "1122 22.0 [ 1.] [  1.08176858e-54] [ 0.] [1122] 0.0414377040315\n",
        "\n",
        "frame 21 from 1122\n",
        "1123 23.0 [ 1.] [  2.20073143e-53] [ 0.] [1123] 0.166829140323\n",
        "\n",
        "frame 22 from 1123\n",
        "1124 24.0 [ 1.] [  4.15717379e-52] [ 0.] [1124] 0.107860565594\n",
        "\n",
        "frame 23 from 1124\n",
        "1125 25.0 [ 1.] [  7.41954265e-51] [ 0.] [1125] 0.59675601027\n",
        "\n",
        "frame 24 from 1125\n",
        "1126 26.0 [ 1.] [  1.25904102e-49] [ 0.] [1126] 0.988089007384\n",
        "\n",
        "frame 25 from 1126\n",
        "1127 27.0 [ 1.] [  2.15471913e-48] [ 0.] [1127] 0.477451523075\n",
        "\n",
        "frame 26 from 1127\n",
        "1128 28.0 [ 1.] [  3.81859838e-47] [ 0.] [1128] 0.0110605966273\n",
        "\n",
        "frame 27 from 1128\n",
        "1129 29.0 [ 1.] [  7.11765702e-46] [ 0.] [1129] 0.737220513466\n",
        "\n",
        "frame 28 from 1129\n",
        "1130 30.0 [ 1.] [  1.45370969e-44] [ 0.] [1130] 0.145455519566\n",
        "\n",
        "frame 29 from 1130\n",
        "1131 31.0 [ 1.] [  3.24481065e-43] [ 0.] [1131] 0.646384796775\n",
        "\n",
        "frame 30 from 1131\n",
        "1132 32.0 [ 1.] [  7.82568273e-42] [ 0.] [1132] 0.36918213795\n",
        "\n",
        "frame 31 from 1132\n",
        "1133 33.0 [ 1.] [  2.05513856e-40] [ 0.] [1133] 0.240646906034\n",
        "\n",
        "frame 32 from 1133\n",
        "1134 34.0 [ 1.] [  5.87277155e-39] [ 0.] [1134] 0.826014122309\n",
        "\n",
        "frame 33 from 1134\n",
        "1135 35.0 [ 1.] [  1.77382235e-37] [ 0.] [1135] 0.19931139444\n",
        "\n",
        "frame 34 from 1135\n",
        "1136 36.0 [  9.99917056e-01   1.63888848e-05   6.65554637e-05] [  3.12092308e-42   3.34887243e-36   8.11972215e-35] [ 0.  0.  0.] [1136 1262 1263] 0.863037836339\n",
        "\n",
        "frame 35 from 1136\n",
        "1137 37.0 [ 1.] [  8.90863688e-41] [ 0.] [1137] 0.469880633657\n",
        "\n",
        "frame 36 from 1137\n",
        "1138 38.0 [  9.99907617e-01   9.23831735e-05] [  1.65515755e-39   9.62320690e-38] [ 0.  0.] [1138  950] 0.807763034761\n",
        "\n",
        "frame 37 from 1138\n",
        "1139 39.0 [  9.99805551e-01   3.89959490e-05   1.55453495e-04] [  1.44731734e-39   9.62320690e-38   1.54724841e-36] [ 0.  0.  0.] [1139  950  951] 0.446620131762\n",
        "\n",
        "frame 38 from 1139\n",
        "1140 40.0 [  9.99829682e-01   1.70317848e-04] [  2.97154221e-38   1.54724841e-36] [ 0.  0.] [1140  951] 0.43925958976\n",
        "\n",
        "frame 39 from 1140\n",
        "1141 41.0 [  9.99645164e-01   6.99464146e-05   2.84889086e-04] [  2.59860920e-38   1.54724841e-36   2.56640058e-35] [ 0.  0.  0.] [1141  951  952] 0.524068721725\n",
        "\n",
        "frame 40 from 1141\n",
        "1142 42.0 [  9.99677211e-01   3.22788803e-04] [  2.83199071e-41   2.56640058e-35] [ 0.  0.] [1142  952] 0.428273739319\n",
        "\n",
        "frame 41 from 1142\n",
        "1143 43.0 [ 1.] [  7.27154854e-40] [ 0.] [1143] 0.0555125359632\n",
        "\n",
        "frame 42 from 1143\n",
        "1144 44.0 [ 1.] [  1.88794852e-38] [ 0.] [1144] 0.455962587502\n",
        "\n",
        "frame 43 from 1144\n",
        "1145 45.0 [  9.99820689e-01   1.04671569e-04   7.46389338e-05] [  5.05345958e-37   4.96214229e-38   1.34974413e-40] [ 0.  0.  0.] [1145 1255 1253] 0.772816622022\n",
        "\n",
        "frame 44 from 1145\n",
        "1146 46.0 [  9.98470794e-01   1.24879143e-03   2.80414852e-04] [  8.88187287e-36   4.28996372e-34   2.87715312e-39] [ 0.  0.  0.] [1146  953 1254] 0.106884360184\n",
        "\n",
        "frame 45 from 1146\n",
        "1147 47.0 [  9.97211177e-01   4.29609870e-04   1.97196663e-03   3.87246024e-04] [  7.59736179e-36   4.28996372e-34   6.91444849e-33   4.96214229e-38] [ 0.  0.  0.  0.] [1147  953  954 1255] 0.804170090201\n",
        "\n",
        "frame 46 from 1147\n",
        "1148 48.0 [  9.94539611e-01   6.07303153e-04   5.08893382e-04   3.41972874e-03\n",
        "   4.86767951e-04   4.37695940e-04] [  6.42032570e-36   4.28996372e-34   3.41899318e-38   6.91444849e-33\n",
        "   4.96214229e-38   3.34314306e-38] [ 0.  0.  0.  0.  0.  0.] [1148  953 1256  954 1255  955] 0.923166607139\n",
        "\n",
        "frame 47 from 1148\n",
        "1149 49.0 [  9.94056658e-01   6.55975916e-04   6.33726872e-04   4.10011379e-03\n",
        "   5.53525645e-04] [  6.43421212e-42   1.18251598e-40   3.41899318e-38   6.91444849e-33\n",
        "   3.34314306e-38] [ 0.  0.  0.  0.  0.] [1149 1257 1256  954  955] 0.793251426057\n",
        "\n",
        "frame 48 from 1149\n",
        "1150 50.0 [  9.95500563e-01   8.49981573e-04   3.64945538e-03] [  2.91890454e-50   1.18251598e-40   8.94617014e-39] [ 0.  0.  0.] [1150 1257  956] 0.310376214638\n",
        "\n",
        "frame 49 from 1150\n",
        "1151 51.0 [ 1.] [  8.18111953e-49] [ 0.] [1151] 0.407409252119\n",
        "\n",
        "frame 50 from 1151\n",
        "1152 52.0 [ 1.] [  2.20030918e-47] [ 0.] [1152] 0.257700299959\n",
        "\n",
        "frame 51 from 1152\n",
        "1153 53.0 [ 1.] [  5.89080928e-46] [ 0.] [1153] 0.847975731494\n",
        "\n",
        "frame 52 from 1153\n",
        "1154 54.0 [ 1.] [  1.56118015e-44] [ 0.] [1154] 0.392847666162\n",
        "\n",
        "frame 53 from 1154\n",
        "1155 55.0 [ 0.98956587  0.01043413] [  7.33891419e-52   6.28557100e-42] [ 0.  0.] [1155 1252] 0.713341251977\n",
        "\n",
        "frame 54 from 1155\n",
        "1156 56.0 [ 1.] [  1.76274135e-50] [ 0.] [1156] 0.374417809419\n",
        "\n",
        "frame 55 from 1156\n",
        "1157 57.0 [ 1.] [  4.05566245e-49] [ 0.] [1157] 0.208422332103\n",
        "\n",
        "frame 56 from 1157\n",
        "1158 58.0 [ 1.] [  9.40652043e-48] [ 0.] [1158] 0.151381364223\n",
        "\n",
        "frame 57 from 1158\n",
        "1159 59.0 [ 1.] [  2.26846642e-46] [ 0.] [1159] 0.170438182932\n",
        "\n",
        "frame 58 "
       ]
      },
      {
       "output_type": "stream",
       "stream": "stdout",
       "text": [
        "from 1159\n",
        "1160 60.0 [ 1.] [  5.79388540e-45] [ 0.] [1160] 0.706272138558\n",
        "\n",
        "frame 59 from 1160\n",
        "1161 61.0 [ 1.] [  1.59762743e-43] [ 0.] [1161] 0.515391861179\n",
        "\n",
        "frame 60 from 1161\n",
        "1162 62.0 [ 1.] [  4.50995306e-42] [ 0.] [1162] 0.269542267503\n",
        "\n",
        "frame 61 from 1162\n",
        "1163 63.0 [ 1.] [  1.29222520e-40] [ 0.] [1163] 0.261557697354\n",
        "\n",
        "frame 62 from 1163\n",
        "1164 64.0 [ 1.] [  3.91996686e-39] [ 0.] [1164] 0.0506435923127\n",
        "\n",
        "frame 63 from 1164\n",
        "1165 65.0 [ 0.99026721  0.00973279] [  1.30067309e-37   2.86071179e-39] [ 0.  0.] [1165 1258] 0.224990578357\n",
        "\n",
        "frame 64 from 1165\n",
        "1166 66.0 [ 0.08484366  0.91515634] [  8.11972215e-35   4.12621785e-36] [ 0.  0.] [1263 1166] 0.294190888993\n",
        "\n",
        "frame 65 from 1166\n",
        "1167 67.0 [ 0.95295431  0.03090675  0.01613894] [  1.46535941e-34   8.11972215e-35   1.18937396e-35] [ 0.  0.  0.] [1167 1263 1264] 0.0584122443583\n",
        "\n",
        "frame 66 from 1167\n",
        "1168 68.0 [ 0.16952535  0.76949343  0.02946473  0.03151649] [  1.67180360e-31   2.75946392e-37   1.18937396e-35   8.95149832e-37] [ 0.  0.  0.  0.] [ 972 1168 1264 1220] 0.926674806304\n",
        "\n",
        "frame 67 from 1168\n",
        "1169 69.0 [ 0.97039704  0.01369019  0.01591278] [  9.24976665e-36   9.42912627e-40   6.57424199e-38] [ 0.  0.  0.] [1169 1266 1221] 0.179491214871\n",
        "\n",
        "frame 68 from 1169\n",
        "1170 70.0 [ 0.96598679  0.01453866  0.01947455] [  3.03385241e-34   9.62320690e-38   1.84292219e-36] [ 0.  0.  0.] [1170  950 1222] 0.459755453653\n",
        "\n",
        "frame 69 from 1170\n",
        "1171 71.0 [ 0.01562301  0.94830295  0.01840429  0.01766975] [  1.17823609e-36   9.58922618e-33   1.75830428e-36   1.84292219e-36] [ 0.  0.  0.  0.] [ 974 1171 1223 1222] 0.454206955609\n",
        "\n",
        "frame 70 from 1171\n",
        "1172 72.0 [ 0.0306851  0.9693149] [  5.03274294e-35   2.84401535e-31] [ 0.  0.] [1224 1172] 0.0947288037227\n",
        "\n",
        "frame 71 from 1172\n",
        "1173 73.0 [ 1.] [  7.99867268e-30] [ 0.] [1173] 0.77246798259\n",
        "\n",
        "frame 72 from 1173\n",
        "1174 74.0 [ 1.] [  2.17630362e-28] [ 0.] [1174] 0.224965507048\n",
        "\n",
        "frame 73 from 1174\n",
        "1175 75.0 [ 1.] [  5.93787490e-27] [ 0.] [1175] 0.0261244537245\n",
        "\n",
        "frame 74 from 1175\n",
        "jump 1203 1.0 [ 0.66632657  0.33367343] [  1.21037948e-25   2.33259306e-24] [ 0.  0.] [1176 1203] 0.916985861689\n",
        "\n",
        "frame 75 from 1203\n",
        "1204 2.0 [  1.00000000e+00   5.54681889e-12] [  5.11747860e-23   5.93787490e-27] [ 0.  0.] [1204 1175] 0.339970571942\n",
        "\n",
        "frame 76 from 1204\n",
        "1205 3.0 [  1.00000000e+00   9.08679662e-12] [  1.14745918e-21   1.21037948e-25] [ 0.  0.] [1205 1176] 0.55160860565\n",
        "\n",
        "frame 77 from 1205\n",
        "1206 4.0 [  1.00000000e+00   1.46238786e-11] [  2.65615605e-20   2.84009738e-24] [ 0.  0.] [1206 1177] 0.590682875685\n",
        "\n",
        "frame 78 from 1206\n",
        "1207 5.0 [  1.00000000e+00   1.69631938e-10] [  5.42432682e-19   3.77986707e-18] [ 0.  0.] [1207 1088] 0.375317100768\n",
        "\n",
        "frame 79 from 1207\n",
        "1208 6.0 [  1.00000000e+00   2.73451567e-10] [  1.12208359e-17   7.92148545e-17] [ 0.  0.] [1208 1089] 0.78530128285\n",
        "\n",
        "frame 80 from 1208\n",
        "1209 7.0 [  1.00000000e+00   4.37703259e-10] [  2.40300123e-16   1.69280043e-15] [ 0.  0.] [1209 1090] 0.151304711096\n",
        "\n",
        "frame 81 from 1209\n",
        "1210 8.0 [  9.99999999e-01   6.92115314e-10] [  5.23946132e-15   3.72830782e-14] [ 0.  0.] [1210 1091] 0.326663375291\n",
        "\n",
        "frame 82 from 1210\n",
        "1211 9.0 [  9.99999999e-01   1.44237162e-09] [  3.42178650e-33   8.14448338e-13] [ 0.  0.] [1211 1092] 0.0445142783002\n",
        "\n",
        "frame 83 from 1211\n",
        "1212 10.0 [  1.00000000e+00   2.42029730e-10] [  7.75495801e-32   8.78223389e-36] [ 0.  0.] [1212 1111] 0.355875390787\n",
        "\n",
        "frame 84 from 1212\n",
        "1213 11.0 [  1.00000000e+00   3.80378811e-10] [  1.71521774e-30   2.37251704e-34] [ 0.  0.] [1213 1112] 0.20723267051\n",
        "\n",
        "frame 85 from 1213\n",
        "1214 12.0 [  9.99999999e-01   6.08600542e-10] [  3.73794780e-29   4.59617873e-33] [ 0.  0.] [1214 1069] 0.150550163033\n",
        "\n",
        "frame 86 from 1214\n",
        "1215 13.0 [  9.99999999e-01   9.65004024e-10] [  8.18184291e-28   9.47966960e-32] [ 0.  0.] [1215 1070] 0.949676470098\n",
        "\n",
        "frame 87 from 1215\n",
        "1216 14.0 [  9.99999998e-01   1.22399414e-09   1.14559862e-09] [  1.82904956e-26   1.88558000e-30   1.70625329e-30] [ 0.  0.  0.] [1216 1071 1116] 0.12874135422\n",
        "\n",
        "frame 88 from 1216\n",
        "1217 15.0 [  9.99999966e-01   6.28721513e-09   2.72821676e-08] [  4.86980556e-41   3.69390187e-29   2.84009738e-24] [ 0.  0.  0.] [1217 1072 1177] 0.778437144118\n",
        "\n",
        "frame 89 from 1217\n",
        "1218 16.0 [  9.99999989e-01   7.42634508e-09   3.48974027e-09] [  1.18595688e-39   5.06035221e-40   1.29703875e-43] [ 0.  0.  0.] [1218 1073 1178] 0.287313090981\n",
        "\n",
        "frame 90 from 1218\n",
        "1219 17.0 [  9.99999982e-01   1.20379762e-08   5.61699299e-09] [  3.17792263e-38   1.52929659e-38   3.32653735e-42] [ 0.  0.  0.] [1219 1074 1179] 0.679884289053\n",
        "\n",
        "frame 91 from 1219\n",
        "1220 18.0 [  9.99999971e-01   8.84752049e-09   1.96593168e-08] [  8.95149832e-37   9.06846605e-41   5.02155974e-37] [ 0.  0.  0.] [1220 1180 1075] 0.953887151047\n",
        "\n",
        "frame 92 from 1220\n",
        "1221 19.0 [  9.99999819e-01   1.47958127e-07   3.25664611e-08] [  6.57424199e-38   1.46535941e-34   2.49893019e-39] [ 0.  0.  0.] [1221 1167 1181] 0.988346663292\n",
        "\n",
        "frame 93 from 1221\n",
        "1222 20.0 [  9.99999960e-01   2.42081850e-08   1.62372080e-08] [  1.84292219e-36   2.75946392e-37   2.04507968e-40] [ 0.  0.  0.] [1222 1168 1182] 0.412680658661\n",
        "\n",
        "frame 94 from 1222\n",
        "1223 21.0 [  9.99999595e-01   8.21476567e-08   3.22363364e-07] [  1.75830428e-36   9.24976665e-36   3.03385241e-34] [ 0.  0.  0.] [1223 1169 1170] 0.98795516599\n",
        "\n",
        "frame 95 from 1223\n",
        "1224 22.0 [ 1.] [  5.03274294e-35] [ 0.] [1224] 0.707168343713\n",
        "\n",
        "frame 96 from 1224\n",
        "1225 23.0 [  1.19767520e-07   1.29780776e-07   9.99998619e-01   9.74112343e-07\n",
        "   1.57364831e-07] [  1.17823609e-36   2.07485909e-37   2.03752368e-40   9.58922618e-33\n",
        "   1.09781875e-37] [ 0.  0.  0.  0.  0.] [ 974  975 1225 1171 1037] 0.138476969564\n",
        "\n",
        "frame 97 from 1225\n",
        "1226 24.0 [  9.55180526e-07   9.99998812e-01   2.32379838e-07] [  2.07485909e-37   2.58191021e-45   4.23929051e-43] [ 0.  0.  0.] [ 975 1226 1038] 0.243015180923\n",
        "\n",
        "frame 98 from 1226\n",
        "1227 25.0 [  9.39709092e-07   9.99997997e-01   2.82136927e-07   7.81340546e-07] [  5.43414608e-43   7.36187756e-44   5.67210406e-48   4.02495152e-43] [ 0.  0.  0.  0.] [1238 1227 1039 1239] 0.280133846524\n",
        "\n",
        "frame 99 from 1227\n",
        "1228 26.0 [  9.99997193e-01   5.13047240e-07   2.29394249e-06] [  1.58006758e-44   1.51368243e-46   1.42609078e-41] [ 0.  0.  0.] [1228 1040 1240] 0.807804334224\n",
        "\n",
        "frame 100 from 1228\n",
        "1229 27.0 [  7.49015929e-07   9.99995572e-01   5.26968136e-07   2.58694388e-06\n",
        "   5.65160211e-07] [  4.02495152e-43   5.02401334e-43   2.65246370e-46   2.91098449e-42\n",
        "   8.04376850e-44] [ 0.  0.  0.  0.  0.] [1239 1229 1041 1242 1241] 0.242490563268\n",
        "\n",
        "frame 101 from 1229\n",
        "1230 28.0 [  1.12702116e-06   7.03049692e-07   9.99993578e-01   7.72424317e-07\n",
        "   3.81984167e-06] [  1.42609078e-41   8.04376850e-44   1.69296823e-41   7.67266972e-45\n",
        "   1.00520741e-40] [ 0.  0.  0.  0.  0.] [1240 1241 1230 1042 1243] 0.0153548586134\n",
        "\n",
        "frame 102 from 1230\n",
        "1231 29.0 [  4.19659246e-07   9.99998319e-01   4.71211617e-07   7.89984033e-07] [  8.04376850e-44   6.15389316e-40   2.86570861e-43   1.23041013e-40] [ 0.  0.  0.  0.] [1241 1231 1043 1192] 0.958782297148\n",
        "\n",
        "frame 103 from 1231\n",
        "1232 30.0 [  9.99997070e-01   7.16075620e-07   1.06492746e-06   1.14890105e-06] [  2.25324387e-38   1.07692164e-41   3.54723578e-39   4.41608297e-39] [ 0.  0.  0.  0.] [1232 1044 1244 1193] 0.940961022146\n",
        "\n",
        "frame 104 from 1232\n",
        "1233 31.0 [  9.99996620e-01   9.27770543e-07   8.99716683e-07   1.55253980e-06] [  8.31179652e-37   2.12883363e-40   7.68051185e-41   1.58450194e-37] [ 0.  0.  0.  0.] [1233 1045 1245 1194] 0.530026526165\n",
        "\n",
        "frame 105 from 1233\n",
        "1234 32.0 [  9.99995295e-01   1.32477144e-06   2.19899036e-06   1.18089275e-06] [  2.97296617e-35   6.38847726e-39   5.65192086e-36   3.38007855e-39] [ 0.  0.  0.  0.] [1234 1046 1195  998] 0.239321461243\n",
        "\n",
        "frame 106 from 1234\n",
        "1235 33.0 [  9.99941026e-01   6.40174970e-06   7.28389633e-06   3.95355514e-05\n",
        "   5.75310187e-06] [  2.25399743e-38   1.71960946e-37   1.96814740e-34   6.74080375e-33\n",
        "   1.14215766e-37] [ 0.  0.  0.  0.  0.] [1235 1047 1196 1197  999] 0.662505242218\n",
        "\n",
        "frame 107 from 1235\n",
        "1236 34.0 [  9.99935426e-01   8.23612239e-06   8.68540668e-06   4.76527574e-05] [  2.34041214e-45   8.57420652e-41   6.36707885e-41   5.86969621e-36] [ 0.  0.  0.  0.] [1236 1000 1002 1048] 0.0189532175363\n",
        "\n",
        "frame 108 from 1236\n",
        "1237 35.0 [  9.99959218e-01   4.07816679e-05] [  1.49386407e-44   5.25288491e-43] [ 0.  0.] [1237 1003] 0.902902895329\n",
        "\n",
        "frame 109 from 1237\n",
        "1238 36.0 [  9.99983366e-01   4.98688489e-06   7.44839878e-06   4.19847567e-06] [  5.43414608e-43   1.78713071e-45   8.04376850e-44   6.60844525e-47] [ 0.  0.  0.  0.] [1238 1004 1241  988] 0.904489063781\n",
        "\n",
        "frame 110 from 1238\n",
        "1239 37.0 [  1.40114445e-04   9.99790874e-01   2.30555786e-05   2.26701638e-05\n",
        "   2.32858116e-05] [  5.29537829e-40   4.02495152e-43   1.41558141e-45   2.58191021e-45\n",
        "   2.91098449e-42] [ 0.  0.  0.  0.  0.] [ 976 1239 1005 1226 1242] 0.990897044841\n",
        "\n",
        "frame 111 from 1239\n",
        "1240 38.0 [  1.43336035e-04   2.16558869e-05   2.43001640e-05   9.99672998e-01\n",
        "   8.55369833e-05   2.61785146e-05   2.59944752e-05] [  2.03752368e-40   3.13043271e-45   2.58191021e-45   1.42609078e-41\n",
        "   1.00520741e-40   1.58006758e-44   9.52656456e-46] [ 0.  0.  0.  0.  0.  0.  0.] [1225  977 1226 1240 1243 1228 1006] 0.945221476689\n",
        "\n",
        "frame 112 from 1240\n",
        "1241 39.0 [  3.90376491e-05   3.70454069e-05   3.96551903e-05   9.99527933e-01\n",
        "   3.13047923e-04   4.32808614e-05] [  2.58191021e-45   7.55758587e-44   7.36187756e-44   8.04376850e-44\n",
        "   3.54723578e-39   2.00180790e-44] [ 0.  0.  0.  0.  0.  0.] [1226  978 1227 1241 1244  980] 0.729946416665\n",
        "\n",
        "frame 113 from 1241\n",
        "1242 40.0 [  3.12495645e-05   9.99492704e-01   2.98589273e-05   3.03774160e-05\n",
        "   2.90451781e-05   2.73827482e-04   4.11456395e-05   3.98466391e-05\n",
        "   3.19455235e-05] [  1.49386407e-44   2.91098449e-42   7.36187756e-44   1.58006758e-44\n",
        "   7.15674474e-46   1.69296823e-41   5.92138952e-43   5.02401334e-43\n",
        "   2.65246370e-46] [ 0.  0.  0.  0.  0.  0.  0.  0.  0.] [1237 1242 1227 1228  979 1230  981 1229 1041] 0.445368927665\n",
        "\n",
        "frame 114 from 1242\n",
        "1243 41.0 [  4.98220060e-05   9.99363632e-01   3.25751809e-04   1.06690569e-04\n",
        "   5.95312613e-05   4.66736126e-05   4.78987292e-05] [  5.43414608e-43   1.00520741e-40   6.15389316e-40   1.23041013e-40\n",
        "   1.80665729e-41   1.58006758e-44   2.00180790e-44] [ 0.  0.  0.  0.  0.  0.  0.]"
       ]
      },
      {
       "output_type": "stream",
       "stream": "stdout",
       "text": [
        " [1238 1243 1231 1192  982 1228  980] 0.464392343268\n",
        "\n",
        "frame 115 from 1243\n",
        "1244 42.0 [  6.42222194e-05   9.99055456e-01   4.78294371e-04   1.47317984e-04\n",
        "   6.68906174e-05   6.40971505e-05   6.14245002e-05   6.22976317e-05] [  4.02495152e-43   3.54723578e-39   2.25324387e-38   4.41608297e-39\n",
        "   2.86570861e-43   1.69296823e-41   5.02401334e-43   5.92138952e-43] [ 0.  0.  0.  0.  0.  0.  0.  0.] [1239 1244 1232 1193 1043 1230 1229  981] 0.660766517414\n",
        "\n",
        "frame 116 from 1244\n",
        "1245 43.0 [  1.39568605e-04   1.40382983e-04   9.98071288e-01   1.22174457e-03\n",
        "   1.45663495e-04   1.42374222e-04   1.38977773e-04] [  4.02495152e-43   1.42609078e-41   7.68051185e-41   8.31179652e-37\n",
        "   1.07692164e-41   6.15389316e-40   1.80665729e-41] [ 0.  0.  0.  0.  0.  0.  0.] [1239 1240 1245 1233 1044 1231  982] 0.431579537548\n",
        "\n",
        "frame 117 from 1245\n",
        "1246 44.0 [  1.47485972e-04   6.48282668e-04   9.99204231e-01] [  1.80665729e-41   2.25324387e-38   2.31763578e-39] [ 0.  0.  0.] [ 982 1232 1246] 0.294695086601\n",
        "\n",
        "frame 118 from 1246\n",
        "1247 45.0 [  9.99845817e-01   7.71611284e-05   7.70215914e-05] [  7.58015517e-38   8.60425361e-42   1.87486470e-40] [ 0.  0.  0.] [1247 1015 1029] 0.906006354268\n",
        "\n",
        "frame 119 from 1247\n",
        "1248 46.0 [  9.99745781e-01   8.64472395e-05   8.38975408e-05   8.38746174e-05] [  2.37418346e-36   2.75076462e-40   3.01205671e-40   2.12883363e-40] [ 0.  0.  0.  0.] [1248 1016 1058 1045] 0.186206160018\n",
        "\n",
        "frame 120 from 1248\n",
        "1249 47.0 [  9.17126006e-05   9.99620364e-01   9.91035274e-05   9.50589645e-05\n",
        "   9.37609276e-05] [  1.10034804e-38   6.73772445e-35   8.80215397e-39   8.79515202e-39\n",
        "   6.38847726e-39] [ 0.  0.  0.  0.  0.] [ 984 1249 1017 1059 1046] 0.98848069965\n",
        "\n",
        "frame 121 from 1249\n",
        "1250 48.0 [  9.99782995e-01   2.17004533e-04] [  1.69891944e-33   2.50000364e-37] [ 0.  0.] [1250 1018] 0.0338736533434\n",
        "\n",
        "frame 122 from 1250\n",
        "1251 49.0 [  9.95902226e-01   4.77911883e-04   4.72555004e-04   2.68605890e-03\n",
        "   4.61248074e-04] [  3.88370740e-32   6.16574353e-36   4.59544233e-36   2.14605119e-31\n",
        "   5.86969621e-36] [ 0.  0.  0.  0.  0.] [1251 1019 1049 1198 1048] 0.499305082584\n",
        "\n",
        "frame 123 from 1251\n",
        "1252 50.0 [  9.92943189e-01   9.43741986e-04   9.36298245e-04   5.17677070e-03] [  6.28557100e-42   1.34424807e-34   9.98395104e-35   6.39875552e-30] [ 0.  0.  0.  0.] [1252 1020 1050 1199] 0.778481307873\n",
        "\n",
        "frame 124 from 1252\n",
        "1253 51.0 [  9.99064633e-01   3.16129810e-04   3.18448957e-04   3.00787946e-04] [  1.34974413e-40   2.19917003e-44   4.97589085e-43   1.56118015e-44] [ 0.  0.  0.  0.] [1253 1021 1051 1154] 0.973149519086\n",
        "\n",
        "frame 125 from 1253\n",
        "1254 52.0 [ 0.9923809   0.00110083  0.00108798  0.00543029] [  2.87715312e-39   4.59831787e-43   3.69790838e-43   1.88794852e-38] [ 0.  0.  0.  0.] [1254 1022 1052 1144] 0.815694873312\n",
        "\n",
        "frame 126 from 1254\n",
        "1255 53.0 [ 0.98917729  0.00150261  0.00784     0.0014801 ] [  4.96214229e-38   8.65568430e-42   5.05345958e-37   8.01008674e-42] [ 0.  0.  0.  0.] [1255 1023 1145 1053] 0.967486144693\n",
        "\n",
        "frame 127 from 1255\n",
        "1256 54.0 [ 0.98213763  0.00820614  0.00735405  0.00230218] [  3.41899318e-38   8.88187287e-36   7.59736179e-36   1.87486470e-40] [ 0.  0.  0.  0.] [1256 1146 1147 1029] 0.0413859731748\n",
        "\n",
        "frame 128 from 1256\n",
        "1257 55.0 [ 0.98316988  0.01387124  0.00295888] [  1.18251598e-40   6.42032570e-36   5.92970654e-39] [ 0.  0.  0.] [1257 1148 1030] 0.660086565118\n",
        "\n",
        "frame 129 from 1257\n",
        "1258 56.0 [ 0.98584501  0.00277795  0.01137704] [  2.86071179e-39   6.43421212e-42   1.52929659e-38] [ 0.  0.  0.] [1258 1149 1074] 0.787825233004\n",
        "\n",
        "frame 130 from 1258\n",
        "1259 57.0 [ 0.96838199  0.0034891   0.00358683  0.016385    0.00815708] [  7.73615421e-38   5.10124306e-42   3.91996686e-39   5.02155974e-37\n",
        "   1.82092135e-37] [ 0.  0.  0.  0.  0.] [1259 1104 1164 1075 1031] 0.358509751329\n",
        "\n",
        "frame 131 from 1259\n",
        "1260 58.0 [ 0.9684867   0.02266654  0.0044235   0.00442327] [  2.26943938e-36   1.77024698e-35   1.47824111e-40   4.96055534e-39] [ 0.  0.  0.  0.] [1260 1076 1105 1106] 0.918700775887\n",
        "\n",
        "frame 132 from 1260\n",
        "jump 1107 1.0 [ 0.00702114  0.93805579  0.00682295  0.04284476  0.00525536] [  1.18937396e-35   1.30667129e-37   1.74678192e-38   6.49725548e-34\n",
        "   8.94617014e-39] [ 0.  0.  0.  0.  0.] [1264 1261 1107 1077  956] 0.948762157566\n",
        "\n",
        "frame 133 from 1107\n",
        "1108 2.0 [  1.00000000e+00   2.70297088e-11   6.27198983e-11   2.27917316e-11\n",
        "   1.21803680e-11] [  4.92083384e-39   3.34887243e-36   1.18937396e-35   2.26943938e-36\n",
        "   9.42912627e-40] [ 0.  0.  0.  0.  0.] [1108 1262 1264 1260 1266] 0.819311392214\n",
        "\n",
        "frame 134 from 1108\n",
        "1109 3.0 [  1.00000000e+00   1.12763479e-10   2.43541772e-11   1.90392325e-11] [  8.18233330e-39   3.34887243e-36   1.30667129e-37   1.77685498e-38] [ 0.  0.  0.  0.] [1109 1262 1261 1267] 0.0267416835312\n",
        "\n",
        "frame 135 from 1109\n",
        "1110 4.0 [  1.00000000e+00   2.68703281e-11   9.71838645e-11] [  2.76167869e-37   9.62320690e-38   1.54724841e-36] [ 0.  0.  0.] [1110  950  951] 0.534782421923\n",
        "\n",
        "frame 136 from 1110\n",
        "1111 5.0 [ 1.] [  8.78223389e-36] [ 0.] [1111] 0.821409269485\n",
        "\n",
        "frame 137 from 1111\n",
        "1112 6.0 [  1.00000000e+00   2.93955393e-10] [  2.37251704e-34   3.42178650e-33] [ 0.  0.] [1112 1211] 0.696239773814\n",
        "\n",
        "frame 138 from 1112\n",
        "1113 7.0 [  9.99999999e-01   5.46482390e-10] [  1.00910535e-34   7.75495801e-32] [ 0.  0.] [1113 1212] 0.639085893237\n",
        "\n",
        "frame 139 from 1113\n",
        "1114 8.0 [ 1.] [  2.67564749e-33] [ 0.] [1114] 0.720617265248\n",
        "\n",
        "frame 140 from 1114\n",
        "1115 9.0 [ 1.] [  6.87712438e-32] [ 0.] [1115] 0.786178773214\n",
        "\n",
        "frame 141 from 1115\n",
        "1116 10.0 [  1.00000000e+00   1.95637977e-10] [  1.70625329e-30   4.28996372e-34] [ 0.  0.] [1116  953] 0.121258078625\n",
        "\n",
        "frame 142 from 1116\n",
        "1117 11.0 [  9.99999995e-01   7.68581054e-10   4.04229915e-09] [  1.60358036e-61   6.91444849e-33   8.18184291e-28] [ 0.  0.  0.] [1117  954 1215] 0.0954839365894\n",
        "\n",
        "frame 143 from 1117\n",
        "1118 12.0 [ 1.] [  3.94337711e-60] [ 0.] [1118] 0.809632755771\n",
        "\n",
        "frame 144 from 1118\n",
        "1119 13.0 [ 1.] [  9.52844305e-59] [ 0.] [1119] 0.00906797160519\n",
        "\n",
        "frame 145 from 1119\n",
        "1120 14.0 [ 1.] [  2.25278713e-57] [ 0.] [1120] 0.160753164556\n",
        "\n",
        "frame 146 from 1120\n",
        "1121 15.0 [ 1.] [  5.05193581e-56] [ 0.] [1121] 0.2655992272\n",
        "\n",
        "frame 147 from 1121\n",
        "1122 16.0 [ 1.] [  1.08176858e-54] [ 0.] [1122] 0.460546218134\n",
        "\n",
        "frame 148 from 1122\n",
        "1123 17.0 [ 1.] [  2.20073143e-53] [ 0.] [1123] 0.333616476913\n",
        "\n",
        "frame 149 from 1123\n",
        "1124 18.0 [ 1.] [  4.15717379e-52] [ 0.] [1124] 0.681215629672\n",
        "\n",
        "frame 150 from 1124\n",
        "1125 19.0 [ 1.] [  7.41954265e-51] [ 0.] [1125] 0.860807692519\n",
        "\n",
        "frame 151 from 1125\n",
        "1126 20.0 [ 1.] [  1.25904102e-49] [ 0.] [1126] 0.0816472560977\n",
        "\n",
        "frame 152 from 1126\n",
        "1127 21.0 [ 1.] [  2.15471913e-48] [ 0.] [1127] 0.926166648651\n",
        "\n",
        "frame 153 from 1127\n",
        "1128 22.0 [ 1.] [  3.81859838e-47] [ 0.] [1128] 0.562695309726\n",
        "\n",
        "frame 154 from 1128\n",
        "1129 23.0 [ 1.] [  7.11765702e-46] [ 0.] [1129] 0.667626307801\n",
        "\n",
        "frame 155 from 1129\n",
        "1130 24.0 [ 1.] [  1.45370969e-44] [ 0.] [1130] 0.654830378162\n",
        "\n",
        "frame 156 from 1130\n",
        "1131 25.0 [ 1.] [  3.24481065e-43] [ 0.] [1131] 0.683014682963\n",
        "\n",
        "frame 157 from 1131\n",
        "1132 26.0 [ 1.] [  7.82568273e-42] [ 0.] [1132] 0.395284623337\n",
        "\n",
        "frame 158 from 1132\n",
        "1133 27.0 [ 1.] [  2.05513856e-40] [ 0.] [1133] 0.593165760582\n",
        "\n",
        "frame 159 from 1133\n",
        "1134 28.0 [ 1.] [  5.87277155e-39] [ 0.] [1134] 0.541642226792\n",
        "\n",
        "frame 160 from 1134\n",
        "1135 29.0 [ 1.] [  1.77382235e-37] [ 0.] [1135] 0.278515002619\n",
        "\n",
        "frame 161 from 1135\n",
        "1136 30.0 [  9.99989214e-01   2.13113138e-06   8.65455090e-06] [  3.12092308e-42   3.34887243e-36   8.11972215e-35] [ 0.  0.  0.] [1136 1262 1263] 0.0245340060455\n",
        "\n",
        "frame 162 from 1136\n",
        "1137 31.0 [ 1.] [  8.90863688e-41] [ 0.] [1137] 0.728692138341\n",
        "\n",
        "frame 163 from 1137\n",
        "1138 32.0 [  9.99987244e-01   1.27557507e-05] [  1.65515755e-39   9.62320690e-38] [ 0.  0.] [1138  950] 0.275120347105\n",
        "\n",
        "frame 164 from 1138\n",
        "1139 33.0 [  9.99972332e-01   5.54871879e-06   2.21194188e-05] [  1.44731734e-39   9.62320690e-38   1.54724841e-36] [ 0.  0.  0.] [1139  950  951] 0.375587657955\n",
        "\n",
        "frame 165 from 1139\n",
        "1140 34.0 [  9.99975029e-01   2.49714686e-05] [  2.97154221e-38   1.54724841e-36] [ 0.  0.] [1140  951] 0.626443404764\n",
        "\n",
        "frame 166 from 1140\n",
        "1141 35.0 [  9.99946384e-01   1.05690081e-05   4.30471679e-05] [  2.59860920e-38   1.54724841e-36   2.56640058e-35] [ 0.  0.  0.] [1141  951  952] 0.519201599702\n",
        "\n",
        "frame 167 from 1141\n",
        "1142 36.0 [  9.99949744e-01   5.02560288e-05] [  2.83199071e-41   2.56640058e-35] [ 0.  0.] [1142  952] 0.25107647878\n",
        "\n",
        "frame 168 from 1142\n",
        "1143 37.0 [ 1.] [  7.27154854e-40] [ 0.] [1143] 0.0678438609258\n",
        "\n",
        "frame 169 from 1143\n",
        "1144 38.0 [ 1.] [  1.88794852e-38] [ 0.] [1144] 0.0255442630467\n",
        "\n",
        "frame 170 from 1144\n",
        "1145 39.0 [  9.99969463e-01   1.78258497e-05   1.27112111e-05] [  5.05345958e-37   4.96214229e-38   1.34974413e-40] [ 0.  0.  0.] [1145 1255 1253]"
       ]
      },
      {
       "output_type": "stream",
       "stream": "stdout",
       "text": [
        " 0.82461665768\n",
        "\n",
        "frame 171 from 1145\n",
        "1146 40.0 [  9.99731369e-01   2.19371076e-04   4.92595532e-05] [  8.88187287e-36   4.28996372e-34   2.87715312e-39] [ 0.  0.  0.] [1146  953 1254] 0.843615265415\n",
        "\n",
        "frame 172 from 1146\n",
        "1147 41.0 [  9.99494725e-01   7.78361278e-05   3.57278212e-04   7.01607041e-05] [  7.59736179e-36   4.28996372e-34   6.91444849e-33   4.96214229e-38] [ 0.  0.  0.  0.] [1147  953  954 1255] 0.117841798602\n",
        "\n",
        "frame 173 from 1147\n",
        "1148 42.0 [  9.98978525e-01   1.13608195e-04   9.51986800e-05   6.39728621e-04\n",
        "   9.10596758e-05   8.18797752e-05] [  6.42032570e-36   4.28996372e-34   3.41899318e-38   6.91444849e-33\n",
        "   4.96214229e-38   3.34314306e-38] [ 0.  0.  0.  0.  0.  0.] [1148  953 1256  954 1255  955] 0.511013037589\n",
        "\n",
        "frame 174 from 1148\n",
        "1149 43.0 [  9.98854147e-01   1.26469528e-04   1.22180001e-04   7.90485508e-04\n",
        "   1.06717526e-04] [  6.43421212e-42   1.18251598e-40   3.41899318e-38   6.91444849e-33\n",
        "   3.34314306e-38] [ 0.  0.  0.  0.  0.] [1149 1257 1256  954  955] 0.684657230713\n",
        "\n",
        "frame 175 from 1149\n",
        "1150 44.0 [  9.99107416e-01   1.68616566e-04   7.23967029e-04] [  2.91890454e-50   1.18251598e-40   8.94617014e-39] [ 0.  0.  0.] [1150 1257  956] 0.426865174616\n",
        "\n",
        "frame 176 from 1150\n",
        "1151 45.0 [ 1.] [  8.18111953e-49] [ 0.] [1151] 0.175606972965\n",
        "\n",
        "frame 177 from 1151\n",
        "1152 46.0 [ 1.] [  2.20030918e-47] [ 0.] [1152] 0.177901273921\n",
        "\n",
        "frame 178 from 1152\n",
        "1153 47.0 [ 1.] [  5.89080928e-46] [ 0.] [1153] 0.64473103681\n",
        "\n",
        "frame 179 from 1153\n",
        "1154 48.0 [ 1.] [  1.56118015e-44] [ 0.] [1154] 0.0287554305314\n",
        "\n",
        "frame 180 from 1154\n",
        "1155 49.0 [ 0.99759087  0.00240913] [  7.33891419e-52   6.28557100e-42] [ 0.  0.] [1155 1252] 0.0159166795643\n",
        "\n",
        "frame 181 from 1155\n",
        "1156 50.0 [ 1.] [  1.76274135e-50] [ 0.] [1156] 0.119047041858\n",
        "\n",
        "frame 182 from 1156\n",
        "1157 51.0 [ 1.] [  4.05566245e-49] [ 0.] [1157] 0.449849514211\n",
        "\n",
        "frame 183 from 1157\n",
        "1158 52.0 [ 1.] [  9.40652043e-48] [ 0.] [1158] 0.257678802949\n",
        "\n",
        "frame 184 from 1158\n",
        "1159 53.0 [ 1.] [  2.26846642e-46] [ 0.] [1159] 0.126077369113\n",
        "\n",
        "frame 185 from 1159\n",
        "1160 54.0 [ 1.] [  5.79388540e-45] [ 0.] [1160] 0.750992016651\n",
        "\n",
        "frame 186 from 1160\n",
        "1161 55.0 [ 1.] [  1.59762743e-43] [ 0.] [1161] 0.477658511722\n",
        "\n",
        "frame 187 from 1161\n",
        "1162 56.0 [ 1.] [  4.50995306e-42] [ 0.] [1162] 0.909565101871\n",
        "\n",
        "frame 188 from 1162\n",
        "1163 57.0 [ 1.] [  1.29222520e-40] [ 0.] [1163] 0.157299954519\n",
        "\n",
        "frame 189 from 1163\n",
        "1164 58.0 [ 1.] [  3.91996686e-39] [ 0.] [1164] 0.216046014389\n",
        "\n",
        "frame 190 from 1164\n",
        "1165 59.0 [ 0.99704175  0.00295825] [  1.30067309e-37   2.86071179e-39] [ 0.  0.] [1165 1258] 0.505487993571\n",
        "\n",
        "frame 191 from 1165\n",
        "1166 60.0 [ 0.02789237  0.97210763] [  8.11972215e-35   4.12621785e-36] [ 0.  0.] [1263 1166] 0.151301527238\n",
        "\n",
        "frame 192 from 1166\n",
        "1167 61.0 [ 0.984589    0.01012429  0.00528672] [  1.46535941e-34   8.11972215e-35   1.18937396e-35] [ 0.  0.  0.] [1167 1263 1264] 0.971627535556\n",
        "\n",
        "frame 193 from 1167\n",
        "1168 62.0 [ 0.06516036  0.91140033  0.01132534  0.01211398] [  1.67180360e-31   2.75946392e-37   1.18937396e-35   8.95149832e-37] [ 0.  0.  0.  0.] [ 972 1168 1264 1220] 0.192086764884\n",
        "\n",
        "frame 194 from 1168\n",
        "1169 63.0 [ 0.98997763  0.00463495  0.00538743] [  9.24976665e-36   9.42912627e-40   6.57424199e-38] [ 0.  0.  0.] [1169 1266 1221] 0.666628535144\n",
        "\n",
        "frame 195 from 1169\n",
        "1170 64.0 [ 0.9882034   0.00504236  0.00675424] [  3.03385241e-34   9.62320690e-38   1.84292219e-36] [ 0.  0.  0.] [1170  950 1222] 0.93270917325\n",
        "\n",
        "frame 196 from 1170\n",
        "1171 65.0 [ 0.00559412  0.98148889  0.00659     0.00632699] [  1.17823609e-36   9.58922618e-33   1.75830428e-36   1.84292219e-36] [ 0.  0.  0.  0.] [ 974 1171 1223 1222] 0.24463855972\n",
        "\n",
        "frame 197 from 1171\n",
        "1172 66.0 [ 0.0110393  0.9889607] [  5.03274294e-35   2.84401535e-31] [ 0.  0.] [1224 1172] 0.0815158760813\n",
        "\n",
        "frame 198 from 1172\n",
        "1173 67.0 [ 1.] [  7.99867268e-30] [ 0.] [1173] 0.842062642271\n",
        "\n",
        "frame 199 from 1173\n",
        "1174 68.0 [ 1.] [  2.17630362e-28] [ 0.] [1174] 0.0211612853093\n",
        "\n",
        "frame 200 from 1174\n",
        "1175 69.0 [ 1.] [  5.93787490e-27] [ 0.] [1175] 0.310843323024\n",
        "\n",
        "frame 201 from 1175\n",
        "1176 70.0 [ 0.84184186  0.15815814] [  1.21037948e-25   2.33259306e-24] [ 0.  0.] [1176 1203] 0.0659606743836\n",
        "\n",
        "frame 202 from 1176\n",
        "1177 71.0 [ 0.81962614  0.18037386] [  2.84009738e-24   5.11747860e-23] [ 0.  0.] [1177 1204] 0.717051315881\n",
        "\n",
        "frame 203 from 1177\n",
        "1178 72.0 [ 0.68943966  0.0539417   0.25661865] [  1.29703875e-43   1.82904956e-26   1.14745918e-21] [ 0.  0.  0.] [1178 1216 1205] 0.325039343416\n",
        "\n",
        "frame 204 from 1178\n",
        "jump 1217 1.0 [ 0.23132552  0.76867448] [  4.86980556e-41   3.32653735e-42] [ 0.  0.] [1217 1179] 0.158159792943\n",
        "\n",
        "frame 205 from 1217\n",
        "1218 2.0 [  1.00000000e+00   1.18554669e-11   5.57104467e-12] [  1.18595688e-39   5.06035221e-40   1.29703875e-43] [ 0.  0.  0.] [1218 1073 1178] 0.329634176175\n",
        "\n",
        "frame 206 from 1218\n",
        "1219 3.0 [  1.00000000e+00   2.06109319e-11   9.61718633e-12] [  3.17792263e-38   1.52929659e-38   3.32653735e-42] [ 0.  0.  0.] [1219 1074 1179] 0.902001595308\n",
        "\n",
        "frame 207 from 1219\n",
        "1220 4.0 [  1.00000000e+00   1.62467441e-11   3.61004972e-11] [  8.95149832e-37   9.06846605e-41   5.02155974e-37] [ 0.  0.  0.] [1220 1180 1075] 0.259627516352\n",
        "\n",
        "frame 208 from 1220\n",
        "1221 5.0 [  1.00000000e+00   2.91396452e-10   6.41380868e-11] [  6.57424199e-38   1.46535941e-34   2.49893019e-39] [ 0.  0.  0.] [1221 1167 1181] 0.486551533354\n",
        "\n",
        "frame 209 from 1221\n",
        "1222 6.0 [  1.00000000e+00   5.11338162e-11   3.42970945e-11] [  1.84292219e-36   2.75946392e-37   2.04507968e-40] [ 0.  0.  0.] [1222 1168 1182] 0.30925683529\n",
        "\n",
        "frame 210 from 1222\n",
        "1223 7.0 [  9.99999999e-01   1.86098088e-10   7.30285051e-10] [  1.75830428e-36   9.24976665e-36   3.03385241e-34] [ 0.  0.  0.] [1223 1169 1170] 0.186120543944\n",
        "\n",
        "frame 211 from 1223\n",
        "1224 8.0 [ 1.] [  5.03274294e-35] [ 0.] [1224] 0.343149043496\n",
        "\n",
        "frame 212 from 1224\n",
        "1225 9.0 [  3.12095409e-10   3.38188386e-10   9.99999996e-01   2.53838428e-09\n",
        "   4.10068117e-10] [  1.17823609e-36   2.07485909e-37   2.03752368e-40   9.58922618e-33\n",
        "   1.09781875e-37] [ 0.  0.  0.  0.  0.] [ 974  975 1225 1171 1037] 0.533173279914\n",
        "\n",
        "frame 213 from 1225\n",
        "1226 10.0 [  2.66952666e-09   9.99999997e-01   6.49452283e-10] [  2.07485909e-37   2.58191021e-45   4.23929051e-43] [ 0.  0.  0.] [ 975 1226 1038] 0.765047903861\n",
        "\n",
        "frame 214 from 1226\n",
        "1227 11.0 [  2.81671641e-09   9.99999994e-01   8.45686946e-10   2.34201708e-09] [  5.43414608e-43   7.36187756e-44   5.67210406e-48   4.02495152e-43] [ 0.  0.  0.  0.] [1238 1227 1039 1239] 0.679975432776\n",
        "\n",
        "frame 215 from 1227\n",
        "1228 12.0 [  9.99999991e-01   1.64933132e-09   7.37450843e-09] [  1.58006758e-44   1.51368243e-46   1.42609078e-41] [ 0.  0.  0.] [1228 1040 1240] 0.866346276296\n",
        "\n",
        "frame 216 from 1228\n",
        "1229 13.0 [  2.58251449e-09   9.99999985e-01   1.81692110e-09   8.91946325e-09\n",
        "   1.94860266e-09] [  4.02495152e-43   5.02401334e-43   2.65246370e-46   2.91098449e-42\n",
        "   8.04376850e-44] [ 0.  0.  0.  0.  0.] [1239 1229 1041 1242 1241] 0.374794693853\n",
        "\n",
        "frame 217 from 1229\n",
        "1230 14.0 [  4.16759053e-09   2.59979434e-09   9.99999976e-01   2.85633347e-09\n",
        "   1.41253213e-08] [  1.42609078e-41   8.04376850e-44   1.69296823e-41   7.67266972e-45\n",
        "   1.00520741e-40] [ 0.  0.  0.  0.  0.] [1240 1241 1230 1042 1243] 0.0970390528642\n",
        "\n",
        "frame 218 from 1230\n",
        "1231 15.0 [  1.66436288e-09   9.99999993e-01   1.86881888e-09   3.13306596e-09] [  8.04376850e-44   6.15389316e-40   2.86570861e-43   1.23041013e-40] [ 0.  0.  0.  0.] [1241 1231 1043 1192] 0.11452182507\n",
        "\n",
        "frame 219 from 1231\n",
        "1232 16.0 [  9.99999988e-01   3.04586625e-09   4.52972637e-09   4.88691257e-09] [  2.25324387e-38   1.07692164e-41   3.54723578e-39   4.41608297e-39] [ 0.  0.  0.  0.] [1232 1044 1244 1193] 0.40366674026\n",
        "\n",
        "frame 220 from 1232\n",
        "1233 17.0 [  9.99999985e-01   4.23245856e-09   4.10447778e-09   7.08263529e-09] [  8.31179652e-37   2.12883363e-40   7.68051185e-41   1.58450194e-37] [ 0.  0.  0.  0.] [1233 1045 1245 1194] 0.184212960188\n",
        "\n",
        "frame 221 from 1233\n",
        "1234 18.0 [  9.99999977e-01   6.48176707e-09   1.07590961e-08   5.77780553e-09] [  2.97296617e-35   6.38847726e-39   5.65192086e-36   3.38007855e-39] [ 0.  0.  0.  0.] [1234 1046 1195  998] 0.777058557696\n",
        "\n",
        "frame 222 from 1234\n",
        "1235 19.0 [  9.99999691e-01   3.35949514e-08   3.82242597e-08   2.07473736e-07\n",
        "   3.01909926e-08] [  2.25399743e-38   1.71960946e-37   1.96814740e-34   6.74080375e-33\n",
        "   1.14215766e-37] [ 0.  0.  0.  0.  0.] [1235 1047 1196 1197  999] 0.216282428646\n",
        "\n",
        "frame 223 from 1235\n",
        "1236 20.0 [  9.99999637e-01   4.63553099e-08   4.88840135e-08   2.68203681e-07] [  2.34041214e-45   8.57420652e-41   6.36707885e-41   5.86969621e-36] [ 0.  0.  0.  0.] [1236 1000 1002 1048] 0.535406064378\n",
        "\n",
        "frame 224 from 1236\n",
        "1237 21.0 [  9.99999754e-01   2.46166946e-07] [  1.49386407e-44   5.25288491e-43] [ 0.  0.] [1237 1003] 0.566387357862\n",
        "\n",
        "frame 225 from 1237\n",
        "1238 22.0 [  9.99999892e-01   3.22835414e-08   4.82186167e-08   2.71796254e-08] [  5.43414608e-43   1.78713071e-45   8.04376850e-44   6.60844525e-47] [ 0.  0.  0.  0.] [1238 1004 1241  988] 0.0218822175436\n",
        "\n",
        "frame 226 from 1238\n",
        "1239 23.0 [  9.73002898e-07   9.99998548e-01   1.60105868e-07   1.57429415e-07\n",
        "   1.61704685e-07] [  5.29537829e-40   4.02495152e-43   1.41558141e-45   2.58191021e-45\n",
        "   2.91098449e-42] [ 0.  0.  0.  0.  0.] [ 976 1239 1005 1226 1242] 0.0635168638552\n",
        "\n",
        "frame 227 from 1239\n",
        "1240 24.0 [  1.06765825e-06   1.61306864e-07   1.81003126e-07   9.99997564e-01\n",
        "   6.37134029e-07   1.94994280e-07   1.93623437e-07] [  2.03752368e-40   3.13043271e-45   2.58191021e-45   1.42609078e-41\n",
        "   1.00520741e-40   1.58006758e-44   9.52656456e-46] [ 0.  0.  0.  0.  0.  0.  0.]"
       ]
      },
      {
       "output_type": "stream",
       "stream": "stdout",
       "text": [
        " [1225  977 1226 1240 1243 1228 1006] 0.304980622957\n",
        "\n",
        "frame 228 from 1240\n",
        "1241 25.0 [  3.11900337e-07   2.95982858e-07   3.16834326e-07   9.99996228e-01\n",
        "   2.50116888e-06   3.45802465e-07] [  2.58191021e-45   7.55758587e-44   7.36187756e-44   8.04376850e-44\n",
        "   3.54723578e-39   2.00180790e-44] [ 0.  0.  0.  0.  0.  0.] [1226  978 1227 1241 1244  980] 0.601078558444\n",
        "\n",
        "frame 229 from 1241\n",
        "1242 26.0 [  2.67782044e-07   9.99995653e-01   2.55865472e-07   2.60308477e-07\n",
        "   2.48892337e-07   2.34646735e-06   3.52582943e-07   3.41451621e-07\n",
        "   2.73745817e-07] [  1.49386407e-44   2.91098449e-42   7.36187756e-44   1.58006758e-44\n",
        "   7.15674474e-46   1.69296823e-41   5.92138952e-43   5.02401334e-43\n",
        "   2.65246370e-46] [ 0.  0.  0.  0.  0.  0.  0.  0.  0.] [1237 1242 1227 1228  979 1230  981 1229 1041] 0.51270439532\n",
        "\n",
        "frame 230 from 1242\n",
        "1243 27.0 [  4.57931903e-07   9.99994151e-01   2.99410156e-06   9.80631240e-07\n",
        "   5.47173147e-07   4.28993892e-07   4.40254378e-07] [  5.43414608e-43   1.00520741e-40   6.15389316e-40   1.23041013e-40\n",
        "   1.80665729e-41   1.58006758e-44   2.00180790e-44] [ 0.  0.  0.  0.  0.  0.  0.] [1238 1243 1231 1192  982 1228  980] 0.0850575817224\n",
        "\n",
        "frame 231 from 1243\n",
        "1244 28.0 [  6.33256566e-07   9.99990686e-01   4.71617228e-06   1.45261378e-06\n",
        "   6.59568029e-07   6.32023337e-07   6.05669945e-07   6.14279367e-07] [  4.02495152e-43   3.54723578e-39   2.25324387e-38   4.41608297e-39\n",
        "   2.86570861e-43   1.69296823e-41   5.02401334e-43   5.92138952e-43] [ 0.  0.  0.  0.  0.  0.  0.  0.] [1239 1244 1232 1193 1043 1230 1229  981] 0.680331873576\n",
        "\n",
        "frame 232 from 1244\n",
        "1245 29.0 [  1.47734436e-06   1.48596462e-06   9.99979584e-01   1.29322598e-05\n",
        "   1.54185924e-06   1.50704204e-06   1.47109037e-06] [  4.02495152e-43   1.42609078e-41   7.68051185e-41   8.31179652e-37\n",
        "   1.07692164e-41   6.15389316e-40   1.80665729e-41] [ 0.  0.  0.  0.  0.  0.  0.] [1239 1240 1245 1233 1044 1231  982] 0.555764758797\n",
        "\n",
        "frame 233 from 1245\n",
        "1246 30.0 [  1.67234472e-06   7.35088279e-06   9.99990977e-01] [  1.80665729e-41   2.25324387e-38   2.31763578e-39] [ 0.  0.  0.] [ 982 1232 1246] 0.812927799262\n",
        "\n",
        "frame 234 from 1246\n",
        "1247 31.0 [  9.99998126e-01   9.37685356e-07   9.35989659e-07] [  7.58015517e-38   8.60425361e-42   1.87486470e-40] [ 0.  0.  0.] [1247 1015 1029] 0.860456227104\n",
        "\n",
        "frame 235 from 1247\n",
        "1248 32.0 [  9.99996687e-01   1.12667665e-06   1.09344614e-06   1.09314738e-06] [  2.37418346e-36   2.75076462e-40   3.01205671e-40   2.12883363e-40] [ 0.  0.  0.  0.] [1248 1016 1058 1045] 0.471503408406\n",
        "\n",
        "frame 236 from 1248\n",
        "1249 33.0 [  1.28192283e-06   9.99994694e-01   1.38523031e-06   1.32869699e-06\n",
        "   1.31055354e-06] [  1.10034804e-38   6.73772445e-35   8.80215397e-39   8.79515202e-39\n",
        "   6.38847726e-39] [ 0.  0.  0.  0.  0.] [ 984 1249 1017 1059 1046] 0.0433682365687\n",
        "\n",
        "frame 237 from 1249\n",
        "1250 34.0 [  9.99996748e-01   3.25194538e-06] [  1.69891944e-33   2.50000364e-37] [ 0.  0.] [1250 1018] 0.876302031758\n",
        "\n",
        "frame 238 from 1250\n",
        "1251 35.0 [  9.99933905e-01   7.70851227e-06   7.62210813e-06   4.33249701e-05\n",
        "   7.43973223e-06] [  3.88370740e-32   6.16574353e-36   4.59544233e-36   2.14605119e-31\n",
        "   5.86969621e-36] [ 0.  0.  0.  0.  0.] [1251 1019 1049 1198 1048] 0.02014406655\n",
        "\n",
        "frame 239 from 1251\n",
        "1252 36.0 [  9.99877608e-01   1.63681487e-05   1.62390454e-05   8.97852950e-05] [  6.28557100e-42   1.34424807e-34   9.98395104e-35   6.39875552e-30] [ 0.  0.  0.  0.] [1252 1020 1050 1199] 0.77927407426\n",
        "\n",
        "frame 240 from 1252\n",
        "1253 37.0 [  9.99982713e-01   5.84259373e-06   5.88545535e-06   5.55905111e-06] [  1.34974413e-40   2.19917003e-44   4.97589085e-43   1.56118015e-44] [ 0.  0.  0.  0.] [1253 1021 1051 1154] 0.546129629363\n",
        "\n",
        "frame 241 from 1253\n",
        "1254 38.0 [  9.99848060e-01   2.19527795e-05   2.16964527e-05   1.08290456e-04] [  2.87715312e-39   4.59831787e-43   3.69790838e-43   1.88794852e-38] [ 0.  0.  0.  0.] [1254 1022 1052 1144] 0.831457415948\n",
        "\n",
        "frame 242 from 1254\n",
        "1255 39.0 [  9.99767948e-01   3.22177281e-05   1.68099345e-04   3.17351187e-05] [  4.96214229e-38   8.65568430e-42   5.05345958e-37   8.01008674e-42] [ 0.  0.  0.  0.] [1255 1023 1145 1053] 0.244599108273\n",
        "\n",
        "frame 243 from 1255\n",
        "1256 40.0 [  9.99586710e-01   1.89869207e-04   1.70154149e-04   5.32666294e-05] [  3.41899318e-38   8.88187287e-36   7.59736179e-36   1.87486470e-40] [ 0.  0.  0.  0.] [1256 1146 1147 1029] 0.160612295505\n",
        "\n",
        "frame 244 from 1256\n",
        "1257 41.0 [  9.99583223e-01   3.43503772e-04   7.32729420e-05] [  1.18251598e-40   6.42032570e-36   5.92970654e-39] [ 0.  0.  0.] [1257 1148 1030] 0.710630042284\n",
        "\n",
        "frame 245 from 1257\n",
        "1258 42.0 [  9.99625527e-01   7.34912129e-05   3.00981950e-04] [  2.86071179e-39   6.43421212e-42   1.52929659e-38] [ 0.  0.  0.] [1258 1149 1074] 0.121624967562\n",
        "\n",
        "frame 246 from 1258\n",
        "1259 43.0 [  9.99088599e-01   1.00574719e-04   1.03391705e-04   4.72303828e-04\n",
        "   2.35130958e-04] [  7.73615421e-38   5.10124306e-42   3.91996686e-39   5.02155974e-37\n",
        "   1.82092135e-37] [ 0.  0.  0.  0.  0.] [1259 1104 1164 1075 1031] 0.0541288396738\n",
        "\n",
        "frame 247 from 1259\n",
        "1260 44.0 [  9.99027731e-01   6.99323020e-04   1.36476644e-04   1.36469575e-04] [  2.26943938e-36   1.77024698e-35   1.47824111e-40   4.96055534e-39] [ 0.  0.  0.  0.] [1260 1076 1105 1106] 0.812660850306\n",
        "\n",
        "frame 248 from 1260\n",
        "1261 45.0 [  2.39051663e-04   9.97890960e-01   2.32303733e-04   1.45875313e-03\n",
        "   1.78931246e-04] [  1.18937396e-35   1.30667129e-37   1.74678192e-38   6.49725548e-34\n",
        "   8.94617014e-39] [ 0.  0.  0.  0.  0.] [1264 1261 1107 1077  956] 0.681429408848\n",
        "\n",
        "frame 249 from 1261\n",
        "1262 46.0 [  9.99689691e-01   7.86355287e-05   7.58129686e-05   6.17628462e-05\n",
        "   9.40975292e-05] [  3.34887243e-36   4.92083384e-39   9.42912627e-40   1.03173956e-40\n",
        "   2.84804198e-37] [ 0.  0.  0.  0.  0.] [1262 1108 1266  960  959] 0.351481826998\n",
        "\n",
        "frame 250 from 1262\n",
        "1263 47.0 [  1.43707262e-03   9.97740084e-01   2.34358332e-04   1.94011772e-04\n",
        "   1.96034506e-04   1.98439181e-04] [  4.45052578e-34   8.11972215e-35   1.77685498e-38   1.13500407e-39\n",
        "   1.03173956e-40   2.84804198e-37] [ 0.  0.  0.  0.  0.  0.] [ 932 1263 1267  961  960  959] 0.376589315719\n",
        "\n",
        "frame 251 from 1263\n",
        "1264 48.0 [  4.85421889e-04   9.92287329e-01   4.91930759e-04   4.71292398e-03\n",
        "   4.90305743e-04   3.83114583e-04   4.14481837e-04   3.59468058e-04\n",
        "   3.75023824e-04] [  4.18123441e-34   1.18937396e-35   1.77382235e-37   2.35626372e-32\n",
        "   1.30067309e-37   8.40924099e-37   2.84489346e-37   1.13500407e-39\n",
        "   2.84804198e-37] [ 0.  0.  0.  0.  0.  0.  0.  0.  0.] [ 970 1264 1135 1078 1165  945 1268  961  959] 0.555802279654\n",
        "\n",
        "frame 252 from 1264\n",
        "1265 49.0 [  5.06832730e-03   9.91923240e-01   6.46056277e-04   7.20304448e-04\n",
        "   6.36382554e-04   5.13578748e-04   4.92110259e-04] [  8.16898499e-33   4.45709432e-41   4.12621785e-36   1.46535941e-34\n",
        "   2.26943938e-36   1.61511386e-35   3.47330509e-38] [ 0.  0.  0.  0.  0.  0.  0.] [ 971 1265 1166 1167 1260  946 1269] 0.78337484062\n",
        "\n",
        "frame 253 from 1265\n",
        "1266 50.0 [ 1.] [  9.42912627e-40] [ 0.] [1266] 0.471677310757\n",
        "\n",
        "frame 254 from 1266\n",
        "1267 51.0 [ 0.99301057  0.00224766  0.00106954  0.00367223] [  1.77685498e-38   1.30667129e-37   1.74678192e-38   2.75946392e-37] [ 0.  0.  0.  0.] [1267 1261 1107 1168] 0.470560130032\n",
        "\n",
        "frame 255 from 1267\n",
        "1268 52.0 [  9.92593516e-01   5.58636165e-03   9.81590699e-04   8.38531160e-04] [  2.84489346e-37   3.34887243e-36   4.92083384e-39   1.03173956e-40] [ 0.  0.  0.  0.] [1268 1262 1108  960] 0.169812434208\n",
        "\n",
        "frame 256 from 1268\n",
        "1269 53.0 [ 0.99147281  0.00728738  0.00123981] [  3.47330509e-38   8.11972215e-35   1.13500407e-39] [ 0.  0.  0.] [1269 1263  961] 0.19655812012\n",
        "\n",
        "frame 257 from 1269\n",
        "1270 54.0 [ 0.98305062  0.00174098  0.01217316  0.00157788  0.00145735] [  1.54138480e-42   2.84539515e-39   1.18937396e-35   1.06758716e-41\n",
        "   1.13500407e-39] [ 0.  0.  0.  0.  0.] [1270  934 1264  962  961] 0.982235664893\n",
        "\n",
        "frame 258 from 1270\n",
        "jump 965 1.0 [ 0.08114167  0.07880436  0.27166606  0.10680153  0.3529812   0.10860518] [  3.64925667e-42   1.06758716e-41   3.32364455e-40   3.46066330e-41\n",
        "   4.81378102e-40   4.06318973e-41] [ 0.  0.  0.  0.  0.  0.] [963 962 935 936 965 964] 0.70933259394\n",
        "\n",
        "frame 259 from 965\n",
        "966 2.0 [  1.00000000e+00   5.32559495e-12   3.24108778e-12] [  6.16246520e-39   5.03114221e-40   1.54138480e-42] [ 0.  0.  0.] [ 966  937 1270] 0.691169939937\n",
        "\n",
        "frame 260 from 966\n",
        "967 3.0 [  1.00000000e+00   3.21962714e-11   1.19110389e-11] [  8.61438703e-38   1.07889269e-37   7.53522356e-39] [ 0.  0.  0.] [967 939 938] 0.00217856722541\n",
        "\n",
        "frame 261 from 967\n",
        "968 4.0 [  1.00000000e+00   4.96020516e-11   2.25314205e-11   1.45017864e-11] [  1.33413573e-36   1.42892419e-36   3.04845621e-37   7.53522356e-39] [ 0.  0.  0.  0.] [968 940 941 938] 0.643304842032\n",
        "\n",
        "frame 262 from 968\n",
        "969 5.0 [  1.00000000e+00   2.09225604e-11] [  2.28209743e-35   5.50790229e-38] [ 0.  0.] [969 942] 0.0754702289414\n",
        "\n",
        "frame 263 from 969\n",
        "970 6.0 [  1.00000000e+00   9.77776685e-11] [  4.18123441e-34   3.04805850e-34] [ 0.  0.] [970 947] 0.719720891909\n",
        "\n",
        "frame 264 from 970\n",
        "971 7.0 [  3.58067035e-11   1.00000000e+00   1.58555597e-10   4.97647312e-11\n",
        "   4.80648275e-11] [  2.71978093e-36   8.16898499e-33   5.53349236e-33   8.11972215e-35\n",
        "   1.61511386e-35] [ 0.  0.  0.  0.  0.] [ 930  971  948 1263  946] 0.259701768684\n",
        "\n",
        "frame 265 from 971\n",
        "972 8.0 [  3.42793797e-11   3.80884661e-11   1.00000000e+00   5.04371704e-11\n",
        "   9.41236614e-11   6.00941990e-11   4.93016079e-11] [  2.71978093e-36   3.87299134e-35   1.67180360e-31   1.18937396e-35\n",
        "   2.35626372e-32   5.53349236e-33   3.04805850e-34] [ 0.  0.  0.  0.  0.  0.  0.] [ 930  931  972 1264 1078  948  947] 0.586979864767\n",
        "\n",
        "frame 266 from 972\n",
        "973 9.0 [  5.97204220e-11   6.00696297e-11   6.62041107e-11   9.99999999e-01\n",
        "   2.04378034e-10   8.60062697e-11   8.04774412e-11] [  5.40207395e-34   3.87299134e-35   4.45052578e-34   3.48396816e-30\n",
        "   8.40845988e-31   1.46535941e-34   5.53349236e-33] [ 0.  0.  0.  0.  0.  0.  0.] [ 891  931  932  973 1079 1167  948] 0.53748878436\n",
        "\n",
        "frame 267 from 973\n",
        "974 10.0 [  3.89858080e-10   9.99999993e-01   6.85059193e-10   4.43473647e-09\n",
        "   5.52886963e-10   4.47638607e-10   4.79619085e-10] [  8.86736793e-33   1.17823609e-36   2.91437084e-29   9.15925839e-28\n",
        "   3.96366986e-33   5.53349236e-33   9.49188071e-32] [ 0.  0.  0.  0.  0.  0.  0.] [ 892  974 1080 1081 1034  948  949] 0.440435298061\n",
        "\n",
        "frame 268 from 974\n",
        "975 11.0 [  9.99999995e-01   8.98773540e-10   4.25999781e-09] [  2.07485909e-37   1.45360735e-39   3.03385241e-34] [ 0.  0.  0.] [ 975 1035 1170] 0.839932649076\n",
        "\n",
        "frame 269 from 975\n",
        "976 12.0 [  9.99999989e-01   1.45343176e-09   1.42855884e-09   8.22753687e-09] [  5.29537829e-40   4.19960144e-39   2.03752368e-40   5.03274294e-35] [ 0.  0.  0.  0.] [ 976 1036 1225 1224] 0.648205385655\n",
        "\n",
        "frame 270 from 976\n",
        "977 13.0 [  9.99999982e-01   1.30508450e-08   2.27819722e-09   2.26392006e-09] [  3.13043271e-45   1.09781875e-37   5.25288491e-43   5.43414608e-43] [ 0.  0.  0.  0.] [ 977 1037 1003 1238] 0.354655282488\n",
        "\n",
        "frame 271 from 977\n",
        "978 14.0 [  9.99999979e-01   2.96121065e-09   9.32596991e-09   8.99561273e-09] [  7.55758587e-44   1.78713071e-45   4.23929051e-43   4.02495152e-43] [ 0.  0.  0.  0.] [ 978 1004 1038 1239] 0.237721370565\n",
        "\n",
        "frame 272 from 978\n",
        "979 15.0 [  9.99999968e-01   2.66800220e-08   5.73417323e-09] [  7.15674474e-46   1.42609078e-41   1.41558141e-45] [ 0.  0.  0.] [ 979 1240 1005] 0.121973051633\n",
        "\n",
        "frame 273 from 979\n",
        "980 16.0 [  9.99999979e-01   2.11551183e-08] [  2.00180790e-44   8.04376850e-44] [ 0.  0.] [ 980 1241] 0.620345962526\n",
        "\n",
        "frame 274 from 980\n",
        "981 17.0 [  9.99999965e-01   3.47021999e-08] [  5.92138952e-43   2.91098449e-42] [ 0.  0.] [ 981 1242] 0.0435421016828\n",
        "\n",
        "frame 275 from 981\n",
        "982 18.0 [  9.99999946e-01   5.44127964e-08] [  1.80665729e-41   1.00520741e-40] [ 0.  0.] [ 982 1243] 0.0613184544775\n",
        "\n",
        "frame 276 from 982\n",
        "983 19.0 [  9.99999860e-01   1.11543321e-07   2.86624202e-08] [  3.64723321e-40   3.54723578e-39   7.68051185e-41] [ 0.  0.  0.] [ 983 1244 1245] 0.361599952612\n",
        "\n",
        "frame 277 from 983\n",
        "984 20.0 [  9.99999946e-01   5.35183242e-08] [  1.10034804e-38   8.80215397e-39] [ 0.  0.] [ 984 1017] 0.365359594033\n",
        "\n",
        "frame 278 from 984\n",
        "985 21.0 [  9.99999748e-01   2.52103020e-07] [  4.48874262e-41   2.37418346e-36] [ 0.  0.] [ 985 1248] 0.655779924947\n",
        "\n",
        "frame 279 from 985\n",
        "986 22.0 [  9.99999625e-01   3.74622195e-07] [  5.31032956e-42   8.79515202e-39] [ 0.  0.] [ 986 1059]"
       ]
      },
      {
       "output_type": "stream",
       "stream": "stdout",
       "text": [
        " 0.833151629866\n",
        "\n",
        "frame 280 from 986\n",
        "987 23.0 [  9.99999352e-01   1.22727893e-07   5.25069459e-07] [  1.19741263e-40   1.95659301e-44   1.06997716e-39] [ 0.  0.  0.] [ 987 1060 1064] 0.798725576276\n",
        "\n",
        "frame 281 from 987\n",
        "988 24.0 [  9.99998772e-01   1.01336346e-06   2.14511529e-07] [  6.60844525e-47   2.42696173e-38   4.20690147e-43] [ 0.  0.  0.] [ 988 1065 1061] 0.20151663954\n",
        "\n",
        "frame 282 from 988\n",
        "989 25.0 [  9.99998220e-01   1.46896733e-06   3.11029142e-07] [  3.96543542e-48   1.49386407e-44   1.74592021e-49] [ 0.  0.  0.] [ 989 1237 1185] 0.788702611048\n",
        "\n",
        "frame 283 from 989\n",
        "990 26.0 [  9.99999820e-01   1.80104405e-07] [  9.47631402e-47   2.39112461e-49] [ 0.  0.] [ 990 1186] 0.647906826004\n",
        "\n",
        "frame 284 from 990\n",
        "991 27.0 [  9.99999735e-01   2.65267702e-07] [  2.39964239e-45   6.02174208e-48] [ 0.  0.] [ 991 1187] 0.58283207064\n",
        "\n",
        "frame 285 from 991\n",
        "992 28.0 [  9.99996358e-01   3.64209362e-06] [  8.34063819e-48   5.25288491e-43] [ 0.  0.] [ 992 1003] 0.239062212774\n",
        "\n",
        "frame 286 from 992\n",
        "993 29.0 [  9.99995181e-01   4.81905561e-06] [  7.76113531e-47   1.78713071e-45] [ 0.  0.] [ 993 1004] 0.0015701692865\n",
        "\n",
        "frame 287 from 993\n",
        "994 30.0 [  9.99997924e-01   2.07617782e-06] [  2.33742836e-45   1.41558141e-45] [ 0.  0.] [ 994 1005] 0.4914442742\n",
        "\n",
        "frame 288 from 994\n",
        "995 31.0 [  9.99998787e-01   1.21344228e-06] [  7.47410430e-44   9.52656456e-46] [ 0.  0.] [ 995 1006] 0.394097098709\n",
        "\n",
        "frame 289 from 995\n",
        "996 32.0 [  9.99998311e-01   1.68900692e-06] [  2.63000967e-42   2.03998731e-46] [ 0.  0.] [ 996 1009] 0.900283711988\n",
        "\n",
        "frame 290 from 996\n",
        "997 33.0 [  9.99997614e-01   2.38618287e-06] [  9.62168416e-41   8.41325948e-45] [ 0.  0.] [ 997 1010] 0.838926094722\n",
        "\n",
        "frame 291 from 997\n",
        "998 34.0 [  9.99996723e-01   3.27703264e-06] [  3.38007855e-39   3.41256991e-43] [ 0.  0.] [ 998 1011] 0.0432531808261\n",
        "\n",
        "frame 292 from 998\n",
        "999 35.0 [  9.99967657e-01   3.23433322e-05] [  1.14215766e-37   8.31179652e-37] [ 0.  0.] [ 999 1233] 0.182439578105\n",
        "\n",
        "frame 293 from 999\n",
        "1000 36.0 [  9.99941500e-01   5.84999300e-05] [  8.57420652e-41   2.97296617e-35] [ 0.  0.] [1000 1234] 0.4098379119\n",
        "\n",
        "frame 294 from 1000\n",
        "1001 37.0 [  9.99919293e-01   8.07068221e-05] [  1.89869927e-42   2.25399743e-38] [ 0.  0.] [1001 1235] 0.865898147879\n",
        "\n",
        "frame 295 from 1001\n",
        "1002 38.0 [ 1.] [  6.36707885e-41] [ 0.] [1002] 0.503360725512\n",
        "\n",
        "frame 296 from 1002\n",
        "1003 39.0 [  9.99851622e-01   1.48378125e-04] [  5.25288491e-43   2.25399743e-38] [ 0.  0.] [1003 1235] 0.448343903434\n",
        "\n",
        "frame 297 from 1003\n",
        "1004 40.0 [  3.52662903e-04   9.99480023e-01   5.83548099e-05   5.64510572e-05\n",
        "   5.25087237e-05] [  5.29537829e-40   1.78713071e-45   1.49386407e-44   2.34041214e-45\n",
        "   2.39964239e-45] [ 0.  0.  0.  0.  0.] [ 976 1004 1237 1236  991] 0.00827152378088\n",
        "\n",
        "frame 298 from 1004\n",
        "1005 41.0 [  6.59696453e-05   4.70253676e-04   9.99306776e-01   8.49152505e-05\n",
        "   7.20850632e-05] [  3.13043271e-45   5.43414608e-43   1.41558141e-45   1.49386407e-44\n",
        "   8.34063819e-48] [ 0.  0.  0.  0.  0.] [ 977 1238 1005 1237  992] 0.134635518485\n",
        "\n",
        "frame 299 from 1005\n",
        "1006 42.0 [  4.98084419e-04   1.44169292e-04   9.99257195e-01   1.00551243e-04] [  5.43414608e-43   7.55758587e-44   9.52656456e-46   7.76113531e-47] [ 0.  0.  0.  0.] [1238  978 1006  993] 0.426661827581\n",
        "\n",
        "frame 300 from 1006\n",
        "1007 43.0 [  6.23193220e-04   9.99237973e-01   1.38833971e-04] [  4.02495152e-43   1.26767209e-49   2.33742836e-45] [ 0.  0.  0.] [1239 1007  994] 0.611398688478\n",
        "\n",
        "frame 301 from 1007\n",
        "1008 44.0 [ 1.] [  5.01485644e-48] [ 0.] [1008] 0.272741784103\n",
        "\n",
        "frame 302 from 1008\n",
        "1009 45.0 [ 1.] [  2.03998731e-46] [ 0.] [1009] 0.817773068847\n",
        "\n",
        "frame 303 from 1009\n",
        "1010 46.0 [  9.99072479e-01   9.27520917e-04] [  8.41325948e-45   7.47410430e-44] [ 0.  0.] [1010  995] 0.037653295297\n",
        "\n",
        "frame 304 from 1010\n",
        "1011 47.0 [ 0.99879375  0.00120625] [  3.41256991e-43   2.63000967e-42] [ 0.  0.] [1011  996] 0.00713934426695\n",
        "\n",
        "frame 305 from 1011\n",
        "1012 48.0 [ 0.00205667  0.99794333] [  9.62168416e-41   1.60757361e-46] [ 0.  0.] [ 997 1012] 0.923606705984\n",
        "\n",
        "frame 306 from 1012\n",
        "1013 49.0 [ 1.] [  6.30837410e-45] [ 0.] [1013] 0.0957975792649\n",
        "\n",
        "frame 307 from 1013\n",
        "1014 50.0 [ 1.] [  2.41389489e-43] [ 0.] [1014] 0.585869425185\n",
        "\n",
        "frame 308 from 1014\n",
        "1015 51.0 [ 1.] [  8.60425361e-42] [ 0.] [1015] 0.857627378616\n",
        "\n",
        "frame 309 from 1015\n",
        "1016 52.0 [ 0.00138083  0.005176    0.99344317] [  7.68051185e-41   2.31763578e-39   2.75076462e-40] [ 0.  0.  0.] [1245 1246 1016] 0.154039742933\n",
        "\n",
        "frame 310 from 1016\n",
        "1017 53.0 [ 0.00170208  0.99176303  0.00653489] [  2.31763578e-39   8.80215397e-39   7.58015517e-38] [ 0.  0.  0.] [1246 1017 1247] 0.378840337113\n",
        "\n",
        "frame 311 from 1017\n",
        "1018 54.0 [ 0.00182509  0.98658655  0.00206115  0.00952721] [  3.64723321e-40   2.50000364e-37   7.58015517e-38   2.37418346e-36] [ 0.  0.  0.  0.] [ 983 1018 1247 1248] 0.265988632282\n",
        "\n",
        "frame 312 from 1018\n",
        "1019 55.0 [ 0.00265651  0.98681277  0.01053072] [  2.37418346e-36   6.16574353e-36   6.73772445e-35] [ 0.  0.  0.] [1248 1019 1249] 0.97494819234\n",
        "\n",
        "frame 313 from 1019\n",
        "1020 56.0 [ 0.00336272  0.9833045   0.01333278] [  6.73772445e-35   1.34424807e-34   1.69891944e-33] [ 0.  0.  0.] [1249 1020 1250] 0.601257863856\n",
        "\n",
        "frame 314 from 1020\n",
        "1021 57.0 [ 0.01654294  0.98345706] [  3.88370740e-32   2.19917003e-44] [ 0.  0.] [1251 1021] 0.07126215483\n",
        "\n",
        "frame 315 from 1021\n",
        "1022 58.0 [ 0.01766061  0.98233939] [  6.28557100e-42   4.59831787e-43] [ 0.  0.] [1252 1022] 0.571686200148\n",
        "\n",
        "frame 316 from 1022\n",
        "1023 59.0 [ 0.0221179  0.9778821] [  1.34974413e-40   8.65568430e-42] [ 0.  0.] [1253 1023] 0.198530585357\n",
        "\n",
        "frame 317 from 1023\n",
        "1024 60.0 [ 0.030712  0.969288] [  2.87715312e-39   1.21605405e-47] [ 0.  0.] [1254 1024] 0.154089249933\n",
        "\n",
        "frame 318 from 1024\n",
        "1025 61.0 [ 1.] [  2.90476189e-46] [ 0.] [1025] 0.8506599834\n",
        "\n",
        "frame 319 from 1025\n",
        "1026 62.0 [ 1.] [  7.27015993e-45] [ 0.] [1026] 0.062344230849\n",
        "\n",
        "frame 320 from 1026\n",
        "1027 63.0 [ 1.] [  1.97211395e-43] [ 0.] [1027] 0.471320295913\n",
        "\n",
        "frame 321 from 1027\n",
        "1028 64.0 [ 1.] [  5.91799045e-42] [ 0.] [1028] 0.101117154811\n",
        "\n",
        "frame 322 from 1028\n",
        "1029 65.0 [ 1.] [  1.87486470e-40] [ 0.] [1029] 0.463045369126\n",
        "\n",
        "frame 323 from 1029\n",
        "1030 66.0 [ 0.84873361  0.05604859  0.07131612  0.02390169] [  5.92970654e-39   3.41899318e-38   4.96214229e-38   2.31763578e-39] [ 0.  0.  0.  0.] [1030 1256 1255 1246] 0.791062207191\n",
        "\n",
        "frame 324 from 1030\n",
        "1031 67.0 [ 0.97023502  0.01164954  0.01811544] [  1.82092135e-37   1.18251598e-40   3.41899318e-38] [ 0.  0.  0.] [1031 1257 1256] 0.469859891368\n",
        "\n",
        "frame 325 from 1031\n",
        "1032 68.0 [ 0.98492214  0.01507786] [  5.41184281e-36   2.86071179e-39] [ 0.  0.] [1032 1258] 0.91448223037\n",
        "\n",
        "frame 326 from 1032\n",
        "1033 69.0 [ 1.] [  1.52351097e-34] [ 0.] [1033] 0.424874731171\n",
        "\n",
        "frame 327 from 1033\n",
        "1034 70.0 [ 1.] [  3.96366986e-33] [ 0.] [1034] 0.803907587489\n",
        "\n",
        "frame 328 from 1034\n",
        "1035 71.0 [ 0.18735137  0.81264863] [  3.48396816e-30   1.45360735e-39] [ 0.  0.] [ 973 1035] 0.329104587153\n",
        "\n",
        "frame 329 from 1035\n",
        "1036 72.0 [ 0.21367473  0.78632527] [  1.17823609e-36   4.19960144e-39] [ 0.  0.] [ 974 1036] 0.420881757074\n",
        "\n",
        "frame 330 from 1036\n",
        "1037 73.0 [ 0.13742569  0.86257431] [  2.07485909e-37   1.09781875e-37] [ 0.  0.] [ 975 1037] 0.314891150691\n",
        "\n",
        "frame 331 from 1037\n",
        "1038 74.0 [ 0.31148311  0.06125155  0.62726534] [  5.03274294e-35   5.29537829e-40   4.23929051e-43] [ 0.  0.  0.] [1224  976 1038] 0.91889370727\n",
        "\n",
        "frame 332 from 1038\n",
        "1039 75.0 [ 0.34237962  0.06783252  0.58978786] [  2.03752368e-40   3.13043271e-45   5.67210406e-48] [ 0.  0.  0.] [1225  977 1039] 0.874589246874\n",
        "\n",
        "frame 333 from 1039\n",
        "jump 1226 1.0 [ 0.67162977  0.32837023] [  1.51368243e-46   2.58191021e-45] [ 0.  0.] [1040 1226] 0.692903026443\n",
        "\n",
        "frame 334 from 1226\n",
        "1227 2.0 [  4.00779816e-11   1.00000000e+00   1.20329564e-11   3.33236661e-11] [  5.43414608e-43   7.36187756e-44   5.67210406e-48   4.02495152e-43] [ 0.  0.  0.  0.] [1238 1227 1039 1239] 0.395423826604\n",
        "\n",
        "frame 335 from 1227\n",
        "1228 3.0 [  1.00000000e+00   2.45478735e-11   1.09758723e-10] [  1.58006758e-44   1.51368243e-46   1.42609078e-41] [ 0.  0.  0.] [1228 1040 1240] 0.93216010577\n",
        "\n",
        "frame 336 from 1228\n",
        "1229 4.0 [  4.02061039e-11   1.00000000e+00   2.82868960e-11   1.38863448e-10\n",
        "   3.03369919e-11] [  4.02495152e-43   5.02401334e-43   2.65246370e-46   2.91098449e-42\n",
        "   8.04376850e-44] [ 0.  0.  0.  0.  0.] [1239 1229 1041 1242 1241] 0.979125871509\n",
        "\n",
        "frame 337 from 1229\n",
        "1230 5.0 [  6.78699486e-11   4.23381105e-11   1.00000000e+00   4.65158957e-11\n",
        "   2.30033355e-10] [  1.42609078e-41   8.04376850e-44   1.69296823e-41   7.67266972e-45\n",
        "   1.00520741e-40] [ 0.  0.  0.  0.  0.] [1240 1241 1230 1042 1243] 0.403703004261\n",
        "\n",
        "frame 338 from 1230\n",
        "1231 6.0 [  2.83520027e-11   1.00000000e+00   3.18348593e-11   5.33709900e-11] [  8.04376850e-44   6.15389316e-40   2.86570861e-43   1.23041013e-40] [ 0.  0.  0.  0.] [1241 1231 1043 1192]"
       ]
      },
      {
       "output_type": "stream",
       "stream": "stdout",
       "text": [
        " 0.999374205814\n",
        "\n",
        "frame 339 from 1231\n",
        "1232 7.0 [  1.00000000e+00   5.42737466e-11   8.07143849e-11   8.70790219e-11] [  2.25324387e-38   1.07692164e-41   3.54723578e-39   4.41608297e-39] [ 0.  0.  0.  0.] [1232 1044 1244 1193] 0.516265962397\n",
        "\n",
        "frame 340 from 1232\n",
        "1233 8.0 [  1.00000000e+00   7.88887251e-11   7.65032934e-11   1.32013122e-10] [  8.31179652e-37   2.12883363e-40   7.68051185e-41   1.58450194e-37] [ 0.  0.  0.  0.] [1233 1045 1245 1194] 0.853313022479\n",
        "\n",
        "frame 341 from 1233\n",
        "1234 9.0 [  1.00000000e+00   1.26374338e-10   2.09768977e-10   1.12649273e-10] [  2.97296617e-35   6.38847726e-39   5.65192086e-36   3.38007855e-39] [ 0.  0.  0.  0.] [1234 1046 1195  998] 0.968863820626\n",
        "\n",
        "frame 342 from 1234\n",
        "1235 10.0 [  9.99999994e-01   6.85145574e-10   7.79557084e-10   4.23128196e-09\n",
        "   6.15724211e-10] [  2.25399743e-38   1.71960946e-37   1.96814740e-34   6.74080375e-33\n",
        "   1.14215766e-37] [ 0.  0.  0.  0.  0.] [1235 1047 1196 1197  999] 0.435664253957\n",
        "\n",
        "frame 343 from 1235\n",
        "1236 11.0 [  9.99999992e-01   9.88898214e-10   1.04284307e-09   5.72159136e-09] [  2.34041214e-45   8.57420652e-41   6.36707885e-41   5.86969621e-36] [ 0.  0.  0.  0.] [1236 1000 1002 1048] 0.641104320834\n",
        "\n",
        "frame 344 from 1236\n",
        "1237 12.0 [  9.99999995e-01   5.49319514e-09] [  1.49386407e-44   5.25288491e-43] [ 0.  0.] [1237 1003] 0.804116084279\n",
        "\n",
        "frame 345 from 1237\n",
        "1238 13.0 [  9.99999997e-01   7.53563108e-10   1.12551997e-09   6.34427393e-10] [  5.43414608e-43   1.78713071e-45   8.04376850e-44   6.60844525e-47] [ 0.  0.  0.  0.] [1238 1004 1241  988] 0.367183827751\n",
        "\n",
        "frame 346 from 1238\n",
        "1239 14.0 [  2.37572616e-08   9.99999965e-01   3.90921445e-09   3.84386501e-09\n",
        "   3.94825186e-09] [  5.29537829e-40   4.02495152e-43   1.41558141e-45   2.58191021e-45\n",
        "   2.91098449e-42] [ 0.  0.  0.  0.  0.] [ 976 1239 1005 1226 1242] 0.980397465494\n",
        "\n",
        "frame 347 from 1239\n",
        "1240 15.0 [  2.72683038e-08   4.11982445e-09   4.62287276e-09   9.99999938e-01\n",
        "   1.62725894e-08   4.98021092e-09   4.94519919e-09] [  2.03752368e-40   3.13043271e-45   2.58191021e-45   1.42609078e-41\n",
        "   1.00520741e-40   1.58006758e-44   9.52656456e-46] [ 0.  0.  0.  0.  0.  0.  0.] [1225  977 1226 1240 1243 1228 1006] 0.442983576607\n",
        "\n",
        "frame 348 from 1240\n",
        "1241 16.0 [  8.33269435e-09   7.90744475e-09   8.46451024e-09   9.99999899e-01\n",
        "   6.68209466e-08   9.23841978e-09] [  2.58191021e-45   7.55758587e-44   7.36187756e-44   8.04376850e-44\n",
        "   3.54723578e-39   2.00180790e-44] [ 0.  0.  0.  0.  0.  0.] [1226  978 1227 1241 1244  980] 0.39352529302\n",
        "\n",
        "frame 349 from 1241\n",
        "1242 17.0 [  7.48332226e-09   9.99999879e-01   7.15030685e-09   7.27446916e-09\n",
        "   6.95543860e-09   6.55733711e-08   9.85313186e-09   9.54206069e-09\n",
        "   7.64998331e-09] [  1.49386407e-44   2.91098449e-42   7.36187756e-44   1.58006758e-44\n",
        "   7.15674474e-46   1.69296823e-41   5.92138952e-43   5.02401334e-43\n",
        "   2.65246370e-46] [ 0.  0.  0.  0.  0.  0.  0.  0.  0.] [1237 1242 1227 1228  979 1230  981 1229 1041] 0.380648758843\n",
        "\n",
        "frame 350 from 1242\n",
        "1243 18.0 [  1.33862099e-08   9.99999829e-01   8.75232142e-08   2.86656936e-08\n",
        "   1.59948991e-08   1.25402975e-08   1.28694626e-08] [  5.43414608e-43   1.00520741e-40   6.15389316e-40   1.23041013e-40\n",
        "   1.80665729e-41   1.58006758e-44   2.00180790e-44] [ 0.  0.  0.  0.  0.  0.  0.] [1238 1243 1231 1192  982 1228  980] 0.61573522577\n",
        "\n",
        "frame 351 from 1243\n",
        "1244 19.0 [  1.93633693e-08   9.99999715e-01   1.44208509e-07   4.44172212e-08\n",
        "   2.01679066e-08   1.93256603e-08   1.85198408e-08   1.87830950e-08] [  4.02495152e-43   3.54723578e-39   2.25324387e-38   4.41608297e-39\n",
        "   2.86570861e-43   1.69296823e-41   5.02401334e-43   5.92138952e-43] [ 0.  0.  0.  0.  0.  0.  0.  0.] [1239 1244 1232 1193 1043 1230 1229  981] 0.446644686648\n",
        "\n",
        "frame 352 from 1244\n",
        "1245 20.0 [  4.72531297e-08   4.75288504e-08   9.99999347e-01   4.13640696e-07\n",
        "   4.93166500e-08   4.82030154e-08   4.70530946e-08] [  4.02495152e-43   1.42609078e-41   7.68051185e-41   8.31179652e-37\n",
        "   1.07692164e-41   6.15389316e-40   1.80665729e-41] [ 0.  0.  0.  0.  0.  0.  0.] [1239 1240 1245 1233 1044 1231  982] 0.469871384591\n",
        "\n",
        "frame 353 from 1245\n",
        "1246 21.0 [  5.59516213e-08   2.45938416e-07   9.99999698e-01] [  1.80665729e-41   2.25324387e-38   2.31763578e-39] [ 0.  0.  0.] [ 982 1232 1246] 0.284516823925\n",
        "\n",
        "frame 354 from 1246\n",
        "1247 22.0 [  9.99999934e-01   3.28158504e-08   3.27565067e-08] [  7.58015517e-38   8.60425361e-42   1.87486470e-40] [ 0.  0.  0.] [1247 1015 1029] 0.526419706676\n",
        "\n",
        "frame 355 from 1247\n",
        "1248 23.0 [  9.99999879e-01   4.12447663e-08   4.00282818e-08   4.00173448e-08] [  2.37418346e-36   2.75076462e-40   3.01205671e-40   2.12883363e-40] [ 0.  0.  0.  0.] [1248 1016 1058 1045] 0.176024949683\n",
        "\n",
        "frame 356 from 1248\n",
        "1249 24.0 [  4.90878902e-08   9.99999797e-01   5.30437807e-08   5.08789848e-08\n",
        "   5.01842287e-08] [  1.10034804e-38   6.73772445e-35   8.80215397e-39   8.79515202e-39\n",
        "   6.38847726e-39] [ 0.  0.  0.  0.  0.] [ 984 1249 1017 1059 1046] 0.957348850925\n",
        "\n",
        "frame 357 from 1249\n",
        "1250 25.0 [  9.99999870e-01   1.30255638e-07] [  1.69891944e-33   2.50000364e-37] [ 0.  0.] [1250 1018] 0.660153008969\n",
        "\n",
        "frame 358 from 1250\n",
        "1251 26.0 [  9.99997231e-01   3.22991482e-07   3.19371095e-07   1.81534333e-06\n",
        "   3.11729431e-07] [  3.88370740e-32   6.16574353e-36   4.59544233e-36   2.14605119e-31\n",
        "   5.86969621e-36] [ 0.  0.  0.  0.  0.] [1251 1019 1049 1198 1048] 0.195013154219\n",
        "\n",
        "frame 359 from 1251\n",
        "1252 27.0 [  9.99994635e-01   7.17436810e-07   7.11778045e-07   3.93540386e-06] [  6.28557100e-42   1.34424807e-34   9.98395104e-35   6.39875552e-30] [ 0.  0.  0.  0.] [1252 1020 1050 1199] 0.710958710378\n",
        "\n",
        "frame 360 from 1252\n",
        "1253 28.0 [  9.99999207e-01   2.67846091e-07   2.69811026e-07   2.54847449e-07] [  1.34974413e-40   2.19917003e-44   4.97589085e-43   1.56118015e-44] [ 0.  0.  0.  0.] [1253 1021 1051 1154] 0.493464035536\n",
        "\n",
        "frame 361 from 1253\n",
        "1254 29.0 [  9.99992713e-01   1.05284047e-06   1.04054721e-06   5.19353706e-06] [  2.87715312e-39   4.59831787e-43   3.69790838e-43   1.88794852e-38] [ 0.  0.  0.  0.] [1254 1022 1052 1144] 0.500092258053\n",
        "\n",
        "frame 362 from 1254\n",
        "1255 30.0 [  9.99988358e-01   1.61635499e-06   8.43350014e-06   1.59214260e-06] [  4.96214229e-38   8.65568430e-42   5.05345958e-37   8.01008674e-42] [ 0.  0.  0.  0.] [1255 1023 1145 1053] 0.397159552807\n",
        "\n",
        "frame 363 from 1255\n",
        "1256 31.0 [  9.99978308e-01   9.96561552e-06   8.93083640e-06   2.79579168e-06] [  3.41899318e-38   8.88187287e-36   7.59736179e-36   1.87486470e-40] [ 0.  0.  0.  0.] [1256 1146 1147 1029] 0.287135977408\n",
        "\n",
        "frame 364 from 1256\n",
        "1257 32.0 [  9.99977119e-01   1.88587205e-05   4.02276203e-06] [  1.18251598e-40   6.42032570e-36   5.92970654e-39] [ 0.  0.  0.] [1257 1148 1030] 0.473778697452\n",
        "\n",
        "frame 365 from 1257\n",
        "1258 33.0 [  9.99978496e-01   4.22011442e-06   1.72834032e-05] [  2.86071179e-39   6.43421212e-42   1.52929659e-38] [ 0.  0.  0.] [1258 1149 1074] 0.598363741023\n",
        "\n",
        "frame 366 from 1258\n",
        "1259 34.0 [  9.99945231e-01   6.04389509e-06   6.21317787e-06   2.83824287e-05\n",
        "   1.41298614e-05] [  7.73615421e-38   5.10124306e-42   3.91996686e-39   5.02155974e-37\n",
        "   1.82092135e-37] [ 0.  0.  0.  0.  0.] [1259 1104 1164 1075 1031] 0.485638226201\n",
        "\n",
        "frame 367 from 1259\n",
        "1260 35.0 [  9.99938884e-01   4.39585081e-05   8.57873902e-06   8.57829465e-06] [  2.26943938e-36   1.77024698e-35   1.47824111e-40   4.96055534e-39] [ 0.  0.  0.  0.] [1260 1076 1105 1106] 0.788814760139\n",
        "\n",
        "frame 368 from 1260\n",
        "1261 36.0 [  1.57333752e-05   9.99861192e-01   1.52892548e-05   9.60089966e-05\n",
        "   1.17765022e-05] [  1.18937396e-35   1.30667129e-37   1.74678192e-38   6.49725548e-34\n",
        "   8.94617014e-39] [ 0.  0.  0.  0.  0.] [1264 1261 1107 1077  956] 0.147749775632\n",
        "\n",
        "frame 369 from 1261\n",
        "1262 37.0 [  9.99978675e-01   5.40394181e-06   5.20997160e-06   4.24442784e-06\n",
        "   6.46651177e-06] [  3.34887243e-36   4.92083384e-39   9.42912627e-40   1.03173956e-40\n",
        "   2.84804198e-37] [ 0.  0.  0.  0.  0.] [1262 1108 1266  960  959] 0.848687397451\n",
        "\n",
        "frame 370 from 1262\n",
        "1263 38.0 [  1.03474961e-04   9.99837277e-01   1.68747347e-05   1.39696215e-05\n",
        "   1.41152664e-05   1.42884126e-05] [  4.45052578e-34   8.11972215e-35   1.77685498e-38   1.13500407e-39\n",
        "   1.03173956e-40   2.84804198e-37] [ 0.  0.  0.  0.  0.  0.] [ 932 1263 1267  961  960  959] 0.243172888787\n",
        "\n",
        "frame 371 from 1263\n",
        "1264 39.0 [  3.67394868e-05   9.99416261e-01   3.72321150e-05   3.56700866e-04\n",
        "   3.71091246e-05   2.89962886e-05   3.13703405e-05   2.72065852e-05\n",
        "   2.83839339e-05] [  4.18123441e-34   1.18937396e-35   1.77382235e-37   2.35626372e-32\n",
        "   1.30067309e-37   8.40924099e-37   2.84489346e-37   1.13500407e-39\n",
        "   2.84804198e-37] [ 0.  0.  0.  0.  0.  0.  0.  0.  0.] [ 970 1264 1135 1078 1165  945 1268  961  959] 0.919623981529\n",
        "\n",
        "frame 372 from 1264\n",
        "1265 40.0 [  4.01283152e-04   9.99360525e-01   5.11512939e-05   5.70298685e-05\n",
        "   5.03853801e-05   4.06624290e-05   3.89626684e-05] [  8.16898499e-33   4.45709432e-41   4.12621785e-36   1.46535941e-34\n",
        "   2.26943938e-36   1.61511386e-35   3.47330509e-38] [ 0.  0.  0.  0.  0.  0.  0.] [ 971 1265 1166 1167 1260  946 1269] 0.0916267536972\n",
        "\n",
        "frame 373 from 1265\n",
        "1266 41.0 [ 1.] [  9.42912627e-40] [ 0.] [1266] 0.803214290305\n",
        "\n",
        "frame 374 from 1266\n",
        "1267 42.0 [  9.99395563e-01   1.94374887e-04   9.24923830e-05   3.17570105e-04] [  1.77685498e-38   1.30667129e-37   1.74678192e-38   2.75946392e-37] [ 0.  0.  0.  0.] [1267 1261 1107 1168] 0.507236934127\n",
        "\n",
        "frame 375 from 1267\n",
        "1268 43.0 [  9.99330104e-01   5.05270760e-04   8.87821286e-05   7.58427941e-05] [  2.84489346e-37   3.34887243e-36   4.92083384e-39   1.03173956e-40] [ 0.  0.  0.  0.] [1268 1262 1108  960] 0.278913516562\n",
        "\n",
        "frame 376 from 1268\n",
        "1269 44.0 [  9.99192929e-01   6.89727024e-04   1.17344109e-04] [  3.47330509e-38   8.11972215e-35   1.13500407e-39] [ 0.  0.  0.] [1269 1263  961] 0.579423904456\n",
        "\n",
        "frame 377 from 1269\n",
        "1270 45.0 [  9.98310345e-01   1.73555468e-04   1.21352222e-03   1.57296426e-04\n",
        "   1.45281163e-04] [  1.54138480e-42   2.84539515e-39   1.18937396e-35   1.06758716e-41\n",
        "   1.13500407e-39] [ 0.  0.  0.  0.  0.] [1270  934 1264  962  961] 0.0270122458101\n",
        "\n",
        "frame 378 from 1270\n",
        "jump 965 1.0 [ 0.08114167  0.07880436  0.27166606  0.10680153  0.3529812   0.10860518] [  3.64925667e-42   1.06758716e-41   3.32364455e-40   3.46066330e-41\n",
        "   4.81378102e-40   4.06318973e-41] [ 0.  0.  0.  0.  0.  0.] [963 962 935 936 965 964] 0.768597494319\n",
        "\n",
        "frame 379 from 965\n",
        "966 2.0 [  1.00000000e+00   5.32559495e-12   3.24108778e-12] [  6.16246520e-39   5.03114221e-40   1.54138480e-42] [ 0.  0.  0.] [ 966  937 1270] 0.735617038227\n",
        "\n",
        "frame 380 from 966\n",
        "967 3.0 [  1.00000000e+00   3.21962714e-11   1.19110389e-11] [  8.61438703e-38   1.07889269e-37   7.53522356e-39] [ 0.  0.  0.] [967 939 938] 0.0844142053839\n",
        "\n",
        "frame 381 from 967\n",
        "968 4.0 [  1.00000000e+00   4.96020516e-11   2.25314205e-11   1.45017864e-11] [  1.33413573e-36   1.42892419e-36   3.04845621e-37   7.53522356e-39] [ 0.  0.  0.  0.] [968 940 941 938] 0.558026214599\n",
        "\n",
        "frame 382 from 968\n",
        "969 5.0 [  1.00000000e+00   2.09225604e-11] [  2.28209743e-35   5.50790229e-38] [ 0.  0.] [969 942] 0.249587651861\n",
        "\n",
        "frame 383 from 969\n",
        "970 6.0 [  1.00000000e+00   9.77776685e-11] [  4.18123441e-34   3.04805850e-34] [ 0.  0.] [970 947] 0.687706539493\n",
        "\n",
        "frame 384 from 970\n",
        "971 7.0 [  3.58067035e-11   1.00000000e+00   1.58555597e-10   4.97647312e-11\n",
        "   4.80648275e-11] [  2.71978093e-36   8.16898499e-33   5.53349236e-33   8.11972215e-35\n",
        "   1.61511386e-35] [ 0.  0.  0.  0.  0.] [ 930  971  948 1263  946] 0.65873542987\n",
        "\n",
        "frame 385 from 971\n",
        "972 8.0 [  3.42793797e-11   3.80884661e-11   1.00000000e+00   5.04371704e-11\n",
        "   9.41236614e-11   6.00941990e-11   4.93016079e-11] [  2.71978093e-36   3.87299134e-35   1.67180360e-31   1.18937396e-35\n",
        "   2.35626372e-32   5.53349236e-33   3.04805850e-34] [ 0.  0.  0.  0.  0.  0.  0.] [ 930  931  972 1264 1078  948  947] 0.216516190706\n",
        "\n",
        "frame 386 from 972\n",
        "973 9.0 [  5.97204220e-11   6.00696297e-11   6.62041107e-11   9.99999999e-01\n",
        "   2.04378034e-10   8.60062697e-11   8.04774412e-11] [  5.40207395e-34   3.87299134e-35   4.45052578e-34   3.48396816e-30\n",
        "   8.40845988e-31   1.46535941e-34   5.53349236e-33] [ 0.  0.  0.  0.  0.  0.  0.] [ 891  931  932  973 1079 1167  948] 0.916186147661\n",
        "\n",
        "frame 387 from 973\n",
        "974 10.0 [  3.89858080e-10   9.99999993e-01   6.85059193e-10   4.43473647e-09\n",
        "   5.52886963e-10   4.47638607e-10   4.79619085e-10] [  8.86736793e-33   1.17823609e-36   2.91437084e-29   9.15925839e-28\n",
        "   3.96366986e-33   5.53349236e-33   9.49188071e-32] [ 0.  0.  0.  0.  0.  0.  0.] [ 892  974 1080 1081 1034  948  949] 0.0761580302431\n",
        "\n",
        "frame 388 from 974\n",
        "975 11.0 [  9.99999995e-01   8.98773540e-10   4.25999781e-09] [  2.07485909e-37   1.45360735e-39   3.03385241e-34] [ 0.  0.  0.] [ 975 1035 1170] 0.104452049954\n",
        "\n",
        "frame 389 from 975\n",
        "976 12.0 [  9.99999989e-01   1.45343176e-09   1.42855884e-09   8.22753687e-09] [  5.29537829e-40   4.19960144e-39   2.03752368e-40   5.03274294e-35] [ 0.  0.  0.  0.] [ 976 1036 1225 1224] 0.0214939676276\n",
        "\n",
        "frame 390 from 976\n",
        "977 13.0 [  9.99999982e-01   1.30508450e-08   2.27819722e-09   2.26392006e-09]"
       ]
      },
      {
       "output_type": "stream",
       "stream": "stdout",
       "text": [
        " [  3.13043271e-45   1.09781875e-37   5.25288491e-43   5.43414608e-43] [ 0.  0.  0.  0.] [ 977 1037 1003 1238] 0.884277381953\n",
        "\n",
        "frame 391 from 977\n",
        "978 14.0 [  9.99999979e-01   2.96121065e-09   9.32596991e-09   8.99561273e-09] [  7.55758587e-44   1.78713071e-45   4.23929051e-43   4.02495152e-43] [ 0.  0.  0.  0.] [ 978 1004 1038 1239] 0.4408919578\n",
        "\n",
        "frame 392 from 978\n",
        "979 15.0 [  9.99999968e-01   2.66800220e-08   5.73417323e-09] [  7.15674474e-46   1.42609078e-41   1.41558141e-45] [ 0.  0.  0.] [ 979 1240 1005] 0.158031787132\n",
        "\n",
        "frame 393 from 979\n",
        "980 16.0 [  9.99999979e-01   2.11551183e-08] [  2.00180790e-44   8.04376850e-44] [ 0.  0.] [ 980 1241] 0.806683463273\n",
        "\n",
        "frame 394 from 980\n",
        "981 17.0 [  9.99999965e-01   3.47021999e-08] [  5.92138952e-43   2.91098449e-42] [ 0.  0.] [ 981 1242] 0.268947556806\n",
        "\n",
        "frame 395 from 981\n",
        "982 18.0 [  9.99999946e-01   5.44127964e-08] [  1.80665729e-41   1.00520741e-40] [ 0.  0.] [ 982 1243] 0.133730909772\n",
        "\n",
        "frame 396 from 982\n",
        "983 19.0 [  9.99999860e-01   1.11543321e-07   2.86624202e-08] [  3.64723321e-40   3.54723578e-39   7.68051185e-41] [ 0.  0.  0.] [ 983 1244 1245] 0.134250458653\n",
        "\n",
        "frame 397 from 983\n",
        "984 20.0 [  9.99999946e-01   5.35183242e-08] [  1.10034804e-38   8.80215397e-39] [ 0.  0.] [ 984 1017] 0.969352061385\n",
        "\n",
        "frame 398 from 984\n",
        "985 21.0 [  9.99999748e-01   2.52103020e-07] [  4.48874262e-41   2.37418346e-36] [ 0.  0.] [ 985 1248] 0.90602795786\n",
        "\n",
        "frame 399 from 985\n",
        "986 22.0 [  9.99999625e-01   3.74622195e-07] [  5.31032956e-42   8.79515202e-39] [ 0.  0.] [ 986 1059] 0.987172318375\n",
        "\n",
        "frame 400 from 986\n",
        "987 23.0 [  9.99999352e-01   1.22727893e-07   5.25069459e-07] [  1.19741263e-40   1.95659301e-44   1.06997716e-39] [ 0.  0.  0.] [ 987 1060 1064] 0.962235986965\n",
        "\n",
        "frame 401 from 987\n",
        "988 24.0 [  9.99998772e-01   1.01336346e-06   2.14511529e-07] [  6.60844525e-47   2.42696173e-38   4.20690147e-43] [ 0.  0.  0.] [ 988 1065 1061] 0.648731731607\n",
        "\n",
        "frame 402 from 988\n",
        "989 25.0 [  9.99998220e-01   1.46896733e-06   3.11029142e-07] [  3.96543542e-48   1.49386407e-44   1.74592021e-49] [ 0.  0.  0.] [ 989 1237 1185] 0.653281322154\n",
        "\n",
        "frame 403 from 989\n",
        "990 26.0 [  9.99999820e-01   1.80104405e-07] [  9.47631402e-47   2.39112461e-49] [ 0.  0.] [ 990 1186] 0.925328386491\n",
        "\n",
        "frame 404 from 990\n",
        "991 27.0 [  9.99999735e-01   2.65267702e-07] [  2.39964239e-45   6.02174208e-48] [ 0.  0.] [ 991 1187] 0.44528831355\n",
        "\n",
        "frame 405 from 991\n",
        "992 28.0 [  9.99996358e-01   3.64209362e-06] [  8.34063819e-48   5.25288491e-43] [ 0.  0.] [ 992 1003] 0.528386991439\n",
        "\n",
        "frame 406 from 992\n",
        "993 29.0 [  9.99995181e-01   4.81905561e-06] [  7.76113531e-47   1.78713071e-45] [ 0.  0.] [ 993 1004] 0.533659765114\n",
        "\n",
        "frame 407 from 993\n",
        "994 30.0 [  9.99997924e-01   2.07617782e-06] [  2.33742836e-45   1.41558141e-45] [ 0.  0.] [ 994 1005] 0.494286287981\n",
        "\n",
        "frame 408 from 994\n",
        "995 31.0 [  9.99998787e-01   1.21344228e-06] [  7.47410430e-44   9.52656456e-46] [ 0.  0.] [ 995 1006] 0.697130532002\n",
        "\n",
        "frame 409 from 995\n",
        "996 32.0 [  9.99998311e-01   1.68900692e-06] [  2.63000967e-42   2.03998731e-46] [ 0.  0.] [ 996 1009] 0.645760675895\n",
        "\n",
        "frame 410 from 996\n",
        "997 33.0 [  9.99997614e-01   2.38618287e-06] [  9.62168416e-41   8.41325948e-45] [ 0.  0.] [ 997 1010] 0.774873600304\n",
        "\n",
        "frame 411 from 997\n",
        "998 34.0 [  9.99996723e-01   3.27703264e-06] [  3.38007855e-39   3.41256991e-43] [ 0.  0.] [ 998 1011] 0.95309596554\n",
        "\n",
        "frame 412 from 998\n",
        "999 35.0 [  9.99967657e-01   3.23433322e-05] [  1.14215766e-37   8.31179652e-37] [ 0.  0.] [ 999 1233] 0.0869607735606\n",
        "\n",
        "frame 413 from 999\n",
        "1000 36.0 [  9.99941500e-01   5.84999300e-05] [  8.57420652e-41   2.97296617e-35] [ 0.  0.] [1000 1234] 0.31787275674\n",
        "\n",
        "frame 414 from 1000\n",
        "1001 37.0 [  9.99919293e-01   8.07068221e-05] [  1.89869927e-42   2.25399743e-38] [ 0.  0.] [1001 1235] 0.494662201261\n",
        "\n",
        "frame 415 from 1001\n",
        "1002 38.0 [ 1.] [  6.36707885e-41] [ 0.] [1002] 0.195380696968\n",
        "\n",
        "frame 416 from 1002\n",
        "1003 39.0 [  9.99851622e-01   1.48378125e-04] [  5.25288491e-43   2.25399743e-38] [ 0.  0.] [1003 1235] 0.594285338105\n",
        "\n",
        "frame 417 from 1003\n",
        "1004 40.0 [  3.52662903e-04   9.99480023e-01   5.83548099e-05   5.64510572e-05\n",
        "   5.25087237e-05] [  5.29537829e-40   1.78713071e-45   1.49386407e-44   2.34041214e-45\n",
        "   2.39964239e-45] [ 0.  0.  0.  0.  0.] [ 976 1004 1237 1236  991] 0.999623514626\n",
        "\n",
        "frame 418 from 1004\n",
        "1005 41.0 [  6.59696453e-05   4.70253676e-04   9.99306776e-01   8.49152505e-05\n",
        "   7.20850632e-05] [  3.13043271e-45   5.43414608e-43   1.41558141e-45   1.49386407e-44\n",
        "   8.34063819e-48] [ 0.  0.  0.  0.  0.] [ 977 1238 1005 1237  992] 0.660707219471\n",
        "\n",
        "frame 419 from 1005\n",
        "1006 42.0 [  4.98084419e-04   1.44169292e-04   9.99257195e-01   1.00551243e-04] [  5.43414608e-43   7.55758587e-44   9.52656456e-46   7.76113531e-47] [ 0.  0.  0.  0.] [1238  978 1006  993] 0.10679033744\n",
        "\n",
        "frame 420 from 1006\n",
        "1007 43.0 [  6.23193220e-04   9.99237973e-01   1.38833971e-04] [  4.02495152e-43   1.26767209e-49   2.33742836e-45] [ 0.  0.  0.] [1239 1007  994] 0.607041959512\n",
        "\n",
        "frame 421 from 1007\n",
        "1008 44.0 [ 1.] [  5.01485644e-48] [ 0.] [1008] 0.601088984728\n",
        "\n",
        "frame 422 from 1008\n",
        "1009 45.0 [ 1.] [  2.03998731e-46] [ 0.] [1009] 0.710220286067\n",
        "\n",
        "frame 423 from 1009\n",
        "1010 46.0 [  9.99072479e-01   9.27520917e-04] [  8.41325948e-45   7.47410430e-44] [ 0.  0.] [1010  995] 0.258096547533\n",
        "\n",
        "frame 424 from 1010\n",
        "1011 47.0 [ 0.99879375  0.00120625] [  3.41256991e-43   2.63000967e-42] [ 0.  0.] [1011  996] 0.704480562123\n",
        "\n",
        "frame 425 from 1011\n",
        "1012 48.0 [ 0.00205667  0.99794333] [  9.62168416e-41   1.60757361e-46] [ 0.  0.] [ 997 1012] 0.774963174646\n",
        "\n",
        "frame 426 from 1012\n",
        "1013 49.0 [ 1.] [  6.30837410e-45] [ 0.] [1013] 0.144358981427\n",
        "\n",
        "frame 427 from 1013\n",
        "1014 50.0 [ 1.] [  2.41389489e-43] [ 0.] [1014] 0.617485418924\n",
        "\n",
        "frame 428 from 1014\n",
        "1015 51.0 [ 1.] [  8.60425361e-42] [ 0.] [1015] 0.182522976227\n",
        "\n",
        "frame 429 from 1015\n",
        "1016 52.0 [ 0.00138083  0.005176    0.99344317] [  7.68051185e-41   2.31763578e-39   2.75076462e-40] [ 0.  0.  0.] [1245 1246 1016] 0.527104747921\n",
        "\n",
        "frame 430 from 1016\n",
        "1017 53.0 [ 0.00170208  0.99176303  0.00653489] [  2.31763578e-39   8.80215397e-39   7.58015517e-38] [ 0.  0.  0.] [1246 1017 1247] 0.427390380995\n",
        "\n",
        "frame 431 from 1017\n",
        "1018 54.0 [ 0.00182509  0.98658655  0.00206115  0.00952721] [  3.64723321e-40   2.50000364e-37   7.58015517e-38   2.37418346e-36] [ 0.  0.  0.  0.] [ 983 1018 1247 1248] 0.390128510163\n",
        "\n",
        "frame 432 from 1018\n",
        "1019 55.0 [ 0.00265651  0.98681277  0.01053072] [  2.37418346e-36   6.16574353e-36   6.73772445e-35] [ 0.  0.  0.] [1248 1019 1249] 0.490179446678\n",
        "\n",
        "frame 433 from 1019\n",
        "1020 56.0 [ 0.00336272  0.9833045   0.01333278] [  6.73772445e-35   1.34424807e-34   1.69891944e-33] [ 0.  0.  0.] [1249 1020 1250] 0.938811115316\n",
        "\n",
        "frame 434 from 1020\n",
        "1021 57.0 [ 0.01654294  0.98345706] [  3.88370740e-32   2.19917003e-44] [ 0.  0.] [1251 1021] 0.617538902916\n",
        "\n",
        "frame 435 from 1021\n",
        "1022 58.0 [ 0.01766061  0.98233939] [  6.28557100e-42   4.59831787e-43] [ 0.  0.] [1252 1022] 0.294687497698\n",
        "\n",
        "frame 436 from 1022\n",
        "1023 59.0 [ 0.0221179  0.9778821] [  1.34974413e-40   8.65568430e-42] [ 0.  0.] [1253 1023] 0.476788909943\n",
        "\n",
        "frame 437 from 1023\n",
        "1024 60.0 [ 0.030712  0.969288] [  2.87715312e-39   1.21605405e-47] [ 0.  0.] [1254 1024] 0.694816136862\n",
        "\n",
        "frame 438 from 1024\n",
        "1025 61.0 [ 1.] [  2.90476189e-46] [ 0.] [1025] 0.402021387524\n",
        "\n",
        "frame 439 from 1025\n",
        "1026 62.0 [ 1.] [  7.27015993e-45] [ 0.] [1026] 0.856787678876\n",
        "\n",
        "frame 440 from 1026\n",
        "1027 63.0 [ 1.] [  1.97211395e-43] [ 0.] [1027] 0.85343639033\n",
        "\n",
        "frame 441 from 1027\n",
        "1028 64.0 [ 1.] [  5.91799045e-42] [ 0.] [1028] 0.911139020077\n",
        "\n",
        "frame 442 from 1028\n",
        "1029 65.0 [ 1.] [  1.87486470e-40] [ 0.] [1029] 0.868440344805\n",
        "\n",
        "frame 443 from 1029\n",
        "1030 66.0 [ 0.84873361  0.05604859  0.07131612  0.02390169] [  5.92970654e-39   3.41899318e-38   4.96214229e-38   2.31763578e-39] [ 0.  0.  0.  0.] [1030 1256 1255 1246] 0.0755155557821\n",
        "\n",
        "frame 444 from 1030\n",
        "1031 67.0 [ 0.97023502  0.01164954  0.01811544] [  1.82092135e-37   1.18251598e-40   3.41899318e-38] [ 0.  0.  0.] [1031 1257 1256] 0.426077923518\n",
        "\n",
        "frame 445 from 1031\n",
        "1032 68.0 [ 0.98492214  0.01507786] [  5.41184281e-36   2.86071179e-39] [ 0.  0.] [1032 1258] 0.0115492574927\n",
        "\n",
        "frame 446 from 1032\n",
        "1033 69.0 [ 1.] [  1.52351097e-34] [ 0.] [1033] 0.198805031794\n",
        "\n",
        "frame 447 from 1033\n",
        "1034 70.0 [ 1.] [  3.96366986e-33] [ 0.] [1034] 0.416951462975\n",
        "\n",
        "frame 448 from 1034\n",
        "1035 71.0 [ 0.18735137  0.81264863] [  3.48396816e-30   1.45360735e-39]"
       ]
      },
      {
       "output_type": "stream",
       "stream": "stdout",
       "text": [
        " [ 0.  0.] [ 973 1035] 0.372316625754\n",
        "\n",
        "frame 449 from 1035\n",
        "1036 72.0 [ 0.21367473  0.78632527] [  1.17823609e-36   4.19960144e-39] [ 0.  0.] [ 974 1036] 0.369701767786\n",
        "\n",
        "frame 450 from 1036\n",
        "jump 975 1.0 [ 0.13742569  0.86257431] [  2.07485909e-37   1.09781875e-37] [ 0.  0.] [ 975 1037] 0.00693770322828\n",
        "\n",
        "frame 451 from 975\n",
        "976 2.0 [  1.00000000e+00   1.32193647e-11   1.29931386e-11   7.48317283e-11] [  5.29537829e-40   4.19960144e-39   2.03752368e-40   5.03274294e-35] [ 0.  0.  0.  0.] [ 976 1036 1225 1224] 0.928090638741\n",
        "\n",
        "frame 452 from 976\n",
        "977 3.0 [  1.00000000e+00   1.24786987e-10   2.17832152e-11   2.16467027e-11] [  3.13043271e-45   1.09781875e-37   5.25288491e-43   5.43414608e-43] [ 0.  0.  0.  0.] [ 977 1037 1003 1238] 0.705585038307\n",
        "\n",
        "frame 453 from 977\n",
        "978 4.0 [  1.00000000e+00   2.97656035e-11   9.37431191e-11   9.04224230e-11] [  7.55758587e-44   1.78713071e-45   4.23929051e-43   4.02495152e-43] [ 0.  0.  0.  0.] [ 978 1004 1038 1239] 0.110371122874\n",
        "\n",
        "frame 454 from 978\n",
        "979 5.0 [  1.00000000e+00   2.81933252e-10   6.05941818e-11] [  7.15674474e-46   1.42609078e-41   1.41558141e-45] [ 0.  0.  0.] [ 979 1240 1005] 0.404007287266\n",
        "\n",
        "frame 455 from 979\n",
        "980 6.0 [  1.00000000e+00   2.35012138e-10] [  2.00180790e-44   8.04376850e-44] [ 0.  0.] [ 980 1241] 0.158872713728\n",
        "\n",
        "frame 456 from 980\n",
        "981 7.0 [  1.00000000e+00   4.05271971e-10] [  5.92138952e-43   2.91098449e-42] [ 0.  0.] [ 981 1242] 0.246297183146\n",
        "\n",
        "frame 457 from 981\n",
        "982 8.0 [  9.99999999e-01   6.68044411e-10] [  1.80665729e-41   1.00520741e-40] [ 0.  0.] [ 982 1243] 0.885958859615\n",
        "\n",
        "frame 458 from 982\n",
        "983 9.0 [  9.99999998e-01   1.43966886e-09   3.69940518e-10] [  3.64723321e-40   3.54723578e-39   7.68051185e-41] [ 0.  0.  0.] [ 983 1244 1245] 0.473879723949\n",
        "\n",
        "frame 459 from 983\n",
        "984 10.0 [  9.99999999e-01   7.26166524e-10] [  1.10034804e-38   8.80215397e-39] [ 0.  0.] [ 984 1017] 0.615687042447\n",
        "\n",
        "frame 460 from 984\n",
        "985 11.0 [  9.99999996e-01   3.59605693e-09] [  4.48874262e-41   2.37418346e-36] [ 0.  0.] [ 985 1248] 0.801056556596\n",
        "\n",
        "frame 461 from 985\n",
        "986 12.0 [  9.99999994e-01   5.61767704e-09] [  5.31032956e-42   8.79515202e-39] [ 0.  0.] [ 986 1059] 0.168628118863\n",
        "\n",
        "frame 462 from 986\n",
        "987 13.0 [  9.99999990e-01   1.93473438e-09   8.27741689e-09] [  1.19741263e-40   1.95659301e-44   1.06997716e-39] [ 0.  0.  0.] [ 987 1060 1064] 0.352109152701\n",
        "\n",
        "frame 463 from 987\n",
        "988 14.0 [  9.99999980e-01   1.67941580e-08   3.55503295e-09] [  6.60844525e-47   2.42696173e-38   4.20690147e-43] [ 0.  0.  0.] [ 988 1065 1061] 0.06270903635\n",
        "\n",
        "frame 464 from 988\n",
        "989 15.0 [  9.99999969e-01   2.55929305e-08   5.41887287e-09] [  3.96543542e-48   1.49386407e-44   1.74592021e-49] [ 0.  0.  0.] [ 989 1237 1185] 0.707082662836\n",
        "\n",
        "frame 465 from 989\n",
        "990 16.0 [  9.99999997e-01   3.29872530e-09] [  9.47631402e-47   2.39112461e-49] [ 0.  0.] [ 990 1186] 0.219812335301\n",
        "\n",
        "frame 466 from 990\n",
        "991 17.0 [  9.99999995e-01   5.10764614e-09] [  2.39964239e-45   6.02174208e-48] [ 0.  0.] [ 991 1187] 0.507970444003\n",
        "\n",
        "frame 467 from 991\n",
        "992 18.0 [  9.99999926e-01   7.37230813e-08] [  8.34063819e-48   5.25288491e-43] [ 0.  0.] [ 992 1003] 0.772305083642\n",
        "\n",
        "frame 468 from 992\n",
        "993 19.0 [  9.99999897e-01   1.02548481e-07] [  7.76113531e-47   1.78713071e-45] [ 0.  0.] [ 993 1004] 0.192293387602\n",
        "\n",
        "frame 469 from 993\n",
        "994 20.0 [  9.99999954e-01   4.64456420e-08] [  2.33742836e-45   1.41558141e-45] [ 0.  0.] [ 994 1005] 0.531407992687\n",
        "\n",
        "frame 470 from 994\n",
        "995 21.0 [  9.99999971e-01   2.85373276e-08] [  7.47410430e-44   9.52656456e-46] [ 0.  0.] [ 995 1006] 0.807604217201\n",
        "\n",
        "frame 471 from 995\n",
        "996 22.0 [  9.99999958e-01   4.17580001e-08] [  2.63000967e-42   2.03998731e-46] [ 0.  0.] [ 996 1009] 0.779339930763\n",
        "\n",
        "frame 472 from 996\n",
        "997 23.0 [  9.99999938e-01   6.20191540e-08] [  9.62168416e-41   8.41325948e-45] [ 0.  0.] [ 997 1010] 0.873082952951\n",
        "\n",
        "frame 473 from 997\n",
        "998 24.0 [  9.99999910e-01   8.95398513e-08] [  3.38007855e-39   3.41256991e-43] [ 0.  0.] [ 998 1011] 0.725338173449\n",
        "\n",
        "frame 474 from 998\n",
        "999 25.0 [  9.99999071e-01   9.29062926e-07] [  1.14215766e-37   8.31179652e-37] [ 0.  0.] [ 999 1233] 0.236533906436\n",
        "\n",
        "frame 475 from 999\n",
        "1000 26.0 [  9.99998233e-01   1.76660072e-06] [  8.57420652e-41   2.97296617e-35] [ 0.  0.] [1000 1234] 0.362895354732\n",
        "\n",
        "frame 476 from 1000\n",
        "1001 27.0 [  9.99997438e-01   2.56220105e-06] [  1.89869927e-42   2.25399743e-38] [ 0.  0.] [1001 1235] 0.931611158197\n",
        "\n",
        "frame 477 from 1001\n",
        "1002 28.0 [ 1.] [  6.36707885e-41] [ 0.] [1002] 0.295218669124\n",
        "\n",
        "frame 478 from 1002\n",
        "1003 29.0 [  9.99994794e-01   5.20615922e-06] [  5.25288491e-43   2.25399743e-38] [ 0.  0.] [1003 1235] 0.200137707205\n",
        "\n",
        "frame 479 from 1003\n",
        "1004 30.0 [  1.30126992e-05   9.99980814e-01   2.15319950e-06   2.08295406e-06\n",
        "   1.93748824e-06] [  5.29537829e-40   1.78713071e-45   1.49386407e-44   2.34041214e-45\n",
        "   2.39964239e-45] [ 0.  0.  0.  0.  0.] [ 976 1004 1237 1236  991] 0.129069434636\n",
        "\n",
        "frame 480 from 1004\n",
        "1005 31.0 [  2.55932270e-06   1.82437074e-05   9.99973106e-01   3.29432616e-06\n",
        "   2.79657315e-06] [  3.13043271e-45   5.43414608e-43   1.41558141e-45   1.49386407e-44\n",
        "   8.34063819e-48] [ 0.  0.  0.  0.  0.] [ 977 1238 1005 1237  992] 0.132032321501\n",
        "\n",
        "frame 481 from 1005\n",
        "1006 32.0 [  2.03142570e-05   5.87991097e-06   9.99969705e-01   4.10095901e-06] [  5.43414608e-43   7.55758587e-44   9.52656456e-46   7.76113531e-47] [ 0.  0.  0.  0.] [1238  978 1006  993] 0.0987322469697\n",
        "\n",
        "frame 482 from 1006\n",
        "1007 33.0 [  2.67189526e-05   9.99967329e-01   5.95240477e-06] [  4.02495152e-43   1.26767209e-49   2.33742836e-45] [ 0.  0.  0.] [1239 1007  994] 0.35168523027\n",
        "\n",
        "frame 483 from 1007\n",
        "1008 34.0 [ 1.] [  5.01485644e-48] [ 0.] [1008] 0.569302031472\n",
        "\n",
        "frame 484 from 1008\n",
        "1009 35.0 [ 1.] [  2.03998731e-46] [ 0.] [1009] 0.808972519321\n",
        "\n",
        "frame 485 from 1009\n",
        "1010 36.0 [  9.99953804e-01   4.61964640e-05] [  8.41325948e-45   7.47410430e-44] [ 0.  0.] [1010  995] 0.0498962763043\n",
        "\n",
        "frame 486 from 1010\n",
        "1011 37.0 [  9.99936834e-01   6.31659818e-05] [  3.41256991e-43   2.63000967e-42] [ 0.  0.] [1011  996] 0.336924410649\n",
        "\n",
        "frame 487 from 1011\n",
        "1012 38.0 [  1.13289632e-04   9.99886710e-01] [  9.62168416e-41   1.60757361e-46] [ 0.  0.] [ 997 1012] 0.154104933908\n",
        "\n",
        "frame 488 from 1012\n",
        "1013 39.0 [ 1.] [  6.30837410e-45] [ 0.] [1013] 0.489469448884\n",
        "\n",
        "frame 489 from 1013\n",
        "1014 40.0 [ 1.] [  2.41389489e-43] [ 0.] [1014] 0.927244783594\n",
        "\n",
        "frame 490 from 1014\n",
        "1015 41.0 [ 1.] [  8.60425361e-42] [ 0.] [1015] 0.795318460779\n",
        "\n",
        "frame 491 from 1015\n",
        "1016 42.0 [  9.31550836e-05   3.49189399e-04   9.99557656e-01] [  7.68051185e-41   2.31763578e-39   2.75076462e-40] [ 0.  0.  0.] [1245 1246 1016] 0.130190810689\n",
        "\n",
        "frame 492 from 1016\n",
        "1017 43.0 [  1.20827157e-04   9.99415276e-01   4.63897234e-04] [  2.31763578e-39   8.80215397e-39   7.58015517e-38] [ 0.  0.  0.] [1246 1017 1247] 0.284742258353\n",
        "\n",
        "frame 493 from 1017\n",
        "1018 44.0 [  1.36753058e-04   9.98994938e-01   1.54440536e-04   7.13868877e-04] [  3.64723321e-40   2.50000364e-37   7.58015517e-38   2.37418346e-36] [ 0.  0.  0.  0.] [ 983 1018 1247 1248] 0.284937055233\n",
        "\n",
        "frame 494 from 1018\n",
        "1019 45.0 [  2.09002502e-04   9.98962488e-01   8.28509156e-04] [  2.37418346e-36   6.16574353e-36   6.73772445e-35] [ 0.  0.  0.] [1248 1019 1249] 0.977124142687\n",
        "\n",
        "frame 495 from 1019\n",
        "1020 46.0 [  2.78697435e-04   9.98616300e-01   1.10500210e-03] [  6.73772445e-35   1.34424807e-34   1.69891944e-33] [ 0.  0.  0.] [1249 1020 1250] 0.566978598602\n",
        "\n",
        "frame 496 from 1020\n",
        "1021 47.0 [ 0.001439  0.998561] [  3.88370740e-32   2.19917003e-44] [ 0.  0.] [1251 1021] 0.237559319604\n",
        "\n",
        "frame 497 from 1021\n",
        "1022 48.0 [ 0.00161374  0.99838626] [  6.28557100e-42   4.59831787e-43] [ 0.  0.] [1252 1022] 0.0122197958873\n",
        "\n",
        "frame 498 from 1022\n",
        "1023 49.0 [ 0.00212879  0.99787121] [  1.34974413e-40   8.65568430e-42] [ 0.  0.] [1253 1023] 0.69680049673\n",
        "\n",
        "frame 499 from 1023\n",
        "1024 50.0 [ 0.0031241  0.9968759] [  2.87715312e-39   1.21605405e-47] [ 0.  0.] [1254 1024] 0.510223944396\n",
        "\n",
        "frame 500 from 1024\n",
        "1025 51.0 [ 1.] [  2.90476189e-46] [ 0.] [1025] 0.968472211752\n",
        "\n",
        "frame 501 from 1025\n",
        "1026 52.0 [ 1.] [  7.27015993e-45] [ 0.] [1026] 0.74172029219\n",
        "\n",
        "frame 502 from 1026\n",
        "1027 53.0 [ 1.] [  1.97211395e-43] [ 0.] [1027] 0.575120202077\n",
        "\n",
        "frame 503 from 1027\n",
        "1028 54.0 [ 1.] [  5.91799045e-42] [ 0.] [1028] 0.395482259179\n",
        "\n",
        "frame 504 from 1028\n",
        "1029 55.0 [ 1.] [  1.87486470e-40] [ 0.] [1029] 0.588288856739\n",
        "\n",
        "frame 505 from 1029\n",
        "1030 56.0 [ 0.97738468  0.00837963  0.01066223  0.00357346] [  5.92970654e-39   3.41899318e-38   4.96214229e-38   2.31763578e-39] [ 0.  0.  0.  0.] [1030 1256 1255 1246] 0.78135408049\n",
        "\n",
        "frame 506 from 1030\n",
        "1031 57.0 [ 0.99586221  0.00161946  0.00251832]"
       ]
      },
      {
       "output_type": "stream",
       "stream": "stdout",
       "text": [
        " [  1.82092135e-37   1.18251598e-40   3.41899318e-38] [ 0.  0.  0.] [1031 1257 1256] 0.020135883316\n",
        "\n",
        "frame 507 from 1031\n",
        "1032 58.0 [ 0.99784418  0.00215582] [  5.41184281e-36   2.86071179e-39] [ 0.  0.] [1032 1258] 0.575282624747\n",
        "\n",
        "frame 508 from 1032\n",
        "1033 59.0 [ 1.] [  1.52351097e-34] [ 0.] [1033] 0.0992997457902\n",
        "\n",
        "frame 509 from 1033\n",
        "1034 60.0 [ 1.] [  3.96366986e-33] [ 0.] [1034] 0.460920870126\n",
        "\n",
        "frame 510 from 1034\n",
        "1035 61.0 [ 0.03522274  0.96477726] [  3.48396816e-30   1.45360735e-39] [ 0.  0.] [ 973 1035] 0.315145570959\n",
        "\n",
        "frame 511 from 1035\n",
        "1036 62.0 [ 0.04267097  0.95732903] [  1.17823609e-36   4.19960144e-39] [ 0.  0.] [ 974 1036] 0.134132933395\n",
        "\n",
        "frame 512 from 1036\n",
        "1037 63.0 [ 0.02630766  0.97369234] [  2.07485909e-37   1.09781875e-37] [ 0.  0.] [ 975 1037] 0.221698259963\n",
        "\n",
        "frame 513 from 1037\n",
        "1038 64.0 [ 0.07870479  0.01547689  0.90581832] [  5.03274294e-35   5.29537829e-40   4.23929051e-43] [ 0.  0.  0.] [1224  976 1038] 0.31707410552\n",
        "\n",
        "frame 514 from 1038\n",
        "jump 1225 1.0 [ 0.09292979  0.01841132  0.88865888] [  2.03752368e-40   3.13043271e-45   5.67210406e-48] [ 0.  0.  0.] [1225  977 1039] 0.0583386613601\n",
        "\n",
        "frame 515 from 1225\n",
        "1226 2.0 [  5.97193719e-11   1.00000000e+00   1.45287489e-11] [  2.07485909e-37   2.58191021e-45   4.23929051e-43] [ 0.  0.  0.] [ 975 1226 1038] 0.119459502067\n",
        "\n",
        "frame 516 from 1226\n",
        "1227 3.0 [  6.55836940e-11   1.00000000e+00   1.96907554e-11   5.45309178e-11] [  5.43414608e-43   7.36187756e-44   5.67210406e-48   4.02495152e-43] [ 0.  0.  0.  0.] [1238 1227 1039 1239] 0.900868949767\n",
        "\n",
        "frame 517 from 1227\n",
        "1228 4.0 [  1.00000000e+00   3.99698425e-11   1.78713601e-10] [  1.58006758e-44   1.51368243e-46   1.42609078e-41] [ 0.  0.  0.] [1228 1040 1240] 0.116714332971\n",
        "\n",
        "frame 518 from 1228\n",
        "1229 5.0 [  6.51386987e-11   1.00000000e+00   4.58281558e-11   2.24975400e-10\n",
        "   4.91495565e-11] [  4.02495152e-43   5.02401334e-43   2.65246370e-46   2.91098449e-42\n",
        "   8.04376850e-44] [ 0.  0.  0.  0.  0.] [1239 1229 1041 1242 1241] 0.0529316020639\n",
        "\n",
        "frame 519 from 1229\n",
        "1230 6.0 [  1.09409022e-10   6.82506965e-11   9.99999999e-01   7.49854501e-11\n",
        "   3.70822799e-10] [  1.42609078e-41   8.04376850e-44   1.69296823e-41   7.67266972e-45\n",
        "   1.00520741e-40] [ 0.  0.  0.  0.  0.] [1240 1241 1230 1042 1243] 0.275246704766\n",
        "\n",
        "frame 520 from 1230\n",
        "1231 7.0 [  4.54765892e-11   1.00000000e+00   5.10630883e-11   8.56070244e-11] [  8.04376850e-44   6.15389316e-40   2.86570861e-43   1.23041013e-40] [ 0.  0.  0.  0.] [1241 1231 1043 1192] 0.851852439986\n",
        "\n",
        "frame 521 from 1231\n",
        "1232 8.0 [  1.00000000e+00   8.66208563e-11   1.28820094e-10   1.38978050e-10] [  2.25324387e-38   1.07692164e-41   3.54723578e-39   4.41608297e-39] [ 0.  0.  0.  0.] [1232 1044 1244 1193] 0.176276661194\n",
        "\n",
        "frame 522 from 1232\n",
        "1233 9.0 [  1.00000000e+00   1.25278382e-10   1.21490223e-10   2.09642003e-10] [  8.31179652e-37   2.12883363e-40   7.68051185e-41   1.58450194e-37] [ 0.  0.  0.  0.] [1233 1045 1245 1194] 0.170735382179\n",
        "\n",
        "frame 523 from 1233\n",
        "1234 10.0 [  9.99999999e-01   1.99686460e-10   3.31459894e-10   1.77999228e-10] [  2.97296617e-35   6.38847726e-39   5.65192086e-36   3.38007855e-39] [ 0.  0.  0.  0.] [1234 1046 1195  998] 0.291532694992\n",
        "\n",
        "frame 524 from 1234\n",
        "1235 11.0 [  9.99999990e-01   1.07721182e-09   1.22564917e-09   6.65258173e-09\n",
        "   9.68064919e-10] [  2.25399743e-38   1.71960946e-37   1.96814740e-34   6.74080375e-33\n",
        "   1.14215766e-37] [ 0.  0.  0.  0.  0.] [1235 1047 1196 1197  999] 0.828609758168\n",
        "\n",
        "frame 525 from 1235\n",
        "1236 12.0 [  9.99999988e-01   1.54702870e-09   1.63141984e-09   8.95083633e-09] [  2.34041214e-45   8.57420652e-41   6.36707885e-41   5.86969621e-36] [ 0.  0.  0.  0.] [1236 1000 1002 1048] 0.167242150788\n",
        "\n",
        "frame 526 from 1236\n",
        "1237 13.0 [  9.99999991e-01   8.55067371e-09] [  1.49386407e-44   5.25288491e-43] [ 0.  0.] [1237 1003] 0.271894783177\n",
        "\n",
        "frame 527 from 1237\n",
        "1238 14.0 [  9.99999996e-01   1.16714138e-09   1.74323944e-09   9.82620369e-10] [  5.43414608e-43   1.78713071e-45   8.04376850e-44   6.60844525e-47] [ 0.  0.  0.  0.] [1238 1004 1241  988] 0.822801252484\n",
        "\n",
        "frame 528 from 1238\n",
        "1239 15.0 [  3.66124454e-08   9.99999945e-01   6.02451170e-09   5.92380132e-09\n",
        "   6.08467246e-09] [  5.29537829e-40   4.02495152e-43   1.41558141e-45   2.58191021e-45\n",
        "   2.91098449e-42] [ 0.  0.  0.  0.  0.] [ 976 1239 1005 1226 1242] 0.149088388593\n",
        "\n",
        "frame 529 from 1239\n",
        "1240 16.0 [  4.18137388e-08   6.31741765e-09   7.08880155e-09   9.99999905e-01\n",
        "   2.49526999e-08   7.63675073e-09   7.58306308e-09] [  2.03752368e-40   3.13043271e-45   2.58191021e-45   1.42609078e-41\n",
        "   1.00520741e-40   1.58006758e-44   9.52656456e-46] [ 0.  0.  0.  0.  0.  0.  0.] [1225  977 1226 1240 1243 1228 1006] 0.371564485768\n",
        "\n",
        "frame 530 from 1240\n",
        "1241 17.0 [  1.27137846e-08   1.20649511e-08   1.29149055e-08   9.99999846e-01\n",
        "   1.01953472e-07   1.40957144e-08] [  2.58191021e-45   7.55758587e-44   7.36187756e-44   8.04376850e-44\n",
        "   3.54723578e-39   2.00180790e-44] [ 0.  0.  0.  0.  0.  0.] [1226  978 1227 1241 1244  980] 0.0858352804281\n",
        "\n",
        "frame 531 from 1241\n",
        "1242 18.0 [  1.13608904e-08   9.99999816e-01   1.08553193e-08   1.10438177e-08\n",
        "   1.05594779e-08   9.95509560e-08   1.49586437e-08   1.44863875e-08\n",
        "   1.16139088e-08] [  1.49386407e-44   2.91098449e-42   7.36187756e-44   1.58006758e-44\n",
        "   7.15674474e-46   1.69296823e-41   5.92138952e-43   5.02401334e-43\n",
        "   2.65246370e-46] [ 0.  0.  0.  0.  0.  0.  0.  0.  0.] [1237 1242 1227 1228  979 1230  981 1229 1041] 0.747730769793\n",
        "\n",
        "frame 532 from 1242\n",
        "1243 19.0 [  2.02210673e-08   9.99999742e-01   1.32211643e-07   4.33020940e-08\n",
        "   2.41617257e-08   1.89432409e-08   1.94404743e-08] [  5.43414608e-43   1.00520741e-40   6.15389316e-40   1.23041013e-40\n",
        "   1.80665729e-41   1.58006758e-44   2.00180790e-44] [ 0.  0.  0.  0.  0.  0.  0.] [1238 1243 1231 1192  982 1228  980] 0.0598638052287\n",
        "\n",
        "frame 533 from 1243\n",
        "1244 20.0 [  2.91042142e-08   9.99999572e-01   2.16753360e-07   6.67615383e-08\n",
        "   3.03134783e-08   2.90475355e-08   2.78363443e-08   2.82320299e-08] [  4.02495152e-43   3.54723578e-39   2.25324387e-38   4.41608297e-39\n",
        "   2.86570861e-43   1.69296823e-41   5.02401334e-43   5.92138952e-43] [ 0.  0.  0.  0.  0.  0.  0.  0.] [1239 1244 1232 1193 1043 1230 1229  981] 0.240557840798\n",
        "\n",
        "frame 534 from 1244\n",
        "1245 21.0 [  7.06698197e-08   7.10821761e-08   9.99999023e-01   6.18623858e-07\n",
        "   7.37559349e-08   7.20904292e-08   7.03706555e-08] [  4.02495152e-43   1.42609078e-41   7.68051185e-41   8.31179652e-37\n",
        "   1.07692164e-41   6.15389316e-40   1.80665729e-41] [ 0.  0.  0.  0.  0.  0.  0.] [1239 1240 1245 1233 1044 1231  982] 0.336907958064\n",
        "\n",
        "frame 535 from 1245\n",
        "1246 22.0 [  8.32615884e-08   3.65980872e-07   9.99999551e-01] [  1.80665729e-41   2.25324387e-38   2.31763578e-39] [ 0.  0.  0.] [ 982 1232 1246] 0.971294462208\n",
        "\n",
        "frame 536 from 1246\n",
        "1247 23.0 [  9.99999903e-01   4.85897056e-08   4.85018367e-08] [  7.58015517e-38   8.60425361e-42   1.87486470e-40] [ 0.  0.  0.] [1247 1015 1029] 0.308871077263\n",
        "\n",
        "frame 537 from 1247\n",
        "1248 24.0 [  9.99999821e-01   6.07656273e-08   5.89733891e-08   5.89572757e-08] [  2.37418346e-36   2.75076462e-40   3.01205671e-40   2.12883363e-40] [ 0.  0.  0.  0.] [1248 1016 1058 1045] 0.919783032719\n",
        "\n",
        "frame 538 from 1248\n",
        "1249 25.0 [  7.19601465e-08   9.99999702e-01   7.77592643e-08   7.45857926e-08\n",
        "   7.35673184e-08] [  1.10034804e-38   6.73772445e-35   8.80215397e-39   8.79515202e-39\n",
        "   6.38847726e-39] [ 0.  0.  0.  0.  0.] [ 984 1249 1017 1059 1046] 0.953630533917\n",
        "\n",
        "frame 539 from 1249\n",
        "1250 26.0 [  9.99999810e-01   1.89995264e-07] [  1.69891944e-33   2.50000364e-37] [ 0.  0.] [1250 1018] 0.512226814803\n",
        "\n",
        "frame 540 from 1250\n",
        "1251 27.0 [  9.99995981e-01   4.68776006e-07   4.63521530e-07   2.63471156e-06\n",
        "   4.52430746e-07] [  3.88370740e-32   6.16574353e-36   4.59544233e-36   2.14605119e-31\n",
        "   5.86969621e-36] [ 0.  0.  0.  0.  0.] [1251 1019 1049 1198 1048] 0.678546431153\n",
        "\n",
        "frame 541 from 1251\n",
        "1252 28.0 [  9.99992253e-01   1.03606275e-06   1.02789084e-06   5.68318395e-06] [  6.28557100e-42   1.34424807e-34   9.98395104e-35   6.39875552e-30] [ 0.  0.  0.  0.] [1252 1020 1050 1199] 0.768293301746\n",
        "\n",
        "frame 542 from 1252\n",
        "1253 29.0 [  9.99998861e-01   3.84872803e-07   3.87696253e-07   3.66194823e-07] [  1.34974413e-40   2.19917003e-44   4.97589085e-43   1.56118015e-44] [ 0.  0.  0.  0.] [1253 1021 1051 1154] 0.86578519992\n",
        "\n",
        "frame 543 from 1253\n",
        "1254 30.0 [  9.99989582e-01   1.50529606e-06   1.48771980e-06   7.42544681e-06] [  2.87715312e-39   4.59831787e-43   3.69790838e-43   1.88794852e-38] [ 0.  0.  0.  0.] [1254 1022 1052 1144] 0.75117309137\n",
        "\n",
        "frame 544 from 1254\n",
        "1255 31.0 [  9.99983438e-01   2.29945033e-06   1.19976211e-05   2.26500544e-06] [  4.96214229e-38   8.65568430e-42   5.05345958e-37   8.01008674e-42] [ 0.  0.  0.  0.] [1255 1023 1145 1053] 0.438665891686\n",
        "\n",
        "frame 545 from 1255\n",
        "1256 32.0 [  9.99969294e-01   1.41064719e-05   1.26417272e-05   3.95748328e-06] [  3.41899318e-38   8.88187287e-36   7.59736179e-36   1.87486470e-40] [ 0.  0.  0.  0.] [1256 1146 1147 1029] 0.50479618668\n",
        "\n",
        "frame 546 from 1256\n",
        "1257 33.0 [  9.99967772e-01   2.65616608e-05   5.66587964e-06] [  1.18251598e-40   6.42032570e-36   5.92970654e-39] [ 0.  0.  0.] [1257 1148 1030] 0.857863325688\n",
        "\n",
        "frame 547 from 1257\n",
        "1258 34.0 [  9.99969864e-01   5.91420710e-06   2.42215295e-05] [  2.86071179e-39   6.43421212e-42   1.52929659e-38] [ 0.  0.  0.] [1258 1149 1074] 0.014870803983\n",
        "\n",
        "frame 548 from 1258\n",
        "1259 35.0 [  9.99923628e-01   8.42777128e-06   8.66382377e-06   3.95772285e-05\n",
        "   1.97030621e-05] [  7.73615421e-38   5.10124306e-42   3.91996686e-39   5.02155974e-37\n",
        "   1.82092135e-37] [ 0.  0.  0.  0.  0.] [1259 1104 1164 1075 1031] 0.634086661232\n",
        "\n",
        "frame 549 from 1259\n",
        "1260 36.0 [  9.99915204e-01   6.09912087e-05   1.19027620e-05   1.19021455e-05] [  2.26943938e-36   1.77024698e-35   1.47824111e-40   4.96055534e-39] [ 0.  0.  0.  0.] [1260 1076 1105 1106] 0.327839378589\n",
        "\n",
        "frame 550 from 1260\n",
        "1261 37.0 [  2.17201691e-05   9.99808373e-01   2.11070540e-05   1.32541913e-04\n",
        "   1.62576444e-05] [  1.18937396e-35   1.30667129e-37   1.74678192e-38   6.49725548e-34\n",
        "   8.94617014e-39] [ 0.  0.  0.  0.  0.] [1264 1261 1107 1077  956] 0.949926246764\n",
        "\n",
        "frame 551 from 1261\n",
        "1262 38.0 [  9.99970706e-01   7.42337666e-06   7.15692043e-06   5.83055622e-06\n",
        "   8.88302544e-06] [  3.34887243e-36   4.92083384e-39   9.42912627e-40   1.03173956e-40\n",
        "   2.84804198e-37] [ 0.  0.  0.  0.  0.] [1262 1108 1266  960  959] 0.0194178368203\n",
        "\n",
        "frame 552 from 1262\n",
        "1263 39.0 [  1.41427605e-04   9.99777593e-01   2.30640659e-05   1.90934125e-05\n",
        "   1.92924772e-05   1.95291301e-05] [  4.45052578e-34   8.11972215e-35   1.77685498e-38   1.13500407e-39\n",
        "   1.03173956e-40   2.84804198e-37] [ 0.  0.  0.  0.  0.  0.] [ 932 1263 1267  961  960  959] 0.287729596642\n",
        "\n",
        "frame 553 from 1263\n",
        "1264 40.0 [  4.99571730e-05   9.99206251e-01   5.06270330e-05   4.85030371e-04\n",
        "   5.04597947e-05   3.94282210e-05   4.26563806e-05   3.69946399e-05\n",
        "   3.85955609e-05] [  4.18123441e-34   1.18937396e-35   1.77382235e-37   2.35626372e-32\n",
        "   1.30067309e-37   8.40924099e-37   2.84489346e-37   1.13500407e-39\n",
        "   2.84804198e-37] [ 0.  0.  0.  0.  0.  0.  0.  0.  0.] [ 970 1264 1135 1078 1165  945 1268  961  959] 0.0147756259491\n",
        "\n",
        "frame 554 from 1264\n",
        "1265 41.0 [  5.42926321e-04   9.99134806e-01   6.92064535e-05   7.71600216e-05\n",
        "   6.81701908e-05   5.50152750e-05   5.27155403e-05] [  8.16898499e-33   4.45709432e-41   4.12621785e-36   1.46535941e-34\n",
        "   2.26943938e-36   1.61511386e-35   3.47330509e-38] [ 0.  0.  0.  0.  0.  0.  0.] [ 971 1265 1166 1167 1260  946 1269] 0.875322464566\n",
        "\n",
        "frame 555 from 1265\n",
        "1266 42.0 [ 1.] [  9.42912627e-40] [ 0.] [1266] 0.893868385353\n",
        "\n",
        "frame 556 from 1266\n",
        "1267 43.0 [  9.99190312e-01   2.60379394e-04   1.23900320e-04   4.25408411e-04] [  1.77685498e-38   1.30667129e-37   1.74678192e-38   2.75946392e-37] [ 0.  0.  0.  0.] [1267 1261 1107 1168] 0.991566853819\n",
        "\n",
        "frame 557 from 1267\n",
        "1268 44.0 [  9.99107101e-01   6.73471340e-04   1.18336987e-04   1.01090252e-04] [  2.84489346e-37   3.34887243e-36   4.92083384e-39   1.03173956e-40] [ 0.  0.  0.  0.] [1268 1262 1108  960] 0.446717395723\n",
        "\n",
        "frame 558 from 1268\n",
        "1269 45.0 [  9.98929645e-01   9.14730318e-04   1.55624197e-04] [  3.47330509e-38   8.11972215e-35   1.13500407e-39] [ 0.  0.  0.] [1269 1263  961] 0.986683180807\n",
        "\n",
        "frame 559 from 1269\n",
        "1270 46.0 [  9.97770873e-01   2.28968098e-04   1.60097447e-03   2.07517884e-04\n",
        "   1.91666398e-04] [  1.54138480e-42   2.84539515e-39   1.18937396e-35   1.06758716e-41\n",
        "   1.13500407e-39] [ 0.  0.  0.  0.  0.] [1270  934 1264  962  961] 0.214611509397\n",
        "\n",
        "frame 560 from 1270\n",
        "jump 935 1.0 [ 0.08114167  0.07880436  0.27166606  0.10680153  0.3529812   0.10860518] [  3.64925667e-42   1.06758716e-41   3.32364455e-40   3.46066330e-41\n",
        "   4.81378102e-40   4.06318973e-41]"
       ]
      },
      {
       "output_type": "stream",
       "stream": "stdout",
       "text": [
        " [ 0.  0.  0.  0.  0.  0.] [963 962 935 936 965 964] 0.347127524971\n",
        "\n",
        "frame 561 from 935\n",
        "936 2.0 [  1.00000000e+00   1.10097531e-11   7.26477470e-11   1.02134244e-11\n",
        "   9.32868494e-12   2.93880394e-11   9.61664989e-12] [  3.46066330e-41   4.81378102e-40   1.07889269e-37   4.06318973e-41\n",
        "   3.64925667e-42   3.47330509e-38   1.54138480e-42] [ 0.  0.  0.  0.  0.  0.  0.] [ 936  965  939  964  963 1269 1270] 0.173801805802\n",
        "\n",
        "frame 562 from 936\n",
        "937 3.0 [  1.00000000e+00   9.01465093e-11   2.04845104e-11   1.36616773e-11\n",
        "   1.23566214e-11] [  5.03114221e-40   6.16246520e-39   4.81378102e-40   4.06318973e-41\n",
        "   1.54138480e-42] [ 0.  0.  0.  0.  0.] [ 937  966  965  964 1270] 0.40374744071\n",
        "\n",
        "frame 563 from 937\n",
        "938 4.0 [  2.38710073e-11   1.00000000e+00   1.21867602e-10] [  4.81378102e-40   7.53522356e-39   8.61438703e-38] [ 0.  0.  0.] [965 938 967] 0.796198626142\n",
        "\n",
        "frame 564 from 938\n",
        "939 5.0 [  1.00000000e+00   3.64633718e-11   2.01480575e-10] [  1.07889269e-37   4.81378102e-40   1.33413573e-36] [ 0.  0.  0.] [939 965 968] 0.407537203295\n",
        "\n",
        "frame 565 from 939\n",
        "940 6.0 [  1.00000000e+00   6.28533320e-11   3.40405083e-10] [  1.42892419e-36   3.32364455e-40   2.28209743e-35] [ 0.  0.  0.] [940 935 969] 0.0396193158327\n",
        "\n",
        "frame 566 from 940\n",
        "941 7.0 [  9.99999999e-01   1.33673430e-10   6.54187121e-10] [  3.04845621e-37   4.26457722e-38   4.18123441e-34] [ 0.  0.  0.] [941 944 970] 0.749191769022\n",
        "\n",
        "frame 567 from 941\n",
        "942 8.0 [  1.28563429e-09   1.90054025e-10   2.11857809e-10   9.99999998e-01\n",
        "   2.13012945e-10] [  4.45052578e-34   2.89776660e-37   1.38070688e-35   5.50790229e-38\n",
        "   8.40924099e-37] [ 0.  0.  0.  0.  0.] [932 893 933 942 945] 0.463084111361\n",
        "\n",
        "frame 568 from 942\n",
        "943 9.0 [  2.81022620e-10   9.76363453e-10   9.99999997e-01   1.13907188e-09\n",
        "   2.57996007e-10] [  2.89776660e-37   1.38070688e-35   1.13806956e-36   1.61511386e-35\n",
        "   2.84539515e-39] [ 0.  0.  0.  0.  0.] [893 933 943 946 934] 0.41281037018\n",
        "\n",
        "frame 569 from 943\n",
        "944 10.0 [  9.99999998e-01   1.99412598e-09] [  4.26457722e-38   6.49725548e-34] [ 0.  0.] [ 944 1077] 0.38813083377\n",
        "\n",
        "frame 570 from 944\n",
        "945 11.0 [  1.44304898e-09   9.99999999e-01] [  1.42892419e-36   8.40924099e-37] [ 0.  0.] [940 945] 0.160669079482\n",
        "\n",
        "frame 571 from 945\n",
        "946 12.0 [  8.59662453e-10   7.78028934e-10   9.99999994e-01   4.43126295e-09] [  3.04845621e-37   2.84539515e-39   1.61511386e-35   8.11972215e-35] [ 0.  0.  0.  0.] [ 941  934  946 1263] 0.14204114374\n",
        "\n",
        "frame 572 from 946\n",
        "947 13.0 [  9.99999994e-01   8.90247888e-10   3.70782088e-09   1.02607587e-09] [  3.04805850e-34   5.50790229e-38   4.18123441e-34   1.18937396e-35] [ 0.  0.  0.  0.] [ 947  942  970 1264] 0.338176050238\n",
        "\n",
        "frame 573 from 947\n",
        "948 14.0 [  9.99999987e-01   4.50964187e-09   8.25381802e-09] [  5.53349236e-33   8.16898499e-33   2.35626372e-32] [ 0.  0.  0.] [ 948  971 1078] 0.305885748728\n",
        "\n",
        "frame 574 from 948\n",
        "949 15.0 [  9.99999977e-01   6.59135955e-09   1.61650379e-08] [  9.49188071e-32   1.67180360e-31   8.40845988e-31] [ 0.  0.  0.] [ 949  972 1079] 0.510832055222\n",
        "\n",
        "frame 575 from 949\n",
        "950 16.0 [  9.99999957e-01   1.01916629e-08   3.23654227e-08] [  9.62320690e-38   3.48396816e-30   2.91437084e-29] [ 0.  0.  0.] [ 950  973 1080] 0.290862197215\n",
        "\n",
        "frame 576 from 950\n",
        "951 17.0 [  9.99999955e-01   3.70417844e-08   8.27603884e-09] [  1.54724841e-36   9.24976665e-36   8.90863688e-41] [ 0.  0.  0.] [ 951 1169 1137] 0.504380143443\n",
        "\n",
        "frame 577 from 951\n",
        "952 18.0 [  9.99999986e-01   4.80075703e-09   4.79057357e-09   4.69149908e-09] [  2.56640058e-35   1.44731734e-39   1.65515755e-39   8.18233330e-39] [ 0.  0.  0.  0.] [ 952 1139 1138 1109] 0.621601884898\n",
        "\n",
        "frame 578 from 952\n",
        "953 19.0 [  9.99999983e-01   8.50829219e-09   8.29806798e-09] [  4.28996372e-34   2.97154221e-38   2.59860920e-38] [ 0.  0.  0.] [ 953 1140 1141] 0.441704088834\n",
        "\n",
        "frame 579 from 953\n",
        "954 20.0 [  9.99999821e-01   1.47644769e-07   3.16143425e-08] [  6.91444849e-33   6.87712438e-32   5.05345958e-37] [ 0.  0.  0.] [ 954 1115 1145] 0.723985974782\n",
        "\n",
        "frame 580 from 954\n",
        "955 21.0 [  9.99999664e-01   5.60460392e-08   2.79674373e-07] [  3.34314306e-38   8.88187287e-36   1.70625329e-30] [ 0.  0.  0.] [ 955 1146 1116] 0.952516020931\n",
        "\n",
        "frame 581 from 955\n",
        "956 22.0 [  9.99999347e-01   2.65502246e-07   2.99086176e-07   8.86146588e-08] [  8.94617014e-39   6.42032570e-36   7.59736179e-36   2.84804198e-37] [ 0.  0.  0.  0.] [ 956 1148 1147  959] 0.162842406893\n",
        "\n",
        "frame 582 from 956\n",
        "957 23.0 [  9.99999290e-01   1.16248494e-07   5.93882506e-07] [  1.88169080e-39   6.43421212e-42   2.26943938e-36] [ 0.  0.  0.] [ 957 1149 1260] 0.859253942429\n",
        "\n",
        "frame 583 from 957\n",
        "958 24.0 [ 1.] [  2.37121523e-38] [ 0.] [958] 0.281073439492\n",
        "\n",
        "frame 584 from 958\n",
        "959 25.0 [ 1.] [  2.84804198e-37] [ 0.] [959] 0.262433208698\n",
        "\n",
        "frame 585 from 959\n",
        "960 26.0 [  3.24954151e-07   9.99996505e-01   4.34462771e-07   3.49126371e-07\n",
        "   2.38623474e-06] [  3.34314306e-38   1.03173956e-40   3.34887243e-36   1.30667129e-37\n",
        "   8.11972215e-35] [ 0.  0.  0.  0.  0.] [ 955  960 1262 1261 1263] 0.240302774214\n",
        "\n",
        "frame 586 from 960\n",
        "961 27.0 [  9.99998146e-01   1.85436202e-06] [  1.13500407e-39   1.77685498e-38] [ 0.  0.] [ 961 1267] 0.240620239575\n",
        "\n",
        "frame 587 from 961\n",
        "962 28.0 [  9.99995554e-01   3.41446436e-06   1.03196506e-06] [  1.06758716e-41   2.84489346e-37   3.47330509e-38] [ 0.  0.  0.] [ 962 1268 1269] 0.222856691437\n",
        "\n",
        "frame 588 from 962\n",
        "963 29.0 [  9.99993622e-01   1.01943689e-06   5.35863653e-06] [  3.64925667e-42   1.54138480e-42   2.84539515e-39] [ 0.  0.  0.] [ 963 1270  934] 0.315668909149\n",
        "\n",
        "frame 589 from 963\n",
        "964 30.0 [  9.99994963e-01   5.03705013e-06] [  4.06318973e-41   3.32364455e-40] [ 0.  0.] [964 935] 0.439997267042\n",
        "\n",
        "frame 590 from 964\n",
        "965 31.0 [  9.99998235e-01   1.03677687e-06   7.28167436e-07] [  4.81378102e-40   3.46066330e-41   1.54138480e-42] [ 0.  0.  0.] [ 965  936 1270] 0.348677467075\n",
        "\n",
        "frame 591 from 965\n",
        "966 32.0 [  9.99997459e-01   1.57935748e-06   9.61176412e-07] [  6.16246520e-39   5.03114221e-40   1.54138480e-42] [ 0.  0.  0.] [ 966  937 1270] 0.00772771449212\n",
        "\n",
        "frame 592 from 966\n",
        "967 33.0 [  9.99988742e-01   8.21809453e-06   3.04029129e-06] [  8.61438703e-38   1.07889269e-37   7.53522356e-39] [ 0.  0.  0.] [967 939 938] 0.700386221456\n",
        "\n",
        "frame 593 from 967\n",
        "968 34.0 [  9.99980967e-01   1.08973100e-05   4.95003466e-06   3.18596626e-06] [  1.33413573e-36   1.42892419e-36   3.04845621e-37   7.53522356e-39] [ 0.  0.  0.  0.] [968 940 941 938] 0.163883661412\n",
        "\n",
        "frame 594 from 968\n",
        "969 35.0 [  9.99996044e-01   3.95639062e-06] [  2.28209743e-35   5.50790229e-38] [ 0.  0.] [969 942] 0.645966398838\n",
        "\n",
        "frame 595 from 969\n",
        "970 36.0 [  9.99984086e-01   1.59139425e-05] [  4.18123441e-34   3.04805850e-34] [ 0.  0.] [970 947] 0.842110197212\n",
        "\n",
        "frame 596 from 970\n",
        "971 37.0 [  5.01593250e-06   9.99959069e-01   2.22110414e-05   6.97122350e-06\n",
        "   6.73309485e-06] [  2.71978093e-36   8.16898499e-33   5.53349236e-33   8.11972215e-35\n",
        "   1.61511386e-35] [ 0.  0.  0.  0.  0.] [ 930  971  948 1263  946] 0.177999508702\n",
        "\n",
        "frame 597 from 971\n",
        "972 38.0 [  4.13316374e-06   4.59243628e-06   9.99960654e-01   6.08135521e-06\n",
        "   1.13487615e-05   7.24573101e-06   5.94443715e-06] [  2.71978093e-36   3.87299134e-35   1.67180360e-31   1.18937396e-35\n",
        "   2.35626372e-32   5.53349236e-33   3.04805850e-34] [ 0.  0.  0.  0.  0.  0.  0.] [ 930  931  972 1264 1078  948  947] 0.981498128931\n",
        "\n",
        "frame 598 from 972\n",
        "973 39.0 [  6.19766586e-06   6.23390593e-06   6.87053009e-06   9.99942211e-01\n",
        "   2.12099433e-05   8.92555852e-06   8.35178776e-06] [  5.40207395e-34   3.87299134e-35   4.45052578e-34   3.48396816e-30\n",
        "   8.40845988e-31   1.46535941e-34   5.53349236e-33] [ 0.  0.  0.  0.  0.  0.  0.] [ 891  931  932  973 1079 1167  948] 0.162054919012\n",
        "\n",
        "frame 599 from 973\n",
        "974 40.0 [  3.48042401e-05   9.99375992e-01   6.11580620e-05   3.95907230e-04\n",
        "   4.93585014e-05   3.99625462e-05   4.28175755e-05] [  8.86736793e-33   1.17823609e-36   2.91437084e-29   9.15925839e-28\n",
        "   3.96366986e-33   5.53349236e-33   9.49188071e-32] [ 0.  0.  0.  0.  0.  0.  0.] [ 892  974 1080 1081 1034  948  949] 0.606484259917\n",
        "\n",
        "frame 600 from 974\n",
        "975 41.0 [  9.99603502e-01   6.90787659e-05   3.27418842e-04] [  2.07485909e-37   1.45360735e-39   3.03385241e-34] [ 0.  0.  0.] [ 975 1035 1170] 0.955829570703\n",
        "\n",
        "frame 601 from 975\n",
        "976 42.0 [  9.99265288e-01   9.61205778e-05   9.44756435e-05   5.44116084e-04] [  5.29537829e-40   4.19960144e-39   2.03752368e-40   5.03274294e-35] [ 0.  0.  0.  0.] [ 976 1036 1225 1224] 0.830895506551\n",
        "\n",
        "frame 602 from 976\n",
        "977 43.0 [  9.98998790e-01   7.42719583e-04   1.29651504e-04   1.28838995e-04] [  3.13043271e-45   1.09781875e-37   5.25288491e-43   5.43414608e-43] [ 0.  0.  0.  0.] [ 977 1037 1003 1238] 0.676248820294\n",
        "\n",
        "frame 603 from 977\n",
        "978 44.0 [  9.98957479e-01   1.45052637e-04   4.56825497e-04   4.40643203e-04] [  7.55758587e-44   1.78713071e-45   4.23929051e-43   4.02495152e-43] [ 0.  0.  0.  0.] [ 978 1004 1038 1239] 0.178290530893\n",
        "\n",
        "frame 604 from 978\n",
        "979 45.0 [  9.98633692e-01   1.12460405e-03   2.41704239e-04] [  7.15674474e-46   1.42609078e-41   1.41558141e-45] [ 0.  0.  0.] [ 979 1240 1005] 0.281696970833\n",
        "\n",
        "frame 605 from 979\n",
        "980 46.0 [  9.99231932e-01   7.68067754e-04] [  2.00180790e-44   8.04376850e-44] [ 0.  0.] [ 980 1241] 0.651557787884\n",
        "\n",
        "frame 606 from 980\n",
        "981 47.0 [ 0.99891575  0.00108425] [  5.92138952e-43   2.91098449e-42] [ 0.  0.] [ 981 1242] 0.589154510336\n",
        "\n",
        "frame 607 from 981\n",
        "982 48.0 [ 0.99853696  0.00146304] [  1.80665729e-41   1.00520741e-40] [ 0.  0.] [ 982 1243] 0.590872644576\n",
        "\n",
        "frame 608 from 982\n",
        "983 49.0 [  9.96760188e-01   2.57749347e-03   6.62318465e-04] [  3.64723321e-40   3.54723578e-39   7.68051185e-41] [ 0.  0.  0.] [ 983 1244 1245] 0.957143535039\n",
        "\n",
        "frame 609 from 983\n",
        "984 50.0 [ 0.9989329  0.0010671] [  1.10034804e-38   8.80215397e-39] [ 0.  0.] [ 984 1017] 0.994377921765\n",
        "\n",
        "frame 610 from 984\n",
        "985 51.0 [ 0.9956857  0.0043143] [  4.48874262e-41   2.37418346e-36] [ 0.  0.] [ 985 1248] 0.74080945097\n",
        "\n",
        "frame 611 from 985\n",
        "986 52.0 [ 0.99448565  0.00551435] [  5.31032956e-42   8.79515202e-39] [ 0.  0.] [ 986 1059] 0.97397149859\n",
        "\n",
        "frame 612 from 986\n",
        "987 53.0 [ 0.9918093   0.00155176  0.00663894] [  1.19741263e-40   1.95659301e-44   1.06997716e-39] [ 0.  0.  0.] [ 987 1060 1064] 0.248254055283\n",
        "\n",
        "frame 613 from 987\n",
        "988 54.0 [ 0.986695   0.0109806  0.0023244] [  6.60844525e-47   2.42696173e-38   4.20690147e-43] [ 0.  0.  0.] [ 988 1065 1061] 0.558256824318\n",
        "\n",
        "frame 614 from 988\n",
        "989 55.0 [ 0.98343637  0.01366937  0.00289426] [  3.96543542e-48   1.49386407e-44   1.74592021e-49] [ 0.  0.  0.] [ 989 1237 1185]"
       ]
      },
      {
       "output_type": "stream",
       "stream": "stdout",
       "text": [
        " 0.47453609986\n",
        "\n",
        "frame 615 from 989\n",
        "990 56.0 [ 0.99853346  0.00146654] [  9.47631402e-47   2.39112461e-49] [ 0.  0.] [ 990 1186] 0.443479924665\n",
        "\n",
        "frame 616 from 990\n",
        "991 57.0 [ 0.99813865  0.00186135] [  2.39964239e-45   6.02174208e-48] [ 0.  0.] [ 991 1187] 0.784114380797\n",
        "\n",
        "frame 617 from 991\n",
        "992 58.0 [ 0.97839678  0.02160322] [  8.34063819e-48   5.25288491e-43] [ 0.  0.] [ 992 1003] 0.532382611096\n",
        "\n",
        "frame 618 from 992\n",
        "993 59.0 [ 0.97541437  0.02458563] [  7.76113531e-47   1.78713071e-45] [ 0.  0.] [ 993 1004] 0.460853203723\n",
        "\n",
        "frame 619 from 993\n",
        "994 60.0 [ 0.99071395  0.00928605] [  2.33742836e-45   1.41558141e-45] [ 0.  0.] [ 994 1005] 0.141905865784\n",
        "\n",
        "frame 620 from 994\n",
        "995 61.0 [ 0.99529104  0.00470896] [  7.47410430e-44   9.52656456e-46] [ 0.  0.] [ 995 1006] 0.154210765886\n",
        "\n",
        "frame 621 from 995\n",
        "996 62.0 [ 0.99434086  0.00565914] [  2.63000967e-42   2.03998731e-46] [ 0.  0.] [ 996 1009] 0.642311117064\n",
        "\n",
        "frame 622 from 996\n",
        "997 63.0 [ 0.99309375  0.00690625] [  9.62168416e-41   8.41325948e-45] [ 0.  0.] [ 997 1010] 0.884693287689\n",
        "\n",
        "frame 623 from 997\n",
        "998 64.0 [ 0.99180016  0.00819984] [  3.38007855e-39   3.41256991e-43] [ 0.  0.] [ 998 1011] 0.307815593951\n",
        "\n",
        "frame 624 from 998\n",
        "999 65.0 [ 0.93395781  0.06604219] [  1.14215766e-37   8.31179652e-37] [ 0.  0.] [ 999 1233] 0.00538235263016\n",
        "\n",
        "frame 625 from 999\n",
        "1000 66.0 [ 0.90011946  0.09988054] [  8.57420652e-41   2.97296617e-35] [ 0.  0.] [1000 1234] 0.751229658739\n",
        "\n",
        "frame 626 from 1000\n",
        "1001 67.0 [ 0.88261834  0.11738166] [  1.89869927e-42   2.25399743e-38] [ 0.  0.] [1001 1235] 0.675193414401\n",
        "\n",
        "frame 627 from 1001\n",
        "1002 68.0 [ 1.] [  6.36707885e-41] [ 0.] [1002] 0.0689690532736\n",
        "\n",
        "frame 628 from 1002\n",
        "1003 69.0 [ 0.84359306  0.15640694] [  5.25288491e-43   2.25399743e-38] [ 0.  0.] [1003 1235] 0.530508783928\n",
        "\n",
        "frame 629 from 1003\n",
        "1004 70.0 [ 0.24555724  0.63794253  0.04063213  0.03930656  0.03656154] [  5.29537829e-40   1.78713071e-45   1.49386407e-44   2.34041214e-45\n",
        "   2.39964239e-45] [ 0.  0.  0.  0.  0.] [ 976 1004 1237 1236  991] 0.30981584076\n",
        "\n",
        "frame 630 from 1004\n",
        "1005 71.0 [ 0.03791149  0.27024574  0.60161771  0.04879916  0.0414259 ] [  3.13043271e-45   5.43414608e-43   1.41558141e-45   1.49386407e-44\n",
        "   8.34063819e-48] [ 0.  0.  0.  0.  0.] [ 977 1238 1005 1237  992] 0.614261332554\n",
        "\n",
        "frame 631 from 1005\n",
        "1006 72.0 [ 0.25723324  0.07445552  0.61638205  0.05192919] [  5.43414608e-43   7.55758587e-44   9.52656456e-46   7.76113531e-47] [ 0.  0.  0.  0.] [1238  978 1006  993] 0.655564873279\n",
        "\n",
        "frame 632 from 1006\n",
        "jump 1239 1.0 [ 0.29407185  0.6404153   0.06551285] [  4.02495152e-43   1.26767209e-49   2.33742836e-45] [ 0.  0.  0.] [1239 1007  994] 0.00556334067006\n",
        "\n",
        "frame 633 from 1239\n",
        "1240 2.0 [  6.67517374e-11   1.00851686e-11   1.13166111e-11   1.00000000e+00\n",
        "   3.98346601e-11   1.21913609e-11   1.21056535e-11] [  2.03752368e-40   3.13043271e-45   2.58191021e-45   1.42609078e-41\n",
        "   1.00520741e-40   1.58006758e-44   9.52656456e-46] [ 0.  0.  0.  0.  0.  0.  0.] [1225  977 1226 1240 1243 1228 1006] 0.51664367961\n",
        "\n",
        "frame 634 from 1240\n",
        "1241 3.0 [  2.17680265e-11   2.06571200e-11   2.21123776e-11   1.00000000e+00\n",
        "   1.74560601e-10   2.41341106e-11] [  2.58191021e-45   7.55758587e-44   7.36187756e-44   8.04376850e-44\n",
        "   3.54723578e-39   2.00180790e-44] [ 0.  0.  0.  0.  0.  0.] [1226  978 1227 1241 1244  980] 0.0384113278631\n",
        "\n",
        "frame 635 from 1241\n",
        "1242 4.0 [  2.08620605e-11   1.00000000e+00   1.99336778e-11   2.02798183e-11\n",
        "   1.93904226e-11   1.82805924e-10   2.74686331e-11   2.66014266e-11\n",
        "   2.13266794e-11] [  1.49386407e-44   2.91098449e-42   7.36187756e-44   1.58006758e-44\n",
        "   7.15674474e-46   1.69296823e-41   5.92138952e-43   5.02401334e-43\n",
        "   2.65246370e-46] [ 0.  0.  0.  0.  0.  0.  0.  0.  0.] [1237 1242 1227 1228  979 1230  981 1229 1041] 0.77891513765\n",
        "\n",
        "frame 636 from 1242\n",
        "1243 5.0 [  3.98244276e-11   9.99999999e-01   2.60384525e-10   8.52814089e-11\n",
        "   4.75853664e-11   3.73078095e-11   3.82870870e-11] [  5.43414608e-43   1.00520741e-40   6.15389316e-40   1.23041013e-40\n",
        "   1.80665729e-41   1.58006758e-44   2.00180790e-44] [ 0.  0.  0.  0.  0.  0.  0.] [1238 1243 1231 1192  982 1228  980] 0.6166695756\n",
        "\n",
        "frame 637 from 1243\n",
        "1244 6.0 [  6.14754933e-11   9.99999999e-01   4.57838154e-10   1.41017327e-10\n",
        "   6.40297663e-11   6.13557735e-11   5.87974300e-11   5.96332184e-11] [  4.02495152e-43   3.54723578e-39   2.25324387e-38   4.41608297e-39\n",
        "   2.86570861e-43   1.69296823e-41   5.02401334e-43   5.92138952e-43] [ 0.  0.  0.  0.  0.  0.  0.  0.] [1239 1244 1232 1193 1043 1230 1229  981] 0.780030558252\n",
        "\n",
        "frame 638 from 1244\n",
        "1245 7.0 [  1.60096178e-10   1.61030334e-10   9.99999998e-01   1.40143721e-09\n",
        "   1.67087497e-10   1.63314442e-10   1.59418448e-10] [  4.02495152e-43   1.42609078e-41   7.68051185e-41   8.31179652e-37\n",
        "   1.07692164e-41   6.15389316e-40   1.80665729e-41] [ 0.  0.  0.  0.  0.  0.  0.] [1239 1240 1245 1233 1044 1231  982] 0.00281662514524\n",
        "\n",
        "frame 639 from 1245\n",
        "1246 8.0 [  2.02298207e-10   8.89212848e-10   9.99999999e-01] [  1.80665729e-41   2.25324387e-38   2.31763578e-39] [ 0.  0.  0.] [ 982 1232 1246] 0.396812394029\n",
        "\n",
        "frame 640 from 1246\n",
        "1247 9.0 [  1.00000000e+00   1.26617005e-10   1.26388032e-10] [  7.58015517e-38   8.60425361e-42   1.87486470e-40] [ 0.  0.  0.] [1247 1015 1029] 0.626850413868\n",
        "\n",
        "frame 641 from 1247\n",
        "1248 10.0 [  1.00000000e+00   1.69826849e-10   1.64817929e-10   1.64772895e-10] [  2.37418346e-36   2.75076462e-40   3.01205671e-40   2.12883363e-40] [ 0.  0.  0.  0.] [1248 1016 1058 1045] 0.645636138525\n",
        "\n",
        "frame 642 from 1248\n",
        "1249 11.0 [  2.15695456e-10   9.99999999e-01   2.33077902e-10   2.23565645e-10\n",
        "   2.20512840e-10] [  1.10034804e-38   6.73772445e-35   8.80215397e-39   8.79515202e-39\n",
        "   6.38847726e-39] [ 0.  0.  0.  0.  0.] [ 984 1249 1017 1059 1046] 0.881923791088\n",
        "\n",
        "frame 643 from 1249\n",
        "1250 12.0 [  9.99999999e-01   6.10790389e-10] [  1.69891944e-33   2.50000364e-37] [ 0.  0.] [1250 1018] 0.752356154461\n",
        "\n",
        "frame 644 from 1250\n",
        "1251 13.0 [  9.99999986e-01   1.61628116e-09   1.59816439e-09   9.08415664e-09\n",
        "   1.55992475e-09] [  3.88370740e-32   6.16574353e-36   4.59544233e-36   2.14605119e-31\n",
        "   5.86969621e-36] [ 0.  0.  0.  0.  0.] [1251 1019 1049 1198 1048] 0.601448649729\n",
        "\n",
        "frame 645 from 1251\n",
        "1252 14.0 [  9.99999971e-01   3.83124219e-09   3.80102337e-09   2.10157677e-08] [  6.28557100e-42   1.34424807e-34   9.98395104e-35   6.39875552e-30] [ 0.  0.  0.  0.] [1252 1020 1050 1199] 0.769846924835\n",
        "\n",
        "frame 646 from 1252\n",
        "1253 15.0 [  9.99999995e-01   1.52639949e-09   1.53759725e-09   1.45232292e-09] [  1.34974413e-40   2.19917003e-44   4.97589085e-43   1.56118015e-44] [ 0.  0.  0.  0.] [1253 1021 1051 1154] 0.621423746478\n",
        "\n",
        "frame 647 from 1253\n",
        "1254 16.0 [  9.99999956e-01   6.40290569e-09   6.32814356e-09   3.15847738e-08] [  2.87715312e-39   4.59831787e-43   3.69790838e-43   1.88794852e-38] [ 0.  0.  0.  0.] [1254 1022 1052 1144] 0.221670641192\n",
        "\n",
        "frame 648 from 1254\n",
        "1255 17.0 [  9.99999924e-01   1.04901541e-08   5.47334692e-08   1.03330155e-08] [  4.96214229e-38   8.65568430e-42   5.05345958e-37   8.01008674e-42] [ 0.  0.  0.  0.] [1255 1023 1145 1053] 0.845518795309\n",
        "\n",
        "frame 649 from 1255\n",
        "1256 18.0 [  9.99999850e-01   6.90211369e-08   6.18543311e-08   1.93634522e-08] [  3.41899318e-38   8.88187287e-36   7.59736179e-36   1.87486470e-40] [ 0.  0.  0.  0.] [1256 1146 1147 1029] 0.967549869145\n",
        "\n",
        "frame 650 from 1256\n",
        "1257 19.0 [  9.99999831e-01   1.39385949e-07   2.97324787e-08] [  1.18251598e-40   6.42032570e-36   5.92970654e-39] [ 0.  0.  0.] [1257 1148 1030] 0.785064548007\n",
        "\n",
        "frame 651 from 1257\n",
        "1258 20.0 [  9.99999830e-01   3.32857504e-08   1.36321196e-07] [  2.86071179e-39   6.43421212e-42   1.52929659e-38] [ 0.  0.  0.] [1258 1149 1074] 0.967883605457\n",
        "\n",
        "frame 652 from 1258\n",
        "1259 21.0 [  9.99999539e-01   5.08736455e-08   5.22985597e-08   2.38905141e-07\n",
        "   1.18936141e-07] [  7.73615421e-38   5.10124306e-42   3.91996686e-39   5.02155974e-37\n",
        "   1.82092135e-37] [ 0.  0.  0.  0.  0.] [1259 1104 1164 1075 1031] 0.367782660943\n",
        "\n",
        "frame 653 from 1259\n",
        "1260 22.0 [  9.99999451e-01   3.94864853e-07   7.70599975e-08   7.70560058e-08] [  2.26943938e-36   1.77024698e-35   1.47824111e-40   4.96055534e-39] [ 0.  0.  0.  0.] [1260 1076 1105 1106] 0.919158226109\n",
        "\n",
        "frame 654 from 1260\n",
        "1261 23.0 [  1.50829703e-07   9.99998669e-01   1.46572096e-07   9.20400634e-07\n",
        "   1.12896712e-07] [  1.18937396e-35   1.30667129e-37   1.74678192e-38   6.49725548e-34\n",
        "   8.94617014e-39] [ 0.  0.  0.  0.  0.] [1264 1261 1107 1077  956] 0.094897274425\n",
        "\n",
        "frame 655 from 1261\n",
        "1262 24.0 [  9.99999782e-01   5.52777065e-08   5.32935570e-08   4.34168695e-08\n",
        "   6.61468892e-08] [  3.34887243e-36   4.92083384e-39   9.42912627e-40   1.03173956e-40\n",
        "   2.84804198e-37] [ 0.  0.  0.  0.  0.] [1262 1108 1266  960  959] 0.361261880619\n",
        "\n",
        "frame 656 from 1262\n",
        "1263 25.0 [  1.12968868e-06   9.99998223e-01   1.84230046e-07   1.52513450e-07\n",
        "   1.54103530e-07   1.55993855e-07] [  4.45052578e-34   8.11972215e-35   1.77685498e-38   1.13500407e-39\n",
        "   1.03173956e-40   2.84804198e-37] [ 0.  0.  0.  0.  0.  0.] [ 932 1263 1267  961  960  959] 0.633397618552\n",
        "\n",
        "frame 657 from 1263\n",
        "1264 26.0 [  4.28211923e-07   9.99993196e-01   4.33953682e-07   4.15747680e-06\n",
        "   4.32520184e-07   3.37962165e-07   3.65632593e-07   3.17102528e-07\n",
        "   3.30824951e-07] [  4.18123441e-34   1.18937396e-35   1.77382235e-37   2.35626372e-32\n",
        "   1.30067309e-37   8.40924099e-37   2.84489346e-37   1.13500407e-39\n",
        "   2.84804198e-37] [ 0.  0.  0.  0.  0.  0.  0.  0.  0.] [ 970 1264 1135 1078 1165  945 1268  961  959] 0.940427548631\n",
        "\n",
        "frame 658 from 1264\n",
        "1265 27.0 [  4.99136267e-06   9.99992046e-01   6.36245647e-07   7.09366329e-07\n",
        "   6.26718824e-07   5.05779844e-07   4.84637362e-07] [  8.16898499e-33   4.45709432e-41   4.12621785e-36   1.46535941e-34\n",
        "   2.26943938e-36   1.61511386e-35   3.47330509e-38] [ 0.  0.  0.  0.  0.  0.  0.] [ 971 1265 1166 1167 1260  946 1269] 0.222491917457\n",
        "\n",
        "frame 659 from 1265\n",
        "1266 28.0 [ 1.] [  9.42912627e-40] [ 0.] [1266] 0.701898649836\n",
        "\n",
        "frame 660 from 1266\n",
        "1267 29.0 [  9.99991439e-01   2.75308177e-06   1.31004112e-06   4.49799088e-06] [  1.77685498e-38   1.30667129e-37   1.74678192e-38   2.75946392e-37] [ 0.  0.  0.  0.] [1267 1261 1107 1168] 0.631036558559\n",
        "\n",
        "frame 661 from 1267\n",
        "1268 30.0 [  9.99989874e-01   7.63723133e-06   1.34195308e-06   1.14637341e-06] [  2.84489346e-37   3.34887243e-36   4.92083384e-39   1.03173956e-40] [ 0.  0.  0.  0.] [1268 1262 1108  960] 0.220874572226\n",
        "\n",
        "frame 662 from 1268\n",
        "1269 31.0 [  9.99986981e-01   1.11261505e-05   1.89290569e-06] [  3.47330509e-38   8.11972215e-35   1.13500407e-39] [ 0.  0.  0.] [1269 1263  961] 0.0496479034674\n",
        "\n",
        "frame 663 from 1269\n",
        "1270 32.0 [  9.99970891e-01   2.98999661e-06   2.09064419e-05   2.70988742e-06\n",
        "   2.50288964e-06] [  1.54138480e-42   2.84539515e-39   1.18937396e-35   1.06758716e-41\n",
        "   1.13500407e-39] [ 0.  0.  0.  0.  0.] [1270  934 1264  962  961] 0.208630329315\n",
        "\n",
        "frame 664 from 1270\n",
        "jump 935 1.0 [ 0.08114167  0.07880436  0.27166606  0.10680153  0.3529812   0.10860518] [  3.64925667e-42   1.06758716e-41   3.32364455e-40   3.46066330e-41\n",
        "   4.81378102e-40   4.06318973e-41] [ 0.  0.  0.  0.  0.  0.] [963 962 935 936 965 964] 0.293579926965\n",
        "\n",
        "frame 665 from 935\n",
        "936 2.0 [  1.00000000e+00   1.10097531e-11   7.26477470e-11   1.02134244e-11\n",
        "   9.32868494e-12   2.93880394e-11   9.61664989e-12] [  3.46066330e-41   4.81378102e-40   1.07889269e-37   4.06318973e-41\n",
        "   3.64925667e-42   3.47330509e-38   1.54138480e-42] [ 0.  0.  0.  0.  0.  0.  0.] [ 936  965  939  964  963 1269 1270] 0.228126342187\n",
        "\n",
        "frame 666 from 936\n",
        "937 3.0 [  1.00000000e+00   9.01465093e-11   2.04845104e-11   1.36616773e-11\n",
        "   1.23566214e-11] [  5.03114221e-40   6.16246520e-39   4.81378102e-40   4.06318973e-41\n",
        "   1.54138480e-42] [ 0.  0.  0.  0.  0.] [ 937  966  965  964 1270] 0.807551956134\n",
        "\n",
        "frame 667 from 937\n",
        "938 4.0 [  2.38710073e-11   1.00000000e+00   1.21867602e-10]"
       ]
      },
      {
       "output_type": "stream",
       "stream": "stdout",
       "text": [
        " [  4.81378102e-40   7.53522356e-39   8.61438703e-38] [ 0.  0.  0.] [965 938 967] 0.428028459805\n",
        "\n",
        "frame 668 from 938\n",
        "939 5.0 [  1.00000000e+00   3.64633718e-11   2.01480575e-10] [  1.07889269e-37   4.81378102e-40   1.33413573e-36] [ 0.  0.  0.] [939 965 968] 0.271824894892\n",
        "\n",
        "frame 669 from 939\n",
        "940 6.0 [  1.00000000e+00   6.28533320e-11   3.40405083e-10] [  1.42892419e-36   3.32364455e-40   2.28209743e-35] [ 0.  0.  0.] [940 935 969] 0.281739630594\n",
        "\n",
        "frame 670 from 940\n",
        "941 7.0 [  9.99999999e-01   1.33673430e-10   6.54187121e-10] [  3.04845621e-37   4.26457722e-38   4.18123441e-34] [ 0.  0.  0.] [941 944 970] 0.324638418572\n",
        "\n",
        "frame 671 from 941\n",
        "942 8.0 [  1.28563429e-09   1.90054025e-10   2.11857809e-10   9.99999998e-01\n",
        "   2.13012945e-10] [  4.45052578e-34   2.89776660e-37   1.38070688e-35   5.50790229e-38\n",
        "   8.40924099e-37] [ 0.  0.  0.  0.  0.] [932 893 933 942 945] 0.190949846103\n",
        "\n",
        "frame 672 from 942\n",
        "943 9.0 [  2.81022620e-10   9.76363453e-10   9.99999997e-01   1.13907188e-09\n",
        "   2.57996007e-10] [  2.89776660e-37   1.38070688e-35   1.13806956e-36   1.61511386e-35\n",
        "   2.84539515e-39] [ 0.  0.  0.  0.  0.] [893 933 943 946 934] 0.940597165406\n",
        "\n",
        "frame 673 from 943\n",
        "944 10.0 [  9.99999998e-01   1.99412598e-09] [  4.26457722e-38   6.49725548e-34] [ 0.  0.] [ 944 1077] 0.835574410809\n",
        "\n",
        "frame 674 from 944\n",
        "945 11.0 [  1.44304898e-09   9.99999999e-01] [  1.42892419e-36   8.40924099e-37] [ 0.  0.] [940 945] 0.690591713632\n",
        "\n",
        "frame 675 from 945\n",
        "946 12.0 [  8.59662453e-10   7.78028934e-10   9.99999994e-01   4.43126295e-09] [  3.04845621e-37   2.84539515e-39   1.61511386e-35   8.11972215e-35] [ 0.  0.  0.  0.] [ 941  934  946 1263] 0.810598496613\n",
        "\n",
        "frame 676 from 946\n",
        "947 13.0 [  9.99999994e-01   8.90247888e-10   3.70782088e-09   1.02607587e-09] [  3.04805850e-34   5.50790229e-38   4.18123441e-34   1.18937396e-35] [ 0.  0.  0.  0.] [ 947  942  970 1264] 0.450743305415\n",
        "\n",
        "frame 677 from 947\n",
        "948 14.0 [  9.99999987e-01   4.50964187e-09   8.25381802e-09] [  5.53349236e-33   8.16898499e-33   2.35626372e-32] [ 0.  0.  0.] [ 948  971 1078] 0.145074107723\n",
        "\n",
        "frame 678 from 948\n",
        "949 15.0 [  9.99999977e-01   6.59135955e-09   1.61650379e-08] [  9.49188071e-32   1.67180360e-31   8.40845988e-31] [ 0.  0.  0.] [ 949  972 1079] 0.146899499701\n",
        "\n",
        "frame 679 from 949\n",
        "950 16.0 [  9.99999957e-01   1.01916629e-08   3.23654227e-08] [  9.62320690e-38   3.48396816e-30   2.91437084e-29] [ 0.  0.  0.] [ 950  973 1080] 0.579556202928\n",
        "\n",
        "frame 680 from 950\n",
        "951 17.0 [  9.99999955e-01   3.70417844e-08   8.27603884e-09] [  1.54724841e-36   9.24976665e-36   8.90863688e-41] [ 0.  0.  0.] [ 951 1169 1137] 0.121539879328\n",
        "\n",
        "frame 681 from 951\n",
        "952 18.0 [  9.99999986e-01   4.80075703e-09   4.79057357e-09   4.69149908e-09] [  2.56640058e-35   1.44731734e-39   1.65515755e-39   8.18233330e-39] [ 0.  0.  0.  0.] [ 952 1139 1138 1109] 0.528284362867\n",
        "\n",
        "frame 682 from 952\n",
        "953 19.0 [  9.99999983e-01   8.50829219e-09   8.29806798e-09] [  4.28996372e-34   2.97154221e-38   2.59860920e-38] [ 0.  0.  0.] [ 953 1140 1141] 0.888934498217\n",
        "\n",
        "frame 683 from 953\n",
        "954 20.0 [  9.99999821e-01   1.47644769e-07   3.16143425e-08] [  6.91444849e-33   6.87712438e-32   5.05345958e-37] [ 0.  0.  0.] [ 954 1115 1145] 0.883736143716\n",
        "\n",
        "frame 684 from 954\n",
        "955 21.0 [  9.99999664e-01   5.60460392e-08   2.79674373e-07] [  3.34314306e-38   8.88187287e-36   1.70625329e-30] [ 0.  0.  0.] [ 955 1146 1116] 0.110162075992\n",
        "\n",
        "frame 685 from 955\n",
        "956 22.0 [  9.99999347e-01   2.65502246e-07   2.99086176e-07   8.86146588e-08] [  8.94617014e-39   6.42032570e-36   7.59736179e-36   2.84804198e-37] [ 0.  0.  0.  0.] [ 956 1148 1147  959] 0.229943606183\n",
        "\n",
        "frame 686 from 956\n",
        "957 23.0 [  9.99999290e-01   1.16248494e-07   5.93882506e-07] [  1.88169080e-39   6.43421212e-42   2.26943938e-36] [ 0.  0.  0.] [ 957 1149 1260] 0.467067360317\n",
        "\n",
        "frame 687 from 957\n",
        "958 24.0 [ 1.] [  2.37121523e-38] [ 0.] [958] 0.00932247368373\n",
        "\n",
        "frame 688 from 958\n",
        "959 25.0 [ 1.] [  2.84804198e-37] [ 0.] [959] 0.405168600654\n",
        "\n",
        "frame 689 from 959\n",
        "960 26.0 [  3.24954151e-07   9.99996505e-01   4.34462771e-07   3.49126371e-07\n",
        "   2.38623474e-06] [  3.34314306e-38   1.03173956e-40   3.34887243e-36   1.30667129e-37\n",
        "   8.11972215e-35] [ 0.  0.  0.  0.  0.] [ 955  960 1262 1261 1263] 0.410644475801\n",
        "\n",
        "frame 690 from 960\n",
        "961 27.0 [  9.99998146e-01   1.85436202e-06] [  1.13500407e-39   1.77685498e-38] [ 0.  0.] [ 961 1267] 0.719395716631\n",
        "\n",
        "frame 691 from 961\n",
        "962 28.0 [  9.99995554e-01   3.41446436e-06   1.03196506e-06] [  1.06758716e-41   2.84489346e-37   3.47330509e-38] [ 0.  0.  0.] [ 962 1268 1269] 0.0510103420464\n",
        "\n",
        "frame 692 from 962\n",
        "963 29.0 [  9.99993622e-01   1.01943689e-06   5.35863653e-06] [  3.64925667e-42   1.54138480e-42   2.84539515e-39] [ 0.  0.  0.] [ 963 1270  934] 0.465858228785\n",
        "\n",
        "frame 693 from 963\n",
        "964 30.0 [  9.99994963e-01   5.03705013e-06] [  4.06318973e-41   3.32364455e-40] [ 0.  0.] [964 935] 0.668743922492\n",
        "\n",
        "frame 694 from 964\n",
        "965 31.0 [  9.99998235e-01   1.03677687e-06   7.28167436e-07] [  4.81378102e-40   3.46066330e-41   1.54138480e-42] [ 0.  0.  0.] [ 965  936 1270] 0.613374005198\n",
        "\n",
        "frame 695 from 965\n",
        "966 32.0 [  9.99997459e-01   1.57935748e-06   9.61176412e-07] [  6.16246520e-39   5.03114221e-40   1.54138480e-42] [ 0.  0.  0.] [ 966  937 1270] 0.980435382871\n",
        "\n",
        "frame 696 from 966\n",
        "967 33.0 [  9.99988742e-01   8.21809453e-06   3.04029129e-06] [  8.61438703e-38   1.07889269e-37   7.53522356e-39] [ 0.  0.  0.] [967 939 938] 0.24531038352\n",
        "\n",
        "frame 697 from 967\n",
        "968 34.0 [  9.99980967e-01   1.08973100e-05   4.95003466e-06   3.18596626e-06] [  1.33413573e-36   1.42892419e-36   3.04845621e-37   7.53522356e-39] [ 0.  0.  0.  0.] [968 940 941 938] 0.975323606215\n",
        "\n",
        "frame 698 from 968\n",
        "969 35.0 [  9.99996044e-01   3.95639062e-06] [  2.28209743e-35   5.50790229e-38] [ 0.  0.] [969 942] 0.284583239311\n",
        "\n",
        "frame 699 from 969\n",
        "970 36.0 [  9.99984086e-01   1.59139425e-05] [  4.18123441e-34   3.04805850e-34] [ 0.  0.] [970 947] 0.970827100006\n",
        "\n",
        "frame 700 from 970\n",
        "971 37.0 [  5.01593250e-06   9.99959069e-01   2.22110414e-05   6.97122350e-06\n",
        "   6.73309485e-06] [  2.71978093e-36   8.16898499e-33   5.53349236e-33   8.11972215e-35\n",
        "   1.61511386e-35] [ 0.  0.  0.  0.  0.] [ 930  971  948 1263  946] 0.907736550967\n",
        "\n",
        "frame 701 from 971\n",
        "972 38.0 [  4.13316374e-06   4.59243628e-06   9.99960654e-01   6.08135521e-06\n",
        "   1.13487615e-05   7.24573101e-06   5.94443715e-06] [  2.71978093e-36   3.87299134e-35   1.67180360e-31   1.18937396e-35\n",
        "   2.35626372e-32   5.53349236e-33   3.04805850e-34] [ 0.  0.  0.  0.  0.  0.  0.] [ 930  931  972 1264 1078  948  947] 0.202649146144\n",
        "\n",
        "frame 702 from 972\n",
        "973 39.0 [  6.19766586e-06   6.23390593e-06   6.87053009e-06   9.99942211e-01\n",
        "   2.12099433e-05   8.92555852e-06   8.35178776e-06] [  5.40207395e-34   3.87299134e-35   4.45052578e-34   3.48396816e-30\n",
        "   8.40845988e-31   1.46535941e-34   5.53349236e-33] [ 0.  0.  0.  0.  0.  0.  0.] [ 891  931  932  973 1079 1167  948] 0.560775168077\n",
        "\n",
        "frame 703 from 973\n",
        "974 40.0 [  3.48042401e-05   9.99375992e-01   6.11580620e-05   3.95907230e-04\n",
        "   4.93585014e-05   3.99625462e-05   4.28175755e-05] [  8.86736793e-33   1.17823609e-36   2.91437084e-29   9.15925839e-28\n",
        "   3.96366986e-33   5.53349236e-33   9.49188071e-32] [ 0.  0.  0.  0.  0.  0.  0.] [ 892  974 1080 1081 1034  948  949] 0.743269953041\n",
        "\n",
        "frame 704 from 974\n",
        "975 41.0 [  9.99603502e-01   6.90787659e-05   3.27418842e-04] [  2.07485909e-37   1.45360735e-39   3.03385241e-34] [ 0.  0.  0.] [ 975 1035 1170] 0.390261702999\n",
        "\n",
        "frame 705 from 975\n",
        "976 42.0 [  9.99265288e-01   9.61205778e-05   9.44756435e-05   5.44116084e-04] [  5.29537829e-40   4.19960144e-39   2.03752368e-40   5.03274294e-35] [ 0.  0.  0.  0.] [ 976 1036 1225 1224] 0.0533888935099\n",
        "\n",
        "frame 706 from 976\n",
        "977 43.0 [  9.98998790e-01   7.42719583e-04   1.29651504e-04   1.28838995e-04] [  3.13043271e-45   1.09781875e-37   5.25288491e-43   5.43414608e-43] [ 0.  0.  0.  0.] [ 977 1037 1003 1238] 0.590055766198\n",
        "\n",
        "frame 707 from 977\n",
        "978 44.0 [  9.98957479e-01   1.45052637e-04   4.56825497e-04   4.40643203e-04] [  7.55758587e-44   1.78713071e-45   4.23929051e-43   4.02495152e-43] [ 0.  0.  0.  0.] [ 978 1004 1038 1239] 0.822082093696\n",
        "\n",
        "frame 708 from 978\n",
        "979 45.0 [  9.98633692e-01   1.12460405e-03   2.41704239e-04] [  7.15674474e-46   1.42609078e-41   1.41558141e-45] [ 0.  0.  0.] [ 979 1240 1005] 0.444576467487\n",
        "\n",
        "frame 709 from 979\n",
        "980 46.0 [  9.99231932e-01   7.68067754e-04] [  2.00180790e-44   8.04376850e-44] [ 0.  0.] [ 980 1241] 0.96192583612\n",
        "\n",
        "frame 710 from 980\n",
        "981 47.0 [ 0.99891575  0.00108425] [  5.92138952e-43   2.91098449e-42] [ 0.  0.] [ 981 1242] 0.377035346686\n",
        "\n",
        "frame 711 from 981\n",
        "982 48.0 [ 0.99853696  0.00146304] [  1.80665729e-41   1.00520741e-40] [ 0.  0.] [ 982 1243] 0.73220367243\n",
        "\n",
        "frame 712 from 982\n",
        "983 49.0 [  9.96760188e-01   2.57749347e-03   6.62318465e-04] [  3.64723321e-40   3.54723578e-39   7.68051185e-41] [ 0.  0.  0.] [ 983 1244 1245] 0.337765088901\n",
        "\n",
        "frame 713 from 983\n",
        "984 50.0 [ 0.9989329  0.0010671] [  1.10034804e-38   8.80215397e-39] [ 0.  0.] [ 984 1017] 0.302360543614\n",
        "\n",
        "frame 714 from 984\n",
        "985 51.0 [ 0.9956857  0.0043143] [  4.48874262e-41   2.37418346e-36] [ 0.  0.] [ 985 1248] 0.205135589883\n",
        "\n",
        "frame 715 from 985\n",
        "986 52.0 [ 0.99448565  0.00551435] [  5.31032956e-42   8.79515202e-39] [ 0.  0.] [ 986 1059] 0.526511959089\n",
        "\n",
        "frame 716 from 986\n",
        "987 53.0 [ 0.9918093   0.00155176  0.00663894] [  1.19741263e-40   1.95659301e-44   1.06997716e-39] [ 0.  0.  0.] [ 987 1060 1064] 0.66508695442\n",
        "\n",
        "frame 717 from 987\n",
        "988 54.0 [ 0.986695   0.0109806  0.0023244] [  6.60844525e-47   2.42696173e-38   4.20690147e-43] [ 0.  0.  0.] [ 988 1065 1061] 0.653771383469\n",
        "\n",
        "frame 718 from 988\n",
        "989 55.0 [ 0.98343637  0.01366937  0.00289426] [  3.96543542e-48   1.49386407e-44   1.74592021e-49] [ 0.  0.  0.] [ 989 1237 1185] 0.71116180968\n",
        "\n",
        "frame 719 from 989\n",
        "990 56.0 [ 0.99853346  0.00146654] [  9.47631402e-47   2.39112461e-49] [ 0.  0.] [ 990 1186] 0.0304757486282\n",
        "\n",
        "frame 720 from 990\n",
        "991 57.0 [ 0.99813865  0.00186135] [  2.39964239e-45   6.02174208e-48] [ 0.  0.] [ 991 1187] 0.474315373322\n",
        "\n",
        "frame 721 from 991\n",
        "992 58.0 [ 0.97839678  0.02160322] [  8.34063819e-48   5.25288491e-43] [ 0.  0.] [ 992 1003]"
       ]
      },
      {
       "output_type": "stream",
       "stream": "stdout",
       "text": [
        " 0.206368703225\n",
        "\n",
        "frame 722 from 992\n",
        "993 59.0 [ 0.97541437  0.02458563] [  7.76113531e-47   1.78713071e-45] [ 0.  0.] [ 993 1004] 0.269178788386\n",
        "\n",
        "frame 723 from 993\n",
        "994 60.0 [ 0.99071395  0.00928605] [  2.33742836e-45   1.41558141e-45] [ 0.  0.] [ 994 1005] 0.920072809976\n",
        "\n",
        "frame 724 from 994\n",
        "995 61.0 [ 0.99529104  0.00470896] [  7.47410430e-44   9.52656456e-46] [ 0.  0.] [ 995 1006] 0.916418394461\n",
        "\n",
        "frame 725 from 995\n",
        "996 62.0 [ 0.99434086  0.00565914] [  2.63000967e-42   2.03998731e-46] [ 0.  0.] [ 996 1009] 0.905200681972\n",
        "\n",
        "frame 726 from 996\n",
        "997 63.0 [ 0.99309375  0.00690625] [  9.62168416e-41   8.41325948e-45] [ 0.  0.] [ 997 1010] 0.0723466286321\n",
        "\n",
        "frame 727 from 997\n",
        "998 64.0 [ 0.99180016  0.00819984] [  3.38007855e-39   3.41256991e-43] [ 0.  0.] [ 998 1011] 0.0471842340017\n",
        "\n",
        "frame 728 from 998\n",
        "999 65.0 [ 0.93395781  0.06604219] [  1.14215766e-37   8.31179652e-37] [ 0.  0.] [ 999 1233] 0.324940685472\n",
        "\n",
        "frame 729 from 999\n",
        "1000 66.0 [ 0.90011946  0.09988054] [  8.57420652e-41   2.97296617e-35] [ 0.  0.] [1000 1234] 0.65051145912\n",
        "\n",
        "frame 730 from 1000\n",
        "1001 67.0 [ 0.88261834  0.11738166] [  1.89869927e-42   2.25399743e-38] [ 0.  0.] [1001 1235] 0.292520430733\n",
        "\n",
        "frame 731 from 1001\n",
        "1002 68.0 [ 1.] [  6.36707885e-41] [ 0.] [1002] 0.919349249275\n",
        "\n",
        "frame 732 from 1002\n",
        "1003 69.0 [ 0.84359306  0.15640694] [  5.25288491e-43   2.25399743e-38] [ 0.  0.] [1003 1235] 0.40867711735\n",
        "\n",
        "frame 733 from 1003\n",
        "1004 70.0 [ 0.24555724  0.63794253  0.04063213  0.03930656  0.03656154] [  5.29537829e-40   1.78713071e-45   1.49386407e-44   2.34041214e-45\n",
        "   2.39964239e-45] [ 0.  0.  0.  0.  0.] [ 976 1004 1237 1236  991] 0.485525567353\n",
        "\n",
        "frame 734 from 1004\n",
        "1005 71.0 [ 0.03791149  0.27024574  0.60161771  0.04879916  0.0414259 ] [  3.13043271e-45   5.43414608e-43   1.41558141e-45   1.49386407e-44\n",
        "   8.34063819e-48] [ 0.  0.  0.  0.  0.] [ 977 1238 1005 1237  992] 0.844901858716\n",
        "\n",
        "frame 735 from 1005\n",
        "jump 993 1.0 [ 0.25723324  0.07445552  0.61638205  0.05192919] [  5.43414608e-43   7.55758587e-44   9.52656456e-46   7.76113531e-47] [ 0.  0.  0.  0.] [1238  978 1006  993] 0.973517827597\n",
        "\n",
        "frame 736 from 993\n",
        "994 2.0 [  1.00000000e+00   1.40980697e-11] [  2.33742836e-45   1.41558141e-45] [ 0.  0.] [ 994 1005] 0.491584794233\n",
        "\n",
        "frame 737 from 994\n",
        "995 3.0 [  1.00000000e+00   9.47795113e-12] [  7.47410430e-44   9.52656456e-46] [ 0.  0.] [ 995 1006] 0.623119590188\n",
        "\n",
        "frame 738 from 995\n",
        "996 4.0 [  1.00000000e+00   1.51749525e-11] [  2.63000967e-42   2.03998731e-46] [ 0.  0.] [ 996 1009] 0.562446601654\n",
        "\n",
        "frame 739 from 996\n",
        "997 5.0 [  1.00000000e+00   2.46603913e-11] [  9.62168416e-41   8.41325948e-45] [ 0.  0.] [ 997 1010] 0.0792445145938\n",
        "\n",
        "frame 740 from 997\n",
        "998 6.0 [  1.00000000e+00   3.89562334e-11] [  3.38007855e-39   3.41256991e-43] [ 0.  0.] [ 998 1011] 0.936937964272\n",
        "\n",
        "frame 741 from 998\n",
        "999 7.0 [  1.00000000e+00   4.42275125e-10] [  1.14215766e-37   8.31179652e-37] [ 0.  0.] [ 999 1233] 0.828757317738\n",
        "\n",
        "frame 742 from 999\n",
        "1000 8.0 [  9.99999999e-01   9.20179489e-10] [  8.57420652e-41   2.97296617e-35] [ 0.  0.] [1000 1234] 0.914151704995\n",
        "\n",
        "frame 743 from 1000\n",
        "1001 9.0 [  9.99999999e-01   1.46027297e-09] [  1.89869927e-42   2.25399743e-38] [ 0.  0.] [1001 1235] 0.0753323829464\n",
        "\n",
        "frame 744 from 1001\n",
        "1002 10.0 [ 1.] [  6.36707885e-41] [ 0.] [1002] 0.889076162179\n",
        "\n",
        "frame 745 from 1002\n",
        "1003 11.0 [  9.99999996e-01   3.55231862e-09] [  5.25288491e-43   2.25399743e-38] [ 0.  0.] [1003 1235] 0.479895064626\n",
        "\n",
        "frame 746 from 1003\n",
        "1004 12.0 [  9.71525014e-09   9.99999986e-01   1.60757361e-09   1.55512853e-09\n",
        "   1.44652409e-09] [  5.29537829e-40   1.78713071e-45   1.49386407e-44   2.34041214e-45\n",
        "   2.39964239e-45] [ 0.  0.  0.  0.  0.] [ 976 1004 1237 1236  991] 0.511067665249\n",
        "\n",
        "frame 747 from 1004\n",
        "1005 13.0 [  2.09074409e-09   1.49035225e-08   9.99999978e-01   2.69117799e-09\n",
        "   2.28455707e-09] [  3.13043271e-45   5.43414608e-43   1.41558141e-45   1.49386407e-44\n",
        "   8.34063819e-48] [ 0.  0.  0.  0.  0.] [ 977 1238 1005 1237  992] 0.484938773456\n",
        "\n",
        "frame 748 from 1005\n",
        "1006 14.0 [  1.81578275e-08   5.25573784e-09   9.99999973e-01   3.66562785e-09] [  5.43414608e-43   7.55758587e-44   9.52656456e-46   7.76113531e-47] [ 0.  0.  0.  0.] [1238  978 1006  993] 0.426372491587\n",
        "\n",
        "frame 749 from 1006\n",
        "1007 15.0 [  2.61317627e-08   9.99999968e-01   5.82159156e-09] [  4.02495152e-43   1.26767209e-49   2.33742836e-45] [ 0.  0.  0.] [1239 1007  994] 0.104118390549\n",
        "\n",
        "frame 750 from 1007\n",
        "1008 16.0 [ 1.] [  5.01485644e-48] [ 0.] [1008] 0.40176588265\n",
        "\n",
        "frame 751 from 1008\n",
        "1009 17.0 [ 1.] [  2.03998731e-46] [ 0.] [1009] 0.461168832218\n",
        "\n",
        "frame 752 from 1009\n",
        "1010 18.0 [  9.99999941e-01   5.91856339e-08] [  8.41325948e-45   7.47410430e-44] [ 0.  0.] [1010  995] 0.264743945611\n",
        "\n",
        "frame 753 from 1010\n",
        "1011 19.0 [  9.99999911e-01   8.85483374e-08] [  3.41256991e-43   2.63000967e-42] [ 0.  0.] [1011  996] 0.143972637051\n",
        "\n",
        "frame 754 from 1011\n",
        "1012 20.0 [  1.73775993e-07   9.99999826e-01] [  9.62168416e-41   1.60757361e-46] [ 0.  0.] [ 997 1012] 0.249657067634\n",
        "\n",
        "frame 755 from 1012\n",
        "1013 21.0 [ 1.] [  6.30837410e-45] [ 0.] [1013] 0.715645108053\n",
        "\n",
        "frame 756 from 1013\n",
        "1014 22.0 [ 1.] [  2.41389489e-43] [ 0.] [1014] 0.736232244852\n",
        "\n",
        "frame 757 from 1014\n",
        "1015 23.0 [ 1.] [  8.60425361e-42] [ 0.] [1015] 0.409422253964\n",
        "\n",
        "frame 758 from 1015\n",
        "1016 24.0 [  2.04853809e-07   7.67889158e-07   9.99999027e-01] [  7.68051185e-41   2.31763578e-39   2.75076462e-40] [ 0.  0.  0.] [1245 1246 1016] 0.542663229048\n",
        "\n",
        "frame 759 from 1016\n",
        "1017 25.0 [  2.90754048e-07   9.99998593e-01   1.11630533e-06] [  2.31763578e-39   8.80215397e-39   7.58015517e-38] [ 0.  0.  0.] [1246 1017 1247] 0.220639486645\n",
        "\n",
        "frame 760 from 1017\n",
        "1018 26.0 [  3.60192622e-07   9.99997353e-01   4.06779510e-07   1.88025268e-06] [  3.64723321e-40   2.50000364e-37   7.58015517e-38   2.37418346e-36] [ 0.  0.  0.  0.] [ 983 1018 1247 1248] 0.72999443874\n",
        "\n",
        "frame 761 from 1018\n",
        "1019 27.0 [  6.02292946e-07   9.99997010e-01   2.38755621e-06] [  2.37418346e-36   6.16574353e-36   6.73772445e-35] [ 0.  0.  0.] [1248 1019 1249] 0.727988044738\n",
        "\n",
        "frame 762 from 1019\n",
        "1020 28.0 [  8.78964254e-07   9.99995636e-01   3.48498845e-06] [  6.73772445e-35   1.34424807e-34   1.69891944e-33] [ 0.  0.  0.] [1249 1020 1250] 0.893651700962\n",
        "\n",
        "frame 763 from 1020\n",
        "1021 29.0 [  4.96520775e-06   9.99995035e-01] [  3.88370740e-32   2.19917003e-44] [ 0.  0.] [1251 1021] 0.147662822973\n",
        "\n",
        "frame 764 from 1021\n",
        "1022 30.0 [  6.09233252e-06   9.99993908e-01] [  6.28557100e-42   4.59831787e-43] [ 0.  0.] [1252 1022] 0.825799391509\n",
        "\n",
        "frame 765 from 1022\n",
        "1023 31.0 [  8.79580789e-06   9.99991204e-01] [  1.34974413e-40   8.65568430e-42] [ 0.  0.] [1253 1023] 0.367457778799\n",
        "\n",
        "frame 766 from 1023\n",
        "1024 32.0 [  1.41331585e-05   9.99985867e-01] [  2.87715312e-39   1.21605405e-47] [ 0.  0.] [1254 1024] 0.136736172407\n",
        "\n",
        "frame 767 from 1024\n",
        "1025 33.0 [ 1.] [  2.90476189e-46] [ 0.] [1025] 0.994013235261\n",
        "\n",
        "frame 768 from 1025\n",
        "1026 34.0 [ 1.] [  7.27015993e-45] [ 0.] [1026] 0.27915392028\n",
        "\n",
        "frame 769 from 1026\n",
        "1027 35.0 [ 1.] [  1.97211395e-43] [ 0.] [1027] 0.470877249023\n",
        "\n",
        "frame 770 from 1027\n",
        "1028 36.0 [ 1.] [  5.91799045e-42] [ 0.] [1028] 0.766478751677\n",
        "\n",
        "frame 771 from 1028\n",
        "1029 37.0 [ 1.] [  1.87486470e-40] [ 0.] [1029] 0.565471123193\n",
        "\n",
        "frame 772 from 1029\n",
        "1030 38.0 [  9.99821823e-01   6.60198381e-05   8.40035174e-05   2.81538914e-05] [  5.92970654e-39   3.41899318e-38   4.96214229e-38   2.31763578e-39] [ 0.  0.  0.  0.] [1030 1256 1255 1246] 0.00792558314469\n",
        "\n",
        "frame 773 from 1030\n",
        "1031 39.0 [  9.99965042e-01   1.36821306e-05   2.12761924e-05] [  1.82092135e-37   1.18251598e-40   3.41899318e-38] [ 0.  0.  0.] [1031 1257 1256] 0.561997272962\n",
        "\n",
        "frame 774 from 1031\n",
        "1032 40.0 [  9.99980149e-01   1.98514668e-05] [  5.41184281e-36   2.86071179e-39] [ 0.  0.] [1032 1258] 0.617082080619\n",
        "\n",
        "frame 775 from 1032\n",
        "1033 41.0 [ 1.] [  1.52351097e-34] [ 0.] [1033] 0.425746600778\n",
        "\n",
        "frame 776 from 1033\n",
        "1034 42.0 [ 1.] [  3.96366986e-33] [ 0.] [1034] 0.0414733709974\n",
        "\n",
        "frame 777 from 1034\n",
        "1035 43.0 [  4.35548794e-04   9.99564451e-01] [  3.48396816e-30   1.45360735e-39] [ 0.  0.] [ 973 1035] 0.565371395982\n",
        "\n",
        "frame 778 from 1035\n",
        "1036 44.0 [  5.79422478e-04   9.99420578e-01] [  1.17823609e-36   4.19960144e-39] [ 0.  0.] [ 974 1036] 0.511330611657\n",
        "\n",
        "frame 779 from 1036\n",
        "1037 45.0 [  3.82551067e-04   9.99617449e-01] [  2.07485909e-37   1.09781875e-37] [ 0.  0.] [ 975 1037]"
       ]
      },
      {
       "output_type": "stream",
       "stream": "stdout",
       "text": [
        " 0.699833189221\n",
        "\n",
        "frame 780 from 1037\n",
        "1038 46.0 [  1.33691423e-03   2.62897302e-04   9.98400188e-01] [  5.03274294e-35   5.29537829e-40   4.23929051e-43] [ 0.  0.  0.] [1224  976 1038] 0.305229333271\n",
        "\n",
        "frame 781 from 1038\n",
        "1039 47.0 [  1.74808454e-03   3.46331864e-04   9.97905584e-01] [  2.03752368e-40   3.13043271e-45   5.67210406e-48] [ 0.  0.  0.] [1225  977 1039] 0.157329226819\n",
        "\n",
        "frame 782 from 1039\n",
        "1040 48.0 [ 0.99835752  0.00164248] [  1.51368243e-46   2.58191021e-45] [ 0.  0.] [1040 1226] 0.413169294566\n",
        "\n",
        "frame 783 from 1040\n",
        "1041 49.0 [ 0.99758861  0.00241139] [  2.65246370e-46   7.36187756e-44] [ 0.  0.] [1041 1227] 0.342033605657\n",
        "\n",
        "frame 784 from 1041\n",
        "1042 50.0 [ 0.99586101  0.00116924  0.00296976] [  7.67266972e-45   1.58006758e-44   8.04376850e-44] [ 0.  0.  0.] [1042 1228 1241] 0.658233976743\n",
        "\n",
        "frame 785 from 1042\n",
        "1043 51.0 [ 0.99802151  0.00197849] [  2.86570861e-43   5.02401334e-43] [ 0.  0.] [1043 1229] 0.186546635809\n",
        "\n",
        "frame 786 from 1043\n",
        "1044 52.0 [ 0.99321574  0.00491606  0.0018682 ] [  1.07692164e-41   1.00520741e-40   1.69296823e-41] [ 0.  0.  0.] [1044 1243 1230] 0.902744058499\n",
        "\n",
        "frame 787 from 1044\n",
        "1045 53.0 [ 0.99040707  0.0069371   0.00265583] [  2.12883363e-40   3.54723578e-39   6.15389316e-40] [ 0.  0.  0.] [1045 1244 1231] 0.120146012698\n",
        "\n",
        "frame 788 from 1045\n",
        "jump 1247 1.0 [ 0.98120644  0.00444716  0.00202729  0.00226252  0.01005659] [  6.38847726e-39   2.25324387e-38   7.68051185e-41   2.31763578e-39\n",
        "   7.58015517e-38] [ 0.  0.  0.  0.  0.] [1046 1232 1245 1246 1247] 0.993760991703\n",
        "\n",
        "frame 789 from 1247\n",
        "1248 2.0 [  1.00000000e+00   3.79915768e-12   3.68710428e-12   3.68609685e-12] [  2.37418346e-36   2.75076462e-40   3.01205671e-40   2.12883363e-40] [ 0.  0.  0.  0.] [1248 1016 1058 1045] 0.877239368512\n",
        "\n",
        "frame 790 from 1248\n",
        "1249 3.0 [  5.02219700e-12   1.00000000e+00   5.42692535e-12   5.20544443e-12\n",
        "   5.13436372e-12] [  1.10034804e-38   6.73772445e-35   8.80215397e-39   8.79515202e-39\n",
        "   6.38847726e-39] [ 0.  0.  0.  0.  0.] [ 984 1249 1017 1059 1046] 0.259379624992\n",
        "\n",
        "frame 791 from 1249\n",
        "1250 4.0 [  1.00000000e+00   1.48018746e-11] [  1.69891944e-33   2.50000364e-37] [ 0.  0.] [1250 1018] 0.711629918898\n",
        "\n",
        "frame 792 from 1250\n",
        "1251 5.0 [  1.00000000e+00   4.07674194e-11   4.03104605e-11   2.29129456e-10\n",
        "   3.93459430e-11] [  3.88370740e-32   6.16574353e-36   4.59544233e-36   2.14605119e-31\n",
        "   5.86969621e-36] [ 0.  0.  0.  0.  0.] [1251 1019 1049 1198 1048] 0.127849396196\n",
        "\n",
        "frame 793 from 1251\n",
        "1252 6.0 [  9.99999999e-01   1.00579090e-10   9.97857750e-11   5.51713173e-10] [  6.28557100e-42   1.34424807e-34   9.98395104e-35   6.39875552e-30] [ 0.  0.  0.  0.] [1252 1020 1050 1199] 0.991402249911\n",
        "\n",
        "frame 794 from 1252\n",
        "1253 7.0 [  1.00000000e+00   4.17069158e-11   4.20128803e-11   3.96828681e-11] [  1.34974413e-40   2.19917003e-44   4.97589085e-43   1.56118015e-44] [ 0.  0.  0.  0.] [1253 1021 1051 1154] 0.655812350846\n",
        "\n",
        "frame 795 from 1253\n",
        "1254 8.0 [  9.99999999e-01   1.82091118e-10   1.79964971e-10   8.98233872e-10] [  2.87715312e-39   4.59831787e-43   3.69790838e-43   1.88794852e-38] [ 0.  0.  0.  0.] [1254 1022 1052 1144] 0.215787679304\n",
        "\n",
        "frame 796 from 1254\n",
        "1255 9.0 [  9.99999998e-01   3.10502652e-10   1.62007986e-09   3.05851439e-10] [  4.96214229e-38   8.65568430e-42   5.05345958e-37   8.01008674e-42] [ 0.  0.  0.  0.] [1255 1023 1145 1053] 0.37581497258\n",
        "\n",
        "frame 797 from 1255\n",
        "1256 10.0 [  9.99999995e-01   2.12636277e-09   1.90557202e-09   5.96537899e-10] [  3.41899318e-38   8.88187287e-36   7.59736179e-36   1.87486470e-40] [ 0.  0.  0.  0.] [1256 1146 1147 1029] 0.280452605831\n",
        "\n",
        "frame 798 from 1256\n",
        "1257 11.0 [  9.99999995e-01   4.46936712e-09   9.53362683e-10] [  1.18251598e-40   6.42032570e-36   5.92970654e-39] [ 0.  0.  0.] [1257 1148 1030] 0.7174176975\n",
        "\n",
        "frame 799 from 1257\n",
        "1258 12.0 [  9.99999994e-01   1.11085444e-09   4.54948450e-09] [  2.86071179e-39   6.43421212e-42   1.52929659e-38] [ 0.  0.  0.] [1258 1149 1074] 0.405006822656\n",
        "\n",
        "frame 800 from 1258\n",
        "1259 13.0 [  9.99999984e-01   1.76710984e-09   1.81660462e-09   8.29843474e-09\n",
        "   4.13127905e-09] [  7.73615421e-38   5.10124306e-42   3.91996686e-39   5.02155974e-37\n",
        "   1.82092135e-37] [ 0.  0.  0.  0.  0.] [1259 1104 1164 1075 1031] 0.5845465407\n",
        "\n",
        "frame 801 from 1259\n",
        "1260 14.0 [  9.99999980e-01   1.42754879e-08   2.78593815e-09   2.78579384e-09] [  2.26943938e-36   1.77024698e-35   1.47824111e-40   4.96055534e-39] [ 0.  0.  0.  0.] [1260 1076 1105 1106] 0.889124721312\n",
        "\n",
        "frame 802 from 1260\n",
        "1261 15.0 [  5.67546473e-09   9.99999950e-01   5.51525820e-09   3.46331075e-08\n",
        "   4.24811091e-09] [  1.18937396e-35   1.30667129e-37   1.74678192e-38   6.49725548e-34\n",
        "   8.94617014e-39] [ 0.  0.  0.  0.  0.] [1264 1261 1107 1077  956] 0.20082868994\n",
        "\n",
        "frame 803 from 1261\n",
        "1262 16.0 [  9.99999991e-01   2.16488999e-09   2.08718298e-09   1.70037348e-09\n",
        "   2.59056946e-09] [  3.34887243e-36   4.92083384e-39   9.42912627e-40   1.03173956e-40\n",
        "   2.84804198e-37] [ 0.  0.  0.  0.  0.] [1262 1108 1266  960  959] 0.790723526375\n",
        "\n",
        "frame 804 from 1262\n",
        "1263 17.0 [  4.60486553e-08   9.99999928e-01   7.50963167e-09   6.21679177e-09\n",
        "   6.28160699e-09   6.35866089e-09] [  4.45052578e-34   8.11972215e-35   1.77685498e-38   1.13500407e-39\n",
        "   1.03173956e-40   2.84804198e-37] [ 0.  0.  0.  0.  0.  0.] [ 932 1263 1267  961  960  959] 0.388145900125\n",
        "\n",
        "frame 805 from 1263\n",
        "1264 18.0 [  1.81673129e-08   9.99999711e-01   1.84109127e-08   1.76385051e-07\n",
        "   1.83500952e-08   1.43383780e-08   1.55123232e-08   1.34533874e-08\n",
        "   1.40355747e-08] [  4.18123441e-34   1.18937396e-35   1.77382235e-37   2.35626372e-32\n",
        "   1.30067309e-37   8.40924099e-37   2.84489346e-37   1.13500407e-39\n",
        "   2.84804198e-37] [ 0.  0.  0.  0.  0.  0.  0.  0.  0.] [ 970 1264 1135 1078 1165  945 1268  961  959] 0.856409643636\n",
        "\n",
        "frame 806 from 1264\n",
        "1265 19.0 [  2.20405879e-07   9.99999649e-01   2.80949893e-08   3.13238127e-08\n",
        "   2.76743091e-08   2.23339513e-08   2.14003531e-08] [  8.16898499e-33   4.45709432e-41   4.12621785e-36   1.46535941e-34\n",
        "   2.26943938e-36   1.61511386e-35   3.47330509e-38] [ 0.  0.  0.  0.  0.  0.  0.] [ 971 1265 1166 1167 1260  946 1269] 0.982761364985\n",
        "\n",
        "frame 807 from 1265\n",
        "1266 20.0 [ 1.] [  9.42912627e-40] [ 0.] [1266] 0.177685799158\n",
        "\n",
        "frame 808 from 1266\n",
        "1267 21.0 [  9.99999590e-01   1.31694141e-07   6.26660425e-08   2.15162169e-07] [  1.77685498e-38   1.30667129e-37   1.74678192e-38   2.75946392e-37] [ 0.  0.  0.  0.] [1267 1261 1107 1168] 0.369126110955\n",
        "\n",
        "frame 809 from 1267\n",
        "1268 22.0 [  9.99999496e-01   3.80237802e-07   6.68123392e-08   5.70749381e-08] [  2.84489346e-37   3.34887243e-36   4.92083384e-39   1.03173956e-40] [ 0.  0.  0.  0.] [1268 1262 1108  960] 0.435100720248\n",
        "\n",
        "frame 810 from 1268\n",
        "1269 23.0 [  9.99999325e-01   5.76549570e-07   9.80890892e-08] [  3.47330509e-38   8.11972215e-35   1.13500407e-39] [ 0.  0.  0.] [1269 1263  961] 0.864044198325\n",
        "\n",
        "frame 811 from 1269\n",
        "1270 24.0 [  9.99998430e-01   1.61264950e-07   1.12758532e-06   1.46157309e-07\n",
        "   1.34992920e-07] [  1.54138480e-42   2.84539515e-39   1.18937396e-35   1.06758716e-41\n",
        "   1.13500407e-39] [ 0.  0.  0.  0.  0.] [1270  934 1264  962  961] 0.73147258844\n",
        "\n",
        "frame 812 from 1270\n",
        "jump 965 1.0 [ 0.08114167  0.07880436  0.27166606  0.10680153  0.3529812   0.10860518] [  3.64925667e-42   1.06758716e-41   3.32364455e-40   3.46066330e-41\n",
        "   4.81378102e-40   4.06318973e-41] [ 0.  0.  0.  0.  0.  0.] [963 962 935 936 965 964] 0.737192817193\n",
        "\n",
        "frame 813 from 965\n",
        "966 2.0 [  1.00000000e+00   5.32559495e-12   3.24108778e-12] [  6.16246520e-39   5.03114221e-40   1.54138480e-42] [ 0.  0.  0.] [ 966  937 1270] 0.204199465296\n",
        "\n",
        "frame 814 from 966\n",
        "967 3.0 [  1.00000000e+00   3.21962714e-11   1.19110389e-11] [  8.61438703e-38   1.07889269e-37   7.53522356e-39] [ 0.  0.  0.] [967 939 938] 0.709119832666\n",
        "\n",
        "frame 815 from 967\n",
        "968 4.0 [  1.00000000e+00   4.96020516e-11   2.25314205e-11   1.45017864e-11] [  1.33413573e-36   1.42892419e-36   3.04845621e-37   7.53522356e-39] [ 0.  0.  0.  0.] [968 940 941 938] 0.360082416882\n",
        "\n",
        "frame 816 from 968\n",
        "969 5.0 [  1.00000000e+00   2.09225604e-11] [  2.28209743e-35   5.50790229e-38] [ 0.  0.] [969 942] 0.0112040473242\n",
        "\n",
        "frame 817 from 969\n",
        "970 6.0 [  1.00000000e+00   9.77776685e-11] [  4.18123441e-34   3.04805850e-34] [ 0.  0.] [970 947] 0.277910929002\n",
        "\n",
        "frame 818 from 970\n",
        "971 7.0 [  3.58067035e-11   1.00000000e+00   1.58555597e-10   4.97647312e-11\n",
        "   4.80648275e-11] [  2.71978093e-36   8.16898499e-33   5.53349236e-33   8.11972215e-35\n",
        "   1.61511386e-35] [ 0.  0.  0.  0.  0.] [ 930  971  948 1263  946] 0.710565389423\n",
        "\n",
        "frame 819 from 971\n",
        "972 8.0 [  3.42793797e-11   3.80884661e-11   1.00000000e+00   5.04371704e-11\n",
        "   9.41236614e-11   6.00941990e-11   4.93016079e-11] [  2.71978093e-36   3.87299134e-35   1.67180360e-31   1.18937396e-35\n",
        "   2.35626372e-32   5.53349236e-33   3.04805850e-34] [ 0.  0.  0.  0.  0.  0.  0.] [ 930  931  972 1264 1078  948  947] 0.738924614308\n",
        "\n",
        "frame 820 from 972\n",
        "973 9.0 [  5.97204220e-11   6.00696297e-11   6.62041107e-11   9.99999999e-01\n",
        "   2.04378034e-10   8.60062697e-11   8.04774412e-11] [  5.40207395e-34   3.87299134e-35   4.45052578e-34   3.48396816e-30\n",
        "   8.40845988e-31   1.46535941e-34   5.53349236e-33] [ 0.  0.  0.  0.  0.  0.  0.] [ 891  931  932  973 1079 1167  948] 0.907157211987\n",
        "\n",
        "frame 821 from 973\n",
        "974 10.0 [  3.89858080e-10   9.99999993e-01   6.85059193e-10   4.43473647e-09\n",
        "   5.52886963e-10   4.47638607e-10   4.79619085e-10] [  8.86736793e-33   1.17823609e-36   2.91437084e-29   9.15925839e-28\n",
        "   3.96366986e-33   5.53349236e-33   9.49188071e-32] [ 0.  0.  0.  0.  0.  0.  0.] [ 892  974 1080 1081 1034  948  949] 0.409747901658\n",
        "\n",
        "frame 822 from 974\n",
        "975 11.0 [  9.99999995e-01   8.98773540e-10   4.25999781e-09] [  2.07485909e-37   1.45360735e-39   3.03385241e-34] [ 0.  0.  0.] [ 975 1035 1170] 0.667586956122\n",
        "\n",
        "frame 823 from 975\n",
        "976 12.0 [  9.99999989e-01   1.45343176e-09   1.42855884e-09   8.22753687e-09] [  5.29537829e-40   4.19960144e-39   2.03752368e-40   5.03274294e-35] [ 0.  0.  0.  0.] [ 976 1036 1225 1224] 0.532472072853\n",
        "\n",
        "frame 824 from 976\n",
        "977 13.0 [  9.99999982e-01   1.30508450e-08   2.27819722e-09   2.26392006e-09] [  3.13043271e-45   1.09781875e-37   5.25288491e-43   5.43414608e-43] [ 0.  0.  0.  0.] [ 977 1037 1003 1238] 0.841222213078\n",
        "\n",
        "frame 825 from 977\n",
        "978 14.0 [  9.99999979e-01   2.96121065e-09   9.32596991e-09   8.99561273e-09] [  7.55758587e-44   1.78713071e-45   4.23929051e-43   4.02495152e-43] [ 0.  0.  0.  0.] [ 978 1004 1038 1239] 0.82497332571\n",
        "\n",
        "frame 826 from 978\n",
        "979 15.0 [  9.99999968e-01   2.66800220e-08   5.73417323e-09] [  7.15674474e-46   1.42609078e-41   1.41558141e-45] [ 0.  0.  0.] [ 979 1240 1005] 0.232160399976\n",
        "\n",
        "frame 827 from 979\n",
        "980 16.0 [  9.99999979e-01   2.11551183e-08] [  2.00180790e-44   8.04376850e-44] [ 0.  0.] [ 980 1241] 0.14067621202\n",
        "\n",
        "frame 828 from 980\n",
        "981 17.0 [  9.99999965e-01   3.47021999e-08] [  5.92138952e-43   2.91098449e-42] [ 0.  0.] [ 981 1242] 0.693663437797\n",
        "\n",
        "frame 829 from 981\n",
        "982 18.0 [  9.99999946e-01   5.44127964e-08] [  1.80665729e-41   1.00520741e-40] [ 0.  0.] [ 982 1243]"
       ]
      },
      {
       "output_type": "stream",
       "stream": "stdout",
       "text": [
        " 0.722664356423\n",
        "\n",
        "frame 830 from 982\n",
        "983 19.0 [  9.99999860e-01   1.11543321e-07   2.86624202e-08] [  3.64723321e-40   3.54723578e-39   7.68051185e-41] [ 0.  0.  0.] [ 983 1244 1245] 0.00819552724623\n",
        "\n",
        "frame 831 from 983\n",
        "984 20.0 [  9.99999946e-01   5.35183242e-08] [  1.10034804e-38   8.80215397e-39] [ 0.  0.] [ 984 1017] 0.991369016815\n",
        "\n",
        "frame 832 from 984\n",
        "985 21.0 [  9.99999748e-01   2.52103020e-07] [  4.48874262e-41   2.37418346e-36] [ 0.  0.] [ 985 1248] 0.994960601128\n",
        "\n",
        "frame 833 from 985\n",
        "986 22.0 [  9.99999625e-01   3.74622195e-07] [  5.31032956e-42   8.79515202e-39] [ 0.  0.] [ 986 1059] 0.338906182473\n",
        "\n",
        "frame 834 from 986\n",
        "987 23.0 [  9.99999352e-01   1.22727893e-07   5.25069459e-07] [  1.19741263e-40   1.95659301e-44   1.06997716e-39] [ 0.  0.  0.] [ 987 1060 1064] 0.965385479779\n",
        "\n",
        "frame 835 from 987\n",
        "988 24.0 [  9.99998772e-01   1.01336346e-06   2.14511529e-07] [  6.60844525e-47   2.42696173e-38   4.20690147e-43] [ 0.  0.  0.] [ 988 1065 1061] 0.0534695782465\n",
        "\n",
        "frame 836 from 988\n",
        "989 25.0 [  9.99998220e-01   1.46896733e-06   3.11029142e-07] [  3.96543542e-48   1.49386407e-44   1.74592021e-49] [ 0.  0.  0.] [ 989 1237 1185] 0.75027500213\n",
        "\n",
        "frame 837 from 989\n",
        "990 26.0 [  9.99999820e-01   1.80104405e-07] [  9.47631402e-47   2.39112461e-49] [ 0.  0.] [ 990 1186] 0.291011631949\n",
        "\n",
        "frame 838 from 990\n",
        "991 27.0 [  9.99999735e-01   2.65267702e-07] [  2.39964239e-45   6.02174208e-48] [ 0.  0.] [ 991 1187] 0.144651957623\n",
        "\n",
        "frame 839 from 991\n",
        "992 28.0 [  9.99996358e-01   3.64209362e-06] [  8.34063819e-48   5.25288491e-43] [ 0.  0.] [ 992 1003] 0.968971759163\n",
        "\n",
        "frame 840 from 992\n",
        "993 29.0 [  9.99995181e-01   4.81905561e-06] [  7.76113531e-47   1.78713071e-45] [ 0.  0.] [ 993 1004] 0.82462107401\n",
        "\n",
        "frame 841 from 993\n",
        "994 30.0 [  9.99997924e-01   2.07617782e-06] [  2.33742836e-45   1.41558141e-45] [ 0.  0.] [ 994 1005] 0.204299179263\n",
        "\n",
        "frame 842 from 994\n",
        "995 31.0 [  9.99998787e-01   1.21344228e-06] [  7.47410430e-44   9.52656456e-46] [ 0.  0.] [ 995 1006] 0.685609844367\n",
        "\n",
        "frame 843 from 995\n",
        "996 32.0 [  9.99998311e-01   1.68900692e-06] [  2.63000967e-42   2.03998731e-46] [ 0.  0.] [ 996 1009] 0.990261533052\n",
        "\n",
        "frame 844 from 996\n",
        "997 33.0 [  9.99997614e-01   2.38618287e-06] [  9.62168416e-41   8.41325948e-45] [ 0.  0.] [ 997 1010] 0.656432064625\n",
        "\n",
        "frame 845 from 997\n",
        "998 34.0 [  9.99996723e-01   3.27703264e-06] [  3.38007855e-39   3.41256991e-43] [ 0.  0.] [ 998 1011] 0.754422420431\n",
        "\n",
        "frame 846 from 998\n",
        "999 35.0 [  9.99967657e-01   3.23433322e-05] [  1.14215766e-37   8.31179652e-37] [ 0.  0.] [ 999 1233] 0.581955134893\n",
        "\n",
        "frame 847 from 999\n",
        "1000 36.0 [  9.99941500e-01   5.84999300e-05] [  8.57420652e-41   2.97296617e-35] [ 0.  0.] [1000 1234] 0.0100425058941\n",
        "\n",
        "frame 848 from 1000\n",
        "1001 37.0 [  9.99919293e-01   8.07068221e-05] [  1.89869927e-42   2.25399743e-38] [ 0.  0.] [1001 1235] 0.293804124127\n",
        "\n",
        "frame 849 from 1001\n",
        "1002 38.0 [ 1.] [  6.36707885e-41] [ 0.] [1002] 0.98016628477\n",
        "\n",
        "frame 850 from 1002\n",
        "1003 39.0 [  9.99851622e-01   1.48378125e-04] [  5.25288491e-43   2.25399743e-38] [ 0.  0.] [1003 1235] 0.249085289422\n",
        "\n",
        "frame 851 from 1003\n",
        "1004 40.0 [  3.52662903e-04   9.99480023e-01   5.83548099e-05   5.64510572e-05\n",
        "   5.25087237e-05] [  5.29537829e-40   1.78713071e-45   1.49386407e-44   2.34041214e-45\n",
        "   2.39964239e-45] [ 0.  0.  0.  0.  0.] [ 976 1004 1237 1236  991] 0.783013981234\n",
        "\n",
        "frame 852 from 1004\n",
        "1005 41.0 [  6.59696453e-05   4.70253676e-04   9.99306776e-01   8.49152505e-05\n",
        "   7.20850632e-05] [  3.13043271e-45   5.43414608e-43   1.41558141e-45   1.49386407e-44\n",
        "   8.34063819e-48] [ 0.  0.  0.  0.  0.] [ 977 1238 1005 1237  992] 0.0429743442471\n",
        "\n",
        "frame 853 from 1005\n",
        "1006 42.0 [  4.98084419e-04   1.44169292e-04   9.99257195e-01   1.00551243e-04] [  5.43414608e-43   7.55758587e-44   9.52656456e-46   7.76113531e-47] [ 0.  0.  0.  0.] [1238  978 1006  993] 0.45556795446\n",
        "\n",
        "frame 854 from 1006\n",
        "1007 43.0 [  6.23193220e-04   9.99237973e-01   1.38833971e-04] [  4.02495152e-43   1.26767209e-49   2.33742836e-45] [ 0.  0.  0.] [1239 1007  994] 0.953512062687\n",
        "\n",
        "frame 855 from 1007\n",
        "1008 44.0 [ 1.] [  5.01485644e-48] [ 0.] [1008] 0.311991195542\n",
        "\n",
        "frame 856 from 1008\n",
        "1009 45.0 [ 1.] [  2.03998731e-46] [ 0.] [1009] 0.820380265574\n",
        "\n",
        "frame 857 from 1009\n",
        "1010 46.0 [  9.99072479e-01   9.27520917e-04] [  8.41325948e-45   7.47410430e-44] [ 0.  0.] [1010  995] 0.371104395428\n",
        "\n",
        "frame 858 from 1010\n",
        "1011 47.0 [ 0.99879375  0.00120625] [  3.41256991e-43   2.63000967e-42] [ 0.  0.] [1011  996] 0.904996056867\n",
        "\n",
        "frame 859 from 1011\n",
        "1012 48.0 [ 0.00205667  0.99794333] [  9.62168416e-41   1.60757361e-46] [ 0.  0.] [ 997 1012] 0.908964753241\n",
        "\n",
        "frame 860 from 1012\n",
        "1013 49.0 [ 1.] [  6.30837410e-45] [ 0.] [1013] 0.177825774574\n",
        "\n",
        "frame 861 from 1013\n",
        "1014 50.0 [ 1.] [  2.41389489e-43] [ 0.] [1014] 0.198854106723\n",
        "\n",
        "frame 862 from 1014\n",
        "1015 51.0 [ 1.] [  8.60425361e-42] [ 0.] [1015] 0.732187265964\n",
        "\n",
        "frame 863 from 1015\n",
        "1016 52.0 [ 0.00138083  0.005176    0.99344317] [  7.68051185e-41   2.31763578e-39   2.75076462e-40] [ 0.  0.  0.] [1245 1246 1016] 0.722077466293\n",
        "\n",
        "frame 864 from 1016\n",
        "1017 53.0 [ 0.00170208  0.99176303  0.00653489] [  2.31763578e-39   8.80215397e-39   7.58015517e-38] [ 0.  0.  0.] [1246 1017 1247] 0.416182015692\n",
        "\n",
        "frame 865 from 1017\n",
        "1018 54.0 [ 0.00182509  0.98658655  0.00206115  0.00952721] [  3.64723321e-40   2.50000364e-37   7.58015517e-38   2.37418346e-36] [ 0.  0.  0.  0.] [ 983 1018 1247 1248] 0.632331773343\n",
        "\n",
        "frame 866 from 1018\n",
        "1019 55.0 [ 0.00265651  0.98681277  0.01053072] [  2.37418346e-36   6.16574353e-36   6.73772445e-35] [ 0.  0.  0.] [1248 1019 1249] 0.799739172411\n",
        "\n",
        "frame 867 from 1019\n",
        "1020 56.0 [ 0.00336272  0.9833045   0.01333278] [  6.73772445e-35   1.34424807e-34   1.69891944e-33] [ 0.  0.  0.] [1249 1020 1250] 0.177636780102\n",
        "\n",
        "frame 868 from 1020\n",
        "1021 57.0 [ 0.01654294  0.98345706] [  3.88370740e-32   2.19917003e-44] [ 0.  0.] [1251 1021] 0.807100180921\n",
        "\n",
        "frame 869 from 1021\n",
        "1022 58.0 [ 0.01766061  0.98233939] [  6.28557100e-42   4.59831787e-43] [ 0.  0.] [1252 1022] 0.0245507631873\n",
        "\n",
        "frame 870 from 1022\n",
        "1023 59.0 [ 0.0221179  0.9778821] [  1.34974413e-40   8.65568430e-42] [ 0.  0.] [1253 1023] 0.325056815245\n",
        "\n",
        "frame 871 from 1023\n",
        "1024 60.0 [ 0.030712  0.969288] [  2.87715312e-39   1.21605405e-47] [ 0.  0.] [1254 1024] 0.147418785406\n",
        "\n",
        "frame 872 from 1024\n",
        "1025 61.0 [ 1.] [  2.90476189e-46] [ 0.] [1025] 0.558632319737\n",
        "\n",
        "frame 873 from 1025\n",
        "1026 62.0 [ 1.] [  7.27015993e-45] [ 0.] [1026] 0.808619993012\n",
        "\n",
        "frame 874 from 1026\n",
        "1027 63.0 [ 1.] [  1.97211395e-43] [ 0.] [1027] 0.0300167639352\n",
        "\n",
        "frame 875 from 1027\n",
        "1028 64.0 [ 1.] [  5.91799045e-42] [ 0.] [1028] 0.7153538551\n",
        "\n",
        "frame 876 from 1028\n",
        "1029 65.0 [ 1.] [  1.87486470e-40] [ 0.] [1029] 0.437329216616\n",
        "\n",
        "frame 877 from 1029\n",
        "1030 66.0 [ 0.84873361  0.05604859  0.07131612  0.02390169] [  5.92970654e-39   3.41899318e-38   4.96214229e-38   2.31763578e-39] [ 0.  0.  0.  0.] [1030 1256 1255 1246] 0.606091575034\n",
        "\n",
        "frame 878 from 1030\n",
        "1031 67.0 [ 0.97023502  0.01164954  0.01811544] [  1.82092135e-37   1.18251598e-40   3.41899318e-38] [ 0.  0.  0.] [1031 1257 1256] 0.678761725238\n",
        "\n",
        "frame 879 from 1031\n",
        "1032 68.0 [ 0.98492214  0.01507786] [  5.41184281e-36   2.86071179e-39] [ 0.  0.] [1032 1258] 0.872062950725\n",
        "\n",
        "frame 880 from 1032\n",
        "1033 69.0 [ 1.] [  1.52351097e-34] [ 0.] [1033] 0.368563124129\n",
        "\n",
        "frame 881 from 1033\n",
        "1034 70.0 [ 1.] [  3.96366986e-33] [ 0.] [1034]"
       ]
      },
      {
       "output_type": "stream",
       "stream": "stdout",
       "text": [
        " 0.508536501843\n",
        "\n",
        "frame 882 from 1034\n",
        "1035 71.0 [ 0.18735137  0.81264863] [  3.48396816e-30   1.45360735e-39] [ 0.  0.] [ 973 1035] 0.438245539223\n",
        "\n",
        "frame 883 from 1035\n",
        "1036 72.0 [ 0.21367473  0.78632527] [  1.17823609e-36   4.19960144e-39] [ 0.  0.] [ 974 1036] 0.776033924874\n",
        "\n",
        "frame 884 from 1036\n",
        "1037 73.0 [ 0.13742569  0.86257431] [  2.07485909e-37   1.09781875e-37] [ 0.  0.] [ 975 1037] 0.573485417436\n",
        "\n",
        "frame 885 from 1037\n",
        "1038 74.0 [ 0.31148311  0.06125155  0.62726534] [  5.03274294e-35   5.29537829e-40   4.23929051e-43] [ 0.  0.  0.] [1224  976 1038] 0.744384975385\n",
        "\n",
        "frame 886 from 1038\n",
        "jump 1225 1.0 [ 0.34237962  0.06783252  0.58978786] [  2.03752368e-40   3.13043271e-45   5.67210406e-48] [ 0.  0.  0.] [1225  977 1039] 0.258768340145\n",
        "\n",
        "frame 887 from 1225\n",
        "1226 2.0 [  5.97193719e-11   1.00000000e+00   1.45287489e-11] [  2.07485909e-37   2.58191021e-45   4.23929051e-43] [ 0.  0.  0.] [ 975 1226 1038] 0.579161552248\n",
        "\n",
        "frame 888 from 1226\n",
        "1227 3.0 [  6.55836940e-11   1.00000000e+00   1.96907554e-11   5.45309178e-11] [  5.43414608e-43   7.36187756e-44   5.67210406e-48   4.02495152e-43] [ 0.  0.  0.  0.] [1238 1227 1039 1239] 0.688463156046\n",
        "\n",
        "frame 889 from 1227\n",
        "1228 4.0 [  1.00000000e+00   3.99698425e-11   1.78713601e-10] [  1.58006758e-44   1.51368243e-46   1.42609078e-41] [ 0.  0.  0.] [1228 1040 1240] 0.388802659865\n",
        "\n",
        "frame 890 from 1228\n",
        "1229 5.0 [  6.51386987e-11   1.00000000e+00   4.58281558e-11   2.24975400e-10\n",
        "   4.91495565e-11] [  4.02495152e-43   5.02401334e-43   2.65246370e-46   2.91098449e-42\n",
        "   8.04376850e-44] [ 0.  0.  0.  0.  0.] [1239 1229 1041 1242 1241] 0.458260336616\n",
        "\n",
        "frame 891 from 1229\n",
        "1230 6.0 [  1.09409022e-10   6.82506965e-11   9.99999999e-01   7.49854501e-11\n",
        "   3.70822799e-10] [  1.42609078e-41   8.04376850e-44   1.69296823e-41   7.67266972e-45\n",
        "   1.00520741e-40] [ 0.  0.  0.  0.  0.] [1240 1241 1230 1042 1243] 0.612454767365\n",
        "\n",
        "frame 892 from 1230\n",
        "1231 7.0 [  4.54765892e-11   1.00000000e+00   5.10630883e-11   8.56070244e-11] [  8.04376850e-44   6.15389316e-40   2.86570861e-43   1.23041013e-40] [ 0.  0.  0.  0.] [1241 1231 1043 1192] 0.189008565065\n",
        "\n",
        "frame 893 from 1231\n",
        "1232 8.0 [  1.00000000e+00   8.66208563e-11   1.28820094e-10   1.38978050e-10] [  2.25324387e-38   1.07692164e-41   3.54723578e-39   4.41608297e-39] [ 0.  0.  0.  0.] [1232 1044 1244 1193] 0.34750637036\n",
        "\n",
        "frame 894 from 1232\n",
        "1233 9.0 [  1.00000000e+00   1.25278382e-10   1.21490223e-10   2.09642003e-10] [  8.31179652e-37   2.12883363e-40   7.68051185e-41   1.58450194e-37] [ 0.  0.  0.  0.] [1233 1045 1245 1194] 0.379704814234\n",
        "\n",
        "frame 895 from 1233\n",
        "1234 10.0 [  9.99999999e-01   1.99686460e-10   3.31459894e-10   1.77999228e-10] [  2.97296617e-35   6.38847726e-39   5.65192086e-36   3.38007855e-39] [ 0.  0.  0.  0.] [1234 1046 1195  998] 0.785226346318\n",
        "\n",
        "frame 896 from 1234\n",
        "1235 11.0 [  9.99999990e-01   1.07721182e-09   1.22564917e-09   6.65258173e-09\n",
        "   9.68064919e-10] [  2.25399743e-38   1.71960946e-37   1.96814740e-34   6.74080375e-33\n",
        "   1.14215766e-37] [ 0.  0.  0.  0.  0.] [1235 1047 1196 1197  999] 0.107546675505\n",
        "\n",
        "frame 897 from 1235\n",
        "1236 12.0 [  9.99999988e-01   1.54702870e-09   1.63141984e-09   8.95083633e-09] [  2.34041214e-45   8.57420652e-41   6.36707885e-41   5.86969621e-36] [ 0.  0.  0.  0.] [1236 1000 1002 1048] 0.388141501533\n",
        "\n",
        "frame 898 from 1236\n",
        "1237 13.0 [  9.99999991e-01   8.55067371e-09] [  1.49386407e-44   5.25288491e-43] [ 0.  0.] [1237 1003] 0.357211871742\n",
        "\n",
        "frame 899 from 1237\n",
        "1238 14.0 [  9.99999996e-01   1.16714138e-09   1.74323944e-09   9.82620369e-10] [  5.43414608e-43   1.78713071e-45   8.04376850e-44   6.60844525e-47] [ 0.  0.  0.  0.] [1238 1004 1241  988] 0.721962086793\n",
        "\n",
        "frame 900 from 1238\n",
        "1239 15.0 [  3.66124454e-08   9.99999945e-01   6.02451170e-09   5.92380132e-09\n",
        "   6.08467246e-09] [  5.29537829e-40   4.02495152e-43   1.41558141e-45   2.58191021e-45\n",
        "   2.91098449e-42] [ 0.  0.  0.  0.  0.] [ 976 1239 1005 1226 1242] 0.794795525813\n",
        "\n",
        "frame 901 from 1239\n",
        "1240 16.0 [  4.18137388e-08   6.31741765e-09   7.08880155e-09   9.99999905e-01\n",
        "   2.49526999e-08   7.63675073e-09   7.58306308e-09] [  2.03752368e-40   3.13043271e-45   2.58191021e-45   1.42609078e-41\n",
        "   1.00520741e-40   1.58006758e-44   9.52656456e-46] [ 0.  0.  0.  0.  0.  0.  0.] [1225  977 1226 1240 1243 1228 1006] 0.826165032077\n",
        "\n",
        "frame 902 from 1240\n",
        "1241 17.0 [  1.27137846e-08   1.20649511e-08   1.29149055e-08   9.99999846e-01\n",
        "   1.01953472e-07   1.40957144e-08] [  2.58191021e-45   7.55758587e-44   7.36187756e-44   8.04376850e-44\n",
        "   3.54723578e-39   2.00180790e-44] [ 0.  0.  0.  0.  0.  0.] [1226  978 1227 1241 1244  980] 0.943354928321\n",
        "\n",
        "frame 903 from 1241\n",
        "1242 18.0 [  1.13608904e-08   9.99999816e-01   1.08553193e-08   1.10438177e-08\n",
        "   1.05594779e-08   9.95509560e-08   1.49586437e-08   1.44863875e-08\n",
        "   1.16139088e-08] [  1.49386407e-44   2.91098449e-42   7.36187756e-44   1.58006758e-44\n",
        "   7.15674474e-46   1.69296823e-41   5.92138952e-43   5.02401334e-43\n",
        "   2.65246370e-46] [ 0.  0.  0.  0.  0.  0.  0.  0.  0.] [1237 1242 1227 1228  979 1230  981 1229 1041] 0.844139721321\n",
        "\n",
        "frame 904 from 1242\n",
        "1243 19.0 [  2.02210673e-08   9.99999742e-01   1.32211643e-07   4.33020940e-08\n",
        "   2.41617257e-08   1.89432409e-08   1.94404743e-08] [  5.43414608e-43   1.00520741e-40   6.15389316e-40   1.23041013e-40\n",
        "   1.80665729e-41   1.58006758e-44   2.00180790e-44] [ 0.  0.  0.  0.  0.  0.  0.] [1238 1243 1231 1192  982 1228  980] 0.362799127575\n",
        "\n",
        "frame 905 from 1243\n",
        "1244 20.0 [  2.91042142e-08   9.99999572e-01   2.16753360e-07   6.67615383e-08\n",
        "   3.03134783e-08   2.90475355e-08   2.78363443e-08   2.82320299e-08] [  4.02495152e-43   3.54723578e-39   2.25324387e-38   4.41608297e-39\n",
        "   2.86570861e-43   1.69296823e-41   5.02401334e-43   5.92138952e-43] [ 0.  0.  0.  0.  0.  0.  0.  0.] [1239 1244 1232 1193 1043 1230 1229  981] 0.955510698292\n",
        "\n",
        "frame 906 from 1244\n",
        "1245 21.0 [  7.06698197e-08   7.10821761e-08   9.99999023e-01   6.18623858e-07\n",
        "   7.37559349e-08   7.20904292e-08   7.03706555e-08] [  4.02495152e-43   1.42609078e-41   7.68051185e-41   8.31179652e-37\n",
        "   1.07692164e-41   6.15389316e-40   1.80665729e-41] [ 0.  0.  0.  0.  0.  0.  0.] [1239 1240 1245 1233 1044 1231  982] 0.243051972647\n",
        "\n",
        "frame 907 from 1245\n",
        "1246 22.0 [  8.32615884e-08   3.65980872e-07   9.99999551e-01] [  1.80665729e-41   2.25324387e-38   2.31763578e-39] [ 0.  0.  0.] [ 982 1232 1246] 0.582669386514\n",
        "\n",
        "frame 908 from 1246\n",
        "1247 23.0 [  9.99999903e-01   4.85897056e-08   4.85018367e-08] [  7.58015517e-38   8.60425361e-42   1.87486470e-40] [ 0.  0.  0.] [1247 1015 1029] 0.245949023691\n",
        "\n",
        "frame 909 from 1247\n",
        "1248 24.0 [  9.99999821e-01   6.07656273e-08   5.89733891e-08   5.89572757e-08] [  2.37418346e-36   2.75076462e-40   3.01205671e-40   2.12883363e-40] [ 0.  0.  0.  0.] [1248 1016 1058 1045] 0.296461461201\n",
        "\n",
        "frame 910 from 1248\n",
        "1249 25.0 [  7.19601465e-08   9.99999702e-01   7.77592643e-08   7.45857926e-08\n",
        "   7.35673184e-08] [  1.10034804e-38   6.73772445e-35   8.80215397e-39   8.79515202e-39\n",
        "   6.38847726e-39] [ 0.  0.  0.  0.  0.] [ 984 1249 1017 1059 1046] 0.76189430543\n",
        "\n",
        "frame 911 from 1249\n",
        "1250 26.0 [  9.99999810e-01   1.89995264e-07] [  1.69891944e-33   2.50000364e-37] [ 0.  0.] [1250 1018] 0.364947801805\n",
        "\n",
        "frame 912 from 1250\n",
        "1251 27.0 [  9.99995981e-01   4.68776006e-07   4.63521530e-07   2.63471156e-06\n",
        "   4.52430746e-07] [  3.88370740e-32   6.16574353e-36   4.59544233e-36   2.14605119e-31\n",
        "   5.86969621e-36] [ 0.  0.  0.  0.  0.] [1251 1019 1049 1198 1048] 0.392054083222\n",
        "\n",
        "frame 913 from 1251\n",
        "1252 28.0 [  9.99992253e-01   1.03606275e-06   1.02789084e-06   5.68318395e-06] [  6.28557100e-42   1.34424807e-34   9.98395104e-35   6.39875552e-30] [ 0.  0.  0.  0.] [1252 1020 1050 1199] 0.0872498790049\n",
        "\n",
        "frame 914 from 1252\n",
        "1253 29.0 [  9.99998861e-01   3.84872803e-07   3.87696253e-07   3.66194823e-07] [  1.34974413e-40   2.19917003e-44   4.97589085e-43   1.56118015e-44] [ 0.  0.  0.  0.] [1253 1021 1051 1154] 0.975344426404\n",
        "\n",
        "frame 915 from 1253\n",
        "1254 30.0 [  9.99989582e-01   1.50529606e-06   1.48771980e-06   7.42544681e-06] [  2.87715312e-39   4.59831787e-43   3.69790838e-43   1.88794852e-38] [ 0.  0.  0.  0.] [1254 1022 1052 1144] 0.985298532107\n",
        "\n",
        "frame 916 from 1254\n",
        "1255 31.0 [  9.99983438e-01   2.29945033e-06   1.19976211e-05   2.26500544e-06] [  4.96214229e-38   8.65568430e-42   5.05345958e-37   8.01008674e-42] [ 0.  0.  0.  0.] [1255 1023 1145 1053] 0.23118434941\n",
        "\n",
        "frame 917 from 1255\n",
        "1256 32.0 [  9.99969294e-01   1.41064719e-05   1.26417272e-05   3.95748328e-06] [  3.41899318e-38   8.88187287e-36   7.59736179e-36   1.87486470e-40] [ 0.  0.  0.  0.] [1256 1146 1147 1029] 0.728125083056\n",
        "\n",
        "frame 918 from 1256\n",
        "1257 33.0 [  9.99967772e-01   2.65616608e-05   5.66587964e-06] [  1.18251598e-40   6.42032570e-36   5.92970654e-39] [ 0.  0.  0.] [1257 1148 1030] 0.414657968345\n",
        "\n",
        "frame 919 from 1257\n",
        "1258 34.0 [  9.99969864e-01   5.91420710e-06   2.42215295e-05] [  2.86071179e-39   6.43421212e-42   1.52929659e-38] [ 0.  0.  0.] [1258 1149 1074] 0.134218100863\n",
        "\n",
        "frame 920 from 1258\n",
        "1259 35.0 [  9.99923628e-01   8.42777128e-06   8.66382377e-06   3.95772285e-05\n",
        "   1.97030621e-05] [  7.73615421e-38   5.10124306e-42   3.91996686e-39   5.02155974e-37\n",
        "   1.82092135e-37] [ 0.  0.  0.  0.  0.] [1259 1104 1164 1075 1031] 0.666463752865\n",
        "\n",
        "frame 921 from 1259\n",
        "1260 36.0 [  9.99915204e-01   6.09912087e-05   1.19027620e-05   1.19021455e-05] [  2.26943938e-36   1.77024698e-35   1.47824111e-40   4.96055534e-39] [ 0.  0.  0.  0.] [1260 1076 1105 1106] 0.884407840163\n",
        "\n",
        "frame 922 from 1260\n",
        "1261 37.0 [  2.17201691e-05   9.99808373e-01   2.11070540e-05   1.32541913e-04\n",
        "   1.62576444e-05] [  1.18937396e-35   1.30667129e-37   1.74678192e-38   6.49725548e-34\n",
        "   8.94617014e-39] [ 0.  0.  0.  0.  0.] [1264 1261 1107 1077  956] 0.618211849107\n",
        "\n",
        "frame 923 from 1261\n",
        "1262 38.0 [  9.99970706e-01   7.42337666e-06   7.15692043e-06   5.83055622e-06\n",
        "   8.88302544e-06] [  3.34887243e-36   4.92083384e-39   9.42912627e-40   1.03173956e-40\n",
        "   2.84804198e-37] [ 0.  0.  0.  0.  0.] [1262 1108 1266  960  959] 0.708887375667\n",
        "\n",
        "frame 924 from 1262\n",
        "1263 39.0 [  1.41427605e-04   9.99777593e-01   2.30640659e-05   1.90934125e-05\n",
        "   1.92924772e-05   1.95291301e-05] [  4.45052578e-34   8.11972215e-35   1.77685498e-38   1.13500407e-39\n",
        "   1.03173956e-40   2.84804198e-37] [ 0.  0.  0.  0.  0.  0.] [ 932 1263 1267  961  960  959] 0.603142934783\n",
        "\n",
        "frame 925 from 1263\n",
        "1264 40.0 [  4.99571730e-05   9.99206251e-01   5.06270330e-05   4.85030371e-04\n",
        "   5.04597947e-05   3.94282210e-05   4.26563806e-05   3.69946399e-05\n",
        "   3.85955609e-05] [  4.18123441e-34   1.18937396e-35   1.77382235e-37   2.35626372e-32\n",
        "   1.30067309e-37   8.40924099e-37   2.84489346e-37   1.13500407e-39\n",
        "   2.84804198e-37] [ 0.  0.  0.  0.  0.  0.  0.  0.  0.] [ 970 1264 1135 1078 1165  945 1268  961  959] 0.700836161126\n",
        "\n",
        "frame 926 from 1264\n",
        "1265 41.0 [  5.42926321e-04   9.99134806e-01   6.92064535e-05   7.71600216e-05\n",
        "   6.81701908e-05   5.50152750e-05   5.27155403e-05] [  8.16898499e-33   4.45709432e-41   4.12621785e-36   1.46535941e-34\n",
        "   2.26943938e-36   1.61511386e-35   3.47330509e-38] [ 0.  0.  0.  0.  0.  0.  0.] [ 971 1265 1166 1167 1260  946 1269] 0.430741028269\n",
        "\n",
        "frame 927 from 1265\n",
        "1266 42.0 [ 1.] [  9.42912627e-40] [ 0.] [1266] 0.990457500284\n",
        "\n",
        "frame 928 from 1266\n",
        "1267 43.0 [  9.99190312e-01   2.60379394e-04   1.23900320e-04   4.25408411e-04] [  1.77685498e-38   1.30667129e-37   1.74678192e-38   2.75946392e-37] [ 0.  0.  0.  0.] [1267 1261 1107 1168] 0.599172944567\n",
        "\n",
        "frame 929 from 1267\n",
        "1268 44.0 [  9.99107101e-01   6.73471340e-04   1.18336987e-04   1.01090252e-04] [  2.84489346e-37   3.34887243e-36   4.92083384e-39   1.03173956e-40] [ 0.  0.  0.  0.] [1268 1262 1108  960] 0.0586904964595\n",
        "\n",
        "frame 930 from 1268\n",
        "1269 45.0 [  9.98929645e-01   9.14730318e-04   1.55624197e-04] [  3.47330509e-38   8.11972215e-35   1.13500407e-39] [ 0.  0.  0.] [1269 1263  961] 0.491828181424\n",
        "\n",
        "frame 931 from 1269\n",
        "1270 46.0 [  9.97770873e-01   2.28968098e-04   1.60097447e-03   2.07517884e-04\n",
        "   1.91666398e-04] [  1.54138480e-42   2.84539515e-39   1.18937396e-35   1.06758716e-41\n",
        "   1.13500407e-39] [ 0.  0.  0.  0.  0.] [1270  934 1264  962  961] 0.93444526349\n",
        "\n",
        "frame 932 from 1270\n",
        "jump 964 1.0 [ 0.08114167  0.07880436  0.27166606  0.10680153  0.3529812   0.10860518] [  3.64925667e-42   1.06758716e-41   3.32364455e-40   3.46066330e-41\n",
        "   4.81378102e-40   4.06318973e-41] [ 0.  0.  0.  0.  0.  0.] [963 962 935 936 965 964] 0.935306656327\n",
        "\n",
        "frame 933 from 964\n",
        "965 2.0 [  1.00000000e+00   4.94869681e-12   3.47565613e-12] [  4.81378102e-40   3.46066330e-41   1.54138480e-42] [ 0.  0.  0.] [ 965  936 1270] 0.606125250144\n",
        "\n",
        "frame 934 from 965\n",
        "966 3.0 [  1.00000000e+00   8.71481485e-12   5.30372291e-12] [  6.16246520e-39   5.03114221e-40   1.54138480e-42] [ 0.  0.  0.] [ 966  937 1270] 0.340189294769\n",
        "\n",
        "frame 935 from 966\n",
        "967 4.0 [  1.00000000e+00   5.24232738e-11   1.93940362e-11] [  8.61438703e-38   1.07889269e-37   7.53522356e-39] [ 0.  0.  0.] [967 939 938] 0.239960907925\n",
        "\n",
        "frame 936 from 967\n",
        "968 5.0 [  1.00000000e+00   8.03612580e-11   3.65035969e-11   2.34946290e-11] [  1.33413573e-36   1.42892419e-36   3.04845621e-37   7.53522356e-39] [ 0.  0.  0.  0.]"
       ]
      },
      {
       "output_type": "stream",
       "stream": "stdout",
       "text": [
        " [968 940 941 938] 0.742111587671\n",
        "\n",
        "frame 937 from 968\n",
        "969 6.0 [  1.00000000e+00   3.37279888e-11] [  2.28209743e-35   5.50790229e-38] [ 0.  0.] [969 942] 0.0975112792034\n",
        "\n",
        "frame 938 from 969\n",
        "970 7.0 [  1.00000000e+00   1.56835300e-10] [  4.18123441e-34   3.04805850e-34] [ 0.  0.] [970 947] 0.443897792028\n",
        "\n",
        "frame 939 from 970\n",
        "971 8.0 [  5.71474702e-11   1.00000000e+00   2.53054607e-10   7.94244713e-11\n",
        "   7.67114264e-11] [  2.71978093e-36   8.16898499e-33   5.53349236e-33   8.11972215e-35\n",
        "   1.61511386e-35] [ 0.  0.  0.  0.  0.] [ 930  971  948 1263  946] 0.831611999943\n",
        "\n",
        "frame 940 from 971\n",
        "972 9.0 [  5.44369961e-11   6.04859743e-11   9.99999999e-01   8.00962000e-11\n",
        "   1.49472057e-10   9.54319391e-11   7.82928822e-11] [  2.71978093e-36   3.87299134e-35   1.67180360e-31   1.18937396e-35\n",
        "   2.35626372e-32   5.53349236e-33   3.04805850e-34] [ 0.  0.  0.  0.  0.  0.  0.] [ 930  931  972 1264 1078  948  947] 0.872363859651\n",
        "\n",
        "frame 941 from 972\n",
        "973 10.0 [  9.43653584e-11   9.49171479e-11   1.04610356e-10   9.99999999e-01\n",
        "   3.22941563e-10   1.35900119e-10   1.27163913e-10] [  5.40207395e-34   3.87299134e-35   4.45052578e-34   3.48396816e-30\n",
        "   8.40845988e-31   1.46535941e-34   5.53349236e-33] [ 0.  0.  0.  0.  0.  0.  0.] [ 891  931  932  973 1079 1167  948] 0.444357025371\n",
        "\n",
        "frame 942 from 973\n",
        "974 11.0 [  6.12949636e-10   9.99999989e-01   1.07707600e-09   6.97246060e-09\n",
        "   8.69269818e-10   7.03794368e-10   7.54075286e-10] [  8.86736793e-33   1.17823609e-36   2.91437084e-29   9.15925839e-28\n",
        "   3.96366986e-33   5.53349236e-33   9.49188071e-32] [ 0.  0.  0.  0.  0.  0.  0.] [ 892  974 1080 1081 1034  948  949] 0.603451474572\n",
        "\n",
        "frame 943 from 974\n",
        "975 12.0 [  9.99999992e-01   1.40603800e-09   6.66432481e-09] [  2.07485909e-37   1.45360735e-39   3.03385241e-34] [ 0.  0.  0.] [ 975 1035 1170] 0.999475699327\n",
        "\n",
        "frame 944 from 975\n",
        "976 13.0 [  9.99999983e-01   2.26240292e-09   2.22368588e-09   1.28069332e-08] [  5.29537829e-40   4.19960144e-39   2.03752368e-40   5.03274294e-35] [ 0.  0.  0.  0.] [ 976 1036 1225 1224] 0.0726944135139\n",
        "\n",
        "frame 945 from 976\n",
        "977 14.0 [  9.99999973e-01   2.02135440e-08   3.52854086e-09   3.50642795e-09] [  3.13043271e-45   1.09781875e-37   5.25288491e-43   5.43414608e-43] [ 0.  0.  0.  0.] [ 977 1037 1003 1238] 0.598768450962\n",
        "\n",
        "frame 946 from 977\n",
        "978 15.0 [  9.99999967e-01   4.56353790e-09   1.43723032e-08   1.38631879e-08] [  7.55758587e-44   1.78713071e-45   4.23929051e-43   4.02495152e-43] [ 0.  0.  0.  0.] [ 978 1004 1038 1239] 0.933500338375\n",
        "\n",
        "frame 947 from 978\n",
        "979 16.0 [  9.99999950e-01   4.09116569e-08   8.79289110e-09] [  7.15674474e-46   1.42609078e-41   1.41558141e-45] [ 0.  0.  0.] [ 979 1240 1005] 0.173768089346\n",
        "\n",
        "frame 948 from 979\n",
        "980 17.0 [  9.99999968e-01   3.22778705e-08] [  2.00180790e-44   8.04376850e-44] [ 0.  0.] [ 980 1241] 0.71096505764\n",
        "\n",
        "frame 949 from 980\n",
        "981 18.0 [  9.99999947e-01   5.26835402e-08] [  5.92138952e-43   2.91098449e-42] [ 0.  0.] [ 981 1242] 0.15985591443\n",
        "\n",
        "frame 950 from 981\n",
        "982 19.0 [  9.99999918e-01   8.21954004e-08] [  1.80665729e-41   1.00520741e-40] [ 0.  0.] [ 982 1243] 0.945233640687\n",
        "\n",
        "frame 951 from 982\n",
        "983 20.0 [  9.99999789e-01   1.67655788e-07   4.30812048e-08] [  3.64723321e-40   3.54723578e-39   7.68051185e-41] [ 0.  0.  0.] [ 983 1244 1245] 0.207208148321\n",
        "\n",
        "frame 952 from 983\n",
        "984 21.0 [  9.99999920e-01   8.00398082e-08] [  1.10034804e-38   8.80215397e-39] [ 0.  0.] [ 984 1017] 0.0486861849145\n",
        "\n",
        "frame 953 from 984\n",
        "985 22.0 [  9.99999625e-01   3.75154426e-07] [  4.48874262e-41   2.37418346e-36] [ 0.  0.] [ 985 1248] 0.913433198822\n",
        "\n",
        "frame 954 from 985\n",
        "986 23.0 [  9.99999445e-01   5.54694736e-07] [  5.31032956e-42   8.79515202e-39] [ 0.  0.] [ 986 1059] 0.446140171572\n",
        "\n",
        "frame 955 from 986\n",
        "987 24.0 [  9.99999046e-01   1.80814106e-07   7.73580987e-07] [  1.19741263e-40   1.95659301e-44   1.06997716e-39] [ 0.  0.  0.] [ 987 1060 1064] 0.41000460302\n",
        "\n",
        "frame 956 from 987\n",
        "988 25.0 [  9.99998200e-01   1.48553437e-06   3.14461950e-07] [  6.60844525e-47   2.42696173e-38   4.20690147e-43] [ 0.  0.  0.] [ 988 1065 1061] 0.000943743119488\n",
        "\n",
        "frame 957 from 988\n",
        "989 26.0 [  9.99997404e-01   2.14268365e-06   4.53677250e-07] [  3.96543542e-48   1.49386407e-44   1.74592021e-49] [ 0.  0.  0.] [ 989 1237 1185] 0.679598310417\n",
        "\n",
        "frame 958 from 989\n",
        "990 27.0 [  9.99999739e-01   2.61396126e-07] [  9.47631402e-47   2.39112461e-49] [ 0.  0.] [ 990 1186] 0.281395254604\n",
        "\n",
        "frame 959 from 990\n",
        "991 28.0 [  9.99999617e-01   3.83078488e-07] [  2.39964239e-45   6.02174208e-48] [ 0.  0.] [ 991 1187] 0.393519389696\n",
        "\n",
        "frame 960 from 991\n",
        "992 29.0 [  9.99994767e-01   5.23338245e-06] [  8.34063819e-48   5.25288491e-43] [ 0.  0.] [ 992 1003] 0.629085900035\n",
        "\n",
        "frame 961 from 992\n",
        "993 30.0 [  9.99993110e-01   6.89004019e-06] [  7.76113531e-47   1.78713071e-45] [ 0.  0.] [ 993 1004] 0.655824571695\n",
        "\n",
        "frame 962 from 993\n",
        "994 31.0 [  9.99997046e-01   2.95361299e-06] [  2.33742836e-45   1.41558141e-45] [ 0.  0.] [ 994 1005] 0.432583718757\n",
        "\n",
        "frame 963 from 994\n",
        "995 32.0 [  9.99998282e-01   1.71765960e-06] [  7.47410430e-44   9.52656456e-46] [ 0.  0.] [ 995 1006] 0.0689411163692\n",
        "\n",
        "frame 964 from 995\n",
        "996 33.0 [  9.99997621e-01   2.37891098e-06] [  2.63000967e-42   2.03998731e-46] [ 0.  0.] [ 996 1009] 0.528928500375\n",
        "\n",
        "frame 965 from 996\n",
        "997 34.0 [  9.99996656e-01   3.34410078e-06] [  9.62168416e-41   8.41325948e-45] [ 0.  0.] [ 997 1010] 0.616778206806\n",
        "\n",
        "frame 966 from 997\n",
        "998 35.0 [  9.99995430e-01   4.56967603e-06] [  3.38007855e-39   3.41256991e-43] [ 0.  0.] [ 998 1011] 0.675380180112\n",
        "\n",
        "frame 967 from 998\n",
        "999 36.0 [  9.99955124e-01   4.48759752e-05] [  1.14215766e-37   8.31179652e-37] [ 0.  0.] [ 999 1233] 0.429175024782\n",
        "\n",
        "frame 968 from 999\n",
        "1000 37.0 [  9.99919237e-01   8.07625314e-05] [  8.57420652e-41   2.97296617e-35] [ 0.  0.] [1000 1234] 0.471976151172\n",
        "\n",
        "frame 969 from 1000\n",
        "1001 38.0 [  9.99889136e-01   1.10864229e-04] [  1.89869927e-42   2.25399743e-38] [ 0.  0.] [1001 1235] 0.110339346887\n",
        "\n",
        "frame 970 from 1001\n",
        "1002 39.0 [ 1.] [  6.36707885e-41] [ 0.] [1002] 0.823192713353\n",
        "\n",
        "frame 971 from 1002\n",
        "1003 40.0 [  9.99798209e-01   2.01791429e-04] [  5.25288491e-43   2.25399743e-38] [ 0.  0.] [1003 1235] 0.690531308898\n",
        "\n",
        "frame 972 from 1003\n",
        "1004 41.0 [  4.77164448e-04   9.99296453e-01   7.89559674e-05   7.63801277e-05\n",
        "   7.10460215e-05] [  5.29537829e-40   1.78713071e-45   1.49386407e-44   2.34041214e-45\n",
        "   2.39964239e-45] [ 0.  0.  0.  0.  0.] [ 976 1004 1237 1236  991] 0.658406805538\n",
        "\n",
        "frame 973 from 1004\n",
        "1005 42.0 [  8.88098243e-05   6.33066104e-04   9.99066767e-01   1.14314825e-04\n",
        "   9.70425378e-05] [  3.13043271e-45   5.43414608e-43   1.41558141e-45   1.49386407e-44\n",
        "   8.34063819e-48] [ 0.  0.  0.  0.  0.] [ 977 1238 1005 1237  992] 0.218937184327\n",
        "\n",
        "frame 974 from 1005\n",
        "1006 43.0 [  6.67189185e-04   1.93116244e-04   9.99005005e-01   1.34689420e-04] [  5.43414608e-43   7.55758587e-44   9.52656456e-46   7.76113531e-47] [ 0.  0.  0.  0.] [1238  978 1006  993] 0.387252517254\n",
        "\n",
        "frame 975 from 1006\n",
        "1007 44.0 [  8.30623749e-04   9.98984331e-01   1.85045007e-04] [  4.02495152e-43   1.26767209e-49   2.33742836e-45] [ 0.  0.  0.] [1239 1007  994] 0.0118850375496\n",
        "\n",
        "frame 976 from 1007\n",
        "1008 45.0 [ 1.] [  5.01485644e-48] [ 0.] [1008] 0.0878616468003\n",
        "\n",
        "frame 977 from 1008\n",
        "1009 46.0 [ 1.] [  2.03998731e-46] [ 0.] [1009] 0.449477295935\n",
        "\n",
        "frame 978 from 1009\n",
        "1010 47.0 [ 0.99878209  0.00121791] [  8.41325948e-45   7.47410430e-44] [ 0.  0.] [1010  995] 0.807360972686\n",
        "\n",
        "frame 979 from 1010\n",
        "1011 48.0 [ 0.99842406  0.00157594] [  3.41256991e-43   2.63000967e-42] [ 0.  0.] [1011  996] 0.383783580453\n",
        "\n",
        "frame 980 from 1011\n",
        "1012 49.0 [ 0.0026731  0.9973269] [  9.62168416e-41   1.60757361e-46] [ 0.  0.] [ 997 1012] 0.490189169448\n",
        "\n",
        "frame 981 from 1012\n",
        "1013 50.0 [ 1.] [  6.30837410e-45] [ 0.] [1013] 0.172795205267\n",
        "\n",
        "frame 982 from 1013\n",
        "1014 51.0 [ 1.] [  2.41389489e-43] [ 0.] [1014] 0.249442522774\n",
        "\n",
        "frame 983 from 1014\n",
        "1015 52.0 [ 1.] [  8.60425361e-42] [ 0.] [1015] 0.548073549997\n",
        "\n",
        "frame 984 from 1015\n",
        "1016 53.0 [ 0.0017578   0.00658905  0.99165315] [  7.68051185e-41   2.31763578e-39   2.75076462e-40] [ 0.  0.  0.] [1245 1246 1016] 0.317201739319\n",
        "\n",
        "frame 985 from 1016\n",
        "1017 54.0 [ 0.00215542  0.98956917  0.00827541] [  2.31763578e-39   8.80215397e-39   7.58015517e-38] [ 0.  0.  0.] [1246 1017 1247] 0.584173211904\n",
        "\n",
        "frame 986 from 1017\n",
        "1018 55.0 [ 0.00229712  0.98311736  0.00259423  0.01199129] [  3.64723321e-40   2.50000364e-37   7.58015517e-38   2.37418346e-36] [ 0.  0.  0.  0.] [ 983 1018 1247 1248] 0.555550752309\n",
        "\n",
        "frame 987 from 1018\n",
        "1019 56.0 [ 0.00332818  0.98347854  0.01319328] [  2.37418346e-36   6.16574353e-36   6.73772445e-35] [ 0.  0.  0.] [1248 1019 1249] 0.13011468813\n",
        "\n",
        "frame 988 from 1019\n",
        "1020 57.0 [ 0.0041898   0.97919813  0.01661207] [  6.73772445e-35   1.34424807e-34   1.69891944e-33] [ 0.  0.  0.] [1249 1020 1250] 0.977923383766\n",
        "\n",
        "frame 989 from 1020\n",
        "1021 58.0 [ 0.02051891  0.97948109] [  3.88370740e-32   2.19917003e-44] [ 0.  0.] [1251 1021] 0.867785338706\n",
        "\n",
        "frame 990 from 1021\n",
        "1022 59.0 [ 0.02180122  0.97819878] [  6.28557100e-42   4.59831787e-43] [ 0.  0.] [1252 1022] 0.225476516646\n",
        "\n",
        "frame 991 from 1022\n",
        "1023 60.0 [ 0.02715509  0.97284491] [  1.34974413e-40   8.65568430e-42] [ 0.  0.] [1253 1023] 0.239766100096\n",
        "\n",
        "frame 992 from 1023\n",
        "1024 61.0 [ 0.0374711  0.9625289] [  2.87715312e-39   1.21605405e-47] [ 0.  0.]"
       ]
      },
      {
       "output_type": "stream",
       "stream": "stdout",
       "text": [
        " [1254 1024] 0.28163686007\n",
        "\n",
        "frame 993 from 1024\n",
        "1025 62.0 [ 1.] [  2.90476189e-46] [ 0.] [1025] 0.711332993193\n",
        "\n",
        "frame 994 from 1025\n",
        "1026 63.0 [ 1.] [  7.27015993e-45] [ 0.] [1026] 0.232574944799\n",
        "\n",
        "frame 995 from 1026\n",
        "1027 64.0 [ 1.] [  1.97211395e-43] [ 0.] [1027] 0.760104801641\n",
        "\n",
        "frame 996 from 1027\n",
        "1028 65.0 [ 1.] [  5.91799045e-42] [ 0.] [1028] 0.308828469982\n",
        "\n",
        "frame 997 from 1028\n",
        "1029 66.0 [ 1.] [  1.87486470e-40] [ 0.] [1029] 0.859954371057\n",
        "\n",
        "frame 998 from 1029\n",
        "jump 1256 1.0 [ 0.82388914  0.06525418  0.0830293   0.02782738] [  5.92970654e-39   3.41899318e-38   4.96214229e-38   2.31763578e-39] [ 0.  0.  0.  0.] [1030 1256 1255 1246] 0.876992076756\n",
        "\n",
        "frame 999 from 1256\n",
        "1257 2.0 [  1.00000000e+00   6.35929171e-11   1.35650333e-11] [  1.18251598e-40   6.42032570e-36   5.92970654e-39] [ 0.  0.  0.] [1257 1148 1030] 0.615586205243\n"
       ]
      },
      {
       "metadata": {},
       "output_type": "pyout",
       "prompt_number": 91,
       "text": [
        "[<matplotlib.lines.Line2D at 0x7fe3b545e0d0>,\n",
        " <matplotlib.lines.Line2D at 0x7fe3b53317d0>]"
       ]
      }
     ],
     "prompt_number": 91
    },
    {
     "cell_type": "code",
     "collapsed": false,
     "input": [
      "figure(); plot(arange(0.0, len(rangeCurves)), destRange*100)"
     ],
     "language": "python",
     "metadata": {},
     "outputs": [
      {
       "metadata": {},
       "output_type": "pyout",
       "prompt_number": 235,
       "text": [
        "[<matplotlib.lines.Line2D at 0x7f44324d4050>]"
       ]
      }
     ],
     "prompt_number": 235
    },
    {
     "cell_type": "code",
     "collapsed": false,
     "input": [
      "import bisect\n",
      "def shortestPathFromTo(graph, source, weights):\n",
      "    # Initialization\n",
      "    dist     = {source: 0}\n",
      "    previous = {source: None}\n",
      "\n",
      "    # This is a sorted queue of (dist, node) 2-tuples. The first item in the\n",
      "    # queue is always either a finalized node that we can ignore or the node\n",
      "    # with the smallest estimated distance from the source. Note that we will\n",
      "    # not remove nodes from this list as they are finalized; we just ignore them\n",
      "    # when they come up.\n",
      "    q = [(0, source)]\n",
      "\n",
      "    # The set of nodes for which we have final distances.\n",
      "    finished = set()\n",
      "\n",
      "    # Algorithm loop\n",
      "    while len(q) > 0:\n",
      "        du, u = q.pop(0)\n",
      "\n",
      "        # Process reachable, remaining nodes from u\n",
      "        if u not in finished:\n",
      "            finished.add(u)\n",
      "#             print u, \"tra\"\n",
      "            for v in xrange(0, len(graph.nodes())):#graph[u]:\n",
      "#                 print v, \n",
      "                if v not in finished:\n",
      "                    alt = du + weights[u, v]#graph.edge_weight((u, v))\n",
      "                    if (v not in dist) or (alt < dist[v]):\n",
      "                        dist[v] = alt\n",
      "                        previous[v] = u\n",
      "                        bisect.insort(q, (alt, v))\n",
      "#                 print\n",
      "\n",
      "    return previous, dist"
     ],
     "language": "python",
     "metadata": {},
     "outputs": [],
     "prompt_number": 92
    },
    {
     "cell_type": "code",
     "collapsed": false,
     "input": [
      "## try and find random path from src to tgt\n",
      "src = initialNodes[0]\n",
      "tgt = initialNodes[1]\n",
      "curr = src\n",
      "prev = curr\n",
      "randPath = [src]\n",
      "cost = 0.0\n",
      "while curr != tgt :\n",
      "    curr = np.random.randint(0, probMat.shape[-1])\n",
      "    randPath.append(curr)\n",
      "    cost += (1.0/probMat)[curr, prev]\n",
      "    prev = curr\n",
      "\n",
      "print cost    \n",
      "print len(randPath), randPath"
     ],
     "language": "python",
     "metadata": {},
     "outputs": [
      {
       "output_type": "stream",
       "stream": "stdout",
       "text": [
        "469033.417401\n",
        "361 [117, 352, 1245, 419, 137, 511, 1139, 983, 900, 74, 817, 338, 1221, 510, 591, 674, 740, 892, 970, 556, 893, 684, 873, 1136, 1096, 1211, 800, 851, 565, 310, 24, 1097, 330, 542, 734, 985, 40, 873, 1221, 55, 613, 1143, 555, 158, 440, 635, 193, 894, 47, 713, 62, 107, 1100, 860, 1255, 897, 10, 1037, 752, 141, 30, 371, 15, 0, 32, 1038, 533, 462, 1072, 373, 511, 713, 1257, 835, 667, 913, 1003, 910, 954, 321, 883, 1186, 728, 515, 1006, 577, 1138, 1134, 1263, 926, 778, 934, 155, 931, 1000, 87, 67, 252, 415, 355, 614, 293, 282, 455, 1046, 492, 724, 49, 61, 506, 469, 1224, 1185, 1197, 568, 916, 664, 517, 617, 766, 831, 715, 1231, 799, 900, 1000, 819, 562, 364, 1258, 983, 849, 752, 1162, 928, 902, 155, 379, 403, 711, 755, 1, 276, 1015, 889, 204, 113, 639, 291, 549, 405, 780, 33, 1102, 36, 860, 939, 640, 394, 505, 59, 544, 823, 560, 47, 1242, 830, 1153, 202, 1003, 261, 1243, 818, 430, 718, 919, 159, 1008, 433, 362, 328, 168, 1143, 868, 632, 594, 1205, 808, 363, 315, 571, 935, 1005, 1074, 691, 1097, 767, 1047, 215, 1019, 891, 741, 769, 313, 872, 462, 297, 286, 289, 15, 677, 452, 25, 1129, 1144, 564, 156, 1228, 88, 1008, 584, 104, 980, 971, 1186, 1128, 830, 477, 528, 876, 510, 338, 531, 810, 131, 358, 200, 313, 1085, 1157, 396, 344, 144, 446, 256, 798, 927, 16, 948, 233, 748, 804, 570, 994, 1008, 281, 277, 446, 936, 743, 208, 739, 455, 218, 1264, 1010, 825, 71, 791, 1007, 502, 1233, 516, 1236, 689, 1051, 990, 1129, 51, 830, 232, 163, 819, 992, 297, 620, 276, 1208, 763, 820, 832, 141, 664, 1040, 1118, 265, 255, 1055, 1115, 558, 535, 283, 404, 921, 436, 1174, 330, 724, 82, 1054, 857, 126, 235, 112, 27, 785, 380, 5, 1077, 1033, 1182, 756, 97, 102, 711, 1250, 2, 83, 432, 78, 288, 882, 452, 90, 779, 63, 453, 803, 748, 384, 579, 106, 1251, 1170, 99, 325, 1079, 1110, 179, 193, 1160, 413, 575, 1202, 877, 1148, 258, 22, 877, 1098, 496]\n"
       ]
      }
     ],
     "prompt_number": 105
    },
    {
     "cell_type": "code",
     "collapsed": false,
     "input": [
      "print frameGraph.neighbors(0)\n",
      "# print frameGraph.nodes()\n",
      "p, d = shortestPathFromTo(frameGraph, 0, 1.0/probMat)\n",
      "print p\n",
      "print d"
     ],
     "language": "python",
     "metadata": {},
     "outputs": [
      {
       "output_type": "stream",
       "stream": "stdout",
       "text": [
        "[1, 222]\n",
        "{0: None, 1: 0, 2: 0, 3: 0, 4: 0, 5: 0, 6: 0, 7: 0, 8: 0, 9: 0, 10: 0, 11: 0, 12: 0, 13: 0, 14: 0, 15: 0, 16: 0, 17: 0, 18: 0, 19: 0, 20: 0, 21: 0, 22: 0, 23: 0, 24: 0, 25: 0, 26: 0, 27: 0, 28: 0, 29: 0, 30: 0, 31: 0, 32: 0, 33: 0, 34: 0, 35: 0, 36: 0, 37: 0, 38: 0, 39: 0, 40: 0, 41: 0, 42: 0, 43: 0, 44: 0, 45: 0, 46: 0, 47: 0, 48: 0, 49: 0, 50: 0, 51: 0, 52: 0, 53: 0, 54: 0, 55: 0, 56: 0, 57: 0, 58: 0, 59: 0, 60: 0, 61: 0, 62: 0, 63: 0, 64: 0, 65: 0, 66: 0, 67: 0, 68: 0, 69: 0, 70: 0, 71: 0, 72: 0, 73: 0, 74: 0, 75: 0, 76: 0, 77: 0, 78: 0, 79: 0, 80: 0, 81: 0, 82: 0, 83: 0, 84: 0, 85: 0, 86: 0, 87: 0, 88: 0, 89: 0, 90: 0, 91: 0, 92: 0, 93: 0, 94: 0, 95: 0, 96: 0, 97: 0, 98: 0, 99: 0, 100: 0, 101: 0, 102: 0, 103: 0, 104: 0, 105: 0, 106: 0, 107: 0, 108: 0, 109: 0, 110: 0, 111: 0, 112: 0, 113: 0, 114: 0, 115: 0, 116: 0, 117: 0, 118: 0, 119: 0, 120: 0, 121: 0, 122: 0, 123: 0, 124: 0, 125: 0, 126: 0, 127: 0, 128: 0, 129: 0, 130: 0, 131: 0, 132: 0, 133: 0, 134: 0, 135: 0, 136: 0, 137: 0, 138: 0, 139: 0, 140: 0, 141: 0, 142: 0, 143: 0, 144: 0, 145: 0, 146: 0, 147: 0, 148: 0, 149: 0, 150: 0, 151: 0, 152: 0, 153: 0, 154: 0, 155: 0, 156: 0, 157: 0, 158: 0, 159: 0, 160: 0, 161: 0, 162: 0, 163: 0, 164: 0, 165: 0, 166: 0, 167: 0, 168: 0, 169: 0, 170: 0, 171: 0, 172: 0, 173: 0, 174: 0, 175: 0, 176: 0, 177: 0, 178: 0, 179: 0, 180: 0, 181: 0, 182: 0, 183: 0, 184: 0, 185: 0, 186: 0, 187: 0, 188: 0, 189: 0, 190: 0, 191: 0, 192: 0, 193: 0, 194: 0, 195: 0, 196: 0, 197: 0, 198: 0, 199: 0, 200: 0, 201: 0, 202: 0, 203: 0, 204: 0, 205: 0, 206: 0, 207: 0, 208: 0, 209: 0, 210: 0, 211: 0, 212: 0, 213: 0, 214: 0, 215: 0, 216: 0, 217: 0, 218: 0, 219: 0, 220: 0, 221: 0, 222: 0, 223: 0, 224: 0, 225: 0, 226: 0, 227: 0, 228: 0, 229: 0, 230: 0, 231: 0, 232: 0, 233: 0, 234: 0, 235: 0, 236: 0, 237: 0, 238: 0, 239: 0, 240: 0, 241: 0, 242: 0, 243: 0, 244: 0, 245: 0, 246: 0, 247: 0, 248: 0, 249: 0, 250: 0, 251: 0, 252: 0, 253: 0, 254: 0, 255: 0, 256: 0, 257: 0, 258: 0, 259: 0, 260: 0, 261: 0, 262: 0, 263: 0, 264: 0, 265: 0, 266: 0, 267: 0, 268: 0, 269: 0, 270: 0, 271: 0, 272: 0, 273: 0, 274: 0, 275: 0, 276: 0, 277: 0, 278: 0, 279: 0, 280: 0, 281: 0, 282: 0, 283: 0, 284: 0, 285: 0, 286: 0, 287: 0, 288: 0, 289: 0, 290: 0, 291: 0, 292: 0, 293: 0, 294: 0, 295: 0, 296: 0, 297: 0, 298: 0, 299: 0, 300: 0, 301: 0, 302: 0, 303: 0, 304: 0, 305: 0, 306: 0, 307: 0, 308: 0, 309: 0, 310: 0, 311: 0, 312: 0, 313: 0, 314: 0, 315: 0, 316: 0, 317: 0, 318: 0, 319: 0, 320: 0, 321: 0, 322: 0, 323: 0, 324: 0, 325: 0, 326: 0, 327: 0, 328: 0, 329: 0, 330: 0, 331: 0, 332: 0, 333: 0, 334: 0, 335: 0, 336: 0, 337: 0, 338: 0, 339: 0, 340: 0, 341: 0, 342: 0, 343: 0, 344: 0, 345: 0, 346: 0, 347: 0, 348: 0, 349: 0, 350: 0, 351: 0, 352: 0, 353: 0, 354: 0, 355: 0, 356: 0, 357: 0, 358: 0, 359: 0, 360: 0, 361: 0, 362: 0, 363: 0, 364: 0, 365: 0, 366: 0, 367: 0, 368: 0, 369: 0, 370: 0, 371: 0, 372: 0, 373: 0, 374: 0, 375: 0, 376: 0, 377: 0, 378: 0, 379: 0, 380: 0, 381: 0, 382: 0, 383: 0, 384: 0, 385: 0, 386: 0, 387: 0, 388: 0, 389: 0, 390: 0, 391: 0, 392: 0, 393: 0, 394: 0, 395: 0, 396: 0, 397: 0, 398: 0, 399: 0, 400: 0, 401: 0, 402: 0, 403: 0, 404: 0, 405: 0, 406: 0, 407: 0, 408: 0, 409: 0, 410: 0, 411: 0, 412: 0, 413: 0, 414: 0, 415: 0, 416: 0, 417: 0, 418: 0, 419: 0, 420: 0, 421: 0, 422: 0, 423: 0, 424: 0, 425: 0, 426: 0, 427: 0, 428: 0, 429: 0, 430: 0, 431: 0, 432: 0, 433: 0, 434: 0, 435: 0, 436: 0, 437: 0, 438: 0, 439: 0, 440: 0, 441: 0, 442: 0, 443: 0, 444: 0, 445: 0, 446: 0, 447: 0, 448: 0, 449: 0, 450: 0, 451: 0, 452: 0, 453: 0, 454: 0, 455: 0, 456: 0, 457: 0, 458: 0, 459: 0, 460: 0, 461: 0, 462: 0, 463: 0, 464: 0, 465: 0, 466: 0, 467: 0, 468: 0, 469: 0, 470: 0, 471: 0, 472: 0, 473: 0, 474: 0, 475: 0, 476: 0, 477: 0, 478: 0, 479: 0, 480: 0, 481: 0, 482: 0, 483: 0, 484: 0, 485: 0, 486: 0, 487: 0, 488: 0, 489: 0, 490: 0, 491: 0, 492: 0, 493: 0, 494: 0, 495: 0, 496: 0, 497: 0, 498: 0, 499: 0, 500: 0, 501: 0, 502: 0, 503: 0, 504: 0, 505: 0, 506: 0, 507: 0, 508: 0, 509: 0, 510: 0, 511: 0, 512: 0, 513: 0, 514: 0, 515: 0, 516: 0, 517: 0, 518: 0, 519: 0, 520: 0, 521: 0, 522: 0, 523: 0, 524: 0, 525: 0, 526: 0, 527: 0, 528: 0, 529: 0, 530: 0, 531: 0, 532: 0, 533: 0, 534: 0, 535: 0, 536: 0, 537: 0, 538: 0, 539: 0, 540: 0, 541: 0, 542: 0, 543: 0, 544: 0, 545: 0, 546: 0, 547: 0, 548: 0, 549: 0, 550: 0, 551: 0, 552: 0, 553: 0, 554: 0, 555: 0, 556: 0, 557: 0, 558: 0, 559: 0, 560: 0, 561: 0, 562: 0, 563: 0, 564: 0, 565: 0, 566: 0, 567: 0, 568: 0, 569: 0, 570: 0, 571: 0, 572: 0, 573: 0, 574: 0, 575: 0, 576: 0, 577: 0, 578: 0, 579: 0, 580: 0, 581: 0, 582: 0, 583: 0, 584: 0, 585: 0, 586: 0, 587: 0, 588: 0, 589: 0, 590: 0, 591: 0, 592: 0, 593: 0, 594: 0, 595: 0, 596: 0, 597: 0, 598: 0, 599: 0, 600: 0, 601: 0, 602: 0, 603: 0, 604: 0, 605: 0, 606: 0, 607: 0, 608: 0, 609: 0, 610: 0, 611: 0, 612: 0, 613: 0, 614: 0, 615: 0, 616: 0, 617: 0, 618: 0, 619: 0, 620: 0, 621: 0, 622: 0, 623: 0, 624: 0, 625: 0, 626: 0, 627: 0, 628: 0, 629: 0, 630: 0, 631: 0, 632: 0, 633: 0, 634: 0, 635: 0, 636: 0, 637: 0, 638: 0, 639: 0, 640: 0, 641: 0, 642: 0, 643: 0, 644: 0, 645: 0, 646: 0, 647: 0, 648: 0, 649: 0, 650: 0, 651: 0, 652: 0, 653: 0, 654: 0, 655: 0, 656: 0, 657: 0, 658: 0, 659: 0, 660: 0, 661: 0, 662: 0, 663: 0, 664: 0, 665: 0, 666: 0, 667: 0, 668: 0, 669: 0, 670: 0, 671: 0, 672: 0, 673: 0, 674: 0, 675: 0, 676: 0, 677: 0, 678: 0, 679: 0, 680: 0, 681: 0, 682: 0, 683: 0, 684: 0, 685: 0, 686: 0, 687: 0, 688: 0, 689: 0, 690: 0, 691: 0, 692: 0, 693: 0, 694: 0, 695: 0, 696: 0, 697: 0, 698: 0, 699: 0, 700: 0, 701: 0, 702: 0, 703: 0, 704: 0, 705: 0, 706: 0, 707: 0, 708: 0, 709: 0, 710: 0, 711: 0, 712: 0, 713: 0, 714: 0, 715: 0, 716: 0, 717: 0, 718: 0, 719: 0, 720: 0, 721: 0, 722: 0, 723: 0, 724: 0, 725: 0, 726: 0, 727: 0, 728: 0, 729: 0, 730: 0, 731: 0, 732: 0, 733: 0, 734: 0, 735: 0, 736: 0, 737: 0, 738: 0, 739: 0, 740: 0, 741: 0, 742: 0, 743: 0, 744: 0, 745: 0, 746: 0, 747: 0, 748: 0, 749: 0, 750: 0, 751: 0, 752: 0, 753: 0, 754: 0, 755: 0, 756: 0, 757: 0, 758: 0, 759: 0, 760: 0, 761: 0, 762: 0, 763: 0, 764: 0, 765: 0, 766: 0, 767: 0, 768: 0, 769: 0, 770: 0, 771: 0, 772: 0, 773: 0, 774: 0, 775: 0, 776: 0, 777: 0, 778: 0, 779: 0, 780: 0, 781: 0, 782: 0, 783: 0, 784: 0, 785: 0, 786: 0, 787: 0, 788: 0, 789: 0, 790: 0, 791: 0, 792: 0, 793: 0, 794: 0, 795: 0, 796: 0, 797: 0, 798: 0, 799: 0, 800: 0, 801: 0, 802: 0, 803: 0, 804: 0, 805: 0, 806: 0, 807: 0, 808: 0, 809: 0, 810: 0, 811: 0, 812: 0, 813: 0, 814: 0, 815: 0, 816: 0, 817: 0, 818: 0, 819: 0, 820: 0, 821: 0, 822: 0, 823: 0, 824: 0, 825: 0, 826: 0, 827: 0, 828: 0, 829: 0, 830: 0, 831: 0, 832: 0, 833: 0, 834: 0, 835: 0, 836: 0, 837: 0, 838: 0, 839: 0, 840: 0, 841: 0, 842: 0, 843: 0, 844: 0, 845: 0, 846: 0, 847: 0, 848: 0, 849: 0, 850: 0, 851: 0, 852: 0, 853: 0, 854: 0, 855: 0, 856: 0, 857: 0, 858: 0, 859: 0, 860: 0, 861: 0, 862: 0, 863: 0, 864: 0, 865: 0, 866: 0, 867: 0, 868: 0, 869: 0, 870: 0, 871: 0, 872: 0, 873: 0, 874: 0, 875: 0, 876: 0, 877: 0, 878: 0, 879: 0, 880: 0, 881: 0, 882: 0, 883: 0, 884: 0, 885: 0, 886: 0, 887: 0, 888: 0, 889: 0, 890: 0, 891: 0, 892: 0, 893: 0, 894: 0, 895: 0, 896: 0, 897: 0, 898: 0, 899: 0, 900: 0, 901: 0, 902: 0, 903: 0, 904: 0, 905: 0, 906: 0, 907: 0, 908: 0, 909: 0, 910: 0, 911: 0, 912: 0, 913: 0, 914: 0, 915: 0, 916: 0, 917: 0, 918: 0, 919: 0, 920: 0, 921: 0, 922: 0, 923: 0, 924: 0, 925: 0, 926: 0, 927: 0, 928: 0, 929: 0, 930: 0, 931: 0, 932: 0, 933: 0, 934: 0, 935: 0, 936: 0, 937: 0, 938: 0, 939: 0, 940: 0, 941: 0, 942: 0, 943: 0, 944: 0, 945: 0, 946: 0, 947: 0, 948: 0, 949: 0, 950: 0, 951: 0, 952: 0, 953: 0, 954: 0, 955: 0, 956: 0, 957: 0, 958: 0, 959: 0, 960: 0, 961: 0, 962: 0, 963: 0, 964: 0, 965: 0, 966: 0, 967: 0, 968: 0, 969: 0, 970: 0, 971: 0, 972: 0, 973: 0, 974: 0, 975: 0, 976: 0, 977: 0, 978: 0, 979: 0, 980: 0, 981: 0, 982: 0, 983: 0, 984: 0, 985: 0, 986: 0, 987: 0, 988: 0, 989: 0, 990: 0, 991: 0, 992: 0, 993: 0, 994: 0, 995: 0, 996: 0, 997: 0, 998: 0, 999: 0, 1000: 0, 1001: 0, 1002: 0, 1003: 0, 1004: 0, 1005: 0, 1006: 0, 1007: 0, 1008: 0, 1009: 0, 1010: 0, 1011: 0, 1012: 0, 1013: 0, 1014: 0, 1015: 0, 1016: 0, 1017: 0, 1018: 0, 1019: 0, 1020: 0, 1021: 0, 1022: 0, 1023: 0, 1024: 0, 1025: 0, 1026: 0, 1027: 0, 1028: 0, 1029: 0, 1030: 0, 1031: 0, 1032: 0, 1033: 0, 1034: 0, 1035: 0, 1036: 0, 1037: 0, 1038: 0, 1039: 0, 1040: 0, 1041: 0, 1042: 0, 1043: 0, 1044: 0, 1045: 0, 1046: 0, 1047: 0, 1048: 0, 1049: 0, 1050: 0, 1051: 0, 1052: 0, 1053: 0, 1054: 0, 1055: 0, 1056: 0, 1057: 0, 1058: 0, 1059: 0, 1060: 0, 1061: 0, 1062: 0, 1063: 0, 1064: 0, 1065: 0, 1066: 0, 1067: 0, 1068: 0, 1069: 0, 1070: 0, 1071: 0, 1072: 0, 1073: 0, 1074: 0, 1075: 0, 1076: 0, 1077: 0, 1078: 0, 1079: 0, 1080: 0, 1081: 0, 1082: 0, 1083: 0, 1084: 0, 1085: 0, 1086: 0, 1087: 0, 1088: 0, 1089: 0, 1090: 0, 1091: 0, 1092: 0, 1093: 0, 1094: 0, 1095: 0, 1096: 0, 1097: 0, 1098: 0, 1099: 0, 1100: 0, 1101: 0, 1102: 0, 1103: 0, 1104: 0, 1105: 0, 1106: 0, 1107: 0, 1108: 0, 1109: 0, 1110: 0, 1111: 0, 1112: 0, 1113: 0, 1114: 0, 1115: 0, 1116: 0, 1117: 0, 1118: 0, 1119: 0, 1120: 0, 1121: 0, 1122: 0, 1123: 0, 1124: 0, 1125: 0, 1126: 0, 1127: 0, 1128: 0, 1129: 0, 1130: 0, 1131: 0, 1132: 0, 1133: 0, 1134: 0, 1135: 0, 1136: 0, 1137: 0, 1138: 0, 1139: 0, 1140: 0, 1141: 0, 1142: 0, 1143: 0, 1144: 0, 1145: 0, 1146: 0, 1147: 0, 1148: 0, 1149: 0, 1150: 0, 1151: 0, 1152: 0, 1153: 0, 1154: 0, 1155: 0, 1156: 0, 1157: 0, 1158: 0, 1159: 0, 1160: 0, 1161: 0, 1162: 0, 1163: 0, 1164: 0, 1165: 0, 1166: 0, 1167: 0, 1168: 0, 1169: 0, 1170: 0, 1171: 0, 1172: 0, 1173: 0, 1174: 0, 1175: 0, 1176: 0, 1177: 0, 1178: 0, 1179: 0, 1180: 0, 1181: 0, 1182: 0, 1183: 0, 1184: 0, 1185: 0, 1186: 0, 1187: 0, 1188: 0, 1189: 0, 1190: 0, 1191: 0, 1192: 0, 1193: 0, 1194: 0, 1195: 0, 1196: 0, 1197: 0, 1198: 0, 1199: 0, 1200: 0, 1201: 0, 1202: 0, 1203: 0, 1204: 0, 1205: 0, 1206: 0, 1207: 0, 1208: 0, 1209: 0, 1210: 0, 1211: 0, 1212: 0, 1213: 0, 1214: 0, 1215: 0, 1216: 0, 1217: 0, 1218: 0, 1219: 0, 1220: 0, 1221: 0, 1222: 0, 1223: 0, 1224: 0, 1225: 0, 1226: 0, 1227: 0, 1228: 0, 1229: 0, 1230: 0, 1231: 0, 1232: 0, 1233: 0, 1234: 0, 1235: 0, 1236: 0, 1237: 0, 1238: 0, 1239: 0, 1240: 0, 1241: 0, 1242: 0, 1243: 0, 1244: 0, 1245: 0, 1246: 0, 1247: 0, 1248: 0, 1249: 0, 1250: 0, 1251: 0, 1252: 0, 1253: 0, 1254: 0, 1255: 0, 1256: 0, 1257: 0, 1258: 0, 1259: 0, 1260: 0, 1261: 0, 1262: 0, 1263: 0, 1264: 0, 1265: 0, 1266: 0, 1267: 0, 1268: 0, 1269: 0, 1270: 0}"
       ]
      },
      {
       "output_type": "stream",
       "stream": "stdout",
       "text": [
        "\n",
        "{0: 0, 1: 522.6783070482652, 2: 785.02351224057713, 3: 893.29227095742237, 4: 969.89062859936359, 5: 1028.0620736649537, 6: 1077.3195598320774, 7: 1127.9376333673181, 8: 1176.1478160798138, 9: 1209.8103830850537, 10: 1229.3286654097665, 11: 1238.8178125854047, 12: 1247.4859601151688, 13: 1251.1520749388071, 14: 1252.4914130166185, 15: 1249.2405699392968, 16: 1239.1650563710771, 17: 1225.0240719010073, 18: 1209.0001888623556, 19: 1192.1679974317187, 20: 1176.7675655730657, 21: 1158.7603858455498, 22: 1140.5655536064974, 23: 1130.2240408129323, 24: 1122.0032722066185, 25: 1113.5541044151294, 26: 1100.9838371916851, 27: 1093.4184173640765, 28: 1088.5128176503779, 29: 1081.415163679284, 30: 1079.3084631792381, 31: 1084.7484034469758, 32: 1086.9111002605093, 33: 1087.5039376131838, 34: 1086.9356419156959, 35: 1089.2536514715559, 36: 1113.8489287346329, 37: 1134.4905137940714, 38: 1151.3578432281729, 39: 1162.3438281773056, 40: 1157.7819629152821, 41: 1148.0049278002368, 42: 1141.6198215466875, 43: 1164.1702484081914, 44: 1191.9384223240763, 45: 1190.585192519522, 46: 1182.4675237740005, 47: 1169.5834337891495, 48: 1165.4134325954731, 49: 1189.9306406578594, 50: 1232.5413871545713, 51: 1260.1644185860077, 52: 1258.822869044056, 53: 1249.5558017710671, 54: 1262.9714908375438, 55: 1288.1684507469984, 56: 1304.7747882604483, 57: 1304.5565791701172, 58: 1285.9949421326737, 59: 1260.8390321873621, 60: 1245.7795333200584, 61: 1222.3351187242088, 62: 1193.3290024967598, 63: 1162.1736523128884, 64: 1139.4093861038261, 65: 1126.9565760059052, 66: 1121.3934625200611, 67: 1105.5349234287305, 68: 1064.3779010182802, 69: 1005.1735850911072, 70: 962.33132320419713, 71: 961.90644975153475, 72: 993.4172561065858, 73: 1026.6313614221745, 74: 1039.2121003561012, 75: 1000.3128860413213, 76: 943.41162834776082, 77: 985.01547061730321, 78: 1018.807139738936, 79: 1039.7414449018306, 80: 1051.5572773590766, 81: 1052.8068337093862, 82: 1022.2828895001232, 83: 967.93965955490341, 84: 914.57825118745143, 85: 898.98930278010516, 86: 890.78670305810817, 87: 891.23078513203893, 88: 900.2979365665251, 89: 894.41964783122148, 90: 893.87603166222198, 91: 905.69557167652488, 92: 911.32498531718636, 93: 931.13370943052144, 94: 941.98900412776379, 95: 943.41996998334957, 96: 920.82776018654283, 97: 894.3350618688238, 98: 909.02193229797228, 99: 922.90051168924902, 100: 926.19039524015307, 101: 927.57632376348033, 102: 914.26360651332618, 103: 891.67647332835838, 104: 862.70197275703254, 105: 864.27109261161149, 106: 888.27803583150796, 107: 931.20217040352622, 108: 957.72943103958505, 109: 978.15327038428859, 110: 994.10362310516825, 111: 992.91250740540966, 112: 975.81960958783088, 113: 964.38196625678995, 114: 957.45618463863218, 115: 945.55403017607307, 116: 926.65968947712111, 117: 914.81350742321831, 118: 897.46986457420928, 119: 879.11660377239252, 120: 861.26073697257948, 121: 855.63248360476734, 122: 853.67662401239522, 123: 846.55656240980227, 124: 842.87235520091565, 125: 840.02298170856352, 126: 840.22327713718664, 127: 849.61589738975442, 128: 867.43171619013469, 129: 876.61977011620866, 130: 874.78971526045018, 131: 875.20029819513059, 132: 889.50187395331909, 133: 909.16140885032587, 134: 926.28736757692423, 135: 929.9984421771278, 136: 914.43715205414298, 137: 920.72087138051256, 138: 929.41637149812721, 139: 937.94304083017676, 140: 956.69206599259167, 141: 969.55182875919127, 142: 987.35945231908488, 143: 1024.1752414605289, 144: 1068.2111314758406, 145: 1108.5200783667017, 146: 1140.2045100838639, 147: 1158.5494024963214, 148: 1163.2305812891789, 149: 1161.477087138607, 150: 1155.0551524375023, 151: 1130.6006708486532, 152: 1096.7930810251216, 153: 1055.8661249580086, 154: 1022.4201071064551, 155: 980.28089028887757, 156: 958.309513757471, 157: 947.90111106836639, 158: 940.84064556863768, 159: 928.17308219249685, 160: 912.81680480019804, 161: 908.21414522882765, 162: 920.80574048717517, 163: 947.28588723538678, 164: 974.95160440109998, 165: 999.72297362021288, 166: 1021.8982966162107, 167: 1041.4536769263514, 168: 1053.1858456963505, 169: 1049.5830209205387, 170: 1022.8545357609381, 171: 977.68636965025189, 172: 930.48132306299885, 173: 928.55755425925145, 174: 958.51908532204413, 175: 998.2026381334731, 176: 1026.3909803309032, 177: 1049.1129060725841, 178: 1070.5092738032995, 179: 1073.9616042589785, 180: 1072.1681891293683, 181: 1084.5520630184139, 182: 1077.3505668599912, 183: 1073.9945993242782, 184: 1057.3187481278392, 185: 1032.3849433935936, 186: 1008.0267223200894, 187: 979.53917605499112, 188: 963.50998110004218, 189: 977.9380114050017, 190: 1038.0048449264277, 191: 1090.2593507449978, 192: 1128.1888573605809, 193: 1162.1145587511608, 194: 1176.5995458335137, 195: 1159.9707086631172, 196: 1134.229029042265, 197: 1088.7615406051157, 198: 1041.8000188961294, 199: 1001.3144760390677, 200: 985.08193093435307, 201: 971.22326443089128, 202: 973.15822252362784, 203: 994.51706391595997, 204: 1031.2210482894063, 205: 1064.622962910546, 206: 1087.9542021205534, 207: 1098.7542986049443, 208: 1109.8319777838806, 209: 1124.2802486926537, 210: 1146.259699379752, 211: 1161.3490036125513, 212: 1165.7693665551515, 213: 1165.1263882055089, 214: 1161.2744875306005, 215: 1146.46417684068, 216: 1113.6304507424802, 217: 1071.1230009537999, 218: 1022.2138644651493, 219: 961.93658646141432, 220: 897.98039603811321, 221: 855.60070488021404, 222: 824.99676091312494, 223: 821.7763412236917, 224: 842.25500509326184, 225: 868.79314595093717, 226: 901.28991670693574, 227: 925.21196985212703, 228: 941.58813981913102, 229: 954.37116062882887, 230: 961.74913621687972, 231: 966.16245994948952, 232: 963.27751551405629, 233: 958.02571853747622, 234: 966.22978604654452, 235: 979.75213110356515, 236: 987.80414137289688, 237: 994.66323478974812, 238: 993.11814436115662, 239: 988.42043246561855, 240: 985.5657680674027, 241: 980.20458055845927, 242: 976.68762377908422, 243: 983.50964198021359, 244: 994.22471052962305, 245: 1010.4354891271421, 246: 1030.9596751142599, 247: 1065.1332586179303, 248: 1103.3106182413248, 249: 1143.27474221584, 250: 1184.1367582772418, 251: 1212.3865406430104, 252: 1225.3563071156948, 253: 1220.4685211330698, 254: 1209.5453779671911, 255: 1202.493748596208, 256: 1207.5811608729518, 257: 1205.0604697808099, 258: 1193.242756357587, 259: 1182.452239290817, 260: 1175.4854395697319, 261: 1173.3940305140939, 262: 1172.9518707602099, 263: 1173.4662814801513, 264: 1178.9325933196835, 265: 1194.8282374241503, 266: 1213.5215335502228, 267: 1224.2871578040445, 268: 1219.3644478248596, 269: 1205.7155549125282, 270: 1192.7756224249251, 271: 1181.8171345737592, 272: 1173.71187564154, 273: 1169.1052079227338, 274: 1166.6617456016149, 275: 1179.3268373381807, 276: 1214.9765851402844, 277: 1261.3086996738496, 278: 1309.2488284617468, 279: 1346.2838328378357, 280: 1372.6401414698469, 281: 1397.5974002651942, 282: 1426.215815258952, 283: 1473.3719648253691, 284: 1506.5050160441081, 285: 1478.8121422103773, 286: 1432.0325702373671, 287: 1389.7431774477632, 288: 1359.1625966928548, 289: 1336.6903864943401, 290: 1317.2770777108051, 291: 1295.9507205840396, 292: 1274.6918841305576, 293: 1260.9614256700181, 294: 1271.0243843504998, 295: 1278.6641666408516, 296: 1282.0455674143541, 297: 1282.9722268785667, 298: 1281.3668496907753, 299: 1276.064272905297, 300: 1261.9869751326701, 301: 1230.3345658531878, 302: 1203.7271643368349, 303: 1206.455777063966, 304: 1235.261457016132, 305: 1256.4812989685315, 306: 1268.7337971126985, 307: 1276.5310627521028, 308: 1275.7416685336962, 309: 1274.0954156140301, 310: 1271.9717475092111, 311: 1265.9791332065424, 312: 1258.5190968202444, 313: 1251.6573861769803, 314: 1254.1878769247853, 315: 1262.5444544343081, 316: 1277.186231403022, 317: 1300.289503509272, 318: 1319.453073339635, 319: 1325.9422503659916, 320: 1319.9559316267162, 321: 1299.9065868024936, 322: 1271.5225101834385, 323: 1248.0122045100306, 324: 1228.3569571065832, 325: 1206.7347698002525, 326: 1181.7317168804043, 327: 1165.6432616518709, 328: 1164.5464615930819, 329: 1183.1937262147078, 330: 1212.1316795412131, 331: 1224.3814154574595, 332: 1222.1231533597263, 333: 1217.8070875446258, 334: 1212.4869455575661, 335: 1215.4971522305354, 336: 1227.0747227941749, 337: 1243.3826772164869, 338: 1260.7706558648747, 339: 1265.0699834169334, 340: 1282.6567164330397, 341: 1308.0101020451166, 342: 1331.0811393957035, 343: 1352.5047582442717, 344: 1356.5482722986512, 345: 1350.7814639340506, 346: 1332.5039474891084, 347: 1285.2231500124058, 348: 1236.7654998793921, 349: 1194.6658952262899, 350: 1166.7563421801522, 351: 1148.027655247944, 352: 1145.8768004825165, 353: 1163.1889511032759, 354: 1195.2884959608418, 355: 1217.5420898916921, 356: 1240.8515558587783, 357: 1258.0375028172989, 358: 1269.1917337659568, 359: 1273.9927993776087, 360: 1276.7615043120211, 361: 1277.1763016523746, 362: 1263.1587434821927, 363: 1229.5609910792543, 364: 1218.3878875347266, 365: 1213.4980356082506, 366: 1233.075290038023, 367: 1285.5472804351473, 368: 1359.223313036086, 369: 1443.1277554881556, 370: 1494.9556597240744, 371: 1528.5647313089578, 372: 1568.6814220791173, 373: 1605.5914430204903, 374: 1655.9134051027736, 375: 1722.2575273299196, 376: 1714.0789017332547, 377: 1655.2862677990993, 378: 1571.9344426993791, 379: 1518.0703116873674, 380: 1498.9843421348944, 381: 1485.6468617549435, 382: 1451.2958714114907, 383: 1386.7318444589337, 384: 1307.7234540739316, 385: 1288.9346082887225, 386: 1301.1299438611379, 387: 1332.9952166160683, 388: 1352.9628994635625, 389: 1363.0233607043169, 390: 1371.8094060446183, 391: 1390.134718950166, 392: 1420.9369954720135, 393: 1428.0048547650754, 394: 1407.4977270333161, 395: 1385.5401862389569, 396: 1369.5468139956749, 397: 1364.4166435271022, 398: 1354.5994219003078, 399: 1340.6063675653938, 400: 1327.187205520203, 401: 1317.3685098000562, 402: 1311.5823329426341, 403: 1307.6758152473742, 404: 1308.9661336177073, 405: 1311.5474996179275, 406: 1313.8294541933199, 407: 1315.7580590240129, 408: 1317.9017550811536, 409: 1321.8765769644112, 410: 1323.9672552988859, 411: 1322.1025486219692, 412: 1329.8511779429061, 413: 1339.4953953578322, 414: 1347.6996167317041, 415: 1351.1283617517886, 416: 1356.8375184745955, 417: 1360.7749213978686, 418: 1358.6887316270388, 419: 1355.2090664239918, 420: 1350.3255372919659, 421: 1332.6750088640599, 422: 1310.0890968402471, 423: 1295.6484915152062, 424: 1295.4819842112315, 425: 1319.1201745825313, 426: 1349.2478647915734, 427: 1376.0020747055278, 428: 1401.1729004731255, 429: 1434.6882894121341, 430: 1488.8623302295064, 431: 1577.5455854544903, 432: 1597.9474470861987, 433: 1593.5224743641779, 434: 1585.6888975995023, 435: 1575.2060669063426, 436: 1563.9457097875727, 437: 1532.2368779466815, 438: 1499.6941047290661, 439: 1456.0854432349136, 440: 1450.7810967021514, 441: 1520.8691590000722, 442: 1580.5613341942865, 443: 1584.4879115011888, 444: 1571.6816473104286, 445: 1559.092748506165, 446: 1561.8228239612843, 447: 1553.6586529857971, 448: 1550.5486303686723, 449: 1478.2623532937891, 450: 1422.7432850759485, 451: 1397.0910941823167, 452: 1381.2652800477281, 453: 1378.2154098885387, 454: 1389.0667419617459, 455: 1407.084784946275, 456: 1420.3471604054757, 457: 1411.1835064411748, 458: 1389.0770856831971, 459: 1346.1210030189252, 460: 1316.4740335926967, 461: 1309.2914899335483, 462: 1310.5965996090517, 463: 1319.8438869023769, 464: 1322.7017069400235, 465: 1328.0746344020854, 466: 1336.7449376144441, 467: 1346.8147702942265, 468: 1361.1638315999458, 469: 1368.7348197433228, 470: 1371.4393311528984, 471: 1371.6305512280617, 472: 1361.893190011426, 473: 1358.712144286455, 474: 1354.2552731688929, 475: 1344.8520741515129, 476: 1333.5773725390618, 477: 1322.1380452703106, 478: 1314.3469106966577, 479: 1312.4495171303861, 480: 1315.5061776732616, 481: 1324.6380197365679, 482: 1342.0739285011825, 483: 1371.8447109913377, 484: 1414.3370805069255, 485: 1451.5180208601039, 486: 1479.1168598037154, 487: 1488.851217522227, 488: 1472.1434334365943, 489: 1458.3401069917231, 490: 1431.8903877854002, 491: 1403.4539031110974, 492: 1378.644213393861, 493: 1365.5604074393341, 494: 1378.3299931542231, 495: 1394.2548692258347, 496: 1406.130453312091, 497: 1427.1786709168216, 498: 1430.4137862685027, 499: 1434.8209039586684, 500: 1434.525812228874, 501: 1423.3030608481665, 502: 1402.3444561423617, 503: 1367.7902312769695, 504: 1349.1375121524623, 505: 1354.8237641140263, 506: 1363.001984107103, 507: 1369.9481095680303, 508: 1376.6656201517953, 509: 1377.3950995075804, 510: 1371.8436123199424, 511: 1356.7440637238703, 512: 1342.4000006804845, 513: 1323.4104567966494, 514: 1303.7234448744407, 515: 1295.6731378245852, 516: 1301.6074730629621, 517: 1313.3730438658138, 518: 1328.6435614941854, 519: 1345.7003214509978, 520: 1362.9257562764658, 521: 1372.7170971292903, 522: 1374.1552919245562, 523: 1365.8308158964523, 524: 1349.1919167071292, 525: 1324.8563800117718, 526: 1298.6992564813247, 527: 1273.8253913741341, 528: 1259.0753074211984, 529: 1257.1908586662403, 530: 1264.7168162467515, 531: 1280.8365961079548, 532: 1293.8128984249192, 533: 1309.2970973354709, 534: 1322.0770763133769, 535: 1333.9620923725774, 536: 1347.2168332909512, 537: 1348.9567219164696, 538: 1340.233725226874, 539: 1330.500928664713, 540: 1318.0275231866217, 541: 1313.9696750984979, 542: 1313.3730686508002, 543: 1315.4185344556058, 544: 1317.105488710846, 545: 1320.7477402645807, 546: 1325.1741921723244, 547: 1328.8423373887604, 548: 1328.2478344615397, 549: 1327.4878138692279, 550: 1316.706427510172, 551: 1298.8865910447953, 552: 1283.7155534023793, 553: 1284.159286283018, 554: 1290.6045053634114, 555: 1296.9018146894828, 556: 1297.0228960468894, 557: 1290.2373108357924, 558: 1276.1915279654875, 559: 1272.1423588841617, 560: 1281.3871819077076, 561: 1297.269573633409, 562: 1306.0831421374567, 563: 1317.441174050643, 564: 1334.6581522728968, 565: 1348.7102459391635, 566: 1367.6549061790577, 567: 1397.630303559687, 568: 1443.531864807549, 569: 1503.2768756608878, 570: 1527.2799529173844, 571: 1515.7647871593795, 572: 1491.7283657092028, 573: 1467.4233880892518, 574: 1461.9602841055078, 575: 1463.7508428042274, 576: 1429.3104723568431, 577: 1392.2831357759815, 578: 1343.0821757780459, 579: 1329.3897867727092, 580: 1376.2137524016412, 581: 1419.328125769061, 582: 1413.4643233987404, 583: 1388.9648619997952, 584: 1354.6169608558189, 585: 1366.4842105454013, 586: 1363.1367698467109, 587: 1361.7498382643194, 588: 1363.0415002349912, 589: 1330.3498118370576, 590: 1325.1824969770666, 591: 1390.8226432315935, 592: 1463.7044204698325, 593: 1525.5549780243705, 594: 1547.1676148002402, 595: 1545.1443687041101, 596: 1525.7075500961089, 597: 1489.0461526049642, 598: 1463.5000094125653, 599: 1432.0936835556931, 600: 1387.6876779593924, 601: 1351.9217753338919, 602: 1346.3421868780299, 603: 1376.3970052279662, 604: 1442.7447520307803, 605: 1498.0101819554363, 606: 1531.823322943924, 607: 1544.8197546129645, 608: 1535.367923498821, 609: 1511.2702838429168, 610: 1473.9734274614211, 611: 1422.6981093086345, 612: 1369.765490908788, 613: 1321.7996725015448, 614: 1306.2288701845318, 615: 1319.307161462345, 616: 1323.8073309549725, 617: 1318.8098828445382, 618: 1307.6564153206411, 619: 1305.9678802537771, 620: 1321.5755644356216, 621: 1347.549218622308, 622: 1370.4009068986884, 623: 1374.8742748346142, 624: 1362.0698964415158, 625: 1363.7444166850635, 626: 1378.7211015963353, 627: 1408.8218800516563, 628: 1443.3416762236209, 629: 1435.4385570424672, 630: 1385.2858290850961, 631: 1334.1481067132531, 632: 1300.6046959554069, 633: 1281.8711300665227, 634: 1275.1989540747845, 635: 1276.0507546619394, 636: 1263.7436720096289, 637: 1246.4209383609345, 638: 1250.4511512590959, 639: 1269.6239288057589, 640: 1271.7039601060901, 641: 1266.5180189255564, 642: 1272.0980799390827, 643: 1265.7034681771129, 644: 1249.7947908225444, 645: 1233.6258986725672, 646: 1233.2343993435284, 647: 1236.4899596247558, 648: 1249.6948274796973, 649: 1291.9986476395393, 650: 1354.1001884886794, 651: 1346.8982219889815, 652: 1371.1897474755324, 653: 1414.0631826665124, 654: 1481.8926466851258, 655: 1517.0282029206508, 656: 1504.7704464299932, 657: 1487.7094663419732, 658: 1460.0155731168438, 659: 1437.8996382856681, 660: 1523.0433842295017, 661: 1542.7223586475875, 662: 1502.9289261716424, 663: 1459.1292720483127, 664: 1413.317031594403, 665: 1424.6209767791004, 666: 1428.7850233387269, 667: 1421.160896160321, 668: 1389.339109523745, 669: 1341.025315507374, 670: 1320.1021871766316, 671: 1335.0255838872934, 672: 1334.8777370991263, 673: 1344.1553795163948, 674: 1332.643611646012, 675: 1315.6478706303858, 676: 1291.3563991904716, 677: 1267.0252357716986, 678: 1238.9737605520381, 679: 1215.5746761312232, 680: 1199.5722398312212, 681: 1189.1459404354598, 682: 1194.7170327516317, 683: 1212.9107930123241, 684: 1232.3353900404611, 685: 1247.6231924658894, 686: 1263.9858860273275, 687: 1276.0763285471282, 688: 1275.9837981873168, 689: 1271.7040584814267, 690: 1256.7899845731513, 691: 1244.5618290317475, 692: 1242.0278665190388, 693: 1273.0177023976869, 694: 1305.8292035953687, 695: 1334.2939428726929, 696: 1356.9766091087035, 697: 1368.3496630985092, 698: 1356.2099049812118, 699: 1379.3947888027219, 700: 1410.3783405883889, 701: 1439.2453101977335, 702: 1440.2080994115288, 703: 1424.6884662316329, 704: 1385.5650944446943, 705: 1357.9093911017214, 706: 1365.353962165497, 707: 1408.0272628370415, 708: 1429.7708464333291, 709: 1437.4133854446109, 710: 1411.9562914187411, 711: 1367.962179454858, 712: 1346.4910326664292, 713: 1367.5883636032786, 714: 1396.6130438442751, 715: 1386.3587596130446, 716: 1339.9518925576915, 717: 1285.9593507000934, 718: 1242.4315420608593, 719: 1234.4884118456764, 720: 1241.862431674406, 721: 1265.1611038914841, 722: 1302.1662749260772, 723: 1347.2557628308707, 724: 1428.7319537946969, 725: 1545.2069790167084, 726: 1659.768546641686, 727: 1752.7688309835503, 728: 1823.4622764734863, 729: 1797.6755793735967, 730: 1726.1614968464078, 731: 1631.6922805768941, 732: 1529.004493076475, 733: 1425.4667251636704, 734: 1325.2931441756368, 735: 1234.1992732677329, 736: 1156.8987746489747, 737: 1096.0776911770697, 738: 1095.709015922343, 739: 1116.2792158941447, 740: 1135.9722178738862, 741: 1143.9238703954252, 742: 1157.8380227161965, 743: 1183.5401341176512, 744: 1221.9236171165139, 745: 1261.7533579560798, 746: 1303.9982463694348, 747: 1350.6858050134256, 748: 1413.7083252671732, 749: 1488.1109953065215, 750: 1531.6435206987285, 751: 1515.0219304056295, 752: 1467.9215960707372, 753: 1408.2740776244045, 754: 1360.2159326847366, 755: 1311.3310806198888, 756: 1253.8030903556576, 757: 1184.3928919432383, 758: 1124.0828021358202, 759: 1100.9313511369653, 760: 1122.3512646521458, 761: 1153.0847954245212, 762: 1204.9241480544681, 763: 1252.4106243682804, 764: 1304.6804150653306, 765: 1400.8563891350095, 766: 1501.8296929537394, 767: 1572.8698749948453, 768: 1591.4372646410593, 769: 1562.5293148384683, 770: 1534.5529728919491, 771: 1492.9683566103417, 772: 1418.9317651082526, 773: 1342.9041459066029, 774: 1260.0085026592867, 775: 1180.2489555715131, 776: 1130.4869243651142, 777: 1181.3830995395476, 778: 1258.0819264097934, 779: 1304.722725844289, 780: 1339.0142894092878, 781: 1387.5649207195827, 782: 1464.1449070915592, 783: 1517.2258588443408, 784: 1530.4337846640367, 785: 1514.6112559044136, 786: 1413.5659895298218, 787: 1309.7654630950733, 788: 1235.5896086616594, 789: 1171.7420358498021, 790: 1119.7287100941601, 791: 1093.932187713121, 792: 1118.6058950078084, 793: 1210.4045640125275, 794: 1307.6654696428975, 795: 1411.5779545197231, 796: 1516.2108988525431, 797: 1619.0315883144046, 798: 1745.3708976214753, 799: 1849.8575801213176, 800: 1849.6628999667562, 801: 1766.5293299566542, 802: 1641.9024125913293, 803: 1516.1635330662982, 804: 1396.7409054825587, 805: 1295.7910818965825, 806: 1214.0631193147365, 807: 1139.2518538087236, 808: 1078.6583519212084, 809: 1074.9350469563419, 810: 1135.598090415001, 811: 1223.1851110169841, 812: 1304.2078610064873, 813: 1372.5447533126828, 814: 1443.698778833824, 815: 1535.6625257005539, 816: 1647.7278972718439, 817: 1674.7174754214266, 818: 1621.4006274720743, 819: 1512.4885205334865, 820: 1394.5483876199894, 821: 1299.6599296177126, 822: 1222.1042994662953, 823: 1153.4296848255813, 824: 1083.5721426879934, 825: 1034.7776273205814, 826: 1091.3871623835564, 827: 1185.1764981648405, 828: 1279.4506966934152, 829: 1368.706767634932, 830: 1460.6439310099815, 831: 1564.5053472899772, 832: 1689.5654894303923, 833: 1824.7880018188866, 834: 1936.7484700089458, 835: 2006.1254228688606, 836: 2041.751229271993, 837: 2063.3906793394049, 838: 2076.7396828920882, 839: 2076.1815531581756, 840: 2073.9500967465201, 841: 2064.5816215402624, 842: 2035.9606913097296, 843: 1977.9793595779036, 844: 1894.2614095505423, 845: 1825.3839443630629, 846: 1749.5525983370355, 847: 1663.9493917481436, 848: 1566.1607335931865, 849: 1469.3268399982048, 850: 1395.218632006515, 851: 1375.528149600088, 852: 1408.1672499648441, 853: 1446.3215833791692, 854: 1513.6395725596069, 855: 1611.5467277055982, 856: 1743.9190282403508, 857: 1912.1772090992513, 858: 2073.7750188132245, 859: 2177.1837141192054, 860: 2187.083214483393, 861: 2133.5224302680331, 862: 2125.3179853936635, 863: 2116.7687400865902, 864: 2072.1850100590264, 865: 1963.8824064059099, 866: 1837.2635043042876, 867: 1724.5502602359529, 868: 1635.5530006660697, 869: 1567.3402371047566, 870: 1517.2684362908951, 871: 1467.5653335145216, 872: 1440.8008540291403, 873: 1459.5357465418858, 874: 1521.8219526771809, 875: 1585.780238373826, 876: 1585.9774510561722, 877: 1549.7392634753835, 878: 1508.3684325150207, 879: 1449.6972402306189, 880: 1392.541286281187, 881: 1332.8438983026915, 882: 1271.285007402141, 883: 1249.8797100935305, 884: 1251.9872666134077, 885: 1260.7471626422587, 886: 1299.6205037206519, 887: 1330.3588221058128, 888: 1376.5507009724163, 889: 1450.5082612728702, 890: 1525.7056314186186, 891: 1537.1923563029293, 892: 1469.0141002551989, 893: 1380.7316108800098, 894: 1343.9662287213646, 895: 1338.9155200482571, 896: 1378.4307136755067, 897: 1396.6166825840364, 898: 1361.1471374452497, 899: 1315.0136663845797, 900: 1307.7321065653789, 901: 1305.1134634990171, 902: 1292.6697691239424, 903: 1265.0349954329313, 904: 1216.4546529373652, 905: 1134.8045923267118, 906: 1074.7152301422486, 907: 1070.3167484132073, 908: 1115.0499560689611, 909: 1196.5483372405365, 910: 1273.9761839084763, 911: 1354.6824128972053, 912: 1437.4716521935723, 913: 1534.7608093991171, 914: 1611.9933895993022, 915: 1636.57311271239, 916: 1584.4518830522541, 917: 1491.5990033794276, 918: 1395.7744939975455, 919: 1344.0825561731479, 920: 1315.056949877109, 921: 1306.4317414800405, 922: 1307.3139174055643, 923: 1322.6388505076782, 924: 1338.9889131428286, 925: 1376.6779174994883, 926: 1419.0355167172434, 927: 1476.4135988215942, 928: 1514.1873264988358, 929: 1538.4242408719908, 930: 1545.4185348321878, 931: 1533.5563334972803, 932: 1533.6634870964006, 933: 1568.5134338454018, 934: 1604.8727660741224, 935: 1633.9063692159559, 936: 1607.4449536639474, 937: 1592.5322496687754, 938: 1569.7080152254061, 939: 1531.1652655950279, 940: 1470.7093571313633, 941: 1401.3952815414084, 942: 1360.0752168287008, 943: 1352.5886700684625, 944: 1346.4744333057222, 945: 1370.2933550516068, 946: 1392.8965716350256, 947: 1415.57100315146, 948: 1451.7301107710041, 949: 1501.2213294199364, 950: 1553.3169447573941, 951: 1582.8010971053236, 952: 1582.9868605818426, 953: 1591.0564128490712, 954: 1620.7839428542989, 955: 1661.3966481087341, 956: 1714.2752579604471, 957: 1752.2612641916437, 958: 1777.3748348473321, 959: 1805.4139376279111, 960: 1832.9095480414569, 961: 1855.8201134447072, 962: 1865.2722836980508, 963: 1845.2477925283256, 964: 1807.9330948357133, 965: 1744.8849615563106, 966: 1676.06754122947, 967: 1606.6110046888668, 968: 1537.4407493612064, 969: 1478.3990572367463, 970: 1442.178401993991, 971: 1419.2784125927935, 972: 1411.2554031661994, 973: 1413.9269527557792, 974: 1435.5173510743411, 975: 1432.0032738852235, 976: 1409.822077270471, 977: 1391.2996130810266, 978: 1369.8355637700295, 979: 1334.6967296901378, 980: 1302.2553230407639, 981: 1272.944663716904, 982: 1263.0719534858267, 983: 1257.2955554501821, 984: 1276.1507006325655, 985: 1321.2203137286865, 986: 1359.7425709128379, 987: 1400.5612940537235, 988: 1424.230075803488, 989: 1415.5071168302836, 990: 1400.3417193776224, 991: 1363.904653640777, 992: 1323.581629497736, 993: 1286.5267495725088, 994: 1260.1313171617026, 995: 1226.3586187577255, 996: 1183.8584036703578, 997: 1169.142453221958, 998: 1191.600398430541, 999: 1207.7607955136004, 1000: 1208.4660855821996, 1001: 1203.7118625713611, 1002: 1199.3641022280365, 1003: 1178.0224739699929, 1004: 1172.4721606033306, 1005: 1174.9347425892645, 1006: 1155.6672968812177, 1007: 1129.2842138526205, 1008: 1110.2487343115388, 1009: 1101.2246743805522, 1010: 1095.7544388516465, 1011: 1099.6643226104889, 1012: 1110.7369955273166, 1013: 1123.6999751874419, 1014: 1139.21841328952, 1015: 1171.6141149668263, 1016: 1197.6487726362855, 1017: 1235.6293678189336, 1018: 1293.6001669285336, 1019: 1360.7198735740292, 1020: 1402.6577777644677, 1021: 1421.139600781187, 1022: 1432.5782041534139, 1023: 1437.9238945639243, 1024: 1432.5902393911711, 1025: 1423.1466002877614, 1026: 1395.6434221422514, 1027: 1350.810205249551, 1028: 1297.3423627776353, 1029: 1265.5808292085596, 1030: 1262.8802278818271, 1031: 1272.7876445559664, 1032: 1284.9978307329975, 1033: 1305.299211179627, 1034: 1338.662784663604, 1035: 1347.389695870577, 1036: 1344.0843420022231, 1037: 1333.5624020966907, 1038: 1328.7964095722161, 1039: 1328.5058677379143, 1040: 1296.4994991342828, 1041: 1255.578718251202, 1042: 1206.9945581685968, 1043: 1153.5971916090425, 1044: 1137.8839642916444, 1045: 1141.2246609164313, 1046: 1155.971279927049, 1047: 1178.5045882151417, 1048: 1205.4678578288165, 1049: 1267.80158715165, 1050: 1306.5815624574871, 1051: 1327.7175290541611, 1052: 1350.507300552134, 1053: 1374.3233950900915, 1054: 1396.4862031746422, 1055: 1409.3597430378911, 1056: 1394.5402708555578, 1057: 1354.603824677338, 1058: 1308.4751624847936, 1059: 1303.7701676699678, 1060: 1323.3151581752152, 1061: 1343.3699289889146, 1062: 1362.1313342334827, 1063: 1385.2331792597595, 1064: 1405.928946084081, 1065: 1450.8763306970391, 1066: 1490.8047099286734, 1067: 1512.3535892515727, 1068: 1516.3977771873492, 1069: 1496.4757359690313, 1070: 1460.7968734243379, 1071: 1417.286501109995, 1072: 1360.7933558985394, 1073: 1308.087515365356, 1074: 1249.7225099372333, 1075: 1202.6619552258521, 1076: 1167.2991013762592, 1077: 1149.9496624950566, 1078: 1156.9699732052445, 1079: 1168.6747907897707, 1080: 1185.7666479088684, 1081: 1232.8994662903799, 1082: 1287.8762025707947, 1083: 1342.9601091324632, 1084: 1388.9748025413689, 1085: 1417.389160692019, 1086: 1430.8522454210367, 1087: 1438.1729940624525, 1088: 1456.1329829002382, 1089: 1475.5699809440282, 1090: 1468.8017134092547, 1091: 1455.6060258317282, 1092: 1462.6077124241326, 1093: 1491.5806134105089, 1094: 1507.1590804960047, 1095: 1507.9154582336707, 1096: 1507.7973489338563, 1097: 1506.5450543800964, 1098: 1490.6346435559619, 1099: 1453.6224369402621, 1100: 1407.0133070843874, 1101: 1343.3164590510128, 1102: 1274.7121003001796, 1103: 1239.8501948036142, 1104: 1221.7368236356192, 1105: 1198.9170316148491, 1106: 1173.9244691372614, 1107: 1166.2452909107935, 1108: 1181.7664630417783, 1109: 1204.8776597826718, 1110: 1230.5521016697573, 1111: 1263.396910935043, 1112: 1298.9606013113166, 1113: 1337.4412453780296, 1114: 1366.3619460976893, 1115: 1382.2915621332493, 1116: 1391.36773304962, 1117: 1384.8284628602776, 1118: 1384.6167373543631, 1119: 1394.7803527817639, 1120: 1404.351194382986, 1121: 1426.9918025115558, 1122: 1449.3963213341447, 1123: 1477.1280548307925, 1124: 1523.0443102793586, 1125: 1564.4544187063232, 1126: 1603.7702074898232, 1127: 1601.2507980921403, 1128: 1573.5085309430553, 1129: 1533.4107418434126, 1130: 1472.422506893075, 1131: 1415.4570356339939, 1132: 1369.1695941624657, 1133: 1322.1069218396378, 1134: 1280.6071473631105, 1135: 1256.8426818352257, 1136: 1269.1121428239614, 1137: 1293.2491877681096, 1138: 1312.1386633672871, 1139: 1333.4693492261813, 1140: 1352.6134479924833, 1141: 1377.8799224207419, 1142: 1396.0753353577461, 1143: 1403.4032598280978, 1144: 1397.0253502252635, 1145: 1375.1815098439051, 1146: 1349.3934857877487, 1147: 1334.2078731923141, 1148: 1325.9969223358266, 1149: 1323.2204104598407, 1150: 1317.8543953334706, 1151: 1322.8253046326245, 1152: 1340.7212701721373, 1153: 1343.071877638841, 1154: 1348.7038974807301, 1155: 1368.9123868291804, 1156: 1404.2104403112364, 1157: 1429.0625004739341, 1158: 1426.3440501849882, 1159: 1403.5919617722607, 1160: 1368.781158392215, 1161: 1324.8858597714739, 1162: 1308.7070615073733, 1163: 1297.4157737762966, 1164: 1266.3508574287757, 1165: 1224.570030317657, 1166: 1198.8945249690512, 1167: 1196.8819758555899, 1168: 1213.0745860263228, 1169: 1230.7154269615908, 1170: 1244.8687730426739, 1171: 1266.183543564616, 1172: 1300.6820872253095, 1173: 1332.6555962448813, 1174: 1352.8608227024145, 1175: 1352.116526729551, 1176: 1342.7682385653241, 1177: 1324.5085289191504, 1178: 1313.293448048076, 1179: 1321.9764862892457, 1180: 1324.4266002845502, 1181: 1317.3767874600569, 1182: 1322.6362633082683, 1183: 1361.3638939219363, 1184: 1364.4488854785532, 1185: 1362.7845365002604, 1186: 1365.4979721074296, 1187: 1369.4816533769151, 1188: 1366.1045934016479, 1189: 1344.0219275726643, 1190: 1307.4468452078529, 1191: 1262.6103274699262, 1192: 1197.2274963932832, 1193: 1192.5257032695692, 1194: 1196.2011471893816, 1195: 1199.4661817759304, 1196: 1207.8680949334387, 1197: 1217.7554287292271, 1198: 1249.9491283149525, 1199: 1281.7116273345307, 1200: 1323.3751395688305, 1201: 1366.7814207429503, 1202: 1407.6708963716214, 1203: 1443.2873195807072, 1204: 1449.370085711927, 1205: 1434.6921026287596, 1206: 1414.0371218342818, 1207: 1396.3179256126646, 1208: 1397.9259846084933, 1209: 1393.3860885434465, 1210: 1417.0769867921906, 1211: 1428.7724923105825, 1212: 1429.7032697940986, 1213: 1447.8234852439523, 1214: 1460.539194923796, 1215: 1457.8533217924562, 1216: 1438.1897790857827, 1217: 1405.0065949217383, 1218: 1379.578709940158, 1219: 1328.3725517788496, 1220: 1299.8337546054468, 1221: 1297.5768594200954, 1222: 1300.4597175510676, 1223: 1294.3054840290915, 1224: 1285.9657951523468, 1225: 1273.7099207195383, 1226: 1273.200105645144, 1227: 1284.6934633691469, 1228: 1265.3024653755554, 1229: 1232.8413532192608, 1230: 1195.6956966275548, 1231: 1165.0432197138337, 1232: 1162.5603716716496, 1233: 1164.8335016366823, 1234: 1181.5994972104343, 1235: 1193.8729719436085, 1236: 1173.8840012595974, 1237: 1172.761549982951, 1238: 1180.0844173930338, 1239: 1189.265984099206, 1240: 1189.1362904155585, 1241: 1180.2409809840995, 1242: 1179.1568809052912, 1243: 1168.2810199232383, 1244: 1154.6471693255958, 1245: 1165.4642192952854, 1246: 1196.2031967269047, 1247: 1223.6407974741496, 1248: 1248.4352599606134, 1249: 1296.8696289537277, 1250: 1357.1645567721152, 1251: 1414.5890120058868, 1252: 1448.0245122818235, 1253: 1471.6484666318081, 1254: 1482.4865673752943, 1255: 1476.4793819191639, 1256: 1459.0522160742521, 1257: 1439.0528177539786, 1258: 1399.4676211133471, 1259: 1338.4355362553774, 1260: 1292.8258521907237, 1261: 1303.98290349688, 1262: 1329.1861673134263, 1263: 1352.0150606107889, 1264: 1371.0759791583978, 1265: 1394.0422202727084, 1266: 1419.1130493467958, 1267: 1473.0422888375051, 1268: 1561.5984330050683, 1269: 1645.0247867909359, 1270: 1690.1068826988453}\n"
       ]
      }
     ],
     "prompt_number": 95
    },
    {
     "cell_type": "code",
     "collapsed": false,
     "input": [
      "## find shortest paths between initNodes in fully connected graph\n",
      "fullGraph = digraph()\n",
      "fullGraph.add_nodes(arange(0, weightMat.shape[-1], dtype=int))\n",
      "\n",
      "for i in xrange(0, len(fullGraph.nodes())) :\n",
      "    for j in xrange(0, len(fullGraph.nodes())) :\n",
      "        fullGraph.add_edge((i, j), wt=(1.0/probMat)[i, j])\n",
      "    print i, \n",
      "\n",
      "print len(fullGraph.nodes())\n",
      "print len(fullGraph.edges())"
     ],
     "language": "python",
     "metadata": {},
     "outputs": [
      {
       "output_type": "stream",
       "stream": "stdout",
       "text": [
        " 0 "
       ]
      },
      {
       "output_type": "stream",
       "stream": "stdout",
       "text": [
        "1 "
       ]
      },
      {
       "output_type": "stream",
       "stream": "stdout",
       "text": [
        "2 "
       ]
      },
      {
       "output_type": "stream",
       "stream": "stdout",
       "text": [
        "3 "
       ]
      },
      {
       "output_type": "stream",
       "stream": "stdout",
       "text": [
        "4 "
       ]
      },
      {
       "output_type": "stream",
       "stream": "stdout",
       "text": [
        "5 "
       ]
      },
      {
       "output_type": "stream",
       "stream": "stdout",
       "text": [
        "6 "
       ]
      },
      {
       "output_type": "stream",
       "stream": "stdout",
       "text": [
        "7 "
       ]
      },
      {
       "output_type": "stream",
       "stream": "stdout",
       "text": [
        "8 "
       ]
      },
      {
       "output_type": "stream",
       "stream": "stdout",
       "text": [
        "9 "
       ]
      },
      {
       "output_type": "stream",
       "stream": "stdout",
       "text": [
        "10 "
       ]
      },
      {
       "output_type": "stream",
       "stream": "stdout",
       "text": [
        "11 "
       ]
      },
      {
       "output_type": "stream",
       "stream": "stdout",
       "text": [
        "12 "
       ]
      },
      {
       "output_type": "stream",
       "stream": "stdout",
       "text": [
        "13 "
       ]
      },
      {
       "output_type": "stream",
       "stream": "stdout",
       "text": [
        "14 "
       ]
      },
      {
       "output_type": "stream",
       "stream": "stdout",
       "text": [
        "15 "
       ]
      },
      {
       "output_type": "stream",
       "stream": "stdout",
       "text": [
        "16 "
       ]
      },
      {
       "output_type": "stream",
       "stream": "stdout",
       "text": [
        "17 "
       ]
      },
      {
       "output_type": "stream",
       "stream": "stdout",
       "text": [
        "18 "
       ]
      },
      {
       "output_type": "stream",
       "stream": "stdout",
       "text": [
        "19 "
       ]
      },
      {
       "output_type": "stream",
       "stream": "stdout",
       "text": [
        "20 "
       ]
      },
      {
       "output_type": "stream",
       "stream": "stdout",
       "text": [
        "21 "
       ]
      },
      {
       "output_type": "stream",
       "stream": "stdout",
       "text": [
        "22 "
       ]
      },
      {
       "output_type": "stream",
       "stream": "stdout",
       "text": [
        "23 "
       ]
      },
      {
       "output_type": "stream",
       "stream": "stdout",
       "text": [
        "24 "
       ]
      },
      {
       "output_type": "stream",
       "stream": "stdout",
       "text": [
        "25 "
       ]
      },
      {
       "output_type": "stream",
       "stream": "stdout",
       "text": [
        "26 "
       ]
      },
      {
       "output_type": "stream",
       "stream": "stdout",
       "text": [
        "27 "
       ]
      },
      {
       "output_type": "stream",
       "stream": "stdout",
       "text": [
        "28 "
       ]
      },
      {
       "output_type": "stream",
       "stream": "stdout",
       "text": [
        "29 "
       ]
      },
      {
       "output_type": "stream",
       "stream": "stdout",
       "text": [
        "30 "
       ]
      },
      {
       "output_type": "stream",
       "stream": "stdout",
       "text": [
        "31 "
       ]
      },
      {
       "output_type": "stream",
       "stream": "stdout",
       "text": [
        "32 "
       ]
      },
      {
       "output_type": "stream",
       "stream": "stdout",
       "text": [
        "33 "
       ]
      },
      {
       "output_type": "stream",
       "stream": "stdout",
       "text": [
        "34 "
       ]
      },
      {
       "output_type": "stream",
       "stream": "stdout",
       "text": [
        "35 "
       ]
      },
      {
       "output_type": "stream",
       "stream": "stdout",
       "text": [
        "36 "
       ]
      },
      {
       "output_type": "stream",
       "stream": "stdout",
       "text": [
        "37 "
       ]
      },
      {
       "output_type": "stream",
       "stream": "stdout",
       "text": [
        "38 "
       ]
      },
      {
       "output_type": "stream",
       "stream": "stdout",
       "text": [
        "39 "
       ]
      },
      {
       "output_type": "stream",
       "stream": "stdout",
       "text": [
        "40 "
       ]
      },
      {
       "output_type": "stream",
       "stream": "stdout",
       "text": [
        "41 "
       ]
      },
      {
       "output_type": "stream",
       "stream": "stdout",
       "text": [
        "42 "
       ]
      },
      {
       "output_type": "stream",
       "stream": "stdout",
       "text": [
        "43 "
       ]
      },
      {
       "output_type": "stream",
       "stream": "stdout",
       "text": [
        "44 "
       ]
      },
      {
       "output_type": "stream",
       "stream": "stdout",
       "text": [
        "45 "
       ]
      },
      {
       "output_type": "stream",
       "stream": "stdout",
       "text": [
        "46 "
       ]
      },
      {
       "output_type": "stream",
       "stream": "stdout",
       "text": [
        "47 "
       ]
      },
      {
       "output_type": "stream",
       "stream": "stdout",
       "text": [
        "48 "
       ]
      },
      {
       "output_type": "stream",
       "stream": "stdout",
       "text": [
        "49 "
       ]
      },
      {
       "output_type": "stream",
       "stream": "stdout",
       "text": [
        "50 "
       ]
      },
      {
       "output_type": "stream",
       "stream": "stdout",
       "text": [
        "51 "
       ]
      },
      {
       "output_type": "stream",
       "stream": "stdout",
       "text": [
        "52 "
       ]
      },
      {
       "output_type": "stream",
       "stream": "stdout",
       "text": [
        "53 "
       ]
      },
      {
       "output_type": "stream",
       "stream": "stdout",
       "text": [
        "54 "
       ]
      },
      {
       "output_type": "stream",
       "stream": "stdout",
       "text": [
        "55 "
       ]
      },
      {
       "output_type": "stream",
       "stream": "stdout",
       "text": [
        "56 "
       ]
      },
      {
       "output_type": "stream",
       "stream": "stdout",
       "text": [
        "57 "
       ]
      },
      {
       "output_type": "stream",
       "stream": "stdout",
       "text": [
        "58 "
       ]
      },
      {
       "output_type": "stream",
       "stream": "stdout",
       "text": [
        "59 "
       ]
      },
      {
       "output_type": "stream",
       "stream": "stdout",
       "text": [
        "60 "
       ]
      },
      {
       "output_type": "stream",
       "stream": "stdout",
       "text": [
        "61 "
       ]
      },
      {
       "output_type": "stream",
       "stream": "stdout",
       "text": [
        "62 "
       ]
      },
      {
       "output_type": "stream",
       "stream": "stdout",
       "text": [
        "63 "
       ]
      },
      {
       "output_type": "stream",
       "stream": "stdout",
       "text": [
        "64 "
       ]
      },
      {
       "output_type": "stream",
       "stream": "stdout",
       "text": [
        "65 "
       ]
      },
      {
       "output_type": "stream",
       "stream": "stdout",
       "text": [
        "66 "
       ]
      },
      {
       "output_type": "stream",
       "stream": "stdout",
       "text": [
        "67 "
       ]
      },
      {
       "output_type": "stream",
       "stream": "stdout",
       "text": [
        "68 "
       ]
      },
      {
       "output_type": "stream",
       "stream": "stdout",
       "text": [
        "69 "
       ]
      },
      {
       "output_type": "stream",
       "stream": "stdout",
       "text": [
        "70 "
       ]
      },
      {
       "output_type": "stream",
       "stream": "stdout",
       "text": [
        "71 "
       ]
      },
      {
       "output_type": "stream",
       "stream": "stdout",
       "text": [
        "72 "
       ]
      },
      {
       "output_type": "stream",
       "stream": "stdout",
       "text": [
        "73 "
       ]
      },
      {
       "output_type": "stream",
       "stream": "stdout",
       "text": [
        "74 "
       ]
      },
      {
       "output_type": "stream",
       "stream": "stdout",
       "text": [
        "75 "
       ]
      },
      {
       "output_type": "stream",
       "stream": "stdout",
       "text": [
        "76 "
       ]
      },
      {
       "output_type": "stream",
       "stream": "stdout",
       "text": [
        "77 "
       ]
      },
      {
       "output_type": "stream",
       "stream": "stdout",
       "text": [
        "78 "
       ]
      },
      {
       "output_type": "stream",
       "stream": "stdout",
       "text": [
        "79 "
       ]
      },
      {
       "output_type": "stream",
       "stream": "stdout",
       "text": [
        "80 "
       ]
      },
      {
       "output_type": "stream",
       "stream": "stdout",
       "text": [
        "81 "
       ]
      },
      {
       "output_type": "stream",
       "stream": "stdout",
       "text": [
        "82 "
       ]
      },
      {
       "output_type": "stream",
       "stream": "stdout",
       "text": [
        "83 "
       ]
      },
      {
       "output_type": "stream",
       "stream": "stdout",
       "text": [
        "84 "
       ]
      },
      {
       "output_type": "stream",
       "stream": "stdout",
       "text": [
        "85 "
       ]
      },
      {
       "output_type": "stream",
       "stream": "stdout",
       "text": [
        "86 "
       ]
      },
      {
       "output_type": "stream",
       "stream": "stdout",
       "text": [
        "87 "
       ]
      },
      {
       "output_type": "stream",
       "stream": "stdout",
       "text": [
        "88 "
       ]
      },
      {
       "output_type": "stream",
       "stream": "stdout",
       "text": [
        "89 "
       ]
      },
      {
       "output_type": "stream",
       "stream": "stdout",
       "text": [
        "90 "
       ]
      },
      {
       "output_type": "stream",
       "stream": "stdout",
       "text": [
        "91 "
       ]
      },
      {
       "output_type": "stream",
       "stream": "stdout",
       "text": [
        "92 "
       ]
      },
      {
       "output_type": "stream",
       "stream": "stdout",
       "text": [
        "93 "
       ]
      },
      {
       "output_type": "stream",
       "stream": "stdout",
       "text": [
        "94 "
       ]
      },
      {
       "output_type": "stream",
       "stream": "stdout",
       "text": [
        "95 "
       ]
      },
      {
       "output_type": "stream",
       "stream": "stdout",
       "text": [
        "96 "
       ]
      },
      {
       "output_type": "stream",
       "stream": "stdout",
       "text": [
        "97 "
       ]
      },
      {
       "output_type": "stream",
       "stream": "stdout",
       "text": [
        "98 "
       ]
      },
      {
       "output_type": "stream",
       "stream": "stdout",
       "text": [
        "99 "
       ]
      },
      {
       "output_type": "stream",
       "stream": "stdout",
       "text": [
        "100 "
       ]
      },
      {
       "output_type": "stream",
       "stream": "stdout",
       "text": [
        "101 "
       ]
      },
      {
       "output_type": "stream",
       "stream": "stdout",
       "text": [
        "102 "
       ]
      },
      {
       "output_type": "stream",
       "stream": "stdout",
       "text": [
        "103 "
       ]
      },
      {
       "output_type": "stream",
       "stream": "stdout",
       "text": [
        "104 "
       ]
      },
      {
       "output_type": "stream",
       "stream": "stdout",
       "text": [
        "105 "
       ]
      },
      {
       "output_type": "stream",
       "stream": "stdout",
       "text": [
        "106 "
       ]
      },
      {
       "output_type": "stream",
       "stream": "stdout",
       "text": [
        "107 "
       ]
      },
      {
       "output_type": "stream",
       "stream": "stdout",
       "text": [
        "108 "
       ]
      },
      {
       "output_type": "stream",
       "stream": "stdout",
       "text": [
        "109 "
       ]
      },
      {
       "output_type": "stream",
       "stream": "stdout",
       "text": [
        "110 "
       ]
      },
      {
       "output_type": "stream",
       "stream": "stdout",
       "text": [
        "111 "
       ]
      },
      {
       "output_type": "stream",
       "stream": "stdout",
       "text": [
        "112 "
       ]
      },
      {
       "output_type": "stream",
       "stream": "stdout",
       "text": [
        "113 "
       ]
      },
      {
       "output_type": "stream",
       "stream": "stdout",
       "text": [
        "114 "
       ]
      },
      {
       "output_type": "stream",
       "stream": "stdout",
       "text": [
        "115 "
       ]
      },
      {
       "output_type": "stream",
       "stream": "stdout",
       "text": [
        "116 "
       ]
      },
      {
       "output_type": "stream",
       "stream": "stdout",
       "text": [
        "117 "
       ]
      },
      {
       "output_type": "stream",
       "stream": "stdout",
       "text": [
        "118 "
       ]
      },
      {
       "output_type": "stream",
       "stream": "stdout",
       "text": [
        "119 "
       ]
      },
      {
       "output_type": "stream",
       "stream": "stdout",
       "text": [
        "120 "
       ]
      },
      {
       "output_type": "stream",
       "stream": "stdout",
       "text": [
        "121 "
       ]
      },
      {
       "output_type": "stream",
       "stream": "stdout",
       "text": [
        "122 "
       ]
      },
      {
       "output_type": "stream",
       "stream": "stdout",
       "text": [
        "123 "
       ]
      },
      {
       "output_type": "stream",
       "stream": "stdout",
       "text": [
        "124 "
       ]
      },
      {
       "output_type": "stream",
       "stream": "stdout",
       "text": [
        "125 "
       ]
      },
      {
       "output_type": "stream",
       "stream": "stdout",
       "text": [
        "126 "
       ]
      },
      {
       "output_type": "stream",
       "stream": "stdout",
       "text": [
        "127 "
       ]
      },
      {
       "output_type": "stream",
       "stream": "stdout",
       "text": [
        "128 "
       ]
      },
      {
       "ename": "KeyboardInterrupt",
       "evalue": "",
       "output_type": "pyerr",
       "traceback": [
        "\u001b[0;31m---------------------------------------------------------------------------\u001b[0m\n\u001b[0;31mKeyboardInterrupt\u001b[0m                         Traceback (most recent call last)",
        "\u001b[0;32m<ipython-input-64-fd458b213c28>\u001b[0m in \u001b[0;36m<module>\u001b[0;34m()\u001b[0m\n\u001b[1;32m      5\u001b[0m \u001b[0;32mfor\u001b[0m \u001b[0mi\u001b[0m \u001b[0;32min\u001b[0m \u001b[0mxrange\u001b[0m\u001b[0;34m(\u001b[0m\u001b[0;36m0\u001b[0m\u001b[0;34m,\u001b[0m \u001b[0mlen\u001b[0m\u001b[0;34m(\u001b[0m\u001b[0mfullGraph\u001b[0m\u001b[0;34m.\u001b[0m\u001b[0mnodes\u001b[0m\u001b[0;34m(\u001b[0m\u001b[0;34m)\u001b[0m\u001b[0;34m)\u001b[0m\u001b[0;34m)\u001b[0m \u001b[0;34m:\u001b[0m\u001b[0;34m\u001b[0m\u001b[0m\n\u001b[1;32m      6\u001b[0m     \u001b[0;32mfor\u001b[0m \u001b[0mj\u001b[0m \u001b[0;32min\u001b[0m \u001b[0mxrange\u001b[0m\u001b[0;34m(\u001b[0m\u001b[0;36m0\u001b[0m\u001b[0;34m,\u001b[0m \u001b[0mlen\u001b[0m\u001b[0;34m(\u001b[0m\u001b[0mfullGraph\u001b[0m\u001b[0;34m.\u001b[0m\u001b[0mnodes\u001b[0m\u001b[0;34m(\u001b[0m\u001b[0;34m)\u001b[0m\u001b[0;34m)\u001b[0m\u001b[0;34m)\u001b[0m \u001b[0;34m:\u001b[0m\u001b[0;34m\u001b[0m\u001b[0m\n\u001b[0;32m----> 7\u001b[0;31m         \u001b[0mfullGraph\u001b[0m\u001b[0;34m.\u001b[0m\u001b[0madd_edge\u001b[0m\u001b[0;34m(\u001b[0m\u001b[0;34m(\u001b[0m\u001b[0mi\u001b[0m\u001b[0;34m,\u001b[0m \u001b[0mj\u001b[0m\u001b[0;34m)\u001b[0m\u001b[0;34m,\u001b[0m \u001b[0mwt\u001b[0m\u001b[0;34m=\u001b[0m\u001b[0;34m(\u001b[0m\u001b[0;36m1.0\u001b[0m\u001b[0;34m/\u001b[0m\u001b[0mprobMat\u001b[0m\u001b[0;34m)\u001b[0m\u001b[0;34m[\u001b[0m\u001b[0mi\u001b[0m\u001b[0;34m,\u001b[0m \u001b[0mj\u001b[0m\u001b[0;34m]\u001b[0m\u001b[0;34m)\u001b[0m\u001b[0;34m\u001b[0m\u001b[0m\n\u001b[0m\u001b[1;32m      8\u001b[0m     \u001b[0;32mprint\u001b[0m \u001b[0mi\u001b[0m\u001b[0;34m,\u001b[0m\u001b[0;34m\u001b[0m\u001b[0m\n\u001b[1;32m      9\u001b[0m \u001b[0;34m\u001b[0m\u001b[0m\n",
        "\u001b[0;31mKeyboardInterrupt\u001b[0m: "
       ]
      },
      {
       "output_type": "stream",
       "stream": "stdout",
       "text": [
        "129"
       ]
      }
     ],
     "prompt_number": 64
    },
    {
     "cell_type": "code",
     "collapsed": false,
     "input": [
      "print len(fullGraph.edges())\n",
      "print fullGraph.edge_weight((0, 5)), probMat[0, 3]"
     ],
     "language": "python",
     "metadata": {},
     "outputs": [
      {
       "output_type": "stream",
       "stream": "stdout",
       "text": [
        "5165\n",
        "1028.06207366 0.00111945444119\n"
       ]
      }
     ],
     "prompt_number": 62
    },
    {
     "cell_type": "code",
     "collapsed": false,
     "input": [
      "# figure(); imshow(shortPathLengths, interpolation='nearest')\n",
      "print probMat[1101, 1102], pathProbMat[1102, initialNodes[3]]\n",
      "print getShortestPath(frameGraph, initialNodes[3], initialNodes[2])"
     ],
     "language": "python",
     "metadata": {},
     "outputs": [
      {
       "output_type": "stream",
       "stream": "stdout",
       "text": [
        "0.00194762366843 0.0\n",
        "(array([], dtype=float64), -1)\n"
       ]
      }
     ],
     "prompt_number": 42
    },
    {
     "cell_type": "code",
     "collapsed": false,
     "input": [
      "# finalFrames = np.ndarray.flatten(np.array(strongly_connected_components(subGr))+idxCorrection)\n",
      "# finalFrames = np.arange(30, 274)\n",
      "# finalFrames = np.array(finalFrames)\n",
      "\n",
      "from mpl_toolkits.mplot3d import Axes3D\n",
      "import matplotlib.animation as animation"
     ],
     "language": "python",
     "metadata": {},
     "outputs": [],
     "prompt_number": 17
    },
    {
     "cell_type": "code",
     "collapsed": false,
     "input": [
      "def update_plot(i, data, scat, img, ax):\n",
      "#     plt.clf()\n",
      "#     plt.subplot(211)\n",
      "#     plt.imshow(movie[:, :, :, data[i]], interpolation='nearest')\n",
      "#     plt.subplot(212)\n",
      "    img.set_data(movie[:, :, :, data[i]])\n",
      "    ax.clear()\n",
      "    ax.plot(data)\n",
      "    for iN in initialNodes :\n",
      "        ax.plot(np.arange(0, len(finalFrames)), np.ones(len(finalFrames))*iN, 'g')\n",
      "    ax.plot(np.arange(0, len(finalFrames)), np.ones(len(finalFrames))*destFrame, 'r')\n",
      "    scat = ax.scatter(i, data[i])\n",
      "    return scat,\n",
      "\n",
      "visFrames = np.array(finalFrames) + idxCorrection\n",
      "\n",
      "x = 0\n",
      "y = visFrames[0]\n",
      "\n",
      "fig = plt.figure()\n",
      "plt.subplot(211)\n",
      "img = plt.imshow(movie[:, :, :, x], interpolation='nearest')\n",
      "ax = plt.subplot(212)\n",
      "ax.plot(finalFrames)\n",
      "for iN in initialNodes :\n",
      "    ax.plot(np.arange(0, len(finalFrames)), np.ones(len(finalFrames))*iN, 'g')\n",
      "ax.plot(np.arange(0, len(finalFrames)), np.ones(len(finalFrames))*destFrame, 'r')\n",
      "scat = ax.scatter(x, y)\n",
      "\n",
      "ani = animation.FuncAnimation(fig, update_plot, frames=xrange(len(visFrames)),\n",
      "                              fargs=(visFrames, scat, img, ax), interval=33)\n",
      "plt.show()"
     ],
     "language": "python",
     "metadata": {},
     "outputs": [],
     "prompt_number": 175
    },
    {
     "cell_type": "code",
     "collapsed": false,
     "input": [
      "## visualize frames automatically\n",
      "\n",
      "def _blit_draw(self, artists, bg_cache):\n",
      "    # Handles blitted drawing, which renders only the artists given instead\n",
      "    # of the entire figure.\n",
      "    updated_ax = []\n",
      "    for a in artists:\n",
      "        # If we haven't cached the background for this axes object, do\n",
      "        # so now. This might not always be reliable, but it's an attempt\n",
      "        # to automate the process.\n",
      "        if a.axes not in bg_cache:\n",
      "            # bg_cache[a.axes] = a.figure.canvas.copy_from_bbox(a.axes.bbox)\n",
      "            # change here\n",
      "            bg_cache[a.axes] = a.figure.canvas.copy_from_bbox(a.axes.figure.bbox)\n",
      "        a.axes.draw_artist(a)\n",
      "        updated_ax.append(a.axes)\n",
      "\n",
      "    # After rendering all the needed artists, blit each axes individually.\n",
      "    for ax in set(updated_ax):\n",
      "        # and here\n",
      "        # ax.figure.canvas.blit(ax.bbox)\n",
      "        ax.figure.canvas.blit(ax.figure.bbox)\n",
      "\n",
      "# MONKEY PATCH!!\n",
      "matplotlib.animation.Animation._blit_draw = _blit_draw\n",
      "\n",
      "fig=plt.figure()\n",
      "img = plt.imshow(np.array(cv2.cvtColor(cv2.imread(frames[finalFrames[0]]), cv2.COLOR_BGR2RGB), dtype=np.uint8))\n",
      "img.set_cmap(cm.Greys_r)\n",
      "img.axes.set_axis_off()\n",
      "ax = plt.axes()\n",
      "ttl = ax.text(.5, 1.05, '', transform = ax.transAxes, va='center')\n",
      "\n",
      "def init():\n",
      "    ttl.set_text('')\n",
      "#     img.set_data(movie[:, :, :, finalFrames[0]])\n",
      "    img.set_data(np.array(cv2.cvtColor(cv2.imread(frames[finalFrames[0]]), cv2.COLOR_BGR2RGB), dtype=np.uint8))\n",
      "    return img, ttl\n",
      "\n",
      "def func(f):\n",
      "    ttl.set_text('Frame ' + str(f) + ' from ' + str(finalFrames[f]))\n",
      "#     img.set_data(movie[:, :, :, finalFrames[f]])\n",
      "    img.set_data(np.array(cv2.cvtColor(cv2.imread(frames[finalFrames[f]]), cv2.COLOR_BGR2RGB), dtype=np.uint8))\n",
      "    return img, ttl\n",
      "\n",
      "ani = animation.FuncAnimation(fig,func,init_func=init,frames=len(finalFrames),interval=33,blit=True)\n",
      "\n",
      "plt.show()"
     ],
     "language": "python",
     "metadata": {},
     "outputs": [],
     "prompt_number": 161
    },
    {
     "cell_type": "code",
     "collapsed": false,
     "input": [
      "## visualize frames automatically\n",
      "# finalFrames = arange(0, numFrames)\n",
      "\n",
      "def _blit_draw(self, artists, bg_cache):\n",
      "    # Handles blitted drawing, which renders only the artists given instead\n",
      "    # of the entire figure.\n",
      "    updated_ax = []\n",
      "    for a in artists:\n",
      "        # If we haven't cached the background for this axes object, do\n",
      "        # so now. This might not always be reliable, but it's an attempt\n",
      "        # to automate the process.\n",
      "        if a.axes not in bg_cache:\n",
      "            # bg_cache[a.axes] = a.figure.canvas.copy_from_bbox(a.axes.bbox)\n",
      "            # change here\n",
      "            bg_cache[a.axes] = a.figure.canvas.copy_from_bbox(a.axes.figure.bbox)\n",
      "        a.axes.draw_artist(a)\n",
      "        updated_ax.append(a.axes)\n",
      "\n",
      "    # After rendering all the needed artists, blit each axes individually.\n",
      "    for ax in set(updated_ax):\n",
      "        # and here\n",
      "        # ax.figure.canvas.blit(ax.bbox)\n",
      "        ax.figure.canvas.blit(ax.figure.bbox)\n",
      "\n",
      "# MONKEY PATCH!!\n",
      "matplotlib.animation.Animation._blit_draw = _blit_draw\n",
      "\n",
      "fig=plt.figure()\n",
      "img = plt.imshow(movie[:, :, :, 0])\n",
      "img.set_cmap(cm.Greys_r)\n",
      "img.axes.set_axis_off()\n",
      "img.set_interpolation('nearest')\n",
      "ax = plt.axes()\n",
      "ttl = ax.text(.5, 1.05, '', transform = ax.transAxes, va='center')\n",
      "\n",
      "def init():\n",
      "    ttl.set_text('')\n",
      "    img.set_data(movie[:, :, :, finalFrames[0]])\n",
      "#     img.set_data(movie[:, :, :, 0])\n",
      "    return img, ttl\n",
      "\n",
      "def func(f):\n",
      "    ttl.set_text('Frame ' + str(f) + ' from ' + str(finalFrames[f]))\n",
      "    img.set_data(movie[:, :, :, finalFrames[f]])\n",
      "#     img.set_data(movie[:, :, :, f])\n",
      "    return img, ttl\n",
      "\n",
      "ani = animation.FuncAnimation(fig,func,init_func=init,frames=len(finalFrames),interval=33,blit=True)\n",
      "\n",
      "plt.show()"
     ],
     "language": "python",
     "metadata": {},
     "outputs": [],
     "prompt_number": 148
    }
   ],
   "metadata": {}
  }
 ]
}