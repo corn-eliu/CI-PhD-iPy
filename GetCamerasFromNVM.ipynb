{
 "metadata": {
  "name": ""
 },
 "nbformat": 3,
 "nbformat_minor": 0,
 "worksheets": [
  {
   "cells": [
    {
     "cell_type": "code",
     "collapsed": false,
     "input": [
      "## Imports and defines\n",
      "%pylab\n",
      "import numpy as np\n",
      "import re\n",
      "import cv2\n",
      "import cv\n",
      "import sys\n",
      "\n",
      "from mpl_toolkits.mplot3d import Axes3D\n",
      "import matplotlib.animation as animation\n",
      "\n",
      "dataLoc = \"/home/ilisescu/PhD/iPy/data/longmaze/\"\n",
      "nameLength = len(filter(None, re.split('/',dataLoc)))\n",
      "nvmFile = \"sparse.nvm\"\n",
      "\n",
      "colVals = ['0', '1', '2', '3', '4', '5', '6', '7', '8', '9', 'a', 'b', 'c', 'd', 'e', 'f']"
     ],
     "language": "python",
     "metadata": {},
     "outputs": [
      {
       "output_type": "stream",
       "stream": "stdout",
       "text": [
        "Using matplotlib backend: TkAgg\n",
        "Populating the interactive namespace from numpy and matplotlib\n"
       ]
      }
     ],
     "prompt_number": 1
    },
    {
     "cell_type": "code",
     "collapsed": false,
     "input": [
      "## transforms quaternion to a rotation matrix (taken from vSFM via Clem)\n",
      "## need to take transpose of m to get correct rotation\n",
      "def qToR(q):\n",
      "    a = q[0]\n",
      "    b = q[1]\n",
      "    c = q[2]\n",
      "    d = q[3]\n",
      "   \n",
      "    qq = np.sqrt(a*a+b*b+c*c+d*d)\n",
      "   \n",
      "    if (qq <= 0.):\n",
      "        a = 1.\n",
      "        b = c = d = 0.\n",
      "    m = np.array([[a*a+b*b-c*c-d*d, 2*b*c-2*a*d, 2*b*d+2*a*c], [2*b*c+2*a*d, a*a-b*b+c*c-d*d, 2*c*d-2*a*b], [2*b*d-2*a*c, 2*c*d+2*a*b, a*a-b*b-c*c+d*d]])\n",
      "    return m\n",
      "    "
     ],
     "language": "python",
     "metadata": {},
     "outputs": [],
     "prompt_number": 2
    },
    {
     "cell_type": "code",
     "collapsed": false,
     "input": [
      "# threshold is the distance threshold\n",
      "def ransac(points, threshold, iterations) :\n",
      "    ## find best line to fit to set of points using RANSAC\n",
      "    randomIdx = np.round(np.random.rand(iterations, 2)*(len(points)-1))\n",
      "    \n",
      "    # line that best fits the points\n",
      "    bestFit = np.zeros(2*points.shape[1]) # n = bestFit[0:points.shape[1]]; a = bestFit[points.shape[1]:len(bestFit)]\n",
      "#     print bestFit.shape\n",
      "    # save the list of inliers for best fit (point indices)\n",
      "    bestFitInliers = list()\n",
      "    # save the indices of the points used for best fit\n",
      "    bestFitPoints = np.zeros(2)\n",
      "    \n",
      "    # for bookeeping inliers while searching best fit\n",
      "    inliers = list()\n",
      "    count = 0\n",
      "    for idxs in randomIdx :\n",
      "        if idxs[0] != idxs[1] :\n",
      "            inliers = list()\n",
      "            a = points[idxs[0]] \n",
      "            b = points[idxs[1]]\n",
      "            v = a - b\n",
      "            n = v / np.linalg.norm(v)\n",
      "            for idx in xrange(0, len(points)) :\n",
      "                p = points[idx]\n",
      "                distance = np.linalg.norm(a - p - np.dot(np.dot(a-p, n), n)) # distance between point p and line x = a +tn\n",
      "                if distance <= threshold :\n",
      "                    inliers.append(idx)\n",
      "            \n",
      "            ## check if found new best fit\n",
      "            if len(inliers) > len(bestFitInliers) :\n",
      "                bestFit[0:points.shape[1]] = n\n",
      "                bestFit[points.shape[1]:len(bestFit)] = a\n",
      "                bestFitInliers = np.copy(inliers)\n",
      "                bestFitPoints = np.copy(idxs)\n",
      "        else :\n",
      "            print \"got same indices\"\n",
      "        sys.stdout.write('\\r' + \"Ransac iteration \" + np.string_(count) + \" of \" + np.string_(iterations))\n",
      "        sys.stdout.flush()\n",
      "        count += 1\n",
      "    print\n",
      "    \n",
      "    return bestFit, bestFitInliers, bestFitPoints\n"
     ],
     "language": "python",
     "metadata": {},
     "outputs": [],
     "prompt_number": 3
    },
    {
     "cell_type": "code",
     "collapsed": false,
     "input": [
      "def fitLine2D(points) :\n",
      "    if(points.shape[1]!=2):\n",
      "        raise RuntimeError(\"Points must be 2D\")\n",
      "\n",
      "    ####### use Ax=b approach ######\n",
      "#     A = np.hstack((np.reshape(points[:, 0],[len(points), 1]), np.ones([len(points), 1])))\n",
      "#     x = np.dot(np.linalg.pinv(A), np.reshape(points[:, 1],[len(points), 1]))\n",
      "        \n",
      "#     p1 = np.array([0, x[1]])\n",
      "#     p2 = np.array([-x[1]/x[0], 0])\n",
      "    ################################\n",
      "    ####### use svd approach ######\n",
      "    A = np.hstack((points, np.ones([len(points), 1])))\n",
      "    U, S, V = np.linalg.svd(A)\n",
      "    x = V.T[:, len(V)-1]\n",
      "    \n",
      "    p1 = np.array([0, -x[2]/x[1]])\n",
      "    p2 = np.array([-x[2]/x[0], 0])\n",
      "    ###############################\n",
      "    \n",
      "    n = (p1-p2) / np.linalg.norm(p1-p2)\n",
      "    \n",
      "    return np.array(np.hstack((n, p1)), dtype=float32)\n",
      "\n",
      "def fitLine3D(points) :\n",
      "    if(points.shape[1]!=3):\n",
      "        raise RuntimeError(\"Points must be 3D\")\n",
      "        \n",
      "    ####### use svd approach ######\n",
      "    A = points\n",
      "    r0 = np.mean(A, axis=0)\n",
      "    A = A - np.repeat(np.reshape(r0, [1, len(r0)]), len(A), axis=0)\n",
      "    U, S, V = np.linalg.svd(A)\n",
      "    n = V.T[:, 0]\n",
      "    ###############################\n",
      "    \n",
      "    return np.array(np.hstack((n, r0)), dtype=float32)\n",
      "\n",
      "def fitPlane(points) :\n",
      "    if(points.shape[1]!=3):\n",
      "        raise RuntimeError(\"Points must be 3D\")\n",
      "        \n",
      "    ####### use svd approach ######\n",
      "    A =  np.hstack((points, np.ones([len(points), 1])))\n",
      "    U, S, V = np.linalg.svd(A)\n",
      "    params = V.T[:, len(V)-1]\n",
      "    \n",
      "    n = np.array(params[0:-1])\n",
      "    r0 = np.mean(points, axis=0) # take r0 as mean of given points\n",
      "    ###############################\n",
      "    \n",
      "    return np.array(np.hstack((n, r0)), dtype=float32)\n",
      "#     return params\n"
     ],
     "language": "python",
     "metadata": {},
     "outputs": [],
     "prompt_number": 4
    },
    {
     "cell_type": "code",
     "collapsed": false,
     "input": [
      "##  compute l2 distance between given frames\n",
      "def l2dist(f1, f2) : \n",
      "    img = f1 - f2\n",
      "    img = img ** 2\n",
      "    result = np.sqrt(np.sum(img))\n",
      "    return result"
     ],
     "language": "python",
     "metadata": {},
     "outputs": [],
     "prompt_number": 5
    },
    {
     "cell_type": "code",
     "collapsed": false,
     "input": [
      "## read nvm file one line at a time and store lines containing camera locations\n",
      "ins = open(dataLoc + nvmFile, \"r\")\n",
      "count = 0\n",
      "cameraList = list()\n",
      "for line in ins:\n",
      "    if line.startswith(dataLoc) :\n",
      "        cameraList.append(line)\n",
      "        count += 1\n",
      "ins.close()\n",
      "print \"found\", len(cameraList), \"cameras\"\n",
      "\n",
      "## process cameras to get transformation matrices\n",
      "# x = np.zeros((2,),dtype=('a10, d4, d4, d4, d4, d4, d4, d4'))\n",
      "cameras = np.empty((len(cameraList), 7), dtype=np.double) # contains quaternion rotation and camera center\n",
      "cameraNames = np.empty(len(cameraList), dtype='S20')\n",
      "idx = 0\n",
      "for camera in cameraList :\n",
      "    # get frame name\n",
      "    cameraNames[idx] = filter(None, re.split('/| |\\t',camera))[nameLength]\n",
      "    # get rotation (first 4 doubles) and camera center (last 3 doubles)\n",
      "    cameras[idx] = np.array(filter(None, re.split(' |\\t',camera))[2:9], dtype=np.double)\n",
      "    idx += 1\n",
      "\n",
      "## sort cameras based on frame name\n",
      "sortIdx = np.argsort(cameraNames)\n",
      "cameraNames = cameraNames[sortIdx]\n",
      "cameras = cameras[sortIdx]"
     ],
     "language": "python",
     "metadata": {},
     "outputs": [
      {
       "output_type": "stream",
       "stream": "stdout",
       "text": [
        "found 769 cameras\n"
       ]
      }
     ],
     "prompt_number": 6
    },
    {
     "cell_type": "code",
     "collapsed": false,
     "input": [
      "try :\n",
      "    ## load distanceMatrix from file\n",
      "    distanceMatrix = np.load(dataLoc+\"distanceMatrix.npy\")\n",
      "except IOError :\n",
      "    ## load frames\n",
      "    frameSize = cv2.imread(dataLoc+cameraNames[0]).shape\n",
      "    movie = np.zeros(np.hstack([frameSize[0], frameSize[1], len(cameraNames)]))\n",
      "    for i in range(0, len(cameraNames)) :\n",
      "        im = np.array(cv2.imread(dataLoc+cameraNames[i]))/255.0\n",
      "        movie[:, :, i] = np.dot(im[:,:,:3], [0.0722, 0.7152, 0.2126])   # matlab RGB2GRAY multiplies [0.299, 0.587, 0.144] but cv2 is BGR\n",
      "        sys.stdout.write('\\r' + \"Loading frame \" + np.string_(i) + \" of \" + np.string_(len(cameraNames)))\n",
      "        sys.stdout.flush() \n",
      "    \n",
      "    ## compute distance between each pair of images\n",
      "    distanceMatrix = np.zeros([len(cameraNames), len(cameraNames)])\n",
      "    for i in range(0, len(cameraNames)) :\n",
      "        for j in range(i, len(cameraNames)) :\n",
      "            distanceMatrix[j, i] = distanceMatrix[i, j] = l2dist(movie[:, :, i], movie[:, :, j])\n",
      "        print (len(cameraNames)-i),\n",
      "        \n",
      "    ## save file\n",
      "    np.save(dataLoc+\"distanceMatrix\")\n",
      "\n",
      "figure(0)\n",
      "plt.imshow(distanceMatrix, cmap = cm.Greys_r, interpolation='nearest')\n",
      "figure(1)\n",
      "plt.imshow(distanceMatrix, interpolation='nearest')"
     ],
     "language": "python",
     "metadata": {},
     "outputs": [
      {
       "metadata": {},
       "output_type": "pyout",
       "prompt_number": 7,
       "text": [
        "<matplotlib.image.AxesImage at 0x44a8990>"
       ]
      }
     ],
     "prompt_number": 7
    },
    {
     "cell_type": "code",
     "collapsed": false,
     "input": [
      "## divide footage into straigts and turns\n",
      "\n",
      "cameraLocs2D = np.zeros([len(cameras), 2])\n",
      "## project all camera locations onto best fitting plane\n",
      "plane = fitPlane(cameras[:, 4:7])\n",
      "\n",
      "n = plane[0:3]\n",
      "p = plane[3:6]\n",
      "print \"fitted plane:\", plane\n",
      "# p = np.array([0.0, 0.0, 0.0]) ## project all camera locations on XZ plane (in vsfm up is Y???)\n",
      "# n = np.array([0.0, 1.0, 0.0])\n",
      "\n",
      "idx = 0\n",
      "for cc in cameras[:, 4:7] :\n",
      "    cc2D = cc - np.dot(cc - p, n)*n # project 3D point\n",
      "#     print cc2D, cc\n",
      "#     cameraLocs2D[idx] = [cc2D[0]/cc2D[1], cc2D[2]/cc2D[1]]\n",
      "    cameraLocs2D[idx] = cc2D[[0, 2]] # after project cc onto fitted plane, discard Y since cc is being projected on XZ plane, the Y coord will be 0 so only take X and Z coord\n",
      "    idx += 1\n",
      "\n",
      "## look for all the lines \n",
      "points = cameraLocs2D\n",
      "linesInliers = list()\n",
      "## each line in line is a 6D array where first 3 elements give the line direction and last 3 elements give a point on line\n",
      "lines = list()\n",
      "while len(points) > 1 : # can't find lines with less than 2 points\n",
      "    fittedLine, inliers, bestCameras = ransac(points, 1.0, 500)\n",
      "    if len(inliers) > 1 :\n",
      "        line = fitLine2D(cameraLocs2D[inliers])#cv2.fitLine(np.array(cameraLocs2D[inliers], dtype=float32), cv.CV_DIST_L2, 0, 0.01, 0.01)\n",
      "        lines.append(line)\n",
      "        linesInliers.append(inliers)\n",
      "        points = cameraLocs2D[np.delete(np.arange(0, len(cameraLocs2D), 1), np.hstack(linesInliers))]\n",
      "        \n",
      "        \n",
      "# order line segments based on time (i.e. first segment is the one assigned to the first sequence of frames)\n",
      "sums = np.zeros(len(lines))\n",
      "for i in xrange(0, len(lines)) :\n",
      "    sums[i] = np.sum(linesInliers[i])\n",
      "order = np.argsort(sums)\n",
      "lines = np.array(lines)[order]\n",
      "linesInliers = np.array(linesInliers)[order]"
     ],
     "language": "python",
     "metadata": {},
     "outputs": [
      {
       "output_type": "stream",
       "stream": "stdout",
       "text": [
        "fitted plane: [ -4.65966389e-03  -9.93584871e-01   5.98780025e-05  -1.95562801e+01\n",
        "  -2.25384980e-02  -1.26303282e+01]\n",
        "\r",
        "Ransac iteration 0 of 500"
       ]
      },
      {
       "output_type": "stream",
       "stream": "stdout",
       "text": [
        "\r",
        "Ransac iteration 1 of 500"
       ]
      },
      {
       "output_type": "stream",
       "stream": "stdout",
       "text": [
        "\r",
        "Ransac iteration 2 of 500"
       ]
      },
      {
       "output_type": "stream",
       "stream": "stdout",
       "text": [
        "\r",
        "Ransac iteration 3 of 500"
       ]
      },
      {
       "output_type": "stream",
       "stream": "stdout",
       "text": [
        "\r",
        "Ransac iteration 4 of 500"
       ]
      },
      {
       "output_type": "stream",
       "stream": "stdout",
       "text": [
        "\r",
        "Ransac iteration 5 of 500"
       ]
      },
      {
       "output_type": "stream",
       "stream": "stdout",
       "text": [
        "\r",
        "Ransac iteration 6 of 500"
       ]
      },
      {
       "output_type": "stream",
       "stream": "stdout",
       "text": [
        "\r",
        "Ransac iteration 7 of 500"
       ]
      },
      {
       "output_type": "stream",
       "stream": "stdout",
       "text": [
        "\r",
        "Ransac iteration 8 of 500"
       ]
      },
      {
       "output_type": "stream",
       "stream": "stdout",
       "text": [
        "\r",
        "Ransac iteration 9 of 500"
       ]
      },
      {
       "output_type": "stream",
       "stream": "stdout",
       "text": [
        "\r",
        "Ransac iteration 10 of 500"
       ]
      },
      {
       "output_type": "stream",
       "stream": "stdout",
       "text": [
        "\r",
        "Ransac iteration 11 of 500"
       ]
      },
      {
       "output_type": "stream",
       "stream": "stdout",
       "text": [
        "\r",
        "Ransac iteration 12 of 500"
       ]
      },
      {
       "output_type": "stream",
       "stream": "stdout",
       "text": [
        "\r",
        "Ransac iteration 13 of 500"
       ]
      },
      {
       "output_type": "stream",
       "stream": "stdout",
       "text": [
        "\r",
        "Ransac iteration 14 of 500"
       ]
      },
      {
       "output_type": "stream",
       "stream": "stdout",
       "text": [
        "\r",
        "Ransac iteration 15 of 500"
       ]
      },
      {
       "output_type": "stream",
       "stream": "stdout",
       "text": [
        "\r",
        "Ransac iteration 16 of 500"
       ]
      },
      {
       "output_type": "stream",
       "stream": "stdout",
       "text": [
        "\r",
        "Ransac iteration 17 of 500"
       ]
      },
      {
       "output_type": "stream",
       "stream": "stdout",
       "text": [
        "\r",
        "Ransac iteration 18 of 500"
       ]
      },
      {
       "output_type": "stream",
       "stream": "stdout",
       "text": [
        "\r",
        "Ransac iteration 19 of 500"
       ]
      },
      {
       "output_type": "stream",
       "stream": "stdout",
       "text": [
        "\r",
        "Ransac iteration 20 of 500"
       ]
      },
      {
       "output_type": "stream",
       "stream": "stdout",
       "text": [
        "\r",
        "Ransac iteration 21 of 500"
       ]
      },
      {
       "output_type": "stream",
       "stream": "stdout",
       "text": [
        "\r",
        "Ransac iteration 22 of 500"
       ]
      },
      {
       "output_type": "stream",
       "stream": "stdout",
       "text": [
        "\r",
        "Ransac iteration 23 of 500"
       ]
      },
      {
       "output_type": "stream",
       "stream": "stdout",
       "text": [
        "\r",
        "Ransac iteration 24 of 500"
       ]
      },
      {
       "output_type": "stream",
       "stream": "stdout",
       "text": [
        "\r",
        "Ransac iteration 25 of 500"
       ]
      },
      {
       "output_type": "stream",
       "stream": "stdout",
       "text": [
        "\r",
        "Ransac iteration 26 of 500"
       ]
      },
      {
       "output_type": "stream",
       "stream": "stdout",
       "text": [
        "\r",
        "Ransac iteration 27 of 500"
       ]
      },
      {
       "output_type": "stream",
       "stream": "stdout",
       "text": [
        "\r",
        "Ransac iteration 28 of 500"
       ]
      },
      {
       "output_type": "stream",
       "stream": "stdout",
       "text": [
        "\r",
        "Ransac iteration 29 of 500"
       ]
      },
      {
       "output_type": "stream",
       "stream": "stdout",
       "text": [
        "\r",
        "Ransac iteration 30 of 500"
       ]
      },
      {
       "output_type": "stream",
       "stream": "stdout",
       "text": [
        "\r",
        "Ransac iteration 31 of 500"
       ]
      },
      {
       "output_type": "stream",
       "stream": "stdout",
       "text": [
        "\r",
        "Ransac iteration 32 of 500"
       ]
      },
      {
       "output_type": "stream",
       "stream": "stdout",
       "text": [
        "\r",
        "Ransac iteration 33 of 500"
       ]
      },
      {
       "output_type": "stream",
       "stream": "stdout",
       "text": [
        "\r",
        "Ransac iteration 34 of 500"
       ]
      },
      {
       "output_type": "stream",
       "stream": "stdout",
       "text": [
        "\r",
        "Ransac iteration 35 of 500"
       ]
      },
      {
       "output_type": "stream",
       "stream": "stdout",
       "text": [
        "\r",
        "Ransac iteration 36 of 500"
       ]
      },
      {
       "output_type": "stream",
       "stream": "stdout",
       "text": [
        "\r",
        "Ransac iteration 37 of 500"
       ]
      },
      {
       "output_type": "stream",
       "stream": "stdout",
       "text": [
        "\r",
        "Ransac iteration 38 of 500"
       ]
      },
      {
       "output_type": "stream",
       "stream": "stdout",
       "text": [
        "\r",
        "Ransac iteration 39 of 500"
       ]
      },
      {
       "output_type": "stream",
       "stream": "stdout",
       "text": [
        "\r",
        "Ransac iteration 40 of 500"
       ]
      },
      {
       "output_type": "stream",
       "stream": "stdout",
       "text": [
        "\r",
        "Ransac iteration 41 of 500"
       ]
      },
      {
       "output_type": "stream",
       "stream": "stdout",
       "text": [
        "\r",
        "Ransac iteration 42 of 500"
       ]
      },
      {
       "output_type": "stream",
       "stream": "stdout",
       "text": [
        "\r",
        "Ransac iteration 43 of 500"
       ]
      },
      {
       "output_type": "stream",
       "stream": "stdout",
       "text": [
        "\r",
        "Ransac iteration 44 of 500"
       ]
      },
      {
       "output_type": "stream",
       "stream": "stdout",
       "text": [
        "\r",
        "Ransac iteration 45 of 500"
       ]
      },
      {
       "output_type": "stream",
       "stream": "stdout",
       "text": [
        "\r",
        "Ransac iteration 46 of 500"
       ]
      },
      {
       "output_type": "stream",
       "stream": "stdout",
       "text": [
        "\r",
        "Ransac iteration 47 of 500"
       ]
      },
      {
       "output_type": "stream",
       "stream": "stdout",
       "text": [
        "\r",
        "Ransac iteration 48 of 500"
       ]
      },
      {
       "output_type": "stream",
       "stream": "stdout",
       "text": [
        "\r",
        "Ransac iteration 49 of 500"
       ]
      },
      {
       "output_type": "stream",
       "stream": "stdout",
       "text": [
        "\r",
        "Ransac iteration 50 of 500"
       ]
      },
      {
       "output_type": "stream",
       "stream": "stdout",
       "text": [
        "\r",
        "Ransac iteration 51 of 500"
       ]
      },
      {
       "output_type": "stream",
       "stream": "stdout",
       "text": [
        "\r",
        "Ransac iteration 52 of 500"
       ]
      },
      {
       "output_type": "stream",
       "stream": "stdout",
       "text": [
        "\r",
        "Ransac iteration 53 of 500"
       ]
      },
      {
       "output_type": "stream",
       "stream": "stdout",
       "text": [
        "\r",
        "Ransac iteration 54 of 500"
       ]
      },
      {
       "output_type": "stream",
       "stream": "stdout",
       "text": [
        "\r",
        "Ransac iteration 55 of 500"
       ]
      },
      {
       "output_type": "stream",
       "stream": "stdout",
       "text": [
        "\r",
        "Ransac iteration 56 of 500"
       ]
      },
      {
       "output_type": "stream",
       "stream": "stdout",
       "text": [
        "\r",
        "Ransac iteration 57 of 500"
       ]
      },
      {
       "output_type": "stream",
       "stream": "stdout",
       "text": [
        "\r",
        "Ransac iteration 58 of 500"
       ]
      },
      {
       "output_type": "stream",
       "stream": "stdout",
       "text": [
        "\r",
        "Ransac iteration 59 of 500"
       ]
      },
      {
       "output_type": "stream",
       "stream": "stdout",
       "text": [
        "\r",
        "Ransac iteration 60 of 500"
       ]
      },
      {
       "output_type": "stream",
       "stream": "stdout",
       "text": [
        "\r",
        "Ransac iteration 61 of 500"
       ]
      },
      {
       "output_type": "stream",
       "stream": "stdout",
       "text": [
        "\r",
        "Ransac iteration 62 of 500"
       ]
      },
      {
       "output_type": "stream",
       "stream": "stdout",
       "text": [
        "\r",
        "Ransac iteration 63 of 500"
       ]
      },
      {
       "output_type": "stream",
       "stream": "stdout",
       "text": [
        "\r",
        "Ransac iteration 64 of 500"
       ]
      },
      {
       "output_type": "stream",
       "stream": "stdout",
       "text": [
        "\r",
        "Ransac iteration 65 of 500"
       ]
      },
      {
       "output_type": "stream",
       "stream": "stdout",
       "text": [
        "\r",
        "Ransac iteration 66 of 500"
       ]
      },
      {
       "output_type": "stream",
       "stream": "stdout",
       "text": [
        "\r",
        "Ransac iteration 67 of 500"
       ]
      },
      {
       "output_type": "stream",
       "stream": "stdout",
       "text": [
        "\r",
        "Ransac iteration 68 of 500"
       ]
      },
      {
       "output_type": "stream",
       "stream": "stdout",
       "text": [
        "\r",
        "Ransac iteration 69 of 500"
       ]
      },
      {
       "output_type": "stream",
       "stream": "stdout",
       "text": [
        "\r",
        "Ransac iteration 70 of 500"
       ]
      },
      {
       "output_type": "stream",
       "stream": "stdout",
       "text": [
        "\r",
        "Ransac iteration 71 of 500"
       ]
      },
      {
       "output_type": "stream",
       "stream": "stdout",
       "text": [
        "\r",
        "Ransac iteration 72 of 500"
       ]
      },
      {
       "output_type": "stream",
       "stream": "stdout",
       "text": [
        "\r",
        "Ransac iteration 73 of 500"
       ]
      },
      {
       "output_type": "stream",
       "stream": "stdout",
       "text": [
        "\r",
        "Ransac iteration 74 of 500"
       ]
      },
      {
       "output_type": "stream",
       "stream": "stdout",
       "text": [
        "\r",
        "Ransac iteration 75 of 500"
       ]
      },
      {
       "output_type": "stream",
       "stream": "stdout",
       "text": [
        "\r",
        "Ransac iteration 76 of 500"
       ]
      },
      {
       "output_type": "stream",
       "stream": "stdout",
       "text": [
        "\r",
        "Ransac iteration 77 of 500"
       ]
      },
      {
       "output_type": "stream",
       "stream": "stdout",
       "text": [
        "\r",
        "Ransac iteration 78 of 500"
       ]
      },
      {
       "output_type": "stream",
       "stream": "stdout",
       "text": [
        "\r",
        "Ransac iteration 79 of 500"
       ]
      },
      {
       "output_type": "stream",
       "stream": "stdout",
       "text": [
        "\r",
        "Ransac iteration 80 of 500"
       ]
      },
      {
       "output_type": "stream",
       "stream": "stdout",
       "text": [
        "\r",
        "Ransac iteration 81 of 500"
       ]
      },
      {
       "output_type": "stream",
       "stream": "stdout",
       "text": [
        "\r",
        "Ransac iteration 82 of 500"
       ]
      },
      {
       "output_type": "stream",
       "stream": "stdout",
       "text": [
        "\r",
        "Ransac iteration 83 of 500"
       ]
      },
      {
       "output_type": "stream",
       "stream": "stdout",
       "text": [
        "\r",
        "Ransac iteration 84 of 500"
       ]
      },
      {
       "output_type": "stream",
       "stream": "stdout",
       "text": [
        "\r",
        "Ransac iteration 85 of 500"
       ]
      },
      {
       "output_type": "stream",
       "stream": "stdout",
       "text": [
        "\r",
        "Ransac iteration 86 of 500"
       ]
      },
      {
       "output_type": "stream",
       "stream": "stdout",
       "text": [
        "\r",
        "Ransac iteration 87 of 500"
       ]
      },
      {
       "output_type": "stream",
       "stream": "stdout",
       "text": [
        "\r",
        "Ransac iteration 88 of 500"
       ]
      },
      {
       "output_type": "stream",
       "stream": "stdout",
       "text": [
        "\r",
        "Ransac iteration 89 of 500"
       ]
      },
      {
       "output_type": "stream",
       "stream": "stdout",
       "text": [
        "\r",
        "Ransac iteration 90 of 500"
       ]
      },
      {
       "output_type": "stream",
       "stream": "stdout",
       "text": [
        "\r",
        "Ransac iteration 91 of 500"
       ]
      },
      {
       "output_type": "stream",
       "stream": "stdout",
       "text": [
        "\r",
        "Ransac iteration 92 of 500"
       ]
      },
      {
       "output_type": "stream",
       "stream": "stdout",
       "text": [
        "\r",
        "Ransac iteration 93 of 500"
       ]
      },
      {
       "output_type": "stream",
       "stream": "stdout",
       "text": [
        "\r",
        "Ransac iteration 94 of 500"
       ]
      },
      {
       "output_type": "stream",
       "stream": "stdout",
       "text": [
        "\r",
        "Ransac iteration 95 of 500"
       ]
      },
      {
       "output_type": "stream",
       "stream": "stdout",
       "text": [
        "\r",
        "Ransac iteration 96 of 500"
       ]
      },
      {
       "output_type": "stream",
       "stream": "stdout",
       "text": [
        "\r",
        "Ransac iteration 97 of 500"
       ]
      },
      {
       "output_type": "stream",
       "stream": "stdout",
       "text": [
        "\r",
        "Ransac iteration 98 of 500"
       ]
      },
      {
       "output_type": "stream",
       "stream": "stdout",
       "text": [
        "\r",
        "Ransac iteration 99 of 500"
       ]
      },
      {
       "output_type": "stream",
       "stream": "stdout",
       "text": [
        "\r",
        "Ransac iteration 100 of 500"
       ]
      },
      {
       "output_type": "stream",
       "stream": "stdout",
       "text": [
        "\r",
        "Ransac iteration 101 of 500"
       ]
      },
      {
       "output_type": "stream",
       "stream": "stdout",
       "text": [
        "\r",
        "Ransac iteration 102 of 500"
       ]
      },
      {
       "output_type": "stream",
       "stream": "stdout",
       "text": [
        "\r",
        "Ransac iteration 103 of 500"
       ]
      },
      {
       "output_type": "stream",
       "stream": "stdout",
       "text": [
        "\r",
        "Ransac iteration 104 of 500"
       ]
      },
      {
       "output_type": "stream",
       "stream": "stdout",
       "text": [
        "\r",
        "Ransac iteration 105 of 500"
       ]
      },
      {
       "output_type": "stream",
       "stream": "stdout",
       "text": [
        "\r",
        "Ransac iteration 106 of 500"
       ]
      },
      {
       "output_type": "stream",
       "stream": "stdout",
       "text": [
        "\r",
        "Ransac iteration 107 of 500"
       ]
      },
      {
       "output_type": "stream",
       "stream": "stdout",
       "text": [
        "\r",
        "Ransac iteration 108 of 500"
       ]
      },
      {
       "output_type": "stream",
       "stream": "stdout",
       "text": [
        "\r",
        "Ransac iteration 109 of 500"
       ]
      },
      {
       "output_type": "stream",
       "stream": "stdout",
       "text": [
        "\r",
        "Ransac iteration 110 of 500"
       ]
      },
      {
       "output_type": "stream",
       "stream": "stdout",
       "text": [
        "\r",
        "Ransac iteration 111 of 500"
       ]
      },
      {
       "output_type": "stream",
       "stream": "stdout",
       "text": [
        "\r",
        "Ransac iteration 112 of 500"
       ]
      },
      {
       "output_type": "stream",
       "stream": "stdout",
       "text": [
        "\r",
        "Ransac iteration 113 of 500"
       ]
      },
      {
       "output_type": "stream",
       "stream": "stdout",
       "text": [
        "\r",
        "Ransac iteration 114 of 500"
       ]
      },
      {
       "output_type": "stream",
       "stream": "stdout",
       "text": [
        "\r",
        "Ransac iteration 115 of 500"
       ]
      },
      {
       "output_type": "stream",
       "stream": "stdout",
       "text": [
        "\r",
        "Ransac iteration 116 of 500"
       ]
      },
      {
       "output_type": "stream",
       "stream": "stdout",
       "text": [
        "\r",
        "Ransac iteration 117 of 500"
       ]
      },
      {
       "output_type": "stream",
       "stream": "stdout",
       "text": [
        "\r",
        "Ransac iteration 118 of 500"
       ]
      },
      {
       "output_type": "stream",
       "stream": "stdout",
       "text": [
        "\r",
        "Ransac iteration 119 of 500"
       ]
      },
      {
       "output_type": "stream",
       "stream": "stdout",
       "text": [
        "\r",
        "Ransac iteration 120 of 500"
       ]
      },
      {
       "output_type": "stream",
       "stream": "stdout",
       "text": [
        "\r",
        "Ransac iteration 121 of 500"
       ]
      },
      {
       "output_type": "stream",
       "stream": "stdout",
       "text": [
        "\r",
        "Ransac iteration 122 of 500"
       ]
      },
      {
       "output_type": "stream",
       "stream": "stdout",
       "text": [
        "\r",
        "Ransac iteration 123 of 500"
       ]
      },
      {
       "output_type": "stream",
       "stream": "stdout",
       "text": [
        "\r",
        "Ransac iteration 124 of 500"
       ]
      },
      {
       "output_type": "stream",
       "stream": "stdout",
       "text": [
        "\r",
        "Ransac iteration 125 of 500"
       ]
      },
      {
       "output_type": "stream",
       "stream": "stdout",
       "text": [
        "\r",
        "Ransac iteration 126 of 500"
       ]
      },
      {
       "output_type": "stream",
       "stream": "stdout",
       "text": [
        "\r",
        "Ransac iteration 127 of 500"
       ]
      },
      {
       "output_type": "stream",
       "stream": "stdout",
       "text": [
        "\r",
        "Ransac iteration 128 of 500"
       ]
      },
      {
       "output_type": "stream",
       "stream": "stdout",
       "text": [
        "\r",
        "Ransac iteration 129 of 500"
       ]
      },
      {
       "output_type": "stream",
       "stream": "stdout",
       "text": [
        "\r",
        "Ransac iteration 130 of 500"
       ]
      },
      {
       "output_type": "stream",
       "stream": "stdout",
       "text": [
        "\r",
        "Ransac iteration 131 of 500"
       ]
      },
      {
       "output_type": "stream",
       "stream": "stdout",
       "text": [
        "\r",
        "Ransac iteration 132 of 500"
       ]
      },
      {
       "output_type": "stream",
       "stream": "stdout",
       "text": [
        "\r",
        "Ransac iteration 133 of 500"
       ]
      },
      {
       "output_type": "stream",
       "stream": "stdout",
       "text": [
        "\r",
        "Ransac iteration 134 of 500"
       ]
      },
      {
       "output_type": "stream",
       "stream": "stdout",
       "text": [
        "\r",
        "Ransac iteration 135 of 500"
       ]
      },
      {
       "output_type": "stream",
       "stream": "stdout",
       "text": [
        "\r",
        "Ransac iteration 136 of 500"
       ]
      },
      {
       "output_type": "stream",
       "stream": "stdout",
       "text": [
        "\r",
        "Ransac iteration 137 of 500"
       ]
      },
      {
       "output_type": "stream",
       "stream": "stdout",
       "text": [
        "\r",
        "Ransac iteration 138 of 500"
       ]
      },
      {
       "output_type": "stream",
       "stream": "stdout",
       "text": [
        "\r",
        "Ransac iteration 139 of 500"
       ]
      },
      {
       "output_type": "stream",
       "stream": "stdout",
       "text": [
        "\r",
        "Ransac iteration 140 of 500"
       ]
      },
      {
       "output_type": "stream",
       "stream": "stdout",
       "text": [
        "\r",
        "Ransac iteration 141 of 500"
       ]
      },
      {
       "output_type": "stream",
       "stream": "stdout",
       "text": [
        "\r",
        "Ransac iteration 142 of 500"
       ]
      },
      {
       "output_type": "stream",
       "stream": "stdout",
       "text": [
        "\r",
        "Ransac iteration 143 of 500"
       ]
      },
      {
       "output_type": "stream",
       "stream": "stdout",
       "text": [
        "\r",
        "Ransac iteration 144 of 500"
       ]
      },
      {
       "output_type": "stream",
       "stream": "stdout",
       "text": [
        "\r",
        "Ransac iteration 145 of 500"
       ]
      },
      {
       "output_type": "stream",
       "stream": "stdout",
       "text": [
        "\r",
        "Ransac iteration 146 of 500"
       ]
      },
      {
       "output_type": "stream",
       "stream": "stdout",
       "text": [
        "\r",
        "Ransac iteration 147 of 500"
       ]
      },
      {
       "output_type": "stream",
       "stream": "stdout",
       "text": [
        "\r",
        "Ransac iteration 148 of 500"
       ]
      },
      {
       "output_type": "stream",
       "stream": "stdout",
       "text": [
        "\r",
        "Ransac iteration 149 of 500"
       ]
      },
      {
       "output_type": "stream",
       "stream": "stdout",
       "text": [
        "\r",
        "Ransac iteration 150 of 500"
       ]
      },
      {
       "output_type": "stream",
       "stream": "stdout",
       "text": [
        "\r",
        "Ransac iteration 151 of 500"
       ]
      },
      {
       "output_type": "stream",
       "stream": "stdout",
       "text": [
        "\r",
        "Ransac iteration 152 of 500"
       ]
      },
      {
       "output_type": "stream",
       "stream": "stdout",
       "text": [
        "\r",
        "Ransac iteration 153 of 500"
       ]
      },
      {
       "output_type": "stream",
       "stream": "stdout",
       "text": [
        "\r",
        "Ransac iteration 154 of 500"
       ]
      },
      {
       "output_type": "stream",
       "stream": "stdout",
       "text": [
        "\r",
        "Ransac iteration 155 of 500"
       ]
      },
      {
       "output_type": "stream",
       "stream": "stdout",
       "text": [
        "\r",
        "Ransac iteration 156 of 500"
       ]
      },
      {
       "output_type": "stream",
       "stream": "stdout",
       "text": [
        "\r",
        "Ransac iteration 157 of 500"
       ]
      },
      {
       "output_type": "stream",
       "stream": "stdout",
       "text": [
        "\r",
        "Ransac iteration 158 of 500"
       ]
      },
      {
       "output_type": "stream",
       "stream": "stdout",
       "text": [
        "\r",
        "Ransac iteration 159 of 500"
       ]
      },
      {
       "output_type": "stream",
       "stream": "stdout",
       "text": [
        "\r",
        "Ransac iteration 160 of 500"
       ]
      },
      {
       "output_type": "stream",
       "stream": "stdout",
       "text": [
        "\r",
        "Ransac iteration 161 of 500"
       ]
      },
      {
       "output_type": "stream",
       "stream": "stdout",
       "text": [
        "\r",
        "Ransac iteration 162 of 500"
       ]
      },
      {
       "output_type": "stream",
       "stream": "stdout",
       "text": [
        "\r",
        "Ransac iteration 163 of 500"
       ]
      },
      {
       "output_type": "stream",
       "stream": "stdout",
       "text": [
        "\r",
        "Ransac iteration 164 of 500"
       ]
      },
      {
       "output_type": "stream",
       "stream": "stdout",
       "text": [
        "\r",
        "Ransac iteration 165 of 500"
       ]
      },
      {
       "output_type": "stream",
       "stream": "stdout",
       "text": [
        "\r",
        "Ransac iteration 166 of 500"
       ]
      },
      {
       "output_type": "stream",
       "stream": "stdout",
       "text": [
        "\r",
        "Ransac iteration 167 of 500"
       ]
      },
      {
       "output_type": "stream",
       "stream": "stdout",
       "text": [
        "\r",
        "Ransac iteration 168 of 500"
       ]
      },
      {
       "output_type": "stream",
       "stream": "stdout",
       "text": [
        "\r",
        "Ransac iteration 169 of 500"
       ]
      },
      {
       "output_type": "stream",
       "stream": "stdout",
       "text": [
        "\r",
        "Ransac iteration 170 of 500"
       ]
      },
      {
       "output_type": "stream",
       "stream": "stdout",
       "text": [
        "\r",
        "Ransac iteration 171 of 500"
       ]
      },
      {
       "output_type": "stream",
       "stream": "stdout",
       "text": [
        "\r",
        "Ransac iteration 172 of 500"
       ]
      },
      {
       "output_type": "stream",
       "stream": "stdout",
       "text": [
        "\r",
        "Ransac iteration 173 of 500"
       ]
      },
      {
       "output_type": "stream",
       "stream": "stdout",
       "text": [
        "\r",
        "Ransac iteration 174 of 500"
       ]
      },
      {
       "output_type": "stream",
       "stream": "stdout",
       "text": [
        "\r",
        "Ransac iteration 175 of 500"
       ]
      },
      {
       "output_type": "stream",
       "stream": "stdout",
       "text": [
        "\r",
        "Ransac iteration 176 of 500"
       ]
      },
      {
       "output_type": "stream",
       "stream": "stdout",
       "text": [
        "\r",
        "Ransac iteration 177 of 500"
       ]
      },
      {
       "output_type": "stream",
       "stream": "stdout",
       "text": [
        "\r",
        "Ransac iteration 178 of 500"
       ]
      },
      {
       "output_type": "stream",
       "stream": "stdout",
       "text": [
        "\r",
        "Ransac iteration 179 of 500"
       ]
      },
      {
       "output_type": "stream",
       "stream": "stdout",
       "text": [
        "\r",
        "Ransac iteration 180 of 500"
       ]
      },
      {
       "output_type": "stream",
       "stream": "stdout",
       "text": [
        "\r",
        "Ransac iteration 181 of 500"
       ]
      },
      {
       "output_type": "stream",
       "stream": "stdout",
       "text": [
        "\r",
        "Ransac iteration 182 of 500"
       ]
      },
      {
       "output_type": "stream",
       "stream": "stdout",
       "text": [
        "\r",
        "Ransac iteration 183 of 500"
       ]
      },
      {
       "output_type": "stream",
       "stream": "stdout",
       "text": [
        "\r",
        "Ransac iteration 184 of 500"
       ]
      },
      {
       "output_type": "stream",
       "stream": "stdout",
       "text": [
        "\r",
        "Ransac iteration 185 of 500"
       ]
      },
      {
       "output_type": "stream",
       "stream": "stdout",
       "text": [
        "\r",
        "Ransac iteration 186 of 500"
       ]
      },
      {
       "output_type": "stream",
       "stream": "stdout",
       "text": [
        "got same indices\n",
        "\r",
        "Ransac iteration 187 of 500"
       ]
      },
      {
       "output_type": "stream",
       "stream": "stdout",
       "text": [
        "\r",
        "Ransac iteration 188 of 500"
       ]
      },
      {
       "output_type": "stream",
       "stream": "stdout",
       "text": [
        "\r",
        "Ransac iteration 189 of 500"
       ]
      },
      {
       "output_type": "stream",
       "stream": "stdout",
       "text": [
        "\r",
        "Ransac iteration 190 of 500"
       ]
      },
      {
       "output_type": "stream",
       "stream": "stdout",
       "text": [
        "\r",
        "Ransac iteration 191 of 500"
       ]
      },
      {
       "output_type": "stream",
       "stream": "stdout",
       "text": [
        "\r",
        "Ransac iteration 192 of 500"
       ]
      },
      {
       "output_type": "stream",
       "stream": "stdout",
       "text": [
        "\r",
        "Ransac iteration 193 of 500"
       ]
      },
      {
       "output_type": "stream",
       "stream": "stdout",
       "text": [
        "\r",
        "Ransac iteration 194 of 500"
       ]
      },
      {
       "output_type": "stream",
       "stream": "stdout",
       "text": [
        "\r",
        "Ransac iteration 195 of 500"
       ]
      },
      {
       "output_type": "stream",
       "stream": "stdout",
       "text": [
        "\r",
        "Ransac iteration 196 of 500"
       ]
      },
      {
       "output_type": "stream",
       "stream": "stdout",
       "text": [
        "\r",
        "Ransac iteration 197 of 500"
       ]
      },
      {
       "output_type": "stream",
       "stream": "stdout",
       "text": [
        "\r",
        "Ransac iteration 198 of 500"
       ]
      },
      {
       "output_type": "stream",
       "stream": "stdout",
       "text": [
        "\r",
        "Ransac iteration 199 of 500"
       ]
      },
      {
       "output_type": "stream",
       "stream": "stdout",
       "text": [
        "\r",
        "Ransac iteration 200 of 500"
       ]
      },
      {
       "output_type": "stream",
       "stream": "stdout",
       "text": [
        "\r",
        "Ransac iteration 201 of 500"
       ]
      },
      {
       "output_type": "stream",
       "stream": "stdout",
       "text": [
        "\r",
        "Ransac iteration 202 of 500"
       ]
      },
      {
       "output_type": "stream",
       "stream": "stdout",
       "text": [
        "\r",
        "Ransac iteration 203 of 500"
       ]
      },
      {
       "output_type": "stream",
       "stream": "stdout",
       "text": [
        "\r",
        "Ransac iteration 204 of 500"
       ]
      },
      {
       "output_type": "stream",
       "stream": "stdout",
       "text": [
        "\r",
        "Ransac iteration 205 of 500"
       ]
      },
      {
       "output_type": "stream",
       "stream": "stdout",
       "text": [
        "\r",
        "Ransac iteration 206 of 500"
       ]
      },
      {
       "output_type": "stream",
       "stream": "stdout",
       "text": [
        "\r",
        "Ransac iteration 207 of 500"
       ]
      },
      {
       "output_type": "stream",
       "stream": "stdout",
       "text": [
        "\r",
        "Ransac iteration 208 of 500"
       ]
      },
      {
       "output_type": "stream",
       "stream": "stdout",
       "text": [
        "\r",
        "Ransac iteration 209 of 500"
       ]
      },
      {
       "output_type": "stream",
       "stream": "stdout",
       "text": [
        "\r",
        "Ransac iteration 210 of 500"
       ]
      },
      {
       "output_type": "stream",
       "stream": "stdout",
       "text": [
        "\r",
        "Ransac iteration 211 of 500"
       ]
      },
      {
       "output_type": "stream",
       "stream": "stdout",
       "text": [
        "\r",
        "Ransac iteration 212 of 500"
       ]
      },
      {
       "output_type": "stream",
       "stream": "stdout",
       "text": [
        "\r",
        "Ransac iteration 213 of 500"
       ]
      },
      {
       "output_type": "stream",
       "stream": "stdout",
       "text": [
        "\r",
        "Ransac iteration 214 of 500"
       ]
      },
      {
       "output_type": "stream",
       "stream": "stdout",
       "text": [
        "\r",
        "Ransac iteration 215 of 500"
       ]
      },
      {
       "output_type": "stream",
       "stream": "stdout",
       "text": [
        "\r",
        "Ransac iteration 216 of 500"
       ]
      },
      {
       "output_type": "stream",
       "stream": "stdout",
       "text": [
        "\r",
        "Ransac iteration 217 of 500"
       ]
      },
      {
       "output_type": "stream",
       "stream": "stdout",
       "text": [
        "\r",
        "Ransac iteration 218 of 500"
       ]
      },
      {
       "output_type": "stream",
       "stream": "stdout",
       "text": [
        "\r",
        "Ransac iteration 219 of 500"
       ]
      },
      {
       "output_type": "stream",
       "stream": "stdout",
       "text": [
        "\r",
        "Ransac iteration 220 of 500"
       ]
      },
      {
       "output_type": "stream",
       "stream": "stdout",
       "text": [
        "\r",
        "Ransac iteration 221 of 500"
       ]
      },
      {
       "output_type": "stream",
       "stream": "stdout",
       "text": [
        "\r",
        "Ransac iteration 222 of 500"
       ]
      },
      {
       "output_type": "stream",
       "stream": "stdout",
       "text": [
        "\r",
        "Ransac iteration 223 of 500"
       ]
      },
      {
       "output_type": "stream",
       "stream": "stdout",
       "text": [
        "\r",
        "Ransac iteration 224 of 500"
       ]
      },
      {
       "output_type": "stream",
       "stream": "stdout",
       "text": [
        "\r",
        "Ransac iteration 225 of 500"
       ]
      },
      {
       "output_type": "stream",
       "stream": "stdout",
       "text": [
        "\r",
        "Ransac iteration 226 of 500"
       ]
      },
      {
       "output_type": "stream",
       "stream": "stdout",
       "text": [
        "\r",
        "Ransac iteration 227 of 500"
       ]
      },
      {
       "output_type": "stream",
       "stream": "stdout",
       "text": [
        "\r",
        "Ransac iteration 228 of 500"
       ]
      },
      {
       "output_type": "stream",
       "stream": "stdout",
       "text": [
        "\r",
        "Ransac iteration 229 of 500"
       ]
      },
      {
       "output_type": "stream",
       "stream": "stdout",
       "text": [
        "\r",
        "Ransac iteration 230 of 500"
       ]
      },
      {
       "output_type": "stream",
       "stream": "stdout",
       "text": [
        "\r",
        "Ransac iteration 231 of 500"
       ]
      },
      {
       "output_type": "stream",
       "stream": "stdout",
       "text": [
        "\r",
        "Ransac iteration 232 of 500"
       ]
      },
      {
       "output_type": "stream",
       "stream": "stdout",
       "text": [
        "\r",
        "Ransac iteration 233 of 500"
       ]
      },
      {
       "output_type": "stream",
       "stream": "stdout",
       "text": [
        "\r",
        "Ransac iteration 234 of 500"
       ]
      },
      {
       "output_type": "stream",
       "stream": "stdout",
       "text": [
        "\r",
        "Ransac iteration 235 of 500"
       ]
      },
      {
       "output_type": "stream",
       "stream": "stdout",
       "text": [
        "\r",
        "Ransac iteration 236 of 500"
       ]
      },
      {
       "output_type": "stream",
       "stream": "stdout",
       "text": [
        "\r",
        "Ransac iteration 237 of 500"
       ]
      },
      {
       "output_type": "stream",
       "stream": "stdout",
       "text": [
        "\r",
        "Ransac iteration 238 of 500"
       ]
      },
      {
       "output_type": "stream",
       "stream": "stdout",
       "text": [
        "\r",
        "Ransac iteration 239 of 500"
       ]
      },
      {
       "output_type": "stream",
       "stream": "stdout",
       "text": [
        "\r",
        "Ransac iteration 240 of 500"
       ]
      },
      {
       "output_type": "stream",
       "stream": "stdout",
       "text": [
        "\r",
        "Ransac iteration 241 of 500"
       ]
      },
      {
       "output_type": "stream",
       "stream": "stdout",
       "text": [
        "\r",
        "Ransac iteration 242 of 500"
       ]
      },
      {
       "output_type": "stream",
       "stream": "stdout",
       "text": [
        "\r",
        "Ransac iteration 243 of 500"
       ]
      },
      {
       "output_type": "stream",
       "stream": "stdout",
       "text": [
        "\r",
        "Ransac iteration 244 of 500"
       ]
      },
      {
       "output_type": "stream",
       "stream": "stdout",
       "text": [
        "\r",
        "Ransac iteration 245 of 500"
       ]
      },
      {
       "output_type": "stream",
       "stream": "stdout",
       "text": [
        "\r",
        "Ransac iteration 246 of 500"
       ]
      },
      {
       "output_type": "stream",
       "stream": "stdout",
       "text": [
        "\r",
        "Ransac iteration 247 of 500"
       ]
      },
      {
       "output_type": "stream",
       "stream": "stdout",
       "text": [
        "\r",
        "Ransac iteration 248 of 500"
       ]
      },
      {
       "output_type": "stream",
       "stream": "stdout",
       "text": [
        "\r",
        "Ransac iteration 249 of 500"
       ]
      },
      {
       "output_type": "stream",
       "stream": "stdout",
       "text": [
        "\r",
        "Ransac iteration 250 of 500"
       ]
      },
      {
       "output_type": "stream",
       "stream": "stdout",
       "text": [
        "\r",
        "Ransac iteration 251 of 500"
       ]
      },
      {
       "output_type": "stream",
       "stream": "stdout",
       "text": [
        "\r",
        "Ransac iteration 252 of 500"
       ]
      },
      {
       "output_type": "stream",
       "stream": "stdout",
       "text": [
        "\r",
        "Ransac iteration 253 of 500"
       ]
      },
      {
       "output_type": "stream",
       "stream": "stdout",
       "text": [
        "\r",
        "Ransac iteration 254 of 500"
       ]
      },
      {
       "output_type": "stream",
       "stream": "stdout",
       "text": [
        "\r",
        "Ransac iteration 255 of 500"
       ]
      },
      {
       "output_type": "stream",
       "stream": "stdout",
       "text": [
        "\r",
        "Ransac iteration 256 of 500"
       ]
      },
      {
       "output_type": "stream",
       "stream": "stdout",
       "text": [
        "\r",
        "Ransac iteration 257 of 500"
       ]
      },
      {
       "output_type": "stream",
       "stream": "stdout",
       "text": [
        "\r",
        "Ransac iteration 258 of 500"
       ]
      },
      {
       "output_type": "stream",
       "stream": "stdout",
       "text": [
        "\r",
        "Ransac iteration 259 of 500"
       ]
      },
      {
       "output_type": "stream",
       "stream": "stdout",
       "text": [
        "\r",
        "Ransac iteration 260 of 500"
       ]
      },
      {
       "output_type": "stream",
       "stream": "stdout",
       "text": [
        "\r",
        "Ransac iteration 261 of 500"
       ]
      },
      {
       "output_type": "stream",
       "stream": "stdout",
       "text": [
        "\r",
        "Ransac iteration 262 of 500"
       ]
      },
      {
       "output_type": "stream",
       "stream": "stdout",
       "text": [
        "\r",
        "Ransac iteration 263 of 500"
       ]
      },
      {
       "output_type": "stream",
       "stream": "stdout",
       "text": [
        "\r",
        "Ransac iteration 264 of 500"
       ]
      },
      {
       "output_type": "stream",
       "stream": "stdout",
       "text": [
        "\r",
        "Ransac iteration 265 of 500"
       ]
      },
      {
       "output_type": "stream",
       "stream": "stdout",
       "text": [
        "\r",
        "Ransac iteration 266 of 500"
       ]
      },
      {
       "output_type": "stream",
       "stream": "stdout",
       "text": [
        "\r",
        "Ransac iteration 267 of 500"
       ]
      },
      {
       "output_type": "stream",
       "stream": "stdout",
       "text": [
        "\r",
        "Ransac iteration 268 of 500"
       ]
      },
      {
       "output_type": "stream",
       "stream": "stdout",
       "text": [
        "\r",
        "Ransac iteration 269 of 500"
       ]
      },
      {
       "output_type": "stream",
       "stream": "stdout",
       "text": [
        "\r",
        "Ransac iteration 270 of 500"
       ]
      },
      {
       "output_type": "stream",
       "stream": "stdout",
       "text": [
        "\r",
        "Ransac iteration 271 of 500"
       ]
      },
      {
       "output_type": "stream",
       "stream": "stdout",
       "text": [
        "\r",
        "Ransac iteration 272 of 500"
       ]
      },
      {
       "output_type": "stream",
       "stream": "stdout",
       "text": [
        "\r",
        "Ransac iteration 273 of 500"
       ]
      },
      {
       "output_type": "stream",
       "stream": "stdout",
       "text": [
        "\r",
        "Ransac iteration 274 of 500"
       ]
      },
      {
       "output_type": "stream",
       "stream": "stdout",
       "text": [
        "\r",
        "Ransac iteration 275 of 500"
       ]
      },
      {
       "output_type": "stream",
       "stream": "stdout",
       "text": [
        "\r",
        "Ransac iteration 276 of 500"
       ]
      },
      {
       "output_type": "stream",
       "stream": "stdout",
       "text": [
        "\r",
        "Ransac iteration 277 of 500"
       ]
      },
      {
       "output_type": "stream",
       "stream": "stdout",
       "text": [
        "\r",
        "Ransac iteration 278 of 500"
       ]
      },
      {
       "output_type": "stream",
       "stream": "stdout",
       "text": [
        "\r",
        "Ransac iteration 279 of 500"
       ]
      },
      {
       "output_type": "stream",
       "stream": "stdout",
       "text": [
        "\r",
        "Ransac iteration 280 of 500"
       ]
      },
      {
       "output_type": "stream",
       "stream": "stdout",
       "text": [
        "\r",
        "Ransac iteration 281 of 500"
       ]
      },
      {
       "output_type": "stream",
       "stream": "stdout",
       "text": [
        "\r",
        "Ransac iteration 282 of 500"
       ]
      },
      {
       "output_type": "stream",
       "stream": "stdout",
       "text": [
        "\r",
        "Ransac iteration 283 of 500"
       ]
      },
      {
       "output_type": "stream",
       "stream": "stdout",
       "text": [
        "\r",
        "Ransac iteration 284 of 500"
       ]
      },
      {
       "output_type": "stream",
       "stream": "stdout",
       "text": [
        "\r",
        "Ransac iteration 285 of 500"
       ]
      },
      {
       "output_type": "stream",
       "stream": "stdout",
       "text": [
        "\r",
        "Ransac iteration 286 of 500"
       ]
      },
      {
       "output_type": "stream",
       "stream": "stdout",
       "text": [
        "\r",
        "Ransac iteration 287 of 500"
       ]
      },
      {
       "output_type": "stream",
       "stream": "stdout",
       "text": [
        "\r",
        "Ransac iteration 288 of 500"
       ]
      },
      {
       "output_type": "stream",
       "stream": "stdout",
       "text": [
        "\r",
        "Ransac iteration 289 of 500"
       ]
      },
      {
       "output_type": "stream",
       "stream": "stdout",
       "text": [
        "\r",
        "Ransac iteration 290 of 500"
       ]
      },
      {
       "output_type": "stream",
       "stream": "stdout",
       "text": [
        "\r",
        "Ransac iteration 291 of 500"
       ]
      },
      {
       "output_type": "stream",
       "stream": "stdout",
       "text": [
        "\r",
        "Ransac iteration 292 of 500"
       ]
      },
      {
       "output_type": "stream",
       "stream": "stdout",
       "text": [
        "\r",
        "Ransac iteration 293 of 500"
       ]
      },
      {
       "output_type": "stream",
       "stream": "stdout",
       "text": [
        "\r",
        "Ransac iteration 294 of 500"
       ]
      },
      {
       "output_type": "stream",
       "stream": "stdout",
       "text": [
        "\r",
        "Ransac iteration 295 of 500"
       ]
      },
      {
       "output_type": "stream",
       "stream": "stdout",
       "text": [
        "\r",
        "Ransac iteration 296 of 500"
       ]
      },
      {
       "output_type": "stream",
       "stream": "stdout",
       "text": [
        "\r",
        "Ransac iteration 297 of 500"
       ]
      },
      {
       "output_type": "stream",
       "stream": "stdout",
       "text": [
        "\r",
        "Ransac iteration 298 of 500"
       ]
      },
      {
       "output_type": "stream",
       "stream": "stdout",
       "text": [
        "\r",
        "Ransac iteration 299 of 500"
       ]
      },
      {
       "output_type": "stream",
       "stream": "stdout",
       "text": [
        "\r",
        "Ransac iteration 300 of 500"
       ]
      },
      {
       "output_type": "stream",
       "stream": "stdout",
       "text": [
        "\r",
        "Ransac iteration 301 of 500"
       ]
      },
      {
       "output_type": "stream",
       "stream": "stdout",
       "text": [
        "\r",
        "Ransac iteration 302 of 500"
       ]
      },
      {
       "output_type": "stream",
       "stream": "stdout",
       "text": [
        "\r",
        "Ransac iteration 303 of 500"
       ]
      },
      {
       "output_type": "stream",
       "stream": "stdout",
       "text": [
        "\r",
        "Ransac iteration 304 of 500"
       ]
      },
      {
       "output_type": "stream",
       "stream": "stdout",
       "text": [
        "\r",
        "Ransac iteration 305 of 500"
       ]
      },
      {
       "output_type": "stream",
       "stream": "stdout",
       "text": [
        "\r",
        "Ransac iteration 306 of 500"
       ]
      },
      {
       "output_type": "stream",
       "stream": "stdout",
       "text": [
        "\r",
        "Ransac iteration 307 of 500"
       ]
      },
      {
       "output_type": "stream",
       "stream": "stdout",
       "text": [
        "\r",
        "Ransac iteration 308 of 500"
       ]
      },
      {
       "output_type": "stream",
       "stream": "stdout",
       "text": [
        "\r",
        "Ransac iteration 309 of 500"
       ]
      },
      {
       "output_type": "stream",
       "stream": "stdout",
       "text": [
        "\r",
        "Ransac iteration 310 of 500"
       ]
      },
      {
       "output_type": "stream",
       "stream": "stdout",
       "text": [
        "\r",
        "Ransac iteration 311 of 500"
       ]
      },
      {
       "output_type": "stream",
       "stream": "stdout",
       "text": [
        "\r",
        "Ransac iteration 312 of 500"
       ]
      },
      {
       "output_type": "stream",
       "stream": "stdout",
       "text": [
        "\r",
        "Ransac iteration 313 of 500"
       ]
      },
      {
       "output_type": "stream",
       "stream": "stdout",
       "text": [
        "\r",
        "Ransac iteration 314 of 500"
       ]
      },
      {
       "output_type": "stream",
       "stream": "stdout",
       "text": [
        "\r",
        "Ransac iteration 315 of 500"
       ]
      },
      {
       "output_type": "stream",
       "stream": "stdout",
       "text": [
        "\r",
        "Ransac iteration 316 of 500"
       ]
      },
      {
       "output_type": "stream",
       "stream": "stdout",
       "text": [
        "\r",
        "Ransac iteration 317 of 500"
       ]
      },
      {
       "output_type": "stream",
       "stream": "stdout",
       "text": [
        "\r",
        "Ransac iteration 318 of 500"
       ]
      },
      {
       "output_type": "stream",
       "stream": "stdout",
       "text": [
        "\r",
        "Ransac iteration 319 of 500"
       ]
      },
      {
       "output_type": "stream",
       "stream": "stdout",
       "text": [
        "\r",
        "Ransac iteration 320 of 500"
       ]
      },
      {
       "output_type": "stream",
       "stream": "stdout",
       "text": [
        "\r",
        "Ransac iteration 321 of 500"
       ]
      },
      {
       "output_type": "stream",
       "stream": "stdout",
       "text": [
        "\r",
        "Ransac iteration 322 of 500"
       ]
      },
      {
       "output_type": "stream",
       "stream": "stdout",
       "text": [
        "\r",
        "Ransac iteration 323 of 500"
       ]
      },
      {
       "output_type": "stream",
       "stream": "stdout",
       "text": [
        "\r",
        "Ransac iteration 324 of 500"
       ]
      },
      {
       "output_type": "stream",
       "stream": "stdout",
       "text": [
        "\r",
        "Ransac iteration 325 of 500"
       ]
      },
      {
       "output_type": "stream",
       "stream": "stdout",
       "text": [
        "\r",
        "Ransac iteration 326 of 500"
       ]
      },
      {
       "output_type": "stream",
       "stream": "stdout",
       "text": [
        "\r",
        "Ransac iteration 327 of 500"
       ]
      },
      {
       "output_type": "stream",
       "stream": "stdout",
       "text": [
        "\r",
        "Ransac iteration 328 of 500"
       ]
      },
      {
       "output_type": "stream",
       "stream": "stdout",
       "text": [
        "\r",
        "Ransac iteration 329 of 500"
       ]
      },
      {
       "output_type": "stream",
       "stream": "stdout",
       "text": [
        "\r",
        "Ransac iteration 330 of 500"
       ]
      },
      {
       "output_type": "stream",
       "stream": "stdout",
       "text": [
        "\r",
        "Ransac iteration 331 of 500"
       ]
      },
      {
       "output_type": "stream",
       "stream": "stdout",
       "text": [
        "\r",
        "Ransac iteration 332 of 500"
       ]
      },
      {
       "output_type": "stream",
       "stream": "stdout",
       "text": [
        "\r",
        "Ransac iteration 333 of 500"
       ]
      },
      {
       "output_type": "stream",
       "stream": "stdout",
       "text": [
        "\r",
        "Ransac iteration 334 of 500"
       ]
      },
      {
       "output_type": "stream",
       "stream": "stdout",
       "text": [
        "\r",
        "Ransac iteration 335 of 500"
       ]
      },
      {
       "output_type": "stream",
       "stream": "stdout",
       "text": [
        "\r",
        "Ransac iteration 336 of 500"
       ]
      },
      {
       "output_type": "stream",
       "stream": "stdout",
       "text": [
        "\r",
        "Ransac iteration 337 of 500"
       ]
      },
      {
       "output_type": "stream",
       "stream": "stdout",
       "text": [
        "\r",
        "Ransac iteration 338 of 500"
       ]
      },
      {
       "output_type": "stream",
       "stream": "stdout",
       "text": [
        "\r",
        "Ransac iteration 339 of 500"
       ]
      },
      {
       "output_type": "stream",
       "stream": "stdout",
       "text": [
        "\r",
        "Ransac iteration 340 of 500"
       ]
      },
      {
       "output_type": "stream",
       "stream": "stdout",
       "text": [
        "\r",
        "Ransac iteration 341 of 500"
       ]
      },
      {
       "output_type": "stream",
       "stream": "stdout",
       "text": [
        "\r",
        "Ransac iteration 342 of 500"
       ]
      },
      {
       "output_type": "stream",
       "stream": "stdout",
       "text": [
        "\r",
        "Ransac iteration 343 of 500"
       ]
      },
      {
       "output_type": "stream",
       "stream": "stdout",
       "text": [
        "\r",
        "Ransac iteration 344 of 500"
       ]
      },
      {
       "output_type": "stream",
       "stream": "stdout",
       "text": [
        "\r",
        "Ransac iteration 345 of 500"
       ]
      },
      {
       "output_type": "stream",
       "stream": "stdout",
       "text": [
        "\r",
        "Ransac iteration 346 of 500"
       ]
      },
      {
       "output_type": "stream",
       "stream": "stdout",
       "text": [
        "\r",
        "Ransac iteration 347 of 500"
       ]
      },
      {
       "output_type": "stream",
       "stream": "stdout",
       "text": [
        "\r",
        "Ransac iteration 348 of 500"
       ]
      },
      {
       "output_type": "stream",
       "stream": "stdout",
       "text": [
        "\r",
        "Ransac iteration 349 of 500"
       ]
      },
      {
       "output_type": "stream",
       "stream": "stdout",
       "text": [
        "\r",
        "Ransac iteration 350 of 500"
       ]
      },
      {
       "output_type": "stream",
       "stream": "stdout",
       "text": [
        "\r",
        "Ransac iteration 351 of 500"
       ]
      },
      {
       "output_type": "stream",
       "stream": "stdout",
       "text": [
        "\r",
        "Ransac iteration 352 of 500"
       ]
      },
      {
       "output_type": "stream",
       "stream": "stdout",
       "text": [
        "\r",
        "Ransac iteration 353 of 500"
       ]
      },
      {
       "output_type": "stream",
       "stream": "stdout",
       "text": [
        "\r",
        "Ransac iteration 354 of 500"
       ]
      },
      {
       "output_type": "stream",
       "stream": "stdout",
       "text": [
        "\r",
        "Ransac iteration 355 of 500"
       ]
      },
      {
       "output_type": "stream",
       "stream": "stdout",
       "text": [
        "\r",
        "Ransac iteration 356 of 500"
       ]
      },
      {
       "output_type": "stream",
       "stream": "stdout",
       "text": [
        "\r",
        "Ransac iteration 357 of 500"
       ]
      },
      {
       "output_type": "stream",
       "stream": "stdout",
       "text": [
        "\r",
        "Ransac iteration 358 of 500"
       ]
      },
      {
       "output_type": "stream",
       "stream": "stdout",
       "text": [
        "\r",
        "Ransac iteration 359 of 500"
       ]
      },
      {
       "output_type": "stream",
       "stream": "stdout",
       "text": [
        "\r",
        "Ransac iteration 360 of 500"
       ]
      },
      {
       "output_type": "stream",
       "stream": "stdout",
       "text": [
        "\r",
        "Ransac iteration 361 of 500"
       ]
      },
      {
       "output_type": "stream",
       "stream": "stdout",
       "text": [
        "\r",
        "Ransac iteration 362 of 500"
       ]
      },
      {
       "output_type": "stream",
       "stream": "stdout",
       "text": [
        "\r",
        "Ransac iteration 363 of 500"
       ]
      },
      {
       "output_type": "stream",
       "stream": "stdout",
       "text": [
        "\r",
        "Ransac iteration 364 of 500"
       ]
      },
      {
       "output_type": "stream",
       "stream": "stdout",
       "text": [
        "\r",
        "Ransac iteration 365 of 500"
       ]
      },
      {
       "output_type": "stream",
       "stream": "stdout",
       "text": [
        "\r",
        "Ransac iteration 366 of 500"
       ]
      },
      {
       "output_type": "stream",
       "stream": "stdout",
       "text": [
        "\r",
        "Ransac iteration 367 of 500"
       ]
      },
      {
       "output_type": "stream",
       "stream": "stdout",
       "text": [
        "\r",
        "Ransac iteration 368 of 500"
       ]
      },
      {
       "output_type": "stream",
       "stream": "stdout",
       "text": [
        "\r",
        "Ransac iteration 369 of 500"
       ]
      },
      {
       "output_type": "stream",
       "stream": "stdout",
       "text": [
        "\r",
        "Ransac iteration 370 of 500"
       ]
      },
      {
       "output_type": "stream",
       "stream": "stdout",
       "text": [
        "\r",
        "Ransac iteration 371 of 500"
       ]
      },
      {
       "output_type": "stream",
       "stream": "stdout",
       "text": [
        "\r",
        "Ransac iteration 372 of 500"
       ]
      },
      {
       "output_type": "stream",
       "stream": "stdout",
       "text": [
        "\r",
        "Ransac iteration 373 of 500"
       ]
      },
      {
       "output_type": "stream",
       "stream": "stdout",
       "text": [
        "\r",
        "Ransac iteration 374 of 500"
       ]
      },
      {
       "output_type": "stream",
       "stream": "stdout",
       "text": [
        "\r",
        "Ransac iteration 375 of 500"
       ]
      },
      {
       "output_type": "stream",
       "stream": "stdout",
       "text": [
        "\r",
        "Ransac iteration 376 of 500"
       ]
      },
      {
       "output_type": "stream",
       "stream": "stdout",
       "text": [
        "\r",
        "Ransac iteration 377 of 500"
       ]
      },
      {
       "output_type": "stream",
       "stream": "stdout",
       "text": [
        "\r",
        "Ransac iteration 378 of 500"
       ]
      },
      {
       "output_type": "stream",
       "stream": "stdout",
       "text": [
        "\r",
        "Ransac iteration 379 of 500"
       ]
      },
      {
       "output_type": "stream",
       "stream": "stdout",
       "text": [
        "\r",
        "Ransac iteration 380 of 500"
       ]
      },
      {
       "output_type": "stream",
       "stream": "stdout",
       "text": [
        "\r",
        "Ransac iteration 381 of 500"
       ]
      },
      {
       "output_type": "stream",
       "stream": "stdout",
       "text": [
        "\r",
        "Ransac iteration 382 of 500"
       ]
      },
      {
       "output_type": "stream",
       "stream": "stdout",
       "text": [
        "\r",
        "Ransac iteration 383 of 500"
       ]
      },
      {
       "output_type": "stream",
       "stream": "stdout",
       "text": [
        "\r",
        "Ransac iteration 384 of 500"
       ]
      },
      {
       "output_type": "stream",
       "stream": "stdout",
       "text": [
        "\r",
        "Ransac iteration 385 of 500"
       ]
      },
      {
       "output_type": "stream",
       "stream": "stdout",
       "text": [
        "\r",
        "Ransac iteration 386 of 500"
       ]
      },
      {
       "output_type": "stream",
       "stream": "stdout",
       "text": [
        "\r",
        "Ransac iteration 387 of 500"
       ]
      },
      {
       "output_type": "stream",
       "stream": "stdout",
       "text": [
        "\r",
        "Ransac iteration 388 of 500"
       ]
      },
      {
       "output_type": "stream",
       "stream": "stdout",
       "text": [
        "\r",
        "Ransac iteration 389 of 500"
       ]
      },
      {
       "output_type": "stream",
       "stream": "stdout",
       "text": [
        "\r",
        "Ransac iteration 390 of 500"
       ]
      },
      {
       "output_type": "stream",
       "stream": "stdout",
       "text": [
        "\r",
        "Ransac iteration 391 of 500"
       ]
      },
      {
       "output_type": "stream",
       "stream": "stdout",
       "text": [
        "\r",
        "Ransac iteration 392 of 500"
       ]
      },
      {
       "output_type": "stream",
       "stream": "stdout",
       "text": [
        "\r",
        "Ransac iteration 393 of 500"
       ]
      },
      {
       "output_type": "stream",
       "stream": "stdout",
       "text": [
        "\r",
        "Ransac iteration 394 of 500"
       ]
      },
      {
       "output_type": "stream",
       "stream": "stdout",
       "text": [
        "\r",
        "Ransac iteration 395 of 500"
       ]
      },
      {
       "output_type": "stream",
       "stream": "stdout",
       "text": [
        "\r",
        "Ransac iteration 396 of 500"
       ]
      },
      {
       "output_type": "stream",
       "stream": "stdout",
       "text": [
        "\r",
        "Ransac iteration 397 of 500"
       ]
      },
      {
       "output_type": "stream",
       "stream": "stdout",
       "text": [
        "\r",
        "Ransac iteration 398 of 500"
       ]
      },
      {
       "output_type": "stream",
       "stream": "stdout",
       "text": [
        "\r",
        "Ransac iteration 399 of 500"
       ]
      },
      {
       "output_type": "stream",
       "stream": "stdout",
       "text": [
        "\r",
        "Ransac iteration 400 of 500"
       ]
      },
      {
       "output_type": "stream",
       "stream": "stdout",
       "text": [
        "\r",
        "Ransac iteration 401 of 500"
       ]
      },
      {
       "output_type": "stream",
       "stream": "stdout",
       "text": [
        "\r",
        "Ransac iteration 402 of 500"
       ]
      },
      {
       "output_type": "stream",
       "stream": "stdout",
       "text": [
        "\r",
        "Ransac iteration 403 of 500"
       ]
      },
      {
       "output_type": "stream",
       "stream": "stdout",
       "text": [
        "\r",
        "Ransac iteration 404 of 500"
       ]
      },
      {
       "output_type": "stream",
       "stream": "stdout",
       "text": [
        "\r",
        "Ransac iteration 405 of 500"
       ]
      },
      {
       "output_type": "stream",
       "stream": "stdout",
       "text": [
        "\r",
        "Ransac iteration 406 of 500"
       ]
      },
      {
       "output_type": "stream",
       "stream": "stdout",
       "text": [
        "\r",
        "Ransac iteration 407 of 500"
       ]
      },
      {
       "output_type": "stream",
       "stream": "stdout",
       "text": [
        "\r",
        "Ransac iteration 408 of 500"
       ]
      },
      {
       "output_type": "stream",
       "stream": "stdout",
       "text": [
        "\r",
        "Ransac iteration 409 of 500"
       ]
      },
      {
       "output_type": "stream",
       "stream": "stdout",
       "text": [
        "\r",
        "Ransac iteration 410 of 500"
       ]
      },
      {
       "output_type": "stream",
       "stream": "stdout",
       "text": [
        "\r",
        "Ransac iteration 411 of 500"
       ]
      },
      {
       "output_type": "stream",
       "stream": "stdout",
       "text": [
        "\r",
        "Ransac iteration 412 of 500"
       ]
      },
      {
       "output_type": "stream",
       "stream": "stdout",
       "text": [
        "\r",
        "Ransac iteration 413 of 500"
       ]
      },
      {
       "output_type": "stream",
       "stream": "stdout",
       "text": [
        "\r",
        "Ransac iteration 414 of 500"
       ]
      },
      {
       "output_type": "stream",
       "stream": "stdout",
       "text": [
        "\r",
        "Ransac iteration 415 of 500"
       ]
      },
      {
       "output_type": "stream",
       "stream": "stdout",
       "text": [
        "\r",
        "Ransac iteration 416 of 500"
       ]
      },
      {
       "output_type": "stream",
       "stream": "stdout",
       "text": [
        "\r",
        "Ransac iteration 417 of 500"
       ]
      },
      {
       "output_type": "stream",
       "stream": "stdout",
       "text": [
        "\r",
        "Ransac iteration 418 of 500"
       ]
      },
      {
       "output_type": "stream",
       "stream": "stdout",
       "text": [
        "\r",
        "Ransac iteration 419 of 500"
       ]
      },
      {
       "output_type": "stream",
       "stream": "stdout",
       "text": [
        "\r",
        "Ransac iteration 420 of 500"
       ]
      },
      {
       "output_type": "stream",
       "stream": "stdout",
       "text": [
        "\r",
        "Ransac iteration 421 of 500"
       ]
      },
      {
       "output_type": "stream",
       "stream": "stdout",
       "text": [
        "\r",
        "Ransac iteration 422 of 500"
       ]
      },
      {
       "output_type": "stream",
       "stream": "stdout",
       "text": [
        "\r",
        "Ransac iteration 423 of 500"
       ]
      },
      {
       "output_type": "stream",
       "stream": "stdout",
       "text": [
        "\r",
        "Ransac iteration 424 of 500"
       ]
      },
      {
       "output_type": "stream",
       "stream": "stdout",
       "text": [
        "\r",
        "Ransac iteration 425 of 500"
       ]
      },
      {
       "output_type": "stream",
       "stream": "stdout",
       "text": [
        "\r",
        "Ransac iteration 426 of 500"
       ]
      },
      {
       "output_type": "stream",
       "stream": "stdout",
       "text": [
        "\r",
        "Ransac iteration 427 of 500"
       ]
      },
      {
       "output_type": "stream",
       "stream": "stdout",
       "text": [
        "\r",
        "Ransac iteration 428 of 500"
       ]
      },
      {
       "output_type": "stream",
       "stream": "stdout",
       "text": [
        "\r",
        "Ransac iteration 429 of 500"
       ]
      },
      {
       "output_type": "stream",
       "stream": "stdout",
       "text": [
        "\r",
        "Ransac iteration 430 of 500"
       ]
      },
      {
       "output_type": "stream",
       "stream": "stdout",
       "text": [
        "\r",
        "Ransac iteration 431 of 500"
       ]
      },
      {
       "output_type": "stream",
       "stream": "stdout",
       "text": [
        "\r",
        "Ransac iteration 432 of 500"
       ]
      },
      {
       "output_type": "stream",
       "stream": "stdout",
       "text": [
        "\r",
        "Ransac iteration 433 of 500"
       ]
      },
      {
       "output_type": "stream",
       "stream": "stdout",
       "text": [
        "\r",
        "Ransac iteration 434 of 500"
       ]
      },
      {
       "output_type": "stream",
       "stream": "stdout",
       "text": [
        "\r",
        "Ransac iteration 435 of 500"
       ]
      },
      {
       "output_type": "stream",
       "stream": "stdout",
       "text": [
        "\r",
        "Ransac iteration 436 of 500"
       ]
      },
      {
       "output_type": "stream",
       "stream": "stdout",
       "text": [
        "\r",
        "Ransac iteration 437 of 500"
       ]
      },
      {
       "output_type": "stream",
       "stream": "stdout",
       "text": [
        "\r",
        "Ransac iteration 438 of 500"
       ]
      },
      {
       "output_type": "stream",
       "stream": "stdout",
       "text": [
        "\r",
        "Ransac iteration 439 of 500"
       ]
      },
      {
       "output_type": "stream",
       "stream": "stdout",
       "text": [
        "\r",
        "Ransac iteration 440 of 500"
       ]
      },
      {
       "output_type": "stream",
       "stream": "stdout",
       "text": [
        "\r",
        "Ransac iteration 441 of 500"
       ]
      },
      {
       "output_type": "stream",
       "stream": "stdout",
       "text": [
        "\r",
        "Ransac iteration 442 of 500"
       ]
      },
      {
       "output_type": "stream",
       "stream": "stdout",
       "text": [
        "\r",
        "Ransac iteration 443 of 500"
       ]
      },
      {
       "output_type": "stream",
       "stream": "stdout",
       "text": [
        "\r",
        "Ransac iteration 444 of 500"
       ]
      },
      {
       "output_type": "stream",
       "stream": "stdout",
       "text": [
        "\r",
        "Ransac iteration 445 of 500"
       ]
      },
      {
       "output_type": "stream",
       "stream": "stdout",
       "text": [
        "\r",
        "Ransac iteration 446 of 500"
       ]
      },
      {
       "output_type": "stream",
       "stream": "stdout",
       "text": [
        "\r",
        "Ransac iteration 447 of 500"
       ]
      },
      {
       "output_type": "stream",
       "stream": "stdout",
       "text": [
        "\r",
        "Ransac iteration 448 of 500"
       ]
      },
      {
       "output_type": "stream",
       "stream": "stdout",
       "text": [
        "\r",
        "Ransac iteration 449 of 500"
       ]
      },
      {
       "output_type": "stream",
       "stream": "stdout",
       "text": [
        "\r",
        "Ransac iteration 450 of 500"
       ]
      },
      {
       "output_type": "stream",
       "stream": "stdout",
       "text": [
        "\r",
        "Ransac iteration 451 of 500"
       ]
      },
      {
       "output_type": "stream",
       "stream": "stdout",
       "text": [
        "\r",
        "Ransac iteration 452 of 500"
       ]
      },
      {
       "output_type": "stream",
       "stream": "stdout",
       "text": [
        "\r",
        "Ransac iteration 453 of 500"
       ]
      },
      {
       "output_type": "stream",
       "stream": "stdout",
       "text": [
        "\r",
        "Ransac iteration 454 of 500"
       ]
      },
      {
       "output_type": "stream",
       "stream": "stdout",
       "text": [
        "\r",
        "Ransac iteration 455 of 500"
       ]
      },
      {
       "output_type": "stream",
       "stream": "stdout",
       "text": [
        "\r",
        "Ransac iteration 456 of 500"
       ]
      },
      {
       "output_type": "stream",
       "stream": "stdout",
       "text": [
        "\r",
        "Ransac iteration 457 of 500"
       ]
      },
      {
       "output_type": "stream",
       "stream": "stdout",
       "text": [
        "\r",
        "Ransac iteration 458 of 500"
       ]
      },
      {
       "output_type": "stream",
       "stream": "stdout",
       "text": [
        "\r",
        "Ransac iteration 459 of 500"
       ]
      },
      {
       "output_type": "stream",
       "stream": "stdout",
       "text": [
        "\r",
        "Ransac iteration 460 of 500"
       ]
      },
      {
       "output_type": "stream",
       "stream": "stdout",
       "text": [
        "\r",
        "Ransac iteration 461 of 500"
       ]
      },
      {
       "output_type": "stream",
       "stream": "stdout",
       "text": [
        "\r",
        "Ransac iteration 462 of 500"
       ]
      },
      {
       "output_type": "stream",
       "stream": "stdout",
       "text": [
        "\r",
        "Ransac iteration 463 of 500"
       ]
      },
      {
       "output_type": "stream",
       "stream": "stdout",
       "text": [
        "\r",
        "Ransac iteration 464 of 500"
       ]
      },
      {
       "output_type": "stream",
       "stream": "stdout",
       "text": [
        "\r",
        "Ransac iteration 465 of 500"
       ]
      },
      {
       "output_type": "stream",
       "stream": "stdout",
       "text": [
        "\r",
        "Ransac iteration 466 of 500"
       ]
      },
      {
       "output_type": "stream",
       "stream": "stdout",
       "text": [
        "\r",
        "Ransac iteration 467 of 500"
       ]
      },
      {
       "output_type": "stream",
       "stream": "stdout",
       "text": [
        "\r",
        "Ransac iteration 468 of 500"
       ]
      },
      {
       "output_type": "stream",
       "stream": "stdout",
       "text": [
        "\r",
        "Ransac iteration 469 of 500"
       ]
      },
      {
       "output_type": "stream",
       "stream": "stdout",
       "text": [
        "\r",
        "Ransac iteration 470 of 500"
       ]
      },
      {
       "output_type": "stream",
       "stream": "stdout",
       "text": [
        "\r",
        "Ransac iteration 471 of 500"
       ]
      },
      {
       "output_type": "stream",
       "stream": "stdout",
       "text": [
        "\r",
        "Ransac iteration 472 of 500"
       ]
      },
      {
       "output_type": "stream",
       "stream": "stdout",
       "text": [
        "\r",
        "Ransac iteration 473 of 500"
       ]
      },
      {
       "output_type": "stream",
       "stream": "stdout",
       "text": [
        "\r",
        "Ransac iteration 474 of 500"
       ]
      },
      {
       "output_type": "stream",
       "stream": "stdout",
       "text": [
        "\r",
        "Ransac iteration 475 of 500"
       ]
      },
      {
       "output_type": "stream",
       "stream": "stdout",
       "text": [
        "\r",
        "Ransac iteration 476 of 500"
       ]
      },
      {
       "output_type": "stream",
       "stream": "stdout",
       "text": [
        "\r",
        "Ransac iteration 477 of 500"
       ]
      },
      {
       "output_type": "stream",
       "stream": "stdout",
       "text": [
        "\r",
        "Ransac iteration 478 of 500"
       ]
      },
      {
       "output_type": "stream",
       "stream": "stdout",
       "text": [
        "\r",
        "Ransac iteration 479 of 500"
       ]
      },
      {
       "output_type": "stream",
       "stream": "stdout",
       "text": [
        "\r",
        "Ransac iteration 480 of 500"
       ]
      },
      {
       "output_type": "stream",
       "stream": "stdout",
       "text": [
        "\r",
        "Ransac iteration 481 of 500"
       ]
      },
      {
       "output_type": "stream",
       "stream": "stdout",
       "text": [
        "\r",
        "Ransac iteration 482 of 500"
       ]
      },
      {
       "output_type": "stream",
       "stream": "stdout",
       "text": [
        "\r",
        "Ransac iteration 483 of 500"
       ]
      },
      {
       "output_type": "stream",
       "stream": "stdout",
       "text": [
        "\r",
        "Ransac iteration 484 of 500"
       ]
      },
      {
       "output_type": "stream",
       "stream": "stdout",
       "text": [
        "\r",
        "Ransac iteration 485 of 500"
       ]
      },
      {
       "output_type": "stream",
       "stream": "stdout",
       "text": [
        "\r",
        "Ransac iteration 486 of 500"
       ]
      },
      {
       "output_type": "stream",
       "stream": "stdout",
       "text": [
        "\r",
        "Ransac iteration 487 of 500"
       ]
      },
      {
       "output_type": "stream",
       "stream": "stdout",
       "text": [
        "\r",
        "Ransac iteration 488 of 500"
       ]
      },
      {
       "output_type": "stream",
       "stream": "stdout",
       "text": [
        "\r",
        "Ransac iteration 489 of 500"
       ]
      },
      {
       "output_type": "stream",
       "stream": "stdout",
       "text": [
        "\r",
        "Ransac iteration 490 of 500"
       ]
      },
      {
       "output_type": "stream",
       "stream": "stdout",
       "text": [
        "\r",
        "Ransac iteration 491 of 500"
       ]
      },
      {
       "output_type": "stream",
       "stream": "stdout",
       "text": [
        "\r",
        "Ransac iteration 492 of 500"
       ]
      },
      {
       "output_type": "stream",
       "stream": "stdout",
       "text": [
        "\r",
        "Ransac iteration 493 of 500"
       ]
      },
      {
       "output_type": "stream",
       "stream": "stdout",
       "text": [
        "\r",
        "Ransac iteration 494 of 500"
       ]
      },
      {
       "output_type": "stream",
       "stream": "stdout",
       "text": [
        "\r",
        "Ransac iteration 495 of 500"
       ]
      },
      {
       "output_type": "stream",
       "stream": "stdout",
       "text": [
        "\r",
        "Ransac iteration 496 of 500"
       ]
      },
      {
       "output_type": "stream",
       "stream": "stdout",
       "text": [
        "\r",
        "Ransac iteration 497 of 500"
       ]
      },
      {
       "output_type": "stream",
       "stream": "stdout",
       "text": [
        "\r",
        "Ransac iteration 498 of 500"
       ]
      },
      {
       "output_type": "stream",
       "stream": "stdout",
       "text": [
        "\r",
        "Ransac iteration 499 of 500"
       ]
      },
      {
       "output_type": "stream",
       "stream": "stdout",
       "text": [
        "\n",
        "\r",
        "Ransac iteration 0 of 500"
       ]
      },
      {
       "output_type": "stream",
       "stream": "stdout",
       "text": [
        "\r",
        "Ransac iteration 1 of 500"
       ]
      },
      {
       "output_type": "stream",
       "stream": "stdout",
       "text": [
        "\r",
        "Ransac iteration 2 of 500"
       ]
      },
      {
       "output_type": "stream",
       "stream": "stdout",
       "text": [
        "\r",
        "Ransac iteration 3 of 500"
       ]
      },
      {
       "output_type": "stream",
       "stream": "stdout",
       "text": [
        "\r",
        "Ransac iteration 4 of 500"
       ]
      },
      {
       "output_type": "stream",
       "stream": "stdout",
       "text": [
        "\r",
        "Ransac iteration 5 of 500"
       ]
      },
      {
       "output_type": "stream",
       "stream": "stdout",
       "text": [
        "\r",
        "Ransac iteration 6 of 500"
       ]
      },
      {
       "output_type": "stream",
       "stream": "stdout",
       "text": [
        "\r",
        "Ransac iteration 7 of 500"
       ]
      },
      {
       "output_type": "stream",
       "stream": "stdout",
       "text": [
        "\r",
        "Ransac iteration 8 of 500"
       ]
      },
      {
       "output_type": "stream",
       "stream": "stdout",
       "text": [
        "\r",
        "Ransac iteration 9 of 500"
       ]
      },
      {
       "output_type": "stream",
       "stream": "stdout",
       "text": [
        "\r",
        "Ransac iteration 10 of 500"
       ]
      },
      {
       "output_type": "stream",
       "stream": "stdout",
       "text": [
        "\r",
        "Ransac iteration 11 of 500"
       ]
      },
      {
       "output_type": "stream",
       "stream": "stdout",
       "text": [
        "\r",
        "Ransac iteration 12 of 500"
       ]
      },
      {
       "output_type": "stream",
       "stream": "stdout",
       "text": [
        "\r",
        "Ransac iteration 13 of 500"
       ]
      },
      {
       "output_type": "stream",
       "stream": "stdout",
       "text": [
        "\r",
        "Ransac iteration 14 of 500"
       ]
      },
      {
       "output_type": "stream",
       "stream": "stdout",
       "text": [
        "\r",
        "Ransac iteration 15 of 500"
       ]
      },
      {
       "output_type": "stream",
       "stream": "stdout",
       "text": [
        "\r",
        "Ransac iteration 16 of 500"
       ]
      },
      {
       "output_type": "stream",
       "stream": "stdout",
       "text": [
        "\r",
        "Ransac iteration 17 of 500"
       ]
      },
      {
       "output_type": "stream",
       "stream": "stdout",
       "text": [
        "\r",
        "Ransac iteration 18 of 500"
       ]
      },
      {
       "output_type": "stream",
       "stream": "stdout",
       "text": [
        "\r",
        "Ransac iteration 19 of 500"
       ]
      },
      {
       "output_type": "stream",
       "stream": "stdout",
       "text": [
        "\r",
        "Ransac iteration 20 of 500"
       ]
      },
      {
       "output_type": "stream",
       "stream": "stdout",
       "text": [
        "\r",
        "Ransac iteration 21 of 500"
       ]
      },
      {
       "output_type": "stream",
       "stream": "stdout",
       "text": [
        "\r",
        "Ransac iteration 22 of 500"
       ]
      },
      {
       "output_type": "stream",
       "stream": "stdout",
       "text": [
        "\r",
        "Ransac iteration 23 of 500"
       ]
      },
      {
       "output_type": "stream",
       "stream": "stdout",
       "text": [
        "\r",
        "Ransac iteration 24 of 500"
       ]
      },
      {
       "output_type": "stream",
       "stream": "stdout",
       "text": [
        "\r",
        "Ransac iteration 25 of 500"
       ]
      },
      {
       "output_type": "stream",
       "stream": "stdout",
       "text": [
        "\r",
        "Ransac iteration 26 of 500"
       ]
      },
      {
       "output_type": "stream",
       "stream": "stdout",
       "text": [
        "\r",
        "Ransac iteration 27 of 500"
       ]
      },
      {
       "output_type": "stream",
       "stream": "stdout",
       "text": [
        "\r",
        "Ransac iteration 28 of 500"
       ]
      },
      {
       "output_type": "stream",
       "stream": "stdout",
       "text": [
        "\r",
        "Ransac iteration 29 of 500"
       ]
      },
      {
       "output_type": "stream",
       "stream": "stdout",
       "text": [
        "\r",
        "Ransac iteration 30 of 500"
       ]
      },
      {
       "output_type": "stream",
       "stream": "stdout",
       "text": [
        "\r",
        "Ransac iteration 31 of 500"
       ]
      },
      {
       "output_type": "stream",
       "stream": "stdout",
       "text": [
        "\r",
        "Ransac iteration 32 of 500"
       ]
      },
      {
       "output_type": "stream",
       "stream": "stdout",
       "text": [
        "\r",
        "Ransac iteration 33 of 500"
       ]
      },
      {
       "output_type": "stream",
       "stream": "stdout",
       "text": [
        "\r",
        "Ransac iteration 34 of 500"
       ]
      },
      {
       "output_type": "stream",
       "stream": "stdout",
       "text": [
        "\r",
        "Ransac iteration 35 of 500"
       ]
      },
      {
       "output_type": "stream",
       "stream": "stdout",
       "text": [
        "\r",
        "Ransac iteration 36 of 500"
       ]
      },
      {
       "output_type": "stream",
       "stream": "stdout",
       "text": [
        "\r",
        "Ransac iteration 37 of 500"
       ]
      },
      {
       "output_type": "stream",
       "stream": "stdout",
       "text": [
        "\r",
        "Ransac iteration 38 of 500"
       ]
      },
      {
       "output_type": "stream",
       "stream": "stdout",
       "text": [
        "\r",
        "Ransac iteration 39 of 500"
       ]
      },
      {
       "output_type": "stream",
       "stream": "stdout",
       "text": [
        "\r",
        "Ransac iteration 40 of 500"
       ]
      },
      {
       "output_type": "stream",
       "stream": "stdout",
       "text": [
        "\r",
        "Ransac iteration 41 of 500"
       ]
      },
      {
       "output_type": "stream",
       "stream": "stdout",
       "text": [
        "\r",
        "Ransac iteration 42 of 500"
       ]
      },
      {
       "output_type": "stream",
       "stream": "stdout",
       "text": [
        "\r",
        "Ransac iteration 43 of 500"
       ]
      },
      {
       "output_type": "stream",
       "stream": "stdout",
       "text": [
        "\r",
        "Ransac iteration 44 of 500"
       ]
      },
      {
       "output_type": "stream",
       "stream": "stdout",
       "text": [
        "\r",
        "Ransac iteration 45 of 500"
       ]
      },
      {
       "output_type": "stream",
       "stream": "stdout",
       "text": [
        "\r",
        "Ransac iteration 46 of 500"
       ]
      },
      {
       "output_type": "stream",
       "stream": "stdout",
       "text": [
        "\r",
        "Ransac iteration 47 of 500"
       ]
      },
      {
       "output_type": "stream",
       "stream": "stdout",
       "text": [
        "\r",
        "Ransac iteration 48 of 500"
       ]
      },
      {
       "output_type": "stream",
       "stream": "stdout",
       "text": [
        "\r",
        "Ransac iteration 49 of 500"
       ]
      },
      {
       "output_type": "stream",
       "stream": "stdout",
       "text": [
        "\r",
        "Ransac iteration 50 of 500"
       ]
      },
      {
       "output_type": "stream",
       "stream": "stdout",
       "text": [
        "\r",
        "Ransac iteration 51 of 500"
       ]
      },
      {
       "output_type": "stream",
       "stream": "stdout",
       "text": [
        "\r",
        "Ransac iteration 52 of 500"
       ]
      },
      {
       "output_type": "stream",
       "stream": "stdout",
       "text": [
        "\r",
        "Ransac iteration 53 of 500"
       ]
      },
      {
       "output_type": "stream",
       "stream": "stdout",
       "text": [
        "\r",
        "Ransac iteration 54 of 500"
       ]
      },
      {
       "output_type": "stream",
       "stream": "stdout",
       "text": [
        "\r",
        "Ransac iteration 55 of 500"
       ]
      },
      {
       "output_type": "stream",
       "stream": "stdout",
       "text": [
        "\r",
        "Ransac iteration 56 of 500"
       ]
      },
      {
       "output_type": "stream",
       "stream": "stdout",
       "text": [
        "\r",
        "Ransac iteration 57 of 500"
       ]
      },
      {
       "output_type": "stream",
       "stream": "stdout",
       "text": [
        "\r",
        "Ransac iteration 58 of 500"
       ]
      },
      {
       "output_type": "stream",
       "stream": "stdout",
       "text": [
        "\r",
        "Ransac iteration 59 of 500"
       ]
      },
      {
       "output_type": "stream",
       "stream": "stdout",
       "text": [
        "\r",
        "Ransac iteration 60 of 500"
       ]
      },
      {
       "output_type": "stream",
       "stream": "stdout",
       "text": [
        "\r",
        "Ransac iteration 61 of 500"
       ]
      },
      {
       "output_type": "stream",
       "stream": "stdout",
       "text": [
        "\r",
        "Ransac iteration 62 of 500"
       ]
      },
      {
       "output_type": "stream",
       "stream": "stdout",
       "text": [
        "\r",
        "Ransac iteration 63 of 500"
       ]
      },
      {
       "output_type": "stream",
       "stream": "stdout",
       "text": [
        "\r",
        "Ransac iteration 64 of 500"
       ]
      },
      {
       "output_type": "stream",
       "stream": "stdout",
       "text": [
        "\r",
        "Ransac iteration 65 of 500"
       ]
      },
      {
       "output_type": "stream",
       "stream": "stdout",
       "text": [
        "\r",
        "Ransac iteration 66 of 500"
       ]
      },
      {
       "output_type": "stream",
       "stream": "stdout",
       "text": [
        "\r",
        "Ransac iteration 67 of 500"
       ]
      },
      {
       "output_type": "stream",
       "stream": "stdout",
       "text": [
        "\r",
        "Ransac iteration 68 of 500"
       ]
      },
      {
       "output_type": "stream",
       "stream": "stdout",
       "text": [
        "\r",
        "Ransac iteration 69 of 500"
       ]
      },
      {
       "output_type": "stream",
       "stream": "stdout",
       "text": [
        "\r",
        "Ransac iteration 70 of 500"
       ]
      },
      {
       "output_type": "stream",
       "stream": "stdout",
       "text": [
        "\r",
        "Ransac iteration 71 of 500"
       ]
      },
      {
       "output_type": "stream",
       "stream": "stdout",
       "text": [
        "\r",
        "Ransac iteration 72 of 500"
       ]
      },
      {
       "output_type": "stream",
       "stream": "stdout",
       "text": [
        "\r",
        "Ransac iteration 73 of 500"
       ]
      },
      {
       "output_type": "stream",
       "stream": "stdout",
       "text": [
        "\r",
        "Ransac iteration 74 of 500"
       ]
      },
      {
       "output_type": "stream",
       "stream": "stdout",
       "text": [
        "\r",
        "Ransac iteration 75 of 500"
       ]
      },
      {
       "output_type": "stream",
       "stream": "stdout",
       "text": [
        "\r",
        "Ransac iteration 76 of 500"
       ]
      },
      {
       "output_type": "stream",
       "stream": "stdout",
       "text": [
        "\r",
        "Ransac iteration 77 of 500"
       ]
      },
      {
       "output_type": "stream",
       "stream": "stdout",
       "text": [
        "\r",
        "Ransac iteration 78 of 500"
       ]
      },
      {
       "output_type": "stream",
       "stream": "stdout",
       "text": [
        "\r",
        "Ransac iteration 79 of 500"
       ]
      },
      {
       "output_type": "stream",
       "stream": "stdout",
       "text": [
        "\r",
        "Ransac iteration 80 of 500"
       ]
      },
      {
       "output_type": "stream",
       "stream": "stdout",
       "text": [
        "\r",
        "Ransac iteration 81 of 500"
       ]
      },
      {
       "output_type": "stream",
       "stream": "stdout",
       "text": [
        "\r",
        "Ransac iteration 82 of 500"
       ]
      },
      {
       "output_type": "stream",
       "stream": "stdout",
       "text": [
        "\r",
        "Ransac iteration 83 of 500"
       ]
      },
      {
       "output_type": "stream",
       "stream": "stdout",
       "text": [
        "\r",
        "Ransac iteration 84 of 500"
       ]
      },
      {
       "output_type": "stream",
       "stream": "stdout",
       "text": [
        "\r",
        "Ransac iteration 85 of 500"
       ]
      },
      {
       "output_type": "stream",
       "stream": "stdout",
       "text": [
        "\r",
        "Ransac iteration 86 of 500"
       ]
      },
      {
       "output_type": "stream",
       "stream": "stdout",
       "text": [
        "\r",
        "Ransac iteration 87 of 500"
       ]
      },
      {
       "output_type": "stream",
       "stream": "stdout",
       "text": [
        "\r",
        "Ransac iteration 88 of 500"
       ]
      },
      {
       "output_type": "stream",
       "stream": "stdout",
       "text": [
        "\r",
        "Ransac iteration 89 of 500"
       ]
      },
      {
       "output_type": "stream",
       "stream": "stdout",
       "text": [
        "\r",
        "Ransac iteration 90 of 500"
       ]
      },
      {
       "output_type": "stream",
       "stream": "stdout",
       "text": [
        "\r",
        "Ransac iteration 91 of 500"
       ]
      },
      {
       "output_type": "stream",
       "stream": "stdout",
       "text": [
        "\r",
        "Ransac iteration 92 of 500"
       ]
      },
      {
       "output_type": "stream",
       "stream": "stdout",
       "text": [
        "\r",
        "Ransac iteration 93 of 500"
       ]
      },
      {
       "output_type": "stream",
       "stream": "stdout",
       "text": [
        "\r",
        "Ransac iteration 94 of 500"
       ]
      },
      {
       "output_type": "stream",
       "stream": "stdout",
       "text": [
        "\r",
        "Ransac iteration 95 of 500"
       ]
      },
      {
       "output_type": "stream",
       "stream": "stdout",
       "text": [
        "\r",
        "Ransac iteration 96 of 500"
       ]
      },
      {
       "output_type": "stream",
       "stream": "stdout",
       "text": [
        "\r",
        "Ransac iteration 97 of 500"
       ]
      },
      {
       "output_type": "stream",
       "stream": "stdout",
       "text": [
        "\r",
        "Ransac iteration 98 of 500"
       ]
      },
      {
       "output_type": "stream",
       "stream": "stdout",
       "text": [
        "\r",
        "Ransac iteration 99 of 500"
       ]
      },
      {
       "output_type": "stream",
       "stream": "stdout",
       "text": [
        "\r",
        "Ransac iteration 100 of 500"
       ]
      },
      {
       "output_type": "stream",
       "stream": "stdout",
       "text": [
        "\r",
        "Ransac iteration 101 of 500"
       ]
      },
      {
       "output_type": "stream",
       "stream": "stdout",
       "text": [
        "\r",
        "Ransac iteration 102 of 500"
       ]
      },
      {
       "output_type": "stream",
       "stream": "stdout",
       "text": [
        "\r",
        "Ransac iteration 103 of 500"
       ]
      },
      {
       "output_type": "stream",
       "stream": "stdout",
       "text": [
        "\r",
        "Ransac iteration 104 of 500"
       ]
      },
      {
       "output_type": "stream",
       "stream": "stdout",
       "text": [
        "\r",
        "Ransac iteration 105 of 500"
       ]
      },
      {
       "output_type": "stream",
       "stream": "stdout",
       "text": [
        "\r",
        "Ransac iteration 106 of 500"
       ]
      },
      {
       "output_type": "stream",
       "stream": "stdout",
       "text": [
        "\r",
        "Ransac iteration 107 of 500"
       ]
      },
      {
       "output_type": "stream",
       "stream": "stdout",
       "text": [
        "\r",
        "Ransac iteration 108 of 500"
       ]
      },
      {
       "output_type": "stream",
       "stream": "stdout",
       "text": [
        "\r",
        "Ransac iteration 109 of 500"
       ]
      },
      {
       "output_type": "stream",
       "stream": "stdout",
       "text": [
        "\r",
        "Ransac iteration 110 of 500"
       ]
      },
      {
       "output_type": "stream",
       "stream": "stdout",
       "text": [
        "\r",
        "Ransac iteration 111 of 500"
       ]
      },
      {
       "output_type": "stream",
       "stream": "stdout",
       "text": [
        "\r",
        "Ransac iteration 112 of 500"
       ]
      },
      {
       "output_type": "stream",
       "stream": "stdout",
       "text": [
        "\r",
        "Ransac iteration 113 of 500"
       ]
      },
      {
       "output_type": "stream",
       "stream": "stdout",
       "text": [
        "\r",
        "Ransac iteration 114 of 500"
       ]
      },
      {
       "output_type": "stream",
       "stream": "stdout",
       "text": [
        "\r",
        "Ransac iteration 115 of 500"
       ]
      },
      {
       "output_type": "stream",
       "stream": "stdout",
       "text": [
        "\r",
        "Ransac iteration 116 of 500"
       ]
      },
      {
       "output_type": "stream",
       "stream": "stdout",
       "text": [
        "\r",
        "Ransac iteration 117 of 500"
       ]
      },
      {
       "output_type": "stream",
       "stream": "stdout",
       "text": [
        "\r",
        "Ransac iteration 118 of 500"
       ]
      },
      {
       "output_type": "stream",
       "stream": "stdout",
       "text": [
        "\r",
        "Ransac iteration 119 of 500"
       ]
      },
      {
       "output_type": "stream",
       "stream": "stdout",
       "text": [
        "\r",
        "Ransac iteration 120 of 500"
       ]
      },
      {
       "output_type": "stream",
       "stream": "stdout",
       "text": [
        "\r",
        "Ransac iteration 121 of 500"
       ]
      },
      {
       "output_type": "stream",
       "stream": "stdout",
       "text": [
        "\r",
        "Ransac iteration 122 of 500"
       ]
      },
      {
       "output_type": "stream",
       "stream": "stdout",
       "text": [
        "\r",
        "Ransac iteration 123 of 500"
       ]
      },
      {
       "output_type": "stream",
       "stream": "stdout",
       "text": [
        "\r",
        "Ransac iteration 124 of 500"
       ]
      },
      {
       "output_type": "stream",
       "stream": "stdout",
       "text": [
        "\r",
        "Ransac iteration 125 of 500"
       ]
      },
      {
       "output_type": "stream",
       "stream": "stdout",
       "text": [
        "\r",
        "Ransac iteration 126 of 500"
       ]
      },
      {
       "output_type": "stream",
       "stream": "stdout",
       "text": [
        "\r",
        "Ransac iteration 127 of 500"
       ]
      },
      {
       "output_type": "stream",
       "stream": "stdout",
       "text": [
        "\r",
        "Ransac iteration 128 of 500"
       ]
      },
      {
       "output_type": "stream",
       "stream": "stdout",
       "text": [
        "\r",
        "Ransac iteration 129 of 500"
       ]
      },
      {
       "output_type": "stream",
       "stream": "stdout",
       "text": [
        "\r",
        "Ransac iteration 130 of 500"
       ]
      },
      {
       "output_type": "stream",
       "stream": "stdout",
       "text": [
        "\r",
        "Ransac iteration 131 of 500"
       ]
      },
      {
       "output_type": "stream",
       "stream": "stdout",
       "text": [
        "\r",
        "Ransac iteration 132 of 500"
       ]
      },
      {
       "output_type": "stream",
       "stream": "stdout",
       "text": [
        "\r",
        "Ransac iteration 133 of 500"
       ]
      },
      {
       "output_type": "stream",
       "stream": "stdout",
       "text": [
        "\r",
        "Ransac iteration 134 of 500"
       ]
      },
      {
       "output_type": "stream",
       "stream": "stdout",
       "text": [
        "\r",
        "Ransac iteration 135 of 500"
       ]
      },
      {
       "output_type": "stream",
       "stream": "stdout",
       "text": [
        "\r",
        "Ransac iteration 136 of 500"
       ]
      },
      {
       "output_type": "stream",
       "stream": "stdout",
       "text": [
        "\r",
        "Ransac iteration 137 of 500"
       ]
      },
      {
       "output_type": "stream",
       "stream": "stdout",
       "text": [
        "\r",
        "Ransac iteration 138 of 500"
       ]
      },
      {
       "output_type": "stream",
       "stream": "stdout",
       "text": [
        "\r",
        "Ransac iteration 139 of 500"
       ]
      },
      {
       "output_type": "stream",
       "stream": "stdout",
       "text": [
        "\r",
        "Ransac iteration 140 of 500"
       ]
      },
      {
       "output_type": "stream",
       "stream": "stdout",
       "text": [
        "\r",
        "Ransac iteration 141 of 500"
       ]
      },
      {
       "output_type": "stream",
       "stream": "stdout",
       "text": [
        "\r",
        "Ransac iteration 142 of 500"
       ]
      },
      {
       "output_type": "stream",
       "stream": "stdout",
       "text": [
        "\r",
        "Ransac iteration 143 of 500"
       ]
      },
      {
       "output_type": "stream",
       "stream": "stdout",
       "text": [
        "\r",
        "Ransac iteration 144 of 500"
       ]
      },
      {
       "output_type": "stream",
       "stream": "stdout",
       "text": [
        "\r",
        "Ransac iteration 145 of 500"
       ]
      },
      {
       "output_type": "stream",
       "stream": "stdout",
       "text": [
        "\r",
        "Ransac iteration 146 of 500"
       ]
      },
      {
       "output_type": "stream",
       "stream": "stdout",
       "text": [
        "\r",
        "Ransac iteration 147 of 500"
       ]
      },
      {
       "output_type": "stream",
       "stream": "stdout",
       "text": [
        "\r",
        "Ransac iteration 148 of 500"
       ]
      },
      {
       "output_type": "stream",
       "stream": "stdout",
       "text": [
        "\r",
        "Ransac iteration 149 of 500"
       ]
      },
      {
       "output_type": "stream",
       "stream": "stdout",
       "text": [
        "\r",
        "Ransac iteration 150 of 500"
       ]
      },
      {
       "output_type": "stream",
       "stream": "stdout",
       "text": [
        "\r",
        "Ransac iteration 151 of 500"
       ]
      },
      {
       "output_type": "stream",
       "stream": "stdout",
       "text": [
        "\r",
        "Ransac iteration 152 of 500"
       ]
      },
      {
       "output_type": "stream",
       "stream": "stdout",
       "text": [
        "\r",
        "Ransac iteration 153 of 500"
       ]
      },
      {
       "output_type": "stream",
       "stream": "stdout",
       "text": [
        "\r",
        "Ransac iteration 154 of 500"
       ]
      },
      {
       "output_type": "stream",
       "stream": "stdout",
       "text": [
        "\r",
        "Ransac iteration 155 of 500"
       ]
      },
      {
       "output_type": "stream",
       "stream": "stdout",
       "text": [
        "\r",
        "Ransac iteration 156 of 500"
       ]
      },
      {
       "output_type": "stream",
       "stream": "stdout",
       "text": [
        "\r",
        "Ransac iteration 157 of 500"
       ]
      },
      {
       "output_type": "stream",
       "stream": "stdout",
       "text": [
        "\r",
        "Ransac iteration 158 of 500"
       ]
      },
      {
       "output_type": "stream",
       "stream": "stdout",
       "text": [
        "\r",
        "Ransac iteration 159 of 500"
       ]
      },
      {
       "output_type": "stream",
       "stream": "stdout",
       "text": [
        "\r",
        "Ransac iteration 160 of 500"
       ]
      },
      {
       "output_type": "stream",
       "stream": "stdout",
       "text": [
        "\r",
        "Ransac iteration 161 of 500"
       ]
      },
      {
       "output_type": "stream",
       "stream": "stdout",
       "text": [
        "\r",
        "Ransac iteration 162 of 500"
       ]
      },
      {
       "output_type": "stream",
       "stream": "stdout",
       "text": [
        "\r",
        "Ransac iteration 163 of 500"
       ]
      },
      {
       "output_type": "stream",
       "stream": "stdout",
       "text": [
        "\r",
        "Ransac iteration 164 of 500"
       ]
      },
      {
       "output_type": "stream",
       "stream": "stdout",
       "text": [
        "\r",
        "Ransac iteration 165 of 500"
       ]
      },
      {
       "output_type": "stream",
       "stream": "stdout",
       "text": [
        "\r",
        "Ransac iteration 166 of 500"
       ]
      },
      {
       "output_type": "stream",
       "stream": "stdout",
       "text": [
        "\r",
        "Ransac iteration 167 of 500"
       ]
      },
      {
       "output_type": "stream",
       "stream": "stdout",
       "text": [
        "\r",
        "Ransac iteration 168 of 500"
       ]
      },
      {
       "output_type": "stream",
       "stream": "stdout",
       "text": [
        "\r",
        "Ransac iteration 169 of 500"
       ]
      },
      {
       "output_type": "stream",
       "stream": "stdout",
       "text": [
        "\r",
        "Ransac iteration 170 of 500"
       ]
      },
      {
       "output_type": "stream",
       "stream": "stdout",
       "text": [
        "\r",
        "Ransac iteration 171 of 500"
       ]
      },
      {
       "output_type": "stream",
       "stream": "stdout",
       "text": [
        "\r",
        "Ransac iteration 172 of 500"
       ]
      },
      {
       "output_type": "stream",
       "stream": "stdout",
       "text": [
        "\r",
        "Ransac iteration 173 of 500"
       ]
      },
      {
       "output_type": "stream",
       "stream": "stdout",
       "text": [
        "\r",
        "Ransac iteration 174 of 500"
       ]
      },
      {
       "output_type": "stream",
       "stream": "stdout",
       "text": [
        "\r",
        "Ransac iteration 175 of 500"
       ]
      },
      {
       "output_type": "stream",
       "stream": "stdout",
       "text": [
        "\r",
        "Ransac iteration 176 of 500"
       ]
      },
      {
       "output_type": "stream",
       "stream": "stdout",
       "text": [
        "\r",
        "Ransac iteration 177 of 500"
       ]
      },
      {
       "output_type": "stream",
       "stream": "stdout",
       "text": [
        "\r",
        "Ransac iteration 178 of 500"
       ]
      },
      {
       "output_type": "stream",
       "stream": "stdout",
       "text": [
        "\r",
        "Ransac iteration 179 of 500"
       ]
      },
      {
       "output_type": "stream",
       "stream": "stdout",
       "text": [
        "\r",
        "Ransac iteration 180 of 500"
       ]
      },
      {
       "output_type": "stream",
       "stream": "stdout",
       "text": [
        "got same indices\n",
        "\r",
        "Ransac iteration 181 of 500"
       ]
      },
      {
       "output_type": "stream",
       "stream": "stdout",
       "text": [
        "\r",
        "Ransac iteration 182 of 500"
       ]
      },
      {
       "output_type": "stream",
       "stream": "stdout",
       "text": [
        "\r",
        "Ransac iteration 183 of 500"
       ]
      },
      {
       "output_type": "stream",
       "stream": "stdout",
       "text": [
        "\r",
        "Ransac iteration 184 of 500"
       ]
      },
      {
       "output_type": "stream",
       "stream": "stdout",
       "text": [
        "\r",
        "Ransac iteration 185 of 500"
       ]
      },
      {
       "output_type": "stream",
       "stream": "stdout",
       "text": [
        "\r",
        "Ransac iteration 186 of 500"
       ]
      },
      {
       "output_type": "stream",
       "stream": "stdout",
       "text": [
        "\r",
        "Ransac iteration 187 of 500"
       ]
      },
      {
       "output_type": "stream",
       "stream": "stdout",
       "text": [
        "\r",
        "Ransac iteration 188 of 500"
       ]
      },
      {
       "output_type": "stream",
       "stream": "stdout",
       "text": [
        "\r",
        "Ransac iteration 189 of 500"
       ]
      },
      {
       "output_type": "stream",
       "stream": "stdout",
       "text": [
        "\r",
        "Ransac iteration 190 of 500"
       ]
      },
      {
       "output_type": "stream",
       "stream": "stdout",
       "text": [
        "\r",
        "Ransac iteration 191 of 500"
       ]
      },
      {
       "output_type": "stream",
       "stream": "stdout",
       "text": [
        "\r",
        "Ransac iteration 192 of 500"
       ]
      },
      {
       "output_type": "stream",
       "stream": "stdout",
       "text": [
        "\r",
        "Ransac iteration 193 of 500"
       ]
      },
      {
       "output_type": "stream",
       "stream": "stdout",
       "text": [
        "\r",
        "Ransac iteration 194 of 500"
       ]
      },
      {
       "output_type": "stream",
       "stream": "stdout",
       "text": [
        "\r",
        "Ransac iteration 195 of 500"
       ]
      },
      {
       "output_type": "stream",
       "stream": "stdout",
       "text": [
        "\r",
        "Ransac iteration 196 of 500"
       ]
      },
      {
       "output_type": "stream",
       "stream": "stdout",
       "text": [
        "\r",
        "Ransac iteration 197 of 500"
       ]
      },
      {
       "output_type": "stream",
       "stream": "stdout",
       "text": [
        "\r",
        "Ransac iteration 198 of 500"
       ]
      },
      {
       "output_type": "stream",
       "stream": "stdout",
       "text": [
        "\r",
        "Ransac iteration 199 of 500"
       ]
      },
      {
       "output_type": "stream",
       "stream": "stdout",
       "text": [
        "\r",
        "Ransac iteration 200 of 500"
       ]
      },
      {
       "output_type": "stream",
       "stream": "stdout",
       "text": [
        "\r",
        "Ransac iteration 201 of 500"
       ]
      },
      {
       "output_type": "stream",
       "stream": "stdout",
       "text": [
        "\r",
        "Ransac iteration 202 of 500"
       ]
      },
      {
       "output_type": "stream",
       "stream": "stdout",
       "text": [
        "\r",
        "Ransac iteration 203 of 500"
       ]
      },
      {
       "output_type": "stream",
       "stream": "stdout",
       "text": [
        "\r",
        "Ransac iteration 204 of 500"
       ]
      },
      {
       "output_type": "stream",
       "stream": "stdout",
       "text": [
        "\r",
        "Ransac iteration 205 of 500"
       ]
      },
      {
       "output_type": "stream",
       "stream": "stdout",
       "text": [
        "\r",
        "Ransac iteration 206 of 500"
       ]
      },
      {
       "output_type": "stream",
       "stream": "stdout",
       "text": [
        "\r",
        "Ransac iteration 207 of 500"
       ]
      },
      {
       "output_type": "stream",
       "stream": "stdout",
       "text": [
        "\r",
        "Ransac iteration 208 of 500"
       ]
      },
      {
       "output_type": "stream",
       "stream": "stdout",
       "text": [
        "\r",
        "Ransac iteration 209 of 500"
       ]
      },
      {
       "output_type": "stream",
       "stream": "stdout",
       "text": [
        "\r",
        "Ransac iteration 210 of 500"
       ]
      },
      {
       "output_type": "stream",
       "stream": "stdout",
       "text": [
        "\r",
        "Ransac iteration 211 of 500"
       ]
      },
      {
       "output_type": "stream",
       "stream": "stdout",
       "text": [
        "\r",
        "Ransac iteration 212 of 500"
       ]
      },
      {
       "output_type": "stream",
       "stream": "stdout",
       "text": [
        "\r",
        "Ransac iteration 213 of 500"
       ]
      },
      {
       "output_type": "stream",
       "stream": "stdout",
       "text": [
        "\r",
        "Ransac iteration 214 of 500"
       ]
      },
      {
       "output_type": "stream",
       "stream": "stdout",
       "text": [
        "\r",
        "Ransac iteration 215 of 500"
       ]
      },
      {
       "output_type": "stream",
       "stream": "stdout",
       "text": [
        "\r",
        "Ransac iteration 216 of 500"
       ]
      },
      {
       "output_type": "stream",
       "stream": "stdout",
       "text": [
        "\r",
        "Ransac iteration 217 of 500"
       ]
      },
      {
       "output_type": "stream",
       "stream": "stdout",
       "text": [
        "\r",
        "Ransac iteration 218 of 500"
       ]
      },
      {
       "output_type": "stream",
       "stream": "stdout",
       "text": [
        "\r",
        "Ransac iteration 219 of 500"
       ]
      },
      {
       "output_type": "stream",
       "stream": "stdout",
       "text": [
        "\r",
        "Ransac iteration 220 of 500"
       ]
      },
      {
       "output_type": "stream",
       "stream": "stdout",
       "text": [
        "\r",
        "Ransac iteration 221 of 500"
       ]
      },
      {
       "output_type": "stream",
       "stream": "stdout",
       "text": [
        "\r",
        "Ransac iteration 222 of 500"
       ]
      },
      {
       "output_type": "stream",
       "stream": "stdout",
       "text": [
        "\r",
        "Ransac iteration 223 of 500"
       ]
      },
      {
       "output_type": "stream",
       "stream": "stdout",
       "text": [
        "got same indices\n",
        "\r",
        "Ransac iteration 224 of 500"
       ]
      },
      {
       "output_type": "stream",
       "stream": "stdout",
       "text": [
        "\r",
        "Ransac iteration 225 of 500"
       ]
      },
      {
       "output_type": "stream",
       "stream": "stdout",
       "text": [
        "\r",
        "Ransac iteration 226 of 500"
       ]
      },
      {
       "output_type": "stream",
       "stream": "stdout",
       "text": [
        "\r",
        "Ransac iteration 227 of 500"
       ]
      },
      {
       "output_type": "stream",
       "stream": "stdout",
       "text": [
        "\r",
        "Ransac iteration 228 of 500"
       ]
      },
      {
       "output_type": "stream",
       "stream": "stdout",
       "text": [
        "\r",
        "Ransac iteration 229 of 500"
       ]
      },
      {
       "output_type": "stream",
       "stream": "stdout",
       "text": [
        "\r",
        "Ransac iteration 230 of 500"
       ]
      },
      {
       "output_type": "stream",
       "stream": "stdout",
       "text": [
        "\r",
        "Ransac iteration 231 of 500"
       ]
      },
      {
       "output_type": "stream",
       "stream": "stdout",
       "text": [
        "\r",
        "Ransac iteration 232 of 500"
       ]
      },
      {
       "output_type": "stream",
       "stream": "stdout",
       "text": [
        "\r",
        "Ransac iteration 233 of 500"
       ]
      },
      {
       "output_type": "stream",
       "stream": "stdout",
       "text": [
        "\r",
        "Ransac iteration 234 of 500"
       ]
      },
      {
       "output_type": "stream",
       "stream": "stdout",
       "text": [
        "\r",
        "Ransac iteration 235 of 500"
       ]
      },
      {
       "output_type": "stream",
       "stream": "stdout",
       "text": [
        "\r",
        "Ransac iteration 236 of 500"
       ]
      },
      {
       "output_type": "stream",
       "stream": "stdout",
       "text": [
        "\r",
        "Ransac iteration 237 of 500"
       ]
      },
      {
       "output_type": "stream",
       "stream": "stdout",
       "text": [
        "\r",
        "Ransac iteration 238 of 500"
       ]
      },
      {
       "output_type": "stream",
       "stream": "stdout",
       "text": [
        "\r",
        "Ransac iteration 239 of 500"
       ]
      },
      {
       "output_type": "stream",
       "stream": "stdout",
       "text": [
        "\r",
        "Ransac iteration 240 of 500"
       ]
      },
      {
       "output_type": "stream",
       "stream": "stdout",
       "text": [
        "\r",
        "Ransac iteration 241 of 500"
       ]
      },
      {
       "output_type": "stream",
       "stream": "stdout",
       "text": [
        "\r",
        "Ransac iteration 242 of 500"
       ]
      },
      {
       "output_type": "stream",
       "stream": "stdout",
       "text": [
        "\r",
        "Ransac iteration 243 of 500"
       ]
      },
      {
       "output_type": "stream",
       "stream": "stdout",
       "text": [
        "\r",
        "Ransac iteration 244 of 500"
       ]
      },
      {
       "output_type": "stream",
       "stream": "stdout",
       "text": [
        "\r",
        "Ransac iteration 245 of 500"
       ]
      },
      {
       "output_type": "stream",
       "stream": "stdout",
       "text": [
        "\r",
        "Ransac iteration 246 of 500"
       ]
      },
      {
       "output_type": "stream",
       "stream": "stdout",
       "text": [
        "\r",
        "Ransac iteration 247 of 500"
       ]
      },
      {
       "output_type": "stream",
       "stream": "stdout",
       "text": [
        "\r",
        "Ransac iteration 248 of 500"
       ]
      },
      {
       "output_type": "stream",
       "stream": "stdout",
       "text": [
        "\r",
        "Ransac iteration 249 of 500"
       ]
      },
      {
       "output_type": "stream",
       "stream": "stdout",
       "text": [
        "\r",
        "Ransac iteration 250 of 500"
       ]
      },
      {
       "output_type": "stream",
       "stream": "stdout",
       "text": [
        "\r",
        "Ransac iteration 251 of 500"
       ]
      },
      {
       "output_type": "stream",
       "stream": "stdout",
       "text": [
        "\r",
        "Ransac iteration 252 of 500"
       ]
      },
      {
       "output_type": "stream",
       "stream": "stdout",
       "text": [
        "\r",
        "Ransac iteration 253 of 500"
       ]
      },
      {
       "output_type": "stream",
       "stream": "stdout",
       "text": [
        "\r",
        "Ransac iteration 254 of 500"
       ]
      },
      {
       "output_type": "stream",
       "stream": "stdout",
       "text": [
        "\r",
        "Ransac iteration 255 of 500"
       ]
      },
      {
       "output_type": "stream",
       "stream": "stdout",
       "text": [
        "\r",
        "Ransac iteration 256 of 500"
       ]
      },
      {
       "output_type": "stream",
       "stream": "stdout",
       "text": [
        "\r",
        "Ransac iteration 257 of 500"
       ]
      },
      {
       "output_type": "stream",
       "stream": "stdout",
       "text": [
        "\r",
        "Ransac iteration 258 of 500"
       ]
      },
      {
       "output_type": "stream",
       "stream": "stdout",
       "text": [
        "\r",
        "Ransac iteration 259 of 500"
       ]
      },
      {
       "output_type": "stream",
       "stream": "stdout",
       "text": [
        "\r",
        "Ransac iteration 260 of 500"
       ]
      },
      {
       "output_type": "stream",
       "stream": "stdout",
       "text": [
        "\r",
        "Ransac iteration 261 of 500"
       ]
      },
      {
       "output_type": "stream",
       "stream": "stdout",
       "text": [
        "\r",
        "Ransac iteration 262 of 500"
       ]
      },
      {
       "output_type": "stream",
       "stream": "stdout",
       "text": [
        "\r",
        "Ransac iteration 263 of 500"
       ]
      },
      {
       "output_type": "stream",
       "stream": "stdout",
       "text": [
        "\r",
        "Ransac iteration 264 of 500"
       ]
      },
      {
       "output_type": "stream",
       "stream": "stdout",
       "text": [
        "\r",
        "Ransac iteration 265 of 500"
       ]
      },
      {
       "output_type": "stream",
       "stream": "stdout",
       "text": [
        "\r",
        "Ransac iteration 266 of 500"
       ]
      },
      {
       "output_type": "stream",
       "stream": "stdout",
       "text": [
        "\r",
        "Ransac iteration 267 of 500"
       ]
      },
      {
       "output_type": "stream",
       "stream": "stdout",
       "text": [
        "\r",
        "Ransac iteration 268 of 500"
       ]
      },
      {
       "output_type": "stream",
       "stream": "stdout",
       "text": [
        "\r",
        "Ransac iteration 269 of 500"
       ]
      },
      {
       "output_type": "stream",
       "stream": "stdout",
       "text": [
        "\r",
        "Ransac iteration 270 of 500"
       ]
      },
      {
       "output_type": "stream",
       "stream": "stdout",
       "text": [
        "\r",
        "Ransac iteration 271 of 500"
       ]
      },
      {
       "output_type": "stream",
       "stream": "stdout",
       "text": [
        "\r",
        "Ransac iteration 272 of 500"
       ]
      },
      {
       "output_type": "stream",
       "stream": "stdout",
       "text": [
        "\r",
        "Ransac iteration 273 of 500"
       ]
      },
      {
       "output_type": "stream",
       "stream": "stdout",
       "text": [
        "\r",
        "Ransac iteration 274 of 500"
       ]
      },
      {
       "output_type": "stream",
       "stream": "stdout",
       "text": [
        "\r",
        "Ransac iteration 275 of 500"
       ]
      },
      {
       "output_type": "stream",
       "stream": "stdout",
       "text": [
        "\r",
        "Ransac iteration 276 of 500"
       ]
      },
      {
       "output_type": "stream",
       "stream": "stdout",
       "text": [
        "\r",
        "Ransac iteration 277 of 500"
       ]
      },
      {
       "output_type": "stream",
       "stream": "stdout",
       "text": [
        "\r",
        "Ransac iteration 278 of 500"
       ]
      },
      {
       "output_type": "stream",
       "stream": "stdout",
       "text": [
        "\r",
        "Ransac iteration 279 of 500"
       ]
      },
      {
       "output_type": "stream",
       "stream": "stdout",
       "text": [
        "\r",
        "Ransac iteration 280 of 500"
       ]
      },
      {
       "output_type": "stream",
       "stream": "stdout",
       "text": [
        "\r",
        "Ransac iteration 281 of 500"
       ]
      },
      {
       "output_type": "stream",
       "stream": "stdout",
       "text": [
        "\r",
        "Ransac iteration 282 of 500"
       ]
      },
      {
       "output_type": "stream",
       "stream": "stdout",
       "text": [
        "\r",
        "Ransac iteration 283 of 500"
       ]
      },
      {
       "output_type": "stream",
       "stream": "stdout",
       "text": [
        "\r",
        "Ransac iteration 284 of 500"
       ]
      },
      {
       "output_type": "stream",
       "stream": "stdout",
       "text": [
        "\r",
        "Ransac iteration 285 of 500"
       ]
      },
      {
       "output_type": "stream",
       "stream": "stdout",
       "text": [
        "\r",
        "Ransac iteration 286 of 500"
       ]
      },
      {
       "output_type": "stream",
       "stream": "stdout",
       "text": [
        "\r",
        "Ransac iteration 287 of 500"
       ]
      },
      {
       "output_type": "stream",
       "stream": "stdout",
       "text": [
        "\r",
        "Ransac iteration 288 of 500"
       ]
      },
      {
       "output_type": "stream",
       "stream": "stdout",
       "text": [
        "\r",
        "Ransac iteration 289 of 500"
       ]
      },
      {
       "output_type": "stream",
       "stream": "stdout",
       "text": [
        "\r",
        "Ransac iteration 290 of 500"
       ]
      },
      {
       "output_type": "stream",
       "stream": "stdout",
       "text": [
        "\r",
        "Ransac iteration 291 of 500"
       ]
      },
      {
       "output_type": "stream",
       "stream": "stdout",
       "text": [
        "\r",
        "Ransac iteration 292 of 500"
       ]
      },
      {
       "output_type": "stream",
       "stream": "stdout",
       "text": [
        "\r",
        "Ransac iteration 293 of 500"
       ]
      },
      {
       "output_type": "stream",
       "stream": "stdout",
       "text": [
        "\r",
        "Ransac iteration 294 of 500"
       ]
      },
      {
       "output_type": "stream",
       "stream": "stdout",
       "text": [
        "\r",
        "Ransac iteration 295 of 500"
       ]
      },
      {
       "output_type": "stream",
       "stream": "stdout",
       "text": [
        "\r",
        "Ransac iteration 296 of 500"
       ]
      },
      {
       "output_type": "stream",
       "stream": "stdout",
       "text": [
        "\r",
        "Ransac iteration 297 of 500"
       ]
      },
      {
       "output_type": "stream",
       "stream": "stdout",
       "text": [
        "\r",
        "Ransac iteration 298 of 500"
       ]
      },
      {
       "output_type": "stream",
       "stream": "stdout",
       "text": [
        "\r",
        "Ransac iteration 299 of 500"
       ]
      },
      {
       "output_type": "stream",
       "stream": "stdout",
       "text": [
        "\r",
        "Ransac iteration 300 of 500"
       ]
      },
      {
       "output_type": "stream",
       "stream": "stdout",
       "text": [
        "\r",
        "Ransac iteration 301 of 500"
       ]
      },
      {
       "output_type": "stream",
       "stream": "stdout",
       "text": [
        "\r",
        "Ransac iteration 302 of 500"
       ]
      },
      {
       "output_type": "stream",
       "stream": "stdout",
       "text": [
        "\r",
        "Ransac iteration 303 of 500"
       ]
      },
      {
       "output_type": "stream",
       "stream": "stdout",
       "text": [
        "\r",
        "Ransac iteration 304 of 500"
       ]
      },
      {
       "output_type": "stream",
       "stream": "stdout",
       "text": [
        "\r",
        "Ransac iteration 305 of 500"
       ]
      },
      {
       "output_type": "stream",
       "stream": "stdout",
       "text": [
        "\r",
        "Ransac iteration 306 of 500"
       ]
      },
      {
       "output_type": "stream",
       "stream": "stdout",
       "text": [
        "\r",
        "Ransac iteration 307 of 500"
       ]
      },
      {
       "output_type": "stream",
       "stream": "stdout",
       "text": [
        "\r",
        "Ransac iteration 308 of 500"
       ]
      },
      {
       "output_type": "stream",
       "stream": "stdout",
       "text": [
        "\r",
        "Ransac iteration 309 of 500"
       ]
      },
      {
       "output_type": "stream",
       "stream": "stdout",
       "text": [
        "\r",
        "Ransac iteration 310 of 500"
       ]
      },
      {
       "output_type": "stream",
       "stream": "stdout",
       "text": [
        "\r",
        "Ransac iteration 311 of 500"
       ]
      },
      {
       "output_type": "stream",
       "stream": "stdout",
       "text": [
        "\r",
        "Ransac iteration 312 of 500"
       ]
      },
      {
       "output_type": "stream",
       "stream": "stdout",
       "text": [
        "\r",
        "Ransac iteration 313 of 500"
       ]
      },
      {
       "output_type": "stream",
       "stream": "stdout",
       "text": [
        "\r",
        "Ransac iteration 314 of 500"
       ]
      },
      {
       "output_type": "stream",
       "stream": "stdout",
       "text": [
        "\r",
        "Ransac iteration 315 of 500"
       ]
      },
      {
       "output_type": "stream",
       "stream": "stdout",
       "text": [
        "\r",
        "Ransac iteration 316 of 500"
       ]
      },
      {
       "output_type": "stream",
       "stream": "stdout",
       "text": [
        "\r",
        "Ransac iteration 317 of 500"
       ]
      },
      {
       "output_type": "stream",
       "stream": "stdout",
       "text": [
        "\r",
        "Ransac iteration 318 of 500"
       ]
      },
      {
       "output_type": "stream",
       "stream": "stdout",
       "text": [
        "\r",
        "Ransac iteration 319 of 500"
       ]
      },
      {
       "output_type": "stream",
       "stream": "stdout",
       "text": [
        "\r",
        "Ransac iteration 320 of 500"
       ]
      },
      {
       "output_type": "stream",
       "stream": "stdout",
       "text": [
        "\r",
        "Ransac iteration 321 of 500"
       ]
      },
      {
       "output_type": "stream",
       "stream": "stdout",
       "text": [
        "\r",
        "Ransac iteration 322 of 500"
       ]
      },
      {
       "output_type": "stream",
       "stream": "stdout",
       "text": [
        "\r",
        "Ransac iteration 323 of 500"
       ]
      },
      {
       "output_type": "stream",
       "stream": "stdout",
       "text": [
        "\r",
        "Ransac iteration 324 of 500"
       ]
      },
      {
       "output_type": "stream",
       "stream": "stdout",
       "text": [
        "\r",
        "Ransac iteration 325 of 500"
       ]
      },
      {
       "output_type": "stream",
       "stream": "stdout",
       "text": [
        "\r",
        "Ransac iteration 326 of 500"
       ]
      },
      {
       "output_type": "stream",
       "stream": "stdout",
       "text": [
        "\r",
        "Ransac iteration 327 of 500"
       ]
      },
      {
       "output_type": "stream",
       "stream": "stdout",
       "text": [
        "\r",
        "Ransac iteration 328 of 500"
       ]
      },
      {
       "output_type": "stream",
       "stream": "stdout",
       "text": [
        "\r",
        "Ransac iteration 329 of 500"
       ]
      },
      {
       "output_type": "stream",
       "stream": "stdout",
       "text": [
        "\r",
        "Ransac iteration 330 of 500"
       ]
      },
      {
       "output_type": "stream",
       "stream": "stdout",
       "text": [
        "\r",
        "Ransac iteration 331 of 500"
       ]
      },
      {
       "output_type": "stream",
       "stream": "stdout",
       "text": [
        "\r",
        "Ransac iteration 332 of 500"
       ]
      },
      {
       "output_type": "stream",
       "stream": "stdout",
       "text": [
        "\r",
        "Ransac iteration 333 of 500"
       ]
      },
      {
       "output_type": "stream",
       "stream": "stdout",
       "text": [
        "\r",
        "Ransac iteration 334 of 500"
       ]
      },
      {
       "output_type": "stream",
       "stream": "stdout",
       "text": [
        "\r",
        "Ransac iteration 335 of 500"
       ]
      },
      {
       "output_type": "stream",
       "stream": "stdout",
       "text": [
        "\r",
        "Ransac iteration 336 of 500"
       ]
      },
      {
       "output_type": "stream",
       "stream": "stdout",
       "text": [
        "\r",
        "Ransac iteration 337 of 500"
       ]
      },
      {
       "output_type": "stream",
       "stream": "stdout",
       "text": [
        "\r",
        "Ransac iteration 338 of 500"
       ]
      },
      {
       "output_type": "stream",
       "stream": "stdout",
       "text": [
        "\r",
        "Ransac iteration 339 of 500"
       ]
      },
      {
       "output_type": "stream",
       "stream": "stdout",
       "text": [
        "\r",
        "Ransac iteration 340 of 500"
       ]
      },
      {
       "output_type": "stream",
       "stream": "stdout",
       "text": [
        "\r",
        "Ransac iteration 341 of 500"
       ]
      },
      {
       "output_type": "stream",
       "stream": "stdout",
       "text": [
        "\r",
        "Ransac iteration 342 of 500"
       ]
      },
      {
       "output_type": "stream",
       "stream": "stdout",
       "text": [
        "\r",
        "Ransac iteration 343 of 500"
       ]
      },
      {
       "output_type": "stream",
       "stream": "stdout",
       "text": [
        "\r",
        "Ransac iteration 344 of 500"
       ]
      },
      {
       "output_type": "stream",
       "stream": "stdout",
       "text": [
        "\r",
        "Ransac iteration 345 of 500"
       ]
      },
      {
       "output_type": "stream",
       "stream": "stdout",
       "text": [
        "\r",
        "Ransac iteration 346 of 500"
       ]
      },
      {
       "output_type": "stream",
       "stream": "stdout",
       "text": [
        "\r",
        "Ransac iteration 347 of 500"
       ]
      },
      {
       "output_type": "stream",
       "stream": "stdout",
       "text": [
        "\r",
        "Ransac iteration 348 of 500"
       ]
      },
      {
       "output_type": "stream",
       "stream": "stdout",
       "text": [
        "\r",
        "Ransac iteration 349 of 500"
       ]
      },
      {
       "output_type": "stream",
       "stream": "stdout",
       "text": [
        "\r",
        "Ransac iteration 350 of 500"
       ]
      },
      {
       "output_type": "stream",
       "stream": "stdout",
       "text": [
        "\r",
        "Ransac iteration 351 of 500"
       ]
      },
      {
       "output_type": "stream",
       "stream": "stdout",
       "text": [
        "\r",
        "Ransac iteration 352 of 500"
       ]
      },
      {
       "output_type": "stream",
       "stream": "stdout",
       "text": [
        "\r",
        "Ransac iteration 353 of 500"
       ]
      },
      {
       "output_type": "stream",
       "stream": "stdout",
       "text": [
        "\r",
        "Ransac iteration 354 of 500"
       ]
      },
      {
       "output_type": "stream",
       "stream": "stdout",
       "text": [
        "\r",
        "Ransac iteration 355 of 500"
       ]
      },
      {
       "output_type": "stream",
       "stream": "stdout",
       "text": [
        "\r",
        "Ransac iteration 356 of 500"
       ]
      },
      {
       "output_type": "stream",
       "stream": "stdout",
       "text": [
        "\r",
        "Ransac iteration 357 of 500"
       ]
      },
      {
       "output_type": "stream",
       "stream": "stdout",
       "text": [
        "\r",
        "Ransac iteration 358 of 500"
       ]
      },
      {
       "output_type": "stream",
       "stream": "stdout",
       "text": [
        "\r",
        "Ransac iteration 359 of 500"
       ]
      },
      {
       "output_type": "stream",
       "stream": "stdout",
       "text": [
        "\r",
        "Ransac iteration 360 of 500"
       ]
      },
      {
       "output_type": "stream",
       "stream": "stdout",
       "text": [
        "\r",
        "Ransac iteration 361 of 500"
       ]
      },
      {
       "output_type": "stream",
       "stream": "stdout",
       "text": [
        "\r",
        "Ransac iteration 362 of 500"
       ]
      },
      {
       "output_type": "stream",
       "stream": "stdout",
       "text": [
        "\r",
        "Ransac iteration 363 of 500"
       ]
      },
      {
       "output_type": "stream",
       "stream": "stdout",
       "text": [
        "\r",
        "Ransac iteration 364 of 500"
       ]
      },
      {
       "output_type": "stream",
       "stream": "stdout",
       "text": [
        "\r",
        "Ransac iteration 365 of 500"
       ]
      },
      {
       "output_type": "stream",
       "stream": "stdout",
       "text": [
        "\r",
        "Ransac iteration 366 of 500"
       ]
      },
      {
       "output_type": "stream",
       "stream": "stdout",
       "text": [
        "\r",
        "Ransac iteration 367 of 500"
       ]
      },
      {
       "output_type": "stream",
       "stream": "stdout",
       "text": [
        "\r",
        "Ransac iteration 368 of 500"
       ]
      },
      {
       "output_type": "stream",
       "stream": "stdout",
       "text": [
        "\r",
        "Ransac iteration 369 of 500"
       ]
      },
      {
       "output_type": "stream",
       "stream": "stdout",
       "text": [
        "\r",
        "Ransac iteration 370 of 500"
       ]
      },
      {
       "output_type": "stream",
       "stream": "stdout",
       "text": [
        "\r",
        "Ransac iteration 371 of 500"
       ]
      },
      {
       "output_type": "stream",
       "stream": "stdout",
       "text": [
        "\r",
        "Ransac iteration 372 of 500"
       ]
      },
      {
       "output_type": "stream",
       "stream": "stdout",
       "text": [
        "\r",
        "Ransac iteration 373 of 500"
       ]
      },
      {
       "output_type": "stream",
       "stream": "stdout",
       "text": [
        "\r",
        "Ransac iteration 374 of 500"
       ]
      },
      {
       "output_type": "stream",
       "stream": "stdout",
       "text": [
        "\r",
        "Ransac iteration 375 of 500"
       ]
      },
      {
       "output_type": "stream",
       "stream": "stdout",
       "text": [
        "\r",
        "Ransac iteration 376 of 500"
       ]
      },
      {
       "output_type": "stream",
       "stream": "stdout",
       "text": [
        "\r",
        "Ransac iteration 377 of 500"
       ]
      },
      {
       "output_type": "stream",
       "stream": "stdout",
       "text": [
        "\r",
        "Ransac iteration 378 of 500"
       ]
      },
      {
       "output_type": "stream",
       "stream": "stdout",
       "text": [
        "\r",
        "Ransac iteration 379 of 500"
       ]
      },
      {
       "output_type": "stream",
       "stream": "stdout",
       "text": [
        "\r",
        "Ransac iteration 380 of 500"
       ]
      },
      {
       "output_type": "stream",
       "stream": "stdout",
       "text": [
        "\r",
        "Ransac iteration 381 of 500"
       ]
      },
      {
       "output_type": "stream",
       "stream": "stdout",
       "text": [
        "\r",
        "Ransac iteration 382 of 500"
       ]
      },
      {
       "output_type": "stream",
       "stream": "stdout",
       "text": [
        "\r",
        "Ransac iteration 383 of 500"
       ]
      },
      {
       "output_type": "stream",
       "stream": "stdout",
       "text": [
        "\r",
        "Ransac iteration 384 of 500"
       ]
      },
      {
       "output_type": "stream",
       "stream": "stdout",
       "text": [
        "\r",
        "Ransac iteration 385 of 500"
       ]
      },
      {
       "output_type": "stream",
       "stream": "stdout",
       "text": [
        "\r",
        "Ransac iteration 386 of 500"
       ]
      },
      {
       "output_type": "stream",
       "stream": "stdout",
       "text": [
        "\r",
        "Ransac iteration 387 of 500"
       ]
      },
      {
       "output_type": "stream",
       "stream": "stdout",
       "text": [
        "\r",
        "Ransac iteration 388 of 500"
       ]
      },
      {
       "output_type": "stream",
       "stream": "stdout",
       "text": [
        "\r",
        "Ransac iteration 389 of 500"
       ]
      },
      {
       "output_type": "stream",
       "stream": "stdout",
       "text": [
        "\r",
        "Ransac iteration 390 of 500"
       ]
      },
      {
       "output_type": "stream",
       "stream": "stdout",
       "text": [
        "\r",
        "Ransac iteration 391 of 500"
       ]
      },
      {
       "output_type": "stream",
       "stream": "stdout",
       "text": [
        "\r",
        "Ransac iteration 392 of 500"
       ]
      },
      {
       "output_type": "stream",
       "stream": "stdout",
       "text": [
        "\r",
        "Ransac iteration 393 of 500"
       ]
      },
      {
       "output_type": "stream",
       "stream": "stdout",
       "text": [
        "\r",
        "Ransac iteration 394 of 500"
       ]
      },
      {
       "output_type": "stream",
       "stream": "stdout",
       "text": [
        "\r",
        "Ransac iteration 395 of 500"
       ]
      },
      {
       "output_type": "stream",
       "stream": "stdout",
       "text": [
        "\r",
        "Ransac iteration 396 of 500"
       ]
      },
      {
       "output_type": "stream",
       "stream": "stdout",
       "text": [
        "\r",
        "Ransac iteration 397 of 500"
       ]
      },
      {
       "output_type": "stream",
       "stream": "stdout",
       "text": [
        "\r",
        "Ransac iteration 398 of 500"
       ]
      },
      {
       "output_type": "stream",
       "stream": "stdout",
       "text": [
        "\r",
        "Ransac iteration 399 of 500"
       ]
      },
      {
       "output_type": "stream",
       "stream": "stdout",
       "text": [
        "\r",
        "Ransac iteration 400 of 500"
       ]
      },
      {
       "output_type": "stream",
       "stream": "stdout",
       "text": [
        "\r",
        "Ransac iteration 401 of 500"
       ]
      },
      {
       "output_type": "stream",
       "stream": "stdout",
       "text": [
        "\r",
        "Ransac iteration 402 of 500"
       ]
      },
      {
       "output_type": "stream",
       "stream": "stdout",
       "text": [
        "\r",
        "Ransac iteration 403 of 500"
       ]
      },
      {
       "output_type": "stream",
       "stream": "stdout",
       "text": [
        "\r",
        "Ransac iteration 404 of 500"
       ]
      },
      {
       "output_type": "stream",
       "stream": "stdout",
       "text": [
        "\r",
        "Ransac iteration 405 of 500"
       ]
      },
      {
       "output_type": "stream",
       "stream": "stdout",
       "text": [
        "\r",
        "Ransac iteration 406 of 500"
       ]
      },
      {
       "output_type": "stream",
       "stream": "stdout",
       "text": [
        "\r",
        "Ransac iteration 407 of 500"
       ]
      },
      {
       "output_type": "stream",
       "stream": "stdout",
       "text": [
        "\r",
        "Ransac iteration 408 of 500"
       ]
      },
      {
       "output_type": "stream",
       "stream": "stdout",
       "text": [
        "\r",
        "Ransac iteration 409 of 500"
       ]
      },
      {
       "output_type": "stream",
       "stream": "stdout",
       "text": [
        "\r",
        "Ransac iteration 410 of 500"
       ]
      },
      {
       "output_type": "stream",
       "stream": "stdout",
       "text": [
        "\r",
        "Ransac iteration 411 of 500"
       ]
      },
      {
       "output_type": "stream",
       "stream": "stdout",
       "text": [
        "\r",
        "Ransac iteration 412 of 500"
       ]
      },
      {
       "output_type": "stream",
       "stream": "stdout",
       "text": [
        "\r",
        "Ransac iteration 413 of 500"
       ]
      },
      {
       "output_type": "stream",
       "stream": "stdout",
       "text": [
        "\r",
        "Ransac iteration 414 of 500"
       ]
      },
      {
       "output_type": "stream",
       "stream": "stdout",
       "text": [
        "\r",
        "Ransac iteration 415 of 500"
       ]
      },
      {
       "output_type": "stream",
       "stream": "stdout",
       "text": [
        "\r",
        "Ransac iteration 416 of 500"
       ]
      },
      {
       "output_type": "stream",
       "stream": "stdout",
       "text": [
        "\r",
        "Ransac iteration 417 of 500"
       ]
      },
      {
       "output_type": "stream",
       "stream": "stdout",
       "text": [
        "\r",
        "Ransac iteration 418 of 500"
       ]
      },
      {
       "output_type": "stream",
       "stream": "stdout",
       "text": [
        "\r",
        "Ransac iteration 419 of 500"
       ]
      },
      {
       "output_type": "stream",
       "stream": "stdout",
       "text": [
        "\r",
        "Ransac iteration 420 of 500"
       ]
      },
      {
       "output_type": "stream",
       "stream": "stdout",
       "text": [
        "\r",
        "Ransac iteration 421 of 500"
       ]
      },
      {
       "output_type": "stream",
       "stream": "stdout",
       "text": [
        "\r",
        "Ransac iteration 422 of 500"
       ]
      },
      {
       "output_type": "stream",
       "stream": "stdout",
       "text": [
        "\r",
        "Ransac iteration 423 of 500"
       ]
      },
      {
       "output_type": "stream",
       "stream": "stdout",
       "text": [
        "\r",
        "Ransac iteration 424 of 500"
       ]
      },
      {
       "output_type": "stream",
       "stream": "stdout",
       "text": [
        "\r",
        "Ransac iteration 425 of 500"
       ]
      },
      {
       "output_type": "stream",
       "stream": "stdout",
       "text": [
        "\r",
        "Ransac iteration 426 of 500"
       ]
      },
      {
       "output_type": "stream",
       "stream": "stdout",
       "text": [
        "\r",
        "Ransac iteration 427 of 500"
       ]
      },
      {
       "output_type": "stream",
       "stream": "stdout",
       "text": [
        "\r",
        "Ransac iteration 428 of 500"
       ]
      },
      {
       "output_type": "stream",
       "stream": "stdout",
       "text": [
        "\r",
        "Ransac iteration 429 of 500"
       ]
      },
      {
       "output_type": "stream",
       "stream": "stdout",
       "text": [
        "\r",
        "Ransac iteration 430 of 500"
       ]
      },
      {
       "output_type": "stream",
       "stream": "stdout",
       "text": [
        "\r",
        "Ransac iteration 431 of 500"
       ]
      },
      {
       "output_type": "stream",
       "stream": "stdout",
       "text": [
        "\r",
        "Ransac iteration 432 of 500"
       ]
      },
      {
       "output_type": "stream",
       "stream": "stdout",
       "text": [
        "\r",
        "Ransac iteration 433 of 500"
       ]
      },
      {
       "output_type": "stream",
       "stream": "stdout",
       "text": [
        "\r",
        "Ransac iteration 434 of 500"
       ]
      },
      {
       "output_type": "stream",
       "stream": "stdout",
       "text": [
        "\r",
        "Ransac iteration 435 of 500"
       ]
      },
      {
       "output_type": "stream",
       "stream": "stdout",
       "text": [
        "\r",
        "Ransac iteration 436 of 500"
       ]
      },
      {
       "output_type": "stream",
       "stream": "stdout",
       "text": [
        "\r",
        "Ransac iteration 437 of 500"
       ]
      },
      {
       "output_type": "stream",
       "stream": "stdout",
       "text": [
        "\r",
        "Ransac iteration 438 of 500"
       ]
      },
      {
       "output_type": "stream",
       "stream": "stdout",
       "text": [
        "\r",
        "Ransac iteration 439 of 500"
       ]
      },
      {
       "output_type": "stream",
       "stream": "stdout",
       "text": [
        "\r",
        "Ransac iteration 440 of 500"
       ]
      },
      {
       "output_type": "stream",
       "stream": "stdout",
       "text": [
        "\r",
        "Ransac iteration 441 of 500"
       ]
      },
      {
       "output_type": "stream",
       "stream": "stdout",
       "text": [
        "\r",
        "Ransac iteration 442 of 500"
       ]
      },
      {
       "output_type": "stream",
       "stream": "stdout",
       "text": [
        "\r",
        "Ransac iteration 443 of 500"
       ]
      },
      {
       "output_type": "stream",
       "stream": "stdout",
       "text": [
        "\r",
        "Ransac iteration 444 of 500"
       ]
      },
      {
       "output_type": "stream",
       "stream": "stdout",
       "text": [
        "\r",
        "Ransac iteration 445 of 500"
       ]
      },
      {
       "output_type": "stream",
       "stream": "stdout",
       "text": [
        "\r",
        "Ransac iteration 446 of 500"
       ]
      },
      {
       "output_type": "stream",
       "stream": "stdout",
       "text": [
        "\r",
        "Ransac iteration 447 of 500"
       ]
      },
      {
       "output_type": "stream",
       "stream": "stdout",
       "text": [
        "\r",
        "Ransac iteration 448 of 500"
       ]
      },
      {
       "output_type": "stream",
       "stream": "stdout",
       "text": [
        "\r",
        "Ransac iteration 449 of 500"
       ]
      },
      {
       "output_type": "stream",
       "stream": "stdout",
       "text": [
        "\r",
        "Ransac iteration 450 of 500"
       ]
      },
      {
       "output_type": "stream",
       "stream": "stdout",
       "text": [
        "\r",
        "Ransac iteration 451 of 500"
       ]
      },
      {
       "output_type": "stream",
       "stream": "stdout",
       "text": [
        "\r",
        "Ransac iteration 452 of 500"
       ]
      },
      {
       "output_type": "stream",
       "stream": "stdout",
       "text": [
        "\r",
        "Ransac iteration 453 of 500"
       ]
      },
      {
       "output_type": "stream",
       "stream": "stdout",
       "text": [
        "\r",
        "Ransac iteration 454 of 500"
       ]
      },
      {
       "output_type": "stream",
       "stream": "stdout",
       "text": [
        "\r",
        "Ransac iteration 455 of 500"
       ]
      },
      {
       "output_type": "stream",
       "stream": "stdout",
       "text": [
        "\r",
        "Ransac iteration 456 of 500"
       ]
      },
      {
       "output_type": "stream",
       "stream": "stdout",
       "text": [
        "\r",
        "Ransac iteration 457 of 500"
       ]
      },
      {
       "output_type": "stream",
       "stream": "stdout",
       "text": [
        "\r",
        "Ransac iteration 458 of 500"
       ]
      },
      {
       "output_type": "stream",
       "stream": "stdout",
       "text": [
        "\r",
        "Ransac iteration 459 of 500"
       ]
      },
      {
       "output_type": "stream",
       "stream": "stdout",
       "text": [
        "\r",
        "Ransac iteration 460 of 500"
       ]
      },
      {
       "output_type": "stream",
       "stream": "stdout",
       "text": [
        "\r",
        "Ransac iteration 461 of 500"
       ]
      },
      {
       "output_type": "stream",
       "stream": "stdout",
       "text": [
        "\r",
        "Ransac iteration 462 of 500"
       ]
      },
      {
       "output_type": "stream",
       "stream": "stdout",
       "text": [
        "\r",
        "Ransac iteration 463 of 500"
       ]
      },
      {
       "output_type": "stream",
       "stream": "stdout",
       "text": [
        "\r",
        "Ransac iteration 464 of 500"
       ]
      },
      {
       "output_type": "stream",
       "stream": "stdout",
       "text": [
        "\r",
        "Ransac iteration 465 of 500"
       ]
      },
      {
       "output_type": "stream",
       "stream": "stdout",
       "text": [
        "\r",
        "Ransac iteration 466 of 500"
       ]
      },
      {
       "output_type": "stream",
       "stream": "stdout",
       "text": [
        "\r",
        "Ransac iteration 467 of 500"
       ]
      },
      {
       "output_type": "stream",
       "stream": "stdout",
       "text": [
        "\r",
        "Ransac iteration 468 of 500"
       ]
      },
      {
       "output_type": "stream",
       "stream": "stdout",
       "text": [
        "\r",
        "Ransac iteration 469 of 500"
       ]
      },
      {
       "output_type": "stream",
       "stream": "stdout",
       "text": [
        "\r",
        "Ransac iteration 470 of 500"
       ]
      },
      {
       "output_type": "stream",
       "stream": "stdout",
       "text": [
        "\r",
        "Ransac iteration 471 of 500"
       ]
      },
      {
       "output_type": "stream",
       "stream": "stdout",
       "text": [
        "\r",
        "Ransac iteration 472 of 500"
       ]
      },
      {
       "output_type": "stream",
       "stream": "stdout",
       "text": [
        "\r",
        "Ransac iteration 473 of 500"
       ]
      },
      {
       "output_type": "stream",
       "stream": "stdout",
       "text": [
        "\r",
        "Ransac iteration 474 of 500"
       ]
      },
      {
       "output_type": "stream",
       "stream": "stdout",
       "text": [
        "\r",
        "Ransac iteration 475 of 500"
       ]
      },
      {
       "output_type": "stream",
       "stream": "stdout",
       "text": [
        "\r",
        "Ransac iteration 476 of 500"
       ]
      },
      {
       "output_type": "stream",
       "stream": "stdout",
       "text": [
        "\r",
        "Ransac iteration 477 of 500"
       ]
      },
      {
       "output_type": "stream",
       "stream": "stdout",
       "text": [
        "\r",
        "Ransac iteration 478 of 500"
       ]
      },
      {
       "output_type": "stream",
       "stream": "stdout",
       "text": [
        "\r",
        "Ransac iteration 479 of 500"
       ]
      },
      {
       "output_type": "stream",
       "stream": "stdout",
       "text": [
        "\r",
        "Ransac iteration 480 of 500"
       ]
      },
      {
       "output_type": "stream",
       "stream": "stdout",
       "text": [
        "\r",
        "Ransac iteration 481 of 500"
       ]
      },
      {
       "output_type": "stream",
       "stream": "stdout",
       "text": [
        "\r",
        "Ransac iteration 482 of 500"
       ]
      },
      {
       "output_type": "stream",
       "stream": "stdout",
       "text": [
        "\r",
        "Ransac iteration 483 of 500"
       ]
      },
      {
       "output_type": "stream",
       "stream": "stdout",
       "text": [
        "\r",
        "Ransac iteration 484 of 500"
       ]
      },
      {
       "output_type": "stream",
       "stream": "stdout",
       "text": [
        "\r",
        "Ransac iteration 485 of 500"
       ]
      },
      {
       "output_type": "stream",
       "stream": "stdout",
       "text": [
        "\r",
        "Ransac iteration 486 of 500"
       ]
      },
      {
       "output_type": "stream",
       "stream": "stdout",
       "text": [
        "\r",
        "Ransac iteration 487 of 500"
       ]
      },
      {
       "output_type": "stream",
       "stream": "stdout",
       "text": [
        "\r",
        "Ransac iteration 488 of 500"
       ]
      },
      {
       "output_type": "stream",
       "stream": "stdout",
       "text": [
        "\r",
        "Ransac iteration 489 of 500"
       ]
      },
      {
       "output_type": "stream",
       "stream": "stdout",
       "text": [
        "\r",
        "Ransac iteration 490 of 500"
       ]
      },
      {
       "output_type": "stream",
       "stream": "stdout",
       "text": [
        "\r",
        "Ransac iteration 491 of 500"
       ]
      },
      {
       "output_type": "stream",
       "stream": "stdout",
       "text": [
        "\r",
        "Ransac iteration 492 of 500"
       ]
      },
      {
       "output_type": "stream",
       "stream": "stdout",
       "text": [
        "\r",
        "Ransac iteration 493 of 500"
       ]
      },
      {
       "output_type": "stream",
       "stream": "stdout",
       "text": [
        "\r",
        "Ransac iteration 494 of 500"
       ]
      },
      {
       "output_type": "stream",
       "stream": "stdout",
       "text": [
        "\r",
        "Ransac iteration 495 of 500"
       ]
      },
      {
       "output_type": "stream",
       "stream": "stdout",
       "text": [
        "\r",
        "Ransac iteration 496 of 500"
       ]
      },
      {
       "output_type": "stream",
       "stream": "stdout",
       "text": [
        "\r",
        "Ransac iteration 497 of 500"
       ]
      },
      {
       "output_type": "stream",
       "stream": "stdout",
       "text": [
        "\r",
        "Ransac iteration 498 of 500"
       ]
      },
      {
       "output_type": "stream",
       "stream": "stdout",
       "text": [
        "\r",
        "Ransac iteration 499 of 500"
       ]
      },
      {
       "output_type": "stream",
       "stream": "stdout",
       "text": [
        "\n"
       ]
      }
     ],
     "prompt_number": 8
    },
    {
     "cell_type": "code",
     "collapsed": false,
     "input": [
      "## find which camera belongs to which segment based on distance and slope\n",
      "# find slopes of found lines\n",
      "slopes = np.zeros(len(lines))\n",
      "for i in xrange(0,len(lines)) :\n",
      "    # find 2 points on line\n",
      "    p1 = lines[i][2:4]+lines[i][0:2]\n",
      "    p2 = lines[i][2:4]-lines[i][0:2]\n",
      "    slopes[i] = (p1[1] - p2[1])/(p1[0] - p2[0])\n",
      "    \n",
      "print 'slopes:', slopes\n",
      "\n",
      "\n",
      "## compute average distance of camera locations from their assinged line\n",
      "distances = list()\n",
      "for i in xrange(0, len(lines)) :\n",
      "    for loc in linesInliers[i] :\n",
      "        a = np.ndarray.flatten(lines[i][2:4])\n",
      "        n = np.ndarray.flatten(lines[i][0:2])\n",
      "        p = cameraLocs2D[loc]\n",
      "        distances.append(np.linalg.norm(a - p - np.dot(np.dot(a-p, n), n))) # distance between point p and line x = a +tn\n",
      "\n",
      "\n",
      "## find cameras that after fitting lines using L2 are outside ransac threshold\n",
      "distThresh = 3*np.average(distances)\n",
      "# contains all the cameras that are outliers (according to ransac distance threshold) after fitting of lines using L2 min\n",
      "outliers = list()\n",
      "\n",
      "for idx in xrange(0, len(cameraLocs2D)) :\n",
      "    isOutlier = True\n",
      "    for line in lines :\n",
      "        a = np.ndarray.flatten(line[2:4])\n",
      "        n = np.ndarray.flatten(line[0:2])\n",
      "        p = cameraLocs2D[idx]\n",
      "        distance = np.linalg.norm(a - p - np.dot(np.dot(a-p, n), n)) # distance between point p and line x = a +tn\n",
      "        if distance < distThresh :\n",
      "            isOutlier = False\n",
      "    if isOutlier :\n",
      "        outliers.append(idx)\n",
      "\n",
      "print 'outliers:', outliers\n",
      "\n",
      "## HACK : now take 10% of frames from the end of\n",
      "\n",
      "straights = list()\n",
      "turns = list()\n",
      "\n",
      "## each line corresponds to 1 straight\n",
      "for i in xrange(1, len(lines)) :\n",
      "    # idx of first outlier camera in inlier array for first straight\n",
      "    idx = np.argwhere(linesInliers[i-1] == outliers[0])\n",
      "    if len(idx) == 0 :\n",
      "        idx = len(linesInliers[i-1])\n",
      "    # length of first straight\n",
      "    l = np.int(np.round(len(linesInliers[i-1])-idx - 0.1*len(linesInliers[i-1])))\n",
      "    # add first straight\n",
      "    straights.append(linesInliers[i-1][0:l])\n",
      "    \n",
      "    # build turn\n",
      "    turn = np.hstack([linesInliers[i-1][l:], outliers])\n",
      "    \n",
      "    # idx of last outlier camera in inlier array for second straight\n",
      "    idx = np.argwhere(linesInliers[1] == outliers[len(outliers)-1])\n",
      "    if len(idx) == 0 :\n",
      "        idx = len(linesInliers[i])\n",
      "    # length of second straight\n",
      "    l = np.int(np.round(len(linesInliers[i])-idx - 0.1*len(linesInliers[i])))\n",
      "    \n",
      "    # add turn ## HACK : using unique because I don't know ot which linesInliers array the \n",
      "               ## outliers belong to so they get added twice \n",
      "               ## (once from outliers and once from whichever linesInliers they belong to)\n",
      "    turn = np.unique(np.hstack([turn, linesInliers[i][0:len(linesInliers[i])-l]]))\n",
      "    turns.append(turn)\n",
      "    \n",
      "    # add second straight\n",
      "    straights.append(linesInliers[i][len(linesInliers[i])-l:len(linesInliers[i])])\n",
      "    "
     ],
     "language": "python",
     "metadata": {},
     "outputs": [
      {
       "output_type": "stream",
       "stream": "stdout",
       "text": [
        "slopes: [-0.66466033  2.00147963]\n",
        "outliers: [216, 217, 218, 219, 220, 221, 222, 223, 224, 225, 226, 227, 228, 229, 230, 231, 232, 233, 234, 235, 236, 237, 238, 239, 240, 241, 242]\n"
       ]
      }
     ],
     "prompt_number": 9
    },
    {
     "cell_type": "code",
     "collapsed": false,
     "input": [
      "## HACK : initialize some mock input 2d maze map (eventually it would come from drawn input or whatevs)\n",
      "\n",
      "mazeMap = np.array([[0.0, 0.0], [0.0, 20.0], [7.0, 20.0], [7.0, 5.0], [2.0, 5.0]])\n",
      "\n",
      "## now define 2 graphs where nodes are turns and edges are straights\n",
      "# one for the input sequences \n",
      "# one for the input maze\n",
      "\n",
      "## init sequence graph edges with straights' length in frames\n",
      "seqEdges = np.zeros(len(straights))\n",
      "for i in xrange(0, len(straights)) :\n",
      "    seqEdges[i] = len(straights[i])\n",
      "maxSequenceLen = np.max(seqEdges);\n",
      "    \n",
      "## init sequence graph nodes with [i, 0] = seq length, [i, 1] = left/right turn, [i, 2:len] = edges connected to node\n",
      "seqNodes = np.zeros([len(turns), 4])\n",
      "for i in xrange(0, len(turns)) :\n",
      "    seqNodes[i, 0] = len(turns[i])\n",
      "    ## HACK : need auto way of finding which way the turn turns\n",
      "    seqNodes[i, 1] = 1\n",
      "    ## HACK : need auto way of finding which straights are connected to turn\n",
      "    seqNodes[i, 2] = 0\n",
      "    seqNodes[i, 3] = 1\n",
      "\n",
      "## init map graph edges with [i, 0] = segment length, [i, 1:len] = extremes from mazeMap\n",
      "mapEdges = np.zeros([len(mazeMap)-1, 3])\n",
      "## init map graph nodes with [i, 0] = left/right turn, [i, 1:len] = edges connected to node\n",
      "mapNodes = np.zeros([len(mapEdges)-1, 3])\n",
      "\n",
      "maxSegmentLen = 0\n",
      "currentSegment = 0\n",
      "for i in xrange(1, len(mazeMap)) :\n",
      "    ## find the longest length of any given segment\n",
      "    current = np.linalg.norm(mazeMap[i]-mazeMap[i-1])\n",
      "    if current > maxSegmentLen :\n",
      "        maxSegmentLen = current\n",
      "    \n",
      "    ## set the extremes of edge\n",
      "    mapEdges[i-1, 1] = i-1\n",
      "    mapEdges[i-1, 2] = i\n",
      "    \n",
      "    ## only add node if there's already an edge\n",
      "    if i > 1 :\n",
      "        mapNodes[i-2, 0] = 1\n",
      "        mapNodes[i-2, 1] = currentSegment-1\n",
      "        mapNodes[i-2, 2] = currentSegment\n",
      "        \n",
      "    currentSegment += 1\n",
      "\n",
      "## set edge lenght for map graph\n",
      "for i in xrange(0, len(mapEdges)) :\n",
      "    mapEdges[i, 0] = np.round(np.linalg.norm(mazeMap[mapEdges[i, 1]]-mazeMap[mapEdges[i, 2]])*maxSequenceLen/maxSegmentLen)\n",
      "\n",
      "print mapNodes    \n",
      "print mapEdges\n",
      "print maxSegmentLen, maxSequenceLen"
     ],
     "language": "python",
     "metadata": {},
     "outputs": [
      {
       "output_type": "stream",
       "stream": "stdout",
       "text": [
        "[[ 1.  0.  1.]\n",
        " [ 1.  1.  2.]\n",
        " [ 1.  2.  3.]]\n",
        "[[ 472.    0.    1.]\n",
        " [ 165.    1.    2.]\n",
        " [ 354.    2.    3.]\n",
        " [ 118.    3.    4.]]\n",
        "20.0 472.0\n"
       ]
      }
     ],
     "prompt_number": 96
    },
    {
     "cell_type": "code",
     "collapsed": false,
     "input": [
      "## build movie based on map graph\n",
      "\n",
      "# go through all the nodes and get ordered list of straights and their length\n",
      "# each node is as long as the sequence node they are replaced by (for now only 1 node so no need to worry which is best)\n",
      "bestSeqNode = 0\n",
      "nodeLen = seqNodes[bestSeqNode, 0] ## lenght of turn in frames\n",
      "frames = np.zeros(np.sum(mapEdges[:, 0])+nodeLen*len(mapNodes))\n",
      "print frames.shape\n",
      "## add the frames representing the turns to the frames array\n",
      "currentFrame = 0 \n",
      "straightStartFrame = np.zeros(len(mapEdges))\n",
      "count = 1\n",
      "for n in mapNodes :\n",
      "    prevLen = mapEdges[n[1], 0]\n",
      "    nextLen = mapEdges[n[2], 0]\n",
      "    frames[currentFrame+prevLen:currentFrame+prevLen+nodeLen] = turns[bestSeqNode]\n",
      "    currentFrame = currentFrame+prevLen+nodeLen\n",
      "    straightStartFrame[count] = currentFrame\n",
      "    count +=1\n",
      "\n",
      "print straightStartFrame\n",
      "\n",
      "n = 0\n",
      "for e in xrange(0, len(mapEdges)) :\n",
      "    # find which straight sequence connects best with turn \n",
      "    minDist = np.max(distanceMatrix)\n",
      "    startSequence = -1;\n",
      "    for s in xrange(0, len(straights)) :\n",
      "        ## need to check bestSeqNode which still needs to be found automatically somehow\n",
      "        dist = distanceMatrix[straights[s][-1], turns[bestSeqNode][0]]\n",
      "        if dist <= minDist :\n",
      "            minDist = dist\n",
      "            startSequence = s\n",
      "    print startSequence\n",
      "    \n",
      "    ## deal with joint between end of straight and beginning of turn\n",
      "    \n",
      "    ## check for all sequence edges that are long enough for current map edge\n",
      "    viableSequences = np.hstack(np.where(seqEdges >= mapEdges[e, 0])) # i.e long enough sequences\n",
      "    startSequenceLen = len(straights[startSequence])\n",
      "    if startSequence in viableSequences :\n",
      "        print \"using best sequence, start at frame #\", straightStartFrame[e]\n",
      "        startTurnFrame = straightStartFrame[e] + mapEdges[e, 0]\n",
      "        frames[straightStartFrame[e]:startTurnFrame] = straights[startSequence][startSequenceLen-mapEdges[e, 0]:startSequenceLen]\n",
      "    else :\n",
      "        print \"find best fitting, start at frame #\", straightStartFrame[e]\n",
      "        bestFrame = -1\n",
      "        bestSequence = -1\n",
      "        minDist = np.max(distanceMatrix)\n",
      "        ## check which viable sequence fits best the startSequence and where\n",
      "        for s in viableSequences :\n",
      "            print \"lala\", mapEdges[e, 0], startSequenceLen, seqEdges[s]\n",
      "            framesNeeded = mapEdges[e, 0] ## frames needed for current map edge e\n",
      "            for toUse in xrange(1, startSequenceLen) : ## frames from start sequence to be used\n",
      "                additionalNeeded = framesNeeded-toUse ## additional frames needed to be taken from viable sequence\n",
      "                remaining = seqEdges[s] - additionalNeeded ## frames from viable sequence remaining that can be chosen from to stitch to start sequence\n",
      "                dist = np.min(distanceMatrix[straights[startSequence][-toUse-1], straights[s][len(straights[s])-remaining-1:len(straights[s])]])\n",
      "                print toUse, additionalNeeded, remaining, dist, straights[startSequence][-toUse-1]#, straights[s][remaining-1:len(straights[s])]\n",
      "                if dist <= minDist :\n",
      "                    minDist = dist\n",
      "                    bestFrame = straights[startSequence][-toUse-1]\n",
      "                    bestSequence = s\n",
      "        bestMatch = np.int(np.hstack(np.where(distanceMatrix[bestFrame, :] == minDist)))\n",
      "        print \"best matching frames (\", cameraNames[bestFrame], \",\", cameraNames[bestMatch], \")\"\n",
      "        print np.where(straights[bestSequence]==bestMatch)\n",
      "        print \"best frames to stitch together (\", cameraNames[straights[startSequence][np.int(np.hstack(np.where(straights[startSequence]==bestFrame)))+1]],\n",
      "        print \",\", cameraNames[straights[bestSequence][np.where(straights[bestSequence]==bestMatch)]], \")\"\n",
      "        \n",
      "        a = np.int(np.hstack(np.where(straights[startSequence] == bestFrame)))\n",
      "        b = np.int(np.hstack(np.where(straights[bestSequence] == bestMatch)))\n",
      "        seqA = straights[startSequence][a:startSequenceLen]\n",
      "        seqB = straights[bestSequence][0:b]\n",
      "        \n",
      "        startTurnFrame = straightStartFrame[e] + mapEdges[e, 0]\n",
      "        print \"gne\", startTurnFrame\n",
      "        frames[straightStartFrame[e]:startTurnFrame] = np.hstack((seqB[len(seqA)+len(seqB)-mapEdges[e, 0]:len(seqB)], seqA))\n",
      "        \n",
      "    \n",
      "    ## deal with joint between end of turn and beginning of straight\n",
      "    if e > 0 :     \n",
      "        \n",
      "        n += 1\n",
      "    else :\n",
      "        print \"rendering 1st straight\"\n",
      "        \n",
      "        "
     ],
     "language": "python",
     "metadata": {},
     "outputs": [
      {
       "output_type": "stream",
       "stream": "stdout",
       "text": [
        "(1421,)\n",
        "[    0.   576.   845.  1303.]\n",
        "0\n",
        "find best fitting, start at frame # 0.0\n",
        "lala 472.0 193 472.0\n",
        "1 471.0 1.0 307.249492077 191\n",
        "2 470.0 2.0 305.139594248 190\n",
        "3 469.0 3.0 304.946715151 189\n",
        "4 468.0 4.0 303.130120184 188\n",
        "5 467.0 5.0 304.410679726 187\n",
        "6 466.0 6.0 301.371179795 186\n",
        "7 465.0 7.0 299.561125228 185\n",
        "8 464.0 8.0 295.98630886 184\n",
        "9 463.0 9.0 293.793308578 183\n",
        "10 462.0 10.0 293.371650659 182\n",
        "11 461.0 11.0 293.652750521 181\n",
        "12 460.0 12.0 292.592967326 180\n",
        "13 459.0 13.0 291.383091007 179\n",
        "14 458.0 14.0 288.937161224 178\n",
        "15 457.0 15.0 287.172043002 177\n",
        "16 456.0 16.0 286.535283149 176\n",
        "17 455.0 17.0 282.567306002 175\n",
        "18 454.0 18.0 278.626744221 174\n",
        "19 453.0 19.0 277.154611333 173\n",
        "20 452.0 20.0 279.332099616 172\n",
        "21 451.0 21.0 279.700263064 171\n",
        "22 450.0 22.0 279.005683683 170\n",
        "23 449.0 23.0 268.040567386 169\n",
        "24 448.0 24.0 258.907395138 168\n",
        "25 447.0 25.0 262.592833331 167\n",
        "26 446.0 26.0 279.998017745 166\n",
        "27 445.0 27.0 278.942839466 165\n",
        "28 444.0 28.0 273.523138163 164\n",
        "29 443.0 29.0 258.518820453 163\n",
        "30 442.0 30.0 256.963052291 162\n",
        "31 441.0 31.0 263.420437276 161\n",
        "32 440.0 32.0 273.526083291 160\n",
        "33 439.0 33.0 275.887181693 159\n",
        "34 438.0 34.0 275.946312875 158\n",
        "35 437.0 35.0 277.365461303 157\n",
        "36 436.0 36.0 277.506198627 156\n",
        "37 435.0 37.0 277.77756698 155\n",
        "38 434.0 38.0 276.850855937 154\n",
        "39 433.0 39.0 276.310497027 153\n",
        "40 432.0 40.0 274.688422953 152\n",
        "41 431.0 41.0 275.554529632 151\n",
        "42 430.0 42.0 277.24517286 150\n",
        "43 429.0 43.0 274.493642899 149\n",
        "44 428.0 44.0 276.718240319 148\n",
        "45 427.0 45.0 276.806466088 147\n",
        "46 426.0 46.0 279.112175207 146\n",
        "47 425.0 47.0 281.19375421 145\n",
        "48 424.0 48.0 281.490903665 144\n",
        "49 423.0 49.0 276.848745631 143\n",
        "50 422.0 50.0 273.208381947 142\n",
        "51 421.0 51.0 276.378849478 141\n",
        "52 420.0 52.0 279.107211762 140\n",
        "53 419.0 53.0 280.300716631 139\n",
        "54 418.0 54.0 280.415638004 138\n",
        "55 417.0 55.0 275.299907728 137\n",
        "56 416.0 56.0 275.712836057 136\n",
        "57 415.0 57.0 277.54856814 135\n",
        "58 414.0 58.0 276.55038554 134\n",
        "59 413.0 59.0 278.20244519 133\n",
        "60 412.0 60.0 277.654381272 132\n",
        "61 411.0 61.0 276.166172248 131\n",
        "62 410.0 62.0 269.073823858 130\n",
        "63 409.0 63.0 270.078313338 129\n",
        "64 408.0 64.0 277.456911365 128\n",
        "65 407.0 65.0 280.726253462 127\n",
        "66 406.0 66.0 279.483853576 126\n",
        "67 405.0 67.0 280.084016225 125\n",
        "68 404.0 68.0 281.660086435 124\n",
        "69 403.0 69.0 280.560681114 123\n",
        "70 402.0 70.0 280.510811406 122\n",
        "71 401.0 71.0 279.858715279 121\n",
        "72 400.0 72.0 280.311830895 120\n",
        "73 399.0 73.0 285.467218127 119\n",
        "74 398.0 74.0 286.234755627 118\n",
        "75 397.0 75.0 287.742878903 117\n",
        "76 396.0 76.0 290.890172544 116\n",
        "77 395.0 77.0 292.458825684 115\n",
        "78 394.0 78.0 291.732410612 114\n",
        "79 393.0 79.0 291.585881976 113\n",
        "80 392.0 80.0 292.269845182 112\n",
        "81 391.0 81.0 290.144482162 111\n",
        "82 390.0 82.0 289.451393178 110\n",
        "83 389.0 83.0 288.227901304 109\n",
        "84 388.0 84.0 288.801418474 108\n",
        "85 387.0 85.0 290.087111331 107\n",
        "86 386.0 86.0 288.918655602 106\n",
        "87 385.0 87.0 286.799761621 105\n",
        "88 384.0 88.0 285.566999651 104\n",
        "89 383.0 89.0 284.672422297 103\n",
        "90 382.0 90.0 282.771959815 102\n",
        "91 381.0 91.0 283.95769323 101\n",
        "92 380.0 92.0 284.167125147 100\n",
        "93 379.0 93.0 283.122986013 99\n",
        "94 378.0 94.0 282.191647288 98\n",
        "95 377.0 95.0 278.838283869 97\n",
        "96 376.0 96.0 277.744111765 96\n",
        "97 375.0 97.0 276.219145846 95\n",
        "98 374.0 98.0 274.119157563 94\n",
        "99 373.0 99.0 275.489492474 93\n",
        "100 372.0 100.0 281.588825413 92\n",
        "101 371.0 101.0 282.263045807 91\n",
        "102 370.0 102.0 283.678798893 90\n",
        "103 369.0 103.0 274.263711592 89\n",
        "104 368.0 104.0 271.528683578 88\n",
        "105 367.0 105.0 270.431858854 87\n",
        "106 366.0 106.0 271.209040383 86\n",
        "107 365.0 107.0 276.963759894 85\n",
        "108 364.0 108.0 277.353208826 84\n",
        "109 363.0 109.0 276.887942398 83\n",
        "110 362.0 110.0 275.661388879 82\n",
        "111 361.0 111.0 274.553097185 81\n",
        "112 360.0 112.0 273.90319386 80\n",
        "113 359.0 113.0 275.259103586 79\n",
        "114 358.0 114.0 273.553013538 78\n",
        "115 357.0 115.0 273.322365899 77\n",
        "116 356.0 116.0 272.104957756 76\n",
        "117 355.0 117.0 270.451338952 75\n",
        "118 354.0 118.0 267.248078239 74\n",
        "119 353.0 119.0 262.479058619 73\n",
        "120 352.0 120.0 261.716191703 72\n",
        "121 351.0 121.0 259.863467518 71\n",
        "122 350.0 122.0 264.529471845 70\n",
        "123 349.0 123.0 268.170381369 69\n",
        "124 348.0 124.0 266.854308118 68\n",
        "125 347.0 125.0 267.268065727 67\n",
        "126 346.0 126.0 267.47386852 66\n",
        "127 345.0 127.0 261.008783068 65\n",
        "128 344.0 128.0 257.17745476 64\n",
        "129 343.0 129.0 259.444496641 63\n",
        "130 342.0 130.0 261.177582212 62\n",
        "131 341.0 131.0 262.04461168 61\n",
        "132 340.0 132.0 262.720185881 60\n",
        "133 339.0 133.0 262.679054725 59\n",
        "134 338.0 134.0 260.974630332 58\n",
        "135 337.0 135.0 260.958316941 57\n",
        "136 336.0 136.0 258.748290482 56\n",
        "137 335.0 137.0 256.319793033 55\n",
        "138 334.0 138.0 259.087935894 54\n",
        "139 333.0 139.0 263.145354028 53\n",
        "140 332.0 140.0 261.502253998 52\n",
        "141 331.0 141.0 259.768327937 51\n",
        "142 330.0 142.0 257.679981913 50\n",
        "143 329.0 143.0 257.236891087 49\n",
        "144 328.0 144.0 256.789056998 48\n",
        "145 327.0 145.0 259.395101947 47\n",
        "146 326.0 146.0 257.081001563 46\n",
        "147 325.0 147.0 259.576277522 45\n",
        "148 324.0 148.0 260.170455913 44\n",
        "149 323.0 149.0 260.410268139 43\n",
        "150 322.0 150.0 257.200260575 42\n",
        "151 321.0 151.0 255.922093961 41\n",
        "152 320.0 152.0 254.356586133 40\n",
        "153 319.0 153.0 254.417941771 39\n",
        "154 318.0 154.0 255.972986462 38\n",
        "155 317.0 155.0 257.17941568 37\n",
        "156 316.0 156.0 257.239317708 36\n",
        "157 315.0 157.0 256.870037497 35\n",
        "158 314.0 158.0 255.797892201 34\n",
        "159 313.0 159.0 254.485052454 33\n",
        "160 312.0 160.0 257.085169028 32\n",
        "161 311.0 161.0 258.687002184 31\n",
        "162 310.0 162.0 257.374336172 30\n",
        "163 309.0 163.0 255.698058711 29\n",
        "164 308.0 164.0 256.242486588 28\n",
        "165 307.0 165.0 253.978411244 27\n",
        "166 306.0 166.0 253.617371516 26\n",
        "167 305.0 167.0 250.577942556 25\n",
        "168 304.0 168.0 245.507730075 24\n",
        "169 303.0 169.0 243.526146188 23\n",
        "170 302.0 170.0 253.564401464 22\n",
        "171 301.0 171.0 250.429844084 21\n",
        "172 300.0 172.0 247.447662204 20\n",
        "173 299.0 173.0 242.993946799 19\n",
        "174 298.0 174.0 242.567436509 18\n",
        "175 297.0 175.0 254.079603612 17\n",
        "176 296.0 176.0 257.553587094 16\n",
        "177 295.0 177.0 258.088743482 15\n",
        "178 294.0 178.0 254.387771689 14\n",
        "179 293.0 179.0 254.562926746 13\n",
        "180 292.0 180.0 253.142613631 12\n",
        "181 291.0 181.0 250.33998565 11\n",
        "182 290.0 182.0 250.25998816 10\n",
        "183 289.0 183.0 250.933389579 9\n",
        "184 288.0 184.0 251.673481818 8\n",
        "185 287.0 185.0 250.52913153 7\n",
        "186 286.0 186.0 246.476590368 6\n",
        "187 285.0 187.0 244.796096229 5\n",
        "188 284.0 188.0 249.383547975 4\n",
        "189 283.0 189.0 248.148016082 3\n",
        "190 282.0 190.0 246.443926822 2\n",
        "191 281.0 191.0 242.190375561 1\n",
        "192 280.0 192.0 242.461337837 0\n",
        "best matching frames ( frame-00002.jpg , frame-00623.jpg )\n",
        "(array([320]),)\n",
        "best frames to stitch together ( frame-00003.jpg , ['frame-00623.jpg'] )\n",
        "gne 472.0\n",
        "rendering 1st straight\n",
        "0\n",
        "using best sequence, start at frame # 576.0\n",
        "0\n",
        "find best fitting, start at frame # 845.0\n",
        "lala 354.0 193 472.0\n",
        "1 353.0 119.0 307.249492077 191\n",
        "2 352.0 120.0 305.139594248 190\n",
        "3 351.0 121.0 304.823816219 189\n",
        "4 350.0 122.0 303.130120184 188\n",
        "5 349.0 123.0 303.61188646 187\n",
        "6 348.0 124.0 301.371179795 186\n",
        "7 347.0 125.0 299.561125228 185\n",
        "8 346.0 126.0 295.98630886 184\n",
        "9 345.0 127.0 293.793308578 183\n",
        "10 344.0 128.0 293.371650659 182\n",
        "11 343.0 129.0 293.652750521 181\n",
        "12 342.0 130.0 292.592967326 180\n",
        "13 341.0 131.0 291.383091007 179\n",
        "14 340.0 132.0 288.937161224 178\n",
        "15 339.0 133.0 287.172043002 177\n",
        "16 338.0 134.0 286.535283149 176\n",
        "17 337.0 135.0 282.567306002 175\n",
        "18 336.0 136.0 278.626744221 174\n",
        "19 335.0 137.0 277.154611333 173\n",
        "20 334.0 138.0 279.332099616 172\n",
        "21 333.0 139.0 279.700263064 171\n",
        "22 332.0 140.0 279.005683683 170\n",
        "23 331.0 141.0 268.040567386 169\n",
        "24 330.0 142.0 258.907395138 168\n",
        "25 329.0 143.0 262.592833331 167\n",
        "26 328.0 144.0 279.998017745 166\n",
        "27 327.0 145.0 278.942839466 165\n",
        "28 326.0 146.0 273.523138163 164\n",
        "29 325.0 147.0 258.518820453 163\n",
        "30 324.0 148.0 256.963052291 162\n",
        "31 323.0 149.0 263.420437276 161\n",
        "32 322.0 150.0 273.526083291 160\n",
        "33 321.0 151.0 275.887181693 159\n",
        "34 320.0 152.0 275.946312875 158\n",
        "35 319.0 153.0 277.365461303 157\n",
        "36 318.0 154.0 277.506198627 156\n",
        "37 317.0 155.0 277.77756698 155\n",
        "38 316.0 156.0 276.850855937 154\n",
        "39 315.0 157.0 276.310497027 153\n",
        "40 314.0 158.0 274.688422953 152\n",
        "41 313.0 159.0 275.554529632 151\n",
        "42 312.0 160.0 277.24517286 150\n",
        "43 311.0 161.0 274.493642899 149\n",
        "44 310.0 162.0 276.718240319 148\n",
        "45 309.0 163.0 276.806466088 147\n",
        "46 308.0 164.0 279.112175207 146\n",
        "47 307.0 165.0 281.19375421 145\n",
        "48 306.0 166.0 281.490903665 144\n",
        "49 305.0 167.0 276.848745631 143\n",
        "50 304.0 168.0 273.208381947 142\n",
        "51 303.0 169.0 276.378849478 141\n",
        "52 302.0 170.0 279.107211762 140\n",
        "53 301.0 171.0 280.300716631 139\n",
        "54 300.0 172.0 280.415638004 138\n",
        "55 299.0 173.0 275.299907728 137\n",
        "56 298.0 174.0 275.712836057 136\n",
        "57 297.0 175.0 277.54856814 135\n",
        "58 296.0 176.0 276.55038554 134\n",
        "59 295.0 177.0 278.20244519 133\n",
        "60 294.0 178.0 277.654381272 132\n",
        "61 293.0 179.0 276.166172248 131\n",
        "62 292.0 180.0 269.073823858 130\n",
        "63 291.0 181.0 270.078313338 129\n",
        "64 290.0 182.0 277.456911365 128\n",
        "65 289.0 183.0 280.726253462 127\n",
        "66 288.0 184.0 279.483853576 126\n",
        "67 287.0 185.0 280.084016225 125\n",
        "68 286.0 186.0 281.660086435 124\n",
        "69 285.0 187.0 280.560681114 123\n",
        "70 284.0 188.0 280.510811406 122\n",
        "71 283.0 189.0 279.858715279 121\n",
        "72 282.0 190.0 280.061187963 120\n",
        "73 281.0 191.0 282.698186313 119\n",
        "74 280.0 192.0 283.004562844 118\n",
        "75 279.0 193.0 282.759445669 117\n",
        "76 278.0 194.0 283.050112901 116\n",
        "77 277.0 195.0 282.113185308 115\n",
        "78 276.0 196.0 282.695588243 114\n",
        "79 275.0 197.0 282.081006158 113\n",
        "80 274.0 198.0 282.730116298 112\n",
        "81 273.0 199.0 281.342252246 111\n",
        "82 272.0 200.0 280.10928369 110\n",
        "83 271.0 201.0 279.273740536 109\n",
        "84 270.0 202.0 278.781204626 108\n",
        "85 269.0 203.0 278.005644866 107\n",
        "86 268.0 204.0 275.955825238 106\n",
        "87 267.0 205.0 272.973171136 105\n",
        "88 266.0 206.0 270.463648145 104\n",
        "89 265.0 207.0 271.646473296 103\n",
        "90 264.0 208.0 274.039635665 102\n",
        "91 263.0 209.0 276.839384729 101\n",
        "92 262.0 210.0 274.693873878 100\n",
        "93 261.0 211.0 273.012557849 99\n",
        "94 260.0 212.0 270.95617634 98\n",
        "95 259.0 213.0 267.045918897 97\n",
        "96 258.0 214.0 266.541384806 96\n",
        "97 257.0 215.0 265.611045176 95\n",
        "98 256.0 216.0 264.979575104 94\n",
        "99 255.0 217.0 266.887122459 93\n",
        "100 254.0 218.0 271.013860901 92\n",
        "101 253.0 219.0 270.645362015 91\n",
        "102 252.0 220.0 271.762602743 90\n",
        "103 251.0 221.0 260.65800778 89\n",
        "104 250.0 222.0 256.918300137 88\n",
        "105 249.0 223.0 256.315228085 87\n",
        "106 248.0 224.0 258.630822533 86\n",
        "107 247.0 225.0 264.859540043 85\n",
        "108 246.0 226.0 266.543706346 84\n",
        "109 245.0 227.0 263.556195243 83\n",
        "110 244.0 228.0 259.835758234 82\n",
        "111 243.0 229.0 258.35317531 81\n",
        "112 242.0 230.0 259.039202823 80\n",
        "113 241.0 231.0 261.783476044 79\n",
        "114 240.0 232.0 263.036611842 78\n",
        "115 239.0 233.0 263.646568813 77\n",
        "116 238.0 234.0 261.146107288 76\n",
        "117 237.0 235.0 260.639115438 75\n",
        "118 236.0 236.0 257.114889249 74\n",
        "119 235.0 237.0 253.357478155 73\n",
        "120 234.0 238.0 251.084336294 72\n",
        "121 233.0 239.0 251.721070939 71\n",
        "122 232.0 240.0 253.172493656 70\n",
        "123 231.0 241.0 255.614814887 69\n",
        "124 230.0 242.0 255.047338636 68\n",
        "125 229.0 243.0 253.598545036 67\n",
        "126 228.0 244.0 251.81465423 66\n",
        "127 227.0 245.0 247.227635721 65\n",
        "128 226.0 246.0 245.573910004 64\n",
        "129 225.0 247.0 248.411037911 63\n",
        "130 224.0 248.0 252.407865983 62\n",
        "131 223.0 249.0 253.464045233 61\n",
        "132 222.0 250.0 255.138685184 60\n",
        "133 221.0 251.0 252.905072643 59\n",
        "134 220.0 252.0 251.057447477 58\n",
        "135 219.0 253.0 249.388922752 57\n",
        "136 218.0 254.0 249.097633273 56\n",
        "137 217.0 255.0 248.40538185 55\n",
        "138 216.0 256.0 253.003666273 54\n",
        "139 215.0 257.0 255.212990665 53\n",
        "140 214.0 258.0 251.71945625 52\n",
        "141 213.0 259.0 249.733194562 51\n",
        "142 212.0 260.0 247.091075181 50\n",
        "143 211.0 261.0 247.635668873 49\n",
        "144 210.0 262.0 249.631978565 48\n",
        "145 209.0 263.0 249.092165281 47\n",
        "146 208.0 264.0 249.630877601 46\n",
        "147 207.0 265.0 253.365001534 45\n",
        "148 206.0 266.0 254.326953116 44\n",
        "149 205.0 267.0 254.839424985 43\n",
        "150 204.0 268.0 252.724759652 42\n",
        "151 203.0 269.0 250.319044957 41\n",
        "152 202.0 270.0 248.421549393 40\n",
        "153 201.0 271.0 248.052874846 39\n",
        "154 200.0 272.0 249.27676508 38\n",
        "155 199.0 273.0 252.023095415 37\n",
        "156 198.0 274.0 251.56589131 36\n",
        "157 197.0 275.0 250.6787199 35\n",
        "158 196.0 276.0 248.939852061 34\n",
        "159 195.0 277.0 248.239297074 33\n",
        "160 194.0 278.0 251.09503344 32\n",
        "161 193.0 279.0 248.478275629 31\n",
        "162 192.0 280.0 248.210375129 30\n",
        "163 191.0 281.0 251.522869 29\n",
        "164 190.0 282.0 250.583225066 28\n",
        "165 189.0 283.0 251.182922214 27\n",
        "166 188.0 284.0 248.411553153 26\n",
        "167 187.0 285.0 243.848529704 25\n",
        "168 186.0 286.0 238.135280242 24\n",
        "169 185.0 287.0 238.174312238 23\n",
        "170 184.0 288.0 248.170846211 22\n",
        "171 183.0 289.0 245.959003719 21\n",
        "172 182.0 290.0 244.525392093 20\n",
        "173 181.0 291.0 240.25115967 19\n",
        "174 180.0 292.0 242.567436509 18\n",
        "175 179.0 293.0 254.079603612 17\n",
        "176 178.0 294.0 257.553587094 16\n",
        "177 177.0 295.0 257.370446873 15\n",
        "178 176.0 296.0 254.387771689 14\n",
        "179 175.0 297.0 254.562926746 13\n",
        "180 174.0 298.0 253.142613631 12\n",
        "181 173.0 299.0 250.33998565 11\n",
        "182 172.0 300.0 250.25998816 10\n",
        "183 171.0 301.0 250.689065234 9\n",
        "184 170.0 302.0 249.921457769 8\n",
        "185 169.0 303.0 246.301199438 7\n",
        "186 168.0 304.0 243.859398428 6\n",
        "187 167.0 305.0 243.963176201 5\n",
        "188 166.0 306.0 247.337200292 4\n",
        "189 165.0 307.0 245.992982739 3\n",
        "190 164.0 308.0 245.649838957 2\n",
        "191 163.0 309.0 242.190375561 1\n",
        "192 162.0 310.0 242.461337837 0\n",
        "best matching frames ( frame-00025.jpg , frame-00585.jpg )\n",
        "(array([282]),)\n",
        "best frames to stitch together ( frame-00026.jpg , ['frame-00585.jpg'] )\n",
        "gne 1199.0\n",
        "0\n",
        "using best sequence, start at frame # 1303.0\n"
       ]
      }
     ],
     "prompt_number": 99
    },
    {
     "cell_type": "code",
     "collapsed": false,
     "input": [
      "for f in frames :\n",
      "    print f,\n",
      "# print straights[0]"
     ],
     "language": "python",
     "metadata": {},
     "outputs": [
      {
       "output_type": "stream",
       "stream": "stdout",
       "text": [
        "337.0 338.0 339.0 340.0 341.0 342.0 343.0 344.0 345.0 346.0 347.0 348.0 349.0 350.0 351.0 352.0 353.0 354.0 355.0 356.0 357.0 358.0 359.0 360.0 361.0 362.0 363.0 364.0 365.0 366.0 367.0 368.0 369.0 370.0 371.0 372.0 373.0 374.0 375.0 376.0 377.0 378.0 379.0 380.0 381.0 382.0 383.0 384.0 385.0 386.0 387.0 388.0 389.0 390.0 391.0 392.0 393.0 394.0 395.0 396.0 397.0 398.0 399.0 400.0 401.0 402.0 403.0 404.0 405.0 406.0 407.0 408.0 409.0 410.0 411.0 412.0 413.0 414.0 415.0 416.0 417.0 418.0 419.0 420.0 421.0 422.0 423.0 424.0 425.0 426.0 427.0 428.0 429.0 430.0 431.0 432.0 433.0 434.0 435.0 436.0 437.0 438.0 439.0 440.0 441.0 442.0 443.0 444.0 445.0 446.0 447.0 448.0 449.0 450.0 451.0 452.0 453.0 454.0 455.0 456.0 457.0 458.0 459.0 460.0 461.0 462.0 463.0 464.0 465.0 466.0 467.0 468.0 469.0 470.0 471.0 472.0 473.0 474.0 475.0 476.0 477.0 478.0 479.0 480.0 481.0 482.0 483.0 484.0 485.0 486.0 487.0 488.0 489.0 490.0 491.0 492.0 493.0 494.0 495.0 496.0 497.0 498.0 499.0 500.0 501.0 502.0 503.0 504.0 505.0 506.0 507.0 508.0 509.0 510.0 511.0 512.0 513.0 514.0 515.0 516.0 517.0 518.0 519.0 520.0 521.0 522.0 523.0 524.0 525.0 526.0 527.0 528.0 529.0 530.0 531.0 532.0 533.0 534.0 535.0 536.0 537.0 538.0 539.0 540.0 541.0 542.0 543.0 544.0 545.0 546.0 547.0 548.0 549.0 550.0 551.0 552.0 553.0 554.0 555.0 556.0 557.0 558.0 559.0 560.0 561.0 562.0 563.0 564.0 565.0 566.0 567.0 568.0 569.0 570.0 571.0 572.0 573.0 574.0 575.0 576.0 577.0 578.0 579.0 580.0 581.0 582.0 583.0 584.0 585.0 586.0 587.0 588.0 589.0 590.0 591.0 592.0 593.0 594.0 595.0 596.0 597.0 598.0 599.0 600.0 601.0 602.0 603.0 604.0 605.0 606.0 607.0 608.0 609.0 610.0 611.0 612.0 613.0 614.0 615.0 616.0 1.0 2.0 3.0 4.0 5.0 6.0 7.0 8.0 9.0 10.0 11.0 12.0 13.0 14.0 15.0 16.0 17.0 18.0 19.0 20.0 21.0 22.0 23.0 24.0 25.0 26.0 27.0 28.0 29.0 30.0 31.0 32.0 33.0 34.0 35.0 36.0 37.0 38.0 39.0 40.0 41.0 42.0 43.0 44.0 45.0 46.0 47.0 48.0 49.0 50.0 51.0 52.0 53.0 54.0 55.0 56.0 57.0 58.0 59.0 60.0 61.0 62.0 63.0 64.0 65.0 66.0 67.0 68.0 69.0 70.0 71.0 72.0 73.0 74.0 75.0 76.0 77.0 78.0 79.0 80.0 81.0 82.0 83.0 84.0 85.0 86.0 87.0 88.0 89.0 90.0 91.0 92.0 93.0 94.0 95.0 96.0 97.0 98.0 99.0 100.0 101.0 102.0 103.0 104.0 105.0 106.0 107.0 108.0 109.0 110.0 111.0 112.0 113.0 114.0 115.0 116.0 117.0 118.0 119.0 120.0 121.0 122.0 123.0 124.0 125.0 126.0 127.0 128.0 129.0 130.0 131.0 132.0 133.0 134.0 135.0 136.0 137.0 138.0 139.0 140.0 141.0 142.0 143.0 144.0 145.0 146.0 147.0 148.0 149.0 150.0 151.0 152.0 153.0 154.0 155.0 156.0 157.0 158.0 159.0 160.0 161.0 162.0 163.0 164.0 165.0 166.0 167.0 168.0 169.0 170.0 171.0 172.0 173.0 174.0 175.0 176.0 177.0 178.0 179.0 180.0 181.0 182.0 183.0 184.0 185.0 186.0 187.0 188.0 189.0 190.0 191.0 192.0 193.0 194.0 195.0 196.0 197.0 198.0 199.0 200.0 201.0 202.0 203.0 204.0 205.0 206.0 207.0 208.0 209.0 210.0 211.0 212.0 213.0 214.0 215.0 216.0 217.0 218.0 219.0 220.0 221.0 222.0 223.0 224.0 225.0 226.0 227.0 228.0 229.0 230.0 231.0 232.0 233.0 234.0 235.0 236.0 237.0 238.0 239.0 240.0 241.0 242.0 243.0 244.0 245.0 246.0 247.0 248.0 249.0 250.0 251.0 252.0 253.0 254.0 255.0 256.0 257.0 258.0 259.0 260.0 261.0 262.0 263.0 264.0 265.0 266.0 267.0 268.0 269.0 270.0 271.0 272.0 273.0 274.0 275.0 276.0 277.0 278.0 279.0 280.0 281.0 282.0 283.0 284.0 285.0 286.0 287.0 288.0 289.0 290.0 291.0 292.0 293.0 294.0 295.0 296.0 28.0 29.0 30.0 31.0 32.0 33.0 34.0 35.0 36.0 37.0 38.0 39.0 40.0 41.0 42.0 43.0 44.0 45.0 46.0 47.0 48.0 49.0 50.0 51.0 52.0 53.0 54.0 55.0 56.0 57.0 58.0 59.0 60.0 61.0 62.0 63.0 64.0 65.0 66.0 67.0 68.0 69.0 70.0 71.0 72.0 73.0 74.0 75.0 76.0 77.0 78.0 79.0 80.0 81.0 82.0 83.0 84.0 85.0 86.0 87.0 88.0 89.0 90.0 91.0 92.0 93.0 94.0 95.0 96.0 97.0 98.0 99.0 100.0 101.0 102.0 103.0 104.0 105.0 106.0 107.0 108.0 109.0 110.0 111.0 112.0 113.0 114.0 115.0 116.0 117.0 118.0 119.0 120.0 121.0 122.0 123.0 124.0 125.0 126.0 127.0 128.0 129.0 130.0 131.0 132.0 133.0 134.0 135.0 136.0 137.0 138.0 139.0 140.0 141.0 142.0 143.0 144.0 145.0 146.0 147.0 148.0 149.0 150.0 151.0 152.0 153.0 154.0 155.0 156.0 157.0 158.0 159.0 160.0 161.0 162.0 163.0 164.0 165.0 166.0 167.0 168.0 169.0 170.0 171.0 172.0 173.0 174.0 175.0 176.0 177.0 178.0 179.0 180.0 181.0 182.0 183.0 184.0 185.0 186.0 187.0 188.0 189.0 190.0 191.0 192.0 193.0 194.0 195.0 196.0 197.0 198.0 199.0 200.0 201.0 202.0 203.0 204.0 205.0 206.0 207.0 208.0 209.0 210.0 211.0 212.0 213.0 214.0 215.0 216.0 217.0 218.0 219.0 220.0 221.0 222.0 223.0 224.0 225.0 226.0 227.0 228.0 229.0 230.0 231.0 232.0 233.0 234.0 235.0 236.0 237.0 238.0 239.0 240.0 241.0 242.0 243.0 244.0 245.0 246.0 247.0 248.0 249.0 250.0 251.0 252.0 253.0 254.0 255.0 256.0 257.0 258.0 259.0 260.0 261.0 262.0 263.0 264.0 265.0 266.0 267.0 268.0 269.0 270.0 271.0 272.0 273.0 274.0 275.0 276.0 277.0 278.0 279.0 280.0 281.0 282.0 283.0 284.0 285.0 286.0 287.0 288.0 289.0 290.0 291.0 292.0 293.0 294.0 295.0 296.0 337.0 338.0 339.0 340.0 341.0 342.0 343.0 344.0 345.0 346.0 347.0 348.0 349.0 350.0 351.0 352.0 353.0 354.0 355.0 356.0 357.0 358.0 359.0 360.0 361.0 362.0 363.0 364.0 365.0 366.0 367.0 368.0 369.0 370.0 371.0 372.0 373.0 374.0 375.0 376.0 377.0 378.0 379.0 380.0 381.0 382.0 383.0 384.0 385.0 386.0 387.0 388.0 389.0 390.0 391.0 392.0 393.0 394.0 395.0 396.0 397.0 398.0 399.0 400.0 401.0 402.0 403.0 404.0 405.0 406.0 407.0 408.0 409.0 410.0 411.0 412.0 413.0 414.0 415.0 416.0 417.0 418.0 419.0 420.0 421.0 422.0 423.0 424.0 425.0 426.0 427.0 428.0 429.0 430.0 431.0 432.0 433.0 434.0 435.0 436.0 437.0 438.0 439.0 440.0 441.0 442.0 443.0 444.0 445.0 446.0 447.0 448.0 449.0 450.0 451.0 452.0 453.0 454.0 455.0 456.0 457.0 458.0 459.0 460.0 461.0 462.0 463.0 464.0 465.0 466.0 467.0 468.0 469.0 470.0 471.0 472.0 473.0 474.0 475.0 476.0 477.0 478.0 479.0 480.0 481.0 482.0 483.0 484.0 485.0 486.0 487.0 488.0 489.0 490.0 491.0 492.0 493.0 494.0 495.0 496.0 497.0 498.0 499.0 500.0 501.0 502.0 503.0 504.0 505.0 506.0 507.0 508.0 509.0 510.0 511.0 512.0 513.0 514.0 515.0 516.0 517.0 518.0 519.0 520.0 521.0 522.0 523.0 524.0 525.0 526.0 527.0 528.0 529.0 530.0 531.0 532.0 533.0 534.0 535.0 536.0 537.0 538.0 539.0 540.0 541.0 542.0 543.0 544.0 545.0 546.0 547.0 548.0 549.0 550.0 551.0 552.0 553.0 554.0 555.0 556.0 557.0 558.0 559.0 560.0 561.0 562.0 563.0 564.0 565.0 566.0 567.0 568.0 569.0 570.0 571.0 572.0 573.0 574.0 575.0 576.0 577.0 578.0 579.0 580.0 581.0 582.0 583.0 584.0 585.0 586.0 587.0 588.0 589.0 590.0 591.0 592.0 593.0 594.0 595.0 596.0 597.0 598.0 599.0 600.0 601.0 602.0 603.0 604.0 605.0 606.0 607.0 608.0 609.0 610.0 611.0 612.0 613.0 614.0 615.0 616.0 1.0 2.0 3.0 4.0 5.0 6.0 7.0 8.0 9.0 10.0 11.0 12.0 13.0 14.0 15.0 16.0 17.0 18.0 19.0 20.0 21.0 22.0 23.0 24.0 25.0 26.0 27.0 28.0 29.0 30.0 31.0 32.0 33.0 34.0 35.0 36.0 37.0 38.0 39.0 40.0 41.0 42.0 43.0 44.0 45.0 46.0 47.0 48.0 49.0 50.0 51.0 52.0 53.0 54.0 55.0 56.0 57.0 58.0 59.0 60.0 61.0 62.0 63.0 64.0 65.0 66.0 67.0 68.0 69.0 70.0 71.0 72.0 73.0 74.0 75.0 76.0 77.0 78.0 79.0 80.0 81.0 82.0 83.0 84.0 85.0 86.0 87.0 88.0 89.0 90.0 91.0 92.0 93.0 94.0 95.0 96.0 97.0 98.0 99.0 100.0 101.0 102.0 103.0 104.0 105.0 106.0 107.0 108.0 109.0 110.0 111.0 112.0 113.0 114.0 115.0 116.0 117.0 118.0 119.0 120.0 121.0 122.0 123.0 124.0 125.0 126.0 127.0 128.0 129.0 130.0 131.0 132.0 133.0 134.0 135.0 136.0 137.0 138.0 139.0 140.0 141.0 142.0 143.0 144.0 145.0 146.0 147.0 148.0 149.0 150.0 151.0 152.0 153.0 154.0 155.0 156.0 157.0 158.0 159.0 160.0 161.0 162.0 163.0 164.0 165.0 166.0 167.0 168.0 169.0 170.0 171.0 172.0 173.0 174.0 175.0 176.0 177.0 178.0 179.0 180.0 181.0 182.0 183.0 184.0 185.0 186.0 187.0 188.0 189.0 190.0 191.0 192.0 193.0 194.0 195.0 196.0 197.0 198.0 199.0 200.0 201.0 202.0 203.0 204.0 205.0 206.0 207.0 208.0 209.0 210.0 211.0 212.0 213.0 214.0 215.0 216.0 217.0 218.0 219.0 220.0 221.0 222.0 223.0 224.0 225.0 226.0 227.0 228.0 229.0 230.0 231.0 232.0 233.0 234.0 235.0 236.0 237.0 238.0 239.0 240.0 241.0 242.0 243.0 244.0 245.0 246.0 247.0 248.0 249.0 250.0 251.0 252.0 253.0 254.0 255.0 256.0 257.0 258.0 259.0 260.0 261.0 262.0 263.0 264.0 265.0 266.0 267.0 268.0 269.0 270.0 271.0 272.0 273.0 274.0 275.0 276.0 277.0 278.0 279.0 280.0 281.0 282.0 283.0 284.0 285.0 286.0 287.0 288.0 289.0 290.0 291.0 292.0 293.0 294.0 295.0 296.0 75.0 76.0 77.0 78.0 79.0 80.0 81.0 82.0 83.0 84.0 85.0 86.0 87.0 88.0 89.0 90.0 91.0 92.0 93.0 94.0 95.0 96.0 97.0 98.0 99.0 100.0 101.0 102.0 103.0 104.0 105.0 106.0 107.0 108.0 109.0 110.0 111.0 112.0 113.0 114.0 115.0 116.0 117.0 118.0 119.0 120.0 121.0 122.0 123.0 124.0 125.0 126.0 127.0 128.0 129.0 130.0 131.0 132.0 133.0 134.0 135.0 136.0 137.0 138.0 139.0 140.0 141.0 142.0 143.0 144.0 145.0 146.0 147.0 148.0 149.0 150.0 151.0 152.0 153.0 154.0 155.0 156.0 157.0 158.0 159.0 160.0 161.0 162.0 163.0 164.0 165.0 166.0 167.0 168.0 169.0 170.0 171.0 172.0 173.0 174.0 175.0 176.0 177.0 178.0 179.0 180.0 181.0 182.0 183.0 184.0 185.0 186.0 187.0 188.0 189.0 190.0 191.0 192.0\n"
       ]
      }
     ],
     "prompt_number": 89
    },
    {
     "cell_type": "code",
     "collapsed": false,
     "input": [
      "## choose straights based on input maze\n",
      "\n",
      "## HACK : initialize some mock input 2d maze map (eventually it would come from drawn input or whatevs)\n",
      "\n",
      "mazeMap = np.array([[0.0, 0.0], [0.0, 20.0], [7.0, 20.0], [7.0, 0.0], [0.0, 0.0]])\n",
      "\n",
      "## how do I define segment length?\n",
      "# try taking length of longest straight sequence and fit to longest segment in mazeMap\n",
      "sequencesLengths = np.zeros(len(straights))\n",
      "for i in xrange(0, len(straights)) :\n",
      "    sequencesLengths[i] = len(straights[i])\n",
      "maxSequenceLen = np.max(sequencesLengths);\n",
      "print \"max sequence length in given video:\", maxSequenceLen, sequencesLengths\n",
      "\n",
      "mapJoints = np.zeros([len(mazeMap)-1, 2]) # [i, 0] = prevSegLength; [i, 1] = nextSegLength\n",
      "maxSegmentLen = 0\n",
      "for i in xrange(1, len(mazeMap)) :\n",
      "    current = np.linalg.norm(mazeMap[i]-mazeMap[i-1])\n",
      "    if current > maxSegmentLen :\n",
      "        maxSegmentLen = current\n",
      "    \n",
      "    ## save lengths of segments   \n",
      "    if i == 1 :\n",
      "        # length of first segment is the prev for first joint and next for last joint\n",
      "        mapJoints[i-1, 0] = current\n",
      "        mapJoints[-1, 1] = current\n",
      "    else :\n",
      "        mapJoints[i-2, 1] = current\n",
      "        mapJoints[i-1, 0] = current\n",
      "    \n",
      "print \"max segment length in given map:\", maxSegmentLen\n",
      "\n",
      "## now cycle through all map joints and pick frames to show for each segment\n",
      "for i in xrange(0, 1) : ## len(mapJoints)) :\n",
      "    prevSegmentLen = mapJoints[i, 0] # np.linalg.norm(mazeMap[i]-mazeMap[i-1])\n",
      "    nextSegmentLen = mapJoints[i, 1]\n",
      "    lenRatio = prevSegmentLen/nextSegmentLen\n",
      "    print \"lenRatio\", lenRatio\n",
      "    # frames needed per map segment = segmentLength*maxLengthSeq/maxSegmentLen\n",
      "    numFramesPrev = np.int(np.around(prevSegmentLen*maxSequenceLen/maxSegmentLen))\n",
      "    numFramesNext = np.int(np.around(nextSegmentLen*maxSequenceLen/maxSegmentLen))\n",
      "    print \"frames needed for previous and next segment:\", numFramesPrev, numFramesNext\n",
      "    ## choose sequence to use for each segment based on whether it has enough frames and fits better\n",
      "    frameDiff = sequencesLengths-numFramesPrev\n",
      "    minDiff = np.min(frameDiff[np.where(frameDiff>=0)])\n",
      "    seqForPrev = np.ndarray.flatten(np.int32(np.where(frameDiff == minDiff)))[0]\n",
      "    \n",
      "    frameDiff = sequencesLengths-numFramesNext\n",
      "    minDiff = np.min(frameDiff[np.where(frameDiff>=0)])\n",
      "    seqForNext = np.ndarray.flatten(np.int32(np.where(frameDiff == minDiff)))[0]\n",
      "    \n",
      "    print \"Use straight sequence #\", seqForPrev, \"for previous segment and sequence #\", seqForNext, \"for next segment\"\n",
      "    \n",
      "    ## deal with previous segment first\n",
      "    \n",
      "    # find which straight sequence connects best with turn \n",
      "    minDist = np.max(distanceMatrix)\n",
      "    startSequence = -1;\n",
      "    for s in xrange(0, len(straights)) :\n",
      "        ## need to check all turns when I'll have more\n",
      "        dist = distanceMatrix[straights[s][-1], turns[0][0]]\n",
      "        if dist <= minDist :\n",
      "            minDist = dist\n",
      "            startSequence = s\n",
      "        \n",
      "    \n",
      "    print \"start sequence=\", startSequence\n",
      "    ## start from best matching sequence then\n",
      "    # if startSequence if different from what the sequence for this segment decided above should be\n",
      "    # we need to find best place to stitch them together\n",
      "    if startSequence != seqForPrev :\n",
      "        bestFrame = -1\n",
      "        minDist = np.max(distanceMatrix)\n",
      "        for f1 in xrange(len(straights[startSequence])-1, -1, -1) :\n",
      "            frameRange = numFramesPrev - len(straights[startSequence]) - f1 ## #frames that potentially are taken from startSequence\n",
      "#             print numFramesPrev - frameRange, frameRange\n",
      "#             print straights[seqForPrev][numFramesPrev - frameRange-1:-1]\n",
      "            ## this should make sure that there are enough frames; maybe add frames from turn to the equation\n",
      "            dist = np.min(distanceMatrix[f1, straights[seqForPrev][frameRange-1:-1]]) ## not sure about :-1\n",
      "            if dist <= minDist :\n",
      "                minDist = dist\n",
      "                bestFrame = f1\n",
      "        print \"best frame to stitch to =\", bestFrame, minDist, cameraNames[bestFrame]\n",
      "        stitchTo = np.where(distanceMatrix[bestFrame, :] == minDist)\n",
      "        print \"stitch to =\", stitchTo, cameraNames[stitchTo]\n",
      "                \n",
      "    else :\n",
      "        print \"using best sequence already\""
     ],
     "language": "python",
     "metadata": {},
     "outputs": [
      {
       "output_type": "stream",
       "stream": "stdout",
       "text": [
        "max sequence length in given video: 472.0 [ 193.  472.]\n",
        "max segment length in given map: 20.0\n",
        "lenRatio 2.85714285714\n",
        "frames needed for previous and next segment: 472 165\n",
        "Use straight sequence # 1 for previous segment and sequence # 0 for next segment\n",
        "start sequence= 0\n",
        "best frame to stitch to = 24 238.135280242 frame-00025.jpg\n",
        "stitch to = (array([579]),) ['frame-00585.jpg']\n"
       ]
      }
     ],
     "prompt_number": 98
    },
    {
     "cell_type": "code",
     "collapsed": false,
     "input": [
      "## load downsampled frames for visualizing\n",
      "def downsample(a, shape):\n",
      "    sh = shape[0],a.shape[0]//shape[0],shape[1],a.shape[1]//shape[1]\n",
      "    return a.reshape(sh).mean(-1).mean(1)\n",
      "\n",
      "frameSize = np.array(cv2.imread(dataLoc+cameraNames[0]).shape[0:2])/2\n",
      "movie = np.zeros(np.hstack([frameSize[0], frameSize[1], len(cameraNames)]))\n",
      "im = np.array(cv2.imread(dataLoc+cameraNames[0]))/255.0\n",
      "im = np.dot(im[:,:,:3], [0.0722, 0.7152, 0.2126])\n",
      "\n",
      "for i in range(0, len(cameraNames)) :\n",
      "    im = np.array(cv2.imread(dataLoc+cameraNames[i]))/255.0\n",
      "    im = np.dot(im[:,:,:3], [0.0722, 0.7152, 0.2126]) # matlab RGB2GRAY multiplies [0.299, 0.587, 0.144] but cv2 is BGR\n",
      "    movie[:, :, i] = downsample(im, frameSize)\n",
      "    sys.stdout.write('\\r' + \"Loading frame \" + np.string_(i) + \" of \" + np.string_(len(cameraNames)))\n",
      "    sys.stdout.flush()"
     ],
     "language": "python",
     "metadata": {},
     "outputs": [
      {
       "output_type": "stream",
       "stream": "stdout",
       "text": [
        "\r",
        "Loading frame 0 of 769"
       ]
      },
      {
       "output_type": "stream",
       "stream": "stdout",
       "text": [
        "\r",
        "Loading frame 1 of 769"
       ]
      },
      {
       "output_type": "stream",
       "stream": "stdout",
       "text": [
        "\r",
        "Loading frame 2 of 769"
       ]
      },
      {
       "output_type": "stream",
       "stream": "stdout",
       "text": [
        "\r",
        "Loading frame 3 of 769"
       ]
      },
      {
       "output_type": "stream",
       "stream": "stdout",
       "text": [
        "\r",
        "Loading frame 4 of 769"
       ]
      },
      {
       "output_type": "stream",
       "stream": "stdout",
       "text": [
        "\r",
        "Loading frame 5 of 769"
       ]
      },
      {
       "output_type": "stream",
       "stream": "stdout",
       "text": [
        "\r",
        "Loading frame 6 of 769"
       ]
      },
      {
       "output_type": "stream",
       "stream": "stdout",
       "text": [
        "\r",
        "Loading frame 7 of 769"
       ]
      },
      {
       "output_type": "stream",
       "stream": "stdout",
       "text": [
        "\r",
        "Loading frame 8 of 769"
       ]
      },
      {
       "output_type": "stream",
       "stream": "stdout",
       "text": [
        "\r",
        "Loading frame 9 of 769"
       ]
      },
      {
       "output_type": "stream",
       "stream": "stdout",
       "text": [
        "\r",
        "Loading frame 10 of 769"
       ]
      },
      {
       "output_type": "stream",
       "stream": "stdout",
       "text": [
        "\r",
        "Loading frame 11 of 769"
       ]
      },
      {
       "output_type": "stream",
       "stream": "stdout",
       "text": [
        "\r",
        "Loading frame 12 of 769"
       ]
      },
      {
       "output_type": "stream",
       "stream": "stdout",
       "text": [
        "\r",
        "Loading frame 13 of 769"
       ]
      },
      {
       "output_type": "stream",
       "stream": "stdout",
       "text": [
        "\r",
        "Loading frame 14 of 769"
       ]
      },
      {
       "output_type": "stream",
       "stream": "stdout",
       "text": [
        "\r",
        "Loading frame 15 of 769"
       ]
      },
      {
       "output_type": "stream",
       "stream": "stdout",
       "text": [
        "\r",
        "Loading frame 16 of 769"
       ]
      },
      {
       "output_type": "stream",
       "stream": "stdout",
       "text": [
        "\r",
        "Loading frame 17 of 769"
       ]
      },
      {
       "output_type": "stream",
       "stream": "stdout",
       "text": [
        "\r",
        "Loading frame 18 of 769"
       ]
      },
      {
       "output_type": "stream",
       "stream": "stdout",
       "text": [
        "\r",
        "Loading frame 19 of 769"
       ]
      },
      {
       "output_type": "stream",
       "stream": "stdout",
       "text": [
        "\r",
        "Loading frame 20 of 769"
       ]
      },
      {
       "output_type": "stream",
       "stream": "stdout",
       "text": [
        "\r",
        "Loading frame 21 of 769"
       ]
      },
      {
       "output_type": "stream",
       "stream": "stdout",
       "text": [
        "\r",
        "Loading frame 22 of 769"
       ]
      },
      {
       "output_type": "stream",
       "stream": "stdout",
       "text": [
        "\r",
        "Loading frame 23 of 769"
       ]
      },
      {
       "output_type": "stream",
       "stream": "stdout",
       "text": [
        "\r",
        "Loading frame 24 of 769"
       ]
      },
      {
       "output_type": "stream",
       "stream": "stdout",
       "text": [
        "\r",
        "Loading frame 25 of 769"
       ]
      },
      {
       "output_type": "stream",
       "stream": "stdout",
       "text": [
        "\r",
        "Loading frame 26 of 769"
       ]
      },
      {
       "output_type": "stream",
       "stream": "stdout",
       "text": [
        "\r",
        "Loading frame 27 of 769"
       ]
      },
      {
       "output_type": "stream",
       "stream": "stdout",
       "text": [
        "\r",
        "Loading frame 28 of 769"
       ]
      },
      {
       "output_type": "stream",
       "stream": "stdout",
       "text": [
        "\r",
        "Loading frame 29 of 769"
       ]
      },
      {
       "output_type": "stream",
       "stream": "stdout",
       "text": [
        "\r",
        "Loading frame 30 of 769"
       ]
      },
      {
       "output_type": "stream",
       "stream": "stdout",
       "text": [
        "\r",
        "Loading frame 31 of 769"
       ]
      },
      {
       "output_type": "stream",
       "stream": "stdout",
       "text": [
        "\r",
        "Loading frame 32 of 769"
       ]
      },
      {
       "output_type": "stream",
       "stream": "stdout",
       "text": [
        "\r",
        "Loading frame 33 of 769"
       ]
      },
      {
       "output_type": "stream",
       "stream": "stdout",
       "text": [
        "\r",
        "Loading frame 34 of 769"
       ]
      },
      {
       "output_type": "stream",
       "stream": "stdout",
       "text": [
        "\r",
        "Loading frame 35 of 769"
       ]
      },
      {
       "output_type": "stream",
       "stream": "stdout",
       "text": [
        "\r",
        "Loading frame 36 of 769"
       ]
      },
      {
       "output_type": "stream",
       "stream": "stdout",
       "text": [
        "\r",
        "Loading frame 37 of 769"
       ]
      },
      {
       "output_type": "stream",
       "stream": "stdout",
       "text": [
        "\r",
        "Loading frame 38 of 769"
       ]
      },
      {
       "output_type": "stream",
       "stream": "stdout",
       "text": [
        "\r",
        "Loading frame 39 of 769"
       ]
      },
      {
       "output_type": "stream",
       "stream": "stdout",
       "text": [
        "\r",
        "Loading frame 40 of 769"
       ]
      },
      {
       "output_type": "stream",
       "stream": "stdout",
       "text": [
        "\r",
        "Loading frame 41 of 769"
       ]
      },
      {
       "output_type": "stream",
       "stream": "stdout",
       "text": [
        "\r",
        "Loading frame 42 of 769"
       ]
      },
      {
       "output_type": "stream",
       "stream": "stdout",
       "text": [
        "\r",
        "Loading frame 43 of 769"
       ]
      },
      {
       "output_type": "stream",
       "stream": "stdout",
       "text": [
        "\r",
        "Loading frame 44 of 769"
       ]
      },
      {
       "output_type": "stream",
       "stream": "stdout",
       "text": [
        "\r",
        "Loading frame 45 of 769"
       ]
      },
      {
       "output_type": "stream",
       "stream": "stdout",
       "text": [
        "\r",
        "Loading frame 46 of 769"
       ]
      },
      {
       "output_type": "stream",
       "stream": "stdout",
       "text": [
        "\r",
        "Loading frame 47 of 769"
       ]
      },
      {
       "output_type": "stream",
       "stream": "stdout",
       "text": [
        "\r",
        "Loading frame 48 of 769"
       ]
      },
      {
       "output_type": "stream",
       "stream": "stdout",
       "text": [
        "\r",
        "Loading frame 49 of 769"
       ]
      },
      {
       "output_type": "stream",
       "stream": "stdout",
       "text": [
        "\r",
        "Loading frame 50 of 769"
       ]
      },
      {
       "output_type": "stream",
       "stream": "stdout",
       "text": [
        "\r",
        "Loading frame 51 of 769"
       ]
      },
      {
       "output_type": "stream",
       "stream": "stdout",
       "text": [
        "\r",
        "Loading frame 52 of 769"
       ]
      },
      {
       "output_type": "stream",
       "stream": "stdout",
       "text": [
        "\r",
        "Loading frame 53 of 769"
       ]
      },
      {
       "output_type": "stream",
       "stream": "stdout",
       "text": [
        "\r",
        "Loading frame 54 of 769"
       ]
      },
      {
       "output_type": "stream",
       "stream": "stdout",
       "text": [
        "\r",
        "Loading frame 55 of 769"
       ]
      },
      {
       "output_type": "stream",
       "stream": "stdout",
       "text": [
        "\r",
        "Loading frame 56 of 769"
       ]
      },
      {
       "output_type": "stream",
       "stream": "stdout",
       "text": [
        "\r",
        "Loading frame 57 of 769"
       ]
      },
      {
       "output_type": "stream",
       "stream": "stdout",
       "text": [
        "\r",
        "Loading frame 58 of 769"
       ]
      },
      {
       "output_type": "stream",
       "stream": "stdout",
       "text": [
        "\r",
        "Loading frame 59 of 769"
       ]
      },
      {
       "output_type": "stream",
       "stream": "stdout",
       "text": [
        "\r",
        "Loading frame 60 of 769"
       ]
      },
      {
       "output_type": "stream",
       "stream": "stdout",
       "text": [
        "\r",
        "Loading frame 61 of 769"
       ]
      },
      {
       "output_type": "stream",
       "stream": "stdout",
       "text": [
        "\r",
        "Loading frame 62 of 769"
       ]
      },
      {
       "output_type": "stream",
       "stream": "stdout",
       "text": [
        "\r",
        "Loading frame 63 of 769"
       ]
      },
      {
       "output_type": "stream",
       "stream": "stdout",
       "text": [
        "\r",
        "Loading frame 64 of 769"
       ]
      },
      {
       "output_type": "stream",
       "stream": "stdout",
       "text": [
        "\r",
        "Loading frame 65 of 769"
       ]
      },
      {
       "output_type": "stream",
       "stream": "stdout",
       "text": [
        "\r",
        "Loading frame 66 of 769"
       ]
      },
      {
       "output_type": "stream",
       "stream": "stdout",
       "text": [
        "\r",
        "Loading frame 67 of 769"
       ]
      },
      {
       "output_type": "stream",
       "stream": "stdout",
       "text": [
        "\r",
        "Loading frame 68 of 769"
       ]
      },
      {
       "output_type": "stream",
       "stream": "stdout",
       "text": [
        "\r",
        "Loading frame 69 of 769"
       ]
      },
      {
       "output_type": "stream",
       "stream": "stdout",
       "text": [
        "\r",
        "Loading frame 70 of 769"
       ]
      },
      {
       "output_type": "stream",
       "stream": "stdout",
       "text": [
        "\r",
        "Loading frame 71 of 769"
       ]
      },
      {
       "output_type": "stream",
       "stream": "stdout",
       "text": [
        "\r",
        "Loading frame 72 of 769"
       ]
      },
      {
       "output_type": "stream",
       "stream": "stdout",
       "text": [
        "\r",
        "Loading frame 73 of 769"
       ]
      },
      {
       "output_type": "stream",
       "stream": "stdout",
       "text": [
        "\r",
        "Loading frame 74 of 769"
       ]
      },
      {
       "output_type": "stream",
       "stream": "stdout",
       "text": [
        "\r",
        "Loading frame 75 of 769"
       ]
      },
      {
       "output_type": "stream",
       "stream": "stdout",
       "text": [
        "\r",
        "Loading frame 76 of 769"
       ]
      },
      {
       "output_type": "stream",
       "stream": "stdout",
       "text": [
        "\r",
        "Loading frame 77 of 769"
       ]
      },
      {
       "output_type": "stream",
       "stream": "stdout",
       "text": [
        "\r",
        "Loading frame 78 of 769"
       ]
      },
      {
       "output_type": "stream",
       "stream": "stdout",
       "text": [
        "\r",
        "Loading frame 79 of 769"
       ]
      },
      {
       "output_type": "stream",
       "stream": "stdout",
       "text": [
        "\r",
        "Loading frame 80 of 769"
       ]
      },
      {
       "output_type": "stream",
       "stream": "stdout",
       "text": [
        "\r",
        "Loading frame 81 of 769"
       ]
      },
      {
       "output_type": "stream",
       "stream": "stdout",
       "text": [
        "\r",
        "Loading frame 82 of 769"
       ]
      },
      {
       "output_type": "stream",
       "stream": "stdout",
       "text": [
        "\r",
        "Loading frame 83 of 769"
       ]
      },
      {
       "output_type": "stream",
       "stream": "stdout",
       "text": [
        "\r",
        "Loading frame 84 of 769"
       ]
      },
      {
       "output_type": "stream",
       "stream": "stdout",
       "text": [
        "\r",
        "Loading frame 85 of 769"
       ]
      },
      {
       "output_type": "stream",
       "stream": "stdout",
       "text": [
        "\r",
        "Loading frame 86 of 769"
       ]
      },
      {
       "output_type": "stream",
       "stream": "stdout",
       "text": [
        "\r",
        "Loading frame 87 of 769"
       ]
      },
      {
       "output_type": "stream",
       "stream": "stdout",
       "text": [
        "\r",
        "Loading frame 88 of 769"
       ]
      },
      {
       "output_type": "stream",
       "stream": "stdout",
       "text": [
        "\r",
        "Loading frame 89 of 769"
       ]
      },
      {
       "output_type": "stream",
       "stream": "stdout",
       "text": [
        "\r",
        "Loading frame 90 of 769"
       ]
      },
      {
       "output_type": "stream",
       "stream": "stdout",
       "text": [
        "\r",
        "Loading frame 91 of 769"
       ]
      },
      {
       "output_type": "stream",
       "stream": "stdout",
       "text": [
        "\r",
        "Loading frame 92 of 769"
       ]
      },
      {
       "output_type": "stream",
       "stream": "stdout",
       "text": [
        "\r",
        "Loading frame 93 of 769"
       ]
      },
      {
       "output_type": "stream",
       "stream": "stdout",
       "text": [
        "\r",
        "Loading frame 94 of 769"
       ]
      },
      {
       "output_type": "stream",
       "stream": "stdout",
       "text": [
        "\r",
        "Loading frame 95 of 769"
       ]
      },
      {
       "output_type": "stream",
       "stream": "stdout",
       "text": [
        "\r",
        "Loading frame 96 of 769"
       ]
      },
      {
       "output_type": "stream",
       "stream": "stdout",
       "text": [
        "\r",
        "Loading frame 97 of 769"
       ]
      },
      {
       "output_type": "stream",
       "stream": "stdout",
       "text": [
        "\r",
        "Loading frame 98 of 769"
       ]
      },
      {
       "output_type": "stream",
       "stream": "stdout",
       "text": [
        "\r",
        "Loading frame 99 of 769"
       ]
      },
      {
       "output_type": "stream",
       "stream": "stdout",
       "text": [
        "\r",
        "Loading frame 100 of 769"
       ]
      },
      {
       "output_type": "stream",
       "stream": "stdout",
       "text": [
        "\r",
        "Loading frame 101 of 769"
       ]
      },
      {
       "output_type": "stream",
       "stream": "stdout",
       "text": [
        "\r",
        "Loading frame 102 of 769"
       ]
      },
      {
       "output_type": "stream",
       "stream": "stdout",
       "text": [
        "\r",
        "Loading frame 103 of 769"
       ]
      },
      {
       "output_type": "stream",
       "stream": "stdout",
       "text": [
        "\r",
        "Loading frame 104 of 769"
       ]
      },
      {
       "output_type": "stream",
       "stream": "stdout",
       "text": [
        "\r",
        "Loading frame 105 of 769"
       ]
      },
      {
       "output_type": "stream",
       "stream": "stdout",
       "text": [
        "\r",
        "Loading frame 106 of 769"
       ]
      },
      {
       "output_type": "stream",
       "stream": "stdout",
       "text": [
        "\r",
        "Loading frame 107 of 769"
       ]
      },
      {
       "output_type": "stream",
       "stream": "stdout",
       "text": [
        "\r",
        "Loading frame 108 of 769"
       ]
      },
      {
       "output_type": "stream",
       "stream": "stdout",
       "text": [
        "\r",
        "Loading frame 109 of 769"
       ]
      },
      {
       "output_type": "stream",
       "stream": "stdout",
       "text": [
        "\r",
        "Loading frame 110 of 769"
       ]
      },
      {
       "output_type": "stream",
       "stream": "stdout",
       "text": [
        "\r",
        "Loading frame 111 of 769"
       ]
      },
      {
       "output_type": "stream",
       "stream": "stdout",
       "text": [
        "\r",
        "Loading frame 112 of 769"
       ]
      },
      {
       "output_type": "stream",
       "stream": "stdout",
       "text": [
        "\r",
        "Loading frame 113 of 769"
       ]
      },
      {
       "output_type": "stream",
       "stream": "stdout",
       "text": [
        "\r",
        "Loading frame 114 of 769"
       ]
      },
      {
       "output_type": "stream",
       "stream": "stdout",
       "text": [
        "\r",
        "Loading frame 115 of 769"
       ]
      },
      {
       "output_type": "stream",
       "stream": "stdout",
       "text": [
        "\r",
        "Loading frame 116 of 769"
       ]
      },
      {
       "output_type": "stream",
       "stream": "stdout",
       "text": [
        "\r",
        "Loading frame 117 of 769"
       ]
      },
      {
       "output_type": "stream",
       "stream": "stdout",
       "text": [
        "\r",
        "Loading frame 118 of 769"
       ]
      },
      {
       "output_type": "stream",
       "stream": "stdout",
       "text": [
        "\r",
        "Loading frame 119 of 769"
       ]
      },
      {
       "output_type": "stream",
       "stream": "stdout",
       "text": [
        "\r",
        "Loading frame 120 of 769"
       ]
      },
      {
       "output_type": "stream",
       "stream": "stdout",
       "text": [
        "\r",
        "Loading frame 121 of 769"
       ]
      },
      {
       "output_type": "stream",
       "stream": "stdout",
       "text": [
        "\r",
        "Loading frame 122 of 769"
       ]
      },
      {
       "output_type": "stream",
       "stream": "stdout",
       "text": [
        "\r",
        "Loading frame 123 of 769"
       ]
      },
      {
       "output_type": "stream",
       "stream": "stdout",
       "text": [
        "\r",
        "Loading frame 124 of 769"
       ]
      },
      {
       "output_type": "stream",
       "stream": "stdout",
       "text": [
        "\r",
        "Loading frame 125 of 769"
       ]
      },
      {
       "output_type": "stream",
       "stream": "stdout",
       "text": [
        "\r",
        "Loading frame 126 of 769"
       ]
      },
      {
       "output_type": "stream",
       "stream": "stdout",
       "text": [
        "\r",
        "Loading frame 127 of 769"
       ]
      },
      {
       "output_type": "stream",
       "stream": "stdout",
       "text": [
        "\r",
        "Loading frame 128 of 769"
       ]
      },
      {
       "output_type": "stream",
       "stream": "stdout",
       "text": [
        "\r",
        "Loading frame 129 of 769"
       ]
      },
      {
       "output_type": "stream",
       "stream": "stdout",
       "text": [
        "\r",
        "Loading frame 130 of 769"
       ]
      },
      {
       "output_type": "stream",
       "stream": "stdout",
       "text": [
        "\r",
        "Loading frame 131 of 769"
       ]
      },
      {
       "output_type": "stream",
       "stream": "stdout",
       "text": [
        "\r",
        "Loading frame 132 of 769"
       ]
      },
      {
       "output_type": "stream",
       "stream": "stdout",
       "text": [
        "\r",
        "Loading frame 133 of 769"
       ]
      },
      {
       "output_type": "stream",
       "stream": "stdout",
       "text": [
        "\r",
        "Loading frame 134 of 769"
       ]
      },
      {
       "output_type": "stream",
       "stream": "stdout",
       "text": [
        "\r",
        "Loading frame 135 of 769"
       ]
      },
      {
       "output_type": "stream",
       "stream": "stdout",
       "text": [
        "\r",
        "Loading frame 136 of 769"
       ]
      },
      {
       "output_type": "stream",
       "stream": "stdout",
       "text": [
        "\r",
        "Loading frame 137 of 769"
       ]
      },
      {
       "output_type": "stream",
       "stream": "stdout",
       "text": [
        "\r",
        "Loading frame 138 of 769"
       ]
      },
      {
       "output_type": "stream",
       "stream": "stdout",
       "text": [
        "\r",
        "Loading frame 139 of 769"
       ]
      },
      {
       "output_type": "stream",
       "stream": "stdout",
       "text": [
        "\r",
        "Loading frame 140 of 769"
       ]
      },
      {
       "output_type": "stream",
       "stream": "stdout",
       "text": [
        "\r",
        "Loading frame 141 of 769"
       ]
      },
      {
       "output_type": "stream",
       "stream": "stdout",
       "text": [
        "\r",
        "Loading frame 142 of 769"
       ]
      },
      {
       "output_type": "stream",
       "stream": "stdout",
       "text": [
        "\r",
        "Loading frame 143 of 769"
       ]
      },
      {
       "output_type": "stream",
       "stream": "stdout",
       "text": [
        "\r",
        "Loading frame 144 of 769"
       ]
      },
      {
       "output_type": "stream",
       "stream": "stdout",
       "text": [
        "\r",
        "Loading frame 145 of 769"
       ]
      },
      {
       "output_type": "stream",
       "stream": "stdout",
       "text": [
        "\r",
        "Loading frame 146 of 769"
       ]
      },
      {
       "output_type": "stream",
       "stream": "stdout",
       "text": [
        "\r",
        "Loading frame 147 of 769"
       ]
      },
      {
       "output_type": "stream",
       "stream": "stdout",
       "text": [
        "\r",
        "Loading frame 148 of 769"
       ]
      },
      {
       "output_type": "stream",
       "stream": "stdout",
       "text": [
        "\r",
        "Loading frame 149 of 769"
       ]
      },
      {
       "output_type": "stream",
       "stream": "stdout",
       "text": [
        "\r",
        "Loading frame 150 of 769"
       ]
      },
      {
       "output_type": "stream",
       "stream": "stdout",
       "text": [
        "\r",
        "Loading frame 151 of 769"
       ]
      },
      {
       "output_type": "stream",
       "stream": "stdout",
       "text": [
        "\r",
        "Loading frame 152 of 769"
       ]
      },
      {
       "output_type": "stream",
       "stream": "stdout",
       "text": [
        "\r",
        "Loading frame 153 of 769"
       ]
      },
      {
       "output_type": "stream",
       "stream": "stdout",
       "text": [
        "\r",
        "Loading frame 154 of 769"
       ]
      },
      {
       "output_type": "stream",
       "stream": "stdout",
       "text": [
        "\r",
        "Loading frame 155 of 769"
       ]
      },
      {
       "output_type": "stream",
       "stream": "stdout",
       "text": [
        "\r",
        "Loading frame 156 of 769"
       ]
      },
      {
       "output_type": "stream",
       "stream": "stdout",
       "text": [
        "\r",
        "Loading frame 157 of 769"
       ]
      },
      {
       "output_type": "stream",
       "stream": "stdout",
       "text": [
        "\r",
        "Loading frame 158 of 769"
       ]
      },
      {
       "output_type": "stream",
       "stream": "stdout",
       "text": [
        "\r",
        "Loading frame 159 of 769"
       ]
      },
      {
       "output_type": "stream",
       "stream": "stdout",
       "text": [
        "\r",
        "Loading frame 160 of 769"
       ]
      },
      {
       "output_type": "stream",
       "stream": "stdout",
       "text": [
        "\r",
        "Loading frame 161 of 769"
       ]
      },
      {
       "output_type": "stream",
       "stream": "stdout",
       "text": [
        "\r",
        "Loading frame 162 of 769"
       ]
      },
      {
       "output_type": "stream",
       "stream": "stdout",
       "text": [
        "\r",
        "Loading frame 163 of 769"
       ]
      },
      {
       "output_type": "stream",
       "stream": "stdout",
       "text": [
        "\r",
        "Loading frame 164 of 769"
       ]
      },
      {
       "output_type": "stream",
       "stream": "stdout",
       "text": [
        "\r",
        "Loading frame 165 of 769"
       ]
      },
      {
       "output_type": "stream",
       "stream": "stdout",
       "text": [
        "\r",
        "Loading frame 166 of 769"
       ]
      },
      {
       "output_type": "stream",
       "stream": "stdout",
       "text": [
        "\r",
        "Loading frame 167 of 769"
       ]
      },
      {
       "output_type": "stream",
       "stream": "stdout",
       "text": [
        "\r",
        "Loading frame 168 of 769"
       ]
      },
      {
       "output_type": "stream",
       "stream": "stdout",
       "text": [
        "\r",
        "Loading frame 169 of 769"
       ]
      },
      {
       "output_type": "stream",
       "stream": "stdout",
       "text": [
        "\r",
        "Loading frame 170 of 769"
       ]
      },
      {
       "output_type": "stream",
       "stream": "stdout",
       "text": [
        "\r",
        "Loading frame 171 of 769"
       ]
      },
      {
       "output_type": "stream",
       "stream": "stdout",
       "text": [
        "\r",
        "Loading frame 172 of 769"
       ]
      },
      {
       "output_type": "stream",
       "stream": "stdout",
       "text": [
        "\r",
        "Loading frame 173 of 769"
       ]
      },
      {
       "output_type": "stream",
       "stream": "stdout",
       "text": [
        "\r",
        "Loading frame 174 of 769"
       ]
      },
      {
       "output_type": "stream",
       "stream": "stdout",
       "text": [
        "\r",
        "Loading frame 175 of 769"
       ]
      },
      {
       "output_type": "stream",
       "stream": "stdout",
       "text": [
        "\r",
        "Loading frame 176 of 769"
       ]
      },
      {
       "output_type": "stream",
       "stream": "stdout",
       "text": [
        "\r",
        "Loading frame 177 of 769"
       ]
      },
      {
       "output_type": "stream",
       "stream": "stdout",
       "text": [
        "\r",
        "Loading frame 178 of 769"
       ]
      },
      {
       "output_type": "stream",
       "stream": "stdout",
       "text": [
        "\r",
        "Loading frame 179 of 769"
       ]
      },
      {
       "output_type": "stream",
       "stream": "stdout",
       "text": [
        "\r",
        "Loading frame 180 of 769"
       ]
      },
      {
       "output_type": "stream",
       "stream": "stdout",
       "text": [
        "\r",
        "Loading frame 181 of 769"
       ]
      },
      {
       "output_type": "stream",
       "stream": "stdout",
       "text": [
        "\r",
        "Loading frame 182 of 769"
       ]
      },
      {
       "output_type": "stream",
       "stream": "stdout",
       "text": [
        "\r",
        "Loading frame 183 of 769"
       ]
      },
      {
       "output_type": "stream",
       "stream": "stdout",
       "text": [
        "\r",
        "Loading frame 184 of 769"
       ]
      },
      {
       "output_type": "stream",
       "stream": "stdout",
       "text": [
        "\r",
        "Loading frame 185 of 769"
       ]
      },
      {
       "output_type": "stream",
       "stream": "stdout",
       "text": [
        "\r",
        "Loading frame 186 of 769"
       ]
      },
      {
       "output_type": "stream",
       "stream": "stdout",
       "text": [
        "\r",
        "Loading frame 187 of 769"
       ]
      },
      {
       "output_type": "stream",
       "stream": "stdout",
       "text": [
        "\r",
        "Loading frame 188 of 769"
       ]
      },
      {
       "output_type": "stream",
       "stream": "stdout",
       "text": [
        "\r",
        "Loading frame 189 of 769"
       ]
      },
      {
       "output_type": "stream",
       "stream": "stdout",
       "text": [
        "\r",
        "Loading frame 190 of 769"
       ]
      },
      {
       "output_type": "stream",
       "stream": "stdout",
       "text": [
        "\r",
        "Loading frame 191 of 769"
       ]
      },
      {
       "output_type": "stream",
       "stream": "stdout",
       "text": [
        "\r",
        "Loading frame 192 of 769"
       ]
      },
      {
       "output_type": "stream",
       "stream": "stdout",
       "text": [
        "\r",
        "Loading frame 193 of 769"
       ]
      },
      {
       "output_type": "stream",
       "stream": "stdout",
       "text": [
        "\r",
        "Loading frame 194 of 769"
       ]
      },
      {
       "output_type": "stream",
       "stream": "stdout",
       "text": [
        "\r",
        "Loading frame 195 of 769"
       ]
      },
      {
       "output_type": "stream",
       "stream": "stdout",
       "text": [
        "\r",
        "Loading frame 196 of 769"
       ]
      },
      {
       "output_type": "stream",
       "stream": "stdout",
       "text": [
        "\r",
        "Loading frame 197 of 769"
       ]
      },
      {
       "output_type": "stream",
       "stream": "stdout",
       "text": [
        "\r",
        "Loading frame 198 of 769"
       ]
      },
      {
       "output_type": "stream",
       "stream": "stdout",
       "text": [
        "\r",
        "Loading frame 199 of 769"
       ]
      },
      {
       "output_type": "stream",
       "stream": "stdout",
       "text": [
        "\r",
        "Loading frame 200 of 769"
       ]
      },
      {
       "output_type": "stream",
       "stream": "stdout",
       "text": [
        "\r",
        "Loading frame 201 of 769"
       ]
      },
      {
       "output_type": "stream",
       "stream": "stdout",
       "text": [
        "\r",
        "Loading frame 202 of 769"
       ]
      },
      {
       "output_type": "stream",
       "stream": "stdout",
       "text": [
        "\r",
        "Loading frame 203 of 769"
       ]
      },
      {
       "output_type": "stream",
       "stream": "stdout",
       "text": [
        "\r",
        "Loading frame 204 of 769"
       ]
      },
      {
       "output_type": "stream",
       "stream": "stdout",
       "text": [
        "\r",
        "Loading frame 205 of 769"
       ]
      },
      {
       "output_type": "stream",
       "stream": "stdout",
       "text": [
        "\r",
        "Loading frame 206 of 769"
       ]
      },
      {
       "output_type": "stream",
       "stream": "stdout",
       "text": [
        "\r",
        "Loading frame 207 of 769"
       ]
      },
      {
       "output_type": "stream",
       "stream": "stdout",
       "text": [
        "\r",
        "Loading frame 208 of 769"
       ]
      },
      {
       "output_type": "stream",
       "stream": "stdout",
       "text": [
        "\r",
        "Loading frame 209 of 769"
       ]
      },
      {
       "output_type": "stream",
       "stream": "stdout",
       "text": [
        "\r",
        "Loading frame 210 of 769"
       ]
      },
      {
       "output_type": "stream",
       "stream": "stdout",
       "text": [
        "\r",
        "Loading frame 211 of 769"
       ]
      },
      {
       "output_type": "stream",
       "stream": "stdout",
       "text": [
        "\r",
        "Loading frame 212 of 769"
       ]
      },
      {
       "output_type": "stream",
       "stream": "stdout",
       "text": [
        "\r",
        "Loading frame 213 of 769"
       ]
      },
      {
       "output_type": "stream",
       "stream": "stdout",
       "text": [
        "\r",
        "Loading frame 214 of 769"
       ]
      },
      {
       "output_type": "stream",
       "stream": "stdout",
       "text": [
        "\r",
        "Loading frame 215 of 769"
       ]
      },
      {
       "output_type": "stream",
       "stream": "stdout",
       "text": [
        "\r",
        "Loading frame 216 of 769"
       ]
      },
      {
       "output_type": "stream",
       "stream": "stdout",
       "text": [
        "\r",
        "Loading frame 217 of 769"
       ]
      },
      {
       "output_type": "stream",
       "stream": "stdout",
       "text": [
        "\r",
        "Loading frame 218 of 769"
       ]
      },
      {
       "output_type": "stream",
       "stream": "stdout",
       "text": [
        "\r",
        "Loading frame 219 of 769"
       ]
      },
      {
       "output_type": "stream",
       "stream": "stdout",
       "text": [
        "\r",
        "Loading frame 220 of 769"
       ]
      },
      {
       "output_type": "stream",
       "stream": "stdout",
       "text": [
        "\r",
        "Loading frame 221 of 769"
       ]
      },
      {
       "output_type": "stream",
       "stream": "stdout",
       "text": [
        "\r",
        "Loading frame 222 of 769"
       ]
      },
      {
       "output_type": "stream",
       "stream": "stdout",
       "text": [
        "\r",
        "Loading frame 223 of 769"
       ]
      },
      {
       "output_type": "stream",
       "stream": "stdout",
       "text": [
        "\r",
        "Loading frame 224 of 769"
       ]
      },
      {
       "output_type": "stream",
       "stream": "stdout",
       "text": [
        "\r",
        "Loading frame 225 of 769"
       ]
      },
      {
       "output_type": "stream",
       "stream": "stdout",
       "text": [
        "\r",
        "Loading frame 226 of 769"
       ]
      },
      {
       "output_type": "stream",
       "stream": "stdout",
       "text": [
        "\r",
        "Loading frame 227 of 769"
       ]
      },
      {
       "output_type": "stream",
       "stream": "stdout",
       "text": [
        "\r",
        "Loading frame 228 of 769"
       ]
      },
      {
       "output_type": "stream",
       "stream": "stdout",
       "text": [
        "\r",
        "Loading frame 229 of 769"
       ]
      },
      {
       "output_type": "stream",
       "stream": "stdout",
       "text": [
        "\r",
        "Loading frame 230 of 769"
       ]
      },
      {
       "output_type": "stream",
       "stream": "stdout",
       "text": [
        "\r",
        "Loading frame 231 of 769"
       ]
      },
      {
       "output_type": "stream",
       "stream": "stdout",
       "text": [
        "\r",
        "Loading frame 232 of 769"
       ]
      },
      {
       "output_type": "stream",
       "stream": "stdout",
       "text": [
        "\r",
        "Loading frame 233 of 769"
       ]
      },
      {
       "output_type": "stream",
       "stream": "stdout",
       "text": [
        "\r",
        "Loading frame 234 of 769"
       ]
      },
      {
       "output_type": "stream",
       "stream": "stdout",
       "text": [
        "\r",
        "Loading frame 235 of 769"
       ]
      },
      {
       "output_type": "stream",
       "stream": "stdout",
       "text": [
        "\r",
        "Loading frame 236 of 769"
       ]
      },
      {
       "output_type": "stream",
       "stream": "stdout",
       "text": [
        "\r",
        "Loading frame 237 of 769"
       ]
      },
      {
       "output_type": "stream",
       "stream": "stdout",
       "text": [
        "\r",
        "Loading frame 238 of 769"
       ]
      },
      {
       "output_type": "stream",
       "stream": "stdout",
       "text": [
        "\r",
        "Loading frame 239 of 769"
       ]
      },
      {
       "output_type": "stream",
       "stream": "stdout",
       "text": [
        "\r",
        "Loading frame 240 of 769"
       ]
      },
      {
       "output_type": "stream",
       "stream": "stdout",
       "text": [
        "\r",
        "Loading frame 241 of 769"
       ]
      },
      {
       "output_type": "stream",
       "stream": "stdout",
       "text": [
        "\r",
        "Loading frame 242 of 769"
       ]
      },
      {
       "output_type": "stream",
       "stream": "stdout",
       "text": [
        "\r",
        "Loading frame 243 of 769"
       ]
      },
      {
       "output_type": "stream",
       "stream": "stdout",
       "text": [
        "\r",
        "Loading frame 244 of 769"
       ]
      },
      {
       "output_type": "stream",
       "stream": "stdout",
       "text": [
        "\r",
        "Loading frame 245 of 769"
       ]
      },
      {
       "output_type": "stream",
       "stream": "stdout",
       "text": [
        "\r",
        "Loading frame 246 of 769"
       ]
      },
      {
       "output_type": "stream",
       "stream": "stdout",
       "text": [
        "\r",
        "Loading frame 247 of 769"
       ]
      },
      {
       "output_type": "stream",
       "stream": "stdout",
       "text": [
        "\r",
        "Loading frame 248 of 769"
       ]
      },
      {
       "output_type": "stream",
       "stream": "stdout",
       "text": [
        "\r",
        "Loading frame 249 of 769"
       ]
      },
      {
       "output_type": "stream",
       "stream": "stdout",
       "text": [
        "\r",
        "Loading frame 250 of 769"
       ]
      },
      {
       "output_type": "stream",
       "stream": "stdout",
       "text": [
        "\r",
        "Loading frame 251 of 769"
       ]
      },
      {
       "output_type": "stream",
       "stream": "stdout",
       "text": [
        "\r",
        "Loading frame 252 of 769"
       ]
      },
      {
       "output_type": "stream",
       "stream": "stdout",
       "text": [
        "\r",
        "Loading frame 253 of 769"
       ]
      },
      {
       "output_type": "stream",
       "stream": "stdout",
       "text": [
        "\r",
        "Loading frame 254 of 769"
       ]
      },
      {
       "output_type": "stream",
       "stream": "stdout",
       "text": [
        "\r",
        "Loading frame 255 of 769"
       ]
      },
      {
       "output_type": "stream",
       "stream": "stdout",
       "text": [
        "\r",
        "Loading frame 256 of 769"
       ]
      },
      {
       "output_type": "stream",
       "stream": "stdout",
       "text": [
        "\r",
        "Loading frame 257 of 769"
       ]
      },
      {
       "output_type": "stream",
       "stream": "stdout",
       "text": [
        "\r",
        "Loading frame 258 of 769"
       ]
      },
      {
       "output_type": "stream",
       "stream": "stdout",
       "text": [
        "\r",
        "Loading frame 259 of 769"
       ]
      },
      {
       "output_type": "stream",
       "stream": "stdout",
       "text": [
        "\r",
        "Loading frame 260 of 769"
       ]
      },
      {
       "output_type": "stream",
       "stream": "stdout",
       "text": [
        "\r",
        "Loading frame 261 of 769"
       ]
      },
      {
       "output_type": "stream",
       "stream": "stdout",
       "text": [
        "\r",
        "Loading frame 262 of 769"
       ]
      },
      {
       "output_type": "stream",
       "stream": "stdout",
       "text": [
        "\r",
        "Loading frame 263 of 769"
       ]
      },
      {
       "output_type": "stream",
       "stream": "stdout",
       "text": [
        "\r",
        "Loading frame 264 of 769"
       ]
      },
      {
       "output_type": "stream",
       "stream": "stdout",
       "text": [
        "\r",
        "Loading frame 265 of 769"
       ]
      },
      {
       "output_type": "stream",
       "stream": "stdout",
       "text": [
        "\r",
        "Loading frame 266 of 769"
       ]
      },
      {
       "output_type": "stream",
       "stream": "stdout",
       "text": [
        "\r",
        "Loading frame 267 of 769"
       ]
      },
      {
       "output_type": "stream",
       "stream": "stdout",
       "text": [
        "\r",
        "Loading frame 268 of 769"
       ]
      },
      {
       "output_type": "stream",
       "stream": "stdout",
       "text": [
        "\r",
        "Loading frame 269 of 769"
       ]
      },
      {
       "output_type": "stream",
       "stream": "stdout",
       "text": [
        "\r",
        "Loading frame 270 of 769"
       ]
      },
      {
       "output_type": "stream",
       "stream": "stdout",
       "text": [
        "\r",
        "Loading frame 271 of 769"
       ]
      },
      {
       "output_type": "stream",
       "stream": "stdout",
       "text": [
        "\r",
        "Loading frame 272 of 769"
       ]
      },
      {
       "output_type": "stream",
       "stream": "stdout",
       "text": [
        "\r",
        "Loading frame 273 of 769"
       ]
      },
      {
       "output_type": "stream",
       "stream": "stdout",
       "text": [
        "\r",
        "Loading frame 274 of 769"
       ]
      },
      {
       "output_type": "stream",
       "stream": "stdout",
       "text": [
        "\r",
        "Loading frame 275 of 769"
       ]
      },
      {
       "output_type": "stream",
       "stream": "stdout",
       "text": [
        "\r",
        "Loading frame 276 of 769"
       ]
      },
      {
       "output_type": "stream",
       "stream": "stdout",
       "text": [
        "\r",
        "Loading frame 277 of 769"
       ]
      },
      {
       "output_type": "stream",
       "stream": "stdout",
       "text": [
        "\r",
        "Loading frame 278 of 769"
       ]
      },
      {
       "output_type": "stream",
       "stream": "stdout",
       "text": [
        "\r",
        "Loading frame 279 of 769"
       ]
      },
      {
       "output_type": "stream",
       "stream": "stdout",
       "text": [
        "\r",
        "Loading frame 280 of 769"
       ]
      },
      {
       "output_type": "stream",
       "stream": "stdout",
       "text": [
        "\r",
        "Loading frame 281 of 769"
       ]
      },
      {
       "output_type": "stream",
       "stream": "stdout",
       "text": [
        "\r",
        "Loading frame 282 of 769"
       ]
      },
      {
       "output_type": "stream",
       "stream": "stdout",
       "text": [
        "\r",
        "Loading frame 283 of 769"
       ]
      },
      {
       "output_type": "stream",
       "stream": "stdout",
       "text": [
        "\r",
        "Loading frame 284 of 769"
       ]
      },
      {
       "output_type": "stream",
       "stream": "stdout",
       "text": [
        "\r",
        "Loading frame 285 of 769"
       ]
      },
      {
       "output_type": "stream",
       "stream": "stdout",
       "text": [
        "\r",
        "Loading frame 286 of 769"
       ]
      },
      {
       "output_type": "stream",
       "stream": "stdout",
       "text": [
        "\r",
        "Loading frame 287 of 769"
       ]
      },
      {
       "output_type": "stream",
       "stream": "stdout",
       "text": [
        "\r",
        "Loading frame 288 of 769"
       ]
      },
      {
       "output_type": "stream",
       "stream": "stdout",
       "text": [
        "\r",
        "Loading frame 289 of 769"
       ]
      },
      {
       "output_type": "stream",
       "stream": "stdout",
       "text": [
        "\r",
        "Loading frame 290 of 769"
       ]
      },
      {
       "output_type": "stream",
       "stream": "stdout",
       "text": [
        "\r",
        "Loading frame 291 of 769"
       ]
      },
      {
       "output_type": "stream",
       "stream": "stdout",
       "text": [
        "\r",
        "Loading frame 292 of 769"
       ]
      },
      {
       "output_type": "stream",
       "stream": "stdout",
       "text": [
        "\r",
        "Loading frame 293 of 769"
       ]
      },
      {
       "output_type": "stream",
       "stream": "stdout",
       "text": [
        "\r",
        "Loading frame 294 of 769"
       ]
      },
      {
       "output_type": "stream",
       "stream": "stdout",
       "text": [
        "\r",
        "Loading frame 295 of 769"
       ]
      },
      {
       "output_type": "stream",
       "stream": "stdout",
       "text": [
        "\r",
        "Loading frame 296 of 769"
       ]
      },
      {
       "output_type": "stream",
       "stream": "stdout",
       "text": [
        "\r",
        "Loading frame 297 of 769"
       ]
      },
      {
       "output_type": "stream",
       "stream": "stdout",
       "text": [
        "\r",
        "Loading frame 298 of 769"
       ]
      },
      {
       "output_type": "stream",
       "stream": "stdout",
       "text": [
        "\r",
        "Loading frame 299 of 769"
       ]
      },
      {
       "output_type": "stream",
       "stream": "stdout",
       "text": [
        "\r",
        "Loading frame 300 of 769"
       ]
      },
      {
       "output_type": "stream",
       "stream": "stdout",
       "text": [
        "\r",
        "Loading frame 301 of 769"
       ]
      },
      {
       "output_type": "stream",
       "stream": "stdout",
       "text": [
        "\r",
        "Loading frame 302 of 769"
       ]
      },
      {
       "output_type": "stream",
       "stream": "stdout",
       "text": [
        "\r",
        "Loading frame 303 of 769"
       ]
      },
      {
       "output_type": "stream",
       "stream": "stdout",
       "text": [
        "\r",
        "Loading frame 304 of 769"
       ]
      },
      {
       "output_type": "stream",
       "stream": "stdout",
       "text": [
        "\r",
        "Loading frame 305 of 769"
       ]
      },
      {
       "output_type": "stream",
       "stream": "stdout",
       "text": [
        "\r",
        "Loading frame 306 of 769"
       ]
      },
      {
       "output_type": "stream",
       "stream": "stdout",
       "text": [
        "\r",
        "Loading frame 307 of 769"
       ]
      },
      {
       "output_type": "stream",
       "stream": "stdout",
       "text": [
        "\r",
        "Loading frame 308 of 769"
       ]
      },
      {
       "output_type": "stream",
       "stream": "stdout",
       "text": [
        "\r",
        "Loading frame 309 of 769"
       ]
      },
      {
       "output_type": "stream",
       "stream": "stdout",
       "text": [
        "\r",
        "Loading frame 310 of 769"
       ]
      },
      {
       "output_type": "stream",
       "stream": "stdout",
       "text": [
        "\r",
        "Loading frame 311 of 769"
       ]
      },
      {
       "output_type": "stream",
       "stream": "stdout",
       "text": [
        "\r",
        "Loading frame 312 of 769"
       ]
      },
      {
       "output_type": "stream",
       "stream": "stdout",
       "text": [
        "\r",
        "Loading frame 313 of 769"
       ]
      },
      {
       "output_type": "stream",
       "stream": "stdout",
       "text": [
        "\r",
        "Loading frame 314 of 769"
       ]
      },
      {
       "output_type": "stream",
       "stream": "stdout",
       "text": [
        "\r",
        "Loading frame 315 of 769"
       ]
      },
      {
       "output_type": "stream",
       "stream": "stdout",
       "text": [
        "\r",
        "Loading frame 316 of 769"
       ]
      },
      {
       "output_type": "stream",
       "stream": "stdout",
       "text": [
        "\r",
        "Loading frame 317 of 769"
       ]
      },
      {
       "output_type": "stream",
       "stream": "stdout",
       "text": [
        "\r",
        "Loading frame 318 of 769"
       ]
      },
      {
       "output_type": "stream",
       "stream": "stdout",
       "text": [
        "\r",
        "Loading frame 319 of 769"
       ]
      },
      {
       "output_type": "stream",
       "stream": "stdout",
       "text": [
        "\r",
        "Loading frame 320 of 769"
       ]
      },
      {
       "output_type": "stream",
       "stream": "stdout",
       "text": [
        "\r",
        "Loading frame 321 of 769"
       ]
      },
      {
       "output_type": "stream",
       "stream": "stdout",
       "text": [
        "\r",
        "Loading frame 322 of 769"
       ]
      },
      {
       "output_type": "stream",
       "stream": "stdout",
       "text": [
        "\r",
        "Loading frame 323 of 769"
       ]
      },
      {
       "output_type": "stream",
       "stream": "stdout",
       "text": [
        "\r",
        "Loading frame 324 of 769"
       ]
      },
      {
       "output_type": "stream",
       "stream": "stdout",
       "text": [
        "\r",
        "Loading frame 325 of 769"
       ]
      },
      {
       "output_type": "stream",
       "stream": "stdout",
       "text": [
        "\r",
        "Loading frame 326 of 769"
       ]
      },
      {
       "output_type": "stream",
       "stream": "stdout",
       "text": [
        "\r",
        "Loading frame 327 of 769"
       ]
      },
      {
       "output_type": "stream",
       "stream": "stdout",
       "text": [
        "\r",
        "Loading frame 328 of 769"
       ]
      },
      {
       "output_type": "stream",
       "stream": "stdout",
       "text": [
        "\r",
        "Loading frame 329 of 769"
       ]
      },
      {
       "output_type": "stream",
       "stream": "stdout",
       "text": [
        "\r",
        "Loading frame 330 of 769"
       ]
      },
      {
       "output_type": "stream",
       "stream": "stdout",
       "text": [
        "\r",
        "Loading frame 331 of 769"
       ]
      },
      {
       "output_type": "stream",
       "stream": "stdout",
       "text": [
        "\r",
        "Loading frame 332 of 769"
       ]
      },
      {
       "output_type": "stream",
       "stream": "stdout",
       "text": [
        "\r",
        "Loading frame 333 of 769"
       ]
      },
      {
       "output_type": "stream",
       "stream": "stdout",
       "text": [
        "\r",
        "Loading frame 334 of 769"
       ]
      },
      {
       "output_type": "stream",
       "stream": "stdout",
       "text": [
        "\r",
        "Loading frame 335 of 769"
       ]
      },
      {
       "output_type": "stream",
       "stream": "stdout",
       "text": [
        "\r",
        "Loading frame 336 of 769"
       ]
      },
      {
       "output_type": "stream",
       "stream": "stdout",
       "text": [
        "\r",
        "Loading frame 337 of 769"
       ]
      },
      {
       "output_type": "stream",
       "stream": "stdout",
       "text": [
        "\r",
        "Loading frame 338 of 769"
       ]
      },
      {
       "output_type": "stream",
       "stream": "stdout",
       "text": [
        "\r",
        "Loading frame 339 of 769"
       ]
      },
      {
       "output_type": "stream",
       "stream": "stdout",
       "text": [
        "\r",
        "Loading frame 340 of 769"
       ]
      },
      {
       "output_type": "stream",
       "stream": "stdout",
       "text": [
        "\r",
        "Loading frame 341 of 769"
       ]
      },
      {
       "output_type": "stream",
       "stream": "stdout",
       "text": [
        "\r",
        "Loading frame 342 of 769"
       ]
      },
      {
       "output_type": "stream",
       "stream": "stdout",
       "text": [
        "\r",
        "Loading frame 343 of 769"
       ]
      },
      {
       "output_type": "stream",
       "stream": "stdout",
       "text": [
        "\r",
        "Loading frame 344 of 769"
       ]
      },
      {
       "output_type": "stream",
       "stream": "stdout",
       "text": [
        "\r",
        "Loading frame 345 of 769"
       ]
      },
      {
       "output_type": "stream",
       "stream": "stdout",
       "text": [
        "\r",
        "Loading frame 346 of 769"
       ]
      },
      {
       "output_type": "stream",
       "stream": "stdout",
       "text": [
        "\r",
        "Loading frame 347 of 769"
       ]
      },
      {
       "output_type": "stream",
       "stream": "stdout",
       "text": [
        "\r",
        "Loading frame 348 of 769"
       ]
      },
      {
       "output_type": "stream",
       "stream": "stdout",
       "text": [
        "\r",
        "Loading frame 349 of 769"
       ]
      },
      {
       "output_type": "stream",
       "stream": "stdout",
       "text": [
        "\r",
        "Loading frame 350 of 769"
       ]
      },
      {
       "output_type": "stream",
       "stream": "stdout",
       "text": [
        "\r",
        "Loading frame 351 of 769"
       ]
      },
      {
       "output_type": "stream",
       "stream": "stdout",
       "text": [
        "\r",
        "Loading frame 352 of 769"
       ]
      },
      {
       "output_type": "stream",
       "stream": "stdout",
       "text": [
        "\r",
        "Loading frame 353 of 769"
       ]
      },
      {
       "output_type": "stream",
       "stream": "stdout",
       "text": [
        "\r",
        "Loading frame 354 of 769"
       ]
      },
      {
       "output_type": "stream",
       "stream": "stdout",
       "text": [
        "\r",
        "Loading frame 355 of 769"
       ]
      },
      {
       "output_type": "stream",
       "stream": "stdout",
       "text": [
        "\r",
        "Loading frame 356 of 769"
       ]
      },
      {
       "output_type": "stream",
       "stream": "stdout",
       "text": [
        "\r",
        "Loading frame 357 of 769"
       ]
      },
      {
       "output_type": "stream",
       "stream": "stdout",
       "text": [
        "\r",
        "Loading frame 358 of 769"
       ]
      },
      {
       "output_type": "stream",
       "stream": "stdout",
       "text": [
        "\r",
        "Loading frame 359 of 769"
       ]
      },
      {
       "output_type": "stream",
       "stream": "stdout",
       "text": [
        "\r",
        "Loading frame 360 of 769"
       ]
      },
      {
       "output_type": "stream",
       "stream": "stdout",
       "text": [
        "\r",
        "Loading frame 361 of 769"
       ]
      },
      {
       "output_type": "stream",
       "stream": "stdout",
       "text": [
        "\r",
        "Loading frame 362 of 769"
       ]
      },
      {
       "output_type": "stream",
       "stream": "stdout",
       "text": [
        "\r",
        "Loading frame 363 of 769"
       ]
      },
      {
       "output_type": "stream",
       "stream": "stdout",
       "text": [
        "\r",
        "Loading frame 364 of 769"
       ]
      },
      {
       "output_type": "stream",
       "stream": "stdout",
       "text": [
        "\r",
        "Loading frame 365 of 769"
       ]
      },
      {
       "output_type": "stream",
       "stream": "stdout",
       "text": [
        "\r",
        "Loading frame 366 of 769"
       ]
      },
      {
       "output_type": "stream",
       "stream": "stdout",
       "text": [
        "\r",
        "Loading frame 367 of 769"
       ]
      },
      {
       "output_type": "stream",
       "stream": "stdout",
       "text": [
        "\r",
        "Loading frame 368 of 769"
       ]
      },
      {
       "output_type": "stream",
       "stream": "stdout",
       "text": [
        "\r",
        "Loading frame 369 of 769"
       ]
      },
      {
       "output_type": "stream",
       "stream": "stdout",
       "text": [
        "\r",
        "Loading frame 370 of 769"
       ]
      },
      {
       "output_type": "stream",
       "stream": "stdout",
       "text": [
        "\r",
        "Loading frame 371 of 769"
       ]
      },
      {
       "output_type": "stream",
       "stream": "stdout",
       "text": [
        "\r",
        "Loading frame 372 of 769"
       ]
      },
      {
       "output_type": "stream",
       "stream": "stdout",
       "text": [
        "\r",
        "Loading frame 373 of 769"
       ]
      },
      {
       "output_type": "stream",
       "stream": "stdout",
       "text": [
        "\r",
        "Loading frame 374 of 769"
       ]
      },
      {
       "output_type": "stream",
       "stream": "stdout",
       "text": [
        "\r",
        "Loading frame 375 of 769"
       ]
      },
      {
       "output_type": "stream",
       "stream": "stdout",
       "text": [
        "\r",
        "Loading frame 376 of 769"
       ]
      },
      {
       "output_type": "stream",
       "stream": "stdout",
       "text": [
        "\r",
        "Loading frame 377 of 769"
       ]
      },
      {
       "output_type": "stream",
       "stream": "stdout",
       "text": [
        "\r",
        "Loading frame 378 of 769"
       ]
      },
      {
       "output_type": "stream",
       "stream": "stdout",
       "text": [
        "\r",
        "Loading frame 379 of 769"
       ]
      },
      {
       "output_type": "stream",
       "stream": "stdout",
       "text": [
        "\r",
        "Loading frame 380 of 769"
       ]
      },
      {
       "output_type": "stream",
       "stream": "stdout",
       "text": [
        "\r",
        "Loading frame 381 of 769"
       ]
      },
      {
       "output_type": "stream",
       "stream": "stdout",
       "text": [
        "\r",
        "Loading frame 382 of 769"
       ]
      },
      {
       "output_type": "stream",
       "stream": "stdout",
       "text": [
        "\r",
        "Loading frame 383 of 769"
       ]
      },
      {
       "output_type": "stream",
       "stream": "stdout",
       "text": [
        "\r",
        "Loading frame 384 of 769"
       ]
      },
      {
       "output_type": "stream",
       "stream": "stdout",
       "text": [
        "\r",
        "Loading frame 385 of 769"
       ]
      },
      {
       "output_type": "stream",
       "stream": "stdout",
       "text": [
        "\r",
        "Loading frame 386 of 769"
       ]
      },
      {
       "output_type": "stream",
       "stream": "stdout",
       "text": [
        "\r",
        "Loading frame 387 of 769"
       ]
      },
      {
       "output_type": "stream",
       "stream": "stdout",
       "text": [
        "\r",
        "Loading frame 388 of 769"
       ]
      },
      {
       "output_type": "stream",
       "stream": "stdout",
       "text": [
        "\r",
        "Loading frame 389 of 769"
       ]
      },
      {
       "output_type": "stream",
       "stream": "stdout",
       "text": [
        "\r",
        "Loading frame 390 of 769"
       ]
      },
      {
       "output_type": "stream",
       "stream": "stdout",
       "text": [
        "\r",
        "Loading frame 391 of 769"
       ]
      },
      {
       "output_type": "stream",
       "stream": "stdout",
       "text": [
        "\r",
        "Loading frame 392 of 769"
       ]
      },
      {
       "output_type": "stream",
       "stream": "stdout",
       "text": [
        "\r",
        "Loading frame 393 of 769"
       ]
      },
      {
       "output_type": "stream",
       "stream": "stdout",
       "text": [
        "\r",
        "Loading frame 394 of 769"
       ]
      },
      {
       "output_type": "stream",
       "stream": "stdout",
       "text": [
        "\r",
        "Loading frame 395 of 769"
       ]
      },
      {
       "output_type": "stream",
       "stream": "stdout",
       "text": [
        "\r",
        "Loading frame 396 of 769"
       ]
      },
      {
       "output_type": "stream",
       "stream": "stdout",
       "text": [
        "\r",
        "Loading frame 397 of 769"
       ]
      },
      {
       "output_type": "stream",
       "stream": "stdout",
       "text": [
        "\r",
        "Loading frame 398 of 769"
       ]
      },
      {
       "output_type": "stream",
       "stream": "stdout",
       "text": [
        "\r",
        "Loading frame 399 of 769"
       ]
      },
      {
       "output_type": "stream",
       "stream": "stdout",
       "text": [
        "\r",
        "Loading frame 400 of 769"
       ]
      },
      {
       "output_type": "stream",
       "stream": "stdout",
       "text": [
        "\r",
        "Loading frame 401 of 769"
       ]
      },
      {
       "output_type": "stream",
       "stream": "stdout",
       "text": [
        "\r",
        "Loading frame 402 of 769"
       ]
      },
      {
       "output_type": "stream",
       "stream": "stdout",
       "text": [
        "\r",
        "Loading frame 403 of 769"
       ]
      },
      {
       "output_type": "stream",
       "stream": "stdout",
       "text": [
        "\r",
        "Loading frame 404 of 769"
       ]
      },
      {
       "output_type": "stream",
       "stream": "stdout",
       "text": [
        "\r",
        "Loading frame 405 of 769"
       ]
      },
      {
       "output_type": "stream",
       "stream": "stdout",
       "text": [
        "\r",
        "Loading frame 406 of 769"
       ]
      },
      {
       "output_type": "stream",
       "stream": "stdout",
       "text": [
        "\r",
        "Loading frame 407 of 769"
       ]
      },
      {
       "output_type": "stream",
       "stream": "stdout",
       "text": [
        "\r",
        "Loading frame 408 of 769"
       ]
      },
      {
       "output_type": "stream",
       "stream": "stdout",
       "text": [
        "\r",
        "Loading frame 409 of 769"
       ]
      },
      {
       "output_type": "stream",
       "stream": "stdout",
       "text": [
        "\r",
        "Loading frame 410 of 769"
       ]
      },
      {
       "output_type": "stream",
       "stream": "stdout",
       "text": [
        "\r",
        "Loading frame 411 of 769"
       ]
      },
      {
       "output_type": "stream",
       "stream": "stdout",
       "text": [
        "\r",
        "Loading frame 412 of 769"
       ]
      },
      {
       "output_type": "stream",
       "stream": "stdout",
       "text": [
        "\r",
        "Loading frame 413 of 769"
       ]
      },
      {
       "output_type": "stream",
       "stream": "stdout",
       "text": [
        "\r",
        "Loading frame 414 of 769"
       ]
      },
      {
       "output_type": "stream",
       "stream": "stdout",
       "text": [
        "\r",
        "Loading frame 415 of 769"
       ]
      },
      {
       "output_type": "stream",
       "stream": "stdout",
       "text": [
        "\r",
        "Loading frame 416 of 769"
       ]
      },
      {
       "output_type": "stream",
       "stream": "stdout",
       "text": [
        "\r",
        "Loading frame 417 of 769"
       ]
      },
      {
       "output_type": "stream",
       "stream": "stdout",
       "text": [
        "\r",
        "Loading frame 418 of 769"
       ]
      },
      {
       "output_type": "stream",
       "stream": "stdout",
       "text": [
        "\r",
        "Loading frame 419 of 769"
       ]
      },
      {
       "output_type": "stream",
       "stream": "stdout",
       "text": [
        "\r",
        "Loading frame 420 of 769"
       ]
      },
      {
       "output_type": "stream",
       "stream": "stdout",
       "text": [
        "\r",
        "Loading frame 421 of 769"
       ]
      },
      {
       "output_type": "stream",
       "stream": "stdout",
       "text": [
        "\r",
        "Loading frame 422 of 769"
       ]
      },
      {
       "output_type": "stream",
       "stream": "stdout",
       "text": [
        "\r",
        "Loading frame 423 of 769"
       ]
      },
      {
       "output_type": "stream",
       "stream": "stdout",
       "text": [
        "\r",
        "Loading frame 424 of 769"
       ]
      },
      {
       "output_type": "stream",
       "stream": "stdout",
       "text": [
        "\r",
        "Loading frame 425 of 769"
       ]
      },
      {
       "output_type": "stream",
       "stream": "stdout",
       "text": [
        "\r",
        "Loading frame 426 of 769"
       ]
      },
      {
       "output_type": "stream",
       "stream": "stdout",
       "text": [
        "\r",
        "Loading frame 427 of 769"
       ]
      },
      {
       "output_type": "stream",
       "stream": "stdout",
       "text": [
        "\r",
        "Loading frame 428 of 769"
       ]
      },
      {
       "output_type": "stream",
       "stream": "stdout",
       "text": [
        "\r",
        "Loading frame 429 of 769"
       ]
      },
      {
       "output_type": "stream",
       "stream": "stdout",
       "text": [
        "\r",
        "Loading frame 430 of 769"
       ]
      },
      {
       "output_type": "stream",
       "stream": "stdout",
       "text": [
        "\r",
        "Loading frame 431 of 769"
       ]
      },
      {
       "output_type": "stream",
       "stream": "stdout",
       "text": [
        "\r",
        "Loading frame 432 of 769"
       ]
      },
      {
       "output_type": "stream",
       "stream": "stdout",
       "text": [
        "\r",
        "Loading frame 433 of 769"
       ]
      },
      {
       "output_type": "stream",
       "stream": "stdout",
       "text": [
        "\r",
        "Loading frame 434 of 769"
       ]
      },
      {
       "output_type": "stream",
       "stream": "stdout",
       "text": [
        "\r",
        "Loading frame 435 of 769"
       ]
      },
      {
       "output_type": "stream",
       "stream": "stdout",
       "text": [
        "\r",
        "Loading frame 436 of 769"
       ]
      },
      {
       "output_type": "stream",
       "stream": "stdout",
       "text": [
        "\r",
        "Loading frame 437 of 769"
       ]
      },
      {
       "output_type": "stream",
       "stream": "stdout",
       "text": [
        "\r",
        "Loading frame 438 of 769"
       ]
      },
      {
       "output_type": "stream",
       "stream": "stdout",
       "text": [
        "\r",
        "Loading frame 439 of 769"
       ]
      },
      {
       "output_type": "stream",
       "stream": "stdout",
       "text": [
        "\r",
        "Loading frame 440 of 769"
       ]
      },
      {
       "output_type": "stream",
       "stream": "stdout",
       "text": [
        "\r",
        "Loading frame 441 of 769"
       ]
      },
      {
       "output_type": "stream",
       "stream": "stdout",
       "text": [
        "\r",
        "Loading frame 442 of 769"
       ]
      },
      {
       "output_type": "stream",
       "stream": "stdout",
       "text": [
        "\r",
        "Loading frame 443 of 769"
       ]
      },
      {
       "output_type": "stream",
       "stream": "stdout",
       "text": [
        "\r",
        "Loading frame 444 of 769"
       ]
      },
      {
       "output_type": "stream",
       "stream": "stdout",
       "text": [
        "\r",
        "Loading frame 445 of 769"
       ]
      },
      {
       "output_type": "stream",
       "stream": "stdout",
       "text": [
        "\r",
        "Loading frame 446 of 769"
       ]
      },
      {
       "output_type": "stream",
       "stream": "stdout",
       "text": [
        "\r",
        "Loading frame 447 of 769"
       ]
      },
      {
       "output_type": "stream",
       "stream": "stdout",
       "text": [
        "\r",
        "Loading frame 448 of 769"
       ]
      },
      {
       "output_type": "stream",
       "stream": "stdout",
       "text": [
        "\r",
        "Loading frame 449 of 769"
       ]
      },
      {
       "output_type": "stream",
       "stream": "stdout",
       "text": [
        "\r",
        "Loading frame 450 of 769"
       ]
      },
      {
       "output_type": "stream",
       "stream": "stdout",
       "text": [
        "\r",
        "Loading frame 451 of 769"
       ]
      },
      {
       "output_type": "stream",
       "stream": "stdout",
       "text": [
        "\r",
        "Loading frame 452 of 769"
       ]
      },
      {
       "output_type": "stream",
       "stream": "stdout",
       "text": [
        "\r",
        "Loading frame 453 of 769"
       ]
      },
      {
       "output_type": "stream",
       "stream": "stdout",
       "text": [
        "\r",
        "Loading frame 454 of 769"
       ]
      },
      {
       "output_type": "stream",
       "stream": "stdout",
       "text": [
        "\r",
        "Loading frame 455 of 769"
       ]
      },
      {
       "output_type": "stream",
       "stream": "stdout",
       "text": [
        "\r",
        "Loading frame 456 of 769"
       ]
      },
      {
       "output_type": "stream",
       "stream": "stdout",
       "text": [
        "\r",
        "Loading frame 457 of 769"
       ]
      },
      {
       "output_type": "stream",
       "stream": "stdout",
       "text": [
        "\r",
        "Loading frame 458 of 769"
       ]
      },
      {
       "output_type": "stream",
       "stream": "stdout",
       "text": [
        "\r",
        "Loading frame 459 of 769"
       ]
      },
      {
       "output_type": "stream",
       "stream": "stdout",
       "text": [
        "\r",
        "Loading frame 460 of 769"
       ]
      },
      {
       "output_type": "stream",
       "stream": "stdout",
       "text": [
        "\r",
        "Loading frame 461 of 769"
       ]
      },
      {
       "output_type": "stream",
       "stream": "stdout",
       "text": [
        "\r",
        "Loading frame 462 of 769"
       ]
      },
      {
       "output_type": "stream",
       "stream": "stdout",
       "text": [
        "\r",
        "Loading frame 463 of 769"
       ]
      },
      {
       "output_type": "stream",
       "stream": "stdout",
       "text": [
        "\r",
        "Loading frame 464 of 769"
       ]
      },
      {
       "output_type": "stream",
       "stream": "stdout",
       "text": [
        "\r",
        "Loading frame 465 of 769"
       ]
      },
      {
       "output_type": "stream",
       "stream": "stdout",
       "text": [
        "\r",
        "Loading frame 466 of 769"
       ]
      },
      {
       "output_type": "stream",
       "stream": "stdout",
       "text": [
        "\r",
        "Loading frame 467 of 769"
       ]
      },
      {
       "output_type": "stream",
       "stream": "stdout",
       "text": [
        "\r",
        "Loading frame 468 of 769"
       ]
      },
      {
       "output_type": "stream",
       "stream": "stdout",
       "text": [
        "\r",
        "Loading frame 469 of 769"
       ]
      },
      {
       "output_type": "stream",
       "stream": "stdout",
       "text": [
        "\r",
        "Loading frame 470 of 769"
       ]
      },
      {
       "output_type": "stream",
       "stream": "stdout",
       "text": [
        "\r",
        "Loading frame 471 of 769"
       ]
      },
      {
       "output_type": "stream",
       "stream": "stdout",
       "text": [
        "\r",
        "Loading frame 472 of 769"
       ]
      },
      {
       "output_type": "stream",
       "stream": "stdout",
       "text": [
        "\r",
        "Loading frame 473 of 769"
       ]
      },
      {
       "output_type": "stream",
       "stream": "stdout",
       "text": [
        "\r",
        "Loading frame 474 of 769"
       ]
      },
      {
       "output_type": "stream",
       "stream": "stdout",
       "text": [
        "\r",
        "Loading frame 475 of 769"
       ]
      },
      {
       "output_type": "stream",
       "stream": "stdout",
       "text": [
        "\r",
        "Loading frame 476 of 769"
       ]
      },
      {
       "output_type": "stream",
       "stream": "stdout",
       "text": [
        "\r",
        "Loading frame 477 of 769"
       ]
      },
      {
       "output_type": "stream",
       "stream": "stdout",
       "text": [
        "\r",
        "Loading frame 478 of 769"
       ]
      },
      {
       "output_type": "stream",
       "stream": "stdout",
       "text": [
        "\r",
        "Loading frame 479 of 769"
       ]
      },
      {
       "output_type": "stream",
       "stream": "stdout",
       "text": [
        "\r",
        "Loading frame 480 of 769"
       ]
      },
      {
       "output_type": "stream",
       "stream": "stdout",
       "text": [
        "\r",
        "Loading frame 481 of 769"
       ]
      },
      {
       "output_type": "stream",
       "stream": "stdout",
       "text": [
        "\r",
        "Loading frame 482 of 769"
       ]
      },
      {
       "output_type": "stream",
       "stream": "stdout",
       "text": [
        "\r",
        "Loading frame 483 of 769"
       ]
      },
      {
       "output_type": "stream",
       "stream": "stdout",
       "text": [
        "\r",
        "Loading frame 484 of 769"
       ]
      },
      {
       "output_type": "stream",
       "stream": "stdout",
       "text": [
        "\r",
        "Loading frame 485 of 769"
       ]
      },
      {
       "output_type": "stream",
       "stream": "stdout",
       "text": [
        "\r",
        "Loading frame 486 of 769"
       ]
      },
      {
       "output_type": "stream",
       "stream": "stdout",
       "text": [
        "\r",
        "Loading frame 487 of 769"
       ]
      },
      {
       "output_type": "stream",
       "stream": "stdout",
       "text": [
        "\r",
        "Loading frame 488 of 769"
       ]
      },
      {
       "output_type": "stream",
       "stream": "stdout",
       "text": [
        "\r",
        "Loading frame 489 of 769"
       ]
      },
      {
       "output_type": "stream",
       "stream": "stdout",
       "text": [
        "\r",
        "Loading frame 490 of 769"
       ]
      },
      {
       "output_type": "stream",
       "stream": "stdout",
       "text": [
        "\r",
        "Loading frame 491 of 769"
       ]
      },
      {
       "output_type": "stream",
       "stream": "stdout",
       "text": [
        "\r",
        "Loading frame 492 of 769"
       ]
      },
      {
       "output_type": "stream",
       "stream": "stdout",
       "text": [
        "\r",
        "Loading frame 493 of 769"
       ]
      },
      {
       "output_type": "stream",
       "stream": "stdout",
       "text": [
        "\r",
        "Loading frame 494 of 769"
       ]
      },
      {
       "output_type": "stream",
       "stream": "stdout",
       "text": [
        "\r",
        "Loading frame 495 of 769"
       ]
      },
      {
       "output_type": "stream",
       "stream": "stdout",
       "text": [
        "\r",
        "Loading frame 496 of 769"
       ]
      },
      {
       "output_type": "stream",
       "stream": "stdout",
       "text": [
        "\r",
        "Loading frame 497 of 769"
       ]
      },
      {
       "output_type": "stream",
       "stream": "stdout",
       "text": [
        "\r",
        "Loading frame 498 of 769"
       ]
      },
      {
       "output_type": "stream",
       "stream": "stdout",
       "text": [
        "\r",
        "Loading frame 499 of 769"
       ]
      },
      {
       "output_type": "stream",
       "stream": "stdout",
       "text": [
        "\r",
        "Loading frame 500 of 769"
       ]
      },
      {
       "output_type": "stream",
       "stream": "stdout",
       "text": [
        "\r",
        "Loading frame 501 of 769"
       ]
      },
      {
       "output_type": "stream",
       "stream": "stdout",
       "text": [
        "\r",
        "Loading frame 502 of 769"
       ]
      },
      {
       "output_type": "stream",
       "stream": "stdout",
       "text": [
        "\r",
        "Loading frame 503 of 769"
       ]
      },
      {
       "output_type": "stream",
       "stream": "stdout",
       "text": [
        "\r",
        "Loading frame 504 of 769"
       ]
      },
      {
       "output_type": "stream",
       "stream": "stdout",
       "text": [
        "\r",
        "Loading frame 505 of 769"
       ]
      },
      {
       "output_type": "stream",
       "stream": "stdout",
       "text": [
        "\r",
        "Loading frame 506 of 769"
       ]
      },
      {
       "output_type": "stream",
       "stream": "stdout",
       "text": [
        "\r",
        "Loading frame 507 of 769"
       ]
      },
      {
       "output_type": "stream",
       "stream": "stdout",
       "text": [
        "\r",
        "Loading frame 508 of 769"
       ]
      },
      {
       "output_type": "stream",
       "stream": "stdout",
       "text": [
        "\r",
        "Loading frame 509 of 769"
       ]
      },
      {
       "output_type": "stream",
       "stream": "stdout",
       "text": [
        "\r",
        "Loading frame 510 of 769"
       ]
      },
      {
       "output_type": "stream",
       "stream": "stdout",
       "text": [
        "\r",
        "Loading frame 511 of 769"
       ]
      },
      {
       "output_type": "stream",
       "stream": "stdout",
       "text": [
        "\r",
        "Loading frame 512 of 769"
       ]
      },
      {
       "output_type": "stream",
       "stream": "stdout",
       "text": [
        "\r",
        "Loading frame 513 of 769"
       ]
      },
      {
       "output_type": "stream",
       "stream": "stdout",
       "text": [
        "\r",
        "Loading frame 514 of 769"
       ]
      },
      {
       "output_type": "stream",
       "stream": "stdout",
       "text": [
        "\r",
        "Loading frame 515 of 769"
       ]
      },
      {
       "output_type": "stream",
       "stream": "stdout",
       "text": [
        "\r",
        "Loading frame 516 of 769"
       ]
      },
      {
       "output_type": "stream",
       "stream": "stdout",
       "text": [
        "\r",
        "Loading frame 517 of 769"
       ]
      },
      {
       "output_type": "stream",
       "stream": "stdout",
       "text": [
        "\r",
        "Loading frame 518 of 769"
       ]
      },
      {
       "output_type": "stream",
       "stream": "stdout",
       "text": [
        "\r",
        "Loading frame 519 of 769"
       ]
      },
      {
       "output_type": "stream",
       "stream": "stdout",
       "text": [
        "\r",
        "Loading frame 520 of 769"
       ]
      },
      {
       "output_type": "stream",
       "stream": "stdout",
       "text": [
        "\r",
        "Loading frame 521 of 769"
       ]
      },
      {
       "output_type": "stream",
       "stream": "stdout",
       "text": [
        "\r",
        "Loading frame 522 of 769"
       ]
      },
      {
       "output_type": "stream",
       "stream": "stdout",
       "text": [
        "\r",
        "Loading frame 523 of 769"
       ]
      },
      {
       "output_type": "stream",
       "stream": "stdout",
       "text": [
        "\r",
        "Loading frame 524 of 769"
       ]
      },
      {
       "output_type": "stream",
       "stream": "stdout",
       "text": [
        "\r",
        "Loading frame 525 of 769"
       ]
      },
      {
       "output_type": "stream",
       "stream": "stdout",
       "text": [
        "\r",
        "Loading frame 526 of 769"
       ]
      },
      {
       "output_type": "stream",
       "stream": "stdout",
       "text": [
        "\r",
        "Loading frame 527 of 769"
       ]
      },
      {
       "output_type": "stream",
       "stream": "stdout",
       "text": [
        "\r",
        "Loading frame 528 of 769"
       ]
      },
      {
       "output_type": "stream",
       "stream": "stdout",
       "text": [
        "\r",
        "Loading frame 529 of 769"
       ]
      },
      {
       "output_type": "stream",
       "stream": "stdout",
       "text": [
        "\r",
        "Loading frame 530 of 769"
       ]
      },
      {
       "output_type": "stream",
       "stream": "stdout",
       "text": [
        "\r",
        "Loading frame 531 of 769"
       ]
      },
      {
       "output_type": "stream",
       "stream": "stdout",
       "text": [
        "\r",
        "Loading frame 532 of 769"
       ]
      },
      {
       "output_type": "stream",
       "stream": "stdout",
       "text": [
        "\r",
        "Loading frame 533 of 769"
       ]
      },
      {
       "output_type": "stream",
       "stream": "stdout",
       "text": [
        "\r",
        "Loading frame 534 of 769"
       ]
      },
      {
       "output_type": "stream",
       "stream": "stdout",
       "text": [
        "\r",
        "Loading frame 535 of 769"
       ]
      },
      {
       "output_type": "stream",
       "stream": "stdout",
       "text": [
        "\r",
        "Loading frame 536 of 769"
       ]
      },
      {
       "output_type": "stream",
       "stream": "stdout",
       "text": [
        "\r",
        "Loading frame 537 of 769"
       ]
      },
      {
       "output_type": "stream",
       "stream": "stdout",
       "text": [
        "\r",
        "Loading frame 538 of 769"
       ]
      },
      {
       "output_type": "stream",
       "stream": "stdout",
       "text": [
        "\r",
        "Loading frame 539 of 769"
       ]
      },
      {
       "output_type": "stream",
       "stream": "stdout",
       "text": [
        "\r",
        "Loading frame 540 of 769"
       ]
      },
      {
       "output_type": "stream",
       "stream": "stdout",
       "text": [
        "\r",
        "Loading frame 541 of 769"
       ]
      },
      {
       "output_type": "stream",
       "stream": "stdout",
       "text": [
        "\r",
        "Loading frame 542 of 769"
       ]
      },
      {
       "output_type": "stream",
       "stream": "stdout",
       "text": [
        "\r",
        "Loading frame 543 of 769"
       ]
      },
      {
       "output_type": "stream",
       "stream": "stdout",
       "text": [
        "\r",
        "Loading frame 544 of 769"
       ]
      },
      {
       "output_type": "stream",
       "stream": "stdout",
       "text": [
        "\r",
        "Loading frame 545 of 769"
       ]
      },
      {
       "output_type": "stream",
       "stream": "stdout",
       "text": [
        "\r",
        "Loading frame 546 of 769"
       ]
      },
      {
       "output_type": "stream",
       "stream": "stdout",
       "text": [
        "\r",
        "Loading frame 547 of 769"
       ]
      },
      {
       "output_type": "stream",
       "stream": "stdout",
       "text": [
        "\r",
        "Loading frame 548 of 769"
       ]
      },
      {
       "output_type": "stream",
       "stream": "stdout",
       "text": [
        "\r",
        "Loading frame 549 of 769"
       ]
      },
      {
       "output_type": "stream",
       "stream": "stdout",
       "text": [
        "\r",
        "Loading frame 550 of 769"
       ]
      },
      {
       "output_type": "stream",
       "stream": "stdout",
       "text": [
        "\r",
        "Loading frame 551 of 769"
       ]
      },
      {
       "output_type": "stream",
       "stream": "stdout",
       "text": [
        "\r",
        "Loading frame 552 of 769"
       ]
      },
      {
       "output_type": "stream",
       "stream": "stdout",
       "text": [
        "\r",
        "Loading frame 553 of 769"
       ]
      },
      {
       "output_type": "stream",
       "stream": "stdout",
       "text": [
        "\r",
        "Loading frame 554 of 769"
       ]
      },
      {
       "output_type": "stream",
       "stream": "stdout",
       "text": [
        "\r",
        "Loading frame 555 of 769"
       ]
      },
      {
       "output_type": "stream",
       "stream": "stdout",
       "text": [
        "\r",
        "Loading frame 556 of 769"
       ]
      },
      {
       "output_type": "stream",
       "stream": "stdout",
       "text": [
        "\r",
        "Loading frame 557 of 769"
       ]
      },
      {
       "output_type": "stream",
       "stream": "stdout",
       "text": [
        "\r",
        "Loading frame 558 of 769"
       ]
      },
      {
       "output_type": "stream",
       "stream": "stdout",
       "text": [
        "\r",
        "Loading frame 559 of 769"
       ]
      },
      {
       "output_type": "stream",
       "stream": "stdout",
       "text": [
        "\r",
        "Loading frame 560 of 769"
       ]
      },
      {
       "output_type": "stream",
       "stream": "stdout",
       "text": [
        "\r",
        "Loading frame 561 of 769"
       ]
      },
      {
       "output_type": "stream",
       "stream": "stdout",
       "text": [
        "\r",
        "Loading frame 562 of 769"
       ]
      },
      {
       "output_type": "stream",
       "stream": "stdout",
       "text": [
        "\r",
        "Loading frame 563 of 769"
       ]
      },
      {
       "output_type": "stream",
       "stream": "stdout",
       "text": [
        "\r",
        "Loading frame 564 of 769"
       ]
      },
      {
       "output_type": "stream",
       "stream": "stdout",
       "text": [
        "\r",
        "Loading frame 565 of 769"
       ]
      },
      {
       "output_type": "stream",
       "stream": "stdout",
       "text": [
        "\r",
        "Loading frame 566 of 769"
       ]
      },
      {
       "output_type": "stream",
       "stream": "stdout",
       "text": [
        "\r",
        "Loading frame 567 of 769"
       ]
      },
      {
       "output_type": "stream",
       "stream": "stdout",
       "text": [
        "\r",
        "Loading frame 568 of 769"
       ]
      },
      {
       "output_type": "stream",
       "stream": "stdout",
       "text": [
        "\r",
        "Loading frame 569 of 769"
       ]
      },
      {
       "output_type": "stream",
       "stream": "stdout",
       "text": [
        "\r",
        "Loading frame 570 of 769"
       ]
      },
      {
       "output_type": "stream",
       "stream": "stdout",
       "text": [
        "\r",
        "Loading frame 571 of 769"
       ]
      },
      {
       "output_type": "stream",
       "stream": "stdout",
       "text": [
        "\r",
        "Loading frame 572 of 769"
       ]
      },
      {
       "output_type": "stream",
       "stream": "stdout",
       "text": [
        "\r",
        "Loading frame 573 of 769"
       ]
      },
      {
       "output_type": "stream",
       "stream": "stdout",
       "text": [
        "\r",
        "Loading frame 574 of 769"
       ]
      },
      {
       "output_type": "stream",
       "stream": "stdout",
       "text": [
        "\r",
        "Loading frame 575 of 769"
       ]
      },
      {
       "output_type": "stream",
       "stream": "stdout",
       "text": [
        "\r",
        "Loading frame 576 of 769"
       ]
      },
      {
       "output_type": "stream",
       "stream": "stdout",
       "text": [
        "\r",
        "Loading frame 577 of 769"
       ]
      },
      {
       "output_type": "stream",
       "stream": "stdout",
       "text": [
        "\r",
        "Loading frame 578 of 769"
       ]
      },
      {
       "output_type": "stream",
       "stream": "stdout",
       "text": [
        "\r",
        "Loading frame 579 of 769"
       ]
      },
      {
       "output_type": "stream",
       "stream": "stdout",
       "text": [
        "\r",
        "Loading frame 580 of 769"
       ]
      },
      {
       "output_type": "stream",
       "stream": "stdout",
       "text": [
        "\r",
        "Loading frame 581 of 769"
       ]
      },
      {
       "output_type": "stream",
       "stream": "stdout",
       "text": [
        "\r",
        "Loading frame 582 of 769"
       ]
      },
      {
       "output_type": "stream",
       "stream": "stdout",
       "text": [
        "\r",
        "Loading frame 583 of 769"
       ]
      },
      {
       "output_type": "stream",
       "stream": "stdout",
       "text": [
        "\r",
        "Loading frame 584 of 769"
       ]
      },
      {
       "output_type": "stream",
       "stream": "stdout",
       "text": [
        "\r",
        "Loading frame 585 of 769"
       ]
      },
      {
       "output_type": "stream",
       "stream": "stdout",
       "text": [
        "\r",
        "Loading frame 586 of 769"
       ]
      },
      {
       "output_type": "stream",
       "stream": "stdout",
       "text": [
        "\r",
        "Loading frame 587 of 769"
       ]
      },
      {
       "output_type": "stream",
       "stream": "stdout",
       "text": [
        "\r",
        "Loading frame 588 of 769"
       ]
      },
      {
       "output_type": "stream",
       "stream": "stdout",
       "text": [
        "\r",
        "Loading frame 589 of 769"
       ]
      },
      {
       "output_type": "stream",
       "stream": "stdout",
       "text": [
        "\r",
        "Loading frame 590 of 769"
       ]
      },
      {
       "output_type": "stream",
       "stream": "stdout",
       "text": [
        "\r",
        "Loading frame 591 of 769"
       ]
      },
      {
       "output_type": "stream",
       "stream": "stdout",
       "text": [
        "\r",
        "Loading frame 592 of 769"
       ]
      },
      {
       "output_type": "stream",
       "stream": "stdout",
       "text": [
        "\r",
        "Loading frame 593 of 769"
       ]
      },
      {
       "output_type": "stream",
       "stream": "stdout",
       "text": [
        "\r",
        "Loading frame 594 of 769"
       ]
      },
      {
       "output_type": "stream",
       "stream": "stdout",
       "text": [
        "\r",
        "Loading frame 595 of 769"
       ]
      },
      {
       "output_type": "stream",
       "stream": "stdout",
       "text": [
        "\r",
        "Loading frame 596 of 769"
       ]
      },
      {
       "output_type": "stream",
       "stream": "stdout",
       "text": [
        "\r",
        "Loading frame 597 of 769"
       ]
      },
      {
       "output_type": "stream",
       "stream": "stdout",
       "text": [
        "\r",
        "Loading frame 598 of 769"
       ]
      },
      {
       "output_type": "stream",
       "stream": "stdout",
       "text": [
        "\r",
        "Loading frame 599 of 769"
       ]
      },
      {
       "output_type": "stream",
       "stream": "stdout",
       "text": [
        "\r",
        "Loading frame 600 of 769"
       ]
      },
      {
       "output_type": "stream",
       "stream": "stdout",
       "text": [
        "\r",
        "Loading frame 601 of 769"
       ]
      },
      {
       "output_type": "stream",
       "stream": "stdout",
       "text": [
        "\r",
        "Loading frame 602 of 769"
       ]
      },
      {
       "output_type": "stream",
       "stream": "stdout",
       "text": [
        "\r",
        "Loading frame 603 of 769"
       ]
      },
      {
       "output_type": "stream",
       "stream": "stdout",
       "text": [
        "\r",
        "Loading frame 604 of 769"
       ]
      },
      {
       "output_type": "stream",
       "stream": "stdout",
       "text": [
        "\r",
        "Loading frame 605 of 769"
       ]
      },
      {
       "output_type": "stream",
       "stream": "stdout",
       "text": [
        "\r",
        "Loading frame 606 of 769"
       ]
      },
      {
       "output_type": "stream",
       "stream": "stdout",
       "text": [
        "\r",
        "Loading frame 607 of 769"
       ]
      },
      {
       "output_type": "stream",
       "stream": "stdout",
       "text": [
        "\r",
        "Loading frame 608 of 769"
       ]
      },
      {
       "output_type": "stream",
       "stream": "stdout",
       "text": [
        "\r",
        "Loading frame 609 of 769"
       ]
      },
      {
       "output_type": "stream",
       "stream": "stdout",
       "text": [
        "\r",
        "Loading frame 610 of 769"
       ]
      },
      {
       "output_type": "stream",
       "stream": "stdout",
       "text": [
        "\r",
        "Loading frame 611 of 769"
       ]
      },
      {
       "output_type": "stream",
       "stream": "stdout",
       "text": [
        "\r",
        "Loading frame 612 of 769"
       ]
      },
      {
       "output_type": "stream",
       "stream": "stdout",
       "text": [
        "\r",
        "Loading frame 613 of 769"
       ]
      },
      {
       "output_type": "stream",
       "stream": "stdout",
       "text": [
        "\r",
        "Loading frame 614 of 769"
       ]
      },
      {
       "output_type": "stream",
       "stream": "stdout",
       "text": [
        "\r",
        "Loading frame 615 of 769"
       ]
      },
      {
       "output_type": "stream",
       "stream": "stdout",
       "text": [
        "\r",
        "Loading frame 616 of 769"
       ]
      },
      {
       "output_type": "stream",
       "stream": "stdout",
       "text": [
        "\r",
        "Loading frame 617 of 769"
       ]
      },
      {
       "output_type": "stream",
       "stream": "stdout",
       "text": [
        "\r",
        "Loading frame 618 of 769"
       ]
      },
      {
       "output_type": "stream",
       "stream": "stdout",
       "text": [
        "\r",
        "Loading frame 619 of 769"
       ]
      },
      {
       "output_type": "stream",
       "stream": "stdout",
       "text": [
        "\r",
        "Loading frame 620 of 769"
       ]
      },
      {
       "output_type": "stream",
       "stream": "stdout",
       "text": [
        "\r",
        "Loading frame 621 of 769"
       ]
      },
      {
       "output_type": "stream",
       "stream": "stdout",
       "text": [
        "\r",
        "Loading frame 622 of 769"
       ]
      },
      {
       "output_type": "stream",
       "stream": "stdout",
       "text": [
        "\r",
        "Loading frame 623 of 769"
       ]
      },
      {
       "output_type": "stream",
       "stream": "stdout",
       "text": [
        "\r",
        "Loading frame 624 of 769"
       ]
      },
      {
       "output_type": "stream",
       "stream": "stdout",
       "text": [
        "\r",
        "Loading frame 625 of 769"
       ]
      },
      {
       "output_type": "stream",
       "stream": "stdout",
       "text": [
        "\r",
        "Loading frame 626 of 769"
       ]
      },
      {
       "output_type": "stream",
       "stream": "stdout",
       "text": [
        "\r",
        "Loading frame 627 of 769"
       ]
      },
      {
       "output_type": "stream",
       "stream": "stdout",
       "text": [
        "\r",
        "Loading frame 628 of 769"
       ]
      },
      {
       "output_type": "stream",
       "stream": "stdout",
       "text": [
        "\r",
        "Loading frame 629 of 769"
       ]
      },
      {
       "output_type": "stream",
       "stream": "stdout",
       "text": [
        "\r",
        "Loading frame 630 of 769"
       ]
      },
      {
       "output_type": "stream",
       "stream": "stdout",
       "text": [
        "\r",
        "Loading frame 631 of 769"
       ]
      },
      {
       "output_type": "stream",
       "stream": "stdout",
       "text": [
        "\r",
        "Loading frame 632 of 769"
       ]
      },
      {
       "output_type": "stream",
       "stream": "stdout",
       "text": [
        "\r",
        "Loading frame 633 of 769"
       ]
      },
      {
       "output_type": "stream",
       "stream": "stdout",
       "text": [
        "\r",
        "Loading frame 634 of 769"
       ]
      },
      {
       "output_type": "stream",
       "stream": "stdout",
       "text": [
        "\r",
        "Loading frame 635 of 769"
       ]
      },
      {
       "output_type": "stream",
       "stream": "stdout",
       "text": [
        "\r",
        "Loading frame 636 of 769"
       ]
      },
      {
       "output_type": "stream",
       "stream": "stdout",
       "text": [
        "\r",
        "Loading frame 637 of 769"
       ]
      },
      {
       "output_type": "stream",
       "stream": "stdout",
       "text": [
        "\r",
        "Loading frame 638 of 769"
       ]
      },
      {
       "output_type": "stream",
       "stream": "stdout",
       "text": [
        "\r",
        "Loading frame 639 of 769"
       ]
      },
      {
       "output_type": "stream",
       "stream": "stdout",
       "text": [
        "\r",
        "Loading frame 640 of 769"
       ]
      },
      {
       "output_type": "stream",
       "stream": "stdout",
       "text": [
        "\r",
        "Loading frame 641 of 769"
       ]
      },
      {
       "output_type": "stream",
       "stream": "stdout",
       "text": [
        "\r",
        "Loading frame 642 of 769"
       ]
      },
      {
       "output_type": "stream",
       "stream": "stdout",
       "text": [
        "\r",
        "Loading frame 643 of 769"
       ]
      },
      {
       "output_type": "stream",
       "stream": "stdout",
       "text": [
        "\r",
        "Loading frame 644 of 769"
       ]
      },
      {
       "output_type": "stream",
       "stream": "stdout",
       "text": [
        "\r",
        "Loading frame 645 of 769"
       ]
      },
      {
       "output_type": "stream",
       "stream": "stdout",
       "text": [
        "\r",
        "Loading frame 646 of 769"
       ]
      },
      {
       "output_type": "stream",
       "stream": "stdout",
       "text": [
        "\r",
        "Loading frame 647 of 769"
       ]
      },
      {
       "output_type": "stream",
       "stream": "stdout",
       "text": [
        "\r",
        "Loading frame 648 of 769"
       ]
      },
      {
       "output_type": "stream",
       "stream": "stdout",
       "text": [
        "\r",
        "Loading frame 649 of 769"
       ]
      },
      {
       "output_type": "stream",
       "stream": "stdout",
       "text": [
        "\r",
        "Loading frame 650 of 769"
       ]
      },
      {
       "output_type": "stream",
       "stream": "stdout",
       "text": [
        "\r",
        "Loading frame 651 of 769"
       ]
      },
      {
       "output_type": "stream",
       "stream": "stdout",
       "text": [
        "\r",
        "Loading frame 652 of 769"
       ]
      },
      {
       "output_type": "stream",
       "stream": "stdout",
       "text": [
        "\r",
        "Loading frame 653 of 769"
       ]
      },
      {
       "output_type": "stream",
       "stream": "stdout",
       "text": [
        "\r",
        "Loading frame 654 of 769"
       ]
      },
      {
       "output_type": "stream",
       "stream": "stdout",
       "text": [
        "\r",
        "Loading frame 655 of 769"
       ]
      },
      {
       "output_type": "stream",
       "stream": "stdout",
       "text": [
        "\r",
        "Loading frame 656 of 769"
       ]
      },
      {
       "output_type": "stream",
       "stream": "stdout",
       "text": [
        "\r",
        "Loading frame 657 of 769"
       ]
      },
      {
       "output_type": "stream",
       "stream": "stdout",
       "text": [
        "\r",
        "Loading frame 658 of 769"
       ]
      },
      {
       "output_type": "stream",
       "stream": "stdout",
       "text": [
        "\r",
        "Loading frame 659 of 769"
       ]
      },
      {
       "output_type": "stream",
       "stream": "stdout",
       "text": [
        "\r",
        "Loading frame 660 of 769"
       ]
      },
      {
       "output_type": "stream",
       "stream": "stdout",
       "text": [
        "\r",
        "Loading frame 661 of 769"
       ]
      },
      {
       "output_type": "stream",
       "stream": "stdout",
       "text": [
        "\r",
        "Loading frame 662 of 769"
       ]
      },
      {
       "output_type": "stream",
       "stream": "stdout",
       "text": [
        "\r",
        "Loading frame 663 of 769"
       ]
      },
      {
       "output_type": "stream",
       "stream": "stdout",
       "text": [
        "\r",
        "Loading frame 664 of 769"
       ]
      },
      {
       "output_type": "stream",
       "stream": "stdout",
       "text": [
        "\r",
        "Loading frame 665 of 769"
       ]
      },
      {
       "output_type": "stream",
       "stream": "stdout",
       "text": [
        "\r",
        "Loading frame 666 of 769"
       ]
      },
      {
       "output_type": "stream",
       "stream": "stdout",
       "text": [
        "\r",
        "Loading frame 667 of 769"
       ]
      },
      {
       "output_type": "stream",
       "stream": "stdout",
       "text": [
        "\r",
        "Loading frame 668 of 769"
       ]
      },
      {
       "output_type": "stream",
       "stream": "stdout",
       "text": [
        "\r",
        "Loading frame 669 of 769"
       ]
      },
      {
       "output_type": "stream",
       "stream": "stdout",
       "text": [
        "\r",
        "Loading frame 670 of 769"
       ]
      },
      {
       "output_type": "stream",
       "stream": "stdout",
       "text": [
        "\r",
        "Loading frame 671 of 769"
       ]
      },
      {
       "output_type": "stream",
       "stream": "stdout",
       "text": [
        "\r",
        "Loading frame 672 of 769"
       ]
      },
      {
       "output_type": "stream",
       "stream": "stdout",
       "text": [
        "\r",
        "Loading frame 673 of 769"
       ]
      },
      {
       "output_type": "stream",
       "stream": "stdout",
       "text": [
        "\r",
        "Loading frame 674 of 769"
       ]
      },
      {
       "output_type": "stream",
       "stream": "stdout",
       "text": [
        "\r",
        "Loading frame 675 of 769"
       ]
      },
      {
       "output_type": "stream",
       "stream": "stdout",
       "text": [
        "\r",
        "Loading frame 676 of 769"
       ]
      },
      {
       "output_type": "stream",
       "stream": "stdout",
       "text": [
        "\r",
        "Loading frame 677 of 769"
       ]
      },
      {
       "output_type": "stream",
       "stream": "stdout",
       "text": [
        "\r",
        "Loading frame 678 of 769"
       ]
      },
      {
       "output_type": "stream",
       "stream": "stdout",
       "text": [
        "\r",
        "Loading frame 679 of 769"
       ]
      },
      {
       "output_type": "stream",
       "stream": "stdout",
       "text": [
        "\r",
        "Loading frame 680 of 769"
       ]
      },
      {
       "output_type": "stream",
       "stream": "stdout",
       "text": [
        "\r",
        "Loading frame 681 of 769"
       ]
      },
      {
       "output_type": "stream",
       "stream": "stdout",
       "text": [
        "\r",
        "Loading frame 682 of 769"
       ]
      },
      {
       "output_type": "stream",
       "stream": "stdout",
       "text": [
        "\r",
        "Loading frame 683 of 769"
       ]
      },
      {
       "output_type": "stream",
       "stream": "stdout",
       "text": [
        "\r",
        "Loading frame 684 of 769"
       ]
      },
      {
       "output_type": "stream",
       "stream": "stdout",
       "text": [
        "\r",
        "Loading frame 685 of 769"
       ]
      },
      {
       "output_type": "stream",
       "stream": "stdout",
       "text": [
        "\r",
        "Loading frame 686 of 769"
       ]
      },
      {
       "output_type": "stream",
       "stream": "stdout",
       "text": [
        "\r",
        "Loading frame 687 of 769"
       ]
      },
      {
       "output_type": "stream",
       "stream": "stdout",
       "text": [
        "\r",
        "Loading frame 688 of 769"
       ]
      },
      {
       "output_type": "stream",
       "stream": "stdout",
       "text": [
        "\r",
        "Loading frame 689 of 769"
       ]
      },
      {
       "output_type": "stream",
       "stream": "stdout",
       "text": [
        "\r",
        "Loading frame 690 of 769"
       ]
      },
      {
       "output_type": "stream",
       "stream": "stdout",
       "text": [
        "\r",
        "Loading frame 691 of 769"
       ]
      },
      {
       "output_type": "stream",
       "stream": "stdout",
       "text": [
        "\r",
        "Loading frame 692 of 769"
       ]
      },
      {
       "output_type": "stream",
       "stream": "stdout",
       "text": [
        "\r",
        "Loading frame 693 of 769"
       ]
      },
      {
       "output_type": "stream",
       "stream": "stdout",
       "text": [
        "\r",
        "Loading frame 694 of 769"
       ]
      },
      {
       "output_type": "stream",
       "stream": "stdout",
       "text": [
        "\r",
        "Loading frame 695 of 769"
       ]
      },
      {
       "output_type": "stream",
       "stream": "stdout",
       "text": [
        "\r",
        "Loading frame 696 of 769"
       ]
      },
      {
       "output_type": "stream",
       "stream": "stdout",
       "text": [
        "\r",
        "Loading frame 697 of 769"
       ]
      },
      {
       "output_type": "stream",
       "stream": "stdout",
       "text": [
        "\r",
        "Loading frame 698 of 769"
       ]
      },
      {
       "output_type": "stream",
       "stream": "stdout",
       "text": [
        "\r",
        "Loading frame 699 of 769"
       ]
      },
      {
       "output_type": "stream",
       "stream": "stdout",
       "text": [
        "\r",
        "Loading frame 700 of 769"
       ]
      },
      {
       "output_type": "stream",
       "stream": "stdout",
       "text": [
        "\r",
        "Loading frame 701 of 769"
       ]
      },
      {
       "output_type": "stream",
       "stream": "stdout",
       "text": [
        "\r",
        "Loading frame 702 of 769"
       ]
      },
      {
       "output_type": "stream",
       "stream": "stdout",
       "text": [
        "\r",
        "Loading frame 703 of 769"
       ]
      },
      {
       "output_type": "stream",
       "stream": "stdout",
       "text": [
        "\r",
        "Loading frame 704 of 769"
       ]
      },
      {
       "output_type": "stream",
       "stream": "stdout",
       "text": [
        "\r",
        "Loading frame 705 of 769"
       ]
      },
      {
       "output_type": "stream",
       "stream": "stdout",
       "text": [
        "\r",
        "Loading frame 706 of 769"
       ]
      },
      {
       "output_type": "stream",
       "stream": "stdout",
       "text": [
        "\r",
        "Loading frame 707 of 769"
       ]
      },
      {
       "output_type": "stream",
       "stream": "stdout",
       "text": [
        "\r",
        "Loading frame 708 of 769"
       ]
      },
      {
       "output_type": "stream",
       "stream": "stdout",
       "text": [
        "\r",
        "Loading frame 709 of 769"
       ]
      },
      {
       "output_type": "stream",
       "stream": "stdout",
       "text": [
        "\r",
        "Loading frame 710 of 769"
       ]
      },
      {
       "output_type": "stream",
       "stream": "stdout",
       "text": [
        "\r",
        "Loading frame 711 of 769"
       ]
      },
      {
       "output_type": "stream",
       "stream": "stdout",
       "text": [
        "\r",
        "Loading frame 712 of 769"
       ]
      },
      {
       "output_type": "stream",
       "stream": "stdout",
       "text": [
        "\r",
        "Loading frame 713 of 769"
       ]
      },
      {
       "output_type": "stream",
       "stream": "stdout",
       "text": [
        "\r",
        "Loading frame 714 of 769"
       ]
      },
      {
       "output_type": "stream",
       "stream": "stdout",
       "text": [
        "\r",
        "Loading frame 715 of 769"
       ]
      },
      {
       "output_type": "stream",
       "stream": "stdout",
       "text": [
        "\r",
        "Loading frame 716 of 769"
       ]
      },
      {
       "output_type": "stream",
       "stream": "stdout",
       "text": [
        "\r",
        "Loading frame 717 of 769"
       ]
      },
      {
       "output_type": "stream",
       "stream": "stdout",
       "text": [
        "\r",
        "Loading frame 718 of 769"
       ]
      },
      {
       "output_type": "stream",
       "stream": "stdout",
       "text": [
        "\r",
        "Loading frame 719 of 769"
       ]
      },
      {
       "output_type": "stream",
       "stream": "stdout",
       "text": [
        "\r",
        "Loading frame 720 of 769"
       ]
      },
      {
       "output_type": "stream",
       "stream": "stdout",
       "text": [
        "\r",
        "Loading frame 721 of 769"
       ]
      },
      {
       "output_type": "stream",
       "stream": "stdout",
       "text": [
        "\r",
        "Loading frame 722 of 769"
       ]
      },
      {
       "output_type": "stream",
       "stream": "stdout",
       "text": [
        "\r",
        "Loading frame 723 of 769"
       ]
      },
      {
       "output_type": "stream",
       "stream": "stdout",
       "text": [
        "\r",
        "Loading frame 724 of 769"
       ]
      },
      {
       "output_type": "stream",
       "stream": "stdout",
       "text": [
        "\r",
        "Loading frame 725 of 769"
       ]
      },
      {
       "output_type": "stream",
       "stream": "stdout",
       "text": [
        "\r",
        "Loading frame 726 of 769"
       ]
      },
      {
       "output_type": "stream",
       "stream": "stdout",
       "text": [
        "\r",
        "Loading frame 727 of 769"
       ]
      },
      {
       "output_type": "stream",
       "stream": "stdout",
       "text": [
        "\r",
        "Loading frame 728 of 769"
       ]
      },
      {
       "output_type": "stream",
       "stream": "stdout",
       "text": [
        "\r",
        "Loading frame 729 of 769"
       ]
      },
      {
       "output_type": "stream",
       "stream": "stdout",
       "text": [
        "\r",
        "Loading frame 730 of 769"
       ]
      },
      {
       "output_type": "stream",
       "stream": "stdout",
       "text": [
        "\r",
        "Loading frame 731 of 769"
       ]
      },
      {
       "output_type": "stream",
       "stream": "stdout",
       "text": [
        "\r",
        "Loading frame 732 of 769"
       ]
      },
      {
       "output_type": "stream",
       "stream": "stdout",
       "text": [
        "\r",
        "Loading frame 733 of 769"
       ]
      },
      {
       "output_type": "stream",
       "stream": "stdout",
       "text": [
        "\r",
        "Loading frame 734 of 769"
       ]
      },
      {
       "output_type": "stream",
       "stream": "stdout",
       "text": [
        "\r",
        "Loading frame 735 of 769"
       ]
      },
      {
       "output_type": "stream",
       "stream": "stdout",
       "text": [
        "\r",
        "Loading frame 736 of 769"
       ]
      },
      {
       "output_type": "stream",
       "stream": "stdout",
       "text": [
        "\r",
        "Loading frame 737 of 769"
       ]
      },
      {
       "output_type": "stream",
       "stream": "stdout",
       "text": [
        "\r",
        "Loading frame 738 of 769"
       ]
      },
      {
       "output_type": "stream",
       "stream": "stdout",
       "text": [
        "\r",
        "Loading frame 739 of 769"
       ]
      },
      {
       "output_type": "stream",
       "stream": "stdout",
       "text": [
        "\r",
        "Loading frame 740 of 769"
       ]
      },
      {
       "output_type": "stream",
       "stream": "stdout",
       "text": [
        "\r",
        "Loading frame 741 of 769"
       ]
      },
      {
       "output_type": "stream",
       "stream": "stdout",
       "text": [
        "\r",
        "Loading frame 742 of 769"
       ]
      },
      {
       "output_type": "stream",
       "stream": "stdout",
       "text": [
        "\r",
        "Loading frame 743 of 769"
       ]
      },
      {
       "output_type": "stream",
       "stream": "stdout",
       "text": [
        "\r",
        "Loading frame 744 of 769"
       ]
      },
      {
       "output_type": "stream",
       "stream": "stdout",
       "text": [
        "\r",
        "Loading frame 745 of 769"
       ]
      },
      {
       "output_type": "stream",
       "stream": "stdout",
       "text": [
        "\r",
        "Loading frame 746 of 769"
       ]
      },
      {
       "output_type": "stream",
       "stream": "stdout",
       "text": [
        "\r",
        "Loading frame 747 of 769"
       ]
      },
      {
       "output_type": "stream",
       "stream": "stdout",
       "text": [
        "\r",
        "Loading frame 748 of 769"
       ]
      },
      {
       "output_type": "stream",
       "stream": "stdout",
       "text": [
        "\r",
        "Loading frame 749 of 769"
       ]
      },
      {
       "output_type": "stream",
       "stream": "stdout",
       "text": [
        "\r",
        "Loading frame 750 of 769"
       ]
      },
      {
       "output_type": "stream",
       "stream": "stdout",
       "text": [
        "\r",
        "Loading frame 751 of 769"
       ]
      },
      {
       "output_type": "stream",
       "stream": "stdout",
       "text": [
        "\r",
        "Loading frame 752 of 769"
       ]
      },
      {
       "output_type": "stream",
       "stream": "stdout",
       "text": [
        "\r",
        "Loading frame 753 of 769"
       ]
      },
      {
       "output_type": "stream",
       "stream": "stdout",
       "text": [
        "\r",
        "Loading frame 754 of 769"
       ]
      },
      {
       "output_type": "stream",
       "stream": "stdout",
       "text": [
        "\r",
        "Loading frame 755 of 769"
       ]
      },
      {
       "output_type": "stream",
       "stream": "stdout",
       "text": [
        "\r",
        "Loading frame 756 of 769"
       ]
      },
      {
       "output_type": "stream",
       "stream": "stdout",
       "text": [
        "\r",
        "Loading frame 757 of 769"
       ]
      },
      {
       "output_type": "stream",
       "stream": "stdout",
       "text": [
        "\r",
        "Loading frame 758 of 769"
       ]
      },
      {
       "output_type": "stream",
       "stream": "stdout",
       "text": [
        "\r",
        "Loading frame 759 of 769"
       ]
      },
      {
       "output_type": "stream",
       "stream": "stdout",
       "text": [
        "\r",
        "Loading frame 760 of 769"
       ]
      },
      {
       "output_type": "stream",
       "stream": "stdout",
       "text": [
        "\r",
        "Loading frame 761 of 769"
       ]
      },
      {
       "output_type": "stream",
       "stream": "stdout",
       "text": [
        "\r",
        "Loading frame 762 of 769"
       ]
      },
      {
       "output_type": "stream",
       "stream": "stdout",
       "text": [
        "\r",
        "Loading frame 763 of 769"
       ]
      },
      {
       "output_type": "stream",
       "stream": "stdout",
       "text": [
        "\r",
        "Loading frame 764 of 769"
       ]
      },
      {
       "output_type": "stream",
       "stream": "stdout",
       "text": [
        "\r",
        "Loading frame 765 of 769"
       ]
      },
      {
       "output_type": "stream",
       "stream": "stdout",
       "text": [
        "\r",
        "Loading frame 766 of 769"
       ]
      },
      {
       "output_type": "stream",
       "stream": "stdout",
       "text": [
        "\r",
        "Loading frame 767 of 769"
       ]
      },
      {
       "output_type": "stream",
       "stream": "stdout",
       "text": [
        "\r",
        "Loading frame 768 of 769"
       ]
      }
     ],
     "prompt_number": 13
    },
    {
     "cell_type": "code",
     "collapsed": false,
     "input": [
      "## plot 2d camera locations\n",
      "fig = plt.figure(figsize=(10, 10))\n",
      "\n",
      "ax = fig.add_subplot(111)\n",
      "\n",
      "ax.plot(cameraLocs2D[::10, 0], cameraLocs2D[::10, 1], marker='o', color='g', ls=' ')\n",
      "\n",
      "ax.set_xlabel('X')\n",
      "ax.set_ylabel('Y')\n",
      "\n",
      "## set axis range\n",
      "ax.set_autoscale_on(False)\n",
      "ax.set_xlim([-40.0,20.0])\n",
      "ax.set_ylim([-40.0,20.0])\n",
      "\n",
      "# plot fitted lines\n",
      "for line in lines : \n",
      "    color = \"#\" + random.choice(colVals) + random.choice(colVals) + random.choice(colVals) + random.choice(colVals) + random.choice(colVals) + random.choice(colVals)\n",
      "    p1 = line[2:4]+200*line[0:2]\n",
      "    p2 = line[2:4]-200*line[0:2]\n",
      "    ax.plot([p1[0], p2[0]], [p1[1], p2[1]], c=color)\n",
      "\n",
      "\n",
      "## plot outliers\n",
      "# ax.plot(cameraLocs2D[np.hstack(outliers), 0], cameraLocs2D[np.hstack(outliers), 1], marker='o', color='r', ls='-')\n",
      "\n",
      "## plot straights\n",
      "for straight in straights :\n",
      "    ax.plot(cameraLocs2D[np.hstack(straight), 0], cameraLocs2D[np.hstack(straight), 1], marker='o', color='r', ls=' ')\n",
      "## plot turns\n",
      "for turn in turns :\n",
      "    ax.plot(cameraLocs2D[np.hstack(turn), 0], cameraLocs2D[np.hstack(turn), 1], marker='o', color='b', ls=' ')\n",
      "# ax.plot(cameraLocs2D[np.hstack(segments[0]), 0], cameraLocs2D[np.hstack(segments[0]), 1], marker='o', color='r', ls=' ')\n",
      "# ax.plot(cameraLocs2D[np.hstack(segments[1]), 0], cameraLocs2D[np.hstack(segments[1]), 1], marker='o', color='y', ls=' ')\n",
      "# ax.plot(cameraLocs2D[np.hstack(segments[2]), 0], cameraLocs2D[np.hstack(segments[2]), 1], marker='o', color='b', ls=' ')\n",
      "\n",
      "plt.show()"
     ],
     "language": "python",
     "metadata": {},
     "outputs": [],
     "prompt_number": 18
    },
    {
     "cell_type": "code",
     "collapsed": false,
     "input": [
      "## visualize frames automatically\n",
      "\n",
      "def _blit_draw(self, artists, bg_cache):\n",
      "    # Handles blitted drawing, which renders only the artists given instead\n",
      "    # of the entire figure.\n",
      "    updated_ax = []\n",
      "    for a in artists:\n",
      "        # If we haven't cached the background for this axes object, do\n",
      "        # so now. This might not always be reliable, but it's an attempt\n",
      "        # to automate the process.\n",
      "        if a.axes not in bg_cache:\n",
      "            # bg_cache[a.axes] = a.figure.canvas.copy_from_bbox(a.axes.bbox)\n",
      "            # change here\n",
      "            bg_cache[a.axes] = a.figure.canvas.copy_from_bbox(a.axes.figure.bbox)\n",
      "        a.axes.draw_artist(a)\n",
      "        updated_ax.append(a.axes)\n",
      "\n",
      "    # After rendering all the needed artists, blit each axes individually.\n",
      "    for ax in set(updated_ax):\n",
      "        # and here\n",
      "        # ax.figure.canvas.blit(ax.bbox)\n",
      "        ax.figure.canvas.blit(ax.figure.bbox)\n",
      "\n",
      "# MONKEY PATCH!!\n",
      "matplotlib.animation.Animation._blit_draw = _blit_draw\n",
      "\n",
      "fig=plt.figure()\n",
      "img = plt.imshow(movie[:, :, frames[0]])\n",
      "img.set_cmap(cm.Greys_r)\n",
      "img.axes.set_axis_off()\n",
      "ax = plt.axes()\n",
      "ttl = ax.text(.5, 1.05, '', transform = ax.transAxes, va='center')\n",
      "\n",
      "def init():\n",
      "    ttl.set_text('')\n",
      "    img.set_data(movie[:, :, frames[0]])\n",
      "    return img, ttl\n",
      "\n",
      "def func(f):\n",
      "    ttl.set_text('Frame ' + str(f))\n",
      "    img.set_data(movie[:, :, frames[f]])\n",
      "    return img, ttl\n",
      "\n",
      "ani = animation.FuncAnimation(fig,func,init_func=init,frames=len(frames),interval=30,blit=True)\n",
      "\n",
      "plt.show()"
     ],
     "language": "python",
     "metadata": {},
     "outputs": [],
     "prompt_number": 100
    },
    {
     "cell_type": "heading",
     "level": 1,
     "metadata": {},
     "source": [
      "From here on there's code for visualizing the data in 3D"
     ]
    },
    {
     "cell_type": "code",
     "collapsed": false,
     "input": [
      "## look for all the 3D lines \n",
      "points3D = cameras[:, 4:7]\n",
      "linesInliers3D = list()\n",
      "## each line in line is a 6D array where first 3 elements give the line direction and last 3 elements give a point on line\n",
      "lines3D = list()\n",
      "while len(points3D) > 1 : # can't find lines with less than 2 points\n",
      "    fittedLine, inliers, bestCameras = ransac(points3D, 1.0, 500)\n",
      "    if len(inliers) > 1 :\n",
      "        line = fitLine3D(cameras[inliers, 4:7])#cv2.fitLine(np.array(cameras[inliers, 4:7], dtype=float32), cv.CV_DIST_L2, 0, 0.01, 0.01)\n",
      "        lines3D.append(line)\n",
      "        linesInliers3D.append(inliers)\n",
      "        points3D = cameras[np.delete(np.arange(0, len(cameras), 1), np.hstack(linesInliers3D)), 4:7]"
     ],
     "language": "python",
     "metadata": {},
     "outputs": [
      {
       "output_type": "stream",
       "stream": "stdout",
       "text": [
        "0 1 2 3 4 5 6 "
       ]
      },
      {
       "output_type": "stream",
       "stream": "stdout",
       "text": [
        "7 8 9 10 11 12 13 "
       ]
      },
      {
       "output_type": "stream",
       "stream": "stdout",
       "text": [
        "14 15 16 17 18 19 20 "
       ]
      },
      {
       "output_type": "stream",
       "stream": "stdout",
       "text": [
        "21 22 23 24 25 26 27 28 "
       ]
      },
      {
       "output_type": "stream",
       "stream": "stdout",
       "text": [
        "29 30 31 32 33 34 35 36 "
       ]
      },
      {
       "output_type": "stream",
       "stream": "stdout",
       "text": [
        "37 38 39 40 41 42 43 "
       ]
      },
      {
       "output_type": "stream",
       "stream": "stdout",
       "text": [
        "44 45 46 47 48 49 50 51 "
       ]
      },
      {
       "output_type": "stream",
       "stream": "stdout",
       "text": [
        "52 53 54 55 56 57 58 "
       ]
      },
      {
       "output_type": "stream",
       "stream": "stdout",
       "text": [
        "59 60 61 62 63 64 65 "
       ]
      },
      {
       "output_type": "stream",
       "stream": "stdout",
       "text": [
        "66 67 68 69 70 71 72 "
       ]
      },
      {
       "output_type": "stream",
       "stream": "stdout",
       "text": [
        "73 74 75 76 77 78 79 80 "
       ]
      },
      {
       "output_type": "stream",
       "stream": "stdout",
       "text": [
        "81 82 83 84 85 86 87 "
       ]
      },
      {
       "output_type": "stream",
       "stream": "stdout",
       "text": [
        "88 89 90 91 92 "
       ]
      },
      {
       "output_type": "stream",
       "stream": "stdout",
       "text": [
        "93 94 95 96 97 98 "
       ]
      },
      {
       "output_type": "stream",
       "stream": "stdout",
       "text": [
        "99 100 101 102 103 104 "
       ]
      },
      {
       "output_type": "stream",
       "stream": "stdout",
       "text": [
        "105 106 107 108 109 110 111 "
       ]
      },
      {
       "output_type": "stream",
       "stream": "stdout",
       "text": [
        "112 113 114 115 116 117 118 119 "
       ]
      },
      {
       "output_type": "stream",
       "stream": "stdout",
       "text": [
        "120 121 122 123 124 125 126 127 "
       ]
      },
      {
       "output_type": "stream",
       "stream": "stdout",
       "text": [
        "128 129 130 131 132 133 134 135 "
       ]
      },
      {
       "output_type": "stream",
       "stream": "stdout",
       "text": [
        "136 137 138 139 140 141 142 143 "
       ]
      },
      {
       "output_type": "stream",
       "stream": "stdout",
       "text": [
        "144 145 146 147 148 149 150 151 "
       ]
      },
      {
       "output_type": "stream",
       "stream": "stdout",
       "text": [
        "152 got same indices\n",
        "153 154 155 156 157 158 159 160 "
       ]
      },
      {
       "output_type": "stream",
       "stream": "stdout",
       "text": [
        "161 162 163 164 165 166 167 168 "
       ]
      },
      {
       "output_type": "stream",
       "stream": "stdout",
       "text": [
        "169 170 171 172 173 174 175 176 "
       ]
      },
      {
       "output_type": "stream",
       "stream": "stdout",
       "text": [
        "177 178 179 180 181 182 183 184 "
       ]
      },
      {
       "output_type": "stream",
       "stream": "stdout",
       "text": [
        "185 186 187 188 189 190 191 192 "
       ]
      },
      {
       "output_type": "stream",
       "stream": "stdout",
       "text": [
        "193 194 195 196 197 198 199 "
       ]
      },
      {
       "output_type": "stream",
       "stream": "stdout",
       "text": [
        "200 201 202 203 204 205 206 207 "
       ]
      },
      {
       "output_type": "stream",
       "stream": "stdout",
       "text": [
        "208 209 210 211 212 213 214 215 "
       ]
      },
      {
       "output_type": "stream",
       "stream": "stdout",
       "text": [
        "216 217 218 219 220 221 222 223 "
       ]
      },
      {
       "output_type": "stream",
       "stream": "stdout",
       "text": [
        "224 225 226 227 228 229 "
       ]
      },
      {
       "output_type": "stream",
       "stream": "stdout",
       "text": [
        "230 231 232 233 234 "
       ]
      },
      {
       "output_type": "stream",
       "stream": "stdout",
       "text": [
        "235 236 237 238 239 240 "
       ]
      },
      {
       "output_type": "stream",
       "stream": "stdout",
       "text": [
        "241 242 243 244 245 246 "
       ]
      },
      {
       "output_type": "stream",
       "stream": "stdout",
       "text": [
        "247 248 249 250 251 252 253 254 "
       ]
      },
      {
       "output_type": "stream",
       "stream": "stdout",
       "text": [
        "255 256 257 258 259 260 261 262 "
       ]
      },
      {
       "output_type": "stream",
       "stream": "stdout",
       "text": [
        "263 264 265 266 267 268 269 270 "
       ]
      },
      {
       "output_type": "stream",
       "stream": "stdout",
       "text": [
        "271 272 273 274 275 276 277 278 "
       ]
      },
      {
       "output_type": "stream",
       "stream": "stdout",
       "text": [
        "279 280 281 282 283 284 285 286 "
       ]
      },
      {
       "output_type": "stream",
       "stream": "stdout",
       "text": [
        "287 288 289 290 291 292 293 294 "
       ]
      },
      {
       "output_type": "stream",
       "stream": "stdout",
       "text": [
        "295 296 297 298 299 300 301 "
       ]
      },
      {
       "output_type": "stream",
       "stream": "stdout",
       "text": [
        "302 303 304 305 306 307 308 309 "
       ]
      },
      {
       "output_type": "stream",
       "stream": "stdout",
       "text": [
        "310 311 312 313 314 315 316 317 "
       ]
      },
      {
       "output_type": "stream",
       "stream": "stdout",
       "text": [
        "318 319 320 321 322 323 324 "
       ]
      },
      {
       "output_type": "stream",
       "stream": "stdout",
       "text": [
        "325 326 327 328 329 330 331 332 "
       ]
      },
      {
       "output_type": "stream",
       "stream": "stdout",
       "text": [
        "333 334 335 336 337 338 339 "
       ]
      },
      {
       "output_type": "stream",
       "stream": "stdout",
       "text": [
        "340 341 342 343 344 345 346 347 "
       ]
      },
      {
       "output_type": "stream",
       "stream": "stdout",
       "text": [
        "348 349 350 351 352 353 354 355 "
       ]
      },
      {
       "output_type": "stream",
       "stream": "stdout",
       "text": [
        "356 357 358 359 360 361 362 363 "
       ]
      },
      {
       "output_type": "stream",
       "stream": "stdout",
       "text": [
        "364 365 366 367 368 369 370 371 "
       ]
      },
      {
       "output_type": "stream",
       "stream": "stdout",
       "text": [
        "372 373 374 375 376 377 "
       ]
      },
      {
       "output_type": "stream",
       "stream": "stdout",
       "text": [
        "378 379 380 381 382 383 "
       ]
      },
      {
       "output_type": "stream",
       "stream": "stdout",
       "text": [
        "384 385 386 387 388 389 "
       ]
      },
      {
       "output_type": "stream",
       "stream": "stdout",
       "text": [
        "390 391 392 393 394 395 "
       ]
      },
      {
       "output_type": "stream",
       "stream": "stdout",
       "text": [
        "396 397 398 399 400 401 402 "
       ]
      },
      {
       "output_type": "stream",
       "stream": "stdout",
       "text": [
        "403 404 405 406 407 408 409 410 "
       ]
      },
      {
       "output_type": "stream",
       "stream": "stdout",
       "text": [
        "411 412 413 414 415 416 417 418 "
       ]
      },
      {
       "output_type": "stream",
       "stream": "stdout",
       "text": [
        "419 420 421 422 423 424 425 "
       ]
      },
      {
       "output_type": "stream",
       "stream": "stdout",
       "text": [
        "426 427 428 429 430 431 432 433 "
       ]
      },
      {
       "output_type": "stream",
       "stream": "stdout",
       "text": [
        "434 435 436 437 438 439 440 "
       ]
      },
      {
       "output_type": "stream",
       "stream": "stdout",
       "text": [
        "441 442 443 444 445 446 447 448 "
       ]
      },
      {
       "output_type": "stream",
       "stream": "stdout",
       "text": [
        "449 450 451 452 453 454 455 456 "
       ]
      },
      {
       "output_type": "stream",
       "stream": "stdout",
       "text": [
        "457 458 459 460 461 462 463 464 "
       ]
      },
      {
       "output_type": "stream",
       "stream": "stdout",
       "text": [
        "465 466 467 468 469 470 471 472 "
       ]
      },
      {
       "output_type": "stream",
       "stream": "stdout",
       "text": [
        "473 474 475 476 477 478 479 480 "
       ]
      },
      {
       "output_type": "stream",
       "stream": "stdout",
       "text": [
        "481 482 483 484 485 486 487 488 "
       ]
      },
      {
       "output_type": "stream",
       "stream": "stdout",
       "text": [
        "489 490 491 492 493 494 495 496 "
       ]
      },
      {
       "output_type": "stream",
       "stream": "stdout",
       "text": [
        "497 498 499\n",
        "0 1 2 3 4 5 6 7 8 9 10 11 12 13 14 15 "
       ]
      },
      {
       "output_type": "stream",
       "stream": "stdout",
       "text": [
        "16 17 18 19 20 21 22 23 24 25 26 27 28 29 30 31 32 33 34 35 36 37 38 39 40 "
       ]
      },
      {
       "output_type": "stream",
       "stream": "stdout",
       "text": [
        "41 42 43 44 45 46 47 48 49 50 51 52 53 54 got same indices\n",
        "55 56 57 58 59 60 61 "
       ]
      },
      {
       "output_type": "stream",
       "stream": "stdout",
       "text": [
        "62 63 64 65 66 67 68 69 70 71 72 73 74 75 76 77 78 79 80 81 "
       ]
      },
      {
       "output_type": "stream",
       "stream": "stdout",
       "text": [
        "82 83 84 85 86 87 88 89 90 91 92 93 94 95 96 97 98 99 100 101 "
       ]
      },
      {
       "output_type": "stream",
       "stream": "stdout",
       "text": [
        "102 103 104 105 106 107 108 109 110 111 112 113 114 115 116 117 118 119 120 121 122 "
       ]
      },
      {
       "output_type": "stream",
       "stream": "stdout",
       "text": [
        "123 124 125 126 127 128 129 130 131 132 133 134 135 136 137 138 139 140 141 142 143 144 145 146 147 "
       ]
      },
      {
       "output_type": "stream",
       "stream": "stdout",
       "text": [
        "148 149 150 151 152 153 154 155 156 157 158 159 160 161 162 163 164 165 166 167 168 169 170 171 172 173 "
       ]
      },
      {
       "output_type": "stream",
       "stream": "stdout",
       "text": [
        "174 175 176 177 178 179 180 181 182 183 184 185 186 187 188 189 190 191 192 193 194 195 196 197 198 199 "
       ]
      },
      {
       "output_type": "stream",
       "stream": "stdout",
       "text": [
        "200 201 202 203 204 205 206 207 208 209 210 211 212 213 214 215 216 217 218 219 220 221 222 223 224 "
       ]
      },
      {
       "output_type": "stream",
       "stream": "stdout",
       "text": [
        "225 226 227 228 229 230 231 232 233 234 235 236 237 238 239 240 241 242 243 244 245 246 247 248 249 250 "
       ]
      },
      {
       "output_type": "stream",
       "stream": "stdout",
       "text": [
        "251 252 253 254 255 256 257 258 259 260 261 262 263 264 265 266 267 268 269 270 271 272 273 274 "
       ]
      },
      {
       "output_type": "stream",
       "stream": "stdout",
       "text": [
        "275 276 277 278 279 280 281 282 283 284 285 286 287 288 289 290 291 292 293 294 295 296 297 298 299 "
       ]
      },
      {
       "output_type": "stream",
       "stream": "stdout",
       "text": [
        "300 301 302 303 304 305 306 307 308 309 310 311 312 313 314 315 316 317 318 319 320 321 322 323 324 325 "
       ]
      },
      {
       "output_type": "stream",
       "stream": "stdout",
       "text": [
        "326 327 328 329 330 331 332 333 334 335 336 337 338 339 340 341 342 343 344 345 346 347 348 349 350 "
       ]
      },
      {
       "output_type": "stream",
       "stream": "stdout",
       "text": [
        "351 352 353 354 355 356 357 358 359 360 361 362 363 364 365 366 367 368 369 370 371 372 373 374 375 got same indices\n",
        "376 377 "
       ]
      },
      {
       "output_type": "stream",
       "stream": "stdout",
       "text": [
        "378 379 380 381 382 383 384 385 386 387 388 389 390 391 392 393 394 395 396 397 398 399 400 401 402 403 "
       ]
      },
      {
       "output_type": "stream",
       "stream": "stdout",
       "text": [
        "404 405 406 407 408 409 410 411 412 413 414 415 416 417 418 419 420 421 422 423 424 425 426 427 428 429 "
       ]
      },
      {
       "output_type": "stream",
       "stream": "stdout",
       "text": [
        "430 431 432 433 434 435 436 437 438 439 440 441 442 443 444 445 446 447 448 449 450 451 452 453 454 "
       ]
      },
      {
       "output_type": "stream",
       "stream": "stdout",
       "text": [
        "455 456 457 458 459 460 461 462 463 464 465 466 467 468 469 470 471 472 473 474 475 476 477 478 479 "
       ]
      },
      {
       "output_type": "stream",
       "stream": "stdout",
       "text": [
        "480 481 482 483 484 485 486 487 488 489 490 491 492 493 494 495 496 497 498 499\n"
       ]
      }
     ],
     "prompt_number": 9
    },
    {
     "cell_type": "code",
     "collapsed": false,
     "input": [
      "## plot found lines and their related camera locations\n",
      "fig = plt.figure(figsize=(10, 10))\n",
      "\n",
      "ax = fig.add_subplot(111, projection='3d')\n",
      "\n",
      "## plot axis centerd at [0, 0, 0]\n",
      "\n",
      "ax.plot3D([0, 10], [0, 0], [0, 0], c='r') # x\n",
      "ax.plot3D([0, 0], [0, 10], [0, 0], c='g') # y\n",
      "ax.plot3D([0, 0], [0, 0], [0, 10], c='b') # z\n",
      "\n",
      "plane = fitPlane(cameras[:, 4:7])\n",
      "tmp = plane[2]\n",
      "plane[2] = plane[1]\n",
      "plane[1] = tmp\n",
      "print plane\n",
      "\n",
      "x_surf=np.arange(-50.0, 60.0, 100.0)                # generate a mesh\n",
      "y_surf=np.arange(-50.0, 60.0, 100.0)\n",
      "x_surf, y_surf = np.meshgrid(x_surf, y_surf)\n",
      "z_surf = np.zeros_like(x_surf) #np.sqrt(x_surf+y_surf)             # ex. function, which depends on x and y\n",
      "print x_surf\n",
      "print y_surf\n",
      "print z_surf\n",
      "surf = np.zeros([3, x_surf.shape[0], x_surf.shape[1]])\n",
      "surf[0] = x_surf\n",
      "surf[1] = y_surf\n",
      "surf[2] = (-x_surf*plane[0] - y_surf*plane[1] + plane[3])/plane[2] #z_surf\n",
      "\n",
      "print (-x_surf*plane[0] - y_surf*plane[1] - plane[3])/plane[2]\n",
      "\n",
      "n = plane[0:3]\n",
      "p = plane[3:6]\n",
      "# p = np.array([0.0, 0.0, 0.0])\n",
      "# n = np.array([0.0, 0.0, 1.0])\n",
      "for i in xrange(0,len(x_surf)) :\n",
      "    for j in xrange(0,len(x_surf)) :\n",
      "        s = surf[:, i, j]\n",
      "#         print s,\n",
      "#         s = s - np.dot(s - p, n)*n\n",
      "#         surf[:, i, j] = s\n",
      "\n",
      "\n",
      "ax.plot_surface(surf[0], surf[1], surf[2], cmap=cm.Blues_r, alpha=0.2);    # plot a 3d surface plot\n",
      "\n",
      "for line, inliers in zip(lines3D, linesInliers3D) : \n",
      "    color = \"#\" + random.choice(colVals) + random.choice(colVals) + random.choice(colVals) + random.choice(colVals) + random.choice(colVals) + random.choice(colVals)\n",
      "    p1 = line[3:6]+200*line[0:3]\n",
      "    p2 = line[3:6]-200*line[0:3]\n",
      "    ax.plot3D([p1[0], p2[0]], [p1[1], p2[1]], [p1[2], p2[2]], c=color, zdir='y')\n",
      "    # cq is camera quaternion, cc is camera center\n",
      "    count = 0\n",
      "    for cq, cc in zip(cameras[inliers, 0:4], cameras[inliers, 4:7]):\n",
      "        if np.mod(count, 10) == 0 :\n",
      "            rotation = qToR(cq).T # take transpose of result of qToR\n",
      "            transf = np.hstack([np.array(np.vstack([rotation, np.zeros(3)])), np.array(([cc[0]], [cc[1]], [cc[2]], [1]))]) # 4x4 transformation matrix\n",
      "            tmp = np.dot(transf, ([0.0], [0.0],[0.5],[1.0]))\n",
      "            ax.scatter3D(cc[0], cc[1], cc[2], c=color, marker='o', zdir='y')\n",
      "            ax.plot3D([cc[0], tmp[0]], [cc[1], tmp[1]], [cc[2], tmp[2]], c='r', zdir='y')\n",
      "        count += 1\n",
      "\n",
      "ax.set_xlabel('X')\n",
      "ax.set_ylabel('Y')\n",
      "ax.set_zlabel('Z')\n",
      "\n",
      "## set axis range\n",
      "ax.set_autoscale_on(False)\n",
      "ax.set_xlim([-20.0,20.0])\n",
      "ax.set_ylim([-20.0,20.0])\n",
      "ax.set_zlim([-20.0,20.0])\n",
      "\n",
      "plt.show()"
     ],
     "language": "python",
     "metadata": {},
     "outputs": [
      {
       "output_type": "stream",
       "stream": "stdout",
       "text": [
        "[[  7.21053016e-01   3.50059119e-04   6.92119674e-01  -3.24466050e-02]\n",
        " [ -6.90751937e-01  -1.78173219e-03   7.21716828e-01   4.45354510e-02]\n",
        " [  5.40610428e-02  -1.13074358e-01  -9.75567934e-03   9.92066742e-01]\n",
        " [ -4.65966390e-03  -9.93584869e-01   5.98780011e-05  -1.12992882e-01]]\n",
        "[ -4.65966390e-03  -9.93584869e-01   5.98780011e-05  -1.12992882e-01]\n",
        "-0.112992882281\n",
        "la 0.112763325489\n",
        "[ -4.65966390e-03   5.98780011e-05  -9.93584869e-01  -1.12992882e-01]\n",
        "[[-50.  50.]\n",
        " [-50.  50.]]\n",
        "[[-50. -50.]\n",
        " [ 50.  50.]]\n",
        "[[ 0.  0.]\n",
        " [ 0.  0.]]\n",
        "[[ 0.11775181 -0.35122312]\n",
        " [ 0.12377827 -0.34519666]]\n"
       ]
      }
     ],
     "prompt_number": 109
    },
    {
     "cell_type": "code",
     "collapsed": false,
     "input": [
      "fittedLine, inliers, bestCameras = ransac(cameras[:, 4:7], 1.0, 1000)\n",
      "print \"best cameras:\", bestCameras, \"#inliers:\", len(inliers)\n",
      "\n",
      "\n",
      "## plot points and fitted line\n",
      "fig = plt.figure(figsize=(10, 10))\n",
      "\n",
      "ax = fig.add_subplot(111, projection='3d')\n",
      "# cq is camera quaternion, cc is camera center\n",
      "count = 0\n",
      "for cq, cc in zip(cameras[:, 0:4], cameras[:, 4:7]):\n",
      "    if np.mod(count, 10) == 0 :\n",
      "        rotation = qToR(cq).T # take transpose of result of qToR\n",
      "        transf = np.hstack([np.array(np.vstack([rotation, np.zeros(3)])), np.array(([cc[0]], [cc[1]], [cc[2]], [1]))]) # 4x4 transformation matrix\n",
      "        tmp = np.dot(transf, ([0.0], [0.0],[0.5],[1.0]))\n",
      "        if count in inliers :\n",
      "            ax.scatter3D(cc[0], cc[1], cc[2], c='b', marker='x')\n",
      "        else :\n",
      "            ax.scatter3D(cc[0], cc[1], cc[2], c='g', marker='x')\n",
      "        ax.plot3D([cc[0], tmp[0]], [cc[1], tmp[1]], [cc[2], tmp[2]], c='r')\n",
      "    count += 1\n",
      "\n",
      "ax.set_xlabel('X')\n",
      "ax.set_ylabel('Y')\n",
      "ax.set_zlabel('Z')\n",
      "\n",
      "## set axis range\n",
      "ax.set_autoscale_on(False)\n",
      "ax.set_xlim([-40.0,0.0])\n",
      "ax.set_ylim([-40.0,40.0])\n",
      "ax.set_zlim([-40.0,0.0])\n",
      "        \n",
      "# plot fitted line\n",
      "p1 = fittedLine[0, :]+70*fittedLine[1,:]\n",
      "p2 = fittedLine[0, :]-70*fittedLine[1,:]\n",
      "\n",
      "ax.plot3D([p1[0], p2[0]], [p1[1], p2[1]], [p1[2], p2[2]], c='b')\n",
      "\n",
      "plt.show()"
     ],
     "language": "python",
     "metadata": {},
     "outputs": [
      {
       "output_type": "stream",
       "stream": "stdout",
       "text": [
        "0 1 2 3 4 5 6 "
       ]
      },
      {
       "output_type": "stream",
       "stream": "stdout",
       "text": [
        "7 8 9 10 11 12 13 "
       ]
      },
      {
       "output_type": "stream",
       "stream": "stdout",
       "text": [
        "14 15 16 17 18 19 20 "
       ]
      },
      {
       "output_type": "stream",
       "stream": "stdout",
       "text": [
        "21 22 23 24 25 26 27 "
       ]
      },
      {
       "output_type": "stream",
       "stream": "stdout",
       "text": [
        "28 29 30 31 32 33 34 "
       ]
      },
      {
       "output_type": "stream",
       "stream": "stdout",
       "text": [
        "35 36 37 38 39 40 41 "
       ]
      },
      {
       "output_type": "stream",
       "stream": "stdout",
       "text": [
        "42 43 44 45 46 47 48 49 "
       ]
      },
      {
       "output_type": "stream",
       "stream": "stdout",
       "text": [
        "50 51 52 53 54 55 56 "
       ]
      },
      {
       "output_type": "stream",
       "stream": "stdout",
       "text": [
        "57 58 59 60 61 62 63 "
       ]
      },
      {
       "output_type": "stream",
       "stream": "stdout",
       "text": [
        "64 65 66 67 68 69 70 "
       ]
      },
      {
       "output_type": "stream",
       "stream": "stdout",
       "text": [
        "71 72 73 74 75 76 77 "
       ]
      },
      {
       "output_type": "stream",
       "stream": "stdout",
       "text": [
        "78 79 80 81 82 83 84 "
       ]
      },
      {
       "output_type": "stream",
       "stream": "stdout",
       "text": [
        "85 86 87 88 89 90 91 92 "
       ]
      },
      {
       "output_type": "stream",
       "stream": "stdout",
       "text": [
        "93 94 95 96 97 98 99 100 "
       ]
      },
      {
       "output_type": "stream",
       "stream": "stdout",
       "text": [
        "101 102 103 104 105 106 107 "
       ]
      },
      {
       "output_type": "stream",
       "stream": "stdout",
       "text": [
        "108 109 110 111 112 113 114 "
       ]
      },
      {
       "output_type": "stream",
       "stream": "stdout",
       "text": [
        "115 116 117 118 119 120 121 "
       ]
      },
      {
       "output_type": "stream",
       "stream": "stdout",
       "text": [
        "122 123 124 125 126 127 128 "
       ]
      },
      {
       "output_type": "stream",
       "stream": "stdout",
       "text": [
        "129 130 131 132 133 134 135 136 "
       ]
      },
      {
       "output_type": "stream",
       "stream": "stdout",
       "text": [
        "137 138 139 140 141 142 143 144 "
       ]
      },
      {
       "output_type": "stream",
       "stream": "stdout",
       "text": [
        "145 146 147 148 149 150 151 "
       ]
      },
      {
       "output_type": "stream",
       "stream": "stdout",
       "text": [
        "152 153 154 155 156 157 158 159 "
       ]
      },
      {
       "output_type": "stream",
       "stream": "stdout",
       "text": [
        "160 161 162 163 164 165 166 167 "
       ]
      },
      {
       "output_type": "stream",
       "stream": "stdout",
       "text": [
        "168 169 170 171 172 173 174 "
       ]
      },
      {
       "output_type": "stream",
       "stream": "stdout",
       "text": [
        "175 176 177 178 179 180 181 "
       ]
      },
      {
       "output_type": "stream",
       "stream": "stdout",
       "text": [
        "182 183 184 185 186 187 188 "
       ]
      },
      {
       "output_type": "stream",
       "stream": "stdout",
       "text": [
        "189 190 191 192 193 194 195 196 "
       ]
      },
      {
       "output_type": "stream",
       "stream": "stdout",
       "text": [
        "197 198 199 200 201 202 203 "
       ]
      },
      {
       "output_type": "stream",
       "stream": "stdout",
       "text": [
        "204 205 206 207 208 209 210 "
       ]
      },
      {
       "output_type": "stream",
       "stream": "stdout",
       "text": [
        "211 212 213 214 215 216 217 "
       ]
      },
      {
       "output_type": "stream",
       "stream": "stdout",
       "text": [
        "218 219 220 221 222 223 224 "
       ]
      },
      {
       "output_type": "stream",
       "stream": "stdout",
       "text": [
        "225 226 227 228 229 230 231 "
       ]
      },
      {
       "output_type": "stream",
       "stream": "stdout",
       "text": [
        "232 233 234 235 236 237 238 "
       ]
      },
      {
       "output_type": "stream",
       "stream": "stdout",
       "text": [
        "239 240 241 242 243 244 245 "
       ]
      },
      {
       "output_type": "stream",
       "stream": "stdout",
       "text": [
        "246 247 248 249 250 251 252 253 "
       ]
      },
      {
       "output_type": "stream",
       "stream": "stdout",
       "text": [
        "254 255 256 257 258 259 260 261 "
       ]
      },
      {
       "output_type": "stream",
       "stream": "stdout",
       "text": [
        "262 263 264 265 266 267 268 "
       ]
      },
      {
       "output_type": "stream",
       "stream": "stdout",
       "text": [
        "269 270 271 272 273 274 275 "
       ]
      },
      {
       "output_type": "stream",
       "stream": "stdout",
       "text": [
        "276 277 278 279 280 281 282 "
       ]
      },
      {
       "output_type": "stream",
       "stream": "stdout",
       "text": [
        "283 284 285 286 287 288 289 "
       ]
      },
      {
       "output_type": "stream",
       "stream": "stdout",
       "text": [
        "290 291 292 293 294 295 296 "
       ]
      },
      {
       "output_type": "stream",
       "stream": "stdout",
       "text": [
        "297 298 299 300 301 302 303 "
       ]
      },
      {
       "output_type": "stream",
       "stream": "stdout",
       "text": [
        "304 got same indices\n",
        "305 306 307 308 309 310 311 "
       ]
      },
      {
       "output_type": "stream",
       "stream": "stdout",
       "text": [
        "312 313 314 315 316 317 318 "
       ]
      },
      {
       "output_type": "stream",
       "stream": "stdout",
       "text": [
        "319 320 321 322 323 324 325 "
       ]
      },
      {
       "output_type": "stream",
       "stream": "stdout",
       "text": [
        "326 327 328 329 330 331 332 "
       ]
      },
      {
       "output_type": "stream",
       "stream": "stdout",
       "text": [
        "333 334 335 336 337 338 339 "
       ]
      },
      {
       "output_type": "stream",
       "stream": "stdout",
       "text": [
        "340 341 342 343 344 345 346 "
       ]
      },
      {
       "output_type": "stream",
       "stream": "stdout",
       "text": [
        "347 348 349 350 351 352 353 "
       ]
      },
      {
       "output_type": "stream",
       "stream": "stdout",
       "text": [
        "354 355 356 357 358 359 360 "
       ]
      },
      {
       "output_type": "stream",
       "stream": "stdout",
       "text": [
        "361 362 363 364 365 366 367 368 "
       ]
      },
      {
       "output_type": "stream",
       "stream": "stdout",
       "text": [
        "369 370 371 372 373 374 375 376 "
       ]
      },
      {
       "output_type": "stream",
       "stream": "stdout",
       "text": [
        "377 378 379 380 381 382 383 384 "
       ]
      },
      {
       "output_type": "stream",
       "stream": "stdout",
       "text": [
        "385 386 387 388 389 390 391 "
       ]
      },
      {
       "output_type": "stream",
       "stream": "stdout",
       "text": [
        "392 393 394 395 396 397 398 "
       ]
      },
      {
       "output_type": "stream",
       "stream": "stdout",
       "text": [
        "399 400 401 402 403 404 405 406 "
       ]
      },
      {
       "output_type": "stream",
       "stream": "stdout",
       "text": [
        "407 408 409 410 411 412 413 414 "
       ]
      },
      {
       "output_type": "stream",
       "stream": "stdout",
       "text": [
        "415 416 417 418 419 420 421 "
       ]
      },
      {
       "output_type": "stream",
       "stream": "stdout",
       "text": [
        "422 423 424 425 426 427 428 429 "
       ]
      },
      {
       "output_type": "stream",
       "stream": "stdout",
       "text": [
        "430 431 432 433 434 435 436 "
       ]
      },
      {
       "output_type": "stream",
       "stream": "stdout",
       "text": [
        "437 438 439 440 441 442 443 444 "
       ]
      },
      {
       "output_type": "stream",
       "stream": "stdout",
       "text": [
        "445 446 447 448 449 450 451 "
       ]
      },
      {
       "output_type": "stream",
       "stream": "stdout",
       "text": [
        "452 453 454 455 456 457 458 "
       ]
      },
      {
       "output_type": "stream",
       "stream": "stdout",
       "text": [
        "459 460 461 462 463 464 465 "
       ]
      },
      {
       "output_type": "stream",
       "stream": "stdout",
       "text": [
        "466 467 468 469 470 471 472 "
       ]
      },
      {
       "output_type": "stream",
       "stream": "stdout",
       "text": [
        "473 474 475 476 477 478 479 480 "
       ]
      },
      {
       "output_type": "stream",
       "stream": "stdout",
       "text": [
        "481 482 483 484 485 486 487 "
       ]
      },
      {
       "output_type": "stream",
       "stream": "stdout",
       "text": [
        "488 489 490 491 492 493 494 495 "
       ]
      },
      {
       "output_type": "stream",
       "stream": "stdout",
       "text": [
        "496 497 498 499 500 501 502 503 "
       ]
      },
      {
       "output_type": "stream",
       "stream": "stdout",
       "text": [
        "504 505 506 507 508 509 510 511 "
       ]
      },
      {
       "output_type": "stream",
       "stream": "stdout",
       "text": [
        "512 513 514 515 516 517 518 519 "
       ]
      },
      {
       "output_type": "stream",
       "stream": "stdout",
       "text": [
        "520 521 522 523 524 525 526 "
       ]
      },
      {
       "output_type": "stream",
       "stream": "stdout",
       "text": [
        "527 528 529 530 531 532 533 "
       ]
      },
      {
       "output_type": "stream",
       "stream": "stdout",
       "text": [
        "534 535 536 537 538 539 540 "
       ]
      },
      {
       "output_type": "stream",
       "stream": "stdout",
       "text": [
        "541 542 543 544 545 546 547 "
       ]
      },
      {
       "output_type": "stream",
       "stream": "stdout",
       "text": [
        "548 549 550 551 552 553 554 "
       ]
      },
      {
       "output_type": "stream",
       "stream": "stdout",
       "text": [
        "555 556 557 558 559 560 561 562 "
       ]
      },
      {
       "output_type": "stream",
       "stream": "stdout",
       "text": [
        "563 564 565 566 567 568 569 "
       ]
      },
      {
       "output_type": "stream",
       "stream": "stdout",
       "text": [
        "570 571 572 573 574 575 576 577 "
       ]
      },
      {
       "output_type": "stream",
       "stream": "stdout",
       "text": [
        "578 579 580 581 582 583 584 "
       ]
      },
      {
       "output_type": "stream",
       "stream": "stdout",
       "text": [
        "585 586 587 588 589 590 591 "
       ]
      },
      {
       "output_type": "stream",
       "stream": "stdout",
       "text": [
        "592 593 594 595 596 597 598 599 "
       ]
      },
      {
       "output_type": "stream",
       "stream": "stdout",
       "text": [
        "600 601 602 603 604 605 606 607 "
       ]
      },
      {
       "output_type": "stream",
       "stream": "stdout",
       "text": [
        "608 609 610 611 612 613 614 "
       ]
      },
      {
       "output_type": "stream",
       "stream": "stdout",
       "text": [
        "615 616 617 618 619 620 621 622 "
       ]
      },
      {
       "output_type": "stream",
       "stream": "stdout",
       "text": [
        "623 624 625 626 627 628 629 630 "
       ]
      },
      {
       "output_type": "stream",
       "stream": "stdout",
       "text": [
        "631 632 633 634 635 636 637 638 "
       ]
      },
      {
       "output_type": "stream",
       "stream": "stdout",
       "text": [
        "639 640 641 642 643 644 645 646 "
       ]
      },
      {
       "output_type": "stream",
       "stream": "stdout",
       "text": [
        "647 648 649 650 651 652 653 654 "
       ]
      },
      {
       "output_type": "stream",
       "stream": "stdout",
       "text": [
        "655 656 657 658 659 660 661 662 "
       ]
      },
      {
       "output_type": "stream",
       "stream": "stdout",
       "text": [
        "663 664 665 666 667 668 669 670 "
       ]
      },
      {
       "output_type": "stream",
       "stream": "stdout",
       "text": [
        "671 672 673 674 675 676 677 678 "
       ]
      },
      {
       "output_type": "stream",
       "stream": "stdout",
       "text": [
        "679 680 681 682 683 684 685 "
       ]
      },
      {
       "output_type": "stream",
       "stream": "stdout",
       "text": [
        "686 687 688 689 690 691 692 "
       ]
      },
      {
       "output_type": "stream",
       "stream": "stdout",
       "text": [
        "693 694 695 696 697 698 699 700 "
       ]
      },
      {
       "output_type": "stream",
       "stream": "stdout",
       "text": [
        "701 702 703 704 705 706 707 "
       ]
      },
      {
       "output_type": "stream",
       "stream": "stdout",
       "text": [
        "708 709 710 711 712 713 714 715 "
       ]
      },
      {
       "output_type": "stream",
       "stream": "stdout",
       "text": [
        "716 717 718 719 720 721 722 "
       ]
      },
      {
       "output_type": "stream",
       "stream": "stdout",
       "text": [
        "723 724 725 726 727 728 729 730 "
       ]
      },
      {
       "output_type": "stream",
       "stream": "stdout",
       "text": [
        "731 732 733 734 735 736 737 "
       ]
      },
      {
       "output_type": "stream",
       "stream": "stdout",
       "text": [
        "738 739 740 741 742 743 744 "
       ]
      },
      {
       "output_type": "stream",
       "stream": "stdout",
       "text": [
        "745 746 747 748 749 750 751 "
       ]
      },
      {
       "output_type": "stream",
       "stream": "stdout",
       "text": [
        "752 753 754 755 756 757 758 "
       ]
      },
      {
       "output_type": "stream",
       "stream": "stdout",
       "text": [
        "759 760 761 762 763 764 765 "
       ]
      },
      {
       "output_type": "stream",
       "stream": "stdout",
       "text": [
        "766 767 768 769 770 771 772 773 "
       ]
      },
      {
       "output_type": "stream",
       "stream": "stdout",
       "text": [
        "774 775 776 777 778 779 780 781 "
       ]
      },
      {
       "output_type": "stream",
       "stream": "stdout",
       "text": [
        "782 783 784 785 786 787 788 789 "
       ]
      },
      {
       "output_type": "stream",
       "stream": "stdout",
       "text": [
        "790 791 792 793 794 795 796 797 "
       ]
      },
      {
       "output_type": "stream",
       "stream": "stdout",
       "text": [
        "798 799 800 801 802 803 804 805 "
       ]
      },
      {
       "output_type": "stream",
       "stream": "stdout",
       "text": [
        "806 807 808 809 810 811 812 813 "
       ]
      },
      {
       "output_type": "stream",
       "stream": "stdout",
       "text": [
        "814 815 816 817 818 819 820 821 "
       ]
      },
      {
       "output_type": "stream",
       "stream": "stdout",
       "text": [
        "822 823 824 825 826 827 828 829 "
       ]
      },
      {
       "output_type": "stream",
       "stream": "stdout",
       "text": [
        "830 831 832 833 834 835 836 "
       ]
      },
      {
       "output_type": "stream",
       "stream": "stdout",
       "text": [
        "837 838 839 840 841 842 843 "
       ]
      },
      {
       "output_type": "stream",
       "stream": "stdout",
       "text": [
        "844 845 846 847 848 849 850 "
       ]
      },
      {
       "output_type": "stream",
       "stream": "stdout",
       "text": [
        "851 852 853 854 855 856 857 "
       ]
      },
      {
       "output_type": "stream",
       "stream": "stdout",
       "text": [
        "858 859 860 861 862 863 864 "
       ]
      },
      {
       "output_type": "stream",
       "stream": "stdout",
       "text": [
        "865 866 867 868 869 870 871 872 "
       ]
      },
      {
       "output_type": "stream",
       "stream": "stdout",
       "text": [
        "873 874 875 876 877 878 879 "
       ]
      },
      {
       "output_type": "stream",
       "stream": "stdout",
       "text": [
        "880 881 882 883 884 885 886 "
       ]
      },
      {
       "output_type": "stream",
       "stream": "stdout",
       "text": [
        "887 888 889 890 891 892 893 "
       ]
      },
      {
       "output_type": "stream",
       "stream": "stdout",
       "text": [
        "894 895 896 897 898 899 900 "
       ]
      },
      {
       "output_type": "stream",
       "stream": "stdout",
       "text": [
        "901 902 903 904 905 906 907 "
       ]
      },
      {
       "output_type": "stream",
       "stream": "stdout",
       "text": [
        "908 909 910 911 912 913 914 "
       ]
      },
      {
       "output_type": "stream",
       "stream": "stdout",
       "text": [
        "915 916 917 918 919 920 921 "
       ]
      },
      {
       "output_type": "stream",
       "stream": "stdout",
       "text": [
        "922 923 924 925 926 927 928 "
       ]
      },
      {
       "output_type": "stream",
       "stream": "stdout",
       "text": [
        "929 930 931 932 933 934 935 "
       ]
      },
      {
       "output_type": "stream",
       "stream": "stdout",
       "text": [
        "936 937 938 939 940 941 942 "
       ]
      },
      {
       "output_type": "stream",
       "stream": "stdout",
       "text": [
        "943 944 945 946 947 948 949 "
       ]
      },
      {
       "output_type": "stream",
       "stream": "stdout",
       "text": [
        "950 951 952 953 954 955 956 "
       ]
      },
      {
       "output_type": "stream",
       "stream": "stdout",
       "text": [
        "957 958 959 960 961 962 963 "
       ]
      },
      {
       "output_type": "stream",
       "stream": "stdout",
       "text": [
        "964 965 966 967 968 969 970 "
       ]
      },
      {
       "output_type": "stream",
       "stream": "stdout",
       "text": [
        "971 972 973 974 975 976 977 "
       ]
      },
      {
       "output_type": "stream",
       "stream": "stdout",
       "text": [
        "978 979 980 981 982 983 984 "
       ]
      },
      {
       "output_type": "stream",
       "stream": "stdout",
       "text": [
        "985 986 987 988 989 990 991 "
       ]
      },
      {
       "output_type": "stream",
       "stream": "stdout",
       "text": [
        "992 993 994 995 996 997 998 "
       ]
      },
      {
       "ename": "IndexError",
       "evalue": "too many indices",
       "output_type": "pyerr",
       "traceback": [
        "\u001b[0;31m---------------------------------------------------------------------------\u001b[0m\n\u001b[0;31mIndexError\u001b[0m                                Traceback (most recent call last)",
        "\u001b[0;32m<ipython-input-46-63efcd6ae150>\u001b[0m in \u001b[0;36m<module>\u001b[0;34m()\u001b[0m\n\u001b[1;32m     32\u001b[0m \u001b[0;34m\u001b[0m\u001b[0m\n\u001b[1;32m     33\u001b[0m \u001b[0;31m# plot fitted line\u001b[0m\u001b[0;34m\u001b[0m\u001b[0;34m\u001b[0m\u001b[0m\n\u001b[0;32m---> 34\u001b[0;31m \u001b[0mp1\u001b[0m \u001b[0;34m=\u001b[0m \u001b[0mfittedLine\u001b[0m\u001b[0;34m[\u001b[0m\u001b[0;36m0\u001b[0m\u001b[0;34m,\u001b[0m \u001b[0;34m:\u001b[0m\u001b[0;34m]\u001b[0m\u001b[0;34m+\u001b[0m\u001b[0;36m70\u001b[0m\u001b[0;34m*\u001b[0m\u001b[0mfittedLine\u001b[0m\u001b[0;34m[\u001b[0m\u001b[0;36m1\u001b[0m\u001b[0;34m,\u001b[0m\u001b[0;34m:\u001b[0m\u001b[0;34m]\u001b[0m\u001b[0;34m\u001b[0m\u001b[0m\n\u001b[0m\u001b[1;32m     35\u001b[0m \u001b[0mp2\u001b[0m \u001b[0;34m=\u001b[0m \u001b[0mfittedLine\u001b[0m\u001b[0;34m[\u001b[0m\u001b[0;36m0\u001b[0m\u001b[0;34m,\u001b[0m \u001b[0;34m:\u001b[0m\u001b[0;34m]\u001b[0m\u001b[0;34m-\u001b[0m\u001b[0;36m70\u001b[0m\u001b[0;34m*\u001b[0m\u001b[0mfittedLine\u001b[0m\u001b[0;34m[\u001b[0m\u001b[0;36m1\u001b[0m\u001b[0;34m,\u001b[0m\u001b[0;34m:\u001b[0m\u001b[0;34m]\u001b[0m\u001b[0;34m\u001b[0m\u001b[0m\n\u001b[1;32m     36\u001b[0m \u001b[0;34m\u001b[0m\u001b[0m\n",
        "\u001b[0;31mIndexError\u001b[0m: too many indices"
       ]
      },
      {
       "output_type": "stream",
       "stream": "stdout",
       "text": [
        "999\n",
        "best cameras: [ 236.  530.] #inliers: 554\n"
       ]
      }
     ],
     "prompt_number": 46
    },
    {
     "cell_type": "code",
     "collapsed": false,
     "input": [
      "values = np.array(cameraLocs2D[segments[0], :])\n",
      "\n",
      "## fit line\n",
      "A = np.hstack((values, np.ones([len(values), 1])))\n",
      "print A.shape\n",
      "\n",
      "U, S, V = np.linalg.svd(A)\n",
      "\n",
      "# print U.shape, S.shape, V.shape\n",
      "\n",
      "# print S\n",
      "print V\n",
      "\n",
      "params = V.T[:, len(V)-1]\n",
      "print params\n",
      "\n",
      "a = np.array([0, -params[2]/params[1]])\n",
      "b = np.array([-params[2]/params[0], 0])\n",
      "\n",
      "\n",
      "######\n",
      "# A = np.hstack((np.reshape(values[:, 0],[len(values), 1]), np.ones([len(values), 1])))\n",
      "# print A.shape\n",
      "\n",
      "# params = np.dot(np.linalg.pinv(A), np.reshape(values[:, 1],[len(values), 1]))\n",
      "# print params\n",
      "\n",
      "# a = np.array([0, params[1]])\n",
      "# b = np.array([-params[1]/params[0], 0])\n",
      "\n",
      "######\n",
      "\n",
      "\n",
      "\n",
      "v = a - b\n",
      "n = v / np.linalg.norm(v)\n",
      "print n\n",
      "\n",
      "p1 = a+70*n\n",
      "p2 = a-70*n\n",
      "\n",
      "print p1, p2\n",
      "\n",
      "fig = plt.figure(figsize=(10, 10))\n",
      "\n",
      "ax = fig.add_subplot(111)\n",
      "\n",
      "ax.plot([p1[0], p2[0]], [p1[1], p2[1]], marker='o', color='g', ls='-')\n",
      "\n",
      "ax.plot(values[:, 0], values[:, 1], marker='o', color='r', ls='-')\n",
      "\n",
      "ax.set_xlabel('X')\n",
      "ax.set_ylabel('Y')\n",
      "\n",
      "## set axis range\n",
      "ax.set_autoscale_on(False)\n",
      "ax.set_xlim([-80.0,50.0])\n",
      "ax.set_ylim([-80.0,50.0])\n",
      "\n",
      "\n",
      "n1 = np.array([params[0]/params[2],params[1]/params[2]])\n",
      "\n",
      "p3 = a+70*n1\n",
      "p4 = a-70*n1 \n",
      "\n",
      "print 'la', p3, p4\n",
      "\n",
      "ax.plot([p3[0], p4[0]], [p3[1], p4[1]], marker='o', color='b', ls='-')\n",
      "\n",
      "\n",
      "plt.show()"
     ],
     "language": "python",
     "metadata": {},
     "outputs": [
      {
       "output_type": "stream",
       "stream": "stdout",
       "text": [
        "(196, 3)\n",
        "[[  5.37892426e-01   8.42565981e-01  -2.74646178e-02]\n",
        " [  8.42876028e-01  -5.38107539e-01  -5.27029837e-04]\n",
        " [  1.52229753e-02   2.28657826e-02   9.99622637e-01]]\n",
        "[ 0.01522298  0.02286578  0.99962264]\n",
        "[ 0.83240094 -0.55417386]\n",
        "[ 58.26806613 -82.50913606] [-58.26806613  -4.92479563]\n",
        "la"
       ]
      },
      {
       "output_type": "stream",
       "stream": "stdout",
       "text": [
        " [  1.06601054 -42.11575682] [ -1.06601054 -45.31817486]\n"
       ]
      }
     ],
     "prompt_number": 111
    },
    {
     "cell_type": "code",
     "collapsed": false,
     "input": [
      "values = np.array(cameraLocs2D[linesInliers[1], :])\n",
      "line = fitLine2D(values)\n",
      "\n",
      "print line\n",
      "\n",
      "a = line[2:4]\n",
      "n = line[0:2]\n",
      "\n",
      "p1 = a+70*n\n",
      "p2 = a-70*n\n",
      "\n",
      "print 'la', p1, p2\n",
      "\n",
      "fig = plt.figure(figsize=(10, 10))\n",
      "\n",
      "ax = fig.add_subplot(111)\n",
      "\n",
      "ax.plot([p1[0], p2[0]], [p1[1], p2[1]], marker='', color='g', ls='-')\n",
      "\n",
      "ax.plot(values[:, 0], values[:, 1], marker='o', color='r', ls='-')\n",
      "\n",
      "ax.set_xlabel('X')\n",
      "ax.set_ylabel('Y')\n",
      "\n",
      "## set axis range\n",
      "ax.set_autoscale_on(False)\n",
      "ax.set_xlim([-80.0,50.0])\n",
      "ax.set_ylim([-80.0,50.0])\n",
      "\n",
      "plt.show()"
     ],
     "language": "python",
     "metadata": {},
     "outputs": [
      {
       "output_type": "stream",
       "stream": "stdout",
       "text": [
        "[  0.83246052  -0.55408442   0.         -43.71586609]\n",
        "la [ 58.27223587 -82.50177002] [-58.27223587  -4.92995834]\n"
       ]
      }
     ],
     "prompt_number": 69
    },
    {
     "cell_type": "code",
     "collapsed": false,
     "input": [
      "values = np.array(cameras[linesInliers[1], 4:7])\n",
      "line = fitLine3D(values)\n",
      "\n",
      "a = line[3:6]\n",
      "n = line[0:3]\n",
      "print a, n\n",
      "\n",
      "p1 = a+70*n\n",
      "p2 = a-70*n\n",
      "\n",
      "## plot found lines and their related camera locations\n",
      "fig = plt.figure(figsize=(10, 10))\n",
      "\n",
      "ax = fig.add_subplot(111, projection='3d')\n",
      "\n",
      "ax.plot3D([p1[0], p2[0]], [p1[1], p2[1]], [p1[2], p2[2]], marker='', color='g', ls='-')\n",
      "\n",
      "ax.plot3D(values[:, 0], values[:, 1], values[:, 2], marker='o', color='r', ls='-')\n",
      "\n",
      "ax.set_xlabel('X')\n",
      "ax.set_ylabel('Y')\n",
      "ax.set_zlabel('Z')\n",
      "\n",
      "## set axis range\n",
      "ax.set_autoscale_on(False)\n",
      "ax.set_xlim([-40.0,0.0])\n",
      "ax.set_ylim([-40.0,40.0])\n",
      "ax.set_zlim([-40.0,0.0])\n",
      "\n",
      "plt.show()"
     ],
     "language": "python",
     "metadata": {},
     "outputs": [
      {
       "output_type": "stream",
       "stream": "stdout",
       "text": [
        "(3,)\n",
        "(216, 3)\n",
        "[[  5.56393224e-01   3.71756727e-04   8.30919035e-01]\n",
        " [  8.30904581e-01  -6.16411552e-03  -5.56380787e-01]\n",
        " [ -4.91504262e-03  -9.99980933e-01   3.73856647e-03]]\n",
        "[  5.56393224e-01   3.71756727e-04   8.30919035e-01]\n",
        "[ -2.02464695e+01  -1.35258054e-02  -3.02393856e+01] [  5.56393206e-01   3.71756731e-04   8.30919027e-01]\n"
       ]
      }
     ],
     "prompt_number": 81
    }
   ],
   "metadata": {}
  }
 ]
}