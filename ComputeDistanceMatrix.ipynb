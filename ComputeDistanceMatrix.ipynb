{
 "metadata": {
  "name": ""
 },
 "nbformat": 3,
 "nbformat_minor": 0,
 "worksheets": [
  {
   "cells": [
    {
     "cell_type": "code",
     "collapsed": false,
     "input": [
      "## Imports and defines\n",
      "import numpy as np"
     ],
     "language": "python",
     "metadata": {},
     "outputs": [
      {
       "output_type": "stream",
       "stream": "stdout",
       "text": [
        "Using matplotlib backend: TkAgg\n",
        "Populating the interactive namespace from numpy and matplotlib\n"
       ]
      }
     ],
     "prompt_number": 1
    },
    {
     "cell_type": "code",
     "collapsed": false,
     "input": [
      "## compute euclidean distance assuming f is an array where each row is a flattened image (1xN array, N=W*H*Channels)\n",
      "## euclidean distance defined as the length of the the displacement vector:\n",
      "## len(q-p) = sqrt(len(q)^2+len(p)^2 - 2*dot(p, q)) where p and q are two images in vector format and 1xN size\n",
      "def distEuc(f) :\n",
      "    ## gives sum over squared intensity values for each image\n",
      "    ff = np.sum(f*f, axis=1)\n",
      "    ## first term is sum between each possible combination of frames\n",
      "    ## second term is the the dot product between each frame as in the formula above\n",
      "    d = np.sqrt(np.reshape(ff, [len(ff),1])+ff.T - 2*np.dot(f, f.T))\n",
      "    return d\n",
      "\n",
      "def distEuc2(f1, f2) :\n",
      "    ## gives sum over squared intensity values for each image\n",
      "    ff1 = np.sum(f1*f1, axis=1)\n",
      "    ff2 = np.sum(f2*f2, axis=1)\n",
      "#     print ff1.shape\n",
      "#     print ff2.shape\n",
      "    ## first term is sum between each possible combination of frames\n",
      "    ## second term is the the dot product between each frame as in the formula above\n",
      "#     print \"askdfh\", np.repeat(np.reshape(ff1, [len(ff1),1]), len(ff2), axis=1).shape, np.repeat(np.reshape(ff2, [1, len(ff2)]), len(ff1), axis=0).shape\n",
      "    d = np.sqrt(np.repeat(np.reshape(ff1, [len(ff1),1]), len(ff2), axis=1)+np.repeat(np.reshape(ff2, [1, len(ff2)]), len(ff1), axis=0) - 2*np.dot(f1, f2.T))\n",
      "    return d"
     ],
     "language": "python",
     "metadata": {},
     "outputs": [],
     "prompt_number": 5
    }
   ],
   "metadata": {}
  }
 ]
}