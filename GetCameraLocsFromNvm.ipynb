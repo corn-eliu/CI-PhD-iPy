{
 "metadata": {
  "name": ""
 },
 "nbformat": 3,
 "nbformat_minor": 0,
 "worksheets": [
  {
   "cells": [
    {
     "cell_type": "code",
     "collapsed": false,
     "input": [
      "## Imports and defines\n",
      "%pylab\n",
      "import numpy as np\n",
      "import re\n",
      "import cv2\n",
      "import cv\n",
      "\n",
      "from mpl_toolkits.mplot3d import Axes3D\n",
      "\n",
      "dataLoc = \"/home/ilisescu/PhD/iPy/data/longmaze/\"\n",
      "nameLength = len(filter(None, re.split('/',dataLoc)))\n",
      "nvmFile = \"sparse.nvm\""
     ],
     "language": "python",
     "metadata": {},
     "outputs": [
      {
       "output_type": "stream",
       "stream": "stdout",
       "text": [
        "Using matplotlib backend: TkAgg\n",
        "Populating the interactive namespace from numpy and matplotlib\n"
       ]
      }
     ],
     "prompt_number": 32
    },
    {
     "cell_type": "code",
     "collapsed": false,
     "input": [
      "## transforms quaternion to a rotation matrix (taken from vSFM via Clem)\n",
      "## need to take transpose of m to get correct rotation\n",
      "def qToR(q):\n",
      "    a = q[0]\n",
      "    b = q[1]\n",
      "    c = q[2]\n",
      "    d = q[3]\n",
      "   \n",
      "    qq = np.sqrt(a*a+b*b+c*c+d*d)\n",
      "   \n",
      "    if (qq <= 0.):\n",
      "        a = 1.\n",
      "        b = c = d = 0.\n",
      "    m = np.array([[a*a+b*b-c*c-d*d, 2*b*c-2*a*d, 2*b*d+2*a*c], [2*b*c+2*a*d, a*a-b*b+c*c-d*d, 2*c*d-2*a*b], [2*b*d-2*a*c, 2*c*d+2*a*b, a*a-b*b-c*c+d*d]])\n",
      "    return m\n",
      "    "
     ],
     "language": "python",
     "metadata": {},
     "outputs": [],
     "prompt_number": 4
    },
    {
     "cell_type": "code",
     "collapsed": false,
     "input": [
      "# threshold is the distance threshold\n",
      "def ransac(points, threshold, iterations) :\n",
      "    ## find best line to fit to set of points using RANSAC\n",
      "    randomIdx = np.round(np.random.rand(iterations, 2)*(len(points)-1))\n",
      "    \n",
      "    # line that best fits the points\n",
      "    bestFit = np.zeros([2, 3]) # a = bestFit[0, :]; n = bestFit[1, :]\n",
      "    # save the list of inliers for best fit (point indices)\n",
      "    bestFitInliers = list()\n",
      "    # save the indices of the points used for best fit\n",
      "    bestFitPoints = np.zeros(2)\n",
      "    \n",
      "    # for bookeeping inliers while searching best fit\n",
      "    inliers = list()\n",
      "    count = 0\n",
      "    for idxs in randomIdx :\n",
      "        if idxs[0] != idxs[1] :\n",
      "            inliers = list()\n",
      "            a = points[idxs[0]] \n",
      "            b = points[idxs[1]]\n",
      "            v = a - b\n",
      "            n = v / np.linalg.norm(v)\n",
      "            for idx in xrange(0, len(cameras)) :\n",
      "                p = points[idx]\n",
      "                distance = np.linalg.norm(a - p - np.dot(np.dot(a-p, n), n)) # distance between point p and line x = a +tn\n",
      "                if distance <= threshold :\n",
      "                    inliers.append(idx)\n",
      "            \n",
      "            ## check if found new best fit\n",
      "            if len(inliers) > len(bestFitInliers) :\n",
      "                bestFit[0, :] = a\n",
      "                bestFit[1, :] = n\n",
      "                bestFitInliers = np.copy(inliers)\n",
      "                bestFitPoints = np.copy(idxs)\n",
      "        else :\n",
      "            print \"got same indices\"\n",
      "        print count,\n",
      "        count += 1\n",
      "    print\n",
      "    \n",
      "    return bestFit, bestFitInliers, bestFitPoints\n"
     ],
     "language": "python",
     "metadata": {},
     "outputs": [],
     "prompt_number": 22
    },
    {
     "cell_type": "code",
     "collapsed": false,
     "input": [
      "def leastSquares(points) :\n",
      "    "
     ],
     "language": "python",
     "metadata": {},
     "outputs": []
    },
    {
     "cell_type": "code",
     "collapsed": false,
     "input": [
      "## read nvm file one line at a time and store lines containing camera locations\n",
      "ins = open(dataLoc + nvmFile, \"r\")\n",
      "count = 0\n",
      "cameraList = list()\n",
      "for line in ins:\n",
      "    if line.startswith(dataLoc) :\n",
      "        cameraList.append(line)\n",
      "        count += 1\n",
      "ins.close()\n",
      "print \"found\", len(cameraList), \"cameras\"\n",
      "\n",
      "## process cameras to get transformation matrices\n",
      "# x = np.zeros((2,),dtype=('a10, d4, d4, d4, d4, d4, d4, d4'))\n",
      "cameras = np.empty((len(cameraList), 7), dtype=np.double) # contains quaternion rotation and camera center\n",
      "cameraNames = np.empty(len(cameraList), dtype='S20')\n",
      "idx = 0\n",
      "for camera in cameraList :\n",
      "    # get frame name\n",
      "    cameraNames[idx] = filter(None, re.split('/| |\\t',camera))[nameLength]\n",
      "    # get rotation (first 4 doubles) and camera center (last 3 doubles)\n",
      "    cameras[idx] = np.array(filter(None, re.split(' |\\t',camera))[2:9], dtype=np.double)\n",
      "    idx += 1\n",
      "\n",
      "## sort cameras based on frame name\n",
      "sortIdx = np.argsort(cameraNames)\n",
      "cameraNames = cameraNames[sortIdx]\n",
      "cameras = cameras[sortIdx]"
     ],
     "language": "python",
     "metadata": {},
     "outputs": [
      {
       "output_type": "stream",
       "stream": "stdout",
       "text": [
        "found 769 cameras\n"
       ]
      }
     ],
     "prompt_number": 6
    },
    {
     "cell_type": "code",
     "collapsed": false,
     "input": [],
     "language": "python",
     "metadata": {},
     "outputs": [
      {
       "output_type": "stream",
       "stream": "stdout",
       "text": [
        "0 1 2 3 4 5 6 "
       ]
      },
      {
       "output_type": "stream",
       "stream": "stdout",
       "text": [
        "7 8 9 10 11 12 13 14 "
       ]
      },
      {
       "output_type": "stream",
       "stream": "stdout",
       "text": [
        "15 16 17 18 19 20 21 22 "
       ]
      },
      {
       "output_type": "stream",
       "stream": "stdout",
       "text": [
        "23 24 25 26 27 28 29 30 "
       ]
      },
      {
       "output_type": "stream",
       "stream": "stdout",
       "text": [
        "31 32 33 34 35 36 37 38 "
       ]
      },
      {
       "output_type": "stream",
       "stream": "stdout",
       "text": [
        "39 40 41 42 43 44 45 46 "
       ]
      },
      {
       "output_type": "stream",
       "stream": "stdout",
       "text": [
        "47 48 49 50 51 52 53 54 "
       ]
      },
      {
       "output_type": "stream",
       "stream": "stdout",
       "text": [
        "55 56 57 58 59 60 61 62 "
       ]
      },
      {
       "output_type": "stream",
       "stream": "stdout",
       "text": [
        "63 64 65 66 67 68 69 70 "
       ]
      },
      {
       "output_type": "stream",
       "stream": "stdout",
       "text": [
        "71 72 73 74 75 76 77 78 "
       ]
      },
      {
       "output_type": "stream",
       "stream": "stdout",
       "text": [
        "79 80 81 82 83 84 85 "
       ]
      },
      {
       "output_type": "stream",
       "stream": "stdout",
       "text": [
        "86 87 88 89 90 91 92 93 "
       ]
      },
      {
       "output_type": "stream",
       "stream": "stdout",
       "text": [
        "94 95 96 97 98 99 "
       ]
      },
      {
       "output_type": "stream",
       "stream": "stdout",
       "text": [
        "100 101 102 103 104 105 106 "
       ]
      },
      {
       "output_type": "stream",
       "stream": "stdout",
       "text": [
        "107 108 109 110 111 112 113 114 "
       ]
      },
      {
       "output_type": "stream",
       "stream": "stdout",
       "text": [
        "115 116 117 118 119 120 121 "
       ]
      },
      {
       "output_type": "stream",
       "stream": "stdout",
       "text": [
        "122 123 124 125 126 127 128 129 "
       ]
      },
      {
       "output_type": "stream",
       "stream": "stdout",
       "text": [
        "130 131 got same indices\n",
        "132 133 134 135 136 137 "
       ]
      },
      {
       "output_type": "stream",
       "stream": "stdout",
       "text": [
        "138 139 140 141 142 143 144 "
       ]
      },
      {
       "output_type": "stream",
       "stream": "stdout",
       "text": [
        "145 146 147 148 149 150 151 "
       ]
      },
      {
       "output_type": "stream",
       "stream": "stdout",
       "text": [
        "152 153 154 155 156 157 158 159 "
       ]
      },
      {
       "output_type": "stream",
       "stream": "stdout",
       "text": [
        "160 161 162 163 164 165 166 167 "
       ]
      },
      {
       "output_type": "stream",
       "stream": "stdout",
       "text": [
        "168 169 170 171 172 173 174 "
       ]
      },
      {
       "output_type": "stream",
       "stream": "stdout",
       "text": [
        "175 176 177 178 179 180 181 "
       ]
      },
      {
       "output_type": "stream",
       "stream": "stdout",
       "text": [
        "182 183 184 185 186 187 188 "
       ]
      },
      {
       "output_type": "stream",
       "stream": "stdout",
       "text": [
        "189 190 191 192 193 194 195 196 "
       ]
      },
      {
       "output_type": "stream",
       "stream": "stdout",
       "text": [
        "197 198 199 200 201 202 203 204 "
       ]
      },
      {
       "output_type": "stream",
       "stream": "stdout",
       "text": [
        "205 206 207 208 209 210 211 "
       ]
      },
      {
       "output_type": "stream",
       "stream": "stdout",
       "text": [
        "212 213 214 215 216 217 218 219 "
       ]
      },
      {
       "output_type": "stream",
       "stream": "stdout",
       "text": [
        "220 221 222 223 224 225 226 227 "
       ]
      },
      {
       "output_type": "stream",
       "stream": "stdout",
       "text": [
        "228 229 230 231 232 233 234 235 "
       ]
      },
      {
       "output_type": "stream",
       "stream": "stdout",
       "text": [
        "236 237 238 239 240 241 242 "
       ]
      },
      {
       "output_type": "stream",
       "stream": "stdout",
       "text": [
        "243 244 245 246 247 248 249 "
       ]
      },
      {
       "output_type": "stream",
       "stream": "stdout",
       "text": [
        "250 251 252 253 254 255 256 "
       ]
      },
      {
       "output_type": "stream",
       "stream": "stdout",
       "text": [
        "257 258 259 260 261 262 263 "
       ]
      },
      {
       "output_type": "stream",
       "stream": "stdout",
       "text": [
        "264 265 266 267 268 269 270 "
       ]
      },
      {
       "output_type": "stream",
       "stream": "stdout",
       "text": [
        "271 272 273 274 275 276 277 278 "
       ]
      },
      {
       "output_type": "stream",
       "stream": "stdout",
       "text": [
        "279 280 281 282 283 284 285 "
       ]
      },
      {
       "output_type": "stream",
       "stream": "stdout",
       "text": [
        "286 287 288 289 290 291 292 293 "
       ]
      },
      {
       "output_type": "stream",
       "stream": "stdout",
       "text": [
        "294 295 296 297 298 299 300 301 "
       ]
      },
      {
       "output_type": "stream",
       "stream": "stdout",
       "text": [
        "302 303 304 305 306 307 308 "
       ]
      },
      {
       "output_type": "stream",
       "stream": "stdout",
       "text": [
        "309 310 311 312 313 314 315 316 "
       ]
      },
      {
       "output_type": "stream",
       "stream": "stdout",
       "text": [
        "317 318 319 320 321 322 323 324 "
       ]
      },
      {
       "output_type": "stream",
       "stream": "stdout",
       "text": [
        "325 326 327 328 329 330 331 "
       ]
      },
      {
       "output_type": "stream",
       "stream": "stdout",
       "text": [
        "332 333 334 335 336 337 338 "
       ]
      },
      {
       "output_type": "stream",
       "stream": "stdout",
       "text": [
        "339 340 341 342 343 344 345 "
       ]
      },
      {
       "output_type": "stream",
       "stream": "stdout",
       "text": [
        "346 347 348 349 350 351 352 "
       ]
      },
      {
       "output_type": "stream",
       "stream": "stdout",
       "text": [
        "353 354 355 356 357 358 359 "
       ]
      },
      {
       "output_type": "stream",
       "stream": "stdout",
       "text": [
        "360 361 362 363 364 365 366 367 "
       ]
      },
      {
       "output_type": "stream",
       "stream": "stdout",
       "text": [
        "368 369 370 371 372 373 got same indices\n",
        "374 375 "
       ]
      },
      {
       "output_type": "stream",
       "stream": "stdout",
       "text": [
        "376 377 378 379 380 381 382 383 "
       ]
      },
      {
       "output_type": "stream",
       "stream": "stdout",
       "text": [
        "384 385 386 387 388 389 390 "
       ]
      },
      {
       "output_type": "stream",
       "stream": "stdout",
       "text": [
        "391 392 393 394 395 396 "
       ]
      },
      {
       "output_type": "stream",
       "stream": "stdout",
       "text": [
        "397 398 399 400 401 402 403 "
       ]
      },
      {
       "output_type": "stream",
       "stream": "stdout",
       "text": [
        "404 405 406 407 408 409 410 "
       ]
      },
      {
       "output_type": "stream",
       "stream": "stdout",
       "text": [
        "411 412 413 414 415 416 417 "
       ]
      },
      {
       "output_type": "stream",
       "stream": "stdout",
       "text": [
        "418 419 420 421 422 423 424 "
       ]
      },
      {
       "output_type": "stream",
       "stream": "stdout",
       "text": [
        "425 426 427 428 429 430 431 "
       ]
      },
      {
       "output_type": "stream",
       "stream": "stdout",
       "text": [
        "432 433 434 435 436 437 438 439 "
       ]
      },
      {
       "output_type": "stream",
       "stream": "stdout",
       "text": [
        "440 441 442 443 444 445 446 447 "
       ]
      },
      {
       "output_type": "stream",
       "stream": "stdout",
       "text": [
        "448 449 450 451 452 453 454 455 "
       ]
      },
      {
       "output_type": "stream",
       "stream": "stdout",
       "text": [
        "456 457 458 459 460 461 462 463 "
       ]
      },
      {
       "output_type": "stream",
       "stream": "stdout",
       "text": [
        "464 465 466 467 468 469 470 "
       ]
      },
      {
       "output_type": "stream",
       "stream": "stdout",
       "text": [
        "471 472 473 474 475 476 477 "
       ]
      },
      {
       "output_type": "stream",
       "stream": "stdout",
       "text": [
        "478 479 480 481 482 483 484 "
       ]
      },
      {
       "output_type": "stream",
       "stream": "stdout",
       "text": [
        "485 486 487 488 489 490 491 "
       ]
      },
      {
       "output_type": "stream",
       "stream": "stdout",
       "text": [
        "492 493 494 495 496 497 498 "
       ]
      },
      {
       "output_type": "stream",
       "stream": "stdout",
       "text": [
        "499 500 501 502 503 504 505 "
       ]
      },
      {
       "output_type": "stream",
       "stream": "stdout",
       "text": [
        "506 507 508 509 510 511 512 "
       ]
      },
      {
       "output_type": "stream",
       "stream": "stdout",
       "text": [
        "513 514 515 516 517 518 519 520 "
       ]
      },
      {
       "output_type": "stream",
       "stream": "stdout",
       "text": [
        "521 522 523 524 525 526 527 "
       ]
      },
      {
       "output_type": "stream",
       "stream": "stdout",
       "text": [
        "528 529 530 531 532 533 534 "
       ]
      },
      {
       "output_type": "stream",
       "stream": "stdout",
       "text": [
        "535 536 537 538 539 540 541 "
       ]
      },
      {
       "output_type": "stream",
       "stream": "stdout",
       "text": [
        "542 543 544 545 546 547 548 "
       ]
      },
      {
       "output_type": "stream",
       "stream": "stdout",
       "text": [
        "549 550 551 552 553 554 555 "
       ]
      },
      {
       "output_type": "stream",
       "stream": "stdout",
       "text": [
        "556 557 558 559 560 561 562 563 "
       ]
      },
      {
       "output_type": "stream",
       "stream": "stdout",
       "text": [
        "564 565 566 567 568 569 570 571 "
       ]
      },
      {
       "output_type": "stream",
       "stream": "stdout",
       "text": [
        "572 573 574 575 576 577 578 "
       ]
      },
      {
       "output_type": "stream",
       "stream": "stdout",
       "text": [
        "579 580 581 582 583 584 585 586 "
       ]
      },
      {
       "output_type": "stream",
       "stream": "stdout",
       "text": [
        "587 588 589 590 591 592 593 594 "
       ]
      },
      {
       "output_type": "stream",
       "stream": "stdout",
       "text": [
        "595 596 597 598 599 600 601 602 "
       ]
      },
      {
       "output_type": "stream",
       "stream": "stdout",
       "text": [
        "603 604 605 got same indices\n",
        "606 607 608 609 610 611 "
       ]
      },
      {
       "output_type": "stream",
       "stream": "stdout",
       "text": [
        "612 613 614 615 616 617 618 619 "
       ]
      },
      {
       "output_type": "stream",
       "stream": "stdout",
       "text": [
        "620 621 622 623 624 625 626 "
       ]
      },
      {
       "output_type": "stream",
       "stream": "stdout",
       "text": [
        "627 628 629 630 631 632 633 634 "
       ]
      },
      {
       "output_type": "stream",
       "stream": "stdout",
       "text": [
        "635 636 637 638 639 640 641 "
       ]
      },
      {
       "output_type": "stream",
       "stream": "stdout",
       "text": [
        "642 643 644 645 646 647 648 "
       ]
      },
      {
       "output_type": "stream",
       "stream": "stdout",
       "text": [
        "649 650 651 652 653 654 655 "
       ]
      },
      {
       "output_type": "stream",
       "stream": "stdout",
       "text": [
        "656 657 658 659 660 661 662 "
       ]
      },
      {
       "output_type": "stream",
       "stream": "stdout",
       "text": [
        "663 664 665 666 667 668 669 670 "
       ]
      },
      {
       "output_type": "stream",
       "stream": "stdout",
       "text": [
        "671 672 673 674 675 676 "
       ]
      },
      {
       "output_type": "stream",
       "stream": "stdout",
       "text": [
        "677 678 679 680 681 682 "
       ]
      },
      {
       "output_type": "stream",
       "stream": "stdout",
       "text": [
        "683 684 685 686 687 688 689 "
       ]
      },
      {
       "output_type": "stream",
       "stream": "stdout",
       "text": [
        "690 691 692 693 694 695 696 697 "
       ]
      },
      {
       "output_type": "stream",
       "stream": "stdout",
       "text": [
        "698 699 700 701 702 703 704 705 "
       ]
      },
      {
       "output_type": "stream",
       "stream": "stdout",
       "text": [
        "706 707 708 709 710 711 712 713 "
       ]
      },
      {
       "output_type": "stream",
       "stream": "stdout",
       "text": [
        "714 715 716 717 718 719 720 "
       ]
      },
      {
       "output_type": "stream",
       "stream": "stdout",
       "text": [
        "721 722 723 724 725 726 727 "
       ]
      },
      {
       "output_type": "stream",
       "stream": "stdout",
       "text": [
        "728 729 730 731 732 733 734 "
       ]
      },
      {
       "output_type": "stream",
       "stream": "stdout",
       "text": [
        "735 736 737 738 739 740 741 742 "
       ]
      },
      {
       "output_type": "stream",
       "stream": "stdout",
       "text": [
        "743 744 745 746 747 748 749 "
       ]
      },
      {
       "output_type": "stream",
       "stream": "stdout",
       "text": [
        "750 751 752 753 754 755 756 "
       ]
      },
      {
       "output_type": "stream",
       "stream": "stdout",
       "text": [
        "757 758 759 760 761 762 763 "
       ]
      },
      {
       "output_type": "stream",
       "stream": "stdout",
       "text": [
        "764 765 766 767 768 769 770 "
       ]
      },
      {
       "output_type": "stream",
       "stream": "stdout",
       "text": [
        "771 772 773 774 775 776 777 "
       ]
      },
      {
       "output_type": "stream",
       "stream": "stdout",
       "text": [
        "778 779 780 781 782 783 784 "
       ]
      },
      {
       "output_type": "stream",
       "stream": "stdout",
       "text": [
        "785 786 787 788 789 790 791 "
       ]
      },
      {
       "output_type": "stream",
       "stream": "stdout",
       "text": [
        "792 793 794 795 796 797 798 "
       ]
      },
      {
       "output_type": "stream",
       "stream": "stdout",
       "text": [
        "799 800 801 802 803 804 805 806 "
       ]
      },
      {
       "output_type": "stream",
       "stream": "stdout",
       "text": [
        "807 808 809 810 811 812 813 "
       ]
      },
      {
       "output_type": "stream",
       "stream": "stdout",
       "text": [
        "814 815 816 817 818 819 820 "
       ]
      },
      {
       "output_type": "stream",
       "stream": "stdout",
       "text": [
        "821 822 823 824 825 826 "
       ]
      },
      {
       "output_type": "stream",
       "stream": "stdout",
       "text": [
        "827 828 829 830 831 832 833 "
       ]
      },
      {
       "output_type": "stream",
       "stream": "stdout",
       "text": [
        "834 835 got same indices\n",
        "836 837 838 839 840 841 "
       ]
      },
      {
       "output_type": "stream",
       "stream": "stdout",
       "text": [
        "842 843 844 845 846 847 848 "
       ]
      },
      {
       "output_type": "stream",
       "stream": "stdout",
       "text": [
        "849 850 851 852 853 854 855 "
       ]
      },
      {
       "output_type": "stream",
       "stream": "stdout",
       "text": [
        "856 857 858 859 860 861 862 "
       ]
      },
      {
       "output_type": "stream",
       "stream": "stdout",
       "text": [
        "863 864 865 866 867 868 869 "
       ]
      },
      {
       "output_type": "stream",
       "stream": "stdout",
       "text": [
        "870 871 872 873 874 875 876 "
       ]
      },
      {
       "output_type": "stream",
       "stream": "stdout",
       "text": [
        "877 878 879 880 881 882 883 "
       ]
      },
      {
       "output_type": "stream",
       "stream": "stdout",
       "text": [
        "884 885 886 887 888 889 890 "
       ]
      },
      {
       "output_type": "stream",
       "stream": "stdout",
       "text": [
        "891 892 893 894 895 896 897 "
       ]
      },
      {
       "output_type": "stream",
       "stream": "stdout",
       "text": [
        "898 899 900 901 902 903 904 905 "
       ]
      },
      {
       "output_type": "stream",
       "stream": "stdout",
       "text": [
        "906 907 908 909 910 911 912 913 "
       ]
      },
      {
       "output_type": "stream",
       "stream": "stdout",
       "text": [
        "914 915 916 917 918 919 920 921 "
       ]
      },
      {
       "output_type": "stream",
       "stream": "stdout",
       "text": [
        "922 923 924 925 926 927 928 929 "
       ]
      },
      {
       "output_type": "stream",
       "stream": "stdout",
       "text": [
        "930 931 932 933 934 935 936 937 "
       ]
      },
      {
       "output_type": "stream",
       "stream": "stdout",
       "text": [
        "938 939 940 941 942 943 944 945 "
       ]
      },
      {
       "output_type": "stream",
       "stream": "stdout",
       "text": [
        "946 947 948 949 950 951 952 "
       ]
      },
      {
       "output_type": "stream",
       "stream": "stdout",
       "text": [
        "953 954 955 956 957 958 959 "
       ]
      },
      {
       "output_type": "stream",
       "stream": "stdout",
       "text": [
        "960 961 962 963 964 965 966 "
       ]
      },
      {
       "output_type": "stream",
       "stream": "stdout",
       "text": [
        "967 968 969 970 971 972 973 "
       ]
      },
      {
       "output_type": "stream",
       "stream": "stdout",
       "text": [
        "974 975 976 977 978 979 980 "
       ]
      },
      {
       "output_type": "stream",
       "stream": "stdout",
       "text": [
        "981 982 983 984 985 986 987 "
       ]
      },
      {
       "output_type": "stream",
       "stream": "stdout",
       "text": [
        "988 989 990 991 992 993 994 "
       ]
      },
      {
       "output_type": "stream",
       "stream": "stdout",
       "text": [
        "995 996 997 998 999\n",
        "best cameras: [ 236.  568.] #inliers: 554\n"
       ]
      },
      {
       "metadata": {},
       "output_type": "pyout",
       "prompt_number": 73,
       "text": [
        "[<mpl_toolkits.mplot3d.art3d.Line3D at 0x9d73f50>]"
       ]
      }
     ],
     "prompt_number": 73
    },
    {
     "cell_type": "code",
     "collapsed": false,
     "input": [
      "fittedLine, inliers, bestCameras = ransac(cameras[:, 4:7], 1.0, 1000)\n",
      "print \"best cameras:\", bestCameras, \"#inliers:\", len(inliers)\n",
      "\n",
      "\n",
      "## plot points and fitted line\n",
      "fig = plt.figure(figsize=(10, 10))\n",
      "\n",
      "ax = fig.add_subplot(111, projection='3d')\n",
      "# cq is camera quaternion, cc is camera center\n",
      "count = 0\n",
      "for cq, cc in zip(cameras[:, 0:4], cameras[:, 4:7]):\n",
      "    if np.mod(count, 10) == 0 :\n",
      "        rotation = qToR(cq).T # take transpose of result of qToR\n",
      "        transf = np.hstack([np.array(np.vstack([rotation, np.zeros(3)])), np.array(([cc[0]], [cc[1]], [cc[2]], [1]))]) # 4x4 transformation matrix\n",
      "        tmp = np.dot(transf, ([0.0], [0.0],[0.5],[1.0]))\n",
      "        if count in inliers :\n",
      "            ax.scatter3D(cc[0], cc[1], cc[2], c='b', marker='x')\n",
      "        else :\n",
      "            ax.scatter3D(cc[0], cc[1], cc[2], c='g', marker='x')\n",
      "        ax.plot3D([cc[0], tmp[0]], [cc[1], tmp[1]], [cc[2], tmp[2]], c='r')\n",
      "    count += 1\n",
      "\n",
      "ax.set_xlabel('X')\n",
      "ax.set_ylabel('Y')\n",
      "ax.set_zlabel('Z')\n",
      "\n",
      "## set axis range\n",
      "ax.set_autoscale_on(False)\n",
      "ax.set_xlim([-40.0,0.0])\n",
      "ax.set_ylim([-40.0,40.0])\n",
      "ax.set_zlim([-40.0,0.0])\n",
      "        \n",
      "# plot fitted line\n",
      "x = fittedLine[0, :] -30*fittedLine[1,:]\n",
      "ax.plot3D([fittedLine[0, 0], x[0]], [fittedLine[0, 1], x[1]], [fittedLine[0, 2], x[2]], c='b')\n",
      "\n",
      "plt.show()"
     ],
     "language": "python",
     "metadata": {},
     "outputs": [
      {
       "output_type": "stream",
       "stream": "stdout",
       "text": [
        "0 1 2 3 4 5 6 "
       ]
      },
      {
       "output_type": "stream",
       "stream": "stdout",
       "text": [
        "7 8 9 10 11 12 13 "
       ]
      },
      {
       "output_type": "stream",
       "stream": "stdout",
       "text": [
        "14 15 16 17 18 19 20 21 "
       ]
      },
      {
       "output_type": "stream",
       "stream": "stdout",
       "text": [
        "22 23 24 25 26 27 28 29 "
       ]
      },
      {
       "output_type": "stream",
       "stream": "stdout",
       "text": [
        "30 31 32 33 34 35 36 37 "
       ]
      },
      {
       "output_type": "stream",
       "stream": "stdout",
       "text": [
        "38 39 40 41 42 43 44 45 "
       ]
      },
      {
       "output_type": "stream",
       "stream": "stdout",
       "text": [
        "46 47 48 49 50 51 52 53 "
       ]
      },
      {
       "output_type": "stream",
       "stream": "stdout",
       "text": [
        "54 55 56 57 58 59 60 61 "
       ]
      },
      {
       "output_type": "stream",
       "stream": "stdout",
       "text": [
        "62 63 64 65 66 67 68 69 "
       ]
      },
      {
       "output_type": "stream",
       "stream": "stdout",
       "text": [
        "70 71 72 73 74 75 76 77 "
       ]
      },
      {
       "output_type": "stream",
       "stream": "stdout",
       "text": [
        "78 79 80 81 82 83 84 "
       ]
      },
      {
       "output_type": "stream",
       "stream": "stdout",
       "text": [
        "85 86 87 88 89 90 91 "
       ]
      },
      {
       "output_type": "stream",
       "stream": "stdout",
       "text": [
        "92 93 94 95 96 97 98 "
       ]
      },
      {
       "output_type": "stream",
       "stream": "stdout",
       "text": [
        "99 100 101 102 103 104 105 "
       ]
      },
      {
       "output_type": "stream",
       "stream": "stdout",
       "text": [
        "106 107 108 109 110 111 112 "
       ]
      },
      {
       "output_type": "stream",
       "stream": "stdout",
       "text": [
        "113 114 115 116 117 118 119 120 "
       ]
      },
      {
       "output_type": "stream",
       "stream": "stdout",
       "text": [
        "121 122 123 124 125 126 127 128 "
       ]
      },
      {
       "output_type": "stream",
       "stream": "stdout",
       "text": [
        "129 130 131 132 133 134 135 "
       ]
      },
      {
       "output_type": "stream",
       "stream": "stdout",
       "text": [
        "136 137 138 139 140 141 142 143 "
       ]
      },
      {
       "output_type": "stream",
       "stream": "stdout",
       "text": [
        "144 145 146 147 148 149 150 151 "
       ]
      },
      {
       "output_type": "stream",
       "stream": "stdout",
       "text": [
        "152 153 154 155 156 157 158 159 "
       ]
      },
      {
       "output_type": "stream",
       "stream": "stdout",
       "text": [
        "160 161 162 163 164 165 166 "
       ]
      },
      {
       "output_type": "stream",
       "stream": "stdout",
       "text": [
        "167 168 169 170 171 172 173 174 "
       ]
      },
      {
       "output_type": "stream",
       "stream": "stdout",
       "text": [
        "175 176 177 178 179 180 181 182 "
       ]
      },
      {
       "output_type": "stream",
       "stream": "stdout",
       "text": [
        "183 184 185 186 187 188 189 190 "
       ]
      },
      {
       "output_type": "stream",
       "stream": "stdout",
       "text": [
        "191 192 193 194 195 196 197 198 "
       ]
      },
      {
       "output_type": "stream",
       "stream": "stdout",
       "text": [
        "199 200 201 202 203 204 205 206 "
       ]
      },
      {
       "output_type": "stream",
       "stream": "stdout",
       "text": [
        "207 208 209 210 211 212 213 214 "
       ]
      },
      {
       "output_type": "stream",
       "stream": "stdout",
       "text": [
        "215 216 217 218 219 220 221 222 "
       ]
      },
      {
       "output_type": "stream",
       "stream": "stdout",
       "text": [
        "223 224 225 226 227 228 229 "
       ]
      },
      {
       "output_type": "stream",
       "stream": "stdout",
       "text": [
        "230 231 232 233 234 235 236 "
       ]
      },
      {
       "output_type": "stream",
       "stream": "stdout",
       "text": [
        "237 238 239 240 241 242 243 "
       ]
      },
      {
       "output_type": "stream",
       "stream": "stdout",
       "text": [
        "244 245 246 247 248 249 250 "
       ]
      },
      {
       "output_type": "stream",
       "stream": "stdout",
       "text": [
        "251 252 253 got same indices\n",
        "254 255 256 257 258 259 "
       ]
      },
      {
       "output_type": "stream",
       "stream": "stdout",
       "text": [
        "260 261 262 263 264 265 266 267 "
       ]
      },
      {
       "output_type": "stream",
       "stream": "stdout",
       "text": [
        "268 269 270 271 272 273 274 275 "
       ]
      },
      {
       "output_type": "stream",
       "stream": "stdout",
       "text": [
        "276 277 278 279 280 281 282 283 "
       ]
      },
      {
       "output_type": "stream",
       "stream": "stdout",
       "text": [
        "284 285 286 287 288 289 290 "
       ]
      },
      {
       "output_type": "stream",
       "stream": "stdout",
       "text": [
        "291 292 293 294 295 296 297 "
       ]
      },
      {
       "output_type": "stream",
       "stream": "stdout",
       "text": [
        "298 299 300 301 302 303 304 "
       ]
      },
      {
       "output_type": "stream",
       "stream": "stdout",
       "text": [
        "305 306 307 308 309 310 311 "
       ]
      },
      {
       "output_type": "stream",
       "stream": "stdout",
       "text": [
        "312 313 314 315 316 317 318 "
       ]
      },
      {
       "output_type": "stream",
       "stream": "stdout",
       "text": [
        "319 320 321 322 323 324 325 "
       ]
      },
      {
       "output_type": "stream",
       "stream": "stdout",
       "text": [
        "326 327 328 329 330 331 332 "
       ]
      },
      {
       "output_type": "stream",
       "stream": "stdout",
       "text": [
        "333 334 335 336 337 338 339 "
       ]
      },
      {
       "output_type": "stream",
       "stream": "stdout",
       "text": [
        "340 341 342 343 344 345 346 347 "
       ]
      },
      {
       "output_type": "stream",
       "stream": "stdout",
       "text": [
        "348 349 350 351 352 353 354 "
       ]
      },
      {
       "output_type": "stream",
       "stream": "stdout",
       "text": [
        "355 356 357 358 359 360 361 "
       ]
      },
      {
       "output_type": "stream",
       "stream": "stdout",
       "text": [
        "362 363 364 365 366 367 368 "
       ]
      },
      {
       "output_type": "stream",
       "stream": "stdout",
       "text": [
        "369 370 371 372 373 374 375 "
       ]
      },
      {
       "output_type": "stream",
       "stream": "stdout",
       "text": [
        "376 377 378 379 380 381 382 "
       ]
      },
      {
       "output_type": "stream",
       "stream": "stdout",
       "text": [
        "383 384 385 386 387 388 389 "
       ]
      },
      {
       "output_type": "stream",
       "stream": "stdout",
       "text": [
        "390 391 392 393 394 395 396 "
       ]
      },
      {
       "output_type": "stream",
       "stream": "stdout",
       "text": [
        "397 398 399 400 401 402 403 404 "
       ]
      },
      {
       "output_type": "stream",
       "stream": "stdout",
       "text": [
        "405 406 407 408 409 410 411 "
       ]
      },
      {
       "output_type": "stream",
       "stream": "stdout",
       "text": [
        "412 413 414 415 416 417 418 "
       ]
      },
      {
       "output_type": "stream",
       "stream": "stdout",
       "text": [
        "419 420 421 422 423 424 425 "
       ]
      },
      {
       "output_type": "stream",
       "stream": "stdout",
       "text": [
        "426 427 428 429 430 431 432 "
       ]
      },
      {
       "output_type": "stream",
       "stream": "stdout",
       "text": [
        "433 434 435 436 437 438 439 "
       ]
      },
      {
       "output_type": "stream",
       "stream": "stdout",
       "text": [
        "440 441 442 443 444 445 446 447 "
       ]
      },
      {
       "output_type": "stream",
       "stream": "stdout",
       "text": [
        "448 449 450 451 452 453 454 455 "
       ]
      },
      {
       "output_type": "stream",
       "stream": "stdout",
       "text": [
        "456 457 458 459 460 461 462 "
       ]
      },
      {
       "output_type": "stream",
       "stream": "stdout",
       "text": [
        "463 464 465 466 467 468 469 470 "
       ]
      },
      {
       "output_type": "stream",
       "stream": "stdout",
       "text": [
        "471 472 473 474 475 476 477 478 "
       ]
      },
      {
       "output_type": "stream",
       "stream": "stdout",
       "text": [
        "479 480 481 482 483 484 485 486 "
       ]
      },
      {
       "output_type": "stream",
       "stream": "stdout",
       "text": [
        "487 488 489 490 491 492 493 "
       ]
      },
      {
       "output_type": "stream",
       "stream": "stdout",
       "text": [
        "494 495 496 497 498 499 500 501 "
       ]
      },
      {
       "output_type": "stream",
       "stream": "stdout",
       "text": [
        "502 503 504 505 506 507 508 "
       ]
      },
      {
       "output_type": "stream",
       "stream": "stdout",
       "text": [
        "509 510 511 512 513 514 515 "
       ]
      },
      {
       "output_type": "stream",
       "stream": "stdout",
       "text": [
        "516 517 518 519 520 521 522 "
       ]
      },
      {
       "output_type": "stream",
       "stream": "stdout",
       "text": [
        "523 524 525 526 527 528 529 "
       ]
      },
      {
       "output_type": "stream",
       "stream": "stdout",
       "text": [
        "530 531 532 533 534 535 536 537 "
       ]
      },
      {
       "output_type": "stream",
       "stream": "stdout",
       "text": [
        "538 539 540 541 542 543 544 545 "
       ]
      },
      {
       "output_type": "stream",
       "stream": "stdout",
       "text": [
        "546 547 548 549 550 551 552 "
       ]
      },
      {
       "output_type": "stream",
       "stream": "stdout",
       "text": [
        "553 554 555 556 557 558 559 560 "
       ]
      },
      {
       "output_type": "stream",
       "stream": "stdout",
       "text": [
        "561 562 563 564 565 566 567 568 "
       ]
      },
      {
       "output_type": "stream",
       "stream": "stdout",
       "text": [
        "569 570 571 572 573 574 575 "
       ]
      },
      {
       "output_type": "stream",
       "stream": "stdout",
       "text": [
        "576 577 578 579 580 581 582 583 "
       ]
      },
      {
       "output_type": "stream",
       "stream": "stdout",
       "text": [
        "584 585 586 587 588 589 590 "
       ]
      },
      {
       "output_type": "stream",
       "stream": "stdout",
       "text": [
        "591 592 593 594 595 596 597 598 "
       ]
      },
      {
       "output_type": "stream",
       "stream": "stdout",
       "text": [
        "599 600 601 602 603 604 605 "
       ]
      },
      {
       "output_type": "stream",
       "stream": "stdout",
       "text": [
        "606 607 608 609 610 611 612 "
       ]
      },
      {
       "output_type": "stream",
       "stream": "stdout",
       "text": [
        "613 614 615 616 617 618 619 620 "
       ]
      },
      {
       "output_type": "stream",
       "stream": "stdout",
       "text": [
        "621 622 623 624 625 626 627 "
       ]
      },
      {
       "output_type": "stream",
       "stream": "stdout",
       "text": [
        "628 629 630 631 632 633 634 635 "
       ]
      },
      {
       "output_type": "stream",
       "stream": "stdout",
       "text": [
        "636 637 638 639 640 641 642 "
       ]
      },
      {
       "output_type": "stream",
       "stream": "stdout",
       "text": [
        "643 644 645 646 647 648 649 650 "
       ]
      },
      {
       "output_type": "stream",
       "stream": "stdout",
       "text": [
        "651 652 653 654 655 656 657 "
       ]
      },
      {
       "output_type": "stream",
       "stream": "stdout",
       "text": [
        "658 659 660 661 662 663 "
       ]
      },
      {
       "output_type": "stream",
       "stream": "stdout",
       "text": [
        "664 665 666 667 668 669 670 "
       ]
      },
      {
       "output_type": "stream",
       "stream": "stdout",
       "text": [
        "671 672 673 674 675 676 677 678 "
       ]
      },
      {
       "output_type": "stream",
       "stream": "stdout",
       "text": [
        "679 680 681 682 683 684 685 686 "
       ]
      },
      {
       "output_type": "stream",
       "stream": "stdout",
       "text": [
        "687 688 689 690 691 692 693 694 "
       ]
      },
      {
       "output_type": "stream",
       "stream": "stdout",
       "text": [
        "695 696 697 698 699 700 701 "
       ]
      },
      {
       "output_type": "stream",
       "stream": "stdout",
       "text": [
        "702 703 704 705 706 707 708 "
       ]
      },
      {
       "output_type": "stream",
       "stream": "stdout",
       "text": [
        "709 710 711 712 713 714 715 "
       ]
      },
      {
       "output_type": "stream",
       "stream": "stdout",
       "text": [
        "716 717 718 719 720 721 722 "
       ]
      },
      {
       "output_type": "stream",
       "stream": "stdout",
       "text": [
        "723 724 725 726 727 728 729 "
       ]
      },
      {
       "output_type": "stream",
       "stream": "stdout",
       "text": [
        "730 731 732 733 734 735 736 "
       ]
      },
      {
       "output_type": "stream",
       "stream": "stdout",
       "text": [
        "737 738 739 740 741 742 743 "
       ]
      },
      {
       "output_type": "stream",
       "stream": "stdout",
       "text": [
        "744 745 746 747 748 749 750 751 "
       ]
      },
      {
       "output_type": "stream",
       "stream": "stdout",
       "text": [
        "752 753 754 755 756 757 758 "
       ]
      },
      {
       "output_type": "stream",
       "stream": "stdout",
       "text": [
        "759 760 761 762 763 764 765 766 "
       ]
      },
      {
       "output_type": "stream",
       "stream": "stdout",
       "text": [
        "767 768 769 770 771 772 773 "
       ]
      },
      {
       "output_type": "stream",
       "stream": "stdout",
       "text": [
        "774 775 776 777 778 779 780 "
       ]
      },
      {
       "output_type": "stream",
       "stream": "stdout",
       "text": [
        "781 782 783 784 785 786 787 "
       ]
      },
      {
       "output_type": "stream",
       "stream": "stdout",
       "text": [
        "788 789 790 791 792 793 794 "
       ]
      },
      {
       "output_type": "stream",
       "stream": "stdout",
       "text": [
        "795 796 797 798 799 800 801 802 "
       ]
      },
      {
       "output_type": "stream",
       "stream": "stdout",
       "text": [
        "803 804 805 806 807 808 809 "
       ]
      },
      {
       "output_type": "stream",
       "stream": "stdout",
       "text": [
        "810 811 812 813 814 815 816 817 "
       ]
      },
      {
       "output_type": "stream",
       "stream": "stdout",
       "text": [
        "818 819 820 821 822 823 824 "
       ]
      },
      {
       "output_type": "stream",
       "stream": "stdout",
       "text": [
        "825 826 827 828 829 830 831 832 "
       ]
      },
      {
       "output_type": "stream",
       "stream": "stdout",
       "text": [
        "833 834 835 836 837 838 839 "
       ]
      },
      {
       "output_type": "stream",
       "stream": "stdout",
       "text": [
        "840 841 842 843 844 845 846 "
       ]
      },
      {
       "output_type": "stream",
       "stream": "stdout",
       "text": [
        "847 848 849 850 851 852 853 "
       ]
      },
      {
       "output_type": "stream",
       "stream": "stdout",
       "text": [
        "854 855 856 857 858 859 860 861 "
       ]
      },
      {
       "output_type": "stream",
       "stream": "stdout",
       "text": [
        "862 863 864 865 866 867 868 "
       ]
      },
      {
       "output_type": "stream",
       "stream": "stdout",
       "text": [
        "869 870 871 872 873 874 875 "
       ]
      },
      {
       "output_type": "stream",
       "stream": "stdout",
       "text": [
        "876 877 878 879 880 881 882 "
       ]
      },
      {
       "output_type": "stream",
       "stream": "stdout",
       "text": [
        "883 884 885 886 887 888 889 890 "
       ]
      },
      {
       "output_type": "stream",
       "stream": "stdout",
       "text": [
        "891 892 893 894 895 896 897 "
       ]
      },
      {
       "output_type": "stream",
       "stream": "stdout",
       "text": [
        "898 899 900 901 902 903 904 905 "
       ]
      },
      {
       "output_type": "stream",
       "stream": "stdout",
       "text": [
        "906 907 908 909 910 911 912 913 "
       ]
      },
      {
       "output_type": "stream",
       "stream": "stdout",
       "text": [
        "914 915 916 917 918 919 920 "
       ]
      },
      {
       "output_type": "stream",
       "stream": "stdout",
       "text": [
        "921 922 923 924 925 926 927 "
       ]
      },
      {
       "output_type": "stream",
       "stream": "stdout",
       "text": [
        "928 929 930 931 932 933 934 "
       ]
      },
      {
       "output_type": "stream",
       "stream": "stdout",
       "text": [
        "935 936 937 938 939 940 941 "
       ]
      },
      {
       "output_type": "stream",
       "stream": "stdout",
       "text": [
        "942 943 944 945 946 947 948 "
       ]
      },
      {
       "output_type": "stream",
       "stream": "stdout",
       "text": [
        "949 950 951 952 953 954 955 956 "
       ]
      },
      {
       "output_type": "stream",
       "stream": "stdout",
       "text": [
        "957 958 959 960 961 962 963 964 "
       ]
      },
      {
       "output_type": "stream",
       "stream": "stdout",
       "text": [
        "965 966 967 968 969 970 971 "
       ]
      },
      {
       "output_type": "stream",
       "stream": "stdout",
       "text": [
        "972 973 974 975 976 977 978 "
       ]
      },
      {
       "output_type": "stream",
       "stream": "stdout",
       "text": [
        "979 980 981 982 983 984 985 "
       ]
      },
      {
       "output_type": "stream",
       "stream": "stdout",
       "text": [
        "986 987 988 989 990 991 992 "
       ]
      },
      {
       "output_type": "stream",
       "stream": "stdout",
       "text": [
        "993 994 995 996 997 998 999\n",
        "best cameras: [ 238.  654.] #inliers: 553\n"
       ]
      }
     ],
     "prompt_number": 75
    },
    {
     "cell_type": "code",
     "collapsed": false,
     "input": [
      "cameras[inliers, 4:7].shape\n",
      "tmp = cv2.fitLine(np.array(cameras[inliers, 4:7], dtype=float32), cv.CV_DIST_L2, 0, 0.01, 0.01)\n",
      "print tmp\n",
      "\n",
      "a = tmp[3:6]\n",
      "\n",
      "x = tmp[3:7]-30*tmp[0:3]\n",
      "bob = np.hstack([x, a])\n",
      "print bob\n",
      "print bob[1, :]\n",
      "# ax.plot3D([tmp[3], x[0]], [tmp[4], x[1]], [tmp[5], x[2]], c='y')\n",
      "ax.plot3D(bob[0, :], bob[1, :], bob[2, :], c='y')"
     ],
     "language": "python",
     "metadata": {},
     "outputs": [
      {
       "output_type": "stream",
       "stream": "stdout",
       "text": [
        "[[  4.47594583e-01]\n",
        " [ -1.70468236e-03]\n",
        " [  8.94234955e-01]\n",
        " [ -1.92866917e+01]\n",
        " [ -2.60588229e-02]\n",
        " [ -5.75228071e+00]]\n",
        "[[ -3.27145309e+01  -1.92866917e+01]\n",
        " [  2.50816494e-02  -2.60588229e-02]\n",
        " [ -3.25793304e+01  -5.75228071e+00]]\n",
        "[ 0.02508165 -0.02605882]\n"
       ]
      },
      {
       "metadata": {},
       "output_type": "pyout",
       "prompt_number": 76,
       "text": [
        "[<mpl_toolkits.mplot3d.art3d.Line3D at 0xb5f63d0>]"
       ]
      }
     ],
     "prompt_number": 76
    },
    {
     "cell_type": "code",
     "collapsed": false,
     "input": [
      "print fittedLine"
     ],
     "language": "python",
     "metadata": {},
     "outputs": [
      {
       "output_type": "stream",
       "stream": "stdout",
       "text": [
        "[[ -1.04722490e+01  -7.19549656e-02   1.19280968e+01]\n",
        " [  4.32111198e-01  -1.51879802e-03   9.01819054e-01]]\n"
       ]
      }
     ],
     "prompt_number": 69
    },
    {
     "cell_type": "code",
     "collapsed": false,
     "input": [
      "print len(bestFitInliers), bestFitCameras\n",
      "a = bestFit[0, :]\n",
      "n = bestFit[1, :]\n",
      "for idx in bestFitInliers : #xrange(0, len(cameras)) :\n",
      "    p = cameras[idx, 4:7]\n",
      "    distance = np.linalg.norm(a - p - np.dot(np.dot(a-p, n), n)) # distance between point p and line x = a +tn\n",
      "    print distance"
     ],
     "language": "python",
     "metadata": {},
     "outputs": [
      {
       "output_type": "stream",
       "stream": "stdout",
       "text": [
        "574 [ 751.  220.]\n",
        "1.99555022939\n",
        "1.94906856299\n",
        "1.8274578159\n",
        "1.73392502444\n",
        "1.67084485703\n",
        "1.59607200071\n",
        "1.50467906742\n",
        "1.42353163662\n",
        "1.34396174032\n",
        "1.24018079777\n",
        "1.13800963221\n",
        "1.04709490333\n",
        "0.960780280837\n",
        "0.884031886312\n",
        "0.801636579753\n",
        "0.715011417503\n",
        "0.639734164471\n",
        "0.560463911168\n",
        "0.479556750224\n",
        "0.403173891839\n",
        "0.325207451965\n",
        "0.252316791394\n",
        "0.18477450732\n",
        "0.11888025205\n",
        "0.05893458915\n",
        "7.944110048e-15\n",
        "0.0522414504153\n",
        "0.107325038915\n",
        "0.162495513876\n",
        "0.213464662082\n",
        "0.260957960499\n",
        "0.306084906494\n",
        "0.350873930372\n",
        "0.394917862488\n",
        "0.431871738069\n",
        "0.464978702981\n",
        "0.498172378884\n",
        "0.530610275894\n",
        "0.559658149098\n",
        "0.588657529178\n",
        "0.615590102945\n",
        "0.643378601859\n",
        "0.664829038843\n",
        "0.679206397086\n",
        "0.708670037107\n",
        "0.763649797699\n",
        "0.81559368526\n",
        "0.862627442154\n",
        "1.07448643934\n",
        "1.13584167099\n",
        "1.13725824469\n",
        "1.1418882324\n",
        "1.14392008085\n",
        "1.15307378249\n",
        "1.16947916519\n",
        "1.19050324332\n",
        "1.21070226472\n",
        "1.23028678647\n",
        "1.25067790115\n",
        "1.26362589725\n",
        "1.27839186866\n",
        "1.31098840136\n",
        "1.32553160396\n",
        "1.33865146492\n",
        "1.3548299103\n",
        "1.36417541275\n",
        "1.38313782378\n",
        "1.40290574125\n",
        "1.41777829038\n",
        "1.42854565474\n",
        "1.42705286416\n",
        "1.43292859729\n",
        "1.43803039097\n",
        "1.44469538915\n",
        "1.45386930216\n",
        "1.4661537376\n",
        "1.47986711131\n",
        "1.50652031385\n",
        "1.51311493212\n",
        "1.51347563946\n",
        "1.49125991262\n",
        "1.5345941144\n",
        "1.52846990655\n",
        "1.52511409409\n",
        "1.51955544134\n",
        "1.52430660876\n",
        "1.53190779605\n",
        "1.53298534836\n",
        "1.53908860926\n",
        "1.54422226675\n",
        "1.54770411521\n",
        "1.55217129358\n",
        "1.55657899555\n",
        "1.56682768808\n",
        "1.56963763678\n",
        "1.56216172836\n",
        "1.5501104709\n",
        "1.54318344018\n",
        "1.54679926087\n",
        "1.56050278118\n",
        "1.56528152374\n",
        "1.56905923905\n",
        "1.5816821902\n",
        "1.58677656212\n",
        "1.58981331821\n",
        "1.59359951031\n",
        "1.59490558406\n",
        "1.59847349725\n",
        "1.60306793746\n",
        "1.60520188096\n",
        "1.60733687689\n",
        "1.59940705732\n",
        "1.59322941496\n",
        "1.58387728414\n",
        "1.57608711698\n",
        "1.58094965965\n",
        "1.58154378799\n",
        "1.57505965297\n",
        "1.56464806153\n",
        "1.55507545002\n",
        "1.54010138277\n",
        "1.53315773682\n",
        "1.52852201149\n",
        "1.50986164925\n",
        "1.50198453797\n",
        "1.4954320431\n",
        "1.49069963292\n",
        "1.48372603202\n",
        "1.47579513192\n",
        "1.47450355502\n",
        "1.46765463963\n",
        "1.46060792299\n",
        "1.45400246799\n",
        "1.44532463214\n",
        "1.43853332895\n",
        "1.43294929998\n",
        "1.43239670565\n",
        "1.43261918134\n",
        "1.42976021554\n",
        "1.42284238212\n",
        "1.41280840921\n",
        "1.4021704292\n",
        "1.39255673443\n",
        "1.38688630237\n",
        "1.37736580273\n",
        "1.36647478305\n",
        "1.35904836002\n",
        "1.35650361923\n",
        "1.35679344892\n",
        "1.36147979694\n",
        "1.3595025848\n",
        "1.3478992419\n",
        "1.33066496013\n",
        "1.31503132392\n",
        "1.29902787634\n",
        "1.28958825024\n",
        "1.28189846009\n",
        "1.2717496283\n",
        "1.25834974919\n",
        "1.24881527626\n",
        "1.22693230028\n",
        "1.20466091705\n",
        "1.17993841563\n",
        "1.16211925869\n",
        "1.15340696525\n",
        "1.13461724024\n",
        "1.11149949425\n",
        "1.09531762129\n",
        "1.09522311531\n",
        "1.09730241831\n",
        "1.10429725613\n",
        "1.11578183872\n",
        "1.12724267844\n",
        "1.13401927361\n",
        "1.13227957432\n",
        "1.13335075563\n",
        "1.13911098611\n",
        "1.14214268795\n",
        "1.1417804483\n",
        "1.13725471264\n",
        "1.13305698274\n",
        "1.13058171056\n",
        "1.12862786074\n",
        "1.1305290977\n",
        "1.12756075015\n",
        "1.11914496362\n",
        "1.10895378432\n",
        "1.09833452161\n",
        "1.09146333445\n",
        "1.08734135328\n",
        "1.08179027419\n",
        "1.07484210572\n",
        "1.06716077427\n",
        "1.05764168225\n",
        "1.05011380685\n",
        "1.04096709359\n",
        "1.03192606452\n",
        "1.02530628644\n",
        "1.01717300322\n",
        "1.00268524656\n",
        "0.986966932608\n",
        "0.980199109876\n",
        "0.980381885274\n",
        "0.980453148614\n",
        "0.979777542956\n",
        "0.987179136003\n",
        "0.994270571658\n",
        "0.994300763737\n",
        "0.990492622383\n",
        "0.981688459334\n",
        "0.972134099497\n",
        "0.964424435959\n",
        "0.95819905042\n",
        "0.950388163985\n",
        "0.943488353051\n",
        "0.940456628395\n",
        "0.941699794746\n",
        "0.948630723385\n",
        "0.951419284972\n",
        "0.940392369334\n",
        "0.925378916802\n",
        "0.906074873579\n",
        "0.895791464854\n",
        "0.894070077842\n",
        "0.893606667162\n",
        "0.893450952936\n",
        "0.891995686086\n",
        "0.886550726671\n",
        "0.87808206792\n",
        "0.872324082622\n",
        "0.870345085325\n",
        "0.867994441298\n",
        "0.862020892694\n",
        "0.849525333959\n",
        "0.841564874751\n",
        "0.846048382607\n",
        "0.853182984446\n",
        "0.857219824835\n",
        "0.864139081201\n",
        "0.87657903127\n",
        "0.892780939539\n",
        "0.897457604121\n",
        "0.895111901644\n",
        "0.898160299857\n",
        "0.900774464212\n",
        "0.899493290475\n",
        "0.894918425659\n",
        "0.891121886238\n",
        "0.887661658179\n",
        "0.880536812916\n",
        "0.876206970066\n",
        "0.880950687667\n",
        "0.881663586403\n",
        "0.877621579042\n",
        "0.874191308378\n",
        "0.874307629819\n",
        "0.874377537178\n",
        "0.873963898858\n",
        "0.87419185343\n",
        "0.87343051517\n",
        "0.87428682866\n",
        "0.87122505311\n",
        "0.870029092704\n",
        "0.875896042229\n",
        "0.882230813389\n",
        "0.876043365937\n",
        "0.864371486405\n",
        "0.858424352693\n",
        "0.856199391053\n",
        "0.853428274866\n",
        "0.85476999536\n",
        "0.861986810182\n",
        "0.873429904663\n",
        "0.879021006324\n",
        "0.882149648324\n",
        "0.887095892953\n",
        "0.894897810514\n",
        "0.902995483305\n",
        "0.91419037128\n",
        "0.916043056013\n",
        "0.916453275974\n",
        "0.91793547356\n",
        "0.916717403001\n",
        "0.915113925116\n",
        "0.922396235686\n",
        "0.932362162393\n",
        "0.931047298068\n",
        "0.926774073933\n",
        "0.932751502065\n",
        "0.936604922504\n",
        "0.941717811441\n",
        "0.950393343779\n",
        "0.959600671043\n",
        "0.966637901219\n",
        "0.975855661845\n",
        "0.978635189463\n",
        "0.987315316504\n",
        "0.997894488897\n",
        "0.983196278896\n",
        "0.975657270567\n",
        "0.969289966195\n",
        "0.965626160224\n",
        "0.963315100131\n",
        "0.960484064422\n",
        "0.962454366303\n",
        "0.966132993745\n",
        "0.959042728244\n",
        "0.955575885448\n",
        "0.960703485883\n",
        "0.956171983217\n",
        "0.945756086772\n",
        "0.933279931144\n",
        "0.92312303974\n",
        "0.916500415703\n",
        "0.918606072381\n",
        "0.913427013142\n",
        "0.904524036043\n",
        "0.891486279159\n",
        "0.871672919301\n",
        "0.855052415868\n",
        "0.843961941269\n",
        "0.840081780185\n",
        "0.834149040842\n",
        "0.822206265628\n",
        "0.812687284649\n",
        "0.807413423485\n",
        "0.80509382913\n",
        "0.803973868722\n",
        "0.809142830695\n",
        "0.8102652122\n",
        "0.805369444938\n",
        "0.786990462766\n",
        "0.77826724429\n",
        "0.776162238737\n",
        "0.765313670605\n",
        "0.750443996246\n",
        "0.735453202289\n",
        "0.729926329699\n",
        "0.732930339648\n",
        "0.731715625354\n",
        "0.724348739248\n",
        "0.716346524207\n",
        "0.707727324256\n",
        "0.702324904646\n",
        "0.692846479261\n",
        "0.685948776517\n",
        "0.68193390436\n",
        "0.675139682047\n",
        "0.669657650223\n",
        "0.666216621289\n",
        "0.657940822951\n",
        "0.643952524574\n",
        "0.629194388985\n",
        "0.619087851537\n",
        "0.609344346373\n",
        "0.595190755894\n",
        "0.57880185423\n",
        "0.56743479424\n",
        "0.556889030322\n",
        "0.543657194778\n",
        "0.53038159597\n",
        "0.524054686437\n",
        "0.51697236422\n",
        "0.49739122619\n",
        "0.476328824954\n",
        "0.465154841723\n",
        "0.464120262151\n",
        "0.46060819652\n",
        "0.46094838062\n",
        "0.462942863338\n",
        "0.464796496537\n",
        "0.467411019122\n",
        "0.471230524584\n",
        "0.474559514041\n",
        "0.475354588721\n",
        "0.478666343736\n",
        "0.479389153259\n",
        "0.478494338369\n",
        "0.474590060866\n",
        "0.46917564034\n",
        "0.45962708428\n",
        "0.454767373293\n",
        "0.444309780401\n",
        "0.426895170767\n",
        "0.409639498154\n",
        "0.397856871232\n",
        "0.389002867818\n",
        "0.385098247783\n",
        "0.379771247872\n",
        "0.373022549802\n",
        "0.367128718881\n",
        "0.365810926221\n",
        "0.368046736811\n",
        "0.366520868846\n",
        "0.363350483849\n",
        "0.352078496178\n",
        "0.338647629308\n",
        "0.33048374686\n",
        "0.330431297934\n",
        "0.327763362448\n",
        "0.328568168136\n",
        "0.33727344046\n",
        "0.342599811495\n",
        "0.342043970668\n",
        "0.338359264572\n",
        "0.337405280985\n",
        "0.336960623541\n",
        "0.339158717111\n",
        "0.342498071589\n",
        "0.340078610587\n",
        "0.333800581389\n",
        "0.32449819982\n",
        "0.318095677793\n",
        "0.314476898584\n",
        "0.307452399974\n",
        "0.293050827205\n",
        "0.283453533212\n",
        "0.281456402701\n",
        "0.281103750285\n",
        "0.278773367661\n",
        "0.277020052205\n",
        "0.280307735385\n",
        "0.294553212073\n",
        "0.29388968076\n",
        "0.291328261088\n",
        "0.291052270121\n",
        "0.297279320786\n",
        "0.284146342723\n",
        "0.258924025124\n",
        "0.243401442573\n",
        "0.242261543496\n",
        "0.23637063444\n",
        "0.223213917131\n",
        "0.226999358445\n",
        "0.236286859474\n",
        "0.24774772829\n",
        "0.242568633035\n",
        "0.234966743477\n",
        "0.233026628287\n",
        "0.23693166067\n",
        "0.256182777268\n",
        "0.251771026106\n",
        "0.255984758153\n",
        "0.251418329409\n",
        "0.255868270438\n",
        "0.257854569042\n",
        "0.269395959431\n",
        "0.253320873017\n",
        "0.247436623641\n",
        "0.225835805601\n",
        "0.211433748104\n",
        "0.215056080945\n",
        "0.21922349412\n",
        "0.220094234181\n",
        "0.225864879113\n",
        "0.235138093078\n",
        "0.228187924212\n",
        "0.22759094714\n",
        "0.234591308376\n",
        "0.242946374416\n",
        "0.233777331037\n",
        "0.202149146113\n",
        "0.205826268135\n",
        "0.225820086204\n",
        "0.226673217007\n",
        "0.224830330956\n",
        "0.226273020293\n",
        "0.230337144896\n",
        "0.237835929226\n",
        "0.250461221549\n",
        "0.256369822913\n",
        "0.253743429286\n",
        "0.251074241064\n",
        "0.249944056703\n",
        "0.264161352101\n",
        "0.279433154435\n",
        "0.286650522729\n",
        "0.284297762108\n",
        "0.291274461896\n",
        "0.298080226216\n",
        "0.290844083064\n",
        "0.287011145809\n",
        "0.286373771718\n",
        "0.285846661091\n",
        "0.292383987533\n",
        "0.298984292\n",
        "0.303698530242\n",
        "0.308930610259\n",
        "0.319887736067\n",
        "0.311511519811\n",
        "0.297965593073\n",
        "0.295842290519\n",
        "0.296255668589\n",
        "0.293585111291\n",
        "0.289835619809\n",
        "0.277644533661\n",
        "0.284256895211\n",
        "0.279388774832\n",
        "0.289951609967\n",
        "0.28196621958\n",
        "0.276798665422\n",
        "0.280181975856\n",
        "0.282442745449\n",
        "0.280121465072\n",
        "0.280613402119\n",
        "0.284051591257\n",
        "0.288635043435\n",
        "0.286059416306\n",
        "0.286233014583\n",
        "0.290513516294\n",
        "0.288433789161\n",
        "0.263606526665\n",
        "0.271732380725\n",
        "0.280132011353\n",
        "0.265142101104\n",
        "0.249873248288\n",
        "0.227844536585\n",
        "0.221110409439\n",
        "0.214535517478\n",
        "0.205448530767\n",
        "0.193540100147\n",
        "0.193508484088\n",
        "0.179305677953\n",
        "0.167222926455\n",
        "0.159406268705\n",
        "0.146480861991\n",
        "0.138026074792\n",
        "0.117162017829\n",
        "0.0982700386641\n",
        "0.096795778095\n",
        "0.0897175194905\n",
        "0.082389605666\n",
        "0.0736409031749\n",
        "0.0761973377581\n",
        "0.0843299431977\n",
        "0.08847157623\n",
        "0.0819243953078\n",
        "0.0746126547556\n",
        "0.0727504293122\n",
        "0.0803521739613\n",
        "0.0828422332633\n",
        "0.0765385759473\n",
        "0.0813658721544\n",
        "0.0740546360745\n",
        "0.0645258573101\n",
        "0.0377329996266\n",
        "0.0502905986493\n",
        "0.0672406899326\n",
        "0.0753516072729\n",
        "0.0713190116816\n",
        "0.0644347790901\n",
        "0.048463520238\n",
        "0.044019998387\n",
        "0.0431064000523\n",
        "0.034523725521\n",
        "0.01877118024\n",
        "0.0\n",
        "0.0255025146238\n",
        "0.0519229151072\n",
        "0.0832688739783\n",
        "0.0813806280662\n",
        "0.0626727275158\n",
        "0.0586032424098\n",
        "0.0580462222083\n",
        "0.0431197342893\n",
        "0.0135872580896\n",
        "0.0217513644954\n",
        "0.0428648834761\n",
        "0.0714756474388\n",
        "0.086359591544\n",
        "0.079670725747\n",
        "0.069037257678\n",
        "0.0506069462675\n",
        "0.0401503815155\n"
       ]
      }
     ],
     "prompt_number": 298
    },
    {
     "cell_type": "code",
     "collapsed": false,
     "input": [
      "a = np.array([0, 0, 0])\n",
      "b = np.array([1, 0, 0])\n",
      "v = a - b\n",
      "n = v / np.linalg.norm(v)\n",
      "p = np.array([0, 1, 1])\n",
      "print n \n",
      "distance = np.linalg.norm(a - p - np.dot(np.dot(a-p, n), n))\n",
      "print distance, sqrt(2)"
     ],
     "language": "python",
     "metadata": {},
     "outputs": [
      {
       "output_type": "stream",
       "stream": "stdout",
       "text": [
        "[-1.  0.  0.]\n",
        "1.41421356237 1.41421356237\n"
       ]
      }
     ],
     "prompt_number": 242
    }
   ],
   "metadata": {}
  }
 ]
}