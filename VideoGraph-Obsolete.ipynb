{
 "metadata": {
  "name": ""
 },
 "nbformat": 3,
 "nbformat_minor": 0,
 "worksheets": [
  {
   "cells": [
    {
     "cell_type": "code",
     "collapsed": false,
     "input": [
      "## Imports and defines\n",
      "%pylab\n",
      "import numpy as np\n",
      "import scipy as sp\n",
      "import cv2\n",
      "import glob\n",
      "import time\n",
      "import sys\n",
      "\n",
      "from Queue import Queue\n",
      "\n",
      "from pygraph.classes.digraph import digraph\n",
      "from pygraph.classes.graph import graph\n",
      "from pygraph.readwrite.dot import write\n",
      "from pygraph.algorithms.minmax import shortest_path\n",
      "\n",
      "import pygraphviz as gv\n",
      "\n",
      "import VideoTexturesUtils as vtu\n",
      "import GraphWithValues as gwv\n",
      "\n",
      "dataFolder = \"/home/ilisescu/PhD/data/\""
     ],
     "language": "python",
     "metadata": {},
     "outputs": [
      {
       "output_type": "stream",
       "stream": "stdout",
       "text": [
        "Using matplotlib backend: TkAgg\n",
        "Populating the interactive namespace from numpy and matplotlib\n"
       ]
      }
     ],
     "prompt_number": 1
    },
    {
     "cell_type": "code",
     "collapsed": false,
     "input": [
      "def gauss(x, mean, variance) :\n",
      "    normTerm = 1.0#np.sqrt(2*variance*np.pi)\n",
      "    return np.exp(-np.power(x-mean, 2.0)/(2*variance))/normTerm\n",
      "\n",
      "def multiGauss(X, Y, theta, mean, variance) :\n",
      "    normTerm = 1.0#np.sqrt(np.linalg.det(covar)*np.power(2*np.pi, x.shape[0]))\n",
      "    if len(mean) != 2 or len(variance) != 2 :\n",
      "        raise BaseException, \"multiGauss needs as many means and variances as k, where k=2\"\n",
      "        \n",
      "    a = (np.cos(theta)**2)/(2*variance[0])+(np.sin(theta)**2)/(2*variance[1])\n",
      "    b = np.sin(2*theta)/(4*variance[0])+np.sin(2*theta)/(4*variance[1])\n",
      "    c = (np.sin(theta)**2)/(2*variance[0])+(np.cos(theta)**2)/(2*variance[1])\n",
      "    \n",
      "    return np.exp(-(a*np.power(X-mean[0], 2)+2*b*(X-mean[0])*(Y-mean[1])+c*np.power(Y-mean[1], 2)))/normTerm"
     ],
     "language": "python",
     "metadata": {},
     "outputs": [],
     "prompt_number": 71
    },
    {
     "cell_type": "code",
     "collapsed": false,
     "input": [
      "def smoothStep(x, mean, interval, steepness) :\n",
      "    a = mean-np.floor(interval/2.0)\n",
      "    b = mean-np.floor((interval*steepness)/2.0)\n",
      "    c = mean+np.ceil((interval*steepness)/2.0)\n",
      "    d = mean+np.ceil(interval/2.0)\n",
      "    print a, b, c, d\n",
      "    \n",
      "    ## find step from 0 to 1\n",
      "    step1 = np.clip((x - a)/(b - a), 0.0, 1.0);\n",
      "    step1 = step1*step1*step1*(step1*(step1*6 - 15) + 10);\n",
      "    \n",
      "    ## find step from 1 to 0\n",
      "    step2 = np.clip((x - d)/(c - d), 0.0, 1.0);\n",
      "    step2 = step2*step2*step2*(step2*(step2*6 - 15) + 10);\n",
      "    \n",
      "    ## combine the two steps together\n",
      "    result = np.zeros(x.shape)\n",
      "    result += step1\n",
      "    result[np.argwhere(step2 != 1.0)] = step2[np.argwhere(step2 != 1.0)]\n",
      "    return result;"
     ],
     "language": "python",
     "metadata": {},
     "outputs": [],
     "prompt_number": 60
    },
    {
     "cell_type": "code",
     "collapsed": false,
     "input": [
      "def getShortestPath(graph, start, end) :\n",
      "    paths = shortest_path(graph, start)[0]\n",
      "#     print paths\n",
      "    curr = end\n",
      "    path = []\n",
      "    \n",
      "    ## no path from start to end\n",
      "    if curr not in paths :\n",
      "        return np.array(path), -1\n",
      "    \n",
      "    path.append(curr)\n",
      "    while curr != start :\n",
      "        curr = paths[curr]\n",
      "        path.append(curr)\n",
      "        \n",
      "    path = np.array(path)[::-1]\n",
      "    distance = 0\n",
      "    for i in xrange(1, len(path)) :\n",
      "        distance += graph.edge_weight((path[i-1], path[i]))\n",
      "    return path, distance"
     ],
     "language": "python",
     "metadata": {},
     "outputs": [],
     "prompt_number": 66
    },
    {
     "cell_type": "code",
     "collapsed": false,
     "input": [
      "# Draw graph as PNG\n",
      "def drawGraph(graph, name, yes) :\n",
      "    if yes :\n",
      "        dot = write(graph)\n",
      "        gvv = gv.AGraph()\n",
      "        gvv.from_string(dot)\n",
      "        gvv.layout(prog='circo')\n",
      "        gvv.draw(path=name)"
     ],
     "language": "python",
     "metadata": {},
     "outputs": [],
     "prompt_number": 67
    },
    {
     "cell_type": "code",
     "collapsed": false,
     "input": [
      "## start from a set of frames (i.e. initNodes, 1 for each situation) and add frames that can be played together\n",
      "def buildGraph(initNodes, weights, numBest, minLoopLength, minMaxIterations, drawOnPng, initGraph) : \n",
      "    if initGraph != None : \n",
      "        gr = initGraph\n",
      "    else :\n",
      "        gr = digraph()\n",
      "    gr.add_nodes(initNodes)\n",
      "    for i in xrange(0, minMaxIterations[1]) :\n",
      "        ## for each node find the best node to go to next and the best node to get there from\n",
      "        printout = '\\r' + \"Iteration \" + np.string_(i) + \"; \"\n",
      "        finished = False\n",
      "        ## check if all initNodes have been connected by graph\n",
      "        finished = True\n",
      "        for p in xrange(-1, len(initNodes)-1) :\n",
      "            if initNodes[p+1] in shortest_path(gr, initNodes[p])[0] :\n",
      "                printout += \"conn \" + np.string_(initNodes[p+1]) + \"-\" + np.string_(initNodes[p]) + \" \"\n",
      "            else :\n",
      "                finished = False\n",
      "        sys.stdout.write(printout)\n",
      "        sys.stdout.flush()\n",
      "        \n",
      "        if finished and i >= minMaxIterations[0]: \n",
      "            print \"finished\"\n",
      "            break\n",
      "        for node in gr.nodes():\n",
      "            \n",
      "            bestBackward = []\n",
      "            bestForward = []\n",
      "            \n",
      "            if node > 2 :\n",
      "                bestBackward = np.argsort(weights[node, :])\n",
      "                bestBackward = np.ndarray.flatten(bestBackward[np.argwhere(bestBackward < node-1)])\n",
      "                bestBackward = np.ndarray.flatten(bestBackward[np.argwhere(weights[node, bestBackward] <= 9.0)])\n",
      "                bestBackward = bestBackward[0:numBest]\n",
      "            if node+1 < weights.shape[-1] :\n",
      "                bestForward = np.argsort(weights[node, :])\n",
      "                bestForward = np.ndarray.flatten(bestForward[np.where(bestForward > node+1)])\n",
      "                bestForward = np.ndarray.flatten(bestForward[np.argwhere(weights[node, bestForward] <= 9.0)])\n",
      "                bestForward = bestForward[0:numBest]\n",
      "            \n",
      "            # add prev and next frames\n",
      "#             if node-1 >=0 :\n",
      "#                 bestBackward = np.hstack((bestBackward, node-1))\n",
      "            if node+1 < weights.shape[-1] :\n",
      "                bestForward = np.hstack((bestForward, int(node+1)))\n",
      "            print bestForward, bestBackward, node\n",
      "            \n",
      "            \n",
      "            for edgeTo in np.array(np.hstack((bestBackward, bestForward)), dtype=int) :\n",
      "                print \"la\", edgeTo\n",
      "                if edgeTo not in gr.nodes() :\n",
      "                    gr.add_node(edgeTo)\n",
      "                    \n",
      "                if (node, edgeTo) not in gr.edges() :\n",
      "                    gr.add_edge((node, edgeTo), wt=weights[node, edgeTo], label=np.str(weights[node, edgeTo]))\n",
      "                else :\n",
      "                    gr.set_edge_weight((node, edgeTo), weights[node, edgeTo])\n",
      "                    gr.set_edge_label((node, edgeTo), np.str(weights[node, edgeTo]))\n",
      "    #         print edgeTo\n",
      "            \n",
      "    drawGraph(gr, \"frameGraph.png\", drawOnPng)\n",
      "    return gr"
     ],
     "language": "python",
     "metadata": {},
     "outputs": [],
     "prompt_number": 5
    },
    {
     "cell_type": "code",
     "collapsed": false,
     "input": [
      "## start from a set of frames (i.e. initNodes, 1 for each situation) and add frames that can be played together\n",
      "def buildGraph(initNodes, weights, numBest, minLoopLength, minIterations, drawOnPng, initGraph) : \n",
      "    if initGraph != None : \n",
      "        gr = initGraph\n",
      "    else :\n",
      "        gr = digraph()\n",
      "    gr.add_nodes(initNodes)\n",
      "    for i in xrange(0, 30) :\n",
      "        ## for each node find the best node to go to next and the best node to get there from\n",
      "        printout = '\\r' + \"Iteration \" + np.string_(i) + \"; \"\n",
      "        finished = False\n",
      "        ## check if all initNodes have been connected by graph\n",
      "        finished = True\n",
      "        for p in xrange(-1, len(initNodes)-1) :\n",
      "            if initNodes[p+1] in shortest_path(gr, initNodes[p])[0] :\n",
      "                printout += \"conn \" + np.string_(initNodes[p+1]) + \"-\" + np.string_(initNodes[p]) + \" \"\n",
      "            else :\n",
      "                finished = False\n",
      "        sys.stdout.write(printout)\n",
      "        sys.stdout.flush()\n",
      "        \n",
      "        if finished and i >= minIterations: \n",
      "            print \"finished\"\n",
      "            break\n",
      "        for node in gr.nodes():\n",
      "            bestPrevs = np.argsort(weights[:, node])#[-numBest:]\n",
      "            bestNexts = np.argsort(weights[node, :])#[-numBest:]\n",
      "            print bestPrevs\n",
      "            print bestNexts\n",
      "            # remove current node\n",
      "            bestPrevs = np.delete(bestPrevs, np.where(bestPrevs == node))\n",
      "            bestNexts = np.delete(bestNexts, np.where(bestNexts == node))\n",
      "            # remove prev and next frames as they are specifically added later --> only useful if minLoopLength = 1\n",
      "            if minLoopLength <= 1 :\n",
      "                bestPrevs = np.delete(bestPrevs, np.where(bestPrevs == node-1))\n",
      "                bestPrevs = np.delete(bestPrevs, np.where(bestPrevs == node+1))\n",
      "                bestNexts = np.delete(bestNexts, np.where(bestNexts == node-1))\n",
      "                bestNexts = np.delete(bestNexts, np.where(bestNexts == node+1))\n",
      "\n",
      "            \n",
      "            # take only transitions s.a. minimum loop length = minLoopLength and take first numBest transitions \n",
      "            # (lower weight is better)\n",
      "            bestPrevs = bestPrevs[np.where(np.abs(bestPrevs-node) >= minLoopLength)][0:numBest]\n",
      "            bestNexts = bestNexts[np.where(np.abs(bestNexts-node) >= minLoopLength)][0:numBest]\n",
      "            \n",
      "            # add prev and next frames\n",
      "            if node-1 >=0 :\n",
      "                bestPrevs = np.hstack((bestPrevs, node-1))\n",
      "            if node+1 < weights.shape[-1] :\n",
      "                bestNexts = np.hstack((bestNexts, node+1))\n",
      "#             print bestNexts, bestPrevs, node\n",
      "            \n",
      "            \n",
      "            for bestPrev, bestNext in zip(bestPrevs, bestNexts) :\n",
      "                if bestPrev not in gr.nodes() :\n",
      "                    gr.add_node(bestPrev)\n",
      "                if bestNext not in gr.nodes() :\n",
      "                    gr.add_node(bestNext)\n",
      "            \n",
      "                if (bestPrev, node) not in gr.edges() :\n",
      "                    gr.add_edge((bestPrev, node), wt=weights[bestPrev, node], label=np.str(weights[bestPrev, node]))\n",
      "                else :\n",
      "                    gr.set_edge_weight((bestPrev, node), weights[bestPrev, node])\n",
      "                    gr.set_edge_label((bestPrev, node), np.str(weights[bestPrev, node]))\n",
      "                    \n",
      "                if (node, bestNext) not in gr.edges() :\n",
      "                    gr.add_edge((node, bestNext), wt=weights[node, bestNext], label=np.str(weights[node, bestNext]))\n",
      "                else :\n",
      "                    gr.set_edge_weight((node, bestNext), weights[node, bestNext])\n",
      "                    gr.set_edge_label((node, bestNext), np.str(weights[node, bestNext]))\n",
      "    #         print bestNext, bestPrev\n",
      "            \n",
      "    drawGraph(gr, \"frameGraph.png\", drawOnPng)\n",
      "    return gr"
     ],
     "language": "python",
     "metadata": {},
     "outputs": [],
     "prompt_number": 6
    },
    {
     "cell_type": "code",
     "collapsed": false,
     "input": [
      "def findBestLoops(windowSize, minLoopLength, costMatrix, way) : \n",
      "    ## find best loops with sliding window and min loop length\n",
      "    ## maybe change windowSize this value based on average loop length after a preliminary first pass or numFrames\n",
      "    costMat = np.copy(costMatrix)\n",
      "    # only allow backwards transitions\n",
      "    if way == 'forward' :\n",
      "        costMat[np.tril_indices(len(costMat), k=minLoopLength-1)] = np.max(costMat)\n",
      "    elif way == 'backward' :\n",
      "        costMat[np.triu_indices(len(costMat), k=-minLoopLength+1)] = np.max(costMat)\n",
      "#     figure(); imshow(costMat, interpolation='nearest')\n",
      "    \n",
      "    bestLoops = []\n",
      "    currentMinCost = np.max(costMat)\n",
      "    currentBestTransition = [-1, -1]\n",
      "    bestLoopsCosts = []\n",
      "    for i in xrange(minLoopLength, costMat.shape[0], windowSize) :\n",
      "        j = costMat[i:i+windowSize, :]\n",
      "        sortIndices = np.argsort(j, axis=-1)\n",
      "        if np.min(np.sort(j, axis=-1)[:, 0]) <= currentMinCost :\n",
      "#             print \"better from\", currentMinCost,\n",
      "            currentMinCost = np.min(np.sort(j, axis=-1)[:, 0])\n",
      "            currentBestTransition = [sortIndices[np.argmin(np.sort(j, axis=-1)[:, 0]), 0], i+np.argmin(np.sort(j, axis=-1)[:, 0])]\n",
      "        else :\n",
      "#             print \"new best\", currentMinCost, currentBestTransition, np.min(np.sort(j, axis=-1)[:, 0])\n",
      "            bestLoopsCosts.append(currentMinCost)\n",
      "            bestLoops.append(currentBestTransition)\n",
      "            currentMinCost = np.max(costMat)\n",
      "    \n",
      "    ## not sure if I should keep the last best transition \n",
      "    if not np.all(bestLoops[-1] == currentBestTransition) and not np.all(bestLoopsCosts[-1] == currentMinCost):\n",
      "        bestLoopsCosts.append(currentMinCost)\n",
      "        bestLoops.append(currentBestTransition)\n",
      "        \n",
      "    \n",
      "    ## only keep transitions with cost lower than median plus certain percentage\n",
      "    thresh = 0.1 ## maybe change this depending on how many potential transitions have been found \n",
      "                 ## (the more, the higher the probability that there are more outliers so lower tresh should be)\n",
      "    medianCost = np.median(bestLoopsCosts)\n",
      "    goodTransitions = np.ndarray.flatten(np.argwhere(bestLoopsCosts <= medianCost+medianCost*thresh))\n",
      "    print \"keeping\", len(goodTransitions), \"of\", len(bestLoopsCosts)\n",
      "    bestLoopsCosts = np.array(bestLoopsCosts)[goodTransitions]\n",
      "    bestLoops = np.array(bestLoops)[goodTransitions, :]\n",
      "    # bestLoops = np.reshape(bestLoops, (len(bestLoops), 2))\n",
      "#     print bestLoopsCosts\n",
      "\n",
      "    return bestLoops"
     ],
     "language": "python",
     "metadata": {},
     "outputs": [],
     "prompt_number": 7
    },
    {
     "cell_type": "code",
     "collapsed": false,
     "input": [
      "## made up data of a dot moving left to right and top to bottom\n",
      "frameSize = np.array([7, 7, 3])\n",
      "numFrames = 31\n",
      "movie = np.zeros(np.hstack([frameSize[0], frameSize[1], frameSize[2], numFrames]), dtype=uint8)\n",
      "movie[3, 0, :, 0] = movie[3, 1, :, 1] = movie[3, 2, :, 2] = movie[3, 3, :, 3] = movie[3, 4, :, 4] = 255\n",
      "movie[3, 5, :, 5] = movie[3, 6, :, 6] = movie[3, 5, :, 7] = movie[3, 4, :, 8] = movie[3, 3, :, 9] = 255\n",
      "movie[3, 2, :, 10] = movie[3, 1, :, 11] = movie[3, 0, :, 12] = movie[3, 1, :, 13] = movie[3, 2, :, 14] = 255\n",
      "movie[3, 3, :, 15] = movie[2, 3, :, 16] = movie[1, 3, :, 17] = movie[0, 3, :, 18] = movie[1, 3, :, 19] = 255\n",
      "movie[2, 3, :, 20] = movie[3, 3, :, 21] = movie[4, 3, :, 22] = movie[5, 3, :, 23] = movie[6, 3, :, 24] = 255\n",
      "movie[5, 3, :, 25] = movie[4, 3, :, 26] = movie[3, 3, :, 27] = movie[2, 3, :, 28] = movie[1, 3, :, 29] = 255\n",
      "movie[0, 3, :, 30] = 255\n",
      "\n",
      "# numFrames = 26\n",
      "# movie = np.zeros(np.hstack([frameSize[0], frameSize[1], frameSize[2], numFrames]), dtype=uint8)\n",
      "# movie[3, 0, :, 0] = movie[3, 1, :, 1] = movie[3, 2, :, 2] = movie[3, 3, :, 3] = movie[3, 4, :, 4] = 255\n",
      "# movie[3, 5, :, 5] = movie[3, 6, :, 6] = movie[3, 5, :, 7] = movie[3, 4, :, 8] = movie[3, 3, :, 9] = 255\n",
      "# movie[3, 2, :, 10] = movie[3, 1, :, 11] = movie[3, 0, :, 12] = movie[0, 3, :, 13] = movie[1, 3, :, 14] = 255\n",
      "# movie[2, 3, :, 15] = movie[3, 3, :, 16] = movie[4, 3, :, 17] = movie[5, 3, :, 18] = movie[6, 3, :, 19] = 255\n",
      "# movie[5, 3, :, 20] = movie[4, 3, :, 21] = movie[3, 3, :, 22] = movie[2, 3, :, 23] = movie[1, 3, :, 24] = 255\n",
      "# movie[0, 3, :, 25] = 255\n",
      "\n",
      "distanceMatrix = np.zeros((numFrames, numFrames))\n",
      "for r in xrange(0, numFrames) :\n",
      "    for c in xrange(r+1, numFrames) :\n",
      "        rowLoc = np.argwhere(movie[:, :, 0, r] == 255)[0]\n",
      "        colLoc = np.argwhere(movie[:, :, 0, c] == 255)[0]\n",
      "        distanceMatrix[r, c] = distanceMatrix[c, r] = np.sum(np.abs(rowLoc-colLoc))\n",
      "\n",
      "## add noise\n",
      "# distanceMatrix += np.random.random(distanceMatrix.shape)*(1-np.eye(distanceMatrix.shape[0]))\n",
      "figure(); imshow(distanceMatrix, interpolation='nearest')\n",
      "\n",
      "distMat = vtu.filterDistanceMatrix(distanceMatrix, 1, True)\n",
      "idxCorrection = 1\n",
      "figure(); imshow(distMat, interpolation='nearest')"
     ],
     "language": "python",
     "metadata": {},
     "outputs": [
      {
       "metadata": {},
       "output_type": "pyout",
       "prompt_number": 62,
       "text": [
        "<matplotlib.image.AxesImage at 0x7efed99c1a90>"
       ]
      }
     ],
     "prompt_number": 62
    },
    {
     "cell_type": "code",
     "collapsed": false,
     "input": [
      "## start from a set of frames (i.e. initNodes, 1 for each situation) and add frames that can be played together\n",
      "def buildGraph(initNodes, weights, ranges, numBest, minLoopLength, minMaxIterations, drawOnPng, initGraph) : \n",
      "    if initGraph != None : \n",
      "        gr = initGraph\n",
      "    else :\n",
      "        gr = digraph()\n",
      "    for initNode in initNodes :\n",
      "        if initNode not in gr.nodes() :\n",
      "            gr.add_node(initNode)\n",
      "    for i in xrange(0, minMaxIterations[1]) :\n",
      "        ## for each node find the best node to go to next and the best node to get there from\n",
      "        printout = '\\r' + \"Iteration \" + np.string_(i+1) + \"; \"\n",
      "        ## check if all initNodes have been connected by graph\n",
      "        finished = True\n",
      "        ## check initNodes are connected\n",
      "        for i1, i2 in zip(initNodes, np.roll(initNodes, 1)) :\n",
      "#             print \"t\", i1, i2\n",
      "            if i2 in shortest_path(gr, i1)[0] and i1 in shortest_path(gr, i2)[0] :\n",
      "                printout += \"conn \" + np.string_(i1) + \"-\" + np.string_(i2) + \" \"\n",
      "            else :\n",
      "                finished = False\n",
      "        sys.stdout.write(printout)\n",
      "        sys.stdout.flush()\n",
      "        \n",
      "        if finished and i >= minMaxIterations[0]: \n",
      "            print \"finished\"\n",
      "            break\n",
      "        \n",
      "        for node in gr.nodes():\n",
      "            ## add node for frame node-1 and connect to node\n",
      "            if node-1 >= 0 :\n",
      "                if node-1 not in gr.nodes() :\n",
      "                    gr.add_node(node-1)\n",
      "                    \n",
      "                if (node-1, node) not in gr.edges() :\n",
      "                    gr.add_edge((node-1, node), wt=weights[node-1, node], label=np.str(weights[node-1, node]))\n",
      "                else :\n",
      "                    gr.set_edge_weight((node-1, node), weights[node-1, node])\n",
      "                    gr.set_edge_label((node-1, node), np.str(weights[node-1, node]))\n",
      "            \n",
      "            ## add node for frame node+1 and connect to node\n",
      "            if node+1 < weights.shape[-1] :\n",
      "                if node+1 not in gr.nodes() :\n",
      "                    gr.add_node(node+1)\n",
      "                \n",
      "                if (node, node+1) not in gr.edges() :\n",
      "                    gr.add_edge((node, node+1), wt=weights[node, node+1], label=np.str(weights[node, node+1]))\n",
      "                else :\n",
      "                    gr.set_edge_weight((node, node+1), weights[node, node+1])\n",
      "                    gr.set_edge_label((node, node+1), np.str(weights[node, node+1]))\n",
      "            \n",
      "            ## order transitions based on weights and keep n best s.t. n is higher the further away from center\n",
      "            bestTransitions = np.argsort(weights[node, :])\n",
      "            bestTransitions = bestTransitions[np.where(np.abs(bestTransitions-node) > minLoopLength)]\n",
      "            bestTransitions = bestTransitions[0:5*(1-ranges[node])]\n",
      "            print node, bestTransitions\n",
      "            \n",
      "            for bt in bestTransitions :\n",
      "                ## check timewise neighbors of node for transitions to bt\n",
      "                neighSize = 5\n",
      "                neighs = arange(node-neighSize, node+neighSize+1, dtype=int)\n",
      "                btWeight = weights[node, bt]\n",
      "                print \"weight\", btWeight\n",
      "\n",
      "                addEdge = True\n",
      "                for neigh in np.delete(neighs, np.where(neighs == node)) :\n",
      "                    if (neigh, bt) in gr.edges() : \n",
      "                        if gr.edge_weight((neigh, bt)) >= btWeight :\n",
      "                            print \"remove edge\", neigh, bt, gr.edge_weight((neigh, bt))\n",
      "                            gr.del_edge((neigh, bt))\n",
      "                        else :\n",
      "                            print \"found better connected neighbour\", neigh, bt, gr.edge_weight((neigh, bt))\n",
      "                            addEdge = False\n",
      "                \n",
      "                if addEdge :\n",
      "                    print \"new edge\", node, bt\n",
      "                    if bt not in gr.nodes() :\n",
      "                        gr.add_node(bt)\n",
      "                    \n",
      "                    if (node, bt) not in gr.edges() :\n",
      "                        gr.add_edge((node, bt), wt=btWeight, label=np.str(btWeight))\n",
      "                    else :\n",
      "                        gr.set_edge_weight((node, bt), btWeight)\n",
      "                        gr.set_edge_label((node, bt), np.str(btWeight))\n",
      "#             for n in gr.neighbors(node) :\n",
      "#                 print n, gr.neighbors(n),\n",
      "#             print\n",
      "#             print\n",
      "#             for t in bestTransitions :\n",
      "#                 if t not in gr.nodes() :\n",
      "#                     gr.add_node(t)\n",
      "                    \n",
      "#                 if (node, t) not in gr.edges() :\n",
      "#                     gr.add_edge((node, t), wt=weights[node, t], label=np.str(weights[node, t]))\n",
      "#                 else :\n",
      "#                     gr.set_edge_weight((node, t), weights[node, t])\n",
      "#                     gr.set_edge_label((node, t), np.str(weights[node, t]))\n",
      "#             print node, ranges[node], bestTransitions[0:5*(1-ranges[node])]\n",
      "\n",
      "\n",
      "            \n",
      "    drawGraph(gr, \"frameGraph.png\", drawOnPng)\n",
      "    return gr"
     ],
     "language": "python",
     "metadata": {},
     "outputs": [],
     "prompt_number": 68
    },
    {
     "cell_type": "code",
     "collapsed": false,
     "input": [
      "print initialNodes\n",
      "# print getShortestPath(frameGraph, initialNodes[1]+idxCorrection, initialNodes[0]+idxCorrection)\n",
      "print probMat[4,:]\n",
      "print 1/probMat[4,:]\n",
      "print rangeCurves[0:1]\n",
      "print rangeCurves[7]"
     ],
     "language": "python",
     "metadata": {},
     "outputs": [
      {
       "output_type": "stream",
       "stream": "stdout",
       "text": [
        "[ 7 19]\n",
        "[ 0.01983069  0.02940345  0.04359721  0.06464264  0.07371217  0.10929483\n",
        "  0.07371217  0.06464264  0.04359721  0.02940345  0.01983069  0.01739073\n",
        "  0.01983069  0.02940345  0.03352883  0.02940345  0.01983069  0.01739073\n",
        "  0.01983069  0.02940345  0.03352883  0.02940345  0.01983069  0.01739073\n",
        "  0.01983069  0.02940345  0.03352883  0.02940345]\n",
        "[ 50.42688105  34.00961464  22.93724823  15.46966532  13.5662803\n",
        "   9.14956379  13.5662803   15.46966532  22.93724823  34.00961464\n",
        "  50.42688105  57.5019059   50.42688105  34.00961464  29.82507737\n",
        "  34.00961464  50.42688105  57.5019059   50.42688105  34.00961464\n",
        "  29.82507737  34.00961464  50.42688105  57.5019059   50.42688105\n",
        "  34.00961464  29.82507737  34.00961464]\n",
        "[  7.04065961e-20]\n",
        "3.07487987959e-09\n"
       ]
      }
     ],
     "prompt_number": 107
    },
    {
     "cell_type": "code",
     "collapsed": false,
     "input": [
      "weightMat = distMat[1:distMat.shape[1], 0:-1]\n",
      "# weightMat = distMat[0:-1, 1:distMat.shape[1]]\n",
      "figure(); imshow(weightMat, interpolation='nearest')\n",
      "\n",
      "probMat, cumProb = vtu.getProbabilities(weightMat, 1.0, True)\n",
      "idxCorrection =2 #+= 1\n",
      "\n",
      "initialNodes = np.array([9, 21])-idxCorrection\n",
      "# fig = plt.figure()\n",
      "# ax = fig.add_subplot(111)\n",
      "# ax.imshow(probMat, interpolation='nearest')\n",
      "# ax.set_autoscale_on(False)\n",
      "# ax.scatter(initialNodes, initialNodes, c=\"m\", marker=\"s\")\n",
      "\n",
      "## compute rangeCurves using initialNodes before idxCorrection\n",
      "rangeCurves = np.zeros(weightMat.shape[-1])\n",
      "for node in initialNodes :\n",
      "    ## the variances should be set according to situation range\n",
      "#     rangeCurves += gauss(arange(0.0, len(rangeCurves)), float(node), 5.0)\n",
      "    rangeCurves += smoothStep(arange(0.0, len(rangeCurves)), float(node), 13, 0.4)\n",
      "rangeCurves /= np.max(rangeCurves)\n",
      "figure(); plot(arange(0, len(rangeCurves)), rangeCurves)\n",
      "print rangeCurves\n",
      "# frameGraph = buildGraph(initialNodes, weightMat, rangeCurves, 1, 3, (1, 1), True, None)\n",
      "frameGraph = buildGraph(initialNodes, 1.0/probMat, rangeCurves, 1, 3, (10, 30), True, None)\n",
      "\n",
      "print len(frameGraph.nodes()), frameGraph.nodes()\n",
      "print len(frameGraph.edges()), frameGraph.edges()"
     ],
     "language": "python",
     "metadata": {},
     "outputs": [
      {
       "output_type": "stream",
       "stream": "stdout",
       "text": [
        "sigma 7.61651131824\n",
        "(28, 28) (28, 28)\n",
        "1.0 5.0 10.0 14.0\n",
        "13.0 17.0 22.0 26.0\n",
        "[ 0.          0.          0.10351562  0.5         0.89648438  1.          1.\n",
        "  1.          1.          1.          1.          0.89648438  0.5\n",
        "  0.10351562  0.10351562  0.5         0.89648438  1.          1.          1.\n",
        "  1.          1.          1.          0.89648438  0.5         0.10351562\n",
        "  0.          0.        ]"
       ]
      },
      {
       "output_type": "stream",
       "stream": "stdout",
       "text": [
        "\n",
        "\r",
        "Iteration 1; "
       ]
      },
      {
       "output_type": "stream",
       "stream": "stdout",
       "text": [
        "19 []\n",
        "7 []\n",
        "\r",
        "Iteration 2; "
       ]
      },
      {
       "output_type": "stream",
       "stream": "stdout",
       "text": [
        "6 []\n",
        "7 []\n",
        "8 []\n",
        "18 []\n",
        "19 []\n",
        "20 []\n",
        "\r",
        "Iteration 3; "
       ]
      },
      {
       "output_type": "stream",
       "stream": "stdout",
       "text": [
        "5 []\n",
        "6 []\n",
        "7 []\n",
        "8 []\n",
        "9 []\n",
        "17 []\n",
        "18 []\n",
        "19 []\n",
        "20 []\n",
        "21 []\n",
        "\r",
        "Iteration 4; "
       ]
      },
      {
       "output_type": "stream",
       "stream": "stdout",
       "text": [
        "4 []\n",
        "5 []\n",
        "6 []\n",
        "7 []\n",
        "8 []\n",
        "9 []\n",
        "10 []\n",
        "16 []\n",
        "17 []\n",
        "18 []\n",
        "19 []\n",
        "20 []\n",
        "21 []\n",
        "22 []\n",
        "\r",
        "Iteration 5; "
       ]
      },
      {
       "output_type": "stream",
       "stream": "stdout",
       "text": [
        "3 [7 8]\n",
        "weight 19.0194076273\n",
        "found better connected neighbour 6 7 12.7185691427\n",
        "weight 21.6878808465\n",
        "found better connected neighbour 7 8 13.9490232798\n",
        "4 []\n",
        "5 []\n",
        "6 []\n",
        "7 []\n",
        "8 []\n",
        "9 []\n",
        "10 []\n",
        "11 []\n",
        "15 [27 19]\n",
        "weight 15.3279420911\n",
        "new edge 15 27\n",
        "weight 19.9307717364\n",
        "found better connected neighbour 18 19 12.8551595681\n",
        "16 []\n",
        "17 []\n",
        "18 []\n",
        "19 []\n",
        "20 []\n",
        "21 []\n",
        "22 []\n",
        "23 []\n",
        "\r",
        "Iteration 6; "
       ]
      },
      {
       "output_type": "stream",
       "stream": "stdout",
       "text": [
        "2 [ 7  6  8 20]\n",
        "weight 21.5039768539\n",
        "found better connected neighbour 6 7 12.7185691427\n",
        "weight 24.5210417103\n",
        "found better connected neighbour 5 6 9.8649826471\n",
        "weight 24.5210417103\n",
        "found better connected neighbour 7 8 13.9490232798\n",
        "weight 24.5210417103\n",
        "new edge 2 20\n",
        "3 [7 8]\n",
        "weight 19.0194076273\n",
        "found better connected neighbour 6 7 12.7185691427\n",
        "weight 21.6878808465\n",
        "found better connected neighbour 7 8 13.9490232798\n",
        "4 []\n",
        "5 []\n",
        "6 []\n",
        "7 []\n",
        "8 []\n",
        "9 []\n",
        "10 []\n",
        "11 []\n",
        "12 [1 0]\n",
        "weight 13.7871220813\n",
        "new edge 12 1\n",
        "weight 20.4425005272\n",
        "new edge 12 0\n",
        "14 [27 26 19  2]\n",
        "weight 13.4194620371\n",
        "remove edge 15 27 15.3279420911\n",
        "new edge 14 27\n",
        "weight 19.8973620564\n",
        "new edge 14 26\n",
        "weight 22.6890146053\n",
        "found better connected neighbour 18 19 12.8551595681\n",
        "weight 25.872343394\n",
        "new edge 14 2\n",
        "15 [27 19]\n",
        "weight 15.3279420911\n",
        "found better connected neighbour 14 27 13.4194620371\n",
        "weight 19.9307717364\n",
        "found better connected neighbour 18 19 12.8551595681\n",
        "16 []\n",
        "17 []\n",
        "18 []\n",
        "19 []\n",
        "20 []\n",
        "21 []\n",
        "22 []\n",
        "23 []\n",
        "24 [ 2 20]\n",
        "weight 24.5210417103\n",
        "new edge 24 2\n",
        "weight 24.5210417103\n",
        "found better connected neighbour 19 20 13.8439771653\n",
        "27 [16 17 15 18 19]\n",
        "weight 10.3376888059\n",
        "new edge 27 16\n",
        "weight 15.3279420911\n",
        "new edge 27 17\n",
        "weight 15.3279420911\n",
        "new edge 27 15\n",
        "weight 17.4784929272\n",
        "new edge 27 18\n",
        "weight 19.9307717364\n",
        "new edge 27 19\n",
        "\r",
        "Iteration 7; conn 7-19 conn 19-7 "
       ]
      },
      {
       "output_type": "stream",
       "stream": "stdout",
       "text": [
        "0 [13 14 12  9 11]\n",
        "weight 13.7871220813\n",
        "new edge 0 13\n",
        "weight 20.4425005272\n",
        "new edge 0 14\n",
        "weight 20.4425005272\n",
        "new edge 0 12\n",
        "weight 23.3106374461\n",
        "new edge 0 9\n",
        "weight 23.3106374461\n",
        "new edge 0 11\n",
        "1 [14 13 20  8 26]\n",
        "weight 18.571244026\n",
        "remove edge 0 14 20.4425005272\n",
        "new edge 1 14\n",
        "weight 21.176838706\n",
        "found better connected neighbour 0 13 13.7871220813\n",
        "weight 24.1480052146\n",
        "remove edge 2 20 24.5210417103\n",
        "new edge 1 20\n",
        "weight 24.1480052146\n",
        "new edge 1 8\n",
        "weight 24.1480052146\n",
        "new edge 1 26\n",
        "2 [ 7  6  8 20]\n",
        "weight 21.5039768539\n",
        "found better connected neighbour 6 7 12.7185691427\n",
        "weight 24.5210417103\n",
        "found better connected neighbour 5 6 9.8649826471\n",
        "weight 24.5210417103\n",
        "found better connected neighbour 1 8 24.1480052146\n",
        "found better connected neighbour 7 8 13.9490232798\n",
        "weight 24.5210417103\n",
        "found better connected neighbour 1 20 24.1480052146\n",
        "3 [7 8]\n",
        "weight 19.0194076273\n",
        "found better connected neighbour 6 7 12.7185691427\n",
        "weight 21.6878808465\n",
        "remove edge 1 8 24.1480052146\n",
        "found better connected neighbour 7 8 13.9490232798\n",
        "4 []\n",
        "5 []\n",
        "6 []\n",
        "7 []\n",
        "8 []\n",
        "9 []\n",
        "10 []\n",
        "11 []\n",
        "12 [1 0]\n",
        "weight 13.7871220813\n",
        "new edge 12 1\n",
        "weight 20.4425005272\n",
        "new edge 12 0\n",
        "13 [ 2 26 27  1]\n",
        "weight 19.0047108289\n",
        "remove edge 14 2 25.872343394\n",
        "new edge 13 2\n",
        "weight 19.0047108289\n",
        "remove edge 14 26 19.8973620564\n",
        "new edge 13 26\n",
        "weight 21.6711220484\n",
        "found better connected neighbour 14 27 13.4194620371\n",
        "weight 21.6711220484\n",
        "found better connected neighbour 12 1 13.7871220813\n",
        "14 [27 26 19  2]\n",
        "weight 13.4194620371\n",
        "new edge 14 27\n",
        "weight 19.8973620564\n",
        "found better connected neighbour 13 26 19.0047108289\n",
        "weight 22.6890146053\n",
        "found better connected neighbour 18 19 12.8551595681\n",
        "weight 25.872343394\n",
        "found better connected neighbour 13 2 19.0047108289\n",
        "15 [27 19]\n",
        "weight 15.3279420911\n",
        "found better connected neighbour 14 27 13.4194620371\n",
        "weight 19.9307717364\n",
        "found better connected neighbour 18 19 12.8551595681\n",
        "16 []\n",
        "17 []\n",
        "18 []\n",
        "19 []\n",
        "20 []\n",
        "21 []\n",
        "22 []\n",
        "23 []\n",
        "24 [ 2 20]\n",
        "weight 24.5210417103\n",
        "new edge 24 2\n",
        "weight 24.5210417103\n",
        "found better connected neighbour 19 20 13.8439771653\n",
        "25 [14 15  2 20]\n",
        "weight 18.4346536006\n",
        "new edge 25 14\n",
        "weight 21.0210842825\n",
        "found better connected neighbour 27 15 15.3279420911\n",
        "weight 23.9703980333\n",
        "remove edge 24 2 24.5210417103\n",
        "new edge 25 2\n",
        "weight 23.9703980333\n",
        "new edge 25 20\n",
        "26 [15 16 14 19 17]\n",
        "weight 13.4194620371\n",
        "remove edge 27 15 15.3279420911\n",
        "new edge 26 15\n",
        "weight 19.8973620564\n",
        "found better connected neighbour 27 16 10.3376888059\n",
        "weight 19.8973620564\n",
        "found better connected neighbour 25 14 18.4346536006\n",
        "weight 22.6890146053\n",
        "found better connected neighbour 27 19 19.9307717364\n",
        "weight 22.6890146053\n",
        "found better connected neighbour 27 17 15.3279420911\n",
        "27 [16 17 15 18 19]\n",
        "weight 10.3376888059\n",
        "new edge 27 16\n",
        "weight 15.3279420911\n",
        "new edge 27 17\n",
        "weight 15.3279420911\n",
        "found better connected neighbour 26 15 13.4194620371\n",
        "weight 17.4784929272\n",
        "new edge 27 18\n",
        "weight 19.9307717364\n",
        "new edge 27 19\n",
        "\r",
        "Iteration 8; conn 7-19 conn 19-7 "
       ]
      },
      {
       "output_type": "stream",
       "stream": "stdout",
       "text": [
        "0 [13 14 12  9 11]\n",
        "weight 13.7871220813\n",
        "new edge 0 13\n",
        "weight 20.4425005272\n",
        "found better connected neighbour 1 14 18.571244026\n",
        "weight 20.4425005272\n",
        "new edge 0 12\n",
        "weight 23.3106374461\n",
        "new edge 0 9\n",
        "weight 23.3106374461\n",
        "new edge 0 11\n",
        "1 [14 13 20  8 26]\n",
        "weight 18.571244026\n",
        "new edge 1 14\n",
        "weight 21.176838706\n",
        "found better connected neighbour 0 13 13.7871220813\n",
        "weight 24.1480052146\n",
        "new edge 1 20\n",
        "weight 24.1480052146\n",
        "new edge 1 8\n",
        "weight 24.1480052146\n",
        "new edge 1 26\n",
        "2 [ 7  6  8 20]\n",
        "weight 21.5039768539\n",
        "found better connected neighbour 6 7 12.7185691427\n",
        "weight 24.5210417103\n",
        "found better connected neighbour 5 6 9.8649826471\n",
        "weight 24.5210417103\n",
        "found better connected neighbour 1 8 24.1480052146\n",
        "found better connected neighbour 7 8 13.9490232798\n",
        "weight 24.5210417103\n",
        "found better connected neighbour 1 20 24.1480052146\n",
        "3 [7 8]\n",
        "weight 19.0194076273\n",
        "found better connected neighbour 6 7 12.7185691427\n",
        "weight 21.6878808465\n",
        "remove edge 1 8 24.1480052146\n",
        "found better connected neighbour 7 8 13.9490232798\n",
        "4 []\n",
        "5 []\n",
        "6 []\n",
        "7 []\n",
        "8 []\n",
        "9 []\n",
        "10 []\n",
        "11 []\n",
        "12 [1 0]\n",
        "weight 13.7871220813\n",
        "new edge 12 1\n",
        "weight 20.4425005272\n",
        "new edge 12 0\n",
        "13 [ 2 26 27  1]\n",
        "weight 19.0047108289\n",
        "new edge 13 2\n",
        "weight 19.0047108289\n",
        "new edge 13 26\n",
        "weight 21.6711220484\n",
        "found better connected neighbour 14 27 13.4194620371\n",
        "weight 21.6711220484\n",
        "found better connected neighbour 12 1 13.7871220813\n",
        "14 [27 26 19  2]\n",
        "weight 13.4194620371\n",
        "new edge 14 27\n",
        "weight 19.8973620564\n",
        "found better connected neighbour 13 26 19.0047108289\n",
        "weight 22.6890146053\n",
        "found better connected neighbour 18 19 12.8551595681\n",
        "weight 25.872343394\n",
        "found better connected neighbour 13 2 19.0047108289\n",
        "15 [27 19]\n",
        "weight 15.3279420911\n",
        "found better connected neighbour 14 27 13.4194620371\n",
        "weight 19.9307717364\n",
        "found better connected neighbour 18 19 12.8551595681\n",
        "16 []\n",
        "17 []\n",
        "18 []\n",
        "19 []\n",
        "20 []\n",
        "21 []\n",
        "22 []\n",
        "23 []\n",
        "24 [ 2 20]\n",
        "weight 24.5210417103\n",
        "found better connected neighbour 25 2 23.9703980333\n",
        "weight 24.5210417103\n",
        "found better connected neighbour 19 20 13.8439771653\n",
        "found better connected neighbour 25 20 23.9703980333\n",
        "25 [14 15  2 20]\n",
        "weight 18.4346536006\n",
        "new edge 25 14\n",
        "weight 21.0210842825\n",
        "found better connected neighbour 26 15 13.4194620371\n",
        "weight 23.9703980333\n",
        "new edge 25 2\n",
        "weight 23.9703980333\n",
        "new edge 25 20\n",
        "26 [15 16 14 19 17]\n",
        "weight 13.4194620371\n",
        "new edge 26 15\n",
        "weight 19.8973620564\n",
        "found better connected neighbour 27 16 10.3376888059\n",
        "weight 19.8973620564\n",
        "found better connected neighbour 25 14 18.4346536006\n",
        "weight 22.6890146053\n",
        "found better connected neighbour 27 19 19.9307717364\n",
        "weight 22.6890146053\n",
        "found better connected neighbour 27 17 15.3279420911\n",
        "27 [16 17 15 18 19]\n",
        "weight 10.3376888059\n",
        "new edge 27 16\n",
        "weight 15.3279420911\n",
        "new edge 27 17\n",
        "weight 15.3279420911\n",
        "found better connected neighbour 26 15 13.4194620371\n",
        "weight 17.4784929272\n",
        "new edge 27 18\n",
        "weight 19.9307717364\n",
        "new edge 27 19\n",
        "\r",
        "Iteration 9; conn 7-19 conn 19-7 "
       ]
      },
      {
       "output_type": "stream",
       "stream": "stdout",
       "text": [
        "0 [13 14 12  9 11]\n",
        "weight 13.7871220813\n",
        "new edge 0 13\n",
        "weight 20.4425005272\n",
        "found better connected neighbour 1 14 18.571244026\n",
        "weight 20.4425005272\n",
        "new edge 0 12\n",
        "weight 23.3106374461\n",
        "new edge 0 9\n",
        "weight 23.3106374461\n",
        "new edge 0 11\n",
        "1 [14 13 20  8 26]\n",
        "weight 18.571244026\n",
        "new edge 1 14\n",
        "weight 21.176838706\n",
        "found better connected neighbour 0 13 13.7871220813\n",
        "weight 24.1480052146\n",
        "new edge 1 20\n",
        "weight 24.1480052146\n",
        "new edge 1 8\n",
        "weight 24.1480052146\n",
        "new edge 1 26\n",
        "2 [ 7  6  8 20]\n",
        "weight 21.5039768539\n",
        "found better connected neighbour 6 7 12.7185691427\n",
        "weight 24.5210417103\n",
        "found better connected neighbour 5 6 9.8649826471\n",
        "weight 24.5210417103\n",
        "found better connected neighbour 1 8 24.1480052146\n",
        "found better connected neighbour 7 8 13.9490232798\n",
        "weight 24.5210417103\n",
        "found better connected neighbour 1 20 24.1480052146\n",
        "3 [7 8]\n",
        "weight 19.0194076273\n",
        "found better connected neighbour 6 7 12.7185691427\n",
        "weight 21.6878808465\n",
        "remove edge 1 8 24.1480052146\n",
        "found better connected neighbour 7 8 13.9490232798\n",
        "4 []\n",
        "5 []\n",
        "6 []\n",
        "7 []\n",
        "8 []\n",
        "9 []\n",
        "10 []\n",
        "11 []\n",
        "12 [1 0]\n",
        "weight 13.7871220813\n",
        "new edge 12 1\n",
        "weight 20.4425005272\n",
        "new edge 12 0\n",
        "13 [ 2 26 27  1]\n",
        "weight 19.0047108289\n",
        "new edge 13 2\n",
        "weight 19.0047108289\n",
        "new edge 13 26\n",
        "weight 21.6711220484\n",
        "found better connected neighbour 14 27 13.4194620371\n",
        "weight 21.6711220484\n",
        "found better connected neighbour 12 1 13.7871220813\n",
        "14 [27 26 19  2]\n",
        "weight 13.4194620371\n",
        "new edge 14 27\n",
        "weight 19.8973620564\n",
        "found better connected neighbour 13 26 19.0047108289\n",
        "weight 22.6890146053\n",
        "found better connected neighbour 18 19 12.8551595681\n",
        "weight 25.872343394\n",
        "found better connected neighbour 13 2 19.0047108289\n",
        "15 [27 19]\n",
        "weight 15.3279420911\n",
        "found better connected neighbour 14 27 13.4194620371\n",
        "weight 19.9307717364\n",
        "found better connected neighbour 18 19 12.8551595681\n",
        "16 []\n",
        "17 []\n",
        "18 []\n",
        "19 []\n",
        "20 []\n",
        "21 []\n",
        "22 []\n",
        "23 []\n",
        "24 [ 2 20]\n",
        "weight 24.5210417103\n",
        "found better connected neighbour 25 2 23.9703980333\n",
        "weight 24.5210417103\n",
        "found better connected neighbour 19 20 13.8439771653\n",
        "found better connected neighbour 25 20 23.9703980333\n",
        "25 [14 15  2 20]\n",
        "weight 18.4346536006\n",
        "new edge 25 14\n",
        "weight 21.0210842825\n",
        "found better connected neighbour 26 15 13.4194620371\n",
        "weight 23.9703980333\n",
        "new edge 25 2\n",
        "weight 23.9703980333\n",
        "new edge 25 20\n",
        "26 [15 16 14 19 17]\n",
        "weight 13.4194620371\n",
        "new edge 26 15\n",
        "weight 19.8973620564\n",
        "found better connected neighbour 27 16 10.3376888059\n",
        "weight 19.8973620564\n",
        "found better connected neighbour 25 14 18.4346536006\n",
        "weight 22.6890146053\n",
        "found better connected neighbour 27 19 19.9307717364\n",
        "weight 22.6890146053\n",
        "found better connected neighbour 27 17 15.3279420911\n",
        "27 [16 17 15 18 19]\n",
        "weight 10.3376888059\n",
        "new edge 27 16\n",
        "weight 15.3279420911\n",
        "new edge 27 17\n",
        "weight 15.3279420911\n",
        "found better connected neighbour 26 15 13.4194620371\n",
        "weight 17.4784929272\n",
        "new edge 27 18\n",
        "weight 19.9307717364\n",
        "new edge 27 19\n",
        "\r",
        "Iteration 10; conn 7-19 conn 19-7 "
       ]
      },
      {
       "output_type": "stream",
       "stream": "stdout",
       "text": [
        "0 [13 14 12  9 11]\n",
        "weight 13.7871220813\n",
        "new edge 0 13\n",
        "weight 20.4425005272\n",
        "found better connected neighbour 1 14 18.571244026\n",
        "weight 20.4425005272\n",
        "new edge 0 12\n",
        "weight 23.3106374461\n",
        "new edge 0 9\n",
        "weight 23.3106374461\n",
        "new edge 0 11\n",
        "1 [14 13 20  8 26]\n",
        "weight 18.571244026\n",
        "new edge 1 14\n",
        "weight 21.176838706\n",
        "found better connected neighbour 0 13 13.7871220813\n",
        "weight 24.1480052146\n",
        "new edge 1 20\n",
        "weight 24.1480052146\n",
        "new edge 1 8\n",
        "weight 24.1480052146\n",
        "new edge 1 26\n",
        "2 [ 7  6  8 20]\n",
        "weight 21.5039768539\n",
        "found better connected neighbour 6 7 12.7185691427\n",
        "weight 24.5210417103\n",
        "found better connected neighbour 5 6 9.8649826471\n",
        "weight 24.5210417103\n",
        "found better connected neighbour 1 8 24.1480052146\n",
        "found better connected neighbour 7 8 13.9490232798\n",
        "weight 24.5210417103\n",
        "found better connected neighbour 1 20 24.1480052146\n",
        "3 [7 8]\n",
        "weight 19.0194076273\n",
        "found better connected neighbour 6 7 12.7185691427\n",
        "weight 21.6878808465\n",
        "remove edge 1 8 24.1480052146\n",
        "found better connected neighbour 7 8 13.9490232798\n",
        "4 []\n",
        "5 []\n",
        "6 []\n",
        "7 []\n",
        "8 []\n",
        "9 []\n",
        "10 []\n",
        "11 []\n",
        "12 [1 0]\n",
        "weight 13.7871220813\n",
        "new edge 12 1\n",
        "weight 20.4425005272\n",
        "new edge 12 0\n",
        "13 [ 2 26 27  1]\n",
        "weight 19.0047108289\n",
        "new edge 13 2\n",
        "weight 19.0047108289\n",
        "new edge 13 26\n",
        "weight 21.6711220484\n",
        "found better connected neighbour 14 27 13.4194620371\n",
        "weight 21.6711220484\n",
        "found better connected neighbour 12 1 13.7871220813\n",
        "14 [27 26 19  2]\n",
        "weight 13.4194620371\n",
        "new edge 14 27\n",
        "weight 19.8973620564\n",
        "found better connected neighbour 13 26 19.0047108289\n",
        "weight 22.6890146053\n",
        "found better connected neighbour 18 19 12.8551595681\n",
        "weight 25.872343394\n",
        "found better connected neighbour 13 2 19.0047108289\n",
        "15 [27 19]\n",
        "weight 15.3279420911\n",
        "found better connected neighbour 14 27 13.4194620371\n",
        "weight 19.9307717364\n",
        "found better connected neighbour 18 19 12.8551595681\n",
        "16 []\n",
        "17 []\n",
        "18 []\n",
        "19 []\n",
        "20 []\n",
        "21 []\n",
        "22 []\n",
        "23 []\n",
        "24 [ 2 20]\n",
        "weight 24.5210417103\n",
        "found better connected neighbour 25 2 23.9703980333\n",
        "weight 24.5210417103\n",
        "found better connected neighbour 19 20 13.8439771653\n",
        "found better connected neighbour 25 20 23.9703980333\n",
        "25 [14 15  2 20]\n",
        "weight 18.4346536006\n",
        "new edge 25 14\n",
        "weight 21.0210842825\n",
        "found better connected neighbour 26 15 13.4194620371\n",
        "weight 23.9703980333\n",
        "new edge 25 2\n",
        "weight 23.9703980333\n",
        "new edge 25 20\n",
        "26 [15 16 14 19 17]\n",
        "weight 13.4194620371\n",
        "new edge 26 15\n",
        "weight 19.8973620564\n",
        "found better connected neighbour 27 16 10.3376888059\n",
        "weight 19.8973620564\n",
        "found better connected neighbour 25 14 18.4346536006\n",
        "weight 22.6890146053\n",
        "found better connected neighbour 27 19 19.9307717364\n",
        "weight 22.6890146053\n",
        "found better connected neighbour 27 17 15.3279420911\n",
        "27 [16 17 15 18 19]\n",
        "weight 10.3376888059\n",
        "new edge 27 16\n",
        "weight 15.3279420911\n",
        "new edge 27 17\n",
        "weight 15.3279420911\n",
        "found better connected neighbour 26 15 13.4194620371\n",
        "weight 17.4784929272\n",
        "new edge 27 18\n",
        "weight 19.9307717364\n",
        "new edge 27 19\n",
        "\r",
        "Iteration 11; conn 7-19 conn 19-7 "
       ]
      },
      {
       "output_type": "stream",
       "stream": "stdout",
       "text": [
        "finished\n",
        "28"
       ]
      },
      {
       "output_type": "stream",
       "stream": "stdout",
       "text": [
        " [0, 1, 2, 3, 4, 5, 6, 7, 8, 9, 10, 11, 12, 13, 14, 15, 16, 17, 18, 19, 20, 21, 22, 23, 24, 25, 26, 27]\n",
        "47 [(0, 1), (0, 13), (0, 12), (0, 9), (0, 11), (1, 2), (1, 14), (1, 20), (1, 26), (2, 3), (3, 4), (4, 5), (5, 6), (6, 7), (7, 8), (8, 9), (9, 10), (10, 11), (11, 12), (12, 13), (12, 1), (12, 0), (13, 14), (13, 2), (13, 26), (14, 15), (14, 27), (15, 16), (16, 17), (17, 18), (18, 19), (19, 20), (20, 21), (21, 22), (22, 23), (23, 24), (24, 25), (25, 26), (25, 14), (25, 2), (25, 20), (26, 27), (26, 15), (27, 16), (27, 17), (27, 18), (27, 19)]\n"
       ]
      }
     ],
     "prompt_number": 133
    },
    {
     "cell_type": "code",
     "collapsed": false,
     "input": [
      "queue = Queue()\n",
      "queue.put(1)\n",
      "queue.put(2)\n",
      "queue.put(3)\n",
      "queue.put(4)\n",
      "queue.put(5)\n",
      "queue.put(6)\n",
      "\n",
      "print queue.qsize()\n",
      "print queue.get()\n",
      "print queue.qsize()\n",
      "print queue.get()\n",
      "print queue.qsize()"
     ],
     "language": "python",
     "metadata": {},
     "outputs": [
      {
       "output_type": "stream",
       "stream": "stdout",
       "text": [
        "6\n",
        "1\n",
        "5\n",
        "2\n",
        "4\n"
       ]
      }
     ],
     "prompt_number": 189
    },
    {
     "cell_type": "code",
     "collapsed": false,
     "input": [
      "print frameGraph.neighbors(20)\n",
      "# figure(); imshow(movie[:, :, :, 16+idxCorrection], interpolation='nearest')\n",
      "figure(); imshow(weightMat, interpolation='nearest')\n",
      "print weightMat.shape"
     ],
     "language": "python",
     "metadata": {},
     "outputs": [
      {
       "metadata": {},
       "output_type": "pyout",
       "prompt_number": 65,
       "text": [
        "[<matplotlib.lines.Line2D at 0x7efed9856ad0>]"
       ]
      }
     ],
     "prompt_number": 65
    },
    {
     "cell_type": "code",
     "collapsed": false,
     "input": [
      "## build the range curve and turn to weights for distMat\n",
      "cols = np.repeat(np.reshape(np.arange(0.0, distMat.shape[-1]), (1, distMat.shape[-1])), distMat.shape[-1], axis=0)\n",
      "rows = np.repeat(np.reshape(np.arange(0.0, distMat.shape[-1]), (distMat.shape[-1], 1)), distMat.shape[-1], axis=1)\n",
      "\n",
      "rangeWeights = np.zeros(distMat.shape)\n",
      "rangeCurves = np.zeros(distMat.shape[-1])\n",
      "for node in initialNodes+idxCorrection :\n",
      "    ## the variances should be set according to situation range\n",
      "    rangeWeights += multiGauss(cols, rows, 0, [float(node), float(node)], [5.0, 5.0])\n",
      "    rangeCurves += gauss(arange(0.0, len(rangeCurves)), float(node), 5.0)\n",
      "\n",
      "rangeWeights /= np.max(rangeWeights)\n",
      "rangeCurves /= np.max(rangeCurves)\n",
      "    \n",
      "gwv.showCustomGraph(rangeWeights)\n",
      "gwv.showCustomGraph(distMat*(1-rangeWeights))\n",
      "gwv.showCustomGraph(distMat*rangeWeights)\n",
      "figure(); plot(arange(0, len(rangeCurves)), rangeCurves)"
     ],
     "language": "python",
     "metadata": {},
     "outputs": [
      {
       "metadata": {},
       "output_type": "pyout",
       "prompt_number": 108,
       "text": [
        "[<matplotlib.lines.Line2D at 0x7f8ec1f4add0>]"
       ]
      }
     ],
     "prompt_number": 108
    },
    {
     "cell_type": "code",
     "collapsed": false,
     "input": [
      "gaussFunc = gauss(arange(0.0, len(rangeCurves)), float(initialNodes[1]), 5.0)\n",
      "figure(); plot(arange(0.0, len(rangeCurves)), gaussFunc)\n",
      "step = np.zeros(len(rangeCurves))\n",
      "step[arange(float(initialNodes[1])-5, float(initialNodes[1])+5, dtype=int)] = 1.0\n",
      "figure(); plot(arange(0.0, len(rangeCurves)), step)\n",
      "print  np.convolve(gaussFunc, step, mode='same').shape\n",
      "figure(); plot(arange(0.0, len(rangeCurves)), np.convolve(gaussFunc, step, mode='same'))"
     ],
     "language": "python",
     "metadata": {},
     "outputs": [
      {
       "output_type": "stream",
       "stream": "stdout",
       "text": [
        "(26,)\n"
       ]
      },
      {
       "metadata": {},
       "output_type": "pyout",
       "prompt_number": 27,
       "text": [
        "[<matplotlib.lines.Line2D at 0x7f42cb1c03d0>]"
       ]
      }
     ],
     "prompt_number": 27
    },
    {
     "cell_type": "code",
     "collapsed": false,
     "input": [
      "print np.average(weightMat), np.min(weightMat), np.max(weightMat), np.median(weightMat)\n",
      "print frameGraph.nodes()\n",
      "print weightMat"
     ],
     "language": "python",
     "metadata": {},
     "outputs": [
      {
       "output_type": "stream",
       "stream": "stdout",
       "text": [
        "77.5106423626 0.0 220.950025 73.8752497501\n",
        "[0, 1, 2, 3, 4, 5, 6, 7, 8, 9, 10, 11, 12, 13, 14, 15, 16, 17, 18, 19, 20, 21, 22, 23, 24]\n",
        "[[   9.            0.            9.           36.           81.          100.\n",
        "    81.           36.           25.           16.           25.           16.\n",
        "     9.            3.996        24.90423968   51.92015984   96.93609594\n",
        "   115.95204798   96.968016     51.984        49.87524975   60.9001499\n",
        "   105.92507498  124.950025    105.975     ]\n",
        " [  36.            9.            0.            9.           36.           49.\n",
        "    36.           25.           16.           25.           36.           49.\n",
        "    36.           12.996        19.90423968   40.92015984   79.93609594\n",
        "    96.95204798   79.968016     40.984        40.87524975   49.9001499\n",
        "    88.92507498  105.950025     88.975     ]\n",
        " [  81.           36.            9.            0.            9.           16.\n",
        "    25.           16.           25.           36.           81.          100.\n",
        "    81.           39.996        40.90423968   51.92015984   96.93609594\n",
        "   115.95204798   96.968016     51.984        49.87524975   60.9001499\n",
        "   105.92507498  124.950025    105.975     ]\n",
        " [ 144.           81.           36.            9.            0.            9.\n",
        "    16.           25.           36.           81.          144.          169.\n",
        "   144.           84.996        79.90423968   96.92015984  159.93609594\n",
        "   184.95204798  159.968016     96.984        88.87524975  105.9001499\n",
        "   168.92507498  193.950025    168.975     ]\n",
        " [ 169.          100.           49.           16.            9.            0.\n",
        "     9.           16.           49.          100.          169.          196.\n",
        "   169.          103.996        96.90423968  115.92015984  184.93609594\n",
        "   211.95204798  184.968016    115.984       105.87524975  124.9001499\n",
        "   193.92507498  220.950025    193.975     ]\n",
        " [ 144.           81.           36.           25.           16.            9.\n",
        "     0.            9.           36.           81.          144.          169.\n",
        "   144.           84.996        79.90423968   96.92015984  159.93609594\n",
        "   184.95204798  159.968016     96.984        88.87524975  105.9001499\n",
        "   168.92507498  193.950025    168.975     ]\n",
        " [  81.           36.           25.           16.           25.           16.\n",
        "     9.            0.            9.           36.           81.          100.\n",
        "    81.           39.996        40.90423968   51.92015984   96.93609594\n",
        "   115.95204798   96.968016     51.984        49.87524975   60.9001499\n",
        "   105.92507498  124.950025    105.975     ]\n",
        " [  36.           25.           16.           25.           36.           49.\n",
        "    36.            9.            0.            9.           36.           49.\n",
        "    36.           28.996        31.90423968   40.92015984   79.93609594\n",
        "    96.95204798   79.968016     40.984        40.87524975   49.9001499\n",
        "    88.92507498  105.950025     88.975     ]\n",
        " [  25.           16.           25.           36.           81.          100.\n",
        "    81.           36.            9.            0.            9.           16.\n",
        "    25.           19.996        40.90423968   51.92015984   96.93609594\n",
        "   115.95204798   96.968016     51.984        49.87524975   60.9001499\n",
        "   105.92507498  124.950025    105.975     ]\n",
        " [  16.           25.           36.           81.          144.          169.\n",
        "   144.           81.           36.            9.            0.            9.\n",
        "    16.           28.996        51.90423968   96.92015984  159.93609594\n",
        "   184.95204798  159.968016     96.984        88.87524975  105.9001499\n",
        "   168.92507498  193.950025    168.975     ]\n",
        " [   9.           16.           49.          100.          169.          196.\n",
        "   169.          100.           49.           16.            9.            0.\n",
        "     9.           19.996        64.90423968  115.92015984  184.93609594\n",
        "   211.95204798  184.968016    115.984       105.87524975  124.9001499\n",
        "   193.92507498  220.950025    193.975     ]\n",
        " [   0.            9.           36.           81.          144.          169.\n",
        "   144.           81.           36.           25.           16.            9.\n",
        "     0.           12.996        51.90423968   96.92015984  159.93609594\n",
        "   184.95204798  159.968016     96.984        88.87524975  105.9001499\n",
        "   168.92507498  193.950025    168.975     ]\n",
        " [   9.            0.            9.           36.           81.          100.\n",
        "    81.           36.           25.           16.           25.           16.\n",
        "     9.            3.996        24.90423968   51.92015984   96.93609594\n",
        "   115.95204798   96.968016     51.984        49.87524975   60.9001499\n",
        "   105.92507498  124.950025    105.975     ]\n",
        " [  36.            9.            4.           25.           64.           81.\n",
        "    64.           25.           16.           25.           36.           49.\n",
        "    36.           12.996        15.90423968   24.92015984   51.93609594\n",
        "    64.95204798   51.968016     40.984        40.87524975   49.9001499\n",
        "    88.92507498  105.950025     88.975     ]\n",
        " [  81.           36.           25.           36.           81.          100.\n",
        "    81.           36.           25.           36.           81.          100.\n",
        "    81.           39.996        24.90423968   15.92015984   24.93609594\n",
        "    31.95204798   40.968016     31.984        49.87524975   60.9001499\n",
        "   105.92507498  124.950025    105.975     ]\n",
        " [ 144.           81.           64.           81.          144.          169.\n",
        "   144.           81.           64.           81.          144.          169.\n",
        "   144.           84.996        51.90423968   24.92015984   15.93609594\n",
        "    24.95204798   31.968016     40.984        60.87524975  105.9001499\n",
        "   168.92507498  193.950025    168.975     ]\n",
        " [ 169.          100.           81.          100.          169.          196.\n",
        "   169.          100.           81.          100.          169.          196.\n",
        "   169.          103.996        64.90423968   31.92015984   24.93609594\n",
        "    15.95204798   24.968016     31.984        73.87524975  124.9001499\n",
        "   193.92507498  220.950025    193.975     ]\n",
        " [ 144.           81.           64.           81.          144.          169.\n",
        "   144.           81.           64.           81.          144.          169.\n",
        "   144.           84.996        51.90423968   40.92015984   31.93609594\n",
        "    24.95204798   15.968016     24.984        60.87524975  105.9001499\n",
        "   168.92507498  193.950025    168.975     ]\n",
        " [  81.           36.           25.           36.           81.          100.\n",
        "    81.           36.           25.           36.           81.          100.\n",
        "    81.           39.996        40.90423968   31.92015984   40.93609594\n",
        "    31.95204798   24.968016     15.984        33.87524975   60.9001499\n",
        "   105.92507498  124.950025    105.975     ]\n",
        " [  64.           25.           16.           25.           64.           81.\n",
        "    64.           25.           16.           25.           64.           81.\n",
        "    64.           28.996        31.90423968   40.92015984   51.93609594\n",
        "    64.95204798   51.968016     24.984        24.87524975   33.9001499\n",
        "    60.92507498   73.950025     60.975     ]\n",
        " [  81.           36.           25.           36.           81.          100.\n",
        "    81.           36.           25.           36.           81.          100.\n",
        "    81.           39.996        40.90423968   51.92015984   96.93609594\n",
        "   115.95204798   96.968016     51.984        33.87524975   24.9001499\n",
        "    33.92507498   40.950025     49.975     ]\n",
        " [ 144.           81.           64.           81.          144.          169.\n",
        "   144.           81.           64.           81.          144.          169.\n",
        "   144.           84.996        79.90423968   96.92015984  159.93609594\n",
        "   184.95204798  159.968016     96.984        60.87524975   33.9001499\n",
        "    24.92507498   33.950025     40.975     ]\n",
        " [ 169.          100.           81.          100.          169.          196.\n",
        "   169.          100.           81.          100.          169.          196.\n",
        "   169.          103.996        96.90423968  115.92015984  184.93609594\n",
        "   211.95204798  184.968016    115.984        73.87524975   40.9001499\n",
        "    33.92507498   24.950025     33.975     ]\n",
        " [ 144.           81.           64.           81.          144.          169.\n",
        "   144.           81.           64.           81.          144.          169.\n",
        "   144.           84.996        79.90423968   96.92015984  159.93609594\n",
        "   184.95204798  159.968016     96.984        60.87524975   49.9001499\n",
        "    40.92507498   33.950025     24.975     ]\n",
        " [  81.           36.           25.           36.           81.          100.\n",
        "    81.           36.           25.           36.           81.          100.\n",
        "    81.           39.996        40.90423968   51.92015984   96.93609594\n",
        "   115.95204798   96.968016     51.984        49.87524975   40.9001499\n",
        "    49.92507498   40.950025     33.975     ]]\n"
       ]
      }
     ],
     "prompt_number": 385
    },
    {
     "cell_type": "code",
     "collapsed": false,
     "input": [
      "frameGraph = digraph()\n",
      "frameGraph.add_nodes(arange(1, numFrames))\n",
      "for p in np.argwhere(distMat[1:distMat.shape[1], 0:-1] <= 3.0) :\n",
      "    print p+1\n",
      "    if tuple(p+1) not in frameGraph.edges() :\n",
      "        frameGraph.add_edge(p+1)\n",
      "\n",
      "drawGraph(frameGraph, \"temp.png\", True)"
     ],
     "language": "python",
     "metadata": {},
     "outputs": [
      {
       "output_type": "stream",
       "stream": "stdout",
       "text": [
        "[1 1]\n",
        "[1 2]\n",
        "[1 3]\n",
        "[2 2]\n",
        "[2 3]\n",
        "[2 4]\n",
        "[3 3]\n",
        "[3 4]\n",
        "[3 5]\n",
        "[4 4]\n",
        "[4 5]\n",
        "[4 6]\n",
        "[5 5]\n",
        "[5 6]\n",
        "[5 7]\n",
        "[6 6]\n",
        "[6 7]\n",
        "[6 8]\n",
        "[7 7]\n",
        "[7 8]\n",
        "[7 9]\n",
        "[8 8]\n",
        "[8 9]\n",
        "[ 8 10]\n",
        "[9 9]\n",
        "[ 9 10]\n",
        "[ 9 11]\n",
        "[10 10]\n",
        "[10 11]\n",
        "[11 12]\n",
        "[12 13]\n",
        "[13 14]\n",
        "[13 15]\n",
        "[14 14]\n",
        "[14 15]\n",
        "[14 16]\n",
        "[15 15]\n",
        "[15 16]\n",
        "[15 17]\n",
        "[16 16]\n",
        "[16 17]\n",
        "[16 18]\n",
        "[17 17]\n",
        "[17 18]\n",
        "[17 19]\n",
        "[18 18]\n",
        "[18 19]\n",
        "[18 20]\n",
        "[19 19]\n",
        "[19 20]\n",
        "[19 21]\n",
        "[20 20]\n",
        "[20 21]\n",
        "[20 22]\n",
        "[21 21]\n",
        "[21 22]\n",
        "[21 23]\n",
        "[22 22]\n",
        "[22 23]\n",
        "[23 23]\n"
       ]
      }
     ],
     "prompt_number": 239
    },
    {
     "cell_type": "code",
     "collapsed": false,
     "input": [
      "print distMat[20, 8]"
     ],
     "language": "python",
     "metadata": {},
     "outputs": [
      {
       "output_type": "stream",
       "stream": "stdout",
       "text": [
        "4.0\n"
       ]
      }
     ],
     "prompt_number": 106
    },
    {
     "cell_type": "code",
     "collapsed": false,
     "input": [
      "idxCorrection = 0\n",
      "sampleData = \"ribbon2_matted/\"\n",
      "outputData = dataFolder+sampleData\n",
      "\n",
      "## Find pngs in sample data\n",
      "frames = glob.glob(dataFolder + sampleData + \"frame*.png\")\n",
      "maxFrames = len(frames)\n",
      "frames = np.sort(frames)[0:maxFrames]\n",
      "numFrames = len(frames)\n",
      "frameSize = cv2.imread(frames[0]).shape\n",
      "print numFrames\n",
      "## load full precomputed distMat for dataset\n",
      "distanceMatrix = np.load(dataFolder + sampleData + \"distMat.npy\")\n",
      "figure(); imshow(distanceMatrix, interpolation='nearest')"
     ],
     "language": "python",
     "metadata": {},
     "outputs": [
      {
       "output_type": "stream",
       "stream": "stdout",
       "text": [
        "1280\n"
       ]
      },
      {
       "metadata": {},
       "output_type": "pyout",
       "prompt_number": 5,
       "text": [
        "<matplotlib.image.AxesImage at 0x7fc1e28c8510>"
       ]
      }
     ],
     "prompt_number": 5
    },
    {
     "cell_type": "code",
     "collapsed": false,
     "input": [
      "frameSize = cv2.imread(frames[0]).shape\n",
      "movie = np.zeros(np.hstack([frameSize[0], frameSize[1], frameSize[2], numFrames]), dtype=np.uint8)\n",
      "for i in range(0, numFrames) :\n",
      "    movie[:, :, :, i] = np.array(cv2.cvtColor(cv2.imread(frames[i]), cv2.COLOR_BGR2RGB), dtype=np.uint8)\n",
      "    \n",
      "    sys.stdout.write('\\r' + \"Loaded frame \" + np.string_(i) + \" of \" + np.string_(numFrames))\n",
      "    sys.stdout.flush()\n"
     ],
     "language": "python",
     "metadata": {},
     "outputs": [
      {
       "output_type": "stream",
       "stream": "stdout",
       "text": [
        "\r",
        "Loaded frame 0 of 1280"
       ]
      },
      {
       "output_type": "stream",
       "stream": "stdout",
       "text": [
        "\r",
        "Loaded frame 1 of 1280"
       ]
      },
      {
       "output_type": "stream",
       "stream": "stdout",
       "text": [
        "\r",
        "Loaded frame 2 of 1280"
       ]
      },
      {
       "output_type": "stream",
       "stream": "stdout",
       "text": [
        "\r",
        "Loaded frame 3 of 1280"
       ]
      },
      {
       "output_type": "stream",
       "stream": "stdout",
       "text": [
        "\r",
        "Loaded frame 4 of 1280"
       ]
      },
      {
       "output_type": "stream",
       "stream": "stdout",
       "text": [
        "\r",
        "Loaded frame 5 of 1280"
       ]
      },
      {
       "output_type": "stream",
       "stream": "stdout",
       "text": [
        "\r",
        "Loaded frame 6 of 1280"
       ]
      },
      {
       "output_type": "stream",
       "stream": "stdout",
       "text": [
        "\r",
        "Loaded frame 7 of 1280"
       ]
      },
      {
       "output_type": "stream",
       "stream": "stdout",
       "text": [
        "\r",
        "Loaded frame 8 of 1280"
       ]
      },
      {
       "output_type": "stream",
       "stream": "stdout",
       "text": [
        "\r",
        "Loaded frame 9 of 1280"
       ]
      },
      {
       "output_type": "stream",
       "stream": "stdout",
       "text": [
        "\r",
        "Loaded frame 10 of 1280"
       ]
      },
      {
       "output_type": "stream",
       "stream": "stdout",
       "text": [
        "\r",
        "Loaded frame 11 of 1280"
       ]
      },
      {
       "output_type": "stream",
       "stream": "stdout",
       "text": [
        "\r",
        "Loaded frame 12 of 1280"
       ]
      },
      {
       "output_type": "stream",
       "stream": "stdout",
       "text": [
        "\r",
        "Loaded frame 13 of 1280"
       ]
      },
      {
       "output_type": "stream",
       "stream": "stdout",
       "text": [
        "\r",
        "Loaded frame 14 of 1280"
       ]
      },
      {
       "output_type": "stream",
       "stream": "stdout",
       "text": [
        "\r",
        "Loaded frame 15 of 1280"
       ]
      },
      {
       "output_type": "stream",
       "stream": "stdout",
       "text": [
        "\r",
        "Loaded frame 16 of 1280"
       ]
      },
      {
       "output_type": "stream",
       "stream": "stdout",
       "text": [
        "\r",
        "Loaded frame 17 of 1280"
       ]
      },
      {
       "output_type": "stream",
       "stream": "stdout",
       "text": [
        "\r",
        "Loaded frame 18 of 1280"
       ]
      },
      {
       "output_type": "stream",
       "stream": "stdout",
       "text": [
        "\r",
        "Loaded frame 19 of 1280"
       ]
      },
      {
       "output_type": "stream",
       "stream": "stdout",
       "text": [
        "\r",
        "Loaded frame 20 of 1280"
       ]
      },
      {
       "output_type": "stream",
       "stream": "stdout",
       "text": [
        "\r",
        "Loaded frame 21 of 1280"
       ]
      },
      {
       "output_type": "stream",
       "stream": "stdout",
       "text": [
        "\r",
        "Loaded frame 22 of 1280"
       ]
      },
      {
       "output_type": "stream",
       "stream": "stdout",
       "text": [
        "\r",
        "Loaded frame 23 of 1280"
       ]
      },
      {
       "output_type": "stream",
       "stream": "stdout",
       "text": [
        "\r",
        "Loaded frame 24 of 1280"
       ]
      },
      {
       "output_type": "stream",
       "stream": "stdout",
       "text": [
        "\r",
        "Loaded frame 25 of 1280"
       ]
      },
      {
       "output_type": "stream",
       "stream": "stdout",
       "text": [
        "\r",
        "Loaded frame 26 of 1280"
       ]
      },
      {
       "output_type": "stream",
       "stream": "stdout",
       "text": [
        "\r",
        "Loaded frame 27 of 1280"
       ]
      },
      {
       "output_type": "stream",
       "stream": "stdout",
       "text": [
        "\r",
        "Loaded frame 28 of 1280"
       ]
      },
      {
       "output_type": "stream",
       "stream": "stdout",
       "text": [
        "\r",
        "Loaded frame 29 of 1280"
       ]
      },
      {
       "output_type": "stream",
       "stream": "stdout",
       "text": [
        "\r",
        "Loaded frame 30 of 1280"
       ]
      },
      {
       "output_type": "stream",
       "stream": "stdout",
       "text": [
        "\r",
        "Loaded frame 31 of 1280"
       ]
      },
      {
       "output_type": "stream",
       "stream": "stdout",
       "text": [
        "\r",
        "Loaded frame 32 of 1280"
       ]
      },
      {
       "output_type": "stream",
       "stream": "stdout",
       "text": [
        "\r",
        "Loaded frame 33 of 1280"
       ]
      },
      {
       "output_type": "stream",
       "stream": "stdout",
       "text": [
        "\r",
        "Loaded frame 34 of 1280"
       ]
      },
      {
       "output_type": "stream",
       "stream": "stdout",
       "text": [
        "\r",
        "Loaded frame 35 of 1280"
       ]
      },
      {
       "output_type": "stream",
       "stream": "stdout",
       "text": [
        "\r",
        "Loaded frame 36 of 1280"
       ]
      },
      {
       "output_type": "stream",
       "stream": "stdout",
       "text": [
        "\r",
        "Loaded frame 37 of 1280"
       ]
      },
      {
       "output_type": "stream",
       "stream": "stdout",
       "text": [
        "\r",
        "Loaded frame 38 of 1280"
       ]
      },
      {
       "output_type": "stream",
       "stream": "stdout",
       "text": [
        "\r",
        "Loaded frame 39 of 1280"
       ]
      },
      {
       "output_type": "stream",
       "stream": "stdout",
       "text": [
        "\r",
        "Loaded frame 40 of 1280"
       ]
      },
      {
       "output_type": "stream",
       "stream": "stdout",
       "text": [
        "\r",
        "Loaded frame 41 of 1280"
       ]
      },
      {
       "output_type": "stream",
       "stream": "stdout",
       "text": [
        "\r",
        "Loaded frame 42 of 1280"
       ]
      },
      {
       "output_type": "stream",
       "stream": "stdout",
       "text": [
        "\r",
        "Loaded frame 43 of 1280"
       ]
      },
      {
       "output_type": "stream",
       "stream": "stdout",
       "text": [
        "\r",
        "Loaded frame 44 of 1280"
       ]
      },
      {
       "output_type": "stream",
       "stream": "stdout",
       "text": [
        "\r",
        "Loaded frame 45 of 1280"
       ]
      },
      {
       "output_type": "stream",
       "stream": "stdout",
       "text": [
        "\r",
        "Loaded frame 46 of 1280"
       ]
      },
      {
       "output_type": "stream",
       "stream": "stdout",
       "text": [
        "\r",
        "Loaded frame 47 of 1280"
       ]
      },
      {
       "output_type": "stream",
       "stream": "stdout",
       "text": [
        "\r",
        "Loaded frame 48 of 1280"
       ]
      },
      {
       "output_type": "stream",
       "stream": "stdout",
       "text": [
        "\r",
        "Loaded frame 49 of 1280"
       ]
      },
      {
       "output_type": "stream",
       "stream": "stdout",
       "text": [
        "\r",
        "Loaded frame 50 of 1280"
       ]
      },
      {
       "output_type": "stream",
       "stream": "stdout",
       "text": [
        "\r",
        "Loaded frame 51 of 1280"
       ]
      },
      {
       "output_type": "stream",
       "stream": "stdout",
       "text": [
        "\r",
        "Loaded frame 52 of 1280"
       ]
      },
      {
       "output_type": "stream",
       "stream": "stdout",
       "text": [
        "\r",
        "Loaded frame 53 of 1280"
       ]
      },
      {
       "output_type": "stream",
       "stream": "stdout",
       "text": [
        "\r",
        "Loaded frame 54 of 1280"
       ]
      },
      {
       "output_type": "stream",
       "stream": "stdout",
       "text": [
        "\r",
        "Loaded frame 55 of 1280"
       ]
      },
      {
       "output_type": "stream",
       "stream": "stdout",
       "text": [
        "\r",
        "Loaded frame 56 of 1280"
       ]
      },
      {
       "output_type": "stream",
       "stream": "stdout",
       "text": [
        "\r",
        "Loaded frame 57 of 1280"
       ]
      },
      {
       "output_type": "stream",
       "stream": "stdout",
       "text": [
        "\r",
        "Loaded frame 58 of 1280"
       ]
      },
      {
       "output_type": "stream",
       "stream": "stdout",
       "text": [
        "\r",
        "Loaded frame 59 of 1280"
       ]
      },
      {
       "output_type": "stream",
       "stream": "stdout",
       "text": [
        "\r",
        "Loaded frame 60 of 1280"
       ]
      },
      {
       "output_type": "stream",
       "stream": "stdout",
       "text": [
        "\r",
        "Loaded frame 61 of 1280"
       ]
      },
      {
       "output_type": "stream",
       "stream": "stdout",
       "text": [
        "\r",
        "Loaded frame 62 of 1280"
       ]
      },
      {
       "output_type": "stream",
       "stream": "stdout",
       "text": [
        "\r",
        "Loaded frame 63 of 1280"
       ]
      },
      {
       "output_type": "stream",
       "stream": "stdout",
       "text": [
        "\r",
        "Loaded frame 64 of 1280"
       ]
      },
      {
       "output_type": "stream",
       "stream": "stdout",
       "text": [
        "\r",
        "Loaded frame 65 of 1280"
       ]
      },
      {
       "output_type": "stream",
       "stream": "stdout",
       "text": [
        "\r",
        "Loaded frame 66 of 1280"
       ]
      },
      {
       "output_type": "stream",
       "stream": "stdout",
       "text": [
        "\r",
        "Loaded frame 67 of 1280"
       ]
      },
      {
       "output_type": "stream",
       "stream": "stdout",
       "text": [
        "\r",
        "Loaded frame 68 of 1280"
       ]
      },
      {
       "output_type": "stream",
       "stream": "stdout",
       "text": [
        "\r",
        "Loaded frame 69 of 1280"
       ]
      },
      {
       "output_type": "stream",
       "stream": "stdout",
       "text": [
        "\r",
        "Loaded frame 70 of 1280"
       ]
      },
      {
       "output_type": "stream",
       "stream": "stdout",
       "text": [
        "\r",
        "Loaded frame 71 of 1280"
       ]
      },
      {
       "output_type": "stream",
       "stream": "stdout",
       "text": [
        "\r",
        "Loaded frame 72 of 1280"
       ]
      },
      {
       "output_type": "stream",
       "stream": "stdout",
       "text": [
        "\r",
        "Loaded frame 73 of 1280"
       ]
      },
      {
       "output_type": "stream",
       "stream": "stdout",
       "text": [
        "\r",
        "Loaded frame 74 of 1280"
       ]
      },
      {
       "output_type": "stream",
       "stream": "stdout",
       "text": [
        "\r",
        "Loaded frame 75 of 1280"
       ]
      },
      {
       "output_type": "stream",
       "stream": "stdout",
       "text": [
        "\r",
        "Loaded frame 76 of 1280"
       ]
      },
      {
       "output_type": "stream",
       "stream": "stdout",
       "text": [
        "\r",
        "Loaded frame 77 of 1280"
       ]
      },
      {
       "output_type": "stream",
       "stream": "stdout",
       "text": [
        "\r",
        "Loaded frame 78 of 1280"
       ]
      },
      {
       "output_type": "stream",
       "stream": "stdout",
       "text": [
        "\r",
        "Loaded frame 79 of 1280"
       ]
      },
      {
       "output_type": "stream",
       "stream": "stdout",
       "text": [
        "\r",
        "Loaded frame 80 of 1280"
       ]
      },
      {
       "output_type": "stream",
       "stream": "stdout",
       "text": [
        "\r",
        "Loaded frame 81 of 1280"
       ]
      },
      {
       "output_type": "stream",
       "stream": "stdout",
       "text": [
        "\r",
        "Loaded frame 82 of 1280"
       ]
      },
      {
       "output_type": "stream",
       "stream": "stdout",
       "text": [
        "\r",
        "Loaded frame 83 of 1280"
       ]
      },
      {
       "output_type": "stream",
       "stream": "stdout",
       "text": [
        "\r",
        "Loaded frame 84 of 1280"
       ]
      },
      {
       "output_type": "stream",
       "stream": "stdout",
       "text": [
        "\r",
        "Loaded frame 85 of 1280"
       ]
      },
      {
       "output_type": "stream",
       "stream": "stdout",
       "text": [
        "\r",
        "Loaded frame 86 of 1280"
       ]
      },
      {
       "output_type": "stream",
       "stream": "stdout",
       "text": [
        "\r",
        "Loaded frame 87 of 1280"
       ]
      },
      {
       "output_type": "stream",
       "stream": "stdout",
       "text": [
        "\r",
        "Loaded frame 88 of 1280"
       ]
      },
      {
       "output_type": "stream",
       "stream": "stdout",
       "text": [
        "\r",
        "Loaded frame 89 of 1280"
       ]
      },
      {
       "output_type": "stream",
       "stream": "stdout",
       "text": [
        "\r",
        "Loaded frame 90 of 1280"
       ]
      },
      {
       "output_type": "stream",
       "stream": "stdout",
       "text": [
        "\r",
        "Loaded frame 91 of 1280"
       ]
      },
      {
       "output_type": "stream",
       "stream": "stdout",
       "text": [
        "\r",
        "Loaded frame 92 of 1280"
       ]
      },
      {
       "output_type": "stream",
       "stream": "stdout",
       "text": [
        "\r",
        "Loaded frame 93 of 1280"
       ]
      },
      {
       "output_type": "stream",
       "stream": "stdout",
       "text": [
        "\r",
        "Loaded frame 94 of 1280"
       ]
      },
      {
       "output_type": "stream",
       "stream": "stdout",
       "text": [
        "\r",
        "Loaded frame 95 of 1280"
       ]
      },
      {
       "output_type": "stream",
       "stream": "stdout",
       "text": [
        "\r",
        "Loaded frame 96 of 1280"
       ]
      },
      {
       "output_type": "stream",
       "stream": "stdout",
       "text": [
        "\r",
        "Loaded frame 97 of 1280"
       ]
      },
      {
       "output_type": "stream",
       "stream": "stdout",
       "text": [
        "\r",
        "Loaded frame 98 of 1280"
       ]
      },
      {
       "output_type": "stream",
       "stream": "stdout",
       "text": [
        "\r",
        "Loaded frame 99 of 1280"
       ]
      },
      {
       "output_type": "stream",
       "stream": "stdout",
       "text": [
        "\r",
        "Loaded frame 100 of 1280"
       ]
      },
      {
       "output_type": "stream",
       "stream": "stdout",
       "text": [
        "\r",
        "Loaded frame 101 of 1280"
       ]
      },
      {
       "output_type": "stream",
       "stream": "stdout",
       "text": [
        "\r",
        "Loaded frame 102 of 1280"
       ]
      },
      {
       "output_type": "stream",
       "stream": "stdout",
       "text": [
        "\r",
        "Loaded frame 103 of 1280"
       ]
      },
      {
       "output_type": "stream",
       "stream": "stdout",
       "text": [
        "\r",
        "Loaded frame 104 of 1280"
       ]
      },
      {
       "output_type": "stream",
       "stream": "stdout",
       "text": [
        "\r",
        "Loaded frame 105 of 1280"
       ]
      },
      {
       "output_type": "stream",
       "stream": "stdout",
       "text": [
        "\r",
        "Loaded frame 106 of 1280"
       ]
      },
      {
       "output_type": "stream",
       "stream": "stdout",
       "text": [
        "\r",
        "Loaded frame 107 of 1280"
       ]
      },
      {
       "output_type": "stream",
       "stream": "stdout",
       "text": [
        "\r",
        "Loaded frame 108 of 1280"
       ]
      },
      {
       "output_type": "stream",
       "stream": "stdout",
       "text": [
        "\r",
        "Loaded frame 109 of 1280"
       ]
      },
      {
       "output_type": "stream",
       "stream": "stdout",
       "text": [
        "\r",
        "Loaded frame 110 of 1280"
       ]
      },
      {
       "output_type": "stream",
       "stream": "stdout",
       "text": [
        "\r",
        "Loaded frame 111 of 1280"
       ]
      },
      {
       "output_type": "stream",
       "stream": "stdout",
       "text": [
        "\r",
        "Loaded frame 112 of 1280"
       ]
      },
      {
       "output_type": "stream",
       "stream": "stdout",
       "text": [
        "\r",
        "Loaded frame 113 of 1280"
       ]
      },
      {
       "output_type": "stream",
       "stream": "stdout",
       "text": [
        "\r",
        "Loaded frame 114 of 1280"
       ]
      },
      {
       "output_type": "stream",
       "stream": "stdout",
       "text": [
        "\r",
        "Loaded frame 115 of 1280"
       ]
      },
      {
       "output_type": "stream",
       "stream": "stdout",
       "text": [
        "\r",
        "Loaded frame 116 of 1280"
       ]
      },
      {
       "output_type": "stream",
       "stream": "stdout",
       "text": [
        "\r",
        "Loaded frame 117 of 1280"
       ]
      },
      {
       "output_type": "stream",
       "stream": "stdout",
       "text": [
        "\r",
        "Loaded frame 118 of 1280"
       ]
      },
      {
       "output_type": "stream",
       "stream": "stdout",
       "text": [
        "\r",
        "Loaded frame 119 of 1280"
       ]
      },
      {
       "output_type": "stream",
       "stream": "stdout",
       "text": [
        "\r",
        "Loaded frame 120 of 1280"
       ]
      },
      {
       "output_type": "stream",
       "stream": "stdout",
       "text": [
        "\r",
        "Loaded frame 121 of 1280"
       ]
      },
      {
       "output_type": "stream",
       "stream": "stdout",
       "text": [
        "\r",
        "Loaded frame 122 of 1280"
       ]
      },
      {
       "output_type": "stream",
       "stream": "stdout",
       "text": [
        "\r",
        "Loaded frame 123 of 1280"
       ]
      },
      {
       "output_type": "stream",
       "stream": "stdout",
       "text": [
        "\r",
        "Loaded frame 124 of 1280"
       ]
      },
      {
       "output_type": "stream",
       "stream": "stdout",
       "text": [
        "\r",
        "Loaded frame 125 of 1280"
       ]
      },
      {
       "output_type": "stream",
       "stream": "stdout",
       "text": [
        "\r",
        "Loaded frame 126 of 1280"
       ]
      },
      {
       "output_type": "stream",
       "stream": "stdout",
       "text": [
        "\r",
        "Loaded frame 127 of 1280"
       ]
      },
      {
       "output_type": "stream",
       "stream": "stdout",
       "text": [
        "\r",
        "Loaded frame 128 of 1280"
       ]
      },
      {
       "output_type": "stream",
       "stream": "stdout",
       "text": [
        "\r",
        "Loaded frame 129 of 1280"
       ]
      },
      {
       "output_type": "stream",
       "stream": "stdout",
       "text": [
        "\r",
        "Loaded frame 130 of 1280"
       ]
      },
      {
       "output_type": "stream",
       "stream": "stdout",
       "text": [
        "\r",
        "Loaded frame 131 of 1280"
       ]
      },
      {
       "output_type": "stream",
       "stream": "stdout",
       "text": [
        "\r",
        "Loaded frame 132 of 1280"
       ]
      },
      {
       "output_type": "stream",
       "stream": "stdout",
       "text": [
        "\r",
        "Loaded frame 133 of 1280"
       ]
      },
      {
       "output_type": "stream",
       "stream": "stdout",
       "text": [
        "\r",
        "Loaded frame 134 of 1280"
       ]
      },
      {
       "output_type": "stream",
       "stream": "stdout",
       "text": [
        "\r",
        "Loaded frame 135 of 1280"
       ]
      },
      {
       "output_type": "stream",
       "stream": "stdout",
       "text": [
        "\r",
        "Loaded frame 136 of 1280"
       ]
      },
      {
       "output_type": "stream",
       "stream": "stdout",
       "text": [
        "\r",
        "Loaded frame 137 of 1280"
       ]
      },
      {
       "output_type": "stream",
       "stream": "stdout",
       "text": [
        "\r",
        "Loaded frame 138 of 1280"
       ]
      },
      {
       "output_type": "stream",
       "stream": "stdout",
       "text": [
        "\r",
        "Loaded frame 139 of 1280"
       ]
      },
      {
       "output_type": "stream",
       "stream": "stdout",
       "text": [
        "\r",
        "Loaded frame 140 of 1280"
       ]
      },
      {
       "output_type": "stream",
       "stream": "stdout",
       "text": [
        "\r",
        "Loaded frame 141 of 1280"
       ]
      },
      {
       "output_type": "stream",
       "stream": "stdout",
       "text": [
        "\r",
        "Loaded frame 142 of 1280"
       ]
      },
      {
       "output_type": "stream",
       "stream": "stdout",
       "text": [
        "\r",
        "Loaded frame 143 of 1280"
       ]
      },
      {
       "output_type": "stream",
       "stream": "stdout",
       "text": [
        "\r",
        "Loaded frame 144 of 1280"
       ]
      },
      {
       "output_type": "stream",
       "stream": "stdout",
       "text": [
        "\r",
        "Loaded frame 145 of 1280"
       ]
      },
      {
       "output_type": "stream",
       "stream": "stdout",
       "text": [
        "\r",
        "Loaded frame 146 of 1280"
       ]
      },
      {
       "output_type": "stream",
       "stream": "stdout",
       "text": [
        "\r",
        "Loaded frame 147 of 1280"
       ]
      },
      {
       "output_type": "stream",
       "stream": "stdout",
       "text": [
        "\r",
        "Loaded frame 148 of 1280"
       ]
      },
      {
       "output_type": "stream",
       "stream": "stdout",
       "text": [
        "\r",
        "Loaded frame 149 of 1280"
       ]
      },
      {
       "output_type": "stream",
       "stream": "stdout",
       "text": [
        "\r",
        "Loaded frame 150 of 1280"
       ]
      },
      {
       "output_type": "stream",
       "stream": "stdout",
       "text": [
        "\r",
        "Loaded frame 151 of 1280"
       ]
      },
      {
       "output_type": "stream",
       "stream": "stdout",
       "text": [
        "\r",
        "Loaded frame 152 of 1280"
       ]
      },
      {
       "output_type": "stream",
       "stream": "stdout",
       "text": [
        "\r",
        "Loaded frame 153 of 1280"
       ]
      },
      {
       "output_type": "stream",
       "stream": "stdout",
       "text": [
        "\r",
        "Loaded frame 154 of 1280"
       ]
      },
      {
       "output_type": "stream",
       "stream": "stdout",
       "text": [
        "\r",
        "Loaded frame 155 of 1280"
       ]
      },
      {
       "output_type": "stream",
       "stream": "stdout",
       "text": [
        "\r",
        "Loaded frame 156 of 1280"
       ]
      },
      {
       "output_type": "stream",
       "stream": "stdout",
       "text": [
        "\r",
        "Loaded frame 157 of 1280"
       ]
      },
      {
       "output_type": "stream",
       "stream": "stdout",
       "text": [
        "\r",
        "Loaded frame 158 of 1280"
       ]
      },
      {
       "output_type": "stream",
       "stream": "stdout",
       "text": [
        "\r",
        "Loaded frame 159 of 1280"
       ]
      },
      {
       "output_type": "stream",
       "stream": "stdout",
       "text": [
        "\r",
        "Loaded frame 160 of 1280"
       ]
      },
      {
       "output_type": "stream",
       "stream": "stdout",
       "text": [
        "\r",
        "Loaded frame 161 of 1280"
       ]
      },
      {
       "output_type": "stream",
       "stream": "stdout",
       "text": [
        "\r",
        "Loaded frame 162 of 1280"
       ]
      },
      {
       "output_type": "stream",
       "stream": "stdout",
       "text": [
        "\r",
        "Loaded frame 163 of 1280"
       ]
      },
      {
       "output_type": "stream",
       "stream": "stdout",
       "text": [
        "\r",
        "Loaded frame 164 of 1280"
       ]
      },
      {
       "output_type": "stream",
       "stream": "stdout",
       "text": [
        "\r",
        "Loaded frame 165 of 1280"
       ]
      },
      {
       "output_type": "stream",
       "stream": "stdout",
       "text": [
        "\r",
        "Loaded frame 166 of 1280"
       ]
      },
      {
       "output_type": "stream",
       "stream": "stdout",
       "text": [
        "\r",
        "Loaded frame 167 of 1280"
       ]
      },
      {
       "output_type": "stream",
       "stream": "stdout",
       "text": [
        "\r",
        "Loaded frame 168 of 1280"
       ]
      },
      {
       "output_type": "stream",
       "stream": "stdout",
       "text": [
        "\r",
        "Loaded frame 169 of 1280"
       ]
      },
      {
       "output_type": "stream",
       "stream": "stdout",
       "text": [
        "\r",
        "Loaded frame 170 of 1280"
       ]
      },
      {
       "output_type": "stream",
       "stream": "stdout",
       "text": [
        "\r",
        "Loaded frame 171 of 1280"
       ]
      },
      {
       "output_type": "stream",
       "stream": "stdout",
       "text": [
        "\r",
        "Loaded frame 172 of 1280"
       ]
      },
      {
       "output_type": "stream",
       "stream": "stdout",
       "text": [
        "\r",
        "Loaded frame 173 of 1280"
       ]
      },
      {
       "output_type": "stream",
       "stream": "stdout",
       "text": [
        "\r",
        "Loaded frame 174 of 1280"
       ]
      },
      {
       "output_type": "stream",
       "stream": "stdout",
       "text": [
        "\r",
        "Loaded frame 175 of 1280"
       ]
      },
      {
       "output_type": "stream",
       "stream": "stdout",
       "text": [
        "\r",
        "Loaded frame 176 of 1280"
       ]
      },
      {
       "output_type": "stream",
       "stream": "stdout",
       "text": [
        "\r",
        "Loaded frame 177 of 1280"
       ]
      },
      {
       "output_type": "stream",
       "stream": "stdout",
       "text": [
        "\r",
        "Loaded frame 178 of 1280"
       ]
      },
      {
       "output_type": "stream",
       "stream": "stdout",
       "text": [
        "\r",
        "Loaded frame 179 of 1280"
       ]
      },
      {
       "output_type": "stream",
       "stream": "stdout",
       "text": [
        "\r",
        "Loaded frame 180 of 1280"
       ]
      },
      {
       "output_type": "stream",
       "stream": "stdout",
       "text": [
        "\r",
        "Loaded frame 181 of 1280"
       ]
      },
      {
       "output_type": "stream",
       "stream": "stdout",
       "text": [
        "\r",
        "Loaded frame 182 of 1280"
       ]
      },
      {
       "output_type": "stream",
       "stream": "stdout",
       "text": [
        "\r",
        "Loaded frame 183 of 1280"
       ]
      },
      {
       "output_type": "stream",
       "stream": "stdout",
       "text": [
        "\r",
        "Loaded frame 184 of 1280"
       ]
      },
      {
       "output_type": "stream",
       "stream": "stdout",
       "text": [
        "\r",
        "Loaded frame 185 of 1280"
       ]
      },
      {
       "output_type": "stream",
       "stream": "stdout",
       "text": [
        "\r",
        "Loaded frame 186 of 1280"
       ]
      },
      {
       "output_type": "stream",
       "stream": "stdout",
       "text": [
        "\r",
        "Loaded frame 187 of 1280"
       ]
      },
      {
       "output_type": "stream",
       "stream": "stdout",
       "text": [
        "\r",
        "Loaded frame 188 of 1280"
       ]
      },
      {
       "output_type": "stream",
       "stream": "stdout",
       "text": [
        "\r",
        "Loaded frame 189 of 1280"
       ]
      },
      {
       "output_type": "stream",
       "stream": "stdout",
       "text": [
        "\r",
        "Loaded frame 190 of 1280"
       ]
      },
      {
       "output_type": "stream",
       "stream": "stdout",
       "text": [
        "\r",
        "Loaded frame 191 of 1280"
       ]
      },
      {
       "output_type": "stream",
       "stream": "stdout",
       "text": [
        "\r",
        "Loaded frame 192 of 1280"
       ]
      },
      {
       "output_type": "stream",
       "stream": "stdout",
       "text": [
        "\r",
        "Loaded frame 193 of 1280"
       ]
      },
      {
       "output_type": "stream",
       "stream": "stdout",
       "text": [
        "\r",
        "Loaded frame 194 of 1280"
       ]
      },
      {
       "output_type": "stream",
       "stream": "stdout",
       "text": [
        "\r",
        "Loaded frame 195 of 1280"
       ]
      },
      {
       "output_type": "stream",
       "stream": "stdout",
       "text": [
        "\r",
        "Loaded frame 196 of 1280"
       ]
      },
      {
       "output_type": "stream",
       "stream": "stdout",
       "text": [
        "\r",
        "Loaded frame 197 of 1280"
       ]
      },
      {
       "output_type": "stream",
       "stream": "stdout",
       "text": [
        "\r",
        "Loaded frame 198 of 1280"
       ]
      },
      {
       "output_type": "stream",
       "stream": "stdout",
       "text": [
        "\r",
        "Loaded frame 199 of 1280"
       ]
      },
      {
       "output_type": "stream",
       "stream": "stdout",
       "text": [
        "\r",
        "Loaded frame 200 of 1280"
       ]
      },
      {
       "output_type": "stream",
       "stream": "stdout",
       "text": [
        "\r",
        "Loaded frame 201 of 1280"
       ]
      },
      {
       "output_type": "stream",
       "stream": "stdout",
       "text": [
        "\r",
        "Loaded frame 202 of 1280"
       ]
      },
      {
       "output_type": "stream",
       "stream": "stdout",
       "text": [
        "\r",
        "Loaded frame 203 of 1280"
       ]
      },
      {
       "output_type": "stream",
       "stream": "stdout",
       "text": [
        "\r",
        "Loaded frame 204 of 1280"
       ]
      },
      {
       "output_type": "stream",
       "stream": "stdout",
       "text": [
        "\r",
        "Loaded frame 205 of 1280"
       ]
      },
      {
       "output_type": "stream",
       "stream": "stdout",
       "text": [
        "\r",
        "Loaded frame 206 of 1280"
       ]
      },
      {
       "output_type": "stream",
       "stream": "stdout",
       "text": [
        "\r",
        "Loaded frame 207 of 1280"
       ]
      },
      {
       "output_type": "stream",
       "stream": "stdout",
       "text": [
        "\r",
        "Loaded frame 208 of 1280"
       ]
      },
      {
       "output_type": "stream",
       "stream": "stdout",
       "text": [
        "\r",
        "Loaded frame 209 of 1280"
       ]
      },
      {
       "output_type": "stream",
       "stream": "stdout",
       "text": [
        "\r",
        "Loaded frame 210 of 1280"
       ]
      },
      {
       "output_type": "stream",
       "stream": "stdout",
       "text": [
        "\r",
        "Loaded frame 211 of 1280"
       ]
      },
      {
       "output_type": "stream",
       "stream": "stdout",
       "text": [
        "\r",
        "Loaded frame 212 of 1280"
       ]
      },
      {
       "output_type": "stream",
       "stream": "stdout",
       "text": [
        "\r",
        "Loaded frame 213 of 1280"
       ]
      },
      {
       "output_type": "stream",
       "stream": "stdout",
       "text": [
        "\r",
        "Loaded frame 214 of 1280"
       ]
      },
      {
       "output_type": "stream",
       "stream": "stdout",
       "text": [
        "\r",
        "Loaded frame 215 of 1280"
       ]
      },
      {
       "output_type": "stream",
       "stream": "stdout",
       "text": [
        "\r",
        "Loaded frame 216 of 1280"
       ]
      },
      {
       "output_type": "stream",
       "stream": "stdout",
       "text": [
        "\r",
        "Loaded frame 217 of 1280"
       ]
      },
      {
       "output_type": "stream",
       "stream": "stdout",
       "text": [
        "\r",
        "Loaded frame 218 of 1280"
       ]
      },
      {
       "output_type": "stream",
       "stream": "stdout",
       "text": [
        "\r",
        "Loaded frame 219 of 1280"
       ]
      },
      {
       "output_type": "stream",
       "stream": "stdout",
       "text": [
        "\r",
        "Loaded frame 220 of 1280"
       ]
      },
      {
       "output_type": "stream",
       "stream": "stdout",
       "text": [
        "\r",
        "Loaded frame 221 of 1280"
       ]
      },
      {
       "output_type": "stream",
       "stream": "stdout",
       "text": [
        "\r",
        "Loaded frame 222 of 1280"
       ]
      },
      {
       "output_type": "stream",
       "stream": "stdout",
       "text": [
        "\r",
        "Loaded frame 223 of 1280"
       ]
      },
      {
       "output_type": "stream",
       "stream": "stdout",
       "text": [
        "\r",
        "Loaded frame 224 of 1280"
       ]
      },
      {
       "output_type": "stream",
       "stream": "stdout",
       "text": [
        "\r",
        "Loaded frame 225 of 1280"
       ]
      },
      {
       "output_type": "stream",
       "stream": "stdout",
       "text": [
        "\r",
        "Loaded frame 226 of 1280"
       ]
      },
      {
       "output_type": "stream",
       "stream": "stdout",
       "text": [
        "\r",
        "Loaded frame 227 of 1280"
       ]
      },
      {
       "output_type": "stream",
       "stream": "stdout",
       "text": [
        "\r",
        "Loaded frame 228 of 1280"
       ]
      },
      {
       "output_type": "stream",
       "stream": "stdout",
       "text": [
        "\r",
        "Loaded frame 229 of 1280"
       ]
      },
      {
       "output_type": "stream",
       "stream": "stdout",
       "text": [
        "\r",
        "Loaded frame 230 of 1280"
       ]
      },
      {
       "output_type": "stream",
       "stream": "stdout",
       "text": [
        "\r",
        "Loaded frame 231 of 1280"
       ]
      },
      {
       "output_type": "stream",
       "stream": "stdout",
       "text": [
        "\r",
        "Loaded frame 232 of 1280"
       ]
      },
      {
       "output_type": "stream",
       "stream": "stdout",
       "text": [
        "\r",
        "Loaded frame 233 of 1280"
       ]
      },
      {
       "output_type": "stream",
       "stream": "stdout",
       "text": [
        "\r",
        "Loaded frame 234 of 1280"
       ]
      },
      {
       "output_type": "stream",
       "stream": "stdout",
       "text": [
        "\r",
        "Loaded frame 235 of 1280"
       ]
      },
      {
       "output_type": "stream",
       "stream": "stdout",
       "text": [
        "\r",
        "Loaded frame 236 of 1280"
       ]
      },
      {
       "output_type": "stream",
       "stream": "stdout",
       "text": [
        "\r",
        "Loaded frame 237 of 1280"
       ]
      },
      {
       "output_type": "stream",
       "stream": "stdout",
       "text": [
        "\r",
        "Loaded frame 238 of 1280"
       ]
      },
      {
       "output_type": "stream",
       "stream": "stdout",
       "text": [
        "\r",
        "Loaded frame 239 of 1280"
       ]
      },
      {
       "output_type": "stream",
       "stream": "stdout",
       "text": [
        "\r",
        "Loaded frame 240 of 1280"
       ]
      },
      {
       "output_type": "stream",
       "stream": "stdout",
       "text": [
        "\r",
        "Loaded frame 241 of 1280"
       ]
      },
      {
       "output_type": "stream",
       "stream": "stdout",
       "text": [
        "\r",
        "Loaded frame 242 of 1280"
       ]
      },
      {
       "output_type": "stream",
       "stream": "stdout",
       "text": [
        "\r",
        "Loaded frame 243 of 1280"
       ]
      },
      {
       "output_type": "stream",
       "stream": "stdout",
       "text": [
        "\r",
        "Loaded frame 244 of 1280"
       ]
      },
      {
       "output_type": "stream",
       "stream": "stdout",
       "text": [
        "\r",
        "Loaded frame 245 of 1280"
       ]
      },
      {
       "output_type": "stream",
       "stream": "stdout",
       "text": [
        "\r",
        "Loaded frame 246 of 1280"
       ]
      },
      {
       "output_type": "stream",
       "stream": "stdout",
       "text": [
        "\r",
        "Loaded frame 247 of 1280"
       ]
      },
      {
       "output_type": "stream",
       "stream": "stdout",
       "text": [
        "\r",
        "Loaded frame 248 of 1280"
       ]
      },
      {
       "output_type": "stream",
       "stream": "stdout",
       "text": [
        "\r",
        "Loaded frame 249 of 1280"
       ]
      },
      {
       "output_type": "stream",
       "stream": "stdout",
       "text": [
        "\r",
        "Loaded frame 250 of 1280"
       ]
      },
      {
       "output_type": "stream",
       "stream": "stdout",
       "text": [
        "\r",
        "Loaded frame 251 of 1280"
       ]
      },
      {
       "output_type": "stream",
       "stream": "stdout",
       "text": [
        "\r",
        "Loaded frame 252 of 1280"
       ]
      },
      {
       "output_type": "stream",
       "stream": "stdout",
       "text": [
        "\r",
        "Loaded frame 253 of 1280"
       ]
      },
      {
       "output_type": "stream",
       "stream": "stdout",
       "text": [
        "\r",
        "Loaded frame 254 of 1280"
       ]
      },
      {
       "output_type": "stream",
       "stream": "stdout",
       "text": [
        "\r",
        "Loaded frame 255 of 1280"
       ]
      },
      {
       "output_type": "stream",
       "stream": "stdout",
       "text": [
        "\r",
        "Loaded frame 256 of 1280"
       ]
      },
      {
       "output_type": "stream",
       "stream": "stdout",
       "text": [
        "\r",
        "Loaded frame 257 of 1280"
       ]
      },
      {
       "output_type": "stream",
       "stream": "stdout",
       "text": [
        "\r",
        "Loaded frame 258 of 1280"
       ]
      },
      {
       "output_type": "stream",
       "stream": "stdout",
       "text": [
        "\r",
        "Loaded frame 259 of 1280"
       ]
      },
      {
       "output_type": "stream",
       "stream": "stdout",
       "text": [
        "\r",
        "Loaded frame 260 of 1280"
       ]
      },
      {
       "output_type": "stream",
       "stream": "stdout",
       "text": [
        "\r",
        "Loaded frame 261 of 1280"
       ]
      },
      {
       "output_type": "stream",
       "stream": "stdout",
       "text": [
        "\r",
        "Loaded frame 262 of 1280"
       ]
      },
      {
       "output_type": "stream",
       "stream": "stdout",
       "text": [
        "\r",
        "Loaded frame 263 of 1280"
       ]
      },
      {
       "output_type": "stream",
       "stream": "stdout",
       "text": [
        "\r",
        "Loaded frame 264 of 1280"
       ]
      },
      {
       "output_type": "stream",
       "stream": "stdout",
       "text": [
        "\r",
        "Loaded frame 265 of 1280"
       ]
      },
      {
       "output_type": "stream",
       "stream": "stdout",
       "text": [
        "\r",
        "Loaded frame 266 of 1280"
       ]
      },
      {
       "output_type": "stream",
       "stream": "stdout",
       "text": [
        "\r",
        "Loaded frame 267 of 1280"
       ]
      },
      {
       "output_type": "stream",
       "stream": "stdout",
       "text": [
        "\r",
        "Loaded frame 268 of 1280"
       ]
      },
      {
       "output_type": "stream",
       "stream": "stdout",
       "text": [
        "\r",
        "Loaded frame 269 of 1280"
       ]
      },
      {
       "output_type": "stream",
       "stream": "stdout",
       "text": [
        "\r",
        "Loaded frame 270 of 1280"
       ]
      },
      {
       "output_type": "stream",
       "stream": "stdout",
       "text": [
        "\r",
        "Loaded frame 271 of 1280"
       ]
      },
      {
       "output_type": "stream",
       "stream": "stdout",
       "text": [
        "\r",
        "Loaded frame 272 of 1280"
       ]
      },
      {
       "output_type": "stream",
       "stream": "stdout",
       "text": [
        "\r",
        "Loaded frame 273 of 1280"
       ]
      },
      {
       "output_type": "stream",
       "stream": "stdout",
       "text": [
        "\r",
        "Loaded frame 274 of 1280"
       ]
      },
      {
       "output_type": "stream",
       "stream": "stdout",
       "text": [
        "\r",
        "Loaded frame 275 of 1280"
       ]
      },
      {
       "output_type": "stream",
       "stream": "stdout",
       "text": [
        "\r",
        "Loaded frame 276 of 1280"
       ]
      },
      {
       "output_type": "stream",
       "stream": "stdout",
       "text": [
        "\r",
        "Loaded frame 277 of 1280"
       ]
      },
      {
       "output_type": "stream",
       "stream": "stdout",
       "text": [
        "\r",
        "Loaded frame 278 of 1280"
       ]
      },
      {
       "output_type": "stream",
       "stream": "stdout",
       "text": [
        "\r",
        "Loaded frame 279 of 1280"
       ]
      },
      {
       "output_type": "stream",
       "stream": "stdout",
       "text": [
        "\r",
        "Loaded frame 280 of 1280"
       ]
      },
      {
       "output_type": "stream",
       "stream": "stdout",
       "text": [
        "\r",
        "Loaded frame 281 of 1280"
       ]
      },
      {
       "output_type": "stream",
       "stream": "stdout",
       "text": [
        "\r",
        "Loaded frame 282 of 1280"
       ]
      },
      {
       "output_type": "stream",
       "stream": "stdout",
       "text": [
        "\r",
        "Loaded frame 283 of 1280"
       ]
      },
      {
       "output_type": "stream",
       "stream": "stdout",
       "text": [
        "\r",
        "Loaded frame 284 of 1280"
       ]
      },
      {
       "output_type": "stream",
       "stream": "stdout",
       "text": [
        "\r",
        "Loaded frame 285 of 1280"
       ]
      },
      {
       "output_type": "stream",
       "stream": "stdout",
       "text": [
        "\r",
        "Loaded frame 286 of 1280"
       ]
      },
      {
       "output_type": "stream",
       "stream": "stdout",
       "text": [
        "\r",
        "Loaded frame 287 of 1280"
       ]
      },
      {
       "output_type": "stream",
       "stream": "stdout",
       "text": [
        "\r",
        "Loaded frame 288 of 1280"
       ]
      },
      {
       "output_type": "stream",
       "stream": "stdout",
       "text": [
        "\r",
        "Loaded frame 289 of 1280"
       ]
      },
      {
       "output_type": "stream",
       "stream": "stdout",
       "text": [
        "\r",
        "Loaded frame 290 of 1280"
       ]
      },
      {
       "output_type": "stream",
       "stream": "stdout",
       "text": [
        "\r",
        "Loaded frame 291 of 1280"
       ]
      },
      {
       "output_type": "stream",
       "stream": "stdout",
       "text": [
        "\r",
        "Loaded frame 292 of 1280"
       ]
      },
      {
       "output_type": "stream",
       "stream": "stdout",
       "text": [
        "\r",
        "Loaded frame 293 of 1280"
       ]
      },
      {
       "output_type": "stream",
       "stream": "stdout",
       "text": [
        "\r",
        "Loaded frame 294 of 1280"
       ]
      },
      {
       "output_type": "stream",
       "stream": "stdout",
       "text": [
        "\r",
        "Loaded frame 295 of 1280"
       ]
      },
      {
       "output_type": "stream",
       "stream": "stdout",
       "text": [
        "\r",
        "Loaded frame 296 of 1280"
       ]
      },
      {
       "output_type": "stream",
       "stream": "stdout",
       "text": [
        "\r",
        "Loaded frame 297 of 1280"
       ]
      },
      {
       "output_type": "stream",
       "stream": "stdout",
       "text": [
        "\r",
        "Loaded frame 298 of 1280"
       ]
      },
      {
       "output_type": "stream",
       "stream": "stdout",
       "text": [
        "\r",
        "Loaded frame 299 of 1280"
       ]
      },
      {
       "output_type": "stream",
       "stream": "stdout",
       "text": [
        "\r",
        "Loaded frame 300 of 1280"
       ]
      },
      {
       "output_type": "stream",
       "stream": "stdout",
       "text": [
        "\r",
        "Loaded frame 301 of 1280"
       ]
      },
      {
       "output_type": "stream",
       "stream": "stdout",
       "text": [
        "\r",
        "Loaded frame 302 of 1280"
       ]
      },
      {
       "output_type": "stream",
       "stream": "stdout",
       "text": [
        "\r",
        "Loaded frame 303 of 1280"
       ]
      },
      {
       "output_type": "stream",
       "stream": "stdout",
       "text": [
        "\r",
        "Loaded frame 304 of 1280"
       ]
      },
      {
       "output_type": "stream",
       "stream": "stdout",
       "text": [
        "\r",
        "Loaded frame 305 of 1280"
       ]
      },
      {
       "output_type": "stream",
       "stream": "stdout",
       "text": [
        "\r",
        "Loaded frame 306 of 1280"
       ]
      },
      {
       "output_type": "stream",
       "stream": "stdout",
       "text": [
        "\r",
        "Loaded frame 307 of 1280"
       ]
      },
      {
       "output_type": "stream",
       "stream": "stdout",
       "text": [
        "\r",
        "Loaded frame 308 of 1280"
       ]
      },
      {
       "output_type": "stream",
       "stream": "stdout",
       "text": [
        "\r",
        "Loaded frame 309 of 1280"
       ]
      },
      {
       "output_type": "stream",
       "stream": "stdout",
       "text": [
        "\r",
        "Loaded frame 310 of 1280"
       ]
      },
      {
       "output_type": "stream",
       "stream": "stdout",
       "text": [
        "\r",
        "Loaded frame 311 of 1280"
       ]
      },
      {
       "output_type": "stream",
       "stream": "stdout",
       "text": [
        "\r",
        "Loaded frame 312 of 1280"
       ]
      },
      {
       "output_type": "stream",
       "stream": "stdout",
       "text": [
        "\r",
        "Loaded frame 313 of 1280"
       ]
      },
      {
       "output_type": "stream",
       "stream": "stdout",
       "text": [
        "\r",
        "Loaded frame 314 of 1280"
       ]
      },
      {
       "output_type": "stream",
       "stream": "stdout",
       "text": [
        "\r",
        "Loaded frame 315 of 1280"
       ]
      },
      {
       "output_type": "stream",
       "stream": "stdout",
       "text": [
        "\r",
        "Loaded frame 316 of 1280"
       ]
      },
      {
       "output_type": "stream",
       "stream": "stdout",
       "text": [
        "\r",
        "Loaded frame 317 of 1280"
       ]
      },
      {
       "output_type": "stream",
       "stream": "stdout",
       "text": [
        "\r",
        "Loaded frame 318 of 1280"
       ]
      },
      {
       "output_type": "stream",
       "stream": "stdout",
       "text": [
        "\r",
        "Loaded frame 319 of 1280"
       ]
      },
      {
       "output_type": "stream",
       "stream": "stdout",
       "text": [
        "\r",
        "Loaded frame 320 of 1280"
       ]
      },
      {
       "output_type": "stream",
       "stream": "stdout",
       "text": [
        "\r",
        "Loaded frame 321 of 1280"
       ]
      },
      {
       "output_type": "stream",
       "stream": "stdout",
       "text": [
        "\r",
        "Loaded frame 322 of 1280"
       ]
      },
      {
       "output_type": "stream",
       "stream": "stdout",
       "text": [
        "\r",
        "Loaded frame 323 of 1280"
       ]
      },
      {
       "output_type": "stream",
       "stream": "stdout",
       "text": [
        "\r",
        "Loaded frame 324 of 1280"
       ]
      },
      {
       "output_type": "stream",
       "stream": "stdout",
       "text": [
        "\r",
        "Loaded frame 325 of 1280"
       ]
      },
      {
       "output_type": "stream",
       "stream": "stdout",
       "text": [
        "\r",
        "Loaded frame 326 of 1280"
       ]
      },
      {
       "output_type": "stream",
       "stream": "stdout",
       "text": [
        "\r",
        "Loaded frame 327 of 1280"
       ]
      },
      {
       "output_type": "stream",
       "stream": "stdout",
       "text": [
        "\r",
        "Loaded frame 328 of 1280"
       ]
      },
      {
       "output_type": "stream",
       "stream": "stdout",
       "text": [
        "\r",
        "Loaded frame 329 of 1280"
       ]
      },
      {
       "output_type": "stream",
       "stream": "stdout",
       "text": [
        "\r",
        "Loaded frame 330 of 1280"
       ]
      },
      {
       "output_type": "stream",
       "stream": "stdout",
       "text": [
        "\r",
        "Loaded frame 331 of 1280"
       ]
      },
      {
       "output_type": "stream",
       "stream": "stdout",
       "text": [
        "\r",
        "Loaded frame 332 of 1280"
       ]
      },
      {
       "output_type": "stream",
       "stream": "stdout",
       "text": [
        "\r",
        "Loaded frame 333 of 1280"
       ]
      },
      {
       "output_type": "stream",
       "stream": "stdout",
       "text": [
        "\r",
        "Loaded frame 334 of 1280"
       ]
      },
      {
       "output_type": "stream",
       "stream": "stdout",
       "text": [
        "\r",
        "Loaded frame 335 of 1280"
       ]
      },
      {
       "output_type": "stream",
       "stream": "stdout",
       "text": [
        "\r",
        "Loaded frame 336 of 1280"
       ]
      },
      {
       "output_type": "stream",
       "stream": "stdout",
       "text": [
        "\r",
        "Loaded frame 337 of 1280"
       ]
      },
      {
       "output_type": "stream",
       "stream": "stdout",
       "text": [
        "\r",
        "Loaded frame 338 of 1280"
       ]
      },
      {
       "output_type": "stream",
       "stream": "stdout",
       "text": [
        "\r",
        "Loaded frame 339 of 1280"
       ]
      },
      {
       "output_type": "stream",
       "stream": "stdout",
       "text": [
        "\r",
        "Loaded frame 340 of 1280"
       ]
      },
      {
       "output_type": "stream",
       "stream": "stdout",
       "text": [
        "\r",
        "Loaded frame 341 of 1280"
       ]
      },
      {
       "output_type": "stream",
       "stream": "stdout",
       "text": [
        "\r",
        "Loaded frame 342 of 1280"
       ]
      },
      {
       "output_type": "stream",
       "stream": "stdout",
       "text": [
        "\r",
        "Loaded frame 343 of 1280"
       ]
      },
      {
       "output_type": "stream",
       "stream": "stdout",
       "text": [
        "\r",
        "Loaded frame 344 of 1280"
       ]
      },
      {
       "output_type": "stream",
       "stream": "stdout",
       "text": [
        "\r",
        "Loaded frame 345 of 1280"
       ]
      },
      {
       "output_type": "stream",
       "stream": "stdout",
       "text": [
        "\r",
        "Loaded frame 346 of 1280"
       ]
      },
      {
       "output_type": "stream",
       "stream": "stdout",
       "text": [
        "\r",
        "Loaded frame 347 of 1280"
       ]
      },
      {
       "output_type": "stream",
       "stream": "stdout",
       "text": [
        "\r",
        "Loaded frame 348 of 1280"
       ]
      },
      {
       "output_type": "stream",
       "stream": "stdout",
       "text": [
        "\r",
        "Loaded frame 349 of 1280"
       ]
      },
      {
       "output_type": "stream",
       "stream": "stdout",
       "text": [
        "\r",
        "Loaded frame 350 of 1280"
       ]
      },
      {
       "output_type": "stream",
       "stream": "stdout",
       "text": [
        "\r",
        "Loaded frame 351 of 1280"
       ]
      },
      {
       "output_type": "stream",
       "stream": "stdout",
       "text": [
        "\r",
        "Loaded frame 352 of 1280"
       ]
      },
      {
       "output_type": "stream",
       "stream": "stdout",
       "text": [
        "\r",
        "Loaded frame 353 of 1280"
       ]
      },
      {
       "output_type": "stream",
       "stream": "stdout",
       "text": [
        "\r",
        "Loaded frame 354 of 1280"
       ]
      },
      {
       "output_type": "stream",
       "stream": "stdout",
       "text": [
        "\r",
        "Loaded frame 355 of 1280"
       ]
      },
      {
       "output_type": "stream",
       "stream": "stdout",
       "text": [
        "\r",
        "Loaded frame 356 of 1280"
       ]
      },
      {
       "output_type": "stream",
       "stream": "stdout",
       "text": [
        "\r",
        "Loaded frame 357 of 1280"
       ]
      },
      {
       "output_type": "stream",
       "stream": "stdout",
       "text": [
        "\r",
        "Loaded frame 358 of 1280"
       ]
      },
      {
       "output_type": "stream",
       "stream": "stdout",
       "text": [
        "\r",
        "Loaded frame 359 of 1280"
       ]
      },
      {
       "output_type": "stream",
       "stream": "stdout",
       "text": [
        "\r",
        "Loaded frame 360 of 1280"
       ]
      },
      {
       "output_type": "stream",
       "stream": "stdout",
       "text": [
        "\r",
        "Loaded frame 361 of 1280"
       ]
      },
      {
       "output_type": "stream",
       "stream": "stdout",
       "text": [
        "\r",
        "Loaded frame 362 of 1280"
       ]
      },
      {
       "output_type": "stream",
       "stream": "stdout",
       "text": [
        "\r",
        "Loaded frame 363 of 1280"
       ]
      },
      {
       "output_type": "stream",
       "stream": "stdout",
       "text": [
        "\r",
        "Loaded frame 364 of 1280"
       ]
      },
      {
       "output_type": "stream",
       "stream": "stdout",
       "text": [
        "\r",
        "Loaded frame 365 of 1280"
       ]
      },
      {
       "output_type": "stream",
       "stream": "stdout",
       "text": [
        "\r",
        "Loaded frame 366 of 1280"
       ]
      },
      {
       "output_type": "stream",
       "stream": "stdout",
       "text": [
        "\r",
        "Loaded frame 367 of 1280"
       ]
      },
      {
       "output_type": "stream",
       "stream": "stdout",
       "text": [
        "\r",
        "Loaded frame 368 of 1280"
       ]
      },
      {
       "output_type": "stream",
       "stream": "stdout",
       "text": [
        "\r",
        "Loaded frame 369 of 1280"
       ]
      },
      {
       "output_type": "stream",
       "stream": "stdout",
       "text": [
        "\r",
        "Loaded frame 370 of 1280"
       ]
      },
      {
       "output_type": "stream",
       "stream": "stdout",
       "text": [
        "\r",
        "Loaded frame 371 of 1280"
       ]
      },
      {
       "output_type": "stream",
       "stream": "stdout",
       "text": [
        "\r",
        "Loaded frame 372 of 1280"
       ]
      },
      {
       "output_type": "stream",
       "stream": "stdout",
       "text": [
        "\r",
        "Loaded frame 373 of 1280"
       ]
      },
      {
       "output_type": "stream",
       "stream": "stdout",
       "text": [
        "\r",
        "Loaded frame 374 of 1280"
       ]
      },
      {
       "output_type": "stream",
       "stream": "stdout",
       "text": [
        "\r",
        "Loaded frame 375 of 1280"
       ]
      },
      {
       "output_type": "stream",
       "stream": "stdout",
       "text": [
        "\r",
        "Loaded frame 376 of 1280"
       ]
      },
      {
       "output_type": "stream",
       "stream": "stdout",
       "text": [
        "\r",
        "Loaded frame 377 of 1280"
       ]
      },
      {
       "output_type": "stream",
       "stream": "stdout",
       "text": [
        "\r",
        "Loaded frame 378 of 1280"
       ]
      },
      {
       "output_type": "stream",
       "stream": "stdout",
       "text": [
        "\r",
        "Loaded frame 379 of 1280"
       ]
      },
      {
       "output_type": "stream",
       "stream": "stdout",
       "text": [
        "\r",
        "Loaded frame 380 of 1280"
       ]
      },
      {
       "output_type": "stream",
       "stream": "stdout",
       "text": [
        "\r",
        "Loaded frame 381 of 1280"
       ]
      },
      {
       "output_type": "stream",
       "stream": "stdout",
       "text": [
        "\r",
        "Loaded frame 382 of 1280"
       ]
      },
      {
       "output_type": "stream",
       "stream": "stdout",
       "text": [
        "\r",
        "Loaded frame 383 of 1280"
       ]
      },
      {
       "output_type": "stream",
       "stream": "stdout",
       "text": [
        "\r",
        "Loaded frame 384 of 1280"
       ]
      },
      {
       "output_type": "stream",
       "stream": "stdout",
       "text": [
        "\r",
        "Loaded frame 385 of 1280"
       ]
      },
      {
       "output_type": "stream",
       "stream": "stdout",
       "text": [
        "\r",
        "Loaded frame 386 of 1280"
       ]
      },
      {
       "output_type": "stream",
       "stream": "stdout",
       "text": [
        "\r",
        "Loaded frame 387 of 1280"
       ]
      },
      {
       "output_type": "stream",
       "stream": "stdout",
       "text": [
        "\r",
        "Loaded frame 388 of 1280"
       ]
      },
      {
       "output_type": "stream",
       "stream": "stdout",
       "text": [
        "\r",
        "Loaded frame 389 of 1280"
       ]
      },
      {
       "output_type": "stream",
       "stream": "stdout",
       "text": [
        "\r",
        "Loaded frame 390 of 1280"
       ]
      },
      {
       "output_type": "stream",
       "stream": "stdout",
       "text": [
        "\r",
        "Loaded frame 391 of 1280"
       ]
      },
      {
       "output_type": "stream",
       "stream": "stdout",
       "text": [
        "\r",
        "Loaded frame 392 of 1280"
       ]
      },
      {
       "output_type": "stream",
       "stream": "stdout",
       "text": [
        "\r",
        "Loaded frame 393 of 1280"
       ]
      },
      {
       "output_type": "stream",
       "stream": "stdout",
       "text": [
        "\r",
        "Loaded frame 394 of 1280"
       ]
      },
      {
       "output_type": "stream",
       "stream": "stdout",
       "text": [
        "\r",
        "Loaded frame 395 of 1280"
       ]
      },
      {
       "output_type": "stream",
       "stream": "stdout",
       "text": [
        "\r",
        "Loaded frame 396 of 1280"
       ]
      },
      {
       "output_type": "stream",
       "stream": "stdout",
       "text": [
        "\r",
        "Loaded frame 397 of 1280"
       ]
      },
      {
       "output_type": "stream",
       "stream": "stdout",
       "text": [
        "\r",
        "Loaded frame 398 of 1280"
       ]
      },
      {
       "output_type": "stream",
       "stream": "stdout",
       "text": [
        "\r",
        "Loaded frame 399 of 1280"
       ]
      },
      {
       "output_type": "stream",
       "stream": "stdout",
       "text": [
        "\r",
        "Loaded frame 400 of 1280"
       ]
      },
      {
       "output_type": "stream",
       "stream": "stdout",
       "text": [
        "\r",
        "Loaded frame 401 of 1280"
       ]
      },
      {
       "output_type": "stream",
       "stream": "stdout",
       "text": [
        "\r",
        "Loaded frame 402 of 1280"
       ]
      },
      {
       "output_type": "stream",
       "stream": "stdout",
       "text": [
        "\r",
        "Loaded frame 403 of 1280"
       ]
      },
      {
       "output_type": "stream",
       "stream": "stdout",
       "text": [
        "\r",
        "Loaded frame 404 of 1280"
       ]
      },
      {
       "output_type": "stream",
       "stream": "stdout",
       "text": [
        "\r",
        "Loaded frame 405 of 1280"
       ]
      },
      {
       "output_type": "stream",
       "stream": "stdout",
       "text": [
        "\r",
        "Loaded frame 406 of 1280"
       ]
      },
      {
       "output_type": "stream",
       "stream": "stdout",
       "text": [
        "\r",
        "Loaded frame 407 of 1280"
       ]
      },
      {
       "output_type": "stream",
       "stream": "stdout",
       "text": [
        "\r",
        "Loaded frame 408 of 1280"
       ]
      },
      {
       "output_type": "stream",
       "stream": "stdout",
       "text": [
        "\r",
        "Loaded frame 409 of 1280"
       ]
      },
      {
       "output_type": "stream",
       "stream": "stdout",
       "text": [
        "\r",
        "Loaded frame 410 of 1280"
       ]
      },
      {
       "output_type": "stream",
       "stream": "stdout",
       "text": [
        "\r",
        "Loaded frame 411 of 1280"
       ]
      },
      {
       "output_type": "stream",
       "stream": "stdout",
       "text": [
        "\r",
        "Loaded frame 412 of 1280"
       ]
      },
      {
       "output_type": "stream",
       "stream": "stdout",
       "text": [
        "\r",
        "Loaded frame 413 of 1280"
       ]
      },
      {
       "output_type": "stream",
       "stream": "stdout",
       "text": [
        "\r",
        "Loaded frame 414 of 1280"
       ]
      },
      {
       "output_type": "stream",
       "stream": "stdout",
       "text": [
        "\r",
        "Loaded frame 415 of 1280"
       ]
      },
      {
       "output_type": "stream",
       "stream": "stdout",
       "text": [
        "\r",
        "Loaded frame 416 of 1280"
       ]
      },
      {
       "output_type": "stream",
       "stream": "stdout",
       "text": [
        "\r",
        "Loaded frame 417 of 1280"
       ]
      },
      {
       "output_type": "stream",
       "stream": "stdout",
       "text": [
        "\r",
        "Loaded frame 418 of 1280"
       ]
      },
      {
       "output_type": "stream",
       "stream": "stdout",
       "text": [
        "\r",
        "Loaded frame 419 of 1280"
       ]
      },
      {
       "output_type": "stream",
       "stream": "stdout",
       "text": [
        "\r",
        "Loaded frame 420 of 1280"
       ]
      },
      {
       "output_type": "stream",
       "stream": "stdout",
       "text": [
        "\r",
        "Loaded frame 421 of 1280"
       ]
      },
      {
       "output_type": "stream",
       "stream": "stdout",
       "text": [
        "\r",
        "Loaded frame 422 of 1280"
       ]
      },
      {
       "output_type": "stream",
       "stream": "stdout",
       "text": [
        "\r",
        "Loaded frame 423 of 1280"
       ]
      },
      {
       "output_type": "stream",
       "stream": "stdout",
       "text": [
        "\r",
        "Loaded frame 424 of 1280"
       ]
      },
      {
       "output_type": "stream",
       "stream": "stdout",
       "text": [
        "\r",
        "Loaded frame 425 of 1280"
       ]
      },
      {
       "output_type": "stream",
       "stream": "stdout",
       "text": [
        "\r",
        "Loaded frame 426 of 1280"
       ]
      },
      {
       "output_type": "stream",
       "stream": "stdout",
       "text": [
        "\r",
        "Loaded frame 427 of 1280"
       ]
      },
      {
       "output_type": "stream",
       "stream": "stdout",
       "text": [
        "\r",
        "Loaded frame 428 of 1280"
       ]
      },
      {
       "output_type": "stream",
       "stream": "stdout",
       "text": [
        "\r",
        "Loaded frame 429 of 1280"
       ]
      },
      {
       "output_type": "stream",
       "stream": "stdout",
       "text": [
        "\r",
        "Loaded frame 430 of 1280"
       ]
      },
      {
       "output_type": "stream",
       "stream": "stdout",
       "text": [
        "\r",
        "Loaded frame 431 of 1280"
       ]
      },
      {
       "output_type": "stream",
       "stream": "stdout",
       "text": [
        "\r",
        "Loaded frame 432 of 1280"
       ]
      },
      {
       "output_type": "stream",
       "stream": "stdout",
       "text": [
        "\r",
        "Loaded frame 433 of 1280"
       ]
      },
      {
       "output_type": "stream",
       "stream": "stdout",
       "text": [
        "\r",
        "Loaded frame 434 of 1280"
       ]
      },
      {
       "output_type": "stream",
       "stream": "stdout",
       "text": [
        "\r",
        "Loaded frame 435 of 1280"
       ]
      },
      {
       "output_type": "stream",
       "stream": "stdout",
       "text": [
        "\r",
        "Loaded frame 436 of 1280"
       ]
      },
      {
       "output_type": "stream",
       "stream": "stdout",
       "text": [
        "\r",
        "Loaded frame 437 of 1280"
       ]
      },
      {
       "output_type": "stream",
       "stream": "stdout",
       "text": [
        "\r",
        "Loaded frame 438 of 1280"
       ]
      },
      {
       "output_type": "stream",
       "stream": "stdout",
       "text": [
        "\r",
        "Loaded frame 439 of 1280"
       ]
      },
      {
       "output_type": "stream",
       "stream": "stdout",
       "text": [
        "\r",
        "Loaded frame 440 of 1280"
       ]
      },
      {
       "output_type": "stream",
       "stream": "stdout",
       "text": [
        "\r",
        "Loaded frame 441 of 1280"
       ]
      },
      {
       "output_type": "stream",
       "stream": "stdout",
       "text": [
        "\r",
        "Loaded frame 442 of 1280"
       ]
      },
      {
       "output_type": "stream",
       "stream": "stdout",
       "text": [
        "\r",
        "Loaded frame 443 of 1280"
       ]
      },
      {
       "output_type": "stream",
       "stream": "stdout",
       "text": [
        "\r",
        "Loaded frame 444 of 1280"
       ]
      },
      {
       "output_type": "stream",
       "stream": "stdout",
       "text": [
        "\r",
        "Loaded frame 445 of 1280"
       ]
      },
      {
       "output_type": "stream",
       "stream": "stdout",
       "text": [
        "\r",
        "Loaded frame 446 of 1280"
       ]
      },
      {
       "output_type": "stream",
       "stream": "stdout",
       "text": [
        "\r",
        "Loaded frame 447 of 1280"
       ]
      },
      {
       "output_type": "stream",
       "stream": "stdout",
       "text": [
        "\r",
        "Loaded frame 448 of 1280"
       ]
      },
      {
       "output_type": "stream",
       "stream": "stdout",
       "text": [
        "\r",
        "Loaded frame 449 of 1280"
       ]
      },
      {
       "output_type": "stream",
       "stream": "stdout",
       "text": [
        "\r",
        "Loaded frame 450 of 1280"
       ]
      },
      {
       "output_type": "stream",
       "stream": "stdout",
       "text": [
        "\r",
        "Loaded frame 451 of 1280"
       ]
      },
      {
       "output_type": "stream",
       "stream": "stdout",
       "text": [
        "\r",
        "Loaded frame 452 of 1280"
       ]
      },
      {
       "output_type": "stream",
       "stream": "stdout",
       "text": [
        "\r",
        "Loaded frame 453 of 1280"
       ]
      },
      {
       "output_type": "stream",
       "stream": "stdout",
       "text": [
        "\r",
        "Loaded frame 454 of 1280"
       ]
      },
      {
       "output_type": "stream",
       "stream": "stdout",
       "text": [
        "\r",
        "Loaded frame 455 of 1280"
       ]
      },
      {
       "output_type": "stream",
       "stream": "stdout",
       "text": [
        "\r",
        "Loaded frame 456 of 1280"
       ]
      },
      {
       "output_type": "stream",
       "stream": "stdout",
       "text": [
        "\r",
        "Loaded frame 457 of 1280"
       ]
      },
      {
       "output_type": "stream",
       "stream": "stdout",
       "text": [
        "\r",
        "Loaded frame 458 of 1280"
       ]
      },
      {
       "output_type": "stream",
       "stream": "stdout",
       "text": [
        "\r",
        "Loaded frame 459 of 1280"
       ]
      },
      {
       "output_type": "stream",
       "stream": "stdout",
       "text": [
        "\r",
        "Loaded frame 460 of 1280"
       ]
      },
      {
       "output_type": "stream",
       "stream": "stdout",
       "text": [
        "\r",
        "Loaded frame 461 of 1280"
       ]
      },
      {
       "output_type": "stream",
       "stream": "stdout",
       "text": [
        "\r",
        "Loaded frame 462 of 1280"
       ]
      },
      {
       "output_type": "stream",
       "stream": "stdout",
       "text": [
        "\r",
        "Loaded frame 463 of 1280"
       ]
      },
      {
       "output_type": "stream",
       "stream": "stdout",
       "text": [
        "\r",
        "Loaded frame 464 of 1280"
       ]
      },
      {
       "output_type": "stream",
       "stream": "stdout",
       "text": [
        "\r",
        "Loaded frame 465 of 1280"
       ]
      },
      {
       "output_type": "stream",
       "stream": "stdout",
       "text": [
        "\r",
        "Loaded frame 466 of 1280"
       ]
      },
      {
       "output_type": "stream",
       "stream": "stdout",
       "text": [
        "\r",
        "Loaded frame 467 of 1280"
       ]
      },
      {
       "output_type": "stream",
       "stream": "stdout",
       "text": [
        "\r",
        "Loaded frame 468 of 1280"
       ]
      },
      {
       "output_type": "stream",
       "stream": "stdout",
       "text": [
        "\r",
        "Loaded frame 469 of 1280"
       ]
      },
      {
       "output_type": "stream",
       "stream": "stdout",
       "text": [
        "\r",
        "Loaded frame 470 of 1280"
       ]
      },
      {
       "output_type": "stream",
       "stream": "stdout",
       "text": [
        "\r",
        "Loaded frame 471 of 1280"
       ]
      },
      {
       "output_type": "stream",
       "stream": "stdout",
       "text": [
        "\r",
        "Loaded frame 472 of 1280"
       ]
      },
      {
       "output_type": "stream",
       "stream": "stdout",
       "text": [
        "\r",
        "Loaded frame 473 of 1280"
       ]
      },
      {
       "output_type": "stream",
       "stream": "stdout",
       "text": [
        "\r",
        "Loaded frame 474 of 1280"
       ]
      },
      {
       "output_type": "stream",
       "stream": "stdout",
       "text": [
        "\r",
        "Loaded frame 475 of 1280"
       ]
      },
      {
       "output_type": "stream",
       "stream": "stdout",
       "text": [
        "\r",
        "Loaded frame 476 of 1280"
       ]
      },
      {
       "output_type": "stream",
       "stream": "stdout",
       "text": [
        "\r",
        "Loaded frame 477 of 1280"
       ]
      },
      {
       "output_type": "stream",
       "stream": "stdout",
       "text": [
        "\r",
        "Loaded frame 478 of 1280"
       ]
      },
      {
       "output_type": "stream",
       "stream": "stdout",
       "text": [
        "\r",
        "Loaded frame 479 of 1280"
       ]
      },
      {
       "output_type": "stream",
       "stream": "stdout",
       "text": [
        "\r",
        "Loaded frame 480 of 1280"
       ]
      },
      {
       "output_type": "stream",
       "stream": "stdout",
       "text": [
        "\r",
        "Loaded frame 481 of 1280"
       ]
      },
      {
       "output_type": "stream",
       "stream": "stdout",
       "text": [
        "\r",
        "Loaded frame 482 of 1280"
       ]
      },
      {
       "output_type": "stream",
       "stream": "stdout",
       "text": [
        "\r",
        "Loaded frame 483 of 1280"
       ]
      },
      {
       "output_type": "stream",
       "stream": "stdout",
       "text": [
        "\r",
        "Loaded frame 484 of 1280"
       ]
      },
      {
       "output_type": "stream",
       "stream": "stdout",
       "text": [
        "\r",
        "Loaded frame 485 of 1280"
       ]
      },
      {
       "output_type": "stream",
       "stream": "stdout",
       "text": [
        "\r",
        "Loaded frame 486 of 1280"
       ]
      },
      {
       "output_type": "stream",
       "stream": "stdout",
       "text": [
        "\r",
        "Loaded frame 487 of 1280"
       ]
      },
      {
       "output_type": "stream",
       "stream": "stdout",
       "text": [
        "\r",
        "Loaded frame 488 of 1280"
       ]
      },
      {
       "output_type": "stream",
       "stream": "stdout",
       "text": [
        "\r",
        "Loaded frame 489 of 1280"
       ]
      },
      {
       "output_type": "stream",
       "stream": "stdout",
       "text": [
        "\r",
        "Loaded frame 490 of 1280"
       ]
      },
      {
       "output_type": "stream",
       "stream": "stdout",
       "text": [
        "\r",
        "Loaded frame 491 of 1280"
       ]
      },
      {
       "output_type": "stream",
       "stream": "stdout",
       "text": [
        "\r",
        "Loaded frame 492 of 1280"
       ]
      },
      {
       "output_type": "stream",
       "stream": "stdout",
       "text": [
        "\r",
        "Loaded frame 493 of 1280"
       ]
      },
      {
       "output_type": "stream",
       "stream": "stdout",
       "text": [
        "\r",
        "Loaded frame 494 of 1280"
       ]
      },
      {
       "output_type": "stream",
       "stream": "stdout",
       "text": [
        "\r",
        "Loaded frame 495 of 1280"
       ]
      },
      {
       "output_type": "stream",
       "stream": "stdout",
       "text": [
        "\r",
        "Loaded frame 496 of 1280"
       ]
      },
      {
       "output_type": "stream",
       "stream": "stdout",
       "text": [
        "\r",
        "Loaded frame 497 of 1280"
       ]
      },
      {
       "output_type": "stream",
       "stream": "stdout",
       "text": [
        "\r",
        "Loaded frame 498 of 1280"
       ]
      },
      {
       "output_type": "stream",
       "stream": "stdout",
       "text": [
        "\r",
        "Loaded frame 499 of 1280"
       ]
      },
      {
       "output_type": "stream",
       "stream": "stdout",
       "text": [
        "\r",
        "Loaded frame 500 of 1280"
       ]
      },
      {
       "output_type": "stream",
       "stream": "stdout",
       "text": [
        "\r",
        "Loaded frame 501 of 1280"
       ]
      },
      {
       "output_type": "stream",
       "stream": "stdout",
       "text": [
        "\r",
        "Loaded frame 502 of 1280"
       ]
      },
      {
       "output_type": "stream",
       "stream": "stdout",
       "text": [
        "\r",
        "Loaded frame 503 of 1280"
       ]
      },
      {
       "output_type": "stream",
       "stream": "stdout",
       "text": [
        "\r",
        "Loaded frame 504 of 1280"
       ]
      },
      {
       "output_type": "stream",
       "stream": "stdout",
       "text": [
        "\r",
        "Loaded frame 505 of 1280"
       ]
      },
      {
       "output_type": "stream",
       "stream": "stdout",
       "text": [
        "\r",
        "Loaded frame 506 of 1280"
       ]
      },
      {
       "output_type": "stream",
       "stream": "stdout",
       "text": [
        "\r",
        "Loaded frame 507 of 1280"
       ]
      },
      {
       "output_type": "stream",
       "stream": "stdout",
       "text": [
        "\r",
        "Loaded frame 508 of 1280"
       ]
      },
      {
       "output_type": "stream",
       "stream": "stdout",
       "text": [
        "\r",
        "Loaded frame 509 of 1280"
       ]
      },
      {
       "output_type": "stream",
       "stream": "stdout",
       "text": [
        "\r",
        "Loaded frame 510 of 1280"
       ]
      },
      {
       "output_type": "stream",
       "stream": "stdout",
       "text": [
        "\r",
        "Loaded frame 511 of 1280"
       ]
      },
      {
       "output_type": "stream",
       "stream": "stdout",
       "text": [
        "\r",
        "Loaded frame 512 of 1280"
       ]
      },
      {
       "output_type": "stream",
       "stream": "stdout",
       "text": [
        "\r",
        "Loaded frame 513 of 1280"
       ]
      },
      {
       "output_type": "stream",
       "stream": "stdout",
       "text": [
        "\r",
        "Loaded frame 514 of 1280"
       ]
      },
      {
       "output_type": "stream",
       "stream": "stdout",
       "text": [
        "\r",
        "Loaded frame 515 of 1280"
       ]
      },
      {
       "output_type": "stream",
       "stream": "stdout",
       "text": [
        "\r",
        "Loaded frame 516 of 1280"
       ]
      },
      {
       "output_type": "stream",
       "stream": "stdout",
       "text": [
        "\r",
        "Loaded frame 517 of 1280"
       ]
      },
      {
       "output_type": "stream",
       "stream": "stdout",
       "text": [
        "\r",
        "Loaded frame 518 of 1280"
       ]
      },
      {
       "output_type": "stream",
       "stream": "stdout",
       "text": [
        "\r",
        "Loaded frame 519 of 1280"
       ]
      },
      {
       "output_type": "stream",
       "stream": "stdout",
       "text": [
        "\r",
        "Loaded frame 520 of 1280"
       ]
      },
      {
       "output_type": "stream",
       "stream": "stdout",
       "text": [
        "\r",
        "Loaded frame 521 of 1280"
       ]
      },
      {
       "output_type": "stream",
       "stream": "stdout",
       "text": [
        "\r",
        "Loaded frame 522 of 1280"
       ]
      },
      {
       "output_type": "stream",
       "stream": "stdout",
       "text": [
        "\r",
        "Loaded frame 523 of 1280"
       ]
      },
      {
       "output_type": "stream",
       "stream": "stdout",
       "text": [
        "\r",
        "Loaded frame 524 of 1280"
       ]
      },
      {
       "output_type": "stream",
       "stream": "stdout",
       "text": [
        "\r",
        "Loaded frame 525 of 1280"
       ]
      },
      {
       "output_type": "stream",
       "stream": "stdout",
       "text": [
        "\r",
        "Loaded frame 526 of 1280"
       ]
      },
      {
       "output_type": "stream",
       "stream": "stdout",
       "text": [
        "\r",
        "Loaded frame 527 of 1280"
       ]
      },
      {
       "output_type": "stream",
       "stream": "stdout",
       "text": [
        "\r",
        "Loaded frame 528 of 1280"
       ]
      },
      {
       "output_type": "stream",
       "stream": "stdout",
       "text": [
        "\r",
        "Loaded frame 529 of 1280"
       ]
      },
      {
       "output_type": "stream",
       "stream": "stdout",
       "text": [
        "\r",
        "Loaded frame 530 of 1280"
       ]
      },
      {
       "output_type": "stream",
       "stream": "stdout",
       "text": [
        "\r",
        "Loaded frame 531 of 1280"
       ]
      },
      {
       "output_type": "stream",
       "stream": "stdout",
       "text": [
        "\r",
        "Loaded frame 532 of 1280"
       ]
      },
      {
       "output_type": "stream",
       "stream": "stdout",
       "text": [
        "\r",
        "Loaded frame 533 of 1280"
       ]
      },
      {
       "output_type": "stream",
       "stream": "stdout",
       "text": [
        "\r",
        "Loaded frame 534 of 1280"
       ]
      },
      {
       "output_type": "stream",
       "stream": "stdout",
       "text": [
        "\r",
        "Loaded frame 535 of 1280"
       ]
      },
      {
       "output_type": "stream",
       "stream": "stdout",
       "text": [
        "\r",
        "Loaded frame 536 of 1280"
       ]
      },
      {
       "output_type": "stream",
       "stream": "stdout",
       "text": [
        "\r",
        "Loaded frame 537 of 1280"
       ]
      },
      {
       "output_type": "stream",
       "stream": "stdout",
       "text": [
        "\r",
        "Loaded frame 538 of 1280"
       ]
      },
      {
       "output_type": "stream",
       "stream": "stdout",
       "text": [
        "\r",
        "Loaded frame 539 of 1280"
       ]
      },
      {
       "output_type": "stream",
       "stream": "stdout",
       "text": [
        "\r",
        "Loaded frame 540 of 1280"
       ]
      },
      {
       "output_type": "stream",
       "stream": "stdout",
       "text": [
        "\r",
        "Loaded frame 541 of 1280"
       ]
      },
      {
       "output_type": "stream",
       "stream": "stdout",
       "text": [
        "\r",
        "Loaded frame 542 of 1280"
       ]
      },
      {
       "output_type": "stream",
       "stream": "stdout",
       "text": [
        "\r",
        "Loaded frame 543 of 1280"
       ]
      },
      {
       "output_type": "stream",
       "stream": "stdout",
       "text": [
        "\r",
        "Loaded frame 544 of 1280"
       ]
      },
      {
       "output_type": "stream",
       "stream": "stdout",
       "text": [
        "\r",
        "Loaded frame 545 of 1280"
       ]
      },
      {
       "output_type": "stream",
       "stream": "stdout",
       "text": [
        "\r",
        "Loaded frame 546 of 1280"
       ]
      },
      {
       "output_type": "stream",
       "stream": "stdout",
       "text": [
        "\r",
        "Loaded frame 547 of 1280"
       ]
      },
      {
       "output_type": "stream",
       "stream": "stdout",
       "text": [
        "\r",
        "Loaded frame 548 of 1280"
       ]
      },
      {
       "output_type": "stream",
       "stream": "stdout",
       "text": [
        "\r",
        "Loaded frame 549 of 1280"
       ]
      },
      {
       "output_type": "stream",
       "stream": "stdout",
       "text": [
        "\r",
        "Loaded frame 550 of 1280"
       ]
      },
      {
       "output_type": "stream",
       "stream": "stdout",
       "text": [
        "\r",
        "Loaded frame 551 of 1280"
       ]
      },
      {
       "output_type": "stream",
       "stream": "stdout",
       "text": [
        "\r",
        "Loaded frame 552 of 1280"
       ]
      },
      {
       "output_type": "stream",
       "stream": "stdout",
       "text": [
        "\r",
        "Loaded frame 553 of 1280"
       ]
      },
      {
       "output_type": "stream",
       "stream": "stdout",
       "text": [
        "\r",
        "Loaded frame 554 of 1280"
       ]
      },
      {
       "output_type": "stream",
       "stream": "stdout",
       "text": [
        "\r",
        "Loaded frame 555 of 1280"
       ]
      },
      {
       "output_type": "stream",
       "stream": "stdout",
       "text": [
        "\r",
        "Loaded frame 556 of 1280"
       ]
      },
      {
       "output_type": "stream",
       "stream": "stdout",
       "text": [
        "\r",
        "Loaded frame 557 of 1280"
       ]
      },
      {
       "output_type": "stream",
       "stream": "stdout",
       "text": [
        "\r",
        "Loaded frame 558 of 1280"
       ]
      },
      {
       "output_type": "stream",
       "stream": "stdout",
       "text": [
        "\r",
        "Loaded frame 559 of 1280"
       ]
      },
      {
       "output_type": "stream",
       "stream": "stdout",
       "text": [
        "\r",
        "Loaded frame 560 of 1280"
       ]
      },
      {
       "output_type": "stream",
       "stream": "stdout",
       "text": [
        "\r",
        "Loaded frame 561 of 1280"
       ]
      },
      {
       "output_type": "stream",
       "stream": "stdout",
       "text": [
        "\r",
        "Loaded frame 562 of 1280"
       ]
      },
      {
       "output_type": "stream",
       "stream": "stdout",
       "text": [
        "\r",
        "Loaded frame 563 of 1280"
       ]
      },
      {
       "output_type": "stream",
       "stream": "stdout",
       "text": [
        "\r",
        "Loaded frame 564 of 1280"
       ]
      },
      {
       "output_type": "stream",
       "stream": "stdout",
       "text": [
        "\r",
        "Loaded frame 565 of 1280"
       ]
      },
      {
       "output_type": "stream",
       "stream": "stdout",
       "text": [
        "\r",
        "Loaded frame 566 of 1280"
       ]
      },
      {
       "output_type": "stream",
       "stream": "stdout",
       "text": [
        "\r",
        "Loaded frame 567 of 1280"
       ]
      },
      {
       "output_type": "stream",
       "stream": "stdout",
       "text": [
        "\r",
        "Loaded frame 568 of 1280"
       ]
      },
      {
       "output_type": "stream",
       "stream": "stdout",
       "text": [
        "\r",
        "Loaded frame 569 of 1280"
       ]
      },
      {
       "output_type": "stream",
       "stream": "stdout",
       "text": [
        "\r",
        "Loaded frame 570 of 1280"
       ]
      },
      {
       "output_type": "stream",
       "stream": "stdout",
       "text": [
        "\r",
        "Loaded frame 571 of 1280"
       ]
      },
      {
       "output_type": "stream",
       "stream": "stdout",
       "text": [
        "\r",
        "Loaded frame 572 of 1280"
       ]
      },
      {
       "output_type": "stream",
       "stream": "stdout",
       "text": [
        "\r",
        "Loaded frame 573 of 1280"
       ]
      },
      {
       "output_type": "stream",
       "stream": "stdout",
       "text": [
        "\r",
        "Loaded frame 574 of 1280"
       ]
      },
      {
       "output_type": "stream",
       "stream": "stdout",
       "text": [
        "\r",
        "Loaded frame 575 of 1280"
       ]
      },
      {
       "output_type": "stream",
       "stream": "stdout",
       "text": [
        "\r",
        "Loaded frame 576 of 1280"
       ]
      },
      {
       "output_type": "stream",
       "stream": "stdout",
       "text": [
        "\r",
        "Loaded frame 577 of 1280"
       ]
      },
      {
       "output_type": "stream",
       "stream": "stdout",
       "text": [
        "\r",
        "Loaded frame 578 of 1280"
       ]
      },
      {
       "output_type": "stream",
       "stream": "stdout",
       "text": [
        "\r",
        "Loaded frame 579 of 1280"
       ]
      },
      {
       "output_type": "stream",
       "stream": "stdout",
       "text": [
        "\r",
        "Loaded frame 580 of 1280"
       ]
      },
      {
       "output_type": "stream",
       "stream": "stdout",
       "text": [
        "\r",
        "Loaded frame 581 of 1280"
       ]
      },
      {
       "output_type": "stream",
       "stream": "stdout",
       "text": [
        "\r",
        "Loaded frame 582 of 1280"
       ]
      },
      {
       "output_type": "stream",
       "stream": "stdout",
       "text": [
        "\r",
        "Loaded frame 583 of 1280"
       ]
      },
      {
       "output_type": "stream",
       "stream": "stdout",
       "text": [
        "\r",
        "Loaded frame 584 of 1280"
       ]
      },
      {
       "output_type": "stream",
       "stream": "stdout",
       "text": [
        "\r",
        "Loaded frame 585 of 1280"
       ]
      },
      {
       "output_type": "stream",
       "stream": "stdout",
       "text": [
        "\r",
        "Loaded frame 586 of 1280"
       ]
      },
      {
       "output_type": "stream",
       "stream": "stdout",
       "text": [
        "\r",
        "Loaded frame 587 of 1280"
       ]
      },
      {
       "output_type": "stream",
       "stream": "stdout",
       "text": [
        "\r",
        "Loaded frame 588 of 1280"
       ]
      },
      {
       "output_type": "stream",
       "stream": "stdout",
       "text": [
        "\r",
        "Loaded frame 589 of 1280"
       ]
      },
      {
       "output_type": "stream",
       "stream": "stdout",
       "text": [
        "\r",
        "Loaded frame 590 of 1280"
       ]
      },
      {
       "output_type": "stream",
       "stream": "stdout",
       "text": [
        "\r",
        "Loaded frame 591 of 1280"
       ]
      },
      {
       "output_type": "stream",
       "stream": "stdout",
       "text": [
        "\r",
        "Loaded frame 592 of 1280"
       ]
      },
      {
       "output_type": "stream",
       "stream": "stdout",
       "text": [
        "\r",
        "Loaded frame 593 of 1280"
       ]
      },
      {
       "output_type": "stream",
       "stream": "stdout",
       "text": [
        "\r",
        "Loaded frame 594 of 1280"
       ]
      },
      {
       "output_type": "stream",
       "stream": "stdout",
       "text": [
        "\r",
        "Loaded frame 595 of 1280"
       ]
      },
      {
       "output_type": "stream",
       "stream": "stdout",
       "text": [
        "\r",
        "Loaded frame 596 of 1280"
       ]
      },
      {
       "output_type": "stream",
       "stream": "stdout",
       "text": [
        "\r",
        "Loaded frame 597 of 1280"
       ]
      },
      {
       "output_type": "stream",
       "stream": "stdout",
       "text": [
        "\r",
        "Loaded frame 598 of 1280"
       ]
      },
      {
       "output_type": "stream",
       "stream": "stdout",
       "text": [
        "\r",
        "Loaded frame 599 of 1280"
       ]
      },
      {
       "output_type": "stream",
       "stream": "stdout",
       "text": [
        "\r",
        "Loaded frame 600 of 1280"
       ]
      },
      {
       "output_type": "stream",
       "stream": "stdout",
       "text": [
        "\r",
        "Loaded frame 601 of 1280"
       ]
      },
      {
       "output_type": "stream",
       "stream": "stdout",
       "text": [
        "\r",
        "Loaded frame 602 of 1280"
       ]
      },
      {
       "output_type": "stream",
       "stream": "stdout",
       "text": [
        "\r",
        "Loaded frame 603 of 1280"
       ]
      },
      {
       "output_type": "stream",
       "stream": "stdout",
       "text": [
        "\r",
        "Loaded frame 604 of 1280"
       ]
      },
      {
       "output_type": "stream",
       "stream": "stdout",
       "text": [
        "\r",
        "Loaded frame 605 of 1280"
       ]
      },
      {
       "output_type": "stream",
       "stream": "stdout",
       "text": [
        "\r",
        "Loaded frame 606 of 1280"
       ]
      },
      {
       "output_type": "stream",
       "stream": "stdout",
       "text": [
        "\r",
        "Loaded frame 607 of 1280"
       ]
      },
      {
       "output_type": "stream",
       "stream": "stdout",
       "text": [
        "\r",
        "Loaded frame 608 of 1280"
       ]
      },
      {
       "output_type": "stream",
       "stream": "stdout",
       "text": [
        "\r",
        "Loaded frame 609 of 1280"
       ]
      },
      {
       "output_type": "stream",
       "stream": "stdout",
       "text": [
        "\r",
        "Loaded frame 610 of 1280"
       ]
      },
      {
       "output_type": "stream",
       "stream": "stdout",
       "text": [
        "\r",
        "Loaded frame 611 of 1280"
       ]
      },
      {
       "output_type": "stream",
       "stream": "stdout",
       "text": [
        "\r",
        "Loaded frame 612 of 1280"
       ]
      },
      {
       "output_type": "stream",
       "stream": "stdout",
       "text": [
        "\r",
        "Loaded frame 613 of 1280"
       ]
      },
      {
       "output_type": "stream",
       "stream": "stdout",
       "text": [
        "\r",
        "Loaded frame 614 of 1280"
       ]
      },
      {
       "output_type": "stream",
       "stream": "stdout",
       "text": [
        "\r",
        "Loaded frame 615 of 1280"
       ]
      },
      {
       "output_type": "stream",
       "stream": "stdout",
       "text": [
        "\r",
        "Loaded frame 616 of 1280"
       ]
      },
      {
       "output_type": "stream",
       "stream": "stdout",
       "text": [
        "\r",
        "Loaded frame 617 of 1280"
       ]
      },
      {
       "output_type": "stream",
       "stream": "stdout",
       "text": [
        "\r",
        "Loaded frame 618 of 1280"
       ]
      },
      {
       "output_type": "stream",
       "stream": "stdout",
       "text": [
        "\r",
        "Loaded frame 619 of 1280"
       ]
      },
      {
       "output_type": "stream",
       "stream": "stdout",
       "text": [
        "\r",
        "Loaded frame 620 of 1280"
       ]
      },
      {
       "output_type": "stream",
       "stream": "stdout",
       "text": [
        "\r",
        "Loaded frame 621 of 1280"
       ]
      },
      {
       "output_type": "stream",
       "stream": "stdout",
       "text": [
        "\r",
        "Loaded frame 622 of 1280"
       ]
      },
      {
       "output_type": "stream",
       "stream": "stdout",
       "text": [
        "\r",
        "Loaded frame 623 of 1280"
       ]
      },
      {
       "output_type": "stream",
       "stream": "stdout",
       "text": [
        "\r",
        "Loaded frame 624 of 1280"
       ]
      },
      {
       "output_type": "stream",
       "stream": "stdout",
       "text": [
        "\r",
        "Loaded frame 625 of 1280"
       ]
      },
      {
       "output_type": "stream",
       "stream": "stdout",
       "text": [
        "\r",
        "Loaded frame 626 of 1280"
       ]
      },
      {
       "output_type": "stream",
       "stream": "stdout",
       "text": [
        "\r",
        "Loaded frame 627 of 1280"
       ]
      },
      {
       "output_type": "stream",
       "stream": "stdout",
       "text": [
        "\r",
        "Loaded frame 628 of 1280"
       ]
      },
      {
       "output_type": "stream",
       "stream": "stdout",
       "text": [
        "\r",
        "Loaded frame 629 of 1280"
       ]
      },
      {
       "output_type": "stream",
       "stream": "stdout",
       "text": [
        "\r",
        "Loaded frame 630 of 1280"
       ]
      },
      {
       "output_type": "stream",
       "stream": "stdout",
       "text": [
        "\r",
        "Loaded frame 631 of 1280"
       ]
      },
      {
       "output_type": "stream",
       "stream": "stdout",
       "text": [
        "\r",
        "Loaded frame 632 of 1280"
       ]
      },
      {
       "output_type": "stream",
       "stream": "stdout",
       "text": [
        "\r",
        "Loaded frame 633 of 1280"
       ]
      },
      {
       "output_type": "stream",
       "stream": "stdout",
       "text": [
        "\r",
        "Loaded frame 634 of 1280"
       ]
      },
      {
       "output_type": "stream",
       "stream": "stdout",
       "text": [
        "\r",
        "Loaded frame 635 of 1280"
       ]
      },
      {
       "output_type": "stream",
       "stream": "stdout",
       "text": [
        "\r",
        "Loaded frame 636 of 1280"
       ]
      },
      {
       "output_type": "stream",
       "stream": "stdout",
       "text": [
        "\r",
        "Loaded frame 637 of 1280"
       ]
      },
      {
       "output_type": "stream",
       "stream": "stdout",
       "text": [
        "\r",
        "Loaded frame 638 of 1280"
       ]
      },
      {
       "output_type": "stream",
       "stream": "stdout",
       "text": [
        "\r",
        "Loaded frame 639 of 1280"
       ]
      },
      {
       "output_type": "stream",
       "stream": "stdout",
       "text": [
        "\r",
        "Loaded frame 640 of 1280"
       ]
      },
      {
       "output_type": "stream",
       "stream": "stdout",
       "text": [
        "\r",
        "Loaded frame 641 of 1280"
       ]
      },
      {
       "output_type": "stream",
       "stream": "stdout",
       "text": [
        "\r",
        "Loaded frame 642 of 1280"
       ]
      },
      {
       "output_type": "stream",
       "stream": "stdout",
       "text": [
        "\r",
        "Loaded frame 643 of 1280"
       ]
      },
      {
       "output_type": "stream",
       "stream": "stdout",
       "text": [
        "\r",
        "Loaded frame 644 of 1280"
       ]
      },
      {
       "output_type": "stream",
       "stream": "stdout",
       "text": [
        "\r",
        "Loaded frame 645 of 1280"
       ]
      },
      {
       "output_type": "stream",
       "stream": "stdout",
       "text": [
        "\r",
        "Loaded frame 646 of 1280"
       ]
      },
      {
       "output_type": "stream",
       "stream": "stdout",
       "text": [
        "\r",
        "Loaded frame 647 of 1280"
       ]
      },
      {
       "output_type": "stream",
       "stream": "stdout",
       "text": [
        "\r",
        "Loaded frame 648 of 1280"
       ]
      },
      {
       "output_type": "stream",
       "stream": "stdout",
       "text": [
        "\r",
        "Loaded frame 649 of 1280"
       ]
      },
      {
       "output_type": "stream",
       "stream": "stdout",
       "text": [
        "\r",
        "Loaded frame 650 of 1280"
       ]
      },
      {
       "output_type": "stream",
       "stream": "stdout",
       "text": [
        "\r",
        "Loaded frame 651 of 1280"
       ]
      },
      {
       "output_type": "stream",
       "stream": "stdout",
       "text": [
        "\r",
        "Loaded frame 652 of 1280"
       ]
      },
      {
       "output_type": "stream",
       "stream": "stdout",
       "text": [
        "\r",
        "Loaded frame 653 of 1280"
       ]
      },
      {
       "output_type": "stream",
       "stream": "stdout",
       "text": [
        "\r",
        "Loaded frame 654 of 1280"
       ]
      },
      {
       "output_type": "stream",
       "stream": "stdout",
       "text": [
        "\r",
        "Loaded frame 655 of 1280"
       ]
      },
      {
       "output_type": "stream",
       "stream": "stdout",
       "text": [
        "\r",
        "Loaded frame 656 of 1280"
       ]
      },
      {
       "output_type": "stream",
       "stream": "stdout",
       "text": [
        "\r",
        "Loaded frame 657 of 1280"
       ]
      },
      {
       "output_type": "stream",
       "stream": "stdout",
       "text": [
        "\r",
        "Loaded frame 658 of 1280"
       ]
      },
      {
       "output_type": "stream",
       "stream": "stdout",
       "text": [
        "\r",
        "Loaded frame 659 of 1280"
       ]
      },
      {
       "output_type": "stream",
       "stream": "stdout",
       "text": [
        "\r",
        "Loaded frame 660 of 1280"
       ]
      },
      {
       "output_type": "stream",
       "stream": "stdout",
       "text": [
        "\r",
        "Loaded frame 661 of 1280"
       ]
      },
      {
       "output_type": "stream",
       "stream": "stdout",
       "text": [
        "\r",
        "Loaded frame 662 of 1280"
       ]
      },
      {
       "output_type": "stream",
       "stream": "stdout",
       "text": [
        "\r",
        "Loaded frame 663 of 1280"
       ]
      },
      {
       "output_type": "stream",
       "stream": "stdout",
       "text": [
        "\r",
        "Loaded frame 664 of 1280"
       ]
      },
      {
       "output_type": "stream",
       "stream": "stdout",
       "text": [
        "\r",
        "Loaded frame 665 of 1280"
       ]
      },
      {
       "output_type": "stream",
       "stream": "stdout",
       "text": [
        "\r",
        "Loaded frame 666 of 1280"
       ]
      },
      {
       "output_type": "stream",
       "stream": "stdout",
       "text": [
        "\r",
        "Loaded frame 667 of 1280"
       ]
      },
      {
       "output_type": "stream",
       "stream": "stdout",
       "text": [
        "\r",
        "Loaded frame 668 of 1280"
       ]
      },
      {
       "output_type": "stream",
       "stream": "stdout",
       "text": [
        "\r",
        "Loaded frame 669 of 1280"
       ]
      },
      {
       "output_type": "stream",
       "stream": "stdout",
       "text": [
        "\r",
        "Loaded frame 670 of 1280"
       ]
      },
      {
       "output_type": "stream",
       "stream": "stdout",
       "text": [
        "\r",
        "Loaded frame 671 of 1280"
       ]
      },
      {
       "output_type": "stream",
       "stream": "stdout",
       "text": [
        "\r",
        "Loaded frame 672 of 1280"
       ]
      },
      {
       "output_type": "stream",
       "stream": "stdout",
       "text": [
        "\r",
        "Loaded frame 673 of 1280"
       ]
      },
      {
       "output_type": "stream",
       "stream": "stdout",
       "text": [
        "\r",
        "Loaded frame 674 of 1280"
       ]
      },
      {
       "output_type": "stream",
       "stream": "stdout",
       "text": [
        "\r",
        "Loaded frame 675 of 1280"
       ]
      },
      {
       "output_type": "stream",
       "stream": "stdout",
       "text": [
        "\r",
        "Loaded frame 676 of 1280"
       ]
      },
      {
       "output_type": "stream",
       "stream": "stdout",
       "text": [
        "\r",
        "Loaded frame 677 of 1280"
       ]
      },
      {
       "output_type": "stream",
       "stream": "stdout",
       "text": [
        "\r",
        "Loaded frame 678 of 1280"
       ]
      },
      {
       "output_type": "stream",
       "stream": "stdout",
       "text": [
        "\r",
        "Loaded frame 679 of 1280"
       ]
      },
      {
       "output_type": "stream",
       "stream": "stdout",
       "text": [
        "\r",
        "Loaded frame 680 of 1280"
       ]
      },
      {
       "output_type": "stream",
       "stream": "stdout",
       "text": [
        "\r",
        "Loaded frame 681 of 1280"
       ]
      },
      {
       "output_type": "stream",
       "stream": "stdout",
       "text": [
        "\r",
        "Loaded frame 682 of 1280"
       ]
      },
      {
       "output_type": "stream",
       "stream": "stdout",
       "text": [
        "\r",
        "Loaded frame 683 of 1280"
       ]
      },
      {
       "output_type": "stream",
       "stream": "stdout",
       "text": [
        "\r",
        "Loaded frame 684 of 1280"
       ]
      },
      {
       "output_type": "stream",
       "stream": "stdout",
       "text": [
        "\r",
        "Loaded frame 685 of 1280"
       ]
      },
      {
       "output_type": "stream",
       "stream": "stdout",
       "text": [
        "\r",
        "Loaded frame 686 of 1280"
       ]
      },
      {
       "output_type": "stream",
       "stream": "stdout",
       "text": [
        "\r",
        "Loaded frame 687 of 1280"
       ]
      },
      {
       "output_type": "stream",
       "stream": "stdout",
       "text": [
        "\r",
        "Loaded frame 688 of 1280"
       ]
      },
      {
       "output_type": "stream",
       "stream": "stdout",
       "text": [
        "\r",
        "Loaded frame 689 of 1280"
       ]
      },
      {
       "output_type": "stream",
       "stream": "stdout",
       "text": [
        "\r",
        "Loaded frame 690 of 1280"
       ]
      },
      {
       "output_type": "stream",
       "stream": "stdout",
       "text": [
        "\r",
        "Loaded frame 691 of 1280"
       ]
      },
      {
       "output_type": "stream",
       "stream": "stdout",
       "text": [
        "\r",
        "Loaded frame 692 of 1280"
       ]
      },
      {
       "output_type": "stream",
       "stream": "stdout",
       "text": [
        "\r",
        "Loaded frame 693 of 1280"
       ]
      },
      {
       "output_type": "stream",
       "stream": "stdout",
       "text": [
        "\r",
        "Loaded frame 694 of 1280"
       ]
      },
      {
       "output_type": "stream",
       "stream": "stdout",
       "text": [
        "\r",
        "Loaded frame 695 of 1280"
       ]
      },
      {
       "output_type": "stream",
       "stream": "stdout",
       "text": [
        "\r",
        "Loaded frame 696 of 1280"
       ]
      },
      {
       "output_type": "stream",
       "stream": "stdout",
       "text": [
        "\r",
        "Loaded frame 697 of 1280"
       ]
      },
      {
       "output_type": "stream",
       "stream": "stdout",
       "text": [
        "\r",
        "Loaded frame 698 of 1280"
       ]
      },
      {
       "output_type": "stream",
       "stream": "stdout",
       "text": [
        "\r",
        "Loaded frame 699 of 1280"
       ]
      },
      {
       "output_type": "stream",
       "stream": "stdout",
       "text": [
        "\r",
        "Loaded frame 700 of 1280"
       ]
      },
      {
       "output_type": "stream",
       "stream": "stdout",
       "text": [
        "\r",
        "Loaded frame 701 of 1280"
       ]
      },
      {
       "output_type": "stream",
       "stream": "stdout",
       "text": [
        "\r",
        "Loaded frame 702 of 1280"
       ]
      },
      {
       "output_type": "stream",
       "stream": "stdout",
       "text": [
        "\r",
        "Loaded frame 703 of 1280"
       ]
      },
      {
       "output_type": "stream",
       "stream": "stdout",
       "text": [
        "\r",
        "Loaded frame 704 of 1280"
       ]
      },
      {
       "output_type": "stream",
       "stream": "stdout",
       "text": [
        "\r",
        "Loaded frame 705 of 1280"
       ]
      },
      {
       "output_type": "stream",
       "stream": "stdout",
       "text": [
        "\r",
        "Loaded frame 706 of 1280"
       ]
      },
      {
       "output_type": "stream",
       "stream": "stdout",
       "text": [
        "\r",
        "Loaded frame 707 of 1280"
       ]
      },
      {
       "output_type": "stream",
       "stream": "stdout",
       "text": [
        "\r",
        "Loaded frame 708 of 1280"
       ]
      },
      {
       "output_type": "stream",
       "stream": "stdout",
       "text": [
        "\r",
        "Loaded frame 709 of 1280"
       ]
      },
      {
       "output_type": "stream",
       "stream": "stdout",
       "text": [
        "\r",
        "Loaded frame 710 of 1280"
       ]
      },
      {
       "output_type": "stream",
       "stream": "stdout",
       "text": [
        "\r",
        "Loaded frame 711 of 1280"
       ]
      },
      {
       "output_type": "stream",
       "stream": "stdout",
       "text": [
        "\r",
        "Loaded frame 712 of 1280"
       ]
      },
      {
       "output_type": "stream",
       "stream": "stdout",
       "text": [
        "\r",
        "Loaded frame 713 of 1280"
       ]
      },
      {
       "output_type": "stream",
       "stream": "stdout",
       "text": [
        "\r",
        "Loaded frame 714 of 1280"
       ]
      },
      {
       "output_type": "stream",
       "stream": "stdout",
       "text": [
        "\r",
        "Loaded frame 715 of 1280"
       ]
      },
      {
       "output_type": "stream",
       "stream": "stdout",
       "text": [
        "\r",
        "Loaded frame 716 of 1280"
       ]
      },
      {
       "output_type": "stream",
       "stream": "stdout",
       "text": [
        "\r",
        "Loaded frame 717 of 1280"
       ]
      },
      {
       "output_type": "stream",
       "stream": "stdout",
       "text": [
        "\r",
        "Loaded frame 718 of 1280"
       ]
      },
      {
       "output_type": "stream",
       "stream": "stdout",
       "text": [
        "\r",
        "Loaded frame 719 of 1280"
       ]
      },
      {
       "output_type": "stream",
       "stream": "stdout",
       "text": [
        "\r",
        "Loaded frame 720 of 1280"
       ]
      },
      {
       "output_type": "stream",
       "stream": "stdout",
       "text": [
        "\r",
        "Loaded frame 721 of 1280"
       ]
      },
      {
       "output_type": "stream",
       "stream": "stdout",
       "text": [
        "\r",
        "Loaded frame 722 of 1280"
       ]
      },
      {
       "output_type": "stream",
       "stream": "stdout",
       "text": [
        "\r",
        "Loaded frame 723 of 1280"
       ]
      },
      {
       "output_type": "stream",
       "stream": "stdout",
       "text": [
        "\r",
        "Loaded frame 724 of 1280"
       ]
      },
      {
       "output_type": "stream",
       "stream": "stdout",
       "text": [
        "\r",
        "Loaded frame 725 of 1280"
       ]
      },
      {
       "output_type": "stream",
       "stream": "stdout",
       "text": [
        "\r",
        "Loaded frame 726 of 1280"
       ]
      },
      {
       "output_type": "stream",
       "stream": "stdout",
       "text": [
        "\r",
        "Loaded frame 727 of 1280"
       ]
      },
      {
       "output_type": "stream",
       "stream": "stdout",
       "text": [
        "\r",
        "Loaded frame 728 of 1280"
       ]
      },
      {
       "output_type": "stream",
       "stream": "stdout",
       "text": [
        "\r",
        "Loaded frame 729 of 1280"
       ]
      },
      {
       "output_type": "stream",
       "stream": "stdout",
       "text": [
        "\r",
        "Loaded frame 730 of 1280"
       ]
      },
      {
       "output_type": "stream",
       "stream": "stdout",
       "text": [
        "\r",
        "Loaded frame 731 of 1280"
       ]
      },
      {
       "output_type": "stream",
       "stream": "stdout",
       "text": [
        "\r",
        "Loaded frame 732 of 1280"
       ]
      },
      {
       "output_type": "stream",
       "stream": "stdout",
       "text": [
        "\r",
        "Loaded frame 733 of 1280"
       ]
      },
      {
       "output_type": "stream",
       "stream": "stdout",
       "text": [
        "\r",
        "Loaded frame 734 of 1280"
       ]
      },
      {
       "output_type": "stream",
       "stream": "stdout",
       "text": [
        "\r",
        "Loaded frame 735 of 1280"
       ]
      },
      {
       "output_type": "stream",
       "stream": "stdout",
       "text": [
        "\r",
        "Loaded frame 736 of 1280"
       ]
      },
      {
       "output_type": "stream",
       "stream": "stdout",
       "text": [
        "\r",
        "Loaded frame 737 of 1280"
       ]
      },
      {
       "output_type": "stream",
       "stream": "stdout",
       "text": [
        "\r",
        "Loaded frame 738 of 1280"
       ]
      },
      {
       "output_type": "stream",
       "stream": "stdout",
       "text": [
        "\r",
        "Loaded frame 739 of 1280"
       ]
      },
      {
       "output_type": "stream",
       "stream": "stdout",
       "text": [
        "\r",
        "Loaded frame 740 of 1280"
       ]
      },
      {
       "output_type": "stream",
       "stream": "stdout",
       "text": [
        "\r",
        "Loaded frame 741 of 1280"
       ]
      },
      {
       "output_type": "stream",
       "stream": "stdout",
       "text": [
        "\r",
        "Loaded frame 742 of 1280"
       ]
      },
      {
       "output_type": "stream",
       "stream": "stdout",
       "text": [
        "\r",
        "Loaded frame 743 of 1280"
       ]
      },
      {
       "output_type": "stream",
       "stream": "stdout",
       "text": [
        "\r",
        "Loaded frame 744 of 1280"
       ]
      },
      {
       "output_type": "stream",
       "stream": "stdout",
       "text": [
        "\r",
        "Loaded frame 745 of 1280"
       ]
      },
      {
       "output_type": "stream",
       "stream": "stdout",
       "text": [
        "\r",
        "Loaded frame 746 of 1280"
       ]
      },
      {
       "output_type": "stream",
       "stream": "stdout",
       "text": [
        "\r",
        "Loaded frame 747 of 1280"
       ]
      },
      {
       "output_type": "stream",
       "stream": "stdout",
       "text": [
        "\r",
        "Loaded frame 748 of 1280"
       ]
      },
      {
       "output_type": "stream",
       "stream": "stdout",
       "text": [
        "\r",
        "Loaded frame 749 of 1280"
       ]
      },
      {
       "output_type": "stream",
       "stream": "stdout",
       "text": [
        "\r",
        "Loaded frame 750 of 1280"
       ]
      },
      {
       "output_type": "stream",
       "stream": "stdout",
       "text": [
        "\r",
        "Loaded frame 751 of 1280"
       ]
      },
      {
       "output_type": "stream",
       "stream": "stdout",
       "text": [
        "\r",
        "Loaded frame 752 of 1280"
       ]
      },
      {
       "output_type": "stream",
       "stream": "stdout",
       "text": [
        "\r",
        "Loaded frame 753 of 1280"
       ]
      },
      {
       "output_type": "stream",
       "stream": "stdout",
       "text": [
        "\r",
        "Loaded frame 754 of 1280"
       ]
      },
      {
       "output_type": "stream",
       "stream": "stdout",
       "text": [
        "\r",
        "Loaded frame 755 of 1280"
       ]
      },
      {
       "output_type": "stream",
       "stream": "stdout",
       "text": [
        "\r",
        "Loaded frame 756 of 1280"
       ]
      },
      {
       "output_type": "stream",
       "stream": "stdout",
       "text": [
        "\r",
        "Loaded frame 757 of 1280"
       ]
      },
      {
       "output_type": "stream",
       "stream": "stdout",
       "text": [
        "\r",
        "Loaded frame 758 of 1280"
       ]
      },
      {
       "output_type": "stream",
       "stream": "stdout",
       "text": [
        "\r",
        "Loaded frame 759 of 1280"
       ]
      },
      {
       "output_type": "stream",
       "stream": "stdout",
       "text": [
        "\r",
        "Loaded frame 760 of 1280"
       ]
      },
      {
       "output_type": "stream",
       "stream": "stdout",
       "text": [
        "\r",
        "Loaded frame 761 of 1280"
       ]
      },
      {
       "output_type": "stream",
       "stream": "stdout",
       "text": [
        "\r",
        "Loaded frame 762 of 1280"
       ]
      },
      {
       "output_type": "stream",
       "stream": "stdout",
       "text": [
        "\r",
        "Loaded frame 763 of 1280"
       ]
      },
      {
       "output_type": "stream",
       "stream": "stdout",
       "text": [
        "\r",
        "Loaded frame 764 of 1280"
       ]
      },
      {
       "output_type": "stream",
       "stream": "stdout",
       "text": [
        "\r",
        "Loaded frame 765 of 1280"
       ]
      },
      {
       "output_type": "stream",
       "stream": "stdout",
       "text": [
        "\r",
        "Loaded frame 766 of 1280"
       ]
      },
      {
       "output_type": "stream",
       "stream": "stdout",
       "text": [
        "\r",
        "Loaded frame 767 of 1280"
       ]
      },
      {
       "output_type": "stream",
       "stream": "stdout",
       "text": [
        "\r",
        "Loaded frame 768 of 1280"
       ]
      },
      {
       "output_type": "stream",
       "stream": "stdout",
       "text": [
        "\r",
        "Loaded frame 769 of 1280"
       ]
      },
      {
       "output_type": "stream",
       "stream": "stdout",
       "text": [
        "\r",
        "Loaded frame 770 of 1280"
       ]
      },
      {
       "output_type": "stream",
       "stream": "stdout",
       "text": [
        "\r",
        "Loaded frame 771 of 1280"
       ]
      },
      {
       "output_type": "stream",
       "stream": "stdout",
       "text": [
        "\r",
        "Loaded frame 772 of 1280"
       ]
      },
      {
       "output_type": "stream",
       "stream": "stdout",
       "text": [
        "\r",
        "Loaded frame 773 of 1280"
       ]
      },
      {
       "output_type": "stream",
       "stream": "stdout",
       "text": [
        "\r",
        "Loaded frame 774 of 1280"
       ]
      },
      {
       "output_type": "stream",
       "stream": "stdout",
       "text": [
        "\r",
        "Loaded frame 775 of 1280"
       ]
      },
      {
       "output_type": "stream",
       "stream": "stdout",
       "text": [
        "\r",
        "Loaded frame 776 of 1280"
       ]
      },
      {
       "output_type": "stream",
       "stream": "stdout",
       "text": [
        "\r",
        "Loaded frame 777 of 1280"
       ]
      },
      {
       "output_type": "stream",
       "stream": "stdout",
       "text": [
        "\r",
        "Loaded frame 778 of 1280"
       ]
      },
      {
       "output_type": "stream",
       "stream": "stdout",
       "text": [
        "\r",
        "Loaded frame 779 of 1280"
       ]
      },
      {
       "output_type": "stream",
       "stream": "stdout",
       "text": [
        "\r",
        "Loaded frame 780 of 1280"
       ]
      },
      {
       "output_type": "stream",
       "stream": "stdout",
       "text": [
        "\r",
        "Loaded frame 781 of 1280"
       ]
      },
      {
       "output_type": "stream",
       "stream": "stdout",
       "text": [
        "\r",
        "Loaded frame 782 of 1280"
       ]
      },
      {
       "output_type": "stream",
       "stream": "stdout",
       "text": [
        "\r",
        "Loaded frame 783 of 1280"
       ]
      },
      {
       "output_type": "stream",
       "stream": "stdout",
       "text": [
        "\r",
        "Loaded frame 784 of 1280"
       ]
      },
      {
       "output_type": "stream",
       "stream": "stdout",
       "text": [
        "\r",
        "Loaded frame 785 of 1280"
       ]
      },
      {
       "output_type": "stream",
       "stream": "stdout",
       "text": [
        "\r",
        "Loaded frame 786 of 1280"
       ]
      },
      {
       "output_type": "stream",
       "stream": "stdout",
       "text": [
        "\r",
        "Loaded frame 787 of 1280"
       ]
      },
      {
       "output_type": "stream",
       "stream": "stdout",
       "text": [
        "\r",
        "Loaded frame 788 of 1280"
       ]
      },
      {
       "output_type": "stream",
       "stream": "stdout",
       "text": [
        "\r",
        "Loaded frame 789 of 1280"
       ]
      },
      {
       "output_type": "stream",
       "stream": "stdout",
       "text": [
        "\r",
        "Loaded frame 790 of 1280"
       ]
      },
      {
       "output_type": "stream",
       "stream": "stdout",
       "text": [
        "\r",
        "Loaded frame 791 of 1280"
       ]
      },
      {
       "output_type": "stream",
       "stream": "stdout",
       "text": [
        "\r",
        "Loaded frame 792 of 1280"
       ]
      },
      {
       "output_type": "stream",
       "stream": "stdout",
       "text": [
        "\r",
        "Loaded frame 793 of 1280"
       ]
      },
      {
       "output_type": "stream",
       "stream": "stdout",
       "text": [
        "\r",
        "Loaded frame 794 of 1280"
       ]
      },
      {
       "output_type": "stream",
       "stream": "stdout",
       "text": [
        "\r",
        "Loaded frame 795 of 1280"
       ]
      },
      {
       "output_type": "stream",
       "stream": "stdout",
       "text": [
        "\r",
        "Loaded frame 796 of 1280"
       ]
      },
      {
       "output_type": "stream",
       "stream": "stdout",
       "text": [
        "\r",
        "Loaded frame 797 of 1280"
       ]
      },
      {
       "output_type": "stream",
       "stream": "stdout",
       "text": [
        "\r",
        "Loaded frame 798 of 1280"
       ]
      },
      {
       "output_type": "stream",
       "stream": "stdout",
       "text": [
        "\r",
        "Loaded frame 799 of 1280"
       ]
      },
      {
       "output_type": "stream",
       "stream": "stdout",
       "text": [
        "\r",
        "Loaded frame 800 of 1280"
       ]
      },
      {
       "output_type": "stream",
       "stream": "stdout",
       "text": [
        "\r",
        "Loaded frame 801 of 1280"
       ]
      },
      {
       "output_type": "stream",
       "stream": "stdout",
       "text": [
        "\r",
        "Loaded frame 802 of 1280"
       ]
      },
      {
       "output_type": "stream",
       "stream": "stdout",
       "text": [
        "\r",
        "Loaded frame 803 of 1280"
       ]
      },
      {
       "output_type": "stream",
       "stream": "stdout",
       "text": [
        "\r",
        "Loaded frame 804 of 1280"
       ]
      },
      {
       "output_type": "stream",
       "stream": "stdout",
       "text": [
        "\r",
        "Loaded frame 805 of 1280"
       ]
      },
      {
       "output_type": "stream",
       "stream": "stdout",
       "text": [
        "\r",
        "Loaded frame 806 of 1280"
       ]
      },
      {
       "output_type": "stream",
       "stream": "stdout",
       "text": [
        "\r",
        "Loaded frame 807 of 1280"
       ]
      },
      {
       "output_type": "stream",
       "stream": "stdout",
       "text": [
        "\r",
        "Loaded frame 808 of 1280"
       ]
      },
      {
       "output_type": "stream",
       "stream": "stdout",
       "text": [
        "\r",
        "Loaded frame 809 of 1280"
       ]
      },
      {
       "output_type": "stream",
       "stream": "stdout",
       "text": [
        "\r",
        "Loaded frame 810 of 1280"
       ]
      },
      {
       "output_type": "stream",
       "stream": "stdout",
       "text": [
        "\r",
        "Loaded frame 811 of 1280"
       ]
      },
      {
       "output_type": "stream",
       "stream": "stdout",
       "text": [
        "\r",
        "Loaded frame 812 of 1280"
       ]
      },
      {
       "output_type": "stream",
       "stream": "stdout",
       "text": [
        "\r",
        "Loaded frame 813 of 1280"
       ]
      },
      {
       "output_type": "stream",
       "stream": "stdout",
       "text": [
        "\r",
        "Loaded frame 814 of 1280"
       ]
      },
      {
       "output_type": "stream",
       "stream": "stdout",
       "text": [
        "\r",
        "Loaded frame 815 of 1280"
       ]
      },
      {
       "output_type": "stream",
       "stream": "stdout",
       "text": [
        "\r",
        "Loaded frame 816 of 1280"
       ]
      },
      {
       "output_type": "stream",
       "stream": "stdout",
       "text": [
        "\r",
        "Loaded frame 817 of 1280"
       ]
      },
      {
       "output_type": "stream",
       "stream": "stdout",
       "text": [
        "\r",
        "Loaded frame 818 of 1280"
       ]
      },
      {
       "output_type": "stream",
       "stream": "stdout",
       "text": [
        "\r",
        "Loaded frame 819 of 1280"
       ]
      },
      {
       "output_type": "stream",
       "stream": "stdout",
       "text": [
        "\r",
        "Loaded frame 820 of 1280"
       ]
      },
      {
       "output_type": "stream",
       "stream": "stdout",
       "text": [
        "\r",
        "Loaded frame 821 of 1280"
       ]
      },
      {
       "output_type": "stream",
       "stream": "stdout",
       "text": [
        "\r",
        "Loaded frame 822 of 1280"
       ]
      },
      {
       "output_type": "stream",
       "stream": "stdout",
       "text": [
        "\r",
        "Loaded frame 823 of 1280"
       ]
      },
      {
       "output_type": "stream",
       "stream": "stdout",
       "text": [
        "\r",
        "Loaded frame 824 of 1280"
       ]
      },
      {
       "output_type": "stream",
       "stream": "stdout",
       "text": [
        "\r",
        "Loaded frame 825 of 1280"
       ]
      },
      {
       "output_type": "stream",
       "stream": "stdout",
       "text": [
        "\r",
        "Loaded frame 826 of 1280"
       ]
      },
      {
       "output_type": "stream",
       "stream": "stdout",
       "text": [
        "\r",
        "Loaded frame 827 of 1280"
       ]
      },
      {
       "output_type": "stream",
       "stream": "stdout",
       "text": [
        "\r",
        "Loaded frame 828 of 1280"
       ]
      },
      {
       "output_type": "stream",
       "stream": "stdout",
       "text": [
        "\r",
        "Loaded frame 829 of 1280"
       ]
      },
      {
       "output_type": "stream",
       "stream": "stdout",
       "text": [
        "\r",
        "Loaded frame 830 of 1280"
       ]
      },
      {
       "output_type": "stream",
       "stream": "stdout",
       "text": [
        "\r",
        "Loaded frame 831 of 1280"
       ]
      },
      {
       "output_type": "stream",
       "stream": "stdout",
       "text": [
        "\r",
        "Loaded frame 832 of 1280"
       ]
      },
      {
       "output_type": "stream",
       "stream": "stdout",
       "text": [
        "\r",
        "Loaded frame 833 of 1280"
       ]
      },
      {
       "output_type": "stream",
       "stream": "stdout",
       "text": [
        "\r",
        "Loaded frame 834 of 1280"
       ]
      },
      {
       "output_type": "stream",
       "stream": "stdout",
       "text": [
        "\r",
        "Loaded frame 835 of 1280"
       ]
      },
      {
       "output_type": "stream",
       "stream": "stdout",
       "text": [
        "\r",
        "Loaded frame 836 of 1280"
       ]
      },
      {
       "output_type": "stream",
       "stream": "stdout",
       "text": [
        "\r",
        "Loaded frame 837 of 1280"
       ]
      },
      {
       "output_type": "stream",
       "stream": "stdout",
       "text": [
        "\r",
        "Loaded frame 838 of 1280"
       ]
      },
      {
       "output_type": "stream",
       "stream": "stdout",
       "text": [
        "\r",
        "Loaded frame 839 of 1280"
       ]
      },
      {
       "output_type": "stream",
       "stream": "stdout",
       "text": [
        "\r",
        "Loaded frame 840 of 1280"
       ]
      },
      {
       "output_type": "stream",
       "stream": "stdout",
       "text": [
        "\r",
        "Loaded frame 841 of 1280"
       ]
      },
      {
       "output_type": "stream",
       "stream": "stdout",
       "text": [
        "\r",
        "Loaded frame 842 of 1280"
       ]
      },
      {
       "output_type": "stream",
       "stream": "stdout",
       "text": [
        "\r",
        "Loaded frame 843 of 1280"
       ]
      },
      {
       "output_type": "stream",
       "stream": "stdout",
       "text": [
        "\r",
        "Loaded frame 844 of 1280"
       ]
      },
      {
       "output_type": "stream",
       "stream": "stdout",
       "text": [
        "\r",
        "Loaded frame 845 of 1280"
       ]
      },
      {
       "output_type": "stream",
       "stream": "stdout",
       "text": [
        "\r",
        "Loaded frame 846 of 1280"
       ]
      },
      {
       "output_type": "stream",
       "stream": "stdout",
       "text": [
        "\r",
        "Loaded frame 847 of 1280"
       ]
      },
      {
       "output_type": "stream",
       "stream": "stdout",
       "text": [
        "\r",
        "Loaded frame 848 of 1280"
       ]
      },
      {
       "output_type": "stream",
       "stream": "stdout",
       "text": [
        "\r",
        "Loaded frame 849 of 1280"
       ]
      },
      {
       "output_type": "stream",
       "stream": "stdout",
       "text": [
        "\r",
        "Loaded frame 850 of 1280"
       ]
      },
      {
       "output_type": "stream",
       "stream": "stdout",
       "text": [
        "\r",
        "Loaded frame 851 of 1280"
       ]
      },
      {
       "output_type": "stream",
       "stream": "stdout",
       "text": [
        "\r",
        "Loaded frame 852 of 1280"
       ]
      },
      {
       "output_type": "stream",
       "stream": "stdout",
       "text": [
        "\r",
        "Loaded frame 853 of 1280"
       ]
      },
      {
       "output_type": "stream",
       "stream": "stdout",
       "text": [
        "\r",
        "Loaded frame 854 of 1280"
       ]
      },
      {
       "output_type": "stream",
       "stream": "stdout",
       "text": [
        "\r",
        "Loaded frame 855 of 1280"
       ]
      },
      {
       "output_type": "stream",
       "stream": "stdout",
       "text": [
        "\r",
        "Loaded frame 856 of 1280"
       ]
      },
      {
       "output_type": "stream",
       "stream": "stdout",
       "text": [
        "\r",
        "Loaded frame 857 of 1280"
       ]
      },
      {
       "output_type": "stream",
       "stream": "stdout",
       "text": [
        "\r",
        "Loaded frame 858 of 1280"
       ]
      },
      {
       "output_type": "stream",
       "stream": "stdout",
       "text": [
        "\r",
        "Loaded frame 859 of 1280"
       ]
      },
      {
       "output_type": "stream",
       "stream": "stdout",
       "text": [
        "\r",
        "Loaded frame 860 of 1280"
       ]
      },
      {
       "output_type": "stream",
       "stream": "stdout",
       "text": [
        "\r",
        "Loaded frame 861 of 1280"
       ]
      },
      {
       "output_type": "stream",
       "stream": "stdout",
       "text": [
        "\r",
        "Loaded frame 862 of 1280"
       ]
      },
      {
       "output_type": "stream",
       "stream": "stdout",
       "text": [
        "\r",
        "Loaded frame 863 of 1280"
       ]
      },
      {
       "output_type": "stream",
       "stream": "stdout",
       "text": [
        "\r",
        "Loaded frame 864 of 1280"
       ]
      },
      {
       "output_type": "stream",
       "stream": "stdout",
       "text": [
        "\r",
        "Loaded frame 865 of 1280"
       ]
      },
      {
       "output_type": "stream",
       "stream": "stdout",
       "text": [
        "\r",
        "Loaded frame 866 of 1280"
       ]
      },
      {
       "output_type": "stream",
       "stream": "stdout",
       "text": [
        "\r",
        "Loaded frame 867 of 1280"
       ]
      },
      {
       "output_type": "stream",
       "stream": "stdout",
       "text": [
        "\r",
        "Loaded frame 868 of 1280"
       ]
      },
      {
       "output_type": "stream",
       "stream": "stdout",
       "text": [
        "\r",
        "Loaded frame 869 of 1280"
       ]
      },
      {
       "output_type": "stream",
       "stream": "stdout",
       "text": [
        "\r",
        "Loaded frame 870 of 1280"
       ]
      },
      {
       "output_type": "stream",
       "stream": "stdout",
       "text": [
        "\r",
        "Loaded frame 871 of 1280"
       ]
      },
      {
       "output_type": "stream",
       "stream": "stdout",
       "text": [
        "\r",
        "Loaded frame 872 of 1280"
       ]
      },
      {
       "output_type": "stream",
       "stream": "stdout",
       "text": [
        "\r",
        "Loaded frame 873 of 1280"
       ]
      },
      {
       "output_type": "stream",
       "stream": "stdout",
       "text": [
        "\r",
        "Loaded frame 874 of 1280"
       ]
      },
      {
       "output_type": "stream",
       "stream": "stdout",
       "text": [
        "\r",
        "Loaded frame 875 of 1280"
       ]
      },
      {
       "output_type": "stream",
       "stream": "stdout",
       "text": [
        "\r",
        "Loaded frame 876 of 1280"
       ]
      },
      {
       "output_type": "stream",
       "stream": "stdout",
       "text": [
        "\r",
        "Loaded frame 877 of 1280"
       ]
      },
      {
       "output_type": "stream",
       "stream": "stdout",
       "text": [
        "\r",
        "Loaded frame 878 of 1280"
       ]
      },
      {
       "output_type": "stream",
       "stream": "stdout",
       "text": [
        "\r",
        "Loaded frame 879 of 1280"
       ]
      },
      {
       "output_type": "stream",
       "stream": "stdout",
       "text": [
        "\r",
        "Loaded frame 880 of 1280"
       ]
      },
      {
       "output_type": "stream",
       "stream": "stdout",
       "text": [
        "\r",
        "Loaded frame 881 of 1280"
       ]
      },
      {
       "output_type": "stream",
       "stream": "stdout",
       "text": [
        "\r",
        "Loaded frame 882 of 1280"
       ]
      },
      {
       "output_type": "stream",
       "stream": "stdout",
       "text": [
        "\r",
        "Loaded frame 883 of 1280"
       ]
      },
      {
       "output_type": "stream",
       "stream": "stdout",
       "text": [
        "\r",
        "Loaded frame 884 of 1280"
       ]
      },
      {
       "output_type": "stream",
       "stream": "stdout",
       "text": [
        "\r",
        "Loaded frame 885 of 1280"
       ]
      },
      {
       "output_type": "stream",
       "stream": "stdout",
       "text": [
        "\r",
        "Loaded frame 886 of 1280"
       ]
      },
      {
       "output_type": "stream",
       "stream": "stdout",
       "text": [
        "\r",
        "Loaded frame 887 of 1280"
       ]
      },
      {
       "output_type": "stream",
       "stream": "stdout",
       "text": [
        "\r",
        "Loaded frame 888 of 1280"
       ]
      },
      {
       "output_type": "stream",
       "stream": "stdout",
       "text": [
        "\r",
        "Loaded frame 889 of 1280"
       ]
      },
      {
       "output_type": "stream",
       "stream": "stdout",
       "text": [
        "\r",
        "Loaded frame 890 of 1280"
       ]
      },
      {
       "output_type": "stream",
       "stream": "stdout",
       "text": [
        "\r",
        "Loaded frame 891 of 1280"
       ]
      },
      {
       "output_type": "stream",
       "stream": "stdout",
       "text": [
        "\r",
        "Loaded frame 892 of 1280"
       ]
      },
      {
       "output_type": "stream",
       "stream": "stdout",
       "text": [
        "\r",
        "Loaded frame 893 of 1280"
       ]
      },
      {
       "output_type": "stream",
       "stream": "stdout",
       "text": [
        "\r",
        "Loaded frame 894 of 1280"
       ]
      },
      {
       "output_type": "stream",
       "stream": "stdout",
       "text": [
        "\r",
        "Loaded frame 895 of 1280"
       ]
      },
      {
       "output_type": "stream",
       "stream": "stdout",
       "text": [
        "\r",
        "Loaded frame 896 of 1280"
       ]
      },
      {
       "output_type": "stream",
       "stream": "stdout",
       "text": [
        "\r",
        "Loaded frame 897 of 1280"
       ]
      },
      {
       "output_type": "stream",
       "stream": "stdout",
       "text": [
        "\r",
        "Loaded frame 898 of 1280"
       ]
      },
      {
       "output_type": "stream",
       "stream": "stdout",
       "text": [
        "\r",
        "Loaded frame 899 of 1280"
       ]
      },
      {
       "output_type": "stream",
       "stream": "stdout",
       "text": [
        "\r",
        "Loaded frame 900 of 1280"
       ]
      },
      {
       "output_type": "stream",
       "stream": "stdout",
       "text": [
        "\r",
        "Loaded frame 901 of 1280"
       ]
      },
      {
       "output_type": "stream",
       "stream": "stdout",
       "text": [
        "\r",
        "Loaded frame 902 of 1280"
       ]
      },
      {
       "output_type": "stream",
       "stream": "stdout",
       "text": [
        "\r",
        "Loaded frame 903 of 1280"
       ]
      },
      {
       "output_type": "stream",
       "stream": "stdout",
       "text": [
        "\r",
        "Loaded frame 904 of 1280"
       ]
      },
      {
       "output_type": "stream",
       "stream": "stdout",
       "text": [
        "\r",
        "Loaded frame 905 of 1280"
       ]
      },
      {
       "output_type": "stream",
       "stream": "stdout",
       "text": [
        "\r",
        "Loaded frame 906 of 1280"
       ]
      },
      {
       "output_type": "stream",
       "stream": "stdout",
       "text": [
        "\r",
        "Loaded frame 907 of 1280"
       ]
      },
      {
       "output_type": "stream",
       "stream": "stdout",
       "text": [
        "\r",
        "Loaded frame 908 of 1280"
       ]
      },
      {
       "output_type": "stream",
       "stream": "stdout",
       "text": [
        "\r",
        "Loaded frame 909 of 1280"
       ]
      },
      {
       "output_type": "stream",
       "stream": "stdout",
       "text": [
        "\r",
        "Loaded frame 910 of 1280"
       ]
      },
      {
       "output_type": "stream",
       "stream": "stdout",
       "text": [
        "\r",
        "Loaded frame 911 of 1280"
       ]
      },
      {
       "output_type": "stream",
       "stream": "stdout",
       "text": [
        "\r",
        "Loaded frame 912 of 1280"
       ]
      },
      {
       "output_type": "stream",
       "stream": "stdout",
       "text": [
        "\r",
        "Loaded frame 913 of 1280"
       ]
      },
      {
       "output_type": "stream",
       "stream": "stdout",
       "text": [
        "\r",
        "Loaded frame 914 of 1280"
       ]
      },
      {
       "output_type": "stream",
       "stream": "stdout",
       "text": [
        "\r",
        "Loaded frame 915 of 1280"
       ]
      },
      {
       "output_type": "stream",
       "stream": "stdout",
       "text": [
        "\r",
        "Loaded frame 916 of 1280"
       ]
      },
      {
       "output_type": "stream",
       "stream": "stdout",
       "text": [
        "\r",
        "Loaded frame 917 of 1280"
       ]
      },
      {
       "output_type": "stream",
       "stream": "stdout",
       "text": [
        "\r",
        "Loaded frame 918 of 1280"
       ]
      },
      {
       "output_type": "stream",
       "stream": "stdout",
       "text": [
        "\r",
        "Loaded frame 919 of 1280"
       ]
      },
      {
       "output_type": "stream",
       "stream": "stdout",
       "text": [
        "\r",
        "Loaded frame 920 of 1280"
       ]
      },
      {
       "output_type": "stream",
       "stream": "stdout",
       "text": [
        "\r",
        "Loaded frame 921 of 1280"
       ]
      },
      {
       "output_type": "stream",
       "stream": "stdout",
       "text": [
        "\r",
        "Loaded frame 922 of 1280"
       ]
      },
      {
       "output_type": "stream",
       "stream": "stdout",
       "text": [
        "\r",
        "Loaded frame 923 of 1280"
       ]
      },
      {
       "output_type": "stream",
       "stream": "stdout",
       "text": [
        "\r",
        "Loaded frame 924 of 1280"
       ]
      },
      {
       "output_type": "stream",
       "stream": "stdout",
       "text": [
        "\r",
        "Loaded frame 925 of 1280"
       ]
      },
      {
       "output_type": "stream",
       "stream": "stdout",
       "text": [
        "\r",
        "Loaded frame 926 of 1280"
       ]
      },
      {
       "output_type": "stream",
       "stream": "stdout",
       "text": [
        "\r",
        "Loaded frame 927 of 1280"
       ]
      },
      {
       "output_type": "stream",
       "stream": "stdout",
       "text": [
        "\r",
        "Loaded frame 928 of 1280"
       ]
      },
      {
       "output_type": "stream",
       "stream": "stdout",
       "text": [
        "\r",
        "Loaded frame 929 of 1280"
       ]
      },
      {
       "output_type": "stream",
       "stream": "stdout",
       "text": [
        "\r",
        "Loaded frame 930 of 1280"
       ]
      },
      {
       "output_type": "stream",
       "stream": "stdout",
       "text": [
        "\r",
        "Loaded frame 931 of 1280"
       ]
      },
      {
       "output_type": "stream",
       "stream": "stdout",
       "text": [
        "\r",
        "Loaded frame 932 of 1280"
       ]
      },
      {
       "output_type": "stream",
       "stream": "stdout",
       "text": [
        "\r",
        "Loaded frame 933 of 1280"
       ]
      },
      {
       "output_type": "stream",
       "stream": "stdout",
       "text": [
        "\r",
        "Loaded frame 934 of 1280"
       ]
      },
      {
       "output_type": "stream",
       "stream": "stdout",
       "text": [
        "\r",
        "Loaded frame 935 of 1280"
       ]
      },
      {
       "output_type": "stream",
       "stream": "stdout",
       "text": [
        "\r",
        "Loaded frame 936 of 1280"
       ]
      },
      {
       "output_type": "stream",
       "stream": "stdout",
       "text": [
        "\r",
        "Loaded frame 937 of 1280"
       ]
      },
      {
       "output_type": "stream",
       "stream": "stdout",
       "text": [
        "\r",
        "Loaded frame 938 of 1280"
       ]
      },
      {
       "output_type": "stream",
       "stream": "stdout",
       "text": [
        "\r",
        "Loaded frame 939 of 1280"
       ]
      },
      {
       "output_type": "stream",
       "stream": "stdout",
       "text": [
        "\r",
        "Loaded frame 940 of 1280"
       ]
      },
      {
       "output_type": "stream",
       "stream": "stdout",
       "text": [
        "\r",
        "Loaded frame 941 of 1280"
       ]
      },
      {
       "output_type": "stream",
       "stream": "stdout",
       "text": [
        "\r",
        "Loaded frame 942 of 1280"
       ]
      },
      {
       "output_type": "stream",
       "stream": "stdout",
       "text": [
        "\r",
        "Loaded frame 943 of 1280"
       ]
      },
      {
       "output_type": "stream",
       "stream": "stdout",
       "text": [
        "\r",
        "Loaded frame 944 of 1280"
       ]
      },
      {
       "output_type": "stream",
       "stream": "stdout",
       "text": [
        "\r",
        "Loaded frame 945 of 1280"
       ]
      },
      {
       "output_type": "stream",
       "stream": "stdout",
       "text": [
        "\r",
        "Loaded frame 946 of 1280"
       ]
      },
      {
       "output_type": "stream",
       "stream": "stdout",
       "text": [
        "\r",
        "Loaded frame 947 of 1280"
       ]
      },
      {
       "output_type": "stream",
       "stream": "stdout",
       "text": [
        "\r",
        "Loaded frame 948 of 1280"
       ]
      },
      {
       "output_type": "stream",
       "stream": "stdout",
       "text": [
        "\r",
        "Loaded frame 949 of 1280"
       ]
      },
      {
       "output_type": "stream",
       "stream": "stdout",
       "text": [
        "\r",
        "Loaded frame 950 of 1280"
       ]
      },
      {
       "output_type": "stream",
       "stream": "stdout",
       "text": [
        "\r",
        "Loaded frame 951 of 1280"
       ]
      },
      {
       "output_type": "stream",
       "stream": "stdout",
       "text": [
        "\r",
        "Loaded frame 952 of 1280"
       ]
      },
      {
       "output_type": "stream",
       "stream": "stdout",
       "text": [
        "\r",
        "Loaded frame 953 of 1280"
       ]
      },
      {
       "output_type": "stream",
       "stream": "stdout",
       "text": [
        "\r",
        "Loaded frame 954 of 1280"
       ]
      },
      {
       "output_type": "stream",
       "stream": "stdout",
       "text": [
        "\r",
        "Loaded frame 955 of 1280"
       ]
      },
      {
       "output_type": "stream",
       "stream": "stdout",
       "text": [
        "\r",
        "Loaded frame 956 of 1280"
       ]
      },
      {
       "output_type": "stream",
       "stream": "stdout",
       "text": [
        "\r",
        "Loaded frame 957 of 1280"
       ]
      },
      {
       "output_type": "stream",
       "stream": "stdout",
       "text": [
        "\r",
        "Loaded frame 958 of 1280"
       ]
      },
      {
       "output_type": "stream",
       "stream": "stdout",
       "text": [
        "\r",
        "Loaded frame 959 of 1280"
       ]
      },
      {
       "output_type": "stream",
       "stream": "stdout",
       "text": [
        "\r",
        "Loaded frame 960 of 1280"
       ]
      },
      {
       "output_type": "stream",
       "stream": "stdout",
       "text": [
        "\r",
        "Loaded frame 961 of 1280"
       ]
      },
      {
       "output_type": "stream",
       "stream": "stdout",
       "text": [
        "\r",
        "Loaded frame 962 of 1280"
       ]
      },
      {
       "output_type": "stream",
       "stream": "stdout",
       "text": [
        "\r",
        "Loaded frame 963 of 1280"
       ]
      },
      {
       "output_type": "stream",
       "stream": "stdout",
       "text": [
        "\r",
        "Loaded frame 964 of 1280"
       ]
      },
      {
       "output_type": "stream",
       "stream": "stdout",
       "text": [
        "\r",
        "Loaded frame 965 of 1280"
       ]
      },
      {
       "output_type": "stream",
       "stream": "stdout",
       "text": [
        "\r",
        "Loaded frame 966 of 1280"
       ]
      },
      {
       "output_type": "stream",
       "stream": "stdout",
       "text": [
        "\r",
        "Loaded frame 967 of 1280"
       ]
      },
      {
       "output_type": "stream",
       "stream": "stdout",
       "text": [
        "\r",
        "Loaded frame 968 of 1280"
       ]
      },
      {
       "output_type": "stream",
       "stream": "stdout",
       "text": [
        "\r",
        "Loaded frame 969 of 1280"
       ]
      },
      {
       "output_type": "stream",
       "stream": "stdout",
       "text": [
        "\r",
        "Loaded frame 970 of 1280"
       ]
      },
      {
       "output_type": "stream",
       "stream": "stdout",
       "text": [
        "\r",
        "Loaded frame 971 of 1280"
       ]
      },
      {
       "output_type": "stream",
       "stream": "stdout",
       "text": [
        "\r",
        "Loaded frame 972 of 1280"
       ]
      },
      {
       "output_type": "stream",
       "stream": "stdout",
       "text": [
        "\r",
        "Loaded frame 973 of 1280"
       ]
      },
      {
       "output_type": "stream",
       "stream": "stdout",
       "text": [
        "\r",
        "Loaded frame 974 of 1280"
       ]
      },
      {
       "output_type": "stream",
       "stream": "stdout",
       "text": [
        "\r",
        "Loaded frame 975 of 1280"
       ]
      },
      {
       "output_type": "stream",
       "stream": "stdout",
       "text": [
        "\r",
        "Loaded frame 976 of 1280"
       ]
      },
      {
       "output_type": "stream",
       "stream": "stdout",
       "text": [
        "\r",
        "Loaded frame 977 of 1280"
       ]
      },
      {
       "output_type": "stream",
       "stream": "stdout",
       "text": [
        "\r",
        "Loaded frame 978 of 1280"
       ]
      },
      {
       "output_type": "stream",
       "stream": "stdout",
       "text": [
        "\r",
        "Loaded frame 979 of 1280"
       ]
      },
      {
       "output_type": "stream",
       "stream": "stdout",
       "text": [
        "\r",
        "Loaded frame 980 of 1280"
       ]
      },
      {
       "output_type": "stream",
       "stream": "stdout",
       "text": [
        "\r",
        "Loaded frame 981 of 1280"
       ]
      },
      {
       "output_type": "stream",
       "stream": "stdout",
       "text": [
        "\r",
        "Loaded frame 982 of 1280"
       ]
      },
      {
       "output_type": "stream",
       "stream": "stdout",
       "text": [
        "\r",
        "Loaded frame 983 of 1280"
       ]
      },
      {
       "output_type": "stream",
       "stream": "stdout",
       "text": [
        "\r",
        "Loaded frame 984 of 1280"
       ]
      },
      {
       "output_type": "stream",
       "stream": "stdout",
       "text": [
        "\r",
        "Loaded frame 985 of 1280"
       ]
      },
      {
       "output_type": "stream",
       "stream": "stdout",
       "text": [
        "\r",
        "Loaded frame 986 of 1280"
       ]
      },
      {
       "output_type": "stream",
       "stream": "stdout",
       "text": [
        "\r",
        "Loaded frame 987 of 1280"
       ]
      },
      {
       "output_type": "stream",
       "stream": "stdout",
       "text": [
        "\r",
        "Loaded frame 988 of 1280"
       ]
      },
      {
       "output_type": "stream",
       "stream": "stdout",
       "text": [
        "\r",
        "Loaded frame 989 of 1280"
       ]
      },
      {
       "output_type": "stream",
       "stream": "stdout",
       "text": [
        "\r",
        "Loaded frame 990 of 1280"
       ]
      },
      {
       "output_type": "stream",
       "stream": "stdout",
       "text": [
        "\r",
        "Loaded frame 991 of 1280"
       ]
      },
      {
       "output_type": "stream",
       "stream": "stdout",
       "text": [
        "\r",
        "Loaded frame 992 of 1280"
       ]
      },
      {
       "output_type": "stream",
       "stream": "stdout",
       "text": [
        "\r",
        "Loaded frame 993 of 1280"
       ]
      },
      {
       "output_type": "stream",
       "stream": "stdout",
       "text": [
        "\r",
        "Loaded frame 994 of 1280"
       ]
      },
      {
       "output_type": "stream",
       "stream": "stdout",
       "text": [
        "\r",
        "Loaded frame 995 of 1280"
       ]
      },
      {
       "output_type": "stream",
       "stream": "stdout",
       "text": [
        "\r",
        "Loaded frame 996 of 1280"
       ]
      },
      {
       "output_type": "stream",
       "stream": "stdout",
       "text": [
        "\r",
        "Loaded frame 997 of 1280"
       ]
      },
      {
       "output_type": "stream",
       "stream": "stdout",
       "text": [
        "\r",
        "Loaded frame 998 of 1280"
       ]
      },
      {
       "output_type": "stream",
       "stream": "stdout",
       "text": [
        "\r",
        "Loaded frame 999 of 1280"
       ]
      },
      {
       "output_type": "stream",
       "stream": "stdout",
       "text": [
        "\r",
        "Loaded frame 1000 of 1280"
       ]
      },
      {
       "output_type": "stream",
       "stream": "stdout",
       "text": [
        "\r",
        "Loaded frame 1001 of 1280"
       ]
      },
      {
       "output_type": "stream",
       "stream": "stdout",
       "text": [
        "\r",
        "Loaded frame 1002 of 1280"
       ]
      },
      {
       "output_type": "stream",
       "stream": "stdout",
       "text": [
        "\r",
        "Loaded frame 1003 of 1280"
       ]
      },
      {
       "output_type": "stream",
       "stream": "stdout",
       "text": [
        "\r",
        "Loaded frame 1004 of 1280"
       ]
      },
      {
       "output_type": "stream",
       "stream": "stdout",
       "text": [
        "\r",
        "Loaded frame 1005 of 1280"
       ]
      },
      {
       "output_type": "stream",
       "stream": "stdout",
       "text": [
        "\r",
        "Loaded frame 1006 of 1280"
       ]
      },
      {
       "output_type": "stream",
       "stream": "stdout",
       "text": [
        "\r",
        "Loaded frame 1007 of 1280"
       ]
      },
      {
       "output_type": "stream",
       "stream": "stdout",
       "text": [
        "\r",
        "Loaded frame 1008 of 1280"
       ]
      },
      {
       "output_type": "stream",
       "stream": "stdout",
       "text": [
        "\r",
        "Loaded frame 1009 of 1280"
       ]
      },
      {
       "output_type": "stream",
       "stream": "stdout",
       "text": [
        "\r",
        "Loaded frame 1010 of 1280"
       ]
      },
      {
       "output_type": "stream",
       "stream": "stdout",
       "text": [
        "\r",
        "Loaded frame 1011 of 1280"
       ]
      },
      {
       "output_type": "stream",
       "stream": "stdout",
       "text": [
        "\r",
        "Loaded frame 1012 of 1280"
       ]
      },
      {
       "output_type": "stream",
       "stream": "stdout",
       "text": [
        "\r",
        "Loaded frame 1013 of 1280"
       ]
      },
      {
       "output_type": "stream",
       "stream": "stdout",
       "text": [
        "\r",
        "Loaded frame 1014 of 1280"
       ]
      },
      {
       "output_type": "stream",
       "stream": "stdout",
       "text": [
        "\r",
        "Loaded frame 1015 of 1280"
       ]
      },
      {
       "output_type": "stream",
       "stream": "stdout",
       "text": [
        "\r",
        "Loaded frame 1016 of 1280"
       ]
      },
      {
       "output_type": "stream",
       "stream": "stdout",
       "text": [
        "\r",
        "Loaded frame 1017 of 1280"
       ]
      },
      {
       "output_type": "stream",
       "stream": "stdout",
       "text": [
        "\r",
        "Loaded frame 1018 of 1280"
       ]
      },
      {
       "output_type": "stream",
       "stream": "stdout",
       "text": [
        "\r",
        "Loaded frame 1019 of 1280"
       ]
      },
      {
       "output_type": "stream",
       "stream": "stdout",
       "text": [
        "\r",
        "Loaded frame 1020 of 1280"
       ]
      },
      {
       "output_type": "stream",
       "stream": "stdout",
       "text": [
        "\r",
        "Loaded frame 1021 of 1280"
       ]
      },
      {
       "output_type": "stream",
       "stream": "stdout",
       "text": [
        "\r",
        "Loaded frame 1022 of 1280"
       ]
      },
      {
       "output_type": "stream",
       "stream": "stdout",
       "text": [
        "\r",
        "Loaded frame 1023 of 1280"
       ]
      },
      {
       "output_type": "stream",
       "stream": "stdout",
       "text": [
        "\r",
        "Loaded frame 1024 of 1280"
       ]
      },
      {
       "output_type": "stream",
       "stream": "stdout",
       "text": [
        "\r",
        "Loaded frame 1025 of 1280"
       ]
      },
      {
       "output_type": "stream",
       "stream": "stdout",
       "text": [
        "\r",
        "Loaded frame 1026 of 1280"
       ]
      },
      {
       "output_type": "stream",
       "stream": "stdout",
       "text": [
        "\r",
        "Loaded frame 1027 of 1280"
       ]
      },
      {
       "output_type": "stream",
       "stream": "stdout",
       "text": [
        "\r",
        "Loaded frame 1028 of 1280"
       ]
      },
      {
       "output_type": "stream",
       "stream": "stdout",
       "text": [
        "\r",
        "Loaded frame 1029 of 1280"
       ]
      },
      {
       "output_type": "stream",
       "stream": "stdout",
       "text": [
        "\r",
        "Loaded frame 1030 of 1280"
       ]
      },
      {
       "output_type": "stream",
       "stream": "stdout",
       "text": [
        "\r",
        "Loaded frame 1031 of 1280"
       ]
      },
      {
       "output_type": "stream",
       "stream": "stdout",
       "text": [
        "\r",
        "Loaded frame 1032 of 1280"
       ]
      },
      {
       "output_type": "stream",
       "stream": "stdout",
       "text": [
        "\r",
        "Loaded frame 1033 of 1280"
       ]
      },
      {
       "output_type": "stream",
       "stream": "stdout",
       "text": [
        "\r",
        "Loaded frame 1034 of 1280"
       ]
      },
      {
       "output_type": "stream",
       "stream": "stdout",
       "text": [
        "\r",
        "Loaded frame 1035 of 1280"
       ]
      },
      {
       "output_type": "stream",
       "stream": "stdout",
       "text": [
        "\r",
        "Loaded frame 1036 of 1280"
       ]
      },
      {
       "output_type": "stream",
       "stream": "stdout",
       "text": [
        "\r",
        "Loaded frame 1037 of 1280"
       ]
      },
      {
       "output_type": "stream",
       "stream": "stdout",
       "text": [
        "\r",
        "Loaded frame 1038 of 1280"
       ]
      },
      {
       "output_type": "stream",
       "stream": "stdout",
       "text": [
        "\r",
        "Loaded frame 1039 of 1280"
       ]
      },
      {
       "output_type": "stream",
       "stream": "stdout",
       "text": [
        "\r",
        "Loaded frame 1040 of 1280"
       ]
      },
      {
       "output_type": "stream",
       "stream": "stdout",
       "text": [
        "\r",
        "Loaded frame 1041 of 1280"
       ]
      },
      {
       "output_type": "stream",
       "stream": "stdout",
       "text": [
        "\r",
        "Loaded frame 1042 of 1280"
       ]
      },
      {
       "output_type": "stream",
       "stream": "stdout",
       "text": [
        "\r",
        "Loaded frame 1043 of 1280"
       ]
      },
      {
       "output_type": "stream",
       "stream": "stdout",
       "text": [
        "\r",
        "Loaded frame 1044 of 1280"
       ]
      },
      {
       "output_type": "stream",
       "stream": "stdout",
       "text": [
        "\r",
        "Loaded frame 1045 of 1280"
       ]
      },
      {
       "output_type": "stream",
       "stream": "stdout",
       "text": [
        "\r",
        "Loaded frame 1046 of 1280"
       ]
      },
      {
       "output_type": "stream",
       "stream": "stdout",
       "text": [
        "\r",
        "Loaded frame 1047 of 1280"
       ]
      },
      {
       "output_type": "stream",
       "stream": "stdout",
       "text": [
        "\r",
        "Loaded frame 1048 of 1280"
       ]
      },
      {
       "output_type": "stream",
       "stream": "stdout",
       "text": [
        "\r",
        "Loaded frame 1049 of 1280"
       ]
      },
      {
       "output_type": "stream",
       "stream": "stdout",
       "text": [
        "\r",
        "Loaded frame 1050 of 1280"
       ]
      },
      {
       "output_type": "stream",
       "stream": "stdout",
       "text": [
        "\r",
        "Loaded frame 1051 of 1280"
       ]
      },
      {
       "output_type": "stream",
       "stream": "stdout",
       "text": [
        "\r",
        "Loaded frame 1052 of 1280"
       ]
      },
      {
       "output_type": "stream",
       "stream": "stdout",
       "text": [
        "\r",
        "Loaded frame 1053 of 1280"
       ]
      },
      {
       "output_type": "stream",
       "stream": "stdout",
       "text": [
        "\r",
        "Loaded frame 1054 of 1280"
       ]
      },
      {
       "output_type": "stream",
       "stream": "stdout",
       "text": [
        "\r",
        "Loaded frame 1055 of 1280"
       ]
      },
      {
       "output_type": "stream",
       "stream": "stdout",
       "text": [
        "\r",
        "Loaded frame 1056 of 1280"
       ]
      },
      {
       "output_type": "stream",
       "stream": "stdout",
       "text": [
        "\r",
        "Loaded frame 1057 of 1280"
       ]
      },
      {
       "output_type": "stream",
       "stream": "stdout",
       "text": [
        "\r",
        "Loaded frame 1058 of 1280"
       ]
      },
      {
       "output_type": "stream",
       "stream": "stdout",
       "text": [
        "\r",
        "Loaded frame 1059 of 1280"
       ]
      },
      {
       "output_type": "stream",
       "stream": "stdout",
       "text": [
        "\r",
        "Loaded frame 1060 of 1280"
       ]
      },
      {
       "output_type": "stream",
       "stream": "stdout",
       "text": [
        "\r",
        "Loaded frame 1061 of 1280"
       ]
      },
      {
       "output_type": "stream",
       "stream": "stdout",
       "text": [
        "\r",
        "Loaded frame 1062 of 1280"
       ]
      },
      {
       "output_type": "stream",
       "stream": "stdout",
       "text": [
        "\r",
        "Loaded frame 1063 of 1280"
       ]
      },
      {
       "output_type": "stream",
       "stream": "stdout",
       "text": [
        "\r",
        "Loaded frame 1064 of 1280"
       ]
      },
      {
       "output_type": "stream",
       "stream": "stdout",
       "text": [
        "\r",
        "Loaded frame 1065 of 1280"
       ]
      },
      {
       "output_type": "stream",
       "stream": "stdout",
       "text": [
        "\r",
        "Loaded frame 1066 of 1280"
       ]
      },
      {
       "output_type": "stream",
       "stream": "stdout",
       "text": [
        "\r",
        "Loaded frame 1067 of 1280"
       ]
      },
      {
       "output_type": "stream",
       "stream": "stdout",
       "text": [
        "\r",
        "Loaded frame 1068 of 1280"
       ]
      },
      {
       "output_type": "stream",
       "stream": "stdout",
       "text": [
        "\r",
        "Loaded frame 1069 of 1280"
       ]
      },
      {
       "output_type": "stream",
       "stream": "stdout",
       "text": [
        "\r",
        "Loaded frame 1070 of 1280"
       ]
      },
      {
       "output_type": "stream",
       "stream": "stdout",
       "text": [
        "\r",
        "Loaded frame 1071 of 1280"
       ]
      },
      {
       "output_type": "stream",
       "stream": "stdout",
       "text": [
        "\r",
        "Loaded frame 1072 of 1280"
       ]
      },
      {
       "output_type": "stream",
       "stream": "stdout",
       "text": [
        "\r",
        "Loaded frame 1073 of 1280"
       ]
      },
      {
       "output_type": "stream",
       "stream": "stdout",
       "text": [
        "\r",
        "Loaded frame 1074 of 1280"
       ]
      },
      {
       "output_type": "stream",
       "stream": "stdout",
       "text": [
        "\r",
        "Loaded frame 1075 of 1280"
       ]
      },
      {
       "output_type": "stream",
       "stream": "stdout",
       "text": [
        "\r",
        "Loaded frame 1076 of 1280"
       ]
      },
      {
       "output_type": "stream",
       "stream": "stdout",
       "text": [
        "\r",
        "Loaded frame 1077 of 1280"
       ]
      },
      {
       "output_type": "stream",
       "stream": "stdout",
       "text": [
        "\r",
        "Loaded frame 1078 of 1280"
       ]
      },
      {
       "output_type": "stream",
       "stream": "stdout",
       "text": [
        "\r",
        "Loaded frame 1079 of 1280"
       ]
      },
      {
       "output_type": "stream",
       "stream": "stdout",
       "text": [
        "\r",
        "Loaded frame 1080 of 1280"
       ]
      },
      {
       "output_type": "stream",
       "stream": "stdout",
       "text": [
        "\r",
        "Loaded frame 1081 of 1280"
       ]
      },
      {
       "output_type": "stream",
       "stream": "stdout",
       "text": [
        "\r",
        "Loaded frame 1082 of 1280"
       ]
      },
      {
       "output_type": "stream",
       "stream": "stdout",
       "text": [
        "\r",
        "Loaded frame 1083 of 1280"
       ]
      },
      {
       "output_type": "stream",
       "stream": "stdout",
       "text": [
        "\r",
        "Loaded frame 1084 of 1280"
       ]
      },
      {
       "output_type": "stream",
       "stream": "stdout",
       "text": [
        "\r",
        "Loaded frame 1085 of 1280"
       ]
      },
      {
       "output_type": "stream",
       "stream": "stdout",
       "text": [
        "\r",
        "Loaded frame 1086 of 1280"
       ]
      },
      {
       "output_type": "stream",
       "stream": "stdout",
       "text": [
        "\r",
        "Loaded frame 1087 of 1280"
       ]
      },
      {
       "output_type": "stream",
       "stream": "stdout",
       "text": [
        "\r",
        "Loaded frame 1088 of 1280"
       ]
      },
      {
       "output_type": "stream",
       "stream": "stdout",
       "text": [
        "\r",
        "Loaded frame 1089 of 1280"
       ]
      },
      {
       "output_type": "stream",
       "stream": "stdout",
       "text": [
        "\r",
        "Loaded frame 1090 of 1280"
       ]
      },
      {
       "output_type": "stream",
       "stream": "stdout",
       "text": [
        "\r",
        "Loaded frame 1091 of 1280"
       ]
      },
      {
       "output_type": "stream",
       "stream": "stdout",
       "text": [
        "\r",
        "Loaded frame 1092 of 1280"
       ]
      },
      {
       "output_type": "stream",
       "stream": "stdout",
       "text": [
        "\r",
        "Loaded frame 1093 of 1280"
       ]
      },
      {
       "output_type": "stream",
       "stream": "stdout",
       "text": [
        "\r",
        "Loaded frame 1094 of 1280"
       ]
      },
      {
       "output_type": "stream",
       "stream": "stdout",
       "text": [
        "\r",
        "Loaded frame 1095 of 1280"
       ]
      },
      {
       "output_type": "stream",
       "stream": "stdout",
       "text": [
        "\r",
        "Loaded frame 1096 of 1280"
       ]
      },
      {
       "output_type": "stream",
       "stream": "stdout",
       "text": [
        "\r",
        "Loaded frame 1097 of 1280"
       ]
      },
      {
       "output_type": "stream",
       "stream": "stdout",
       "text": [
        "\r",
        "Loaded frame 1098 of 1280"
       ]
      },
      {
       "output_type": "stream",
       "stream": "stdout",
       "text": [
        "\r",
        "Loaded frame 1099 of 1280"
       ]
      },
      {
       "output_type": "stream",
       "stream": "stdout",
       "text": [
        "\r",
        "Loaded frame 1100 of 1280"
       ]
      },
      {
       "output_type": "stream",
       "stream": "stdout",
       "text": [
        "\r",
        "Loaded frame 1101 of 1280"
       ]
      },
      {
       "output_type": "stream",
       "stream": "stdout",
       "text": [
        "\r",
        "Loaded frame 1102 of 1280"
       ]
      },
      {
       "output_type": "stream",
       "stream": "stdout",
       "text": [
        "\r",
        "Loaded frame 1103 of 1280"
       ]
      },
      {
       "output_type": "stream",
       "stream": "stdout",
       "text": [
        "\r",
        "Loaded frame 1104 of 1280"
       ]
      },
      {
       "output_type": "stream",
       "stream": "stdout",
       "text": [
        "\r",
        "Loaded frame 1105 of 1280"
       ]
      },
      {
       "output_type": "stream",
       "stream": "stdout",
       "text": [
        "\r",
        "Loaded frame 1106 of 1280"
       ]
      },
      {
       "output_type": "stream",
       "stream": "stdout",
       "text": [
        "\r",
        "Loaded frame 1107 of 1280"
       ]
      },
      {
       "output_type": "stream",
       "stream": "stdout",
       "text": [
        "\r",
        "Loaded frame 1108 of 1280"
       ]
      },
      {
       "output_type": "stream",
       "stream": "stdout",
       "text": [
        "\r",
        "Loaded frame 1109 of 1280"
       ]
      },
      {
       "output_type": "stream",
       "stream": "stdout",
       "text": [
        "\r",
        "Loaded frame 1110 of 1280"
       ]
      },
      {
       "output_type": "stream",
       "stream": "stdout",
       "text": [
        "\r",
        "Loaded frame 1111 of 1280"
       ]
      },
      {
       "output_type": "stream",
       "stream": "stdout",
       "text": [
        "\r",
        "Loaded frame 1112 of 1280"
       ]
      },
      {
       "output_type": "stream",
       "stream": "stdout",
       "text": [
        "\r",
        "Loaded frame 1113 of 1280"
       ]
      },
      {
       "output_type": "stream",
       "stream": "stdout",
       "text": [
        "\r",
        "Loaded frame 1114 of 1280"
       ]
      },
      {
       "output_type": "stream",
       "stream": "stdout",
       "text": [
        "\r",
        "Loaded frame 1115 of 1280"
       ]
      },
      {
       "output_type": "stream",
       "stream": "stdout",
       "text": [
        "\r",
        "Loaded frame 1116 of 1280"
       ]
      },
      {
       "output_type": "stream",
       "stream": "stdout",
       "text": [
        "\r",
        "Loaded frame 1117 of 1280"
       ]
      },
      {
       "output_type": "stream",
       "stream": "stdout",
       "text": [
        "\r",
        "Loaded frame 1118 of 1280"
       ]
      },
      {
       "output_type": "stream",
       "stream": "stdout",
       "text": [
        "\r",
        "Loaded frame 1119 of 1280"
       ]
      },
      {
       "output_type": "stream",
       "stream": "stdout",
       "text": [
        "\r",
        "Loaded frame 1120 of 1280"
       ]
      },
      {
       "output_type": "stream",
       "stream": "stdout",
       "text": [
        "\r",
        "Loaded frame 1121 of 1280"
       ]
      },
      {
       "output_type": "stream",
       "stream": "stdout",
       "text": [
        "\r",
        "Loaded frame 1122 of 1280"
       ]
      },
      {
       "output_type": "stream",
       "stream": "stdout",
       "text": [
        "\r",
        "Loaded frame 1123 of 1280"
       ]
      },
      {
       "output_type": "stream",
       "stream": "stdout",
       "text": [
        "\r",
        "Loaded frame 1124 of 1280"
       ]
      },
      {
       "output_type": "stream",
       "stream": "stdout",
       "text": [
        "\r",
        "Loaded frame 1125 of 1280"
       ]
      },
      {
       "output_type": "stream",
       "stream": "stdout",
       "text": [
        "\r",
        "Loaded frame 1126 of 1280"
       ]
      },
      {
       "output_type": "stream",
       "stream": "stdout",
       "text": [
        "\r",
        "Loaded frame 1127 of 1280"
       ]
      },
      {
       "output_type": "stream",
       "stream": "stdout",
       "text": [
        "\r",
        "Loaded frame 1128 of 1280"
       ]
      },
      {
       "output_type": "stream",
       "stream": "stdout",
       "text": [
        "\r",
        "Loaded frame 1129 of 1280"
       ]
      },
      {
       "output_type": "stream",
       "stream": "stdout",
       "text": [
        "\r",
        "Loaded frame 1130 of 1280"
       ]
      },
      {
       "output_type": "stream",
       "stream": "stdout",
       "text": [
        "\r",
        "Loaded frame 1131 of 1280"
       ]
      },
      {
       "output_type": "stream",
       "stream": "stdout",
       "text": [
        "\r",
        "Loaded frame 1132 of 1280"
       ]
      },
      {
       "output_type": "stream",
       "stream": "stdout",
       "text": [
        "\r",
        "Loaded frame 1133 of 1280"
       ]
      },
      {
       "output_type": "stream",
       "stream": "stdout",
       "text": [
        "\r",
        "Loaded frame 1134 of 1280"
       ]
      },
      {
       "output_type": "stream",
       "stream": "stdout",
       "text": [
        "\r",
        "Loaded frame 1135 of 1280"
       ]
      },
      {
       "output_type": "stream",
       "stream": "stdout",
       "text": [
        "\r",
        "Loaded frame 1136 of 1280"
       ]
      },
      {
       "output_type": "stream",
       "stream": "stdout",
       "text": [
        "\r",
        "Loaded frame 1137 of 1280"
       ]
      },
      {
       "output_type": "stream",
       "stream": "stdout",
       "text": [
        "\r",
        "Loaded frame 1138 of 1280"
       ]
      },
      {
       "output_type": "stream",
       "stream": "stdout",
       "text": [
        "\r",
        "Loaded frame 1139 of 1280"
       ]
      },
      {
       "output_type": "stream",
       "stream": "stdout",
       "text": [
        "\r",
        "Loaded frame 1140 of 1280"
       ]
      },
      {
       "output_type": "stream",
       "stream": "stdout",
       "text": [
        "\r",
        "Loaded frame 1141 of 1280"
       ]
      },
      {
       "output_type": "stream",
       "stream": "stdout",
       "text": [
        "\r",
        "Loaded frame 1142 of 1280"
       ]
      },
      {
       "output_type": "stream",
       "stream": "stdout",
       "text": [
        "\r",
        "Loaded frame 1143 of 1280"
       ]
      },
      {
       "output_type": "stream",
       "stream": "stdout",
       "text": [
        "\r",
        "Loaded frame 1144 of 1280"
       ]
      },
      {
       "output_type": "stream",
       "stream": "stdout",
       "text": [
        "\r",
        "Loaded frame 1145 of 1280"
       ]
      },
      {
       "output_type": "stream",
       "stream": "stdout",
       "text": [
        "\r",
        "Loaded frame 1146 of 1280"
       ]
      },
      {
       "output_type": "stream",
       "stream": "stdout",
       "text": [
        "\r",
        "Loaded frame 1147 of 1280"
       ]
      },
      {
       "output_type": "stream",
       "stream": "stdout",
       "text": [
        "\r",
        "Loaded frame 1148 of 1280"
       ]
      },
      {
       "output_type": "stream",
       "stream": "stdout",
       "text": [
        "\r",
        "Loaded frame 1149 of 1280"
       ]
      },
      {
       "output_type": "stream",
       "stream": "stdout",
       "text": [
        "\r",
        "Loaded frame 1150 of 1280"
       ]
      },
      {
       "output_type": "stream",
       "stream": "stdout",
       "text": [
        "\r",
        "Loaded frame 1151 of 1280"
       ]
      },
      {
       "output_type": "stream",
       "stream": "stdout",
       "text": [
        "\r",
        "Loaded frame 1152 of 1280"
       ]
      },
      {
       "output_type": "stream",
       "stream": "stdout",
       "text": [
        "\r",
        "Loaded frame 1153 of 1280"
       ]
      },
      {
       "output_type": "stream",
       "stream": "stdout",
       "text": [
        "\r",
        "Loaded frame 1154 of 1280"
       ]
      },
      {
       "output_type": "stream",
       "stream": "stdout",
       "text": [
        "\r",
        "Loaded frame 1155 of 1280"
       ]
      },
      {
       "output_type": "stream",
       "stream": "stdout",
       "text": [
        "\r",
        "Loaded frame 1156 of 1280"
       ]
      },
      {
       "output_type": "stream",
       "stream": "stdout",
       "text": [
        "\r",
        "Loaded frame 1157 of 1280"
       ]
      },
      {
       "output_type": "stream",
       "stream": "stdout",
       "text": [
        "\r",
        "Loaded frame 1158 of 1280"
       ]
      },
      {
       "output_type": "stream",
       "stream": "stdout",
       "text": [
        "\r",
        "Loaded frame 1159 of 1280"
       ]
      },
      {
       "output_type": "stream",
       "stream": "stdout",
       "text": [
        "\r",
        "Loaded frame 1160 of 1280"
       ]
      },
      {
       "output_type": "stream",
       "stream": "stdout",
       "text": [
        "\r",
        "Loaded frame 1161 of 1280"
       ]
      },
      {
       "output_type": "stream",
       "stream": "stdout",
       "text": [
        "\r",
        "Loaded frame 1162 of 1280"
       ]
      },
      {
       "output_type": "stream",
       "stream": "stdout",
       "text": [
        "\r",
        "Loaded frame 1163 of 1280"
       ]
      },
      {
       "output_type": "stream",
       "stream": "stdout",
       "text": [
        "\r",
        "Loaded frame 1164 of 1280"
       ]
      },
      {
       "output_type": "stream",
       "stream": "stdout",
       "text": [
        "\r",
        "Loaded frame 1165 of 1280"
       ]
      },
      {
       "output_type": "stream",
       "stream": "stdout",
       "text": [
        "\r",
        "Loaded frame 1166 of 1280"
       ]
      },
      {
       "output_type": "stream",
       "stream": "stdout",
       "text": [
        "\r",
        "Loaded frame 1167 of 1280"
       ]
      },
      {
       "output_type": "stream",
       "stream": "stdout",
       "text": [
        "\r",
        "Loaded frame 1168 of 1280"
       ]
      },
      {
       "output_type": "stream",
       "stream": "stdout",
       "text": [
        "\r",
        "Loaded frame 1169 of 1280"
       ]
      },
      {
       "output_type": "stream",
       "stream": "stdout",
       "text": [
        "\r",
        "Loaded frame 1170 of 1280"
       ]
      },
      {
       "output_type": "stream",
       "stream": "stdout",
       "text": [
        "\r",
        "Loaded frame 1171 of 1280"
       ]
      },
      {
       "output_type": "stream",
       "stream": "stdout",
       "text": [
        "\r",
        "Loaded frame 1172 of 1280"
       ]
      },
      {
       "output_type": "stream",
       "stream": "stdout",
       "text": [
        "\r",
        "Loaded frame 1173 of 1280"
       ]
      },
      {
       "output_type": "stream",
       "stream": "stdout",
       "text": [
        "\r",
        "Loaded frame 1174 of 1280"
       ]
      },
      {
       "output_type": "stream",
       "stream": "stdout",
       "text": [
        "\r",
        "Loaded frame 1175 of 1280"
       ]
      },
      {
       "output_type": "stream",
       "stream": "stdout",
       "text": [
        "\r",
        "Loaded frame 1176 of 1280"
       ]
      },
      {
       "output_type": "stream",
       "stream": "stdout",
       "text": [
        "\r",
        "Loaded frame 1177 of 1280"
       ]
      },
      {
       "output_type": "stream",
       "stream": "stdout",
       "text": [
        "\r",
        "Loaded frame 1178 of 1280"
       ]
      },
      {
       "output_type": "stream",
       "stream": "stdout",
       "text": [
        "\r",
        "Loaded frame 1179 of 1280"
       ]
      },
      {
       "output_type": "stream",
       "stream": "stdout",
       "text": [
        "\r",
        "Loaded frame 1180 of 1280"
       ]
      },
      {
       "output_type": "stream",
       "stream": "stdout",
       "text": [
        "\r",
        "Loaded frame 1181 of 1280"
       ]
      },
      {
       "output_type": "stream",
       "stream": "stdout",
       "text": [
        "\r",
        "Loaded frame 1182 of 1280"
       ]
      },
      {
       "output_type": "stream",
       "stream": "stdout",
       "text": [
        "\r",
        "Loaded frame 1183 of 1280"
       ]
      },
      {
       "output_type": "stream",
       "stream": "stdout",
       "text": [
        "\r",
        "Loaded frame 1184 of 1280"
       ]
      },
      {
       "output_type": "stream",
       "stream": "stdout",
       "text": [
        "\r",
        "Loaded frame 1185 of 1280"
       ]
      },
      {
       "output_type": "stream",
       "stream": "stdout",
       "text": [
        "\r",
        "Loaded frame 1186 of 1280"
       ]
      },
      {
       "output_type": "stream",
       "stream": "stdout",
       "text": [
        "\r",
        "Loaded frame 1187 of 1280"
       ]
      },
      {
       "output_type": "stream",
       "stream": "stdout",
       "text": [
        "\r",
        "Loaded frame 1188 of 1280"
       ]
      },
      {
       "output_type": "stream",
       "stream": "stdout",
       "text": [
        "\r",
        "Loaded frame 1189 of 1280"
       ]
      },
      {
       "output_type": "stream",
       "stream": "stdout",
       "text": [
        "\r",
        "Loaded frame 1190 of 1280"
       ]
      },
      {
       "output_type": "stream",
       "stream": "stdout",
       "text": [
        "\r",
        "Loaded frame 1191 of 1280"
       ]
      },
      {
       "output_type": "stream",
       "stream": "stdout",
       "text": [
        "\r",
        "Loaded frame 1192 of 1280"
       ]
      },
      {
       "output_type": "stream",
       "stream": "stdout",
       "text": [
        "\r",
        "Loaded frame 1193 of 1280"
       ]
      },
      {
       "output_type": "stream",
       "stream": "stdout",
       "text": [
        "\r",
        "Loaded frame 1194 of 1280"
       ]
      },
      {
       "output_type": "stream",
       "stream": "stdout",
       "text": [
        "\r",
        "Loaded frame 1195 of 1280"
       ]
      },
      {
       "output_type": "stream",
       "stream": "stdout",
       "text": [
        "\r",
        "Loaded frame 1196 of 1280"
       ]
      },
      {
       "output_type": "stream",
       "stream": "stdout",
       "text": [
        "\r",
        "Loaded frame 1197 of 1280"
       ]
      },
      {
       "output_type": "stream",
       "stream": "stdout",
       "text": [
        "\r",
        "Loaded frame 1198 of 1280"
       ]
      },
      {
       "output_type": "stream",
       "stream": "stdout",
       "text": [
        "\r",
        "Loaded frame 1199 of 1280"
       ]
      },
      {
       "output_type": "stream",
       "stream": "stdout",
       "text": [
        "\r",
        "Loaded frame 1200 of 1280"
       ]
      },
      {
       "output_type": "stream",
       "stream": "stdout",
       "text": [
        "\r",
        "Loaded frame 1201 of 1280"
       ]
      },
      {
       "output_type": "stream",
       "stream": "stdout",
       "text": [
        "\r",
        "Loaded frame 1202 of 1280"
       ]
      },
      {
       "output_type": "stream",
       "stream": "stdout",
       "text": [
        "\r",
        "Loaded frame 1203 of 1280"
       ]
      },
      {
       "output_type": "stream",
       "stream": "stdout",
       "text": [
        "\r",
        "Loaded frame 1204 of 1280"
       ]
      },
      {
       "output_type": "stream",
       "stream": "stdout",
       "text": [
        "\r",
        "Loaded frame 1205 of 1280"
       ]
      },
      {
       "output_type": "stream",
       "stream": "stdout",
       "text": [
        "\r",
        "Loaded frame 1206 of 1280"
       ]
      },
      {
       "output_type": "stream",
       "stream": "stdout",
       "text": [
        "\r",
        "Loaded frame 1207 of 1280"
       ]
      },
      {
       "output_type": "stream",
       "stream": "stdout",
       "text": [
        "\r",
        "Loaded frame 1208 of 1280"
       ]
      },
      {
       "output_type": "stream",
       "stream": "stdout",
       "text": [
        "\r",
        "Loaded frame 1209 of 1280"
       ]
      },
      {
       "output_type": "stream",
       "stream": "stdout",
       "text": [
        "\r",
        "Loaded frame 1210 of 1280"
       ]
      },
      {
       "output_type": "stream",
       "stream": "stdout",
       "text": [
        "\r",
        "Loaded frame 1211 of 1280"
       ]
      },
      {
       "output_type": "stream",
       "stream": "stdout",
       "text": [
        "\r",
        "Loaded frame 1212 of 1280"
       ]
      },
      {
       "output_type": "stream",
       "stream": "stdout",
       "text": [
        "\r",
        "Loaded frame 1213 of 1280"
       ]
      },
      {
       "output_type": "stream",
       "stream": "stdout",
       "text": [
        "\r",
        "Loaded frame 1214 of 1280"
       ]
      },
      {
       "output_type": "stream",
       "stream": "stdout",
       "text": [
        "\r",
        "Loaded frame 1215 of 1280"
       ]
      },
      {
       "output_type": "stream",
       "stream": "stdout",
       "text": [
        "\r",
        "Loaded frame 1216 of 1280"
       ]
      },
      {
       "output_type": "stream",
       "stream": "stdout",
       "text": [
        "\r",
        "Loaded frame 1217 of 1280"
       ]
      },
      {
       "output_type": "stream",
       "stream": "stdout",
       "text": [
        "\r",
        "Loaded frame 1218 of 1280"
       ]
      },
      {
       "output_type": "stream",
       "stream": "stdout",
       "text": [
        "\r",
        "Loaded frame 1219 of 1280"
       ]
      },
      {
       "output_type": "stream",
       "stream": "stdout",
       "text": [
        "\r",
        "Loaded frame 1220 of 1280"
       ]
      },
      {
       "output_type": "stream",
       "stream": "stdout",
       "text": [
        "\r",
        "Loaded frame 1221 of 1280"
       ]
      },
      {
       "output_type": "stream",
       "stream": "stdout",
       "text": [
        "\r",
        "Loaded frame 1222 of 1280"
       ]
      },
      {
       "output_type": "stream",
       "stream": "stdout",
       "text": [
        "\r",
        "Loaded frame 1223 of 1280"
       ]
      },
      {
       "output_type": "stream",
       "stream": "stdout",
       "text": [
        "\r",
        "Loaded frame 1224 of 1280"
       ]
      },
      {
       "output_type": "stream",
       "stream": "stdout",
       "text": [
        "\r",
        "Loaded frame 1225 of 1280"
       ]
      },
      {
       "output_type": "stream",
       "stream": "stdout",
       "text": [
        "\r",
        "Loaded frame 1226 of 1280"
       ]
      },
      {
       "output_type": "stream",
       "stream": "stdout",
       "text": [
        "\r",
        "Loaded frame 1227 of 1280"
       ]
      },
      {
       "output_type": "stream",
       "stream": "stdout",
       "text": [
        "\r",
        "Loaded frame 1228 of 1280"
       ]
      },
      {
       "output_type": "stream",
       "stream": "stdout",
       "text": [
        "\r",
        "Loaded frame 1229 of 1280"
       ]
      },
      {
       "output_type": "stream",
       "stream": "stdout",
       "text": [
        "\r",
        "Loaded frame 1230 of 1280"
       ]
      },
      {
       "output_type": "stream",
       "stream": "stdout",
       "text": [
        "\r",
        "Loaded frame 1231 of 1280"
       ]
      },
      {
       "output_type": "stream",
       "stream": "stdout",
       "text": [
        "\r",
        "Loaded frame 1232 of 1280"
       ]
      },
      {
       "output_type": "stream",
       "stream": "stdout",
       "text": [
        "\r",
        "Loaded frame 1233 of 1280"
       ]
      },
      {
       "output_type": "stream",
       "stream": "stdout",
       "text": [
        "\r",
        "Loaded frame 1234 of 1280"
       ]
      },
      {
       "output_type": "stream",
       "stream": "stdout",
       "text": [
        "\r",
        "Loaded frame 1235 of 1280"
       ]
      },
      {
       "output_type": "stream",
       "stream": "stdout",
       "text": [
        "\r",
        "Loaded frame 1236 of 1280"
       ]
      },
      {
       "output_type": "stream",
       "stream": "stdout",
       "text": [
        "\r",
        "Loaded frame 1237 of 1280"
       ]
      },
      {
       "output_type": "stream",
       "stream": "stdout",
       "text": [
        "\r",
        "Loaded frame 1238 of 1280"
       ]
      },
      {
       "output_type": "stream",
       "stream": "stdout",
       "text": [
        "\r",
        "Loaded frame 1239 of 1280"
       ]
      },
      {
       "output_type": "stream",
       "stream": "stdout",
       "text": [
        "\r",
        "Loaded frame 1240 of 1280"
       ]
      },
      {
       "output_type": "stream",
       "stream": "stdout",
       "text": [
        "\r",
        "Loaded frame 1241 of 1280"
       ]
      },
      {
       "output_type": "stream",
       "stream": "stdout",
       "text": [
        "\r",
        "Loaded frame 1242 of 1280"
       ]
      },
      {
       "output_type": "stream",
       "stream": "stdout",
       "text": [
        "\r",
        "Loaded frame 1243 of 1280"
       ]
      },
      {
       "output_type": "stream",
       "stream": "stdout",
       "text": [
        "\r",
        "Loaded frame 1244 of 1280"
       ]
      },
      {
       "output_type": "stream",
       "stream": "stdout",
       "text": [
        "\r",
        "Loaded frame 1245 of 1280"
       ]
      },
      {
       "output_type": "stream",
       "stream": "stdout",
       "text": [
        "\r",
        "Loaded frame 1246 of 1280"
       ]
      },
      {
       "output_type": "stream",
       "stream": "stdout",
       "text": [
        "\r",
        "Loaded frame 1247 of 1280"
       ]
      },
      {
       "output_type": "stream",
       "stream": "stdout",
       "text": [
        "\r",
        "Loaded frame 1248 of 1280"
       ]
      },
      {
       "output_type": "stream",
       "stream": "stdout",
       "text": [
        "\r",
        "Loaded frame 1249 of 1280"
       ]
      },
      {
       "output_type": "stream",
       "stream": "stdout",
       "text": [
        "\r",
        "Loaded frame 1250 of 1280"
       ]
      },
      {
       "output_type": "stream",
       "stream": "stdout",
       "text": [
        "\r",
        "Loaded frame 1251 of 1280"
       ]
      },
      {
       "output_type": "stream",
       "stream": "stdout",
       "text": [
        "\r",
        "Loaded frame 1252 of 1280"
       ]
      },
      {
       "output_type": "stream",
       "stream": "stdout",
       "text": [
        "\r",
        "Loaded frame 1253 of 1280"
       ]
      },
      {
       "output_type": "stream",
       "stream": "stdout",
       "text": [
        "\r",
        "Loaded frame 1254 of 1280"
       ]
      },
      {
       "output_type": "stream",
       "stream": "stdout",
       "text": [
        "\r",
        "Loaded frame 1255 of 1280"
       ]
      },
      {
       "output_type": "stream",
       "stream": "stdout",
       "text": [
        "\r",
        "Loaded frame 1256 of 1280"
       ]
      },
      {
       "output_type": "stream",
       "stream": "stdout",
       "text": [
        "\r",
        "Loaded frame 1257 of 1280"
       ]
      },
      {
       "output_type": "stream",
       "stream": "stdout",
       "text": [
        "\r",
        "Loaded frame 1258 of 1280"
       ]
      },
      {
       "output_type": "stream",
       "stream": "stdout",
       "text": [
        "\r",
        "Loaded frame 1259 of 1280"
       ]
      },
      {
       "output_type": "stream",
       "stream": "stdout",
       "text": [
        "\r",
        "Loaded frame 1260 of 1280"
       ]
      },
      {
       "output_type": "stream",
       "stream": "stdout",
       "text": [
        "\r",
        "Loaded frame 1261 of 1280"
       ]
      },
      {
       "output_type": "stream",
       "stream": "stdout",
       "text": [
        "\r",
        "Loaded frame 1262 of 1280"
       ]
      },
      {
       "output_type": "stream",
       "stream": "stdout",
       "text": [
        "\r",
        "Loaded frame 1263 of 1280"
       ]
      },
      {
       "output_type": "stream",
       "stream": "stdout",
       "text": [
        "\r",
        "Loaded frame 1264 of 1280"
       ]
      },
      {
       "output_type": "stream",
       "stream": "stdout",
       "text": [
        "\r",
        "Loaded frame 1265 of 1280"
       ]
      },
      {
       "output_type": "stream",
       "stream": "stdout",
       "text": [
        "\r",
        "Loaded frame 1266 of 1280"
       ]
      },
      {
       "output_type": "stream",
       "stream": "stdout",
       "text": [
        "\r",
        "Loaded frame 1267 of 1280"
       ]
      },
      {
       "output_type": "stream",
       "stream": "stdout",
       "text": [
        "\r",
        "Loaded frame 1268 of 1280"
       ]
      },
      {
       "output_type": "stream",
       "stream": "stdout",
       "text": [
        "\r",
        "Loaded frame 1269 of 1280"
       ]
      },
      {
       "output_type": "stream",
       "stream": "stdout",
       "text": [
        "\r",
        "Loaded frame 1270 of 1280"
       ]
      },
      {
       "output_type": "stream",
       "stream": "stdout",
       "text": [
        "\r",
        "Loaded frame 1271 of 1280"
       ]
      },
      {
       "output_type": "stream",
       "stream": "stdout",
       "text": [
        "\r",
        "Loaded frame 1272 of 1280"
       ]
      },
      {
       "output_type": "stream",
       "stream": "stdout",
       "text": [
        "\r",
        "Loaded frame 1273 of 1280"
       ]
      },
      {
       "output_type": "stream",
       "stream": "stdout",
       "text": [
        "\r",
        "Loaded frame 1274 of 1280"
       ]
      },
      {
       "output_type": "stream",
       "stream": "stdout",
       "text": [
        "\r",
        "Loaded frame 1275 of 1280"
       ]
      },
      {
       "output_type": "stream",
       "stream": "stdout",
       "text": [
        "\r",
        "Loaded frame 1276 of 1280"
       ]
      },
      {
       "output_type": "stream",
       "stream": "stdout",
       "text": [
        "\r",
        "Loaded frame 1277 of 1280"
       ]
      },
      {
       "output_type": "stream",
       "stream": "stdout",
       "text": [
        "\r",
        "Loaded frame 1278 of 1280"
       ]
      },
      {
       "output_type": "stream",
       "stream": "stdout",
       "text": [
        "\r",
        "Loaded frame 1279 of 1280"
       ]
      }
     ],
     "prompt_number": 53
    },
    {
     "cell_type": "code",
     "collapsed": false,
     "input": [
      "distMat = vtu.filterDistanceMatrix(distanceMatrix, 4, True)\n",
      "idxCorrection += 4\n",
      "figure(); imshow(distMat, interpolation='nearest')"
     ],
     "language": "python",
     "metadata": {},
     "outputs": [
      {
       "metadata": {},
       "output_type": "pyout",
       "prompt_number": 35,
       "text": [
        "<matplotlib.image.AxesImage at 0x7fe9a304a450>"
       ]
      }
     ],
     "prompt_number": 35
    },
    {
     "cell_type": "code",
     "collapsed": false,
     "input": [
      "def estimateFutureCost(alpha, p, distanceMatrixFilt, weights) :\n",
      "    \n",
      "    distMatFilt = distanceMatrixFilt[1:distanceMatrixFilt.shape[1], 0:-1]\n",
      "    distMat = distMatFilt ** p\n",
      "    \n",
      "    last = np.copy(distMat)\n",
      "    current = np.zeros(distMat.shape)\n",
      "    \n",
      "    ## while distance between last and current is larger than threshold\n",
      "    iterations = 0 \n",
      "    while np.linalg.norm(last - current) > 0.1 : \n",
      "        for i in range(distMat.shape[0]-1, -1, -1) :\n",
      "            m = np.min(distMat*weights[1:distanceMatrixFilt.shape[1], 0:-1], axis=1)\n",
      "            distMat[i, :] = (distMatFilt[i, :] ** p) + alpha*m\n",
      "            \n",
      "        last = np.copy(current)\n",
      "        current = np.copy(distMat)\n",
      "        \n",
      "        sys.stdout.write('\\r' + \"Iteration \" + np.string_(iterations) + \"; distance \" + np.string_(np.linalg.norm(last - current)))\n",
      "        sys.stdout.flush()\n",
      "        \n",
      "        iterations += 1\n",
      "    \n",
      "    print\n",
      "    print 'finished in', iterations, 'iterations'\n",
      "    \n",
      "    return distMat\n",
      "\n",
      "distMatFut = estimateFutureCost(0.999, 2.0, distM at, rangeWeights)#np.ones(distMat.shape))\n",
      "figure(); imshow(distMatFut, interpolation='nearest')"
     ],
     "language": "python",
     "metadata": {},
     "outputs": [
      {
       "output_type": "stream",
       "stream": "stdout",
       "text": [
        "\r",
        "Iteration 0; distance 2311.20574593"
       ]
      },
      {
       "output_type": "stream",
       "stream": "stdout",
       "text": [
        "\r",
        "Iteration 1; distance 0.0"
       ]
      },
      {
       "output_type": "stream",
       "stream": "stdout",
       "text": [
        "\n",
        "finished in 2 iterations\n"
       ]
      },
      {
       "metadata": {},
       "output_type": "pyout",
       "prompt_number": 206,
       "text": [
        "<matplotlib.image.AxesImage at 0x7feb88738e10>"
       ]
      }
     ],
     "prompt_number": 206
    },
    {
     "cell_type": "code",
     "collapsed": false,
     "input": [
      "figure(); imshow(distMat[1:len(distMat), 0:-1], interpolation='nearest')\n",
      "figure(); imshow(distMatFut, interpolation='nearest')\n",
      "probMat, cumProb = vtu.getProbabilities(distMatFut, 0.005, True)#distMat[1:len(distMat), 0:-1], 0.005, True)\n",
      "figure(); imshow(probMat, interpolation='nearest')\n",
      "figure(); imshow(cumProb, interpolation='nearest')\n",
      "finalFrames = vtu.getFinalFrames(cumProb, 300, 2, 1, False, False)\n",
      "print finalFrames"
     ],
     "language": "python",
     "metadata": {},
     "outputs": [
      {
       "output_type": "stream",
       "stream": "stdout",
       "text": [
        "sigma 0.338055925433\n",
        "(28, 28) (28, 28)\n",
        "[ 3  4  5  6  7  8  9 10 11 12 13  2 15 16 29 18 19 20 21 22 23 24 25 26 27\n",
        " 28 17 18 19 20 21 22 23 24 25 26 27 28 17 18 19 20 21 22 23 24 25 26 27 28\n",
        " 17 18 19 20 21 22 23 24 25 26 27 28 17 18 19 20 21 22 23 24 25 26 27 28 17\n",
        " 18 19 20 21 22 23 24 25 26 27 28 17 18 19 20 21 22 23 24 25 26 27 28 17 18\n",
        " 19 20 21 22 23 24 25 26 27 28 17 18 19 20 21 22 23 24 25 26 27 28 29 18 19\n",
        " 20 21 22 23 24 25 26 27 28 29 18 19 20 21 22 23 24 25 26 27 28 29 18 19 20\n",
        " 21 22 23 24 25 26 27 28 29 18 19 20 21 22 23 24 25 26 27 28 17 18 19 20 21\n",
        " 22 23 24 25 26 27 28 29 18 19 20 21 22 23 24 25 26 27 28 29 18 19 20 21 22\n",
        " 23 24 25 26 27 28 17 18 19 20 21 22 23 24 25 26 27 28 29 18 19 20 21 22 23\n",
        " 24 25 26 27 28 29 18 19 20 21 22 23 24 25 26 27 28 29 18 19 20 21 22 23 24\n",
        " 25 26 27 28 29 18 19 20 21 22 23 24 25 26 27 28 29 18 19 20 21 22 23 24 25\n",
        " 26 27 28 29 18 19 20 21 22 23 24 25 26 27 28 29 18 19 20 21 22 23 24 25 26]"
       ]
      },
      {
       "output_type": "stream",
       "stream": "stdout",
       "text": [
        "\n"
       ]
      }
     ],
     "prompt_number": 205
    },
    {
     "cell_type": "code",
     "collapsed": false,
     "input": [
      "threshDist = np.copy(distMatFut)\n",
      "print np.max(threshDist), np.min(threshDist), np.median(threshDist)\n",
      "threshDist[np.where(threshDist >= np.median(threshDist))] = np.max(threshDist)\n",
      "figure(); imshow(distMatFut, interpolation='nearest')\n",
      "figure(); imshow(threshDist, interpolation='nearest')"
     ],
     "language": "python",
     "metadata": {},
     "outputs": [
      {
       "output_type": "stream",
       "stream": "stdout",
       "text": [
        "318786.057445 14536.5200827 98841.1932052\n"
       ]
      },
      {
       "metadata": {},
       "output_type": "pyout",
       "prompt_number": 10,
       "text": [
        "<matplotlib.image.AxesImage at 0x7f491b1c6f10>"
       ]
      }
     ],
     "prompt_number": 10
    },
    {
     "cell_type": "code",
     "collapsed": false,
     "input": [
      "## get probablities and plot together with inital nodes\n",
      "weightMat = distMat[1:distMat.shape[1], 0:-1] # distMatFut # threshDist\n",
      "probMat, cumProb = vtu.getProbabilities(weightMat, 1.0, True)\n",
      "idxCorrection =5 #+= 1\n",
      "\n",
      "## Initiliaze graph with frames for each condition \n",
      "            ## (assume the frame is somewhere in the middle of the frames for that condition)\n",
      "initialNodes = np.array([122-idxCorrection, 530-idxCorrection, 867-idxCorrection, 1100-idxCorrection]) # back, right, front, back\n",
      "\n",
      "fig = plt.figure()\n",
      "ax = fig.add_subplot(111)\n",
      "ax.imshow(probMat, interpolation='nearest')\n",
      "ax.set_autoscale_on(False)\n",
      "ax.scatter(initialNodes, initialNodes, c=\"m\", marker=\"s\")"
     ],
     "language": "python",
     "metadata": {},
     "outputs": [
      {
       "output_type": "stream",
       "stream": "stdout",
       "text": [
        "sigma 267.549257068\n",
        "(1271, 1271)"
       ]
      },
      {
       "output_type": "stream",
       "stream": "stdout",
       "text": [
        " (1271, 1271)\n"
       ]
      },
      {
       "metadata": {},
       "output_type": "pyout",
       "prompt_number": 8,
       "text": [
        "<matplotlib.collections.PathCollection at 0x7fc1e2651ed0>"
       ]
      }
     ],
     "prompt_number": 8
    },
    {
     "cell_type": "code",
     "collapsed": false,
     "input": [
      "figure(); imshow(weightMat, interpolation='nearest')"
     ],
     "language": "python",
     "metadata": {},
     "outputs": [
      {
       "metadata": {},
       "output_type": "pyout",
       "prompt_number": 338,
       "text": [
        "<matplotlib.image.AxesImage at 0x7fc1ce8969d0>"
       ]
      }
     ],
     "prompt_number": 338
    },
    {
     "cell_type": "code",
     "collapsed": false,
     "input": [
      "print np.union1d(np.ndarray.flatten(bestForwardTransitions), np.ndarray.flatten(bestBackwardTransitions))"
     ],
     "language": "python",
     "metadata": {},
     "outputs": [
      {
       "output_type": "stream",
       "stream": "stdout",
       "text": [
        "[   0    5   22   23   30   32   33   58   59   72   85   86   91   96   97\n",
        "  103  108  112  114  115  119  125  128  129  139  141  142  150  155  156\n",
        "  161  168  171  176  180  188  189  195  196  198  202  215  216  221  224\n",
        "  225  229  230  232  242  243  279  289  290  305  327  328  332  336  337\n",
        "  353  354  364  399  400  409  410  416  417  421  422  453  454  460  461\n",
        "  463  465  472  475  476  483  499  502  506  512  513  514  515  522  526\n",
        "  528  529  538  545  549  559  560  561  565  589  612  613  620  623  630\n",
        "  631  637  638  647  675  676  681  682  684  691  692  736  737  738  739\n",
        "  775  791  792  807  808  809  824  825  826  980  982  984  995  997 1002\n",
        " 1009 1012 1015 1016 1019 1028 1029 1030 1043 1044 1045 1047 1048 1056 1057\n",
        " 1071 1072 1077 1080 1101 1106 1107 1109 1110 1115 1117 1137 1138 1147 1148\n",
        " 1154 1167 1168 1170 1171 1175 1176 1177 1178 1191 1196 1197 1200 1216 1217\n",
        " 1219 1230 1231 1236 1237 1242 1243 1250 1260]\n"
       ]
      }
     ],
     "prompt_number": 794
    },
    {
     "cell_type": "code",
     "collapsed": false,
     "input": [
      "## build frameGraph by connecting all nodes as taken from video and adding the best primitive loops\n",
      "bestBackwardTransitions = findBestLoops(5, 10, weightMat, 'backward')\n",
      "bestForwardTransitions = findBestLoops(5, 10, weightMat, 'forward')\n",
      "print bestBackwardTransitions\n",
      "print bestForwardTransitions\n",
      "# print \"stats\"\n",
      "# print np.median(np.diff(bestTransitions)), np.mean(np.diff(bestTransitions))\n",
      "# print np.diff(bestTransitions)\n",
      "\n",
      "bestTransGraph = digraph()\n",
      "bestTransGraph.add_nodes(np.union1d(np.ndarray.flatten(bestForwardTransitions), np.ndarray.flatten(bestBackwardTransitions)))\n",
      "# for i, j in zip(frameGraph.nodes()[0:-1], frameGraph.nodes()[1:]) :\n",
      "#     if (i, j) not in frameGraph.edges() :\n",
      "#         frameGraph.add_edge((i, j), wt=weightMat[i, j], label=np.str(weightMat[i, j]))\n",
      "#     else :\n",
      "#         frameGraph.set_edge_weight((i, j), weightMat[i, j])\n",
      "#         frameGraph.set_edge_label((i, j), np.str(weightMat[i, j]))\n",
      "        \n",
      "for edge in bestBackwardTransitions :        \n",
      "    if (edge[1], edge[0]) not in bestTransGraph.edges() :\n",
      "        bestTransGraph.add_edge((edge[1], edge[0]), wt=weightMat[edge[1], edge[0]], label=np.str(weightMat[edge[1], edge[0]]))\n",
      "    else :\n",
      "        bestTransGraph.set_edge_weight((edge[1], edge[0]), weightMat[edge[1], edge[0]])\n",
      "        bestTransGraph.set_edge_label((edge[1], edge[0]), np.str(weightMat[edge[1], edge[0]]))\n",
      "        \n",
      "for edge in bestForwardTransitions :        \n",
      "    if (edge[1], edge[0]) not in bestTransGraph.edges() :\n",
      "        bestTransGraph.add_edge((edge[1], edge[0]), wt=weightMat[edge[1], edge[0]], label=np.str(weightMat[edge[1], edge[0]]))\n",
      "    else :\n",
      "        bestTransGraph.set_edge_weight((edge[1], edge[0]), weightMat[edge[1], edge[0]])\n",
      "        bestTransGraph.set_edge_label((edge[1], edge[0]), np.str(weightMat[edge[1], edge[0]]))"
     ],
     "language": "python",
     "metadata": {},
     "outputs": [
      {
       "output_type": "stream",
       "stream": "stdout",
       "text": [
        "keeping 51 of 83\n",
        "keeping"
       ]
      },
      {
       "output_type": "stream",
       "stream": "stdout",
       "text": [
        " 56 of 84\n",
        "[[  23   33]\n",
        " [   0   85]\n",
        " [  86  103]\n",
        " [  91  119]\n",
        " [  97  128]\n",
        " [ 108  139]\n",
        " [ 115  155]\n",
        " [ 112  168]\n",
        " [   5  176]\n",
        " [ 142  188]\n",
        " [  72  198]\n",
        " [ 196  215]\n",
        " [ 128  225]\n",
        " [ 230  242]\n",
        " [  59  327]\n",
        " [ 336  410]\n",
        " [ 410  421]\n",
        " [ 417  453]\n",
        " [ 337  460]\n",
        " [ 400  475]\n",
        " [ 290  512]\n",
        " [ 515  528]\n",
        " [ 502  538]\n",
        " [ 499  545]\n",
        " [ 515  561]\n",
        " [ 506  623]\n",
        " [ 354  637]\n",
        " [ 631  675]\n",
        " [ 613  691]\n",
        " [ 682  737]\n",
        " [  30  808]\n",
        " [ 792  825]\n",
        " [ 982  995]\n",
        " [ 997 1009]\n",
        " [ 984 1016]\n",
        " [1016 1028]\n",
        " [1016 1044]\n",
        " [1028 1057]\n",
        " [1012 1077]\n",
        " [1029 1101]\n",
        " [1030 1117]\n",
        " [1109 1137]\n",
        " [1030 1147]\n",
        " [1107 1167]\n",
        " [1115 1175]\n",
        " [1048 1196]\n",
        " [1072 1216]\n",
        " [1043 1230]\n",
        " [1231 1242]\n",
        " [1019 1250]\n",
        " [1107 1260]]\n",
        "[[  32   22]\n",
        " [ 809   30]\n",
        " [ 328   58]\n",
        " [ 168   72]\n",
        " [ 129   96]\n",
        " [ 156  114]\n",
        " [ 224  125]\n",
        " [ 189  141]\n",
        " [ 216  150]\n",
        " [ 202  161]\n",
        " [ 221  171]\n",
        " [ 232  180]\n",
        " [ 216  195]\n",
        " [ 243  229]\n",
        " [ 465  279]\n",
        " [ 513  289]\n",
        " [ 332  305]\n",
        " [ 461  336]\n",
        " [ 638  353]\n",
        " [ 529  364]\n",
        " [ 476  399]\n",
        " [ 422  409]\n",
        " [ 454  416]\n",
        " [ 483  463]\n",
        " [ 522  472]\n",
        " [ 529  514]\n",
        " [ 560  526]\n",
        " [ 620  538]\n",
        " [ 559  549]\n",
        " [ 684  565]\n",
        " [ 682  589]\n",
        " [ 692  612]\n",
        " [ 676  630]\n",
        " [ 739  647]\n",
        " [ 738  681]\n",
        " [ 808  736]\n",
        " [ 809  775]\n",
        " [ 826  791]\n",
        " [ 824  807]\n",
        " [1242  980]\n",
        " [1237 1002]\n",
        " [1045 1015]\n",
        " [1148 1029]\n",
        " [1197 1047]\n",
        " [1176 1056]\n",
        " [1217 1071]\n",
        " [1110 1080]\n",
        " [1168 1106]\n",
        " [1177 1115]\n",
        " [1170 1138]\n",
        " [1171 1154]\n",
        " [1197 1167]\n",
        " [1219 1178]\n",
        " [1231 1191]\n",
        " [1236 1200]\n",
        " [1243 1230]]\n"
       ]
      }
     ],
     "prompt_number": 795
    },
    {
     "cell_type": "code",
     "collapsed": false,
     "input": [
      "## init graph\n",
      "frameGraph = buildGraph(initialNodes, weightMat, 1, 5, False, bestTransGraph)"
     ],
     "language": "python",
     "metadata": {},
     "outputs": [
      {
       "output_type": "stream",
       "stream": "stdout",
       "text": [
        "\r",
        "Iteration 0; "
       ]
      },
      {
       "output_type": "stream",
       "stream": "stdout",
       "text": [
        "\r",
        "Iteration 1; "
       ]
      },
      {
       "output_type": "stream",
       "stream": "stdout",
       "text": [
        "\r",
        "Iteration 2; "
       ]
      },
      {
       "output_type": "stream",
       "stream": "stdout",
       "text": [
        "\r",
        "Iteration 3; "
       ]
      },
      {
       "output_type": "stream",
       "stream": "stdout",
       "text": [
        "\r",
        "Iteration 4; conn 525-117 conn 862-525 "
       ]
      },
      {
       "output_type": "stream",
       "stream": "stdout",
       "text": [
        "\r",
        "Iteration 5; conn 525-117 conn 862-525 "
       ]
      },
      {
       "output_type": "stream",
       "stream": "stdout",
       "text": [
        "\r",
        "Iteration 6; conn 525-117 conn 862-525 "
       ]
      },
      {
       "output_type": "stream",
       "stream": "stdout",
       "text": [
        "\r",
        "Iteration 7; conn 525-117 conn 862-525 "
       ]
      },
      {
       "output_type": "stream",
       "stream": "stdout",
       "text": [
        "\r",
        "Iteration 8; conn 525-117 conn 862-525 "
       ]
      },
      {
       "output_type": "stream",
       "stream": "stdout",
       "text": [
        "\r",
        "Iteration 9; conn 525-117 conn 862-525 "
       ]
      },
      {
       "output_type": "stream",
       "stream": "stdout",
       "text": [
        "\r",
        "Iteration 10; conn 525-117 conn 862-525 "
       ]
      },
      {
       "output_type": "stream",
       "stream": "stdout",
       "text": [
        "\r",
        "Iteration 11; conn 525-117 conn 862-525 "
       ]
      },
      {
       "output_type": "stream",
       "stream": "stdout",
       "text": [
        "\r",
        "Iteration 12; conn 525-117 conn 862-525 "
       ]
      },
      {
       "output_type": "stream",
       "stream": "stdout",
       "text": [
        "\r",
        "Iteration 13; conn 525-117 conn 862-525 "
       ]
      },
      {
       "output_type": "stream",
       "stream": "stdout",
       "text": [
        "\r",
        "Iteration 14; conn 117-1095 conn 525-117 conn 862-525 conn 1095-862 "
       ]
      },
      {
       "output_type": "stream",
       "stream": "stdout",
       "text": [
        "finished\n"
       ]
      }
     ],
     "prompt_number": 799
    },
    {
     "cell_type": "code",
     "collapsed": false,
     "input": [
      "## remove all nodes with 1 or no neighbours\n",
      "for node in frameGraph.nodes() :\n",
      "    if frameGraph.edges() < 1 :\n",
      "#         bestTransGraph.del_node(node)\n",
      "        print node"
     ],
     "language": "python",
     "metadata": {},
     "outputs": [],
     "prompt_number": 801
    },
    {
     "cell_type": "code",
     "collapsed": false,
     "input": [
      "print len(frameGraph.nodes())\n",
      "print len(frameGraph.edges())\n",
      "print shortPathLengths[0, :]\n",
      "# gwv.showCustomGraph(shortPathLengths)\n",
      "\n",
      "# print paths\n",
      "# print frameGraph.neighbors(1264)"
     ],
     "language": "python",
     "metadata": {},
     "outputs": [
      {
       "output_type": "stream",
       "stream": "stdout",
       "text": [
        "1247\n",
        "3314\n",
        "[  1.79769313e+308   1.00000000e+000   2.00000000e+000 ...,\n",
        "   1.79769313e+308   1.79769313e+308   1.79769313e+308]\n"
       ]
      }
     ],
     "prompt_number": 800
    },
    {
     "cell_type": "code",
     "collapsed": false,
     "input": [
      "## compute length of shortest path for each pair of nodes (uses sum of edges weight as distance measure)\n",
      "shortPathLengths = np.ones(weightMat.shape, dtype=uint)*sys.float_info.max\n",
      "\n",
      "for i in frameGraph.nodes() :\n",
      "    for j in frameGraph.nodes() :\n",
      "        if i != j :\n",
      "            path, distance = getShortestPath(frameGraph, i, j)\n",
      "            if distance > 0 : \n",
      "                shortPathLengths[i, j] = distance\n",
      "    sys.stdout.write('\\r' + \"Computed shortest paths for frame \" + np.string_(i))\n",
      "    sys.stdout.flush()\n",
      "\n",
      "print\n",
      "sigma = np.mean(shortPathLengths[np.where(shortPathLengths != sys.float_info.max)])\n",
      "sigma = 10.0\n",
      "print 'sigma', sigma\n",
      "pathProbMat = np.exp((-shortPathLengths)/sigma)\n",
      "## normalize columnwise instead of rowwise as done with probability based on distMat\n",
      "# normTerm = np.sum(pathProbMat, axis=1)\n",
      "# normTerm = cv2.repeat(normTerm, 1, shortPathLengths.shape[1])\n",
      "normTerm = np.sum(pathProbMat, axis=0)\n",
      "normTerm = np.repeat(np.reshape(normTerm, (len(normTerm), 1)).T, len(normTerm), axis=0)\n",
      "pathProbMat = pathProbMat / normTerm\n",
      "pathProbMat[np.isnan(pathProbMat)] = 0.0\n",
      "print np.sum(pathProbMat, axis=0)"
     ],
     "language": "python",
     "metadata": {},
     "outputs": [
      {
       "output_type": "stream",
       "stream": "stdout",
       "text": [
        "\r",
        "Computed shortest paths for frame 0"
       ]
      },
      {
       "output_type": "stream",
       "stream": "stdout",
       "text": [
        "\r",
        "Computed shortest paths for frame 1"
       ]
      },
      {
       "output_type": "stream",
       "stream": "stdout",
       "text": [
        "\r",
        "Computed shortest paths for frame 2"
       ]
      },
      {
       "output_type": "stream",
       "stream": "stdout",
       "text": [
        "\r",
        "Computed shortest paths for frame 3"
       ]
      },
      {
       "output_type": "stream",
       "stream": "stdout",
       "text": [
        "\r",
        "Computed shortest paths for frame 4"
       ]
      },
      {
       "output_type": "stream",
       "stream": "stdout",
       "text": [
        "\r",
        "Computed shortest paths for frame 5"
       ]
      },
      {
       "output_type": "stream",
       "stream": "stdout",
       "text": [
        "\r",
        "Computed shortest paths for frame 6"
       ]
      },
      {
       "output_type": "stream",
       "stream": "stdout",
       "text": [
        "\r",
        "Computed shortest paths for frame 7"
       ]
      },
      {
       "output_type": "stream",
       "stream": "stdout",
       "text": [
        "\r",
        "Computed shortest paths for frame 8"
       ]
      },
      {
       "output_type": "stream",
       "stream": "stdout",
       "text": [
        "\r",
        "Computed shortest paths for frame 9"
       ]
      },
      {
       "output_type": "stream",
       "stream": "stdout",
       "text": [
        "\r",
        "Computed shortest paths for frame 10"
       ]
      },
      {
       "output_type": "stream",
       "stream": "stdout",
       "text": [
        "\r",
        "Computed shortest paths for frame 11"
       ]
      },
      {
       "output_type": "stream",
       "stream": "stdout",
       "text": [
        "\r",
        "Computed shortest paths for frame 12"
       ]
      },
      {
       "output_type": "stream",
       "stream": "stdout",
       "text": [
        "\r",
        "Computed shortest paths for frame 13"
       ]
      },
      {
       "output_type": "stream",
       "stream": "stdout",
       "text": [
        "\r",
        "Computed shortest paths for frame 14"
       ]
      },
      {
       "output_type": "stream",
       "stream": "stdout",
       "text": [
        "\r",
        "Computed shortest paths for frame 15"
       ]
      },
      {
       "output_type": "stream",
       "stream": "stdout",
       "text": [
        "\r",
        "Computed shortest paths for frame 16"
       ]
      },
      {
       "output_type": "stream",
       "stream": "stdout",
       "text": [
        "\r",
        "Computed shortest paths for frame 17"
       ]
      },
      {
       "output_type": "stream",
       "stream": "stdout",
       "text": [
        "\r",
        "Computed shortest paths for frame 18"
       ]
      },
      {
       "output_type": "stream",
       "stream": "stdout",
       "text": [
        "\r",
        "Computed shortest paths for frame 19"
       ]
      },
      {
       "output_type": "stream",
       "stream": "stdout",
       "text": [
        "\r",
        "Computed shortest paths for frame 20"
       ]
      },
      {
       "output_type": "stream",
       "stream": "stdout",
       "text": [
        "\r",
        "Computed shortest paths for frame 21"
       ]
      },
      {
       "output_type": "stream",
       "stream": "stdout",
       "text": [
        "\r",
        "Computed shortest paths for frame 22"
       ]
      },
      {
       "output_type": "stream",
       "stream": "stdout",
       "text": [
        "\r",
        "Computed shortest paths for frame 23"
       ]
      },
      {
       "output_type": "stream",
       "stream": "stdout",
       "text": [
        "\r",
        "Computed shortest paths for frame 24"
       ]
      },
      {
       "output_type": "stream",
       "stream": "stdout",
       "text": [
        "\r",
        "Computed shortest paths for frame 25"
       ]
      },
      {
       "output_type": "stream",
       "stream": "stdout",
       "text": [
        "\r",
        "Computed shortest paths for frame 26"
       ]
      },
      {
       "output_type": "stream",
       "stream": "stdout",
       "text": [
        "\r",
        "Computed shortest paths for frame 27"
       ]
      },
      {
       "output_type": "stream",
       "stream": "stdout",
       "text": [
        "\n",
        "sigma 10.0\n",
        "[ 1.  1.  1.  1.  1.  1.  1.  1.  1.  1.  1.  1.  1.  1.  1.  1.  1.  1.\n",
        "  1.  1.  1.  1.  1.  1.  1.  1.  1.  1.]\n"
       ]
      }
     ],
     "prompt_number": 134
    },
    {
     "cell_type": "code",
     "collapsed": false,
     "input": [
      "## compute length of shortest path for each pair of nodes (uses number of edges as distance measure)\n",
      "shortPathLengths = np.ones(weightMat.shape, dtype=uint)*sys.float_info.max\n",
      "\n",
      "for i in frameGraph.nodes() :\n",
      "    paths = shortest_path(frameGraph, i)[0]\n",
      "#     print paths\n",
      "    for j in paths :\n",
      "        if j != i :\n",
      "            curr = j\n",
      "            length = 0\n",
      "            while curr != i :\n",
      "                length += 1\n",
      "                curr = paths[curr]\n",
      "            shortPathLengths[i, j] = length\n",
      "#             print i, j, length\n",
      "    sys.stdout.write('\\r' + \"Computed shortest paths for frame \" + np.string_(i))\n",
      "    sys.stdout.flush()\n",
      "\n",
      "print\n",
      "sigma = np.mean(shortPathLengths[np.where(shortPathLengths != sys.float_info.max)])\n",
      "print 'sigma', sigma\n",
      "pathProbMat = np.exp((-shortPathLengths)/sigma)\n",
      "normTerm = np.sum(pathProbMat, axis=1)\n",
      "normTerm = cv2.repeat(normTerm, 1, shortPathLengths.shape[1])\n",
      "pathProbMat = pathProbMat / normTerm\n",
      "pathProbMat[np.isnan(pathProbMat)] = 0.0"
     ],
     "language": "python",
     "metadata": {},
     "outputs": [
      {
       "output_type": "stream",
       "stream": "stdout",
       "text": [
        "\r",
        "Computed shortest paths for frame 0"
       ]
      },
      {
       "output_type": "stream",
       "stream": "stdout",
       "text": [
        "\r",
        "Computed shortest paths for frame 1"
       ]
      },
      {
       "output_type": "stream",
       "stream": "stdout",
       "text": [
        "\r",
        "Computed shortest paths for frame 2"
       ]
      },
      {
       "output_type": "stream",
       "stream": "stdout",
       "text": [
        "\r",
        "Computed shortest paths for frame 3"
       ]
      },
      {
       "output_type": "stream",
       "stream": "stdout",
       "text": [
        "\r",
        "Computed shortest paths for frame 4"
       ]
      },
      {
       "output_type": "stream",
       "stream": "stdout",
       "text": [
        "\r",
        "Computed shortest paths for frame 5"
       ]
      },
      {
       "output_type": "stream",
       "stream": "stdout",
       "text": [
        "\r",
        "Computed shortest paths for frame 6"
       ]
      },
      {
       "output_type": "stream",
       "stream": "stdout",
       "text": [
        "\r",
        "Computed shortest paths for frame 7"
       ]
      },
      {
       "output_type": "stream",
       "stream": "stdout",
       "text": [
        "\r",
        "Computed shortest paths for frame 8"
       ]
      },
      {
       "output_type": "stream",
       "stream": "stdout",
       "text": [
        "\r",
        "Computed shortest paths for frame 9"
       ]
      },
      {
       "output_type": "stream",
       "stream": "stdout",
       "text": [
        "\r",
        "Computed shortest paths for frame 10"
       ]
      },
      {
       "output_type": "stream",
       "stream": "stdout",
       "text": [
        "\r",
        "Computed shortest paths for frame 11"
       ]
      },
      {
       "output_type": "stream",
       "stream": "stdout",
       "text": [
        "\r",
        "Computed shortest paths for frame 12"
       ]
      },
      {
       "output_type": "stream",
       "stream": "stdout",
       "text": [
        "\r",
        "Computed shortest paths for frame 13"
       ]
      },
      {
       "output_type": "stream",
       "stream": "stdout",
       "text": [
        "\r",
        "Computed shortest paths for frame 14"
       ]
      },
      {
       "output_type": "stream",
       "stream": "stdout",
       "text": [
        "\r",
        "Computed shortest paths for frame 15"
       ]
      },
      {
       "output_type": "stream",
       "stream": "stdout",
       "text": [
        "\r",
        "Computed shortest paths for frame 16"
       ]
      },
      {
       "output_type": "stream",
       "stream": "stdout",
       "text": [
        "\r",
        "Computed shortest paths for frame 17"
       ]
      },
      {
       "output_type": "stream",
       "stream": "stdout",
       "text": [
        "\r",
        "Computed shortest paths for frame 18"
       ]
      },
      {
       "output_type": "stream",
       "stream": "stdout",
       "text": [
        "\r",
        "Computed shortest paths for frame 19"
       ]
      },
      {
       "output_type": "stream",
       "stream": "stdout",
       "text": [
        "\r",
        "Computed shortest paths for frame 20"
       ]
      },
      {
       "output_type": "stream",
       "stream": "stdout",
       "text": [
        "\r",
        "Computed shortest paths for frame 21"
       ]
      },
      {
       "output_type": "stream",
       "stream": "stdout",
       "text": [
        "\r",
        "Computed shortest paths for frame 22"
       ]
      },
      {
       "output_type": "stream",
       "stream": "stdout",
       "text": [
        "\r",
        "Computed shortest paths for frame 23"
       ]
      },
      {
       "output_type": "stream",
       "stream": "stdout",
       "text": [
        "\r",
        "Computed shortest paths for frame 24"
       ]
      },
      {
       "output_type": "stream",
       "stream": "stdout",
       "text": [
        "\r",
        "Computed shortest paths for frame 25"
       ]
      },
      {
       "output_type": "stream",
       "stream": "stdout",
       "text": [
        "\r",
        "Computed shortest paths for frame 26"
       ]
      },
      {
       "output_type": "stream",
       "stream": "stdout",
       "text": [
        "\r",
        "Computed shortest paths for frame 27"
       ]
      },
      {
       "output_type": "stream",
       "stream": "stdout",
       "text": [
        "\n",
        "sigma 7.87962962963\n"
       ]
      }
     ],
     "prompt_number": 92
    },
    {
     "cell_type": "code",
     "collapsed": false,
     "input": [
      "figure(); imshow(pathProbMat, interpolation='nearest')\n",
      "figure(); imshow(shortPathLengths, interpolation='nearest')"
     ],
     "language": "python",
     "metadata": {},
     "outputs": [
      {
       "metadata": {},
       "output_type": "pyout",
       "prompt_number": 137,
       "text": [
        "<matplotlib.image.AxesImage at 0x7efed22bb310>"
       ]
      }
     ],
     "prompt_number": 137
    },
    {
     "cell_type": "code",
     "collapsed": false,
     "input": [
      "np.sum(np.array([[0, 1],[2, 3]]), axis=1)"
     ],
     "language": "python",
     "metadata": {},
     "outputs": [
      {
       "metadata": {},
       "output_type": "pyout",
       "prompt_number": 301,
       "text": [
        "array([1, 5])"
       ]
      }
     ],
     "prompt_number": 301
    },
    {
     "cell_type": "code",
     "collapsed": false,
     "input": [
      "close(\"fig1\")\n",
      "## traverse graph starting from initialNode and randomize jump\n",
      "print initialNodes\n",
      "currentNode = initialNodes[1]\n",
      "finalFrames = []\n",
      "finalFrames.append(currentNode)\n",
      "print currentNode\n",
      "sequenceLength = 1.0\n",
      "maxSeqLength = 10.0\n",
      "destFrame = initialNodes[1]\n",
      "for i in xrange(0, 1000) :\n",
      "    print\n",
      "    print \"frame\", i, \"from\", currentNode\n",
      "    neighs = np.array(frameGraph.node_neighbors[currentNode], dtype=int)\n",
      "#     print neighs,\n",
      "#     print neighs\n",
      "    probs = []\n",
      "    for n in frameGraph.node_neighbors[currentNode] :\n",
      "        if len(frameGraph.node_neighbors[n]) > 0:\n",
      "#             probs.append(frameGraph.edge_weight((currentNode, n)))\n",
      "            probs.append(probMat[currentNode, n])\n",
      "        else :\n",
      "            neighs = np.delete(neighs, np.argwhere(neighs == n))\n",
      "    probs = np.array(probs)\n",
      "#     print neighs, probs\n",
      "    weights = np.ones_like(probs)\n",
      "#     ## give higher probability to next timewise frame\n",
      "#     if sequenceLength < randomicity :\n",
      "#         weights[np.where(neighs != currentNode + 1)] = 1.0/(randomicity - sequenceLength)\n",
      "#     else :\n",
      "#         weights[np.where(neighs == currentNode + 1)] = 0.0\n",
      "\n",
      "#     print weights, sequenceLength, randomicity, \n",
      "    \n",
      "    ## give higher probability to frame that is closest to destination representative frame\n",
      "#     print neighs\n",
      "#     print shortPathLengths[destFrame, neighs]\n",
      "#     print weights, weights+(1.0/shortPathLengths[destFrame, neighs])\n",
      "\n",
      "\n",
      "#     weights = 1.0/np.exp(shortPathLengths[destFrame, neighs]/np.abs(currentNode-destFrame))\n",
      "    \n",
      "#     ## give higher probability to next timewise frame\n",
      "#     if sequenceLength <= randomicity :\n",
      "#         weights[np.where(neighs == currentNode + 1)] *= randomicity - sequenceLength\n",
      "# #     else :\n",
      "# #         weights[np.where(neighs == currentNode + 1)] *= 0.0\n",
      "    \n",
      "#     weights /= np.sum(weights)\n",
      "# #     print weights, log(weights)\n",
      "    \n",
      "# #     print probs,\n",
      "#     probs *= weights\n",
      "\n",
      "    ## add the probability based on distance to destination\n",
      "#     print probs, neighs, destFrame\n",
      "    \n",
      "    probs /= np.sum(probs)\n",
      "    probs += pathProbMat[neighs, destFrame]/np.sum(pathProbMat[neighs, destFrame])\n",
      "    \n",
      "    ## increase probability of jumping based on how long the consequent sequence has been\n",
      "    p = np.exp(-np.power(sequenceLength-maxSeqLength, 2)/(maxSeqLength*4.0))\n",
      "    probs[np.where(neighs == currentNode + 1)] *= 1-p\n",
      "    probs[np.where(neighs != currentNode + 1)] *= p\n",
      "    \n",
      "#     print weights, neighs\n",
      "    probs /= np.sum(probs)\n",
      "    ## pick a random node to go to next\n",
      "    tmp = np.random.rand()\n",
      "    randNode = np.round(np.sum(np.cumsum(probs) < tmp))\n",
      "    newNode = neighs[randNode]#np.argmax(probs)]]\n",
      "    \n",
      "    if newNode == currentNode+1:\n",
      "        sequenceLength += 1.0\n",
      "    else :\n",
      "        print \"jump\",\n",
      "        sequenceLength = 1.0\n",
      "    \n",
      "    currentNode = newNode\n",
      "    finalFrames.append(currentNode)\n",
      "    print currentNode, sequenceLength, probs, pathProbMat[neighs, destFrame], neighs, tmp\n",
      "    \n",
      "    \n",
      "figure(\"fig1\"); plot(finalFrames, 'b', np.repeat(destFrame, len(finalFrames)), \"r\")"
     ],
     "language": "python",
     "metadata": {},
     "outputs": [
      {
       "output_type": "stream",
       "stream": "stdout",
       "text": [
        "[ 7 19]\n",
        "19\n",
        "\n",
        "frame 0 from 19\n",
        "20 2.0 [ 1.] [  5.65645822e-05] [20] 0.132015280439\n",
        "\n",
        "frame 1 from 20\n",
        "21 3.0 [ 1.] [ 0.00020179] [21] 0.224527542319\n",
        "\n",
        "frame 2 from 21\n",
        "22 4.0 [ 1.] [ 0.00054117] [22] 0.236671958895\n",
        "\n",
        "frame 3 from 22\n",
        "23 5.0 [ 1.] [ 0.00135113] [23] 0.163468607296\n",
        "\n",
        "frame 4 from 23\n",
        "24 6.0 [ 1.] [ 0.00362349] [24] 0.258204238193\n",
        "\n",
        "frame 5 from 24\n",
        "25 7.0 [ 1.] [ 0.01292669] [25] 0.590050807826\n",
        "\n",
        "frame 6 from 25\n",
        "jump 14 1.0 [ 0.15408498  0.55368996  0.14591975  0.14630531] [  5.33582374e-02   5.33582374e-02   3.82268727e-08   5.65645822e-05] [26 14  2 20] 0.190122507255\n",
        "\n",
        "frame 7 from 14\n",
        "jump 27 1.0 [ 0.73395025  0.26604975] [ 0.02045368  0.20417441] [15 27] 0.862034196746\n",
        "\n",
        "frame 8 from 27\n",
        "jump 18 1.0 [ 0.22583133  0.2415128   0.43952111  0.09313477] [ 0.05750843  0.14965645  0.4142774   0.        ] [16 17 18 19] 0.890977819907\n",
        "\n",
        "frame 9 from 18\n",
        "19 2.0 [ nan] [ 0.] [19] 0.566201575086\n",
        "\n",
        "frame 10 from 19\n",
        "20 3.0 [ 1.] [  5.65645822e-05] [20] 0.315090202121\n",
        "\n",
        "frame 11 from 20\n",
        "21 4.0 [ 1.] [ 0.00020179] [21] 0.217867551401\n",
        "\n",
        "frame 12 from 21\n",
        "22 5.0 [ 1.] [ 0.00054117] [22] 0.150284300064\n",
        "\n",
        "frame 13 from 22\n",
        "23 6.0 [ 1.] [ 0.00135113] [23] 0.0173004930105\n",
        "\n",
        "frame 14 from 23\n",
        "24 7.0 [ 1.] [ 0.00362349] [24] 0.317327517157\n",
        "\n",
        "frame 15 from 24\n",
        "25 8.0 [ 1.] [ 0.01292669] [25] 0.65667607706\n",
        "\n",
        "frame 16 from 25\n",
        "jump 14 1.0 [ 0.07056539  0.60835734  0.16032682  0.16075045] [  5.33582374e-02   5.33582374e-02   3.82268727e-08   5.65645822e-05] [26 14  2 20] 0.636679022185\n",
        "\n",
        "frame 17 from 14\n",
        "15 2.0 [ 0.73395025  0.26604975] [ 0.02045368  0.20417441] [15 27] 0.245138353557\n",
        "\n",
        "frame 18 from 15\n",
        "16 3.0 [ 1.] [ 0.05750843] [16] 0.268386315449\n",
        "\n",
        "frame 19 from 16\n",
        "17 4.0 [ 1.] [ 0.14965645] [17] 0.398499372285\n",
        "\n",
        "frame 20 from 17\n",
        "18 5.0 [ 1.] [ 0.4142774] [18] 0.0513191438485\n",
        "\n",
        "frame 21 from 18\n",
        "19 6.0 [ nan] [ 0.] [19] 0.455942676839\n",
        "\n",
        "frame 22 from 19\n",
        "20 7.0 [ 1.] [  5.65645822e-05] [20] 0.320799356895\n",
        "\n",
        "frame 23 from 20\n",
        "21 8.0 [ 1.] [ 0.00020179] [21] 0.562909160136\n",
        "\n",
        "frame 24 from 21\n",
        "22 9.0 [ 1.] [ 0.00054117] [22] 0.263609297737\n",
        "\n",
        "frame 25 from 22\n",
        "23 10.0 [ 1.] [ 0.00135113] [23] 0.0686992111637\n",
        "\n",
        "frame 26 from 23\n",
        "24 11.0 [ nan] [ 0.00362349] [24] 0.178261184798\n",
        "\n",
        "frame 27 from 24\n",
        "25 12.0 [ 1.] [ 0.01292669] [25] 0.063508912242\n",
        "\n",
        "frame 28 from 25\n",
        "jump 14 1.0 [ 0.07056539  0.60835734  0.16032682  0.16075045] [  5.33582374e-02   5.33582374e-02   3.82268727e-08   5.65645822e-05] [26 14  2 20] 0.656464315502\n",
        "\n",
        "frame 29 from 14\n",
        "15 2.0 [ 0.73395025  0.26604975] [ 0.02045368  0.20417441] [15 27] 0.497718612478\n",
        "\n",
        "frame 30 from 15\n",
        "16 3.0 [ 1.] [ 0.05750843] [16] 0.839982227367\n",
        "\n",
        "frame 31 from 16\n",
        "17 4.0 [ 1.] [ 0.14965645] [17] 0.174405001301\n",
        "\n",
        "frame 32 from 17\n",
        "18 5.0 [ 1.] [ 0.4142774] [18] 0.737202600654\n",
        "\n",
        "frame 33 from 18\n",
        "19 6.0 [ nan] [ 0.] [19] 0.663251032428\n",
        "\n",
        "frame 34 from 19\n",
        "20 7.0 [ 1.] [  5.65645822e-05] [20] 0.820921327198\n",
        "\n",
        "frame 35 from 20\n",
        "21 8.0 [ 1.] [ 0.00020179] [21] 0.0224526914715\n",
        "\n",
        "frame 36 from 21\n",
        "22 9.0 [ 1.] [ 0.00054117] [22] 0.0501656411331\n",
        "\n",
        "frame 37 from 22\n",
        "23 10.0 [ 1.] [ 0.00135113] [23] 0.0494957099675\n",
        "\n",
        "frame 38 from 23\n",
        "24 11.0 [ nan] [ 0.00362349] [24] 0.0698411604285\n",
        "\n",
        "frame 39 from 24\n",
        "25 12.0 [ 1.] [ 0.01292669] [25] 0.144809894712\n",
        "\n",
        "frame 40 from 25\n",
        "jump 14 1.0 [ 0.07056539  0.60835734  0.16032682  0.16075045] [  5.33582374e-02   5.33582374e-02   3.82268727e-08   5.65645822e-05] [26 14  2 20] 0.0814585088089\n",
        "\n",
        "frame 41 from 14\n",
        "15 2.0 [ 0.73395025  0.26604975] [ 0.02045368  0.20417441] [15 27] 0.209727056107\n",
        "\n",
        "frame 42 from 15\n",
        "16 3.0 [ 1.] [ 0.05750843] [16] 0.830066353235\n",
        "\n",
        "frame 43 from 16\n",
        "17 4.0 [ 1.] [ 0.14965645] [17] 0.444628434973\n",
        "\n",
        "frame 44 from 17\n",
        "18 5.0 [ 1.] [ 0.4142774] [18] 0.741498450498\n",
        "\n",
        "frame 45 from 18\n",
        "19 6.0 [ nan] [ 0.] [19] 0.322014799903\n",
        "\n",
        "frame 46 from 19\n",
        "20 7.0 [ 1.] [  5.65645822e-05] [20] 0.254064423111\n",
        "\n",
        "frame 47 from 20\n",
        "21 8.0 [ 1.] [ 0.00020179] [21] 0.574583317806\n",
        "\n",
        "frame 48 from 21\n",
        "22 9.0 [ 1.] [ 0.00054117] [22] 0.605049728351\n",
        "\n",
        "frame 49 from 22\n",
        "23 10.0 [ 1.] [ 0.00135113] [23] 0.712213845036\n",
        "\n",
        "frame 50 from 23\n",
        "24 11.0 [ nan] [ 0.00362349] [24] 0.659826766935\n",
        "\n",
        "frame 51 from 24\n",
        "25 12.0 [ 1.] [ 0.01292669] [25] 0.223010839739\n",
        "\n",
        "frame 52 from 25\n",
        "jump 14 1.0 [ 0.07056539  0.60835734  0.16032682  0.16075045] [  5.33582374e-02   5.33582374e-02   3.82268727e-08   5.65645822e-05] [26 14  2 20] 0.34502729104\n",
        "\n",
        "frame 53 from 14\n",
        "jump 27 1.0 [ 0.73395025  0.26604975] [ 0.02045368  0.20417441] [15 27] 0.879358638371\n",
        "\n",
        "frame 54 from 27\n",
        "jump 16 1.0 [ 0.22583133  0.2415128   0.43952111  0.09313477] [ 0.05750843  0.14965645  0.4142774   0.        ] [16 17 18 19] 0.165093434401\n",
        "\n",
        "frame 55 from 16\n",
        "17 2.0 [ 1.] [ 0.14965645] [17] 0.451614722155\n",
        "\n",
        "frame 56 from 17\n",
        "18 3.0 [ 1.] [ 0.4142774] [18] 0.178449104814\n",
        "\n",
        "frame 57 from 18\n",
        "19 4.0 [ nan] [ 0.] [19] 0.651037423886\n",
        "\n",
        "frame 58 from 19\n",
        "20 5.0 [ 1.] [  5.65645822e-05] [20] 0.869336985284\n",
        "\n",
        "frame 59 from 20\n",
        "21 6.0 [ 1.] [ 0.00020179] [21] 0.415930196439\n",
        "\n",
        "frame 60 from 21\n",
        "22 7.0 [ 1.] [ 0.00054117] [22] 0.424128137349\n",
        "\n",
        "frame 61 from 22\n",
        "23 8.0 [ 1.] [ 0.00135113] [23] 0.126714007756\n",
        "\n",
        "frame 62 from 23\n",
        "24 9.0 [ 1.] [ 0.00362349] [24] 0.677785587992\n",
        "\n",
        "frame 63 from 24\n",
        "25 10.0 [ 1.] [ 0.01292669] [25] 0.867075752457\n",
        "\n",
        "frame 64 from 25\n",
        "jump 2 1.0 [ 0.          0.65454561  0.1724993   0.17295509] [  5.33582374e-02   5.33582374e-02   3.82268727e-08   5.65645822e-05] [26 14  2 20] 0.787174390322\n",
        "\n",
        "frame 65 from 2\n",
        "3 2.0 [ 1.] [  1.36373256e-07] [3] 0.131649563894\n",
        "\n",
        "frame 66 from 3\n",
        "4 3.0 [ 1.] [  3.65729475e-07] [4] 0.130922945386\n",
        "\n",
        "frame 67 from 4\n",
        "5 4.0 [ 1.] [  9.13104472e-07] [5] 0.370893800882\n",
        "\n",
        "frame 68 from 5\n",
        "6 5.0 [ 1.] [  2.44878819e-06] [6] 0.355873774168\n",
        "\n",
        "frame 69 from 6\n",
        "7 6.0 [ 1.] [  8.73598062e-06] [7] 0.0458591538995\n",
        "\n",
        "frame 70 from 7\n",
        "8 7.0 [ 1.] [  3.52460170e-05] [8] 0.282097010946\n",
        "\n",
        "frame 71 from 8\n",
        "9 8.0 [ 1.] [ 0.0001302] [9] 0.632695315694\n",
        "\n",
        "frame 72 from 9\n",
        "10 9.0 [ 1.] [ 0.00037454] [10] 0.533962293894\n",
        "\n",
        "frame 73 from 10\n",
        "11 10.0 [ 1.] [ 0.00102394] [11] 0.924007968057\n",
        "\n",
        "frame 74 from 11\n",
        "12 11.0 [ nan] [ 0.0031166] [12] 0.66608031053\n",
        "\n",
        "frame 75 from 12\n",
        "jump 1 1.0 [ 0.02002589  0.64080036  0.33917374] [ 0.01237222  0.00833034  0.0031166 ] [13  1  0] 0.339289926039\n",
        "\n",
        "frame 76 from 1\n",
        "2 2.0 [ 0.57283043  0.19549214  0.05165624  0.18002119] [  3.82268727e-08   5.33582374e-02   5.65645822e-05   5.33582374e-02] [ 2 14 20 26] 0.0560692392683\n",
        "\n",
        "frame 77 from 2\n",
        "3 3.0 [ 1.] [  1.36373256e-07] [3] 0.0561478771918\n",
        "\n",
        "frame 78 from 3\n",
        "4 4.0 [ 1.] [  3.65729475e-07] [4]"
       ]
      },
      {
       "output_type": "stream",
       "stream": "stdout",
       "text": [
        " 0.0247528504891\n",
        "\n",
        "frame 79 from 4\n",
        "5 5.0 [ 1.] [  9.13104472e-07] [5] 0.018252710736\n",
        "\n",
        "frame 80 from 5\n",
        "6 6.0 [ 1.] [  2.44878819e-06] [6] 0.199990983261\n",
        "\n",
        "frame 81 from 6\n",
        "7 7.0 [ 1.] [  8.73598062e-06] [7] 0.985456134841\n",
        "\n",
        "frame 82 from 7\n",
        "8 8.0 [ 1.] [  3.52460170e-05] [8] 0.187900103747\n",
        "\n",
        "frame 83 from 8\n",
        "9 9.0 [ 1.] [ 0.0001302] [9] 0.41627486809\n",
        "\n",
        "frame 84 from 9\n",
        "10 10.0 [ 1.] [ 0.00037454] [10] 0.939521975624\n",
        "\n",
        "frame 85 from 10\n",
        "11 11.0 [ nan] [ 0.00102394] [11] 0.779785703516\n",
        "\n",
        "frame 86 from 11\n",
        "12 12.0 [ 1.] [ 0.0031166] [12] 0.383374403794\n",
        "\n",
        "frame 87 from 12\n",
        "jump 1 1.0 [ 0.07825362  0.60272553  0.31902085] [ 0.01237222  0.00833034  0.0031166 ] [13  1  0] 0.40443451565\n",
        "\n",
        "frame 88 from 1\n",
        "2 2.0 [ 0.57283043  0.19549214  0.05165624  0.18002119] [  3.82268727e-08   5.33582374e-02   5.65645822e-05   5.33582374e-02] [ 2 14 20 26] 0.473929844631\n",
        "\n",
        "frame 89 from 2\n",
        "3 3.0 [ 1.] [  1.36373256e-07] [3] 0.142897528605\n",
        "\n",
        "frame 90 from 3\n",
        "4 4.0 [ 1.] [  3.65729475e-07] [4] 0.47194437011\n",
        "\n",
        "frame 91 from 4\n",
        "5 5.0 [ 1.] [  9.13104472e-07] [5] 0.385739887737\n",
        "\n",
        "frame 92 from 5\n",
        "6 6.0 [ 1.] [  2.44878819e-06] [6] 0.115681983538\n",
        "\n",
        "frame 93 from 6\n",
        "7 7.0 [ 1.] [  8.73598062e-06] [7] 0.799312093696\n",
        "\n",
        "frame 94 from 7\n",
        "8 8.0 [ 1.] [  3.52460170e-05] [8] 0.0719776892207\n",
        "\n",
        "frame 95 from 8\n",
        "9 9.0 [ 1.] [ 0.0001302] [9] 0.346073805299\n",
        "\n",
        "frame 96 from 9\n",
        "10 10.0 [ 1.] [ 0.00037454] [10] 0.826186991133\n",
        "\n",
        "frame 97 from 10\n",
        "11 11.0 [ nan] [ 0.00102394] [11] 0.520174419392\n",
        "\n",
        "frame 98 from 11\n",
        "12 12.0 [ 1.] [ 0.0031166] [12] 0.892295924415\n",
        "\n",
        "frame 99 from 12\n",
        "jump 1 1.0 [ 0.07825362  0.60272553  0.31902085] [ 0.01237222  0.00833034  0.0031166 ] [13  1  0] 0.300347212626\n",
        "\n",
        "frame 100 from 1\n",
        "jump 26 1.0 [ 0.57283043  0.19549214  0.05165624  0.18002119] [  3.82268727e-08   5.33582374e-02   5.65645822e-05   5.33582374e-02] [ 2 14 20 26] 0.882490880205\n",
        "\n",
        "frame 101 from 26\n",
        "27 2.0 [ 0.94003348  0.05996652] [ 0.20417441  0.02045368] [27 15] 0.485064518363\n",
        "\n",
        "frame 102 from 27\n",
        "jump 18 1.0 [ 0.22583133  0.2415128   0.43952111  0.09313477] [ 0.05750843  0.14965645  0.4142774   0.        ] [16 17 18 19] 0.840229831314\n",
        "\n",
        "frame 103 from 18\n",
        "19 2.0 [ nan] [ 0.] [19] 0.841197685711\n",
        "\n",
        "frame 104 from 19\n",
        "20 3.0 [ 1.] [  5.65645822e-05] [20] 0.337270840047\n",
        "\n",
        "frame 105 from 20\n",
        "21 4.0 [ 1.] [ 0.00020179] [21] 0.330223193328\n",
        "\n",
        "frame 106 from 21\n",
        "22 5.0 [ 1.] [ 0.00054117] [22] 0.683623532845\n",
        "\n",
        "frame 107 from 22\n",
        "23 6.0 [ 1.] [ 0.00135113] [23] 0.386643810265\n",
        "\n",
        "frame 108 from 23\n",
        "24 7.0 [ 1.] [ 0.00362349] [24] 0.549541677427\n",
        "\n",
        "frame 109 from 24\n",
        "25 8.0 [ 1.] [ 0.01292669] [25] 0.442356601133\n",
        "\n",
        "frame 110 from 25\n",
        "jump 14 1.0 [ 0.07056539  0.60835734  0.16032682  0.16075045] [  5.33582374e-02   5.33582374e-02   3.82268727e-08   5.65645822e-05] [26 14  2 20] 0.505314101768\n",
        "\n",
        "frame 111 from 14\n",
        "15 2.0 [ 0.73395025  0.26604975] [ 0.02045368  0.20417441] [15 27] 0.305082469247\n",
        "\n",
        "frame 112 from 15\n",
        "16 3.0 [ 1.] [ 0.05750843] [16] 0.133983782531\n",
        "\n",
        "frame 113 from 16\n",
        "17 4.0 [ 1.] [ 0.14965645] [17] 0.324182281998\n",
        "\n",
        "frame 114 from 17\n",
        "18 5.0 [ 1.] [ 0.4142774] [18] 0.444772718211\n",
        "\n",
        "frame 115 from 18\n",
        "19 6.0 [ nan] [ 0.] [19] 0.955017346129\n",
        "\n",
        "frame 116 from 19\n",
        "20 7.0 [ 1.] [  5.65645822e-05] [20] 0.993091642869\n",
        "\n",
        "frame 117 from 20\n",
        "21 8.0 [ 1.] [ 0.00020179] [21] 0.0353952141453\n",
        "\n",
        "frame 118 from 21\n",
        "22 9.0 [ 1.] [ 0.00054117] [22] 0.166780788871\n",
        "\n",
        "frame 119 from 22\n",
        "23 10.0 [ 1.] [ 0.00135113] [23] 0.175945299397\n",
        "\n",
        "frame 120 from 23\n",
        "24 11.0 [ nan] [ 0.00362349] [24] 0.866638222044\n",
        "\n",
        "frame 121 from 24\n",
        "25 12.0 [ 1.] [ 0.01292669] [25] 0.35536466711\n",
        "\n",
        "frame 122 from 25\n",
        "jump 14 1.0 [ 0.07056539  0.60835734  0.16032682  0.16075045] [  5.33582374e-02   5.33582374e-02   3.82268727e-08   5.65645822e-05] [26 14  2 20] 0.0914999151058\n",
        "\n",
        "frame 123 from 14\n",
        "jump 27 1.0 [ 0.73395025  0.26604975] [ 0.02045368  0.20417441] [15 27] 0.875542078844\n",
        "\n",
        "frame 124 from 27\n",
        "jump 16 1.0 [ 0.22583133  0.2415128   0.43952111  0.09313477] [ 0.05750843  0.14965645  0.4142774   0.        ] [16 17 18 19] 0.161130487846\n",
        "\n",
        "frame 125 from 16\n",
        "17 2.0 [ 1.] [ 0.14965645] [17] 0.678154140844\n",
        "\n",
        "frame 126 from 17\n",
        "18 3.0 [ 1.] [ 0.4142774] [18] 0.170000430192\n",
        "\n",
        "frame 127 from 18\n",
        "19 4.0 [ nan] [ 0.] [19] 0.399010375217\n",
        "\n",
        "frame 128 from 19\n",
        "20 5.0 [ 1.] [  5.65645822e-05] [20] 0.377199439812\n",
        "\n",
        "frame 129 from 20\n",
        "21 6.0 [ 1.] [ 0.00020179] [21] 0.758817682539\n",
        "\n",
        "frame 130 from 21\n",
        "22 7.0 [ 1.] [ 0.00054117] [22] 0.475595771406\n",
        "\n",
        "frame 131 from 22\n",
        "23 8.0 [ 1.] [ 0.00135113] [23] 0.524233511441\n",
        "\n",
        "frame 132 from 23\n",
        "24 9.0 [ 1.] [ 0.00362349] [24] 0.81496301491\n",
        "\n",
        "frame 133 from 24\n",
        "25 10.0 [ 1.] [ 0.01292669] [25] 0.405045749333\n",
        "\n",
        "frame 134 from 25\n",
        "jump 14 1.0 [ 0.          0.65454561  0.1724993   0.17295509] [  5.33582374e-02   5.33582374e-02   3.82268727e-08   5.65645822e-05] [26 14  2 20] 0.554317086734\n",
        "\n",
        "frame 135 from 14\n",
        "15 2.0 [ 0.73395025  0.26604975] [ 0.02045368  0.20417441] [15 27] 0.409698142209\n",
        "\n",
        "frame 136 from 15\n",
        "16 3.0 [ 1.] [ 0.05750843] [16] 0.982385783407\n",
        "\n",
        "frame 137 from 16\n",
        "17 4.0 [ 1.] [ 0.14965645] [17] 0.913159496476\n",
        "\n",
        "frame 138 from 17\n",
        "18 5.0 [ 1.] [ 0.4142774] [18] 0.806596906487\n",
        "\n",
        "frame 139 from 18\n",
        "19 6.0 [ nan] [ 0.] [19] 0.0373622951937\n",
        "\n",
        "frame 140 from 19\n",
        "20 7.0 [ 1.] [  5.65645822e-05] [20] 0.0299200637053\n",
        "\n",
        "frame 141 from 20\n",
        "21 8.0 [ 1.] [ 0.00020179] [21] 0.380176401122\n",
        "\n",
        "frame 142 from 21\n",
        "22 9.0 [ 1.] [ 0.00054117] [22] 0.151354128668\n",
        "\n",
        "frame 143 from 22\n",
        "23 10.0 [ 1.] [ 0.00135113] [23] 0.65623594744\n",
        "\n",
        "frame 144 from 23\n",
        "24 11.0 [ nan] [ 0.00362349] [24] 0.804908114764\n",
        "\n",
        "frame 145 from 24\n",
        "25 12.0 [ 1.] [ 0.01292669] [25] 0.82578161832\n",
        "\n",
        "frame 146 from 25\n",
        "jump 20 1.0 [ 0.07056539  0.60835734  0.16032682  0.16075045]"
       ]
      },
      {
       "output_type": "stream",
       "stream": "stdout",
       "text": [
        " [  5.33582374e-02   5.33582374e-02   3.82268727e-08   5.65645822e-05] [26 14  2 20] 0.925726442666\n",
        "\n",
        "frame 147 from 20\n",
        "21 2.0 [ 1.] [ 0.00020179] [21] 0.214017881209\n",
        "\n",
        "frame 148 from 21\n",
        "22 3.0 [ 1.] [ 0.00054117] [22] 0.62907463836\n",
        "\n",
        "frame 149 from 22\n",
        "23 4.0 [ 1.] [ 0.00135113] [23] 0.244434146911\n",
        "\n",
        "frame 150 from 23\n",
        "24 5.0 [ 1.] [ 0.00362349] [24] 0.960000840898\n",
        "\n",
        "frame 151 from 24\n",
        "25 6.0 [ 1.] [ 0.01292669] [25] 0.353468219641\n",
        "\n",
        "frame 152 from 25\n",
        "26 7.0 [ 0.26201898  0.48304224  0.12730121  0.12763758] [  5.33582374e-02   5.33582374e-02   3.82268727e-08   5.65645822e-05] [26 14  2 20] 0.00176784880009\n",
        "\n",
        "frame 153 from 26\n",
        "27 8.0 [ 0.37557788  0.62442212] [ 0.20417441  0.02045368] [27 15] 0.332110188623\n",
        "\n",
        "frame 154 from 27\n",
        "jump 18 1.0 [ 0.22583133  0.2415128   0.43952111  0.09313477] [ 0.05750843  0.14965645  0.4142774   0.        ] [16 17 18 19] 0.628282067952\n",
        "\n",
        "frame 155 from 18\n",
        "19 2.0 [ nan] [ 0.] [19] 0.89503488461\n",
        "\n",
        "frame 156 from 19\n",
        "20 3.0 [ 1.] [  5.65645822e-05] [20] 0.599041375016\n",
        "\n",
        "frame 157 from 20\n",
        "21 4.0 [ 1.] [ 0.00020179] [21] 0.798768615327\n",
        "\n",
        "frame 158 from 21\n",
        "22 5.0 [ 1.] [ 0.00054117] [22] 0.364960315936\n",
        "\n",
        "frame 159 from 22\n",
        "23 6.0 [ 1.] [ 0.00135113] [23] 0.961075557826\n",
        "\n",
        "frame 160 from 23\n",
        "24 7.0 [ 1.] [ 0.00362349] [24] 0.797519025972\n",
        "\n",
        "frame 161 from 24\n",
        "25 8.0 [ 1.] [ 0.01292669] [25] 0.565648491422\n",
        "\n",
        "frame 162 from 25\n",
        "jump 14 1.0 [ 0.07056539  0.60835734  0.16032682  0.16075045] [  5.33582374e-02   5.33582374e-02   3.82268727e-08   5.65645822e-05] [26 14  2 20] 0.13632833329\n",
        "\n",
        "frame 163 from 14\n",
        "15 2.0 [ 0.73395025  0.26604975] [ 0.02045368  0.20417441] [15 27] 0.000929435808323\n",
        "\n",
        "frame 164 from 15\n",
        "16 3.0 [ 1.] [ 0.05750843] [16] 0.190070280049\n",
        "\n",
        "frame 165 from 16\n",
        "17 4.0 [ 1.] [ 0.14965645] [17] 0.626151644742\n",
        "\n",
        "frame 166 from 17\n",
        "18 5.0 [ 1.] [ 0.4142774] [18] 0.67808448382\n",
        "\n",
        "frame 167 from 18\n",
        "19 6.0 [ nan] [ 0.] [19] 0.434452753341\n",
        "\n",
        "frame 168 from 19\n",
        "20 7.0 [ 1.] [  5.65645822e-05] [20] 0.254187527571\n",
        "\n",
        "frame 169 from 20\n",
        "21 8.0 [ 1.] [ 0.00020179] [21] 0.856788383555\n",
        "\n",
        "frame 170 from 21\n",
        "22 9.0 [ 1.] [ 0.00054117] [22] 0.928108607077\n",
        "\n",
        "frame 171 from 22\n",
        "23 10.0 [ 1.] [ 0.00135113] [23] 0.474823906574\n",
        "\n",
        "frame 172 from 23\n",
        "24 11.0 [ nan] [ 0.00362349] [24] 0.128120779994\n",
        "\n",
        "frame 173 from 24\n",
        "25 12.0 [ 1.] [ 0.01292669] [25] 0.760090137242\n",
        "\n",
        "frame 174 from 25\n",
        "jump 14 1.0 [ 0.07056539  0.60835734  0.16032682  0.16075045] [  5.33582374e-02   5.33582374e-02   3.82268727e-08   5.65645822e-05] [26 14  2 20] 0.492092599673\n",
        "\n",
        "frame 175 from 14\n",
        "15 2.0 [ 0.73395025  0.26604975] [ 0.02045368  0.20417441] [15 27] 0.0448450063251\n",
        "\n",
        "frame 176 from 15\n",
        "16 3.0 [ 1.] [ 0.05750843] [16] 0.253579754892\n",
        "\n",
        "frame 177 from 16\n",
        "17 4.0 [ 1.] [ 0.14965645] [17] 0.37355211146\n",
        "\n",
        "frame 178 from 17\n",
        "18 5.0 [ 1.] [ 0.4142774] [18] 0.0330420322388\n",
        "\n",
        "frame 179 from 18\n",
        "19 6.0 [ nan] [ 0.] [19] 0.925837096072\n",
        "\n",
        "frame 180 from 19\n",
        "20 7.0 [ 1.] [  5.65645822e-05] [20] 0.618813619654\n",
        "\n",
        "frame 181 from 20\n",
        "21 8.0 [ 1.] [ 0.00020179] [21] 0.617513494166\n",
        "\n",
        "frame 182 from 21\n",
        "22 9.0 [ 1.] [ 0.00054117] [22] 0.336925359095\n",
        "\n",
        "frame 183 from 22\n",
        "23 10.0 [ 1.] [ 0.00135113] [23] 0.261394535549\n",
        "\n",
        "frame 184 from 23\n",
        "24 11.0 [ nan] [ 0.00362349] [24] 0.0772840529265\n",
        "\n",
        "frame 185 from 24\n",
        "25 12.0 [ 1.] [ 0.01292669] [25] 0.635932859981\n",
        "\n",
        "frame 186 from 25\n",
        "jump 14 1.0 [ 0.07056539  0.60835734  0.16032682  0.16075045] [  5.33582374e-02   5.33582374e-02   3.82268727e-08   5.65645822e-05] [26 14  2 20] 0.576484571909\n",
        "\n",
        "frame 187 from 14\n",
        "15 2.0 [ 0.73395025  0.26604975] [ 0.02045368  0.20417441] [15 27] 0.0619588839308\n",
        "\n",
        "frame 188 from 15\n",
        "16 3.0 [ 1.] [ 0.05750843] [16] 0.32743926238\n",
        "\n",
        "frame 189 from 16\n",
        "17 4.0 [ 1.] [ 0.14965645] [17] 0.661522977948\n",
        "\n",
        "frame 190 from 17\n",
        "18 5.0 [ 1.] [ 0.4142774] [18] 0.436598362487\n",
        "\n",
        "frame 191 from 18\n",
        "19 6.0 [ nan] [ 0.] [19] 0.487381990522\n",
        "\n",
        "frame 192 from 19\n",
        "20 7.0 [ 1.] [  5.65645822e-05] [20] 0.628565544873\n",
        "\n",
        "frame 193 from 20\n",
        "21 8.0 [ 1.] [ 0.00020179] [21] 0.749745705419\n",
        "\n",
        "frame 194 from 21\n",
        "22 9.0 [ 1.] [ 0.00054117] [22] 0.435127680629\n",
        "\n",
        "frame 195 from 22\n",
        "23 10.0 [ 1.] [ 0.00135113] [23] 0.880903279777\n",
        "\n",
        "frame 196 from 23\n",
        "24 11.0 [ nan] [ 0.00362349] [24] 0.715425655807\n",
        "\n",
        "frame 197 from 24\n",
        "25 12.0 [ 1.] [ 0.01292669] [25] 0.902546704361\n",
        "\n",
        "frame 198 from 25\n",
        "jump 14 1.0 [ 0.07056539  0.60835734  0.16032682  0.16075045] [  5.33582374e-02   5.33582374e-02   3.82268727e-08   5.65645822e-05] [26 14  2 20] 0.657716077396\n",
        "\n",
        "frame 199 from 14\n",
        "jump 27 1.0 [ 0.73395025  0.26604975] [ 0.02045368  0.20417441] [15 27] 0.783180752203\n",
        "\n",
        "frame 200 from 27\n",
        "jump 18 1.0 [ 0.22583133  0.2415128   0.43952111  0.09313477] [ 0.05750843  0.14965645  0.4142774   0.        ] [16 17 18 19] 0.644571174227\n",
        "\n",
        "frame 201 from 18\n",
        "19 2.0 [ nan] [ 0.] [19] 0.154210330445\n",
        "\n",
        "frame 202 from 19\n",
        "20 3.0 [ 1.] [  5.65645822e-05] [20] 0.960279963024\n",
        "\n",
        "frame 203 from 20\n",
        "21 4.0 [ 1.] [ 0.00020179] [21] 0.790540493501\n",
        "\n",
        "frame 204 from 21\n",
        "22 5.0 [ 1.] [ 0.00054117] [22] 0.732486466378\n",
        "\n",
        "frame 205 from 22\n",
        "23 6.0 [ 1.] [ 0.00135113] [23] 0.323625711966\n",
        "\n",
        "frame 206 from 23\n",
        "24 7.0 [ 1.] [ 0.00362349] [24] 0.997661480335\n",
        "\n",
        "frame 207 from 24\n",
        "25 8.0 [ 1.] [ 0.01292669] [25] 0.444887754733\n",
        "\n",
        "frame 208 from 25\n",
        "jump 14 1.0 [ 0.07056539  0.60835734  0.16032682  0.16075045] [  5.33582374e-02   5.33582374e-02   3.82268727e-08   5.65645822e-05] [26 14  2 20] 0.676934304458\n",
        "\n",
        "frame 209 from 14\n",
        "jump 27 1.0 [ 0.73395025  0.26604975] [ 0.02045368  0.20417441] [15 27] 0.990696395918\n",
        "\n",
        "frame 210 from 27\n",
        "jump"
       ]
      },
      {
       "output_type": "stream",
       "stream": "stdout",
       "text": [
        " 18 1.0 [ 0.22583133  0.2415128   0.43952111  0.09313477] [ 0.05750843  0.14965645  0.4142774   0.        ] [16 17 18 19] 0.90215581638\n",
        "\n",
        "frame 211 from 18\n",
        "19 2.0 [ nan] [ 0.] [19] 0.467153921001\n",
        "\n",
        "frame 212 from 19\n",
        "20 3.0 [ 1.] [  5.65645822e-05] [20] 0.791254112933\n",
        "\n",
        "frame 213 from 20\n",
        "21 4.0 [ 1.] [ 0.00020179] [21] 0.543458059964\n",
        "\n",
        "frame 214 from 21\n",
        "22 5.0 [ 1.] [ 0.00054117] [22] 0.474989571478\n",
        "\n",
        "frame 215 from 22\n",
        "23 6.0 [ 1.] [ 0.00135113] [23] 0.395231820977\n",
        "\n",
        "frame 216 from 23\n",
        "24 7.0 [ 1.] [ 0.00362349] [24] 0.503774229434\n",
        "\n",
        "frame 217 from 24\n",
        "25 8.0 [ 1.] [ 0.01292669] [25] 0.137219613207\n",
        "\n",
        "frame 218 from 25\n",
        "jump 14 1.0 [ 0.07056539  0.60835734  0.16032682  0.16075045] [  5.33582374e-02   5.33582374e-02   3.82268727e-08   5.65645822e-05] [26 14  2 20] 0.16637175693\n",
        "\n",
        "frame 219 from 14\n",
        "15 2.0 [ 0.73395025  0.26604975] [ 0.02045368  0.20417441] [15 27] 0.206723667796\n",
        "\n",
        "frame 220 from 15\n",
        "16 3.0 [ 1.] [ 0.05750843] [16] 0.0224989112646\n",
        "\n",
        "frame 221 from 16\n",
        "17 4.0 [ 1.] [ 0.14965645] [17] 0.974997615966\n",
        "\n",
        "frame 222 from 17\n",
        "18 5.0 [ 1.] [ 0.4142774] [18] 0.589342795241\n",
        "\n",
        "frame 223 from 18\n",
        "19 6.0 [ nan] [ 0.] [19] 0.803087125512\n",
        "\n",
        "frame 224 from 19\n",
        "20 7.0 [ 1.] [  5.65645822e-05] [20] 0.653702778885\n",
        "\n",
        "frame 225 from 20\n",
        "21 8.0 [ 1.] [ 0.00020179] [21] 0.435301938767\n",
        "\n",
        "frame 226 from 21\n",
        "22 9.0 [ 1.] [ 0.00054117] [22] 0.572966692917\n",
        "\n",
        "frame 227 from 22\n",
        "23 10.0 [ 1.] [ 0.00135113] [23] 0.491381842585\n",
        "\n",
        "frame 228 from 23\n",
        "24 11.0 [ nan] [ 0.00362349] [24] 0.805807081911\n",
        "\n",
        "frame 229 from 24\n",
        "25 12.0 [ 1.] [ 0.01292669] [25] 0.0569825115652\n",
        "\n",
        "frame 230 from 25\n",
        "jump 14 1.0 [ 0.07056539  0.60835734  0.16032682  0.16075045] [  5.33582374e-02   5.33582374e-02   3.82268727e-08   5.65645822e-05] [26 14  2 20] 0.290021985444\n",
        "\n",
        "frame 231 from 14\n",
        "jump 27 1.0 [ 0.73395025  0.26604975] [ 0.02045368  0.20417441] [15 27] 0.849998333737\n",
        "\n",
        "frame 232 from 27\n",
        "jump 19 1.0 [ 0.22583133  0.2415128   0.43952111  0.09313477] [ 0.05750843  0.14965645  0.4142774   0.        ] [16 17 18 19] 0.972077845789\n",
        "\n",
        "frame 233 from 19\n",
        "20 2.0 [ 1.] [  5.65645822e-05] [20] 0.493747150654\n",
        "\n",
        "frame 234 from 20\n",
        "21 3.0 [ 1.] [ 0.00020179] [21] 0.806297608879\n",
        "\n",
        "frame 235 from 21\n",
        "22 4.0 [ 1.] [ 0.00054117] [22] 0.0593490913631\n",
        "\n",
        "frame 236 from 22\n",
        "23 5.0 [ 1.] [ 0.00135113] [23] 0.60731110686\n",
        "\n",
        "frame 237 from 23\n",
        "24 6.0 [ 1.] [ 0.00362349] [24] 0.186465521693\n",
        "\n",
        "frame 238 from 24\n",
        "25 7.0 [ 1.] [ 0.01292669] [25] 0.508055980476\n",
        "\n",
        "frame 239 from 25\n",
        "jump 14 1.0 [ 0.15408498  0.55368996  0.14591975  0.14630531] [  5.33582374e-02   5.33582374e-02   3.82268727e-08   5.65645822e-05] [26 14  2 20] 0.410911043139\n",
        "\n",
        "frame 240 from 14\n",
        "15 2.0 [ 0.73395025  0.26604975] [ 0.02045368  0.20417441] [15 27] 0.663307516325\n",
        "\n",
        "frame 241 from 15\n",
        "16 3.0 [ 1.] [ 0.05750843] [16] 0.800289176183\n",
        "\n",
        "frame 242 from 16\n",
        "17 4.0 [ 1.] [ 0.14965645] [17] 0.847192864241\n",
        "\n",
        "frame 243 from 17\n",
        "18 5.0 [ 1.] [ 0.4142774] [18] 0.452685872234\n",
        "\n",
        "frame 244 from 18\n",
        "19 6.0 [ nan] [ 0.] [19] 0.0571927231335\n",
        "\n",
        "frame 245 from 19\n",
        "20 7.0 [ 1.] [  5.65645822e-05] [20] 0.111487464582\n",
        "\n",
        "frame 246 from 20\n",
        "21 8.0 [ 1.] [ 0.00020179] [21] 0.292652974014\n",
        "\n",
        "frame 247 from 21\n",
        "22 9.0 [ 1.] [ 0.00054117] [22] 0.659785464642\n",
        "\n",
        "frame 248 from 22\n",
        "23 10.0 [ 1.] [ 0.00135113] [23] 0.453075819576\n",
        "\n",
        "frame 249 from 23\n",
        "24 11.0 [ nan] [ 0.00362349] [24] 0.060543259155\n",
        "\n",
        "frame 250 from 24\n",
        "25 12.0 [ 1.] [ 0.01292669] [25] 0.873097366826\n",
        "\n",
        "frame 251 from 25\n",
        "jump 14 1.0 [ 0.07056539  0.60835734  0.16032682  0.16075045] [  5.33582374e-02   5.33582374e-02   3.82268727e-08   5.65645822e-05] [26 14  2 20] 0.561911191558\n",
        "\n",
        "frame 252 from 14\n",
        "15 2.0 [ 0.73395025  0.26604975] [ 0.02045368  0.20417441] [15 27] 0.525100474178\n",
        "\n",
        "frame 253 from 15\n",
        "16 3.0 [ 1.] [ 0.05750843] [16] 0.475897809589\n",
        "\n",
        "frame 254 from 16\n",
        "17 4.0 [ 1.] [ 0.14965645] [17] 0.488532356051\n",
        "\n",
        "frame 255 from 17\n",
        "18 5.0 [ 1.] [ 0.4142774] [18] 0.17943231668\n",
        "\n",
        "frame 256 from 18\n",
        "19 6.0 [ nan] [ 0.] [19] 0.286484143849\n",
        "\n",
        "frame 257 from 19\n",
        "20 7.0 [ 1.] [  5.65645822e-05] [20] 0.0165276743201\n",
        "\n",
        "frame 258 from 20\n",
        "21 8.0 [ 1.] [ 0.00020179]"
       ]
      },
      {
       "output_type": "stream",
       "stream": "stdout",
       "text": [
        " [21] 0.968221881096\n",
        "\n",
        "frame 259 from 21\n",
        "22 9.0 [ 1.] [ 0.00054117] [22] 0.747242973301\n",
        "\n",
        "frame 260 from 22\n",
        "23 10.0 [ 1.] [ 0.00135113] [23] 0.399761430253\n",
        "\n",
        "frame 261 from 23\n",
        "24 11.0 [ nan] [ 0.00362349] [24] 0.203859909898\n",
        "\n",
        "frame 262 from 24\n",
        "25 12.0 [ 1.] [ 0.01292669] [25] 0.469571507535\n",
        "\n",
        "frame 263 from 25\n",
        "jump 14 1.0 [ 0.07056539  0.60835734  0.16032682  0.16075045] [  5.33582374e-02   5.33582374e-02   3.82268727e-08   5.65645822e-05] [26 14  2 20] 0.418063967952\n",
        "\n",
        "frame 264 from 14\n",
        "jump 27 1.0 [ 0.73395025  0.26604975] [ 0.02045368  0.20417441] [15 27] 0.804854736836\n",
        "\n",
        "frame 265 from 27\n",
        "jump 18 1.0 [ 0.22583133  0.2415128   0.43952111  0.09313477] [ 0.05750843  0.14965645  0.4142774   0.        ] [16 17 18 19] 0.648335979668\n",
        "\n",
        "frame 266 from 18\n",
        "19 2.0 [ nan] [ 0.] [19] 0.719099931247\n",
        "\n",
        "frame 267 from 19\n",
        "20 3.0 [ 1.] [  5.65645822e-05] [20] 0.409844087707\n",
        "\n",
        "frame 268 from 20\n",
        "21 4.0 [ 1.] [ 0.00020179] [21] 0.154905929529\n",
        "\n",
        "frame 269 from 21\n",
        "22 5.0 [ 1.] [ 0.00054117] [22] 0.832997451863\n",
        "\n",
        "frame 270 from 22\n",
        "23 6.0 [ 1.] [ 0.00135113] [23] 0.57090484794\n",
        "\n",
        "frame 271 from 23\n",
        "24 7.0 [ 1.] [ 0.00362349] [24] 0.0397948670852\n",
        "\n",
        "frame 272 from 24\n",
        "25 8.0 [ 1.] [ 0.01292669] [25] 0.0177219370794\n",
        "\n",
        "frame 273 from 25\n",
        "jump 14 1.0 [ 0.07056539  0.60835734  0.16032682  0.16075045] [  5.33582374e-02   5.33582374e-02   3.82268727e-08   5.65645822e-05] [26 14  2 20] 0.428214556901\n",
        "\n",
        "frame 274 from 14\n",
        "jump 27 1.0 [ 0.73395025  0.26604975] [ 0.02045368  0.20417441] [15 27] 0.910694687414\n",
        "\n",
        "frame 275 from 27\n",
        "jump 18 1.0 [ 0.22583133  0.2415128   0.43952111  0.09313477] [ 0.05750843  0.14965645  0.4142774   0.        ] [16 17 18 19] 0.511481674418\n",
        "\n",
        "frame 276 from 18\n",
        "19 2.0 [ nan] [ 0.] [19] 0.107609960015\n",
        "\n",
        "frame 277 from 19\n",
        "20 3.0 [ 1.] [  5.65645822e-05] [20] 0.738753260668\n",
        "\n",
        "frame 278 from 20\n",
        "21 4.0 [ 1.] [ 0.00020179] [21] 0.817007842588\n",
        "\n",
        "frame 279 from 21\n",
        "22 5.0 [ 1.] [ 0.00054117] [22] 0.298752856412\n",
        "\n",
        "frame 280 from 22\n",
        "23 6.0 [ 1.] [ 0.00135113] [23] 0.628525982308\n",
        "\n",
        "frame 281 from 23\n",
        "24 7.0 [ 1.] [ 0.00362349] [24] 0.934323368552\n",
        "\n",
        "frame 282 from 24\n",
        "25 8.0 [ 1.] [ 0.01292669] [25] 0.897793590535\n",
        "\n",
        "frame 283 from 25\n",
        "jump 14 1.0 [ 0.07056539  0.60835734  0.16032682  0.16075045] [  5.33582374e-02   5.33582374e-02   3.82268727e-08   5.65645822e-05] [26 14  2 20] 0.507568211814\n",
        "\n",
        "frame 284 from 14\n",
        "jump 27 1.0 [ 0.73395025  0.26604975] [ 0.02045368  0.20417441] [15 27] 0.852623621292\n",
        "\n",
        "frame 285 from 27\n",
        "jump 17 1.0 [ 0.22583133  0.2415128   0.43952111  0.09313477] [ 0.05750843  0.14965645  0.4142774   0.        ] [16 17 18 19] 0.271999659692\n",
        "\n",
        "frame 286 from 17\n",
        "18 2.0 [ 1.] [ 0.4142774] [18] 0.96169690889\n",
        "\n",
        "frame 287 from 18\n",
        "19 3.0 [ nan] [ 0.] [19] 0.0945010557606\n",
        "\n",
        "frame 288 from 19\n",
        "20 4.0 [ 1.] [  5.65645822e-05] [20] 0.0558772634836\n",
        "\n",
        "frame 289 from 20\n",
        "21 5.0 [ 1.] [ 0.00020179] [21] 0.768152162127\n",
        "\n",
        "frame 290 from 21\n",
        "22 6.0 [ 1.] [ 0.00054117] [22] 0.756179295751\n",
        "\n",
        "frame 291 from 22\n",
        "23 7.0 [ 1.] [ 0.00135113] [23] 0.889282471386\n",
        "\n",
        "frame 292 from 23\n",
        "24 8.0 [ 1.] [ 0.00362349] [24] 0.405898317665\n",
        "\n",
        "frame 293 from 24\n",
        "25 9.0 [ 1.] [ 0.01292669] [25] 0.305464022546\n",
        "\n",
        "frame 294 from 25\n",
        "jump 20 1.0 [ 0.01794701  0.64279847  0.16940345  0.16985107] [  5.33582374e-02   5.33582374e-02   3.82268727e-08   5.65645822e-05] [26 14  2 20] 0.985277082433\n",
        "\n",
        "frame 295 from 20\n",
        "21 2.0 [ 1.] [ 0.00020179] [21] 0.73059213559\n",
        "\n",
        "frame 296 from 21\n",
        "22 3.0 [ 1.] [ 0.00054117] [22] 0.823252751091\n",
        "\n",
        "frame 297 from 22\n",
        "23 4.0 [ 1.] [ 0.00135113] [23] 0.273793017023\n",
        "\n",
        "frame 298 from 23\n",
        "24 5.0 [ 1.] [ 0.00362349] [24] 0.187123783118\n",
        "\n",
        "frame 299 from 24\n",
        "25 6.0 [ 1.] [ 0.01292669] [25] 0.29690233798\n",
        "\n",
        "frame 300 from 25\n",
        "26 7.0 [ 0.26201898  0.48304224  0.12730121  0.12763758] [  5.33582374e-02   5.33582374e-02   3.82268727e-08   5.65645822e-05] [26 14  2 20] 0.115168561788\n",
        "\n",
        "frame 301 from 26\n",
        "27 8.0 [ 0.37557788  0.62442212] [ 0.20417441  0.02045368] [27 15] 0.287959182066\n",
        "\n",
        "frame 302 from 27\n",
        "jump 18 1.0 [ 0.22583133  0.2415128   0.43952111  0.09313477] [ 0.05750843  0.14965645  0.4142774   0.        ] [16 17 18 19] 0.773303727872\n",
        "\n",
        "frame 303 from 18\n",
        "19 2.0 [ nan] [ 0.] [19] 0.778495414766\n",
        "\n",
        "frame 304 from 19\n",
        "20 3.0 [ 1.] [  5.65645822e-05] [20] 0.542469072934\n",
        "\n",
        "frame 305 from 20\n",
        "21 4.0 [ 1.] [ 0.00020179] [21] 0.992198169672\n",
        "\n",
        "frame 306 from 21\n",
        "22"
       ]
      },
      {
       "output_type": "stream",
       "stream": "stdout",
       "text": [
        " 5.0 [ 1.] [ 0.00054117] [22] 0.350582574489\n",
        "\n",
        "frame 307 from 22\n",
        "23 6.0 [ 1.] [ 0.00135113] [23] 0.0176752820033\n",
        "\n",
        "frame 308 from 23\n",
        "24 7.0 [ 1.] [ 0.00362349] [24] 0.816903211632\n",
        "\n",
        "frame 309 from 24\n",
        "25 8.0 [ 1.] [ 0.01292669] [25] 0.713453245153\n",
        "\n",
        "frame 310 from 25\n",
        "jump 14 1.0 [ 0.07056539  0.60835734  0.16032682  0.16075045] [  5.33582374e-02   5.33582374e-02   3.82268727e-08   5.65645822e-05] [26 14  2 20] 0.341837478295\n",
        "\n",
        "frame 311 from 14\n",
        "15 2.0 [ 0.73395025  0.26604975] [ 0.02045368  0.20417441] [15 27] 0.48495474578\n",
        "\n",
        "frame 312 from 15\n",
        "16 3.0 [ 1.] [ 0.05750843] [16] 0.582171131948\n",
        "\n",
        "frame 313 from 16\n",
        "17 4.0 [ 1.] [ 0.14965645] [17] 0.144017819709\n",
        "\n",
        "frame 314 from 17\n",
        "18 5.0 [ 1.] [ 0.4142774] [18] 0.973807391429\n",
        "\n",
        "frame 315 from 18\n",
        "19 6.0 [ nan] [ 0.] [19] 0.335346566368\n",
        "\n",
        "frame 316 from 19\n",
        "20 7.0 [ 1.] [  5.65645822e-05] [20] 0.89535806737\n",
        "\n",
        "frame 317 from 20\n",
        "21 8.0 [ 1.] [ 0.00020179] [21] 0.253333719364\n",
        "\n",
        "frame 318 from 21\n",
        "22 9.0 [ 1.] [ 0.00054117] [22] 0.583821205654\n",
        "\n",
        "frame 319 from 22\n",
        "23 10.0 [ 1.] [ 0.00135113] [23] 0.0571514309389\n",
        "\n",
        "frame 320 from 23\n",
        "24 11.0 [ nan] [ 0.00362349] [24] 0.00807518772929\n",
        "\n",
        "frame 321 from 24\n",
        "25 12.0 [ 1.] [ 0.01292669] [25] 0.70567451522\n",
        "\n",
        "frame 322 from 25\n",
        "jump 2 1.0 [ 0.07056539  0.60835734  0.16032682  0.16075045] [  5.33582374e-02   5.33582374e-02   3.82268727e-08   5.65645822e-05] [26 14  2 20] 0.724873815821\n",
        "\n",
        "frame 323 from 2\n",
        "3 2.0 [ 1.] [  1.36373256e-07] [3] 0.801434087923\n",
        "\n",
        "frame 324 from 3\n",
        "4 3.0 [ 1.] [  3.65729475e-07] [4] 0.615339414627\n",
        "\n",
        "frame 325 from 4\n",
        "5 4.0 [ 1.] [  9.13104472e-07] [5] 0.269649401141\n",
        "\n",
        "frame 326 from 5\n",
        "6 5.0 [ 1.] [  2.44878819e-06] [6] 0.370659654795\n",
        "\n",
        "frame 327 from 6\n",
        "7 6.0 [ 1.] [  8.73598062e-06] [7] 0.921034493071\n",
        "\n",
        "frame 328 from 7\n",
        "8 7.0 [ 1.] [  3.52460170e-05] [8] 0.322092101814\n",
        "\n",
        "frame 329 from 8\n",
        "9 8.0 [ 1.] [ 0.0001302] [9] 0.230391589957\n",
        "\n",
        "frame 330 from 9\n",
        "10 9.0 [ 1.] [ 0.00037454] [10] 0.144799257723\n",
        "\n",
        "frame 331 from 10\n",
        "11 10.0 [ 1.] [ 0.00102394] [11] 0.159893746637\n",
        "\n",
        "frame 332 from 11\n",
        "12 11.0 [ nan] [ 0.0031166] [12] 0.747488506101\n",
        "\n",
        "frame 333 from 12\n",
        "jump 0 1.0 [ 0.02002589  0.64080036  0.33917374] [ 0.01237222  0.00833034  0.0031166 ] [13  1  0] 0.833518168729\n",
        "\n",
        "frame 334 from 0\n",
        "jump 12 1.0 [ 0.73477417  0.14223897  0.0564764   0.02988256  0.03662789] [ 0.00833034  0.01237222  0.0031166   0.0001302   0.00102394] [ 1 13 12  9 11] 0.891922341493\n",
        "\n",
        "frame 335 from 12\n",
        "13 2.0 [ 0.84148206  0.10365412  0.05486382] [ 0.01237222  0.00833034  0.0031166 ] [13  1  0] 0.508032971233\n",
        "\n",
        "frame 336 from 13\n",
        "14 3.0 [ 0.76163574  0.06530275  0.17306151] [  5.33582374e-02   3.82268727e-08   5.33582374e-02] [14  2 26] 0.35019458331\n",
        "\n",
        "frame 337 from 14\n",
        "jump 27 1.0 [ 0.50212936  0.49787064] [ 0.02045368  0.20417441] [15 27] 0.595899627892\n",
        "\n",
        "frame 338 from 27\n",
        "jump 18 1.0 [ 0.22583133  0.2415128   0.43952111  0.09313477] [ 0.05750843  0.14965645  0.4142774   0.        ] [16 17 18 19] 0.52919786512\n",
        "\n",
        "frame 339 from 18\n",
        "19 2.0 [ nan] [ 0.] [19] 0.598812196572\n",
        "\n",
        "frame 340 from 19\n",
        "20 3.0 [ 1.] [  5.65645822e-05] [20] 0.727908070308\n",
        "\n",
        "frame 341 from 20\n",
        "21 4.0 [ 1.] [ 0.00020179] [21] 0.74734712765\n",
        "\n",
        "frame 342 from 21\n",
        "22 5.0 [ 1.] [ 0.00054117] [22] 0.553596799217\n",
        "\n",
        "frame 343 from 22\n",
        "23 6.0 [ 1.] [ 0.00135113] [23] 0.636144300739\n",
        "\n",
        "frame 344 from 23\n",
        "24 7.0 [ 1.] [ 0.00362349] [24] 0.0204839871051\n",
        "\n",
        "frame 345 from 24\n",
        "25 8.0 [ 1.] [ 0.01292669] [25] 0.38892020001\n",
        "\n",
        "frame 346 from 25\n",
        "jump 14 1.0 [ 0.07056539  0.60835734  0.16032682  0.16075045] [  5.33582374e-02   5.33582374e-02   3.82268727e-08   5.65645822e-05] [26 14  2 20] 0.614042635927\n",
        "\n",
        "frame 347 from 14\n",
        "15 2.0 [ 0.73395025  0.26604975] [ 0.02045368  0.20417441] [15 27] 0.725763503094\n",
        "\n",
        "frame 348 from 15\n",
        "16 3.0 [ 1.] [ 0.05750843] [16] 0.456198640156\n",
        "\n",
        "frame 349 from 16\n",
        "17 4.0 [ 1.] [ 0.14965645] [17] 0.0537425023438\n",
        "\n",
        "frame 350 from 17\n",
        "18 5.0 [ 1.] [ 0.4142774] [18] 0.0538771795211\n",
        "\n",
        "frame 351 from 18\n",
        "19 6.0 [ nan] [ 0.] [19] 0.639691723468\n",
        "\n",
        "frame 352 from 19\n",
        "20 7.0 [ 1.] [  5.65645822e-05] [20] 0.124464458517\n",
        "\n",
        "frame 353 from 20\n",
        "21 8.0 [ 1.] [ 0.00020179] [21] 0.651011499732\n",
        "\n",
        "frame 354 from 21\n",
        "22 9.0 [ 1.] [ 0.00054117] [22] 0.492922491864\n",
        "\n",
        "frame 355 from 22\n",
        "23 10.0 [ 1.] [ 0.00135113] [23] 0.515262496217\n",
        "\n",
        "frame 356 from 23\n",
        "24 11.0 [ nan] [ 0.00362349] [24] 0.341688760403\n",
        "\n",
        "frame 357 from 24\n",
        "25 12.0 "
       ]
      },
      {
       "output_type": "stream",
       "stream": "stdout",
       "text": [
        "[ 1.] [ 0.01292669] [25] 0.292187403664\n",
        "\n",
        "frame 358 from 25\n",
        "jump 14 1.0 [ 0.07056539  0.60835734  0.16032682  0.16075045] [  5.33582374e-02   5.33582374e-02   3.82268727e-08   5.65645822e-05] [26 14  2 20] 0.316806634345\n",
        "\n",
        "frame 359 from 14\n",
        "jump 27 1.0 [ 0.73395025  0.26604975] [ 0.02045368  0.20417441] [15 27] 0.933009190251\n",
        "\n",
        "frame 360 from 27\n",
        "jump 17 1.0 [ 0.22583133  0.2415128   0.43952111  0.09313477] [ 0.05750843  0.14965645  0.4142774   0.        ] [16 17 18 19] 0.419294451397\n",
        "\n",
        "frame 361 from 17\n",
        "18 2.0 [ 1.] [ 0.4142774] [18] 0.98923216854\n",
        "\n",
        "frame 362 from 18\n",
        "19 3.0 [ nan] [ 0.] [19] 0.433773873125\n",
        "\n",
        "frame 363 from 19\n",
        "20 4.0 [ 1.] [  5.65645822e-05] [20] 0.574557175709\n",
        "\n",
        "frame 364 from 20\n",
        "21 5.0 [ 1.] [ 0.00020179] [21] 0.369393993498\n",
        "\n",
        "frame 365 from 21\n",
        "22 6.0 [ 1.] [ 0.00054117] [22] 0.0378845105081\n",
        "\n",
        "frame 366 from 22\n",
        "23 7.0 [ 1.] [ 0.00135113] [23] 0.46935566947\n",
        "\n",
        "frame 367 from 23\n",
        "24 8.0 [ 1.] [ 0.00362349] [24] 0.314347129712\n",
        "\n",
        "frame 368 from 24\n",
        "25 9.0 [ 1.] [ 0.01292669] [25] 0.0681673992686\n",
        "\n",
        "frame 369 from 25\n",
        "jump 20 1.0 [ 0.01794701  0.64279847  0.16940345  0.16985107] [  5.33582374e-02   5.33582374e-02   3.82268727e-08   5.65645822e-05] [26 14  2 20] 0.932516945398\n",
        "\n",
        "frame 370 from 20\n",
        "21 2.0 [ 1.] [ 0.00020179] [21] 0.487764865097\n",
        "\n",
        "frame 371 from 21\n",
        "22 3.0 [ 1.] [ 0.00054117] [22] 0.0181441082667\n",
        "\n",
        "frame 372 from 22\n",
        "23 4.0 [ 1.] [ 0.00135113] [23] 0.864533727157\n",
        "\n",
        "frame 373 from 23\n",
        "24 5.0 [ 1.] [ 0.00362349] [24] 0.70939395304\n",
        "\n",
        "frame 374 from 24\n",
        "25 6.0 [ 1.] [ 0.01292669] [25] 0.0731446238756\n",
        "\n",
        "frame 375 from 25\n",
        "jump 14 1.0 [ 0.26201898  0.48304224  0.12730121  0.12763758] [  5.33582374e-02   5.33582374e-02   3.82268727e-08   5.65645822e-05] [26 14  2 20] 0.539499499538\n",
        "\n",
        "frame 376 from 14\n",
        "15 2.0 [ 0.73395025  0.26604975] [ 0.02045368  0.20417441] [15 27] 0.110639324424\n",
        "\n",
        "frame 377 from 15\n",
        "16 3.0 [ 1.] [ 0.05750843] [16] 0.0385556403029\n",
        "\n",
        "frame 378 from 16\n",
        "17 4.0 [ 1.] [ 0.14965645] [17] 0.897290079964\n",
        "\n",
        "frame 379 from 17\n",
        "18 5.0 [ 1.] [ 0.4142774] [18] 0.295002817497\n",
        "\n",
        "frame 380 from 18\n",
        "19 6.0 [ nan] [ 0.] [19] 0.603628753122\n",
        "\n",
        "frame 381 from 19\n",
        "20 7.0 [ 1.] [  5.65645822e-05] [20] 0.90647948743\n",
        "\n",
        "frame 382 from 20\n",
        "21 8.0 [ 1.] [ 0.00020179] [21] 0.579000622107\n",
        "\n",
        "frame 383 from 21\n",
        "22 9.0 [ 1.] [ 0.00054117] [22] 0.0828334717851\n",
        "\n",
        "frame 384 from 22\n",
        "23 10.0 [ 1.] [ 0.00135113] [23] 0.0425727771907\n",
        "\n",
        "frame 385 from 23\n",
        "24 11.0 [ nan] [ 0.00362349] [24] 0.970184163275\n",
        "\n",
        "frame 386 from 24\n",
        "25 12.0 [ 1.] [ 0.01292669] [25] 0.0264399544359\n",
        "\n",
        "frame 387 from 25\n",
        "jump 14 1.0 [ 0.07056539  0.60835734  0.16032682  0.16075045] [  5.33582374e-02   5.33582374e-02   3.82268727e-08   5.65645822e-05] [26 14  2 20] 0.380363240908\n",
        "\n",
        "frame 388 from 14\n",
        "15 2.0 [ 0.73395025  0.26604975] [ 0.02045368  0.20417441] [15 27] 0.106126066561\n",
        "\n",
        "frame 389 from 15\n",
        "16 3.0 [ 1.] [ 0.05750843] [16] 0.130132661725\n",
        "\n",
        "frame 390 from 16\n",
        "17 4.0 [ 1.] [ 0.14965645] [17] 0.860448106015\n",
        "\n",
        "frame 391 from 17\n",
        "18 5.0 [ 1.] [ 0.4142774] [18] 0.149125138991\n",
        "\n",
        "frame 392 from 18\n",
        "19 6.0 [ nan] [ 0.] [19] 0.637086779402\n",
        "\n",
        "frame 393 from 19\n",
        "20 7.0 [ 1.] [  5.65645822e-05] [20] 0.126501240608\n",
        "\n",
        "frame 394 from 20\n",
        "21 8.0 [ 1.] [ 0.00020179] [21] 0.827342596108\n",
        "\n",
        "frame 395 from 21\n",
        "22 9.0 [ 1.] [ 0.00054117] [22] 0.0558386088489\n",
        "\n",
        "frame 396 from 22\n",
        "23 10.0 [ 1.] [ 0.00135113] [23] 0.727364695122\n",
        "\n",
        "frame 397 from 23\n",
        "24 11.0 [ nan] [ 0.00362349] [24] 0.793142782797\n",
        "\n",
        "frame 398 from 24\n",
        "25 12.0 [ 1.] [ 0.01292669] [25] 0.948813083345\n",
        "\n",
        "frame 399 from 25\n",
        "jump 20 1.0 [ 0.07056539  0.60835734  0.16032682  0.16075045] [  5.33582374e-02   5.33582374e-02   3.82268727e-08   5.65645822e-05] [26 14  2 20] 0.879952073812\n",
        "\n",
        "frame 400 from 20\n",
        "21 2.0 [ 1.] [ 0.00020179] [21] 0.185395230384\n",
        "\n",
        "frame 401 from 21\n",
        "22 3.0 [ 1.] [ 0.00054117] [22] 0.756807484752\n",
        "\n",
        "frame 402 from 22\n",
        "23 4.0 [ 1.] [ 0.00135113] [23] 0.651605633041\n",
        "\n",
        "frame 403 from 23\n",
        "24 5.0 [ 1.] [ 0.00362349] [24] 0.894451632912\n",
        "\n",
        "frame 404 from 24\n",
        "25 6.0 [ 1.] [ 0.01292669] [25] 0.942922728614\n",
        "\n",
        "frame 405 from 25\n",
        "26 7.0 [ 0.26201898  0.48304224  0.12730121  0.12763758] [  5.33582374e-02   5.33582374e-02   3.82268727e-08   5.65645822e-05] [26 14  2 20] 0.0661662480962\n",
        "\n",
        "frame 406 from 26\n",
        "27 8.0 [ 0.37557788  0.62442212] [ 0.20417441  0.02045368] [27 15] 0.0533886650763\n",
        "\n",
        "frame 407 from 27\n",
        "jump 16 1.0 [ 0.22583133  0.2415128   0.43952111  0.09313477] [ 0.05750843  0.14965645  0.4142774   0.        ] [16 17 18 19] 0.209173312908\n",
        "\n",
        "frame 408 from 16\n",
        "17 2.0 [ 1.] [ 0.14965645] [17] 0.322719734133\n",
        "\n",
        "frame 409 from 17\n",
        "18 3.0 [ 1.] [ 0.4142774] [18] 0.807321652379\n",
        "\n",
        "frame 410 from 18\n",
        "19 4.0 [ nan] [ 0.] [19] 0.251351489926\n",
        "\n",
        "frame 411 from 19\n",
        "20 5.0 [ 1.] [  5.65645822e-05]"
       ]
      },
      {
       "output_type": "stream",
       "stream": "stdout",
       "text": [
        " [20] 0.977185155686\n",
        "\n",
        "frame 412 from 20\n",
        "21 6.0 [ 1.] [ 0.00020179] [21] 0.39032383718\n",
        "\n",
        "frame 413 from 21\n",
        "22 7.0 [ 1.] [ 0.00054117] [22] 0.574664130598\n",
        "\n",
        "frame 414 from 22\n",
        "23 8.0 [ 1.] [ 0.00135113] [23] 0.0185710871622\n",
        "\n",
        "frame 415 from 23\n",
        "24 9.0 [ 1.] [ 0.00362349] [24] 0.456057435733\n",
        "\n",
        "frame 416 from 24\n",
        "25 10.0 [ 1.] [ 0.01292669] [25] 0.501016266295\n",
        "\n",
        "frame 417 from 25\n",
        "jump 14 1.0 [ 0.          0.65454561  0.1724993   0.17295509] [  5.33582374e-02   5.33582374e-02   3.82268727e-08   5.65645822e-05] [26 14  2 20] 0.00412154738188\n",
        "\n",
        "frame 418 from 14\n",
        "15 2.0 [ 0.73395025  0.26604975] [ 0.02045368  0.20417441] [15 27] 0.372709612398\n",
        "\n",
        "frame 419 from 15\n",
        "16 3.0 [ 1.] [ 0.05750843] [16] 0.588114734982\n",
        "\n",
        "frame 420 from 16\n",
        "17 4.0 [ 1.] [ 0.14965645] [17] 0.705686368996\n",
        "\n",
        "frame 421 from 17\n",
        "18 5.0 [ 1.] [ 0.4142774] [18] 0.966364231641\n",
        "\n",
        "frame 422 from 18\n",
        "19 6.0 [ nan] [ 0.] [19] 0.243837315982\n",
        "\n",
        "frame 423 from 19\n",
        "20 7.0 [ 1.] [  5.65645822e-05] [20] 0.86185147642\n",
        "\n",
        "frame 424 from 20\n",
        "21 8.0 [ 1.] [ 0.00020179] [21] 0.593831045025\n",
        "\n",
        "frame 425 from 21\n",
        "22 9.0 [ 1.] [ 0.00054117] [22] 0.932562930829\n",
        "\n",
        "frame 426 from 22\n",
        "23 10.0 [ 1.] [ 0.00135113] [23] 0.536174434671\n",
        "\n",
        "frame 427 from 23\n",
        "24 11.0 [ nan] [ 0.00362349] [24] 0.37812183453\n",
        "\n",
        "frame 428 from 24\n",
        "25 12.0 [ 1.] [ 0.01292669] [25] 0.311118446652\n",
        "\n",
        "frame 429 from 25\n",
        "jump 20 1.0 [ 0.07056539  0.60835734  0.16032682  0.16075045] [  5.33582374e-02   5.33582374e-02   3.82268727e-08   5.65645822e-05] [26 14  2 20] 0.900015898161\n",
        "\n",
        "frame 430 from 20\n",
        "21 2.0 [ 1.] [ 0.00020179] [21] 0.869350885273\n",
        "\n",
        "frame 431 from 21\n",
        "22 3.0 [ 1.] [ 0.00054117] [22] 0.309763838752\n",
        "\n",
        "frame 432 from 22\n",
        "23 4.0 [ 1.] [ 0.00135113] [23] 0.249019219302\n",
        "\n",
        "frame 433 from 23\n",
        "24 5.0 [ 1.] [ 0.00362349] [24] 0.807818162073\n",
        "\n",
        "frame 434 from 24\n",
        "25 6.0 [ 1.] [ 0.01292669] [25] 0.477053697422\n",
        "\n",
        "frame 435 from 25\n",
        "jump 14 1.0 [ 0.26201898  0.48304224  0.12730121  0.12763758] [  5.33582374e-02   5.33582374e-02   3.82268727e-08   5.65645822e-05] [26 14  2 20] 0.45786196992\n",
        "\n",
        "frame 436 from 14\n",
        "15 2.0 [ 0.73395025  0.26604975] [ 0.02045368  0.20417441] [15 27] 0.616263543589\n",
        "\n",
        "frame 437 from 15\n",
        "16 3.0 [ 1.] [ 0.05750843] [16] 0.672819782881\n",
        "\n",
        "frame 438 from 16\n",
        "17 4.0 [ 1.] [ 0.14965645] [17] 0.167576863674\n",
        "\n",
        "frame 439 from 17\n",
        "18 5.0 [ 1.] [ 0.4142774] [18] 0.691318188451\n",
        "\n",
        "frame 440 from 18\n",
        "19 6.0 [ nan] [ 0.] [19] 0.166576820604\n",
        "\n",
        "frame 441 from 19\n",
        "20 7.0 [ 1.] [  5.65645822e-05] [20] 0.511559902802\n",
        "\n",
        "frame 442 from 20\n",
        "21 8.0 [ 1.] [ 0.00020179] [21] 0.329024734462\n",
        "\n",
        "frame 443 from 21\n",
        "22 9.0 [ 1.] [ 0.00054117] [22] 0.513954626662\n",
        "\n",
        "frame 444 from 22\n",
        "23 10.0 [ 1.] [ 0.00135113] [23] 0.851087515083\n",
        "\n",
        "frame 445 from 23\n",
        "24 11.0 [ nan] [ 0.00362349] [24] 0.398169153037\n",
        "\n",
        "frame 446 from 24\n",
        "25 12.0 [ 1.] [ 0.01292669] [25] 0.188113791299\n",
        "\n",
        "frame 447 from 25\n",
        "jump 14 1.0 [ 0.07056539  0.60835734  0.16032682  0.16075045] [  5.33582374e-02   5.33582374e-02   3.82268727e-08   5.65645822e-05] [26 14  2 20] 0.430236720448\n",
        "\n",
        "frame 448 from 14\n",
        "15 2.0 [ 0.73395025  0.26604975] [ 0.02045368  0.20417441] [15 27] 0.159060400425\n",
        "\n",
        "frame 449 from 15\n",
        "16 3.0 [ 1.] [ 0.05750843] [16] 0.379040902793\n",
        "\n",
        "frame 450 from 16\n",
        "17 4.0 [ 1.] [ 0.14965645] [17] 0.75739364138\n",
        "\n",
        "frame 451 from 17\n",
        "18 5.0 [ 1.] [ 0.4142774] [18] 0.187565043371\n",
        "\n",
        "frame 452 from 18\n",
        "19 6.0 [ nan] [ 0.] [19] 0.696364652667\n",
        "\n",
        "frame 453 from 19\n",
        "20 7.0 [ 1.] [  5.65645822e-05] [20] 0.212766113017\n",
        "\n",
        "frame 454 from 20\n",
        "21 8.0 [ 1.] [ 0.00020179] [21] 0.639721099731\n",
        "\n",
        "frame 455 from 21\n",
        "22 9.0 [ 1.] [ 0.00054117] [22] 0.786122125509\n",
        "\n",
        "frame 456 from 22\n",
        "23 10.0 [ 1.] [ 0.00135113] [23] 0.687692299543\n",
        "\n",
        "frame 457 from 23\n",
        "24 11.0 [ nan] [ 0.00362349] [24] 0.966694631468\n",
        "\n",
        "frame 458 from 24\n",
        "25 12.0 [ 1.] [ 0.01292669] [25] 0.523257620768\n",
        "\n",
        "frame 459 from 25\n",
        "jump 14 1.0 [ 0.07056539  0.60835734  0.16032682  0.16075045] [  5.33582374e-02   5.33582374e-02   3.82268727e-08   5.65645822e-05] [26 14  2 20] 0.342086558593\n",
        "\n",
        "frame 460 from 14\n",
        "jump 27 1.0 [ 0.73395025  0.26604975] [ 0.02045368  0.20417441] [15 27] 0.825565126446\n",
        "\n",
        "frame 461 from 27\n",
        "jump 16"
       ]
      },
      {
       "output_type": "stream",
       "stream": "stdout",
       "text": [
        " 1.0 [ 0.22583133  0.2415128   0.43952111  0.09313477] [ 0.05750843  0.14965645  0.4142774   0.        ] [16 17 18 19] 0.0192660154385\n",
        "\n",
        "frame 462 from 16\n",
        "17 2.0 [ 1.] [ 0.14965645] [17] 0.430828652776\n",
        "\n",
        "frame 463 from 17\n",
        "18 3.0 [ 1.] [ 0.4142774] [18] 0.14541260732\n",
        "\n",
        "frame 464 from 18\n",
        "19 4.0 [ nan] [ 0.] [19] 0.962714431002\n",
        "\n",
        "frame 465 from 19\n",
        "20 5.0 [ 1.] [  5.65645822e-05] [20] 0.636241270828\n",
        "\n",
        "frame 466 from 20\n",
        "21 6.0 [ 1.] [ 0.00020179] [21] 0.74623919464\n",
        "\n",
        "frame 467 from 21\n",
        "22 7.0 [ 1.] [ 0.00054117] [22] 0.79177204789\n",
        "\n",
        "frame 468 from 22\n",
        "23 8.0 [ 1.] [ 0.00135113] [23] 0.230081404166\n",
        "\n",
        "frame 469 from 23\n",
        "24 9.0 [ 1.] [ 0.00362349] [24] 0.53619328898\n",
        "\n",
        "frame 470 from 24\n",
        "25 10.0 [ 1.] [ 0.01292669] [25] 0.48996878928\n",
        "\n",
        "frame 471 from 25\n",
        "jump 2 1.0 [ 0.          0.65454561  0.1724993   0.17295509] [  5.33582374e-02   5.33582374e-02   3.82268727e-08   5.65645822e-05] [26 14  2 20] 0.800635947255\n",
        "\n",
        "frame 472 from 2\n",
        "3 2.0 [ 1.] [  1.36373256e-07] [3] 0.993893426286\n",
        "\n",
        "frame 473 from 3\n",
        "4 3.0 [ 1.] [  3.65729475e-07] [4] 0.189981537861\n",
        "\n",
        "frame 474 from 4\n",
        "5 4.0 [ 1.] [  9.13104472e-07] [5] 0.0541328057454\n",
        "\n",
        "frame 475 from 5\n",
        "6 5.0 [ 1.] [  2.44878819e-06] [6] 0.655298051834\n",
        "\n",
        "frame 476 from 6\n",
        "7 6.0 [ 1.] [  8.73598062e-06] [7] 0.427416154612\n",
        "\n",
        "frame 477 from 7\n",
        "8 7.0 [ 1.] [  3.52460170e-05] [8] 0.218240071396\n",
        "\n",
        "frame 478 from 8\n",
        "9 8.0 [ 1.] [ 0.0001302] [9] 0.625668837623\n",
        "\n",
        "frame 479 from 9\n",
        "10 9.0 [ 1.] [ 0.00037454] [10] 0.78432705681\n",
        "\n",
        "frame 480 from 10\n",
        "11 10.0 [ 1.] [ 0.00102394] [11] 0.809681737055\n",
        "\n",
        "frame 481 from 11\n",
        "12 11.0 [ nan] [ 0.0031166] [12] 0.0345356625456\n",
        "\n",
        "frame 482 from 12\n",
        "jump 1 1.0 [ 0.02002589  0.64080036  0.33917374] [ 0.01237222  0.00833034  0.0031166 ] [13  1  0] 0.543288279149\n",
        "\n",
        "frame 483 from 1\n",
        "jump 26 1.0 [ 0.57283043  0.19549214  0.05165624  0.18002119] [  3.82268727e-08   5.33582374e-02   5.65645822e-05   5.33582374e-02] [ 2 14 20 26] 0.986210653525\n",
        "\n",
        "frame 484 from 26\n",
        "27 2.0 [ 0.94003348  0.05996652] [ 0.20417441  0.02045368] [27 15] 0.90684764353\n",
        "\n",
        "frame 485 from 27\n",
        "jump 18 1.0 [ 0.22583133  0.2415128   0.43952111  0.09313477] [ 0.05750843  0.14965645  0.4142774   0.        ] [16 17 18 19] 0.662251142464\n",
        "\n",
        "frame 486 from 18\n",
        "19 2.0 [ nan] [ 0.] [19] 0.495568912953\n",
        "\n",
        "frame 487 from 19\n",
        "20 3.0 [ 1.] [  5.65645822e-05] [20] 0.880431621609\n",
        "\n",
        "frame 488 from 20\n",
        "21 4.0 [ 1.] [ 0.00020179] [21] 0.515120203256\n",
        "\n",
        "frame 489 from 21\n",
        "22 5.0 [ 1.] [ 0.00054117] [22] 0.0130679216727\n",
        "\n",
        "frame 490 from 22\n",
        "23 6.0 [ 1.] [ 0.00135113] [23] 0.973232923508\n",
        "\n",
        "frame 491 from 23\n",
        "24 7.0 [ 1.] [ 0.00362349] [24] 0.307780420553\n",
        "\n",
        "frame 492 from 24\n",
        "25 8.0 [ 1.] [ 0.01292669] [25] 0.357605986105\n",
        "\n",
        "frame 493 from 25\n",
        "jump 14 1.0 [ 0.07056539  0.60835734  0.16032682  0.16075045] [  5.33582374e-02   5.33582374e-02   3.82268727e-08   5.65645822e-05] [26 14  2 20] 0.544845639467\n",
        "\n",
        "frame 494 from 14\n",
        "15 2.0 [ 0.73395025  0.26604975] [ 0.02045368  0.20417441] [15 27] 0.0355093829085\n",
        "\n",
        "frame 495 from 15\n",
        "16 3.0 [ 1.] [ 0.05750843] [16] 0.375949694488\n",
        "\n",
        "frame 496 from 16\n",
        "17 4.0 [ 1.] [ 0.14965645] [17] 0.732041256775\n",
        "\n",
        "frame 497 from 17\n",
        "18 5.0 [ 1.] [ 0.4142774] [18] 0.647082802323\n",
        "\n",
        "frame 498 from 18\n",
        "19 6.0 [ nan] [ 0.] [19] 0.0206313849292\n",
        "\n",
        "frame 499 from 19\n",
        "20 7.0 [ 1.] [  5.65645822e-05] [20] 0.0369312223563\n",
        "\n",
        "frame 500 from 20\n",
        "21 8.0 [ 1.] [ 0.00020179] [21] 0.508645416026\n",
        "\n",
        "frame 501 from 21\n",
        "22 9.0 [ 1.] [ 0.00054117] [22] 0.836476027996\n",
        "\n",
        "frame 502 from 22\n",
        "23 10.0 [ 1.] [ 0.00135113] [23] 0.347048904379\n",
        "\n",
        "frame 503 from 23\n",
        "24 11.0 [ nan] [ 0.00362349] [24] 0.479805666114\n",
        "\n",
        "frame 504 from 24\n",
        "25 12.0 [ 1.] [ 0.01292669] [25] 0.524940514763\n",
        "\n",
        "frame 505 from 25\n",
        "jump 20 1.0 [ 0.07056539  0.60835734  0.16032682  0.16075045] [  5.33582374e-02   5.33582374e-02   3.82268727e-08   5.65645822e-05] [26 14  2 20] 0.86171176368\n",
        "\n",
        "frame 506 from 20\n",
        "21 2.0 [ 1.] [ 0.00020179] [21] 0.457656540802\n",
        "\n",
        "frame 507 from 21\n",
        "22 3.0 [ 1.] [ 0.00054117] [22] 0.761401419245\n",
        "\n",
        "frame 508 from 22\n",
        "23 4.0 [ 1.] [ 0.00135113] [23] 0.121873337935\n",
        "\n",
        "frame 509 from 23\n",
        "24 5.0 [ 1.] [ 0.00362349] [24] 0.302228058474\n",
        "\n",
        "frame 510 from 24\n",
        "25 6.0 [ 1.] [ 0.01292669]"
       ]
      },
      {
       "output_type": "stream",
       "stream": "stdout",
       "text": [
        " [25] 0.028875931064\n",
        "\n",
        "frame 511 from 25\n",
        "jump 14 1.0 [ 0.26201898  0.48304224  0.12730121  0.12763758] [  5.33582374e-02   5.33582374e-02   3.82268727e-08   5.65645822e-05] [26 14  2 20] 0.295916283654\n",
        "\n",
        "frame 512 from 14\n",
        "15 2.0 [ 0.73395025  0.26604975] [ 0.02045368  0.20417441] [15 27] 0.419480841878\n",
        "\n",
        "frame 513 from 15\n",
        "16 3.0 [ 1.] [ 0.05750843] [16] 0.886993322907\n",
        "\n",
        "frame 514 from 16\n",
        "17 4.0 [ 1.] [ 0.14965645] [17] 0.252972888483\n",
        "\n",
        "frame 515 from 17\n",
        "18 5.0 [ 1.] [ 0.4142774] [18] 0.435118827461\n",
        "\n",
        "frame 516 from 18\n",
        "19 6.0 [ nan] [ 0.] [19] 0.396418856112\n",
        "\n",
        "frame 517 from 19\n",
        "20 7.0 [ 1.] [  5.65645822e-05] [20] 0.219314603915\n",
        "\n",
        "frame 518 from 20\n",
        "21 8.0 [ 1.] [ 0.00020179] [21] 0.342114835883\n",
        "\n",
        "frame 519 from 21\n",
        "22 9.0 [ 1.] [ 0.00054117] [22] 0.603825556402\n",
        "\n",
        "frame 520 from 22\n",
        "23 10.0 [ 1.] [ 0.00135113] [23] 0.351198856392\n",
        "\n",
        "frame 521 from 23\n",
        "24 11.0 [ nan] [ 0.00362349] [24] 0.968175436591\n",
        "\n",
        "frame 522 from 24\n",
        "25 12.0 [ 1.] [ 0.01292669] [25] 0.67871511286\n",
        "\n",
        "frame 523 from 25\n",
        "jump 20 1.0 [ 0.07056539  0.60835734  0.16032682  0.16075045] [  5.33582374e-02   5.33582374e-02   3.82268727e-08   5.65645822e-05] [26 14  2 20] 0.919666477802\n",
        "\n",
        "frame 524 from 20\n",
        "21 2.0 [ 1.] [ 0.00020179] [21] 0.750591464474\n",
        "\n",
        "frame 525 from 21\n",
        "22 3.0 [ 1.] [ 0.00054117] [22] 0.859761324733\n",
        "\n",
        "frame 526 from 22\n",
        "23 4.0 [ 1.] [ 0.00135113] [23] 0.580628373524\n",
        "\n",
        "frame 527 from 23\n",
        "24 5.0 [ 1.] [ 0.00362349] [24] 0.808627116797\n",
        "\n",
        "frame 528 from 24\n",
        "25 6.0 [ 1.] [ 0.01292669] [25] 0.493779895525\n",
        "\n",
        "frame 529 from 25\n",
        "jump 14 1.0 [ 0.26201898  0.48304224  0.12730121  0.12763758] [  5.33582374e-02   5.33582374e-02   3.82268727e-08   5.65645822e-05] [26 14  2 20] 0.645523183296\n",
        "\n",
        "frame 530 from 14\n",
        "jump 27 1.0 [ 0.73395025  0.26604975] [ 0.02045368  0.20417441] [15 27] 0.953073350427\n",
        "\n",
        "frame 531 from 27\n",
        "jump 17 1.0 [ 0.22583133  0.2415128   0.43952111  0.09313477] [ 0.05750843  0.14965645  0.4142774   0.        ] [16 17 18 19] 0.315472557315\n",
        "\n",
        "frame 532 from 17\n",
        "18 2.0 [ 1.] [ 0.4142774] [18] 0.43328796871\n",
        "\n",
        "frame 533 from 18\n",
        "19 3.0 [ nan] [ 0.] [19] 0.344718568315\n",
        "\n",
        "frame 534 from 19\n",
        "20 4.0 [ 1.] [  5.65645822e-05] [20] 0.321950971774\n",
        "\n",
        "frame 535 from 20\n",
        "21 5.0 [ 1.] [ 0.00020179] [21] 0.131840978619\n",
        "\n",
        "frame 536 from 21\n",
        "22 6.0 [ 1.] [ 0.00054117] [22] 0.499306780908\n",
        "\n",
        "frame 537 from 22\n",
        "23 7.0 [ 1.] [ 0.00135113] [23] 0.511774166156\n",
        "\n",
        "frame 538 from 23\n",
        "24 8.0 [ 1.] [ 0.00362349] [24] 0.379726469119\n",
        "\n",
        "frame 539 from 24\n",
        "25 9.0 [ 1.] [ 0.01292669] [25] 0.359045788474\n",
        "\n",
        "frame 540 from 25\n",
        "jump 14 1.0 [ 0.01794701  0.64279847  0.16940345  0.16985107] [  5.33582374e-02   5.33582374e-02   3.82268727e-08   5.65645822e-05] [26 14  2 20] 0.418244945172\n",
        "\n",
        "frame 541 from 14\n",
        "jump 27 1.0 [ 0.73395025  0.26604975] [ 0.02045368  0.20417441] [15 27] 0.742052985629\n",
        "\n",
        "frame 542 from 27\n",
        "jump 18 1.0 [ 0.22583133  0.2415128   0.43952111  0.09313477] [ 0.05750843  0.14965645  0.4142774   0.        ] [16 17 18 19] 0.676114571232\n",
        "\n",
        "frame 543 from 18\n",
        "19 2.0 [ nan] [ 0.] [19] 0.694974115054\n",
        "\n",
        "frame 544 from 19\n",
        "20 3.0 [ 1.] [  5.65645822e-05] [20] 0.383784454694\n",
        "\n",
        "frame 545 from 20\n",
        "21 4.0 [ 1.] [ 0.00020179] [21] 0.564629682575\n",
        "\n",
        "frame 546 from 21\n",
        "22 5.0 [ 1.] [ 0.00054117] [22] 0.158691772441\n",
        "\n",
        "frame 547 from 22\n",
        "23 6.0 [ 1.] [ 0.00135113] [23] 0.186941388564\n",
        "\n",
        "frame 548 from 23\n",
        "24 7.0 [ 1.] [ 0.00362349] [24] 0.637960615556\n",
        "\n",
        "frame 549 from 24\n",
        "25 8.0 [ 1.] [ 0.01292669] [25] 0.990622103126\n",
        "\n",
        "frame 550 from 25\n",
        "jump 20 1.0 [ 0.07056539  0.60835734  0.16032682  0.16075045] [  5.33582374e-02   5.33582374e-02   3.82268727e-08   5.65645822e-05] [26 14  2 20] 0.88204174602\n",
        "\n",
        "frame 551 from 20\n",
        "21 2.0 [ 1.] [ 0.00020179] [21] 0.664260592265\n",
        "\n",
        "frame 552 from 21\n",
        "22 3.0 [ 1.] [ 0.00054117] [22] 0.689459745248\n",
        "\n",
        "frame 553 from 22\n",
        "23 4.0 [ 1.] [ 0.00135113] [23] 0.434460797298\n",
        "\n",
        "frame 554 from 23\n",
        "24 5.0 [ 1.] [ 0.00362349] [24] 0.46442146366\n",
        "\n",
        "frame 555 from 24\n",
        "25 6.0 [ 1.] [ 0.01292669] [25] 0.679069228455\n",
        "\n",
        "frame 556 from 25\n",
        "jump 14 1.0 [ 0.26201898  0.48304224  0.12730121  0.12763758] [  5.33582374e-02   5.33582374e-02   3.82268727e-08   5.65645822e-05] [26 14  2 20] 0.570336484394\n",
        "\n",
        "frame 557 from 14\n",
        "jump 27 1.0 [ 0.73395025  0.26604975] [ 0.02045368  0.20417441] [15 27] 0.897968293521\n",
        "\n",
        "frame 558 from 27\n",
        "jump 17 1.0 [ 0.22583133  0.2415128   0.43952111  0.09313477] [ 0.05750843  0.14965645  0.4142774   0.        ] [16 17 18 19] 0.259155833707\n",
        "\n",
        "frame 559 from 17\n",
        "18 2.0 [ 1.] [ 0.4142774] [18] 0.0785513218482\n",
        "\n",
        "frame 560 from 18\n",
        "19 3.0 "
       ]
      },
      {
       "output_type": "stream",
       "stream": "stdout",
       "text": [
        "[ nan] [ 0.] [19] 0.21052706057\n",
        "\n",
        "frame 561 from 19\n",
        "20 4.0 [ 1.] [  5.65645822e-05] [20] 0.265331406126\n",
        "\n",
        "frame 562 from 20\n",
        "21 5.0 [ 1.] [ 0.00020179] [21] 0.267586272532\n",
        "\n",
        "frame 563 from 21\n",
        "22 6.0 [ 1.] [ 0.00054117] [22] 0.133554735826\n",
        "\n",
        "frame 564 from 22\n",
        "23 7.0 [ 1.] [ 0.00135113] [23] 0.784685349288\n",
        "\n",
        "frame 565 from 23\n",
        "24 8.0 [ 1.] [ 0.00362349] [24] 0.225657752611\n",
        "\n",
        "frame 566 from 24\n",
        "25 9.0 [ 1.] [ 0.01292669] [25] 0.922643276761\n",
        "\n",
        "frame 567 from 25\n",
        "jump 20 1.0 [ 0.01794701  0.64279847  0.16940345  0.16985107] [  5.33582374e-02   5.33582374e-02   3.82268727e-08   5.65645822e-05] [26 14  2 20] 0.903476529397\n",
        "\n",
        "frame 568 from 20\n",
        "21 2.0 [ 1.] [ 0.00020179] [21] 0.961537348578\n",
        "\n",
        "frame 569 from 21\n",
        "22 3.0 [ 1.] [ 0.00054117] [22] 0.209487831241\n",
        "\n",
        "frame 570 from 22\n",
        "23 4.0 [ 1.] [ 0.00135113] [23] 0.0726699305466\n",
        "\n",
        "frame 571 from 23\n",
        "24 5.0 [ 1.] [ 0.00362349] [24] 0.877569994151\n",
        "\n",
        "frame 572 from 24\n",
        "25 6.0 [ 1.] [ 0.01292669] [25] 0.370386157874\n",
        "\n",
        "frame 573 from 25\n",
        "jump 14 1.0 [ 0.26201898  0.48304224  0.12730121  0.12763758] [  5.33582374e-02   5.33582374e-02   3.82268727e-08   5.65645822e-05] [26 14  2 20] 0.333963662896\n",
        "\n",
        "frame 574 from 14\n",
        "15 2.0 [ 0.73395025  0.26604975] [ 0.02045368  0.20417441] [15 27] 0.310839997234\n",
        "\n",
        "frame 575 from 15\n",
        "16 3.0 [ 1.] [ 0.05750843] [16] 0.107227208616\n",
        "\n",
        "frame 576 from 16\n",
        "17 4.0 [ 1.] [ 0.14965645] [17] 0.777999883828\n",
        "\n",
        "frame 577 from 17\n",
        "18 5.0 [ 1.] [ 0.4142774] [18] 0.0958107608583\n",
        "\n",
        "frame 578 from 18\n",
        "19 6.0 [ nan] [ 0.] [19] 0.243069642334\n",
        "\n",
        "frame 579 from 19\n",
        "20 7.0 [ 1.] [  5.65645822e-05] [20] 0.784154681838\n",
        "\n",
        "frame 580 from 20\n",
        "21 8.0 [ 1.] [ 0.00020179] [21] 0.747659719228\n",
        "\n",
        "frame 581 from 21\n",
        "22 9.0 [ 1.] [ 0.00054117] [22] 0.944368388294\n",
        "\n",
        "frame 582 from 22\n",
        "23 10.0 [ 1.] [ 0.00135113] [23] 0.231359376589\n",
        "\n",
        "frame 583 from 23\n",
        "24 11.0 [ nan] [ 0.00362349] [24] 0.901009622104\n",
        "\n",
        "frame 584 from 24\n",
        "25 12.0 [ 1.] [ 0.01292669] [25] 0.27285416213\n",
        "\n",
        "frame 585 from 25\n",
        "jump 2 1.0 [ 0.07056539  0.60835734  0.16032682  0.16075045] [  5.33582374e-02   5.33582374e-02   3.82268727e-08   5.65645822e-05] [26 14  2 20] 0.684294899646\n",
        "\n",
        "frame 586 from 2\n",
        "3 2.0 [ 1.] [  1.36373256e-07] [3] 0.76299373474\n",
        "\n",
        "frame 587 from 3\n",
        "4 3.0 [ 1.] [  3.65729475e-07] [4] 0.220206776708\n",
        "\n",
        "frame 588 from 4\n",
        "5 4.0 [ 1.] [  9.13104472e-07] [5] 0.355001661053\n",
        "\n",
        "frame 589 from 5\n",
        "6 5.0 [ 1.] [  2.44878819e-06] [6] 0.0131688397226\n",
        "\n",
        "frame 590 from 6\n",
        "7 6.0 [ 1.] [  8.73598062e-06] [7] 0.545953186446\n",
        "\n",
        "frame 591 from 7\n",
        "8 7.0 [ 1.] [  3.52460170e-05] [8] 0.761572886879\n",
        "\n",
        "frame 592 from 8\n",
        "9 8.0 [ 1.] [ 0.0001302] [9] 0.640984095719\n",
        "\n",
        "frame 593 from 9\n",
        "10 9.0 [ 1.] [ 0.00037454] [10] 0.152228044481\n",
        "\n",
        "frame 594 from 10\n",
        "11 10.0 [ 1.] [ 0.00102394] [11] 0.790049512243\n",
        "\n",
        "frame 595 from 11\n",
        "12 11.0 [ nan] [ 0.0031166] [12] 0.961539104439\n",
        "\n",
        "frame 596 from 12\n",
        "jump 0 1.0 [ 0.02002589  0.64080036  0.33917374] [ 0.01237222  0.00833034  0.0031166 ] [13  1  0] 0.681818932182\n",
        "\n",
        "frame 597 from 0\n",
        "1 2.0 [ 0.73477417  0.14223897  0.0564764   0.02988256  0.03662789] [ 0.00833034  0.01237222  0.0031166   0.0001302   0.00102394] [ 1 13 12  9 11] 0.292996895713\n",
        "\n",
        "frame 598 from 1\n",
        "jump 26 1.0 [ 0.44631972  0.25338918  0.06695477  0.23333634] [  3.82268727e-08   5.33582374e-02   5.65645822e-05   5.33582374e-02] [ 2 14 20 26] 0.996517161007\n",
        "\n",
        "frame 599 from 26\n",
        "27 2.0 [ 0.94003348  0.05996652] [ 0.20417441  0.02045368] [27 15] 0.210834338513\n",
        "\n",
        "frame 600 from 27\n",
        "jump 17 1.0 [ 0.22583133  0.2415128   0.43952111  0.09313477] [ 0.05750843  0.14965645  0.4142774   0.        ] [16 17 18 19] 0.45750614465\n",
        "\n",
        "frame 601 from 17\n",
        "18 2.0 [ 1.] [ 0.4142774] [18] 0.560105451104\n",
        "\n",
        "frame 602 from 18\n",
        "19 3.0 [ nan] [ 0.] [19] 0.176060809891\n",
        "\n",
        "frame 603 from 19\n",
        "20 4.0 [ 1.] [  5.65645822e-05] [20] 0.282475649907\n",
        "\n",
        "frame 604 from 20\n",
        "21 5.0 [ 1.] [ 0.00020179] [21] 0.347091738328\n",
        "\n",
        "frame 605 from 21\n",
        "22 6.0 [ 1.] [ 0.00054117] [22] 0.373519670344\n",
        "\n",
        "frame 606 from 22\n",
        "23 7.0 [ 1.] [ 0.00135113] [23] 0.95022166156\n",
        "\n",
        "frame 607 from 23\n",
        "24 8.0 [ 1.] [ 0.00362349] [24] 0.756721019597\n",
        "\n",
        "frame 608 from 24\n",
        "25 9.0 [ 1.] [ 0.01292669] [25] 0.0739669319143\n",
        "\n",
        "frame 609 from 25\n",
        "jump 14 1.0 [ 0.01794701  0.64279847  0.16940345  0.16985107] [  5.33582374e-02   5.33582374e-02   3.82268727e-08   5.65645822e-05] [26 14  2 20] 0.146773708431\n",
        "\n",
        "frame 610 from 14\n",
        "15 2.0 [ 0.73395025  0.26604975]"
       ]
      },
      {
       "output_type": "stream",
       "stream": "stdout",
       "text": [
        " [ 0.02045368  0.20417441] [15 27] 0.704631379883\n",
        "\n",
        "frame 611 from 15\n",
        "16 3.0 [ 1.] [ 0.05750843] [16] 0.318391815045\n",
        "\n",
        "frame 612 from 16\n",
        "17 4.0 [ 1.] [ 0.14965645] [17] 0.616733051706\n",
        "\n",
        "frame 613 from 17\n",
        "18 5.0 [ 1.] [ 0.4142774] [18] 0.895031298122\n",
        "\n",
        "frame 614 from 18\n",
        "19 6.0 [ nan] [ 0.] [19] 0.00042210697186\n",
        "\n",
        "frame 615 from 19\n",
        "20 7.0 [ 1.] [  5.65645822e-05] [20] 0.669986747911\n",
        "\n",
        "frame 616 from 20\n",
        "21 8.0 [ 1.] [ 0.00020179] [21] 0.708623384476\n",
        "\n",
        "frame 617 from 21\n",
        "22 9.0 [ 1.] [ 0.00054117] [22] 0.752035640359\n",
        "\n",
        "frame 618 from 22\n",
        "23 10.0 [ 1.] [ 0.00135113] [23] 0.675528350703\n",
        "\n",
        "frame 619 from 23\n",
        "24 11.0 [ nan] [ 0.00362349] [24] 0.708368774983\n",
        "\n",
        "frame 620 from 24\n",
        "25 12.0 [ 1.] [ 0.01292669] [25] 0.906056687867\n",
        "\n",
        "frame 621 from 25\n",
        "jump 14 1.0 [ 0.07056539  0.60835734  0.16032682  0.16075045] [  5.33582374e-02   5.33582374e-02   3.82268727e-08   5.65645822e-05] [26 14  2 20] 0.504655907656\n",
        "\n",
        "frame 622 from 14\n",
        "15 2.0 [ 0.73395025  0.26604975] [ 0.02045368  0.20417441] [15 27] 0.396787158326\n",
        "\n",
        "frame 623 from 15\n",
        "16 3.0 [ 1.] [ 0.05750843] [16] 0.21577845715\n",
        "\n",
        "frame 624 from 16\n",
        "17 4.0 [ 1.] [ 0.14965645] [17] 0.434522958644\n",
        "\n",
        "frame 625 from 17\n",
        "18 5.0 [ 1.] [ 0.4142774] [18] 0.762688079891\n",
        "\n",
        "frame 626 from 18\n",
        "19 6.0 [ nan] [ 0.] [19] 0.319106667509\n",
        "\n",
        "frame 627 from 19\n",
        "20 7.0 [ 1.] [  5.65645822e-05] [20] 0.119920916264\n",
        "\n",
        "frame 628 from 20\n",
        "21 8.0 [ 1.] [ 0.00020179] [21] 0.938953628167\n",
        "\n",
        "frame 629 from 21\n",
        "22 9.0 [ 1.] [ 0.00054117] [22] 0.0567817052672\n",
        "\n",
        "frame 630 from 22\n",
        "23 10.0 [ 1.] [ 0.00135113] [23] 0.0551827462542\n",
        "\n",
        "frame 631 from 23\n",
        "24 11.0 [ nan] [ 0.00362349] [24] 0.693156499976\n",
        "\n",
        "frame 632 from 24\n",
        "25 12.0 [ 1.] [ 0.01292669] [25] 0.603226884523\n",
        "\n",
        "frame 633 from 25\n",
        "jump 20 1.0 [ 0.07056539  0.60835734  0.16032682  0.16075045] [  5.33582374e-02   5.33582374e-02   3.82268727e-08   5.65645822e-05] [26 14  2 20] 0.859527265501\n",
        "\n",
        "frame 634 from 20\n",
        "21 2.0 [ 1.] [ 0.00020179] [21] 0.419585235411\n",
        "\n",
        "frame 635 from 21\n",
        "22 3.0 [ 1.] [ 0.00054117] [22] 0.551726156182\n",
        "\n",
        "frame 636 from 22\n",
        "23 4.0 [ 1.] [ 0.00135113] [23] 0.390047129792\n",
        "\n",
        "frame 637 from 23\n",
        "24 5.0 [ 1.] [ 0.00362349] [24] 0.198491248669\n",
        "\n",
        "frame 638 from 24\n",
        "25 6.0 [ 1.] [ 0.01292669] [25] 0.222469557982\n",
        "\n",
        "frame 639 from 25\n",
        "jump 2 1.0 [ 0.26201898  0.48304224  0.12730121  0.12763758] [  5.33582374e-02   5.33582374e-02   3.82268727e-08   5.65645822e-05] [26 14  2 20] 0.784198393569\n",
        "\n",
        "frame 640 from 2\n",
        "3 2.0 [ 1.] [  1.36373256e-07] [3] 0.659091715807\n",
        "\n",
        "frame 641 from 3\n",
        "4 3.0 [ 1.] [  3.65729475e-07] [4] 0.711057475181\n",
        "\n",
        "frame 642 from 4\n",
        "5 4.0 [ 1.] [  9.13104472e-07] [5] 0.312205331719\n",
        "\n",
        "frame 643 from 5\n",
        "6 5.0 [ 1.] [  2.44878819e-06] [6] 0.199932086018\n",
        "\n",
        "frame 644 from 6\n",
        "7 6.0 [ 1.] [  8.73598062e-06] [7] 0.402804064738\n",
        "\n",
        "frame 645 from 7\n",
        "8 7.0 [ 1.] [  3.52460170e-05] [8] 0.557214825265\n",
        "\n",
        "frame 646 from 8\n",
        "9 8.0 [ 1.] [ 0.0001302] [9] 0.0512384791478\n",
        "\n",
        "frame 647 from 9\n",
        "10 9.0 [ 1.] [ 0.00037454] [10] 0.0860181888258\n",
        "\n",
        "frame 648 from 10\n",
        "11 10.0 [ 1.] [ 0.00102394] [11] 0.487721268992\n",
        "\n",
        "frame 649 from 11\n",
        "12 11.0 [ nan] [ 0.0031166] [12] 0.515671338946\n",
        "\n",
        "frame 650 from 12\n",
        "jump 0 1.0 [ 0.02002589  0.64080036  0.33917374] [ 0.01237222  0.00833034  0.0031166 ] [13  1  0] 0.760158596486\n",
        "\n",
        "frame 651 from 0\n",
        "jump 13 1.0 [ 0.73477417  0.14223897  0.0564764   0.02988256  0.03662789] [ 0.00833034  0.01237222  0.0031166   0.0001302   0.00102394] [ 1 13 12  9 11] 0.812509086902\n",
        "\n",
        "frame 652 from 13\n",
        "14 2.0 [ 0.84165966  0.04337924  0.11496111] [  5.33582374e-02   3.82268727e-08   5.33582374e-02] [14  2 26] 0.449559834528\n",
        "\n",
        "frame 653 from 14\n",
        "15 3.0 [ 0.62382076  0.37617924] [ 0.02045368  0.20417441] [15 27] 0.568709266653\n",
        "\n",
        "frame 654 from 15\n",
        "16 4.0 [ 1.] [ 0.05750843] [16] 0.516850551568\n",
        "\n",
        "frame 655 from 16\n",
        "17 5.0 [ 1.] [ 0.14965645] [17] 0.823327298701\n",
        "\n",
        "frame 656 from 17\n",
        "18 6.0 [ 1.] [ 0.4142774] [18] 0.27912055851\n",
        "\n",
        "frame 657 from 18\n",
        "19 7.0 [ nan] [ 0.] [19] 0.0759622094619\n",
        "\n",
        "frame 658 from 19\n",
        "20 8.0 [ 1.] [  5.65645822e-05] [20] 0.667154308736\n",
        "\n",
        "frame 659 from 20\n",
        "21 9.0 [ 1.] [ 0.00020179] [21] 0.367459341077\n",
        "\n",
        "frame 660 from 21\n",
        "22 10.0 [ 1.] [ 0.00054117] [22]"
       ]
      },
      {
       "output_type": "stream",
       "stream": "stdout",
       "text": [
        " 0.387518237448\n",
        "\n",
        "frame 661 from 22\n",
        "23 11.0 [ nan] [ 0.00135113] [23] 0.864800059146\n",
        "\n",
        "frame 662 from 23\n",
        "24 12.0 [ 1.] [ 0.00362349] [24] 0.764325419286\n",
        "\n",
        "frame 663 from 24\n",
        "25 13.0 [ 1.] [ 0.01292669] [25] 0.358602402627\n",
        "\n",
        "frame 664 from 25\n",
        "jump 20 1.0 [ 0.15408498  0.55368996  0.14591975  0.14630531] [  5.33582374e-02   5.33582374e-02   3.82268727e-08   5.65645822e-05] [26 14  2 20] 0.922603894882\n",
        "\n",
        "frame 665 from 20\n",
        "21 2.0 [ 1.] [ 0.00020179] [21] 0.451108088119\n",
        "\n",
        "frame 666 from 21\n",
        "22 3.0 [ 1.] [ 0.00054117] [22] 0.97247558725\n",
        "\n",
        "frame 667 from 22\n",
        "23 4.0 [ 1.] [ 0.00135113] [23] 0.101034274901\n",
        "\n",
        "frame 668 from 23\n",
        "24 5.0 [ 1.] [ 0.00362349] [24] 0.603522237322\n",
        "\n",
        "frame 669 from 24\n",
        "25 6.0 [ 1.] [ 0.01292669] [25] 0.238909124828\n",
        "\n",
        "frame 670 from 25\n",
        "26 7.0 [ 0.26201898  0.48304224  0.12730121  0.12763758] [  5.33582374e-02   5.33582374e-02   3.82268727e-08   5.65645822e-05] [26 14  2 20] 0.0267958708176\n",
        "\n",
        "frame 671 from 26\n",
        "jump 15 1.0 [ 0.37557788  0.62442212] [ 0.20417441  0.02045368] [27 15] 0.865900074555\n",
        "\n",
        "frame 672 from 15\n",
        "16 2.0 [ 1.] [ 0.05750843] [16] 0.801017259099\n",
        "\n",
        "frame 673 from 16\n",
        "17 3.0 [ 1.] [ 0.14965645] [17] 0.0101187669227\n",
        "\n",
        "frame 674 from 17\n",
        "18 4.0 [ 1.] [ 0.4142774] [18] 0.826894686898\n",
        "\n",
        "frame 675 from 18\n",
        "19 5.0 [ nan] [ 0.] [19] 0.56854556679\n",
        "\n",
        "frame 676 from 19\n",
        "20 6.0 [ 1.] [  5.65645822e-05] [20] 0.574589311593\n",
        "\n",
        "frame 677 from 20\n",
        "21 7.0 [ 1.] [ 0.00020179] [21] 0.127816970169\n",
        "\n",
        "frame 678 from 21\n",
        "22 8.0 [ 1.] [ 0.00054117] [22] 0.290180386681\n",
        "\n",
        "frame 679 from 22\n",
        "23 9.0 [ 1.] [ 0.00135113] [23] 0.486448906518\n",
        "\n",
        "frame 680 from 23\n",
        "24 10.0 [ 1.] [ 0.00362349] [24] 0.365521137097\n",
        "\n",
        "frame 681 from 24\n",
        "25 11.0 [ nan] [ 0.01292669] [25] 0.968374429455\n",
        "\n",
        "frame 682 from 25\n",
        "jump 14 1.0 [ 0.01794701  0.64279847  0.16940345  0.16985107] [  5.33582374e-02   5.33582374e-02   3.82268727e-08   5.65645822e-05] [26 14  2 20] 0.0272859399289\n",
        "\n",
        "frame 683 from 14\n",
        "15 2.0 [ 0.73395025  0.26604975] [ 0.02045368  0.20417441] [15 27] 0.592581965674\n",
        "\n",
        "frame 684 from 15\n",
        "16 3.0 [ 1.] [ 0.05750843] [16] 0.414892835663\n",
        "\n",
        "frame 685 from 16\n",
        "17 4.0 [ 1.] [ 0.14965645] [17] 0.017167988345\n",
        "\n",
        "frame 686 from 17\n",
        "18 5.0 [ 1.] [ 0.4142774] [18] 0.815753386825\n",
        "\n",
        "frame 687 from 18\n",
        "19 6.0 [ nan] [ 0.] [19] 0.780074124177\n",
        "\n",
        "frame 688 from 19\n",
        "20 7.0 [ 1.] [  5.65645822e-05] [20] 0.606587092368\n",
        "\n",
        "frame 689 from 20\n",
        "21 8.0 [ 1.] [ 0.00020179] [21] 0.266781257969\n",
        "\n",
        "frame 690 from 21\n",
        "22 9.0 [ 1.] [ 0.00054117] [22] 0.195272504869\n",
        "\n",
        "frame 691 from 22\n",
        "23 10.0 [ 1.] [ 0.00135113] [23] 0.0803523289793\n",
        "\n",
        "frame 692 from 23\n",
        "24 11.0 [ nan] [ 0.00362349] [24] 0.700259281606\n",
        "\n",
        "frame 693 from 24\n",
        "25 12.0 [ 1.] [ 0.01292669] [25] 0.477273910046\n",
        "\n",
        "frame 694 from 25\n",
        "jump 14 1.0 [ 0.07056539  0.60835734  0.16032682  0.16075045] [  5.33582374e-02   5.33582374e-02   3.82268727e-08   5.65645822e-05] [26 14  2 20] 0.25419931139\n",
        "\n",
        "frame 695 from 14\n",
        "15 2.0 [ 0.73395025  0.26604975] [ 0.02045368  0.20417441] [15 27] 0.423843257712\n",
        "\n",
        "frame 696 from 15\n",
        "16 3.0 [ 1.] [ 0.05750843] [16] 0.786396764659\n",
        "\n",
        "frame 697 from 16\n",
        "17 4.0 [ 1.] [ 0.14965645] [17] 0.896029392871\n",
        "\n",
        "frame 698 from 17\n",
        "18 5.0 [ 1.] [ 0.4142774] [18] 0.692974134778\n",
        "\n",
        "frame 699 from 18\n",
        "19 6.0 [ nan] [ 0.] [19] 0.847864772521\n",
        "\n",
        "frame 700 from 19\n",
        "20 7.0 [ 1.] [  5.65645822e-05] [20] 0.646589799787\n",
        "\n",
        "frame 701 from 20\n",
        "21 8.0 [ 1.] [ 0.00020179] [21] 0.65098735198\n",
        "\n",
        "frame 702 from 21\n",
        "22 9.0 [ 1.] [ 0.00054117] [22] 0.0196833465834\n",
        "\n",
        "frame 703 from 22\n",
        "23 10.0 [ 1.] [ 0.00135113] [23] 0.720618913774\n",
        "\n",
        "frame 704 from 23\n",
        "24 11.0 [ nan] [ 0.00362349] [24] 0.768204772524\n",
        "\n",
        "frame 705 from 24\n",
        "25 12.0 [ 1.] [ 0.01292669] [25] 0.775708753141\n",
        "\n",
        "frame 706 from 25\n",
        "jump 20 1.0 [ 0.07056539  0.60835734  0.16032682  0.16075045] [  5.33582374e-02   5.33582374e-02   3.82268727e-08   5.65645822e-05] [26 14  2 20] 0.962514139063\n",
        "\n",
        "frame 707 from 20\n",
        "21 2.0 [ 1.] [ 0.00020179] [21] 0.220089499726\n",
        "\n",
        "frame 708 from 21\n",
        "22 3.0 [ 1.] [ 0.00054117] [22] 0.995440092665\n",
        "\n",
        "frame 709 from 22\n",
        "23"
       ]
      },
      {
       "output_type": "stream",
       "stream": "stdout",
       "text": [
        " 4.0 [ 1.] [ 0.00135113] [23] 0.733132245095\n",
        "\n",
        "frame 710 from 23\n",
        "24 5.0 [ 1.] [ 0.00362349] [24] 0.0140948570286\n",
        "\n",
        "frame 711 from 24\n",
        "25 6.0 [ 1.] [ 0.01292669] [25] 0.535411059936\n",
        "\n",
        "frame 712 from 25\n",
        "jump 14 1.0 [ 0.26201898  0.48304224  0.12730121  0.12763758] [  5.33582374e-02   5.33582374e-02   3.82268727e-08   5.65645822e-05] [26 14  2 20] 0.620062332222\n",
        "\n",
        "frame 713 from 14\n",
        "15 2.0 [ 0.73395025  0.26604975] [ 0.02045368  0.20417441] [15 27] 0.299065815714\n",
        "\n",
        "frame 714 from 15\n",
        "16 3.0 [ 1.] [ 0.05750843] [16] 0.779602915716\n",
        "\n",
        "frame 715 from 16\n",
        "17 4.0 [ 1.] [ 0.14965645] [17] 0.748682657766\n",
        "\n",
        "frame 716 from 17\n",
        "18 5.0 [ 1.] [ 0.4142774] [18] 0.272927088028\n",
        "\n",
        "frame 717 from 18\n",
        "19 6.0 [ nan] [ 0.] [19] 0.0882601696778\n",
        "\n",
        "frame 718 from 19\n",
        "20 7.0 [ 1.] [  5.65645822e-05] [20] 0.0957945415198\n",
        "\n",
        "frame 719 from 20\n",
        "21 8.0 [ 1.] [ 0.00020179] [21] 0.252844508409\n",
        "\n",
        "frame 720 from 21\n",
        "22 9.0 [ 1.] [ 0.00054117] [22] 0.299663321065\n",
        "\n",
        "frame 721 from 22\n",
        "23 10.0 [ 1.] [ 0.00135113] [23] 0.213723194645\n",
        "\n",
        "frame 722 from 23\n",
        "24 11.0 [ nan] [ 0.00362349] [24] 0.209785670962\n",
        "\n",
        "frame 723 from 24\n",
        "25 12.0 [ 1.] [ 0.01292669] [25] 0.706729295057\n",
        "\n",
        "frame 724 from 25\n",
        "jump 14 1.0 [ 0.07056539  0.60835734  0.16032682  0.16075045] [  5.33582374e-02   5.33582374e-02   3.82268727e-08   5.65645822e-05] [26 14  2 20] 0.0828060749598\n",
        "\n",
        "frame 725 from 14\n",
        "15 2.0 [ 0.73395025  0.26604975] [ 0.02045368  0.20417441] [15 27] 0.521998492742\n",
        "\n",
        "frame 726 from 15\n",
        "16 3.0 [ 1.] [ 0.05750843] [16] 0.555451409137\n",
        "\n",
        "frame 727 from 16\n",
        "17 4.0 [ 1.] [ 0.14965645] [17] 0.986966091139\n",
        "\n",
        "frame 728 from 17\n",
        "18 5.0 [ 1.] [ 0.4142774] [18] 0.82966952697\n",
        "\n",
        "frame 729 from 18\n",
        "19 6.0 [ nan] [ 0.] [19] 0.638090335762\n",
        "\n",
        "frame 730 from 19\n",
        "20 7.0 [ 1.] [  5.65645822e-05] [20] 0.13556780479\n",
        "\n",
        "frame 731 from 20\n",
        "21 8.0 [ 1.] [ 0.00020179] [21] 0.857772487359\n",
        "\n",
        "frame 732 from 21\n",
        "22 9.0 [ 1.] [ 0.00054117] [22] 0.0119861099792\n",
        "\n",
        "frame 733 from 22\n",
        "23 10.0 [ 1.] [ 0.00135113] [23] 0.617127713179\n",
        "\n",
        "frame 734 from 23\n",
        "24 11.0 [ nan] [ 0.00362349] [24] 0.515702632356\n",
        "\n",
        "frame 735 from 24\n",
        "25 12.0 [ 1.] [ 0.01292669] [25] 0.335867121655\n",
        "\n",
        "frame 736 from 25\n",
        "jump 20 1.0 [ 0.07056539  0.60835734  0.16032682  0.16075045] [  5.33582374e-02   5.33582374e-02   3.82268727e-08   5.65645822e-05] [26 14  2 20] 0.97839000393\n",
        "\n",
        "frame 737 from 20\n",
        "21 2.0 [ 1.] [ 0.00020179] [21] 0.301500067222\n",
        "\n",
        "frame 738 from 21\n",
        "22 3.0 [ 1.] [ 0.00054117] [22] 0.410052175374\n",
        "\n",
        "frame 739 from 22\n",
        "23 4.0 [ 1.] [ 0.00135113] [23] 0.858831949723\n",
        "\n",
        "frame 740 from 23\n",
        "24 5.0 [ 1.] [ 0.00362349] [24] 0.73391811567\n",
        "\n",
        "frame 741 from 24\n",
        "25 6.0 [ 1.] [ 0.01292669] [25] 0.478740984505\n",
        "\n",
        "frame 742 from 25\n",
        "jump 14 1.0 [ 0.26201898  0.48304224  0.12730121  0.12763758] [  5.33582374e-02   5.33582374e-02   3.82268727e-08   5.65645822e-05] [26 14  2 20] 0.624479950691\n",
        "\n",
        "frame 743 from 14\n",
        "jump 27 1.0 [ 0.73395025  0.26604975] [ 0.02045368  0.20417441] [15 27] 0.792199989816\n",
        "\n",
        "frame 744 from 27\n",
        "jump 17 1.0 [ 0.22583133  0.2415128   0.43952111  0.09313477] [ 0.05750843  0.14965645  0.4142774   0.        ] [16 17 18 19] 0.394792255286\n",
        "\n",
        "frame 745 from 17\n",
        "18 2.0 [ 1.] [ 0.4142774] [18] 0.0853759488057\n",
        "\n",
        "frame 746 from 18\n",
        "19 3.0 [ nan] [ 0.] [19] 0.515879351364\n",
        "\n",
        "frame 747 from 19\n",
        "20 4.0 [ 1.] [  5.65645822e-05] [20] 0.966373006766\n",
        "\n",
        "frame 748 from 20\n",
        "21 5.0 [ 1.] [ 0.00020179] [21] 0.112268240721\n",
        "\n",
        "frame 749 from 21\n",
        "22 6.0 [ 1.] [ 0.00054117] [22] 0.5137499961\n",
        "\n",
        "frame 750 from 22\n",
        "23 7.0 [ 1.] [ 0.00135113] [23] 0.790305073726\n",
        "\n",
        "frame 751 from 23\n",
        "24 8.0 [ 1.] [ 0.00362349] [24] 0.56528214902\n",
        "\n",
        "frame 752 from 24\n",
        "25 9.0 [ 1.] [ 0.01292669] [25] 0.359746790331\n",
        "\n",
        "frame 753 from 25\n",
        "jump 20 1.0 [ 0.01794701  0.64279847  0.16940345  0.16985107] [  5.33582374e-02   5.33582374e-02   3.82268727e-08   5.65645822e-05] [26 14  2 20] 0.95743454168\n",
        "\n",
        "frame 754 from 20\n",
        "21 2.0 [ 1.] [ 0.00020179] [21] 0.470329402812\n",
        "\n",
        "frame 755 from 21\n",
        "22 3.0 [ 1.] [ 0.00054117] [22] 0.573069956005\n",
        "\n",
        "frame 756 from 22\n",
        "23 4.0 [ 1.] [ 0.00135113] [23] 0.341215421255\n",
        "\n",
        "frame 757 from 23\n",
        "24 5.0 [ 1.] [ 0.00362349] [24] 0.638116912877\n",
        "\n",
        "frame 758 from 24\n",
        "25 6.0 [ 1.] [ 0.01292669] [25] 0.899835332126\n",
        "\n",
        "frame 759 from 25\n",
        "jump 14 1.0 [ 0.26201898  0.48304224  0.12730121  0.12763758]"
       ]
      },
      {
       "output_type": "stream",
       "stream": "stdout",
       "text": [
        " [  5.33582374e-02   5.33582374e-02   3.82268727e-08   5.65645822e-05] [26 14  2 20] 0.635747961486\n",
        "\n",
        "frame 760 from 14\n",
        "jump 27 1.0 [ 0.73395025  0.26604975] [ 0.02045368  0.20417441] [15 27] 0.960707075054\n",
        "\n",
        "frame 761 from 27\n",
        "jump 17 1.0 [ 0.22583133  0.2415128   0.43952111  0.09313477] [ 0.05750843  0.14965645  0.4142774   0.        ] [16 17 18 19] 0.382522356862\n",
        "\n",
        "frame 762 from 17\n",
        "18 2.0 [ 1.] [ 0.4142774] [18] 0.687612037437\n",
        "\n",
        "frame 763 from 18\n",
        "19 3.0 [ nan] [ 0.] [19] 0.199259564649\n",
        "\n",
        "frame 764 from 19\n",
        "20 4.0 [ 1.] [  5.65645822e-05] [20] 0.695674107619\n",
        "\n",
        "frame 765 from 20\n",
        "21 5.0 [ 1.] [ 0.00020179] [21] 0.71002059928\n",
        "\n",
        "frame 766 from 21\n",
        "22 6.0 [ 1.] [ 0.00054117] [22] 0.959004130633\n",
        "\n",
        "frame 767 from 22\n",
        "23 7.0 [ 1.] [ 0.00135113] [23] 0.203739601382\n",
        "\n",
        "frame 768 from 23\n",
        "24 8.0 [ 1.] [ 0.00362349] [24] 0.233193276784\n",
        "\n",
        "frame 769 from 24\n",
        "25 9.0 [ 1.] [ 0.01292669] [25] 0.111475093199\n",
        "\n",
        "frame 770 from 25\n",
        "jump 20 1.0 [ 0.01794701  0.64279847  0.16940345  0.16985107] [  5.33582374e-02   5.33582374e-02   3.82268727e-08   5.65645822e-05] [26 14  2 20] 0.966284661575\n",
        "\n",
        "frame 771 from 20\n",
        "21 2.0 [ 1.] [ 0.00020179] [21] 0.374919332441\n",
        "\n",
        "frame 772 from 21\n",
        "22 3.0 [ 1.] [ 0.00054117] [22] 0.939377116658\n",
        "\n",
        "frame 773 from 22\n",
        "23 4.0 [ 1.] [ 0.00135113] [23] 0.46905095714\n",
        "\n",
        "frame 774 from 23\n",
        "24 5.0 [ 1.] [ 0.00362349] [24] 0.65535328642\n",
        "\n",
        "frame 775 from 24\n",
        "25 6.0 [ 1.] [ 0.01292669] [25] 0.35602416128\n",
        "\n",
        "frame 776 from 25\n",
        "jump 14 1.0 [ 0.26201898  0.48304224  0.12730121  0.12763758] [  5.33582374e-02   5.33582374e-02   3.82268727e-08   5.65645822e-05] [26 14  2 20] 0.723880090438\n",
        "\n",
        "frame 777 from 14\n",
        "15 2.0 [ 0.73395025  0.26604975] [ 0.02045368  0.20417441] [15 27] 0.54595091372\n",
        "\n",
        "frame 778 from 15\n",
        "16 3.0 [ 1.] [ 0.05750843] [16] 0.628936411049\n",
        "\n",
        "frame 779 from 16\n",
        "17 4.0 [ 1.] [ 0.14965645] [17] 0.230418691677\n",
        "\n",
        "frame 780 from 17\n",
        "18 5.0 [ 1.] [ 0.4142774] [18] 0.393643757248\n",
        "\n",
        "frame 781 from 18\n",
        "19 6.0 [ nan] [ 0.] [19] 0.139741265034\n",
        "\n",
        "frame 782 from 19\n",
        "20 7.0 [ 1.] [  5.65645822e-05] [20] 0.218637425656\n",
        "\n",
        "frame 783 from 20\n",
        "21 8.0 [ 1.] [ 0.00020179] [21] 0.364099526299\n",
        "\n",
        "frame 784 from 21\n",
        "22 9.0 [ 1.] [ 0.00054117] [22] 0.331576063175\n",
        "\n",
        "frame 785 from 22\n",
        "23 10.0 [ 1.] [ 0.00135113] [23] 0.525415429807\n",
        "\n",
        "frame 786 from 23\n",
        "24 11.0 [ nan] [ 0.00362349] [24] 0.0873005005279\n",
        "\n",
        "frame 787 from 24\n",
        "25 12.0 [ 1.] [ 0.01292669] [25] 0.825678509088\n",
        "\n",
        "frame 788 from 25\n",
        "jump 20 1.0 [ 0.07056539  0.60835734  0.16032682  0.16075045] [  5.33582374e-02   5.33582374e-02   3.82268727e-08   5.65645822e-05] [26 14  2 20] 0.924544077294\n",
        "\n",
        "frame 789 from 20\n",
        "21 2.0 [ 1.] [ 0.00020179] [21] 0.25290662627\n",
        "\n",
        "frame 790 from 21\n",
        "22 3.0 [ 1.] [ 0.00054117] [22] 0.629960830453\n",
        "\n",
        "frame 791 from 22\n",
        "23 4.0 [ 1.] [ 0.00135113] [23] 0.166723083984\n",
        "\n",
        "frame 792 from 23\n",
        "24 5.0 [ 1.] [ 0.00362349] [24] 0.0567839645206\n",
        "\n",
        "frame 793 from 24\n",
        "25 6.0 [ 1.] [ 0.01292669] [25] 0.535186195307\n",
        "\n",
        "frame 794 from 25\n",
        "jump 2 1.0 [ 0.26201898  0.48304224  0.12730121  0.12763758] [  5.33582374e-02   5.33582374e-02   3.82268727e-08   5.65645822e-05] [26 14  2 20] 0.776831127538\n",
        "\n",
        "frame 795 from 2\n",
        "3 2.0 [ 1.] [  1.36373256e-07] [3] 0.913120084857\n",
        "\n",
        "frame 796 from 3\n",
        "4 3.0 [ 1.] [  3.65729475e-07] [4] 0.631043082988\n",
        "\n",
        "frame 797 from 4\n",
        "5 4.0 [ 1.] [  9.13104472e-07] [5] 0.186783214286\n",
        "\n",
        "frame 798 from 5\n",
        "6 5.0 [ 1.] [  2.44878819e-06] [6] 0.931070223979\n",
        "\n",
        "frame 799 from 6\n",
        "7 6.0 [ 1.] [  8.73598062e-06] [7] 0.0299428911472\n",
        "\n",
        "frame 800 from 7\n",
        "8 7.0 [ 1.] [  3.52460170e-05] [8] 0.0587265454052\n",
        "\n",
        "frame 801 from 8\n",
        "9 8.0 [ 1.] [ 0.0001302] [9] 0.962518548034\n",
        "\n",
        "frame 802 from 9\n",
        "10 9.0 [ 1.] [ 0.00037454] [10] 0.947226808467\n",
        "\n",
        "frame 803 from 10\n",
        "11 10.0 [ 1.] [ 0.00102394] [11] 0.404472953814\n",
        "\n",
        "frame 804 from 11\n",
        "12 11.0 [ nan] [ 0.0031166] [12] 0.0411468424208\n",
        "\n",
        "frame 805 from 12\n",
        "jump 1 1.0 [ 0.02002589  0.64080036  0.33917374] [ 0.01237222  0.00833034  0.0031166 ] [13  1  0] 0.0326179795271\n",
        "\n",
        "frame 806 from 1\n",
        "2 2.0 [ 0.57283043  0.19549214  0.05165624  0.18002119] [  3.82268727e-08   5.33582374e-02   5.65645822e-05   5.33582374e-02] [ 2 14 20 26] 0.188973405209\n",
        "\n",
        "frame 807 from 2\n",
        "3 3.0 [ 1.] [  1.36373256e-07] [3] 0.18561771639\n",
        "\n",
        "frame 808 from 3\n",
        "4 4.0 [ 1.] [  3.65729475e-07] [4] 0.146472983744\n",
        "\n",
        "frame "
       ]
      },
      {
       "output_type": "stream",
       "stream": "stdout",
       "text": [
        "809 from 4\n",
        "5 5.0 [ 1.] [  9.13104472e-07] [5] 0.245435693744\n",
        "\n",
        "frame 810 from 5\n",
        "6 6.0 [ 1.] [  2.44878819e-06] [6] 0.555579332289\n",
        "\n",
        "frame 811 from 6\n",
        "7 7.0 [ 1.] [  8.73598062e-06] [7] 0.217584520046\n",
        "\n",
        "frame 812 from 7\n",
        "8 8.0 [ 1.] [  3.52460170e-05] [8] 0.399916520277\n",
        "\n",
        "frame 813 from 8\n",
        "9 9.0 [ 1.] [ 0.0001302] [9] 0.88575314811\n",
        "\n",
        "frame 814 from 9\n",
        "10 10.0 [ 1.] [ 0.00037454] [10] 0.725285429176\n",
        "\n",
        "frame 815 from 10\n",
        "11 11.0 [ nan] [ 0.00102394] [11] 0.00803496031292\n",
        "\n",
        "frame 816 from 11\n",
        "12 12.0 [ 1.] [ 0.0031166] [12] 0.296376379286\n",
        "\n",
        "frame 817 from 12\n",
        "jump 1 1.0 [ 0.07825362  0.60272553  0.31902085] [ 0.01237222  0.00833034  0.0031166 ] [13  1  0] 0.624460448675\n",
        "\n",
        "frame 818 from 1\n",
        "2 2.0 [ 0.57283043  0.19549214  0.05165624  0.18002119] [  3.82268727e-08   5.33582374e-02   5.65645822e-05   5.33582374e-02] [ 2 14 20 26] 0.445345631928\n",
        "\n",
        "frame 819 from 2\n",
        "3 3.0 [ 1.] [  1.36373256e-07] [3] 0.360671019869\n",
        "\n",
        "frame 820 from 3\n",
        "4 4.0 [ 1.] [  3.65729475e-07] [4] 0.0913335316392\n",
        "\n",
        "frame 821 from 4\n",
        "5 5.0 [ 1.] [  9.13104472e-07] [5] 0.499759867649\n",
        "\n",
        "frame 822 from 5\n",
        "6 6.0 [ 1.] [  2.44878819e-06] [6] 0.710953379331\n",
        "\n",
        "frame 823 from 6\n",
        "7 7.0 [ 1.] [  8.73598062e-06] [7] 0.126471479685\n",
        "\n",
        "frame 824 from 7\n",
        "8 8.0 [ 1.] [  3.52460170e-05] [8] 0.820048081918\n",
        "\n",
        "frame 825 from 8\n",
        "9 9.0 [ 1.] [ 0.0001302] [9] 0.261553359344\n",
        "\n",
        "frame 826 from 9\n",
        "10 10.0 [ 1.] [ 0.00037454] [10] 0.242353412104\n",
        "\n",
        "frame 827 from 10\n",
        "11 11.0 [ nan] [ 0.00102394] [11] 0.727534487003\n",
        "\n",
        "frame 828 from 11\n",
        "12 12.0 [ 1.] [ 0.0031166] [12] 0.0744698110255\n",
        "\n",
        "frame 829 from 12\n",
        "13 13.0 [ 0.07825362  0.60272553  0.31902085] [ 0.01237222  0.00833034  0.0031166 ] [13  1  0] 0.0509713157229\n",
        "\n",
        "frame 830 from 13\n",
        "jump 2 1.0 [ 0.16940346  0.22755189  0.60304466] [  5.33582374e-02   3.82268727e-08   5.33582374e-02] [14  2 26] 0.207841577688\n",
        "\n",
        "frame 831 from 2\n",
        "3 2.0 [ 1.] [  1.36373256e-07] [3] 0.430379940072\n",
        "\n",
        "frame 832 from 3\n",
        "4 3.0 [ 1.] [  3.65729475e-07] [4] 0.590718457335\n",
        "\n",
        "frame 833 from 4\n",
        "5 4.0 [ 1.] [  9.13104472e-07] [5] 0.792012931664\n",
        "\n",
        "frame 834 from 5\n",
        "6 5.0 [ 1.] [  2.44878819e-06] [6] 0.0913128520034\n",
        "\n",
        "frame 835 from 6\n",
        "7 6.0 [ 1.] [  8.73598062e-06] [7] 0.6140844723\n",
        "\n",
        "frame 836 from 7\n",
        "8 7.0 [ 1.] [  3.52460170e-05] [8] 0.499598352667\n",
        "\n",
        "frame 837 from 8\n",
        "9 8.0 [ 1.] [ 0.0001302] [9] 0.48302035018\n",
        "\n",
        "frame 838 from 9\n",
        "10 9.0 [ 1.] [ 0.00037454] [10] 0.93972669824\n",
        "\n",
        "frame 839 from 10\n",
        "11 10.0 [ 1.] [ 0.00102394] [11] 0.657286875082\n",
        "\n",
        "frame 840 from 11\n",
        "12 11.0 [ nan] [ 0.0031166] [12] 0.1287513459\n",
        "\n",
        "frame 841 from 12\n",
        "jump 0 1.0 [ 0.02002589  0.64080036  0.33917374] [ 0.01237222  0.00833034  0.0031166 ] [13  1  0] 0.849034054067\n",
        "\n",
        "frame 842 from 0\n",
        "1 2.0 [ 0.73477417  0.14223897  0.0564764   0.02988256  0.03662789] [ 0.00833034  0.01237222  0.0031166   0.0001302   0.00102394] [ 1 13 12  9 11] 0.509348169618\n",
        "\n",
        "frame 843 from 1\n",
        "2 3.0 [ 0.44631972  0.25338918  0.06695477  0.23333634] [  3.82268727e-08   5.33582374e-02   5.65645822e-05   5.33582374e-02] [ 2 14 20 26] 0.0361249658226\n",
        "\n",
        "frame 844 from 2\n",
        "3 4.0 [ 1.] [  1.36373256e-07] [3] 0.814894101158\n",
        "\n",
        "frame 845 from 3\n",
        "4 5.0 [ 1.] [  3.65729475e-07] [4] 0.641103932101\n",
        "\n",
        "frame 846 from 4\n",
        "5 6.0 [ 1.] [  9.13104472e-07] [5] 0.120675276432\n",
        "\n",
        "frame 847 from 5\n",
        "6 7.0 [ 1.] [  2.44878819e-06] [6] 0.440021411698\n",
        "\n",
        "frame 848 from 6\n",
        "7 8.0 [ 1.] [  8.73598062e-06] [7] 0.465068591746\n",
        "\n",
        "frame 849 from 7\n",
        "8 9.0 [ 1.] [  3.52460170e-05] [8] 0.918030542858\n",
        "\n",
        "frame 850 from 8\n",
        "9 10.0 [ 1.] [ 0.0001302] [9] 0.310807851319\n",
        "\n",
        "frame 851 from 9\n",
        "10 11.0 [ nan] [ 0.00037454] [10] 0.344187876303\n",
        "\n",
        "frame 852 from 10\n",
        "11 12.0 [ 1.] [ 0.00102394] [11] 0.3013221407\n",
        "\n",
        "frame 853 from 11\n",
        "12 13.0 [ 1.] [ 0.0031166] [12] 0.0352146390379\n",
        "\n",
        "frame 854 from 12\n",
        "jump 1 1.0 [ 0.16921612  0.54324559  0.28753829] [ 0.01237222  0.00833034  0.0031166 ] [13  1  0] 0.515232887094\n",
        "\n",
        "frame 855 from 1\n",
        "2 2.0 [ 0.57283043  0.19549214  0.05165624  0.18002119] [  3.82268727e-08   5.33582374e-02   5.65645822e-05   5.33582374e-02] [ 2 14 20 26] 0.0875662296159\n",
        "\n",
        "frame 856 from 2\n",
        "3 3.0 [ 1.] [  1.36373256e-07] [3] 0.717507347113\n",
        "\n",
        "frame 857 from 3\n",
        "4 4.0 [ 1.]"
       ]
      },
      {
       "output_type": "stream",
       "stream": "stdout",
       "text": [
        " [  3.65729475e-07] [4] 0.0731021077251\n",
        "\n",
        "frame 858 from 4\n",
        "5 5.0 [ 1.] [  9.13104472e-07] [5] 0.692285032617\n",
        "\n",
        "frame 859 from 5\n",
        "6 6.0 [ 1.] [  2.44878819e-06] [6] 0.427444828115\n",
        "\n",
        "frame 860 from 6\n",
        "7 7.0 [ 1.] [  8.73598062e-06] [7] 0.260914120287\n",
        "\n",
        "frame 861 from 7\n",
        "8 8.0 [ 1.] [  3.52460170e-05] [8] 0.751760562838\n",
        "\n",
        "frame 862 from 8\n",
        "9 9.0 [ 1.] [ 0.0001302] [9] 0.0037169417359\n",
        "\n",
        "frame 863 from 9\n",
        "10 10.0 [ 1.] [ 0.00037454] [10] 0.93902140933\n",
        "\n",
        "frame 864 from 10\n",
        "11 11.0 [ nan] [ 0.00102394] [11] 0.481664945147\n",
        "\n",
        "frame 865 from 11\n",
        "12 12.0 [ 1.] [ 0.0031166] [12] 0.23130012071\n",
        "\n",
        "frame 866 from 12\n",
        "jump 1 1.0 [ 0.07825362  0.60272553  0.31902085] [ 0.01237222  0.00833034  0.0031166 ] [13  1  0] 0.672136888394\n",
        "\n",
        "frame 867 from 1\n",
        "2 2.0 [ 0.57283043  0.19549214  0.05165624  0.18002119] [  3.82268727e-08   5.33582374e-02   5.65645822e-05   5.33582374e-02] [ 2 14 20 26] 0.544845556038\n",
        "\n",
        "frame 868 from 2\n",
        "3 3.0 [ 1.] [  1.36373256e-07] [3] 0.617634104714\n",
        "\n",
        "frame 869 from 3\n",
        "4 4.0 [ 1.] [  3.65729475e-07] [4] 0.912785519769\n",
        "\n",
        "frame 870 from 4\n",
        "5 5.0 [ 1.] [  9.13104472e-07] [5] 0.369736456215\n",
        "\n",
        "frame 871 from 5\n",
        "6 6.0 [ 1.] [  2.44878819e-06] [6] 0.204301014633\n",
        "\n",
        "frame 872 from 6\n",
        "7 7.0 [ 1.] [  8.73598062e-06] [7] 0.0173681037846\n",
        "\n",
        "frame 873 from 7\n",
        "8 8.0 [ 1.] [  3.52460170e-05] [8] 0.63532036619\n",
        "\n",
        "frame 874 from 8\n",
        "9 9.0 [ 1.] [ 0.0001302] [9] 0.472516001916\n",
        "\n",
        "frame 875 from 9\n",
        "10 10.0 [ 1.] [ 0.00037454] [10] 0.23519375708\n",
        "\n",
        "frame 876 from 10\n",
        "11 11.0 [ nan] [ 0.00102394] [11] 0.245829169468\n",
        "\n",
        "frame 877 from 11\n",
        "12 12.0 [ 1.] [ 0.0031166] [12] 0.0303489270735\n",
        "\n",
        "frame 878 from 12\n",
        "jump 0 1.0 [ 0.07825362  0.60272553  0.31902085] [ 0.01237222  0.00833034  0.0031166 ] [13  1  0] 0.768487531246\n",
        "\n",
        "frame 879 from 0\n",
        "1 2.0 [ 0.73477417  0.14223897  0.0564764   0.02988256  0.03662789] [ 0.00833034  0.01237222  0.0031166   0.0001302   0.00102394] [ 1 13 12  9 11] 0.558325004707\n",
        "\n",
        "frame 880 from 1\n",
        "2 3.0 [ 0.44631972  0.25338918  0.06695477  0.23333634] [  3.82268727e-08   5.33582374e-02   5.65645822e-05   5.33582374e-02] [ 2 14 20 26] 0.275272929703\n",
        "\n",
        "frame 881 from 2\n",
        "3 4.0 [ 1.] [  1.36373256e-07] [3] 0.721078856734\n",
        "\n",
        "frame 882 from 3\n",
        "4 5.0 [ 1.] [  3.65729475e-07] [4] 0.748586410083\n",
        "\n",
        "frame 883 from 4\n",
        "5 6.0 [ 1.] [  9.13104472e-07] [5] 0.982698908906\n",
        "\n",
        "frame 884 from 5\n",
        "6 7.0 [ 1.] [  2.44878819e-06] [6] 0.542842405464\n",
        "\n",
        "frame 885 from 6\n",
        "7 8.0 [ 1.] [  8.73598062e-06] [7] 0.668418374959\n",
        "\n",
        "frame 886 from 7\n",
        "8 9.0 [ 1.] [  3.52460170e-05] [8] 0.884238893508\n",
        "\n",
        "frame 887 from 8\n",
        "9 10.0 [ 1.] [ 0.0001302] [9] 0.381657959624\n",
        "\n",
        "frame 888 from 9\n",
        "10 11.0 [ nan] [ 0.00037454] [10] 0.661405465306\n",
        "\n",
        "frame 889 from 10\n",
        "11 12.0 [ 1.] [ 0.00102394] [11] 0.342765912253\n",
        "\n",
        "frame 890 from 11\n",
        "12 13.0 [ 1.] [ 0.0031166] [12] 0.49295414628\n",
        "\n",
        "frame 891 from 12\n",
        "jump 1 1.0 [ 0.16921612  0.54324559  0.28753829] [ 0.01237222  0.00833034  0.0031166 ] [13  1  0] 0.513865690638\n",
        "\n",
        "frame 892 from 1\n",
        "2 2.0 [ 0.57283043  0.19549214  0.05165624  0.18002119] [  3.82268727e-08   5.33582374e-02   5.65645822e-05   5.33582374e-02] [ 2 14 20 26] 0.431161586737\n",
        "\n",
        "frame 893 from 2\n",
        "3 3.0 [ 1.] [  1.36373256e-07] [3] 0.976532887942\n",
        "\n",
        "frame 894 from 3\n",
        "4 4.0 [ 1.] [  3.65729475e-07] [4] 0.413369652197\n",
        "\n",
        "frame 895 from 4\n",
        "5 5.0 [ 1.] [  9.13104472e-07] [5] 0.700632524538\n",
        "\n",
        "frame 896 from 5\n",
        "6 6.0 [ 1.] [  2.44878819e-06] [6] 0.228377424432\n",
        "\n",
        "frame 897 from 6\n",
        "7 7.0 [ 1.] [  8.73598062e-06] [7] 0.835993151375\n",
        "\n",
        "frame 898 from 7\n",
        "8 8.0 [ 1.] [  3.52460170e-05] [8] 0.237953424447\n",
        "\n",
        "frame 899 from 8\n",
        "9 9.0 [ 1.] [ 0.0001302] [9] 0.318234048162\n",
        "\n",
        "frame 900 from 9\n",
        "10 10.0 [ 1.] [ 0.00037454] [10] 0.492485559235\n",
        "\n",
        "frame 901 from 10\n",
        "11 11.0 [ nan] [ 0.00102394] [11] 0.717370133978\n",
        "\n",
        "frame 902 from 11\n",
        "12 12.0 [ 1.] [ 0.0031166] [12] 0.574854167718\n",
        "\n",
        "frame 903 from 12\n",
        "jump 1 1.0 [ 0.07825362  0.60272553  0.31902085] [ 0.01237222  0.00833034  0.0031166 ] [13  1  0] 0.222460005747\n",
        "\n",
        "frame 904 from 1\n",
        "jump 26 1.0 [ 0.57283043  0.19549214  0.05165624  0.18002119] [  3.82268727e-08   5.33582374e-02   5.65645822e-05   5.33582374e-02] [ 2 14 20 26] 0.859281170308\n",
        "\n",
        "frame 905 from 26\n",
        "27 2.0 [ 0.94003348  0.05996652] [ 0.20417441  0.02045368] [27 15] 0.22949153205\n",
        "\n",
        "frame 906 from 27\n",
        "jump 18 1.0 [ 0.22583133  0.2415128   0.43952111  0.09313477] [ 0.05750843  0.14965645  0.4142774   0.        ] [16 17 18 19] 0.532237579781\n",
        "\n",
        "frame 907 from 18\n",
        "19 2.0 [ nan] [ 0.] [19] 0.2018393629"
       ]
      },
      {
       "output_type": "stream",
       "stream": "stdout",
       "text": [
        "\n",
        "\n",
        "frame 908 from 19\n",
        "20 3.0 [ 1.] [  5.65645822e-05] [20] 0.528451029168\n",
        "\n",
        "frame 909 from 20\n",
        "21 4.0 [ 1.] [ 0.00020179] [21] 0.399158836754\n",
        "\n",
        "frame 910 from 21\n",
        "22 5.0 [ 1.] [ 0.00054117] [22] 0.879881690466\n",
        "\n",
        "frame 911 from 22\n",
        "23 6.0 [ 1.] [ 0.00135113] [23] 0.771486659792\n",
        "\n",
        "frame 912 from 23\n",
        "24 7.0 [ 1.] [ 0.00362349] [24] 0.92944850688\n",
        "\n",
        "frame 913 from 24\n",
        "25 8.0 [ 1.] [ 0.01292669] [25] 0.781426696974\n",
        "\n",
        "frame 914 from 25\n",
        "jump 14 1.0 [ 0.07056539  0.60835734  0.16032682  0.16075045] [  5.33582374e-02   5.33582374e-02   3.82268727e-08   5.65645822e-05] [26 14  2 20] 0.223019885194\n",
        "\n",
        "frame 915 from 14\n",
        "15 2.0 [ 0.73395025  0.26604975] [ 0.02045368  0.20417441] [15 27] 0.192494638905\n",
        "\n",
        "frame 916 from 15\n",
        "16 3.0 [ 1.] [ 0.05750843] [16] 0.51919276506\n",
        "\n",
        "frame 917 from 16\n",
        "17 4.0 [ 1.] [ 0.14965645] [17] 0.650929994938\n",
        "\n",
        "frame 918 from 17\n",
        "18 5.0 [ 1.] [ 0.4142774] [18] 0.297347316984\n",
        "\n",
        "frame 919 from 18\n",
        "19 6.0 [ nan] [ 0.] [19] 0.534001417485\n",
        "\n",
        "frame 920 from 19\n",
        "20 7.0 [ 1.] [  5.65645822e-05] [20] 0.86621428868\n",
        "\n",
        "frame 921 from 20\n",
        "21 8.0 [ 1.] [ 0.00020179] [21] 0.066425006286\n",
        "\n",
        "frame 922 from 21\n",
        "22 9.0 [ 1.] [ 0.00054117] [22] 0.160252551645\n",
        "\n",
        "frame 923 from 22\n",
        "23 10.0 [ 1.] [ 0.00135113] [23] 0.241048356764\n",
        "\n",
        "frame 924 from 23\n",
        "24 11.0 [ nan] [ 0.00362349] [24] 0.871063594868\n",
        "\n",
        "frame 925 from 24\n",
        "25 12.0 [ 1.] [ 0.01292669] [25] 0.552166146472\n",
        "\n",
        "frame 926 from 25\n",
        "jump 14 1.0 [ 0.07056539  0.60835734  0.16032682  0.16075045] [  5.33582374e-02   5.33582374e-02   3.82268727e-08   5.65645822e-05] [26 14  2 20] 0.480015089514\n",
        "\n",
        "frame 927 from 14\n",
        "15 2.0 [ 0.73395025  0.26604975] [ 0.02045368  0.20417441] [15 27] 0.473926974182\n",
        "\n",
        "frame 928 from 15\n",
        "16 3.0 [ 1.] [ 0.05750843] [16] 0.882136423273\n",
        "\n",
        "frame 929 from 16\n",
        "17 4.0 [ 1.] [ 0.14965645] [17] 0.5496999594\n",
        "\n",
        "frame 930 from 17\n",
        "18 5.0 [ 1.] [ 0.4142774] [18] 0.990028239735\n",
        "\n",
        "frame 931 from 18\n",
        "19 6.0 [ nan] [ 0.] [19] 0.226522247668\n",
        "\n",
        "frame 932 from 19\n",
        "20 7.0 [ 1.] [  5.65645822e-05] [20] 0.77607195235\n",
        "\n",
        "frame 933 from 20\n",
        "21 8.0 [ 1.] [ 0.00020179] [21] 0.32882086458\n",
        "\n",
        "frame 934 from 21\n",
        "22 9.0 [ 1.] [ 0.00054117] [22] 0.0591758114513\n",
        "\n",
        "frame 935 from 22\n",
        "23 10.0 [ 1.] [ 0.00135113] [23] 0.220692976115\n",
        "\n",
        "frame 936 from 23\n",
        "24 11.0 [ nan] [ 0.00362349] [24] 0.490538636436\n",
        "\n",
        "frame 937 from 24\n",
        "25 12.0 [ 1.] [ 0.01292669] [25] 0.275923546282\n",
        "\n",
        "frame 938 from 25\n",
        "jump 20 1.0 [ 0.07056539  0.60835734  0.16032682  0.16075045] [  5.33582374e-02   5.33582374e-02   3.82268727e-08   5.65645822e-05] [26 14  2 20] 0.938971814263\n",
        "\n",
        "frame 939 from 20\n",
        "21 2.0 [ 1.] [ 0.00020179] [21] 0.451027637728\n",
        "\n",
        "frame 940 from 21\n",
        "22 3.0 [ 1.] [ 0.00054117] [22] 0.307709700229\n",
        "\n",
        "frame 941 from 22\n",
        "23 4.0 [ 1.] [ 0.00135113] [23] 0.720326631426\n",
        "\n",
        "frame 942 from 23\n",
        "24 5.0 [ 1.] [ 0.00362349] [24] 0.925979344083\n",
        "\n",
        "frame 943 from 24\n",
        "25 6.0 [ 1.] [ 0.01292669] [25] 0.231171075375\n",
        "\n",
        "frame 944 from 25\n",
        "26 7.0 [ 0.26201898  0.48304224  0.12730121  0.12763758] [  5.33582374e-02   5.33582374e-02   3.82268727e-08   5.65645822e-05] [26 14  2 20] 0.241191775695\n",
        "\n",
        "frame 945 from 26\n",
        "27 8.0 [ 0.37557788  0.62442212] [ 0.20417441  0.02045368] [27 15] 0.0922956079685\n",
        "\n",
        "frame 946 from 27\n",
        "jump 16 1.0 [ 0.22583133  0.2415128   0.43952111  0.09313477] [ 0.05750843  0.14965645  0.4142774   0.        ] [16 17 18 19] 0.102665047513\n",
        "\n",
        "frame 947 from 16\n",
        "17 2.0 [ 1.] [ 0.14965645] [17] 0.749414922868\n",
        "\n",
        "frame 948 from 17\n",
        "18 3.0 [ 1.] [ 0.4142774] [18] 0.347834387701\n",
        "\n",
        "frame 949 from 18\n",
        "19 4.0 [ nan] [ 0.] [19] 0.90319560373\n",
        "\n",
        "frame 950 from 19\n",
        "20 5.0 [ 1.] [  5.65645822e-05] [20] 0.140498947764\n",
        "\n",
        "frame 951 from 20\n",
        "21 6.0 [ 1.] [ 0.00020179] [21] 0.147326600703\n",
        "\n",
        "frame 952 from 21\n",
        "22 7.0 [ 1.] [ 0.00054117] [22] 0.973153207479\n",
        "\n",
        "frame 953 from 22\n",
        "23 8.0 [ 1.] [ 0.00135113] [23] 0.604101435698\n",
        "\n",
        "frame 954 from 23\n",
        "24 9.0 [ 1.] [ 0.00362349] [24] 0.47054357964\n",
        "\n",
        "frame 955 from 24\n",
        "25 10.0 [ 1.] [ 0.01292669]"
       ]
      },
      {
       "output_type": "stream",
       "stream": "stdout",
       "text": [
        " [25] 0.341619297073\n",
        "\n",
        "frame 956 from 25\n",
        "jump 14 1.0 [ 0.          0.65454561  0.1724993   0.17295509] [  5.33582374e-02   5.33582374e-02   3.82268727e-08   5.65645822e-05] [26 14  2 20] 0.169605928165\n",
        "\n",
        "frame 957 from 14\n",
        "15 2.0 [ 0.73395025  0.26604975] [ 0.02045368  0.20417441] [15 27] 0.261796025491\n",
        "\n",
        "frame 958 from 15\n",
        "16 3.0 [ 1.] [ 0.05750843] [16] 0.501128105558\n",
        "\n",
        "frame 959 from 16\n",
        "17 4.0 [ 1.] [ 0.14965645] [17] 0.622123490263\n",
        "\n",
        "frame 960 from 17\n",
        "18 5.0 [ 1.] [ 0.4142774] [18] 0.798782322161\n",
        "\n",
        "frame 961 from 18\n",
        "19 6.0 [ nan] [ 0.] [19] 0.954299317613\n",
        "\n",
        "frame 962 from 19\n",
        "20 7.0 [ 1.] [  5.65645822e-05] [20] 0.71871771643\n",
        "\n",
        "frame 963 from 20\n",
        "21 8.0 [ 1.] [ 0.00020179] [21] 0.874108731511\n",
        "\n",
        "frame 964 from 21\n",
        "22 9.0 [ 1.] [ 0.00054117] [22] 0.93916980153\n",
        "\n",
        "frame 965 from 22\n",
        "23 10.0 [ 1.] [ 0.00135113] [23] 0.0742578397051\n",
        "\n",
        "frame 966 from 23\n",
        "24 11.0 [ nan] [ 0.00362349] [24] 0.356083029412\n",
        "\n",
        "frame 967 from 24\n",
        "25 12.0 [ 1.] [ 0.01292669] [25] 0.699113685153\n",
        "\n",
        "frame 968 from 25\n",
        "jump 2 1.0 [ 0.07056539  0.60835734  0.16032682  0.16075045] [  5.33582374e-02   5.33582374e-02   3.82268727e-08   5.65645822e-05] [26 14  2 20] 0.773619766929\n",
        "\n",
        "frame 969 from 2\n",
        "3 2.0 [ 1.] [  1.36373256e-07] [3] 0.776120054819\n",
        "\n",
        "frame 970 from 3\n",
        "4 3.0 [ 1.] [  3.65729475e-07] [4] 0.348983956248\n",
        "\n",
        "frame 971 from 4\n",
        "5 4.0 [ 1.] [  9.13104472e-07] [5] 0.753642557955\n",
        "\n",
        "frame 972 from 5\n",
        "6 5.0 [ 1.] [  2.44878819e-06] [6] 0.113874641326\n",
        "\n",
        "frame 973 from 6\n",
        "7 6.0 [ 1.] [  8.73598062e-06] [7] 0.0439592001178\n",
        "\n",
        "frame 974 from 7\n",
        "8 7.0 [ 1.] [  3.52460170e-05] [8] 0.272724139977\n",
        "\n",
        "frame 975 from 8\n",
        "9 8.0 [ 1.] [ 0.0001302] [9] 0.398447773787\n",
        "\n",
        "frame 976 from 9\n",
        "10 9.0 [ 1.] [ 0.00037454] [10] 0.249051384086\n",
        "\n",
        "frame 977 from 10\n",
        "11 10.0 [ 1.] [ 0.00102394] [11] 0.644530762221\n",
        "\n",
        "frame 978 from 11\n",
        "12 11.0 [ nan] [ 0.0031166] [12] 0.25291061001\n",
        "\n",
        "frame 979 from 12\n",
        "jump 1 1.0 [ 0.02002589  0.64080036  0.33917374] [ 0.01237222  0.00833034  0.0031166 ] [13  1  0] 0.0608472490222\n",
        "\n",
        "frame 980 from 1\n",
        "2 2.0 [ 0.57283043  0.19549214  0.05165624  0.18002119] [  3.82268727e-08   5.33582374e-02   5.65645822e-05   5.33582374e-02] [ 2 14 20 26] 0.162242599228\n",
        "\n",
        "frame 981 from 2\n",
        "3 3.0 [ 1.] [  1.36373256e-07] [3] 0.0222374460751\n",
        "\n",
        "frame 982 from 3\n",
        "4 4.0 [ 1.] [  3.65729475e-07] [4] 0.323309400897\n",
        "\n",
        "frame 983 from 4\n",
        "5 5.0 [ 1.] [  9.13104472e-07] [5] 0.150476321224\n",
        "\n",
        "frame 984 from 5\n",
        "6 6.0 [ 1.] [  2.44878819e-06] [6] 0.701765298939\n",
        "\n",
        "frame 985 from 6\n",
        "7 7.0 [ 1.] [  8.73598062e-06] [7] 0.411443065572\n",
        "\n",
        "frame 986 from 7\n",
        "8 8.0 [ 1.] [  3.52460170e-05] [8] 0.566130590676\n",
        "\n",
        "frame 987 from 8\n",
        "9 9.0 [ 1.] [ 0.0001302] [9] 0.417120822952\n",
        "\n",
        "frame 988 from 9\n",
        "10 10.0 [ 1.] [ 0.00037454] [10] 0.549224304375\n",
        "\n",
        "frame 989 from 10\n",
        "11 11.0 [ nan] [ 0.00102394] [11] 0.0648003364588\n",
        "\n",
        "frame 990 from 11\n",
        "12 12.0 [ 1.] [ 0.0031166] [12] 0.789505155341\n",
        "\n",
        "frame 991 from 12\n",
        "jump 0 1.0 [ 0.07825362  0.60272553  0.31902085] [ 0.01237222  0.00833034  0.0031166 ] [13  1  0] 0.702411544993\n",
        "\n",
        "frame 992 from 0\n",
        "jump 13 1.0 [ 0.73477417  0.14223897  0.0564764   0.02988256  0.03662789] [ 0.00833034  0.01237222  0.0031166   0.0001302   0.00102394] [ 1 13 12  9 11] 0.757156039167\n",
        "\n",
        "frame 993 from 13\n",
        "14 2.0 [ 0.84165966  0.04337924  0.11496111] [  5.33582374e-02   3.82268727e-08   5.33582374e-02] [14  2 26] 0.757733361133\n",
        "\n",
        "frame 994 from 14\n",
        "jump 27 1.0 [ 0.62382076  0.37617924] [ 0.02045368  0.20417441] [15 27] 0.822280287126\n",
        "\n",
        "frame 995 from 27\n",
        "jump 18 1.0 [ 0.22583133  0.2415128   0.43952111  0.09313477] [ 0.05750843  0.14965645  0.4142774   0.        ] [16 17 18 19] 0.600984710703\n",
        "\n",
        "frame 996 from 18\n",
        "19 2.0 [ nan] [ 0.] [19] 0.880083852764\n",
        "\n",
        "frame 997 from 19\n",
        "20 3.0 [ 1.] [  5.65645822e-05] [20] 0.286718788126\n",
        "\n",
        "frame 998 from 20\n",
        "21 4.0 [ 1.] [ 0.00020179] [21] 0.644557728587\n",
        "\n",
        "frame 999 from 21\n",
        "22 5.0 [ 1.] [ 0.00054117] [22] 0.896369370258\n"
       ]
      },
      {
       "metadata": {},
       "output_type": "pyout",
       "prompt_number": 136,
       "text": [
        "[<matplotlib.lines.Line2D at 0x7efed247ce10>,\n",
        " <matplotlib.lines.Line2D at 0x7efed247cf90>]"
       ]
      }
     ],
     "prompt_number": 136
    },
    {
     "cell_type": "code",
     "collapsed": false,
     "input": [
      "# gwv.showCustomGraph(shortPathLengths)\n",
      "# gwv.showCustomGraph(pathProbMat)\n",
      "print getShortestPath(frameGraph, 13, initialNodes[0])\n",
      "# print cumsum([ 0.80486629,  0.1009968,   0.09413692])\n",
      "print pathProbMat[13, initialNodes[0]], shortPathLengths[13, initialNodes[0]]\n",
      "print getShortestPath(frameGraph, 1, initialNodes[0])\n",
      "print pathProbMat[1, initialNodes[0]], shortPathLengths[1, initialNodes[0]]\n",
      "# print getShortestPath(frameGraph, 15, 0)"
     ],
     "language": "python",
     "metadata": {},
     "outputs": [
      {
       "output_type": "stream",
       "stream": "stdout",
       "text": [
        "(array([13,  2,  3,  4,  5,  6,  7]), 73.321378201952157)\n",
        "0.0316558683502 73.321378202\n",
        "(array([1, 2, 3, 4, 5, 6, 7]), 68.599052257793687)\n",
        "0.0317997803694 68.5990522578\n"
       ]
      }
     ],
     "prompt_number": 293
    },
    {
     "cell_type": "code",
     "collapsed": false,
     "input": [
      "tmpProbs = probMat[0, [1, 13, 12, 9]]; print tmpProbs\n",
      "tmpPathProbs = pathProbMat[[1, 13, 12, 9], initialNodes[0]]; print tmpPathProbs\n",
      "print (tmpProbs+tmpPathProbs)/np.sum(tmpProbs+tmpPathProbs)\n",
      "print (tmpProbs/np.sum(tmpProbs)+tmpPathProbs/np.sum(tmpPathProbs))/np.sum(tmpProbs/np.sum(tmpProbs)+tmpPathProbs/np.sum(tmpPathProbs))\n",
      "print 0.31028041 - 0.30664143, 0.41820428 - 0.31842044"
     ],
     "language": "python",
     "metadata": {},
     "outputs": [
      {
       "output_type": "stream",
       "stream": "stdout",
       "text": [
        "[ 0.07253145  0.07253145  0.04891769  0.04289887]\n",
        "[  2.33270111e-03   1.45469212e-03   5.87613808e-04   2.45480446e-05]\n",
        "[ 0.31028041  0.30664143  0.20517867  0.1778995 ]\n",
        "[ 0.41820428  0.31842044  0.17003545  0.09333983]\n",
        "0.00363898 0.09978384\n"
       ]
      }
     ],
     "prompt_number": 330
    },
    {
     "cell_type": "code",
     "collapsed": false,
     "input": [
      "# gwv.showCustomGraph(shortPathLengths)\n",
      "# gwv.showCustomGraph(pathProbMat)\n",
      "print getShortestPath(frameGraph, 13, initialNodes[0])\n",
      "# print cumsum([ 0.80486629,  0.1009968,   0.09413692])\n",
      "print pathProbMat[13, initialNodes[0]], shortPathLengths[13, initialNodes[0]]\n",
      "print getShortestPath(frameGraph, 1, initialNodes[0])\n",
      "print pathProbMat[1, initialNodes[0]], shortPathLengths[1, initialNodes[0]]\n",
      "print pathProbMat[:, initialNodes[0]]\n",
      "# print getShortestPath(frameGraph, 15, 0)"
     ],
     "language": "python",
     "metadata": {},
     "outputs": [
      {
       "output_type": "stream",
       "stream": "stdout",
       "text": [
        "(array([13,  2,  3,  4,  5,  6,  7]), 73.321378201952157)\n",
        "0.00145469212055 73.321378202\n",
        "(array([1, 2, 3, 4, 5, 6, 7]), 68.599052257793687)\n",
        "0.00233270111195 68.5990522578\n",
        "[  5.87613808e-04   2.33270111e-03   9.73050076e-03   3.47132783e-02\n",
        "   9.30950058e-02   2.32427168e-01   6.23329445e-01   0.00000000e+00\n",
        "   6.64540528e-06   2.45480446e-05   7.06177079e-05   1.93058058e-04\n",
        "   5.87613808e-04   1.45469212e-03   1.16772695e-07   1.26678404e-07\n",
        "   3.56174400e-07   9.26886691e-07   2.56579786e-06   9.27929378e-06\n",
        "   3.70468437e-05   1.32163537e-04   3.70648573e-05   9.25385817e-05\n",
        "   2.48172463e-04   8.85348042e-04   9.59717779e-07   4.46828777e-07]\n"
       ]
      }
     ],
     "prompt_number": 328
    },
    {
     "cell_type": "code",
     "collapsed": false,
     "input": [
      "tmpSeqLen = arange(0, randomicity+1, 1)\n",
      "print tmpSeqLen\n",
      "tmpWeight = np.exp(-np.power(tmpSeqLen-randomicity, 2)/100.0)\n",
      "print tmpWeight\n",
      "figure(); plot(tmpSeqLen, tmpWeight, \"b\")"
     ],
     "language": "python",
     "metadata": {},
     "outputs": [
      {
       "output_type": "stream",
       "stream": "stdout",
       "text": [
        "[  0.   1.   2.   3.   4.   5.   6.   7.   8.   9.  10.  11.  12.  13.  14.\n",
        "  15.  16.  17.  18.  19.  20.  21.  22.  23.  24.  25.  26.  27.  28.  29.\n",
        "  30.  31.  32.  33.  34.  35.  36.  37.  38.  39.  40.  41.  42.  43.  44.\n",
        "  45.  46.  47.  48.  49.  50.]\n",
        "[  1.38879439e-11   3.73757133e-11   9.85950558e-11   2.54938188e-10\n",
        "   6.46143177e-10   1.60522806e-09   3.90893843e-09   9.33028757e-09\n",
        "   2.18295780e-08   5.00621802e-08   1.12535175e-07   2.47959602e-07\n",
        "   5.35534780e-07   1.13372714e-06   2.35257520e-06   4.78511739e-06\n",
        "   9.54016287e-06   1.86437423e-05   3.57128496e-05   6.70548243e-05\n",
        "   1.23409804e-04   2.22629857e-04   3.93669041e-04   6.82328053e-04\n",
        "   1.15922917e-03   1.93045414e-03   3.15111160e-03   5.04176026e-03\n",
        "   7.90705405e-03   1.21551783e-02   1.83156389e-02   2.70518469e-02\n",
        "   3.91638951e-02   5.55762126e-02   7.73047404e-02   1.05399225e-01\n",
        "   1.40858421e-01   1.84519524e-01   2.36927759e-01   2.98197279e-01\n",
        "   3.67879441e-01   4.44858066e-01   5.27292424e-01   6.12626394e-01\n",
        "   6.97676326e-01   7.78800783e-01   8.52143789e-01   9.13931185e-01\n",
        "   9.60789439e-01   9.90049834e-01   1.00000000e+00]\n"
       ]
      },
      {
       "metadata": {},
       "output_type": "pyout",
       "prompt_number": 162,
       "text": [
        "[<matplotlib.lines.Line2D at 0x7fa9826022d0>]"
       ]
      }
     ],
     "prompt_number": 162
    },
    {
     "cell_type": "code",
     "collapsed": false,
     "input": [
      "## traverse graph starting from initialNode and take highest probability neighbour\n",
      "currentNode = initialNodes[0]\n",
      "print currentNode\n",
      "for i in xrange(0, 300) :\n",
      "    neighs = gr.node_neighbors[currentNode]\n",
      "#     currentNode = neighs[np.random.randint(0, len(neighs))]\n",
      "#     print currentNode\n",
      "    maxWeight = -1\n",
      "    curNeigh = -1\n",
      "    for n in gr.node_neighbors[currentNode] :\n",
      "        curWeight = gr.edge_weight((currentNode, n))\n",
      "        if curWeight > maxWeight and len(gr.node_neighbors[n]) > 0:\n",
      "            maxWeight = curWeight\n",
      "            curNeigh = n\n",
      "#         print gr.edge_weight((currentNode, n))\n",
      "        \n",
      "#     currentNode = neighs[np.random.randint(0, len(neighs))]\n",
      "    currentNode = curNeigh\n",
      "    print currentNode"
     ],
     "language": "python",
     "metadata": {},
     "outputs": [
      {
       "output_type": "stream",
       "stream": "stdout",
       "text": [
        "117\n",
        "118\n",
        "119\n",
        "120\n",
        "121\n",
        "122\n",
        "123\n",
        "124\n",
        "125\n",
        "126\n",
        "127\n",
        "128\n",
        "129\n",
        "130\n",
        "131\n",
        "132\n",
        "133\n",
        "134\n",
        "135\n",
        "136\n",
        "137\n",
        "138\n",
        "139\n",
        "140\n",
        "141\n",
        "142\n",
        "143\n",
        "144\n",
        "145\n",
        "146\n",
        "147\n",
        "148\n",
        "149\n",
        "150\n",
        "151\n",
        "152\n",
        "153\n",
        "154\n",
        "155\n",
        "156\n",
        "157\n",
        "158\n",
        "159\n",
        "160\n",
        "161\n",
        "162\n",
        "163\n",
        "164\n",
        "165\n",
        "166\n",
        "167\n",
        "168\n",
        "169\n",
        "170\n",
        "171\n",
        "172\n",
        "173\n",
        "174\n",
        "175\n",
        "176\n",
        "177\n",
        "178\n",
        "179\n",
        "180\n",
        "181\n",
        "182\n",
        "183\n",
        "184\n",
        "185\n",
        "186\n",
        "187\n",
        "188\n",
        "189\n",
        "190\n",
        "191\n",
        "192\n",
        "193\n",
        "194\n",
        "195\n",
        "196\n",
        "197\n",
        "198\n",
        "199\n",
        "200\n",
        "201\n",
        "202\n",
        "203\n",
        "204\n",
        "205\n",
        "206\n",
        "207\n",
        "208\n",
        "209\n",
        "210\n",
        "211\n",
        "212\n",
        "213\n",
        "214\n",
        "215\n",
        "216\n",
        "217\n",
        "218\n",
        "219\n",
        "220\n",
        "221\n",
        "222\n",
        "223\n",
        "224\n",
        "225\n",
        "226\n",
        "227\n",
        "228\n",
        "229\n",
        "230\n",
        "231\n",
        "232\n",
        "233\n",
        "234\n",
        "235\n",
        "236\n",
        "237\n",
        "238\n",
        "239\n",
        "240\n",
        "241\n",
        "242\n",
        "243\n",
        "244\n",
        "245\n",
        "246\n",
        "247\n",
        "248\n",
        "249\n",
        "250\n",
        "251\n",
        "252\n",
        "253\n",
        "254\n",
        "255\n",
        "256\n",
        "257\n",
        "258\n",
        "259\n",
        "260\n",
        "261\n",
        "262\n",
        "263\n",
        "264\n",
        "265\n",
        "266\n",
        "267\n",
        "268\n",
        "269\n",
        "270\n",
        "271\n",
        "272\n",
        "273\n",
        "274\n",
        "275\n",
        "276\n",
        "277\n",
        "278\n",
        "279\n",
        "280\n",
        "281\n",
        "282\n",
        "283\n",
        "284\n",
        "285\n",
        "286\n",
        "287\n",
        "288\n",
        "289\n",
        "290\n",
        "291\n",
        "292\n",
        "293\n",
        "294\n",
        "295\n",
        "296\n",
        "297\n",
        "298\n",
        "299\n",
        "300\n",
        "301\n",
        "302\n",
        "303\n",
        "304\n",
        "305\n",
        "306\n",
        "307\n",
        "308\n",
        "309\n",
        "310\n",
        "311\n",
        "312\n",
        "313\n",
        "314\n",
        "315\n",
        "316\n",
        "317\n",
        "318\n",
        "319\n",
        "320\n",
        "321\n",
        "322\n",
        "323\n",
        "324\n",
        "325\n",
        "326\n",
        "327\n",
        "328\n",
        "329\n",
        "330\n",
        "331\n",
        "332\n",
        "333\n",
        "334\n",
        "335\n",
        "336\n",
        "337\n",
        "338\n",
        "339\n",
        "340\n",
        "341\n",
        "342\n",
        "343\n",
        "344\n",
        "345\n",
        "346\n",
        "347\n",
        "348\n",
        "349\n",
        "350\n",
        "351\n",
        "352\n",
        "353\n",
        "354\n",
        "355\n",
        "356\n",
        "357\n",
        "358\n",
        "359\n",
        "360\n",
        "361\n",
        "362\n",
        "363\n",
        "364\n",
        "365\n",
        "366\n",
        "367\n",
        "368\n",
        "369\n",
        "370\n",
        "371\n",
        "372\n",
        "373\n",
        "374\n",
        "375\n",
        "376\n",
        "377\n",
        "378\n",
        "379\n",
        "380\n",
        "381\n",
        "382\n",
        "383\n",
        "384\n",
        "385\n",
        "386\n",
        "387\n",
        "388\n",
        "389\n",
        "390\n",
        "391\n",
        "392\n",
        "393\n",
        "394\n",
        "395\n",
        "396\n",
        "397\n",
        "398\n",
        "399\n",
        "400\n",
        "401\n",
        "402\n",
        "403\n",
        "404\n",
        "405\n",
        "406\n",
        "407\n",
        "408\n",
        "409\n",
        "410\n",
        "411\n",
        "412\n",
        "413\n",
        "414\n",
        "415\n",
        "416\n",
        "417\n"
       ]
      }
     ],
     "prompt_number": 14
    },
    {
     "cell_type": "code",
     "collapsed": false,
     "input": [
      "## try finding shortest paths\n",
      "paths = shortest_path(gr, initialNodes[0])[0]\n",
      "\n",
      "curr = initialNodes[1]\n",
      "finalFrames = []\n",
      "finalFrames.append(curr)\n",
      "print curr\n",
      "while curr != initialNodes[0] :\n",
      "    curr = paths[curr]\n",
      "    finalFrames.append(curr)\n",
      "    print curr"
     ],
     "language": "python",
     "metadata": {},
     "outputs": [
      {
       "output_type": "stream",
       "stream": "stdout",
       "text": [
        "525\n",
        "510\n",
        "523\n",
        "487\n",
        "534\n",
        "520\n",
        "484\n",
        "464\n",
        "482\n",
        "338\n",
        "461\n",
        "275\n",
        "274\n",
        "11\n",
        "272\n",
        "9\n",
        "52\n",
        "7\n",
        "177\n",
        "4\n",
        "175\n",
        "79\n",
        "173\n",
        "90\n",
        "118\n",
        "117\n"
       ]
      }
     ],
     "prompt_number": 232
    },
    {
     "cell_type": "code",
     "collapsed": false,
     "input": [
      "print initialNodes\n",
      "print gr.node_neighbors[initialNodes[1]]"
     ],
     "language": "python",
     "metadata": {},
     "outputs": [
      {
       "output_type": "stream",
       "stream": "stdout",
       "text": [
        "[ 117  525  862 1095]\n",
        "[512, 526, 364]\n"
       ]
      }
     ],
     "prompt_number": 228
    },
    {
     "cell_type": "code",
     "collapsed": false,
     "input": [
      "print bestNexts\n",
      "# remove loop with itself\n",
      "tmpBest = np.delete(bestNexts, np.where(bestNexts == node)); print tmpBest\n",
      "# remove loops smaller than minLoopLength (apart from 1-length loop which means we just go to next frame)\n",
      "print tmpBest-node\n",
      "print node - np.delete(bestPrevs, np.where(bestPrevs == node))"
     ],
     "language": "python",
     "metadata": {},
     "outputs": [
      {
       "output_type": "stream",
       "stream": "stdout",
       "text": [
        "[860 859 861 ..., 117 119 118]\n",
        "[860 859 861 ..., 120 119 118]\n",
        "[743 742 744 ...,   3   2   1]\n",
        "[-949 -950 -978 ...,   -1    2    1]\n"
       ]
      }
     ],
     "prompt_number": 26
    },
    {
     "cell_type": "code",
     "collapsed": false,
     "input": [
      "print np.sort(np.array(gr.nodes())+idxCorrection)"
     ],
     "language": "python",
     "metadata": {},
     "outputs": [
      {
       "output_type": "stream",
       "stream": "stdout",
       "text": [
        "[   5    6    7 ..., 1273 1274 1275]\n"
       ]
      }
     ],
     "prompt_number": 12
    },
    {
     "cell_type": "code",
     "collapsed": false,
     "input": [
      "# finalFrames = np.ndarray.flatten(np.array(strongly_connected_components(subGr))+idxCorrection)\n",
      "# finalFrames = np.arange(30, 274)\n",
      "# finalFrames = np.array(finalFrames)\n",
      "\n",
      "from mpl_toolkits.mplot3d import Axes3D\n",
      "import matplotlib.animation as animation"
     ],
     "language": "python",
     "metadata": {},
     "outputs": [],
     "prompt_number": 125
    },
    {
     "cell_type": "code",
     "collapsed": false,
     "input": [
      "## visualize frames automatically\n",
      "\n",
      "def _blit_draw(self, artists, bg_cache):\n",
      "    # Handles blitted drawing, which renders only the artists given instead\n",
      "    # of the entire figure.\n",
      "    updated_ax = []\n",
      "    for a in artists:\n",
      "        # If we haven't cached the background for this axes object, do\n",
      "        # so now. This might not always be reliable, but it's an attempt\n",
      "        # to automate the process.\n",
      "        if a.axes not in bg_cache:\n",
      "            # bg_cache[a.axes] = a.figure.canvas.copy_from_bbox(a.axes.bbox)\n",
      "            # change here\n",
      "            bg_cache[a.axes] = a.figure.canvas.copy_from_bbox(a.axes.figure.bbox)\n",
      "        a.axes.draw_artist(a)\n",
      "        updated_ax.append(a.axes)\n",
      "\n",
      "    # After rendering all the needed artists, blit each axes individually.\n",
      "    for ax in set(updated_ax):\n",
      "        # and here\n",
      "        # ax.figure.canvas.blit(ax.bbox)\n",
      "        ax.figure.canvas.blit(ax.figure.bbox)\n",
      "\n",
      "# MONKEY PATCH!!\n",
      "matplotlib.animation.Animation._blit_draw = _blit_draw\n",
      "\n",
      "fig=plt.figure()\n",
      "img = plt.imshow(np.array(cv2.cvtColor(cv2.imread(frames[finalFrames[0]]), cv2.COLOR_BGR2RGB), dtype=np.uint8))\n",
      "img.set_cmap(cm.Greys_r)\n",
      "img.axes.set_axis_off()\n",
      "ax = plt.axes()\n",
      "ttl = ax.text(.5, 1.05, '', transform = ax.transAxes, va='center')\n",
      "\n",
      "def init():\n",
      "    ttl.set_text('')\n",
      "#     img.set_data(movie[:, :, :, finalFrames[0]])\n",
      "    img.set_data(np.array(cv2.cvtColor(cv2.imread(frames[finalFrames[0]]), cv2.COLOR_BGR2RGB), dtype=np.uint8))\n",
      "    return img, ttl\n",
      "\n",
      "def func(f):\n",
      "    ttl.set_text('Frame ' + str(f) + ' from ' + str(finalFrames[f]))\n",
      "#     img.set_data(movie[:, :, :, finalFrames[f]])\n",
      "    img.set_data(np.array(cv2.cvtColor(cv2.imread(frames[finalFrames[f]]), cv2.COLOR_BGR2RGB), dtype=np.uint8))\n",
      "    return img, ttl\n",
      "\n",
      "ani = animation.FuncAnimation(fig,func,init_func=init,frames=len(finalFrames),interval=33,blit=True)\n",
      "\n",
      "plt.show()"
     ],
     "language": "python",
     "metadata": {},
     "outputs": [],
     "prompt_number": 161
    },
    {
     "cell_type": "code",
     "collapsed": false,
     "input": [
      "## visualize frames automatically\n",
      "# finalFrames = arange(0, numFrames)\n",
      "\n",
      "def _blit_draw(self, artists, bg_cache):\n",
      "    # Handles blitted drawing, which renders only the artists given instead\n",
      "    # of the entire figure.\n",
      "    updated_ax = []\n",
      "    for a in artists:\n",
      "        # If we haven't cached the background for this axes object, do\n",
      "        # so now. This might not always be reliable, but it's an attempt\n",
      "        # to automate the process.\n",
      "        if a.axes not in bg_cache:\n",
      "            # bg_cache[a.axes] = a.figure.canvas.copy_from_bbox(a.axes.bbox)\n",
      "            # change here\n",
      "            bg_cache[a.axes] = a.figure.canvas.copy_from_bbox(a.axes.figure.bbox)\n",
      "        a.axes.draw_artist(a)\n",
      "        updated_ax.append(a.axes)\n",
      "\n",
      "    # After rendering all the needed artists, blit each axes individually.\n",
      "    for ax in set(updated_ax):\n",
      "        # and here\n",
      "        # ax.figure.canvas.blit(ax.bbox)\n",
      "        ax.figure.canvas.blit(ax.figure.bbox)\n",
      "\n",
      "# MONKEY PATCH!!\n",
      "matplotlib.animation.Animation._blit_draw = _blit_draw\n",
      "\n",
      "fig=plt.figure()\n",
      "img = plt.imshow(movie[:, :, :, 0])\n",
      "img.set_cmap(cm.Greys_r)\n",
      "img.axes.set_axis_off()\n",
      "img.set_interpolation('nearest')\n",
      "ax = plt.axes()\n",
      "ttl = ax.text(.5, 1.05, '', transform = ax.transAxes, va='center')\n",
      "\n",
      "def init():\n",
      "    ttl.set_text('')\n",
      "    img.set_data(movie[:, :, :, finalFrames[0]])\n",
      "#     img.set_data(movie[:, :, :, 0])\n",
      "    return img, ttl\n",
      "\n",
      "def func(f):\n",
      "    ttl.set_text('Frame ' + str(f) + ' from ' + str(finalFrames[f]))\n",
      "    img.set_data(movie[:, :, :, finalFrames[f]])\n",
      "#     img.set_data(movie[:, :, :, f])\n",
      "    return img, ttl\n",
      "\n",
      "ani = animation.FuncAnimation(fig,func,init_func=init,frames=len(finalFrames),interval=200,blit=True)\n",
      "\n",
      "plt.show()"
     ],
     "language": "python",
     "metadata": {},
     "outputs": [
      {
       "output_type": "stream",
       "stream": "stderr",
       "text": [
        "Exception in Tkinter callback\n",
        "Traceback (most recent call last):\n",
        "  File \"/usr/lib/python2.7/lib-tk/Tkinter.py\", line 1489, in __call__\n",
        "    return self.func(*args)\n",
        "  File \"/usr/lib/python2.7/lib-tk/Tkinter.py\", line 536, in callit\n",
        "    func(*args)\n",
        "  File \"/usr/lib/pymodules/python2.7/matplotlib/backends/backend_tkagg.py\", line 141, in _on_timer\n",
        "    TimerBase._on_timer(self)\n",
        "  File \"/usr/lib/pymodules/python2.7/matplotlib/backend_bases.py\", line 1203, in _on_timer\n",
        "    ret = func(*args, **kwargs)\n",
        "  File \"/usr/lib/pymodules/python2.7/matplotlib/animation.py\", line 876, in _step\n",
        "    still_going = Animation._step(self, *args)\n",
        "  File \"/usr/lib/pymodules/python2.7/matplotlib/animation.py\", line 735, in _step\n",
        "    self._draw_next_frame(framedata, self._blit)\n",
        "  File \"/usr/lib/pymodules/python2.7/matplotlib/animation.py\", line 754, in _draw_next_frame\n",
        "    self._draw_frame(framedata)\n",
        "  File \"/usr/lib/pymodules/python2.7/matplotlib/animation.py\", line 1049, in _draw_frame\n",
        "    self._drawn_artists = self._func(framedata, *self._args)\n",
        "  File \"<ipython-input-235-eacdf9b6aeea>\", line 7, in update_plot\n",
        "    img.set_data(movie[:, :, :, data[i]])\n",
        "IndexError: index 35 is out of bounds for axis 3 with size 31\n"
       ]
      }
     ],
     "prompt_number": 236
    },
    {
     "cell_type": "code",
     "collapsed": false,
     "input": [
      "def update_plot(i, data, scat, img, ax):\n",
      "    global movie\n",
      "#     plt.clf()\n",
      "#     plt.subplot(211)\n",
      "#     plt.imshow(movie[:, :, :, data[i]], interpolation='nearest')\n",
      "#     plt.subplot(212)\n",
      "    img.set_data(movie[:, :, :, data[i]])\n",
      "    ax.clear()\n",
      "    ax.plot(data)\n",
      "    scat = ax.scatter(i, data[i])\n",
      "    return scat,\n",
      "\n",
      "visFrames = np.array(finalFrames) + idxCorrection\n",
      "\n",
      "x = 0\n",
      "y = visFrames[0]\n",
      "\n",
      "fig = plt.figure()\n",
      "plt.subplot(211)\n",
      "img = plt.imshow(movie[:, :, :, x], interpolation='nearest')\n",
      "ax = plt.subplot(212)\n",
      "ax.plot(finalFrames)\n",
      "scat = ax.scatter(x, y)\n",
      "\n",
      "ani = animation.FuncAnimation(fig, update_plot, frames=xrange(len(visFrames)),\n",
      "                              fargs=(visFrames, scat, img, ax))\n",
      "plt.show()"
     ],
     "language": "python",
     "metadata": {},
     "outputs": [],
     "prompt_number": 238
    }
   ],
   "metadata": {}
  }
 ]
}