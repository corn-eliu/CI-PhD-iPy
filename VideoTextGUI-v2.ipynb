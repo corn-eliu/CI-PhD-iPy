{
 "metadata": {
  "name": ""
 },
 "nbformat": 3,
 "nbformat_minor": 0,
 "worksheets": [
  {
   "cells": [
    {
     "cell_type": "code",
     "collapsed": false,
     "input": [
      "%pylab\n",
      "import sys\n",
      "import numpy as np\n",
      "import scipy as sp\n",
      "import cv2\n",
      "import re\n",
      "import os.path\n",
      "from PIL import Image\n",
      "from PySide import QtCore, QtGui\n",
      "\n",
      "import VideoTexturesUtils as vtu\n",
      "\n",
      "dataFolder = \"../data/\"\n",
      "\n",
      "app = QtGui.QApplication(sys.argv)"
     ],
     "language": "python",
     "metadata": {},
     "outputs": [
      {
       "output_type": "stream",
       "stream": "stdout",
       "text": [
        "Using matplotlib backend: TkAgg\n",
        "Populating the interactive namespace from numpy and matplotlib\n"
       ]
      }
     ],
     "prompt_number": 1
    },
    {
     "cell_type": "code",
     "collapsed": false,
     "input": [
      "class ImageLabel(QtGui.QLabel) :\n",
      "    \n",
      "    def __init__(self, text, parent=None):\n",
      "        super(ImageLabel, self).__init__(text, parent)\n",
      "        \n",
      "    def setPixmap(self, pixmap) :\n",
      "        if pixmap.width() > self.width() :\n",
      "            super(ImageLabel, self).setPixmap(pixmap.scaledToWidth(self.width()))\n",
      "        else :\n",
      "            super(ImageLabel, self).setPixmap(pixmap)\n",
      "        \n",
      "    def resizeEvent(self, event) :\n",
      "        if self.pixmap() != None :\n",
      "            if self.pixmap().width() > self.width() :\n",
      "#             self.setPixmap(self.pixmap().scaled(self.width(), self.height(), QtCore.Qt.KeepAspectRatio))\n",
      "                self.setPixmap(self.pixmap().scaledToWidth(self.width()))\n",
      "    \n",
      "class MainWidgetGroup(QtGui.QGroupBox):\n",
      "\n",
      "    valueChanged = QtCore.Signal(int)\n",
      "\n",
      "    def __init__(self, orientation, title, parent=None):\n",
      "        super(MainWidgetGroup, self).__init__(title, parent)\n",
      "        \n",
      "        ## left-side labels\n",
      "        self.imageLabel = ImageLabel(\"Original Video\")\n",
      "        self.imageLabel.setBackgroundRole(QtGui.QPalette.Base)\n",
      "        self.imageLabel.setAlignment(QtCore.Qt.AlignCenter)\n",
      "        self.imageLabel.setSizePolicy(QtGui.QSizePolicy.MinimumExpanding, QtGui.QSizePolicy.MinimumExpanding)\n",
      "        \n",
      "        self.imageLow = ImageLabel(\"Lower boundary\")\n",
      "        self.imageLow.setBackgroundRole(QtGui.QPalette.Base)\n",
      "        self.imageLow.setAlignment(QtCore.Qt.AlignCenter)\n",
      "        self.imageLow.setSizePolicy(QtGui.QSizePolicy.MinimumExpanding, QtGui.QSizePolicy.MinimumExpanding)\n",
      "        \n",
      "        self.imageHigh = ImageLabel(\"Higher boundary\")\n",
      "        self.imageHigh.setBackgroundRole(QtGui.QPalette.Base)\n",
      "        self.imageHigh.setAlignment(QtCore.Qt.AlignCenter)\n",
      "        self.imageHigh.setSizePolicy(QtGui.QSizePolicy.MinimumExpanding, QtGui.QSizePolicy.MinimumExpanding)\n",
      "        \n",
      "        ## place labels for frame boundaries\n",
      "        boundaryLayout = QtGui.QHBoxLayout()\n",
      "        boundaryLayout.addWidget(self.imageLow)\n",
      "        boundaryLayout.addStretch()\n",
      "        boundaryLayout.addWidget(self.imageHigh)\n",
      "        \n",
      "        ## place imageLabel and boundary labels \n",
      "        framesLayout = QtGui.QVBoxLayout()\n",
      "        framesLayout.addWidget(self.imageLabel)\n",
      "        framesLayout.addStretch()\n",
      "        framesLayout.addLayout(boundaryLayout)\n",
      "        \n",
      "        self.textureLabel = ImageLabel(\"Video Texture\")\n",
      "        self.textureLabel.setAlignment(QtCore.Qt.AlignCenter)\n",
      "        self.textureLabel.setBackgroundRole(QtGui.QPalette.Base)\n",
      "        self.textureLabel.setSizePolicy(QtGui.QSizePolicy.MinimumExpanding, QtGui.QSizePolicy.MinimumExpanding)\n",
      "        \n",
      "#         self.imageLabel.setScaledContents(True)\n",
      "        labelLayout = QtGui.QHBoxLayout()\n",
      "        labelLayout.addStretch()\n",
      "        labelLayout.addLayout(framesLayout)\n",
      "        labelLayout.addStretch()\n",
      "        labelLayout.addWidget(self.textureLabel)\n",
      "        labelLayout.addStretch()\n",
      "\n",
      "        self.slider = QtGui.QSlider(orientation)\n",
      "        self.slider.setSizePolicy(QtGui.QSizePolicy.MinimumExpanding, QtGui.QSizePolicy.Minimum)\n",
      "        self.slider.setFocusPolicy(QtCore.Qt.StrongFocus)\n",
      "        self.slider.setTickPosition(QtGui.QSlider.TicksBothSides)\n",
      "        self.slider.setMaximum(0)\n",
      "        self.slider.setMinimum(0)\n",
      "        self.slider.setTickInterval(10)\n",
      "        self.slider.setSingleStep(1)\n",
      "        style = \"QSlider::handle:horizontal { background: #000000; width: 4px; \"\n",
      "        style += \"border-radius: 3px; } \"#QSlider::handle::horizontal:hover {width: 8px; margin: -2px 0px} \"\n",
      "        style += \"QSlider::groove:horizontal {background: white} \"\n",
      "#         style += \"QSlider {border: 2px solid grey;}\"\n",
      "        self.slider.setStyleSheet(style)\n",
      "    \n",
      "        self.renderTextureButton = QtGui.QPushButton(\"&Render Texture\")\n",
      "        \n",
      "        self.recomputeFramesCheckBox = QtGui.QCheckBox(\"Re-sample\")\n",
      "        self.recomputeFramesCheckBox.setChecked(True)\n",
      "        \n",
      "        self.frameNumLabel = QtGui.QLabel()\n",
      "        self.frameNumLabel.setAlignment(QtCore.Qt.AlignCenter)\n",
      "    \n",
      "        comandLayout = QtGui.QHBoxLayout()\n",
      "        comandLayout.addWidget(self.slider)\n",
      "        comandLayout.addWidget(self.renderTextureButton)\n",
      "        comandLayout.addWidget(self.recomputeFramesCheckBox)\n",
      "\n",
      "        if orientation == QtCore.Qt.Horizontal:\n",
      "            direction = QtGui.QBoxLayout.TopToBottom\n",
      "        else:\n",
      "            direction = QtGui.QBoxLayout.LeftToRight\n",
      "\n",
      "        mainLayout = QtGui.QBoxLayout(direction)\n",
      "        mainLayout.addWidget(self.frameNumLabel)\n",
      "        mainLayout.addStretch()\n",
      "        mainLayout.addLayout(labelLayout)\n",
      "        mainLayout.addStretch()\n",
      "        mainLayout.addLayout(comandLayout)\n",
      "        self.setLayout(mainLayout)\n",
      "        self.setSizePolicy(QtGui.QSizePolicy.MinimumExpanding, QtGui.QSizePolicy.MinimumExpanding)\n",
      "        \n",
      "        self.setStyleSheet(\"QGroupBox { margin: 5px; border: 2px groove gray; border-radius: 3px; } QGroupBox::title {left: 15px; top: -7px; font: bold;}\")\n",
      "        \n",
      "    def setFrame(self, im):\n",
      "        qim = QtGui.QImage(im.data, im.shape[1], im.shape[0], im.strides[0], QtGui.QImage.Format_RGB888);\n",
      "        self.imageLabel.setPixmap(QtGui.QPixmap.fromImage(qim))\n",
      "                \n",
      "    def setFrameLow(self, im):\n",
      "        qim = QtGui.QImage(im.data, im.shape[1], im.shape[0], im.strides[0], QtGui.QImage.Format_RGB888);\n",
      "        self.imageLow.setPixmap(QtGui.QPixmap.fromImage(qim))\n",
      "        \n",
      "    def setFrameHigh(self, im):\n",
      "        qim = QtGui.QImage(im.data, im.shape[1], im.shape[0], im.strides[0], QtGui.QImage.Format_RGB888);\n",
      "        self.imageHigh.setPixmap(QtGui.QPixmap.fromImage(qim))\n",
      "        \n",
      "    def setTextureFrame(self, im):\n",
      "        qim = QtGui.QImage(im.data, im.shape[1], im.shape[0], im.strides[0], QtGui.QImage.Format_RGB888);\n",
      "        self.textureLabel.setPixmap(QtGui.QPixmap.fromImage(qim))\n",
      "\n",
      "    def setValue(self, value):\n",
      "        self.slider.setValue(value)\n",
      "\n",
      "    def setMinimum(self, value):\n",
      "        self.slider.setMinimum(value)  \n",
      "\n",
      "    def setMaximum(self, value):\n",
      "        self.slider.setMaximum(value)\n",
      "        \n",
      "    def setFrameInterval(self, interval, feather):\n",
      "        s2 = np.float(interval[0])/np.float(self.slider.maximum()-self.slider.minimum())\n",
      "        s4 = np.float(interval[1])/np.float(self.slider.maximum()-self.slider.minimum())\n",
      "        s3 = s2+((s4-s2)*feather)\n",
      "        s6 = np.float(interval[2])/np.float(self.slider.maximum()-self.slider.minimum())\n",
      "        s5 = s6-((s6-s4)*feather)\n",
      "#         print \"stops\", 0.0, s2, s3, s4, s5, s6, 1.0\n",
      "        style = self.slider.styleSheet()\n",
      "        style += \"QSlider::groove:horizontal {background: qlineargradient(x1:0, y1:0, x2:1, y2:0, stop:0.0 #ffffff, \"\n",
      "        style += \"stop:\"+np.str_(s2)+\" #ffffff, stop:\"+np.str_(s3)+\" #ff0000, stop:\"+np.str_(s4)+\" #ff0000, \"\n",
      "        style += \"stop:\"+np.str_(s5)+\" #ff0000, stop:\"+np.str_(s6)+\" #ffffff, stop:1.0 #ffffff);} \"\n",
      "        self.slider.setStyleSheet(style)\n",
      "\n",
      "\n",
      "class Window(QtGui.QWidget):\n",
      "    def __init__(self):\n",
      "        super(Window, self).__init__()\n",
      "        \n",
      "        self.frameRange = np.zeros(3)\n",
      "        self.featherLevel = 0.5\n",
      "\n",
      "        self.mainWidgetGroup = MainWidgetGroup(QtCore.Qt.Horizontal, \"Video Texture\")\n",
      "        \n",
      "        self.numFilterFrames = 4\n",
      "        self.numInterpolationFrames = 4\n",
      "        self.textureLength = 100\n",
      "        self.loopTexture = True\n",
      "        self.availableFrames = 0\n",
      "\n",
      "        self.createControls(\"Controls\")\n",
      "\n",
      "        layout = QtGui.QHBoxLayout()\n",
      "        layout.addWidget(self.controlsGroup)\n",
      "        layout.addWidget(self.mainWidgetGroup)\n",
      "        self.setLayout(layout)\n",
      "        \n",
      "        self.frameSpinBox.setValue(0)\n",
      "\n",
      "        self.setWindowTitle(\"Video Textures GUI\")\n",
      "        self.resize(1920, 750)\n",
      "        \n",
      "        ## lock gui elements until video or sequence is loaded\n",
      "        \n",
      "        self.frameSpinBox.setEnabled(False)\n",
      "        self.textureLengthSpinBox.setEnabled(False)\n",
      "        self.loopTextureCheckBox.setEnabled(False)\n",
      "        self.renderFpsSpinBox.setEnabled(False)\n",
      "        self.frameRangeSpinBox.setEnabled(False)\n",
      "        self.featherLevelSpinBox.setEnabled(False)\n",
      "        self.numInterpolationFramesSpinBox.setEnabled(False)\n",
      "        \n",
      "        self.textureTimer = QtCore.QTimer(self)\n",
      "        self.textureTimer.setInterval(1000/30)\n",
      "        self.textureTimer.start()\n",
      "        self.textureTimer.timeout.connect(self.renderOneFrame)\n",
      "        self.visualizeTexture = False\n",
      "        self.currentVisFrame = 0\n",
      "        \n",
      "        print QtGui.QApplication.desktop().screen().rect()\n",
      "        self.mainWidgetGroup.imageLabel.setFixedWidth(1920/3)\n",
      "        self.mainWidgetGroup.textureLabel.setFixedWidth(1920/3)\n",
      "        \n",
      "    def renderOneFrame(self):\n",
      "        if self.visualizeTexture:\n",
      "            try:\n",
      "                self.finalMovie\n",
      "                self.currentVisFrame\n",
      "            except AttributeError:\n",
      "                return\n",
      "            else:\n",
      "                if self.currentVisFrame < 0 or self.currentVisFrame >= len(self.finalMovie) :\n",
      "                    self.currentVisFrame = 0\n",
      "                self.mainWidgetGroup.setTextureFrame(self.finalMovie[self.currentVisFrame])\n",
      "                if self.currentVisFrame in self.finalJumps :\n",
      "                    self.mainWidgetGroup.frameNumLabel.setText(\"jump---\" + np.str_(self.currentVisFrame) + \" from \" + np.str_(self.finalFrames[self.currentVisFrame]) + \"---jump\")\n",
      "                else :\n",
      "                    self.mainWidgetGroup.frameNumLabel.setText(np.str_(self.currentVisFrame) + \" from \" + np.str_(self.finalFrames[self.currentVisFrame]))\n",
      "                self.currentVisFrame = np.mod(self.currentVisFrame+1, len(self.finalMovie))\n",
      "        \n",
      "    def showLoading(self, show) :\n",
      "        if show :\n",
      "            self.loadingLabel.setText(\"Loading... Please wait\")\n",
      "            self.loadingLabel.setVisible(True)\n",
      "            self.loadingSpinner.setVisible(True)\n",
      "            self.infoLabel.setVisible(False)\n",
      "        else :\n",
      "            self.loadingLabel.setVisible(False)\n",
      "            self.loadingSpinner.setVisible(False)\n",
      "            self.infoLabel.setVisible(True)\n",
      "            \n",
      "    def setRenderFps(self, value) :\n",
      "        self.textureTimer.setInterval(1000/value)\n",
      "        \n",
      "    def openVideo(self):\n",
      "        fileName, _ = QtGui.QFileDialog.getOpenFileName(self, \"Open Video File\",\n",
      "                QtCore.QDir.currentPath()+\"/\"+dataFolder)\n",
      "        if fileName :\n",
      "            self.outputData = fileName\n",
      "            self.lockGUI(True)\n",
      "            self.showLoading(True)\n",
      "\n",
      "            self.loadingLabel.setText(\"Loading video...\")\n",
      "            self.loadingText = self.loadingLabel.text()\n",
      "            QtCore.QCoreApplication.processEvents()\n",
      "            \n",
      "            cap = cv2.VideoCapture(fileName)\n",
      "            \n",
      "            numFrames = 0\n",
      "            while(cap.isOpened()):\n",
      "                ret, frame = cap.read()\n",
      "                if ret==True:\n",
      "                    numFrames += 1\n",
      "                    frameSize = frame.shape\n",
      "                    k = cv2.waitKey(30)\n",
      "                    \n",
      "                    sys.stdout.write('\\r' + \"Frame count: \" + np.string_(numFrames))\n",
      "                    sys.stdout.flush()\n",
      "                    self.loadingLabel.setText(self.loadingText+\"\\nframe count: \" + np.string_(numFrames))\n",
      "                    QtCore.QCoreApplication.processEvents()\n",
      "                else:\n",
      "                    break\n",
      "            \n",
      "            # Release everything if job is finished\n",
      "            cap.release()\n",
      "            print\n",
      "            self.loadingText = self.loadingLabel.text()\n",
      "            cap = cv2.VideoCapture(fileName)\n",
      "            self.movie = np.zeros(np.hstack([frameSize, numFrames]))\n",
      "            i = 0\n",
      "            while(cap.isOpened()):\n",
      "                ret, frame = cap.read()\n",
      "                if ret==True:\n",
      "                    self.movie[:, :, :, i] = frame\n",
      "                    k = cv2.waitKey(30)\n",
      "                    \n",
      "                    sys.stdout.write('\\r' + \"Frames read: \" + np.string_(i) + \" of \" + np.string_(numFrames))\n",
      "                    sys.stdout.flush()\n",
      "                    self.loadingLabel.setText(self.loadingText+\"\\nframes read: \" + np.string_(i) + \" of \" + np.string_(numFrames))\n",
      "                    QtCore.QCoreApplication.processEvents() \n",
      "                    \n",
      "                    i += 1\n",
      "                else:\n",
      "                    break\n",
      "            \n",
      "            # Release everything if job is finished\n",
      "            cap.release()\n",
      "            \n",
      "            self.availableFrames = self.movie.shape[-1]-(self.numFilterFrames+1)*2\n",
      "            \n",
      "            if self.frameSpinBox.value() < self.availableFrames :\n",
      "                self.mainWidgetGroup.setFrame(np.ascontiguousarray(self.movie[:, :, :, self.frameSpinBox.value()+(self.numFilterFrames+1)]))\n",
      "            else :\n",
      "                self.mainWidgetGroup.setFrame(np.ascontiguousarray(self.movie[:, :, :, 0+(self.numFilterFrames+1)]))\n",
      "                self.frameSpinBox.setValue(0)\n",
      "                \n",
      "            self.frameSpinBox.setRange(0, self.availableFrames-1)\n",
      "            self.mainWidgetGroup.setMaximum(self.availableFrames-1)\n",
      "            self.setFrameRange(self.frameRangeSpinBox.value())\n",
      "            self.frameRangeSpinBox.setRange(1, self.availableFrames*0.75)\n",
      "            infoText = \"Loaded video:\\n\\t\"+fileName+\"\\nNumber of Usable Frames:\\n\\t\"+np.string_(self.availableFrames)\n",
      "            infoText += \"\\nFrame size:\\n\\t\"+np.string_(self.movie.shape[1])+\"x\"+np.string_(self.movie.shape[0])\n",
      "            self.infoLabel.setText(infoText)\n",
      "            \n",
      "            self.loadingLabel.setText(\"Preprocessing movie sequence...\")\n",
      "            QtCore.QCoreApplication.processEvents()\n",
      "            self.preProcessMovie(self.movie, self.outputData)\n",
      "            \n",
      "            self.lockGUI(False)\n",
      "            self.showLoading(False)\n",
      "    \n",
      "    def openSequence(self):\n",
      "        self.frameNames = np.array(QtGui.QFileDialog.getOpenFileNames(self, \"Open Sequence\", \n",
      "                    QtCore.QDir.currentPath()+\"/\"+dataFolder, \"Images(*.png)\")[0])\n",
      "        if len(self.frameNames) > 1 :\n",
      "#             self.outputData = '\\\\'.join(filter(None, self.frameNames[0].split('\\\\'))[0:-1])\n",
      "            self.outputData = \"/\"+ '/'.join(filter(None, self.frameNames[0].split('/'))[0:-1])\n",
      "            self.lockGUI(True)\n",
      "            self.showLoading(True)\n",
      "\n",
      "            self.loadingLabel.setText(\"Loading set of frames...\")\n",
      "            self.loadingText = self.loadingLabel.text()\n",
      "            QtCore.QCoreApplication.processEvents()\n",
      "\n",
      "            ## sort frame names\n",
      "            self.frameNames = np.sort(self.frameNames)\n",
      "            if len(self.frameNames) > 0 :\n",
      "                frameSize = cv2.imread(self.frameNames[0]).shape\n",
      "                requiredSpace = 2.0*(np.prod(frameSize)*float(len(self.frameNames)))/(1024**3) ## GB\n",
      "                downsampleFactor = 1\n",
      "                maxSpace = 2\n",
      "                if requiredSpace > maxSpace :\n",
      "                    downsampleFactor = 2 + np.argmin(np.abs(maxSpace-requiredSpace/np.arange(2.0, 6.0)))\n",
      "                    print \"Downsample Factor of\", downsampleFactor\n",
      "                    \n",
      "                if downsampleFactor > 1 :\n",
      "                    self.movie = np.zeros(np.hstack([frameSize[0]/downsampleFactor, frameSize[1]/downsampleFactor, frameSize[2], len(self.frameNames)]), dtype=np.uint8)\n",
      "                else :\n",
      "                    self.movie = np.zeros(np.hstack([frameSize[0], frameSize[1], frameSize[2], len(self.frameNames)]), dtype=np.uint8)\n",
      "                \n",
      "                for i in range(0, len(self.frameNames)) :\n",
      "                    im = Image.open(self.frameNames[i])\n",
      "                    if downsampleFactor > 1 :\n",
      "                        im = im.resize(np.array([frameSize[1], frameSize[0]])/downsampleFactor)\n",
      "#                     im = np.ascontiguousarray(np.array(im, dtype=uint8)[:, :, 0:3])\n",
      "                    self.movie[:, :, :, i] = np.array(im, dtype=np.uint8)[:, :, 0:3]#im#np.dot(im[:,:,:3], [0.0722, 0.7152, 0.2126])   # matlab RGB2GRAY multiplies [0.299, 0.587, 0.144] but cv2 is BGR\n",
      "                    sys.stdout.write('\\r' + \"Loading frame \" + np.string_(i) + \" of \" + np.string_(len(self.frameNames)))\n",
      "                    sys.stdout.flush()\n",
      "                    self.loadingLabel.setText(self.loadingText+\"\\nframe \" + np.string_(i) + \" of \" + np.string_(len(self.frameNames)))\n",
      "                    QtCore.QCoreApplication.processEvents() \n",
      "                print\n",
      "                \n",
      "            self.availableFrames = self.movie.shape[-1]-(self.numFilterFrames+1)*2\n",
      "            \n",
      "            if self.frameSpinBox.value() < self.availableFrames :\n",
      "                self.mainWidgetGroup.setFrame(np.ascontiguousarray(self.movie[:, :, :, self.frameSpinBox.value()+(self.numFilterFrames+1)]))\n",
      "            else :\n",
      "                self.mainWidgetGroup.setFrame(np.ascontiguousarray(self.movie[:, :, :, 0+(self.numFilterFrames+1)]))\n",
      "                self.frameSpinBox.setValue(0)\n",
      "                \n",
      "            self.frameSpinBox.setRange(0, self.availableFrames-1)\n",
      "            self.mainWidgetGroup.setMaximum(self.availableFrames-1)\n",
      "            self.setFrameRange(self.frameRangeSpinBox.value())\n",
      "            self.frameRangeSpinBox.setRange(1, self.availableFrames*0.75)\n",
      "            infoText = \"Loaded sequence:\\n\\t\"+self.outputData+\"\\nNumber of Usable Frames:\\n\\t\"+np.string_(self.availableFrames)\n",
      "            infoText += \"\\nFrame size:\\n\\t\"+np.string_(self.movie.shape[1])+\"x\"+np.string_(self.movie.shape[0])\n",
      "            self.infoLabel.setText(infoText)\n",
      "            \n",
      "            self.loadingLabel.setText(\"Preprocessing movie sequence...\")\n",
      "            QtCore.QCoreApplication.processEvents()\n",
      "            self.preProcessMovie(self.movie, self.outputData)\n",
      "            \n",
      "            self.lockGUI(False)\n",
      "            self.showLoading(False)\n",
      "    \n",
      "    def saveVideoTexture(self):\n",
      "        \n",
      "        try :\n",
      "            self.finalFrames\n",
      "            self.finalMovie\n",
      "            self.frameNames\n",
      "        except AttributeError:\n",
      "            QtGui.QMessageBox.critical(self, \"No video-texture\", \"There is no available video-texture.\\nAborting...\")\n",
      "            return\n",
      "        \n",
      "        destFolder = QtGui.QFileDialog.getExistingDirectory(self, \"Save Video Texture\",\n",
      "                QtCore.QDir.currentPath()+\"/\"+dataFolder)\n",
      "        if destFolder :\n",
      "            self.lockGUI(True)\n",
      "            self.showLoading(True)\n",
      "            \n",
      "            self.loadingLabel.setText(\"Saving video texture...\")\n",
      "            self.loadingText = self.loadingLabel.text()\n",
      "            QtCore.QCoreApplication.processEvents()\n",
      "            \n",
      "            # baseFolder = '\\\\'.join(filter(None, self.frameNames[0].split('\\\\'))[0:-1])\n",
      "            baseFolder = \"/\"+'/'.join(filter(None, self.frameNames[0].split('/'))[0:-1])\n",
      "            #useMatte = os.path.isfile(baseFolder + \"\\\\matte-\" + self.frameNames[0].split('\\\\')[-1])\n",
      "            useMatte = os.path.isfile(baseFolder + \"/matte-\" + self.frameNames[0].split('/')[-1])\n",
      "            \n",
      "            for i in range(0, len(self.finalMovie)) :\n",
      "                \n",
      "                digits = len(np.string_(i+1))\n",
      "                if digits == 1 :\n",
      "                    zeroes = \"0000\"\n",
      "                elif digits == 2 :\n",
      "                    zeroes = \"000\"\n",
      "                elif digits == 3 :\n",
      "                    zeroes = \"00\"\n",
      "                elif digits == 4 :\n",
      "                    zeroes = \"0\"\n",
      "                else :\n",
      "                    zeroes = \"\"\n",
      "                \n",
      "                \n",
      "                sys.stdout.write('\\r' + \"Saving frame \" + np.string_(i) + \" of \" + np.string_(len(self.finalMovie)))\n",
      "                sys.stdout.flush()\n",
      "                self.loadingLabel.setText(self.loadingText+\"\\nframe \" + np.string_(i) + \" of \" + np.string_(len(self.finalMovie)))\n",
      "                QtCore.QCoreApplication.processEvents() \n",
      "                \n",
      "                if useMatte :\n",
      "                    ## HACK:: assume mattes are available and are good(i.e. finalMovie has no interpolated frames)\n",
      "                    ##mattename = baseFolder + \"\\\\matte-\" + self.frameNames[self.finalFrames[i]].split('\\\\')[-1]\n",
      "                    mattename = baseFolder + \"/matte-\" + self.frameNames[self.finalFrames[i]].split('/')[-1]\n",
      "                    matte = Image.open(mattename)\n",
      "                    matte = np.reshape(np.array(matte, dtype=np.uint8)[:, :, 0], np.hstack((matte.size[1], matte.size[0], 1)))\n",
      "                    \n",
      "                    fullResoFrame = Image.open(self.frameNames[self.finalFrames[i]])\n",
      "                    fullResoFrame = np.array(fullResoFrame, dtype=np.uint8)[:, :, 0:self.finalMovie[0].shape[-1]]\n",
      "                    \n",
      "                    Image.fromstring(\"RGBA\", (fullResoFrame.shape[1], fullResoFrame.shape[0]), np.concatenate((fullResoFrame, matte), axis=-1).tostring()).save(destFolder+\"/vt.\"+zeroes+np.string_(i+1)+\".png\")\n",
      "                else :\n",
      "                    Image.fromstring(\"RGB\", (self.finalMovie[0].shape[1], self.finalMovie[0].shape[0]), self.finalMovie[i].tostring()).save(destFolder+\"/vt.\"+zeroes+np.string_(i+1)+\".png\")\n",
      "                \n",
      "            print\n",
      "            \n",
      "            self.lockGUI(False)\n",
      "            self.showLoading(False)\n",
      "        \n",
      "    def setFrameRange(self, value) :\n",
      "        currentFrame = self.mainWidgetGroup.slider.value()\n",
      "        if currentFrame-(value-1)/2 >= 0 and currentFrame+(value-1)/2 < self.availableFrames :\n",
      "            self.frameRange = np.array([currentFrame-((value-1)/2), currentFrame, currentFrame+((value-1)/2)])\n",
      "            self.mainWidgetGroup.setFrameInterval(self.frameRange, self.featherLevel)\n",
      "\n",
      "            if self.frameRange[0] >= 0 and self.frameRange[0] < self.availableFrames :\n",
      "                self.mainWidgetGroup.setFrameLow(np.ascontiguousarray(self.movie[:, :, :, self.frameRange[0]+(self.numFilterFrames+1)]))\n",
      "            if self.frameRange[-1] >= 0 and self.frameRange[-1] < self.availableFrames :\n",
      "                self.mainWidgetGroup.setFrameHigh(np.ascontiguousarray(self.movie[:, :, :, self.frameRange[-1]+(self.numFilterFrames+1)]))\n",
      "        else :\n",
      "            self.frameRangeSpinBox.setValue((self.frameRange[1]-self.frameRange[0])*2+1)\n",
      "        \n",
      "#         self.updateTexture()\n",
      "        \n",
      "    def setFeatherLevel(self, value) :\n",
      "        self.featherLevel = value\n",
      "        self.mainWidgetGroup.setFrameInterval(self.frameRange, self.featherLevel)\n",
      "    \n",
      "    def setNumInterpolationFrames(self, value) :\n",
      "        self.numInterpolationFrames = value\n",
      "    \n",
      "    def setTextureLength(self, value) :\n",
      "        self.textureLength = value\n",
      "        \n",
      "    def setLoopTexture(self, value) :\n",
      "        self.loopTexture = (value == QtCore.Qt.Checked)\n",
      "        \n",
      "    def changeFrame(self, idx):\n",
      "        if idx >= 0 and idx < self.availableFrames:\n",
      "            if idx >= (self.frameRangeSpinBox.value()-1)/2 and idx < self.availableFrames-(self.frameRangeSpinBox.value()-1)/2 :\n",
      "                self.mainWidgetGroup.setFrame(np.ascontiguousarray(self.movie[:, :, :, idx+(self.numFilterFrames+1)]))\n",
      "                self.setFrameRange(self.frameRangeSpinBox.value())\n",
      "            else :\n",
      "                self.mainWidgetGroup.setFrame(np.ascontiguousarray(self.movie[:, :, :, self.frameRange[1]+(self.numFilterFrames+1)]))\n",
      "                self.mainWidgetGroup.slider.setValue(self.frameRange[1])\n",
      "                self.frameSpinBox.setValue(self.frameRange[1])\n",
      "            self.updateTexture()\n",
      "    \n",
      "    def lockGUI(self, lock):\n",
      "        if lock :\n",
      "            self.bfVisText = self.visualizeTexture\n",
      "            self.visualizeTexture = False\n",
      "        else :\n",
      "            self.visualizeTexture = self.bfVisText\n",
      "        self.mainWidgetGroup.slider.setEnabled(not lock)\n",
      "        self.mainWidgetGroup.renderTextureButton.setEnabled(not lock)\n",
      "        self.mainWidgetGroup.recomputeFramesCheckBox.setEnabled(not lock)\n",
      "        \n",
      "        self.openVideoButton.setEnabled(not lock)\n",
      "        self.openSequenceButton.setEnabled(not lock)\n",
      "        self.saveVTButton.setEnabled(not lock)\n",
      "        \n",
      "        self.frameSpinBox.setEnabled(not lock)\n",
      "        self.textureLengthSpinBox.setEnabled(not lock)\n",
      "        self.loopTextureCheckBox.setEnabled(not lock)\n",
      "        self.renderFpsSpinBox.setEnabled(not lock)\n",
      "        \n",
      "        self.frameRangeSpinBox.setEnabled(not lock)\n",
      "        self.featherLevelSpinBox.setEnabled(not lock)\n",
      "        self.numInterpolationFramesSpinBox.setEnabled(not lock)\n",
      "    \n",
      "    def preProcessMovie(self, movie, outputData):\n",
      "        distanceMatrix = vtu.computeDistanceMatrix(movie, outputData + \"/distMat.npy\")\n",
      "        self.distanceMatrixFilt = vtu.filterDistanceMatrix(distanceMatrix, self.numFilterFrames, False)\n",
      "        self.distMat = self.estimateFutureCost(0.999, 2.0, self.distanceMatrixFilt, np.ones(self.distanceMatrixFilt.shape))\n",
      "        \n",
      "    def computeRangedProbs(self, distMat, rangeDistances):\n",
      "        self.probabilities, self.cumProb = vtu.getProbabilities(distMat, 0.005, rangeDistances, True)\n",
      "\n",
      "    ## Avoid dead ends: estimate future costs\n",
      "    def estimateFutureCost(self, alpha, p, distanceMatrixFilt, weights) :\n",
      "        \n",
      "        distMatFilt = distanceMatrixFilt[1:distanceMatrixFilt.shape[1], 0:-1]\n",
      "        distMat = distMatFilt ** p\n",
      "        \n",
      "        last = np.copy(distMat)\n",
      "        current = np.zeros(distMat.shape)\n",
      "        \n",
      "        self.loadingLabel.setText(self.loadingText+\"\\nOptimizing transitions...\")\n",
      "        self.loadingText = self.loadingLabel.text()\n",
      "        QtCore.QCoreApplication.processEvents()\n",
      "        \n",
      "        ## while distance between last and current is larger than threshold\n",
      "        iterations = 0 \n",
      "        while np.linalg.norm(last - current) > 0.1 : \n",
      "            for i in range(distMat.shape[0]-1, -1, -1) :\n",
      "                m = np.min(distMat*weights[1:distanceMatrixFilt.shape[1], 0:-1], axis=1)\n",
      "                distMat[i, :] = (distMatFilt[i, :] ** p) + alpha*m\n",
      "                \n",
      "            last = np.copy(current)\n",
      "            current = np.copy(distMat)\n",
      "            \n",
      "            sys.stdout.write('\\r' + \"Iteration \" + np.string_(iterations) + \"; distance \" + np.string_(np.linalg.norm(last - current)))\n",
      "            sys.stdout.flush()\n",
      "            self.loadingLabel.setText(self.loadingText+\"\\niteration \" + np.string_(iterations) + \"; distance \" + np.string_(np.linalg.norm(last - current)))\n",
      "            QtCore.QCoreApplication.processEvents()\n",
      "            \n",
      "            iterations += 1\n",
      "        \n",
      "        print\n",
      "        print 'finished in', iterations, 'iterations'\n",
      "        \n",
      "        self.loadingLabel.setText(self.loadingText+\"\\nTransitions optimized in \" + np.string_(iterations)+ \" iterations\")\n",
      "        self.loadingText = self.loadingLabel.text()\n",
      "        QtCore.QCoreApplication.processEvents()\n",
      "        \n",
      "        return distMat\n",
      "    \n",
      "    def getRangeWeights(self, l, frameRange, featherLevel, weightShape) :\n",
      "\n",
      "        kernelLength = np.float(frameRange[1]-frameRange[0])\n",
      "        kernelRange = np.arange(1.0, l, -(1.0-l)/np.floor(kernelLength*featherLevel))\n",
      "        kernel = np.ones(kernelLength+1)*l\n",
      "        kernel[0:len(kernelRange)] = kernelRange#+np.ones(kernelRange.shape)\n",
      "        kernel = np.hstack((kernel, kernel[np.arange(len(kernel)-2, -1, -1)]))\n",
      "        kernel = np.reshape(kernel, [len(kernel), 1])\n",
      "        \n",
      "#         print kernel\n",
      "        \n",
      "        kernel = kernel+kernel.T\n",
      "        kernel = kernel/np.max(kernel)#np.mean(kernel) \n",
      "        \n",
      "        rangeWeights = np.ones(weightShape)+l*0.5\n",
      "        rangeWeights[frameRange[0]:frameRange[2]+1, frameRange[0]:frameRange[2]+1] = kernel\n",
      "        return rangeWeights\n",
      "    \n",
      "    def getRangeDistances(self, l, frameRange, featherLevel, weightShape) :\n",
      "\n",
      "        kernelLength = np.float(frameRange[1]-frameRange[0])\n",
      "        print kernelLength\n",
      "        kernelRange = np.arange(1.0, 0.0, -(1.0)/np.floor(kernelLength*featherLevel))\n",
      "        print kernelRange\n",
      "        kernel = np.zeros(kernelLength+1)\n",
      "        kernel[0:len(kernelRange)] = kernelRange#+np.ones(kernelRange.shape)\n",
      "        kernel = np.hstack((kernel, kernel[np.arange(len(kernel)-2, -1, -1)]))\n",
      "        \n",
      "        rangeDistances = np.arange(0, weightShape[0])\n",
      "        rangeDistances = np.abs(rangeDistances - frameRange[1])\n",
      "        rangeDistances[frameRange[0]:frameRange[2]+1] = rangeDistances[frameRange[0]:frameRange[2]+1]*kernel\n",
      "        print rangeDistances\n",
      "        \n",
      "        rangeDistances = np.repeat(np.reshape(rangeDistances, (1, len(rangeDistances))), len(rangeDistances), axis=0)\n",
      "        \n",
      "        return rangeDistances\n",
      "    \n",
      "    def updateTexture(self):\n",
      "        print \"entering\"\n",
      "        try:\n",
      "            self.distMat\n",
      "        except AttributeError:\n",
      "            print \"tried updating rendering before future cost estimation\"\n",
      "        else:\n",
      "            \n",
      "            self.lockGUI(True)\n",
      "            \n",
      "            if self.frameRangeSpinBox.value() > 1 :\n",
      "                frameRange = self.frameRange\n",
      "                rangeDistances = self.getRangeDistances(0.7, frameRange, self.featherLevel, self.distMat.shape)\n",
      "                self.computeRangedProbs(self.distMat, rangeDistances)\n",
      "#                 print frameRange\n",
      "#                 print \"first frame comparison range\", startFrame, frameRange[0]+np.argmin(np.round(np.sum(self.cumProb[:, frameRange[0]:frameRange[2]+1] < 0.5, axis=0)))\n",
      "                startFrame = frameRange[0]+np.argmin(np.round(np.sum(self.cumProb[:, frameRange[0]:frameRange[2]+1] < 0.5, axis=0)))\n",
      "            else :\n",
      "                self.computeRangedProbs(self.distMat, None)\n",
      "#                 print \"first frame comparison\", startFrame, np.argmin(np.round(np.sum(self.cumProb < 0.5, axis=0)))\n",
      "                startFrame = np.argmin(np.round(np.sum(self.cumProb < 0.5, axis=0)))\n",
      "    \n",
      "            print \"starting frame=\", startFrame\n",
      "        \n",
      "            try:\n",
      "                self.finalFrames\n",
      "            except AttributeError: \n",
      "                self.loadingText = self.loadingLabel.text()\n",
      "                self.loadingLabel.setText(self.loadingText+\"\\nFinding best frames...\")\n",
      "                self.loadingText = self.loadingLabel.text()\n",
      "                QtCore.QCoreApplication.processEvents()\n",
      "                self.finalFrames = vtu.getFinalFrames(self.cumProb, self.textureLength, self.numFilterFrames+1, startFrame, self.loopTexture, False)\n",
      "            else:\n",
      "                if self.mainWidgetGroup.recomputeFramesCheckBox.isChecked() :\n",
      "                    self.loadingLabel.setText(self.loadingText+\"\\nFinding best frames...\")\n",
      "                    self.loadingText = self.loadingLabel.text()\n",
      "                    QtCore.QCoreApplication.processEvents()\n",
      "                    self.finalFrames = vtu.getFinalFrames(self.cumProb, 100, self.numFilterFrames+1, startFrame, self.loopTexture, False)\n",
      "            \n",
      "            print \"total final frames =\", len(self.finalFrames)\n",
      "            \n",
      "            self.finalMovie, self.finalJumps = vtu.renderFinalFrames(self.movie, self.finalFrames, self.numInterpolationFrames)\n",
      "            \n",
      "            self.lockGUI(False)\n",
      "            self.visualizeTexture = True\n",
      "     \n",
      "    def renderTexture(self):\n",
      "        print \"balala\"\n",
      "        try:\n",
      "            self.distanceMatrixFilt\n",
      "        except AttributeError:\n",
      "            print \"tried rendering texture before computing distance matrix\"\n",
      "        else:\n",
      "#             print \"rendering texture\"\n",
      "            self.lockGUI(True)\n",
      "            self.showLoading(True)\n",
      "        \n",
      "            self.loadingLabel.setText(\"Rendering video texture...\")\n",
      "            self.loadingText = self.loadingLabel.text()\n",
      "            self.loadingLabel.setText(self.loadingText+\"\\nProcessing user input...\")\n",
      "            self.loadingText = self.loadingLabel.text()\n",
      "            QtCore.QCoreApplication.processEvents()\n",
      "            \n",
      "            if self.frameRangeSpinBox.value() > 1 :\n",
      "                frameRange = self.frameRange#-(self.numFilterFrames+1)\n",
      "#                 print frameRange\n",
      "                self.rangeWeights = self.getRangeWeights(0.7, frameRange, self.featherLevel, self.distanceMatrixFilt.shape)\n",
      "        \n",
      "                self.distMat = self.estimateFutureCost(0.999, 2.0, self.distanceMatrixFilt, self.rangeWeights)\n",
      "#                 startFrame = frameRange[1]\n",
      "            else :\n",
      "                self.distMat = self.estimateFutureCost(0.999, 2.0, self.distanceMatrixFilt, np.ones(self.distanceMatrixFilt.shape))\n",
      "#                 startFrame = self.frameSpinBox.value()+self.numFilterFrames+1\n",
      "                    \n",
      "#             figure(); imshow(self.distMat, interpolation='nearest'); draw()\n",
      "            \n",
      "            self.loadingLabel.setText(self.loadingText+\"\\nComputing probabilities...\")\n",
      "            self.loadingText = self.loadingLabel.text()\n",
      "            QtCore.QCoreApplication.processEvents()\n",
      "            \n",
      "            self.computeRangedProbs(self.distMat, None)\n",
      "#             figure(); imshow(self.cumProb, interpolation='nearest'); plt.draw()\n",
      "            \n",
      "            if self.frameRangeSpinBox.value() > 1 :\n",
      "#                 print frameRange\n",
      "#                 print \"first frame comparison range\", startFrame, frameRange[0]+np.argmin(np.round(np.sum(self.cumProb[:, frameRange[0]:frameRange[2]+1] < 0.5, axis=0)))\n",
      "                startFrame = frameRange[0]+np.argmin(np.round(np.sum(self.cumProb[:, frameRange[0]:frameRange[2]+1] < 0.5, axis=0)))\n",
      "            else :\n",
      "#                 print \"first frame comparison\", startFrame, np.argmin(np.round(np.sum(self.cumProb < 0.5, axis=0)))\n",
      "                startFrame = np.argmin(np.round(np.sum(self.cumProb < 0.5, axis=0)))\n",
      "            \n",
      "            ## check if frames have been computed before, if not compute them, otherwise only recompute if checkbox is checked\n",
      "            \n",
      "            try:\n",
      "                self.finalFrames\n",
      "            except AttributeError: \n",
      "                self.loadingLabel.setText(self.loadingText+\"\\nFinding best frames...\")\n",
      "                self.loadingText = self.loadingLabel.text()\n",
      "                QtCore.QCoreApplication.processEvents()\n",
      "                self.finalFrames = vtu.getFinalFrames(self.cumProb, self.textureLength, self.numFilterFrames+1, startFrame, self.loopTexture, False)\n",
      "            else:\n",
      "                if self.mainWidgetGroup.recomputeFramesCheckBox.isChecked() :\n",
      "                    self.loadingLabel.setText(self.loadingText+\"\\nFinding best frames...\")\n",
      "                    self.loadingText = self.loadingLabel.text()\n",
      "                    QtCore.QCoreApplication.processEvents()\n",
      "                    self.finalFrames = vtu.getFinalFrames(self.cumProb, 100, self.numFilterFrames+1, startFrame, self.loopTexture, False)\n",
      "            \n",
      "            print \"total final frames =\", len(self.finalFrames)\n",
      "            self.loadingLabel.setText(self.loadingText+\"\\nProducing final render...\")\n",
      "            self.loadingText = self.loadingLabel.text()\n",
      "            QtCore.QCoreApplication.processEvents()\n",
      "            \n",
      "            self.finalMovie, self.finalJumps = vtu.renderFinalFrames(self.movie, self.finalFrames, self.numInterpolationFrames)\n",
      "            self.visualizeTexture = True\n",
      "            \n",
      "            self.lockGUI(False)\n",
      "            self.showLoading(False)\n",
      "\n",
      "    def createControls(self, title):\n",
      "        self.controlsGroup = QtGui.QGroupBox(title)\n",
      "        self.controlsGroup.setStyleSheet(\"QGroupBox { margin: 5px; border: 2px groove gray; border-radius: 3px; } QGroupBox::title {left: 15px; top: -7px; font: bold;}\")\n",
      "        self.setSizePolicy(QtGui.QSizePolicy.Minimum, QtGui.QSizePolicy.Minimum)\n",
      "\n",
      "        self.infoLabel = QtGui.QLabel(\"No data loaded\")\n",
      "        self.infoLabel.setSizePolicy(QtGui.QSizePolicy.Minimum, QtGui.QSizePolicy.MinimumExpanding)\n",
      "        self.infoLabel.setAlignment(QtCore.Qt.AlignLeft | QtCore.Qt.AlignTop)\n",
      "        frameLabel = QtGui.QLabel(\"Current frame:\")\n",
      "        renderFpsLabel = QtGui.QLabel(\"Texture render fps:\")\n",
      "        loopTextureLabel = QtGui.QLabel(\"Loop texture:\")\n",
      "        textureLengthLabel = QtGui.QLabel(\"Video texture length:\")\n",
      "        frameRangeLabel = QtGui.QLabel(\"Frame range:\")\n",
      "        featherLevelLabel = QtGui.QLabel(\"Feather level:\")\n",
      "        numInterpolationFramesLabel = QtGui.QLabel(\"# Frames to interpolate:\")\n",
      "        \n",
      "        \n",
      "        self.loadingLabel = QtGui.QLabel(\"Loading... Please wait!\")\n",
      "        self.loadingLabel.setSizePolicy(QtGui.QSizePolicy.Minimum, QtGui.QSizePolicy.MinimumExpanding)\n",
      "        self.loadingLabel.setAlignment(QtCore.Qt.AlignCenter | QtCore.Qt.AlignTop)\n",
      "        self.loadingLabel.setVisible(False)\n",
      "        movie = QtGui.QMovie(\"loader.gif\")\n",
      "        self.loadingSpinner = QtGui.QLabel()\n",
      "        self.loadingSpinner.setSizePolicy(QtGui.QSizePolicy.Minimum, QtGui.QSizePolicy.MinimumExpanding)\n",
      "        self.loadingSpinner.setAlignment(QtCore.Qt.AlignHCenter | QtCore.Qt.AlignBottom)\n",
      "        self.loadingSpinner.setMovie(movie)\n",
      "        movie.start()\n",
      "        self.loadingSpinner.setVisible(False)\n",
      "        \n",
      "        self.openVideoButton = QtGui.QPushButton(\"Open &Video\")\n",
      "        self.openVideoButton.setVisible(False)\n",
      "        self.openSequenceButton = QtGui.QPushButton(\"Open &Sequence\")\n",
      "        self.saveVTButton = QtGui.QPushButton(\"Save Video-&Texture\")\n",
      "\n",
      "        self.frameSpinBox = QtGui.QSpinBox()\n",
      "        self.frameSpinBox.setRange(0, 0)\n",
      "        self.frameSpinBox.setSingleStep(1)\n",
      "        \n",
      "        self.textureLengthSpinBox = QtGui.QSpinBox()\n",
      "        self.textureLengthSpinBox.setRange(30, 1000)\n",
      "        self.textureLengthSpinBox.setSingleStep(1)\n",
      "        self.textureLengthSpinBox.setValue(self.textureLength)\n",
      "        \n",
      "        self.loopTextureCheckBox = QtGui.QCheckBox()\n",
      "        self.loopTextureCheckBox.setChecked(self.loopTexture)\n",
      "        \n",
      "        self.renderFpsSpinBox = QtGui.QSpinBox()\n",
      "        self.renderFpsSpinBox.setRange(1, 60)\n",
      "        self.renderFpsSpinBox.setSingleStep(1)\n",
      "        self.renderFpsSpinBox.setValue(30)\n",
      "        \n",
      "        self.frameRangeSpinBox = QtGui.QSpinBox()\n",
      "        self.frameRangeSpinBox.setRange(1, 21)\n",
      "        self.frameRangeSpinBox.setSingleStep(2)\n",
      "        \n",
      "        self.featherLevelSpinBox = QtGui.QDoubleSpinBox()\n",
      "        self.featherLevelSpinBox.setRange(0.01, 1.0)\n",
      "        self.featherLevelSpinBox.setSingleStep(0.01)\n",
      "        self.featherLevelSpinBox.setValue(self.featherLevel)\n",
      "        \n",
      "        self.numInterpolationFramesSpinBox = QtGui.QSpinBox()\n",
      "        self.numInterpolationFramesSpinBox.setRange(0, 10)\n",
      "        self.numInterpolationFramesSpinBox.setSingleStep(1)\n",
      "        self.numInterpolationFramesSpinBox.setValue(self.numInterpolationFrames)\n",
      "        \n",
      "        \n",
      "        self.openVideoButton.clicked.connect(self.openVideo)\n",
      "        self.openSequenceButton.clicked.connect(self.openSequence)\n",
      "        self.saveVTButton.clicked.connect(self.saveVideoTexture)\n",
      "        \n",
      "        self.mainWidgetGroup.slider.valueChanged[int].connect(self.frameSpinBox.setValue)\n",
      "        self.frameSpinBox.valueChanged[int].connect(self.mainWidgetGroup.slider.setValue)\n",
      "        self.frameSpinBox.valueChanged[int].connect(self.changeFrame)\n",
      "        self.textureLengthSpinBox.valueChanged[int].connect(self.setTextureLength)\n",
      "        self.loopTextureCheckBox.stateChanged[int].connect(self.setLoopTexture)\n",
      "        self.renderFpsSpinBox.valueChanged[int].connect(self.setRenderFps)\n",
      "        \n",
      "        self.frameRangeSpinBox.valueChanged[int].connect(self.setFrameRange)\n",
      "        self.featherLevelSpinBox.valueChanged[float].connect(self.setFeatherLevel)\n",
      "        self.numInterpolationFramesSpinBox.valueChanged[int].connect(self.setNumInterpolationFrames)\n",
      "        \n",
      "        self.mainWidgetGroup.renderTextureButton.clicked.connect(self.renderTexture)\n",
      "        \n",
      "        \n",
      "        mainBox = QtGui.QGroupBox(\"Main Controls\")\n",
      "        mainBox.setStyleSheet(\"QGroupBox { margin: 5px; border: 2px groove gray; border-radius: 3px; } QGroupBox::title {left: 15px; top: -7px; font: bold;}\")\n",
      "        mainBoxLayout = QtGui.QGridLayout()\n",
      "        mainBoxLayout.addWidget(self.loadingSpinner, 0, 0, 1, 2)\n",
      "        mainBoxLayout.addWidget(self.loadingLabel, 1, 0, 1, 2)\n",
      "        mainBoxLayout.addWidget(self.infoLabel, 1, 0, 1, 2)\n",
      "        mainBoxLayout.addWidget(self.openVideoButton, 2, 0)\n",
      "        mainBoxLayout.addWidget(self.openSequenceButton, 2, 0, 1, 2)\n",
      "        mainBoxLayout.addWidget(self.saveVTButton, 3, 0, 1, 2)\n",
      "        mainBox.setLayout(mainBoxLayout)\n",
      "        \n",
      "        renderingControls = QtGui.QGroupBox(\"Texture Rendering Controls\")\n",
      "        renderingControls.setStyleSheet(\"QGroupBox { margin: 5px; border: 2px groove gray; border-radius: 3px; } QGroupBox::title {left: 15px; top: -7px; font: bold;}\")\n",
      "        renderingControlsLayout = QtGui.QGridLayout()\n",
      "        renderingControlsLayout.addWidget(frameLabel, 0, 0)\n",
      "        renderingControlsLayout.addWidget(self.frameSpinBox, 0, 1)\n",
      "        renderingControlsLayout.addWidget(textureLengthLabel, 1, 0)\n",
      "        renderingControlsLayout.addWidget(self.textureLengthSpinBox, 1, 1)\n",
      "        renderingControlsLayout.addWidget(loopTextureLabel, 2, 0)\n",
      "        renderingControlsLayout.addWidget(self.loopTextureCheckBox, 2, 1)\n",
      "        renderingControlsLayout.addWidget(renderFpsLabel, 3, 0)\n",
      "        renderingControlsLayout.addWidget(self.renderFpsSpinBox, 3, 1)\n",
      "        renderingControls.setLayout(renderingControlsLayout)\n",
      "        \n",
      "        processingControls = QtGui.QGroupBox(\"Processing Controls\")\n",
      "        processingControls.setStyleSheet(\"QGroupBox { margin: 5px; border: 2px groove gray; border-radius: 3px; } QGroupBox::title {left: 15px; top: -7px; font: bold;}\")\n",
      "        processingControlsLayout = QtGui.QGridLayout()\n",
      "        processingControlsLayout.addWidget(frameRangeLabel, 0, 0)\n",
      "        processingControlsLayout.addWidget(self.frameRangeSpinBox, 0, 1)\n",
      "        processingControlsLayout.addWidget(featherLevelLabel, 1, 0)\n",
      "        processingControlsLayout.addWidget(self.featherLevelSpinBox, 1, 1)\n",
      "        processingControlsLayout.addWidget(numInterpolationFramesLabel, 2, 0)\n",
      "        processingControlsLayout.addWidget(self.numInterpolationFramesSpinBox, 2, 1)\n",
      "        processingControls.setLayout(processingControlsLayout)\n",
      "        \n",
      "        controlsLayout = QtGui.QVBoxLayout()\n",
      "        controlsLayout.addWidget(mainBox)\n",
      "        controlsLayout.addWidget(renderingControls)\n",
      "        controlsLayout.addWidget(processingControls)\n",
      "        self.controlsGroup.setLayout(controlsLayout)"
     ],
     "language": "python",
     "metadata": {},
     "outputs": [],
     "prompt_number": 2
    },
    {
     "cell_type": "code",
     "collapsed": false,
     "input": [
      "window = Window()\n",
      "window.show()\n",
      "app.exec_()"
     ],
     "language": "python",
     "metadata": {},
     "outputs": [
      {
       "output_type": "stream",
       "stream": "stdout",
       "text": [
        "PySide.QtCore.QRect(0, 0, 3840, 1771)\n",
        "\r",
        "Loading frame 0 of 66"
       ]
      },
      {
       "output_type": "stream",
       "stream": "stdout",
       "text": [
        "\r",
        "Loading frame 1 of 66"
       ]
      },
      {
       "output_type": "stream",
       "stream": "stdout",
       "text": [
        "\r",
        "Loading frame 2 of 66"
       ]
      },
      {
       "output_type": "stream",
       "stream": "stdout",
       "text": [
        "\r",
        "Loading frame 3 of 66"
       ]
      },
      {
       "output_type": "stream",
       "stream": "stdout",
       "text": [
        "\r",
        "Loading frame 4 of 66"
       ]
      },
      {
       "output_type": "stream",
       "stream": "stdout",
       "text": [
        "\r",
        "Loading frame 5 of 66"
       ]
      },
      {
       "output_type": "stream",
       "stream": "stdout",
       "text": [
        "\r",
        "Loading frame 6 of 66"
       ]
      },
      {
       "output_type": "stream",
       "stream": "stdout",
       "text": [
        "\r",
        "Loading frame 7 of 66"
       ]
      },
      {
       "output_type": "stream",
       "stream": "stdout",
       "text": [
        "\r",
        "Loading frame 8 of 66"
       ]
      },
      {
       "output_type": "stream",
       "stream": "stdout",
       "text": [
        "\r",
        "Loading frame 9 of 66"
       ]
      },
      {
       "output_type": "stream",
       "stream": "stdout",
       "text": [
        "\r",
        "Loading frame 10 of 66"
       ]
      },
      {
       "output_type": "stream",
       "stream": "stdout",
       "text": [
        "\r",
        "Loading frame 11 of 66"
       ]
      },
      {
       "output_type": "stream",
       "stream": "stdout",
       "text": [
        "\r",
        "Loading frame 12 of 66"
       ]
      },
      {
       "output_type": "stream",
       "stream": "stdout",
       "text": [
        "\r",
        "Loading frame 13 of 66"
       ]
      },
      {
       "output_type": "stream",
       "stream": "stdout",
       "text": [
        "\r",
        "Loading frame 14 of 66"
       ]
      },
      {
       "output_type": "stream",
       "stream": "stdout",
       "text": [
        "\r",
        "Loading frame 15 of 66"
       ]
      },
      {
       "output_type": "stream",
       "stream": "stdout",
       "text": [
        "\r",
        "Loading frame 16 of 66"
       ]
      },
      {
       "output_type": "stream",
       "stream": "stdout",
       "text": [
        "\r",
        "Loading frame 17 of 66"
       ]
      },
      {
       "output_type": "stream",
       "stream": "stdout",
       "text": [
        "\r",
        "Loading frame 18 of 66"
       ]
      },
      {
       "output_type": "stream",
       "stream": "stdout",
       "text": [
        "\r",
        "Loading frame 19 of 66"
       ]
      },
      {
       "output_type": "stream",
       "stream": "stdout",
       "text": [
        "\r",
        "Loading frame 20 of 66"
       ]
      },
      {
       "output_type": "stream",
       "stream": "stdout",
       "text": [
        "\r",
        "Loading frame 21 of 66"
       ]
      },
      {
       "output_type": "stream",
       "stream": "stdout",
       "text": [
        "\r",
        "Loading frame 22 of 66"
       ]
      },
      {
       "output_type": "stream",
       "stream": "stdout",
       "text": [
        "\r",
        "Loading frame 23 of 66"
       ]
      },
      {
       "output_type": "stream",
       "stream": "stdout",
       "text": [
        "\r",
        "Loading frame 24 of 66"
       ]
      },
      {
       "output_type": "stream",
       "stream": "stdout",
       "text": [
        "\r",
        "Loading frame 25 of 66"
       ]
      },
      {
       "output_type": "stream",
       "stream": "stdout",
       "text": [
        "\r",
        "Loading frame 26 of 66"
       ]
      },
      {
       "output_type": "stream",
       "stream": "stdout",
       "text": [
        "\r",
        "Loading frame 27 of 66"
       ]
      },
      {
       "output_type": "stream",
       "stream": "stdout",
       "text": [
        "\r",
        "Loading frame 28 of 66"
       ]
      },
      {
       "output_type": "stream",
       "stream": "stdout",
       "text": [
        "\r",
        "Loading frame 29 of 66"
       ]
      },
      {
       "output_type": "stream",
       "stream": "stdout",
       "text": [
        "\r",
        "Loading frame 30 of 66"
       ]
      },
      {
       "output_type": "stream",
       "stream": "stdout",
       "text": [
        "\r",
        "Loading frame 31 of 66"
       ]
      },
      {
       "output_type": "stream",
       "stream": "stdout",
       "text": [
        "\r",
        "Loading frame 32 of 66"
       ]
      },
      {
       "output_type": "stream",
       "stream": "stdout",
       "text": [
        "\r",
        "Loading frame 33 of 66"
       ]
      },
      {
       "output_type": "stream",
       "stream": "stdout",
       "text": [
        "\r",
        "Loading frame 34 of 66"
       ]
      },
      {
       "output_type": "stream",
       "stream": "stdout",
       "text": [
        "\r",
        "Loading frame 35 of 66"
       ]
      },
      {
       "output_type": "stream",
       "stream": "stdout",
       "text": [
        "\r",
        "Loading frame 36 of 66"
       ]
      },
      {
       "output_type": "stream",
       "stream": "stdout",
       "text": [
        "\r",
        "Loading frame 37 of 66"
       ]
      },
      {
       "output_type": "stream",
       "stream": "stdout",
       "text": [
        "\r",
        "Loading frame 38 of 66"
       ]
      },
      {
       "output_type": "stream",
       "stream": "stdout",
       "text": [
        "\r",
        "Loading frame 39 of 66"
       ]
      },
      {
       "output_type": "stream",
       "stream": "stdout",
       "text": [
        "\r",
        "Loading frame 40 of 66"
       ]
      },
      {
       "output_type": "stream",
       "stream": "stdout",
       "text": [
        "\r",
        "Loading frame 41 of 66"
       ]
      },
      {
       "output_type": "stream",
       "stream": "stdout",
       "text": [
        "\r",
        "Loading frame 42 of 66"
       ]
      },
      {
       "output_type": "stream",
       "stream": "stdout",
       "text": [
        "\r",
        "Loading frame 43 of 66"
       ]
      },
      {
       "output_type": "stream",
       "stream": "stdout",
       "text": [
        "\r",
        "Loading frame 44 of 66"
       ]
      },
      {
       "output_type": "stream",
       "stream": "stdout",
       "text": [
        "\r",
        "Loading frame 45 of 66"
       ]
      },
      {
       "output_type": "stream",
       "stream": "stdout",
       "text": [
        "\r",
        "Loading frame 46 of 66"
       ]
      },
      {
       "output_type": "stream",
       "stream": "stdout",
       "text": [
        "\r",
        "Loading frame 47 of 66"
       ]
      },
      {
       "output_type": "stream",
       "stream": "stdout",
       "text": [
        "\r",
        "Loading frame 48 of 66"
       ]
      },
      {
       "output_type": "stream",
       "stream": "stdout",
       "text": [
        "\r",
        "Loading frame 49 of 66"
       ]
      },
      {
       "output_type": "stream",
       "stream": "stdout",
       "text": [
        "\r",
        "Loading frame 50 of 66"
       ]
      },
      {
       "output_type": "stream",
       "stream": "stdout",
       "text": [
        "\r",
        "Loading frame 51 of 66"
       ]
      },
      {
       "output_type": "stream",
       "stream": "stdout",
       "text": [
        "\r",
        "Loading frame 52 of 66"
       ]
      },
      {
       "output_type": "stream",
       "stream": "stdout",
       "text": [
        "\r",
        "Loading frame 53 of 66"
       ]
      },
      {
       "output_type": "stream",
       "stream": "stdout",
       "text": [
        "\r",
        "Loading frame 54 of 66"
       ]
      },
      {
       "output_type": "stream",
       "stream": "stdout",
       "text": [
        "\r",
        "Loading frame 55 of 66"
       ]
      },
      {
       "output_type": "stream",
       "stream": "stdout",
       "text": [
        "\r",
        "Loading frame 56 of 66"
       ]
      },
      {
       "output_type": "stream",
       "stream": "stdout",
       "text": [
        "\r",
        "Loading frame 57 of 66"
       ]
      },
      {
       "output_type": "stream",
       "stream": "stdout",
       "text": [
        "\r",
        "Loading frame 58 of 66"
       ]
      },
      {
       "output_type": "stream",
       "stream": "stdout",
       "text": [
        "\r",
        "Loading frame 59 of 66"
       ]
      },
      {
       "output_type": "stream",
       "stream": "stdout",
       "text": [
        "\r",
        "Loading frame 60 of 66"
       ]
      },
      {
       "output_type": "stream",
       "stream": "stdout",
       "text": [
        "\r",
        "Loading frame 61 of 66"
       ]
      },
      {
       "output_type": "stream",
       "stream": "stdout",
       "text": [
        "\r",
        "Loading frame 62 of 66"
       ]
      },
      {
       "output_type": "stream",
       "stream": "stdout",
       "text": [
        "\r",
        "Loading frame 63 of 66"
       ]
      },
      {
       "output_type": "stream",
       "stream": "stdout",
       "text": [
        "\r",
        "Loading frame 64 of 66"
       ]
      },
      {
       "output_type": "stream",
       "stream": "stdout",
       "text": [
        "\r",
        "Loading frame 65 of 66"
       ]
      },
      {
       "output_type": "stream",
       "stream": "stdout",
       "text": [
        "\n",
        "computing distance matrix and saving to  /home/ilisescu/PhD/data/pendulum/distMat.npy\n",
        "[  1.   8.  28.  56.  70.  56.  28.   8.   1.]"
       ]
      },
      {
       "output_type": "stream",
       "stream": "stdout",
       "text": [
        "\n",
        "\r",
        "Iteration 0; distance 24163.7271601"
       ]
      },
      {
       "output_type": "stream",
       "stream": "stdout",
       "text": [
        "\r",
        "Iteration 1; distance 3700.20284355"
       ]
      },
      {
       "output_type": "stream",
       "stream": "stdout",
       "text": [
        "\r",
        "Iteration 2; distance 2803.62053554"
       ]
      },
      {
       "output_type": "stream",
       "stream": "stdout",
       "text": [
        "\r",
        "Iteration 3; distance 2524.70462276"
       ]
      },
      {
       "output_type": "stream",
       "stream": "stdout",
       "text": [
        "\r",
        "Iteration 4; distance 2466.26797314"
       ]
      },
      {
       "output_type": "stream",
       "stream": "stdout",
       "text": [
        "\r",
        "Iteration 5; distance 2414.39356119"
       ]
      },
      {
       "output_type": "stream",
       "stream": "stdout",
       "text": [
        "\r",
        "Iteration 6; distance 2363.05558891"
       ]
      },
      {
       "output_type": "stream",
       "stream": "stdout",
       "text": [
        "\r",
        "Iteration 7; distance 2313.04975345"
       ]
      },
      {
       "output_type": "stream",
       "stream": "stdout",
       "text": [
        "\r",
        "Iteration 8; distance 2264.51750941"
       ]
      },
      {
       "output_type": "stream",
       "stream": "stdout",
       "text": [
        "\r",
        "Iteration 9; distance 2216.97714066"
       ]
      },
      {
       "output_type": "stream",
       "stream": "stdout",
       "text": [
        "\r",
        "Iteration 10; distance 2170.69595396"
       ]
      },
      {
       "output_type": "stream",
       "stream": "stdout",
       "text": [
        "\r",
        "Iteration 11; distance 2125.15532706"
       ]
      },
      {
       "output_type": "stream",
       "stream": "stdout",
       "text": [
        "\r",
        "Iteration 12; distance 2080.62573545"
       ]
      },
      {
       "output_type": "stream",
       "stream": "stdout",
       "text": [
        "\r",
        "Iteration 13; distance 2037.15266628"
       ]
      },
      {
       "output_type": "stream",
       "stream": "stdout",
       "text": [
        "\r",
        "Iteration 14; distance 1989.6387634"
       ]
      },
      {
       "output_type": "stream",
       "stream": "stdout",
       "text": [
        "\r",
        "Iteration 15; distance 1921.410901"
       ]
      },
      {
       "output_type": "stream",
       "stream": "stdout",
       "text": [
        "\r",
        "Iteration 16; distance 1841.82395448"
       ]
      },
      {
       "output_type": "stream",
       "stream": "stdout",
       "text": [
        "\r",
        "Iteration 17; distance 1764.26618705"
       ]
      },
      {
       "output_type": "stream",
       "stream": "stdout",
       "text": [
        "\r",
        "Iteration 18; distance 1689.97431661"
       ]
      },
      {
       "output_type": "stream",
       "stream": "stdout",
       "text": [
        "\r",
        "Iteration 19; distance 1618.81081877"
       ]
      },
      {
       "output_type": "stream",
       "stream": "stdout",
       "text": [
        "\r",
        "Iteration 20; distance 1550.64396022"
       ]
      },
      {
       "output_type": "stream",
       "stream": "stdout",
       "text": [
        "\r",
        "Iteration 21; distance 1485.34755481"
       ]
      },
      {
       "output_type": "stream",
       "stream": "stdout",
       "text": [
        "\r",
        "Iteration 22; distance 1422.80073001"
       ]
      },
      {
       "output_type": "stream",
       "stream": "stdout",
       "text": [
        "\r",
        "Iteration 23; distance 1362.88770312"
       ]
      },
      {
       "output_type": "stream",
       "stream": "stdout",
       "text": [
        "\r",
        "Iteration 24; distance 1305.49756697"
       ]
      },
      {
       "output_type": "stream",
       "stream": "stdout",
       "text": [
        "\r",
        "Iteration 25; distance 1250.52408461"
       ]
      },
      {
       "output_type": "stream",
       "stream": "stdout",
       "text": [
        "\r",
        "Iteration 26; distance 1197.86549264"
       ]
      },
      {
       "output_type": "stream",
       "stream": "stdout",
       "text": [
        "\r",
        "Iteration 27; distance 1147.42431282"
       ]
      },
      {
       "output_type": "stream",
       "stream": "stdout",
       "text": [
        "\r",
        "Iteration 28; distance 1099.10717167"
       ]
      },
      {
       "output_type": "stream",
       "stream": "stdout",
       "text": [
        "\r",
        "Iteration 29; distance 1052.82462757"
       ]
      },
      {
       "output_type": "stream",
       "stream": "stdout",
       "text": [
        "\r",
        "Iteration 30; distance 1008.49100523"
       ]
      },
      {
       "output_type": "stream",
       "stream": "stdout",
       "text": [
        "\r",
        "Iteration 31; distance 966.024237092"
       ]
      },
      {
       "output_type": "stream",
       "stream": "stdout",
       "text": [
        "\r",
        "Iteration 32; distance 925.345711372"
       ]
      },
      {
       "output_type": "stream",
       "stream": "stdout",
       "text": [
        "\r",
        "Iteration 33; distance 886.38012658"
       ]
      },
      {
       "output_type": "stream",
       "stream": "stdout",
       "text": [
        "\r",
        "Iteration 34; distance 849.055352115"
       ]
      },
      {
       "output_type": "stream",
       "stream": "stdout",
       "text": [
        "\r",
        "Iteration 35; distance 813.302294735"
       ]
      },
      {
       "output_type": "stream",
       "stream": "stdout",
       "text": [
        "\r",
        "Iteration 36; distance 779.054770661"
       ]
      },
      {
       "output_type": "stream",
       "stream": "stdout",
       "text": [
        "\r",
        "Iteration 37; distance 746.249383064"
       ]
      },
      {
       "output_type": "stream",
       "stream": "stdout",
       "text": [
        "\r",
        "Iteration 38; distance 714.825404702"
       ]
      },
      {
       "output_type": "stream",
       "stream": "stdout",
       "text": [
        "\r",
        "Iteration 39; distance 684.724665513"
       ]
      },
      {
       "output_type": "stream",
       "stream": "stdout",
       "text": [
        "\r",
        "Iteration 40; distance 655.891444929"
       ]
      },
      {
       "output_type": "stream",
       "stream": "stdout",
       "text": [
        "\r",
        "Iteration 41; distance 628.272368731"
       ]
      },
      {
       "output_type": "stream",
       "stream": "stdout",
       "text": [
        "\r",
        "Iteration 42; distance 601.81631025"
       ]
      },
      {
       "output_type": "stream",
       "stream": "stdout",
       "text": [
        "\r",
        "Iteration 43; distance 576.474295716"
       ]
      },
      {
       "output_type": "stream",
       "stream": "stdout",
       "text": [
        "\r",
        "Iteration 44; distance 552.199413612"
       ]
      },
      {
       "output_type": "stream",
       "stream": "stdout",
       "text": [
        "\r",
        "Iteration 45; distance 528.946727823"
       ]
      },
      {
       "output_type": "stream",
       "stream": "stdout",
       "text": [
        "\r",
        "Iteration 46; distance 506.673194461"
       ]
      },
      {
       "output_type": "stream",
       "stream": "stdout",
       "text": [
        "\r",
        "Iteration 47; distance 485.337582184"
       ]
      },
      {
       "output_type": "stream",
       "stream": "stdout",
       "text": [
        "\r",
        "Iteration 48; distance 464.900395867"
       ]
      },
      {
       "output_type": "stream",
       "stream": "stdout",
       "text": [
        "\r",
        "Iteration 49; distance 445.323803495"
       ]
      },
      {
       "output_type": "stream",
       "stream": "stdout",
       "text": [
        "\r",
        "Iteration 50; distance 426.57156613"
       ]
      },
      {
       "output_type": "stream",
       "stream": "stdout",
       "text": [
        "\r",
        "Iteration 51; distance 408.608970826"
       ]
      },
      {
       "output_type": "stream",
       "stream": "stdout",
       "text": [
        "\r",
        "Iteration 52; distance 391.402766373"
       ]
      },
      {
       "output_type": "stream",
       "stream": "stdout",
       "text": [
        "\r",
        "Iteration 53; distance 374.921101744"
       ]
      },
      {
       "output_type": "stream",
       "stream": "stdout",
       "text": [
        "\r",
        "Iteration 54; distance 359.133467133"
       ]
      },
      {
       "output_type": "stream",
       "stream": "stdout",
       "text": [
        "\r",
        "Iteration 55; distance 344.010637478"
       ]
      },
      {
       "output_type": "stream",
       "stream": "stdout",
       "text": [
        "\r",
        "Iteration 56; distance 329.524618362"
       ]
      },
      {
       "output_type": "stream",
       "stream": "stdout",
       "text": [
        "\r",
        "Iteration 57; distance 315.648594191"
       ]
      },
      {
       "output_type": "stream",
       "stream": "stdout",
       "text": [
        "\r",
        "Iteration 58; distance 302.356878555"
       ]
      },
      {
       "output_type": "stream",
       "stream": "stdout",
       "text": [
        "\r",
        "Iteration 59; distance 289.624866677"
       ]
      },
      {
       "output_type": "stream",
       "stream": "stdout",
       "text": [
        "\r",
        "Iteration 60; distance 277.428989869"
       ]
      },
      {
       "output_type": "stream",
       "stream": "stdout",
       "text": [
        "\r",
        "Iteration 61; distance 265.746671904"
       ]
      },
      {
       "output_type": "stream",
       "stream": "stdout",
       "text": [
        "\r",
        "Iteration 62; distance 254.556287218"
       ]
      },
      {
       "output_type": "stream",
       "stream": "stdout",
       "text": [
        "\r",
        "Iteration 63; distance 243.837120888"
       ]
      },
      {
       "output_type": "stream",
       "stream": "stdout",
       "text": [
        "\r",
        "Iteration 64; distance 233.569330274"
       ]
      },
      {
       "output_type": "stream",
       "stream": "stdout",
       "text": [
        "\r",
        "Iteration 65; distance 223.7339083"
       ]
      },
      {
       "output_type": "stream",
       "stream": "stdout",
       "text": [
        "\r",
        "Iteration 66; distance 214.312648259"
       ]
      },
      {
       "output_type": "stream",
       "stream": "stdout",
       "text": [
        "\r",
        "Iteration 67; distance 205.288110116"
       ]
      },
      {
       "output_type": "stream",
       "stream": "stdout",
       "text": [
        "\r",
        "Iteration 68; distance 196.643588222"
       ]
      },
      {
       "output_type": "stream",
       "stream": "stdout",
       "text": [
        "\r",
        "Iteration 69; distance 188.36308039"
       ]
      },
      {
       "output_type": "stream",
       "stream": "stdout",
       "text": [
        "\r",
        "Iteration 70; distance 180.431258272"
       ]
      },
      {
       "output_type": "stream",
       "stream": "stdout",
       "text": [
        "\r",
        "Iteration 71; distance 172.833438985"
       ]
      },
      {
       "output_type": "stream",
       "stream": "stdout",
       "text": [
        "\r",
        "Iteration 72; distance 165.55555793"
       ]
      },
      {
       "output_type": "stream",
       "stream": "stdout",
       "text": [
        "\r",
        "Iteration 73; distance 158.58414276"
       ]
      },
      {
       "output_type": "stream",
       "stream": "stdout",
       "text": [
        "\r",
        "Iteration 74; distance 151.906288434"
       ]
      },
      {
       "output_type": "stream",
       "stream": "stdout",
       "text": [
        "\r",
        "Iteration 75; distance 145.509633336"
       ]
      },
      {
       "output_type": "stream",
       "stream": "stdout",
       "text": [
        "\r",
        "Iteration 76; distance 139.382336385"
       ]
      },
      {
       "output_type": "stream",
       "stream": "stdout",
       "text": [
        "\r",
        "Iteration 77; distance 133.513055121"
       ]
      },
      {
       "output_type": "stream",
       "stream": "stdout",
       "text": [
        "\r",
        "Iteration 78; distance 127.890924704"
       ]
      },
      {
       "output_type": "stream",
       "stream": "stdout",
       "text": [
        "\r",
        "Iteration 79; distance 122.505537806"
       ]
      },
      {
       "output_type": "stream",
       "stream": "stdout",
       "text": [
        "\r",
        "Iteration 80; distance 117.346925341"
       ]
      },
      {
       "output_type": "stream",
       "stream": "stdout",
       "text": [
        "\r",
        "Iteration 81; distance 112.405538016"
       ]
      },
      {
       "output_type": "stream",
       "stream": "stdout",
       "text": [
        "\r",
        "Iteration 82; distance 107.67222865"
       ]
      },
      {
       "output_type": "stream",
       "stream": "stdout",
       "text": [
        "\r",
        "Iteration 83; distance 103.138235242"
       ]
      },
      {
       "output_type": "stream",
       "stream": "stdout",
       "text": [
        "\r",
        "Iteration 84; distance 98.795164754"
       ]
      },
      {
       "output_type": "stream",
       "stream": "stdout",
       "text": [
        "\r",
        "Iteration 85; distance 94.63497757"
       ]
      },
      {
       "output_type": "stream",
       "stream": "stdout",
       "text": [
        "\r",
        "Iteration 86; distance 90.6499726173"
       ]
      },
      {
       "output_type": "stream",
       "stream": "stdout",
       "text": [
        "\r",
        "Iteration 87; distance 86.8327731091"
       ]
      },
      {
       "output_type": "stream",
       "stream": "stdout",
       "text": [
        "\r",
        "Iteration 88; distance 83.1763128893"
       ]
      },
      {
       "output_type": "stream",
       "stream": "stdout",
       "text": [
        "\r",
        "Iteration 89; distance 79.6738233519"
       ]
      },
      {
       "output_type": "stream",
       "stream": "stdout",
       "text": [
        "\r",
        "Iteration 90; distance 76.318820912"
       ]
      },
      {
       "output_type": "stream",
       "stream": "stdout",
       "text": [
        "\r",
        "Iteration 91; distance 73.105095003"
       ]
      },
      {
       "output_type": "stream",
       "stream": "stdout",
       "text": [
        "\r",
        "Iteration 92; distance 70.0266965806"
       ]
      },
      {
       "output_type": "stream",
       "stream": "stdout",
       "text": [
        "\r",
        "Iteration 93; distance 67.0779271103"
       ]
      },
      {
       "output_type": "stream",
       "stream": "stdout",
       "text": [
        "\r",
        "Iteration 94; distance 64.2533280179"
       ]
      },
      {
       "output_type": "stream",
       "stream": "stdout",
       "text": [
        "\r",
        "Iteration 95; distance 61.547670586"
       ]
      },
      {
       "output_type": "stream",
       "stream": "stdout",
       "text": [
        "\r",
        "Iteration 96; distance 58.9559462743"
       ]
      },
      {
       "output_type": "stream",
       "stream": "stdout",
       "text": [
        "\r",
        "Iteration 97; distance 56.473357448"
       ]
      },
      {
       "output_type": "stream",
       "stream": "stdout",
       "text": [
        "\r",
        "Iteration 98; distance 54.0953084972"
       ]
      },
      {
       "output_type": "stream",
       "stream": "stdout",
       "text": [
        "\r",
        "Iteration 99; distance 51.8173973294"
       ]
      },
      {
       "output_type": "stream",
       "stream": "stdout",
       "text": [
        "\r",
        "Iteration 100; distance 49.6354072207"
       ]
      },
      {
       "output_type": "stream",
       "stream": "stdout",
       "text": [
        "\r",
        "Iteration 101; distance 47.5452990104"
       ]
      },
      {
       "output_type": "stream",
       "stream": "stdout",
       "text": [
        "\r",
        "Iteration 102; distance 45.5432036235"
       ]
      },
      {
       "output_type": "stream",
       "stream": "stdout",
       "text": [
        "\r",
        "Iteration 103; distance 43.6254149088"
       ]
      },
      {
       "output_type": "stream",
       "stream": "stdout",
       "text": [
        "\r",
        "Iteration 104; distance 41.7883827783"
       ]
      },
      {
       "output_type": "stream",
       "stream": "stdout",
       "text": [
        "\r",
        "Iteration 105; distance 40.0287066351"
       ]
      },
      {
       "output_type": "stream",
       "stream": "stdout",
       "text": [
        "\r",
        "Iteration 106; distance 38.3431290793"
       ]
      },
      {
       "output_type": "stream",
       "stream": "stdout",
       "text": [
        "\r",
        "Iteration 107; distance 36.7285298771"
       ]
      },
      {
       "output_type": "stream",
       "stream": "stdout",
       "text": [
        "\r",
        "Iteration 108; distance 35.1819201856"
       ]
      },
      {
       "output_type": "stream",
       "stream": "stdout",
       "text": [
        "\r",
        "Iteration 109; distance 33.7004370196"
       ]
      },
      {
       "output_type": "stream",
       "stream": "stdout",
       "text": [
        "\r",
        "Iteration 110; distance 32.2813379521"
       ]
      },
      {
       "output_type": "stream",
       "stream": "stdout",
       "text": [
        "\r",
        "Iteration 111; distance 30.9219960373"
       ]
      },
      {
       "output_type": "stream",
       "stream": "stdout",
       "text": [
        "\r",
        "Iteration 112; distance 29.6198949483"
       ]
      },
      {
       "output_type": "stream",
       "stream": "stdout",
       "text": [
        "\r",
        "Iteration 113; distance 28.3726243185"
       ]
      },
      {
       "output_type": "stream",
       "stream": "stdout",
       "text": [
        "\r",
        "Iteration 114; distance 27.1778752804"
       ]
      },
      {
       "output_type": "stream",
       "stream": "stdout",
       "text": [
        "\r",
        "Iteration 115; distance 26.0334361906"
       ]
      },
      {
       "output_type": "stream",
       "stream": "stdout",
       "text": [
        "\r",
        "Iteration 116; distance 24.9371885365"
       ]
      },
      {
       "output_type": "stream",
       "stream": "stdout",
       "text": [
        "\r",
        "Iteration 117; distance 23.8871030145"
       ]
      },
      {
       "output_type": "stream",
       "stream": "stdout",
       "text": [
        "\r",
        "Iteration 118; distance 22.8812357732"
       ]
      },
      {
       "output_type": "stream",
       "stream": "stdout",
       "text": [
        "\r",
        "Iteration 119; distance 21.9177248154"
       ]
      },
      {
       "output_type": "stream",
       "stream": "stdout",
       "text": [
        "\r",
        "Iteration 120; distance 20.9947865511"
       ]
      },
      {
       "output_type": "stream",
       "stream": "stdout",
       "text": [
        "\r",
        "Iteration 121; distance 20.1107124959"
       ]
      },
      {
       "output_type": "stream",
       "stream": "stdout",
       "text": [
        "\r",
        "Iteration 122; distance 19.2638661083"
       ]
      },
      {
       "output_type": "stream",
       "stream": "stdout",
       "text": [
        "\r",
        "Iteration 123; distance 18.4526797603"
       ]
      },
      {
       "output_type": "stream",
       "stream": "stdout",
       "text": [
        "\r",
        "Iteration 124; distance 17.6756518355"
       ]
      },
      {
       "output_type": "stream",
       "stream": "stdout",
       "text": [
        "\r",
        "Iteration 125; distance 16.9313439494"
       ]
      },
      {
       "output_type": "stream",
       "stream": "stdout",
       "text": [
        "\r",
        "Iteration 126; distance 16.2183782868"
       ]
      },
      {
       "output_type": "stream",
       "stream": "stdout",
       "text": [
        "\r",
        "Iteration 127; distance 15.535435051"
       ]
      },
      {
       "output_type": "stream",
       "stream": "stdout",
       "text": [
        "\r",
        "Iteration 128; distance 14.8812500212"
       ]
      },
      {
       "output_type": "stream",
       "stream": "stdout",
       "text": [
        "\r",
        "Iteration 129; distance 14.2546122119"
       ]
      },
      {
       "output_type": "stream",
       "stream": "stdout",
       "text": [
        "\r",
        "Iteration 130; distance 13.6543616309"
       ]
      },
      {
       "output_type": "stream",
       "stream": "stdout",
       "text": [
        "\r",
        "Iteration 131; distance 13.0793871329"
       ]
      },
      {
       "output_type": "stream",
       "stream": "stdout",
       "text": [
        "\r",
        "Iteration 132; distance 12.5286243616"
       ]
      },
      {
       "output_type": "stream",
       "stream": "stdout",
       "text": [
        "\r",
        "Iteration 133; distance 12.0010537803"
       ]
      },
      {
       "output_type": "stream",
       "stream": "stdout",
       "text": [
        "\r",
        "Iteration 134; distance 11.4956987839"
       ]
      },
      {
       "output_type": "stream",
       "stream": "stdout",
       "text": [
        "\r",
        "Iteration 135; distance 11.0116238915"
       ]
      },
      {
       "output_type": "stream",
       "stream": "stdout",
       "text": [
        "\r",
        "Iteration 136; distance 10.5479330145"
       ]
      },
      {
       "output_type": "stream",
       "stream": "stdout",
       "text": [
        "\r",
        "Iteration 137; distance 10.1037677979"
       ]
      },
      {
       "output_type": "stream",
       "stream": "stdout",
       "text": [
        "\r",
        "Iteration 138; distance 9.67830603158"
       ]
      },
      {
       "output_type": "stream",
       "stream": "stdout",
       "text": [
        "\r",
        "Iteration 139; distance 9.27076012775"
       ]
      },
      {
       "output_type": "stream",
       "stream": "stdout",
       "text": [
        "\r",
        "Iteration 140; distance 8.88037566344"
       ]
      },
      {
       "output_type": "stream",
       "stream": "stdout",
       "text": [
        "\r",
        "Iteration 141; distance 8.50642998381"
       ]
      },
      {
       "output_type": "stream",
       "stream": "stdout",
       "text": [
        "\r",
        "Iteration 142; distance 8.14823086459"
       ]
      },
      {
       "output_type": "stream",
       "stream": "stdout",
       "text": [
        "\r",
        "Iteration 143; distance 7.80511523034"
       ]
      },
      {
       "output_type": "stream",
       "stream": "stdout",
       "text": [
        "\r",
        "Iteration 144; distance 7.47644792733"
       ]
      },
      {
       "output_type": "stream",
       "stream": "stdout",
       "text": [
        "\r",
        "Iteration 145; distance 7.16162054762"
       ]
      },
      {
       "output_type": "stream",
       "stream": "stdout",
       "text": [
        "\r",
        "Iteration 146; distance 6.86005030283"
       ]
      },
      {
       "output_type": "stream",
       "stream": "stdout",
       "text": [
        "\r",
        "Iteration 147; distance 6.57117894541"
       ]
      },
      {
       "output_type": "stream",
       "stream": "stdout",
       "text": [
        "\r",
        "Iteration 148; distance 6.29447173508"
       ]
      },
      {
       "output_type": "stream",
       "stream": "stdout",
       "text": [
        "\r",
        "Iteration 149; distance 6.02941644916"
       ]
      },
      {
       "output_type": "stream",
       "stream": "stdout",
       "text": [
        "\r",
        "Iteration 150; distance 5.77552243417"
       ]
      },
      {
       "output_type": "stream",
       "stream": "stdout",
       "text": [
        "\r",
        "Iteration 151; distance 5.53231969778"
       ]
      },
      {
       "output_type": "stream",
       "stream": "stdout",
       "text": [
        "\r",
        "Iteration 152; distance 5.29935803855"
       ]
      },
      {
       "output_type": "stream",
       "stream": "stdout",
       "text": [
        "\r",
        "Iteration 153; distance 5.07620621275"
       ]
      },
      {
       "output_type": "stream",
       "stream": "stdout",
       "text": [
        "\r",
        "Iteration 154; distance 4.86245113594"
       ]
      },
      {
       "output_type": "stream",
       "stream": "stdout",
       "text": [
        "\r",
        "Iteration 155; distance 4.65769711837"
       ]
      },
      {
       "output_type": "stream",
       "stream": "stdout",
       "text": [
        "\r",
        "Iteration 156; distance 4.4615651325"
       ]
      },
      {
       "output_type": "stream",
       "stream": "stdout",
       "text": [
        "\r",
        "Iteration 157; distance 4.27369211131"
       ]
      },
      {
       "output_type": "stream",
       "stream": "stdout",
       "text": [
        "\r",
        "Iteration 158; distance 4.09373027618"
       ]
      },
      {
       "output_type": "stream",
       "stream": "stdout",
       "text": [
        "\r",
        "Iteration 159; distance 3.92134649332"
       ]
      },
      {
       "output_type": "stream",
       "stream": "stdout",
       "text": [
        "\r",
        "Iteration 160; distance 3.75622165682"
       ]
      },
      {
       "output_type": "stream",
       "stream": "stdout",
       "text": [
        "\r",
        "Iteration 161; distance 3.59805009815"
       ]
      },
      {
       "output_type": "stream",
       "stream": "stdout",
       "text": [
        "\r",
        "Iteration 162; distance 3.44653902022"
       ]
      },
      {
       "output_type": "stream",
       "stream": "stdout",
       "text": [
        "\r",
        "Iteration 163; distance 3.30140795537"
       ]
      },
      {
       "output_type": "stream",
       "stream": "stdout",
       "text": [
        "\r",
        "Iteration 164; distance 3.1623882463"
       ]
      },
      {
       "output_type": "stream",
       "stream": "stdout",
       "text": [
        "\r",
        "Iteration 165; distance 3.02922254852"
       ]
      },
      {
       "output_type": "stream",
       "stream": "stdout",
       "text": [
        "\r",
        "Iteration 166; distance 2.90166435419"
       ]
      },
      {
       "output_type": "stream",
       "stream": "stdout",
       "text": [
        "\r",
        "Iteration 167; distance 2.77947753576"
       ]
      },
      {
       "output_type": "stream",
       "stream": "stdout",
       "text": [
        "\r",
        "Iteration 168; distance 2.66243590876"
       ]
      },
      {
       "output_type": "stream",
       "stream": "stdout",
       "text": [
        "\r",
        "Iteration 169; distance 2.55032281319"
       ]
      },
      {
       "output_type": "stream",
       "stream": "stdout",
       "text": [
        "\r",
        "Iteration 170; distance 2.44293071247"
       ]
      },
      {
       "output_type": "stream",
       "stream": "stdout",
       "text": [
        "\r",
        "Iteration 171; distance 2.34006080923"
       ]
      },
      {
       "output_type": "stream",
       "stream": "stdout",
       "text": [
        "\r",
        "Iteration 172; distance 2.2415226772"
       ]
      },
      {
       "output_type": "stream",
       "stream": "stdout",
       "text": [
        "\r",
        "Iteration 173; distance 2.14713390894"
       ]
      },
      {
       "output_type": "stream",
       "stream": "stdout",
       "text": [
        "\r",
        "Iteration 174; distance 2.0567197779"
       ]
      },
      {
       "output_type": "stream",
       "stream": "stdout",
       "text": [
        "\r",
        "Iteration 175; distance 1.97011291529"
       ]
      },
      {
       "output_type": "stream",
       "stream": "stdout",
       "text": [
        "\r",
        "Iteration 176; distance 1.88715299997"
       ]
      },
      {
       "output_type": "stream",
       "stream": "stdout",
       "text": [
        "\r",
        "Iteration 177; distance 1.80768646185"
       ]
      },
      {
       "output_type": "stream",
       "stream": "stdout",
       "text": [
        "\r",
        "Iteration 178; distance 1.73156619757"
       ]
      },
      {
       "output_type": "stream",
       "stream": "stdout",
       "text": [
        "\r",
        "Iteration 179; distance 1.65865129812"
       ]
      },
      {
       "output_type": "stream",
       "stream": "stdout",
       "text": [
        "\r",
        "Iteration 180; distance 1.58880678815"
       ]
      },
      {
       "output_type": "stream",
       "stream": "stdout",
       "text": [
        "\r",
        "Iteration 181; distance 1.52190337584"
       ]
      },
      {
       "output_type": "stream",
       "stream": "stdout",
       "text": [
        "\r",
        "Iteration 182; distance 1.45781721399"
       ]
      },
      {
       "output_type": "stream",
       "stream": "stdout",
       "text": [
        "\r",
        "Iteration 183; distance 1.39642967034"
       ]
      },
      {
       "output_type": "stream",
       "stream": "stdout",
       "text": [
        "\r",
        "Iteration 184; distance 1.33762710815"
       ]
      },
      {
       "output_type": "stream",
       "stream": "stdout",
       "text": [
        "\r",
        "Iteration 185; distance 1.28130067588"
       ]
      },
      {
       "output_type": "stream",
       "stream": "stdout",
       "text": [
        "\r",
        "Iteration 186; distance 1.22734610574"
       ]
      },
      {
       "output_type": "stream",
       "stream": "stdout",
       "text": [
        "\r",
        "Iteration 187; distance 1.17566352034"
       ]
      },
      {
       "output_type": "stream",
       "stream": "stdout",
       "text": [
        "\r",
        "Iteration 188; distance 1.12615724821"
       ]
      },
      {
       "output_type": "stream",
       "stream": "stdout",
       "text": [
        "\r",
        "Iteration 189; distance 1.07873564654"
       ]
      },
      {
       "output_type": "stream",
       "stream": "stdout",
       "text": [
        "\r",
        "Iteration 190; distance 1.03331093146"
       ]
      },
      {
       "output_type": "stream",
       "stream": "stdout",
       "text": [
        "\r",
        "Iteration 191; distance 0.989799015615"
       ]
      },
      {
       "output_type": "stream",
       "stream": "stdout",
       "text": [
        "\r",
        "Iteration 192; distance 0.948119352529"
       ]
      },
      {
       "output_type": "stream",
       "stream": "stdout",
       "text": [
        "\r",
        "Iteration 193; distance 0.908194787498"
       ]
      },
      {
       "output_type": "stream",
       "stream": "stdout",
       "text": [
        "\r",
        "Iteration 194; distance 0.869951414739"
       ]
      },
      {
       "output_type": "stream",
       "stream": "stdout",
       "text": [
        "\r",
        "Iteration 195; distance 0.833318440479"
       ]
      },
      {
       "output_type": "stream",
       "stream": "stdout",
       "text": [
        "\r",
        "Iteration 196; distance 0.798228052151"
       ]
      },
      {
       "output_type": "stream",
       "stream": "stdout",
       "text": [
        "\r",
        "Iteration 197; distance 0.764615292645"
       ]
      },
      {
       "output_type": "stream",
       "stream": "stdout",
       "text": [
        "\r",
        "Iteration 198; distance 0.732417940184"
       ]
      },
      {
       "output_type": "stream",
       "stream": "stdout",
       "text": [
        "\r",
        "Iteration 199; distance 0.701576393094"
       ]
      },
      {
       "output_type": "stream",
       "stream": "stdout",
       "text": [
        "\r",
        "Iteration 200; distance 0.672033559439"
       ]
      },
      {
       "output_type": "stream",
       "stream": "stdout",
       "text": [
        "\r",
        "Iteration 201; distance 0.643734751392"
       ]
      },
      {
       "output_type": "stream",
       "stream": "stdout",
       "text": [
        "\r",
        "Iteration 202; distance 0.616627584077"
       ]
      },
      {
       "output_type": "stream",
       "stream": "stdout",
       "text": [
        "\r",
        "Iteration 203; distance 0.590661878399"
       ]
      },
      {
       "output_type": "stream",
       "stream": "stdout",
       "text": [
        "\r",
        "Iteration 204; distance 0.565789568223"
       ]
      },
      {
       "output_type": "stream",
       "stream": "stdout",
       "text": [
        "\r",
        "Iteration 205; distance 0.541964611653"
       ]
      },
      {
       "output_type": "stream",
       "stream": "stdout",
       "text": [
        "\r",
        "Iteration 206; distance 0.51914290538"
       ]
      },
      {
       "output_type": "stream",
       "stream": "stdout",
       "text": [
        "\r",
        "Iteration 207; distance 0.497282203286"
       ]
      },
      {
       "output_type": "stream",
       "stream": "stdout",
       "text": [
        "\r",
        "Iteration 208; distance 0.47634203833"
       ]
      },
      {
       "output_type": "stream",
       "stream": "stdout",
       "text": [
        "\r",
        "Iteration 209; distance 0.456283647352"
       ]
      },
      {
       "output_type": "stream",
       "stream": "stdout",
       "text": [
        "\r",
        "Iteration 210; distance 0.437069899505"
       ]
      },
      {
       "output_type": "stream",
       "stream": "stdout",
       "text": [
        "\r",
        "Iteration 211; distance 0.418665227579"
       ]
      },
      {
       "output_type": "stream",
       "stream": "stdout",
       "text": [
        "\r",
        "Iteration 212; distance 0.401035562027"
       ]
      },
      {
       "output_type": "stream",
       "stream": "stdout",
       "text": [
        "\r",
        "Iteration 213; distance 0.384148267898"
       ]
      },
      {
       "output_type": "stream",
       "stream": "stdout",
       "text": [
        "\r",
        "Iteration 214; distance 0.367972084543"
       ]
      },
      {
       "output_type": "stream",
       "stream": "stdout",
       "text": [
        "\r",
        "Iteration 215; distance 0.35247706763"
       ]
      },
      {
       "output_type": "stream",
       "stream": "stdout",
       "text": [
        "\r",
        "Iteration 216; distance 0.337634533762"
       ]
      },
      {
       "output_type": "stream",
       "stream": "stdout",
       "text": [
        "\r",
        "Iteration 217; distance 0.323417007361"
       ]
      },
      {
       "output_type": "stream",
       "stream": "stdout",
       "text": [
        "\r",
        "Iteration 218; distance 0.309798169918"
       ]
      },
      {
       "output_type": "stream",
       "stream": "stdout",
       "text": [
        "\r",
        "Iteration 219; distance 0.296752811112"
       ]
      },
      {
       "output_type": "stream",
       "stream": "stdout",
       "text": [
        "\r",
        "Iteration 220; distance 0.284256782142"
       ]
      },
      {
       "output_type": "stream",
       "stream": "stdout",
       "text": [
        "\r",
        "Iteration 221; distance 0.272286951177"
       ]
      },
      {
       "output_type": "stream",
       "stream": "stdout",
       "text": [
        "\r",
        "Iteration 222; distance 0.26082116042"
       ]
      },
      {
       "output_type": "stream",
       "stream": "stdout",
       "text": [
        "\r",
        "Iteration 223; distance 0.249838185171"
       ]
      },
      {
       "output_type": "stream",
       "stream": "stdout",
       "text": [
        "\r",
        "Iteration 224; distance 0.239317694421"
       ]
      },
      {
       "output_type": "stream",
       "stream": "stdout",
       "text": [
        "\r",
        "Iteration 225; distance 0.229240213334"
       ]
      },
      {
       "output_type": "stream",
       "stream": "stdout",
       "text": [
        "\r",
        "Iteration 226; distance 0.219587087072"
       ]
      },
      {
       "output_type": "stream",
       "stream": "stdout",
       "text": [
        "\r",
        "Iteration 227; distance 0.210340446447"
       ]
      },
      {
       "output_type": "stream",
       "stream": "stdout",
       "text": [
        "\r",
        "Iteration 228; distance 0.201483174605"
       ]
      },
      {
       "output_type": "stream",
       "stream": "stdout",
       "text": [
        "\r",
        "Iteration 229; distance 0.192998875571"
       ]
      },
      {
       "output_type": "stream",
       "stream": "stdout",
       "text": [
        "\r",
        "Iteration 230; distance 0.184871843763"
       ]
      },
      {
       "output_type": "stream",
       "stream": "stdout",
       "text": [
        "\r",
        "Iteration 231; distance 0.177087034926"
       ]
      },
      {
       "output_type": "stream",
       "stream": "stdout",
       "text": [
        "\r",
        "Iteration 232; distance 0.16963003825"
       ]
      },
      {
       "output_type": "stream",
       "stream": "stdout",
       "text": [
        "\r",
        "Iteration 233; distance 0.162487049894"
       ]
      },
      {
       "output_type": "stream",
       "stream": "stdout",
       "text": [
        "\r",
        "Iteration 234; distance 0.155644847193"
       ]
      },
      {
       "output_type": "stream",
       "stream": "stdout",
       "text": [
        "\r",
        "Iteration 235; distance 0.149090764302"
       ]
      },
      {
       "output_type": "stream",
       "stream": "stdout",
       "text": [
        "\r",
        "Iteration 236; distance 0.142812668707"
       ]
      },
      {
       "output_type": "stream",
       "stream": "stdout",
       "text": [
        "\r",
        "Iteration 237; distance 0.136798938869"
       ]
      },
      {
       "output_type": "stream",
       "stream": "stdout",
       "text": [
        "\r",
        "Iteration 238; distance 0.131038442435"
       ]
      },
      {
       "output_type": "stream",
       "stream": "stdout",
       "text": [
        "\r",
        "Iteration 239; distance 0.125520515998"
       ]
      },
      {
       "output_type": "stream",
       "stream": "stdout",
       "text": [
        "\r",
        "Iteration 240; distance 0.120234945183"
       ]
      },
      {
       "output_type": "stream",
       "stream": "stdout",
       "text": [
        "\r",
        "Iteration 241; distance 0.115171945622"
       ]
      },
      {
       "output_type": "stream",
       "stream": "stdout",
       "text": [
        "\r",
        "Iteration 242; distance 0.110322144941"
       ]
      },
      {
       "output_type": "stream",
       "stream": "stdout",
       "text": [
        "\r",
        "Iteration 243; distance 0.105676565648"
       ]
      },
      {
       "output_type": "stream",
       "stream": "stdout",
       "text": [
        "\r",
        "Iteration 244; distance 0.101226608039"
       ]
      },
      {
       "output_type": "stream",
       "stream": "stdout",
       "text": [
        "\r",
        "Iteration 245; distance 0.0969640346927"
       ]
      },
      {
       "output_type": "stream",
       "stream": "stdout",
       "text": [
        "\n",
        "finished in 246 iterations\n",
        "entering"
       ]
      },
      {
       "output_type": "stream",
       "stream": "stdout",
       "text": [
        "\n",
        "sigma 8.77812188294\n",
        "(57, 57) (57, 57)\n",
        "starting frame= 43\n",
        "total final frames = 127\n",
        "entering"
       ]
      },
      {
       "output_type": "stream",
       "stream": "stdout",
       "text": [
        "\n",
        "sigma 8.77812188294\n",
        "(57, 57) (57, 57)\n",
        "starting frame= 43\n",
        "total final frames = 108\n",
        "entering"
       ]
      },
      {
       "output_type": "stream",
       "stream": "stdout",
       "text": [
        "\n",
        "sigma 8.77812188294\n",
        "(57, 57) (57, 57)\n",
        "starting frame= 43\n",
        "total final frames = 129\n",
        "entering"
       ]
      },
      {
       "output_type": "stream",
       "stream": "stdout",
       "text": [
        "\n",
        "sigma 8.77812188294\n",
        "(57, 57) (57, 57)\n",
        "starting frame= 43\n",
        "total final frames = 107\n",
        "entering"
       ]
      },
      {
       "output_type": "stream",
       "stream": "stdout",
       "text": [
        "\n",
        "sigma 8.77812188294\n",
        "(57, 57) (57, 57)\n",
        "starting frame= 43\n",
        "total final frames = 108\n",
        "entering"
       ]
      },
      {
       "output_type": "stream",
       "stream": "stdout",
       "text": [
        "\n",
        "sigma 8.77812188294\n",
        "(57, 57) (57, 57)\n",
        "starting frame= 43\n",
        "total final frames = 128\n",
        "entering"
       ]
      },
      {
       "output_type": "stream",
       "stream": "stdout",
       "text": [
        "\n",
        "sigma 8.77812188294\n",
        "(57, 57) (57, 57)\n",
        "starting frame= 43\n",
        "total final frames = 106\n",
        "entering"
       ]
      },
      {
       "output_type": "stream",
       "stream": "stdout",
       "text": [
        "\n",
        "sigma 8.77812188294\n",
        "(57, 57) (57, 57)\n",
        "starting frame= 43\n",
        "total final frames = 107\n",
        "entering"
       ]
      },
      {
       "output_type": "stream",
       "stream": "stdout",
       "text": [
        "\n",
        "sigma 8.77812188294\n",
        "(57, 57) (57, 57)\n",
        "starting frame= 43\n",
        "total final frames = 106\n",
        "entering"
       ]
      },
      {
       "output_type": "stream",
       "stream": "stdout",
       "text": [
        "\n",
        "sigma 8.77812188294\n",
        "(57, 57) (57, 57)\n",
        "starting frame= 43\n",
        "total final frames = 129\n",
        "entering"
       ]
      },
      {
       "output_type": "stream",
       "stream": "stdout",
       "text": [
        "\n",
        "sigma 8.77812188294\n",
        "(57, 57) (57, 57)\n",
        "starting frame= 43\n",
        "total final frames = 106\n",
        "entering"
       ]
      },
      {
       "output_type": "stream",
       "stream": "stdout",
       "text": [
        "\n",
        "sigma 8.77812188294\n",
        "(57, 57) (57, 57)\n",
        "starting frame= 43\n",
        "total final frames = 128\n",
        "entering"
       ]
      },
      {
       "output_type": "stream",
       "stream": "stdout",
       "text": [
        "\n",
        "sigma 8.77812188294\n",
        "(57, 57) (57, 57)\n",
        "starting frame= 43\n",
        "total final frames = 129\n",
        "entering"
       ]
      },
      {
       "output_type": "stream",
       "stream": "stdout",
       "text": [
        "\n",
        "sigma 8.77812188294\n",
        "(57, 57) (57, 57)\n",
        "starting frame= 43\n",
        "total final frames = 107\n",
        "entering"
       ]
      },
      {
       "output_type": "stream",
       "stream": "stdout",
       "text": [
        "\n",
        "sigma 8.77812188294\n",
        "(57, 57) (57, 57)\n",
        "starting frame= 43\n",
        "total final frames = 127\n",
        "entering"
       ]
      },
      {
       "output_type": "stream",
       "stream": "stdout",
       "text": [
        "\n",
        "sigma 8.77812188294\n",
        "(57, 57) (57, 57)\n",
        "starting frame= 43\n",
        "total final frames = 106\n",
        "entering"
       ]
      },
      {
       "output_type": "stream",
       "stream": "stdout",
       "text": [
        "\n",
        "sigma 8.77812188294\n",
        "(57, 57) (57, 57)\n",
        "starting frame= 43\n",
        "total final frames = 107\n"
       ]
      },
      {
       "metadata": {},
       "output_type": "pyout",
       "prompt_number": 3,
       "text": [
        "0"
       ]
      }
     ],
     "prompt_number": 3
    },
    {
     "cell_type": "code",
     "collapsed": false,
     "input": [
      "# distMat = np.copy(window.distMat)\n",
      "figure(); imshow(distMat, interpolation='nearest')\n",
      "def getRangeDistances(self, l, frameRange, featherLevel, weightShape) :\n",
      "\n",
      "    kernelLength = np.float(frameRange[1]-frameRange[0])\n",
      "    print kernelLength\n",
      "    kernelRange = np.arange(1.0, 0.0, -(1.0)/np.floor(kernelLength*featherLevel))\n",
      "    print kernelRange\n",
      "    kernel = np.zeros(kernelLength+1)\n",
      "    kernel[0:len(kernelRange)] = kernelRange#+np.ones(kernelRange.shape)\n",
      "    kernel = np.hstack((kernel, kernel[np.arange(len(kernel)-2, -1, -1)]))\n",
      "    \n",
      "    rangeDistances = np.arange(0, weightShape[0])\n",
      "    rangeDistances = np.abs(rangeDistances - frameRange[1])\n",
      "    rangeDistances[frameRange[0]:frameRange[2]+1] = rangeDistances[frameRange[0]:frameRange[2]+1]*kernel\n",
      "    print rangeDistances\n",
      "    \n",
      "    rangeDistances = np.repeat(np.reshape(rangeDistances, (1, len(rangeDistances))), len(rangeDistances), axis=0)\n",
      "    \n",
      "    return rangeDistances\n",
      "rangeDistances = getRangeDistances(0.7, [24, 35, 46], 0.5, distMat.shape)\n",
      "figure(); imshow(rangeDistances, interpolation='nearest')\n",
      "print rangeWeights"
     ],
     "language": "python",
     "metadata": {},
     "outputs": [
      {
       "output_type": "stream",
       "stream": "stdout",
       "text": [
        "11.0\n",
        "[ 1.   0.8  0.6  0.4  0.2]\n",
        "[35 34 33 32 31 30 29 28 27 26 25 24 23 22 21 20 19 18 17 16 15 14 13 12 11\n",
        "  8  5  3  1  0  0  0  0  0  0  0  0  0  0  0  0  0  1  3  5  8 11 12 13 14\n",
        " 15 16 17 18 19 20 21]\n",
        "[[35 34 33 ..., 19 20 21]\n",
        " [35 34 33 ..., 19 20 21]\n",
        " [35 34 33 ..., 19 20 21]\n",
        " ..., \n",
        " [35 34 33 ..., 19 20 21]\n",
        " [35 34 33 ..., 19 20 21]\n",
        " [35 34 33 ..., 19 20 21]]"
       ]
      },
      {
       "output_type": "stream",
       "stream": "stdout",
       "text": [
        "\n"
       ]
      }
     ],
     "prompt_number": 42
    },
    {
     "cell_type": "code",
     "collapsed": false,
     "input": [
      "## Turn distances to probabilities\n",
      "def rangedist2prob(dM, sigmaMult, rangeDist, normalize) :\n",
      "    sigma = sigmaMult*np.mean(dM[np.nonzero(dM)])\n",
      "    print 'sigma', sigma\n",
      "    pM = np.exp(-(dM/sigma+ rangeDist))\n",
      "## normalize probabilities row-wise\n",
      "    if normalize :\n",
      "        normTerm = np.sum(pM, axis=1)\n",
      "        normTerm = cv2.repeat(normTerm, 1, dM.shape[1])\n",
      "        pM = pM / normTerm\n",
      "    return pM\n",
      "\n",
      "def getProbabilities(distMat, sigmaMult, rangeDist, normalizeRows) :\n",
      "    ## compute probabilities from distanceMatrix and the cumulative probabilities\n",
      "    if normalizeRows = None :\n",
      "        probabilities = dist2prob(distMat, sigmaMult, normalizeRows)\n",
      "    else :\n",
      "        probabilities = rangedist2prob(distMat, sigmaMult, rangeDist, normalizeRows)\n",
      "    # since the probabilities are normalized on each row, the right most column will be all ones\n",
      "    cumProb = np.cumsum(probabilities, axis=1)\n",
      "    print probabilities.shape, cumProb.shape\n",
      "    \n",
      "    return probabilities, cumProb"
     ],
     "language": "python",
     "metadata": {},
     "outputs": [],
     "prompt_number": 38
    },
    {
     "cell_type": "code",
     "collapsed": false,
     "input": [
      "probs, cumProb = getProbabilities(distMat, 0.005, rangeWeights, True)\n",
      "figure(); imshow(probs, interpolation='nearest')\n",
      "figure(); imshow(cumProb, interpolation='nearest')"
     ],
     "language": "python",
     "metadata": {},
     "outputs": [
      {
       "output_type": "stream",
       "stream": "stdout",
       "text": [
        "sigma 8.77812188294\n",
        "(57, 57) (57, 57)\n"
       ]
      },
      {
       "metadata": {},
       "output_type": "pyout",
       "prompt_number": 44,
       "text": [
        "<matplotlib.image.AxesImage at 0x7f09fb6dcc50>"
       ]
      }
     ],
     "prompt_number": 44
    }
   ],
   "metadata": {}
  }
 ]
}