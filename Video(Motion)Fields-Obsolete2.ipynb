{
 "metadata": {
  "name": ""
 },
 "nbformat": 3,
 "nbformat_minor": 0,
 "worksheets": [
  {
   "cells": [
    {
     "cell_type": "code",
     "collapsed": false,
     "input": [
      "## Imports and defines\n",
      "%pylab \n",
      "\n",
      "from PIL import Image\n",
      "from PySide import QtCore, QtGui\n",
      "\n",
      "import numpy as np\n",
      "import scipy as sp\n",
      "import scipy.io as sio\n",
      "import cv2\n",
      "import cv\n",
      "import glob\n",
      "import time\n",
      "import sys\n",
      "import os\n",
      "from scipy import ndimage\n",
      "from scipy import stats\n",
      "\n",
      "from tsne import tsne\n",
      "\n",
      "from _emd import emd\n",
      "\n",
      "import GraphWithValues as gwv\n",
      "import VideoTexturesUtils as vtu\n",
      "import ComputeGridFeatures as cgf\n",
      "\n",
      "dataFolder = \"/home/ilisescu/PhD/data/\"\n",
      "POSE = 0\n",
      "VELOCITY = 1\n",
      "FUT_VELOCITY = 2\n",
      "\n",
      "app = QtGui.QApplication(sys.argv)"
     ],
     "language": "python",
     "metadata": {},
     "outputs": [
      {
       "output_type": "stream",
       "stream": "stdout",
       "text": [
        "Using matplotlib backend: TkAgg\n",
        "Populating the interactive namespace from numpy and matplotlib\n"
       ]
      }
     ],
     "prompt_number": 1
    },
    {
     "cell_type": "code",
     "collapsed": false,
     "input": [
      "## read frames from sequence of images\n",
      "# sampleData = \"pendulum/\"\n",
      "sampleData = \"ribbon2/\"\n",
      "# sampleData = \"ribbon1_matted/\"\n",
      "# sampleData = \"little_palm1_cropped/\"\n",
      "# sampleData = \"ballAnimation/\"\n",
      "outputData = dataFolder+sampleData\n",
      "\n",
      "## Find pngs in sample data\n",
      "frames = glob.glob(dataFolder + sampleData + \"frame-*.png\")\n",
      "mattes = glob.glob(dataFolder + sampleData + \"matte-*.png\")\n",
      "frames = np.sort(frames)\n",
      "mattes = np.sort(mattes)#[0:len(frames)-10]\n",
      "numFrames = len(frames)\n",
      "frameSize = cv2.imread(frames[0]).shape\n",
      "print numFrames, len(mattes)"
     ],
     "language": "python",
     "metadata": {},
     "outputs": [
      {
       "output_type": "stream",
       "stream": "stdout",
       "text": [
        "1280 1280\n"
       ]
      }
     ],
     "prompt_number": 2
    },
    {
     "cell_type": "code",
     "collapsed": false,
     "input": [
      "## compute features for image\n",
      "blocksPerWidth = 4#16#32\n",
      "blocksPerHeight = 4#16#48\n",
      "subDivisions = blocksPerWidth*blocksPerHeight\n",
      "\n",
      "## given block sizes and img sizes build indices representing each block\n",
      "imageSize = np.array(cv2.cvtColor(cv2.imread(frames[0]), cv2.COLOR_BGR2RGB)).shape\n",
      "stencils = cgf.stencil2D(blocksPerWidth, blocksPerHeight, imageSize)\n",
      "\n",
      "features = cgf.histFgFeatures(stencils, subDivisions, frames, mattes)\n",
      "figure(); imshow(features.T, interpolation='nearest')"
     ],
     "language": "python",
     "metadata": {},
     "outputs": [
      {
       "output_type": "stream",
       "stream": "stdout",
       "text": [
        "\r",
        "Computed features for frame 0 of 1280 in 0.111442089081"
       ]
      },
      {
       "output_type": "stream",
       "stream": "stdout",
       "text": [
        "\r",
        "Computed features for frame 1 of 1280 in 0.0977880954742"
       ]
      },
      {
       "output_type": "stream",
       "stream": "stdout",
       "text": [
        "\r",
        "Computed features for frame 2 of 1280 in 0.0837318897247"
       ]
      },
      {
       "output_type": "stream",
       "stream": "stdout",
       "text": [
        "\r",
        "Computed features for frame 3 of 1280 in 0.103524923325"
       ]
      },
      {
       "output_type": "stream",
       "stream": "stdout",
       "text": [
        "\r",
        "Computed features for frame 4 of 1280 in 0.107758998871"
       ]
      },
      {
       "output_type": "stream",
       "stream": "stdout",
       "text": [
        "\r",
        "Computed features for frame 5 of 1280 in 0.10239815712"
       ]
      },
      {
       "output_type": "stream",
       "stream": "stdout",
       "text": [
        "\r",
        "Computed features for frame 6 of 1280 in 0.0838589668274"
       ]
      },
      {
       "output_type": "stream",
       "stream": "stdout",
       "text": [
        "\r",
        "Computed features for frame 7 of 1280 in 0.0791170597076"
       ]
      },
      {
       "output_type": "stream",
       "stream": "stdout",
       "text": [
        "\r",
        "Computed features for frame 8 of 1280 in 0.0967998504639"
       ]
      },
      {
       "output_type": "stream",
       "stream": "stdout",
       "text": [
        "\r",
        "Computed features for frame 9 of 1280 in 0.106750011444"
       ]
      },
      {
       "output_type": "stream",
       "stream": "stdout",
       "text": [
        "\r",
        "Computed features for frame 10 of 1280 in 0.0860641002655"
       ]
      },
      {
       "output_type": "stream",
       "stream": "stdout",
       "text": [
        "\r",
        "Computed features for frame 11 of 1280 in 0.0777940750122"
       ]
      },
      {
       "output_type": "stream",
       "stream": "stdout",
       "text": [
        "\r",
        "Computed features for frame 12 of 1280 in 0.0829429626465"
       ]
      },
      {
       "output_type": "stream",
       "stream": "stdout",
       "text": [
        "\r",
        "Computed features for frame 13 of 1280 in 0.0966320037842"
       ]
      },
      {
       "output_type": "stream",
       "stream": "stdout",
       "text": [
        "\r",
        "Computed features for frame 14 of 1280 in 0.102215051651"
       ]
      },
      {
       "output_type": "stream",
       "stream": "stdout",
       "text": [
        "\r",
        "Computed features for frame 15 of 1280 in 0.0930790901184"
       ]
      },
      {
       "output_type": "stream",
       "stream": "stdout",
       "text": [
        "\r",
        "Computed features for frame 16 of 1280 in 0.083801984787"
       ]
      },
      {
       "output_type": "stream",
       "stream": "stdout",
       "text": [
        "\r",
        "Computed features for frame 17 of 1280 in 0.0831270217896"
       ]
      },
      {
       "output_type": "stream",
       "stream": "stdout",
       "text": [
        "\r",
        "Computed features for frame 18 of 1280 in 0.0809640884399"
       ]
      },
      {
       "output_type": "stream",
       "stream": "stdout",
       "text": [
        "\r",
        "Computed features for frame 19 of 1280 in 0.0816049575806"
       ]
      },
      {
       "output_type": "stream",
       "stream": "stdout",
       "text": [
        "\r",
        "Computed features for frame 20 of 1280 in 0.0820472240448"
       ]
      },
      {
       "output_type": "stream",
       "stream": "stdout",
       "text": [
        "\r",
        "Computed features for frame 21 of 1280 in 0.0788750648499"
       ]
      },
      {
       "output_type": "stream",
       "stream": "stdout",
       "text": [
        "\r",
        "Computed features for frame 22 of 1280 in 0.0796020030975"
       ]
      },
      {
       "output_type": "stream",
       "stream": "stdout",
       "text": [
        "\r",
        "Computed features for frame 23 of 1280 in 0.0795288085938"
       ]
      },
      {
       "output_type": "stream",
       "stream": "stdout",
       "text": [
        "\r",
        "Computed features for frame 24 of 1280 in 0.0789411067963"
       ]
      },
      {
       "output_type": "stream",
       "stream": "stdout",
       "text": [
        "\r",
        "Computed features for frame 25 of 1280 in 0.0792548656464"
       ]
      },
      {
       "output_type": "stream",
       "stream": "stdout",
       "text": [
        "\r",
        "Computed features for frame 26 of 1280 in 0.0916559696198"
       ]
      },
      {
       "output_type": "stream",
       "stream": "stdout",
       "text": [
        "\r",
        "Computed features for frame 27 of 1280 in 0.0802919864655"
       ]
      },
      {
       "output_type": "stream",
       "stream": "stdout",
       "text": [
        "\r",
        "Computed features for frame 28 of 1280 in 0.0836880207062"
       ]
      },
      {
       "output_type": "stream",
       "stream": "stdout",
       "text": [
        "\r",
        "Computed features for frame 29 of 1280 in 0.0881731510162"
       ]
      },
      {
       "output_type": "stream",
       "stream": "stdout",
       "text": [
        "\r",
        "Computed features for frame 30 of 1280 in 0.0818839073181"
       ]
      },
      {
       "output_type": "stream",
       "stream": "stdout",
       "text": [
        "\r",
        "Computed features for frame 31 of 1280 in 0.0784428119659"
       ]
      },
      {
       "output_type": "stream",
       "stream": "stdout",
       "text": [
        "\r",
        "Computed features for frame 32 of 1280 in 0.0776541233063"
       ]
      },
      {
       "output_type": "stream",
       "stream": "stdout",
       "text": [
        "\r",
        "Computed features for frame 33 of 1280 in 0.0775461196899"
       ]
      },
      {
       "output_type": "stream",
       "stream": "stdout",
       "text": [
        "\r",
        "Computed features for frame 34 of 1280 in 0.0800440311432"
       ]
      },
      {
       "output_type": "stream",
       "stream": "stdout",
       "text": [
        "\r",
        "Computed features for frame 35 of 1280 in 0.0772919654846"
       ]
      },
      {
       "output_type": "stream",
       "stream": "stdout",
       "text": [
        "\r",
        "Computed features for frame 36 of 1280 in 0.0798699855804"
       ]
      },
      {
       "output_type": "stream",
       "stream": "stdout",
       "text": [
        "\r",
        "Computed features for frame 37 of 1280 in 0.0812480449677"
       ]
      },
      {
       "output_type": "stream",
       "stream": "stdout",
       "text": [
        "\r",
        "Computed features for frame 38 of 1280 in 0.0784780979156"
       ]
      },
      {
       "output_type": "stream",
       "stream": "stdout",
       "text": [
        "\r",
        "Computed features for frame 39 of 1280 in 0.0770969390869"
       ]
      },
      {
       "output_type": "stream",
       "stream": "stdout",
       "text": [
        "\r",
        "Computed features for frame 40 of 1280 in 0.0767118930817"
       ]
      },
      {
       "output_type": "stream",
       "stream": "stdout",
       "text": [
        "\r",
        "Computed features for frame 41 of 1280 in 0.0799400806427"
       ]
      },
      {
       "output_type": "stream",
       "stream": "stdout",
       "text": [
        "\r",
        "Computed features for frame 42 of 1280 in 0.0777440071106"
       ]
      },
      {
       "output_type": "stream",
       "stream": "stdout",
       "text": [
        "\r",
        "Computed features for frame 43 of 1280 in 0.0808219909668"
       ]
      },
      {
       "output_type": "stream",
       "stream": "stdout",
       "text": [
        "\r",
        "Computed features for frame 44 of 1280 in 0.081228017807"
       ]
      },
      {
       "output_type": "stream",
       "stream": "stdout",
       "text": [
        "\r",
        "Computed features for frame 45 of 1280 in 0.082368850708"
       ]
      },
      {
       "output_type": "stream",
       "stream": "stdout",
       "text": [
        "\r",
        "Computed features for frame 46 of 1280 in 0.0863099098206"
       ]
      },
      {
       "output_type": "stream",
       "stream": "stdout",
       "text": [
        "\r",
        "Computed features for frame 47 of 1280 in 0.0767948627472"
       ]
      },
      {
       "output_type": "stream",
       "stream": "stdout",
       "text": [
        "\r",
        "Computed features for frame 48 of 1280 in 0.0930411815643"
       ]
      },
      {
       "output_type": "stream",
       "stream": "stdout",
       "text": [
        "\r",
        "Computed features for frame 49 of 1280 in 0.0817978382111"
       ]
      },
      {
       "output_type": "stream",
       "stream": "stdout",
       "text": [
        "\r",
        "Computed features for frame 50 of 1280 in 0.0811970233917"
       ]
      },
      {
       "output_type": "stream",
       "stream": "stdout",
       "text": [
        "\r",
        "Computed features for frame 51 of 1280 in 0.0841679573059"
       ]
      },
      {
       "output_type": "stream",
       "stream": "stdout",
       "text": [
        "\r",
        "Computed features for frame 52 of 1280 in 0.0774619579315"
       ]
      },
      {
       "output_type": "stream",
       "stream": "stdout",
       "text": [
        "\r",
        "Computed features for frame 53 of 1280 in 0.101711034775"
       ]
      },
      {
       "output_type": "stream",
       "stream": "stdout",
       "text": [
        "\r",
        "Computed features for frame 54 of 1280 in 0.0838079452515"
       ]
      },
      {
       "output_type": "stream",
       "stream": "stdout",
       "text": [
        "\r",
        "Computed features for frame 55 of 1280 in 0.0833079814911"
       ]
      },
      {
       "output_type": "stream",
       "stream": "stdout",
       "text": [
        "\r",
        "Computed features for frame 56 of 1280 in 0.0801329612732"
       ]
      },
      {
       "output_type": "stream",
       "stream": "stdout",
       "text": [
        "\r",
        "Computed features for frame 57 of 1280 in 0.0925750732422"
       ]
      },
      {
       "output_type": "stream",
       "stream": "stdout",
       "text": [
        "\r",
        "Computed features for frame 58 of 1280 in 0.095780134201"
       ]
      },
      {
       "output_type": "stream",
       "stream": "stdout",
       "text": [
        "\r",
        "Computed features for frame 59 of 1280 in 0.109055995941"
       ]
      },
      {
       "output_type": "stream",
       "stream": "stdout",
       "text": [
        "\r",
        "Computed features for frame 60 of 1280 in 0.091824054718"
       ]
      },
      {
       "output_type": "stream",
       "stream": "stdout",
       "text": [
        "\r",
        "Computed features for frame 61 of 1280 in 0.108113050461"
       ]
      },
      {
       "output_type": "stream",
       "stream": "stdout",
       "text": [
        "\r",
        "Computed features for frame 62 of 1280 in 0.0892970561981"
       ]
      },
      {
       "output_type": "stream",
       "stream": "stdout",
       "text": [
        "\r",
        "Computed features for frame 63 of 1280 in 0.079391002655"
       ]
      },
      {
       "output_type": "stream",
       "stream": "stdout",
       "text": [
        "\r",
        "Computed features for frame 64 of 1280 in 0.0813410282135"
       ]
      },
      {
       "output_type": "stream",
       "stream": "stdout",
       "text": [
        "\r",
        "Computed features for frame 65 of 1280 in 0.0781381130219"
       ]
      },
      {
       "output_type": "stream",
       "stream": "stdout",
       "text": [
        "\r",
        "Computed features for frame 66 of 1280 in 0.0895109176636"
       ]
      },
      {
       "output_type": "stream",
       "stream": "stdout",
       "text": [
        "\r",
        "Computed features for frame 67 of 1280 in 0.079124212265"
       ]
      },
      {
       "output_type": "stream",
       "stream": "stdout",
       "text": [
        "\r",
        "Computed features for frame 68 of 1280 in 0.0828731060028"
       ]
      },
      {
       "output_type": "stream",
       "stream": "stdout",
       "text": [
        "\r",
        "Computed features for frame 69 of 1280 in 0.0840151309967"
       ]
      },
      {
       "output_type": "stream",
       "stream": "stdout",
       "text": [
        "\r",
        "Computed features for frame 70 of 1280 in 0.0834209918976"
       ]
      },
      {
       "output_type": "stream",
       "stream": "stdout",
       "text": [
        "\r",
        "Computed features for frame 71 of 1280 in 0.0779979228973"
       ]
      },
      {
       "output_type": "stream",
       "stream": "stdout",
       "text": [
        "\r",
        "Computed features for frame 72 of 1280 in 0.0868198871613"
       ]
      },
      {
       "output_type": "stream",
       "stream": "stdout",
       "text": [
        "\r",
        "Computed features for frame 73 of 1280 in 0.08393907547"
       ]
      },
      {
       "output_type": "stream",
       "stream": "stdout",
       "text": [
        "\r",
        "Computed features for frame 74 of 1280 in 0.085914850235"
       ]
      },
      {
       "output_type": "stream",
       "stream": "stdout",
       "text": [
        "\r",
        "Computed features for frame 75 of 1280 in 0.0830268859863"
       ]
      },
      {
       "output_type": "stream",
       "stream": "stdout",
       "text": [
        "\r",
        "Computed features for frame 76 of 1280 in 0.080020904541"
       ]
      },
      {
       "output_type": "stream",
       "stream": "stdout",
       "text": [
        "\r",
        "Computed features for frame 77 of 1280 in 0.0836608409882"
       ]
      },
      {
       "output_type": "stream",
       "stream": "stdout",
       "text": [
        "\r",
        "Computed features for frame 78 of 1280 in 0.0759341716766"
       ]
      },
      {
       "output_type": "stream",
       "stream": "stdout",
       "text": [
        "\r",
        "Computed features for frame 79 of 1280 in 0.0801401138306"
       ]
      },
      {
       "output_type": "stream",
       "stream": "stdout",
       "text": [
        "\r",
        "Computed features for frame 80 of 1280 in 0.0825369358063"
       ]
      },
      {
       "output_type": "stream",
       "stream": "stdout",
       "text": [
        "\r",
        "Computed features for frame 81 of 1280 in 0.0883769989014"
       ]
      },
      {
       "output_type": "stream",
       "stream": "stdout",
       "text": [
        "\r",
        "Computed features for frame 82 of 1280 in 0.0822761058807"
       ]
      },
      {
       "output_type": "stream",
       "stream": "stdout",
       "text": [
        "\r",
        "Computed features for frame 83 of 1280 in 0.0841341018677"
       ]
      },
      {
       "output_type": "stream",
       "stream": "stdout",
       "text": [
        "\r",
        "Computed features for frame 84 of 1280 in 0.084331035614"
       ]
      },
      {
       "output_type": "stream",
       "stream": "stdout",
       "text": [
        "\r",
        "Computed features for frame 85 of 1280 in 0.0846140384674"
       ]
      },
      {
       "output_type": "stream",
       "stream": "stdout",
       "text": [
        "\r",
        "Computed features for frame 86 of 1280 in 0.0825200080872"
       ]
      },
      {
       "output_type": "stream",
       "stream": "stdout",
       "text": [
        "\r",
        "Computed features for frame 87 of 1280 in 0.0820918083191"
       ]
      },
      {
       "output_type": "stream",
       "stream": "stdout",
       "text": [
        "\r",
        "Computed features for frame 88 of 1280 in 0.0861189365387"
       ]
      },
      {
       "output_type": "stream",
       "stream": "stdout",
       "text": [
        "\r",
        "Computed features for frame 89 of 1280 in 0.0844349861145"
       ]
      },
      {
       "output_type": "stream",
       "stream": "stdout",
       "text": [
        "\r",
        "Computed features for frame 90 of 1280 in 0.0921449661255"
       ]
      },
      {
       "output_type": "stream",
       "stream": "stdout",
       "text": [
        "\r",
        "Computed features for frame 91 of 1280 in 0.0857999324799"
       ]
      },
      {
       "output_type": "stream",
       "stream": "stdout",
       "text": [
        "\r",
        "Computed features for frame 92 of 1280 in 0.0813910961151"
       ]
      },
      {
       "output_type": "stream",
       "stream": "stdout",
       "text": [
        "\r",
        "Computed features for frame 93 of 1280 in 0.0818560123444"
       ]
      },
      {
       "output_type": "stream",
       "stream": "stdout",
       "text": [
        "\r",
        "Computed features for frame 94 of 1280 in 0.0816240310669"
       ]
      },
      {
       "output_type": "stream",
       "stream": "stdout",
       "text": [
        "\r",
        "Computed features for frame 95 of 1280 in 0.0791428089142"
       ]
      },
      {
       "output_type": "stream",
       "stream": "stdout",
       "text": [
        "\r",
        "Computed features for frame 96 of 1280 in 0.0945229530334"
       ]
      },
      {
       "output_type": "stream",
       "stream": "stdout",
       "text": [
        "\r",
        "Computed features for frame 97 of 1280 in 0.0803098678589"
       ]
      },
      {
       "output_type": "stream",
       "stream": "stdout",
       "text": [
        "\r",
        "Computed features for frame 98 of 1280 in 0.082533121109"
       ]
      },
      {
       "output_type": "stream",
       "stream": "stdout",
       "text": [
        "\r",
        "Computed features for frame 99 of 1280 in 0.0842180252075"
       ]
      },
      {
       "output_type": "stream",
       "stream": "stdout",
       "text": [
        "\r",
        "Computed features for frame 100 of 1280 in 0.0970749855042"
       ]
      },
      {
       "output_type": "stream",
       "stream": "stdout",
       "text": [
        "\r",
        "Computed features for frame 101 of 1280 in 0.0909249782562"
       ]
      },
      {
       "output_type": "stream",
       "stream": "stdout",
       "text": [
        "\r",
        "Computed features for frame 102 of 1280 in 0.0794208049774"
       ]
      },
      {
       "output_type": "stream",
       "stream": "stdout",
       "text": [
        "\r",
        "Computed features for frame 103 of 1280 in 0.079311132431"
       ]
      },
      {
       "output_type": "stream",
       "stream": "stdout",
       "text": [
        "\r",
        "Computed features for frame 104 of 1280 in 0.0765738487244"
       ]
      },
      {
       "output_type": "stream",
       "stream": "stdout",
       "text": [
        "\r",
        "Computed features for frame 105 of 1280 in 0.0846538543701"
       ]
      },
      {
       "output_type": "stream",
       "stream": "stdout",
       "text": [
        "\r",
        "Computed features for frame 106 of 1280 in 0.0793609619141"
       ]
      },
      {
       "output_type": "stream",
       "stream": "stdout",
       "text": [
        "\r",
        "Computed features for frame 107 of 1280 in 0.0784759521484"
       ]
      },
      {
       "output_type": "stream",
       "stream": "stdout",
       "text": [
        "\r",
        "Computed features for frame 108 of 1280 in 0.0798881053925"
       ]
      },
      {
       "output_type": "stream",
       "stream": "stdout",
       "text": [
        "\r",
        "Computed features for frame 109 of 1280 in 0.0783760547638"
       ]
      },
      {
       "output_type": "stream",
       "stream": "stdout",
       "text": [
        "\r",
        "Computed features for frame 110 of 1280 in 0.0780320167542"
       ]
      },
      {
       "output_type": "stream",
       "stream": "stdout",
       "text": [
        "\r",
        "Computed features for frame 111 of 1280 in 0.079922914505"
       ]
      },
      {
       "output_type": "stream",
       "stream": "stdout",
       "text": [
        "\r",
        "Computed features for frame 112 of 1280 in 0.0811669826508"
       ]
      },
      {
       "output_type": "stream",
       "stream": "stdout",
       "text": [
        "\r",
        "Computed features for frame 113 of 1280 in 0.0802171230316"
       ]
      },
      {
       "output_type": "stream",
       "stream": "stdout",
       "text": [
        "\r",
        "Computed features for frame 114 of 1280 in 0.0767960548401"
       ]
      },
      {
       "output_type": "stream",
       "stream": "stdout",
       "text": [
        "\r",
        "Computed features for frame 115 of 1280 in 0.0764491558075"
       ]
      },
      {
       "output_type": "stream",
       "stream": "stdout",
       "text": [
        "\r",
        "Computed features for frame 116 of 1280 in 0.0819141864777"
       ]
      },
      {
       "output_type": "stream",
       "stream": "stdout",
       "text": [
        "\r",
        "Computed features for frame 117 of 1280 in 0.0814139842987"
       ]
      },
      {
       "output_type": "stream",
       "stream": "stdout",
       "text": [
        "\r",
        "Computed features for frame 118 of 1280 in 0.0783371925354"
       ]
      },
      {
       "output_type": "stream",
       "stream": "stdout",
       "text": [
        "\r",
        "Computed features for frame 119 of 1280 in 0.0772140026093"
       ]
      },
      {
       "output_type": "stream",
       "stream": "stdout",
       "text": [
        "\r",
        "Computed features for frame 120 of 1280 in 0.0797309875488"
       ]
      },
      {
       "output_type": "stream",
       "stream": "stdout",
       "text": [
        "\r",
        "Computed features for frame 121 of 1280 in 0.0787060260773"
       ]
      },
      {
       "output_type": "stream",
       "stream": "stdout",
       "text": [
        "\r",
        "Computed features for frame 122 of 1280 in 0.0817451477051"
       ]
      },
      {
       "output_type": "stream",
       "stream": "stdout",
       "text": [
        "\r",
        "Computed features for frame 123 of 1280 in 0.0791158676147"
       ]
      },
      {
       "output_type": "stream",
       "stream": "stdout",
       "text": [
        "\r",
        "Computed features for frame 124 of 1280 in 0.081405878067"
       ]
      },
      {
       "output_type": "stream",
       "stream": "stdout",
       "text": [
        "\r",
        "Computed features for frame 125 of 1280 in 0.08220911026"
       ]
      },
      {
       "output_type": "stream",
       "stream": "stdout",
       "text": [
        "\r",
        "Computed features for frame 126 of 1280 in 0.0801820755005"
       ]
      },
      {
       "output_type": "stream",
       "stream": "stdout",
       "text": [
        "\r",
        "Computed features for frame 127 of 1280 in 0.0816099643707"
       ]
      },
      {
       "output_type": "stream",
       "stream": "stdout",
       "text": [
        "\r",
        "Computed features for frame 128 of 1280 in 0.079442024231"
       ]
      },
      {
       "output_type": "stream",
       "stream": "stdout",
       "text": [
        "\r",
        "Computed features for frame 129 of 1280 in 0.0771288871765"
       ]
      },
      {
       "output_type": "stream",
       "stream": "stdout",
       "text": [
        "\r",
        "Computed features for frame 130 of 1280 in 0.0810339450836"
       ]
      },
      {
       "output_type": "stream",
       "stream": "stdout",
       "text": [
        "\r",
        "Computed features for frame 131 of 1280 in 0.078458070755"
       ]
      },
      {
       "output_type": "stream",
       "stream": "stdout",
       "text": [
        "\r",
        "Computed features for frame 132 of 1280 in 0.0884459018707"
       ]
      },
      {
       "output_type": "stream",
       "stream": "stdout",
       "text": [
        "\r",
        "Computed features for frame 133 of 1280 in 0.0805609226227"
       ]
      },
      {
       "output_type": "stream",
       "stream": "stdout",
       "text": [
        "\r",
        "Computed features for frame 134 of 1280 in 0.10506606102"
       ]
      },
      {
       "output_type": "stream",
       "stream": "stdout",
       "text": [
        "\r",
        "Computed features for frame 135 of 1280 in 0.0850830078125"
       ]
      },
      {
       "output_type": "stream",
       "stream": "stdout",
       "text": [
        "\r",
        "Computed features for frame 136 of 1280 in 0.079066991806"
       ]
      },
      {
       "output_type": "stream",
       "stream": "stdout",
       "text": [
        "\r",
        "Computed features for frame 137 of 1280 in 0.0815260410309"
       ]
      },
      {
       "output_type": "stream",
       "stream": "stdout",
       "text": [
        "\r",
        "Computed features for frame 138 of 1280 in 0.0813009738922"
       ]
      },
      {
       "output_type": "stream",
       "stream": "stdout",
       "text": [
        "\r",
        "Computed features for frame 139 of 1280 in 0.0822820663452"
       ]
      },
      {
       "output_type": "stream",
       "stream": "stdout",
       "text": [
        "\r",
        "Computed features for frame 140 of 1280 in 0.0793781280518"
       ]
      },
      {
       "output_type": "stream",
       "stream": "stdout",
       "text": [
        "\r",
        "Computed features for frame 141 of 1280 in 0.0791900157928"
       ]
      },
      {
       "output_type": "stream",
       "stream": "stdout",
       "text": [
        "\r",
        "Computed features for frame 142 of 1280 in 0.0887498855591"
       ]
      },
      {
       "output_type": "stream",
       "stream": "stdout",
       "text": [
        "\r",
        "Computed features for frame 143 of 1280 in 0.0772571563721"
       ]
      },
      {
       "output_type": "stream",
       "stream": "stdout",
       "text": [
        "\r",
        "Computed features for frame 144 of 1280 in 0.0796678066254"
       ]
      },
      {
       "output_type": "stream",
       "stream": "stdout",
       "text": [
        "\r",
        "Computed features for frame 145 of 1280 in 0.0786290168762"
       ]
      },
      {
       "output_type": "stream",
       "stream": "stdout",
       "text": [
        "\r",
        "Computed features for frame 146 of 1280 in 0.0828950405121"
       ]
      },
      {
       "output_type": "stream",
       "stream": "stdout",
       "text": [
        "\r",
        "Computed features for frame 147 of 1280 in 0.077595949173"
       ]
      },
      {
       "output_type": "stream",
       "stream": "stdout",
       "text": [
        "\r",
        "Computed features for frame 148 of 1280 in 0.0782570838928"
       ]
      },
      {
       "output_type": "stream",
       "stream": "stdout",
       "text": [
        "\r",
        "Computed features for frame 149 of 1280 in 0.0800409317017"
       ]
      },
      {
       "output_type": "stream",
       "stream": "stdout",
       "text": [
        "\r",
        "Computed features for frame 150 of 1280 in 0.0818738937378"
       ]
      },
      {
       "output_type": "stream",
       "stream": "stdout",
       "text": [
        "\r",
        "Computed features for frame 151 of 1280 in 0.0806930065155"
       ]
      },
      {
       "output_type": "stream",
       "stream": "stdout",
       "text": [
        "\r",
        "Computed features for frame 152 of 1280 in 0.0802040100098"
       ]
      },
      {
       "output_type": "stream",
       "stream": "stdout",
       "text": [
        "\r",
        "Computed features for frame 153 of 1280 in 0.0797021389008"
       ]
      },
      {
       "output_type": "stream",
       "stream": "stdout",
       "text": [
        "\r",
        "Computed features for frame 154 of 1280 in 0.0856909751892"
       ]
      },
      {
       "output_type": "stream",
       "stream": "stdout",
       "text": [
        "\r",
        "Computed features for frame 155 of 1280 in 0.0855278968811"
       ]
      },
      {
       "output_type": "stream",
       "stream": "stdout",
       "text": [
        "\r",
        "Computed features for frame 156 of 1280 in 0.0823769569397"
       ]
      },
      {
       "output_type": "stream",
       "stream": "stdout",
       "text": [
        "\r",
        "Computed features for frame 157 of 1280 in 0.0798721313477"
       ]
      },
      {
       "output_type": "stream",
       "stream": "stdout",
       "text": [
        "\r",
        "Computed features for frame 158 of 1280 in 0.108227014542"
       ]
      },
      {
       "output_type": "stream",
       "stream": "stdout",
       "text": [
        "\r",
        "Computed features for frame 159 of 1280 in 0.0850820541382"
       ]
      },
      {
       "output_type": "stream",
       "stream": "stdout",
       "text": [
        "\r",
        "Computed features for frame 160 of 1280 in 0.0817720890045"
       ]
      },
      {
       "output_type": "stream",
       "stream": "stdout",
       "text": [
        "\r",
        "Computed features for frame 161 of 1280 in 0.0963711738586"
       ]
      },
      {
       "output_type": "stream",
       "stream": "stdout",
       "text": [
        "\r",
        "Computed features for frame 162 of 1280 in 0.0812749862671"
       ]
      },
      {
       "output_type": "stream",
       "stream": "stdout",
       "text": [
        "\r",
        "Computed features for frame 163 of 1280 in 0.0790910720825"
       ]
      },
      {
       "output_type": "stream",
       "stream": "stdout",
       "text": [
        "\r",
        "Computed features for frame 164 of 1280 in 0.0844140052795"
       ]
      },
      {
       "output_type": "stream",
       "stream": "stdout",
       "text": [
        "\r",
        "Computed features for frame 165 of 1280 in 0.0817680358887"
       ]
      },
      {
       "output_type": "stream",
       "stream": "stdout",
       "text": [
        "\r",
        "Computed features for frame 166 of 1280 in 0.0817458629608"
       ]
      },
      {
       "output_type": "stream",
       "stream": "stdout",
       "text": [
        "\r",
        "Computed features for frame 167 of 1280 in 0.0817408561707"
       ]
      },
      {
       "output_type": "stream",
       "stream": "stdout",
       "text": [
        "\r",
        "Computed features for frame 168 of 1280 in 0.0798528194427"
       ]
      },
      {
       "output_type": "stream",
       "stream": "stdout",
       "text": [
        "\r",
        "Computed features for frame 169 of 1280 in 0.0784039497375"
       ]
      },
      {
       "output_type": "stream",
       "stream": "stdout",
       "text": [
        "\r",
        "Computed features for frame 170 of 1280 in 0.0819220542908"
       ]
      },
      {
       "output_type": "stream",
       "stream": "stdout",
       "text": [
        "\r",
        "Computed features for frame 171 of 1280 in 0.0775508880615"
       ]
      },
      {
       "output_type": "stream",
       "stream": "stdout",
       "text": [
        "\r",
        "Computed features for frame 172 of 1280 in 0.0808761119843"
       ]
      },
      {
       "output_type": "stream",
       "stream": "stdout",
       "text": [
        "\r",
        "Computed features for frame 173 of 1280 in 0.0790119171143"
       ]
      },
      {
       "output_type": "stream",
       "stream": "stdout",
       "text": [
        "\r",
        "Computed features for frame 174 of 1280 in 0.0798308849335"
       ]
      },
      {
       "output_type": "stream",
       "stream": "stdout",
       "text": [
        "\r",
        "Computed features for frame 175 of 1280 in 0.0803411006927"
       ]
      },
      {
       "output_type": "stream",
       "stream": "stdout",
       "text": [
        "\r",
        "Computed features for frame 176 of 1280 in 0.0850920677185"
       ]
      },
      {
       "output_type": "stream",
       "stream": "stdout",
       "text": [
        "\r",
        "Computed features for frame 177 of 1280 in 0.0829310417175"
       ]
      },
      {
       "output_type": "stream",
       "stream": "stdout",
       "text": [
        "\r",
        "Computed features for frame 178 of 1280 in 0.0784010887146"
       ]
      },
      {
       "output_type": "stream",
       "stream": "stdout",
       "text": [
        "\r",
        "Computed features for frame 179 of 1280 in 0.0842080116272"
       ]
      },
      {
       "output_type": "stream",
       "stream": "stdout",
       "text": [
        "\r",
        "Computed features for frame 180 of 1280 in 0.0837659835815"
       ]
      },
      {
       "output_type": "stream",
       "stream": "stdout",
       "text": [
        "\r",
        "Computed features for frame 181 of 1280 in 0.0823209285736"
       ]
      },
      {
       "output_type": "stream",
       "stream": "stdout",
       "text": [
        "\r",
        "Computed features for frame 182 of 1280 in 0.0802690982819"
       ]
      },
      {
       "output_type": "stream",
       "stream": "stdout",
       "text": [
        "\r",
        "Computed features for frame 183 of 1280 in 0.0871918201447"
       ]
      },
      {
       "output_type": "stream",
       "stream": "stdout",
       "text": [
        "\r",
        "Computed features for frame 184 of 1280 in 0.111799955368"
       ]
      },
      {
       "output_type": "stream",
       "stream": "stdout",
       "text": [
        "\r",
        "Computed features for frame 185 of 1280 in 0.100028991699"
       ]
      },
      {
       "output_type": "stream",
       "stream": "stdout",
       "text": [
        "\r",
        "Computed features for frame 186 of 1280 in 0.0855078697205"
       ]
      },
      {
       "output_type": "stream",
       "stream": "stdout",
       "text": [
        "\r",
        "Computed features for frame 187 of 1280 in 0.0966730117798"
       ]
      },
      {
       "output_type": "stream",
       "stream": "stdout",
       "text": [
        "\r",
        "Computed features for frame 188 of 1280 in 0.0911090373993"
       ]
      },
      {
       "output_type": "stream",
       "stream": "stdout",
       "text": [
        "\r",
        "Computed features for frame 189 of 1280 in 0.0861270427704"
       ]
      },
      {
       "output_type": "stream",
       "stream": "stdout",
       "text": [
        "\r",
        "Computed features for frame 190 of 1280 in 0.0868561267853"
       ]
      },
      {
       "output_type": "stream",
       "stream": "stdout",
       "text": [
        "\r",
        "Computed features for frame 191 of 1280 in 0.0831470489502"
       ]
      },
      {
       "output_type": "stream",
       "stream": "stdout",
       "text": [
        "\r",
        "Computed features for frame 192 of 1280 in 0.0827560424805"
       ]
      },
      {
       "output_type": "stream",
       "stream": "stdout",
       "text": [
        "\r",
        "Computed features for frame 193 of 1280 in 0.0883529186249"
       ]
      },
      {
       "output_type": "stream",
       "stream": "stdout",
       "text": [
        "\r",
        "Computed features for frame 194 of 1280 in 0.0899879932404"
       ]
      },
      {
       "output_type": "stream",
       "stream": "stdout",
       "text": [
        "\r",
        "Computed features for frame 195 of 1280 in 0.0912210941315"
       ]
      },
      {
       "output_type": "stream",
       "stream": "stdout",
       "text": [
        "\r",
        "Computed features for frame 196 of 1280 in 0.0843999385834"
       ]
      },
      {
       "output_type": "stream",
       "stream": "stdout",
       "text": [
        "\r",
        "Computed features for frame 197 of 1280 in 0.0817890167236"
       ]
      },
      {
       "output_type": "stream",
       "stream": "stdout",
       "text": [
        "\r",
        "Computed features for frame 198 of 1280 in 0.0796279907227"
       ]
      },
      {
       "output_type": "stream",
       "stream": "stdout",
       "text": [
        "\r",
        "Computed features for frame 199 of 1280 in 0.0814888477325"
       ]
      },
      {
       "output_type": "stream",
       "stream": "stdout",
       "text": [
        "\r",
        "Computed features for frame 200 of 1280 in 0.0984439849854"
       ]
      },
      {
       "output_type": "stream",
       "stream": "stdout",
       "text": [
        "\r",
        "Computed features for frame 201 of 1280 in 0.0823180675507"
       ]
      },
      {
       "output_type": "stream",
       "stream": "stdout",
       "text": [
        "\r",
        "Computed features for frame 202 of 1280 in 0.0830700397491"
       ]
      },
      {
       "output_type": "stream",
       "stream": "stdout",
       "text": [
        "\r",
        "Computed features for frame 203 of 1280 in 0.0762579441071"
       ]
      },
      {
       "output_type": "stream",
       "stream": "stdout",
       "text": [
        "\r",
        "Computed features for frame 204 of 1280 in 0.0823678970337"
       ]
      },
      {
       "output_type": "stream",
       "stream": "stdout",
       "text": [
        "\r",
        "Computed features for frame 205 of 1280 in 0.0814790725708"
       ]
      },
      {
       "output_type": "stream",
       "stream": "stdout",
       "text": [
        "\r",
        "Computed features for frame 206 of 1280 in 0.0843799114227"
       ]
      },
      {
       "output_type": "stream",
       "stream": "stdout",
       "text": [
        "\r",
        "Computed features for frame 207 of 1280 in 0.0798671245575"
       ]
      },
      {
       "output_type": "stream",
       "stream": "stdout",
       "text": [
        "\r",
        "Computed features for frame 208 of 1280 in 0.0790557861328"
       ]
      },
      {
       "output_type": "stream",
       "stream": "stdout",
       "text": [
        "\r",
        "Computed features for frame 209 of 1280 in 0.0849080085754"
       ]
      },
      {
       "output_type": "stream",
       "stream": "stdout",
       "text": [
        "\r",
        "Computed features for frame 210 of 1280 in 0.103173017502"
       ]
      },
      {
       "output_type": "stream",
       "stream": "stdout",
       "text": [
        "\r",
        "Computed features for frame 211 of 1280 in 0.0904049873352"
       ]
      },
      {
       "output_type": "stream",
       "stream": "stdout",
       "text": [
        "\r",
        "Computed features for frame 212 of 1280 in 0.0838079452515"
       ]
      },
      {
       "output_type": "stream",
       "stream": "stdout",
       "text": [
        "\r",
        "Computed features for frame 213 of 1280 in 0.0807609558105"
       ]
      },
      {
       "output_type": "stream",
       "stream": "stdout",
       "text": [
        "\r",
        "Computed features for frame 214 of 1280 in 0.100740909576"
       ]
      },
      {
       "output_type": "stream",
       "stream": "stdout",
       "text": [
        "\r",
        "Computed features for frame 215 of 1280 in 0.0786209106445"
       ]
      },
      {
       "output_type": "stream",
       "stream": "stdout",
       "text": [
        "\r",
        "Computed features for frame 216 of 1280 in 0.0866010189056"
       ]
      },
      {
       "output_type": "stream",
       "stream": "stdout",
       "text": [
        "\r",
        "Computed features for frame 217 of 1280 in 0.0836350917816"
       ]
      },
      {
       "output_type": "stream",
       "stream": "stdout",
       "text": [
        "\r",
        "Computed features for frame 218 of 1280 in 0.0781531333923"
       ]
      },
      {
       "output_type": "stream",
       "stream": "stdout",
       "text": [
        "\r",
        "Computed features for frame 219 of 1280 in 0.0807859897614"
       ]
      },
      {
       "output_type": "stream",
       "stream": "stdout",
       "text": [
        "\r",
        "Computed features for frame 220 of 1280 in 0.0909419059753"
       ]
      },
      {
       "output_type": "stream",
       "stream": "stdout",
       "text": [
        "\r",
        "Computed features for frame 221 of 1280 in 0.0842940807343"
       ]
      },
      {
       "output_type": "stream",
       "stream": "stdout",
       "text": [
        "\r",
        "Computed features for frame 222 of 1280 in 0.0795869827271"
       ]
      },
      {
       "output_type": "stream",
       "stream": "stdout",
       "text": [
        "\r",
        "Computed features for frame 223 of 1280 in 0.0833561420441"
       ]
      },
      {
       "output_type": "stream",
       "stream": "stdout",
       "text": [
        "\r",
        "Computed features for frame 224 of 1280 in 0.0775170326233"
       ]
      },
      {
       "output_type": "stream",
       "stream": "stdout",
       "text": [
        "\r",
        "Computed features for frame 225 of 1280 in 0.083487033844"
       ]
      },
      {
       "output_type": "stream",
       "stream": "stdout",
       "text": [
        "\r",
        "Computed features for frame 226 of 1280 in 0.0813789367676"
       ]
      },
      {
       "output_type": "stream",
       "stream": "stdout",
       "text": [
        "\r",
        "Computed features for frame 227 of 1280 in 0.0814669132233"
       ]
      },
      {
       "output_type": "stream",
       "stream": "stdout",
       "text": [
        "\r",
        "Computed features for frame 228 of 1280 in 0.0780122280121"
       ]
      },
      {
       "output_type": "stream",
       "stream": "stdout",
       "text": [
        "\r",
        "Computed features for frame 229 of 1280 in 0.079047203064"
       ]
      },
      {
       "output_type": "stream",
       "stream": "stdout",
       "text": [
        "\r",
        "Computed features for frame 230 of 1280 in 0.0824921131134"
       ]
      },
      {
       "output_type": "stream",
       "stream": "stdout",
       "text": [
        "\r",
        "Computed features for frame 231 of 1280 in 0.0802299976349"
       ]
      },
      {
       "output_type": "stream",
       "stream": "stdout",
       "text": [
        "\r",
        "Computed features for frame 232 of 1280 in 0.0812821388245"
       ]
      },
      {
       "output_type": "stream",
       "stream": "stdout",
       "text": [
        "\r",
        "Computed features for frame 233 of 1280 in 0.0808100700378"
       ]
      },
      {
       "output_type": "stream",
       "stream": "stdout",
       "text": [
        "\r",
        "Computed features for frame 234 of 1280 in 0.0791070461273"
       ]
      },
      {
       "output_type": "stream",
       "stream": "stdout",
       "text": [
        "\r",
        "Computed features for frame 235 of 1280 in 0.0794839859009"
       ]
      },
      {
       "output_type": "stream",
       "stream": "stdout",
       "text": [
        "\r",
        "Computed features for frame 236 of 1280 in 0.0800180435181"
       ]
      },
      {
       "output_type": "stream",
       "stream": "stdout",
       "text": [
        "\r",
        "Computed features for frame 237 of 1280 in 0.0788040161133"
       ]
      },
      {
       "output_type": "stream",
       "stream": "stdout",
       "text": [
        "\r",
        "Computed features for frame 238 of 1280 in 0.0812299251556"
       ]
      },
      {
       "output_type": "stream",
       "stream": "stdout",
       "text": [
        "\r",
        "Computed features for frame 239 of 1280 in 0.0778980255127"
       ]
      },
      {
       "output_type": "stream",
       "stream": "stdout",
       "text": [
        "\r",
        "Computed features for frame 240 of 1280 in 0.0802221298218"
       ]
      },
      {
       "output_type": "stream",
       "stream": "stdout",
       "text": [
        "\r",
        "Computed features for frame 241 of 1280 in 0.0788178443909"
       ]
      },
      {
       "output_type": "stream",
       "stream": "stdout",
       "text": [
        "\r",
        "Computed features for frame 242 of 1280 in 0.0788459777832"
       ]
      },
      {
       "output_type": "stream",
       "stream": "stdout",
       "text": [
        "\r",
        "Computed features for frame 243 of 1280 in 0.0804419517517"
       ]
      },
      {
       "output_type": "stream",
       "stream": "stdout",
       "text": [
        "\r",
        "Computed features for frame 244 of 1280 in 0.0773458480835"
       ]
      },
      {
       "output_type": "stream",
       "stream": "stdout",
       "text": [
        "\r",
        "Computed features for frame 245 of 1280 in 0.0871679782867"
       ]
      },
      {
       "output_type": "stream",
       "stream": "stdout",
       "text": [
        "\r",
        "Computed features for frame 246 of 1280 in 0.0810971260071"
       ]
      },
      {
       "output_type": "stream",
       "stream": "stdout",
       "text": [
        "\r",
        "Computed features for frame 247 of 1280 in 0.0866210460663"
       ]
      },
      {
       "output_type": "stream",
       "stream": "stdout",
       "text": [
        "\r",
        "Computed features for frame 248 of 1280 in 0.0792498588562"
       ]
      },
      {
       "output_type": "stream",
       "stream": "stdout",
       "text": [
        "\r",
        "Computed features for frame 249 of 1280 in 0.0790188312531"
       ]
      },
      {
       "output_type": "stream",
       "stream": "stdout",
       "text": [
        "\r",
        "Computed features for frame 250 of 1280 in 0.0820019245148"
       ]
      },
      {
       "output_type": "stream",
       "stream": "stdout",
       "text": [
        "\r",
        "Computed features for frame 251 of 1280 in 0.0788378715515"
       ]
      },
      {
       "output_type": "stream",
       "stream": "stdout",
       "text": [
        "\r",
        "Computed features for frame 252 of 1280 in 0.0818321704865"
       ]
      },
      {
       "output_type": "stream",
       "stream": "stdout",
       "text": [
        "\r",
        "Computed features for frame 253 of 1280 in 0.0795829296112"
       ]
      },
      {
       "output_type": "stream",
       "stream": "stdout",
       "text": [
        "\r",
        "Computed features for frame 254 of 1280 in 0.08047914505"
       ]
      },
      {
       "output_type": "stream",
       "stream": "stdout",
       "text": [
        "\r",
        "Computed features for frame 255 of 1280 in 0.0807459354401"
       ]
      },
      {
       "output_type": "stream",
       "stream": "stdout",
       "text": [
        "\r",
        "Computed features for frame 256 of 1280 in 0.0798699855804"
       ]
      },
      {
       "output_type": "stream",
       "stream": "stdout",
       "text": [
        "\r",
        "Computed features for frame 257 of 1280 in 0.0783641338348"
       ]
      },
      {
       "output_type": "stream",
       "stream": "stdout",
       "text": [
        "\r",
        "Computed features for frame 258 of 1280 in 0.0770170688629"
       ]
      },
      {
       "output_type": "stream",
       "stream": "stdout",
       "text": [
        "\r",
        "Computed features for frame 259 of 1280 in 0.0802040100098"
       ]
      },
      {
       "output_type": "stream",
       "stream": "stdout",
       "text": [
        "\r",
        "Computed features for frame 260 of 1280 in 0.0793681144714"
       ]
      },
      {
       "output_type": "stream",
       "stream": "stdout",
       "text": [
        "\r",
        "Computed features for frame 261 of 1280 in 0.0800030231476"
       ]
      },
      {
       "output_type": "stream",
       "stream": "stdout",
       "text": [
        "\r",
        "Computed features for frame 262 of 1280 in 0.0792260169983"
       ]
      },
      {
       "output_type": "stream",
       "stream": "stdout",
       "text": [
        "\r",
        "Computed features for frame 263 of 1280 in 0.0794110298157"
       ]
      },
      {
       "output_type": "stream",
       "stream": "stdout",
       "text": [
        "\r",
        "Computed features for frame 264 of 1280 in 0.0791211128235"
       ]
      },
      {
       "output_type": "stream",
       "stream": "stdout",
       "text": [
        "\r",
        "Computed features for frame 265 of 1280 in 0.0797810554504"
       ]
      },
      {
       "output_type": "stream",
       "stream": "stdout",
       "text": [
        "\r",
        "Computed features for frame 266 of 1280 in 0.0808730125427"
       ]
      },
      {
       "output_type": "stream",
       "stream": "stdout",
       "text": [
        "\r",
        "Computed features for frame 267 of 1280 in 0.0820229053497"
       ]
      },
      {
       "output_type": "stream",
       "stream": "stdout",
       "text": [
        "\r",
        "Computed features for frame 268 of 1280 in 0.0771160125732"
       ]
      },
      {
       "output_type": "stream",
       "stream": "stdout",
       "text": [
        "\r",
        "Computed features for frame 269 of 1280 in 0.0783450603485"
       ]
      },
      {
       "output_type": "stream",
       "stream": "stdout",
       "text": [
        "\r",
        "Computed features for frame 270 of 1280 in 0.0814578533173"
       ]
      },
      {
       "output_type": "stream",
       "stream": "stdout",
       "text": [
        "\r",
        "Computed features for frame 271 of 1280 in 0.0810270309448"
       ]
      },
      {
       "output_type": "stream",
       "stream": "stdout",
       "text": [
        "\r",
        "Computed features for frame 272 of 1280 in 0.0828771591187"
       ]
      },
      {
       "output_type": "stream",
       "stream": "stdout",
       "text": [
        "\r",
        "Computed features for frame 273 of 1280 in 0.0866451263428"
       ]
      },
      {
       "output_type": "stream",
       "stream": "stdout",
       "text": [
        "\r",
        "Computed features for frame 274 of 1280 in 0.0810508728027"
       ]
      },
      {
       "output_type": "stream",
       "stream": "stdout",
       "text": [
        "\r",
        "Computed features for frame 275 of 1280 in 0.0832939147949"
       ]
      },
      {
       "output_type": "stream",
       "stream": "stdout",
       "text": [
        "\r",
        "Computed features for frame 276 of 1280 in 0.0795738697052"
       ]
      },
      {
       "output_type": "stream",
       "stream": "stdout",
       "text": [
        "\r",
        "Computed features for frame 277 of 1280 in 0.079274892807"
       ]
      },
      {
       "output_type": "stream",
       "stream": "stdout",
       "text": [
        "\r",
        "Computed features for frame 278 of 1280 in 0.0791590213776"
       ]
      },
      {
       "output_type": "stream",
       "stream": "stdout",
       "text": [
        "\r",
        "Computed features for frame 279 of 1280 in 0.0793070793152"
       ]
      },
      {
       "output_type": "stream",
       "stream": "stdout",
       "text": [
        "\r",
        "Computed features for frame 280 of 1280 in 0.0804860591888"
       ]
      },
      {
       "output_type": "stream",
       "stream": "stdout",
       "text": [
        "\r",
        "Computed features for frame 281 of 1280 in 0.0868191719055"
       ]
      },
      {
       "output_type": "stream",
       "stream": "stdout",
       "text": [
        "\r",
        "Computed features for frame 282 of 1280 in 0.0782880783081"
       ]
      },
      {
       "output_type": "stream",
       "stream": "stdout",
       "text": [
        "\r",
        "Computed features for frame 283 of 1280 in 0.0774140357971"
       ]
      },
      {
       "output_type": "stream",
       "stream": "stdout",
       "text": [
        "\r",
        "Computed features for frame 284 of 1280 in 0.0784621238708"
       ]
      },
      {
       "output_type": "stream",
       "stream": "stdout",
       "text": [
        "\r",
        "Computed features for frame 285 of 1280 in 0.0816829204559"
       ]
      },
      {
       "output_type": "stream",
       "stream": "stdout",
       "text": [
        "\r",
        "Computed features for frame 286 of 1280 in 0.0809710025787"
       ]
      },
      {
       "output_type": "stream",
       "stream": "stdout",
       "text": [
        "\r",
        "Computed features for frame 287 of 1280 in 0.0792999267578"
       ]
      },
      {
       "output_type": "stream",
       "stream": "stdout",
       "text": [
        "\r",
        "Computed features for frame 288 of 1280 in 0.0821688175201"
       ]
      },
      {
       "output_type": "stream",
       "stream": "stdout",
       "text": [
        "\r",
        "Computed features for frame 289 of 1280 in 0.0790810585022"
       ]
      },
      {
       "output_type": "stream",
       "stream": "stdout",
       "text": [
        "\r",
        "Computed features for frame 290 of 1280 in 0.0827901363373"
       ]
      },
      {
       "output_type": "stream",
       "stream": "stdout",
       "text": [
        "\r",
        "Computed features for frame 291 of 1280 in 0.0828170776367"
       ]
      },
      {
       "output_type": "stream",
       "stream": "stdout",
       "text": [
        "\r",
        "Computed features for frame 292 of 1280 in 0.0815708637238"
       ]
      },
      {
       "output_type": "stream",
       "stream": "stdout",
       "text": [
        "\r",
        "Computed features for frame 293 of 1280 in 0.081032037735"
       ]
      },
      {
       "output_type": "stream",
       "stream": "stdout",
       "text": [
        "\r",
        "Computed features for frame 294 of 1280 in 0.079931974411"
       ]
      },
      {
       "output_type": "stream",
       "stream": "stdout",
       "text": [
        "\r",
        "Computed features for frame 295 of 1280 in 0.0798029899597"
       ]
      },
      {
       "output_type": "stream",
       "stream": "stdout",
       "text": [
        "\r",
        "Computed features for frame 296 of 1280 in 0.0781679153442"
       ]
      },
      {
       "output_type": "stream",
       "stream": "stdout",
       "text": [
        "\r",
        "Computed features for frame 297 of 1280 in 0.080491065979"
       ]
      },
      {
       "output_type": "stream",
       "stream": "stdout",
       "text": [
        "\r",
        "Computed features for frame 298 of 1280 in 0.0803601741791"
       ]
      },
      {
       "output_type": "stream",
       "stream": "stdout",
       "text": [
        "\r",
        "Computed features for frame 299 of 1280 in 0.0785419940948"
       ]
      },
      {
       "output_type": "stream",
       "stream": "stdout",
       "text": [
        "\r",
        "Computed features for frame 300 of 1280 in 0.0859100818634"
       ]
      },
      {
       "output_type": "stream",
       "stream": "stdout",
       "text": [
        "\r",
        "Computed features for frame 301 of 1280 in 0.0823628902435"
       ]
      },
      {
       "output_type": "stream",
       "stream": "stdout",
       "text": [
        "\r",
        "Computed features for frame 302 of 1280 in 0.0802371501923"
       ]
      },
      {
       "output_type": "stream",
       "stream": "stdout",
       "text": [
        "\r",
        "Computed features for frame 303 of 1280 in 0.079686164856"
       ]
      },
      {
       "output_type": "stream",
       "stream": "stdout",
       "text": [
        "\r",
        "Computed features for frame 304 of 1280 in 0.0803189277649"
       ]
      },
      {
       "output_type": "stream",
       "stream": "stdout",
       "text": [
        "\r",
        "Computed features for frame 305 of 1280 in 0.0832140445709"
       ]
      },
      {
       "output_type": "stream",
       "stream": "stdout",
       "text": [
        "\r",
        "Computed features for frame 306 of 1280 in 0.0796999931335"
       ]
      },
      {
       "output_type": "stream",
       "stream": "stdout",
       "text": [
        "\r",
        "Computed features for frame 307 of 1280 in 0.082093000412"
       ]
      },
      {
       "output_type": "stream",
       "stream": "stdout",
       "text": [
        "\r",
        "Computed features for frame 308 of 1280 in 0.0883419513702"
       ]
      },
      {
       "output_type": "stream",
       "stream": "stdout",
       "text": [
        "\r",
        "Computed features for frame 309 of 1280 in 0.079822063446"
       ]
      },
      {
       "output_type": "stream",
       "stream": "stdout",
       "text": [
        "\r",
        "Computed features for frame 310 of 1280 in 0.0792880058289"
       ]
      },
      {
       "output_type": "stream",
       "stream": "stdout",
       "text": [
        "\r",
        "Computed features for frame 311 of 1280 in 0.0802321434021"
       ]
      },
      {
       "output_type": "stream",
       "stream": "stdout",
       "text": [
        "\r",
        "Computed features for frame 312 of 1280 in 0.0798518657684"
       ]
      },
      {
       "output_type": "stream",
       "stream": "stdout",
       "text": [
        "\r",
        "Computed features for frame 313 of 1280 in 0.0805110931396"
       ]
      },
      {
       "output_type": "stream",
       "stream": "stdout",
       "text": [
        "\r",
        "Computed features for frame 314 of 1280 in 0.0786859989166"
       ]
      },
      {
       "output_type": "stream",
       "stream": "stdout",
       "text": [
        "\r",
        "Computed features for frame 315 of 1280 in 0.0824348926544"
       ]
      },
      {
       "output_type": "stream",
       "stream": "stdout",
       "text": [
        "\r",
        "Computed features for frame 316 of 1280 in 0.0792148113251"
       ]
      },
      {
       "output_type": "stream",
       "stream": "stdout",
       "text": [
        "\r",
        "Computed features for frame 317 of 1280 in 0.0789561271667"
       ]
      },
      {
       "output_type": "stream",
       "stream": "stdout",
       "text": [
        "\r",
        "Computed features for frame 318 of 1280 in 0.0792610645294"
       ]
      },
      {
       "output_type": "stream",
       "stream": "stdout",
       "text": [
        "\r",
        "Computed features for frame 319 of 1280 in 0.0779778957367"
       ]
      },
      {
       "output_type": "stream",
       "stream": "stdout",
       "text": [
        "\r",
        "Computed features for frame 320 of 1280 in 0.079185962677"
       ]
      },
      {
       "output_type": "stream",
       "stream": "stdout",
       "text": [
        "\r",
        "Computed features for frame 321 of 1280 in 0.0796070098877"
       ]
      },
      {
       "output_type": "stream",
       "stream": "stdout",
       "text": [
        "\r",
        "Computed features for frame 322 of 1280 in 0.0820829868317"
       ]
      },
      {
       "output_type": "stream",
       "stream": "stdout",
       "text": [
        "\r",
        "Computed features for frame 323 of 1280 in 0.0804080963135"
       ]
      },
      {
       "output_type": "stream",
       "stream": "stdout",
       "text": [
        "\r",
        "Computed features for frame 324 of 1280 in 0.0804808139801"
       ]
      },
      {
       "output_type": "stream",
       "stream": "stdout",
       "text": [
        "\r",
        "Computed features for frame 325 of 1280 in 0.0815601348877"
       ]
      },
      {
       "output_type": "stream",
       "stream": "stdout",
       "text": [
        "\r",
        "Computed features for frame 326 of 1280 in 0.080374956131"
       ]
      },
      {
       "output_type": "stream",
       "stream": "stdout",
       "text": [
        "\r",
        "Computed features for frame 327 of 1280 in 0.0806930065155"
       ]
      },
      {
       "output_type": "stream",
       "stream": "stdout",
       "text": [
        "\r",
        "Computed features for frame 328 of 1280 in 0.0789291858673"
       ]
      },
      {
       "output_type": "stream",
       "stream": "stdout",
       "text": [
        "\r",
        "Computed features for frame 329 of 1280 in 0.0792729854584"
       ]
      },
      {
       "output_type": "stream",
       "stream": "stdout",
       "text": [
        "\r",
        "Computed features for frame 330 of 1280 in 0.0808260440826"
       ]
      },
      {
       "output_type": "stream",
       "stream": "stdout",
       "text": [
        "\r",
        "Computed features for frame 331 of 1280 in 0.0798420906067"
       ]
      },
      {
       "output_type": "stream",
       "stream": "stdout",
       "text": [
        "\r",
        "Computed features for frame 332 of 1280 in 0.0779120922089"
       ]
      },
      {
       "output_type": "stream",
       "stream": "stdout",
       "text": [
        "\r",
        "Computed features for frame 333 of 1280 in 0.0784227848053"
       ]
      },
      {
       "output_type": "stream",
       "stream": "stdout",
       "text": [
        "\r",
        "Computed features for frame 334 of 1280 in 0.0777189731598"
       ]
      },
      {
       "output_type": "stream",
       "stream": "stdout",
       "text": [
        "\r",
        "Computed features for frame 335 of 1280 in 0.0793831348419"
       ]
      },
      {
       "output_type": "stream",
       "stream": "stdout",
       "text": [
        "\r",
        "Computed features for frame 336 of 1280 in 0.0800399780273"
       ]
      },
      {
       "output_type": "stream",
       "stream": "stdout",
       "text": [
        "\r",
        "Computed features for frame 337 of 1280 in 0.0813689231873"
       ]
      },
      {
       "output_type": "stream",
       "stream": "stdout",
       "text": [
        "\r",
        "Computed features for frame 338 of 1280 in 0.081750869751"
       ]
      },
      {
       "output_type": "stream",
       "stream": "stdout",
       "text": [
        "\r",
        "Computed features for frame 339 of 1280 in 0.0773060321808"
       ]
      },
      {
       "output_type": "stream",
       "stream": "stdout",
       "text": [
        "\r",
        "Computed features for frame 340 of 1280 in 0.0863189697266"
       ]
      },
      {
       "output_type": "stream",
       "stream": "stdout",
       "text": [
        "\r",
        "Computed features for frame 341 of 1280 in 0.0824048519135"
       ]
      },
      {
       "output_type": "stream",
       "stream": "stdout",
       "text": [
        "\r",
        "Computed features for frame 342 of 1280 in 0.0840640068054"
       ]
      },
      {
       "output_type": "stream",
       "stream": "stdout",
       "text": [
        "\r",
        "Computed features for frame 343 of 1280 in 0.0771188735962"
       ]
      },
      {
       "output_type": "stream",
       "stream": "stdout",
       "text": [
        "\r",
        "Computed features for frame 344 of 1280 in 0.0783820152283"
       ]
      },
      {
       "output_type": "stream",
       "stream": "stdout",
       "text": [
        "\r",
        "Computed features for frame 345 of 1280 in 0.0818619728088"
       ]
      },
      {
       "output_type": "stream",
       "stream": "stdout",
       "text": [
        "\r",
        "Computed features for frame 346 of 1280 in 0.0813369750977"
       ]
      },
      {
       "output_type": "stream",
       "stream": "stdout",
       "text": [
        "\r",
        "Computed features for frame 347 of 1280 in 0.0824949741364"
       ]
      },
      {
       "output_type": "stream",
       "stream": "stdout",
       "text": [
        "\r",
        "Computed features for frame 348 of 1280 in 0.0774531364441"
       ]
      },
      {
       "output_type": "stream",
       "stream": "stdout",
       "text": [
        "\r",
        "Computed features for frame 349 of 1280 in 0.0858309268951"
       ]
      },
      {
       "output_type": "stream",
       "stream": "stdout",
       "text": [
        "\r",
        "Computed features for frame 350 of 1280 in 0.0788459777832"
       ]
      },
      {
       "output_type": "stream",
       "stream": "stdout",
       "text": [
        "\r",
        "Computed features for frame 351 of 1280 in 0.0828738212585"
       ]
      },
      {
       "output_type": "stream",
       "stream": "stdout",
       "text": [
        "\r",
        "Computed features for frame 352 of 1280 in 0.0781939029694"
       ]
      },
      {
       "output_type": "stream",
       "stream": "stdout",
       "text": [
        "\r",
        "Computed features for frame 353 of 1280 in 0.0836730003357"
       ]
      },
      {
       "output_type": "stream",
       "stream": "stdout",
       "text": [
        "\r",
        "Computed features for frame 354 of 1280 in 0.0791079998016"
       ]
      },
      {
       "output_type": "stream",
       "stream": "stdout",
       "text": [
        "\r",
        "Computed features for frame 355 of 1280 in 0.0822942256927"
       ]
      },
      {
       "output_type": "stream",
       "stream": "stdout",
       "text": [
        "\r",
        "Computed features for frame 356 of 1280 in 0.0766699314117"
       ]
      },
      {
       "output_type": "stream",
       "stream": "stdout",
       "text": [
        "\r",
        "Computed features for frame 357 of 1280 in 0.0798399448395"
       ]
      },
      {
       "output_type": "stream",
       "stream": "stdout",
       "text": [
        "\r",
        "Computed features for frame 358 of 1280 in 0.0780980587006"
       ]
      },
      {
       "output_type": "stream",
       "stream": "stdout",
       "text": [
        "\r",
        "Computed features for frame 359 of 1280 in 0.078724861145"
       ]
      },
      {
       "output_type": "stream",
       "stream": "stdout",
       "text": [
        "\r",
        "Computed features for frame 360 of 1280 in 0.0806798934937"
       ]
      },
      {
       "output_type": "stream",
       "stream": "stdout",
       "text": [
        "\r",
        "Computed features for frame 361 of 1280 in 0.0794429779053"
       ]
      },
      {
       "output_type": "stream",
       "stream": "stdout",
       "text": [
        "\r",
        "Computed features for frame 362 of 1280 in 0.0791969299316"
       ]
      },
      {
       "output_type": "stream",
       "stream": "stdout",
       "text": [
        "\r",
        "Computed features for frame 363 of 1280 in 0.0786039829254"
       ]
      },
      {
       "output_type": "stream",
       "stream": "stdout",
       "text": [
        "\r",
        "Computed features for frame 364 of 1280 in 0.0883932113647"
       ]
      },
      {
       "output_type": "stream",
       "stream": "stdout",
       "text": [
        "\r",
        "Computed features for frame 365 of 1280 in 0.0795211791992"
       ]
      },
      {
       "output_type": "stream",
       "stream": "stdout",
       "text": [
        "\r",
        "Computed features for frame 366 of 1280 in 0.0779840946198"
       ]
      },
      {
       "output_type": "stream",
       "stream": "stdout",
       "text": [
        "\r",
        "Computed features for frame 367 of 1280 in 0.0792961120605"
       ]
      },
      {
       "output_type": "stream",
       "stream": "stdout",
       "text": [
        "\r",
        "Computed features for frame 368 of 1280 in 0.0787329673767"
       ]
      },
      {
       "output_type": "stream",
       "stream": "stdout",
       "text": [
        "\r",
        "Computed features for frame 369 of 1280 in 0.0766589641571"
       ]
      },
      {
       "output_type": "stream",
       "stream": "stdout",
       "text": [
        "\r",
        "Computed features for frame 370 of 1280 in 0.0807709693909"
       ]
      },
      {
       "output_type": "stream",
       "stream": "stdout",
       "text": [
        "\r",
        "Computed features for frame 371 of 1280 in 0.0792820453644"
       ]
      },
      {
       "output_type": "stream",
       "stream": "stdout",
       "text": [
        "\r",
        "Computed features for frame 372 of 1280 in 0.0809791088104"
       ]
      },
      {
       "output_type": "stream",
       "stream": "stdout",
       "text": [
        "\r",
        "Computed features for frame 373 of 1280 in 0.0807428359985"
       ]
      },
      {
       "output_type": "stream",
       "stream": "stdout",
       "text": [
        "\r",
        "Computed features for frame 374 of 1280 in 0.0780398845673"
       ]
      },
      {
       "output_type": "stream",
       "stream": "stdout",
       "text": [
        "\r",
        "Computed features for frame 375 of 1280 in 0.0807619094849"
       ]
      },
      {
       "output_type": "stream",
       "stream": "stdout",
       "text": [
        "\r",
        "Computed features for frame 376 of 1280 in 0.0790610313416"
       ]
      },
      {
       "output_type": "stream",
       "stream": "stdout",
       "text": [
        "\r",
        "Computed features for frame 377 of 1280 in 0.0781810283661"
       ]
      },
      {
       "output_type": "stream",
       "stream": "stdout",
       "text": [
        "\r",
        "Computed features for frame 378 of 1280 in 0.0800008773804"
       ]
      },
      {
       "output_type": "stream",
       "stream": "stdout",
       "text": [
        "\r",
        "Computed features for frame 379 of 1280 in 0.0779128074646"
       ]
      },
      {
       "output_type": "stream",
       "stream": "stdout",
       "text": [
        "\r",
        "Computed features for frame 380 of 1280 in 0.0805630683899"
       ]
      },
      {
       "output_type": "stream",
       "stream": "stdout",
       "text": [
        "\r",
        "Computed features for frame 381 of 1280 in 0.0775709152222"
       ]
      },
      {
       "output_type": "stream",
       "stream": "stdout",
       "text": [
        "\r",
        "Computed features for frame 382 of 1280 in 0.0783429145813"
       ]
      },
      {
       "output_type": "stream",
       "stream": "stdout",
       "text": [
        "\r",
        "Computed features for frame 383 of 1280 in 0.0869190692902"
       ]
      },
      {
       "output_type": "stream",
       "stream": "stdout",
       "text": [
        "\r",
        "Computed features for frame 384 of 1280 in 0.0864908695221"
       ]
      },
      {
       "output_type": "stream",
       "stream": "stdout",
       "text": [
        "\r",
        "Computed features for frame 385 of 1280 in 0.0817139148712"
       ]
      },
      {
       "output_type": "stream",
       "stream": "stdout",
       "text": [
        "\r",
        "Computed features for frame 386 of 1280 in 0.0806279182434"
       ]
      },
      {
       "output_type": "stream",
       "stream": "stdout",
       "text": [
        "\r",
        "Computed features for frame 387 of 1280 in 0.0803160667419"
       ]
      },
      {
       "output_type": "stream",
       "stream": "stdout",
       "text": [
        "\r",
        "Computed features for frame 388 of 1280 in 0.0796909332275"
       ]
      },
      {
       "output_type": "stream",
       "stream": "stdout",
       "text": [
        "\r",
        "Computed features for frame 389 of 1280 in 0.0782871246338"
       ]
      },
      {
       "output_type": "stream",
       "stream": "stdout",
       "text": [
        "\r",
        "Computed features for frame 390 of 1280 in 0.0811951160431"
       ]
      },
      {
       "output_type": "stream",
       "stream": "stdout",
       "text": [
        "\r",
        "Computed features for frame 391 of 1280 in 0.0800929069519"
       ]
      },
      {
       "output_type": "stream",
       "stream": "stdout",
       "text": [
        "\r",
        "Computed features for frame 392 of 1280 in 0.081356048584"
       ]
      },
      {
       "output_type": "stream",
       "stream": "stdout",
       "text": [
        "\r",
        "Computed features for frame 393 of 1280 in 0.0812880992889"
       ]
      },
      {
       "output_type": "stream",
       "stream": "stdout",
       "text": [
        "\r",
        "Computed features for frame 394 of 1280 in 0.0779151916504"
       ]
      },
      {
       "output_type": "stream",
       "stream": "stdout",
       "text": [
        "\r",
        "Computed features for frame 395 of 1280 in 0.0774509906769"
       ]
      },
      {
       "output_type": "stream",
       "stream": "stdout",
       "text": [
        "\r",
        "Computed features for frame 396 of 1280 in 0.079628944397"
       ]
      },
      {
       "output_type": "stream",
       "stream": "stdout",
       "text": [
        "\r",
        "Computed features for frame 397 of 1280 in 0.0815970897675"
       ]
      },
      {
       "output_type": "stream",
       "stream": "stdout",
       "text": [
        "\r",
        "Computed features for frame 398 of 1280 in 0.0790731906891"
       ]
      },
      {
       "output_type": "stream",
       "stream": "stdout",
       "text": [
        "\r",
        "Computed features for frame 399 of 1280 in 0.0811879634857"
       ]
      },
      {
       "output_type": "stream",
       "stream": "stdout",
       "text": [
        "\r",
        "Computed features for frame 400 of 1280 in 0.0817620754242"
       ]
      },
      {
       "output_type": "stream",
       "stream": "stdout",
       "text": [
        "\r",
        "Computed features for frame 401 of 1280 in 0.0864779949188"
       ]
      },
      {
       "output_type": "stream",
       "stream": "stdout",
       "text": [
        "\r",
        "Computed features for frame 402 of 1280 in 0.0817921161652"
       ]
      },
      {
       "output_type": "stream",
       "stream": "stdout",
       "text": [
        "\r",
        "Computed features for frame 403 of 1280 in 0.0796110630035"
       ]
      },
      {
       "output_type": "stream",
       "stream": "stdout",
       "text": [
        "\r",
        "Computed features for frame 404 of 1280 in 0.0800759792328"
       ]
      },
      {
       "output_type": "stream",
       "stream": "stdout",
       "text": [
        "\r",
        "Computed features for frame 405 of 1280 in 0.0837578773499"
       ]
      },
      {
       "output_type": "stream",
       "stream": "stdout",
       "text": [
        "\r",
        "Computed features for frame 406 of 1280 in 0.081426858902"
       ]
      },
      {
       "output_type": "stream",
       "stream": "stdout",
       "text": [
        "\r",
        "Computed features for frame 407 of 1280 in 0.0799989700317"
       ]
      },
      {
       "output_type": "stream",
       "stream": "stdout",
       "text": [
        "\r",
        "Computed features for frame 408 of 1280 in 0.0782341957092"
       ]
      },
      {
       "output_type": "stream",
       "stream": "stdout",
       "text": [
        "\r",
        "Computed features for frame 409 of 1280 in 0.0821180343628"
       ]
      },
      {
       "output_type": "stream",
       "stream": "stdout",
       "text": [
        "\r",
        "Computed features for frame 410 of 1280 in 0.0783009529114"
       ]
      },
      {
       "output_type": "stream",
       "stream": "stdout",
       "text": [
        "\r",
        "Computed features for frame 411 of 1280 in 0.0801711082458"
       ]
      },
      {
       "output_type": "stream",
       "stream": "stdout",
       "text": [
        "\r",
        "Computed features for frame 412 of 1280 in 0.0800831317902"
       ]
      },
      {
       "output_type": "stream",
       "stream": "stdout",
       "text": [
        "\r",
        "Computed features for frame 413 of 1280 in 0.080689907074"
       ]
      },
      {
       "output_type": "stream",
       "stream": "stdout",
       "text": [
        "\r",
        "Computed features for frame 414 of 1280 in 0.0812258720398"
       ]
      },
      {
       "output_type": "stream",
       "stream": "stdout",
       "text": [
        "\r",
        "Computed features for frame 415 of 1280 in 0.0796890258789"
       ]
      },
      {
       "output_type": "stream",
       "stream": "stdout",
       "text": [
        "\r",
        "Computed features for frame 416 of 1280 in 0.0795149803162"
       ]
      },
      {
       "output_type": "stream",
       "stream": "stdout",
       "text": [
        "\r",
        "Computed features for frame 417 of 1280 in 0.0804710388184"
       ]
      },
      {
       "output_type": "stream",
       "stream": "stdout",
       "text": [
        "\r",
        "Computed features for frame 418 of 1280 in 0.0795960426331"
       ]
      },
      {
       "output_type": "stream",
       "stream": "stdout",
       "text": [
        "\r",
        "Computed features for frame 419 of 1280 in 0.0806438922882"
       ]
      },
      {
       "output_type": "stream",
       "stream": "stdout",
       "text": [
        "\r",
        "Computed features for frame 420 of 1280 in 0.0832169055939"
       ]
      },
      {
       "output_type": "stream",
       "stream": "stdout",
       "text": [
        "\r",
        "Computed features for frame 421 of 1280 in 0.0815479755402"
       ]
      },
      {
       "output_type": "stream",
       "stream": "stdout",
       "text": [
        "\r",
        "Computed features for frame 422 of 1280 in 0.0805230140686"
       ]
      },
      {
       "output_type": "stream",
       "stream": "stdout",
       "text": [
        "\r",
        "Computed features for frame 423 of 1280 in 0.0813372135162"
       ]
      },
      {
       "output_type": "stream",
       "stream": "stdout",
       "text": [
        "\r",
        "Computed features for frame 424 of 1280 in 0.0829138755798"
       ]
      },
      {
       "output_type": "stream",
       "stream": "stdout",
       "text": [
        "\r",
        "Computed features for frame 425 of 1280 in 0.0782330036163"
       ]
      },
      {
       "output_type": "stream",
       "stream": "stdout",
       "text": [
        "\r",
        "Computed features for frame 426 of 1280 in 0.0776569843292"
       ]
      },
      {
       "output_type": "stream",
       "stream": "stdout",
       "text": [
        "\r",
        "Computed features for frame 427 of 1280 in 0.078822851181"
       ]
      },
      {
       "output_type": "stream",
       "stream": "stdout",
       "text": [
        "\r",
        "Computed features for frame 428 of 1280 in 0.0769250392914"
       ]
      },
      {
       "output_type": "stream",
       "stream": "stdout",
       "text": [
        "\r",
        "Computed features for frame 429 of 1280 in 0.0790269374847"
       ]
      },
      {
       "output_type": "stream",
       "stream": "stdout",
       "text": [
        "\r",
        "Computed features for frame 430 of 1280 in 0.0781788825989"
       ]
      },
      {
       "output_type": "stream",
       "stream": "stdout",
       "text": [
        "\r",
        "Computed features for frame 431 of 1280 in 0.0766689777374"
       ]
      },
      {
       "output_type": "stream",
       "stream": "stdout",
       "text": [
        "\r",
        "Computed features for frame 432 of 1280 in 0.0792279243469"
       ]
      },
      {
       "output_type": "stream",
       "stream": "stdout",
       "text": [
        "\r",
        "Computed features for frame 433 of 1280 in 0.0800070762634"
       ]
      },
      {
       "output_type": "stream",
       "stream": "stdout",
       "text": [
        "\r",
        "Computed features for frame 434 of 1280 in 0.0929219722748"
       ]
      },
      {
       "output_type": "stream",
       "stream": "stdout",
       "text": [
        "\r",
        "Computed features for frame 435 of 1280 in 0.0826578140259"
       ]
      },
      {
       "output_type": "stream",
       "stream": "stdout",
       "text": [
        "\r",
        "Computed features for frame 436 of 1280 in 0.0796539783478"
       ]
      },
      {
       "output_type": "stream",
       "stream": "stdout",
       "text": [
        "\r",
        "Computed features for frame 437 of 1280 in 0.0810608863831"
       ]
      },
      {
       "output_type": "stream",
       "stream": "stdout",
       "text": [
        "\r",
        "Computed features for frame 438 of 1280 in 0.081139087677"
       ]
      },
      {
       "output_type": "stream",
       "stream": "stdout",
       "text": [
        "\r",
        "Computed features for frame 439 of 1280 in 0.0824949741364"
       ]
      },
      {
       "output_type": "stream",
       "stream": "stdout",
       "text": [
        "\r",
        "Computed features for frame 440 of 1280 in 0.0814690589905"
       ]
      },
      {
       "output_type": "stream",
       "stream": "stdout",
       "text": [
        "\r",
        "Computed features for frame 441 of 1280 in 0.0791158676147"
       ]
      },
      {
       "output_type": "stream",
       "stream": "stdout",
       "text": [
        "\r",
        "Computed features for frame 442 of 1280 in 0.0788719654083"
       ]
      },
      {
       "output_type": "stream",
       "stream": "stdout",
       "text": [
        "\r",
        "Computed features for frame 443 of 1280 in 0.0776190757751"
       ]
      },
      {
       "output_type": "stream",
       "stream": "stdout",
       "text": [
        "\r",
        "Computed features for frame 444 of 1280 in 0.0808961391449"
       ]
      },
      {
       "output_type": "stream",
       "stream": "stdout",
       "text": [
        "\r",
        "Computed features for frame 445 of 1280 in 0.0832118988037"
       ]
      },
      {
       "output_type": "stream",
       "stream": "stdout",
       "text": [
        "\r",
        "Computed features for frame 446 of 1280 in 0.0797228813171"
       ]
      },
      {
       "output_type": "stream",
       "stream": "stdout",
       "text": [
        "\r",
        "Computed features for frame 447 of 1280 in 0.0784289836884"
       ]
      },
      {
       "output_type": "stream",
       "stream": "stdout",
       "text": [
        "\r",
        "Computed features for frame 448 of 1280 in 0.0792880058289"
       ]
      },
      {
       "output_type": "stream",
       "stream": "stdout",
       "text": [
        "\r",
        "Computed features for frame 449 of 1280 in 0.0823278427124"
       ]
      },
      {
       "output_type": "stream",
       "stream": "stdout",
       "text": [
        "\r",
        "Computed features for frame 450 of 1280 in 0.0819911956787"
       ]
      },
      {
       "output_type": "stream",
       "stream": "stdout",
       "text": [
        "\r",
        "Computed features for frame 451 of 1280 in 0.0781970024109"
       ]
      },
      {
       "output_type": "stream",
       "stream": "stdout",
       "text": [
        "\r",
        "Computed features for frame 452 of 1280 in 0.0803329944611"
       ]
      },
      {
       "output_type": "stream",
       "stream": "stdout",
       "text": [
        "\r",
        "Computed features for frame 453 of 1280 in 0.0760369300842"
       ]
      },
      {
       "output_type": "stream",
       "stream": "stdout",
       "text": [
        "\r",
        "Computed features for frame 454 of 1280 in 0.0782270431519"
       ]
      },
      {
       "output_type": "stream",
       "stream": "stdout",
       "text": [
        "\r",
        "Computed features for frame 455 of 1280 in 0.0964901447296"
       ]
      },
      {
       "output_type": "stream",
       "stream": "stdout",
       "text": [
        "\r",
        "Computed features for frame 456 of 1280 in 0.0799739360809"
       ]
      },
      {
       "output_type": "stream",
       "stream": "stdout",
       "text": [
        "\r",
        "Computed features for frame 457 of 1280 in 0.0831780433655"
       ]
      },
      {
       "output_type": "stream",
       "stream": "stdout",
       "text": [
        "\r",
        "Computed features for frame 458 of 1280 in 0.0843579769135"
       ]
      },
      {
       "output_type": "stream",
       "stream": "stdout",
       "text": [
        "\r",
        "Computed features for frame 459 of 1280 in 0.0789911746979"
       ]
      },
      {
       "output_type": "stream",
       "stream": "stdout",
       "text": [
        "\r",
        "Computed features for frame 460 of 1280 in 0.0808560848236"
       ]
      },
      {
       "output_type": "stream",
       "stream": "stdout",
       "text": [
        "\r",
        "Computed features for frame 461 of 1280 in 0.0794401168823"
       ]
      },
      {
       "output_type": "stream",
       "stream": "stdout",
       "text": [
        "\r",
        "Computed features for frame 462 of 1280 in 0.0810108184814"
       ]
      },
      {
       "output_type": "stream",
       "stream": "stdout",
       "text": [
        "\r",
        "Computed features for frame 463 of 1280 in 0.0798990726471"
       ]
      },
      {
       "output_type": "stream",
       "stream": "stdout",
       "text": [
        "\r",
        "Computed features for frame 464 of 1280 in 0.0778207778931"
       ]
      },
      {
       "output_type": "stream",
       "stream": "stdout",
       "text": [
        "\r",
        "Computed features for frame 465 of 1280 in 0.0824058055878"
       ]
      },
      {
       "output_type": "stream",
       "stream": "stdout",
       "text": [
        "\r",
        "Computed features for frame 466 of 1280 in 0.0814719200134"
       ]
      },
      {
       "output_type": "stream",
       "stream": "stdout",
       "text": [
        "\r",
        "Computed features for frame 467 of 1280 in 0.0806729793549"
       ]
      },
      {
       "output_type": "stream",
       "stream": "stdout",
       "text": [
        "\r",
        "Computed features for frame 468 of 1280 in 0.0871751308441"
       ]
      },
      {
       "output_type": "stream",
       "stream": "stdout",
       "text": [
        "\r",
        "Computed features for frame 469 of 1280 in 0.0795559883118"
       ]
      },
      {
       "output_type": "stream",
       "stream": "stdout",
       "text": [
        "\r",
        "Computed features for frame 470 of 1280 in 0.0803668498993"
       ]
      },
      {
       "output_type": "stream",
       "stream": "stdout",
       "text": [
        "\r",
        "Computed features for frame 471 of 1280 in 0.0804572105408"
       ]
      },
      {
       "output_type": "stream",
       "stream": "stdout",
       "text": [
        "\r",
        "Computed features for frame 472 of 1280 in 0.077938079834"
       ]
      },
      {
       "output_type": "stream",
       "stream": "stdout",
       "text": [
        "\r",
        "Computed features for frame 473 of 1280 in 0.0789029598236"
       ]
      },
      {
       "output_type": "stream",
       "stream": "stdout",
       "text": [
        "\r",
        "Computed features for frame 474 of 1280 in 0.0813019275665"
       ]
      },
      {
       "output_type": "stream",
       "stream": "stdout",
       "text": [
        "\r",
        "Computed features for frame 475 of 1280 in 0.079353094101"
       ]
      },
      {
       "output_type": "stream",
       "stream": "stdout",
       "text": [
        "\r",
        "Computed features for frame 476 of 1280 in 0.081020116806"
       ]
      },
      {
       "output_type": "stream",
       "stream": "stdout",
       "text": [
        "\r",
        "Computed features for frame 477 of 1280 in 0.0786480903625"
       ]
      },
      {
       "output_type": "stream",
       "stream": "stdout",
       "text": [
        "\r",
        "Computed features for frame 478 of 1280 in 0.0853278636932"
       ]
      },
      {
       "output_type": "stream",
       "stream": "stdout",
       "text": [
        "\r",
        "Computed features for frame 479 of 1280 in 0.081130027771"
       ]
      },
      {
       "output_type": "stream",
       "stream": "stdout",
       "text": [
        "\r",
        "Computed features for frame 480 of 1280 in 0.0825049877167"
       ]
      },
      {
       "output_type": "stream",
       "stream": "stdout",
       "text": [
        "\r",
        "Computed features for frame 481 of 1280 in 0.0889451503754"
       ]
      },
      {
       "output_type": "stream",
       "stream": "stdout",
       "text": [
        "\r",
        "Computed features for frame 482 of 1280 in 0.0856211185455"
       ]
      },
      {
       "output_type": "stream",
       "stream": "stdout",
       "text": [
        "\r",
        "Computed features for frame 483 of 1280 in 0.0794138908386"
       ]
      },
      {
       "output_type": "stream",
       "stream": "stdout",
       "text": [
        "\r",
        "Computed features for frame 484 of 1280 in 0.0789399147034"
       ]
      },
      {
       "output_type": "stream",
       "stream": "stdout",
       "text": [
        "\r",
        "Computed features for frame 485 of 1280 in 0.0791840553284"
       ]
      },
      {
       "output_type": "stream",
       "stream": "stdout",
       "text": [
        "\r",
        "Computed features for frame 486 of 1280 in 0.0816509723663"
       ]
      },
      {
       "output_type": "stream",
       "stream": "stdout",
       "text": [
        "\r",
        "Computed features for frame 487 of 1280 in 0.0791020393372"
       ]
      },
      {
       "output_type": "stream",
       "stream": "stdout",
       "text": [
        "\r",
        "Computed features for frame 488 of 1280 in 0.0804719924927"
       ]
      },
      {
       "output_type": "stream",
       "stream": "stdout",
       "text": [
        "\r",
        "Computed features for frame 489 of 1280 in 0.0805540084839"
       ]
      },
      {
       "output_type": "stream",
       "stream": "stdout",
       "text": [
        "\r",
        "Computed features for frame 490 of 1280 in 0.0790991783142"
       ]
      },
      {
       "output_type": "stream",
       "stream": "stdout",
       "text": [
        "\r",
        "Computed features for frame 491 of 1280 in 0.0818059444427"
       ]
      },
      {
       "output_type": "stream",
       "stream": "stdout",
       "text": [
        "\r",
        "Computed features for frame 492 of 1280 in 0.0820770263672"
       ]
      },
      {
       "output_type": "stream",
       "stream": "stdout",
       "text": [
        "\r",
        "Computed features for frame 493 of 1280 in 0.0831439495087"
       ]
      },
      {
       "output_type": "stream",
       "stream": "stdout",
       "text": [
        "\r",
        "Computed features for frame 494 of 1280 in 0.084951877594"
       ]
      },
      {
       "output_type": "stream",
       "stream": "stdout",
       "text": [
        "\r",
        "Computed features for frame 495 of 1280 in 0.0801908969879"
       ]
      },
      {
       "output_type": "stream",
       "stream": "stdout",
       "text": [
        "\r",
        "Computed features for frame 496 of 1280 in 0.0774569511414"
       ]
      },
      {
       "output_type": "stream",
       "stream": "stdout",
       "text": [
        "\r",
        "Computed features for frame 497 of 1280 in 0.0804388523102"
       ]
      },
      {
       "output_type": "stream",
       "stream": "stdout",
       "text": [
        "\r",
        "Computed features for frame 498 of 1280 in 0.0803780555725"
       ]
      },
      {
       "output_type": "stream",
       "stream": "stdout",
       "text": [
        "\r",
        "Computed features for frame 499 of 1280 in 0.0792090892792"
       ]
      },
      {
       "output_type": "stream",
       "stream": "stdout",
       "text": [
        "\r",
        "Computed features for frame 500 of 1280 in 0.0797929763794"
       ]
      },
      {
       "output_type": "stream",
       "stream": "stdout",
       "text": [
        "\r",
        "Computed features for frame 501 of 1280 in 0.079540014267"
       ]
      },
      {
       "output_type": "stream",
       "stream": "stdout",
       "text": [
        "\r",
        "Computed features for frame 502 of 1280 in 0.0810530185699"
       ]
      },
      {
       "output_type": "stream",
       "stream": "stdout",
       "text": [
        "\r",
        "Computed features for frame 503 of 1280 in 0.0808498859406"
       ]
      },
      {
       "output_type": "stream",
       "stream": "stdout",
       "text": [
        "\r",
        "Computed features for frame 504 of 1280 in 0.0781300067902"
       ]
      },
      {
       "output_type": "stream",
       "stream": "stdout",
       "text": [
        "\r",
        "Computed features for frame 505 of 1280 in 0.0807890892029"
       ]
      },
      {
       "output_type": "stream",
       "stream": "stdout",
       "text": [
        "\r",
        "Computed features for frame 506 of 1280 in 0.0791938304901"
       ]
      },
      {
       "output_type": "stream",
       "stream": "stdout",
       "text": [
        "\r",
        "Computed features for frame 507 of 1280 in 0.0776810646057"
       ]
      },
      {
       "output_type": "stream",
       "stream": "stdout",
       "text": [
        "\r",
        "Computed features for frame 508 of 1280 in 0.081218957901"
       ]
      },
      {
       "output_type": "stream",
       "stream": "stdout",
       "text": [
        "\r",
        "Computed features for frame 509 of 1280 in 0.0809798240662"
       ]
      },
      {
       "output_type": "stream",
       "stream": "stdout",
       "text": [
        "\r",
        "Computed features for frame 510 of 1280 in 0.0812411308289"
       ]
      },
      {
       "output_type": "stream",
       "stream": "stdout",
       "text": [
        "\r",
        "Computed features for frame 511 of 1280 in 0.0786709785461"
       ]
      },
      {
       "output_type": "stream",
       "stream": "stdout",
       "text": [
        "\r",
        "Computed features for frame 512 of 1280 in 0.0796368122101"
       ]
      },
      {
       "output_type": "stream",
       "stream": "stdout",
       "text": [
        "\r",
        "Computed features for frame 513 of 1280 in 0.0801899433136"
       ]
      },
      {
       "output_type": "stream",
       "stream": "stdout",
       "text": [
        "\r",
        "Computed features for frame 514 of 1280 in 0.0843980312347"
       ]
      },
      {
       "output_type": "stream",
       "stream": "stdout",
       "text": [
        "\r",
        "Computed features for frame 515 of 1280 in 0.0785810947418"
       ]
      },
      {
       "output_type": "stream",
       "stream": "stdout",
       "text": [
        "\r",
        "Computed features for frame 516 of 1280 in 0.0771858692169"
       ]
      },
      {
       "output_type": "stream",
       "stream": "stdout",
       "text": [
        "\r",
        "Computed features for frame 517 of 1280 in 0.0813138484955"
       ]
      },
      {
       "output_type": "stream",
       "stream": "stdout",
       "text": [
        "\r",
        "Computed features for frame 518 of 1280 in 0.079756975174"
       ]
      },
      {
       "output_type": "stream",
       "stream": "stdout",
       "text": [
        "\r",
        "Computed features for frame 519 of 1280 in 0.0774121284485"
       ]
      },
      {
       "output_type": "stream",
       "stream": "stdout",
       "text": [
        "\r",
        "Computed features for frame 520 of 1280 in 0.0779571533203"
       ]
      },
      {
       "output_type": "stream",
       "stream": "stdout",
       "text": [
        "\r",
        "Computed features for frame 521 of 1280 in 0.0773990154266"
       ]
      },
      {
       "output_type": "stream",
       "stream": "stdout",
       "text": [
        "\r",
        "Computed features for frame 522 of 1280 in 0.0788469314575"
       ]
      },
      {
       "output_type": "stream",
       "stream": "stdout",
       "text": [
        "\r",
        "Computed features for frame 523 of 1280 in 0.0801150798798"
       ]
      },
      {
       "output_type": "stream",
       "stream": "stdout",
       "text": [
        "\r",
        "Computed features for frame 524 of 1280 in 0.0791440010071"
       ]
      },
      {
       "output_type": "stream",
       "stream": "stdout",
       "text": [
        "\r",
        "Computed features for frame 525 of 1280 in 0.0806720256805"
       ]
      },
      {
       "output_type": "stream",
       "stream": "stdout",
       "text": [
        "\r",
        "Computed features for frame 526 of 1280 in 0.0804290771484"
       ]
      },
      {
       "output_type": "stream",
       "stream": "stdout",
       "text": [
        "\r",
        "Computed features for frame 527 of 1280 in 0.0795600414276"
       ]
      },
      {
       "output_type": "stream",
       "stream": "stdout",
       "text": [
        "\r",
        "Computed features for frame 528 of 1280 in 0.0796151161194"
       ]
      },
      {
       "output_type": "stream",
       "stream": "stdout",
       "text": [
        "\r",
        "Computed features for frame 529 of 1280 in 0.0791459083557"
       ]
      },
      {
       "output_type": "stream",
       "stream": "stdout",
       "text": [
        "\r",
        "Computed features for frame 530 of 1280 in 0.0791699886322"
       ]
      },
      {
       "output_type": "stream",
       "stream": "stdout",
       "text": [
        "\r",
        "Computed features for frame 531 of 1280 in 0.0821259021759"
       ]
      },
      {
       "output_type": "stream",
       "stream": "stdout",
       "text": [
        "\r",
        "Computed features for frame 532 of 1280 in 0.0810770988464"
       ]
      },
      {
       "output_type": "stream",
       "stream": "stdout",
       "text": [
        "\r",
        "Computed features for frame 533 of 1280 in 0.0798418521881"
       ]
      },
      {
       "output_type": "stream",
       "stream": "stdout",
       "text": [
        "\r",
        "Computed features for frame 534 of 1280 in 0.0770080089569"
       ]
      },
      {
       "output_type": "stream",
       "stream": "stdout",
       "text": [
        "\r",
        "Computed features for frame 535 of 1280 in 0.0834410190582"
       ]
      },
      {
       "output_type": "stream",
       "stream": "stdout",
       "text": [
        "\r",
        "Computed features for frame 536 of 1280 in 0.077810049057"
       ]
      },
      {
       "output_type": "stream",
       "stream": "stdout",
       "text": [
        "\r",
        "Computed features for frame 537 of 1280 in 0.0782141685486"
       ]
      },
      {
       "output_type": "stream",
       "stream": "stdout",
       "text": [
        "\r",
        "Computed features for frame 538 of 1280 in 0.0780599117279"
       ]
      },
      {
       "output_type": "stream",
       "stream": "stdout",
       "text": [
        "\r",
        "Computed features for frame 539 of 1280 in 0.0799150466919"
       ]
      },
      {
       "output_type": "stream",
       "stream": "stdout",
       "text": [
        "\r",
        "Computed features for frame 540 of 1280 in 0.0812261104584"
       ]
      },
      {
       "output_type": "stream",
       "stream": "stdout",
       "text": [
        "\r",
        "Computed features for frame 541 of 1280 in 0.0786190032959"
       ]
      },
      {
       "output_type": "stream",
       "stream": "stdout",
       "text": [
        "\r",
        "Computed features for frame 542 of 1280 in 0.0797009468079"
       ]
      },
      {
       "output_type": "stream",
       "stream": "stdout",
       "text": [
        "\r",
        "Computed features for frame 543 of 1280 in 0.0778548717499"
       ]
      },
      {
       "output_type": "stream",
       "stream": "stdout",
       "text": [
        "\r",
        "Computed features for frame 544 of 1280 in 0.0829091072083"
       ]
      },
      {
       "output_type": "stream",
       "stream": "stdout",
       "text": [
        "\r",
        "Computed features for frame 545 of 1280 in 0.0808038711548"
       ]
      },
      {
       "output_type": "stream",
       "stream": "stdout",
       "text": [
        "\r",
        "Computed features for frame 546 of 1280 in 0.0787239074707"
       ]
      },
      {
       "output_type": "stream",
       "stream": "stdout",
       "text": [
        "\r",
        "Computed features for frame 547 of 1280 in 0.08189702034"
       ]
      },
      {
       "output_type": "stream",
       "stream": "stdout",
       "text": [
        "\r",
        "Computed features for frame 548 of 1280 in 0.0827631950378"
       ]
      },
      {
       "output_type": "stream",
       "stream": "stdout",
       "text": [
        "\r",
        "Computed features for frame 549 of 1280 in 0.0796129703522"
       ]
      },
      {
       "output_type": "stream",
       "stream": "stdout",
       "text": [
        "\r",
        "Computed features for frame 550 of 1280 in 0.0794150829315"
       ]
      },
      {
       "output_type": "stream",
       "stream": "stdout",
       "text": [
        "\r",
        "Computed features for frame 551 of 1280 in 0.0822911262512"
       ]
      },
      {
       "output_type": "stream",
       "stream": "stdout",
       "text": [
        "\r",
        "Computed features for frame 552 of 1280 in 0.079174041748"
       ]
      },
      {
       "output_type": "stream",
       "stream": "stdout",
       "text": [
        "\r",
        "Computed features for frame 553 of 1280 in 0.0821249485016"
       ]
      },
      {
       "output_type": "stream",
       "stream": "stdout",
       "text": [
        "\r",
        "Computed features for frame 554 of 1280 in 0.0794739723206"
       ]
      },
      {
       "output_type": "stream",
       "stream": "stdout",
       "text": [
        "\r",
        "Computed features for frame 555 of 1280 in 0.0808510780334"
       ]
      },
      {
       "output_type": "stream",
       "stream": "stdout",
       "text": [
        "\r",
        "Computed features for frame 556 of 1280 in 0.0780801773071"
       ]
      },
      {
       "output_type": "stream",
       "stream": "stdout",
       "text": [
        "\r",
        "Computed features for frame 557 of 1280 in 0.0782978534698"
       ]
      },
      {
       "output_type": "stream",
       "stream": "stdout",
       "text": [
        "\r",
        "Computed features for frame 558 of 1280 in 0.0788531303406"
       ]
      },
      {
       "output_type": "stream",
       "stream": "stdout",
       "text": [
        "\r",
        "Computed features for frame 559 of 1280 in 0.0789229869843"
       ]
      },
      {
       "output_type": "stream",
       "stream": "stdout",
       "text": [
        "\r",
        "Computed features for frame 560 of 1280 in 0.0780880451202"
       ]
      },
      {
       "output_type": "stream",
       "stream": "stdout",
       "text": [
        "\r",
        "Computed features for frame 561 of 1280 in 0.0789258480072"
       ]
      },
      {
       "output_type": "stream",
       "stream": "stdout",
       "text": [
        "\r",
        "Computed features for frame 562 of 1280 in 0.0783290863037"
       ]
      },
      {
       "output_type": "stream",
       "stream": "stdout",
       "text": [
        "\r",
        "Computed features for frame 563 of 1280 in 0.0787119865417"
       ]
      },
      {
       "output_type": "stream",
       "stream": "stdout",
       "text": [
        "\r",
        "Computed features for frame 564 of 1280 in 0.0775020122528"
       ]
      },
      {
       "output_type": "stream",
       "stream": "stdout",
       "text": [
        "\r",
        "Computed features for frame 565 of 1280 in 0.0846240520477"
       ]
      },
      {
       "output_type": "stream",
       "stream": "stdout",
       "text": [
        "\r",
        "Computed features for frame 566 of 1280 in 0.0807218551636"
       ]
      },
      {
       "output_type": "stream",
       "stream": "stdout",
       "text": [
        "\r",
        "Computed features for frame 567 of 1280 in 0.0788807868958"
       ]
      },
      {
       "output_type": "stream",
       "stream": "stdout",
       "text": [
        "\r",
        "Computed features for frame 568 of 1280 in 0.0770511627197"
       ]
      },
      {
       "output_type": "stream",
       "stream": "stdout",
       "text": [
        "\r",
        "Computed features for frame 569 of 1280 in 0.0814280509949"
       ]
      },
      {
       "output_type": "stream",
       "stream": "stdout",
       "text": [
        "\r",
        "Computed features for frame 570 of 1280 in 0.0849242210388"
       ]
      },
      {
       "output_type": "stream",
       "stream": "stdout",
       "text": [
        "\r",
        "Computed features for frame 571 of 1280 in 0.0771169662476"
       ]
      },
      {
       "output_type": "stream",
       "stream": "stdout",
       "text": [
        "\r",
        "Computed features for frame 572 of 1280 in 0.0789711475372"
       ]
      },
      {
       "output_type": "stream",
       "stream": "stdout",
       "text": [
        "\r",
        "Computed features for frame 573 of 1280 in 0.0774369239807"
       ]
      },
      {
       "output_type": "stream",
       "stream": "stdout",
       "text": [
        "\r",
        "Computed features for frame 574 of 1280 in 0.0774540901184"
       ]
      },
      {
       "output_type": "stream",
       "stream": "stdout",
       "text": [
        "\r",
        "Computed features for frame 575 of 1280 in 0.0783629417419"
       ]
      },
      {
       "output_type": "stream",
       "stream": "stdout",
       "text": [
        "\r",
        "Computed features for frame 576 of 1280 in 0.077428817749"
       ]
      },
      {
       "output_type": "stream",
       "stream": "stdout",
       "text": [
        "\r",
        "Computed features for frame 577 of 1280 in 0.0783159732819"
       ]
      },
      {
       "output_type": "stream",
       "stream": "stdout",
       "text": [
        "\r",
        "Computed features for frame 578 of 1280 in 0.0805568695068"
       ]
      },
      {
       "output_type": "stream",
       "stream": "stdout",
       "text": [
        "\r",
        "Computed features for frame 579 of 1280 in 0.0812208652496"
       ]
      },
      {
       "output_type": "stream",
       "stream": "stdout",
       "text": [
        "\r",
        "Computed features for frame 580 of 1280 in 0.0776491165161"
       ]
      },
      {
       "output_type": "stream",
       "stream": "stdout",
       "text": [
        "\r",
        "Computed features for frame 581 of 1280 in 0.0809750556946"
       ]
      },
      {
       "output_type": "stream",
       "stream": "stdout",
       "text": [
        "\r",
        "Computed features for frame 582 of 1280 in 0.0821349620819"
       ]
      },
      {
       "output_type": "stream",
       "stream": "stdout",
       "text": [
        "\r",
        "Computed features for frame 583 of 1280 in 0.0820250511169"
       ]
      },
      {
       "output_type": "stream",
       "stream": "stdout",
       "text": [
        "\r",
        "Computed features for frame 584 of 1280 in 0.0776672363281"
       ]
      },
      {
       "output_type": "stream",
       "stream": "stdout",
       "text": [
        "\r",
        "Computed features for frame 585 of 1280 in 0.0814220905304"
       ]
      },
      {
       "output_type": "stream",
       "stream": "stdout",
       "text": [
        "\r",
        "Computed features for frame 586 of 1280 in 0.0782899856567"
       ]
      },
      {
       "output_type": "stream",
       "stream": "stdout",
       "text": [
        "\r",
        "Computed features for frame 587 of 1280 in 0.0806579589844"
       ]
      },
      {
       "output_type": "stream",
       "stream": "stdout",
       "text": [
        "\r",
        "Computed features for frame 588 of 1280 in 0.085040807724"
       ]
      },
      {
       "output_type": "stream",
       "stream": "stdout",
       "text": [
        "\r",
        "Computed features for frame 589 of 1280 in 0.078843832016"
       ]
      },
      {
       "output_type": "stream",
       "stream": "stdout",
       "text": [
        "\r",
        "Computed features for frame 590 of 1280 in 0.0769279003143"
       ]
      },
      {
       "output_type": "stream",
       "stream": "stdout",
       "text": [
        "\r",
        "Computed features for frame 591 of 1280 in 0.0791869163513"
       ]
      },
      {
       "output_type": "stream",
       "stream": "stdout",
       "text": [
        "\r",
        "Computed features for frame 592 of 1280 in 0.0774638652802"
       ]
      },
      {
       "output_type": "stream",
       "stream": "stdout",
       "text": [
        "\r",
        "Computed features for frame 593 of 1280 in 0.0779328346252"
       ]
      },
      {
       "output_type": "stream",
       "stream": "stdout",
       "text": [
        "\r",
        "Computed features for frame 594 of 1280 in 0.0786290168762"
       ]
      },
      {
       "output_type": "stream",
       "stream": "stdout",
       "text": [
        "\r",
        "Computed features for frame 595 of 1280 in 0.081757068634"
       ]
      },
      {
       "output_type": "stream",
       "stream": "stdout",
       "text": [
        "\r",
        "Computed features for frame 596 of 1280 in 0.0787630081177"
       ]
      },
      {
       "output_type": "stream",
       "stream": "stdout",
       "text": [
        "\r",
        "Computed features for frame 597 of 1280 in 0.0776989459991"
       ]
      },
      {
       "output_type": "stream",
       "stream": "stdout",
       "text": [
        "\r",
        "Computed features for frame 598 of 1280 in 0.0861201286316"
       ]
      },
      {
       "output_type": "stream",
       "stream": "stdout",
       "text": [
        "\r",
        "Computed features for frame 599 of 1280 in 0.0775830745697"
       ]
      },
      {
       "output_type": "stream",
       "stream": "stdout",
       "text": [
        "\r",
        "Computed features for frame 600 of 1280 in 0.0812571048737"
       ]
      },
      {
       "output_type": "stream",
       "stream": "stdout",
       "text": [
        "\r",
        "Computed features for frame 601 of 1280 in 0.0787858963013"
       ]
      },
      {
       "output_type": "stream",
       "stream": "stdout",
       "text": [
        "\r",
        "Computed features for frame 602 of 1280 in 0.0773720741272"
       ]
      },
      {
       "output_type": "stream",
       "stream": "stdout",
       "text": [
        "\r",
        "Computed features for frame 603 of 1280 in 0.0785179138184"
       ]
      },
      {
       "output_type": "stream",
       "stream": "stdout",
       "text": [
        "\r",
        "Computed features for frame 604 of 1280 in 0.076000213623"
       ]
      },
      {
       "output_type": "stream",
       "stream": "stdout",
       "text": [
        "\r",
        "Computed features for frame 605 of 1280 in 0.0808439254761"
       ]
      },
      {
       "output_type": "stream",
       "stream": "stdout",
       "text": [
        "\r",
        "Computed features for frame 606 of 1280 in 0.0820620059967"
       ]
      },
      {
       "output_type": "stream",
       "stream": "stdout",
       "text": [
        "\r",
        "Computed features for frame 607 of 1280 in 0.0817048549652"
       ]
      },
      {
       "output_type": "stream",
       "stream": "stdout",
       "text": [
        "\r",
        "Computed features for frame 608 of 1280 in 0.0815780162811"
       ]
      },
      {
       "output_type": "stream",
       "stream": "stdout",
       "text": [
        "\r",
        "Computed features for frame 609 of 1280 in 0.0804409980774"
       ]
      },
      {
       "output_type": "stream",
       "stream": "stdout",
       "text": [
        "\r",
        "Computed features for frame 610 of 1280 in 0.0822401046753"
       ]
      },
      {
       "output_type": "stream",
       "stream": "stdout",
       "text": [
        "\r",
        "Computed features for frame 611 of 1280 in 0.0872240066528"
       ]
      },
      {
       "output_type": "stream",
       "stream": "stdout",
       "text": [
        "\r",
        "Computed features for frame 612 of 1280 in 0.0842671394348"
       ]
      },
      {
       "output_type": "stream",
       "stream": "stdout",
       "text": [
        "\r",
        "Computed features for frame 613 of 1280 in 0.0785927772522"
       ]
      },
      {
       "output_type": "stream",
       "stream": "stdout",
       "text": [
        "\r",
        "Computed features for frame 614 of 1280 in 0.0796959400177"
       ]
      },
      {
       "output_type": "stream",
       "stream": "stdout",
       "text": [
        "\r",
        "Computed features for frame 615 of 1280 in 0.0804278850555"
       ]
      },
      {
       "output_type": "stream",
       "stream": "stdout",
       "text": [
        "\r",
        "Computed features for frame 616 of 1280 in 0.0783040523529"
       ]
      },
      {
       "output_type": "stream",
       "stream": "stdout",
       "text": [
        "\r",
        "Computed features for frame 617 of 1280 in 0.0777320861816"
       ]
      },
      {
       "output_type": "stream",
       "stream": "stdout",
       "text": [
        "\r",
        "Computed features for frame 618 of 1280 in 0.0783519744873"
       ]
      },
      {
       "output_type": "stream",
       "stream": "stdout",
       "text": [
        "\r",
        "Computed features for frame 619 of 1280 in 0.0797910690308"
       ]
      },
      {
       "output_type": "stream",
       "stream": "stdout",
       "text": [
        "\r",
        "Computed features for frame 620 of 1280 in 0.0789239406586"
       ]
      },
      {
       "output_type": "stream",
       "stream": "stdout",
       "text": [
        "\r",
        "Computed features for frame 621 of 1280 in 0.0783560276031"
       ]
      },
      {
       "output_type": "stream",
       "stream": "stdout",
       "text": [
        "\r",
        "Computed features for frame 622 of 1280 in 0.0802049636841"
       ]
      },
      {
       "output_type": "stream",
       "stream": "stdout",
       "text": [
        "\r",
        "Computed features for frame 623 of 1280 in 0.0831408500671"
       ]
      },
      {
       "output_type": "stream",
       "stream": "stdout",
       "text": [
        "\r",
        "Computed features for frame 624 of 1280 in 0.0804629325867"
       ]
      },
      {
       "output_type": "stream",
       "stream": "stdout",
       "text": [
        "\r",
        "Computed features for frame 625 of 1280 in 0.0822260379791"
       ]
      },
      {
       "output_type": "stream",
       "stream": "stdout",
       "text": [
        "\r",
        "Computed features for frame 626 of 1280 in 0.080384016037"
       ]
      },
      {
       "output_type": "stream",
       "stream": "stdout",
       "text": [
        "\r",
        "Computed features for frame 627 of 1280 in 0.0849740505219"
       ]
      },
      {
       "output_type": "stream",
       "stream": "stdout",
       "text": [
        "\r",
        "Computed features for frame 628 of 1280 in 0.0821030139923"
       ]
      },
      {
       "output_type": "stream",
       "stream": "stdout",
       "text": [
        "\r",
        "Computed features for frame 629 of 1280 in 0.0826959609985"
       ]
      },
      {
       "output_type": "stream",
       "stream": "stdout",
       "text": [
        "\r",
        "Computed features for frame 630 of 1280 in 0.102874040604"
       ]
      },
      {
       "output_type": "stream",
       "stream": "stdout",
       "text": [
        "\r",
        "Computed features for frame 631 of 1280 in 0.0960998535156"
       ]
      },
      {
       "output_type": "stream",
       "stream": "stdout",
       "text": [
        "\r",
        "Computed features for frame 632 of 1280 in 0.108314037323"
       ]
      },
      {
       "output_type": "stream",
       "stream": "stdout",
       "text": [
        "\r",
        "Computed features for frame 633 of 1280 in 0.0973489284515"
       ]
      },
      {
       "output_type": "stream",
       "stream": "stdout",
       "text": [
        "\r",
        "Computed features for frame 634 of 1280 in 0.0858960151672"
       ]
      },
      {
       "output_type": "stream",
       "stream": "stdout",
       "text": [
        "\r",
        "Computed features for frame 635 of 1280 in 0.0800437927246"
       ]
      },
      {
       "output_type": "stream",
       "stream": "stdout",
       "text": [
        "\r",
        "Computed features for frame 636 of 1280 in 0.0793240070343"
       ]
      },
      {
       "output_type": "stream",
       "stream": "stdout",
       "text": [
        "\r",
        "Computed features for frame 637 of 1280 in 0.0788340568542"
       ]
      },
      {
       "output_type": "stream",
       "stream": "stdout",
       "text": [
        "\r",
        "Computed features for frame 638 of 1280 in 0.0766730308533"
       ]
      },
      {
       "output_type": "stream",
       "stream": "stdout",
       "text": [
        "\r",
        "Computed features for frame 639 of 1280 in 0.0792150497437"
       ]
      },
      {
       "output_type": "stream",
       "stream": "stdout",
       "text": [
        "\r",
        "Computed features for frame 640 of 1280 in 0.0802919864655"
       ]
      },
      {
       "output_type": "stream",
       "stream": "stdout",
       "text": [
        "\r",
        "Computed features for frame 641 of 1280 in 0.0783421993256"
       ]
      },
      {
       "output_type": "stream",
       "stream": "stdout",
       "text": [
        "\r",
        "Computed features for frame 642 of 1280 in 0.100711107254"
       ]
      },
      {
       "output_type": "stream",
       "stream": "stdout",
       "text": [
        "\r",
        "Computed features for frame 643 of 1280 in 0.1037068367"
       ]
      },
      {
       "output_type": "stream",
       "stream": "stdout",
       "text": [
        "\r",
        "Computed features for frame 644 of 1280 in 0.106851100922"
       ]
      },
      {
       "output_type": "stream",
       "stream": "stdout",
       "text": [
        "\r",
        "Computed features for frame 645 of 1280 in 0.0946550369263"
       ]
      },
      {
       "output_type": "stream",
       "stream": "stdout",
       "text": [
        "\r",
        "Computed features for frame 646 of 1280 in 0.0878920555115"
       ]
      },
      {
       "output_type": "stream",
       "stream": "stdout",
       "text": [
        "\r",
        "Computed features for frame 647 of 1280 in 0.106374979019"
       ]
      },
      {
       "output_type": "stream",
       "stream": "stdout",
       "text": [
        "\r",
        "Computed features for frame 648 of 1280 in 0.0949549674988"
       ]
      },
      {
       "output_type": "stream",
       "stream": "stdout",
       "text": [
        "\r",
        "Computed features for frame 649 of 1280 in 0.0894179344177"
       ]
      },
      {
       "output_type": "stream",
       "stream": "stdout",
       "text": [
        "\r",
        "Computed features for frame 650 of 1280 in 0.0830590724945"
       ]
      },
      {
       "output_type": "stream",
       "stream": "stdout",
       "text": [
        "\r",
        "Computed features for frame 651 of 1280 in 0.0865979194641"
       ]
      },
      {
       "output_type": "stream",
       "stream": "stdout",
       "text": [
        "\r",
        "Computed features for frame 652 of 1280 in 0.0969140529633"
       ]
      },
      {
       "output_type": "stream",
       "stream": "stdout",
       "text": [
        "\r",
        "Computed features for frame 653 of 1280 in 0.100134134293"
       ]
      },
      {
       "output_type": "stream",
       "stream": "stdout",
       "text": [
        "\r",
        "Computed features for frame 654 of 1280 in 0.100696086884"
       ]
      },
      {
       "output_type": "stream",
       "stream": "stdout",
       "text": [
        "\r",
        "Computed features for frame 655 of 1280 in 0.086884021759"
       ]
      },
      {
       "output_type": "stream",
       "stream": "stdout",
       "text": [
        "\r",
        "Computed features for frame 656 of 1280 in 0.0872631072998"
       ]
      },
      {
       "output_type": "stream",
       "stream": "stdout",
       "text": [
        "\r",
        "Computed features for frame 657 of 1280 in 0.106209039688"
       ]
      },
      {
       "output_type": "stream",
       "stream": "stdout",
       "text": [
        "\r",
        "Computed features for frame 658 of 1280 in 0.106180906296"
       ]
      },
      {
       "output_type": "stream",
       "stream": "stdout",
       "text": [
        "\r",
        "Computed features for frame 659 of 1280 in 0.0902988910675"
       ]
      },
      {
       "output_type": "stream",
       "stream": "stdout",
       "text": [
        "\r",
        "Computed features for frame 660 of 1280 in 0.0835230350494"
       ]
      },
      {
       "output_type": "stream",
       "stream": "stdout",
       "text": [
        "\r",
        "Computed features for frame 661 of 1280 in 0.0975241661072"
       ]
      },
      {
       "output_type": "stream",
       "stream": "stdout",
       "text": [
        "\r",
        "Computed features for frame 662 of 1280 in 0.105664968491"
       ]
      },
      {
       "output_type": "stream",
       "stream": "stdout",
       "text": [
        "\r",
        "Computed features for frame 663 of 1280 in 0.105100154877"
       ]
      },
      {
       "output_type": "stream",
       "stream": "stdout",
       "text": [
        "\r",
        "Computed features for frame 664 of 1280 in 0.0981879234314"
       ]
      },
      {
       "output_type": "stream",
       "stream": "stdout",
       "text": [
        "\r",
        "Computed features for frame 665 of 1280 in 0.105959892273"
       ]
      },
      {
       "output_type": "stream",
       "stream": "stdout",
       "text": [
        "\r",
        "Computed features for frame 666 of 1280 in 0.099601984024"
       ]
      },
      {
       "output_type": "stream",
       "stream": "stdout",
       "text": [
        "\r",
        "Computed features for frame 667 of 1280 in 0.102429866791"
       ]
      },
      {
       "output_type": "stream",
       "stream": "stdout",
       "text": [
        "\r",
        "Computed features for frame 668 of 1280 in 0.0996601581573"
       ]
      },
      {
       "output_type": "stream",
       "stream": "stdout",
       "text": [
        "\r",
        "Computed features for frame 669 of 1280 in 0.0862340927124"
       ]
      },
      {
       "output_type": "stream",
       "stream": "stdout",
       "text": [
        "\r",
        "Computed features for frame 670 of 1280 in 0.0790920257568"
       ]
      },
      {
       "output_type": "stream",
       "stream": "stdout",
       "text": [
        "\r",
        "Computed features for frame 671 of 1280 in 0.0888109207153"
       ]
      },
      {
       "output_type": "stream",
       "stream": "stdout",
       "text": [
        "\r",
        "Computed features for frame 672 of 1280 in 0.0818688869476"
       ]
      },
      {
       "output_type": "stream",
       "stream": "stdout",
       "text": [
        "\r",
        "Computed features for frame 673 of 1280 in 0.0819640159607"
       ]
      },
      {
       "output_type": "stream",
       "stream": "stdout",
       "text": [
        "\r",
        "Computed features for frame 674 of 1280 in 0.105782985687"
       ]
      },
      {
       "output_type": "stream",
       "stream": "stdout",
       "text": [
        "\r",
        "Computed features for frame 675 of 1280 in 0.104246139526"
       ]
      },
      {
       "output_type": "stream",
       "stream": "stdout",
       "text": [
        "\r",
        "Computed features for frame 676 of 1280 in 0.106024026871"
       ]
      },
      {
       "output_type": "stream",
       "stream": "stdout",
       "text": [
        "\r",
        "Computed features for frame 677 of 1280 in 0.10786819458"
       ]
      },
      {
       "output_type": "stream",
       "stream": "stdout",
       "text": [
        "\r",
        "Computed features for frame 678 of 1280 in 0.107553958893"
       ]
      },
      {
       "output_type": "stream",
       "stream": "stdout",
       "text": [
        "\r",
        "Computed features for frame 679 of 1280 in 0.108622074127"
       ]
      },
      {
       "output_type": "stream",
       "stream": "stdout",
       "text": [
        "\r",
        "Computed features for frame 680 of 1280 in 0.0917580127716"
       ]
      },
      {
       "output_type": "stream",
       "stream": "stdout",
       "text": [
        "\r",
        "Computed features for frame 681 of 1280 in 0.0958979129791"
       ]
      },
      {
       "output_type": "stream",
       "stream": "stdout",
       "text": [
        "\r",
        "Computed features for frame 682 of 1280 in 0.0831098556519"
       ]
      },
      {
       "output_type": "stream",
       "stream": "stdout",
       "text": [
        "\r",
        "Computed features for frame 683 of 1280 in 0.0799160003662"
       ]
      },
      {
       "output_type": "stream",
       "stream": "stdout",
       "text": [
        "\r",
        "Computed features for frame 684 of 1280 in 0.0981738567352"
       ]
      },
      {
       "output_type": "stream",
       "stream": "stdout",
       "text": [
        "\r",
        "Computed features for frame 685 of 1280 in 0.108790159225"
       ]
      },
      {
       "output_type": "stream",
       "stream": "stdout",
       "text": [
        "\r",
        "Computed features for frame 686 of 1280 in 0.0923690795898"
       ]
      },
      {
       "output_type": "stream",
       "stream": "stdout",
       "text": [
        "\r",
        "Computed features for frame 687 of 1280 in 0.0894010066986"
       ]
      },
      {
       "output_type": "stream",
       "stream": "stdout",
       "text": [
        "\r",
        "Computed features for frame 688 of 1280 in 0.0872418880463"
       ]
      },
      {
       "output_type": "stream",
       "stream": "stdout",
       "text": [
        "\r",
        "Computed features for frame 689 of 1280 in 0.0859489440918"
       ]
      },
      {
       "output_type": "stream",
       "stream": "stdout",
       "text": [
        "\r",
        "Computed features for frame 690 of 1280 in 0.104403018951"
       ]
      },
      {
       "output_type": "stream",
       "stream": "stdout",
       "text": [
        "\r",
        "Computed features for frame 691 of 1280 in 0.0815370082855"
       ]
      },
      {
       "output_type": "stream",
       "stream": "stdout",
       "text": [
        "\r",
        "Computed features for frame 692 of 1280 in 0.0830528736115"
       ]
      },
      {
       "output_type": "stream",
       "stream": "stdout",
       "text": [
        "\r",
        "Computed features for frame 693 of 1280 in 0.0792479515076"
       ]
      },
      {
       "output_type": "stream",
       "stream": "stdout",
       "text": [
        "\r",
        "Computed features for frame 694 of 1280 in 0.079626083374"
       ]
      },
      {
       "output_type": "stream",
       "stream": "stdout",
       "text": [
        "\r",
        "Computed features for frame 695 of 1280 in 0.0877017974854"
       ]
      },
      {
       "output_type": "stream",
       "stream": "stdout",
       "text": [
        "\r",
        "Computed features for frame 696 of 1280 in 0.0791778564453"
       ]
      },
      {
       "output_type": "stream",
       "stream": "stdout",
       "text": [
        "\r",
        "Computed features for frame 697 of 1280 in 0.0804359912872"
       ]
      },
      {
       "output_type": "stream",
       "stream": "stdout",
       "text": [
        "\r",
        "Computed features for frame 698 of 1280 in 0.080374956131"
       ]
      },
      {
       "output_type": "stream",
       "stream": "stdout",
       "text": [
        "\r",
        "Computed features for frame 699 of 1280 in 0.0792558193207"
       ]
      },
      {
       "output_type": "stream",
       "stream": "stdout",
       "text": [
        "\r",
        "Computed features for frame 700 of 1280 in 0.0806138515472"
       ]
      },
      {
       "output_type": "stream",
       "stream": "stdout",
       "text": [
        "\r",
        "Computed features for frame 701 of 1280 in 0.0799210071564"
       ]
      },
      {
       "output_type": "stream",
       "stream": "stdout",
       "text": [
        "\r",
        "Computed features for frame 702 of 1280 in 0.0802428722382"
       ]
      },
      {
       "output_type": "stream",
       "stream": "stdout",
       "text": [
        "\r",
        "Computed features for frame 703 of 1280 in 0.0791440010071"
       ]
      },
      {
       "output_type": "stream",
       "stream": "stdout",
       "text": [
        "\r",
        "Computed features for frame 704 of 1280 in 0.0788359642029"
       ]
      },
      {
       "output_type": "stream",
       "stream": "stdout",
       "text": [
        "\r",
        "Computed features for frame 705 of 1280 in 0.082309961319"
       ]
      },
      {
       "output_type": "stream",
       "stream": "stdout",
       "text": [
        "\r",
        "Computed features for frame 706 of 1280 in 0.0809259414673"
       ]
      },
      {
       "output_type": "stream",
       "stream": "stdout",
       "text": [
        "\r",
        "Computed features for frame 707 of 1280 in 0.0865111351013"
       ]
      },
      {
       "output_type": "stream",
       "stream": "stdout",
       "text": [
        "\r",
        "Computed features for frame 708 of 1280 in 0.0797882080078"
       ]
      },
      {
       "output_type": "stream",
       "stream": "stdout",
       "text": [
        "\r",
        "Computed features for frame 709 of 1280 in 0.0790457725525"
       ]
      },
      {
       "output_type": "stream",
       "stream": "stdout",
       "text": [
        "\r",
        "Computed features for frame 710 of 1280 in 0.0791461467743"
       ]
      },
      {
       "output_type": "stream",
       "stream": "stdout",
       "text": [
        "\r",
        "Computed features for frame 711 of 1280 in 0.0853760242462"
       ]
      },
      {
       "output_type": "stream",
       "stream": "stdout",
       "text": [
        "\r",
        "Computed features for frame 712 of 1280 in 0.0813140869141"
       ]
      },
      {
       "output_type": "stream",
       "stream": "stdout",
       "text": [
        "\r",
        "Computed features for frame 713 of 1280 in 0.0806381702423"
       ]
      },
      {
       "output_type": "stream",
       "stream": "stdout",
       "text": [
        "\r",
        "Computed features for frame 714 of 1280 in 0.0794100761414"
       ]
      },
      {
       "output_type": "stream",
       "stream": "stdout",
       "text": [
        "\r",
        "Computed features for frame 715 of 1280 in 0.0827488899231"
       ]
      },
      {
       "output_type": "stream",
       "stream": "stdout",
       "text": [
        "\r",
        "Computed features for frame 716 of 1280 in 0.0818660259247"
       ]
      },
      {
       "output_type": "stream",
       "stream": "stdout",
       "text": [
        "\r",
        "Computed features for frame 717 of 1280 in 0.0827980041504"
       ]
      },
      {
       "output_type": "stream",
       "stream": "stdout",
       "text": [
        "\r",
        "Computed features for frame 718 of 1280 in 0.0817558765411"
       ]
      },
      {
       "output_type": "stream",
       "stream": "stdout",
       "text": [
        "\r",
        "Computed features for frame 719 of 1280 in 0.0807638168335"
       ]
      },
      {
       "output_type": "stream",
       "stream": "stdout",
       "text": [
        "\r",
        "Computed features for frame 720 of 1280 in 0.0822649002075"
       ]
      },
      {
       "output_type": "stream",
       "stream": "stdout",
       "text": [
        "\r",
        "Computed features for frame 721 of 1280 in 0.0779318809509"
       ]
      },
      {
       "output_type": "stream",
       "stream": "stdout",
       "text": [
        "\r",
        "Computed features for frame 722 of 1280 in 0.0817420482635"
       ]
      },
      {
       "output_type": "stream",
       "stream": "stdout",
       "text": [
        "\r",
        "Computed features for frame 723 of 1280 in 0.0827209949493"
       ]
      },
      {
       "output_type": "stream",
       "stream": "stdout",
       "text": [
        "\r",
        "Computed features for frame 724 of 1280 in 0.0796980857849"
       ]
      },
      {
       "output_type": "stream",
       "stream": "stdout",
       "text": [
        "\r",
        "Computed features for frame 725 of 1280 in 0.0788180828094"
       ]
      },
      {
       "output_type": "stream",
       "stream": "stdout",
       "text": [
        "\r",
        "Computed features for frame 726 of 1280 in 0.0816659927368"
       ]
      },
      {
       "output_type": "stream",
       "stream": "stdout",
       "text": [
        "\r",
        "Computed features for frame 727 of 1280 in 0.0813050270081"
       ]
      },
      {
       "output_type": "stream",
       "stream": "stdout",
       "text": [
        "\r",
        "Computed features for frame 728 of 1280 in 0.0803959369659"
       ]
      },
      {
       "output_type": "stream",
       "stream": "stdout",
       "text": [
        "\r",
        "Computed features for frame 729 of 1280 in 0.0796279907227"
       ]
      },
      {
       "output_type": "stream",
       "stream": "stdout",
       "text": [
        "\r",
        "Computed features for frame 730 of 1280 in 0.0801389217377"
       ]
      },
      {
       "output_type": "stream",
       "stream": "stdout",
       "text": [
        "\r",
        "Computed features for frame 731 of 1280 in 0.0805358886719"
       ]
      },
      {
       "output_type": "stream",
       "stream": "stdout",
       "text": [
        "\r",
        "Computed features for frame 732 of 1280 in 0.0835769176483"
       ]
      },
      {
       "output_type": "stream",
       "stream": "stdout",
       "text": [
        "\r",
        "Computed features for frame 733 of 1280 in 0.0856070518494"
       ]
      },
      {
       "output_type": "stream",
       "stream": "stdout",
       "text": [
        "\r",
        "Computed features for frame 734 of 1280 in 0.0811100006104"
       ]
      },
      {
       "output_type": "stream",
       "stream": "stdout",
       "text": [
        "\r",
        "Computed features for frame 735 of 1280 in 0.0819380283356"
       ]
      },
      {
       "output_type": "stream",
       "stream": "stdout",
       "text": [
        "\r",
        "Computed features for frame 736 of 1280 in 0.0904879570007"
       ]
      },
      {
       "output_type": "stream",
       "stream": "stdout",
       "text": [
        "\r",
        "Computed features for frame 737 of 1280 in 0.079910993576"
       ]
      },
      {
       "output_type": "stream",
       "stream": "stdout",
       "text": [
        "\r",
        "Computed features for frame 738 of 1280 in 0.0782849788666"
       ]
      },
      {
       "output_type": "stream",
       "stream": "stdout",
       "text": [
        "\r",
        "Computed features for frame 739 of 1280 in 0.0818660259247"
       ]
      },
      {
       "output_type": "stream",
       "stream": "stdout",
       "text": [
        "\r",
        "Computed features for frame 740 of 1280 in 0.0800929069519"
       ]
      },
      {
       "output_type": "stream",
       "stream": "stdout",
       "text": [
        "\r",
        "Computed features for frame 741 of 1280 in 0.0821199417114"
       ]
      },
      {
       "output_type": "stream",
       "stream": "stdout",
       "text": [
        "\r",
        "Computed features for frame 742 of 1280 in 0.0788869857788"
       ]
      },
      {
       "output_type": "stream",
       "stream": "stdout",
       "text": [
        "\r",
        "Computed features for frame 743 of 1280 in 0.0848460197449"
       ]
      },
      {
       "output_type": "stream",
       "stream": "stdout",
       "text": [
        "\r",
        "Computed features for frame 744 of 1280 in 0.0833470821381"
       ]
      },
      {
       "output_type": "stream",
       "stream": "stdout",
       "text": [
        "\r",
        "Computed features for frame 745 of 1280 in 0.0861079692841"
       ]
      },
      {
       "output_type": "stream",
       "stream": "stdout",
       "text": [
        "\r",
        "Computed features for frame 746 of 1280 in 0.0804259777069"
       ]
      },
      {
       "output_type": "stream",
       "stream": "stdout",
       "text": [
        "\r",
        "Computed features for frame 747 of 1280 in 0.0787270069122"
       ]
      },
      {
       "output_type": "stream",
       "stream": "stdout",
       "text": [
        "\r",
        "Computed features for frame 748 of 1280 in 0.0817799568176"
       ]
      },
      {
       "output_type": "stream",
       "stream": "stdout",
       "text": [
        "\r",
        "Computed features for frame 749 of 1280 in 0.081346988678"
       ]
      },
      {
       "output_type": "stream",
       "stream": "stdout",
       "text": [
        "\r",
        "Computed features for frame 750 of 1280 in 0.0830919742584"
       ]
      },
      {
       "output_type": "stream",
       "stream": "stdout",
       "text": [
        "\r",
        "Computed features for frame 751 of 1280 in 0.0800669193268"
       ]
      },
      {
       "output_type": "stream",
       "stream": "stdout",
       "text": [
        "\r",
        "Computed features for frame 752 of 1280 in 0.0803010463715"
       ]
      },
      {
       "output_type": "stream",
       "stream": "stdout",
       "text": [
        "\r",
        "Computed features for frame 753 of 1280 in 0.0795559883118"
       ]
      },
      {
       "output_type": "stream",
       "stream": "stdout",
       "text": [
        "\r",
        "Computed features for frame 754 of 1280 in 0.0802328586578"
       ]
      },
      {
       "output_type": "stream",
       "stream": "stdout",
       "text": [
        "\r",
        "Computed features for frame 755 of 1280 in 0.0800678730011"
       ]
      },
      {
       "output_type": "stream",
       "stream": "stdout",
       "text": [
        "\r",
        "Computed features for frame 756 of 1280 in 0.0802199840546"
       ]
      },
      {
       "output_type": "stream",
       "stream": "stdout",
       "text": [
        "\r",
        "Computed features for frame 757 of 1280 in 0.0810699462891"
       ]
      },
      {
       "output_type": "stream",
       "stream": "stdout",
       "text": [
        "\r",
        "Computed features for frame 758 of 1280 in 0.0804970264435"
       ]
      },
      {
       "output_type": "stream",
       "stream": "stdout",
       "text": [
        "\r",
        "Computed features for frame 759 of 1280 in 0.0803709030151"
       ]
      },
      {
       "output_type": "stream",
       "stream": "stdout",
       "text": [
        "\r",
        "Computed features for frame 760 of 1280 in 0.0770990848541"
       ]
      },
      {
       "output_type": "stream",
       "stream": "stdout",
       "text": [
        "\r",
        "Computed features for frame 761 of 1280 in 0.0879890918732"
       ]
      },
      {
       "output_type": "stream",
       "stream": "stdout",
       "text": [
        "\r",
        "Computed features for frame 762 of 1280 in 0.0819799900055"
       ]
      },
      {
       "output_type": "stream",
       "stream": "stdout",
       "text": [
        "\r",
        "Computed features for frame 763 of 1280 in 0.082515001297"
       ]
      },
      {
       "output_type": "stream",
       "stream": "stdout",
       "text": [
        "\r",
        "Computed features for frame 764 of 1280 in 0.0804851055145"
       ]
      },
      {
       "output_type": "stream",
       "stream": "stdout",
       "text": [
        "\r",
        "Computed features for frame 765 of 1280 in 0.0829920768738"
       ]
      },
      {
       "output_type": "stream",
       "stream": "stdout",
       "text": [
        "\r",
        "Computed features for frame 766 of 1280 in 0.0807340145111"
       ]
      },
      {
       "output_type": "stream",
       "stream": "stdout",
       "text": [
        "\r",
        "Computed features for frame 767 of 1280 in 0.0761308670044"
       ]
      },
      {
       "output_type": "stream",
       "stream": "stdout",
       "text": [
        "\r",
        "Computed features for frame 768 of 1280 in 0.0803699493408"
       ]
      },
      {
       "output_type": "stream",
       "stream": "stdout",
       "text": [
        "\r",
        "Computed features for frame 769 of 1280 in 0.0782871246338"
       ]
      },
      {
       "output_type": "stream",
       "stream": "stdout",
       "text": [
        "\r",
        "Computed features for frame 770 of 1280 in 0.0819220542908"
       ]
      },
      {
       "output_type": "stream",
       "stream": "stdout",
       "text": [
        "\r",
        "Computed features for frame 771 of 1280 in 0.0797049999237"
       ]
      },
      {
       "output_type": "stream",
       "stream": "stdout",
       "text": [
        "\r",
        "Computed features for frame 772 of 1280 in 0.0786697864532"
       ]
      },
      {
       "output_type": "stream",
       "stream": "stdout",
       "text": [
        "\r",
        "Computed features for frame 773 of 1280 in 0.0791871547699"
       ]
      },
      {
       "output_type": "stream",
       "stream": "stdout",
       "text": [
        "\r",
        "Computed features for frame 774 of 1280 in 0.09228515625"
       ]
      },
      {
       "output_type": "stream",
       "stream": "stdout",
       "text": [
        "\r",
        "Computed features for frame 775 of 1280 in 0.0877680778503"
       ]
      },
      {
       "output_type": "stream",
       "stream": "stdout",
       "text": [
        "\r",
        "Computed features for frame 776 of 1280 in 0.0852510929108"
       ]
      },
      {
       "output_type": "stream",
       "stream": "stdout",
       "text": [
        "\r",
        "Computed features for frame 777 of 1280 in 0.0820670127869"
       ]
      },
      {
       "output_type": "stream",
       "stream": "stdout",
       "text": [
        "\r",
        "Computed features for frame 778 of 1280 in 0.0891602039337"
       ]
      },
      {
       "output_type": "stream",
       "stream": "stdout",
       "text": [
        "\r",
        "Computed features for frame 779 of 1280 in 0.0801711082458"
       ]
      },
      {
       "output_type": "stream",
       "stream": "stdout",
       "text": [
        "\r",
        "Computed features for frame 780 of 1280 in 0.081887960434"
       ]
      },
      {
       "output_type": "stream",
       "stream": "stdout",
       "text": [
        "\r",
        "Computed features for frame 781 of 1280 in 0.0800728797913"
       ]
      },
      {
       "output_type": "stream",
       "stream": "stdout",
       "text": [
        "\r",
        "Computed features for frame 782 of 1280 in 0.0800800323486"
       ]
      },
      {
       "output_type": "stream",
       "stream": "stdout",
       "text": [
        "\r",
        "Computed features for frame 783 of 1280 in 0.0820529460907"
       ]
      },
      {
       "output_type": "stream",
       "stream": "stdout",
       "text": [
        "\r",
        "Computed features for frame 784 of 1280 in 0.0769519805908"
       ]
      },
      {
       "output_type": "stream",
       "stream": "stdout",
       "text": [
        "\r",
        "Computed features for frame 785 of 1280 in 0.0793499946594"
       ]
      },
      {
       "output_type": "stream",
       "stream": "stdout",
       "text": [
        "\r",
        "Computed features for frame 786 of 1280 in 0.0773990154266"
       ]
      },
      {
       "output_type": "stream",
       "stream": "stdout",
       "text": [
        "\r",
        "Computed features for frame 787 of 1280 in 0.0812830924988"
       ]
      },
      {
       "output_type": "stream",
       "stream": "stdout",
       "text": [
        "\r",
        "Computed features for frame 788 of 1280 in 0.0794470310211"
       ]
      },
      {
       "output_type": "stream",
       "stream": "stdout",
       "text": [
        "\r",
        "Computed features for frame 789 of 1280 in 0.0771720409393"
       ]
      },
      {
       "output_type": "stream",
       "stream": "stdout",
       "text": [
        "\r",
        "Computed features for frame 790 of 1280 in 0.0816791057587"
       ]
      },
      {
       "output_type": "stream",
       "stream": "stdout",
       "text": [
        "\r",
        "Computed features for frame 791 of 1280 in 0.0780189037323"
       ]
      },
      {
       "output_type": "stream",
       "stream": "stdout",
       "text": [
        "\r",
        "Computed features for frame 792 of 1280 in 0.0817339420319"
       ]
      },
      {
       "output_type": "stream",
       "stream": "stdout",
       "text": [
        "\r",
        "Computed features for frame 793 of 1280 in 0.0766599178314"
       ]
      },
      {
       "output_type": "stream",
       "stream": "stdout",
       "text": [
        "\r",
        "Computed features for frame 794 of 1280 in 0.0784559249878"
       ]
      },
      {
       "output_type": "stream",
       "stream": "stdout",
       "text": [
        "\r",
        "Computed features for frame 795 of 1280 in 0.0889689922333"
       ]
      },
      {
       "output_type": "stream",
       "stream": "stdout",
       "text": [
        "\r",
        "Computed features for frame 796 of 1280 in 0.078054189682"
       ]
      },
      {
       "output_type": "stream",
       "stream": "stdout",
       "text": [
        "\r",
        "Computed features for frame 797 of 1280 in 0.0776071548462"
       ]
      },
      {
       "output_type": "stream",
       "stream": "stdout",
       "text": [
        "\r",
        "Computed features for frame 798 of 1280 in 0.0852088928223"
       ]
      },
      {
       "output_type": "stream",
       "stream": "stdout",
       "text": [
        "\r",
        "Computed features for frame 799 of 1280 in 0.0897579193115"
       ]
      },
      {
       "output_type": "stream",
       "stream": "stdout",
       "text": [
        "\r",
        "Computed features for frame 800 of 1280 in 0.0761630535126"
       ]
      },
      {
       "output_type": "stream",
       "stream": "stdout",
       "text": [
        "\r",
        "Computed features for frame 801 of 1280 in 0.0885999202728"
       ]
      },
      {
       "output_type": "stream",
       "stream": "stdout",
       "text": [
        "\r",
        "Computed features for frame 802 of 1280 in 0.0802509784698"
       ]
      },
      {
       "output_type": "stream",
       "stream": "stdout",
       "text": [
        "\r",
        "Computed features for frame 803 of 1280 in 0.0967559814453"
       ]
      },
      {
       "output_type": "stream",
       "stream": "stdout",
       "text": [
        "\r",
        "Computed features for frame 804 of 1280 in 0.0898611545563"
       ]
      },
      {
       "output_type": "stream",
       "stream": "stdout",
       "text": [
        "\r",
        "Computed features for frame 805 of 1280 in 0.0865330696106"
       ]
      },
      {
       "output_type": "stream",
       "stream": "stdout",
       "text": [
        "\r",
        "Computed features for frame 806 of 1280 in 0.0832681655884"
       ]
      },
      {
       "output_type": "stream",
       "stream": "stdout",
       "text": [
        "\r",
        "Computed features for frame 807 of 1280 in 0.0795538425446"
       ]
      },
      {
       "output_type": "stream",
       "stream": "stdout",
       "text": [
        "\r",
        "Computed features for frame 808 of 1280 in 0.078586101532"
       ]
      },
      {
       "output_type": "stream",
       "stream": "stdout",
       "text": [
        "\r",
        "Computed features for frame 809 of 1280 in 0.0842640399933"
       ]
      },
      {
       "output_type": "stream",
       "stream": "stdout",
       "text": [
        "\r",
        "Computed features for frame 810 of 1280 in 0.10122013092"
       ]
      },
      {
       "output_type": "stream",
       "stream": "stdout",
       "text": [
        "\r",
        "Computed features for frame 811 of 1280 in 0.0762341022491"
       ]
      },
      {
       "output_type": "stream",
       "stream": "stdout",
       "text": [
        "\r",
        "Computed features for frame 812 of 1280 in 0.0761108398438"
       ]
      },
      {
       "output_type": "stream",
       "stream": "stdout",
       "text": [
        "\r",
        "Computed features for frame 813 of 1280 in 0.102473020554"
       ]
      },
      {
       "output_type": "stream",
       "stream": "stdout",
       "text": [
        "\r",
        "Computed features for frame 814 of 1280 in 0.0831179618835"
       ]
      },
      {
       "output_type": "stream",
       "stream": "stdout",
       "text": [
        "\r",
        "Computed features for frame 815 of 1280 in 0.088760137558"
       ]
      },
      {
       "output_type": "stream",
       "stream": "stdout",
       "text": [
        "\r",
        "Computed features for frame 816 of 1280 in 0.080579996109"
       ]
      },
      {
       "output_type": "stream",
       "stream": "stdout",
       "text": [
        "\r",
        "Computed features for frame 817 of 1280 in 0.0763010978699"
       ]
      },
      {
       "output_type": "stream",
       "stream": "stdout",
       "text": [
        "\r",
        "Computed features for frame 818 of 1280 in 0.101171016693"
       ]
      },
      {
       "output_type": "stream",
       "stream": "stdout",
       "text": [
        "\r",
        "Computed features for frame 819 of 1280 in 0.0879039764404"
       ]
      },
      {
       "output_type": "stream",
       "stream": "stdout",
       "text": [
        "\r",
        "Computed features for frame 820 of 1280 in 0.0823168754578"
       ]
      },
      {
       "output_type": "stream",
       "stream": "stdout",
       "text": [
        "\r",
        "Computed features for frame 821 of 1280 in 0.0823330879211"
       ]
      },
      {
       "output_type": "stream",
       "stream": "stdout",
       "text": [
        "\r",
        "Computed features for frame 822 of 1280 in 0.079950094223"
       ]
      },
      {
       "output_type": "stream",
       "stream": "stdout",
       "text": [
        "\r",
        "Computed features for frame 823 of 1280 in 0.0795829296112"
       ]
      },
      {
       "output_type": "stream",
       "stream": "stdout",
       "text": [
        "\r",
        "Computed features for frame 824 of 1280 in 0.0791630744934"
       ]
      },
      {
       "output_type": "stream",
       "stream": "stdout",
       "text": [
        "\r",
        "Computed features for frame 825 of 1280 in 0.094496011734"
       ]
      },
      {
       "output_type": "stream",
       "stream": "stdout",
       "text": [
        "\r",
        "Computed features for frame 826 of 1280 in 0.0959830284119"
       ]
      },
      {
       "output_type": "stream",
       "stream": "stdout",
       "text": [
        "\r",
        "Computed features for frame 827 of 1280 in 0.0901489257812"
       ]
      },
      {
       "output_type": "stream",
       "stream": "stdout",
       "text": [
        "\r",
        "Computed features for frame 828 of 1280 in 0.0813958644867"
       ]
      },
      {
       "output_type": "stream",
       "stream": "stdout",
       "text": [
        "\r",
        "Computed features for frame 829 of 1280 in 0.0798468589783"
       ]
      },
      {
       "output_type": "stream",
       "stream": "stdout",
       "text": [
        "\r",
        "Computed features for frame 830 of 1280 in 0.0809850692749"
       ]
      },
      {
       "output_type": "stream",
       "stream": "stdout",
       "text": [
        "\r",
        "Computed features for frame 831 of 1280 in 0.0787200927734"
       ]
      },
      {
       "output_type": "stream",
       "stream": "stdout",
       "text": [
        "\r",
        "Computed features for frame 832 of 1280 in 0.0802991390228"
       ]
      },
      {
       "output_type": "stream",
       "stream": "stdout",
       "text": [
        "\r",
        "Computed features for frame 833 of 1280 in 0.0811269283295"
       ]
      },
      {
       "output_type": "stream",
       "stream": "stdout",
       "text": [
        "\r",
        "Computed features for frame 834 of 1280 in 0.0873579978943"
       ]
      },
      {
       "output_type": "stream",
       "stream": "stdout",
       "text": [
        "\r",
        "Computed features for frame 835 of 1280 in 0.0790159702301"
       ]
      },
      {
       "output_type": "stream",
       "stream": "stdout",
       "text": [
        "\r",
        "Computed features for frame 836 of 1280 in 0.0852928161621"
       ]
      },
      {
       "output_type": "stream",
       "stream": "stdout",
       "text": [
        "\r",
        "Computed features for frame 837 of 1280 in 0.0847370624542"
       ]
      },
      {
       "output_type": "stream",
       "stream": "stdout",
       "text": [
        "\r",
        "Computed features for frame 838 of 1280 in 0.0889298915863"
       ]
      },
      {
       "output_type": "stream",
       "stream": "stdout",
       "text": [
        "\r",
        "Computed features for frame 839 of 1280 in 0.0808470249176"
       ]
      },
      {
       "output_type": "stream",
       "stream": "stdout",
       "text": [
        "\r",
        "Computed features for frame 840 of 1280 in 0.0870680809021"
       ]
      },
      {
       "output_type": "stream",
       "stream": "stdout",
       "text": [
        "\r",
        "Computed features for frame 841 of 1280 in 0.0855228900909"
       ]
      },
      {
       "output_type": "stream",
       "stream": "stdout",
       "text": [
        "\r",
        "Computed features for frame 842 of 1280 in 0.083783864975"
       ]
      },
      {
       "output_type": "stream",
       "stream": "stdout",
       "text": [
        "\r",
        "Computed features for frame 843 of 1280 in 0.0853469371796"
       ]
      },
      {
       "output_type": "stream",
       "stream": "stdout",
       "text": [
        "\r",
        "Computed features for frame 844 of 1280 in 0.087208032608"
       ]
      },
      {
       "output_type": "stream",
       "stream": "stdout",
       "text": [
        "\r",
        "Computed features for frame 845 of 1280 in 0.0859231948853"
       ]
      },
      {
       "output_type": "stream",
       "stream": "stdout",
       "text": [
        "\r",
        "Computed features for frame 846 of 1280 in 0.0824880599976"
       ]
      },
      {
       "output_type": "stream",
       "stream": "stdout",
       "text": [
        "\r",
        "Computed features for frame 847 of 1280 in 0.0835411548615"
       ]
      },
      {
       "output_type": "stream",
       "stream": "stdout",
       "text": [
        "\r",
        "Computed features for frame 848 of 1280 in 0.0881240367889"
       ]
      },
      {
       "output_type": "stream",
       "stream": "stdout",
       "text": [
        "\r",
        "Computed features for frame 849 of 1280 in 0.0909099578857"
       ]
      },
      {
       "output_type": "stream",
       "stream": "stdout",
       "text": [
        "\r",
        "Computed features for frame 850 of 1280 in 0.0886118412018"
       ]
      },
      {
       "output_type": "stream",
       "stream": "stdout",
       "text": [
        "\r",
        "Computed features for frame 851 of 1280 in 0.0837261676788"
       ]
      },
      {
       "output_type": "stream",
       "stream": "stdout",
       "text": [
        "\r",
        "Computed features for frame 852 of 1280 in 0.0834500789642"
       ]
      },
      {
       "output_type": "stream",
       "stream": "stdout",
       "text": [
        "\r",
        "Computed features for frame 853 of 1280 in 0.0851981639862"
       ]
      },
      {
       "output_type": "stream",
       "stream": "stdout",
       "text": [
        "\r",
        "Computed features for frame 854 of 1280 in 0.0801639556885"
       ]
      },
      {
       "output_type": "stream",
       "stream": "stdout",
       "text": [
        "\r",
        "Computed features for frame 855 of 1280 in 0.0891418457031"
       ]
      },
      {
       "output_type": "stream",
       "stream": "stdout",
       "text": [
        "\r",
        "Computed features for frame 856 of 1280 in 0.0868759155273"
       ]
      },
      {
       "output_type": "stream",
       "stream": "stdout",
       "text": [
        "\r",
        "Computed features for frame 857 of 1280 in 0.0810739994049"
       ]
      },
      {
       "output_type": "stream",
       "stream": "stdout",
       "text": [
        "\r",
        "Computed features for frame 858 of 1280 in 0.0763430595398"
       ]
      },
      {
       "output_type": "stream",
       "stream": "stdout",
       "text": [
        "\r",
        "Computed features for frame 859 of 1280 in 0.0786101818085"
       ]
      },
      {
       "output_type": "stream",
       "stream": "stdout",
       "text": [
        "\r",
        "Computed features for frame 860 of 1280 in 0.0772659778595"
       ]
      },
      {
       "output_type": "stream",
       "stream": "stdout",
       "text": [
        "\r",
        "Computed features for frame 861 of 1280 in 0.0786049365997"
       ]
      },
      {
       "output_type": "stream",
       "stream": "stdout",
       "text": [
        "\r",
        "Computed features for frame 862 of 1280 in 0.0793981552124"
       ]
      },
      {
       "output_type": "stream",
       "stream": "stdout",
       "text": [
        "\r",
        "Computed features for frame 863 of 1280 in 0.0809440612793"
       ]
      },
      {
       "output_type": "stream",
       "stream": "stdout",
       "text": [
        "\r",
        "Computed features for frame 864 of 1280 in 0.0811409950256"
       ]
      },
      {
       "output_type": "stream",
       "stream": "stdout",
       "text": [
        "\r",
        "Computed features for frame 865 of 1280 in 0.0797410011292"
       ]
      },
      {
       "output_type": "stream",
       "stream": "stdout",
       "text": [
        "\r",
        "Computed features for frame 866 of 1280 in 0.079253911972"
       ]
      },
      {
       "output_type": "stream",
       "stream": "stdout",
       "text": [
        "\r",
        "Computed features for frame 867 of 1280 in 0.0806610584259"
       ]
      },
      {
       "output_type": "stream",
       "stream": "stdout",
       "text": [
        "\r",
        "Computed features for frame 868 of 1280 in 0.079745054245"
       ]
      },
      {
       "output_type": "stream",
       "stream": "stdout",
       "text": [
        "\r",
        "Computed features for frame 869 of 1280 in 0.0796859264374"
       ]
      },
      {
       "output_type": "stream",
       "stream": "stdout",
       "text": [
        "\r",
        "Computed features for frame 870 of 1280 in 0.0803430080414"
       ]
      },
      {
       "output_type": "stream",
       "stream": "stdout",
       "text": [
        "\r",
        "Computed features for frame 871 of 1280 in 0.0768599510193"
       ]
      },
      {
       "output_type": "stream",
       "stream": "stdout",
       "text": [
        "\r",
        "Computed features for frame 872 of 1280 in 0.0785691738129"
       ]
      },
      {
       "output_type": "stream",
       "stream": "stdout",
       "text": [
        "\r",
        "Computed features for frame 873 of 1280 in 0.0859479904175"
       ]
      },
      {
       "output_type": "stream",
       "stream": "stdout",
       "text": [
        "\r",
        "Computed features for frame 874 of 1280 in 0.0789709091187"
       ]
      },
      {
       "output_type": "stream",
       "stream": "stdout",
       "text": [
        "\r",
        "Computed features for frame 875 of 1280 in 0.0790808200836"
       ]
      },
      {
       "output_type": "stream",
       "stream": "stdout",
       "text": [
        "\r",
        "Computed features for frame 876 of 1280 in 0.0793750286102"
       ]
      },
      {
       "output_type": "stream",
       "stream": "stdout",
       "text": [
        "\r",
        "Computed features for frame 877 of 1280 in 0.0798189640045"
       ]
      },
      {
       "output_type": "stream",
       "stream": "stdout",
       "text": [
        "\r",
        "Computed features for frame 878 of 1280 in 0.0803499221802"
       ]
      },
      {
       "output_type": "stream",
       "stream": "stdout",
       "text": [
        "\r",
        "Computed features for frame 879 of 1280 in 0.0799980163574"
       ]
      },
      {
       "output_type": "stream",
       "stream": "stdout",
       "text": [
        "\r",
        "Computed features for frame 880 of 1280 in 0.079253911972"
       ]
      },
      {
       "output_type": "stream",
       "stream": "stdout",
       "text": [
        "\r",
        "Computed features for frame 881 of 1280 in 0.0836260318756"
       ]
      },
      {
       "output_type": "stream",
       "stream": "stdout",
       "text": [
        "\r",
        "Computed features for frame 882 of 1280 in 0.078901052475"
       ]
      },
      {
       "output_type": "stream",
       "stream": "stdout",
       "text": [
        "\r",
        "Computed features for frame 883 of 1280 in 0.07772397995"
       ]
      },
      {
       "output_type": "stream",
       "stream": "stdout",
       "text": [
        "\r",
        "Computed features for frame 884 of 1280 in 0.0886499881744"
       ]
      },
      {
       "output_type": "stream",
       "stream": "stdout",
       "text": [
        "\r",
        "Computed features for frame 885 of 1280 in 0.0811829566956"
       ]
      },
      {
       "output_type": "stream",
       "stream": "stdout",
       "text": [
        "\r",
        "Computed features for frame 886 of 1280 in 0.0792679786682"
       ]
      },
      {
       "output_type": "stream",
       "stream": "stdout",
       "text": [
        "\r",
        "Computed features for frame 887 of 1280 in 0.0774848461151"
       ]
      },
      {
       "output_type": "stream",
       "stream": "stdout",
       "text": [
        "\r",
        "Computed features for frame 888 of 1280 in 0.0778319835663"
       ]
      },
      {
       "output_type": "stream",
       "stream": "stdout",
       "text": [
        "\r",
        "Computed features for frame 889 of 1280 in 0.0776288509369"
       ]
      },
      {
       "output_type": "stream",
       "stream": "stdout",
       "text": [
        "\r",
        "Computed features for frame 890 of 1280 in 0.0849840641022"
       ]
      },
      {
       "output_type": "stream",
       "stream": "stdout",
       "text": [
        "\r",
        "Computed features for frame 891 of 1280 in 0.0818600654602"
       ]
      },
      {
       "output_type": "stream",
       "stream": "stdout",
       "text": [
        "\r",
        "Computed features for frame 892 of 1280 in 0.0796868801117"
       ]
      },
      {
       "output_type": "stream",
       "stream": "stdout",
       "text": [
        "\r",
        "Computed features for frame 893 of 1280 in 0.0796210765839"
       ]
      },
      {
       "output_type": "stream",
       "stream": "stdout",
       "text": [
        "\r",
        "Computed features for frame 894 of 1280 in 0.0790560245514"
       ]
      },
      {
       "output_type": "stream",
       "stream": "stdout",
       "text": [
        "\r",
        "Computed features for frame 895 of 1280 in 0.0782940387726"
       ]
      },
      {
       "output_type": "stream",
       "stream": "stdout",
       "text": [
        "\r",
        "Computed features for frame 896 of 1280 in 0.0789270401001"
       ]
      },
      {
       "output_type": "stream",
       "stream": "stdout",
       "text": [
        "\r",
        "Computed features for frame 897 of 1280 in 0.0834028720856"
       ]
      },
      {
       "output_type": "stream",
       "stream": "stdout",
       "text": [
        "\r",
        "Computed features for frame 898 of 1280 in 0.079136133194"
       ]
      },
      {
       "output_type": "stream",
       "stream": "stdout",
       "text": [
        "\r",
        "Computed features for frame 899 of 1280 in 0.0801270008087"
       ]
      },
      {
       "output_type": "stream",
       "stream": "stdout",
       "text": [
        "\r",
        "Computed features for frame 900 of 1280 in 0.0807089805603"
       ]
      },
      {
       "output_type": "stream",
       "stream": "stdout",
       "text": [
        "\r",
        "Computed features for frame 901 of 1280 in 0.0789279937744"
       ]
      },
      {
       "output_type": "stream",
       "stream": "stdout",
       "text": [
        "\r",
        "Computed features for frame 902 of 1280 in 0.0783720016479"
       ]
      },
      {
       "output_type": "stream",
       "stream": "stdout",
       "text": [
        "\r",
        "Computed features for frame 903 of 1280 in 0.0770838260651"
       ]
      },
      {
       "output_type": "stream",
       "stream": "stdout",
       "text": [
        "\r",
        "Computed features for frame 904 of 1280 in 0.0830731391907"
       ]
      },
      {
       "output_type": "stream",
       "stream": "stdout",
       "text": [
        "\r",
        "Computed features for frame 905 of 1280 in 0.0906960964203"
       ]
      },
      {
       "output_type": "stream",
       "stream": "stdout",
       "text": [
        "\r",
        "Computed features for frame 906 of 1280 in 0.0824379920959"
       ]
      },
      {
       "output_type": "stream",
       "stream": "stdout",
       "text": [
        "\r",
        "Computed features for frame 907 of 1280 in 0.0772349834442"
       ]
      },
      {
       "output_type": "stream",
       "stream": "stdout",
       "text": [
        "\r",
        "Computed features for frame 908 of 1280 in 0.0770199298859"
       ]
      },
      {
       "output_type": "stream",
       "stream": "stdout",
       "text": [
        "\r",
        "Computed features for frame 909 of 1280 in 0.0828969478607"
       ]
      },
      {
       "output_type": "stream",
       "stream": "stdout",
       "text": [
        "\r",
        "Computed features for frame 910 of 1280 in 0.079665184021"
       ]
      },
      {
       "output_type": "stream",
       "stream": "stdout",
       "text": [
        "\r",
        "Computed features for frame 911 of 1280 in 0.0793669223785"
       ]
      },
      {
       "output_type": "stream",
       "stream": "stdout",
       "text": [
        "\r",
        "Computed features for frame 912 of 1280 in 0.0798609256744"
       ]
      },
      {
       "output_type": "stream",
       "stream": "stdout",
       "text": [
        "\r",
        "Computed features for frame 913 of 1280 in 0.0780818462372"
       ]
      },
      {
       "output_type": "stream",
       "stream": "stdout",
       "text": [
        "\r",
        "Computed features for frame 914 of 1280 in 0.0785582065582"
       ]
      },
      {
       "output_type": "stream",
       "stream": "stdout",
       "text": [
        "\r",
        "Computed features for frame 915 of 1280 in 0.0818099975586"
       ]
      },
      {
       "output_type": "stream",
       "stream": "stdout",
       "text": [
        "\r",
        "Computed features for frame 916 of 1280 in 0.0801830291748"
       ]
      },
      {
       "output_type": "stream",
       "stream": "stdout",
       "text": [
        "\r",
        "Computed features for frame 917 of 1280 in 0.0797779560089"
       ]
      },
      {
       "output_type": "stream",
       "stream": "stdout",
       "text": [
        "\r",
        "Computed features for frame 918 of 1280 in 0.0799849033356"
       ]
      },
      {
       "output_type": "stream",
       "stream": "stdout",
       "text": [
        "\r",
        "Computed features for frame 919 of 1280 in 0.0813870429993"
       ]
      },
      {
       "output_type": "stream",
       "stream": "stdout",
       "text": [
        "\r",
        "Computed features for frame 920 of 1280 in 0.0858738422394"
       ]
      },
      {
       "output_type": "stream",
       "stream": "stdout",
       "text": [
        "\r",
        "Computed features for frame 921 of 1280 in 0.0870809555054"
       ]
      },
      {
       "output_type": "stream",
       "stream": "stdout",
       "text": [
        "\r",
        "Computed features for frame 922 of 1280 in 0.0801348686218"
       ]
      },
      {
       "output_type": "stream",
       "stream": "stdout",
       "text": [
        "\r",
        "Computed features for frame 923 of 1280 in 0.0821599960327"
       ]
      },
      {
       "output_type": "stream",
       "stream": "stdout",
       "text": [
        "\r",
        "Computed features for frame 924 of 1280 in 0.0764241218567"
       ]
      },
      {
       "output_type": "stream",
       "stream": "stdout",
       "text": [
        "\r",
        "Computed features for frame 925 of 1280 in 0.0791440010071"
       ]
      },
      {
       "output_type": "stream",
       "stream": "stdout",
       "text": [
        "\r",
        "Computed features for frame 926 of 1280 in 0.0784420967102"
       ]
      },
      {
       "output_type": "stream",
       "stream": "stdout",
       "text": [
        "\r",
        "Computed features for frame 927 of 1280 in 0.0823080539703"
       ]
      },
      {
       "output_type": "stream",
       "stream": "stdout",
       "text": [
        "\r",
        "Computed features for frame 928 of 1280 in 0.0812380313873"
       ]
      },
      {
       "output_type": "stream",
       "stream": "stdout",
       "text": [
        "\r",
        "Computed features for frame 929 of 1280 in 0.0824489593506"
       ]
      },
      {
       "output_type": "stream",
       "stream": "stdout",
       "text": [
        "\r",
        "Computed features for frame 930 of 1280 in 0.0835900306702"
       ]
      },
      {
       "output_type": "stream",
       "stream": "stdout",
       "text": [
        "\r",
        "Computed features for frame 931 of 1280 in 0.0816490650177"
       ]
      },
      {
       "output_type": "stream",
       "stream": "stdout",
       "text": [
        "\r",
        "Computed features for frame 932 of 1280 in 0.0794789791107"
       ]
      },
      {
       "output_type": "stream",
       "stream": "stdout",
       "text": [
        "\r",
        "Computed features for frame 933 of 1280 in 0.0771858692169"
       ]
      },
      {
       "output_type": "stream",
       "stream": "stdout",
       "text": [
        "\r",
        "Computed features for frame 934 of 1280 in 0.0765450000763"
       ]
      },
      {
       "output_type": "stream",
       "stream": "stdout",
       "text": [
        "\r",
        "Computed features for frame 935 of 1280 in 0.0776200294495"
       ]
      },
      {
       "output_type": "stream",
       "stream": "stdout",
       "text": [
        "\r",
        "Computed features for frame 936 of 1280 in 0.0779709815979"
       ]
      },
      {
       "output_type": "stream",
       "stream": "stdout",
       "text": [
        "\r",
        "Computed features for frame 937 of 1280 in 0.0803909301758"
       ]
      },
      {
       "output_type": "stream",
       "stream": "stdout",
       "text": [
        "\r",
        "Computed features for frame 938 of 1280 in 0.0796759128571"
       ]
      },
      {
       "output_type": "stream",
       "stream": "stdout",
       "text": [
        "\r",
        "Computed features for frame 939 of 1280 in 0.0796492099762"
       ]
      },
      {
       "output_type": "stream",
       "stream": "stdout",
       "text": [
        "\r",
        "Computed features for frame 940 of 1280 in 0.0802221298218"
       ]
      },
      {
       "output_type": "stream",
       "stream": "stdout",
       "text": [
        "\r",
        "Computed features for frame 941 of 1280 in 0.0789511203766"
       ]
      },
      {
       "output_type": "stream",
       "stream": "stdout",
       "text": [
        "\r",
        "Computed features for frame 942 of 1280 in 0.0848429203033"
       ]
      },
      {
       "output_type": "stream",
       "stream": "stdout",
       "text": [
        "\r",
        "Computed features for frame 943 of 1280 in 0.0812110900879"
       ]
      },
      {
       "output_type": "stream",
       "stream": "stdout",
       "text": [
        "\r",
        "Computed features for frame 944 of 1280 in 0.0774488449097"
       ]
      },
      {
       "output_type": "stream",
       "stream": "stdout",
       "text": [
        "\r",
        "Computed features for frame 945 of 1280 in 0.0809879302979"
       ]
      },
      {
       "output_type": "stream",
       "stream": "stdout",
       "text": [
        "\r",
        "Computed features for frame 946 of 1280 in 0.0796229839325"
       ]
      },
      {
       "output_type": "stream",
       "stream": "stdout",
       "text": [
        "\r",
        "Computed features for frame 947 of 1280 in 0.0793828964233"
       ]
      },
      {
       "output_type": "stream",
       "stream": "stdout",
       "text": [
        "\r",
        "Computed features for frame 948 of 1280 in 0.0798101425171"
       ]
      },
      {
       "output_type": "stream",
       "stream": "stdout",
       "text": [
        "\r",
        "Computed features for frame 949 of 1280 in 0.0851922035217"
       ]
      },
      {
       "output_type": "stream",
       "stream": "stdout",
       "text": [
        "\r",
        "Computed features for frame 950 of 1280 in 0.07932305336"
       ]
      },
      {
       "output_type": "stream",
       "stream": "stdout",
       "text": [
        "\r",
        "Computed features for frame 951 of 1280 in 0.0811820030212"
       ]
      },
      {
       "output_type": "stream",
       "stream": "stdout",
       "text": [
        "\r",
        "Computed features for frame 952 of 1280 in 0.0851128101349"
       ]
      },
      {
       "output_type": "stream",
       "stream": "stdout",
       "text": [
        "\r",
        "Computed features for frame 953 of 1280 in 0.0810329914093"
       ]
      },
      {
       "output_type": "stream",
       "stream": "stdout",
       "text": [
        "\r",
        "Computed features for frame 954 of 1280 in 0.0801599025726"
       ]
      },
      {
       "output_type": "stream",
       "stream": "stdout",
       "text": [
        "\r",
        "Computed features for frame 955 of 1280 in 0.0799679756165"
       ]
      },
      {
       "output_type": "stream",
       "stream": "stdout",
       "text": [
        "\r",
        "Computed features for frame 956 of 1280 in 0.0779888629913"
       ]
      },
      {
       "output_type": "stream",
       "stream": "stdout",
       "text": [
        "\r",
        "Computed features for frame 957 of 1280 in 0.0868530273438"
       ]
      },
      {
       "output_type": "stream",
       "stream": "stdout",
       "text": [
        "\r",
        "Computed features for frame 958 of 1280 in 0.0776221752167"
       ]
      },
      {
       "output_type": "stream",
       "stream": "stdout",
       "text": [
        "\r",
        "Computed features for frame 959 of 1280 in 0.0811750888824"
       ]
      },
      {
       "output_type": "stream",
       "stream": "stdout",
       "text": [
        "\r",
        "Computed features for frame 960 of 1280 in 0.0835840702057"
       ]
      },
      {
       "output_type": "stream",
       "stream": "stdout",
       "text": [
        "\r",
        "Computed features for frame 961 of 1280 in 0.0870158672333"
       ]
      },
      {
       "output_type": "stream",
       "stream": "stdout",
       "text": [
        "\r",
        "Computed features for frame 962 of 1280 in 0.0890591144562"
       ]
      },
      {
       "output_type": "stream",
       "stream": "stdout",
       "text": [
        "\r",
        "Computed features for frame 963 of 1280 in 0.0825090408325"
       ]
      },
      {
       "output_type": "stream",
       "stream": "stdout",
       "text": [
        "\r",
        "Computed features for frame 964 of 1280 in 0.0904171466827"
       ]
      },
      {
       "output_type": "stream",
       "stream": "stdout",
       "text": [
        "\r",
        "Computed features for frame 965 of 1280 in 0.0821251869202"
       ]
      },
      {
       "output_type": "stream",
       "stream": "stdout",
       "text": [
        "\r",
        "Computed features for frame 966 of 1280 in 0.0795960426331"
       ]
      },
      {
       "output_type": "stream",
       "stream": "stdout",
       "text": [
        "\r",
        "Computed features for frame 967 of 1280 in 0.0845508575439"
       ]
      },
      {
       "output_type": "stream",
       "stream": "stdout",
       "text": [
        "\r",
        "Computed features for frame 968 of 1280 in 0.0836310386658"
       ]
      },
      {
       "output_type": "stream",
       "stream": "stdout",
       "text": [
        "\r",
        "Computed features for frame 969 of 1280 in 0.0789020061493"
       ]
      },
      {
       "output_type": "stream",
       "stream": "stdout",
       "text": [
        "\r",
        "Computed features for frame 970 of 1280 in 0.0787060260773"
       ]
      },
      {
       "output_type": "stream",
       "stream": "stdout",
       "text": [
        "\r",
        "Computed features for frame 971 of 1280 in 0.0799870491028"
       ]
      },
      {
       "output_type": "stream",
       "stream": "stdout",
       "text": [
        "\r",
        "Computed features for frame 972 of 1280 in 0.0832250118256"
       ]
      },
      {
       "output_type": "stream",
       "stream": "stdout",
       "text": [
        "\r",
        "Computed features for frame 973 of 1280 in 0.0832631587982"
       ]
      },
      {
       "output_type": "stream",
       "stream": "stdout",
       "text": [
        "\r",
        "Computed features for frame 974 of 1280 in 0.0822122097015"
       ]
      },
      {
       "output_type": "stream",
       "stream": "stdout",
       "text": [
        "\r",
        "Computed features for frame 975 of 1280 in 0.0903160572052"
       ]
      },
      {
       "output_type": "stream",
       "stream": "stdout",
       "text": [
        "\r",
        "Computed features for frame 976 of 1280 in 0.0883021354675"
       ]
      },
      {
       "output_type": "stream",
       "stream": "stdout",
       "text": [
        "\r",
        "Computed features for frame 977 of 1280 in 0.0821559429169"
       ]
      },
      {
       "output_type": "stream",
       "stream": "stdout",
       "text": [
        "\r",
        "Computed features for frame 978 of 1280 in 0.0843100547791"
       ]
      },
      {
       "output_type": "stream",
       "stream": "stdout",
       "text": [
        "\r",
        "Computed features for frame 979 of 1280 in 0.0824999809265"
       ]
      },
      {
       "output_type": "stream",
       "stream": "stdout",
       "text": [
        "\r",
        "Computed features for frame 980 of 1280 in 0.0825660228729"
       ]
      },
      {
       "output_type": "stream",
       "stream": "stdout",
       "text": [
        "\r",
        "Computed features for frame 981 of 1280 in 0.085441827774"
       ]
      },
      {
       "output_type": "stream",
       "stream": "stdout",
       "text": [
        "\r",
        "Computed features for frame 982 of 1280 in 0.0874919891357"
       ]
      },
      {
       "output_type": "stream",
       "stream": "stdout",
       "text": [
        "\r",
        "Computed features for frame 983 of 1280 in 0.0793159008026"
       ]
      },
      {
       "output_type": "stream",
       "stream": "stdout",
       "text": [
        "\r",
        "Computed features for frame 984 of 1280 in 0.083379983902"
       ]
      },
      {
       "output_type": "stream",
       "stream": "stdout",
       "text": [
        "\r",
        "Computed features for frame 985 of 1280 in 0.0804309844971"
       ]
      },
      {
       "output_type": "stream",
       "stream": "stdout",
       "text": [
        "\r",
        "Computed features for frame 986 of 1280 in 0.0805602073669"
       ]
      },
      {
       "output_type": "stream",
       "stream": "stdout",
       "text": [
        "\r",
        "Computed features for frame 987 of 1280 in 0.0781049728394"
       ]
      },
      {
       "output_type": "stream",
       "stream": "stdout",
       "text": [
        "\r",
        "Computed features for frame 988 of 1280 in 0.0785510540009"
       ]
      },
      {
       "output_type": "stream",
       "stream": "stdout",
       "text": [
        "\r",
        "Computed features for frame 989 of 1280 in 0.0852479934692"
       ]
      },
      {
       "output_type": "stream",
       "stream": "stdout",
       "text": [
        "\r",
        "Computed features for frame 990 of 1280 in 0.0844011306763"
       ]
      },
      {
       "output_type": "stream",
       "stream": "stdout",
       "text": [
        "\r",
        "Computed features for frame 991 of 1280 in 0.0869419574738"
       ]
      },
      {
       "output_type": "stream",
       "stream": "stdout",
       "text": [
        "\r",
        "Computed features for frame 992 of 1280 in 0.085599899292"
       ]
      },
      {
       "output_type": "stream",
       "stream": "stdout",
       "text": [
        "\r",
        "Computed features for frame 993 of 1280 in 0.0883750915527"
       ]
      },
      {
       "output_type": "stream",
       "stream": "stdout",
       "text": [
        "\r",
        "Computed features for frame 994 of 1280 in 0.0808010101318"
       ]
      },
      {
       "output_type": "stream",
       "stream": "stdout",
       "text": [
        "\r",
        "Computed features for frame 995 of 1280 in 0.090607881546"
       ]
      },
      {
       "output_type": "stream",
       "stream": "stdout",
       "text": [
        "\r",
        "Computed features for frame 996 of 1280 in 0.0825650691986"
       ]
      },
      {
       "output_type": "stream",
       "stream": "stdout",
       "text": [
        "\r",
        "Computed features for frame 997 of 1280 in 0.0816349983215"
       ]
      },
      {
       "output_type": "stream",
       "stream": "stdout",
       "text": [
        "\r",
        "Computed features for frame 998 of 1280 in 0.0801270008087"
       ]
      },
      {
       "output_type": "stream",
       "stream": "stdout",
       "text": [
        "\r",
        "Computed features for frame 999 of 1280 in 0.0793220996857"
       ]
      },
      {
       "output_type": "stream",
       "stream": "stdout",
       "text": [
        "\r",
        "Computed features for frame 1000 of 1280 in 0.079775094986"
       ]
      },
      {
       "output_type": "stream",
       "stream": "stdout",
       "text": [
        "\r",
        "Computed features for frame 1001 of 1280 in 0.0784409046173"
       ]
      },
      {
       "output_type": "stream",
       "stream": "stdout",
       "text": [
        "\r",
        "Computed features for frame 1002 of 1280 in 0.0836861133575"
       ]
      },
      {
       "output_type": "stream",
       "stream": "stdout",
       "text": [
        "\r",
        "Computed features for frame 1003 of 1280 in 0.0866239070892"
       ]
      },
      {
       "output_type": "stream",
       "stream": "stdout",
       "text": [
        "\r",
        "Computed features for frame 1004 of 1280 in 0.0834589004517"
       ]
      },
      {
       "output_type": "stream",
       "stream": "stdout",
       "text": [
        "\r",
        "Computed features for frame 1005 of 1280 in 0.0845620632172"
       ]
      },
      {
       "output_type": "stream",
       "stream": "stdout",
       "text": [
        "\r",
        "Computed features for frame 1006 of 1280 in 0.0817980766296"
       ]
      },
      {
       "output_type": "stream",
       "stream": "stdout",
       "text": [
        "\r",
        "Computed features for frame 1007 of 1280 in 0.0806260108948"
       ]
      },
      {
       "output_type": "stream",
       "stream": "stdout",
       "text": [
        "\r",
        "Computed features for frame 1008 of 1280 in 0.0820121765137"
       ]
      },
      {
       "output_type": "stream",
       "stream": "stdout",
       "text": [
        "\r",
        "Computed features for frame 1009 of 1280 in 0.0818281173706"
       ]
      },
      {
       "output_type": "stream",
       "stream": "stdout",
       "text": [
        "\r",
        "Computed features for frame 1010 of 1280 in 0.0780320167542"
       ]
      },
      {
       "output_type": "stream",
       "stream": "stdout",
       "text": [
        "\r",
        "Computed features for frame 1011 of 1280 in 0.0792770385742"
       ]
      },
      {
       "output_type": "stream",
       "stream": "stdout",
       "text": [
        "\r",
        "Computed features for frame 1012 of 1280 in 0.0829529762268"
       ]
      },
      {
       "output_type": "stream",
       "stream": "stdout",
       "text": [
        "\r",
        "Computed features for frame 1013 of 1280 in 0.0813081264496"
       ]
      },
      {
       "output_type": "stream",
       "stream": "stdout",
       "text": [
        "\r",
        "Computed features for frame 1014 of 1280 in 0.0791709423065"
       ]
      },
      {
       "output_type": "stream",
       "stream": "stdout",
       "text": [
        "\r",
        "Computed features for frame 1015 of 1280 in 0.0830111503601"
       ]
      },
      {
       "output_type": "stream",
       "stream": "stdout",
       "text": [
        "\r",
        "Computed features for frame 1016 of 1280 in 0.0773510932922"
       ]
      },
      {
       "output_type": "stream",
       "stream": "stdout",
       "text": [
        "\r",
        "Computed features for frame 1017 of 1280 in 0.079078912735"
       ]
      },
      {
       "output_type": "stream",
       "stream": "stdout",
       "text": [
        "\r",
        "Computed features for frame 1018 of 1280 in 0.0794730186462"
       ]
      },
      {
       "output_type": "stream",
       "stream": "stdout",
       "text": [
        "\r",
        "Computed features for frame 1019 of 1280 in 0.0841209888458"
       ]
      },
      {
       "output_type": "stream",
       "stream": "stdout",
       "text": [
        "\r",
        "Computed features for frame 1020 of 1280 in 0.0836658477783"
       ]
      },
      {
       "output_type": "stream",
       "stream": "stdout",
       "text": [
        "\r",
        "Computed features for frame 1021 of 1280 in 0.079952955246"
       ]
      },
      {
       "output_type": "stream",
       "stream": "stdout",
       "text": [
        "\r",
        "Computed features for frame 1022 of 1280 in 0.0837640762329"
       ]
      },
      {
       "output_type": "stream",
       "stream": "stdout",
       "text": [
        "\r",
        "Computed features for frame 1023 of 1280 in 0.0788140296936"
       ]
      },
      {
       "output_type": "stream",
       "stream": "stdout",
       "text": [
        "\r",
        "Computed features for frame 1024 of 1280 in 0.0799968242645"
       ]
      },
      {
       "output_type": "stream",
       "stream": "stdout",
       "text": [
        "\r",
        "Computed features for frame 1025 of 1280 in 0.0813658237457"
       ]
      },
      {
       "output_type": "stream",
       "stream": "stdout",
       "text": [
        "\r",
        "Computed features for frame 1026 of 1280 in 0.0812609195709"
       ]
      },
      {
       "output_type": "stream",
       "stream": "stdout",
       "text": [
        "\r",
        "Computed features for frame 1027 of 1280 in 0.0823290348053"
       ]
      },
      {
       "output_type": "stream",
       "stream": "stdout",
       "text": [
        "\r",
        "Computed features for frame 1028 of 1280 in 0.0820829868317"
       ]
      },
      {
       "output_type": "stream",
       "stream": "stdout",
       "text": [
        "\r",
        "Computed features for frame 1029 of 1280 in 0.103481054306"
       ]
      },
      {
       "output_type": "stream",
       "stream": "stdout",
       "text": [
        "\r",
        "Computed features for frame 1030 of 1280 in 0.0840659141541"
       ]
      },
      {
       "output_type": "stream",
       "stream": "stdout",
       "text": [
        "\r",
        "Computed features for frame 1031 of 1280 in 0.0921559333801"
       ]
      },
      {
       "output_type": "stream",
       "stream": "stdout",
       "text": [
        "\r",
        "Computed features for frame 1032 of 1280 in 0.0807049274445"
       ]
      },
      {
       "output_type": "stream",
       "stream": "stdout",
       "text": [
        "\r",
        "Computed features for frame 1033 of 1280 in 0.0814089775085"
       ]
      },
      {
       "output_type": "stream",
       "stream": "stdout",
       "text": [
        "\r",
        "Computed features for frame 1034 of 1280 in 0.0798110961914"
       ]
      },
      {
       "output_type": "stream",
       "stream": "stdout",
       "text": [
        "\r",
        "Computed features for frame 1035 of 1280 in 0.0901489257812"
       ]
      },
      {
       "output_type": "stream",
       "stream": "stdout",
       "text": [
        "\r",
        "Computed features for frame 1036 of 1280 in 0.0820419788361"
       ]
      },
      {
       "output_type": "stream",
       "stream": "stdout",
       "text": [
        "\r",
        "Computed features for frame 1037 of 1280 in 0.0824899673462"
       ]
      },
      {
       "output_type": "stream",
       "stream": "stdout",
       "text": [
        "\r",
        "Computed features for frame 1038 of 1280 in 0.0781190395355"
       ]
      },
      {
       "output_type": "stream",
       "stream": "stdout",
       "text": [
        "\r",
        "Computed features for frame 1039 of 1280 in 0.0807919502258"
       ]
      },
      {
       "output_type": "stream",
       "stream": "stdout",
       "text": [
        "\r",
        "Computed features for frame 1040 of 1280 in 0.100138902664"
       ]
      },
      {
       "output_type": "stream",
       "stream": "stdout",
       "text": [
        "\r",
        "Computed features for frame 1041 of 1280 in 0.101343154907"
       ]
      },
      {
       "output_type": "stream",
       "stream": "stdout",
       "text": [
        "\r",
        "Computed features for frame 1042 of 1280 in 0.0868608951569"
       ]
      },
      {
       "output_type": "stream",
       "stream": "stdout",
       "text": [
        "\r",
        "Computed features for frame 1043 of 1280 in 0.0820341110229"
       ]
      },
      {
       "output_type": "stream",
       "stream": "stdout",
       "text": [
        "\r",
        "Computed features for frame 1044 of 1280 in 0.107851028442"
       ]
      },
      {
       "output_type": "stream",
       "stream": "stdout",
       "text": [
        "\r",
        "Computed features for frame 1045 of 1280 in 0.107128143311"
       ]
      },
      {
       "output_type": "stream",
       "stream": "stdout",
       "text": [
        "\r",
        "Computed features for frame 1046 of 1280 in 0.10760807991"
       ]
      },
      {
       "output_type": "stream",
       "stream": "stdout",
       "text": [
        "\r",
        "Computed features for frame 1047 of 1280 in 0.0859279632568"
       ]
      },
      {
       "output_type": "stream",
       "stream": "stdout",
       "text": [
        "\r",
        "Computed features for frame 1048 of 1280 in 0.101393938065"
       ]
      },
      {
       "output_type": "stream",
       "stream": "stdout",
       "text": [
        "\r",
        "Computed features for frame 1049 of 1280 in 0.087671995163"
       ]
      },
      {
       "output_type": "stream",
       "stream": "stdout",
       "text": [
        "\r",
        "Computed features for frame 1050 of 1280 in 0.0807018280029"
       ]
      },
      {
       "output_type": "stream",
       "stream": "stdout",
       "text": [
        "\r",
        "Computed features for frame 1051 of 1280 in 0.0800378322601"
       ]
      },
      {
       "output_type": "stream",
       "stream": "stdout",
       "text": [
        "\r",
        "Computed features for frame 1052 of 1280 in 0.0937480926514"
       ]
      },
      {
       "output_type": "stream",
       "stream": "stdout",
       "text": [
        "\r",
        "Computed features for frame 1053 of 1280 in 0.0844171047211"
       ]
      },
      {
       "output_type": "stream",
       "stream": "stdout",
       "text": [
        "\r",
        "Computed features for frame 1054 of 1280 in 0.107032060623"
       ]
      },
      {
       "output_type": "stream",
       "stream": "stdout",
       "text": [
        "\r",
        "Computed features for frame 1055 of 1280 in 0.0830051898956"
       ]
      },
      {
       "output_type": "stream",
       "stream": "stdout",
       "text": [
        "\r",
        "Computed features for frame 1056 of 1280 in 0.0780758857727"
       ]
      },
      {
       "output_type": "stream",
       "stream": "stdout",
       "text": [
        "\r",
        "Computed features for frame 1057 of 1280 in 0.0794939994812"
       ]
      },
      {
       "output_type": "stream",
       "stream": "stdout",
       "text": [
        "\r",
        "Computed features for frame 1058 of 1280 in 0.0794529914856"
       ]
      },
      {
       "output_type": "stream",
       "stream": "stdout",
       "text": [
        "\r",
        "Computed features for frame 1059 of 1280 in 0.0775928497314"
       ]
      },
      {
       "output_type": "stream",
       "stream": "stdout",
       "text": [
        "\r",
        "Computed features for frame 1060 of 1280 in 0.0810809135437"
       ]
      },
      {
       "output_type": "stream",
       "stream": "stdout",
       "text": [
        "\r",
        "Computed features for frame 1061 of 1280 in 0.0892848968506"
       ]
      },
      {
       "output_type": "stream",
       "stream": "stdout",
       "text": [
        "\r",
        "Computed features for frame 1062 of 1280 in 0.0793249607086"
       ]
      },
      {
       "output_type": "stream",
       "stream": "stdout",
       "text": [
        "\r",
        "Computed features for frame 1063 of 1280 in 0.0813460350037"
       ]
      },
      {
       "output_type": "stream",
       "stream": "stdout",
       "text": [
        "\r",
        "Computed features for frame 1064 of 1280 in 0.104730844498"
       ]
      },
      {
       "output_type": "stream",
       "stream": "stdout",
       "text": [
        "\r",
        "Computed features for frame 1065 of 1280 in 0.0896031856537"
       ]
      },
      {
       "output_type": "stream",
       "stream": "stdout",
       "text": [
        "\r",
        "Computed features for frame 1066 of 1280 in 0.0801990032196"
       ]
      },
      {
       "output_type": "stream",
       "stream": "stdout",
       "text": [
        "\r",
        "Computed features for frame 1067 of 1280 in 0.0822060108185"
       ]
      },
      {
       "output_type": "stream",
       "stream": "stdout",
       "text": [
        "\r",
        "Computed features for frame 1068 of 1280 in 0.0818150043488"
       ]
      },
      {
       "output_type": "stream",
       "stream": "stdout",
       "text": [
        "\r",
        "Computed features for frame 1069 of 1280 in 0.0795788764954"
       ]
      },
      {
       "output_type": "stream",
       "stream": "stdout",
       "text": [
        "\r",
        "Computed features for frame 1070 of 1280 in 0.0792350769043"
       ]
      },
      {
       "output_type": "stream",
       "stream": "stdout",
       "text": [
        "\r",
        "Computed features for frame 1071 of 1280 in 0.0851829051971"
       ]
      },
      {
       "output_type": "stream",
       "stream": "stdout",
       "text": [
        "\r",
        "Computed features for frame 1072 of 1280 in 0.102955102921"
       ]
      },
      {
       "output_type": "stream",
       "stream": "stdout",
       "text": [
        "\r",
        "Computed features for frame 1073 of 1280 in 0.0882070064545"
       ]
      },
      {
       "output_type": "stream",
       "stream": "stdout",
       "text": [
        "\r",
        "Computed features for frame 1074 of 1280 in 0.0879209041595"
       ]
      },
      {
       "output_type": "stream",
       "stream": "stdout",
       "text": [
        "\r",
        "Computed features for frame 1075 of 1280 in 0.082426071167"
       ]
      },
      {
       "output_type": "stream",
       "stream": "stdout",
       "text": [
        "\r",
        "Computed features for frame 1076 of 1280 in 0.0804469585419"
       ]
      },
      {
       "output_type": "stream",
       "stream": "stdout",
       "text": [
        "\r",
        "Computed features for frame 1077 of 1280 in 0.0833880901337"
       ]
      },
      {
       "output_type": "stream",
       "stream": "stdout",
       "text": [
        "\r",
        "Computed features for frame 1078 of 1280 in 0.0833859443665"
       ]
      },
      {
       "output_type": "stream",
       "stream": "stdout",
       "text": [
        "\r",
        "Computed features for frame 1079 of 1280 in 0.0812630653381"
       ]
      },
      {
       "output_type": "stream",
       "stream": "stdout",
       "text": [
        "\r",
        "Computed features for frame 1080 of 1280 in 0.0801961421967"
       ]
      },
      {
       "output_type": "stream",
       "stream": "stdout",
       "text": [
        "\r",
        "Computed features for frame 1081 of 1280 in 0.0786368846893"
       ]
      },
      {
       "output_type": "stream",
       "stream": "stdout",
       "text": [
        "\r",
        "Computed features for frame 1082 of 1280 in 0.078330039978"
       ]
      },
      {
       "output_type": "stream",
       "stream": "stdout",
       "text": [
        "\r",
        "Computed features for frame 1083 of 1280 in 0.0773639678955"
       ]
      },
      {
       "output_type": "stream",
       "stream": "stdout",
       "text": [
        "\r",
        "Computed features for frame 1084 of 1280 in 0.0773658752441"
       ]
      },
      {
       "output_type": "stream",
       "stream": "stdout",
       "text": [
        "\r",
        "Computed features for frame 1085 of 1280 in 0.0902018547058"
       ]
      },
      {
       "output_type": "stream",
       "stream": "stdout",
       "text": [
        "\r",
        "Computed features for frame 1086 of 1280 in 0.108376026154"
       ]
      },
      {
       "output_type": "stream",
       "stream": "stdout",
       "text": [
        "\r",
        "Computed features for frame 1087 of 1280 in 0.10978603363"
       ]
      },
      {
       "output_type": "stream",
       "stream": "stdout",
       "text": [
        "\r",
        "Computed features for frame 1088 of 1280 in 0.108830928802"
       ]
      },
      {
       "output_type": "stream",
       "stream": "stdout",
       "text": [
        "\r",
        "Computed features for frame 1089 of 1280 in 0.0874810218811"
       ]
      },
      {
       "output_type": "stream",
       "stream": "stdout",
       "text": [
        "\r",
        "Computed features for frame 1090 of 1280 in 0.0925550460815"
       ]
      },
      {
       "output_type": "stream",
       "stream": "stdout",
       "text": [
        "\r",
        "Computed features for frame 1091 of 1280 in 0.0828940868378"
       ]
      },
      {
       "output_type": "stream",
       "stream": "stdout",
       "text": [
        "\r",
        "Computed features for frame 1092 of 1280 in 0.081906080246"
       ]
      },
      {
       "output_type": "stream",
       "stream": "stdout",
       "text": [
        "\r",
        "Computed features for frame 1093 of 1280 in 0.0824959278107"
       ]
      },
      {
       "output_type": "stream",
       "stream": "stdout",
       "text": [
        "\r",
        "Computed features for frame 1094 of 1280 in 0.0785970687866"
       ]
      },
      {
       "output_type": "stream",
       "stream": "stdout",
       "text": [
        "\r",
        "Computed features for frame 1095 of 1280 in 0.0844860076904"
       ]
      },
      {
       "output_type": "stream",
       "stream": "stdout",
       "text": [
        "\r",
        "Computed features for frame 1096 of 1280 in 0.0846049785614"
       ]
      },
      {
       "output_type": "stream",
       "stream": "stdout",
       "text": [
        "\r",
        "Computed features for frame 1097 of 1280 in 0.0953538417816"
       ]
      },
      {
       "output_type": "stream",
       "stream": "stdout",
       "text": [
        "\r",
        "Computed features for frame 1098 of 1280 in 0.0848970413208"
       ]
      },
      {
       "output_type": "stream",
       "stream": "stdout",
       "text": [
        "\r",
        "Computed features for frame 1099 of 1280 in 0.0824999809265"
       ]
      },
      {
       "output_type": "stream",
       "stream": "stdout",
       "text": [
        "\r",
        "Computed features for frame 1100 of 1280 in 0.0799989700317"
       ]
      },
      {
       "output_type": "stream",
       "stream": "stdout",
       "text": [
        "\r",
        "Computed features for frame 1101 of 1280 in 0.0847420692444"
       ]
      },
      {
       "output_type": "stream",
       "stream": "stdout",
       "text": [
        "\r",
        "Computed features for frame 1102 of 1280 in 0.0835330486298"
       ]
      },
      {
       "output_type": "stream",
       "stream": "stdout",
       "text": [
        "\r",
        "Computed features for frame 1103 of 1280 in 0.0809690952301"
       ]
      },
      {
       "output_type": "stream",
       "stream": "stdout",
       "text": [
        "\r",
        "Computed features for frame 1104 of 1280 in 0.0802309513092"
       ]
      },
      {
       "output_type": "stream",
       "stream": "stdout",
       "text": [
        "\r",
        "Computed features for frame 1105 of 1280 in 0.0812468528748"
       ]
      },
      {
       "output_type": "stream",
       "stream": "stdout",
       "text": [
        "\r",
        "Computed features for frame 1106 of 1280 in 0.0905559062958"
       ]
      },
      {
       "output_type": "stream",
       "stream": "stdout",
       "text": [
        "\r",
        "Computed features for frame 1107 of 1280 in 0.0799419879913"
       ]
      },
      {
       "output_type": "stream",
       "stream": "stdout",
       "text": [
        "\r",
        "Computed features for frame 1108 of 1280 in 0.0809030532837"
       ]
      },
      {
       "output_type": "stream",
       "stream": "stdout",
       "text": [
        "\r",
        "Computed features for frame 1109 of 1280 in 0.0816180706024"
       ]
      },
      {
       "output_type": "stream",
       "stream": "stdout",
       "text": [
        "\r",
        "Computed features for frame 1110 of 1280 in 0.106465816498"
       ]
      },
      {
       "output_type": "stream",
       "stream": "stdout",
       "text": [
        "\r",
        "Computed features for frame 1111 of 1280 in 0.0869030952454"
       ]
      },
      {
       "output_type": "stream",
       "stream": "stdout",
       "text": [
        "\r",
        "Computed features for frame 1112 of 1280 in 0.087119102478"
       ]
      },
      {
       "output_type": "stream",
       "stream": "stdout",
       "text": [
        "\r",
        "Computed features for frame 1113 of 1280 in 0.085235118866"
       ]
      },
      {
       "output_type": "stream",
       "stream": "stdout",
       "text": [
        "\r",
        "Computed features for frame 1114 of 1280 in 0.0884900093079"
       ]
      },
      {
       "output_type": "stream",
       "stream": "stdout",
       "text": [
        "\r",
        "Computed features for frame 1115 of 1280 in 0.0842549800873"
       ]
      },
      {
       "output_type": "stream",
       "stream": "stdout",
       "text": [
        "\r",
        "Computed features for frame 1116 of 1280 in 0.0818619728088"
       ]
      },
      {
       "output_type": "stream",
       "stream": "stdout",
       "text": [
        "\r",
        "Computed features for frame 1117 of 1280 in 0.0940589904785"
       ]
      },
      {
       "output_type": "stream",
       "stream": "stdout",
       "text": [
        "\r",
        "Computed features for frame 1118 of 1280 in 0.0843968391418"
       ]
      },
      {
       "output_type": "stream",
       "stream": "stdout",
       "text": [
        "\r",
        "Computed features for frame 1119 of 1280 in 0.0830819606781"
       ]
      },
      {
       "output_type": "stream",
       "stream": "stdout",
       "text": [
        "\r",
        "Computed features for frame 1120 of 1280 in 0.0846569538116"
       ]
      },
      {
       "output_type": "stream",
       "stream": "stdout",
       "text": [
        "\r",
        "Computed features for frame 1121 of 1280 in 0.0826389789581"
       ]
      },
      {
       "output_type": "stream",
       "stream": "stdout",
       "text": [
        "\r",
        "Computed features for frame 1122 of 1280 in 0.0826110839844"
       ]
      },
      {
       "output_type": "stream",
       "stream": "stdout",
       "text": [
        "\r",
        "Computed features for frame 1123 of 1280 in 0.0794041156769"
       ]
      },
      {
       "output_type": "stream",
       "stream": "stdout",
       "text": [
        "\r",
        "Computed features for frame 1124 of 1280 in 0.0821399688721"
       ]
      },
      {
       "output_type": "stream",
       "stream": "stdout",
       "text": [
        "\r",
        "Computed features for frame 1125 of 1280 in 0.0805909633636"
       ]
      },
      {
       "output_type": "stream",
       "stream": "stdout",
       "text": [
        "\r",
        "Computed features for frame 1126 of 1280 in 0.078556060791"
       ]
      },
      {
       "output_type": "stream",
       "stream": "stdout",
       "text": [
        "\r",
        "Computed features for frame 1127 of 1280 in 0.0770869255066"
       ]
      },
      {
       "output_type": "stream",
       "stream": "stdout",
       "text": [
        "\r",
        "Computed features for frame 1128 of 1280 in 0.0784900188446"
       ]
      },
      {
       "output_type": "stream",
       "stream": "stdout",
       "text": [
        "\r",
        "Computed features for frame 1129 of 1280 in 0.0791170597076"
       ]
      },
      {
       "output_type": "stream",
       "stream": "stdout",
       "text": [
        "\r",
        "Computed features for frame 1130 of 1280 in 0.0808160305023"
       ]
      },
      {
       "output_type": "stream",
       "stream": "stdout",
       "text": [
        "\r",
        "Computed features for frame 1131 of 1280 in 0.0787539482117"
       ]
      },
      {
       "output_type": "stream",
       "stream": "stdout",
       "text": [
        "\r",
        "Computed features for frame 1132 of 1280 in 0.08189702034"
       ]
      },
      {
       "output_type": "stream",
       "stream": "stdout",
       "text": [
        "\r",
        "Computed features for frame 1133 of 1280 in 0.0979490280151"
       ]
      },
      {
       "output_type": "stream",
       "stream": "stdout",
       "text": [
        "\r",
        "Computed features for frame 1134 of 1280 in 0.09077501297"
       ]
      },
      {
       "output_type": "stream",
       "stream": "stdout",
       "text": [
        "\r",
        "Computed features for frame 1135 of 1280 in 0.0850360393524"
       ]
      },
      {
       "output_type": "stream",
       "stream": "stdout",
       "text": [
        "\r",
        "Computed features for frame 1136 of 1280 in 0.0878310203552"
       ]
      },
      {
       "output_type": "stream",
       "stream": "stdout",
       "text": [
        "\r",
        "Computed features for frame 1137 of 1280 in 0.0895390510559"
       ]
      },
      {
       "output_type": "stream",
       "stream": "stdout",
       "text": [
        "\r",
        "Computed features for frame 1138 of 1280 in 0.0836951732635"
       ]
      },
      {
       "output_type": "stream",
       "stream": "stdout",
       "text": [
        "\r",
        "Computed features for frame 1139 of 1280 in 0.0844781398773"
       ]
      },
      {
       "output_type": "stream",
       "stream": "stdout",
       "text": [
        "\r",
        "Computed features for frame 1140 of 1280 in 0.0853488445282"
       ]
      },
      {
       "output_type": "stream",
       "stream": "stdout",
       "text": [
        "\r",
        "Computed features for frame 1141 of 1280 in 0.0800189971924"
       ]
      },
      {
       "output_type": "stream",
       "stream": "stdout",
       "text": [
        "\r",
        "Computed features for frame 1142 of 1280 in 0.0783171653748"
       ]
      },
      {
       "output_type": "stream",
       "stream": "stdout",
       "text": [
        "\r",
        "Computed features for frame 1143 of 1280 in 0.0846700668335"
       ]
      },
      {
       "output_type": "stream",
       "stream": "stdout",
       "text": [
        "\r",
        "Computed features for frame 1144 of 1280 in 0.0892460346222"
       ]
      },
      {
       "output_type": "stream",
       "stream": "stdout",
       "text": [
        "\r",
        "Computed features for frame 1145 of 1280 in 0.0873091220856"
       ]
      },
      {
       "output_type": "stream",
       "stream": "stdout",
       "text": [
        "\r",
        "Computed features for frame 1146 of 1280 in 0.0860240459442"
       ]
      },
      {
       "output_type": "stream",
       "stream": "stdout",
       "text": [
        "\r",
        "Computed features for frame 1147 of 1280 in 0.0789120197296"
       ]
      },
      {
       "output_type": "stream",
       "stream": "stdout",
       "text": [
        "\r",
        "Computed features for frame 1148 of 1280 in 0.0903549194336"
       ]
      },
      {
       "output_type": "stream",
       "stream": "stdout",
       "text": [
        "\r",
        "Computed features for frame 1149 of 1280 in 0.0871829986572"
       ]
      },
      {
       "output_type": "stream",
       "stream": "stdout",
       "text": [
        "\r",
        "Computed features for frame 1150 of 1280 in 0.0820960998535"
       ]
      },
      {
       "output_type": "stream",
       "stream": "stdout",
       "text": [
        "\r",
        "Computed features for frame 1151 of 1280 in 0.0797698497772"
       ]
      },
      {
       "output_type": "stream",
       "stream": "stdout",
       "text": [
        "\r",
        "Computed features for frame 1152 of 1280 in 0.0781860351562"
       ]
      },
      {
       "output_type": "stream",
       "stream": "stdout",
       "text": [
        "\r",
        "Computed features for frame 1153 of 1280 in 0.0798170566559"
       ]
      },
      {
       "output_type": "stream",
       "stream": "stdout",
       "text": [
        "\r",
        "Computed features for frame 1154 of 1280 in 0.0796120166779"
       ]
      },
      {
       "output_type": "stream",
       "stream": "stdout",
       "text": [
        "\r",
        "Computed features for frame 1155 of 1280 in 0.0809588432312"
       ]
      },
      {
       "output_type": "stream",
       "stream": "stdout",
       "text": [
        "\r",
        "Computed features for frame 1156 of 1280 in 0.0817320346832"
       ]
      },
      {
       "output_type": "stream",
       "stream": "stdout",
       "text": [
        "\r",
        "Computed features for frame 1157 of 1280 in 0.0789611339569"
       ]
      },
      {
       "output_type": "stream",
       "stream": "stdout",
       "text": [
        "\r",
        "Computed features for frame 1158 of 1280 in 0.0834910869598"
       ]
      },
      {
       "output_type": "stream",
       "stream": "stdout",
       "text": [
        "\r",
        "Computed features for frame 1159 of 1280 in 0.0814380645752"
       ]
      },
      {
       "output_type": "stream",
       "stream": "stdout",
       "text": [
        "\r",
        "Computed features for frame 1160 of 1280 in 0.0869700908661"
       ]
      },
      {
       "output_type": "stream",
       "stream": "stdout",
       "text": [
        "\r",
        "Computed features for frame 1161 of 1280 in 0.0862998962402"
       ]
      },
      {
       "output_type": "stream",
       "stream": "stdout",
       "text": [
        "\r",
        "Computed features for frame 1162 of 1280 in 0.105145215988"
       ]
      },
      {
       "output_type": "stream",
       "stream": "stdout",
       "text": [
        "\r",
        "Computed features for frame 1163 of 1280 in 0.105854988098"
       ]
      },
      {
       "output_type": "stream",
       "stream": "stdout",
       "text": [
        "\r",
        "Computed features for frame 1164 of 1280 in 0.108344078064"
       ]
      },
      {
       "output_type": "stream",
       "stream": "stdout",
       "text": [
        "\r",
        "Computed features for frame 1165 of 1280 in 0.0861341953278"
       ]
      },
      {
       "output_type": "stream",
       "stream": "stdout",
       "text": [
        "\r",
        "Computed features for frame 1166 of 1280 in 0.088063955307"
       ]
      },
      {
       "output_type": "stream",
       "stream": "stdout",
       "text": [
        "\r",
        "Computed features for frame 1167 of 1280 in 0.0857391357422"
       ]
      },
      {
       "output_type": "stream",
       "stream": "stdout",
       "text": [
        "\r",
        "Computed features for frame 1168 of 1280 in 0.0886878967285"
       ]
      },
      {
       "output_type": "stream",
       "stream": "stdout",
       "text": [
        "\r",
        "Computed features for frame 1169 of 1280 in 0.0857019424438"
       ]
      },
      {
       "output_type": "stream",
       "stream": "stdout",
       "text": [
        "\r",
        "Computed features for frame 1170 of 1280 in 0.0951519012451"
       ]
      },
      {
       "output_type": "stream",
       "stream": "stdout",
       "text": [
        "\r",
        "Computed features for frame 1171 of 1280 in 0.0954449176788"
       ]
      },
      {
       "output_type": "stream",
       "stream": "stdout",
       "text": [
        "\r",
        "Computed features for frame 1172 of 1280 in 0.0916719436646"
       ]
      },
      {
       "output_type": "stream",
       "stream": "stdout",
       "text": [
        "\r",
        "Computed features for frame 1173 of 1280 in 0.0789401531219"
       ]
      },
      {
       "output_type": "stream",
       "stream": "stdout",
       "text": [
        "\r",
        "Computed features for frame 1174 of 1280 in 0.0808999538422"
       ]
      },
      {
       "output_type": "stream",
       "stream": "stdout",
       "text": [
        "\r",
        "Computed features for frame 1175 of 1280 in 0.0798749923706"
       ]
      },
      {
       "output_type": "stream",
       "stream": "stdout",
       "text": [
        "\r",
        "Computed features for frame 1176 of 1280 in 0.0795149803162"
       ]
      },
      {
       "output_type": "stream",
       "stream": "stdout",
       "text": [
        "\r",
        "Computed features for frame 1177 of 1280 in 0.0843789577484"
       ]
      },
      {
       "output_type": "stream",
       "stream": "stdout",
       "text": [
        "\r",
        "Computed features for frame 1178 of 1280 in 0.0849289894104"
       ]
      },
      {
       "output_type": "stream",
       "stream": "stdout",
       "text": [
        "\r",
        "Computed features for frame 1179 of 1280 in 0.0811369419098"
       ]
      },
      {
       "output_type": "stream",
       "stream": "stdout",
       "text": [
        "\r",
        "Computed features for frame 1180 of 1280 in 0.0909481048584"
       ]
      },
      {
       "output_type": "stream",
       "stream": "stdout",
       "text": [
        "\r",
        "Computed features for frame 1181 of 1280 in 0.0814728736877"
       ]
      },
      {
       "output_type": "stream",
       "stream": "stdout",
       "text": [
        "\r",
        "Computed features for frame 1182 of 1280 in 0.081729888916"
       ]
      },
      {
       "output_type": "stream",
       "stream": "stdout",
       "text": [
        "\r",
        "Computed features for frame 1183 of 1280 in 0.0796988010406"
       ]
      },
      {
       "output_type": "stream",
       "stream": "stdout",
       "text": [
        "\r",
        "Computed features for frame 1184 of 1280 in 0.0815041065216"
       ]
      },
      {
       "output_type": "stream",
       "stream": "stdout",
       "text": [
        "\r",
        "Computed features for frame 1185 of 1280 in 0.0827090740204"
       ]
      },
      {
       "output_type": "stream",
       "stream": "stdout",
       "text": [
        "\r",
        "Computed features for frame 1186 of 1280 in 0.0927050113678"
       ]
      },
      {
       "output_type": "stream",
       "stream": "stdout",
       "text": [
        "\r",
        "Computed features for frame 1187 of 1280 in 0.0957539081573"
       ]
      },
      {
       "output_type": "stream",
       "stream": "stdout",
       "text": [
        "\r",
        "Computed features for frame 1188 of 1280 in 0.0815489292145"
       ]
      },
      {
       "output_type": "stream",
       "stream": "stdout",
       "text": [
        "\r",
        "Computed features for frame 1189 of 1280 in 0.0811409950256"
       ]
      },
      {
       "output_type": "stream",
       "stream": "stdout",
       "text": [
        "\r",
        "Computed features for frame 1190 of 1280 in 0.0793330669403"
       ]
      },
      {
       "output_type": "stream",
       "stream": "stdout",
       "text": [
        "\r",
        "Computed features for frame 1191 of 1280 in 0.0803551673889"
       ]
      },
      {
       "output_type": "stream",
       "stream": "stdout",
       "text": [
        "\r",
        "Computed features for frame 1192 of 1280 in 0.0966429710388"
       ]
      },
      {
       "output_type": "stream",
       "stream": "stdout",
       "text": [
        "\r",
        "Computed features for frame 1193 of 1280 in 0.0791819095612"
       ]
      },
      {
       "output_type": "stream",
       "stream": "stdout",
       "text": [
        "\r",
        "Computed features for frame 1194 of 1280 in 0.0782341957092"
       ]
      },
      {
       "output_type": "stream",
       "stream": "stdout",
       "text": [
        "\r",
        "Computed features for frame 1195 of 1280 in 0.0848209857941"
       ]
      },
      {
       "output_type": "stream",
       "stream": "stdout",
       "text": [
        "\r",
        "Computed features for frame 1196 of 1280 in 0.0848197937012"
       ]
      },
      {
       "output_type": "stream",
       "stream": "stdout",
       "text": [
        "\r",
        "Computed features for frame 1197 of 1280 in 0.0874989032745"
       ]
      },
      {
       "output_type": "stream",
       "stream": "stdout",
       "text": [
        "\r",
        "Computed features for frame 1198 of 1280 in 0.0782790184021"
       ]
      },
      {
       "output_type": "stream",
       "stream": "stdout",
       "text": [
        "\r",
        "Computed features for frame 1199 of 1280 in 0.07932305336"
       ]
      },
      {
       "output_type": "stream",
       "stream": "stdout",
       "text": [
        "\r",
        "Computed features for frame 1200 of 1280 in 0.0831460952759"
       ]
      },
      {
       "output_type": "stream",
       "stream": "stdout",
       "text": [
        "\r",
        "Computed features for frame 1201 of 1280 in 0.0765390396118"
       ]
      },
      {
       "output_type": "stream",
       "stream": "stdout",
       "text": [
        "\r",
        "Computed features for frame 1202 of 1280 in 0.077574968338"
       ]
      },
      {
       "output_type": "stream",
       "stream": "stdout",
       "text": [
        "\r",
        "Computed features for frame 1203 of 1280 in 0.0813870429993"
       ]
      },
      {
       "output_type": "stream",
       "stream": "stdout",
       "text": [
        "\r",
        "Computed features for frame 1204 of 1280 in 0.0839779376984"
       ]
      },
      {
       "output_type": "stream",
       "stream": "stdout",
       "text": [
        "\r",
        "Computed features for frame 1205 of 1280 in 0.080934047699"
       ]
      },
      {
       "output_type": "stream",
       "stream": "stdout",
       "text": [
        "\r",
        "Computed features for frame 1206 of 1280 in 0.0814950466156"
       ]
      },
      {
       "output_type": "stream",
       "stream": "stdout",
       "text": [
        "\r",
        "Computed features for frame 1207 of 1280 in 0.0809118747711"
       ]
      },
      {
       "output_type": "stream",
       "stream": "stdout",
       "text": [
        "\r",
        "Computed features for frame 1208 of 1280 in 0.0848660469055"
       ]
      },
      {
       "output_type": "stream",
       "stream": "stdout",
       "text": [
        "\r",
        "Computed features for frame 1209 of 1280 in 0.0829629898071"
       ]
      },
      {
       "output_type": "stream",
       "stream": "stdout",
       "text": [
        "\r",
        "Computed features for frame 1210 of 1280 in 0.0793969631195"
       ]
      },
      {
       "output_type": "stream",
       "stream": "stdout",
       "text": [
        "\r",
        "Computed features for frame 1211 of 1280 in 0.100072145462"
       ]
      },
      {
       "output_type": "stream",
       "stream": "stdout",
       "text": [
        "\r",
        "Computed features for frame 1212 of 1280 in 0.10512804985"
       ]
      },
      {
       "output_type": "stream",
       "stream": "stdout",
       "text": [
        "\r",
        "Computed features for frame 1213 of 1280 in 0.086366891861"
       ]
      },
      {
       "output_type": "stream",
       "stream": "stdout",
       "text": [
        "\r",
        "Computed features for frame 1214 of 1280 in 0.0802800655365"
       ]
      },
      {
       "output_type": "stream",
       "stream": "stdout",
       "text": [
        "\r",
        "Computed features for frame 1215 of 1280 in 0.0907740592957"
       ]
      },
      {
       "output_type": "stream",
       "stream": "stdout",
       "text": [
        "\r",
        "Computed features for frame 1216 of 1280 in 0.103057861328"
       ]
      },
      {
       "output_type": "stream",
       "stream": "stdout",
       "text": [
        "\r",
        "Computed features for frame 1217 of 1280 in 0.105429887772"
       ]
      },
      {
       "output_type": "stream",
       "stream": "stdout",
       "text": [
        "\r",
        "Computed features for frame 1218 of 1280 in 0.105916976929"
       ]
      },
      {
       "output_type": "stream",
       "stream": "stdout",
       "text": [
        "\r",
        "Computed features for frame 1219 of 1280 in 0.0851140022278"
       ]
      },
      {
       "output_type": "stream",
       "stream": "stdout",
       "text": [
        "\r",
        "Computed features for frame 1220 of 1280 in 0.0848951339722"
       ]
      },
      {
       "output_type": "stream",
       "stream": "stdout",
       "text": [
        "\r",
        "Computed features for frame 1221 of 1280 in 0.0829300880432"
       ]
      },
      {
       "output_type": "stream",
       "stream": "stdout",
       "text": [
        "\r",
        "Computed features for frame 1222 of 1280 in 0.0871338844299"
       ]
      },
      {
       "output_type": "stream",
       "stream": "stdout",
       "text": [
        "\r",
        "Computed features for frame 1223 of 1280 in 0.0892159938812"
       ]
      },
      {
       "output_type": "stream",
       "stream": "stdout",
       "text": [
        "\r",
        "Computed features for frame 1224 of 1280 in 0.082367181778"
       ]
      },
      {
       "output_type": "stream",
       "stream": "stdout",
       "text": [
        "\r",
        "Computed features for frame 1225 of 1280 in 0.0793659687042"
       ]
      },
      {
       "output_type": "stream",
       "stream": "stdout",
       "text": [
        "\r",
        "Computed features for frame 1226 of 1280 in 0.0962500572205"
       ]
      },
      {
       "output_type": "stream",
       "stream": "stdout",
       "text": [
        "\r",
        "Computed features for frame 1227 of 1280 in 0.104900121689"
       ]
      },
      {
       "output_type": "stream",
       "stream": "stdout",
       "text": [
        "\r",
        "Computed features for frame 1228 of 1280 in 0.100871086121"
       ]
      },
      {
       "output_type": "stream",
       "stream": "stdout",
       "text": [
        "\r",
        "Computed features for frame 1229 of 1280 in 0.0935800075531"
       ]
      },
      {
       "output_type": "stream",
       "stream": "stdout",
       "text": [
        "\r",
        "Computed features for frame 1230 of 1280 in 0.105726003647"
       ]
      },
      {
       "output_type": "stream",
       "stream": "stdout",
       "text": [
        "\r",
        "Computed features for frame 1231 of 1280 in 0.0850348472595"
       ]
      },
      {
       "output_type": "stream",
       "stream": "stdout",
       "text": [
        "\r",
        "Computed features for frame 1232 of 1280 in 0.0971970558167"
       ]
      },
      {
       "output_type": "stream",
       "stream": "stdout",
       "text": [
        "\r",
        "Computed features for frame 1233 of 1280 in 0.0799779891968"
       ]
      },
      {
       "output_type": "stream",
       "stream": "stdout",
       "text": [
        "\r",
        "Computed features for frame 1234 of 1280 in 0.0799839496613"
       ]
      },
      {
       "output_type": "stream",
       "stream": "stdout",
       "text": [
        "\r",
        "Computed features for frame 1235 of 1280 in 0.0830960273743"
       ]
      },
      {
       "output_type": "stream",
       "stream": "stdout",
       "text": [
        "\r",
        "Computed features for frame 1236 of 1280 in 0.0802290439606"
       ]
      },
      {
       "output_type": "stream",
       "stream": "stdout",
       "text": [
        "\r",
        "Computed features for frame 1237 of 1280 in 0.0930149555206"
       ]
      },
      {
       "output_type": "stream",
       "stream": "stdout",
       "text": [
        "\r",
        "Computed features for frame 1238 of 1280 in 0.0836541652679"
       ]
      },
      {
       "output_type": "stream",
       "stream": "stdout",
       "text": [
        "\r",
        "Computed features for frame 1239 of 1280 in 0.0864949226379"
       ]
      },
      {
       "output_type": "stream",
       "stream": "stdout",
       "text": [
        "\r",
        "Computed features for frame 1240 of 1280 in 0.0825340747833"
       ]
      },
      {
       "output_type": "stream",
       "stream": "stdout",
       "text": [
        "\r",
        "Computed features for frame 1241 of 1280 in 0.0885100364685"
       ]
      },
      {
       "output_type": "stream",
       "stream": "stdout",
       "text": [
        "\r",
        "Computed features for frame 1242 of 1280 in 0.0801599025726"
       ]
      },
      {
       "output_type": "stream",
       "stream": "stdout",
       "text": [
        "\r",
        "Computed features for frame 1243 of 1280 in 0.0826840400696"
       ]
      },
      {
       "output_type": "stream",
       "stream": "stdout",
       "text": [
        "\r",
        "Computed features for frame 1244 of 1280 in 0.0825839042664"
       ]
      },
      {
       "output_type": "stream",
       "stream": "stdout",
       "text": [
        "\r",
        "Computed features for frame 1245 of 1280 in 0.0805621147156"
       ]
      },
      {
       "output_type": "stream",
       "stream": "stdout",
       "text": [
        "\r",
        "Computed features for frame 1246 of 1280 in 0.0792350769043"
       ]
      },
      {
       "output_type": "stream",
       "stream": "stdout",
       "text": [
        "\r",
        "Computed features for frame 1247 of 1280 in 0.0822160243988"
       ]
      },
      {
       "output_type": "stream",
       "stream": "stdout",
       "text": [
        "\r",
        "Computed features for frame 1248 of 1280 in 0.0820989608765"
       ]
      },
      {
       "output_type": "stream",
       "stream": "stdout",
       "text": [
        "\r",
        "Computed features for frame 1249 of 1280 in 0.0878050327301"
       ]
      },
      {
       "output_type": "stream",
       "stream": "stdout",
       "text": [
        "\r",
        "Computed features for frame 1250 of 1280 in 0.0789110660553"
       ]
      },
      {
       "output_type": "stream",
       "stream": "stdout",
       "text": [
        "\r",
        "Computed features for frame 1251 of 1280 in 0.0883390903473"
       ]
      },
      {
       "output_type": "stream",
       "stream": "stdout",
       "text": [
        "\r",
        "Computed features for frame 1252 of 1280 in 0.0801680088043"
       ]
      },
      {
       "output_type": "stream",
       "stream": "stdout",
       "text": [
        "\r",
        "Computed features for frame 1253 of 1280 in 0.0785341262817"
       ]
      },
      {
       "output_type": "stream",
       "stream": "stdout",
       "text": [
        "\r",
        "Computed features for frame 1254 of 1280 in 0.0776109695435"
       ]
      },
      {
       "output_type": "stream",
       "stream": "stdout",
       "text": [
        "\r",
        "Computed features for frame 1255 of 1280 in 0.0766968727112"
       ]
      },
      {
       "output_type": "stream",
       "stream": "stdout",
       "text": [
        "\r",
        "Computed features for frame 1256 of 1280 in 0.0889699459076"
       ]
      },
      {
       "output_type": "stream",
       "stream": "stdout",
       "text": [
        "\r",
        "Computed features for frame 1257 of 1280 in 0.0896089076996"
       ]
      },
      {
       "output_type": "stream",
       "stream": "stdout",
       "text": [
        "\r",
        "Computed features for frame 1258 of 1280 in 0.0878012180328"
       ]
      },
      {
       "output_type": "stream",
       "stream": "stdout",
       "text": [
        "\r",
        "Computed features for frame 1259 of 1280 in 0.0911219120026"
       ]
      },
      {
       "output_type": "stream",
       "stream": "stdout",
       "text": [
        "\r",
        "Computed features for frame 1260 of 1280 in 0.0946521759033"
       ]
      },
      {
       "output_type": "stream",
       "stream": "stdout",
       "text": [
        "\r",
        "Computed features for frame 1261 of 1280 in 0.0792620182037"
       ]
      },
      {
       "output_type": "stream",
       "stream": "stdout",
       "text": [
        "\r",
        "Computed features for frame 1262 of 1280 in 0.0835211277008"
       ]
      },
      {
       "output_type": "stream",
       "stream": "stdout",
       "text": [
        "\r",
        "Computed features for frame 1263 of 1280 in 0.091019153595"
       ]
      },
      {
       "output_type": "stream",
       "stream": "stdout",
       "text": [
        "\r",
        "Computed features for frame 1264 of 1280 in 0.0850870609283"
       ]
      },
      {
       "output_type": "stream",
       "stream": "stdout",
       "text": [
        "\r",
        "Computed features for frame 1265 of 1280 in 0.0894930362701"
       ]
      },
      {
       "output_type": "stream",
       "stream": "stdout",
       "text": [
        "\r",
        "Computed features for frame 1266 of 1280 in 0.0843298435211"
       ]
      },
      {
       "output_type": "stream",
       "stream": "stdout",
       "text": [
        "\r",
        "Computed features for frame 1267 of 1280 in 0.0772252082825"
       ]
      },
      {
       "output_type": "stream",
       "stream": "stdout",
       "text": [
        "\r",
        "Computed features for frame 1268 of 1280 in 0.079558134079"
       ]
      },
      {
       "output_type": "stream",
       "stream": "stdout",
       "text": [
        "\r",
        "Computed features for frame 1269 of 1280 in 0.080237865448"
       ]
      },
      {
       "output_type": "stream",
       "stream": "stdout",
       "text": [
        "\r",
        "Computed features for frame 1270 of 1280 in 0.0827040672302"
       ]
      },
      {
       "output_type": "stream",
       "stream": "stdout",
       "text": [
        "\r",
        "Computed features for frame 1271 of 1280 in 0.0796060562134"
       ]
      },
      {
       "output_type": "stream",
       "stream": "stdout",
       "text": [
        "\r",
        "Computed features for frame 1272 of 1280 in 0.0938489437103"
       ]
      },
      {
       "output_type": "stream",
       "stream": "stdout",
       "text": [
        "\r",
        "Computed features for frame 1273 of 1280 in 0.0809910297394"
       ]
      },
      {
       "output_type": "stream",
       "stream": "stdout",
       "text": [
        "\r",
        "Computed features for frame 1274 of 1280 in 0.0896739959717"
       ]
      },
      {
       "output_type": "stream",
       "stream": "stdout",
       "text": [
        "\r",
        "Computed features for frame 1275 of 1280 in 0.0963108539581"
       ]
      },
      {
       "output_type": "stream",
       "stream": "stdout",
       "text": [
        "\r",
        "Computed features for frame 1276 of 1280 in 0.0854780673981"
       ]
      },
      {
       "output_type": "stream",
       "stream": "stdout",
       "text": [
        "\r",
        "Computed features for frame 1277 of 1280 in 0.0787160396576"
       ]
      },
      {
       "output_type": "stream",
       "stream": "stdout",
       "text": [
        "\r",
        "Computed features for frame 1278 of 1280 in 0.082172870636"
       ]
      },
      {
       "output_type": "stream",
       "stream": "stdout",
       "text": [
        "\r",
        "Computed features for frame 1279 of 1280 in 0.0914180278778"
       ]
      },
      {
       "output_type": "stream",
       "stream": "stdout",
       "text": [
        "\n",
        "finished in 106.909737825\n"
       ]
      },
      {
       "metadata": {},
       "output_type": "pyout",
       "prompt_number": 3,
       "text": [
        "<matplotlib.image.AxesImage at 0x7f94d4cfea50>"
       ]
      }
     ],
     "prompt_number": 3
    },
    {
     "cell_type": "code",
     "collapsed": false,
     "input": [
      "## video field data\n",
      "print \"fg histogram features: \", features.shape\n",
      "numStates = features.shape[0]-2\n",
      "descriptorSize = features.shape[1]\n",
      "## fs contains all the fs, i.e. frame states\n",
      "## f = (x, v, y), x is pixel data/fg features, v = x'-x ('=i+1), y = x\"-x'\n",
      "## compute x's\n",
      "fs = np.copy(np.reshape(features[0:numStates, :], (numStates, descriptorSize, 1)))\n",
      "## compute v's\n",
      "fs = np.concatenate((fs, (features[1:-1, :]-features[0:-2, :]).reshape((numStates, descriptorSize, 1))), axis=-1)\n",
      "## compute y's\n",
      "fs = np.concatenate((fs, (features[2:, :]-features[1:-1, :]).reshape((numStates, descriptorSize, 1))), axis=-1)\n",
      "print fs.shape[0], \"frame states(lost\", features.shape[0]-numStates, \"because I need extra frames at\",\n",
      "print \"the end for computing v and y),\", \"features size is\", fs.shape[1]\n",
      "\n",
      "## load distance matrix as dissimilarity matrix d\n",
      "## d(f, f') says how dissimilar states f and f' are from each other\n",
      "distanceMatrix = np.array(np.load(outputData + \"hist2demd_16x16_distMat\" + \".npy\"), dtype=np.float)\n",
      "distanceMatrix /= np.max(distanceMatrix)\n",
      "distMat = vtu.filterDistanceMatrix(distanceMatrix, 4, True)\n",
      "# figure(); imshow(distMat, interpolation='nearest')\n",
      "d = np.copy(distMat)\n",
      "## troncate fs to match indices in d to indices in fs\n",
      "fs = np.copy(fs[4:numStates-2, :, :])\n",
      "print fs.shape[0], \"frame states(lost\", numStates-fs.shape[0], \"because I had to filter 8 frames out for \",\n",
      "print \"dynamicism preservation),\", \"features size is\", fs.shape[1]\n",
      "numStates = fs.shape[0]"
     ],
     "language": "python",
     "metadata": {},
     "outputs": [
      {
       "output_type": "stream",
       "stream": "stdout",
       "text": [
        "fg histogram features:  (1280, 16)\n",
        "1278 frame states(lost 2 because I need extra frames at the end for computing v and y), features size is 16\n",
        "1272"
       ]
      },
      {
       "output_type": "stream",
       "stream": "stdout",
       "text": [
        " frame states(lost 6 because I had to filter 8 frames out for  dynamicism preservation), features size is 16\n"
       ]
      }
     ],
     "prompt_number": 5
    },
    {
     "cell_type": "code",
     "collapsed": false,
     "input": [
      "def estimateFutureCost(alpha, p, distanceMatrixFilt, weights) :\n",
      "\n",
      "        distMatFilt = distanceMatrixFilt[1:distanceMatrixFilt.shape[1], 0:-1]\n",
      "        distMat = distMatFilt ** p\n",
      "        \n",
      "        last = np.copy(distMat)\n",
      "        current = np.zeros(distMat.shape)\n",
      "        \n",
      "        ## while distance between last and current is larger than threshold\n",
      "        iterations = 0 \n",
      "        while np.linalg.norm(last - current) > 0.1 : \n",
      "            for i in range(distMat.shape[0]-1, -1, -1) :\n",
      "                m = np.min(distMat*weights[1:distanceMatrixFilt.shape[1], 0:-1], axis=1)\n",
      "                distMat[i, :] = (distMatFilt[i, :] ** p) + alpha*m\n",
      "                \n",
      "            last = np.copy(current)\n",
      "            current = np.copy(distMat)\n",
      "            \n",
      "            sys.stdout.write('\\r' + \"Iteration \" + np.string_(iterations) + \"; distance \" + np.string_(np.linalg.norm(last - current)))\n",
      "            sys.stdout.flush()\n",
      "            \n",
      "            iterations += 1\n",
      "        \n",
      "        print\n",
      "        print 'finished in', iterations, 'iterations'\n",
      "        \n",
      "        return distMat\n",
      "    \n",
      "dFut = estimateFutureCost(0.999, 2.0, np.copy(d), np.ones(d.shape))"
     ],
     "language": "python",
     "metadata": {},
     "outputs": [
      {
       "output_type": "stream",
       "stream": "stdout",
       "text": [
        "\r",
        "Iteration 0; distance 9686.15685467"
       ]
      },
      {
       "output_type": "stream",
       "stream": "stdout",
       "text": [
        "\r",
        "Iteration 1; distance 40.8868525008"
       ]
      },
      {
       "output_type": "stream",
       "stream": "stdout",
       "text": [
        "\r",
        "Iteration 2; distance 35.9326356396"
       ]
      },
      {
       "output_type": "stream",
       "stream": "stdout",
       "text": [
        "\r",
        "Iteration 3; distance 33.4877065865"
       ]
      },
      {
       "output_type": "stream",
       "stream": "stdout",
       "text": [
        "\r",
        "Iteration 4; distance 30.3138882796"
       ]
      },
      {
       "output_type": "stream",
       "stream": "stdout",
       "text": [
        "\r",
        "Iteration 5; distance 26.7707667765"
       ]
      },
      {
       "output_type": "stream",
       "stream": "stdout",
       "text": [
        "\r",
        "Iteration 6; distance 23.7677475356"
       ]
      },
      {
       "output_type": "stream",
       "stream": "stdout",
       "text": [
        "\r",
        "Iteration 7; distance 21.4582803619"
       ]
      },
      {
       "output_type": "stream",
       "stream": "stdout",
       "text": [
        "\r",
        "Iteration 8; distance 19.7132384365"
       ]
      },
      {
       "output_type": "stream",
       "stream": "stdout",
       "text": [
        "\r",
        "Iteration 9; distance 18.4087583961"
       ]
      },
      {
       "output_type": "stream",
       "stream": "stdout",
       "text": [
        "\r",
        "Iteration 10; distance 17.4526202621"
       ]
      },
      {
       "output_type": "stream",
       "stream": "stdout",
       "text": [
        "\r",
        "Iteration 11; distance 16.762834534"
       ]
      },
      {
       "output_type": "stream",
       "stream": "stdout",
       "text": [
        "\r",
        "Iteration 12; distance 16.2682146671"
       ]
      },
      {
       "output_type": "stream",
       "stream": "stdout",
       "text": [
        "\r",
        "Iteration 13; distance 12.8138009359"
       ]
      },
      {
       "output_type": "stream",
       "stream": "stdout",
       "text": [
        "\r",
        "Iteration 14; distance 6.42008953748"
       ]
      },
      {
       "output_type": "stream",
       "stream": "stdout",
       "text": [
        "\r",
        "Iteration 15; distance 5.38116774738"
       ]
      },
      {
       "output_type": "stream",
       "stream": "stdout",
       "text": [
        "\r",
        "Iteration 16; distance 4.79815502785"
       ]
      },
      {
       "output_type": "stream",
       "stream": "stdout",
       "text": [
        "\r",
        "Iteration 17; distance 4.31083369017"
       ]
      },
      {
       "output_type": "stream",
       "stream": "stdout",
       "text": [
        "\r",
        "Iteration 18; distance 3.09788771726"
       ]
      },
      {
       "output_type": "stream",
       "stream": "stdout",
       "text": [
        "\r",
        "Iteration 19; distance 2.07257581852"
       ]
      },
      {
       "output_type": "stream",
       "stream": "stdout",
       "text": [
        "\r",
        "Iteration 20; distance 1.7172052725"
       ]
      },
      {
       "output_type": "stream",
       "stream": "stdout",
       "text": [
        "\r",
        "Iteration 21; distance 1.42276770844"
       ]
      },
      {
       "output_type": "stream",
       "stream": "stdout",
       "text": [
        "\r",
        "Iteration 22; distance 1.1788153604"
       ]
      },
      {
       "output_type": "stream",
       "stream": "stdout",
       "text": [
        "\r",
        "Iteration 23; distance 0.976691870133"
       ]
      },
      {
       "output_type": "stream",
       "stream": "stdout",
       "text": [
        "\r",
        "Iteration 24; distance 0.809225126535"
       ]
      },
      {
       "output_type": "stream",
       "stream": "stdout",
       "text": [
        "\r",
        "Iteration 25; distance 0.670472771855"
       ]
      },
      {
       "output_type": "stream",
       "stream": "stdout",
       "text": [
        "\r",
        "Iteration 26; distance 0.555511344196"
       ]
      },
      {
       "output_type": "stream",
       "stream": "stdout",
       "text": [
        "\r",
        "Iteration 27; distance 0.460261574347"
       ]
      },
      {
       "output_type": "stream",
       "stream": "stdout",
       "text": [
        "\r",
        "Iteration 28; distance 0.381343637773"
       ]
      },
      {
       "output_type": "stream",
       "stream": "stdout",
       "text": [
        "\r",
        "Iteration 29; distance 0.315957225577"
       ]
      },
      {
       "output_type": "stream",
       "stream": "stdout",
       "text": [
        "\r",
        "Iteration 30; distance 0.261782178869"
       ]
      },
      {
       "output_type": "stream",
       "stream": "stdout",
       "text": [
        "\r",
        "Iteration 31; distance 0.216896160701"
       ]
      },
      {
       "output_type": "stream",
       "stream": "stdout",
       "text": [
        "\r",
        "Iteration 32; distance 0.179706444228"
       ]
      },
      {
       "output_type": "stream",
       "stream": "stdout",
       "text": [
        "\r",
        "Iteration 33; distance 0.148893396696"
       ]
      },
      {
       "output_type": "stream",
       "stream": "stdout",
       "text": [
        "\r",
        "Iteration 34; distance 0.123363653847"
       ]
      },
      {
       "output_type": "stream",
       "stream": "stdout",
       "text": [
        "\r",
        "Iteration 35; distance 0.102211323189"
       ]
      },
      {
       "output_type": "stream",
       "stream": "stdout",
       "text": [
        "\r",
        "Iteration 36; distance 0.0846858394856"
       ]
      },
      {
       "output_type": "stream",
       "stream": "stdout",
       "text": [
        "\n",
        "finished in 37 iterations\n"
       ]
      }
     ],
     "prompt_number": 5
    },
    {
     "cell_type": "code",
     "collapsed": false,
     "input": [
      "## normalize dFut so it goes from 0 to 1 to get the extraRewards\n",
      "extraRewards = np.copy(dFut)\n",
      "mins = np.repeat(np.reshape(np.min(extraRewards, axis=-1), (extraRewards.shape[0], 1)), extraRewards.shape[0], axis=-1)\n",
      "diffs = np.repeat(np.reshape(np.max(extraRewards, axis=-1) - np.min(extraRewards, axis=-1), (extraRewards.shape[0], 1)), extraRewards.shape[0], axis=-1)\n",
      "extraRewards = -(extraRewards - mins)/diffs\n",
      "## remove data about last frame since I wouldn't have info about it in extraRewards\n",
      "d = np.copy(d[0:-1, 0:-1])\n",
      "## copy filtered d to dFilt\n",
      "dFilt = np.copy(d)\n",
      "## troncate fs to match indices in d to indices in fs\n",
      "fs = np.copy(fs[0:-1, :, :])\n",
      "print fs.shape[0], \"frame states(lost\", numStates-fs.shape[0], \"because future cost estimation does not\",\n",
      "print \"have info about last frame),\", \"features size is\", fs.shape[1]\n",
      "numStates = fs.shape[0]"
     ],
     "language": "python",
     "metadata": {},
     "outputs": [
      {
       "output_type": "stream",
       "stream": "stdout",
       "text": [
        "1271 frame states(lost 1 because future cost estimation does not have info about last frame), features size is 16\n"
       ]
      }
     ],
     "prompt_number": 6
    },
    {
     "cell_type": "code",
     "collapsed": false,
     "input": [
      "d = np.copy(dFut)\n",
      "# d = np.copy(dFilt)"
     ],
     "language": "python",
     "metadata": {},
     "outputs": [],
     "prompt_number": 7
    },
    {
     "cell_type": "code",
     "collapsed": false,
     "input": [
      "## find k-nearest neighbors based on dissimilarity matrix\n",
      "k = 15\n",
      "neighbours = np.argsort(d+(np.eye(d.shape[0])*np.max(d)+1))[:, 0:k] #np.argsort(d)[:, 0:k] # we don't want ourselves as neighbour\n",
      "# figure(); imshow(neighbours)\n",
      "\n",
      "# w are similarity weights\n",
      "w = 1/(d[np.reshape(range(d.shape[0]), (d.shape[0], 1)).repeat(k, axis=-1), neighbours]**2)#(np.sort(d)[:, 1:k+1]**2)\n",
      "# normalize to make weights sum to 1\n",
      "w /= np.repeat(np.reshape(np.sum(w, axis=-1), (numStates, 1)), k, axis=-1)"
     ],
     "language": "python",
     "metadata": {},
     "outputs": [],
     "prompt_number": 8
    },
    {
     "cell_type": "code",
     "collapsed": false,
     "input": [
      "print neighbours[234, :]\n",
      "print w[234, :], np.sum(w[234, :])"
     ],
     "language": "python",
     "metadata": {},
     "outputs": [
      {
       "output_type": "stream",
       "stream": "stdout",
       "text": [
        "[235 236 247 237  33 765 795 764 233 872 246 248  71 794 853]\n",
        "[ 0.69426705  0.11032388  0.0376324   0.02422947  0.01476097  0.01468229\n",
        "  0.01422956  0.01306702  0.01265558  0.01247948  0.01241458  0.01105723\n",
        "  0.00962517  0.00936339  0.00921193] 1.0\n"
       ]
      }
     ],
     "prompt_number": 9
    },
    {
     "cell_type": "code",
     "collapsed": false,
     "input": [
      "print neighbours[234, :]\n",
      "print w[234, :]"
     ],
     "language": "python",
     "metadata": {},
     "outputs": [
      {
       "output_type": "stream",
       "stream": "stdout",
       "text": [
        "[233 235 871 246 764 236 763 872  32  33 852 232 807 806 737]\n",
        "[ 0.14900866  0.14781845  0.07050264  0.06490585  0.06272493  0.06070396\n",
        "  0.06029096  0.05266059  0.05117636  0.04874911  0.04867451  0.04734257\n",
        "  0.04530793  0.0452244   0.04490906]\n"
       ]
      }
     ],
     "prompt_number": 11
    },
    {
     "cell_type": "code",
     "collapsed": false,
     "input": [
      "# figure();imshow(d*(np.eye(d.shape[0])*np.max(d)+1), interpolation='nearest')\n",
      "print np.argsort(d+(np.eye(d.shape[0])*np.max(d)+1))[:, 0:k][106, :]\n",
      "print neighbours[106, :]\n",
      "print w[106, :]\n",
      "print A[106, 0, :]\n",
      "print np.concatenate(([1], w[106, 1:]))/np.sum(np.concatenate(([1], w[106, 1:])))\n",
      "print A[106, 1, :]"
     ],
     "language": "python",
     "metadata": {},
     "outputs": [
      {
       "output_type": "stream",
       "stream": "stdout",
       "text": [
        "[107 108 109 110 105 111 104 123 124 122 114 115 103 112 102]\n",
        "[107 108 109 110 105 111 104 123 124 122 114 115 103 112 102]\n",
        "[ 0.32744551  0.14030015  0.0723538   0.07083088  0.0659481   0.04028742\n",
        "  0.03843435  0.03634907  0.03295409  0.03188396  0.03037224  0.02998636\n",
        "  0.02936323  0.0275421   0.02594874]\n",
        "[ 0.59788784  0.08388375  0.04325946  0.04234892  0.03942957  0.02408736\n",
        "  0.02297943  0.02173267  0.01970285  0.01906303  0.01815919  0.01792848\n",
        "  0.01755592  0.01646709  0.01551444]\n",
        "[ 0.59788784  0.08388375  0.04325946  0.04234892  0.03942957  0.02408736\n",
        "  0.02297943  0.02173267  0.01970285  0.01906303  0.01815919  0.01792848\n",
        "  0.01755592  0.01646709  0.01551444]\n",
        "[ 0.17607439  0.53772118  0.03890617  0.03808726  0.03546169  0.0216634\n",
        "  0.02066696  0.01954567  0.01772011  0.01714468  0.0163318   0.0161243\n",
        "  0.01578923  0.01480997  0.01395319]\n"
       ]
      }
     ],
     "prompt_number": 30
    },
    {
     "cell_type": "code",
     "collapsed": false,
     "input": [
      "def integrateFrameState(frameState, action, neighbours, delta, neighboursIndices) :\n",
      "    \"\"\"Computes a new frame state from frameState given action weights and neighbours to interpolate from.\n",
      "    \n",
      "           frameState: Nx3 array containing (x, v, y), with N the descriptor size\n",
      "           action: 1xK array of weights\n",
      "           neighbours: 1xK frame states\n",
      "           delta: tugging parameter in [0, 1]\n",
      "           neighboursIndices: contains the indices in fs of the given neighbours\n",
      "           \n",
      "        return: newFrameState\"\"\"\n",
      "    if len(action) != neighbours.shape[0] :\n",
      "        raise Exception(\"Number of action weights and neighbours does not match\")\n",
      "    \n",
      "    newFrameState = np.zeros(frameState.shape)\n",
      "    \n",
      "    descriptorSize = neighbours.shape[1]\n",
      "    k = len(action)\n",
      "    actionWeights = np.repeat(np.reshape(action, (k, 1)), descriptorSize, axis=-1)\n",
      "    closestFrameState = neighbours[0, :, :]\n",
      "    \n",
      "    ## interpolate new pose based on velocities v (equation 5)\n",
      "    newFrameState[:, POSE] = frameState[:, POSE] + (1-delta)*np.sum(actionWeights*neighbours[:, :, VELOCITY], axis=0) + delta*(closestFrameState[:, POSE]+closestFrameState[:, VELOCITY]-frameState[:, POSE])\n",
      "    ## interpolate new velocity based on future velocities y (equation 6)\n",
      "    newFrameState[:, VELOCITY] = (1-delta)*np.sum(actionWeights*neighbours[:, :, FUT_VELOCITY], axis=0) + delta*closestFrameState[:, FUT_VELOCITY]\n",
      "    ## hack to avoid the interpolation thing\n",
      "    return np.copy(neighbours[np.argmax(action), :, :]), neighboursIndices[np.argmax(action)] #newFrameState\n",
      "\n",
      "def integrateTaskState(taskState, action, neighbours, delta, neighboursIndices, taskParamsValues) :\n",
      "    \"\"\"Computes a new task state with a newly integrated frame state and update task parameters.\n",
      "    \n",
      "           taskState: dict {'frameState':a frame state, 'taskParams': theta task parameters}\n",
      "           action: 1xK array of weights\n",
      "           neighbours: 1xK frame states\n",
      "           delta: tugging parameter in [0, 1]\n",
      "           neighboursIndices: contains the indices in fs of the given neighbours\n",
      "           taskParamsValues: contains values of task parameters for the full set of frame states\n",
      "           \n",
      "        return: newTaskState\"\"\"\n",
      "    newFrameState, newIdx = integrateFrameState(taskState['frameState'], action, neighbours, delta, neighboursIndices)\n",
      "    newTaskState = {'frameState':newFrameState, 'taskParams':taskParamsValues[newIdx, :]}\n",
      "    \n",
      "    return newTaskState, newIdx\n",
      "    "
     ],
     "language": "python",
     "metadata": {},
     "outputs": [],
     "prompt_number": 10
    },
    {
     "cell_type": "code",
     "collapsed": false,
     "input": [
      "## test task state integration function\n",
      "a = np.zeros(k)\n",
      "a[k/2] = 1\n",
      "fIdx = 300\n",
      "f = fs[fIdx, :, :]\n",
      "ns = fs[neighbours[fIdx, :], :, :]\n",
      "labels = np.load(outputData + \"hist2demd_mult0.02_16x16_labels.npy\")[()]['labelProbs']\n",
      "newT, newIdx = integrateTaskState({'frameState': f, 'taskParams': labels[fIdx, :]}, a, ns, 1.0, neighbours[fIdx, :], labels)\n",
      "print newT, newIdx\n",
      "print fs[newIdx, :, :]\n",
      "print labels[newIdx, :]"
     ],
     "language": "python",
     "metadata": {},
     "outputs": [
      {
       "output_type": "stream",
       "stream": "stdout",
       "text": [
        "{'frameState': array([[  0.00000000e+00,   0.00000000e+00,   0.00000000e+00],\n",
        "       [  0.00000000e+00,   0.00000000e+00,   0.00000000e+00],\n",
        "       [  1.70166841e-02,  -1.96381969e-03,   1.11517273e-03],\n",
        "       [  0.00000000e+00,   0.00000000e+00,   0.00000000e+00],\n",
        "       [  0.00000000e+00,   0.00000000e+00,   0.00000000e+00],\n",
        "       [  0.00000000e+00,   0.00000000e+00,   0.00000000e+00],\n",
        "       [  9.65197346e-01,   3.46735657e-02,  -1.62304047e-06],\n",
        "       [  0.00000000e+00,   0.00000000e+00,   0.00000000e+00],\n",
        "       [  0.00000000e+00,   0.00000000e+00,   0.00000000e+00],\n",
        "       [  0.00000000e+00,   0.00000000e+00,   0.00000000e+00],\n",
        "       [  2.60968419e-01,  -2.55349608e-01,  -5.61881115e-03],\n",
        "       [  0.00000000e+00,   0.00000000e+00,   0.00000000e+00],\n",
        "       [  0.00000000e+00,   0.00000000e+00,   0.00000000e+00],\n",
        "       [  0.00000000e+00,   0.00000000e+00,   0.00000000e+00],\n",
        "       [  0.00000000e+00,   0.00000000e+00,   0.00000000e+00],\n",
        "       [  0.00000000e+00,   0.00000000e+00,   0.00000000e+00]]), 'taskParams': array([ 0.05001374,  0.93200863,  0.01647311,  0.00150452])} 59\n",
        "[[  0.00000000e+00   0.00000000e+00   0.00000000e+00]\n",
        " [  0.00000000e+00   0.00000000e+00   0.00000000e+00]\n",
        " [  1.70166841e-02  -1.96381969e-03   1.11517273e-03]\n",
        " [  0.00000000e+00   0.00000000e+00   0.00000000e+00]\n",
        " [  0.00000000e+00   0.00000000e+00   0.00000000e+00]\n",
        " [  0.00000000e+00   0.00000000e+00   0.00000000e+00]\n",
        " [  9.65197346e-01   3.46735657e-02  -1.62304047e-06]\n",
        " [  0.00000000e+00   0.00000000e+00   0.00000000e+00]\n",
        " [  0.00000000e+00   0.00000000e+00   0.00000000e+00]\n",
        " [  0.00000000e+00   0.00000000e+00   0.00000000e+00]\n",
        " [  2.60968419e-01  -2.55349608e-01  -5.61881115e-03]\n",
        " [  0.00000000e+00   0.00000000e+00   0.00000000e+00]\n",
        " [  0.00000000e+00   0.00000000e+00   0.00000000e+00]\n",
        " [  0.00000000e+00   0.00000000e+00   0.00000000e+00]\n",
        " [  0.00000000e+00   0.00000000e+00   0.00000000e+00]\n",
        " [  0.00000000e+00   0.00000000e+00   0.00000000e+00]]\n",
        "[ 0.05001374  0.93200863  0.01647311  0.00150452]\n"
       ]
      }
     ],
     "prompt_number": 19
    },
    {
     "cell_type": "code",
     "collapsed": false,
     "input": [
      "def reward_old(taskState, taskToPerform, transitionProb):#action) :\n",
      "    \"\"\"Computes the reward of being at taskState given the taskToPerform (taskState has been reached by performing some action already).\n",
      "            \n",
      "            taskState: dict {'frameState':a frame state, 'taskParams': theta task parameters}\n",
      "            taskToPerform: task that needs to be performed\n",
      "        \n",
      "        return: reward r\n",
      "        \n",
      "        NOTE: sligtly different definition than paper because each taskState saves the state of a potential task which then gets compared to the desired one, rather than computing that state on the fly when the taskState is chosen.\n",
      "        Also I compute the reward after I pick a potential next state in pi_l so I just need to evaluate that potential state.\"\"\"\n",
      "    \n",
      "#     r = transitionProb + (2.0-np.sum(np.abs(taskState['taskParams']-taskToPerform)))\n",
      "    r = (2.0-np.sum(np.abs(taskState['taskParams']-taskToPerform)))\n",
      "#     r = -np.sum(np.abs(taskState['taskParams']-taskToPerform))\n",
      "    return r\n",
      "\n",
      "def reward_weighted(taskState, neighboursTaskParamsValues, action, taskToPerform) :\n",
      "    \"\"\"Computes the reward of performing action at taskState given the taskToPerform\n",
      "            \n",
      "            taskState: dict {'frameState':a frame state, 'taskParams': theta task parameters}\n",
      "            neighboursTaskParamsValues: kxN array containing the N task labels of the k neighbours of taskState\n",
      "            action: action performed at taskState\n",
      "            taskToPerform: task that needs to be performed\n",
      "        \n",
      "        return: reward r\"\"\"\n",
      "    \n",
      "    r = 2.0-np.sum(np.abs(neighboursTaskParamsValues-np.reshape(taskToPerform, (1, len(taskToPerform))).repeat(len(neighboursTaskParamsValues), axis=0)), axis = -1)\n",
      "    r = np.sum(action*r)\n",
      "#     r = (2.0-np.sum(np.abs(neighboursTaskParamsValues[np.argmax(action)]-taskToPerform)))\n",
      "#     r = 0\n",
      "#     for i in range(len(action)) :\n",
      "#         r += action[i]*(2.0-np.sum(np.abs(neighboursTaskParamsValues[i, :]-taskToPerform)))\n",
      "    return r\n",
      "\n",
      "def reward(taskState, neighboursTaskParamsValues, action, taskToPerform, weight) :\n",
      "    \"\"\"Computes the reward of performing action at taskState given the taskToPerform\n",
      "            \n",
      "            taskState: dict {'frameState':a frame state, 'taskParams': theta task parameters}\n",
      "            neighboursTaskParamsValues: kxN array containing the N task labels of the k neighbours of taskState\n",
      "            action: action performed at taskState\n",
      "            taskToPerform: task that needs to be performed\n",
      "            weight: similarity weights of neighbour favoured by action to taskState\n",
      "        \n",
      "        return: reward r\"\"\"\n",
      "    \n",
      "#     r = 2.0-np.sum(np.abs(neighboursTaskParamsValues-np.reshape(taskToPerform, (1, len(taskToPerform))).repeat(len(neighboursTaskParamsValues), axis=0)), axis = -1)\n",
      "#     r = np.sum(action*r)\n",
      "    l = 0.8\n",
      "    \n",
      "    r = (1.0-l)*weight + l*((2.0-np.sum(np.abs(neighboursTaskParamsValues[np.argmax(action)]-taskToPerform)))/2.0)\n",
      "#     r = 0\n",
      "#     for i in range(len(action)) :\n",
      "#         r += action[i]*(2.0-np.sum(np.abs(neighboursTaskParamsValues[i, :]-taskToPerform)))\n",
      "    return r\n",
      "    \n",
      "def pi_l(taskState, actions, valueFunction, stateIdx, states, neighboursIndices, taskParamsValues, taskToPerform, transitionProbs, weights, verbose=False):#, extraInfo) :\n",
      "    \"\"\"Gives the next best action based on a lookahead policy to maximize reward.\n",
      "    \n",
      "            taskState: dict {'frameState':a frame state, 'taskParams': theta task parameters}\n",
      "            actions: possible actions from state KxK matrix where each row is an action\n",
      "            valueFunction: precomputed value function that represents future reward\n",
      "            stateIdx: is the idx of state in states\n",
      "            states: list of all possible frame states\n",
      "            neighboursIndices: list of neighbour states indices for each state\n",
      "            taskParamsValues: contains values of task parameters for the full set of frame states\n",
      "            taskToPerform: task that needs to be performed\n",
      "            extraInfo: NxN matrix (N = numStates) extra rewards to add to reward function based on current and next frame\n",
      "            weights: similarity weights of taskState to its neighbours\n",
      "        \n",
      "        return: bestAction\"\"\"\n",
      "    currentMax = -sys.float_info.max\n",
      "    if verbose :\n",
      "        print \"weights\", weights\n",
      "    for idx in range(len(actions)) :\n",
      "        newTaskState, newIdx = integrateTaskState(taskState, actions[idx, :], states[neighboursIndices[stateIdx, :], :, :], 1.0, neighboursIndices[stateIdx, :], taskParamsValues)\n",
      "#         amount = (extraInfo[stateIdx, newIdx])*(reward(newTaskState, taskToPerform) + valueFunction[newIdx])\n",
      "#         print \"amount\", amount, \"extra\", extraRewards[stateIdx, newIdx]\n",
      "        bob = 0.0 #10.0 if newIdx-stateIdx == 1 else 0.0\n",
      "#         amount = reward(newTaskState, taskToPerform, transitionProbs[idx]) + valueFunction[newIdx] + bob# + transitionProbs[idx]\n",
      "        amount = reward(taskState, taskParamsValues[neighboursIndices[stateIdx, :], :], actions[idx, :], taskToPerform, weights[idx]) + valueFunction[newIdx]\n",
      "        if verbose :\n",
      "            print \"current amount for action in pi_l\", amount, np.sum(actions[idx, :]), reward(taskState, taskParamsValues[neighboursIndices[stateIdx, :], :], actions[idx, :], taskToPerform, weights[idx]), valueFunction[newIdx], newIdx\n",
      "#         print actions[idx, :]\n",
      "        if amount > currentMax :\n",
      "            currentMax = amount\n",
      "            bestIdx = idx\n",
      "    bestAction = np.copy(actions[bestIdx, :])\n",
      "    return bestAction, bestIdx\n"
     ],
     "language": "python",
     "metadata": {},
     "outputs": [],
     "prompt_number": 84
    },
    {
     "cell_type": "code",
     "collapsed": false,
     "input": [
      "## this is to test that the new implementation does something plausible\n",
      "taskState = {'frameState': fs[trackingState, :, :], 'taskParams': labels[trackingState, :]}\n",
      "neighboursTaskParamsValues = labels[neighbours[trackingState, :], :]\n",
      "action = A[trackingState, 4, :]\n",
      "taskToPerform = possibleTasksToPerform[3, :]\n",
      "# v = np.zeros((fs.shape[0], possibleTasksToPerform.shape[0]))\n",
      "\n",
      "print \"neighbours\", neighbours[trackingState, :]\n",
      "print \"neighbours' labels\", neighboursTaskParamsValues\n",
      "print \"chosen action\", action, np.sum(action)\n",
      "print \"task to perform\", taskToPerform\n",
      "print \"rewards for given neighbours\", 2.0-np.sum(np.abs(neighboursTaskParamsValues-np.reshape(taskToPerform, (1, 4)).repeat(k, axis=0)), axis = -1)\n",
      "\n",
      "print \"total reward computed by method\", reward(taskState, neighboursTaskParamsValues, action, taskToPerform)\n",
      "\n",
      "tmp = 2.0-np.sum(np.abs(neighboursTaskParamsValues-np.reshape(taskToPerform, (1, 4)).repeat(k, axis=0)), axis = -1)\n",
      "print \"total reward based on normalized rewards for neighbours by action weights\", np.sum(action*tmp)\n",
      "print\n",
      "print\n",
      "\n",
      "bestA, bestIdx = pi_l(taskState, A[trackingState, :, :], v[:, t], trackingState, fs, neighbours, labels, taskToPerform, neighsProbs)#extraRewards)\n",
      "print \"best A and idx\", bestA, bestIdx"
     ],
     "language": "python",
     "metadata": {},
     "outputs": [
      {
       "output_type": "stream",
       "stream": "stdout",
       "text": [
        "neighbours [299 301 527 363 528 611 326 575 691 526  58 411 576 327 402]\n",
        "neighbours' labels [[  8.99090544e-03   9.89536182e-01   1.35101498e-03   1.21897592e-04]\n",
        " [  1.49739316e-02   9.81543822e-01   3.19039163e-03   2.91854862e-04]\n",
        " [  3.51219288e-03   9.96169956e-01   2.92699370e-04   2.51520012e-05]\n",
        " [  2.98673367e-03   9.96787083e-01   2.08817253e-04   1.73656731e-05]\n",
        " [  4.35020759e-03   9.95118557e-01   4.88326523e-04   4.29086596e-05]\n",
        " [  2.75779369e-03   9.97045032e-01   1.82184580e-04   1.49902463e-05]\n",
        " [  7.80681986e-02   9.06295893e-01   1.42140697e-02   1.42183997e-03]\n",
        " [  1.10207706e-03   9.98837485e-01   5.60356369e-05   4.40256947e-06]\n",
        " [  3.05408524e-03   9.96742331e-01   1.88319364e-04   1.52642999e-05]\n",
        " [  2.10200039e-03   9.97794953e-01   9.55922157e-05   7.45422796e-06]\n",
        " [  6.79896022e-02   9.14258203e-01   1.60257880e-02   1.72640787e-03]\n",
        " [  2.65038736e-02   9.72909417e-01   5.56950676e-04   2.97588878e-05]\n",
        " [  3.36345588e-03   9.96378725e-01   2.38021313e-04   1.97983263e-05]\n",
        " [  6.69105774e-02   9.15364545e-01   1.61196938e-02   1.60518431e-03]\n",
        " [  1.13481307e-02   9.88391791e-01   2.46248383e-04   1.38300022e-05]]\n",
        "chosen action [ 0.08738077  0.08301807  0.03207839  0.03040169  0.51460617  0.02872303\n",
        "  0.0271147   0.02567258  0.0255931   0.0247333   0.02466283  0.02464877\n",
        "  0.0241506   0.0238714   0.0233446 ] 1.0\n",
        "task to perform [ 0.  0.  0.  1.]\n",
        "rewards for given neighbours [  2.43795065e-04   5.83709458e-04   5.03039529e-05   3.47312684e-05\n",
        "   8.58172327e-05   2.99804440e-05   2.84367904e-03   8.80512160e-06\n",
        "   3.05285315e-05   1.49084413e-05   3.45281474e-03   5.95177359e-05\n",
        "   3.95965377e-05   3.21036763e-03   2.76599844e-05]\n",
        "total reward computed by method 0.000360796986036\n",
        "total reward based on normalized rewards for neighbours by action weights 0.000360796986036\n",
        "\n",
        "\n",
        "current amount for action in pi_l 31.4707485135 1.0 0.000449440528131 31.470299073 299\n",
        "current amount for action in pi_l 33.4710292142 1.0 0.000603537674313 33.4704256765 301\n",
        "current amount for action in pi_l 31.5399862036 1.0 0.000344401961947 31.5396418016 527\n",
        "current amount for action in pi_l 31.4706381518 1.0 0.000336358917676 31.4703017929 363\n",
        "current amount for action in pi_l 31.5400199863 1.0 0.000360796986036 31.5396591894 528\n",
        "current amount for action in pi_l 31.4706282677 1.0 0.000333545618578 31.4702947221 611\n",
        "current amount for action in pi_l 33.5419613791 1.0 0.00170184126269 33.5402595378 326\n",
        "current amount for action in pi_l 29.5400399181 1.0 0.000322306065821 29.539717612 575\n",
        "current amount for action in pi_l 31.470625344 1.0 0.000332865963211 31.470292478 691\n",
        "current amount for action in pi_l 29.5400118008 1.0 0.00032498943289 29.5396868114 526\n",
        "current amount for action in pi_l 35.4700602866 1.0 0.00200171857966 35.4680585681 58\n",
        "current amount for action in pi_l 27.4708272071 1.0 0.000346720704722 27.4704804864 411\n",
        "current amount for action in pi_l 31.4711013979 1.0 0.000336857091774 31.4707645408 576\n",
        "current amount for action in pi_l 33.5425419232 1.0 0.00188451576364 33.5406574074 327\n",
        "current amount for action in pi_l 27.4708000731 1.0 0.000330789136162 27.470469284 402\n",
        "best A and idx [ 0.08698503  0.08264209  0.03193311  0.030264    0.02908003  0.02859295\n",
        "  0.0269919   0.02555631  0.02547719  0.02462128  0.51227557  0.02453714\n",
        "  0.02404122  0.02376329  0.02323888] 10\n"
       ]
      }
     ],
     "prompt_number": 26
    },
    {
     "cell_type": "code",
     "collapsed": false,
     "input": [
      "############# COMPUTE VALUE FUNCTION V ###############\n",
      "\n",
      "# load labels to use as taskParamsValues\n",
      "labels = np.load(outputData + \"hist2demd_mult0.02_16x16_labels.npy\")[()]['labelProbs']\n",
      "possibleTasksToPerform = np.eye(labels.shape[-1])\n",
      "\n",
      "# compute video field A value at each state, i.e. compute possible actions at each state as defined in section 4.1\n",
      "# A[i, :, :] gives KxK matrix where each row is an action that favors the neighbour corresponding to row idx\n",
      "A = np.zeros((numStates, k , k))\n",
      "for fIdx in range(numStates) :\n",
      "    tmp = np.repeat(np.reshape(w[fIdx, :], (1, k)), k, axis=0)\n",
      "    ## set action corresponding to ith neighbour to 1\n",
      "    tmp[np.where(np.eye(k)==1)] = 1\n",
      "    ## and renormalize\n",
      "    tmp /= np.repeat(np.reshape(np.sum(tmp, axis=-1), (k, 1)), k, axis=-1) #np.repeat(np.reshape(np.sum(tmp, axis=0), (1, k)), k, axis=0)\n",
      "    A[fIdx, :, :] = np.copy(tmp)\n",
      "\n",
      "## init v to zeros\n",
      "# v = np.load(\"valuefunction.npy\")\n",
      "v = np.zeros((fs.shape[0], possibleTasksToPerform.shape[0]))\n",
      "vTmp = np.copy(v)\n",
      "prevAdditionalReward = 0\n",
      "\n",
      "maxIterations = 20\n",
      "trackingState = 300\n",
      "print \"tracking progression of state\", trackingState\n",
      "print \"neighbours\", neighbours[trackingState, :]\n",
      "for i in range(maxIterations) :\n",
      "    ## for each possible task\n",
      "    print \"best actions\",\n",
      "    for t in range(possibleTasksToPerform.shape[0]) :\n",
      "        ## for each frame state\n",
      "        for fIdx in range(numStates) :\n",
      "            si = {'frameState': fs[fIdx, :, :], 'taskParams': labels[fIdx, :]}\n",
      "            neighsProbs = (1.0/(np.abs(neighbours[fIdx, :]-fIdx-1.0)+1.0))/np.sum(1.0/(np.abs(neighbours[fIdx, :]-fIdx-1.0)+1.0))#probs[fIdx, neighbours[fIdx, :]]/np.sum(probs[fIdx, neighbours[fIdx, :]])\n",
      "            bestA, bestIdx = pi_l(si, A[fIdx, :, :], v[:, t], fIdx, fs, neighbours, labels, possibleTasksToPerform[t, :], neighsProbs, w[fIdx, :])#extraRewards)\n",
      "            \n",
      "            newTaskState, newIdx = integrateTaskState(si, bestA, fs[neighbours[fIdx, :], :, :], 1.0, neighbours[fIdx, :], labels)\n",
      "#             v[fIdx, t] = reward(newTaskState, possibleTasksToPerform[t, :]) + v[newIdx, t]\n",
      "#             vTmp[fIdx, t] = reward(newTaskState, possibleTasksToPerform[t, :], neighsProbs[np.where(neighbours[fIdx, :] == newIdx)]) + v[newIdx, t]\n",
      "            vTmp[fIdx, t] = reward(si, labels[neighbours[fIdx, :], :], bestA, possibleTasksToPerform[t, :], w[fIdx, bestIdx]) + v[newIdx, t]\n",
      "            if fIdx == trackingState :\n",
      "                print bestIdx, \"(\", newIdx, \"),\",\n",
      "    additionalReward = np.linalg.norm(vTmp-v)\n",
      "    print\n",
      "    print i, np.sum(np.linalg.norm(vTmp-v, axis=-1)), np.sum(np.abs(vTmp-v)), additionalReward, additionalReward-prevAdditionalReward, np.min(vTmp), np.max(vTmp), np.sum(vTmp)\n",
      "    print vTmp[trackingState, :]\n",
      "    sys.stdout.flush()\n",
      "    v = np.copy(vTmp)\n",
      "    if additionalReward-prevAdditionalReward == 0.0 :\n",
      "        break\n",
      "    prevAdditionalReward = additionalReward\n"
     ],
     "language": "python",
     "metadata": {},
     "outputs": [
      {
       "output_type": "stream",
       "stream": "stdout",
       "text": [
        "tracking progression of state 300\n",
        "neighbours [301 302 328 327  58 299 528  59  23 576 326 373 348 364 611]\n",
        "best actions "
       ]
      },
      {
       "output_type": "stream",
       "stream": "stdout",
       "text": [
        "8 ( 23 ), "
       ]
      },
      {
       "output_type": "stream",
       "stream": "stdout",
       "text": [
        "0 ( 301 ), "
       ]
      },
      {
       "output_type": "stream",
       "stream": "stdout",
       "text": [
        "0 ( 301 ), "
       ]
      },
      {
       "output_type": "stream",
       "stream": "stdout",
       "text": [
        "0 ( 301 ),\n"
       ]
      },
      {
       "output_type": "stream",
       "stream": "stdout",
       "text": [
        "0 1153.37770891 1591.28764158 32.6098771248 32.6098771248 0.0181676464576 0.934436659893 1591.28764158\n",
        "[ 0.18225043  0.87727936  0.09459661  0.09227779]\n"
       ]
      },
      {
       "output_type": "stream",
       "stream": "stdout",
       "text": [
        "best actions "
       ]
      },
      {
       "output_type": "stream",
       "stream": "stdout",
       "text": [
        "8 ( 23 ), "
       ]
      },
      {
       "output_type": "stream",
       "stream": "stdout",
       "text": [
        "0 ( 301 ), "
       ]
      },
      {
       "output_type": "stream",
       "stream": "stdout",
       "text": [
        "7 ( 59 ), "
       ]
      },
      {
       "output_type": "stream",
       "stream": "stdout",
       "text": [
        "0 ( 301 ),\n"
       ]
      },
      {
       "output_type": "stream",
       "stream": "stdout",
       "text": [
        "1 1279.87344276 1922.37237858 36.7732331788 4.163356054 0.04773898098 1.8491361686 3513.66002016\n",
        "[ 0.48119031  1.75131896  0.59441552  0.18897719]\n"
       ]
      },
      {
       "output_type": "stream",
       "stream": "stdout",
       "text": [
        "best actions "
       ]
      },
      {
       "output_type": "stream",
       "stream": "stdout",
       "text": [
        "7 ( 59 ), "
       ]
      },
      {
       "output_type": "stream",
       "stream": "stdout",
       "text": [
        "0 ( 301 ), "
       ]
      },
      {
       "output_type": "stream",
       "stream": "stdout",
       "text": [
        "7 ( 59 ), "
       ]
      },
      {
       "output_type": "stream",
       "stream": "stdout",
       "text": [
        "0 ( 301 ),\n"
       ]
      },
      {
       "output_type": "stream",
       "stream": "stdout",
       "text": [
        "2 1422.26676276 2322.20057124 41.2379759205 4.46474274174 0.0765490910036 2.74419663258 5835.8605914\n",
        "[ 0.95761397  2.60601003  1.40006157  0.29046866]\n"
       ]
      },
      {
       "output_type": "stream",
       "stream": "stdout",
       "text": [
        "best actions "
       ]
      },
      {
       "output_type": "stream",
       "stream": "stdout",
       "text": [
        "7 ( 59 ), "
       ]
      },
      {
       "output_type": "stream",
       "stream": "stdout",
       "text": [
        "0 ( 301 ), "
       ]
      },
      {
       "output_type": "stream",
       "stream": "stdout",
       "text": [
        "7 ( 59 ), "
       ]
      },
      {
       "output_type": "stream",
       "stream": "stdout",
       "text": [
        "12 ( 348 ),\n"
       ]
      },
      {
       "output_type": "stream",
       "stream": "stdout",
       "text": [
        "3 1610.3234632 2842.85932943 46.5319730509 5.29399713035 0.110419729735 3.63850163023 8678.71992083\n",
        "[ 1.77819828  3.47210811  2.26683121  0.71835935]\n"
       ]
      },
      {
       "output_type": "stream",
       "stream": "stdout",
       "text": [
        "best actions "
       ]
      },
      {
       "output_type": "stream",
       "stream": "stdout",
       "text": [
        "7 ( 59 ), "
       ]
      },
      {
       "output_type": "stream",
       "stream": "stdout",
       "text": [
        "13 ( 364 ), "
       ]
      },
      {
       "output_type": "stream",
       "stream": "stdout",
       "text": [
        "7 ( 59 ), "
       ]
      },
      {
       "output_type": "stream",
       "stream": "stdout",
       "text": [
        "12 ( 348 ),\n"
       ]
      },
      {
       "output_type": "stream",
       "stream": "stdout",
       "text": [
        "4 1812.9637476 3389.8192312 51.8487922038 5.3168191529 0.156972143291 4.54384811517 12068.539152\n",
        "[ 2.60427417  4.35327559  3.14572527  1.48466289]\n"
       ]
      },
      {
       "output_type": "stream",
       "stream": "stdout",
       "text": [
        "best actions "
       ]
      },
      {
       "output_type": "stream",
       "stream": "stdout",
       "text": [
        "7 ( 59 ), "
       ]
      },
      {
       "output_type": "stream",
       "stream": "stdout",
       "text": [
        "0 ( 301 ), "
       ]
      },
      {
       "output_type": "stream",
       "stream": "stdout",
       "text": [
        "7 ( 59 ), "
       ]
      },
      {
       "output_type": "stream",
       "stream": "stdout",
       "text": [
        "12 ( 348 ),\n"
       ]
      },
      {
       "output_type": "stream",
       "stream": "stdout",
       "text": [
        "5 2002.26341302 3900.74428237 56.6169570855 4.76816488176 0.213054446734 5.44791869424 15969.2834344\n",
        "[ 3.42951873  5.22496482  4.04244996  2.30337873]\n"
       ]
      },
      {
       "output_type": "stream",
       "stream": "stdout",
       "text": [
        "best actions "
       ]
      },
      {
       "output_type": "stream",
       "stream": "stdout",
       "text": [
        "7 ( 59 ), "
       ]
      },
      {
       "output_type": "stream",
       "stream": "stdout",
       "text": [
        "0 ( 301 ), "
       ]
      },
      {
       "output_type": "stream",
       "stream": "stdout",
       "text": [
        "7 ( 59 ), "
       ]
      },
      {
       "output_type": "stream",
       "stream": "stdout",
       "text": [
        "12 ( 348 ),\n"
       ]
      },
      {
       "output_type": "stream",
       "stream": "stdout",
       "text": [
        "6 2140.75390603 4257.82021136 60.1427457571 3.52578867158 0.278067648105 6.34390238577 20227.1036458\n",
        "[ 4.24555257  6.12238945  4.94428247  3.14650859]\n"
       ]
      },
      {
       "output_type": "stream",
       "stream": "stdout",
       "text": [
        "best actions "
       ]
      },
      {
       "output_type": "stream",
       "stream": "stdout",
       "text": [
        "7 ( 59 ), "
       ]
      },
      {
       "output_type": "stream",
       "stream": "stdout",
       "text": [
        "0 ( 301 ), "
       ]
      },
      {
       "output_type": "stream",
       "stream": "stdout",
       "text": [
        "7 ( 59 ), "
       ]
      },
      {
       "output_type": "stream",
       "stream": "stdout",
       "text": [
        "12 ( 348 ),\n"
       ]
      },
      {
       "output_type": "stream",
       "stream": "stdout",
       "text": [
        "7 2196.73026629 4390.72077471 61.6257083107 1.48296255359 0.774409551673 7.23710818905 24617.8244205\n",
        "[ 5.09973898  7.02216892  5.76520457  4.00842968]\n"
       ]
      },
      {
       "output_type": "stream",
       "stream": "stdout",
       "text": [
        "best actions "
       ]
      },
      {
       "output_type": "stream",
       "stream": "stdout",
       "text": [
        "7 ( 59 ), "
       ]
      },
      {
       "output_type": "stream",
       "stream": "stdout",
       "text": [
        "0 ( 301 ), "
       ]
      },
      {
       "output_type": "stream",
       "stream": "stdout",
       "text": [
        "7 ( 59 ), "
       ]
      },
      {
       "output_type": "stream",
       "stream": "stdout",
       "text": [
        "12 ( 348 ),\n"
       ]
      },
      {
       "output_type": "stream",
       "stream": "stdout",
       "text": [
        "8 2209.83607218 4418.20116312 61.9877362838 0.362027973127 1.54071308882 8.11613177053 29036.0255836\n",
        "[ 5.98385714  7.91745715  6.64785752  4.87770941]\n"
       ]
      },
      {
       "output_type": "stream",
       "stream": "stdout",
       "text": [
        "best actions "
       ]
      },
      {
       "output_type": "stream",
       "stream": "stdout",
       "text": [
        "7 ( 59 ), "
       ]
      },
      {
       "output_type": "stream",
       "stream": "stdout",
       "text": [
        "0 ( 301 ), "
       ]
      },
      {
       "output_type": "stream",
       "stream": "stdout",
       "text": [
        "7 ( 59 ), "
       ]
      },
      {
       "output_type": "stream",
       "stream": "stdout",
       "text": [
        "12 ( 348 ),\n"
       ]
      },
      {
       "output_type": "stream",
       "stream": "stdout",
       "text": [
        "9 2215.51791477 4429.95286075 62.146799243 0.159062959181 2.3594289307 8.98972592176 33465.9784443\n",
        "[ 6.84774042  8.80101757  7.49672026  5.75608956]\n"
       ]
      },
      {
       "output_type": "stream",
       "stream": "stdout",
       "text": [
        "best actions "
       ]
      },
      {
       "output_type": "stream",
       "stream": "stdout",
       "text": [
        "7 ( 59 ), "
       ]
      },
      {
       "output_type": "stream",
       "stream": "stdout",
       "text": [
        "0 ( 301 ), "
       ]
      },
      {
       "output_type": "stream",
       "stream": "stdout",
       "text": [
        "7 ( 59 ), "
       ]
      },
      {
       "output_type": "stream",
       "stream": "stdout",
       "text": [
        "12 ( 348 ),\n"
       ]
      },
      {
       "output_type": "stream",
       "stream": "stdout",
       "text": [
        "10 2213.62242614 4426.35796167 62.0932051123 -0.0535941307421 3.20255879504 9.87001339823 37892.336406\n",
        "[ 7.71045209  9.68540037  8.35143258  6.63861182]\n"
       ]
      },
      {
       "output_type": "stream",
       "stream": "stdout",
       "text": [
        "best actions "
       ]
      },
      {
       "output_type": "stream",
       "stream": "stdout",
       "text": [
        "7 ( 59 ), "
       ]
      },
      {
       "output_type": "stream",
       "stream": "stdout",
       "text": [
        "0 ( 301 ), "
       ]
      },
      {
       "output_type": "stream",
       "stream": "stdout",
       "text": [
        "7 ( 59 ), "
       ]
      },
      {
       "output_type": "stream",
       "stream": "stdout",
       "text": [
        "12 ( 348 ),\n"
       ]
      },
      {
       "output_type": "stream",
       "stream": "stdout",
       "text": [
        "11 2212.52381155 4424.34989238 62.0617030093 -0.0315021029643 4.06447987987 10.7532458225 42316.6862984\n",
        "[  8.5790431   10.57048119   9.20029531   7.51565766]\n"
       ]
      },
      {
       "output_type": "stream",
       "stream": "stdout",
       "text": [
        "best actions "
       ]
      },
      {
       "output_type": "stream",
       "stream": "stdout",
       "text": [
        "7 ( 59 ), "
       ]
      },
      {
       "output_type": "stream",
       "stream": "stdout",
       "text": [
        "11 ( 373 ), "
       ]
      },
      {
       "output_type": "stream",
       "stream": "stdout",
       "text": [
        "7 ( 59 ), "
       ]
      },
      {
       "output_type": "stream",
       "stream": "stdout",
       "text": [
        "12 ( 348 ),\n"
       ]
      },
      {
       "output_type": "stream",
       "stream": "stdout",
       "text": [
        "12 2212.67286311 4424.72125906 62.0654681891 0.00376517981734 4.93375961548 11.6381638188 46741.4075574\n",
        "[  9.45723487  11.46812808  10.05500763   8.37175077]\n"
       ]
      },
      {
       "output_type": "stream",
       "stream": "stdout",
       "text": [
        "best actions "
       ]
      },
      {
       "output_type": "stream",
       "stream": "stdout",
       "text": [
        "7 ( 59 ), "
       ]
      },
      {
       "output_type": "stream",
       "stream": "stdout",
       "text": [
        "11 ( 373 ), "
       ]
      },
      {
       "output_type": "stream",
       "stream": "stdout",
       "text": [
        "7 ( 59 ), "
       ]
      },
      {
       "output_type": "stream",
       "stream": "stdout",
       "text": [
        "12 ( 348 ),\n"
       ]
      },
      {
       "output_type": "stream",
       "stream": "stdout",
       "text": [
        "13 2211.32463099 4422.04488973 62.0276414679 -0.0378267212595 5.81213975996 12.5247599126 51163.4524472\n",
        "[ 10.33294086  12.37114127  10.90387037   9.2325606 ]\n"
       ]
      },
      {
       "output_type": "stream",
       "stream": "stdout",
       "text": [
        "best actions "
       ]
      },
      {
       "output_type": "stream",
       "stream": "stdout",
       "text": [
        "7 ( 59 ), "
       ]
      },
      {
       "output_type": "stream",
       "stream": "stdout",
       "text": [
        "11 ( 373 ), "
       ]
      },
      {
       "output_type": "stream",
       "stream": "stdout",
       "text": [
        "7 ( 59 ), "
       ]
      },
      {
       "output_type": "stream",
       "stream": "stdout",
       "text": [
        "12 ( 348 ),\n"
       ]
      },
      {
       "output_type": "stream",
       "stream": "stdout",
       "text": [
        "14 2210.9603231 4421.28494135 62.0173718347 -0.0102696331667 6.69466202018 13.408989647 55584.7373885\n",
        "[ 11.20928036  13.27265148  11.75858269  10.09423032]\n"
       ]
      },
      {
       "output_type": "stream",
       "stream": "stdout",
       "text": [
        "best actions "
       ]
      },
      {
       "output_type": "stream",
       "stream": "stdout",
       "text": [
        "7 ( 59 ), "
       ]
      },
      {
       "output_type": "stream",
       "stream": "stdout",
       "text": [
        "11 ( 373 ), "
       ]
      },
      {
       "output_type": "stream",
       "stream": "stdout",
       "text": [
        "7 ( 59 ), "
       ]
      },
      {
       "output_type": "stream",
       "stream": "stdout",
       "text": [
        "12 ( 348 ),\n"
       ]
      },
      {
       "output_type": "stream",
       "stream": "stdout",
       "text": [
        "15 2211.55832839 4422.48769697 62.034125312 0.0167534772546 7.57170786457 14.2922220713 60007.2250855\n",
        "[ 12.09965895  14.15688121  12.60744542  10.95779189]\n"
       ]
      },
      {
       "output_type": "stream",
       "stream": "stdout",
       "text": [
        "best actions "
       ]
      },
      {
       "output_type": "stream",
       "stream": "stdout",
       "text": [
        "7 ( 59 ), "
       ]
      },
      {
       "output_type": "stream",
       "stream": "stdout",
       "text": [
        "11 ( 373 ), "
       ]
      },
      {
       "output_type": "stream",
       "stream": "stdout",
       "text": [
        "7 ( 59 ), "
       ]
      },
      {
       "output_type": "stream",
       "stream": "stdout",
       "text": [
        "12 ( 348 ),\n"
       ]
      },
      {
       "output_type": "stream",
       "stream": "stdout",
       "text": [
        "16 2211.05332422 4421.49817081 62.0199089826 -0.0142163293123 8.42780097804 15.1774090005 64428.7232563\n",
        "[ 12.98070947  15.04011364  13.46215774  11.8226141 ]\n"
       ]
      },
      {
       "output_type": "stream",
       "stream": "stdout",
       "text": [
        "best actions "
       ]
      },
      {
       "output_type": "stream",
       "stream": "stdout",
       "text": [
        "7 ( 59 ), "
       ]
      },
      {
       "output_type": "stream",
       "stream": "stdout",
       "text": [
        "11 ( 373 ), "
       ]
      },
      {
       "output_type": "stream",
       "stream": "stdout",
       "text": [
        "7 ( 59 ), "
       ]
      },
      {
       "output_type": "stream",
       "stream": "stdout",
       "text": [
        "12 ( 348 ),\n"
       ]
      },
      {
       "output_type": "stream",
       "stream": "stdout",
       "text": [
        "17 2209.91338071 4419.22097747 61.9879855126 -0.0319234700825 9.28861080232 16.056432582 68847.9442338\n",
        "[ 13.85916405  15.91229919  14.31102048  12.6881474 ]\n"
       ]
      },
      {
       "output_type": "stream",
       "stream": "stdout",
       "text": [
        "best actions "
       ]
      },
      {
       "output_type": "stream",
       "stream": "stdout",
       "text": [
        "7 ( 59 ), "
       ]
      },
      {
       "output_type": "stream",
       "stream": "stdout",
       "text": [
        "11 ( 373 ), "
       ]
      },
      {
       "output_type": "stream",
       "stream": "stdout",
       "text": [
        "7 ( 59 ), "
       ]
      },
      {
       "output_type": "stream",
       "stream": "stdout",
       "text": [
        "12 ( 348 ),\n"
       ]
      },
      {
       "output_type": "stream",
       "stream": "stdout",
       "text": [
        "18 2209.8242451 4419.02036007 61.9855491779 -0.00243633466713 10.1502805276 16.9384886106 73266.9645938\n",
        "[ 14.73471674  16.77596789  15.1657328   13.55888352]\n"
       ]
      },
      {
       "output_type": "stream",
       "stream": "stdout",
       "text": [
        "best actions "
       ]
      },
      {
       "output_type": "stream",
       "stream": "stdout",
       "text": [
        "7 ( 59 ), "
       ]
      },
      {
       "output_type": "stream",
       "stream": "stdout",
       "text": [
        "11 ( 373 ), "
       ]
      },
      {
       "output_type": "stream",
       "stream": "stdout",
       "text": [
        "7 ( 59 ), "
       ]
      },
      {
       "output_type": "stream",
       "stream": "stdout",
       "text": [
        "12 ( 348 ),\n"
       ]
      },
      {
       "output_type": "stream",
       "stream": "stdout",
       "text": [
        "19 2210.43369692 4420.23382559 62.002609804 0.0170606260735 11.0138420955 17.822718345 77687.1984194\n",
        "[ 15.60867236  17.6774781   16.01459554  14.40115534]\n"
       ]
      }
     ],
     "prompt_number": 85
    },
    {
     "cell_type": "code",
     "collapsed": false,
     "input": [
      "print labels[300, :]\n",
      "print v[neighbours[300, :], :]\n",
      "print labels[326, :]\n",
      "print labels[575, :]\n",
      "print labels[327, :]\n",
      "print labels[58, :]\n",
      "print v[575, :]\n",
      "print neighbours[58, :]\n",
      "print v[neighbours[58, :], :]\n",
      "print neighbours[228, :]\n",
      "print v[neighbours[228, :], :]\n",
      "print neighbours[111, :]\n",
      "print v[neighbours[111, :], :]\n",
      "print neighbours[501, :]\n",
      "print v[neighbours[501, :], :]\n",
      "print neighbours[502, :]\n",
      "print v[neighbours[502, :], :]\n",
      "print neighbours[503, :]\n",
      "print v[neighbours[503, :], :]"
     ],
     "language": "python",
     "metadata": {},
     "outputs": [
      {
       "output_type": "stream",
       "stream": "stdout",
       "text": [
        "[  1.17776805e-02   9.85844890e-01   2.17874471e-03   1.98684695e-04]\n",
        "[[ 19.71484988  31.35912397  21.15275583  19.46139829]\n",
        " [ 25.4681684   31.42434654  28.8024927   26.09223607]\n",
        " [ 25.27738111  31.98237927  23.36375643  21.32274053]\n",
        " [ 20.92793535  31.99028994  23.36375643  21.32289851]\n",
        " [ 25.27738111  31.99028994  25.21734576  21.7346335 ]\n",
        " [ 19.58766198  31.97442704  23.36300424  21.73456366]\n",
        " [ 25.40283573  30.83572473  29.08969732  26.09223607]\n",
        " [ 20.34128394  31.84300589  20.8314705   21.32269431]\n",
        " [ 20.45609738  31.99028994  23.36375643  21.73456366]\n",
        " [ 19.58225777  31.97471918  22.97090616  19.95763027]\n",
        " [ 25.50045929  29.43001186  29.74296653  26.35074874]\n",
        " [ 19.20969236  30.88812164  20.86289163  16.2344167 ]\n",
        " [ 21.66469166  31.85024844  23.36296736  19.46466886]\n",
        " [ 25.50045929  31.00185535  27.85081608  26.09223607]\n",
        " [ 19.08781361  31.0994431   20.86247499  16.23439504]]\n",
        "[ 0.0780682   0.90629589  0.01421407  0.00142184]\n",
        "[  1.10207706e-03   9.98837485e-01   5.60356369e-05   4.40256947e-06]\n",
        "[ 0.06691058  0.91536455  0.01611969  0.00160518]\n",
        "[ 0.0679896   0.9142582   0.01602579  0.00172641]\n",
        "[ 20.34128394  31.84300589  20.8314705   21.32269431]\n",
        "[327  57 328 326  59 301 300 325 228 348 679 528 770 678 302]\n",
        "[[ 25.50045929  31.00185535  27.85081608  26.09223607]\n",
        " [ 25.4681684   29.26166856  28.8024927   26.09223607]\n",
        " [ 25.4681684   31.15744962  29.74296653  26.09223607]\n",
        " [ 25.40283573  30.83572473  29.08969732  26.09223607]\n",
        " [ 22.71550325  29.5659946   27.14094647  26.09223607]\n",
        " [ 25.4681684   31.42434654  28.8024927   26.09223607]\n",
        " [ 25.4681684   31.38743419  28.8024927   26.09223607]\n",
        " [ 25.42515097  30.64831651  29.08969732  23.87800898]\n",
        " [ 25.66678604  27.83579041  29.8938287   26.36544618]\n",
        " [ 25.68787806  30.9770377   29.26370826  25.25411292]\n",
        " [ 25.4681684   31.87292552  29.26370826  26.09223607]\n",
        " [ 25.27738111  31.99028994  25.21734576  21.7346335 ]\n",
        " [ 25.68787806  31.34955955  29.32452064  25.25908529]\n",
        " [ 25.50045929  31.86143869  29.08969732  21.7346335 ]\n",
        " [ 22.70656522  31.479987    29.26370826  25.25411292]]\n",
        "[229 227 866  58 801 867 327 230 182 802 183 865  57 242 241]\n",
        "[[ 27.43046437  29.59601592  29.87528749  29.30734251]\n",
        " [ 28.70950314  30.64831651  28.92629781  26.35074874]\n",
        " [ 29.20835295  29.59601592  29.5158412   28.18080098]\n",
        " [ 25.50045929  29.43001186  29.74296653  26.35074874]\n",
        " [ 24.96902695  30.38894765  31.0738733   29.81618858]\n",
        " [ 27.43046437  29.59601592  30.06304481  31.27432309]\n",
        " [ 25.50045929  31.00185535  27.85081608  26.09223607]\n",
        " [ 23.28948162  31.34955955  29.26751889  27.97927544]\n",
        " [ 27.47085327  30.83572473  31.61429788  24.86222853]\n",
        " [ 26.92124348  31.15544951  29.27202614  28.18080098]\n",
        " [ 27.99992477  26.91225708  29.90446393  24.86251091]\n",
        " [ 30.7051389   29.26166856  29.59440027  29.30734251]\n",
        " [ 25.4681684   29.26166856  28.8024927   26.09223607]\n",
        " [ 25.54970587  27.84853578  29.33291125  28.47666226]\n",
        " [ 25.6841853   30.38894765  31.0738733   28.40876527]]\n",
        "[112 114 110 115 113 108 168 109 169 165 167 164 166 107 116]\n",
        "[[ 31.97075766  21.18931811  25.07891405  20.20019862]\n",
        " [ 31.93603058  21.21034919  25.07891405  20.20019862]\n",
        " [ 32.          21.21049297  25.05213633  20.20004706]\n",
        " [ 31.91796138  21.21034919  20.54179349  20.14127866]\n",
        " [ 31.95383572  21.20987498  25.07891405  19.00465081]\n",
        " [ 31.9989547   21.18931811  24.3912341   20.14127218]\n",
        " [ 31.0157419   21.20987498  22.81878962  19.00455925]\n",
        " [ 32.          21.21049297  24.3912341   20.14127218]\n",
        " [ 31.01139225  21.20987498  25.05124349  20.20004226]\n",
        " [ 29.32040366  21.61731703  25.05124349  20.20004226]\n",
        " [ 29.32344446  17.17155269  25.07891405  20.20019862]\n",
        " [ 29.315983    21.61731703  27.03089802  19.00458928]\n",
        " [ 31.01666202  21.61731703  27.03089802  21.39832294]\n",
        " [ 31.99759662  21.18947027  23.94568103  17.01370227]\n",
        " [ 31.89980282  21.21034919  20.54179349  20.14127866]]\n",
        "[512 537 538 489 500 511 502 525 573 478 477 524 513 490 572]\n",
        "[[ 19.02245278  31.92848941  22.9725893   19.95755936]\n",
        " [ 19.01251493  31.904655    21.11158897  15.45880743]\n",
        " [ 19.01346634  31.90060478  21.11187941  15.45938993]\n",
        " [ 19.97888384  31.99157803  21.11188081  15.45940033]\n",
        " [ 19.01156105  31.95808467  21.11158897  15.45880474]\n",
        " [ 19.01837403  31.9352964   21.11158897  15.45881742]\n",
        " [ 20.8619299   31.94551875  22.97229397  15.45878297]\n",
        " [ 19.35501705  31.97216129  21.11248907  19.95755936]\n",
        " [ 19.65445626  31.83926061  21.11188081  19.95755936]\n",
        " [ 19.03119489  31.95119931  22.97229397  19.95755936]\n",
        " [ 19.02744797  31.94426269  23.45368996  15.45940033]\n",
        " [ 19.34873844  31.96967522  21.11157281  15.45888747]\n",
        " [ 19.02121769  31.93160586  20.86190253  15.45879504]\n",
        " [ 19.65868678  31.99157803  22.97224556  19.95759341]\n",
        " [ 19.3473591   31.83817996  21.11154805  15.45878775]]\n",
        "[538 513 539 501 512 479 561 503 490 478 547 448 574 491 514]\n",
        "[[ 19.01346634  31.90060478  21.11187941  15.45938993]\n",
        " [ 19.02121769  31.93160586  20.86190253  15.45879504]\n",
        " [ 24.3057167   31.89891901  22.97229397  15.45881823]\n",
        " [ 19.00905125  31.95056147  21.11187941  15.45880474]\n",
        " [ 19.02245278  31.92848941  22.9725893   19.95755936]\n",
        " [ 19.02705448  31.96197286  20.86197694  21.32289851]\n",
        " [ 21.55738421  31.98645648  22.97229397  19.95756143]\n",
        " [ 19.01529377  31.94327509  22.97229397  16.23442292]\n",
        " [ 19.65868678  31.99157803  22.97224556  19.95759341]\n",
        " [ 19.03119489  31.95119931  22.97229397  19.95755936]\n",
        " [ 24.3057167   31.89295326  21.1371807   15.45880971]\n",
        " [ 19.05629121  31.65508434  22.96982589  19.95760622]\n",
        " [ 21.55738421  31.84068086  22.96993223  19.95758877]\n",
        " [ 20.8619299   31.98571632  23.36272827  21.32268944]\n",
        " [ 19.02215036  31.9374766   22.97229397  19.46746247]]\n",
        "[539 514 562 480 540 502 513 504 449 479 548 491 621 492 515]\n",
        "[[ 24.3057167   31.89891901  22.97229397  15.45881823]\n",
        " [ 19.02215036  31.9374766   22.97229397  19.46746247]\n",
        " [ 20.87177752  31.98040739  22.97229397  19.46746247]\n",
        " [ 19.0248952   31.97042261  20.86189263  19.46746247]\n",
        " [ 24.3057167   31.89675542  21.1371807   15.45878928]\n",
        " [ 20.8619299   31.94551875  22.97229397  15.45878297]\n",
        " [ 19.02121769  31.93160586  20.86190253  15.45879504]\n",
        " [ 24.3057167   31.9416299   22.96982016  15.45878735]\n",
        " [ 19.02168581  31.65838225  21.13743932  21.32268524]\n",
        " [ 19.02705448  31.96197286  20.86197694  21.32289851]\n",
        " [ 24.3057167   31.89422297  21.1371807   15.10680735]\n",
        " [ 20.8619299   31.98571632  23.36272827  21.32268944]\n",
        " [ 19.02109383  31.96785866  23.3632532   19.46752157]\n",
        " [ 20.87375822  31.97642954  23.36303711  21.32269431]\n",
        " [ 19.02560288  31.94147576  22.96982016  15.4587905 ]]\n"
       ]
      }
     ],
     "prompt_number": 72
    },
    {
     "cell_type": "code",
     "collapsed": false,
     "input": [
      "print fIdx, newIdx\n",
      "print neighsProbs\n",
      "print neighbours[fIdx, :]\n",
      "print np.where(neighbours[fIdx, :] == newIdx)\n",
      "print (1.0/(np.abs(neighbours[fIdx, :]-fIdx-1.0)+1.0))/np.sum(1.0/(np.abs(neighbours[fIdx, :]-fIdx-1.0)+1.0))\n",
      "print probs[fIdx, neighbours[fIdx, :]]/np.sum(probs[fIdx, neighbours[fIdx, :]])"
     ],
     "language": "python",
     "metadata": {},
     "outputs": [
      {
       "output_type": "stream",
       "stream": "stdout",
       "text": [
        "826 843\n",
        "[  2.34837947e-05   9.98810823e-01   4.41020774e-04   9.72460197e-06\n",
        "   6.79081866e-04   3.81871374e-09   5.97391782e-08   2.79431362e-08\n",
        "   2.64516724e-07   2.39568827e-07   5.14322612e-06   6.02598069e-08\n",
        "   3.00164198e-05   4.28958829e-08   7.17861588e-09]\n",
        "[907 827 825 792 908 906 793 791 828 762 883 882 905 909 790]\n",
        "(array([], dtype=int64),)\n",
        "[ 0.00600668  0.48654104  0.16218035  0.01351503  0.00593343  0.00608176\n",
        "  0.01390117  0.01314976  0.24327052  0.00737183  0.00853581  0.00868823\n",
        "  0.00615875  0.00586194  0.01280371]\n",
        "[  9.44809209e-07   9.97371260e-01   1.21685058e-10   5.71486957e-06\n",
        "   1.38214039e-03   2.09696792e-11   5.70543359e-04   3.98261498e-09\n",
        "   6.66875454e-04   1.28543921e-16   4.87540637e-08   1.04448396e-17\n",
        "   6.54373599e-22   2.46791308e-06   9.40929579e-20]\n"
       ]
      }
     ],
     "prompt_number": 97
    },
    {
     "cell_type": "code",
     "collapsed": false,
     "input": [
      "## plot v\n",
      "paperV = False\n",
      "fullV = True\n",
      "# if paperV :\n",
      "#     v = np.load(\"valuefunction_paper.npy\")\n",
      "# else :\n",
      "#     if fullV :\n",
      "#         v = np.load(\"valuefunction_mine_full.npy\")\n",
      "#     else :\n",
      "#         v = np.load(\"valuefunction_mine.npy\")\n",
      "    \n",
      "figure(); plot(range(numStates), v[:, 0], 'r', range(numStates), v[:, 1], 'g', range(numStates), v[:, 2], 'b', range(numStates), v[:, 3], 'm')\n",
      "\n",
      "# if paperV :\n",
      "#     np.save(\"valuefunction_paper.npy\", v)\n",
      "# else :\n",
      "#     if fullV :\n",
      "#         np.save(\"valuefunction_mine_full.npy\", v)\n",
      "# #         np.save(\"valuefunction_mine_extra.npy\", v)\n",
      "#     else :\n",
      "#         np.save(\"valuefunction_mine.npy\", v)"
     ],
     "language": "python",
     "metadata": {},
     "outputs": [
      {
       "metadata": {},
       "output_type": "pyout",
       "prompt_number": 32,
       "text": [
        "[<matplotlib.lines.Line2D at 0x7f0df8536190>,\n",
        " <matplotlib.lines.Line2D at 0x7f0df8536410>,\n",
        " <matplotlib.lines.Line2D at 0x7f0df8536ad0>,\n",
        " <matplotlib.lines.Line2D at 0x7f0df8543150>]"
       ]
      }
     ],
     "prompt_number": 32
    },
    {
     "cell_type": "code",
     "collapsed": false,
     "input": [
      " ## try and sample, see what happens....\n",
      "\n",
      "taskIdx = 2\n",
      "taskToPerform = possibleTasksToPerform[taskIdx, :]\n",
      "# taskToPerform = np.array([1, 0, 0, 0])\n",
      "print \"task to perform:\", taskToPerform\n",
      "startIdx = 234\n",
      "print \"starting from\", startIdx, \"with task params\", labels[startIdx, :]\n",
      "# extraRewards = np.zeros((numStates, numStates))\n",
      "\n",
      "totalFrames = 100\n",
      "currentIdx = startIdx\n",
      "for i in range(totalFrames) :\n",
      "    s = {'frameState': fs[currentIdx, :, :], 'taskParams': labels[currentIdx, :]}\n",
      "    neighsProbs = (1.0/(np.abs(neighbours[fIdx, :]-fIdx-1.0)+1.0))/np.sum(1.0/(np.abs(neighbours[fIdx, :]-fIdx-1.0)+1.0))#probs[currentIdx, neighbours[currentIdx, :]]/np.sum(probs[currentIdx, neighbours[currentIdx, :]])\n",
      "    bestA, bestAIdx = pi_l(s, A[currentIdx, :, :], np.sum(np.repeat(taskToPerform.reshape((1, len(taskToPerform))), numStates, axis=0)*v, axis=-1), currentIdx, fs, neighbours, labels, taskToPerform, neighsProbs, w[currentIdx, :])\n",
      "#     print bestA\n",
      "#     print neighbours[currentIdx, :], neighbours[currentIdx, np.argmax(probs[currentIdx, neighbours[currentIdx, :]])]\n",
      "#     print probs[currentIdx, neighbours[currentIdx, :]]\n",
      "#     print probs[currentIdx, neighbours[currentIdx, :]]*bestA, np.argmax(probs[currentIdx, neighbours[currentIdx, :]]*bestA), neighbours[currentIdx, np.argmax(probs[currentIdx, neighbours[currentIdx, :]]*bestA)]\n",
      "#     tmp = probs[currentIdx, neighbours[currentIdx, :]]\n",
      "#     tmp /= np.sum(tmp)\n",
      "#     bob = 0.8\n",
      "#     newAction = ((1.0-bob)*tmp) * (bob*bestA)\n",
      "#     newAction /= np.sum(newAction)\n",
      "    newTaskState, newIdx = integrateTaskState(s, bestA, fs[neighbours[currentIdx, :], :, :], 1.0, neighbours[currentIdx, :], labels)\n",
      "#     newTaskState, newIdx = integrateTaskState(s, newAction, fs[neighbours[currentIdx, :], :, :], 1.0, neighbours[currentIdx, :], labels)\n",
      "    print newIdx, newTaskState['taskParams']\n",
      "    currentIdx = np.copy(newIdx)\n",
      "#     print newTaskState"
     ],
     "language": "python",
     "metadata": {},
     "outputs": [
      {
       "output_type": "stream",
       "stream": "stdout",
       "text": [
        "task to perform: [ 0.  0.  1.  0.]\n",
        "starting from 234 with task params [ 0.16100772  0.27794343  0.42633532  0.13471353]\n",
        "794 [ 0.00152488  0.00186587  0.98873329  0.00787596]\n",
        "795 [ 0.00320689  0.00333162  0.97619987  0.01726161]\n",
        "796 [ 0.00632285  0.00334713  0.95158473  0.0387453 ]\n",
        "797 [ 0.0048241   0.00163981  0.96547137  0.02806473]\n",
        "798 [  1.12212854e-03   4.27333714e-04   9.93452830e-01   4.99770765e-03]\n",
        "845 [  2.67345796e-04   3.69668850e-04   9.99164497e-01   1.98488432e-04]\n",
        "846 [  4.56061567e-04   9.36534715e-04   9.98200534e-01   4.06870124e-04]\n",
        "847 [  5.89568104e-04   1.47343837e-03   9.97358802e-01   5.78191940e-04]\n",
        "848 [  8.53857668e-04   2.92859456e-03   9.95075237e-01   1.14231071e-03]\n",
        "847 [  5.89568104e-04   1.47343837e-03   9.97358802e-01   5.78191940e-04]\n",
        "848 [  8.53857668e-04   2.92859456e-03   9.95075237e-01   1.14231071e-03]\n",
        "847 [  5.89568104e-04   1.47343837e-03   9.97358802e-01   5.78191940e-04]\n",
        "848 [  8.53857668e-04   2.92859456e-03   9.95075237e-01   1.14231071e-03]\n",
        "847 [  5.89568104e-04   1.47343837e-03   9.97358802e-01   5.78191940e-04]\n",
        "848 [  8.53857668e-04   2.92859456e-03   9.95075237e-01   1.14231071e-03]\n",
        "847 [  5.89568104e-04   1.47343837e-03   9.97358802e-01   5.78191940e-04]\n",
        "848 [  8.53857668e-04   2.92859456e-03   9.95075237e-01   1.14231071e-03]\n",
        "847 [  5.89568104e-04   1.47343837e-03   9.97358802e-01   5.78191940e-04]\n",
        "848 [  8.53857668e-04   2.92859456e-03   9.95075237e-01   1.14231071e-03]\n",
        "847 [  5.89568104e-04   1.47343837e-03   9.97358802e-01   5.78191940e-04]\n",
        "848 [  8.53857668e-04   2.92859456e-03   9.95075237e-01   1.14231071e-03]\n",
        "847 [  5.89568104e-04   1.47343837e-03   9.97358802e-01   5.78191940e-04]\n",
        "848 [  8.53857668e-04   2.92859456e-03   9.95075237e-01   1.14231071e-03]\n",
        "847 [  5.89568104e-04   1.47343837e-03   9.97358802e-01   5.78191940e-04]\n",
        "848 [  8.53857668e-04   2.92859456e-03   9.95075237e-01   1.14231071e-03]\n",
        "847 [  5.89568104e-04   1.47343837e-03   9.97358802e-01   5.78191940e-04]\n",
        "848 [  8.53857668e-04   2.92859456e-03   9.95075237e-01   1.14231071e-03]\n",
        "847"
       ]
      },
      {
       "output_type": "stream",
       "stream": "stdout",
       "text": [
        " [  5.89568104e-04   1.47343837e-03   9.97358802e-01   5.78191940e-04]\n",
        "848 [  8.53857668e-04   2.92859456e-03   9.95075237e-01   1.14231071e-03]\n",
        "847 [  5.89568104e-04   1.47343837e-03   9.97358802e-01   5.78191940e-04]\n",
        "848 [  8.53857668e-04   2.92859456e-03   9.95075237e-01   1.14231071e-03]\n",
        "847 [  5.89568104e-04   1.47343837e-03   9.97358802e-01   5.78191940e-04]\n",
        "848 [  8.53857668e-04   2.92859456e-03   9.95075237e-01   1.14231071e-03]\n",
        "847 [  5.89568104e-04   1.47343837e-03   9.97358802e-01   5.78191940e-04]\n",
        "848 [  8.53857668e-04   2.92859456e-03   9.95075237e-01   1.14231071e-03]\n",
        "847 [  5.89568104e-04   1.47343837e-03   9.97358802e-01   5.78191940e-04]\n",
        "848 [  8.53857668e-04   2.92859456e-03   9.95075237e-01   1.14231071e-03]\n",
        "847 [  5.89568104e-04   1.47343837e-03   9.97358802e-01   5.78191940e-04]\n",
        "848 [  8.53857668e-04   2.92859456e-03   9.95075237e-01   1.14231071e-03]\n",
        "847 [  5.89568104e-04   1.47343837e-03   9.97358802e-01   5.78191940e-04]\n",
        "848 [  8.53857668e-04   2.92859456e-03   9.95075237e-01   1.14231071e-03]\n",
        "847 [  5.89568104e-04   1.47343837e-03   9.97358802e-01   5.78191940e-04]\n",
        "848 [  8.53857668e-04   2.92859456e-03   9.95075237e-01   1.14231071e-03]\n",
        "847 [  5.89568104e-04   1.47343837e-03   9.97358802e-01   5.78191940e-04]\n",
        "848 [  8.53857668e-04   2.92859456e-03   9.95075237e-01   1.14231071e-03]\n",
        "847 [  5.89568104e-04   1.47343837e-03   9.97358802e-01   5.78191940e-04]\n",
        "848 [  8.53857668e-04   2.92859456e-03   9.95075237e-01   1.14231071e-03]\n",
        "847 [  5.89568104e-04   1.47343837e-03   9.97358802e-01   5.78191940e-04]\n",
        "848 [  8.53857668e-04   2.92859456e-03   9.95075237e-01   1.14231071e-03]\n",
        "847 [  5.89568104e-04   1.47343837e-03   9.97358802e-01   5.78191940e-04]\n",
        "848 [  8.53857668e-04   2.92859456e-03   9.95075237e-01   1.14231071e-03]\n",
        "847"
       ]
      },
      {
       "output_type": "stream",
       "stream": "stdout",
       "text": [
        " [  5.89568104e-04   1.47343837e-03   9.97358802e-01   5.78191940e-04]\n",
        "848 [  8.53857668e-04   2.92859456e-03   9.95075237e-01   1.14231071e-03]\n",
        "847 [  5.89568104e-04   1.47343837e-03   9.97358802e-01   5.78191940e-04]\n",
        "848 [  8.53857668e-04   2.92859456e-03   9.95075237e-01   1.14231071e-03]\n",
        "847 [  5.89568104e-04   1.47343837e-03   9.97358802e-01   5.78191940e-04]\n",
        "848 [  8.53857668e-04   2.92859456e-03   9.95075237e-01   1.14231071e-03]\n",
        "847 [  5.89568104e-04   1.47343837e-03   9.97358802e-01   5.78191940e-04]\n",
        "848 [  8.53857668e-04   2.92859456e-03   9.95075237e-01   1.14231071e-03]\n",
        "847 [  5.89568104e-04   1.47343837e-03   9.97358802e-01   5.78191940e-04]\n",
        "848 [  8.53857668e-04   2.92859456e-03   9.95075237e-01   1.14231071e-03]\n",
        "847 [  5.89568104e-04   1.47343837e-03   9.97358802e-01   5.78191940e-04]\n",
        "848 [  8.53857668e-04   2.92859456e-03   9.95075237e-01   1.14231071e-03]\n",
        "847 [  5.89568104e-04   1.47343837e-03   9.97358802e-01   5.78191940e-04]\n",
        "848 [  8.53857668e-04   2.92859456e-03   9.95075237e-01   1.14231071e-03]\n",
        "847 [  5.89568104e-04   1.47343837e-03   9.97358802e-01   5.78191940e-04]\n",
        "848 [  8.53857668e-04   2.92859456e-03   9.95075237e-01   1.14231071e-03]\n",
        "847 [  5.89568104e-04   1.47343837e-03   9.97358802e-01   5.78191940e-04]\n",
        "848 [  8.53857668e-04   2.92859456e-03   9.95075237e-01   1.14231071e-03]\n",
        "847 [  5.89568104e-04   1.47343837e-03   9.97358802e-01   5.78191940e-04]\n",
        "848 [  8.53857668e-04   2.92859456e-03   9.95075237e-01   1.14231071e-03]\n",
        "847 [  5.89568104e-04   1.47343837e-03   9.97358802e-01   5.78191940e-04]\n",
        "848 [  8.53857668e-04   2.92859456e-03   9.95075237e-01   1.14231071e-03]\n",
        "847 [  5.89568104e-04   1.47343837e-03   9.97358802e-01   5.78191940e-04]\n",
        "848 [  8.53857668e-04   2.92859456e-03   9.95075237e-01   1.14231071e-03]\n",
        "847 [  5.89568104e-04   1.47343837e-03   9.97358802e-01   5.78191940e-04]\n",
        "848 [  8.53857668e-04   2.92859456e-03   9.95075237e-01   1.14231071e-03]\n",
        "847 [  5.89568104e-04   1.47343837e-03   9.97358802e-01   5.78191940e-04]\n",
        "848 [  8.53857668e-04   2.92859456e-03   9.95075237e-01   1.14231071e-03]\n",
        "847 [  5.89568104e-04   1.47343837e-03   9.97358802e-01   5.78191940e-04]\n",
        "848 [  8.53857668e-04   2.92859456e-03   9.95075237e-01   1.14231071e-03]"
       ]
      },
      {
       "output_type": "stream",
       "stream": "stdout",
       "text": [
        "\n",
        "847 [  5.89568104e-04   1.47343837e-03   9.97358802e-01   5.78191940e-04]\n",
        "848 [  8.53857668e-04   2.92859456e-03   9.95075237e-01   1.14231071e-03]\n",
        "847 [  5.89568104e-04   1.47343837e-03   9.97358802e-01   5.78191940e-04]\n",
        "848 [  8.53857668e-04   2.92859456e-03   9.95075237e-01   1.14231071e-03]\n",
        "847 [  5.89568104e-04   1.47343837e-03   9.97358802e-01   5.78191940e-04]\n",
        "848 [  8.53857668e-04   2.92859456e-03   9.95075237e-01   1.14231071e-03]\n",
        "847 [  5.89568104e-04   1.47343837e-03   9.97358802e-01   5.78191940e-04]\n",
        "848 [  8.53857668e-04   2.92859456e-03   9.95075237e-01   1.14231071e-03]\n",
        "847 [  5.89568104e-04   1.47343837e-03   9.97358802e-01   5.78191940e-04]\n",
        "848 [  8.53857668e-04   2.92859456e-03   9.95075237e-01   1.14231071e-03]\n",
        "847 [  5.89568104e-04   1.47343837e-03   9.97358802e-01   5.78191940e-04]\n",
        "848 [  8.53857668e-04   2.92859456e-03   9.95075237e-01   1.14231071e-03]\n",
        "847 [  5.89568104e-04   1.47343837e-03   9.97358802e-01   5.78191940e-04]\n",
        "848 [  8.53857668e-04   2.92859456e-03   9.95075237e-01   1.14231071e-03]\n",
        "847 [  5.89568104e-04   1.47343837e-03   9.97358802e-01   5.78191940e-04]\n",
        "848 [  8.53857668e-04   2.92859456e-03   9.95075237e-01   1.14231071e-03]\n",
        "847 [  5.89568104e-04   1.47343837e-03   9.97358802e-01   5.78191940e-04]\n",
        "848 [  8.53857668e-04   2.92859456e-03   9.95075237e-01   1.14231071e-03]\n",
        "847 [  5.89568104e-04   1.47343837e-03   9.97358802e-01   5.78191940e-04]\n"
       ]
      }
     ],
     "prompt_number": 87
    },
    {
     "cell_type": "code",
     "collapsed": false,
     "input": [
      "print np.argsort(v[:, 1])[-30:]"
     ],
     "language": "python",
     "metadata": {},
     "outputs": [
      {
       "output_type": "stream",
       "stream": "stdout",
       "text": [
        "[333 334  36 811  22  28  48  29  61  25  59  34  35  27  52  53  49  60\n",
        "  26  51  30  54  58  50  55  57  56  33  31  32]\n"
       ]
      }
     ],
     "prompt_number": 64
    },
    {
     "cell_type": "code",
     "collapsed": false,
     "input": [
      "idx1 = 848\n",
      "idx2 = 847\n",
      "print taskToPerform\n",
      "print\n",
      "print v[idx1, :]\n",
      "print labels[idx1, :], (2.0-np.sum(np.abs(labels[idx1, :]-taskToPerform)))/2.0\n",
      "print neighbours[idx1, :]\n",
      "print pi_l(s, A[idx1, :, :], np.sum(np.repeat(taskToPerform.reshape((1, len(taskToPerform))), numStates, axis=0)*v, axis=-1), idx1, fs, neighbours, labels, taskToPerform, neighsProbs, w[idx1, :], True)\n",
      "print\n",
      "print v[idx2, :]\n",
      "print labels[idx2, :], (2.0-np.sum(np.abs(labels[idx2, :]-taskToPerform)))/2.0\n",
      "print neighbours[idx2, :]\n",
      "print pi_l(s, A[idx2, :, :], np.sum(np.repeat(taskToPerform.reshape((1, len(taskToPerform))), numStates, axis=0)*v, axis=-1), idx2, fs, neighbours, labels, taskToPerform, neighsProbs, w[idx2, :], True)\n",
      "print\n",
      "print v[idx1+1, :]\n",
      "print labels[idx1+1, :], (2.0-np.sum(np.abs(labels[idx1+1, :]-taskToPerform)))/2.0"
     ],
     "language": "python",
     "metadata": {},
     "outputs": [
      {
       "output_type": "stream",
       "stream": "stdout",
       "text": [
        "[ 0.  0.  1.  0.]\n",
        "\n",
        "[ 15.59688292  17.26375244  17.08287075  16.27112014]\n",
        "[  8.53857668e-04   2.92859456e-03   9.95075237e-01   1.14231071e-03] 0.995075237148\n",
        "[849 850 847 803 231 787 804 788 880 230 879 786 232 878 901]\n",
        "weights [ 0.54868202  0.05450235  0.04481665  0.04211933  0.04008968  0.0371336\n",
        "  0.03058284  0.02972827  0.0265431   0.02653131  0.0255259   0.02363553\n",
        "  0.02356589  0.02344588  0.02309762]\n",
        "current amount for action in pi_l 17.7534262621 1.0 0.901832509961 16.8515937522 849\n",
        "current amount for action in pi_l 17.4073397157 1.0 0.602280636681 16.805059079 850\n",
        "current amount for action in pi_l 17.9375830665 1.0 0.806850371325 17.1307326951 847\n",
        "current amount for action in pi_l 17.179454648 1.0 0.542784376798 16.6366702712 803\n",
        "current amount for action in pi_l 17.211248642 1.0 0.406142849158 16.8051057928 231\n",
        "current amount for action in pi_l 17.4814058015 1.0 0.349191841727 17.1322139598 787\n",
        "current amount for action in pi_l 16.5979823362 1.0 0.23873071534 16.3592516209 804\n",
        "current amount for action in pi_l 17.6420654608 1.0 0.337760391748 17.3043050691 788\n",
        "current amount for action in pi_l 17.1304931723 1.0 0.275155939929 16.8553372324 880\n",
        "current amount for action in pi_l 17.4855757148 1.0 0.408953675574 17.0766220392 230\n",
        "current amount for action in pi_l 17.3109588565 1.0 0.233937336362 17.0770215202 879\n",
        "current amount for action in pi_l 17.3568327506 1.0 0.322161047329 17.0346717033 786\n",
        "current amount for action in pi_l 17.111576743 1.0 0.371760025387 16.7398167177 232\n",
        "current amount for action in pi_l 17.2737965877 1.0 0.195878343863 17.0779182438 878\n",
        "current amount for action in pi_l 17.2654715445 1.0 0.232954168739 17.0325173758 901\n",
        "(array([ 0.28062945,  0.02787583,  0.51146098,  0.02154239,  0.02050431,\n",
        "        0.01899239,  0.01564193,  0.01520485,  0.01357576,  0.01356973,\n",
        "        0.0130555 ,  0.01208865,  0.01205303,  0.01199165,  0.01181353]), 2)\n",
        "\n",
        "[ 15.70196338  17.38547397  17.1307327   16.48230163]\n",
        "[  5.89568104e-04   1.47343837e-03   9.97358802e-01   5.78191940e-04] 0.997358801617\n",
        "[848 849 802 846 803 230 231 804 845 786  29 879 900  28 787]\n",
        "weights [ 0.50332247  0.10278965  0.05353128  0.04469296  0.04333307  0.03726396\n",
        "  0.03629102  0.02743244  0.02329984  0.02320454  0.02271681  0.02144736\n",
        "  0.0204257   0.02018602  0.02006289]\n",
        "current amount for action in pi_l 17.9795954301 1.0 0.896724684326 17.0828707457 848\n",
        "current amount for action in pi_l 17.664247787 1.0 0.81265403482 16.8515937522 849\n",
        "current amount for action in pi_l 17.8392165833 1.0 0.757552392776 17.0816641905 802\n",
        "current amount for action in pi_l 17.9624134515 1.0 0.807499018931 17.1549144326 846\n",
        "current amount for action in pi_l 17.1796973955 1.0 0.543027124258 16.6366702712 803\n",
        "current amount for action in pi_l 17.4877222445 1.0 0.411100205335 17.0766220392 230\n",
        "current amount for action in pi_l 17.2104889086 1.0 0.405383115797 16.8051057928 231\n",
        "current amount for action in pi_l 16.5973522564 1.0 0.238100635465 16.3592516209 804\n",
        "current amount for action in pi_l 17.9795954301 1.0 0.803991565206 17.1756038649 845\n",
        "current amount for action in pi_l 17.3567465514 1.0 0.322074848078 17.0346717033 786\n",
        "current amount for action in pi_l 16.0166870366 1.0 0.0287947201747 15.9878923164 29\n",
        "current amount for action in pi_l 17.3101431476 1.0 0.233121627416 17.0770215202 879\n",
        "current amount for action in pi_l 17.2705954911 1.0 0.194638401101 17.07595709 900\n",
        "current amount for action in pi_l 16.3458046797 1.0 0.0277087976703 16.318095882 28\n",
        "current amount for action in pi_l 17.4779916597 1.0 0.345777699861 17.1322139598 787\n",
        "(array([ 0.6681466 ,  0.06867855,  0.03576674,  0.02986145,  0.02895284,\n",
        "        0.02489779,  0.02424772,  0.01832889,  0.01556771,  0.01550403,\n",
        "        0.01517816,  0.01432998,  0.01364736,  0.01348722,  0.01340495]), 0)\n",
        "\n",
        "[ 15.77799536  17.43512912  16.85159375  16.1187012 ]\n",
        "[ 0.00135847  0.00604323  0.99012013  0.00247817] 0.990120131378\n"
       ]
      }
     ],
     "prompt_number": 94
    },
    {
     "cell_type": "code",
     "collapsed": false,
     "input": [
      "## distance of neighbours' labels to task to perform\n",
      "print taskToPerform\n",
      "print\n",
      "print 2.0-np.sum(np.abs(labels[neighbours[106, :], :]-np.reshape(taskToPerform, (1, len(taskToPerform))).repeat(len(labels[neighbours[106, :], :]), axis=0)), axis = -1)\n",
      "print neighbours[106, :]\n",
      "print labels[neighbours[106, :], :]\n",
      "print\n",
      "print 2.0-np.sum(np.abs(labels[neighbours[122, :], :]-np.reshape(taskToPerform, (1, len(taskToPerform))).repeat(len(labels[neighbours[122, :], :]), axis=0)), axis = -1)\n",
      "print neighbours[122, :]\n",
      "print labels[neighbours[122, :], :]"
     ],
     "language": "python",
     "metadata": {},
     "outputs": [
      {
       "output_type": "stream",
       "stream": "stdout",
       "text": [
        "[1 0 0 0]\n",
        "\n",
        "[ 1.99836307  1.99864192  1.9989547   2.          1.99778744  2.\n",
        "  1.99740689  2.          2.          2.          2.          2.\n",
        "  1.99687011  2.          1.99617377]\n",
        "[107 108 109 110 105 111 104 123 124 122 114 115 103 112 102]\n",
        "[[  9.99181536e-01   3.29636630e-04   4.85663141e-04   3.16411253e-06]\n",
        " [  9.99320962e-01   2.54359309e-04   4.22010515e-04   2.66833970e-06]\n",
        " [  9.99477350e-01   1.78281247e-04   3.42270310e-04   2.09817074e-06]\n",
        " [  1.00000000e+00   0.00000000e+00   0.00000000e+00   0.00000000e+00]\n",
        " [  9.98893720e-01   4.99225671e-04   6.02995998e-04   4.05860826e-06]\n",
        " [  1.00000000e+00   0.00000000e+00   0.00000000e+00   0.00000000e+00]\n",
        " [  9.98703444e-01   6.71402924e-04   6.20876540e-04   4.27660084e-06]\n",
        " [  1.00000000e+00   0.00000000e+00   0.00000000e+00   0.00000000e+00]\n",
        " [  1.00000000e+00   0.00000000e+00   0.00000000e+00   0.00000000e+00]\n",
        " [  1.00000000e+00   0.00000000e+00   0.00000000e+00   0.00000000e+00]\n",
        " [  1.00000000e+00   0.00000000e+00   0.00000000e+00   0.00000000e+00]\n",
        " [  1.00000000e+00   0.00000000e+00   0.00000000e+00   0.00000000e+00]\n",
        " [  9.98435054e-01   9.25068771e-04   6.35276071e-04   4.60146195e-06]\n",
        " [  1.00000000e+00   0.00000000e+00   0.00000000e+00   0.00000000e+00]\n",
        " [  9.98086886e-01   1.27496225e-03   6.33183902e-04   4.96801354e-06]]\n",
        "\n",
        "[ 2.          2.          2.          2.          2.          1.99574533\n",
        "  1.99793864  1.99836307  1.986566    1.99687011  1.99778744  1.98217314\n",
        "  1.99740689  1.99864192  1.99617377]\n",
        "[123 124 125 126 121 101 106 107 127 103 105  93 104 108 102]\n",
        "[[  1.00000000e+00   0.00000000e+00   0.00000000e+00   0.00000000e+00]\n",
        " [  1.00000000e+00   0.00000000e+00   0.00000000e+00   0.00000000e+00]\n",
        " [  1.00000000e+00   0.00000000e+00   0.00000000e+00   0.00000000e+00]\n",
        " [  1.00000000e+00   0.00000000e+00   0.00000000e+00   0.00000000e+00]\n",
        " [  1.00000000e+00   0.00000000e+00   0.00000000e+00   0.00000000e+00]\n",
        " [  9.97872665e-01   1.50267460e-03   6.19629617e-04   5.03061483e-06]\n",
        " [  9.98969318e-01   4.45207193e-04   5.81557199e-04   3.91797698e-06]\n",
        " [  9.99181536e-01   3.29636630e-04   4.85663141e-04   3.16411253e-06]\n",
        " [  9.93283002e-01   6.38216203e-03   3.30966375e-04   3.86994630e-06]\n",
        " [  9.98435054e-01   9.25068771e-04   6.35276071e-04   4.60146195e-06]\n",
        " [  9.98893720e-01   4.99225671e-04   6.02995998e-04   4.05860826e-06]\n",
        " [  9.91086568e-01   5.12761524e-03   3.76646307e-03   1.93532300e-05]\n",
        " [  9.98703444e-01   6.71402924e-04   6.20876540e-04   4.27660084e-06]\n",
        " [  9.99320962e-01   2.54359309e-04   4.22010515e-04   2.66833970e-06]\n",
        " [  9.98086886e-01   1.27496225e-03   6.33183902e-04   4.96801354e-06]]\n"
       ]
      }
     ],
     "prompt_number": 60
    },
    {
     "cell_type": "code",
     "collapsed": false,
     "input": [
      "print \"neighbours\", neighbours[startIdx, :]\n",
      "print \"v values\", np.sum(np.repeat(taskToPerform.reshape((1, len(taskToPerform))), numStates, axis=0)*v, axis=-1)[neighbours[startIdx, :]]\n",
      "print \"rewards\", -np.sum(np.abs(labels[neighbours[startIdx, :]]-taskToPerform), axis=-1)\n",
      "print \"labels\", labels[neighbours[startIdx, :], 2]\n",
      "print \"extra r\", dFut[startIdx, neighbours[startIdx]], np.min(dFut), np.max(dFut)\n",
      "print \"probs\", probs[startIdx, neighbours[startIdx]]"
     ],
     "language": "python",
     "metadata": {},
     "outputs": [
      {
       "ename": "NameError",
       "evalue": "name 'probs' is not defined",
       "output_type": "pyerr",
       "traceback": [
        "\u001b[0;31m---------------------------------------------------------------------------\u001b[0m\n\u001b[0;31mNameError\u001b[0m                                 Traceback (most recent call last)",
        "\u001b[0;32m<ipython-input-45-8ba656b71482>\u001b[0m in \u001b[0;36m<module>\u001b[0;34m()\u001b[0m\n\u001b[1;32m      4\u001b[0m \u001b[0;32mprint\u001b[0m \u001b[0;34m\"labels\"\u001b[0m\u001b[0;34m,\u001b[0m \u001b[0mlabels\u001b[0m\u001b[0;34m[\u001b[0m\u001b[0mneighbours\u001b[0m\u001b[0;34m[\u001b[0m\u001b[0mstartIdx\u001b[0m\u001b[0;34m,\u001b[0m \u001b[0;34m:\u001b[0m\u001b[0;34m]\u001b[0m\u001b[0;34m,\u001b[0m \u001b[0;36m2\u001b[0m\u001b[0;34m]\u001b[0m\u001b[0;34m\u001b[0m\u001b[0m\n\u001b[1;32m      5\u001b[0m \u001b[0;32mprint\u001b[0m \u001b[0;34m\"extra r\"\u001b[0m\u001b[0;34m,\u001b[0m \u001b[0mdFut\u001b[0m\u001b[0;34m[\u001b[0m\u001b[0mstartIdx\u001b[0m\u001b[0;34m,\u001b[0m \u001b[0mneighbours\u001b[0m\u001b[0;34m[\u001b[0m\u001b[0mstartIdx\u001b[0m\u001b[0;34m]\u001b[0m\u001b[0;34m]\u001b[0m\u001b[0;34m,\u001b[0m \u001b[0mnp\u001b[0m\u001b[0;34m.\u001b[0m\u001b[0mmin\u001b[0m\u001b[0;34m(\u001b[0m\u001b[0mdFut\u001b[0m\u001b[0;34m)\u001b[0m\u001b[0;34m,\u001b[0m \u001b[0mnp\u001b[0m\u001b[0;34m.\u001b[0m\u001b[0mmax\u001b[0m\u001b[0;34m(\u001b[0m\u001b[0mdFut\u001b[0m\u001b[0;34m)\u001b[0m\u001b[0;34m\u001b[0m\u001b[0m\n\u001b[0;32m----> 6\u001b[0;31m \u001b[0;32mprint\u001b[0m \u001b[0;34m\"probs\"\u001b[0m\u001b[0;34m,\u001b[0m \u001b[0mprobs\u001b[0m\u001b[0;34m[\u001b[0m\u001b[0mstartIdx\u001b[0m\u001b[0;34m,\u001b[0m \u001b[0mneighbours\u001b[0m\u001b[0;34m[\u001b[0m\u001b[0mstartIdx\u001b[0m\u001b[0;34m]\u001b[0m\u001b[0;34m]\u001b[0m\u001b[0;34m\u001b[0m\u001b[0m\n\u001b[0m",
        "\u001b[0;31mNameError\u001b[0m: name 'probs' is not defined"
       ]
      },
      {
       "output_type": "stream",
       "stream": "stdout",
       "text": [
        "neighbours [233 235 871 246 764 236 763 872  32  33 852 232 807 806 737]\n",
        "v values [ 35.69419691  36.64365287  36.49876985  34.97362511  34.95451779\n",
        "  36.63827956  34.9455808   36.8403701   33.19561031  34.92317828\n",
        "  34.95467221  34.66626177  33.17507758  33.92466007  33.15418135]\n",
        "rewards [-1.70514694 -1.64853132 -1.90066608 -1.66896679 -1.66500196 -1.64371222\n",
        " -1.69213608 -1.89975833 -1.66822754 -1.66882028 -1.69215009 -1.73384755\n",
        " -1.89081343 -1.88198981 -1.90924674]\n",
        "labels [ 0.44113567  0.41135618  0.33117876  0.42156514  0.4201902   0.40899661\n",
        "  0.4309735   0.33283621  0.03282479  0.03285234  0.43091458  0.45880856\n",
        "  0.08478895  0.12367277  0.05253681]\n",
        "extra r [ 1.25284374  0.16915104  1.83880485  1.26494575  1.232962    0.42432947\n",
        "  1.65023418  1.26165227  1.58297665  1.16006016  1.73717777  2.35841715\n",
        "  1.87543281  2.77317764  2.03868362] 0.133844005661 41.1180905011\n",
        "probs"
       ]
      }
     ],
     "prompt_number": 45
    },
    {
     "cell_type": "code",
     "collapsed": false,
     "input": [
      "def dist2prob(dM, sigmaMult, normalize) :\n",
      "    sigma = sigmaMult*np.mean(dM[np.nonzero(dM)])\n",
      "    print 'sigma', sigma\n",
      "    pM = np.exp((-dM)/sigma)\n",
      "## normalize probabilities row-wise\n",
      "    if normalize :\n",
      "        normTerm = np.sum(pM, axis=1)\n",
      "        normTerm = cv2.repeat(normTerm, 1, dM.shape[1])\n",
      "        pM = pM / normTerm\n",
      "    return pM\n",
      "\n",
      "probs = dist2prob(dFut, 0.01, True)\n",
      "figure(); imshow(probs)\n",
      "\n",
      "figure(); imshow(np.cumsum(probs, axis=1))"
     ],
     "language": "python",
     "metadata": {},
     "outputs": [
      {
       "output_type": "stream",
       "stream": "stdout",
       "text": [
        "sigma 0.0667496772841\n"
       ]
      },
      {
       "metadata": {},
       "output_type": "pyout",
       "prompt_number": 11,
       "text": [
        "<matplotlib.image.AxesImage at 0x7ff35a3c9e50>"
       ]
      }
     ],
     "prompt_number": 11
    },
    {
     "cell_type": "code",
     "collapsed": false,
     "input": [
      "class ImageLabel(QtGui.QLabel) :\n",
      "    \n",
      "    def __init__(self, text, parent=None):\n",
      "        super(ImageLabel, self).__init__(text, parent)\n",
      "        \n",
      "    def setPixmap(self, pixmap) :\n",
      "        if pixmap.width() > self.width() :\n",
      "            super(ImageLabel, self).setPixmap(pixmap.scaledToWidth(self.width()))\n",
      "        else :\n",
      "            super(ImageLabel, self).setPixmap(pixmap)\n",
      "        \n",
      "    def resizeEvent(self, event) :\n",
      "        if self.pixmap() != None :\n",
      "            if self.pixmap().width() > self.width() :\n",
      "                self.setPixmap(self.pixmap().scaledToWidth(self.width()))\n",
      "                \n",
      "class Window(QtGui.QWidget):\n",
      "    def __init__(self):\n",
      "        super(Window, self).__init__()\n",
      "        \n",
      "        self.createGUI()\n",
      "        \n",
      "        self.setWindowTitle(\"Video Fields Visualizer\")\n",
      "        self.resize(1280, 720)\n",
      "        \n",
      "        self.textureTimer = QtCore.QTimer(self)\n",
      "        self.textureTimer.setInterval(1000/30)\n",
      "        self.textureTimer.start()\n",
      "        self.textureTimer.timeout.connect(self.renderOneFrame)\n",
      "        \n",
      "        self.taskIdx = 0\n",
      "        self.taskToPerform = possibleTasksToPerform[self.taskIdx, :]\n",
      "#         self.taskToPerform = np.array([0, 0.5, 0.0, 0.5])\n",
      "        self.currentIdx = 570\n",
      "        \n",
      "        ## HACK ##\n",
      "        im = np.ascontiguousarray(Image.open(frames[self.currentIdx+4]))\n",
      "        qim = QtGui.QImage(im.data, im.shape[1], im.shape[0], im.strides[0], QtGui.QImage.Format_RGB888);\n",
      "        self.frameLabel.setPixmap(QtGui.QPixmap.fromImage(qim))\n",
      "        \n",
      "        infoText = \"Frame idx: \"+np.string_(self.currentIdx)+\"\\t\"+np.string_(labels[self.currentIdx, :])\n",
      "        self.infoLabel.setText(infoText)\n",
      "        print self.currentIdx, labels[self.currentIdx, :]\n",
      "        \n",
      "    def changeTaskLabel(self, index) :\n",
      "        self.taskIdx = index\n",
      "        self.taskToPerform = possibleTasksToPerform[self.taskIdx, :]\n",
      "        \n",
      "    def renderOneFrame(self) :\n",
      "        \n",
      "        s = {'frameState': fs[self.currentIdx, :, :], 'taskParams': labels[self.currentIdx, :]}\n",
      "        neighsProbs = np.zeros(k)#probs[self.currentIdx, neighbours[self.currentIdx, :]]/np.sum(probs[self.currentIdx, neighbours[self.currentIdx, :]])\n",
      "#         bestA, bestAIdx = pi_l(s, A[self.currentIdx, :, :], v[:, self.taskIdx], self.currentIdx, fs, neighbours, labels, self.taskToPerform)\n",
      "        bestA, bestAIdx = pi_l(s, A[self.currentIdx, :, :], np.sum(np.repeat(self.taskToPerform.reshape((1, len(self.taskToPerform))), numStates, axis=0)*v, axis=-1), self.currentIdx, fs, neighbours, labels, self.taskToPerform, neighsProbs, w[self.currentIdx, :])\n",
      "        newTaskState, newIdx = integrateTaskState(s, bestA, fs[neighbours[self.currentIdx, :], :, :], 1.0, neighbours[self.currentIdx, :], labels)\n",
      "        self.currentIdx = np.copy(newIdx)\n",
      "        \n",
      "        ## HACK ##\n",
      "        im = np.ascontiguousarray(Image.open(frames[self.currentIdx+4]))\n",
      "        qim = QtGui.QImage(im.data, im.shape[1], im.shape[0], im.strides[0], QtGui.QImage.Format_RGB888);\n",
      "        self.frameLabel.setPixmap(QtGui.QPixmap.fromImage(qim))\n",
      "        \n",
      "        infoText = \"Frame idx: \"+np.string_(newIdx)+\"\\t\"+np.string_(newTaskState['taskParams'])\n",
      "        self.infoLabel.setText(infoText)\n",
      "#         print newIdx, newTaskState['taskParams']\n",
      "        \n",
      "    def createGUI(self) :\n",
      "        \n",
      "        ## WIDGETS ##\n",
      "        \n",
      "        self.frameLabel = ImageLabel(\"Frame\")\n",
      "        self.frameLabel.setSizePolicy(QtGui.QSizePolicy.MinimumExpanding, QtGui.QSizePolicy.MinimumExpanding)\n",
      "        self.frameLabel.setAlignment(QtCore.Qt.AlignCenter | QtCore.Qt.AlignHCenter)\n",
      "        \n",
      "        self.infoLabel = QtGui.QLabel(\"Info text\")\n",
      "        \n",
      "        self.labelComboBox = QtGui.QComboBox()\n",
      "        self.labelComboBox.addItem(\"Away\")\n",
      "        self.labelComboBox.addItem(\"Right\")\n",
      "        self.labelComboBox.addItem(\"Towards\")\n",
      "        self.labelComboBox.addItem(\"Left\")\n",
      "        \n",
      "        ## SIGNALS ##\n",
      "        \n",
      "        self.labelComboBox.currentIndexChanged[int].connect(self.changeTaskLabel)\n",
      "#         self.openSequenceButton.clicked.connect(self.openSequence)\n",
      "        \n",
      "#         self.tabWidget.currentChanged.connect(self.tabChanged)\n",
      "        \n",
      "        ## LAYOUTS ##\n",
      "        \n",
      "        mainLayout = QtGui.QVBoxLayout()\n",
      "        mainLayout.addWidget(self.frameLabel)\n",
      "        mainLayout.addWidget(self.infoLabel)\n",
      "        mainLayout.addWidget(self.labelComboBox)\n",
      "        self.setLayout(mainLayout)"
     ],
     "language": "python",
     "metadata": {},
     "outputs": [],
     "prompt_number": 15
    },
    {
     "cell_type": "code",
     "collapsed": false,
     "input": [
      "window = Window()\n",
      "window.show()\n",
      "app.exec_()"
     ],
     "language": "python",
     "metadata": {},
     "outputs": [
      {
       "output_type": "stream",
       "stream": "stdout",
       "text": [
        "570 [  1.60641987e-03   9.98357008e-01   3.45027541e-05   2.06944855e-06]\n"
       ]
      },
      {
       "metadata": {},
       "output_type": "pyout",
       "prompt_number": 89,
       "text": [
        "0"
       ]
      }
     ],
     "prompt_number": 89
    }
   ],
   "metadata": {}
  }
 ]
}