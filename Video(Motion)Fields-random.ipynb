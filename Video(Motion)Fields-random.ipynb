{
 "metadata": {
  "name": ""
 },
 "nbformat": 3,
 "nbformat_minor": 0,
 "worksheets": [
  {
   "cells": [
    {
     "cell_type": "code",
     "collapsed": false,
     "input": [
      "## Imports and defines\n",
      "%pylab \n",
      "\n",
      "from PIL import Image\n",
      "from PySide import QtCore, QtGui\n",
      "\n",
      "import numpy as np\n",
      "import scipy as sp\n",
      "import scipy.io as sio\n",
      "import cv2\n",
      "import cv\n",
      "import glob\n",
      "import time\n",
      "import sys\n",
      "import os\n",
      "from scipy import ndimage\n",
      "from scipy import stats\n",
      "\n",
      "from tsne import tsne\n",
      "\n",
      "from _emd import emd\n",
      "\n",
      "import GraphWithValues as gwv\n",
      "import VideoTexturesUtils as vtu\n",
      "import ComputeGridFeatures as cgf\n",
      "\n",
      "dataFolder = \"/home/ilisescu/PhD/data/\"\n",
      "POSE = 0\n",
      "VELOCITY = 1\n",
      "FUT_VELOCITY = 2\n",
      "\n",
      "app = QtGui.QApplication(sys.argv)"
     ],
     "language": "python",
     "metadata": {},
     "outputs": [
      {
       "output_type": "stream",
       "stream": "stdout",
       "text": [
        "Using matplotlib backend: TkAgg\n",
        "Populating the interactive namespace from numpy and matplotlib\n"
       ]
      }
     ],
     "prompt_number": 1
    },
    {
     "cell_type": "code",
     "collapsed": false,
     "input": [
      "## read frames from sequence of images\n",
      "# sampleData = \"pendulum/\"\n",
      "sampleData = \"ribbon2/\"\n",
      "# sampleData = \"ribbon1_matted/\"\n",
      "# sampleData = \"little_palm1_cropped/\"\n",
      "# sampleData = \"ballAnimation/\"\n",
      "outputData = dataFolder+sampleData\n",
      "\n",
      "## Find pngs in sample data\n",
      "frames = glob.glob(dataFolder + sampleData + \"frame-*.png\")\n",
      "mattes = glob.glob(dataFolder + sampleData + \"matte-*.png\")\n",
      "frames = np.sort(frames)\n",
      "mattes = np.sort(mattes)#[0:len(frames)-10]\n",
      "numFrames = len(frames)\n",
      "frameSize = cv2.imread(frames[0]).shape\n",
      "print numFrames, len(mattes)"
     ],
     "language": "python",
     "metadata": {},
     "outputs": [
      {
       "output_type": "stream",
       "stream": "stdout",
       "text": [
        "1280 1280\n"
       ]
      }
     ],
     "prompt_number": 2
    },
    {
     "cell_type": "code",
     "collapsed": false,
     "input": [
      "## compute features for image\n",
      "blocksPerWidth = 4#16#32\n",
      "blocksPerHeight = 4#16#48\n",
      "subDivisions = blocksPerWidth*blocksPerHeight\n",
      "\n",
      "## given block sizes and img sizes build indices representing each block\n",
      "imageSize = np.array(cv2.cvtColor(cv2.imread(frames[0]), cv2.COLOR_BGR2RGB)).shape\n",
      "stencils = cgf.stencil2D(blocksPerWidth, blocksPerHeight, imageSize)\n",
      "\n",
      "features = cgf.histFgFeatures(stencils, subDivisions, frames, mattes)\n",
      "figure(); imshow(features.T, interpolation='nearest')"
     ],
     "language": "python",
     "metadata": {},
     "outputs": [
      {
       "output_type": "stream",
       "stream": "stdout",
       "text": [
        "\r",
        "Computed features for frame 0 of 1280 in 0.0858211517334"
       ]
      },
      {
       "output_type": "stream",
       "stream": "stdout",
       "text": [
        "\r",
        "Computed features for frame 1 of 1280 in 0.083477973938"
       ]
      },
      {
       "output_type": "stream",
       "stream": "stdout",
       "text": [
        "\r",
        "Computed features for frame 2 of 1280 in 0.0738179683685"
       ]
      },
      {
       "output_type": "stream",
       "stream": "stdout",
       "text": [
        "\r",
        "Computed features for frame 3 of 1280 in 0.0779411792755"
       ]
      },
      {
       "output_type": "stream",
       "stream": "stdout",
       "text": [
        "\r",
        "Computed features for frame 4 of 1280 in 0.0755751132965"
       ]
      },
      {
       "output_type": "stream",
       "stream": "stdout",
       "text": [
        "\r",
        "Computed features for frame 5 of 1280 in 0.0741100311279"
       ]
      },
      {
       "output_type": "stream",
       "stream": "stdout",
       "text": [
        "\r",
        "Computed features for frame 6 of 1280 in 0.0804951190948"
       ]
      },
      {
       "output_type": "stream",
       "stream": "stdout",
       "text": [
        "\r",
        "Computed features for frame 7 of 1280 in 0.0744159221649"
       ]
      },
      {
       "output_type": "stream",
       "stream": "stdout",
       "text": [
        "\r",
        "Computed features for frame 8 of 1280 in 0.0751261711121"
       ]
      },
      {
       "output_type": "stream",
       "stream": "stdout",
       "text": [
        "\r",
        "Computed features for frame 9 of 1280 in 0.0742030143738"
       ]
      },
      {
       "output_type": "stream",
       "stream": "stdout",
       "text": [
        "\r",
        "Computed features for frame 10 of 1280 in 0.0750999450684"
       ]
      },
      {
       "output_type": "stream",
       "stream": "stdout",
       "text": [
        "\r",
        "Computed features for frame 11 of 1280 in 0.0738859176636"
       ]
      },
      {
       "output_type": "stream",
       "stream": "stdout",
       "text": [
        "\r",
        "Computed features for frame 12 of 1280 in 0.0759661197662"
       ]
      },
      {
       "output_type": "stream",
       "stream": "stdout",
       "text": [
        "\r",
        "Computed features for frame 13 of 1280 in 0.0737059116364"
       ]
      },
      {
       "output_type": "stream",
       "stream": "stdout",
       "text": [
        "\r",
        "Computed features for frame 14 of 1280 in 0.0760290622711"
       ]
      },
      {
       "output_type": "stream",
       "stream": "stdout",
       "text": [
        "\r",
        "Computed features for frame 15 of 1280 in 0.0773708820343"
       ]
      },
      {
       "output_type": "stream",
       "stream": "stdout",
       "text": [
        "\r",
        "Computed features for frame 16 of 1280 in 0.0743048191071"
       ]
      },
      {
       "output_type": "stream",
       "stream": "stdout",
       "text": [
        "\r",
        "Computed features for frame 17 of 1280 in 0.0759170055389"
       ]
      },
      {
       "output_type": "stream",
       "stream": "stdout",
       "text": [
        "\r",
        "Computed features for frame 18 of 1280 in 0.0743319988251"
       ]
      },
      {
       "output_type": "stream",
       "stream": "stdout",
       "text": [
        "\r",
        "Computed features for frame 19 of 1280 in 0.0760469436646"
       ]
      },
      {
       "output_type": "stream",
       "stream": "stdout",
       "text": [
        "\r",
        "Computed features for frame 20 of 1280 in 0.0747048854828"
       ]
      },
      {
       "output_type": "stream",
       "stream": "stdout",
       "text": [
        "\r",
        "Computed features for frame 21 of 1280 in 0.0753929615021"
       ]
      },
      {
       "output_type": "stream",
       "stream": "stdout",
       "text": [
        "\r",
        "Computed features for frame 22 of 1280 in 0.0752210617065"
       ]
      },
      {
       "output_type": "stream",
       "stream": "stdout",
       "text": [
        "\r",
        "Computed features for frame 23 of 1280 in 0.0794270038605"
       ]
      },
      {
       "output_type": "stream",
       "stream": "stdout",
       "text": [
        "\r",
        "Computed features for frame 24 of 1280 in 0.0739190578461"
       ]
      },
      {
       "output_type": "stream",
       "stream": "stdout",
       "text": [
        "\r",
        "Computed features for frame 25 of 1280 in 0.0755100250244"
       ]
      },
      {
       "output_type": "stream",
       "stream": "stdout",
       "text": [
        "\r",
        "Computed features for frame 26 of 1280 in 0.0735628604889"
       ]
      },
      {
       "output_type": "stream",
       "stream": "stdout",
       "text": [
        "\r",
        "Computed features for frame 27 of 1280 in 0.0746359825134"
       ]
      },
      {
       "output_type": "stream",
       "stream": "stdout",
       "text": [
        "\r",
        "Computed features for frame 28 of 1280 in 0.0741319656372"
       ]
      },
      {
       "output_type": "stream",
       "stream": "stdout",
       "text": [
        "\r",
        "Computed features for frame 29 of 1280 in 0.0753939151764"
       ]
      },
      {
       "output_type": "stream",
       "stream": "stdout",
       "text": [
        "\r",
        "Computed features for frame 30 of 1280 in 0.0759429931641"
       ]
      },
      {
       "output_type": "stream",
       "stream": "stdout",
       "text": [
        "\r",
        "Computed features for frame 31 of 1280 in 0.0748529434204"
       ]
      },
      {
       "output_type": "stream",
       "stream": "stdout",
       "text": [
        "\r",
        "Computed features for frame 32 of 1280 in 0.0727150440216"
       ]
      },
      {
       "output_type": "stream",
       "stream": "stdout",
       "text": [
        "\r",
        "Computed features for frame 33 of 1280 in 0.0726919174194"
       ]
      },
      {
       "output_type": "stream",
       "stream": "stdout",
       "text": [
        "\r",
        "Computed features for frame 34 of 1280 in 0.0736689567566"
       ]
      },
      {
       "output_type": "stream",
       "stream": "stdout",
       "text": [
        "\r",
        "Computed features for frame 35 of 1280 in 0.0725779533386"
       ]
      },
      {
       "output_type": "stream",
       "stream": "stdout",
       "text": [
        "\r",
        "Computed features for frame 36 of 1280 in 0.0737750530243"
       ]
      },
      {
       "output_type": "stream",
       "stream": "stdout",
       "text": [
        "\r",
        "Computed features for frame 37 of 1280 in 0.0763688087463"
       ]
      },
      {
       "output_type": "stream",
       "stream": "stdout",
       "text": [
        "\r",
        "Computed features for frame 38 of 1280 in 0.074933052063"
       ]
      },
      {
       "output_type": "stream",
       "stream": "stdout",
       "text": [
        "\r",
        "Computed features for frame 39 of 1280 in 0.0728030204773"
       ]
      },
      {
       "output_type": "stream",
       "stream": "stdout",
       "text": [
        "\r",
        "Computed features for frame 40 of 1280 in 0.072350025177"
       ]
      },
      {
       "output_type": "stream",
       "stream": "stdout",
       "text": [
        "\r",
        "Computed features for frame 41 of 1280 in 0.0731167793274"
       ]
      },
      {
       "output_type": "stream",
       "stream": "stdout",
       "text": [
        "\r",
        "Computed features for frame 42 of 1280 in 0.0732550621033"
       ]
      },
      {
       "output_type": "stream",
       "stream": "stdout",
       "text": [
        "\r",
        "Computed features for frame 43 of 1280 in 0.0752160549164"
       ]
      },
      {
       "output_type": "stream",
       "stream": "stdout",
       "text": [
        "\r",
        "Computed features for frame 44 of 1280 in 0.0739171504974"
       ]
      },
      {
       "output_type": "stream",
       "stream": "stdout",
       "text": [
        "\r",
        "Computed features for frame 45 of 1280 in 0.0761029720306"
       ]
      },
      {
       "output_type": "stream",
       "stream": "stdout",
       "text": [
        "\r",
        "Computed features for frame 46 of 1280 in 0.0786979198456"
       ]
      },
      {
       "output_type": "stream",
       "stream": "stdout",
       "text": [
        "\r",
        "Computed features for frame 47 of 1280 in 0.0733819007874"
       ]
      },
      {
       "output_type": "stream",
       "stream": "stdout",
       "text": [
        "\r",
        "Computed features for frame 48 of 1280 in 0.0742969512939"
       ]
      },
      {
       "output_type": "stream",
       "stream": "stdout",
       "text": [
        "\r",
        "Computed features for frame 49 of 1280 in 0.0735700130463"
       ]
      },
      {
       "output_type": "stream",
       "stream": "stdout",
       "text": [
        "\r",
        "Computed features for frame 50 of 1280 in 0.0799210071564"
       ]
      },
      {
       "output_type": "stream",
       "stream": "stdout",
       "text": [
        "\r",
        "Computed features for frame 51 of 1280 in 0.0759110450745"
       ]
      },
      {
       "output_type": "stream",
       "stream": "stdout",
       "text": [
        "\r",
        "Computed features for frame 52 of 1280 in 0.0748329162598"
       ]
      },
      {
       "output_type": "stream",
       "stream": "stdout",
       "text": [
        "\r",
        "Computed features for frame 53 of 1280 in 0.0746939182281"
       ]
      },
      {
       "output_type": "stream",
       "stream": "stdout",
       "text": [
        "\r",
        "Computed features for frame 54 of 1280 in 0.0745120048523"
       ]
      },
      {
       "output_type": "stream",
       "stream": "stdout",
       "text": [
        "\r",
        "Computed features for frame 55 of 1280 in 0.0736680030823"
       ]
      },
      {
       "output_type": "stream",
       "stream": "stdout",
       "text": [
        "\r",
        "Computed features for frame 56 of 1280 in 0.0782160758972"
       ]
      },
      {
       "output_type": "stream",
       "stream": "stdout",
       "text": [
        "\r",
        "Computed features for frame 57 of 1280 in 0.0754308700562"
       ]
      },
      {
       "output_type": "stream",
       "stream": "stdout",
       "text": [
        "\r",
        "Computed features for frame 58 of 1280 in 0.0742440223694"
       ]
      },
      {
       "output_type": "stream",
       "stream": "stdout",
       "text": [
        "\r",
        "Computed features for frame 59 of 1280 in 0.0747470855713"
       ]
      },
      {
       "output_type": "stream",
       "stream": "stdout",
       "text": [
        "\r",
        "Computed features for frame 60 of 1280 in 0.0764131546021"
       ]
      },
      {
       "output_type": "stream",
       "stream": "stdout",
       "text": [
        "\r",
        "Computed features for frame 61 of 1280 in 0.0748450756073"
       ]
      },
      {
       "output_type": "stream",
       "stream": "stdout",
       "text": [
        "\r",
        "Computed features for frame 62 of 1280 in 0.073970079422"
       ]
      },
      {
       "output_type": "stream",
       "stream": "stdout",
       "text": [
        "\r",
        "Computed features for frame 63 of 1280 in 0.0740790367126"
       ]
      },
      {
       "output_type": "stream",
       "stream": "stdout",
       "text": [
        "\r",
        "Computed features for frame 64 of 1280 in 0.0816049575806"
       ]
      },
      {
       "output_type": "stream",
       "stream": "stdout",
       "text": [
        "\r",
        "Computed features for frame 65 of 1280 in 0.0774359703064"
       ]
      },
      {
       "output_type": "stream",
       "stream": "stdout",
       "text": [
        "\r",
        "Computed features for frame 66 of 1280 in 0.0806460380554"
       ]
      },
      {
       "output_type": "stream",
       "stream": "stdout",
       "text": [
        "\r",
        "Computed features for frame 67 of 1280 in 0.0760748386383"
       ]
      },
      {
       "output_type": "stream",
       "stream": "stdout",
       "text": [
        "\r",
        "Computed features for frame 68 of 1280 in 0.074177980423"
       ]
      },
      {
       "output_type": "stream",
       "stream": "stdout",
       "text": [
        "\r",
        "Computed features for frame 69 of 1280 in 0.0769979953766"
       ]
      },
      {
       "output_type": "stream",
       "stream": "stdout",
       "text": [
        "\r",
        "Computed features for frame 70 of 1280 in 0.0781109333038"
       ]
      },
      {
       "output_type": "stream",
       "stream": "stdout",
       "text": [
        "\r",
        "Computed features for frame 71 of 1280 in 0.0746939182281"
       ]
      },
      {
       "output_type": "stream",
       "stream": "stdout",
       "text": [
        "\r",
        "Computed features for frame 72 of 1280 in 0.0738840103149"
       ]
      },
      {
       "output_type": "stream",
       "stream": "stdout",
       "text": [
        "\r",
        "Computed features for frame 73 of 1280 in 0.0726330280304"
       ]
      },
      {
       "output_type": "stream",
       "stream": "stdout",
       "text": [
        "\r",
        "Computed features for frame 74 of 1280 in 0.077996969223"
       ]
      },
      {
       "output_type": "stream",
       "stream": "stdout",
       "text": [
        "\r",
        "Computed features for frame 75 of 1280 in 0.0816338062286"
       ]
      },
      {
       "output_type": "stream",
       "stream": "stdout",
       "text": [
        "\r",
        "Computed features for frame 76 of 1280 in 0.0808601379395"
       ]
      },
      {
       "output_type": "stream",
       "stream": "stdout",
       "text": [
        "\r",
        "Computed features for frame 77 of 1280 in 0.0785739421844"
       ]
      },
      {
       "output_type": "stream",
       "stream": "stdout",
       "text": [
        "\r",
        "Computed features for frame 78 of 1280 in 0.0738999843597"
       ]
      },
      {
       "output_type": "stream",
       "stream": "stdout",
       "text": [
        "\r",
        "Computed features for frame 79 of 1280 in 0.0752990245819"
       ]
      },
      {
       "output_type": "stream",
       "stream": "stdout",
       "text": [
        "\r",
        "Computed features for frame 80 of 1280 in 0.075973033905"
       ]
      },
      {
       "output_type": "stream",
       "stream": "stdout",
       "text": [
        "\r",
        "Computed features for frame 81 of 1280 in 0.0767087936401"
       ]
      },
      {
       "output_type": "stream",
       "stream": "stdout",
       "text": [
        "\r",
        "Computed features for frame 82 of 1280 in 0.0787780284882"
       ]
      },
      {
       "output_type": "stream",
       "stream": "stdout",
       "text": [
        "\r",
        "Computed features for frame 83 of 1280 in 0.0736379623413"
       ]
      },
      {
       "output_type": "stream",
       "stream": "stdout",
       "text": [
        "\r",
        "Computed features for frame 84 of 1280 in 0.0749130249023"
       ]
      },
      {
       "output_type": "stream",
       "stream": "stdout",
       "text": [
        "\r",
        "Computed features for frame 85 of 1280 in 0.0804028511047"
       ]
      },
      {
       "output_type": "stream",
       "stream": "stdout",
       "text": [
        "\r",
        "Computed features for frame 86 of 1280 in 0.0753002166748"
       ]
      },
      {
       "output_type": "stream",
       "stream": "stdout",
       "text": [
        "\r",
        "Computed features for frame 87 of 1280 in 0.0748469829559"
       ]
      },
      {
       "output_type": "stream",
       "stream": "stdout",
       "text": [
        "\r",
        "Computed features for frame 88 of 1280 in 0.074492931366"
       ]
      },
      {
       "output_type": "stream",
       "stream": "stdout",
       "text": [
        "\r",
        "Computed features for frame 89 of 1280 in 0.0737459659576"
       ]
      },
      {
       "output_type": "stream",
       "stream": "stdout",
       "text": [
        "\r",
        "Computed features for frame 90 of 1280 in 0.07990193367"
       ]
      },
      {
       "output_type": "stream",
       "stream": "stdout",
       "text": [
        "\r",
        "Computed features for frame 91 of 1280 in 0.0747530460358"
       ]
      },
      {
       "output_type": "stream",
       "stream": "stdout",
       "text": [
        "\r",
        "Computed features for frame 92 of 1280 in 0.0738830566406"
       ]
      },
      {
       "output_type": "stream",
       "stream": "stdout",
       "text": [
        "\r",
        "Computed features for frame 93 of 1280 in 0.0749959945679"
       ]
      },
      {
       "output_type": "stream",
       "stream": "stdout",
       "text": [
        "\r",
        "Computed features for frame 94 of 1280 in 0.0734338760376"
       ]
      },
      {
       "output_type": "stream",
       "stream": "stdout",
       "text": [
        "\r",
        "Computed features for frame 95 of 1280 in 0.0781481266022"
       ]
      },
      {
       "output_type": "stream",
       "stream": "stdout",
       "text": [
        "\r",
        "Computed features for frame 96 of 1280 in 0.0746269226074"
       ]
      },
      {
       "output_type": "stream",
       "stream": "stdout",
       "text": [
        "\r",
        "Computed features for frame 97 of 1280 in 0.0751261711121"
       ]
      },
      {
       "output_type": "stream",
       "stream": "stdout",
       "text": [
        "\r",
        "Computed features for frame 98 of 1280 in 0.0742390155792"
       ]
      },
      {
       "output_type": "stream",
       "stream": "stdout",
       "text": [
        "\r",
        "Computed features for frame 99 of 1280 in 0.0747509002686"
       ]
      },
      {
       "output_type": "stream",
       "stream": "stdout",
       "text": [
        "\r",
        "Computed features for frame 100 of 1280 in 0.0748250484467"
       ]
      },
      {
       "output_type": "stream",
       "stream": "stdout",
       "text": [
        "\r",
        "Computed features for frame 101 of 1280 in 0.0752861499786"
       ]
      },
      {
       "output_type": "stream",
       "stream": "stdout",
       "text": [
        "\r",
        "Computed features for frame 102 of 1280 in 0.0757350921631"
       ]
      },
      {
       "output_type": "stream",
       "stream": "stdout",
       "text": [
        "\r",
        "Computed features for frame 103 of 1280 in 0.0778839588165"
       ]
      },
      {
       "output_type": "stream",
       "stream": "stdout",
       "text": [
        "\r",
        "Computed features for frame 104 of 1280 in 0.0742299556732"
       ]
      },
      {
       "output_type": "stream",
       "stream": "stdout",
       "text": [
        "\r",
        "Computed features for frame 105 of 1280 in 0.0775921344757"
       ]
      },
      {
       "output_type": "stream",
       "stream": "stdout",
       "text": [
        "\r",
        "Computed features for frame 106 of 1280 in 0.0749690532684"
       ]
      },
      {
       "output_type": "stream",
       "stream": "stdout",
       "text": [
        "\r",
        "Computed features for frame 107 of 1280 in 0.0750601291656"
       ]
      },
      {
       "output_type": "stream",
       "stream": "stdout",
       "text": [
        "\r",
        "Computed features for frame 108 of 1280 in 0.0748989582062"
       ]
      },
      {
       "output_type": "stream",
       "stream": "stdout",
       "text": [
        "\r",
        "Computed features for frame 109 of 1280 in 0.0746109485626"
       ]
      },
      {
       "output_type": "stream",
       "stream": "stdout",
       "text": [
        "\r",
        "Computed features for frame 110 of 1280 in 0.0740637779236"
       ]
      },
      {
       "output_type": "stream",
       "stream": "stdout",
       "text": [
        "\r",
        "Computed features for frame 111 of 1280 in 0.0723221302032"
       ]
      },
      {
       "output_type": "stream",
       "stream": "stdout",
       "text": [
        "\r",
        "Computed features for frame 112 of 1280 in 0.0735380649567"
       ]
      },
      {
       "output_type": "stream",
       "stream": "stdout",
       "text": [
        "\r",
        "Computed features for frame 113 of 1280 in 0.0723450183868"
       ]
      },
      {
       "output_type": "stream",
       "stream": "stdout",
       "text": [
        "\r",
        "Computed features for frame 114 of 1280 in 0.0741131305695"
       ]
      },
      {
       "output_type": "stream",
       "stream": "stdout",
       "text": [
        "\r",
        "Computed features for frame 115 of 1280 in 0.0737800598145"
       ]
      },
      {
       "output_type": "stream",
       "stream": "stdout",
       "text": [
        "\r",
        "Computed features for frame 116 of 1280 in 0.073723077774"
       ]
      },
      {
       "output_type": "stream",
       "stream": "stdout",
       "text": [
        "\r",
        "Computed features for frame 117 of 1280 in 0.0769381523132"
       ]
      },
      {
       "output_type": "stream",
       "stream": "stdout",
       "text": [
        "\r",
        "Computed features for frame 118 of 1280 in 0.0746378898621"
       ]
      },
      {
       "output_type": "stream",
       "stream": "stdout",
       "text": [
        "\r",
        "Computed features for frame 119 of 1280 in 0.0740599632263"
       ]
      },
      {
       "output_type": "stream",
       "stream": "stdout",
       "text": [
        "\r",
        "Computed features for frame 120 of 1280 in 0.0760221481323"
       ]
      },
      {
       "output_type": "stream",
       "stream": "stdout",
       "text": [
        "\r",
        "Computed features for frame 121 of 1280 in 0.0733730792999"
       ]
      },
      {
       "output_type": "stream",
       "stream": "stdout",
       "text": [
        "\r",
        "Computed features for frame 122 of 1280 in 0.0749719142914"
       ]
      },
      {
       "output_type": "stream",
       "stream": "stdout",
       "text": [
        "\r",
        "Computed features for frame 123 of 1280 in 0.0743048191071"
       ]
      },
      {
       "output_type": "stream",
       "stream": "stdout",
       "text": [
        "\r",
        "Computed features for frame 124 of 1280 in 0.0731160640717"
       ]
      },
      {
       "output_type": "stream",
       "stream": "stdout",
       "text": [
        "\r",
        "Computed features for frame 125 of 1280 in 0.0788719654083"
       ]
      },
      {
       "output_type": "stream",
       "stream": "stdout",
       "text": [
        "\r",
        "Computed features for frame 126 of 1280 in 0.0744569301605"
       ]
      },
      {
       "output_type": "stream",
       "stream": "stdout",
       "text": [
        "\r",
        "Computed features for frame 127 of 1280 in 0.0735960006714"
       ]
      },
      {
       "output_type": "stream",
       "stream": "stdout",
       "text": [
        "\r",
        "Computed features for frame 128 of 1280 in 0.0743279457092"
       ]
      },
      {
       "output_type": "stream",
       "stream": "stdout",
       "text": [
        "\r",
        "Computed features for frame 129 of 1280 in 0.0774328708649"
       ]
      },
      {
       "output_type": "stream",
       "stream": "stdout",
       "text": [
        "\r",
        "Computed features for frame 130 of 1280 in 0.0744528770447"
       ]
      },
      {
       "output_type": "stream",
       "stream": "stdout",
       "text": [
        "\r",
        "Computed features for frame 131 of 1280 in 0.0728018283844"
       ]
      },
      {
       "output_type": "stream",
       "stream": "stdout",
       "text": [
        "\r",
        "Computed features for frame 132 of 1280 in 0.0760869979858"
       ]
      },
      {
       "output_type": "stream",
       "stream": "stdout",
       "text": [
        "\r",
        "Computed features for frame 133 of 1280 in 0.0739140510559"
       ]
      },
      {
       "output_type": "stream",
       "stream": "stdout",
       "text": [
        "\r",
        "Computed features for frame 134 of 1280 in 0.0742928981781"
       ]
      },
      {
       "output_type": "stream",
       "stream": "stdout",
       "text": [
        "\r",
        "Computed features for frame 135 of 1280 in 0.0776500701904"
       ]
      },
      {
       "output_type": "stream",
       "stream": "stdout",
       "text": [
        "\r",
        "Computed features for frame 136 of 1280 in 0.0741341114044"
       ]
      },
      {
       "output_type": "stream",
       "stream": "stdout",
       "text": [
        "\r",
        "Computed features for frame 137 of 1280 in 0.0739009380341"
       ]
      },
      {
       "output_type": "stream",
       "stream": "stdout",
       "text": [
        "\r",
        "Computed features for frame 138 of 1280 in 0.0738928318024"
       ]
      },
      {
       "output_type": "stream",
       "stream": "stdout",
       "text": [
        "\r",
        "Computed features for frame 139 of 1280 in 0.0738379955292"
       ]
      },
      {
       "output_type": "stream",
       "stream": "stdout",
       "text": [
        "\r",
        "Computed features for frame 140 of 1280 in 0.0723841190338"
       ]
      },
      {
       "output_type": "stream",
       "stream": "stdout",
       "text": [
        "\r",
        "Computed features for frame 141 of 1280 in 0.0732619762421"
       ]
      },
      {
       "output_type": "stream",
       "stream": "stdout",
       "text": [
        "\r",
        "Computed features for frame 142 of 1280 in 0.0727798938751"
       ]
      },
      {
       "output_type": "stream",
       "stream": "stdout",
       "text": [
        "\r",
        "Computed features for frame 143 of 1280 in 0.0769391059875"
       ]
      },
      {
       "output_type": "stream",
       "stream": "stdout",
       "text": [
        "\r",
        "Computed features for frame 144 of 1280 in 0.0717959403992"
       ]
      },
      {
       "output_type": "stream",
       "stream": "stdout",
       "text": [
        "\r",
        "Computed features for frame 145 of 1280 in 0.0741810798645"
       ]
      },
      {
       "output_type": "stream",
       "stream": "stdout",
       "text": [
        "\r",
        "Computed features for frame 146 of 1280 in 0.0723240375519"
       ]
      },
      {
       "output_type": "stream",
       "stream": "stdout",
       "text": [
        "\r",
        "Computed features for frame 147 of 1280 in 0.0740339756012"
       ]
      },
      {
       "output_type": "stream",
       "stream": "stdout",
       "text": [
        "\r",
        "Computed features for frame 148 of 1280 in 0.0759282112122"
       ]
      },
      {
       "output_type": "stream",
       "stream": "stdout",
       "text": [
        "\r",
        "Computed features for frame 149 of 1280 in 0.0805659294128"
       ]
      },
      {
       "output_type": "stream",
       "stream": "stdout",
       "text": [
        "\r",
        "Computed features for frame 150 of 1280 in 0.0801148414612"
       ]
      },
      {
       "output_type": "stream",
       "stream": "stdout",
       "text": [
        "\r",
        "Computed features for frame 151 of 1280 in 0.0771510601044"
       ]
      },
      {
       "output_type": "stream",
       "stream": "stdout",
       "text": [
        "\r",
        "Computed features for frame 152 of 1280 in 0.081228017807"
       ]
      },
      {
       "output_type": "stream",
       "stream": "stdout",
       "text": [
        "\r",
        "Computed features for frame 153 of 1280 in 0.0835020542145"
       ]
      },
      {
       "output_type": "stream",
       "stream": "stdout",
       "text": [
        "\r",
        "Computed features for frame 154 of 1280 in 0.0776159763336"
       ]
      },
      {
       "output_type": "stream",
       "stream": "stdout",
       "text": [
        "\r",
        "Computed features for frame 155 of 1280 in 0.079745054245"
       ]
      },
      {
       "output_type": "stream",
       "stream": "stdout",
       "text": [
        "\r",
        "Computed features for frame 156 of 1280 in 0.0808548927307"
       ]
      },
      {
       "output_type": "stream",
       "stream": "stdout",
       "text": [
        "\r",
        "Computed features for frame 157 of 1280 in 0.0788378715515"
       ]
      },
      {
       "output_type": "stream",
       "stream": "stdout",
       "text": [
        "\r",
        "Computed features for frame 158 of 1280 in 0.0783751010895"
       ]
      },
      {
       "output_type": "stream",
       "stream": "stdout",
       "text": [
        "\r",
        "Computed features for frame 159 of 1280 in 0.0809321403503"
       ]
      },
      {
       "output_type": "stream",
       "stream": "stdout",
       "text": [
        "\r",
        "Computed features for frame 160 of 1280 in 0.0763108730316"
       ]
      },
      {
       "output_type": "stream",
       "stream": "stdout",
       "text": [
        "\r",
        "Computed features for frame 161 of 1280 in 0.0755219459534"
       ]
      },
      {
       "output_type": "stream",
       "stream": "stdout",
       "text": [
        "\r",
        "Computed features for frame 162 of 1280 in 0.0751168727875"
       ]
      },
      {
       "output_type": "stream",
       "stream": "stdout",
       "text": [
        "\r",
        "Computed features for frame 163 of 1280 in 0.0793769359589"
       ]
      },
      {
       "output_type": "stream",
       "stream": "stdout",
       "text": [
        "\r",
        "Computed features for frame 164 of 1280 in 0.0765950679779"
       ]
      },
      {
       "output_type": "stream",
       "stream": "stdout",
       "text": [
        "\r",
        "Computed features for frame 165 of 1280 in 0.0773591995239"
       ]
      },
      {
       "output_type": "stream",
       "stream": "stdout",
       "text": [
        "\r",
        "Computed features for frame 166 of 1280 in 0.0735540390015"
       ]
      },
      {
       "output_type": "stream",
       "stream": "stdout",
       "text": [
        "\r",
        "Computed features for frame 167 of 1280 in 0.0773479938507"
       ]
      },
      {
       "output_type": "stream",
       "stream": "stdout",
       "text": [
        "\r",
        "Computed features for frame 168 of 1280 in 0.07799077034"
       ]
      },
      {
       "output_type": "stream",
       "stream": "stdout",
       "text": [
        "\r",
        "Computed features for frame 169 of 1280 in 0.0746281147003"
       ]
      },
      {
       "output_type": "stream",
       "stream": "stdout",
       "text": [
        "\r",
        "Computed features for frame 170 of 1280 in 0.0743451118469"
       ]
      },
      {
       "output_type": "stream",
       "stream": "stdout",
       "text": [
        "\r",
        "Computed features for frame 171 of 1280 in 0.0789361000061"
       ]
      },
      {
       "output_type": "stream",
       "stream": "stdout",
       "text": [
        "\r",
        "Computed features for frame 172 of 1280 in 0.0797469615936"
       ]
      },
      {
       "output_type": "stream",
       "stream": "stdout",
       "text": [
        "\r",
        "Computed features for frame 173 of 1280 in 0.0782680511475"
       ]
      },
      {
       "output_type": "stream",
       "stream": "stdout",
       "text": [
        "\r",
        "Computed features for frame 174 of 1280 in 0.0787811279297"
       ]
      },
      {
       "output_type": "stream",
       "stream": "stdout",
       "text": [
        "\r",
        "Computed features for frame 175 of 1280 in 0.077810049057"
       ]
      },
      {
       "output_type": "stream",
       "stream": "stdout",
       "text": [
        "\r",
        "Computed features for frame 176 of 1280 in 0.0790359973907"
       ]
      },
      {
       "output_type": "stream",
       "stream": "stdout",
       "text": [
        "\r",
        "Computed features for frame 177 of 1280 in 0.0752120018005"
       ]
      },
      {
       "output_type": "stream",
       "stream": "stdout",
       "text": [
        "\r",
        "Computed features for frame 178 of 1280 in 0.0755209922791"
       ]
      },
      {
       "output_type": "stream",
       "stream": "stdout",
       "text": [
        "\r",
        "Computed features for frame 179 of 1280 in 0.0757029056549"
       ]
      },
      {
       "output_type": "stream",
       "stream": "stdout",
       "text": [
        "\r",
        "Computed features for frame 180 of 1280 in 0.0773210525513"
       ]
      },
      {
       "output_type": "stream",
       "stream": "stdout",
       "text": [
        "\r",
        "Computed features for frame 181 of 1280 in 0.0795230865479"
       ]
      },
      {
       "output_type": "stream",
       "stream": "stdout",
       "text": [
        "\r",
        "Computed features for frame 182 of 1280 in 0.0775189399719"
       ]
      },
      {
       "output_type": "stream",
       "stream": "stdout",
       "text": [
        "\r",
        "Computed features for frame 183 of 1280 in 0.0768399238586"
       ]
      },
      {
       "output_type": "stream",
       "stream": "stdout",
       "text": [
        "\r",
        "Computed features for frame 184 of 1280 in 0.0786039829254"
       ]
      },
      {
       "output_type": "stream",
       "stream": "stdout",
       "text": [
        "\r",
        "Computed features for frame 185 of 1280 in 0.0761709213257"
       ]
      },
      {
       "output_type": "stream",
       "stream": "stdout",
       "text": [
        "\r",
        "Computed features for frame 186 of 1280 in 0.0730998516083"
       ]
      },
      {
       "output_type": "stream",
       "stream": "stdout",
       "text": [
        "\r",
        "Computed features for frame 187 of 1280 in 0.0790951251984"
       ]
      },
      {
       "output_type": "stream",
       "stream": "stdout",
       "text": [
        "\r",
        "Computed features for frame 188 of 1280 in 0.0734519958496"
       ]
      },
      {
       "output_type": "stream",
       "stream": "stdout",
       "text": [
        "\r",
        "Computed features for frame 189 of 1280 in 0.076210975647"
       ]
      },
      {
       "output_type": "stream",
       "stream": "stdout",
       "text": [
        "\r",
        "Computed features for frame 190 of 1280 in 0.0765829086304"
       ]
      },
      {
       "output_type": "stream",
       "stream": "stdout",
       "text": [
        "\r",
        "Computed features for frame 191 of 1280 in 0.0927069187164"
       ]
      },
      {
       "output_type": "stream",
       "stream": "stdout",
       "text": [
        "\r",
        "Computed features for frame 192 of 1280 in 0.0726900100708"
       ]
      },
      {
       "output_type": "stream",
       "stream": "stdout",
       "text": [
        "\r",
        "Computed features for frame 193 of 1280 in 0.0740439891815"
       ]
      },
      {
       "output_type": "stream",
       "stream": "stdout",
       "text": [
        "\r",
        "Computed features for frame 194 of 1280 in 0.0790131092072"
       ]
      },
      {
       "output_type": "stream",
       "stream": "stdout",
       "text": [
        "\r",
        "Computed features for frame 195 of 1280 in 0.075973033905"
       ]
      },
      {
       "output_type": "stream",
       "stream": "stdout",
       "text": [
        "\r",
        "Computed features for frame 196 of 1280 in 0.0723850727081"
       ]
      },
      {
       "output_type": "stream",
       "stream": "stdout",
       "text": [
        "\r",
        "Computed features for frame 197 of 1280 in 0.0726549625397"
       ]
      },
      {
       "output_type": "stream",
       "stream": "stdout",
       "text": [
        "\r",
        "Computed features for frame 198 of 1280 in 0.0722498893738"
       ]
      },
      {
       "output_type": "stream",
       "stream": "stdout",
       "text": [
        "\r",
        "Computed features for frame 199 of 1280 in 0.0724189281464"
       ]
      },
      {
       "output_type": "stream",
       "stream": "stdout",
       "text": [
        "\r",
        "Computed features for frame 200 of 1280 in 0.0765409469604"
       ]
      },
      {
       "output_type": "stream",
       "stream": "stdout",
       "text": [
        "\r",
        "Computed features for frame 201 of 1280 in 0.0720210075378"
       ]
      },
      {
       "output_type": "stream",
       "stream": "stdout",
       "text": [
        "\r",
        "Computed features for frame 202 of 1280 in 0.0716149806976"
       ]
      },
      {
       "output_type": "stream",
       "stream": "stdout",
       "text": [
        "\r",
        "Computed features for frame 203 of 1280 in 0.0773558616638"
       ]
      },
      {
       "output_type": "stream",
       "stream": "stdout",
       "text": [
        "\r",
        "Computed features for frame 204 of 1280 in 0.0765500068665"
       ]
      },
      {
       "output_type": "stream",
       "stream": "stdout",
       "text": [
        "\r",
        "Computed features for frame 205 of 1280 in 0.0716400146484"
       ]
      },
      {
       "output_type": "stream",
       "stream": "stdout",
       "text": [
        "\r",
        "Computed features for frame 206 of 1280 in 0.0732929706573"
       ]
      },
      {
       "output_type": "stream",
       "stream": "stdout",
       "text": [
        "\r",
        "Computed features for frame 207 of 1280 in 0.0747442245483"
       ]
      },
      {
       "output_type": "stream",
       "stream": "stdout",
       "text": [
        "\r",
        "Computed features for frame 208 of 1280 in 0.0859069824219"
       ]
      },
      {
       "output_type": "stream",
       "stream": "stdout",
       "text": [
        "\r",
        "Computed features for frame 209 of 1280 in 0.0754249095917"
       ]
      },
      {
       "output_type": "stream",
       "stream": "stdout",
       "text": [
        "\r",
        "Computed features for frame 210 of 1280 in 0.0776119232178"
       ]
      },
      {
       "output_type": "stream",
       "stream": "stdout",
       "text": [
        "\r",
        "Computed features for frame 211 of 1280 in 0.074282169342"
       ]
      },
      {
       "output_type": "stream",
       "stream": "stdout",
       "text": [
        "\r",
        "Computed features for frame 212 of 1280 in 0.0833399295807"
       ]
      },
      {
       "output_type": "stream",
       "stream": "stdout",
       "text": [
        "\r",
        "Computed features for frame 213 of 1280 in 0.0731580257416"
       ]
      },
      {
       "output_type": "stream",
       "stream": "stdout",
       "text": [
        "\r",
        "Computed features for frame 214 of 1280 in 0.074963092804"
       ]
      },
      {
       "output_type": "stream",
       "stream": "stdout",
       "text": [
        "\r",
        "Computed features for frame 215 of 1280 in 0.0822989940643"
       ]
      },
      {
       "output_type": "stream",
       "stream": "stdout",
       "text": [
        "\r",
        "Computed features for frame 216 of 1280 in 0.0800869464874"
       ]
      },
      {
       "output_type": "stream",
       "stream": "stdout",
       "text": [
        "\r",
        "Computed features for frame 217 of 1280 in 0.088054895401"
       ]
      },
      {
       "output_type": "stream",
       "stream": "stdout",
       "text": [
        "\r",
        "Computed features for frame 218 of 1280 in 0.0781729221344"
       ]
      },
      {
       "output_type": "stream",
       "stream": "stdout",
       "text": [
        "\r",
        "Computed features for frame 219 of 1280 in 0.0734069347382"
       ]
      },
      {
       "output_type": "stream",
       "stream": "stdout",
       "text": [
        "\r",
        "Computed features for frame 220 of 1280 in 0.0740010738373"
       ]
      },
      {
       "output_type": "stream",
       "stream": "stdout",
       "text": [
        "\r",
        "Computed features for frame 221 of 1280 in 0.0741360187531"
       ]
      },
      {
       "output_type": "stream",
       "stream": "stdout",
       "text": [
        "\r",
        "Computed features for frame 222 of 1280 in 0.0714700222015"
       ]
      },
      {
       "output_type": "stream",
       "stream": "stdout",
       "text": [
        "\r",
        "Computed features for frame 223 of 1280 in 0.0740311145782"
       ]
      },
      {
       "output_type": "stream",
       "stream": "stdout",
       "text": [
        "\r",
        "Computed features for frame 224 of 1280 in 0.0713391304016"
       ]
      },
      {
       "output_type": "stream",
       "stream": "stdout",
       "text": [
        "\r",
        "Computed features for frame 225 of 1280 in 0.0770370960236"
       ]
      },
      {
       "output_type": "stream",
       "stream": "stdout",
       "text": [
        "\r",
        "Computed features for frame 226 of 1280 in 0.0898721218109"
       ]
      },
      {
       "output_type": "stream",
       "stream": "stdout",
       "text": [
        "\r",
        "Computed features for frame 227 of 1280 in 0.0754680633545"
       ]
      },
      {
       "output_type": "stream",
       "stream": "stdout",
       "text": [
        "\r",
        "Computed features for frame 228 of 1280 in 0.0733168125153"
       ]
      },
      {
       "output_type": "stream",
       "stream": "stdout",
       "text": [
        "\r",
        "Computed features for frame 229 of 1280 in 0.0749220848083"
       ]
      },
      {
       "output_type": "stream",
       "stream": "stdout",
       "text": [
        "\r",
        "Computed features for frame 230 of 1280 in 0.0779910087585"
       ]
      },
      {
       "output_type": "stream",
       "stream": "stdout",
       "text": [
        "\r",
        "Computed features for frame 231 of 1280 in 0.0776200294495"
       ]
      },
      {
       "output_type": "stream",
       "stream": "stdout",
       "text": [
        "\r",
        "Computed features for frame 232 of 1280 in 0.0758459568024"
       ]
      },
      {
       "output_type": "stream",
       "stream": "stdout",
       "text": [
        "\r",
        "Computed features for frame 233 of 1280 in 0.079311132431"
       ]
      },
      {
       "output_type": "stream",
       "stream": "stdout",
       "text": [
        "\r",
        "Computed features for frame 234 of 1280 in 0.0734910964966"
       ]
      },
      {
       "output_type": "stream",
       "stream": "stdout",
       "text": [
        "\r",
        "Computed features for frame 235 of 1280 in 0.0728070735931"
       ]
      },
      {
       "output_type": "stream",
       "stream": "stdout",
       "text": [
        "\r",
        "Computed features for frame 236 of 1280 in 0.0749099254608"
       ]
      },
      {
       "output_type": "stream",
       "stream": "stdout",
       "text": [
        "\r",
        "Computed features for frame 237 of 1280 in 0.0814399719238"
       ]
      },
      {
       "output_type": "stream",
       "stream": "stdout",
       "text": [
        "\r",
        "Computed features for frame 238 of 1280 in 0.0802898406982"
       ]
      },
      {
       "output_type": "stream",
       "stream": "stdout",
       "text": [
        "\r",
        "Computed features for frame 239 of 1280 in 0.0781941413879"
       ]
      },
      {
       "output_type": "stream",
       "stream": "stdout",
       "text": [
        "\r",
        "Computed features for frame 240 of 1280 in 0.0764298439026"
       ]
      },
      {
       "output_type": "stream",
       "stream": "stdout",
       "text": [
        "\r",
        "Computed features for frame 241 of 1280 in 0.0763020515442"
       ]
      },
      {
       "output_type": "stream",
       "stream": "stdout",
       "text": [
        "\r",
        "Computed features for frame 242 of 1280 in 0.0766320228577"
       ]
      },
      {
       "output_type": "stream",
       "stream": "stdout",
       "text": [
        "\r",
        "Computed features for frame 243 of 1280 in 0.0745491981506"
       ]
      },
      {
       "output_type": "stream",
       "stream": "stdout",
       "text": [
        "\r",
        "Computed features for frame 244 of 1280 in 0.0776031017303"
       ]
      },
      {
       "output_type": "stream",
       "stream": "stdout",
       "text": [
        "\r",
        "Computed features for frame 245 of 1280 in 0.072949886322"
       ]
      },
      {
       "output_type": "stream",
       "stream": "stdout",
       "text": [
        "\r",
        "Computed features for frame 246 of 1280 in 0.0731191635132"
       ]
      },
      {
       "output_type": "stream",
       "stream": "stdout",
       "text": [
        "\r",
        "Computed features for frame 247 of 1280 in 0.074077129364"
       ]
      },
      {
       "output_type": "stream",
       "stream": "stdout",
       "text": [
        "\r",
        "Computed features for frame 248 of 1280 in 0.0709779262543"
       ]
      },
      {
       "output_type": "stream",
       "stream": "stdout",
       "text": [
        "\r",
        "Computed features for frame 249 of 1280 in 0.0736861228943"
       ]
      },
      {
       "output_type": "stream",
       "stream": "stdout",
       "text": [
        "\r",
        "Computed features for frame 250 of 1280 in 0.071624994278"
       ]
      },
      {
       "output_type": "stream",
       "stream": "stdout",
       "text": [
        "\r",
        "Computed features for frame 251 of 1280 in 0.0722370147705"
       ]
      },
      {
       "output_type": "stream",
       "stream": "stdout",
       "text": [
        "\r",
        "Computed features for frame 252 of 1280 in 0.0725920200348"
       ]
      },
      {
       "output_type": "stream",
       "stream": "stdout",
       "text": [
        "\r",
        "Computed features for frame 253 of 1280 in 0.0759739875793"
       ]
      },
      {
       "output_type": "stream",
       "stream": "stdout",
       "text": [
        "\r",
        "Computed features for frame 254 of 1280 in 0.0728869438171"
       ]
      },
      {
       "output_type": "stream",
       "stream": "stdout",
       "text": [
        "\r",
        "Computed features for frame 255 of 1280 in 0.0751359462738"
       ]
      },
      {
       "output_type": "stream",
       "stream": "stdout",
       "text": [
        "\r",
        "Computed features for frame 256 of 1280 in 0.0765080451965"
       ]
      },
      {
       "output_type": "stream",
       "stream": "stdout",
       "text": [
        "\r",
        "Computed features for frame 257 of 1280 in 0.0717859268188"
       ]
      },
      {
       "output_type": "stream",
       "stream": "stdout",
       "text": [
        "\r",
        "Computed features for frame 258 of 1280 in 0.0719819068909"
       ]
      },
      {
       "output_type": "stream",
       "stream": "stdout",
       "text": [
        "\r",
        "Computed features for frame 259 of 1280 in 0.0726308822632"
       ]
      },
      {
       "output_type": "stream",
       "stream": "stdout",
       "text": [
        "\r",
        "Computed features for frame 260 of 1280 in 0.0718679428101"
       ]
      },
      {
       "output_type": "stream",
       "stream": "stdout",
       "text": [
        "\r",
        "Computed features for frame 261 of 1280 in 0.07257604599"
       ]
      },
      {
       "output_type": "stream",
       "stream": "stdout",
       "text": [
        "\r",
        "Computed features for frame 262 of 1280 in 0.0719039440155"
       ]
      },
      {
       "output_type": "stream",
       "stream": "stdout",
       "text": [
        "\r",
        "Computed features for frame 263 of 1280 in 0.0719981193542"
       ]
      },
      {
       "output_type": "stream",
       "stream": "stdout",
       "text": [
        "\r",
        "Computed features for frame 264 of 1280 in 0.0720329284668"
       ]
      },
      {
       "output_type": "stream",
       "stream": "stdout",
       "text": [
        "\r",
        "Computed features for frame 265 of 1280 in 0.0722119808197"
       ]
      },
      {
       "output_type": "stream",
       "stream": "stdout",
       "text": [
        "\r",
        "Computed features for frame 266 of 1280 in 0.0756649971008"
       ]
      },
      {
       "output_type": "stream",
       "stream": "stdout",
       "text": [
        "\r",
        "Computed features for frame 267 of 1280 in 0.0783019065857"
       ]
      },
      {
       "output_type": "stream",
       "stream": "stdout",
       "text": [
        "\r",
        "Computed features for frame 268 of 1280 in 0.076071023941"
       ]
      },
      {
       "output_type": "stream",
       "stream": "stdout",
       "text": [
        "\r",
        "Computed features for frame 269 of 1280 in 0.0739331245422"
       ]
      },
      {
       "output_type": "stream",
       "stream": "stdout",
       "text": [
        "\r",
        "Computed features for frame 270 of 1280 in 0.0775141716003"
       ]
      },
      {
       "output_type": "stream",
       "stream": "stdout",
       "text": [
        "\r",
        "Computed features for frame 271 of 1280 in 0.0727100372314"
       ]
      },
      {
       "output_type": "stream",
       "stream": "stdout",
       "text": [
        "\r",
        "Computed features for frame 272 of 1280 in 0.0732960700989"
       ]
      },
      {
       "output_type": "stream",
       "stream": "stdout",
       "text": [
        "\r",
        "Computed features for frame 273 of 1280 in 0.0736379623413"
       ]
      },
      {
       "output_type": "stream",
       "stream": "stdout",
       "text": [
        "\r",
        "Computed features for frame 274 of 1280 in 0.0734479427338"
       ]
      },
      {
       "output_type": "stream",
       "stream": "stdout",
       "text": [
        "\r",
        "Computed features for frame 275 of 1280 in 0.0732669830322"
       ]
      },
      {
       "output_type": "stream",
       "stream": "stdout",
       "text": [
        "\r",
        "Computed features for frame 276 of 1280 in 0.0716409683228"
       ]
      },
      {
       "output_type": "stream",
       "stream": "stdout",
       "text": [
        "\r",
        "Computed features for frame 277 of 1280 in 0.0752642154694"
       ]
      },
      {
       "output_type": "stream",
       "stream": "stdout",
       "text": [
        "\r",
        "Computed features for frame 278 of 1280 in 0.0780889987946"
       ]
      },
      {
       "output_type": "stream",
       "stream": "stdout",
       "text": [
        "\r",
        "Computed features for frame 279 of 1280 in 0.0716490745544"
       ]
      },
      {
       "output_type": "stream",
       "stream": "stdout",
       "text": [
        "\r",
        "Computed features for frame 280 of 1280 in 0.0720059871674"
       ]
      },
      {
       "output_type": "stream",
       "stream": "stdout",
       "text": [
        "\r",
        "Computed features for frame 281 of 1280 in 0.072124004364"
       ]
      },
      {
       "output_type": "stream",
       "stream": "stdout",
       "text": [
        "\r",
        "Computed features for frame 282 of 1280 in 0.0721960067749"
       ]
      },
      {
       "output_type": "stream",
       "stream": "stdout",
       "text": [
        "\r",
        "Computed features for frame 283 of 1280 in 0.0719699859619"
       ]
      },
      {
       "output_type": "stream",
       "stream": "stdout",
       "text": [
        "\r",
        "Computed features for frame 284 of 1280 in 0.0721919536591"
       ]
      },
      {
       "output_type": "stream",
       "stream": "stdout",
       "text": [
        "\r",
        "Computed features for frame 285 of 1280 in 0.0754210948944"
       ]
      },
      {
       "output_type": "stream",
       "stream": "stdout",
       "text": [
        "\r",
        "Computed features for frame 286 of 1280 in 0.0722448825836"
       ]
      },
      {
       "output_type": "stream",
       "stream": "stdout",
       "text": [
        "\r",
        "Computed features for frame 287 of 1280 in 0.0724830627441"
       ]
      },
      {
       "output_type": "stream",
       "stream": "stdout",
       "text": [
        "\r",
        "Computed features for frame 288 of 1280 in 0.0727281570435"
       ]
      },
      {
       "output_type": "stream",
       "stream": "stdout",
       "text": [
        "\r",
        "Computed features for frame 289 of 1280 in 0.0724999904633"
       ]
      },
      {
       "output_type": "stream",
       "stream": "stdout",
       "text": [
        "\r",
        "Computed features for frame 290 of 1280 in 0.0724520683289"
       ]
      },
      {
       "output_type": "stream",
       "stream": "stdout",
       "text": [
        "\r",
        "Computed features for frame 291 of 1280 in 0.0738499164581"
       ]
      },
      {
       "output_type": "stream",
       "stream": "stdout",
       "text": [
        "\r",
        "Computed features for frame 292 of 1280 in 0.0751030445099"
       ]
      },
      {
       "output_type": "stream",
       "stream": "stdout",
       "text": [
        "\r",
        "Computed features for frame 293 of 1280 in 0.0733799934387"
       ]
      },
      {
       "output_type": "stream",
       "stream": "stdout",
       "text": [
        "\r",
        "Computed features for frame 294 of 1280 in 0.071818113327"
       ]
      },
      {
       "output_type": "stream",
       "stream": "stdout",
       "text": [
        "\r",
        "Computed features for frame 295 of 1280 in 0.0724079608917"
       ]
      },
      {
       "output_type": "stream",
       "stream": "stdout",
       "text": [
        "\r",
        "Computed features for frame 296 of 1280 in 0.0725271701813"
       ]
      },
      {
       "output_type": "stream",
       "stream": "stdout",
       "text": [
        "\r",
        "Computed features for frame 297 of 1280 in 0.0767729282379"
       ]
      },
      {
       "output_type": "stream",
       "stream": "stdout",
       "text": [
        "\r",
        "Computed features for frame 298 of 1280 in 0.0761349201202"
       ]
      },
      {
       "output_type": "stream",
       "stream": "stdout",
       "text": [
        "\r",
        "Computed features for frame 299 of 1280 in 0.0749459266663"
       ]
      },
      {
       "output_type": "stream",
       "stream": "stdout",
       "text": [
        "\r",
        "Computed features for frame 300 of 1280 in 0.0762391090393"
       ]
      },
      {
       "output_type": "stream",
       "stream": "stdout",
       "text": [
        "\r",
        "Computed features for frame 301 of 1280 in 0.0710828304291"
       ]
      },
      {
       "output_type": "stream",
       "stream": "stdout",
       "text": [
        "\r",
        "Computed features for frame 302 of 1280 in 0.0733721256256"
       ]
      },
      {
       "output_type": "stream",
       "stream": "stdout",
       "text": [
        "\r",
        "Computed features for frame 303 of 1280 in 0.0729179382324"
       ]
      },
      {
       "output_type": "stream",
       "stream": "stdout",
       "text": [
        "\r",
        "Computed features for frame 304 of 1280 in 0.0744829177856"
       ]
      },
      {
       "output_type": "stream",
       "stream": "stdout",
       "text": [
        "\r",
        "Computed features for frame 305 of 1280 in 0.0737028121948"
       ]
      },
      {
       "output_type": "stream",
       "stream": "stdout",
       "text": [
        "\r",
        "Computed features for frame 306 of 1280 in 0.0726041793823"
       ]
      },
      {
       "output_type": "stream",
       "stream": "stdout",
       "text": [
        "\r",
        "Computed features for frame 307 of 1280 in 0.0719120502472"
       ]
      },
      {
       "output_type": "stream",
       "stream": "stdout",
       "text": [
        "\r",
        "Computed features for frame 308 of 1280 in 0.0725178718567"
       ]
      },
      {
       "output_type": "stream",
       "stream": "stdout",
       "text": [
        "\r",
        "Computed features for frame 309 of 1280 in 0.0722379684448"
       ]
      },
      {
       "output_type": "stream",
       "stream": "stdout",
       "text": [
        "\r",
        "Computed features for frame 310 of 1280 in 0.074285030365"
       ]
      },
      {
       "output_type": "stream",
       "stream": "stdout",
       "text": [
        "\r",
        "Computed features for frame 311 of 1280 in 0.0723650455475"
       ]
      },
      {
       "output_type": "stream",
       "stream": "stdout",
       "text": [
        "\r",
        "Computed features for frame 312 of 1280 in 0.0723111629486"
       ]
      },
      {
       "output_type": "stream",
       "stream": "stdout",
       "text": [
        "\r",
        "Computed features for frame 313 of 1280 in 0.0725030899048"
       ]
      },
      {
       "output_type": "stream",
       "stream": "stdout",
       "text": [
        "\r",
        "Computed features for frame 314 of 1280 in 0.0725698471069"
       ]
      },
      {
       "output_type": "stream",
       "stream": "stdout",
       "text": [
        "\r",
        "Computed features for frame 315 of 1280 in 0.0816991329193"
       ]
      },
      {
       "output_type": "stream",
       "stream": "stdout",
       "text": [
        "\r",
        "Computed features for frame 316 of 1280 in 0.0759410858154"
       ]
      },
      {
       "output_type": "stream",
       "stream": "stdout",
       "text": [
        "\r",
        "Computed features for frame 317 of 1280 in 0.0753569602966"
       ]
      },
      {
       "output_type": "stream",
       "stream": "stdout",
       "text": [
        "\r",
        "Computed features for frame 318 of 1280 in 0.0795090198517"
       ]
      },
      {
       "output_type": "stream",
       "stream": "stdout",
       "text": [
        "\r",
        "Computed features for frame 319 of 1280 in 0.0740358829498"
       ]
      },
      {
       "output_type": "stream",
       "stream": "stdout",
       "text": [
        "\r",
        "Computed features for frame 320 of 1280 in 0.0730741024017"
       ]
      },
      {
       "output_type": "stream",
       "stream": "stdout",
       "text": [
        "\r",
        "Computed features for frame 321 of 1280 in 0.0739238262177"
       ]
      },
      {
       "output_type": "stream",
       "stream": "stdout",
       "text": [
        "\r",
        "Computed features for frame 322 of 1280 in 0.0731770992279"
       ]
      },
      {
       "output_type": "stream",
       "stream": "stdout",
       "text": [
        "\r",
        "Computed features for frame 323 of 1280 in 0.0771899223328"
       ]
      },
      {
       "output_type": "stream",
       "stream": "stdout",
       "text": [
        "\r",
        "Computed features for frame 324 of 1280 in 0.0733361244202"
       ]
      },
      {
       "output_type": "stream",
       "stream": "stdout",
       "text": [
        "\r",
        "Computed features for frame 325 of 1280 in 0.0774211883545"
       ]
      },
      {
       "output_type": "stream",
       "stream": "stdout",
       "text": [
        "\r",
        "Computed features for frame 326 of 1280 in 0.0743360519409"
       ]
      },
      {
       "output_type": "stream",
       "stream": "stdout",
       "text": [
        "\r",
        "Computed features for frame 327 of 1280 in 0.0724759101868"
       ]
      },
      {
       "output_type": "stream",
       "stream": "stdout",
       "text": [
        "\r",
        "Computed features for frame 328 of 1280 in 0.0714340209961"
       ]
      },
      {
       "output_type": "stream",
       "stream": "stdout",
       "text": [
        "\r",
        "Computed features for frame 329 of 1280 in 0.0741379261017"
       ]
      },
      {
       "output_type": "stream",
       "stream": "stdout",
       "text": [
        "\r",
        "Computed features for frame 330 of 1280 in 0.0770170688629"
       ]
      },
      {
       "output_type": "stream",
       "stream": "stdout",
       "text": [
        "\r",
        "Computed features for frame 331 of 1280 in 0.0742189884186"
       ]
      },
      {
       "output_type": "stream",
       "stream": "stdout",
       "text": [
        "\r",
        "Computed features for frame 332 of 1280 in 0.071681022644"
       ]
      },
      {
       "output_type": "stream",
       "stream": "stdout",
       "text": [
        "\r",
        "Computed features for frame 333 of 1280 in 0.075453042984"
       ]
      },
      {
       "output_type": "stream",
       "stream": "stdout",
       "text": [
        "\r",
        "Computed features for frame 334 of 1280 in 0.0725979804993"
       ]
      },
      {
       "output_type": "stream",
       "stream": "stdout",
       "text": [
        "\r",
        "Computed features for frame 335 of 1280 in 0.0723509788513"
       ]
      },
      {
       "output_type": "stream",
       "stream": "stdout",
       "text": [
        "\r",
        "Computed features for frame 336 of 1280 in 0.0715370178223"
       ]
      },
      {
       "output_type": "stream",
       "stream": "stdout",
       "text": [
        "\r",
        "Computed features for frame 337 of 1280 in 0.0729169845581"
       ]
      },
      {
       "output_type": "stream",
       "stream": "stdout",
       "text": [
        "\r",
        "Computed features for frame 338 of 1280 in 0.0731580257416"
       ]
      },
      {
       "output_type": "stream",
       "stream": "stdout",
       "text": [
        "\r",
        "Computed features for frame 339 of 1280 in 0.0721759796143"
       ]
      },
      {
       "output_type": "stream",
       "stream": "stdout",
       "text": [
        "\r",
        "Computed features for frame 340 of 1280 in 0.0773060321808"
       ]
      },
      {
       "output_type": "stream",
       "stream": "stdout",
       "text": [
        "\r",
        "Computed features for frame 341 of 1280 in 0.0775768756866"
       ]
      },
      {
       "output_type": "stream",
       "stream": "stdout",
       "text": [
        "\r",
        "Computed features for frame 342 of 1280 in 0.0728678703308"
       ]
      },
      {
       "output_type": "stream",
       "stream": "stdout",
       "text": [
        "\r",
        "Computed features for frame 343 of 1280 in 0.0752379894257"
       ]
      },
      {
       "output_type": "stream",
       "stream": "stdout",
       "text": [
        "\r",
        "Computed features for frame 344 of 1280 in 0.0760102272034"
       ]
      },
      {
       "output_type": "stream",
       "stream": "stdout",
       "text": [
        "\r",
        "Computed features for frame 345 of 1280 in 0.0748860836029"
       ]
      },
      {
       "output_type": "stream",
       "stream": "stdout",
       "text": [
        "\r",
        "Computed features for frame 346 of 1280 in 0.0720589160919"
       ]
      },
      {
       "output_type": "stream",
       "stream": "stdout",
       "text": [
        "\r",
        "Computed features for frame 347 of 1280 in 0.0733871459961"
       ]
      },
      {
       "output_type": "stream",
       "stream": "stdout",
       "text": [
        "\r",
        "Computed features for frame 348 of 1280 in 0.0724980831146"
       ]
      },
      {
       "output_type": "stream",
       "stream": "stdout",
       "text": [
        "\r",
        "Computed features for frame 349 of 1280 in 0.0719928741455"
       ]
      },
      {
       "output_type": "stream",
       "stream": "stdout",
       "text": [
        "\r",
        "Computed features for frame 350 of 1280 in 0.0718760490417"
       ]
      },
      {
       "output_type": "stream",
       "stream": "stdout",
       "text": [
        "\r",
        "Computed features for frame 351 of 1280 in 0.0718688964844"
       ]
      },
      {
       "output_type": "stream",
       "stream": "stdout",
       "text": [
        "\r",
        "Computed features for frame 352 of 1280 in 0.0722620487213"
       ]
      },
      {
       "output_type": "stream",
       "stream": "stdout",
       "text": [
        "\r",
        "Computed features for frame 353 of 1280 in 0.0730249881744"
       ]
      },
      {
       "output_type": "stream",
       "stream": "stdout",
       "text": [
        "\r",
        "Computed features for frame 354 of 1280 in 0.071307182312"
       ]
      },
      {
       "output_type": "stream",
       "stream": "stdout",
       "text": [
        "\r",
        "Computed features for frame 355 of 1280 in 0.0733940601349"
       ]
      },
      {
       "output_type": "stream",
       "stream": "stdout",
       "text": [
        "\r",
        "Computed features for frame 356 of 1280 in 0.0736541748047"
       ]
      },
      {
       "output_type": "stream",
       "stream": "stdout",
       "text": [
        "\r",
        "Computed features for frame 357 of 1280 in 0.0729761123657"
       ]
      },
      {
       "output_type": "stream",
       "stream": "stdout",
       "text": [
        "\r",
        "Computed features for frame 358 of 1280 in 0.0719110965729"
       ]
      },
      {
       "output_type": "stream",
       "stream": "stdout",
       "text": [
        "\r",
        "Computed features for frame 359 of 1280 in 0.0716021060944"
       ]
      },
      {
       "output_type": "stream",
       "stream": "stdout",
       "text": [
        "\r",
        "Computed features for frame 360 of 1280 in 0.0749628543854"
       ]
      },
      {
       "output_type": "stream",
       "stream": "stdout",
       "text": [
        "\r",
        "Computed features for frame 361 of 1280 in 0.073646068573"
       ]
      },
      {
       "output_type": "stream",
       "stream": "stdout",
       "text": [
        "\r",
        "Computed features for frame 362 of 1280 in 0.0737020969391"
       ]
      },
      {
       "output_type": "stream",
       "stream": "stdout",
       "text": [
        "\r",
        "Computed features for frame 363 of 1280 in 0.0731949806213"
       ]
      },
      {
       "output_type": "stream",
       "stream": "stdout",
       "text": [
        "\r",
        "Computed features for frame 364 of 1280 in 0.0736491680145"
       ]
      },
      {
       "output_type": "stream",
       "stream": "stdout",
       "text": [
        "\r",
        "Computed features for frame 365 of 1280 in 0.0740280151367"
       ]
      },
      {
       "output_type": "stream",
       "stream": "stdout",
       "text": [
        "\r",
        "Computed features for frame 366 of 1280 in 0.0728650093079"
       ]
      },
      {
       "output_type": "stream",
       "stream": "stdout",
       "text": [
        "\r",
        "Computed features for frame 367 of 1280 in 0.072643995285"
       ]
      },
      {
       "output_type": "stream",
       "stream": "stdout",
       "text": [
        "\r",
        "Computed features for frame 368 of 1280 in 0.0775818824768"
       ]
      },
      {
       "output_type": "stream",
       "stream": "stdout",
       "text": [
        "\r",
        "Computed features for frame 369 of 1280 in 0.074784040451"
       ]
      },
      {
       "output_type": "stream",
       "stream": "stdout",
       "text": [
        "\r",
        "Computed features for frame 370 of 1280 in 0.0731751918793"
       ]
      },
      {
       "output_type": "stream",
       "stream": "stdout",
       "text": [
        "\r",
        "Computed features for frame 371 of 1280 in 0.0718801021576"
       ]
      },
      {
       "output_type": "stream",
       "stream": "stdout",
       "text": [
        "\r",
        "Computed features for frame 372 of 1280 in 0.0752000808716"
       ]
      },
      {
       "output_type": "stream",
       "stream": "stdout",
       "text": [
        "\r",
        "Computed features for frame 373 of 1280 in 0.0745890140533"
       ]
      },
      {
       "output_type": "stream",
       "stream": "stdout",
       "text": [
        "\r",
        "Computed features for frame 374 of 1280 in 0.0740609169006"
       ]
      },
      {
       "output_type": "stream",
       "stream": "stdout",
       "text": [
        "\r",
        "Computed features for frame 375 of 1280 in 0.0747361183167"
       ]
      },
      {
       "output_type": "stream",
       "stream": "stdout",
       "text": [
        "\r",
        "Computed features for frame 376 of 1280 in 0.0727097988129"
       ]
      },
      {
       "output_type": "stream",
       "stream": "stdout",
       "text": [
        "\r",
        "Computed features for frame 377 of 1280 in 0.074047088623"
       ]
      },
      {
       "output_type": "stream",
       "stream": "stdout",
       "text": [
        "\r",
        "Computed features for frame 378 of 1280 in 0.0795130729675"
       ]
      },
      {
       "output_type": "stream",
       "stream": "stdout",
       "text": [
        "\r",
        "Computed features for frame 379 of 1280 in 0.0722789764404"
       ]
      },
      {
       "output_type": "stream",
       "stream": "stdout",
       "text": [
        "\r",
        "Computed features for frame 380 of 1280 in 0.0729379653931"
       ]
      },
      {
       "output_type": "stream",
       "stream": "stdout",
       "text": [
        "\r",
        "Computed features for frame 381 of 1280 in 0.0722970962524"
       ]
      },
      {
       "output_type": "stream",
       "stream": "stdout",
       "text": [
        "\r",
        "Computed features for frame 382 of 1280 in 0.0731101036072"
       ]
      },
      {
       "output_type": "stream",
       "stream": "stdout",
       "text": [
        "\r",
        "Computed features for frame 383 of 1280 in 0.073233127594"
       ]
      },
      {
       "output_type": "stream",
       "stream": "stdout",
       "text": [
        "\r",
        "Computed features for frame 384 of 1280 in 0.0731599330902"
       ]
      },
      {
       "output_type": "stream",
       "stream": "stdout",
       "text": [
        "\r",
        "Computed features for frame 385 of 1280 in 0.073940038681"
       ]
      },
      {
       "output_type": "stream",
       "stream": "stdout",
       "text": [
        "\r",
        "Computed features for frame 386 of 1280 in 0.0744140148163"
       ]
      },
      {
       "output_type": "stream",
       "stream": "stdout",
       "text": [
        "\r",
        "Computed features for frame 387 of 1280 in 0.0756249427795"
       ]
      },
      {
       "output_type": "stream",
       "stream": "stdout",
       "text": [
        "\r",
        "Computed features for frame 388 of 1280 in 0.0747909545898"
       ]
      },
      {
       "output_type": "stream",
       "stream": "stdout",
       "text": [
        "\r",
        "Computed features for frame 389 of 1280 in 0.0735440254211"
       ]
      },
      {
       "output_type": "stream",
       "stream": "stdout",
       "text": [
        "\r",
        "Computed features for frame 390 of 1280 in 0.0761189460754"
       ]
      },
      {
       "output_type": "stream",
       "stream": "stdout",
       "text": [
        "\r",
        "Computed features for frame 391 of 1280 in 0.0737838745117"
       ]
      },
      {
       "output_type": "stream",
       "stream": "stdout",
       "text": [
        "\r",
        "Computed features for frame 392 of 1280 in 0.0734181404114"
       ]
      },
      {
       "output_type": "stream",
       "stream": "stdout",
       "text": [
        "\r",
        "Computed features for frame 393 of 1280 in 0.0721909999847"
       ]
      },
      {
       "output_type": "stream",
       "stream": "stdout",
       "text": [
        "\r",
        "Computed features for frame 394 of 1280 in 0.072273015976"
       ]
      },
      {
       "output_type": "stream",
       "stream": "stdout",
       "text": [
        "\r",
        "Computed features for frame 395 of 1280 in 0.0733911991119"
       ]
      },
      {
       "output_type": "stream",
       "stream": "stdout",
       "text": [
        "\r",
        "Computed features for frame 396 of 1280 in 0.076367855072"
       ]
      },
      {
       "output_type": "stream",
       "stream": "stdout",
       "text": [
        "\r",
        "Computed features for frame 397 of 1280 in 0.075709104538"
       ]
      },
      {
       "output_type": "stream",
       "stream": "stdout",
       "text": [
        "\r",
        "Computed features for frame 398 of 1280 in 0.0793409347534"
       ]
      },
      {
       "output_type": "stream",
       "stream": "stdout",
       "text": [
        "\r",
        "Computed features for frame 399 of 1280 in 0.0777640342712"
       ]
      },
      {
       "output_type": "stream",
       "stream": "stdout",
       "text": [
        "\r",
        "Computed features for frame 400 of 1280 in 0.0753300189972"
       ]
      },
      {
       "output_type": "stream",
       "stream": "stdout",
       "text": [
        "\r",
        "Computed features for frame 401 of 1280 in 0.0785229206085"
       ]
      },
      {
       "output_type": "stream",
       "stream": "stdout",
       "text": [
        "\r",
        "Computed features for frame 402 of 1280 in 0.0749039649963"
       ]
      },
      {
       "output_type": "stream",
       "stream": "stdout",
       "text": [
        "\r",
        "Computed features for frame 403 of 1280 in 0.0722830295563"
       ]
      },
      {
       "output_type": "stream",
       "stream": "stdout",
       "text": [
        "\r",
        "Computed features for frame 404 of 1280 in 0.07652592659"
       ]
      },
      {
       "output_type": "stream",
       "stream": "stdout",
       "text": [
        "\r",
        "Computed features for frame 405 of 1280 in 0.0760180950165"
       ]
      },
      {
       "output_type": "stream",
       "stream": "stdout",
       "text": [
        "\r",
        "Computed features for frame 406 of 1280 in 0.0717849731445"
       ]
      },
      {
       "output_type": "stream",
       "stream": "stdout",
       "text": [
        "\r",
        "Computed features for frame 407 of 1280 in 0.0742750167847"
       ]
      },
      {
       "output_type": "stream",
       "stream": "stdout",
       "text": [
        "\r",
        "Computed features for frame 408 of 1280 in 0.0721409320831"
       ]
      },
      {
       "output_type": "stream",
       "stream": "stdout",
       "text": [
        "\r",
        "Computed features for frame 409 of 1280 in 0.0729110240936"
       ]
      },
      {
       "output_type": "stream",
       "stream": "stdout",
       "text": [
        "\r",
        "Computed features for frame 410 of 1280 in 0.0727300643921"
       ]
      },
      {
       "output_type": "stream",
       "stream": "stdout",
       "text": [
        "\r",
        "Computed features for frame 411 of 1280 in 0.0738699436188"
       ]
      },
      {
       "output_type": "stream",
       "stream": "stdout",
       "text": [
        "\r",
        "Computed features for frame 412 of 1280 in 0.0746250152588"
       ]
      },
      {
       "output_type": "stream",
       "stream": "stdout",
       "text": [
        "\r",
        "Computed features for frame 413 of 1280 in 0.0761210918427"
       ]
      },
      {
       "output_type": "stream",
       "stream": "stdout",
       "text": [
        "\r",
        "Computed features for frame 414 of 1280 in 0.0745630264282"
       ]
      },
      {
       "output_type": "stream",
       "stream": "stdout",
       "text": [
        "\r",
        "Computed features for frame 415 of 1280 in 0.0740718841553"
       ]
      },
      {
       "output_type": "stream",
       "stream": "stdout",
       "text": [
        "\r",
        "Computed features for frame 416 of 1280 in 0.0713410377502"
       ]
      },
      {
       "output_type": "stream",
       "stream": "stdout",
       "text": [
        "\r",
        "Computed features for frame 417 of 1280 in 0.0733370780945"
       ]
      },
      {
       "output_type": "stream",
       "stream": "stdout",
       "text": [
        "\r",
        "Computed features for frame 418 of 1280 in 0.0751941204071"
       ]
      },
      {
       "output_type": "stream",
       "stream": "stdout",
       "text": [
        "\r",
        "Computed features for frame 419 of 1280 in 0.0754079818726"
       ]
      },
      {
       "output_type": "stream",
       "stream": "stdout",
       "text": [
        "\r",
        "Computed features for frame 420 of 1280 in 0.0755469799042"
       ]
      },
      {
       "output_type": "stream",
       "stream": "stdout",
       "text": [
        "\r",
        "Computed features for frame 421 of 1280 in 0.0739250183105"
       ]
      },
      {
       "output_type": "stream",
       "stream": "stdout",
       "text": [
        "\r",
        "Computed features for frame 422 of 1280 in 0.0719439983368"
       ]
      },
      {
       "output_type": "stream",
       "stream": "stdout",
       "text": [
        "\r",
        "Computed features for frame 423 of 1280 in 0.0727200508118"
       ]
      },
      {
       "output_type": "stream",
       "stream": "stdout",
       "text": [
        "\r",
        "Computed features for frame 424 of 1280 in 0.0744669437408"
       ]
      },
      {
       "output_type": "stream",
       "stream": "stdout",
       "text": [
        "\r",
        "Computed features for frame 425 of 1280 in 0.0746178627014"
       ]
      },
      {
       "output_type": "stream",
       "stream": "stdout",
       "text": [
        "\r",
        "Computed features for frame 426 of 1280 in 0.0725228786469"
       ]
      },
      {
       "output_type": "stream",
       "stream": "stdout",
       "text": [
        "\r",
        "Computed features for frame 427 of 1280 in 0.0707008838654"
       ]
      },
      {
       "output_type": "stream",
       "stream": "stdout",
       "text": [
        "\r",
        "Computed features for frame 428 of 1280 in 0.0719759464264"
       ]
      },
      {
       "output_type": "stream",
       "stream": "stdout",
       "text": [
        "\r",
        "Computed features for frame 429 of 1280 in 0.0725021362305"
       ]
      },
      {
       "output_type": "stream",
       "stream": "stdout",
       "text": [
        "\r",
        "Computed features for frame 430 of 1280 in 0.0726819038391"
       ]
      },
      {
       "output_type": "stream",
       "stream": "stdout",
       "text": [
        "\r",
        "Computed features for frame 431 of 1280 in 0.071121931076"
       ]
      },
      {
       "output_type": "stream",
       "stream": "stdout",
       "text": [
        "\r",
        "Computed features for frame 432 of 1280 in 0.0734910964966"
       ]
      },
      {
       "output_type": "stream",
       "stream": "stdout",
       "text": [
        "\r",
        "Computed features for frame 433 of 1280 in 0.0734939575195"
       ]
      },
      {
       "output_type": "stream",
       "stream": "stdout",
       "text": [
        "\r",
        "Computed features for frame 434 of 1280 in 0.0721919536591"
       ]
      },
      {
       "output_type": "stream",
       "stream": "stdout",
       "text": [
        "\r",
        "Computed features for frame 435 of 1280 in 0.0741600990295"
       ]
      },
      {
       "output_type": "stream",
       "stream": "stdout",
       "text": [
        "\r",
        "Computed features for frame 436 of 1280 in 0.0713460445404"
       ]
      },
      {
       "output_type": "stream",
       "stream": "stdout",
       "text": [
        "\r",
        "Computed features for frame 437 of 1280 in 0.0751008987427"
       ]
      },
      {
       "output_type": "stream",
       "stream": "stdout",
       "text": [
        "\r",
        "Computed features for frame 438 of 1280 in 0.0810918807983"
       ]
      },
      {
       "output_type": "stream",
       "stream": "stdout",
       "text": [
        "\r",
        "Computed features for frame 439 of 1280 in 0.0733420848846"
       ]
      },
      {
       "output_type": "stream",
       "stream": "stdout",
       "text": [
        "\r",
        "Computed features for frame 440 of 1280 in 0.0765490531921"
       ]
      },
      {
       "output_type": "stream",
       "stream": "stdout",
       "text": [
        "\r",
        "Computed features for frame 441 of 1280 in 0.0720570087433"
       ]
      },
      {
       "output_type": "stream",
       "stream": "stdout",
       "text": [
        "\r",
        "Computed features for frame 442 of 1280 in 0.073301076889"
       ]
      },
      {
       "output_type": "stream",
       "stream": "stdout",
       "text": [
        "\r",
        "Computed features for frame 443 of 1280 in 0.0727808475494"
       ]
      },
      {
       "output_type": "stream",
       "stream": "stdout",
       "text": [
        "\r",
        "Computed features for frame 444 of 1280 in 0.0721089839935"
       ]
      },
      {
       "output_type": "stream",
       "stream": "stdout",
       "text": [
        "\r",
        "Computed features for frame 445 of 1280 in 0.0728950500488"
       ]
      },
      {
       "output_type": "stream",
       "stream": "stdout",
       "text": [
        "\r",
        "Computed features for frame 446 of 1280 in 0.0746929645538"
       ]
      },
      {
       "output_type": "stream",
       "stream": "stdout",
       "text": [
        "\r",
        "Computed features for frame 447 of 1280 in 0.0734188556671"
       ]
      },
      {
       "output_type": "stream",
       "stream": "stdout",
       "text": [
        "\r",
        "Computed features for frame 448 of 1280 in 0.0734970569611"
       ]
      },
      {
       "output_type": "stream",
       "stream": "stdout",
       "text": [
        "\r",
        "Computed features for frame 449 of 1280 in 0.0743081569672"
       ]
      },
      {
       "output_type": "stream",
       "stream": "stdout",
       "text": [
        "\r",
        "Computed features for frame 450 of 1280 in 0.0769369602203"
       ]
      },
      {
       "output_type": "stream",
       "stream": "stdout",
       "text": [
        "\r",
        "Computed features for frame 451 of 1280 in 0.0766968727112"
       ]
      },
      {
       "output_type": "stream",
       "stream": "stdout",
       "text": [
        "\r",
        "Computed features for frame 452 of 1280 in 0.0764009952545"
       ]
      },
      {
       "output_type": "stream",
       "stream": "stdout",
       "text": [
        "\r",
        "Computed features for frame 453 of 1280 in 0.0764861106873"
       ]
      },
      {
       "output_type": "stream",
       "stream": "stdout",
       "text": [
        "\r",
        "Computed features for frame 454 of 1280 in 0.0766241550446"
       ]
      },
      {
       "output_type": "stream",
       "stream": "stdout",
       "text": [
        "\r",
        "Computed features for frame 455 of 1280 in 0.0762288570404"
       ]
      },
      {
       "output_type": "stream",
       "stream": "stdout",
       "text": [
        "\r",
        "Computed features for frame 456 of 1280 in 0.078341960907"
       ]
      },
      {
       "output_type": "stream",
       "stream": "stdout",
       "text": [
        "\r",
        "Computed features for frame 457 of 1280 in 0.0769710540771"
       ]
      },
      {
       "output_type": "stream",
       "stream": "stdout",
       "text": [
        "\r",
        "Computed features for frame 458 of 1280 in 0.0769999027252"
       ]
      },
      {
       "output_type": "stream",
       "stream": "stdout",
       "text": [
        "\r",
        "Computed features for frame 459 of 1280 in 0.0735168457031"
       ]
      },
      {
       "output_type": "stream",
       "stream": "stdout",
       "text": [
        "\r",
        "Computed features for frame 460 of 1280 in 0.0773940086365"
       ]
      },
      {
       "output_type": "stream",
       "stream": "stdout",
       "text": [
        "\r",
        "Computed features for frame 461 of 1280 in 0.0742559432983"
       ]
      },
      {
       "output_type": "stream",
       "stream": "stdout",
       "text": [
        "\r",
        "Computed features for frame 462 of 1280 in 0.0744988918304"
       ]
      },
      {
       "output_type": "stream",
       "stream": "stdout",
       "text": [
        "\r",
        "Computed features for frame 463 of 1280 in 0.075131893158"
       ]
      },
      {
       "output_type": "stream",
       "stream": "stdout",
       "text": [
        "\r",
        "Computed features for frame 464 of 1280 in 0.0755798816681"
       ]
      },
      {
       "output_type": "stream",
       "stream": "stdout",
       "text": [
        "\r",
        "Computed features for frame 465 of 1280 in 0.0792768001556"
       ]
      },
      {
       "output_type": "stream",
       "stream": "stdout",
       "text": [
        "\r",
        "Computed features for frame 466 of 1280 in 0.0726990699768"
       ]
      },
      {
       "output_type": "stream",
       "stream": "stdout",
       "text": [
        "\r",
        "Computed features for frame 467 of 1280 in 0.0728471279144"
       ]
      },
      {
       "output_type": "stream",
       "stream": "stdout",
       "text": [
        "\r",
        "Computed features for frame 468 of 1280 in 0.0742020606995"
       ]
      },
      {
       "output_type": "stream",
       "stream": "stdout",
       "text": [
        "\r",
        "Computed features for frame 469 of 1280 in 0.0733828544617"
       ]
      },
      {
       "output_type": "stream",
       "stream": "stdout",
       "text": [
        "\r",
        "Computed features for frame 470 of 1280 in 0.0747940540314"
       ]
      },
      {
       "output_type": "stream",
       "stream": "stdout",
       "text": [
        "\r",
        "Computed features for frame 471 of 1280 in 0.0755479335785"
       ]
      },
      {
       "output_type": "stream",
       "stream": "stdout",
       "text": [
        "\r",
        "Computed features for frame 472 of 1280 in 0.0736479759216"
       ]
      },
      {
       "output_type": "stream",
       "stream": "stdout",
       "text": [
        "\r",
        "Computed features for frame 473 of 1280 in 0.0739409923553"
       ]
      },
      {
       "output_type": "stream",
       "stream": "stdout",
       "text": [
        "\r",
        "Computed features for frame 474 of 1280 in 0.0740990638733"
       ]
      },
      {
       "output_type": "stream",
       "stream": "stdout",
       "text": [
        "\r",
        "Computed features for frame 475 of 1280 in 0.0739738941193"
       ]
      },
      {
       "output_type": "stream",
       "stream": "stdout",
       "text": [
        "\r",
        "Computed features for frame 476 of 1280 in 0.0732579231262"
       ]
      },
      {
       "output_type": "stream",
       "stream": "stdout",
       "text": [
        "\r",
        "Computed features for frame 477 of 1280 in 0.0725798606873"
       ]
      },
      {
       "output_type": "stream",
       "stream": "stdout",
       "text": [
        "\r",
        "Computed features for frame 478 of 1280 in 0.0744078159332"
       ]
      },
      {
       "output_type": "stream",
       "stream": "stdout",
       "text": [
        "\r",
        "Computed features for frame 479 of 1280 in 0.0738410949707"
       ]
      },
      {
       "output_type": "stream",
       "stream": "stdout",
       "text": [
        "\r",
        "Computed features for frame 480 of 1280 in 0.078763961792"
       ]
      },
      {
       "output_type": "stream",
       "stream": "stdout",
       "text": [
        "\r",
        "Computed features for frame 481 of 1280 in 0.0727689266205"
       ]
      },
      {
       "output_type": "stream",
       "stream": "stdout",
       "text": [
        "\r",
        "Computed features for frame 482 of 1280 in 0.0729670524597"
       ]
      },
      {
       "output_type": "stream",
       "stream": "stdout",
       "text": [
        "\r",
        "Computed features for frame 483 of 1280 in 0.0723149776459"
       ]
      },
      {
       "output_type": "stream",
       "stream": "stdout",
       "text": [
        "\r",
        "Computed features for frame 484 of 1280 in 0.0735259056091"
       ]
      },
      {
       "output_type": "stream",
       "stream": "stdout",
       "text": [
        "\r",
        "Computed features for frame 485 of 1280 in 0.0747928619385"
       ]
      },
      {
       "output_type": "stream",
       "stream": "stdout",
       "text": [
        "\r",
        "Computed features for frame 486 of 1280 in 0.0732538700104"
       ]
      },
      {
       "output_type": "stream",
       "stream": "stdout",
       "text": [
        "\r",
        "Computed features for frame 487 of 1280 in 0.0734031200409"
       ]
      },
      {
       "output_type": "stream",
       "stream": "stdout",
       "text": [
        "\r",
        "Computed features for frame 488 of 1280 in 0.074089050293"
       ]
      },
      {
       "output_type": "stream",
       "stream": "stdout",
       "text": [
        "\r",
        "Computed features for frame 489 of 1280 in 0.072252035141"
       ]
      },
      {
       "output_type": "stream",
       "stream": "stdout",
       "text": [
        "\r",
        "Computed features for frame 490 of 1280 in 0.0728178024292"
       ]
      },
      {
       "output_type": "stream",
       "stream": "stdout",
       "text": [
        "\r",
        "Computed features for frame 491 of 1280 in 0.0754208564758"
       ]
      },
      {
       "output_type": "stream",
       "stream": "stdout",
       "text": [
        "\r",
        "Computed features for frame 492 of 1280 in 0.0743401050568"
       ]
      },
      {
       "output_type": "stream",
       "stream": "stdout",
       "text": [
        "\r",
        "Computed features for frame 493 of 1280 in 0.0738279819489"
       ]
      },
      {
       "output_type": "stream",
       "stream": "stdout",
       "text": [
        "\r",
        "Computed features for frame 494 of 1280 in 0.0768740177155"
       ]
      },
      {
       "output_type": "stream",
       "stream": "stdout",
       "text": [
        "\r",
        "Computed features for frame 495 of 1280 in 0.0758991241455"
       ]
      },
      {
       "output_type": "stream",
       "stream": "stdout",
       "text": [
        "\r",
        "Computed features for frame 496 of 1280 in 0.0732560157776"
       ]
      },
      {
       "output_type": "stream",
       "stream": "stdout",
       "text": [
        "\r",
        "Computed features for frame 497 of 1280 in 0.0811190605164"
       ]
      },
      {
       "output_type": "stream",
       "stream": "stdout",
       "text": [
        "\r",
        "Computed features for frame 498 of 1280 in 0.081344127655"
       ]
      },
      {
       "output_type": "stream",
       "stream": "stdout",
       "text": [
        "\r",
        "Computed features for frame 499 of 1280 in 0.0762748718262"
       ]
      },
      {
       "output_type": "stream",
       "stream": "stdout",
       "text": [
        "\r",
        "Computed features for frame 500 of 1280 in 0.0765719413757"
       ]
      },
      {
       "output_type": "stream",
       "stream": "stdout",
       "text": [
        "\r",
        "Computed features for frame 501 of 1280 in 0.0749371051788"
       ]
      },
      {
       "output_type": "stream",
       "stream": "stdout",
       "text": [
        "\r",
        "Computed features for frame 502 of 1280 in 0.0742869377136"
       ]
      },
      {
       "output_type": "stream",
       "stream": "stdout",
       "text": [
        "\r",
        "Computed features for frame 503 of 1280 in 0.0810050964355"
       ]
      },
      {
       "output_type": "stream",
       "stream": "stdout",
       "text": [
        "\r",
        "Computed features for frame 504 of 1280 in 0.0798921585083"
       ]
      },
      {
       "output_type": "stream",
       "stream": "stdout",
       "text": [
        "\r",
        "Computed features for frame 505 of 1280 in 0.0754528045654"
       ]
      },
      {
       "output_type": "stream",
       "stream": "stdout",
       "text": [
        "\r",
        "Computed features for frame 506 of 1280 in 0.0763628482819"
       ]
      },
      {
       "output_type": "stream",
       "stream": "stdout",
       "text": [
        "\r",
        "Computed features for frame 507 of 1280 in 0.0805621147156"
       ]
      },
      {
       "output_type": "stream",
       "stream": "stdout",
       "text": [
        "\r",
        "Computed features for frame 508 of 1280 in 0.0829989910126"
       ]
      },
      {
       "output_type": "stream",
       "stream": "stdout",
       "text": [
        "\r",
        "Computed features for frame 509 of 1280 in 0.0742678642273"
       ]
      },
      {
       "output_type": "stream",
       "stream": "stdout",
       "text": [
        "\r",
        "Computed features for frame 510 of 1280 in 0.0834031105042"
       ]
      },
      {
       "output_type": "stream",
       "stream": "stdout",
       "text": [
        "\r",
        "Computed features for frame 511 of 1280 in 0.0792951583862"
       ]
      },
      {
       "output_type": "stream",
       "stream": "stdout",
       "text": [
        "\r",
        "Computed features for frame 512 of 1280 in 0.0746591091156"
       ]
      },
      {
       "output_type": "stream",
       "stream": "stdout",
       "text": [
        "\r",
        "Computed features for frame 513 of 1280 in 0.0803451538086"
       ]
      },
      {
       "output_type": "stream",
       "stream": "stdout",
       "text": [
        "\r",
        "Computed features for frame 514 of 1280 in 0.0769619941711"
       ]
      },
      {
       "output_type": "stream",
       "stream": "stdout",
       "text": [
        "\r",
        "Computed features for frame 515 of 1280 in 0.0748419761658"
       ]
      },
      {
       "output_type": "stream",
       "stream": "stdout",
       "text": [
        "\r",
        "Computed features for frame 516 of 1280 in 0.0726578235626"
       ]
      },
      {
       "output_type": "stream",
       "stream": "stdout",
       "text": [
        "\r",
        "Computed features for frame 517 of 1280 in 0.0725920200348"
       ]
      },
      {
       "output_type": "stream",
       "stream": "stdout",
       "text": [
        "\r",
        "Computed features for frame 518 of 1280 in 0.0727269649506"
       ]
      },
      {
       "output_type": "stream",
       "stream": "stdout",
       "text": [
        "\r",
        "Computed features for frame 519 of 1280 in 0.0765881538391"
       ]
      },
      {
       "output_type": "stream",
       "stream": "stdout",
       "text": [
        "\r",
        "Computed features for frame 520 of 1280 in 0.0879678726196"
       ]
      },
      {
       "output_type": "stream",
       "stream": "stdout",
       "text": [
        "\r",
        "Computed features for frame 521 of 1280 in 0.0743849277496"
       ]
      },
      {
       "output_type": "stream",
       "stream": "stdout",
       "text": [
        "\r",
        "Computed features for frame 522 of 1280 in 0.0744268894196"
       ]
      },
      {
       "output_type": "stream",
       "stream": "stdout",
       "text": [
        "\r",
        "Computed features for frame 523 of 1280 in 0.0765759944916"
       ]
      },
      {
       "output_type": "stream",
       "stream": "stdout",
       "text": [
        "\r",
        "Computed features for frame 524 of 1280 in 0.0822470188141"
       ]
      },
      {
       "output_type": "stream",
       "stream": "stdout",
       "text": [
        "\r",
        "Computed features for frame 525 of 1280 in 0.0783951282501"
       ]
      },
      {
       "output_type": "stream",
       "stream": "stdout",
       "text": [
        "\r",
        "Computed features for frame 526 of 1280 in 0.0721621513367"
       ]
      },
      {
       "output_type": "stream",
       "stream": "stdout",
       "text": [
        "\r",
        "Computed features for frame 527 of 1280 in 0.0726809501648"
       ]
      },
      {
       "output_type": "stream",
       "stream": "stdout",
       "text": [
        "\r",
        "Computed features for frame 528 of 1280 in 0.0735847949982"
       ]
      },
      {
       "output_type": "stream",
       "stream": "stdout",
       "text": [
        "\r",
        "Computed features for frame 529 of 1280 in 0.0734610557556"
       ]
      },
      {
       "output_type": "stream",
       "stream": "stdout",
       "text": [
        "\r",
        "Computed features for frame 530 of 1280 in 0.0739200115204"
       ]
      },
      {
       "output_type": "stream",
       "stream": "stdout",
       "text": [
        "\r",
        "Computed features for frame 531 of 1280 in 0.0731701850891"
       ]
      },
      {
       "output_type": "stream",
       "stream": "stdout",
       "text": [
        "\r",
        "Computed features for frame 532 of 1280 in 0.0811989307404"
       ]
      },
      {
       "output_type": "stream",
       "stream": "stdout",
       "text": [
        "\r",
        "Computed features for frame 533 of 1280 in 0.0747799873352"
       ]
      },
      {
       "output_type": "stream",
       "stream": "stdout",
       "text": [
        "\r",
        "Computed features for frame 534 of 1280 in 0.0768020153046"
       ]
      },
      {
       "output_type": "stream",
       "stream": "stdout",
       "text": [
        "\r",
        "Computed features for frame 535 of 1280 in 0.078782081604"
       ]
      },
      {
       "output_type": "stream",
       "stream": "stdout",
       "text": [
        "\r",
        "Computed features for frame 536 of 1280 in 0.07626080513"
       ]
      },
      {
       "output_type": "stream",
       "stream": "stdout",
       "text": [
        "\r",
        "Computed features for frame 537 of 1280 in 0.073038816452"
       ]
      },
      {
       "output_type": "stream",
       "stream": "stdout",
       "text": [
        "\r",
        "Computed features for frame 538 of 1280 in 0.0791621208191"
       ]
      },
      {
       "output_type": "stream",
       "stream": "stdout",
       "text": [
        "\r",
        "Computed features for frame 539 of 1280 in 0.0737380981445"
       ]
      },
      {
       "output_type": "stream",
       "stream": "stdout",
       "text": [
        "\r",
        "Computed features for frame 540 of 1280 in 0.0753648281097"
       ]
      },
      {
       "output_type": "stream",
       "stream": "stdout",
       "text": [
        "\r",
        "Computed features for frame 541 of 1280 in 0.0782079696655"
       ]
      },
      {
       "output_type": "stream",
       "stream": "stdout",
       "text": [
        "\r",
        "Computed features for frame 542 of 1280 in 0.0844480991364"
       ]
      },
      {
       "output_type": "stream",
       "stream": "stdout",
       "text": [
        "\r",
        "Computed features for frame 543 of 1280 in 0.0776867866516"
       ]
      },
      {
       "output_type": "stream",
       "stream": "stdout",
       "text": [
        "\r",
        "Computed features for frame 544 of 1280 in 0.0768640041351"
       ]
      },
      {
       "output_type": "stream",
       "stream": "stdout",
       "text": [
        "\r",
        "Computed features for frame 545 of 1280 in 0.076229095459"
       ]
      },
      {
       "output_type": "stream",
       "stream": "stdout",
       "text": [
        "\r",
        "Computed features for frame 546 of 1280 in 0.076416015625"
       ]
      },
      {
       "output_type": "stream",
       "stream": "stdout",
       "text": [
        "\r",
        "Computed features for frame 547 of 1280 in 0.0827720165253"
       ]
      },
      {
       "output_type": "stream",
       "stream": "stdout",
       "text": [
        "\r",
        "Computed features for frame 548 of 1280 in 0.0781321525574"
       ]
      },
      {
       "output_type": "stream",
       "stream": "stdout",
       "text": [
        "\r",
        "Computed features for frame 549 of 1280 in 0.0873680114746"
       ]
      },
      {
       "output_type": "stream",
       "stream": "stdout",
       "text": [
        "\r",
        "Computed features for frame 550 of 1280 in 0.0742111206055"
       ]
      },
      {
       "output_type": "stream",
       "stream": "stdout",
       "text": [
        "\r",
        "Computed features for frame 551 of 1280 in 0.0760858058929"
       ]
      },
      {
       "output_type": "stream",
       "stream": "stdout",
       "text": [
        "\r",
        "Computed features for frame 552 of 1280 in 0.0736830234528"
       ]
      },
      {
       "output_type": "stream",
       "stream": "stdout",
       "text": [
        "\r",
        "Computed features for frame 553 of 1280 in 0.0744190216064"
       ]
      },
      {
       "output_type": "stream",
       "stream": "stdout",
       "text": [
        "\r",
        "Computed features for frame 554 of 1280 in 0.0773961544037"
       ]
      },
      {
       "output_type": "stream",
       "stream": "stdout",
       "text": [
        "\r",
        "Computed features for frame 555 of 1280 in 0.0804188251495"
       ]
      },
      {
       "output_type": "stream",
       "stream": "stdout",
       "text": [
        "\r",
        "Computed features for frame 556 of 1280 in 0.0729441642761"
       ]
      },
      {
       "output_type": "stream",
       "stream": "stdout",
       "text": [
        "\r",
        "Computed features for frame 557 of 1280 in 0.0743799209595"
       ]
      },
      {
       "output_type": "stream",
       "stream": "stdout",
       "text": [
        "\r",
        "Computed features for frame 558 of 1280 in 0.0728349685669"
       ]
      },
      {
       "output_type": "stream",
       "stream": "stdout",
       "text": [
        "\r",
        "Computed features for frame 559 of 1280 in 0.0728089809418"
       ]
      },
      {
       "output_type": "stream",
       "stream": "stdout",
       "text": [
        "\r",
        "Computed features for frame 560 of 1280 in 0.0734119415283"
       ]
      },
      {
       "output_type": "stream",
       "stream": "stdout",
       "text": [
        "\r",
        "Computed features for frame 561 of 1280 in 0.0723021030426"
       ]
      },
      {
       "output_type": "stream",
       "stream": "stdout",
       "text": [
        "\r",
        "Computed features for frame 562 of 1280 in 0.0729560852051"
       ]
      },
      {
       "output_type": "stream",
       "stream": "stdout",
       "text": [
        "\r",
        "Computed features for frame 563 of 1280 in 0.0728151798248"
       ]
      },
      {
       "output_type": "stream",
       "stream": "stdout",
       "text": [
        "\r",
        "Computed features for frame 564 of 1280 in 0.0732970237732"
       ]
      },
      {
       "output_type": "stream",
       "stream": "stdout",
       "text": [
        "\r",
        "Computed features for frame 565 of 1280 in 0.0727050304413"
       ]
      },
      {
       "output_type": "stream",
       "stream": "stdout",
       "text": [
        "\r",
        "Computed features for frame 566 of 1280 in 0.0768909454346"
       ]
      },
      {
       "output_type": "stream",
       "stream": "stdout",
       "text": [
        "\r",
        "Computed features for frame 567 of 1280 in 0.073038816452"
       ]
      },
      {
       "output_type": "stream",
       "stream": "stdout",
       "text": [
        "\r",
        "Computed features for frame 568 of 1280 in 0.0723910331726"
       ]
      },
      {
       "output_type": "stream",
       "stream": "stdout",
       "text": [
        "\r",
        "Computed features for frame 569 of 1280 in 0.0725200176239"
       ]
      },
      {
       "output_type": "stream",
       "stream": "stdout",
       "text": [
        "\r",
        "Computed features for frame 570 of 1280 in 0.0786700248718"
       ]
      },
      {
       "output_type": "stream",
       "stream": "stdout",
       "text": [
        "\r",
        "Computed features for frame 571 of 1280 in 0.0733950138092"
       ]
      },
      {
       "output_type": "stream",
       "stream": "stdout",
       "text": [
        "\r",
        "Computed features for frame 572 of 1280 in 0.0735759735107"
       ]
      },
      {
       "output_type": "stream",
       "stream": "stdout",
       "text": [
        "\r",
        "Computed features for frame 573 of 1280 in 0.0738339424133"
       ]
      },
      {
       "output_type": "stream",
       "stream": "stdout",
       "text": [
        "\r",
        "Computed features for frame 574 of 1280 in 0.0739119052887"
       ]
      },
      {
       "output_type": "stream",
       "stream": "stdout",
       "text": [
        "\r",
        "Computed features for frame 575 of 1280 in 0.0735111236572"
       ]
      },
      {
       "output_type": "stream",
       "stream": "stdout",
       "text": [
        "\r",
        "Computed features for frame 576 of 1280 in 0.0738360881805"
       ]
      },
      {
       "output_type": "stream",
       "stream": "stdout",
       "text": [
        "\r",
        "Computed features for frame 577 of 1280 in 0.073096036911"
       ]
      },
      {
       "output_type": "stream",
       "stream": "stdout",
       "text": [
        "\r",
        "Computed features for frame 578 of 1280 in 0.0730450153351"
       ]
      },
      {
       "output_type": "stream",
       "stream": "stdout",
       "text": [
        "\r",
        "Computed features for frame 579 of 1280 in 0.0726571083069"
       ]
      },
      {
       "output_type": "stream",
       "stream": "stdout",
       "text": [
        "\r",
        "Computed features for frame 580 of 1280 in 0.0728468894958"
       ]
      },
      {
       "output_type": "stream",
       "stream": "stdout",
       "text": [
        "\r",
        "Computed features for frame 581 of 1280 in 0.0722539424896"
       ]
      },
      {
       "output_type": "stream",
       "stream": "stdout",
       "text": [
        "\r",
        "Computed features for frame 582 of 1280 in 0.0725040435791"
       ]
      },
      {
       "output_type": "stream",
       "stream": "stdout",
       "text": [
        "\r",
        "Computed features for frame 583 of 1280 in 0.0728640556335"
       ]
      },
      {
       "output_type": "stream",
       "stream": "stdout",
       "text": [
        "\r",
        "Computed features for frame 584 of 1280 in 0.0720529556274"
       ]
      },
      {
       "output_type": "stream",
       "stream": "stdout",
       "text": [
        "\r",
        "Computed features for frame 585 of 1280 in 0.0749640464783"
       ]
      },
      {
       "output_type": "stream",
       "stream": "stdout",
       "text": [
        "\r",
        "Computed features for frame 586 of 1280 in 0.0786828994751"
       ]
      },
      {
       "output_type": "stream",
       "stream": "stdout",
       "text": [
        "\r",
        "Computed features for frame 587 of 1280 in 0.0753679275513"
       ]
      },
      {
       "output_type": "stream",
       "stream": "stdout",
       "text": [
        "\r",
        "Computed features for frame 588 of 1280 in 0.0764081478119"
       ]
      },
      {
       "output_type": "stream",
       "stream": "stdout",
       "text": [
        "\r",
        "Computed features for frame 589 of 1280 in 0.0876607894897"
       ]
      },
      {
       "output_type": "stream",
       "stream": "stdout",
       "text": [
        "\r",
        "Computed features for frame 590 of 1280 in 0.0752758979797"
       ]
      },
      {
       "output_type": "stream",
       "stream": "stdout",
       "text": [
        "\r",
        "Computed features for frame 591 of 1280 in 0.0744481086731"
       ]
      },
      {
       "output_type": "stream",
       "stream": "stdout",
       "text": [
        "\r",
        "Computed features for frame 592 of 1280 in 0.0746898651123"
       ]
      },
      {
       "output_type": "stream",
       "stream": "stdout",
       "text": [
        "\r",
        "Computed features for frame 593 of 1280 in 0.0741980075836"
       ]
      },
      {
       "output_type": "stream",
       "stream": "stdout",
       "text": [
        "\r",
        "Computed features for frame 594 of 1280 in 0.073872089386"
       ]
      },
      {
       "output_type": "stream",
       "stream": "stdout",
       "text": [
        "\r",
        "Computed features for frame 595 of 1280 in 0.0744888782501"
       ]
      },
      {
       "output_type": "stream",
       "stream": "stdout",
       "text": [
        "\r",
        "Computed features for frame 596 of 1280 in 0.0774929523468"
       ]
      },
      {
       "output_type": "stream",
       "stream": "stdout",
       "text": [
        "\r",
        "Computed features for frame 597 of 1280 in 0.0749981403351"
       ]
      },
      {
       "output_type": "stream",
       "stream": "stdout",
       "text": [
        "\r",
        "Computed features for frame 598 of 1280 in 0.0786671638489"
       ]
      },
      {
       "output_type": "stream",
       "stream": "stdout",
       "text": [
        "\r",
        "Computed features for frame 599 of 1280 in 0.0751760005951"
       ]
      },
      {
       "output_type": "stream",
       "stream": "stdout",
       "text": [
        "\r",
        "Computed features for frame 600 of 1280 in 0.0764110088348"
       ]
      },
      {
       "output_type": "stream",
       "stream": "stdout",
       "text": [
        "\r",
        "Computed features for frame 601 of 1280 in 0.0744750499725"
       ]
      },
      {
       "output_type": "stream",
       "stream": "stdout",
       "text": [
        "\r",
        "Computed features for frame 602 of 1280 in 0.0777721405029"
       ]
      },
      {
       "output_type": "stream",
       "stream": "stdout",
       "text": [
        "\r",
        "Computed features for frame 603 of 1280 in 0.0743768215179"
       ]
      },
      {
       "output_type": "stream",
       "stream": "stdout",
       "text": [
        "\r",
        "Computed features for frame 604 of 1280 in 0.0753548145294"
       ]
      },
      {
       "output_type": "stream",
       "stream": "stdout",
       "text": [
        "\r",
        "Computed features for frame 605 of 1280 in 0.0732970237732"
       ]
      },
      {
       "output_type": "stream",
       "stream": "stdout",
       "text": [
        "\r",
        "Computed features for frame 606 of 1280 in 0.0762121677399"
       ]
      },
      {
       "output_type": "stream",
       "stream": "stdout",
       "text": [
        "\r",
        "Computed features for frame 607 of 1280 in 0.0787949562073"
       ]
      },
      {
       "output_type": "stream",
       "stream": "stdout",
       "text": [
        "\r",
        "Computed features for frame 608 of 1280 in 0.0729701519012"
       ]
      },
      {
       "output_type": "stream",
       "stream": "stdout",
       "text": [
        "\r",
        "Computed features for frame 609 of 1280 in 0.0749011039734"
       ]
      },
      {
       "output_type": "stream",
       "stream": "stdout",
       "text": [
        "\r",
        "Computed features for frame 610 of 1280 in 0.0757439136505"
       ]
      },
      {
       "output_type": "stream",
       "stream": "stdout",
       "text": [
        "\r",
        "Computed features for frame 611 of 1280 in 0.0751140117645"
       ]
      },
      {
       "output_type": "stream",
       "stream": "stdout",
       "text": [
        "\r",
        "Computed features for frame 612 of 1280 in 0.0741150379181"
       ]
      },
      {
       "output_type": "stream",
       "stream": "stdout",
       "text": [
        "\r",
        "Computed features for frame 613 of 1280 in 0.0809769630432"
       ]
      },
      {
       "output_type": "stream",
       "stream": "stdout",
       "text": [
        "\r",
        "Computed features for frame 614 of 1280 in 0.0781679153442"
       ]
      },
      {
       "output_type": "stream",
       "stream": "stdout",
       "text": [
        "\r",
        "Computed features for frame 615 of 1280 in 0.0764198303223"
       ]
      },
      {
       "output_type": "stream",
       "stream": "stdout",
       "text": [
        "\r",
        "Computed features for frame 616 of 1280 in 0.0754849910736"
       ]
      },
      {
       "output_type": "stream",
       "stream": "stdout",
       "text": [
        "\r",
        "Computed features for frame 617 of 1280 in 0.0738658905029"
       ]
      },
      {
       "output_type": "stream",
       "stream": "stdout",
       "text": [
        "\r",
        "Computed features for frame 618 of 1280 in 0.0720620155334"
       ]
      },
      {
       "output_type": "stream",
       "stream": "stdout",
       "text": [
        "\r",
        "Computed features for frame 619 of 1280 in 0.0729038715363"
       ]
      },
      {
       "output_type": "stream",
       "stream": "stdout",
       "text": [
        "\r",
        "Computed features for frame 620 of 1280 in 0.0731451511383"
       ]
      },
      {
       "output_type": "stream",
       "stream": "stdout",
       "text": [
        "\r",
        "Computed features for frame 621 of 1280 in 0.0773119926453"
       ]
      },
      {
       "output_type": "stream",
       "stream": "stdout",
       "text": [
        "\r",
        "Computed features for frame 622 of 1280 in 0.0782639980316"
       ]
      },
      {
       "output_type": "stream",
       "stream": "stdout",
       "text": [
        "\r",
        "Computed features for frame 623 of 1280 in 0.0846111774445"
       ]
      },
      {
       "output_type": "stream",
       "stream": "stdout",
       "text": [
        "\r",
        "Computed features for frame 624 of 1280 in 0.0766448974609"
       ]
      },
      {
       "output_type": "stream",
       "stream": "stdout",
       "text": [
        "\r",
        "Computed features for frame 625 of 1280 in 0.0752949714661"
       ]
      },
      {
       "output_type": "stream",
       "stream": "stdout",
       "text": [
        "\r",
        "Computed features for frame 626 of 1280 in 0.0757911205292"
       ]
      },
      {
       "output_type": "stream",
       "stream": "stdout",
       "text": [
        "\r",
        "Computed features for frame 627 of 1280 in 0.083104133606"
       ]
      },
      {
       "output_type": "stream",
       "stream": "stdout",
       "text": [
        "\r",
        "Computed features for frame 628 of 1280 in 0.0807468891144"
       ]
      },
      {
       "output_type": "stream",
       "stream": "stdout",
       "text": [
        "\r",
        "Computed features for frame 629 of 1280 in 0.0770728588104"
       ]
      },
      {
       "output_type": "stream",
       "stream": "stdout",
       "text": [
        "\r",
        "Computed features for frame 630 of 1280 in 0.0775020122528"
       ]
      },
      {
       "output_type": "stream",
       "stream": "stdout",
       "text": [
        "\r",
        "Computed features for frame 631 of 1280 in 0.0745320320129"
       ]
      },
      {
       "output_type": "stream",
       "stream": "stdout",
       "text": [
        "\r",
        "Computed features for frame 632 of 1280 in 0.0738279819489"
       ]
      },
      {
       "output_type": "stream",
       "stream": "stdout",
       "text": [
        "\r",
        "Computed features for frame 633 of 1280 in 0.0771758556366"
       ]
      },
      {
       "output_type": "stream",
       "stream": "stdout",
       "text": [
        "\r",
        "Computed features for frame 634 of 1280 in 0.0901157855988"
       ]
      },
      {
       "output_type": "stream",
       "stream": "stdout",
       "text": [
        "\r",
        "Computed features for frame 635 of 1280 in 0.0738639831543"
       ]
      },
      {
       "output_type": "stream",
       "stream": "stdout",
       "text": [
        "\r",
        "Computed features for frame 636 of 1280 in 0.0747330188751"
       ]
      },
      {
       "output_type": "stream",
       "stream": "stdout",
       "text": [
        "\r",
        "Computed features for frame 637 of 1280 in 0.0715420246124"
       ]
      },
      {
       "output_type": "stream",
       "stream": "stdout",
       "text": [
        "\r",
        "Computed features for frame 638 of 1280 in 0.0720779895782"
       ]
      },
      {
       "output_type": "stream",
       "stream": "stdout",
       "text": [
        "\r",
        "Computed features for frame 639 of 1280 in 0.0727269649506"
       ]
      },
      {
       "output_type": "stream",
       "stream": "stdout",
       "text": [
        "\r",
        "Computed features for frame 640 of 1280 in 0.0727729797363"
       ]
      },
      {
       "output_type": "stream",
       "stream": "stdout",
       "text": [
        "\r",
        "Computed features for frame 641 of 1280 in 0.07479596138"
       ]
      },
      {
       "output_type": "stream",
       "stream": "stdout",
       "text": [
        "\r",
        "Computed features for frame 642 of 1280 in 0.0775129795074"
       ]
      },
      {
       "output_type": "stream",
       "stream": "stdout",
       "text": [
        "\r",
        "Computed features for frame 643 of 1280 in 0.0772588253021"
       ]
      },
      {
       "output_type": "stream",
       "stream": "stdout",
       "text": [
        "\r",
        "Computed features for frame 644 of 1280 in 0.0725789070129"
       ]
      },
      {
       "output_type": "stream",
       "stream": "stdout",
       "text": [
        "\r",
        "Computed features for frame 645 of 1280 in 0.0759789943695"
       ]
      },
      {
       "output_type": "stream",
       "stream": "stdout",
       "text": [
        "\r",
        "Computed features for frame 646 of 1280 in 0.0724608898163"
       ]
      },
      {
       "output_type": "stream",
       "stream": "stdout",
       "text": [
        "\r",
        "Computed features for frame 647 of 1280 in 0.0732040405273"
       ]
      },
      {
       "output_type": "stream",
       "stream": "stdout",
       "text": [
        "\r",
        "Computed features for frame 648 of 1280 in 0.0762400627136"
       ]
      },
      {
       "output_type": "stream",
       "stream": "stdout",
       "text": [
        "\r",
        "Computed features for frame 649 of 1280 in 0.0724830627441"
       ]
      },
      {
       "output_type": "stream",
       "stream": "stdout",
       "text": [
        "\r",
        "Computed features for frame 650 of 1280 in 0.0726759433746"
       ]
      },
      {
       "output_type": "stream",
       "stream": "stdout",
       "text": [
        "\r",
        "Computed features for frame 651 of 1280 in 0.0718500614166"
       ]
      },
      {
       "output_type": "stream",
       "stream": "stdout",
       "text": [
        "\r",
        "Computed features for frame 652 of 1280 in 0.0725250244141"
       ]
      },
      {
       "output_type": "stream",
       "stream": "stdout",
       "text": [
        "\r",
        "Computed features for frame 653 of 1280 in 0.0721621513367"
       ]
      },
      {
       "output_type": "stream",
       "stream": "stdout",
       "text": [
        "\r",
        "Computed features for frame 654 of 1280 in 0.0725741386414"
       ]
      },
      {
       "output_type": "stream",
       "stream": "stdout",
       "text": [
        "\r",
        "Computed features for frame 655 of 1280 in 0.0728080272675"
       ]
      },
      {
       "output_type": "stream",
       "stream": "stdout",
       "text": [
        "\r",
        "Computed features for frame 656 of 1280 in 0.074371099472"
       ]
      },
      {
       "output_type": "stream",
       "stream": "stdout",
       "text": [
        "\r",
        "Computed features for frame 657 of 1280 in 0.0732419490814"
       ]
      },
      {
       "output_type": "stream",
       "stream": "stdout",
       "text": [
        "\r",
        "Computed features for frame 658 of 1280 in 0.0725891590118"
       ]
      },
      {
       "output_type": "stream",
       "stream": "stdout",
       "text": [
        "\r",
        "Computed features for frame 659 of 1280 in 0.071692943573"
       ]
      },
      {
       "output_type": "stream",
       "stream": "stdout",
       "text": [
        "\r",
        "Computed features for frame 660 of 1280 in 0.0784170627594"
       ]
      },
      {
       "output_type": "stream",
       "stream": "stdout",
       "text": [
        "\r",
        "Computed features for frame 661 of 1280 in 0.0728459358215"
       ]
      },
      {
       "output_type": "stream",
       "stream": "stdout",
       "text": [
        "\r",
        "Computed features for frame 662 of 1280 in 0.0745239257812"
       ]
      },
      {
       "output_type": "stream",
       "stream": "stdout",
       "text": [
        "\r",
        "Computed features for frame 663 of 1280 in 0.0747809410095"
       ]
      },
      {
       "output_type": "stream",
       "stream": "stdout",
       "text": [
        "\r",
        "Computed features for frame 664 of 1280 in 0.0803029537201"
       ]
      },
      {
       "output_type": "stream",
       "stream": "stdout",
       "text": [
        "\r",
        "Computed features for frame 665 of 1280 in 0.0752038955688"
       ]
      },
      {
       "output_type": "stream",
       "stream": "stdout",
       "text": [
        "\r",
        "Computed features for frame 666 of 1280 in 0.0776400566101"
       ]
      },
      {
       "output_type": "stream",
       "stream": "stdout",
       "text": [
        "\r",
        "Computed features for frame 667 of 1280 in 0.0733058452606"
       ]
      },
      {
       "output_type": "stream",
       "stream": "stdout",
       "text": [
        "\r",
        "Computed features for frame 668 of 1280 in 0.0734760761261"
       ]
      },
      {
       "output_type": "stream",
       "stream": "stdout",
       "text": [
        "\r",
        "Computed features for frame 669 of 1280 in 0.0739130973816"
       ]
      },
      {
       "output_type": "stream",
       "stream": "stdout",
       "text": [
        "\r",
        "Computed features for frame 670 of 1280 in 0.0737910270691"
       ]
      },
      {
       "output_type": "stream",
       "stream": "stdout",
       "text": [
        "\r",
        "Computed features for frame 671 of 1280 in 0.0734040737152"
       ]
      },
      {
       "output_type": "stream",
       "stream": "stdout",
       "text": [
        "\r",
        "Computed features for frame 672 of 1280 in 0.0713250637054"
       ]
      },
      {
       "output_type": "stream",
       "stream": "stdout",
       "text": [
        "\r",
        "Computed features for frame 673 of 1280 in 0.0725741386414"
       ]
      },
      {
       "output_type": "stream",
       "stream": "stdout",
       "text": [
        "\r",
        "Computed features for frame 674 of 1280 in 0.0729289054871"
       ]
      },
      {
       "output_type": "stream",
       "stream": "stdout",
       "text": [
        "\r",
        "Computed features for frame 675 of 1280 in 0.0749480724335"
       ]
      },
      {
       "output_type": "stream",
       "stream": "stdout",
       "text": [
        "\r",
        "Computed features for frame 676 of 1280 in 0.072319984436"
       ]
      },
      {
       "output_type": "stream",
       "stream": "stdout",
       "text": [
        "\r",
        "Computed features for frame 677 of 1280 in 0.0725660324097"
       ]
      },
      {
       "output_type": "stream",
       "stream": "stdout",
       "text": [
        "\r",
        "Computed features for frame 678 of 1280 in 0.0722279548645"
       ]
      },
      {
       "output_type": "stream",
       "stream": "stdout",
       "text": [
        "\r",
        "Computed features for frame 679 of 1280 in 0.0738229751587"
       ]
      },
      {
       "output_type": "stream",
       "stream": "stdout",
       "text": [
        "\r",
        "Computed features for frame 680 of 1280 in 0.0735459327698"
       ]
      },
      {
       "output_type": "stream",
       "stream": "stdout",
       "text": [
        "\r",
        "Computed features for frame 681 of 1280 in 0.0726599693298"
       ]
      },
      {
       "output_type": "stream",
       "stream": "stdout",
       "text": [
        "\r",
        "Computed features for frame 682 of 1280 in 0.0736520290375"
       ]
      },
      {
       "output_type": "stream",
       "stream": "stdout",
       "text": [
        "\r",
        "Computed features for frame 683 of 1280 in 0.0774371623993"
       ]
      },
      {
       "output_type": "stream",
       "stream": "stdout",
       "text": [
        "\r",
        "Computed features for frame 684 of 1280 in 0.0722081661224"
       ]
      },
      {
       "output_type": "stream",
       "stream": "stdout",
       "text": [
        "\r",
        "Computed features for frame 685 of 1280 in 0.0728430747986"
       ]
      },
      {
       "output_type": "stream",
       "stream": "stdout",
       "text": [
        "\r",
        "Computed features for frame 686 of 1280 in 0.0711781978607"
       ]
      },
      {
       "output_type": "stream",
       "stream": "stdout",
       "text": [
        "\r",
        "Computed features for frame 687 of 1280 in 0.0737481117249"
       ]
      },
      {
       "output_type": "stream",
       "stream": "stdout",
       "text": [
        "\r",
        "Computed features for frame 688 of 1280 in 0.0736041069031"
       ]
      },
      {
       "output_type": "stream",
       "stream": "stdout",
       "text": [
        "\r",
        "Computed features for frame 689 of 1280 in 0.0879919528961"
       ]
      },
      {
       "output_type": "stream",
       "stream": "stdout",
       "text": [
        "\r",
        "Computed features for frame 690 of 1280 in 0.0829789638519"
       ]
      },
      {
       "output_type": "stream",
       "stream": "stdout",
       "text": [
        "\r",
        "Computed features for frame 691 of 1280 in 0.0740268230438"
       ]
      },
      {
       "output_type": "stream",
       "stream": "stdout",
       "text": [
        "\r",
        "Computed features for frame 692 of 1280 in 0.0733530521393"
       ]
      },
      {
       "output_type": "stream",
       "stream": "stdout",
       "text": [
        "\r",
        "Computed features for frame 693 of 1280 in 0.0737810134888"
       ]
      },
      {
       "output_type": "stream",
       "stream": "stdout",
       "text": [
        "\r",
        "Computed features for frame 694 of 1280 in 0.0727279186249"
       ]
      },
      {
       "output_type": "stream",
       "stream": "stdout",
       "text": [
        "\r",
        "Computed features for frame 695 of 1280 in 0.0718841552734"
       ]
      },
      {
       "output_type": "stream",
       "stream": "stdout",
       "text": [
        "\r",
        "Computed features for frame 696 of 1280 in 0.0714910030365"
       ]
      },
      {
       "output_type": "stream",
       "stream": "stdout",
       "text": [
        "\r",
        "Computed features for frame 697 of 1280 in 0.076651096344"
       ]
      },
      {
       "output_type": "stream",
       "stream": "stdout",
       "text": [
        "\r",
        "Computed features for frame 698 of 1280 in 0.0706939697266"
       ]
      },
      {
       "output_type": "stream",
       "stream": "stdout",
       "text": [
        "\r",
        "Computed features for frame 699 of 1280 in 0.0728290081024"
       ]
      },
      {
       "output_type": "stream",
       "stream": "stdout",
       "text": [
        "\r",
        "Computed features for frame 700 of 1280 in 0.0727519989014"
       ]
      },
      {
       "output_type": "stream",
       "stream": "stdout",
       "text": [
        "\r",
        "Computed features for frame 701 of 1280 in 0.0734732151031"
       ]
      },
      {
       "output_type": "stream",
       "stream": "stdout",
       "text": [
        "\r",
        "Computed features for frame 702 of 1280 in 0.0739381313324"
       ]
      },
      {
       "output_type": "stream",
       "stream": "stdout",
       "text": [
        "\r",
        "Computed features for frame 703 of 1280 in 0.073292016983"
       ]
      },
      {
       "output_type": "stream",
       "stream": "stdout",
       "text": [
        "\r",
        "Computed features for frame 704 of 1280 in 0.0734879970551"
       ]
      },
      {
       "output_type": "stream",
       "stream": "stdout",
       "text": [
        "\r",
        "Computed features for frame 705 of 1280 in 0.0742678642273"
       ]
      },
      {
       "output_type": "stream",
       "stream": "stdout",
       "text": [
        "\r",
        "Computed features for frame 706 of 1280 in 0.0723888874054"
       ]
      },
      {
       "output_type": "stream",
       "stream": "stdout",
       "text": [
        "\r",
        "Computed features for frame 707 of 1280 in 0.072683095932"
       ]
      },
      {
       "output_type": "stream",
       "stream": "stdout",
       "text": [
        "\r",
        "Computed features for frame 708 of 1280 in 0.0726189613342"
       ]
      },
      {
       "output_type": "stream",
       "stream": "stdout",
       "text": [
        "\r",
        "Computed features for frame 709 of 1280 in 0.0720069408417"
       ]
      },
      {
       "output_type": "stream",
       "stream": "stdout",
       "text": [
        "\r",
        "Computed features for frame 710 of 1280 in 0.0735650062561"
       ]
      },
      {
       "output_type": "stream",
       "stream": "stdout",
       "text": [
        "\r",
        "Computed features for frame 711 of 1280 in 0.0728530883789"
       ]
      },
      {
       "output_type": "stream",
       "stream": "stdout",
       "text": [
        "\r",
        "Computed features for frame 712 of 1280 in 0.0726339817047"
       ]
      },
      {
       "output_type": "stream",
       "stream": "stdout",
       "text": [
        "\r",
        "Computed features for frame 713 of 1280 in 0.0756709575653"
       ]
      },
      {
       "output_type": "stream",
       "stream": "stdout",
       "text": [
        "\r",
        "Computed features for frame 714 of 1280 in 0.0877239704132"
       ]
      },
      {
       "output_type": "stream",
       "stream": "stdout",
       "text": [
        "\r",
        "Computed features for frame 715 of 1280 in 0.0762519836426"
       ]
      },
      {
       "output_type": "stream",
       "stream": "stdout",
       "text": [
        "\r",
        "Computed features for frame 716 of 1280 in 0.0812530517578"
       ]
      },
      {
       "output_type": "stream",
       "stream": "stdout",
       "text": [
        "\r",
        "Computed features for frame 717 of 1280 in 0.075432062149"
       ]
      },
      {
       "output_type": "stream",
       "stream": "stdout",
       "text": [
        "\r",
        "Computed features for frame 718 of 1280 in 0.0787270069122"
       ]
      },
      {
       "output_type": "stream",
       "stream": "stdout",
       "text": [
        "\r",
        "Computed features for frame 719 of 1280 in 0.0749011039734"
       ]
      },
      {
       "output_type": "stream",
       "stream": "stdout",
       "text": [
        "\r",
        "Computed features for frame 720 of 1280 in 0.0755839347839"
       ]
      },
      {
       "output_type": "stream",
       "stream": "stdout",
       "text": [
        "\r",
        "Computed features for frame 721 of 1280 in 0.0734047889709"
       ]
      },
      {
       "output_type": "stream",
       "stream": "stdout",
       "text": [
        "\r",
        "Computed features for frame 722 of 1280 in 0.0736260414124"
       ]
      },
      {
       "output_type": "stream",
       "stream": "stdout",
       "text": [
        "\r",
        "Computed features for frame 723 of 1280 in 0.0721080303192"
       ]
      },
      {
       "output_type": "stream",
       "stream": "stdout",
       "text": [
        "\r",
        "Computed features for frame 724 of 1280 in 0.0723729133606"
       ]
      },
      {
       "output_type": "stream",
       "stream": "stdout",
       "text": [
        "\r",
        "Computed features for frame 725 of 1280 in 0.0713169574738"
       ]
      },
      {
       "output_type": "stream",
       "stream": "stdout",
       "text": [
        "\r",
        "Computed features for frame 726 of 1280 in 0.071624994278"
       ]
      },
      {
       "output_type": "stream",
       "stream": "stdout",
       "text": [
        "\r",
        "Computed features for frame 727 of 1280 in 0.0732939243317"
       ]
      },
      {
       "output_type": "stream",
       "stream": "stdout",
       "text": [
        "\r",
        "Computed features for frame 728 of 1280 in 0.072438955307"
       ]
      },
      {
       "output_type": "stream",
       "stream": "stdout",
       "text": [
        "\r",
        "Computed features for frame 729 of 1280 in 0.0721700191498"
       ]
      },
      {
       "output_type": "stream",
       "stream": "stdout",
       "text": [
        "\r",
        "Computed features for frame 730 of 1280 in 0.07288813591"
       ]
      },
      {
       "output_type": "stream",
       "stream": "stdout",
       "text": [
        "\r",
        "Computed features for frame 731 of 1280 in 0.0722901821136"
       ]
      },
      {
       "output_type": "stream",
       "stream": "stdout",
       "text": [
        "\r",
        "Computed features for frame 732 of 1280 in 0.0722198486328"
       ]
      },
      {
       "output_type": "stream",
       "stream": "stdout",
       "text": [
        "\r",
        "Computed features for frame 733 of 1280 in 0.0728120803833"
       ]
      },
      {
       "output_type": "stream",
       "stream": "stdout",
       "text": [
        "\r",
        "Computed features for frame 734 of 1280 in 0.0738620758057"
       ]
      },
      {
       "output_type": "stream",
       "stream": "stdout",
       "text": [
        "\r",
        "Computed features for frame 735 of 1280 in 0.0735709667206"
       ]
      },
      {
       "output_type": "stream",
       "stream": "stdout",
       "text": [
        "\r",
        "Computed features for frame 736 of 1280 in 0.0710759162903"
       ]
      },
      {
       "output_type": "stream",
       "stream": "stdout",
       "text": [
        "\r",
        "Computed features for frame 737 of 1280 in 0.0737600326538"
       ]
      },
      {
       "output_type": "stream",
       "stream": "stdout",
       "text": [
        "\r",
        "Computed features for frame 738 of 1280 in 0.0708780288696"
       ]
      },
      {
       "output_type": "stream",
       "stream": "stdout",
       "text": [
        "\r",
        "Computed features for frame 739 of 1280 in 0.0739259719849"
       ]
      },
      {
       "output_type": "stream",
       "stream": "stdout",
       "text": [
        "\r",
        "Computed features for frame 740 of 1280 in 0.0723760128021"
       ]
      },
      {
       "output_type": "stream",
       "stream": "stdout",
       "text": [
        "\r",
        "Computed features for frame 741 of 1280 in 0.0723631381989"
       ]
      },
      {
       "output_type": "stream",
       "stream": "stdout",
       "text": [
        "\r",
        "Computed features for frame 742 of 1280 in 0.0826179981232"
       ]
      },
      {
       "output_type": "stream",
       "stream": "stdout",
       "text": [
        "\r",
        "Computed features for frame 743 of 1280 in 0.0868399143219"
       ]
      },
      {
       "output_type": "stream",
       "stream": "stdout",
       "text": [
        "\r",
        "Computed features for frame 744 of 1280 in 0.0719850063324"
       ]
      },
      {
       "output_type": "stream",
       "stream": "stdout",
       "text": [
        "\r",
        "Computed features for frame 745 of 1280 in 0.0722770690918"
       ]
      },
      {
       "output_type": "stream",
       "stream": "stdout",
       "text": [
        "\r",
        "Computed features for frame 746 of 1280 in 0.071515083313"
       ]
      },
      {
       "output_type": "stream",
       "stream": "stdout",
       "text": [
        "\r",
        "Computed features for frame 747 of 1280 in 0.0721309185028"
       ]
      },
      {
       "output_type": "stream",
       "stream": "stdout",
       "text": [
        "\r",
        "Computed features for frame 748 of 1280 in 0.0724790096283"
       ]
      },
      {
       "output_type": "stream",
       "stream": "stdout",
       "text": [
        "\r",
        "Computed features for frame 749 of 1280 in 0.0713770389557"
       ]
      },
      {
       "output_type": "stream",
       "stream": "stdout",
       "text": [
        "\r",
        "Computed features for frame 750 of 1280 in 0.074254989624"
       ]
      },
      {
       "output_type": "stream",
       "stream": "stdout",
       "text": [
        "\r",
        "Computed features for frame 751 of 1280 in 0.0732741355896"
       ]
      },
      {
       "output_type": "stream",
       "stream": "stdout",
       "text": [
        "\r",
        "Computed features for frame 752 of 1280 in 0.0729291439056"
       ]
      },
      {
       "output_type": "stream",
       "stream": "stdout",
       "text": [
        "\r",
        "Computed features for frame 753 of 1280 in 0.072361946106"
       ]
      },
      {
       "output_type": "stream",
       "stream": "stdout",
       "text": [
        "\r",
        "Computed features for frame 754 of 1280 in 0.0724799633026"
       ]
      },
      {
       "output_type": "stream",
       "stream": "stdout",
       "text": [
        "\r",
        "Computed features for frame 755 of 1280 in 0.073380947113"
       ]
      },
      {
       "output_type": "stream",
       "stream": "stdout",
       "text": [
        "\r",
        "Computed features for frame 756 of 1280 in 0.0740451812744"
       ]
      },
      {
       "output_type": "stream",
       "stream": "stdout",
       "text": [
        "\r",
        "Computed features for frame 757 of 1280 in 0.0731859207153"
       ]
      },
      {
       "output_type": "stream",
       "stream": "stdout",
       "text": [
        "\r",
        "Computed features for frame 758 of 1280 in 0.0727119445801"
       ]
      },
      {
       "output_type": "stream",
       "stream": "stdout",
       "text": [
        "\r",
        "Computed features for frame 759 of 1280 in 0.0714390277863"
       ]
      },
      {
       "output_type": "stream",
       "stream": "stdout",
       "text": [
        "\r",
        "Computed features for frame 760 of 1280 in 0.0730059146881"
       ]
      },
      {
       "output_type": "stream",
       "stream": "stdout",
       "text": [
        "\r",
        "Computed features for frame 761 of 1280 in 0.0714139938354"
       ]
      },
      {
       "output_type": "stream",
       "stream": "stdout",
       "text": [
        "\r",
        "Computed features for frame 762 of 1280 in 0.0711269378662"
       ]
      },
      {
       "output_type": "stream",
       "stream": "stdout",
       "text": [
        "\r",
        "Computed features for frame 763 of 1280 in 0.0721700191498"
       ]
      },
      {
       "output_type": "stream",
       "stream": "stdout",
       "text": [
        "\r",
        "Computed features for frame 764 of 1280 in 0.0738489627838"
       ]
      },
      {
       "output_type": "stream",
       "stream": "stdout",
       "text": [
        "\r",
        "Computed features for frame 765 of 1280 in 0.0736668109894"
       ]
      },
      {
       "output_type": "stream",
       "stream": "stdout",
       "text": [
        "\r",
        "Computed features for frame 766 of 1280 in 0.0714089870453"
       ]
      },
      {
       "output_type": "stream",
       "stream": "stdout",
       "text": [
        "\r",
        "Computed features for frame 767 of 1280 in 0.0703370571136"
       ]
      },
      {
       "output_type": "stream",
       "stream": "stdout",
       "text": [
        "\r",
        "Computed features for frame 768 of 1280 in 0.0747299194336"
       ]
      },
      {
       "output_type": "stream",
       "stream": "stdout",
       "text": [
        "\r",
        "Computed features for frame 769 of 1280 in 0.0734248161316"
       ]
      },
      {
       "output_type": "stream",
       "stream": "stdout",
       "text": [
        "\r",
        "Computed features for frame 770 of 1280 in 0.0731799602509"
       ]
      },
      {
       "output_type": "stream",
       "stream": "stdout",
       "text": [
        "\r",
        "Computed features for frame 771 of 1280 in 0.0729019641876"
       ]
      },
      {
       "output_type": "stream",
       "stream": "stdout",
       "text": [
        "\r",
        "Computed features for frame 772 of 1280 in 0.0709910392761"
       ]
      },
      {
       "output_type": "stream",
       "stream": "stdout",
       "text": [
        "\r",
        "Computed features for frame 773 of 1280 in 0.0714290142059"
       ]
      },
      {
       "output_type": "stream",
       "stream": "stdout",
       "text": [
        "\r",
        "Computed features for frame 774 of 1280 in 0.0717649459839"
       ]
      },
      {
       "output_type": "stream",
       "stream": "stdout",
       "text": [
        "\r",
        "Computed features for frame 775 of 1280 in 0.0716569423676"
       ]
      },
      {
       "output_type": "stream",
       "stream": "stdout",
       "text": [
        "\r",
        "Computed features for frame 776 of 1280 in 0.070955991745"
       ]
      },
      {
       "output_type": "stream",
       "stream": "stdout",
       "text": [
        "\r",
        "Computed features for frame 777 of 1280 in 0.0732181072235"
       ]
      },
      {
       "output_type": "stream",
       "stream": "stdout",
       "text": [
        "\r",
        "Computed features for frame 778 of 1280 in 0.0712659358978"
       ]
      },
      {
       "output_type": "stream",
       "stream": "stdout",
       "text": [
        "\r",
        "Computed features for frame 779 of 1280 in 0.0715129375458"
       ]
      },
      {
       "output_type": "stream",
       "stream": "stdout",
       "text": [
        "\r",
        "Computed features for frame 780 of 1280 in 0.0730957984924"
       ]
      },
      {
       "output_type": "stream",
       "stream": "stdout",
       "text": [
        "\r",
        "Computed features for frame 781 of 1280 in 0.0713739395142"
       ]
      },
      {
       "output_type": "stream",
       "stream": "stdout",
       "text": [
        "\r",
        "Computed features for frame 782 of 1280 in 0.0745310783386"
       ]
      },
      {
       "output_type": "stream",
       "stream": "stdout",
       "text": [
        "\r",
        "Computed features for frame 783 of 1280 in 0.0725951194763"
       ]
      },
      {
       "output_type": "stream",
       "stream": "stdout",
       "text": [
        "\r",
        "Computed features for frame 784 of 1280 in 0.0720369815826"
       ]
      },
      {
       "output_type": "stream",
       "stream": "stdout",
       "text": [
        "\r",
        "Computed features for frame 785 of 1280 in 0.0728240013123"
       ]
      },
      {
       "output_type": "stream",
       "stream": "stdout",
       "text": [
        "\r",
        "Computed features for frame 786 of 1280 in 0.0726118087769"
       ]
      },
      {
       "output_type": "stream",
       "stream": "stdout",
       "text": [
        "\r",
        "Computed features for frame 787 of 1280 in 0.0726900100708"
       ]
      },
      {
       "output_type": "stream",
       "stream": "stdout",
       "text": [
        "\r",
        "Computed features for frame 788 of 1280 in 0.0727939605713"
       ]
      },
      {
       "output_type": "stream",
       "stream": "stdout",
       "text": [
        "\r",
        "Computed features for frame 789 of 1280 in 0.071485042572"
       ]
      },
      {
       "output_type": "stream",
       "stream": "stdout",
       "text": [
        "\r",
        "Computed features for frame 790 of 1280 in 0.0772008895874"
       ]
      },
      {
       "output_type": "stream",
       "stream": "stdout",
       "text": [
        "\r",
        "Computed features for frame 791 of 1280 in 0.0761790275574"
       ]
      },
      {
       "output_type": "stream",
       "stream": "stdout",
       "text": [
        "\r",
        "Computed features for frame 792 of 1280 in 0.0710639953613"
       ]
      },
      {
       "output_type": "stream",
       "stream": "stdout",
       "text": [
        "\r",
        "Computed features for frame 793 of 1280 in 0.0718760490417"
       ]
      },
      {
       "output_type": "stream",
       "stream": "stdout",
       "text": [
        "\r",
        "Computed features for frame 794 of 1280 in 0.0729479789734"
       ]
      },
      {
       "output_type": "stream",
       "stream": "stdout",
       "text": [
        "\r",
        "Computed features for frame 795 of 1280 in 0.0727360248566"
       ]
      },
      {
       "output_type": "stream",
       "stream": "stdout",
       "text": [
        "\r",
        "Computed features for frame 796 of 1280 in 0.0736448764801"
       ]
      },
      {
       "output_type": "stream",
       "stream": "stdout",
       "text": [
        "\r",
        "Computed features for frame 797 of 1280 in 0.0715072154999"
       ]
      },
      {
       "output_type": "stream",
       "stream": "stdout",
       "text": [
        "\r",
        "Computed features for frame 798 of 1280 in 0.0727958679199"
       ]
      },
      {
       "output_type": "stream",
       "stream": "stdout",
       "text": [
        "\r",
        "Computed features for frame 799 of 1280 in 0.0717389583588"
       ]
      },
      {
       "output_type": "stream",
       "stream": "stdout",
       "text": [
        "\r",
        "Computed features for frame 800 of 1280 in 0.0717389583588"
       ]
      },
      {
       "output_type": "stream",
       "stream": "stdout",
       "text": [
        "\r",
        "Computed features for frame 801 of 1280 in 0.073734998703"
       ]
      },
      {
       "output_type": "stream",
       "stream": "stdout",
       "text": [
        "\r",
        "Computed features for frame 802 of 1280 in 0.0742630958557"
       ]
      },
      {
       "output_type": "stream",
       "stream": "stdout",
       "text": [
        "\r",
        "Computed features for frame 803 of 1280 in 0.0758469104767"
       ]
      },
      {
       "output_type": "stream",
       "stream": "stdout",
       "text": [
        "\r",
        "Computed features for frame 804 of 1280 in 0.0729699134827"
       ]
      },
      {
       "output_type": "stream",
       "stream": "stdout",
       "text": [
        "\r",
        "Computed features for frame 805 of 1280 in 0.073518037796"
       ]
      },
      {
       "output_type": "stream",
       "stream": "stdout",
       "text": [
        "\r",
        "Computed features for frame 806 of 1280 in 0.0713491439819"
       ]
      },
      {
       "output_type": "stream",
       "stream": "stdout",
       "text": [
        "\r",
        "Computed features for frame 807 of 1280 in 0.072252035141"
       ]
      },
      {
       "output_type": "stream",
       "stream": "stdout",
       "text": [
        "\r",
        "Computed features for frame 808 of 1280 in 0.0709590911865"
       ]
      },
      {
       "output_type": "stream",
       "stream": "stdout",
       "text": [
        "\r",
        "Computed features for frame 809 of 1280 in 0.0731852054596"
       ]
      },
      {
       "output_type": "stream",
       "stream": "stdout",
       "text": [
        "\r",
        "Computed features for frame 810 of 1280 in 0.0731880664825"
       ]
      },
      {
       "output_type": "stream",
       "stream": "stdout",
       "text": [
        "\r",
        "Computed features for frame 811 of 1280 in 0.0737488269806"
       ]
      },
      {
       "output_type": "stream",
       "stream": "stdout",
       "text": [
        "\r",
        "Computed features for frame 812 of 1280 in 0.0721309185028"
       ]
      },
      {
       "output_type": "stream",
       "stream": "stdout",
       "text": [
        "\r",
        "Computed features for frame 813 of 1280 in 0.0715839862823"
       ]
      },
      {
       "output_type": "stream",
       "stream": "stdout",
       "text": [
        "\r",
        "Computed features for frame 814 of 1280 in 0.0722558498383"
       ]
      },
      {
       "output_type": "stream",
       "stream": "stdout",
       "text": [
        "\r",
        "Computed features for frame 815 of 1280 in 0.0718839168549"
       ]
      },
      {
       "output_type": "stream",
       "stream": "stdout",
       "text": [
        "\r",
        "Computed features for frame 816 of 1280 in 0.0723080635071"
       ]
      },
      {
       "output_type": "stream",
       "stream": "stdout",
       "text": [
        "\r",
        "Computed features for frame 817 of 1280 in 0.0712840557098"
       ]
      },
      {
       "output_type": "stream",
       "stream": "stdout",
       "text": [
        "\r",
        "Computed features for frame 818 of 1280 in 0.0745961666107"
       ]
      },
      {
       "output_type": "stream",
       "stream": "stdout",
       "text": [
        "\r",
        "Computed features for frame 819 of 1280 in 0.0736150741577"
       ]
      },
      {
       "output_type": "stream",
       "stream": "stdout",
       "text": [
        "\r",
        "Computed features for frame 820 of 1280 in 0.0731809139252"
       ]
      },
      {
       "output_type": "stream",
       "stream": "stdout",
       "text": [
        "\r",
        "Computed features for frame 821 of 1280 in 0.0727558135986"
       ]
      },
      {
       "output_type": "stream",
       "stream": "stdout",
       "text": [
        "\r",
        "Computed features for frame 822 of 1280 in 0.0722298622131"
       ]
      },
      {
       "output_type": "stream",
       "stream": "stdout",
       "text": [
        "\r",
        "Computed features for frame 823 of 1280 in 0.0736100673676"
       ]
      },
      {
       "output_type": "stream",
       "stream": "stdout",
       "text": [
        "\r",
        "Computed features for frame 824 of 1280 in 0.0715420246124"
       ]
      },
      {
       "output_type": "stream",
       "stream": "stdout",
       "text": [
        "\r",
        "Computed features for frame 825 of 1280 in 0.0740571022034"
       ]
      },
      {
       "output_type": "stream",
       "stream": "stdout",
       "text": [
        "\r",
        "Computed features for frame 826 of 1280 in 0.0717220306396"
       ]
      },
      {
       "output_type": "stream",
       "stream": "stdout",
       "text": [
        "\r",
        "Computed features for frame 827 of 1280 in 0.0710010528564"
       ]
      },
      {
       "output_type": "stream",
       "stream": "stdout",
       "text": [
        "\r",
        "Computed features for frame 828 of 1280 in 0.0714302062988"
       ]
      },
      {
       "output_type": "stream",
       "stream": "stdout",
       "text": [
        "\r",
        "Computed features for frame 829 of 1280 in 0.0725858211517"
       ]
      },
      {
       "output_type": "stream",
       "stream": "stdout",
       "text": [
        "\r",
        "Computed features for frame 830 of 1280 in 0.0724589824677"
       ]
      },
      {
       "output_type": "stream",
       "stream": "stdout",
       "text": [
        "\r",
        "Computed features for frame 831 of 1280 in 0.0721998214722"
       ]
      },
      {
       "output_type": "stream",
       "stream": "stdout",
       "text": [
        "\r",
        "Computed features for frame 832 of 1280 in 0.072065114975"
       ]
      },
      {
       "output_type": "stream",
       "stream": "stdout",
       "text": [
        "\r",
        "Computed features for frame 833 of 1280 in 0.0729968547821"
       ]
      },
      {
       "output_type": "stream",
       "stream": "stdout",
       "text": [
        "\r",
        "Computed features for frame 834 of 1280 in 0.0743229389191"
       ]
      },
      {
       "output_type": "stream",
       "stream": "stdout",
       "text": [
        "\r",
        "Computed features for frame 835 of 1280 in 0.0736739635468"
       ]
      },
      {
       "output_type": "stream",
       "stream": "stdout",
       "text": [
        "\r",
        "Computed features for frame 836 of 1280 in 0.0734829902649"
       ]
      },
      {
       "output_type": "stream",
       "stream": "stdout",
       "text": [
        "\r",
        "Computed features for frame 837 of 1280 in 0.0721890926361"
       ]
      },
      {
       "output_type": "stream",
       "stream": "stdout",
       "text": [
        "\r",
        "Computed features for frame 838 of 1280 in 0.0734119415283"
       ]
      },
      {
       "output_type": "stream",
       "stream": "stdout",
       "text": [
        "\r",
        "Computed features for frame 839 of 1280 in 0.0785448551178"
       ]
      },
      {
       "output_type": "stream",
       "stream": "stdout",
       "text": [
        "\r",
        "Computed features for frame 840 of 1280 in 0.0755500793457"
       ]
      },
      {
       "output_type": "stream",
       "stream": "stdout",
       "text": [
        "\r",
        "Computed features for frame 841 of 1280 in 0.073399066925"
       ]
      },
      {
       "output_type": "stream",
       "stream": "stdout",
       "text": [
        "\r",
        "Computed features for frame 842 of 1280 in 0.0752370357513"
       ]
      },
      {
       "output_type": "stream",
       "stream": "stdout",
       "text": [
        "\r",
        "Computed features for frame 843 of 1280 in 0.0734660625458"
       ]
      },
      {
       "output_type": "stream",
       "stream": "stdout",
       "text": [
        "\r",
        "Computed features for frame 844 of 1280 in 0.0725860595703"
       ]
      },
      {
       "output_type": "stream",
       "stream": "stdout",
       "text": [
        "\r",
        "Computed features for frame 845 of 1280 in 0.0732839107513"
       ]
      },
      {
       "output_type": "stream",
       "stream": "stdout",
       "text": [
        "\r",
        "Computed features for frame 846 of 1280 in 0.0729169845581"
       ]
      },
      {
       "output_type": "stream",
       "stream": "stdout",
       "text": [
        "\r",
        "Computed features for frame 847 of 1280 in 0.0732400417328"
       ]
      },
      {
       "output_type": "stream",
       "stream": "stdout",
       "text": [
        "\r",
        "Computed features for frame 848 of 1280 in 0.0724980831146"
       ]
      },
      {
       "output_type": "stream",
       "stream": "stdout",
       "text": [
        "\r",
        "Computed features for frame 849 of 1280 in 0.0725848674774"
       ]
      },
      {
       "output_type": "stream",
       "stream": "stdout",
       "text": [
        "\r",
        "Computed features for frame 850 of 1280 in 0.072126865387"
       ]
      },
      {
       "output_type": "stream",
       "stream": "stdout",
       "text": [
        "\r",
        "Computed features for frame 851 of 1280 in 0.0727910995483"
       ]
      },
      {
       "output_type": "stream",
       "stream": "stdout",
       "text": [
        "\r",
        "Computed features for frame 852 of 1280 in 0.0729088783264"
       ]
      },
      {
       "output_type": "stream",
       "stream": "stdout",
       "text": [
        "\r",
        "Computed features for frame 853 of 1280 in 0.0733308792114"
       ]
      },
      {
       "output_type": "stream",
       "stream": "stdout",
       "text": [
        "\r",
        "Computed features for frame 854 of 1280 in 0.0739989280701"
       ]
      },
      {
       "output_type": "stream",
       "stream": "stdout",
       "text": [
        "\r",
        "Computed features for frame 855 of 1280 in 0.0813050270081"
       ]
      },
      {
       "output_type": "stream",
       "stream": "stdout",
       "text": [
        "\r",
        "Computed features for frame 856 of 1280 in 0.0805859565735"
       ]
      },
      {
       "output_type": "stream",
       "stream": "stdout",
       "text": [
        "\r",
        "Computed features for frame 857 of 1280 in 0.0732350349426"
       ]
      },
      {
       "output_type": "stream",
       "stream": "stdout",
       "text": [
        "\r",
        "Computed features for frame 858 of 1280 in 0.0729489326477"
       ]
      },
      {
       "output_type": "stream",
       "stream": "stdout",
       "text": [
        "\r",
        "Computed features for frame 859 of 1280 in 0.0722920894623"
       ]
      },
      {
       "output_type": "stream",
       "stream": "stdout",
       "text": [
        "\r",
        "Computed features for frame 860 of 1280 in 0.0769329071045"
       ]
      },
      {
       "output_type": "stream",
       "stream": "stdout",
       "text": [
        "\r",
        "Computed features for frame 861 of 1280 in 0.0742039680481"
       ]
      },
      {
       "output_type": "stream",
       "stream": "stdout",
       "text": [
        "\r",
        "Computed features for frame 862 of 1280 in 0.0725750923157"
       ]
      },
      {
       "output_type": "stream",
       "stream": "stdout",
       "text": [
        "\r",
        "Computed features for frame 863 of 1280 in 0.07306599617"
       ]
      },
      {
       "output_type": "stream",
       "stream": "stdout",
       "text": [
        "\r",
        "Computed features for frame 864 of 1280 in 0.0731489658356"
       ]
      },
      {
       "output_type": "stream",
       "stream": "stdout",
       "text": [
        "\r",
        "Computed features for frame 865 of 1280 in 0.0733449459076"
       ]
      },
      {
       "output_type": "stream",
       "stream": "stdout",
       "text": [
        "\r",
        "Computed features for frame 866 of 1280 in 0.0725810527802"
       ]
      },
      {
       "output_type": "stream",
       "stream": "stdout",
       "text": [
        "\r",
        "Computed features for frame 867 of 1280 in 0.0729761123657"
       ]
      },
      {
       "output_type": "stream",
       "stream": "stdout",
       "text": [
        "\r",
        "Computed features for frame 868 of 1280 in 0.0724370479584"
       ]
      },
      {
       "output_type": "stream",
       "stream": "stdout",
       "text": [
        "\r",
        "Computed features for frame 869 of 1280 in 0.0730278491974"
       ]
      },
      {
       "output_type": "stream",
       "stream": "stdout",
       "text": [
        "\r",
        "Computed features for frame 870 of 1280 in 0.0763070583344"
       ]
      },
      {
       "output_type": "stream",
       "stream": "stdout",
       "text": [
        "\r",
        "Computed features for frame 871 of 1280 in 0.0737419128418"
       ]
      },
      {
       "output_type": "stream",
       "stream": "stdout",
       "text": [
        "\r",
        "Computed features for frame 872 of 1280 in 0.0721118450165"
       ]
      },
      {
       "output_type": "stream",
       "stream": "stdout",
       "text": [
        "\r",
        "Computed features for frame 873 of 1280 in 0.0717091560364"
       ]
      },
      {
       "output_type": "stream",
       "stream": "stdout",
       "text": [
        "\r",
        "Computed features for frame 874 of 1280 in 0.0715811252594"
       ]
      },
      {
       "output_type": "stream",
       "stream": "stdout",
       "text": [
        "\r",
        "Computed features for frame 875 of 1280 in 0.0720591545105"
       ]
      },
      {
       "output_type": "stream",
       "stream": "stdout",
       "text": [
        "\r",
        "Computed features for frame 876 of 1280 in 0.0753791332245"
       ]
      },
      {
       "output_type": "stream",
       "stream": "stdout",
       "text": [
        "\r",
        "Computed features for frame 877 of 1280 in 0.0734968185425"
       ]
      },
      {
       "output_type": "stream",
       "stream": "stdout",
       "text": [
        "\r",
        "Computed features for frame 878 of 1280 in 0.0727801322937"
       ]
      },
      {
       "output_type": "stream",
       "stream": "stdout",
       "text": [
        "\r",
        "Computed features for frame 879 of 1280 in 0.0770039558411"
       ]
      },
      {
       "output_type": "stream",
       "stream": "stdout",
       "text": [
        "\r",
        "Computed features for frame 880 of 1280 in 0.0734190940857"
       ]
      },
      {
       "output_type": "stream",
       "stream": "stdout",
       "text": [
        "\r",
        "Computed features for frame 881 of 1280 in 0.0753479003906"
       ]
      },
      {
       "output_type": "stream",
       "stream": "stdout",
       "text": [
        "\r",
        "Computed features for frame 882 of 1280 in 0.071849822998"
       ]
      },
      {
       "output_type": "stream",
       "stream": "stdout",
       "text": [
        "\r",
        "Computed features for frame 883 of 1280 in 0.0711979866028"
       ]
      },
      {
       "output_type": "stream",
       "stream": "stdout",
       "text": [
        "\r",
        "Computed features for frame 884 of 1280 in 0.0715231895447"
       ]
      },
      {
       "output_type": "stream",
       "stream": "stdout",
       "text": [
        "\r",
        "Computed features for frame 885 of 1280 in 0.0726058483124"
       ]
      },
      {
       "output_type": "stream",
       "stream": "stdout",
       "text": [
        "\r",
        "Computed features for frame 886 of 1280 in 0.0846290588379"
       ]
      },
      {
       "output_type": "stream",
       "stream": "stdout",
       "text": [
        "\r",
        "Computed features for frame 887 of 1280 in 0.0912489891052"
       ]
      },
      {
       "output_type": "stream",
       "stream": "stdout",
       "text": [
        "\r",
        "Computed features for frame 888 of 1280 in 0.083683013916"
       ]
      },
      {
       "output_type": "stream",
       "stream": "stdout",
       "text": [
        "\r",
        "Computed features for frame 889 of 1280 in 0.0767879486084"
       ]
      },
      {
       "output_type": "stream",
       "stream": "stdout",
       "text": [
        "\r",
        "Computed features for frame 890 of 1280 in 0.0761730670929"
       ]
      },
      {
       "output_type": "stream",
       "stream": "stdout",
       "text": [
        "\r",
        "Computed features for frame 891 of 1280 in 0.0753130912781"
       ]
      },
      {
       "output_type": "stream",
       "stream": "stdout",
       "text": [
        "\r",
        "Computed features for frame 892 of 1280 in 0.0766079425812"
       ]
      },
      {
       "output_type": "stream",
       "stream": "stdout",
       "text": [
        "\r",
        "Computed features for frame 893 of 1280 in 0.073178768158"
       ]
      },
      {
       "output_type": "stream",
       "stream": "stdout",
       "text": [
        "\r",
        "Computed features for frame 894 of 1280 in 0.0729780197144"
       ]
      },
      {
       "output_type": "stream",
       "stream": "stdout",
       "text": [
        "\r",
        "Computed features for frame 895 of 1280 in 0.0727300643921"
       ]
      },
      {
       "output_type": "stream",
       "stream": "stdout",
       "text": [
        "\r",
        "Computed features for frame 896 of 1280 in 0.0723910331726"
       ]
      },
      {
       "output_type": "stream",
       "stream": "stdout",
       "text": [
        "\r",
        "Computed features for frame 897 of 1280 in 0.0738890171051"
       ]
      },
      {
       "output_type": "stream",
       "stream": "stdout",
       "text": [
        "\r",
        "Computed features for frame 898 of 1280 in 0.0775549411774"
       ]
      },
      {
       "output_type": "stream",
       "stream": "stdout",
       "text": [
        "\r",
        "Computed features for frame 899 of 1280 in 0.0747170448303"
       ]
      },
      {
       "output_type": "stream",
       "stream": "stdout",
       "text": [
        "\r",
        "Computed features for frame 900 of 1280 in 0.0765058994293"
       ]
      },
      {
       "output_type": "stream",
       "stream": "stdout",
       "text": [
        "\r",
        "Computed features for frame 901 of 1280 in 0.0725028514862"
       ]
      },
      {
       "output_type": "stream",
       "stream": "stdout",
       "text": [
        "\r",
        "Computed features for frame 902 of 1280 in 0.0731761455536"
       ]
      },
      {
       "output_type": "stream",
       "stream": "stdout",
       "text": [
        "\r",
        "Computed features for frame 903 of 1280 in 0.0766849517822"
       ]
      },
      {
       "output_type": "stream",
       "stream": "stdout",
       "text": [
        "\r",
        "Computed features for frame 904 of 1280 in 0.0721678733826"
       ]
      },
      {
       "output_type": "stream",
       "stream": "stdout",
       "text": [
        "\r",
        "Computed features for frame 905 of 1280 in 0.0801210403442"
       ]
      },
      {
       "output_type": "stream",
       "stream": "stdout",
       "text": [
        "\r",
        "Computed features for frame 906 of 1280 in 0.0752890110016"
       ]
      },
      {
       "output_type": "stream",
       "stream": "stdout",
       "text": [
        "\r",
        "Computed features for frame 907 of 1280 in 0.0721490383148"
       ]
      },
      {
       "output_type": "stream",
       "stream": "stdout",
       "text": [
        "\r",
        "Computed features for frame 908 of 1280 in 0.0705931186676"
       ]
      },
      {
       "output_type": "stream",
       "stream": "stdout",
       "text": [
        "\r",
        "Computed features for frame 909 of 1280 in 0.0725431442261"
       ]
      },
      {
       "output_type": "stream",
       "stream": "stdout",
       "text": [
        "\r",
        "Computed features for frame 910 of 1280 in 0.0703561306"
       ]
      },
      {
       "output_type": "stream",
       "stream": "stdout",
       "text": [
        "\r",
        "Computed features for frame 911 of 1280 in 0.0718159675598"
       ]
      },
      {
       "output_type": "stream",
       "stream": "stdout",
       "text": [
        "\r",
        "Computed features for frame 912 of 1280 in 0.0710527896881"
       ]
      },
      {
       "output_type": "stream",
       "stream": "stdout",
       "text": [
        "\r",
        "Computed features for frame 913 of 1280 in 0.0722501277924"
       ]
      },
      {
       "output_type": "stream",
       "stream": "stdout",
       "text": [
        "\r",
        "Computed features for frame 914 of 1280 in 0.0750420093536"
       ]
      },
      {
       "output_type": "stream",
       "stream": "stdout",
       "text": [
        "\r",
        "Computed features for frame 915 of 1280 in 0.075052022934"
       ]
      },
      {
       "output_type": "stream",
       "stream": "stdout",
       "text": [
        "\r",
        "Computed features for frame 916 of 1280 in 0.07639503479"
       ]
      },
      {
       "output_type": "stream",
       "stream": "stdout",
       "text": [
        "\r",
        "Computed features for frame 917 of 1280 in 0.0760951042175"
       ]
      },
      {
       "output_type": "stream",
       "stream": "stdout",
       "text": [
        "\r",
        "Computed features for frame 918 of 1280 in 0.0739738941193"
       ]
      },
      {
       "output_type": "stream",
       "stream": "stdout",
       "text": [
        "\r",
        "Computed features for frame 919 of 1280 in 0.0754311084747"
       ]
      },
      {
       "output_type": "stream",
       "stream": "stdout",
       "text": [
        "\r",
        "Computed features for frame 920 of 1280 in 0.0727031230927"
       ]
      },
      {
       "output_type": "stream",
       "stream": "stdout",
       "text": [
        "\r",
        "Computed features for frame 921 of 1280 in 0.0718920230865"
       ]
      },
      {
       "output_type": "stream",
       "stream": "stdout",
       "text": [
        "\r",
        "Computed features for frame 922 of 1280 in 0.0725769996643"
       ]
      },
      {
       "output_type": "stream",
       "stream": "stdout",
       "text": [
        "\r",
        "Computed features for frame 923 of 1280 in 0.0733940601349"
       ]
      },
      {
       "output_type": "stream",
       "stream": "stdout",
       "text": [
        "\r",
        "Computed features for frame 924 of 1280 in 0.0712041854858"
       ]
      },
      {
       "output_type": "stream",
       "stream": "stdout",
       "text": [
        "\r",
        "Computed features for frame 925 of 1280 in 0.0725200176239"
       ]
      },
      {
       "output_type": "stream",
       "stream": "stdout",
       "text": [
        "\r",
        "Computed features for frame 926 of 1280 in 0.0727880001068"
       ]
      },
      {
       "output_type": "stream",
       "stream": "stdout",
       "text": [
        "\r",
        "Computed features for frame 927 of 1280 in 0.0746450424194"
       ]
      },
      {
       "output_type": "stream",
       "stream": "stdout",
       "text": [
        "\r",
        "Computed features for frame 928 of 1280 in 0.0790660381317"
       ]
      },
      {
       "output_type": "stream",
       "stream": "stdout",
       "text": [
        "\r",
        "Computed features for frame 929 of 1280 in 0.0740559101105"
       ]
      },
      {
       "output_type": "stream",
       "stream": "stdout",
       "text": [
        "\r",
        "Computed features for frame 930 of 1280 in 0.0749099254608"
       ]
      },
      {
       "output_type": "stream",
       "stream": "stdout",
       "text": [
        "\r",
        "Computed features for frame 931 of 1280 in 0.0724141597748"
       ]
      },
      {
       "output_type": "stream",
       "stream": "stdout",
       "text": [
        "\r",
        "Computed features for frame 932 of 1280 in 0.0712690353394"
       ]
      },
      {
       "output_type": "stream",
       "stream": "stdout",
       "text": [
        "\r",
        "Computed features for frame 933 of 1280 in 0.0713701248169"
       ]
      },
      {
       "output_type": "stream",
       "stream": "stdout",
       "text": [
        "\r",
        "Computed features for frame 934 of 1280 in 0.0710837841034"
       ]
      },
      {
       "output_type": "stream",
       "stream": "stdout",
       "text": [
        "\r",
        "Computed features for frame 935 of 1280 in 0.0708079338074"
       ]
      },
      {
       "output_type": "stream",
       "stream": "stdout",
       "text": [
        "\r",
        "Computed features for frame 936 of 1280 in 0.0716121196747"
       ]
      },
      {
       "output_type": "stream",
       "stream": "stdout",
       "text": [
        "\r",
        "Computed features for frame 937 of 1280 in 0.0744030475616"
       ]
      },
      {
       "output_type": "stream",
       "stream": "stdout",
       "text": [
        "\r",
        "Computed features for frame 938 of 1280 in 0.071604013443"
       ]
      },
      {
       "output_type": "stream",
       "stream": "stdout",
       "text": [
        "\r",
        "Computed features for frame 939 of 1280 in 0.0721979141235"
       ]
      },
      {
       "output_type": "stream",
       "stream": "stdout",
       "text": [
        "\r",
        "Computed features for frame 940 of 1280 in 0.0722329616547"
       ]
      },
      {
       "output_type": "stream",
       "stream": "stdout",
       "text": [
        "\r",
        "Computed features for frame 941 of 1280 in 0.07777094841"
       ]
      },
      {
       "output_type": "stream",
       "stream": "stdout",
       "text": [
        "\r",
        "Computed features for frame 942 of 1280 in 0.0781259536743"
       ]
      },
      {
       "output_type": "stream",
       "stream": "stdout",
       "text": [
        "\r",
        "Computed features for frame 943 of 1280 in 0.0735471248627"
       ]
      },
      {
       "output_type": "stream",
       "stream": "stdout",
       "text": [
        "\r",
        "Computed features for frame 944 of 1280 in 0.0713098049164"
       ]
      },
      {
       "output_type": "stream",
       "stream": "stdout",
       "text": [
        "\r",
        "Computed features for frame 945 of 1280 in 0.0731828212738"
       ]
      },
      {
       "output_type": "stream",
       "stream": "stdout",
       "text": [
        "\r",
        "Computed features for frame 946 of 1280 in 0.0797069072723"
       ]
      },
      {
       "output_type": "stream",
       "stream": "stdout",
       "text": [
        "\r",
        "Computed features for frame 947 of 1280 in 0.0718779563904"
       ]
      },
      {
       "output_type": "stream",
       "stream": "stdout",
       "text": [
        "\r",
        "Computed features for frame 948 of 1280 in 0.0735950469971"
       ]
      },
      {
       "output_type": "stream",
       "stream": "stdout",
       "text": [
        "\r",
        "Computed features for frame 949 of 1280 in 0.0733630657196"
       ]
      },
      {
       "output_type": "stream",
       "stream": "stdout",
       "text": [
        "\r",
        "Computed features for frame 950 of 1280 in 0.0745480060577"
       ]
      },
      {
       "output_type": "stream",
       "stream": "stdout",
       "text": [
        "\r",
        "Computed features for frame 951 of 1280 in 0.0733120441437"
       ]
      },
      {
       "output_type": "stream",
       "stream": "stdout",
       "text": [
        "\r",
        "Computed features for frame 952 of 1280 in 0.0723087787628"
       ]
      },
      {
       "output_type": "stream",
       "stream": "stdout",
       "text": [
        "\r",
        "Computed features for frame 953 of 1280 in 0.0719950199127"
       ]
      },
      {
       "output_type": "stream",
       "stream": "stdout",
       "text": [
        "\r",
        "Computed features for frame 954 of 1280 in 0.0759799480438"
       ]
      },
      {
       "output_type": "stream",
       "stream": "stdout",
       "text": [
        "\r",
        "Computed features for frame 955 of 1280 in 0.0755140781403"
       ]
      },
      {
       "output_type": "stream",
       "stream": "stdout",
       "text": [
        "\r",
        "Computed features for frame 956 of 1280 in 0.074245929718"
       ]
      },
      {
       "output_type": "stream",
       "stream": "stdout",
       "text": [
        "\r",
        "Computed features for frame 957 of 1280 in 0.0739350318909"
       ]
      },
      {
       "output_type": "stream",
       "stream": "stdout",
       "text": [
        "\r",
        "Computed features for frame 958 of 1280 in 0.0729768276215"
       ]
      },
      {
       "output_type": "stream",
       "stream": "stdout",
       "text": [
        "\r",
        "Computed features for frame 959 of 1280 in 0.076385974884"
       ]
      },
      {
       "output_type": "stream",
       "stream": "stdout",
       "text": [
        "\r",
        "Computed features for frame 960 of 1280 in 0.0754890441895"
       ]
      },
      {
       "output_type": "stream",
       "stream": "stdout",
       "text": [
        "\r",
        "Computed features for frame 961 of 1280 in 0.0727429389954"
       ]
      },
      {
       "output_type": "stream",
       "stream": "stdout",
       "text": [
        "\r",
        "Computed features for frame 962 of 1280 in 0.0735931396484"
       ]
      },
      {
       "output_type": "stream",
       "stream": "stdout",
       "text": [
        "\r",
        "Computed features for frame 963 of 1280 in 0.076189994812"
       ]
      },
      {
       "output_type": "stream",
       "stream": "stdout",
       "text": [
        "\r",
        "Computed features for frame 964 of 1280 in 0.0759170055389"
       ]
      },
      {
       "output_type": "stream",
       "stream": "stdout",
       "text": [
        "\r",
        "Computed features for frame 965 of 1280 in 0.0740940570831"
       ]
      },
      {
       "output_type": "stream",
       "stream": "stdout",
       "text": [
        "\r",
        "Computed features for frame 966 of 1280 in 0.0731291770935"
       ]
      },
      {
       "output_type": "stream",
       "stream": "stdout",
       "text": [
        "\r",
        "Computed features for frame 967 of 1280 in 0.0740299224854"
       ]
      },
      {
       "output_type": "stream",
       "stream": "stdout",
       "text": [
        "\r",
        "Computed features for frame 968 of 1280 in 0.072546005249"
       ]
      },
      {
       "output_type": "stream",
       "stream": "stdout",
       "text": [
        "\r",
        "Computed features for frame 969 of 1280 in 0.0723669528961"
       ]
      },
      {
       "output_type": "stream",
       "stream": "stdout",
       "text": [
        "\r",
        "Computed features for frame 970 of 1280 in 0.0713529586792"
       ]
      },
      {
       "output_type": "stream",
       "stream": "stdout",
       "text": [
        "\r",
        "Computed features for frame 971 of 1280 in 0.0737509727478"
       ]
      },
      {
       "output_type": "stream",
       "stream": "stdout",
       "text": [
        "\r",
        "Computed features for frame 972 of 1280 in 0.075208902359"
       ]
      },
      {
       "output_type": "stream",
       "stream": "stdout",
       "text": [
        "\r",
        "Computed features for frame 973 of 1280 in 0.0758299827576"
       ]
      },
      {
       "output_type": "stream",
       "stream": "stdout",
       "text": [
        "\r",
        "Computed features for frame 974 of 1280 in 0.0831971168518"
       ]
      },
      {
       "output_type": "stream",
       "stream": "stdout",
       "text": [
        "\r",
        "Computed features for frame 975 of 1280 in 0.0746099948883"
       ]
      },
      {
       "output_type": "stream",
       "stream": "stdout",
       "text": [
        "\r",
        "Computed features for frame 976 of 1280 in 0.0743460655212"
       ]
      },
      {
       "output_type": "stream",
       "stream": "stdout",
       "text": [
        "\r",
        "Computed features for frame 977 of 1280 in 0.0750241279602"
       ]
      },
      {
       "output_type": "stream",
       "stream": "stdout",
       "text": [
        "\r",
        "Computed features for frame 978 of 1280 in 0.0736010074615"
       ]
      },
      {
       "output_type": "stream",
       "stream": "stdout",
       "text": [
        "\r",
        "Computed features for frame 979 of 1280 in 0.0735669136047"
       ]
      },
      {
       "output_type": "stream",
       "stream": "stdout",
       "text": [
        "\r",
        "Computed features for frame 980 of 1280 in 0.0742378234863"
       ]
      },
      {
       "output_type": "stream",
       "stream": "stdout",
       "text": [
        "\r",
        "Computed features for frame 981 of 1280 in 0.0737249851227"
       ]
      },
      {
       "output_type": "stream",
       "stream": "stdout",
       "text": [
        "\r",
        "Computed features for frame 982 of 1280 in 0.0892951488495"
       ]
      },
      {
       "output_type": "stream",
       "stream": "stdout",
       "text": [
        "\r",
        "Computed features for frame 983 of 1280 in 0.0818450450897"
       ]
      },
      {
       "output_type": "stream",
       "stream": "stdout",
       "text": [
        "\r",
        "Computed features for frame 984 of 1280 in 0.0757110118866"
       ]
      },
      {
       "output_type": "stream",
       "stream": "stdout",
       "text": [
        "\r",
        "Computed features for frame 985 of 1280 in 0.0788700580597"
       ]
      },
      {
       "output_type": "stream",
       "stream": "stdout",
       "text": [
        "\r",
        "Computed features for frame 986 of 1280 in 0.0807797908783"
       ]
      },
      {
       "output_type": "stream",
       "stream": "stdout",
       "text": [
        "\r",
        "Computed features for frame 987 of 1280 in 0.0787408351898"
       ]
      },
      {
       "output_type": "stream",
       "stream": "stdout",
       "text": [
        "\r",
        "Computed features for frame 988 of 1280 in 0.0722720623016"
       ]
      },
      {
       "output_type": "stream",
       "stream": "stdout",
       "text": [
        "\r",
        "Computed features for frame 989 of 1280 in 0.0800650119781"
       ]
      },
      {
       "output_type": "stream",
       "stream": "stdout",
       "text": [
        "\r",
        "Computed features for frame 990 of 1280 in 0.0807390213013"
       ]
      },
      {
       "output_type": "stream",
       "stream": "stdout",
       "text": [
        "\r",
        "Computed features for frame 991 of 1280 in 0.0879580974579"
       ]
      },
      {
       "output_type": "stream",
       "stream": "stdout",
       "text": [
        "\r",
        "Computed features for frame 992 of 1280 in 0.0884640216827"
       ]
      },
      {
       "output_type": "stream",
       "stream": "stdout",
       "text": [
        "\r",
        "Computed features for frame 993 of 1280 in 0.0855629444122"
       ]
      },
      {
       "output_type": "stream",
       "stream": "stdout",
       "text": [
        "\r",
        "Computed features for frame 994 of 1280 in 0.0813200473785"
       ]
      },
      {
       "output_type": "stream",
       "stream": "stdout",
       "text": [
        "\r",
        "Computed features for frame 995 of 1280 in 0.0791728496552"
       ]
      },
      {
       "output_type": "stream",
       "stream": "stdout",
       "text": [
        "\r",
        "Computed features for frame 996 of 1280 in 0.0766539573669"
       ]
      },
      {
       "output_type": "stream",
       "stream": "stdout",
       "text": [
        "\r",
        "Computed features for frame 997 of 1280 in 0.0765459537506"
       ]
      },
      {
       "output_type": "stream",
       "stream": "stdout",
       "text": [
        "\r",
        "Computed features for frame 998 of 1280 in 0.078400850296"
       ]
      },
      {
       "output_type": "stream",
       "stream": "stdout",
       "text": [
        "\r",
        "Computed features for frame 999 of 1280 in 0.0776507854462"
       ]
      },
      {
       "output_type": "stream",
       "stream": "stdout",
       "text": [
        "\r",
        "Computed features for frame 1000 of 1280 in 0.0779271125793"
       ]
      },
      {
       "output_type": "stream",
       "stream": "stdout",
       "text": [
        "\r",
        "Computed features for frame 1001 of 1280 in 0.0764920711517"
       ]
      },
      {
       "output_type": "stream",
       "stream": "stdout",
       "text": [
        "\r",
        "Computed features for frame 1002 of 1280 in 0.0809359550476"
       ]
      },
      {
       "output_type": "stream",
       "stream": "stdout",
       "text": [
        "\r",
        "Computed features for frame 1003 of 1280 in 0.0756371021271"
       ]
      },
      {
       "output_type": "stream",
       "stream": "stdout",
       "text": [
        "\r",
        "Computed features for frame 1004 of 1280 in 0.0774269104004"
       ]
      },
      {
       "output_type": "stream",
       "stream": "stdout",
       "text": [
        "\r",
        "Computed features for frame 1005 of 1280 in 0.0819599628448"
       ]
      },
      {
       "output_type": "stream",
       "stream": "stdout",
       "text": [
        "\r",
        "Computed features for frame 1006 of 1280 in 0.0760838985443"
       ]
      },
      {
       "output_type": "stream",
       "stream": "stdout",
       "text": [
        "\r",
        "Computed features for frame 1007 of 1280 in 0.0766761302948"
       ]
      },
      {
       "output_type": "stream",
       "stream": "stdout",
       "text": [
        "\r",
        "Computed features for frame 1008 of 1280 in 0.0760509967804"
       ]
      },
      {
       "output_type": "stream",
       "stream": "stdout",
       "text": [
        "\r",
        "Computed features for frame 1009 of 1280 in 0.0772330760956"
       ]
      },
      {
       "output_type": "stream",
       "stream": "stdout",
       "text": [
        "\r",
        "Computed features for frame 1010 of 1280 in 0.0800650119781"
       ]
      },
      {
       "output_type": "stream",
       "stream": "stdout",
       "text": [
        "\r",
        "Computed features for frame 1011 of 1280 in 0.0757689476013"
       ]
      },
      {
       "output_type": "stream",
       "stream": "stdout",
       "text": [
        "\r",
        "Computed features for frame 1012 of 1280 in 0.0864779949188"
       ]
      },
      {
       "output_type": "stream",
       "stream": "stdout",
       "text": [
        "\r",
        "Computed features for frame 1013 of 1280 in 0.0754590034485"
       ]
      },
      {
       "output_type": "stream",
       "stream": "stdout",
       "text": [
        "\r",
        "Computed features for frame 1014 of 1280 in 0.0755820274353"
       ]
      },
      {
       "output_type": "stream",
       "stream": "stdout",
       "text": [
        "\r",
        "Computed features for frame 1015 of 1280 in 0.0788760185242"
       ]
      },
      {
       "output_type": "stream",
       "stream": "stdout",
       "text": [
        "\r",
        "Computed features for frame 1016 of 1280 in 0.0743861198425"
       ]
      },
      {
       "output_type": "stream",
       "stream": "stdout",
       "text": [
        "\r",
        "Computed features for frame 1017 of 1280 in 0.0765340328217"
       ]
      },
      {
       "output_type": "stream",
       "stream": "stdout",
       "text": [
        "\r",
        "Computed features for frame 1018 of 1280 in 0.0766339302063"
       ]
      },
      {
       "output_type": "stream",
       "stream": "stdout",
       "text": [
        "\r",
        "Computed features for frame 1019 of 1280 in 0.076033115387"
       ]
      },
      {
       "output_type": "stream",
       "stream": "stdout",
       "text": [
        "\r",
        "Computed features for frame 1020 of 1280 in 0.0828831195831"
       ]
      },
      {
       "output_type": "stream",
       "stream": "stdout",
       "text": [
        "\r",
        "Computed features for frame 1021 of 1280 in 0.0771019458771"
       ]
      },
      {
       "output_type": "stream",
       "stream": "stdout",
       "text": [
        "\r",
        "Computed features for frame 1022 of 1280 in 0.076103925705"
       ]
      },
      {
       "output_type": "stream",
       "stream": "stdout",
       "text": [
        "\r",
        "Computed features for frame 1023 of 1280 in 0.0823268890381"
       ]
      },
      {
       "output_type": "stream",
       "stream": "stdout",
       "text": [
        "\r",
        "Computed features for frame 1024 of 1280 in 0.078871011734"
       ]
      },
      {
       "output_type": "stream",
       "stream": "stdout",
       "text": [
        "\r",
        "Computed features for frame 1025 of 1280 in 0.0760571956635"
       ]
      },
      {
       "output_type": "stream",
       "stream": "stdout",
       "text": [
        "\r",
        "Computed features for frame 1026 of 1280 in 0.0792088508606"
       ]
      },
      {
       "output_type": "stream",
       "stream": "stdout",
       "text": [
        "\r",
        "Computed features for frame 1027 of 1280 in 0.079549074173"
       ]
      },
      {
       "output_type": "stream",
       "stream": "stdout",
       "text": [
        "\r",
        "Computed features for frame 1028 of 1280 in 0.0762500762939"
       ]
      },
      {
       "output_type": "stream",
       "stream": "stdout",
       "text": [
        "\r",
        "Computed features for frame 1029 of 1280 in 0.0794439315796"
       ]
      },
      {
       "output_type": "stream",
       "stream": "stdout",
       "text": [
        "\r",
        "Computed features for frame 1030 of 1280 in 0.0768480300903"
       ]
      },
      {
       "output_type": "stream",
       "stream": "stdout",
       "text": [
        "\r",
        "Computed features for frame 1031 of 1280 in 0.076336145401"
       ]
      },
      {
       "output_type": "stream",
       "stream": "stdout",
       "text": [
        "\r",
        "Computed features for frame 1032 of 1280 in 0.0760221481323"
       ]
      },
      {
       "output_type": "stream",
       "stream": "stdout",
       "text": [
        "\r",
        "Computed features for frame 1033 of 1280 in 0.0823938846588"
       ]
      },
      {
       "output_type": "stream",
       "stream": "stdout",
       "text": [
        "\r",
        "Computed features for frame 1034 of 1280 in 0.0750830173492"
       ]
      },
      {
       "output_type": "stream",
       "stream": "stdout",
       "text": [
        "\r",
        "Computed features for frame 1035 of 1280 in 0.0773029327393"
       ]
      },
      {
       "output_type": "stream",
       "stream": "stdout",
       "text": [
        "\r",
        "Computed features for frame 1036 of 1280 in 0.0774619579315"
       ]
      },
      {
       "output_type": "stream",
       "stream": "stdout",
       "text": [
        "\r",
        "Computed features for frame 1037 of 1280 in 0.0766508579254"
       ]
      },
      {
       "output_type": "stream",
       "stream": "stdout",
       "text": [
        "\r",
        "Computed features for frame 1038 of 1280 in 0.0742981433868"
       ]
      },
      {
       "output_type": "stream",
       "stream": "stdout",
       "text": [
        "\r",
        "Computed features for frame 1039 of 1280 in 0.0758600234985"
       ]
      },
      {
       "output_type": "stream",
       "stream": "stdout",
       "text": [
        "\r",
        "Computed features for frame 1040 of 1280 in 0.0773119926453"
       ]
      },
      {
       "output_type": "stream",
       "stream": "stdout",
       "text": [
        "\r",
        "Computed features for frame 1041 of 1280 in 0.0751070976257"
       ]
      },
      {
       "output_type": "stream",
       "stream": "stdout",
       "text": [
        "\r",
        "Computed features for frame 1042 of 1280 in 0.0758481025696"
       ]
      },
      {
       "output_type": "stream",
       "stream": "stdout",
       "text": [
        "\r",
        "Computed features for frame 1043 of 1280 in 0.0805599689484"
       ]
      },
      {
       "output_type": "stream",
       "stream": "stdout",
       "text": [
        "\r",
        "Computed features for frame 1044 of 1280 in 0.0756709575653"
       ]
      },
      {
       "output_type": "stream",
       "stream": "stdout",
       "text": [
        "\r",
        "Computed features for frame 1045 of 1280 in 0.0779049396515"
       ]
      },
      {
       "output_type": "stream",
       "stream": "stdout",
       "text": [
        "\r",
        "Computed features for frame 1046 of 1280 in 0.0763139724731"
       ]
      },
      {
       "output_type": "stream",
       "stream": "stdout",
       "text": [
        "\r",
        "Computed features for frame 1047 of 1280 in 0.0750000476837"
       ]
      },
      {
       "output_type": "stream",
       "stream": "stdout",
       "text": [
        "\r",
        "Computed features for frame 1048 of 1280 in 0.0743350982666"
       ]
      },
      {
       "output_type": "stream",
       "stream": "stdout",
       "text": [
        "\r",
        "Computed features for frame 1049 of 1280 in 0.0745079517365"
       ]
      },
      {
       "output_type": "stream",
       "stream": "stdout",
       "text": [
        "\r",
        "Computed features for frame 1050 of 1280 in 0.0767781734467"
       ]
      },
      {
       "output_type": "stream",
       "stream": "stdout",
       "text": [
        "\r",
        "Computed features for frame 1051 of 1280 in 0.074383020401"
       ]
      },
      {
       "output_type": "stream",
       "stream": "stdout",
       "text": [
        "\r",
        "Computed features for frame 1052 of 1280 in 0.073930978775"
       ]
      },
      {
       "output_type": "stream",
       "stream": "stdout",
       "text": [
        "\r",
        "Computed features for frame 1053 of 1280 in 0.073086977005"
       ]
      },
      {
       "output_type": "stream",
       "stream": "stdout",
       "text": [
        "\r",
        "Computed features for frame 1054 of 1280 in 0.0717439651489"
       ]
      },
      {
       "output_type": "stream",
       "stream": "stdout",
       "text": [
        "\r",
        "Computed features for frame 1055 of 1280 in 0.0716109275818"
       ]
      },
      {
       "output_type": "stream",
       "stream": "stdout",
       "text": [
        "\r",
        "Computed features for frame 1056 of 1280 in 0.0724060535431"
       ]
      },
      {
       "output_type": "stream",
       "stream": "stdout",
       "text": [
        "\r",
        "Computed features for frame 1057 of 1280 in 0.079733133316"
       ]
      },
      {
       "output_type": "stream",
       "stream": "stdout",
       "text": [
        "\r",
        "Computed features for frame 1058 of 1280 in 0.0778691768646"
       ]
      },
      {
       "output_type": "stream",
       "stream": "stdout",
       "text": [
        "\r",
        "Computed features for frame 1059 of 1280 in 0.0783441066742"
       ]
      },
      {
       "output_type": "stream",
       "stream": "stdout",
       "text": [
        "\r",
        "Computed features for frame 1060 of 1280 in 0.0745840072632"
       ]
      },
      {
       "output_type": "stream",
       "stream": "stdout",
       "text": [
        "\r",
        "Computed features for frame 1061 of 1280 in 0.0720031261444"
       ]
      },
      {
       "output_type": "stream",
       "stream": "stdout",
       "text": [
        "\r",
        "Computed features for frame 1062 of 1280 in 0.0765249729156"
       ]
      },
      {
       "output_type": "stream",
       "stream": "stdout",
       "text": [
        "\r",
        "Computed features for frame 1063 of 1280 in 0.0742008686066"
       ]
      },
      {
       "output_type": "stream",
       "stream": "stdout",
       "text": [
        "\r",
        "Computed features for frame 1064 of 1280 in 0.0755751132965"
       ]
      },
      {
       "output_type": "stream",
       "stream": "stdout",
       "text": [
        "\r",
        "Computed features for frame 1065 of 1280 in 0.0763869285583"
       ]
      },
      {
       "output_type": "stream",
       "stream": "stdout",
       "text": [
        "\r",
        "Computed features for frame 1066 of 1280 in 0.0727319717407"
       ]
      },
      {
       "output_type": "stream",
       "stream": "stdout",
       "text": [
        "\r",
        "Computed features for frame 1067 of 1280 in 0.0716609954834"
       ]
      },
      {
       "output_type": "stream",
       "stream": "stdout",
       "text": [
        "\r",
        "Computed features for frame 1068 of 1280 in 0.0790710449219"
       ]
      },
      {
       "output_type": "stream",
       "stream": "stdout",
       "text": [
        "\r",
        "Computed features for frame 1069 of 1280 in 0.0817770957947"
       ]
      },
      {
       "output_type": "stream",
       "stream": "stdout",
       "text": [
        "\r",
        "Computed features for frame 1070 of 1280 in 0.0783710479736"
       ]
      },
      {
       "output_type": "stream",
       "stream": "stdout",
       "text": [
        "\r",
        "Computed features for frame 1071 of 1280 in 0.0729598999023"
       ]
      },
      {
       "output_type": "stream",
       "stream": "stdout",
       "text": [
        "\r",
        "Computed features for frame 1072 of 1280 in 0.0756099224091"
       ]
      },
      {
       "output_type": "stream",
       "stream": "stdout",
       "text": [
        "\r",
        "Computed features for frame 1073 of 1280 in 0.0758879184723"
       ]
      },
      {
       "output_type": "stream",
       "stream": "stdout",
       "text": [
        "\r",
        "Computed features for frame 1074 of 1280 in 0.0726609230042"
       ]
      },
      {
       "output_type": "stream",
       "stream": "stdout",
       "text": [
        "\r",
        "Computed features for frame 1075 of 1280 in 0.0758280754089"
       ]
      },
      {
       "output_type": "stream",
       "stream": "stdout",
       "text": [
        "\r",
        "Computed features for frame 1076 of 1280 in 0.0765371322632"
       ]
      },
      {
       "output_type": "stream",
       "stream": "stdout",
       "text": [
        "\r",
        "Computed features for frame 1077 of 1280 in 0.0744099617004"
       ]
      },
      {
       "output_type": "stream",
       "stream": "stdout",
       "text": [
        "\r",
        "Computed features for frame 1078 of 1280 in 0.073627948761"
       ]
      },
      {
       "output_type": "stream",
       "stream": "stdout",
       "text": [
        "\r",
        "Computed features for frame 1079 of 1280 in 0.0721650123596"
       ]
      },
      {
       "output_type": "stream",
       "stream": "stdout",
       "text": [
        "\r",
        "Computed features for frame 1080 of 1280 in 0.0776109695435"
       ]
      },
      {
       "output_type": "stream",
       "stream": "stdout",
       "text": [
        "\r",
        "Computed features for frame 1081 of 1280 in 0.0729880332947"
       ]
      },
      {
       "output_type": "stream",
       "stream": "stdout",
       "text": [
        "\r",
        "Computed features for frame 1082 of 1280 in 0.072065114975"
       ]
      },
      {
       "output_type": "stream",
       "stream": "stdout",
       "text": [
        "\r",
        "Computed features for frame 1083 of 1280 in 0.0728809833527"
       ]
      },
      {
       "output_type": "stream",
       "stream": "stdout",
       "text": [
        "\r",
        "Computed features for frame 1084 of 1280 in 0.0731530189514"
       ]
      },
      {
       "output_type": "stream",
       "stream": "stdout",
       "text": [
        "\r",
        "Computed features for frame 1085 of 1280 in 0.0729808807373"
       ]
      },
      {
       "output_type": "stream",
       "stream": "stdout",
       "text": [
        "\r",
        "Computed features for frame 1086 of 1280 in 0.0731971263885"
       ]
      },
      {
       "output_type": "stream",
       "stream": "stdout",
       "text": [
        "\r",
        "Computed features for frame 1087 of 1280 in 0.0738930702209"
       ]
      },
      {
       "output_type": "stream",
       "stream": "stdout",
       "text": [
        "\r",
        "Computed features for frame 1088 of 1280 in 0.0758948326111"
       ]
      },
      {
       "output_type": "stream",
       "stream": "stdout",
       "text": [
        "\r",
        "Computed features for frame 1089 of 1280 in 0.0740230083466"
       ]
      },
      {
       "output_type": "stream",
       "stream": "stdout",
       "text": [
        "\r",
        "Computed features for frame 1090 of 1280 in 0.0727670192719"
       ]
      },
      {
       "output_type": "stream",
       "stream": "stdout",
       "text": [
        "\r",
        "Computed features for frame 1091 of 1280 in 0.0750710964203"
       ]
      },
      {
       "output_type": "stream",
       "stream": "stdout",
       "text": [
        "\r",
        "Computed features for frame 1092 of 1280 in 0.0730719566345"
       ]
      },
      {
       "output_type": "stream",
       "stream": "stdout",
       "text": [
        "\r",
        "Computed features for frame 1093 of 1280 in 0.0728249549866"
       ]
      },
      {
       "output_type": "stream",
       "stream": "stdout",
       "text": [
        "\r",
        "Computed features for frame 1094 of 1280 in 0.0727481842041"
       ]
      },
      {
       "output_type": "stream",
       "stream": "stdout",
       "text": [
        "\r",
        "Computed features for frame 1095 of 1280 in 0.074648141861"
       ]
      },
      {
       "output_type": "stream",
       "stream": "stdout",
       "text": [
        "\r",
        "Computed features for frame 1096 of 1280 in 0.0723049640656"
       ]
      },
      {
       "output_type": "stream",
       "stream": "stdout",
       "text": [
        "\r",
        "Computed features for frame 1097 of 1280 in 0.0768208503723"
       ]
      },
      {
       "output_type": "stream",
       "stream": "stdout",
       "text": [
        "\r",
        "Computed features for frame 1098 of 1280 in 0.0723340511322"
       ]
      },
      {
       "output_type": "stream",
       "stream": "stdout",
       "text": [
        "\r",
        "Computed features for frame 1099 of 1280 in 0.0719699859619"
       ]
      },
      {
       "output_type": "stream",
       "stream": "stdout",
       "text": [
        "\r",
        "Computed features for frame 1100 of 1280 in 0.0734889507294"
       ]
      },
      {
       "output_type": "stream",
       "stream": "stdout",
       "text": [
        "\r",
        "Computed features for frame 1101 of 1280 in 0.0762979984283"
       ]
      },
      {
       "output_type": "stream",
       "stream": "stdout",
       "text": [
        "\r",
        "Computed features for frame 1102 of 1280 in 0.0763680934906"
       ]
      },
      {
       "output_type": "stream",
       "stream": "stdout",
       "text": [
        "\r",
        "Computed features for frame 1103 of 1280 in 0.0734369754791"
       ]
      },
      {
       "output_type": "stream",
       "stream": "stdout",
       "text": [
        "\r",
        "Computed features for frame 1104 of 1280 in 0.0771269798279"
       ]
      },
      {
       "output_type": "stream",
       "stream": "stdout",
       "text": [
        "\r",
        "Computed features for frame 1105 of 1280 in 0.0779299736023"
       ]
      },
      {
       "output_type": "stream",
       "stream": "stdout",
       "text": [
        "\r",
        "Computed features for frame 1106 of 1280 in 0.0725510120392"
       ]
      },
      {
       "output_type": "stream",
       "stream": "stdout",
       "text": [
        "\r",
        "Computed features for frame 1107 of 1280 in 0.0731198787689"
       ]
      },
      {
       "output_type": "stream",
       "stream": "stdout",
       "text": [
        "\r",
        "Computed features for frame 1108 of 1280 in 0.0733499526978"
       ]
      },
      {
       "output_type": "stream",
       "stream": "stdout",
       "text": [
        "\r",
        "Computed features for frame 1109 of 1280 in 0.073655128479"
       ]
      },
      {
       "output_type": "stream",
       "stream": "stdout",
       "text": [
        "\r",
        "Computed features for frame 1110 of 1280 in 0.0740389823914"
       ]
      },
      {
       "output_type": "stream",
       "stream": "stdout",
       "text": [
        "\r",
        "Computed features for frame 1111 of 1280 in 0.0726158618927"
       ]
      },
      {
       "output_type": "stream",
       "stream": "stdout",
       "text": [
        "\r",
        "Computed features for frame 1112 of 1280 in 0.075385093689"
       ]
      },
      {
       "output_type": "stream",
       "stream": "stdout",
       "text": [
        "\r",
        "Computed features for frame 1113 of 1280 in 0.0753061771393"
       ]
      },
      {
       "output_type": "stream",
       "stream": "stdout",
       "text": [
        "\r",
        "Computed features for frame 1114 of 1280 in 0.0733711719513"
       ]
      },
      {
       "output_type": "stream",
       "stream": "stdout",
       "text": [
        "\r",
        "Computed features for frame 1115 of 1280 in 0.0733261108398"
       ]
      },
      {
       "output_type": "stream",
       "stream": "stdout",
       "text": [
        "\r",
        "Computed features for frame 1116 of 1280 in 0.0720591545105"
       ]
      },
      {
       "output_type": "stream",
       "stream": "stdout",
       "text": [
        "\r",
        "Computed features for frame 1117 of 1280 in 0.0731139183044"
       ]
      },
      {
       "output_type": "stream",
       "stream": "stdout",
       "text": [
        "\r",
        "Computed features for frame 1118 of 1280 in 0.0758929252625"
       ]
      },
      {
       "output_type": "stream",
       "stream": "stdout",
       "text": [
        "\r",
        "Computed features for frame 1119 of 1280 in 0.0737249851227"
       ]
      },
      {
       "output_type": "stream",
       "stream": "stdout",
       "text": [
        "\r",
        "Computed features for frame 1120 of 1280 in 0.0730459690094"
       ]
      },
      {
       "output_type": "stream",
       "stream": "stdout",
       "text": [
        "\r",
        "Computed features for frame 1121 of 1280 in 0.0748071670532"
       ]
      },
      {
       "output_type": "stream",
       "stream": "stdout",
       "text": [
        "\r",
        "Computed features for frame 1122 of 1280 in 0.0738620758057"
       ]
      },
      {
       "output_type": "stream",
       "stream": "stdout",
       "text": [
        "\r",
        "Computed features for frame 1123 of 1280 in 0.0725359916687"
       ]
      },
      {
       "output_type": "stream",
       "stream": "stdout",
       "text": [
        "\r",
        "Computed features for frame 1124 of 1280 in 0.0729320049286"
       ]
      },
      {
       "output_type": "stream",
       "stream": "stdout",
       "text": [
        "\r",
        "Computed features for frame 1125 of 1280 in 0.0738179683685"
       ]
      },
      {
       "output_type": "stream",
       "stream": "stdout",
       "text": [
        "\r",
        "Computed features for frame 1126 of 1280 in 0.0732579231262"
       ]
      },
      {
       "output_type": "stream",
       "stream": "stdout",
       "text": [
        "\r",
        "Computed features for frame 1127 of 1280 in 0.0739147663116"
       ]
      },
      {
       "output_type": "stream",
       "stream": "stdout",
       "text": [
        "\r",
        "Computed features for frame 1128 of 1280 in 0.0730130672455"
       ]
      },
      {
       "output_type": "stream",
       "stream": "stdout",
       "text": [
        "\r",
        "Computed features for frame 1129 of 1280 in 0.0732409954071"
       ]
      },
      {
       "output_type": "stream",
       "stream": "stdout",
       "text": [
        "\r",
        "Computed features for frame 1130 of 1280 in 0.0735430717468"
       ]
      },
      {
       "output_type": "stream",
       "stream": "stdout",
       "text": [
        "\r",
        "Computed features for frame 1131 of 1280 in 0.0758559703827"
       ]
      },
      {
       "output_type": "stream",
       "stream": "stdout",
       "text": [
        "\r",
        "Computed features for frame 1132 of 1280 in 0.0747458934784"
       ]
      },
      {
       "output_type": "stream",
       "stream": "stdout",
       "text": [
        "\r",
        "Computed features for frame 1133 of 1280 in 0.0755829811096"
       ]
      },
      {
       "output_type": "stream",
       "stream": "stdout",
       "text": [
        "\r",
        "Computed features for frame 1134 of 1280 in 0.0798630714417"
       ]
      },
      {
       "output_type": "stream",
       "stream": "stdout",
       "text": [
        "\r",
        "Computed features for frame 1135 of 1280 in 0.0775671005249"
       ]
      },
      {
       "output_type": "stream",
       "stream": "stdout",
       "text": [
        "\r",
        "Computed features for frame 1136 of 1280 in 0.0737869739532"
       ]
      },
      {
       "output_type": "stream",
       "stream": "stdout",
       "text": [
        "\r",
        "Computed features for frame 1137 of 1280 in 0.0726850032806"
       ]
      },
      {
       "output_type": "stream",
       "stream": "stdout",
       "text": [
        "\r",
        "Computed features for frame 1138 of 1280 in 0.0722689628601"
       ]
      },
      {
       "output_type": "stream",
       "stream": "stdout",
       "text": [
        "\r",
        "Computed features for frame 1139 of 1280 in 0.0724458694458"
       ]
      },
      {
       "output_type": "stream",
       "stream": "stdout",
       "text": [
        "\r",
        "Computed features for frame 1140 of 1280 in 0.0769069194794"
       ]
      },
      {
       "output_type": "stream",
       "stream": "stdout",
       "text": [
        "\r",
        "Computed features for frame 1141 of 1280 in 0.0758731365204"
       ]
      },
      {
       "output_type": "stream",
       "stream": "stdout",
       "text": [
        "\r",
        "Computed features for frame 1142 of 1280 in 0.0787079334259"
       ]
      },
      {
       "output_type": "stream",
       "stream": "stdout",
       "text": [
        "\r",
        "Computed features for frame 1143 of 1280 in 0.0778620243073"
       ]
      },
      {
       "output_type": "stream",
       "stream": "stdout",
       "text": [
        "\r",
        "Computed features for frame 1144 of 1280 in 0.0726068019867"
       ]
      },
      {
       "output_type": "stream",
       "stream": "stdout",
       "text": [
        "\r",
        "Computed features for frame 1145 of 1280 in 0.0724911689758"
       ]
      },
      {
       "output_type": "stream",
       "stream": "stdout",
       "text": [
        "\r",
        "Computed features for frame 1146 of 1280 in 0.0728080272675"
       ]
      },
      {
       "output_type": "stream",
       "stream": "stdout",
       "text": [
        "\r",
        "Computed features for frame 1147 of 1280 in 0.0743811130524"
       ]
      },
      {
       "output_type": "stream",
       "stream": "stdout",
       "text": [
        "\r",
        "Computed features for frame 1148 of 1280 in 0.0753297805786"
       ]
      },
      {
       "output_type": "stream",
       "stream": "stdout",
       "text": [
        "\r",
        "Computed features for frame 1149 of 1280 in 0.0744578838348"
       ]
      },
      {
       "output_type": "stream",
       "stream": "stdout",
       "text": [
        "\r",
        "Computed features for frame 1150 of 1280 in 0.0757961273193"
       ]
      },
      {
       "output_type": "stream",
       "stream": "stdout",
       "text": [
        "\r",
        "Computed features for frame 1151 of 1280 in 0.0760040283203"
       ]
      },
      {
       "output_type": "stream",
       "stream": "stdout",
       "text": [
        "\r",
        "Computed features for frame 1152 of 1280 in 0.0784549713135"
       ]
      },
      {
       "output_type": "stream",
       "stream": "stdout",
       "text": [
        "\r",
        "Computed features for frame 1153 of 1280 in 0.0738968849182"
       ]
      },
      {
       "output_type": "stream",
       "stream": "stdout",
       "text": [
        "\r",
        "Computed features for frame 1154 of 1280 in 0.0768008232117"
       ]
      },
      {
       "output_type": "stream",
       "stream": "stdout",
       "text": [
        "\r",
        "Computed features for frame 1155 of 1280 in 0.0746569633484"
       ]
      },
      {
       "output_type": "stream",
       "stream": "stdout",
       "text": [
        "\r",
        "Computed features for frame 1156 of 1280 in 0.0721478462219"
       ]
      },
      {
       "output_type": "stream",
       "stream": "stdout",
       "text": [
        "\r",
        "Computed features for frame 1157 of 1280 in 0.0749671459198"
       ]
      },
      {
       "output_type": "stream",
       "stream": "stdout",
       "text": [
        "\r",
        "Computed features for frame 1158 of 1280 in 0.0767560005188"
       ]
      },
      {
       "output_type": "stream",
       "stream": "stdout",
       "text": [
        "\r",
        "Computed features for frame 1159 of 1280 in 0.0762920379639"
       ]
      },
      {
       "output_type": "stream",
       "stream": "stdout",
       "text": [
        "\r",
        "Computed features for frame 1160 of 1280 in 0.0742540359497"
       ]
      },
      {
       "output_type": "stream",
       "stream": "stdout",
       "text": [
        "\r",
        "Computed features for frame 1161 of 1280 in 0.0729289054871"
       ]
      },
      {
       "output_type": "stream",
       "stream": "stdout",
       "text": [
        "\r",
        "Computed features for frame 1162 of 1280 in 0.0739409923553"
       ]
      },
      {
       "output_type": "stream",
       "stream": "stdout",
       "text": [
        "\r",
        "Computed features for frame 1163 of 1280 in 0.074257850647"
       ]
      },
      {
       "output_type": "stream",
       "stream": "stdout",
       "text": [
        "\r",
        "Computed features for frame 1164 of 1280 in 0.0776720046997"
       ]
      },
      {
       "output_type": "stream",
       "stream": "stdout",
       "text": [
        "\r",
        "Computed features for frame 1165 of 1280 in 0.0836310386658"
       ]
      },
      {
       "output_type": "stream",
       "stream": "stdout",
       "text": [
        "\r",
        "Computed features for frame 1166 of 1280 in 0.0752060413361"
       ]
      },
      {
       "output_type": "stream",
       "stream": "stdout",
       "text": [
        "\r",
        "Computed features for frame 1167 of 1280 in 0.0726101398468"
       ]
      },
      {
       "output_type": "stream",
       "stream": "stdout",
       "text": [
        "\r",
        "Computed features for frame 1168 of 1280 in 0.073459148407"
       ]
      },
      {
       "output_type": "stream",
       "stream": "stdout",
       "text": [
        "\r",
        "Computed features for frame 1169 of 1280 in 0.0739040374756"
       ]
      },
      {
       "output_type": "stream",
       "stream": "stdout",
       "text": [
        "\r",
        "Computed features for frame 1170 of 1280 in 0.0793950557709"
       ]
      },
      {
       "output_type": "stream",
       "stream": "stdout",
       "text": [
        "\r",
        "Computed features for frame 1171 of 1280 in 0.079195022583"
       ]
      },
      {
       "output_type": "stream",
       "stream": "stdout",
       "text": [
        "\r",
        "Computed features for frame 1172 of 1280 in 0.0756018161774"
       ]
      },
      {
       "output_type": "stream",
       "stream": "stdout",
       "text": [
        "\r",
        "Computed features for frame 1173 of 1280 in 0.0726599693298"
       ]
      },
      {
       "output_type": "stream",
       "stream": "stdout",
       "text": [
        "\r",
        "Computed features for frame 1174 of 1280 in 0.0722479820251"
       ]
      },
      {
       "output_type": "stream",
       "stream": "stdout",
       "text": [
        "\r",
        "Computed features for frame 1175 of 1280 in 0.0733568668365"
       ]
      },
      {
       "output_type": "stream",
       "stream": "stdout",
       "text": [
        "\r",
        "Computed features for frame 1176 of 1280 in 0.0738441944122"
       ]
      },
      {
       "output_type": "stream",
       "stream": "stdout",
       "text": [
        "\r",
        "Computed features for frame 1177 of 1280 in 0.0766890048981"
       ]
      },
      {
       "output_type": "stream",
       "stream": "stdout",
       "text": [
        "\r",
        "Computed features for frame 1178 of 1280 in 0.0773680210114"
       ]
      },
      {
       "output_type": "stream",
       "stream": "stdout",
       "text": [
        "\r",
        "Computed features for frame 1179 of 1280 in 0.0738019943237"
       ]
      },
      {
       "output_type": "stream",
       "stream": "stdout",
       "text": [
        "\r",
        "Computed features for frame 1180 of 1280 in 0.0730459690094"
       ]
      },
      {
       "output_type": "stream",
       "stream": "stdout",
       "text": [
        "\r",
        "Computed features for frame 1181 of 1280 in 0.0725450515747"
       ]
      },
      {
       "output_type": "stream",
       "stream": "stdout",
       "text": [
        "\r",
        "Computed features for frame 1182 of 1280 in 0.0728321075439"
       ]
      },
      {
       "output_type": "stream",
       "stream": "stdout",
       "text": [
        "\r",
        "Computed features for frame 1183 of 1280 in 0.0741350650787"
       ]
      },
      {
       "output_type": "stream",
       "stream": "stdout",
       "text": [
        "\r",
        "Computed features for frame 1184 of 1280 in 0.079176902771"
       ]
      },
      {
       "output_type": "stream",
       "stream": "stdout",
       "text": [
        "\r",
        "Computed features for frame 1185 of 1280 in 0.079806804657"
       ]
      },
      {
       "output_type": "stream",
       "stream": "stdout",
       "text": [
        "\r",
        "Computed features for frame 1186 of 1280 in 0.0722699165344"
       ]
      },
      {
       "output_type": "stream",
       "stream": "stdout",
       "text": [
        "\r",
        "Computed features for frame 1187 of 1280 in 0.0729131698608"
       ]
      },
      {
       "output_type": "stream",
       "stream": "stdout",
       "text": [
        "\r",
        "Computed features for frame 1188 of 1280 in 0.0733051300049"
       ]
      },
      {
       "output_type": "stream",
       "stream": "stdout",
       "text": [
        "\r",
        "Computed features for frame 1189 of 1280 in 0.072986125946"
       ]
      },
      {
       "output_type": "stream",
       "stream": "stdout",
       "text": [
        "\r",
        "Computed features for frame 1190 of 1280 in 0.0744600296021"
       ]
      },
      {
       "output_type": "stream",
       "stream": "stdout",
       "text": [
        "\r",
        "Computed features for frame 1191 of 1280 in 0.0756361484528"
       ]
      },
      {
       "output_type": "stream",
       "stream": "stdout",
       "text": [
        "\r",
        "Computed features for frame 1192 of 1280 in 0.0760750770569"
       ]
      },
      {
       "output_type": "stream",
       "stream": "stdout",
       "text": [
        "\r",
        "Computed features for frame 1193 of 1280 in 0.0736458301544"
       ]
      },
      {
       "output_type": "stream",
       "stream": "stdout",
       "text": [
        "\r",
        "Computed features for frame 1194 of 1280 in 0.073832988739"
       ]
      },
      {
       "output_type": "stream",
       "stream": "stdout",
       "text": [
        "\r",
        "Computed features for frame 1195 of 1280 in 0.0731768608093"
       ]
      },
      {
       "output_type": "stream",
       "stream": "stdout",
       "text": [
        "\r",
        "Computed features for frame 1196 of 1280 in 0.0750999450684"
       ]
      },
      {
       "output_type": "stream",
       "stream": "stdout",
       "text": [
        "\r",
        "Computed features for frame 1197 of 1280 in 0.0755960941315"
       ]
      },
      {
       "output_type": "stream",
       "stream": "stdout",
       "text": [
        "\r",
        "Computed features for frame 1198 of 1280 in 0.0763099193573"
       ]
      },
      {
       "output_type": "stream",
       "stream": "stdout",
       "text": [
        "\r",
        "Computed features for frame 1199 of 1280 in 0.0730698108673"
       ]
      },
      {
       "output_type": "stream",
       "stream": "stdout",
       "text": [
        "\r",
        "Computed features for frame 1200 of 1280 in 0.0755050182343"
       ]
      },
      {
       "output_type": "stream",
       "stream": "stdout",
       "text": [
        "\r",
        "Computed features for frame 1201 of 1280 in 0.0733728408813"
       ]
      },
      {
       "output_type": "stream",
       "stream": "stdout",
       "text": [
        "\r",
        "Computed features for frame 1202 of 1280 in 0.0746607780457"
       ]
      },
      {
       "output_type": "stream",
       "stream": "stdout",
       "text": [
        "\r",
        "Computed features for frame 1203 of 1280 in 0.0753960609436"
       ]
      },
      {
       "output_type": "stream",
       "stream": "stdout",
       "text": [
        "\r",
        "Computed features for frame 1204 of 1280 in 0.0779929161072"
       ]
      },
      {
       "output_type": "stream",
       "stream": "stdout",
       "text": [
        "\r",
        "Computed features for frame 1205 of 1280 in 0.0873579978943"
       ]
      },
      {
       "output_type": "stream",
       "stream": "stdout",
       "text": [
        "\r",
        "Computed features for frame 1206 of 1280 in 0.0771019458771"
       ]
      },
      {
       "output_type": "stream",
       "stream": "stdout",
       "text": [
        "\r",
        "Computed features for frame 1207 of 1280 in 0.0741131305695"
       ]
      },
      {
       "output_type": "stream",
       "stream": "stdout",
       "text": [
        "\r",
        "Computed features for frame 1208 of 1280 in 0.0727050304413"
       ]
      },
      {
       "output_type": "stream",
       "stream": "stdout",
       "text": [
        "\r",
        "Computed features for frame 1209 of 1280 in 0.0730159282684"
       ]
      },
      {
       "output_type": "stream",
       "stream": "stdout",
       "text": [
        "\r",
        "Computed features for frame 1210 of 1280 in 0.0833559036255"
       ]
      },
      {
       "output_type": "stream",
       "stream": "stdout",
       "text": [
        "\r",
        "Computed features for frame 1211 of 1280 in 0.0793659687042"
       ]
      },
      {
       "output_type": "stream",
       "stream": "stdout",
       "text": [
        "\r",
        "Computed features for frame 1212 of 1280 in 0.0743539333344"
       ]
      },
      {
       "output_type": "stream",
       "stream": "stdout",
       "text": [
        "\r",
        "Computed features for frame 1213 of 1280 in 0.0759401321411"
       ]
      },
      {
       "output_type": "stream",
       "stream": "stdout",
       "text": [
        "\r",
        "Computed features for frame 1214 of 1280 in 0.0732319355011"
       ]
      },
      {
       "output_type": "stream",
       "stream": "stdout",
       "text": [
        "\r",
        "Computed features for frame 1215 of 1280 in 0.0760290622711"
       ]
      },
      {
       "output_type": "stream",
       "stream": "stdout",
       "text": [
        "\r",
        "Computed features for frame 1216 of 1280 in 0.0732319355011"
       ]
      },
      {
       "output_type": "stream",
       "stream": "stdout",
       "text": [
        "\r",
        "Computed features for frame 1217 of 1280 in 0.0761830806732"
       ]
      },
      {
       "output_type": "stream",
       "stream": "stdout",
       "text": [
        "\r",
        "Computed features for frame 1218 of 1280 in 0.0779619216919"
       ]
      },
      {
       "output_type": "stream",
       "stream": "stdout",
       "text": [
        "\r",
        "Computed features for frame 1219 of 1280 in 0.0738778114319"
       ]
      },
      {
       "output_type": "stream",
       "stream": "stdout",
       "text": [
        "\r",
        "Computed features for frame 1220 of 1280 in 0.0740389823914"
       ]
      },
      {
       "output_type": "stream",
       "stream": "stdout",
       "text": [
        "\r",
        "Computed features for frame 1221 of 1280 in 0.0747699737549"
       ]
      },
      {
       "output_type": "stream",
       "stream": "stdout",
       "text": [
        "\r",
        "Computed features for frame 1222 of 1280 in 0.0764329433441"
       ]
      },
      {
       "output_type": "stream",
       "stream": "stdout",
       "text": [
        "\r",
        "Computed features for frame 1223 of 1280 in 0.0742909908295"
       ]
      },
      {
       "output_type": "stream",
       "stream": "stdout",
       "text": [
        "\r",
        "Computed features for frame 1224 of 1280 in 0.0755109786987"
       ]
      },
      {
       "output_type": "stream",
       "stream": "stdout",
       "text": [
        "\r",
        "Computed features for frame 1225 of 1280 in 0.0760929584503"
       ]
      },
      {
       "output_type": "stream",
       "stream": "stdout",
       "text": [
        "\r",
        "Computed features for frame 1226 of 1280 in 0.0730009078979"
       ]
      },
      {
       "output_type": "stream",
       "stream": "stdout",
       "text": [
        "\r",
        "Computed features for frame 1227 of 1280 in 0.0728251934052"
       ]
      },
      {
       "output_type": "stream",
       "stream": "stdout",
       "text": [
        "\r",
        "Computed features for frame 1228 of 1280 in 0.0728108882904"
       ]
      },
      {
       "output_type": "stream",
       "stream": "stdout",
       "text": [
        "\r",
        "Computed features for frame 1229 of 1280 in 0.0730459690094"
       ]
      },
      {
       "output_type": "stream",
       "stream": "stdout",
       "text": [
        "\r",
        "Computed features for frame 1230 of 1280 in 0.0777020454407"
       ]
      },
      {
       "output_type": "stream",
       "stream": "stdout",
       "text": [
        "\r",
        "Computed features for frame 1231 of 1280 in 0.0756559371948"
       ]
      },
      {
       "output_type": "stream",
       "stream": "stdout",
       "text": [
        "\r",
        "Computed features for frame 1232 of 1280 in 0.0729010105133"
       ]
      },
      {
       "output_type": "stream",
       "stream": "stdout",
       "text": [
        "\r",
        "Computed features for frame 1233 of 1280 in 0.0717589855194"
       ]
      },
      {
       "output_type": "stream",
       "stream": "stdout",
       "text": [
        "\r",
        "Computed features for frame 1234 of 1280 in 0.0732350349426"
       ]
      },
      {
       "output_type": "stream",
       "stream": "stdout",
       "text": [
        "\r",
        "Computed features for frame 1235 of 1280 in 0.072958946228"
       ]
      },
      {
       "output_type": "stream",
       "stream": "stdout",
       "text": [
        "\r",
        "Computed features for frame 1236 of 1280 in 0.0740230083466"
       ]
      },
      {
       "output_type": "stream",
       "stream": "stdout",
       "text": [
        "\r",
        "Computed features for frame 1237 of 1280 in 0.0756189823151"
       ]
      },
      {
       "output_type": "stream",
       "stream": "stdout",
       "text": [
        "\r",
        "Computed features for frame 1238 of 1280 in 0.0756530761719"
       ]
      },
      {
       "output_type": "stream",
       "stream": "stdout",
       "text": [
        "\r",
        "Computed features for frame 1239 of 1280 in 0.0728950500488"
       ]
      },
      {
       "output_type": "stream",
       "stream": "stdout",
       "text": [
        "\r",
        "Computed features for frame 1240 of 1280 in 0.0780498981476"
       ]
      },
      {
       "output_type": "stream",
       "stream": "stdout",
       "text": [
        "\r",
        "Computed features for frame 1241 of 1280 in 0.0748279094696"
       ]
      },
      {
       "output_type": "stream",
       "stream": "stdout",
       "text": [
        "\r",
        "Computed features for frame 1242 of 1280 in 0.0742290019989"
       ]
      },
      {
       "output_type": "stream",
       "stream": "stdout",
       "text": [
        "\r",
        "Computed features for frame 1243 of 1280 in 0.0728409290314"
       ]
      },
      {
       "output_type": "stream",
       "stream": "stdout",
       "text": [
        "\r",
        "Computed features for frame 1244 of 1280 in 0.0722880363464"
       ]
      },
      {
       "output_type": "stream",
       "stream": "stdout",
       "text": [
        "\r",
        "Computed features for frame 1245 of 1280 in 0.0746421813965"
       ]
      },
      {
       "output_type": "stream",
       "stream": "stdout",
       "text": [
        "\r",
        "Computed features for frame 1246 of 1280 in 0.0728039741516"
       ]
      },
      {
       "output_type": "stream",
       "stream": "stdout",
       "text": [
        "\r",
        "Computed features for frame 1247 of 1280 in 0.0725519657135"
       ]
      },
      {
       "output_type": "stream",
       "stream": "stdout",
       "text": [
        "\r",
        "Computed features for frame 1248 of 1280 in 0.0731890201569"
       ]
      },
      {
       "output_type": "stream",
       "stream": "stdout",
       "text": [
        "\r",
        "Computed features for frame 1249 of 1280 in 0.0732290744781"
       ]
      },
      {
       "output_type": "stream",
       "stream": "stdout",
       "text": [
        "\r",
        "Computed features for frame 1250 of 1280 in 0.0734658241272"
       ]
      },
      {
       "output_type": "stream",
       "stream": "stdout",
       "text": [
        "\r",
        "Computed features for frame 1251 of 1280 in 0.0740830898285"
       ]
      },
      {
       "output_type": "stream",
       "stream": "stdout",
       "text": [
        "\r",
        "Computed features for frame 1252 of 1280 in 0.073527097702"
       ]
      },
      {
       "output_type": "stream",
       "stream": "stdout",
       "text": [
        "\r",
        "Computed features for frame 1253 of 1280 in 0.0733330249786"
       ]
      },
      {
       "output_type": "stream",
       "stream": "stdout",
       "text": [
        "\r",
        "Computed features for frame 1254 of 1280 in 0.0738351345062"
       ]
      },
      {
       "output_type": "stream",
       "stream": "stdout",
       "text": [
        "\r",
        "Computed features for frame 1255 of 1280 in 0.0743370056152"
       ]
      },
      {
       "output_type": "stream",
       "stream": "stdout",
       "text": [
        "\r",
        "Computed features for frame 1256 of 1280 in 0.0726320743561"
       ]
      },
      {
       "output_type": "stream",
       "stream": "stdout",
       "text": [
        "\r",
        "Computed features for frame 1257 of 1280 in 0.0744369029999"
       ]
      },
      {
       "output_type": "stream",
       "stream": "stdout",
       "text": [
        "\r",
        "Computed features for frame 1258 of 1280 in 0.0739939212799"
       ]
      },
      {
       "output_type": "stream",
       "stream": "stdout",
       "text": [
        "\r",
        "Computed features for frame 1259 of 1280 in 0.0743708610535"
       ]
      },
      {
       "output_type": "stream",
       "stream": "stdout",
       "text": [
        "\r",
        "Computed features for frame 1260 of 1280 in 0.0765779018402"
       ]
      },
      {
       "output_type": "stream",
       "stream": "stdout",
       "text": [
        "\r",
        "Computed features for frame 1261 of 1280 in 0.0756931304932"
       ]
      },
      {
       "output_type": "stream",
       "stream": "stdout",
       "text": [
        "\r",
        "Computed features for frame 1262 of 1280 in 0.0745420455933"
       ]
      },
      {
       "output_type": "stream",
       "stream": "stdout",
       "text": [
        "\r",
        "Computed features for frame 1263 of 1280 in 0.0725848674774"
       ]
      },
      {
       "output_type": "stream",
       "stream": "stdout",
       "text": [
        "\r",
        "Computed features for frame 1264 of 1280 in 0.0739240646362"
       ]
      },
      {
       "output_type": "stream",
       "stream": "stdout",
       "text": [
        "\r",
        "Computed features for frame 1265 of 1280 in 0.0733270645142"
       ]
      },
      {
       "output_type": "stream",
       "stream": "stdout",
       "text": [
        "\r",
        "Computed features for frame 1266 of 1280 in 0.0723538398743"
       ]
      },
      {
       "output_type": "stream",
       "stream": "stdout",
       "text": [
        "\r",
        "Computed features for frame 1267 of 1280 in 0.0726211071014"
       ]
      },
      {
       "output_type": "stream",
       "stream": "stdout",
       "text": [
        "\r",
        "Computed features for frame 1268 of 1280 in 0.0741240978241"
       ]
      },
      {
       "output_type": "stream",
       "stream": "stdout",
       "text": [
        "\r",
        "Computed features for frame 1269 of 1280 in 0.0737659931183"
       ]
      },
      {
       "output_type": "stream",
       "stream": "stdout",
       "text": [
        "\r",
        "Computed features for frame 1270 of 1280 in 0.0735919475555"
       ]
      },
      {
       "output_type": "stream",
       "stream": "stdout",
       "text": [
        "\r",
        "Computed features for frame 1271 of 1280 in 0.0721669197083"
       ]
      },
      {
       "output_type": "stream",
       "stream": "stdout",
       "text": [
        "\r",
        "Computed features for frame 1272 of 1280 in 0.0735070705414"
       ]
      },
      {
       "output_type": "stream",
       "stream": "stdout",
       "text": [
        "\r",
        "Computed features for frame 1273 of 1280 in 0.0727369785309"
       ]
      },
      {
       "output_type": "stream",
       "stream": "stdout",
       "text": [
        "\r",
        "Computed features for frame 1274 of 1280 in 0.0726251602173"
       ]
      },
      {
       "output_type": "stream",
       "stream": "stdout",
       "text": [
        "\r",
        "Computed features for frame 1275 of 1280 in 0.0763080120087"
       ]
      },
      {
       "output_type": "stream",
       "stream": "stdout",
       "text": [
        "\r",
        "Computed features for frame 1276 of 1280 in 0.0731060504913"
       ]
      },
      {
       "output_type": "stream",
       "stream": "stdout",
       "text": [
        "\r",
        "Computed features for frame 1277 of 1280 in 0.0759019851685"
       ]
      },
      {
       "output_type": "stream",
       "stream": "stdout",
       "text": [
        "\r",
        "Computed features for frame 1278 of 1280 in 0.0727739334106"
       ]
      },
      {
       "output_type": "stream",
       "stream": "stdout",
       "text": [
        "\r",
        "Computed features for frame 1279 of 1280 in 0.0735080242157"
       ]
      },
      {
       "output_type": "stream",
       "stream": "stdout",
       "text": [
        "\n",
        "finished in 96.2246000767\n"
       ]
      },
      {
       "metadata": {},
       "output_type": "pyout",
       "prompt_number": 3,
       "text": [
        "<matplotlib.image.AxesImage at 0x7ff3a171c9d0>"
       ]
      }
     ],
     "prompt_number": 3
    },
    {
     "cell_type": "code",
     "collapsed": false,
     "input": [
      "## video field data\n",
      "print \"fg histogram features: \", features.shape\n",
      "numStates = features.shape[0]-2\n",
      "descriptorSize = features.shape[1]\n",
      "## fs contains all the fs, i.e. frame states\n",
      "## f = (x, v, y), x is pixel data/fg features, v = x'-x ('=i+1), y = x\"-x'\n",
      "## compute x's\n",
      "fs = np.copy(np.reshape(features[0:numStates, :], (numStates, descriptorSize, 1)))\n",
      "## compute v's\n",
      "fs = np.concatenate((fs, (features[1:-1, :]-features[0:-2, :]).reshape((numStates, descriptorSize, 1))), axis=-1)\n",
      "## compute y's\n",
      "fs = np.concatenate((fs, (features[2:, :]-features[1:-1, :]).reshape((numStates, descriptorSize, 1))), axis=-1)\n",
      "print fs.shape[0], \"frame states(lost\", features.shape[0]-numStates, \"because I need extra frames at\",\n",
      "print \"the end for computing v and y),\", \"features size is\", fs.shape[1]\n",
      "\n",
      "## load distance matrix as dissimilarity matrix d\n",
      "## d(f, f') says how dissimilar states f and f' are from each other\n",
      "distanceMatrix = np.array(np.load(outputData + \"hist2demd_16x16_distMat\" + \".npy\"), dtype=np.float)\n",
      "distanceMatrix /= np.max(distanceMatrix)\n",
      "distMat = vtu.filterDistanceMatrix(distanceMatrix, 4, True)\n",
      "# figure(); imshow(distMat, interpolation='nearest')\n",
      "d = np.copy(distMat)\n",
      "## troncate fs to match indices in d to indices in fs\n",
      "fs = np.copy(fs[4:numStates-2, :, :])\n",
      "print fs.shape[0], \"frame states(lost\", numStates-fs.shape[0], \"because I had to filter 8 frames out for \",\n",
      "print \"dynamicism preservation),\", \"features size is\", fs.shape[1]\n",
      "numStates = fs.shape[0]"
     ],
     "language": "python",
     "metadata": {},
     "outputs": [
      {
       "output_type": "stream",
       "stream": "stdout",
       "text": [
        "fg histogram features:  (1280, 16)\n",
        "1278 frame states(lost 2 because I need extra frames at the end for computing v and y), features size is 16\n",
        "1272"
       ]
      },
      {
       "output_type": "stream",
       "stream": "stdout",
       "text": [
        " frame states(lost 6 because I had to filter 8 frames out for  dynamicism preservation), features size is 16\n"
       ]
      }
     ],
     "prompt_number": 4
    },
    {
     "cell_type": "code",
     "collapsed": false,
     "input": [
      "## transition cost based on appearance are the shifted up distance matrix\n",
      "t = np.copy(d[1:d.shape[1], 0:-1])\n",
      "d = np.copy(d[0:-1, 0:-1])\n",
      "## troncate fs to match indices in d to indices in fs\n",
      "fs = np.copy(fs[0:-1, :, :])\n",
      "print fs.shape[0], \"frame states(lost\", numStates-fs.shape[0], \"because transition cost does not\",\n",
      "print \"have info about last frame),\", \"features size is\", fs.shape[1]\n",
      "numStates = fs.shape[0]"
     ],
     "language": "python",
     "metadata": {},
     "outputs": [
      {
       "output_type": "stream",
       "stream": "stdout",
       "text": [
        "1271 frame states(lost 1 because transition cost does not have info about last frame), features size is 16\n"
       ]
      }
     ],
     "prompt_number": 5
    },
    {
     "cell_type": "code",
     "collapsed": false,
     "input": [
      "## find k-nearest neighbors based on transition costs\n",
      "k = 15\n",
      "neighbours = np.argsort(t+(np.eye(d.shape[0])*np.max(d)+1))[:, 0:k] #np.argsort(d)[:, 0:k] # we don't want ourselves as neighbour\n",
      "# figure(); imshow(neighbours)\n",
      "\n",
      "# w are similarity weights\n",
      "w = 1/(d[np.reshape(range(d.shape[0]), (d.shape[0], 1)).repeat(k, axis=-1), neighbours]**2)#(np.sort(d)[:, 1:k+1]**2)\n",
      "# normalize to make weights sum to 1\n",
      "w /= np.repeat(np.reshape(np.sum(w, axis=-1), (numStates, 1)), k, axis=-1)"
     ],
     "language": "python",
     "metadata": {},
     "outputs": [],
     "prompt_number": 6
    },
    {
     "cell_type": "code",
     "collapsed": false,
     "input": [
      "print np.argsort(t[0, :])[0:15]\n",
      "print np.sort(t[0, :])[0:15]\n",
      "print np.max(t[0, :]), np.max(t)\n",
      "print 1/((np.sort(t[0, :])+1)**2)[0:15], np.min(1/((np.sort(t[0, :])+1)**2))\n",
      "print distMat.shape\n",
      "print neighbours[0, :]\n",
      "print w[0, :]"
     ],
     "language": "python",
     "metadata": {},
     "outputs": [
      {
       "output_type": "stream",
       "stream": "stdout",
       "text": [
        "[  1   2   0 148   3 147 149  85  86 210 146  84 224 223 150]\n",
        "[ 0.          0.42208814  0.43999213  0.66697272  0.67451469  0.67713799\n",
        "  0.73353882  0.75203305  0.77524921  0.78515215  0.79118573  0.8002361\n",
        "  0.80567943  0.81886149  0.83820829]\n",
        "4.27865949633 6.38647691501\n",
        "[ 1.          0.49447799  0.48225836  0.35986782  0.35663345  0.35551867\n",
        "  0.33276133  0.32577324  0.31730823  0.31379753  0.31168705  0.30856103\n",
        "  0.30670348  0.30227397  0.2959447 ] 0.0358882848362\n",
        "(1272, 1272)\n",
        "[  1   2 148   3 147 149  85  86 210 146  84 224 223 150 209]\n",
        "[ 0.18050558  0.07314883  0.07267913  0.04797902  0.08806665  0.05441704\n",
        "  0.05809389  0.05401843  0.05074001  0.06766181  0.06163775  0.03829881\n",
        "  0.05669508  0.04482523  0.05123277]\n"
       ]
      }
     ],
     "prompt_number": 7
    },
    {
     "cell_type": "code",
     "collapsed": false,
     "input": [
      "def integrateFrameState(frameState, action, neighbours, delta, neighboursIndices) :\n",
      "    \"\"\"Computes a new frame state from frameState given action weights and neighbours to interpolate from.\n",
      "    \n",
      "           frameState: Nx3 array containing (x, v, y), with N the descriptor size\n",
      "           action: 1xK array of weights\n",
      "           neighbours: 1xK frame states\n",
      "           delta: tugging parameter in [0, 1]\n",
      "           neighboursIndices: contains the indices in fs of the given neighbours\n",
      "           \n",
      "        return: newFrameState\"\"\"\n",
      "    if len(action) != neighbours.shape[0] :\n",
      "        raise Exception(\"Number of action weights and neighbours does not match\")\n",
      "    \n",
      "    newFrameState = np.zeros(frameState.shape)\n",
      "    \n",
      "    descriptorSize = neighbours.shape[1]\n",
      "    k = len(action)\n",
      "    actionWeights = np.repeat(np.reshape(action, (k, 1)), descriptorSize, axis=-1)\n",
      "    closestFrameState = neighbours[0, :, :]\n",
      "    \n",
      "    ## interpolate new pose based on velocities v (equation 5)\n",
      "    newFrameState[:, POSE] = frameState[:, POSE] + (1-delta)*np.sum(actionWeights*neighbours[:, :, VELOCITY], axis=0) + delta*(closestFrameState[:, POSE]+closestFrameState[:, VELOCITY]-frameState[:, POSE])\n",
      "    ## interpolate new velocity based on future velocities y (equation 6)\n",
      "    newFrameState[:, VELOCITY] = (1-delta)*np.sum(actionWeights*neighbours[:, :, FUT_VELOCITY], axis=0) + delta*closestFrameState[:, FUT_VELOCITY]\n",
      "    ## hack to avoid the interpolation thing\n",
      "    return np.copy(neighbours[np.argmax(action), :, :]), neighboursIndices[np.argmax(action)] #newFrameState\n",
      "\n",
      "def integrateTaskState(taskState, action, neighbours, delta, neighboursIndices, taskParamsValues) :\n",
      "    \"\"\"Computes a new task state with a newly integrated frame state and update task parameters.\n",
      "    \n",
      "           taskState: dict {'frameState':a frame state, 'taskParams': theta task parameters}\n",
      "           action: 1xK array of weights\n",
      "           neighbours: 1xK frame states\n",
      "           delta: tugging parameter in [0, 1]\n",
      "           neighboursIndices: contains the indices in fs of the given neighbours\n",
      "           taskParamsValues: contains values of task parameters for the full set of frame states\n",
      "           \n",
      "        return: newTaskState\"\"\"\n",
      "    newFrameState, newIdx = integrateFrameState(taskState['frameState'], action, neighbours, delta, neighboursIndices)\n",
      "    newTaskState = {'frameState':newFrameState, 'taskParams':taskParamsValues[newIdx, :]}\n",
      "    \n",
      "    return newTaskState, newIdx\n",
      "    "
     ],
     "language": "python",
     "metadata": {},
     "outputs": [],
     "prompt_number": 8
    },
    {
     "cell_type": "code",
     "collapsed": false,
     "input": [
      "def r_t(taskState, neighboursTaskParamsValues, action, taskToPerform) :\n",
      "    \"\"\"Computes the task reward [0.0, 1.0] of performing action at taskState given the taskToPerform\n",
      "            \n",
      "            taskState: dict {'frameState':a frame state, 'taskParams': theta task parameters}\n",
      "            neighboursTaskParamsValues: kxN array containing the N task labels of the k neighbours of taskState\n",
      "            action: action performed at taskState\n",
      "            taskToPerform: task that needs to be performed\n",
      "        \n",
      "        return: reward r\n",
      "        \n",
      "        NOTE: since the action is not actually used for interpolation, only the neighbour corresponding to the heighest action weight are considered\"\"\"\n",
      "    \n",
      "    r = (2.0-np.sum(np.abs(neighboursTaskParamsValues[np.argmax(action)]-taskToPerform)))/2.0\n",
      "    return r\n",
      "\n",
      "def r_a(taskState, stateIdx, neighboursIdxs, action, transitionsCost, p) :\n",
      "    \"\"\"Computes the apperance reward [0.0, 1.0] of performing action at taskState given the appearance-based transition cost\n",
      "            \n",
      "            taskState: dict {'frameState':a frame state, 'taskParams': theta task parameters}\n",
      "            stateIdx: index of taskState in the set of task states\n",
      "            neighboursIdxs: indices of neighbours of taskState in the set of task states\n",
      "            action: action performed at taskState\n",
      "            transitionsCost: NxN matrix continaing transition costs from frame i to frame j\n",
      "            p: controls the tradeoff between taking multiple good transitions versus a single poorer one\n",
      "        \n",
      "        return: reward r\n",
      "        \n",
      "        NOTE: since the action is not actually used for interpolation, only the neighbour corresponding to the heighest action weight are considered\"\"\"\n",
      "    \n",
      "    costs = 1.0/(transitionsCost[stateIdx, neighboursIdxs]**p)\n",
      "    costs /= np.max(costs)\n",
      "    r = costs[np.argmax(action)]\n",
      "    return r\n",
      "    \n",
      "def pi_l_separate(taskState, actions, taskValueFunction, appValueFunction, stateIdx, states, neighboursIndices, taskParamsValues, taskToPerform, transitionsCost, l, p, verbose=False):\n",
      "    \"\"\"Gives the next best action based on a lookahead policy to maximize reward.\n",
      "    \n",
      "            taskState: dict {'frameState':a frame state, 'taskParams': theta task parameters}\n",
      "            actions: possible actions from state KxK matrix where each row is an action\n",
      "            taskValueFunction: 1xN precomputed value function that represents future task reward\n",
      "            appValueFunction: 1xK precomputed value function that represents future appearance reward when transitioning to one of the k neighbours\n",
      "            stateIdx: is the idx of state in states\n",
      "            states: list of all possible frame states\n",
      "            neighboursIndices: list of neighbour states indices for each state\n",
      "            taskParamsValues: contains values of task parameters for the full set of frame states\n",
      "            taskToPerform: task that needs to be performed\n",
      "            transitionsCost: NxN matrix continaing transition costs from frame i to frame j\n",
      "            l: controls the tradeoff between favouring good looking transitions versus task-wise good transitions\n",
      "            p: controls the tradeoff between taking multiple good transitions versus a single poorer one\n",
      "            verbose: print additional information\n",
      "        \n",
      "        return: bestAction\"\"\"\n",
      "    currentMax = -sys.float_info.max\n",
      "    for idx in range(len(actions)) :\n",
      "        newTaskState, newIdx = integrateTaskState(taskState, actions[idx, :], states[neighboursIndices[stateIdx, :], :, :], 1.0, neighboursIndices[stateIdx, :], taskParamsValues)\n",
      "        taskReward = r_t(taskState, taskParamsValues[neighboursIndices[stateIdx, :], :], actions[idx, :], taskToPerform)\n",
      "        appearanceReward = r_a(taskState, stateIdx, neighboursIndices[stateIdx, :], actions[idx, :], transitionsCost, p)\n",
      "        amount = l*(taskReward + taskValueFunction[newIdx]) + (1.0-l)*(appearanceReward + appValueFunction[newIdx])#appValueFunction[np.where(neighboursIndices[stateIdx, :] == newIdx)])\n",
      "        if verbose :\n",
      "            print \"current amount for action in pi_l\", amount, np.sum(actions[idx, :]), taskReward, appearanceReward, taskValueFunction[newIdx], appValueFunction[newIdx], newIdx#appValueFunction[np.where(neighboursIndices[stateIdx, :] == newIdx)], newIdx\n",
      "#         print actions[idx, :]\n",
      "        if amount > currentMax :\n",
      "            currentMax = amount\n",
      "            bestIdx = idx\n",
      "    bestAction = np.copy(actions[bestIdx, :])\n",
      "    return bestAction, bestIdx\n",
      "    \n",
      "def pi_l(taskState, actions, valueFunction, stateIdx, states, neighboursIndices, taskParamsValues, taskToPerform, transitionsCost, l, p, randomness, verbose=False):\n",
      "    \"\"\"Gives the next best action based on a lookahead policy to maximize reward.\n",
      "    \n",
      "            taskState: dict {'frameState':a frame state, 'taskParams': theta task parameters}\n",
      "            actions: possible actions from state KxK matrix where each row is an action\n",
      "            valueFunction: 1xN precomputed value function that represents future reward\n",
      "            stateIdx: is the idx of state in states\n",
      "            states: list of all possible frame states\n",
      "            neighboursIndices: list of neighbour states indices for each state\n",
      "            taskParamsValues: contains values of task parameters for the full set of frame states\n",
      "            taskToPerform: task that needs to be performed\n",
      "            transitionsCost: NxN matrix continaing transition costs from frame i to frame j\n",
      "            l: controls the tradeoff between favouring good looking transitions versus task-wise good transitions\n",
      "            p: controls the tradeoff between taking multiple good transitions versus a single poorer one\n",
      "            randomness: amount of randomness when picking a neighbour other thanjust based on reward\n",
      "            verbose: print additional information\n",
      "        \n",
      "        return: bestAction\"\"\"\n",
      "#     currentMax = -sys.float_info.max\n",
      "    rewards = np.zeros(len(actions))\n",
      "    immediateRewards = np.zeros(len(actions))\n",
      "    for idx in range(len(actions)) :\n",
      "        newTaskState, newIdx = integrateTaskState(taskState, actions[idx, :], states[neighboursIndices[stateIdx, :], :, :], 1.0, neighboursIndices[stateIdx, :], taskParamsValues)\n",
      "        taskReward = r_t(taskState, taskParamsValues[neighboursIndices[stateIdx, :], :], actions[idx, :], taskToPerform)\n",
      "        appearanceReward = r_a(taskState, stateIdx, neighboursIndices[stateIdx, :], actions[idx, :], transitionsCost, p)\n",
      "        amount = l*taskReward + (1.0-l)*appearanceReward + valueFunction[newIdx]\n",
      "        rewards[idx] = amount\n",
      "        immediateRewards[idx] = l*taskReward + (1.0-l)*appearanceReward\n",
      "        if verbose :\n",
      "            print \"current amount for action in pi_l\", amount, np.sum(actions[idx, :]), taskReward, appearanceReward, valueFunction[newIdx], newIdx#appValueFunction[np.where(neighboursIndices[stateIdx, :] == newIdx)], newIdx\n",
      "#         print actions[idx, :]\n",
      "#         if amount > currentMax :\n",
      "#             currentMax = amount\n",
      "#             bestIdx = idx\n",
      "#     print bestIdx, np.argmax(rewards)\n",
      "#     print rewards\n",
      "    \n",
      "    ## get random index\n",
      "#     randIdx = np.argwhere(np.cumsum(rewards/np.sum(rewards)) < np.random.rand(1)).shape[0]\n",
      "    randIdx = np.argwhere(np.cumsum(immediateRewards/np.sum(immediateRewards)) < np.random.rand(1)).shape[0]\n",
      "    ## get best reward index\n",
      "    bestRewardIdx = np.argmax(rewards)\n",
      "    \n",
      "    ## decide whether to pick random or best reward\n",
      "    randProb = np.random.rand(1)\n",
      "    \n",
      "    if verbose :\n",
      "        print randProb, randomness\n",
      "        print randIdx, bestRewardIdx\n",
      "        print randomness*randProb, (1.0-randomness)*(1.0-randProb)\n",
      "    \n",
      "    if randomness*randProb > (1.0-randomness)*(1.0-randProb) :\n",
      "        bestIdx = randIdx\n",
      "    else :\n",
      "        bestIdx = bestRewardIdx\n",
      "    \n",
      "    bestAction = np.copy(actions[bestIdx, :])\n",
      "    return bestAction, bestIdx#, rewards\n"
     ],
     "language": "python",
     "metadata": {},
     "outputs": [],
     "prompt_number": 9
    },
    {
     "cell_type": "code",
     "collapsed": false,
     "input": [
      "# load labels to use as taskParamsValues\n",
      "labels = np.load(outputData + \"hist2demd_mult0.02_16x16_labels.npy\")[()]['labelProbs']\n",
      "possibleTasksToPerform = np.eye(labels.shape[-1])\n",
      "\n",
      "# compute video field A value at each state, i.e. compute possible actions at each state as defined in section 4.1\n",
      "# A[i, :, :] gives KxK matrix where each row is an action that favors the neighbour corresponding to row idx\n",
      "A = np.zeros((numStates, k , k))\n",
      "for fIdx in range(numStates) :\n",
      "    tmp = np.repeat(np.reshape(w[fIdx, :], (1, k)), k, axis=0)\n",
      "    ## set action corresponding to ith neighbour to 1\n",
      "    tmp[np.where(np.eye(k)==1)] = 1\n",
      "    ## and renormalize\n",
      "    tmp /= np.repeat(np.reshape(np.sum(tmp, axis=-1), (k, 1)), k, axis=-1) #np.repeat(np.reshape(np.sum(tmp, axis=0), (1, k)), k, axis=0)\n",
      "    A[fIdx, :, :] = np.copy(tmp)"
     ],
     "language": "python",
     "metadata": {},
     "outputs": [],
     "prompt_number": 10
    },
    {
     "cell_type": "code",
     "collapsed": false,
     "input": [
      "# t = np.copy(distMat[1:distMat.shape[1], 0:-1])\n",
      "# figure(); imshow(t, interpolation='nearest')"
     ],
     "language": "python",
     "metadata": {},
     "outputs": [],
     "prompt_number": 11
    },
    {
     "cell_type": "code",
     "collapsed": false,
     "input": [
      "## this is to test that the new implementation does something plausible\n",
      "trackingState = 235\n",
      "taskState = {'frameState': fs[trackingState, :, :], 'taskParams': labels[trackingState, :]}\n",
      "neighboursTaskParamsValues = labels[neighbours[trackingState, :], :]\n",
      "action = A[trackingState, 5, :]\n",
      "task = 2\n",
      "taskToPerform = possibleTasksToPerform[task, :]\n",
      "# v = np.zeros((fs.shape[0], possibleTasksToPerform.shape[0]))\n",
      "\n",
      "print \"neighbours\", neighbours[trackingState, :]\n",
      "print \"neighbours' labels\", neighboursTaskParamsValues\n",
      "print \"chosen action\", action, np.sum(action)\n",
      "print \"task to perform\", taskToPerform\n",
      "print \"rewards for given neighbours\", (2.0-np.sum(np.abs(neighboursTaskParamsValues-np.reshape(taskToPerform, (1, 4)).repeat(k, axis=0)), axis = -1))/2.0\n",
      "\n",
      "print \"total task reward computed by method\", r_t(taskState, neighboursTaskParamsValues, action, taskToPerform)\n",
      "print \"total apperance reward computed by method\", r_a(taskState, trackingState, neighbours[trackingState, :], action, 1.0+t, 2.0)\n",
      "\n",
      "# bestA, bestIdx = pi_l_separate(taskState, A[trackingState, :, :], v_t[:, task], v_a[:, task], trackingState, fs, neighbours, labels, taskToPerform, 1.0+t, l, p, True)\n",
      "bestA, bestIdx = pi_l(taskState, A[trackingState, :, :], v[:, task], trackingState, fs, neighbours, labels, taskToPerform, 1.0+t, l, p, 0.2, True)\n",
      "print \"best A and idx\", bestA, bestIdx\n",
      "\n",
      "\n"
     ],
     "language": "python",
     "metadata": {},
     "outputs": [
      {
       "ename": "NameError",
       "evalue": "name 'v' is not defined",
       "output_type": "pyerr",
       "traceback": [
        "\u001b[0;31m---------------------------------------------------------------------------\u001b[0m\n\u001b[0;31mNameError\u001b[0m                                 Traceback (most recent call last)",
        "\u001b[0;32m<ipython-input-12-f8d62548459f>\u001b[0m in \u001b[0;36m<module>\u001b[0;34m()\u001b[0m\n\u001b[1;32m     18\u001b[0m \u001b[0;34m\u001b[0m\u001b[0m\n\u001b[1;32m     19\u001b[0m \u001b[0;31m# bestA, bestIdx = pi_l_separate(taskState, A[trackingState, :, :], v_t[:, task], v_a[:, task], trackingState, fs, neighbours, labels, taskToPerform, 1.0+t, l, p, True)\u001b[0m\u001b[0;34m\u001b[0m\u001b[0;34m\u001b[0m\u001b[0m\n\u001b[0;32m---> 20\u001b[0;31m \u001b[0mbestA\u001b[0m\u001b[0;34m,\u001b[0m \u001b[0mbestIdx\u001b[0m \u001b[0;34m=\u001b[0m \u001b[0mpi_l\u001b[0m\u001b[0;34m(\u001b[0m\u001b[0mtaskState\u001b[0m\u001b[0;34m,\u001b[0m \u001b[0mA\u001b[0m\u001b[0;34m[\u001b[0m\u001b[0mtrackingState\u001b[0m\u001b[0;34m,\u001b[0m \u001b[0;34m:\u001b[0m\u001b[0;34m,\u001b[0m \u001b[0;34m:\u001b[0m\u001b[0;34m]\u001b[0m\u001b[0;34m,\u001b[0m \u001b[0mv\u001b[0m\u001b[0;34m[\u001b[0m\u001b[0;34m:\u001b[0m\u001b[0;34m,\u001b[0m \u001b[0mtask\u001b[0m\u001b[0;34m]\u001b[0m\u001b[0;34m,\u001b[0m \u001b[0mtrackingState\u001b[0m\u001b[0;34m,\u001b[0m \u001b[0mfs\u001b[0m\u001b[0;34m,\u001b[0m \u001b[0mneighbours\u001b[0m\u001b[0;34m,\u001b[0m \u001b[0mlabels\u001b[0m\u001b[0;34m,\u001b[0m \u001b[0mtaskToPerform\u001b[0m\u001b[0;34m,\u001b[0m \u001b[0;36m1.0\u001b[0m\u001b[0;34m+\u001b[0m\u001b[0mt\u001b[0m\u001b[0;34m,\u001b[0m \u001b[0ml\u001b[0m\u001b[0;34m,\u001b[0m \u001b[0mp\u001b[0m\u001b[0;34m,\u001b[0m \u001b[0;36m0.2\u001b[0m\u001b[0;34m,\u001b[0m \u001b[0mTrue\u001b[0m\u001b[0;34m)\u001b[0m\u001b[0;34m\u001b[0m\u001b[0m\n\u001b[0m\u001b[1;32m     21\u001b[0m \u001b[0;32mprint\u001b[0m \u001b[0;34m\"best A and idx\"\u001b[0m\u001b[0;34m,\u001b[0m \u001b[0mbestA\u001b[0m\u001b[0;34m,\u001b[0m \u001b[0mbestIdx\u001b[0m\u001b[0;34m\u001b[0m\u001b[0m\n\u001b[1;32m     22\u001b[0m \u001b[0;34m\u001b[0m\u001b[0m\n",
        "\u001b[0;31mNameError\u001b[0m: name 'v' is not defined"
       ]
      },
      {
       "output_type": "stream",
       "stream": "stdout",
       "text": [
        "neighbours [236 237 248 247 796 238 234 795 249 873 765 830 766  33 797]\n",
        "neighbours' labels [[ 0.17814389  0.31814807  0.40899661  0.09471142]\n",
        " [ 0.18216882  0.32738018  0.40503588  0.08541513]\n",
        " [ 0.23470976  0.45900827  0.26187997  0.04440201]\n",
        " [ 0.18993224  0.35192923  0.37949105  0.07864748]\n",
        " [ 0.00632285  0.00334713  0.95158473  0.0387453 ]\n",
        " [ 0.18809048  0.34029104  0.40841283  0.06320566]\n",
        " [ 0.16100772  0.27794343  0.42633532  0.13471353]\n",
        " [ 0.00320689  0.00333162  0.97619987  0.01726161]\n",
        " [ 0.24112226  0.47300991  0.24354849  0.04231933]\n",
        " [ 0.05019429  0.0189597   0.33429541  0.59655061]\n",
        " [ 0.18627575  0.34501792  0.39084098  0.07786536]\n",
        " [ 0.          0.          1.          0.        ]\n",
        " [ 0.0735206   0.14835838  0.75231316  0.02580787]\n",
        " [ 0.16558986  0.79865453  0.03285234  0.00290327]\n",
        " [ 0.0048241   0.00163981  0.96547137  0.02806473]]\n",
        "chosen action [ 0.10659542  0.036935    0.02325356  0.04894789  0.0229049   0.50874247\n",
        "  0.07809462  0.0307042   0.01560909  0.02183012  0.0310408   0.01426858\n",
        "  0.01793872  0.02660047  0.01653416] 1.0\n",
        "task to perform [ 0.  0.  1.  0.]\n",
        "rewards for given neighbours [ 0.40899661  0.40503588  0.26187996  0.37949105  0.95158472  0.40841282\n",
        "  0.42633532  0.97619987  0.24354849  0.33429541  0.39084098  1.\n",
        "  0.75231316  0.03285234  0.96547137]\n",
        "total task reward computed by method 0.40841282483\n",
        "total apperance reward computed by method 0.271567080256\n"
       ]
      }
     ],
     "prompt_number": 12
    },
    {
     "cell_type": "code",
     "collapsed": false,
     "input": [
      "r = 0.0\n",
      "prob = np.random.rand(1)\n",
      "print prob\n",
      "\n",
      "numRands = 0\n",
      "for i in xrange(1000) :\n",
      "    prob = np.random.rand(1)\n",
      "    if r*prob > (1.0-r)*(1.0-prob) :\n",
      "        numRands += 1\n",
      "# print r*prob, (1.0-r)*(1.0-prob)\n",
      "print numRands/1000.0"
     ],
     "language": "python",
     "metadata": {},
     "outputs": [
      {
       "output_type": "stream",
       "stream": "stdout",
       "text": [
        "[ 0.51587293]\n",
        "0.0\n"
       ]
      }
     ],
     "prompt_number": 13
    },
    {
     "cell_type": "code",
     "collapsed": false,
     "input": [
      "v = np.zeros((fs.shape[0], possibleTasksToPerform.shape[0]))\n",
      "vTmp = np.copy(v)\n",
      "prevAdditionalReward = 0\n",
      "alpha = 0.999\n",
      "p = 2.0\n",
      "l = 0.35\n",
      "\n",
      "maxIterations = 20\n",
      "trackingState = 234\n",
      "print \"tracking progression of state\", trackingState\n",
      "print \"neighbours\", neighbours[trackingState, :]\n",
      "for i in range(maxIterations) :\n",
      "    ## for each possible task\n",
      "    print \"best actions\",\n",
      "    for task in range(possibleTasksToPerform.shape[0]) :\n",
      "        ## for each frame state\n",
      "        for fIdx in range(numStates) :\n",
      "            si = {'frameState': fs[fIdx, :, :], 'taskParams': labels[fIdx, :]}\n",
      "            bestA, bestIdx = pi_l(si, A[fIdx, :, :], v[:, task], fIdx, fs, neighbours, labels, possibleTasksToPerform[task, :], 1.0+t, l, p, 0.0)\n",
      "            \n",
      "            newTaskState, newIdx = integrateTaskState(si, bestA, fs[neighbours[fIdx, :], :, :], 1.0, neighbours[fIdx, :], labels)\n",
      "            \n",
      "            taskReward = r_t(si, labels[neighbours[fIdx, :], :], bestA, possibleTasksToPerform[task, :])\n",
      "            appearanceReward = r_a(si, fIdx, neighbours[fIdx, :], bestA, 1.0+t, 2.0)\n",
      "            vTmp[fIdx, task] = l*taskReward + (1.0-l)*appearanceReward + v[newIdx, task]\n",
      "            \n",
      "            if fIdx == trackingState :\n",
      "                print bestIdx, \"(\", newIdx, \"),\",\n",
      "    additionalReward = np.linalg.norm(vTmp-v)\n",
      "    print\n",
      "    print i, np.sum(np.linalg.norm(vTmp-v, axis=-1)), np.sum(np.abs(vTmp-v)), additionalReward, additionalReward-prevAdditionalReward, np.min(vTmp), np.max(vTmp), np.sum(vTmp)\n",
      "    print vTmp[trackingState, :]\n",
      "    sys.stdout.flush()\n",
      "    v = np.copy(vTmp)\n",
      "    if additionalReward-prevAdditionalReward == 0.0 :\n",
      "        break\n",
      "    prevAdditionalReward = additionalReward\n"
     ],
     "language": "python",
     "metadata": {},
     "outputs": [
      {
       "output_type": "stream",
       "stream": "stdout",
       "text": [
        "tracking progression of state 234\n",
        "neighbours [235 236 247 237 765 795 872 764  33 233 246 853 794 248 796]\n",
        "best actions "
       ]
      },
      {
       "output_type": "stream",
       "stream": "stdout",
       "text": [
        "0 ( 235 ), "
       ]
      },
      {
       "output_type": "stream",
       "stream": "stdout",
       "text": [
        "0 ( 235 ), "
       ]
      },
      {
       "output_type": "stream",
       "stream": "stdout",
       "text": [
        "0 ( 235 ), "
       ]
      },
      {
       "output_type": "stream",
       "stream": "stdout",
       "text": [
        "0 ( 235 ),\n"
       ]
      },
      {
       "output_type": "stream",
       "stream": "stdout",
       "text": [
        "0 1906.65613682 3749.44999332 53.481909937 53.481909937 0.65 1.0 3749.44999332\n",
        "[ 0.71150702  0.75939263  0.79397466  0.68512568]\n"
       ]
      },
      {
       "output_type": "stream",
       "stream": "stdout",
       "text": [
        "best actions "
       ]
      },
      {
       "output_type": "stream",
       "stream": "stdout",
       "text": [
        "0 ( 235 ), "
       ]
      },
      {
       "output_type": "stream",
       "stream": "stdout",
       "text": [
        "0 ( 235 ), "
       ]
      },
      {
       "output_type": "stream",
       "stream": "stdout",
       "text": [
        "0 ( 235 ), "
       ]
      },
      {
       "output_type": "stream",
       "stream": "stdout",
       "text": [
        "0 ( 235 ),\n"
       ]
      },
      {
       "output_type": "stream",
       "stream": "stdout",
       "text": [
        "1 1912.58734119 3761.53738807 53.6508693157 0.168959378639 1.3 2.0 7510.98738138\n",
        "[ 1.42385738  1.52074446  1.58712348  1.36827468]\n"
       ]
      },
      {
       "output_type": "stream",
       "stream": "stdout",
       "text": [
        "best actions "
       ]
      },
      {
       "output_type": "stream",
       "stream": "stdout",
       "text": [
        "0 ( 235 ), "
       ]
      },
      {
       "output_type": "stream",
       "stream": "stdout",
       "text": [
        "8 ( 33 ), "
       ]
      },
      {
       "output_type": "stream",
       "stream": "stdout",
       "text": [
        "5 ( 795 ), "
       ]
      },
      {
       "output_type": "stream",
       "stream": "stdout",
       "text": [
        "6 ( 872 ),\n"
       ]
      },
      {
       "output_type": "stream",
       "stream": "stdout",
       "text": [
        "2 1939.16880901 3812.17616541 54.4278335438 0.776964228141 1.95 3.0 11323.1635468\n",
        "[ 2.13761647  2.30470691  2.48518461  2.09336292]\n"
       ]
      },
      {
       "output_type": "stream",
       "stream": "stdout",
       "text": [
        "best actions "
       ]
      },
      {
       "output_type": "stream",
       "stream": "stdout",
       "text": [
        "0 ( 235 ), "
       ]
      },
      {
       "output_type": "stream",
       "stream": "stdout",
       "text": [
        "8 ( 33 ), "
       ]
      },
      {
       "output_type": "stream",
       "stream": "stdout",
       "text": [
        "5 ( 795 ), "
       ]
      },
      {
       "output_type": "stream",
       "stream": "stdout",
       "text": [
        "6 ( 872 ),\n"
       ]
      },
      {
       "output_type": "stream",
       "stream": "stdout",
       "text": [
        "3 1965.78176004 3864.99863889 55.2184855345 0.790651990737 2.6 4.0 15188.1621857\n",
        "[ 2.85344813  3.27887986  3.4828931   2.95031044]\n"
       ]
      },
      {
       "output_type": "stream",
       "stream": "stdout",
       "text": [
        "best actions "
       ]
      },
      {
       "output_type": "stream",
       "stream": "stdout",
       "text": [
        "5 ( 795 ), "
       ]
      },
      {
       "output_type": "stream",
       "stream": "stdout",
       "text": [
        "8 ( 33 ), "
       ]
      },
      {
       "output_type": "stream",
       "stream": "stdout",
       "text": [
        "5 ( 795 ), "
       ]
      },
      {
       "output_type": "stream",
       "stream": "stdout",
       "text": [
        "6 ( 872 ),\n"
       ]
      },
      {
       "output_type": "stream",
       "stream": "stdout",
       "text": [
        "4 2002.64341106 3940.26195914 56.3320020455 1.11351651098 3.25 5.0 19128.4241448\n",
        "[ 3.5484122   4.25750072  4.47554844  3.8454258 ]\n"
       ]
      },
      {
       "output_type": "stream",
       "stream": "stdout",
       "text": [
        "best actions "
       ]
      },
      {
       "output_type": "stream",
       "stream": "stdout",
       "text": [
        "6 ( 872 ), "
       ]
      },
      {
       "output_type": "stream",
       "stream": "stdout",
       "text": [
        "8 ( 33 ), "
       ]
      },
      {
       "output_type": "stream",
       "stream": "stdout",
       "text": [
        "5 ( 795 ), "
       ]
      },
      {
       "output_type": "stream",
       "stream": "stdout",
       "text": [
        "6 ( 872 ),\n"
       ]
      },
      {
       "output_type": "stream",
       "stream": "stdout",
       "text": [
        "5 2038.55596456 4015.5634753 57.4180469612 1.08604491573 3.9 6.0 23143.9876201\n",
        "[ 4.50909171  5.2094856   5.4658438   4.80521562]\n"
       ]
      },
      {
       "output_type": "stream",
       "stream": "stdout",
       "text": [
        "best actions "
       ]
      },
      {
       "output_type": "stream",
       "stream": "stdout",
       "text": [
        "6 ( 872 ), "
       ]
      },
      {
       "output_type": "stream",
       "stream": "stdout",
       "text": [
        "8 ( 33 ), "
       ]
      },
      {
       "output_type": "stream",
       "stream": "stdout",
       "text": [
        "5 ( 795 ), "
       ]
      },
      {
       "output_type": "stream",
       "stream": "stdout",
       "text": [
        "6 ( 872 ),\n"
       ]
      },
      {
       "output_type": "stream",
       "stream": "stdout",
       "text": [
        "6 2079.68639414 4101.23790404 58.6403177556 1.22227079436 4.55 7.0 27245.2255242\n",
        "[ 5.46872361  6.13808008  6.45298104  5.80319012]\n"
       ]
      },
      {
       "output_type": "stream",
       "stream": "stdout",
       "text": [
        "best actions "
       ]
      },
      {
       "output_type": "stream",
       "stream": "stdout",
       "text": [
        "6 ( 872 ), "
       ]
      },
      {
       "output_type": "stream",
       "stream": "stdout",
       "text": [
        "8 ( 33 ), "
       ]
      },
      {
       "output_type": "stream",
       "stream": "stdout",
       "text": [
        "5 ( 795 ), "
       ]
      },
      {
       "output_type": "stream",
       "stream": "stdout",
       "text": [
        "6 ( 872 ),\n"
       ]
      },
      {
       "output_type": "stream",
       "stream": "stdout",
       "text": [
        "7 2117.66821749 4181.25305893 59.7531482474 1.11283049176 5.2 8.0 31426.4785831\n",
        "[ 6.41387581  7.08755646  7.42972623  6.80232273]\n"
       ]
      },
      {
       "output_type": "stream",
       "stream": "stdout",
       "text": [
        "best actions "
       ]
      },
      {
       "output_type": "stream",
       "stream": "stdout",
       "text": [
        "6 ( 872 ), "
       ]
      },
      {
       "output_type": "stream",
       "stream": "stdout",
       "text": [
        "8 ( 33 ), "
       ]
      },
      {
       "output_type": "stream",
       "stream": "stdout",
       "text": [
        "12 ( 794 ), "
       ]
      },
      {
       "output_type": "stream",
       "stream": "stdout",
       "text": [
        "6 ( 872 ),\n"
       ]
      },
      {
       "output_type": "stream",
       "stream": "stdout",
       "text": [
        "8 2164.03224141 4277.77220504 61.0670982463 1.31394999889 5.85 9.0 35704.2507881\n",
        "[ 7.33457758  8.05326265  8.40386592  7.80149522]\n"
       ]
      },
      {
       "output_type": "stream",
       "stream": "stdout",
       "text": [
        "best actions "
       ]
      },
      {
       "output_type": "stream",
       "stream": "stdout",
       "text": [
        "0 ( 235 ), "
       ]
      },
      {
       "output_type": "stream",
       "stream": "stdout",
       "text": [
        "8 ( 33 ), "
       ]
      },
      {
       "output_type": "stream",
       "stream": "stdout",
       "text": [
        "0 ( 235 ), "
       ]
      },
      {
       "output_type": "stream",
       "stream": "stdout",
       "text": [
        "6 ( 872 ),\n"
       ]
      },
      {
       "output_type": "stream",
       "stream": "stdout",
       "text": [
        "9 2215.6295109 4385.56149748 62.4877739112 1.42067566492 6.5 10.0 40089.8122856\n",
        "[ 8.26725227  8.94778737  9.29909477  8.79926352]\n"
       ]
      },
      {
       "output_type": "stream",
       "stream": "stdout",
       "text": [
        "best actions "
       ]
      },
      {
       "output_type": "stream",
       "stream": "stdout",
       "text": [
        "0 ( 235 ), "
       ]
      },
      {
       "output_type": "stream",
       "stream": "stdout",
       "text": [
        "8 ( 33 ), "
       ]
      },
      {
       "output_type": "stream",
       "stream": "stdout",
       "text": [
        "0 ( 235 ), "
       ]
      },
      {
       "output_type": "stream",
       "stream": "stdout",
       "text": [
        "6 ( 872 ),\n"
       ]
      },
      {
       "output_type": "stream",
       "stream": "stdout",
       "text": [
        "10 2275.52206842 4510.6648751 64.1053782031 1.61760429191 7.15 11.0 44600.4771607\n",
        "[  9.26413257   9.84745911  10.29909477   9.79815342]\n"
       ]
      },
      {
       "output_type": "stream",
       "stream": "stdout",
       "text": [
        "best actions "
       ]
      },
      {
       "output_type": "stream",
       "stream": "stdout",
       "text": [
        "0 ( 235 ), "
       ]
      },
      {
       "output_type": "stream",
       "stream": "stdout",
       "text": [
        "8 ( 33 ), "
       ]
      },
      {
       "output_type": "stream",
       "stream": "stdout",
       "text": [
        "0 ( 235 ), "
       ]
      },
      {
       "output_type": "stream",
       "stream": "stdout",
       "text": [
        "6 ( 872 ),\n"
       ]
      },
      {
       "output_type": "stream",
       "stream": "stdout",
       "text": [
        "11 2341.36982705 4651.05626716 65.8613081729 1.75592996979 7.8 12.0 49251.5334279\n",
        "[ 10.26129025  10.83626908  11.29909477  10.79788841]\n"
       ]
      },
      {
       "output_type": "stream",
       "stream": "stdout",
       "text": [
        "best actions "
       ]
      },
      {
       "output_type": "stream",
       "stream": "stdout",
       "text": [
        "0 ( 235 ), "
       ]
      },
      {
       "output_type": "stream",
       "stream": "stdout",
       "text": [
        "8 ( 33 ), "
       ]
      },
      {
       "output_type": "stream",
       "stream": "stdout",
       "text": [
        "0 ( 235 ), "
       ]
      },
      {
       "output_type": "stream",
       "stream": "stdout",
       "text": [
        "6 ( 872 ),\n"
       ]
      },
      {
       "output_type": "stream",
       "stream": "stdout",
       "text": [
        "12 2395.83702957 4769.88307614 67.3175264866 1.45621831367 8.45 13.0 54021.416504\n",
        "[ 11.25852045  11.8251902   12.29909477  11.79768443]\n"
       ]
      },
      {
       "output_type": "stream",
       "stream": "stdout",
       "text": [
        "best actions "
       ]
      },
      {
       "output_type": "stream",
       "stream": "stdout",
       "text": [
        "0 ( 235 ), "
       ]
      },
      {
       "output_type": "stream",
       "stream": "stdout",
       "text": [
        "8 ( 33 ), "
       ]
      },
      {
       "output_type": "stream",
       "stream": "stdout",
       "text": [
        "0 ( 235 ), "
       ]
      },
      {
       "output_type": "stream",
       "stream": "stdout",
       "text": [
        "6 ( 872 ),\n"
       ]
      },
      {
       "output_type": "stream",
       "stream": "stdout",
       "text": [
        "13 2443.12568305 4873.03991937 68.582929303 1.26540281645 9.1 14.0 58894.4564234\n",
        "[ 12.25563242  12.81382647  13.29909477  12.79725128]\n"
       ]
      },
      {
       "output_type": "stream",
       "stream": "stdout",
       "text": [
        "best actions "
       ]
      },
      {
       "output_type": "stream",
       "stream": "stdout",
       "text": [
        "0 ( 235 ), "
       ]
      },
      {
       "output_type": "stream",
       "stream": "stdout",
       "text": [
        "8 ( 33 ), "
       ]
      },
      {
       "output_type": "stream",
       "stream": "stdout",
       "text": [
        "0 ( 235 ), "
       ]
      },
      {
       "output_type": "stream",
       "stream": "stdout",
       "text": [
        "6 ( 872 ),\n"
       ]
      },
      {
       "output_type": "stream",
       "stream": "stdout",
       "text": [
        "14 2472.00547962 4937.1550622 69.3699542505 0.787024947544 9.75 15.0 63831.6114856\n",
        "[ 13.25264098  13.80039532  14.2990729   13.79672809]\n"
       ]
      },
      {
       "output_type": "stream",
       "stream": "stdout",
       "text": [
        "best actions "
       ]
      },
      {
       "output_type": "stream",
       "stream": "stdout",
       "text": [
        "0 ( 235 ), "
       ]
      },
      {
       "output_type": "stream",
       "stream": "stdout",
       "text": [
        "8 ( 33 ), "
       ]
      },
      {
       "output_type": "stream",
       "stream": "stdout",
       "text": [
        "0 ( 235 ), "
       ]
      },
      {
       "output_type": "stream",
       "stream": "stdout",
       "text": [
        "6 ( 872 ),\n"
       ]
      },
      {
       "output_type": "stream",
       "stream": "stdout",
       "text": [
        "15 2489.43924333 4975.82809342 69.8446892449 0.474734994361 10.4 16.0 68807.439579\n",
        "[ 14.25007166  14.78041209  15.29903381  14.79596228]\n"
       ]
      },
      {
       "output_type": "stream",
       "stream": "stdout",
       "text": [
        "best actions "
       ]
      },
      {
       "output_type": "stream",
       "stream": "stdout",
       "text": [
        "0 ( 235 ), "
       ]
      },
      {
       "output_type": "stream",
       "stream": "stdout",
       "text": [
        "8 ( 33 ), "
       ]
      },
      {
       "output_type": "stream",
       "stream": "stdout",
       "text": [
        "0 ( 235 ), "
       ]
      },
      {
       "output_type": "stream",
       "stream": "stdout",
       "text": [
        "6 ( 872 ),\n"
       ]
      },
      {
       "output_type": "stream",
       "stream": "stdout",
       "text": [
        "16 2497.88030979 4993.91313401 70.0739214836 0.229232238718 11.0500148868 17.0 73801.352713\n",
        "[ 15.24828079  15.76387438  16.29874138  15.79511991]\n"
       ]
      },
      {
       "output_type": "stream",
       "stream": "stdout",
       "text": [
        "best actions "
       ]
      },
      {
       "output_type": "stream",
       "stream": "stdout",
       "text": [
        "0 ( 235 ), "
       ]
      },
      {
       "output_type": "stream",
       "stream": "stdout",
       "text": [
        "8 ( 33 ), "
       ]
      },
      {
       "output_type": "stream",
       "stream": "stdout",
       "text": [
        "0 ( 235 ), "
       ]
      },
      {
       "output_type": "stream",
       "stream": "stdout",
       "text": [
        "6 ( 872 ),\n"
       ]
      },
      {
       "output_type": "stream",
       "stream": "stdout",
       "text": [
        "17 2503.24264997 5004.96826541 70.2203248421 0.146403358438 11.937124375 17.9999912461 78806.3209784\n",
        "[ 16.24736635  16.76307905  17.29811157  16.79400315]\n"
       ]
      },
      {
       "output_type": "stream",
       "stream": "stdout",
       "text": [
        "best actions "
       ]
      },
      {
       "output_type": "stream",
       "stream": "stdout",
       "text": [
        "0 ( 235 ), "
       ]
      },
      {
       "output_type": "stream",
       "stream": "stdout",
       "text": [
        "8 ( 33 ), "
       ]
      },
      {
       "output_type": "stream",
       "stream": "stdout",
       "text": [
        "0 ( 235 ), "
       ]
      },
      {
       "output_type": "stream",
       "stream": "stdout",
       "text": [
        "6 ( 872 ),\n"
       ]
      },
      {
       "output_type": "stream",
       "stream": "stdout",
       "text": [
        "18 2502.57599561 5003.56085521 70.2011485829 -0.0191762592112 12.9285414675 18.999981921 83809.8818336\n",
        "[ 17.24662178  17.76216408  18.29718715  17.79261152]\n"
       ]
      },
      {
       "output_type": "stream",
       "stream": "stdout",
       "text": [
        "best actions "
       ]
      },
      {
       "output_type": "stream",
       "stream": "stdout",
       "text": [
        "0 ( 235 ), "
       ]
      },
      {
       "output_type": "stream",
       "stream": "stdout",
       "text": [
        "8 ( 33 ), "
       ]
      },
      {
       "output_type": "stream",
       "stream": "stdout",
       "text": [
        "0 ( 235 ), "
       ]
      },
      {
       "output_type": "stream",
       "stream": "stdout",
       "text": [
        "6 ( 872 ),\n"
       ]
      },
      {
       "output_type": "stream",
       "stream": "stdout",
       "text": [
        "19 2498.17927506 4994.29103693 70.0785898037 -0.122558779135 13.9281453003 19.9999739085 88804.1728706\n",
        "[ 18.24595219  18.76095571  19.29546349  18.79098363]\n"
       ]
      }
     ],
     "prompt_number": 14
    },
    {
     "cell_type": "code",
     "collapsed": false,
     "input": [
      "v_t = np.zeros((fs.shape[0], possibleTasksToPerform.shape[0]))\n",
      "v_a = np.zeros(v_t.shape)#(t.shape[0], k))\n",
      "v_tTmp = np.copy(v_t)\n",
      "v_aTmp = np.copy(v_a)\n",
      "prevAdditionalReward = 0\n",
      "alpha = 0.999\n",
      "p = 2.0\n",
      "l = 0.5\n",
      "\n",
      "## appearance reward of picking a certain frame j from frame i\n",
      "## I don't actually need the full thing as I would only use the reward of neighbours, or do I???\n",
      "immediateAppRewards = 1.0/((1.0+t)**p)\n",
      "# immediateAppRewards = (1.0/(1.0+t))**p\n",
      "# immediateAppRewards /= np.repeat(np.reshape(np.max(immediateAppRewards, axis=-1), (immediateAppRewards.shape[0], 1)), immediateAppRewards.shape[0], axis=-1)\n",
      "\n",
      "maxIterations = 20\n",
      "trackingState = 234\n",
      "print \"tracking progression of state\", trackingState\n",
      "print \"neighbours\", neighbours[trackingState, :]\n",
      "for i in range(maxIterations) :\n",
      "    print \"best actions\",\n",
      "#     print np.max(v_a, axis=0)\n",
      "    ## for each frame state\n",
      "    for fIdx in xrange(numStates-1, -1, -1) :\n",
      "        si = {'frameState': fs[fIdx, :, :], 'taskParams': labels[fIdx, :]}\n",
      "        ## for each possible task\n",
      "        for task in xrange(possibleTasksToPerform.shape[0]) :\n",
      "            neighsProbs = (1.0/(np.abs(neighbours[fIdx, :]-fIdx-1.0)+1.0))/np.sum(1.0/(np.abs(neighbours[fIdx, :]-fIdx-1.0)+1.0))#probs[fIdx, neighbours[fIdx, :]]/np.sum(probs[fIdx, neighbours[fIdx, :]])\n",
      "            bestA, bestIdx = pi_l(si, A[fIdx, :, :], v_t[:, task], v_a[:, task], fIdx, fs, neighbours, labels, possibleTasksToPerform[task, :], 1.0+t, l, p)\n",
      "            \n",
      "            newTaskState, newIdx = integrateTaskState(si, bestA, fs[neighbours[fIdx, :], :, :], 1.0, neighbours[fIdx, :], labels)\n",
      "            \n",
      "            ## update value of v_t\n",
      "            v_tTmp[fIdx, task] = r_t(si, labels[neighbours[fIdx, :], :], bestA, possibleTasksToPerform[task, :]) + alpha*v_t[newIdx, task]\n",
      "            v_aTmp[fIdx, task] = r_a(si, fIdx, neighbours[fIdx, :], bestA, 1.0+t, 2.0) + alpha*v_a[newIdx, task]\n",
      "            \n",
      "            if fIdx == trackingState :\n",
      "                print bestIdx, \"(\", newIdx, \"),\",\n",
      "        ## update value of v_a\n",
      "        ##v_aTmp[fIdx, :] = immediateAppRewards[fIdx, neighbours[fIdx, :]] + alpha*v_a[fIdx, :]#np.min(v_aTmp, axis=0)\n",
      "#     additionalReward = np.linalg.norm(vTmp-v)\n",
      "    print\n",
      "    v_a = np.copy(v_aTmp)\n",
      "    v_t = np.copy(v_tTmp)\n",
      "#     print i, np.sum(np.linalg.norm(vTmp-v, axis=-1)), np.sum(np.abs(vTmp-v)), additionalReward, additionalReward-prevAdditionalReward, np.min(vTmp), np.max(vTmp), np.sum(vTmp)\n",
      "#     print vTmp[trackingState, :]\n",
      "#     sys.stdout.flush()\n",
      "#     v = np.copy(vTmp)\n",
      "#     if additionalReward-prevAdditionalReward == 0.0 :\n",
      "#         break\n",
      "#     prevAdditionalReward = additionalReward"
     ],
     "language": "python",
     "metadata": {},
     "outputs": [
      {
       "output_type": "stream",
       "stream": "stdout",
       "text": [
        "tracking progression of state 234\n",
        "neighbours [235 236 247 237 765 795 872 764  33 233 246 853 794 248 796]\n",
        "best actions "
       ]
      },
      {
       "output_type": "stream",
       "stream": "stdout",
       "text": [
        "0 ( 235 ), 0 ( 235 ), 0 ( 235 ), 0 ( 235 ),\n"
       ]
      },
      {
       "output_type": "stream",
       "stream": "stdout",
       "text": [
        "best actions "
       ]
      },
      {
       "output_type": "stream",
       "stream": "stdout",
       "text": [
        "0 ( 235 ), 8 ( 33 ), 12 ( 794 ), 6 ( 872 ),\n"
       ]
      },
      {
       "output_type": "stream",
       "stream": "stdout",
       "text": [
        "best actions "
       ]
      },
      {
       "output_type": "stream",
       "stream": "stdout",
       "text": [
        "0 ( 235 ), 8 ( 33 ), 5 ( 795 ), 6 ( 872 ),\n"
       ]
      },
      {
       "output_type": "stream",
       "stream": "stdout",
       "text": [
        "best actions "
       ]
      },
      {
       "output_type": "stream",
       "stream": "stdout",
       "text": [
        "5 ( 795 ), 8 ( 33 ), 5 ( 795 ), 6 ( 872 ),\n"
       ]
      },
      {
       "output_type": "stream",
       "stream": "stdout",
       "text": [
        "best actions "
       ]
      },
      {
       "output_type": "stream",
       "stream": "stdout",
       "text": [
        "5 ( 795 ), 8 ( 33 ), 5 ( 795 ), 6 ( 872 ),\n"
       ]
      },
      {
       "output_type": "stream",
       "stream": "stdout",
       "text": [
        "best actions "
       ]
      },
      {
       "output_type": "stream",
       "stream": "stdout",
       "text": [
        "6 ( 872 ), 8 ( 33 ), 5 ( 795 ), 6 ( 872 ),\n"
       ]
      },
      {
       "output_type": "stream",
       "stream": "stdout",
       "text": [
        "best actions "
       ]
      },
      {
       "output_type": "stream",
       "stream": "stdout",
       "text": [
        "6 ( 872 ), 8 ( 33 ), 5 ( 795 ), 6 ( 872 ),\n"
       ]
      },
      {
       "output_type": "stream",
       "stream": "stdout",
       "text": [
        "best actions "
       ]
      },
      {
       "output_type": "stream",
       "stream": "stdout",
       "text": [
        "6 ( 872 ), 8 ( 33 ), 12 ( 794 ), 6 ( 872 ),\n"
       ]
      },
      {
       "output_type": "stream",
       "stream": "stdout",
       "text": [
        "best actions "
       ]
      },
      {
       "output_type": "stream",
       "stream": "stdout",
       "text": [
        "1 ( 236 ), 8 ( 33 ), 12 ( 794 ), 6 ( 872 ),\n"
       ]
      },
      {
       "output_type": "stream",
       "stream": "stdout",
       "text": [
        "best actions "
       ]
      },
      {
       "output_type": "stream",
       "stream": "stdout",
       "text": [
        "1 ( 236 ), 8 ( 33 ), 0 ( 235 ), 6 ( 872 ),\n"
       ]
      },
      {
       "output_type": "stream",
       "stream": "stdout",
       "text": [
        "best actions "
       ]
      },
      {
       "output_type": "stream",
       "stream": "stdout",
       "text": [
        "1 ( 236 ), 8 ( 33 ), 0 ( 235 ), 6 ( 872 ),\n"
       ]
      },
      {
       "output_type": "stream",
       "stream": "stdout",
       "text": [
        "best actions "
       ]
      },
      {
       "output_type": "stream",
       "stream": "stdout",
       "text": [
        "1 ( 236 ), 8 ( 33 ), 0 ( 235 ), 6 ( 872 ),\n"
       ]
      },
      {
       "output_type": "stream",
       "stream": "stdout",
       "text": [
        "best actions "
       ]
      },
      {
       "output_type": "stream",
       "stream": "stdout",
       "text": [
        "1 ( 236 ), 8 ( 33 ), 0 ( 235 ), 6 ( 872 ),\n"
       ]
      },
      {
       "output_type": "stream",
       "stream": "stdout",
       "text": [
        "best actions "
       ]
      },
      {
       "output_type": "stream",
       "stream": "stdout",
       "text": [
        "1 ( 236 ), 8 ( 33 ), 0 ( 235 ), 6 ( 872 ),\n"
       ]
      },
      {
       "output_type": "stream",
       "stream": "stdout",
       "text": [
        "best actions "
       ]
      },
      {
       "output_type": "stream",
       "stream": "stdout",
       "text": [
        "1 ( 236 ), 8 ( 33 ), 0 ( 235 ), 6 ( 872 ),\n"
       ]
      },
      {
       "output_type": "stream",
       "stream": "stdout",
       "text": [
        "best actions "
       ]
      },
      {
       "output_type": "stream",
       "stream": "stdout",
       "text": [
        "1 ( 236 ), 8 ( 33 ), 0 ( 235 ), 6 ( 872 ),\n"
       ]
      },
      {
       "output_type": "stream",
       "stream": "stdout",
       "text": [
        "best actions "
       ]
      },
      {
       "output_type": "stream",
       "stream": "stdout",
       "text": [
        "1 ( 236 ), 8 ( 33 ), 0 ( 235 ), 6 ( 872 ),\n"
       ]
      },
      {
       "output_type": "stream",
       "stream": "stdout",
       "text": [
        "best actions "
       ]
      },
      {
       "output_type": "stream",
       "stream": "stdout",
       "text": [
        "1 ( 236 ), 8 ( 33 ), 0 ( 235 ), 6 ( 872 ),\n"
       ]
      },
      {
       "output_type": "stream",
       "stream": "stdout",
       "text": [
        "best actions "
       ]
      },
      {
       "output_type": "stream",
       "stream": "stdout",
       "text": [
        "1 ( 236 ), 8 ( 33 ), 0 ( 235 ), 6 ( 872 ),\n"
       ]
      },
      {
       "output_type": "stream",
       "stream": "stdout",
       "text": [
        "best actions "
       ]
      },
      {
       "output_type": "stream",
       "stream": "stdout",
       "text": [
        "1 ( 236 ), 8 ( 33 ), 0 ( 235 ), 6 ( 872 ),\n"
       ]
      }
     ],
     "prompt_number": 79
    },
    {
     "cell_type": "code",
     "collapsed": false,
     "input": [
      " ## try and sample, see what happens....\n",
      "\n",
      "taskIdx = 2\n",
      "taskToPerform = possibleTasksToPerform[taskIdx, :]\n",
      "# taskToPerform = np.array([1, 0, 0, 0])\n",
      "print \"task to perform:\", taskToPerform\n",
      "startIdx = 234\n",
      "print \"starting from\", startIdx, \"with task params\", labels[startIdx, :]\n",
      "# extraRewards = np.zeros((numStates, numStates))\n",
      "\n",
      "# l = 0.1\n",
      "\n",
      "totalFrames = 100\n",
      "currentIdx = startIdx\n",
      "for i in range(totalFrames) :\n",
      "    s = {'frameState': fs[currentIdx, :, :], 'taskParams': labels[currentIdx, :]}\n",
      "#     pi_l(si, A[fIdx, :, :], v_t[:, task], v_a[:, task], fIdx, fs, neighbours, labels, possibleTasksToPerform[task, :], 1.0+t, l, p)\n",
      "#     bestA, bestAIdx = pi_l(s, A[currentIdx, :, :], np.sum(np.repeat(taskToPerform.reshape((1, len(taskToPerform))), numStates, axis=0)*v_t, axis=-1), v_a[:, task], currentIdx, fs, neighbours, labels, taskToPerform, 1.0+t, l, p)\n",
      "    bestA, bestAIdx = pi_l(s, A[currentIdx, :, :], np.sum(np.repeat(taskToPerform.reshape((1, len(taskToPerform))), numStates, axis=0)*v, axis=-1), currentIdx, fs, neighbours, labels, taskToPerform, 1.0+t, l, p, 0.2)\n",
      "#     print bestA\n",
      "#     print neighbours[currentIdx, :], neighbours[currentIdx, np.argmax(probs[currentIdx, neighbours[currentIdx, :]])]\n",
      "#     print probs[currentIdx, neighbours[currentIdx, :]]\n",
      "#     print probs[currentIdx, neighbours[currentIdx, :]]*bestA, np.argmax(probs[currentIdx, neighbours[currentIdx, :]]*bestA), neighbours[currentIdx, np.argmax(probs[currentIdx, neighbours[currentIdx, :]]*bestA)]\n",
      "#     tmp = probs[currentIdx, neighbours[currentIdx, :]]\n",
      "#     tmp /= np.sum(tmp)\n",
      "#     bob = 0.8\n",
      "#     newAction = ((1.0-bob)*tmp) * (bob*bestA)\n",
      "#     newAction /= np.sum(newAction)\n",
      "    newTaskState, newIdx = integrateTaskState(s, bestA, fs[neighbours[currentIdx, :], :, :], 1.0, neighbours[currentIdx, :], labels)\n",
      "#     newTaskState, newIdx = integrateTaskState(s, newAction, fs[neighbours[currentIdx, :], :, :], 1.0, neighbours[currentIdx, :], labels)\n",
      "    print newIdx, newTaskState['taskParams']\n",
      "    currentIdx = np.copy(newIdx)\n",
      "#     print newTaskState"
     ],
     "language": "python",
     "metadata": {},
     "outputs": [
      {
       "output_type": "stream",
       "stream": "stdout",
       "text": [
        "task to perform: [ 0.  0.  1.  0.]\n",
        "starting from 234 with task params [ 0.16100772  0.27794343  0.42633532  0.13471353]\n",
        "235 [ 0.17573434  0.31255039  0.41135618  0.1003591 ]\n",
        "830 [ 0.  0.  1.  0.]\n",
        "831 [ 0.  0.  1.  0.]\n",
        "832 [ 0.  0.  1.  0.]\n",
        "833 [ 0.  0.  1.  0.]\n",
        "834 [ 0.  0.  1.  0.]\n",
        "835 [ 0.  0.  1.  0.]\n",
        "836 [ 0.  0.  1.  0.]\n",
        "837 [ 0.  0.  1.  0.]\n",
        "838 [ 0.  0.  1.  0.]\n",
        "839"
       ]
      },
      {
       "output_type": "stream",
       "stream": "stdout",
       "text": [
        " [ 0.  0.  1.  0.]\n",
        "840 [ 0.  0.  1.  0.]\n",
        "836 [ 0.  0.  1.  0.]\n",
        "837 [ 0.  0.  1.  0.]\n",
        "838 [ 0.  0.  1.  0.]\n",
        "839 [ 0.  0.  1.  0.]\n",
        "841 [ 0.  0.  1.  0.]\n",
        "836 [ 0.  0.  1.  0.]\n",
        "837 [ 0.  0.  1.  0.]\n",
        "834 [ 0.  0.  1.  0.]\n",
        "835 [ 0.  0.  1.  0.]\n",
        "836 [ 0.  0.  1.  0.]"
       ]
      },
      {
       "output_type": "stream",
       "stream": "stdout",
       "text": [
        "\n",
        "837 [ 0.  0.  1.  0.]\n",
        "838 [ 0.  0.  1.  0.]\n",
        "840 [ 0.  0.  1.  0.]\n",
        "836 [ 0.  0.  1.  0.]\n",
        "837 [ 0.  0.  1.  0.]\n",
        "838 [ 0.  0.  1.  0.]\n",
        "839 [ 0.  0.  1.  0.]\n",
        "840 [ 0.  0.  1.  0.]\n",
        "836 [ 0.  0.  1.  0.]\n",
        "837 [ 0.  0.  1.  0.]\n",
        "838 [ 0.  0.  1.  0.]\n",
        "839"
       ]
      },
      {
       "output_type": "stream",
       "stream": "stdout",
       "text": [
        " [ 0.  0.  1.  0.]\n",
        "840 [ 0.  0.  1.  0.]\n",
        "836 [ 0.  0.  1.  0.]\n",
        "837 [ 0.  0.  1.  0.]\n",
        "838 [ 0.  0.  1.  0.]\n",
        "840 [ 0.  0.  1.  0.]\n",
        "838 [ 0.  0.  1.  0.]\n",
        "839 [ 0.  0.  1.  0.]\n",
        "840 [ 0.  0.  1.  0.]\n",
        "183 [ 0.28439256  0.01916419  0.69360325  0.00284   ]\n",
        "837 [ 0.  0.  1.  0.]\n",
        "838 [ 0.  0.  1.  0.]\n",
        "839"
       ]
      },
      {
       "output_type": "stream",
       "stream": "stdout",
       "text": [
        " [ 0.  0.  1.  0.]\n",
        "840 [ 0.  0.  1.  0.]\n",
        "836 [ 0.  0.  1.  0.]\n",
        "837 [ 0.  0.  1.  0.]\n",
        "800 [ 0.00958766  0.01066986  0.97227247  0.00747002]\n",
        "839 [ 0.  0.  1.  0.]\n",
        "840 [ 0.  0.  1.  0.]\n",
        "836 [ 0.  0.  1.  0.]\n",
        "843 [  3.80956786e-05   9.64507159e-06   9.99937517e-01   1.47424306e-05]\n",
        "837 [ 0.  0.  1.  0.]\n",
        "838 [ 0.  0.  1.  0.]\n",
        "839"
       ]
      },
      {
       "output_type": "stream",
       "stream": "stdout",
       "text": [
        " [ 0.  0.  1.  0.]\n",
        "840 [ 0.  0.  1.  0.]\n",
        "799 [ 0.00782796  0.00695672  0.97901525  0.00620007]\n",
        "835 [ 0.  0.  1.  0.]\n",
        "836 [ 0.  0.  1.  0.]\n",
        "837 [ 0.  0.  1.  0.]\n",
        "838 [ 0.  0.  1.  0.]\n",
        "839 [ 0.  0.  1.  0.]\n",
        "840 [ 0.  0.  1.  0.]\n",
        "836 [ 0.  0.  1.  0.]\n",
        "837 [ 0.  0.  1.  0.]\n",
        "838"
       ]
      },
      {
       "output_type": "stream",
       "stream": "stdout",
       "text": [
        " [ 0.  0.  1.  0.]\n",
        "839 [ 0.  0.  1.  0.]\n",
        "840 [ 0.  0.  1.  0.]\n",
        "836 [ 0.  0.  1.  0.]\n",
        "837 [ 0.  0.  1.  0.]\n",
        "841 [ 0.  0.  1.  0.]\n",
        "836 [ 0.  0.  1.  0.]\n",
        "837 [ 0.  0.  1.  0.]\n",
        "838 [ 0.  0.  1.  0.]\n",
        "839 [ 0.  0.  1.  0.]\n",
        "840 [ 0.  0.  1.  0.]\n",
        "841 [ 0.  0.  1.  0.]\n",
        "836"
       ]
      },
      {
       "output_type": "stream",
       "stream": "stdout",
       "text": [
        " [ 0.  0.  1.  0.]\n",
        "837 [ 0.  0.  1.  0.]\n",
        "838 [ 0.  0.  1.  0.]\n",
        "841 [ 0.  0.  1.  0.]\n",
        "836 [ 0.  0.  1.  0.]\n",
        "837 [ 0.  0.  1.  0.]\n",
        "843 [  3.80956786e-05   9.64507159e-06   9.99937517e-01   1.47424306e-05]\n",
        "837 [ 0.  0.  1.  0.]\n",
        "838 [ 0.  0.  1.  0.]\n",
        "841 [ 0.  0.  1.  0.]\n",
        "844 [  6.54720732e-05   2.20747255e-05   9.99888318e-01   2.41355744e-05]\n",
        "845"
       ]
      },
      {
       "output_type": "stream",
       "stream": "stdout",
       "text": [
        " [  2.67345796e-04   3.69668850e-04   9.99164497e-01   1.98488432e-04]\n",
        "846 [  4.56061567e-04   9.36534715e-04   9.98200534e-01   4.06870124e-04]\n",
        "847 [  5.89568104e-04   1.47343837e-03   9.97358802e-01   5.78191940e-04]\n",
        "848 [  8.53857668e-04   2.92859456e-03   9.95075237e-01   1.14231071e-03]\n",
        "849 [ 0.00135847  0.00604323  0.99012013  0.00247817]\n",
        "850 [ 0.02965739  0.19284186  0.73922521  0.03827555]\n",
        "851 [ 0.10056625  0.32074395  0.46864315  0.11004675]\n",
        "852 [ 0.15392498  0.29234074  0.43091458  0.12281975]\n",
        "828 [ 0.  0.  1.  0.]\n",
        "829 [ 0.  0.  1.  0.]\n"
       ]
      }
     ],
     "prompt_number": 17
    },
    {
     "cell_type": "code",
     "collapsed": false,
     "input": [
      "print t.shape\n",
      "figure(); imshow(t, interpolation='nearest')"
     ],
     "language": "python",
     "metadata": {},
     "outputs": [
      {
       "output_type": "stream",
       "stream": "stdout",
       "text": [
        "(1271, 1271)\n"
       ]
      },
      {
       "metadata": {},
       "output_type": "pyout",
       "prompt_number": 51,
       "text": [
        "<matplotlib.image.AxesImage at 0x7f4aaff29850>"
       ]
      }
     ],
     "prompt_number": 51
    },
    {
     "cell_type": "code",
     "collapsed": false,
     "input": [
      "print distMat[0:5, 0:5]"
     ],
     "language": "python",
     "metadata": {},
     "outputs": [
      {
       "output_type": "stream",
       "stream": "stdout",
       "text": [
        "[[ 0.          0.43999213  0.69117261  0.8534234   1.01324764]\n",
        " [ 0.43999213  0.          0.42208814  0.67451469  0.86693337]\n",
        " [ 0.69117261  0.42208814  0.          0.43795908  0.65615163]\n",
        " [ 0.8534234   0.67451469  0.43795908  0.          0.42543284]\n",
        " [ 1.01324764  0.86693337  0.65615163  0.42543284  0.        ]]\n"
       ]
      }
     ],
     "prompt_number": 79
    },
    {
     "cell_type": "code",
     "collapsed": false,
     "input": [
      "a = 0\n",
      "b = 3\n",
      "print distMat[a+1, b] + distMat[a, b-1], distMat[a, b], distMat[b, a]\n",
      "print t[a, b], distMat[a+1, b]\n",
      "print np.copy(distMat[0:-1, 1:])[a, b], distMat[a, b-1]\n",
      "tmpCosts = distMat[1:, 0:-1]+distMat[0:-1, 1:]\n",
      "print tmpCosts[a, b]"
     ],
     "language": "python",
     "metadata": {},
     "outputs": [
      {
       "output_type": "stream",
       "stream": "stdout",
       "text": [
        "1.36568730325 0.85342339979 0.85342339979\n",
        "0.674514690451 0.674514690451\n",
        "1.01324763903 0.691172612802\n",
        "1.68776232949\n"
       ]
      }
     ],
     "prompt_number": 77
    },
    {
     "cell_type": "code",
     "collapsed": false,
     "input": [
      "# amount, np.sum(actions[idx, :]), taskReward, appearanceReward, taskValueFunction[newIdx], appValueFunction[newIdx], newIdx\n",
      "idx1 = 208\n",
      "idx2 = 207\n",
      "print taskToPerform\n",
      "print\n",
      "print v_a[idx1, :]\n",
      "print v_t[idx1, :]\n",
      "print labels[idx1, :], (2.0-np.sum(np.abs(labels[idx1, :]-taskToPerform)))/2.0\n",
      "print neighbours[idx1, :]\n",
      "print pi_l(s, A[idx1, :, :], np.sum(np.repeat(taskToPerform.reshape((1, len(taskToPerform))), numStates, axis=0)*v_t, axis=-1), v_a[:, task], idx1, fs, neighbours, labels, taskToPerform, 1.0+t, l, p, True)\n",
      "print\n",
      "print v_a[idx2, :]\n",
      "print v_t[idx2, :]\n",
      "print labels[idx2, :], (2.0-np.sum(np.abs(labels[idx2, :]-taskToPerform)))/2.0\n",
      "print neighbours[idx2, :]\n",
      "print pi_l(s, A[idx2, :, :], np.sum(np.repeat(taskToPerform.reshape((1, len(taskToPerform))), numStates, axis=0)*v_t, axis=-1), v_a[:, task], idx2, fs, neighbours, labels, taskToPerform, 1.0+t, l, p, True)\n",
      "print\n",
      "print v_a[idx1+1, :]\n",
      "print v_t[idx1+1, :]\n",
      "print labels[idx1+1, :], (2.0-np.sum(np.abs(labels[idx1+1, :]-taskToPerform)))/2.0"
     ],
     "language": "python",
     "metadata": {},
     "outputs": [
      {
       "output_type": "stream",
       "stream": "stdout",
       "text": [
        "[ 1.  0.  0.  0.]\n",
        "\n",
        "[ 19.13276394  16.72396142  18.77165805  17.72552427]\n",
        "[ 19.47958412  18.47539986  18.88487464  18.26750432]\n",
        "[ 0.89441083  0.00419107  0.09695029  0.00444781] 0.894410829703\n",
        "[209 210 147 146 145 189 148 207 188 211 144   0 149   1 212]\n",
        "current amount for action in pi_l 19.2716699387 1.0 0.898845769762 1.0 19.5792355835 17.0652585243 209\n",
        "current amount for action in pi_l 19.2380458487 1.0 0.905969753566 0.489184780436 19.3974474565 17.6834897069 210\n",
        "current amount for action in pi_l 19.2628345933 1.0 0.930661712369 0.416247179948 19.3974474565 17.7813128377 147\n",
        "current amount for action in pi_l 19.2122970664 1.0 0.924028102688 0.414736652786 19.3375068554 17.7483225219 146\n",
        "current amount for action in pi_l 19.1304957118 1.0 0.918841369039 0.369161800262 19.2715344182 17.7014538361 145\n",
        "current amount for action in pi_l 18.9490724972 1.0 0.897982250363 0.360434811109 19.6486001191 16.9911278139 189\n",
        "current amount for action in pi_l 19.2253686204 1.0 0.934994060061 0.349669546219 19.453949343 17.7121242916 148\n",
        "current amount for action in pi_l 19.4923596325 1.0 0.884756693138 0.335115276027 19.3758604463 18.3889868496 207\n",
        "current amount for action in pi_l 19.2027434082 1.0 0.886563490924 0.334099775774 19.5792355835 17.6055879663 188\n",
        "current amount for action in pi_l 18.8515131872 1.0 0.884662576262 0.33013334103 19.453949343 17.034281114 211\n",
        "current amount for action in pi_l 19.0685357751 1.0 0.903717492182 0.310095478861 19.2008295057 17.7224290735 144\n",
        "current amount for action in pi_l 18.7604808616 1.0 0.495028810603 0.299955000203 19.6486001191 17.0773777933 0\n",
        "current amount for action in pi_l 18.9625461937 1.0 0.94248643061 0.295860244994 19.5043884948 17.1823572171 149\n",
        "current amount for action in pi_l 18.7281198732 1.0 0.482094986083 0.292760827947 19.6486001191 17.0327838132 1\n",
        "current amount for action in pi_l 19.1736577354 1.0 0.843292000653 0.286927963934 19.5043884948 17.7127070114 212\n",
        "(array([ 0.12040289,  0.03430715,  0.02966939,  0.0342635 ,  0.03305073,\n",
        "        0.02167255,  0.02154152,  0.54861393,  0.04085199,  0.02289735,\n",
        "        0.02254747,  0.02163499,  0.01587969,  0.01557172,  0.01709514]), 7)\n",
        "\n",
        "[ 19.13344231  16.7270486   18.56948218  18.38898685]\n",
        "[ 19.37586045  17.48310584  19.50082911  19.25957631]\n",
        "[ 0.88475669  0.00424878  0.10462903  0.00636549] 0.884756693138\n",
        "[208 209 188 210 146 145 147 924 913 206 925 797 187 923 211]\n",
        "current amount for action in pi_l 19.5497596131 1.0 0.894410829703 1.0 19.4795841226 17.7255242739 208\n",
        "current amount for action in pi_l 19.0323888082 1.0 0.898845769762 0.521437738934 19.5792355835 17.0652585243 209\n",
        "current amount for action in pi_l 19.2169943377 1.0 0.886563490924 0.362601634709 19.5792355835 17.6055879663 188\n",
        "current amount for action in pi_l 19.1622777782 1.0 0.905969753566 0.337648639467 19.3974474565 17.6834897069 210\n",
        "current amount for action in pi_l 19.1736630253 1.0 0.924028102688 0.337468570485 19.3375068554 17.7483225219 146\n",
        "current amount for action in pi_l 19.1121068056 1.0 0.918841369039 0.332383987902 19.2715344182 17.7014538361 145\n",
        "current amount for action in pi_l 19.2133651205 1.0 0.930661712369 0.317308234313 19.3974474565 17.7813128377 147\n",
        "current amount for action in pi_l 19.4596699177 1.0 0.0515059385309 0.314189859142 19.4795841226 19.0740599152 924\n",
        "current amount for action in pi_l 18.8791774415 1.0 0.046694046631 0.306258380879 18.9017913505 18.503611105 913\n",
        "current amount for action in pi_l 19.4079178923 1.0 0.87217547225 0.306147258665 19.2629276274 18.3745854263 206\n",
        "current amount for action in pi_l 19.3510698592 1.0 0.0517293552943 0.305437506511 19.2629276274 19.0820452292 925\n",
        "current amount for action in pi_l 18.1489902729 1.0 0.00482410061832 0.289648511052 18.211563728 17.7919442062 797\n",
        "current amount for action in pi_l 18.9825362261 1.0 0.645769947842 0.286083141617 19.4673018438 17.565917519 187\n",
        "current amount for action in pi_l 19.4493262142 1.0 0.0509598656276 0.284643530664 19.4795841226 19.0834649094 923\n",
        "current amount for action in pi_l 18.8275412906 1.0 0.884662576262 0.282189547967 19.453949343 17.034281114 211\n",
        "(array([ 0.55168864,  0.03582875,  0.02623659,  0.02863636,  0.02346208,\n",
        "        0.02664615,  0.02064017,  0.03499722,  0.02643199,  0.09045158,\n",
        "        0.0261397 ,  0.02292379,  0.03514738,  0.03143412,  0.01933548]), 0)\n",
        "\n",
        "[ 19.13208489  17.06206521  18.68332996  17.06525852]\n",
        "[ 19.57923558  17.76012397  19.79124206  17.27381724]\n",
        "[ 0.89884577  0.00414715  0.09363258  0.0033745 ] 0.898845769762\n"
       ]
      }
     ],
     "prompt_number": 82
    },
    {
     "cell_type": "code",
     "collapsed": false,
     "input": [
      "print v_a[234, :]\n",
      "print v_a[300, :]"
     ],
     "language": "python",
     "metadata": {},
     "outputs": [
      {
       "output_type": "stream",
       "stream": "stdout",
       "text": [
        "[ 17.80042006  18.28782772  18.42750575  18.37916576]\n",
        "[ 17.04081632  19.1733076   17.12308055  16.95060744]\n"
       ]
      }
     ],
     "prompt_number": 70
    },
    {
     "cell_type": "code",
     "collapsed": false,
     "input": [
      "figure(); imshow(v_a, interpolation='nearest')\n"
     ],
     "language": "python",
     "metadata": {},
     "outputs": [
      {
       "metadata": {},
       "output_type": "pyout",
       "prompt_number": 200,
       "text": [
        "<matplotlib.image.AxesImage at 0x7f3bffa33410>"
       ]
      }
     ],
     "prompt_number": 200
    },
    {
     "cell_type": "code",
     "collapsed": false,
     "input": [
      "immediateAppRewards = 1.0/((1.0+t)**p)\n",
      "# immediateAppRewards /= np.repeat(np.reshape(np.max(immediateAppRewards, axis=-1), (immediateAppRewards.shape[0], 1)), immediateAppRewards.shape[0], axis=-1)\n",
      "\n",
      "\n",
      "# figure(); imshow(immediateAppRewards, interpolation='nearest')\n",
      "print np.max(immediateAppRewards[-1, :]), np.min(immediateAppRewards[-1, :])\n",
      "print np.sort(immediateAppRewards[0, :])[-15:]\n",
      "print np.max(immediateAppRewards, axis=0)\n",
      "print np.max(immediateAppRewards[-1, :])\n",
      "print np.max(immediateAppRewards[:, 0])"
     ],
     "language": "python",
     "metadata": {},
     "outputs": [
      {
       "output_type": "stream",
       "stream": "stdout",
       "text": [
        "0.427532047227 0.0345896661353\n",
        "[ 0.2959447   0.30227397  0.30670348  0.30856103  0.31168705  0.31379753\n",
        "  0.31730823  0.32577324  0.33276133  0.35551867  0.35663345  0.35986782\n",
        "  0.48225836  0.49447799  1.        ]\n",
        "[ 0.48225836  1.          1.         ...,  1.          1.          1.        ]\n",
        "0.427532047227\n",
        "0.48225835768\n"
       ]
      }
     ],
     "prompt_number": 138
    },
    {
     "cell_type": "code",
     "collapsed": false,
     "input": [
      "def estimateFutureCost(alpha, p, distanceMatrixFilt) :\n",
      "\n",
      "        distMatFilt = distanceMatrixFilt #distanceMatrixFilt[1:distanceMatrixFilt.shape[1], 0:-1]\n",
      "        distMat = distMatFilt ** p\n",
      "        \n",
      "        last = np.copy(distMat)\n",
      "        current = np.zeros(distMat.shape)\n",
      "        \n",
      "        ## while distance between last and current is larger than threshold\n",
      "        iterations = 0 \n",
      "        while np.linalg.norm(last - current) > 0.1 : \n",
      "            for i in range(distMat.shape[0]-1, -1, -1) :\n",
      "                m = np.min(distMat, axis=1)\n",
      "                distMat[i, :] = (distMatFilt[i, :] ** p) + alpha*m\n",
      "                \n",
      "            last = np.copy(current)\n",
      "            current = np.copy(distMat)\n",
      "            \n",
      "            sys.stdout.write('\\r' + \"Iteration \" + np.string_(iterations) + \"; distance \" + np.string_(np.linalg.norm(last - current)))\n",
      "            sys.stdout.flush()\n",
      "            \n",
      "            iterations += 1\n",
      "        \n",
      "        print\n",
      "        print 'finished in', iterations, 'iterations'\n",
      "        \n",
      "        return distMat\n",
      "    \n",
      "dFut = estimateFutureCost(0.999, 2.0, np.copy(t))"
     ],
     "language": "python",
     "metadata": {},
     "outputs": [
      {
       "output_type": "stream",
       "stream": "stdout",
       "text": [
        "\r",
        "Iteration 0; distance 9686.15685467"
       ]
      },
      {
       "output_type": "stream",
       "stream": "stdout",
       "text": [
        "\r",
        "Iteration 1; distance 40.8868525008"
       ]
      },
      {
       "output_type": "stream",
       "stream": "stdout",
       "text": [
        "\r",
        "Iteration 2; distance 35.9326356396"
       ]
      },
      {
       "output_type": "stream",
       "stream": "stdout",
       "text": [
        "\r",
        "Iteration 3; distance 33.4877065865"
       ]
      },
      {
       "output_type": "stream",
       "stream": "stdout",
       "text": [
        "\r",
        "Iteration 4; distance 30.3138882796"
       ]
      },
      {
       "output_type": "stream",
       "stream": "stdout",
       "text": [
        "\r",
        "Iteration 5; distance 26.7707667765"
       ]
      },
      {
       "output_type": "stream",
       "stream": "stdout",
       "text": [
        "\r",
        "Iteration 6; distance 23.7677475356"
       ]
      },
      {
       "output_type": "stream",
       "stream": "stdout",
       "text": [
        "\r",
        "Iteration 7; distance 21.4582803619"
       ]
      },
      {
       "output_type": "stream",
       "stream": "stdout",
       "text": [
        "\r",
        "Iteration 8; distance 19.7132384365"
       ]
      },
      {
       "output_type": "stream",
       "stream": "stdout",
       "text": [
        "\r",
        "Iteration 9; distance 18.4087583961"
       ]
      },
      {
       "output_type": "stream",
       "stream": "stdout",
       "text": [
        "\r",
        "Iteration 10; distance 17.4526202621"
       ]
      },
      {
       "output_type": "stream",
       "stream": "stdout",
       "text": [
        "\r",
        "Iteration 11; distance 16.762834534"
       ]
      },
      {
       "output_type": "stream",
       "stream": "stdout",
       "text": [
        "\r",
        "Iteration 12; distance 16.2682146671"
       ]
      },
      {
       "output_type": "stream",
       "stream": "stdout",
       "text": [
        "\r",
        "Iteration 13; distance 12.8138009359"
       ]
      },
      {
       "output_type": "stream",
       "stream": "stdout",
       "text": [
        "\r",
        "Iteration 14; distance 6.42008953748"
       ]
      },
      {
       "output_type": "stream",
       "stream": "stdout",
       "text": [
        "\r",
        "Iteration 15; distance 5.38116774738"
       ]
      },
      {
       "output_type": "stream",
       "stream": "stdout",
       "text": [
        "\r",
        "Iteration 16; distance 4.79815502785"
       ]
      },
      {
       "output_type": "stream",
       "stream": "stdout",
       "text": [
        "\r",
        "Iteration 17; distance 4.31083369017"
       ]
      },
      {
       "output_type": "stream",
       "stream": "stdout",
       "text": [
        "\r",
        "Iteration 18; distance 3.09788771726"
       ]
      },
      {
       "output_type": "stream",
       "stream": "stdout",
       "text": [
        "\r",
        "Iteration 19; distance 2.07257581852"
       ]
      },
      {
       "output_type": "stream",
       "stream": "stdout",
       "text": [
        "\r",
        "Iteration 20; distance 1.7172052725"
       ]
      },
      {
       "output_type": "stream",
       "stream": "stdout",
       "text": [
        "\r",
        "Iteration 21; distance 1.42276770844"
       ]
      },
      {
       "output_type": "stream",
       "stream": "stdout",
       "text": [
        "\r",
        "Iteration 22; distance 1.1788153604"
       ]
      },
      {
       "output_type": "stream",
       "stream": "stdout",
       "text": [
        "\r",
        "Iteration 23; distance 0.976691870133"
       ]
      },
      {
       "output_type": "stream",
       "stream": "stdout",
       "text": [
        "\r",
        "Iteration 24; distance 0.809225126535"
       ]
      },
      {
       "output_type": "stream",
       "stream": "stdout",
       "text": [
        "\r",
        "Iteration 25; distance 0.670472771855"
       ]
      },
      {
       "output_type": "stream",
       "stream": "stdout",
       "text": [
        "\r",
        "Iteration 26; distance 0.555511344196"
       ]
      },
      {
       "output_type": "stream",
       "stream": "stdout",
       "text": [
        "\r",
        "Iteration 27; distance 0.460261574347"
       ]
      },
      {
       "output_type": "stream",
       "stream": "stdout",
       "text": [
        "\r",
        "Iteration 28; distance 0.381343637773"
       ]
      },
      {
       "output_type": "stream",
       "stream": "stdout",
       "text": [
        "\r",
        "Iteration 29; distance 0.315957225577"
       ]
      },
      {
       "output_type": "stream",
       "stream": "stdout",
       "text": [
        "\r",
        "Iteration 30; distance 0.261782178869"
       ]
      },
      {
       "output_type": "stream",
       "stream": "stdout",
       "text": [
        "\r",
        "Iteration 31; distance 0.216896160701"
       ]
      },
      {
       "output_type": "stream",
       "stream": "stdout",
       "text": [
        "\r",
        "Iteration 32; distance 0.179706444228"
       ]
      },
      {
       "output_type": "stream",
       "stream": "stdout",
       "text": [
        "\r",
        "Iteration 33; distance 0.148893396696"
       ]
      },
      {
       "output_type": "stream",
       "stream": "stdout",
       "text": [
        "\r",
        "Iteration 34; distance 0.123363653847"
       ]
      },
      {
       "output_type": "stream",
       "stream": "stdout",
       "text": [
        "\r",
        "Iteration 35; distance 0.102211323189"
       ]
      },
      {
       "output_type": "stream",
       "stream": "stdout",
       "text": [
        "\r",
        "Iteration 36; distance 0.0846858394856"
       ]
      },
      {
       "output_type": "stream",
       "stream": "stdout",
       "text": [
        "\n",
        "finished in 37 iterations\n"
       ]
      }
     ],
     "prompt_number": 16
    },
    {
     "cell_type": "code",
     "collapsed": false,
     "input": [
      "def estimateFutureReward(alpha, p, immediateReward) :\n",
      "\n",
      "        futureReward = np.copy(immediateReward)\n",
      "        tmpFut = np.zeros(futureReward.shape)\n",
      "#         distMat = distMatFilt ** p\n",
      "        \n",
      "        last = np.copy(futureReward)\n",
      "        current = np.zeros(futureReward.shape)\n",
      "        \n",
      "        ## while distance between last and current is larger than threshold\n",
      "        iterations = 0 \n",
      "        while (iterations < 10) :#np.abs(lastdiff - currdiff) > 0.5 :##np.linalg.norm(last - current) > 0.1 : \n",
      "            for i in range(futureReward.shape[0]-1, -1, -1) :\n",
      "                m = np.max(futureReward, axis=0)\n",
      "#                 print m, np.max(m)\n",
      "                tmpFut[i, :] = immediateReward[i, :] + alpha*m\n",
      "                \n",
      "            futureReward = np.copy(tmpFut)\n",
      "            last = np.copy(current)\n",
      "            current = np.copy(futureReward)\n",
      "            \n",
      "            print iterations, np.linalg.norm(last - current)\n",
      "            \n",
      "            iterations += 1\n",
      "        \n",
      "        return futureReward\n",
      "p = 2.0\n",
      "immediateAppRewards = 1.0/((1.0+t)**p)\n",
      "# figure(); imshow(immediateAppRewards, interpolation='nearest')\n",
      "rFut = estimateFutureReward(0.999, 2.0, immediateAppRewards)"
     ],
     "language": "python",
     "metadata": {},
     "outputs": [
      {
       "output_type": "stream",
       "stream": "stdout",
       "text": [
        "0 1413.10774862\n",
        "1"
       ]
      },
      {
       "output_type": "stream",
       "stream": "stdout",
       "text": [
        " 1268.07626676\n",
        "2"
       ]
      },
      {
       "output_type": "stream",
       "stream": "stdout",
       "text": [
        " 1266.80819053\n",
        "3"
       ]
      },
      {
       "output_type": "stream",
       "stream": "stdout",
       "text": [
        " 1265.5413823\n",
        "4"
       ]
      },
      {
       "output_type": "stream",
       "stream": "stdout",
       "text": [
        " 1264.27584093\n",
        "5"
       ]
      },
      {
       "output_type": "stream",
       "stream": "stdout",
       "text": [
        " 1263.01156512\n",
        "6"
       ]
      },
      {
       "output_type": "stream",
       "stream": "stdout",
       "text": [
        " 1261.74855355\n",
        "7"
       ]
      },
      {
       "output_type": "stream",
       "stream": "stdout",
       "text": [
        " 1260.48680499\n",
        "8"
       ]
      },
      {
       "output_type": "stream",
       "stream": "stdout",
       "text": [
        " 1259.22631817\n",
        "9"
       ]
      },
      {
       "output_type": "stream",
       "stream": "stdout",
       "text": [
        " 1257.96709185\n"
       ]
      }
     ],
     "prompt_number": 35
    },
    {
     "cell_type": "code",
     "collapsed": false,
     "input": [
      "print np.max(immediateAppRewards, axis=0)\n",
      "print np.max(immediateAppRewards[:, 0])\n",
      "print 0.999*np.max(immediateAppRewards, axis=0)+immediateAppRewards[-1, :]"
     ],
     "language": "python",
     "metadata": {},
     "outputs": [
      {
       "output_type": "stream",
       "stream": "stdout",
       "text": [
        "[ 0.48225836  1.          1.         ...,  1.          1.          1.        ]\n",
        "0.48225835768\n",
        "[ 0.60544122  1.11408649  1.10831628 ...,  1.19382979  1.23413786\n",
        "  1.42653205]\n"
       ]
      }
     ],
     "prompt_number": 28
    },
    {
     "cell_type": "code",
     "collapsed": false,
     "input": [
      "print np.max(dFut), np.max(rFut)"
     ],
     "language": "python",
     "metadata": {},
     "outputs": [
      {
       "output_type": "stream",
       "stream": "stdout",
       "text": [
        "41.1180905011 10.9451646705\n"
       ]
      }
     ],
     "prompt_number": 36
    },
    {
     "cell_type": "code",
     "collapsed": false,
     "input": [
      "figure(); imshow(rFut, interpolation='nearest')"
     ],
     "language": "python",
     "metadata": {},
     "outputs": [
      {
       "metadata": {},
       "output_type": "pyout",
       "prompt_number": 37,
       "text": [
        "<matplotlib.image.AxesImage at 0x7fa98488bb90>"
       ]
      }
     ],
     "prompt_number": 37
    },
    {
     "cell_type": "code",
     "collapsed": false,
     "input": [
      "figure(); imshow(dFut, interpolation='nearest')"
     ],
     "language": "python",
     "metadata": {},
     "outputs": [
      {
       "metadata": {},
       "output_type": "pyout",
       "prompt_number": 18,
       "text": [
        "<matplotlib.image.AxesImage at 0x7fa984c42e90>"
       ]
      },
      {
       "output_type": "stream",
       "stream": "stdout",
       "text": [
        "\n"
       ]
      }
     ],
     "prompt_number": 18
    },
    {
     "cell_type": "code",
     "collapsed": false,
     "input": [
      "## normalize dFut so it goes from 0 to 1 to get the extraRewards\n",
      "extraRewards = np.copy(dFut)\n",
      "mins = np.repeat(np.reshape(np.min(extraRewards, axis=-1), (extraRewards.shape[0], 1)), extraRewards.shape[0], axis=-1)\n",
      "diffs = np.repeat(np.reshape(np.max(extraRewards, axis=-1) - np.min(extraRewards, axis=-1), (extraRewards.shape[0], 1)), extraRewards.shape[0], axis=-1)\n",
      "extraRewards = -(extraRewards - mins)/diffs\n",
      "## remove data about last frame since I wouldn't have info about it in extraRewards\n",
      "d = np.copy(d[0:-1, 0:-1])\n",
      "## copy filtered d to dFilt\n",
      "dFilt = np.copy(d)\n",
      "## troncate fs to match indices in d to indices in fs\n",
      "fs = np.copy(fs[0:-1, :, :])\n",
      "print fs.shape[0], \"frame states(lost\", numStates-fs.shape[0], \"because future cost estimation does not\",\n",
      "print \"have info about last frame),\", \"features size is\", fs.shape[1]\n",
      "numStates = fs.shape[0]"
     ],
     "language": "python",
     "metadata": {},
     "outputs": [
      {
       "output_type": "stream",
       "stream": "stdout",
       "text": [
        "1271 frame states(lost 1 because future cost estimation does not have info about last frame), features size is 16\n"
       ]
      }
     ],
     "prompt_number": 6
    },
    {
     "cell_type": "code",
     "collapsed": false,
     "input": [
      "d = np.copy(dFut)\n",
      "# d = np.copy(dFilt)"
     ],
     "language": "python",
     "metadata": {},
     "outputs": [],
     "prompt_number": 7
    },
    {
     "cell_type": "code",
     "collapsed": false,
     "input": [
      "## find k-nearest neighbors based on dissimilarity matrix\n",
      "k = 15\n",
      "neighbours = np.argsort(d+(np.eye(d.shape[0])*np.max(d)+1))[:, 0:k] #np.argsort(d)[:, 0:k] # we don't want ourselves as neighbour\n",
      "# figure(); imshow(neighbours)\n",
      "\n",
      "# w are similarity weights\n",
      "w = 1/(d[np.reshape(range(d.shape[0]), (d.shape[0], 1)).repeat(k, axis=-1), neighbours]**2)#(np.sort(d)[:, 1:k+1]**2)\n",
      "# normalize to make weights sum to 1\n",
      "w /= np.repeat(np.reshape(np.sum(w, axis=-1), (numStates, 1)), k, axis=-1)"
     ],
     "language": "python",
     "metadata": {},
     "outputs": [],
     "prompt_number": 8
    },
    {
     "cell_type": "code",
     "collapsed": false,
     "input": [
      "print neighbours[234, :]\n",
      "print w[234, :], np.sum(w[234, :])"
     ],
     "language": "python",
     "metadata": {},
     "outputs": [
      {
       "output_type": "stream",
       "stream": "stdout",
       "text": [
        "[235 236 247 237  33 765 795 764 233 872 246 248  71 794 853]\n",
        "[ 0.69426705  0.11032388  0.0376324   0.02422947  0.01476097  0.01468229\n",
        "  0.01422956  0.01306702  0.01265558  0.01247948  0.01241458  0.01105723\n",
        "  0.00962517  0.00936339  0.00921193] 1.0\n"
       ]
      }
     ],
     "prompt_number": 9
    },
    {
     "cell_type": "code",
     "collapsed": false,
     "input": [
      "print neighbours[234, :]\n",
      "print w[234, :]"
     ],
     "language": "python",
     "metadata": {},
     "outputs": [
      {
       "output_type": "stream",
       "stream": "stdout",
       "text": [
        "[233 235 871 246 764 236 763 872  32  33 852 232 807 806 737]\n",
        "[ 0.14900866  0.14781845  0.07050264  0.06490585  0.06272493  0.06070396\n",
        "  0.06029096  0.05266059  0.05117636  0.04874911  0.04867451  0.04734257\n",
        "  0.04530793  0.0452244   0.04490906]\n"
       ]
      }
     ],
     "prompt_number": 11
    },
    {
     "cell_type": "code",
     "collapsed": false,
     "input": [
      "# figure();imshow(d*(np.eye(d.shape[0])*np.max(d)+1), interpolation='nearest')\n",
      "print np.argsort(d+(np.eye(d.shape[0])*np.max(d)+1))[:, 0:k][106, :]\n",
      "print neighbours[106, :]\n",
      "print w[106, :]\n",
      "print A[106, 0, :]\n",
      "print np.concatenate(([1], w[106, 1:]))/np.sum(np.concatenate(([1], w[106, 1:])))\n",
      "print A[106, 1, :]"
     ],
     "language": "python",
     "metadata": {},
     "outputs": [
      {
       "output_type": "stream",
       "stream": "stdout",
       "text": [
        "[107 108 109 110 105 111 104 123 124 122 114 115 103 112 102]\n",
        "[107 108 109 110 105 111 104 123 124 122 114 115 103 112 102]\n",
        "[ 0.32744551  0.14030015  0.0723538   0.07083088  0.0659481   0.04028742\n",
        "  0.03843435  0.03634907  0.03295409  0.03188396  0.03037224  0.02998636\n",
        "  0.02936323  0.0275421   0.02594874]\n",
        "[ 0.59788784  0.08388375  0.04325946  0.04234892  0.03942957  0.02408736\n",
        "  0.02297943  0.02173267  0.01970285  0.01906303  0.01815919  0.01792848\n",
        "  0.01755592  0.01646709  0.01551444]\n",
        "[ 0.59788784  0.08388375  0.04325946  0.04234892  0.03942957  0.02408736\n",
        "  0.02297943  0.02173267  0.01970285  0.01906303  0.01815919  0.01792848\n",
        "  0.01755592  0.01646709  0.01551444]\n",
        "[ 0.17607439  0.53772118  0.03890617  0.03808726  0.03546169  0.0216634\n",
        "  0.02066696  0.01954567  0.01772011  0.01714468  0.0163318   0.0161243\n",
        "  0.01578923  0.01480997  0.01395319]\n"
       ]
      }
     ],
     "prompt_number": 30
    },
    {
     "cell_type": "code",
     "collapsed": false,
     "input": [
      "## test task state integration function\n",
      "a = np.zeros(k)\n",
      "a[k/2] = 1\n",
      "fIdx = 300\n",
      "f = fs[fIdx, :, :]\n",
      "ns = fs[neighbours[fIdx, :], :, :]\n",
      "labels = np.load(outputData + \"hist2demd_mult0.02_16x16_labels.npy\")[()]['labelProbs']\n",
      "newT, newIdx = integrateTaskState({'frameState': f, 'taskParams': labels[fIdx, :]}, a, ns, 1.0, neighbours[fIdx, :], labels)\n",
      "print newT, newIdx\n",
      "print fs[newIdx, :, :]\n",
      "print labels[newIdx, :]"
     ],
     "language": "python",
     "metadata": {},
     "outputs": [
      {
       "output_type": "stream",
       "stream": "stdout",
       "text": [
        "{'frameState': array([[  0.00000000e+00,   0.00000000e+00,   0.00000000e+00],\n",
        "       [  0.00000000e+00,   0.00000000e+00,   0.00000000e+00],\n",
        "       [  1.70166841e-02,  -1.96381969e-03,   1.11517273e-03],\n",
        "       [  0.00000000e+00,   0.00000000e+00,   0.00000000e+00],\n",
        "       [  0.00000000e+00,   0.00000000e+00,   0.00000000e+00],\n",
        "       [  0.00000000e+00,   0.00000000e+00,   0.00000000e+00],\n",
        "       [  9.65197346e-01,   3.46735657e-02,  -1.62304047e-06],\n",
        "       [  0.00000000e+00,   0.00000000e+00,   0.00000000e+00],\n",
        "       [  0.00000000e+00,   0.00000000e+00,   0.00000000e+00],\n",
        "       [  0.00000000e+00,   0.00000000e+00,   0.00000000e+00],\n",
        "       [  2.60968419e-01,  -2.55349608e-01,  -5.61881115e-03],\n",
        "       [  0.00000000e+00,   0.00000000e+00,   0.00000000e+00],\n",
        "       [  0.00000000e+00,   0.00000000e+00,   0.00000000e+00],\n",
        "       [  0.00000000e+00,   0.00000000e+00,   0.00000000e+00],\n",
        "       [  0.00000000e+00,   0.00000000e+00,   0.00000000e+00],\n",
        "       [  0.00000000e+00,   0.00000000e+00,   0.00000000e+00]]), 'taskParams': array([ 0.05001374,  0.93200863,  0.01647311,  0.00150452])} 59\n",
        "[[  0.00000000e+00   0.00000000e+00   0.00000000e+00]\n",
        " [  0.00000000e+00   0.00000000e+00   0.00000000e+00]\n",
        " [  1.70166841e-02  -1.96381969e-03   1.11517273e-03]\n",
        " [  0.00000000e+00   0.00000000e+00   0.00000000e+00]\n",
        " [  0.00000000e+00   0.00000000e+00   0.00000000e+00]\n",
        " [  0.00000000e+00   0.00000000e+00   0.00000000e+00]\n",
        " [  9.65197346e-01   3.46735657e-02  -1.62304047e-06]\n",
        " [  0.00000000e+00   0.00000000e+00   0.00000000e+00]\n",
        " [  0.00000000e+00   0.00000000e+00   0.00000000e+00]\n",
        " [  0.00000000e+00   0.00000000e+00   0.00000000e+00]\n",
        " [  2.60968419e-01  -2.55349608e-01  -5.61881115e-03]\n",
        " [  0.00000000e+00   0.00000000e+00   0.00000000e+00]\n",
        " [  0.00000000e+00   0.00000000e+00   0.00000000e+00]\n",
        " [  0.00000000e+00   0.00000000e+00   0.00000000e+00]\n",
        " [  0.00000000e+00   0.00000000e+00   0.00000000e+00]\n",
        " [  0.00000000e+00   0.00000000e+00   0.00000000e+00]]\n",
        "[ 0.05001374  0.93200863  0.01647311  0.00150452]\n"
       ]
      }
     ],
     "prompt_number": 19
    },
    {
     "cell_type": "code",
     "collapsed": false,
     "input": [
      "## this is to test that the new implementation does something plausible\n",
      "taskState = {'frameState': fs[trackingState, :, :], 'taskParams': labels[trackingState, :]}\n",
      "neighboursTaskParamsValues = labels[neighbours[trackingState, :], :]\n",
      "action = A[trackingState, 4, :]\n",
      "taskToPerform = possibleTasksToPerform[3, :]\n",
      "# v = np.zeros((fs.shape[0], possibleTasksToPerform.shape[0]))\n",
      "\n",
      "print \"neighbours\", neighbours[trackingState, :]\n",
      "print \"neighbours' labels\", neighboursTaskParamsValues\n",
      "print \"chosen action\", action, np.sum(action)\n",
      "print \"task to perform\", taskToPerform\n",
      "print \"rewards for given neighbours\", 2.0-np.sum(np.abs(neighboursTaskParamsValues-np.reshape(taskToPerform, (1, 4)).repeat(k, axis=0)), axis = -1)\n",
      "\n",
      "print \"total reward computed by method\", reward(taskState, neighboursTaskParamsValues, action, taskToPerform)\n",
      "\n",
      "tmp = 2.0-np.sum(np.abs(neighboursTaskParamsValues-np.reshape(taskToPerform, (1, 4)).repeat(k, axis=0)), axis = -1)\n",
      "print \"total reward based on normalized rewards for neighbours by action weights\", np.sum(action*tmp)\n",
      "print\n",
      "print\n",
      "\n",
      "bestA, bestIdx = pi_l(taskState, A[trackingState, :, :], v[:, t], trackingState, fs, neighbours, labels, taskToPerform, neighsProbs)#extraRewards)\n",
      "print \"best A and idx\", bestA, bestIdx"
     ],
     "language": "python",
     "metadata": {},
     "outputs": [
      {
       "output_type": "stream",
       "stream": "stdout",
       "text": [
        "neighbours [299 301 527 363 528 611 326 575 691 526  58 411 576 327 402]\n",
        "neighbours' labels [[  8.99090544e-03   9.89536182e-01   1.35101498e-03   1.21897592e-04]\n",
        " [  1.49739316e-02   9.81543822e-01   3.19039163e-03   2.91854862e-04]\n",
        " [  3.51219288e-03   9.96169956e-01   2.92699370e-04   2.51520012e-05]\n",
        " [  2.98673367e-03   9.96787083e-01   2.08817253e-04   1.73656731e-05]\n",
        " [  4.35020759e-03   9.95118557e-01   4.88326523e-04   4.29086596e-05]\n",
        " [  2.75779369e-03   9.97045032e-01   1.82184580e-04   1.49902463e-05]\n",
        " [  7.80681986e-02   9.06295893e-01   1.42140697e-02   1.42183997e-03]\n",
        " [  1.10207706e-03   9.98837485e-01   5.60356369e-05   4.40256947e-06]\n",
        " [  3.05408524e-03   9.96742331e-01   1.88319364e-04   1.52642999e-05]\n",
        " [  2.10200039e-03   9.97794953e-01   9.55922157e-05   7.45422796e-06]\n",
        " [  6.79896022e-02   9.14258203e-01   1.60257880e-02   1.72640787e-03]\n",
        " [  2.65038736e-02   9.72909417e-01   5.56950676e-04   2.97588878e-05]\n",
        " [  3.36345588e-03   9.96378725e-01   2.38021313e-04   1.97983263e-05]\n",
        " [  6.69105774e-02   9.15364545e-01   1.61196938e-02   1.60518431e-03]\n",
        " [  1.13481307e-02   9.88391791e-01   2.46248383e-04   1.38300022e-05]]\n",
        "chosen action [ 0.08738077  0.08301807  0.03207839  0.03040169  0.51460617  0.02872303\n",
        "  0.0271147   0.02567258  0.0255931   0.0247333   0.02466283  0.02464877\n",
        "  0.0241506   0.0238714   0.0233446 ] 1.0\n",
        "task to perform [ 0.  0.  0.  1.]\n",
        "rewards for given neighbours [  2.43795065e-04   5.83709458e-04   5.03039529e-05   3.47312684e-05\n",
        "   8.58172327e-05   2.99804440e-05   2.84367904e-03   8.80512160e-06\n",
        "   3.05285315e-05   1.49084413e-05   3.45281474e-03   5.95177359e-05\n",
        "   3.95965377e-05   3.21036763e-03   2.76599844e-05]\n",
        "total reward computed by method 0.000360796986036\n",
        "total reward based on normalized rewards for neighbours by action weights 0.000360796986036\n",
        "\n",
        "\n",
        "current amount for action in pi_l 31.4707485135 1.0 0.000449440528131 31.470299073 299\n",
        "current amount for action in pi_l 33.4710292142 1.0 0.000603537674313 33.4704256765 301\n",
        "current amount for action in pi_l 31.5399862036 1.0 0.000344401961947 31.5396418016 527\n",
        "current amount for action in pi_l 31.4706381518 1.0 0.000336358917676 31.4703017929 363\n",
        "current amount for action in pi_l 31.5400199863 1.0 0.000360796986036 31.5396591894 528\n",
        "current amount for action in pi_l 31.4706282677 1.0 0.000333545618578 31.4702947221 611\n",
        "current amount for action in pi_l 33.5419613791 1.0 0.00170184126269 33.5402595378 326\n",
        "current amount for action in pi_l 29.5400399181 1.0 0.000322306065821 29.539717612 575\n",
        "current amount for action in pi_l 31.470625344 1.0 0.000332865963211 31.470292478 691\n",
        "current amount for action in pi_l 29.5400118008 1.0 0.00032498943289 29.5396868114 526\n",
        "current amount for action in pi_l 35.4700602866 1.0 0.00200171857966 35.4680585681 58\n",
        "current amount for action in pi_l 27.4708272071 1.0 0.000346720704722 27.4704804864 411\n",
        "current amount for action in pi_l 31.4711013979 1.0 0.000336857091774 31.4707645408 576\n",
        "current amount for action in pi_l 33.5425419232 1.0 0.00188451576364 33.5406574074 327\n",
        "current amount for action in pi_l 27.4708000731 1.0 0.000330789136162 27.470469284 402\n",
        "best A and idx [ 0.08698503  0.08264209  0.03193311  0.030264    0.02908003  0.02859295\n",
        "  0.0269919   0.02555631  0.02547719  0.02462128  0.51227557  0.02453714\n",
        "  0.02404122  0.02376329  0.02323888] 10\n"
       ]
      }
     ],
     "prompt_number": 26
    },
    {
     "cell_type": "code",
     "collapsed": false,
     "input": [
      "############# COMPUTE VALUE FUNCTION V ###############\n",
      "\n",
      "# load labels to use as taskParamsValues\n",
      "labels = np.load(outputData + \"hist2demd_mult0.02_16x16_labels.npy\")[()]['labelProbs']\n",
      "possibleTasksToPerform = np.eye(labels.shape[-1])\n",
      "\n",
      "# compute video field A value at each state, i.e. compute possible actions at each state as defined in section 4.1\n",
      "# A[i, :, :] gives KxK matrix where each row is an action that favors the neighbour corresponding to row idx\n",
      "A = np.zeros((numStates, k , k))\n",
      "for fIdx in range(numStates) :\n",
      "    tmp = np.repeat(np.reshape(w[fIdx, :], (1, k)), k, axis=0)\n",
      "    ## set action corresponding to ith neighbour to 1\n",
      "    tmp[np.where(np.eye(k)==1)] = 1\n",
      "    ## and renormalize\n",
      "    tmp /= np.repeat(np.reshape(np.sum(tmp, axis=-1), (k, 1)), k, axis=-1) #np.repeat(np.reshape(np.sum(tmp, axis=0), (1, k)), k, axis=0)\n",
      "    A[fIdx, :, :] = np.copy(tmp)\n",
      "\n",
      "## init v to zeros\n",
      "# v = np.load(\"valuefunction.npy\")\n",
      "v = np.zeros((fs.shape[0], possibleTasksToPerform.shape[0]))\n",
      "vTmp = np.copy(v)\n",
      "prevAdditionalReward = 0\n",
      "\n",
      "maxIterations = 20\n",
      "trackingState = 300\n",
      "print \"tracking progression of state\", trackingState\n",
      "print \"neighbours\", neighbours[trackingState, :]\n",
      "for i in range(maxIterations) :\n",
      "    ## for each possible task\n",
      "    print \"best actions\",\n",
      "    for t in range(possibleTasksToPerform.shape[0]) :\n",
      "        ## for each frame state\n",
      "        for fIdx in range(numStates) :\n",
      "            si = {'frameState': fs[fIdx, :, :], 'taskParams': labels[fIdx, :]}\n",
      "            neighsProbs = (1.0/(np.abs(neighbours[fIdx, :]-fIdx-1.0)+1.0))/np.sum(1.0/(np.abs(neighbours[fIdx, :]-fIdx-1.0)+1.0))#probs[fIdx, neighbours[fIdx, :]]/np.sum(probs[fIdx, neighbours[fIdx, :]])\n",
      "            bestA, bestIdx = pi_l(si, A[fIdx, :, :], v[:, t], fIdx, fs, neighbours, labels, possibleTasksToPerform[t, :], neighsProbs, w[fIdx, :])#extraRewards)\n",
      "            \n",
      "            newTaskState, newIdx = integrateTaskState(si, bestA, fs[neighbours[fIdx, :], :, :], 1.0, neighbours[fIdx, :], labels)\n",
      "#             v[fIdx, t] = reward(newTaskState, possibleTasksToPerform[t, :]) + v[newIdx, t]\n",
      "#             vTmp[fIdx, t] = reward(newTaskState, possibleTasksToPerform[t, :], neighsProbs[np.where(neighbours[fIdx, :] == newIdx)]) + v[newIdx, t]\n",
      "            vTmp[fIdx, t] = reward(si, labels[neighbours[fIdx, :], :], bestA, possibleTasksToPerform[t, :], w[fIdx, bestIdx]) + v[newIdx, t]\n",
      "            if fIdx == trackingState :\n",
      "                print bestIdx, \"(\", newIdx, \"),\",\n",
      "    additionalReward = np.linalg.norm(vTmp-v)\n",
      "    print\n",
      "    print i, np.sum(np.linalg.norm(vTmp-v, axis=-1)), np.sum(np.abs(vTmp-v)), additionalReward, additionalReward-prevAdditionalReward, np.min(vTmp), np.max(vTmp), np.sum(vTmp)\n",
      "    print vTmp[trackingState, :]\n",
      "    sys.stdout.flush()\n",
      "    v = np.copy(vTmp)\n",
      "    if additionalReward-prevAdditionalReward == 0.0 :\n",
      "        break\n",
      "    prevAdditionalReward = additionalReward\n"
     ],
     "language": "python",
     "metadata": {},
     "outputs": [
      {
       "output_type": "stream",
       "stream": "stdout",
       "text": [
        "tracking progression of state 300\n",
        "neighbours [301 302 328 327  58 299 528  59  23 576 326 373 348 364 611]\n",
        "best actions "
       ]
      },
      {
       "output_type": "stream",
       "stream": "stdout",
       "text": [
        "8 ( 23 ), "
       ]
      },
      {
       "output_type": "stream",
       "stream": "stdout",
       "text": [
        "0 ( 301 ), "
       ]
      },
      {
       "output_type": "stream",
       "stream": "stdout",
       "text": [
        "0 ( 301 ), "
       ]
      },
      {
       "output_type": "stream",
       "stream": "stdout",
       "text": [
        "0 ( 301 ),\n"
       ]
      },
      {
       "output_type": "stream",
       "stream": "stdout",
       "text": [
        "0 1153.37770891 1591.28764158 32.6098771248 32.6098771248 0.0181676464576 0.934436659893 1591.28764158\n",
        "[ 0.18225043  0.87727936  0.09459661  0.09227779]\n"
       ]
      },
      {
       "output_type": "stream",
       "stream": "stdout",
       "text": [
        "best actions "
       ]
      },
      {
       "output_type": "stream",
       "stream": "stdout",
       "text": [
        "8 ( 23 ), "
       ]
      },
      {
       "output_type": "stream",
       "stream": "stdout",
       "text": [
        "0 ( 301 ), "
       ]
      },
      {
       "output_type": "stream",
       "stream": "stdout",
       "text": [
        "7 ( 59 ), "
       ]
      },
      {
       "output_type": "stream",
       "stream": "stdout",
       "text": [
        "0 ( 301 ),\n"
       ]
      },
      {
       "output_type": "stream",
       "stream": "stdout",
       "text": [
        "1 1279.87344276 1922.37237858 36.7732331788 4.163356054 0.04773898098 1.8491361686 3513.66002016\n",
        "[ 0.48119031  1.75131896  0.59441552  0.18897719]\n"
       ]
      },
      {
       "output_type": "stream",
       "stream": "stdout",
       "text": [
        "best actions "
       ]
      },
      {
       "output_type": "stream",
       "stream": "stdout",
       "text": [
        "7 ( 59 ), "
       ]
      },
      {
       "output_type": "stream",
       "stream": "stdout",
       "text": [
        "0 ( 301 ), "
       ]
      },
      {
       "output_type": "stream",
       "stream": "stdout",
       "text": [
        "7 ( 59 ), "
       ]
      },
      {
       "output_type": "stream",
       "stream": "stdout",
       "text": [
        "0 ( 301 ),\n"
       ]
      },
      {
       "output_type": "stream",
       "stream": "stdout",
       "text": [
        "2 1422.26676276 2322.20057124 41.2379759205 4.46474274174 0.0765490910036 2.74419663258 5835.8605914\n",
        "[ 0.95761397  2.60601003  1.40006157  0.29046866]\n"
       ]
      },
      {
       "output_type": "stream",
       "stream": "stdout",
       "text": [
        "best actions "
       ]
      },
      {
       "output_type": "stream",
       "stream": "stdout",
       "text": [
        "7 ( 59 ), "
       ]
      },
      {
       "output_type": "stream",
       "stream": "stdout",
       "text": [
        "0 ( 301 ), "
       ]
      },
      {
       "output_type": "stream",
       "stream": "stdout",
       "text": [
        "7 ( 59 ), "
       ]
      },
      {
       "output_type": "stream",
       "stream": "stdout",
       "text": [
        "12 ( 348 ),\n"
       ]
      },
      {
       "output_type": "stream",
       "stream": "stdout",
       "text": [
        "3 1610.3234632 2842.85932943 46.5319730509 5.29399713035 0.110419729735 3.63850163023 8678.71992083\n",
        "[ 1.77819828  3.47210811  2.26683121  0.71835935]\n"
       ]
      },
      {
       "output_type": "stream",
       "stream": "stdout",
       "text": [
        "best actions "
       ]
      },
      {
       "output_type": "stream",
       "stream": "stdout",
       "text": [
        "7 ( 59 ), "
       ]
      },
      {
       "output_type": "stream",
       "stream": "stdout",
       "text": [
        "13 ( 364 ), "
       ]
      },
      {
       "output_type": "stream",
       "stream": "stdout",
       "text": [
        "7 ( 59 ), "
       ]
      },
      {
       "output_type": "stream",
       "stream": "stdout",
       "text": [
        "12 ( 348 ),\n"
       ]
      },
      {
       "output_type": "stream",
       "stream": "stdout",
       "text": [
        "4 1812.9637476 3389.8192312 51.8487922038 5.3168191529 0.156972143291 4.54384811517 12068.539152\n",
        "[ 2.60427417  4.35327559  3.14572527  1.48466289]\n"
       ]
      },
      {
       "output_type": "stream",
       "stream": "stdout",
       "text": [
        "best actions "
       ]
      },
      {
       "output_type": "stream",
       "stream": "stdout",
       "text": [
        "7 ( 59 ), "
       ]
      },
      {
       "output_type": "stream",
       "stream": "stdout",
       "text": [
        "0 ( 301 ), "
       ]
      },
      {
       "output_type": "stream",
       "stream": "stdout",
       "text": [
        "7 ( 59 ), "
       ]
      },
      {
       "output_type": "stream",
       "stream": "stdout",
       "text": [
        "12 ( 348 ),\n"
       ]
      },
      {
       "output_type": "stream",
       "stream": "stdout",
       "text": [
        "5 2002.26341302 3900.74428237 56.6169570855 4.76816488176 0.213054446734 5.44791869424 15969.2834344\n",
        "[ 3.42951873  5.22496482  4.04244996  2.30337873]\n"
       ]
      },
      {
       "output_type": "stream",
       "stream": "stdout",
       "text": [
        "best actions "
       ]
      },
      {
       "output_type": "stream",
       "stream": "stdout",
       "text": [
        "7 ( 59 ), "
       ]
      },
      {
       "output_type": "stream",
       "stream": "stdout",
       "text": [
        "0 ( 301 ), "
       ]
      },
      {
       "output_type": "stream",
       "stream": "stdout",
       "text": [
        "7 ( 59 ), "
       ]
      },
      {
       "output_type": "stream",
       "stream": "stdout",
       "text": [
        "12 ( 348 ),\n"
       ]
      },
      {
       "output_type": "stream",
       "stream": "stdout",
       "text": [
        "6 2140.75390603 4257.82021136 60.1427457571 3.52578867158 0.278067648105 6.34390238577 20227.1036458\n",
        "[ 4.24555257  6.12238945  4.94428247  3.14650859]\n"
       ]
      },
      {
       "output_type": "stream",
       "stream": "stdout",
       "text": [
        "best actions "
       ]
      },
      {
       "output_type": "stream",
       "stream": "stdout",
       "text": [
        "7 ( 59 ), "
       ]
      },
      {
       "output_type": "stream",
       "stream": "stdout",
       "text": [
        "0 ( 301 ), "
       ]
      },
      {
       "output_type": "stream",
       "stream": "stdout",
       "text": [
        "7 ( 59 ), "
       ]
      },
      {
       "output_type": "stream",
       "stream": "stdout",
       "text": [
        "12 ( 348 ),\n"
       ]
      },
      {
       "output_type": "stream",
       "stream": "stdout",
       "text": [
        "7 2196.73026629 4390.72077471 61.6257083107 1.48296255359 0.774409551673 7.23710818905 24617.8244205\n",
        "[ 5.09973898  7.02216892  5.76520457  4.00842968]\n"
       ]
      },
      {
       "output_type": "stream",
       "stream": "stdout",
       "text": [
        "best actions "
       ]
      },
      {
       "output_type": "stream",
       "stream": "stdout",
       "text": [
        "7 ( 59 ), "
       ]
      },
      {
       "output_type": "stream",
       "stream": "stdout",
       "text": [
        "0 ( 301 ), "
       ]
      },
      {
       "output_type": "stream",
       "stream": "stdout",
       "text": [
        "7 ( 59 ), "
       ]
      },
      {
       "output_type": "stream",
       "stream": "stdout",
       "text": [
        "12 ( 348 ),\n"
       ]
      },
      {
       "output_type": "stream",
       "stream": "stdout",
       "text": [
        "8 2209.83607218 4418.20116312 61.9877362838 0.362027973127 1.54071308882 8.11613177053 29036.0255836\n",
        "[ 5.98385714  7.91745715  6.64785752  4.87770941]\n"
       ]
      },
      {
       "output_type": "stream",
       "stream": "stdout",
       "text": [
        "best actions "
       ]
      },
      {
       "output_type": "stream",
       "stream": "stdout",
       "text": [
        "7 ( 59 ), "
       ]
      },
      {
       "output_type": "stream",
       "stream": "stdout",
       "text": [
        "0 ( 301 ), "
       ]
      },
      {
       "output_type": "stream",
       "stream": "stdout",
       "text": [
        "7 ( 59 ), "
       ]
      },
      {
       "output_type": "stream",
       "stream": "stdout",
       "text": [
        "12 ( 348 ),\n"
       ]
      },
      {
       "output_type": "stream",
       "stream": "stdout",
       "text": [
        "9 2215.51791477 4429.95286075 62.146799243 0.159062959181 2.3594289307 8.98972592176 33465.9784443\n",
        "[ 6.84774042  8.80101757  7.49672026  5.75608956]\n"
       ]
      },
      {
       "output_type": "stream",
       "stream": "stdout",
       "text": [
        "best actions "
       ]
      },
      {
       "output_type": "stream",
       "stream": "stdout",
       "text": [
        "7 ( 59 ), "
       ]
      },
      {
       "output_type": "stream",
       "stream": "stdout",
       "text": [
        "0 ( 301 ), "
       ]
      },
      {
       "output_type": "stream",
       "stream": "stdout",
       "text": [
        "7 ( 59 ), "
       ]
      },
      {
       "output_type": "stream",
       "stream": "stdout",
       "text": [
        "12 ( 348 ),\n"
       ]
      },
      {
       "output_type": "stream",
       "stream": "stdout",
       "text": [
        "10 2213.62242614 4426.35796167 62.0932051123 -0.0535941307421 3.20255879504 9.87001339823 37892.336406\n",
        "[ 7.71045209  9.68540037  8.35143258  6.63861182]\n"
       ]
      },
      {
       "output_type": "stream",
       "stream": "stdout",
       "text": [
        "best actions "
       ]
      },
      {
       "output_type": "stream",
       "stream": "stdout",
       "text": [
        "7 ( 59 ), "
       ]
      },
      {
       "output_type": "stream",
       "stream": "stdout",
       "text": [
        "0 ( 301 ), "
       ]
      },
      {
       "output_type": "stream",
       "stream": "stdout",
       "text": [
        "7 ( 59 ), "
       ]
      },
      {
       "output_type": "stream",
       "stream": "stdout",
       "text": [
        "12 ( 348 ),\n"
       ]
      },
      {
       "output_type": "stream",
       "stream": "stdout",
       "text": [
        "11 2212.52381155 4424.34989238 62.0617030093 -0.0315021029643 4.06447987987 10.7532458225 42316.6862984\n",
        "[  8.5790431   10.57048119   9.20029531   7.51565766]\n"
       ]
      },
      {
       "output_type": "stream",
       "stream": "stdout",
       "text": [
        "best actions "
       ]
      },
      {
       "output_type": "stream",
       "stream": "stdout",
       "text": [
        "7 ( 59 ), "
       ]
      },
      {
       "output_type": "stream",
       "stream": "stdout",
       "text": [
        "11 ( 373 ), "
       ]
      },
      {
       "output_type": "stream",
       "stream": "stdout",
       "text": [
        "7 ( 59 ), "
       ]
      },
      {
       "output_type": "stream",
       "stream": "stdout",
       "text": [
        "12 ( 348 ),\n"
       ]
      },
      {
       "output_type": "stream",
       "stream": "stdout",
       "text": [
        "12 2212.67286311 4424.72125906 62.0654681891 0.00376517981734 4.93375961548 11.6381638188 46741.4075574\n",
        "[  9.45723487  11.46812808  10.05500763   8.37175077]\n"
       ]
      },
      {
       "output_type": "stream",
       "stream": "stdout",
       "text": [
        "best actions "
       ]
      },
      {
       "output_type": "stream",
       "stream": "stdout",
       "text": [
        "7 ( 59 ), "
       ]
      },
      {
       "output_type": "stream",
       "stream": "stdout",
       "text": [
        "11 ( 373 ), "
       ]
      },
      {
       "output_type": "stream",
       "stream": "stdout",
       "text": [
        "7 ( 59 ), "
       ]
      },
      {
       "output_type": "stream",
       "stream": "stdout",
       "text": [
        "12 ( 348 ),\n"
       ]
      },
      {
       "output_type": "stream",
       "stream": "stdout",
       "text": [
        "13 2211.32463099 4422.04488973 62.0276414679 -0.0378267212595 5.81213975996 12.5247599126 51163.4524472\n",
        "[ 10.33294086  12.37114127  10.90387037   9.2325606 ]\n"
       ]
      },
      {
       "output_type": "stream",
       "stream": "stdout",
       "text": [
        "best actions "
       ]
      },
      {
       "output_type": "stream",
       "stream": "stdout",
       "text": [
        "7 ( 59 ), "
       ]
      },
      {
       "output_type": "stream",
       "stream": "stdout",
       "text": [
        "11 ( 373 ), "
       ]
      },
      {
       "output_type": "stream",
       "stream": "stdout",
       "text": [
        "7 ( 59 ), "
       ]
      },
      {
       "output_type": "stream",
       "stream": "stdout",
       "text": [
        "12 ( 348 ),\n"
       ]
      },
      {
       "output_type": "stream",
       "stream": "stdout",
       "text": [
        "14 2210.9603231 4421.28494135 62.0173718347 -0.0102696331667 6.69466202018 13.408989647 55584.7373885\n",
        "[ 11.20928036  13.27265148  11.75858269  10.09423032]\n"
       ]
      },
      {
       "output_type": "stream",
       "stream": "stdout",
       "text": [
        "best actions "
       ]
      },
      {
       "output_type": "stream",
       "stream": "stdout",
       "text": [
        "7 ( 59 ), "
       ]
      },
      {
       "output_type": "stream",
       "stream": "stdout",
       "text": [
        "11 ( 373 ), "
       ]
      },
      {
       "output_type": "stream",
       "stream": "stdout",
       "text": [
        "7 ( 59 ), "
       ]
      },
      {
       "output_type": "stream",
       "stream": "stdout",
       "text": [
        "12 ( 348 ),\n"
       ]
      },
      {
       "output_type": "stream",
       "stream": "stdout",
       "text": [
        "15 2211.55832839 4422.48769697 62.034125312 0.0167534772546 7.57170786457 14.2922220713 60007.2250855\n",
        "[ 12.09965895  14.15688121  12.60744542  10.95779189]\n"
       ]
      },
      {
       "output_type": "stream",
       "stream": "stdout",
       "text": [
        "best actions "
       ]
      },
      {
       "output_type": "stream",
       "stream": "stdout",
       "text": [
        "7 ( 59 ), "
       ]
      },
      {
       "output_type": "stream",
       "stream": "stdout",
       "text": [
        "11 ( 373 ), "
       ]
      },
      {
       "output_type": "stream",
       "stream": "stdout",
       "text": [
        "7 ( 59 ), "
       ]
      },
      {
       "output_type": "stream",
       "stream": "stdout",
       "text": [
        "12 ( 348 ),\n"
       ]
      },
      {
       "output_type": "stream",
       "stream": "stdout",
       "text": [
        "16 2211.05332422 4421.49817081 62.0199089826 -0.0142163293123 8.42780097804 15.1774090005 64428.7232563\n",
        "[ 12.98070947  15.04011364  13.46215774  11.8226141 ]\n"
       ]
      },
      {
       "output_type": "stream",
       "stream": "stdout",
       "text": [
        "best actions "
       ]
      },
      {
       "output_type": "stream",
       "stream": "stdout",
       "text": [
        "7 ( 59 ), "
       ]
      },
      {
       "output_type": "stream",
       "stream": "stdout",
       "text": [
        "11 ( 373 ), "
       ]
      },
      {
       "output_type": "stream",
       "stream": "stdout",
       "text": [
        "7 ( 59 ), "
       ]
      },
      {
       "output_type": "stream",
       "stream": "stdout",
       "text": [
        "12 ( 348 ),\n"
       ]
      },
      {
       "output_type": "stream",
       "stream": "stdout",
       "text": [
        "17 2209.91338071 4419.22097747 61.9879855126 -0.0319234700825 9.28861080232 16.056432582 68847.9442338\n",
        "[ 13.85916405  15.91229919  14.31102048  12.6881474 ]\n"
       ]
      },
      {
       "output_type": "stream",
       "stream": "stdout",
       "text": [
        "best actions "
       ]
      },
      {
       "output_type": "stream",
       "stream": "stdout",
       "text": [
        "7 ( 59 ), "
       ]
      },
      {
       "output_type": "stream",
       "stream": "stdout",
       "text": [
        "11 ( 373 ), "
       ]
      },
      {
       "output_type": "stream",
       "stream": "stdout",
       "text": [
        "7 ( 59 ), "
       ]
      },
      {
       "output_type": "stream",
       "stream": "stdout",
       "text": [
        "12 ( 348 ),\n"
       ]
      },
      {
       "output_type": "stream",
       "stream": "stdout",
       "text": [
        "18 2209.8242451 4419.02036007 61.9855491779 -0.00243633466713 10.1502805276 16.9384886106 73266.9645938\n",
        "[ 14.73471674  16.77596789  15.1657328   13.55888352]\n"
       ]
      },
      {
       "output_type": "stream",
       "stream": "stdout",
       "text": [
        "best actions "
       ]
      },
      {
       "output_type": "stream",
       "stream": "stdout",
       "text": [
        "7 ( 59 ), "
       ]
      },
      {
       "output_type": "stream",
       "stream": "stdout",
       "text": [
        "11 ( 373 ), "
       ]
      },
      {
       "output_type": "stream",
       "stream": "stdout",
       "text": [
        "7 ( 59 ), "
       ]
      },
      {
       "output_type": "stream",
       "stream": "stdout",
       "text": [
        "12 ( 348 ),\n"
       ]
      },
      {
       "output_type": "stream",
       "stream": "stdout",
       "text": [
        "19 2210.43369692 4420.23382559 62.002609804 0.0170606260735 11.0138420955 17.822718345 77687.1984194\n",
        "[ 15.60867236  17.6774781   16.01459554  14.40115534]\n"
       ]
      }
     ],
     "prompt_number": 85
    },
    {
     "cell_type": "code",
     "collapsed": false,
     "input": [
      "print labels[300, :]\n",
      "print v[neighbours[300, :], :]\n",
      "print labels[326, :]\n",
      "print labels[575, :]\n",
      "print labels[327, :]\n",
      "print labels[58, :]\n",
      "print v[575, :]\n",
      "print neighbours[58, :]\n",
      "print v[neighbours[58, :], :]\n",
      "print neighbours[228, :]\n",
      "print v[neighbours[228, :], :]\n",
      "print neighbours[111, :]\n",
      "print v[neighbours[111, :], :]\n",
      "print neighbours[501, :]\n",
      "print v[neighbours[501, :], :]\n",
      "print neighbours[502, :]\n",
      "print v[neighbours[502, :], :]\n",
      "print neighbours[503, :]\n",
      "print v[neighbours[503, :], :]"
     ],
     "language": "python",
     "metadata": {},
     "outputs": [
      {
       "output_type": "stream",
       "stream": "stdout",
       "text": [
        "[  1.17776805e-02   9.85844890e-01   2.17874471e-03   1.98684695e-04]\n",
        "[[ 19.71484988  31.35912397  21.15275583  19.46139829]\n",
        " [ 25.4681684   31.42434654  28.8024927   26.09223607]\n",
        " [ 25.27738111  31.98237927  23.36375643  21.32274053]\n",
        " [ 20.92793535  31.99028994  23.36375643  21.32289851]\n",
        " [ 25.27738111  31.99028994  25.21734576  21.7346335 ]\n",
        " [ 19.58766198  31.97442704  23.36300424  21.73456366]\n",
        " [ 25.40283573  30.83572473  29.08969732  26.09223607]\n",
        " [ 20.34128394  31.84300589  20.8314705   21.32269431]\n",
        " [ 20.45609738  31.99028994  23.36375643  21.73456366]\n",
        " [ 19.58225777  31.97471918  22.97090616  19.95763027]\n",
        " [ 25.50045929  29.43001186  29.74296653  26.35074874]\n",
        " [ 19.20969236  30.88812164  20.86289163  16.2344167 ]\n",
        " [ 21.66469166  31.85024844  23.36296736  19.46466886]\n",
        " [ 25.50045929  31.00185535  27.85081608  26.09223607]\n",
        " [ 19.08781361  31.0994431   20.86247499  16.23439504]]\n",
        "[ 0.0780682   0.90629589  0.01421407  0.00142184]\n",
        "[  1.10207706e-03   9.98837485e-01   5.60356369e-05   4.40256947e-06]\n",
        "[ 0.06691058  0.91536455  0.01611969  0.00160518]\n",
        "[ 0.0679896   0.9142582   0.01602579  0.00172641]\n",
        "[ 20.34128394  31.84300589  20.8314705   21.32269431]\n",
        "[327  57 328 326  59 301 300 325 228 348 679 528 770 678 302]\n",
        "[[ 25.50045929  31.00185535  27.85081608  26.09223607]\n",
        " [ 25.4681684   29.26166856  28.8024927   26.09223607]\n",
        " [ 25.4681684   31.15744962  29.74296653  26.09223607]\n",
        " [ 25.40283573  30.83572473  29.08969732  26.09223607]\n",
        " [ 22.71550325  29.5659946   27.14094647  26.09223607]\n",
        " [ 25.4681684   31.42434654  28.8024927   26.09223607]\n",
        " [ 25.4681684   31.38743419  28.8024927   26.09223607]\n",
        " [ 25.42515097  30.64831651  29.08969732  23.87800898]\n",
        " [ 25.66678604  27.83579041  29.8938287   26.36544618]\n",
        " [ 25.68787806  30.9770377   29.26370826  25.25411292]\n",
        " [ 25.4681684   31.87292552  29.26370826  26.09223607]\n",
        " [ 25.27738111  31.99028994  25.21734576  21.7346335 ]\n",
        " [ 25.68787806  31.34955955  29.32452064  25.25908529]\n",
        " [ 25.50045929  31.86143869  29.08969732  21.7346335 ]\n",
        " [ 22.70656522  31.479987    29.26370826  25.25411292]]\n",
        "[229 227 866  58 801 867 327 230 182 802 183 865  57 242 241]\n",
        "[[ 27.43046437  29.59601592  29.87528749  29.30734251]\n",
        " [ 28.70950314  30.64831651  28.92629781  26.35074874]\n",
        " [ 29.20835295  29.59601592  29.5158412   28.18080098]\n",
        " [ 25.50045929  29.43001186  29.74296653  26.35074874]\n",
        " [ 24.96902695  30.38894765  31.0738733   29.81618858]\n",
        " [ 27.43046437  29.59601592  30.06304481  31.27432309]\n",
        " [ 25.50045929  31.00185535  27.85081608  26.09223607]\n",
        " [ 23.28948162  31.34955955  29.26751889  27.97927544]\n",
        " [ 27.47085327  30.83572473  31.61429788  24.86222853]\n",
        " [ 26.92124348  31.15544951  29.27202614  28.18080098]\n",
        " [ 27.99992477  26.91225708  29.90446393  24.86251091]\n",
        " [ 30.7051389   29.26166856  29.59440027  29.30734251]\n",
        " [ 25.4681684   29.26166856  28.8024927   26.09223607]\n",
        " [ 25.54970587  27.84853578  29.33291125  28.47666226]\n",
        " [ 25.6841853   30.38894765  31.0738733   28.40876527]]\n",
        "[112 114 110 115 113 108 168 109 169 165 167 164 166 107 116]\n",
        "[[ 31.97075766  21.18931811  25.07891405  20.20019862]\n",
        " [ 31.93603058  21.21034919  25.07891405  20.20019862]\n",
        " [ 32.          21.21049297  25.05213633  20.20004706]\n",
        " [ 31.91796138  21.21034919  20.54179349  20.14127866]\n",
        " [ 31.95383572  21.20987498  25.07891405  19.00465081]\n",
        " [ 31.9989547   21.18931811  24.3912341   20.14127218]\n",
        " [ 31.0157419   21.20987498  22.81878962  19.00455925]\n",
        " [ 32.          21.21049297  24.3912341   20.14127218]\n",
        " [ 31.01139225  21.20987498  25.05124349  20.20004226]\n",
        " [ 29.32040366  21.61731703  25.05124349  20.20004226]\n",
        " [ 29.32344446  17.17155269  25.07891405  20.20019862]\n",
        " [ 29.315983    21.61731703  27.03089802  19.00458928]\n",
        " [ 31.01666202  21.61731703  27.03089802  21.39832294]\n",
        " [ 31.99759662  21.18947027  23.94568103  17.01370227]\n",
        " [ 31.89980282  21.21034919  20.54179349  20.14127866]]\n",
        "[512 537 538 489 500 511 502 525 573 478 477 524 513 490 572]\n",
        "[[ 19.02245278  31.92848941  22.9725893   19.95755936]\n",
        " [ 19.01251493  31.904655    21.11158897  15.45880743]\n",
        " [ 19.01346634  31.90060478  21.11187941  15.45938993]\n",
        " [ 19.97888384  31.99157803  21.11188081  15.45940033]\n",
        " [ 19.01156105  31.95808467  21.11158897  15.45880474]\n",
        " [ 19.01837403  31.9352964   21.11158897  15.45881742]\n",
        " [ 20.8619299   31.94551875  22.97229397  15.45878297]\n",
        " [ 19.35501705  31.97216129  21.11248907  19.95755936]\n",
        " [ 19.65445626  31.83926061  21.11188081  19.95755936]\n",
        " [ 19.03119489  31.95119931  22.97229397  19.95755936]\n",
        " [ 19.02744797  31.94426269  23.45368996  15.45940033]\n",
        " [ 19.34873844  31.96967522  21.11157281  15.45888747]\n",
        " [ 19.02121769  31.93160586  20.86190253  15.45879504]\n",
        " [ 19.65868678  31.99157803  22.97224556  19.95759341]\n",
        " [ 19.3473591   31.83817996  21.11154805  15.45878775]]\n",
        "[538 513 539 501 512 479 561 503 490 478 547 448 574 491 514]\n",
        "[[ 19.01346634  31.90060478  21.11187941  15.45938993]\n",
        " [ 19.02121769  31.93160586  20.86190253  15.45879504]\n",
        " [ 24.3057167   31.89891901  22.97229397  15.45881823]\n",
        " [ 19.00905125  31.95056147  21.11187941  15.45880474]\n",
        " [ 19.02245278  31.92848941  22.9725893   19.95755936]\n",
        " [ 19.02705448  31.96197286  20.86197694  21.32289851]\n",
        " [ 21.55738421  31.98645648  22.97229397  19.95756143]\n",
        " [ 19.01529377  31.94327509  22.97229397  16.23442292]\n",
        " [ 19.65868678  31.99157803  22.97224556  19.95759341]\n",
        " [ 19.03119489  31.95119931  22.97229397  19.95755936]\n",
        " [ 24.3057167   31.89295326  21.1371807   15.45880971]\n",
        " [ 19.05629121  31.65508434  22.96982589  19.95760622]\n",
        " [ 21.55738421  31.84068086  22.96993223  19.95758877]\n",
        " [ 20.8619299   31.98571632  23.36272827  21.32268944]\n",
        " [ 19.02215036  31.9374766   22.97229397  19.46746247]]\n",
        "[539 514 562 480 540 502 513 504 449 479 548 491 621 492 515]\n",
        "[[ 24.3057167   31.89891901  22.97229397  15.45881823]\n",
        " [ 19.02215036  31.9374766   22.97229397  19.46746247]\n",
        " [ 20.87177752  31.98040739  22.97229397  19.46746247]\n",
        " [ 19.0248952   31.97042261  20.86189263  19.46746247]\n",
        " [ 24.3057167   31.89675542  21.1371807   15.45878928]\n",
        " [ 20.8619299   31.94551875  22.97229397  15.45878297]\n",
        " [ 19.02121769  31.93160586  20.86190253  15.45879504]\n",
        " [ 24.3057167   31.9416299   22.96982016  15.45878735]\n",
        " [ 19.02168581  31.65838225  21.13743932  21.32268524]\n",
        " [ 19.02705448  31.96197286  20.86197694  21.32289851]\n",
        " [ 24.3057167   31.89422297  21.1371807   15.10680735]\n",
        " [ 20.8619299   31.98571632  23.36272827  21.32268944]\n",
        " [ 19.02109383  31.96785866  23.3632532   19.46752157]\n",
        " [ 20.87375822  31.97642954  23.36303711  21.32269431]\n",
        " [ 19.02560288  31.94147576  22.96982016  15.4587905 ]]\n"
       ]
      }
     ],
     "prompt_number": 72
    },
    {
     "cell_type": "code",
     "collapsed": false,
     "input": [
      "print fIdx, newIdx\n",
      "print neighsProbs\n",
      "print neighbours[fIdx, :]\n",
      "print np.where(neighbours[fIdx, :] == newIdx)\n",
      "print (1.0/(np.abs(neighbours[fIdx, :]-fIdx-1.0)+1.0))/np.sum(1.0/(np.abs(neighbours[fIdx, :]-fIdx-1.0)+1.0))\n",
      "print probs[fIdx, neighbours[fIdx, :]]/np.sum(probs[fIdx, neighbours[fIdx, :]])"
     ],
     "language": "python",
     "metadata": {},
     "outputs": [
      {
       "output_type": "stream",
       "stream": "stdout",
       "text": [
        "826 843\n",
        "[  2.34837947e-05   9.98810823e-01   4.41020774e-04   9.72460197e-06\n",
        "   6.79081866e-04   3.81871374e-09   5.97391782e-08   2.79431362e-08\n",
        "   2.64516724e-07   2.39568827e-07   5.14322612e-06   6.02598069e-08\n",
        "   3.00164198e-05   4.28958829e-08   7.17861588e-09]\n",
        "[907 827 825 792 908 906 793 791 828 762 883 882 905 909 790]\n",
        "(array([], dtype=int64),)\n",
        "[ 0.00600668  0.48654104  0.16218035  0.01351503  0.00593343  0.00608176\n",
        "  0.01390117  0.01314976  0.24327052  0.00737183  0.00853581  0.00868823\n",
        "  0.00615875  0.00586194  0.01280371]\n",
        "[  9.44809209e-07   9.97371260e-01   1.21685058e-10   5.71486957e-06\n",
        "   1.38214039e-03   2.09696792e-11   5.70543359e-04   3.98261498e-09\n",
        "   6.66875454e-04   1.28543921e-16   4.87540637e-08   1.04448396e-17\n",
        "   6.54373599e-22   2.46791308e-06   9.40929579e-20]\n"
       ]
      }
     ],
     "prompt_number": 97
    },
    {
     "cell_type": "code",
     "collapsed": false,
     "input": [
      "## plot v\n",
      "paperV = False\n",
      "fullV = True\n",
      "# if paperV :\n",
      "#     v = np.load(\"valuefunction_paper.npy\")\n",
      "# else :\n",
      "#     if fullV :\n",
      "#         v = np.load(\"valuefunction_mine_full.npy\")\n",
      "#     else :\n",
      "#         v = np.load(\"valuefunction_mine.npy\")\n",
      "    \n",
      "figure(); plot(range(numStates), v[:, 0], 'r', range(numStates), v[:, 1], 'g', range(numStates), v[:, 2], 'b', range(numStates), v[:, 3], 'm')\n",
      "\n",
      "# if paperV :\n",
      "#     np.save(\"valuefunction_paper.npy\", v)\n",
      "# else :\n",
      "#     if fullV :\n",
      "#         np.save(\"valuefunction_mine_full.npy\", v)\n",
      "# #         np.save(\"valuefunction_mine_extra.npy\", v)\n",
      "#     else :\n",
      "#         np.save(\"valuefunction_mine.npy\", v)"
     ],
     "language": "python",
     "metadata": {},
     "outputs": [
      {
       "metadata": {},
       "output_type": "pyout",
       "prompt_number": 32,
       "text": [
        "[<matplotlib.lines.Line2D at 0x7f0df8536190>,\n",
        " <matplotlib.lines.Line2D at 0x7f0df8536410>,\n",
        " <matplotlib.lines.Line2D at 0x7f0df8536ad0>,\n",
        " <matplotlib.lines.Line2D at 0x7f0df8543150>]"
       ]
      }
     ],
     "prompt_number": 32
    },
    {
     "cell_type": "code",
     "collapsed": false,
     "input": [
      " ## try and sample, see what happens....\n",
      "\n",
      "taskIdx = 2\n",
      "taskToPerform = possibleTasksToPerform[taskIdx, :]\n",
      "# taskToPerform = np.array([1, 0, 0, 0])\n",
      "print \"task to perform:\", taskToPerform\n",
      "startIdx = 234\n",
      "print \"starting from\", startIdx, \"with task params\", labels[startIdx, :]\n",
      "# extraRewards = np.zeros((numStates, numStates))\n",
      "\n",
      "totalFrames = 100\n",
      "currentIdx = startIdx\n",
      "for i in range(totalFrames) :\n",
      "    s = {'frameState': fs[currentIdx, :, :], 'taskParams': labels[currentIdx, :]}\n",
      "    neighsProbs = (1.0/(np.abs(neighbours[fIdx, :]-fIdx-1.0)+1.0))/np.sum(1.0/(np.abs(neighbours[fIdx, :]-fIdx-1.0)+1.0))#probs[currentIdx, neighbours[currentIdx, :]]/np.sum(probs[currentIdx, neighbours[currentIdx, :]])\n",
      "    bestA, bestAIdx = pi_l(s, A[currentIdx, :, :], np.sum(np.repeat(taskToPerform.reshape((1, len(taskToPerform))), numStates, axis=0)*v, axis=-1), currentIdx, fs, neighbours, labels, taskToPerform, neighsProbs, w[currentIdx, :])\n",
      "#     print bestA\n",
      "#     print neighbours[currentIdx, :], neighbours[currentIdx, np.argmax(probs[currentIdx, neighbours[currentIdx, :]])]\n",
      "#     print probs[currentIdx, neighbours[currentIdx, :]]\n",
      "#     print probs[currentIdx, neighbours[currentIdx, :]]*bestA, np.argmax(probs[currentIdx, neighbours[currentIdx, :]]*bestA), neighbours[currentIdx, np.argmax(probs[currentIdx, neighbours[currentIdx, :]]*bestA)]\n",
      "#     tmp = probs[currentIdx, neighbours[currentIdx, :]]\n",
      "#     tmp /= np.sum(tmp)\n",
      "#     bob = 0.8\n",
      "#     newAction = ((1.0-bob)*tmp) * (bob*bestA)\n",
      "#     newAction /= np.sum(newAction)\n",
      "    newTaskState, newIdx = integrateTaskState(s, bestA, fs[neighbours[currentIdx, :], :, :], 1.0, neighbours[currentIdx, :], labels)\n",
      "#     newTaskState, newIdx = integrateTaskState(s, newAction, fs[neighbours[currentIdx, :], :, :], 1.0, neighbours[currentIdx, :], labels)\n",
      "    print newIdx, newTaskState['taskParams']\n",
      "    currentIdx = np.copy(newIdx)\n",
      "#     print newTaskState"
     ],
     "language": "python",
     "metadata": {},
     "outputs": [
      {
       "output_type": "stream",
       "stream": "stdout",
       "text": [
        "task to perform: [ 0.  0.  1.  0.]\n",
        "starting from 234 with task params [ 0.16100772  0.27794343  0.42633532  0.13471353]\n",
        "794 [ 0.00152488  0.00186587  0.98873329  0.00787596]\n",
        "795 [ 0.00320689  0.00333162  0.97619987  0.01726161]\n",
        "796 [ 0.00632285  0.00334713  0.95158473  0.0387453 ]\n",
        "797 [ 0.0048241   0.00163981  0.96547137  0.02806473]\n",
        "798 [  1.12212854e-03   4.27333714e-04   9.93452830e-01   4.99770765e-03]\n",
        "845 [  2.67345796e-04   3.69668850e-04   9.99164497e-01   1.98488432e-04]\n",
        "846 [  4.56061567e-04   9.36534715e-04   9.98200534e-01   4.06870124e-04]\n",
        "847 [  5.89568104e-04   1.47343837e-03   9.97358802e-01   5.78191940e-04]\n",
        "848 [  8.53857668e-04   2.92859456e-03   9.95075237e-01   1.14231071e-03]\n",
        "847 [  5.89568104e-04   1.47343837e-03   9.97358802e-01   5.78191940e-04]\n",
        "848 [  8.53857668e-04   2.92859456e-03   9.95075237e-01   1.14231071e-03]\n",
        "847 [  5.89568104e-04   1.47343837e-03   9.97358802e-01   5.78191940e-04]\n",
        "848 [  8.53857668e-04   2.92859456e-03   9.95075237e-01   1.14231071e-03]\n",
        "847 [  5.89568104e-04   1.47343837e-03   9.97358802e-01   5.78191940e-04]\n",
        "848 [  8.53857668e-04   2.92859456e-03   9.95075237e-01   1.14231071e-03]\n",
        "847 [  5.89568104e-04   1.47343837e-03   9.97358802e-01   5.78191940e-04]\n",
        "848 [  8.53857668e-04   2.92859456e-03   9.95075237e-01   1.14231071e-03]\n",
        "847 [  5.89568104e-04   1.47343837e-03   9.97358802e-01   5.78191940e-04]\n",
        "848 [  8.53857668e-04   2.92859456e-03   9.95075237e-01   1.14231071e-03]\n",
        "847 [  5.89568104e-04   1.47343837e-03   9.97358802e-01   5.78191940e-04]\n",
        "848 [  8.53857668e-04   2.92859456e-03   9.95075237e-01   1.14231071e-03]\n",
        "847 [  5.89568104e-04   1.47343837e-03   9.97358802e-01   5.78191940e-04]\n",
        "848 [  8.53857668e-04   2.92859456e-03   9.95075237e-01   1.14231071e-03]\n",
        "847 [  5.89568104e-04   1.47343837e-03   9.97358802e-01   5.78191940e-04]\n",
        "848 [  8.53857668e-04   2.92859456e-03   9.95075237e-01   1.14231071e-03]\n",
        "847 [  5.89568104e-04   1.47343837e-03   9.97358802e-01   5.78191940e-04]\n",
        "848 [  8.53857668e-04   2.92859456e-03   9.95075237e-01   1.14231071e-03]\n",
        "847"
       ]
      },
      {
       "output_type": "stream",
       "stream": "stdout",
       "text": [
        " [  5.89568104e-04   1.47343837e-03   9.97358802e-01   5.78191940e-04]\n",
        "848 [  8.53857668e-04   2.92859456e-03   9.95075237e-01   1.14231071e-03]\n",
        "847 [  5.89568104e-04   1.47343837e-03   9.97358802e-01   5.78191940e-04]\n",
        "848 [  8.53857668e-04   2.92859456e-03   9.95075237e-01   1.14231071e-03]\n",
        "847 [  5.89568104e-04   1.47343837e-03   9.97358802e-01   5.78191940e-04]\n",
        "848 [  8.53857668e-04   2.92859456e-03   9.95075237e-01   1.14231071e-03]\n",
        "847 [  5.89568104e-04   1.47343837e-03   9.97358802e-01   5.78191940e-04]\n",
        "848 [  8.53857668e-04   2.92859456e-03   9.95075237e-01   1.14231071e-03]\n",
        "847 [  5.89568104e-04   1.47343837e-03   9.97358802e-01   5.78191940e-04]\n",
        "848 [  8.53857668e-04   2.92859456e-03   9.95075237e-01   1.14231071e-03]\n",
        "847 [  5.89568104e-04   1.47343837e-03   9.97358802e-01   5.78191940e-04]\n",
        "848 [  8.53857668e-04   2.92859456e-03   9.95075237e-01   1.14231071e-03]\n",
        "847 [  5.89568104e-04   1.47343837e-03   9.97358802e-01   5.78191940e-04]\n",
        "848 [  8.53857668e-04   2.92859456e-03   9.95075237e-01   1.14231071e-03]\n",
        "847 [  5.89568104e-04   1.47343837e-03   9.97358802e-01   5.78191940e-04]\n",
        "848 [  8.53857668e-04   2.92859456e-03   9.95075237e-01   1.14231071e-03]\n",
        "847 [  5.89568104e-04   1.47343837e-03   9.97358802e-01   5.78191940e-04]\n",
        "848 [  8.53857668e-04   2.92859456e-03   9.95075237e-01   1.14231071e-03]\n",
        "847 [  5.89568104e-04   1.47343837e-03   9.97358802e-01   5.78191940e-04]\n",
        "848 [  8.53857668e-04   2.92859456e-03   9.95075237e-01   1.14231071e-03]\n",
        "847 [  5.89568104e-04   1.47343837e-03   9.97358802e-01   5.78191940e-04]\n",
        "848 [  8.53857668e-04   2.92859456e-03   9.95075237e-01   1.14231071e-03]\n",
        "847 [  5.89568104e-04   1.47343837e-03   9.97358802e-01   5.78191940e-04]\n",
        "848 [  8.53857668e-04   2.92859456e-03   9.95075237e-01   1.14231071e-03]\n",
        "847"
       ]
      },
      {
       "output_type": "stream",
       "stream": "stdout",
       "text": [
        " [  5.89568104e-04   1.47343837e-03   9.97358802e-01   5.78191940e-04]\n",
        "848 [  8.53857668e-04   2.92859456e-03   9.95075237e-01   1.14231071e-03]\n",
        "847 [  5.89568104e-04   1.47343837e-03   9.97358802e-01   5.78191940e-04]\n",
        "848 [  8.53857668e-04   2.92859456e-03   9.95075237e-01   1.14231071e-03]\n",
        "847 [  5.89568104e-04   1.47343837e-03   9.97358802e-01   5.78191940e-04]\n",
        "848 [  8.53857668e-04   2.92859456e-03   9.95075237e-01   1.14231071e-03]\n",
        "847 [  5.89568104e-04   1.47343837e-03   9.97358802e-01   5.78191940e-04]\n",
        "848 [  8.53857668e-04   2.92859456e-03   9.95075237e-01   1.14231071e-03]\n",
        "847 [  5.89568104e-04   1.47343837e-03   9.97358802e-01   5.78191940e-04]\n",
        "848 [  8.53857668e-04   2.92859456e-03   9.95075237e-01   1.14231071e-03]\n",
        "847 [  5.89568104e-04   1.47343837e-03   9.97358802e-01   5.78191940e-04]\n",
        "848 [  8.53857668e-04   2.92859456e-03   9.95075237e-01   1.14231071e-03]\n",
        "847 [  5.89568104e-04   1.47343837e-03   9.97358802e-01   5.78191940e-04]\n",
        "848 [  8.53857668e-04   2.92859456e-03   9.95075237e-01   1.14231071e-03]\n",
        "847 [  5.89568104e-04   1.47343837e-03   9.97358802e-01   5.78191940e-04]\n",
        "848 [  8.53857668e-04   2.92859456e-03   9.95075237e-01   1.14231071e-03]\n",
        "847 [  5.89568104e-04   1.47343837e-03   9.97358802e-01   5.78191940e-04]\n",
        "848 [  8.53857668e-04   2.92859456e-03   9.95075237e-01   1.14231071e-03]\n",
        "847 [  5.89568104e-04   1.47343837e-03   9.97358802e-01   5.78191940e-04]\n",
        "848 [  8.53857668e-04   2.92859456e-03   9.95075237e-01   1.14231071e-03]\n",
        "847 [  5.89568104e-04   1.47343837e-03   9.97358802e-01   5.78191940e-04]\n",
        "848 [  8.53857668e-04   2.92859456e-03   9.95075237e-01   1.14231071e-03]\n",
        "847 [  5.89568104e-04   1.47343837e-03   9.97358802e-01   5.78191940e-04]\n",
        "848 [  8.53857668e-04   2.92859456e-03   9.95075237e-01   1.14231071e-03]\n",
        "847 [  5.89568104e-04   1.47343837e-03   9.97358802e-01   5.78191940e-04]\n",
        "848 [  8.53857668e-04   2.92859456e-03   9.95075237e-01   1.14231071e-03]\n",
        "847 [  5.89568104e-04   1.47343837e-03   9.97358802e-01   5.78191940e-04]\n",
        "848 [  8.53857668e-04   2.92859456e-03   9.95075237e-01   1.14231071e-03]\n",
        "847 [  5.89568104e-04   1.47343837e-03   9.97358802e-01   5.78191940e-04]\n",
        "848 [  8.53857668e-04   2.92859456e-03   9.95075237e-01   1.14231071e-03]"
       ]
      },
      {
       "output_type": "stream",
       "stream": "stdout",
       "text": [
        "\n",
        "847 [  5.89568104e-04   1.47343837e-03   9.97358802e-01   5.78191940e-04]\n",
        "848 [  8.53857668e-04   2.92859456e-03   9.95075237e-01   1.14231071e-03]\n",
        "847 [  5.89568104e-04   1.47343837e-03   9.97358802e-01   5.78191940e-04]\n",
        "848 [  8.53857668e-04   2.92859456e-03   9.95075237e-01   1.14231071e-03]\n",
        "847 [  5.89568104e-04   1.47343837e-03   9.97358802e-01   5.78191940e-04]\n",
        "848 [  8.53857668e-04   2.92859456e-03   9.95075237e-01   1.14231071e-03]\n",
        "847 [  5.89568104e-04   1.47343837e-03   9.97358802e-01   5.78191940e-04]\n",
        "848 [  8.53857668e-04   2.92859456e-03   9.95075237e-01   1.14231071e-03]\n",
        "847 [  5.89568104e-04   1.47343837e-03   9.97358802e-01   5.78191940e-04]\n",
        "848 [  8.53857668e-04   2.92859456e-03   9.95075237e-01   1.14231071e-03]\n",
        "847 [  5.89568104e-04   1.47343837e-03   9.97358802e-01   5.78191940e-04]\n",
        "848 [  8.53857668e-04   2.92859456e-03   9.95075237e-01   1.14231071e-03]\n",
        "847 [  5.89568104e-04   1.47343837e-03   9.97358802e-01   5.78191940e-04]\n",
        "848 [  8.53857668e-04   2.92859456e-03   9.95075237e-01   1.14231071e-03]\n",
        "847 [  5.89568104e-04   1.47343837e-03   9.97358802e-01   5.78191940e-04]\n",
        "848 [  8.53857668e-04   2.92859456e-03   9.95075237e-01   1.14231071e-03]\n",
        "847 [  5.89568104e-04   1.47343837e-03   9.97358802e-01   5.78191940e-04]\n",
        "848 [  8.53857668e-04   2.92859456e-03   9.95075237e-01   1.14231071e-03]\n",
        "847 [  5.89568104e-04   1.47343837e-03   9.97358802e-01   5.78191940e-04]\n"
       ]
      }
     ],
     "prompt_number": 87
    },
    {
     "cell_type": "code",
     "collapsed": false,
     "input": [
      "print np.argsort(v[:, 1])[-30:]"
     ],
     "language": "python",
     "metadata": {},
     "outputs": [
      {
       "output_type": "stream",
       "stream": "stdout",
       "text": [
        "[333 334  36 811  22  28  48  29  61  25  59  34  35  27  52  53  49  60\n",
        "  26  51  30  54  58  50  55  57  56  33  31  32]\n"
       ]
      }
     ],
     "prompt_number": 64
    },
    {
     "cell_type": "code",
     "collapsed": false,
     "input": [
      "idx1 = 848\n",
      "idx2 = 847\n",
      "print taskToPerform\n",
      "print\n",
      "print v[idx1, :]\n",
      "print labels[idx1, :], (2.0-np.sum(np.abs(labels[idx1, :]-taskToPerform)))/2.0\n",
      "print neighbours[idx1, :]\n",
      "print pi_l(s, A[idx1, :, :], np.sum(np.repeat(taskToPerform.reshape((1, len(taskToPerform))), numStates, axis=0)*v, axis=-1), idx1, fs, neighbours, labels, taskToPerform, neighsProbs, w[idx1, :], True)\n",
      "print\n",
      "print v[idx2, :]\n",
      "print labels[idx2, :], (2.0-np.sum(np.abs(labels[idx2, :]-taskToPerform)))/2.0\n",
      "print neighbours[idx2, :]\n",
      "print pi_l(s, A[idx2, :, :], np.sum(np.repeat(taskToPerform.reshape((1, len(taskToPerform))), numStates, axis=0)*v, axis=-1), idx2, fs, neighbours, labels, taskToPerform, neighsProbs, w[idx2, :], True)\n",
      "print\n",
      "print v[idx1+1, :]\n",
      "print labels[idx1+1, :], (2.0-np.sum(np.abs(labels[idx1+1, :]-taskToPerform)))/2.0"
     ],
     "language": "python",
     "metadata": {},
     "outputs": [
      {
       "output_type": "stream",
       "stream": "stdout",
       "text": [
        "[ 0.  0.  1.  0.]\n",
        "\n",
        "[ 15.59688292  17.26375244  17.08287075  16.27112014]\n",
        "[  8.53857668e-04   2.92859456e-03   9.95075237e-01   1.14231071e-03] 0.995075237148\n",
        "[849 850 847 803 231 787 804 788 880 230 879 786 232 878 901]\n",
        "weights [ 0.54868202  0.05450235  0.04481665  0.04211933  0.04008968  0.0371336\n",
        "  0.03058284  0.02972827  0.0265431   0.02653131  0.0255259   0.02363553\n",
        "  0.02356589  0.02344588  0.02309762]\n",
        "current amount for action in pi_l 17.7534262621 1.0 0.901832509961 16.8515937522 849\n",
        "current amount for action in pi_l 17.4073397157 1.0 0.602280636681 16.805059079 850\n",
        "current amount for action in pi_l 17.9375830665 1.0 0.806850371325 17.1307326951 847\n",
        "current amount for action in pi_l 17.179454648 1.0 0.542784376798 16.6366702712 803\n",
        "current amount for action in pi_l 17.211248642 1.0 0.406142849158 16.8051057928 231\n",
        "current amount for action in pi_l 17.4814058015 1.0 0.349191841727 17.1322139598 787\n",
        "current amount for action in pi_l 16.5979823362 1.0 0.23873071534 16.3592516209 804\n",
        "current amount for action in pi_l 17.6420654608 1.0 0.337760391748 17.3043050691 788\n",
        "current amount for action in pi_l 17.1304931723 1.0 0.275155939929 16.8553372324 880\n",
        "current amount for action in pi_l 17.4855757148 1.0 0.408953675574 17.0766220392 230\n",
        "current amount for action in pi_l 17.3109588565 1.0 0.233937336362 17.0770215202 879\n",
        "current amount for action in pi_l 17.3568327506 1.0 0.322161047329 17.0346717033 786\n",
        "current amount for action in pi_l 17.111576743 1.0 0.371760025387 16.7398167177 232\n",
        "current amount for action in pi_l 17.2737965877 1.0 0.195878343863 17.0779182438 878\n",
        "current amount for action in pi_l 17.2654715445 1.0 0.232954168739 17.0325173758 901\n",
        "(array([ 0.28062945,  0.02787583,  0.51146098,  0.02154239,  0.02050431,\n",
        "        0.01899239,  0.01564193,  0.01520485,  0.01357576,  0.01356973,\n",
        "        0.0130555 ,  0.01208865,  0.01205303,  0.01199165,  0.01181353]), 2)\n",
        "\n",
        "[ 15.70196338  17.38547397  17.1307327   16.48230163]\n",
        "[  5.89568104e-04   1.47343837e-03   9.97358802e-01   5.78191940e-04] 0.997358801617\n",
        "[848 849 802 846 803 230 231 804 845 786  29 879 900  28 787]\n",
        "weights [ 0.50332247  0.10278965  0.05353128  0.04469296  0.04333307  0.03726396\n",
        "  0.03629102  0.02743244  0.02329984  0.02320454  0.02271681  0.02144736\n",
        "  0.0204257   0.02018602  0.02006289]\n",
        "current amount for action in pi_l 17.9795954301 1.0 0.896724684326 17.0828707457 848\n",
        "current amount for action in pi_l 17.664247787 1.0 0.81265403482 16.8515937522 849\n",
        "current amount for action in pi_l 17.8392165833 1.0 0.757552392776 17.0816641905 802\n",
        "current amount for action in pi_l 17.9624134515 1.0 0.807499018931 17.1549144326 846\n",
        "current amount for action in pi_l 17.1796973955 1.0 0.543027124258 16.6366702712 803\n",
        "current amount for action in pi_l 17.4877222445 1.0 0.411100205335 17.0766220392 230\n",
        "current amount for action in pi_l 17.2104889086 1.0 0.405383115797 16.8051057928 231\n",
        "current amount for action in pi_l 16.5973522564 1.0 0.238100635465 16.3592516209 804\n",
        "current amount for action in pi_l 17.9795954301 1.0 0.803991565206 17.1756038649 845\n",
        "current amount for action in pi_l 17.3567465514 1.0 0.322074848078 17.0346717033 786\n",
        "current amount for action in pi_l 16.0166870366 1.0 0.0287947201747 15.9878923164 29\n",
        "current amount for action in pi_l 17.3101431476 1.0 0.233121627416 17.0770215202 879\n",
        "current amount for action in pi_l 17.2705954911 1.0 0.194638401101 17.07595709 900\n",
        "current amount for action in pi_l 16.3458046797 1.0 0.0277087976703 16.318095882 28\n",
        "current amount for action in pi_l 17.4779916597 1.0 0.345777699861 17.1322139598 787\n",
        "(array([ 0.6681466 ,  0.06867855,  0.03576674,  0.02986145,  0.02895284,\n",
        "        0.02489779,  0.02424772,  0.01832889,  0.01556771,  0.01550403,\n",
        "        0.01517816,  0.01432998,  0.01364736,  0.01348722,  0.01340495]), 0)\n",
        "\n",
        "[ 15.77799536  17.43512912  16.85159375  16.1187012 ]\n",
        "[ 0.00135847  0.00604323  0.99012013  0.00247817] 0.990120131378\n"
       ]
      }
     ],
     "prompt_number": 94
    },
    {
     "cell_type": "code",
     "collapsed": false,
     "input": [
      "## distance of neighbours' labels to task to perform\n",
      "print taskToPerform\n",
      "print\n",
      "print 2.0-np.sum(np.abs(labels[neighbours[106, :], :]-np.reshape(taskToPerform, (1, len(taskToPerform))).repeat(len(labels[neighbours[106, :], :]), axis=0)), axis = -1)\n",
      "print neighbours[106, :]\n",
      "print labels[neighbours[106, :], :]\n",
      "print\n",
      "print 2.0-np.sum(np.abs(labels[neighbours[122, :], :]-np.reshape(taskToPerform, (1, len(taskToPerform))).repeat(len(labels[neighbours[122, :], :]), axis=0)), axis = -1)\n",
      "print neighbours[122, :]\n",
      "print labels[neighbours[122, :], :]"
     ],
     "language": "python",
     "metadata": {},
     "outputs": [
      {
       "output_type": "stream",
       "stream": "stdout",
       "text": [
        "[1 0 0 0]\n",
        "\n",
        "[ 1.99836307  1.99864192  1.9989547   2.          1.99778744  2.\n",
        "  1.99740689  2.          2.          2.          2.          2.\n",
        "  1.99687011  2.          1.99617377]\n",
        "[107 108 109 110 105 111 104 123 124 122 114 115 103 112 102]\n",
        "[[  9.99181536e-01   3.29636630e-04   4.85663141e-04   3.16411253e-06]\n",
        " [  9.99320962e-01   2.54359309e-04   4.22010515e-04   2.66833970e-06]\n",
        " [  9.99477350e-01   1.78281247e-04   3.42270310e-04   2.09817074e-06]\n",
        " [  1.00000000e+00   0.00000000e+00   0.00000000e+00   0.00000000e+00]\n",
        " [  9.98893720e-01   4.99225671e-04   6.02995998e-04   4.05860826e-06]\n",
        " [  1.00000000e+00   0.00000000e+00   0.00000000e+00   0.00000000e+00]\n",
        " [  9.98703444e-01   6.71402924e-04   6.20876540e-04   4.27660084e-06]\n",
        " [  1.00000000e+00   0.00000000e+00   0.00000000e+00   0.00000000e+00]\n",
        " [  1.00000000e+00   0.00000000e+00   0.00000000e+00   0.00000000e+00]\n",
        " [  1.00000000e+00   0.00000000e+00   0.00000000e+00   0.00000000e+00]\n",
        " [  1.00000000e+00   0.00000000e+00   0.00000000e+00   0.00000000e+00]\n",
        " [  1.00000000e+00   0.00000000e+00   0.00000000e+00   0.00000000e+00]\n",
        " [  9.98435054e-01   9.25068771e-04   6.35276071e-04   4.60146195e-06]\n",
        " [  1.00000000e+00   0.00000000e+00   0.00000000e+00   0.00000000e+00]\n",
        " [  9.98086886e-01   1.27496225e-03   6.33183902e-04   4.96801354e-06]]\n",
        "\n",
        "[ 2.          2.          2.          2.          2.          1.99574533\n",
        "  1.99793864  1.99836307  1.986566    1.99687011  1.99778744  1.98217314\n",
        "  1.99740689  1.99864192  1.99617377]\n",
        "[123 124 125 126 121 101 106 107 127 103 105  93 104 108 102]\n",
        "[[  1.00000000e+00   0.00000000e+00   0.00000000e+00   0.00000000e+00]\n",
        " [  1.00000000e+00   0.00000000e+00   0.00000000e+00   0.00000000e+00]\n",
        " [  1.00000000e+00   0.00000000e+00   0.00000000e+00   0.00000000e+00]\n",
        " [  1.00000000e+00   0.00000000e+00   0.00000000e+00   0.00000000e+00]\n",
        " [  1.00000000e+00   0.00000000e+00   0.00000000e+00   0.00000000e+00]\n",
        " [  9.97872665e-01   1.50267460e-03   6.19629617e-04   5.03061483e-06]\n",
        " [  9.98969318e-01   4.45207193e-04   5.81557199e-04   3.91797698e-06]\n",
        " [  9.99181536e-01   3.29636630e-04   4.85663141e-04   3.16411253e-06]\n",
        " [  9.93283002e-01   6.38216203e-03   3.30966375e-04   3.86994630e-06]\n",
        " [  9.98435054e-01   9.25068771e-04   6.35276071e-04   4.60146195e-06]\n",
        " [  9.98893720e-01   4.99225671e-04   6.02995998e-04   4.05860826e-06]\n",
        " [  9.91086568e-01   5.12761524e-03   3.76646307e-03   1.93532300e-05]\n",
        " [  9.98703444e-01   6.71402924e-04   6.20876540e-04   4.27660084e-06]\n",
        " [  9.99320962e-01   2.54359309e-04   4.22010515e-04   2.66833970e-06]\n",
        " [  9.98086886e-01   1.27496225e-03   6.33183902e-04   4.96801354e-06]]\n"
       ]
      }
     ],
     "prompt_number": 60
    },
    {
     "cell_type": "code",
     "collapsed": false,
     "input": [
      "print \"neighbours\", neighbours[startIdx, :]\n",
      "print \"v values\", np.sum(np.repeat(taskToPerform.reshape((1, len(taskToPerform))), numStates, axis=0)*v, axis=-1)[neighbours[startIdx, :]]\n",
      "print \"rewards\", -np.sum(np.abs(labels[neighbours[startIdx, :]]-taskToPerform), axis=-1)\n",
      "print \"labels\", labels[neighbours[startIdx, :], 2]\n",
      "print \"extra r\", dFut[startIdx, neighbours[startIdx]], np.min(dFut), np.max(dFut)\n",
      "print \"probs\", probs[startIdx, neighbours[startIdx]]"
     ],
     "language": "python",
     "metadata": {},
     "outputs": [
      {
       "ename": "NameError",
       "evalue": "name 'probs' is not defined",
       "output_type": "pyerr",
       "traceback": [
        "\u001b[0;31m---------------------------------------------------------------------------\u001b[0m\n\u001b[0;31mNameError\u001b[0m                                 Traceback (most recent call last)",
        "\u001b[0;32m<ipython-input-45-8ba656b71482>\u001b[0m in \u001b[0;36m<module>\u001b[0;34m()\u001b[0m\n\u001b[1;32m      4\u001b[0m \u001b[0;32mprint\u001b[0m \u001b[0;34m\"labels\"\u001b[0m\u001b[0;34m,\u001b[0m \u001b[0mlabels\u001b[0m\u001b[0;34m[\u001b[0m\u001b[0mneighbours\u001b[0m\u001b[0;34m[\u001b[0m\u001b[0mstartIdx\u001b[0m\u001b[0;34m,\u001b[0m \u001b[0;34m:\u001b[0m\u001b[0;34m]\u001b[0m\u001b[0;34m,\u001b[0m \u001b[0;36m2\u001b[0m\u001b[0;34m]\u001b[0m\u001b[0;34m\u001b[0m\u001b[0m\n\u001b[1;32m      5\u001b[0m \u001b[0;32mprint\u001b[0m \u001b[0;34m\"extra r\"\u001b[0m\u001b[0;34m,\u001b[0m \u001b[0mdFut\u001b[0m\u001b[0;34m[\u001b[0m\u001b[0mstartIdx\u001b[0m\u001b[0;34m,\u001b[0m \u001b[0mneighbours\u001b[0m\u001b[0;34m[\u001b[0m\u001b[0mstartIdx\u001b[0m\u001b[0;34m]\u001b[0m\u001b[0;34m]\u001b[0m\u001b[0;34m,\u001b[0m \u001b[0mnp\u001b[0m\u001b[0;34m.\u001b[0m\u001b[0mmin\u001b[0m\u001b[0;34m(\u001b[0m\u001b[0mdFut\u001b[0m\u001b[0;34m)\u001b[0m\u001b[0;34m,\u001b[0m \u001b[0mnp\u001b[0m\u001b[0;34m.\u001b[0m\u001b[0mmax\u001b[0m\u001b[0;34m(\u001b[0m\u001b[0mdFut\u001b[0m\u001b[0;34m)\u001b[0m\u001b[0;34m\u001b[0m\u001b[0m\n\u001b[0;32m----> 6\u001b[0;31m \u001b[0;32mprint\u001b[0m \u001b[0;34m\"probs\"\u001b[0m\u001b[0;34m,\u001b[0m \u001b[0mprobs\u001b[0m\u001b[0;34m[\u001b[0m\u001b[0mstartIdx\u001b[0m\u001b[0;34m,\u001b[0m \u001b[0mneighbours\u001b[0m\u001b[0;34m[\u001b[0m\u001b[0mstartIdx\u001b[0m\u001b[0;34m]\u001b[0m\u001b[0;34m]\u001b[0m\u001b[0;34m\u001b[0m\u001b[0m\n\u001b[0m",
        "\u001b[0;31mNameError\u001b[0m: name 'probs' is not defined"
       ]
      },
      {
       "output_type": "stream",
       "stream": "stdout",
       "text": [
        "neighbours [233 235 871 246 764 236 763 872  32  33 852 232 807 806 737]\n",
        "v values [ 35.69419691  36.64365287  36.49876985  34.97362511  34.95451779\n",
        "  36.63827956  34.9455808   36.8403701   33.19561031  34.92317828\n",
        "  34.95467221  34.66626177  33.17507758  33.92466007  33.15418135]\n",
        "rewards [-1.70514694 -1.64853132 -1.90066608 -1.66896679 -1.66500196 -1.64371222\n",
        " -1.69213608 -1.89975833 -1.66822754 -1.66882028 -1.69215009 -1.73384755\n",
        " -1.89081343 -1.88198981 -1.90924674]\n",
        "labels [ 0.44113567  0.41135618  0.33117876  0.42156514  0.4201902   0.40899661\n",
        "  0.4309735   0.33283621  0.03282479  0.03285234  0.43091458  0.45880856\n",
        "  0.08478895  0.12367277  0.05253681]\n",
        "extra r [ 1.25284374  0.16915104  1.83880485  1.26494575  1.232962    0.42432947\n",
        "  1.65023418  1.26165227  1.58297665  1.16006016  1.73717777  2.35841715\n",
        "  1.87543281  2.77317764  2.03868362] 0.133844005661 41.1180905011\n",
        "probs"
       ]
      }
     ],
     "prompt_number": 45
    },
    {
     "cell_type": "code",
     "collapsed": false,
     "input": [
      "def dist2prob(dM, sigmaMult, normalize) :\n",
      "    sigma = sigmaMult*np.mean(dM[np.nonzero(dM)])\n",
      "    print 'sigma', sigma\n",
      "    pM = np.exp((-dM)/sigma)\n",
      "## normalize probabilities row-wise\n",
      "    if normalize :\n",
      "        normTerm = np.sum(pM, axis=1)\n",
      "        normTerm = cv2.repeat(normTerm, 1, dM.shape[1])\n",
      "        pM = pM / normTerm\n",
      "    return pM\n",
      "\n",
      "probs = dist2prob(dFut, 0.01, False)\n",
      "print np.min(probs)\n",
      "figure(); imshow(probs)\n",
      "\n",
      "figure(); imshow(np.cumsum(probs, axis=1))"
     ],
     "language": "python",
     "metadata": {},
     "outputs": [
      {
       "output_type": "stream",
       "stream": "stdout",
       "text": [
        "sigma 0.0667496772841\n",
        "2.96972960665e-268\n"
       ]
      },
      {
       "metadata": {},
       "output_type": "pyout",
       "prompt_number": 180,
       "text": [
        "<matplotlib.image.AxesImage at 0x7f3bff25a7d0>"
       ]
      }
     ],
     "prompt_number": 180
    },
    {
     "cell_type": "code",
     "collapsed": false,
     "input": [
      "class ImageLabel(QtGui.QLabel) :\n",
      "    \n",
      "    def __init__(self, text, parent=None):\n",
      "        super(ImageLabel, self).__init__(text, parent)\n",
      "        \n",
      "    def setPixmap(self, pixmap) :\n",
      "        if pixmap.width() > self.width() :\n",
      "            super(ImageLabel, self).setPixmap(pixmap.scaledToWidth(self.width()))\n",
      "        else :\n",
      "            super(ImageLabel, self).setPixmap(pixmap)\n",
      "        \n",
      "    def resizeEvent(self, event) :\n",
      "        if self.pixmap() != None :\n",
      "            if self.pixmap().width() > self.width() :\n",
      "                self.setPixmap(self.pixmap().scaledToWidth(self.width()))\n",
      "                \n",
      "class Window(QtGui.QWidget):\n",
      "    def __init__(self):\n",
      "        super(Window, self).__init__()\n",
      "        \n",
      "        self.createGUI()\n",
      "        \n",
      "        self.setWindowTitle(\"Video Fields Visualizer\")\n",
      "        self.resize(1280, 720)\n",
      "        \n",
      "        self.textureTimer = QtCore.QTimer(self)\n",
      "        self.textureTimer.setInterval(1000/30)\n",
      "        self.textureTimer.start()\n",
      "        self.textureTimer.timeout.connect(self.renderOneFrame)\n",
      "        \n",
      "        self.taskIdx = 0\n",
      "        self.taskToPerform = possibleTasksToPerform[self.taskIdx, :]\n",
      "#         self.taskToPerform = np.array([0, 0.5, 0.0, 0.5])\n",
      "        self.currentIdx = 570\n",
      "        \n",
      "        ## HACK ##\n",
      "        im = np.ascontiguousarray(Image.open(frames[self.currentIdx+4]))\n",
      "        qim = QtGui.QImage(im.data, im.shape[1], im.shape[0], im.strides[0], QtGui.QImage.Format_RGB888);\n",
      "        self.frameLabel.setPixmap(QtGui.QPixmap.fromImage(qim))\n",
      "        \n",
      "        infoText = \"Frame idx: \"+np.string_(self.currentIdx)+\"\\t\"+np.string_(labels[self.currentIdx, :])\n",
      "        self.infoLabel.setText(infoText)\n",
      "        print self.currentIdx, labels[self.currentIdx, :]\n",
      "        \n",
      "    def changeTaskLabel(self, index) :\n",
      "        self.taskIdx = index\n",
      "        self.taskToPerform = possibleTasksToPerform[self.taskIdx, :]\n",
      "        \n",
      "    def renderOneFrame(self) :\n",
      "        \n",
      "        s = {'frameState': fs[self.currentIdx, :, :], 'taskParams': labels[self.currentIdx, :]}\n",
      "        neighsProbs = np.zeros(k)#probs[self.currentIdx, neighbours[self.currentIdx, :]]/np.sum(probs[self.currentIdx, neighbours[self.currentIdx, :]])\n",
      "#         bestA, bestAIdx = pi_l(s, A[self.currentIdx, :, :], v[:, self.taskIdx], self.currentIdx, fs, neighbours, labels, self.taskToPerform)\n",
      "#         bestA, bestAIdx = pi_l(s, A[self.currentIdx, :, :], np.sum(np.repeat(self.taskToPerform.reshape((1, len(self.taskToPerform))), numStates, axis=0)*v, axis=-1), self.currentIdx, fs, neighbours, labels, self.taskToPerform, neighsProbs, w[self.currentIdx, :])\n",
      "        bestA, bestAIdx = pi_l(s, A[self.currentIdx, :, :], np.sum(np.repeat(self.taskToPerform.reshape((1, len(self.taskToPerform))), numStates, axis=0)*v, axis=-1), self.currentIdx, fs, neighbours, labels, self.taskToPerform, 1.0+t, l, p, 0.1)\n",
      "        newTaskState, newIdx = integrateTaskState(s, bestA, fs[neighbours[self.currentIdx, :], :, :], 1.0, neighbours[self.currentIdx, :], labels)\n",
      "        self.currentIdx = np.copy(newIdx)\n",
      "        \n",
      "        ## HACK ##\n",
      "        im = np.ascontiguousarray(Image.open(frames[self.currentIdx+4]))\n",
      "        qim = QtGui.QImage(im.data, im.shape[1], im.shape[0], im.strides[0], QtGui.QImage.Format_RGB888);\n",
      "        self.frameLabel.setPixmap(QtGui.QPixmap.fromImage(qim))\n",
      "        \n",
      "        infoText = \"Frame idx: \"+np.string_(newIdx)+\"\\t\"+np.string_(newTaskState['taskParams'])\n",
      "        self.infoLabel.setText(infoText)\n",
      "#         print newIdx, newTaskState['taskParams']\n",
      "        \n",
      "    def createGUI(self) :\n",
      "        \n",
      "        ## WIDGETS ##\n",
      "        \n",
      "        self.frameLabel = ImageLabel(\"Frame\")\n",
      "        self.frameLabel.setSizePolicy(QtGui.QSizePolicy.MinimumExpanding, QtGui.QSizePolicy.MinimumExpanding)\n",
      "        self.frameLabel.setAlignment(QtCore.Qt.AlignCenter | QtCore.Qt.AlignHCenter)\n",
      "        \n",
      "        self.infoLabel = QtGui.QLabel(\"Info text\")\n",
      "        \n",
      "        self.labelComboBox = QtGui.QComboBox()\n",
      "        self.labelComboBox.addItem(\"Away\")\n",
      "        self.labelComboBox.addItem(\"Right\")\n",
      "        self.labelComboBox.addItem(\"Towards\")\n",
      "        self.labelComboBox.addItem(\"Left\")\n",
      "        \n",
      "        ## SIGNALS ##\n",
      "        \n",
      "        self.labelComboBox.currentIndexChanged[int].connect(self.changeTaskLabel)\n",
      "#         self.openSequenceButton.clicked.connect(self.openSequence)\n",
      "        \n",
      "#         self.tabWidget.currentChanged.connect(self.tabChanged)\n",
      "        \n",
      "        ## LAYOUTS ##\n",
      "        \n",
      "        mainLayout = QtGui.QVBoxLayout()\n",
      "        mainLayout.addWidget(self.frameLabel)\n",
      "        mainLayout.addWidget(self.infoLabel)\n",
      "        mainLayout.addWidget(self.labelComboBox)\n",
      "        self.setLayout(mainLayout)"
     ],
     "language": "python",
     "metadata": {},
     "outputs": [],
     "prompt_number": 199
    },
    {
     "cell_type": "code",
     "collapsed": false,
     "input": [
      "window = Window()\n",
      "window.show()\n",
      "app.exec_()"
     ],
     "language": "python",
     "metadata": {},
     "outputs": [
      {
       "output_type": "stream",
       "stream": "stdout",
       "text": [
        "570 [  1.60641987e-03   9.98357008e-01   3.45027541e-05   2.06944855e-06]\n"
       ]
      },
      {
       "metadata": {},
       "output_type": "pyout",
       "prompt_number": 201,
       "text": [
        "0"
       ]
      }
     ],
     "prompt_number": 201
    }
   ],
   "metadata": {}
  }
 ]
}