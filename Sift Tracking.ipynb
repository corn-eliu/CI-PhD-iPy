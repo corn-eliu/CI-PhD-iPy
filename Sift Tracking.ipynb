{
 "metadata": {
  "name": ""
 },
 "nbformat": 3,
 "nbformat_minor": 0,
 "worksheets": [
  {
   "cells": [
    {
     "cell_type": "code",
     "collapsed": false,
     "input": [
      "%pylab\n",
      "\n",
      "from PIL import Image\n",
      "\n",
      "import numpy as np\n",
      "\n",
      "import scipy as sp\n",
      "import scipy.io as sio\n",
      "import cv2\n",
      "import cv\n",
      "import glob\n",
      "import time\n",
      "import gc\n",
      "import re\n",
      "\n",
      "import sys\n",
      "import os\n",
      "\n",
      "import sift\n",
      "import GraphWithValues as gwv\n",
      "\n",
      "dataFolder = \"/home/ilisescu/PhD/data/\""
     ],
     "language": "python",
     "metadata": {},
     "outputs": [
      {
       "output_type": "stream",
       "stream": "stdout",
       "text": [
        "Using matplotlib backend: TkAgg\n",
        "Populating the interactive namespace from numpy and matplotlib\n"
       ]
      }
     ],
     "prompt_number": 1
    },
    {
     "cell_type": "code",
     "collapsed": false,
     "input": [
      "sampleData = \"mopeds/\"\n",
      "outputData = dataFolder+sampleData\n",
      "\n",
      "## Find pngs in sample data\n",
      "frames = glob.glob(dataFolder + sampleData + \"frame-*.png\")\n",
      "mattes = glob.glob(dataFolder + sampleData + \"matte-*.png\")\n",
      "scribbles = glob.glob(dataFolder + sampleData + \"scribble-*.png\")\n",
      "frames = np.sort(frames)\n",
      "mattes = np.sort(mattes)#[0:len(frames)-10]\n",
      "scribbles = np.sort(scribbles)\n",
      "numFrames = len(frames)\n",
      "frameSize = cv2.imread(frames[0]).shape\n",
      "print numFrames, len(mattes), len(scribbles)"
     ],
     "language": "python",
     "metadata": {},
     "outputs": [
      {
       "output_type": "stream",
       "stream": "stdout",
       "text": [
        "1539 0 1\n"
       ]
      }
     ],
     "prompt_number": 2
    },
    {
     "cell_type": "code",
     "collapsed": false,
     "input": [
      "sift.process_image(frames[0], 'tmp.key')\n",
      "l1,d1 = sift.read_features_from_file('tmp.key')\n",
      "im1 = array(Image.open(frames[0]))\n",
      "figure(); sift.plot_features(im1,l1)\n",
      "\n",
      "sift.process_image(frames[14], 'tmp.key')\n",
      "l2,d2 = sift.read_features_from_file('tmp.key')\n",
      "im2 = array(Image.open(frames[14]))\n",
      "figure(); sift.plot_features(im2,l2)"
     ],
     "language": "python",
     "metadata": {},
     "outputs": [
      {
       "output_type": "stream",
       "stream": "stdout",
       "text": [
        "processed tmp.pgm\n",
        "processed"
       ]
      },
      {
       "output_type": "stream",
       "stream": "stdout",
       "text": [
        " tmp.pgm\n"
       ]
      }
     ],
     "prompt_number": 3
    },
    {
     "cell_type": "code",
     "collapsed": false,
     "input": [
      "# m1 = sift.match(d1,d2)\n",
      "# figure(); sift.plot_matches(im1,im2,l1,l2,m1)#, 1000)\n",
      "# figure(); sift.plot_match_displacement(im1,l1,l2,m1)#, 1000)\n",
      "# figure(); sift.plot_match_displacement(im2,l1,l2,m1)#, 1000)\n",
      "\n",
      "m2 = sift.match_twosided(d1,d2)\n",
      "figure(); sift.plot_matches(im1,im2,l1,l2,m2)#, 1000)\n",
      "figure(); sift.plot_match_displacement(im1,l1,l2,m2)#, 1000)\n",
      "figure(); sift.plot_match_displacement(im2,l1,l2,m2)#, 1000)"
     ],
     "language": "python",
     "metadata": {},
     "outputs": [],
     "prompt_number": 4
    },
    {
     "cell_type": "code",
     "collapsed": false,
     "input": [
      "scribble = array(Image.open(scribbles[0]))[:, :, 0]\n",
      "figure(); imshow(scribble)\n",
      "\n",
      "distTransOut = cv2.distanceTransform(uint8(np.max(scribble)-scribble), cv2.cv.CV_DIST_L2, 3)\n",
      "distTransIn = cv2.distanceTransform(uint8(scribble), cv2.cv.CV_DIST_L2, 3)\n",
      "distTrans = distTransOut-distTransIn\n",
      "# gwv.showCustomGraph(distTrans)\n",
      "figure(); imshow(distTrans, interpolation='nearest')"
     ],
     "language": "python",
     "metadata": {},
     "outputs": [
      {
       "metadata": {},
       "output_type": "pyout",
       "prompt_number": 5,
       "text": [
        "<matplotlib.image.AxesImage at 0x7f1fc0e59450>"
       ]
      }
     ],
     "prompt_number": 5
    },
    {
     "cell_type": "code",
     "collapsed": false,
     "input": [
      "## indices of points in im1 that got matched to some point in im2\n",
      "matchedPointsIdxs = np.argwhere(np.ndarray.flatten(m2) > 0)\n",
      "## locations of matched points in im1\n",
      "matchedPoints1 = np.reshape(l1[matchedPointsIdxs, :], (len(matchedPointsIdxs), 4))\n",
      "scatter(matchedPoints1[:, 1], matchedPoints1[:, 0])"
     ],
     "language": "python",
     "metadata": {},
     "outputs": [
      {
       "metadata": {},
       "output_type": "pyout",
       "prompt_number": 6,
       "text": [
        "<matplotlib.collections.PathCollection at 0x7f1fc0e2a610>"
       ]
      }
     ],
     "prompt_number": 6
    },
    {
     "cell_type": "code",
     "collapsed": false,
     "input": [
      "distTransProbs = np.exp(-distTrans/(0.5*np.mean(distTrans)))\n",
      "## probabilities of matched points in im1 based on closeness to scribble\n",
      "matchedPointsProbs = distTransProbs[np.array(matchedPoints1[:, 0], dtype=int), np.array(matchedPoints1[:, 1], dtype=int)]\n",
      "## sorted indices of matched points from high to low probability\n",
      "matchedPointsSortedIdxs = np.argsort(matchedPointsProbs)[::-1]\n",
      "numBestMatches = 4\n",
      "scatter(matchedPoints1[matchedPointsSortedIdxs[0:numBestMatches], 1], matchedPoints1[matchedPointsSortedIdxs[0:numBestMatches], 0], c='r', marker='x')"
     ],
     "language": "python",
     "metadata": {},
     "outputs": [
      {
       "metadata": {},
       "output_type": "pyout",
       "prompt_number": 7,
       "text": [
        "<matplotlib.collections.PathCollection at 0x7f1fc0e78310>"
       ]
      }
     ],
     "prompt_number": 7
    },
    {
     "cell_type": "code",
     "collapsed": false,
     "input": [
      "## get matching points in im2 of top best points in im1 based on closeness to scribble\n",
      "matchingPointsBestIdxs = np.array(np.ndarray.flatten(m2[matchedPointsIdxs[matchedPointsSortedIdxs[0:numBestMatches]]]), dtype=int)\n",
      "scatter(l2[matchingPointsBestIdxs, 1], l2[matchingPointsBestIdxs, 0], c='y', marker='x')"
     ],
     "language": "python",
     "metadata": {},
     "outputs": [
      {
       "metadata": {},
       "output_type": "pyout",
       "prompt_number": 8,
       "text": [
        "<matplotlib.collections.PathCollection at 0x7f1fc0e8d3d0>"
       ]
      }
     ],
     "prompt_number": 8
    },
    {
     "cell_type": "code",
     "collapsed": false,
     "input": [
      "homography = cv2.findHomography(np.array(matchedPoints1[matchedPointsSortedIdxs[0:numBestMatches], 0:2], dtype=np.float32), \n",
      "                                         np.array(l2[matchingPointsBestIdxs, 0:2], dtype=np.float32))[0]"
     ],
     "language": "python",
     "metadata": {},
     "outputs": [],
     "prompt_number": 39
    },
    {
     "cell_type": "code",
     "collapsed": false,
     "input": [
      "print homography\n",
      "print np.linalg.inv(homography)"
     ],
     "language": "python",
     "metadata": {},
     "outputs": [
      {
       "output_type": "stream",
       "stream": "stdout",
       "text": [
        "[[ -6.55626030e-01  -1.04132136e+00   3.40582471e+02]\n",
        " [ -3.92332708e-01  -1.28144048e+00   3.34211321e+02]\n",
        " [ -1.43123214e-03  -3.73916528e-03   1.00000000e+00]]\n",
        "[[  2.17233126e+00   1.58756765e+01  -6.04568878e+03]\n",
        " [  5.88065661e+00   1.14994842e+01  -5.84610636e+03]\n",
        " [  2.50978573e-02   6.57202505e-02  -2.95123420e+01]]\n"
       ]
      }
     ],
     "prompt_number": 18
    },
    {
     "cell_type": "code",
     "collapsed": false,
     "input": [
      "homography = cv2.getPerspectiveTransform(np.array(matchedPoints1[matchedPointsSortedIdxs[0:numBestMatches], 0:2], dtype=np.float32), \n",
      "                                         np.array(l2[matchingPointsBestIdxs, 0:2], dtype=np.float32));"
     ],
     "language": "python",
     "metadata": {},
     "outputs": [],
     "prompt_number": 74
    },
    {
     "cell_type": "code",
     "collapsed": false,
     "input": [
      "print homography"
     ],
     "language": "python",
     "metadata": {},
     "outputs": [
      {
       "output_type": "stream",
       "stream": "stdout",
       "text": [
        "[[ -6.55698851e-01  -1.04136591e+00   3.40596969e+02]\n",
        " [ -3.92349106e-01  -1.28155098e+00   3.34227823e+02]\n",
        " [ -1.43128025e-03  -3.73932305e-03   1.00000000e+00]]\n"
       ]
      }
     ],
     "prompt_number": 75
    },
    {
     "cell_type": "code",
     "collapsed": false,
     "input": [
      "A = np.zeros((8, 8))\n",
      "b = np.zeros((8, 1))\n",
      "for x, w, i in zip(np.array(matchedPoints1[matchedPointsSortedIdxs[0:4], 0:2], dtype=np.float32), \n",
      "                                         np.array(l2[matchingPointsBestIdxs[0:4], 0:2], dtype=np.float32), \n",
      "                                         np.arange(4, dtype=int)):\n",
      "    print x, w, i*2, i*2+1\n",
      "    A[i, :]   = [x[0], x[1], 1, 0, 0, 0, -x[0]*w[0], -x[1]*w[0]]\n",
      "    A[i+4, :] = [0, 0, 0, x[0], x[1], 1, -x[0]*w[1], -x[1]*w[1]]\n",
      "    b[i] = w[0]\n",
      "    b[i+4] = w[1]\n",
      "    \n",
      "# print A\n",
      "# print b\n",
      "x = np.linalg.solve(A, b)\n",
      "# x = np.linalg.lstsq(A, b)[0]\n",
      "# print x\n",
      "hom = np.reshape(np.concatenate((x, [[1]])), (3, 3))\n",
      "print hom"
     ],
     "language": "python",
     "metadata": {},
     "outputs": [
      {
       "output_type": "stream",
       "stream": "stdout",
       "text": [
        "[ 240.28999329  226.99000549] [ 276.79000854  264.38000488] 0 1\n",
        "[ 251.6499939   225.58000183] [ 291.22000122  263.13000488] 2 3\n",
        "[ 268.10998535  220.3999939 ] [ 311.32000732  256.95999146] 4 5\n",
        "[ 248.07000732  228.52999878] [ 286.47000122  267.04998779] 6 7\n",
        "[[ -6.55698851e-01  -1.04136591e+00   3.40596969e+02]\n",
        " [ -3.92349106e-01  -1.28155098e+00   3.34227823e+02]\n",
        " [ -1.43128025e-03  -3.73932305e-03   1.00000000e+00]]\n"
       ]
      }
     ],
     "prompt_number": 116
    },
    {
     "cell_type": "code",
     "collapsed": false,
     "input": [
      "print homography\n",
      "print hom\n",
      "print homography-hom"
     ],
     "language": "python",
     "metadata": {},
     "outputs": [
      {
       "output_type": "stream",
       "stream": "stdout",
       "text": [
        "[[ -6.55698851e-01  -1.04136591e+00   3.40596969e+02]\n",
        " [ -3.92349106e-01  -1.28155098e+00   3.34227823e+02]\n",
        " [ -1.43128025e-03  -3.73932305e-03   1.00000000e+00]]\n",
        "[[ -6.55698851e-01  -1.04136591e+00   3.40596969e+02]\n",
        " [ -3.92349106e-01  -1.28155098e+00   3.34227823e+02]\n",
        " [ -1.43128025e-03  -3.73932305e-03   1.00000000e+00]]\n",
        "[[  1.95821137e-12   1.57873714e-13  -2.60286015e-10]\n",
        " [  8.07298672e-13   1.51567647e-12  -3.03373326e-10]\n",
        " [  3.00497474e-15   7.22512328e-16   0.00000000e+00]]\n"
       ]
      }
     ],
     "prompt_number": 117
    },
    {
     "cell_type": "code",
     "collapsed": false,
     "input": [
      "A = np.zeros((8, 9))\n",
      "print \"x \\t \\t y \\t \\t u \\t \\t v\"\n",
      "for w, x, i in zip(np.array(matchedPoints1[matchedPointsSortedIdxs[0:4], 0:2], dtype=np.float32), \n",
      "                                         np.array(l2[matchingPointsBestIdxs[0:4], 0:2], dtype=np.float32), \n",
      "                                         np.arange(4, dtype=int)):\n",
      "    print x, w, i*2, i*2+1\n",
      "    A[i*2, :]   = [0, 0, 0, -w[0], -w[1], -1, x[1]*w[0], x[1]*w[1], x[1]]\n",
      "    A[i*2+1, :] = [w[0], w[1], 1, 0, 0, 0, -x[0]*w[0], -x[0]*w[1], -x[0]]\n",
      "    print np.array(A[i*2, :], dtype=int)\n",
      "    print np.array(A[i*2+1, :], dtype=int)\n",
      "    \n",
      "U, s, V = np.linalg.svd(A)\n",
      "hom = np.reshape(np.transpose(V)[:, -1], (3, 3))\n",
      "print hom\n",
      "print hom/hom[-1, -1]\n",
      "print np.linalg.inv(hom.T)\n",
      "print np.linalg.inv(hom)\n",
      "print np.transpose(V)[:, -1]"
     ],
     "language": "python",
     "metadata": {},
     "outputs": [
      {
       "output_type": "stream",
       "stream": "stdout",
       "text": [
        "x \t \t y \t \t u \t \t v\n",
        "[ 276.79000854  264.38000488] [ 240.28999329  226.99000549] 0 1\n",
        "[    0     0     0  -240  -226    -1 63527 60011   264]\n",
        "[   240    226      1      0      0      0 -66509 -62828   -276]\n",
        "[ 291.22000122  263.13000488] [ 251.6499939   225.58000183] 2 3\n",
        "[    0     0     0  -251  -225    -1 66216 59356   263]\n",
        "[   251    225      1      0      0      0 -73285 -65693   -291]\n",
        "[ 311.32000732  256.95999146] [ 268.10998535  220.3999939 ] 4 5\n",
        "[    0     0     0  -268  -220    -1 68893 56633   256]\n",
        "[   268    220      1      0      0      0 -83468 -68614   -311]\n",
        "[ 286.47000122  267.04998779] [ 248.07000732  228.52999878] 6 7\n",
        "[    0     0     0  -248  -228    -1 66247 61028   267]\n",
        "[   248    228      1      0      0      0 -71064 -65466   -286]\n",
        "[[  1.37405760e-03   2.18224684e-03  -7.13742067e-01]\n",
        " [  8.22191879e-04   2.68556954e-03  -7.00395126e-01]\n",
        " [  2.99933651e-06   7.83598330e-06  -2.09556200e-03]]\n",
        "[[ -6.55698851e-01  -1.04136591e+00   3.40596969e+02]\n",
        " [ -3.92349106e-01  -1.28155098e+00   3.34227823e+02]\n",
        " [ -1.43128025e-03  -3.73932305e-03   1.00000000e+00]]\n",
        "[[ -1.03576983e+03  -2.80501035e+03  -1.19713168e+01]\n",
        " [ -7.57254423e+03  -5.48480899e+03  -3.13479057e+01]\n",
        " [  2.88373503e+06   2.78855379e+06   1.40775375e+04]]\n",
        "[[ -1.03576983e+03  -7.57254423e+03   2.88373503e+06]\n",
        " [ -2.80501035e+03  -5.48480899e+03   2.78855379e+06]\n",
        " [ -1.19713168e+01  -3.13479057e+01   1.40775375e+04]]\n",
        "[  1.37405760e-03   2.18224684e-03  -7.13742067e-01   8.22191879e-04\n",
        "   2.68556954e-03  -7.00395126e-01   2.99933651e-06   7.83598330e-06\n",
        "  -2.09556200e-03]\n"
       ]
      }
     ],
     "prompt_number": 118
    },
    {
     "cell_type": "code",
     "collapsed": false,
     "input": [
      "transScribble = np.zeros_like(scribble)\n",
      "for i in xrange(transScribble.shape[0]) :\n",
      "    for j in xrange(transScribble.shape[1]) :\n",
      "        la = np.dot(np.linalg.inv(homography), np.array([i, j, 1]))\n",
      "        la = np.array(la/la[-1], dtype=int)\n",
      "        if la[0] >= 0 and la[1] >= 0 and la[0]<transScribble.shape[0] and la[1]<transScribble.shape[1] :\n",
      "            transScribble[i, j] = scribble[la[0], la[1]]\n",
      "        if i == 277 and j == 264 :\n",
      "            print la\n",
      "figure(); imshow(transScribble, interpolation='nearest')"
     ],
     "language": "python",
     "metadata": {},
     "outputs": [
      {
       "output_type": "stream",
       "stream": "stdout",
       "text": [
        "[273 263   1]\n"
       ]
      },
      {
       "metadata": {},
       "output_type": "pyout",
       "prompt_number": 10,
       "text": [
        "<matplotlib.image.AxesImage at 0x7f1f0d8f73d0>"
       ]
      }
     ],
     "prompt_number": 10
    },
    {
     "cell_type": "code",
     "collapsed": false,
     "input": [
      "figure(); imshow(np.array(im1*np.repeat(np.reshape(1.0-0.8*(255-scribble)/255, (scribble.shape[0], scribble.shape[1], 1)), 3, axis=-1), dtype=uint8))\n",
      "figure(); imshow(np.array(im2*np.repeat(np.reshape(1.0-0.8*(255-transScribble)/255, (transScribble.shape[0], transScribble.shape[1], 1)), 3, axis=-1), dtype=uint8))"
     ],
     "language": "python",
     "metadata": {},
     "outputs": [
      {
       "metadata": {},
       "output_type": "pyout",
       "prompt_number": 11,
       "text": [
        "<matplotlib.image.AxesImage at 0x7f1f0d7c7c10>"
       ]
      }
     ],
     "prompt_number": 11
    },
    {
     "cell_type": "code",
     "collapsed": false,
     "input": [
      "gwv.showCustomGraph(1.0-0.5*(255-scribble)/255)"
     ],
     "language": "python",
     "metadata": {},
     "outputs": [],
     "prompt_number": 155
    },
    {
     "cell_type": "code",
     "collapsed": false,
     "input": [
      "print hom/hom[-1, -1]\n",
      "print np.linalg.inv(hom)\n",
      "tmp = np.dot(hom, np.concatenate((np.array(matchedPoints1[matchedPointsSortedIdxs[0:4], 0:2], dtype=np.float32).T, np.ones((1, 4))), axis=0))\n",
      "print np.concatenate((np.array(matchedPoints1[matchedPointsSortedIdxs[0:4], 0:2], dtype=np.float32).T, np.ones((1, 4))), axis=0)\n",
      "print tmp\n",
      "print (tmp/np.reshape(np.repeat(tmp[-1, :], 3, axis=0), (4, 3)).T).T"
     ],
     "language": "python",
     "metadata": {},
     "outputs": [
      {
       "output_type": "stream",
       "stream": "stdout",
       "text": [
        "[[ -6.55698851e-01  -1.04136591e+00   3.40596969e+02]\n",
        " [ -3.92349106e-01  -1.28155098e+00   3.34227823e+02]\n",
        " [ -1.43128025e-03   3.73932305e-03   1.00000000e+00]]\n",
        "[[ -4.05053994e+00   3.70431562e+00   1.41516283e+02]\n",
        " [ -1.37652952e-01  -2.69161269e-01   1.36845363e+02]\n",
        " [ -5.28272897e-03   6.30839472e-03   6.90840441e-01]]\n",
        "[[ 240.28999329  251.6499939   268.10998535  248.07000732]\n",
        " [ 226.99000549  225.58000183  220.3999939   228.52999878]\n",
        " [   1.            1.            1.            1.        ]]\n",
        "[[-53.34055732 -59.32096692 -64.71948071 -60.0456001 ]\n",
        " [-50.94900572 -53.59910023 -53.41871892 -55.97506719]\n",
        " [  1.50486664   1.48333483   1.44040625   1.49948979]]\n",
        "[[-35.4453717  -33.85616005   1.        ]\n",
        " [-39.99162264 -36.13418833   1.        ]\n",
        " [-44.93140787 -37.08586999   1.        ]\n",
        " [-40.04402065 -37.3294087    1.        ]]\n"
       ]
      }
     ],
     "prompt_number": 44
    },
    {
     "cell_type": "code",
     "collapsed": false,
     "input": [
      "tmp = np.dot(hom, np.concatenate((np.array(matchedPoints1[matchedPointsSortedIdxs[0:numBestMatches], 0:2], dtype=np.float32).T, np.ones((1, numBestMatches))), axis=0))\n",
      "print np.concatenate((np.array(matchedPoints1[matchedPointsSortedIdxs[0:numBestMatches], 0:2], dtype=np.float32).T, np.ones((1, numBestMatches))), axis=0)\n",
      "print tmp\n",
      "print (tmp/np.reshape(np.repeat(tmp[-1, :], 3, axis=0), (numBestMatches, 3)).T).T"
     ],
     "language": "python",
     "metadata": {},
     "outputs": [
      {
       "output_type": "stream",
       "stream": "stdout",
       "text": [
        "[[ 240.28999329  251.6499939   268.10998535  248.07000732]\n",
        " [ 226.99000549  225.58000183  220.3999939   228.52999878]\n",
        " [   1.            1.            1.            1.        ]]\n",
        "[[ 0.11177845  0.12431076  0.13562368  0.12582928]\n",
        " [ 0.1067668   0.11232024  0.11194224  0.11729922]\n",
        " [ 0.00040384  0.00042686  0.00043564  0.00043924]]\n",
        "[[ 276.79000931  264.37998547    1.        ]\n",
        " [ 291.21993548  263.13000821    1.        ]\n",
        " [ 311.3200249   256.9599867     1.        ]\n",
        " [ 286.47000076  267.05000056    1.        ]]\n"
       ]
      }
     ],
     "prompt_number": 119
    },
    {
     "cell_type": "code",
     "collapsed": false,
     "input": [
      "tmp = np.dot(homography, np.concatenate((np.array(matchedPoints1[matchedPointsSortedIdxs[0:numBestMatches], 0:2], dtype=np.float32).T, np.ones((1, numBestMatches))), axis=0))\n",
      "print np.concatenate((np.array(matchedPoints1[matchedPointsSortedIdxs[0:numBestMatches], 0:2], dtype=np.float32).T, np.ones((1, numBestMatches))), axis=0)\n",
      "print tmp\n",
      "print (tmp/np.reshape(np.repeat(tmp[-1, :], 3, axis=0), (numBestMatches, 3)).T).T"
     ],
     "language": "python",
     "metadata": {},
     "outputs": [
      {
       "output_type": "stream",
       "stream": "stdout",
       "text": [
        "[[ 240.28999329  251.6499939   268.10998535  248.07000732]\n",
        " [ 226.99000549  225.58000183  220.3999939   228.52999878]\n",
        " [   1.            1.            1.            1.        ]]\n",
        "[[-53.34055732 -59.32096692 -64.71948071 -60.0456001 ]\n",
        " [-50.94900572 -53.59910023 -53.41871892 -55.97506719]\n",
        " [ -0.19271128  -0.20369817  -0.2078873   -0.20960519]]\n",
        "[[ 276.79000931  264.37998547    1.        ]\n",
        " [ 291.21993548  263.13000821    1.        ]\n",
        " [ 311.3200249   256.9599867     1.        ]\n",
        " [ 286.47000076  267.05000056    1.        ]]\n"
       ]
      }
     ],
     "prompt_number": 111
    },
    {
     "cell_type": "code",
     "collapsed": false,
     "input": [
      "bob = np.dot(homography, np.concatenate((np.array(matchedPoints1[matchedPointsSortedIdxs[0:4], 0:2], dtype=np.float32).T, np.ones((1, 4))), axis=0)[:, 0])\n",
      "print bob/bob[-1], bob, bob/bob[0]"
     ],
     "language": "python",
     "metadata": {},
     "outputs": [
      {
       "output_type": "stream",
       "stream": "stdout",
       "text": [
        "[ 276.79000931  264.37998547    1.        ] [-53.34055732 -50.94900572  -0.19271128] [ 1.          0.95516448  0.00361285]\n"
       ]
      }
     ],
     "prompt_number": 104
    },
    {
     "cell_type": "code",
     "collapsed": false,
     "input": [
      "bob = np.dot(hom, np.concatenate((np.array(matchedPoints1[matchedPointsSortedIdxs[0:4], 0:2], dtype=np.float32).T[::-1], np.ones((1, 4))), axis=0)[:, 0])\n",
      "print bob/bob[-1], bob, bob/bob[0]"
     ],
     "language": "python",
     "metadata": {},
     "outputs": [
      {
       "output_type": "stream",
       "stream": "stdout",
       "text": [
        "[-0.00514353  2.43862716  1.        ] [  -0.46236355  219.21367084   89.89224512] [   1.         -474.11538203 -194.41897018]\n"
       ]
      }
     ],
     "prompt_number": 99
    },
    {
     "cell_type": "code",
     "collapsed": false,
     "input": [
      "tmp = np.dot(np.concatenate((np.array(matchedPoints1[matchedPointsSortedIdxs[0:4], 0:2], dtype=np.float32), np.ones((4, 1))), axis=-1), homography)\n",
      "print np.reshape(np.repeat(tmp[:, -1], 2, axis=0), (4, 2))\n",
      "print tmp/np.reshape(np.repeat(tmp[:, -1], 3, axis=0), (4, 3))"
     ],
     "language": "python",
     "metadata": {},
     "outputs": [
      {
       "output_type": "stream",
       "stream": "stdout",
       "text": [
        "[[ 157709.41872323  157709.41872323]\n",
        " [ 161107.3380463   161107.3380463 ]\n",
        " [ 164982.25847418  164982.25847418]\n",
        " [ 160873.97652719  160873.97652719]]\n",
        "[[-0.00156375 -0.0034312   1.        ]\n",
        " [-0.00157357 -0.00342105  1.        ]\n",
        " [-0.00158971 -0.00340435  1.        ]\n",
        " [-0.00156846 -0.00342634  1.        ]]\n"
       ]
      }
     ],
     "prompt_number": 61
    },
    {
     "cell_type": "code",
     "collapsed": false,
     "input": [
      "gray = cv2.cvtColor(im1,cv2.COLOR_BGR2GRAY)\n",
      "gray = np.float32(gray)\n",
      "\n",
      "dst = cv2.cornerHarris(gray,2,3,0.04)\n",
      "# dst = cv2.dilate(dst,None)\n",
      "# Threshold for an optimal value, it may vary depending on the image.\n",
      "corners  = np.zeros(gray.shape)\n",
      "corners[dst>0.05*dst.max()]=255"
     ],
     "language": "python",
     "metadata": {},
     "outputs": [],
     "prompt_number": 10
    },
    {
     "cell_type": "code",
     "collapsed": false,
     "input": [
      "figure(); imshow(im1)\n",
      "scatter(np.argwhere(corners == 255)[:, 1], np.argwhere(corners == 255)[:, 0])"
     ],
     "language": "python",
     "metadata": {},
     "outputs": [
      {
       "metadata": {},
       "output_type": "pyout",
       "prompt_number": 11,
       "text": [
        "<matplotlib.collections.PathCollection at 0x7fb88c77ba50>"
       ]
      }
     ],
     "prompt_number": 11
    },
    {
     "cell_type": "code",
     "collapsed": false,
     "input": [
      "M2 = icp(l1[:, 0:2].T, l2[:, 0:2].T, no_iterations=30)\n",
      "\n",
      "#Plot the result\n",
      "src = np.array([l1[:, 0:2]]).astype(np.float32)\n",
      "res = cv2.transform(src, M2)\n",
      "figure()\n",
      "imshow(im2)\n",
      "ax = gca()\n",
      "ax.set_autoscale_on(False)\n",
      "plot(l2[:, 1],l2[:, 0], 'b.') ## target point cloud\n",
      "plot(res[0].T[1], res[0].T[0], 'r.') ## point cloud fitted with found transform\n",
      "plot(l1[:, 1], l1[:, 0], 'g.') ## point cloud to fit to target"
     ],
     "language": "python",
     "metadata": {},
     "outputs": [
      {
       "output_type": "stream",
       "stream": "stdout",
       "text": [
        "(1, 2416, 2)\n",
        "[[ 1. -0.  0.]\n",
        " [ 0.  1.  0.]\n",
        " [ 0.  0.  1.]]\n"
       ]
      },
      {
       "metadata": {},
       "output_type": "pyout",
       "prompt_number": 94,
       "text": [
        "[<matplotlib.lines.Line2D at 0x7fb862c9ea10>]"
       ]
      }
     ],
     "prompt_number": 94
    },
    {
     "cell_type": "code",
     "collapsed": false,
     "input": [
      "ang = np.linspace(-np.pi/2, np.pi/2, 320)\n",
      "a = np.array([ang, np.sin(ang)])\n",
      "th = np.pi/2\n",
      "rot = np.array([[np.cos(th), -np.sin(th)],[np.sin(th), np.cos(th)]])\n",
      "b = np.dot(rot, a) + np.array([[0.2], [0.3]])\n",
      "\n",
      "#Run the icp\n",
      "M2 = icp(a, b, [0.18,  0.32, np.pi/2.2], 100)\n",
      "\n",
      "#Plot the result\n",
      "src = np.array([a.T]).astype(np.float32)\n",
      "res = cv2.transform(src, M2)\n",
      "plt.figure()\n",
      "plt.plot(b[0],b[1], 'b.')\n",
      "plt.plot(res[0].T[0], res[0].T[1], 'r.')\n",
      "plt.plot(a[0], a[1], 'g.')\n",
      "plt.show()"
     ],
     "language": "python",
     "metadata": {},
     "outputs": [
      {
       "output_type": "stream",
       "stream": "stdout",
       "text": [
        "(1, 320, 2)\n",
        "[[ 0.14231484 -0.98982144  0.18      ]\n",
        " [ 0.98982144  0.14231484  0.32      ]\n",
        " [ 0.          0.          1.        ]]\n"
       ]
      }
     ],
     "prompt_number": 100
    },
    {
     "cell_type": "code",
     "collapsed": false,
     "input": [
      "from sklearn.neighbors import NearestNeighbors\n",
      "\n",
      "def icp(a, b, #init_pose=(0,0,0), no_iterations = 13):\n",
      "    '''\n",
      "    The Iterative Closest Point estimator.\n",
      "    Takes two cloudpoints a[x,y], b[x,y], an initial estimation of\n",
      "    their relative pose and the number of iterations\n",
      "    Returns the affine transform that transforms\n",
      "    the cloudpoint a to the cloudpoint b.\n",
      "    Note:\n",
      "        (1) This method works for cloudpoints with minor\n",
      "        transformations. Thus, the result depents greatly on\n",
      "        the initial pose estimation.\n",
      "        (2) A large number of iterations does not necessarily\n",
      "        ensure convergence. Contrarily, most of the time it\n",
      "        produces worse results.\n",
      "    '''\n",
      "\n",
      "    src = np.array([a.T], copy=True).astype(np.float32)\n",
      "    dst = np.array([b.T], copy=True).astype(np.float32)\n",
      "    print src.shape\n",
      "\n",
      "    #Initialise with the initial pose estimation\n",
      "    Tr = np.array([[np.cos(init_pose[2]),-np.sin(init_pose[2]),init_pose[0]],\n",
      "                   [np.sin(init_pose[2]), np.cos(init_pose[2]),init_pose[1]],\n",
      "                   [0,                    0,                   1          ]])\n",
      "    print Tr\n",
      "\n",
      "    src = cv2.transform(src, Tr[0:2])\n",
      "\n",
      "    for i in range(no_iterations):\n",
      "        #Find the nearest neighbours between the current source and the\n",
      "        #destination cloudpoint\n",
      "        nbrs = NearestNeighbors(n_neighbors=1, algorithm='auto').fit(dst[0])\n",
      "        distances, indices = nbrs.kneighbors(src[0])\n",
      "\n",
      "        #Compute the transformation between the current source\n",
      "        #and destination cloudpoint\n",
      "        T = cv2.estimateRigidTransform(src, dst[0, indices.T], False)\n",
      "        #Transform the previous source and update the\n",
      "        #current source cloudpoint\n",
      "        src = cv2.transform(src, T)\n",
      "        #Save the transformation from the actual source cloudpoint\n",
      "        #to the destination\n",
      "        Tr = np.dot(Tr, np.vstack((T,[0,0,1])))\n",
      "    return Tr[0:2]"
     ],
     "language": "python",
     "metadata": {},
     "outputs": [],
     "prompt_number": 65
    }
   ],
   "metadata": {}
  }
 ]
}