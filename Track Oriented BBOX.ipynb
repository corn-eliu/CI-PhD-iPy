{
 "metadata": {
  "name": ""
 },
 "nbformat": 3,
 "nbformat_minor": 0,
 "worksheets": [
  {
   "cells": [
    {
     "cell_type": "code",
     "collapsed": false,
     "input": [
      "%pylab\n",
      "import numpy as np\n",
      "import sys\n",
      "sys.path.append('CMT tracker/')\n",
      "\n",
      "import CMT\n",
      "import CMT_utils\n",
      "\n",
      "import cv2\n",
      "import time\n",
      "import os\n",
      "import scipy.io as sio\n",
      "import glob\n",
      "\n",
      "\n",
      "from PIL import Image\n",
      "from PySide import QtCore, QtGui\n",
      "\n",
      "\n",
      "app = QtGui.QApplication(sys.argv)"
     ],
     "language": "python",
     "metadata": {},
     "outputs": [
      {
       "output_type": "stream",
       "stream": "stdout",
       "text": [
        "Using matplotlib backend: TkAgg\n",
        "Populating the interactive namespace from numpy and matplotlib\n"
       ]
      }
     ],
     "prompt_number": 1
    },
    {
     "cell_type": "code",
     "collapsed": false,
     "input": [
      "DICT_SPRITE_NAME = 'sprite_name'\n",
      "# DICT_BBOX_AFFINES = 'bbox_affines'\n",
      "DICT_BBOXES = 'bboxes'\n",
      "DICT_BBOX_ROTATIONS = 'bbox_rotations'\n",
      "DICT_BBOX_CENTERS = 'bbox_centers'\n",
      "# DICT_NUM_FRAMES = 'num_frames'\n",
      "# DICT_START_FRAME = 'start_frame'\n",
      "DICT_FRAMES_LOCATIONS = 'frame_locs'\n",
      "\n",
      "dataPath = \"/home/ilisescu/PhD/data/\"\n",
      "dataSet = \"havana/\"\n",
      "formatString = \"{:05d}.png\"\n",
      "\n",
      "TL_IDX = 0\n",
      "TR_IDX = 1\n",
      "BR_IDX = 2\n",
      "BL_IDX = 3"
     ],
     "language": "python",
     "metadata": {},
     "outputs": [],
     "prompt_number": 2
    },
    {
     "cell_type": "code",
     "collapsed": false,
     "input": [
      "## load dataSet relevant data\n",
      "frameLocs = np.sort(glob.glob(dataPath + dataSet + \"/frame-*.png\"))\n",
      "numOfFrames = len(frameLocs)\n",
      "numOfTrackedSprites = 0"
     ],
     "language": "python",
     "metadata": {},
     "outputs": [],
     "prompt_number": 3
    },
    {
     "cell_type": "code",
     "collapsed": false,
     "input": [
      "## load the tracked sprites\n",
      "sprites = [{\n",
      "               DICT_SPRITE_NAME:'havana_red_car_plusrot', \n",
      "               # DICT_BBOX_AFFINES:sio.loadmat(\"../ASLA tracker/result/havana_red_car_plusrot/Result/result.mat\")['result'], \n",
      "               DICT_NUM_FRAMES:0, \n",
      "               DICT_FRAMES_LOCATIONS:[]\n",
      "           }, \n",
      "           {\n",
      "               DICT_SPRITE_NAME:'havana_bus', \n",
      "               # DICT_BBOX_AFFINES:sio.loadmat(\"../ASLA tracker/result/havana_bus/Result/result.mat\")['result'], \n",
      "               DICT_NUM_FRAMES:0, \n",
      "               DICT_FRAMES_LOCATIONS:[]\n",
      "           }\n",
      "          ]\n",
      "\n",
      "numOfSprites = len(sprites)\n",
      "## setting number of frames from the number of tracked bboxes\n",
      "for i in arange(numOfSprites) :\n",
      "    trackedSprites[i][DICT_NUM_FRAMES] = len(trackedSprites[i][DICT_BBOX_AFFINES])\n",
      "## setting frame locations for the tracked sprites\n",
      "for i in arange(numOfSprites) :\n",
      "    trackedSprites[i][DICT_FRAMES_LOCATIONS] = np.sort(glob.glob(dataPath + trackedSprites[i][DICT_SPRITE_NAME] + \"/*.png\"))"
     ],
     "language": "python",
     "metadata": {},
     "outputs": [
      {
       "ename": "NameError",
       "evalue": "name 'sio' is not defined",
       "output_type": "pyerr",
       "traceback": [
        "\u001b[0;31m---------------------------------------------------------------------------\u001b[0m\n\u001b[0;31mNameError\u001b[0m                                 Traceback (most recent call last)",
        "\u001b[0;32m<ipython-input-284-02a2aa36952c>\u001b[0m in \u001b[0;36m<module>\u001b[0;34m()\u001b[0m\n\u001b[1;32m      2\u001b[0m trackedSprites = [{\n\u001b[1;32m      3\u001b[0m                    \u001b[0mDICT_SPRITE_NAME\u001b[0m\u001b[0;34m:\u001b[0m\u001b[0;34m'havana_red_car_plusrot'\u001b[0m\u001b[0;34m,\u001b[0m\u001b[0;34m\u001b[0m\u001b[0m\n\u001b[0;32m----> 4\u001b[0;31m                    \u001b[0mDICT_BBOX_AFFINES\u001b[0m\u001b[0;34m:\u001b[0m\u001b[0msio\u001b[0m\u001b[0;34m.\u001b[0m\u001b[0mloadmat\u001b[0m\u001b[0;34m(\u001b[0m\u001b[0;34m\"../ASLA tracker/result/havana_red_car_plusrot/Result/result.mat\"\u001b[0m\u001b[0;34m)\u001b[0m\u001b[0;34m[\u001b[0m\u001b[0;34m'result'\u001b[0m\u001b[0;34m]\u001b[0m\u001b[0;34m,\u001b[0m\u001b[0;34m\u001b[0m\u001b[0m\n\u001b[0m\u001b[1;32m      5\u001b[0m                    \u001b[0mDICT_NUM_FRAMES\u001b[0m\u001b[0;34m:\u001b[0m\u001b[0;36m0\u001b[0m\u001b[0;34m,\u001b[0m\u001b[0;34m\u001b[0m\u001b[0m\n\u001b[1;32m      6\u001b[0m                    \u001b[0mDICT_FRAMES_LOCATIONS\u001b[0m\u001b[0;34m:\u001b[0m\u001b[0;34m[\u001b[0m\u001b[0;34m]\u001b[0m\u001b[0;34m\u001b[0m\u001b[0m\n",
        "\u001b[0;31mNameError\u001b[0m: name 'sio' is not defined"
       ]
      }
     ],
     "prompt_number": 284
    },
    {
     "cell_type": "code",
     "collapsed": false,
     "input": [
      "print (dataPath+dataSet+formatString).format(1)"
     ],
     "language": "python",
     "metadata": {},
     "outputs": [
      {
       "output_type": "stream",
       "stream": "stdout",
       "text": [
        "../ASLA tracker/Datasets/havana_red_car/00001.png\n"
       ]
      }
     ],
     "prompt_number": 24
    },
    {
     "cell_type": "code",
     "collapsed": false,
     "input": [
      "cap = CMT_utils.FileVideoCapture(dataPath + dataSet + formatString)\n",
      "\n",
      "if not cap.isOpened():\n",
      "\tprint 'Unable to open video input.'\n",
      "\tsys.exit(1)\n",
      "    \n",
      "status, im0 = cap.read()\n",
      "im_gray0 = cv2.cvtColor(im0, cv2.COLOR_BGR2GRAY)\n",
      "im_draw = np.copy(im0)\n",
      "\n",
      "# (tl, br) = CMT_utils.get_rect(im_draw)"
     ],
     "language": "python",
     "metadata": {},
     "outputs": [],
     "prompt_number": 6
    },
    {
     "cell_type": "code",
     "collapsed": false,
     "input": [
      "tl = (1064, 410) # (1068, 418) # (1058, 426)\n",
      "br = (1167, 506) # (1164, 496) # (1058+114, 426+67)\n",
      "tr = (1183, 439) # (1176, 442) # None\n",
      "bl = (1048, 478) # (1054, 471) # None\n",
      "\n",
      "tracker = CMT.CMT()\n",
      "tracker.estimate_scale = True\n",
      "tracker.estimate_rotation = True\n",
      "pause_time = 10\n",
      "\n",
      "tracker.initialise(im_gray0, tl, br, tr, bl)"
     ],
     "language": "python",
     "metadata": {},
     "outputs": [],
     "prompt_number": 7
    },
    {
     "cell_type": "code",
     "collapsed": false,
     "input": [
      "cv2.destroyAllWindows()\n",
      "output = None#\"CMT tracker/results/\" + dataSet\n",
      "if output != None and not os.path.isdir(output):\n",
      "    os.makedirs(output)\n",
      "\n",
      "frame = 1\n",
      "while True: #frame < 2:\n",
      "    # Read image\n",
      "    status, im = cap.read()\n",
      "    if not status:\n",
      "        break\n",
      "    im_gray = cv2.cvtColor(im, cv2.COLOR_BGR2GRAY)\n",
      "    im_draw = np.copy(im)\n",
      "\n",
      "    tic = time.time()\n",
      "    tracker.process_frame(im_gray)\n",
      "    toc = time.time()\n",
      "\n",
      "    # Display results\n",
      "\n",
      "    # Draw updated estimate\n",
      "    if tracker.has_result:\n",
      "\n",
      "        cv2.line(im_draw, tracker.tl, tracker.tr, (255, 0, 0), 4)\n",
      "        cv2.line(im_draw, tracker.tr, tracker.br, (255, 0, 0), 4)\n",
      "        cv2.line(im_draw, tracker.br, tracker.bl, (255, 0, 0), 4)\n",
      "        cv2.line(im_draw, tracker.bl, tracker.tl, (255, 0, 0), 4)\n",
      "\n",
      "    CMT_utils.draw_keypoints(tracker.tracked_keypoints, im_draw, (255, 255, 255))\n",
      "    # this is from simplescale\n",
      "    CMT_utils.draw_keypoints(tracker.votes[:, :2], im_draw)  # blue\n",
      "    CMT_utils.draw_keypoints(tracker.outliers[:, :2], im_draw, (0, 0, 255))\n",
      "\n",
      "    if output is not None:\n",
      "        # Original image\n",
      "        cv2.imwrite('{0}/input_{1:08d}.png'.format(output, frame), im)\n",
      "        # Output image\n",
      "        cv2.imwrite('{0}/output_{1:08d}.png'.format(output, frame), im_draw)\n",
      "\n",
      "        # Keypoints\n",
      "        with open('{0}/keypoints_{1:08d}.csv'.format(output, frame), 'w') as f:\n",
      "            f.write('x y\\n')\n",
      "            np.savetxt(f, tracker.tracked_keypoints[:, :2], fmt='%.2f')\n",
      "\n",
      "        # Outlier\n",
      "        with open('{0}/outliers_{1:08d}.csv'.format(output, frame), 'w') as f:\n",
      "            f.write('x y\\n')\n",
      "            np.savetxt(f, tracker.outliers, fmt='%.2f')\n",
      "\n",
      "        # Votes\n",
      "        with open('{0}/votes_{1:08d}.csv'.format(output, frame), 'w') as f:\n",
      "            f.write('x y\\n')\n",
      "            np.savetxt(f, tracker.votes, fmt='%.2f')\n",
      "\n",
      "        # Bounding box\n",
      "        with open('{0}/bbox_{1:08d}.csv'.format(output, frame), 'w') as f:\n",
      "            f.write('x y\\n')\n",
      "            # Duplicate entry tl is not a mistake, as it is used as a drawing instruction\n",
      "            np.savetxt(f, np.array((tracker.tl, tracker.tr, tracker.br, tracker.bl, tracker.tl)), fmt='%.2f') \n",
      "\n",
      "    if True : #not args.quiet:\n",
      "        cv2.imshow('main', im_draw)\n",
      "\n",
      "        # Check key input\n",
      "        k = cv2.waitKey(pause_time)\n",
      "        key = chr(k & 255)\n",
      "        if key == 'q':\n",
      "            break\n",
      "        if key == 'd':\n",
      "            import ipdb; ipdb.set_trace()\n",
      "\n",
      "    # Remember image\n",
      "    im_prev = im_gray\n",
      "\n",
      "    # Advance frame number\n",
      "    frame += 1\n",
      "\n",
      "    print '{5:04d}: center: {0:.2f},{1:.2f} scale: {2:.2f}, active: {3:03d}, {4:04.0f}ms'.format(tracker.center[0], \n",
      "                    tracker.center[1], tracker.scale_estimate, tracker.active_keypoints.shape[0], 1000 * (toc - tic), frame)"
     ],
     "language": "python",
     "metadata": {},
     "outputs": [],
     "prompt_number": 7
    },
    {
     "cell_type": "code",
     "collapsed": false,
     "input": [
      "# Get initial keypoints in whole image\n",
      "keypoints_cv = tracker.detector.detect(im_gray0)\n",
      "\n",
      "# Remember keypoints that are in the rectangle as selected keypoints\n",
      "ind = CMT_utils.in_rect(keypoints_cv, tl, br)\n",
      "\n",
      "figure(); imshow(cv2.cvtColor(im0, cv2.COLOR_BGR2RGB))\n",
      "\n",
      "points = CMT_utils.keypoints_cv_to_np(keypoints_cv)\n",
      "scatter(points[:, 0], points[:, 1])\n",
      "scatter(points[ind, 0], points[ind, 1], marker='x', c='r')\n",
      "\n",
      "p = Path([tl, tr, br, bl, tl])\n",
      "insideBBox = p.contains_points(points)\n",
      "# cv2.minAreaRect(\n",
      "\n",
      "scatter(points[insideBBox, 0], points[insideBBox, 1], marker='.', c='g')"
     ],
     "language": "python",
     "metadata": {},
     "outputs": [
      {
       "metadata": {},
       "output_type": "pyout",
       "prompt_number": 26,
       "text": [
        "<matplotlib.collections.PathCollection at 0x7fb4305b2b10>"
       ]
      }
     ],
     "prompt_number": 26
    },
    {
     "cell_type": "code",
     "collapsed": false,
     "input": [
      "from matplotlib.path import Path\n",
      "p = Path([tl, tr, br, bl, tl])\n",
      "print len(np.argwhere(p.contains_points(points)))"
     ],
     "language": "python",
     "metadata": {},
     "outputs": [],
     "prompt_number": 21
    },
    {
     "cell_type": "code",
     "collapsed": false,
     "input": [
      "class ImageLabel(QtGui.QLabel) :\n",
      "    \n",
      "    def __init__(self, text, parent=None):\n",
      "        super(ImageLabel, self).__init__(text, parent)\n",
      "        \n",
      "        self.setMouseTracking(True)\n",
      "        \n",
      "        self.image = None\n",
      "        self.overlay = None\n",
      "        \n",
      "    def setImage(self, image) : \n",
      "        self.image = image.copy()\n",
      "        self.update()\n",
      "\n",
      "    def setOverlay(self, overlay) :\n",
      "        self.overlay = overlay.copy()\n",
      "        self.update()\n",
      "        \n",
      "    def paintEvent(self, event):\n",
      "        super(ImageLabel, self).paintEvent(event)\n",
      "        painter = QtGui.QPainter(self)\n",
      "        if self.image != None :\n",
      "            painter.drawImage(QtCore.QPoint(0, 0), self.image)\n",
      "            \n",
      "        if self.overlay != None :\n",
      "            painter.drawImage(QtCore.QPoint(0, 0), self.overlay)\n",
      "        \n",
      "    def setPixmap(self, pixmap) :\n",
      "        if pixmap.width() > self.width() :\n",
      "            super(ImageLabel, self).setPixmap(pixmap.scaledToWidth(self.width()))\n",
      "        else :\n",
      "            super(ImageLabel, self).setPixmap(pixmap)\n",
      "        \n",
      "    def resizeEvent(self, event) :\n",
      "        if self.pixmap() != None :\n",
      "            if self.pixmap().width() > self.width() :\n",
      "                self.setPixmap(self.pixmap().scaledToWidth(self.width()))\n",
      "                \n",
      "                \n",
      "class Window(QtGui.QWidget):\n",
      "    def __init__(self):\n",
      "        super(Window, self).__init__()\n",
      "        \n",
      "        self.createGUI()\n",
      "        \n",
      "        self.setWindowTitle(\"CMT Tracking\")\n",
      "        self.resize(1280, 720)\n",
      "        \n",
      "        self.settingBBox = False\n",
      "        self.movingBBox = False\n",
      "        self.rotatingBBox = False\n",
      "        self.bboxIsSet = False\n",
      "        \n",
      "        self.bbox = np.array([QtCore.QPointF(), QtCore.QPointF(), QtCore.QPointF(), \n",
      "                              QtCore.QPointF(), QtCore.QPointF()])\n",
      "        self.centerPoint = QtCore.QPointF()\n",
      "        \n",
      "        self.prevPoint = None\n",
      "        self.copiedBBox = np.array([QtCore.QPointF(), QtCore.QPointF(), QtCore.QPointF(), \n",
      "                              QtCore.QPointF(), QtCore.QPointF()])\n",
      "        self.copiedCenter = QtCore.QPointF()\n",
      "        \n",
      "        self.tracker = None\n",
      "        self.tracking = False\n",
      "        \n",
      "        self.trackedSprites = []\n",
      "        self.currentSpriteIdx = -1\n",
      "        \n",
      "        self.frameIdx = 0\n",
      "        self.frameImg = None\n",
      "        self.overlayImg = QtGui.QImage(QtCore.QSize(100, 100), QtGui.QImage.Format_ARGB32)\n",
      "        self.showFrame(self.frameIdx)\n",
      "        \n",
      "        self.loadTrackedSprites()\n",
      "        \n",
      "        self.setFocus()\n",
      "        \n",
      "    def initTracker(self) :\n",
      "        im0 = cv2.imread(frameLocs[self.frameIdx])\n",
      "        im_gray0 = cv2.cvtColor(im0, cv2.COLOR_BGR2GRAY)\n",
      "        im_draw = np.copy(im0)\n",
      "        \n",
      "        self.tracker = CMT.CMT()\n",
      "        self.tracker.estimate_scale = True\n",
      "        self.tracker.estimate_rotation = True\n",
      "        pause_time = 10\n",
      "        \n",
      "        self.tracker.initialise(im_gray0, (self.bbox[TL_IDX].x(), self.bbox[TL_IDX].y()), \n",
      "                                          (self.bbox[BR_IDX].x(), self.bbox[BR_IDX].y()), \n",
      "                                          (self.bbox[TR_IDX].x(), self.bbox[TR_IDX].y()), \n",
      "                                          (self.bbox[BL_IDX].x(), self.bbox[BL_IDX].y()))\n",
      "        \n",
      "        rot = np.mod(np.arctan2(-(self.bbox[TL_IDX]-self.bbox[TR_IDX]).y(), \n",
      "                                 (self.bbox[TL_IDX]-self.bbox[TR_IDX]).x()),2*np.pi)\n",
      "        \n",
      "        ## update sprite dict\n",
      "        if self.currentSpriteIdx < len(self.trackedSprites) and self.currentSpriteIdx >= 0 :\n",
      "            self.trackedSprites[self.currentSpriteIdx][DICT_BBOXES][self.frameIdx] = np.array([[self.bbox[TL_IDX].x(), self.bbox[TL_IDX].y()], \n",
      "                                                                                                [self.bbox[TR_IDX].x(), self.bbox[TR_IDX].y()], \n",
      "                                                                                                [self.bbox[BR_IDX].x(), self.bbox[BR_IDX].y()], \n",
      "                                                                                                [self.bbox[BL_IDX].x(), self.bbox[BL_IDX].y()]])\n",
      "            self.trackedSprites[self.currentSpriteIdx][DICT_BBOX_CENTERS][self.frameIdx] = np.array([self.centerPoint.x(), self.centerPoint.y()])\n",
      "            self.trackedSprites[self.currentSpriteIdx][DICT_BBOX_ROTATIONS][self.frameIdx] = np.copy(rot)\n",
      "            self.trackedSprites[self.currentSpriteIdx][DICT_FRAMES_LOCATIONS][self.frameIdx] = frameLocs[self.frameIdx]\n",
      "        \n",
      "    def trackInFrame(self) :\n",
      "        im = cv2.imread(frameLocs[self.frameIdx])\n",
      "        im_gray = cv2.cvtColor(im, cv2.COLOR_BGR2GRAY)\n",
      "        im_draw = np.copy(im)\n",
      "    \n",
      "        tic = time.time()\n",
      "        self.tracker.process_frame(im_gray)\n",
      "        toc = time.time()\n",
      "    \n",
      "        # Display results\n",
      "    \n",
      "        # Draw updated estimate\n",
      "        if self.tracker.has_result:\n",
      "            ## update bbox\n",
      "            self.bbox[TL_IDX].setX(self.tracker.tl[0])\n",
      "            self.bbox[TL_IDX].setY(self.tracker.tl[1])\n",
      "            self.bbox[TR_IDX].setX(self.tracker.tr[0])\n",
      "            self.bbox[TR_IDX].setY(self.tracker.tr[1])\n",
      "            self.bbox[BR_IDX].setX(self.tracker.br[0])\n",
      "            self.bbox[BR_IDX].setY(self.tracker.br[1])\n",
      "            self.bbox[BL_IDX].setX(self.tracker.bl[0])\n",
      "            self.bbox[BL_IDX].setY(self.tracker.bl[1])\n",
      "            self.bbox[-1] = self.bbox[TL_IDX]\n",
      "            \n",
      "            ## update center point. NOTE: bbox center point is != self.tracker.center(= center of feature points)\n",
      "            minX = np.min((self.bbox[TL_IDX].x(), self.bbox[TR_IDX].x(), self.bbox[BR_IDX].x(), self.bbox[BL_IDX].x()))\n",
      "            maxX = np.max((self.bbox[TL_IDX].x(), self.bbox[TR_IDX].x(), self.bbox[BR_IDX].x(), self.bbox[BL_IDX].x()))\n",
      "            minY = np.min((self.bbox[TL_IDX].y(), self.bbox[TR_IDX].y(), self.bbox[BR_IDX].y(), self.bbox[BL_IDX].y()))\n",
      "            maxY = np.max((self.bbox[TL_IDX].y(), self.bbox[TR_IDX].y(), self.bbox[BR_IDX].y(), self.bbox[BL_IDX].y()))\n",
      "            self.centerPoint.setX(minX + (maxX - minX)/2.0)\n",
      "            self.centerPoint.setY(minY + (maxY - minY)/2.0)\n",
      "            \n",
      "            ## compute rotation in radians\n",
      "            rot = np.mod(np.arctan2(-(self.bbox[TL_IDX]-self.bbox[TR_IDX]).y(), \n",
      "                                     (self.bbox[TL_IDX]-self.bbox[TR_IDX]).x()),2*np.pi)\n",
      "#             print \"rotation\", rot*180.0/np.pi\n",
      "            \n",
      "            ## draw\n",
      "            if self.drawOverlay() :\n",
      "                self.frameLabel.setOverlay(self.overlayImg)\n",
      "            \n",
      "            ## update sprite dict\n",
      "            if self.currentSpriteIdx < len(self.trackedSprites) and self.currentSpriteIdx >= 0 :\n",
      "                self.trackedSprites[self.currentSpriteIdx][DICT_BBOXES][self.frameIdx] = np.array([[self.bbox[TL_IDX].x(), self.bbox[TL_IDX].y()], \n",
      "                                                                                                    [self.bbox[TR_IDX].x(), self.bbox[TR_IDX].y()], \n",
      "                                                                                                    [self.bbox[BR_IDX].x(), self.bbox[BR_IDX].y()], \n",
      "                                                                                                    [self.bbox[BL_IDX].x(), self.bbox[BL_IDX].y()]])\n",
      "                self.trackedSprites[self.currentSpriteIdx][DICT_BBOX_CENTERS][self.frameIdx] = np.array([self.centerPoint.x(), self.centerPoint.y()])\n",
      "                self.trackedSprites[self.currentSpriteIdx][DICT_BBOX_ROTATIONS][self.frameIdx] = rot\n",
      "                self.trackedSprites[self.currentSpriteIdx][DICT_FRAMES_LOCATIONS][self.frameIdx] = frameLocs[self.frameIdx]\n",
      "                \n",
      "        else :\n",
      "            print \"tracker failed!!!\"\n",
      "        \n",
      "        \n",
      "    def trackInVideo(self, goForward) :        \n",
      "        if goForward :\n",
      "            self.frameIdxSpinBox.setValue(self.frameIdx+1)\n",
      "        else :\n",
      "            self.frameIdxSpinBox.setValue(self.frameIdx-1)\n",
      "        \n",
      "        while self.frameIdx >= 0 and self.frameIdx < numOfFrames and self.tracking :\n",
      "            self.trackInFrame()\n",
      "        \n",
      "            # Advance frame number\n",
      "            if goForward :\n",
      "                self.frameIdxSpinBox.setValue(self.frameIdx+1)\n",
      "            else :\n",
      "                self.frameIdxSpinBox.setValue(self.frameIdx-1)\n",
      "        \n",
      "#             print '{5:04d}: center: {0:.2f},{1:.2f} scale: {2:.2f}, active: {3:03d}, {4:04.0f}ms'.format(self.tracker.center[0], \n",
      "#                             self.tracker.center[1], self.tracker.scale_estimate, self.tracker.active_keypoints.shape[0], 1000 * (toc - tic), self.frameIdx)\n",
      "            \n",
      "            QtCore.QCoreApplication.processEvents()\n",
      "    \n",
      "    def showFrame(self, idx) :\n",
      "        self.frameIdx = idx\n",
      "        ## HACK ##\n",
      "#         im = np.ascontiguousarray(Image.open((dataPath+dataSet+formatString).format(self.frameIdx+1)))\n",
      "        im = np.ascontiguousarray(Image.open(frameLocs[self.frameIdx]))\n",
      "        self.frameImg = QtGui.QImage(im.data, im.shape[1], im.shape[0], im.strides[0], QtGui.QImage.Format_RGB888);\n",
      "        \n",
      "        self.frameLabel.setFixedSize(self.frameImg.width(), self.frameImg.height())\n",
      "        self.frameLabel.setImage(self.frameImg)\n",
      "        \n",
      "        self.frameInfo.setText(frameLocs[self.frameIdx])\n",
      "        \n",
      "        if self.currentSpriteIdx < len(self.trackedSprites) and self.currentSpriteIdx >= 0 :\n",
      "            ## set self.bbox to bbox computed for current frame if it exists\n",
      "            if not self.tracking :\n",
      "                if self.frameIdx in self.trackedSprites[self.currentSpriteIdx][DICT_BBOXES].keys() :\n",
      "                    self.bbox[TL_IDX].setX(self.trackedSprites[self.currentSpriteIdx][DICT_BBOXES][self.frameIdx][TL_IDX, 0])\n",
      "                    self.bbox[TL_IDX].setY(self.trackedSprites[self.currentSpriteIdx][DICT_BBOXES][self.frameIdx][TL_IDX, 1])\n",
      "                    self.bbox[TR_IDX].setX(self.trackedSprites[self.currentSpriteIdx][DICT_BBOXES][self.frameIdx][TR_IDX, 0])\n",
      "                    self.bbox[TR_IDX].setY(self.trackedSprites[self.currentSpriteIdx][DICT_BBOXES][self.frameIdx][TR_IDX, 1])\n",
      "                    self.bbox[BR_IDX].setX(self.trackedSprites[self.currentSpriteIdx][DICT_BBOXES][self.frameIdx][BR_IDX, 0])\n",
      "                    self.bbox[BR_IDX].setY(self.trackedSprites[self.currentSpriteIdx][DICT_BBOXES][self.frameIdx][BR_IDX, 1])\n",
      "                    self.bbox[BL_IDX].setX(self.trackedSprites[self.currentSpriteIdx][DICT_BBOXES][self.frameIdx][BL_IDX, 0])\n",
      "                    self.bbox[BL_IDX].setY(self.trackedSprites[self.currentSpriteIdx][DICT_BBOXES][self.frameIdx][BL_IDX, 1])\n",
      "                    self.bbox[-1] = self.bbox[TL_IDX]\n",
      "                    \n",
      "                    self.centerPoint.setX(self.trackedSprites[self.currentSpriteIdx][DICT_BBOX_CENTERS][self.frameIdx][0])\n",
      "                    self.centerPoint.setY(self.trackedSprites[self.currentSpriteIdx][DICT_BBOX_CENTERS][self.frameIdx][1])\n",
      "                    \n",
      "                    if self.drawOverlay(False) :\n",
      "                        self.frameLabel.setOverlay(self.overlayImg)\n",
      "                        \n",
      "                    self.bboxIsSet = True\n",
      "                else :\n",
      "                    if self.drawOverlay(False, False, False) :\n",
      "                        self.frameLabel.setOverlay(self.overlayImg)\n",
      "            \n",
      "    def updateBBox(self) :\n",
      "        if self.settingBBox :\n",
      "#             print \"settingBBox\"\n",
      "            self.bbox[TR_IDX] = QtCore.QPointF(self.bbox[BR_IDX].x(), self.bbox[TL_IDX].y())\n",
      "            self.bbox[BL_IDX] = QtCore.QPointF(self.bbox[TL_IDX].x(), self.bbox[BR_IDX].y())\n",
      "            self.bbox[-1] = self.bbox[TL_IDX]\n",
      "            \n",
      "            tl = self.bbox[TL_IDX]\n",
      "            br = self.bbox[BR_IDX]\n",
      "            self.centerPoint = QtCore.QPointF(min((tl.x(), br.x())) + (max((tl.x(), br.x())) - min((tl.x(), br.x())))/2.0, \n",
      "                                              min((tl.y(), br.y())) + (max((tl.y(), br.y())) - min((tl.y(), br.y())))/2.0)\n",
      "            \n",
      "            if self.drawOverlay(False) :\n",
      "                self.frameLabel.setOverlay(self.overlayImg)\n",
      "            \n",
      "    def drawOverlay(self, doDrawFeats = True, doDrawBBox = True, doDrawCenter = True) :\n",
      "        if self.frameImg != None :\n",
      "            if self.overlayImg.size() != self.frameImg.size() :\n",
      "                self.overlayImg = self.overlayImg.scaled(self.frameImg.size())\n",
      "            \n",
      "            ## empty image\n",
      "            self.overlayImg.fill(QtGui.QColor.fromRgb(255, 255, 255, 0))\n",
      "            \n",
      "            painter = QtGui.QPainter(self.overlayImg)\n",
      "            \n",
      "            ## draw bbox\n",
      "            if doDrawBBox :\n",
      "                painter.setPen(QtGui.QPen(QtGui.QColor.fromRgb(0, 0, 255, 255), 3, \n",
      "                                          QtCore.Qt.SolidLine, QtCore.Qt.RoundCap, QtCore.Qt.RoundJoin))\n",
      "                for p1, p2 in zip(self.bbox[0:-1], self.bbox[1:]) :\n",
      "                    painter.drawLine(p1, p2)\n",
      "            \n",
      "            ## draw bbox center\n",
      "            if doDrawCenter :\n",
      "                painter.drawPoint(self.centerPoint)\n",
      "            \n",
      "            ## draw tracked features\n",
      "            if doDrawFeats :\n",
      "                if self.tracker != None and self.tracker.has_result :\n",
      "                    \n",
      "                    painter.setPen(QtGui.QPen(QtGui.QColor.fromRgb(255, 255, 255, 255), 1, \n",
      "                                          QtCore.Qt.SolidLine, QtCore.Qt.RoundCap, QtCore.Qt.RoundJoin))\n",
      "                    for point in self.tracker.tracked_keypoints[:, 0:-1] :\n",
      "                        painter.drawEllipse(QtCore.QPointF(point[0], point[1]), 3, 3)\n",
      "                        \n",
      "                    painter.setPen(QtGui.QPen(QtGui.QColor.fromRgb(0, 0, 255, 255), 1, \n",
      "                                          QtCore.Qt.SolidLine, QtCore.Qt.RoundCap, QtCore.Qt.RoundJoin))\n",
      "                    for point in self.tracker.votes[:, :2] :\n",
      "                        painter.drawEllipse(QtCore.QPointF(point[0], point[1]), 3, 3)\n",
      "                    \n",
      "                    painter.setPen(QtGui.QPen(QtGui.QColor.fromRgb(255, 0, 0, 255), 1, \n",
      "                                          QtCore.Qt.SolidLine, QtCore.Qt.RoundCap, QtCore.Qt.RoundJoin))\n",
      "                    for point in self.tracker.outliers[:, :2] :\n",
      "                        painter.drawEllipse(QtCore.QPointF(point[0], point[1]), 3, 3)\n",
      "                    \n",
      "            return True\n",
      "        else :\n",
      "            return False\n",
      "    \n",
      "    def createNewSprite(self) :\n",
      "        spriteName, status = QtGui.QInputDialog.getText(self, \"Create New Tracked Sprite\", \"Please name the new tracked sprite\")\n",
      "        if status :\n",
      "            proceed = True\n",
      "            for i in xrange(len(self.trackedSprites)) :\n",
      "                if spriteName == self.trackedSprites[i][DICT_SPRITE_NAME] :\n",
      "                    proceed = QtGui.QMessageBox.question(self, 'Override Tracked Sprite',\n",
      "                                    \"A tracked sprite named \\\"\" + spriteName + \"\\\" already exists.\\nDo you want to override?\", \n",
      "                                    QtGui.QMessageBox.Yes | QtGui.QMessageBox.No, QtGui.QMessageBox.No) == QtGui.QMessageBox.Yes\n",
      "                    if proceed :\n",
      "                        del self.trackedSprites[i]\n",
      "                    break\n",
      "            if proceed :\n",
      "                print \"adding sprite:\", spriteName\n",
      "                self.trackedSprites.append({\n",
      "                                               DICT_SPRITE_NAME:spriteName,\n",
      "                                               # DICT_BBOX_AFFINES:sio.loadmat(\"../ASLA tracker/result/havana_red_car_plusrot/Result/result.mat\")['result'],\n",
      "                                               DICT_BBOXES:{},\n",
      "                                               DICT_BBOX_CENTERS:{},\n",
      "                                               DICT_BBOX_ROTATIONS:{},\n",
      "                                               DICT_FRAMES_LOCATIONS:{}\n",
      "                                           })\n",
      "#                 self.currentSpriteIdx = \n",
      "                self.setSpriteList()\n",
      "                self.spriteListTable.selectRow(len(self.trackedSprites)-1)\n",
      "                self.showFrame(self.frameIdx)\n",
      "                sys.stdout.flush()\n",
      "            \n",
      "        self.setFocus()\n",
      "            \n",
      "    def changeSprite(self, row) :\n",
      "        print \"changingSprite\"\n",
      "        if len(self.trackedSprites) > row :\n",
      "            self.currentSpriteIdx = row\n",
      "            print \"sprite: \", self.trackedSprites[self.currentSpriteIdx][DICT_SPRITE_NAME]\n",
      "            sys.stdout.flush()\n",
      "            ## go to the first frame that has been tracked\n",
      "            if len(self.trackedSprites[self.currentSpriteIdx][DICT_BBOXES].keys()) > 0 :\n",
      "                self.frameIdxSpinBox.setValue(np.min(self.trackedSprites[self.currentSpriteIdx][DICT_BBOXES].keys()))\n",
      "            ## go to the first frame in video\n",
      "            else :\n",
      "                self.frameIdxSpinBox.setValue(0)\n",
      "            \n",
      "        self.setFocus()\n",
      "            \n",
      "    def loadTrackedSprites(self) :\n",
      "        ## going to first frame of first sprite if there were no sprites before loading\n",
      "        goToNewSprite = len(self.trackedSprites) == 0\n",
      "        for sprite in glob.glob(dataPath + dataSet + \"sprite*.npy\") :\n",
      "            self.trackedSprites.append(np.load(sprite).item())\n",
      "        \n",
      "        self.setSpriteList()\n",
      "        if len(self.trackedSprites) > 0 and goToNewSprite :\n",
      "            self.spriteListTable.selectRow(0)\n",
      "            \n",
      "    def setSpriteList(self) :\n",
      "        self.spriteListTable.setRowCount(0)\n",
      "        if len(self.trackedSprites) > 0 :\n",
      "            self.spriteListTable.setRowCount(len(self.trackedSprites))\n",
      "            \n",
      "            for i in xrange(0, len(self.trackedSprites)):\n",
      "                self.spriteListTable.setItem(i, 0, QtGui.QTableWidgetItem(self.trackedSprites[i][DICT_SPRITE_NAME]))\n",
      "        else :\n",
      "            self.spriteListTable.setRowCount(1)\n",
      "            self.spriteListTable.setItem(0, 0, QtGui.QTableWidgetItem(\"No tracked sprites\"))\n",
      "        \n",
      "    def deleteCurrentSpriteFrameBBox(self) :\n",
      "        if self.currentSpriteIdx < len(self.trackedSprites) and self.currentSpriteIdx >= 0 and self.frameIdx in self.trackedSprites[self.currentSpriteIdx][DICT_BBOXES].keys() :\n",
      "            del self.trackedSprites[self.currentSpriteIdx][DICT_BBOXES][self.frameIdx]\n",
      "            del self.trackedSprites[self.currentSpriteIdx][DICT_BBOX_CENTERS][self.frameIdx]\n",
      "            del self.trackedSprites[self.currentSpriteIdx][DICT_BBOX_ROTATIONS][self.frameIdx]\n",
      "            del self.trackedSprites[self.currentSpriteIdx][DICT_FRAMES_LOCATIONS][self.frameIdx]\n",
      "            ## refresh current frame so that new bbox gets drawn\n",
      "            self.showFrame(self.frameIdx)\n",
      "            \n",
      "    def setCurrentSpriteFrameBBox(self) :\n",
      "        if self.currentSpriteIdx < len(self.trackedSprites) and self.currentSpriteIdx >= 0:\n",
      "            ## compute rotation in radians\n",
      "            rot = np.mod(np.arctan2(-(self.bbox[TL_IDX]-self.bbox[TR_IDX]).y(), \n",
      "                                     (self.bbox[TL_IDX]-self.bbox[TR_IDX]).x()),2*np.pi)\n",
      "            \n",
      "            self.trackedSprites[self.currentSpriteIdx][DICT_BBOXES][self.frameIdx] = np.array([[self.bbox[TL_IDX].x(), self.bbox[TL_IDX].y()], \n",
      "                                                                                                [self.bbox[TR_IDX].x(), self.bbox[TR_IDX].y()], \n",
      "                                                                                                [self.bbox[BR_IDX].x(), self.bbox[BR_IDX].y()], \n",
      "                                                                                                [self.bbox[BL_IDX].x(), self.bbox[BL_IDX].y()]])\n",
      "            self.trackedSprites[self.currentSpriteIdx][DICT_BBOX_CENTERS][self.frameIdx] = np.array([self.centerPoint.x(), self.centerPoint.y()])\n",
      "            self.trackedSprites[self.currentSpriteIdx][DICT_BBOX_ROTATIONS][self.frameIdx] = rot\n",
      "            self.trackedSprites[self.currentSpriteIdx][DICT_FRAMES_LOCATIONS][self.frameIdx] = frameLocs[self.frameIdx]\n",
      "            ## refresh current frame so that new bbox gets drawn\n",
      "            self.showFrame(self.frameIdx)\n",
      "        \n",
      "    def saveTrackedSprites(self) :\n",
      "        for sprite in self.trackedSprites :\n",
      "            np.save(dataPath + dataSet + \"/sprite-\" + sprite[DICT_SPRITE_NAME] + \".npy\", sprite)\n",
      "            print sprite[DICT_SPRITE_NAME], \"saved\"\n",
      "            sys.stdout.flush()\n",
      "        \n",
      "    def isInsideBBox(self, point) :\n",
      "        bboxPoly = QtGui.QPolygonF()\n",
      "        for p in self.bbox :\n",
      "            bboxPoly.append(p)\n",
      "            \n",
      "        return bboxPoly.containsPoint(point, QtCore.Qt.WindingFill)\n",
      "            \n",
      "    def closeEvent(self, event) :\n",
      "        print \"closing\"\n",
      "        sys.stdout.flush()\n",
      "        self.saveTrackedSprites()\n",
      "    \n",
      "    def mousePressed(self, event):\n",
      "#         print event.pos()\n",
      "#         sys.stdout.flush()\n",
      "        if event.button() == QtCore.Qt.LeftButton :\n",
      "            if not self.settingBBox and self.isInsideBBox(event.posF()) :\n",
      "#                 print \"movingBBox\"\n",
      "                self.movingBBox = True\n",
      "                self.bboxIsSet = False\n",
      "                self.prevPoint = event.posF()\n",
      "            else :\n",
      "                if not self.settingBBox :\n",
      "                    self.bbox[:] = event.posF()\n",
      "                    self.settingBBox = True\n",
      "                    self.bboxIsSet = False\n",
      "                    self.updateBBox()\n",
      "                else :\n",
      "                    self.bbox[BR_IDX] = event.posF()\n",
      "                    self.updateBBox()\n",
      "                    self.settingBBox = False\n",
      "                    self.bboxIsSet = True\n",
      "        elif event.button() == QtCore.Qt.RightButton :\n",
      "            if not self.settingBBox and self.bboxIsSet :\n",
      "#                 print \"rotatingBBox\"\n",
      "                self.rotatingBBox = True\n",
      "                self.bboxIsSet = False\n",
      "                self.prevPoint = event.posF()\n",
      "                    \n",
      "                \n",
      "        sys.stdout.flush()\n",
      "                \n",
      "    def mouseMoved(self, event):\n",
      "        if self.settingBBox :\n",
      "            self.bbox[BR_IDX] = event.posF()\n",
      "            self.updateBBox()\n",
      "        elif self.movingBBox and self.prevPoint != None :\n",
      "            self.bbox = self.bbox - self.prevPoint + event.posF()\n",
      "            self.centerPoint = self.centerPoint - self.prevPoint + event.posF()\n",
      "            self.prevPoint = event.posF()\n",
      "            if self.drawOverlay(False) :\n",
      "                self.frameLabel.setOverlay(self.overlayImg)\n",
      "        elif self.rotatingBBox and self.prevPoint != None :\n",
      "            deltaR = 0.5*(event.posF().y() - self.prevPoint.y())\n",
      "            \n",
      "            t = QtGui.QTransform()            \n",
      "            t.rotateRadians(deltaR*(np.pi/180.0), QtCore.Qt.Axis.ZAxis)\n",
      "            self.bbox = np.array(t.map(self.bbox-self.centerPoint))+self.centerPoint\n",
      "            \n",
      "            self.prevPoint = event.posF()\n",
      "            if self.drawOverlay(False) :\n",
      "                self.frameLabel.setOverlay(self.overlayImg)\n",
      "            \n",
      "    def mouseReleased(self, event):\n",
      "        if self.movingBBox and self.prevPoint != None :\n",
      "            self.bbox = self.bbox - self.prevPoint + event.posF()\n",
      "            self.prevPoint = event.posF()\n",
      "            if self.drawOverlay(False) :\n",
      "                self.frameLabel.setOverlay(self.overlayImg)\n",
      "            self.movingBBox = False\n",
      "            self.bboxIsSet = True\n",
      "        elif self.rotatingBBox and self.prevPoint != None :\n",
      "            deltaR = 0.5*(event.posF().y() - self.prevPoint.y())\n",
      "            \n",
      "            t = QtGui.QTransform()            \n",
      "            t.rotateRadians(deltaR*(np.pi/180.0), QtCore.Qt.Axis.ZAxis)\n",
      "            self.bbox = np.array(t.map(self.bbox-self.centerPoint))+self.centerPoint\n",
      "            \n",
      "            self.prevPoint = event.posF()\n",
      "            if self.drawOverlay(False) :\n",
      "                self.frameLabel.setOverlay(self.overlayImg)\n",
      "            self.rotatingBBox = False\n",
      "            self.bboxIsSet = True\n",
      "            \n",
      "    def keyPressEvent(self, e) :\n",
      "        if self.bboxIsSet and e.key() == QtCore.Qt.Key_Return : ## Track forward\n",
      "            self.tracking = True\n",
      "            self.initTracker()\n",
      "            self.trackInVideo(True)\n",
      "#             print \"tracking forward\", self.bbox, self.rotation\n",
      "            self.tracking = False\n",
      "        elif self.bboxIsSet and e.key() == QtCore.Qt.Key_Backspace : ## Track backward\n",
      "            self.tracking = True\n",
      "            self.initTracker()\n",
      "            self.trackInVideo(False)\n",
      "#             print \"tracking backward\", self.bbox, self.rotation\n",
      "            self.tracking = False\n",
      "        elif e.key() == QtCore.Qt.Key_Space : ## stop tracking\n",
      "            self.tracking = False\n",
      "        elif self.bboxIsSet and self.tracker != None and e.key() == QtCore.Qt.Key_Right :\n",
      "            self.tracking = True\n",
      "            self.frameIdxSpinBox.setValue(self.frameIdx+1)\n",
      "            self.trackInFrame()\n",
      "#             print \"tracking next frame\", self.bbox, self.rotation\n",
      "            self.tracking = False\n",
      "        elif self.bboxIsSet and self.tracker != None and e.key() == QtCore.Qt.Key_Left :\n",
      "            self.tracking = True\n",
      "            self.frameIdxSpinBox.setValue(self.frameIdx-1)\n",
      "            self.trackInFrame()\n",
      "#             print \"tracking previous frame\", self.bbox, self.rotation\n",
      "            self.tracking = False\n",
      "        elif e.key() == QtCore.Qt.Key_Delete :\n",
      "            self.deleteCurrentSpriteFrameBBox()\n",
      "        elif e.key() == QtCore.Qt.Key_Enter :\n",
      "            self.setCurrentSpriteFrameBBox()\n",
      "        elif e.key() == QtCore.Qt.Key_C and e.modifiers() & QtCore.Qt.Modifier.CTRL :\n",
      "#             print \"copying bbox\"\n",
      "            self.copiedBBox[TL_IDX].setX(self.bbox[TL_IDX].x())\n",
      "            self.copiedBBox[TL_IDX].setY(self.bbox[TL_IDX].y())\n",
      "            self.copiedBBox[TR_IDX].setX(self.bbox[TR_IDX].x())\n",
      "            self.copiedBBox[TR_IDX].setY(self.bbox[TR_IDX].y())\n",
      "            self.copiedBBox[BR_IDX].setX(self.bbox[BR_IDX].x())\n",
      "            self.copiedBBox[BR_IDX].setY(self.bbox[BR_IDX].y())\n",
      "            self.copiedBBox[BL_IDX].setX(self.bbox[BL_IDX].x())\n",
      "            self.copiedBBox[BL_IDX].setY(self.bbox[BL_IDX].y())\n",
      "            self.copiedBBox[-1] = self.copiedBBox[TL_IDX]\n",
      "            \n",
      "            self.copiedCenter.setX(self.centerPoint.x())\n",
      "            self.copiedCenter.setY(self.centerPoint.y())\n",
      "        elif e.key() == QtCore.Qt.Key_V and e.modifiers() & QtCore.Qt.Modifier.CTRL :\n",
      "            if self.copiedBBox != None and self.bbox != None :\n",
      "#                 print \"pasting bbox\"\n",
      "                self.bbox[TL_IDX].setX(self.copiedBBox[TL_IDX].x())\n",
      "                self.bbox[TL_IDX].setY(self.copiedBBox[TL_IDX].y())\n",
      "                self.bbox[TR_IDX].setX(self.copiedBBox[TR_IDX].x())\n",
      "                self.bbox[TR_IDX].setY(self.copiedBBox[TR_IDX].y())\n",
      "                self.bbox[BR_IDX].setX(self.copiedBBox[BR_IDX].x())\n",
      "                self.bbox[BR_IDX].setY(self.copiedBBox[BR_IDX].y())\n",
      "                self.bbox[BL_IDX].setX(self.copiedBBox[BL_IDX].x())\n",
      "                self.bbox[BL_IDX].setY(self.copiedBBox[BL_IDX].y())\n",
      "                self.bbox[-1] = self.bbox[TL_IDX]\n",
      "                \n",
      "                self.centerPoint.setX(self.copiedCenter.x())\n",
      "                self.centerPoint.setY(self.copiedCenter.y())\n",
      "                \n",
      "                if self.drawOverlay(False) :\n",
      "                    self.frameLabel.setOverlay(self.overlayImg)\n",
      "        elif e.key() == QtCore.Qt.Key_S and e.modifiers() & QtCore.Qt.Modifier.CTRL :\n",
      "            self.saveTrackedSprites()\n",
      "            \n",
      "        sys.stdout.flush()\n",
      "        \n",
      "        \n",
      "    def wheelEvent(self, e) :\n",
      "        if e.delta() < 0 :\n",
      "            self.frameIdxSpinBox.setValue(self.frameIdx-1)\n",
      "        else :\n",
      "            self.frameIdxSpinBox.setValue(self.frameIdx+1)\n",
      "        \n",
      "    def eventFilter(self, obj, event) :\n",
      "        if obj == self.frameLabel and event.type() == QtCore.QEvent.Type.MouseMove :\n",
      "            self.mouseMoved(event)\n",
      "            return True\n",
      "        elif obj == self.frameLabel and event.type() == QtCore.QEvent.Type.MouseButtonPress :\n",
      "            self.mousePressed(event)\n",
      "            return True\n",
      "        elif obj == self.frameLabel and event.type() == QtCore.QEvent.Type.MouseButtonRelease :\n",
      "            self.mouseReleased(event)\n",
      "            return True\n",
      "        elif (obj == self.frameIdxSpinBox or obj == self.frameIdxSlider) and event.type() == QtCore.QEvent.Type.KeyPress :\n",
      "            self.keyPressEvent(event)\n",
      "            return True\n",
      "        return QtGui.QWidget.eventFilter(self, obj, event)\n",
      "        \n",
      "    def createGUI(self) :\n",
      "        \n",
      "        ## WIDGETS ##\n",
      "        \n",
      "        self.frameLabel = ImageLabel(\"Frame\")\n",
      "        self.frameLabel.setSizePolicy(QtGui.QSizePolicy.MinimumExpanding, QtGui.QSizePolicy.MinimumExpanding)\n",
      "        self.frameLabel.setAlignment(QtCore.Qt.AlignCenter | QtCore.Qt.AlignHCenter)\n",
      "        self.frameLabel.installEventFilter(self)\n",
      "        \n",
      "        self.frameInfo = QtGui.QLabel(\"Info text\")\n",
      "        self.frameInfo.setAlignment(QtCore.Qt.AlignCenter | QtCore.Qt.AlignHCenter)\n",
      "        \n",
      "        self.frameIdxSlider = QtGui.QSlider(QtCore.Qt.Horizontal)\n",
      "        self.frameIdxSlider.setSizePolicy(QtGui.QSizePolicy.MinimumExpanding, QtGui.QSizePolicy.Minimum)\n",
      "        self.frameIdxSlider.setFocusPolicy(QtCore.Qt.StrongFocus)\n",
      "        self.frameIdxSlider.setTickPosition(QtGui.QSlider.TicksBothSides)\n",
      "        self.frameIdxSlider.setMinimum(0)\n",
      "        self.frameIdxSlider.setMaximum(numOfFrames-1)\n",
      "        self.frameIdxSlider.setTickInterval(100)\n",
      "        self.frameIdxSlider.setSingleStep(1)\n",
      "        self.frameIdxSlider.setPageStep(100)\n",
      "        self.frameIdxSlider.installEventFilter(self)\n",
      "    \n",
      "        self.frameIdxSpinBox = QtGui.QSpinBox()\n",
      "        self.frameIdxSpinBox.setRange(0, numOfFrames-1)\n",
      "        self.frameIdxSpinBox.setSingleStep(1)\n",
      "        self.frameIdxSpinBox.installEventFilter(self)\n",
      "        \n",
      "        self.spriteListTable = QtGui.QTableWidget(1, 1)\n",
      "        self.spriteListTable.horizontalHeader().setStretchLastSection(True)\n",
      "        self.spriteListTable.setHorizontalHeaderItem(0, QtGui.QTableWidgetItem(\"Tracked sprites\"))\n",
      "        self.spriteListTable.horizontalHeader().setResizeMode(QtGui.QHeaderView.Fixed)\n",
      "        self.spriteListTable.setSizePolicy(QtGui.QSizePolicy.Minimum, QtGui.QSizePolicy.Minimum)\n",
      "        self.spriteListTable.setEditTriggers(QtGui.QAbstractItemView.NoEditTriggers)\n",
      "        self.spriteListTable.setSelectionBehavior(QtGui.QAbstractItemView.SelectRows)\n",
      "        self.spriteListTable.setSelectionMode(QtGui.QAbstractItemView.SingleSelection)\n",
      "        self.spriteListTable.setItem(0, 0, QtGui.QTableWidgetItem(\"No tracked sprites\"))\n",
      "        \n",
      "        self.newSpriteButton = QtGui.QPushButton(\"&New Sprite\")\n",
      "        \n",
      "        self.deleteCurrentSpriteBBoxButton = QtGui.QPushButton(\"Delete BBox\")\n",
      "        self.setCurrentSpriteBBoxButton = QtGui.QPushButton(\"Set BBox\")\n",
      "        \n",
      "        \n",
      "        ## SIGNALS ##\n",
      "        \n",
      "        self.frameIdxSlider.valueChanged[int].connect(self.frameIdxSpinBox.setValue)\n",
      "        self.frameIdxSpinBox.valueChanged[int].connect(self.frameIdxSlider.setValue)\n",
      "        self.frameIdxSpinBox.valueChanged[int].connect(self.showFrame)\n",
      "        \n",
      "        self.spriteListTable.currentCellChanged.connect(self.changeSprite)\n",
      "        self.spriteListTable.cellPressed.connect(self.changeSprite)\n",
      "        \n",
      "        self.newSpriteButton.clicked.connect(self.createNewSprite)\n",
      "        \n",
      "        self.deleteCurrentSpriteBBoxButton.clicked.connect(self.deleteCurrentSpriteFrameBBox)\n",
      "        self.setCurrentSpriteBBoxButton.clicked.connect(self.setCurrentSpriteFrameBBox)\n",
      "        \n",
      "        ## LAYOUTS ##\n",
      "        \n",
      "        mainLayout = QtGui.QHBoxLayout()\n",
      "        controlsLayout = QtGui.QVBoxLayout()\n",
      "        controlsLayout.addWidget(self.spriteListTable)\n",
      "        controlsLayout.addWidget(self.newSpriteButton)\n",
      "        controlsLayout.addWidget(self.deleteCurrentSpriteBBoxButton)\n",
      "        controlsLayout.addWidget(self.setCurrentSpriteBBoxButton)\n",
      "        \n",
      "        sliderLayout = QtGui.QHBoxLayout()\n",
      "        sliderLayout.addWidget(self.frameIdxSlider)\n",
      "        sliderLayout.addWidget(self.frameIdxSpinBox)\n",
      "        \n",
      "        frameHLayout = QtGui.QHBoxLayout()\n",
      "        frameHLayout.addStretch()\n",
      "        frameHLayout.addWidget(self.frameLabel)\n",
      "        frameHLayout.addStretch()\n",
      "        \n",
      "        frameVLayout = QtGui.QVBoxLayout()\n",
      "        frameVLayout.addStretch()\n",
      "        frameVLayout.addLayout(frameHLayout)\n",
      "        frameVLayout.addWidget(self.frameInfo)\n",
      "        frameVLayout.addStretch()\n",
      "        frameVLayout.addLayout(sliderLayout)\n",
      "        \n",
      "        mainLayout.addLayout(controlsLayout)\n",
      "        mainLayout.addLayout(frameVLayout)\n",
      "        self.setLayout(mainLayout)"
     ],
     "language": "python",
     "metadata": {},
     "outputs": [],
     "prompt_number": 66
    },
    {
     "cell_type": "code",
     "collapsed": false,
     "input": [
      "window = Window()\n",
      "window.show()\n",
      "app.exec_()"
     ],
     "language": "python",
     "metadata": {},
     "outputs": [
      {
       "output_type": "stream",
       "stream": "stdout",
       "text": [
        "changingSprite\n",
        "sprite:  red_car1\n"
       ]
      },
      {
       "output_type": "stream",
       "stream": "stdout",
       "text": [
        "changingSprite\n",
        "sprite:  pink_car1\n"
       ]
      },
      {
       "output_type": "stream",
       "stream": "stdout",
       "text": [
        "changingSprite\n",
        "sprite:  pink_car1\n"
       ]
      },
      {
       "output_type": "stream",
       "stream": "stdout",
       "text": [
        "changingSprite\n",
        "sprite:  blue_car1\n"
       ]
      },
      {
       "output_type": "stream",
       "stream": "stdout",
       "text": [
        "changingSprite\n",
        "sprite:  blue_car1\n"
       ]
      },
      {
       "output_type": "stream",
       "stream": "stdout",
       "text": [
        "changingSprite\n",
        "sprite:  white_car1\n"
       ]
      },
      {
       "output_type": "stream",
       "stream": "stdout",
       "text": [
        "changingSprite\n",
        "sprite:  white_car1\n"
       ]
      },
      {
       "output_type": "stream",
       "stream": "stdout",
       "text": [
        "changingSprite\n",
        "sprite:  yellow_taxi1\n"
       ]
      },
      {
       "output_type": "stream",
       "stream": "stdout",
       "text": [
        "changingSprite\n",
        "sprite:  yellow_taxi1\n"
       ]
      },
      {
       "output_type": "stream",
       "stream": "stdout",
       "text": [
        "changingSprite\n",
        "sprite:  white_car1\n"
       ]
      },
      {
       "output_type": "stream",
       "stream": "stdout",
       "text": [
        "changingSprite\n",
        "sprite:  white_car1\n"
       ]
      },
      {
       "output_type": "stream",
       "stream": "stdout",
       "text": [
        "changingSprite\n",
        "sprite:  grey_car1\n"
       ]
      },
      {
       "output_type": "stream",
       "stream": "stdout",
       "text": [
        "changingSprite\n",
        "sprite:  grey_car1\n"
       ]
      },
      {
       "output_type": "stream",
       "stream": "stdout",
       "text": [
        "changingSprite\n",
        "sprite:  pink_car1\n"
       ]
      },
      {
       "output_type": "stream",
       "stream": "stdout",
       "text": [
        "changingSprite\n",
        "sprite:  pink_car1\n"
       ]
      },
      {
       "output_type": "stream",
       "stream": "stdout",
       "text": [
        "red_car1 saved\n"
       ]
      },
      {
       "output_type": "stream",
       "stream": "stdout",
       "text": [
        "red_car2 saved\n"
       ]
      },
      {
       "output_type": "stream",
       "stream": "stdout",
       "text": [
        "blue_orange_bus1 saved\n"
       ]
      },
      {
       "output_type": "stream",
       "stream": "stdout",
       "text": [
        "white_bus1 saved\n"
       ]
      },
      {
       "output_type": "stream",
       "stream": "stdout",
       "text": [
        "bordeaux_car1 saved\n"
       ]
      },
      {
       "output_type": "stream",
       "stream": "stdout",
       "text": [
        "yellow_taxi2 saved\n"
       ]
      },
      {
       "output_type": "stream",
       "stream": "stdout",
       "text": [
        "pink_car1 saved\n"
       ]
      },
      {
       "output_type": "stream",
       "stream": "stdout",
       "text": [
        "blue_car1 saved\n"
       ]
      },
      {
       "output_type": "stream",
       "stream": "stdout",
       "text": [
        "white_car1 saved\n"
       ]
      },
      {
       "output_type": "stream",
       "stream": "stdout",
       "text": [
        "yellow_taxi1 saved\n"
       ]
      },
      {
       "output_type": "stream",
       "stream": "stdout",
       "text": [
        "grey_car1 saved\n"
       ]
      },
      {
       "output_type": "stream",
       "stream": "stdout",
       "text": [
        "blue_car2 saved\n"
       ]
      },
      {
       "output_type": "stream",
       "stream": "stdout",
       "text": [
        "closing\n"
       ]
      },
      {
       "output_type": "stream",
       "stream": "stdout",
       "text": [
        "red_car1 saved\n"
       ]
      },
      {
       "output_type": "stream",
       "stream": "stdout",
       "text": [
        "red_car2 saved\n"
       ]
      },
      {
       "output_type": "stream",
       "stream": "stdout",
       "text": [
        "blue_orange_bus1 saved\n"
       ]
      },
      {
       "output_type": "stream",
       "stream": "stdout",
       "text": [
        "white_bus1 saved\n"
       ]
      },
      {
       "output_type": "stream",
       "stream": "stdout",
       "text": [
        "bordeaux_car1 saved\n"
       ]
      },
      {
       "output_type": "stream",
       "stream": "stdout",
       "text": [
        "yellow_taxi2 saved\n"
       ]
      },
      {
       "output_type": "stream",
       "stream": "stdout",
       "text": [
        "pink_car1 saved\n"
       ]
      },
      {
       "output_type": "stream",
       "stream": "stdout",
       "text": [
        "blue_car1 saved\n"
       ]
      },
      {
       "output_type": "stream",
       "stream": "stdout",
       "text": [
        "white_car1 saved\n"
       ]
      },
      {
       "output_type": "stream",
       "stream": "stdout",
       "text": [
        "yellow_taxi1 saved\n"
       ]
      },
      {
       "output_type": "stream",
       "stream": "stdout",
       "text": [
        "grey_car1 saved\n"
       ]
      },
      {
       "output_type": "stream",
       "stream": "stdout",
       "text": [
        "blue_car2 saved\n"
       ]
      },
      {
       "metadata": {},
       "output_type": "pyout",
       "prompt_number": 68,
       "text": [
        "0"
       ]
      }
     ],
     "prompt_number": 68
    },
    {
     "cell_type": "code",
     "collapsed": false,
     "input": [
      "print min(window.trackedSprites[0][DICT_BBOXES].keys())"
     ],
     "language": "python",
     "metadata": {},
     "outputs": [
      {
       "output_type": "stream",
       "stream": "stdout",
       "text": [
        "1922\n"
       ]
      }
     ],
     "prompt_number": 58
    },
    {
     "cell_type": "code",
     "collapsed": false,
     "input": [
      "window.overlayImg.save(\"lalala\", \"png\")"
     ],
     "language": "python",
     "metadata": {},
     "outputs": [
      {
       "metadata": {},
       "output_type": "pyout",
       "prompt_number": 37,
       "text": [
        "True"
       ]
      }
     ],
     "prompt_number": 37
    },
    {
     "cell_type": "code",
     "collapsed": false,
     "input": [
      "tmp = []\n",
      "tmp.append(np.array([[window.bbox[window.TL_IDX].x(), window.bbox[window.TL_IDX].y()], \n",
      "                     [window.bbox[window.TR_IDX].x(), window.bbox[window.TR_IDX].y()], \n",
      "                     [window.bbox[window.BR_IDX].x(), window.bbox[window.BR_IDX].y()], \n",
      "                     [window.bbox[window.BL_IDX].x(), window.bbox[window.BL_IDX].y()]]))\n",
      "print np.array(tmp).shape"
     ],
     "language": "python",
     "metadata": {},
     "outputs": [
      {
       "output_type": "stream",
       "stream": "stdout",
       "text": [
        "(1, 4, 2)\n"
       ]
      }
     ],
     "prompt_number": 461
    },
    {
     "cell_type": "code",
     "collapsed": false,
     "input": [
      "tmp = {1:\"lalala\", \n",
      "       2:\"asihd\", \n",
      "       3:\"sdlfh\"}\n",
      "print tmp\n",
      "tmp[5] = \"sdkfh\"\n",
      "print tmp\n",
      "tmp[2] = \"lbv\"\n",
      "print tmp\n",
      "tmp[0] = \"akdbf\"\n",
      "print tmp"
     ],
     "language": "python",
     "metadata": {},
     "outputs": [
      {
       "output_type": "stream",
       "stream": "stdout",
       "text": [
        "{1: 'lalala', 2: 'asihd', 3: 'sdlfh'}\n",
        "{1: 'lalala', 2: 'asihd', 3: 'sdlfh', 5: 'sdkfh'}\n",
        "{1: 'lalala', 2: 'lbv', 3: 'sdlfh', 5: 'sdkfh'}\n",
        "{0: 'akdbf', 1: 'lalala', 2: 'lbv', 3: 'sdlfh', 5: 'sdkfh'}\n"
       ]
      }
     ],
     "prompt_number": 471
    },
    {
     "cell_type": "code",
     "collapsed": false,
     "input": [
      "img = QtGui.QImage(window.frameImg.size(), QtGui.QImage.Format_ARGB32)\n",
      "img.fill(QtGui.QColor.fromRgb(255, 255, 255, 255))\n",
      "painter = QtGui.QPainter(img)\n",
      "# painter.drawImage(QtCore.QPoint(0, 0), window.frameImg)\n",
      "    \n",
      "painter.setPen(QtGui.QPen(QtGui.QColor.fromRgb(0, 0, 255), 1,\n",
      "QtCore.Qt.SolidLine, QtCore.Qt.RoundCap, QtCore.Qt.RoundJoin))\n",
      "transformedBBox = np.copy(transformedBBox)#window.bbox)\n",
      "\n",
      "transformation = QtGui.QTransform()\n",
      "# tl = transformedBBox[window.TL_IDX]\n",
      "# br = transformedBBox[window.BR_IDX]\n",
      "# centerPoint = QtCore.QPoint(min((tl.x(), br.x())) + (max((tl.x(), br.x())) - min((tl.x(), br.x())))/2.0, \n",
      "#                             min((tl.y(), br.y())) + (max((tl.y(), br.y())) - min((tl.y(), br.y())))/2.0)\n",
      "\n",
      "transformation.rotateRadians(0.5*(np.pi/180.0), QtCore.Qt.Axis.ZAxis)\n",
      "\n",
      "transformedBBox = np.array(transformation.map(transformedBBox-centerPoint))+centerPoint\n",
      "\n",
      "for p1, p2 in zip(transformedBBox[0:-1], transformedBBox[1:]) :\n",
      "    painter.drawLine(p1, p2)\n",
      "    \n",
      "painter.end()\n",
      "del painter\n",
      "img.save(\"0\", \"png\")"
     ],
     "language": "python",
     "metadata": {},
     "outputs": [
      {
       "metadata": {},
       "output_type": "pyout",
       "prompt_number": 269,
       "text": [
        "True"
       ]
      }
     ],
     "prompt_number": 269
    },
    {
     "cell_type": "code",
     "collapsed": false,
     "input": [
      "print transformedBBox"
     ],
     "language": "python",
     "metadata": {},
     "outputs": [
      {
       "output_type": "stream",
       "stream": "stdout",
       "text": [
        "[PySide.QtCore.QPointF(794.409690, 341.106508)\n",
        " PySide.QtCore.QPointF(792.620750, 546.098702)\n",
        " PySide.QtCore.QPointF(690.624634, 545.208596)\n",
        " PySide.QtCore.QPointF(692.413574, 340.216401)\n",
        " PySide.QtCore.QPointF(794.409690, 341.106508)]\n"
       ]
      }
     ],
     "prompt_number": 270
    },
    {
     "cell_type": "code",
     "collapsed": false,
     "input": [
      "bboxPoly = QtGui.QPolygon()\n",
      "for p in transformedBBox :\n",
      "    bboxPoly << p\n",
      "    \n",
      "t = QtGui.QTransform()\n",
      "t = t.translate(-centerPoint.x(), -centerPoint.y())\n",
      "transformation = transformation.rotateRadians(45.0*(np.pi/180.0), )\n",
      "transformation.translate(centerPoint.x(), centerPoint.y())\n",
      "\n",
      "print t\n",
      "print\n",
      "print bboxPoly\n",
      "print\n",
      "print t.map(bboxPoly)"
     ],
     "language": "python",
     "metadata": {},
     "outputs": [
      {
       "output_type": "stream",
       "stream": "stdout",
       "text": [
        "PySide.QtGui.QTransform(1.000000, 0.000000, 0.000000, 0.000000, 1.000000, 0.000000, -823.000000, -339.000000, 1.000000)\n",
        "\n",
        "<PySide.QtGui.QPolygon(QPoint(737,290) QPoint(909,290) QPoint(909,389) QPoint(737,389) QPoint(737,290) )  at 0x7ff13dc13170>\n",
        "\n",
        "<PySide.QtGui.QPolygon(QPoint(-86,-49) QPoint(86,-49) QPoint(86,50) QPoint(-86,50) QPoint(-86,-49) )  at 0x7ff13dc13128>\n"
       ]
      }
     ],
     "prompt_number": 53
    },
    {
     "cell_type": "code",
     "collapsed": false,
     "input": [
      "trans = np.array([[t.m11(), t.m12(), t.m13()],\n",
      "                  [t.m21(), t.m22(), t.m23()],\n",
      "                  [t.m31(), t.m32(), t.m33()]])\n",
      "print trans*"
     ],
     "language": "python",
     "metadata": {},
     "outputs": [
      {
       "output_type": "stream",
       "stream": "stdout",
       "text": [
        "[[   1.    0.    0.]\n",
        " [   0.    1.    0.]\n",
        " [-823. -339.    1.]]\n"
       ]
      }
     ],
     "prompt_number": 54
    },
    {
     "cell_type": "code",
     "collapsed": false,
     "input": [
      "t = QtGui.QMatrix4x4()\n",
      "\n",
      "t.rotate(45.0, 0.0, 0.0, 1.0)\n",
      "print t*QtCore.QPoint(0.0, 231)"
     ],
     "language": "python",
     "metadata": {},
     "outputs": [
      {
       "ename": "TypeError",
       "evalue": "'PySide.QtGui.QMatrix4x4.__mul__' called with wrong argument types:\n  PySide.QtGui.QMatrix4x4.__mul__(PySide.QtCore.QPoint)\nSupported signatures:\n  PySide.QtGui.QMatrix4x4.__mul__(PySide.QtGui.QMatrix4x4)\n  PySide.QtGui.QMatrix4x4.__mul__(PySide.QtCore.QPoint)\n  PySide.QtGui.QMatrix4x4.__mul__(PySide.QtCore.QPointF)\n  PySide.QtGui.QMatrix4x4.__mul__(float)\n  PySide.QtGui.QMatrix4x4.__mul__(float)",
       "output_type": "pyerr",
       "traceback": [
        "\u001b[0;31m---------------------------------------------------------------------------\u001b[0m\n\u001b[0;31mTypeError\u001b[0m                                 Traceback (most recent call last)",
        "\u001b[0;32m<ipython-input-69-f1c6931c8f77>\u001b[0m in \u001b[0;36m<module>\u001b[0;34m()\u001b[0m\n\u001b[1;32m      2\u001b[0m \u001b[0;34m\u001b[0m\u001b[0m\n\u001b[1;32m      3\u001b[0m \u001b[0mt\u001b[0m\u001b[0;34m.\u001b[0m\u001b[0mrotate\u001b[0m\u001b[0;34m(\u001b[0m\u001b[0;36m45.0\u001b[0m\u001b[0;34m,\u001b[0m \u001b[0;36m0.0\u001b[0m\u001b[0;34m,\u001b[0m \u001b[0;36m0.0\u001b[0m\u001b[0;34m,\u001b[0m \u001b[0;36m1.0\u001b[0m\u001b[0;34m)\u001b[0m\u001b[0;34m\u001b[0m\u001b[0m\n\u001b[0;32m----> 4\u001b[0;31m \u001b[0;32mprint\u001b[0m \u001b[0mt\u001b[0m\u001b[0;34m*\u001b[0m\u001b[0mQtCore\u001b[0m\u001b[0;34m.\u001b[0m\u001b[0mQPoint\u001b[0m\u001b[0;34m(\u001b[0m\u001b[0;36m0.0\u001b[0m\u001b[0;34m,\u001b[0m \u001b[0;36m231\u001b[0m\u001b[0;34m)\u001b[0m\u001b[0;34m\u001b[0m\u001b[0m\n\u001b[0m",
        "\u001b[0;31mTypeError\u001b[0m: 'PySide.QtGui.QMatrix4x4.__mul__' called with wrong argument types:\n  PySide.QtGui.QMatrix4x4.__mul__(PySide.QtCore.QPoint)\nSupported signatures:\n  PySide.QtGui.QMatrix4x4.__mul__(PySide.QtGui.QMatrix4x4)\n  PySide.QtGui.QMatrix4x4.__mul__(PySide.QtCore.QPoint)\n  PySide.QtGui.QMatrix4x4.__mul__(PySide.QtCore.QPointF)\n  PySide.QtGui.QMatrix4x4.__mul__(float)\n  PySide.QtGui.QMatrix4x4.__mul__(float)"
       ]
      }
     ],
     "prompt_number": 69
    },
    {
     "cell_type": "code",
     "collapsed": false,
     "input": [
      "print transformedBBox\n",
      "transformation = QtGui.QMatrix()\n",
      "tl = transformedBBox[window.TL_IDX]\n",
      "br = transformedBBox[window.BR_IDX]\n",
      "centerPoint = QtCore.QPoint(min((tl.x(), br.x())) + (max((tl.x(), br.x())) - min((tl.x(), br.x())))/2.0, \n",
      "                            min((tl.y(), br.y())) + (max((tl.y(), br.y())) - min((tl.y(), br.y())))/2.0)\n",
      "print centerPoint\n",
      "transformation.translate(-centerPoint.x(), -centerPoint.y())\n",
      "# transformation.rotate(45.0)\n",
      "# transformation.translate(centerPoint.x(), centerPoint.y())\n",
      "print transformation\n",
      "print np.array(transformation.map(transformedBBox))"
     ],
     "language": "python",
     "metadata": {},
     "outputs": [
      {
       "output_type": "stream",
       "stream": "stdout",
       "text": [
        "[PySide.QtCore.QPoint(644, 248) PySide.QtCore.QPoint(768, 248)\n",
        " PySide.QtCore.QPoint(768, 332) PySide.QtCore.QPoint(644, 332)\n",
        " PySide.QtCore.QPoint(644, 248)]\n",
        "PySide.QtCore.QPoint(706, 290)\n",
        "PySide.QtGui.QMatrix(0.707107, 0.707107, -0.707107, 0.707107, -706.000000, -290.000000)\n",
        "[PySide.QtCore.QPoint(-426, 341) PySide.QtCore.QPoint(-338, 428)\n",
        " PySide.QtCore.QPoint(-398, 488) PySide.QtCore.QPoint(-485, 400)\n",
        " PySide.QtCore.QPoint(-426, 341)]\n"
       ]
      }
     ],
     "prompt_number": 20
    },
    {
     "cell_type": "code",
     "collapsed": false,
     "input": [
      "print window.bbox - window.pos()\n",
      "print window.frameLabel.pos()"
     ],
     "language": "python",
     "metadata": {},
     "outputs": [
      {
       "output_type": "stream",
       "stream": "stdout",
       "text": [
        "[PySide.QtCore.QPoint(-1033, 553) PySide.QtCore.QPoint(-1305, 553)\n",
        " PySide.QtCore.QPoint(-1305, 373) PySide.QtCore.QPoint(-1033, 373)\n",
        " PySide.QtCore.QPoint(-1033, 553)]\n",
        "PySide.QtCore.QPoint(11, 11)\n"
       ]
      }
     ],
     "prompt_number": 25
    },
    {
     "cell_type": "code",
     "collapsed": false,
     "input": [
      "np.zeros(5, dtype=QtCore.QPoint)\n",
      "print np.array([QtCore.QPoint(), QtCore.QPoint()])"
     ],
     "language": "python",
     "metadata": {},
     "outputs": [
      {
       "output_type": "stream",
       "stream": "stdout",
       "text": [
        "[PySide.QtCore.QPoint(0, 0) PySide.QtCore.QPoint(0, 0)]\n"
       ]
      }
     ],
     "prompt_number": 129
    }
   ],
   "metadata": {}
  }
 ]
}