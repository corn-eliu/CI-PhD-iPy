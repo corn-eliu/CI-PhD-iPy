{
 "metadata": {
  "name": "",
  "signature": "sha256:492fb7856a602d151efaa358a15223e5610388ac0fa4e7a0bf0ecef9032843ae"
 },
 "nbformat": 3,
 "nbformat_minor": 0,
 "worksheets": [
  {
   "cells": [
    {
     "cell_type": "code",
     "collapsed": false,
     "input": [
      "## Imports and defines\n",
      "%pylab\n",
      "import numpy as np\n",
      "import sys\n",
      "import scipy as sp\n",
      "\n",
      "import cv2\n",
      "import time\n",
      "import os\n",
      "import scipy.io as sio\n",
      "import glob\n",
      "\n",
      "from PIL import Image\n",
      "from PySide import QtCore, QtGui\n",
      "\n",
      "import GraphWithValues as gwv\n",
      "import VideoTexturesUtils as vtu\n",
      "import opengm\n",
      "\n",
      "app = QtGui.QApplication(sys.argv)\n",
      "\n",
      "DICT_SPRITE_NAME = 'sprite_name'\n",
      "DICT_BBOXES = 'bboxes'\n",
      "DICT_FOOTPRINTS = 'footprints' ## same as bboxes but it indicates the footprint of the sprite on the ground plane\n",
      "DICT_BBOX_ROTATIONS = 'bbox_rotations'\n",
      "DICT_BBOX_CENTERS = 'bbox_centers'\n",
      "DICT_FRAMES_LOCATIONS = 'frame_locs'\n",
      "DICT_SEQUENCE_FRAMES = 'sequence_frames'\n",
      "DICT_SPRITE_IDX = 'sprite_idx' # stores the index in the self.trackedSprites array of the sprite used in the generated sequence\n",
      "DICT_DESIRED_SEMANTICS = 'desired_semantics' # stores what the desired semantics are for a certain sprite \n",
      "#(I could index them by the frame when the toggle happened instead of using the below but maybe ordering is important and I would lose that using a dict)\n",
      "DICT_FRAME_SEMANTIC_TOGGLE = 'frame_semantic_toggle'# stores the frame index in the generated sequence when the desired semantics have changed\n",
      "DICT_MEDIAN_COLOR = 'median_color'\n",
      "\n",
      "dataPath = \"/media/ilisescu/Data1/PhD/data/\"\n",
      "dataSet = \"havana/\"\n",
      "# dataPath = \"/media/ilisescu/Data1/PhD/data/\"\n",
      "# dataSet = \"clouds_subsample10/\"\n",
      "# dataSet = \"theme_park_cloudy/\"\n",
      "# dataSet = \"theme_park_sunny/\"\n",
      "formatString = \"{:05d}.png\"\n",
      "\n",
      "TL_IDX = 0\n",
      "TR_IDX = 1\n",
      "BR_IDX = 2\n",
      "BL_IDX = 3"
     ],
     "language": "python",
     "metadata": {},
     "outputs": [
      {
       "output_type": "stream",
       "stream": "stdout",
       "text": [
        "Using matplotlib backend: TkAgg\n",
        "Populating the interactive namespace from numpy and matplotlib\n"
       ]
      }
     ],
     "prompt_number": 1
    },
    {
     "cell_type": "code",
     "collapsed": false,
     "input": [
      "## load \n",
      "trackedSprites = []\n",
      "for sprite in np.sort(glob.glob(dataPath + dataSet + \"sprite*.npy\")) :\n",
      "    trackedSprites.append(np.load(sprite).item())\n",
      "    if DICT_SPRITE_NAME not in trackedSprites[-1] :\n",
      "        del trackedSprites[-1]\n",
      "#     print trackedSprites[-1][DICT_SPRITE_NAME]"
     ],
     "language": "python",
     "metadata": {},
     "outputs": [],
     "prompt_number": 4
    },
    {
     "cell_type": "code",
     "collapsed": false,
     "input": [
      "def vectorisedMinusLogMultiNormal(dataPoints, means, var, normalized = True) :\n",
      "    if (dataPoints.shape[1] != means.shape[1] or np.any(dataPoints.shape[1] != np.array(var.shape)) \n",
      "        or len(var.shape) != 2 or var.shape[0] != var.shape[1]) :\n",
      "        raise Exception(\"Data shapes don't agree data(\" + np.string_(dataPoints.shape) + \") mean(\" + np.string_(means.shape) + \n",
      "                        \") var(\" + np.string_(var.shape) + \")\")\n",
      "    \n",
      "    D = float(dataPoints.shape[1])\n",
      "    n = -0.5*np.log(np.linalg.det(var))-(D/2.0)*np.log(2.0*np.pi)\n",
      "    \n",
      "    ## this does 0.5*dot(dot(data-mean, varInv), data-mean)\n",
      "    varInv = np.linalg.inv(var)\n",
      "    dataMinusMean = dataPoints-means\n",
      "    \n",
      "    ps = []\n",
      "    for i in xrange(int(D)) :\n",
      "        ps.append(np.sum((dataMinusMean)*varInv[:, i], axis=-1))\n",
      "    \n",
      "    ps = np.array(ps).T\n",
      "    \n",
      "    ps = -0.5*np.sum(ps*(dataMinusMean), axis=-1)\n",
      "    \n",
      "    if normalized :\n",
      "        return n-ps\n",
      "    else :\n",
      "        return -ps\n",
      "# s = time.time()\n",
      "# vectorisedMinusLogMultiNormal(semanticDist.reshape((len(semanticDist), 1)), np.array([0.0]).reshape((1, 1)), np.array([0.0001]).reshape((1, 1)), True)\n",
      "# print time.time() - s\n",
      "# s = time.time()\n",
      "# vectorisedMinusLogMultiNormal(semanticLabels, np.array(desiredLabel).reshape((1, 2)), np.eye(2)*0.0001, True)"
     ],
     "language": "python",
     "metadata": {},
     "outputs": [],
     "prompt_number": 2
    },
    {
     "cell_type": "code",
     "collapsed": false,
     "input": [
      "def getMRFCosts(semanticLabels, desiredSemantics, startFrame, sequenceLength) :\n",
      "    \"\"\"Computes the unary and pairwise costs for a given sprite\n",
      "    \n",
      "        \\t  semanticLabels   : the semantic labels assigned to the frames in the sprite sequence\n",
      "        \\t  desiredSemantics : the desired label combination\n",
      "        \\t  startFrame       : starting frame for given sprite (used to constrain which frame to start from)\n",
      "        \\t  sequenceLength   : length of sequence to produce (i.e. number of variables to assign a label k \\belongs [0, N] where N is number of frames for sprite)\n",
      "           \n",
      "        return: unaries  = unary costs for each node in the graph\n",
      "                pairwise = pairwise costs for each edge in the graph\"\"\"\n",
      "    \n",
      "    maxCost = 10000000.0\n",
      "    ## k = num of semantic labels as there should be semantics attached to each frame\n",
      "    k = len(semanticLabels)\n",
      "    \n",
      "    ## unaries are dictated by semantic labels and by startFrame\n",
      "    \n",
      "    # start with uniform distribution for likelihood\n",
      "    likelihood = np.ones((k, sequenceLength))/(k*sequenceLength)\n",
      "    \n",
      "#     # set probability of start frame to 1 and renormalize\n",
      "#     if startFrame >= 0 and startFrame < k :\n",
      "#         likelihood[startFrame, 0] = 1.0\n",
      "#         likelihood /= np.sum(likelihood)\n",
      "    \n",
      "    # get the costs associated to agreement of the assigned labels to the desired semantics\n",
      "    # the variance should maybe depend on k so that when there are more frames in a sprite, the variance is higher so that even if I have to follow the timeline for a long time\n",
      "    # the cost deriveing from the unary cost does not become bigger than the single pairwise cost to break to go straight to the desired semantic label\n",
      "    # but for now the sprite sequences are not that long and I'm not expecting them to be many orders of magnitude longer \n",
      "    # (variance would have to be 5 or 6 orders of magnitude smaller to make breaking the timeline cheaper than following it)\n",
      "    distVariance = 0.001#0.001\n",
      "    numSemantics = semanticLabels.shape[-1]\n",
      "#     semanticsCosts = vectorisedMinusLogMultiNormal(semanticLabels, np.array(desiredSemantics).reshape((1, numSemantics)), np.eye(numSemantics)*distVariance, True)\n",
      "    semanticsCosts = np.zeros((k, desiredSemantics.shape[0]))\n",
      "    for i in xrange(desiredSemantics.shape[0]) :\n",
      "        semanticsCosts[:, i] = vectorisedMinusLogMultiNormal(semanticLabels, desiredSemantics[i, :].reshape((1, numSemantics)), np.eye(numSemantics)*distVariance, True)\n",
      "    \n",
      "    if desiredSemantics.shape[0] < sequenceLength :\n",
      "        semanticsCosts = semanticsCosts.reshape((k, 1)).repeat(sequenceLength, axis=-1)\n",
      "    \n",
      "    # set unaries to minus log of the likelihood + minus log of the semantic labels' distance to the \n",
      "    unaries = -np.log(likelihood) + semanticsCosts#.reshape((k, 1)).repeat(sequenceLength, axis=-1)\n",
      "#     unaries = semanticsCosts.reshape((k, 1)).repeat(sequenceLength, axis=-1)\n",
      "    \n",
      "# #     # set cost of start frame to 0 NOTE: not sure if I should use this or the above with the renormalization\n",
      "#     if startFrame >= 0 and startFrame < k :\n",
      "#         unaries[startFrame, 0] = 0.0\n",
      "    if startFrame >= 0 and startFrame < k :\n",
      "        unaries[:, 0] = maxCost\n",
      "        unaries[startFrame, 0] = 0.0\n",
      "    \n",
      "    ## pairwise are dictated by time constraint and looping ability (i.e. jump probability)\n",
      "    \n",
      "    # first dimension is k_n, second represents k_n-1 and last dimension represents all the edges going from graph column w_n-1 to w_n\n",
      "    pairwise = np.zeros([k, k, sequenceLength-1])\n",
      "    \n",
      "    # to enforce timeline give low cost to edge between w_n-1(k = i) and w_n(k = i+1) which can be achieved using\n",
      "    # an identity matrix with diagonal shifted down by one because only edges from column i-1 and k = j to column i and k=j+1 are viable\n",
      "    timeConstraint = np.eye(k, k=-1)\n",
      "    # also allow the sprite to keep looping on label 0 (i.e. show only sprite frame 0 which is the empty frame) so make edge from w_n-1(k=0) to w_n(k=0) viable\n",
      "    timeConstraint[0, 0] = 1.0\n",
      "    # also allow the sprite to keep looping from the last frame if necessary so allow to go \n",
      "    # from last column (i.e. edge starts from w_n-1(k=last frame)) to second row because first row represents empty frame (i.e. edge goes to w_n(k=1))\n",
      "    timeConstraint[1, k-1] = 1.0\n",
      "    # also allow the sprite to go back to the first frame (i.e. empty frame) so allow a low cost edge \n",
      "    # from last column (i.e. edge starts from w_n-1(k=last frame)) to first row (i.e. edge goes to w_n(k=0))\n",
      "    timeConstraint[0, k-1] = 1.0\n",
      "    \n",
      "    ## NOTE: don't do all the normal distribution wanking for now: just put very high cost to non viable edges but I'll need something more clever when I try to actually loop a video texture\n",
      "    ## I would also have to set the time constraint edges' costs to something different from 0 to allow for quicker paths (but more expensive individually) to be chosen when\n",
      "    ## the semantic label changes\n",
      "#     timeConstraint /= np.sum(timeConstraint) ## if I normalize here then I need to set mean of gaussian below to what the new max is\n",
      "#     timeConstraint = vectorisedMinusLogMultiNormal(timeConstraint.reshape((k*k, 1)), np.array([np.max(timeConstraint)]).reshape((1, 1)), np.array([distVariance]).reshape((1, 1)), True)\n",
      "    timeConstraint = (1.0 - timeConstraint)*maxCost\n",
      "    \n",
      "    pairwise = timeConstraint\n",
      "    \n",
      "    return unaries.T, pairwise.T"
     ],
     "language": "python",
     "metadata": {},
     "outputs": [],
     "prompt_number": 3
    },
    {
     "cell_type": "code",
     "collapsed": false,
     "input": [
      "def smoothstep(delay) :\n",
      "    # Scale, and clamp x to 0..1 range\n",
      "    edge0 = 0.0\n",
      "    edge1 = 1.0\n",
      "    x = np.arange(0.0, 1.0, 1.0/(delay+1))\n",
      "    x = np.clip((x - edge0)/(edge1 - edge0), 0.0, 1.0);\n",
      "    return (x*x*x*(x*(x*6 - 15) + 10))[1:]\n",
      "\n",
      "def toggleLabelsSmoothly(labels, delay) :\n",
      "    newLabels = np.roll(labels, 1)\n",
      "    steps = smoothstep(delay)\n",
      "    result = np.zeros((delay, labels.shape[-1]))\n",
      "    ## where diff is less than zero, label prob went from 0 to 1\n",
      "    result[:, np.argwhere(labels-newLabels < 0)[0, 1]] = steps\n",
      "    ## where diff is greater than zero, label prob went from 1 to 0\n",
      "    result[:, np.argwhere(labels-newLabels > 0)[0, 1]] = 1.0 - steps\n",
      "    return result\n",
      "\n",
      "print toggleLabelsSmoothly(np.array([[0.0, 1.0]]), 5)"
     ],
     "language": "python",
     "metadata": {},
     "outputs": [
      {
       "output_type": "stream",
       "stream": "stdout",
       "text": [
        "[[ 0.03549383  0.96450617]\n",
        " [ 0.20987654  0.79012346]\n",
        " [ 0.5         0.5       ]\n",
        " [ 0.79012346  0.20987654]\n",
        " [ 0.96450617  0.03549383]]\n"
       ]
      }
     ],
     "prompt_number": 4
    },
    {
     "cell_type": "code",
     "collapsed": false,
     "input": [
      "def synchedSequence2FullOverlap(spriteSequences, spritesTotalLength) :\n",
      "    ## given synched sequences and corresponding sprites sequence lengths, return the full overlapping sequences assuming I'm following \n",
      "    ## the sprites' timeline so all this will become a mess as soon as I start looping\n",
      "    ## or maybe not really as long as the length of the sequence I'm generating is long enough or actually if I'm looping, I would\n",
      "    ## probably have to opportunity to jump around in the sprite's timeline so maybe there's no problem if the sequence is short\n",
      "    if spriteSequences.shape[0] < 1 :\n",
      "        raise Exception(\"Empty spriteSequences\")\n",
      "        \n",
      "    if len(np.argwhere(np.any(spriteSequences < 0, axis=0))) == spriteSequences.shape[-1] :\n",
      "        return None\n",
      "#         raise Exception(\"Invalid spriteSequences\")\n",
      "        \n",
      "    remainingFrames = spritesTotalLength-spriteSequences[:, -1]-1\n",
      "#     print remainingFrames\n",
      "        \n",
      "    fullSequences = np.hstack((spriteSequences, np.zeros((spriteSequences.shape[0], np.max(remainingFrames)), dtype=int)))\n",
      "    \n",
      "    for i in xrange(spriteSequences.shape[0]) :\n",
      "        fullSequences[i, spriteSequences.shape[-1]:] = np.arange(spriteSequences[i, -1]+1, spriteSequences[i, -1]+1+np.max(remainingFrames), dtype=int)\n",
      "        \n",
      "    ## get rid of pairs where the frame index is larger than the sprite length\n",
      "    fullSequences = fullSequences[:, np.ndarray.flatten(np.argwhere(np.all(fullSequences < np.array(spritesTotalLength).reshape(2, 1), axis=0)))]\n",
      "    \n",
      "    ## get rid of pairs where the frame index is negative (due to the fact that I'm showing the 0th frame i.e. invisible sprite)\n",
      "    fullSequences = fullSequences[:, np.ndarray.flatten(np.argwhere(np.all(fullSequences >= 0, axis=0)))]\n",
      "    \n",
      "    return fullSequences\n",
      "\n",
      "# print synchedSequence2FullOverlap(np.vstack((minCostTraversalExistingSprite.reshape((1, len(minCostTraversalExistingSprite)))-1,\n",
      "#                                              minCostTraversal.reshape((1, len(minCostTraversal)))-1)), spriteTotalLength)"
     ],
     "language": "python",
     "metadata": {},
     "outputs": [],
     "prompt_number": 5
    },
    {
     "cell_type": "code",
     "collapsed": false,
     "input": [
      "def aabb2obbDist(aabb, obb, verbose = False) :\n",
      "    if verbose :\n",
      "        figure(); plot(aabb[:, 0], aabb[:, 1])\n",
      "        plot(obb[:, 0], obb[:, 1])\n",
      "    minDist = 100000000.0\n",
      "    colors = ['r', 'g', 'b', 'y']\n",
      "    for i, j in zip(arange(4), np.mod(arange(1, 5), 4)) :\n",
      "        m = (obb[j, 1] - obb[i, 1]) / (obb[j, 0] - obb[i, 0])\n",
      "        b = obb[i, 1] - (m * obb[i, 0]);\n",
      "        ## project aabb points onto obb segment\n",
      "        projPoints = np.dot(np.hstack((aabb, np.ones((len(aabb), 1)))), np.array([[1, m, -m*b], [m, m**2, b]]).T)/(m**2+1)\n",
      "        if np.all(np.negative(np.isnan(projPoints))) :\n",
      "            ## find distances\n",
      "            dists = aabb2pointsDist(aabb, projPoints)#np.linalg.norm(projPoints-aabb, axis=-1)\n",
      "            ## find closest point\n",
      "            closestPoint = np.argmin(dists)\n",
      "            ## if rs is between 0 and 1 the point is on the segment\n",
      "            rs = np.sum((obb[j, :]-obb[i, :])*(aabb-obb[i, :]), axis=1)/(np.linalg.norm(obb[j, :]-obb[i, :])**2)\n",
      "            if verbose :\n",
      "                print projPoints\n",
      "                scatter(projPoints[:, 0], projPoints[:, 1], c=colors[i])\n",
      "                print dists\n",
      "                print closestPoint\n",
      "                print rs\n",
      "            ## if closestPoint is on the segment\n",
      "            if rs[closestPoint] > 0.0 and rs[closestPoint] < 1.0 :\n",
      "#                 print \"in\", aabb2pointDist(aabb, projPoints[closestPoint, :])\n",
      "                minDist = np.min((minDist, aabb2pointDist(aabb, projPoints[closestPoint, :])))\n",
      "            else :\n",
      "#                 print \"out\", aabb2pointDist(aabb, obb[i, :]), aabb2pointDist(aabb, obb[j, :])\n",
      "                minDist = np.min((minDist, aabb2pointDist(aabb, obb[i, :]), aabb2pointDist(aabb, obb[j, :])))\n",
      "\n",
      "    return minDist\n",
      "\n",
      "\n",
      "def aabb2pointDist(aabb, point) :\n",
      "    dx = np.max((np.min(aabb[:, 0]) - point[0], 0, point[0] - np.max(aabb[:, 0])))\n",
      "    dy = np.max((np.min(aabb[:, 1]) - point[1], 0, point[1] - np.max(aabb[:, 1])))\n",
      "    return np.sqrt(dx**2 + dy**2);\n",
      "\n",
      "def aabb2pointsDist(aabb, points) :\n",
      "    dx = np.max(np.vstack((np.min(aabb[:, 0]) - points[:, 0], np.zeros(len(points)), points[:, 0] - np.max(aabb[:, 0]))), axis=0)\n",
      "    dy = np.max(np.vstack((np.min(aabb[:, 1]) - points[:, 1], np.zeros(len(points)), points[:, 1] - np.max(aabb[:, 1]))), axis=0)\n",
      "    return np.sqrt(dx**2 + dy**2);\n",
      "\n",
      "\n",
      "def getShiftedSpriteTrackDist(firstSprite, secondSprite, shift) :\n",
      "    \n",
      "    spriteTotalLength = np.zeros(2, dtype=int)\n",
      "    spriteTotalLength[0] = len(firstSprite[DICT_BBOX_CENTERS])\n",
      "    spriteTotalLength[1] = len(secondSprite[DICT_BBOX_CENTERS])\n",
      "    \n",
      "    ## find the overlapping sprite subsequences\n",
      "    ## length of overlap is the minimum between length of the second sequence and length of the first sequence - the advantage it has n the second sequence\n",
      "    overlapLength = np.min((spriteTotalLength[0]-shift, spriteTotalLength[1]))\n",
      "    \n",
      "    frameRanges = np.zeros((2, overlapLength), dtype=int)\n",
      "    frameRanges[0, :] = np.arange(shift, overlapLength + shift)\n",
      "    frameRanges[1, :] = np.arange(overlapLength)\n",
      "    \n",
      "    totalDistance, distances = getOverlappingSpriteTracksDistance(firstSprite, secondSprite, frameRanges)\n",
      "    \n",
      "    return totalDistance, distances, frameRanges\n",
      "\n",
      "\n",
      "def getOverlappingSpriteTracksDistance(firstSprite, secondSprite, frameRanges, doEarlyOut = True, verbose = False) :\n",
      "#     ## for now the distance is only given by the distance between bbox center but can add later other things like bbox overlapping region\n",
      "#     bboxCenters0 = np.array([firstSprite[DICT_BBOX_CENTERS][x] for x in np.sort(firstSprite[DICT_BBOX_CENTERS].keys())[frameRanges[0, :]]])\n",
      "#     bboxCenters1 = np.array([secondSprite[DICT_BBOX_CENTERS][x] for x in np.sort(secondSprite[DICT_BBOX_CENTERS].keys())[frameRanges[1, :]]])\n",
      "    \n",
      "#     centerDistance = np.linalg.norm(bboxCenters0-bboxCenters1, axis=1)\n",
      "    \n",
      "#     totDist = np.min(centerDistance)\n",
      "#     allDists = centerDistance\n",
      "    \n",
      "    firstSpriteKeys = np.sort(firstSprite[DICT_BBOX_CENTERS].keys())\n",
      "    secondSpriteKeys = np.sort(secondSprite[DICT_BBOX_CENTERS].keys())\n",
      "    allDists = np.zeros(frameRanges.shape[-1])\n",
      "    for i in xrange(frameRanges.shape[-1]) :            \n",
      "        allDists[i] = getSpritesBBoxDist(firstSprite[DICT_BBOX_ROTATIONS][firstSpriteKeys[frameRanges[0, i]]],\n",
      "                                          firstSprite[DICT_BBOXES][firstSpriteKeys[frameRanges[0, i]]], \n",
      "                                          secondSprite[DICT_BBOXES][secondSpriteKeys[frameRanges[1, i]]])\n",
      "        \n",
      "        if verbose and np.mod(i, frameRanges.shape[-1]/100) == 0 :\n",
      "            sys.stdout.write('\\r' + \"Computed image pair \" + np.string_(i) + \" of \" + np.string_(frameRanges.shape[-1]))\n",
      "            sys.stdout.flush()\n",
      "        \n",
      "        ## early out since you can't get lower than 0\n",
      "        if doEarlyOut and allDists[i] == 0.0 :\n",
      "            break\n",
      "            \n",
      "    totDist = np.min(allDists)\n",
      "#     return np.sum(centerDistance)/len(centerDistance), centerDistance    \n",
      "    return totDist, allDists\n",
      "\n",
      "def getSpritesBBoxDist(theta, bbox1, bbox2) :\n",
      "    rotMat = np.array([[np.cos(theta), -np.sin(theta)], [np.sin(theta), np.cos(theta)]])\n",
      "    bbox1 = np.dot(rotMat, bbox1.T).T\n",
      "    bbox2 = np.dot(rotMat, bbox2.T).T\n",
      "    ## if the bboxes coincide then the distance is set to 0\n",
      "    if np.all(np.abs(bbox1 - bbox2) <= 10**-10) :\n",
      "        return 0.0\n",
      "    else :\n",
      "        return aabb2obbDist(bbox1, bbox2)"
     ],
     "language": "python",
     "metadata": {},
     "outputs": [],
     "prompt_number": 6
    },
    {
     "cell_type": "code",
     "collapsed": false,
     "input": [
      "# totalDistance, distances, frameRanges = getShiftedSpriteTrackDist(trackedSprites[spriteIndices[whosFirst]], \n",
      "#                                                                       trackedSprites[spriteIndices[whosFirst-1]], 553)\n",
      "# print frameRanges\n",
      "# print np.argwhere(np.isnan(distances))\n",
      "# i=278\n",
      "# firstSprite = trackedSprites[spriteIndices[whosFirst]]\n",
      "# secondSprite = trackedSprites[spriteIndices[whosFirst-1]]\n",
      "# firstSpriteKeys = np.sort(firstSprite[DICT_BBOX_CENTERS].keys())\n",
      "# secondSpriteKeys = np.sort(secondSprite[DICT_BBOX_CENTERS].keys())\n",
      "\n",
      "# theta = firstSprite[DICT_BBOX_ROTATIONS][firstSpriteKeys[frameRanges[0, i]]]\n",
      "# rotMat = np.array([[np.cos(theta), -np.sin(theta)], [np.sin(theta), np.cos(theta)]])\n",
      "# bbox1 = np.dot(rotMat, firstSprite[DICT_BBOXES][firstSpriteKeys[frameRanges[0, i]]].T).T\n",
      "# bbox2 = np.dot(rotMat, secondSprite[DICT_BBOXES][secondSpriteKeys[frameRanges[1, i]]].T).T\n",
      "\n",
      "# print aabb2obbDist(bbox1, bbox2)"
     ],
     "language": "python",
     "metadata": {},
     "outputs": [],
     "prompt_number": 7
    },
    {
     "cell_type": "code",
     "collapsed": false,
     "input": [
      "def solveMRF(unaries, pairwise) :\n",
      "    ## build graph\n",
      "    numLabels = unaries.shape[1]\n",
      "    chainLength = unaries.shape[0]\n",
      "    gm = opengm.gm(numpy.ones(chainLength,dtype=opengm.label_type)*numLabels)\n",
      "    \n",
      "    # add unary functions\n",
      "    fids = gm.addFunctions(unaries)\n",
      "    # add first order factors\n",
      "    gm.addFactors(fids, arange(0, chainLength, 1))\n",
      "    \n",
      "    ## add pairwise function\n",
      "    fid = gm.addFunction(pairwise)\n",
      "    pairIndices = np.hstack((np.arange(chainLength-1, dtype=int).reshape((chainLength-1, 1)), \n",
      "                             np.arange(1, chainLength, dtype=int).reshape((chainLength-1, 1))))\n",
      "    # add second order factors\n",
      "    gm.addFactors(fid, pairIndices)\n",
      "    \n",
      "    dynProg = opengm.inference.DynamicProgramming(gm)\n",
      "    tic = time.time()\n",
      "    dynProg.infer()\n",
      "    print \"bla\", time.time() - tic\n",
      "    \n",
      "    labels = np.array(dynProg.arg(), dtype=int)\n",
      "    print gm\n",
      "    \n",
      "    return labels, gm.evaluate(labels)"
     ],
     "language": "python",
     "metadata": {},
     "outputs": [],
     "prompt_number": 8
    },
    {
     "cell_type": "code",
     "collapsed": false,
     "input": [
      "### this is done using matrices\n",
      "def solveSparseDynProgMRF(unaryCosts, pairwiseCosts, nodesConnectedToLabel) :\n",
      "    ## assumes unaryCosts has 1 row for each label and 1 col for each variable\n",
      "    ## assumes arrow heads are rows and arrow tails are cols in pairwiseCosts\n",
      "    \n",
      "    ## use the unary and pairwise costs to compute the min cost paths at each node\n",
      "    # each column represents point n and each row says the index of the k-state that is chosen for the min cost path\n",
      "    minCostPaths = np.zeros([unaryCosts.shape[0], unaryCosts.shape[1]], dtype=int)\n",
      "    # contains the min cost to reach a certain state k (i.e. row) for point n (i.e. column)\n",
      "    minCosts = np.zeros([unaryCosts.shape[0], unaryCosts.shape[1]])\n",
      "    # the first row of minCosts is just the unary cost\n",
      "    minCosts[:, 0] = unaryCosts[:, 0]\n",
      "    minCostPaths[:, 0] = np.arange(0, unaryCosts.shape[0])        \n",
      "    \n",
      "    k = unaryCosts.shape[0]\n",
      "    for n in xrange(1, unaryCosts.shape[1]) :\n",
      "        costsPerVariableLabelEdge = minCosts[nodesConnectedToLabel, n-1]\n",
      "        costsPerVariableLabelEdge += pairwiseCosts[arange(len(pairwiseCosts)).reshape((len(pairwiseCosts), 1)).repeat(nodesConnectedToLabel.shape[-1], axis=-1), nodesConnectedToLabel]\n",
      "        costsPerVariableLabelEdge += unaryCosts[:, n].reshape((len(unaryCosts), 1)).repeat(nodesConnectedToLabel.shape[-1], axis=-1)\n",
      "        minCostsIdxs = np.argmin(costsPerVariableLabelEdge, axis=-1)\n",
      "        ## minCosts\n",
      "        minCosts[:, n] = costsPerVariableLabelEdge[arange(len(unaryCosts)), minCostsIdxs]\n",
      "        ## minCostPaths\n",
      "        minCostPaths[:, n] = nodesConnectedToLabel[arange(len(unaryCosts)), minCostsIdxs]\n",
      "    \n",
      "    \n",
      "    ## now find the min cost path starting from the right most n with lowest cost\n",
      "    minCostTraversal = np.zeros(unaryCosts.shape[1], dtype=np.int)\n",
      "    ## last node is the node where the right most node with lowest cost\n",
      "    minCostTraversal[-1] = np.argmin(minCosts[:, -1]) #minCostPaths[np.argmin(minCosts[:, -1]), -1]\n",
      "    if np.min(minCosts[:, -1]) == np.inf :\n",
      "        minCostTraversal[-1] = np.floor((unaryCosts.shape[0])/2)\n",
      "    \n",
      "    for i in xrange(len(minCostTraversal)-2, -1, -1) :\n",
      "        minCostTraversal[i] = minCostPaths[ minCostTraversal[i+1], i+1]\n",
      "        \n",
      "    return minCostTraversal, np.min(minCosts[:, -1])"
     ],
     "language": "python",
     "metadata": {},
     "outputs": [],
     "prompt_number": 9
    },
    {
     "cell_type": "code",
     "collapsed": false,
     "input": [
      "### THIS CAN BE USED WHEN SPRITE INDICES HAVE CHANGED AND WANT TO UPDATE THE PRECOMPUTED DISTANCES DICT PROPERLY ####\n",
      "# tmp = glob.glob(dataPath + dataSet + \"sprite*.npy\")[0]\n",
      "# oldVsNew = []\n",
      "# for sprite, i in zip(glob.glob(dataPath + dataSet + \"sprite*.npy\"), arange(len(glob.glob(dataPath + dataSet + \"sprite*.npy\")))) :\n",
      "#     for t in xrange(len(trackedSprites)) :\n",
      "#         if trackedSprites[t][DICT_SPRITE_NAME] == np.load(sprite).item()[DICT_SPRITE_NAME] :\n",
      "#             print trackedSprites[t][DICT_SPRITE_NAME], i, t\n",
      "#             oldVsNew.append([i, t])\n",
      "#             break\n",
      "            \n",
      "# oldVsNew = np.array(oldVsNew)\n",
      "# oldVsNew = oldVsNew[np.ndarray.flatten(np.argsort(oldVsNew[:, 1])), :]\n",
      "# print oldVsNew\n",
      "\n",
      "# newPrecomputedDistances = {}\n",
      "# for i in xrange(len(trackedSprites)) :\n",
      "#     for j in xrange(i, len(trackedSprites)) :\n",
      "#         ## for each i and j of the new sprite idxs get the corresponding old idxs\n",
      "#         print i, j, \"-\", oldVsNew[i, 0], oldVsNew[j, 0], \n",
      "#         ## if the indices I'm asking for are not sorted I need to invert the shifts, that is negative shifts are now positive and viceversa\n",
      "#         ## because sprite indices were sorted when computing the old distances\n",
      "#         if oldVsNew[i, 0] > oldVsNew[j, 0] :\n",
      "#             print \"reverse\"\n",
      "#             tmp = precomputedDistances[np.string_(oldVsNew[j, 0])+np.string_(oldVsNew[i, 0])]\n",
      "#             newPrecomputedDistances[np.string_(i)+np.string_(j)] = {-x:tmp[x] for x in tmp.keys()}\n",
      "#         else :\n",
      "#             print \"don't reverse\"\n",
      "#             newPrecomputedDistances[np.string_(i)+np.string_(j)] = precomputedDistances[np.string_(oldVsNew[i, 0])+np.string_(oldVsNew[j, 0])]\n",
      "            \n",
      "# np.save(dataPath + dataSet + \"precomputedDistances.npy\", newPrecomputedDistances)        "
     ],
     "language": "python",
     "metadata": {},
     "outputs": [],
     "prompt_number": 10
    },
    {
     "cell_type": "code",
     "collapsed": false,
     "input": [
      "## precompute all distances for all possible sprite pairings\n",
      "# precomputedDistances = {}\n",
      "# for i in arange(len(trackedSprites)) :\n",
      "#     for j in xrange(i, len(trackedSprites)) :\n",
      "#         possibleShifts = np.arange(-len(trackedSprites[i][DICT_BBOX_CENTERS])+1, \n",
      "#                            len(trackedSprites[j][DICT_BBOX_CENTERS]), dtype=int)\n",
      "        \n",
      "#         allDistances = {} #np.zeros(len(possibleShifts))\n",
      "#         for shift in possibleShifts :\n",
      "#             if shift < 0 :\n",
      "#                 totalDistance, distances, frameRanges = getShiftedSpriteTrackDist(trackedSprites[i], \n",
      "#                                                                                   trackedSprites[j], -shift)\n",
      "#             else :\n",
      "#                 totalDistance, distances, frameRanges = getShiftedSpriteTrackDist(trackedSprites[j], \n",
      "#                                                                                   trackedSprites[i], shift)\n",
      "                \n",
      "#             allDistances[shift] = totalDistance\n",
      "            \n",
      "#             sys.stdout.write('\\r' + \"Done \" + np.string_(shift-possibleShifts[0]) + \" shifts of \" + np.string_(len(possibleShifts)))\n",
      "#             sys.stdout.flush()\n",
      "            \n",
      "#         print\n",
      "#         print \"done with pair\", i, j\n",
      "#         precomputedDistances[np.string_(i)+np.string_(j)] = allDistances\n",
      "\n",
      "# np.save(dataPath + dataSet + \"precomputedDistances.npy\", precomputedDistances)\n",
      "\n",
      "precomputedDistances = np.load(dataPath + dataSet + \"precomputedDistances.npy\").item()"
     ],
     "language": "python",
     "metadata": {},
     "outputs": [],
     "prompt_number": 11
    },
    {
     "cell_type": "code",
     "collapsed": false,
     "input": [
      "# figure(); plot([precomputedDistances['03'][x] for x in np.sort(precomputedDistances['03'].keys())])\n",
      "# totalDistance, distances, frameRanges = getShiftedSpriteTrackDist(trackedSprites[3], trackedSprites[0], 1020-400)\n",
      "# figure(); plot(distances)\n",
      "# print getOverlappingSpriteTracksDistance(trackedSprites[0], trackedSprites[3], np.array([[400], [1020]]))"
     ],
     "language": "python",
     "metadata": {},
     "outputs": [],
     "prompt_number": 12
    },
    {
     "cell_type": "code",
     "collapsed": false,
     "input": [
      "## load all sprite patches\n",
      "# preloadedSpritePatches = []\n",
      "# currentSpriteImages = []\n",
      "# del preloadedSpritePatches\n",
      "# preloadedSpritePatches = []\n",
      "# for sprite in trackedSprites :\n",
      "# #     maskDir = dataPath + dataSet + sprite[DICT_SPRITE_NAME] + \"-masked-blended\"\n",
      "#     maskDir = dataPath + dataSet + sprite[DICT_SPRITE_NAME] + \"-maskedFlow-blended\"\n",
      "#     del currentSpriteImages\n",
      "#     currentSpriteImages = []\n",
      "#     for frameKey in np.sort(sprite[DICT_FRAMES_LOCATIONS].keys()) :\n",
      "#         frameName = sprite[DICT_FRAMES_LOCATIONS][frameKey].split(os.sep)[-1]\n",
      "        \n",
      "#         if os.path.isdir(maskDir) and os.path.exists(maskDir+\"/\"+frameName) :\n",
      "#             im = np.array(cv2.imread(maskDir+\"/\"+frameName, cv2.CV_LOAD_IMAGE_UNCHANGED), dtype=np.uint8)\n",
      "            \n",
      "#             visiblePixels = np.argwhere(im[:, :, -1] != 0)\n",
      "#             topLeft = np.min(visiblePixels, axis=0)\n",
      "#             patchSize = np.max(visiblePixels, axis=0) - topLeft + 1\n",
      "            \n",
      "#             currentSpriteImages.append({'top_left_pos':topLeft, 'sprite_colors':im[visiblePixels[:, 0], visiblePixels[:, 1], :], \n",
      "#                                         'visible_indices': visiblePixels-topLeft, 'patch_size': patchSize})\n",
      "# #             currentSpriteImages.append(im[topLeft[0]:topLeft[0]+patchSize[0]+1, topLeft[1]:topLeft[1]+patchSize[1]+1])\n",
      "#         else :\n",
      "# #             im = np.ascontiguousarray(Image.open(sprite[DICT_FRAMES_LOCATIONS][frameIdx]), dtype=np.uint8)\n",
      "#             currentSpriteImages.append(None)\n",
      "        \n",
      "#         sys.stdout.write('\\r' + \"Loaded image \" + np.string_(len(currentSpriteImages)) + \" (\" + np.string_(len(sprite[DICT_FRAMES_LOCATIONS])) + \")\")\n",
      "#         sys.stdout.flush()\n",
      "#     preloadedSpritePatches.append(np.copy(currentSpriteImages))\n",
      "#     print\n",
      "#     print \"done with sprite\", sprite[DICT_SPRITE_NAME]\n",
      "\n",
      "# np.save(dataPath + dataSet + \"preloadedSpritePatches.npy\", preloadedSpritePatches)\n",
      "\n",
      "preloadedSpritePatches = list(np.load(dataPath + dataSet + \"preloadedSpritePatches.npy\"))"
     ],
     "language": "python",
     "metadata": {},
     "outputs": [],
     "prompt_number": 13
    },
    {
     "cell_type": "code",
     "collapsed": false,
     "input": [
      "## go through the generated sequence and check that SPRITE_IDX matches the index in tracked sprites\n",
      "## load sprites \n",
      "trackedSprites = []\n",
      "for sprite in np.sort(glob.glob(dataPath + dataSet + \"sprite*.npy\")) :\n",
      "    trackedSprites.append(np.load(sprite).item())\n",
      "\n",
      "print len(trackedSprites)\n",
      "for sequenceName in np.sort(glob.glob(dataPath+dataSet+\"generatedSequence-debug*\")) :\n",
      "    print sequenceName\n",
      "    generatedSequence = list(np.load(sequenceName))\n",
      "    print len(generatedSequence)\n",
      "    for s in xrange(len(generatedSequence)) :\n",
      "        print generatedSequence[s][DICT_SPRITE_NAME], generatedSequence[s][DICT_SPRITE_IDX],\n",
      "        for i in xrange(len(trackedSprites)) :\n",
      "            if trackedSprites[i][DICT_SPRITE_NAME] == generatedSequence[s][DICT_SPRITE_NAME] :\n",
      "    #             print trackedSprites[i][DICT_SPRITE_NAME], i\n",
      "                print i\n",
      "                generatedSequence[s][DICT_SPRITE_IDX] = i\n",
      "    \n",
      "        np.save(sequenceName, generatedSequence)"
     ],
     "language": "python",
     "metadata": {},
     "outputs": [
      {
       "output_type": "stream",
       "stream": "stdout",
       "text": [
        "12\n",
        "/home/ilisescu/PhD/data/havana/generatedSequence-debug.npy\n",
        "2\n",
        "red_car1 0 6\n",
        "white_bus1 3 8\n"
       ]
      }
     ],
     "prompt_number": 39
    },
    {
     "cell_type": "code",
     "collapsed": false,
     "input": [
      "############################################ TEST TEST TEST TEST ############################################ \n",
      "spriteIdx = -1\n",
      "for i in xrange(len(trackedSprites)) :\n",
      "    if trackedSprites[i][DICT_SPRITE_NAME] == 'red_car1' :\n",
      "        spriteIdx = i\n",
      "        break\n",
      "print \"using sprite\", trackedSprites[spriteIdx][DICT_SPRITE_NAME]\n",
      "\n",
      "## semantics for reshuffling are binary i.e. each frame has label 1 (i.e. sprite visible) and extra frame at beginning has label 0\n",
      "semanticLabels = np.zeros((len(trackedSprites[spriteIdx][DICT_BBOX_CENTERS])+1, 2))\n",
      "## label 0 means sprite not visible (i.e. only show the first empty frame)\n",
      "semanticLabels[0, 0] = 1.0\n",
      "semanticLabels[1:, 1] = 1.0\n",
      "delay = 8\n",
      "desiredLabel = np.array([1.0, 0.0]).reshape((1, 2))#.repeat(300-delay/2, axis=0)\n",
      "desiredLabel = np.concatenate((desiredLabel, toggleLabelsSmoothly(np.array([[1.0, 0.0]]), delay)))\n",
      "desiredLabel = np.concatenate((desiredLabel, np.array([0.0, 1.0]).reshape((1, 2)).repeat(600-delay, axis=0)))\n",
      "# semanticDist = np.sum(np.power(semanticLabels-desiredLabel, 2), axis=-1)\n",
      "desiredLabel = window.burstSemanticsToggle(np.array([1.0, 0.0]), 300, 2, 20)\n",
      "# desiredLabel = np.array([1.0, 0.0]).reshape((1, 2)).repeat(300, axis=0)\n",
      "\n",
      "tic = time.time()\n",
      "unaries, pairwise = getMRFCosts(semanticLabels, desiredLabel, 0, 300)\n",
      "print \"computed costs in\", time.time() - tic; sys.stdout.flush()\n",
      "# gwv.showCustomGraph(unaries[1:, :], title=\"unaries\")\n",
      "tic = time.time()\n",
      "minCostTraversal, minCost = solveMRF(unaries, pairwise)\n",
      "print \"solved in\", time.time() - tic; sys.stdout.flush()\n",
      "print minCostTraversal"
     ],
     "language": "python",
     "metadata": {},
     "outputs": [
      {
       "output_type": "stream",
       "stream": "stdout",
       "text": [
        "using sprite red_car1\n",
        "computed costs in"
       ]
      },
      {
       "output_type": "stream",
       "stream": "stdout",
       "text": [
        " 0.118798017502\n"
       ]
      },
      {
       "output_type": "stream",
       "stream": "stdout",
       "text": [
        "bla 1.05057406425\n",
        "-number of variables :300\n",
        "-number of function(type-0)301\n",
        "-number of function(type-1)0\n",
        "-number of function(type-2)0\n",
        "-number of function(type-3)0\n",
        "-number of function(type-4)0\n",
        "-number of function(type-5)0\n",
        "-number of function(type-6)0\n",
        "-number of function(type-7)0\n",
        "-number of factors :599\n",
        "-max. factor order :2\n",
        "solved in 1.05351090431\n"
       ]
      },
      {
       "output_type": "stream",
       "stream": "stdout",
       "text": [
        "[  0   0   1   2   3   4   5   6   7   8   9  10  11  12  13  14  15  16\n",
        "  17  18  19  20  21  22  23  24  25  26  27  28  29  30  31  32  33  34\n",
        "  35  36  37  38  39  40  41  42  43  44  45  46  47  48  49  50  51  52\n",
        "  53  54  55  56  57  58  59  60  61  62  63  64  65  66  67  68  69  70\n",
        "  71  72  73  74  75  76  77  78  79  80  81  82  83  84  85  86  87  88\n",
        "  89  90  91  92  93  94  95  96  97  98  99 100 101 102 103 104 105 106\n",
        " 107 108 109 110 111 112 113 114 115 116 117 118 119 120 121 122 123 124\n",
        " 125 126 127 128 129 130 131 132 133 134 135 136 137 138 139 140 141 142\n",
        " 143 144 145 146 147 148 149 150 151 152 153 154 155 156 157 158 159 160\n",
        " 161 162 163 164 165 166 167 168 169 170 171 172 173 174 175 176 177 178\n",
        " 179 180 181 182 183 184 185 186 187 188 189 190 191 192 193 194 195 196\n",
        " 197 198 199 200 201 202 203 204 205 206 207 208 209 210 211 212 213 214\n",
        " 215 216 217 218 219 220 221 222 223 224 225 226 227 228 229 230 231 232\n",
        " 233 234 235 236 237 238 239 240 241 242 243 244 245 246 247 248 249 250\n",
        " 251 252 253 254 255 256 257 258 259 260 261 262 263 264 265 266 267 268\n",
        " 269 270 271 272 273 274 275 276 277 278 279 280 281 282 283 284 285 286\n",
        " 287 288 289 290 291 292 293 294 295 296 297 298]\n"
       ]
      }
     ],
     "prompt_number": 15
    },
    {
     "cell_type": "code",
     "collapsed": false,
     "input": [
      "## start with generating two sequences one for an instance of red_car1 and one for white_bus1 such that they would be colliding\n",
      "spriteIndices = np.array([0, 3])\n",
      "sequenceStartFrames = np.array([0, 580])\n",
      "sequenceLength = 450\n",
      "generatedSequences = np.zeros((len(spriteIndices), sequenceLength), dtype=int)\n",
      "allUnaries = []\n",
      "allPairwise = []\n",
      "allNodesConnectedToLabel = []\n",
      "\n",
      "## now generate initial conflicting sequences to be resolved later\n",
      "\n",
      "for idx in xrange(len(spriteIndices)) :\n",
      "    spriteTotalLength = len(trackedSprites[spriteIndices[idx]][DICT_BBOX_CENTERS])\n",
      "\n",
      "    spriteSemanticLabels = np.zeros((spriteTotalLength+1, 2))\n",
      "    ## label 0 means sprite not visible (i.e. only show the first empty frame)\n",
      "    spriteSemanticLabels[0, 0] = 1.0\n",
      "    spriteSemanticLabels[1:, 1] = 1.0\n",
      "\n",
      "    tic = time.time()\n",
      "    if idx == 0 : \n",
      "        spriteDesiredSemantics = np.array([1.0, 0.0]).reshape((1, 2))\n",
      "        spriteDesiredSemantics = np.concatenate((spriteDesiredSemantics, toggleLabelsSmoothly(np.array([1.0, 0.0]).reshape((1, 2)), 8)))\n",
      "        spriteDesiredSemantics = np.concatenate((spriteDesiredSemantics, np.roll(np.array([1.0, 0.0]).reshape((1, 2)), 1).repeat(sequenceLength-8-1, axis=0)))\n",
      "        \n",
      "        unaries, pairwise = getMRFCosts(spriteSemanticLabels, spriteDesiredSemantics, sequenceStartFrames[idx], sequenceLength)\n",
      "    else :\n",
      "        unaries, pairwise = getMRFCosts(spriteSemanticLabels, np.array([1.0, 0.0]).reshape((1, 2)).repeat(sequenceLength, axis=0), sequenceStartFrames[idx], sequenceLength)\n",
      "    allUnaries.append(unaries)\n",
      "    allPairwise.append(pairwise)\n",
      "    \n",
      "    jumpCosts = spriteDistMats[idx][1:, :-1]**2\n",
      "    viableJumps = np.argwhere(jumpCosts < 0.2)\n",
      "    viableJumps = viableJumps[np.ndarray.flatten(np.argwhere(jumpCosts[viableJumps[:, 0], viableJumps[:, 1]] > 0.1))]\n",
      "    ## add 1 to indices because of the 0th frame, and then 5, 4 from the filtering and 1 from going from distances to costs\n",
      "    allPairwise[idx][viableJumps[:, 0]+1+1+4, viableJumps[:, 1]+1+1+4] = jumpCosts[viableJumps[:, 0], viableJumps[:, 1]]\n",
      "    \n",
      "    ## now try and do the optimization completely vectorized\n",
      "    ## number of edges connected to each label node of variable n (pairwise stores node at arrow tail as cols and at arrow head as rows)\n",
      "    maxEdgesPerLabel = np.max(np.sum(np.array(pairwise.T != np.max(pairwise.T), dtype=int), axis=-1))\n",
      "    ## initialize this to index of connected label node with highest edge cost (which is then used as padding)\n",
      "    ## it contains for each label node of variable n (indexed by rows), all the label nodes of variable n-1 it is connected to by non infinite cost edge (indexed by cols)\n",
      "    nodesConnectedToLabel = np.argmax(pairwise.T, axis=-1).reshape((len(pairwise.T), 1)).repeat(maxEdgesPerLabel, axis=-1)\n",
      "    \n",
      "    sparseIndices = np.where(pairwise != np.max(pairwise))\n",
      "    # print sparseIndices\n",
      "    tailIndices = sparseIndices[0]\n",
      "    headIndices = sparseIndices[1]\n",
      "    \n",
      "    ## this contains which label of variable n-1 is connected to which label of variable n\n",
      "    indicesInLabelSpace = [list(tailIndices[np.where(headIndices == i)[0]]) for i in np.unique(headIndices)]\n",
      "    \n",
      "    for headLabel, tailLabels in zip(arange(0, len(nodesConnectedToLabel)), indicesInLabelSpace) :\n",
      "        nodesConnectedToLabel[headLabel, 0:len(tailLabels)] = tailLabels    \n",
      "        \n",
      "    allNodesConnectedToLabel.append(nodesConnectedToLabel)\n",
      "    \n",
      "    # gwv.showCustomGraph(unaries)\n",
      "    print \"computed costs for sprite\", spriteIndices[idx], \"in\", time.time() - tic; sys.stdout.flush()\n",
      "    tic = time.time()\n",
      "    # minCostTraversal, minCost = solveMRF(unaries, pairwise)\n",
      "#     minCostTraversal, minCost = solveSparseDynProgMRF(unaries.T, pairwise.T, nodesConnectedToLabel)\n",
      "    minCostTraversal, minCost = solveSparseDynProgMRF(allUnaries[idx].T, allPairwise[idx].T, allNodesConnectedToLabel[idx])\n",
      "    \n",
      "    print \"solved traversal for sprite\", spriteIndices[idx] , \"in\", time.time() - tic; sys.stdout.flush()\n",
      "    generatedSequences[idx, :] = minCostTraversal\n",
      "\n",
      "print generatedSequences\n",
      "\n",
      "count = 0\n",
      "while True :\n",
      "    print \"iteration\", count, \n",
      "    ## get distance between every pairing of frames in the generatedSequences\n",
      "    areCompatible = np.zeros(generatedSequences.shape[-1], dtype=bool)\n",
      "    areCompatible[np.any(generatedSequences < 1, axis=0)] = True\n",
      "    \n",
      "    compatibDist, allCompatibDists = getOverlappingSpriteTracksDistance(trackedSprites[spriteIndices[0]], trackedSprites[spriteIndices[1]], generatedSequences)\n",
      "    print \"incompatibilities to solve\", len(np.argwhere(allCompatibDists <= 1.0)); sys.stdout.flush()\n",
      "#     print allCompatibDists\n",
      "    \n",
      "    areCompatible[allCompatibDists > 1.0] = True\n",
      "    \n",
      "#     if not np.all(areCompatible) :\n",
      "#         for idx in arange(len(spriteIndices))[0:1] :\n",
      "            \n",
      "#             allUnaries[idx][np.negative(areCompatible), generatedSequences[idx, np.negative(areCompatible)]] += 1000.0 #10000000.0\n",
      "#             ## if I fix spriteIndices[1] then I can find out all combinations of frames between spriteIndices[0] and the generated sequence for spriteIndices[1]\n",
      "# #             gwv.showCustomGraph(allUnaries[idx])\n",
      "            \n",
      "#             tic = time.time()\n",
      "#             minCostTraversal, minCost = solveSparseDynProgMRF(allUnaries[idx].T, allPairwise[idx].T, allNodesConnectedToLabel[idx])\n",
      "            \n",
      "#             print \"solved traversal for sprite\", spriteIndices[idx] , \"in\", time.time() - tic; sys.stdout.flush()\n",
      "# #             print minCostTraversal, minCost\n",
      "            \n",
      "#             generatedSequences[idx, :] = minCostTraversal\n",
      "#     else :\n",
      "#         break\n",
      "    \n",
      "    count += 1\n",
      "    if count > 0 :\n",
      "        break\n",
      "print generatedSequences"
     ],
     "language": "python",
     "metadata": {},
     "outputs": [
      {
       "output_type": "stream",
       "stream": "stdout",
       "text": [
        "computed costs for sprite 0 in 0.119740962982\n"
       ]
      },
      {
       "output_type": "stream",
       "stream": "stdout",
       "text": [
        "solved traversal for sprite 0 in 0.54770898819\n"
       ]
      },
      {
       "output_type": "stream",
       "stream": "stdout",
       "text": [
        "computed costs for sprite 3 in 0.231841802597\n"
       ]
      },
      {
       "output_type": "stream",
       "stream": "stdout",
       "text": [
        "solved traversal for sprite 3 in 1.1973259449\n"
       ]
      },
      {
       "output_type": "stream",
       "stream": "stdout",
       "text": [
        "[[   0    0    0    0    0    1    2    3    4    5    6    7    8    9\n",
        "    10   11   12   13   14   15   16   17   18   19   20   21   22   23\n",
        "    24   25   26   27   28   29   30   31   32   33   34   35   36   37\n",
        "    38   39   40   41   42   43   44   45   46   47   48   49   50   51\n",
        "    52   53   54   55   56   57   58   59   60   61   62   63   64   65\n",
        "    66   67   68   69   70   71   72   73   74   75   76   77   78   79\n",
        "    80   81   82   83   84   85   86   87   88   89   90   91   92   93\n",
        "    94   95   96   97   98   99  100  101  102  103  104  105  106  107\n",
        "   108  109  110  111  112  113  114  115  116  117  118  119  120  121\n",
        "   122  123  124  125  126  127  128  129  130  131  132  133  134  135\n",
        "   136  137  138  139  140  141  142  143  144  145  146  147  148  149\n",
        "   150  151  152  153  154  155  156  157  158  159  160  161  162  163\n",
        "   164  165  166  167  168  169  170  171  172  173  174  175  176  177\n",
        "   178  179  180  181  182  183  184  185  186  187  188  189  190  191\n",
        "   192  193  194  195  196  197  198  199  200  201  202  203  204  205\n",
        "   206  207  208  209  210  211  212  213  214  215  216  217  218  219\n",
        "   220  221  222  223  224  225  226  227  228  229  230  231  232  233\n",
        "   234  235  236  237  238  239  240  241  242  243  244  245  246  247\n",
        "   248  249  250  251  252  253  254  255  256  257  258  259  260  261\n",
        "   262  263  264  265  266  267  268  269  270  271  272  273  274  275\n",
        "   276  277  278  279  280  281  282  283  284  285  286  287  288  289\n",
        "   290  291  292  293  294  295  296  297  298  299  300  301  302  303\n",
        "   304  305  306  307  308  309  310  311  312  313  314  315  316  317\n",
        "   318  319  320  321  322  323  324  325  326  327  328  329  330  331\n",
        "   332  333  334  335  336  337  338  339  340  341  342  343  344  345\n",
        "   346  347  348  349  350  351  352  353  354  355  356  357  358  359\n",
        "   360  361  362  363  364  365  366  367  368  369  370  371  372  373\n",
        "   374  375  376  377  378  379  380  381  382  383  384  385  386  387\n",
        "   388  389  390  391  392  393  394  395  396  397  398  399  400  401\n",
        "   402  403  404  405  406  407  408  409  410  411  412  413  414  415\n",
        "   416  417  418  419  420  421  422  423  424  425  426  427  428  429\n",
        "   430  431  432  433  434  435  436  437  438  439  440  441  442  443\n",
        "   444  445]\n",
        " [ 580  581  582  583  584  585  586  587  588  589  590  591  592  593\n",
        "   594  595  596  597  598  599  600  601  602  603  604  605  606  607\n",
        "   608  609  610  611  612  613  614  615  616  617  618  619  620  621\n",
        "   622  623  624  625  626  627  628  629  630  631  632  633  634  635\n",
        "   636  637  638  639  640  641  642  643  644  645  646  647  648  649\n",
        "   650  651  652  653  654  655  656  657  658  659  660  661  662  663\n",
        "   664  665  666  667  668  669  670  671  672  673  674  675  676  677\n",
        "   678  679  680  681  682  683  684  685  686  687  688  689  690  691\n",
        "   692  693  694  695  696  697  698  699  700  701  702  703  704  705\n",
        "   706  707  708  709  710  711  712  713  714  715  716  717  718  719\n",
        "   720  721  722  723  724  725  726  727  728  729  730  731  732  733\n",
        "   734  735  736  737  738  739  740  741  742  743  744  745  746  747\n",
        "   748  749  750  751  752  753  754  755  756  757  758  759  760  761\n",
        "   762  763  764  765  766  767  768  769  770  771  772  773  774  775\n",
        "   776  777  778  779  780  781  782  783  784  785  786  787  788  789\n",
        "   790  791  792  793  794  795  796  797  798  799  800  801  802  803\n",
        "   804  805  806  807  808  809  810  811  812  813  814  815  816  817\n",
        "   818  819  820  821  822  823  824  825  826  827  828  829  830  831\n",
        "   832  833  834  835  836  837  838  839  840  841  842  843  844  845\n",
        "   846  847  848  849  850  851  852  853  854  855  856  857  858  859\n",
        "   860  861  862  863  864  865  866  867  868  869  870  871  872  873\n",
        "   874  875  876  877  878  879  880  881  882  883  884  885  886  887\n",
        "   888  889  890  891  892  893  894  895  896  897  898  899  900  901\n",
        "   902  903  904  905  906  907  908  909  910  911  912  913  914  915\n",
        "   916  917  918  919  920  921  922  923  924  925  926  927  928  929\n",
        "   930  931  932  933  934  935  936  937  938  939  940  941  942  943\n",
        "   944  945  946  947  948  949  950  951  952  953  954  955  956  957\n",
        "   958  959  960  961  962  963  964  965  966  967  968  969  970  971\n",
        "   972  973  974  975  976  977  978  979  980  981  982  983  984  985\n",
        "   986  987  988  989  990  991  992  993  994  995  996  997  998  999\n",
        "  1000 1001 1002 1003 1004 1005 1006 1007 1008 1009 1010 1011 1012 1013\n",
        "  1014 1015 1016 1017 1018 1019 1020 1021 1022 1023 1024 1025 1026 1027\n",
        "  1028 1029]]\n",
        "iteration 0 "
       ]
      },
      {
       "output_type": "stream",
       "stream": "stdout",
       "text": [
        "incompatibilities to solve 137\n"
       ]
      },
      {
       "output_type": "stream",
       "stream": "stdout",
       "text": [
        "[[   0    0    0    0    0    1    2    3    4    5    6    7    8    9\n",
        "    10   11   12   13   14   15   16   17   18   19   20   21   22   23\n",
        "    24   25   26   27   28   29   30   31   32   33   34   35   36   37\n",
        "    38   39   40   41   42   43   44   45   46   47   48   49   50   51\n",
        "    52   53   54   55   56   57   58   59   60   61   62   63   64   65\n",
        "    66   67   68   69   70   71   72   73   74   75   76   77   78   79\n",
        "    80   81   82   83   84   85   86   87   88   89   90   91   92   93\n",
        "    94   95   96   97   98   99  100  101  102  103  104  105  106  107\n",
        "   108  109  110  111  112  113  114  115  116  117  118  119  120  121\n",
        "   122  123  124  125  126  127  128  129  130  131  132  133  134  135\n",
        "   136  137  138  139  140  141  142  143  144  145  146  147  148  149\n",
        "   150  151  152  153  154  155  156  157  158  159  160  161  162  163\n",
        "   164  165  166  167  168  169  170  171  172  173  174  175  176  177\n",
        "   178  179  180  181  182  183  184  185  186  187  188  189  190  191\n",
        "   192  193  194  195  196  197  198  199  200  201  202  203  204  205\n",
        "   206  207  208  209  210  211  212  213  214  215  216  217  218  219\n",
        "   220  221  222  223  224  225  226  227  228  229  230  231  232  233\n",
        "   234  235  236  237  238  239  240  241  242  243  244  245  246  247\n",
        "   248  249  250  251  252  253  254  255  256  257  258  259  260  261\n",
        "   262  263  264  265  266  267  268  269  270  271  272  273  274  275\n",
        "   276  277  278  279  280  281  282  283  284  285  286  287  288  289\n",
        "   290  291  292  293  294  295  296  297  298  299  300  301  302  303\n",
        "   304  305  306  307  308  309  310  311  312  313  314  315  316  317\n",
        "   318  319  320  321  322  323  324  325  326  327  328  329  330  331\n",
        "   332  333  334  335  336  337  338  339  340  341  342  343  344  345\n",
        "   346  347  348  349  350  351  352  353  354  355  356  357  358  359\n",
        "   360  361  362  363  364  365  366  367  368  369  370  371  372  373\n",
        "   374  375  376  377  378  379  380  381  382  383  384  385  386  387\n",
        "   388  389  390  391  392  393  394  395  396  397  398  399  400  401\n",
        "   402  403  404  405  406  407  408  409  410  411  412  413  414  415\n",
        "   416  417  418  419  420  421  422  423  424  425  426  427  428  429\n",
        "   430  431  432  433  434  435  436  437  438  439  440  441  442  443\n",
        "   444  445]\n",
        " [ 580  581  582  583  584  585  586  587  588  589  590  591  592  593\n",
        "   594  595  596  597  598  599  600  601  602  603  604  605  606  607\n",
        "   608  609  610  611  612  613  614  615  616  617  618  619  620  621\n",
        "   622  623  624  625  626  627  628  629  630  631  632  633  634  635\n",
        "   636  637  638  639  640  641  642  643  644  645  646  647  648  649\n",
        "   650  651  652  653  654  655  656  657  658  659  660  661  662  663\n",
        "   664  665  666  667  668  669  670  671  672  673  674  675  676  677\n",
        "   678  679  680  681  682  683  684  685  686  687  688  689  690  691\n",
        "   692  693  694  695  696  697  698  699  700  701  702  703  704  705\n",
        "   706  707  708  709  710  711  712  713  714  715  716  717  718  719\n",
        "   720  721  722  723  724  725  726  727  728  729  730  731  732  733\n",
        "   734  735  736  737  738  739  740  741  742  743  744  745  746  747\n",
        "   748  749  750  751  752  753  754  755  756  757  758  759  760  761\n",
        "   762  763  764  765  766  767  768  769  770  771  772  773  774  775\n",
        "   776  777  778  779  780  781  782  783  784  785  786  787  788  789\n",
        "   790  791  792  793  794  795  796  797  798  799  800  801  802  803\n",
        "   804  805  806  807  808  809  810  811  812  813  814  815  816  817\n",
        "   818  819  820  821  822  823  824  825  826  827  828  829  830  831\n",
        "   832  833  834  835  836  837  838  839  840  841  842  843  844  845\n",
        "   846  847  848  849  850  851  852  853  854  855  856  857  858  859\n",
        "   860  861  862  863  864  865  866  867  868  869  870  871  872  873\n",
        "   874  875  876  877  878  879  880  881  882  883  884  885  886  887\n",
        "   888  889  890  891  892  893  894  895  896  897  898  899  900  901\n",
        "   902  903  904  905  906  907  908  909  910  911  912  913  914  915\n",
        "   916  917  918  919  920  921  922  923  924  925  926  927  928  929\n",
        "   930  931  932  933  934  935  936  937  938  939  940  941  942  943\n",
        "   944  945  946  947  948  949  950  951  952  953  954  955  956  957\n",
        "   958  959  960  961  962  963  964  965  966  967  968  969  970  971\n",
        "   972  973  974  975  976  977  978  979  980  981  982  983  984  985\n",
        "   986  987  988  989  990  991  992  993  994  995  996  997  998  999\n",
        "  1000 1001 1002 1003 1004 1005 1006 1007 1008 1009 1010 1011 1012 1013\n",
        "  1014 1015 1016 1017 1018 1019 1020 1021 1022 1023 1024 1025 1026 1027\n",
        "  1028 1029]]\n"
       ]
      }
     ],
     "prompt_number": 461
    },
    {
     "cell_type": "code",
     "collapsed": false,
     "input": [
      "spriteTotLength = len(trackedSprites[0][DICT_BBOX_CENTERS])\n",
      "\n",
      "spriteSequence = generatedSequences[1, :][generatedSequences[1, :]-1 >= 0]#.reshape((1, sequenceLength)).repeat(spriteTotLength)-1\n",
      "# bob = np.vstack((np.ndarray.flatten(arange(spriteTotLength).reshape((1, spriteTotLength)).repeat(sequenceLength, axis=0)), \n",
      "#                  generatedSequences[1, :].reshape((1, sequenceLength)).repeat(spriteTotLength)-1))\n",
      "bob = np.vstack((np.ndarray.flatten(arange(spriteTotLength).reshape((1, spriteTotLength)).repeat(len(spriteSequence), axis=0)), \n",
      "                 spriteSequence.reshape((1, len(spriteSequence))).repeat(spriteTotLength)-1))\n",
      "\n",
      "# dist, allDists = getOverlappingSpriteTracksDistance(trackedSprites[spriteIndices[0]], trackedSprites[spriteIndices[1]], bob, False, True)\n",
      "## just get the dists from spritesCompatibility\n",
      "allDists = spritesCompatibility[bob[0, :], bob[1, :]].reshape((len(spriteSequence), spriteTotLength))"
     ],
     "language": "python",
     "metadata": {},
     "outputs": [],
     "prompt_number": 462
    },
    {
     "cell_type": "code",
     "collapsed": false,
     "input": [
      "gwv.showCustomGraph(allDists.reshape((len(spriteSequence), spriteTotLength)))\n",
      "# print allDists.reshape((sequenceLength, spriteTotLength))"
     ],
     "language": "python",
     "metadata": {},
     "outputs": [],
     "prompt_number": 469
    },
    {
     "cell_type": "code",
     "collapsed": false,
     "input": [
      "## if I fix spriteIndices[1] then I can find out all combinations of frames between spriteIndices[0] and the generated sequence for spriteIndices[1]\n",
      "idx = 0\n",
      "modifiedUnaries = np.copy(allUnaries[idx])\n",
      "incompatiblePairs = np.argwhere(allDists.reshape((len(spriteSequence), spriteTotLength)) <= 1.0)\n",
      "# incompatiblePairs = incompatiblePairs[np.ndarray.flatten(np.argwhere(allDists.reshape((sequenceLength, spriteTotLength))[incompatiblePairs[:, 0], incompatiblePairs[:, 1]] >= 0.1)), :]\n",
      "modifiedUnaries[incompatiblePairs[:, 0], incompatiblePairs[:, 1]+1] = 1e7\n",
      "gwv.showCustomGraph(modifiedUnaries)\n",
      "\n",
      "tic = time.time()\n",
      "minCostTraversal, minCost = solveSparseDynProgMRF(modifiedUnaries.T, allPairwise[idx].T, allNodesConnectedToLabel[idx])\n",
      "print \"solved traversal for sprite\", spriteIndices[idx] , \"in\", time.time() - tic; sys.stdout.flush()\n",
      "print minCostTraversal, minCost"
     ],
     "language": "python",
     "metadata": {},
     "outputs": [
      {
       "output_type": "stream",
       "stream": "stdout",
       "text": [
        "solved traversal for sprite 0 in 0.587043046951\n"
       ]
      },
      {
       "output_type": "stream",
       "stream": "stdout",
       "text": [
        "[  0   0   0   0   0   1   2   3   4   5   6   7   8   9  10  11  12  13\n",
        "  14  15  16  17  18  19  20  21  22  23  24  25  26  27  28  29  30  31\n",
        "  32  33  34  35  36  37  38  39  40  41  42  43  44  45  46  47  48  49\n",
        "  50  51  52  53  54  55  56  57  58  59  60  61  62  63  64  65  66  67\n",
        "  68  69  70  71  72  73  74  75  76  77  78  79  80  81  82  83  84  85\n",
        "  86  87  88  89  90  91  92  93  94  95  96  97  98  99 100 101 102 103\n",
        " 104 105 106 107 108 109 110 111 112 113 114 115 116 117 118 119 120 121\n",
        " 122 123 124 125 126 127 128 129 130 131 132 133 134 135 136 138 139 140\n",
        " 141 142 143 144 145 146 147 148 149 150 151 199 200 201 202 203 204 205\n",
        " 206 207 208 212 213 214 215 216 217 218 219 220 221 222 223 224 225 226\n",
        " 227 228 229 230 231 232 233 234 235 236 237 238 239 240 241 242 243 244\n",
        " 245 246 247 248 249 250 251 252 253 254 255 256 257 258 259 260 261 262\n",
        " 263 264 265 266 267 268 269 270 271 272 273 274 275 276 277 278 279 280\n",
        " 281 282 283 284 285 286 287 288 289 290 291 292 293 294 295 296 297 298\n",
        " 299 300 301 302 303 304 305 306 307 308 309 310 311 312 313 314 315 316\n",
        " 317 318 319 320 321 322 323 324 325 326 327 328 329 330 331 332 333 334\n",
        " 335 336 337 338 339 340 341 342 343 344 345 346 347 348 349 350 351 352\n",
        " 353 354 355 356 357 358 359 360 361 362 363 364 365 366 367 368 369 370\n",
        " 371 372 373 374 375 376 377 378 379 380 381 382 383 384 385 386 387 388\n",
        " 389 390 391 392 393 394 395 396 397 398 399 400 401 402 403 404 405 406\n",
        " 407 408 409 410 411 412 413 414 415 416 417 418 419 420 421 422 423 424\n",
        " 425 426 427 428 429 430 431 432 433 434 435 436 437 438 439 440 441 442\n",
        " 443 444 445 446 447 448 449 450 451 452 453 454 455 456 457 458 459 460\n",
        " 461 462 463 464 465 466 467 468 469 470 471 472 473 474 475 476 477 478\n",
        " 479 480 481 482 483 484 485 486 487 488 489 490 491 492 493 494 495 496] 8268.55550405\n"
       ]
      }
     ],
     "prompt_number": 463
    },
    {
     "cell_type": "code",
     "collapsed": false,
     "input": [
      "# gwv.showCustomGraph(spriteDistMats[1])\n",
      "tmp = np.copy(spritesCompatibility)\n",
      "tmp[sequenceStartFrames[0]-1, 5:-5+1] += spriteDistMats[1][1:, :-1][sequenceStartFrames[1]-1, :]\n",
      "gwv.showCustomGraph(tmp)"
     ],
     "language": "python",
     "metadata": {},
     "outputs": [],
     "prompt_number": 379
    },
    {
     "cell_type": "code",
     "collapsed": false,
     "input": [
      "print trackedSprites[spriteIndices[idx]][DICT_SPRITE_NAME]"
     ],
     "language": "python",
     "metadata": {},
     "outputs": [
      {
       "ename": "NameError",
       "evalue": "name 'spriteIndices' is not defined",
       "output_type": "pyerr",
       "traceback": [
        "\u001b[0;31m---------------------------------------------------------------------------\u001b[0m\n\u001b[0;31mNameError\u001b[0m                                 Traceback (most recent call last)",
        "\u001b[0;32m<ipython-input-32-fbd51de4799f>\u001b[0m in \u001b[0;36m<module>\u001b[0;34m()\u001b[0m\n\u001b[0;32m----> 1\u001b[0;31m \u001b[0;32mprint\u001b[0m \u001b[0mtrackedSprites\u001b[0m\u001b[0;34m[\u001b[0m\u001b[0mspriteIndices\u001b[0m\u001b[0;34m[\u001b[0m\u001b[0midx\u001b[0m\u001b[0;34m]\u001b[0m\u001b[0;34m]\u001b[0m\u001b[0;34m[\u001b[0m\u001b[0mDICT_SPRITE_NAME\u001b[0m\u001b[0;34m]\u001b[0m\u001b[0;34m\u001b[0m\u001b[0m\n\u001b[0m",
        "\u001b[0;31mNameError\u001b[0m: name 'spriteIndices' is not defined"
       ]
      }
     ],
     "prompt_number": 32
    },
    {
     "cell_type": "code",
     "collapsed": false,
     "input": [
      "debugSequence = []\n",
      "for idx in xrange(len(spriteIndices)) :\n",
      "    debugSequence.append({\n",
      "                          DICT_SPRITE_NAME:trackedSprites[spriteIndices[idx]][DICT_SPRITE_NAME],\n",
      "                          DICT_SPRITE_IDX:spriteIndices[idx],\n",
      "                          DICT_SEQUENCE_FRAMES:generatedSequences[idx, :],\n",
      "                          DICT_DESIRED_SEMANTICS:np.array([1.0, 0.0]).reshape((1, 2)).repeat(sequenceLength, axis=0)\n",
      "                          })\n",
      "    if idx == 0 :\n",
      "        debugSequence[idx][DICT_SEQUENCE_FRAMES] = minCostTraversal#np.ones(sequenceLength)*200\n",
      "np.save(dataPath+dataSet+\"generatedSequence-debug.npy\", debugSequence)"
     ],
     "language": "python",
     "metadata": {},
     "outputs": [],
     "prompt_number": 464
    },
    {
     "cell_type": "code",
     "collapsed": false,
     "input": [
      "incompatibleDistances = np.copy(spritesCompatibility)\n",
      "incompatiblePairs = np.argwhere(incompatibleDistances <= 1.0)\n",
      "incompatibleDistances[incompatiblePairs[:, 0], incompatiblePairs[:, 1]] = 1e7\n",
      "gwv.showCustomGraph(incompatibleDistances)"
     ],
     "language": "python",
     "metadata": {},
     "outputs": [],
     "prompt_number": 468
    },
    {
     "cell_type": "code",
     "collapsed": false,
     "input": [
      "## compute L2 distance between bbox centers for given sprites\n",
      "spriteDistMats = []\n",
      "for idx in xrange(len(spriteIndices)) :\n",
      "    bboxCenters = np.array([trackedSprites[spriteIndices[idx]][DICT_BBOX_CENTERS][x] for x in np.sort(trackedSprites[spriteIndices[idx]][DICT_BBOX_CENTERS].keys())])\n",
      "    l2DistMat = np.zeros((len(bboxCenters), len(bboxCenters)))\n",
      "    for c in xrange(len(bboxCenters)) :\n",
      "        l2DistMat[c, c:] = np.linalg.norm(bboxCenters[c].reshape((1, 2)).repeat(len(bboxCenters)-c, axis=0) - bboxCenters[c:], axis=1)\n",
      "        l2DistMat[c:, c] = l2DistMat[c, c:]\n",
      "            \n",
      "    spriteDistMats.append(vtu.filterDistanceMatrix(l2DistMat, 4, False))"
     ],
     "language": "python",
     "metadata": {},
     "outputs": [
      {
       "output_type": "stream",
       "stream": "stdout",
       "text": [
        "[  1.   8.  28.  56.  70.  56.  28.   8.   1.]\n",
        "[  1.   8.  28.  56.  70.  56.  28.   8.   1.]"
       ]
      },
      {
       "output_type": "stream",
       "stream": "stdout",
       "text": [
        "\n"
       ]
      }
     ],
     "prompt_number": 80
    },
    {
     "cell_type": "code",
     "collapsed": false,
     "input": [
      "## compute compatibility distance for every frame pairing between sprites\n",
      "## compute L2 distance between bbox centers for given sprites\n",
      "spritesCompatibility = np.zeros((len(trackedSprites[spriteIndices[0]][DICT_BBOX_CENTERS]), len(trackedSprites[spriteIndices[1]][DICT_BBOX_CENTERS])))\n",
      "\n",
      "for frame in np.arange(len(trackedSprites[spriteIndices[0]][DICT_BBOX_CENTERS])) :\n",
      "    spriteTotLength = len(trackedSprites[spriteIndices[1]][DICT_BBOX_CENTERS])\n",
      "    frameRanges = np.vstack((np.ones(spriteTotLength, dtype=int)*frame, np.arange(spriteTotLength, dtype=int).reshape((1, spriteTotLength))))\n",
      "    compatibilityDist, allCompatibilityDists = getOverlappingSpriteTracksDistance(trackedSprites[spriteIndices[0]], trackedSprites[spriteIndices[1]], frameRanges, False)\n",
      "    spritesCompatibility[frame, :] = allCompatibilityDists\n",
      "    \n",
      "    sys.stdout.write('\\r' + \"Computed frame \" + np.string_(frame) + \" of \" + np.string_(len(trackedSprites[spriteIndices[0]][DICT_BBOX_CENTERS])))\n",
      "    sys.stdout.flush()"
     ],
     "language": "python",
     "metadata": {},
     "outputs": [
      {
       "output_type": "stream",
       "stream": "stdout",
       "text": [
        "\r",
        "Computed frame 0 of 550"
       ]
      },
      {
       "output_type": "stream",
       "stream": "stdout",
       "text": [
        "\r",
        "Computed frame 1 of 550"
       ]
      },
      {
       "output_type": "stream",
       "stream": "stdout",
       "text": [
        "\r",
        "Computed frame 2 of 550"
       ]
      },
      {
       "output_type": "stream",
       "stream": "stdout",
       "text": [
        "\r",
        "Computed frame 3 of 550"
       ]
      },
      {
       "output_type": "stream",
       "stream": "stdout",
       "text": [
        "\r",
        "Computed frame 4 of 550"
       ]
      },
      {
       "output_type": "stream",
       "stream": "stdout",
       "text": [
        "\r",
        "Computed frame 5 of 550"
       ]
      },
      {
       "output_type": "stream",
       "stream": "stdout",
       "text": [
        "\r",
        "Computed frame 6 of 550"
       ]
      },
      {
       "output_type": "stream",
       "stream": "stdout",
       "text": [
        "\r",
        "Computed frame 7 of 550"
       ]
      },
      {
       "output_type": "stream",
       "stream": "stdout",
       "text": [
        "\r",
        "Computed frame 8 of 550"
       ]
      },
      {
       "output_type": "stream",
       "stream": "stdout",
       "text": [
        "\r",
        "Computed frame 9 of 550"
       ]
      },
      {
       "output_type": "stream",
       "stream": "stdout",
       "text": [
        "\r",
        "Computed frame 10 of 550"
       ]
      },
      {
       "output_type": "stream",
       "stream": "stdout",
       "text": [
        "\r",
        "Computed frame 11 of 550"
       ]
      },
      {
       "output_type": "stream",
       "stream": "stdout",
       "text": [
        "\r",
        "Computed frame 12 of 550"
       ]
      },
      {
       "output_type": "stream",
       "stream": "stdout",
       "text": [
        "\r",
        "Computed frame 13 of 550"
       ]
      },
      {
       "output_type": "stream",
       "stream": "stdout",
       "text": [
        "\r",
        "Computed frame 14 of 550"
       ]
      },
      {
       "output_type": "stream",
       "stream": "stdout",
       "text": [
        "\r",
        "Computed frame 15 of 550"
       ]
      },
      {
       "output_type": "stream",
       "stream": "stdout",
       "text": [
        "\r",
        "Computed frame 16 of 550"
       ]
      },
      {
       "output_type": "stream",
       "stream": "stdout",
       "text": [
        "\r",
        "Computed frame 17 of 550"
       ]
      },
      {
       "output_type": "stream",
       "stream": "stdout",
       "text": [
        "\r",
        "Computed frame 18 of 550"
       ]
      },
      {
       "output_type": "stream",
       "stream": "stdout",
       "text": [
        "\r",
        "Computed frame 19 of 550"
       ]
      },
      {
       "output_type": "stream",
       "stream": "stdout",
       "text": [
        "\r",
        "Computed frame 20 of 550"
       ]
      },
      {
       "output_type": "stream",
       "stream": "stdout",
       "text": [
        "\r",
        "Computed frame 21 of 550"
       ]
      },
      {
       "output_type": "stream",
       "stream": "stdout",
       "text": [
        "\r",
        "Computed frame 22 of 550"
       ]
      },
      {
       "output_type": "stream",
       "stream": "stdout",
       "text": [
        "\r",
        "Computed frame 23 of 550"
       ]
      },
      {
       "output_type": "stream",
       "stream": "stdout",
       "text": [
        "\r",
        "Computed frame 24 of 550"
       ]
      },
      {
       "output_type": "stream",
       "stream": "stdout",
       "text": [
        "\r",
        "Computed frame 25 of 550"
       ]
      },
      {
       "output_type": "stream",
       "stream": "stdout",
       "text": [
        "\r",
        "Computed frame 26 of 550"
       ]
      },
      {
       "output_type": "stream",
       "stream": "stdout",
       "text": [
        "\r",
        "Computed frame 27 of 550"
       ]
      },
      {
       "output_type": "stream",
       "stream": "stdout",
       "text": [
        "\r",
        "Computed frame 28 of 550"
       ]
      },
      {
       "output_type": "stream",
       "stream": "stdout",
       "text": [
        "\r",
        "Computed frame 29 of 550"
       ]
      },
      {
       "output_type": "stream",
       "stream": "stdout",
       "text": [
        "\r",
        "Computed frame 30 of 550"
       ]
      },
      {
       "output_type": "stream",
       "stream": "stdout",
       "text": [
        "\r",
        "Computed frame 31 of 550"
       ]
      },
      {
       "output_type": "stream",
       "stream": "stdout",
       "text": [
        "\r",
        "Computed frame 32 of 550"
       ]
      },
      {
       "output_type": "stream",
       "stream": "stdout",
       "text": [
        "\r",
        "Computed frame 33 of 550"
       ]
      },
      {
       "output_type": "stream",
       "stream": "stdout",
       "text": [
        "\r",
        "Computed frame 34 of 550"
       ]
      },
      {
       "output_type": "stream",
       "stream": "stdout",
       "text": [
        "\r",
        "Computed frame 35 of 550"
       ]
      },
      {
       "output_type": "stream",
       "stream": "stdout",
       "text": [
        "\r",
        "Computed frame 36 of 550"
       ]
      },
      {
       "output_type": "stream",
       "stream": "stdout",
       "text": [
        "\r",
        "Computed frame 37 of 550"
       ]
      },
      {
       "output_type": "stream",
       "stream": "stdout",
       "text": [
        "\r",
        "Computed frame 38 of 550"
       ]
      },
      {
       "output_type": "stream",
       "stream": "stdout",
       "text": [
        "\r",
        "Computed frame 39 of 550"
       ]
      },
      {
       "output_type": "stream",
       "stream": "stdout",
       "text": [
        "\r",
        "Computed frame 40 of 550"
       ]
      },
      {
       "output_type": "stream",
       "stream": "stdout",
       "text": [
        "\r",
        "Computed frame 41 of 550"
       ]
      },
      {
       "output_type": "stream",
       "stream": "stdout",
       "text": [
        "\r",
        "Computed frame 42 of 550"
       ]
      },
      {
       "output_type": "stream",
       "stream": "stdout",
       "text": [
        "\r",
        "Computed frame 43 of 550"
       ]
      },
      {
       "output_type": "stream",
       "stream": "stdout",
       "text": [
        "\r",
        "Computed frame 44 of 550"
       ]
      },
      {
       "output_type": "stream",
       "stream": "stdout",
       "text": [
        "\r",
        "Computed frame 45 of 550"
       ]
      },
      {
       "output_type": "stream",
       "stream": "stdout",
       "text": [
        "\r",
        "Computed frame 46 of 550"
       ]
      },
      {
       "output_type": "stream",
       "stream": "stdout",
       "text": [
        "\r",
        "Computed frame 47 of 550"
       ]
      },
      {
       "output_type": "stream",
       "stream": "stdout",
       "text": [
        "\r",
        "Computed frame 48 of 550"
       ]
      },
      {
       "output_type": "stream",
       "stream": "stdout",
       "text": [
        "\r",
        "Computed frame 49 of 550"
       ]
      },
      {
       "output_type": "stream",
       "stream": "stdout",
       "text": [
        "\r",
        "Computed frame 50 of 550"
       ]
      },
      {
       "output_type": "stream",
       "stream": "stdout",
       "text": [
        "\r",
        "Computed frame 51 of 550"
       ]
      },
      {
       "output_type": "stream",
       "stream": "stdout",
       "text": [
        "\r",
        "Computed frame 52 of 550"
       ]
      },
      {
       "output_type": "stream",
       "stream": "stdout",
       "text": [
        "\r",
        "Computed frame 53 of 550"
       ]
      },
      {
       "output_type": "stream",
       "stream": "stdout",
       "text": [
        "\r",
        "Computed frame 54 of 550"
       ]
      },
      {
       "output_type": "stream",
       "stream": "stdout",
       "text": [
        "\r",
        "Computed frame 55 of 550"
       ]
      },
      {
       "output_type": "stream",
       "stream": "stdout",
       "text": [
        "\r",
        "Computed frame 56 of 550"
       ]
      },
      {
       "output_type": "stream",
       "stream": "stdout",
       "text": [
        "\r",
        "Computed frame 57 of 550"
       ]
      },
      {
       "output_type": "stream",
       "stream": "stdout",
       "text": [
        "\r",
        "Computed frame 58 of 550"
       ]
      },
      {
       "output_type": "stream",
       "stream": "stdout",
       "text": [
        "\r",
        "Computed frame 59 of 550"
       ]
      },
      {
       "output_type": "stream",
       "stream": "stdout",
       "text": [
        "\r",
        "Computed frame 60 of 550"
       ]
      },
      {
       "output_type": "stream",
       "stream": "stdout",
       "text": [
        "\r",
        "Computed frame 61 of 550"
       ]
      },
      {
       "output_type": "stream",
       "stream": "stdout",
       "text": [
        "\r",
        "Computed frame 62 of 550"
       ]
      },
      {
       "output_type": "stream",
       "stream": "stdout",
       "text": [
        "\r",
        "Computed frame 63 of 550"
       ]
      },
      {
       "output_type": "stream",
       "stream": "stdout",
       "text": [
        "\r",
        "Computed frame 64 of 550"
       ]
      },
      {
       "output_type": "stream",
       "stream": "stdout",
       "text": [
        "\r",
        "Computed frame 65 of 550"
       ]
      },
      {
       "output_type": "stream",
       "stream": "stdout",
       "text": [
        "\r",
        "Computed frame 66 of 550"
       ]
      },
      {
       "output_type": "stream",
       "stream": "stdout",
       "text": [
        "\r",
        "Computed frame 67 of 550"
       ]
      },
      {
       "output_type": "stream",
       "stream": "stdout",
       "text": [
        "\r",
        "Computed frame 68 of 550"
       ]
      },
      {
       "output_type": "stream",
       "stream": "stdout",
       "text": [
        "\r",
        "Computed frame 69 of 550"
       ]
      },
      {
       "output_type": "stream",
       "stream": "stdout",
       "text": [
        "\r",
        "Computed frame 70 of 550"
       ]
      },
      {
       "output_type": "stream",
       "stream": "stdout",
       "text": [
        "\r",
        "Computed frame 71 of 550"
       ]
      },
      {
       "output_type": "stream",
       "stream": "stdout",
       "text": [
        "\r",
        "Computed frame 72 of 550"
       ]
      },
      {
       "output_type": "stream",
       "stream": "stdout",
       "text": [
        "\r",
        "Computed frame 73 of 550"
       ]
      },
      {
       "output_type": "stream",
       "stream": "stdout",
       "text": [
        "\r",
        "Computed frame 74 of 550"
       ]
      },
      {
       "output_type": "stream",
       "stream": "stdout",
       "text": [
        "\r",
        "Computed frame 75 of 550"
       ]
      },
      {
       "output_type": "stream",
       "stream": "stdout",
       "text": [
        "\r",
        "Computed frame 76 of 550"
       ]
      },
      {
       "output_type": "stream",
       "stream": "stdout",
       "text": [
        "\r",
        "Computed frame 77 of 550"
       ]
      },
      {
       "output_type": "stream",
       "stream": "stdout",
       "text": [
        "\r",
        "Computed frame 78 of 550"
       ]
      },
      {
       "output_type": "stream",
       "stream": "stdout",
       "text": [
        "\r",
        "Computed frame 79 of 550"
       ]
      },
      {
       "output_type": "stream",
       "stream": "stdout",
       "text": [
        "\r",
        "Computed frame 80 of 550"
       ]
      },
      {
       "output_type": "stream",
       "stream": "stdout",
       "text": [
        "\r",
        "Computed frame 81 of 550"
       ]
      },
      {
       "output_type": "stream",
       "stream": "stdout",
       "text": [
        "\r",
        "Computed frame 82 of 550"
       ]
      },
      {
       "output_type": "stream",
       "stream": "stdout",
       "text": [
        "\r",
        "Computed frame 83 of 550"
       ]
      },
      {
       "output_type": "stream",
       "stream": "stdout",
       "text": [
        "\r",
        "Computed frame 84 of 550"
       ]
      },
      {
       "output_type": "stream",
       "stream": "stdout",
       "text": [
        "\r",
        "Computed frame 85 of 550"
       ]
      },
      {
       "output_type": "stream",
       "stream": "stdout",
       "text": [
        "\r",
        "Computed frame 86 of 550"
       ]
      },
      {
       "output_type": "stream",
       "stream": "stdout",
       "text": [
        "\r",
        "Computed frame 87 of 550"
       ]
      },
      {
       "output_type": "stream",
       "stream": "stdout",
       "text": [
        "\r",
        "Computed frame 88 of 550"
       ]
      },
      {
       "output_type": "stream",
       "stream": "stdout",
       "text": [
        "\r",
        "Computed frame 89 of 550"
       ]
      },
      {
       "output_type": "stream",
       "stream": "stdout",
       "text": [
        "\r",
        "Computed frame 90 of 550"
       ]
      },
      {
       "output_type": "stream",
       "stream": "stdout",
       "text": [
        "\r",
        "Computed frame 91 of 550"
       ]
      },
      {
       "output_type": "stream",
       "stream": "stdout",
       "text": [
        "\r",
        "Computed frame 92 of 550"
       ]
      },
      {
       "output_type": "stream",
       "stream": "stdout",
       "text": [
        "\r",
        "Computed frame 93 of 550"
       ]
      },
      {
       "output_type": "stream",
       "stream": "stdout",
       "text": [
        "\r",
        "Computed frame 94 of 550"
       ]
      },
      {
       "output_type": "stream",
       "stream": "stdout",
       "text": [
        "\r",
        "Computed frame 95 of 550"
       ]
      },
      {
       "output_type": "stream",
       "stream": "stdout",
       "text": [
        "\r",
        "Computed frame 96 of 550"
       ]
      },
      {
       "output_type": "stream",
       "stream": "stdout",
       "text": [
        "\r",
        "Computed frame 97 of 550"
       ]
      },
      {
       "output_type": "stream",
       "stream": "stdout",
       "text": [
        "\r",
        "Computed frame 98 of 550"
       ]
      },
      {
       "output_type": "stream",
       "stream": "stdout",
       "text": [
        "\r",
        "Computed frame 99 of 550"
       ]
      },
      {
       "output_type": "stream",
       "stream": "stdout",
       "text": [
        "\r",
        "Computed frame 100 of 550"
       ]
      },
      {
       "output_type": "stream",
       "stream": "stdout",
       "text": [
        "\r",
        "Computed frame 101 of 550"
       ]
      },
      {
       "output_type": "stream",
       "stream": "stdout",
       "text": [
        "\r",
        "Computed frame 102 of 550"
       ]
      },
      {
       "output_type": "stream",
       "stream": "stdout",
       "text": [
        "\r",
        "Computed frame 103 of 550"
       ]
      },
      {
       "output_type": "stream",
       "stream": "stdout",
       "text": [
        "\r",
        "Computed frame 104 of 550"
       ]
      },
      {
       "output_type": "stream",
       "stream": "stdout",
       "text": [
        "\r",
        "Computed frame 105 of 550"
       ]
      },
      {
       "output_type": "stream",
       "stream": "stdout",
       "text": [
        "\r",
        "Computed frame 106 of 550"
       ]
      },
      {
       "output_type": "stream",
       "stream": "stdout",
       "text": [
        "\r",
        "Computed frame 107 of 550"
       ]
      },
      {
       "output_type": "stream",
       "stream": "stdout",
       "text": [
        "\r",
        "Computed frame 108 of 550"
       ]
      },
      {
       "output_type": "stream",
       "stream": "stdout",
       "text": [
        "\r",
        "Computed frame 109 of 550"
       ]
      },
      {
       "output_type": "stream",
       "stream": "stdout",
       "text": [
        "\r",
        "Computed frame 110 of 550"
       ]
      },
      {
       "output_type": "stream",
       "stream": "stdout",
       "text": [
        "\r",
        "Computed frame 111 of 550"
       ]
      },
      {
       "output_type": "stream",
       "stream": "stdout",
       "text": [
        "\r",
        "Computed frame 112 of 550"
       ]
      },
      {
       "output_type": "stream",
       "stream": "stdout",
       "text": [
        "\r",
        "Computed frame 113 of 550"
       ]
      },
      {
       "output_type": "stream",
       "stream": "stdout",
       "text": [
        "\r",
        "Computed frame 114 of 550"
       ]
      },
      {
       "output_type": "stream",
       "stream": "stdout",
       "text": [
        "\r",
        "Computed frame 115 of 550"
       ]
      },
      {
       "output_type": "stream",
       "stream": "stdout",
       "text": [
        "\r",
        "Computed frame 116 of 550"
       ]
      },
      {
       "output_type": "stream",
       "stream": "stdout",
       "text": [
        "\r",
        "Computed frame 117 of 550"
       ]
      },
      {
       "output_type": "stream",
       "stream": "stdout",
       "text": [
        "\r",
        "Computed frame 118 of 550"
       ]
      },
      {
       "output_type": "stream",
       "stream": "stdout",
       "text": [
        "\r",
        "Computed frame 119 of 550"
       ]
      },
      {
       "output_type": "stream",
       "stream": "stdout",
       "text": [
        "\r",
        "Computed frame 120 of 550"
       ]
      },
      {
       "output_type": "stream",
       "stream": "stdout",
       "text": [
        "\r",
        "Computed frame 121 of 550"
       ]
      },
      {
       "output_type": "stream",
       "stream": "stdout",
       "text": [
        "\r",
        "Computed frame 122 of 550"
       ]
      },
      {
       "output_type": "stream",
       "stream": "stdout",
       "text": [
        "\r",
        "Computed frame 123 of 550"
       ]
      },
      {
       "output_type": "stream",
       "stream": "stdout",
       "text": [
        "\r",
        "Computed frame 124 of 550"
       ]
      },
      {
       "output_type": "stream",
       "stream": "stdout",
       "text": [
        "\r",
        "Computed frame 125 of 550"
       ]
      },
      {
       "output_type": "stream",
       "stream": "stdout",
       "text": [
        "\r",
        "Computed frame 126 of 550"
       ]
      },
      {
       "output_type": "stream",
       "stream": "stdout",
       "text": [
        "\r",
        "Computed frame 127 of 550"
       ]
      },
      {
       "output_type": "stream",
       "stream": "stdout",
       "text": [
        "\r",
        "Computed frame 128 of 550"
       ]
      },
      {
       "output_type": "stream",
       "stream": "stdout",
       "text": [
        "\r",
        "Computed frame 129 of 550"
       ]
      },
      {
       "output_type": "stream",
       "stream": "stdout",
       "text": [
        "\r",
        "Computed frame 130 of 550"
       ]
      },
      {
       "output_type": "stream",
       "stream": "stdout",
       "text": [
        "\r",
        "Computed frame 131 of 550"
       ]
      },
      {
       "output_type": "stream",
       "stream": "stdout",
       "text": [
        "\r",
        "Computed frame 132 of 550"
       ]
      },
      {
       "output_type": "stream",
       "stream": "stdout",
       "text": [
        "\r",
        "Computed frame 133 of 550"
       ]
      },
      {
       "output_type": "stream",
       "stream": "stdout",
       "text": [
        "\r",
        "Computed frame 134 of 550"
       ]
      },
      {
       "output_type": "stream",
       "stream": "stdout",
       "text": [
        "\r",
        "Computed frame 135 of 550"
       ]
      },
      {
       "output_type": "stream",
       "stream": "stdout",
       "text": [
        "\r",
        "Computed frame 136 of 550"
       ]
      },
      {
       "output_type": "stream",
       "stream": "stdout",
       "text": [
        "\r",
        "Computed frame 137 of 550"
       ]
      },
      {
       "output_type": "stream",
       "stream": "stdout",
       "text": [
        "\r",
        "Computed frame 138 of 550"
       ]
      },
      {
       "output_type": "stream",
       "stream": "stdout",
       "text": [
        "\r",
        "Computed frame 139 of 550"
       ]
      },
      {
       "output_type": "stream",
       "stream": "stdout",
       "text": [
        "\r",
        "Computed frame 140 of 550"
       ]
      },
      {
       "output_type": "stream",
       "stream": "stdout",
       "text": [
        "\r",
        "Computed frame 141 of 550"
       ]
      },
      {
       "output_type": "stream",
       "stream": "stdout",
       "text": [
        "\r",
        "Computed frame 142 of 550"
       ]
      },
      {
       "output_type": "stream",
       "stream": "stdout",
       "text": [
        "\r",
        "Computed frame 143 of 550"
       ]
      },
      {
       "output_type": "stream",
       "stream": "stdout",
       "text": [
        "\r",
        "Computed frame 144 of 550"
       ]
      },
      {
       "output_type": "stream",
       "stream": "stdout",
       "text": [
        "\r",
        "Computed frame 145 of 550"
       ]
      },
      {
       "output_type": "stream",
       "stream": "stdout",
       "text": [
        "\r",
        "Computed frame 146 of 550"
       ]
      },
      {
       "output_type": "stream",
       "stream": "stdout",
       "text": [
        "\r",
        "Computed frame 147 of 550"
       ]
      },
      {
       "output_type": "stream",
       "stream": "stdout",
       "text": [
        "\r",
        "Computed frame 148 of 550"
       ]
      },
      {
       "output_type": "stream",
       "stream": "stdout",
       "text": [
        "\r",
        "Computed frame 149 of 550"
       ]
      },
      {
       "output_type": "stream",
       "stream": "stdout",
       "text": [
        "\r",
        "Computed frame 150 of 550"
       ]
      },
      {
       "output_type": "stream",
       "stream": "stdout",
       "text": [
        "\r",
        "Computed frame 151 of 550"
       ]
      },
      {
       "output_type": "stream",
       "stream": "stdout",
       "text": [
        "\r",
        "Computed frame 152 of 550"
       ]
      },
      {
       "output_type": "stream",
       "stream": "stdout",
       "text": [
        "\r",
        "Computed frame 153 of 550"
       ]
      },
      {
       "output_type": "stream",
       "stream": "stdout",
       "text": [
        "\r",
        "Computed frame 154 of 550"
       ]
      },
      {
       "output_type": "stream",
       "stream": "stdout",
       "text": [
        "\r",
        "Computed frame 155 of 550"
       ]
      },
      {
       "output_type": "stream",
       "stream": "stdout",
       "text": [
        "\r",
        "Computed frame 156 of 550"
       ]
      },
      {
       "output_type": "stream",
       "stream": "stdout",
       "text": [
        "\r",
        "Computed frame 157 of 550"
       ]
      },
      {
       "output_type": "stream",
       "stream": "stdout",
       "text": [
        "\r",
        "Computed frame 158 of 550"
       ]
      },
      {
       "output_type": "stream",
       "stream": "stdout",
       "text": [
        "\r",
        "Computed frame 159 of 550"
       ]
      },
      {
       "output_type": "stream",
       "stream": "stdout",
       "text": [
        "\r",
        "Computed frame 160 of 550"
       ]
      },
      {
       "output_type": "stream",
       "stream": "stdout",
       "text": [
        "\r",
        "Computed frame 161 of 550"
       ]
      },
      {
       "output_type": "stream",
       "stream": "stdout",
       "text": [
        "\r",
        "Computed frame 162 of 550"
       ]
      },
      {
       "output_type": "stream",
       "stream": "stdout",
       "text": [
        "\r",
        "Computed frame 163 of 550"
       ]
      },
      {
       "output_type": "stream",
       "stream": "stdout",
       "text": [
        "\r",
        "Computed frame 164 of 550"
       ]
      },
      {
       "output_type": "stream",
       "stream": "stdout",
       "text": [
        "\r",
        "Computed frame 165 of 550"
       ]
      },
      {
       "output_type": "stream",
       "stream": "stdout",
       "text": [
        "\r",
        "Computed frame 166 of 550"
       ]
      },
      {
       "output_type": "stream",
       "stream": "stdout",
       "text": [
        "\r",
        "Computed frame 167 of 550"
       ]
      },
      {
       "output_type": "stream",
       "stream": "stdout",
       "text": [
        "\r",
        "Computed frame 168 of 550"
       ]
      },
      {
       "output_type": "stream",
       "stream": "stdout",
       "text": [
        "\r",
        "Computed frame 169 of 550"
       ]
      },
      {
       "output_type": "stream",
       "stream": "stdout",
       "text": [
        "\r",
        "Computed frame 170 of 550"
       ]
      },
      {
       "output_type": "stream",
       "stream": "stdout",
       "text": [
        "\r",
        "Computed frame 171 of 550"
       ]
      },
      {
       "output_type": "stream",
       "stream": "stdout",
       "text": [
        "\r",
        "Computed frame 172 of 550"
       ]
      },
      {
       "output_type": "stream",
       "stream": "stdout",
       "text": [
        "\r",
        "Computed frame 173 of 550"
       ]
      },
      {
       "output_type": "stream",
       "stream": "stdout",
       "text": [
        "\r",
        "Computed frame 174 of 550"
       ]
      },
      {
       "output_type": "stream",
       "stream": "stdout",
       "text": [
        "\r",
        "Computed frame 175 of 550"
       ]
      },
      {
       "output_type": "stream",
       "stream": "stdout",
       "text": [
        "\r",
        "Computed frame 176 of 550"
       ]
      },
      {
       "output_type": "stream",
       "stream": "stdout",
       "text": [
        "\r",
        "Computed frame 177 of 550"
       ]
      },
      {
       "output_type": "stream",
       "stream": "stdout",
       "text": [
        "\r",
        "Computed frame 178 of 550"
       ]
      },
      {
       "output_type": "stream",
       "stream": "stdout",
       "text": [
        "\r",
        "Computed frame 179 of 550"
       ]
      },
      {
       "output_type": "stream",
       "stream": "stdout",
       "text": [
        "\r",
        "Computed frame 180 of 550"
       ]
      },
      {
       "output_type": "stream",
       "stream": "stdout",
       "text": [
        "\r",
        "Computed frame 181 of 550"
       ]
      },
      {
       "output_type": "stream",
       "stream": "stdout",
       "text": [
        "\r",
        "Computed frame 182 of 550"
       ]
      },
      {
       "output_type": "stream",
       "stream": "stdout",
       "text": [
        "\r",
        "Computed frame 183 of 550"
       ]
      },
      {
       "output_type": "stream",
       "stream": "stdout",
       "text": [
        "\r",
        "Computed frame 184 of 550"
       ]
      },
      {
       "output_type": "stream",
       "stream": "stdout",
       "text": [
        "\r",
        "Computed frame 185 of 550"
       ]
      },
      {
       "output_type": "stream",
       "stream": "stdout",
       "text": [
        "\r",
        "Computed frame 186 of 550"
       ]
      },
      {
       "output_type": "stream",
       "stream": "stdout",
       "text": [
        "\r",
        "Computed frame 187 of 550"
       ]
      },
      {
       "output_type": "stream",
       "stream": "stdout",
       "text": [
        "\r",
        "Computed frame 188 of 550"
       ]
      },
      {
       "output_type": "stream",
       "stream": "stdout",
       "text": [
        "\r",
        "Computed frame 189 of 550"
       ]
      },
      {
       "output_type": "stream",
       "stream": "stdout",
       "text": [
        "\r",
        "Computed frame 190 of 550"
       ]
      },
      {
       "output_type": "stream",
       "stream": "stdout",
       "text": [
        "\r",
        "Computed frame 191 of 550"
       ]
      },
      {
       "output_type": "stream",
       "stream": "stdout",
       "text": [
        "\r",
        "Computed frame 192 of 550"
       ]
      },
      {
       "output_type": "stream",
       "stream": "stdout",
       "text": [
        "\r",
        "Computed frame 193 of 550"
       ]
      },
      {
       "output_type": "stream",
       "stream": "stdout",
       "text": [
        "\r",
        "Computed frame 194 of 550"
       ]
      },
      {
       "output_type": "stream",
       "stream": "stdout",
       "text": [
        "\r",
        "Computed frame 195 of 550"
       ]
      },
      {
       "output_type": "stream",
       "stream": "stdout",
       "text": [
        "\r",
        "Computed frame 196 of 550"
       ]
      },
      {
       "output_type": "stream",
       "stream": "stdout",
       "text": [
        "\r",
        "Computed frame 197 of 550"
       ]
      },
      {
       "output_type": "stream",
       "stream": "stdout",
       "text": [
        "\r",
        "Computed frame 198 of 550"
       ]
      },
      {
       "output_type": "stream",
       "stream": "stdout",
       "text": [
        "\r",
        "Computed frame 199 of 550"
       ]
      },
      {
       "output_type": "stream",
       "stream": "stdout",
       "text": [
        "\r",
        "Computed frame 200 of 550"
       ]
      },
      {
       "output_type": "stream",
       "stream": "stdout",
       "text": [
        "\r",
        "Computed frame 201 of 550"
       ]
      },
      {
       "output_type": "stream",
       "stream": "stdout",
       "text": [
        "\r",
        "Computed frame 202 of 550"
       ]
      },
      {
       "output_type": "stream",
       "stream": "stdout",
       "text": [
        "\r",
        "Computed frame 203 of 550"
       ]
      },
      {
       "output_type": "stream",
       "stream": "stdout",
       "text": [
        "\r",
        "Computed frame 204 of 550"
       ]
      },
      {
       "output_type": "stream",
       "stream": "stdout",
       "text": [
        "\r",
        "Computed frame 205 of 550"
       ]
      },
      {
       "output_type": "stream",
       "stream": "stdout",
       "text": [
        "\r",
        "Computed frame 206 of 550"
       ]
      },
      {
       "output_type": "stream",
       "stream": "stdout",
       "text": [
        "\r",
        "Computed frame 207 of 550"
       ]
      },
      {
       "output_type": "stream",
       "stream": "stdout",
       "text": [
        "\r",
        "Computed frame 208 of 550"
       ]
      },
      {
       "output_type": "stream",
       "stream": "stdout",
       "text": [
        "\r",
        "Computed frame 209 of 550"
       ]
      },
      {
       "output_type": "stream",
       "stream": "stdout",
       "text": [
        "\r",
        "Computed frame 210 of 550"
       ]
      },
      {
       "output_type": "stream",
       "stream": "stdout",
       "text": [
        "\r",
        "Computed frame 211 of 550"
       ]
      },
      {
       "output_type": "stream",
       "stream": "stdout",
       "text": [
        "\r",
        "Computed frame 212 of 550"
       ]
      },
      {
       "output_type": "stream",
       "stream": "stdout",
       "text": [
        "\r",
        "Computed frame 213 of 550"
       ]
      },
      {
       "output_type": "stream",
       "stream": "stdout",
       "text": [
        "\r",
        "Computed frame 214 of 550"
       ]
      },
      {
       "output_type": "stream",
       "stream": "stdout",
       "text": [
        "\r",
        "Computed frame 215 of 550"
       ]
      },
      {
       "output_type": "stream",
       "stream": "stdout",
       "text": [
        "\r",
        "Computed frame 216 of 550"
       ]
      },
      {
       "output_type": "stream",
       "stream": "stdout",
       "text": [
        "\r",
        "Computed frame 217 of 550"
       ]
      },
      {
       "output_type": "stream",
       "stream": "stdout",
       "text": [
        "\r",
        "Computed frame 218 of 550"
       ]
      },
      {
       "output_type": "stream",
       "stream": "stdout",
       "text": [
        "\r",
        "Computed frame 219 of 550"
       ]
      },
      {
       "output_type": "stream",
       "stream": "stdout",
       "text": [
        "\r",
        "Computed frame 220 of 550"
       ]
      },
      {
       "output_type": "stream",
       "stream": "stdout",
       "text": [
        "\r",
        "Computed frame 221 of 550"
       ]
      },
      {
       "output_type": "stream",
       "stream": "stdout",
       "text": [
        "\r",
        "Computed frame 222 of 550"
       ]
      },
      {
       "output_type": "stream",
       "stream": "stdout",
       "text": [
        "\r",
        "Computed frame 223 of 550"
       ]
      },
      {
       "output_type": "stream",
       "stream": "stdout",
       "text": [
        "\r",
        "Computed frame 224 of 550"
       ]
      },
      {
       "output_type": "stream",
       "stream": "stdout",
       "text": [
        "\r",
        "Computed frame 225 of 550"
       ]
      },
      {
       "output_type": "stream",
       "stream": "stdout",
       "text": [
        "\r",
        "Computed frame 226 of 550"
       ]
      },
      {
       "output_type": "stream",
       "stream": "stdout",
       "text": [
        "\r",
        "Computed frame 227 of 550"
       ]
      },
      {
       "output_type": "stream",
       "stream": "stdout",
       "text": [
        "\r",
        "Computed frame 228 of 550"
       ]
      },
      {
       "output_type": "stream",
       "stream": "stdout",
       "text": [
        "\r",
        "Computed frame 229 of 550"
       ]
      },
      {
       "output_type": "stream",
       "stream": "stdout",
       "text": [
        "\r",
        "Computed frame 230 of 550"
       ]
      },
      {
       "output_type": "stream",
       "stream": "stdout",
       "text": [
        "\r",
        "Computed frame 231 of 550"
       ]
      },
      {
       "output_type": "stream",
       "stream": "stdout",
       "text": [
        "\r",
        "Computed frame 232 of 550"
       ]
      },
      {
       "output_type": "stream",
       "stream": "stdout",
       "text": [
        "\r",
        "Computed frame 233 of 550"
       ]
      },
      {
       "output_type": "stream",
       "stream": "stdout",
       "text": [
        "\r",
        "Computed frame 234 of 550"
       ]
      },
      {
       "output_type": "stream",
       "stream": "stdout",
       "text": [
        "\r",
        "Computed frame 235 of 550"
       ]
      },
      {
       "output_type": "stream",
       "stream": "stdout",
       "text": [
        "\r",
        "Computed frame 236 of 550"
       ]
      },
      {
       "output_type": "stream",
       "stream": "stdout",
       "text": [
        "\r",
        "Computed frame 237 of 550"
       ]
      },
      {
       "output_type": "stream",
       "stream": "stdout",
       "text": [
        "\r",
        "Computed frame 238 of 550"
       ]
      },
      {
       "output_type": "stream",
       "stream": "stdout",
       "text": [
        "\r",
        "Computed frame 239 of 550"
       ]
      },
      {
       "output_type": "stream",
       "stream": "stdout",
       "text": [
        "\r",
        "Computed frame 240 of 550"
       ]
      },
      {
       "output_type": "stream",
       "stream": "stdout",
       "text": [
        "\r",
        "Computed frame 241 of 550"
       ]
      },
      {
       "output_type": "stream",
       "stream": "stdout",
       "text": [
        "\r",
        "Computed frame 242 of 550"
       ]
      },
      {
       "output_type": "stream",
       "stream": "stdout",
       "text": [
        "\r",
        "Computed frame 243 of 550"
       ]
      },
      {
       "output_type": "stream",
       "stream": "stdout",
       "text": [
        "\r",
        "Computed frame 244 of 550"
       ]
      },
      {
       "output_type": "stream",
       "stream": "stdout",
       "text": [
        "\r",
        "Computed frame 245 of 550"
       ]
      },
      {
       "output_type": "stream",
       "stream": "stdout",
       "text": [
        "\r",
        "Computed frame 246 of 550"
       ]
      },
      {
       "output_type": "stream",
       "stream": "stdout",
       "text": [
        "\r",
        "Computed frame 247 of 550"
       ]
      },
      {
       "output_type": "stream",
       "stream": "stdout",
       "text": [
        "\r",
        "Computed frame 248 of 550"
       ]
      },
      {
       "output_type": "stream",
       "stream": "stdout",
       "text": [
        "\r",
        "Computed frame 249 of 550"
       ]
      },
      {
       "output_type": "stream",
       "stream": "stdout",
       "text": [
        "\r",
        "Computed frame 250 of 550"
       ]
      },
      {
       "output_type": "stream",
       "stream": "stdout",
       "text": [
        "\r",
        "Computed frame 251 of 550"
       ]
      },
      {
       "output_type": "stream",
       "stream": "stdout",
       "text": [
        "\r",
        "Computed frame 252 of 550"
       ]
      },
      {
       "output_type": "stream",
       "stream": "stdout",
       "text": [
        "\r",
        "Computed frame 253 of 550"
       ]
      },
      {
       "output_type": "stream",
       "stream": "stdout",
       "text": [
        "\r",
        "Computed frame 254 of 550"
       ]
      },
      {
       "output_type": "stream",
       "stream": "stdout",
       "text": [
        "\r",
        "Computed frame 255 of 550"
       ]
      },
      {
       "output_type": "stream",
       "stream": "stdout",
       "text": [
        "\r",
        "Computed frame 256 of 550"
       ]
      },
      {
       "output_type": "stream",
       "stream": "stdout",
       "text": [
        "\r",
        "Computed frame 257 of 550"
       ]
      },
      {
       "output_type": "stream",
       "stream": "stdout",
       "text": [
        "\r",
        "Computed frame 258 of 550"
       ]
      },
      {
       "output_type": "stream",
       "stream": "stdout",
       "text": [
        "\r",
        "Computed frame 259 of 550"
       ]
      },
      {
       "output_type": "stream",
       "stream": "stdout",
       "text": [
        "\r",
        "Computed frame 260 of 550"
       ]
      },
      {
       "output_type": "stream",
       "stream": "stdout",
       "text": [
        "\r",
        "Computed frame 261 of 550"
       ]
      },
      {
       "output_type": "stream",
       "stream": "stdout",
       "text": [
        "\r",
        "Computed frame 262 of 550"
       ]
      },
      {
       "output_type": "stream",
       "stream": "stdout",
       "text": [
        "\r",
        "Computed frame 263 of 550"
       ]
      },
      {
       "output_type": "stream",
       "stream": "stdout",
       "text": [
        "\r",
        "Computed frame 264 of 550"
       ]
      },
      {
       "output_type": "stream",
       "stream": "stdout",
       "text": [
        "\r",
        "Computed frame 265 of 550"
       ]
      },
      {
       "output_type": "stream",
       "stream": "stdout",
       "text": [
        "\r",
        "Computed frame 266 of 550"
       ]
      },
      {
       "output_type": "stream",
       "stream": "stdout",
       "text": [
        "\r",
        "Computed frame 267 of 550"
       ]
      },
      {
       "output_type": "stream",
       "stream": "stdout",
       "text": [
        "\r",
        "Computed frame 268 of 550"
       ]
      },
      {
       "output_type": "stream",
       "stream": "stdout",
       "text": [
        "\r",
        "Computed frame 269 of 550"
       ]
      },
      {
       "output_type": "stream",
       "stream": "stdout",
       "text": [
        "\r",
        "Computed frame 270 of 550"
       ]
      },
      {
       "output_type": "stream",
       "stream": "stdout",
       "text": [
        "\r",
        "Computed frame 271 of 550"
       ]
      },
      {
       "output_type": "stream",
       "stream": "stdout",
       "text": [
        "\r",
        "Computed frame 272 of 550"
       ]
      },
      {
       "output_type": "stream",
       "stream": "stdout",
       "text": [
        "\r",
        "Computed frame 273 of 550"
       ]
      },
      {
       "output_type": "stream",
       "stream": "stdout",
       "text": [
        "\r",
        "Computed frame 274 of 550"
       ]
      },
      {
       "output_type": "stream",
       "stream": "stdout",
       "text": [
        "\r",
        "Computed frame 275 of 550"
       ]
      },
      {
       "output_type": "stream",
       "stream": "stdout",
       "text": [
        "\r",
        "Computed frame 276 of 550"
       ]
      },
      {
       "output_type": "stream",
       "stream": "stdout",
       "text": [
        "\r",
        "Computed frame 277 of 550"
       ]
      },
      {
       "output_type": "stream",
       "stream": "stdout",
       "text": [
        "\r",
        "Computed frame 278 of 550"
       ]
      },
      {
       "output_type": "stream",
       "stream": "stdout",
       "text": [
        "\r",
        "Computed frame 279 of 550"
       ]
      },
      {
       "output_type": "stream",
       "stream": "stdout",
       "text": [
        "\r",
        "Computed frame 280 of 550"
       ]
      },
      {
       "output_type": "stream",
       "stream": "stdout",
       "text": [
        "\r",
        "Computed frame 281 of 550"
       ]
      },
      {
       "output_type": "stream",
       "stream": "stdout",
       "text": [
        "\r",
        "Computed frame 282 of 550"
       ]
      },
      {
       "output_type": "stream",
       "stream": "stdout",
       "text": [
        "\r",
        "Computed frame 283 of 550"
       ]
      },
      {
       "output_type": "stream",
       "stream": "stdout",
       "text": [
        "\r",
        "Computed frame 284 of 550"
       ]
      },
      {
       "output_type": "stream",
       "stream": "stdout",
       "text": [
        "\r",
        "Computed frame 285 of 550"
       ]
      },
      {
       "output_type": "stream",
       "stream": "stdout",
       "text": [
        "\r",
        "Computed frame 286 of 550"
       ]
      },
      {
       "output_type": "stream",
       "stream": "stdout",
       "text": [
        "\r",
        "Computed frame 287 of 550"
       ]
      },
      {
       "output_type": "stream",
       "stream": "stdout",
       "text": [
        "\r",
        "Computed frame 288 of 550"
       ]
      },
      {
       "output_type": "stream",
       "stream": "stdout",
       "text": [
        "\r",
        "Computed frame 289 of 550"
       ]
      },
      {
       "output_type": "stream",
       "stream": "stdout",
       "text": [
        "\r",
        "Computed frame 290 of 550"
       ]
      },
      {
       "output_type": "stream",
       "stream": "stdout",
       "text": [
        "\r",
        "Computed frame 291 of 550"
       ]
      },
      {
       "output_type": "stream",
       "stream": "stdout",
       "text": [
        "\r",
        "Computed frame 292 of 550"
       ]
      },
      {
       "output_type": "stream",
       "stream": "stdout",
       "text": [
        "\r",
        "Computed frame 293 of 550"
       ]
      },
      {
       "output_type": "stream",
       "stream": "stdout",
       "text": [
        "\r",
        "Computed frame 294 of 550"
       ]
      },
      {
       "output_type": "stream",
       "stream": "stdout",
       "text": [
        "\r",
        "Computed frame 295 of 550"
       ]
      },
      {
       "output_type": "stream",
       "stream": "stdout",
       "text": [
        "\r",
        "Computed frame 296 of 550"
       ]
      },
      {
       "output_type": "stream",
       "stream": "stdout",
       "text": [
        "\r",
        "Computed frame 297 of 550"
       ]
      },
      {
       "output_type": "stream",
       "stream": "stdout",
       "text": [
        "\r",
        "Computed frame 298 of 550"
       ]
      },
      {
       "output_type": "stream",
       "stream": "stdout",
       "text": [
        "\r",
        "Computed frame 299 of 550"
       ]
      },
      {
       "output_type": "stream",
       "stream": "stdout",
       "text": [
        "\r",
        "Computed frame 300 of 550"
       ]
      },
      {
       "output_type": "stream",
       "stream": "stdout",
       "text": [
        "\r",
        "Computed frame 301 of 550"
       ]
      },
      {
       "output_type": "stream",
       "stream": "stdout",
       "text": [
        "\r",
        "Computed frame 302 of 550"
       ]
      },
      {
       "output_type": "stream",
       "stream": "stdout",
       "text": [
        "\r",
        "Computed frame 303 of 550"
       ]
      },
      {
       "output_type": "stream",
       "stream": "stdout",
       "text": [
        "\r",
        "Computed frame 304 of 550"
       ]
      },
      {
       "output_type": "stream",
       "stream": "stdout",
       "text": [
        "\r",
        "Computed frame 305 of 550"
       ]
      },
      {
       "output_type": "stream",
       "stream": "stdout",
       "text": [
        "\r",
        "Computed frame 306 of 550"
       ]
      },
      {
       "output_type": "stream",
       "stream": "stdout",
       "text": [
        "\r",
        "Computed frame 307 of 550"
       ]
      },
      {
       "output_type": "stream",
       "stream": "stdout",
       "text": [
        "\r",
        "Computed frame 308 of 550"
       ]
      },
      {
       "output_type": "stream",
       "stream": "stdout",
       "text": [
        "\r",
        "Computed frame 309 of 550"
       ]
      },
      {
       "output_type": "stream",
       "stream": "stdout",
       "text": [
        "\r",
        "Computed frame 310 of 550"
       ]
      },
      {
       "output_type": "stream",
       "stream": "stdout",
       "text": [
        "\r",
        "Computed frame 311 of 550"
       ]
      },
      {
       "output_type": "stream",
       "stream": "stdout",
       "text": [
        "\r",
        "Computed frame 312 of 550"
       ]
      },
      {
       "output_type": "stream",
       "stream": "stdout",
       "text": [
        "\r",
        "Computed frame 313 of 550"
       ]
      },
      {
       "output_type": "stream",
       "stream": "stdout",
       "text": [
        "\r",
        "Computed frame 314 of 550"
       ]
      },
      {
       "output_type": "stream",
       "stream": "stdout",
       "text": [
        "\r",
        "Computed frame 315 of 550"
       ]
      },
      {
       "output_type": "stream",
       "stream": "stdout",
       "text": [
        "\r",
        "Computed frame 316 of 550"
       ]
      },
      {
       "output_type": "stream",
       "stream": "stdout",
       "text": [
        "\r",
        "Computed frame 317 of 550"
       ]
      },
      {
       "output_type": "stream",
       "stream": "stdout",
       "text": [
        "\r",
        "Computed frame 318 of 550"
       ]
      },
      {
       "output_type": "stream",
       "stream": "stdout",
       "text": [
        "\r",
        "Computed frame 319 of 550"
       ]
      },
      {
       "output_type": "stream",
       "stream": "stdout",
       "text": [
        "\r",
        "Computed frame 320 of 550"
       ]
      },
      {
       "output_type": "stream",
       "stream": "stdout",
       "text": [
        "\r",
        "Computed frame 321 of 550"
       ]
      },
      {
       "output_type": "stream",
       "stream": "stdout",
       "text": [
        "\r",
        "Computed frame 322 of 550"
       ]
      },
      {
       "output_type": "stream",
       "stream": "stdout",
       "text": [
        "\r",
        "Computed frame 323 of 550"
       ]
      },
      {
       "output_type": "stream",
       "stream": "stdout",
       "text": [
        "\r",
        "Computed frame 324 of 550"
       ]
      },
      {
       "output_type": "stream",
       "stream": "stdout",
       "text": [
        "\r",
        "Computed frame 325 of 550"
       ]
      },
      {
       "output_type": "stream",
       "stream": "stdout",
       "text": [
        "\r",
        "Computed frame 326 of 550"
       ]
      },
      {
       "output_type": "stream",
       "stream": "stdout",
       "text": [
        "\r",
        "Computed frame 327 of 550"
       ]
      },
      {
       "output_type": "stream",
       "stream": "stdout",
       "text": [
        "\r",
        "Computed frame 328 of 550"
       ]
      },
      {
       "output_type": "stream",
       "stream": "stdout",
       "text": [
        "\r",
        "Computed frame 329 of 550"
       ]
      },
      {
       "output_type": "stream",
       "stream": "stdout",
       "text": [
        "\r",
        "Computed frame 330 of 550"
       ]
      },
      {
       "output_type": "stream",
       "stream": "stdout",
       "text": [
        "\r",
        "Computed frame 331 of 550"
       ]
      },
      {
       "output_type": "stream",
       "stream": "stdout",
       "text": [
        "\r",
        "Computed frame 332 of 550"
       ]
      },
      {
       "output_type": "stream",
       "stream": "stdout",
       "text": [
        "\r",
        "Computed frame 333 of 550"
       ]
      },
      {
       "output_type": "stream",
       "stream": "stdout",
       "text": [
        "\r",
        "Computed frame 334 of 550"
       ]
      },
      {
       "output_type": "stream",
       "stream": "stdout",
       "text": [
        "\r",
        "Computed frame 335 of 550"
       ]
      },
      {
       "output_type": "stream",
       "stream": "stdout",
       "text": [
        "\r",
        "Computed frame 336 of 550"
       ]
      },
      {
       "output_type": "stream",
       "stream": "stdout",
       "text": [
        "\r",
        "Computed frame 337 of 550"
       ]
      },
      {
       "output_type": "stream",
       "stream": "stdout",
       "text": [
        "\r",
        "Computed frame 338 of 550"
       ]
      },
      {
       "output_type": "stream",
       "stream": "stdout",
       "text": [
        "\r",
        "Computed frame 339 of 550"
       ]
      },
      {
       "output_type": "stream",
       "stream": "stdout",
       "text": [
        "\r",
        "Computed frame 340 of 550"
       ]
      },
      {
       "output_type": "stream",
       "stream": "stdout",
       "text": [
        "\r",
        "Computed frame 341 of 550"
       ]
      },
      {
       "output_type": "stream",
       "stream": "stdout",
       "text": [
        "\r",
        "Computed frame 342 of 550"
       ]
      },
      {
       "output_type": "stream",
       "stream": "stdout",
       "text": [
        "\r",
        "Computed frame 343 of 550"
       ]
      },
      {
       "output_type": "stream",
       "stream": "stdout",
       "text": [
        "\r",
        "Computed frame 344 of 550"
       ]
      },
      {
       "output_type": "stream",
       "stream": "stdout",
       "text": [
        "\r",
        "Computed frame 345 of 550"
       ]
      },
      {
       "output_type": "stream",
       "stream": "stdout",
       "text": [
        "\r",
        "Computed frame 346 of 550"
       ]
      },
      {
       "output_type": "stream",
       "stream": "stdout",
       "text": [
        "\r",
        "Computed frame 347 of 550"
       ]
      },
      {
       "output_type": "stream",
       "stream": "stdout",
       "text": [
        "\r",
        "Computed frame 348 of 550"
       ]
      },
      {
       "output_type": "stream",
       "stream": "stdout",
       "text": [
        "\r",
        "Computed frame 349 of 550"
       ]
      },
      {
       "output_type": "stream",
       "stream": "stdout",
       "text": [
        "\r",
        "Computed frame 350 of 550"
       ]
      },
      {
       "output_type": "stream",
       "stream": "stdout",
       "text": [
        "\r",
        "Computed frame 351 of 550"
       ]
      },
      {
       "output_type": "stream",
       "stream": "stdout",
       "text": [
        "\r",
        "Computed frame 352 of 550"
       ]
      },
      {
       "output_type": "stream",
       "stream": "stdout",
       "text": [
        "\r",
        "Computed frame 353 of 550"
       ]
      },
      {
       "output_type": "stream",
       "stream": "stdout",
       "text": [
        "\r",
        "Computed frame 354 of 550"
       ]
      },
      {
       "output_type": "stream",
       "stream": "stdout",
       "text": [
        "\r",
        "Computed frame 355 of 550"
       ]
      },
      {
       "output_type": "stream",
       "stream": "stdout",
       "text": [
        "\r",
        "Computed frame 356 of 550"
       ]
      },
      {
       "output_type": "stream",
       "stream": "stdout",
       "text": [
        "\r",
        "Computed frame 357 of 550"
       ]
      },
      {
       "output_type": "stream",
       "stream": "stdout",
       "text": [
        "\r",
        "Computed frame 358 of 550"
       ]
      },
      {
       "output_type": "stream",
       "stream": "stdout",
       "text": [
        "\r",
        "Computed frame 359 of 550"
       ]
      },
      {
       "output_type": "stream",
       "stream": "stdout",
       "text": [
        "\r",
        "Computed frame 360 of 550"
       ]
      },
      {
       "output_type": "stream",
       "stream": "stdout",
       "text": [
        "\r",
        "Computed frame 361 of 550"
       ]
      },
      {
       "output_type": "stream",
       "stream": "stdout",
       "text": [
        "\r",
        "Computed frame 362 of 550"
       ]
      },
      {
       "output_type": "stream",
       "stream": "stdout",
       "text": [
        "\r",
        "Computed frame 363 of 550"
       ]
      },
      {
       "output_type": "stream",
       "stream": "stdout",
       "text": [
        "\r",
        "Computed frame 364 of 550"
       ]
      },
      {
       "output_type": "stream",
       "stream": "stdout",
       "text": [
        "\r",
        "Computed frame 365 of 550"
       ]
      },
      {
       "output_type": "stream",
       "stream": "stdout",
       "text": [
        "\r",
        "Computed frame 366 of 550"
       ]
      },
      {
       "output_type": "stream",
       "stream": "stdout",
       "text": [
        "\r",
        "Computed frame 367 of 550"
       ]
      },
      {
       "output_type": "stream",
       "stream": "stdout",
       "text": [
        "\r",
        "Computed frame 368 of 550"
       ]
      },
      {
       "output_type": "stream",
       "stream": "stdout",
       "text": [
        "\r",
        "Computed frame 369 of 550"
       ]
      },
      {
       "output_type": "stream",
       "stream": "stdout",
       "text": [
        "\r",
        "Computed frame 370 of 550"
       ]
      },
      {
       "output_type": "stream",
       "stream": "stdout",
       "text": [
        "\r",
        "Computed frame 371 of 550"
       ]
      },
      {
       "output_type": "stream",
       "stream": "stdout",
       "text": [
        "\r",
        "Computed frame 372 of 550"
       ]
      },
      {
       "output_type": "stream",
       "stream": "stdout",
       "text": [
        "\r",
        "Computed frame 373 of 550"
       ]
      },
      {
       "output_type": "stream",
       "stream": "stdout",
       "text": [
        "\r",
        "Computed frame 374 of 550"
       ]
      },
      {
       "output_type": "stream",
       "stream": "stdout",
       "text": [
        "\r",
        "Computed frame 375 of 550"
       ]
      },
      {
       "output_type": "stream",
       "stream": "stdout",
       "text": [
        "\r",
        "Computed frame 376 of 550"
       ]
      },
      {
       "output_type": "stream",
       "stream": "stdout",
       "text": [
        "\r",
        "Computed frame 377 of 550"
       ]
      },
      {
       "output_type": "stream",
       "stream": "stdout",
       "text": [
        "\r",
        "Computed frame 378 of 550"
       ]
      },
      {
       "output_type": "stream",
       "stream": "stdout",
       "text": [
        "\r",
        "Computed frame 379 of 550"
       ]
      },
      {
       "output_type": "stream",
       "stream": "stdout",
       "text": [
        "\r",
        "Computed frame 380 of 550"
       ]
      },
      {
       "output_type": "stream",
       "stream": "stdout",
       "text": [
        "\r",
        "Computed frame 381 of 550"
       ]
      },
      {
       "output_type": "stream",
       "stream": "stdout",
       "text": [
        "\r",
        "Computed frame 382 of 550"
       ]
      },
      {
       "output_type": "stream",
       "stream": "stdout",
       "text": [
        "\r",
        "Computed frame 383 of 550"
       ]
      },
      {
       "output_type": "stream",
       "stream": "stdout",
       "text": [
        "\r",
        "Computed frame 384 of 550"
       ]
      },
      {
       "output_type": "stream",
       "stream": "stdout",
       "text": [
        "\r",
        "Computed frame 385 of 550"
       ]
      },
      {
       "output_type": "stream",
       "stream": "stdout",
       "text": [
        "\r",
        "Computed frame 386 of 550"
       ]
      },
      {
       "output_type": "stream",
       "stream": "stdout",
       "text": [
        "\r",
        "Computed frame 387 of 550"
       ]
      },
      {
       "output_type": "stream",
       "stream": "stdout",
       "text": [
        "\r",
        "Computed frame 388 of 550"
       ]
      },
      {
       "output_type": "stream",
       "stream": "stdout",
       "text": [
        "\r",
        "Computed frame 389 of 550"
       ]
      },
      {
       "output_type": "stream",
       "stream": "stdout",
       "text": [
        "\r",
        "Computed frame 390 of 550"
       ]
      },
      {
       "output_type": "stream",
       "stream": "stdout",
       "text": [
        "\r",
        "Computed frame 391 of 550"
       ]
      },
      {
       "output_type": "stream",
       "stream": "stdout",
       "text": [
        "\r",
        "Computed frame 392 of 550"
       ]
      },
      {
       "output_type": "stream",
       "stream": "stdout",
       "text": [
        "\r",
        "Computed frame 393 of 550"
       ]
      },
      {
       "output_type": "stream",
       "stream": "stdout",
       "text": [
        "\r",
        "Computed frame 394 of 550"
       ]
      },
      {
       "output_type": "stream",
       "stream": "stdout",
       "text": [
        "\r",
        "Computed frame 395 of 550"
       ]
      },
      {
       "output_type": "stream",
       "stream": "stdout",
       "text": [
        "\r",
        "Computed frame 396 of 550"
       ]
      },
      {
       "output_type": "stream",
       "stream": "stdout",
       "text": [
        "\r",
        "Computed frame 397 of 550"
       ]
      },
      {
       "output_type": "stream",
       "stream": "stdout",
       "text": [
        "\r",
        "Computed frame 398 of 550"
       ]
      },
      {
       "output_type": "stream",
       "stream": "stdout",
       "text": [
        "\r",
        "Computed frame 399 of 550"
       ]
      },
      {
       "output_type": "stream",
       "stream": "stdout",
       "text": [
        "\r",
        "Computed frame 400 of 550"
       ]
      },
      {
       "output_type": "stream",
       "stream": "stdout",
       "text": [
        "\r",
        "Computed frame 401 of 550"
       ]
      },
      {
       "output_type": "stream",
       "stream": "stdout",
       "text": [
        "\r",
        "Computed frame 402 of 550"
       ]
      },
      {
       "output_type": "stream",
       "stream": "stdout",
       "text": [
        "\r",
        "Computed frame 403 of 550"
       ]
      },
      {
       "output_type": "stream",
       "stream": "stdout",
       "text": [
        "\r",
        "Computed frame 404 of 550"
       ]
      },
      {
       "output_type": "stream",
       "stream": "stdout",
       "text": [
        "\r",
        "Computed frame 405 of 550"
       ]
      },
      {
       "output_type": "stream",
       "stream": "stdout",
       "text": [
        "\r",
        "Computed frame 406 of 550"
       ]
      },
      {
       "output_type": "stream",
       "stream": "stdout",
       "text": [
        "\r",
        "Computed frame 407 of 550"
       ]
      },
      {
       "output_type": "stream",
       "stream": "stdout",
       "text": [
        "\r",
        "Computed frame 408 of 550"
       ]
      },
      {
       "output_type": "stream",
       "stream": "stdout",
       "text": [
        "\r",
        "Computed frame 409 of 550"
       ]
      },
      {
       "output_type": "stream",
       "stream": "stdout",
       "text": [
        "\r",
        "Computed frame 410 of 550"
       ]
      },
      {
       "output_type": "stream",
       "stream": "stdout",
       "text": [
        "\r",
        "Computed frame 411 of 550"
       ]
      },
      {
       "output_type": "stream",
       "stream": "stdout",
       "text": [
        "\r",
        "Computed frame 412 of 550"
       ]
      },
      {
       "output_type": "stream",
       "stream": "stdout",
       "text": [
        "\r",
        "Computed frame 413 of 550"
       ]
      },
      {
       "output_type": "stream",
       "stream": "stdout",
       "text": [
        "\r",
        "Computed frame 414 of 550"
       ]
      },
      {
       "output_type": "stream",
       "stream": "stdout",
       "text": [
        "\r",
        "Computed frame 415 of 550"
       ]
      },
      {
       "output_type": "stream",
       "stream": "stdout",
       "text": [
        "\r",
        "Computed frame 416 of 550"
       ]
      },
      {
       "output_type": "stream",
       "stream": "stdout",
       "text": [
        "\r",
        "Computed frame 417 of 550"
       ]
      },
      {
       "output_type": "stream",
       "stream": "stdout",
       "text": [
        "\r",
        "Computed frame 418 of 550"
       ]
      },
      {
       "output_type": "stream",
       "stream": "stdout",
       "text": [
        "\r",
        "Computed frame 419 of 550"
       ]
      },
      {
       "output_type": "stream",
       "stream": "stdout",
       "text": [
        "\r",
        "Computed frame 420 of 550"
       ]
      },
      {
       "output_type": "stream",
       "stream": "stdout",
       "text": [
        "\r",
        "Computed frame 421 of 550"
       ]
      },
      {
       "output_type": "stream",
       "stream": "stdout",
       "text": [
        "\r",
        "Computed frame 422 of 550"
       ]
      },
      {
       "output_type": "stream",
       "stream": "stdout",
       "text": [
        "\r",
        "Computed frame 423 of 550"
       ]
      },
      {
       "output_type": "stream",
       "stream": "stdout",
       "text": [
        "\r",
        "Computed frame 424 of 550"
       ]
      },
      {
       "output_type": "stream",
       "stream": "stdout",
       "text": [
        "\r",
        "Computed frame 425 of 550"
       ]
      },
      {
       "output_type": "stream",
       "stream": "stdout",
       "text": [
        "\r",
        "Computed frame 426 of 550"
       ]
      },
      {
       "output_type": "stream",
       "stream": "stdout",
       "text": [
        "\r",
        "Computed frame 427 of 550"
       ]
      },
      {
       "output_type": "stream",
       "stream": "stdout",
       "text": [
        "\r",
        "Computed frame 428 of 550"
       ]
      },
      {
       "output_type": "stream",
       "stream": "stdout",
       "text": [
        "\r",
        "Computed frame 429 of 550"
       ]
      },
      {
       "output_type": "stream",
       "stream": "stdout",
       "text": [
        "\r",
        "Computed frame 430 of 550"
       ]
      },
      {
       "output_type": "stream",
       "stream": "stdout",
       "text": [
        "\r",
        "Computed frame 431 of 550"
       ]
      },
      {
       "output_type": "stream",
       "stream": "stdout",
       "text": [
        "\r",
        "Computed frame 432 of 550"
       ]
      },
      {
       "output_type": "stream",
       "stream": "stdout",
       "text": [
        "\r",
        "Computed frame 433 of 550"
       ]
      },
      {
       "output_type": "stream",
       "stream": "stdout",
       "text": [
        "\r",
        "Computed frame 434 of 550"
       ]
      },
      {
       "output_type": "stream",
       "stream": "stdout",
       "text": [
        "\r",
        "Computed frame 435 of 550"
       ]
      },
      {
       "output_type": "stream",
       "stream": "stdout",
       "text": [
        "\r",
        "Computed frame 436 of 550"
       ]
      },
      {
       "output_type": "stream",
       "stream": "stdout",
       "text": [
        "\r",
        "Computed frame 437 of 550"
       ]
      },
      {
       "output_type": "stream",
       "stream": "stdout",
       "text": [
        "\r",
        "Computed frame 438 of 550"
       ]
      },
      {
       "output_type": "stream",
       "stream": "stdout",
       "text": [
        "\r",
        "Computed frame 439 of 550"
       ]
      },
      {
       "output_type": "stream",
       "stream": "stdout",
       "text": [
        "\r",
        "Computed frame 440 of 550"
       ]
      },
      {
       "output_type": "stream",
       "stream": "stdout",
       "text": [
        "\r",
        "Computed frame 441 of 550"
       ]
      },
      {
       "output_type": "stream",
       "stream": "stdout",
       "text": [
        "\r",
        "Computed frame 442 of 550"
       ]
      },
      {
       "output_type": "stream",
       "stream": "stdout",
       "text": [
        "\r",
        "Computed frame 443 of 550"
       ]
      },
      {
       "output_type": "stream",
       "stream": "stdout",
       "text": [
        "\r",
        "Computed frame 444 of 550"
       ]
      },
      {
       "output_type": "stream",
       "stream": "stdout",
       "text": [
        "\r",
        "Computed frame 445 of 550"
       ]
      },
      {
       "output_type": "stream",
       "stream": "stdout",
       "text": [
        "\r",
        "Computed frame 446 of 550"
       ]
      },
      {
       "output_type": "stream",
       "stream": "stdout",
       "text": [
        "\r",
        "Computed frame 447 of 550"
       ]
      },
      {
       "output_type": "stream",
       "stream": "stdout",
       "text": [
        "\r",
        "Computed frame 448 of 550"
       ]
      },
      {
       "output_type": "stream",
       "stream": "stdout",
       "text": [
        "\r",
        "Computed frame 449 of 550"
       ]
      },
      {
       "output_type": "stream",
       "stream": "stdout",
       "text": [
        "\r",
        "Computed frame 450 of 550"
       ]
      },
      {
       "output_type": "stream",
       "stream": "stdout",
       "text": [
        "\r",
        "Computed frame 451 of 550"
       ]
      },
      {
       "output_type": "stream",
       "stream": "stdout",
       "text": [
        "\r",
        "Computed frame 452 of 550"
       ]
      },
      {
       "output_type": "stream",
       "stream": "stdout",
       "text": [
        "\r",
        "Computed frame 453 of 550"
       ]
      },
      {
       "output_type": "stream",
       "stream": "stdout",
       "text": [
        "\r",
        "Computed frame 454 of 550"
       ]
      },
      {
       "output_type": "stream",
       "stream": "stdout",
       "text": [
        "\r",
        "Computed frame 455 of 550"
       ]
      },
      {
       "output_type": "stream",
       "stream": "stdout",
       "text": [
        "\r",
        "Computed frame 456 of 550"
       ]
      },
      {
       "output_type": "stream",
       "stream": "stdout",
       "text": [
        "\r",
        "Computed frame 457 of 550"
       ]
      },
      {
       "output_type": "stream",
       "stream": "stdout",
       "text": [
        "\r",
        "Computed frame 458 of 550"
       ]
      },
      {
       "output_type": "stream",
       "stream": "stdout",
       "text": [
        "\r",
        "Computed frame 459 of 550"
       ]
      },
      {
       "output_type": "stream",
       "stream": "stdout",
       "text": [
        "\r",
        "Computed frame 460 of 550"
       ]
      },
      {
       "output_type": "stream",
       "stream": "stdout",
       "text": [
        "\r",
        "Computed frame 461 of 550"
       ]
      },
      {
       "output_type": "stream",
       "stream": "stdout",
       "text": [
        "\r",
        "Computed frame 462 of 550"
       ]
      },
      {
       "output_type": "stream",
       "stream": "stdout",
       "text": [
        "\r",
        "Computed frame 463 of 550"
       ]
      },
      {
       "output_type": "stream",
       "stream": "stdout",
       "text": [
        "\r",
        "Computed frame 464 of 550"
       ]
      },
      {
       "output_type": "stream",
       "stream": "stdout",
       "text": [
        "\r",
        "Computed frame 465 of 550"
       ]
      },
      {
       "output_type": "stream",
       "stream": "stdout",
       "text": [
        "\r",
        "Computed frame 466 of 550"
       ]
      },
      {
       "output_type": "stream",
       "stream": "stdout",
       "text": [
        "\r",
        "Computed frame 467 of 550"
       ]
      },
      {
       "output_type": "stream",
       "stream": "stdout",
       "text": [
        "\r",
        "Computed frame 468 of 550"
       ]
      },
      {
       "output_type": "stream",
       "stream": "stdout",
       "text": [
        "\r",
        "Computed frame 469 of 550"
       ]
      },
      {
       "output_type": "stream",
       "stream": "stdout",
       "text": [
        "\r",
        "Computed frame 470 of 550"
       ]
      },
      {
       "output_type": "stream",
       "stream": "stdout",
       "text": [
        "\r",
        "Computed frame 471 of 550"
       ]
      },
      {
       "output_type": "stream",
       "stream": "stdout",
       "text": [
        "\r",
        "Computed frame 472 of 550"
       ]
      },
      {
       "output_type": "stream",
       "stream": "stdout",
       "text": [
        "\r",
        "Computed frame 473 of 550"
       ]
      },
      {
       "output_type": "stream",
       "stream": "stdout",
       "text": [
        "\r",
        "Computed frame 474 of 550"
       ]
      },
      {
       "output_type": "stream",
       "stream": "stdout",
       "text": [
        "\r",
        "Computed frame 475 of 550"
       ]
      },
      {
       "output_type": "stream",
       "stream": "stdout",
       "text": [
        "\r",
        "Computed frame 476 of 550"
       ]
      },
      {
       "output_type": "stream",
       "stream": "stdout",
       "text": [
        "\r",
        "Computed frame 477 of 550"
       ]
      },
      {
       "output_type": "stream",
       "stream": "stdout",
       "text": [
        "\r",
        "Computed frame 478 of 550"
       ]
      },
      {
       "output_type": "stream",
       "stream": "stdout",
       "text": [
        "\r",
        "Computed frame 479 of 550"
       ]
      },
      {
       "output_type": "stream",
       "stream": "stdout",
       "text": [
        "\r",
        "Computed frame 480 of 550"
       ]
      },
      {
       "output_type": "stream",
       "stream": "stdout",
       "text": [
        "\r",
        "Computed frame 481 of 550"
       ]
      },
      {
       "output_type": "stream",
       "stream": "stdout",
       "text": [
        "\r",
        "Computed frame 482 of 550"
       ]
      },
      {
       "output_type": "stream",
       "stream": "stdout",
       "text": [
        "\r",
        "Computed frame 483 of 550"
       ]
      },
      {
       "output_type": "stream",
       "stream": "stdout",
       "text": [
        "\r",
        "Computed frame 484 of 550"
       ]
      },
      {
       "output_type": "stream",
       "stream": "stdout",
       "text": [
        "\r",
        "Computed frame 485 of 550"
       ]
      },
      {
       "output_type": "stream",
       "stream": "stdout",
       "text": [
        "\r",
        "Computed frame 486 of 550"
       ]
      },
      {
       "output_type": "stream",
       "stream": "stdout",
       "text": [
        "\r",
        "Computed frame 487 of 550"
       ]
      },
      {
       "output_type": "stream",
       "stream": "stdout",
       "text": [
        "\r",
        "Computed frame 488 of 550"
       ]
      },
      {
       "output_type": "stream",
       "stream": "stdout",
       "text": [
        "\r",
        "Computed frame 489 of 550"
       ]
      },
      {
       "output_type": "stream",
       "stream": "stdout",
       "text": [
        "\r",
        "Computed frame 490 of 550"
       ]
      },
      {
       "output_type": "stream",
       "stream": "stdout",
       "text": [
        "\r",
        "Computed frame 491 of 550"
       ]
      },
      {
       "output_type": "stream",
       "stream": "stdout",
       "text": [
        "\r",
        "Computed frame 492 of 550"
       ]
      },
      {
       "output_type": "stream",
       "stream": "stdout",
       "text": [
        "\r",
        "Computed frame 493 of 550"
       ]
      },
      {
       "output_type": "stream",
       "stream": "stdout",
       "text": [
        "\r",
        "Computed frame 494 of 550"
       ]
      },
      {
       "output_type": "stream",
       "stream": "stdout",
       "text": [
        "\r",
        "Computed frame 495 of 550"
       ]
      },
      {
       "output_type": "stream",
       "stream": "stdout",
       "text": [
        "\r",
        "Computed frame 496 of 550"
       ]
      },
      {
       "output_type": "stream",
       "stream": "stdout",
       "text": [
        "\r",
        "Computed frame 497 of 550"
       ]
      },
      {
       "output_type": "stream",
       "stream": "stdout",
       "text": [
        "\r",
        "Computed frame 498 of 550"
       ]
      },
      {
       "output_type": "stream",
       "stream": "stdout",
       "text": [
        "\r",
        "Computed frame 499 of 550"
       ]
      },
      {
       "output_type": "stream",
       "stream": "stdout",
       "text": [
        "\r",
        "Computed frame 500 of 550"
       ]
      },
      {
       "output_type": "stream",
       "stream": "stdout",
       "text": [
        "\r",
        "Computed frame 501 of 550"
       ]
      },
      {
       "output_type": "stream",
       "stream": "stdout",
       "text": [
        "\r",
        "Computed frame 502 of 550"
       ]
      },
      {
       "output_type": "stream",
       "stream": "stdout",
       "text": [
        "\r",
        "Computed frame 503 of 550"
       ]
      },
      {
       "output_type": "stream",
       "stream": "stdout",
       "text": [
        "\r",
        "Computed frame 504 of 550"
       ]
      },
      {
       "output_type": "stream",
       "stream": "stdout",
       "text": [
        "\r",
        "Computed frame 505 of 550"
       ]
      },
      {
       "output_type": "stream",
       "stream": "stdout",
       "text": [
        "\r",
        "Computed frame 506 of 550"
       ]
      },
      {
       "output_type": "stream",
       "stream": "stdout",
       "text": [
        "\r",
        "Computed frame 507 of 550"
       ]
      },
      {
       "output_type": "stream",
       "stream": "stdout",
       "text": [
        "\r",
        "Computed frame 508 of 550"
       ]
      },
      {
       "output_type": "stream",
       "stream": "stdout",
       "text": [
        "\r",
        "Computed frame 509 of 550"
       ]
      },
      {
       "output_type": "stream",
       "stream": "stdout",
       "text": [
        "\r",
        "Computed frame 510 of 550"
       ]
      },
      {
       "output_type": "stream",
       "stream": "stdout",
       "text": [
        "\r",
        "Computed frame 511 of 550"
       ]
      },
      {
       "output_type": "stream",
       "stream": "stdout",
       "text": [
        "\r",
        "Computed frame 512 of 550"
       ]
      },
      {
       "output_type": "stream",
       "stream": "stdout",
       "text": [
        "\r",
        "Computed frame 513 of 550"
       ]
      },
      {
       "output_type": "stream",
       "stream": "stdout",
       "text": [
        "\r",
        "Computed frame 514 of 550"
       ]
      },
      {
       "output_type": "stream",
       "stream": "stdout",
       "text": [
        "\r",
        "Computed frame 515 of 550"
       ]
      },
      {
       "output_type": "stream",
       "stream": "stdout",
       "text": [
        "\r",
        "Computed frame 516 of 550"
       ]
      },
      {
       "output_type": "stream",
       "stream": "stdout",
       "text": [
        "\r",
        "Computed frame 517 of 550"
       ]
      },
      {
       "output_type": "stream",
       "stream": "stdout",
       "text": [
        "\r",
        "Computed frame 518 of 550"
       ]
      },
      {
       "output_type": "stream",
       "stream": "stdout",
       "text": [
        "\r",
        "Computed frame 519 of 550"
       ]
      },
      {
       "output_type": "stream",
       "stream": "stdout",
       "text": [
        "\r",
        "Computed frame 520 of 550"
       ]
      },
      {
       "output_type": "stream",
       "stream": "stdout",
       "text": [
        "\r",
        "Computed frame 521 of 550"
       ]
      },
      {
       "output_type": "stream",
       "stream": "stdout",
       "text": [
        "\r",
        "Computed frame 522 of 550"
       ]
      },
      {
       "output_type": "stream",
       "stream": "stdout",
       "text": [
        "\r",
        "Computed frame 523 of 550"
       ]
      },
      {
       "output_type": "stream",
       "stream": "stdout",
       "text": [
        "\r",
        "Computed frame 524 of 550"
       ]
      },
      {
       "output_type": "stream",
       "stream": "stdout",
       "text": [
        "\r",
        "Computed frame 525 of 550"
       ]
      },
      {
       "output_type": "stream",
       "stream": "stdout",
       "text": [
        "\r",
        "Computed frame 526 of 550"
       ]
      },
      {
       "output_type": "stream",
       "stream": "stdout",
       "text": [
        "\r",
        "Computed frame 527 of 550"
       ]
      },
      {
       "output_type": "stream",
       "stream": "stdout",
       "text": [
        "\r",
        "Computed frame 528 of 550"
       ]
      },
      {
       "output_type": "stream",
       "stream": "stdout",
       "text": [
        "\r",
        "Computed frame 529 of 550"
       ]
      },
      {
       "output_type": "stream",
       "stream": "stdout",
       "text": [
        "\r",
        "Computed frame 530 of 550"
       ]
      },
      {
       "output_type": "stream",
       "stream": "stdout",
       "text": [
        "\r",
        "Computed frame 531 of 550"
       ]
      },
      {
       "output_type": "stream",
       "stream": "stdout",
       "text": [
        "\r",
        "Computed frame 532 of 550"
       ]
      },
      {
       "output_type": "stream",
       "stream": "stdout",
       "text": [
        "\r",
        "Computed frame 533 of 550"
       ]
      },
      {
       "output_type": "stream",
       "stream": "stdout",
       "text": [
        "\r",
        "Computed frame 534 of 550"
       ]
      },
      {
       "output_type": "stream",
       "stream": "stdout",
       "text": [
        "\r",
        "Computed frame 535 of 550"
       ]
      },
      {
       "output_type": "stream",
       "stream": "stdout",
       "text": [
        "\r",
        "Computed frame 536 of 550"
       ]
      },
      {
       "output_type": "stream",
       "stream": "stdout",
       "text": [
        "\r",
        "Computed frame 537 of 550"
       ]
      },
      {
       "output_type": "stream",
       "stream": "stdout",
       "text": [
        "\r",
        "Computed frame 538 of 550"
       ]
      },
      {
       "output_type": "stream",
       "stream": "stdout",
       "text": [
        "\r",
        "Computed frame 539 of 550"
       ]
      },
      {
       "output_type": "stream",
       "stream": "stdout",
       "text": [
        "\r",
        "Computed frame 540 of 550"
       ]
      },
      {
       "output_type": "stream",
       "stream": "stdout",
       "text": [
        "\r",
        "Computed frame 541 of 550"
       ]
      },
      {
       "output_type": "stream",
       "stream": "stdout",
       "text": [
        "\r",
        "Computed frame 542 of 550"
       ]
      },
      {
       "output_type": "stream",
       "stream": "stdout",
       "text": [
        "\r",
        "Computed frame 543 of 550"
       ]
      },
      {
       "output_type": "stream",
       "stream": "stdout",
       "text": [
        "\r",
        "Computed frame 544 of 550"
       ]
      },
      {
       "output_type": "stream",
       "stream": "stdout",
       "text": [
        "\r",
        "Computed frame 545 of 550"
       ]
      },
      {
       "output_type": "stream",
       "stream": "stdout",
       "text": [
        "\r",
        "Computed frame 546 of 550"
       ]
      },
      {
       "output_type": "stream",
       "stream": "stdout",
       "text": [
        "\r",
        "Computed frame 547 of 550"
       ]
      },
      {
       "output_type": "stream",
       "stream": "stdout",
       "text": [
        "\r",
        "Computed frame 548 of 550"
       ]
      },
      {
       "output_type": "stream",
       "stream": "stdout",
       "text": [
        "\r",
        "Computed frame 549 of 550"
       ]
      }
     ],
     "prompt_number": 310
    },
    {
     "cell_type": "code",
     "collapsed": false,
     "input": [
      "figure(); plot(np.min(spritesCompatibility, axis=1))"
     ],
     "language": "python",
     "metadata": {},
     "outputs": [
      {
       "metadata": {},
       "output_type": "pyout",
       "prompt_number": 313,
       "text": [
        "[<matplotlib.lines.Line2D at 0x7f8024f5d0d0>]"
       ]
      }
     ],
     "prompt_number": 313
    },
    {
     "cell_type": "code",
     "collapsed": false,
     "input": [
      "gwv.showCustomGraph(spritesCompatibility)"
     ],
     "language": "python",
     "metadata": {},
     "outputs": [],
     "prompt_number": 311
    },
    {
     "cell_type": "code",
     "collapsed": false,
     "input": [
      "tmp = np.clip(spriteDistMats[0], 0.1, 0.3)#*(spriteDistMats[0] <= 1.0)\n",
      "gwv.showCustomGraph(tmp)\n",
      "# probs, cumProbs = vtu.getProbabilities(spriteDistMats[0][1:, 0:-1], 0.01, None, True)\n",
      "probs, cumProbs = vtu.getProbabilities(tmp[1:, 0:-1], 0.001, None, False)\n",
      "gwv.showCustomGraph(probs)\n",
      "gwv.showCustomGraph(cumProbs)"
     ],
     "language": "python",
     "metadata": {},
     "outputs": [
      {
       "output_type": "stream",
       "stream": "stdout",
       "text": [
        "sigma 0.000299287476548\n",
        "(541, 541) (541, 541)\n"
       ]
      }
     ],
     "prompt_number": 190
    },
    {
     "cell_type": "code",
     "collapsed": false,
     "input": [
      "spriteIndex = 0\n",
      "gwv.showCustomGraph(allPairwise[spriteIndex])\n",
      "gwv.showCustomGraph(spriteDistMats[spriteIndex])\n",
      "\n",
      "pairwiseWithDist = np.ones_like(allPairwise[spriteIndex])* 5\n",
      "jumpCosts = spriteDistMats[spriteIndex][1:, :-1]**2\n",
      "viableJumps = np.argwhere(jumpCosts < 0.2)\n",
      "viableJumps = viableJumps[np.ndarray.flatten(np.argwhere(jumpCosts[viableJumps[:, 0], viableJumps[:, 1]] > 0.1))]\n",
      "## add 1 to indices because of the 0th frame, and then 5, 4 from the filtering and 1 from going from distances to costs\n",
      "pairwiseWithDist[viableJumps[:, 0]+1, viableJumps[:, 1]+1] = jumpCosts[viableJumps[:, 0], viableJumps[:, 1]]\n",
      "gwv.showCustomGraph(pairwiseWithDist)"
     ],
     "language": "python",
     "metadata": {},
     "outputs": [],
     "prompt_number": 205
    },
    {
     "cell_type": "code",
     "collapsed": false,
     "input": [
      "print viableJumps.shape"
     ],
     "language": "python",
     "metadata": {},
     "outputs": [
      {
       "output_type": "stream",
       "stream": "stdout",
       "text": [
        "(1696, 1, 2)\n"
       ]
      }
     ],
     "prompt_number": 200
    },
    {
     "cell_type": "code",
     "collapsed": false,
     "input": [
      "# np.all((jumpCosts < 2.0, jumpCosts > 0.1), axis=0)\n",
      "print np.argwhere(jumpCosts[viableJumps[:, 0], viableJumps[:, 1]] > 0.5)"
     ],
     "language": "python",
     "metadata": {},
     "outputs": [
      {
       "output_type": "stream",
       "stream": "stdout",
       "text": [
        "[[  82]\n",
        " [  83]\n",
        " [  85]\n",
        " ..., \n",
        " [4309]\n",
        " [4311]\n",
        " [4312]]\n"
       ]
      }
     ],
     "prompt_number": 197
    },
    {
     "cell_type": "code",
     "collapsed": false,
     "input": [
      "minCostTraversal, minCost = solveSparseDynProgMRF(allUnaries[spriteIndex].T, pairwiseWithDist.T, allNodesConnectedToLabel[spriteIndex])\n",
      "print minCostTraversal"
     ],
     "language": "python",
     "metadata": {},
     "outputs": [
      {
       "output_type": "stream",
       "stream": "stdout",
       "text": [
        "[200 201 202 203 204 205 206 207 208 209 210 211 212 213 214 215 216 217\n",
        " 218 219 220 221 222 223 224 225 226 227 228 229 230 231 232 233 234 235\n",
        " 236 237 238 239 240 241 242 243 244 245 246 247 248 249 250 251 252 253\n",
        " 254 255 256 257 258 259 260 261 262 263 264 265 266 267 268 269 270 271\n",
        " 272 273 274 275 276 277 278 279 280 281 282 283 284 285 286 287 288 289\n",
        " 290 291 292 293 294 295 296 297 298 299]\n"
       ]
      }
     ],
     "prompt_number": 148
    },
    {
     "cell_type": "code",
     "collapsed": false,
     "input": [
      "gwv.showCustomGraph(tmp.reshape(spriteDistMats[spriteIndex].shape))"
     ],
     "language": "python",
     "metadata": {},
     "outputs": [],
     "prompt_number": 131
    },
    {
     "cell_type": "code",
     "collapsed": false,
     "input": [
      "np.argwhere(tmp.reshape(spriteDistMats[spriteIndex].shape) < 0)"
     ],
     "language": "python",
     "metadata": {},
     "outputs": [
      {
       "metadata": {},
       "output_type": "pyout",
       "prompt_number": 133,
       "text": [
        "array([[  0,   0],\n",
        "       [  1,   1],\n",
        "       [  2,   2],\n",
        "       ..., \n",
        "       [539, 539],\n",
        "       [540, 540],\n",
        "       [541, 541]])"
       ]
      }
     ],
     "prompt_number": 133
    },
    {
     "cell_type": "heading",
     "level": 2,
     "metadata": {},
     "source": [
      "From here on there's stuff using the hardcoded compatibility measure and assumes the sprite loops till the end of its sequence without jumping around in the timeline"
     ]
    },
    {
     "cell_type": "code",
     "collapsed": false,
     "input": [
      "## load tracked sprites\n",
      "trackedSprites = []\n",
      "for sprite in np.sort(glob.glob(dataPath + dataSet + \"sprite*.npy\")) :\n",
      "    trackedSprites.append(np.load(sprite).item())\n",
      "## load generated sequence\n",
      "generatedSequence = list(np.load(dataPath + dataSet + \"generatedSequence-2015-05-02_19:41:52.npy\"))"
     ],
     "language": "python",
     "metadata": {},
     "outputs": [],
     "prompt_number": 67
    },
    {
     "cell_type": "code",
     "collapsed": false,
     "input": [
      "## try to learn from a labelled incompatibility and use it to not repeat the error\n",
      "## I know there's an incompatibility between two instances of red_car1 at frame 431 of the generated sequence loaded above\n",
      "labelledSequenceFrame = 413\n",
      "## here find which sprites were labelled eventually when I have a scribble but for now I just need to find the 2 sprites that I\n",
      "## saw were incompatible\n",
      "for seq in generatedSequence :\n",
      "    print seq[DICT_SPRITE_NAME], seq[DICT_SEQUENCE_FRAMES][labelledSequenceFrame]\n",
      "    ## here eventually check if scribble touches the current sprite by for instance checking whether scribble intersects the\n",
      "    ## sprite's bbox at frame seq[DICT_SEQUENCE_FRAMES][labelledSequenceFrame]\n",
      "\n",
      "## for now I know the two red_car1 sprites that collide at frame 413 are number 2 and 6 in the generatedSequence\n",
      "incompatibleSpriteTracks = np.array([2, 6])\n",
      "spriteIndices = [] ## index of given sprite in trackedSprites\n",
      "spriteSemanticLabels = []\n",
      "print\n",
      "print \"incompatible sprites\", incompatibleSpriteTracks, \":\",\n",
      "for i in xrange(len(incompatibleSpriteTracks)) :\n",
      "    print generatedSequence[incompatibleSpriteTracks[i]][DICT_SPRITE_NAME] + \"(\", \n",
      "    print np.string_(int(generatedSequence[incompatibleSpriteTracks[i]][DICT_SEQUENCE_FRAMES][labelledSequenceFrame])) + \")\",\n",
      "    \n",
      "    spriteIndices.append(generatedSequence[incompatibleSpriteTracks[i]][DICT_SPRITE_IDX])\n",
      "    \n",
      "    ## compute semantic labels for each sprite which for the reshuffling case are binary \n",
      "    ## i.e. each frame has label 1 (i.e. sprite visible) and extra frame at beginning has label 0\n",
      "    semanticLabels = np.zeros((len(trackedSprites[spriteIndices[i]][DICT_BBOX_CENTERS])+1, 2))\n",
      "    ## label 0 means sprite not visible (i.e. only show the first empty frame)\n",
      "    semanticLabels[0, 0] = 1.0\n",
      "    semanticLabels[1:, 1] = 1.0\n",
      "    \n",
      "    spriteSemanticLabels.append(semanticLabels)\n",
      "print\n",
      "\n",
      "\n",
      "## given that I know what sprites are incompatible and in what configuration, how do I go about getting a compatibility measure for all configurations?\n",
      "## and is there a way to get a compatibility measure for all the sprites combinations and all their configurations from it?\n",
      "\n",
      "## for now just use sprite center distance to characterise a certain configuration and later on use other cues like bbox overlap and RGB L2 distance\n",
      "## compute bbox center distance between the given configuration of incompatible sprites\n",
      "if len(incompatibleSpriteTracks) == 2 :\n",
      "    ## subtracting 1 here because in generatedSequence there is an extra frame for each frame denoting the sprite being invisible\n",
      "    spriteFrame = np.zeros(2, dtype=int)\n",
      "    spriteFrame[0] = generatedSequence[incompatibleSpriteTracks[0]][DICT_SEQUENCE_FRAMES][labelledSequenceFrame]-1\n",
      "    spriteFrame[1] = generatedSequence[incompatibleSpriteTracks[1]][DICT_SEQUENCE_FRAMES][labelledSequenceFrame]-1\n",
      "    \n",
      "    shift = np.abs(spriteFrame[0]-spriteFrame[1])\n",
      "    whosFirst = int(np.argmax(spriteFrame))\n",
      "    print whosFirst\n",
      "    \n",
      "    totalDistance, distances, frameRanges = getShiftedSpriteTrackDist(trackedSprites[spriteIndices[whosFirst]], \n",
      "                                                                      trackedSprites[spriteIndices[whosFirst-1]], shift)\n",
      "    print totalDistance\n",
      "    \n",
      "    possibleShifts = np.arange(-len(trackedSprites[spriteIndices[0]][DICT_BBOX_CENTERS])+1, \n",
      "                               len(trackedSprites[spriteIndices[1]][DICT_BBOX_CENTERS]), dtype=int)\n",
      "#     allDistances = np.zeros(len(possibleShifts))\n",
      "#     for shift, i in zip(possibleShifts, xrange(len(allDistances))) :\n",
      "#         if shift < 0 :\n",
      "#             totalDistance, distances, frameRanges = getShiftedSpriteTrackDist(trackedSprites[spriteIndices[0]], \n",
      "#                                                                               trackedSprites[spriteIndices[1]], -shift)\n",
      "#         else :\n",
      "#             totalDistance, distances, frameRanges = getShiftedSpriteTrackDist(trackedSprites[spriteIndices[1]], \n",
      "#                                                                               trackedSprites[spriteIndices[0]], shift)\n",
      "            \n",
      "#         allDistances[i] = totalDistance\n",
      "        \n",
      "#         sys.stdout.write('\\r' + \"Done \" + np.string_(i) + \" shifts of \" + np.string_(len(allDistances)))\n",
      "#         sys.stdout.flush()"
     ],
     "language": "python",
     "metadata": {},
     "outputs": [
      {
       "output_type": "stream",
       "stream": "stdout",
       "text": [
        "red_car1 413\n",
        "white_bus1 278.0\n",
        "red_car1 72.0\n",
        "red_car1 0.0\n",
        "red_car1 0.0\n",
        "white_bus1 0.0\n",
        "red_car1 111.0\n",
        "white_bus1 412.0\n",
        "\n",
        "incompatible sprites [2 6] : red_car1( 72) red_car1( 111)\n",
        "1\n",
        "0.0\n"
       ]
      }
     ],
     "prompt_number": 69
    },
    {
     "cell_type": "code",
     "collapsed": false,
     "input": [
      "sequenceLength = 101\n",
      "toggleDelay = 8\n",
      "## simulating situation where I'm inserting sprite 6 into the loaded generatedSequence at startFrame\n",
      "## this makes sure that I get the labelled incompatible situation (i.e. sprite 2 is at frame 72 and sprite 6 at 111) if I don't do anything about compatibility\n",
      "startFrame = 413#-111-toggleDelay/2\n",
      "\n",
      "## semantics for sprite 6\n",
      "spriteDesiredSemantics = np.array([1.0, 0.0]).reshape((1, 2))\n",
      "spriteDesiredSemantics = np.concatenate((spriteDesiredSemantics, toggleLabelsSmoothly(np.array([1.0, 0.0]).reshape((1, 2)), toggleDelay)))\n",
      "spriteDesiredSemantics = np.concatenate((spriteDesiredSemantics, np.roll(np.array([1.0, 0.0]).reshape((1, 2)), 1).repeat(sequenceLength-toggleDelay-1, axis=0)))\n",
      "\n",
      "## also need to simulate a situation where the semantics for a sprite are toggled before a certain sprite has been toggled but is already part of the \n",
      "## sequence which is really the situation I'm in in the loaded generated sequence (i.e. I added sprite 2 at time t and then added sprite 6 at a later\n",
      "## time but before sprite 2 in the sequence time line so, chronologically, sprite 6 is added later but is incompatible with a sprite the will be shown\n",
      "## later in the sequence) but I guess when I add a new sprite, I need to check if it's compatible with all the sprites in the sequence although I'm not sure\n",
      "## how that would work\n",
      "\n",
      "\n",
      "conflictingSpriteTotalLength = len(trackedSprites[spriteIndices[1]][DICT_BBOX_CENTERS])\n",
      "print conflictingSpriteTotalLength\n",
      "\n",
      "conflictingSpriteSemanticLabels = np.zeros((conflictingSpriteTotalLength+1, 2))\n",
      "## label 0 means sprite not visible (i.e. only show the first empty frame)\n",
      "conflictingSpriteSemanticLabels[0, 0] = 1.0\n",
      "conflictingSpriteSemanticLabels[1:, 1] = 1.0\n",
      "\n",
      "## now optimize the sprite I'm changing the semantic label of (i.e. I want to show now)\n",
      "## optimize without caring about compatibility\n",
      "tic = time.time()\n",
      "unaries, pairwise = getMRFCosts(conflictingSpriteSemanticLabels, spriteDesiredSemantics, 0, sequenceLength)\n",
      "\n",
      "## now try and do the optimization completely vectorized\n",
      "## number of edges connected to each label node of variable n (pairwise stores node at arrow tail as cols and at arrow head as rows)\n",
      "maxEdgesPerLabel = np.max(np.sum(np.array(pairwise.T != np.max(pairwise.T), dtype=int), axis=-1))\n",
      "## initialize this to index of connected label node with highest edge cost (which is then used as padding)\n",
      "## it contains for each label node of variable n (indexed by rows), all the label nodes of variable n-1 it is connected to by non infinite cost edge (indexed by cols)\n",
      "nodesConnectedToLabel = np.argmax(pairwise.T, axis=-1).reshape((len(pairwise.T), 1)).repeat(maxEdgesPerLabel, axis=-1)\n",
      "\n",
      "sparseIndices = np.where(pairwise != np.max(pairwise))\n",
      "# print sparseIndices\n",
      "tailIndices = sparseIndices[0]\n",
      "headIndices = sparseIndices[1]\n",
      "\n",
      "## this contains which label of variable n-1 is connected to which label of variable n\n",
      "indicesInLabelSpace = [list(tailIndices[np.where(headIndices == i)[0]]) for i in np.unique(headIndices)]\n",
      "\n",
      "for headLabel, tailLabels in zip(arange(0, len(nodesConnectedToLabel)), indicesInLabelSpace) :\n",
      "    nodesConnectedToLabel[headLabel, 0:len(tailLabels)] = tailLabels    \n",
      "\n",
      "# gwv.showCustomGraph(unaries)\n",
      "print \"computed costs for sprite\", incompatibleSpriteTracks[1], \"in\", time.time() - tic; sys.stdout.flush()\n",
      "tic = time.time()\n",
      "# minCostTraversal, minCost = solveMRF(unaries, pairwise)\n",
      "minCostTraversal, minCost = solveSparseDynProgMRF(unaries.T, pairwise.T, nodesConnectedToLabel)\n",
      "\n",
      "print \"solved traversal for sprite\", incompatibleSpriteTracks[1] , \"in\", time.time() - tic; sys.stdout.flush()\n",
      "print minCostTraversal, minCost\n",
      "\n",
      "count = 0\n",
      "unariesToUpdate = np.zeros_like(unaries, dtype=np.bool)\n",
      "while True :\n",
      "    ## check whether the sprite is compatible with existing sprites in the generated sequence\n",
      "    tic = time.time()\n",
      "    for i in xrange(len(generatedSequence)) :\n",
      "        if i != incompatibleSpriteTracks[1] and i == 7 :\n",
      "            overlappingSequence = np.array(generatedSequence[i][DICT_SEQUENCE_FRAMES][startFrame:startFrame+sequenceLength], dtype=int)\n",
      "#             print overlappingSequence\n",
      "            \n",
      "            spriteTotalLength = len(trackedSprites[generatedSequence[i][DICT_SPRITE_IDX]][DICT_BBOX_CENTERS])\n",
      "            spriteSemanticLabels = np.zeros((spriteTotalLength+1, 2))\n",
      "            ## label 0 means sprite not visible (i.e. only show the first empty frame)\n",
      "            spriteSemanticLabels[0, 0] = 1.0\n",
      "            spriteSemanticLabels[1:, 1] = 1.0\n",
      "            \n",
      "#             print spriteTotalLength\n",
      "#             print overlappingSequence\n",
      "#             print minCostTraversal\n",
      "            isCompatible = np.zeros(len(minCostTraversal), dtype=np.bool)\n",
      "            \n",
      "            ## if the semantic labels are different, the sprites are compatible with each in the reshuffling case but need to figure out how to deal with this\n",
      "            ## in a general way\n",
      "#             isCompatible[np.all(spriteSemanticLabels[overlappingSequence] != conflictingSpriteSemanticLabels[minCostTraversal], axis = 1)] = True\n",
      "            ### HACK ??? ### if one of the frame is 0 it means the two sprites are compatible\n",
      "            isCompatible[np.any(np.array(np.vstack((overlappingSequence.reshape((1, len(overlappingSequence))),\n",
      "                                                    minCostTraversal.reshape((1, len(minCostTraversal))))), dtype=int) == 0, axis = 0)] = True\n",
      "#             print isCompatible\n",
      "            frameRanges = synchedSequence2FullOverlap(np.array(np.vstack((overlappingSequence.reshape((1, len(overlappingSequence)))-1,\n",
      "                                                                          minCostTraversal.reshape((1, len(minCostTraversal)))-1)), dtype=int), \n",
      "                                                      np.array((spriteTotalLength, conflictingSpriteTotalLength)))\n",
      "#             print frameRanges\n",
      "            \n",
      "            if frameRanges != None :\n",
      "#                 totalDistance, distances = getOverlappingSpriteTracksDistance(trackedSprites[generatedSequence[i][DICT_SPRITE_IDX]], trackedSprites[0], frameRanges)\n",
      "                \n",
      "                ## references precomputedDistances instead of recomputing\n",
      "                \n",
      "                spriteIdxs = np.array([generatedSequence[i][DICT_SPRITE_IDX], generatedSequence[incompatibleSpriteTracks[1]][DICT_SPRITE_IDX]])\n",
      "                sortIdxs = np.argsort(spriteIdxs)\n",
      "                pairing = np.string_(spriteIdxs[sortIdxs][0]) + np.string_(spriteIdxs[sortIdxs][1])\n",
      "                pairingShift = frameRanges[sortIdxs, 0][1]-frameRanges[sortIdxs, 0][0]\n",
      "                totalDistance = precomputedDistances[pairing][pairingShift]\n",
      "                \n",
      "                print totalDistance, precomputedDistances[pairing][pairingShift], pairing, pairingShift, frameRanges[sortIdxs, 0]\n",
      "                \n",
      "                ## find all pairs of frame that show the same label as the desired label (i.e. [0.0, 1.0])\n",
      "                tmp = np.all(spriteSemanticLabels[overlappingSequence] == conflictingSpriteSemanticLabels[minCostTraversal], axis=1)\n",
      "                if totalDistance > 50.0 : \n",
      "                    isCompatible[np.all((np.all(conflictingSpriteSemanticLabels[minCostTraversal] == np.array([0.0, 1.0]), axis=1), tmp), axis=0)] = True\n",
      "            else :\n",
      "                print \"sprites not overlapping\"\n",
      "            \n",
      "#             print isCompatible\n",
      "    print \"la\", time.time() - tic\n",
      "    count += 1\n",
      "    if np.any(np.negative(isCompatible)) :\n",
      "        ## when I do the check for all the sprites in the sequence I would have to take an AND over all the isCompatible arrays but now I know there's only 1 sprite\n",
      "        \n",
      "        ## keep track of unaries to change\n",
      "        unariesToUpdate[np.arange(len(minCostTraversal), dtype=int)[np.negative(isCompatible)], minCostTraversal[np.negative(isCompatible)]] = True\n",
      "        ## change the unaries to increase the cost for the frames where the isCompatible is False\n",
      "#         unaries[np.arange(len(minCostTraversal), dtype=int)[np.negative(isCompatible)], minCostTraversal[np.negative(isCompatible)]] += 1000.0\n",
      "        unaries[np.argwhere(unariesToUpdate)[:, 0], np.argwhere(unariesToUpdate)[:, 1]] += 1000.0\n",
      "    #     gwv.showCustomGraph(unaries)\n",
      "        tic = time.time()\n",
      "#         minCostTraversal, minCost = solveMRF(unaries, pairwise)\n",
      "        minCostTraversal, minCost = solveSparseDynProgMRF(unaries.T, pairwise.T, nodesConnectedToLabel)\n",
      "        if True or np.mod(count, 10) == 0 :\n",
      "            print \"iterarion\", count, \": solved traversal for sprite\", incompatibleSpriteTracks[1] , \"in\", time.time() - tic; sys.stdout.flush()\n",
      "#             print minCostTraversal, minCost\n",
      "        \n",
      "        if count == 200 :\n",
      "            break\n",
      "    else :\n",
      "        print \"done biatch\"\n",
      "        print minCostTraversal\n",
      "        break"
     ],
     "language": "python",
     "metadata": {},
     "outputs": [
      {
       "output_type": "stream",
       "stream": "stdout",
       "text": [
        "550\n",
        "computed costs for sprite 6 in 0.0327460765839\n"
       ]
      },
      {
       "output_type": "stream",
       "stream": "stdout",
       "text": [
        "solved traversal for sprite 6 in 0.0160479545593\n"
       ]
      },
      {
       "output_type": "stream",
       "stream": "stdout",
       "text": [
        "[ 0  0  0  0  0  1  2  3  4  5  6  7  8  9 10 11 12 13 14 15 16 17 18 19 20\n",
        " 21 22 23 24 25 26 27 28 29 30 31 32 33 34 35 36 37 38 39 40 41 42 43 44 45\n",
        " 46 47 48 49 50 51 52 53 54 55 56 57 58 59 60 61 62 63 64 65 66 67 68 69 70\n",
        " 71 72 73 74 75 76 77 78 79 80 81 82 83 84 85 86 87 88 89 90 91 92 93 94 95\n",
        " 96] 2014.43494898\n",
        "65.2763356815 65.2763356815 03 416 [  0 416]\n",
        "la 0.000944852828979\n",
        "done biatch\n",
        "[ 0  0  0  0  0  1  2  3  4  5  6  7  8  9 10 11 12 13 14 15 16 17 18 19 20\n",
        " 21 22 23 24 25 26 27 28 29 30 31 32 33 34 35 36 37 38 39 40 41 42 43 44 45\n",
        " 46 47 48 49 50 51 52 53 54 55 56 57 58 59 60 61 62 63 64 65 66 67 68 69 70\n",
        " 71 72 73 74 75 76 77 78 79 80 81 82 83 84 85 86 87 88 89 90 91 92 93 94 95\n",
        " 96]\n"
       ]
      }
     ],
     "prompt_number": 111
    },
    {
     "cell_type": "code",
     "collapsed": false,
     "input": [
      "tmp = 2\n",
      "for cost, path, i in zip(minCosts[:, tmp], minCostPaths[:, tmp], xrange(1, minCosts.shape[0])) :\n",
      "    if np.mod(i-1, 5) == 0 :\n",
      "        print \"{0:03d} - {1:03d}\\t\".format(i-1, i+3), \n",
      "    print cost, \"{0:03d}\".format(int(path)), \"\\t\",\n",
      "    if np.mod(i, 5) == 0 :\n",
      "        print"
     ],
     "language": "python",
     "metadata": {},
     "outputs": [
      {
       "output_type": "stream",
       "stream": "stdout",
       "text": [
        "000 - 004\t10000031.9736 000 \t10001031.9736 000 \t10002031.9736 401 \t10002031.9736 401 \t10002031.9736 401 \t\n",
        "005 - 009\t10002031.9736 401 \t10002031.9736 401 \t10002031.9736 401 \t10002031.9736 401 \t10002031.9736 401 \t\n",
        "010 - 014\t10002031.9736 401 \t10002031.9736 401 \t10002031.9736 401 \t10002031.9736 401 \t10002031.9736 401 \t\n",
        "015 - 019\t10002031.9736 401 \t10002031.9736 401 \t10002031.9736 401 \t10002031.9736 401 \t10002031.9736 401 \t\n",
        "020 - 024\t10002031.9736 401 \t10002031.9736 401 \t10002031.9736 401 \t10002031.9736 401 \t10002031.9736 401 \t\n",
        "025 - 029\t10002031.9736 401 \t10002031.9736 401 \t10002031.9736 401 \t10002031.9736 401 \t10002031.9736 401 \t\n",
        "030 - 034\t10002031.9736 401 \t10002031.9736 401 \t10002031.9736 401 \t10002031.9736 401 \t10002031.9736 401 \t\n",
        "035 - 039\t10002031.9736 401 \t10002031.9736 401 \t10002031.9736 401 \t10002031.9736 401 \t10002031.9736 401 \t\n",
        "040 - 044\t10002031.9736 401 \t10002031.9736 401 \t10002031.9736 401 \t10002031.9736 401 \t10002031.9736 401 \t\n",
        "045 - 049\t10002031.9736 401 \t10002031.9736 401 \t10002031.9736 401 \t10002031.9736 401 \t10002031.9736 401 \t\n",
        "050 - 054\t10002031.9736 401 \t10002031.9736 401 \t10002031.9736 401 \t10002031.9736 401 \t10002031.9736 401 \t\n",
        "055 - 059\t10002031.9736 401 \t10002031.9736 401 \t10002031.9736 401 \t10002031.9736 401 \t10002031.9736 401 \t\n",
        "060 - 064\t10002031.9736 401 \t10002031.9736 401 \t10002031.9736 401 \t10002031.9736 401 \t10002031.9736 401 \t\n",
        "065 - 069\t10002031.9736 401 \t10002031.9736 401 \t10002031.9736 401 \t10002031.9736 401 \t10002031.9736 401 \t\n",
        "070 - 074\t10002031.9736 401 \t10002031.9736 401 \t10002031.9736 401 \t10002031.9736 401 \t10002031.9736 401 \t\n",
        "075 - 079\t10002031.9736 401 \t10002031.9736 401 \t10002031.9736 401 \t10002031.9736 401 \t10002031.9736 401 \t\n",
        "080 - 084\t10002031.9736 401 \t10002031.9736 401 \t10002031.9736 401 \t10002031.9736 401 \t10002031.9736 401 \t\n",
        "085 - 089\t10002031.9736 401 \t10002031.9736 401 \t10002031.9736 401 \t10002031.9736 401 \t10002031.9736 401 \t\n",
        "090 - 094\t10002031.9736 401 \t10002031.9736 401 \t10002031.9736 401 \t10002031.9736 401 \t10002031.9736 401 \t\n",
        "095 - 099\t10002031.9736 401 \t10002031.9736 401 \t10002031.9736 401 \t10002031.9736 401 \t10002031.9736 401 \t\n",
        "100 - 104\t10002031.9736 401 \t10002031.9736 401 \t10002031.9736 401 \t10002031.9736 401 \t10002031.9736 401 \t\n",
        "105 - 109\t10002031.9736 401 \t10002031.9736 401 \t10002031.9736 401 \t10002031.9736 401 \t10002031.9736 401 \t\n",
        "110 - 114\t10002031.9736 401 \t10002031.9736 401 \t10002031.9736 401 \t10002031.9736 401 \t10002031.9736 401 \t\n",
        "115 - 119\t10002031.9736 401 \t10002031.9736 401 \t10002031.9736 401 \t10002031.9736 401 \t10002031.9736 401 \t\n",
        "120 - 124\t10002031.9736 401 \t10002031.9736 401 \t10002031.9736 401 \t10002031.9736 401 \t10002031.9736 401 \t\n",
        "125 - 129\t10002031.9736 401 \t10002031.9736 401 \t10002031.9736 401 \t10002031.9736 401 \t10002031.9736 401 \t\n",
        "130 - 134\t10002031.9736 401 \t10002031.9736 401 \t10002031.9736 401 \t10002031.9736 401 \t10002031.9736 401 \t\n",
        "135 - 139\t10002031.9736 401 \t10002031.9736 401 \t10002031.9736 401 \t10002031.9736 401 \t10002031.9736 401 \t\n",
        "140 - 144\t10002031.9736 401 \t10002031.9736 401 \t10002031.9736 401 \t10002031.9736 401 \t10002031.9736 401 \t\n",
        "145 - 149\t10002031.9736 401 \t10002031.9736 401 \t10002031.9736 401 \t10002031.9736 401 \t10002031.9736 401 \t\n",
        "150 - 154\t10002031.9736 401 \t10002031.9736 401 \t10002031.9736 401 \t10002031.9736 401 \t10002031.9736 401 \t\n",
        "155 - 159\t10002031.9736 401 \t10002031.9736 401 \t10002031.9736 401 \t10002031.9736 401 \t10002031.9736 401 \t\n",
        "160 - 164\t10002031.9736 401 \t10002031.9736 401 \t10002031.9736 401 \t10002031.9736 401 \t10002031.9736 401 \t\n",
        "165 - 169\t10002031.9736 401 \t10002031.9736 401 \t10002031.9736 401 \t10002031.9736 401 \t10002031.9736 401 \t\n",
        "170 - 174\t10002031.9736 401 \t10002031.9736 401 \t10002031.9736 401 \t10002031.9736 401 \t10002031.9736 401 \t\n",
        "175 - 179\t10002031.9736 401 \t10002031.9736 401 \t10002031.9736 401 \t10002031.9736 401 \t10002031.9736 401 \t\n",
        "180 - 184\t10002031.9736 401 \t10002031.9736 401 \t10002031.9736 401 \t10002031.9736 401 \t10002031.9736 401 \t\n",
        "185 - 189\t10002031.9736 401 \t10002031.9736 401 \t10002031.9736 401 \t10002031.9736 401 \t10002031.9736 401 \t\n",
        "190 - 194\t10002031.9736 401 \t10002031.9736 401 \t10002031.9736 401 \t10002031.9736 401 \t10002031.9736 401 \t\n",
        "195 - 199\t10002031.9736 401 \t10002031.9736 401 \t10002031.9736 401 \t10002031.9736 401 \t10002031.9736 401 \t\n",
        "200 - 204\t10002031.9736 401 \t10002031.9736 401 \t10002031.9736 401 \t10002031.9736 401 \t10002031.9736 401 \t\n",
        "205 - 209\t10002031.9736 401 \t10002031.9736 401 \t10002031.9736 401 \t10002031.9736 401 \t10002031.9736 401 \t\n",
        "210 - 214\t10002031.9736 401 \t10002031.9736 401 \t10002031.9736 401 \t10002031.9736 401 \t10002031.9736 401 \t\n",
        "215 - 219\t10002031.9736 401 \t10002031.9736 401 \t10002031.9736 401 \t10002031.9736 401 \t10002031.9736 401 \t\n",
        "220 - 224\t10002031.9736 401 \t10002031.9736 401 \t10002031.9736 401 \t10002031.9736 401 \t10002031.9736 401 \t\n",
        "225 - 229\t10002031.9736 401 \t10002031.9736 401 \t10002031.9736 401 \t10002031.9736 401 \t10002031.9736 401 \t\n",
        "230 - 234\t10002031.9736 401 \t10002031.9736 401 \t10002031.9736 401 \t10002031.9736 401 \t10002031.9736 401 \t\n",
        "235 - 239\t10002031.9736 401 \t10002031.9736 401 \t10002031.9736 401 \t10002031.9736 401 \t10002031.9736 401 \t\n",
        "240 - 244\t10002031.9736 401 \t10002031.9736 401 \t10002031.9736 401 \t10002031.9736 401 \t10002031.9736 401 \t\n",
        "245 - 249\t10002031.9736 401 \t10002031.9736 401 \t10002031.9736 401 \t10002031.9736 401 \t10002031.9736 401 \t\n",
        "250 - 254\t10002031.9736 401 \t10002031.9736 401 \t10002031.9736 401 \t10002031.9736 401 \t10002031.9736 401 \t\n",
        "255 - 259\t10002031.9736 401 \t10002031.9736 401 \t10002031.9736 401 \t10002031.9736 401 \t10002031.9736 401 \t\n",
        "260 - 264\t10002031.9736 401 \t10002031.9736 401 \t10002031.9736 401 \t10002031.9736 401 \t10002031.9736 401 \t\n",
        "265 - 269\t10002031.9736 401 \t10002031.9736 401 \t10002031.9736 401 \t10002031.9736 401 \t10002031.9736 401 \t\n",
        "270 - 274\t10002031.9736 401 \t10002031.9736 401 \t10002031.9736 401 \t10002031.9736 401 \t10002031.9736 401 \t\n",
        "275 - 279\t10002031.9736 401 \t10002031.9736 401 \t10002031.9736 401 \t10002031.9736 401 \t10002031.9736 401 \t\n",
        "280 - 284\t10002031.9736 401 \t10002031.9736 401 \t10002031.9736 401 \t10002031.9736 401 \t10002031.9736 401 \t\n",
        "285 - 289\t10002031.9736 401 \t10002031.9736 401 \t10002031.9736 401 \t10002031.9736 401 \t10002031.9736 401 \t\n",
        "290 - 294\t10002031.9736 401 \t10002031.9736 401 \t10002031.9736 401 \t10002031.9736 401 \t10002031.9736 401 \t\n",
        "295 - 299\t10002031.9736 401 \t10002031.9736 401 \t10002031.9736 401 \t10002031.9736 401 \t10002031.9736 401 \t\n",
        "300 - 304\t10002031.9736 401 \t10002031.9736 401 \t10002031.9736 401 \t10002031.9736 401 \t10002031.9736 401 \t\n",
        "305 - 309\t10002031.9736 401 \t10002031.9736 401 \t10002031.9736 401 \t10002031.9736 401 \t10002031.9736 401 \t\n",
        "310 - 314\t10002031.9736 401 \t10002031.9736 401 \t10002031.9736 401 \t10002031.9736 401 \t10002031.9736 401 \t\n",
        "315 - 319\t10002031.9736 401 \t10002031.9736 401 \t10002031.9736 401 \t10002031.9736 401 \t10002031.9736 401 \t\n",
        "320 - 324\t10002031.9736 401 \t10002031.9736 401 \t10002031.9736 401 \t10002031.9736 401 \t10002031.9736 401 \t\n",
        "325 - 329\t10002031.9736 401 \t10002031.9736 401 \t10002031.9736 401 \t10002031.9736 401 \t10002031.9736 401 \t\n",
        "330 - 334\t10002031.9736 401 \t10002031.9736 401 \t10002031.9736 401 \t10002031.9736 401 \t10002031.9736 401 \t\n",
        "335 - 339\t10002031.9736 401 \t10002031.9736 401 \t10002031.9736 401 \t10002031.9736 401 \t10002031.9736 401 \t\n",
        "340 - 344\t10002031.9736 401 \t10002031.9736 401 \t10002031.9736 401 \t10002031.9736 401 \t10002031.9736 401 \t\n",
        "345 - 349\t10002031.9736 401 \t10002031.9736 401 \t10002031.9736 401 \t10002031.9736 401 \t10002031.9736 401 \t\n",
        "350 - 354\t10002031.9736 401 \t10002031.9736 401 \t10002031.9736 401 \t10002031.9736 401 \t10002031.9736 401 \t\n",
        "355 - 359\t10002031.9736 401 \t10002031.9736 401 \t10002031.9736 401 \t10002031.9736 401 \t10002031.9736 401 \t\n",
        "360 - 364\t10002031.9736 401 \t10002031.9736 401 \t10002031.9736 401 \t10002031.9736 401 \t10002031.9736 401 \t\n",
        "365 - 369\t10002031.9736 401 \t10002031.9736 401 \t10002031.9736 401 \t10002031.9736 401 \t10002031.9736 401 \t\n",
        "370 - 374\t10002031.9736 401 \t10002031.9736 401 \t10002031.9736 401 \t10002031.9736 401 \t10002031.9736 401 \t\n",
        "375 - 379\t10002031.9736 401 \t10002031.9736 401 \t10002031.9736 401 \t10002031.9736 401 \t10002031.9736 401 \t\n",
        "380 - 384\t10002031.9736 401 \t10002031.9736 401 \t10002031.9736 401 \t10002031.9736 401 \t10002031.9736 401 \t\n",
        "385 - 389\t10002031.9736 401 \t10002031.9736 401 \t10002031.9736 401 \t10002031.9736 401 \t10002031.9736 401 \t\n",
        "390 - 394\t10002031.9736 401 \t10002031.9736 401 \t10002031.9736 401 \t10002031.9736 401 \t10002031.9736 401 \t\n",
        "395 - 399\t10002031.9736 401 \t10002031.9736 401 \t10002031.9736 401 \t10002031.9736 401 \t10002031.9736 401 \t\n",
        "400 - 404\t10002031.9736 401 \t10002031.9736 401 \t2031.97356642 401 \t10002031.9736 401 \t10002031.9736 401 \t\n",
        "405 - 409\t10002031.9736 401 \t10002031.9736 401 \t10002031.9736 401 \t10002031.9736 401 \t10002031.9736 401 \t\n",
        "410 - 414\t10002031.9736 401 \t10002031.9736 401 \t10002031.9736 401 \t10002031.9736 401 \t10002031.9736 401 \t\n",
        "415 - 419\t10002031.9736 401 \t10002031.9736 401 \t10002031.9736 401 \t10002031.9736 401 \t10002031.9736 401 \t\n",
        "420 - 424\t10002031.9736 401 \t10002031.9736 401 \t10002031.9736 401 \t10002031.9736 401 \t10002031.9736 401 \t\n",
        "425 - 429\t10002031.9736 401 \t10002031.9736 401 \t10002031.9736 401 \t10002031.9736 401 \t10002031.9736 401 \t\n",
        "430 - 434\t10002031.9736 401 \t10002031.9736 401 \t10002031.9736 401 \t10002031.9736 401 \t10002031.9736 401 \t\n",
        "435 - 439\t10002031.9736 401 \t10002031.9736 401 \t10002031.9736 401 \t10002031.9736 401 \t10002031.9736 401 \t\n",
        "440 - 444\t10002031.9736 401 \t10002031.9736 401 \t10002031.9736 401 \t10002031.9736 401 \t10002031.9736 401 \t\n",
        "445 - 449\t10002031.9736 401 \t10002031.9736 401 \t10002031.9736 401 \t10002031.9736 401 \t10002031.9736 401 \t\n",
        "450 - 454\t10002031.9736 401 \t10002031.9736 401 \t10002031.9736 401 \t10002031.9736 401 \t10002031.9736 401 \t\n",
        "455 - 459\t10002031.9736 401 \t10002031.9736 401 \t10002031.9736 401 \t10002031.9736 401 \t10002031.9736 401 \t\n",
        "460 - 464\t10002031.9736 401 \t10002031.9736 401 \t10002031.9736 401 \t10002031.9736 401 \t10002031.9736 401 \t\n",
        "465 - 469\t10002031.9736 401 \t10002031.9736 401 \t10002031.9736 401 \t10002031.9736 401 \t10002031.9736 401 \t\n",
        "470 - 474\t10002031.9736 401 \t10002031.9736 401 \t10002031.9736 401 \t10002031.9736 401 \t10002031.9736 401 \t\n",
        "475 - 479\t10002031.9736 401 \t10002031.9736 401 \t10002031.9736 401 \t10002031.9736 401 \t10002031.9736 401 \t\n",
        "480 - 484\t10002031.9736 401 \t10002031.9736 401 \t10002031.9736 401 \t10002031.9736 401 \t10002031.9736 401 \t\n",
        "485 - 489\t10002031.9736 401 \t10002031.9736 401 \t10002031.9736 401 \t10002031.9736 401 \t10002031.9736 401 \t\n",
        "490 - 494\t10002031.9736 401 \t10002031.9736 401 \t10002031.9736 401 \t10002031.9736 401 \t10002031.9736 401 \t\n",
        "495 - 499\t10002031.9736 401 \t10002031.9736 401 \t10002031.9736 401 \t10002031.9736 401 \t10002031.9736 401 \t\n",
        "500 - 504\t10002031.9736 401 \t10002031.9736 401 \t10002031.9736 401 \t10002031.9736 401 \t10002031.9736 401 \t\n",
        "505 - 509\t10002031.9736 401 \t10002031.9736 401 \t10002031.9736 401 \t10002031.9736 401 \t10002031.9736 401 \t\n",
        "510 - 514\t10002031.9736 401 \t10002031.9736 401 \t10002031.9736 401 \t10002031.9736 401 \t10002031.9736 401 \t\n",
        "515 - 519\t10002031.9736 401 \t10002031.9736 401 \t10002031.9736 401 \t10002031.9736 401 \t10002031.9736 401 \t\n",
        "520 - 524\t10002031.9736 401 \t10002031.9736 401 \t10002031.9736 401 \t10002031.9736 401 \t10002031.9736 401 \t\n",
        "525 - 529\t10002031.9736 401 \t10002031.9736 401 \t10002031.9736 401 \t10002031.9736 401 \t10002031.9736 401 \t\n",
        "530 - 534\t10002031.9736 401 \t10002031.9736 401 \t10002031.9736 401 \t10002031.9736 401 \t10002031.9736 401 \t\n",
        "535 - 539\t10002031.9736 401 \t10002031.9736 401 \t10002031.9736 401 \t10002031.9736 401 \t10002031.9736 401 \t\n",
        "540 - 544\t10002031.9736 401 \t10002031.9736 401 \t10002031.9736 401 \t10002031.9736 401 \t10002031.9736 401 \t\n",
        "545 - 549\t10002031.9736 401 \t10002031.9736 401 \t10002031.9736 401 \t10002031.9736 401 \t10002031.9736 401 \t\n"
       ]
      }
     ],
     "prompt_number": 78
    },
    {
     "cell_type": "code",
     "collapsed": false,
     "input": [
      "DRAW_FIRST_FRAME = 'first_frame'\n",
      "DRAW_LAST_FRAME = 'last_frame'\n",
      "DRAW_COLOR = 'color'\n",
      "\n",
      "class SemanticsSlider(QtGui.QSlider) :\n",
      "    def __init__(self, orientation=QtCore.Qt.Horizontal, parent=None) :\n",
      "        super(SemanticsSlider, self).__init__(orientation, parent)\n",
      "        style = \"QSlider::handle:horizontal { background: #cccccc; width: 25px; border-radius: 0px; } \"\n",
      "        style += \"QSlider::groove:horizontal { background: #dddddd; } \"\n",
      "        self.setStyleSheet(style)\n",
      "        \n",
      "        self.semanticsToDraw = []\n",
      "        self.numOfFrames = 1\n",
      "        self.selectedSemantics = 0\n",
      "        \n",
      "    def setSelectedSemantics(self, selectedSemantics) :\n",
      "        self.selectedSemantics = selectedSemantics\n",
      "        \n",
      "    def setSemanticsToDraw(self, semanticsToDraw, numOfFrames) :\n",
      "        self.semanticsToDraw = semanticsToDraw\n",
      "        self.numOfFrames = float(numOfFrames)\n",
      "        \n",
      "        desiredHeight = len(self.semanticsToDraw)*7\n",
      "        self.setFixedHeight(desiredHeight)\n",
      "        \n",
      "        self.resize(self.width(), self.height())\n",
      "        self.update()\n",
      "        \n",
      "    def paintEvent(self, event) :\n",
      "        super(SemanticsSlider, self).paintEvent(event)\n",
      "        \n",
      "        painter = QtGui.QPainter(self)\n",
      "        \n",
      "        ## draw semantics\n",
      "        \n",
      "        yCoord = 0.0\n",
      "        for i in xrange(len(self.semanticsToDraw)) :\n",
      "            col = self.semanticsToDraw[i][DRAW_COLOR]\n",
      "\n",
      "            painter.setBrush(QtGui.QBrush(QtGui.QColor.fromRgb(col[0], col[1], col[2], 255)))\n",
      "            startX =  self.semanticsToDraw[i][DRAW_FIRST_FRAME]/self.numOfFrames*self.width()\n",
      "            endX =  self.semanticsToDraw[i][DRAW_LAST_FRAME]/self.numOfFrames*self.width()\n",
      "\n",
      "            if self.selectedSemantics == i :\n",
      "                painter.setPen(QtGui.QPen(QtGui.QColor.fromRgb(255 - col[0], 255 - col[1], 255 - col[2], 127), 1, \n",
      "                                              QtCore.Qt.DashLine, QtCore.Qt.SquareCap, QtCore.Qt.MiterJoin))\n",
      "                painter.drawRect(startX, yCoord+0.5, endX-startX, 5)\n",
      "\n",
      "            else :\n",
      "                painter.setPen(QtGui.QPen(QtGui.QColor.fromRgb(255 - col[0], 255 - col[1], 255 - col[2], 63), 1, \n",
      "                                              QtCore.Qt.SolidLine, QtCore.Qt.SquareCap, QtCore.Qt.MiterJoin))\n",
      "                painter.drawRect(startX, yCoord+0.5, endX-startX, 5)\n",
      "\n",
      "\n",
      "            yCoord += 7\n",
      "\n",
      "\n",
      "        ## draw slider\n",
      "\n",
      "        ## the slider is 2 pixels wide so remove 1.0 from X coord\n",
      "        sliderXCoord = np.max((self.sliderPosition()/self.numOfFrames*self.width()-1.0, 0.0))\n",
      "        painter.setPen(QtGui.QPen(QtGui.QColor.fromRgb(0, 0, 0, 0), 0))\n",
      "        painter.setBrush(QtGui.QBrush(QtGui.QColor.fromRgb(0, 0, 0, 128)))\n",
      "        painter.drawRect(sliderXCoord, 0, 2, self.height())"
     ],
     "language": "python",
     "metadata": {},
     "outputs": [],
     "prompt_number": 14
    },
    {
     "cell_type": "code",
     "collapsed": false,
     "input": [
      "class ListDelegate(QtGui.QItemDelegate):\n",
      "    \n",
      "    def __init__(self, parent=None) :\n",
      "        super(ListDelegate, self).__init__(parent)\n",
      "        \n",
      "        self.setBackgroundColor(QtGui.QColor.fromRgb(245, 245, 245))\n",
      "        self.setIconImage(QtGui.QImage(QtCore.QSize(0, 0), QtGui.QImage.Format_ARGB32))\n",
      "\n",
      "    def setBackgroundColor(self, bgColor) :\n",
      "        self.bgColor = bgColor\n",
      "    \n",
      "    def setIconImage(self, iconImage) :\n",
      "        self.iconImage = np.ascontiguousarray(np.copy(iconImage))\n",
      "    \n",
      "    def drawDisplay(self, painter, option, rect, text):\n",
      "        painter.save()\n",
      "        \n",
      "        colorRect = QtCore.QRect(rect.left()+rect.height(), rect.top(), rect.width()-rect.height(), rect.height())\n",
      "        selectionRect = rect\n",
      "        iconRect = QtCore.QRect(rect.left(), rect.top(), rect.height(), rect.height())\n",
      "\n",
      "        # draw colorRect\n",
      "        painter.setBrush(QtGui.QBrush(self.bgColor))\n",
      "        painter.setPen(QtGui.QPen(QtGui.QColor.fromRgb(128, 128, 128, 255), 1, \n",
      "                                          QtCore.Qt.SolidLine, QtCore.Qt.SquareCap, QtCore.Qt.MiterJoin))\n",
      "        painter.drawRect(colorRect)\n",
      "        \n",
      "        ## draw iconRect\n",
      "        qim = QtGui.QImage(self.iconImage.data, self.iconImage.shape[1], self.iconImage.shape[0], \n",
      "                                                       self.iconImage.strides[0], QtGui.QImage.Format_ARGB32)\n",
      "        painter.drawImage(iconRect, qim.scaled(iconRect.size()))\n",
      "        \n",
      "        ## draw selectionRect\n",
      "        if option.state & QtGui.QStyle.State_Selected:\n",
      "            painter.setBrush(QtGui.QBrush(QtGui.QColor.fromRgb(0, 0, 0, 0)))\n",
      "            painter.setPen(QtGui.QPen(QtGui.QColor.fromRgb(255, 64, 64, 255), 5, \n",
      "                                              QtCore.Qt.SolidLine, QtCore.Qt.SquareCap, QtCore.Qt.MiterJoin))\n",
      "            painter.drawRect(selectionRect)\n",
      "        \n",
      "        # set text color\n",
      "        painter.setPen(QtGui.QPen(QtCore.Qt.black))\n",
      "        if option.state & QtGui.QStyle.State_Selected:\n",
      "            painter.setFont(QtGui.QFont(\"Helvetica [Cronyx]\", 11, QtGui.QFont.Bold))\n",
      "        else :\n",
      "            painter.setFont(QtGui.QFont(\"Helvetica [Cronyx]\", 11))\n",
      "            \n",
      "        painter.drawText(colorRect, QtCore.Qt.AlignVCenter | QtCore.Qt.AlignCenter, text)\n",
      "\n",
      "        painter.restore()"
     ],
     "language": "python",
     "metadata": {},
     "outputs": [],
     "prompt_number": 15
    },
    {
     "cell_type": "code",
     "collapsed": false,
     "input": [
      "class ImageLabel(QtGui.QLabel) :\n",
      "    \n",
      "    def __init__(self, text, parent=None):\n",
      "        super(ImageLabel, self).__init__(text, parent)\n",
      "        \n",
      "        self.setMouseTracking(True)\n",
      "        \n",
      "        self.image = None\n",
      "        self.overlay = None\n",
      "        \n",
      "    def setImage(self, image) : \n",
      "        self.image = image.copy()\n",
      "        self.update()\n",
      "\n",
      "    def setOverlay(self, overlay) :\n",
      "        self.overlay = overlay.copy()\n",
      "        self.update()\n",
      "        \n",
      "    def paintEvent(self, event):\n",
      "        super(ImageLabel, self).paintEvent(event)\n",
      "        painter = QtGui.QPainter(self)\n",
      "        if self.image != None :\n",
      "            painter.drawImage(QtCore.QPoint(0, 0), self.image)\n",
      "            \n",
      "        if self.overlay != None :\n",
      "            painter.drawImage(QtCore.QPoint(0, 0), self.overlay)\n",
      "        \n",
      "    def setPixmap(self, pixmap) :\n",
      "        if pixmap.width() > self.width() :\n",
      "            super(ImageLabel, self).setPixmap(pixmap.scaledToWidth(self.width()))\n",
      "        else :\n",
      "            super(ImageLabel, self).setPixmap(pixmap)\n",
      "        \n",
      "    def resizeEvent(self, event) :\n",
      "        if self.pixmap() != None :\n",
      "            if self.pixmap().width() > self.width() :\n",
      "                self.setPixmap(self.pixmap().scaledToWidth(self.width()))\n",
      "                \n",
      "                \n",
      "class Window(QtGui.QWidget):\n",
      "    def __init__(self):\n",
      "        super(Window, self).__init__()\n",
      "        \n",
      "        self.setWindowTitle(\"Looping the Unloopable\")\n",
      "        self.resize(1280, 720)\n",
      "        self.LIST_SECTION_SIZE = 60\n",
      "        \n",
      "        self.playIcon = QtGui.QIcon(\"play.png\")\n",
      "        self.pauseIcon = QtGui.QIcon(\"pause.png\")\n",
      "        self.doPlaySequence = False\n",
      "        \n",
      "        self.createGUI()\n",
      "        \n",
      "        self.isScribbling = False\n",
      "        \n",
      "        self.prevPoint = None\n",
      "        \n",
      "        self.trackedSprites = []\n",
      "        self.currentSpriteIdx = -1\n",
      "        \n",
      "        self.frameIdx = 0\n",
      "        self.overlayImg = QtGui.QImage(QtCore.QSize(100, 100), QtGui.QImage.Format_ARGB32)\n",
      "        \n",
      "        ## get background image\n",
      "        im = np.ascontiguousarray(Image.open(dataPath + dataSet + \"median.png\"))\n",
      "        self.bgImage = QtGui.QImage(im.data, im.shape[1], im.shape[0], im.strides[0], QtGui.QImage.Format_RGB888);\n",
      "        self.frameLabel.setFixedSize(self.bgImage.width(), self.bgImage.height())\n",
      "        self.frameLabel.setImage(self.bgImage)\n",
      "        \n",
      "        self.loadTrackedSprites()\n",
      "        \n",
      "        self.generatedSequence = []\n",
      "        \n",
      "        self.playTimer = QtCore.QTimer(self)\n",
      "        self.playTimer.setInterval(1000/30)\n",
      "        self.playTimer.timeout.connect(self.renderOneFrame)\n",
      "        self.lastRenderTime = time.time()\n",
      "        self.oldInfoText = \"\"\n",
      "        \n",
      "        self.EXTEND_LENGTH = 100 + 1 ## since I get rid of the frist frame from the generated sequence because it's forced to be the one already showing\n",
      "        self.TOGGLE_DELAY = 8\n",
      "        self.BURST_ENTER_DELAY = 2\n",
      "        self.BURST_EXIT_DELAY = 20\n",
      "        \n",
      "        self.DO_EXTEND = 0\n",
      "        self.DO_TOGGLE = 1\n",
      "        self.DO_BURST = 2\n",
      "        \n",
      "        if len(glob.glob(dataPath+dataSet+\"generatedSequence-*\")) > 0 :\n",
      "            ## load latest sequence\n",
      "            self.generatedSequence = list(np.load(np.sort(glob.glob(dataPath+dataSet+\"generatedSequence-2*\"))[-1]))\n",
      "#             print \"loaded\", np.sort(glob.glob(dataPath+dataSet+\"generatedSequence-*\"))[-1]\n",
      "#             self.generatedSequence = list(np.load(dataPath+dataSet+\"generatedSequence-2015-07-07_23:35:48.npy\"))\n",
      "#             self.generatedSequence = generatedSequence\n",
      "#             self.generatedSequence = list(np.load(dataPath+dataSet+\"generatedSequence-debug.npy\"))\n",
      "            if len(self.generatedSequence) > 0 :\n",
      "                ## update sliders\n",
      "                self.frameIdxSlider.setMaximum(len(self.generatedSequence[0][DICT_SEQUENCE_FRAMES])-1)\n",
      "                self.frameIdxSpinBox.setRange(0, len(self.generatedSequence[0][DICT_SEQUENCE_FRAMES])-1)\n",
      "                \n",
      "                self.frameInfo.setText(\"Generated sequence length: \" + np.string_(len(self.generatedSequence[0][DICT_SEQUENCE_FRAMES])))\n",
      "                \n",
      "                self.showFrame(self.frameIdx)\n",
      "                \n",
      "            self.setSemanticsToDraw()\n",
      "        \n",
      "        self.frameIdxSlider.setSelectedSemantics(-1)\n",
      "        \n",
      "        self.setFocus()\n",
      "        \n",
      "    def renderOneFrame(self) :\n",
      "        idx = self.frameIdx + 1\n",
      "        if idx >= 0 and len(self.generatedSequence) > 0 : #idx < len(self.generatedSequence[0][DICT_SEQUENCE_FRAMES]) :\n",
      "            self.frameIdxSpinBox.setValue(np.mod(idx, len(self.generatedSequence[0][DICT_SEQUENCE_FRAMES])))\n",
      "            \n",
      "        self.frameInfo.setText(\"Rendering at \" + np.string_(int(1.0/(time.time() - self.lastRenderTime))) + \" FPS\")\n",
      "        self.lastRenderTime = time.time()\n",
      "    \n",
      "    def showFrame(self, idx) :\n",
      "        if idx >= 0 and len(self.generatedSequence) > 0 and idx < len(self.generatedSequence[0][DICT_SEQUENCE_FRAMES]) :\n",
      "            self.frameIdx = idx\n",
      "            \n",
      "            if self.bgImage != None and self.overlayImg.size() != self.bgImage.size() :\n",
      "                self.overlayImg = self.overlayImg.scaled(self.bgImage.size())\n",
      "            ## empty image\n",
      "            self.overlayImg.fill(QtGui.QColor.fromRgb(255, 255, 255, 0))\n",
      "            \n",
      "            ## go through all the sprites used in the sequence\n",
      "            for s in xrange(len(self.generatedSequence)) :\n",
      "                ## index in self.trackedSprites of current sprite in self.generatedSequence\n",
      "                spriteIdx = int(self.generatedSequence[s][DICT_SPRITE_IDX])\n",
      "                ## index of current sprite frame to visualize\n",
      "                sequenceFrameIdx = int(self.generatedSequence[s][DICT_SEQUENCE_FRAMES][self.frameIdx]-1)\n",
      "                ## -1 stands for not shown or eventually for more complicated sprites as the base frame to keep showing when sprite is frozen\n",
      "                ## really in the sequence I have 0 for the static frame but above I do -1\n",
      "                if sequenceFrameIdx >= 0 :\n",
      "                    ## the trackedSprites data is indexed (i.e. the keys) by the frame indices in the original full sequence and keys are not sorted\n",
      "                    frameToShowIdx = np.sort(self.trackedSprites[spriteIdx][DICT_FRAMES_LOCATIONS].keys())[sequenceFrameIdx]\n",
      "                    try :\n",
      "                        if spriteIdx >= 0 and spriteIdx < len(preloadedSpritePatches) and sequenceFrameIdx < len(preloadedSpritePatches[spriteIdx]) :\n",
      "                            ## the QImage for this frame has been preloaded\n",
      "                            self.drawOverlay(self.trackedSprites[spriteIdx], frameToShowIdx, self.drawSpritesBox.isChecked(), \n",
      "                                             self.drawBBoxBox.isChecked(), self.drawCenterBox.isChecked(), preloadedSpritePatches[spriteIdx][sequenceFrameIdx])\n",
      "                        else :\n",
      "                            self.drawOverlay(self.trackedSprites[spriteIdx], frameToShowIdx, self.drawSpritesBox.isChecked(), \n",
      "                                             self.drawBBoxBox.isChecked(), self.drawCenterBox.isChecked())\n",
      "                    except :\n",
      "                        self.drawOverlay(self.trackedSprites[spriteIdx], frameToShowIdx, self.drawSpritesBox.isChecked(), \n",
      "                                         self.drawBBoxBox.isChecked(), self.drawCenterBox.isChecked())\n",
      "            \n",
      "            self.frameLabel.setFixedSize(self.overlayImg.width(), self.overlayImg.height())\n",
      "            self.frameLabel.setOverlay(self.overlayImg)\n",
      "            \n",
      "    def drawOverlay(self, sprite, frameIdx, doDrawSprite, doDrawBBox, doDrawCenter, spritePatch = None) :\n",
      "        if self.overlayImg != None :            \n",
      "            painter = QtGui.QPainter(self.overlayImg)\n",
      "            \n",
      "            ## draw sprite\n",
      "            if doDrawSprite :\n",
      "                if spritePatch != None :\n",
      "                    reconstructedImg = np.ascontiguousarray(np.zeros((spritePatch['patch_size'][0], spritePatch['patch_size'][1], 4)), dtype=np.uint8)\n",
      "                    reconstructedImg[spritePatch['visible_indices'][:, 0], spritePatch['visible_indices'][:, 1], :] = spritePatch['sprite_colors']\n",
      "                    reconstructedQImage = QtGui.QImage(reconstructedImg.data, reconstructedImg.shape[1], reconstructedImg.shape[0], \n",
      "                                                       reconstructedImg.strides[0], QtGui.QImage.Format_ARGB32)\n",
      "                    \n",
      "                    painter.drawImage(QtCore.QRect(spritePatch['top_left_pos'][1], spritePatch['top_left_pos'][0],\n",
      "                                                   spritePatch['patch_size'][1], spritePatch['patch_size'][0]), reconstructedQImage)\n",
      "                else :\n",
      "                    ## maybe save all this data in trackedSprites by modifying it in \"Merge Tracked Sprites\"\n",
      "                    frameName = sprite[DICT_FRAMES_LOCATIONS][frameIdx].split(os.sep)[-1]\n",
      "                    maskDir = dataPath + dataSet + sprite[DICT_SPRITE_NAME] + \"-masked\"\n",
      "                    \n",
      "                    if os.path.isdir(maskDir) and os.path.exists(maskDir+\"/\"+frameName) :\n",
      "    #                     mask = np.array(Image.open(maskDir+\"/mask-\"+frameName))[:, :, 0]\n",
      "    #                     ## for whatever reason for this to work the image needs to be BGR\n",
      "    #                     im = np.concatenate((cv2.imread(sprite[DICT_FRAMES_LOCATIONS][frameIdx]), mask.reshape(np.hstack((mask.shape, 1)))), axis=-1)\n",
      "    #                     im = np.ascontiguousarray(im)\n",
      "                        im = np.ascontiguousarray(cv2.imread(maskDir+\"/\"+frameName, cv2.CV_LOAD_IMAGE_UNCHANGED))\n",
      "                        img = QtGui.QImage(im.data, im.shape[1], im.shape[0], im.strides[0], QtGui.QImage.Format_ARGB32)\n",
      "                    else :\n",
      "                        im = np.ascontiguousarray(Image.open(sprite[DICT_FRAMES_LOCATIONS][frameIdx]))\n",
      "                        img = QtGui.QImage(im.data, im.shape[1], im.shape[0], im.strides[0], QtGui.QImage.Format_RGB888)\n",
      "                    \n",
      "                    painter.drawImage(QtCore.QPoint(0, 0), img)\n",
      "            \n",
      "            painter.setPen(QtGui.QPen(QtGui.QColor.fromRgb(0, 0, 255, 255), 3, \n",
      "                                      QtCore.Qt.SolidLine, QtCore.Qt.RoundCap, QtCore.Qt.RoundJoin))\n",
      "            ## draw bbox\n",
      "            if doDrawBBox :\n",
      "                if DICT_FOOTPRINTS in sprite.keys() :\n",
      "                    bbox = sprite[DICT_FOOTPRINTS][frameIdx]\n",
      "                else :\n",
      "                    bbox = sprite[DICT_BBOXES][frameIdx]\n",
      "                    \n",
      "                for p1, p2 in zip(np.mod(arange(4), 4), np.mod(arange(1, 5), 4)) :\n",
      "                    painter.drawLine(QtCore.QPointF(bbox[p1, 0], bbox[p1, 1]), QtCore.QPointF(bbox[p2, 0], bbox[p2, 1]))\n",
      "            \n",
      "            ## draw bbox center\n",
      "            if doDrawCenter :\n",
      "                painter.drawPoint(QtCore.QPointF(sprite[DICT_BBOX_CENTERS][frameIdx][0], sprite[DICT_BBOX_CENTERS][frameIdx][1]))\n",
      "            \n",
      "#     def changeSprite(self, row) :\n",
      "#         if len(self.trackedSprites) > row :\n",
      "#             self.currentSpriteIdx = row\n",
      "            \n",
      "#         self.setFocus()\n",
      "        \n",
      "    def changeSprite(self, row) :\n",
      "        if len(self.trackedSprites) > row.row() :\n",
      "            self.currentSpriteIdx = row.row()\n",
      "        \n",
      "        print \"selected sprite\", self.currentSpriteIdx; sys.stdout.flush()\n",
      "            \n",
      "        self.setFocus()\n",
      "            \n",
      "    def loadTrackedSprites(self) :\n",
      "        ## going to first frame of first sprite if there were no sprites before loading\n",
      "        goToNewSprite = len(self.trackedSprites) == 0\n",
      "        for sprite in np.sort(glob.glob(dataPath + dataSet + \"sprite*.npy\")) :\n",
      "            self.trackedSprites.append(np.load(sprite).item())\n",
      "        \n",
      "        self.setSpriteList()\n",
      "        if len(self.trackedSprites) > 0 and goToNewSprite :\n",
      "            self.spriteListTable.selectRow(0)\n",
      "            \n",
      "#     def setSpriteList(self) :\n",
      "#         self.spriteListTable.setRowCount(0)\n",
      "#         if len(self.trackedSprites) > 0 :\n",
      "#             self.spriteListTable.setRowCount(len(self.trackedSprites))\n",
      "            \n",
      "#             for i in xrange(0, len(self.trackedSprites)):\n",
      "#                 self.spriteListTable.setItem(i, 0, QtGui.QTableWidgetItem(self.trackedSprites[i][DICT_SPRITE_NAME]))\n",
      "                \n",
      "#                 if DICT_MEDIAN_COLOR in self.trackedSprites[i].keys() :\n",
      "#                     col = self.trackedSprites[i][DICT_MEDIAN_COLOR]\n",
      "# #                     tmp = QtGui.QTableWidgetItem(np.string_(i))\n",
      "# #                     tmp.setStyleSheet(\"QTableWidgetItem { background: #cc0000; width: 25px; border-radius: 0px; } \")\n",
      "# #                     tmp.setBackground(QtGui.QColor.fromRgb(0, 0, 0, 255))#col[0], col[1], col[2], 255))\n",
      "# #                     self.spriteListTable.setVerticalHeaderItem(i, tmp)\n",
      "# #                     self.spriteListTable.verticalHeaderItem(i).setBackground(QtGui.QColor.fromRgb(col[0], col[1], col[2], 255))\n",
      "#                     self.spriteListTable.item(i, 0).setBackground(QtGui.QColor.fromRgb(col[0], col[1], col[2], 255))\n",
      "# #             self.spriteListTable.verticalHeader().setStyleSheet(\"::section { border: 2px; } \")\n",
      "#         else :\n",
      "#             self.spriteListTable.setRowCount(1)\n",
      "#             self.spriteListTable.setItem(0, 0, QtGui.QTableWidgetItem(\"No tracked sprites\"))\n",
      "            \n",
      "    def setSpriteList(self) :\n",
      "#         self.spriteListTable.setRowCount(0)\n",
      "        if len(self.trackedSprites) > 0 :\n",
      "            self.spriteListModel.setRowCount(len(self.trackedSprites))\n",
      "#             self.spriteListModel.setColumnCount(2)\n",
      "            self.delegateList = []\n",
      "    \n",
      "            bgImg = np.array(Image.open(dataPath+dataSet+\"median.png\"))\n",
      "            for i in xrange(0, len(self.trackedSprites)):\n",
      "                self.delegateList.append(ListDelegate())\n",
      "                self.spriteListTable.setItemDelegateForRow(i, self.delegateList[-1])\n",
      "                \n",
      "#                 self.spriteListModel.setItem(i, 0, QtGui.QStandardItem(np.string_(i)))\n",
      "                ## set sprite name\n",
      "                self.spriteListModel.setItem(i, 0, QtGui.QStandardItem(self.trackedSprites[i][DICT_SPRITE_NAME]))\n",
      "    \n",
      "                ## set sprite icon\n",
      "                numFrames = len(preloadedSpritePatches[i])\n",
      "                framePadding = int(numFrames*0.2)\n",
      "                bestFrame = framePadding\n",
      "                for j in xrange(framePadding, numFrames-framePadding) :\n",
      "                    patchSize = preloadedSpritePatches[i][j]['patch_size']\n",
      "                    bestPatchSize = preloadedSpritePatches[i][bestFrame]['patch_size']\n",
      "                    if np.abs(patchSize[0]*1.0/patchSize[1]-1) < np.abs(bestPatchSize[0]*1.0/bestPatchSize[1]-1) and np.prod(patchSize) > 60**2 :\n",
      "                        bestFrame = j\n",
      "                        \n",
      "                squareImg = np.ascontiguousarray(self.getSquareSpriteIconImg(bgImg, preloadedSpritePatches[i][bestFrame]))\n",
      "                self.spriteListTable.itemDelegateForRow(i).setIconImage(squareImg)\n",
      "                \n",
      "                if DICT_MEDIAN_COLOR in self.trackedSprites[i].keys() :\n",
      "                    col = self.trackedSprites[i][DICT_MEDIAN_COLOR]\n",
      "#                     self.spriteListTable.item(i, 0).setBackground(QtGui.QColor.fromRgb(col[0], col[1], col[2], 255))\n",
      "                    self.spriteListTable.itemDelegateForRow(i).setBackgroundColor(QtGui.QColor.fromRgb(col[0], col[1], col[2], 255))\n",
      "                    \n",
      "            self.currentSpriteIdx = 0\n",
      "                    \n",
      "        else :\n",
      "            self.spriteListModel.setRowCount(1)\n",
      "#             self.spriteListModel.setColumnCount(1)\n",
      "            \n",
      "            self.delegateList = [ListDelegate()]\n",
      "            self.spriteListTable.setItemDelegateForRow(0, self.delegateList[-1])\n",
      "            self.spriteListModel.setItem(0, 0, QtGui.QStandardItem(\"No tracked sprites\"))\n",
      "            \n",
      "    def getSquareSpriteIconImg(self, bgImg, spritePatch) :\n",
      "        spriteTopLeft = spritePatch['top_left_pos']\n",
      "        spritePatchSize = spritePatch['patch_size']\n",
      "        spriteIconImg = bgImg[spriteTopLeft[0] : spriteTopLeft[0] + spritePatchSize[0], spriteTopLeft[1] : spriteTopLeft[1] + spritePatchSize[1], [2, 1, 0]]\n",
      "        spriteIconImg[spritePatch['visible_indices'][:, 0], spritePatch['visible_indices'][:, 1], :] = spritePatch['sprite_colors'][:, 0:-1]\n",
      "        sizeDiff = np.abs(spritePatchSize[0] - spritePatchSize[1])\n",
      "        additiveBeginning = int(np.floor(sizeDiff/2.0))\n",
      "        if spritePatchSize[0] > spritePatchSize[1] :\n",
      "            newTopLeft = np.copy(spriteTopLeft)\n",
      "            newTopLeft[1] -= additiveBeginning\n",
      "            newPatchSize = np.copy(spritePatchSize)\n",
      "            newPatchSize[1] += sizeDiff\n",
      "            squareIconImg = bgImg[newTopLeft[0] : newTopLeft[0] + newPatchSize[0], newTopLeft[1] : newTopLeft[1] + newPatchSize[1], [2, 1, 0]]\n",
      "            squareIconImg[:, additiveBeginning:additiveBeginning+spritePatchSize[1], :] = spriteIconImg\n",
      "            finalPatch = np.ones((squareIconImg.shape[0], squareIconImg.shape[1], 4), dtype=np.uint8)*255\n",
      "            finalPatch[:, :, :-1] = squareIconImg\n",
      "#             return np.array(squareIconImg, dtype=np.uint8)\n",
      "        elif spritePatchSize[0] < spritePatchSize[1] :\n",
      "            newTopLeft = np.copy(spriteTopLeft)\n",
      "            newTopLeft[0] -= additiveBeginning\n",
      "            newPatchSize = np.copy(spritePatchSize)\n",
      "            newPatchSize[0] += sizeDiff\n",
      "            squareIconImg = bgImg[newTopLeft[0] : newTopLeft[0] + newPatchSize[0], newTopLeft[1] : newTopLeft[1] + newPatchSize[1], [2, 1, 0]]\n",
      "            squareIconImg[additiveBeginning:additiveBeginning+spritePatchSize[0], :, :] = spriteIconImg\n",
      "            finalPatch = np.ones((squareIconImg.shape[0], squareIconImg.shape[1], 4), dtype=np.uint8)*255\n",
      "            finalPatch[:, :, :-1] = squareIconImg\n",
      "#             return np.array(squareIconImg, dtype=np.uint8)\n",
      "        else :\n",
      "            finalPatch = np.ones((spriteIconImg.shape[0], spriteIconImg.shape[1], 4), dtype=np.uint8)*255\n",
      "            finalPatch[:, :, :-1] = spriteIconImg\n",
      "        \n",
      "#         figure(); imshow(finalPatch)\n",
      "        return cv2.resize(finalPatch, (self.LIST_SECTION_SIZE, self.LIST_SECTION_SIZE), interpolation=cv2.INTER_AREA) #finalPatch\n",
      "#         return np.array(spriteIconImg, dtype=np.uint8)\n",
      "            \n",
      "    def closeEvent(self, event) :\n",
      "        print \"closing\"\n",
      "        sys.stdout.flush()\n",
      "        ## saving sequence\n",
      "        if self.autoSaveBox.isChecked() and len(self.generatedSequence) > 0 :\n",
      "            fileName = \"generatedSequence-\" + datetime.datetime.now().strftime('%Y-%m-%d_%H:%M:%S')\n",
      "            np.save(dataPath + dataSet + fileName, self.generatedSequence)\n",
      "            print \"saved new sequence as \\\"\", fileName, \"\\\"\"\n",
      "            \n",
      "    def deleteGeneratedSequence(self) :\n",
      "        del self.generatedSequence\n",
      "        self.generatedSequence = []\n",
      "        \n",
      "        ## update sliders\n",
      "        self.frameIdxSlider.setMaximum(0)\n",
      "        self.frameIdxSpinBox.setRange(0, 0)\n",
      "        \n",
      "        self.frameInfo.setText(\"Info text\")\n",
      "        \n",
      "        self.frameIdxSpinBox.setValue(0)\n",
      "    \n",
      "    def mousePressed(self, event):\n",
      "#         print event.pos()\n",
      "#         sys.stdout.flush()\n",
      "        if event.button() == QtCore.Qt.LeftButton :\n",
      "            self.isScribbling = True\n",
      "            print \"left button clicked\"\n",
      "        elif event.button() == QtCore.Qt.RightButton :\n",
      "            print \"right button clicked\"\n",
      "        \n",
      "        sys.stdout.flush()\n",
      "                \n",
      "    def mouseMoved(self, event):\n",
      "        if self.isScribbling :\n",
      "            print \"scribbling\"\n",
      "            \n",
      "    def mouseReleased(self, event):\n",
      "        if self.isScribbling :\n",
      "            self.isScribbling = False\n",
      "            \n",
      "    def leaveOneOutExtension(self, leaveOutIdx, extensionLength, startFrame) :\n",
      "        extendMode = {}\n",
      "        for i in xrange(len(self.generatedSequence)) :\n",
      "            if i != leaveOutIdx :\n",
      "                extendMode[i] = self.DO_EXTEND\n",
      "        if len(extendMode) > 0 :\n",
      "            print \"extending existing sprites by\", extensionLength, \"frames and leaving out\", leaveOutIdx\n",
      "            self.extendSequence(self.extendSequenceTracksSemantics(extensionLength, extendMode), \n",
      "                                startFrame)\n",
      "            \n",
      "    def keyPressEvent(self, e) :\n",
      "        if e.key() == e.key() >= QtCore.Qt.Key_0 and e.key() <= QtCore.Qt.Key_9 :\n",
      "            pressedIdx = np.mod(e.key()-int(QtCore.Qt.Key_0), int(QtCore.Qt.Key_9))\n",
      "            print \"pressed key\", pressedIdx\n",
      "            \n",
      "        elif e.key() == QtCore.Qt.Key_Space :\n",
      "            if len(self.generatedSequence) > 0 :\n",
      "                self.frameIdxSpinBox.setValue(len(self.generatedSequence[0][DICT_SEQUENCE_FRAMES])-1)\n",
      "            extendMode = {}\n",
      "            for i in xrange(len(self.generatedSequence)) :\n",
      "                extendMode[i] = self.DO_EXTEND\n",
      "            if len(self.generatedSequence) > 0 :\n",
      "                self.extendSequence(self.extendSequenceTracksSemantics(self.EXTEND_LENGTH, extendMode), self.frameIdx)\n",
      "        elif e.key() == QtCore.Qt.Key_T :\n",
      "#             print self.currentSpriteIdx\n",
      "            if self.currentSpriteIdx >= 0 and self.currentSpriteIdx < len(self.trackedSprites) :\n",
      "                print \"spawning sprite\", self.trackedSprites[self.currentSpriteIdx][DICT_SPRITE_NAME]\n",
      "                ## spawn new sprite\n",
      "                self.addNewSpriteTrackToSequence(self.currentSpriteIdx)\n",
      "\n",
      "                if len(self.generatedSequence) > 0 :\n",
      "                    ## extend existing sprites if necessary\n",
      "                    if self.frameIdx > len(self.generatedSequence[0][DICT_SEQUENCE_FRAMES]) - self.EXTEND_LENGTH :\n",
      "#                         print self.frameIdx, len(self.generatedSequence[0][DICT_SEQUENCE_FRAMES]), self.EXTEND_LENGTH, 1, self.frameIdx-(len(self.generatedSequence[0][DICT_SEQUENCE_FRAMES]) - self.EXTEND_LENGTH) + 1\n",
      "                        self.leaveOneOutExtension(len(self.generatedSequence)-1, \n",
      "                                                  self.frameIdx-(len(self.generatedSequence[0][DICT_SEQUENCE_FRAMES]) - self.EXTEND_LENGTH) + 1, \n",
      "                                                  len(self.generatedSequence[0][DICT_SEQUENCE_FRAMES])-1)\n",
      "                        \n",
      "                    ## now toggle new sprite to visible\n",
      "#                     print \"toggling new sprite\"\n",
      "                    extendMode = {}\n",
      "                    extendMode[len(self.generatedSequence)-1] = self.DO_TOGGLE\n",
      "                    self.extendSequence(self.extendSequenceTracksSemantics(self.EXTEND_LENGTH, extendMode), \n",
      "                                        self.frameIdx, self.resolveCompatibilityBox.isChecked())\n",
      "                    \n",
      "                    ## check whether desired label has been reached and if not extend (need to actually do this but for now just check the sprite frame is larger than 0)\n",
      "                    while self.generatedSequence[-1][DICT_SEQUENCE_FRAMES][-1] < 1 :\n",
      "#                         print \"extending new sprite because semantics not reached\"\n",
      "                        ## extend existing sprites if necessary\n",
      "                        if len(self.generatedSequence[-1][DICT_SEQUENCE_FRAMES])-1 > len(self.generatedSequence[0][DICT_SEQUENCE_FRAMES]) - self.EXTEND_LENGTH :\n",
      "                            self.leaveOneOutExtension(len(self.generatedSequence)-1, \n",
      "                                                      len(self.generatedSequence[-1][DICT_SEQUENCE_FRAMES])-1-(len(self.generatedSequence[0][DICT_SEQUENCE_FRAMES]) - self.EXTEND_LENGTH) + 1, \n",
      "                                                      len(self.generatedSequence[0][DICT_SEQUENCE_FRAMES])-1)\n",
      "                            \n",
      "                        extendMode[len(self.generatedSequence)-1] = self.DO_EXTEND\n",
      "                        self.extendSequence(self.extendSequenceTracksSemantics(self.EXTEND_LENGTH, extendMode), \n",
      "                                            len(self.generatedSequence[-1][DICT_SEQUENCE_FRAMES])-1, \n",
      "                                            self.resolveCompatibilityBox.isChecked())\n",
      "                        \n",
      "#                     print \"toggling back new sprite\"\n",
      "                    ## toggle it back to not visible\n",
      "                    extendMode[len(self.generatedSequence)-1] = self.DO_TOGGLE\n",
      "                    self.extendSequence(self.extendSequenceTracksSemantics(self.EXTEND_LENGTH, extendMode), \n",
      "                                        len(self.generatedSequence[-1][DICT_SEQUENCE_FRAMES])-1)\n",
      "                    \n",
      "                    additionalFrames = len(self.generatedSequence[-1][DICT_SEQUENCE_FRAMES]) - len(self.generatedSequence[0][DICT_SEQUENCE_FRAMES])\n",
      "                    if additionalFrames < 0 :\n",
      "                        ## extend new sprite's sequence to match total sequence's length\n",
      "#                         print \"extending new sprite's sequence\"\n",
      "                        extendMode = {}\n",
      "                        extendMode[len(self.generatedSequence)-1] = self.DO_EXTEND\n",
      "                        self.extendSequence(self.extendSequenceTracksSemantics(-additionalFrames+1, extendMode), \n",
      "                                            len(self.generatedSequence[-1][DICT_SEQUENCE_FRAMES])-1)\n",
      "                    elif additionalFrames > 0 :\n",
      "                        ## extend existing sprites' sequences to match the new total sequence's length because of newly added sprite\n",
      "#                         print \"extending existing sprites' sequences\"\n",
      "                        extendMode = {}\n",
      "                        for i in xrange(len(self.generatedSequence)-1) :\n",
      "                            extendMode[i] = self.DO_EXTEND\n",
      "                        self.extendSequence(self.extendSequenceTracksSemantics(additionalFrames+1, extendMode), \n",
      "                                            len(self.generatedSequence[0][DICT_SEQUENCE_FRAMES])-1)\n",
      "                        \n",
      "                self.showFrame(self.frameIdx)   \n",
      "            \n",
      "        sys.stdout.flush()\n",
      "        \n",
      "    def checkIsCompatible(self, spriteIdx, spriteSequence, sequenceStartFrame) :\n",
      "        isSpriteCompatible = np.ones(len(spriteSequence), dtype=np.bool)\n",
      "        if spriteIdx >= 0 and spriteIdx < len(self.generatedSequence) :\n",
      "            spriteTotLength = len(self.trackedSprites[self.generatedSequence[spriteIdx][DICT_SPRITE_IDX]][DICT_BBOX_CENTERS])\n",
      "            spriteSemanticLabels = np.zeros((spriteTotLength+1, 2))\n",
      "            ## label 0 means sprite not visible (i.e. only show the first empty frame)\n",
      "            spriteSemanticLabels[0, 0] = 1.0\n",
      "            spriteSemanticLabels[1:, 1] = 1.0\n",
      "            for i in xrange(len(self.generatedSequence)) :\n",
      "                if i != spriteIdx :\n",
      "                    overlappingSpriteSequence = np.array(self.generatedSequence[i][DICT_SEQUENCE_FRAMES][sequenceStartFrame:sequenceStartFrame+len(spriteSequence)], dtype=int)\n",
      "#                     print overlappingSpriteSequence\n",
      "#                     print spriteSequence\n",
      "                    \n",
      "                    overlappingSpriteTotLength = len(self.trackedSprites[self.generatedSequence[i][DICT_SPRITE_IDX]][DICT_BBOX_CENTERS])\n",
      "                    overlappingSpriteSemanticLabels = np.zeros((overlappingSpriteTotLength+1, 2))\n",
      "                    ## label 0 means sprite not visible (i.e. only show the first empty frame)\n",
      "                    overlappingSpriteSemanticLabels[0, 0] = 1.0\n",
      "                    overlappingSpriteSemanticLabels[1:, 1] = 1.0\n",
      "                    \n",
      "                    areSpritesCompatible = np.zeros(len(spriteSequence), dtype=np.bool)\n",
      "                    \n",
      "                    ## if the semantic labels are different, the sprites are compatible with each in the reshuffling case but need to figure out how to deal with this\n",
      "                    ## in a general way\n",
      "        #             areSpritesCompatible[np.all(spriteSemanticLabels[overlappingSpriteSequence] != conflictingSpriteSemanticLabels[spriteSequence], axis = 1)] = True\n",
      "                    ### HACK ??? ### if one of the frame is 0 it means the two sprites are compatible\n",
      "                    areSpritesCompatible[np.any(np.array(np.vstack((overlappingSpriteSequence.reshape((1, len(overlappingSpriteSequence))),\n",
      "                                                                    spriteSequence.reshape((1, len(spriteSequence))))), dtype=int) == 0, axis = 0)] = True\n",
      "                    \n",
      "                    frameRanges = synchedSequence2FullOverlap(np.array(np.vstack((overlappingSpriteSequence.reshape((1, len(overlappingSpriteSequence)))-1,\n",
      "                                                                                  spriteSequence.reshape((1, len(spriteSequence)))-1)), dtype=int), \n",
      "                                                              np.array((overlappingSpriteTotLength, spriteTotLength)))\n",
      "                    \n",
      "#                     print np.array(np.vstack((overlappingSpriteSequence.reshape((1, len(overlappingSpriteSequence))),\n",
      "#                                                                     spriteSequence.reshape((1, len(spriteSequence))))), dtype=int)\n",
      "                    \n",
      "#                     print frameRanges\n",
      "                    \n",
      "                    if frameRanges != None :\n",
      "#                         totalDistance, distances = getOverlappingSpriteTracksDistance(self.trackedSprites[self.generatedSequence[i][DICT_SPRITE_IDX]], \n",
      "#                                                                                       self.trackedSprites[self.generatedSequence[spriteIdx][DICT_SPRITE_IDX]], frameRanges)\n",
      "                \n",
      "                        spriteIdxs = np.array([self.generatedSequence[i][DICT_SPRITE_IDX], self.generatedSequence[spriteIdx][DICT_SPRITE_IDX]])\n",
      "                        sortIdxs = np.argsort(spriteIdxs)\n",
      "                        pairing = np.string_(spriteIdxs[sortIdxs][0]) + np.string_(spriteIdxs[sortIdxs][1])\n",
      "                        pairingShift = frameRanges[sortIdxs, 0][1]-frameRanges[sortIdxs, 0][0]\n",
      "                        totalDistance = precomputedDistances[pairing][pairingShift]\n",
      "                \n",
      "#                         print \"lala\", totalDistance, precomputedDistances[pairing][pairingShift], spriteIdxs, pairing, pairingShift, spriteIdx, frameRanges[sortIdxs, 0]\n",
      "                        \n",
      "                        ## find all pairs of frame that show the same label as the desired label (i.e. [0.0, 1.0])\n",
      "                        tmp = np.all(overlappingSpriteSemanticLabels[overlappingSpriteSequence] == spriteSemanticLabels[spriteSequence], axis=1)\n",
      "                        if totalDistance > 5.0 : \n",
      "                            areSpritesCompatible[np.all((np.all(spriteSemanticLabels[spriteSequence] == np.array([0.0, 1.0]), axis=1), tmp), axis=0)] = True\n",
      "#                     else :\n",
      "#                         print \"sprites not overlapping\"\n",
      "#                     print \"areSpritesCompatible\", areSpritesCompatible\n",
      "                    \n",
      "                    isSpriteCompatible = np.all((isSpriteCompatible, areSpritesCompatible), axis=0)\n",
      "                    \n",
      "        return isSpriteCompatible\n",
      "            \n",
      "    def extendSequence(self, desiredSemantics, startingFrame, resolveCompatibility = False) :\n",
      "        self.frameInfo.setText(\"Extending sequence\")\n",
      "        QtCore.QCoreApplication.processEvents(QtCore.QEventLoop.ExcludeUserInputEvents)\n",
      "        \n",
      "        for i in desiredSemantics.keys() :\n",
      "            if i >= 0 and i < len(self.generatedSequence) :\n",
      "                spriteIdx = self.generatedSequence[i][DICT_SPRITE_IDX]\n",
      "                \n",
      "                ### HACK ### semanticLabels for each sprite are just saying that the first frame of the sprite sequence means sprite not visible and the rest mean it is\n",
      "                semanticLabels = np.zeros((len(self.trackedSprites[spriteIdx][DICT_BBOX_CENTERS])+1, 2))\n",
      "                ## label 0 means sprite not visible (i.e. only show the first empty frame)\n",
      "                semanticLabels[0, 0] = 1.0\n",
      "                semanticLabels[1:, 1] = 1.0\n",
      "                \n",
      "                ## set starting frame\n",
      "                if len(self.generatedSequence[i][DICT_SEQUENCE_FRAMES]) == 0 :\n",
      "                    desiredStartFrame = 0\n",
      "                else :\n",
      "                    desiredStartFrame = self.generatedSequence[i][DICT_SEQUENCE_FRAMES][startingFrame]\n",
      "                \n",
      "                ## do dynamic programming optimization\n",
      "                unaries, pairwise = getMRFCosts(semanticLabels, desiredSemantics[i], desiredStartFrame, len(desiredSemantics[i]))\n",
      "#                 print unaries\n",
      "#                 print pairwise\n",
      "#                 print desiredSemantics[i]\n",
      "#                 print desiredStartFrame, len(desiredSemantics[i])\n",
      "                \n",
      "                ## now try and do the optimization completely vectorized\n",
      "                ## number of edges connected to each label node of variable n (pairwise stores node at arrow tail as cols and at arrow head as rows)\n",
      "                maxEdgesPerLabel = np.max(np.sum(np.array(pairwise.T != np.max(pairwise.T), dtype=int), axis=-1))\n",
      "                ## initialize this to index of connected label node with highest edge cost (which is then used as padding)\n",
      "                ## it contains for each label node of variable n (indexed by rows), all the label nodes of variable n-1 it is connected to by non infinite cost edge (indexed by cols)\n",
      "                nodesConnectedToLabel = np.argmax(pairwise.T, axis=-1).reshape((len(pairwise.T), 1)).repeat(maxEdgesPerLabel, axis=-1)\n",
      "                \n",
      "                sparseIndices = np.where(pairwise != np.max(pairwise))\n",
      "                # print sparseIndices\n",
      "                tailIndices = sparseIndices[0]\n",
      "                headIndices = sparseIndices[1]\n",
      "                \n",
      "                ## this contains which label of variable n-1 is connected to which label of variable n\n",
      "                indicesInLabelSpace = [list(tailIndices[np.where(headIndices == headIdx)[0]]) for headIdx in np.unique(headIndices)]\n",
      "                \n",
      "                for headLabel, tailLabels in zip(arange(0, len(nodesConnectedToLabel)), indicesInLabelSpace) :\n",
      "                    nodesConnectedToLabel[headLabel, 0:len(tailLabels)] = tailLabels\n",
      "                    \n",
      "#                 print nodesConnectedToLabel\n",
      "                                \n",
      "                minCostTraversal, minCost = solveSparseDynProgMRF(unaries.T, pairwise.T, nodesConnectedToLabel)#solveMRF(unaries, pairwise)\n",
      "                \n",
      "                if resolveCompatibility :\n",
      "#                     print \"resolving compatibility\", i, startingFrame\n",
      "                    \n",
      "                    self.frameInfo.setText(\"Optimizing sequence - resolving compatibility\")\n",
      "                    QtCore.QCoreApplication.processEvents(QtCore.QEventLoop.ExcludeUserInputEvents)\n",
      "                    \n",
      "                    isSpriteCompatible = self.checkIsCompatible(i, minCostTraversal, startingFrame)\n",
      "#                     print isSpriteCompatible\n",
      "#                     print len(isSpriteCompatible)\n",
      "                    count = 0\n",
      "                    while True :\n",
      "                        count += 1\n",
      "                        if np.any(np.negative(isSpriteCompatible)) :\n",
      "                            ## when I do the check for all the sprites in the sequence I would have to take an AND over all the isSpriteCompatible arrays but now I know there's only 1 sprite\n",
      "                            \n",
      "                            ## change the unaries to increase the cost for the frames where the isSpriteCompatible is False\n",
      "                            unaries[np.arange(len(minCostTraversal), dtype=int)[np.negative(isSpriteCompatible)], minCostTraversal[np.negative(isSpriteCompatible)]] += 1000.0\n",
      "                        #     gwv.showCustomGraph(unaries)\n",
      "                            tic = time.time()\n",
      "                            minCostTraversal, minCost = solveSparseDynProgMRF(unaries.T, pairwise.T, nodesConnectedToLabel)#solveMRF(unaries, pairwise)\n",
      "#                             if True or np.mod(count, 20) == 0 :\n",
      "#                                 print \"iteration\", count, \": solved traversal for sprite\", i , \"in\", time.time() - tic, \n",
      "#                                 print \"num of zeros:\", len(np.argwhere(minCostTraversal == 0)); sys.stdout.flush()\n",
      "                            \n",
      "#                                 self.frameInfo.setText(\"Optimizing sequence - resolving compatibility \" + np.string_(count))\n",
      "#                                 QtCore.QCoreApplication.processEvents(QtCore.QEventLoop.ExcludeUserInputEvents)\n",
      "#                                 print minCostTraversal, minCost\n",
      "\n",
      "                            isSpriteCompatible = self.checkIsCompatible(i, minCostTraversal, startingFrame)\n",
      "#                             if count == 200 :\n",
      "#                                 break\n",
      "                        else :\n",
      "                            print \"done\"\n",
      "#                             print minCostTraversal\n",
      "                            break\n",
      "#                     gwv.showCustomGraph(unaries[1:, :])\n",
      "                \n",
      "                ## update dictionary\n",
      "                # don't take the first frame of the minCostTraversal as it would just repeat the last seen frame\n",
      "#                 print i\n",
      "#                 print self.generatedSequence[i][DICT_SEQUENCE_FRAMES][:startingFrame+1]\n",
      "#                 print minCostTraversal[1:]\n",
      "                self.generatedSequence[i][DICT_SEQUENCE_FRAMES] = np.hstack((self.generatedSequence[i][DICT_SEQUENCE_FRAMES][:startingFrame+1], minCostTraversal[1:]))\n",
      "                self.generatedSequence[i][DICT_DESIRED_SEMANTICS] = np.vstack((self.generatedSequence[i][DICT_DESIRED_SEMANTICS][:startingFrame+1],\n",
      "                                                                               desiredSemantics[i][1:, :]))\n",
      "                \n",
      "                \n",
      "                ## update sliders\n",
      "                self.frameIdxSlider.setMaximum(len(self.generatedSequence[i][DICT_SEQUENCE_FRAMES])-1)\n",
      "                self.frameIdxSpinBox.setRange(0, len(self.generatedSequence[i][DICT_SEQUENCE_FRAMES])-1)\n",
      "                \n",
      "                self.frameInfo.setText(\"Generated sequence length: \" + np.string_(len(self.generatedSequence[i][DICT_SEQUENCE_FRAMES])))\n",
      "                QtCore.QCoreApplication.processEvents(QtCore.QEventLoop.ExcludeUserInputEvents)\n",
      "                    \n",
      "#                 print \"sequence with\", len(self.generatedSequence), \"sprites, extended by\", len(desiredSemantics[i])-1, \"frames\"\n",
      "\n",
      "        self.setSemanticsToDraw()\n",
      "    \n",
      "    def extendSequenceTracksSemantics(self, length, mode) :\n",
      "        spriteSemantics = {}\n",
      "        ## mode contains the way the track is extended (one of DO_EXTEND, DO_TOGGLE, DO_BURST)\n",
      "        for i in mode.keys() :\n",
      "            if i >= 0 and i < len(self.generatedSequence) :\n",
      "                if len(self.generatedSequence[i][DICT_DESIRED_SEMANTICS]) > 0 :\n",
      "                    currentSemantics = self.generatedSequence[i][DICT_DESIRED_SEMANTICS][-1, :].reshape((1, 2))\n",
      "                else :\n",
      "                    ## hardcoded desired \"not show\" label\n",
      "                    currentSemantics = np.array([1.0, 0.0]).reshape((1, 2))\n",
      "                    \n",
      "                desiredSemantics = np.array([1.0, 0.0]).reshape((1, 2)).repeat(length, axis=0)\n",
      "                if mode[i] == self.DO_EXTEND :\n",
      "                    ## extend semantics\n",
      "                    desiredSemantics = currentSemantics.repeat(length, axis=0)\n",
      "                elif mode[i] == self.DO_TOGGLE :\n",
      "                    ## toggle semantics\n",
      "                    desiredSemantics = self.toggleSequenceTrackSemantics(currentSemantics, length, self.TOGGLE_DELAY)\n",
      "                elif mode[i] == self.DO_BURST :\n",
      "                    ## burst toggle semantics from current to toggle and back to current\n",
      "                    desiredSemantics = self.burstSemanticsToggle(currentSemantics, length, self.BURST_ENTER_DELAY, self.BURST_EXIT_DELAY)\n",
      "                        \n",
      "                spriteSemantics[i] = desiredSemantics\n",
      "                    \n",
      "        return spriteSemantics\n",
      "    \n",
      "    def toggleSequenceTrackSemantics(self, startSemantics, length, toggleDelay) :\n",
      "        desiredSemantics = startSemantics.reshape((1, 2))\n",
      "        desiredSemantics = np.concatenate((desiredSemantics, toggleLabelsSmoothly(startSemantics.reshape((1, 2)), toggleDelay)))\n",
      "        desiredSemantics = np.concatenate((desiredSemantics, np.roll(startSemantics.reshape((1, 2)), 1).repeat(length-toggleDelay-1, axis=0)))\n",
      "        \n",
      "        return desiredSemantics\n",
      "        \n",
      "    def burstSemanticsToggle(self, startSemantics, length, enterDelay, exitDelay):\n",
      "        desiredSemantics = startSemantics.reshape((1, 2))\n",
      "        desiredSemantics = np.concatenate((desiredSemantics, toggleLabelsSmoothly(startSemantics.reshape((1, 2)), enterDelay)))\n",
      "        desiredSemantics = np.concatenate((desiredSemantics, np.roll(startSemantics.reshape((1, 2)), 1).repeat(length-2*(enterDelay+exitDelay), axis=0)))\n",
      "        desiredSemantics = np.concatenate((desiredSemantics, toggleLabelsSmoothly(np.roll(startSemantics.reshape((1, 2)), 1).reshape((1, 2)), exitDelay)))\n",
      "        desiredSemantics = np.concatenate((desiredSemantics, startSemantics.reshape((1, 2)).repeat(enterDelay+exitDelay-1, axis=0)))\n",
      "        \n",
      "        return desiredSemantics\n",
      "    \n",
      "    def addNewSpriteTrackToSequence(self, spriteIdx) :\n",
      "        if spriteIdx >= 0 and spriteIdx < len(self.trackedSprites) :\n",
      "#             print \"adding new sprite to sequence\"\n",
      "            self.generatedSequence.append({\n",
      "                                           DICT_SPRITE_IDX:spriteIdx,\n",
      "                                           DICT_SPRITE_NAME:self.trackedSprites[spriteIdx][DICT_SPRITE_NAME],\n",
      "                                           DICT_SEQUENCE_FRAMES:np.empty(0, dtype=int),\n",
      "                                           DICT_DESIRED_SEMANTICS:np.empty((0, 2), dtype=float)#[],\n",
      "#                                                DICT_FRAME_SEMANTIC_TOGGLE:[]\n",
      "                                          })\n",
      "            if len(self.generatedSequence) > 1 :\n",
      "                ## just hardcode filling the new sprite's sequence of frames and semantics to the \"not shown\" label\n",
      "                maxFrames = len(self.generatedSequence[0][DICT_SEQUENCE_FRAMES])\n",
      "                self.generatedSequence[-1][DICT_DESIRED_SEMANTICS] = np.array([1.0, 0.0]).reshape((1, 2)).repeat(maxFrames, axis=0)\n",
      "                self.generatedSequence[-1][DICT_SEQUENCE_FRAMES] = np.zeros(maxFrames)\n",
      "                \n",
      "        \n",
      "    def eventFilter(self, obj, event) :\n",
      "        if obj == self.frameLabel and event.type() == QtCore.QEvent.Type.MouseMove :\n",
      "            self.mouseMoved(event)\n",
      "            return True\n",
      "        elif obj == self.frameLabel and event.type() == QtCore.QEvent.Type.MouseButtonPress :\n",
      "            self.mousePressed(event)\n",
      "            return True\n",
      "        elif obj == self.frameLabel and event.type() == QtCore.QEvent.Type.MouseButtonRelease :\n",
      "            self.mouseReleased(event)\n",
      "            return True\n",
      "        elif (obj == self.frameIdxSpinBox or obj == self.frameIdxSlider) and event.type() == QtCore.QEvent.Type.KeyPress :\n",
      "            self.keyPressEvent(event)\n",
      "            return True\n",
      "        return QtGui.QWidget.eventFilter(self, obj, event)\n",
      "    \n",
      "    def playSequenceButtonPressed(self) :\n",
      "        if self.doPlaySequence :\n",
      "            self.doPlaySequence = False\n",
      "            self.playSequenceButton.setIcon(self.playIcon)\n",
      "            self.playTimer.stop()\n",
      "            \n",
      "            self.frameInfo.setText(self.oldInfoText)\n",
      "        else :\n",
      "            self.lastRenderTime = time.time()\n",
      "            self.doPlaySequence = True\n",
      "            self.playSequenceButton.setIcon(self.pauseIcon)\n",
      "            self.playTimer.start()\n",
      "            \n",
      "            self.oldInfoText = self.frameInfo.text()\n",
      "            \n",
      "    def setRenderFps(self, value) :\n",
      "        self.playTimer.setInterval(1000/value)\n",
      "        \n",
      "    def setSemanticsToDraw(self) :\n",
      "        if len(self.generatedSequence) > 0  :\n",
      "            self.semanticsToDraw = []\n",
      "            numOfFrames = 1\n",
      "            for i in xrange(0, len(self.generatedSequence)):\n",
      "                spriteIdx = self.generatedSequence[i][DICT_SPRITE_IDX]\n",
      "                if DICT_MEDIAN_COLOR in self.trackedSprites[spriteIdx].keys() :\n",
      "                    col = self.trackedSprites[spriteIdx][DICT_MEDIAN_COLOR]\n",
      "                else :\n",
      "                    col = np.array([0, 0, 0])\n",
      "                ## if the sprite is ever visible\n",
      "                if len(np.argwhere(self.generatedSequence[i][DICT_SEQUENCE_FRAMES] != 0)) > 0 :\n",
      "                    self.semanticsToDraw.append({\n",
      "                                                    DRAW_COLOR:col,\n",
      "                                                    DRAW_FIRST_FRAME:np.argwhere(self.generatedSequence[i][DICT_SEQUENCE_FRAMES] != 0)[0, 0], \n",
      "                                                    DRAW_LAST_FRAME:np.argwhere(self.generatedSequence[i][DICT_SEQUENCE_FRAMES] != 0)[-1, 0]\n",
      "                                                })\n",
      "                else :\n",
      "                    print \"invisible sprite in generated sequence\"\n",
      "                numOfFrames = np.max((numOfFrames, len(self.generatedSequence[i][DICT_SEQUENCE_FRAMES])-0.5))\n",
      "                \n",
      "            self.frameIdxSlider.setSemanticsToDraw(self.semanticsToDraw, numOfFrames)\n",
      "        \n",
      "    def createGUI(self) :\n",
      "        \n",
      "        ## WIDGETS ##\n",
      "        \n",
      "        self.frameLabel = ImageLabel(\"Frame\")\n",
      "        self.frameLabel.setSizePolicy(QtGui.QSizePolicy.MinimumExpanding, QtGui.QSizePolicy.MinimumExpanding)\n",
      "        self.frameLabel.setAlignment(QtCore.Qt.AlignCenter | QtCore.Qt.AlignHCenter)\n",
      "        self.frameLabel.installEventFilter(self)\n",
      "        \n",
      "        self.frameInfo = QtGui.QLabel(\"Info text\")\n",
      "        self.frameInfo.setAlignment(QtCore.Qt.AlignCenter | QtCore.Qt.AlignHCenter)\n",
      "        \n",
      "        self.frameIdxSlider = SemanticsSlider(QtCore.Qt.Horizontal)\n",
      "        self.frameIdxSlider.setSizePolicy(QtGui.QSizePolicy.MinimumExpanding, QtGui.QSizePolicy.Minimum)\n",
      "        self.frameIdxSlider.setFocusPolicy(QtCore.Qt.StrongFocus)\n",
      "        self.frameIdxSlider.setTickPosition(QtGui.QSlider.TicksBothSides)\n",
      "        self.frameIdxSlider.setMinimum(0)\n",
      "        self.frameIdxSlider.setMaximum(0)\n",
      "        self.frameIdxSlider.setTickInterval(50)\n",
      "        self.frameIdxSlider.setSingleStep(1)\n",
      "        self.frameIdxSlider.setPageStep(100)\n",
      "        self.frameIdxSlider.installEventFilter(self)\n",
      "    \n",
      "        self.frameIdxSpinBox = QtGui.QSpinBox()\n",
      "        self.frameIdxSpinBox.setRange(0, 0)\n",
      "        self.frameIdxSpinBox.setSingleStep(1)\n",
      "        self.frameIdxSpinBox.installEventFilter(self)\n",
      "        \n",
      "        self.renderFpsSpinBox = QtGui.QSpinBox()\n",
      "        self.renderFpsSpinBox.setRange(1, 60)\n",
      "        self.renderFpsSpinBox.setSingleStep(1)\n",
      "        self.renderFpsSpinBox.setValue(30)\n",
      "        \n",
      "#         self.spriteListTable = QtGui.QTableWidget(1, 1)\n",
      "#         self.spriteListTable.horizontalHeader().setStretchLastSection(True)\n",
      "#         self.spriteListTable.setHorizontalHeaderItem(0, QtGui.QTableWidgetItem(\"Tracked sprites\"))\n",
      "#         self.spriteListTable.horizontalHeader().setResizeMode(QtGui.QHeaderView.Fixed)\n",
      "#         self.spriteListTable.setSizePolicy(QtGui.QSizePolicy.Minimum, QtGui.QSizePolicy.MinimumExpanding)\n",
      "#         self.spriteListTable.setEditTriggers(QtGui.QAbstractItemView.NoEditTriggers)\n",
      "#         self.spriteListTable.setSelectionBehavior(QtGui.QAbstractItemView.SelectRows)\n",
      "#         self.spriteListTable.setSelectionMode(QtGui.QAbstractItemView.SingleSelection)\n",
      "#         self.spriteListTable.setItem(0, 0, QtGui.QTableWidgetItem(\"No tracked sprites\"))\n",
      "#         self.spriteListTable.setStyleSheet(\"QTableWidget::item:selected { background-color: rgba(255, 0, 0, 30) }\")\n",
      "\n",
      "\n",
      "        self.spriteListModel = QtGui.QStandardItemModel(1, 1)\n",
      "        self.spriteListModel.setHorizontalHeaderLabels([\"Tracked sprites\"])\n",
      "        self.spriteListModel.setItem(0, 0, QtGui.QStandardItem(\"No tracked sprites\"))\n",
      "        \n",
      "        self.spriteListTable = QtGui.QTableView()\n",
      "        self.spriteListTable.setEditTriggers(QtGui.QAbstractItemView.NoEditTriggers)\n",
      "        self.spriteListTable.setSelectionBehavior(QtGui.QAbstractItemView.SelectRows)\n",
      "        self.spriteListTable.setSelectionMode(QtGui.QAbstractItemView.SingleSelection)\n",
      "        self.spriteListTable.horizontalHeader().setStretchLastSection(True)\n",
      "        self.spriteListTable.horizontalHeader().setResizeMode(QtGui.QHeaderView.Fixed)\n",
      "        self.spriteListTable.setSizePolicy(QtGui.QSizePolicy.Minimum, QtGui.QSizePolicy.MinimumExpanding)\n",
      "        self.spriteListTable.verticalHeader().setVisible(False)\n",
      "        self.spriteListTable.verticalHeader().setDefaultSectionSize(self.LIST_SECTION_SIZE)\n",
      "\n",
      "        self.delegateList = [ListDelegate()]\n",
      "        self.spriteListTable.setItemDelegateForRow(0, self.delegateList[-1])\n",
      "        self.spriteListTable.setModel(self.spriteListModel)\n",
      "        \n",
      "        \n",
      "        \n",
      "        self.drawSpritesBox = QtGui.QCheckBox(\"Render Sprites\")\n",
      "        self.drawSpritesBox.setChecked(True)\n",
      "        self.drawBBoxBox = QtGui.QCheckBox(\"Render Bounding Box\")\n",
      "        self.drawCenterBox = QtGui.QCheckBox(\"Render BBox Center\")\n",
      "        \n",
      "        self.playSequenceButton = QtGui.QToolButton()\n",
      "        self.playSequenceButton.setToolTip(\"Play Generated Sequence\")\n",
      "        self.playSequenceButton.setCheckable(False)\n",
      "        self.playSequenceButton.setShortcut(QtGui.QKeySequence(\"Alt+P\"))\n",
      "        self.playSequenceButton.setSizePolicy(QtGui.QSizePolicy.MinimumExpanding, QtGui.QSizePolicy.Maximum)\n",
      "        self.playSequenceButton.setIcon(self.playIcon)\n",
      "        \n",
      "        self.autoSaveBox = QtGui.QCheckBox(\"Autosave\")\n",
      "#         self.autoSaveBox.setChecked(True)\n",
      "        \n",
      "        self.deleteSequenceButton = QtGui.QPushButton(\"Delete Sequence\")\n",
      "        \n",
      "        self.resolveCompatibilityBox = QtGui.QCheckBox(\"Resolve Compatibility\")\n",
      "        self.resolveCompatibilityBox.setChecked(True)\n",
      "        \n",
      "        \n",
      "        ## SIGNALS ##\n",
      "        \n",
      "        self.frameIdxSlider.valueChanged[int].connect(self.frameIdxSpinBox.setValue)\n",
      "        self.frameIdxSpinBox.valueChanged[int].connect(self.frameIdxSlider.setValue)\n",
      "        self.frameIdxSpinBox.valueChanged[int].connect(self.showFrame)\n",
      "        \n",
      "        self.renderFpsSpinBox.valueChanged[int].connect(self.setRenderFps)\n",
      "        \n",
      "#         self.spriteListTable.currentCellChanged.connect(self.changeSprite)\n",
      "#         self.spriteListTable.cellPressed.connect(self.changeSprite)\n",
      "        \n",
      "        self.spriteListTable.clicked.connect(self.changeSprite)\n",
      "        \n",
      "        self.playSequenceButton.clicked.connect(self.playSequenceButtonPressed)\n",
      "        self.deleteSequenceButton.clicked.connect(self.deleteGeneratedSequence)\n",
      "        \n",
      "        ## LAYOUTS ##\n",
      "        \n",
      "        mainLayout = QtGui.QHBoxLayout()\n",
      "        \n",
      "        renderingControls = QtGui.QGroupBox(\"Rendering Controls\")\n",
      "        renderingControls.setStyleSheet(\"QGroupBox { margin: 5px; border: 2px groove gray; border-radius: 3px; } QGroupBox::title {left: 15px; top: -7px; font: bold;}\")\n",
      "        renderingControlsLayout = QtGui.QVBoxLayout()\n",
      "        renderingControlsLayout.addWidget(self.drawSpritesBox)\n",
      "        renderingControlsLayout.addWidget(self.drawBBoxBox)\n",
      "        renderingControlsLayout.addWidget(self.drawCenterBox)\n",
      "        renderingControlsLayout.addWidget(self.playSequenceButton)\n",
      "        renderingControlsLayout.addWidget(self.renderFpsSpinBox)\n",
      "        renderingControls.setLayout(renderingControlsLayout)\n",
      "        \n",
      "        \n",
      "        sequenceControls = QtGui.QGroupBox(\"Sequence Controls\")\n",
      "        sequenceControls.setStyleSheet(\"QGroupBox { margin: 5px; border: 2px groove gray; border-radius: 3px; } QGroupBox::title {left: 15px; top: -7px; font: bold;}\")\n",
      "        sequenceControlsLayout = QtGui.QVBoxLayout()\n",
      "        sequenceControlsLayout.addWidget(self.resolveCompatibilityBox)\n",
      "        sequenceControlsLayout.addWidget(self.deleteSequenceButton)\n",
      "        sequenceControlsLayout.addWidget(self.autoSaveBox)\n",
      "        sequenceControls.setLayout(sequenceControlsLayout)\n",
      "        \n",
      "        \n",
      "        controlsLayout = QtGui.QVBoxLayout()\n",
      "        controlsLayout.addWidget(self.spriteListTable)\n",
      "        controlsLayout.addWidget(renderingControls)\n",
      "        controlsLayout.addWidget(sequenceControls)\n",
      "        \n",
      "        sliderLayout = QtGui.QHBoxLayout()\n",
      "        sliderLayout.addWidget(self.frameIdxSlider)\n",
      "        sliderLayout.addWidget(self.frameIdxSpinBox)\n",
      "        \n",
      "        frameHLayout = QtGui.QHBoxLayout()\n",
      "        frameHLayout.addStretch()\n",
      "        frameHLayout.addWidget(self.frameLabel)\n",
      "        frameHLayout.addStretch()\n",
      "        \n",
      "        frameVLayout = QtGui.QVBoxLayout()\n",
      "        frameVLayout.addStretch()\n",
      "        frameVLayout.addLayout(frameHLayout)\n",
      "        frameVLayout.addStretch()\n",
      "        frameVLayout.addLayout(sliderLayout)\n",
      "        frameVLayout.addWidget(self.frameInfo)\n",
      "        \n",
      "        mainLayout.addLayout(controlsLayout)\n",
      "        mainLayout.addLayout(frameVLayout)\n",
      "        self.setLayout(mainLayout)"
     ],
     "language": "python",
     "metadata": {},
     "outputs": [],
     "prompt_number": 16
    },
    {
     "cell_type": "code",
     "collapsed": false,
     "input": [
      "window = Window()\n",
      "window.show()\n",
      "app.exec_()"
     ],
     "language": "python",
     "metadata": {},
     "outputs": [
      {
       "output_type": "stream",
       "stream": "stdout",
       "text": [
        "left button clicked\n"
       ]
      },
      {
       "output_type": "stream",
       "stream": "stdout",
       "text": [
        "right button clicked\n"
       ]
      },
      {
       "output_type": "stream",
       "stream": "stdout",
       "text": [
        "right button clicked\n"
       ]
      },
      {
       "output_type": "stream",
       "stream": "stdout",
       "text": [
        "right button clicked\n"
       ]
      },
      {
       "output_type": "stream",
       "stream": "stdout",
       "text": [
        "closing\n"
       ]
      },
      {
       "metadata": {},
       "output_type": "pyout",
       "prompt_number": 17,
       "text": [
        "0"
       ]
      }
     ],
     "prompt_number": 17
    },
    {
     "cell_type": "code",
     "collapsed": false,
     "input": [
      "## try the compositing\n",
      "sprite1 = np.array(Image.open(dataPath+dataSet+\"blue_orange_bus1-maskedFlow-blended/frame-02880.png\"))\n",
      "sprite2 = np.array(Image.open(dataPath+dataSet+\"white_bus1-maskedFlow-blended/frame-01047.png\"))\n",
      "bgPlusSprite1 = sprite1[:, :, :-1]*(sprite1[:, :, -1].reshape((720, 1280, 1))/255.0)\n",
      "bgPlusSprite1 = np.array(bgPlusSprite1 + Image.open(dataPath+dataSet+\"median.png\")*(1.0-sprite1[:, :, -1].reshape((720, 1280, 1))/255.0), dtype=np.uint8)\n",
      "\n",
      "bgPlusSprite2 = sprite2[:, :, :-1]*(sprite2[:, :, -1].reshape((720, 1280, 1))/255.0)\n",
      "bgPlusSprite2 = np.array(bgPlusSprite2 + Image.open(dataPath+dataSet+\"median.png\")*(1.0-sprite2[:, :, -1].reshape((720, 1280, 1))/255.0), dtype=np.uint8)\n",
      "\n",
      "diffColor1 = np.sum((Image.open(dataPath+dataSet+\"median.png\")-bgPlusSprite1)**2, axis=-1)\n",
      "diffColor2 = np.sum((Image.open(dataPath+dataSet+\"median.png\")-bgPlusSprite2)**2, axis=-1)\n",
      "# diffColor1 += (sprite1[:, :, -1] == 0)*np.max(diffColor1)\n",
      "# diffColor2 += (sprite2[:, :, -1] == 0)*np.max(diffColor2)\n",
      "\n",
      "print np.max(diffColor1)\n",
      "print np.max(diffColor2)\n",
      "thresh = 200\n",
      "# firstIf = np.argwhere(diffColor2 > thresh)\n",
      "# secondIf = np.argwhere(diffColor1 > thresh)\n",
      "# thridIf = np.argwhere(diffColor1 > diffColor2)\n",
      "\n",
      "# result = np.copy(bgPlusSprite2)\n",
      "# result[firstIf[:, 0], firstIf[:, 1], :] = bgPlusSprite2[firstIf[:, 0], firstIf[:, 1], :]\n",
      "# result[secondIf[:, 0], secondIf[:, 1], :] = bgPlusSprite1[secondIf[:, 0], secondIf[:, 1], :]\n",
      "# result[thridIf[:, 0], thridIf[:, 1], :] = bgPlusSprite1[thridIf[:, 0], thridIf[:, 1], :]\n",
      "\n",
      "result = np.zeros_like(bgPlusSprite1)\n",
      "for i in xrange(diffColor1.shape[0]) :\n",
      "    for j in xrange(diffColor1.shape[1]) :\n",
      "            \n",
      "        if diffColor1[i, j] > thresh and sprite1[i, j, -1] != 0 :\n",
      "            result[i, j, :] = sprite1[i, j, :-1]\n",
      "            \n",
      "        if diffColor2[i, j] > thresh and sprite2[i, j, -1] != 0 :\n",
      "            result[i, j, :] = sprite2[i, j, :-1]\n",
      "            \n",
      "#         elif diffColor1[i, j] > diffColor2[i, j] :\n",
      "#             result[i, j, :] = bgPlusSprite1[i, j, :]\n",
      "            \n",
      "#         else :\n",
      "#             result[i, j, :] = bgPlusSprite2[i, j, :]\n",
      "            \n",
      "figure(); imshow(result)\n",
      "# Image.fromarray(result).save(\"/home/ilisescu/result.png\")"
     ],
     "language": "python",
     "metadata": {},
     "outputs": [
      {
       "output_type": "stream",
       "stream": "stdout",
       "text": [
        "747\n",
        "747\n"
       ]
      },
      {
       "metadata": {},
       "output_type": "pyout",
       "prompt_number": 100,
       "text": [
        "<matplotlib.image.AxesImage at 0x7f6da88ca7d0>"
       ]
      }
     ],
     "prompt_number": 100
    },
    {
     "cell_type": "code",
     "collapsed": false,
     "input": [
      "def multivariateNormal(data, mean, var, normalized = True) :\n",
      "    if (data.shape[0] != mean.shape[0] or np.any(data.shape[0] != np.array(var.shape)) \n",
      "        or len(var.shape) != 2 or var.shape[0] != var.shape[1]) :\n",
      "        raise Exception(\"Data shapes don't agree data(\" + np.string_(data.shape) + \") mean(\" + np.string_(mean.shape) + \n",
      "                        \") var(\" + np.string_(var.shape) + \")\")\n",
      "        \n",
      "    D = float(data.shape[0])\n",
      "    n = (1/(np.power(2.0*np.pi, D/2.0)*np.sqrt(np.linalg.det(var))))\n",
      "    if normalized :\n",
      "        p = n*np.exp(-0.5*np.sum(np.dot((data-mean).T, np.linalg.inv(var))*(data-mean).T, axis=-1))\n",
      "    else :\n",
      "        p = np.exp(-0.5*np.sum(np.dot((data-mean).T, np.linalg.inv(var))*(data-mean).T, axis=-1))\n",
      "        \n",
      "    return p\n",
      "\n",
      "def minusLogMultivariateNormal(data, mean, var, normalized = True) :\n",
      "    if (data.shape[0] != mean.shape[0] or np.any(data.shape[0] != np.array(var.shape)) \n",
      "        or len(var.shape) != 2 or var.shape[0] != var.shape[1]) :\n",
      "        raise Exception(\"Data shapes don't agree data(\" + np.string_(data.shape) + \") mean(\" + np.string_(mean.shape) + \n",
      "                        \") var(\" + np.string_(var.shape) + \")\")\n",
      "    \n",
      "    D = float(data.shape[0])\n",
      "    n = -0.5*np.log(np.linalg.det(var))-(D/2.0)*np.log(2.0*np.pi)\n",
      "    if normalized :\n",
      "        p = n -0.5*np.sum(np.dot((data-mean).T, np.linalg.inv(var))*(data-mean).T, axis=-1)\n",
      "    else :\n",
      "        p = -0.5*np.sum(np.dot((data-mean).T, np.linalg.inv(var))*(data-mean).T, axis=-1)\n",
      "        \n",
      "    return -p\n",
      "\n",
      "def vectorisedMinusLogMultiNormal(dataPoints, means, var, normalized = True) :\n",
      "    if (dataPoints.shape[1] != means.shape[1] or np.any(dataPoints.shape[1] != np.array(var.shape)) \n",
      "        or len(var.shape) != 2 or var.shape[0] != var.shape[1]) :\n",
      "        raise Exception(\"Data shapes don't agree data(\" + np.string_(dataPoints.shape) + \") mean(\" + np.string_(means.shape) + \n",
      "                        \") var(\" + np.string_(var.shape) + \")\")\n",
      "    \n",
      "    D = float(dataPoints.shape[1])\n",
      "    n = -0.5*np.log(np.linalg.det(var))-(D/2.0)*np.log(2.0*np.pi)\n",
      "    \n",
      "    ## this does 0.5*dot(dot(data-mean, varInv), data-mean)\n",
      "    varInv = np.linalg.inv(var)\n",
      "    dataMinusMean = dataPoints-means\n",
      "    \n",
      "    ps = []\n",
      "    for i in xrange(int(D)) :\n",
      "        ps.append(np.sum((dataMinusMean)*varInv[:, i], axis=-1))\n",
      "    \n",
      "    ps = np.array(ps).T\n",
      "    \n",
      "    ps = -0.5*np.sum(ps*(dataMinusMean), axis=-1)\n",
      "    \n",
      "    if normalized :\n",
      "        return n-ps\n",
      "    else :\n",
      "        return -ps"
     ],
     "language": "python",
     "metadata": {},
     "outputs": [],
     "prompt_number": 9
    },
    {
     "cell_type": "code",
     "collapsed": false,
     "input": [
      "## used for enlarging bbox used to decide size of patch around it (percentage)\n",
      "PATCH_BORDER = 0.4\n",
      "def getSpritePatch(sprite, frameKey, frameWidth, frameHeight) :\n",
      "    \"\"\"Computes sprite patch based on its bbox\n",
      "    \n",
      "        \\t  sprite      : dictionary containing relevant sprite data\n",
      "        \\t  frameKey    : the key of the frame the sprite patch is taken from\n",
      "        \\t  frameWidth  : width of original image\n",
      "        \\t  frameHeight : height of original image\n",
      "           \n",
      "        return: spritePatch, offset, patchSize,\n",
      "                [left, top, bottom, right] : array of booleans telling whether the expanded bbox touches the corresponding border of the image\"\"\"\n",
      "    \n",
      "    ## get the bbox for the current sprite frame, make it larger and find the rectangular patch to work with\n",
      "    ## boundaries of the patch [min, max]\n",
      "    \n",
      "    ## returns sprite patch based on bbox and returns it along with the offset [x, y] and it's size [rows, cols]\n",
      "    \n",
      "    ## make bbox bigger\n",
      "    largeBBox = sprite[DICT_BBOXES][frameKey].T\n",
      "    ## move to origin\n",
      "    largeBBox = np.dot(np.array([[-sprite[DICT_BBOX_CENTERS][frameKey][0], 1.0, 0.0], \n",
      "                                 [-sprite[DICT_BBOX_CENTERS][frameKey][1], 0.0, 1.0]]), \n",
      "                        np.vstack((np.ones((1, largeBBox.shape[1])), largeBBox)))\n",
      "    ## make bigger\n",
      "    largeBBox = np.dot(np.array([[0.0, 1.0 + PATCH_BORDER, 0.0], \n",
      "                                 [0.0, 0.0, 1.0 + PATCH_BORDER]]), \n",
      "                        np.vstack((np.ones((1, largeBBox.shape[1])), largeBBox)))\n",
      "    ## move back tooriginal center\n",
      "    largeBBox = np.dot(np.array([[sprite[DICT_BBOX_CENTERS][frameKey][0], 1.0, 0.0], \n",
      "                                 [sprite[DICT_BBOX_CENTERS][frameKey][1], 0.0, 1.0]]), \n",
      "                        np.vstack((np.ones((1, largeBBox.shape[1])), largeBBox)))\n",
      "    \n",
      "    xBounds = np.zeros(2); yBounds = np.zeros(2)\n",
      "    \n",
      "    ## make sure xBounds are in between 0 and width and yBounds are in between 0 and height\n",
      "    xBounds[0] = np.max((0, np.min(largeBBox[0, :])))\n",
      "    xBounds[1] = np.min((frameWidth, np.max(largeBBox[0, :])))\n",
      "    yBounds[0] = np.max((0, np.min(largeBBox[1, :])))\n",
      "    yBounds[1] = np.min((frameHeight, np.max(largeBBox[1, :])))\n",
      "    \n",
      "    offset = np.array([np.round(np.array([xBounds[0], yBounds[0]]))], dtype=int).T # [x, y]\n",
      "    patchSize = np.array(np.round(np.array([yBounds[1]-yBounds[0], xBounds[1]-xBounds[0]])), dtype=int) # [rows, cols]\n",
      "    \n",
      "    spritePatch = np.array(Image.open(sprite[DICT_FRAMES_LOCATIONS][frameKey]))[offset[1]:offset[1]+patchSize[0], offset[0]:offset[0]+patchSize[1], :]\n",
      "    \n",
      "    return spritePatch, offset, patchSize, [np.min((largeBBox)[0, :]) > 0.0 ,\n",
      "                                            np.min((largeBBox)[1, :]) > 0.0 ,\n",
      "                                            np.max((largeBBox)[1, :]) < frameHeight,\n",
      "                                            np.max((largeBBox)[0, :]) < frameWidth]\n",
      "\n",
      "\n",
      "def getPatchPriors(bgPatch, spritePatch, offset, patchSize, sprite, frameKey, prevFrameKey = None, prevFrameAlphaLoc = \"\",\n",
      "                   prevMaskImportance = 0.8, prevMaskDilate = 13, prevMaskBlurSize = 31, prevMaskBlurSigma = 2.5,\n",
      "                   diffPatchImportance = 0.015, diffPatchMultiplier = 1000.0, useOpticalFlow = True, useDiffPatch = False) :\n",
      "    \"\"\"Computes priors for background and sprite patches\n",
      "    \n",
      "        \\t  bgPatch             : background patch\n",
      "        \\t  spritePatch         : sprite patch\n",
      "        \\t  offset              : [x, y] position of patches in the coordinate system of the original images\n",
      "        \\t  patchSize           : num of [rows, cols] per patches\n",
      "        \\t  sprite              : dictionary containing relevant sprite data\n",
      "        \\t  frameKey            : the key of the frame the sprite patch is taken from\n",
      "        \\t  prevFrameKey        : the key of the previous frame\n",
      "        \\t  prevFrameAlphaLoc   : location of the previous frame\n",
      "        \\t  prevMaskImportance  : balances the importance of the prior based on the remapped mask of the previous frame\n",
      "        \\t  prevMaskDilate      : amount of dilation to perform on previous frame's mask\n",
      "        \\t  prevMaskBlurSize    : size of the blurring kernel perfomed on previous frame's mask\n",
      "        \\t  prevMaskBlurSigma   : variance of the gaussian blurring perfomed on previous frame's mask\n",
      "        \\t  diffPatchImportance : balances the importance of the prior based on difference of patch to background\n",
      "        \\t  diffPatchMultiplier : multiplier that changes the scaling of the difference based cost\n",
      "        \\t  useOpticalFlow      : modify sprite prior by the mask of the previous frame\n",
      "        \\t  useDiffPatch        : modify bg prior by difference of sprite to bg patch\n",
      "           \n",
      "        return: bgPrior, spritePrior\"\"\"\n",
      "    \n",
      "    ## get uniform prior for bg patch\n",
      "    bgPrior = -np.log(np.ones(patchSize)/np.prod(patchSize))\n",
      "    \n",
      "    ## get prior for sprite patch\n",
      "    spritePrior = np.zeros(patchSize)\n",
      "    xs = np.ndarray.flatten(np.arange(patchSize[1], dtype=float).reshape((patchSize[1], 1)).repeat(patchSize[0], axis=-1))\n",
      "    ys = np.ndarray.flatten(np.arange(patchSize[0], dtype=float).reshape((1, patchSize[0])).repeat(patchSize[1], axis=0))\n",
      "    data = np.vstack((xs.reshape((1, len(xs))), ys.reshape((1, len(ys)))))\n",
      "    \n",
      "    ## get covariance and means of prior on patch by using the bbox\n",
      "    spriteBBox = sprite[DICT_BBOXES][frameKey].T\n",
      "    segment1 = spriteBBox[:, 0] - spriteBBox[:, 1]\n",
      "    segment2 = spriteBBox[:, 1] - spriteBBox[:, 2]\n",
      "    sigmaX = np.linalg.norm(segment1)/3.7\n",
      "    sigmaY = np.linalg.norm(segment2)/3.7\n",
      "    \n",
      "    rotRadians = sprite[DICT_BBOX_ROTATIONS][frameKey]\n",
      "    \n",
      "    rotMat = np.array([[np.cos(rotRadians), -np.sin(rotRadians)], [np.sin(rotRadians), np.cos(rotRadians)]])\n",
      "    \n",
      "    means = np.reshape(sprite[DICT_BBOX_CENTERS][frameKey], (2, 1)) - offset\n",
      "    covs = np.dot(np.dot(rotMat.T, np.array([[sigmaX**2, 0.0], [0.0, sigmaY**2]])), rotMat)\n",
      "    \n",
      "    spritePrior = np.reshape(minusLogMultivariateNormal(data, means, covs, True), patchSize, order='F')\n",
      "    \n",
      "    ## change the spritePrior using optical flow stuff\n",
      "    if useOpticalFlow and prevFrameKey != None :\n",
      "        prevFrameName = sprite[DICT_FRAMES_LOCATIONS][prevFrameKey].split('/')[-1]\n",
      "        nextFrameName = sprite[DICT_FRAMES_LOCATIONS][frameKey].split('/')[-1]\n",
      "        \n",
      "        if os.path.isfile(prevFrameAlphaLoc+prevFrameName) :\n",
      "            alpha = np.array(Image.open(prevFrameAlphaLoc+prevFrameName))[:, :, -1]/255.0\n",
      "\n",
      "            flow = cv2.calcOpticalFlowFarneback(cv2.cvtColor(np.array(Image.open(dataPath+dataSet+nextFrameName)), cv2.COLOR_RGB2GRAY), \n",
      "                                                cv2.cvtColor(np.array(Image.open(dataPath+dataSet+prevFrameName)), cv2.COLOR_RGB2GRAY), \n",
      "                                                0.5, 3, 15, 3, 5, 1.1, 0)\n",
      "        \n",
      "            ## remap alpha according to flow\n",
      "            remappedFg = cv2.remap(alpha, flow[:, :, 0]+allXs, flow[:, :, 1]+allYs, cv2.INTER_LINEAR)\n",
      "            ## get patch\n",
      "            remappedFgPatch = remappedFg[offset[1]:offset[1]+patchSize[0], offset[0]:offset[0]+patchSize[1]]\n",
      "            remappedFgPatch = cv2.GaussianBlur(cv2.morphologyEx(remappedFgPatch, cv2.MORPH_DILATE, \n",
      "                                                                cv2.getStructuringElement(cv2.MORPH_ELLIPSE, (prevMaskDilate, prevMaskDilate))), \n",
      "                                               (prevMaskBlurSize, prevMaskBlurSize), prevMaskBlurSigma)\n",
      "\n",
      "            spritePrior = (1.0-prevMaskImportance)*spritePrior + prevMaskImportance*(-np.log((remappedFgPatch+0.01)/np.sum(remappedFgPatch+0.01)))\n",
      "    \n",
      "    \n",
      "    if useDiffPatch :\n",
      "        ## change the background prior to give higher cost for pixels to be classified as background if the difference between bgPatch and spritePatch is high\n",
      "        diffPatch = np.reshape(vectorisedMinusLogMultiNormal(spritePatch.reshape((np.prod(patchSize), 3)), \n",
      "                                                             bgPatch.reshape((np.prod(patchSize), 3)), \n",
      "                                                             np.eye(3)*diffPatchMultiplier, True), patchSize)\n",
      "        bgPrior = (1.0-diffPatchImportance)*bgPrior + diffPatchImportance*diffPatch\n",
      "        \n",
      "    \n",
      "    return bgPrior, spritePrior"
     ],
     "language": "python",
     "metadata": {},
     "outputs": [],
     "prompt_number": 7
    },
    {
     "cell_type": "code",
     "collapsed": false,
     "input": [
      "print trackedSprites[5][DICT_SPRITE_NAME]"
     ],
     "language": "python",
     "metadata": {},
     "outputs": [
      {
       "output_type": "stream",
       "stream": "stdout",
       "text": [
        "pink_car1\n"
       ]
      }
     ],
     "prompt_number": 210
    },
    {
     "cell_type": "code",
     "collapsed": false,
     "input": [
      "fullSprite1Prior = np.zeros(bgImage.shape[0:2])\n",
      "fullSprite1Prior[offset[1]:offset[1]+patchSize[0], offset[0]:offset[0]+patchSize[1]] = np.copy(1.0-spritePrior/np.max(spritePrior))\n",
      "gwv.showCustomGraph(fullSprite1Prior)"
     ],
     "language": "python",
     "metadata": {},
     "outputs": [],
     "prompt_number": 158
    },
    {
     "cell_type": "code",
     "collapsed": false,
     "input": [
      "bgImage = np.array(Image.open(dataPath+dataSet+\"median.png\"))\n",
      "## Sprite below\n",
      "# f = 2889\n",
      "# spriteIdx = 2\n",
      "# f = 4758\n",
      "# spriteIdx = 4\n",
      "# f = 4377\n",
      "# spriteIdx = 5\n",
      "# f = 1046      ### composite this with C to show compositing efficiencey against simple thresholding\n",
      "# spriteIdx = 8\n",
      "# f = 4731\n",
      "# spriteIdx = 4\n",
      "# f = 2933\n",
      "# spriteIdx = 2\n",
      "f = 850      ### composite this with A to show compositing efficiencey against simple thresholding\n",
      "spriteIdx = 8\n",
      "# f = 1190     ### composite this with B to show compositing efficiencey against simple thresholding\n",
      "# spriteIdx = 8\n",
      "sprite1 = np.array(Image.open(dataPath+dataSet+trackedSprites[spriteIdx][DICT_SPRITE_NAME]+\"-maskedFlow-blended/frame-{0:05d}.png\".format(f+1)))\n",
      "spritePatch, offset, patchSize, touchedBorders = getSpritePatch(trackedSprites[spriteIdx], f, bgImage.shape[1], bgImage.shape[0])\n",
      "bgPrior, spritePrior = getPatchPriors(bgImage[offset[1]:offset[1]+patchSize[0], offset[0]:offset[0]+patchSize[1], :], \n",
      "                                      spritePatch, offset, patchSize, trackedSprites[spriteIdx], f)\n",
      "fullSprite1Prior = np.zeros(bgImage.shape[0:2])\n",
      "fullSprite1Prior[offset[1]:offset[1]+patchSize[0], offset[0]:offset[0]+patchSize[1]] = np.copy(1.0-spritePrior/np.max(spritePrior))\n",
      "fullSprite1Prior /= np.max(fullSprite1Prior)\n",
      "\n",
      "## Sprite above\n",
      "# f = 1046\n",
      "# f = 996\n",
      "# spriteIdx = 8\n",
      "# f = 1182     ### this is C\n",
      "# spriteIdx = 8\n",
      "# f = 2933\n",
      "# spriteIdx = 2\n",
      "# f = 4373\n",
      "# spriteIdx = 5\n",
      "f = 2927     ### this is A\n",
      "spriteIdx = 2\n",
      "# f = 1046\n",
      "# spriteIdx = 8\n",
      "# f = 4648     ### this is B\n",
      "# spriteIdx = 1\n",
      "sprite2 = np.array(Image.open(dataPath+dataSet+trackedSprites[spriteIdx][DICT_SPRITE_NAME]+\"-maskedFlow-blended/frame-{0:05d}.png\".format(f+1)))\n",
      "spritePatch, offset, patchSize, touchedBorders = getSpritePatch(trackedSprites[spriteIdx], f, bgImage.shape[1], bgImage.shape[0])\n",
      "bgPrior, spritePrior = getPatchPriors(bgImage[offset[1]:offset[1]+patchSize[0], offset[0]:offset[0]+patchSize[1], :], \n",
      "                                      spritePatch, offset, patchSize, trackedSprites[spriteIdx], f)\n",
      "fullSprite2Prior = np.zeros(bgImage.shape[0:2])\n",
      "fullSprite2Prior[offset[1]:offset[1]+patchSize[0], offset[0]:offset[0]+patchSize[1]] = np.copy(1.0-spritePrior/np.max(spritePrior))\n",
      "fullSprite2Prior /= np.max(fullSprite2Prior)\n",
      "\n",
      "\n",
      "#######\n",
      "\n",
      "bgImage = np.array(Image.open(dataPath+dataSet+\"median.png\"))\n",
      "\n",
      "compositedImage = np.copy(sprite1[:, :, :-1])*(sprite1[:, :, -1].reshape((720, 1280, 1))/255.0)\n",
      "compositedImage += np.copy(bgImage)*(1.0-sprite1[:, :, -1].reshape((720, 1280, 1))/255.0)\n",
      "compositedImage = (compositedImage*(1.0-sprite2[:, :, -1].reshape((720, 1280, 1))/255.0) + \n",
      "                   np.copy(sprite2[:, :, :-1])*(sprite2[:, :, -1].reshape((720, 1280, 1))/255.0))\n",
      "compositedImage = np.array(compositedImage, dtype=np.uint8)\n",
      "\n",
      "thresh = 1.2\n",
      "# thresh = 1.31\n",
      "ambiguousIdxs = np.argwhere(np.all(((sprite1[:, :, -1] != 0).reshape((sprite1.shape[0], sprite1.shape[1], 1)),\n",
      "                         (sprite2[:, :, -1] != 0).reshape((sprite2.shape[0], sprite2.shape[1], 1))), axis=0)[:, :, -1])\n",
      "\n",
      "alpha = 0.0235\n",
      "kSize = 15\n",
      "sigma = 11\n",
      "diffSprite1 = np.zeros(bgImage.shape[0:2])\n",
      "diffSprite1[ambiguousIdxs[:, 0], ambiguousIdxs[:, 1]] = np.sqrt(np.sum((bgImage[ambiguousIdxs[:, 0], ambiguousIdxs[:, 1], :]-\n",
      "                                                                        sprite1[ambiguousIdxs[:, 0], ambiguousIdxs[:, 1], :-1])**2, axis=-1))\n",
      "diffSprite1 = cv2.GaussianBlur(diffSprite1, (kSize, kSize), sigma)\n",
      "# diffSprite1 = cv2.adaptiveBilateralFilter(np.array(diffSprite1, dtype=np.float32), (8, 8), 5)\n",
      "diffSprite1 = diffSprite1*alpha+(1.0-alpha)*fullSprite1Prior\n",
      "\n",
      "diffSprite2 = np.zeros(bgImage.shape[0:2])\n",
      "diffSprite2[ambiguousIdxs[:, 0], ambiguousIdxs[:, 1]] = np.sqrt(np.sum((bgImage[ambiguousIdxs[:, 0], ambiguousIdxs[:, 1], :]-\n",
      "                                                                        sprite2[ambiguousIdxs[:, 0], ambiguousIdxs[:, 1], :-1])**2, axis=-1))\n",
      "diffSprite2 = cv2.GaussianBlur(diffSprite2, (kSize, kSize), sigma)#*1.2\n",
      "diffSprite2 = diffSprite2*alpha+(1.0-alpha)*fullSprite2Prior\n",
      "\n",
      "print np.max(diffSprite1), np.max(diffSprite2)\n",
      "\n",
      "tmp = np.zeros(bgImage.shape[0:2])\n",
      "for (i, j) in ambiguousIdxs :\n",
      "    if diffSprite2[i, j] > thresh :\n",
      "        compositedImage[i, j, :] = sprite2[i, j, :-1]\n",
      "        tmp[i, j] = 1\n",
      "    elif diffSprite1[i, j] > thresh :\n",
      "        compositedImage[i, j, :] = sprite1[i, j, :-1]\n",
      "        tmp[i, j] = 2\n",
      "    elif diffSprite1[i, j] > diffSprite2[i, j] :\n",
      "        compositedImage[i, j, :] = sprite1[i, j, :-1]\n",
      "        tmp[i, j] = 2\n",
      "    else :\n",
      "        compositedImage[i, j, :] = sprite2[i, j, :-1]\n",
      "        tmp[i, j] = 1\n",
      "#     if diffSprite1 > thresh:\n",
      "#         compositedImage[i, j, :] = sprite1[i, j, :-1]\n",
      "\n",
      "#     if diffSprite2 > thresh :\n",
      "#         compositedImage[i, j, :] = sprite2[i, j, :-1]\n",
      "\n",
      "\n",
      "\n",
      "\n",
      "colorDiffSprite1 = np.sqrt(np.sum((bgImage/255.0 - sprite1[:, :, :-1]/255.0)**2, axis=-1))\n",
      "colorDiffSprite1 *= sprite1[:, :, -1]\n",
      "colorDiffSprite1 = cv2.GaussianBlur(colorDiffSprite1, (kSize, kSize), sigma)\n",
      "\n",
      "thresholdedSprite1Alpha = np.zeros((bgImage.shape[0], bgImage.shape[1], 1))\n",
      "thresh = 39.0\n",
      "for (i, j) in np.argwhere(sprite1[:, :, -1] != 0) :\n",
      "#     if diffSprite1[i, j] > thresh :\n",
      "#     if np.sqrt(np.sum((bgImage[i, j, :] - sprite1[i, j, :-1])**2, axis=-1)) > thresh :\n",
      "    if colorDiffSprite1[i, j] > thresh :\n",
      "        thresholdedSprite1Alpha[i, j] = 1\n",
      "\n",
      "        \n",
      "colorDiffSprite2 = np.sqrt(np.sum((bgImage/255.0 - sprite2[:, :, :-1]/255.0)**2, axis=-1))\n",
      "colorDiffSprite2 *= sprite2[:, :, -1]\n",
      "colorDiffSprite2 = cv2.GaussianBlur(colorDiffSprite2, (kSize, kSize), sigma)\n",
      "\n",
      "thresholdedSprite2Alpha = np.zeros((bgImage.shape[0], bgImage.shape[1], 1))\n",
      "for (i, j) in np.argwhere(sprite2[:, :, -1] != 0) :\n",
      "#     if diffSprite2[i, j] > thresh :\n",
      "#     if np.sqrt(np.sum((bgImage[i, j, :] - sprite2[i, j, :-1])**2, axis=-1)) > thresh :\n",
      "    if colorDiffSprite2[i, j] > thresh :\n",
      "        thresholdedSprite2Alpha[i, j] = 1\n",
      "    \n",
      "figure(); imshow(compositedImage)\n",
      "# gwv.showCustomGraph(tmp)\n",
      "# gwv.showCustomGraph(diffSprite1)\n",
      "# gwv.showCustomGraph(diffSprite2)\n",
      "# gwv.showCustomGraph(thresholdedSprite1Alpha[:, :, -1])\n",
      "# gwv.showCustomGraph(thresholdedSprite2Alpha[:, :, -1])\n",
      "figure(); imshow(np.array(bgImage*(1.0-np.any((thresholdedSprite1Alpha == 1, thresholdedSprite2Alpha == 1), axis=0)) + \n",
      "                          sprite1[:, :, :-1]*(np.all((thresholdedSprite1Alpha == 1, thresholdedSprite2Alpha == 0), axis=0)) +\n",
      "                          sprite2[:, :, :-1]*thresholdedSprite2Alpha, dtype=np.uint8))"
     ],
     "language": "python",
     "metadata": {},
     "outputs": [
      {
       "output_type": "stream",
       "stream": "stdout",
       "text": [
        "1.37452252595 1.3548042539\n"
       ]
      },
      {
       "metadata": {},
       "output_type": "pyout",
       "prompt_number": 14,
       "text": [
        "<matplotlib.image.AxesImage at 0x7f519c93b150>"
       ]
      }
     ],
     "prompt_number": 14
    },
    {
     "cell_type": "code",
     "collapsed": false,
     "input": [
      "figure()\n",
      "imshow(np.concatenate((cv2.cvtColor(np.array(Image.open(\"/media/ilisescu/Data1/PhD/data/wave1/frame-00025.png\")), cv2.COLOR_RGB2GRAY).reshape((720, 1280, 1)),\n",
      "                       cv2.cvtColor(np.array(Image.open(\"/media/ilisescu/Data1/PhD/data/wave2/frame-00009.png\")), cv2.COLOR_RGB2GRAY).reshape((720, 1280, 1)),\n",
      "                       cv2.cvtColor(np.array(Image.open(\"/media/ilisescu/Data1/PhD/data/wave3/frame-00028.png\")), cv2.COLOR_RGB2GRAY).reshape((720, 1280, 1))), axis=-1))"
     ],
     "language": "python",
     "metadata": {},
     "outputs": [
      {
       "metadata": {},
       "output_type": "pyout",
       "prompt_number": 27,
       "text": [
        "<matplotlib.image.AxesImage at 0x7f519c673750>"
       ]
      }
     ],
     "prompt_number": 27
    },
    {
     "cell_type": "code",
     "collapsed": false,
     "input": [
      "print np.concatenate((np.array(Image.open(\"/media/ilisescu/Data1/PhD/data/wave1/frame-00025.png\"))[:, :, 0].reshape((720, 1280, 1)), \n",
      "                       np.array(Image.open(\"/media/ilisescu/Data1/PhD/data/wave2/frame-00009.png\"))[:, :, 1].reshape((720, 1280, 1)), \n",
      "                       np.array(Image.open(\"/media/ilisescu/Data1/PhD/data/wave3/frame-00028.png\"))[:, :, 2].reshape((720, 1280, 1))), axis=-1).shape"
     ],
     "language": "python",
     "metadata": {},
     "outputs": [
      {
       "output_type": "stream",
       "stream": "stdout",
       "text": [
        "(720, 1280, 3)\n"
       ]
      }
     ],
     "prompt_number": 25
    },
    {
     "cell_type": "code",
     "collapsed": false,
     "input": [
      "# tmp = np.zeros(compositedImage.shape[0:2])\n",
      "# tmp[ambiguousIdxs[:, 0],ambiguousIdxs[:, 1]] = 1\n",
      "gwv.showCustomGraph(tmp)"
     ],
     "language": "python",
     "metadata": {},
     "outputs": [],
     "prompt_number": 15
    },
    {
     "cell_type": "code",
     "collapsed": false,
     "input": [
      "# Image.fromarray(compositedImage).save(\"/home/ilisescu/PhD/compositedVsThresholded/whiteBusVsWhiteBus/composited.png\")\n",
      "Image.fromarray(np.array(bgImage*(1.0-np.any((thresholdedSprite1Alpha == 1, thresholdedSprite2Alpha == 1), axis=0)) + \n",
      "                          sprite1[:, :, :-1]*(np.all((thresholdedSprite1Alpha == 1, thresholdedSprite2Alpha == 0), axis=0)) +\n",
      "                          sprite2[:, :, :-1]*thresholdedSprite2Alpha, dtype=np.uint8)).save(\"/home/ilisescu/PhD/compositedVsThresholded/whiteBusVsWhiteBus/thresholded6.png\")"
     ],
     "language": "python",
     "metadata": {},
     "outputs": [],
     "prompt_number": 174
    },
    {
     "cell_type": "code",
     "collapsed": false,
     "input": [
      "gwv.showCustomGraph(colorDiffSprite2)"
     ],
     "language": "python",
     "metadata": {},
     "outputs": [],
     "prompt_number": 47
    },
    {
     "cell_type": "code",
     "collapsed": false,
     "input": [
      "gwv.showCustomGraph(diffSprite2)\n",
      "gwv.showCustomGraph(fullSprite2Prior)\n",
      "alpha = 0.05\n",
      "gwv.showCustomGraph(diffSprite2*alpha+(1.0-alpha)*(fullSprite2Prior/np.max(fullSprite2Prior)))"
     ],
     "language": "python",
     "metadata": {},
     "outputs": [],
     "prompt_number": 175
    },
    {
     "cell_type": "code",
     "collapsed": false,
     "input": [
      "# gwv.showCustomGraph(cv2.morphologyEx(tmp, cv2.MORPH_OPEN, cv2.getStructuringElement(cv2.MORPH_ELLIPSE, (5, 5))))\n",
      "diffSprite1 = np.zeros(bgImage.shape[0:2])\n",
      "diffSprite1[ambiguousIdxs[:, 0], ambiguousIdxs[:, 1]] = np.sqrt(np.sum((bgImage[ambiguousIdxs[:, 0], ambiguousIdxs[:, 1], :]-\n",
      "                                                                        sprite1[ambiguousIdxs[:, 0], ambiguousIdxs[:, 1], :-1])**2, axis=-1))\n",
      "diffSprite2 = np.zeros(bgImage.shape[0:2])\n",
      "diffSprite2[ambiguousIdxs[:, 0], ambiguousIdxs[:, 1]] = np.sqrt(np.sum((bgImage[ambiguousIdxs[:, 0], ambiguousIdxs[:, 1], :]-\n",
      "                                                                        sprite2[ambiguousIdxs[:, 0], ambiguousIdxs[:, 1], :-1])**2, axis=-1))\n",
      "gwv.showCustomGraph(cv2.GaussianBlur(diffSprite1, (15, 15), 5))"
     ],
     "language": "python",
     "metadata": {},
     "outputs": [],
     "prompt_number": 96
    },
    {
     "cell_type": "code",
     "collapsed": false,
     "input": [
      "tmp = np.zeros_like(bgPlusSprite1)\n",
      "ambiguousIdxs = np.argwhere(np.all(((sprite1[:, :, -1] != 0).reshape((sprite1.shape[0], sprite1.shape[1], 1)),\n",
      "                         (sprite2[:, :, -1] != 0).reshape((sprite2.shape[0], sprite2.shape[1], 1))), axis=0)[:, :, -1])\n",
      "tmp[idxs[:, 0], idxs[:, 1]] = 255\n",
      "figure(); imshow(tmp)"
     ],
     "language": "python",
     "metadata": {},
     "outputs": [
      {
       "metadata": {},
       "output_type": "pyout",
       "prompt_number": 54,
       "text": [
        "<matplotlib.image.AxesImage at 0x7f6da96951d0>"
       ]
      }
     ],
     "prompt_number": 54
    },
    {
     "cell_type": "code",
     "collapsed": false,
     "input": [
      "np.all(((sprite1[:, :, -1] != 0).reshape((sprite1.shape[0], sprite1.shape[1], 1)),\n",
      "                         (sprite2[:, :, -1] != 0).reshape((sprite2.shape[0], sprite2.shape[1], 1))), axis=-1).shape"
     ],
     "language": "python",
     "metadata": {},
     "outputs": [
      {
       "metadata": {},
       "output_type": "pyout",
       "prompt_number": 51,
       "text": [
        "(2, 720, 1280)"
       ]
      }
     ],
     "prompt_number": 51
    },
    {
     "cell_type": "code",
     "collapsed": false,
     "input": [
      "figure(); imshow(diffColor2)"
     ],
     "language": "python",
     "metadata": {},
     "outputs": [
      {
       "metadata": {},
       "output_type": "pyout",
       "prompt_number": 29,
       "text": [
        "<matplotlib.image.AxesImage at 0x7f6daa2b50d0>"
       ]
      }
     ],
     "prompt_number": 29
    },
    {
     "cell_type": "code",
     "collapsed": false,
     "input": [
      "im = window.spriteListTable.itemDelegateForRow(11).iconImage\n",
      "qim = QtGui.QImage(im.data, im.shape[1], im.shape[0], im.strides[0], QtGui.QImage.Format_ARGB32)\n",
      "qim.save(\"tralala.png\")"
     ],
     "language": "python",
     "metadata": {},
     "outputs": [
      {
       "metadata": {},
       "output_type": "pyout",
       "prompt_number": 534,
       "text": [
        "True"
       ]
      }
     ],
     "prompt_number": 534
    },
    {
     "cell_type": "code",
     "collapsed": false,
     "input": [
      "for i in xrange(5):#len(preloadedSpritePatches)) :\n",
      "    numFrames = len(preloadedSpritePatches[i])\n",
      "    framePadding = int(numFrames*0.2)\n",
      "    bestFrame = framePadding\n",
      "    for j in xrange(framePadding, numFrames-framePadding) :\n",
      "        patchSize = preloadedSpritePatches[i][j]['patch_size']\n",
      "        bestPatchSize = preloadedSpritePatches[i][bestFrame]['patch_size']\n",
      "        if np.abs(patchSize[0]*1.0/patchSize[1]-1) < np.abs(bestPatchSize[0]*1.0/bestPatchSize[1]-1) and  np.prod(patchSize) > 50**2 :\n",
      "#             print np.abs(patchSize[0]*1.0/patchSize[1]-1)\n",
      "            bestFrame = j\n",
      "    print i, bestFrame, \n",
      "    spritePatch = preloadedSpritePatches[i][bestFrame]\n",
      "    reconstructedImg = np.ascontiguousarray(np.zeros((spritePatch['patch_size'][0], spritePatch['patch_size'][1], 4)), dtype=np.uint8)\n",
      "    reconstructedImg[spritePatch['visible_indices'][:, 0], spritePatch['visible_indices'][:, 1], :] = spritePatch['sprite_colors']\n",
      "    print reconstructedImg.shape\n",
      "#     figure(); imshow(reconstructedImg)"
     ],
     "language": "python",
     "metadata": {},
     "outputs": [
      {
       "output_type": "stream",
       "stream": "stdout",
       "text": [
        "0 218 (150, 178, 4)\n",
        "1 438 (66, 66, 4)\n",
        "2 105 (168, 331, 4)\n",
        "3 532 (51, 51, 4)\n",
        "4 535 (52, 52, 4)\n"
       ]
      }
     ],
     "prompt_number": 566
    },
    {
     "cell_type": "code",
     "collapsed": false,
     "input": [
      "figure(); imshow(reconstructedImg)"
     ],
     "language": "python",
     "metadata": {},
     "outputs": [
      {
       "metadata": {},
       "output_type": "pyout",
       "prompt_number": 563,
       "text": [
        "<matplotlib.image.AxesImage at 0x7ff7fa98a110>"
       ]
      }
     ],
     "prompt_number": 563
    },
    {
     "cell_type": "code",
     "collapsed": false,
     "input": [
      "print window.generatedSequence[0][DICT_SEQUENCE_FRAMES]\n",
      "print np.argwhere(window.generatedSequence[0][DICT_SEQUENCE_FRAMES] != 0)[0, 0]\n",
      "print np.argwhere(window.generatedSequence[0][DICT_SEQUENCE_FRAMES] != 0)[-1, 0]"
     ],
     "language": "python",
     "metadata": {},
     "outputs": [
      {
       "output_type": "stream",
       "stream": "stdout",
       "text": [
        "[  0   0   0   0   0   1   2   3   4   5   6   7   8   9  10  11  12  13\n",
        "  14  15  16  17  18  19  20  21  22  23  24  25  26  27  28  29  30  31\n",
        "  32  33  34  35  36  37  38  39  40  41  42  43  44  45  46  47  48  49\n",
        "  50  51  52  53  54  55  56  57  58  59  60  61  62  63  64  65  66  67\n",
        "  68  69  70  71  72  73  74  75  76  77  78  79  80  81  82  83  84  85\n",
        "  86  87  88  89  90  91  92  93  94  95  96  97  98  99 100 101 102 103\n",
        " 104 105 106 107 108 109 110 111 112 113 114 115 116 117 118 119 120 121\n",
        " 122 123 124 125 126 127 128 129 130 131 132 133 134 135 136 138 139 140\n",
        " 141 142 143 144 145 146 147 148 149 150 151 199 200 201 202 203 204 205\n",
        " 206 207 208 212 213 214 215 216 217 218 219 220 221 222 223 224 225 226\n",
        " 227 228 229 230 231 232 233 234 235 236 237 238 239 240 241 242 243 244\n",
        " 245 246 247 248 249 250 251 252 253 254 255 256 257 258 259 260 261 262\n",
        " 263 264 265 266 267 268 269 270 271 272 273 274 275 276 277 278 279 280\n",
        " 281 282 283 284 285 286 287 288 289 290 291 292 293 294 295 296 297 298\n",
        " 299 300 301 302 303 304 305 306 307 308 309 310 311 312 313 314 315 316\n",
        " 317 318 319 320 321 322 323 324 325 326 327 328 329 330 331 332 333 334\n",
        " 335 336 337 338 339 340 341 342 343 344 345 346 347 348 349 350 351 352\n",
        " 353 354 355 356 357 358 359 360 361 362 363 364 365 366 367 368 369 370\n",
        " 371 372 373 374 375 376 377 378 379 380 381 382 383 384 385 386 387 388\n",
        " 389 390 391 392 393 394 395 396 397 398 399 400 401 402 403 404 405 406\n",
        " 407 408 409 410 411 412 413 414 415 416 417 418 419 420 421 422 423 424\n",
        " 425 426 427 428 429 430 431 432 433 434 435 436 437 438 439 440 441 442\n",
        " 443 444 445 446 447 448 449 450 451 452 453 454 455 456 457 458 459 460\n",
        " 461 462 463 464 465 466 467 468 469 470 471 472 473 474 475 476 477 478\n",
        " 479 480 481 482 483 484 485 486 487 488 489 490 491 492 493 494 495 496]\n",
        "5\n",
        "449\n"
       ]
      }
     ],
     "prompt_number": 60
    },
    {
     "cell_type": "code",
     "collapsed": false,
     "input": [
      "img = np.array(Image.open(\"/media/ilisescu/Data1/PhD/data/clouds_subsample10/median.png\"))\n",
      "\n",
      "spriteImg = np.array(Image.open(\"/media/ilisescu/Data1/PhD/data/clouds_subsample10/cloud2-masked-blended/frame-19501.png\"))\n",
      "spriteColorLocations = np.argwhere(spriteImg[:, :, -1] != 0)\n",
      "img[spriteColorLocations[:, 0], spriteColorLocations[:, 1], :] = spriteImg[spriteColorLocations[:, 0], spriteColorLocations[:, 1], :-1]\n",
      "    \n",
      "Image.fromarray(np.array(img, dtype=np.uint8)).save(\"tralala2.png\")"
     ],
     "language": "python",
     "metadata": {},
     "outputs": [],
     "prompt_number": 466
    },
    {
     "cell_type": "code",
     "collapsed": false,
     "input": [
      "bgImg = np.array(Image.open(dataPath + dataSet + \"median.png\"))\n",
      "# bgImg = QtGui.QImage(bgImg.data, bgImg.shape[1], bgImg.shape[0], \n",
      "#                                            bgImg.strides[0], QtGui.QImage.Format_RGB888)\n",
      "# img = QtGui.QImage(1280, 720, QtGui.QImage.Format_ARGB32)\n",
      "# painter = QtGui.QPainter(img)"
     ],
     "language": "python",
     "metadata": {},
     "outputs": [],
     "prompt_number": 15
    },
    {
     "cell_type": "code",
     "collapsed": false,
     "input": [
      "for frame in arange(len(window.generatedSequence[0][DICT_SEQUENCE_FRAMES])) : #[251:252] :\n",
      "#     img.fill(QtGui.QColor.fromRgb(255, 255, 255, 0))\n",
      "    img = np.array(Image.open(dataPath + dataSet + \"median.png\"))\n",
      "#     painter.drawImage(QtCore.QPoint(0, 0), bgImg)\n",
      "    for s in xrange(len(window.generatedSequence)) :\n",
      "        realFrameIdx = int(window.generatedSequence[s][DICT_SEQUENCE_FRAMES][frame]-1)\n",
      "        if realFrameIdx >= 0 :\n",
      "            spriteIdx = window.generatedSequence[s][DICT_SPRITE_IDX]\n",
      "            sprite = window.trackedSprites[spriteIdx]\n",
      "            frameName = sprite[DICT_FRAMES_LOCATIONS][np.sort(sprite[DICT_FRAMES_LOCATIONS].keys())[realFrameIdx]].split(os.sep)[-1]\n",
      "            spriteImg = np.array(Image.open(dataPath + dataSet + sprite[DICT_SPRITE_NAME] + \"-masked/\" + frameName))\n",
      "            spriteColorLocations = np.argwhere(spriteImg[:, :, -1] != 0)\n",
      "            img[spriteColorLocations[:, 0], spriteColorLocations[:, 1], :] = spriteImg[spriteColorLocations[:, 0], spriteColorLocations[:, 1], :-1]\n",
      "    \n",
      "    Image.fromarray(np.array(img, dtype=np.uint8)).save(dataPath + dataSet + \"generatedSequenceImgs/frame-{0:05}\".format(frame+1) + \".png\")\n",
      "    sys.stdout.write('\\r' + \"Done \" + np.string_(frame) + \" frame of \" + np.string_(len(window.generatedSequence[0][DICT_SEQUENCE_FRAMES])))\n",
      "    sys.stdout.flush()"
     ],
     "language": "python",
     "metadata": {},
     "outputs": [
      {
       "output_type": "stream",
       "stream": "stdout",
       "text": [
        "\r",
        "Done 0 frame of 2096"
       ]
      },
      {
       "output_type": "stream",
       "stream": "stdout",
       "text": [
        "\r",
        "Done 1 frame of 2096"
       ]
      },
      {
       "output_type": "stream",
       "stream": "stdout",
       "text": [
        "\r",
        "Done 2 frame of 2096"
       ]
      },
      {
       "output_type": "stream",
       "stream": "stdout",
       "text": [
        "\r",
        "Done 3 frame of 2096"
       ]
      },
      {
       "output_type": "stream",
       "stream": "stdout",
       "text": [
        "\r",
        "Done 4 frame of 2096"
       ]
      },
      {
       "output_type": "stream",
       "stream": "stdout",
       "text": [
        "\r",
        "Done 5 frame of 2096"
       ]
      },
      {
       "output_type": "stream",
       "stream": "stdout",
       "text": [
        "\r",
        "Done 6 frame of 2096"
       ]
      },
      {
       "output_type": "stream",
       "stream": "stdout",
       "text": [
        "\r",
        "Done 7 frame of 2096"
       ]
      },
      {
       "output_type": "stream",
       "stream": "stdout",
       "text": [
        "\r",
        "Done 8 frame of 2096"
       ]
      },
      {
       "output_type": "stream",
       "stream": "stdout",
       "text": [
        "\r",
        "Done 9 frame of 2096"
       ]
      },
      {
       "output_type": "stream",
       "stream": "stdout",
       "text": [
        "\r",
        "Done 10 frame of 2096"
       ]
      },
      {
       "output_type": "stream",
       "stream": "stdout",
       "text": [
        "\r",
        "Done 11 frame of 2096"
       ]
      },
      {
       "output_type": "stream",
       "stream": "stdout",
       "text": [
        "\r",
        "Done 12 frame of 2096"
       ]
      },
      {
       "output_type": "stream",
       "stream": "stdout",
       "text": [
        "\r",
        "Done 13 frame of 2096"
       ]
      },
      {
       "output_type": "stream",
       "stream": "stdout",
       "text": [
        "\r",
        "Done 14 frame of 2096"
       ]
      },
      {
       "output_type": "stream",
       "stream": "stdout",
       "text": [
        "\r",
        "Done 15 frame of 2096"
       ]
      },
      {
       "output_type": "stream",
       "stream": "stdout",
       "text": [
        "\r",
        "Done 16 frame of 2096"
       ]
      },
      {
       "output_type": "stream",
       "stream": "stdout",
       "text": [
        "\r",
        "Done 17 frame of 2096"
       ]
      },
      {
       "output_type": "stream",
       "stream": "stdout",
       "text": [
        "\r",
        "Done 18 frame of 2096"
       ]
      },
      {
       "output_type": "stream",
       "stream": "stdout",
       "text": [
        "\r",
        "Done 19 frame of 2096"
       ]
      },
      {
       "output_type": "stream",
       "stream": "stdout",
       "text": [
        "\r",
        "Done 20 frame of 2096"
       ]
      },
      {
       "output_type": "stream",
       "stream": "stdout",
       "text": [
        "\r",
        "Done 21 frame of 2096"
       ]
      },
      {
       "output_type": "stream",
       "stream": "stdout",
       "text": [
        "\r",
        "Done 22 frame of 2096"
       ]
      },
      {
       "output_type": "stream",
       "stream": "stdout",
       "text": [
        "\r",
        "Done 23 frame of 2096"
       ]
      },
      {
       "output_type": "stream",
       "stream": "stdout",
       "text": [
        "\r",
        "Done 24 frame of 2096"
       ]
      },
      {
       "output_type": "stream",
       "stream": "stdout",
       "text": [
        "\r",
        "Done 25 frame of 2096"
       ]
      },
      {
       "output_type": "stream",
       "stream": "stdout",
       "text": [
        "\r",
        "Done 26 frame of 2096"
       ]
      },
      {
       "output_type": "stream",
       "stream": "stdout",
       "text": [
        "\r",
        "Done 27 frame of 2096"
       ]
      },
      {
       "output_type": "stream",
       "stream": "stdout",
       "text": [
        "\r",
        "Done 28 frame of 2096"
       ]
      },
      {
       "output_type": "stream",
       "stream": "stdout",
       "text": [
        "\r",
        "Done 29 frame of 2096"
       ]
      },
      {
       "output_type": "stream",
       "stream": "stdout",
       "text": [
        "\r",
        "Done 30 frame of 2096"
       ]
      },
      {
       "output_type": "stream",
       "stream": "stdout",
       "text": [
        "\r",
        "Done 31 frame of 2096"
       ]
      },
      {
       "output_type": "stream",
       "stream": "stdout",
       "text": [
        "\r",
        "Done 32 frame of 2096"
       ]
      },
      {
       "output_type": "stream",
       "stream": "stdout",
       "text": [
        "\r",
        "Done 33 frame of 2096"
       ]
      },
      {
       "output_type": "stream",
       "stream": "stdout",
       "text": [
        "\r",
        "Done 34 frame of 2096"
       ]
      },
      {
       "output_type": "stream",
       "stream": "stdout",
       "text": [
        "\r",
        "Done 35 frame of 2096"
       ]
      },
      {
       "output_type": "stream",
       "stream": "stdout",
       "text": [
        "\r",
        "Done 36 frame of 2096"
       ]
      },
      {
       "output_type": "stream",
       "stream": "stdout",
       "text": [
        "\r",
        "Done 37 frame of 2096"
       ]
      },
      {
       "output_type": "stream",
       "stream": "stdout",
       "text": [
        "\r",
        "Done 38 frame of 2096"
       ]
      },
      {
       "output_type": "stream",
       "stream": "stdout",
       "text": [
        "\r",
        "Done 39 frame of 2096"
       ]
      },
      {
       "output_type": "stream",
       "stream": "stdout",
       "text": [
        "\r",
        "Done 40 frame of 2096"
       ]
      },
      {
       "output_type": "stream",
       "stream": "stdout",
       "text": [
        "\r",
        "Done 41 frame of 2096"
       ]
      },
      {
       "output_type": "stream",
       "stream": "stdout",
       "text": [
        "\r",
        "Done 42 frame of 2096"
       ]
      },
      {
       "output_type": "stream",
       "stream": "stdout",
       "text": [
        "\r",
        "Done 43 frame of 2096"
       ]
      },
      {
       "output_type": "stream",
       "stream": "stdout",
       "text": [
        "\r",
        "Done 44 frame of 2096"
       ]
      },
      {
       "output_type": "stream",
       "stream": "stdout",
       "text": [
        "\r",
        "Done 45 frame of 2096"
       ]
      },
      {
       "output_type": "stream",
       "stream": "stdout",
       "text": [
        "\r",
        "Done 46 frame of 2096"
       ]
      },
      {
       "output_type": "stream",
       "stream": "stdout",
       "text": [
        "\r",
        "Done 47 frame of 2096"
       ]
      },
      {
       "output_type": "stream",
       "stream": "stdout",
       "text": [
        "\r",
        "Done 48 frame of 2096"
       ]
      },
      {
       "output_type": "stream",
       "stream": "stdout",
       "text": [
        "\r",
        "Done 49 frame of 2096"
       ]
      },
      {
       "output_type": "stream",
       "stream": "stdout",
       "text": [
        "\r",
        "Done 50 frame of 2096"
       ]
      },
      {
       "output_type": "stream",
       "stream": "stdout",
       "text": [
        "\r",
        "Done 51 frame of 2096"
       ]
      },
      {
       "output_type": "stream",
       "stream": "stdout",
       "text": [
        "\r",
        "Done 52 frame of 2096"
       ]
      },
      {
       "output_type": "stream",
       "stream": "stdout",
       "text": [
        "\r",
        "Done 53 frame of 2096"
       ]
      },
      {
       "output_type": "stream",
       "stream": "stdout",
       "text": [
        "\r",
        "Done 54 frame of 2096"
       ]
      },
      {
       "output_type": "stream",
       "stream": "stdout",
       "text": [
        "\r",
        "Done 55 frame of 2096"
       ]
      },
      {
       "output_type": "stream",
       "stream": "stdout",
       "text": [
        "\r",
        "Done 56 frame of 2096"
       ]
      },
      {
       "output_type": "stream",
       "stream": "stdout",
       "text": [
        "\r",
        "Done 57 frame of 2096"
       ]
      },
      {
       "output_type": "stream",
       "stream": "stdout",
       "text": [
        "\r",
        "Done 58 frame of 2096"
       ]
      },
      {
       "output_type": "stream",
       "stream": "stdout",
       "text": [
        "\r",
        "Done 59 frame of 2096"
       ]
      },
      {
       "output_type": "stream",
       "stream": "stdout",
       "text": [
        "\r",
        "Done 60 frame of 2096"
       ]
      },
      {
       "output_type": "stream",
       "stream": "stdout",
       "text": [
        "\r",
        "Done 61 frame of 2096"
       ]
      },
      {
       "output_type": "stream",
       "stream": "stdout",
       "text": [
        "\r",
        "Done 62 frame of 2096"
       ]
      },
      {
       "output_type": "stream",
       "stream": "stdout",
       "text": [
        "\r",
        "Done 63 frame of 2096"
       ]
      },
      {
       "output_type": "stream",
       "stream": "stdout",
       "text": [
        "\r",
        "Done 64 frame of 2096"
       ]
      },
      {
       "output_type": "stream",
       "stream": "stdout",
       "text": [
        "\r",
        "Done 65 frame of 2096"
       ]
      },
      {
       "output_type": "stream",
       "stream": "stdout",
       "text": [
        "\r",
        "Done 66 frame of 2096"
       ]
      },
      {
       "output_type": "stream",
       "stream": "stdout",
       "text": [
        "\r",
        "Done 67 frame of 2096"
       ]
      },
      {
       "output_type": "stream",
       "stream": "stdout",
       "text": [
        "\r",
        "Done 68 frame of 2096"
       ]
      },
      {
       "output_type": "stream",
       "stream": "stdout",
       "text": [
        "\r",
        "Done 69 frame of 2096"
       ]
      },
      {
       "output_type": "stream",
       "stream": "stdout",
       "text": [
        "\r",
        "Done 70 frame of 2096"
       ]
      },
      {
       "output_type": "stream",
       "stream": "stdout",
       "text": [
        "\r",
        "Done 71 frame of 2096"
       ]
      },
      {
       "output_type": "stream",
       "stream": "stdout",
       "text": [
        "\r",
        "Done 72 frame of 2096"
       ]
      },
      {
       "output_type": "stream",
       "stream": "stdout",
       "text": [
        "\r",
        "Done 73 frame of 2096"
       ]
      },
      {
       "output_type": "stream",
       "stream": "stdout",
       "text": [
        "\r",
        "Done 74 frame of 2096"
       ]
      },
      {
       "output_type": "stream",
       "stream": "stdout",
       "text": [
        "\r",
        "Done 75 frame of 2096"
       ]
      },
      {
       "output_type": "stream",
       "stream": "stdout",
       "text": [
        "\r",
        "Done 76 frame of 2096"
       ]
      },
      {
       "output_type": "stream",
       "stream": "stdout",
       "text": [
        "\r",
        "Done 77 frame of 2096"
       ]
      },
      {
       "output_type": "stream",
       "stream": "stdout",
       "text": [
        "\r",
        "Done 78 frame of 2096"
       ]
      },
      {
       "output_type": "stream",
       "stream": "stdout",
       "text": [
        "\r",
        "Done 79 frame of 2096"
       ]
      },
      {
       "output_type": "stream",
       "stream": "stdout",
       "text": [
        "\r",
        "Done 80 frame of 2096"
       ]
      },
      {
       "output_type": "stream",
       "stream": "stdout",
       "text": [
        "\r",
        "Done 81 frame of 2096"
       ]
      },
      {
       "output_type": "stream",
       "stream": "stdout",
       "text": [
        "\r",
        "Done 82 frame of 2096"
       ]
      },
      {
       "output_type": "stream",
       "stream": "stdout",
       "text": [
        "\r",
        "Done 83 frame of 2096"
       ]
      },
      {
       "output_type": "stream",
       "stream": "stdout",
       "text": [
        "\r",
        "Done 84 frame of 2096"
       ]
      },
      {
       "output_type": "stream",
       "stream": "stdout",
       "text": [
        "\r",
        "Done 85 frame of 2096"
       ]
      },
      {
       "output_type": "stream",
       "stream": "stdout",
       "text": [
        "\r",
        "Done 86 frame of 2096"
       ]
      },
      {
       "output_type": "stream",
       "stream": "stdout",
       "text": [
        "\r",
        "Done 87 frame of 2096"
       ]
      },
      {
       "output_type": "stream",
       "stream": "stdout",
       "text": [
        "\r",
        "Done 88 frame of 2096"
       ]
      },
      {
       "output_type": "stream",
       "stream": "stdout",
       "text": [
        "\r",
        "Done 89 frame of 2096"
       ]
      },
      {
       "output_type": "stream",
       "stream": "stdout",
       "text": [
        "\r",
        "Done 90 frame of 2096"
       ]
      },
      {
       "output_type": "stream",
       "stream": "stdout",
       "text": [
        "\r",
        "Done 91 frame of 2096"
       ]
      },
      {
       "output_type": "stream",
       "stream": "stdout",
       "text": [
        "\r",
        "Done 92 frame of 2096"
       ]
      },
      {
       "output_type": "stream",
       "stream": "stdout",
       "text": [
        "\r",
        "Done 93 frame of 2096"
       ]
      },
      {
       "output_type": "stream",
       "stream": "stdout",
       "text": [
        "\r",
        "Done 94 frame of 2096"
       ]
      },
      {
       "output_type": "stream",
       "stream": "stdout",
       "text": [
        "\r",
        "Done 95 frame of 2096"
       ]
      },
      {
       "output_type": "stream",
       "stream": "stdout",
       "text": [
        "\r",
        "Done 96 frame of 2096"
       ]
      },
      {
       "output_type": "stream",
       "stream": "stdout",
       "text": [
        "\r",
        "Done 97 frame of 2096"
       ]
      },
      {
       "output_type": "stream",
       "stream": "stdout",
       "text": [
        "\r",
        "Done 98 frame of 2096"
       ]
      },
      {
       "output_type": "stream",
       "stream": "stdout",
       "text": [
        "\r",
        "Done 99 frame of 2096"
       ]
      },
      {
       "output_type": "stream",
       "stream": "stdout",
       "text": [
        "\r",
        "Done 100 frame of 2096"
       ]
      },
      {
       "output_type": "stream",
       "stream": "stdout",
       "text": [
        "\r",
        "Done 101 frame of 2096"
       ]
      },
      {
       "output_type": "stream",
       "stream": "stdout",
       "text": [
        "\r",
        "Done 102 frame of 2096"
       ]
      },
      {
       "output_type": "stream",
       "stream": "stdout",
       "text": [
        "\r",
        "Done 103 frame of 2096"
       ]
      },
      {
       "output_type": "stream",
       "stream": "stdout",
       "text": [
        "\r",
        "Done 104 frame of 2096"
       ]
      },
      {
       "output_type": "stream",
       "stream": "stdout",
       "text": [
        "\r",
        "Done 105 frame of 2096"
       ]
      },
      {
       "output_type": "stream",
       "stream": "stdout",
       "text": [
        "\r",
        "Done 106 frame of 2096"
       ]
      },
      {
       "output_type": "stream",
       "stream": "stdout",
       "text": [
        "\r",
        "Done 107 frame of 2096"
       ]
      },
      {
       "output_type": "stream",
       "stream": "stdout",
       "text": [
        "\r",
        "Done 108 frame of 2096"
       ]
      },
      {
       "output_type": "stream",
       "stream": "stdout",
       "text": [
        "\r",
        "Done 109 frame of 2096"
       ]
      },
      {
       "output_type": "stream",
       "stream": "stdout",
       "text": [
        "\r",
        "Done 110 frame of 2096"
       ]
      },
      {
       "output_type": "stream",
       "stream": "stdout",
       "text": [
        "\r",
        "Done 111 frame of 2096"
       ]
      },
      {
       "output_type": "stream",
       "stream": "stdout",
       "text": [
        "\r",
        "Done 112 frame of 2096"
       ]
      },
      {
       "output_type": "stream",
       "stream": "stdout",
       "text": [
        "\r",
        "Done 113 frame of 2096"
       ]
      },
      {
       "output_type": "stream",
       "stream": "stdout",
       "text": [
        "\r",
        "Done 114 frame of 2096"
       ]
      },
      {
       "output_type": "stream",
       "stream": "stdout",
       "text": [
        "\r",
        "Done 115 frame of 2096"
       ]
      },
      {
       "output_type": "stream",
       "stream": "stdout",
       "text": [
        "\r",
        "Done 116 frame of 2096"
       ]
      },
      {
       "output_type": "stream",
       "stream": "stdout",
       "text": [
        "\r",
        "Done 117 frame of 2096"
       ]
      },
      {
       "output_type": "stream",
       "stream": "stdout",
       "text": [
        "\r",
        "Done 118 frame of 2096"
       ]
      },
      {
       "output_type": "stream",
       "stream": "stdout",
       "text": [
        "\r",
        "Done 119 frame of 2096"
       ]
      },
      {
       "output_type": "stream",
       "stream": "stdout",
       "text": [
        "\r",
        "Done 120 frame of 2096"
       ]
      },
      {
       "output_type": "stream",
       "stream": "stdout",
       "text": [
        "\r",
        "Done 121 frame of 2096"
       ]
      },
      {
       "output_type": "stream",
       "stream": "stdout",
       "text": [
        "\r",
        "Done 122 frame of 2096"
       ]
      },
      {
       "output_type": "stream",
       "stream": "stdout",
       "text": [
        "\r",
        "Done 123 frame of 2096"
       ]
      },
      {
       "output_type": "stream",
       "stream": "stdout",
       "text": [
        "\r",
        "Done 124 frame of 2096"
       ]
      },
      {
       "output_type": "stream",
       "stream": "stdout",
       "text": [
        "\r",
        "Done 125 frame of 2096"
       ]
      },
      {
       "output_type": "stream",
       "stream": "stdout",
       "text": [
        "\r",
        "Done 126 frame of 2096"
       ]
      },
      {
       "output_type": "stream",
       "stream": "stdout",
       "text": [
        "\r",
        "Done 127 frame of 2096"
       ]
      },
      {
       "output_type": "stream",
       "stream": "stdout",
       "text": [
        "\r",
        "Done 128 frame of 2096"
       ]
      },
      {
       "output_type": "stream",
       "stream": "stdout",
       "text": [
        "\r",
        "Done 129 frame of 2096"
       ]
      },
      {
       "output_type": "stream",
       "stream": "stdout",
       "text": [
        "\r",
        "Done 130 frame of 2096"
       ]
      },
      {
       "output_type": "stream",
       "stream": "stdout",
       "text": [
        "\r",
        "Done 131 frame of 2096"
       ]
      },
      {
       "output_type": "stream",
       "stream": "stdout",
       "text": [
        "\r",
        "Done 132 frame of 2096"
       ]
      },
      {
       "output_type": "stream",
       "stream": "stdout",
       "text": [
        "\r",
        "Done 133 frame of 2096"
       ]
      },
      {
       "output_type": "stream",
       "stream": "stdout",
       "text": [
        "\r",
        "Done 134 frame of 2096"
       ]
      },
      {
       "output_type": "stream",
       "stream": "stdout",
       "text": [
        "\r",
        "Done 135 frame of 2096"
       ]
      },
      {
       "output_type": "stream",
       "stream": "stdout",
       "text": [
        "\r",
        "Done 136 frame of 2096"
       ]
      },
      {
       "output_type": "stream",
       "stream": "stdout",
       "text": [
        "\r",
        "Done 137 frame of 2096"
       ]
      },
      {
       "output_type": "stream",
       "stream": "stdout",
       "text": [
        "\r",
        "Done 138 frame of 2096"
       ]
      },
      {
       "output_type": "stream",
       "stream": "stdout",
       "text": [
        "\r",
        "Done 139 frame of 2096"
       ]
      },
      {
       "output_type": "stream",
       "stream": "stdout",
       "text": [
        "\r",
        "Done 140 frame of 2096"
       ]
      },
      {
       "output_type": "stream",
       "stream": "stdout",
       "text": [
        "\r",
        "Done 141 frame of 2096"
       ]
      },
      {
       "output_type": "stream",
       "stream": "stdout",
       "text": [
        "\r",
        "Done 142 frame of 2096"
       ]
      },
      {
       "output_type": "stream",
       "stream": "stdout",
       "text": [
        "\r",
        "Done 143 frame of 2096"
       ]
      },
      {
       "output_type": "stream",
       "stream": "stdout",
       "text": [
        "\r",
        "Done 144 frame of 2096"
       ]
      },
      {
       "output_type": "stream",
       "stream": "stdout",
       "text": [
        "\r",
        "Done 145 frame of 2096"
       ]
      },
      {
       "output_type": "stream",
       "stream": "stdout",
       "text": [
        "\r",
        "Done 146 frame of 2096"
       ]
      },
      {
       "output_type": "stream",
       "stream": "stdout",
       "text": [
        "\r",
        "Done 147 frame of 2096"
       ]
      },
      {
       "output_type": "stream",
       "stream": "stdout",
       "text": [
        "\r",
        "Done 148 frame of 2096"
       ]
      },
      {
       "output_type": "stream",
       "stream": "stdout",
       "text": [
        "\r",
        "Done 149 frame of 2096"
       ]
      },
      {
       "output_type": "stream",
       "stream": "stdout",
       "text": [
        "\r",
        "Done 150 frame of 2096"
       ]
      },
      {
       "output_type": "stream",
       "stream": "stdout",
       "text": [
        "\r",
        "Done 151 frame of 2096"
       ]
      },
      {
       "output_type": "stream",
       "stream": "stdout",
       "text": [
        "\r",
        "Done 152 frame of 2096"
       ]
      },
      {
       "output_type": "stream",
       "stream": "stdout",
       "text": [
        "\r",
        "Done 153 frame of 2096"
       ]
      },
      {
       "output_type": "stream",
       "stream": "stdout",
       "text": [
        "\r",
        "Done 154 frame of 2096"
       ]
      },
      {
       "output_type": "stream",
       "stream": "stdout",
       "text": [
        "\r",
        "Done 155 frame of 2096"
       ]
      },
      {
       "output_type": "stream",
       "stream": "stdout",
       "text": [
        "\r",
        "Done 156 frame of 2096"
       ]
      },
      {
       "output_type": "stream",
       "stream": "stdout",
       "text": [
        "\r",
        "Done 157 frame of 2096"
       ]
      },
      {
       "output_type": "stream",
       "stream": "stdout",
       "text": [
        "\r",
        "Done 158 frame of 2096"
       ]
      },
      {
       "output_type": "stream",
       "stream": "stdout",
       "text": [
        "\r",
        "Done 159 frame of 2096"
       ]
      },
      {
       "output_type": "stream",
       "stream": "stdout",
       "text": [
        "\r",
        "Done 160 frame of 2096"
       ]
      },
      {
       "output_type": "stream",
       "stream": "stdout",
       "text": [
        "\r",
        "Done 161 frame of 2096"
       ]
      },
      {
       "output_type": "stream",
       "stream": "stdout",
       "text": [
        "\r",
        "Done 162 frame of 2096"
       ]
      },
      {
       "output_type": "stream",
       "stream": "stdout",
       "text": [
        "\r",
        "Done 163 frame of 2096"
       ]
      },
      {
       "output_type": "stream",
       "stream": "stdout",
       "text": [
        "\r",
        "Done 164 frame of 2096"
       ]
      },
      {
       "output_type": "stream",
       "stream": "stdout",
       "text": [
        "\r",
        "Done 165 frame of 2096"
       ]
      },
      {
       "output_type": "stream",
       "stream": "stdout",
       "text": [
        "\r",
        "Done 166 frame of 2096"
       ]
      },
      {
       "output_type": "stream",
       "stream": "stdout",
       "text": [
        "\r",
        "Done 167 frame of 2096"
       ]
      },
      {
       "output_type": "stream",
       "stream": "stdout",
       "text": [
        "\r",
        "Done 168 frame of 2096"
       ]
      },
      {
       "output_type": "stream",
       "stream": "stdout",
       "text": [
        "\r",
        "Done 169 frame of 2096"
       ]
      },
      {
       "output_type": "stream",
       "stream": "stdout",
       "text": [
        "\r",
        "Done 170 frame of 2096"
       ]
      },
      {
       "output_type": "stream",
       "stream": "stdout",
       "text": [
        "\r",
        "Done 171 frame of 2096"
       ]
      },
      {
       "output_type": "stream",
       "stream": "stdout",
       "text": [
        "\r",
        "Done 172 frame of 2096"
       ]
      },
      {
       "output_type": "stream",
       "stream": "stdout",
       "text": [
        "\r",
        "Done 173 frame of 2096"
       ]
      },
      {
       "output_type": "stream",
       "stream": "stdout",
       "text": [
        "\r",
        "Done 174 frame of 2096"
       ]
      },
      {
       "output_type": "stream",
       "stream": "stdout",
       "text": [
        "\r",
        "Done 175 frame of 2096"
       ]
      },
      {
       "output_type": "stream",
       "stream": "stdout",
       "text": [
        "\r",
        "Done 176 frame of 2096"
       ]
      },
      {
       "output_type": "stream",
       "stream": "stdout",
       "text": [
        "\r",
        "Done 177 frame of 2096"
       ]
      },
      {
       "output_type": "stream",
       "stream": "stdout",
       "text": [
        "\r",
        "Done 178 frame of 2096"
       ]
      },
      {
       "output_type": "stream",
       "stream": "stdout",
       "text": [
        "\r",
        "Done 179 frame of 2096"
       ]
      },
      {
       "output_type": "stream",
       "stream": "stdout",
       "text": [
        "\r",
        "Done 180 frame of 2096"
       ]
      },
      {
       "output_type": "stream",
       "stream": "stdout",
       "text": [
        "\r",
        "Done 181 frame of 2096"
       ]
      },
      {
       "output_type": "stream",
       "stream": "stdout",
       "text": [
        "\r",
        "Done 182 frame of 2096"
       ]
      },
      {
       "output_type": "stream",
       "stream": "stdout",
       "text": [
        "\r",
        "Done 183 frame of 2096"
       ]
      },
      {
       "output_type": "stream",
       "stream": "stdout",
       "text": [
        "\r",
        "Done 184 frame of 2096"
       ]
      },
      {
       "output_type": "stream",
       "stream": "stdout",
       "text": [
        "\r",
        "Done 185 frame of 2096"
       ]
      },
      {
       "output_type": "stream",
       "stream": "stdout",
       "text": [
        "\r",
        "Done 186 frame of 2096"
       ]
      },
      {
       "output_type": "stream",
       "stream": "stdout",
       "text": [
        "\r",
        "Done 187 frame of 2096"
       ]
      },
      {
       "output_type": "stream",
       "stream": "stdout",
       "text": [
        "\r",
        "Done 188 frame of 2096"
       ]
      },
      {
       "output_type": "stream",
       "stream": "stdout",
       "text": [
        "\r",
        "Done 189 frame of 2096"
       ]
      },
      {
       "output_type": "stream",
       "stream": "stdout",
       "text": [
        "\r",
        "Done 190 frame of 2096"
       ]
      },
      {
       "output_type": "stream",
       "stream": "stdout",
       "text": [
        "\r",
        "Done 191 frame of 2096"
       ]
      },
      {
       "output_type": "stream",
       "stream": "stdout",
       "text": [
        "\r",
        "Done 192 frame of 2096"
       ]
      },
      {
       "output_type": "stream",
       "stream": "stdout",
       "text": [
        "\r",
        "Done 193 frame of 2096"
       ]
      },
      {
       "output_type": "stream",
       "stream": "stdout",
       "text": [
        "\r",
        "Done 194 frame of 2096"
       ]
      },
      {
       "output_type": "stream",
       "stream": "stdout",
       "text": [
        "\r",
        "Done 195 frame of 2096"
       ]
      },
      {
       "output_type": "stream",
       "stream": "stdout",
       "text": [
        "\r",
        "Done 196 frame of 2096"
       ]
      },
      {
       "output_type": "stream",
       "stream": "stdout",
       "text": [
        "\r",
        "Done 197 frame of 2096"
       ]
      },
      {
       "output_type": "stream",
       "stream": "stdout",
       "text": [
        "\r",
        "Done 198 frame of 2096"
       ]
      },
      {
       "output_type": "stream",
       "stream": "stdout",
       "text": [
        "\r",
        "Done 199 frame of 2096"
       ]
      },
      {
       "output_type": "stream",
       "stream": "stdout",
       "text": [
        "\r",
        "Done 200 frame of 2096"
       ]
      },
      {
       "output_type": "stream",
       "stream": "stdout",
       "text": [
        "\r",
        "Done 201 frame of 2096"
       ]
      },
      {
       "output_type": "stream",
       "stream": "stdout",
       "text": [
        "\r",
        "Done 202 frame of 2096"
       ]
      },
      {
       "output_type": "stream",
       "stream": "stdout",
       "text": [
        "\r",
        "Done 203 frame of 2096"
       ]
      },
      {
       "output_type": "stream",
       "stream": "stdout",
       "text": [
        "\r",
        "Done 204 frame of 2096"
       ]
      },
      {
       "output_type": "stream",
       "stream": "stdout",
       "text": [
        "\r",
        "Done 205 frame of 2096"
       ]
      },
      {
       "output_type": "stream",
       "stream": "stdout",
       "text": [
        "\r",
        "Done 206 frame of 2096"
       ]
      },
      {
       "output_type": "stream",
       "stream": "stdout",
       "text": [
        "\r",
        "Done 207 frame of 2096"
       ]
      },
      {
       "output_type": "stream",
       "stream": "stdout",
       "text": [
        "\r",
        "Done 208 frame of 2096"
       ]
      },
      {
       "output_type": "stream",
       "stream": "stdout",
       "text": [
        "\r",
        "Done 209 frame of 2096"
       ]
      },
      {
       "output_type": "stream",
       "stream": "stdout",
       "text": [
        "\r",
        "Done 210 frame of 2096"
       ]
      },
      {
       "output_type": "stream",
       "stream": "stdout",
       "text": [
        "\r",
        "Done 211 frame of 2096"
       ]
      },
      {
       "output_type": "stream",
       "stream": "stdout",
       "text": [
        "\r",
        "Done 212 frame of 2096"
       ]
      },
      {
       "output_type": "stream",
       "stream": "stdout",
       "text": [
        "\r",
        "Done 213 frame of 2096"
       ]
      },
      {
       "output_type": "stream",
       "stream": "stdout",
       "text": [
        "\r",
        "Done 214 frame of 2096"
       ]
      },
      {
       "output_type": "stream",
       "stream": "stdout",
       "text": [
        "\r",
        "Done 215 frame of 2096"
       ]
      },
      {
       "output_type": "stream",
       "stream": "stdout",
       "text": [
        "\r",
        "Done 216 frame of 2096"
       ]
      },
      {
       "output_type": "stream",
       "stream": "stdout",
       "text": [
        "\r",
        "Done 217 frame of 2096"
       ]
      },
      {
       "output_type": "stream",
       "stream": "stdout",
       "text": [
        "\r",
        "Done 218 frame of 2096"
       ]
      },
      {
       "output_type": "stream",
       "stream": "stdout",
       "text": [
        "\r",
        "Done 219 frame of 2096"
       ]
      },
      {
       "output_type": "stream",
       "stream": "stdout",
       "text": [
        "\r",
        "Done 220 frame of 2096"
       ]
      },
      {
       "output_type": "stream",
       "stream": "stdout",
       "text": [
        "\r",
        "Done 221 frame of 2096"
       ]
      },
      {
       "output_type": "stream",
       "stream": "stdout",
       "text": [
        "\r",
        "Done 222 frame of 2096"
       ]
      },
      {
       "output_type": "stream",
       "stream": "stdout",
       "text": [
        "\r",
        "Done 223 frame of 2096"
       ]
      },
      {
       "output_type": "stream",
       "stream": "stdout",
       "text": [
        "\r",
        "Done 224 frame of 2096"
       ]
      },
      {
       "output_type": "stream",
       "stream": "stdout",
       "text": [
        "\r",
        "Done 225 frame of 2096"
       ]
      },
      {
       "output_type": "stream",
       "stream": "stdout",
       "text": [
        "\r",
        "Done 226 frame of 2096"
       ]
      },
      {
       "output_type": "stream",
       "stream": "stdout",
       "text": [
        "\r",
        "Done 227 frame of 2096"
       ]
      },
      {
       "output_type": "stream",
       "stream": "stdout",
       "text": [
        "\r",
        "Done 228 frame of 2096"
       ]
      },
      {
       "output_type": "stream",
       "stream": "stdout",
       "text": [
        "\r",
        "Done 229 frame of 2096"
       ]
      },
      {
       "output_type": "stream",
       "stream": "stdout",
       "text": [
        "\r",
        "Done 230 frame of 2096"
       ]
      },
      {
       "output_type": "stream",
       "stream": "stdout",
       "text": [
        "\r",
        "Done 231 frame of 2096"
       ]
      },
      {
       "output_type": "stream",
       "stream": "stdout",
       "text": [
        "\r",
        "Done 232 frame of 2096"
       ]
      },
      {
       "output_type": "stream",
       "stream": "stdout",
       "text": [
        "\r",
        "Done 233 frame of 2096"
       ]
      },
      {
       "output_type": "stream",
       "stream": "stdout",
       "text": [
        "\r",
        "Done 234 frame of 2096"
       ]
      },
      {
       "output_type": "stream",
       "stream": "stdout",
       "text": [
        "\r",
        "Done 235 frame of 2096"
       ]
      },
      {
       "output_type": "stream",
       "stream": "stdout",
       "text": [
        "\r",
        "Done 236 frame of 2096"
       ]
      },
      {
       "output_type": "stream",
       "stream": "stdout",
       "text": [
        "\r",
        "Done 237 frame of 2096"
       ]
      },
      {
       "output_type": "stream",
       "stream": "stdout",
       "text": [
        "\r",
        "Done 238 frame of 2096"
       ]
      },
      {
       "output_type": "stream",
       "stream": "stdout",
       "text": [
        "\r",
        "Done 239 frame of 2096"
       ]
      },
      {
       "output_type": "stream",
       "stream": "stdout",
       "text": [
        "\r",
        "Done 240 frame of 2096"
       ]
      },
      {
       "output_type": "stream",
       "stream": "stdout",
       "text": [
        "\r",
        "Done 241 frame of 2096"
       ]
      },
      {
       "output_type": "stream",
       "stream": "stdout",
       "text": [
        "\r",
        "Done 242 frame of 2096"
       ]
      },
      {
       "output_type": "stream",
       "stream": "stdout",
       "text": [
        "\r",
        "Done 243 frame of 2096"
       ]
      },
      {
       "output_type": "stream",
       "stream": "stdout",
       "text": [
        "\r",
        "Done 244 frame of 2096"
       ]
      },
      {
       "output_type": "stream",
       "stream": "stdout",
       "text": [
        "\r",
        "Done 245 frame of 2096"
       ]
      },
      {
       "output_type": "stream",
       "stream": "stdout",
       "text": [
        "\r",
        "Done 246 frame of 2096"
       ]
      },
      {
       "output_type": "stream",
       "stream": "stdout",
       "text": [
        "\r",
        "Done 247 frame of 2096"
       ]
      },
      {
       "output_type": "stream",
       "stream": "stdout",
       "text": [
        "\r",
        "Done 248 frame of 2096"
       ]
      },
      {
       "output_type": "stream",
       "stream": "stdout",
       "text": [
        "\r",
        "Done 249 frame of 2096"
       ]
      },
      {
       "output_type": "stream",
       "stream": "stdout",
       "text": [
        "\r",
        "Done 250 frame of 2096"
       ]
      },
      {
       "output_type": "stream",
       "stream": "stdout",
       "text": [
        "\r",
        "Done 251 frame of 2096"
       ]
      },
      {
       "output_type": "stream",
       "stream": "stdout",
       "text": [
        "\r",
        "Done 252 frame of 2096"
       ]
      },
      {
       "output_type": "stream",
       "stream": "stdout",
       "text": [
        "\r",
        "Done 253 frame of 2096"
       ]
      },
      {
       "output_type": "stream",
       "stream": "stdout",
       "text": [
        "\r",
        "Done 254 frame of 2096"
       ]
      },
      {
       "output_type": "stream",
       "stream": "stdout",
       "text": [
        "\r",
        "Done 255 frame of 2096"
       ]
      },
      {
       "output_type": "stream",
       "stream": "stdout",
       "text": [
        "\r",
        "Done 256 frame of 2096"
       ]
      },
      {
       "output_type": "stream",
       "stream": "stdout",
       "text": [
        "\r",
        "Done 257 frame of 2096"
       ]
      },
      {
       "output_type": "stream",
       "stream": "stdout",
       "text": [
        "\r",
        "Done 258 frame of 2096"
       ]
      },
      {
       "output_type": "stream",
       "stream": "stdout",
       "text": [
        "\r",
        "Done 259 frame of 2096"
       ]
      },
      {
       "output_type": "stream",
       "stream": "stdout",
       "text": [
        "\r",
        "Done 260 frame of 2096"
       ]
      },
      {
       "output_type": "stream",
       "stream": "stdout",
       "text": [
        "\r",
        "Done 261 frame of 2096"
       ]
      },
      {
       "output_type": "stream",
       "stream": "stdout",
       "text": [
        "\r",
        "Done 262 frame of 2096"
       ]
      },
      {
       "output_type": "stream",
       "stream": "stdout",
       "text": [
        "\r",
        "Done 263 frame of 2096"
       ]
      },
      {
       "output_type": "stream",
       "stream": "stdout",
       "text": [
        "\r",
        "Done 264 frame of 2096"
       ]
      },
      {
       "output_type": "stream",
       "stream": "stdout",
       "text": [
        "\r",
        "Done 265 frame of 2096"
       ]
      },
      {
       "output_type": "stream",
       "stream": "stdout",
       "text": [
        "\r",
        "Done 266 frame of 2096"
       ]
      },
      {
       "output_type": "stream",
       "stream": "stdout",
       "text": [
        "\r",
        "Done 267 frame of 2096"
       ]
      },
      {
       "output_type": "stream",
       "stream": "stdout",
       "text": [
        "\r",
        "Done 268 frame of 2096"
       ]
      },
      {
       "output_type": "stream",
       "stream": "stdout",
       "text": [
        "\r",
        "Done 269 frame of 2096"
       ]
      },
      {
       "output_type": "stream",
       "stream": "stdout",
       "text": [
        "\r",
        "Done 270 frame of 2096"
       ]
      },
      {
       "output_type": "stream",
       "stream": "stdout",
       "text": [
        "\r",
        "Done 271 frame of 2096"
       ]
      },
      {
       "output_type": "stream",
       "stream": "stdout",
       "text": [
        "\r",
        "Done 272 frame of 2096"
       ]
      },
      {
       "output_type": "stream",
       "stream": "stdout",
       "text": [
        "\r",
        "Done 273 frame of 2096"
       ]
      },
      {
       "output_type": "stream",
       "stream": "stdout",
       "text": [
        "\r",
        "Done 274 frame of 2096"
       ]
      },
      {
       "output_type": "stream",
       "stream": "stdout",
       "text": [
        "\r",
        "Done 275 frame of 2096"
       ]
      },
      {
       "output_type": "stream",
       "stream": "stdout",
       "text": [
        "\r",
        "Done 276 frame of 2096"
       ]
      },
      {
       "output_type": "stream",
       "stream": "stdout",
       "text": [
        "\r",
        "Done 277 frame of 2096"
       ]
      },
      {
       "output_type": "stream",
       "stream": "stdout",
       "text": [
        "\r",
        "Done 278 frame of 2096"
       ]
      },
      {
       "output_type": "stream",
       "stream": "stdout",
       "text": [
        "\r",
        "Done 279 frame of 2096"
       ]
      },
      {
       "output_type": "stream",
       "stream": "stdout",
       "text": [
        "\r",
        "Done 280 frame of 2096"
       ]
      },
      {
       "output_type": "stream",
       "stream": "stdout",
       "text": [
        "\r",
        "Done 281 frame of 2096"
       ]
      },
      {
       "output_type": "stream",
       "stream": "stdout",
       "text": [
        "\r",
        "Done 282 frame of 2096"
       ]
      },
      {
       "output_type": "stream",
       "stream": "stdout",
       "text": [
        "\r",
        "Done 283 frame of 2096"
       ]
      },
      {
       "output_type": "stream",
       "stream": "stdout",
       "text": [
        "\r",
        "Done 284 frame of 2096"
       ]
      },
      {
       "output_type": "stream",
       "stream": "stdout",
       "text": [
        "\r",
        "Done 285 frame of 2096"
       ]
      },
      {
       "output_type": "stream",
       "stream": "stdout",
       "text": [
        "\r",
        "Done 286 frame of 2096"
       ]
      },
      {
       "output_type": "stream",
       "stream": "stdout",
       "text": [
        "\r",
        "Done 287 frame of 2096"
       ]
      },
      {
       "output_type": "stream",
       "stream": "stdout",
       "text": [
        "\r",
        "Done 288 frame of 2096"
       ]
      },
      {
       "output_type": "stream",
       "stream": "stdout",
       "text": [
        "\r",
        "Done 289 frame of 2096"
       ]
      },
      {
       "output_type": "stream",
       "stream": "stdout",
       "text": [
        "\r",
        "Done 290 frame of 2096"
       ]
      },
      {
       "output_type": "stream",
       "stream": "stdout",
       "text": [
        "\r",
        "Done 291 frame of 2096"
       ]
      },
      {
       "output_type": "stream",
       "stream": "stdout",
       "text": [
        "\r",
        "Done 292 frame of 2096"
       ]
      },
      {
       "output_type": "stream",
       "stream": "stdout",
       "text": [
        "\r",
        "Done 293 frame of 2096"
       ]
      },
      {
       "output_type": "stream",
       "stream": "stdout",
       "text": [
        "\r",
        "Done 294 frame of 2096"
       ]
      },
      {
       "output_type": "stream",
       "stream": "stdout",
       "text": [
        "\r",
        "Done 295 frame of 2096"
       ]
      },
      {
       "output_type": "stream",
       "stream": "stdout",
       "text": [
        "\r",
        "Done 296 frame of 2096"
       ]
      },
      {
       "output_type": "stream",
       "stream": "stdout",
       "text": [
        "\r",
        "Done 297 frame of 2096"
       ]
      },
      {
       "output_type": "stream",
       "stream": "stdout",
       "text": [
        "\r",
        "Done 298 frame of 2096"
       ]
      },
      {
       "output_type": "stream",
       "stream": "stdout",
       "text": [
        "\r",
        "Done 299 frame of 2096"
       ]
      },
      {
       "output_type": "stream",
       "stream": "stdout",
       "text": [
        "\r",
        "Done 300 frame of 2096"
       ]
      },
      {
       "output_type": "stream",
       "stream": "stdout",
       "text": [
        "\r",
        "Done 301 frame of 2096"
       ]
      },
      {
       "output_type": "stream",
       "stream": "stdout",
       "text": [
        "\r",
        "Done 302 frame of 2096"
       ]
      },
      {
       "output_type": "stream",
       "stream": "stdout",
       "text": [
        "\r",
        "Done 303 frame of 2096"
       ]
      },
      {
       "output_type": "stream",
       "stream": "stdout",
       "text": [
        "\r",
        "Done 304 frame of 2096"
       ]
      },
      {
       "output_type": "stream",
       "stream": "stdout",
       "text": [
        "\r",
        "Done 305 frame of 2096"
       ]
      },
      {
       "output_type": "stream",
       "stream": "stdout",
       "text": [
        "\r",
        "Done 306 frame of 2096"
       ]
      },
      {
       "output_type": "stream",
       "stream": "stdout",
       "text": [
        "\r",
        "Done 307 frame of 2096"
       ]
      },
      {
       "output_type": "stream",
       "stream": "stdout",
       "text": [
        "\r",
        "Done 308 frame of 2096"
       ]
      },
      {
       "output_type": "stream",
       "stream": "stdout",
       "text": [
        "\r",
        "Done 309 frame of 2096"
       ]
      },
      {
       "output_type": "stream",
       "stream": "stdout",
       "text": [
        "\r",
        "Done 310 frame of 2096"
       ]
      },
      {
       "output_type": "stream",
       "stream": "stdout",
       "text": [
        "\r",
        "Done 311 frame of 2096"
       ]
      },
      {
       "output_type": "stream",
       "stream": "stdout",
       "text": [
        "\r",
        "Done 312 frame of 2096"
       ]
      },
      {
       "output_type": "stream",
       "stream": "stdout",
       "text": [
        "\r",
        "Done 313 frame of 2096"
       ]
      },
      {
       "output_type": "stream",
       "stream": "stdout",
       "text": [
        "\r",
        "Done 314 frame of 2096"
       ]
      },
      {
       "output_type": "stream",
       "stream": "stdout",
       "text": [
        "\r",
        "Done 315 frame of 2096"
       ]
      },
      {
       "output_type": "stream",
       "stream": "stdout",
       "text": [
        "\r",
        "Done 316 frame of 2096"
       ]
      },
      {
       "output_type": "stream",
       "stream": "stdout",
       "text": [
        "\r",
        "Done 317 frame of 2096"
       ]
      },
      {
       "output_type": "stream",
       "stream": "stdout",
       "text": [
        "\r",
        "Done 318 frame of 2096"
       ]
      },
      {
       "output_type": "stream",
       "stream": "stdout",
       "text": [
        "\r",
        "Done 319 frame of 2096"
       ]
      },
      {
       "output_type": "stream",
       "stream": "stdout",
       "text": [
        "\r",
        "Done 320 frame of 2096"
       ]
      },
      {
       "output_type": "stream",
       "stream": "stdout",
       "text": [
        "\r",
        "Done 321 frame of 2096"
       ]
      },
      {
       "output_type": "stream",
       "stream": "stdout",
       "text": [
        "\r",
        "Done 322 frame of 2096"
       ]
      },
      {
       "output_type": "stream",
       "stream": "stdout",
       "text": [
        "\r",
        "Done 323 frame of 2096"
       ]
      },
      {
       "output_type": "stream",
       "stream": "stdout",
       "text": [
        "\r",
        "Done 324 frame of 2096"
       ]
      },
      {
       "output_type": "stream",
       "stream": "stdout",
       "text": [
        "\r",
        "Done 325 frame of 2096"
       ]
      },
      {
       "output_type": "stream",
       "stream": "stdout",
       "text": [
        "\r",
        "Done 326 frame of 2096"
       ]
      },
      {
       "output_type": "stream",
       "stream": "stdout",
       "text": [
        "\r",
        "Done 327 frame of 2096"
       ]
      },
      {
       "output_type": "stream",
       "stream": "stdout",
       "text": [
        "\r",
        "Done 328 frame of 2096"
       ]
      },
      {
       "output_type": "stream",
       "stream": "stdout",
       "text": [
        "\r",
        "Done 329 frame of 2096"
       ]
      },
      {
       "output_type": "stream",
       "stream": "stdout",
       "text": [
        "\r",
        "Done 330 frame of 2096"
       ]
      },
      {
       "output_type": "stream",
       "stream": "stdout",
       "text": [
        "\r",
        "Done 331 frame of 2096"
       ]
      },
      {
       "output_type": "stream",
       "stream": "stdout",
       "text": [
        "\r",
        "Done 332 frame of 2096"
       ]
      },
      {
       "output_type": "stream",
       "stream": "stdout",
       "text": [
        "\r",
        "Done 333 frame of 2096"
       ]
      },
      {
       "output_type": "stream",
       "stream": "stdout",
       "text": [
        "\r",
        "Done 334 frame of 2096"
       ]
      },
      {
       "output_type": "stream",
       "stream": "stdout",
       "text": [
        "\r",
        "Done 335 frame of 2096"
       ]
      },
      {
       "output_type": "stream",
       "stream": "stdout",
       "text": [
        "\r",
        "Done 336 frame of 2096"
       ]
      },
      {
       "output_type": "stream",
       "stream": "stdout",
       "text": [
        "\r",
        "Done 337 frame of 2096"
       ]
      },
      {
       "output_type": "stream",
       "stream": "stdout",
       "text": [
        "\r",
        "Done 338 frame of 2096"
       ]
      },
      {
       "output_type": "stream",
       "stream": "stdout",
       "text": [
        "\r",
        "Done 339 frame of 2096"
       ]
      },
      {
       "output_type": "stream",
       "stream": "stdout",
       "text": [
        "\r",
        "Done 340 frame of 2096"
       ]
      },
      {
       "output_type": "stream",
       "stream": "stdout",
       "text": [
        "\r",
        "Done 341 frame of 2096"
       ]
      },
      {
       "output_type": "stream",
       "stream": "stdout",
       "text": [
        "\r",
        "Done 342 frame of 2096"
       ]
      },
      {
       "output_type": "stream",
       "stream": "stdout",
       "text": [
        "\r",
        "Done 343 frame of 2096"
       ]
      },
      {
       "output_type": "stream",
       "stream": "stdout",
       "text": [
        "\r",
        "Done 344 frame of 2096"
       ]
      },
      {
       "output_type": "stream",
       "stream": "stdout",
       "text": [
        "\r",
        "Done 345 frame of 2096"
       ]
      },
      {
       "output_type": "stream",
       "stream": "stdout",
       "text": [
        "\r",
        "Done 346 frame of 2096"
       ]
      },
      {
       "output_type": "stream",
       "stream": "stdout",
       "text": [
        "\r",
        "Done 347 frame of 2096"
       ]
      },
      {
       "output_type": "stream",
       "stream": "stdout",
       "text": [
        "\r",
        "Done 348 frame of 2096"
       ]
      },
      {
       "output_type": "stream",
       "stream": "stdout",
       "text": [
        "\r",
        "Done 349 frame of 2096"
       ]
      },
      {
       "output_type": "stream",
       "stream": "stdout",
       "text": [
        "\r",
        "Done 350 frame of 2096"
       ]
      },
      {
       "output_type": "stream",
       "stream": "stdout",
       "text": [
        "\r",
        "Done 351 frame of 2096"
       ]
      },
      {
       "output_type": "stream",
       "stream": "stdout",
       "text": [
        "\r",
        "Done 352 frame of 2096"
       ]
      },
      {
       "output_type": "stream",
       "stream": "stdout",
       "text": [
        "\r",
        "Done 353 frame of 2096"
       ]
      },
      {
       "output_type": "stream",
       "stream": "stdout",
       "text": [
        "\r",
        "Done 354 frame of 2096"
       ]
      },
      {
       "output_type": "stream",
       "stream": "stdout",
       "text": [
        "\r",
        "Done 355 frame of 2096"
       ]
      },
      {
       "output_type": "stream",
       "stream": "stdout",
       "text": [
        "\r",
        "Done 356 frame of 2096"
       ]
      },
      {
       "output_type": "stream",
       "stream": "stdout",
       "text": [
        "\r",
        "Done 357 frame of 2096"
       ]
      },
      {
       "output_type": "stream",
       "stream": "stdout",
       "text": [
        "\r",
        "Done 358 frame of 2096"
       ]
      },
      {
       "output_type": "stream",
       "stream": "stdout",
       "text": [
        "\r",
        "Done 359 frame of 2096"
       ]
      },
      {
       "output_type": "stream",
       "stream": "stdout",
       "text": [
        "\r",
        "Done 360 frame of 2096"
       ]
      },
      {
       "output_type": "stream",
       "stream": "stdout",
       "text": [
        "\r",
        "Done 361 frame of 2096"
       ]
      },
      {
       "output_type": "stream",
       "stream": "stdout",
       "text": [
        "\r",
        "Done 362 frame of 2096"
       ]
      },
      {
       "output_type": "stream",
       "stream": "stdout",
       "text": [
        "\r",
        "Done 363 frame of 2096"
       ]
      },
      {
       "output_type": "stream",
       "stream": "stdout",
       "text": [
        "\r",
        "Done 364 frame of 2096"
       ]
      },
      {
       "output_type": "stream",
       "stream": "stdout",
       "text": [
        "\r",
        "Done 365 frame of 2096"
       ]
      },
      {
       "output_type": "stream",
       "stream": "stdout",
       "text": [
        "\r",
        "Done 366 frame of 2096"
       ]
      },
      {
       "output_type": "stream",
       "stream": "stdout",
       "text": [
        "\r",
        "Done 367 frame of 2096"
       ]
      },
      {
       "output_type": "stream",
       "stream": "stdout",
       "text": [
        "\r",
        "Done 368 frame of 2096"
       ]
      },
      {
       "output_type": "stream",
       "stream": "stdout",
       "text": [
        "\r",
        "Done 369 frame of 2096"
       ]
      },
      {
       "output_type": "stream",
       "stream": "stdout",
       "text": [
        "\r",
        "Done 370 frame of 2096"
       ]
      },
      {
       "output_type": "stream",
       "stream": "stdout",
       "text": [
        "\r",
        "Done 371 frame of 2096"
       ]
      },
      {
       "output_type": "stream",
       "stream": "stdout",
       "text": [
        "\r",
        "Done 372 frame of 2096"
       ]
      },
      {
       "output_type": "stream",
       "stream": "stdout",
       "text": [
        "\r",
        "Done 373 frame of 2096"
       ]
      },
      {
       "output_type": "stream",
       "stream": "stdout",
       "text": [
        "\r",
        "Done 374 frame of 2096"
       ]
      },
      {
       "output_type": "stream",
       "stream": "stdout",
       "text": [
        "\r",
        "Done 375 frame of 2096"
       ]
      },
      {
       "output_type": "stream",
       "stream": "stdout",
       "text": [
        "\r",
        "Done 376 frame of 2096"
       ]
      },
      {
       "output_type": "stream",
       "stream": "stdout",
       "text": [
        "\r",
        "Done 377 frame of 2096"
       ]
      },
      {
       "output_type": "stream",
       "stream": "stdout",
       "text": [
        "\r",
        "Done 378 frame of 2096"
       ]
      },
      {
       "output_type": "stream",
       "stream": "stdout",
       "text": [
        "\r",
        "Done 379 frame of 2096"
       ]
      },
      {
       "output_type": "stream",
       "stream": "stdout",
       "text": [
        "\r",
        "Done 380 frame of 2096"
       ]
      },
      {
       "output_type": "stream",
       "stream": "stdout",
       "text": [
        "\r",
        "Done 381 frame of 2096"
       ]
      },
      {
       "output_type": "stream",
       "stream": "stdout",
       "text": [
        "\r",
        "Done 382 frame of 2096"
       ]
      },
      {
       "output_type": "stream",
       "stream": "stdout",
       "text": [
        "\r",
        "Done 383 frame of 2096"
       ]
      },
      {
       "output_type": "stream",
       "stream": "stdout",
       "text": [
        "\r",
        "Done 384 frame of 2096"
       ]
      },
      {
       "output_type": "stream",
       "stream": "stdout",
       "text": [
        "\r",
        "Done 385 frame of 2096"
       ]
      },
      {
       "output_type": "stream",
       "stream": "stdout",
       "text": [
        "\r",
        "Done 386 frame of 2096"
       ]
      },
      {
       "output_type": "stream",
       "stream": "stdout",
       "text": [
        "\r",
        "Done 387 frame of 2096"
       ]
      },
      {
       "output_type": "stream",
       "stream": "stdout",
       "text": [
        "\r",
        "Done 388 frame of 2096"
       ]
      },
      {
       "output_type": "stream",
       "stream": "stdout",
       "text": [
        "\r",
        "Done 389 frame of 2096"
       ]
      },
      {
       "output_type": "stream",
       "stream": "stdout",
       "text": [
        "\r",
        "Done 390 frame of 2096"
       ]
      },
      {
       "output_type": "stream",
       "stream": "stdout",
       "text": [
        "\r",
        "Done 391 frame of 2096"
       ]
      },
      {
       "output_type": "stream",
       "stream": "stdout",
       "text": [
        "\r",
        "Done 392 frame of 2096"
       ]
      },
      {
       "output_type": "stream",
       "stream": "stdout",
       "text": [
        "\r",
        "Done 393 frame of 2096"
       ]
      },
      {
       "output_type": "stream",
       "stream": "stdout",
       "text": [
        "\r",
        "Done 394 frame of 2096"
       ]
      },
      {
       "output_type": "stream",
       "stream": "stdout",
       "text": [
        "\r",
        "Done 395 frame of 2096"
       ]
      },
      {
       "output_type": "stream",
       "stream": "stdout",
       "text": [
        "\r",
        "Done 396 frame of 2096"
       ]
      },
      {
       "output_type": "stream",
       "stream": "stdout",
       "text": [
        "\r",
        "Done 397 frame of 2096"
       ]
      },
      {
       "output_type": "stream",
       "stream": "stdout",
       "text": [
        "\r",
        "Done 398 frame of 2096"
       ]
      },
      {
       "output_type": "stream",
       "stream": "stdout",
       "text": [
        "\r",
        "Done 399 frame of 2096"
       ]
      },
      {
       "output_type": "stream",
       "stream": "stdout",
       "text": [
        "\r",
        "Done 400 frame of 2096"
       ]
      },
      {
       "output_type": "stream",
       "stream": "stdout",
       "text": [
        "\r",
        "Done 401 frame of 2096"
       ]
      },
      {
       "output_type": "stream",
       "stream": "stdout",
       "text": [
        "\r",
        "Done 402 frame of 2096"
       ]
      },
      {
       "output_type": "stream",
       "stream": "stdout",
       "text": [
        "\r",
        "Done 403 frame of 2096"
       ]
      },
      {
       "output_type": "stream",
       "stream": "stdout",
       "text": [
        "\r",
        "Done 404 frame of 2096"
       ]
      },
      {
       "output_type": "stream",
       "stream": "stdout",
       "text": [
        "\r",
        "Done 405 frame of 2096"
       ]
      },
      {
       "output_type": "stream",
       "stream": "stdout",
       "text": [
        "\r",
        "Done 406 frame of 2096"
       ]
      },
      {
       "output_type": "stream",
       "stream": "stdout",
       "text": [
        "\r",
        "Done 407 frame of 2096"
       ]
      },
      {
       "output_type": "stream",
       "stream": "stdout",
       "text": [
        "\r",
        "Done 408 frame of 2096"
       ]
      },
      {
       "output_type": "stream",
       "stream": "stdout",
       "text": [
        "\r",
        "Done 409 frame of 2096"
       ]
      },
      {
       "output_type": "stream",
       "stream": "stdout",
       "text": [
        "\r",
        "Done 410 frame of 2096"
       ]
      },
      {
       "output_type": "stream",
       "stream": "stdout",
       "text": [
        "\r",
        "Done 411 frame of 2096"
       ]
      },
      {
       "output_type": "stream",
       "stream": "stdout",
       "text": [
        "\r",
        "Done 412 frame of 2096"
       ]
      },
      {
       "output_type": "stream",
       "stream": "stdout",
       "text": [
        "\r",
        "Done 413 frame of 2096"
       ]
      },
      {
       "output_type": "stream",
       "stream": "stdout",
       "text": [
        "\r",
        "Done 414 frame of 2096"
       ]
      },
      {
       "output_type": "stream",
       "stream": "stdout",
       "text": [
        "\r",
        "Done 415 frame of 2096"
       ]
      },
      {
       "output_type": "stream",
       "stream": "stdout",
       "text": [
        "\r",
        "Done 416 frame of 2096"
       ]
      },
      {
       "output_type": "stream",
       "stream": "stdout",
       "text": [
        "\r",
        "Done 417 frame of 2096"
       ]
      },
      {
       "output_type": "stream",
       "stream": "stdout",
       "text": [
        "\r",
        "Done 418 frame of 2096"
       ]
      },
      {
       "output_type": "stream",
       "stream": "stdout",
       "text": [
        "\r",
        "Done 419 frame of 2096"
       ]
      },
      {
       "output_type": "stream",
       "stream": "stdout",
       "text": [
        "\r",
        "Done 420 frame of 2096"
       ]
      },
      {
       "output_type": "stream",
       "stream": "stdout",
       "text": [
        "\r",
        "Done 421 frame of 2096"
       ]
      },
      {
       "output_type": "stream",
       "stream": "stdout",
       "text": [
        "\r",
        "Done 422 frame of 2096"
       ]
      },
      {
       "output_type": "stream",
       "stream": "stdout",
       "text": [
        "\r",
        "Done 423 frame of 2096"
       ]
      },
      {
       "output_type": "stream",
       "stream": "stdout",
       "text": [
        "\r",
        "Done 424 frame of 2096"
       ]
      },
      {
       "output_type": "stream",
       "stream": "stdout",
       "text": [
        "\r",
        "Done 425 frame of 2096"
       ]
      },
      {
       "output_type": "stream",
       "stream": "stdout",
       "text": [
        "\r",
        "Done 426 frame of 2096"
       ]
      },
      {
       "output_type": "stream",
       "stream": "stdout",
       "text": [
        "\r",
        "Done 427 frame of 2096"
       ]
      },
      {
       "output_type": "stream",
       "stream": "stdout",
       "text": [
        "\r",
        "Done 428 frame of 2096"
       ]
      },
      {
       "output_type": "stream",
       "stream": "stdout",
       "text": [
        "\r",
        "Done 429 frame of 2096"
       ]
      },
      {
       "output_type": "stream",
       "stream": "stdout",
       "text": [
        "\r",
        "Done 430 frame of 2096"
       ]
      },
      {
       "output_type": "stream",
       "stream": "stdout",
       "text": [
        "\r",
        "Done 431 frame of 2096"
       ]
      },
      {
       "output_type": "stream",
       "stream": "stdout",
       "text": [
        "\r",
        "Done 432 frame of 2096"
       ]
      },
      {
       "output_type": "stream",
       "stream": "stdout",
       "text": [
        "\r",
        "Done 433 frame of 2096"
       ]
      },
      {
       "output_type": "stream",
       "stream": "stdout",
       "text": [
        "\r",
        "Done 434 frame of 2096"
       ]
      },
      {
       "output_type": "stream",
       "stream": "stdout",
       "text": [
        "\r",
        "Done 435 frame of 2096"
       ]
      },
      {
       "output_type": "stream",
       "stream": "stdout",
       "text": [
        "\r",
        "Done 436 frame of 2096"
       ]
      },
      {
       "output_type": "stream",
       "stream": "stdout",
       "text": [
        "\r",
        "Done 437 frame of 2096"
       ]
      },
      {
       "output_type": "stream",
       "stream": "stdout",
       "text": [
        "\r",
        "Done 438 frame of 2096"
       ]
      },
      {
       "output_type": "stream",
       "stream": "stdout",
       "text": [
        "\r",
        "Done 439 frame of 2096"
       ]
      },
      {
       "output_type": "stream",
       "stream": "stdout",
       "text": [
        "\r",
        "Done 440 frame of 2096"
       ]
      },
      {
       "output_type": "stream",
       "stream": "stdout",
       "text": [
        "\r",
        "Done 441 frame of 2096"
       ]
      },
      {
       "output_type": "stream",
       "stream": "stdout",
       "text": [
        "\r",
        "Done 442 frame of 2096"
       ]
      },
      {
       "output_type": "stream",
       "stream": "stdout",
       "text": [
        "\r",
        "Done 443 frame of 2096"
       ]
      },
      {
       "output_type": "stream",
       "stream": "stdout",
       "text": [
        "\r",
        "Done 444 frame of 2096"
       ]
      },
      {
       "output_type": "stream",
       "stream": "stdout",
       "text": [
        "\r",
        "Done 445 frame of 2096"
       ]
      },
      {
       "output_type": "stream",
       "stream": "stdout",
       "text": [
        "\r",
        "Done 446 frame of 2096"
       ]
      },
      {
       "output_type": "stream",
       "stream": "stdout",
       "text": [
        "\r",
        "Done 447 frame of 2096"
       ]
      },
      {
       "output_type": "stream",
       "stream": "stdout",
       "text": [
        "\r",
        "Done 448 frame of 2096"
       ]
      },
      {
       "output_type": "stream",
       "stream": "stdout",
       "text": [
        "\r",
        "Done 449 frame of 2096"
       ]
      },
      {
       "output_type": "stream",
       "stream": "stdout",
       "text": [
        "\r",
        "Done 450 frame of 2096"
       ]
      },
      {
       "output_type": "stream",
       "stream": "stdout",
       "text": [
        "\r",
        "Done 451 frame of 2096"
       ]
      },
      {
       "output_type": "stream",
       "stream": "stdout",
       "text": [
        "\r",
        "Done 452 frame of 2096"
       ]
      },
      {
       "output_type": "stream",
       "stream": "stdout",
       "text": [
        "\r",
        "Done 453 frame of 2096"
       ]
      },
      {
       "output_type": "stream",
       "stream": "stdout",
       "text": [
        "\r",
        "Done 454 frame of 2096"
       ]
      },
      {
       "output_type": "stream",
       "stream": "stdout",
       "text": [
        "\r",
        "Done 455 frame of 2096"
       ]
      },
      {
       "output_type": "stream",
       "stream": "stdout",
       "text": [
        "\r",
        "Done 456 frame of 2096"
       ]
      },
      {
       "output_type": "stream",
       "stream": "stdout",
       "text": [
        "\r",
        "Done 457 frame of 2096"
       ]
      },
      {
       "output_type": "stream",
       "stream": "stdout",
       "text": [
        "\r",
        "Done 458 frame of 2096"
       ]
      },
      {
       "output_type": "stream",
       "stream": "stdout",
       "text": [
        "\r",
        "Done 459 frame of 2096"
       ]
      },
      {
       "output_type": "stream",
       "stream": "stdout",
       "text": [
        "\r",
        "Done 460 frame of 2096"
       ]
      },
      {
       "output_type": "stream",
       "stream": "stdout",
       "text": [
        "\r",
        "Done 461 frame of 2096"
       ]
      },
      {
       "output_type": "stream",
       "stream": "stdout",
       "text": [
        "\r",
        "Done 462 frame of 2096"
       ]
      },
      {
       "output_type": "stream",
       "stream": "stdout",
       "text": [
        "\r",
        "Done 463 frame of 2096"
       ]
      },
      {
       "output_type": "stream",
       "stream": "stdout",
       "text": [
        "\r",
        "Done 464 frame of 2096"
       ]
      },
      {
       "output_type": "stream",
       "stream": "stdout",
       "text": [
        "\r",
        "Done 465 frame of 2096"
       ]
      },
      {
       "output_type": "stream",
       "stream": "stdout",
       "text": [
        "\r",
        "Done 466 frame of 2096"
       ]
      },
      {
       "output_type": "stream",
       "stream": "stdout",
       "text": [
        "\r",
        "Done 467 frame of 2096"
       ]
      },
      {
       "output_type": "stream",
       "stream": "stdout",
       "text": [
        "\r",
        "Done 468 frame of 2096"
       ]
      },
      {
       "output_type": "stream",
       "stream": "stdout",
       "text": [
        "\r",
        "Done 469 frame of 2096"
       ]
      },
      {
       "output_type": "stream",
       "stream": "stdout",
       "text": [
        "\r",
        "Done 470 frame of 2096"
       ]
      },
      {
       "output_type": "stream",
       "stream": "stdout",
       "text": [
        "\r",
        "Done 471 frame of 2096"
       ]
      },
      {
       "output_type": "stream",
       "stream": "stdout",
       "text": [
        "\r",
        "Done 472 frame of 2096"
       ]
      },
      {
       "output_type": "stream",
       "stream": "stdout",
       "text": [
        "\r",
        "Done 473 frame of 2096"
       ]
      },
      {
       "output_type": "stream",
       "stream": "stdout",
       "text": [
        "\r",
        "Done 474 frame of 2096"
       ]
      },
      {
       "output_type": "stream",
       "stream": "stdout",
       "text": [
        "\r",
        "Done 475 frame of 2096"
       ]
      },
      {
       "output_type": "stream",
       "stream": "stdout",
       "text": [
        "\r",
        "Done 476 frame of 2096"
       ]
      },
      {
       "output_type": "stream",
       "stream": "stdout",
       "text": [
        "\r",
        "Done 477 frame of 2096"
       ]
      },
      {
       "output_type": "stream",
       "stream": "stdout",
       "text": [
        "\r",
        "Done 478 frame of 2096"
       ]
      },
      {
       "output_type": "stream",
       "stream": "stdout",
       "text": [
        "\r",
        "Done 479 frame of 2096"
       ]
      },
      {
       "output_type": "stream",
       "stream": "stdout",
       "text": [
        "\r",
        "Done 480 frame of 2096"
       ]
      },
      {
       "output_type": "stream",
       "stream": "stdout",
       "text": [
        "\r",
        "Done 481 frame of 2096"
       ]
      },
      {
       "output_type": "stream",
       "stream": "stdout",
       "text": [
        "\r",
        "Done 482 frame of 2096"
       ]
      },
      {
       "output_type": "stream",
       "stream": "stdout",
       "text": [
        "\r",
        "Done 483 frame of 2096"
       ]
      },
      {
       "output_type": "stream",
       "stream": "stdout",
       "text": [
        "\r",
        "Done 484 frame of 2096"
       ]
      },
      {
       "output_type": "stream",
       "stream": "stdout",
       "text": [
        "\r",
        "Done 485 frame of 2096"
       ]
      },
      {
       "output_type": "stream",
       "stream": "stdout",
       "text": [
        "\r",
        "Done 486 frame of 2096"
       ]
      },
      {
       "output_type": "stream",
       "stream": "stdout",
       "text": [
        "\r",
        "Done 487 frame of 2096"
       ]
      },
      {
       "output_type": "stream",
       "stream": "stdout",
       "text": [
        "\r",
        "Done 488 frame of 2096"
       ]
      },
      {
       "output_type": "stream",
       "stream": "stdout",
       "text": [
        "\r",
        "Done 489 frame of 2096"
       ]
      },
      {
       "output_type": "stream",
       "stream": "stdout",
       "text": [
        "\r",
        "Done 490 frame of 2096"
       ]
      },
      {
       "output_type": "stream",
       "stream": "stdout",
       "text": [
        "\r",
        "Done 491 frame of 2096"
       ]
      },
      {
       "output_type": "stream",
       "stream": "stdout",
       "text": [
        "\r",
        "Done 492 frame of 2096"
       ]
      },
      {
       "output_type": "stream",
       "stream": "stdout",
       "text": [
        "\r",
        "Done 493 frame of 2096"
       ]
      },
      {
       "output_type": "stream",
       "stream": "stdout",
       "text": [
        "\r",
        "Done 494 frame of 2096"
       ]
      },
      {
       "output_type": "stream",
       "stream": "stdout",
       "text": [
        "\r",
        "Done 495 frame of 2096"
       ]
      },
      {
       "output_type": "stream",
       "stream": "stdout",
       "text": [
        "\r",
        "Done 496 frame of 2096"
       ]
      },
      {
       "output_type": "stream",
       "stream": "stdout",
       "text": [
        "\r",
        "Done 497 frame of 2096"
       ]
      },
      {
       "output_type": "stream",
       "stream": "stdout",
       "text": [
        "\r",
        "Done 498 frame of 2096"
       ]
      },
      {
       "output_type": "stream",
       "stream": "stdout",
       "text": [
        "\r",
        "Done 499 frame of 2096"
       ]
      },
      {
       "output_type": "stream",
       "stream": "stdout",
       "text": [
        "\r",
        "Done 500 frame of 2096"
       ]
      },
      {
       "output_type": "stream",
       "stream": "stdout",
       "text": [
        "\r",
        "Done 501 frame of 2096"
       ]
      },
      {
       "output_type": "stream",
       "stream": "stdout",
       "text": [
        "\r",
        "Done 502 frame of 2096"
       ]
      },
      {
       "output_type": "stream",
       "stream": "stdout",
       "text": [
        "\r",
        "Done 503 frame of 2096"
       ]
      },
      {
       "output_type": "stream",
       "stream": "stdout",
       "text": [
        "\r",
        "Done 504 frame of 2096"
       ]
      },
      {
       "output_type": "stream",
       "stream": "stdout",
       "text": [
        "\r",
        "Done 505 frame of 2096"
       ]
      },
      {
       "output_type": "stream",
       "stream": "stdout",
       "text": [
        "\r",
        "Done 506 frame of 2096"
       ]
      },
      {
       "output_type": "stream",
       "stream": "stdout",
       "text": [
        "\r",
        "Done 507 frame of 2096"
       ]
      },
      {
       "output_type": "stream",
       "stream": "stdout",
       "text": [
        "\r",
        "Done 508 frame of 2096"
       ]
      },
      {
       "output_type": "stream",
       "stream": "stdout",
       "text": [
        "\r",
        "Done 509 frame of 2096"
       ]
      },
      {
       "output_type": "stream",
       "stream": "stdout",
       "text": [
        "\r",
        "Done 510 frame of 2096"
       ]
      },
      {
       "output_type": "stream",
       "stream": "stdout",
       "text": [
        "\r",
        "Done 511 frame of 2096"
       ]
      },
      {
       "output_type": "stream",
       "stream": "stdout",
       "text": [
        "\r",
        "Done 512 frame of 2096"
       ]
      },
      {
       "output_type": "stream",
       "stream": "stdout",
       "text": [
        "\r",
        "Done 513 frame of 2096"
       ]
      },
      {
       "output_type": "stream",
       "stream": "stdout",
       "text": [
        "\r",
        "Done 514 frame of 2096"
       ]
      },
      {
       "output_type": "stream",
       "stream": "stdout",
       "text": [
        "\r",
        "Done 515 frame of 2096"
       ]
      },
      {
       "output_type": "stream",
       "stream": "stdout",
       "text": [
        "\r",
        "Done 516 frame of 2096"
       ]
      },
      {
       "output_type": "stream",
       "stream": "stdout",
       "text": [
        "\r",
        "Done 517 frame of 2096"
       ]
      },
      {
       "output_type": "stream",
       "stream": "stdout",
       "text": [
        "\r",
        "Done 518 frame of 2096"
       ]
      },
      {
       "output_type": "stream",
       "stream": "stdout",
       "text": [
        "\r",
        "Done 519 frame of 2096"
       ]
      },
      {
       "output_type": "stream",
       "stream": "stdout",
       "text": [
        "\r",
        "Done 520 frame of 2096"
       ]
      },
      {
       "output_type": "stream",
       "stream": "stdout",
       "text": [
        "\r",
        "Done 521 frame of 2096"
       ]
      },
      {
       "output_type": "stream",
       "stream": "stdout",
       "text": [
        "\r",
        "Done 522 frame of 2096"
       ]
      },
      {
       "output_type": "stream",
       "stream": "stdout",
       "text": [
        "\r",
        "Done 523 frame of 2096"
       ]
      },
      {
       "output_type": "stream",
       "stream": "stdout",
       "text": [
        "\r",
        "Done 524 frame of 2096"
       ]
      },
      {
       "output_type": "stream",
       "stream": "stdout",
       "text": [
        "\r",
        "Done 525 frame of 2096"
       ]
      },
      {
       "output_type": "stream",
       "stream": "stdout",
       "text": [
        "\r",
        "Done 526 frame of 2096"
       ]
      },
      {
       "output_type": "stream",
       "stream": "stdout",
       "text": [
        "\r",
        "Done 527 frame of 2096"
       ]
      },
      {
       "output_type": "stream",
       "stream": "stdout",
       "text": [
        "\r",
        "Done 528 frame of 2096"
       ]
      },
      {
       "output_type": "stream",
       "stream": "stdout",
       "text": [
        "\r",
        "Done 529 frame of 2096"
       ]
      },
      {
       "output_type": "stream",
       "stream": "stdout",
       "text": [
        "\r",
        "Done 530 frame of 2096"
       ]
      },
      {
       "output_type": "stream",
       "stream": "stdout",
       "text": [
        "\r",
        "Done 531 frame of 2096"
       ]
      },
      {
       "output_type": "stream",
       "stream": "stdout",
       "text": [
        "\r",
        "Done 532 frame of 2096"
       ]
      },
      {
       "output_type": "stream",
       "stream": "stdout",
       "text": [
        "\r",
        "Done 533 frame of 2096"
       ]
      },
      {
       "output_type": "stream",
       "stream": "stdout",
       "text": [
        "\r",
        "Done 534 frame of 2096"
       ]
      },
      {
       "output_type": "stream",
       "stream": "stdout",
       "text": [
        "\r",
        "Done 535 frame of 2096"
       ]
      },
      {
       "output_type": "stream",
       "stream": "stdout",
       "text": [
        "\r",
        "Done 536 frame of 2096"
       ]
      },
      {
       "output_type": "stream",
       "stream": "stdout",
       "text": [
        "\r",
        "Done 537 frame of 2096"
       ]
      },
      {
       "output_type": "stream",
       "stream": "stdout",
       "text": [
        "\r",
        "Done 538 frame of 2096"
       ]
      },
      {
       "output_type": "stream",
       "stream": "stdout",
       "text": [
        "\r",
        "Done 539 frame of 2096"
       ]
      },
      {
       "output_type": "stream",
       "stream": "stdout",
       "text": [
        "\r",
        "Done 540 frame of 2096"
       ]
      },
      {
       "output_type": "stream",
       "stream": "stdout",
       "text": [
        "\r",
        "Done 541 frame of 2096"
       ]
      },
      {
       "output_type": "stream",
       "stream": "stdout",
       "text": [
        "\r",
        "Done 542 frame of 2096"
       ]
      },
      {
       "output_type": "stream",
       "stream": "stdout",
       "text": [
        "\r",
        "Done 543 frame of 2096"
       ]
      },
      {
       "output_type": "stream",
       "stream": "stdout",
       "text": [
        "\r",
        "Done 544 frame of 2096"
       ]
      },
      {
       "output_type": "stream",
       "stream": "stdout",
       "text": [
        "\r",
        "Done 545 frame of 2096"
       ]
      },
      {
       "output_type": "stream",
       "stream": "stdout",
       "text": [
        "\r",
        "Done 546 frame of 2096"
       ]
      },
      {
       "output_type": "stream",
       "stream": "stdout",
       "text": [
        "\r",
        "Done 547 frame of 2096"
       ]
      },
      {
       "output_type": "stream",
       "stream": "stdout",
       "text": [
        "\r",
        "Done 548 frame of 2096"
       ]
      },
      {
       "output_type": "stream",
       "stream": "stdout",
       "text": [
        "\r",
        "Done 549 frame of 2096"
       ]
      },
      {
       "output_type": "stream",
       "stream": "stdout",
       "text": [
        "\r",
        "Done 550 frame of 2096"
       ]
      },
      {
       "output_type": "stream",
       "stream": "stdout",
       "text": [
        "\r",
        "Done 551 frame of 2096"
       ]
      },
      {
       "output_type": "stream",
       "stream": "stdout",
       "text": [
        "\r",
        "Done 552 frame of 2096"
       ]
      },
      {
       "output_type": "stream",
       "stream": "stdout",
       "text": [
        "\r",
        "Done 553 frame of 2096"
       ]
      },
      {
       "output_type": "stream",
       "stream": "stdout",
       "text": [
        "\r",
        "Done 554 frame of 2096"
       ]
      },
      {
       "output_type": "stream",
       "stream": "stdout",
       "text": [
        "\r",
        "Done 555 frame of 2096"
       ]
      },
      {
       "output_type": "stream",
       "stream": "stdout",
       "text": [
        "\r",
        "Done 556 frame of 2096"
       ]
      },
      {
       "output_type": "stream",
       "stream": "stdout",
       "text": [
        "\r",
        "Done 557 frame of 2096"
       ]
      },
      {
       "output_type": "stream",
       "stream": "stdout",
       "text": [
        "\r",
        "Done 558 frame of 2096"
       ]
      },
      {
       "output_type": "stream",
       "stream": "stdout",
       "text": [
        "\r",
        "Done 559 frame of 2096"
       ]
      },
      {
       "output_type": "stream",
       "stream": "stdout",
       "text": [
        "\r",
        "Done 560 frame of 2096"
       ]
      },
      {
       "output_type": "stream",
       "stream": "stdout",
       "text": [
        "\r",
        "Done 561 frame of 2096"
       ]
      },
      {
       "output_type": "stream",
       "stream": "stdout",
       "text": [
        "\r",
        "Done 562 frame of 2096"
       ]
      },
      {
       "output_type": "stream",
       "stream": "stdout",
       "text": [
        "\r",
        "Done 563 frame of 2096"
       ]
      },
      {
       "output_type": "stream",
       "stream": "stdout",
       "text": [
        "\r",
        "Done 564 frame of 2096"
       ]
      },
      {
       "output_type": "stream",
       "stream": "stdout",
       "text": [
        "\r",
        "Done 565 frame of 2096"
       ]
      },
      {
       "output_type": "stream",
       "stream": "stdout",
       "text": [
        "\r",
        "Done 566 frame of 2096"
       ]
      },
      {
       "output_type": "stream",
       "stream": "stdout",
       "text": [
        "\r",
        "Done 567 frame of 2096"
       ]
      },
      {
       "output_type": "stream",
       "stream": "stdout",
       "text": [
        "\r",
        "Done 568 frame of 2096"
       ]
      },
      {
       "output_type": "stream",
       "stream": "stdout",
       "text": [
        "\r",
        "Done 569 frame of 2096"
       ]
      },
      {
       "output_type": "stream",
       "stream": "stdout",
       "text": [
        "\r",
        "Done 570 frame of 2096"
       ]
      },
      {
       "output_type": "stream",
       "stream": "stdout",
       "text": [
        "\r",
        "Done 571 frame of 2096"
       ]
      },
      {
       "output_type": "stream",
       "stream": "stdout",
       "text": [
        "\r",
        "Done 572 frame of 2096"
       ]
      },
      {
       "output_type": "stream",
       "stream": "stdout",
       "text": [
        "\r",
        "Done 573 frame of 2096"
       ]
      },
      {
       "output_type": "stream",
       "stream": "stdout",
       "text": [
        "\r",
        "Done 574 frame of 2096"
       ]
      },
      {
       "output_type": "stream",
       "stream": "stdout",
       "text": [
        "\r",
        "Done 575 frame of 2096"
       ]
      },
      {
       "output_type": "stream",
       "stream": "stdout",
       "text": [
        "\r",
        "Done 576 frame of 2096"
       ]
      },
      {
       "output_type": "stream",
       "stream": "stdout",
       "text": [
        "\r",
        "Done 577 frame of 2096"
       ]
      },
      {
       "output_type": "stream",
       "stream": "stdout",
       "text": [
        "\r",
        "Done 578 frame of 2096"
       ]
      },
      {
       "output_type": "stream",
       "stream": "stdout",
       "text": [
        "\r",
        "Done 579 frame of 2096"
       ]
      },
      {
       "output_type": "stream",
       "stream": "stdout",
       "text": [
        "\r",
        "Done 580 frame of 2096"
       ]
      },
      {
       "output_type": "stream",
       "stream": "stdout",
       "text": [
        "\r",
        "Done 581 frame of 2096"
       ]
      },
      {
       "output_type": "stream",
       "stream": "stdout",
       "text": [
        "\r",
        "Done 582 frame of 2096"
       ]
      },
      {
       "output_type": "stream",
       "stream": "stdout",
       "text": [
        "\r",
        "Done 583 frame of 2096"
       ]
      },
      {
       "output_type": "stream",
       "stream": "stdout",
       "text": [
        "\r",
        "Done 584 frame of 2096"
       ]
      },
      {
       "output_type": "stream",
       "stream": "stdout",
       "text": [
        "\r",
        "Done 585 frame of 2096"
       ]
      },
      {
       "output_type": "stream",
       "stream": "stdout",
       "text": [
        "\r",
        "Done 586 frame of 2096"
       ]
      },
      {
       "output_type": "stream",
       "stream": "stdout",
       "text": [
        "\r",
        "Done 587 frame of 2096"
       ]
      },
      {
       "output_type": "stream",
       "stream": "stdout",
       "text": [
        "\r",
        "Done 588 frame of 2096"
       ]
      },
      {
       "output_type": "stream",
       "stream": "stdout",
       "text": [
        "\r",
        "Done 589 frame of 2096"
       ]
      },
      {
       "output_type": "stream",
       "stream": "stdout",
       "text": [
        "\r",
        "Done 590 frame of 2096"
       ]
      },
      {
       "output_type": "stream",
       "stream": "stdout",
       "text": [
        "\r",
        "Done 591 frame of 2096"
       ]
      },
      {
       "output_type": "stream",
       "stream": "stdout",
       "text": [
        "\r",
        "Done 592 frame of 2096"
       ]
      },
      {
       "output_type": "stream",
       "stream": "stdout",
       "text": [
        "\r",
        "Done 593 frame of 2096"
       ]
      },
      {
       "output_type": "stream",
       "stream": "stdout",
       "text": [
        "\r",
        "Done 594 frame of 2096"
       ]
      },
      {
       "output_type": "stream",
       "stream": "stdout",
       "text": [
        "\r",
        "Done 595 frame of 2096"
       ]
      },
      {
       "output_type": "stream",
       "stream": "stdout",
       "text": [
        "\r",
        "Done 596 frame of 2096"
       ]
      },
      {
       "output_type": "stream",
       "stream": "stdout",
       "text": [
        "\r",
        "Done 597 frame of 2096"
       ]
      },
      {
       "output_type": "stream",
       "stream": "stdout",
       "text": [
        "\r",
        "Done 598 frame of 2096"
       ]
      },
      {
       "output_type": "stream",
       "stream": "stdout",
       "text": [
        "\r",
        "Done 599 frame of 2096"
       ]
      },
      {
       "output_type": "stream",
       "stream": "stdout",
       "text": [
        "\r",
        "Done 600 frame of 2096"
       ]
      },
      {
       "output_type": "stream",
       "stream": "stdout",
       "text": [
        "\r",
        "Done 601 frame of 2096"
       ]
      },
      {
       "output_type": "stream",
       "stream": "stdout",
       "text": [
        "\r",
        "Done 602 frame of 2096"
       ]
      },
      {
       "output_type": "stream",
       "stream": "stdout",
       "text": [
        "\r",
        "Done 603 frame of 2096"
       ]
      },
      {
       "output_type": "stream",
       "stream": "stdout",
       "text": [
        "\r",
        "Done 604 frame of 2096"
       ]
      },
      {
       "output_type": "stream",
       "stream": "stdout",
       "text": [
        "\r",
        "Done 605 frame of 2096"
       ]
      },
      {
       "output_type": "stream",
       "stream": "stdout",
       "text": [
        "\r",
        "Done 606 frame of 2096"
       ]
      },
      {
       "output_type": "stream",
       "stream": "stdout",
       "text": [
        "\r",
        "Done 607 frame of 2096"
       ]
      },
      {
       "output_type": "stream",
       "stream": "stdout",
       "text": [
        "\r",
        "Done 608 frame of 2096"
       ]
      },
      {
       "output_type": "stream",
       "stream": "stdout",
       "text": [
        "\r",
        "Done 609 frame of 2096"
       ]
      },
      {
       "output_type": "stream",
       "stream": "stdout",
       "text": [
        "\r",
        "Done 610 frame of 2096"
       ]
      },
      {
       "output_type": "stream",
       "stream": "stdout",
       "text": [
        "\r",
        "Done 611 frame of 2096"
       ]
      },
      {
       "output_type": "stream",
       "stream": "stdout",
       "text": [
        "\r",
        "Done 612 frame of 2096"
       ]
      },
      {
       "output_type": "stream",
       "stream": "stdout",
       "text": [
        "\r",
        "Done 613 frame of 2096"
       ]
      },
      {
       "output_type": "stream",
       "stream": "stdout",
       "text": [
        "\r",
        "Done 614 frame of 2096"
       ]
      },
      {
       "output_type": "stream",
       "stream": "stdout",
       "text": [
        "\r",
        "Done 615 frame of 2096"
       ]
      },
      {
       "output_type": "stream",
       "stream": "stdout",
       "text": [
        "\r",
        "Done 616 frame of 2096"
       ]
      },
      {
       "output_type": "stream",
       "stream": "stdout",
       "text": [
        "\r",
        "Done 617 frame of 2096"
       ]
      },
      {
       "output_type": "stream",
       "stream": "stdout",
       "text": [
        "\r",
        "Done 618 frame of 2096"
       ]
      },
      {
       "output_type": "stream",
       "stream": "stdout",
       "text": [
        "\r",
        "Done 619 frame of 2096"
       ]
      },
      {
       "output_type": "stream",
       "stream": "stdout",
       "text": [
        "\r",
        "Done 620 frame of 2096"
       ]
      },
      {
       "output_type": "stream",
       "stream": "stdout",
       "text": [
        "\r",
        "Done 621 frame of 2096"
       ]
      },
      {
       "output_type": "stream",
       "stream": "stdout",
       "text": [
        "\r",
        "Done 622 frame of 2096"
       ]
      },
      {
       "output_type": "stream",
       "stream": "stdout",
       "text": [
        "\r",
        "Done 623 frame of 2096"
       ]
      },
      {
       "output_type": "stream",
       "stream": "stdout",
       "text": [
        "\r",
        "Done 624 frame of 2096"
       ]
      },
      {
       "output_type": "stream",
       "stream": "stdout",
       "text": [
        "\r",
        "Done 625 frame of 2096"
       ]
      },
      {
       "output_type": "stream",
       "stream": "stdout",
       "text": [
        "\r",
        "Done 626 frame of 2096"
       ]
      },
      {
       "output_type": "stream",
       "stream": "stdout",
       "text": [
        "\r",
        "Done 627 frame of 2096"
       ]
      },
      {
       "output_type": "stream",
       "stream": "stdout",
       "text": [
        "\r",
        "Done 628 frame of 2096"
       ]
      },
      {
       "output_type": "stream",
       "stream": "stdout",
       "text": [
        "\r",
        "Done 629 frame of 2096"
       ]
      },
      {
       "output_type": "stream",
       "stream": "stdout",
       "text": [
        "\r",
        "Done 630 frame of 2096"
       ]
      },
      {
       "output_type": "stream",
       "stream": "stdout",
       "text": [
        "\r",
        "Done 631 frame of 2096"
       ]
      },
      {
       "output_type": "stream",
       "stream": "stdout",
       "text": [
        "\r",
        "Done 632 frame of 2096"
       ]
      },
      {
       "output_type": "stream",
       "stream": "stdout",
       "text": [
        "\r",
        "Done 633 frame of 2096"
       ]
      },
      {
       "output_type": "stream",
       "stream": "stdout",
       "text": [
        "\r",
        "Done 634 frame of 2096"
       ]
      },
      {
       "output_type": "stream",
       "stream": "stdout",
       "text": [
        "\r",
        "Done 635 frame of 2096"
       ]
      },
      {
       "output_type": "stream",
       "stream": "stdout",
       "text": [
        "\r",
        "Done 636 frame of 2096"
       ]
      },
      {
       "output_type": "stream",
       "stream": "stdout",
       "text": [
        "\r",
        "Done 637 frame of 2096"
       ]
      },
      {
       "output_type": "stream",
       "stream": "stdout",
       "text": [
        "\r",
        "Done 638 frame of 2096"
       ]
      },
      {
       "output_type": "stream",
       "stream": "stdout",
       "text": [
        "\r",
        "Done 639 frame of 2096"
       ]
      },
      {
       "output_type": "stream",
       "stream": "stdout",
       "text": [
        "\r",
        "Done 640 frame of 2096"
       ]
      },
      {
       "output_type": "stream",
       "stream": "stdout",
       "text": [
        "\r",
        "Done 641 frame of 2096"
       ]
      },
      {
       "output_type": "stream",
       "stream": "stdout",
       "text": [
        "\r",
        "Done 642 frame of 2096"
       ]
      },
      {
       "output_type": "stream",
       "stream": "stdout",
       "text": [
        "\r",
        "Done 643 frame of 2096"
       ]
      },
      {
       "output_type": "stream",
       "stream": "stdout",
       "text": [
        "\r",
        "Done 644 frame of 2096"
       ]
      },
      {
       "output_type": "stream",
       "stream": "stdout",
       "text": [
        "\r",
        "Done 645 frame of 2096"
       ]
      },
      {
       "output_type": "stream",
       "stream": "stdout",
       "text": [
        "\r",
        "Done 646 frame of 2096"
       ]
      },
      {
       "output_type": "stream",
       "stream": "stdout",
       "text": [
        "\r",
        "Done 647 frame of 2096"
       ]
      },
      {
       "output_type": "stream",
       "stream": "stdout",
       "text": [
        "\r",
        "Done 648 frame of 2096"
       ]
      },
      {
       "output_type": "stream",
       "stream": "stdout",
       "text": [
        "\r",
        "Done 649 frame of 2096"
       ]
      },
      {
       "output_type": "stream",
       "stream": "stdout",
       "text": [
        "\r",
        "Done 650 frame of 2096"
       ]
      },
      {
       "output_type": "stream",
       "stream": "stdout",
       "text": [
        "\r",
        "Done 651 frame of 2096"
       ]
      },
      {
       "output_type": "stream",
       "stream": "stdout",
       "text": [
        "\r",
        "Done 652 frame of 2096"
       ]
      },
      {
       "output_type": "stream",
       "stream": "stdout",
       "text": [
        "\r",
        "Done 653 frame of 2096"
       ]
      },
      {
       "output_type": "stream",
       "stream": "stdout",
       "text": [
        "\r",
        "Done 654 frame of 2096"
       ]
      },
      {
       "output_type": "stream",
       "stream": "stdout",
       "text": [
        "\r",
        "Done 655 frame of 2096"
       ]
      },
      {
       "output_type": "stream",
       "stream": "stdout",
       "text": [
        "\r",
        "Done 656 frame of 2096"
       ]
      },
      {
       "output_type": "stream",
       "stream": "stdout",
       "text": [
        "\r",
        "Done 657 frame of 2096"
       ]
      },
      {
       "output_type": "stream",
       "stream": "stdout",
       "text": [
        "\r",
        "Done 658 frame of 2096"
       ]
      },
      {
       "output_type": "stream",
       "stream": "stdout",
       "text": [
        "\r",
        "Done 659 frame of 2096"
       ]
      },
      {
       "output_type": "stream",
       "stream": "stdout",
       "text": [
        "\r",
        "Done 660 frame of 2096"
       ]
      },
      {
       "output_type": "stream",
       "stream": "stdout",
       "text": [
        "\r",
        "Done 661 frame of 2096"
       ]
      },
      {
       "output_type": "stream",
       "stream": "stdout",
       "text": [
        "\r",
        "Done 662 frame of 2096"
       ]
      },
      {
       "output_type": "stream",
       "stream": "stdout",
       "text": [
        "\r",
        "Done 663 frame of 2096"
       ]
      },
      {
       "output_type": "stream",
       "stream": "stdout",
       "text": [
        "\r",
        "Done 664 frame of 2096"
       ]
      },
      {
       "output_type": "stream",
       "stream": "stdout",
       "text": [
        "\r",
        "Done 665 frame of 2096"
       ]
      },
      {
       "output_type": "stream",
       "stream": "stdout",
       "text": [
        "\r",
        "Done 666 frame of 2096"
       ]
      },
      {
       "output_type": "stream",
       "stream": "stdout",
       "text": [
        "\r",
        "Done 667 frame of 2096"
       ]
      },
      {
       "output_type": "stream",
       "stream": "stdout",
       "text": [
        "\r",
        "Done 668 frame of 2096"
       ]
      },
      {
       "output_type": "stream",
       "stream": "stdout",
       "text": [
        "\r",
        "Done 669 frame of 2096"
       ]
      },
      {
       "output_type": "stream",
       "stream": "stdout",
       "text": [
        "\r",
        "Done 670 frame of 2096"
       ]
      },
      {
       "output_type": "stream",
       "stream": "stdout",
       "text": [
        "\r",
        "Done 671 frame of 2096"
       ]
      },
      {
       "output_type": "stream",
       "stream": "stdout",
       "text": [
        "\r",
        "Done 672 frame of 2096"
       ]
      },
      {
       "output_type": "stream",
       "stream": "stdout",
       "text": [
        "\r",
        "Done 673 frame of 2096"
       ]
      },
      {
       "output_type": "stream",
       "stream": "stdout",
       "text": [
        "\r",
        "Done 674 frame of 2096"
       ]
      },
      {
       "output_type": "stream",
       "stream": "stdout",
       "text": [
        "\r",
        "Done 675 frame of 2096"
       ]
      },
      {
       "output_type": "stream",
       "stream": "stdout",
       "text": [
        "\r",
        "Done 676 frame of 2096"
       ]
      },
      {
       "output_type": "stream",
       "stream": "stdout",
       "text": [
        "\r",
        "Done 677 frame of 2096"
       ]
      },
      {
       "output_type": "stream",
       "stream": "stdout",
       "text": [
        "\r",
        "Done 678 frame of 2096"
       ]
      },
      {
       "output_type": "stream",
       "stream": "stdout",
       "text": [
        "\r",
        "Done 679 frame of 2096"
       ]
      },
      {
       "output_type": "stream",
       "stream": "stdout",
       "text": [
        "\r",
        "Done 680 frame of 2096"
       ]
      },
      {
       "output_type": "stream",
       "stream": "stdout",
       "text": [
        "\r",
        "Done 681 frame of 2096"
       ]
      },
      {
       "output_type": "stream",
       "stream": "stdout",
       "text": [
        "\r",
        "Done 682 frame of 2096"
       ]
      },
      {
       "output_type": "stream",
       "stream": "stdout",
       "text": [
        "\r",
        "Done 683 frame of 2096"
       ]
      },
      {
       "output_type": "stream",
       "stream": "stdout",
       "text": [
        "\r",
        "Done 684 frame of 2096"
       ]
      },
      {
       "output_type": "stream",
       "stream": "stdout",
       "text": [
        "\r",
        "Done 685 frame of 2096"
       ]
      },
      {
       "output_type": "stream",
       "stream": "stdout",
       "text": [
        "\r",
        "Done 686 frame of 2096"
       ]
      },
      {
       "output_type": "stream",
       "stream": "stdout",
       "text": [
        "\r",
        "Done 687 frame of 2096"
       ]
      },
      {
       "output_type": "stream",
       "stream": "stdout",
       "text": [
        "\r",
        "Done 688 frame of 2096"
       ]
      },
      {
       "output_type": "stream",
       "stream": "stdout",
       "text": [
        "\r",
        "Done 689 frame of 2096"
       ]
      },
      {
       "output_type": "stream",
       "stream": "stdout",
       "text": [
        "\r",
        "Done 690 frame of 2096"
       ]
      },
      {
       "output_type": "stream",
       "stream": "stdout",
       "text": [
        "\r",
        "Done 691 frame of 2096"
       ]
      },
      {
       "output_type": "stream",
       "stream": "stdout",
       "text": [
        "\r",
        "Done 692 frame of 2096"
       ]
      },
      {
       "output_type": "stream",
       "stream": "stdout",
       "text": [
        "\r",
        "Done 693 frame of 2096"
       ]
      },
      {
       "output_type": "stream",
       "stream": "stdout",
       "text": [
        "\r",
        "Done 694 frame of 2096"
       ]
      },
      {
       "output_type": "stream",
       "stream": "stdout",
       "text": [
        "\r",
        "Done 695 frame of 2096"
       ]
      },
      {
       "output_type": "stream",
       "stream": "stdout",
       "text": [
        "\r",
        "Done 696 frame of 2096"
       ]
      },
      {
       "output_type": "stream",
       "stream": "stdout",
       "text": [
        "\r",
        "Done 697 frame of 2096"
       ]
      },
      {
       "output_type": "stream",
       "stream": "stdout",
       "text": [
        "\r",
        "Done 698 frame of 2096"
       ]
      },
      {
       "output_type": "stream",
       "stream": "stdout",
       "text": [
        "\r",
        "Done 699 frame of 2096"
       ]
      },
      {
       "output_type": "stream",
       "stream": "stdout",
       "text": [
        "\r",
        "Done 700 frame of 2096"
       ]
      },
      {
       "output_type": "stream",
       "stream": "stdout",
       "text": [
        "\r",
        "Done 701 frame of 2096"
       ]
      },
      {
       "output_type": "stream",
       "stream": "stdout",
       "text": [
        "\r",
        "Done 702 frame of 2096"
       ]
      },
      {
       "output_type": "stream",
       "stream": "stdout",
       "text": [
        "\r",
        "Done 703 frame of 2096"
       ]
      },
      {
       "output_type": "stream",
       "stream": "stdout",
       "text": [
        "\r",
        "Done 704 frame of 2096"
       ]
      },
      {
       "output_type": "stream",
       "stream": "stdout",
       "text": [
        "\r",
        "Done 705 frame of 2096"
       ]
      },
      {
       "output_type": "stream",
       "stream": "stdout",
       "text": [
        "\r",
        "Done 706 frame of 2096"
       ]
      },
      {
       "output_type": "stream",
       "stream": "stdout",
       "text": [
        "\r",
        "Done 707 frame of 2096"
       ]
      },
      {
       "output_type": "stream",
       "stream": "stdout",
       "text": [
        "\r",
        "Done 708 frame of 2096"
       ]
      },
      {
       "output_type": "stream",
       "stream": "stdout",
       "text": [
        "\r",
        "Done 709 frame of 2096"
       ]
      },
      {
       "output_type": "stream",
       "stream": "stdout",
       "text": [
        "\r",
        "Done 710 frame of 2096"
       ]
      },
      {
       "output_type": "stream",
       "stream": "stdout",
       "text": [
        "\r",
        "Done 711 frame of 2096"
       ]
      },
      {
       "output_type": "stream",
       "stream": "stdout",
       "text": [
        "\r",
        "Done 712 frame of 2096"
       ]
      },
      {
       "output_type": "stream",
       "stream": "stdout",
       "text": [
        "\r",
        "Done 713 frame of 2096"
       ]
      },
      {
       "output_type": "stream",
       "stream": "stdout",
       "text": [
        "\r",
        "Done 714 frame of 2096"
       ]
      },
      {
       "output_type": "stream",
       "stream": "stdout",
       "text": [
        "\r",
        "Done 715 frame of 2096"
       ]
      },
      {
       "output_type": "stream",
       "stream": "stdout",
       "text": [
        "\r",
        "Done 716 frame of 2096"
       ]
      },
      {
       "output_type": "stream",
       "stream": "stdout",
       "text": [
        "\r",
        "Done 717 frame of 2096"
       ]
      },
      {
       "output_type": "stream",
       "stream": "stdout",
       "text": [
        "\r",
        "Done 718 frame of 2096"
       ]
      },
      {
       "output_type": "stream",
       "stream": "stdout",
       "text": [
        "\r",
        "Done 719 frame of 2096"
       ]
      },
      {
       "output_type": "stream",
       "stream": "stdout",
       "text": [
        "\r",
        "Done 720 frame of 2096"
       ]
      },
      {
       "output_type": "stream",
       "stream": "stdout",
       "text": [
        "\r",
        "Done 721 frame of 2096"
       ]
      },
      {
       "output_type": "stream",
       "stream": "stdout",
       "text": [
        "\r",
        "Done 722 frame of 2096"
       ]
      },
      {
       "output_type": "stream",
       "stream": "stdout",
       "text": [
        "\r",
        "Done 723 frame of 2096"
       ]
      },
      {
       "output_type": "stream",
       "stream": "stdout",
       "text": [
        "\r",
        "Done 724 frame of 2096"
       ]
      },
      {
       "output_type": "stream",
       "stream": "stdout",
       "text": [
        "\r",
        "Done 725 frame of 2096"
       ]
      },
      {
       "output_type": "stream",
       "stream": "stdout",
       "text": [
        "\r",
        "Done 726 frame of 2096"
       ]
      },
      {
       "output_type": "stream",
       "stream": "stdout",
       "text": [
        "\r",
        "Done 727 frame of 2096"
       ]
      },
      {
       "output_type": "stream",
       "stream": "stdout",
       "text": [
        "\r",
        "Done 728 frame of 2096"
       ]
      },
      {
       "output_type": "stream",
       "stream": "stdout",
       "text": [
        "\r",
        "Done 729 frame of 2096"
       ]
      },
      {
       "output_type": "stream",
       "stream": "stdout",
       "text": [
        "\r",
        "Done 730 frame of 2096"
       ]
      },
      {
       "output_type": "stream",
       "stream": "stdout",
       "text": [
        "\r",
        "Done 731 frame of 2096"
       ]
      },
      {
       "output_type": "stream",
       "stream": "stdout",
       "text": [
        "\r",
        "Done 732 frame of 2096"
       ]
      },
      {
       "output_type": "stream",
       "stream": "stdout",
       "text": [
        "\r",
        "Done 733 frame of 2096"
       ]
      },
      {
       "output_type": "stream",
       "stream": "stdout",
       "text": [
        "\r",
        "Done 734 frame of 2096"
       ]
      },
      {
       "output_type": "stream",
       "stream": "stdout",
       "text": [
        "\r",
        "Done 735 frame of 2096"
       ]
      },
      {
       "output_type": "stream",
       "stream": "stdout",
       "text": [
        "\r",
        "Done 736 frame of 2096"
       ]
      },
      {
       "output_type": "stream",
       "stream": "stdout",
       "text": [
        "\r",
        "Done 737 frame of 2096"
       ]
      },
      {
       "output_type": "stream",
       "stream": "stdout",
       "text": [
        "\r",
        "Done 738 frame of 2096"
       ]
      },
      {
       "output_type": "stream",
       "stream": "stdout",
       "text": [
        "\r",
        "Done 739 frame of 2096"
       ]
      },
      {
       "output_type": "stream",
       "stream": "stdout",
       "text": [
        "\r",
        "Done 740 frame of 2096"
       ]
      },
      {
       "output_type": "stream",
       "stream": "stdout",
       "text": [
        "\r",
        "Done 741 frame of 2096"
       ]
      },
      {
       "output_type": "stream",
       "stream": "stdout",
       "text": [
        "\r",
        "Done 742 frame of 2096"
       ]
      },
      {
       "output_type": "stream",
       "stream": "stdout",
       "text": [
        "\r",
        "Done 743 frame of 2096"
       ]
      },
      {
       "output_type": "stream",
       "stream": "stdout",
       "text": [
        "\r",
        "Done 744 frame of 2096"
       ]
      },
      {
       "output_type": "stream",
       "stream": "stdout",
       "text": [
        "\r",
        "Done 745 frame of 2096"
       ]
      },
      {
       "output_type": "stream",
       "stream": "stdout",
       "text": [
        "\r",
        "Done 746 frame of 2096"
       ]
      },
      {
       "output_type": "stream",
       "stream": "stdout",
       "text": [
        "\r",
        "Done 747 frame of 2096"
       ]
      },
      {
       "output_type": "stream",
       "stream": "stdout",
       "text": [
        "\r",
        "Done 748 frame of 2096"
       ]
      },
      {
       "output_type": "stream",
       "stream": "stdout",
       "text": [
        "\r",
        "Done 749 frame of 2096"
       ]
      },
      {
       "output_type": "stream",
       "stream": "stdout",
       "text": [
        "\r",
        "Done 750 frame of 2096"
       ]
      },
      {
       "output_type": "stream",
       "stream": "stdout",
       "text": [
        "\r",
        "Done 751 frame of 2096"
       ]
      },
      {
       "output_type": "stream",
       "stream": "stdout",
       "text": [
        "\r",
        "Done 752 frame of 2096"
       ]
      },
      {
       "output_type": "stream",
       "stream": "stdout",
       "text": [
        "\r",
        "Done 753 frame of 2096"
       ]
      },
      {
       "output_type": "stream",
       "stream": "stdout",
       "text": [
        "\r",
        "Done 754 frame of 2096"
       ]
      },
      {
       "output_type": "stream",
       "stream": "stdout",
       "text": [
        "\r",
        "Done 755 frame of 2096"
       ]
      },
      {
       "output_type": "stream",
       "stream": "stdout",
       "text": [
        "\r",
        "Done 756 frame of 2096"
       ]
      },
      {
       "output_type": "stream",
       "stream": "stdout",
       "text": [
        "\r",
        "Done 757 frame of 2096"
       ]
      },
      {
       "output_type": "stream",
       "stream": "stdout",
       "text": [
        "\r",
        "Done 758 frame of 2096"
       ]
      },
      {
       "output_type": "stream",
       "stream": "stdout",
       "text": [
        "\r",
        "Done 759 frame of 2096"
       ]
      },
      {
       "output_type": "stream",
       "stream": "stdout",
       "text": [
        "\r",
        "Done 760 frame of 2096"
       ]
      },
      {
       "output_type": "stream",
       "stream": "stdout",
       "text": [
        "\r",
        "Done 761 frame of 2096"
       ]
      },
      {
       "output_type": "stream",
       "stream": "stdout",
       "text": [
        "\r",
        "Done 762 frame of 2096"
       ]
      },
      {
       "output_type": "stream",
       "stream": "stdout",
       "text": [
        "\r",
        "Done 763 frame of 2096"
       ]
      },
      {
       "output_type": "stream",
       "stream": "stdout",
       "text": [
        "\r",
        "Done 764 frame of 2096"
       ]
      },
      {
       "output_type": "stream",
       "stream": "stdout",
       "text": [
        "\r",
        "Done 765 frame of 2096"
       ]
      },
      {
       "output_type": "stream",
       "stream": "stdout",
       "text": [
        "\r",
        "Done 766 frame of 2096"
       ]
      },
      {
       "output_type": "stream",
       "stream": "stdout",
       "text": [
        "\r",
        "Done 767 frame of 2096"
       ]
      },
      {
       "output_type": "stream",
       "stream": "stdout",
       "text": [
        "\r",
        "Done 768 frame of 2096"
       ]
      },
      {
       "output_type": "stream",
       "stream": "stdout",
       "text": [
        "\r",
        "Done 769 frame of 2096"
       ]
      },
      {
       "output_type": "stream",
       "stream": "stdout",
       "text": [
        "\r",
        "Done 770 frame of 2096"
       ]
      },
      {
       "output_type": "stream",
       "stream": "stdout",
       "text": [
        "\r",
        "Done 771 frame of 2096"
       ]
      },
      {
       "output_type": "stream",
       "stream": "stdout",
       "text": [
        "\r",
        "Done 772 frame of 2096"
       ]
      },
      {
       "output_type": "stream",
       "stream": "stdout",
       "text": [
        "\r",
        "Done 773 frame of 2096"
       ]
      },
      {
       "output_type": "stream",
       "stream": "stdout",
       "text": [
        "\r",
        "Done 774 frame of 2096"
       ]
      },
      {
       "output_type": "stream",
       "stream": "stdout",
       "text": [
        "\r",
        "Done 775 frame of 2096"
       ]
      },
      {
       "output_type": "stream",
       "stream": "stdout",
       "text": [
        "\r",
        "Done 776 frame of 2096"
       ]
      },
      {
       "output_type": "stream",
       "stream": "stdout",
       "text": [
        "\r",
        "Done 777 frame of 2096"
       ]
      },
      {
       "output_type": "stream",
       "stream": "stdout",
       "text": [
        "\r",
        "Done 778 frame of 2096"
       ]
      },
      {
       "output_type": "stream",
       "stream": "stdout",
       "text": [
        "\r",
        "Done 779 frame of 2096"
       ]
      },
      {
       "output_type": "stream",
       "stream": "stdout",
       "text": [
        "\r",
        "Done 780 frame of 2096"
       ]
      },
      {
       "output_type": "stream",
       "stream": "stdout",
       "text": [
        "\r",
        "Done 781 frame of 2096"
       ]
      },
      {
       "output_type": "stream",
       "stream": "stdout",
       "text": [
        "\r",
        "Done 782 frame of 2096"
       ]
      },
      {
       "output_type": "stream",
       "stream": "stdout",
       "text": [
        "\r",
        "Done 783 frame of 2096"
       ]
      },
      {
       "output_type": "stream",
       "stream": "stdout",
       "text": [
        "\r",
        "Done 784 frame of 2096"
       ]
      },
      {
       "output_type": "stream",
       "stream": "stdout",
       "text": [
        "\r",
        "Done 785 frame of 2096"
       ]
      },
      {
       "output_type": "stream",
       "stream": "stdout",
       "text": [
        "\r",
        "Done 786 frame of 2096"
       ]
      },
      {
       "output_type": "stream",
       "stream": "stdout",
       "text": [
        "\r",
        "Done 787 frame of 2096"
       ]
      },
      {
       "output_type": "stream",
       "stream": "stdout",
       "text": [
        "\r",
        "Done 788 frame of 2096"
       ]
      },
      {
       "output_type": "stream",
       "stream": "stdout",
       "text": [
        "\r",
        "Done 789 frame of 2096"
       ]
      },
      {
       "output_type": "stream",
       "stream": "stdout",
       "text": [
        "\r",
        "Done 790 frame of 2096"
       ]
      },
      {
       "output_type": "stream",
       "stream": "stdout",
       "text": [
        "\r",
        "Done 791 frame of 2096"
       ]
      },
      {
       "output_type": "stream",
       "stream": "stdout",
       "text": [
        "\r",
        "Done 792 frame of 2096"
       ]
      },
      {
       "output_type": "stream",
       "stream": "stdout",
       "text": [
        "\r",
        "Done 793 frame of 2096"
       ]
      },
      {
       "output_type": "stream",
       "stream": "stdout",
       "text": [
        "\r",
        "Done 794 frame of 2096"
       ]
      },
      {
       "output_type": "stream",
       "stream": "stdout",
       "text": [
        "\r",
        "Done 795 frame of 2096"
       ]
      },
      {
       "output_type": "stream",
       "stream": "stdout",
       "text": [
        "\r",
        "Done 796 frame of 2096"
       ]
      },
      {
       "output_type": "stream",
       "stream": "stdout",
       "text": [
        "\r",
        "Done 797 frame of 2096"
       ]
      },
      {
       "output_type": "stream",
       "stream": "stdout",
       "text": [
        "\r",
        "Done 798 frame of 2096"
       ]
      },
      {
       "output_type": "stream",
       "stream": "stdout",
       "text": [
        "\r",
        "Done 799 frame of 2096"
       ]
      },
      {
       "output_type": "stream",
       "stream": "stdout",
       "text": [
        "\r",
        "Done 800 frame of 2096"
       ]
      },
      {
       "output_type": "stream",
       "stream": "stdout",
       "text": [
        "\r",
        "Done 801 frame of 2096"
       ]
      },
      {
       "output_type": "stream",
       "stream": "stdout",
       "text": [
        "\r",
        "Done 802 frame of 2096"
       ]
      },
      {
       "output_type": "stream",
       "stream": "stdout",
       "text": [
        "\r",
        "Done 803 frame of 2096"
       ]
      },
      {
       "output_type": "stream",
       "stream": "stdout",
       "text": [
        "\r",
        "Done 804 frame of 2096"
       ]
      },
      {
       "output_type": "stream",
       "stream": "stdout",
       "text": [
        "\r",
        "Done 805 frame of 2096"
       ]
      },
      {
       "output_type": "stream",
       "stream": "stdout",
       "text": [
        "\r",
        "Done 806 frame of 2096"
       ]
      },
      {
       "output_type": "stream",
       "stream": "stdout",
       "text": [
        "\r",
        "Done 807 frame of 2096"
       ]
      },
      {
       "output_type": "stream",
       "stream": "stdout",
       "text": [
        "\r",
        "Done 808 frame of 2096"
       ]
      },
      {
       "output_type": "stream",
       "stream": "stdout",
       "text": [
        "\r",
        "Done 809 frame of 2096"
       ]
      },
      {
       "output_type": "stream",
       "stream": "stdout",
       "text": [
        "\r",
        "Done 810 frame of 2096"
       ]
      },
      {
       "output_type": "stream",
       "stream": "stdout",
       "text": [
        "\r",
        "Done 811 frame of 2096"
       ]
      },
      {
       "output_type": "stream",
       "stream": "stdout",
       "text": [
        "\r",
        "Done 812 frame of 2096"
       ]
      },
      {
       "output_type": "stream",
       "stream": "stdout",
       "text": [
        "\r",
        "Done 813 frame of 2096"
       ]
      },
      {
       "output_type": "stream",
       "stream": "stdout",
       "text": [
        "\r",
        "Done 814 frame of 2096"
       ]
      },
      {
       "output_type": "stream",
       "stream": "stdout",
       "text": [
        "\r",
        "Done 815 frame of 2096"
       ]
      },
      {
       "output_type": "stream",
       "stream": "stdout",
       "text": [
        "\r",
        "Done 816 frame of 2096"
       ]
      },
      {
       "output_type": "stream",
       "stream": "stdout",
       "text": [
        "\r",
        "Done 817 frame of 2096"
       ]
      },
      {
       "output_type": "stream",
       "stream": "stdout",
       "text": [
        "\r",
        "Done 818 frame of 2096"
       ]
      },
      {
       "output_type": "stream",
       "stream": "stdout",
       "text": [
        "\r",
        "Done 819 frame of 2096"
       ]
      },
      {
       "output_type": "stream",
       "stream": "stdout",
       "text": [
        "\r",
        "Done 820 frame of 2096"
       ]
      },
      {
       "output_type": "stream",
       "stream": "stdout",
       "text": [
        "\r",
        "Done 821 frame of 2096"
       ]
      },
      {
       "output_type": "stream",
       "stream": "stdout",
       "text": [
        "\r",
        "Done 822 frame of 2096"
       ]
      },
      {
       "output_type": "stream",
       "stream": "stdout",
       "text": [
        "\r",
        "Done 823 frame of 2096"
       ]
      },
      {
       "output_type": "stream",
       "stream": "stdout",
       "text": [
        "\r",
        "Done 824 frame of 2096"
       ]
      },
      {
       "output_type": "stream",
       "stream": "stdout",
       "text": [
        "\r",
        "Done 825 frame of 2096"
       ]
      },
      {
       "output_type": "stream",
       "stream": "stdout",
       "text": [
        "\r",
        "Done 826 frame of 2096"
       ]
      },
      {
       "output_type": "stream",
       "stream": "stdout",
       "text": [
        "\r",
        "Done 827 frame of 2096"
       ]
      },
      {
       "output_type": "stream",
       "stream": "stdout",
       "text": [
        "\r",
        "Done 828 frame of 2096"
       ]
      },
      {
       "output_type": "stream",
       "stream": "stdout",
       "text": [
        "\r",
        "Done 829 frame of 2096"
       ]
      },
      {
       "output_type": "stream",
       "stream": "stdout",
       "text": [
        "\r",
        "Done 830 frame of 2096"
       ]
      },
      {
       "output_type": "stream",
       "stream": "stdout",
       "text": [
        "\r",
        "Done 831 frame of 2096"
       ]
      },
      {
       "output_type": "stream",
       "stream": "stdout",
       "text": [
        "\r",
        "Done 832 frame of 2096"
       ]
      },
      {
       "output_type": "stream",
       "stream": "stdout",
       "text": [
        "\r",
        "Done 833 frame of 2096"
       ]
      },
      {
       "output_type": "stream",
       "stream": "stdout",
       "text": [
        "\r",
        "Done 834 frame of 2096"
       ]
      },
      {
       "output_type": "stream",
       "stream": "stdout",
       "text": [
        "\r",
        "Done 835 frame of 2096"
       ]
      },
      {
       "output_type": "stream",
       "stream": "stdout",
       "text": [
        "\r",
        "Done 836 frame of 2096"
       ]
      },
      {
       "output_type": "stream",
       "stream": "stdout",
       "text": [
        "\r",
        "Done 837 frame of 2096"
       ]
      },
      {
       "output_type": "stream",
       "stream": "stdout",
       "text": [
        "\r",
        "Done 838 frame of 2096"
       ]
      },
      {
       "output_type": "stream",
       "stream": "stdout",
       "text": [
        "\r",
        "Done 839 frame of 2096"
       ]
      },
      {
       "output_type": "stream",
       "stream": "stdout",
       "text": [
        "\r",
        "Done 840 frame of 2096"
       ]
      },
      {
       "output_type": "stream",
       "stream": "stdout",
       "text": [
        "\r",
        "Done 841 frame of 2096"
       ]
      },
      {
       "output_type": "stream",
       "stream": "stdout",
       "text": [
        "\r",
        "Done 842 frame of 2096"
       ]
      },
      {
       "output_type": "stream",
       "stream": "stdout",
       "text": [
        "\r",
        "Done 843 frame of 2096"
       ]
      },
      {
       "output_type": "stream",
       "stream": "stdout",
       "text": [
        "\r",
        "Done 844 frame of 2096"
       ]
      },
      {
       "output_type": "stream",
       "stream": "stdout",
       "text": [
        "\r",
        "Done 845 frame of 2096"
       ]
      },
      {
       "output_type": "stream",
       "stream": "stdout",
       "text": [
        "\r",
        "Done 846 frame of 2096"
       ]
      },
      {
       "output_type": "stream",
       "stream": "stdout",
       "text": [
        "\r",
        "Done 847 frame of 2096"
       ]
      },
      {
       "output_type": "stream",
       "stream": "stdout",
       "text": [
        "\r",
        "Done 848 frame of 2096"
       ]
      },
      {
       "output_type": "stream",
       "stream": "stdout",
       "text": [
        "\r",
        "Done 849 frame of 2096"
       ]
      },
      {
       "output_type": "stream",
       "stream": "stdout",
       "text": [
        "\r",
        "Done 850 frame of 2096"
       ]
      },
      {
       "output_type": "stream",
       "stream": "stdout",
       "text": [
        "\r",
        "Done 851 frame of 2096"
       ]
      },
      {
       "output_type": "stream",
       "stream": "stdout",
       "text": [
        "\r",
        "Done 852 frame of 2096"
       ]
      },
      {
       "output_type": "stream",
       "stream": "stdout",
       "text": [
        "\r",
        "Done 853 frame of 2096"
       ]
      },
      {
       "output_type": "stream",
       "stream": "stdout",
       "text": [
        "\r",
        "Done 854 frame of 2096"
       ]
      },
      {
       "output_type": "stream",
       "stream": "stdout",
       "text": [
        "\r",
        "Done 855 frame of 2096"
       ]
      },
      {
       "output_type": "stream",
       "stream": "stdout",
       "text": [
        "\r",
        "Done 856 frame of 2096"
       ]
      },
      {
       "output_type": "stream",
       "stream": "stdout",
       "text": [
        "\r",
        "Done 857 frame of 2096"
       ]
      },
      {
       "output_type": "stream",
       "stream": "stdout",
       "text": [
        "\r",
        "Done 858 frame of 2096"
       ]
      },
      {
       "output_type": "stream",
       "stream": "stdout",
       "text": [
        "\r",
        "Done 859 frame of 2096"
       ]
      },
      {
       "output_type": "stream",
       "stream": "stdout",
       "text": [
        "\r",
        "Done 860 frame of 2096"
       ]
      },
      {
       "output_type": "stream",
       "stream": "stdout",
       "text": [
        "\r",
        "Done 861 frame of 2096"
       ]
      },
      {
       "output_type": "stream",
       "stream": "stdout",
       "text": [
        "\r",
        "Done 862 frame of 2096"
       ]
      },
      {
       "output_type": "stream",
       "stream": "stdout",
       "text": [
        "\r",
        "Done 863 frame of 2096"
       ]
      },
      {
       "output_type": "stream",
       "stream": "stdout",
       "text": [
        "\r",
        "Done 864 frame of 2096"
       ]
      },
      {
       "output_type": "stream",
       "stream": "stdout",
       "text": [
        "\r",
        "Done 865 frame of 2096"
       ]
      },
      {
       "output_type": "stream",
       "stream": "stdout",
       "text": [
        "\r",
        "Done 866 frame of 2096"
       ]
      },
      {
       "output_type": "stream",
       "stream": "stdout",
       "text": [
        "\r",
        "Done 867 frame of 2096"
       ]
      },
      {
       "output_type": "stream",
       "stream": "stdout",
       "text": [
        "\r",
        "Done 868 frame of 2096"
       ]
      },
      {
       "output_type": "stream",
       "stream": "stdout",
       "text": [
        "\r",
        "Done 869 frame of 2096"
       ]
      },
      {
       "output_type": "stream",
       "stream": "stdout",
       "text": [
        "\r",
        "Done 870 frame of 2096"
       ]
      },
      {
       "output_type": "stream",
       "stream": "stdout",
       "text": [
        "\r",
        "Done 871 frame of 2096"
       ]
      },
      {
       "output_type": "stream",
       "stream": "stdout",
       "text": [
        "\r",
        "Done 872 frame of 2096"
       ]
      },
      {
       "output_type": "stream",
       "stream": "stdout",
       "text": [
        "\r",
        "Done 873 frame of 2096"
       ]
      },
      {
       "output_type": "stream",
       "stream": "stdout",
       "text": [
        "\r",
        "Done 874 frame of 2096"
       ]
      },
      {
       "output_type": "stream",
       "stream": "stdout",
       "text": [
        "\r",
        "Done 875 frame of 2096"
       ]
      },
      {
       "output_type": "stream",
       "stream": "stdout",
       "text": [
        "\r",
        "Done 876 frame of 2096"
       ]
      },
      {
       "output_type": "stream",
       "stream": "stdout",
       "text": [
        "\r",
        "Done 877 frame of 2096"
       ]
      },
      {
       "output_type": "stream",
       "stream": "stdout",
       "text": [
        "\r",
        "Done 878 frame of 2096"
       ]
      },
      {
       "output_type": "stream",
       "stream": "stdout",
       "text": [
        "\r",
        "Done 879 frame of 2096"
       ]
      },
      {
       "output_type": "stream",
       "stream": "stdout",
       "text": [
        "\r",
        "Done 880 frame of 2096"
       ]
      },
      {
       "output_type": "stream",
       "stream": "stdout",
       "text": [
        "\r",
        "Done 881 frame of 2096"
       ]
      },
      {
       "output_type": "stream",
       "stream": "stdout",
       "text": [
        "\r",
        "Done 882 frame of 2096"
       ]
      },
      {
       "output_type": "stream",
       "stream": "stdout",
       "text": [
        "\r",
        "Done 883 frame of 2096"
       ]
      },
      {
       "output_type": "stream",
       "stream": "stdout",
       "text": [
        "\r",
        "Done 884 frame of 2096"
       ]
      },
      {
       "output_type": "stream",
       "stream": "stdout",
       "text": [
        "\r",
        "Done 885 frame of 2096"
       ]
      },
      {
       "output_type": "stream",
       "stream": "stdout",
       "text": [
        "\r",
        "Done 886 frame of 2096"
       ]
      },
      {
       "output_type": "stream",
       "stream": "stdout",
       "text": [
        "\r",
        "Done 887 frame of 2096"
       ]
      },
      {
       "output_type": "stream",
       "stream": "stdout",
       "text": [
        "\r",
        "Done 888 frame of 2096"
       ]
      },
      {
       "output_type": "stream",
       "stream": "stdout",
       "text": [
        "\r",
        "Done 889 frame of 2096"
       ]
      },
      {
       "output_type": "stream",
       "stream": "stdout",
       "text": [
        "\r",
        "Done 890 frame of 2096"
       ]
      },
      {
       "output_type": "stream",
       "stream": "stdout",
       "text": [
        "\r",
        "Done 891 frame of 2096"
       ]
      },
      {
       "output_type": "stream",
       "stream": "stdout",
       "text": [
        "\r",
        "Done 892 frame of 2096"
       ]
      },
      {
       "output_type": "stream",
       "stream": "stdout",
       "text": [
        "\r",
        "Done 893 frame of 2096"
       ]
      },
      {
       "output_type": "stream",
       "stream": "stdout",
       "text": [
        "\r",
        "Done 894 frame of 2096"
       ]
      },
      {
       "output_type": "stream",
       "stream": "stdout",
       "text": [
        "\r",
        "Done 895 frame of 2096"
       ]
      },
      {
       "output_type": "stream",
       "stream": "stdout",
       "text": [
        "\r",
        "Done 896 frame of 2096"
       ]
      },
      {
       "output_type": "stream",
       "stream": "stdout",
       "text": [
        "\r",
        "Done 897 frame of 2096"
       ]
      },
      {
       "output_type": "stream",
       "stream": "stdout",
       "text": [
        "\r",
        "Done 898 frame of 2096"
       ]
      },
      {
       "output_type": "stream",
       "stream": "stdout",
       "text": [
        "\r",
        "Done 899 frame of 2096"
       ]
      },
      {
       "output_type": "stream",
       "stream": "stdout",
       "text": [
        "\r",
        "Done 900 frame of 2096"
       ]
      },
      {
       "output_type": "stream",
       "stream": "stdout",
       "text": [
        "\r",
        "Done 901 frame of 2096"
       ]
      },
      {
       "output_type": "stream",
       "stream": "stdout",
       "text": [
        "\r",
        "Done 902 frame of 2096"
       ]
      },
      {
       "output_type": "stream",
       "stream": "stdout",
       "text": [
        "\r",
        "Done 903 frame of 2096"
       ]
      },
      {
       "output_type": "stream",
       "stream": "stdout",
       "text": [
        "\r",
        "Done 904 frame of 2096"
       ]
      },
      {
       "output_type": "stream",
       "stream": "stdout",
       "text": [
        "\r",
        "Done 905 frame of 2096"
       ]
      },
      {
       "output_type": "stream",
       "stream": "stdout",
       "text": [
        "\r",
        "Done 906 frame of 2096"
       ]
      },
      {
       "output_type": "stream",
       "stream": "stdout",
       "text": [
        "\r",
        "Done 907 frame of 2096"
       ]
      },
      {
       "output_type": "stream",
       "stream": "stdout",
       "text": [
        "\r",
        "Done 908 frame of 2096"
       ]
      },
      {
       "output_type": "stream",
       "stream": "stdout",
       "text": [
        "\r",
        "Done 909 frame of 2096"
       ]
      },
      {
       "output_type": "stream",
       "stream": "stdout",
       "text": [
        "\r",
        "Done 910 frame of 2096"
       ]
      },
      {
       "output_type": "stream",
       "stream": "stdout",
       "text": [
        "\r",
        "Done 911 frame of 2096"
       ]
      },
      {
       "output_type": "stream",
       "stream": "stdout",
       "text": [
        "\r",
        "Done 912 frame of 2096"
       ]
      },
      {
       "output_type": "stream",
       "stream": "stdout",
       "text": [
        "\r",
        "Done 913 frame of 2096"
       ]
      },
      {
       "output_type": "stream",
       "stream": "stdout",
       "text": [
        "\r",
        "Done 914 frame of 2096"
       ]
      },
      {
       "output_type": "stream",
       "stream": "stdout",
       "text": [
        "\r",
        "Done 915 frame of 2096"
       ]
      },
      {
       "output_type": "stream",
       "stream": "stdout",
       "text": [
        "\r",
        "Done 916 frame of 2096"
       ]
      },
      {
       "output_type": "stream",
       "stream": "stdout",
       "text": [
        "\r",
        "Done 917 frame of 2096"
       ]
      },
      {
       "output_type": "stream",
       "stream": "stdout",
       "text": [
        "\r",
        "Done 918 frame of 2096"
       ]
      },
      {
       "output_type": "stream",
       "stream": "stdout",
       "text": [
        "\r",
        "Done 919 frame of 2096"
       ]
      },
      {
       "output_type": "stream",
       "stream": "stdout",
       "text": [
        "\r",
        "Done 920 frame of 2096"
       ]
      },
      {
       "output_type": "stream",
       "stream": "stdout",
       "text": [
        "\r",
        "Done 921 frame of 2096"
       ]
      },
      {
       "output_type": "stream",
       "stream": "stdout",
       "text": [
        "\r",
        "Done 922 frame of 2096"
       ]
      },
      {
       "output_type": "stream",
       "stream": "stdout",
       "text": [
        "\r",
        "Done 923 frame of 2096"
       ]
      },
      {
       "output_type": "stream",
       "stream": "stdout",
       "text": [
        "\r",
        "Done 924 frame of 2096"
       ]
      },
      {
       "output_type": "stream",
       "stream": "stdout",
       "text": [
        "\r",
        "Done 925 frame of 2096"
       ]
      },
      {
       "output_type": "stream",
       "stream": "stdout",
       "text": [
        "\r",
        "Done 926 frame of 2096"
       ]
      },
      {
       "output_type": "stream",
       "stream": "stdout",
       "text": [
        "\r",
        "Done 927 frame of 2096"
       ]
      },
      {
       "output_type": "stream",
       "stream": "stdout",
       "text": [
        "\r",
        "Done 928 frame of 2096"
       ]
      },
      {
       "output_type": "stream",
       "stream": "stdout",
       "text": [
        "\r",
        "Done 929 frame of 2096"
       ]
      },
      {
       "output_type": "stream",
       "stream": "stdout",
       "text": [
        "\r",
        "Done 930 frame of 2096"
       ]
      },
      {
       "output_type": "stream",
       "stream": "stdout",
       "text": [
        "\r",
        "Done 931 frame of 2096"
       ]
      },
      {
       "output_type": "stream",
       "stream": "stdout",
       "text": [
        "\r",
        "Done 932 frame of 2096"
       ]
      },
      {
       "output_type": "stream",
       "stream": "stdout",
       "text": [
        "\r",
        "Done 933 frame of 2096"
       ]
      },
      {
       "output_type": "stream",
       "stream": "stdout",
       "text": [
        "\r",
        "Done 934 frame of 2096"
       ]
      },
      {
       "output_type": "stream",
       "stream": "stdout",
       "text": [
        "\r",
        "Done 935 frame of 2096"
       ]
      },
      {
       "output_type": "stream",
       "stream": "stdout",
       "text": [
        "\r",
        "Done 936 frame of 2096"
       ]
      },
      {
       "output_type": "stream",
       "stream": "stdout",
       "text": [
        "\r",
        "Done 937 frame of 2096"
       ]
      },
      {
       "output_type": "stream",
       "stream": "stdout",
       "text": [
        "\r",
        "Done 938 frame of 2096"
       ]
      },
      {
       "output_type": "stream",
       "stream": "stdout",
       "text": [
        "\r",
        "Done 939 frame of 2096"
       ]
      },
      {
       "output_type": "stream",
       "stream": "stdout",
       "text": [
        "\r",
        "Done 940 frame of 2096"
       ]
      },
      {
       "output_type": "stream",
       "stream": "stdout",
       "text": [
        "\r",
        "Done 941 frame of 2096"
       ]
      },
      {
       "output_type": "stream",
       "stream": "stdout",
       "text": [
        "\r",
        "Done 942 frame of 2096"
       ]
      },
      {
       "output_type": "stream",
       "stream": "stdout",
       "text": [
        "\r",
        "Done 943 frame of 2096"
       ]
      },
      {
       "output_type": "stream",
       "stream": "stdout",
       "text": [
        "\r",
        "Done 944 frame of 2096"
       ]
      },
      {
       "output_type": "stream",
       "stream": "stdout",
       "text": [
        "\r",
        "Done 945 frame of 2096"
       ]
      },
      {
       "output_type": "stream",
       "stream": "stdout",
       "text": [
        "\r",
        "Done 946 frame of 2096"
       ]
      },
      {
       "output_type": "stream",
       "stream": "stdout",
       "text": [
        "\r",
        "Done 947 frame of 2096"
       ]
      },
      {
       "output_type": "stream",
       "stream": "stdout",
       "text": [
        "\r",
        "Done 948 frame of 2096"
       ]
      },
      {
       "output_type": "stream",
       "stream": "stdout",
       "text": [
        "\r",
        "Done 949 frame of 2096"
       ]
      },
      {
       "output_type": "stream",
       "stream": "stdout",
       "text": [
        "\r",
        "Done 950 frame of 2096"
       ]
      },
      {
       "output_type": "stream",
       "stream": "stdout",
       "text": [
        "\r",
        "Done 951 frame of 2096"
       ]
      },
      {
       "output_type": "stream",
       "stream": "stdout",
       "text": [
        "\r",
        "Done 952 frame of 2096"
       ]
      },
      {
       "output_type": "stream",
       "stream": "stdout",
       "text": [
        "\r",
        "Done 953 frame of 2096"
       ]
      },
      {
       "output_type": "stream",
       "stream": "stdout",
       "text": [
        "\r",
        "Done 954 frame of 2096"
       ]
      },
      {
       "output_type": "stream",
       "stream": "stdout",
       "text": [
        "\r",
        "Done 955 frame of 2096"
       ]
      },
      {
       "output_type": "stream",
       "stream": "stdout",
       "text": [
        "\r",
        "Done 956 frame of 2096"
       ]
      },
      {
       "output_type": "stream",
       "stream": "stdout",
       "text": [
        "\r",
        "Done 957 frame of 2096"
       ]
      },
      {
       "output_type": "stream",
       "stream": "stdout",
       "text": [
        "\r",
        "Done 958 frame of 2096"
       ]
      },
      {
       "output_type": "stream",
       "stream": "stdout",
       "text": [
        "\r",
        "Done 959 frame of 2096"
       ]
      },
      {
       "output_type": "stream",
       "stream": "stdout",
       "text": [
        "\r",
        "Done 960 frame of 2096"
       ]
      },
      {
       "output_type": "stream",
       "stream": "stdout",
       "text": [
        "\r",
        "Done 961 frame of 2096"
       ]
      },
      {
       "output_type": "stream",
       "stream": "stdout",
       "text": [
        "\r",
        "Done 962 frame of 2096"
       ]
      },
      {
       "output_type": "stream",
       "stream": "stdout",
       "text": [
        "\r",
        "Done 963 frame of 2096"
       ]
      },
      {
       "output_type": "stream",
       "stream": "stdout",
       "text": [
        "\r",
        "Done 964 frame of 2096"
       ]
      },
      {
       "output_type": "stream",
       "stream": "stdout",
       "text": [
        "\r",
        "Done 965 frame of 2096"
       ]
      },
      {
       "output_type": "stream",
       "stream": "stdout",
       "text": [
        "\r",
        "Done 966 frame of 2096"
       ]
      },
      {
       "output_type": "stream",
       "stream": "stdout",
       "text": [
        "\r",
        "Done 967 frame of 2096"
       ]
      },
      {
       "output_type": "stream",
       "stream": "stdout",
       "text": [
        "\r",
        "Done 968 frame of 2096"
       ]
      },
      {
       "output_type": "stream",
       "stream": "stdout",
       "text": [
        "\r",
        "Done 969 frame of 2096"
       ]
      },
      {
       "output_type": "stream",
       "stream": "stdout",
       "text": [
        "\r",
        "Done 970 frame of 2096"
       ]
      },
      {
       "output_type": "stream",
       "stream": "stdout",
       "text": [
        "\r",
        "Done 971 frame of 2096"
       ]
      },
      {
       "output_type": "stream",
       "stream": "stdout",
       "text": [
        "\r",
        "Done 972 frame of 2096"
       ]
      },
      {
       "output_type": "stream",
       "stream": "stdout",
       "text": [
        "\r",
        "Done 973 frame of 2096"
       ]
      },
      {
       "output_type": "stream",
       "stream": "stdout",
       "text": [
        "\r",
        "Done 974 frame of 2096"
       ]
      },
      {
       "output_type": "stream",
       "stream": "stdout",
       "text": [
        "\r",
        "Done 975 frame of 2096"
       ]
      },
      {
       "output_type": "stream",
       "stream": "stdout",
       "text": [
        "\r",
        "Done 976 frame of 2096"
       ]
      },
      {
       "output_type": "stream",
       "stream": "stdout",
       "text": [
        "\r",
        "Done 977 frame of 2096"
       ]
      },
      {
       "output_type": "stream",
       "stream": "stdout",
       "text": [
        "\r",
        "Done 978 frame of 2096"
       ]
      },
      {
       "output_type": "stream",
       "stream": "stdout",
       "text": [
        "\r",
        "Done 979 frame of 2096"
       ]
      },
      {
       "output_type": "stream",
       "stream": "stdout",
       "text": [
        "\r",
        "Done 980 frame of 2096"
       ]
      },
      {
       "output_type": "stream",
       "stream": "stdout",
       "text": [
        "\r",
        "Done 981 frame of 2096"
       ]
      },
      {
       "output_type": "stream",
       "stream": "stdout",
       "text": [
        "\r",
        "Done 982 frame of 2096"
       ]
      },
      {
       "output_type": "stream",
       "stream": "stdout",
       "text": [
        "\r",
        "Done 983 frame of 2096"
       ]
      },
      {
       "output_type": "stream",
       "stream": "stdout",
       "text": [
        "\r",
        "Done 984 frame of 2096"
       ]
      },
      {
       "output_type": "stream",
       "stream": "stdout",
       "text": [
        "\r",
        "Done 985 frame of 2096"
       ]
      },
      {
       "output_type": "stream",
       "stream": "stdout",
       "text": [
        "\r",
        "Done 986 frame of 2096"
       ]
      },
      {
       "output_type": "stream",
       "stream": "stdout",
       "text": [
        "\r",
        "Done 987 frame of 2096"
       ]
      },
      {
       "output_type": "stream",
       "stream": "stdout",
       "text": [
        "\r",
        "Done 988 frame of 2096"
       ]
      },
      {
       "output_type": "stream",
       "stream": "stdout",
       "text": [
        "\r",
        "Done 989 frame of 2096"
       ]
      },
      {
       "output_type": "stream",
       "stream": "stdout",
       "text": [
        "\r",
        "Done 990 frame of 2096"
       ]
      },
      {
       "output_type": "stream",
       "stream": "stdout",
       "text": [
        "\r",
        "Done 991 frame of 2096"
       ]
      },
      {
       "output_type": "stream",
       "stream": "stdout",
       "text": [
        "\r",
        "Done 992 frame of 2096"
       ]
      },
      {
       "output_type": "stream",
       "stream": "stdout",
       "text": [
        "\r",
        "Done 993 frame of 2096"
       ]
      },
      {
       "output_type": "stream",
       "stream": "stdout",
       "text": [
        "\r",
        "Done 994 frame of 2096"
       ]
      },
      {
       "output_type": "stream",
       "stream": "stdout",
       "text": [
        "\r",
        "Done 995 frame of 2096"
       ]
      },
      {
       "output_type": "stream",
       "stream": "stdout",
       "text": [
        "\r",
        "Done 996 frame of 2096"
       ]
      },
      {
       "output_type": "stream",
       "stream": "stdout",
       "text": [
        "\r",
        "Done 997 frame of 2096"
       ]
      },
      {
       "output_type": "stream",
       "stream": "stdout",
       "text": [
        "\r",
        "Done 998 frame of 2096"
       ]
      },
      {
       "output_type": "stream",
       "stream": "stdout",
       "text": [
        "\r",
        "Done 999 frame of 2096"
       ]
      },
      {
       "output_type": "stream",
       "stream": "stdout",
       "text": [
        "\r",
        "Done 1000 frame of 2096"
       ]
      },
      {
       "output_type": "stream",
       "stream": "stdout",
       "text": [
        "\r",
        "Done 1001 frame of 2096"
       ]
      },
      {
       "output_type": "stream",
       "stream": "stdout",
       "text": [
        "\r",
        "Done 1002 frame of 2096"
       ]
      },
      {
       "output_type": "stream",
       "stream": "stdout",
       "text": [
        "\r",
        "Done 1003 frame of 2096"
       ]
      },
      {
       "output_type": "stream",
       "stream": "stdout",
       "text": [
        "\r",
        "Done 1004 frame of 2096"
       ]
      },
      {
       "output_type": "stream",
       "stream": "stdout",
       "text": [
        "\r",
        "Done 1005 frame of 2096"
       ]
      },
      {
       "output_type": "stream",
       "stream": "stdout",
       "text": [
        "\r",
        "Done 1006 frame of 2096"
       ]
      },
      {
       "output_type": "stream",
       "stream": "stdout",
       "text": [
        "\r",
        "Done 1007 frame of 2096"
       ]
      },
      {
       "output_type": "stream",
       "stream": "stdout",
       "text": [
        "\r",
        "Done 1008 frame of 2096"
       ]
      },
      {
       "output_type": "stream",
       "stream": "stdout",
       "text": [
        "\r",
        "Done 1009 frame of 2096"
       ]
      },
      {
       "output_type": "stream",
       "stream": "stdout",
       "text": [
        "\r",
        "Done 1010 frame of 2096"
       ]
      },
      {
       "output_type": "stream",
       "stream": "stdout",
       "text": [
        "\r",
        "Done 1011 frame of 2096"
       ]
      },
      {
       "output_type": "stream",
       "stream": "stdout",
       "text": [
        "\r",
        "Done 1012 frame of 2096"
       ]
      },
      {
       "output_type": "stream",
       "stream": "stdout",
       "text": [
        "\r",
        "Done 1013 frame of 2096"
       ]
      },
      {
       "output_type": "stream",
       "stream": "stdout",
       "text": [
        "\r",
        "Done 1014 frame of 2096"
       ]
      },
      {
       "output_type": "stream",
       "stream": "stdout",
       "text": [
        "\r",
        "Done 1015 frame of 2096"
       ]
      },
      {
       "output_type": "stream",
       "stream": "stdout",
       "text": [
        "\r",
        "Done 1016 frame of 2096"
       ]
      },
      {
       "output_type": "stream",
       "stream": "stdout",
       "text": [
        "\r",
        "Done 1017 frame of 2096"
       ]
      },
      {
       "output_type": "stream",
       "stream": "stdout",
       "text": [
        "\r",
        "Done 1018 frame of 2096"
       ]
      },
      {
       "output_type": "stream",
       "stream": "stdout",
       "text": [
        "\r",
        "Done 1019 frame of 2096"
       ]
      },
      {
       "output_type": "stream",
       "stream": "stdout",
       "text": [
        "\r",
        "Done 1020 frame of 2096"
       ]
      },
      {
       "output_type": "stream",
       "stream": "stdout",
       "text": [
        "\r",
        "Done 1021 frame of 2096"
       ]
      },
      {
       "output_type": "stream",
       "stream": "stdout",
       "text": [
        "\r",
        "Done 1022 frame of 2096"
       ]
      },
      {
       "output_type": "stream",
       "stream": "stdout",
       "text": [
        "\r",
        "Done 1023 frame of 2096"
       ]
      },
      {
       "output_type": "stream",
       "stream": "stdout",
       "text": [
        "\r",
        "Done 1024 frame of 2096"
       ]
      },
      {
       "output_type": "stream",
       "stream": "stdout",
       "text": [
        "\r",
        "Done 1025 frame of 2096"
       ]
      },
      {
       "output_type": "stream",
       "stream": "stdout",
       "text": [
        "\r",
        "Done 1026 frame of 2096"
       ]
      },
      {
       "output_type": "stream",
       "stream": "stdout",
       "text": [
        "\r",
        "Done 1027 frame of 2096"
       ]
      },
      {
       "output_type": "stream",
       "stream": "stdout",
       "text": [
        "\r",
        "Done 1028 frame of 2096"
       ]
      },
      {
       "output_type": "stream",
       "stream": "stdout",
       "text": [
        "\r",
        "Done 1029 frame of 2096"
       ]
      },
      {
       "output_type": "stream",
       "stream": "stdout",
       "text": [
        "\r",
        "Done 1030 frame of 2096"
       ]
      },
      {
       "output_type": "stream",
       "stream": "stdout",
       "text": [
        "\r",
        "Done 1031 frame of 2096"
       ]
      },
      {
       "output_type": "stream",
       "stream": "stdout",
       "text": [
        "\r",
        "Done 1032 frame of 2096"
       ]
      },
      {
       "output_type": "stream",
       "stream": "stdout",
       "text": [
        "\r",
        "Done 1033 frame of 2096"
       ]
      },
      {
       "output_type": "stream",
       "stream": "stdout",
       "text": [
        "\r",
        "Done 1034 frame of 2096"
       ]
      },
      {
       "output_type": "stream",
       "stream": "stdout",
       "text": [
        "\r",
        "Done 1035 frame of 2096"
       ]
      },
      {
       "output_type": "stream",
       "stream": "stdout",
       "text": [
        "\r",
        "Done 1036 frame of 2096"
       ]
      },
      {
       "output_type": "stream",
       "stream": "stdout",
       "text": [
        "\r",
        "Done 1037 frame of 2096"
       ]
      },
      {
       "output_type": "stream",
       "stream": "stdout",
       "text": [
        "\r",
        "Done 1038 frame of 2096"
       ]
      },
      {
       "output_type": "stream",
       "stream": "stdout",
       "text": [
        "\r",
        "Done 1039 frame of 2096"
       ]
      },
      {
       "output_type": "stream",
       "stream": "stdout",
       "text": [
        "\r",
        "Done 1040 frame of 2096"
       ]
      },
      {
       "output_type": "stream",
       "stream": "stdout",
       "text": [
        "\r",
        "Done 1041 frame of 2096"
       ]
      },
      {
       "output_type": "stream",
       "stream": "stdout",
       "text": [
        "\r",
        "Done 1042 frame of 2096"
       ]
      },
      {
       "output_type": "stream",
       "stream": "stdout",
       "text": [
        "\r",
        "Done 1043 frame of 2096"
       ]
      },
      {
       "output_type": "stream",
       "stream": "stdout",
       "text": [
        "\r",
        "Done 1044 frame of 2096"
       ]
      },
      {
       "output_type": "stream",
       "stream": "stdout",
       "text": [
        "\r",
        "Done 1045 frame of 2096"
       ]
      },
      {
       "output_type": "stream",
       "stream": "stdout",
       "text": [
        "\r",
        "Done 1046 frame of 2096"
       ]
      },
      {
       "output_type": "stream",
       "stream": "stdout",
       "text": [
        "\r",
        "Done 1047 frame of 2096"
       ]
      },
      {
       "output_type": "stream",
       "stream": "stdout",
       "text": [
        "\r",
        "Done 1048 frame of 2096"
       ]
      },
      {
       "output_type": "stream",
       "stream": "stdout",
       "text": [
        "\r",
        "Done 1049 frame of 2096"
       ]
      },
      {
       "output_type": "stream",
       "stream": "stdout",
       "text": [
        "\r",
        "Done 1050 frame of 2096"
       ]
      },
      {
       "output_type": "stream",
       "stream": "stdout",
       "text": [
        "\r",
        "Done 1051 frame of 2096"
       ]
      },
      {
       "output_type": "stream",
       "stream": "stdout",
       "text": [
        "\r",
        "Done 1052 frame of 2096"
       ]
      },
      {
       "output_type": "stream",
       "stream": "stdout",
       "text": [
        "\r",
        "Done 1053 frame of 2096"
       ]
      },
      {
       "output_type": "stream",
       "stream": "stdout",
       "text": [
        "\r",
        "Done 1054 frame of 2096"
       ]
      },
      {
       "output_type": "stream",
       "stream": "stdout",
       "text": [
        "\r",
        "Done 1055 frame of 2096"
       ]
      },
      {
       "output_type": "stream",
       "stream": "stdout",
       "text": [
        "\r",
        "Done 1056 frame of 2096"
       ]
      },
      {
       "output_type": "stream",
       "stream": "stdout",
       "text": [
        "\r",
        "Done 1057 frame of 2096"
       ]
      },
      {
       "output_type": "stream",
       "stream": "stdout",
       "text": [
        "\r",
        "Done 1058 frame of 2096"
       ]
      },
      {
       "output_type": "stream",
       "stream": "stdout",
       "text": [
        "\r",
        "Done 1059 frame of 2096"
       ]
      },
      {
       "output_type": "stream",
       "stream": "stdout",
       "text": [
        "\r",
        "Done 1060 frame of 2096"
       ]
      },
      {
       "output_type": "stream",
       "stream": "stdout",
       "text": [
        "\r",
        "Done 1061 frame of 2096"
       ]
      },
      {
       "output_type": "stream",
       "stream": "stdout",
       "text": [
        "\r",
        "Done 1062 frame of 2096"
       ]
      },
      {
       "output_type": "stream",
       "stream": "stdout",
       "text": [
        "\r",
        "Done 1063 frame of 2096"
       ]
      },
      {
       "output_type": "stream",
       "stream": "stdout",
       "text": [
        "\r",
        "Done 1064 frame of 2096"
       ]
      },
      {
       "output_type": "stream",
       "stream": "stdout",
       "text": [
        "\r",
        "Done 1065 frame of 2096"
       ]
      },
      {
       "output_type": "stream",
       "stream": "stdout",
       "text": [
        "\r",
        "Done 1066 frame of 2096"
       ]
      },
      {
       "output_type": "stream",
       "stream": "stdout",
       "text": [
        "\r",
        "Done 1067 frame of 2096"
       ]
      },
      {
       "output_type": "stream",
       "stream": "stdout",
       "text": [
        "\r",
        "Done 1068 frame of 2096"
       ]
      },
      {
       "output_type": "stream",
       "stream": "stdout",
       "text": [
        "\r",
        "Done 1069 frame of 2096"
       ]
      },
      {
       "output_type": "stream",
       "stream": "stdout",
       "text": [
        "\r",
        "Done 1070 frame of 2096"
       ]
      },
      {
       "output_type": "stream",
       "stream": "stdout",
       "text": [
        "\r",
        "Done 1071 frame of 2096"
       ]
      },
      {
       "output_type": "stream",
       "stream": "stdout",
       "text": [
        "\r",
        "Done 1072 frame of 2096"
       ]
      },
      {
       "output_type": "stream",
       "stream": "stdout",
       "text": [
        "\r",
        "Done 1073 frame of 2096"
       ]
      },
      {
       "output_type": "stream",
       "stream": "stdout",
       "text": [
        "\r",
        "Done 1074 frame of 2096"
       ]
      },
      {
       "output_type": "stream",
       "stream": "stdout",
       "text": [
        "\r",
        "Done 1075 frame of 2096"
       ]
      },
      {
       "output_type": "stream",
       "stream": "stdout",
       "text": [
        "\r",
        "Done 1076 frame of 2096"
       ]
      },
      {
       "output_type": "stream",
       "stream": "stdout",
       "text": [
        "\r",
        "Done 1077 frame of 2096"
       ]
      },
      {
       "output_type": "stream",
       "stream": "stdout",
       "text": [
        "\r",
        "Done 1078 frame of 2096"
       ]
      },
      {
       "output_type": "stream",
       "stream": "stdout",
       "text": [
        "\r",
        "Done 1079 frame of 2096"
       ]
      },
      {
       "output_type": "stream",
       "stream": "stdout",
       "text": [
        "\r",
        "Done 1080 frame of 2096"
       ]
      },
      {
       "output_type": "stream",
       "stream": "stdout",
       "text": [
        "\r",
        "Done 1081 frame of 2096"
       ]
      },
      {
       "output_type": "stream",
       "stream": "stdout",
       "text": [
        "\r",
        "Done 1082 frame of 2096"
       ]
      },
      {
       "output_type": "stream",
       "stream": "stdout",
       "text": [
        "\r",
        "Done 1083 frame of 2096"
       ]
      },
      {
       "output_type": "stream",
       "stream": "stdout",
       "text": [
        "\r",
        "Done 1084 frame of 2096"
       ]
      },
      {
       "output_type": "stream",
       "stream": "stdout",
       "text": [
        "\r",
        "Done 1085 frame of 2096"
       ]
      },
      {
       "output_type": "stream",
       "stream": "stdout",
       "text": [
        "\r",
        "Done 1086 frame of 2096"
       ]
      },
      {
       "output_type": "stream",
       "stream": "stdout",
       "text": [
        "\r",
        "Done 1087 frame of 2096"
       ]
      },
      {
       "output_type": "stream",
       "stream": "stdout",
       "text": [
        "\r",
        "Done 1088 frame of 2096"
       ]
      },
      {
       "output_type": "stream",
       "stream": "stdout",
       "text": [
        "\r",
        "Done 1089 frame of 2096"
       ]
      },
      {
       "output_type": "stream",
       "stream": "stdout",
       "text": [
        "\r",
        "Done 1090 frame of 2096"
       ]
      },
      {
       "output_type": "stream",
       "stream": "stdout",
       "text": [
        "\r",
        "Done 1091 frame of 2096"
       ]
      },
      {
       "output_type": "stream",
       "stream": "stdout",
       "text": [
        "\r",
        "Done 1092 frame of 2096"
       ]
      },
      {
       "output_type": "stream",
       "stream": "stdout",
       "text": [
        "\r",
        "Done 1093 frame of 2096"
       ]
      },
      {
       "output_type": "stream",
       "stream": "stdout",
       "text": [
        "\r",
        "Done 1094 frame of 2096"
       ]
      },
      {
       "output_type": "stream",
       "stream": "stdout",
       "text": [
        "\r",
        "Done 1095 frame of 2096"
       ]
      },
      {
       "output_type": "stream",
       "stream": "stdout",
       "text": [
        "\r",
        "Done 1096 frame of 2096"
       ]
      },
      {
       "output_type": "stream",
       "stream": "stdout",
       "text": [
        "\r",
        "Done 1097 frame of 2096"
       ]
      },
      {
       "output_type": "stream",
       "stream": "stdout",
       "text": [
        "\r",
        "Done 1098 frame of 2096"
       ]
      },
      {
       "output_type": "stream",
       "stream": "stdout",
       "text": [
        "\r",
        "Done 1099 frame of 2096"
       ]
      },
      {
       "output_type": "stream",
       "stream": "stdout",
       "text": [
        "\r",
        "Done 1100 frame of 2096"
       ]
      },
      {
       "output_type": "stream",
       "stream": "stdout",
       "text": [
        "\r",
        "Done 1101 frame of 2096"
       ]
      },
      {
       "output_type": "stream",
       "stream": "stdout",
       "text": [
        "\r",
        "Done 1102 frame of 2096"
       ]
      },
      {
       "output_type": "stream",
       "stream": "stdout",
       "text": [
        "\r",
        "Done 1103 frame of 2096"
       ]
      },
      {
       "output_type": "stream",
       "stream": "stdout",
       "text": [
        "\r",
        "Done 1104 frame of 2096"
       ]
      },
      {
       "output_type": "stream",
       "stream": "stdout",
       "text": [
        "\r",
        "Done 1105 frame of 2096"
       ]
      },
      {
       "output_type": "stream",
       "stream": "stdout",
       "text": [
        "\r",
        "Done 1106 frame of 2096"
       ]
      },
      {
       "output_type": "stream",
       "stream": "stdout",
       "text": [
        "\r",
        "Done 1107 frame of 2096"
       ]
      },
      {
       "output_type": "stream",
       "stream": "stdout",
       "text": [
        "\r",
        "Done 1108 frame of 2096"
       ]
      },
      {
       "output_type": "stream",
       "stream": "stdout",
       "text": [
        "\r",
        "Done 1109 frame of 2096"
       ]
      },
      {
       "output_type": "stream",
       "stream": "stdout",
       "text": [
        "\r",
        "Done 1110 frame of 2096"
       ]
      },
      {
       "output_type": "stream",
       "stream": "stdout",
       "text": [
        "\r",
        "Done 1111 frame of 2096"
       ]
      },
      {
       "output_type": "stream",
       "stream": "stdout",
       "text": [
        "\r",
        "Done 1112 frame of 2096"
       ]
      },
      {
       "output_type": "stream",
       "stream": "stdout",
       "text": [
        "\r",
        "Done 1113 frame of 2096"
       ]
      },
      {
       "output_type": "stream",
       "stream": "stdout",
       "text": [
        "\r",
        "Done 1114 frame of 2096"
       ]
      },
      {
       "output_type": "stream",
       "stream": "stdout",
       "text": [
        "\r",
        "Done 1115 frame of 2096"
       ]
      },
      {
       "output_type": "stream",
       "stream": "stdout",
       "text": [
        "\r",
        "Done 1116 frame of 2096"
       ]
      },
      {
       "output_type": "stream",
       "stream": "stdout",
       "text": [
        "\r",
        "Done 1117 frame of 2096"
       ]
      },
      {
       "output_type": "stream",
       "stream": "stdout",
       "text": [
        "\r",
        "Done 1118 frame of 2096"
       ]
      },
      {
       "output_type": "stream",
       "stream": "stdout",
       "text": [
        "\r",
        "Done 1119 frame of 2096"
       ]
      },
      {
       "output_type": "stream",
       "stream": "stdout",
       "text": [
        "\r",
        "Done 1120 frame of 2096"
       ]
      },
      {
       "output_type": "stream",
       "stream": "stdout",
       "text": [
        "\r",
        "Done 1121 frame of 2096"
       ]
      },
      {
       "output_type": "stream",
       "stream": "stdout",
       "text": [
        "\r",
        "Done 1122 frame of 2096"
       ]
      },
      {
       "output_type": "stream",
       "stream": "stdout",
       "text": [
        "\r",
        "Done 1123 frame of 2096"
       ]
      },
      {
       "output_type": "stream",
       "stream": "stdout",
       "text": [
        "\r",
        "Done 1124 frame of 2096"
       ]
      },
      {
       "output_type": "stream",
       "stream": "stdout",
       "text": [
        "\r",
        "Done 1125 frame of 2096"
       ]
      },
      {
       "output_type": "stream",
       "stream": "stdout",
       "text": [
        "\r",
        "Done 1126 frame of 2096"
       ]
      },
      {
       "output_type": "stream",
       "stream": "stdout",
       "text": [
        "\r",
        "Done 1127 frame of 2096"
       ]
      },
      {
       "output_type": "stream",
       "stream": "stdout",
       "text": [
        "\r",
        "Done 1128 frame of 2096"
       ]
      },
      {
       "output_type": "stream",
       "stream": "stdout",
       "text": [
        "\r",
        "Done 1129 frame of 2096"
       ]
      },
      {
       "output_type": "stream",
       "stream": "stdout",
       "text": [
        "\r",
        "Done 1130 frame of 2096"
       ]
      },
      {
       "output_type": "stream",
       "stream": "stdout",
       "text": [
        "\r",
        "Done 1131 frame of 2096"
       ]
      },
      {
       "output_type": "stream",
       "stream": "stdout",
       "text": [
        "\r",
        "Done 1132 frame of 2096"
       ]
      },
      {
       "output_type": "stream",
       "stream": "stdout",
       "text": [
        "\r",
        "Done 1133 frame of 2096"
       ]
      },
      {
       "output_type": "stream",
       "stream": "stdout",
       "text": [
        "\r",
        "Done 1134 frame of 2096"
       ]
      },
      {
       "output_type": "stream",
       "stream": "stdout",
       "text": [
        "\r",
        "Done 1135 frame of 2096"
       ]
      },
      {
       "output_type": "stream",
       "stream": "stdout",
       "text": [
        "\r",
        "Done 1136 frame of 2096"
       ]
      },
      {
       "output_type": "stream",
       "stream": "stdout",
       "text": [
        "\r",
        "Done 1137 frame of 2096"
       ]
      },
      {
       "output_type": "stream",
       "stream": "stdout",
       "text": [
        "\r",
        "Done 1138 frame of 2096"
       ]
      },
      {
       "output_type": "stream",
       "stream": "stdout",
       "text": [
        "\r",
        "Done 1139 frame of 2096"
       ]
      },
      {
       "output_type": "stream",
       "stream": "stdout",
       "text": [
        "\r",
        "Done 1140 frame of 2096"
       ]
      },
      {
       "output_type": "stream",
       "stream": "stdout",
       "text": [
        "\r",
        "Done 1141 frame of 2096"
       ]
      },
      {
       "output_type": "stream",
       "stream": "stdout",
       "text": [
        "\r",
        "Done 1142 frame of 2096"
       ]
      },
      {
       "output_type": "stream",
       "stream": "stdout",
       "text": [
        "\r",
        "Done 1143 frame of 2096"
       ]
      },
      {
       "output_type": "stream",
       "stream": "stdout",
       "text": [
        "\r",
        "Done 1144 frame of 2096"
       ]
      },
      {
       "output_type": "stream",
       "stream": "stdout",
       "text": [
        "\r",
        "Done 1145 frame of 2096"
       ]
      },
      {
       "output_type": "stream",
       "stream": "stdout",
       "text": [
        "\r",
        "Done 1146 frame of 2096"
       ]
      },
      {
       "output_type": "stream",
       "stream": "stdout",
       "text": [
        "\r",
        "Done 1147 frame of 2096"
       ]
      },
      {
       "output_type": "stream",
       "stream": "stdout",
       "text": [
        "\r",
        "Done 1148 frame of 2096"
       ]
      },
      {
       "output_type": "stream",
       "stream": "stdout",
       "text": [
        "\r",
        "Done 1149 frame of 2096"
       ]
      },
      {
       "output_type": "stream",
       "stream": "stdout",
       "text": [
        "\r",
        "Done 1150 frame of 2096"
       ]
      },
      {
       "output_type": "stream",
       "stream": "stdout",
       "text": [
        "\r",
        "Done 1151 frame of 2096"
       ]
      },
      {
       "output_type": "stream",
       "stream": "stdout",
       "text": [
        "\r",
        "Done 1152 frame of 2096"
       ]
      },
      {
       "output_type": "stream",
       "stream": "stdout",
       "text": [
        "\r",
        "Done 1153 frame of 2096"
       ]
      },
      {
       "output_type": "stream",
       "stream": "stdout",
       "text": [
        "\r",
        "Done 1154 frame of 2096"
       ]
      },
      {
       "output_type": "stream",
       "stream": "stdout",
       "text": [
        "\r",
        "Done 1155 frame of 2096"
       ]
      },
      {
       "output_type": "stream",
       "stream": "stdout",
       "text": [
        "\r",
        "Done 1156 frame of 2096"
       ]
      },
      {
       "output_type": "stream",
       "stream": "stdout",
       "text": [
        "\r",
        "Done 1157 frame of 2096"
       ]
      },
      {
       "output_type": "stream",
       "stream": "stdout",
       "text": [
        "\r",
        "Done 1158 frame of 2096"
       ]
      },
      {
       "output_type": "stream",
       "stream": "stdout",
       "text": [
        "\r",
        "Done 1159 frame of 2096"
       ]
      },
      {
       "output_type": "stream",
       "stream": "stdout",
       "text": [
        "\r",
        "Done 1160 frame of 2096"
       ]
      },
      {
       "output_type": "stream",
       "stream": "stdout",
       "text": [
        "\r",
        "Done 1161 frame of 2096"
       ]
      },
      {
       "output_type": "stream",
       "stream": "stdout",
       "text": [
        "\r",
        "Done 1162 frame of 2096"
       ]
      },
      {
       "output_type": "stream",
       "stream": "stdout",
       "text": [
        "\r",
        "Done 1163 frame of 2096"
       ]
      },
      {
       "output_type": "stream",
       "stream": "stdout",
       "text": [
        "\r",
        "Done 1164 frame of 2096"
       ]
      },
      {
       "output_type": "stream",
       "stream": "stdout",
       "text": [
        "\r",
        "Done 1165 frame of 2096"
       ]
      },
      {
       "output_type": "stream",
       "stream": "stdout",
       "text": [
        "\r",
        "Done 1166 frame of 2096"
       ]
      },
      {
       "output_type": "stream",
       "stream": "stdout",
       "text": [
        "\r",
        "Done 1167 frame of 2096"
       ]
      },
      {
       "output_type": "stream",
       "stream": "stdout",
       "text": [
        "\r",
        "Done 1168 frame of 2096"
       ]
      },
      {
       "output_type": "stream",
       "stream": "stdout",
       "text": [
        "\r",
        "Done 1169 frame of 2096"
       ]
      },
      {
       "output_type": "stream",
       "stream": "stdout",
       "text": [
        "\r",
        "Done 1170 frame of 2096"
       ]
      },
      {
       "output_type": "stream",
       "stream": "stdout",
       "text": [
        "\r",
        "Done 1171 frame of 2096"
       ]
      },
      {
       "output_type": "stream",
       "stream": "stdout",
       "text": [
        "\r",
        "Done 1172 frame of 2096"
       ]
      },
      {
       "output_type": "stream",
       "stream": "stdout",
       "text": [
        "\r",
        "Done 1173 frame of 2096"
       ]
      },
      {
       "output_type": "stream",
       "stream": "stdout",
       "text": [
        "\r",
        "Done 1174 frame of 2096"
       ]
      },
      {
       "output_type": "stream",
       "stream": "stdout",
       "text": [
        "\r",
        "Done 1175 frame of 2096"
       ]
      },
      {
       "output_type": "stream",
       "stream": "stdout",
       "text": [
        "\r",
        "Done 1176 frame of 2096"
       ]
      },
      {
       "output_type": "stream",
       "stream": "stdout",
       "text": [
        "\r",
        "Done 1177 frame of 2096"
       ]
      },
      {
       "output_type": "stream",
       "stream": "stdout",
       "text": [
        "\r",
        "Done 1178 frame of 2096"
       ]
      },
      {
       "output_type": "stream",
       "stream": "stdout",
       "text": [
        "\r",
        "Done 1179 frame of 2096"
       ]
      },
      {
       "output_type": "stream",
       "stream": "stdout",
       "text": [
        "\r",
        "Done 1180 frame of 2096"
       ]
      },
      {
       "output_type": "stream",
       "stream": "stdout",
       "text": [
        "\r",
        "Done 1181 frame of 2096"
       ]
      },
      {
       "output_type": "stream",
       "stream": "stdout",
       "text": [
        "\r",
        "Done 1182 frame of 2096"
       ]
      },
      {
       "output_type": "stream",
       "stream": "stdout",
       "text": [
        "\r",
        "Done 1183 frame of 2096"
       ]
      },
      {
       "output_type": "stream",
       "stream": "stdout",
       "text": [
        "\r",
        "Done 1184 frame of 2096"
       ]
      },
      {
       "output_type": "stream",
       "stream": "stdout",
       "text": [
        "\r",
        "Done 1185 frame of 2096"
       ]
      },
      {
       "output_type": "stream",
       "stream": "stdout",
       "text": [
        "\r",
        "Done 1186 frame of 2096"
       ]
      },
      {
       "output_type": "stream",
       "stream": "stdout",
       "text": [
        "\r",
        "Done 1187 frame of 2096"
       ]
      },
      {
       "output_type": "stream",
       "stream": "stdout",
       "text": [
        "\r",
        "Done 1188 frame of 2096"
       ]
      },
      {
       "output_type": "stream",
       "stream": "stdout",
       "text": [
        "\r",
        "Done 1189 frame of 2096"
       ]
      },
      {
       "output_type": "stream",
       "stream": "stdout",
       "text": [
        "\r",
        "Done 1190 frame of 2096"
       ]
      },
      {
       "output_type": "stream",
       "stream": "stdout",
       "text": [
        "\r",
        "Done 1191 frame of 2096"
       ]
      },
      {
       "output_type": "stream",
       "stream": "stdout",
       "text": [
        "\r",
        "Done 1192 frame of 2096"
       ]
      },
      {
       "output_type": "stream",
       "stream": "stdout",
       "text": [
        "\r",
        "Done 1193 frame of 2096"
       ]
      },
      {
       "output_type": "stream",
       "stream": "stdout",
       "text": [
        "\r",
        "Done 1194 frame of 2096"
       ]
      },
      {
       "output_type": "stream",
       "stream": "stdout",
       "text": [
        "\r",
        "Done 1195 frame of 2096"
       ]
      },
      {
       "output_type": "stream",
       "stream": "stdout",
       "text": [
        "\r",
        "Done 1196 frame of 2096"
       ]
      },
      {
       "output_type": "stream",
       "stream": "stdout",
       "text": [
        "\r",
        "Done 1197 frame of 2096"
       ]
      },
      {
       "output_type": "stream",
       "stream": "stdout",
       "text": [
        "\r",
        "Done 1198 frame of 2096"
       ]
      },
      {
       "output_type": "stream",
       "stream": "stdout",
       "text": [
        "\r",
        "Done 1199 frame of 2096"
       ]
      },
      {
       "output_type": "stream",
       "stream": "stdout",
       "text": [
        "\r",
        "Done 1200 frame of 2096"
       ]
      },
      {
       "output_type": "stream",
       "stream": "stdout",
       "text": [
        "\r",
        "Done 1201 frame of 2096"
       ]
      },
      {
       "output_type": "stream",
       "stream": "stdout",
       "text": [
        "\r",
        "Done 1202 frame of 2096"
       ]
      },
      {
       "output_type": "stream",
       "stream": "stdout",
       "text": [
        "\r",
        "Done 1203 frame of 2096"
       ]
      },
      {
       "output_type": "stream",
       "stream": "stdout",
       "text": [
        "\r",
        "Done 1204 frame of 2096"
       ]
      },
      {
       "output_type": "stream",
       "stream": "stdout",
       "text": [
        "\r",
        "Done 1205 frame of 2096"
       ]
      },
      {
       "output_type": "stream",
       "stream": "stdout",
       "text": [
        "\r",
        "Done 1206 frame of 2096"
       ]
      },
      {
       "output_type": "stream",
       "stream": "stdout",
       "text": [
        "\r",
        "Done 1207 frame of 2096"
       ]
      },
      {
       "output_type": "stream",
       "stream": "stdout",
       "text": [
        "\r",
        "Done 1208 frame of 2096"
       ]
      },
      {
       "output_type": "stream",
       "stream": "stdout",
       "text": [
        "\r",
        "Done 1209 frame of 2096"
       ]
      },
      {
       "output_type": "stream",
       "stream": "stdout",
       "text": [
        "\r",
        "Done 1210 frame of 2096"
       ]
      },
      {
       "output_type": "stream",
       "stream": "stdout",
       "text": [
        "\r",
        "Done 1211 frame of 2096"
       ]
      },
      {
       "output_type": "stream",
       "stream": "stdout",
       "text": [
        "\r",
        "Done 1212 frame of 2096"
       ]
      },
      {
       "output_type": "stream",
       "stream": "stdout",
       "text": [
        "\r",
        "Done 1213 frame of 2096"
       ]
      },
      {
       "output_type": "stream",
       "stream": "stdout",
       "text": [
        "\r",
        "Done 1214 frame of 2096"
       ]
      },
      {
       "output_type": "stream",
       "stream": "stdout",
       "text": [
        "\r",
        "Done 1215 frame of 2096"
       ]
      },
      {
       "output_type": "stream",
       "stream": "stdout",
       "text": [
        "\r",
        "Done 1216 frame of 2096"
       ]
      },
      {
       "output_type": "stream",
       "stream": "stdout",
       "text": [
        "\r",
        "Done 1217 frame of 2096"
       ]
      },
      {
       "output_type": "stream",
       "stream": "stdout",
       "text": [
        "\r",
        "Done 1218 frame of 2096"
       ]
      },
      {
       "output_type": "stream",
       "stream": "stdout",
       "text": [
        "\r",
        "Done 1219 frame of 2096"
       ]
      },
      {
       "output_type": "stream",
       "stream": "stdout",
       "text": [
        "\r",
        "Done 1220 frame of 2096"
       ]
      },
      {
       "output_type": "stream",
       "stream": "stdout",
       "text": [
        "\r",
        "Done 1221 frame of 2096"
       ]
      },
      {
       "output_type": "stream",
       "stream": "stdout",
       "text": [
        "\r",
        "Done 1222 frame of 2096"
       ]
      },
      {
       "output_type": "stream",
       "stream": "stdout",
       "text": [
        "\r",
        "Done 1223 frame of 2096"
       ]
      },
      {
       "output_type": "stream",
       "stream": "stdout",
       "text": [
        "\r",
        "Done 1224 frame of 2096"
       ]
      },
      {
       "output_type": "stream",
       "stream": "stdout",
       "text": [
        "\r",
        "Done 1225 frame of 2096"
       ]
      },
      {
       "output_type": "stream",
       "stream": "stdout",
       "text": [
        "\r",
        "Done 1226 frame of 2096"
       ]
      },
      {
       "output_type": "stream",
       "stream": "stdout",
       "text": [
        "\r",
        "Done 1227 frame of 2096"
       ]
      },
      {
       "output_type": "stream",
       "stream": "stdout",
       "text": [
        "\r",
        "Done 1228 frame of 2096"
       ]
      },
      {
       "output_type": "stream",
       "stream": "stdout",
       "text": [
        "\r",
        "Done 1229 frame of 2096"
       ]
      },
      {
       "output_type": "stream",
       "stream": "stdout",
       "text": [
        "\r",
        "Done 1230 frame of 2096"
       ]
      },
      {
       "output_type": "stream",
       "stream": "stdout",
       "text": [
        "\r",
        "Done 1231 frame of 2096"
       ]
      },
      {
       "output_type": "stream",
       "stream": "stdout",
       "text": [
        "\r",
        "Done 1232 frame of 2096"
       ]
      },
      {
       "output_type": "stream",
       "stream": "stdout",
       "text": [
        "\r",
        "Done 1233 frame of 2096"
       ]
      },
      {
       "output_type": "stream",
       "stream": "stdout",
       "text": [
        "\r",
        "Done 1234 frame of 2096"
       ]
      },
      {
       "output_type": "stream",
       "stream": "stdout",
       "text": [
        "\r",
        "Done 1235 frame of 2096"
       ]
      },
      {
       "output_type": "stream",
       "stream": "stdout",
       "text": [
        "\r",
        "Done 1236 frame of 2096"
       ]
      },
      {
       "output_type": "stream",
       "stream": "stdout",
       "text": [
        "\r",
        "Done 1237 frame of 2096"
       ]
      },
      {
       "output_type": "stream",
       "stream": "stdout",
       "text": [
        "\r",
        "Done 1238 frame of 2096"
       ]
      },
      {
       "output_type": "stream",
       "stream": "stdout",
       "text": [
        "\r",
        "Done 1239 frame of 2096"
       ]
      },
      {
       "output_type": "stream",
       "stream": "stdout",
       "text": [
        "\r",
        "Done 1240 frame of 2096"
       ]
      },
      {
       "output_type": "stream",
       "stream": "stdout",
       "text": [
        "\r",
        "Done 1241 frame of 2096"
       ]
      },
      {
       "output_type": "stream",
       "stream": "stdout",
       "text": [
        "\r",
        "Done 1242 frame of 2096"
       ]
      },
      {
       "output_type": "stream",
       "stream": "stdout",
       "text": [
        "\r",
        "Done 1243 frame of 2096"
       ]
      },
      {
       "output_type": "stream",
       "stream": "stdout",
       "text": [
        "\r",
        "Done 1244 frame of 2096"
       ]
      },
      {
       "output_type": "stream",
       "stream": "stdout",
       "text": [
        "\r",
        "Done 1245 frame of 2096"
       ]
      },
      {
       "output_type": "stream",
       "stream": "stdout",
       "text": [
        "\r",
        "Done 1246 frame of 2096"
       ]
      },
      {
       "output_type": "stream",
       "stream": "stdout",
       "text": [
        "\r",
        "Done 1247 frame of 2096"
       ]
      },
      {
       "output_type": "stream",
       "stream": "stdout",
       "text": [
        "\r",
        "Done 1248 frame of 2096"
       ]
      },
      {
       "output_type": "stream",
       "stream": "stdout",
       "text": [
        "\r",
        "Done 1249 frame of 2096"
       ]
      },
      {
       "output_type": "stream",
       "stream": "stdout",
       "text": [
        "\r",
        "Done 1250 frame of 2096"
       ]
      },
      {
       "output_type": "stream",
       "stream": "stdout",
       "text": [
        "\r",
        "Done 1251 frame of 2096"
       ]
      },
      {
       "output_type": "stream",
       "stream": "stdout",
       "text": [
        "\r",
        "Done 1252 frame of 2096"
       ]
      },
      {
       "output_type": "stream",
       "stream": "stdout",
       "text": [
        "\r",
        "Done 1253 frame of 2096"
       ]
      },
      {
       "output_type": "stream",
       "stream": "stdout",
       "text": [
        "\r",
        "Done 1254 frame of 2096"
       ]
      },
      {
       "output_type": "stream",
       "stream": "stdout",
       "text": [
        "\r",
        "Done 1255 frame of 2096"
       ]
      },
      {
       "output_type": "stream",
       "stream": "stdout",
       "text": [
        "\r",
        "Done 1256 frame of 2096"
       ]
      },
      {
       "output_type": "stream",
       "stream": "stdout",
       "text": [
        "\r",
        "Done 1257 frame of 2096"
       ]
      },
      {
       "output_type": "stream",
       "stream": "stdout",
       "text": [
        "\r",
        "Done 1258 frame of 2096"
       ]
      },
      {
       "output_type": "stream",
       "stream": "stdout",
       "text": [
        "\r",
        "Done 1259 frame of 2096"
       ]
      },
      {
       "output_type": "stream",
       "stream": "stdout",
       "text": [
        "\r",
        "Done 1260 frame of 2096"
       ]
      },
      {
       "output_type": "stream",
       "stream": "stdout",
       "text": [
        "\r",
        "Done 1261 frame of 2096"
       ]
      },
      {
       "output_type": "stream",
       "stream": "stdout",
       "text": [
        "\r",
        "Done 1262 frame of 2096"
       ]
      },
      {
       "output_type": "stream",
       "stream": "stdout",
       "text": [
        "\r",
        "Done 1263 frame of 2096"
       ]
      },
      {
       "output_type": "stream",
       "stream": "stdout",
       "text": [
        "\r",
        "Done 1264 frame of 2096"
       ]
      },
      {
       "output_type": "stream",
       "stream": "stdout",
       "text": [
        "\r",
        "Done 1265 frame of 2096"
       ]
      },
      {
       "output_type": "stream",
       "stream": "stdout",
       "text": [
        "\r",
        "Done 1266 frame of 2096"
       ]
      },
      {
       "output_type": "stream",
       "stream": "stdout",
       "text": [
        "\r",
        "Done 1267 frame of 2096"
       ]
      },
      {
       "output_type": "stream",
       "stream": "stdout",
       "text": [
        "\r",
        "Done 1268 frame of 2096"
       ]
      },
      {
       "output_type": "stream",
       "stream": "stdout",
       "text": [
        "\r",
        "Done 1269 frame of 2096"
       ]
      },
      {
       "output_type": "stream",
       "stream": "stdout",
       "text": [
        "\r",
        "Done 1270 frame of 2096"
       ]
      },
      {
       "output_type": "stream",
       "stream": "stdout",
       "text": [
        "\r",
        "Done 1271 frame of 2096"
       ]
      },
      {
       "output_type": "stream",
       "stream": "stdout",
       "text": [
        "\r",
        "Done 1272 frame of 2096"
       ]
      },
      {
       "output_type": "stream",
       "stream": "stdout",
       "text": [
        "\r",
        "Done 1273 frame of 2096"
       ]
      },
      {
       "output_type": "stream",
       "stream": "stdout",
       "text": [
        "\r",
        "Done 1274 frame of 2096"
       ]
      },
      {
       "output_type": "stream",
       "stream": "stdout",
       "text": [
        "\r",
        "Done 1275 frame of 2096"
       ]
      },
      {
       "output_type": "stream",
       "stream": "stdout",
       "text": [
        "\r",
        "Done 1276 frame of 2096"
       ]
      },
      {
       "output_type": "stream",
       "stream": "stdout",
       "text": [
        "\r",
        "Done 1277 frame of 2096"
       ]
      },
      {
       "output_type": "stream",
       "stream": "stdout",
       "text": [
        "\r",
        "Done 1278 frame of 2096"
       ]
      },
      {
       "output_type": "stream",
       "stream": "stdout",
       "text": [
        "\r",
        "Done 1279 frame of 2096"
       ]
      },
      {
       "output_type": "stream",
       "stream": "stdout",
       "text": [
        "\r",
        "Done 1280 frame of 2096"
       ]
      },
      {
       "output_type": "stream",
       "stream": "stdout",
       "text": [
        "\r",
        "Done 1281 frame of 2096"
       ]
      },
      {
       "output_type": "stream",
       "stream": "stdout",
       "text": [
        "\r",
        "Done 1282 frame of 2096"
       ]
      },
      {
       "output_type": "stream",
       "stream": "stdout",
       "text": [
        "\r",
        "Done 1283 frame of 2096"
       ]
      },
      {
       "output_type": "stream",
       "stream": "stdout",
       "text": [
        "\r",
        "Done 1284 frame of 2096"
       ]
      },
      {
       "output_type": "stream",
       "stream": "stdout",
       "text": [
        "\r",
        "Done 1285 frame of 2096"
       ]
      },
      {
       "output_type": "stream",
       "stream": "stdout",
       "text": [
        "\r",
        "Done 1286 frame of 2096"
       ]
      },
      {
       "output_type": "stream",
       "stream": "stdout",
       "text": [
        "\r",
        "Done 1287 frame of 2096"
       ]
      },
      {
       "output_type": "stream",
       "stream": "stdout",
       "text": [
        "\r",
        "Done 1288 frame of 2096"
       ]
      },
      {
       "output_type": "stream",
       "stream": "stdout",
       "text": [
        "\r",
        "Done 1289 frame of 2096"
       ]
      },
      {
       "output_type": "stream",
       "stream": "stdout",
       "text": [
        "\r",
        "Done 1290 frame of 2096"
       ]
      },
      {
       "output_type": "stream",
       "stream": "stdout",
       "text": [
        "\r",
        "Done 1291 frame of 2096"
       ]
      },
      {
       "output_type": "stream",
       "stream": "stdout",
       "text": [
        "\r",
        "Done 1292 frame of 2096"
       ]
      },
      {
       "output_type": "stream",
       "stream": "stdout",
       "text": [
        "\r",
        "Done 1293 frame of 2096"
       ]
      },
      {
       "output_type": "stream",
       "stream": "stdout",
       "text": [
        "\r",
        "Done 1294 frame of 2096"
       ]
      },
      {
       "output_type": "stream",
       "stream": "stdout",
       "text": [
        "\r",
        "Done 1295 frame of 2096"
       ]
      },
      {
       "output_type": "stream",
       "stream": "stdout",
       "text": [
        "\r",
        "Done 1296 frame of 2096"
       ]
      },
      {
       "output_type": "stream",
       "stream": "stdout",
       "text": [
        "\r",
        "Done 1297 frame of 2096"
       ]
      },
      {
       "output_type": "stream",
       "stream": "stdout",
       "text": [
        "\r",
        "Done 1298 frame of 2096"
       ]
      },
      {
       "output_type": "stream",
       "stream": "stdout",
       "text": [
        "\r",
        "Done 1299 frame of 2096"
       ]
      },
      {
       "output_type": "stream",
       "stream": "stdout",
       "text": [
        "\r",
        "Done 1300 frame of 2096"
       ]
      },
      {
       "output_type": "stream",
       "stream": "stdout",
       "text": [
        "\r",
        "Done 1301 frame of 2096"
       ]
      },
      {
       "output_type": "stream",
       "stream": "stdout",
       "text": [
        "\r",
        "Done 1302 frame of 2096"
       ]
      },
      {
       "output_type": "stream",
       "stream": "stdout",
       "text": [
        "\r",
        "Done 1303 frame of 2096"
       ]
      },
      {
       "output_type": "stream",
       "stream": "stdout",
       "text": [
        "\r",
        "Done 1304 frame of 2096"
       ]
      },
      {
       "output_type": "stream",
       "stream": "stdout",
       "text": [
        "\r",
        "Done 1305 frame of 2096"
       ]
      },
      {
       "output_type": "stream",
       "stream": "stdout",
       "text": [
        "\r",
        "Done 1306 frame of 2096"
       ]
      },
      {
       "output_type": "stream",
       "stream": "stdout",
       "text": [
        "\r",
        "Done 1307 frame of 2096"
       ]
      },
      {
       "output_type": "stream",
       "stream": "stdout",
       "text": [
        "\r",
        "Done 1308 frame of 2096"
       ]
      },
      {
       "output_type": "stream",
       "stream": "stdout",
       "text": [
        "\r",
        "Done 1309 frame of 2096"
       ]
      },
      {
       "output_type": "stream",
       "stream": "stdout",
       "text": [
        "\r",
        "Done 1310 frame of 2096"
       ]
      },
      {
       "output_type": "stream",
       "stream": "stdout",
       "text": [
        "\r",
        "Done 1311 frame of 2096"
       ]
      },
      {
       "output_type": "stream",
       "stream": "stdout",
       "text": [
        "\r",
        "Done 1312 frame of 2096"
       ]
      },
      {
       "output_type": "stream",
       "stream": "stdout",
       "text": [
        "\r",
        "Done 1313 frame of 2096"
       ]
      },
      {
       "output_type": "stream",
       "stream": "stdout",
       "text": [
        "\r",
        "Done 1314 frame of 2096"
       ]
      },
      {
       "output_type": "stream",
       "stream": "stdout",
       "text": [
        "\r",
        "Done 1315 frame of 2096"
       ]
      },
      {
       "output_type": "stream",
       "stream": "stdout",
       "text": [
        "\r",
        "Done 1316 frame of 2096"
       ]
      },
      {
       "output_type": "stream",
       "stream": "stdout",
       "text": [
        "\r",
        "Done 1317 frame of 2096"
       ]
      },
      {
       "output_type": "stream",
       "stream": "stdout",
       "text": [
        "\r",
        "Done 1318 frame of 2096"
       ]
      },
      {
       "output_type": "stream",
       "stream": "stdout",
       "text": [
        "\r",
        "Done 1319 frame of 2096"
       ]
      },
      {
       "output_type": "stream",
       "stream": "stdout",
       "text": [
        "\r",
        "Done 1320 frame of 2096"
       ]
      },
      {
       "output_type": "stream",
       "stream": "stdout",
       "text": [
        "\r",
        "Done 1321 frame of 2096"
       ]
      },
      {
       "output_type": "stream",
       "stream": "stdout",
       "text": [
        "\r",
        "Done 1322 frame of 2096"
       ]
      },
      {
       "output_type": "stream",
       "stream": "stdout",
       "text": [
        "\r",
        "Done 1323 frame of 2096"
       ]
      },
      {
       "output_type": "stream",
       "stream": "stdout",
       "text": [
        "\r",
        "Done 1324 frame of 2096"
       ]
      },
      {
       "output_type": "stream",
       "stream": "stdout",
       "text": [
        "\r",
        "Done 1325 frame of 2096"
       ]
      },
      {
       "output_type": "stream",
       "stream": "stdout",
       "text": [
        "\r",
        "Done 1326 frame of 2096"
       ]
      },
      {
       "output_type": "stream",
       "stream": "stdout",
       "text": [
        "\r",
        "Done 1327 frame of 2096"
       ]
      },
      {
       "output_type": "stream",
       "stream": "stdout",
       "text": [
        "\r",
        "Done 1328 frame of 2096"
       ]
      },
      {
       "output_type": "stream",
       "stream": "stdout",
       "text": [
        "\r",
        "Done 1329 frame of 2096"
       ]
      },
      {
       "output_type": "stream",
       "stream": "stdout",
       "text": [
        "\r",
        "Done 1330 frame of 2096"
       ]
      },
      {
       "output_type": "stream",
       "stream": "stdout",
       "text": [
        "\r",
        "Done 1331 frame of 2096"
       ]
      },
      {
       "output_type": "stream",
       "stream": "stdout",
       "text": [
        "\r",
        "Done 1332 frame of 2096"
       ]
      },
      {
       "output_type": "stream",
       "stream": "stdout",
       "text": [
        "\r",
        "Done 1333 frame of 2096"
       ]
      },
      {
       "output_type": "stream",
       "stream": "stdout",
       "text": [
        "\r",
        "Done 1334 frame of 2096"
       ]
      },
      {
       "output_type": "stream",
       "stream": "stdout",
       "text": [
        "\r",
        "Done 1335 frame of 2096"
       ]
      },
      {
       "output_type": "stream",
       "stream": "stdout",
       "text": [
        "\r",
        "Done 1336 frame of 2096"
       ]
      },
      {
       "output_type": "stream",
       "stream": "stdout",
       "text": [
        "\r",
        "Done 1337 frame of 2096"
       ]
      },
      {
       "output_type": "stream",
       "stream": "stdout",
       "text": [
        "\r",
        "Done 1338 frame of 2096"
       ]
      },
      {
       "output_type": "stream",
       "stream": "stdout",
       "text": [
        "\r",
        "Done 1339 frame of 2096"
       ]
      },
      {
       "output_type": "stream",
       "stream": "stdout",
       "text": [
        "\r",
        "Done 1340 frame of 2096"
       ]
      },
      {
       "output_type": "stream",
       "stream": "stdout",
       "text": [
        "\r",
        "Done 1341 frame of 2096"
       ]
      },
      {
       "output_type": "stream",
       "stream": "stdout",
       "text": [
        "\r",
        "Done 1342 frame of 2096"
       ]
      },
      {
       "output_type": "stream",
       "stream": "stdout",
       "text": [
        "\r",
        "Done 1343 frame of 2096"
       ]
      },
      {
       "output_type": "stream",
       "stream": "stdout",
       "text": [
        "\r",
        "Done 1344 frame of 2096"
       ]
      },
      {
       "output_type": "stream",
       "stream": "stdout",
       "text": [
        "\r",
        "Done 1345 frame of 2096"
       ]
      },
      {
       "output_type": "stream",
       "stream": "stdout",
       "text": [
        "\r",
        "Done 1346 frame of 2096"
       ]
      },
      {
       "output_type": "stream",
       "stream": "stdout",
       "text": [
        "\r",
        "Done 1347 frame of 2096"
       ]
      },
      {
       "output_type": "stream",
       "stream": "stdout",
       "text": [
        "\r",
        "Done 1348 frame of 2096"
       ]
      },
      {
       "output_type": "stream",
       "stream": "stdout",
       "text": [
        "\r",
        "Done 1349 frame of 2096"
       ]
      },
      {
       "output_type": "stream",
       "stream": "stdout",
       "text": [
        "\r",
        "Done 1350 frame of 2096"
       ]
      },
      {
       "output_type": "stream",
       "stream": "stdout",
       "text": [
        "\r",
        "Done 1351 frame of 2096"
       ]
      },
      {
       "output_type": "stream",
       "stream": "stdout",
       "text": [
        "\r",
        "Done 1352 frame of 2096"
       ]
      },
      {
       "output_type": "stream",
       "stream": "stdout",
       "text": [
        "\r",
        "Done 1353 frame of 2096"
       ]
      },
      {
       "output_type": "stream",
       "stream": "stdout",
       "text": [
        "\r",
        "Done 1354 frame of 2096"
       ]
      },
      {
       "output_type": "stream",
       "stream": "stdout",
       "text": [
        "\r",
        "Done 1355 frame of 2096"
       ]
      },
      {
       "output_type": "stream",
       "stream": "stdout",
       "text": [
        "\r",
        "Done 1356 frame of 2096"
       ]
      },
      {
       "output_type": "stream",
       "stream": "stdout",
       "text": [
        "\r",
        "Done 1357 frame of 2096"
       ]
      },
      {
       "output_type": "stream",
       "stream": "stdout",
       "text": [
        "\r",
        "Done 1358 frame of 2096"
       ]
      },
      {
       "output_type": "stream",
       "stream": "stdout",
       "text": [
        "\r",
        "Done 1359 frame of 2096"
       ]
      },
      {
       "output_type": "stream",
       "stream": "stdout",
       "text": [
        "\r",
        "Done 1360 frame of 2096"
       ]
      },
      {
       "output_type": "stream",
       "stream": "stdout",
       "text": [
        "\r",
        "Done 1361 frame of 2096"
       ]
      },
      {
       "output_type": "stream",
       "stream": "stdout",
       "text": [
        "\r",
        "Done 1362 frame of 2096"
       ]
      },
      {
       "output_type": "stream",
       "stream": "stdout",
       "text": [
        "\r",
        "Done 1363 frame of 2096"
       ]
      },
      {
       "output_type": "stream",
       "stream": "stdout",
       "text": [
        "\r",
        "Done 1364 frame of 2096"
       ]
      },
      {
       "output_type": "stream",
       "stream": "stdout",
       "text": [
        "\r",
        "Done 1365 frame of 2096"
       ]
      },
      {
       "output_type": "stream",
       "stream": "stdout",
       "text": [
        "\r",
        "Done 1366 frame of 2096"
       ]
      },
      {
       "output_type": "stream",
       "stream": "stdout",
       "text": [
        "\r",
        "Done 1367 frame of 2096"
       ]
      },
      {
       "output_type": "stream",
       "stream": "stdout",
       "text": [
        "\r",
        "Done 1368 frame of 2096"
       ]
      },
      {
       "output_type": "stream",
       "stream": "stdout",
       "text": [
        "\r",
        "Done 1369 frame of 2096"
       ]
      },
      {
       "output_type": "stream",
       "stream": "stdout",
       "text": [
        "\r",
        "Done 1370 frame of 2096"
       ]
      },
      {
       "output_type": "stream",
       "stream": "stdout",
       "text": [
        "\r",
        "Done 1371 frame of 2096"
       ]
      },
      {
       "output_type": "stream",
       "stream": "stdout",
       "text": [
        "\r",
        "Done 1372 frame of 2096"
       ]
      },
      {
       "output_type": "stream",
       "stream": "stdout",
       "text": [
        "\r",
        "Done 1373 frame of 2096"
       ]
      },
      {
       "output_type": "stream",
       "stream": "stdout",
       "text": [
        "\r",
        "Done 1374 frame of 2096"
       ]
      },
      {
       "output_type": "stream",
       "stream": "stdout",
       "text": [
        "\r",
        "Done 1375 frame of 2096"
       ]
      },
      {
       "output_type": "stream",
       "stream": "stdout",
       "text": [
        "\r",
        "Done 1376 frame of 2096"
       ]
      },
      {
       "output_type": "stream",
       "stream": "stdout",
       "text": [
        "\r",
        "Done 1377 frame of 2096"
       ]
      },
      {
       "output_type": "stream",
       "stream": "stdout",
       "text": [
        "\r",
        "Done 1378 frame of 2096"
       ]
      },
      {
       "output_type": "stream",
       "stream": "stdout",
       "text": [
        "\r",
        "Done 1379 frame of 2096"
       ]
      },
      {
       "output_type": "stream",
       "stream": "stdout",
       "text": [
        "\r",
        "Done 1380 frame of 2096"
       ]
      },
      {
       "output_type": "stream",
       "stream": "stdout",
       "text": [
        "\r",
        "Done 1381 frame of 2096"
       ]
      },
      {
       "output_type": "stream",
       "stream": "stdout",
       "text": [
        "\r",
        "Done 1382 frame of 2096"
       ]
      },
      {
       "output_type": "stream",
       "stream": "stdout",
       "text": [
        "\r",
        "Done 1383 frame of 2096"
       ]
      },
      {
       "output_type": "stream",
       "stream": "stdout",
       "text": [
        "\r",
        "Done 1384 frame of 2096"
       ]
      },
      {
       "output_type": "stream",
       "stream": "stdout",
       "text": [
        "\r",
        "Done 1385 frame of 2096"
       ]
      },
      {
       "output_type": "stream",
       "stream": "stdout",
       "text": [
        "\r",
        "Done 1386 frame of 2096"
       ]
      },
      {
       "output_type": "stream",
       "stream": "stdout",
       "text": [
        "\r",
        "Done 1387 frame of 2096"
       ]
      },
      {
       "output_type": "stream",
       "stream": "stdout",
       "text": [
        "\r",
        "Done 1388 frame of 2096"
       ]
      },
      {
       "output_type": "stream",
       "stream": "stdout",
       "text": [
        "\r",
        "Done 1389 frame of 2096"
       ]
      },
      {
       "output_type": "stream",
       "stream": "stdout",
       "text": [
        "\r",
        "Done 1390 frame of 2096"
       ]
      },
      {
       "output_type": "stream",
       "stream": "stdout",
       "text": [
        "\r",
        "Done 1391 frame of 2096"
       ]
      },
      {
       "output_type": "stream",
       "stream": "stdout",
       "text": [
        "\r",
        "Done 1392 frame of 2096"
       ]
      },
      {
       "output_type": "stream",
       "stream": "stdout",
       "text": [
        "\r",
        "Done 1393 frame of 2096"
       ]
      },
      {
       "output_type": "stream",
       "stream": "stdout",
       "text": [
        "\r",
        "Done 1394 frame of 2096"
       ]
      },
      {
       "output_type": "stream",
       "stream": "stdout",
       "text": [
        "\r",
        "Done 1395 frame of 2096"
       ]
      },
      {
       "output_type": "stream",
       "stream": "stdout",
       "text": [
        "\r",
        "Done 1396 frame of 2096"
       ]
      },
      {
       "output_type": "stream",
       "stream": "stdout",
       "text": [
        "\r",
        "Done 1397 frame of 2096"
       ]
      },
      {
       "output_type": "stream",
       "stream": "stdout",
       "text": [
        "\r",
        "Done 1398 frame of 2096"
       ]
      },
      {
       "output_type": "stream",
       "stream": "stdout",
       "text": [
        "\r",
        "Done 1399 frame of 2096"
       ]
      },
      {
       "output_type": "stream",
       "stream": "stdout",
       "text": [
        "\r",
        "Done 1400 frame of 2096"
       ]
      },
      {
       "output_type": "stream",
       "stream": "stdout",
       "text": [
        "\r",
        "Done 1401 frame of 2096"
       ]
      },
      {
       "output_type": "stream",
       "stream": "stdout",
       "text": [
        "\r",
        "Done 1402 frame of 2096"
       ]
      },
      {
       "output_type": "stream",
       "stream": "stdout",
       "text": [
        "\r",
        "Done 1403 frame of 2096"
       ]
      },
      {
       "output_type": "stream",
       "stream": "stdout",
       "text": [
        "\r",
        "Done 1404 frame of 2096"
       ]
      },
      {
       "output_type": "stream",
       "stream": "stdout",
       "text": [
        "\r",
        "Done 1405 frame of 2096"
       ]
      },
      {
       "output_type": "stream",
       "stream": "stdout",
       "text": [
        "\r",
        "Done 1406 frame of 2096"
       ]
      },
      {
       "output_type": "stream",
       "stream": "stdout",
       "text": [
        "\r",
        "Done 1407 frame of 2096"
       ]
      },
      {
       "output_type": "stream",
       "stream": "stdout",
       "text": [
        "\r",
        "Done 1408 frame of 2096"
       ]
      },
      {
       "output_type": "stream",
       "stream": "stdout",
       "text": [
        "\r",
        "Done 1409 frame of 2096"
       ]
      },
      {
       "output_type": "stream",
       "stream": "stdout",
       "text": [
        "\r",
        "Done 1410 frame of 2096"
       ]
      },
      {
       "output_type": "stream",
       "stream": "stdout",
       "text": [
        "\r",
        "Done 1411 frame of 2096"
       ]
      },
      {
       "output_type": "stream",
       "stream": "stdout",
       "text": [
        "\r",
        "Done 1412 frame of 2096"
       ]
      },
      {
       "output_type": "stream",
       "stream": "stdout",
       "text": [
        "\r",
        "Done 1413 frame of 2096"
       ]
      },
      {
       "output_type": "stream",
       "stream": "stdout",
       "text": [
        "\r",
        "Done 1414 frame of 2096"
       ]
      },
      {
       "output_type": "stream",
       "stream": "stdout",
       "text": [
        "\r",
        "Done 1415 frame of 2096"
       ]
      },
      {
       "output_type": "stream",
       "stream": "stdout",
       "text": [
        "\r",
        "Done 1416 frame of 2096"
       ]
      },
      {
       "output_type": "stream",
       "stream": "stdout",
       "text": [
        "\r",
        "Done 1417 frame of 2096"
       ]
      },
      {
       "output_type": "stream",
       "stream": "stdout",
       "text": [
        "\r",
        "Done 1418 frame of 2096"
       ]
      },
      {
       "output_type": "stream",
       "stream": "stdout",
       "text": [
        "\r",
        "Done 1419 frame of 2096"
       ]
      },
      {
       "output_type": "stream",
       "stream": "stdout",
       "text": [
        "\r",
        "Done 1420 frame of 2096"
       ]
      },
      {
       "output_type": "stream",
       "stream": "stdout",
       "text": [
        "\r",
        "Done 1421 frame of 2096"
       ]
      },
      {
       "output_type": "stream",
       "stream": "stdout",
       "text": [
        "\r",
        "Done 1422 frame of 2096"
       ]
      },
      {
       "output_type": "stream",
       "stream": "stdout",
       "text": [
        "\r",
        "Done 1423 frame of 2096"
       ]
      },
      {
       "output_type": "stream",
       "stream": "stdout",
       "text": [
        "\r",
        "Done 1424 frame of 2096"
       ]
      },
      {
       "output_type": "stream",
       "stream": "stdout",
       "text": [
        "\r",
        "Done 1425 frame of 2096"
       ]
      },
      {
       "output_type": "stream",
       "stream": "stdout",
       "text": [
        "\r",
        "Done 1426 frame of 2096"
       ]
      },
      {
       "output_type": "stream",
       "stream": "stdout",
       "text": [
        "\r",
        "Done 1427 frame of 2096"
       ]
      },
      {
       "output_type": "stream",
       "stream": "stdout",
       "text": [
        "\r",
        "Done 1428 frame of 2096"
       ]
      },
      {
       "output_type": "stream",
       "stream": "stdout",
       "text": [
        "\r",
        "Done 1429 frame of 2096"
       ]
      },
      {
       "output_type": "stream",
       "stream": "stdout",
       "text": [
        "\r",
        "Done 1430 frame of 2096"
       ]
      },
      {
       "output_type": "stream",
       "stream": "stdout",
       "text": [
        "\r",
        "Done 1431 frame of 2096"
       ]
      },
      {
       "output_type": "stream",
       "stream": "stdout",
       "text": [
        "\r",
        "Done 1432 frame of 2096"
       ]
      },
      {
       "output_type": "stream",
       "stream": "stdout",
       "text": [
        "\r",
        "Done 1433 frame of 2096"
       ]
      },
      {
       "output_type": "stream",
       "stream": "stdout",
       "text": [
        "\r",
        "Done 1434 frame of 2096"
       ]
      },
      {
       "output_type": "stream",
       "stream": "stdout",
       "text": [
        "\r",
        "Done 1435 frame of 2096"
       ]
      },
      {
       "output_type": "stream",
       "stream": "stdout",
       "text": [
        "\r",
        "Done 1436 frame of 2096"
       ]
      },
      {
       "output_type": "stream",
       "stream": "stdout",
       "text": [
        "\r",
        "Done 1437 frame of 2096"
       ]
      },
      {
       "output_type": "stream",
       "stream": "stdout",
       "text": [
        "\r",
        "Done 1438 frame of 2096"
       ]
      },
      {
       "output_type": "stream",
       "stream": "stdout",
       "text": [
        "\r",
        "Done 1439 frame of 2096"
       ]
      },
      {
       "output_type": "stream",
       "stream": "stdout",
       "text": [
        "\r",
        "Done 1440 frame of 2096"
       ]
      },
      {
       "output_type": "stream",
       "stream": "stdout",
       "text": [
        "\r",
        "Done 1441 frame of 2096"
       ]
      },
      {
       "output_type": "stream",
       "stream": "stdout",
       "text": [
        "\r",
        "Done 1442 frame of 2096"
       ]
      },
      {
       "output_type": "stream",
       "stream": "stdout",
       "text": [
        "\r",
        "Done 1443 frame of 2096"
       ]
      },
      {
       "output_type": "stream",
       "stream": "stdout",
       "text": [
        "\r",
        "Done 1444 frame of 2096"
       ]
      },
      {
       "output_type": "stream",
       "stream": "stdout",
       "text": [
        "\r",
        "Done 1445 frame of 2096"
       ]
      },
      {
       "output_type": "stream",
       "stream": "stdout",
       "text": [
        "\r",
        "Done 1446 frame of 2096"
       ]
      },
      {
       "output_type": "stream",
       "stream": "stdout",
       "text": [
        "\r",
        "Done 1447 frame of 2096"
       ]
      },
      {
       "output_type": "stream",
       "stream": "stdout",
       "text": [
        "\r",
        "Done 1448 frame of 2096"
       ]
      },
      {
       "output_type": "stream",
       "stream": "stdout",
       "text": [
        "\r",
        "Done 1449 frame of 2096"
       ]
      },
      {
       "output_type": "stream",
       "stream": "stdout",
       "text": [
        "\r",
        "Done 1450 frame of 2096"
       ]
      },
      {
       "output_type": "stream",
       "stream": "stdout",
       "text": [
        "\r",
        "Done 1451 frame of 2096"
       ]
      },
      {
       "output_type": "stream",
       "stream": "stdout",
       "text": [
        "\r",
        "Done 1452 frame of 2096"
       ]
      },
      {
       "output_type": "stream",
       "stream": "stdout",
       "text": [
        "\r",
        "Done 1453 frame of 2096"
       ]
      },
      {
       "output_type": "stream",
       "stream": "stdout",
       "text": [
        "\r",
        "Done 1454 frame of 2096"
       ]
      },
      {
       "output_type": "stream",
       "stream": "stdout",
       "text": [
        "\r",
        "Done 1455 frame of 2096"
       ]
      },
      {
       "output_type": "stream",
       "stream": "stdout",
       "text": [
        "\r",
        "Done 1456 frame of 2096"
       ]
      },
      {
       "output_type": "stream",
       "stream": "stdout",
       "text": [
        "\r",
        "Done 1457 frame of 2096"
       ]
      },
      {
       "output_type": "stream",
       "stream": "stdout",
       "text": [
        "\r",
        "Done 1458 frame of 2096"
       ]
      },
      {
       "output_type": "stream",
       "stream": "stdout",
       "text": [
        "\r",
        "Done 1459 frame of 2096"
       ]
      },
      {
       "output_type": "stream",
       "stream": "stdout",
       "text": [
        "\r",
        "Done 1460 frame of 2096"
       ]
      },
      {
       "output_type": "stream",
       "stream": "stdout",
       "text": [
        "\r",
        "Done 1461 frame of 2096"
       ]
      },
      {
       "output_type": "stream",
       "stream": "stdout",
       "text": [
        "\r",
        "Done 1462 frame of 2096"
       ]
      },
      {
       "output_type": "stream",
       "stream": "stdout",
       "text": [
        "\r",
        "Done 1463 frame of 2096"
       ]
      },
      {
       "output_type": "stream",
       "stream": "stdout",
       "text": [
        "\r",
        "Done 1464 frame of 2096"
       ]
      },
      {
       "output_type": "stream",
       "stream": "stdout",
       "text": [
        "\r",
        "Done 1465 frame of 2096"
       ]
      },
      {
       "output_type": "stream",
       "stream": "stdout",
       "text": [
        "\r",
        "Done 1466 frame of 2096"
       ]
      },
      {
       "output_type": "stream",
       "stream": "stdout",
       "text": [
        "\r",
        "Done 1467 frame of 2096"
       ]
      },
      {
       "output_type": "stream",
       "stream": "stdout",
       "text": [
        "\r",
        "Done 1468 frame of 2096"
       ]
      },
      {
       "output_type": "stream",
       "stream": "stdout",
       "text": [
        "\r",
        "Done 1469 frame of 2096"
       ]
      },
      {
       "output_type": "stream",
       "stream": "stdout",
       "text": [
        "\r",
        "Done 1470 frame of 2096"
       ]
      },
      {
       "output_type": "stream",
       "stream": "stdout",
       "text": [
        "\r",
        "Done 1471 frame of 2096"
       ]
      },
      {
       "output_type": "stream",
       "stream": "stdout",
       "text": [
        "\r",
        "Done 1472 frame of 2096"
       ]
      },
      {
       "output_type": "stream",
       "stream": "stdout",
       "text": [
        "\r",
        "Done 1473 frame of 2096"
       ]
      },
      {
       "output_type": "stream",
       "stream": "stdout",
       "text": [
        "\r",
        "Done 1474 frame of 2096"
       ]
      },
      {
       "output_type": "stream",
       "stream": "stdout",
       "text": [
        "\r",
        "Done 1475 frame of 2096"
       ]
      },
      {
       "output_type": "stream",
       "stream": "stdout",
       "text": [
        "\r",
        "Done 1476 frame of 2096"
       ]
      },
      {
       "output_type": "stream",
       "stream": "stdout",
       "text": [
        "\r",
        "Done 1477 frame of 2096"
       ]
      },
      {
       "output_type": "stream",
       "stream": "stdout",
       "text": [
        "\r",
        "Done 1478 frame of 2096"
       ]
      },
      {
       "output_type": "stream",
       "stream": "stdout",
       "text": [
        "\r",
        "Done 1479 frame of 2096"
       ]
      },
      {
       "output_type": "stream",
       "stream": "stdout",
       "text": [
        "\r",
        "Done 1480 frame of 2096"
       ]
      },
      {
       "output_type": "stream",
       "stream": "stdout",
       "text": [
        "\r",
        "Done 1481 frame of 2096"
       ]
      },
      {
       "output_type": "stream",
       "stream": "stdout",
       "text": [
        "\r",
        "Done 1482 frame of 2096"
       ]
      },
      {
       "output_type": "stream",
       "stream": "stdout",
       "text": [
        "\r",
        "Done 1483 frame of 2096"
       ]
      },
      {
       "output_type": "stream",
       "stream": "stdout",
       "text": [
        "\r",
        "Done 1484 frame of 2096"
       ]
      },
      {
       "output_type": "stream",
       "stream": "stdout",
       "text": [
        "\r",
        "Done 1485 frame of 2096"
       ]
      },
      {
       "output_type": "stream",
       "stream": "stdout",
       "text": [
        "\r",
        "Done 1486 frame of 2096"
       ]
      },
      {
       "output_type": "stream",
       "stream": "stdout",
       "text": [
        "\r",
        "Done 1487 frame of 2096"
       ]
      },
      {
       "output_type": "stream",
       "stream": "stdout",
       "text": [
        "\r",
        "Done 1488 frame of 2096"
       ]
      },
      {
       "output_type": "stream",
       "stream": "stdout",
       "text": [
        "\r",
        "Done 1489 frame of 2096"
       ]
      },
      {
       "output_type": "stream",
       "stream": "stdout",
       "text": [
        "\r",
        "Done 1490 frame of 2096"
       ]
      },
      {
       "output_type": "stream",
       "stream": "stdout",
       "text": [
        "\r",
        "Done 1491 frame of 2096"
       ]
      },
      {
       "output_type": "stream",
       "stream": "stdout",
       "text": [
        "\r",
        "Done 1492 frame of 2096"
       ]
      },
      {
       "output_type": "stream",
       "stream": "stdout",
       "text": [
        "\r",
        "Done 1493 frame of 2096"
       ]
      },
      {
       "output_type": "stream",
       "stream": "stdout",
       "text": [
        "\r",
        "Done 1494 frame of 2096"
       ]
      },
      {
       "output_type": "stream",
       "stream": "stdout",
       "text": [
        "\r",
        "Done 1495 frame of 2096"
       ]
      },
      {
       "output_type": "stream",
       "stream": "stdout",
       "text": [
        "\r",
        "Done 1496 frame of 2096"
       ]
      },
      {
       "output_type": "stream",
       "stream": "stdout",
       "text": [
        "\r",
        "Done 1497 frame of 2096"
       ]
      },
      {
       "output_type": "stream",
       "stream": "stdout",
       "text": [
        "\r",
        "Done 1498 frame of 2096"
       ]
      },
      {
       "output_type": "stream",
       "stream": "stdout",
       "text": [
        "\r",
        "Done 1499 frame of 2096"
       ]
      },
      {
       "output_type": "stream",
       "stream": "stdout",
       "text": [
        "\r",
        "Done 1500 frame of 2096"
       ]
      },
      {
       "output_type": "stream",
       "stream": "stdout",
       "text": [
        "\r",
        "Done 1501 frame of 2096"
       ]
      },
      {
       "output_type": "stream",
       "stream": "stdout",
       "text": [
        "\r",
        "Done 1502 frame of 2096"
       ]
      },
      {
       "output_type": "stream",
       "stream": "stdout",
       "text": [
        "\r",
        "Done 1503 frame of 2096"
       ]
      },
      {
       "output_type": "stream",
       "stream": "stdout",
       "text": [
        "\r",
        "Done 1504 frame of 2096"
       ]
      },
      {
       "output_type": "stream",
       "stream": "stdout",
       "text": [
        "\r",
        "Done 1505 frame of 2096"
       ]
      },
      {
       "output_type": "stream",
       "stream": "stdout",
       "text": [
        "\r",
        "Done 1506 frame of 2096"
       ]
      },
      {
       "output_type": "stream",
       "stream": "stdout",
       "text": [
        "\r",
        "Done 1507 frame of 2096"
       ]
      },
      {
       "output_type": "stream",
       "stream": "stdout",
       "text": [
        "\r",
        "Done 1508 frame of 2096"
       ]
      },
      {
       "output_type": "stream",
       "stream": "stdout",
       "text": [
        "\r",
        "Done 1509 frame of 2096"
       ]
      },
      {
       "output_type": "stream",
       "stream": "stdout",
       "text": [
        "\r",
        "Done 1510 frame of 2096"
       ]
      },
      {
       "output_type": "stream",
       "stream": "stdout",
       "text": [
        "\r",
        "Done 1511 frame of 2096"
       ]
      },
      {
       "output_type": "stream",
       "stream": "stdout",
       "text": [
        "\r",
        "Done 1512 frame of 2096"
       ]
      },
      {
       "output_type": "stream",
       "stream": "stdout",
       "text": [
        "\r",
        "Done 1513 frame of 2096"
       ]
      },
      {
       "output_type": "stream",
       "stream": "stdout",
       "text": [
        "\r",
        "Done 1514 frame of 2096"
       ]
      },
      {
       "output_type": "stream",
       "stream": "stdout",
       "text": [
        "\r",
        "Done 1515 frame of 2096"
       ]
      },
      {
       "output_type": "stream",
       "stream": "stdout",
       "text": [
        "\r",
        "Done 1516 frame of 2096"
       ]
      },
      {
       "output_type": "stream",
       "stream": "stdout",
       "text": [
        "\r",
        "Done 1517 frame of 2096"
       ]
      },
      {
       "output_type": "stream",
       "stream": "stdout",
       "text": [
        "\r",
        "Done 1518 frame of 2096"
       ]
      },
      {
       "output_type": "stream",
       "stream": "stdout",
       "text": [
        "\r",
        "Done 1519 frame of 2096"
       ]
      },
      {
       "output_type": "stream",
       "stream": "stdout",
       "text": [
        "\r",
        "Done 1520 frame of 2096"
       ]
      },
      {
       "output_type": "stream",
       "stream": "stdout",
       "text": [
        "\r",
        "Done 1521 frame of 2096"
       ]
      },
      {
       "output_type": "stream",
       "stream": "stdout",
       "text": [
        "\r",
        "Done 1522 frame of 2096"
       ]
      },
      {
       "output_type": "stream",
       "stream": "stdout",
       "text": [
        "\r",
        "Done 1523 frame of 2096"
       ]
      },
      {
       "output_type": "stream",
       "stream": "stdout",
       "text": [
        "\r",
        "Done 1524 frame of 2096"
       ]
      },
      {
       "output_type": "stream",
       "stream": "stdout",
       "text": [
        "\r",
        "Done 1525 frame of 2096"
       ]
      },
      {
       "output_type": "stream",
       "stream": "stdout",
       "text": [
        "\r",
        "Done 1526 frame of 2096"
       ]
      },
      {
       "output_type": "stream",
       "stream": "stdout",
       "text": [
        "\r",
        "Done 1527 frame of 2096"
       ]
      },
      {
       "output_type": "stream",
       "stream": "stdout",
       "text": [
        "\r",
        "Done 1528 frame of 2096"
       ]
      },
      {
       "output_type": "stream",
       "stream": "stdout",
       "text": [
        "\r",
        "Done 1529 frame of 2096"
       ]
      },
      {
       "output_type": "stream",
       "stream": "stdout",
       "text": [
        "\r",
        "Done 1530 frame of 2096"
       ]
      },
      {
       "output_type": "stream",
       "stream": "stdout",
       "text": [
        "\r",
        "Done 1531 frame of 2096"
       ]
      },
      {
       "output_type": "stream",
       "stream": "stdout",
       "text": [
        "\r",
        "Done 1532 frame of 2096"
       ]
      },
      {
       "output_type": "stream",
       "stream": "stdout",
       "text": [
        "\r",
        "Done 1533 frame of 2096"
       ]
      },
      {
       "output_type": "stream",
       "stream": "stdout",
       "text": [
        "\r",
        "Done 1534 frame of 2096"
       ]
      },
      {
       "output_type": "stream",
       "stream": "stdout",
       "text": [
        "\r",
        "Done 1535 frame of 2096"
       ]
      },
      {
       "output_type": "stream",
       "stream": "stdout",
       "text": [
        "\r",
        "Done 1536 frame of 2096"
       ]
      },
      {
       "output_type": "stream",
       "stream": "stdout",
       "text": [
        "\r",
        "Done 1537 frame of 2096"
       ]
      },
      {
       "output_type": "stream",
       "stream": "stdout",
       "text": [
        "\r",
        "Done 1538 frame of 2096"
       ]
      },
      {
       "output_type": "stream",
       "stream": "stdout",
       "text": [
        "\r",
        "Done 1539 frame of 2096"
       ]
      },
      {
       "output_type": "stream",
       "stream": "stdout",
       "text": [
        "\r",
        "Done 1540 frame of 2096"
       ]
      },
      {
       "output_type": "stream",
       "stream": "stdout",
       "text": [
        "\r",
        "Done 1541 frame of 2096"
       ]
      },
      {
       "output_type": "stream",
       "stream": "stdout",
       "text": [
        "\r",
        "Done 1542 frame of 2096"
       ]
      },
      {
       "output_type": "stream",
       "stream": "stdout",
       "text": [
        "\r",
        "Done 1543 frame of 2096"
       ]
      },
      {
       "output_type": "stream",
       "stream": "stdout",
       "text": [
        "\r",
        "Done 1544 frame of 2096"
       ]
      },
      {
       "output_type": "stream",
       "stream": "stdout",
       "text": [
        "\r",
        "Done 1545 frame of 2096"
       ]
      },
      {
       "output_type": "stream",
       "stream": "stdout",
       "text": [
        "\r",
        "Done 1546 frame of 2096"
       ]
      },
      {
       "output_type": "stream",
       "stream": "stdout",
       "text": [
        "\r",
        "Done 1547 frame of 2096"
       ]
      },
      {
       "output_type": "stream",
       "stream": "stdout",
       "text": [
        "\r",
        "Done 1548 frame of 2096"
       ]
      },
      {
       "output_type": "stream",
       "stream": "stdout",
       "text": [
        "\r",
        "Done 1549 frame of 2096"
       ]
      },
      {
       "output_type": "stream",
       "stream": "stdout",
       "text": [
        "\r",
        "Done 1550 frame of 2096"
       ]
      },
      {
       "output_type": "stream",
       "stream": "stdout",
       "text": [
        "\r",
        "Done 1551 frame of 2096"
       ]
      },
      {
       "output_type": "stream",
       "stream": "stdout",
       "text": [
        "\r",
        "Done 1552 frame of 2096"
       ]
      },
      {
       "output_type": "stream",
       "stream": "stdout",
       "text": [
        "\r",
        "Done 1553 frame of 2096"
       ]
      },
      {
       "output_type": "stream",
       "stream": "stdout",
       "text": [
        "\r",
        "Done 1554 frame of 2096"
       ]
      },
      {
       "output_type": "stream",
       "stream": "stdout",
       "text": [
        "\r",
        "Done 1555 frame of 2096"
       ]
      },
      {
       "output_type": "stream",
       "stream": "stdout",
       "text": [
        "\r",
        "Done 1556 frame of 2096"
       ]
      },
      {
       "output_type": "stream",
       "stream": "stdout",
       "text": [
        "\r",
        "Done 1557 frame of 2096"
       ]
      },
      {
       "output_type": "stream",
       "stream": "stdout",
       "text": [
        "\r",
        "Done 1558 frame of 2096"
       ]
      },
      {
       "output_type": "stream",
       "stream": "stdout",
       "text": [
        "\r",
        "Done 1559 frame of 2096"
       ]
      },
      {
       "output_type": "stream",
       "stream": "stdout",
       "text": [
        "\r",
        "Done 1560 frame of 2096"
       ]
      },
      {
       "output_type": "stream",
       "stream": "stdout",
       "text": [
        "\r",
        "Done 1561 frame of 2096"
       ]
      },
      {
       "output_type": "stream",
       "stream": "stdout",
       "text": [
        "\r",
        "Done 1562 frame of 2096"
       ]
      },
      {
       "output_type": "stream",
       "stream": "stdout",
       "text": [
        "\r",
        "Done 1563 frame of 2096"
       ]
      },
      {
       "output_type": "stream",
       "stream": "stdout",
       "text": [
        "\r",
        "Done 1564 frame of 2096"
       ]
      },
      {
       "output_type": "stream",
       "stream": "stdout",
       "text": [
        "\r",
        "Done 1565 frame of 2096"
       ]
      },
      {
       "output_type": "stream",
       "stream": "stdout",
       "text": [
        "\r",
        "Done 1566 frame of 2096"
       ]
      },
      {
       "output_type": "stream",
       "stream": "stdout",
       "text": [
        "\r",
        "Done 1567 frame of 2096"
       ]
      },
      {
       "output_type": "stream",
       "stream": "stdout",
       "text": [
        "\r",
        "Done 1568 frame of 2096"
       ]
      },
      {
       "output_type": "stream",
       "stream": "stdout",
       "text": [
        "\r",
        "Done 1569 frame of 2096"
       ]
      },
      {
       "output_type": "stream",
       "stream": "stdout",
       "text": [
        "\r",
        "Done 1570 frame of 2096"
       ]
      },
      {
       "output_type": "stream",
       "stream": "stdout",
       "text": [
        "\r",
        "Done 1571 frame of 2096"
       ]
      },
      {
       "output_type": "stream",
       "stream": "stdout",
       "text": [
        "\r",
        "Done 1572 frame of 2096"
       ]
      },
      {
       "output_type": "stream",
       "stream": "stdout",
       "text": [
        "\r",
        "Done 1573 frame of 2096"
       ]
      },
      {
       "output_type": "stream",
       "stream": "stdout",
       "text": [
        "\r",
        "Done 1574 frame of 2096"
       ]
      },
      {
       "output_type": "stream",
       "stream": "stdout",
       "text": [
        "\r",
        "Done 1575 frame of 2096"
       ]
      },
      {
       "output_type": "stream",
       "stream": "stdout",
       "text": [
        "\r",
        "Done 1576 frame of 2096"
       ]
      },
      {
       "output_type": "stream",
       "stream": "stdout",
       "text": [
        "\r",
        "Done 1577 frame of 2096"
       ]
      },
      {
       "output_type": "stream",
       "stream": "stdout",
       "text": [
        "\r",
        "Done 1578 frame of 2096"
       ]
      },
      {
       "output_type": "stream",
       "stream": "stdout",
       "text": [
        "\r",
        "Done 1579 frame of 2096"
       ]
      },
      {
       "output_type": "stream",
       "stream": "stdout",
       "text": [
        "\r",
        "Done 1580 frame of 2096"
       ]
      },
      {
       "output_type": "stream",
       "stream": "stdout",
       "text": [
        "\r",
        "Done 1581 frame of 2096"
       ]
      },
      {
       "output_type": "stream",
       "stream": "stdout",
       "text": [
        "\r",
        "Done 1582 frame of 2096"
       ]
      },
      {
       "output_type": "stream",
       "stream": "stdout",
       "text": [
        "\r",
        "Done 1583 frame of 2096"
       ]
      },
      {
       "output_type": "stream",
       "stream": "stdout",
       "text": [
        "\r",
        "Done 1584 frame of 2096"
       ]
      },
      {
       "output_type": "stream",
       "stream": "stdout",
       "text": [
        "\r",
        "Done 1585 frame of 2096"
       ]
      },
      {
       "output_type": "stream",
       "stream": "stdout",
       "text": [
        "\r",
        "Done 1586 frame of 2096"
       ]
      },
      {
       "output_type": "stream",
       "stream": "stdout",
       "text": [
        "\r",
        "Done 1587 frame of 2096"
       ]
      },
      {
       "output_type": "stream",
       "stream": "stdout",
       "text": [
        "\r",
        "Done 1588 frame of 2096"
       ]
      },
      {
       "output_type": "stream",
       "stream": "stdout",
       "text": [
        "\r",
        "Done 1589 frame of 2096"
       ]
      },
      {
       "output_type": "stream",
       "stream": "stdout",
       "text": [
        "\r",
        "Done 1590 frame of 2096"
       ]
      },
      {
       "output_type": "stream",
       "stream": "stdout",
       "text": [
        "\r",
        "Done 1591 frame of 2096"
       ]
      },
      {
       "output_type": "stream",
       "stream": "stdout",
       "text": [
        "\r",
        "Done 1592 frame of 2096"
       ]
      },
      {
       "output_type": "stream",
       "stream": "stdout",
       "text": [
        "\r",
        "Done 1593 frame of 2096"
       ]
      },
      {
       "output_type": "stream",
       "stream": "stdout",
       "text": [
        "\r",
        "Done 1594 frame of 2096"
       ]
      },
      {
       "output_type": "stream",
       "stream": "stdout",
       "text": [
        "\r",
        "Done 1595 frame of 2096"
       ]
      },
      {
       "output_type": "stream",
       "stream": "stdout",
       "text": [
        "\r",
        "Done 1596 frame of 2096"
       ]
      },
      {
       "output_type": "stream",
       "stream": "stdout",
       "text": [
        "\r",
        "Done 1597 frame of 2096"
       ]
      },
      {
       "output_type": "stream",
       "stream": "stdout",
       "text": [
        "\r",
        "Done 1598 frame of 2096"
       ]
      },
      {
       "output_type": "stream",
       "stream": "stdout",
       "text": [
        "\r",
        "Done 1599 frame of 2096"
       ]
      },
      {
       "output_type": "stream",
       "stream": "stdout",
       "text": [
        "\r",
        "Done 1600 frame of 2096"
       ]
      },
      {
       "output_type": "stream",
       "stream": "stdout",
       "text": [
        "\r",
        "Done 1601 frame of 2096"
       ]
      },
      {
       "output_type": "stream",
       "stream": "stdout",
       "text": [
        "\r",
        "Done 1602 frame of 2096"
       ]
      },
      {
       "output_type": "stream",
       "stream": "stdout",
       "text": [
        "\r",
        "Done 1603 frame of 2096"
       ]
      },
      {
       "output_type": "stream",
       "stream": "stdout",
       "text": [
        "\r",
        "Done 1604 frame of 2096"
       ]
      },
      {
       "output_type": "stream",
       "stream": "stdout",
       "text": [
        "\r",
        "Done 1605 frame of 2096"
       ]
      },
      {
       "output_type": "stream",
       "stream": "stdout",
       "text": [
        "\r",
        "Done 1606 frame of 2096"
       ]
      },
      {
       "output_type": "stream",
       "stream": "stdout",
       "text": [
        "\r",
        "Done 1607 frame of 2096"
       ]
      },
      {
       "output_type": "stream",
       "stream": "stdout",
       "text": [
        "\r",
        "Done 1608 frame of 2096"
       ]
      },
      {
       "output_type": "stream",
       "stream": "stdout",
       "text": [
        "\r",
        "Done 1609 frame of 2096"
       ]
      },
      {
       "output_type": "stream",
       "stream": "stdout",
       "text": [
        "\r",
        "Done 1610 frame of 2096"
       ]
      },
      {
       "output_type": "stream",
       "stream": "stdout",
       "text": [
        "\r",
        "Done 1611 frame of 2096"
       ]
      },
      {
       "output_type": "stream",
       "stream": "stdout",
       "text": [
        "\r",
        "Done 1612 frame of 2096"
       ]
      },
      {
       "output_type": "stream",
       "stream": "stdout",
       "text": [
        "\r",
        "Done 1613 frame of 2096"
       ]
      },
      {
       "output_type": "stream",
       "stream": "stdout",
       "text": [
        "\r",
        "Done 1614 frame of 2096"
       ]
      },
      {
       "output_type": "stream",
       "stream": "stdout",
       "text": [
        "\r",
        "Done 1615 frame of 2096"
       ]
      },
      {
       "output_type": "stream",
       "stream": "stdout",
       "text": [
        "\r",
        "Done 1616 frame of 2096"
       ]
      },
      {
       "output_type": "stream",
       "stream": "stdout",
       "text": [
        "\r",
        "Done 1617 frame of 2096"
       ]
      },
      {
       "output_type": "stream",
       "stream": "stdout",
       "text": [
        "\r",
        "Done 1618 frame of 2096"
       ]
      },
      {
       "output_type": "stream",
       "stream": "stdout",
       "text": [
        "\r",
        "Done 1619 frame of 2096"
       ]
      },
      {
       "output_type": "stream",
       "stream": "stdout",
       "text": [
        "\r",
        "Done 1620 frame of 2096"
       ]
      },
      {
       "output_type": "stream",
       "stream": "stdout",
       "text": [
        "\r",
        "Done 1621 frame of 2096"
       ]
      },
      {
       "output_type": "stream",
       "stream": "stdout",
       "text": [
        "\r",
        "Done 1622 frame of 2096"
       ]
      },
      {
       "output_type": "stream",
       "stream": "stdout",
       "text": [
        "\r",
        "Done 1623 frame of 2096"
       ]
      },
      {
       "output_type": "stream",
       "stream": "stdout",
       "text": [
        "\r",
        "Done 1624 frame of 2096"
       ]
      },
      {
       "output_type": "stream",
       "stream": "stdout",
       "text": [
        "\r",
        "Done 1625 frame of 2096"
       ]
      },
      {
       "output_type": "stream",
       "stream": "stdout",
       "text": [
        "\r",
        "Done 1626 frame of 2096"
       ]
      },
      {
       "output_type": "stream",
       "stream": "stdout",
       "text": [
        "\r",
        "Done 1627 frame of 2096"
       ]
      },
      {
       "output_type": "stream",
       "stream": "stdout",
       "text": [
        "\r",
        "Done 1628 frame of 2096"
       ]
      },
      {
       "output_type": "stream",
       "stream": "stdout",
       "text": [
        "\r",
        "Done 1629 frame of 2096"
       ]
      },
      {
       "output_type": "stream",
       "stream": "stdout",
       "text": [
        "\r",
        "Done 1630 frame of 2096"
       ]
      },
      {
       "output_type": "stream",
       "stream": "stdout",
       "text": [
        "\r",
        "Done 1631 frame of 2096"
       ]
      },
      {
       "output_type": "stream",
       "stream": "stdout",
       "text": [
        "\r",
        "Done 1632 frame of 2096"
       ]
      },
      {
       "output_type": "stream",
       "stream": "stdout",
       "text": [
        "\r",
        "Done 1633 frame of 2096"
       ]
      },
      {
       "output_type": "stream",
       "stream": "stdout",
       "text": [
        "\r",
        "Done 1634 frame of 2096"
       ]
      },
      {
       "output_type": "stream",
       "stream": "stdout",
       "text": [
        "\r",
        "Done 1635 frame of 2096"
       ]
      },
      {
       "output_type": "stream",
       "stream": "stdout",
       "text": [
        "\r",
        "Done 1636 frame of 2096"
       ]
      },
      {
       "output_type": "stream",
       "stream": "stdout",
       "text": [
        "\r",
        "Done 1637 frame of 2096"
       ]
      },
      {
       "output_type": "stream",
       "stream": "stdout",
       "text": [
        "\r",
        "Done 1638 frame of 2096"
       ]
      },
      {
       "output_type": "stream",
       "stream": "stdout",
       "text": [
        "\r",
        "Done 1639 frame of 2096"
       ]
      },
      {
       "output_type": "stream",
       "stream": "stdout",
       "text": [
        "\r",
        "Done 1640 frame of 2096"
       ]
      },
      {
       "output_type": "stream",
       "stream": "stdout",
       "text": [
        "\r",
        "Done 1641 frame of 2096"
       ]
      },
      {
       "output_type": "stream",
       "stream": "stdout",
       "text": [
        "\r",
        "Done 1642 frame of 2096"
       ]
      },
      {
       "output_type": "stream",
       "stream": "stdout",
       "text": [
        "\r",
        "Done 1643 frame of 2096"
       ]
      },
      {
       "output_type": "stream",
       "stream": "stdout",
       "text": [
        "\r",
        "Done 1644 frame of 2096"
       ]
      },
      {
       "output_type": "stream",
       "stream": "stdout",
       "text": [
        "\r",
        "Done 1645 frame of 2096"
       ]
      },
      {
       "output_type": "stream",
       "stream": "stdout",
       "text": [
        "\r",
        "Done 1646 frame of 2096"
       ]
      },
      {
       "output_type": "stream",
       "stream": "stdout",
       "text": [
        "\r",
        "Done 1647 frame of 2096"
       ]
      },
      {
       "output_type": "stream",
       "stream": "stdout",
       "text": [
        "\r",
        "Done 1648 frame of 2096"
       ]
      },
      {
       "output_type": "stream",
       "stream": "stdout",
       "text": [
        "\r",
        "Done 1649 frame of 2096"
       ]
      },
      {
       "output_type": "stream",
       "stream": "stdout",
       "text": [
        "\r",
        "Done 1650 frame of 2096"
       ]
      },
      {
       "output_type": "stream",
       "stream": "stdout",
       "text": [
        "\r",
        "Done 1651 frame of 2096"
       ]
      },
      {
       "output_type": "stream",
       "stream": "stdout",
       "text": [
        "\r",
        "Done 1652 frame of 2096"
       ]
      },
      {
       "output_type": "stream",
       "stream": "stdout",
       "text": [
        "\r",
        "Done 1653 frame of 2096"
       ]
      },
      {
       "output_type": "stream",
       "stream": "stdout",
       "text": [
        "\r",
        "Done 1654 frame of 2096"
       ]
      },
      {
       "output_type": "stream",
       "stream": "stdout",
       "text": [
        "\r",
        "Done 1655 frame of 2096"
       ]
      },
      {
       "output_type": "stream",
       "stream": "stdout",
       "text": [
        "\r",
        "Done 1656 frame of 2096"
       ]
      },
      {
       "output_type": "stream",
       "stream": "stdout",
       "text": [
        "\r",
        "Done 1657 frame of 2096"
       ]
      },
      {
       "output_type": "stream",
       "stream": "stdout",
       "text": [
        "\r",
        "Done 1658 frame of 2096"
       ]
      },
      {
       "output_type": "stream",
       "stream": "stdout",
       "text": [
        "\r",
        "Done 1659 frame of 2096"
       ]
      },
      {
       "output_type": "stream",
       "stream": "stdout",
       "text": [
        "\r",
        "Done 1660 frame of 2096"
       ]
      },
      {
       "output_type": "stream",
       "stream": "stdout",
       "text": [
        "\r",
        "Done 1661 frame of 2096"
       ]
      },
      {
       "output_type": "stream",
       "stream": "stdout",
       "text": [
        "\r",
        "Done 1662 frame of 2096"
       ]
      },
      {
       "output_type": "stream",
       "stream": "stdout",
       "text": [
        "\r",
        "Done 1663 frame of 2096"
       ]
      },
      {
       "output_type": "stream",
       "stream": "stdout",
       "text": [
        "\r",
        "Done 1664 frame of 2096"
       ]
      },
      {
       "output_type": "stream",
       "stream": "stdout",
       "text": [
        "\r",
        "Done 1665 frame of 2096"
       ]
      },
      {
       "output_type": "stream",
       "stream": "stdout",
       "text": [
        "\r",
        "Done 1666 frame of 2096"
       ]
      },
      {
       "output_type": "stream",
       "stream": "stdout",
       "text": [
        "\r",
        "Done 1667 frame of 2096"
       ]
      },
      {
       "output_type": "stream",
       "stream": "stdout",
       "text": [
        "\r",
        "Done 1668 frame of 2096"
       ]
      },
      {
       "output_type": "stream",
       "stream": "stdout",
       "text": [
        "\r",
        "Done 1669 frame of 2096"
       ]
      },
      {
       "output_type": "stream",
       "stream": "stdout",
       "text": [
        "\r",
        "Done 1670 frame of 2096"
       ]
      },
      {
       "output_type": "stream",
       "stream": "stdout",
       "text": [
        "\r",
        "Done 1671 frame of 2096"
       ]
      },
      {
       "output_type": "stream",
       "stream": "stdout",
       "text": [
        "\r",
        "Done 1672 frame of 2096"
       ]
      },
      {
       "output_type": "stream",
       "stream": "stdout",
       "text": [
        "\r",
        "Done 1673 frame of 2096"
       ]
      },
      {
       "output_type": "stream",
       "stream": "stdout",
       "text": [
        "\r",
        "Done 1674 frame of 2096"
       ]
      },
      {
       "output_type": "stream",
       "stream": "stdout",
       "text": [
        "\r",
        "Done 1675 frame of 2096"
       ]
      },
      {
       "output_type": "stream",
       "stream": "stdout",
       "text": [
        "\r",
        "Done 1676 frame of 2096"
       ]
      },
      {
       "output_type": "stream",
       "stream": "stdout",
       "text": [
        "\r",
        "Done 1677 frame of 2096"
       ]
      },
      {
       "output_type": "stream",
       "stream": "stdout",
       "text": [
        "\r",
        "Done 1678 frame of 2096"
       ]
      },
      {
       "output_type": "stream",
       "stream": "stdout",
       "text": [
        "\r",
        "Done 1679 frame of 2096"
       ]
      },
      {
       "output_type": "stream",
       "stream": "stdout",
       "text": [
        "\r",
        "Done 1680 frame of 2096"
       ]
      },
      {
       "output_type": "stream",
       "stream": "stdout",
       "text": [
        "\r",
        "Done 1681 frame of 2096"
       ]
      },
      {
       "output_type": "stream",
       "stream": "stdout",
       "text": [
        "\r",
        "Done 1682 frame of 2096"
       ]
      },
      {
       "output_type": "stream",
       "stream": "stdout",
       "text": [
        "\r",
        "Done 1683 frame of 2096"
       ]
      },
      {
       "output_type": "stream",
       "stream": "stdout",
       "text": [
        "\r",
        "Done 1684 frame of 2096"
       ]
      },
      {
       "output_type": "stream",
       "stream": "stdout",
       "text": [
        "\r",
        "Done 1685 frame of 2096"
       ]
      },
      {
       "output_type": "stream",
       "stream": "stdout",
       "text": [
        "\r",
        "Done 1686 frame of 2096"
       ]
      },
      {
       "output_type": "stream",
       "stream": "stdout",
       "text": [
        "\r",
        "Done 1687 frame of 2096"
       ]
      },
      {
       "output_type": "stream",
       "stream": "stdout",
       "text": [
        "\r",
        "Done 1688 frame of 2096"
       ]
      },
      {
       "output_type": "stream",
       "stream": "stdout",
       "text": [
        "\r",
        "Done 1689 frame of 2096"
       ]
      },
      {
       "output_type": "stream",
       "stream": "stdout",
       "text": [
        "\r",
        "Done 1690 frame of 2096"
       ]
      },
      {
       "output_type": "stream",
       "stream": "stdout",
       "text": [
        "\r",
        "Done 1691 frame of 2096"
       ]
      },
      {
       "output_type": "stream",
       "stream": "stdout",
       "text": [
        "\r",
        "Done 1692 frame of 2096"
       ]
      },
      {
       "output_type": "stream",
       "stream": "stdout",
       "text": [
        "\r",
        "Done 1693 frame of 2096"
       ]
      },
      {
       "output_type": "stream",
       "stream": "stdout",
       "text": [
        "\r",
        "Done 1694 frame of 2096"
       ]
      },
      {
       "output_type": "stream",
       "stream": "stdout",
       "text": [
        "\r",
        "Done 1695 frame of 2096"
       ]
      },
      {
       "output_type": "stream",
       "stream": "stdout",
       "text": [
        "\r",
        "Done 1696 frame of 2096"
       ]
      },
      {
       "output_type": "stream",
       "stream": "stdout",
       "text": [
        "\r",
        "Done 1697 frame of 2096"
       ]
      },
      {
       "output_type": "stream",
       "stream": "stdout",
       "text": [
        "\r",
        "Done 1698 frame of 2096"
       ]
      },
      {
       "output_type": "stream",
       "stream": "stdout",
       "text": [
        "\r",
        "Done 1699 frame of 2096"
       ]
      },
      {
       "output_type": "stream",
       "stream": "stdout",
       "text": [
        "\r",
        "Done 1700 frame of 2096"
       ]
      },
      {
       "output_type": "stream",
       "stream": "stdout",
       "text": [
        "\r",
        "Done 1701 frame of 2096"
       ]
      },
      {
       "output_type": "stream",
       "stream": "stdout",
       "text": [
        "\r",
        "Done 1702 frame of 2096"
       ]
      },
      {
       "output_type": "stream",
       "stream": "stdout",
       "text": [
        "\r",
        "Done 1703 frame of 2096"
       ]
      },
      {
       "output_type": "stream",
       "stream": "stdout",
       "text": [
        "\r",
        "Done 1704 frame of 2096"
       ]
      },
      {
       "output_type": "stream",
       "stream": "stdout",
       "text": [
        "\r",
        "Done 1705 frame of 2096"
       ]
      },
      {
       "output_type": "stream",
       "stream": "stdout",
       "text": [
        "\r",
        "Done 1706 frame of 2096"
       ]
      },
      {
       "output_type": "stream",
       "stream": "stdout",
       "text": [
        "\r",
        "Done 1707 frame of 2096"
       ]
      },
      {
       "output_type": "stream",
       "stream": "stdout",
       "text": [
        "\r",
        "Done 1708 frame of 2096"
       ]
      },
      {
       "output_type": "stream",
       "stream": "stdout",
       "text": [
        "\r",
        "Done 1709 frame of 2096"
       ]
      },
      {
       "output_type": "stream",
       "stream": "stdout",
       "text": [
        "\r",
        "Done 1710 frame of 2096"
       ]
      },
      {
       "output_type": "stream",
       "stream": "stdout",
       "text": [
        "\r",
        "Done 1711 frame of 2096"
       ]
      },
      {
       "output_type": "stream",
       "stream": "stdout",
       "text": [
        "\r",
        "Done 1712 frame of 2096"
       ]
      },
      {
       "output_type": "stream",
       "stream": "stdout",
       "text": [
        "\r",
        "Done 1713 frame of 2096"
       ]
      },
      {
       "output_type": "stream",
       "stream": "stdout",
       "text": [
        "\r",
        "Done 1714 frame of 2096"
       ]
      },
      {
       "output_type": "stream",
       "stream": "stdout",
       "text": [
        "\r",
        "Done 1715 frame of 2096"
       ]
      },
      {
       "output_type": "stream",
       "stream": "stdout",
       "text": [
        "\r",
        "Done 1716 frame of 2096"
       ]
      },
      {
       "output_type": "stream",
       "stream": "stdout",
       "text": [
        "\r",
        "Done 1717 frame of 2096"
       ]
      },
      {
       "output_type": "stream",
       "stream": "stdout",
       "text": [
        "\r",
        "Done 1718 frame of 2096"
       ]
      },
      {
       "output_type": "stream",
       "stream": "stdout",
       "text": [
        "\r",
        "Done 1719 frame of 2096"
       ]
      },
      {
       "output_type": "stream",
       "stream": "stdout",
       "text": [
        "\r",
        "Done 1720 frame of 2096"
       ]
      },
      {
       "output_type": "stream",
       "stream": "stdout",
       "text": [
        "\r",
        "Done 1721 frame of 2096"
       ]
      },
      {
       "output_type": "stream",
       "stream": "stdout",
       "text": [
        "\r",
        "Done 1722 frame of 2096"
       ]
      },
      {
       "output_type": "stream",
       "stream": "stdout",
       "text": [
        "\r",
        "Done 1723 frame of 2096"
       ]
      },
      {
       "output_type": "stream",
       "stream": "stdout",
       "text": [
        "\r",
        "Done 1724 frame of 2096"
       ]
      },
      {
       "output_type": "stream",
       "stream": "stdout",
       "text": [
        "\r",
        "Done 1725 frame of 2096"
       ]
      },
      {
       "output_type": "stream",
       "stream": "stdout",
       "text": [
        "\r",
        "Done 1726 frame of 2096"
       ]
      },
      {
       "output_type": "stream",
       "stream": "stdout",
       "text": [
        "\r",
        "Done 1727 frame of 2096"
       ]
      },
      {
       "output_type": "stream",
       "stream": "stdout",
       "text": [
        "\r",
        "Done 1728 frame of 2096"
       ]
      },
      {
       "output_type": "stream",
       "stream": "stdout",
       "text": [
        "\r",
        "Done 1729 frame of 2096"
       ]
      },
      {
       "output_type": "stream",
       "stream": "stdout",
       "text": [
        "\r",
        "Done 1730 frame of 2096"
       ]
      },
      {
       "output_type": "stream",
       "stream": "stdout",
       "text": [
        "\r",
        "Done 1731 frame of 2096"
       ]
      },
      {
       "output_type": "stream",
       "stream": "stdout",
       "text": [
        "\r",
        "Done 1732 frame of 2096"
       ]
      },
      {
       "output_type": "stream",
       "stream": "stdout",
       "text": [
        "\r",
        "Done 1733 frame of 2096"
       ]
      },
      {
       "output_type": "stream",
       "stream": "stdout",
       "text": [
        "\r",
        "Done 1734 frame of 2096"
       ]
      },
      {
       "output_type": "stream",
       "stream": "stdout",
       "text": [
        "\r",
        "Done 1735 frame of 2096"
       ]
      },
      {
       "output_type": "stream",
       "stream": "stdout",
       "text": [
        "\r",
        "Done 1736 frame of 2096"
       ]
      },
      {
       "output_type": "stream",
       "stream": "stdout",
       "text": [
        "\r",
        "Done 1737 frame of 2096"
       ]
      },
      {
       "output_type": "stream",
       "stream": "stdout",
       "text": [
        "\r",
        "Done 1738 frame of 2096"
       ]
      },
      {
       "output_type": "stream",
       "stream": "stdout",
       "text": [
        "\r",
        "Done 1739 frame of 2096"
       ]
      },
      {
       "output_type": "stream",
       "stream": "stdout",
       "text": [
        "\r",
        "Done 1740 frame of 2096"
       ]
      },
      {
       "output_type": "stream",
       "stream": "stdout",
       "text": [
        "\r",
        "Done 1741 frame of 2096"
       ]
      },
      {
       "output_type": "stream",
       "stream": "stdout",
       "text": [
        "\r",
        "Done 1742 frame of 2096"
       ]
      },
      {
       "output_type": "stream",
       "stream": "stdout",
       "text": [
        "\r",
        "Done 1743 frame of 2096"
       ]
      },
      {
       "output_type": "stream",
       "stream": "stdout",
       "text": [
        "\r",
        "Done 1744 frame of 2096"
       ]
      },
      {
       "output_type": "stream",
       "stream": "stdout",
       "text": [
        "\r",
        "Done 1745 frame of 2096"
       ]
      },
      {
       "output_type": "stream",
       "stream": "stdout",
       "text": [
        "\r",
        "Done 1746 frame of 2096"
       ]
      },
      {
       "output_type": "stream",
       "stream": "stdout",
       "text": [
        "\r",
        "Done 1747 frame of 2096"
       ]
      },
      {
       "output_type": "stream",
       "stream": "stdout",
       "text": [
        "\r",
        "Done 1748 frame of 2096"
       ]
      },
      {
       "output_type": "stream",
       "stream": "stdout",
       "text": [
        "\r",
        "Done 1749 frame of 2096"
       ]
      },
      {
       "output_type": "stream",
       "stream": "stdout",
       "text": [
        "\r",
        "Done 1750 frame of 2096"
       ]
      },
      {
       "output_type": "stream",
       "stream": "stdout",
       "text": [
        "\r",
        "Done 1751 frame of 2096"
       ]
      },
      {
       "output_type": "stream",
       "stream": "stdout",
       "text": [
        "\r",
        "Done 1752 frame of 2096"
       ]
      },
      {
       "output_type": "stream",
       "stream": "stdout",
       "text": [
        "\r",
        "Done 1753 frame of 2096"
       ]
      },
      {
       "output_type": "stream",
       "stream": "stdout",
       "text": [
        "\r",
        "Done 1754 frame of 2096"
       ]
      },
      {
       "output_type": "stream",
       "stream": "stdout",
       "text": [
        "\r",
        "Done 1755 frame of 2096"
       ]
      },
      {
       "output_type": "stream",
       "stream": "stdout",
       "text": [
        "\r",
        "Done 1756 frame of 2096"
       ]
      },
      {
       "output_type": "stream",
       "stream": "stdout",
       "text": [
        "\r",
        "Done 1757 frame of 2096"
       ]
      },
      {
       "output_type": "stream",
       "stream": "stdout",
       "text": [
        "\r",
        "Done 1758 frame of 2096"
       ]
      },
      {
       "output_type": "stream",
       "stream": "stdout",
       "text": [
        "\r",
        "Done 1759 frame of 2096"
       ]
      },
      {
       "output_type": "stream",
       "stream": "stdout",
       "text": [
        "\r",
        "Done 1760 frame of 2096"
       ]
      },
      {
       "output_type": "stream",
       "stream": "stdout",
       "text": [
        "\r",
        "Done 1761 frame of 2096"
       ]
      },
      {
       "output_type": "stream",
       "stream": "stdout",
       "text": [
        "\r",
        "Done 1762 frame of 2096"
       ]
      },
      {
       "output_type": "stream",
       "stream": "stdout",
       "text": [
        "\r",
        "Done 1763 frame of 2096"
       ]
      },
      {
       "output_type": "stream",
       "stream": "stdout",
       "text": [
        "\r",
        "Done 1764 frame of 2096"
       ]
      },
      {
       "output_type": "stream",
       "stream": "stdout",
       "text": [
        "\r",
        "Done 1765 frame of 2096"
       ]
      },
      {
       "output_type": "stream",
       "stream": "stdout",
       "text": [
        "\r",
        "Done 1766 frame of 2096"
       ]
      },
      {
       "output_type": "stream",
       "stream": "stdout",
       "text": [
        "\r",
        "Done 1767 frame of 2096"
       ]
      },
      {
       "output_type": "stream",
       "stream": "stdout",
       "text": [
        "\r",
        "Done 1768 frame of 2096"
       ]
      },
      {
       "output_type": "stream",
       "stream": "stdout",
       "text": [
        "\r",
        "Done 1769 frame of 2096"
       ]
      },
      {
       "output_type": "stream",
       "stream": "stdout",
       "text": [
        "\r",
        "Done 1770 frame of 2096"
       ]
      },
      {
       "output_type": "stream",
       "stream": "stdout",
       "text": [
        "\r",
        "Done 1771 frame of 2096"
       ]
      },
      {
       "output_type": "stream",
       "stream": "stdout",
       "text": [
        "\r",
        "Done 1772 frame of 2096"
       ]
      },
      {
       "output_type": "stream",
       "stream": "stdout",
       "text": [
        "\r",
        "Done 1773 frame of 2096"
       ]
      },
      {
       "output_type": "stream",
       "stream": "stdout",
       "text": [
        "\r",
        "Done 1774 frame of 2096"
       ]
      },
      {
       "output_type": "stream",
       "stream": "stdout",
       "text": [
        "\r",
        "Done 1775 frame of 2096"
       ]
      },
      {
       "output_type": "stream",
       "stream": "stdout",
       "text": [
        "\r",
        "Done 1776 frame of 2096"
       ]
      },
      {
       "output_type": "stream",
       "stream": "stdout",
       "text": [
        "\r",
        "Done 1777 frame of 2096"
       ]
      },
      {
       "output_type": "stream",
       "stream": "stdout",
       "text": [
        "\r",
        "Done 1778 frame of 2096"
       ]
      },
      {
       "output_type": "stream",
       "stream": "stdout",
       "text": [
        "\r",
        "Done 1779 frame of 2096"
       ]
      },
      {
       "output_type": "stream",
       "stream": "stdout",
       "text": [
        "\r",
        "Done 1780 frame of 2096"
       ]
      },
      {
       "output_type": "stream",
       "stream": "stdout",
       "text": [
        "\r",
        "Done 1781 frame of 2096"
       ]
      },
      {
       "output_type": "stream",
       "stream": "stdout",
       "text": [
        "\r",
        "Done 1782 frame of 2096"
       ]
      },
      {
       "output_type": "stream",
       "stream": "stdout",
       "text": [
        "\r",
        "Done 1783 frame of 2096"
       ]
      },
      {
       "output_type": "stream",
       "stream": "stdout",
       "text": [
        "\r",
        "Done 1784 frame of 2096"
       ]
      },
      {
       "output_type": "stream",
       "stream": "stdout",
       "text": [
        "\r",
        "Done 1785 frame of 2096"
       ]
      },
      {
       "output_type": "stream",
       "stream": "stdout",
       "text": [
        "\r",
        "Done 1786 frame of 2096"
       ]
      },
      {
       "output_type": "stream",
       "stream": "stdout",
       "text": [
        "\r",
        "Done 1787 frame of 2096"
       ]
      },
      {
       "output_type": "stream",
       "stream": "stdout",
       "text": [
        "\r",
        "Done 1788 frame of 2096"
       ]
      },
      {
       "output_type": "stream",
       "stream": "stdout",
       "text": [
        "\r",
        "Done 1789 frame of 2096"
       ]
      },
      {
       "output_type": "stream",
       "stream": "stdout",
       "text": [
        "\r",
        "Done 1790 frame of 2096"
       ]
      },
      {
       "output_type": "stream",
       "stream": "stdout",
       "text": [
        "\r",
        "Done 1791 frame of 2096"
       ]
      },
      {
       "output_type": "stream",
       "stream": "stdout",
       "text": [
        "\r",
        "Done 1792 frame of 2096"
       ]
      },
      {
       "output_type": "stream",
       "stream": "stdout",
       "text": [
        "\r",
        "Done 1793 frame of 2096"
       ]
      },
      {
       "output_type": "stream",
       "stream": "stdout",
       "text": [
        "\r",
        "Done 1794 frame of 2096"
       ]
      },
      {
       "output_type": "stream",
       "stream": "stdout",
       "text": [
        "\r",
        "Done 1795 frame of 2096"
       ]
      },
      {
       "output_type": "stream",
       "stream": "stdout",
       "text": [
        "\r",
        "Done 1796 frame of 2096"
       ]
      },
      {
       "output_type": "stream",
       "stream": "stdout",
       "text": [
        "\r",
        "Done 1797 frame of 2096"
       ]
      },
      {
       "output_type": "stream",
       "stream": "stdout",
       "text": [
        "\r",
        "Done 1798 frame of 2096"
       ]
      },
      {
       "output_type": "stream",
       "stream": "stdout",
       "text": [
        "\r",
        "Done 1799 frame of 2096"
       ]
      },
      {
       "output_type": "stream",
       "stream": "stdout",
       "text": [
        "\r",
        "Done 1800 frame of 2096"
       ]
      },
      {
       "output_type": "stream",
       "stream": "stdout",
       "text": [
        "\r",
        "Done 1801 frame of 2096"
       ]
      },
      {
       "output_type": "stream",
       "stream": "stdout",
       "text": [
        "\r",
        "Done 1802 frame of 2096"
       ]
      },
      {
       "output_type": "stream",
       "stream": "stdout",
       "text": [
        "\r",
        "Done 1803 frame of 2096"
       ]
      },
      {
       "output_type": "stream",
       "stream": "stdout",
       "text": [
        "\r",
        "Done 1804 frame of 2096"
       ]
      },
      {
       "output_type": "stream",
       "stream": "stdout",
       "text": [
        "\r",
        "Done 1805 frame of 2096"
       ]
      },
      {
       "output_type": "stream",
       "stream": "stdout",
       "text": [
        "\r",
        "Done 1806 frame of 2096"
       ]
      },
      {
       "output_type": "stream",
       "stream": "stdout",
       "text": [
        "\r",
        "Done 1807 frame of 2096"
       ]
      },
      {
       "output_type": "stream",
       "stream": "stdout",
       "text": [
        "\r",
        "Done 1808 frame of 2096"
       ]
      },
      {
       "output_type": "stream",
       "stream": "stdout",
       "text": [
        "\r",
        "Done 1809 frame of 2096"
       ]
      },
      {
       "output_type": "stream",
       "stream": "stdout",
       "text": [
        "\r",
        "Done 1810 frame of 2096"
       ]
      },
      {
       "output_type": "stream",
       "stream": "stdout",
       "text": [
        "\r",
        "Done 1811 frame of 2096"
       ]
      },
      {
       "output_type": "stream",
       "stream": "stdout",
       "text": [
        "\r",
        "Done 1812 frame of 2096"
       ]
      },
      {
       "output_type": "stream",
       "stream": "stdout",
       "text": [
        "\r",
        "Done 1813 frame of 2096"
       ]
      },
      {
       "output_type": "stream",
       "stream": "stdout",
       "text": [
        "\r",
        "Done 1814 frame of 2096"
       ]
      },
      {
       "output_type": "stream",
       "stream": "stdout",
       "text": [
        "\r",
        "Done 1815 frame of 2096"
       ]
      },
      {
       "output_type": "stream",
       "stream": "stdout",
       "text": [
        "\r",
        "Done 1816 frame of 2096"
       ]
      },
      {
       "output_type": "stream",
       "stream": "stdout",
       "text": [
        "\r",
        "Done 1817 frame of 2096"
       ]
      },
      {
       "output_type": "stream",
       "stream": "stdout",
       "text": [
        "\r",
        "Done 1818 frame of 2096"
       ]
      },
      {
       "output_type": "stream",
       "stream": "stdout",
       "text": [
        "\r",
        "Done 1819 frame of 2096"
       ]
      },
      {
       "output_type": "stream",
       "stream": "stdout",
       "text": [
        "\r",
        "Done 1820 frame of 2096"
       ]
      },
      {
       "output_type": "stream",
       "stream": "stdout",
       "text": [
        "\r",
        "Done 1821 frame of 2096"
       ]
      },
      {
       "output_type": "stream",
       "stream": "stdout",
       "text": [
        "\r",
        "Done 1822 frame of 2096"
       ]
      },
      {
       "output_type": "stream",
       "stream": "stdout",
       "text": [
        "\r",
        "Done 1823 frame of 2096"
       ]
      },
      {
       "output_type": "stream",
       "stream": "stdout",
       "text": [
        "\r",
        "Done 1824 frame of 2096"
       ]
      },
      {
       "output_type": "stream",
       "stream": "stdout",
       "text": [
        "\r",
        "Done 1825 frame of 2096"
       ]
      },
      {
       "output_type": "stream",
       "stream": "stdout",
       "text": [
        "\r",
        "Done 1826 frame of 2096"
       ]
      },
      {
       "output_type": "stream",
       "stream": "stdout",
       "text": [
        "\r",
        "Done 1827 frame of 2096"
       ]
      },
      {
       "output_type": "stream",
       "stream": "stdout",
       "text": [
        "\r",
        "Done 1828 frame of 2096"
       ]
      },
      {
       "output_type": "stream",
       "stream": "stdout",
       "text": [
        "\r",
        "Done 1829 frame of 2096"
       ]
      },
      {
       "output_type": "stream",
       "stream": "stdout",
       "text": [
        "\r",
        "Done 1830 frame of 2096"
       ]
      },
      {
       "output_type": "stream",
       "stream": "stdout",
       "text": [
        "\r",
        "Done 1831 frame of 2096"
       ]
      },
      {
       "output_type": "stream",
       "stream": "stdout",
       "text": [
        "\r",
        "Done 1832 frame of 2096"
       ]
      },
      {
       "output_type": "stream",
       "stream": "stdout",
       "text": [
        "\r",
        "Done 1833 frame of 2096"
       ]
      },
      {
       "output_type": "stream",
       "stream": "stdout",
       "text": [
        "\r",
        "Done 1834 frame of 2096"
       ]
      },
      {
       "output_type": "stream",
       "stream": "stdout",
       "text": [
        "\r",
        "Done 1835 frame of 2096"
       ]
      },
      {
       "output_type": "stream",
       "stream": "stdout",
       "text": [
        "\r",
        "Done 1836 frame of 2096"
       ]
      },
      {
       "output_type": "stream",
       "stream": "stdout",
       "text": [
        "\r",
        "Done 1837 frame of 2096"
       ]
      },
      {
       "output_type": "stream",
       "stream": "stdout",
       "text": [
        "\r",
        "Done 1838 frame of 2096"
       ]
      },
      {
       "output_type": "stream",
       "stream": "stdout",
       "text": [
        "\r",
        "Done 1839 frame of 2096"
       ]
      },
      {
       "output_type": "stream",
       "stream": "stdout",
       "text": [
        "\r",
        "Done 1840 frame of 2096"
       ]
      },
      {
       "output_type": "stream",
       "stream": "stdout",
       "text": [
        "\r",
        "Done 1841 frame of 2096"
       ]
      },
      {
       "output_type": "stream",
       "stream": "stdout",
       "text": [
        "\r",
        "Done 1842 frame of 2096"
       ]
      },
      {
       "output_type": "stream",
       "stream": "stdout",
       "text": [
        "\r",
        "Done 1843 frame of 2096"
       ]
      },
      {
       "output_type": "stream",
       "stream": "stdout",
       "text": [
        "\r",
        "Done 1844 frame of 2096"
       ]
      },
      {
       "output_type": "stream",
       "stream": "stdout",
       "text": [
        "\r",
        "Done 1845 frame of 2096"
       ]
      },
      {
       "output_type": "stream",
       "stream": "stdout",
       "text": [
        "\r",
        "Done 1846 frame of 2096"
       ]
      },
      {
       "output_type": "stream",
       "stream": "stdout",
       "text": [
        "\r",
        "Done 1847 frame of 2096"
       ]
      },
      {
       "output_type": "stream",
       "stream": "stdout",
       "text": [
        "\r",
        "Done 1848 frame of 2096"
       ]
      },
      {
       "output_type": "stream",
       "stream": "stdout",
       "text": [
        "\r",
        "Done 1849 frame of 2096"
       ]
      },
      {
       "output_type": "stream",
       "stream": "stdout",
       "text": [
        "\r",
        "Done 1850 frame of 2096"
       ]
      },
      {
       "output_type": "stream",
       "stream": "stdout",
       "text": [
        "\r",
        "Done 1851 frame of 2096"
       ]
      },
      {
       "output_type": "stream",
       "stream": "stdout",
       "text": [
        "\r",
        "Done 1852 frame of 2096"
       ]
      },
      {
       "output_type": "stream",
       "stream": "stdout",
       "text": [
        "\r",
        "Done 1853 frame of 2096"
       ]
      },
      {
       "output_type": "stream",
       "stream": "stdout",
       "text": [
        "\r",
        "Done 1854 frame of 2096"
       ]
      },
      {
       "output_type": "stream",
       "stream": "stdout",
       "text": [
        "\r",
        "Done 1855 frame of 2096"
       ]
      },
      {
       "output_type": "stream",
       "stream": "stdout",
       "text": [
        "\r",
        "Done 1856 frame of 2096"
       ]
      },
      {
       "output_type": "stream",
       "stream": "stdout",
       "text": [
        "\r",
        "Done 1857 frame of 2096"
       ]
      },
      {
       "output_type": "stream",
       "stream": "stdout",
       "text": [
        "\r",
        "Done 1858 frame of 2096"
       ]
      },
      {
       "output_type": "stream",
       "stream": "stdout",
       "text": [
        "\r",
        "Done 1859 frame of 2096"
       ]
      },
      {
       "output_type": "stream",
       "stream": "stdout",
       "text": [
        "\r",
        "Done 1860 frame of 2096"
       ]
      },
      {
       "output_type": "stream",
       "stream": "stdout",
       "text": [
        "\r",
        "Done 1861 frame of 2096"
       ]
      },
      {
       "output_type": "stream",
       "stream": "stdout",
       "text": [
        "\r",
        "Done 1862 frame of 2096"
       ]
      },
      {
       "output_type": "stream",
       "stream": "stdout",
       "text": [
        "\r",
        "Done 1863 frame of 2096"
       ]
      },
      {
       "output_type": "stream",
       "stream": "stdout",
       "text": [
        "\r",
        "Done 1864 frame of 2096"
       ]
      },
      {
       "output_type": "stream",
       "stream": "stdout",
       "text": [
        "\r",
        "Done 1865 frame of 2096"
       ]
      },
      {
       "output_type": "stream",
       "stream": "stdout",
       "text": [
        "\r",
        "Done 1866 frame of 2096"
       ]
      },
      {
       "output_type": "stream",
       "stream": "stdout",
       "text": [
        "\r",
        "Done 1867 frame of 2096"
       ]
      },
      {
       "output_type": "stream",
       "stream": "stdout",
       "text": [
        "\r",
        "Done 1868 frame of 2096"
       ]
      },
      {
       "output_type": "stream",
       "stream": "stdout",
       "text": [
        "\r",
        "Done 1869 frame of 2096"
       ]
      },
      {
       "output_type": "stream",
       "stream": "stdout",
       "text": [
        "\r",
        "Done 1870 frame of 2096"
       ]
      },
      {
       "output_type": "stream",
       "stream": "stdout",
       "text": [
        "\r",
        "Done 1871 frame of 2096"
       ]
      },
      {
       "output_type": "stream",
       "stream": "stdout",
       "text": [
        "\r",
        "Done 1872 frame of 2096"
       ]
      },
      {
       "output_type": "stream",
       "stream": "stdout",
       "text": [
        "\r",
        "Done 1873 frame of 2096"
       ]
      },
      {
       "output_type": "stream",
       "stream": "stdout",
       "text": [
        "\r",
        "Done 1874 frame of 2096"
       ]
      },
      {
       "output_type": "stream",
       "stream": "stdout",
       "text": [
        "\r",
        "Done 1875 frame of 2096"
       ]
      },
      {
       "output_type": "stream",
       "stream": "stdout",
       "text": [
        "\r",
        "Done 1876 frame of 2096"
       ]
      },
      {
       "output_type": "stream",
       "stream": "stdout",
       "text": [
        "\r",
        "Done 1877 frame of 2096"
       ]
      },
      {
       "output_type": "stream",
       "stream": "stdout",
       "text": [
        "\r",
        "Done 1878 frame of 2096"
       ]
      },
      {
       "output_type": "stream",
       "stream": "stdout",
       "text": [
        "\r",
        "Done 1879 frame of 2096"
       ]
      },
      {
       "output_type": "stream",
       "stream": "stdout",
       "text": [
        "\r",
        "Done 1880 frame of 2096"
       ]
      },
      {
       "output_type": "stream",
       "stream": "stdout",
       "text": [
        "\r",
        "Done 1881 frame of 2096"
       ]
      },
      {
       "output_type": "stream",
       "stream": "stdout",
       "text": [
        "\r",
        "Done 1882 frame of 2096"
       ]
      },
      {
       "output_type": "stream",
       "stream": "stdout",
       "text": [
        "\r",
        "Done 1883 frame of 2096"
       ]
      },
      {
       "output_type": "stream",
       "stream": "stdout",
       "text": [
        "\r",
        "Done 1884 frame of 2096"
       ]
      },
      {
       "output_type": "stream",
       "stream": "stdout",
       "text": [
        "\r",
        "Done 1885 frame of 2096"
       ]
      },
      {
       "output_type": "stream",
       "stream": "stdout",
       "text": [
        "\r",
        "Done 1886 frame of 2096"
       ]
      },
      {
       "output_type": "stream",
       "stream": "stdout",
       "text": [
        "\r",
        "Done 1887 frame of 2096"
       ]
      },
      {
       "output_type": "stream",
       "stream": "stdout",
       "text": [
        "\r",
        "Done 1888 frame of 2096"
       ]
      },
      {
       "output_type": "stream",
       "stream": "stdout",
       "text": [
        "\r",
        "Done 1889 frame of 2096"
       ]
      },
      {
       "output_type": "stream",
       "stream": "stdout",
       "text": [
        "\r",
        "Done 1890 frame of 2096"
       ]
      },
      {
       "output_type": "stream",
       "stream": "stdout",
       "text": [
        "\r",
        "Done 1891 frame of 2096"
       ]
      },
      {
       "output_type": "stream",
       "stream": "stdout",
       "text": [
        "\r",
        "Done 1892 frame of 2096"
       ]
      },
      {
       "output_type": "stream",
       "stream": "stdout",
       "text": [
        "\r",
        "Done 1893 frame of 2096"
       ]
      },
      {
       "output_type": "stream",
       "stream": "stdout",
       "text": [
        "\r",
        "Done 1894 frame of 2096"
       ]
      },
      {
       "output_type": "stream",
       "stream": "stdout",
       "text": [
        "\r",
        "Done 1895 frame of 2096"
       ]
      },
      {
       "output_type": "stream",
       "stream": "stdout",
       "text": [
        "\r",
        "Done 1896 frame of 2096"
       ]
      },
      {
       "output_type": "stream",
       "stream": "stdout",
       "text": [
        "\r",
        "Done 1897 frame of 2096"
       ]
      },
      {
       "output_type": "stream",
       "stream": "stdout",
       "text": [
        "\r",
        "Done 1898 frame of 2096"
       ]
      },
      {
       "output_type": "stream",
       "stream": "stdout",
       "text": [
        "\r",
        "Done 1899 frame of 2096"
       ]
      },
      {
       "output_type": "stream",
       "stream": "stdout",
       "text": [
        "\r",
        "Done 1900 frame of 2096"
       ]
      },
      {
       "output_type": "stream",
       "stream": "stdout",
       "text": [
        "\r",
        "Done 1901 frame of 2096"
       ]
      },
      {
       "output_type": "stream",
       "stream": "stdout",
       "text": [
        "\r",
        "Done 1902 frame of 2096"
       ]
      },
      {
       "output_type": "stream",
       "stream": "stdout",
       "text": [
        "\r",
        "Done 1903 frame of 2096"
       ]
      },
      {
       "output_type": "stream",
       "stream": "stdout",
       "text": [
        "\r",
        "Done 1904 frame of 2096"
       ]
      },
      {
       "output_type": "stream",
       "stream": "stdout",
       "text": [
        "\r",
        "Done 1905 frame of 2096"
       ]
      },
      {
       "output_type": "stream",
       "stream": "stdout",
       "text": [
        "\r",
        "Done 1906 frame of 2096"
       ]
      },
      {
       "output_type": "stream",
       "stream": "stdout",
       "text": [
        "\r",
        "Done 1907 frame of 2096"
       ]
      },
      {
       "output_type": "stream",
       "stream": "stdout",
       "text": [
        "\r",
        "Done 1908 frame of 2096"
       ]
      },
      {
       "output_type": "stream",
       "stream": "stdout",
       "text": [
        "\r",
        "Done 1909 frame of 2096"
       ]
      },
      {
       "output_type": "stream",
       "stream": "stdout",
       "text": [
        "\r",
        "Done 1910 frame of 2096"
       ]
      },
      {
       "output_type": "stream",
       "stream": "stdout",
       "text": [
        "\r",
        "Done 1911 frame of 2096"
       ]
      },
      {
       "output_type": "stream",
       "stream": "stdout",
       "text": [
        "\r",
        "Done 1912 frame of 2096"
       ]
      },
      {
       "output_type": "stream",
       "stream": "stdout",
       "text": [
        "\r",
        "Done 1913 frame of 2096"
       ]
      },
      {
       "output_type": "stream",
       "stream": "stdout",
       "text": [
        "\r",
        "Done 1914 frame of 2096"
       ]
      },
      {
       "output_type": "stream",
       "stream": "stdout",
       "text": [
        "\r",
        "Done 1915 frame of 2096"
       ]
      },
      {
       "output_type": "stream",
       "stream": "stdout",
       "text": [
        "\r",
        "Done 1916 frame of 2096"
       ]
      },
      {
       "output_type": "stream",
       "stream": "stdout",
       "text": [
        "\r",
        "Done 1917 frame of 2096"
       ]
      },
      {
       "output_type": "stream",
       "stream": "stdout",
       "text": [
        "\r",
        "Done 1918 frame of 2096"
       ]
      },
      {
       "output_type": "stream",
       "stream": "stdout",
       "text": [
        "\r",
        "Done 1919 frame of 2096"
       ]
      },
      {
       "output_type": "stream",
       "stream": "stdout",
       "text": [
        "\r",
        "Done 1920 frame of 2096"
       ]
      },
      {
       "output_type": "stream",
       "stream": "stdout",
       "text": [
        "\r",
        "Done 1921 frame of 2096"
       ]
      },
      {
       "output_type": "stream",
       "stream": "stdout",
       "text": [
        "\r",
        "Done 1922 frame of 2096"
       ]
      },
      {
       "output_type": "stream",
       "stream": "stdout",
       "text": [
        "\r",
        "Done 1923 frame of 2096"
       ]
      },
      {
       "output_type": "stream",
       "stream": "stdout",
       "text": [
        "\r",
        "Done 1924 frame of 2096"
       ]
      },
      {
       "output_type": "stream",
       "stream": "stdout",
       "text": [
        "\r",
        "Done 1925 frame of 2096"
       ]
      },
      {
       "output_type": "stream",
       "stream": "stdout",
       "text": [
        "\r",
        "Done 1926 frame of 2096"
       ]
      },
      {
       "output_type": "stream",
       "stream": "stdout",
       "text": [
        "\r",
        "Done 1927 frame of 2096"
       ]
      },
      {
       "output_type": "stream",
       "stream": "stdout",
       "text": [
        "\r",
        "Done 1928 frame of 2096"
       ]
      },
      {
       "output_type": "stream",
       "stream": "stdout",
       "text": [
        "\r",
        "Done 1929 frame of 2096"
       ]
      },
      {
       "output_type": "stream",
       "stream": "stdout",
       "text": [
        "\r",
        "Done 1930 frame of 2096"
       ]
      },
      {
       "output_type": "stream",
       "stream": "stdout",
       "text": [
        "\r",
        "Done 1931 frame of 2096"
       ]
      },
      {
       "output_type": "stream",
       "stream": "stdout",
       "text": [
        "\r",
        "Done 1932 frame of 2096"
       ]
      },
      {
       "output_type": "stream",
       "stream": "stdout",
       "text": [
        "\r",
        "Done 1933 frame of 2096"
       ]
      },
      {
       "output_type": "stream",
       "stream": "stdout",
       "text": [
        "\r",
        "Done 1934 frame of 2096"
       ]
      },
      {
       "output_type": "stream",
       "stream": "stdout",
       "text": [
        "\r",
        "Done 1935 frame of 2096"
       ]
      },
      {
       "output_type": "stream",
       "stream": "stdout",
       "text": [
        "\r",
        "Done 1936 frame of 2096"
       ]
      },
      {
       "output_type": "stream",
       "stream": "stdout",
       "text": [
        "\r",
        "Done 1937 frame of 2096"
       ]
      },
      {
       "output_type": "stream",
       "stream": "stdout",
       "text": [
        "\r",
        "Done 1938 frame of 2096"
       ]
      },
      {
       "output_type": "stream",
       "stream": "stdout",
       "text": [
        "\r",
        "Done 1939 frame of 2096"
       ]
      },
      {
       "output_type": "stream",
       "stream": "stdout",
       "text": [
        "\r",
        "Done 1940 frame of 2096"
       ]
      },
      {
       "output_type": "stream",
       "stream": "stdout",
       "text": [
        "\r",
        "Done 1941 frame of 2096"
       ]
      },
      {
       "output_type": "stream",
       "stream": "stdout",
       "text": [
        "\r",
        "Done 1942 frame of 2096"
       ]
      },
      {
       "output_type": "stream",
       "stream": "stdout",
       "text": [
        "\r",
        "Done 1943 frame of 2096"
       ]
      },
      {
       "output_type": "stream",
       "stream": "stdout",
       "text": [
        "\r",
        "Done 1944 frame of 2096"
       ]
      },
      {
       "output_type": "stream",
       "stream": "stdout",
       "text": [
        "\r",
        "Done 1945 frame of 2096"
       ]
      },
      {
       "output_type": "stream",
       "stream": "stdout",
       "text": [
        "\r",
        "Done 1946 frame of 2096"
       ]
      },
      {
       "output_type": "stream",
       "stream": "stdout",
       "text": [
        "\r",
        "Done 1947 frame of 2096"
       ]
      },
      {
       "output_type": "stream",
       "stream": "stdout",
       "text": [
        "\r",
        "Done 1948 frame of 2096"
       ]
      },
      {
       "output_type": "stream",
       "stream": "stdout",
       "text": [
        "\r",
        "Done 1949 frame of 2096"
       ]
      },
      {
       "output_type": "stream",
       "stream": "stdout",
       "text": [
        "\r",
        "Done 1950 frame of 2096"
       ]
      },
      {
       "output_type": "stream",
       "stream": "stdout",
       "text": [
        "\r",
        "Done 1951 frame of 2096"
       ]
      },
      {
       "output_type": "stream",
       "stream": "stdout",
       "text": [
        "\r",
        "Done 1952 frame of 2096"
       ]
      },
      {
       "output_type": "stream",
       "stream": "stdout",
       "text": [
        "\r",
        "Done 1953 frame of 2096"
       ]
      },
      {
       "output_type": "stream",
       "stream": "stdout",
       "text": [
        "\r",
        "Done 1954 frame of 2096"
       ]
      },
      {
       "output_type": "stream",
       "stream": "stdout",
       "text": [
        "\r",
        "Done 1955 frame of 2096"
       ]
      },
      {
       "output_type": "stream",
       "stream": "stdout",
       "text": [
        "\r",
        "Done 1956 frame of 2096"
       ]
      },
      {
       "output_type": "stream",
       "stream": "stdout",
       "text": [
        "\r",
        "Done 1957 frame of 2096"
       ]
      },
      {
       "output_type": "stream",
       "stream": "stdout",
       "text": [
        "\r",
        "Done 1958 frame of 2096"
       ]
      },
      {
       "output_type": "stream",
       "stream": "stdout",
       "text": [
        "\r",
        "Done 1959 frame of 2096"
       ]
      },
      {
       "output_type": "stream",
       "stream": "stdout",
       "text": [
        "\r",
        "Done 1960 frame of 2096"
       ]
      },
      {
       "output_type": "stream",
       "stream": "stdout",
       "text": [
        "\r",
        "Done 1961 frame of 2096"
       ]
      },
      {
       "output_type": "stream",
       "stream": "stdout",
       "text": [
        "\r",
        "Done 1962 frame of 2096"
       ]
      },
      {
       "output_type": "stream",
       "stream": "stdout",
       "text": [
        "\r",
        "Done 1963 frame of 2096"
       ]
      },
      {
       "output_type": "stream",
       "stream": "stdout",
       "text": [
        "\r",
        "Done 1964 frame of 2096"
       ]
      },
      {
       "output_type": "stream",
       "stream": "stdout",
       "text": [
        "\r",
        "Done 1965 frame of 2096"
       ]
      },
      {
       "output_type": "stream",
       "stream": "stdout",
       "text": [
        "\r",
        "Done 1966 frame of 2096"
       ]
      },
      {
       "output_type": "stream",
       "stream": "stdout",
       "text": [
        "\r",
        "Done 1967 frame of 2096"
       ]
      },
      {
       "output_type": "stream",
       "stream": "stdout",
       "text": [
        "\r",
        "Done 1968 frame of 2096"
       ]
      },
      {
       "output_type": "stream",
       "stream": "stdout",
       "text": [
        "\r",
        "Done 1969 frame of 2096"
       ]
      },
      {
       "output_type": "stream",
       "stream": "stdout",
       "text": [
        "\r",
        "Done 1970 frame of 2096"
       ]
      },
      {
       "output_type": "stream",
       "stream": "stdout",
       "text": [
        "\r",
        "Done 1971 frame of 2096"
       ]
      },
      {
       "output_type": "stream",
       "stream": "stdout",
       "text": [
        "\r",
        "Done 1972 frame of 2096"
       ]
      },
      {
       "output_type": "stream",
       "stream": "stdout",
       "text": [
        "\r",
        "Done 1973 frame of 2096"
       ]
      },
      {
       "output_type": "stream",
       "stream": "stdout",
       "text": [
        "\r",
        "Done 1974 frame of 2096"
       ]
      },
      {
       "output_type": "stream",
       "stream": "stdout",
       "text": [
        "\r",
        "Done 1975 frame of 2096"
       ]
      },
      {
       "output_type": "stream",
       "stream": "stdout",
       "text": [
        "\r",
        "Done 1976 frame of 2096"
       ]
      },
      {
       "output_type": "stream",
       "stream": "stdout",
       "text": [
        "\r",
        "Done 1977 frame of 2096"
       ]
      },
      {
       "output_type": "stream",
       "stream": "stdout",
       "text": [
        "\r",
        "Done 1978 frame of 2096"
       ]
      },
      {
       "output_type": "stream",
       "stream": "stdout",
       "text": [
        "\r",
        "Done 1979 frame of 2096"
       ]
      },
      {
       "output_type": "stream",
       "stream": "stdout",
       "text": [
        "\r",
        "Done 1980 frame of 2096"
       ]
      },
      {
       "output_type": "stream",
       "stream": "stdout",
       "text": [
        "\r",
        "Done 1981 frame of 2096"
       ]
      },
      {
       "output_type": "stream",
       "stream": "stdout",
       "text": [
        "\r",
        "Done 1982 frame of 2096"
       ]
      },
      {
       "output_type": "stream",
       "stream": "stdout",
       "text": [
        "\r",
        "Done 1983 frame of 2096"
       ]
      },
      {
       "output_type": "stream",
       "stream": "stdout",
       "text": [
        "\r",
        "Done 1984 frame of 2096"
       ]
      },
      {
       "output_type": "stream",
       "stream": "stdout",
       "text": [
        "\r",
        "Done 1985 frame of 2096"
       ]
      },
      {
       "output_type": "stream",
       "stream": "stdout",
       "text": [
        "\r",
        "Done 1986 frame of 2096"
       ]
      },
      {
       "output_type": "stream",
       "stream": "stdout",
       "text": [
        "\r",
        "Done 1987 frame of 2096"
       ]
      },
      {
       "output_type": "stream",
       "stream": "stdout",
       "text": [
        "\r",
        "Done 1988 frame of 2096"
       ]
      },
      {
       "output_type": "stream",
       "stream": "stdout",
       "text": [
        "\r",
        "Done 1989 frame of 2096"
       ]
      },
      {
       "output_type": "stream",
       "stream": "stdout",
       "text": [
        "\r",
        "Done 1990 frame of 2096"
       ]
      },
      {
       "output_type": "stream",
       "stream": "stdout",
       "text": [
        "\r",
        "Done 1991 frame of 2096"
       ]
      },
      {
       "output_type": "stream",
       "stream": "stdout",
       "text": [
        "\r",
        "Done 1992 frame of 2096"
       ]
      },
      {
       "output_type": "stream",
       "stream": "stdout",
       "text": [
        "\r",
        "Done 1993 frame of 2096"
       ]
      },
      {
       "output_type": "stream",
       "stream": "stdout",
       "text": [
        "\r",
        "Done 1994 frame of 2096"
       ]
      },
      {
       "output_type": "stream",
       "stream": "stdout",
       "text": [
        "\r",
        "Done 1995 frame of 2096"
       ]
      },
      {
       "output_type": "stream",
       "stream": "stdout",
       "text": [
        "\r",
        "Done 1996 frame of 2096"
       ]
      },
      {
       "output_type": "stream",
       "stream": "stdout",
       "text": [
        "\r",
        "Done 1997 frame of 2096"
       ]
      },
      {
       "output_type": "stream",
       "stream": "stdout",
       "text": [
        "\r",
        "Done 1998 frame of 2096"
       ]
      },
      {
       "output_type": "stream",
       "stream": "stdout",
       "text": [
        "\r",
        "Done 1999 frame of 2096"
       ]
      },
      {
       "output_type": "stream",
       "stream": "stdout",
       "text": [
        "\r",
        "Done 2000 frame of 2096"
       ]
      },
      {
       "output_type": "stream",
       "stream": "stdout",
       "text": [
        "\r",
        "Done 2001 frame of 2096"
       ]
      },
      {
       "output_type": "stream",
       "stream": "stdout",
       "text": [
        "\r",
        "Done 2002 frame of 2096"
       ]
      },
      {
       "output_type": "stream",
       "stream": "stdout",
       "text": [
        "\r",
        "Done 2003 frame of 2096"
       ]
      },
      {
       "output_type": "stream",
       "stream": "stdout",
       "text": [
        "\r",
        "Done 2004 frame of 2096"
       ]
      },
      {
       "output_type": "stream",
       "stream": "stdout",
       "text": [
        "\r",
        "Done 2005 frame of 2096"
       ]
      },
      {
       "output_type": "stream",
       "stream": "stdout",
       "text": [
        "\r",
        "Done 2006 frame of 2096"
       ]
      },
      {
       "output_type": "stream",
       "stream": "stdout",
       "text": [
        "\r",
        "Done 2007 frame of 2096"
       ]
      },
      {
       "output_type": "stream",
       "stream": "stdout",
       "text": [
        "\r",
        "Done 2008 frame of 2096"
       ]
      },
      {
       "output_type": "stream",
       "stream": "stdout",
       "text": [
        "\r",
        "Done 2009 frame of 2096"
       ]
      },
      {
       "output_type": "stream",
       "stream": "stdout",
       "text": [
        "\r",
        "Done 2010 frame of 2096"
       ]
      },
      {
       "output_type": "stream",
       "stream": "stdout",
       "text": [
        "\r",
        "Done 2011 frame of 2096"
       ]
      },
      {
       "output_type": "stream",
       "stream": "stdout",
       "text": [
        "\r",
        "Done 2012 frame of 2096"
       ]
      },
      {
       "output_type": "stream",
       "stream": "stdout",
       "text": [
        "\r",
        "Done 2013 frame of 2096"
       ]
      },
      {
       "output_type": "stream",
       "stream": "stdout",
       "text": [
        "\r",
        "Done 2014 frame of 2096"
       ]
      },
      {
       "output_type": "stream",
       "stream": "stdout",
       "text": [
        "\r",
        "Done 2015 frame of 2096"
       ]
      },
      {
       "output_type": "stream",
       "stream": "stdout",
       "text": [
        "\r",
        "Done 2016 frame of 2096"
       ]
      },
      {
       "output_type": "stream",
       "stream": "stdout",
       "text": [
        "\r",
        "Done 2017 frame of 2096"
       ]
      },
      {
       "output_type": "stream",
       "stream": "stdout",
       "text": [
        "\r",
        "Done 2018 frame of 2096"
       ]
      },
      {
       "output_type": "stream",
       "stream": "stdout",
       "text": [
        "\r",
        "Done 2019 frame of 2096"
       ]
      },
      {
       "output_type": "stream",
       "stream": "stdout",
       "text": [
        "\r",
        "Done 2020 frame of 2096"
       ]
      },
      {
       "output_type": "stream",
       "stream": "stdout",
       "text": [
        "\r",
        "Done 2021 frame of 2096"
       ]
      },
      {
       "output_type": "stream",
       "stream": "stdout",
       "text": [
        "\r",
        "Done 2022 frame of 2096"
       ]
      },
      {
       "output_type": "stream",
       "stream": "stdout",
       "text": [
        "\r",
        "Done 2023 frame of 2096"
       ]
      },
      {
       "output_type": "stream",
       "stream": "stdout",
       "text": [
        "\r",
        "Done 2024 frame of 2096"
       ]
      },
      {
       "output_type": "stream",
       "stream": "stdout",
       "text": [
        "\r",
        "Done 2025 frame of 2096"
       ]
      },
      {
       "output_type": "stream",
       "stream": "stdout",
       "text": [
        "\r",
        "Done 2026 frame of 2096"
       ]
      },
      {
       "output_type": "stream",
       "stream": "stdout",
       "text": [
        "\r",
        "Done 2027 frame of 2096"
       ]
      },
      {
       "output_type": "stream",
       "stream": "stdout",
       "text": [
        "\r",
        "Done 2028 frame of 2096"
       ]
      },
      {
       "output_type": "stream",
       "stream": "stdout",
       "text": [
        "\r",
        "Done 2029 frame of 2096"
       ]
      },
      {
       "output_type": "stream",
       "stream": "stdout",
       "text": [
        "\r",
        "Done 2030 frame of 2096"
       ]
      },
      {
       "output_type": "stream",
       "stream": "stdout",
       "text": [
        "\r",
        "Done 2031 frame of 2096"
       ]
      },
      {
       "output_type": "stream",
       "stream": "stdout",
       "text": [
        "\r",
        "Done 2032 frame of 2096"
       ]
      },
      {
       "output_type": "stream",
       "stream": "stdout",
       "text": [
        "\r",
        "Done 2033 frame of 2096"
       ]
      },
      {
       "output_type": "stream",
       "stream": "stdout",
       "text": [
        "\r",
        "Done 2034 frame of 2096"
       ]
      },
      {
       "output_type": "stream",
       "stream": "stdout",
       "text": [
        "\r",
        "Done 2035 frame of 2096"
       ]
      },
      {
       "output_type": "stream",
       "stream": "stdout",
       "text": [
        "\r",
        "Done 2036 frame of 2096"
       ]
      },
      {
       "output_type": "stream",
       "stream": "stdout",
       "text": [
        "\r",
        "Done 2037 frame of 2096"
       ]
      },
      {
       "output_type": "stream",
       "stream": "stdout",
       "text": [
        "\r",
        "Done 2038 frame of 2096"
       ]
      },
      {
       "output_type": "stream",
       "stream": "stdout",
       "text": [
        "\r",
        "Done 2039 frame of 2096"
       ]
      },
      {
       "output_type": "stream",
       "stream": "stdout",
       "text": [
        "\r",
        "Done 2040 frame of 2096"
       ]
      },
      {
       "output_type": "stream",
       "stream": "stdout",
       "text": [
        "\r",
        "Done 2041 frame of 2096"
       ]
      },
      {
       "output_type": "stream",
       "stream": "stdout",
       "text": [
        "\r",
        "Done 2042 frame of 2096"
       ]
      },
      {
       "output_type": "stream",
       "stream": "stdout",
       "text": [
        "\r",
        "Done 2043 frame of 2096"
       ]
      },
      {
       "output_type": "stream",
       "stream": "stdout",
       "text": [
        "\r",
        "Done 2044 frame of 2096"
       ]
      },
      {
       "output_type": "stream",
       "stream": "stdout",
       "text": [
        "\r",
        "Done 2045 frame of 2096"
       ]
      },
      {
       "output_type": "stream",
       "stream": "stdout",
       "text": [
        "\r",
        "Done 2046 frame of 2096"
       ]
      },
      {
       "output_type": "stream",
       "stream": "stdout",
       "text": [
        "\r",
        "Done 2047 frame of 2096"
       ]
      },
      {
       "output_type": "stream",
       "stream": "stdout",
       "text": [
        "\r",
        "Done 2048 frame of 2096"
       ]
      },
      {
       "output_type": "stream",
       "stream": "stdout",
       "text": [
        "\r",
        "Done 2049 frame of 2096"
       ]
      },
      {
       "output_type": "stream",
       "stream": "stdout",
       "text": [
        "\r",
        "Done 2050 frame of 2096"
       ]
      },
      {
       "output_type": "stream",
       "stream": "stdout",
       "text": [
        "\r",
        "Done 2051 frame of 2096"
       ]
      },
      {
       "output_type": "stream",
       "stream": "stdout",
       "text": [
        "\r",
        "Done 2052 frame of 2096"
       ]
      },
      {
       "output_type": "stream",
       "stream": "stdout",
       "text": [
        "\r",
        "Done 2053 frame of 2096"
       ]
      },
      {
       "output_type": "stream",
       "stream": "stdout",
       "text": [
        "\r",
        "Done 2054 frame of 2096"
       ]
      },
      {
       "output_type": "stream",
       "stream": "stdout",
       "text": [
        "\r",
        "Done 2055 frame of 2096"
       ]
      },
      {
       "output_type": "stream",
       "stream": "stdout",
       "text": [
        "\r",
        "Done 2056 frame of 2096"
       ]
      },
      {
       "output_type": "stream",
       "stream": "stdout",
       "text": [
        "\r",
        "Done 2057 frame of 2096"
       ]
      },
      {
       "output_type": "stream",
       "stream": "stdout",
       "text": [
        "\r",
        "Done 2058 frame of 2096"
       ]
      },
      {
       "output_type": "stream",
       "stream": "stdout",
       "text": [
        "\r",
        "Done 2059 frame of 2096"
       ]
      },
      {
       "output_type": "stream",
       "stream": "stdout",
       "text": [
        "\r",
        "Done 2060 frame of 2096"
       ]
      },
      {
       "output_type": "stream",
       "stream": "stdout",
       "text": [
        "\r",
        "Done 2061 frame of 2096"
       ]
      },
      {
       "output_type": "stream",
       "stream": "stdout",
       "text": [
        "\r",
        "Done 2062 frame of 2096"
       ]
      },
      {
       "output_type": "stream",
       "stream": "stdout",
       "text": [
        "\r",
        "Done 2063 frame of 2096"
       ]
      },
      {
       "output_type": "stream",
       "stream": "stdout",
       "text": [
        "\r",
        "Done 2064 frame of 2096"
       ]
      },
      {
       "output_type": "stream",
       "stream": "stdout",
       "text": [
        "\r",
        "Done 2065 frame of 2096"
       ]
      },
      {
       "output_type": "stream",
       "stream": "stdout",
       "text": [
        "\r",
        "Done 2066 frame of 2096"
       ]
      },
      {
       "output_type": "stream",
       "stream": "stdout",
       "text": [
        "\r",
        "Done 2067 frame of 2096"
       ]
      },
      {
       "output_type": "stream",
       "stream": "stdout",
       "text": [
        "\r",
        "Done 2068 frame of 2096"
       ]
      },
      {
       "output_type": "stream",
       "stream": "stdout",
       "text": [
        "\r",
        "Done 2069 frame of 2096"
       ]
      },
      {
       "output_type": "stream",
       "stream": "stdout",
       "text": [
        "\r",
        "Done 2070 frame of 2096"
       ]
      },
      {
       "output_type": "stream",
       "stream": "stdout",
       "text": [
        "\r",
        "Done 2071 frame of 2096"
       ]
      },
      {
       "output_type": "stream",
       "stream": "stdout",
       "text": [
        "\r",
        "Done 2072 frame of 2096"
       ]
      },
      {
       "output_type": "stream",
       "stream": "stdout",
       "text": [
        "\r",
        "Done 2073 frame of 2096"
       ]
      },
      {
       "output_type": "stream",
       "stream": "stdout",
       "text": [
        "\r",
        "Done 2074 frame of 2096"
       ]
      },
      {
       "output_type": "stream",
       "stream": "stdout",
       "text": [
        "\r",
        "Done 2075 frame of 2096"
       ]
      },
      {
       "output_type": "stream",
       "stream": "stdout",
       "text": [
        "\r",
        "Done 2076 frame of 2096"
       ]
      },
      {
       "output_type": "stream",
       "stream": "stdout",
       "text": [
        "\r",
        "Done 2077 frame of 2096"
       ]
      },
      {
       "output_type": "stream",
       "stream": "stdout",
       "text": [
        "\r",
        "Done 2078 frame of 2096"
       ]
      },
      {
       "output_type": "stream",
       "stream": "stdout",
       "text": [
        "\r",
        "Done 2079 frame of 2096"
       ]
      },
      {
       "output_type": "stream",
       "stream": "stdout",
       "text": [
        "\r",
        "Done 2080 frame of 2096"
       ]
      },
      {
       "output_type": "stream",
       "stream": "stdout",
       "text": [
        "\r",
        "Done 2081 frame of 2096"
       ]
      },
      {
       "output_type": "stream",
       "stream": "stdout",
       "text": [
        "\r",
        "Done 2082 frame of 2096"
       ]
      },
      {
       "output_type": "stream",
       "stream": "stdout",
       "text": [
        "\r",
        "Done 2083 frame of 2096"
       ]
      },
      {
       "output_type": "stream",
       "stream": "stdout",
       "text": [
        "\r",
        "Done 2084 frame of 2096"
       ]
      },
      {
       "output_type": "stream",
       "stream": "stdout",
       "text": [
        "\r",
        "Done 2085 frame of 2096"
       ]
      },
      {
       "output_type": "stream",
       "stream": "stdout",
       "text": [
        "\r",
        "Done 2086 frame of 2096"
       ]
      },
      {
       "output_type": "stream",
       "stream": "stdout",
       "text": [
        "\r",
        "Done 2087 frame of 2096"
       ]
      },
      {
       "output_type": "stream",
       "stream": "stdout",
       "text": [
        "\r",
        "Done 2088 frame of 2096"
       ]
      },
      {
       "output_type": "stream",
       "stream": "stdout",
       "text": [
        "\r",
        "Done 2089 frame of 2096"
       ]
      },
      {
       "output_type": "stream",
       "stream": "stdout",
       "text": [
        "\r",
        "Done 2090 frame of 2096"
       ]
      },
      {
       "output_type": "stream",
       "stream": "stdout",
       "text": [
        "\r",
        "Done 2091 frame of 2096"
       ]
      },
      {
       "output_type": "stream",
       "stream": "stdout",
       "text": [
        "\r",
        "Done 2092 frame of 2096"
       ]
      },
      {
       "output_type": "stream",
       "stream": "stdout",
       "text": [
        "\r",
        "Done 2093 frame of 2096"
       ]
      },
      {
       "output_type": "stream",
       "stream": "stdout",
       "text": [
        "\r",
        "Done 2094 frame of 2096"
       ]
      },
      {
       "output_type": "stream",
       "stream": "stdout",
       "text": [
        "\r",
        "Done 2095 frame of 2096"
       ]
      }
     ],
     "prompt_number": 80
    },
    {
     "cell_type": "code",
     "collapsed": false,
     "input": [
      "figure(); imshow(spriteImg[:, :, :-1])"
     ],
     "language": "python",
     "metadata": {},
     "outputs": [
      {
       "metadata": {},
       "output_type": "pyout",
       "prompt_number": 74,
       "text": [
        "<matplotlib.image.AxesImage at 0x7f5517f1ca50>"
       ]
      }
     ],
     "prompt_number": 74
    },
    {
     "cell_type": "code",
     "collapsed": false,
     "input": [
      "figure(); imshow(np.array(reconstructedImg, dtype=np.uint8))"
     ],
     "language": "python",
     "metadata": {},
     "outputs": [
      {
       "metadata": {},
       "output_type": "pyout",
       "prompt_number": 61,
       "text": [
        "<matplotlib.image.AxesImage at 0x7f551d9f0710>"
       ]
      }
     ],
     "prompt_number": 61
    },
    {
     "cell_type": "code",
     "collapsed": false,
     "input": [
      "print len(currentSpriteImages)\n",
      "print len(preloadedSpritePatches)"
     ],
     "language": "python",
     "metadata": {},
     "outputs": [
      {
       "output_type": "stream",
       "stream": "stdout",
       "text": [
        "80\n",
        "3\n"
       ]
      }
     ],
     "prompt_number": 337
    },
    {
     "cell_type": "code",
     "collapsed": false,
     "input": [
      "generatedSequence = np.copy(window.generatedSequence)"
     ],
     "language": "python",
     "metadata": {},
     "outputs": [],
     "prompt_number": 50
    },
    {
     "cell_type": "code",
     "collapsed": false,
     "input": [
      "def buildDynProgMRF(semanticLabels, desiredSemantics, startFrame, sequenceLength) :\n",
      "    \"\"\"Builds the MRF formulation for a given sprite\n",
      "    \n",
      "        \\t  semanticLabels   : the semantic labels assigned to the frames in the sprite sequence\n",
      "        \\t  desiredSemantics : the desired label combination\n",
      "        \\t  startFrame       : starting frame for given sprite (used to constrain which frame to start from)\n",
      "        \\t  sequenceLength   : length of sequence to produce (i.e. number of variables to assign a label k \\belongs [0, N] where N is number of frames for sprite)\n",
      "           \n",
      "        return: unaries  = unary costs for each node in the graph\n",
      "                pairwise = pairwise costs for each edge in the graph\"\"\"\n",
      "    \n",
      "    maxCost = 10000000.0\n",
      "    ## k = num of semantic labels as there should be semantics attached to each frame\n",
      "    k = len(semanticLabels)\n",
      "    \n",
      "    ## unaries are dictated by semantic labels and by startFrame\n",
      "    \n",
      "    # start with uniform distribution for likelihood\n",
      "    likelihood = np.ones((k, sequenceLength))/(k*sequenceLength)\n",
      "    \n",
      "#     # set probability of start frame to 1 and renormalize\n",
      "#     if startFrame >= 0 and startFrame < k :\n",
      "#         likelihood[startFrame, 0] = 1.0\n",
      "#         likelihood /= np.sum(likelihood)\n",
      "    \n",
      "    # get the costs associated to agreement of the assigned labels to the desired semantics\n",
      "    # the variance should maybe depend on k so that when there are more frames in a sprite, the variance is higher so that even if I have to follow the timeline for a long time\n",
      "    # the cost deriveing from the unary cost does not become bigger than the single pairwise cost to break to go straight to the desired semantic label\n",
      "    # but for now the sprite sequences are not that long and I'm not expecting them to be many orders of magnitude longer \n",
      "    # (variance would have to be 5 or 6 orders of magnitude smaller to make breaking the timeline cheaper than following it)\n",
      "    distVariance = 0.001#0.001\n",
      "    numSemantics = semanticLabels.shape[-1]\n",
      "    semanticsCosts = vectorisedMinusLogMultiNormal(semanticLabels, np.array(desiredSemantics).reshape((1, numSemantics)), np.eye(numSemantics)*distVariance, True)\n",
      "    \n",
      "    # set unaries to minus log of the likelihood + minus log of the semantic labels' distance to the \n",
      "    unaries = -np.log(likelihood) + semanticsCosts.reshape((k, 1)).repeat(sequenceLength, axis=-1)\n",
      "#     unaries = semanticsCosts.reshape((k, 1)).repeat(sequenceLength, axis=-1)\n",
      "    \n",
      "# #     # set cost of start frame to 0 NOTE: not sure if I should use this or the above with the renormalization\n",
      "#     if startFrame >= 0 and startFrame < k :\n",
      "#         unaries[startFrame, 0] = 0.0\n",
      "    if startFrame >= 0 and startFrame < k :\n",
      "        unaries[:, 0] = maxCost\n",
      "        unaries[startFrame, 0] = 0.0\n",
      "    \n",
      "    ## pairwise are dictated by time constraint and looping ability (i.e. jump probability)\n",
      "    \n",
      "    # first dimension is k_n, second represents k_n-1 and last dimension represents all the edges going from graph column w_n-1 to w_n\n",
      "    pairwise = np.zeros([k, k, sequenceLength-1])\n",
      "    \n",
      "    # to enforce timeline give low cost to edge between w_n-1(k = i) and w_n(k = i+1) which can be achieved using\n",
      "    # an identity matrix with diagonal shifted down by one because only edges from column i-1 and k = j to column i and k=j+1 are viable\n",
      "    timeConstraint = np.eye(k, k=-1)\n",
      "    # also allow the sprite to keep looping on label 0 (i.e. show only sprite frame 0 which is the empty frame) so make edge from w_n-1(k=0) to w_n(k=0) viable\n",
      "    timeConstraint[0, 0] = 1.0\n",
      "    # also allow the sprite to keep looping from the last frame if necessary so allow to go \n",
      "    # from last column (i.e. edge starts from w_n-1(k=last frame)) to second row because first row represents empty frame (i.e. edge goes to w_n(k=1))\n",
      "    timeConstraint[1, k-1] = 1.0\n",
      "    # also allow the sprite to go back to the first frame (i.e. empty frame) so allow a low cost edge \n",
      "    # from last column (i.e. edge starts from w_n-1(k=last frame)) to first row (i.e. edge goes to w_n(k=0))\n",
      "    timeConstraint[0, k-1] = 1.0\n",
      "    \n",
      "    ## NOTE: don't do all the normal distribution wanking for now: just put very high cost to non viable edges but I'll need something more clever when I try to actually loop a video texture\n",
      "    ## I would also have to set the time constraint edges' costs to something different from 0 to allow for quicker paths (but more expensive individually) to be chosen when\n",
      "    ## the semantic label changes\n",
      "#     timeConstraint /= np.sum(timeConstraint) ## if I normalize here then I need to set mean of gaussian below to what the new max is\n",
      "#     timeConstraint = vectorisedMinusLogMultiNormal(timeConstraint.reshape((k*k, 1)), np.array([np.max(timeConstraint)]).reshape((1, 1)), np.array([distVariance]).reshape((1, 1)), True)\n",
      "    timeConstraint = (1.0 - timeConstraint)*maxCost\n",
      "    \n",
      "    pairwise = timeConstraint.reshape((k, k, 1)).repeat(sequenceLength-1, axis=-1)\n",
      "    \n",
      "    return unaries, pairwise"
     ],
     "language": "python",
     "metadata": {},
     "outputs": [],
     "prompt_number": 22
    },
    {
     "cell_type": "code",
     "collapsed": false,
     "input": [
      "def solveDynProgMRF(unaryCosts, pairwiseCosts) :\n",
      "    ## use the unary and pairwise costs to compute the min cost paths at each node\n",
      "    # each column represents point n and each row says the index of the k-state that is chosen for the min cost path\n",
      "    minCostPaths = np.zeros([unaryCosts.shape[0], unaryCosts.shape[1]], dtype=int)\n",
      "    # contains the min cost to reach a certain state k (i.e. row) for point n (i.e. column)\n",
      "    minCosts = np.zeros([unaryCosts.shape[0], unaryCosts.shape[1]])\n",
      "    # the first row of minCosts is just the unary cost\n",
      "    minCosts[:, 0] = unaryCosts[:, 0]\n",
      "    minCostPaths[:, 0] = np.arange(0, unaryCosts.shape[0])\n",
      "    tmp = 0\n",
      "    \n",
      "    k = unaryCosts.shape[0]\n",
      "    for n in xrange(1, unaryCosts.shape[1]) :\n",
      "#         tic = time.time()\n",
      "        costs = minCosts[:, n-1].reshape((k, 1)).repeat(k, axis=-1) + unaryCosts[:, n].reshape((1, k)).repeat(k, axis=0) + pairwiseCosts.T\n",
      "#         minCostPaths[:, n] = np.ndarray.flatten(np.argmin(costs, axis=0))\n",
      "#         minCosts[:, n] = np.min(costs, axis=0)\n",
      "        minCostPaths[:, n] = np.ndarray.flatten(np.argmin(costs, axis=0))\n",
      "        minCosts[:, n] = costs[minCostPaths[:, n], np.arange(len(costs))]\n",
      "#         print time.time() -tic\n",
      "    \n",
      "#     if saveCosts :\n",
      "#         costsMat = {}\n",
      "#         costsMat['minCosts'] = minCosts\n",
      "#         costsMat['minCostPaths'] = minCostPaths\n",
      "#         sp.io.savemat(\"minCosts.mat\", costsMat)\n",
      "    \n",
      "    ## now find the min cost path starting from the right most n with lowest cost\n",
      "    minCostTraversal = np.zeros(unaryCosts.shape[1])\n",
      "    ## last node is the node where the right most node with lowest cost\n",
      "    minCostTraversal[-1] = np.argmin(minCosts[:, -1]) #minCostPaths[np.argmin(minCosts[:, -1]), -1]\n",
      "    if np.min(minCosts[:, -1]) == np.inf :\n",
      "        minCostTraversal[-1] = np.floor((unaryCosts.shape[0])/2)\n",
      "    \n",
      "    for i in xrange(len(minCostTraversal)-2, -1, -1) :\n",
      "#         print i\n",
      "        minCostTraversal[i] = minCostPaths[minCostTraversal[i+1], i+1]\n",
      "#     print minCostTraversal\n",
      "    \n",
      "#     if isLooping :\n",
      "#         minCostTraversal[0] = minCostTraversal[-1]\n",
      "        \n",
      "#     print np.min(minCosts[:, -1])\n",
      "#     print minCostTraversal\n",
      "    \n",
      "#     return minCosts, minCostPaths, minCostTraversal, tmp\n",
      "    return minCostTraversal, np.min(minCosts[:, -1]), minCosts, minCostPaths"
     ],
     "language": "python",
     "metadata": {},
     "outputs": [],
     "prompt_number": 346
    },
    {
     "cell_type": "code",
     "collapsed": false,
     "input": [
      "tic = time.time()\n",
      "minCostTraversal, minCost, minCosts, minCostPaths = solveDynProgMRF(unaries.T, pairwise.T)\n",
      "print \"solved in\", time.time() - tic; sys.stdout.flush()"
     ],
     "language": "python",
     "metadata": {},
     "outputs": [
      {
       "output_type": "stream",
       "stream": "stdout",
       "text": [
        "solved in 1.21344399452\n"
       ]
      }
     ],
     "prompt_number": 347
    },
    {
     "cell_type": "code",
     "collapsed": false,
     "input": [
      "gwv.showCustomGraph(pairwise)"
     ],
     "language": "python",
     "metadata": {},
     "outputs": [],
     "prompt_number": 409
    },
    {
     "cell_type": "code",
     "collapsed": false,
     "input": [
      "### this is done using the sparse indexing\n",
      "def solveSparseDynProgMRF(unaryCosts, pairwiseCosts) :\n",
      "    ## assumes unaryCosts has 1 row for each label and 1 col for each variable\n",
      "    ## assumes arrow heads are rows and arrow tails are cols in pairwiseCosts\n",
      "    \n",
      "    ## use the unary and pairwise costs to compute the min cost paths at each node\n",
      "    # each column represents point n and each row says the index of the k-state that is chosen for the min cost path\n",
      "    minCostPaths = np.zeros([unaryCosts.shape[0], unaryCosts.shape[1]], dtype=int)\n",
      "    # contains the min cost to reach a certain state k (i.e. row) for point n (i.e. column)\n",
      "    minCosts = np.zeros([unaryCosts.shape[0], unaryCosts.shape[1]])\n",
      "    # the first row of minCosts is just the unary cost\n",
      "    minCosts[:, 0] = unaryCosts[:, 0]\n",
      "    minCostPaths[:, 0] = np.arange(0, unaryCosts.shape[0])\n",
      "    tmp = 0\n",
      "    \n",
      "    sparseIndices = np.where(pairwiseCosts.T != np.max(pairwiseCosts))\n",
      "    tailIndices = sparseIndices[0]\n",
      "    headIndices = sparseIndices[1]\n",
      "    ## this contains which label of variable n-1 is connected to which label of variable n\n",
      "    indicesInLabelSpace = [list(tailIndices[np.where(headIndices == i)[0]]) for i in np.unique(headIndices)]\n",
      "    ## this contains index of edge each label of variable n is connected to\n",
      "    indicesInEdgeSpace = [list(np.where(headIndices == i)[0]) for i in np.unique(headIndices)]\n",
      "    \n",
      "    k = unaryCosts.shape[0]\n",
      "    for n in xrange(1, unaryCosts.shape[1]) :\n",
      "#         costs = minCosts[:, n-1].reshape((k, 1)).repeat(k, axis=-1) + unaryCosts[:, n].reshape((1, k)).repeat(k, axis=0) + pairwiseCosts.T\n",
      "#         minCosts[:, n] = np.min(costs, axis=0)\n",
      "#         minCostPaths[:, n] = np.ndarray.flatten(np.argmin(costs, axis=0))\n",
      "        prevCosts = minCosts[tailIndices, n-1]\n",
      "        currentUnaries = unaryCosts[headIndices, n]\n",
      "        totalCurrentCosts = prevCosts + pairwiseCosts[headIndices, tailIndices] + currentUnaries\n",
      "        \n",
      "        minCostPaths[:, n] = [x[np.argmin(totalCurrentCosts[x])] for x in indicesInLabelSpace]\n",
      "        ## min cost path\n",
      "#         print minCostIdx\n",
      "        minCosts[:, n] = totalCurrentCosts[[x[np.argmin(totalCurrentCosts[x])] for x in indicesInEdgeSpace]] ##totalCurrentCosts[minCostPaths[:, n]]\n",
      "    \n",
      "#     if saveCosts :\n",
      "#         costsMat = {}\n",
      "#         costsMat['minCosts'] = minCosts\n",
      "#         costsMat['minCostPaths'] = minCostPaths\n",
      "#         sp.io.savemat(\"minCosts.mat\", costsMat)\n",
      "    \n",
      "    ## now find the min cost path starting from the right most n with lowest cost\n",
      "    minCostTraversal = np.zeros(unaryCosts.shape[1])\n",
      "    ## last node is the node where the right most node with lowest cost\n",
      "    minCostTraversal[-1] = np.argmin(minCosts[:, -1]) #minCostPaths[np.argmin(minCosts[:, -1]), -1]\n",
      "    if np.min(minCosts[:, -1]) == np.inf :\n",
      "        minCostTraversal[-1] = np.floor((unaryCosts.shape[0])/2)\n",
      "    \n",
      "    for i in xrange(len(minCostTraversal)-2, -1, -1) :\n",
      "#         print i\n",
      "        minCostTraversal[i] = minCostPaths[minCostTraversal[i+1], i+1]\n",
      "#     print minCostTraversal\n",
      "    \n",
      "#     if isLooping :\n",
      "#         minCostTraversal[0] = minCostTraversal[-1]\n",
      "        \n",
      "#     print np.min(minCosts[:, -1])\n",
      "#     print minCostTraversal\n",
      "    \n",
      "#     return minCosts, minCostPaths, minCostTraversal, tmp\n",
      "    return minCostTraversal, np.min(minCosts[:, -1]), minCosts, minCostPaths"
     ],
     "language": "python",
     "metadata": {},
     "outputs": [],
     "prompt_number": 523
    },
    {
     "cell_type": "code",
     "collapsed": false,
     "input": [
      "## now try and do the optimization completely vectorized\n",
      "## number of edges connected to each label node of variable n (pairwise stores node at arrow tail as cols and at arrow head as rows)\n",
      "maxEdgesPerLabel = np.max(np.sum(np.array(pairwiseCosts != np.max(pairwiseCosts), dtype=int), axis=-1))\n",
      "## initialize this to index of connected label node with highest edge cost (which is then used as padding)\n",
      "## it contains for each label node of variable n (indexed by rows), all the label nodes of variable n-1 it is connected to by non infinite cost edge (indexed by cols)\n",
      "nodesConnectedToLabel = np.argmax(pairwiseCosts, axis=-1).reshape((len(pairwiseCosts), 1)).repeat(maxEdgesPerLabel, axis=-1)\n",
      "\n",
      "sparseIndices = np.where(pairwiseCosts.T != np.max(pairwiseCosts.T))\n",
      "# print sparseIndices\n",
      "tailIndices = sparseIndices[0]\n",
      "headIndices = sparseIndices[1]\n",
      "\n",
      "## this contains which label of variable n-1 is connected to which label of variable n\n",
      "indicesInLabelSpace = [list(tailIndices[np.where(headIndices == i)[0]]) for i in np.unique(headIndices)]\n",
      "\n",
      "for headLabel, tailLabels in zip(arange(0, len(nodesConnectedToLabel)), indicesInLabelSpace) :\n",
      "    nodesConnectedToLabel[headLabel, 0:len(tailLabels)] = tailLabels\n",
      "    \n",
      "tic = time.time()\n",
      "minCostTraversalSparse, minCostSparse = solveSparseDynProgMRF(unaries.T, pairwise.T, nodesConnectedToLabel)\n",
      "print \"solved in\", time.time() - tic; sys.stdout.flush()\n",
      "print minCostTraversalSparse\n",
      "print minCostTraversal-minCostTraversalSparse\n",
      "print minCost-minCostSparse\n",
      "print minCosts-minCostsSparse\n",
      "print minCostPaths-minCostPathsSparse"
     ],
     "language": "python",
     "metadata": {},
     "outputs": [
      {
       "output_type": "stream",
       "stream": "stdout",
       "text": [
        "solved in 0.0437300205231\n"
       ]
      },
      {
       "output_type": "stream",
       "stream": "stdout",
       "text": [
        "[  0   0   1   2   3   4   5   6   7   8   9  10  11  12  13  14  15  16\n",
        "  17  18  19  20  21  22  23  24  25  26  27  28  29  30  31  32  33  34\n",
        "  35  36  37  38  39  40  41  42  43  44  45  46  47  48  49  50  51  52\n",
        "  53  54  55  56  57  58  59  60  61  62  63  64  65  66  67  68  69  70\n",
        "  71  72  73  74  75  76  77  78  79  80  81  82  83  84  85  86  87  88\n",
        "  89  90  91  92  93  94  95  96  97  98  99 100 101 102 103 104 105 106\n",
        " 107 108 109 110 111 112 113 114 115 116 117 118 119 120 121 122 123 124\n",
        " 125 126 127 128 129 130 131 132 133 134 135 136 137 138 139 140 141 142\n",
        " 143 144 145 146 147 148 149 150 151 152 153 154 155 156 157 158 159 160\n",
        " 161 162 163 164 165 166 167 168 169 170 171 172 173 174 175 176 177 178\n",
        " 179 180 181 182 183 184 185 186 187 188 189 190 191 192 193 194 195 196\n",
        " 197 198 199 200 201 202 203 204 205 206 207 208 209 210 211 212 213 214\n",
        " 215 216 217 218 219 220 221 222 223 224 225 226 227 228 229 230 231 232\n",
        " 233 234 235 236 237 238 239 240 241 242 243 244 245 246 247 248 249 250\n",
        " 251 252 253 254 255 256 257 258 259 260 261 262 263 264 265 266 267 268\n",
        " 269 270 271 272 273 274 275 276 277 278 279 280 281 282 283 284 285 286\n",
        " 287 288 289 290 291 292 293 294 295 296 297 298]\n",
        "[ 0.  0.  0.  0.  0.  0.  0.  0.  0.  0.  0.  0.  0.  0.  0.  0.  0.  0.\n",
        "  0.  0.  0.  0.  0.  0.  0.  0.  0.  0.  0.  0.  0.  0.  0.  0.  0.  0.\n",
        "  0.  0.  0.  0.  0.  0.  0.  0.  0.  0.  0.  0.  0.  0.  0.  0.  0.  0.\n",
        "  0.  0.  0.  0.  0.  0.  0.  0.  0.  0.  0.  0.  0.  0.  0.  0.  0.  0.\n",
        "  0.  0.  0.  0.  0.  0.  0.  0.  0.  0.  0.  0.  0.  0.  0.  0.  0.  0.\n",
        "  0.  0.  0.  0.  0.  0.  0.  0.  0.  0.  0.  0.  0.  0.  0.  0.  0.  0.\n",
        "  0.  0.  0.  0.  0.  0.  0.  0.  0.  0.  0.  0.  0.  0.  0.  0.  0.  0.\n",
        "  0.  0.  0.  0.  0.  0.  0.  0.  0.  0.  0.  0.  0.  0.  0.  0.  0.  0.\n",
        "  0.  0.  0.  0.  0.  0.  0.  0.  0.  0.  0.  0.  0.  0.  0.  0.  0.  0.\n",
        "  0.  0.  0.  0.  0.  0.  0.  0.  0.  0.  0.  0.  0.  0.  0.  0.  0.  0.\n",
        "  0.  0.  0.  0.  0.  0.  0.  0.  0.  0.  0.  0.  0.  0.  0.  0.  0.  0.\n",
        "  0.  0.  0.  0.  0.  0.  0.  0.  0.  0.  0.  0.  0.  0.  0.  0.  0.  0.\n",
        "  0.  0.  0.  0.  0.  0.  0.  0.  0.  0.  0.  0.  0.  0.  0.  0.  0.  0.\n",
        "  0.  0.  0.  0.  0.  0.  0.  0.  0.  0.  0.  0.  0.  0.  0.  0.  0.  0.\n",
        "  0.  0.  0.  0.  0.  0.  0.  0.  0.  0.  0.  0.  0.  0.  0.  0.  0.  0.\n",
        "  0.  0.  0.  0.  0.  0.  0.  0.  0.  0.  0.  0.  0.  0.  0.  0.  0.  0.\n",
        "  0.  0.  0.  0.  0.  0.  0.  0.  0.  0.  0.  0.]\n",
        "0.0\n",
        "[[ 0.  0.  0. ...,  0.  0.  0.]\n",
        " [ 0.  0.  0. ...,  0.  0.  0.]\n",
        " [ 0.  0.  0. ...,  0.  0.  0.]\n",
        " ..., \n",
        " [ 0.  0.  0. ...,  0.  0.  0.]\n",
        " [ 0.  0.  0. ...,  0.  0.  0.]\n",
        " [ 0.  0.  0. ...,  0.  0.  0.]]\n",
        "[[   0    0    0 ...,    0    0    0]\n",
        " [   0    0    0 ...,    0    0    0]\n",
        " [   0   -1    0 ...,    0    0    0]\n",
        " ..., \n",
        " [   0 -547    0 ...,    0    0    0]\n",
        " [   0 -548    0 ...,    0    0    0]\n",
        " [   0 -549    0 ...,    0    0    0]]\n"
       ]
      }
     ],
     "prompt_number": 554
    }
   ],
   "metadata": {}
  }
 ]
}