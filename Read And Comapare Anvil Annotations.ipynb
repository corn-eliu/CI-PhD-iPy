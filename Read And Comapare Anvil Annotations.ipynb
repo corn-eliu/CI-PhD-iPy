{
 "metadata": {
  "name": "",
  "signature": "sha256:ffba56a0b74949ffeb1404a7884feca62f753d2732de7b2982a17f217fcc2e67"
 },
 "nbformat": 3,
 "nbformat_minor": 0,
 "worksheets": [
  {
   "cells": [
    {
     "cell_type": "code",
     "collapsed": false,
     "input": [
      "%pylab\n",
      "\n",
      "import numpy as np\n",
      "from PIL import Image\n",
      "import xml.etree.ElementTree as ET\n",
      "import glob\n",
      "\n",
      "from SemanticsDefinitionTabGUI import propagateLabels"
     ],
     "language": "python",
     "metadata": {},
     "outputs": [
      {
       "output_type": "stream",
       "stream": "stdout",
       "text": [
        "Using matplotlib backend: TkAgg\n",
        "Populating the interactive namespace from numpy and matplotlib\n"
       ]
      }
     ],
     "prompt_number": 1
    },
    {
     "cell_type": "code",
     "collapsed": false,
     "input": [
      "basePath = \"/media/ilisescu/Data1/PhD/data/\"\n",
      "dataset = \"toy_quick\"\n",
      "# dataset = \"candle2/stabilized\"\n",
      "\n",
      "useNarrowedAnvil = True\n",
      "useToyNoBG = False\n",
      "\n",
      "if dataset == \"toy_quick\" :\n",
      "    ## toy_quick\n",
      "    tree = ET.parse(basePath+dataset+'/annotations.anvil')\n",
      "    fps = 50\n",
      "    classes = np.array([\"none\", \"C\", \"D\", \"E\", \"F\", \"G\", \"A\", \"B\", \"C2\"])\n",
      "    numFrames = np.max(np.load(basePath+dataset+\"/semantic_sequence-toy_quick.npy\").item()['frame_locs'].keys())+1\n",
      "    ## this makes sure that I take into account little timing differences between the sequence of frames and the video for anvil (because of slitghly different fps)\n",
      "    frameNumDelta = 696/695.0 ## here the toy_quick dataset actually only has 696 frames as the last few ones are somehow repeated and they were not repeated when I made th evideo for anvil\n",
      "    ## in secs for each added example\n",
      "    propagationTimings = np.array([ 11,  15,  22,  32,  37,  42,  46,  51,  56,  60,\n",
      "                                    65,  72,  75,  80,  83,  87,  92,  95,  97, 103,\n",
      "                                   118, 122, 131, 134, 138, 144, 161, 164, 168, 175,\n",
      "                                   180, 184, 189, 192, 195, 199, 202, 206, 209, 212,\n",
      "                                   215, 218, 222, 225])-5 # remove the secs at beginning of video before I actually start labelling\n",
      "    \n",
      "    ## this is without the background frames\n",
      "    if useToyNoBG :\n",
      "        ## every 10 seconds, how much of the final video was annotated (i.e. accuracy)\n",
      "        anvilAccuracy = np.array([  0,   0,  74, 101, 101, 120, 141, 159, 159, 173,\n",
      "                                  186, 186, 201, 212, 227, 241, 241, 254, 269, 281,\n",
      "                                  295, 319, 319, 333, 346, 372, 372, 372, 372, 383,\n",
      "                                  395, 408, 408, 420, 431, 431, 449, 449, 449, 468,\n",
      "                                  481, 491, 516, 527, 537, 537, 551, 562, 572, 583,\n",
      "                                  597, 608, 608, 620, 635, 647, 658, 658, 670, 695])*frameNumDelta/float(696)\n",
      "        anvilTimings = (np.arange(len(anvilAccuracy), dtype=int)+1)*10-6\n",
      "\n",
      "        anvilNarrowed = np.array([[1, -2], [1, -3], [1, -2], [1, -1], [1, -3], [0, -2], [1, -2],\n",
      "                                  [0, -3], [1, -1], [0, -2], [1, -2], [0, -1], [1, -2], [0, -1],\n",
      "                                  [1, -3], [1, -2], [1, -1], [0, -2], [0, -2], [1, 0], [1, -1],\n",
      "                                  [1, -1], [1, 0], [1, -1], [1, -1], [0, 0], [1, 0], [1, 0],\n",
      "                                  [2, -1], [1, -1], [2, 0], [1, -2], [2, -2], [1, 0], [2, 0],\n",
      "                                  [2, -2], [2, 0], [2, 0], [2, -1], [1, -2], [2, 0], [2, 0],\n",
      "                                  [1, 0]], int)\n",
      "    else :\n",
      "        ## every 10 seconds, how much of the final video was annotated (i.e. accuracy)\n",
      "        anvilAccuracy = np.array([  0,   0,  74, 101, 101, 120, 141, 159, 159, 173,\n",
      "                                  186, 186, 201, 212, 227, 241, 241, 254, 269, 281,\n",
      "                                  295, 319, 319, 333, 346, 372, 372, 372, 372, 383,\n",
      "                                  395, 408, 408, 420, 431, 431, 449, 449, 449, 468,\n",
      "                                  481, 491, 516, 527, 537, 537, 551, 562, 572, 583,\n",
      "                                  597, 608, 608, 620, 635, 647, 658, 658, 670, 695])*frameNumDelta/float(696)\n",
      "        \n",
      "        extraAccuracies = np.array([0, 51, 51, 68, 68, 88, 100, 100, 110, 110, 110, 110, 110, 115, 120])*frameNumDelta/float(696)\n",
      "        anvilAccuracy = np.concatenate([anvilAccuracy*(1.0-extraAccuracies[-1]), (1.0-extraAccuracies[-1])+extraAccuracies])\n",
      "        \n",
      "        anvilTimings = (np.arange(len(anvilAccuracy), dtype=int)+1)*10-6\n",
      "\n",
      "        anvilNarrowed = np.array([[0, 0], [0, 0], [1, -2], [0, 0], [1, -3], [0, 0], [1, -2],\n",
      "                                  [0, 0], [1, -1], [1, -3], [0, -2], [1, -2], [0, -3], [1, -1],\n",
      "                                  [0, -2], [1, -2], [0, -1], [1, -2], [0, -1], [1, -3], [1, -2],\n",
      "                                  [1, -1], [0, -2], [0, -2], [1, 0], [1, -1], [1, -1], [1, 0],\n",
      "                                  [1, -1], [0, 0], [1, -1], [0, 0], [0, 0], [1, 0], [1, 0],\n",
      "                                  [2, -1], [1, -1], [2, 0], [1, -2], [2, -2], [1, 0], [2, 0],\n",
      "                                  [2, -2], [2, 0], [2, 0], [2, -1], [1, -2], [2, 0], [2, 0],\n",
      "                                  [1, 0]], int)\n",
      "        \n",
      "    \n",
      "elif dataset == \"candle2/stabilized\" :\n",
      "    ## candle2/stabilized\n",
      "    tree = ET.parse(basePath+dataset+'/annotations.anvil')\n",
      "    fps = 60\n",
      "    classes = np.array([\"Rest\", \"Left\", \"Right\"])\n",
      "#     numFrames = len(glob.glob(basePath+dataset+\"/frame-0*.png\"))\n",
      "    numFrames = np.max(np.load(basePath+dataset+\"/semantic_sequence-candle.npy\").item()['frame_locs'].keys())+1\n",
      "    ## this makes sure that I take into account little timing differences between the sequence of frames and the video for anvil (because of slitghly different fps)\n",
      "    frameNumDelta = float(numFrames)/3978.0\n",
      "    \n",
      "    ## in secs for each added example\n",
      "    propagationTimings = np.array([6, 16, 26, 36, 46, 63, 83, 105, 132])-3 # remove the secs at beginning of video before I actually start labelling\n",
      "    ## every 10 seconds, how much of the final video was annotated (i.e. accuracy)\n",
      "    anvilAccuracy = np.array([   0,   32,  154,  234,  340,  410,  410,  410,  410,  511,\n",
      "                               511,  511,  541,  541,  650,  790,  790,  790,  926,  994,\n",
      "                              1070, 1107, 1204, 1209, 1228, 1275, 1425, 1460, 1606, 1606,\n",
      "                              1681, 1818, 3978.0/2.0])*2.0*frameNumDelta/float(numFrames)\n",
      "    anvilTimings = (np.arange(len(anvilAccuracy), dtype=int)+1)*10-3\n",
      "    \n",
      "    anvilNarrowed = np.array([[0, 0], [7, -7], [7, 0], [10, -5], [4, -6], [3, -10], [3, -2], [5, -4],\n",
      "                              [2, -1], [4, -5], [3, -1], [3, -12], [1, -2], [3, -7], [5, -5], [6, -3],\n",
      "                              [1, -1], [3, -5], [4, -8], [5, -7], [2, -1], [13, -10], [34, -4], [7, -13],\n",
      "                              [5, 0]], int)*2"
     ],
     "language": "python",
     "metadata": {},
     "outputs": [],
     "prompt_number": 2
    },
    {
     "cell_type": "code",
     "collapsed": false,
     "input": [
      "root = tree.getroot()\n",
      "\n",
      "anvilLabels = np.zeros([numFrames, len(classes)])\n",
      "print anvilLabels.shape\n",
      "\n",
      "for child in root :\n",
      "    if child.tag == \"body\" :\n",
      "        for gchild in child :\n",
      "            if gchild.attrib[\"type\"] == \"primary\" :\n",
      "                for ggcIdx, ggchild in enumerate(gchild) :\n",
      "                    if ggchild.tag == \"el\" :\n",
      "                        start = int(np.round(float(ggchild.attrib[\"start\"])*fps*frameNumDelta))\n",
      "                        end = int(np.round(float(ggchild.attrib[\"end\"])*fps*frameNumDelta))\n",
      "                        if ggchild.find(\"attribute\") == None and not useToyNoBG :\n",
      "                            classIdx = 0\n",
      "                        else :\n",
      "                            classIdx = int(np.argwhere(classes == ggchild.find(\"attribute\").text).flatten())\n",
      "                        \n",
      "                        if dataset == \"candle2/stabilized\" and not useNarrowedAnvil :\n",
      "                            end -= 1\n",
      "                        \n",
      "                        if useNarrowedAnvil :\n",
      "                            anvilLabels[start:end+1, classIdx] = -1.0\n",
      "                            start += anvilNarrowed[ggcIdx, 0]\n",
      "                            end += anvilNarrowed[ggcIdx, 1]\n",
      "                            anvilLabels[start:end+1, classIdx] = 1.0\n",
      "                        else :\n",
      "                            anvilLabels[start:end+1, classIdx] = 1.0\n",
      "                        print ggcIdx, start, end, classIdx\n",
      "\n",
      "if dataset == \"toy_quick\" :\n",
      "    print len(np.argwhere(np.sum(anvilLabels, axis=1) == 0).flatten())\n",
      "    if useToyNoBG :\n",
      "        anvilLabels[np.argwhere(np.sum(anvilLabels, axis=1) == 0).flatten(), 0] = 1.0\n",
      "        tmp = np.argwhere(np.sum(anvilLabels, axis=1) == -1).flatten()\n",
      "        anvilLabels[tmp, 1:] = 0.0\n",
      "        anvilLabels[tmp, 0] = 1.0\n",
      "        validLabels = np.argwhere(anvilLabels[:, 0] != 1.0).flatten()\n",
      "    else :\n",
      "        validLabels = np.argwhere(np.sum(anvilLabels, axis=1) > 0.0).flatten()\n",
      "else :\n",
      "    validLabels = np.argwhere(np.sum(anvilLabels, axis=1) != -1).flatten()"
     ],
     "language": "python",
     "metadata": {},
     "outputs": [
      {
       "output_type": "stream",
       "stream": "stdout",
       "text": [
        "(702, 9)\n",
        "0 0 50 0\n",
        "1 56 67 0\n",
        "2 69 71 1\n",
        "3 74 93 0\n",
        "4 95 97 2\n",
        "5 101 112 0\n",
        "6 115 117 3\n",
        "7 123 132 0\n",
        "8 137 139 4\n",
        "9 151 155 5\n",
        "10 166 170 6\n",
        "11 180 183 7\n",
        "12 194 197 8\n",
        "13 207 210 7\n",
        "14 220 224 6\n",
        "15 234 238 5\n",
        "16 248 252 4\n",
        "17 262 266 3\n",
        "18 275 279 2\n",
        "19 287 291 1\n",
        "20 312 316 2\n",
        "21 326 331 3\n",
        "22 339 343 4\n",
        "23 365 370 6\n",
        "24 377 382 5\n",
        "25 390 394 4\n",
        "26 403 407 3\n",
        "27 415 420 2\n",
        "28 427 430 1\n",
        "29 435 439 0\n",
        "30 444 448 5\n",
        "31 454 458 0\n",
        "32 464 468 6\n",
        "33 477 481 7\n",
        "34 488 491 8\n",
        "35 510 515 5\n",
        "36 521 526 4\n",
        "37 533 537 3\n",
        "38 546 549 2\n",
        "39 556 560 1\n",
        "40 567 572 2\n",
        "41 579 583 3\n",
        "42 591 595 4\n",
        "43 604 608 5\n",
        "44 616 620 6\n",
        "45 629 634 7\n",
        "46 642 645 8\n",
        "47 654 658 7\n",
        "48 666 670 6\n",
        "49 678 683 4\n",
        "281\n"
       ]
      }
     ],
     "prompt_number": 3
    },
    {
     "cell_type": "code",
     "collapsed": false,
     "input": [
      "if dataset == \"candle2/stabilized\" :\n",
      "    propagatedLabels = np.load(basePath+dataset+\"/semantic_sequence-candle.npy\").item()['semantics_per_frame']\n",
      "elif dataset == \"toy_quick\" :\n",
      "    propagatedLabels = np.load(basePath+dataset+\"/semantic_sequence-toy_quick.npy\").item()['semantics_per_frame']\n",
      "print anvilLabels\n",
      "print propagatedLabels"
     ],
     "language": "python",
     "metadata": {},
     "outputs": [
      {
       "output_type": "stream",
       "stream": "stdout",
       "text": [
        "[[ 1.  0.  0. ...,  0.  0.  0.]\n",
        " [ 1.  0.  0. ...,  0.  0.  0.]\n",
        " [ 1.  0.  0. ...,  0.  0.  0.]\n",
        " ..., \n",
        " [ 0.  0.  0. ...,  0.  0.  0.]\n",
        " [ 0.  0.  0. ...,  0.  0.  0.]\n",
        " [ 0.  0.  0. ...,  0.  0.  0.]]\n",
        "[[  8.63712150e-01   2.52855064e-03   1.27665733e-01 ...,   1.23957909e-05\n",
        "    4.05957500e-06   2.12611651e-06]\n",
        " [  8.63804038e-01   2.52490093e-03   1.27586108e-01 ...,   1.23767594e-05\n",
        "    4.05333431e-06   2.12284693e-06]\n",
        " [  8.63802813e-01   2.52440327e-03   1.27588876e-01 ...,   1.23747013e-05\n",
        "    4.05266090e-06   2.12249410e-06]\n",
        " ..., \n",
        " [  6.90199997e-01   9.96351777e-03   1.21746677e-01 ...,   6.00210826e-04\n",
        "    1.96453740e-04   1.02755373e-04]\n",
        " [  6.90199997e-01   9.96351777e-03   1.21746677e-01 ...,   6.00210826e-04\n",
        "    1.96453740e-04   1.02755373e-04]\n",
        " [  6.90199989e-01   9.96351764e-03   1.21746676e-01 ...,   6.00210818e-04\n",
        "    1.96453738e-04   1.02755372e-04]]\n"
       ]
      }
     ],
     "prompt_number": 4
    },
    {
     "cell_type": "code",
     "collapsed": false,
     "input": [
      "cols = mpl.cm.Set1(np.arange(0.0, 1.0 + 1.0/15.0, 1.0/15.0)[:len(classes)])\n",
      "cols = [tuple(i) for i in cols[:, :-1]]\n",
      "\n",
      "fig1 = figure()\n",
      "numClasses = len(classes)\n",
      "clrs = np.arange(0.0, 1.0+1.0/(numClasses-1), 1.0/(numClasses-1)).astype(np.string_) #['r', 'g', 'b', 'm', 'c', 'y', 'k', 'w']\n",
      "stackplot(np.arange(len(anvilLabels[validLabels, :])), np.row_stack(tuple([i for i in anvilLabels[validLabels, :].T])), colors=cols)\n",
      "ylim([0, 1])\n",
      "\n",
      "fig2 = figure()\n",
      "stackplot(np.arange(len(propagatedLabels[validLabels, :])), np.row_stack(tuple([i for i in propagatedLabels[validLabels, :].T])), colors=cols)\n",
      "ylim([0, 1])"
     ],
     "language": "python",
     "metadata": {},
     "outputs": [
      {
       "metadata": {},
       "output_type": "pyout",
       "prompt_number": 5,
       "text": [
        "(0, 1)"
       ]
      }
     ],
     "prompt_number": 5
    },
    {
     "cell_type": "code",
     "collapsed": false,
     "input": [
      "if dataset == \"toy_quick\" and useToyNoBG :\n",
      "    print np.sum(np.sqrt(np.sum((anvilLabels[validLabels, 1:]-propagatedLabels[validLabels, 1:])**2, axis=1)))/len(validLabels)\n",
      "else :\n",
      "    print np.sum(np.sqrt(np.sum((anvilLabels[validLabels, :]-propagatedLabels[validLabels, :])**2, axis=1)))/len(validLabels)\n",
      "print numFrames\n",
      "print propagatedLabels.shape, anvilLabels.shape\n",
      "if dataset == \"candle2/stabilized\" :\n",
      "    print np.load(basePath+dataset+\"/semantic_sequence-candle.npy\").item().keys()\n",
      "elif dataset == \"toy_quick\" :\n",
      "    print np.load(basePath+dataset+\"/semantic_sequence-toy_quick.npy\").item().keys()"
     ],
     "language": "python",
     "metadata": {},
     "outputs": [
      {
       "output_type": "stream",
       "stream": "stdout",
       "text": [
        "0.11831816825\n",
        "702\n",
        "(702, 9) (702, 9)\n",
        "['issue_command_binding', 'icon_frame_key', 'issue_command_type', 'sequence_precomputed_distance_matrix_location', 'icon_top_left', 'number_of_semantic_classes', 'semantic_sequence_name', 'num_extra_frames', 'semantics_names', 'semantics_per_frame', 'labelled_frames', 'icon_size', 'frame_locs', 'representative_color', 'sequence_location', 'sequence_precomputed_transition_costs_location']\n"
       ]
      }
     ],
     "prompt_number": 6
    },
    {
     "cell_type": "code",
     "collapsed": false,
     "input": [
      "if dataset == \"candle2/stabilized\" :\n",
      "    semanticSequence = np.load(basePath+dataset+\"/semantic_sequence-candle.npy\").item()\n",
      "elif dataset == \"toy_quick\" :\n",
      "    semanticSequence = np.load(basePath+dataset+\"/semantic_sequence-toy_quick.npy\").item()\n",
      "\n",
      "labelledFrames = semanticSequence['labelled_frames']\n",
      "numExtraFrames = semanticSequence['num_extra_frames']\n",
      "print labelledFrames\n",
      "print numExtraFrames\n",
      "labelledFramesArray = np.array([item for sublist in labelledFrames for item in sublist])\n",
      "numExtraFramesArray = np.array([item for sublist in numExtraFrames for item in sublist])\n",
      "\n",
      "labelledFramesClassIdxArray = np.empty(0, int)\n",
      "for classIdx in [np.repeat(i, len(labelledFrames[i])) for i in xrange(len(labelledFrames))] :\n",
      "    labelledFramesClassIdxArray = np.concatenate([labelledFramesClassIdxArray, classIdx])\n",
      "addedOrder = np.argsort(labelledFramesArray) ## change this if order is not time order\n",
      "\n",
      "labelledFramesProgressive = []\n",
      "numExtraFramesProgressive = []\n",
      "for i in xrange(len(labelledFrames)) :\n",
      "    labelledFramesProgressive.append([])\n",
      "    numExtraFramesProgressive.append([])\n",
      "    \n",
      "propagationAccuracy = np.empty(0)\n",
      "\n",
      "distMat = np.load(semanticSequence['sequence_precomputed_distance_matrix_location'])\n",
      "for idx in addedOrder[0:] :\n",
      "    labelledFramesProgressive[labelledFramesClassIdxArray[idx]].append(labelledFramesArray[idx])\n",
      "    numExtraFramesProgressive[labelledFramesClassIdxArray[idx]].append(numExtraFramesArray[idx])\n",
      "    print labelledFramesProgressive, numExtraFramesProgressive\n",
      "    propagatedLabels = propagateLabels(distMat, labelledFramesProgressive, numExtraFramesProgressive, True, 6.0/100.0)#self.semanticsSigmaSpinBox.value()/100.0)\n",
      "    if True and useNarrowedAnvil :\n",
      "        propagatedLabelsThreshold = 0.0\n",
      "        framesToThreshold = np.max(propagatedLabels, axis=1) >= propagatedLabelsThreshold\n",
      "        framesToThresholdClasses = np.argmax(propagatedLabels, axis=1).flatten()\n",
      "        propagatedLabels = np.zeros_like(propagatedLabels)\n",
      "        for i, classIdx in enumerate(framesToThresholdClasses) :\n",
      "            if framesToThreshold[i] :\n",
      "                propagatedLabels[i, classIdx] = 1\n",
      "            \n",
      "    if dataset == \"toy_quick\" and useToyNoBG :\n",
      "        propagationAccuracy = np.concatenate([propagationAccuracy, [1.0-np.sum(np.sqrt(np.sum((anvilLabels[validLabels, 1:]-propagatedLabels[validLabels, 1:])**2, axis=1)))/len(validLabels)]])\n",
      "    else :\n",
      "        propagationAccuracy = np.concatenate([propagationAccuracy, [1.0-np.sum(np.sqrt(np.sum((anvilLabels[validLabels, :]-propagatedLabels[validLabels, :])**2, axis=1)))/len(validLabels)]])\n",
      "    print \"ACCURACY:\", propagationAccuracy[-1]"
     ],
     "language": "python",
     "metadata": {},
     "outputs": [
      {
       "output_type": "stream",
       "stream": "stdout",
       "text": [
        "[[45], [70, 289, 427, 558], [96, 277, 314, 417, 546, 568], [116, 264, 328, 403, 535, 580], [137, 250, 341, 392, 523, 593, 679], [153, 236, 380, 444, 512, 604], [168, 222, 367, 465, 617, 667], [182, 210, 477, 630, 655], [195, 490, 642]]\n",
        "[[2], [4, 4, 4, 4], [4, 4, 4, 4, 4, 4], [4, 4, 4, 4, 4, 4], [4, 4, 4, 4, 4, 4, 4], [4, 4, 4, 4, 4, 4], [4, 4, 4, 4, 4, 4], [4, 4, 4, 4, 4], [4, 4, 4]]\n",
        "[[45], [], [], [], [], [], [], [], []]"
       ]
      },
      {
       "output_type": "stream",
       "stream": "stdout",
       "text": [
        " [[2], [], [], [], [], [], [], [], []]\n",
        "number of classes: 9\n",
        "number of examples per class: [3 0 0 0 0 0 0 0 0]\n",
        "number of extra points per class: [[2], [], [], [], [], [], [], [], []]\n",
        "all examples: [44 45 46] ( 3 )\n",
        "ACCURACY:"
       ]
      },
      {
       "output_type": "stream",
       "stream": "stdout",
       "text": [
        " 0.0877449551359\n",
        "[[45], [70], [], [], [], [], [], [], []] [[2], [4], [], [], [], [], [], [], []]\n",
        "number of classes: 9\n",
        "number of examples per class: [3 5 0 0 0 0 0 0 0]\n",
        "number of extra points per class: [[2], [4], [], [], [], [], [], [], []]\n",
        "all examples: [44 45 46 68 69 70 71 72] ( 8 )\n",
        "ACCURACY:"
       ]
      },
      {
       "output_type": "stream",
       "stream": "stdout",
       "text": [
        " 0.100839525158\n",
        "[[45], [70], [96], [], [], [], [], [], []] [[2], [4], [4], [], [], [], [], [], []]\n",
        "number of classes: 9\n",
        "number of examples per class: [3 5 5 0 0 0 0 0 0]\n",
        "number of extra points per class: [[2], [4], [4], [], [], [], [], [], []]\n",
        "all examples: [44 45 46 68 69 70 71 72 94 95 96 97 98] ( 13 )\n",
        "ACCURACY:"
       ]
      },
      {
       "output_type": "stream",
       "stream": "stdout",
       "text": [
        " 0.122663808528\n",
        "[[45], [70], [96], [116], [], [], [], [], []] [[2], [4], [4], [4], [], [], [], [], []]\n",
        "number of classes: 9\n",
        "number of examples per class: [3 5 5 5 0 0 0 0 0]\n",
        "number of extra points per class: [[2], [4], [4], [4], [], [], [], [], []]\n",
        "all examples: [ 44  45  46  68  69  70  71  72  94  95  96  97  98 114 115 116 117 118] ( 18 )\n",
        "ACCURACY:"
       ]
      },
      {
       "output_type": "stream",
       "stream": "stdout",
       "text": [
        " 0.175042088616\n",
        "[[45], [70], [96], [116], [137], [], [], [], []] [[2], [4], [4], [4], [4], [], [], [], []]\n",
        "number of classes: 9\n",
        "number of examples per class: [3 5 5 5 5 0 0 0 0]\n",
        "number of extra points per class: [[2], [4], [4], [4], [4], [], [], [], []]\n",
        "all examples: [ 44  45  46  68  69  70  71  72  94  95  96  97  98 114 115 116 117 118\n",
        " 135 136 137 138 139] ( 23 )\n",
        "ACCURACY:"
       ]
      },
      {
       "output_type": "stream",
       "stream": "stdout",
       "text": [
        " 0.345271498901\n",
        "[[45], [70], [96], [116], [137], [153], [], [], []] [[2], [4], [4], [4], [4], [4], [], [], []]\n",
        "number of classes: 9\n",
        "number of examples per class: [3 5 5 5 5 5 0 0 0]\n",
        "number of extra points per class: [[2], [4], [4], [4], [4], [4], [], [], []]\n",
        "all examples: [ 44  45  46  68  69  70  71  72  94  95  96  97  98 114 115 116 117 118\n",
        " 135 136 137 138 139 151 152 153 154 155] ( 28 )\n",
        "ACCURACY:"
       ]
      },
      {
       "output_type": "stream",
       "stream": "stdout",
       "text": [
        " 0.419474062359\n",
        "[[45], [70], [96], [116], [137], [153], [168], [], []] [[2], [4], [4], [4], [4], [4], [4], [], []]\n",
        "number of classes: 9\n",
        "number of examples per class: [3 5 5 5 5 5 5 0 0]\n",
        "number of extra points per class: [[2], [4], [4], [4], [4], [4], [4], [], []]\n",
        "all examples: [ 44  45  46  68  69  70  71  72  94  95  96  97  98 114 115 116 117 118\n",
        " 135 136 137 138 139 151 152 153 154 155 166 167 168 169 170] ( 33 )\n",
        "ACCURACY:"
       ]
      },
      {
       "output_type": "stream",
       "stream": "stdout",
       "text": [
        " 0.541690049231\n",
        "[[45], [70], [96], [116], [137], [153], [168], [182], []] [[2], [4], [4], [4], [4], [4], [4], [4], []]\n",
        "number of classes: 9\n",
        "number of examples per class: [3 5 5 5 5 5 5 5 0]\n",
        "number of extra points per class: [[2], [4], [4], [4], [4], [4], [4], [4], []]\n",
        "all examples: [ 44  45  46  68  69  70  71  72  94  95  96  97  98 114 115 116 117 118\n",
        " 135 136 137 138 139 151 152 153 154 155 166 167 168 169 170 180 181 182\n",
        " 183 184] ( 38 )\n",
        "ACCURACY:"
       ]
      },
      {
       "output_type": "stream",
       "stream": "stdout",
       "text": [
        " 0.637716896059\n",
        "[[45], [70], [96], [116], [137], [153], [168], [182], [195]] [[2], [4], [4], [4], [4], [4], [4], [4], [4]]\n",
        "number of classes: 9\n",
        "number of examples per class: [3 5 5 5 5 5 5 5 5]\n",
        "number of extra points per class: [[2], [4], [4], [4], [4], [4], [4], [4], [4]]\n",
        "all examples: [ 44  45  46  68  69  70  71  72  94  95  96  97  98 114 115 116 117 118\n",
        " 135 136 137 138 139 151 152 153 154 155 166 167 168 169 170 180 181 182\n",
        " 183 184 193 194 195 196 197] ( 43 )\n",
        "ACCURACY:"
       ]
      },
      {
       "output_type": "stream",
       "stream": "stdout",
       "text": [
        " 0.681365462799\n",
        "[[45], [70], [96], [116], [137], [153], [168], [182, 210], [195]] [[2], [4], [4], [4], [4], [4], [4], [4, 4], [4]]\n",
        "number of classes: 9\n",
        "number of examples per class: [ 3  5  5  5  5  5  5 10  5]\n",
        "number of extra points per class: [[2], [4], [4], [4], [4], [4], [4], [4, 4], [4]]\n",
        "all examples: [ 44  45  46  68  69  70  71  72  94  95  96  97  98 114 115 116 117 118\n",
        " 135 136 137 138 139 151 152 153 154 155 166 167 168 169 170 180 181 182\n",
        " 183 184 208 209 210 211 212 193 194 195 196 197] ( 48 )\n",
        "ACCURACY:"
       ]
      },
      {
       "output_type": "stream",
       "stream": "stdout",
       "text": [
        " 0.681365462799\n",
        "[[45], [70], [96], [116], [137], [153], [168, 222], [182, 210], [195]] [[2], [4], [4], [4], [4], [4], [4, 4], [4, 4], [4]]\n",
        "number of classes: 9\n",
        "number of examples per class: [ 3  5  5  5  5  5 10 10  5]\n",
        "number of extra points per class: [[2], [4], [4], [4], [4], [4], [4, 4], [4, 4], [4]]\n",
        "all examples: [ 44  45  46  68  69  70  71  72  94  95  96  97  98 114 115 116 117 118\n",
        " 135 136 137 138 139 151 152 153 154 155 166 167 168 169 170 220 221 222\n",
        " 223 224 180 181 182 183 184 208 209 210 211 212 193 194 195 196 197] ( 53 )\n",
        "ACCURACY:"
       ]
      },
      {
       "output_type": "stream",
       "stream": "stdout",
       "text": [
        " 0.681365462799\n",
        "[[45], [70], [96], [116], [137], [153, 236], [168, 222], [182, 210], [195]] [[2], [4], [4], [4], [4], [4, 4], [4, 4], [4, 4], [4]]\n",
        "number of classes: 9\n",
        "number of examples per class: [ 3  5  5  5  5 10 10 10  5]\n",
        "number of extra points per class: [[2], [4], [4], [4], [4], [4, 4], [4, 4], [4, 4], [4]]\n",
        "all examples: [ 44  45  46  68  69  70  71  72  94  95  96  97  98 114 115 116 117 118\n",
        " 135 136 137 138 139 151 152 153 154 155 234 235 236 237 238 166 167 168\n",
        " 169 170 220 221 222 223 224 180 181 182 183 184 208 209 210 211 212 193\n",
        " 194 195 196 197] ( 58 )\n",
        "ACCURACY:"
       ]
      },
      {
       "output_type": "stream",
       "stream": "stdout",
       "text": [
        " 0.694460032821\n",
        "[[45], [70], [96], [116], [137, 250], [153, 236], [168, 222], [182, 210], [195]] [[2], [4], [4], [4], [4, 4], [4, 4], [4, 4], [4, 4], [4]]\n",
        "number of classes: 9\n",
        "number of examples per class: [ 3  5  5  5 10 10 10 10  5]\n",
        "number of extra points per class: [[2], [4], [4], [4], [4, 4], [4, 4], [4, 4], [4, 4], [4]]\n",
        "all examples: [ 44  45  46  68  69  70  71  72  94  95  96  97  98 114 115 116 117 118\n",
        " 135 136 137 138 139 248 249 250 251 252 151 152 153 154 155 234 235 236\n",
        " 237 238 166 167 168 169 170 220 221 222 223 224 180 181 182 183 184 208\n",
        " 209 210 211 212 193 194 195 196 197] ( 63 )\n",
        "ACCURACY:"
       ]
      },
      {
       "output_type": "stream",
       "stream": "stdout",
       "text": [
        " 0.694460032821\n",
        "[[45], [70], [96], [116, 264], [137, 250], [153, 236], [168, 222], [182, 210], [195]] [[2], [4], [4], [4, 4], [4, 4], [4, 4], [4, 4], [4, 4], [4]]\n",
        "number of classes: 9\n",
        "number of examples per class: [ 3  5  5 10 10 10 10 10  5]\n",
        "number of extra points per class: [[2], [4], [4], [4, 4], [4, 4], [4, 4], [4, 4], [4, 4], [4]]\n",
        "all examples: [ 44  45  46  68  69  70  71  72  94  95  96  97  98 114 115 116 117 118\n",
        " 262 263 264 265 266 135 136 137 138 139 248 249 250 251 252 151 152 153\n",
        " 154 155 234 235 236 237 238 166 167 168 169 170 220 221 222 223 224 180\n",
        " 181 182 183 184 208 209 210 211 212 193 194 195 196 197] ( 68 )\n",
        "ACCURACY:"
       ]
      },
      {
       "output_type": "stream",
       "stream": "stdout",
       "text": [
        " 0.720649172865\n",
        "[[45], [70], [96, 277], [116, 264], [137, 250], [153, 236], [168, 222], [182, 210], [195]] [[2], [4], [4, 4], [4, 4], [4, 4], [4, 4], [4, 4], [4, 4], [4]]\n",
        "number of classes: 9\n",
        "number of examples per class: [ 3  5 10 10 10 10 10 10  5]\n",
        "number of extra points per class: [[2], [4], [4, 4], [4, 4], [4, 4], [4, 4], [4, 4], [4, 4], [4]]\n",
        "all examples: [ 44  45  46  68  69  70  71  72  94  95  96  97  98 275 276 277 278 279\n",
        " 114 115 116 117 118 262 263 264 265 266 135 136 137 138 139 248 249 250\n",
        " 251 252 151 152 153 154 155 234 235 236 237 238 166 167 168 169 170 220\n",
        " 221 222 223 224 180 181 182 183 184 208 209 210 211 212 193 194 195 196\n",
        " 197] ( 73 )\n",
        "ACCURACY:"
       ]
      },
      {
       "output_type": "stream",
       "stream": "stdout",
       "text": [
        " 0.812311163018\n",
        "[[45], [70, 289], [96, 277], [116, 264], [137, 250], [153, 236], [168, 222], [182, 210], [195]] [[2], [4, 4], [4, 4], [4, 4], [4, 4], [4, 4], [4, 4], [4, 4], [4]]\n",
        "number of classes: 9\n",
        "number of examples per class: [ 3 10 10 10 10 10 10 10  5]\n",
        "number of extra points per class: [[2], [4, 4], [4, 4], [4, 4], [4, 4], [4, 4], [4, 4], [4, 4], [4]]\n",
        "all examples: [ 44  45  46  68  69  70  71  72 287 288 289 290 291  94  95  96  97  98\n",
        " 275 276 277 278 279 114 115 116 117 118 262 263 264 265 266 135 136 137\n",
        " 138 139 248 249 250 251 252 151 152 153 154 155 234 235 236 237 238 166\n",
        " 167 168 169 170 220 221 222 223 224 180 181 182 183 184 208 209 210 211\n",
        " 212 193 194 195 196 197] ( 78 )\n",
        "ACCURACY:"
       ]
      },
      {
       "output_type": "stream",
       "stream": "stdout",
       "text": [
        " 0.834135446388\n",
        "[[45], [70, 289], [96, 277, 314], [116, 264], [137, 250], [153, 236], [168, 222], [182, 210], [195]] [[2], [4, 4], [4, 4, 4], [4, 4], [4, 4], [4, 4], [4, 4], [4, 4], [4]]\n",
        "number of classes: 9\n",
        "number of examples per class: [ 3 10 15 10 10 10 10 10  5]\n",
        "number of extra points per class: [[2], [4, 4], [4, 4, 4], [4, 4], [4, 4], [4, 4], [4, 4], [4, 4], [4]]\n",
        "all examples: [ 44  45  46  68  69  70  71  72 287 288 289 290 291  94  95  96  97  98\n",
        " 275 276 277 278 279 312 313 314 315 316 114 115 116 117 118 262 263 264\n",
        " 265 266 135 136 137 138 139 248 249 250 251 252 151 152 153 154 155 234\n",
        " 235 236 237 238 166 167 168 169 170 220 221 222 223 224 180 181 182 183\n",
        " 184 208 209 210 211 212 193 194 195 196 197] ( 83 )\n",
        "ACCURACY:"
       ]
      },
      {
       "output_type": "stream",
       "stream": "stdout",
       "text": [
        " 0.842865159736\n",
        "[[45], [70, 289], [96, 277, 314], [116, 264, 328], [137, 250], [153, 236], [168, 222], [182, 210], [195]] [[2], [4, 4], [4, 4, 4], [4, 4, 4], [4, 4], [4, 4], [4, 4], [4, 4], [4]]\n",
        "number of classes: 9\n",
        "number of examples per class: [ 3 10 15 15 10 10 10 10  5]\n",
        "number of extra points per class: [[2], [4, 4], [4, 4, 4], [4, 4, 4], [4, 4], [4, 4], [4, 4], [4, 4], [4]]\n",
        "all examples: [ 44  45  46  68  69  70  71  72 287 288 289 290 291  94  95  96  97  98\n",
        " 275 276 277 278 279 312 313 314 315 316 114 115 116 117 118 262 263 264\n",
        " 265 266 326 327 328 329 330 135 136 137 138 139 248 249 250 251 252 151\n",
        " 152 153 154 155 234 235 236 237 238 166 167 168 169 170 220 221 222 223\n",
        " 224 180 181 182 183 184 208 209 210 211 212 193 194 195 196 197] ( 88 )\n",
        "ACCURACY:"
       ]
      },
      {
       "output_type": "stream",
       "stream": "stdout",
       "text": [
        " 0.851594873084\n",
        "[[45], [70, 289], [96, 277, 314], [116, 264, 328], [137, 250, 341], [153, 236], [168, 222], [182, 210], [195]] [[2], [4, 4], [4, 4, 4], [4, 4, 4], [4, 4, 4], [4, 4], [4, 4], [4, 4], [4]]\n",
        "number of classes: 9\n",
        "number of examples per class: [ 3 10 15 15 15 10 10 10  5]\n",
        "number of extra points per class: [[2], [4, 4], [4, 4, 4], [4, 4, 4], [4, 4, 4], [4, 4], [4, 4], [4, 4], [4]]\n",
        "all examples: [ 44  45  46  68  69  70  71  72 287 288 289 290 291  94  95  96  97  98\n",
        " 275 276 277 278 279 312 313 314 315 316 114 115 116 117 118 262 263 264\n",
        " 265 266 326 327 328 329 330 135 136 137 138 139 248 249 250 251 252 339\n",
        " 340 341 342 343 151 152 153 154 155 234 235 236 237 238 166 167 168 169\n",
        " 170 220 221 222 223 224 180 181 182 183 184 208 209 210 211 212 193 194\n",
        " 195 196 197] ( 93 )\n",
        "ACCURACY:"
       ]
      },
      {
       "output_type": "stream",
       "stream": "stdout",
       "text": [
        " 0.873419156454\n",
        "[[45], [70, 289], [96, 277, 314], [116, 264, 328], [137, 250, 341], [153, 236], [168, 222, 367], [182, 210], [195]] [[2], [4, 4], [4, 4, 4], [4, 4, 4], [4, 4, 4], [4, 4], [4, 4, 4], [4, 4], [4]]\n",
        "number of classes: 9\n",
        "number of examples per class: [ 3 10 15 15 15 10 15 10  5]\n",
        "number of extra points per class: [[2], [4, 4], [4, 4, 4], [4, 4, 4], [4, 4, 4], [4, 4], [4, 4, 4], [4, 4], [4]]\n",
        "all examples: [ 44  45  46  68  69  70  71  72 287 288 289 290 291  94  95  96  97  98\n",
        " 275 276 277 278 279 312 313 314 315 316 114 115 116 117 118 262 263 264\n",
        " 265 266 326 327 328 329 330 135 136 137 138 139 248 249 250 251 252 339\n",
        " 340 341 342 343 151 152 153 154 155 234 235 236 237 238 166 167 168 169\n",
        " 170 220 221 222 223 224 365 366 367 368 369 180 181 182 183 184 208 209\n",
        " 210 211 212 193 194 195 196 197] ( 98 )\n",
        "ACCURACY:"
       ]
      },
      {
       "output_type": "stream",
       "stream": "stdout",
       "text": [
        " 0.873419156454\n",
        "[[45], [70, 289], [96, 277, 314], [116, 264, 328], [137, 250, 341], [153, 236, 380], [168, 222, 367], [182, 210], [195]] [[2], [4, 4], [4, 4, 4], [4, 4, 4], [4, 4, 4], [4, 4, 4], [4, 4, 4], [4, 4], [4]]\n",
        "number of classes: 9\n",
        "number of examples per class: [ 3 10 15 15 15 15 15 10  5]\n",
        "number of extra points per class: [[2], [4, 4], [4, 4, 4], [4, 4, 4], [4, 4, 4], [4, 4, 4], [4, 4, 4], [4, 4], [4]]\n",
        "all examples: [ 44  45  46  68  69  70  71  72 287 288 289 290 291  94  95  96  97  98\n",
        " 275 276 277 278 279 312 313 314 315 316 114 115 116 117 118 262 263 264\n",
        " 265 266 326 327 328 329 330 135 136 137 138 139 248 249 250 251 252 339\n",
        " 340 341 342 343 151 152 153 154 155 234 235 236 237 238 378 379 380 381\n",
        " 382 166 167 168 169 170 220 221 222 223 224 365 366 367 368 369 180 181\n",
        " 182 183 184 208 209 210 211 212 193 194 195 196 197] ( 103 )\n",
        "ACCURACY:"
       ]
      },
      {
       "output_type": "stream",
       "stream": "stdout",
       "text": [
        " 0.86905429978\n",
        "[[45], [70, 289], [96, 277, 314], [116, 264, 328], [137, 250, 341, 392], [153, 236, 380], [168, 222, 367], [182, 210], [195]] [[2], [4, 4], [4, 4, 4], [4, 4, 4], [4, 4, 4, 4], [4, 4, 4], [4, 4, 4], [4, 4], [4]]\n",
        "number of classes: 9\n",
        "number of examples per class: [ 3 10 15 15 20 15 15 10  5]\n",
        "number of extra points per class: [[2], [4, 4], [4, 4, 4], [4, 4, 4], [4, 4, 4, 4], [4, 4, 4], [4, 4, 4], [4, 4], [4]]\n",
        "all examples: [ 44  45  46  68  69  70  71  72 287 288 289 290 291  94  95  96  97  98\n",
        " 275 276 277 278 279 312 313 314 315 316 114 115 116 117 118 262 263 264\n",
        " 265 266 326 327 328 329 330 135 136 137 138 139 248 249 250 251 252 339\n",
        " 340 341 342 343 390 391 392 393 394 151 152 153 154 155 234 235 236 237\n",
        " 238 378 379 380 381 382 166 167 168 169 170 220 221 222 223 224 365 366\n",
        " 367 368 369 180 181 182 183 184 208 209 210 211 212 193 194 195 196 197] ( 108 )\n",
        "ACCURACY:"
       ]
      },
      {
       "output_type": "stream",
       "stream": "stdout",
       "text": [
        " 0.873419156454\n",
        "[[45], [70, 289], [96, 277, 314], [116, 264, 328, 403], [137, 250, 341, 392], [153, 236, 380], [168, 222, 367], [182, 210], [195]] [[2], [4, 4], [4, 4, 4], [4, 4, 4, 4], [4, 4, 4, 4], [4, 4, 4], [4, 4, 4], [4, 4], [4]]\n",
        "number of classes: 9\n",
        "number of examples per class: [ 3 10 15 20 20 15 15 10  5]\n",
        "number of extra points per class: [[2], [4, 4], [4, 4, 4], [4, 4, 4, 4], [4, 4, 4, 4], [4, 4, 4], [4, 4, 4], [4, 4], [4]]\n",
        "all examples: [ 44  45  46  68  69  70  71  72 287 288 289 290 291  94  95  96  97  98\n",
        " 275 276 277 278 279 312 313 314 315 316 114 115 116 117 118 262 263 264\n",
        " 265 266 326 327 328 329 330 401 402 403 404 405 135 136 137 138 139 248\n",
        " 249 250 251 252 339 340 341 342 343 390 391 392 393 394 151 152 153 154\n",
        " 155 234 235 236 237 238 378 379 380 381 382 166 167 168 169 170 220 221\n",
        " 222 223 224 365 366 367 368 369 180 181 182 183 184 208 209 210 211 212\n",
        " 193 194 195 196 197] ( 113 )\n",
        "ACCURACY:"
       ]
      },
      {
       "output_type": "stream",
       "stream": "stdout",
       "text": [
        " 0.877784013128\n",
        "[[45], [70, 289], [96, 277, 314, 417], [116, 264, 328, 403], [137, 250, 341, 392], [153, 236, 380], [168, 222, 367], [182, 210], [195]] [[2], [4, 4], [4, 4, 4, 4], [4, 4, 4, 4], [4, 4, 4, 4], [4, 4, 4], [4, 4, 4], [4, 4], [4]]\n",
        "number of classes: 9\n",
        "number of examples per class: [ 3 10 20 20 20 15 15 10  5]\n",
        "number of extra points per class: [[2], [4, 4], [4, 4, 4, 4], [4, 4, 4, 4], [4, 4, 4, 4], [4, 4, 4], [4, 4, 4], [4, 4], [4]]\n",
        "all examples: [ 44  45  46  68  69  70  71  72 287 288 289 290 291  94  95  96  97  98\n",
        " 275 276 277 278 279 312 313 314 315 316 415 416 417 418 419 114 115 116\n",
        " 117 118 262 263 264 265 266 326 327 328 329 330 401 402 403 404 405 135\n",
        " 136 137 138 139 248 249 250 251 252 339 340 341 342 343 390 391 392 393\n",
        " 394 151 152 153 154 155 234 235 236 237 238 378 379 380 381 382 166 167\n",
        " 168 169 170 220 221 222 223 224 365 366 367 368 369 180 181 182 183 184\n",
        " 208 209 210 211 212 193 194 195 196 197] ( 118 )\n",
        "ACCURACY:"
       ]
      },
      {
       "output_type": "stream",
       "stream": "stdout",
       "text": [
        " 0.877784013128\n",
        "[[45], [70, 289, 427], [96, 277, 314, 417], [116, 264, 328, 403], [137, 250, 341, 392], [153, 236, 380], [168, 222, 367], [182, 210], [195]] [[2], [4, 4, 4], [4, 4, 4, 4], [4, 4, 4, 4], [4, 4, 4, 4], [4, 4, 4], [4, 4, 4], [4, 4], [4]]\n",
        "number of classes: 9\n",
        "number of examples per class: [ 3 15 20 20 20 15 15 10  5]\n",
        "number of extra points per class: [[2], [4, 4, 4], [4, 4, 4, 4], [4, 4, 4, 4], [4, 4, 4, 4], [4, 4, 4], [4, 4, 4], [4, 4], [4]]\n",
        "all examples: [ 44  45  46  68  69  70  71  72 287 288 289 290 291 425 426 427 428 429\n",
        "  94  95  96  97  98 275 276 277 278 279 312 313 314 315 316 415 416 417\n",
        " 418 419 114 115 116 117 118 262 263 264 265 266 326 327 328 329 330 401\n",
        " 402 403 404 405 135 136 137 138 139 248 249 250 251 252 339 340 341 342\n",
        " 343 390 391 392 393 394 151 152 153 154 155 234 235 236 237 238 378 379\n",
        " 380 381 382 166 167 168 169 170 220 221 222 223 224 365 366 367 368 369\n",
        " 180 181 182 183 184 208 209 210 211 212 193 194 195 196 197] ( 123 )\n",
        "ACCURACY:"
       ]
      },
      {
       "output_type": "stream",
       "stream": "stdout",
       "text": [
        " 0.895243439824\n",
        "[[45], [70, 289, 427], [96, 277, 314, 417], [116, 264, 328, 403], [137, 250, 341, 392], [153, 236, 380, 444], [168, 222, 367], [182, 210], [195]] [[2], [4, 4, 4], [4, 4, 4, 4], [4, 4, 4, 4], [4, 4, 4, 4], [4, 4, 4, 4], [4, 4, 4], [4, 4], [4]]\n",
        "number of classes: 9\n",
        "number of examples per class: [ 3 15 20 20 20 20 15 10  5]\n",
        "number of extra points per class: [[2], [4, 4, 4], [4, 4, 4, 4], [4, 4, 4, 4], [4, 4, 4, 4], [4, 4, 4, 4], [4, 4, 4], [4, 4], [4]]\n",
        "all examples: [ 44  45  46  68  69  70  71  72 287 288 289 290 291 425 426 427 428 429\n",
        "  94  95  96  97  98 275 276 277 278 279 312 313 314 315 316 415 416 417\n",
        " 418 419 114 115 116 117 118 262 263 264 265 266 326 327 328 329 330 401\n",
        " 402 403 404 405 135 136 137 138 139 248 249 250 251 252 339 340 341 342\n",
        " 343 390 391 392 393 394 151 152 153 154 155 234 235 236 237 238 378 379\n",
        " 380 381 382 442 443 444 445 446 166 167 168 169 170 220 221 222 223 224\n",
        " 365 366 367 368 369 180 181 182 183 184 208 209 210 211 212 193 194 195\n",
        " 196 197] ( 128 )\n",
        "ACCURACY:"
       ]
      },
      {
       "output_type": "stream",
       "stream": "stdout",
       "text": [
        " 0.903973153172\n",
        "[[45], [70, 289, 427], [96, 277, 314, 417], [116, 264, 328, 403], [137, 250, 341, 392], [153, 236, 380, 444], [168, 222, 367, 465], [182, 210], [195]] [[2], [4, 4, 4], [4, 4, 4, 4], [4, 4, 4, 4], [4, 4, 4, 4], [4, 4, 4, 4], [4, 4, 4, 4], [4, 4], [4]]\n",
        "number of classes: 9\n",
        "number of examples per class: [ 3 15 20 20 20 20 20 10  5]\n",
        "number of extra points per class: [[2], [4, 4, 4], [4, 4, 4, 4], [4, 4, 4, 4], [4, 4, 4, 4], [4, 4, 4, 4], [4, 4, 4, 4], [4, 4], [4]]\n",
        "all examples: [ 44  45  46  68  69  70  71  72 287 288 289 290 291 425 426 427 428 429\n",
        "  94  95  96  97  98 275 276 277 278 279 312 313 314 315 316 415 416 417\n",
        " 418 419 114 115 116 117 118 262 263 264 265 266 326 327 328 329 330 401\n",
        " 402 403 404 405 135 136 137 138 139 248 249 250 251 252 339 340 341 342\n",
        " 343 390 391 392 393 394 151 152 153 154 155 234 235 236 237 238 378 379\n",
        " 380 381 382 442 443 444 445 446 166 167 168 169 170 220 221 222 223 224\n",
        " 365 366 367 368 369 463 464 465 466 467 180 181 182 183 184 208 209 210\n",
        " 211 212 193 194 195 196 197] ( 133 )\n",
        "ACCURACY:"
       ]
      },
      {
       "output_type": "stream",
       "stream": "stdout",
       "text": [
        " 0.903973153172\n",
        "[[45], [70, 289, 427], [96, 277, 314, 417], [116, 264, 328, 403], [137, 250, 341, 392], [153, 236, 380, 444], [168, 222, 367, 465], [182, 210, 477], [195]] [[2], [4, 4, 4], [4, 4, 4, 4], [4, 4, 4, 4], [4, 4, 4, 4], [4, 4, 4, 4], [4, 4, 4, 4], [4, 4, 4], [4]]\n",
        "number of classes: 9\n",
        "number of examples per class: [ 3 15 20 20 20 20 20 15  5]\n",
        "number of extra points per class: [[2], [4, 4, 4], [4, 4, 4, 4], [4, 4, 4, 4], [4, 4, 4, 4], [4, 4, 4, 4], [4, 4, 4, 4], [4, 4, 4], [4]]\n",
        "all examples: [ 44  45  46  68  69  70  71  72 287 288 289 290 291 425 426 427 428 429\n",
        "  94  95  96  97  98 275 276 277 278 279 312 313 314 315 316 415 416 417\n",
        " 418 419 114 115 116 117 118 262 263 264 265 266 326 327 328 329 330 401\n",
        " 402 403 404 405 135 136 137 138 139 248 249 250 251 252 339 340 341 342\n",
        " 343 390 391 392 393 394 151 152 153 154 155 234 235 236 237 238 378 379\n",
        " 380 381 382 442 443 444 445 446 166 167 168 169 170 220 221 222 223 224\n",
        " 365 366 367 368 369 463 464 465 466 467 180 181 182 183 184 208 209 210\n",
        " 211 212 475 476 477 478 479 193 194 195 196 197] ( 138 )\n",
        "ACCURACY:"
       ]
      },
      {
       "output_type": "stream",
       "stream": "stdout",
       "text": [
        " 0.908338009846\n",
        "[[45], [70, 289, 427], [96, 277, 314, 417], [116, 264, 328, 403], [137, 250, 341, 392], [153, 236, 380, 444], [168, 222, 367, 465], [182, 210, 477], [195, 490]] [[2], [4, 4, 4], [4, 4, 4, 4], [4, 4, 4, 4], [4, 4, 4, 4], [4, 4, 4, 4], [4, 4, 4, 4], [4, 4, 4], [4, 4]]\n",
        "number of classes: 9\n",
        "number of examples per class: [ 3 15 20 20 20 20 20 15 10]\n",
        "number of extra points per class: [[2], [4, 4, 4], [4, 4, 4, 4], [4, 4, 4, 4], [4, 4, 4, 4], [4, 4, 4, 4], [4, 4, 4, 4], [4, 4, 4], [4, 4]]\n",
        "all examples: [ 44  45  46  68  69  70  71  72 287 288 289 290 291 425 426 427 428 429\n",
        "  94  95  96  97  98 275 276 277 278 279 312 313 314 315 316 415 416 417\n",
        " 418 419 114 115 116 117 118 262 263 264 265 266 326 327 328 329 330 401\n",
        " 402 403 404 405 135 136 137 138 139 248 249 250 251 252 339 340 341 342\n",
        " 343 390 391 392 393 394 151 152 153 154 155 234 235 236 237 238 378 379\n",
        " 380 381 382 442 443 444 445 446 166 167 168 169 170 220 221 222 223 224\n",
        " 365 366 367 368 369 463 464 465 466 467 180 181 182 183 184 208 209 210\n",
        " 211 212 475 476 477 478 479 193 194 195 196 197 488 489 490 491 492] ( 143 )\n",
        "ACCURACY:"
       ]
      },
      {
       "output_type": "stream",
       "stream": "stdout",
       "text": [
        " 0.903973153172\n",
        "[[45], [70, 289, 427], [96, 277, 314, 417], [116, 264, 328, 403], [137, 250, 341, 392], [153, 236, 380, 444, 512], [168, 222, 367, 465], [182, 210, 477], [195, 490]] [[2], [4, 4, 4], [4, 4, 4, 4], [4, 4, 4, 4], [4, 4, 4, 4], [4, 4, 4, 4, 4], [4, 4, 4, 4], [4, 4, 4], [4, 4]]\n",
        "number of classes: 9\n",
        "number of examples per class: [ 3 15 20 20 20 25 20 15 10]\n",
        "number of extra points per class: [[2], [4, 4, 4], [4, 4, 4, 4], [4, 4, 4, 4], [4, 4, 4, 4], [4, 4, 4, 4, 4], [4, 4, 4, 4], [4, 4, 4], [4, 4]]\n",
        "all examples: [ 44  45  46  68  69  70  71  72 287 288 289 290 291 425 426 427 428 429\n",
        "  94  95  96  97  98 275 276 277 278 279 312 313 314 315 316 415 416 417\n",
        " 418 419 114 115 116 117 118 262 263 264 265 266 326 327 328 329 330 401\n",
        " 402 403 404 405 135 136 137 138 139 248 249 250 251 252 339 340 341 342\n",
        " 343 390 391 392 393 394 151 152 153 154 155 234 235 236 237 238 378 379\n",
        " 380 381 382 442 443 444 445 446 510 511 512 513 514 166 167 168 169 170\n",
        " 220 221 222 223 224 365 366 367 368 369 463 464 465 466 467 180 181 182\n",
        " 183 184 208 209 210 211 212 475 476 477 478 479 193 194 195 196 197 488\n",
        " 489 490 491 492] ( 148 )\n",
        "ACCURACY:"
       ]
      },
      {
       "output_type": "stream",
       "stream": "stdout",
       "text": [
        " 0.91270286652\n",
        "[[45], [70, 289, 427], [96, 277, 314, 417], [116, 264, 328, 403], [137, 250, 341, 392, 523], [153, 236, 380, 444, 512], [168, 222, 367, 465], [182, 210, 477], [195, 490]] [[2], [4, 4, 4], [4, 4, 4, 4], [4, 4, 4, 4], [4, 4, 4, 4, 4], [4, 4, 4, 4, 4], [4, 4, 4, 4], [4, 4, 4], [4, 4]]\n",
        "number of classes: 9\n",
        "number of examples per class: [ 3 15 20 20 25 25 20 15 10]\n",
        "number of extra points per class: [[2], [4, 4, 4], [4, 4, 4, 4], [4, 4, 4, 4], [4, 4, 4, 4, 4], [4, 4, 4, 4, 4], [4, 4, 4, 4], [4, 4, 4], [4, 4]]\n",
        "all examples: [ 44  45  46  68  69  70  71  72 287 288 289 290 291 425 426 427 428 429\n",
        "  94  95  96  97  98 275 276 277 278 279 312 313 314 315 316 415 416 417\n",
        " 418 419 114 115 116 117 118 262 263 264 265 266 326 327 328 329 330 401\n",
        " 402 403 404 405 135 136 137 138 139 248 249 250 251 252 339 340 341 342\n",
        " 343 390 391 392 393 394 521 522 523 524 525 151 152 153 154 155 234 235\n",
        " 236 237 238 378 379 380 381 382 442 443 444 445 446 510 511 512 513 514\n",
        " 166 167 168 169 170 220 221 222 223 224 365 366 367 368 369 463 464 465\n",
        " 466 467 180 181 182 183 184 208 209 210 211 212 475 476 477 478 479 193\n",
        " 194 195 196 197 488 489 490 491 492] ( 153 )\n",
        "ACCURACY:"
       ]
      },
      {
       "output_type": "stream",
       "stream": "stdout",
       "text": [
        " 0.91270286652\n",
        "[[45], [70, 289, 427], [96, 277, 314, 417], [116, 264, 328, 403, 535], [137, 250, 341, 392, 523], [153, 236, 380, 444, 512], [168, 222, 367, 465], [182, 210, 477], [195, 490]] [[2], [4, 4, 4], [4, 4, 4, 4], [4, 4, 4, 4, 4], [4, 4, 4, 4, 4], [4, 4, 4, 4, 4], [4, 4, 4, 4], [4, 4, 4], [4, 4]]\n",
        "number of classes: 9\n",
        "number of examples per class: [ 3 15 20 25 25 25 20 15 10]\n",
        "number of extra points per class: [[2], [4, 4, 4], [4, 4, 4, 4], [4, 4, 4, 4, 4], [4, 4, 4, 4, 4], [4, 4, 4, 4, 4], [4, 4, 4, 4], [4, 4, 4], [4, 4]]\n",
        "all examples: [ 44  45  46  68  69  70  71  72 287 288 289 290 291 425 426 427 428 429\n",
        "  94  95  96  97  98 275 276 277 278 279 312 313 314 315 316 415 416 417\n",
        " 418 419 114 115 116 117 118 262 263 264 265 266 326 327 328 329 330 401\n",
        " 402 403 404 405 533 534 535 536 537 135 136 137 138 139 248 249 250 251\n",
        " 252 339 340 341 342 343 390 391 392 393 394 521 522 523 524 525 151 152\n",
        " 153 154 155 234 235 236 237 238 378 379 380 381 382 442 443 444 445 446\n",
        " 510 511 512 513 514 166 167 168 169 170 220 221 222 223 224 365 366 367\n",
        " 368 369 463 464 465 466 467 180 181 182 183 184 208 209 210 211 212 475\n",
        " 476 477 478 479 193 194 195 196 197 488 489 490 491 492] ( 158 )\n",
        "ACCURACY:"
       ]
      },
      {
       "output_type": "stream",
       "stream": "stdout",
       "text": [
        " 0.91270286652\n",
        "[[45], [70, 289, 427], [96, 277, 314, 417, 546], [116, 264, 328, 403, 535], [137, 250, 341, 392, 523], [153, 236, 380, 444, 512], [168, 222, 367, 465], [182, 210, 477], [195, 490]] [[2], [4, 4, 4], [4, 4, 4, 4, 4], [4, 4, 4, 4, 4], [4, 4, 4, 4, 4], [4, 4, 4, 4, 4], [4, 4, 4, 4], [4, 4, 4], [4, 4]]\n",
        "number of classes: 9\n",
        "number of examples per class: [ 3 15 25 25 25 25 20 15 10]\n",
        "number of extra points per class: [[2], [4, 4, 4], [4, 4, 4, 4, 4], [4, 4, 4, 4, 4], [4, 4, 4, 4, 4], [4, 4, 4, 4, 4], [4, 4, 4, 4], [4, 4, 4], [4, 4]]\n",
        "all examples: [ 44  45  46  68  69  70  71  72 287 288 289 290 291 425 426 427 428 429\n",
        "  94  95  96  97  98 275 276 277 278 279 312 313 314 315 316 415 416 417\n",
        " 418 419 544 545 546 547 548 114 115 116 117 118 262 263 264 265 266 326\n",
        " 327 328 329 330 401 402 403 404 405 533 534 535 536 537 135 136 137 138\n",
        " 139 248 249 250 251 252 339 340 341 342 343 390 391 392 393 394 521 522\n",
        " 523 524 525 151 152 153 154 155 234 235 236 237 238 378 379 380 381 382\n",
        " 442 443 444 445 446 510 511 512 513 514 166 167 168 169 170 220 221 222\n",
        " 223 224 365 366 367 368 369 463 464 465 466 467 180 181 182 183 184 208\n",
        " 209 210 211 212 475 476 477 478 479 193 194 195 196 197 488 489 490 491\n",
        " 492] ( 163 )\n",
        "ACCURACY:"
       ]
      },
      {
       "output_type": "stream",
       "stream": "stdout",
       "text": [
        " 0.917067723194\n",
        "[[45], [70, 289, 427, 558], [96, 277, 314, 417, 546], [116, 264, 328, 403, 535], [137, 250, 341, 392, 523], [153, 236, 380, 444, 512], [168, 222, 367, 465], [182, 210, 477], [195, 490]] [[2], [4, 4, 4, 4], [4, 4, 4, 4, 4], [4, 4, 4, 4, 4], [4, 4, 4, 4, 4], [4, 4, 4, 4, 4], [4, 4, 4, 4], [4, 4, 4], [4, 4]]\n",
        "number of classes: 9\n",
        "number of examples per class: [ 3 20 25 25 25 25 20 15 10]\n",
        "number of extra points per class: [[2], [4, 4, 4, 4], [4, 4, 4, 4, 4], [4, 4, 4, 4, 4], [4, 4, 4, 4, 4], [4, 4, 4, 4, 4], [4, 4, 4, 4], [4, 4, 4], [4, 4]]\n",
        "all examples: [ 44  45  46  68  69  70  71  72 287 288 289 290 291 425 426 427 428 429\n",
        " 556 557 558 559 560  94  95  96  97  98 275 276 277 278 279 312 313 314\n",
        " 315 316 415 416 417 418 419 544 545 546 547 548 114 115 116 117 118 262\n",
        " 263 264 265 266 326 327 328 329 330 401 402 403 404 405 533 534 535 536\n",
        " 537 135 136 137 138 139 248 249 250 251 252 339 340 341 342 343 390 391\n",
        " 392 393 394 521 522 523 524 525 151 152 153 154 155 234 235 236 237 238\n",
        " 378 379 380 381 382 442 443 444 445 446 510 511 512 513 514 166 167 168\n",
        " 169 170 220 221 222 223 224 365 366 367 368 369 463 464 465 466 467 180\n",
        " 181 182 183 184 208 209 210 211 212 475 476 477 478 479 193 194 195 196\n",
        " 197 488 489 490 491 492] ( 168 )\n",
        "ACCURACY:"
       ]
      },
      {
       "output_type": "stream",
       "stream": "stdout",
       "text": [
        " 0.938892006564\n",
        "[[45], [70, 289, 427, 558], [96, 277, 314, 417, 546, 568], [116, 264, 328, 403, 535], [137, 250, 341, 392, 523], [153, 236, 380, 444, 512], [168, 222, 367, 465], [182, 210, 477], [195, 490]] [[2], [4, 4, 4, 4], [4, 4, 4, 4, 4, 4], [4, 4, 4, 4, 4], [4, 4, 4, 4, 4], [4, 4, 4, 4, 4], [4, 4, 4, 4], [4, 4, 4], [4, 4]]\n",
        "number of classes: 9\n",
        "number of examples per class: [ 3 20 30 25 25 25 20 15 10]\n",
        "number of extra points per class: [[2], [4, 4, 4, 4], [4, 4, 4, 4, 4, 4], [4, 4, 4, 4, 4], [4, 4, 4, 4, 4], [4, 4, 4, 4, 4], [4, 4, 4, 4], [4, 4, 4], [4, 4]]\n",
        "all examples: [ 44  45  46  68  69  70  71  72 287 288 289 290 291 425 426 427 428 429\n",
        " 556 557 558 559 560  94  95  96  97  98 275 276 277 278 279 312 313 314\n",
        " 315 316 415 416 417 418 419 544 545 546 547 548 566 567 568 569 570 114\n",
        " 115 116 117 118 262 263 264 265 266 326 327 328 329 330 401 402 403 404\n",
        " 405 533 534 535 536 537 135 136 137 138 139 248 249 250 251 252 339 340\n",
        " 341 342 343 390 391 392 393 394 521 522 523 524 525 151 152 153 154 155\n",
        " 234 235 236 237 238 378 379 380 381 382 442 443 444 445 446 510 511 512\n",
        " 513 514 166 167 168 169 170 220 221 222 223 224 365 366 367 368 369 463\n",
        " 464 465 466 467 180 181 182 183 184 208 209 210 211 212 475 476 477 478\n",
        " 479 193 194 195 196 197 488 489 490 491 492] ( 173 )\n",
        "ACCURACY:"
       ]
      },
      {
       "output_type": "stream",
       "stream": "stdout",
       "text": [
        " 0.93452714989\n",
        "[[45], [70, 289, 427, 558], [96, 277, 314, 417, 546, 568], [116, 264, 328, 403, 535, 580], [137, 250, 341, 392, 523], [153, 236, 380, 444, 512], [168, 222, 367, 465], [182, 210, 477], [195, 490]] [[2], [4, 4, 4, 4], [4, 4, 4, 4, 4, 4], [4, 4, 4, 4, 4, 4], [4, 4, 4, 4, 4], [4, 4, 4, 4, 4], [4, 4, 4, 4], [4, 4, 4], [4, 4]]\n",
        "number of classes: 9\n",
        "number of examples per class: [ 3 20 30 30 25 25 20 15 10]\n",
        "number of extra points per class: [[2], [4, 4, 4, 4], [4, 4, 4, 4, 4, 4], [4, 4, 4, 4, 4, 4], [4, 4, 4, 4, 4], [4, 4, 4, 4, 4], [4, 4, 4, 4], [4, 4, 4], [4, 4]]\n",
        "all examples: [ 44  45  46  68  69  70  71  72 287 288 289 290 291 425 426 427 428 429\n",
        " 556 557 558 559 560  94  95  96  97  98 275 276 277 278 279 312 313 314\n",
        " 315 316 415 416 417 418 419 544 545 546 547 548 566 567 568 569 570 114\n",
        " 115 116 117 118 262 263 264 265 266 326 327 328 329 330 401 402 403 404\n",
        " 405 533 534 535 536 537 578 579 580 581 582 135 136 137 138 139 248 249\n",
        " 250 251 252 339 340 341 342 343 390 391 392 393 394 521 522 523 524 525\n",
        " 151 152 153 154 155 234 235 236 237 238 378 379 380 381 382 442 443 444\n",
        " 445 446 510 511 512 513 514 166 167 168 169 170 220 221 222 223 224 365\n",
        " 366 367 368 369 463 464 465 466 467 180 181 182 183 184 208 209 210 211\n",
        " 212 475 476 477 478 479 193 194 195 196 197 488 489 490 491 492] ( 178 )\n",
        "ACCURACY:"
       ]
      },
      {
       "output_type": "stream",
       "stream": "stdout",
       "text": [
        " 0.93452714989\n",
        "[[45], [70, 289, 427, 558], [96, 277, 314, 417, 546, 568], [116, 264, 328, 403, 535, 580], [137, 250, 341, 392, 523, 593], [153, 236, 380, 444, 512], [168, 222, 367, 465], [182, 210, 477], [195, 490]] [[2], [4, 4, 4, 4], [4, 4, 4, 4, 4, 4], [4, 4, 4, 4, 4, 4], [4, 4, 4, 4, 4, 4], [4, 4, 4, 4, 4], [4, 4, 4, 4], [4, 4, 4], [4, 4]]\n",
        "number of classes: 9\n",
        "number of examples per class: [ 3 20 30 30 30 25 20 15 10]\n",
        "number of extra points per class: [[2], [4, 4, 4, 4], [4, 4, 4, 4, 4, 4], [4, 4, 4, 4, 4, 4], [4, 4, 4, 4, 4, 4], [4, 4, 4, 4, 4], [4, 4, 4, 4], [4, 4, 4], [4, 4]]\n",
        "all examples: [ 44  45  46  68  69  70  71  72 287 288 289 290 291 425 426 427 428 429\n",
        " 556 557 558 559 560  94  95  96  97  98 275 276 277 278 279 312 313 314\n",
        " 315 316 415 416 417 418 419 544 545 546 547 548 566 567 568 569 570 114\n",
        " 115 116 117 118 262 263 264 265 266 326 327 328 329 330 401 402 403 404\n",
        " 405 533 534 535 536 537 578 579 580 581 582 135 136 137 138 139 248 249\n",
        " 250 251 252 339 340 341 342 343 390 391 392 393 394 521 522 523 524 525\n",
        " 591 592 593 594 595 151 152 153 154 155 234 235 236 237 238 378 379 380\n",
        " 381 382 442 443 444 445 446 510 511 512 513 514 166 167 168 169 170 220\n",
        " 221 222 223 224 365 366 367 368 369 463 464 465 466 467 180 181 182 183\n",
        " 184 208 209 210 211 212 475 476 477 478 479 193 194 195 196 197 488 489\n",
        " 490 491 492] ( 183 )\n",
        "ACCURACY:"
       ]
      },
      {
       "output_type": "stream",
       "stream": "stdout",
       "text": [
        " 0.93452714989\n",
        "[[45], [70, 289, 427, 558], [96, 277, 314, 417, 546, 568], [116, 264, 328, 403, 535, 580], [137, 250, 341, 392, 523, 593], [153, 236, 380, 444, 512, 604], [168, 222, 367, 465], [182, 210, 477], [195, 490]] [[2], [4, 4, 4, 4], [4, 4, 4, 4, 4, 4], [4, 4, 4, 4, 4, 4], [4, 4, 4, 4, 4, 4], [4, 4, 4, 4, 4, 4], [4, 4, 4, 4], [4, 4, 4], [4, 4]]\n",
        "number of classes: 9\n",
        "number of examples per class: [ 3 20 30 30 30 30 20 15 10]\n",
        "number of extra points per class: [[2], [4, 4, 4, 4], [4, 4, 4, 4, 4, 4], [4, 4, 4, 4, 4, 4], [4, 4, 4, 4, 4, 4], [4, 4, 4, 4, 4, 4], [4, 4, 4, 4], [4, 4, 4], [4, 4]]\n",
        "all examples: [ 44  45  46  68  69  70  71  72 287 288 289 290 291 425 426 427 428 429\n",
        " 556 557 558 559 560  94  95  96  97  98 275 276 277 278 279 312 313 314\n",
        " 315 316 415 416 417 418 419 544 545 546 547 548 566 567 568 569 570 114\n",
        " 115 116 117 118 262 263 264 265 266 326 327 328 329 330 401 402 403 404\n",
        " 405 533 534 535 536 537 578 579 580 581 582 135 136 137 138 139 248 249\n",
        " 250 251 252 339 340 341 342 343 390 391 392 393 394 521 522 523 524 525\n",
        " 591 592 593 594 595 151 152 153 154 155 234 235 236 237 238 378 379 380\n",
        " 381 382 442 443 444 445 446 510 511 512 513 514 602 603 604 605 606 166\n",
        " 167 168 169 170 220 221 222 223 224 365 366 367 368 369 463 464 465 466\n",
        " 467 180 181 182 183 184 208 209 210 211 212 475 476 477 478 479 193 194\n",
        " 195 196 197 488 489 490 491 492] ( 188 )\n",
        "ACCURACY:"
       ]
      },
      {
       "output_type": "stream",
       "stream": "stdout",
       "text": [
        " 0.93452714989\n",
        "[[45], [70, 289, 427, 558], [96, 277, 314, 417, 546, 568], [116, 264, 328, 403, 535, 580], [137, 250, 341, 392, 523, 593], [153, 236, 380, 444, 512, 604], [168, 222, 367, 465, 617], [182, 210, 477], [195, 490]] [[2], [4, 4, 4, 4], [4, 4, 4, 4, 4, 4], [4, 4, 4, 4, 4, 4], [4, 4, 4, 4, 4, 4], [4, 4, 4, 4, 4, 4], [4, 4, 4, 4, 4], [4, 4, 4], [4, 4]]\n",
        "number of classes: 9\n",
        "number of examples per class: [ 3 20 30 30 30 30 25 15 10]\n",
        "number of extra points per class: [[2], [4, 4, 4, 4], [4, 4, 4, 4, 4, 4], [4, 4, 4, 4, 4, 4], [4, 4, 4, 4, 4, 4], [4, 4, 4, 4, 4, 4], [4, 4, 4, 4, 4], [4, 4, 4], [4, 4]]\n",
        "all examples: [ 44  45  46  68  69  70  71  72 287 288 289 290 291 425 426 427 428 429\n",
        " 556 557 558 559 560  94  95  96  97  98 275 276 277 278 279 312 313 314\n",
        " 315 316 415 416 417 418 419 544 545 546 547 548 566 567 568 569 570 114\n",
        " 115 116 117 118 262 263 264 265 266 326 327 328 329 330 401 402 403 404\n",
        " 405 533 534 535 536 537 578 579 580 581 582 135 136 137 138 139 248 249\n",
        " 250 251 252 339 340 341 342 343 390 391 392 393 394 521 522 523 524 525\n",
        " 591 592 593 594 595 151 152 153 154 155 234 235 236 237 238 378 379 380\n",
        " 381 382 442 443 444 445 446 510 511 512 513 514 602 603 604 605 606 166\n",
        " 167 168 169 170 220 221 222 223 224 365 366 367 368 369 463 464 465 466\n",
        " 467 615 616 617 618 619 180 181 182 183 184 208 209 210 211 212 475 476\n",
        " 477 478 479 193 194 195 196 197 488 489 490 491 492] ( 193 )\n",
        "ACCURACY:"
       ]
      },
      {
       "output_type": "stream",
       "stream": "stdout",
       "text": [
        " 0.93452714989\n",
        "[[45], [70, 289, 427, 558], [96, 277, 314, 417, 546, 568], [116, 264, 328, 403, 535, 580], [137, 250, 341, 392, 523, 593], [153, 236, 380, 444, 512, 604], [168, 222, 367, 465, 617], [182, 210, 477, 630], [195, 490]] [[2], [4, 4, 4, 4], [4, 4, 4, 4, 4, 4], [4, 4, 4, 4, 4, 4], [4, 4, 4, 4, 4, 4], [4, 4, 4, 4, 4, 4], [4, 4, 4, 4, 4], [4, 4, 4, 4], [4, 4]]\n",
        "number of classes: 9\n",
        "number of examples per class: [ 3 20 30 30 30 30 25 20 10]\n",
        "number of extra points per class: [[2], [4, 4, 4, 4], [4, 4, 4, 4, 4, 4], [4, 4, 4, 4, 4, 4], [4, 4, 4, 4, 4, 4], [4, 4, 4, 4, 4, 4], [4, 4, 4, 4, 4], [4, 4, 4, 4], [4, 4]]\n",
        "all examples: [ 44  45  46  68  69  70  71  72 287 288 289 290 291 425 426 427 428 429\n",
        " 556 557 558 559 560  94  95  96  97  98 275 276 277 278 279 312 313 314\n",
        " 315 316 415 416 417 418 419 544 545 546 547 548 566 567 568 569 570 114\n",
        " 115 116 117 118 262 263 264 265 266 326 327 328 329 330 401 402 403 404\n",
        " 405 533 534 535 536 537 578 579 580 581 582 135 136 137 138 139 248 249\n",
        " 250 251 252 339 340 341 342 343 390 391 392 393 394 521 522 523 524 525\n",
        " 591 592 593 594 595 151 152 153 154 155 234 235 236 237 238 378 379 380\n",
        " 381 382 442 443 444 445 446 510 511 512 513 514 602 603 604 605 606 166\n",
        " 167 168 169 170 220 221 222 223 224 365 366 367 368 369 463 464 465 466\n",
        " 467 615 616 617 618 619 180 181 182 183 184 208 209 210 211 212 475 476\n",
        " 477 478 479 628 629 630 631 632 193 194 195 196 197 488 489 490 491 492] ( 198 )\n",
        "ACCURACY:"
       ]
      },
      {
       "output_type": "stream",
       "stream": "stdout",
       "text": [
        " 0.93452714989\n",
        "[[45], [70, 289, 427, 558], [96, 277, 314, 417, 546, 568], [116, 264, 328, 403, 535, 580], [137, 250, 341, 392, 523, 593], [153, 236, 380, 444, 512, 604], [168, 222, 367, 465, 617], [182, 210, 477, 630], [195, 490, 642]] [[2], [4, 4, 4, 4], [4, 4, 4, 4, 4, 4], [4, 4, 4, 4, 4, 4], [4, 4, 4, 4, 4, 4], [4, 4, 4, 4, 4, 4], [4, 4, 4, 4, 4], [4, 4, 4, 4], [4, 4, 4]]\n",
        "number of classes: 9\n",
        "number of examples per class: [ 3 20 30 30 30 30 25 20 15]\n",
        "number of extra points per class: [[2], [4, 4, 4, 4], [4, 4, 4, 4, 4, 4], [4, 4, 4, 4, 4, 4], [4, 4, 4, 4, 4, 4], [4, 4, 4, 4, 4, 4], [4, 4, 4, 4, 4], [4, 4, 4, 4], [4, 4, 4]]\n",
        "all examples: [ 44  45  46  68  69  70  71  72 287 288 289 290 291 425 426 427 428 429\n",
        " 556 557 558 559 560  94  95  96  97  98 275 276 277 278 279 312 313 314\n",
        " 315 316 415 416 417 418 419 544 545 546 547 548 566 567 568 569 570 114\n",
        " 115 116 117 118 262 263 264 265 266 326 327 328 329 330 401 402 403 404\n",
        " 405 533 534 535 536 537 578 579 580 581 582 135 136 137 138 139 248 249\n",
        " 250 251 252 339 340 341 342 343 390 391 392 393 394 521 522 523 524 525\n",
        " 591 592 593 594 595 151 152 153 154 155 234 235 236 237 238 378 379 380\n",
        " 381 382 442 443 444 445 446 510 511 512 513 514 602 603 604 605 606 166\n",
        " 167 168 169 170 220 221 222 223 224 365 366 367 368 369 463 464 465 466\n",
        " 467 615 616 617 618 619 180 181 182 183 184 208 209 210 211 212 475 476\n",
        " 477 478 479 628 629 630 631 632 193 194 195 196 197 488 489 490 491 492\n",
        " 640 641 642 643 644] ( 203 )\n",
        "ACCURACY:"
       ]
      },
      {
       "output_type": "stream",
       "stream": "stdout",
       "text": [
        " 0.93452714989\n",
        "[[45], [70, 289, 427, 558], [96, 277, 314, 417, 546, 568], [116, 264, 328, 403, 535, 580], [137, 250, 341, 392, 523, 593], [153, 236, 380, 444, 512, 604], [168, 222, 367, 465, 617], [182, 210, 477, 630, 655], [195, 490, 642]] [[2], [4, 4, 4, 4], [4, 4, 4, 4, 4, 4], [4, 4, 4, 4, 4, 4], [4, 4, 4, 4, 4, 4], [4, 4, 4, 4, 4, 4], [4, 4, 4, 4, 4], [4, 4, 4, 4, 4], [4, 4, 4]]\n",
        "number of classes: 9\n",
        "number of examples per class: [ 3 20 30 30 30 30 25 25 15]\n",
        "number of extra points per class: [[2], [4, 4, 4, 4], [4, 4, 4, 4, 4, 4], [4, 4, 4, 4, 4, 4], [4, 4, 4, 4, 4, 4], [4, 4, 4, 4, 4, 4], [4, 4, 4, 4, 4], [4, 4, 4, 4, 4], [4, 4, 4]]\n",
        "all examples: [ 44  45  46  68  69  70  71  72 287 288 289 290 291 425 426 427 428 429\n",
        " 556 557 558 559 560  94  95  96  97  98 275 276 277 278 279 312 313 314\n",
        " 315 316 415 416 417 418 419 544 545 546 547 548 566 567 568 569 570 114\n",
        " 115 116 117 118 262 263 264 265 266 326 327 328 329 330 401 402 403 404\n",
        " 405 533 534 535 536 537 578 579 580 581 582 135 136 137 138 139 248 249\n",
        " 250 251 252 339 340 341 342 343 390 391 392 393 394 521 522 523 524 525\n",
        " 591 592 593 594 595 151 152 153 154 155 234 235 236 237 238 378 379 380\n",
        " 381 382 442 443 444 445 446 510 511 512 513 514 602 603 604 605 606 166\n",
        " 167 168 169 170 220 221 222 223 224 365 366 367 368 369 463 464 465 466\n",
        " 467 615 616 617 618 619 180 181 182 183 184 208 209 210 211 212 475 476\n",
        " 477 478 479 628 629 630 631 632 653 654 655 656 657 193 194 195 196 197\n",
        " 488 489 490 491 492 640 641 642 643 644] ( 208 )\n",
        "ACCURACY:"
       ]
      },
      {
       "output_type": "stream",
       "stream": "stdout",
       "text": [
        " 0.93452714989\n",
        "[[45], [70, 289, 427, 558], [96, 277, 314, 417, 546, 568], [116, 264, 328, 403, 535, 580], [137, 250, 341, 392, 523, 593], [153, 236, 380, 444, 512, 604], [168, 222, 367, 465, 617, 667], [182, 210, 477, 630, 655], [195, 490, 642]] [[2], [4, 4, 4, 4], [4, 4, 4, 4, 4, 4], [4, 4, 4, 4, 4, 4], [4, 4, 4, 4, 4, 4], [4, 4, 4, 4, 4, 4], [4, 4, 4, 4, 4, 4], [4, 4, 4, 4, 4], [4, 4, 4]]\n",
        "number of classes: 9\n",
        "number of examples per class: [ 3 20 30 30 30 30 30 25 15]\n",
        "number of extra points per class: [[2], [4, 4, 4, 4], [4, 4, 4, 4, 4, 4], [4, 4, 4, 4, 4, 4], [4, 4, 4, 4, 4, 4], [4, 4, 4, 4, 4, 4], [4, 4, 4, 4, 4, 4], [4, 4, 4, 4, 4], [4, 4, 4]]\n",
        "all examples: [ 44  45  46  68  69  70  71  72 287 288 289 290 291 425 426 427 428 429\n",
        " 556 557 558 559 560  94  95  96  97  98 275 276 277 278 279 312 313 314\n",
        " 315 316 415 416 417 418 419 544 545 546 547 548 566 567 568 569 570 114\n",
        " 115 116 117 118 262 263 264 265 266 326 327 328 329 330 401 402 403 404\n",
        " 405 533 534 535 536 537 578 579 580 581 582 135 136 137 138 139 248 249\n",
        " 250 251 252 339 340 341 342 343 390 391 392 393 394 521 522 523 524 525\n",
        " 591 592 593 594 595 151 152 153 154 155 234 235 236 237 238 378 379 380\n",
        " 381 382 442 443 444 445 446 510 511 512 513 514 602 603 604 605 606 166\n",
        " 167 168 169 170 220 221 222 223 224 365 366 367 368 369 463 464 465 466\n",
        " 467 615 616 617 618 619 665 666 667 668 669 180 181 182 183 184 208 209\n",
        " 210 211 212 475 476 477 478 479 628 629 630 631 632 653 654 655 656 657\n",
        " 193 194 195 196 197 488 489 490 491 492 640 641 642 643 644] ( 213 )\n",
        "ACCURACY:"
       ]
      },
      {
       "output_type": "stream",
       "stream": "stdout",
       "text": [
        " 0.938892006564\n",
        "[[45], [70, 289, 427, 558], [96, 277, 314, 417, 546, 568], [116, 264, 328, 403, 535, 580], [137, 250, 341, 392, 523, 593, 679], [153, 236, 380, 444, 512, 604], [168, 222, 367, 465, 617, 667], [182, 210, 477, 630, 655], [195, 490, 642]] [[2], [4, 4, 4, 4], [4, 4, 4, 4, 4, 4], [4, 4, 4, 4, 4, 4], [4, 4, 4, 4, 4, 4, 4], [4, 4, 4, 4, 4, 4], [4, 4, 4, 4, 4, 4], [4, 4, 4, 4, 4], [4, 4, 4]]\n",
        "number of classes: 9\n",
        "number of examples per class: [ 3 20 30 30 35 30 30 25 15]\n",
        "number of extra points per class: [[2], [4, 4, 4, 4], [4, 4, 4, 4, 4, 4], [4, 4, 4, 4, 4, 4], [4, 4, 4, 4, 4, 4, 4], [4, 4, 4, 4, 4, 4], [4, 4, 4, 4, 4, 4], [4, 4, 4, 4, 4], [4, 4, 4]]\n",
        "all examples: [ 44  45  46  68  69  70  71  72 287 288 289 290 291 425 426 427 428 429\n",
        " 556 557 558 559 560  94  95  96  97  98 275 276 277 278 279 312 313 314\n",
        " 315 316 415 416 417 418 419 544 545 546 547 548 566 567 568 569 570 114\n",
        " 115 116 117 118 262 263 264 265 266 326 327 328 329 330 401 402 403 404\n",
        " 405 533 534 535 536 537 578 579 580 581 582 135 136 137 138 139 248 249\n",
        " 250 251 252 339 340 341 342 343 390 391 392 393 394 521 522 523 524 525\n",
        " 591 592 593 594 595 677 678 679 680 681 151 152 153 154 155 234 235 236\n",
        " 237 238 378 379 380 381 382 442 443 444 445 446 510 511 512 513 514 602\n",
        " 603 604 605 606 166 167 168 169 170 220 221 222 223 224 365 366 367 368\n",
        " 369 463 464 465 466 467 615 616 617 618 619 665 666 667 668 669 180 181\n",
        " 182 183 184 208 209 210 211 212 475 476 477 478 479 628 629 630 631 632\n",
        " 653 654 655 656 657 193 194 195 196 197 488 489 490 491 492 640 641 642\n",
        " 643 644] ( 218 )\n",
        "ACCURACY:"
       ]
      },
      {
       "output_type": "stream",
       "stream": "stdout",
       "text": [
        " 0.951986576586\n"
       ]
      }
     ],
     "prompt_number": 7
    },
    {
     "cell_type": "code",
     "collapsed": false,
     "input": [
      "figure(\"accuracy\")\n",
      "if dataset == \"toy_quick\" :\n",
      "    plot(propagationTimings, propagationAccuracy, linestyle='-', color=\"#eb0000\", linewidth=4)\n",
      "    plot(anvilTimings, anvilAccuracy, linestyle='--', color=\"#eb0000\", linewidth=3)\n",
      "elif dataset == \"candle2/stabilized\" :\n",
      "    plot(propagationTimings, propagationAccuracy, linestyle='-', color=\"#0000eb\", linewidth=4)\n",
      "    plot(anvilTimings, anvilAccuracy, linestyle='--', color=\"#0000eb\", linewidth=3)\n",
      "ylim([0, 1])"
     ],
     "language": "python",
     "metadata": {},
     "outputs": [
      {
       "metadata": {},
       "output_type": "pyout",
       "prompt_number": 8,
       "text": [
        "(0, 1)"
       ]
      }
     ],
     "prompt_number": 8
    },
    {
     "cell_type": "code",
     "collapsed": false,
     "input": [
      "xlabel(\"Time[secs]\", fontsize=25)\n",
      "ylabel(\"Precision\", fontsize=25)"
     ],
     "language": "python",
     "metadata": {},
     "outputs": [
      {
       "metadata": {},
       "output_type": "pyout",
       "prompt_number": 30,
       "text": [
        "<matplotlib.text.Text at 0x7fb140fdeb90>"
       ]
      }
     ],
     "prompt_number": 30
    },
    {
     "cell_type": "code",
     "collapsed": false,
     "input": [
      "font = {'family' : 'serif',\n",
      "        'weight' : 'bold',\n",
      "        'size'   : 18}\n",
      "\n",
      "matplotlib.rc('font', **font)"
     ],
     "language": "python",
     "metadata": {},
     "outputs": [],
     "prompt_number": 14
    },
    {
     "cell_type": "code",
     "collapsed": false,
     "input": [
      "figure(\"bob\", figsize=(15, 6), dpi=100)\n",
      "if dataset == \"toy_quick\" :\n",
      "    plot(propagationTimings, propagationAccuracy, linestyle='-', color=\"#eb0000\", linewidth=4, label=\"US Toy\")\n",
      "    plot(anvilTimings, anvilAccuracy, linestyle='--', color=\"#eb0000\", linewidth=3, label=\"ANVIL Toy\")\n",
      "elif dataset == \"candle2/stabilized\" :\n",
      "    plot(propagationTimings, propagationAccuracy, linestyle='-', color=\"#0000eb\", linewidth=4, label=\"US Candle\")\n",
      "    plot(anvilTimings, anvilAccuracy, linestyle='--', color=\"#0000eb\", linewidth=3, label=\"ANVIL Candle\")\n",
      "ylim([0, 1])\n",
      "xlabel(\"Time[secs]\", fontsize=25)\n",
      "ylabel(\"Precision\", fontsize=25)\n",
      "tight_layout()\n",
      "legend(loc=4)"
     ],
     "language": "python",
     "metadata": {},
     "outputs": [
      {
       "metadata": {},
       "output_type": "pyout",
       "prompt_number": 22,
       "text": [
        "<matplotlib.legend.Legend at 0x7f82a7d1fc90>"
       ]
      }
     ],
     "prompt_number": 22
    },
    {
     "cell_type": "code",
     "collapsed": false,
     "input": [],
     "language": "python",
     "metadata": {},
     "outputs": []
    }
   ],
   "metadata": {}
  }
 ]
}